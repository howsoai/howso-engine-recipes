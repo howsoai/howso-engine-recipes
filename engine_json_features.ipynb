{
 "cells": [
  {
   "cell_type": "markdown",
   "metadata": {},
   "source": [
    "# Howso Engine &#x2014; JSON/YAML as Features\n",
    "\n",
    "#### &#x26A0; Experimental &#x26A0; - This feature is considered experimental and may be unstable.\n",
    "\n",
    "## Overview\n",
    "\n",
    "This notebook provides an overview of using JSON/YAML as features in a Trainee to represent complex data structures in a single feature."
   ]
  },
  {
   "cell_type": "code",
   "execution_count": 1,
   "metadata": {},
   "outputs": [],
   "source": [
    "import pandas as pd\n",
    "\n",
    "from howso.engine import Trainee\n",
    "from howso.utilities import infer_feature_attributes"
   ]
  },
  {
   "cell_type": "markdown",
   "metadata": {},
   "source": [
    "## 1. Load Data\n",
    "\n",
    "We use a small, toy-dataset to demonstrate this functionality where each case represents a character in a game."
   ]
  },
  {
   "cell_type": "code",
   "execution_count": 2,
   "metadata": {},
   "outputs": [
    {
     "data": {
      "text/html": [
       "<div>\n",
       "<style scoped>\n",
       "    .dataframe tbody tr th:only-of-type {\n",
       "        vertical-align: middle;\n",
       "    }\n",
       "\n",
       "    .dataframe tbody tr th {\n",
       "        vertical-align: top;\n",
       "    }\n",
       "\n",
       "    .dataframe thead th {\n",
       "        text-align: right;\n",
       "    }\n",
       "</style>\n",
       "<table border=\"1\" class=\"dataframe\">\n",
       "  <thead>\n",
       "    <tr style=\"text-align: right;\">\n",
       "      <th></th>\n",
       "      <th>name</th>\n",
       "      <th>level</th>\n",
       "      <th>class</th>\n",
       "      <th>inventory</th>\n",
       "    </tr>\n",
       "  </thead>\n",
       "  <tbody>\n",
       "    <tr>\n",
       "      <th>0</th>\n",
       "      <td>Nerissa</td>\n",
       "      <td>14</td>\n",
       "      <td>Fighter</td>\n",
       "      <td>{\"saddle\": 1, \"trident\": 2, \"potion\": 5}</td>\n",
       "    </tr>\n",
       "    <tr>\n",
       "      <th>1</th>\n",
       "      <td>Maaya</td>\n",
       "      <td>13</td>\n",
       "      <td>Warlock</td>\n",
       "      <td>{\"sword\": 1, \"lute\": 1, \"potion\": 2}</td>\n",
       "    </tr>\n",
       "    <tr>\n",
       "      <th>2</th>\n",
       "      <td>Taxuul</td>\n",
       "      <td>15</td>\n",
       "      <td>Cleric</td>\n",
       "      <td>{\"hammer\": 1, \"metal bar\": 20, \"potion\": 1}</td>\n",
       "    </tr>\n",
       "  </tbody>\n",
       "</table>\n",
       "</div>"
      ],
      "text/plain": [
       "      name  level    class                                    inventory\n",
       "0  Nerissa     14  Fighter     {\"saddle\": 1, \"trident\": 2, \"potion\": 5}\n",
       "1    Maaya     13  Warlock         {\"sword\": 1, \"lute\": 1, \"potion\": 2}\n",
       "2   Taxuul     15   Cleric  {\"hammer\": 1, \"metal bar\": 20, \"potion\": 1}"
      ]
     },
     "execution_count": 2,
     "metadata": {},
     "output_type": "execute_result"
    }
   ],
   "source": [
    "data = pd.DataFrame([\n",
    "    {\"name\": \"Nerissa\", \"level\": 14, \"class\": \"Fighter\", \"inventory\": \"{\\\"saddle\\\": 1, \\\"trident\\\": 2, \\\"potion\\\": 5}\"},\n",
    "    {\"name\": \"Maaya\", \"level\": 13, \"class\": \"Warlock\", \"inventory\": \"{\\\"sword\\\": 1, \\\"lute\\\": 1, \\\"potion\\\": 2}\"},\n",
    "    {\"name\": \"Taxuul\", \"level\": 15, \"class\": \"Cleric\", \"inventory\": \"{\\\"hammer\\\": 1, \\\"metal bar\\\": 20, \\\"potion\\\": 1}\"},\n",
    "])\n",
    "\n",
    "data"
   ]
  },
  {
   "cell_type": "markdown",
   "metadata": {},
   "source": [
    "## 2. Infer Feature Attributes\n",
    "\n",
    "We pre-specify the feature-attributes for the ``inventory`` feature, which we want to be treated as JSON."
   ]
  },
  {
   "cell_type": "code",
   "execution_count": 3,
   "metadata": {},
   "outputs": [
    {
     "data": {
      "text/plain": [
       "{'inventory': {'type': 'continuous',\n",
       "  'original_type': {'data_type': 'string'},\n",
       "  'data_type': 'json'},\n",
       " 'name': {'type': 'nominal', 'original_type': {'data_type': 'string'}},\n",
       " 'level': {'type': 'continuous',\n",
       "  'decimal_places': 0,\n",
       "  'original_type': {'data_type': 'integer', 'size': 8},\n",
       "  'bounds': {'min': 7.38905609893065,\n",
       "   'max': 20.085536923187668,\n",
       "   'allow_null': False}},\n",
       " 'class': {'type': 'nominal', 'original_type': {'data_type': 'string'}}}"
      ]
     },
     "execution_count": 3,
     "metadata": {},
     "output_type": "execute_result"
    }
   ],
   "source": [
    "features = infer_feature_attributes(\n",
    "    data,\n",
    "    features={\"inventory\": {\"type\": \"continuous\", \"data_type\": \"json\"}})\n",
    "\n",
    "features"
   ]
  },
  {
   "cell_type": "markdown",
   "metadata": {},
   "source": [
    "## 3. Train & Analyze Data"
   ]
  },
  {
   "cell_type": "code",
   "execution_count": 4,
   "metadata": {},
   "outputs": [
    {
     "name": "stderr",
     "output_type": "stream",
     "text": [
      "The following parameters from configuration file will override the Amalgam parameters set in the code: {'trace'}\n"
     ]
    }
   ],
   "source": [
    "t = Trainee(features=features)\n",
    "t.train(data)\n",
    "t.analyze()"
   ]
  },
  {
   "cell_type": "markdown",
   "metadata": {},
   "source": [
    "## 4. React\n",
    "\n",
    "### 4.1. Discriminative React\n",
    "\n",
    "First, we use a discriminative react to determine a likely inventory."
   ]
  },
  {
   "cell_type": "code",
   "execution_count": 5,
   "metadata": {},
   "outputs": [
    {
     "data": {
      "text/plain": [
       "0    {\"potion\":1.4765998389879265,\"trident\":2}\n",
       "Name: inventory, dtype: object"
      ]
     },
     "execution_count": 5,
     "metadata": {},
     "output_type": "execute_result"
    }
   ],
   "source": [
    "discriminative_action = t.react(\n",
    "    contexts=[[15, \"Warlock\"]], context_features=[\"level\", \"class\"],\n",
    "    action_features=[\"inventory\"],\n",
    ")[\"action\"]\n",
    "\n",
    "discriminative_action.loc[:, \"inventory\"]"
   ]
  },
  {
   "cell_type": "markdown",
   "metadata": {},
   "source": [
    "### 4.2. Generative React\n",
    "\n",
    "We can also use a generative react to generate any number of more or less surprising inventories.\n",
    "\n",
    "With higher desired conviction, we will see JSON that more closely resembles the training data."
   ]
  },
  {
   "cell_type": "code",
   "execution_count": 6,
   "metadata": {},
   "outputs": [
    {
     "data": {
      "text/plain": [
       "0    {\"potion\":1,\"metal bar\":20,\"hammer\":1}\n",
       "1           {\"potion\":2,\"lute\":1,\"sword\":1}\n",
       "2                                         1\n",
       "3       {\"potion\":5,\"trident\":2,\"saddle\":1}\n",
       "4           {\"potion\":2,\"lute\":1,\"sword\":1}\n",
       "Name: inventory, dtype: object"
      ]
     },
     "execution_count": 6,
     "metadata": {},
     "output_type": "execute_result"
    }
   ],
   "source": [
    "generative_reaction_25 = t.react(\n",
    "    contexts=[[15, \"Warlock\"]], context_features=[\"level\", \"class\"],\n",
    "    action_features=[\"inventory\"],\n",
    "    desired_conviction=25,\n",
    "    num_cases_to_generate=5,\n",
    ")[\"action\"]\n",
    "\n",
    "generative_reaction_25.loc[:, \"inventory\"]"
   ]
  },
  {
   "cell_type": "markdown",
   "metadata": {},
   "source": [
    "With a lower desired conviction, we will see JSON that looks very different from the training data."
   ]
  },
  {
   "cell_type": "code",
   "execution_count": 7,
   "metadata": {},
   "outputs": [
    {
     "data": {
      "text/plain": [
       "0               {\"potion\":[],\"trident\":[],\"saddle\":[]}\n",
       "1     {\"potion\":[],\"metal bar\":[],\"p0\":[],\"hammer\":[]}\n",
       "2    {\"potion\":[],\"metal bar\":[],\"kQAMsN\":[],\"hamme...\n",
       "3             {\"potion\":[],\"metal bar\":[],\"hammer\":[]}\n",
       "4                                                    1\n",
       "Name: inventory, dtype: object"
      ]
     },
     "execution_count": 7,
     "metadata": {},
     "output_type": "execute_result"
    }
   ],
   "source": [
    "generative_reaction_1 = t.react(\n",
    "    contexts=[[15, \"Warlock\"]], context_features=[\"level\", \"class\"],\n",
    "    action_features=[\"inventory\"],\n",
    "    desired_conviction=1,\n",
    "    num_cases_to_generate=5,\n",
    ")[\"action\"]\n",
    "\n",
    "generative_reaction_1.loc[:, \"inventory\"]"
   ]
  },
  {
   "cell_type": "code",
   "execution_count": 8,
   "metadata": {},
   "outputs": [],
   "source": [
    "t.delete()"
   ]
  }
 ],
 "metadata": {
  "kernelspec": {
   "display_name": "recipes-engine-3.8",
   "language": "python",
   "name": "python3"
  },
  "language_info": {
   "codemirror_mode": {
    "name": "ipython",
    "version": 3
   },
   "file_extension": ".py",
   "mimetype": "text/x-python",
   "name": "python",
   "nbconvert_exporter": "python",
   "pygments_lexer": "ipython3",
   "version": "3.8.17"
  },
  "orig_nbformat": 4
 },
 "nbformat": 4,
 "nbformat_minor": 2
}
