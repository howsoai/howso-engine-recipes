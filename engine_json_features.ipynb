{
 "cells": [
  {
   "cell_type": "markdown",
   "metadata": {},
   "source": [
    "# Howso Engine &#x2014; JSON/YAML as Features\n",
    "\n",
    "#### Note - This feature is experimental and is not universally recommended for production deployment.\n",
    "\n",
    "## Overview\n",
    "\n",
    "This notebook provides an overview of using JSON/YAML as features in a Trainee to represent complex data structures in a single feature."
   ]
  },
  {
   "cell_type": "code",
   "execution_count": 1,
   "metadata": {
    "execution": {
     "iopub.execute_input": "2024-02-23T18:24:55.126579Z",
     "iopub.status.busy": "2024-02-23T18:24:55.126382Z",
     "iopub.status.idle": "2024-02-23T18:24:55.501169Z",
     "shell.execute_reply": "2024-02-23T18:24:55.500614Z"
    }
   },
   "outputs": [],
   "source": [
    "import pandas as pd\n",
    "\n",
    "from howso.engine import Trainee\n",
    "from howso.utilities import infer_feature_attributes"
   ]
  },
  {
   "cell_type": "markdown",
   "metadata": {},
   "source": [
    "## 1. Load Data\n",
    "\n",
    "We use a small, toy-dataset to demonstrate this functionality where each case represents a character in a game."
   ]
  },
  {
   "cell_type": "code",
   "execution_count": 2,
   "metadata": {
    "execution": {
     "iopub.execute_input": "2024-02-23T18:24:55.504293Z",
     "iopub.status.busy": "2024-02-23T18:24:55.504020Z",
     "iopub.status.idle": "2024-02-23T18:24:55.514974Z",
     "shell.execute_reply": "2024-02-23T18:24:55.514488Z"
    }
   },
   "outputs": [
    {
     "data": {
      "text/html": [
       "<div>\n",
       "<style scoped>\n",
       "    .dataframe tbody tr th:only-of-type {\n",
       "        vertical-align: middle;\n",
       "    }\n",
       "\n",
       "    .dataframe tbody tr th {\n",
       "        vertical-align: top;\n",
       "    }\n",
       "\n",
       "    .dataframe thead th {\n",
       "        text-align: right;\n",
       "    }\n",
       "</style>\n",
       "<table border=\"1\" class=\"dataframe\">\n",
       "  <thead>\n",
       "    <tr style=\"text-align: right;\">\n",
       "      <th></th>\n",
       "      <th>name</th>\n",
       "      <th>level</th>\n",
       "      <th>class</th>\n",
       "      <th>inventory</th>\n",
       "    </tr>\n",
       "  </thead>\n",
       "  <tbody>\n",
       "    <tr>\n",
       "      <th>0</th>\n",
       "      <td>Nerissa</td>\n",
       "      <td>14</td>\n",
       "      <td>Fighter</td>\n",
       "      <td>{\"saddle\": 1, \"trident\": 2, \"potion\": 5}</td>\n",
       "    </tr>\n",
       "    <tr>\n",
       "      <th>1</th>\n",
       "      <td>Maaya</td>\n",
       "      <td>13</td>\n",
       "      <td>Warlock</td>\n",
       "      <td>{\"sword\": 1, \"lute\": 1, \"potion\": 2}</td>\n",
       "    </tr>\n",
       "    <tr>\n",
       "      <th>2</th>\n",
       "      <td>Taxuul</td>\n",
       "      <td>15</td>\n",
       "      <td>Cleric</td>\n",
       "      <td>{\"hammer\": 1, \"metal bar\": 20, \"potion\": 1}</td>\n",
       "    </tr>\n",
       "  </tbody>\n",
       "</table>\n",
       "</div>"
      ],
      "text/plain": [
       "      name  level    class                                    inventory\n",
       "0  Nerissa     14  Fighter     {\"saddle\": 1, \"trident\": 2, \"potion\": 5}\n",
       "1    Maaya     13  Warlock         {\"sword\": 1, \"lute\": 1, \"potion\": 2}\n",
       "2   Taxuul     15   Cleric  {\"hammer\": 1, \"metal bar\": 20, \"potion\": 1}"
      ]
     },
     "execution_count": 2,
     "metadata": {},
     "output_type": "execute_result"
    }
   ],
   "source": [
    "data = pd.DataFrame([\n",
    "    {\"name\": \"Nerissa\", \"level\": 14, \"class\": \"Fighter\", \"inventory\": \"{\\\"saddle\\\": 1, \\\"trident\\\": 2, \\\"potion\\\": 5}\"},\n",
    "    {\"name\": \"Maaya\", \"level\": 13, \"class\": \"Warlock\", \"inventory\": \"{\\\"sword\\\": 1, \\\"lute\\\": 1, \\\"potion\\\": 2}\"},\n",
    "    {\"name\": \"Taxuul\", \"level\": 15, \"class\": \"Cleric\", \"inventory\": \"{\\\"hammer\\\": 1, \\\"metal bar\\\": 20, \\\"potion\\\": 1}\"},\n",
    "])\n",
    "\n",
    "data"
   ]
  },
  {
   "cell_type": "markdown",
   "metadata": {},
   "source": [
    "## 2. Infer Feature Attributes\n",
    "\n",
    "The feature-attributes for the ``inventory`` feature are automatically inferred to be JSON."
   ]
  },
  {
   "cell_type": "code",
   "execution_count": 3,
   "metadata": {
    "execution": {
     "iopub.execute_input": "2024-02-23T18:24:55.552505Z",
     "iopub.status.busy": "2024-02-23T18:24:55.552261Z",
     "iopub.status.idle": "2024-02-23T18:24:55.569190Z",
     "shell.execute_reply": "2024-02-23T18:24:55.568718Z"
    }
   },
   "outputs": [
    {
     "data": {
      "text/plain": [
       "{'name': {'type': 'nominal', 'original_type': {'data_type': 'string'}},\n",
       " 'level': {'type': 'continuous',\n",
       "  'decimal_places': 0,\n",
       "  'original_type': {'data_type': 'integer', 'size': 8},\n",
       "  'bounds': {'min': 7.0, 'max': 20.0, 'allow_null': False}},\n",
       " 'class': {'type': 'nominal', 'original_type': {'data_type': 'string'}},\n",
       " 'inventory': {'type': 'continuous',\n",
       "  'data_type': 'json',\n",
       "  'original_type': {'data_type': 'string'}}}"
      ]
     },
     "execution_count": 3,
     "metadata": {},
     "output_type": "execute_result"
    }
   ],
   "source": [
    "features = infer_feature_attributes(data)\n",
    "features"
   ]
  },
  {
   "cell_type": "markdown",
   "metadata": {},
   "source": [
    "## 3. Train & Analyze Data"
   ]
  },
  {
   "cell_type": "code",
   "execution_count": 4,
   "metadata": {
    "execution": {
     "iopub.execute_input": "2024-02-23T18:24:55.571517Z",
     "iopub.status.busy": "2024-02-23T18:24:55.571168Z",
     "iopub.status.idle": "2024-02-23T18:24:55.840819Z",
     "shell.execute_reply": "2024-02-23T18:24:55.840238Z"
    }
   },
   "outputs": [],
   "source": [
    "t = Trainee(features=features)\n",
    "t.train(data)\n",
    "t.analyze()"
   ]
  },
  {
   "cell_type": "markdown",
   "metadata": {},
   "source": [
    "## 4. React\n",
    "\n",
    "### 4.1. Discriminative React\n",
    "\n",
    "First, we use a discriminative react to determine a likely inventory."
   ]
  },
  {
   "cell_type": "code",
   "execution_count": 5,
   "metadata": {
    "execution": {
     "iopub.execute_input": "2024-02-23T18:24:55.843894Z",
     "iopub.status.busy": "2024-02-23T18:24:55.843539Z",
     "iopub.status.idle": "2024-02-23T18:24:55.849668Z",
     "shell.execute_reply": "2024-02-23T18:24:55.849189Z"
    }
   },
   "outputs": [
    {
     "data": {
      "text/plain": [
       "0    {\"saddle\":1,\"metal bar\":20,\"potion\":1}\n",
       "Name: inventory, dtype: object"
      ]
     },
     "execution_count": 5,
     "metadata": {},
     "output_type": "execute_result"
    }
   ],
   "source": [
    "discriminative_action = t.react(\n",
    "    contexts=[[15, \"Warlock\"]], context_features=[\"level\", \"class\"],\n",
    "    action_features=[\"inventory\"],\n",
    ")[\"action\"]\n",
    "\n",
    "discriminative_action.loc[:, \"inventory\"]"
   ]
  },
  {
   "cell_type": "markdown",
   "metadata": {},
   "source": [
    "### 4.2. Generative React\n",
    "\n",
    "We can also use a generative react to generate any number of more or less surprising inventories.\n",
    "\n",
    "With higher desired conviction, we will see JSON that more closely resembles the training data."
   ]
  },
  {
   "cell_type": "code",
   "execution_count": 6,
   "metadata": {
    "execution": {
     "iopub.execute_input": "2024-02-23T18:24:55.851938Z",
     "iopub.status.busy": "2024-02-23T18:24:55.851586Z",
     "iopub.status.idle": "2024-02-23T18:24:55.858326Z",
     "shell.execute_reply": "2024-02-23T18:24:55.857846Z"
    }
   },
   "outputs": [
    {
     "data": {
      "text/plain": [
       "0           {\"lute\":1,\"sword\":1,\"potion\":2}\n",
       "1    {\"metal bar\":20,\"hammer\":1,\"potion\":1}\n",
       "2       {\"saddle\":1,\"trident\":2,\"potion\":5}\n",
       "3           {\"lute\":1,\"sword\":1,\"potion\":2}\n",
       "4           {\"lute\":1,\"sword\":1,\"potion\":2}\n",
       "Name: inventory, dtype: object"
      ]
     },
     "execution_count": 6,
     "metadata": {},
     "output_type": "execute_result"
    }
   ],
   "source": [
    "generative_reaction_25 = t.react(\n",
    "    contexts=[[15, \"Warlock\"]], context_features=[\"level\", \"class\"],\n",
    "    action_features=[\"inventory\"],\n",
    "    desired_conviction=25,\n",
    "    num_cases_to_generate=5,\n",
    ")[\"action\"]\n",
    "\n",
    "generative_reaction_25.loc[:, \"inventory\"]"
   ]
  },
  {
   "cell_type": "markdown",
   "metadata": {},
   "source": [
    "With a lower desired conviction, we will see JSON that looks very different from the training data."
   ]
  },
  {
   "cell_type": "code",
   "execution_count": 7,
   "metadata": {
    "execution": {
     "iopub.execute_input": "2024-02-23T18:24:55.860623Z",
     "iopub.status.busy": "2024-02-23T18:24:55.860212Z",
     "iopub.status.idle": "2024-02-23T18:24:55.866663Z",
     "shell.execute_reply": "2024-02-23T18:24:55.866189Z"
    }
   },
   "outputs": [
    {
     "data": {
      "text/plain": [
       "0    {\"metal bar\":9.09666703672598,\"hammer\":\"w374t7...\n",
       "1                     {\"lute\":1,\"sword\":1,\"potion\":{}}\n",
       "2              {\"lute\":1,\"ulz\":1,\"sword\":1,\"potion\":2}\n",
       "3    {\"metal bar\":\"t8a02dB_kx\",\"hammer\":20,\"potion\"...\n",
       "4                 {\"saddle\":5,\"trident\":-9,\"potion\":1}\n",
       "Name: inventory, dtype: object"
      ]
     },
     "execution_count": 7,
     "metadata": {},
     "output_type": "execute_result"
    }
   ],
   "source": [
    "generative_reaction_1 = t.react(\n",
    "    contexts=[[15, \"Warlock\"]], context_features=[\"level\", \"class\"],\n",
    "    action_features=[\"inventory\"],\n",
    "    desired_conviction=1,\n",
    "    num_cases_to_generate=5,\n",
    ")[\"action\"]\n",
    "\n",
    "generative_reaction_1.loc[:, \"inventory\"]"
   ]
  },
  {
   "cell_type": "code",
   "execution_count": 8,
   "metadata": {
    "execution": {
     "iopub.execute_input": "2024-02-23T18:24:55.868856Z",
     "iopub.status.busy": "2024-02-23T18:24:55.868503Z",
     "iopub.status.idle": "2024-02-23T18:24:55.878135Z",
     "shell.execute_reply": "2024-02-23T18:24:55.877638Z"
    }
   },
   "outputs": [],
   "source": [
    "t.delete()"
   ]
  }
 ],
 "metadata": {
  "kernelspec": {
   "display_name": "recipes-engine-3.8",
   "language": "python",
   "name": "python3"
  },
  "language_info": {
   "codemirror_mode": {
    "name": "ipython",
    "version": 3
   },
   "file_extension": ".py",
   "mimetype": "text/x-python",
   "name": "python",
   "nbconvert_exporter": "python",
   "pygments_lexer": "ipython3",
   "version": "3.9.18"
  }
 },
 "nbformat": 4,
 "nbformat_minor": 2
}
