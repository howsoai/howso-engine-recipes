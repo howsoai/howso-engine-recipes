{
 "cells": [
  {
   "attachments": {},
   "cell_type": "markdown",
   "id": "71cfb4a3-5673-47a8-afa2-b20607105c38",
   "metadata": {
    "tags": []
   },
   "source": [
    "# Overview\n",
    "\n",
    "At a very high level, Howso Engine is about: \n",
    "\n",
    "- Making an accurate prediction (even with limited or sparse data!) \n",
    "\n",
    "- Explaining the prediction process \n",
    "\n",
    "- Showing key properties of the data \n",
    "\n",
    "In this notebook, we will be using the adult data set as an example to demonstrate some of Howso Engine’s capabilities, including cases and features which contribute to predictions, anomalies analysis, and potential improvements to the data to gain more insight into the data.  \n"
   ]
  },
  {
   "cell_type": "code",
   "execution_count": 25,
   "id": "5069bb7d-671f-4d5d-a15c-99d9cd48c779",
   "metadata": {},
   "outputs": [],
   "source": [
    "import matplotlib.pyplot as plt\n",
    "import numpy as np\n",
    "import pandas as pd\n",
    "import seaborn as sns\n",
    "\n",
    "from howso import engine\n",
    "from howso.utilities import infer_feature_attributes\n",
    "from howso.visuals import plot_feature_importances, plot_anomalies, plot_dataset"
   ]
  },
  {
   "cell_type": "code",
   "execution_count": 2,
   "id": "bbe69958-0668-4b82-ae95-dad4dcaaa9e9",
   "metadata": {},
   "outputs": [
    {
     "data": {
      "text/html": [
       "<div>\n",
       "<style scoped>\n",
       "    .dataframe tbody tr th:only-of-type {\n",
       "        vertical-align: middle;\n",
       "    }\n",
       "\n",
       "    .dataframe tbody tr th {\n",
       "        vertical-align: top;\n",
       "    }\n",
       "\n",
       "    .dataframe thead th {\n",
       "        text-align: right;\n",
       "    }\n",
       "</style>\n",
       "<table border=\"1\" class=\"dataframe\">\n",
       "  <thead>\n",
       "    <tr style=\"text-align: right;\">\n",
       "      <th></th>\n",
       "      <th>age</th>\n",
       "      <th>workclass</th>\n",
       "      <th>fnlwgt</th>\n",
       "      <th>education</th>\n",
       "      <th>education-num</th>\n",
       "      <th>marital-status</th>\n",
       "      <th>occupation</th>\n",
       "      <th>relationship</th>\n",
       "      <th>race</th>\n",
       "      <th>sex</th>\n",
       "      <th>capital-gain</th>\n",
       "      <th>capital-loss</th>\n",
       "      <th>hours-per-week</th>\n",
       "      <th>native-country</th>\n",
       "      <th>target</th>\n",
       "    </tr>\n",
       "  </thead>\n",
       "  <tbody>\n",
       "    <tr>\n",
       "      <th>0</th>\n",
       "      <td>27</td>\n",
       "      <td>Private</td>\n",
       "      <td>284196</td>\n",
       "      <td>10th</td>\n",
       "      <td>6</td>\n",
       "      <td>Divorced</td>\n",
       "      <td>Other-service</td>\n",
       "      <td>Not-in-family</td>\n",
       "      <td>White</td>\n",
       "      <td>Female</td>\n",
       "      <td>0</td>\n",
       "      <td>0</td>\n",
       "      <td>40</td>\n",
       "      <td>United-States</td>\n",
       "      <td>&lt;=50K</td>\n",
       "    </tr>\n",
       "    <tr>\n",
       "      <th>1</th>\n",
       "      <td>35</td>\n",
       "      <td>Private</td>\n",
       "      <td>150125</td>\n",
       "      <td>Assoc-voc</td>\n",
       "      <td>11</td>\n",
       "      <td>Divorced</td>\n",
       "      <td>Other-service</td>\n",
       "      <td>Unmarried</td>\n",
       "      <td>Black</td>\n",
       "      <td>Female</td>\n",
       "      <td>0</td>\n",
       "      <td>0</td>\n",
       "      <td>40</td>\n",
       "      <td>United-States</td>\n",
       "      <td>&lt;=50K</td>\n",
       "    </tr>\n",
       "    <tr>\n",
       "      <th>2</th>\n",
       "      <td>20</td>\n",
       "      <td>Private</td>\n",
       "      <td>157541</td>\n",
       "      <td>Some-college</td>\n",
       "      <td>10</td>\n",
       "      <td>Never-married</td>\n",
       "      <td>Craft-repair</td>\n",
       "      <td>Own-child</td>\n",
       "      <td>White</td>\n",
       "      <td>Male</td>\n",
       "      <td>0</td>\n",
       "      <td>0</td>\n",
       "      <td>40</td>\n",
       "      <td>United-States</td>\n",
       "      <td>&lt;=50K</td>\n",
       "    </tr>\n",
       "    <tr>\n",
       "      <th>3</th>\n",
       "      <td>35</td>\n",
       "      <td>Self-emp-not-inc</td>\n",
       "      <td>102471</td>\n",
       "      <td>HS-grad</td>\n",
       "      <td>9</td>\n",
       "      <td>Divorced</td>\n",
       "      <td>Farming-fishing</td>\n",
       "      <td>Not-in-family</td>\n",
       "      <td>White</td>\n",
       "      <td>Male</td>\n",
       "      <td>0</td>\n",
       "      <td>0</td>\n",
       "      <td>80</td>\n",
       "      <td>Puerto-Rico</td>\n",
       "      <td>&lt;=50K</td>\n",
       "    </tr>\n",
       "    <tr>\n",
       "      <th>4</th>\n",
       "      <td>25</td>\n",
       "      <td>Self-emp-not-inc</td>\n",
       "      <td>108001</td>\n",
       "      <td>9th</td>\n",
       "      <td>5</td>\n",
       "      <td>Never-married</td>\n",
       "      <td>Craft-repair</td>\n",
       "      <td>Not-in-family</td>\n",
       "      <td>White</td>\n",
       "      <td>Male</td>\n",
       "      <td>0</td>\n",
       "      <td>0</td>\n",
       "      <td>15</td>\n",
       "      <td>United-States</td>\n",
       "      <td>&lt;=50K</td>\n",
       "    </tr>\n",
       "    <tr>\n",
       "      <th>...</th>\n",
       "      <td>...</td>\n",
       "      <td>...</td>\n",
       "      <td>...</td>\n",
       "      <td>...</td>\n",
       "      <td>...</td>\n",
       "      <td>...</td>\n",
       "      <td>...</td>\n",
       "      <td>...</td>\n",
       "      <td>...</td>\n",
       "      <td>...</td>\n",
       "      <td>...</td>\n",
       "      <td>...</td>\n",
       "      <td>...</td>\n",
       "      <td>...</td>\n",
       "      <td>...</td>\n",
       "    </tr>\n",
       "    <tr>\n",
       "      <th>995</th>\n",
       "      <td>29</td>\n",
       "      <td>?</td>\n",
       "      <td>188675</td>\n",
       "      <td>Some-college</td>\n",
       "      <td>10</td>\n",
       "      <td>Divorced</td>\n",
       "      <td>?</td>\n",
       "      <td>Own-child</td>\n",
       "      <td>Black</td>\n",
       "      <td>Male</td>\n",
       "      <td>0</td>\n",
       "      <td>0</td>\n",
       "      <td>40</td>\n",
       "      <td>United-States</td>\n",
       "      <td>&lt;=50K</td>\n",
       "    </tr>\n",
       "    <tr>\n",
       "      <th>996</th>\n",
       "      <td>53</td>\n",
       "      <td>Local-gov</td>\n",
       "      <td>287192</td>\n",
       "      <td>1st-4th</td>\n",
       "      <td>2</td>\n",
       "      <td>Married-civ-spouse</td>\n",
       "      <td>Other-service</td>\n",
       "      <td>Husband</td>\n",
       "      <td>White</td>\n",
       "      <td>Male</td>\n",
       "      <td>0</td>\n",
       "      <td>0</td>\n",
       "      <td>32</td>\n",
       "      <td>Mexico</td>\n",
       "      <td>&lt;=50K</td>\n",
       "    </tr>\n",
       "    <tr>\n",
       "      <th>997</th>\n",
       "      <td>39</td>\n",
       "      <td>State-gov</td>\n",
       "      <td>152023</td>\n",
       "      <td>11th</td>\n",
       "      <td>7</td>\n",
       "      <td>Married-civ-spouse</td>\n",
       "      <td>Craft-repair</td>\n",
       "      <td>Husband</td>\n",
       "      <td>White</td>\n",
       "      <td>Male</td>\n",
       "      <td>0</td>\n",
       "      <td>0</td>\n",
       "      <td>40</td>\n",
       "      <td>United-States</td>\n",
       "      <td>&lt;=50K</td>\n",
       "    </tr>\n",
       "    <tr>\n",
       "      <th>998</th>\n",
       "      <td>52</td>\n",
       "      <td>Private</td>\n",
       "      <td>208302</td>\n",
       "      <td>HS-grad</td>\n",
       "      <td>9</td>\n",
       "      <td>Married-civ-spouse</td>\n",
       "      <td>Sales</td>\n",
       "      <td>Husband</td>\n",
       "      <td>White</td>\n",
       "      <td>Male</td>\n",
       "      <td>0</td>\n",
       "      <td>0</td>\n",
       "      <td>36</td>\n",
       "      <td>United-States</td>\n",
       "      <td>&lt;=50K</td>\n",
       "    </tr>\n",
       "    <tr>\n",
       "      <th>999</th>\n",
       "      <td>42</td>\n",
       "      <td>Private</td>\n",
       "      <td>281209</td>\n",
       "      <td>Some-college</td>\n",
       "      <td>10</td>\n",
       "      <td>Married-civ-spouse</td>\n",
       "      <td>Transport-moving</td>\n",
       "      <td>Husband</td>\n",
       "      <td>White</td>\n",
       "      <td>Male</td>\n",
       "      <td>0</td>\n",
       "      <td>0</td>\n",
       "      <td>50</td>\n",
       "      <td>United-States</td>\n",
       "      <td>&lt;=50K</td>\n",
       "    </tr>\n",
       "  </tbody>\n",
       "</table>\n",
       "<p>1000 rows × 15 columns</p>\n",
       "</div>"
      ],
      "text/plain": [
       "     age          workclass  fnlwgt      education  education-num  \\\n",
       "0     27            Private  284196           10th              6   \n",
       "1     35            Private  150125      Assoc-voc             11   \n",
       "2     20            Private  157541   Some-college             10   \n",
       "3     35   Self-emp-not-inc  102471        HS-grad              9   \n",
       "4     25   Self-emp-not-inc  108001            9th              5   \n",
       "..   ...                ...     ...            ...            ...   \n",
       "995   29                  ?  188675   Some-college             10   \n",
       "996   53          Local-gov  287192        1st-4th              2   \n",
       "997   39          State-gov  152023           11th              7   \n",
       "998   52            Private  208302        HS-grad              9   \n",
       "999   42            Private  281209   Some-college             10   \n",
       "\n",
       "          marital-status         occupation    relationship    race      sex  \\\n",
       "0               Divorced      Other-service   Not-in-family   White   Female   \n",
       "1               Divorced      Other-service       Unmarried   Black   Female   \n",
       "2          Never-married       Craft-repair       Own-child   White     Male   \n",
       "3               Divorced    Farming-fishing   Not-in-family   White     Male   \n",
       "4          Never-married       Craft-repair   Not-in-family   White     Male   \n",
       "..                   ...                ...             ...     ...      ...   \n",
       "995             Divorced                  ?       Own-child   Black     Male   \n",
       "996   Married-civ-spouse      Other-service         Husband   White     Male   \n",
       "997   Married-civ-spouse       Craft-repair         Husband   White     Male   \n",
       "998   Married-civ-spouse              Sales         Husband   White     Male   \n",
       "999   Married-civ-spouse   Transport-moving         Husband   White     Male   \n",
       "\n",
       "     capital-gain  capital-loss  hours-per-week  native-country  target  \n",
       "0               0             0              40   United-States   <=50K  \n",
       "1               0             0              40   United-States   <=50K  \n",
       "2               0             0              40   United-States   <=50K  \n",
       "3               0             0              80     Puerto-Rico   <=50K  \n",
       "4               0             0              15   United-States   <=50K  \n",
       "..            ...           ...             ...             ...     ...  \n",
       "995             0             0              40   United-States   <=50K  \n",
       "996             0             0              32          Mexico   <=50K  \n",
       "997             0             0              40   United-States   <=50K  \n",
       "998             0             0              36   United-States   <=50K  \n",
       "999             0             0              50   United-States   <=50K  \n",
       "\n",
       "[1000 rows x 15 columns]"
      ]
     },
     "execution_count": 2,
     "metadata": {},
     "output_type": "execute_result"
    }
   ],
   "source": [
    "# Load adult data\n",
    "df = pd.read_csv('data/adult.data', header=None)\n",
    "\n",
    "# Specify column names\n",
    "df.columns = ['age', 'workclass', 'fnlwgt', 'education', \n",
    "              'education-num', 'marital-status', 'occupation',\n",
    "              'relationship', 'race', 'sex', 'capital-gain', \n",
    "              'capital-loss', 'hours-per-week', 'native-country', 'target']\n",
    "\n",
    "# Sample the data for demo purpose\n",
    "df = df.sample(1_000).reset_index(drop=True)\n",
    "\n",
    "df"
   ]
  },
  {
   "cell_type": "code",
   "execution_count": 3,
   "id": "6f16acd5-4006-4488-a71a-1be4692d6479",
   "metadata": {},
   "outputs": [],
   "source": [
    "partial_features = {\n",
    "    \"education\": {\"type\": \"nominal\"}\n",
    "}\n",
    "\n",
    "# Infer features types\n",
    "features = infer_feature_attributes(df, features=partial_features)\n",
    "\n",
    "# Specify the context and action feature\n",
    "action_features = ['target']\n",
    "context_features = features.get_names(without=['target'])"
   ]
  },
  {
   "cell_type": "code",
   "execution_count": 4,
   "id": "07eacaca-ce18-4850-9648-bbf7453d593e",
   "metadata": {},
   "outputs": [],
   "source": [
    "# Create the trainee with custom name\n",
    "t = engine.Trainee(name='Engine - Predictions and Explanations Recipe', features=features, overwrite_existing=True)\n",
    "\n",
    "# Train\n",
    "t.train(df)\n",
    "\n",
    "# Analyze the model\n",
    "t.analyze(action_features=action_features)\n"
   ]
  },
  {
   "cell_type": "code",
   "execution_count": 5,
   "id": "03c4f734-d0a4-45ed-a85e-e756ee105c8c",
   "metadata": {},
   "outputs": [
    {
     "name": "stdout",
     "output_type": "stream",
     "text": [
      "Test set prediction accuracy: 0.799\n"
     ]
    }
   ],
   "source": [
    "t.react_into_trainee(residuals=True)\n",
    "\n",
    "accuracy = t.get_prediction_stats(stats=['accuracy'])['target'][0]\n",
    "\n",
    "print(\"Test set prediction accuracy: {acc}\".format(acc=accuracy))"
   ]
  },
  {
   "attachments": {},
   "cell_type": "markdown",
   "id": "05ea5c3e-ad35-421b-8f1f-de5553b11f41",
   "metadata": {},
   "source": [
    "# Explain\n",
    "\n",
    "How was the predictions made? \n",
    "\n",
    "Howso Engine provides detailed explanation for complete model transparency. Let's examine a subset of the explanations.\n"
   ]
  },
  {
   "attachments": {},
   "cell_type": "markdown",
   "id": "a08e870a-c1d2-4220-b683-cbfc048033c5",
   "metadata": {},
   "source": [
    "## Feature importance (global)\n",
    "\n",
    "The feature importance information provides insight into the feature[s] which were primary drivers for each of the prediction. This is important to understand in the context of AI bias and discrimination (ex. Sensitive attribute being the primary contribution to a prediction). \n",
    "\n",
    "This information is available at the global level (overall model), but can also be extracted at the local level (regional model for each case)."
   ]
  },
  {
   "cell_type": "code",
   "execution_count": 6,
   "id": "2516f905-3304-4c15-9f9b-0f340307ce61",
   "metadata": {},
   "outputs": [
    {
     "data": {
      "application/vnd.plotly.v1+json": {
       "config": {
        "plotlyServerURL": "https://plot.ly"
       },
       "data": [
        {
         "type": "bar",
         "x": [
          "relationship",
          "hours-per-week",
          "marital-status",
          "capital-gain",
          "age",
          "capital-loss",
          "education-num",
          "education",
          "native-country",
          "race",
          "occupation",
          "sex",
          "workclass",
          "fnlwgt"
         ],
         "y": [
          0.01989845152492381,
          0.01648889695146616,
          0.014541675769309037,
          0.012826556621582386,
          0.011369080870057668,
          0.007444133253623364,
          0.006810627769582689,
          0.006704915610107776,
          0.001859801330278077,
          0.001184434325541328,
          -0.00012361291180257306,
          -0.0006857285130980606,
          -0.0036424758236878185,
          -0.007795748633558974
         ]
        }
       ],
       "layout": {
        "template": {
         "data": {
          "bar": [
           {
            "error_x": {
             "color": "#2a3f5f"
            },
            "error_y": {
             "color": "#2a3f5f"
            },
            "marker": {
             "line": {
              "color": "#E5ECF6",
              "width": 0.5
             },
             "pattern": {
              "fillmode": "overlay",
              "size": 10,
              "solidity": 0.2
             }
            },
            "type": "bar"
           }
          ],
          "barpolar": [
           {
            "marker": {
             "line": {
              "color": "#E5ECF6",
              "width": 0.5
             },
             "pattern": {
              "fillmode": "overlay",
              "size": 10,
              "solidity": 0.2
             }
            },
            "type": "barpolar"
           }
          ],
          "carpet": [
           {
            "aaxis": {
             "endlinecolor": "#2a3f5f",
             "gridcolor": "white",
             "linecolor": "white",
             "minorgridcolor": "white",
             "startlinecolor": "#2a3f5f"
            },
            "baxis": {
             "endlinecolor": "#2a3f5f",
             "gridcolor": "white",
             "linecolor": "white",
             "minorgridcolor": "white",
             "startlinecolor": "#2a3f5f"
            },
            "type": "carpet"
           }
          ],
          "choropleth": [
           {
            "colorbar": {
             "outlinewidth": 0,
             "ticks": ""
            },
            "type": "choropleth"
           }
          ],
          "contour": [
           {
            "colorbar": {
             "outlinewidth": 0,
             "ticks": ""
            },
            "colorscale": [
             [
              0,
              "#0d0887"
             ],
             [
              0.1111111111111111,
              "#46039f"
             ],
             [
              0.2222222222222222,
              "#7201a8"
             ],
             [
              0.3333333333333333,
              "#9c179e"
             ],
             [
              0.4444444444444444,
              "#bd3786"
             ],
             [
              0.5555555555555556,
              "#d8576b"
             ],
             [
              0.6666666666666666,
              "#ed7953"
             ],
             [
              0.7777777777777778,
              "#fb9f3a"
             ],
             [
              0.8888888888888888,
              "#fdca26"
             ],
             [
              1,
              "#f0f921"
             ]
            ],
            "type": "contour"
           }
          ],
          "contourcarpet": [
           {
            "colorbar": {
             "outlinewidth": 0,
             "ticks": ""
            },
            "type": "contourcarpet"
           }
          ],
          "heatmap": [
           {
            "colorbar": {
             "outlinewidth": 0,
             "ticks": ""
            },
            "colorscale": [
             [
              0,
              "#0d0887"
             ],
             [
              0.1111111111111111,
              "#46039f"
             ],
             [
              0.2222222222222222,
              "#7201a8"
             ],
             [
              0.3333333333333333,
              "#9c179e"
             ],
             [
              0.4444444444444444,
              "#bd3786"
             ],
             [
              0.5555555555555556,
              "#d8576b"
             ],
             [
              0.6666666666666666,
              "#ed7953"
             ],
             [
              0.7777777777777778,
              "#fb9f3a"
             ],
             [
              0.8888888888888888,
              "#fdca26"
             ],
             [
              1,
              "#f0f921"
             ]
            ],
            "type": "heatmap"
           }
          ],
          "heatmapgl": [
           {
            "colorbar": {
             "outlinewidth": 0,
             "ticks": ""
            },
            "colorscale": [
             [
              0,
              "#0d0887"
             ],
             [
              0.1111111111111111,
              "#46039f"
             ],
             [
              0.2222222222222222,
              "#7201a8"
             ],
             [
              0.3333333333333333,
              "#9c179e"
             ],
             [
              0.4444444444444444,
              "#bd3786"
             ],
             [
              0.5555555555555556,
              "#d8576b"
             ],
             [
              0.6666666666666666,
              "#ed7953"
             ],
             [
              0.7777777777777778,
              "#fb9f3a"
             ],
             [
              0.8888888888888888,
              "#fdca26"
             ],
             [
              1,
              "#f0f921"
             ]
            ],
            "type": "heatmapgl"
           }
          ],
          "histogram": [
           {
            "marker": {
             "pattern": {
              "fillmode": "overlay",
              "size": 10,
              "solidity": 0.2
             }
            },
            "type": "histogram"
           }
          ],
          "histogram2d": [
           {
            "colorbar": {
             "outlinewidth": 0,
             "ticks": ""
            },
            "colorscale": [
             [
              0,
              "#0d0887"
             ],
             [
              0.1111111111111111,
              "#46039f"
             ],
             [
              0.2222222222222222,
              "#7201a8"
             ],
             [
              0.3333333333333333,
              "#9c179e"
             ],
             [
              0.4444444444444444,
              "#bd3786"
             ],
             [
              0.5555555555555556,
              "#d8576b"
             ],
             [
              0.6666666666666666,
              "#ed7953"
             ],
             [
              0.7777777777777778,
              "#fb9f3a"
             ],
             [
              0.8888888888888888,
              "#fdca26"
             ],
             [
              1,
              "#f0f921"
             ]
            ],
            "type": "histogram2d"
           }
          ],
          "histogram2dcontour": [
           {
            "colorbar": {
             "outlinewidth": 0,
             "ticks": ""
            },
            "colorscale": [
             [
              0,
              "#0d0887"
             ],
             [
              0.1111111111111111,
              "#46039f"
             ],
             [
              0.2222222222222222,
              "#7201a8"
             ],
             [
              0.3333333333333333,
              "#9c179e"
             ],
             [
              0.4444444444444444,
              "#bd3786"
             ],
             [
              0.5555555555555556,
              "#d8576b"
             ],
             [
              0.6666666666666666,
              "#ed7953"
             ],
             [
              0.7777777777777778,
              "#fb9f3a"
             ],
             [
              0.8888888888888888,
              "#fdca26"
             ],
             [
              1,
              "#f0f921"
             ]
            ],
            "type": "histogram2dcontour"
           }
          ],
          "mesh3d": [
           {
            "colorbar": {
             "outlinewidth": 0,
             "ticks": ""
            },
            "type": "mesh3d"
           }
          ],
          "parcoords": [
           {
            "line": {
             "colorbar": {
              "outlinewidth": 0,
              "ticks": ""
             }
            },
            "type": "parcoords"
           }
          ],
          "pie": [
           {
            "automargin": true,
            "type": "pie"
           }
          ],
          "scatter": [
           {
            "fillpattern": {
             "fillmode": "overlay",
             "size": 10,
             "solidity": 0.2
            },
            "type": "scatter"
           }
          ],
          "scatter3d": [
           {
            "line": {
             "colorbar": {
              "outlinewidth": 0,
              "ticks": ""
             }
            },
            "marker": {
             "colorbar": {
              "outlinewidth": 0,
              "ticks": ""
             }
            },
            "type": "scatter3d"
           }
          ],
          "scattercarpet": [
           {
            "marker": {
             "colorbar": {
              "outlinewidth": 0,
              "ticks": ""
             }
            },
            "type": "scattercarpet"
           }
          ],
          "scattergeo": [
           {
            "marker": {
             "colorbar": {
              "outlinewidth": 0,
              "ticks": ""
             }
            },
            "type": "scattergeo"
           }
          ],
          "scattergl": [
           {
            "marker": {
             "colorbar": {
              "outlinewidth": 0,
              "ticks": ""
             }
            },
            "type": "scattergl"
           }
          ],
          "scattermapbox": [
           {
            "marker": {
             "colorbar": {
              "outlinewidth": 0,
              "ticks": ""
             }
            },
            "type": "scattermapbox"
           }
          ],
          "scatterpolar": [
           {
            "marker": {
             "colorbar": {
              "outlinewidth": 0,
              "ticks": ""
             }
            },
            "type": "scatterpolar"
           }
          ],
          "scatterpolargl": [
           {
            "marker": {
             "colorbar": {
              "outlinewidth": 0,
              "ticks": ""
             }
            },
            "type": "scatterpolargl"
           }
          ],
          "scatterternary": [
           {
            "marker": {
             "colorbar": {
              "outlinewidth": 0,
              "ticks": ""
             }
            },
            "type": "scatterternary"
           }
          ],
          "surface": [
           {
            "colorbar": {
             "outlinewidth": 0,
             "ticks": ""
            },
            "colorscale": [
             [
              0,
              "#0d0887"
             ],
             [
              0.1111111111111111,
              "#46039f"
             ],
             [
              0.2222222222222222,
              "#7201a8"
             ],
             [
              0.3333333333333333,
              "#9c179e"
             ],
             [
              0.4444444444444444,
              "#bd3786"
             ],
             [
              0.5555555555555556,
              "#d8576b"
             ],
             [
              0.6666666666666666,
              "#ed7953"
             ],
             [
              0.7777777777777778,
              "#fb9f3a"
             ],
             [
              0.8888888888888888,
              "#fdca26"
             ],
             [
              1,
              "#f0f921"
             ]
            ],
            "type": "surface"
           }
          ],
          "table": [
           {
            "cells": {
             "fill": {
              "color": "#EBF0F8"
             },
             "line": {
              "color": "white"
             }
            },
            "header": {
             "fill": {
              "color": "#C8D4E3"
             },
             "line": {
              "color": "white"
             }
            },
            "type": "table"
           }
          ]
         },
         "layout": {
          "annotationdefaults": {
           "arrowcolor": "#2a3f5f",
           "arrowhead": 0,
           "arrowwidth": 1
          },
          "autotypenumbers": "strict",
          "coloraxis": {
           "colorbar": {
            "outlinewidth": 0,
            "ticks": ""
           }
          },
          "colorscale": {
           "diverging": [
            [
             0,
             "#8e0152"
            ],
            [
             0.1,
             "#c51b7d"
            ],
            [
             0.2,
             "#de77ae"
            ],
            [
             0.3,
             "#f1b6da"
            ],
            [
             0.4,
             "#fde0ef"
            ],
            [
             0.5,
             "#f7f7f7"
            ],
            [
             0.6,
             "#e6f5d0"
            ],
            [
             0.7,
             "#b8e186"
            ],
            [
             0.8,
             "#7fbc41"
            ],
            [
             0.9,
             "#4d9221"
            ],
            [
             1,
             "#276419"
            ]
           ],
           "sequential": [
            [
             0,
             "#0d0887"
            ],
            [
             0.1111111111111111,
             "#46039f"
            ],
            [
             0.2222222222222222,
             "#7201a8"
            ],
            [
             0.3333333333333333,
             "#9c179e"
            ],
            [
             0.4444444444444444,
             "#bd3786"
            ],
            [
             0.5555555555555556,
             "#d8576b"
            ],
            [
             0.6666666666666666,
             "#ed7953"
            ],
            [
             0.7777777777777778,
             "#fb9f3a"
            ],
            [
             0.8888888888888888,
             "#fdca26"
            ],
            [
             1,
             "#f0f921"
            ]
           ],
           "sequentialminus": [
            [
             0,
             "#0d0887"
            ],
            [
             0.1111111111111111,
             "#46039f"
            ],
            [
             0.2222222222222222,
             "#7201a8"
            ],
            [
             0.3333333333333333,
             "#9c179e"
            ],
            [
             0.4444444444444444,
             "#bd3786"
            ],
            [
             0.5555555555555556,
             "#d8576b"
            ],
            [
             0.6666666666666666,
             "#ed7953"
            ],
            [
             0.7777777777777778,
             "#fb9f3a"
            ],
            [
             0.8888888888888888,
             "#fdca26"
            ],
            [
             1,
             "#f0f921"
            ]
           ]
          },
          "colorway": [
           "#636efa",
           "#EF553B",
           "#00cc96",
           "#ab63fa",
           "#FFA15A",
           "#19d3f3",
           "#FF6692",
           "#B6E880",
           "#FF97FF",
           "#FECB52"
          ],
          "font": {
           "color": "#2a3f5f"
          },
          "geo": {
           "bgcolor": "white",
           "lakecolor": "white",
           "landcolor": "#E5ECF6",
           "showlakes": true,
           "showland": true,
           "subunitcolor": "white"
          },
          "hoverlabel": {
           "align": "left"
          },
          "hovermode": "closest",
          "mapbox": {
           "style": "light"
          },
          "paper_bgcolor": "white",
          "plot_bgcolor": "#E5ECF6",
          "polar": {
           "angularaxis": {
            "gridcolor": "white",
            "linecolor": "white",
            "ticks": ""
           },
           "bgcolor": "#E5ECF6",
           "radialaxis": {
            "gridcolor": "white",
            "linecolor": "white",
            "ticks": ""
           }
          },
          "scene": {
           "xaxis": {
            "backgroundcolor": "#E5ECF6",
            "gridcolor": "white",
            "gridwidth": 2,
            "linecolor": "white",
            "showbackground": true,
            "ticks": "",
            "zerolinecolor": "white"
           },
           "yaxis": {
            "backgroundcolor": "#E5ECF6",
            "gridcolor": "white",
            "gridwidth": 2,
            "linecolor": "white",
            "showbackground": true,
            "ticks": "",
            "zerolinecolor": "white"
           },
           "zaxis": {
            "backgroundcolor": "#E5ECF6",
            "gridcolor": "white",
            "gridwidth": 2,
            "linecolor": "white",
            "showbackground": true,
            "ticks": "",
            "zerolinecolor": "white"
           }
          },
          "shapedefaults": {
           "line": {
            "color": "#2a3f5f"
           }
          },
          "ternary": {
           "aaxis": {
            "gridcolor": "white",
            "linecolor": "white",
            "ticks": ""
           },
           "baxis": {
            "gridcolor": "white",
            "linecolor": "white",
            "ticks": ""
           },
           "bgcolor": "#E5ECF6",
           "caxis": {
            "gridcolor": "white",
            "linecolor": "white",
            "ticks": ""
           }
          },
          "title": {
           "x": 0.05
          },
          "xaxis": {
           "automargin": true,
           "gridcolor": "white",
           "linecolor": "white",
           "ticks": "",
           "title": {
            "standoff": 15
           },
           "zerolinecolor": "white",
           "zerolinewidth": 2
          },
          "yaxis": {
           "automargin": true,
           "gridcolor": "white",
           "linecolor": "white",
           "ticks": "",
           "title": {
            "standoff": 15
           },
           "zerolinecolor": "white",
           "zerolinewidth": 2
          }
         }
        },
        "title": {
         "text": "Global Mean Decrease in Accuracy (MDA)"
        },
        "xaxis": {
         "anchor": "y",
         "domain": [
          0,
          1
         ],
         "title": {
          "text": "Feature"
         }
        },
        "yaxis": {
         "anchor": "x",
         "domain": [
          0,
          1
         ],
         "title": {
          "text": "MDA"
         }
        }
       }
      }
     },
     "metadata": {},
     "output_type": "display_data"
    }
   ],
   "source": [
    "# Extract the global MDA (mean decrease in accuracy)\n",
    "t.react_into_trainee(action_feature=action_features[0], mda_robust=True, residuals=True)\n",
    "global_mda = t.get_prediction_stats(action_feature=action_features[0], stats=['mda'])\n",
    "plot_feature_importances(global_mda, title=\"Global Mean Decrease in Accuracy (MDA)\", yaxis_title=\"MDA\")"
   ]
  },
  {
   "attachments": {},
   "cell_type": "markdown",
   "id": "0124c8fb-f73e-4c32-a3c8-616c873cc89c",
   "metadata": {},
   "source": [
    "## Feature uncertainty (global)\n",
    "\n",
    "Are there any noisy features? \n",
    "\n",
    "Howso Engine’s performance is robust against noisy feature[s], and can maintain a high level of accuracy despite noisy data. \n",
    "\n",
    "Part of the reason  Howso Engine can maintain the level of performance despite noisy data is through characterization of feature uncertainties (residuals). The feature residuals can be extracted for user review. Note, the residuals are in the same units as the original features which makes it easy to interpret. For example, the residual for the “age” feature has the unit of years as in the original data.\n",
    "\n",
    "Feature residuals are available at the global level (overall model) and at the local level (regional model for each case).\n"
   ]
  },
  {
   "cell_type": "code",
   "execution_count": 7,
   "id": "d9307608-5e5e-48ee-8c3a-f7eac3ef7469",
   "metadata": {},
   "outputs": [
    {
     "data": {
      "text/html": [
       "<div>\n",
       "<style scoped>\n",
       "    .dataframe tbody tr th:only-of-type {\n",
       "        vertical-align: middle;\n",
       "    }\n",
       "\n",
       "    .dataframe tbody tr th {\n",
       "        vertical-align: top;\n",
       "    }\n",
       "\n",
       "    .dataframe thead th {\n",
       "        text-align: right;\n",
       "    }\n",
       "</style>\n",
       "<table border=\"1\" class=\"dataframe\">\n",
       "  <thead>\n",
       "    <tr style=\"text-align: right;\">\n",
       "      <th></th>\n",
       "      <th>residuals</th>\n",
       "    </tr>\n",
       "  </thead>\n",
       "  <tbody>\n",
       "    <tr>\n",
       "      <th>fnlwgt</th>\n",
       "      <td>103630.613082</td>\n",
       "    </tr>\n",
       "    <tr>\n",
       "      <th>capital-gain</th>\n",
       "      <td>1778.883629</td>\n",
       "    </tr>\n",
       "    <tr>\n",
       "      <th>hours-per-week</th>\n",
       "      <td>9.971435</td>\n",
       "    </tr>\n",
       "    <tr>\n",
       "      <th>age</th>\n",
       "      <td>9.288927</td>\n",
       "    </tr>\n",
       "    <tr>\n",
       "      <th>occupation</th>\n",
       "      <td>0.769955</td>\n",
       "    </tr>\n",
       "    <tr>\n",
       "      <th>workclass</th>\n",
       "      <td>0.375080</td>\n",
       "    </tr>\n",
       "    <tr>\n",
       "      <th>relationship</th>\n",
       "      <td>0.348255</td>\n",
       "    </tr>\n",
       "    <tr>\n",
       "      <th>marital-status</th>\n",
       "      <td>0.291084</td>\n",
       "    </tr>\n",
       "    <tr>\n",
       "      <th>education</th>\n",
       "      <td>0.253008</td>\n",
       "    </tr>\n",
       "    <tr>\n",
       "      <th>education-num</th>\n",
       "      <td>0.253008</td>\n",
       "    </tr>\n",
       "  </tbody>\n",
       "</table>\n",
       "</div>"
      ],
      "text/plain": [
       "                    residuals\n",
       "fnlwgt          103630.613082\n",
       "capital-gain      1778.883629\n",
       "hours-per-week       9.971435\n",
       "age                  9.288927\n",
       "occupation           0.769955\n",
       "workclass            0.375080\n",
       "relationship         0.348255\n",
       "marital-status       0.291084\n",
       "education            0.253008\n",
       "education-num        0.253008"
      ]
     },
     "execution_count": 7,
     "metadata": {},
     "output_type": "execute_result"
    }
   ],
   "source": [
    "# Global feature residuals\n",
    "global_feature_residuals = t.get_prediction_stats(stats=['mae']).T.rename(columns={'mae':'residuals'}).sort_values('residuals', ascending=False)\n",
    "global_feature_residuals.iloc[0:10]"
   ]
  },
  {
   "attachments": {},
   "cell_type": "markdown",
   "id": "8a76584f-341d-4102-9887-e274de58a861",
   "metadata": {},
   "source": [
    "# \"Show me...\"\n",
    "\n",
    "Howso Engine can be used to show interesting information pertaining to the data and model, such as anomalous cases and potential model improvements. \n",
    " \n",
    "For each prediction, Howso Engine can also extract the influential cases and boundary cases to provide an exact explanation to the prediction process. More details on what’s available can be found in the notebook “2-interpretability.ipynb”.\n"
   ]
  },
  {
   "attachments": {},
   "cell_type": "markdown",
   "id": "652f7abc-e818-4c6b-8fd4-c1dd1cbd5736",
   "metadata": {},
   "source": [
    "## Anomalous cases\n",
    "\n",
    "Anomalous cases can exist in the data as either an outlier or inlier. Outliers are cases which are very different than other cases. Inliers are cases which are too similar to other cases and do not follow the expected distribution. Inliers can be an indication of a fraudulent case that is “too good to be true”. \n",
    "\n"
   ]
  },
  {
   "cell_type": "code",
   "execution_count": 8,
   "id": "0e0e3259-cdb2-4162-b67a-30a5813c5c42",
   "metadata": {},
   "outputs": [
    {
     "data": {
      "text/html": [
       "<div>\n",
       "<style scoped>\n",
       "    .dataframe tbody tr th:only-of-type {\n",
       "        vertical-align: middle;\n",
       "    }\n",
       "\n",
       "    .dataframe tbody tr th {\n",
       "        vertical-align: top;\n",
       "    }\n",
       "\n",
       "    .dataframe thead th {\n",
       "        text-align: right;\n",
       "    }\n",
       "</style>\n",
       "<table border=\"1\" class=\"dataframe\">\n",
       "  <thead>\n",
       "    <tr style=\"text-align: right;\">\n",
       "      <th></th>\n",
       "      <th>age</th>\n",
       "      <th>workclass</th>\n",
       "      <th>fnlwgt</th>\n",
       "      <th>education</th>\n",
       "      <th>education-num</th>\n",
       "      <th>marital-status</th>\n",
       "      <th>occupation</th>\n",
       "      <th>relationship</th>\n",
       "      <th>race</th>\n",
       "      <th>sex</th>\n",
       "      <th>capital-gain</th>\n",
       "      <th>capital-loss</th>\n",
       "      <th>hours-per-week</th>\n",
       "      <th>native-country</th>\n",
       "      <th>target</th>\n",
       "      <th>familiarity_conviction_addition</th>\n",
       "      <th>.session_training_index</th>\n",
       "      <th>.session</th>\n",
       "      <th>distance_contribution</th>\n",
       "    </tr>\n",
       "  </thead>\n",
       "  <tbody>\n",
       "    <tr>\n",
       "      <th>0</th>\n",
       "      <td>27</td>\n",
       "      <td>Private</td>\n",
       "      <td>284196</td>\n",
       "      <td>10th</td>\n",
       "      <td>6</td>\n",
       "      <td>Divorced</td>\n",
       "      <td>Other-service</td>\n",
       "      <td>Not-in-family</td>\n",
       "      <td>White</td>\n",
       "      <td>Female</td>\n",
       "      <td>0</td>\n",
       "      <td>0</td>\n",
       "      <td>40</td>\n",
       "      <td>United-States</td>\n",
       "      <td>&lt;=50K</td>\n",
       "      <td>13.075084</td>\n",
       "      <td>0</td>\n",
       "      <td>36928b23-3855-42d6-abc1-9c449c4bca6f</td>\n",
       "      <td>3.405597</td>\n",
       "    </tr>\n",
       "    <tr>\n",
       "      <th>1</th>\n",
       "      <td>35</td>\n",
       "      <td>Private</td>\n",
       "      <td>150125</td>\n",
       "      <td>Assoc-voc</td>\n",
       "      <td>11</td>\n",
       "      <td>Divorced</td>\n",
       "      <td>Other-service</td>\n",
       "      <td>Unmarried</td>\n",
       "      <td>Black</td>\n",
       "      <td>Female</td>\n",
       "      <td>0</td>\n",
       "      <td>0</td>\n",
       "      <td>40</td>\n",
       "      <td>United-States</td>\n",
       "      <td>&lt;=50K</td>\n",
       "      <td>11.687488</td>\n",
       "      <td>1</td>\n",
       "      <td>36928b23-3855-42d6-abc1-9c449c4bca6f</td>\n",
       "      <td>4.391143</td>\n",
       "    </tr>\n",
       "    <tr>\n",
       "      <th>2</th>\n",
       "      <td>20</td>\n",
       "      <td>Private</td>\n",
       "      <td>157541</td>\n",
       "      <td>Some-college</td>\n",
       "      <td>10</td>\n",
       "      <td>Never-married</td>\n",
       "      <td>Craft-repair</td>\n",
       "      <td>Own-child</td>\n",
       "      <td>White</td>\n",
       "      <td>Male</td>\n",
       "      <td>0</td>\n",
       "      <td>0</td>\n",
       "      <td>40</td>\n",
       "      <td>United-States</td>\n",
       "      <td>&lt;=50K</td>\n",
       "      <td>0.654311</td>\n",
       "      <td>2</td>\n",
       "      <td>36928b23-3855-42d6-abc1-9c449c4bca6f</td>\n",
       "      <td>1.895770</td>\n",
       "    </tr>\n",
       "    <tr>\n",
       "      <th>3</th>\n",
       "      <td>35</td>\n",
       "      <td>Self-emp-not-inc</td>\n",
       "      <td>102471</td>\n",
       "      <td>HS-grad</td>\n",
       "      <td>9</td>\n",
       "      <td>Divorced</td>\n",
       "      <td>Farming-fishing</td>\n",
       "      <td>Not-in-family</td>\n",
       "      <td>White</td>\n",
       "      <td>Male</td>\n",
       "      <td>0</td>\n",
       "      <td>0</td>\n",
       "      <td>80</td>\n",
       "      <td>Puerto-Rico</td>\n",
       "      <td>&lt;=50K</td>\n",
       "      <td>0.822998</td>\n",
       "      <td>3</td>\n",
       "      <td>36928b23-3855-42d6-abc1-9c449c4bca6f</td>\n",
       "      <td>6.355230</td>\n",
       "    </tr>\n",
       "    <tr>\n",
       "      <th>4</th>\n",
       "      <td>25</td>\n",
       "      <td>Self-emp-not-inc</td>\n",
       "      <td>108001</td>\n",
       "      <td>9th</td>\n",
       "      <td>5</td>\n",
       "      <td>Never-married</td>\n",
       "      <td>Craft-repair</td>\n",
       "      <td>Not-in-family</td>\n",
       "      <td>White</td>\n",
       "      <td>Male</td>\n",
       "      <td>0</td>\n",
       "      <td>0</td>\n",
       "      <td>15</td>\n",
       "      <td>United-States</td>\n",
       "      <td>&lt;=50K</td>\n",
       "      <td>7.256599</td>\n",
       "      <td>4</td>\n",
       "      <td>36928b23-3855-42d6-abc1-9c449c4bca6f</td>\n",
       "      <td>4.572374</td>\n",
       "    </tr>\n",
       "    <tr>\n",
       "      <th>...</th>\n",
       "      <td>...</td>\n",
       "      <td>...</td>\n",
       "      <td>...</td>\n",
       "      <td>...</td>\n",
       "      <td>...</td>\n",
       "      <td>...</td>\n",
       "      <td>...</td>\n",
       "      <td>...</td>\n",
       "      <td>...</td>\n",
       "      <td>...</td>\n",
       "      <td>...</td>\n",
       "      <td>...</td>\n",
       "      <td>...</td>\n",
       "      <td>...</td>\n",
       "      <td>...</td>\n",
       "      <td>...</td>\n",
       "      <td>...</td>\n",
       "      <td>...</td>\n",
       "      <td>...</td>\n",
       "    </tr>\n",
       "    <tr>\n",
       "      <th>995</th>\n",
       "      <td>29</td>\n",
       "      <td>?</td>\n",
       "      <td>188675</td>\n",
       "      <td>Some-college</td>\n",
       "      <td>10</td>\n",
       "      <td>Divorced</td>\n",
       "      <td>?</td>\n",
       "      <td>Own-child</td>\n",
       "      <td>Black</td>\n",
       "      <td>Male</td>\n",
       "      <td>0</td>\n",
       "      <td>0</td>\n",
       "      <td>40</td>\n",
       "      <td>United-States</td>\n",
       "      <td>&lt;=50K</td>\n",
       "      <td>11.135537</td>\n",
       "      <td>995</td>\n",
       "      <td>36928b23-3855-42d6-abc1-9c449c4bca6f</td>\n",
       "      <td>4.409850</td>\n",
       "    </tr>\n",
       "    <tr>\n",
       "      <th>996</th>\n",
       "      <td>53</td>\n",
       "      <td>Local-gov</td>\n",
       "      <td>287192</td>\n",
       "      <td>1st-4th</td>\n",
       "      <td>2</td>\n",
       "      <td>Married-civ-spouse</td>\n",
       "      <td>Other-service</td>\n",
       "      <td>Husband</td>\n",
       "      <td>White</td>\n",
       "      <td>Male</td>\n",
       "      <td>0</td>\n",
       "      <td>0</td>\n",
       "      <td>32</td>\n",
       "      <td>Mexico</td>\n",
       "      <td>&lt;=50K</td>\n",
       "      <td>2.229436</td>\n",
       "      <td>996</td>\n",
       "      <td>36928b23-3855-42d6-abc1-9c449c4bca6f</td>\n",
       "      <td>5.247838</td>\n",
       "    </tr>\n",
       "    <tr>\n",
       "      <th>997</th>\n",
       "      <td>39</td>\n",
       "      <td>State-gov</td>\n",
       "      <td>152023</td>\n",
       "      <td>11th</td>\n",
       "      <td>7</td>\n",
       "      <td>Married-civ-spouse</td>\n",
       "      <td>Craft-repair</td>\n",
       "      <td>Husband</td>\n",
       "      <td>White</td>\n",
       "      <td>Male</td>\n",
       "      <td>0</td>\n",
       "      <td>0</td>\n",
       "      <td>40</td>\n",
       "      <td>United-States</td>\n",
       "      <td>&lt;=50K</td>\n",
       "      <td>45.614267</td>\n",
       "      <td>997</td>\n",
       "      <td>36928b23-3855-42d6-abc1-9c449c4bca6f</td>\n",
       "      <td>3.557260</td>\n",
       "    </tr>\n",
       "    <tr>\n",
       "      <th>998</th>\n",
       "      <td>52</td>\n",
       "      <td>Private</td>\n",
       "      <td>208302</td>\n",
       "      <td>HS-grad</td>\n",
       "      <td>9</td>\n",
       "      <td>Married-civ-spouse</td>\n",
       "      <td>Sales</td>\n",
       "      <td>Husband</td>\n",
       "      <td>White</td>\n",
       "      <td>Male</td>\n",
       "      <td>0</td>\n",
       "      <td>0</td>\n",
       "      <td>36</td>\n",
       "      <td>United-States</td>\n",
       "      <td>&lt;=50K</td>\n",
       "      <td>0.433202</td>\n",
       "      <td>998</td>\n",
       "      <td>36928b23-3855-42d6-abc1-9c449c4bca6f</td>\n",
       "      <td>1.574636</td>\n",
       "    </tr>\n",
       "    <tr>\n",
       "      <th>999</th>\n",
       "      <td>42</td>\n",
       "      <td>Private</td>\n",
       "      <td>281209</td>\n",
       "      <td>Some-college</td>\n",
       "      <td>10</td>\n",
       "      <td>Married-civ-spouse</td>\n",
       "      <td>Transport-moving</td>\n",
       "      <td>Husband</td>\n",
       "      <td>White</td>\n",
       "      <td>Male</td>\n",
       "      <td>0</td>\n",
       "      <td>0</td>\n",
       "      <td>50</td>\n",
       "      <td>United-States</td>\n",
       "      <td>&lt;=50K</td>\n",
       "      <td>0.898636</td>\n",
       "      <td>999</td>\n",
       "      <td>36928b23-3855-42d6-abc1-9c449c4bca6f</td>\n",
       "      <td>2.125823</td>\n",
       "    </tr>\n",
       "  </tbody>\n",
       "</table>\n",
       "<p>1000 rows × 19 columns</p>\n",
       "</div>"
      ],
      "text/plain": [
       "     age          workclass  fnlwgt      education  education-num  \\\n",
       "0     27            Private  284196           10th              6   \n",
       "1     35            Private  150125      Assoc-voc             11   \n",
       "2     20            Private  157541   Some-college             10   \n",
       "3     35   Self-emp-not-inc  102471        HS-grad              9   \n",
       "4     25   Self-emp-not-inc  108001            9th              5   \n",
       "..   ...                ...     ...            ...            ...   \n",
       "995   29                  ?  188675   Some-college             10   \n",
       "996   53          Local-gov  287192        1st-4th              2   \n",
       "997   39          State-gov  152023           11th              7   \n",
       "998   52            Private  208302        HS-grad              9   \n",
       "999   42            Private  281209   Some-college             10   \n",
       "\n",
       "          marital-status         occupation    relationship    race      sex  \\\n",
       "0               Divorced      Other-service   Not-in-family   White   Female   \n",
       "1               Divorced      Other-service       Unmarried   Black   Female   \n",
       "2          Never-married       Craft-repair       Own-child   White     Male   \n",
       "3               Divorced    Farming-fishing   Not-in-family   White     Male   \n",
       "4          Never-married       Craft-repair   Not-in-family   White     Male   \n",
       "..                   ...                ...             ...     ...      ...   \n",
       "995             Divorced                  ?       Own-child   Black     Male   \n",
       "996   Married-civ-spouse      Other-service         Husband   White     Male   \n",
       "997   Married-civ-spouse       Craft-repair         Husband   White     Male   \n",
       "998   Married-civ-spouse              Sales         Husband   White     Male   \n",
       "999   Married-civ-spouse   Transport-moving         Husband   White     Male   \n",
       "\n",
       "     capital-gain  capital-loss  hours-per-week  native-country  target  \\\n",
       "0               0             0              40   United-States   <=50K   \n",
       "1               0             0              40   United-States   <=50K   \n",
       "2               0             0              40   United-States   <=50K   \n",
       "3               0             0              80     Puerto-Rico   <=50K   \n",
       "4               0             0              15   United-States   <=50K   \n",
       "..            ...           ...             ...             ...     ...   \n",
       "995             0             0              40   United-States   <=50K   \n",
       "996             0             0              32          Mexico   <=50K   \n",
       "997             0             0              40   United-States   <=50K   \n",
       "998             0             0              36   United-States   <=50K   \n",
       "999             0             0              50   United-States   <=50K   \n",
       "\n",
       "     familiarity_conviction_addition  .session_training_index  \\\n",
       "0                          13.075084                        0   \n",
       "1                          11.687488                        1   \n",
       "2                           0.654311                        2   \n",
       "3                           0.822998                        3   \n",
       "4                           7.256599                        4   \n",
       "..                               ...                      ...   \n",
       "995                        11.135537                      995   \n",
       "996                         2.229436                      996   \n",
       "997                        45.614267                      997   \n",
       "998                         0.433202                      998   \n",
       "999                         0.898636                      999   \n",
       "\n",
       "                                 .session  distance_contribution  \n",
       "0    36928b23-3855-42d6-abc1-9c449c4bca6f               3.405597  \n",
       "1    36928b23-3855-42d6-abc1-9c449c4bca6f               4.391143  \n",
       "2    36928b23-3855-42d6-abc1-9c449c4bca6f               1.895770  \n",
       "3    36928b23-3855-42d6-abc1-9c449c4bca6f               6.355230  \n",
       "4    36928b23-3855-42d6-abc1-9c449c4bca6f               4.572374  \n",
       "..                                    ...                    ...  \n",
       "995  36928b23-3855-42d6-abc1-9c449c4bca6f               4.409850  \n",
       "996  36928b23-3855-42d6-abc1-9c449c4bca6f               5.247838  \n",
       "997  36928b23-3855-42d6-abc1-9c449c4bca6f               3.557260  \n",
       "998  36928b23-3855-42d6-abc1-9c449c4bca6f               1.574636  \n",
       "999  36928b23-3855-42d6-abc1-9c449c4bca6f               2.125823  \n",
       "\n",
       "[1000 rows x 19 columns]"
      ]
     },
     "execution_count": 8,
     "metadata": {},
     "output_type": "execute_result"
    }
   ],
   "source": [
    "# Store the familiarity conviction, this will be used to identify anomalous cases\n",
    "t.analyze()\n",
    "t.react_into_features(familiarity_conviction_addition=True, distance_contribution=True)\n",
    "stored_convictions = t.get_cases(session=t.active_session, features=df.columns.tolist() + ['familiarity_conviction_addition','.session_training_index', '.session', 'distance_contribution'])\n",
    "\n",
    "stored_convictions"
   ]
  },
  {
   "cell_type": "code",
   "execution_count": 9,
   "id": "141c81ca-49d5-4203-85a0-bba3062da817",
   "metadata": {},
   "outputs": [],
   "source": [
    "# Threshold to determine which cases will be deemed anomalous\n",
    "convict_threshold = 0.75\n",
    "\n",
    "# Extract the anomalous cases\n",
    "low_convicts = stored_convictions[stored_convictions['familiarity_conviction_addition'] <= convict_threshold ].sort_values('familiarity_conviction_addition', ascending=True)\n",
    "\n",
    "# Average distance contribution will be used to determine if a case is an outlier or inlier\n",
    "average_dist_contribution = low_convicts['distance_contribution'].mean()\n",
    "\n",
    "# A case with distance contribution greater than average will be tagged as outlier, and vise versa for inliers\n",
    "cat = ['inlier' if d < average_dist_contribution else 'outlier' for d in low_convicts['distance_contribution']]\n",
    "low_convicts['category'] = cat"
   ]
  },
  {
   "attachments": {},
   "cell_type": "markdown",
   "id": "1cd260bd-e4e7-4ce1-8dec-4f7b046b07b5",
   "metadata": {},
   "source": [
    "## Outliers\n",
    "\n",
    "Let’s examine a few outlier cases. Outliers are cases which are very different than other cases."
   ]
  },
  {
   "cell_type": "code",
   "execution_count": 10,
   "id": "b34e8a80-02c6-4fd4-9236-67268b02c220",
   "metadata": {},
   "outputs": [
    {
     "data": {
      "text/html": [
       "<div>\n",
       "<style scoped>\n",
       "    .dataframe tbody tr th:only-of-type {\n",
       "        vertical-align: middle;\n",
       "    }\n",
       "\n",
       "    .dataframe tbody tr th {\n",
       "        vertical-align: top;\n",
       "    }\n",
       "\n",
       "    .dataframe thead th {\n",
       "        text-align: right;\n",
       "    }\n",
       "</style>\n",
       "<table border=\"1\" class=\"dataframe\">\n",
       "  <thead>\n",
       "    <tr style=\"text-align: right;\">\n",
       "      <th></th>\n",
       "      <th>age</th>\n",
       "      <th>workclass</th>\n",
       "      <th>fnlwgt</th>\n",
       "      <th>education</th>\n",
       "      <th>education-num</th>\n",
       "      <th>marital-status</th>\n",
       "      <th>occupation</th>\n",
       "      <th>relationship</th>\n",
       "      <th>race</th>\n",
       "      <th>sex</th>\n",
       "      <th>capital-gain</th>\n",
       "      <th>capital-loss</th>\n",
       "      <th>hours-per-week</th>\n",
       "      <th>native-country</th>\n",
       "      <th>target</th>\n",
       "      <th>familiarity_conviction_addition</th>\n",
       "      <th>.session_training_index</th>\n",
       "      <th>.session</th>\n",
       "      <th>distance_contribution</th>\n",
       "      <th>category</th>\n",
       "    </tr>\n",
       "  </thead>\n",
       "  <tbody>\n",
       "    <tr>\n",
       "      <th>0</th>\n",
       "      <td>46</td>\n",
       "      <td>Local-gov</td>\n",
       "      <td>222115</td>\n",
       "      <td>Bachelors</td>\n",
       "      <td>13</td>\n",
       "      <td>Divorced</td>\n",
       "      <td>Adm-clerical</td>\n",
       "      <td>Not-in-family</td>\n",
       "      <td>White</td>\n",
       "      <td>Female</td>\n",
       "      <td>99999</td>\n",
       "      <td>0</td>\n",
       "      <td>40</td>\n",
       "      <td>United-States</td>\n",
       "      <td>&gt;50K</td>\n",
       "      <td>0.063868</td>\n",
       "      <td>531</td>\n",
       "      <td>36928b23-3855-42d6-abc1-9c449c4bca6f</td>\n",
       "      <td>16.625742</td>\n",
       "      <td>outlier</td>\n",
       "    </tr>\n",
       "    <tr>\n",
       "      <th>1</th>\n",
       "      <td>39</td>\n",
       "      <td>Self-emp-inc</td>\n",
       "      <td>114844</td>\n",
       "      <td>Prof-school</td>\n",
       "      <td>15</td>\n",
       "      <td>Married-civ-spouse</td>\n",
       "      <td>Prof-specialty</td>\n",
       "      <td>Husband</td>\n",
       "      <td>White</td>\n",
       "      <td>Male</td>\n",
       "      <td>99999</td>\n",
       "      <td>0</td>\n",
       "      <td>65</td>\n",
       "      <td>United-States</td>\n",
       "      <td>&gt;50K</td>\n",
       "      <td>0.081267</td>\n",
       "      <td>170</td>\n",
       "      <td>36928b23-3855-42d6-abc1-9c449c4bca6f</td>\n",
       "      <td>13.687340</td>\n",
       "      <td>outlier</td>\n",
       "    </tr>\n",
       "    <tr>\n",
       "      <th>2</th>\n",
       "      <td>74</td>\n",
       "      <td>Private</td>\n",
       "      <td>188709</td>\n",
       "      <td>Prof-school</td>\n",
       "      <td>15</td>\n",
       "      <td>Married-civ-spouse</td>\n",
       "      <td>Prof-specialty</td>\n",
       "      <td>Husband</td>\n",
       "      <td>White</td>\n",
       "      <td>Male</td>\n",
       "      <td>99999</td>\n",
       "      <td>0</td>\n",
       "      <td>50</td>\n",
       "      <td>United-States</td>\n",
       "      <td>&gt;50K</td>\n",
       "      <td>0.086136</td>\n",
       "      <td>58</td>\n",
       "      <td>36928b23-3855-42d6-abc1-9c449c4bca6f</td>\n",
       "      <td>12.713613</td>\n",
       "      <td>outlier</td>\n",
       "    </tr>\n",
       "    <tr>\n",
       "      <th>3</th>\n",
       "      <td>50</td>\n",
       "      <td>Private</td>\n",
       "      <td>183173</td>\n",
       "      <td>HS-grad</td>\n",
       "      <td>9</td>\n",
       "      <td>Married-civ-spouse</td>\n",
       "      <td>Prof-specialty</td>\n",
       "      <td>Husband</td>\n",
       "      <td>White</td>\n",
       "      <td>Male</td>\n",
       "      <td>99999</td>\n",
       "      <td>0</td>\n",
       "      <td>40</td>\n",
       "      <td>United-States</td>\n",
       "      <td>&gt;50K</td>\n",
       "      <td>0.086615</td>\n",
       "      <td>872</td>\n",
       "      <td>36928b23-3855-42d6-abc1-9c449c4bca6f</td>\n",
       "      <td>12.538070</td>\n",
       "      <td>outlier</td>\n",
       "    </tr>\n",
       "    <tr>\n",
       "      <th>4</th>\n",
       "      <td>55</td>\n",
       "      <td>Private</td>\n",
       "      <td>197399</td>\n",
       "      <td>Masters</td>\n",
       "      <td>14</td>\n",
       "      <td>Married-civ-spouse</td>\n",
       "      <td>Exec-managerial</td>\n",
       "      <td>Husband</td>\n",
       "      <td>White</td>\n",
       "      <td>Male</td>\n",
       "      <td>99999</td>\n",
       "      <td>0</td>\n",
       "      <td>55</td>\n",
       "      <td>United-States</td>\n",
       "      <td>&gt;50K</td>\n",
       "      <td>0.087340</td>\n",
       "      <td>67</td>\n",
       "      <td>36928b23-3855-42d6-abc1-9c449c4bca6f</td>\n",
       "      <td>12.306585</td>\n",
       "      <td>outlier</td>\n",
       "    </tr>\n",
       "    <tr>\n",
       "      <th>...</th>\n",
       "      <td>...</td>\n",
       "      <td>...</td>\n",
       "      <td>...</td>\n",
       "      <td>...</td>\n",
       "      <td>...</td>\n",
       "      <td>...</td>\n",
       "      <td>...</td>\n",
       "      <td>...</td>\n",
       "      <td>...</td>\n",
       "      <td>...</td>\n",
       "      <td>...</td>\n",
       "      <td>...</td>\n",
       "      <td>...</td>\n",
       "      <td>...</td>\n",
       "      <td>...</td>\n",
       "      <td>...</td>\n",
       "      <td>...</td>\n",
       "      <td>...</td>\n",
       "      <td>...</td>\n",
       "      <td>...</td>\n",
       "    </tr>\n",
       "    <tr>\n",
       "      <th>58</th>\n",
       "      <td>24</td>\n",
       "      <td>State-gov</td>\n",
       "      <td>27939</td>\n",
       "      <td>Some-college</td>\n",
       "      <td>10</td>\n",
       "      <td>Married-civ-spouse</td>\n",
       "      <td>Other-service</td>\n",
       "      <td>Husband</td>\n",
       "      <td>Asian-Pac-Islander</td>\n",
       "      <td>Male</td>\n",
       "      <td>0</td>\n",
       "      <td>0</td>\n",
       "      <td>24</td>\n",
       "      <td>?</td>\n",
       "      <td>&lt;=50K</td>\n",
       "      <td>0.695685</td>\n",
       "      <td>106</td>\n",
       "      <td>36928b23-3855-42d6-abc1-9c449c4bca6f</td>\n",
       "      <td>6.612450</td>\n",
       "      <td>outlier</td>\n",
       "    </tr>\n",
       "    <tr>\n",
       "      <th>59</th>\n",
       "      <td>60</td>\n",
       "      <td>Private</td>\n",
       "      <td>139586</td>\n",
       "      <td>Assoc-voc</td>\n",
       "      <td>11</td>\n",
       "      <td>Widowed</td>\n",
       "      <td>Exec-managerial</td>\n",
       "      <td>Unmarried</td>\n",
       "      <td>Asian-Pac-Islander</td>\n",
       "      <td>Female</td>\n",
       "      <td>0</td>\n",
       "      <td>0</td>\n",
       "      <td>40</td>\n",
       "      <td>United-States</td>\n",
       "      <td>&gt;50K</td>\n",
       "      <td>0.705769</td>\n",
       "      <td>806</td>\n",
       "      <td>36928b23-3855-42d6-abc1-9c449c4bca6f</td>\n",
       "      <td>6.595706</td>\n",
       "      <td>outlier</td>\n",
       "    </tr>\n",
       "    <tr>\n",
       "      <th>60</th>\n",
       "      <td>28</td>\n",
       "      <td>Private</td>\n",
       "      <td>330466</td>\n",
       "      <td>Bachelors</td>\n",
       "      <td>13</td>\n",
       "      <td>Never-married</td>\n",
       "      <td>Prof-specialty</td>\n",
       "      <td>Not-in-family</td>\n",
       "      <td>Asian-Pac-Islander</td>\n",
       "      <td>Male</td>\n",
       "      <td>0</td>\n",
       "      <td>0</td>\n",
       "      <td>40</td>\n",
       "      <td>Hong</td>\n",
       "      <td>&lt;=50K</td>\n",
       "      <td>0.716683</td>\n",
       "      <td>242</td>\n",
       "      <td>36928b23-3855-42d6-abc1-9c449c4bca6f</td>\n",
       "      <td>6.567220</td>\n",
       "      <td>outlier</td>\n",
       "    </tr>\n",
       "    <tr>\n",
       "      <th>61</th>\n",
       "      <td>43</td>\n",
       "      <td>Private</td>\n",
       "      <td>972354</td>\n",
       "      <td>Some-college</td>\n",
       "      <td>10</td>\n",
       "      <td>Married-civ-spouse</td>\n",
       "      <td>Other-service</td>\n",
       "      <td>Husband</td>\n",
       "      <td>White</td>\n",
       "      <td>Male</td>\n",
       "      <td>0</td>\n",
       "      <td>0</td>\n",
       "      <td>48</td>\n",
       "      <td>United-States</td>\n",
       "      <td>&lt;=50K</td>\n",
       "      <td>0.727575</td>\n",
       "      <td>535</td>\n",
       "      <td>36928b23-3855-42d6-abc1-9c449c4bca6f</td>\n",
       "      <td>6.546316</td>\n",
       "      <td>outlier</td>\n",
       "    </tr>\n",
       "    <tr>\n",
       "      <th>62</th>\n",
       "      <td>40</td>\n",
       "      <td>Local-gov</td>\n",
       "      <td>244522</td>\n",
       "      <td>Masters</td>\n",
       "      <td>14</td>\n",
       "      <td>Married-civ-spouse</td>\n",
       "      <td>Prof-specialty</td>\n",
       "      <td>Husband</td>\n",
       "      <td>White</td>\n",
       "      <td>Male</td>\n",
       "      <td>0</td>\n",
       "      <td>1902</td>\n",
       "      <td>48</td>\n",
       "      <td>United-States</td>\n",
       "      <td>&gt;50K</td>\n",
       "      <td>0.745758</td>\n",
       "      <td>222</td>\n",
       "      <td>36928b23-3855-42d6-abc1-9c449c4bca6f</td>\n",
       "      <td>6.130466</td>\n",
       "      <td>outlier</td>\n",
       "    </tr>\n",
       "  </tbody>\n",
       "</table>\n",
       "<p>63 rows × 20 columns</p>\n",
       "</div>"
      ],
      "text/plain": [
       "    age      workclass  fnlwgt      education  education-num  \\\n",
       "0    46      Local-gov  222115      Bachelors             13   \n",
       "1    39   Self-emp-inc  114844    Prof-school             15   \n",
       "2    74        Private  188709    Prof-school             15   \n",
       "3    50        Private  183173        HS-grad              9   \n",
       "4    55        Private  197399        Masters             14   \n",
       "..  ...            ...     ...            ...            ...   \n",
       "58   24      State-gov   27939   Some-college             10   \n",
       "59   60        Private  139586      Assoc-voc             11   \n",
       "60   28        Private  330466      Bachelors             13   \n",
       "61   43        Private  972354   Some-college             10   \n",
       "62   40      Local-gov  244522        Masters             14   \n",
       "\n",
       "         marital-status        occupation    relationship  \\\n",
       "0              Divorced      Adm-clerical   Not-in-family   \n",
       "1    Married-civ-spouse    Prof-specialty         Husband   \n",
       "2    Married-civ-spouse    Prof-specialty         Husband   \n",
       "3    Married-civ-spouse    Prof-specialty         Husband   \n",
       "4    Married-civ-spouse   Exec-managerial         Husband   \n",
       "..                  ...               ...             ...   \n",
       "58   Married-civ-spouse     Other-service         Husband   \n",
       "59              Widowed   Exec-managerial       Unmarried   \n",
       "60        Never-married    Prof-specialty   Not-in-family   \n",
       "61   Married-civ-spouse     Other-service         Husband   \n",
       "62   Married-civ-spouse    Prof-specialty         Husband   \n",
       "\n",
       "                   race      sex  capital-gain  capital-loss  hours-per-week  \\\n",
       "0                 White   Female         99999             0              40   \n",
       "1                 White     Male         99999             0              65   \n",
       "2                 White     Male         99999             0              50   \n",
       "3                 White     Male         99999             0              40   \n",
       "4                 White     Male         99999             0              55   \n",
       "..                  ...      ...           ...           ...             ...   \n",
       "58   Asian-Pac-Islander     Male             0             0              24   \n",
       "59   Asian-Pac-Islander   Female             0             0              40   \n",
       "60   Asian-Pac-Islander     Male             0             0              40   \n",
       "61                White     Male             0             0              48   \n",
       "62                White     Male             0          1902              48   \n",
       "\n",
       "    native-country  target  familiarity_conviction_addition  \\\n",
       "0    United-States    >50K                         0.063868   \n",
       "1    United-States    >50K                         0.081267   \n",
       "2    United-States    >50K                         0.086136   \n",
       "3    United-States    >50K                         0.086615   \n",
       "4    United-States    >50K                         0.087340   \n",
       "..             ...     ...                              ...   \n",
       "58               ?   <=50K                         0.695685   \n",
       "59   United-States    >50K                         0.705769   \n",
       "60            Hong   <=50K                         0.716683   \n",
       "61   United-States   <=50K                         0.727575   \n",
       "62   United-States    >50K                         0.745758   \n",
       "\n",
       "    .session_training_index                              .session  \\\n",
       "0                       531  36928b23-3855-42d6-abc1-9c449c4bca6f   \n",
       "1                       170  36928b23-3855-42d6-abc1-9c449c4bca6f   \n",
       "2                        58  36928b23-3855-42d6-abc1-9c449c4bca6f   \n",
       "3                       872  36928b23-3855-42d6-abc1-9c449c4bca6f   \n",
       "4                        67  36928b23-3855-42d6-abc1-9c449c4bca6f   \n",
       "..                      ...                                   ...   \n",
       "58                      106  36928b23-3855-42d6-abc1-9c449c4bca6f   \n",
       "59                      806  36928b23-3855-42d6-abc1-9c449c4bca6f   \n",
       "60                      242  36928b23-3855-42d6-abc1-9c449c4bca6f   \n",
       "61                      535  36928b23-3855-42d6-abc1-9c449c4bca6f   \n",
       "62                      222  36928b23-3855-42d6-abc1-9c449c4bca6f   \n",
       "\n",
       "    distance_contribution category  \n",
       "0               16.625742  outlier  \n",
       "1               13.687340  outlier  \n",
       "2               12.713613  outlier  \n",
       "3               12.538070  outlier  \n",
       "4               12.306585  outlier  \n",
       "..                    ...      ...  \n",
       "58               6.612450  outlier  \n",
       "59               6.595706  outlier  \n",
       "60               6.567220  outlier  \n",
       "61               6.546316  outlier  \n",
       "62               6.130466  outlier  \n",
       "\n",
       "[63 rows x 20 columns]"
      ]
     },
     "execution_count": 10,
     "metadata": {},
     "output_type": "execute_result"
    }
   ],
   "source": [
    "# Extract the outliers cases\n",
    "outliers = low_convicts[low_convicts['category'] == 'outlier'].reset_index(drop=True)\n",
    "outliers"
   ]
  },
  {
   "cell_type": "code",
   "execution_count": 11,
   "id": "44d990c4-a58b-4380-ba15-cc21643dbf9a",
   "metadata": {},
   "outputs": [],
   "source": [
    "# Cache global non-robust residuals into trainee\n",
    "t.react_into_trainee(residuals=True)\n",
    "\n",
    "# Get the case_feature_residual_convictions, influential_cases and boundary_cases\n",
    "details = {'robust_computation': True,\n",
    "           'global_case_feature_residual_convictions': True, \n",
    "           'local_case_feature_residual_convictions': True}\n",
    "\n",
    "# Specify outlier cases\n",
    "outliers_indices = outliers[['.session', '.session_training_index']].values\n",
    "\n",
    "# React to get the details of each case\n",
    "results = t.react(case_indices=outliers_indices, \n",
    "                  preserve_feature_values=df.columns.tolist(), \n",
    "                  leave_case_out=True, \n",
    "                  details=details)"
   ]
  },
  {
   "cell_type": "code",
   "execution_count": 12,
   "id": "4faf2ab7-c86c-47a8-9707-bdb2dcf191cb",
   "metadata": {},
   "outputs": [],
   "source": [
    "# Extract the global and local case feature residual convictions\n",
    "global_case_feature_residual_convictions = pd.DataFrame(results['explanation']['global_case_feature_residual_convictions'])[df.columns.tolist()]\n",
    "local_case_feature_residual_convictions = pd.DataFrame(results['explanation']['local_case_feature_residual_convictions'])[df.columns.tolist()]"
   ]
  },
  {
   "cell_type": "code",
   "execution_count": 13,
   "id": "3b45f0b1-fe30-4146-9dbf-90e1efd32645",
   "metadata": {},
   "outputs": [
    {
     "data": {
      "application/vnd.plotly.v1+json": {
       "config": {
        "plotlyServerURL": "https://plot.ly"
       },
       "data": [
        {
         "coloraxis": "coloraxis",
         "hovertemplate": "Conviction=%{z}",
         "name": "Outliers",
         "text": [
          [
           "46",
           " Local-gov",
           "222115",
           " Bachelors",
           "13",
           " Divorced",
           " Adm-clerical",
           " Not-in-family",
           " White",
           " Female",
           "99999",
           "0",
           "40",
           " United-States",
           " >50K",
           "0.06386752890724602",
           "531",
           "36928b23-3855-42d6-abc1-9c449c4bca6f",
           "16.62574153251527",
           "outlier"
          ],
          [
           "39",
           " Self-emp-inc",
           "114844",
           " Prof-school",
           "15",
           " Married-civ-spouse",
           " Prof-specialty",
           " Husband",
           " White",
           " Male",
           "99999",
           "0",
           "65",
           " United-States",
           " >50K",
           "0.08126669315290606",
           "170",
           "36928b23-3855-42d6-abc1-9c449c4bca6f",
           "13.687340129629076",
           "outlier"
          ],
          [
           "74",
           " Private",
           "188709",
           " Prof-school",
           "15",
           " Married-civ-spouse",
           " Prof-specialty",
           " Husband",
           " White",
           " Male",
           "99999",
           "0",
           "50",
           " United-States",
           " >50K",
           "0.08613563263016599",
           "58",
           "36928b23-3855-42d6-abc1-9c449c4bca6f",
           "12.713613460640751",
           "outlier"
          ],
          [
           "50",
           " Private",
           "183173",
           " HS-grad",
           "9",
           " Married-civ-spouse",
           " Prof-specialty",
           " Husband",
           " White",
           " Male",
           "99999",
           "0",
           "40",
           " United-States",
           " >50K",
           "0.08661514873619139",
           "872",
           "36928b23-3855-42d6-abc1-9c449c4bca6f",
           "12.538070155565403",
           "outlier"
          ],
          [
           "55",
           " Private",
           "197399",
           " Masters",
           "14",
           " Married-civ-spouse",
           " Exec-managerial",
           " Husband",
           " White",
           " Male",
           "99999",
           "0",
           "55",
           " United-States",
           " >50K",
           "0.08734032416754114",
           "67",
           "36928b23-3855-42d6-abc1-9c449c4bca6f",
           "12.30658469440127",
           "outlier"
          ]
         ],
         "texttemplate": "%{text}",
         "type": "heatmap",
         "x": [
          "age",
          "workclass",
          "fnlwgt",
          "education",
          "education-num",
          "marital-status",
          "occupation",
          "relationship",
          "race",
          "sex",
          "capital-gain",
          "capital-loss",
          "hours-per-week",
          "native-country",
          "target"
         ],
         "xgap": 3,
         "y": [
          0,
          1,
          2,
          3,
          4
         ],
         "ygap": 3,
         "z": [
          [
           2.250633061619349,
           0.58425278071,
           0.9778385618810747,
           1.1918231106522486,
           0.9035121416938608,
           0.25288038602273993,
           0.6841106826523204,
           0.2662268321923856,
           3.0917236498775336,
           0.06146522674167788,
           0.028238586803530384,
           1.8593904421241554,
           1.4426338190336363,
           1.3051622704289347,
           0.3321913259804024
          ],
          [
           0.9266339389511861,
           0.6455591272659027,
           0.4730375462956597,
           0.8267928294410132,
           0.7323378015424976,
           2.4601100072475655,
           1.0177141898914777,
           1.821056870465156,
           1.3392063657085096,
           2.149881346780433,
           0.07176676374777503,
           3.519521479876138,
           0.4665007856627928,
           1.9016988748515182,
           2.817261591526771
          ],
          [
           0.25182796179841604,
           1.3812792734511377,
           3.7481922572660027,
           0.9074703025824155,
           1.0006439408446228,
           3.492700692115116,
           1.5315020706218103,
           2.531309331069151,
           3.615819070269916,
           2.771153037980574,
           0.10887234154078947,
           0.9756659435550804,
           2.279038440120042,
           0.8925377486131219,
           0.4290671146325348
          ],
          [
           2.68777728194198,
           1.980456646988751,
           2.3460236931538327,
           1.5028370144769332,
           0.6176633202625078,
           2.0904904526739756,
           1.0623822108290286,
           1.648247248581014,
           5.240874756960099,
           2.1739665329454443,
           0.01523044467359931,
           0.4083641114563921,
           1.1660419859065896,
           1.5462207215017292,
           0.7517077748997527
          ],
          [
           2.106024394770638,
           1.6855445973533107,
           1.5375646930937286,
           1.0282270130545248,
           0.7933129533757431,
           2.0551088848671686,
           0.744828765845502,
           0.7540610277282287,
           3.996459677308056,
           1.607185069576311,
           0.06302514743645712,
           0.3471490129920781,
           1.5819933095462915,
           0.8224749231136463,
           2.3031890929786933
          ]
         ]
        }
       ],
       "layout": {
        "coloraxis": {
         "cmax": 5,
         "cmin": 0,
         "colorbar": {
          "ticktext": [
           "0",
           "0.5",
           "1",
           "1.5",
           "2",
           "2.5",
           "3",
           "3.5",
           "4",
           "4.5",
           "≥5"
          ],
          "tickvals": [
           0,
           0.5,
           1,
           1.5,
           2,
           2.5,
           3,
           3.5,
           4,
           4.5,
           5
          ],
          "title": {
           "text": "Conviction"
          }
         },
         "colorscale": [
          [
           0,
           "rgb(103,0,31)"
          ],
          [
           0.2,
           "rgb(247, 247, 247)"
          ],
          [
           0.4,
           "rgb(67,147,195)"
          ],
          [
           1,
           "rgb(5,48,97)"
          ]
         ]
        },
        "template": {
         "data": {
          "bar": [
           {
            "error_x": {
             "color": "#2a3f5f"
            },
            "error_y": {
             "color": "#2a3f5f"
            },
            "marker": {
             "line": {
              "color": "#E5ECF6",
              "width": 0.5
             },
             "pattern": {
              "fillmode": "overlay",
              "size": 10,
              "solidity": 0.2
             }
            },
            "type": "bar"
           }
          ],
          "barpolar": [
           {
            "marker": {
             "line": {
              "color": "#E5ECF6",
              "width": 0.5
             },
             "pattern": {
              "fillmode": "overlay",
              "size": 10,
              "solidity": 0.2
             }
            },
            "type": "barpolar"
           }
          ],
          "carpet": [
           {
            "aaxis": {
             "endlinecolor": "#2a3f5f",
             "gridcolor": "white",
             "linecolor": "white",
             "minorgridcolor": "white",
             "startlinecolor": "#2a3f5f"
            },
            "baxis": {
             "endlinecolor": "#2a3f5f",
             "gridcolor": "white",
             "linecolor": "white",
             "minorgridcolor": "white",
             "startlinecolor": "#2a3f5f"
            },
            "type": "carpet"
           }
          ],
          "choropleth": [
           {
            "colorbar": {
             "outlinewidth": 0,
             "ticks": ""
            },
            "type": "choropleth"
           }
          ],
          "contour": [
           {
            "colorbar": {
             "outlinewidth": 0,
             "ticks": ""
            },
            "colorscale": [
             [
              0,
              "#0d0887"
             ],
             [
              0.1111111111111111,
              "#46039f"
             ],
             [
              0.2222222222222222,
              "#7201a8"
             ],
             [
              0.3333333333333333,
              "#9c179e"
             ],
             [
              0.4444444444444444,
              "#bd3786"
             ],
             [
              0.5555555555555556,
              "#d8576b"
             ],
             [
              0.6666666666666666,
              "#ed7953"
             ],
             [
              0.7777777777777778,
              "#fb9f3a"
             ],
             [
              0.8888888888888888,
              "#fdca26"
             ],
             [
              1,
              "#f0f921"
             ]
            ],
            "type": "contour"
           }
          ],
          "contourcarpet": [
           {
            "colorbar": {
             "outlinewidth": 0,
             "ticks": ""
            },
            "type": "contourcarpet"
           }
          ],
          "heatmap": [
           {
            "colorbar": {
             "outlinewidth": 0,
             "ticks": ""
            },
            "colorscale": [
             [
              0,
              "#0d0887"
             ],
             [
              0.1111111111111111,
              "#46039f"
             ],
             [
              0.2222222222222222,
              "#7201a8"
             ],
             [
              0.3333333333333333,
              "#9c179e"
             ],
             [
              0.4444444444444444,
              "#bd3786"
             ],
             [
              0.5555555555555556,
              "#d8576b"
             ],
             [
              0.6666666666666666,
              "#ed7953"
             ],
             [
              0.7777777777777778,
              "#fb9f3a"
             ],
             [
              0.8888888888888888,
              "#fdca26"
             ],
             [
              1,
              "#f0f921"
             ]
            ],
            "type": "heatmap"
           }
          ],
          "heatmapgl": [
           {
            "colorbar": {
             "outlinewidth": 0,
             "ticks": ""
            },
            "colorscale": [
             [
              0,
              "#0d0887"
             ],
             [
              0.1111111111111111,
              "#46039f"
             ],
             [
              0.2222222222222222,
              "#7201a8"
             ],
             [
              0.3333333333333333,
              "#9c179e"
             ],
             [
              0.4444444444444444,
              "#bd3786"
             ],
             [
              0.5555555555555556,
              "#d8576b"
             ],
             [
              0.6666666666666666,
              "#ed7953"
             ],
             [
              0.7777777777777778,
              "#fb9f3a"
             ],
             [
              0.8888888888888888,
              "#fdca26"
             ],
             [
              1,
              "#f0f921"
             ]
            ],
            "type": "heatmapgl"
           }
          ],
          "histogram": [
           {
            "marker": {
             "pattern": {
              "fillmode": "overlay",
              "size": 10,
              "solidity": 0.2
             }
            },
            "type": "histogram"
           }
          ],
          "histogram2d": [
           {
            "colorbar": {
             "outlinewidth": 0,
             "ticks": ""
            },
            "colorscale": [
             [
              0,
              "#0d0887"
             ],
             [
              0.1111111111111111,
              "#46039f"
             ],
             [
              0.2222222222222222,
              "#7201a8"
             ],
             [
              0.3333333333333333,
              "#9c179e"
             ],
             [
              0.4444444444444444,
              "#bd3786"
             ],
             [
              0.5555555555555556,
              "#d8576b"
             ],
             [
              0.6666666666666666,
              "#ed7953"
             ],
             [
              0.7777777777777778,
              "#fb9f3a"
             ],
             [
              0.8888888888888888,
              "#fdca26"
             ],
             [
              1,
              "#f0f921"
             ]
            ],
            "type": "histogram2d"
           }
          ],
          "histogram2dcontour": [
           {
            "colorbar": {
             "outlinewidth": 0,
             "ticks": ""
            },
            "colorscale": [
             [
              0,
              "#0d0887"
             ],
             [
              0.1111111111111111,
              "#46039f"
             ],
             [
              0.2222222222222222,
              "#7201a8"
             ],
             [
              0.3333333333333333,
              "#9c179e"
             ],
             [
              0.4444444444444444,
              "#bd3786"
             ],
             [
              0.5555555555555556,
              "#d8576b"
             ],
             [
              0.6666666666666666,
              "#ed7953"
             ],
             [
              0.7777777777777778,
              "#fb9f3a"
             ],
             [
              0.8888888888888888,
              "#fdca26"
             ],
             [
              1,
              "#f0f921"
             ]
            ],
            "type": "histogram2dcontour"
           }
          ],
          "mesh3d": [
           {
            "colorbar": {
             "outlinewidth": 0,
             "ticks": ""
            },
            "type": "mesh3d"
           }
          ],
          "parcoords": [
           {
            "line": {
             "colorbar": {
              "outlinewidth": 0,
              "ticks": ""
             }
            },
            "type": "parcoords"
           }
          ],
          "pie": [
           {
            "automargin": true,
            "type": "pie"
           }
          ],
          "scatter": [
           {
            "fillpattern": {
             "fillmode": "overlay",
             "size": 10,
             "solidity": 0.2
            },
            "type": "scatter"
           }
          ],
          "scatter3d": [
           {
            "line": {
             "colorbar": {
              "outlinewidth": 0,
              "ticks": ""
             }
            },
            "marker": {
             "colorbar": {
              "outlinewidth": 0,
              "ticks": ""
             }
            },
            "type": "scatter3d"
           }
          ],
          "scattercarpet": [
           {
            "marker": {
             "colorbar": {
              "outlinewidth": 0,
              "ticks": ""
             }
            },
            "type": "scattercarpet"
           }
          ],
          "scattergeo": [
           {
            "marker": {
             "colorbar": {
              "outlinewidth": 0,
              "ticks": ""
             }
            },
            "type": "scattergeo"
           }
          ],
          "scattergl": [
           {
            "marker": {
             "colorbar": {
              "outlinewidth": 0,
              "ticks": ""
             }
            },
            "type": "scattergl"
           }
          ],
          "scattermapbox": [
           {
            "marker": {
             "colorbar": {
              "outlinewidth": 0,
              "ticks": ""
             }
            },
            "type": "scattermapbox"
           }
          ],
          "scatterpolar": [
           {
            "marker": {
             "colorbar": {
              "outlinewidth": 0,
              "ticks": ""
             }
            },
            "type": "scatterpolar"
           }
          ],
          "scatterpolargl": [
           {
            "marker": {
             "colorbar": {
              "outlinewidth": 0,
              "ticks": ""
             }
            },
            "type": "scatterpolargl"
           }
          ],
          "scatterternary": [
           {
            "marker": {
             "colorbar": {
              "outlinewidth": 0,
              "ticks": ""
             }
            },
            "type": "scatterternary"
           }
          ],
          "surface": [
           {
            "colorbar": {
             "outlinewidth": 0,
             "ticks": ""
            },
            "colorscale": [
             [
              0,
              "#0d0887"
             ],
             [
              0.1111111111111111,
              "#46039f"
             ],
             [
              0.2222222222222222,
              "#7201a8"
             ],
             [
              0.3333333333333333,
              "#9c179e"
             ],
             [
              0.4444444444444444,
              "#bd3786"
             ],
             [
              0.5555555555555556,
              "#d8576b"
             ],
             [
              0.6666666666666666,
              "#ed7953"
             ],
             [
              0.7777777777777778,
              "#fb9f3a"
             ],
             [
              0.8888888888888888,
              "#fdca26"
             ],
             [
              1,
              "#f0f921"
             ]
            ],
            "type": "surface"
           }
          ],
          "table": [
           {
            "cells": {
             "fill": {
              "color": "#EBF0F8"
             },
             "line": {
              "color": "white"
             }
            },
            "header": {
             "fill": {
              "color": "#C8D4E3"
             },
             "line": {
              "color": "white"
             }
            },
            "type": "table"
           }
          ]
         },
         "layout": {
          "annotationdefaults": {
           "arrowcolor": "#2a3f5f",
           "arrowhead": 0,
           "arrowwidth": 1
          },
          "autotypenumbers": "strict",
          "coloraxis": {
           "colorbar": {
            "outlinewidth": 0,
            "ticks": ""
           }
          },
          "colorscale": {
           "diverging": [
            [
             0,
             "#8e0152"
            ],
            [
             0.1,
             "#c51b7d"
            ],
            [
             0.2,
             "#de77ae"
            ],
            [
             0.3,
             "#f1b6da"
            ],
            [
             0.4,
             "#fde0ef"
            ],
            [
             0.5,
             "#f7f7f7"
            ],
            [
             0.6,
             "#e6f5d0"
            ],
            [
             0.7,
             "#b8e186"
            ],
            [
             0.8,
             "#7fbc41"
            ],
            [
             0.9,
             "#4d9221"
            ],
            [
             1,
             "#276419"
            ]
           ],
           "sequential": [
            [
             0,
             "#0d0887"
            ],
            [
             0.1111111111111111,
             "#46039f"
            ],
            [
             0.2222222222222222,
             "#7201a8"
            ],
            [
             0.3333333333333333,
             "#9c179e"
            ],
            [
             0.4444444444444444,
             "#bd3786"
            ],
            [
             0.5555555555555556,
             "#d8576b"
            ],
            [
             0.6666666666666666,
             "#ed7953"
            ],
            [
             0.7777777777777778,
             "#fb9f3a"
            ],
            [
             0.8888888888888888,
             "#fdca26"
            ],
            [
             1,
             "#f0f921"
            ]
           ],
           "sequentialminus": [
            [
             0,
             "#0d0887"
            ],
            [
             0.1111111111111111,
             "#46039f"
            ],
            [
             0.2222222222222222,
             "#7201a8"
            ],
            [
             0.3333333333333333,
             "#9c179e"
            ],
            [
             0.4444444444444444,
             "#bd3786"
            ],
            [
             0.5555555555555556,
             "#d8576b"
            ],
            [
             0.6666666666666666,
             "#ed7953"
            ],
            [
             0.7777777777777778,
             "#fb9f3a"
            ],
            [
             0.8888888888888888,
             "#fdca26"
            ],
            [
             1,
             "#f0f921"
            ]
           ]
          },
          "colorway": [
           "#636efa",
           "#EF553B",
           "#00cc96",
           "#ab63fa",
           "#FFA15A",
           "#19d3f3",
           "#FF6692",
           "#B6E880",
           "#FF97FF",
           "#FECB52"
          ],
          "font": {
           "color": "#2a3f5f"
          },
          "geo": {
           "bgcolor": "white",
           "lakecolor": "white",
           "landcolor": "#E5ECF6",
           "showlakes": true,
           "showland": true,
           "subunitcolor": "white"
          },
          "hoverlabel": {
           "align": "left"
          },
          "hovermode": "closest",
          "mapbox": {
           "style": "light"
          },
          "paper_bgcolor": "white",
          "plot_bgcolor": "#E5ECF6",
          "polar": {
           "angularaxis": {
            "gridcolor": "white",
            "linecolor": "white",
            "ticks": ""
           },
           "bgcolor": "#E5ECF6",
           "radialaxis": {
            "gridcolor": "white",
            "linecolor": "white",
            "ticks": ""
           }
          },
          "scene": {
           "xaxis": {
            "backgroundcolor": "#E5ECF6",
            "gridcolor": "white",
            "gridwidth": 2,
            "linecolor": "white",
            "showbackground": true,
            "ticks": "",
            "zerolinecolor": "white"
           },
           "yaxis": {
            "backgroundcolor": "#E5ECF6",
            "gridcolor": "white",
            "gridwidth": 2,
            "linecolor": "white",
            "showbackground": true,
            "ticks": "",
            "zerolinecolor": "white"
           },
           "zaxis": {
            "backgroundcolor": "#E5ECF6",
            "gridcolor": "white",
            "gridwidth": 2,
            "linecolor": "white",
            "showbackground": true,
            "ticks": "",
            "zerolinecolor": "white"
           }
          },
          "shapedefaults": {
           "line": {
            "color": "#2a3f5f"
           }
          },
          "ternary": {
           "aaxis": {
            "gridcolor": "white",
            "linecolor": "white",
            "ticks": ""
           },
           "baxis": {
            "gridcolor": "white",
            "linecolor": "white",
            "ticks": ""
           },
           "bgcolor": "#E5ECF6",
           "caxis": {
            "gridcolor": "white",
            "linecolor": "white",
            "ticks": ""
           }
          },
          "title": {
           "x": 0.05
          },
          "xaxis": {
           "automargin": true,
           "gridcolor": "white",
           "linecolor": "white",
           "ticks": "",
           "title": {
            "standoff": 15
           },
           "zerolinecolor": "white",
           "zerolinewidth": 2
          },
          "yaxis": {
           "automargin": true,
           "gridcolor": "white",
           "linecolor": "white",
           "ticks": "",
           "title": {
            "standoff": 15
           },
           "zerolinecolor": "white",
           "zerolinewidth": 2
          }
         }
        },
        "title": {
         "text": "Outliers"
        },
        "xaxis": {
         "anchor": "y",
         "domain": [
          0,
          1
         ],
         "title": {
          "text": "Feature"
         }
        },
        "yaxis": {
         "anchor": "x",
         "autorange": "reversed",
         "domain": [
          0,
          1
         ],
         "title": {
          "text": "Residual Conviction"
         }
        }
       }
      }
     },
     "metadata": {},
     "output_type": "display_data"
    }
   ],
   "source": [
    "plot_anomalies(outliers, local_case_feature_residual_convictions, title=\"Outliers\", yaxis_title=\"Residual Conviction\")"
   ]
  },
  {
   "attachments": {},
   "cell_type": "markdown",
   "id": "5d17882e-9c76-46c2-b772-5b4bd1c8e8a4",
   "metadata": {},
   "source": [
    "The heat map explains the reason why each case was an outlier. The darker the shade of red, the higher the contribution to the case being an outlier. "
   ]
  },
  {
   "attachments": {},
   "cell_type": "markdown",
   "id": "4f45902d-a272-4ff1-9953-a9777d64780a",
   "metadata": {
    "tags": []
   },
   "source": [
    "## Inliers\n",
    "\n",
    "Let’s examine a few inlier cases. Inliers are cases which are too similar to other cases and do not follow the expected distribution. Inliers can be an indication of a fraudulent case that is “too good to be true”. "
   ]
  },
  {
   "cell_type": "code",
   "execution_count": 14,
   "id": "bd8e4a82-fd22-4def-9b9b-5d9d1be5d263",
   "metadata": {},
   "outputs": [
    {
     "data": {
      "text/html": [
       "<div>\n",
       "<style scoped>\n",
       "    .dataframe tbody tr th:only-of-type {\n",
       "        vertical-align: middle;\n",
       "    }\n",
       "\n",
       "    .dataframe tbody tr th {\n",
       "        vertical-align: top;\n",
       "    }\n",
       "\n",
       "    .dataframe thead th {\n",
       "        text-align: right;\n",
       "    }\n",
       "</style>\n",
       "<table border=\"1\" class=\"dataframe\">\n",
       "  <thead>\n",
       "    <tr style=\"text-align: right;\">\n",
       "      <th></th>\n",
       "      <th>age</th>\n",
       "      <th>workclass</th>\n",
       "      <th>fnlwgt</th>\n",
       "      <th>education</th>\n",
       "      <th>education-num</th>\n",
       "      <th>marital-status</th>\n",
       "      <th>occupation</th>\n",
       "      <th>relationship</th>\n",
       "      <th>race</th>\n",
       "      <th>sex</th>\n",
       "      <th>capital-gain</th>\n",
       "      <th>capital-loss</th>\n",
       "      <th>hours-per-week</th>\n",
       "      <th>native-country</th>\n",
       "      <th>target</th>\n",
       "      <th>familiarity_conviction_addition</th>\n",
       "      <th>.session_training_index</th>\n",
       "      <th>.session</th>\n",
       "      <th>distance_contribution</th>\n",
       "      <th>category</th>\n",
       "    </tr>\n",
       "  </thead>\n",
       "  <tbody>\n",
       "    <tr>\n",
       "      <th>0</th>\n",
       "      <td>53</td>\n",
       "      <td>Private</td>\n",
       "      <td>165745</td>\n",
       "      <td>HS-grad</td>\n",
       "      <td>9</td>\n",
       "      <td>Married-civ-spouse</td>\n",
       "      <td>Craft-repair</td>\n",
       "      <td>Husband</td>\n",
       "      <td>White</td>\n",
       "      <td>Male</td>\n",
       "      <td>0</td>\n",
       "      <td>0</td>\n",
       "      <td>40</td>\n",
       "      <td>United-States</td>\n",
       "      <td>&lt;=50K</td>\n",
       "      <td>0.136095</td>\n",
       "      <td>402</td>\n",
       "      <td>36928b23-3855-42d6-abc1-9c449c4bca6f</td>\n",
       "      <td>0.663712</td>\n",
       "      <td>inlier</td>\n",
       "    </tr>\n",
       "    <tr>\n",
       "      <th>1</th>\n",
       "      <td>54</td>\n",
       "      <td>Private</td>\n",
       "      <td>175594</td>\n",
       "      <td>HS-grad</td>\n",
       "      <td>9</td>\n",
       "      <td>Married-civ-spouse</td>\n",
       "      <td>Craft-repair</td>\n",
       "      <td>Husband</td>\n",
       "      <td>White</td>\n",
       "      <td>Male</td>\n",
       "      <td>0</td>\n",
       "      <td>0</td>\n",
       "      <td>40</td>\n",
       "      <td>United-States</td>\n",
       "      <td>&lt;=50K</td>\n",
       "      <td>0.146106</td>\n",
       "      <td>74</td>\n",
       "      <td>36928b23-3855-42d6-abc1-9c449c4bca6f</td>\n",
       "      <td>0.712693</td>\n",
       "      <td>inlier</td>\n",
       "    </tr>\n",
       "    <tr>\n",
       "      <th>2</th>\n",
       "      <td>31</td>\n",
       "      <td>Private</td>\n",
       "      <td>191834</td>\n",
       "      <td>Some-college</td>\n",
       "      <td>10</td>\n",
       "      <td>Married-civ-spouse</td>\n",
       "      <td>Craft-repair</td>\n",
       "      <td>Husband</td>\n",
       "      <td>White</td>\n",
       "      <td>Male</td>\n",
       "      <td>0</td>\n",
       "      <td>0</td>\n",
       "      <td>40</td>\n",
       "      <td>United-States</td>\n",
       "      <td>&gt;50K</td>\n",
       "      <td>0.156952</td>\n",
       "      <td>365</td>\n",
       "      <td>36928b23-3855-42d6-abc1-9c449c4bca6f</td>\n",
       "      <td>0.803843</td>\n",
       "      <td>inlier</td>\n",
       "    </tr>\n",
       "    <tr>\n",
       "      <th>3</th>\n",
       "      <td>50</td>\n",
       "      <td>Private</td>\n",
       "      <td>163671</td>\n",
       "      <td>HS-grad</td>\n",
       "      <td>9</td>\n",
       "      <td>Married-civ-spouse</td>\n",
       "      <td>Craft-repair</td>\n",
       "      <td>Husband</td>\n",
       "      <td>White</td>\n",
       "      <td>Male</td>\n",
       "      <td>0</td>\n",
       "      <td>0</td>\n",
       "      <td>40</td>\n",
       "      <td>United-States</td>\n",
       "      <td>&lt;=50K</td>\n",
       "      <td>0.160435</td>\n",
       "      <td>127</td>\n",
       "      <td>36928b23-3855-42d6-abc1-9c449c4bca6f</td>\n",
       "      <td>0.772870</td>\n",
       "      <td>inlier</td>\n",
       "    </tr>\n",
       "    <tr>\n",
       "      <th>4</th>\n",
       "      <td>44</td>\n",
       "      <td>Private</td>\n",
       "      <td>113324</td>\n",
       "      <td>HS-grad</td>\n",
       "      <td>9</td>\n",
       "      <td>Married-civ-spouse</td>\n",
       "      <td>Craft-repair</td>\n",
       "      <td>Husband</td>\n",
       "      <td>White</td>\n",
       "      <td>Male</td>\n",
       "      <td>0</td>\n",
       "      <td>0</td>\n",
       "      <td>40</td>\n",
       "      <td>United-States</td>\n",
       "      <td>&lt;=50K</td>\n",
       "      <td>0.173865</td>\n",
       "      <td>353</td>\n",
       "      <td>36928b23-3855-42d6-abc1-9c449c4bca6f</td>\n",
       "      <td>0.835041</td>\n",
       "      <td>inlier</td>\n",
       "    </tr>\n",
       "    <tr>\n",
       "      <th>...</th>\n",
       "      <td>...</td>\n",
       "      <td>...</td>\n",
       "      <td>...</td>\n",
       "      <td>...</td>\n",
       "      <td>...</td>\n",
       "      <td>...</td>\n",
       "      <td>...</td>\n",
       "      <td>...</td>\n",
       "      <td>...</td>\n",
       "      <td>...</td>\n",
       "      <td>...</td>\n",
       "      <td>...</td>\n",
       "      <td>...</td>\n",
       "      <td>...</td>\n",
       "      <td>...</td>\n",
       "      <td>...</td>\n",
       "      <td>...</td>\n",
       "      <td>...</td>\n",
       "      <td>...</td>\n",
       "      <td>...</td>\n",
       "    </tr>\n",
       "    <tr>\n",
       "      <th>151</th>\n",
       "      <td>41</td>\n",
       "      <td>Private</td>\n",
       "      <td>59938</td>\n",
       "      <td>HS-grad</td>\n",
       "      <td>9</td>\n",
       "      <td>Divorced</td>\n",
       "      <td>Adm-clerical</td>\n",
       "      <td>Unmarried</td>\n",
       "      <td>White</td>\n",
       "      <td>Female</td>\n",
       "      <td>0</td>\n",
       "      <td>0</td>\n",
       "      <td>43</td>\n",
       "      <td>United-States</td>\n",
       "      <td>&lt;=50K</td>\n",
       "      <td>0.739122</td>\n",
       "      <td>45</td>\n",
       "      <td>36928b23-3855-42d6-abc1-9c449c4bca6f</td>\n",
       "      <td>2.026632</td>\n",
       "      <td>inlier</td>\n",
       "    </tr>\n",
       "    <tr>\n",
       "      <th>152</th>\n",
       "      <td>43</td>\n",
       "      <td>Private</td>\n",
       "      <td>108945</td>\n",
       "      <td>Some-college</td>\n",
       "      <td>10</td>\n",
       "      <td>Divorced</td>\n",
       "      <td>Prof-specialty</td>\n",
       "      <td>Unmarried</td>\n",
       "      <td>White</td>\n",
       "      <td>Female</td>\n",
       "      <td>0</td>\n",
       "      <td>0</td>\n",
       "      <td>38</td>\n",
       "      <td>United-States</td>\n",
       "      <td>&lt;=50K</td>\n",
       "      <td>0.739144</td>\n",
       "      <td>603</td>\n",
       "      <td>36928b23-3855-42d6-abc1-9c449c4bca6f</td>\n",
       "      <td>2.005334</td>\n",
       "      <td>inlier</td>\n",
       "    </tr>\n",
       "    <tr>\n",
       "      <th>153</th>\n",
       "      <td>26</td>\n",
       "      <td>Private</td>\n",
       "      <td>259505</td>\n",
       "      <td>Some-college</td>\n",
       "      <td>10</td>\n",
       "      <td>Never-married</td>\n",
       "      <td>Other-service</td>\n",
       "      <td>Own-child</td>\n",
       "      <td>White</td>\n",
       "      <td>Male</td>\n",
       "      <td>0</td>\n",
       "      <td>0</td>\n",
       "      <td>40</td>\n",
       "      <td>United-States</td>\n",
       "      <td>&lt;=50K</td>\n",
       "      <td>0.741642</td>\n",
       "      <td>479</td>\n",
       "      <td>36928b23-3855-42d6-abc1-9c449c4bca6f</td>\n",
       "      <td>1.991535</td>\n",
       "      <td>inlier</td>\n",
       "    </tr>\n",
       "    <tr>\n",
       "      <th>154</th>\n",
       "      <td>28</td>\n",
       "      <td>Private</td>\n",
       "      <td>217200</td>\n",
       "      <td>HS-grad</td>\n",
       "      <td>9</td>\n",
       "      <td>Never-married</td>\n",
       "      <td>Machine-op-inspct</td>\n",
       "      <td>Not-in-family</td>\n",
       "      <td>White</td>\n",
       "      <td>Male</td>\n",
       "      <td>0</td>\n",
       "      <td>0</td>\n",
       "      <td>50</td>\n",
       "      <td>United-States</td>\n",
       "      <td>&lt;=50K</td>\n",
       "      <td>0.747674</td>\n",
       "      <td>57</td>\n",
       "      <td>36928b23-3855-42d6-abc1-9c449c4bca6f</td>\n",
       "      <td>2.001021</td>\n",
       "      <td>inlier</td>\n",
       "    </tr>\n",
       "    <tr>\n",
       "      <th>155</th>\n",
       "      <td>46</td>\n",
       "      <td>Private</td>\n",
       "      <td>51618</td>\n",
       "      <td>HS-grad</td>\n",
       "      <td>9</td>\n",
       "      <td>Married-civ-spouse</td>\n",
       "      <td>Other-service</td>\n",
       "      <td>Wife</td>\n",
       "      <td>White</td>\n",
       "      <td>Female</td>\n",
       "      <td>0</td>\n",
       "      <td>0</td>\n",
       "      <td>40</td>\n",
       "      <td>United-States</td>\n",
       "      <td>&lt;=50K</td>\n",
       "      <td>0.748797</td>\n",
       "      <td>671</td>\n",
       "      <td>36928b23-3855-42d6-abc1-9c449c4bca6f</td>\n",
       "      <td>2.100017</td>\n",
       "      <td>inlier</td>\n",
       "    </tr>\n",
       "  </tbody>\n",
       "</table>\n",
       "<p>156 rows × 20 columns</p>\n",
       "</div>"
      ],
      "text/plain": [
       "     age workclass  fnlwgt      education  education-num       marital-status  \\\n",
       "0     53   Private  165745        HS-grad              9   Married-civ-spouse   \n",
       "1     54   Private  175594        HS-grad              9   Married-civ-spouse   \n",
       "2     31   Private  191834   Some-college             10   Married-civ-spouse   \n",
       "3     50   Private  163671        HS-grad              9   Married-civ-spouse   \n",
       "4     44   Private  113324        HS-grad              9   Married-civ-spouse   \n",
       "..   ...       ...     ...            ...            ...                  ...   \n",
       "151   41   Private   59938        HS-grad              9             Divorced   \n",
       "152   43   Private  108945   Some-college             10             Divorced   \n",
       "153   26   Private  259505   Some-college             10        Never-married   \n",
       "154   28   Private  217200        HS-grad              9        Never-married   \n",
       "155   46   Private   51618        HS-grad              9   Married-civ-spouse   \n",
       "\n",
       "             occupation    relationship    race      sex  capital-gain  \\\n",
       "0          Craft-repair         Husband   White     Male             0   \n",
       "1          Craft-repair         Husband   White     Male             0   \n",
       "2          Craft-repair         Husband   White     Male             0   \n",
       "3          Craft-repair         Husband   White     Male             0   \n",
       "4          Craft-repair         Husband   White     Male             0   \n",
       "..                  ...             ...     ...      ...           ...   \n",
       "151        Adm-clerical       Unmarried   White   Female             0   \n",
       "152      Prof-specialty       Unmarried   White   Female             0   \n",
       "153       Other-service       Own-child   White     Male             0   \n",
       "154   Machine-op-inspct   Not-in-family   White     Male             0   \n",
       "155       Other-service            Wife   White   Female             0   \n",
       "\n",
       "     capital-loss  hours-per-week  native-country  target  \\\n",
       "0               0              40   United-States   <=50K   \n",
       "1               0              40   United-States   <=50K   \n",
       "2               0              40   United-States    >50K   \n",
       "3               0              40   United-States   <=50K   \n",
       "4               0              40   United-States   <=50K   \n",
       "..            ...             ...             ...     ...   \n",
       "151             0              43   United-States   <=50K   \n",
       "152             0              38   United-States   <=50K   \n",
       "153             0              40   United-States   <=50K   \n",
       "154             0              50   United-States   <=50K   \n",
       "155             0              40   United-States   <=50K   \n",
       "\n",
       "     familiarity_conviction_addition  .session_training_index  \\\n",
       "0                           0.136095                      402   \n",
       "1                           0.146106                       74   \n",
       "2                           0.156952                      365   \n",
       "3                           0.160435                      127   \n",
       "4                           0.173865                      353   \n",
       "..                               ...                      ...   \n",
       "151                         0.739122                       45   \n",
       "152                         0.739144                      603   \n",
       "153                         0.741642                      479   \n",
       "154                         0.747674                       57   \n",
       "155                         0.748797                      671   \n",
       "\n",
       "                                 .session  distance_contribution category  \n",
       "0    36928b23-3855-42d6-abc1-9c449c4bca6f               0.663712   inlier  \n",
       "1    36928b23-3855-42d6-abc1-9c449c4bca6f               0.712693   inlier  \n",
       "2    36928b23-3855-42d6-abc1-9c449c4bca6f               0.803843   inlier  \n",
       "3    36928b23-3855-42d6-abc1-9c449c4bca6f               0.772870   inlier  \n",
       "4    36928b23-3855-42d6-abc1-9c449c4bca6f               0.835041   inlier  \n",
       "..                                    ...                    ...      ...  \n",
       "151  36928b23-3855-42d6-abc1-9c449c4bca6f               2.026632   inlier  \n",
       "152  36928b23-3855-42d6-abc1-9c449c4bca6f               2.005334   inlier  \n",
       "153  36928b23-3855-42d6-abc1-9c449c4bca6f               1.991535   inlier  \n",
       "154  36928b23-3855-42d6-abc1-9c449c4bca6f               2.001021   inlier  \n",
       "155  36928b23-3855-42d6-abc1-9c449c4bca6f               2.100017   inlier  \n",
       "\n",
       "[156 rows x 20 columns]"
      ]
     },
     "execution_count": 14,
     "metadata": {},
     "output_type": "execute_result"
    }
   ],
   "source": [
    "# Get the inlier cases\n",
    "inliers = low_convicts[low_convicts['category'] == 'inlier'].reset_index(drop=True)\n",
    "inliers"
   ]
  },
  {
   "cell_type": "code",
   "execution_count": 15,
   "id": "096f14f8-2048-441f-98f0-f828104c7be4",
   "metadata": {},
   "outputs": [],
   "source": [
    "# Specify the inlier cases\n",
    "inliers_indices = inliers[['.session', '.session_training_index']].values\n",
    "\n",
    "# React to get the details of each case\n",
    "results = t.react(case_indices=inliers_indices, \n",
    "                  preserve_feature_values=df.columns.tolist(), \n",
    "                  leave_case_out=True, \n",
    "                  details=details)"
   ]
  },
  {
   "cell_type": "code",
   "execution_count": 16,
   "id": "e7fdb0be-635c-4bb0-99dd-5c8f0ede8022",
   "metadata": {},
   "outputs": [],
   "source": [
    "# Extract the global and local case feature residual convictions\n",
    "global_case_feature_residual_convictions = pd.DataFrame(results['explanation']['global_case_feature_residual_convictions'])[df.columns.tolist()]\n",
    "local_case_feature_residual_convictions = pd.DataFrame(results['explanation']['local_case_feature_residual_convictions'])[df.columns.tolist()]"
   ]
  },
  {
   "cell_type": "code",
   "execution_count": 17,
   "id": "981d6618-0d97-464b-93e8-053e51db44ad",
   "metadata": {},
   "outputs": [
    {
     "data": {
      "application/vnd.plotly.v1+json": {
       "config": {
        "plotlyServerURL": "https://plot.ly"
       },
       "data": [
        {
         "coloraxis": "coloraxis",
         "hovertemplate": "Conviction=%{z}",
         "name": "Outliers",
         "text": [
          [
           "53",
           " Private",
           "165745",
           " HS-grad",
           "9",
           " Married-civ-spouse",
           " Craft-repair",
           " Husband",
           " White",
           " Male",
           "0",
           "0",
           "40",
           " United-States",
           " <=50K",
           "0.1360946065010191",
           "402",
           "36928b23-3855-42d6-abc1-9c449c4bca6f",
           "0.6637122466988915",
           "inlier"
          ],
          [
           "54",
           " Private",
           "175594",
           " HS-grad",
           "9",
           " Married-civ-spouse",
           " Craft-repair",
           " Husband",
           " White",
           " Male",
           "0",
           "0",
           "40",
           " United-States",
           " <=50K",
           "0.14610568077992456",
           "74",
           "36928b23-3855-42d6-abc1-9c449c4bca6f",
           "0.7126932795114819",
           "inlier"
          ],
          [
           "31",
           " Private",
           "191834",
           " Some-college",
           "10",
           " Married-civ-spouse",
           " Craft-repair",
           " Husband",
           " White",
           " Male",
           "0",
           "0",
           "40",
           " United-States",
           " >50K",
           "0.1569518653805477",
           "365",
           "36928b23-3855-42d6-abc1-9c449c4bca6f",
           "0.8038431393700477",
           "inlier"
          ],
          [
           "50",
           " Private",
           "163671",
           " HS-grad",
           "9",
           " Married-civ-spouse",
           " Craft-repair",
           " Husband",
           " White",
           " Male",
           "0",
           "0",
           "40",
           " United-States",
           " <=50K",
           "0.16043509626969227",
           "127",
           "36928b23-3855-42d6-abc1-9c449c4bca6f",
           "0.7728695186668315",
           "inlier"
          ],
          [
           "44",
           " Private",
           "113324",
           " HS-grad",
           "9",
           " Married-civ-spouse",
           " Craft-repair",
           " Husband",
           " White",
           " Male",
           "0",
           "0",
           "40",
           " United-States",
           " <=50K",
           "0.17386504641183576",
           "353",
           "36928b23-3855-42d6-abc1-9c449c4bca6f",
           "0.8350413274946509",
           "inlier"
          ]
         ],
         "texttemplate": "%{text}",
         "type": "heatmap",
         "x": [
          "age",
          "workclass",
          "fnlwgt",
          "education",
          "education-num",
          "marital-status",
          "occupation",
          "relationship",
          "race",
          "sex",
          "capital-gain",
          "capital-loss",
          "hours-per-week",
          "native-country",
          "target"
         ],
         "xgap": 3,
         "y": [
          0,
          1,
          2,
          3,
          4
         ],
         "ygap": 3,
         "z": [
          [
           1.2262367642815395,
           2.5031321195443996,
           2.9657680089747673,
           2.7320348374440555,
           0.507762037422077,
           2.0823590893971557,
           1.2284662896318803,
           1.6863535812829242,
           1.1261756765622128,
           0.34184447260527506,
           2.3135377497793597,
           2.783596598415448,
           1.9227724203482655,
           1.0792023904860417,
           0.9052822195996163
          ],
          [
           0.5549939145395032,
           1.7349189321327854,
           2.418815706321345,
           0.4354392575740156,
           0.8474397556422529,
           1.8696886404806194,
           1.2158655820905861,
           1.4729469724810227,
           4.054343673781011,
           1.2053240046904914,
           1.3465729476040977,
           2.4205049908654,
           1.7516404423152285,
           1.6176990698533085,
           2.5204912255304555
          ],
          [
           0.9292848824852504,
           1.1660232555742156,
           1.797703392772176,
           0.4770774860817033,
           1.191329307727456,
           3.1978787573122553,
           1.77133294346098,
           2.482101698123285,
           1.8050202876858201,
           0.8182492358678821,
           2.370873341144384,
           3.4419032169018613,
           2.57333840528368,
           2.081097748531057,
           2.1177286192870404
          ],
          [
           1.1733929209917964,
           1.3096646265011402,
           1.9954117863680045,
           1.3593576378922274,
           1.3400786500900541,
           2.313635791637629,
           1.1013174851104668,
           0.7940406713826409,
           2.3264610993745203,
           0.6199153834188844,
           0.7135567837093981,
           1.6572510079451743,
           2.61341908202185,
           0.2728976528259388,
           0.9675963950777622
          ],
          [
           2.207505761007388,
           1.773233687510252,
           1.1046478114350318,
           1.2510676435822154,
           1.14191923572253,
           0.7453267974610958,
           1.1248994949795703,
           1.0334493155476154,
           0.9667791093296233,
           1.7962470919928641,
           1.5659787877402667,
           2.901430781773497,
           2.236941477282192,
           0.7751130022871113,
           0.8064690563151545
          ]
         ]
        }
       ],
       "layout": {
        "coloraxis": {
         "cmax": 5,
         "cmin": 0,
         "colorbar": {
          "ticktext": [
           "0",
           "0.5",
           "1",
           "1.5",
           "2",
           "2.5",
           "3",
           "3.5",
           "4",
           "4.5",
           "≥5"
          ],
          "tickvals": [
           0,
           0.5,
           1,
           1.5,
           2,
           2.5,
           3,
           3.5,
           4,
           4.5,
           5
          ],
          "title": {
           "text": "Conviction"
          }
         },
         "colorscale": [
          [
           0,
           "rgb(103,0,31)"
          ],
          [
           0.2,
           "rgb(247, 247, 247)"
          ],
          [
           0.4,
           "rgb(67,147,195)"
          ],
          [
           1,
           "rgb(5,48,97)"
          ]
         ]
        },
        "template": {
         "data": {
          "bar": [
           {
            "error_x": {
             "color": "#2a3f5f"
            },
            "error_y": {
             "color": "#2a3f5f"
            },
            "marker": {
             "line": {
              "color": "#E5ECF6",
              "width": 0.5
             },
             "pattern": {
              "fillmode": "overlay",
              "size": 10,
              "solidity": 0.2
             }
            },
            "type": "bar"
           }
          ],
          "barpolar": [
           {
            "marker": {
             "line": {
              "color": "#E5ECF6",
              "width": 0.5
             },
             "pattern": {
              "fillmode": "overlay",
              "size": 10,
              "solidity": 0.2
             }
            },
            "type": "barpolar"
           }
          ],
          "carpet": [
           {
            "aaxis": {
             "endlinecolor": "#2a3f5f",
             "gridcolor": "white",
             "linecolor": "white",
             "minorgridcolor": "white",
             "startlinecolor": "#2a3f5f"
            },
            "baxis": {
             "endlinecolor": "#2a3f5f",
             "gridcolor": "white",
             "linecolor": "white",
             "minorgridcolor": "white",
             "startlinecolor": "#2a3f5f"
            },
            "type": "carpet"
           }
          ],
          "choropleth": [
           {
            "colorbar": {
             "outlinewidth": 0,
             "ticks": ""
            },
            "type": "choropleth"
           }
          ],
          "contour": [
           {
            "colorbar": {
             "outlinewidth": 0,
             "ticks": ""
            },
            "colorscale": [
             [
              0,
              "#0d0887"
             ],
             [
              0.1111111111111111,
              "#46039f"
             ],
             [
              0.2222222222222222,
              "#7201a8"
             ],
             [
              0.3333333333333333,
              "#9c179e"
             ],
             [
              0.4444444444444444,
              "#bd3786"
             ],
             [
              0.5555555555555556,
              "#d8576b"
             ],
             [
              0.6666666666666666,
              "#ed7953"
             ],
             [
              0.7777777777777778,
              "#fb9f3a"
             ],
             [
              0.8888888888888888,
              "#fdca26"
             ],
             [
              1,
              "#f0f921"
             ]
            ],
            "type": "contour"
           }
          ],
          "contourcarpet": [
           {
            "colorbar": {
             "outlinewidth": 0,
             "ticks": ""
            },
            "type": "contourcarpet"
           }
          ],
          "heatmap": [
           {
            "colorbar": {
             "outlinewidth": 0,
             "ticks": ""
            },
            "colorscale": [
             [
              0,
              "#0d0887"
             ],
             [
              0.1111111111111111,
              "#46039f"
             ],
             [
              0.2222222222222222,
              "#7201a8"
             ],
             [
              0.3333333333333333,
              "#9c179e"
             ],
             [
              0.4444444444444444,
              "#bd3786"
             ],
             [
              0.5555555555555556,
              "#d8576b"
             ],
             [
              0.6666666666666666,
              "#ed7953"
             ],
             [
              0.7777777777777778,
              "#fb9f3a"
             ],
             [
              0.8888888888888888,
              "#fdca26"
             ],
             [
              1,
              "#f0f921"
             ]
            ],
            "type": "heatmap"
           }
          ],
          "heatmapgl": [
           {
            "colorbar": {
             "outlinewidth": 0,
             "ticks": ""
            },
            "colorscale": [
             [
              0,
              "#0d0887"
             ],
             [
              0.1111111111111111,
              "#46039f"
             ],
             [
              0.2222222222222222,
              "#7201a8"
             ],
             [
              0.3333333333333333,
              "#9c179e"
             ],
             [
              0.4444444444444444,
              "#bd3786"
             ],
             [
              0.5555555555555556,
              "#d8576b"
             ],
             [
              0.6666666666666666,
              "#ed7953"
             ],
             [
              0.7777777777777778,
              "#fb9f3a"
             ],
             [
              0.8888888888888888,
              "#fdca26"
             ],
             [
              1,
              "#f0f921"
             ]
            ],
            "type": "heatmapgl"
           }
          ],
          "histogram": [
           {
            "marker": {
             "pattern": {
              "fillmode": "overlay",
              "size": 10,
              "solidity": 0.2
             }
            },
            "type": "histogram"
           }
          ],
          "histogram2d": [
           {
            "colorbar": {
             "outlinewidth": 0,
             "ticks": ""
            },
            "colorscale": [
             [
              0,
              "#0d0887"
             ],
             [
              0.1111111111111111,
              "#46039f"
             ],
             [
              0.2222222222222222,
              "#7201a8"
             ],
             [
              0.3333333333333333,
              "#9c179e"
             ],
             [
              0.4444444444444444,
              "#bd3786"
             ],
             [
              0.5555555555555556,
              "#d8576b"
             ],
             [
              0.6666666666666666,
              "#ed7953"
             ],
             [
              0.7777777777777778,
              "#fb9f3a"
             ],
             [
              0.8888888888888888,
              "#fdca26"
             ],
             [
              1,
              "#f0f921"
             ]
            ],
            "type": "histogram2d"
           }
          ],
          "histogram2dcontour": [
           {
            "colorbar": {
             "outlinewidth": 0,
             "ticks": ""
            },
            "colorscale": [
             [
              0,
              "#0d0887"
             ],
             [
              0.1111111111111111,
              "#46039f"
             ],
             [
              0.2222222222222222,
              "#7201a8"
             ],
             [
              0.3333333333333333,
              "#9c179e"
             ],
             [
              0.4444444444444444,
              "#bd3786"
             ],
             [
              0.5555555555555556,
              "#d8576b"
             ],
             [
              0.6666666666666666,
              "#ed7953"
             ],
             [
              0.7777777777777778,
              "#fb9f3a"
             ],
             [
              0.8888888888888888,
              "#fdca26"
             ],
             [
              1,
              "#f0f921"
             ]
            ],
            "type": "histogram2dcontour"
           }
          ],
          "mesh3d": [
           {
            "colorbar": {
             "outlinewidth": 0,
             "ticks": ""
            },
            "type": "mesh3d"
           }
          ],
          "parcoords": [
           {
            "line": {
             "colorbar": {
              "outlinewidth": 0,
              "ticks": ""
             }
            },
            "type": "parcoords"
           }
          ],
          "pie": [
           {
            "automargin": true,
            "type": "pie"
           }
          ],
          "scatter": [
           {
            "fillpattern": {
             "fillmode": "overlay",
             "size": 10,
             "solidity": 0.2
            },
            "type": "scatter"
           }
          ],
          "scatter3d": [
           {
            "line": {
             "colorbar": {
              "outlinewidth": 0,
              "ticks": ""
             }
            },
            "marker": {
             "colorbar": {
              "outlinewidth": 0,
              "ticks": ""
             }
            },
            "type": "scatter3d"
           }
          ],
          "scattercarpet": [
           {
            "marker": {
             "colorbar": {
              "outlinewidth": 0,
              "ticks": ""
             }
            },
            "type": "scattercarpet"
           }
          ],
          "scattergeo": [
           {
            "marker": {
             "colorbar": {
              "outlinewidth": 0,
              "ticks": ""
             }
            },
            "type": "scattergeo"
           }
          ],
          "scattergl": [
           {
            "marker": {
             "colorbar": {
              "outlinewidth": 0,
              "ticks": ""
             }
            },
            "type": "scattergl"
           }
          ],
          "scattermapbox": [
           {
            "marker": {
             "colorbar": {
              "outlinewidth": 0,
              "ticks": ""
             }
            },
            "type": "scattermapbox"
           }
          ],
          "scatterpolar": [
           {
            "marker": {
             "colorbar": {
              "outlinewidth": 0,
              "ticks": ""
             }
            },
            "type": "scatterpolar"
           }
          ],
          "scatterpolargl": [
           {
            "marker": {
             "colorbar": {
              "outlinewidth": 0,
              "ticks": ""
             }
            },
            "type": "scatterpolargl"
           }
          ],
          "scatterternary": [
           {
            "marker": {
             "colorbar": {
              "outlinewidth": 0,
              "ticks": ""
             }
            },
            "type": "scatterternary"
           }
          ],
          "surface": [
           {
            "colorbar": {
             "outlinewidth": 0,
             "ticks": ""
            },
            "colorscale": [
             [
              0,
              "#0d0887"
             ],
             [
              0.1111111111111111,
              "#46039f"
             ],
             [
              0.2222222222222222,
              "#7201a8"
             ],
             [
              0.3333333333333333,
              "#9c179e"
             ],
             [
              0.4444444444444444,
              "#bd3786"
             ],
             [
              0.5555555555555556,
              "#d8576b"
             ],
             [
              0.6666666666666666,
              "#ed7953"
             ],
             [
              0.7777777777777778,
              "#fb9f3a"
             ],
             [
              0.8888888888888888,
              "#fdca26"
             ],
             [
              1,
              "#f0f921"
             ]
            ],
            "type": "surface"
           }
          ],
          "table": [
           {
            "cells": {
             "fill": {
              "color": "#EBF0F8"
             },
             "line": {
              "color": "white"
             }
            },
            "header": {
             "fill": {
              "color": "#C8D4E3"
             },
             "line": {
              "color": "white"
             }
            },
            "type": "table"
           }
          ]
         },
         "layout": {
          "annotationdefaults": {
           "arrowcolor": "#2a3f5f",
           "arrowhead": 0,
           "arrowwidth": 1
          },
          "autotypenumbers": "strict",
          "coloraxis": {
           "colorbar": {
            "outlinewidth": 0,
            "ticks": ""
           }
          },
          "colorscale": {
           "diverging": [
            [
             0,
             "#8e0152"
            ],
            [
             0.1,
             "#c51b7d"
            ],
            [
             0.2,
             "#de77ae"
            ],
            [
             0.3,
             "#f1b6da"
            ],
            [
             0.4,
             "#fde0ef"
            ],
            [
             0.5,
             "#f7f7f7"
            ],
            [
             0.6,
             "#e6f5d0"
            ],
            [
             0.7,
             "#b8e186"
            ],
            [
             0.8,
             "#7fbc41"
            ],
            [
             0.9,
             "#4d9221"
            ],
            [
             1,
             "#276419"
            ]
           ],
           "sequential": [
            [
             0,
             "#0d0887"
            ],
            [
             0.1111111111111111,
             "#46039f"
            ],
            [
             0.2222222222222222,
             "#7201a8"
            ],
            [
             0.3333333333333333,
             "#9c179e"
            ],
            [
             0.4444444444444444,
             "#bd3786"
            ],
            [
             0.5555555555555556,
             "#d8576b"
            ],
            [
             0.6666666666666666,
             "#ed7953"
            ],
            [
             0.7777777777777778,
             "#fb9f3a"
            ],
            [
             0.8888888888888888,
             "#fdca26"
            ],
            [
             1,
             "#f0f921"
            ]
           ],
           "sequentialminus": [
            [
             0,
             "#0d0887"
            ],
            [
             0.1111111111111111,
             "#46039f"
            ],
            [
             0.2222222222222222,
             "#7201a8"
            ],
            [
             0.3333333333333333,
             "#9c179e"
            ],
            [
             0.4444444444444444,
             "#bd3786"
            ],
            [
             0.5555555555555556,
             "#d8576b"
            ],
            [
             0.6666666666666666,
             "#ed7953"
            ],
            [
             0.7777777777777778,
             "#fb9f3a"
            ],
            [
             0.8888888888888888,
             "#fdca26"
            ],
            [
             1,
             "#f0f921"
            ]
           ]
          },
          "colorway": [
           "#636efa",
           "#EF553B",
           "#00cc96",
           "#ab63fa",
           "#FFA15A",
           "#19d3f3",
           "#FF6692",
           "#B6E880",
           "#FF97FF",
           "#FECB52"
          ],
          "font": {
           "color": "#2a3f5f"
          },
          "geo": {
           "bgcolor": "white",
           "lakecolor": "white",
           "landcolor": "#E5ECF6",
           "showlakes": true,
           "showland": true,
           "subunitcolor": "white"
          },
          "hoverlabel": {
           "align": "left"
          },
          "hovermode": "closest",
          "mapbox": {
           "style": "light"
          },
          "paper_bgcolor": "white",
          "plot_bgcolor": "#E5ECF6",
          "polar": {
           "angularaxis": {
            "gridcolor": "white",
            "linecolor": "white",
            "ticks": ""
           },
           "bgcolor": "#E5ECF6",
           "radialaxis": {
            "gridcolor": "white",
            "linecolor": "white",
            "ticks": ""
           }
          },
          "scene": {
           "xaxis": {
            "backgroundcolor": "#E5ECF6",
            "gridcolor": "white",
            "gridwidth": 2,
            "linecolor": "white",
            "showbackground": true,
            "ticks": "",
            "zerolinecolor": "white"
           },
           "yaxis": {
            "backgroundcolor": "#E5ECF6",
            "gridcolor": "white",
            "gridwidth": 2,
            "linecolor": "white",
            "showbackground": true,
            "ticks": "",
            "zerolinecolor": "white"
           },
           "zaxis": {
            "backgroundcolor": "#E5ECF6",
            "gridcolor": "white",
            "gridwidth": 2,
            "linecolor": "white",
            "showbackground": true,
            "ticks": "",
            "zerolinecolor": "white"
           }
          },
          "shapedefaults": {
           "line": {
            "color": "#2a3f5f"
           }
          },
          "ternary": {
           "aaxis": {
            "gridcolor": "white",
            "linecolor": "white",
            "ticks": ""
           },
           "baxis": {
            "gridcolor": "white",
            "linecolor": "white",
            "ticks": ""
           },
           "bgcolor": "#E5ECF6",
           "caxis": {
            "gridcolor": "white",
            "linecolor": "white",
            "ticks": ""
           }
          },
          "title": {
           "x": 0.05
          },
          "xaxis": {
           "automargin": true,
           "gridcolor": "white",
           "linecolor": "white",
           "ticks": "",
           "title": {
            "standoff": 15
           },
           "zerolinecolor": "white",
           "zerolinewidth": 2
          },
          "yaxis": {
           "automargin": true,
           "gridcolor": "white",
           "linecolor": "white",
           "ticks": "",
           "title": {
            "standoff": 15
           },
           "zerolinecolor": "white",
           "zerolinewidth": 2
          }
         }
        },
        "title": {
         "text": "Inliers"
        },
        "xaxis": {
         "anchor": "y",
         "domain": [
          0,
          1
         ],
         "title": {
          "text": "Feature"
         }
        },
        "yaxis": {
         "anchor": "x",
         "autorange": "reversed",
         "domain": [
          0,
          1
         ],
         "title": {
          "text": "Residual Conviction"
         }
        }
       }
      }
     },
     "metadata": {},
     "output_type": "display_data"
    }
   ],
   "source": [
    "plot_anomalies(inliers, local_case_feature_residual_convictions, title=\"Inliers\", yaxis_title=\"Residual Conviction\")"
   ]
  },
  {
   "attachments": {},
   "cell_type": "markdown",
   "id": "4d444dae-f0dc-4faf-9034-6dc990f6ffdb",
   "metadata": {},
   "source": [
    "The heat map explains the reason why each case was an inlier. The darker the shade of blue, the higher the contribution the to case being an inlier."
   ]
  },
  {
   "attachments": {},
   "cell_type": "markdown",
   "id": "0f5def89-aec8-48f3-98f8-8a1790405757",
   "metadata": {},
   "source": [
    "## Potential improvements\n",
    "\n",
    "Sparse regions of the model or under defined problems can make it difficult to make an accurate prediction. Howso Engine can be used to identify potential data, or model improvements by examining the residual conviction and density."
   ]
  },
  {
   "cell_type": "code",
   "execution_count": 18,
   "id": "b1e9c25f-f263-41ea-9ea7-3d8e6247ea6d",
   "metadata": {},
   "outputs": [],
   "source": [
    "# Identify cases for investigation\n",
    "partial_train_df = stored_convictions\n",
    "partial_train_cases = partial_train_df[['.session', '.session_training_index']]\n"
   ]
  },
  {
   "cell_type": "code",
   "execution_count": 19,
   "id": "2720f5e9-3373-4c24-92bb-1e88c26ba287",
   "metadata": {},
   "outputs": [],
   "source": [
    "# Residual convictions are output via the local_case_feature_residual_convictions explanation\n",
    "details = {'global_case_feature_residual_convictions':True}\n",
    "\n",
    "# Get the residual convictions for the specified cases\n",
    "new_result = t.react(case_indices=partial_train_cases.values.tolist(), \n",
    "                     leave_case_out=True, \n",
    "                     preserve_feature_values=df.drop(action_features, axis=1).columns.tolist(), \n",
    "                     action_features=action_features,\n",
    "                     details=details)"
   ]
  },
  {
   "cell_type": "code",
   "execution_count": 20,
   "id": "a6b08957-6417-415e-89ed-3a70c324678d",
   "metadata": {},
   "outputs": [],
   "source": [
    "# Extract residual conviction\n",
    "target_residual_convictions = [ x['target'] for x in new_result['explanation']['global_case_feature_residual_convictions'] ]\n",
    "\n",
    "# Binarize residual conviction\n",
    "convict_threshold = 0.75\n",
    "low_residual_conviction = [1 if x <= convict_threshold else 0 for x in target_residual_convictions]\n",
    "\n",
    "# Density is just the inverse of distance_contribution\n",
    "density = 1 / partial_train_df['distance_contribution']\n",
    "\n",
    "# Add new features to the dataframe\n",
    "partial_train_df['density'] = density\n",
    "partial_train_df['target_residual_conviction'] = target_residual_convictions\n",
    "partial_train_df['low_residual_conviction'] = low_residual_conviction"
   ]
  },
  {
   "cell_type": "code",
   "execution_count": 21,
   "id": "a658e9b0-5d57-4647-bf94-2120a5bad6cf",
   "metadata": {},
   "outputs": [
    {
     "data": {
      "text/html": [
       "<div>\n",
       "<style scoped>\n",
       "    .dataframe tbody tr th:only-of-type {\n",
       "        vertical-align: middle;\n",
       "    }\n",
       "\n",
       "    .dataframe tbody tr th {\n",
       "        vertical-align: top;\n",
       "    }\n",
       "\n",
       "    .dataframe thead th {\n",
       "        text-align: right;\n",
       "    }\n",
       "</style>\n",
       "<table border=\"1\" class=\"dataframe\">\n",
       "  <thead>\n",
       "    <tr style=\"text-align: right;\">\n",
       "      <th></th>\n",
       "      <th>age</th>\n",
       "      <th>workclass</th>\n",
       "      <th>fnlwgt</th>\n",
       "      <th>education</th>\n",
       "      <th>education-num</th>\n",
       "      <th>marital-status</th>\n",
       "      <th>occupation</th>\n",
       "      <th>relationship</th>\n",
       "      <th>race</th>\n",
       "      <th>sex</th>\n",
       "      <th>...</th>\n",
       "      <th>hours-per-week</th>\n",
       "      <th>native-country</th>\n",
       "      <th>target</th>\n",
       "      <th>familiarity_conviction_addition</th>\n",
       "      <th>.session_training_index</th>\n",
       "      <th>.session</th>\n",
       "      <th>distance_contribution</th>\n",
       "      <th>density</th>\n",
       "      <th>target_residual_conviction</th>\n",
       "      <th>low_residual_conviction</th>\n",
       "    </tr>\n",
       "  </thead>\n",
       "  <tbody>\n",
       "    <tr>\n",
       "      <th>0</th>\n",
       "      <td>27</td>\n",
       "      <td>Private</td>\n",
       "      <td>284196</td>\n",
       "      <td>10th</td>\n",
       "      <td>6</td>\n",
       "      <td>Divorced</td>\n",
       "      <td>Other-service</td>\n",
       "      <td>Not-in-family</td>\n",
       "      <td>White</td>\n",
       "      <td>Female</td>\n",
       "      <td>...</td>\n",
       "      <td>40</td>\n",
       "      <td>United-States</td>\n",
       "      <td>&lt;=50K</td>\n",
       "      <td>13.075084</td>\n",
       "      <td>0</td>\n",
       "      <td>36928b23-3855-42d6-abc1-9c449c4bca6f</td>\n",
       "      <td>3.405597</td>\n",
       "      <td>0.293634</td>\n",
       "      <td>2.082822e+02</td>\n",
       "      <td>0</td>\n",
       "    </tr>\n",
       "    <tr>\n",
       "      <th>1</th>\n",
       "      <td>35</td>\n",
       "      <td>Private</td>\n",
       "      <td>150125</td>\n",
       "      <td>Assoc-voc</td>\n",
       "      <td>11</td>\n",
       "      <td>Divorced</td>\n",
       "      <td>Other-service</td>\n",
       "      <td>Unmarried</td>\n",
       "      <td>Black</td>\n",
       "      <td>Female</td>\n",
       "      <td>...</td>\n",
       "      <td>40</td>\n",
       "      <td>United-States</td>\n",
       "      <td>&lt;=50K</td>\n",
       "      <td>11.687488</td>\n",
       "      <td>1</td>\n",
       "      <td>36928b23-3855-42d6-abc1-9c449c4bca6f</td>\n",
       "      <td>4.391143</td>\n",
       "      <td>0.227731</td>\n",
       "      <td>4.789228e-01</td>\n",
       "      <td>1</td>\n",
       "    </tr>\n",
       "    <tr>\n",
       "      <th>2</th>\n",
       "      <td>20</td>\n",
       "      <td>Private</td>\n",
       "      <td>157541</td>\n",
       "      <td>Some-college</td>\n",
       "      <td>10</td>\n",
       "      <td>Never-married</td>\n",
       "      <td>Craft-repair</td>\n",
       "      <td>Own-child</td>\n",
       "      <td>White</td>\n",
       "      <td>Male</td>\n",
       "      <td>...</td>\n",
       "      <td>40</td>\n",
       "      <td>United-States</td>\n",
       "      <td>&lt;=50K</td>\n",
       "      <td>0.654311</td>\n",
       "      <td>2</td>\n",
       "      <td>36928b23-3855-42d6-abc1-9c449c4bca6f</td>\n",
       "      <td>1.895770</td>\n",
       "      <td>0.527490</td>\n",
       "      <td>3.352711e+12</td>\n",
       "      <td>0</td>\n",
       "    </tr>\n",
       "    <tr>\n",
       "      <th>3</th>\n",
       "      <td>35</td>\n",
       "      <td>Self-emp-not-inc</td>\n",
       "      <td>102471</td>\n",
       "      <td>HS-grad</td>\n",
       "      <td>9</td>\n",
       "      <td>Divorced</td>\n",
       "      <td>Farming-fishing</td>\n",
       "      <td>Not-in-family</td>\n",
       "      <td>White</td>\n",
       "      <td>Male</td>\n",
       "      <td>...</td>\n",
       "      <td>80</td>\n",
       "      <td>Puerto-Rico</td>\n",
       "      <td>&lt;=50K</td>\n",
       "      <td>0.822998</td>\n",
       "      <td>3</td>\n",
       "      <td>36928b23-3855-42d6-abc1-9c449c4bca6f</td>\n",
       "      <td>6.355230</td>\n",
       "      <td>0.157351</td>\n",
       "      <td>8.878975e+09</td>\n",
       "      <td>0</td>\n",
       "    </tr>\n",
       "    <tr>\n",
       "      <th>4</th>\n",
       "      <td>25</td>\n",
       "      <td>Self-emp-not-inc</td>\n",
       "      <td>108001</td>\n",
       "      <td>9th</td>\n",
       "      <td>5</td>\n",
       "      <td>Never-married</td>\n",
       "      <td>Craft-repair</td>\n",
       "      <td>Not-in-family</td>\n",
       "      <td>White</td>\n",
       "      <td>Male</td>\n",
       "      <td>...</td>\n",
       "      <td>15</td>\n",
       "      <td>United-States</td>\n",
       "      <td>&lt;=50K</td>\n",
       "      <td>7.256599</td>\n",
       "      <td>4</td>\n",
       "      <td>36928b23-3855-42d6-abc1-9c449c4bca6f</td>\n",
       "      <td>4.572374</td>\n",
       "      <td>0.218705</td>\n",
       "      <td>5.922678e-01</td>\n",
       "      <td>1</td>\n",
       "    </tr>\n",
       "    <tr>\n",
       "      <th>...</th>\n",
       "      <td>...</td>\n",
       "      <td>...</td>\n",
       "      <td>...</td>\n",
       "      <td>...</td>\n",
       "      <td>...</td>\n",
       "      <td>...</td>\n",
       "      <td>...</td>\n",
       "      <td>...</td>\n",
       "      <td>...</td>\n",
       "      <td>...</td>\n",
       "      <td>...</td>\n",
       "      <td>...</td>\n",
       "      <td>...</td>\n",
       "      <td>...</td>\n",
       "      <td>...</td>\n",
       "      <td>...</td>\n",
       "      <td>...</td>\n",
       "      <td>...</td>\n",
       "      <td>...</td>\n",
       "      <td>...</td>\n",
       "      <td>...</td>\n",
       "    </tr>\n",
       "    <tr>\n",
       "      <th>995</th>\n",
       "      <td>29</td>\n",
       "      <td>?</td>\n",
       "      <td>188675</td>\n",
       "      <td>Some-college</td>\n",
       "      <td>10</td>\n",
       "      <td>Divorced</td>\n",
       "      <td>?</td>\n",
       "      <td>Own-child</td>\n",
       "      <td>Black</td>\n",
       "      <td>Male</td>\n",
       "      <td>...</td>\n",
       "      <td>40</td>\n",
       "      <td>United-States</td>\n",
       "      <td>&lt;=50K</td>\n",
       "      <td>11.135537</td>\n",
       "      <td>995</td>\n",
       "      <td>36928b23-3855-42d6-abc1-9c449c4bca6f</td>\n",
       "      <td>4.409850</td>\n",
       "      <td>0.226765</td>\n",
       "      <td>2.082822e+02</td>\n",
       "      <td>0</td>\n",
       "    </tr>\n",
       "    <tr>\n",
       "      <th>996</th>\n",
       "      <td>53</td>\n",
       "      <td>Local-gov</td>\n",
       "      <td>287192</td>\n",
       "      <td>1st-4th</td>\n",
       "      <td>2</td>\n",
       "      <td>Married-civ-spouse</td>\n",
       "      <td>Other-service</td>\n",
       "      <td>Husband</td>\n",
       "      <td>White</td>\n",
       "      <td>Male</td>\n",
       "      <td>...</td>\n",
       "      <td>32</td>\n",
       "      <td>Mexico</td>\n",
       "      <td>&lt;=50K</td>\n",
       "      <td>2.229436</td>\n",
       "      <td>996</td>\n",
       "      <td>36928b23-3855-42d6-abc1-9c449c4bca6f</td>\n",
       "      <td>5.247838</td>\n",
       "      <td>0.190555</td>\n",
       "      <td>1.236138e+00</td>\n",
       "      <td>0</td>\n",
       "    </tr>\n",
       "    <tr>\n",
       "      <th>997</th>\n",
       "      <td>39</td>\n",
       "      <td>State-gov</td>\n",
       "      <td>152023</td>\n",
       "      <td>11th</td>\n",
       "      <td>7</td>\n",
       "      <td>Married-civ-spouse</td>\n",
       "      <td>Craft-repair</td>\n",
       "      <td>Husband</td>\n",
       "      <td>White</td>\n",
       "      <td>Male</td>\n",
       "      <td>...</td>\n",
       "      <td>40</td>\n",
       "      <td>United-States</td>\n",
       "      <td>&lt;=50K</td>\n",
       "      <td>45.614267</td>\n",
       "      <td>997</td>\n",
       "      <td>36928b23-3855-42d6-abc1-9c449c4bca6f</td>\n",
       "      <td>3.557260</td>\n",
       "      <td>0.281115</td>\n",
       "      <td>2.082822e+02</td>\n",
       "      <td>0</td>\n",
       "    </tr>\n",
       "    <tr>\n",
       "      <th>998</th>\n",
       "      <td>52</td>\n",
       "      <td>Private</td>\n",
       "      <td>208302</td>\n",
       "      <td>HS-grad</td>\n",
       "      <td>9</td>\n",
       "      <td>Married-civ-spouse</td>\n",
       "      <td>Sales</td>\n",
       "      <td>Husband</td>\n",
       "      <td>White</td>\n",
       "      <td>Male</td>\n",
       "      <td>...</td>\n",
       "      <td>36</td>\n",
       "      <td>United-States</td>\n",
       "      <td>&lt;=50K</td>\n",
       "      <td>0.433202</td>\n",
       "      <td>998</td>\n",
       "      <td>36928b23-3855-42d6-abc1-9c449c4bca6f</td>\n",
       "      <td>1.574636</td>\n",
       "      <td>0.635067</td>\n",
       "      <td>5.905324e-01</td>\n",
       "      <td>1</td>\n",
       "    </tr>\n",
       "    <tr>\n",
       "      <th>999</th>\n",
       "      <td>42</td>\n",
       "      <td>Private</td>\n",
       "      <td>281209</td>\n",
       "      <td>Some-college</td>\n",
       "      <td>10</td>\n",
       "      <td>Married-civ-spouse</td>\n",
       "      <td>Transport-moving</td>\n",
       "      <td>Husband</td>\n",
       "      <td>White</td>\n",
       "      <td>Male</td>\n",
       "      <td>...</td>\n",
       "      <td>50</td>\n",
       "      <td>United-States</td>\n",
       "      <td>&lt;=50K</td>\n",
       "      <td>0.898636</td>\n",
       "      <td>999</td>\n",
       "      <td>36928b23-3855-42d6-abc1-9c449c4bca6f</td>\n",
       "      <td>2.125823</td>\n",
       "      <td>0.470406</td>\n",
       "      <td>8.814483e-01</td>\n",
       "      <td>0</td>\n",
       "    </tr>\n",
       "  </tbody>\n",
       "</table>\n",
       "<p>1000 rows × 22 columns</p>\n",
       "</div>"
      ],
      "text/plain": [
       "     age          workclass  fnlwgt      education  education-num  \\\n",
       "0     27            Private  284196           10th              6   \n",
       "1     35            Private  150125      Assoc-voc             11   \n",
       "2     20            Private  157541   Some-college             10   \n",
       "3     35   Self-emp-not-inc  102471        HS-grad              9   \n",
       "4     25   Self-emp-not-inc  108001            9th              5   \n",
       "..   ...                ...     ...            ...            ...   \n",
       "995   29                  ?  188675   Some-college             10   \n",
       "996   53          Local-gov  287192        1st-4th              2   \n",
       "997   39          State-gov  152023           11th              7   \n",
       "998   52            Private  208302        HS-grad              9   \n",
       "999   42            Private  281209   Some-college             10   \n",
       "\n",
       "          marital-status         occupation    relationship    race      sex  \\\n",
       "0               Divorced      Other-service   Not-in-family   White   Female   \n",
       "1               Divorced      Other-service       Unmarried   Black   Female   \n",
       "2          Never-married       Craft-repair       Own-child   White     Male   \n",
       "3               Divorced    Farming-fishing   Not-in-family   White     Male   \n",
       "4          Never-married       Craft-repair   Not-in-family   White     Male   \n",
       "..                   ...                ...             ...     ...      ...   \n",
       "995             Divorced                  ?       Own-child   Black     Male   \n",
       "996   Married-civ-spouse      Other-service         Husband   White     Male   \n",
       "997   Married-civ-spouse       Craft-repair         Husband   White     Male   \n",
       "998   Married-civ-spouse              Sales         Husband   White     Male   \n",
       "999   Married-civ-spouse   Transport-moving         Husband   White     Male   \n",
       "\n",
       "     ...  hours-per-week  native-country  target  \\\n",
       "0    ...              40   United-States   <=50K   \n",
       "1    ...              40   United-States   <=50K   \n",
       "2    ...              40   United-States   <=50K   \n",
       "3    ...              80     Puerto-Rico   <=50K   \n",
       "4    ...              15   United-States   <=50K   \n",
       "..   ...             ...             ...     ...   \n",
       "995  ...              40   United-States   <=50K   \n",
       "996  ...              32          Mexico   <=50K   \n",
       "997  ...              40   United-States   <=50K   \n",
       "998  ...              36   United-States   <=50K   \n",
       "999  ...              50   United-States   <=50K   \n",
       "\n",
       "    familiarity_conviction_addition .session_training_index  \\\n",
       "0                         13.075084                       0   \n",
       "1                         11.687488                       1   \n",
       "2                          0.654311                       2   \n",
       "3                          0.822998                       3   \n",
       "4                          7.256599                       4   \n",
       "..                              ...                     ...   \n",
       "995                       11.135537                     995   \n",
       "996                        2.229436                     996   \n",
       "997                       45.614267                     997   \n",
       "998                        0.433202                     998   \n",
       "999                        0.898636                     999   \n",
       "\n",
       "                                 .session  distance_contribution   density  \\\n",
       "0    36928b23-3855-42d6-abc1-9c449c4bca6f               3.405597  0.293634   \n",
       "1    36928b23-3855-42d6-abc1-9c449c4bca6f               4.391143  0.227731   \n",
       "2    36928b23-3855-42d6-abc1-9c449c4bca6f               1.895770  0.527490   \n",
       "3    36928b23-3855-42d6-abc1-9c449c4bca6f               6.355230  0.157351   \n",
       "4    36928b23-3855-42d6-abc1-9c449c4bca6f               4.572374  0.218705   \n",
       "..                                    ...                    ...       ...   \n",
       "995  36928b23-3855-42d6-abc1-9c449c4bca6f               4.409850  0.226765   \n",
       "996  36928b23-3855-42d6-abc1-9c449c4bca6f               5.247838  0.190555   \n",
       "997  36928b23-3855-42d6-abc1-9c449c4bca6f               3.557260  0.281115   \n",
       "998  36928b23-3855-42d6-abc1-9c449c4bca6f               1.574636  0.635067   \n",
       "999  36928b23-3855-42d6-abc1-9c449c4bca6f               2.125823  0.470406   \n",
       "\n",
       "     target_residual_conviction  low_residual_conviction  \n",
       "0                  2.082822e+02                        0  \n",
       "1                  4.789228e-01                        1  \n",
       "2                  3.352711e+12                        0  \n",
       "3                  8.878975e+09                        0  \n",
       "4                  5.922678e-01                        1  \n",
       "..                          ...                      ...  \n",
       "995                2.082822e+02                        0  \n",
       "996                1.236138e+00                        0  \n",
       "997                2.082822e+02                        0  \n",
       "998                5.905324e-01                        1  \n",
       "999                8.814483e-01                        0  \n",
       "\n",
       "[1000 rows x 22 columns]"
      ]
     },
     "execution_count": 21,
     "metadata": {},
     "output_type": "execute_result"
    }
   ],
   "source": [
    "partial_train_df"
   ]
  },
  {
   "cell_type": "code",
   "execution_count": 28,
   "id": "d902d796-a176-486d-a427-a7783bfa9c86",
   "metadata": {},
   "outputs": [],
   "source": [
    "# Helper function to resize the data points\n",
    "def get_sizes(min_size, max_size, series):\n",
    "    min_value = series.min()\n",
    "    max_value = series.max()\n",
    "    \n",
    "    m = (max_size - min_size) / (max_value - min_value)\n",
    "    \n",
    "    sizes = series * m + min_size\n",
    "    return (sizes)\n",
    "\n",
    "partial_train_df[\"density\"] = get_sizes(5, 500, partial_train_df[\"density\"])"
   ]
  },
  {
   "cell_type": "code",
   "execution_count": 29,
   "id": "3d4ec798",
   "metadata": {},
   "outputs": [
    {
     "data": {
      "application/vnd.plotly.v1+json": {
       "config": {
        "plotlyServerURL": "https://plot.ly"
       },
       "data": [
        {
         "legendgroup": "cases",
         "legendgrouptitle": {
          "text": "Cases"
         },
         "marker": {
          "line": {
           "color": "darkgrey",
           "width": 2
          },
          "opacity": 0.4,
          "size": [
           105.48116954157223,
           82.92923290191935,
           185.5063146113081,
           58.84515680524305,
           79.84042158638579,
           141.95974174167182,
           395.4186388593494,
           157.9984413846385,
           103.29849158693848,
           195.81343729529263,
           92.25822970982718,
           74.40212414367328,
           197.9013140906794,
           165.53200740122975,
           111.78964730832581,
           72.9450875329577,
           82.66797372834996,
           175.27434562065255,
           32.55234183004259,
           76.6420010480243,
           69.14998145090652,
           125.59872397171509,
           115.68064632131984,
           85.80398748058057,
           116.02777522666284,
           119.44167757787778,
           108.36787181621841,
           85.19010498869592,
           111.36251849107421,
           67.68080259331674,
           93.62504991312507,
           226.37739179322276,
           90.30132727462997,
           114.56358619701601,
           169.68732678328945,
           113.44311306083164,
           95.16095670974175,
           86.90268016042867,
           120.38202760657076,
           223.23138470979578,
           133.39610982694936,
           126.06144295893752,
           143.82274038506492,
           135.47620512603456,
           179.2166126679088,
           173.8508018724821,
           108.49875985607767,
           191.396670129075,
           145.4571806035859,
           121.20215901294402,
           100.08634902675828,
           124.8731006381558,
           74.87982824735646,
           105.2561960259334,
           78.86901811376708,
           50.02751969659281,
           79.63842885686412,
           176.01188861475396,
           31.915902613767248,
           66.31922858396977,
           72.9239522139332,
           130.53838827240065,
           88.2557975805514,
           104.30020830322073,
           172.83440564661947,
           169.2295668534112,
           122.85350726534713,
           32.80612089163664,
           87.74494195594184,
           295.2538292175263,
           78.29149699336224,
           116.44318955089513,
           131.6476650242945,
           108.82375331424181,
           485.1481810102768,
           130.9772488921307,
           261.7366631231487,
           109.86431943972725,
           108.60414412393894,
           80.32767541641108,
           61.526387095260965,
           95.63290109249057,
           91.90970592454107,
           92.87965898308886,
           76.9648767831584,
           191.71980716579006,
           81.6391243429656,
           70.9761761863208,
           154.68103292812157,
           129.6811789991297,
           74.95190026483539,
           193.92893193986683,
           128.50368137486345,
           166.83246273136356,
           297.43165865626617,
           89.35510519166593,
           119.7332643450261,
           186.52739904740375,
           93.04160928411355,
           128.21602635004513,
           109.75831299742794,
           95.36616698966604,
           141.0492784389068,
           106.67163635981797,
           73.9992898050028,
           179.47492002622815,
           56.750620530335986,
           90.53691766123536,
           109.32450190711559,
           108.1742743815879,
           161.44015570267058,
           87.78393963692687,
           70.13567179616871,
           91.26181586109858,
           180.470360312726,
           67.862365010995,
           83.7884709010248,
           88.32659645877649,
           190.70860111145603,
           96.07966275154709,
           259.10871451686023,
           102.85669059140615,
           107.46619237601458,
           81.37439681185477,
           76.67306176119618,
           52.49337821229749,
           66.84019056493368,
           447.76345943357313,
           93.51394110094755,
           134.21263187064062,
           154.6843223112568,
           68.80258835164204,
           172.5015788620902,
           181.68069009487922,
           87.61905548389478,
           167.58120440042023,
           78.1191635920578,
           85.98544191951213,
           156.8445920877343,
           93.06524500421143,
           68.18197915297992,
           71.61889267780955,
           96.21296685199665,
           126.68988267923731,
           71.36661815116865,
           96.36358356333962,
           59.3930778310997,
           64.4807290286136,
           86.9573014535301,
           145.2549931626868,
           90.89881322625963,
           66.11218605090096,
           84.51989769939696,
           80.62218682107327,
           82.72535485643576,
           77.03463456592661,
           73.89829439813677,
           133.6865386052513,
           73.86012009086798,
           150.37826563231525,
           90.8567682267705,
           65.27630223485531,
           220.96931996203486,
           64.05828052555981,
           61.99733420199239,
           204.70276667432037,
           143.27386882302886,
           120.5259603021425,
           173.51061709458995,
           184.77037716389202,
           30.001087028949303,
           82.64713177065367,
           32.4774133949286,
           245.87264447261356,
           134.05522944383043,
           102.14404095655836,
           66.39291090036296,
           66.31816561189534,
           115.33746337136047,
           34.70616114308062,
           182.05643228073072,
           80.8822989706625,
           99.16228682676041,
           113.57527601925774,
           55.93417526449031,
           80.57148713330659,
           125.20622876567269,
           93.2865056049697,
           174.85068553886086,
           151.30712729521466,
           78.16202037462809,
           153.0342114689486,
           157.2117579083998,
           204.74906429526374,
           118.66206309598387,
           122.97220006862484,
           103.63874909150118,
           158.39303665721988,
           81.83504830952896,
           51.80955301806093,
           191.21580482646345,
           111.43545351139552,
           78.82996576280097,
           39.22982557368292,
           136.24747336021585,
           96.84285698620604,
           177.0371135834845,
           107.45417536378268,
           191.14062543396605,
           123.0441473610219,
           68.06872189386428,
           164.22118872837157,
           85.25976430497602,
           79.30482136666554,
           107.45404912529867,
           111.59540344970439,
           30.931336683245803,
           144.43400756866214,
           66.04004527551936,
           205.2039357357155,
           239.11243051911416,
           214.93775364892682,
           60.819313188078965,
           119.61108102195467,
           105.01320762063672,
           30.696789529282736,
           63.479638942114576,
           120.73610413141787,
           102.60488514120918,
           158.50957732922288,
           84.33985092621583,
           77.01528247801838,
           73.58556771057309,
           97.13875900592974,
           246.93832057236713,
           112.67982700637852,
           44.10133276889066,
           99.19969547927695,
           108.55603740534387,
           132.58667910306679,
           127.02347879953606,
           152.67240261776158,
           57.10703506997145,
           160.74390926370728,
           136.33001246866772,
           78.29753203572734,
           69.51009626617643,
           81.61844736204542,
           106.37133601917704,
           80.11016908977965,
           190.84683868905043,
           136.34564085374237,
           240.48235784992906,
           224.7252938379958,
           109.17331371174996,
           35.10886372693871,
           177.9430945120678,
           115.21765683039001,
           94.10364907327074,
           131.99463249721168,
           100.36676643922266,
           74.30332150145566,
           65.13731483772335,
           76.82348538279984,
           81.47544056706529,
           172.76463549082135,
           71.08147440499464,
           79.80510271038504,
           240.0057602833477,
           105.37303137790943,
           104.85472225303837,
           78.89005811035884,
           146.089078426413,
           169.88382242979503,
           160.68885055992234,
           182.12657833975575,
           71.12788566455376,
           77.16436966125625,
           107.76599893873382,
           71.71795906875575,
           167.98513672608553,
           107.60224918590781,
           86.93921055571363,
           55.849796942376486,
           196.16481007553003,
           198.84353709547662,
           108.10075219683392,
           191.14795719641234,
           119.22362757218644,
           109.0945590253785,
           91.69197036059059,
           258.0290993974479,
           112.82757715428048,
           103.68428977793934,
           105.29370762988873,
           110.33334514694187,
           109.63626912866667,
           64.78559161347533,
           161.87144225213814,
           82.64194061849261,
           32.58541960296695,
           98.45122934619809,
           178.32886891695145,
           107.99868664030674,
           77.4853486533769,
           41.376397884109664,
           30.79030973611451,
           178.27539944877248,
           121.73120508443915,
           95.43096995493764,
           110.76752490566352,
           158.56811372434046,
           148.45326351471545,
           160.68954209263612,
           76.32348617664465,
           63.9631490755178,
           79.8886401237684,
           106.63404743600591,
           120.35403563526901,
           80.17248513398741,
           192.95065949803148,
           80.60822064602392,
           103.86148360414124,
           173.51376620175515,
           95.71711525585488,
           143.15841134036287,
           92.37278428543085,
           47.85573449201405,
           113.0051627185784,
           84.14767821323186,
           76.40068396516303,
           185.29673469067967,
           163.58941965196837,
           154.31727439717503,
           105.24917280856496,
           63.20108436938016,
           32.844075722107505,
           75.98839776259051,
           79.10316171989821,
           59.25818895858859,
           104.55975039999628,
           77.65211357085991,
           164.8319482377175,
           80.44958821737578,
           174.8491322901285,
           124.77941580548193,
           194.72350241290786,
           67.95145532544137,
           93.30191548158237,
           167.72196081117332,
           61.15575115867419,
           100.76455976314998,
           39.06203525930636,
           414.79813873688653,
           75.50587773762834,
           76.54263367539818,
           294.23655918387504,
           138.35940094077634,
           83.69477369962613,
           125.40030894431888,
           72.83046809465397,
           91.59123670269179,
           189.08617530312276,
           126.67273527556974,
           119.36976565769554,
           430.70293259436085,
           104.42915380171364,
           85.72216483695546,
           87.12770414299676,
           117.69816924934072,
           127.05050819057591,
           133.98958047663098,
           105.18794076218587,
           82.9249088444665,
           109.22653730500294,
           244.5409685859402,
           103.20869050208825,
           61.025709800272935,
           69.95881952514624,
           127.55662841289458,
           215.48991318405658,
           87.64564763077844,
           62.66229817236061,
           116.94995073933814,
           87.14994906630656,
           99.54940508128206,
           142.26935002811,
           136.5696312464088,
           148.31424563684612,
           77.34109164185725,
           95.2636002140881,
           104.48747158414176,
           186.55329537806506,
           77.17197181107967,
           96.02938171583116,
           100.65005372654608,
           283.7123588733864,
           106.85191242962982,
           112.14727985579657,
           84.32590814891117,
           156.97221194289372,
           109.78919278402967,
           520.5824432616399,
           65.12250695328223,
           54.969838258374736,
           135.57698277001018,
           137.70433996212833,
           79.52536262494316,
           221.9742900399272,
           133.24895438175972,
           148.27591680518688,
           92.04457091028534,
           90.75652899006461,
           100.61059271920352,
           262.70331028576794,
           124.023782668501,
           115.205988687128,
           91.19753050333192,
           107.09380904280135,
           146.2955475766717,
           40.665040410221515,
           102.49500874135839,
           72.3308144266878,
           206.47602919192366,
           139.46878284001335,
           89.33365206839817,
           153.18820923167402,
           62.15554048334132,
           76.36242696701602,
           94.68080599095921,
           115.91408834510247,
           130.77552952243667,
           129.3129562832493,
           127.125336124731,
           82.49061812899053,
           91.58050644993506,
           84.29903876688786,
           90.97996812456512,
           173.06013406464652,
           210.63416132453983,
           62.14145841275634,
           124.71748435910625,
           117.81754019448208,
           108.97461287731099,
           85.96842240035407,
           133.7555876007342,
           152.3589925957495,
           63.56471935729854,
           132.0058596557834,
           115.6944105898382,
           77.6300192025141,
           83.66355092429156,
           109.6845570016966,
           66.02573655334527,
           115.95393918372044,
           68.6818511136635,
           198.00791888546135,
           121.09289955668186,
           205.95581079365354,
           105.56475085155881,
           96.28350797194823,
           82.25225307557143,
           232.50794613712188,
           101.88748825870059,
           225.3836009901932,
           114.67691162175936,
           115.67623145369012,
           101.19628016801875,
           401.9027954920949,
           128.04776317268684,
           124.10720446210829,
           99.57507846819743,
           87.12759358542286,
           120.2927234416408,
           232.30357361916808,
           350.329237258458,
           80.2642015721674,
           125.53356248262234,
           69.94715751868794,
           176.82640647617225,
           87.16013616773527,
           217.47115216383477,
           132.1041490466729,
           111.84172248258767,
           104.7514450650136,
           390.40713625463366,
           94.17698490483161,
           60.565217963730575,
           146.0968196038091,
           109.09432575269044,
           156.5702238762965,
           96.3663104783748,
           394.3016315628774,
           114.227444989505,
           102.60231114891688,
           56.48706327946656,
           105.6107819130397,
           212.05493667148542,
           93.04404479917291,
           128.3417480947554,
           199.1690351846581,
           75.17921787235615,
           107.71693708370513,
           30.975486520249916,
           106.62174207134726,
           86.77978311661712,
           115.92294167773007,
           50.556548485145925,
           32.493872322284965,
           202.1869650771886,
           71.66991621471406,
           74.85649001830899,
           160.1424809347616,
           134.8392167695642,
           103.52570769052632,
           109.16730309371961,
           73.38901451882754,
           149.84880493196263,
           63.95041058370972,
           227.47785910959246,
           230.7128634822175,
           68.04196389118576,
           169.2883264060176,
           169.4304217572222,
           61.76153068470168,
           60.362993934357426,
           134.37930984066705,
           157.90365060447337,
           219.6905927392825,
           62.126274086509945,
           108.73712521619032,
           25.582443261639977,
           91.60547359587947,
           91.18661582383537,
           245.08145377475827,
           57.27343157045791,
           102.05139251949133,
           69.81977984855435,
           121.67853879641777,
           119.72583389890441,
           162.34507447677626,
           192.5134234166698,
           188.5443167599217,
           63.05401741129007,
           135.9408264895853,
           121.72466729548131,
           102.8531443430522,
           86.73912372626506,
           108.46983536756387,
           160.549015487689,
           140.25141775355783,
           90.27170800372173,
           94.92213099828464,
           71.5623150126957,
           96.64140442291912,
           125.66843908418598,
           176.62536569475867,
           114.88019274012736,
           73.11948631113043,
           94.1299417630417,
           140.10108417285983,
           134.26863280869694,
           172.18153433246255,
           146.32499391758105,
           93.26418430744769,
           234.53186280561835,
           70.74243794389993,
           65.46025223067346,
           266.721965599248,
           58.56614280604912,
           85.06167880620467,
           54.802234292212354,
           170.05091591687636,
           91.7836565289275,
           59.275159995287915,
           84.22400183514446,
           134.86503703008816,
           112.79204542052351,
           87.12349191445412,
           111.1651479604607,
           220.21372028918432,
           97.1286717762743,
           87.65265051723021,
           201.35125501122533,
           93.53615616624167,
           229.56780985916188,
           75.26870702581566,
           84.72432569493056,
           75.71948621007884,
           67.51432430849175,
           104.34399154000602,
           82.8321039737776,
           79.62017944816671,
           60.723470550441746,
           86.72949100283476,
           117.41695000432041,
           94.57999979633894,
           73.50195894275487,
           43.028616373812206,
           160.30163009731316,
           188.5044788812147,
           57.80869517271126,
           146.46254046613078,
           175.64409016719287,
           75.00537248469567,
           71.76804218207388,
           97.30239838458616,
           245.01478217056493,
           32.24353625293389,
           96.6106731411009,
           60.72439283694731,
           76.10737190316144,
           56.37399599266207,
           79.08300591133423,
           132.37541265732654,
           90.27497500592527,
           107.35679694670718,
           183.22731235261372,
           79.7492508878767,
           137.36300685652654,
           83.59253334747152,
           134.91390593290544,
           77.3146779445114,
           57.71334533304573,
           97.33832508370533,
           76.33074515178768,
           172.4550046460256,
           153.1259168935818,
           79.93235396979013,
           179.64059259092338,
           126.30663959447773,
           162.86245052081821,
           74.0232505989472,
           126.23399678878218,
           86.57194262417308,
           84.4255198837221,
           156.19041843226302,
           97.00912592415077,
           100.89388292708463,
           217.90987007936567,
           116.07472266923581,
           173.33699954733112,
           94.96000446004824,
           103.79446331281066,
           98.06092455091587,
           65.32581502720994,
           131.09560650537173,
           81.29550964102447,
           80.98235093635166,
           60.03956756745274,
           106.02698418365628,
           107.91002984075233,
           83.29396430802589,
           144.53315440799219,
           105.49501996671175,
           100.86450918144689,
           93.89918821176799,
           174.3064881421956,
           43.24432741721512,
           107.94074410072976,
           100.72927733038755,
           199.23590590463155,
           72.20716463388037,
           95.97682165515849,
           80.99259407768508,
           102.52310818850897,
           186.95119183061664,
           167.09906103611291,
           34.09379812637975,
           117.09093829830044,
           125.04034253901227,
           167.95029467507686,
           32.72887087421244,
           66.65592579173276,
           90.33509115836424,
           120.78265951915095,
           117.27051906140564,
           62.41112947700597,
           153.13647945945584,
           123.44405334718275,
           103.89001520398935,
           131.27952956383075,
           167.44632443861389,
           248.15338057901064,
           104.94747409424589,
           103.93737096646707,
           121.16837263687157,
           55.027290497210686,
           97.10046590729202,
           114.4491607246105,
           89.33029317560616,
           102.09979043537525,
           42.43922237574346,
           227.9575419209075,
           132.16114096756235,
           114.04895871152695,
           74.79274473652526,
           264.23777425864836,
           91.05182804003086,
           88.62718923366917,
           109.14247562970267,
           75.95454996709768,
           81.82730780803861,
           131.36319167188046,
           69.01632036465212,
           105.1945423677519,
           228.82921810749883,
           104.29173982208295,
           176.44110099767545,
           87.98172275389004,
           72.68954978714982,
           66.68349032452295,
           234.6188676717097,
           184.61799573398724,
           91.14346786304588,
           104.83202529054034,
           315.8375688555874,
           157.7205606547612,
           167.17682552739322,
           70.12252371150015,
           51.634356964239515,
           140.8607795956589,
           58.27635237756756,
           96.7039861570558,
           89.05693687942944,
           116.28024927994758,
           81.12345092706425,
           68.36714035340384,
           177.52266544431072,
           118.19657495626407,
           102.32067746588244,
           116.34523277867773,
           32.723691016916426,
           84.5298138683579,
           54.63613980530555,
           89.4015751655451,
           103.00701100856271,
           61.462451230278035,
           186.48503108400965,
           63.360140876420225,
           123.60672994250542,
           139.21040067255743,
           109.06736911095555,
           129.60232099658197,
           107.10799307488668,
           47.527538367187205,
           75.8533805431424,
           148.21662428811578,
           90.11783241072379,
           200.23107562564772,
           135.77626634593798,
           153.75869338283525,
           143.1784580280824,
           196.7648413407806,
           162.6382105620156,
           206.26491016896884,
           104.87209368333585,
           111.31253707479894,
           157.10956579717396,
           95.68829524576088,
           202.22567791590336,
           125.94043502421701,
           166.59169929599847,
           138.46258865552855,
           179.39880456049676,
           30.525580675405088,
           63.652266366162834,
           104.36347828315706,
           270.44823554032837,
           138.35277843012764,
           114.75689918828189,
           87.17039036868304,
           74.48738644458172,
           67.0839022735672,
           126.55092969460296,
           169.90297398771995,
           66.35939546500978,
           101.94347930377147,
           169.83620492325022,
           46.69925252244521,
           84.43146741914236,
           31.12429251852223,
           103.16108444512032,
           237.89825348142264,
           197.13923354029185,
           75.03513068156396,
           60.1473008655395,
           72.80930911447072,
           150.51510044305203,
           58.76627810064725,
           126.85112747537625,
           376.43342503683846,
           203.72481219882164,
           95.23718239640999,
           67.3840326003957,
           103.89583647565222,
           71.32389319094456,
           207.59317212652584,
           90.86966741305042,
           145.60406493059293,
           204.20727880957986,
           79.96781539778934,
           68.39388962106409,
           55.3036310068838,
           108.17856842096482,
           60.273858847723716,
           56.8819906482729,
           157.30655202365435,
           83.19870239980997,
           240.72642216408772,
           83.24519895229582,
           161.89128091587432,
           97.63655313807972,
           195.96039274979404,
           60.9777470140735,
           103.69641546805619,
           123.0474442714127,
           181.5315341217172,
           93.48964121722521,
           222.00934574417428,
           126.87411054124674,
           138.9899455379504,
           125.95617007498592,
           143.11673803920343,
           81.30308935164618,
           111.06194810656733,
           210.97808974739618,
           217.5172137382935,
           234.64101133536633,
           64.14412789462136,
           104.4492773926447,
           104.02188163816228,
           117.58827331816303,
           62.775446040609815,
           97.5872040068039,
           162.35343821786844,
           213.64474215510893,
           178.12968989252184,
           60.56734521193539,
           148.72227758339943,
           89.63663461685515,
           73.56810371656924,
           82.3014510764638,
           47.69588559858686,
           247.12536232546964,
           105.85808492771258,
           61.66942300039297,
           133.12793753388524,
           93.42814558020476,
           168.24881779516522,
           231.70346456465842,
           55.55798183149555,
           173.4329085491994,
           83.6429963109873,
           78.50523428126452,
           201.31530056101212,
           79.21504669440243,
           141.47398249922574,
           130.31453106382253,
           111.32327784462818,
           177.2309308804465,
           95.79815925172973,
           147.5382876318049,
           61.651364728494386,
           31.8836812547867,
           169.16528405575983,
           113.30944049665023,
           236.18462074249229,
           214.87065340086414,
           87.31652510675174,
           170.8159591221772,
           60.32843903583289,
           32.292747410875805,
           73.73640728033892,
           63.24692859732301,
           32.926135666626706,
           91.50309804947211,
           102.80646713061701,
           96.75240389424962,
           39.16873775649642,
           100.34670473166335,
           68.54727221789216,
           94.14995356950186,
           93.14114832968473,
           30.32809222775195,
           88.98568742666106,
           130.437654773237,
           110.49798945742239,
           151.65180603596906,
           200.13723037902807,
           110.43730565643723,
           70.91882286229121,
           231.96143863654888,
           76.47963586184457,
           110.38684835342454,
           115.3623970679642,
           221.54230873267747,
           101.84429030500522,
           115.05902749819236,
           114.06947006398634,
           187.41438763845176,
           100.83791478348815,
           49.11404758145829,
           104.492940085197,
           87.49639126701459,
           119.06058554069764,
           107.38852793214537,
           101.27516937832023,
           109.72656976371486,
           76.58873597419546,
           83.50864957977562,
           167.83328448528798,
           121.10159623624726,
           169.17004861880014,
           92.60764271579991,
           81.10383493291467,
           239.4512928714931,
           88.28276846919239,
           104.01403722947005,
           168.11210910891182,
           98.71837549227116,
           240.8763840628133,
           65.52813360635346,
           92.66048427860412,
           111.17398622734329,
           115.7054223153679,
           86.23056864722017,
           68.85187867107005,
           92.80216688439137,
           70.31601255621399,
           70.81848460387296,
           47.326882161143054,
           62.371223646647394,
           178.9974036220215,
           102.82120696641563,
           313.0539072495626,
           95.48810122562764,
           83.9283889374755,
           123.39662425197851,
           105.62617018205225,
           89.14896737045187,
           88.96827562097609,
           129.86166532209376,
           116.55768046529886,
           74.69945072124835,
           93.16661768227947,
           99.0320841355955,
           203.28129704260638,
           108.35958351257452,
           137.80752686217485,
           60.17331502284531,
           154.83754968401627,
           104.57145163327343,
           110.80238726347494,
           74.13638975146804,
           183.00148297332086,
           162.54357647373988,
           72.16528799140482,
           32.182154729329675,
           93.03531090066689,
           113.21017230371567,
           59.55207317670005,
           159.86142126571397,
           70.87587759461138,
           129.53599159450567,
           184.3130146258043,
           62.21216341784544,
           61.16894036852934,
           92.49848537954523,
           102.03470069082529,
           96.77687946365239,
           184.88879144981465,
           101.59578555763932,
           122.57521622520905,
           43.02404393384568,
           113.57689369132346,
           114.04516325300264,
           133.5075064526454,
           145.38402511889416,
           250.82795706830873,
           99.2612928996827,
           97.12939798721744,
           229.52633567654615,
           69.61249267673418,
           83.75326101314464,
           118.62531662976862,
           92.49913780166588,
           55.61697712121547,
           70.49859616457141,
           118.96858748136992,
           69.32610959504821,
           157.32444612648567,
           217.71702456005306,
           91.56739074408516,
           63.992357840882896,
           82.59865282753994,
           70.2074971407627,
           101.19717846582365,
           222.3189710995831,
           165.97217740407586
          ],
          "sizemin": 7.5,
          "sizemode": "area"
         },
         "mode": "markers",
         "name": "0",
         "type": "scattergl",
         "x": [
          27,
          20,
          35,
          45,
          31,
          18,
          27,
          28,
          29,
          39,
          36,
          32,
          20,
          22,
          38,
          27,
          27,
          61,
          35,
          30,
          20,
          35,
          35,
          46,
          22,
          29,
          44,
          46,
          38,
          36,
          27,
          55,
          27,
          21,
          22,
          37,
          29,
          34,
          41,
          49,
          23,
          34,
          37,
          29,
          34,
          29,
          47,
          59,
          24,
          44,
          28,
          74,
          28,
          27,
          20,
          38,
          34,
          22,
          47,
          55,
          37,
          61,
          39,
          41,
          48,
          38,
          35,
          37,
          36,
          59,
          34,
          19,
          47,
          20,
          43,
          20,
          27,
          26,
          38,
          20,
          35,
          38,
          31,
          46,
          55,
          55,
          32,
          46,
          57,
          24,
          33,
          44,
          20,
          30,
          29,
          25,
          20,
          38,
          52,
          23,
          18,
          36,
          18,
          47,
          21,
          38,
          25,
          50,
          20,
          33,
          21,
          49,
          30,
          18,
          28,
          38,
          42,
          39,
          23,
          27,
          24,
          52,
          43,
          39,
          67,
          46,
          54,
          20,
          37,
          39,
          43,
          44,
          30,
          48,
          55,
          24,
          37,
          35,
          18,
          23,
          25,
          26,
          39,
          33,
          36,
          39,
          34,
          17,
          22,
          29,
          28,
          18,
          39,
          53,
          29,
          30,
          24,
          31,
          45,
          19,
          57,
          35,
          35,
          56,
          30,
          22,
          42,
          59,
          69,
          59,
          45,
          32,
          18,
          55,
          58,
          21,
          18,
          33,
          28,
          36,
          46,
          32,
          73,
          33,
          18,
          32,
          29,
          33,
          48,
          23,
          40,
          49,
          52,
          21,
          44,
          29,
          24,
          51,
          34,
          29,
          55,
          41,
          52,
          53,
          33,
          20,
          28,
          51,
          74,
          32,
          38,
          28,
          53,
          29,
          29,
          28,
          40,
          48,
          39,
          19,
          37,
          46,
          34,
          19,
          47,
          39,
          24,
          69,
          74,
          78,
          20,
          21,
          20,
          45,
          61,
          30,
          35,
          29,
          26,
          35,
          25,
          22,
          37,
          22,
          29,
          20,
          32,
          33,
          17,
          45,
          62,
          32,
          43,
          59,
          31,
          48,
          24,
          30,
          34,
          47,
          28,
          34,
          25,
          21,
          56,
          35,
          68,
          23,
          40,
          20,
          30,
          33,
          42,
          45,
          23,
          24,
          76,
          52,
          20,
          18,
          42,
          44,
          31,
          57,
          47,
          19,
          32,
          24,
          40,
          44,
          33,
          35,
          57,
          27,
          50,
          44,
          30,
          80,
          28,
          44,
          39,
          23,
          20,
          22,
          23,
          31,
          26,
          30,
          44,
          22,
          44,
          20,
          39,
          24,
          37,
          65,
          42,
          25,
          39,
          65,
          17,
          45,
          71,
          41,
          55,
          30,
          33,
          37,
          17,
          18,
          64,
          81,
          23,
          48,
          39,
          32,
          23,
          32,
          51,
          53,
          68,
          19,
          51,
          55,
          46,
          40,
          19,
          59,
          27,
          56,
          20,
          37,
          28,
          44,
          56,
          25,
          42,
          17,
          56,
          22,
          38,
          28,
          40,
          43,
          29,
          46,
          49,
          32,
          49,
          47,
          59,
          29,
          46,
          47,
          39,
          25,
          29,
          23,
          56,
          51,
          40,
          45,
          37,
          58,
          70,
          28,
          25,
          43,
          19,
          41,
          18,
          23,
          67,
          38,
          28,
          59,
          30,
          41,
          27,
          20,
          22,
          48,
          43,
          25,
          33,
          44,
          21,
          52,
          26,
          36,
          52,
          35,
          39,
          41,
          23,
          62,
          43,
          30,
          41,
          23,
          30,
          38,
          44,
          23,
          28,
          28,
          68,
          66,
          38,
          54,
          52,
          39,
          23,
          44,
          31,
          54,
          32,
          24,
          19,
          43,
          55,
          50,
          42,
          50,
          20,
          32,
          20,
          33,
          26,
          61,
          43,
          51,
          46,
          28,
          35,
          23,
          27,
          50,
          55,
          45,
          21,
          24,
          45,
          32,
          40,
          38,
          65,
          40,
          27,
          25,
          31,
          66,
          43,
          20,
          50,
          23,
          45,
          26,
          20,
          59,
          42,
          49,
          28,
          44,
          28,
          57,
          20,
          29,
          61,
          36,
          46,
          50,
          62,
          53,
          18,
          21,
          45,
          27,
          30,
          26,
          38,
          31,
          53,
          23,
          42,
          31,
          25,
          56,
          50,
          22,
          35,
          23,
          38,
          43,
          31,
          62,
          46,
          37,
          53,
          51,
          71,
          28,
          22,
          30,
          18,
          34,
          63,
          45,
          55,
          75,
          31,
          43,
          44,
          31,
          18,
          52,
          35,
          83,
          36,
          40,
          36,
          23,
          23,
          37,
          28,
          38,
          44,
          32,
          29,
          26,
          76,
          25,
          67,
          44,
          84,
          37,
          61,
          55,
          33,
          17,
          34,
          36,
          24,
          27,
          29,
          24,
          30,
          29,
          46,
          70,
          31,
          45,
          44,
          45,
          27,
          23,
          56,
          43,
          21,
          29,
          21,
          29,
          21,
          36,
          31,
          54,
          49,
          25,
          40,
          38,
          39,
          39,
          28,
          18,
          23,
          26,
          28,
          35,
          38,
          37,
          37,
          50,
          37,
          38,
          31,
          36,
          18,
          47,
          39,
          31,
          23,
          21,
          43,
          48,
          23,
          31,
          44,
          38,
          25,
          48,
          23,
          34,
          57,
          18,
          22,
          63,
          29,
          46,
          18,
          42,
          31,
          48,
          29,
          42,
          18,
          31,
          34,
          52,
          50,
          23,
          33,
          22,
          22,
          24,
          18,
          19,
          31,
          44,
          36,
          39,
          19,
          39,
          62,
          22,
          32,
          28,
          55,
          23,
          28,
          49,
          34,
          48,
          20,
          37,
          47,
          37,
          19,
          17,
          51,
          48,
          48,
          22,
          46,
          22,
          72,
          37,
          57,
          32,
          29,
          43,
          38,
          39,
          19,
          68,
          60,
          38,
          23,
          21,
          64,
          37,
          33,
          21,
          44,
          20,
          54,
          46,
          32,
          62,
          20,
          36,
          24,
          25,
          45,
          32,
          22,
          29,
          64,
          18,
          37,
          17,
          51,
          23,
          37,
          20,
          37,
          27,
          61,
          30,
          72,
          72,
          34,
          32,
          46,
          52,
          57,
          22,
          24,
          49,
          18,
          51,
          31,
          58,
          35,
          45,
          17,
          47,
          37,
          39,
          25,
          33,
          51,
          31,
          46,
          59,
          45,
          27,
          51,
          34,
          40,
          58,
          61,
          38,
          57,
          22,
          23,
          37,
          41,
          25,
          20,
          26,
          21,
          34,
          33,
          28,
          21,
          20,
          28,
          48,
          55,
          45,
          30,
          46,
          29,
          33,
          43,
          44,
          17,
          56,
          23,
          34,
          21,
          66,
          51,
          40,
          17,
          42,
          36,
          41,
          50,
          49,
          27,
          21,
          23,
          71,
          24,
          53,
          39,
          74,
          38,
          54,
          54,
          45,
          35,
          26,
          39,
          60,
          34,
          38,
          38,
          32,
          26,
          44,
          29,
          40,
          32,
          43,
          23,
          52,
          55,
          35,
          44,
          19,
          31,
          19,
          37,
          38,
          24,
          30,
          38,
          45,
          34,
          47,
          37,
          60,
          49,
          53,
          25,
          37,
          28,
          25,
          26,
          22,
          44,
          55,
          49,
          20,
          32,
          45,
          33,
          54,
          44,
          63,
          30,
          45,
          20,
          52,
          44,
          28,
          29,
          53,
          39,
          42
         ],
         "y": [
          6,
          10,
          9,
          9,
          10,
          10,
          5,
          10,
          9,
          10,
          10,
          10,
          6,
          10,
          9,
          9,
          10,
          4,
          11,
          14,
          10,
          12,
          9,
          9,
          11,
          13,
          13,
          10,
          10,
          9,
          13,
          4,
          11,
          10,
          10,
          9,
          9,
          10,
          9,
          10,
          9,
          10,
          10,
          10,
          9,
          9,
          9,
          7,
          16,
          4,
          9,
          15,
          13,
          13,
          10,
          16,
          12,
          10,
          9,
          14,
          12,
          16,
          12,
          10,
          6,
          12,
          14,
          13,
          9,
          9,
          9,
          8,
          15,
          10,
          6,
          9,
          13,
          13,
          13,
          10,
          7,
          9,
          10,
          11,
          4,
          9,
          9,
          13,
          2,
          10,
          11,
          9,
          10,
          7,
          14,
          10,
          9,
          10,
          11,
          9,
          9,
          9,
          10,
          10,
          10,
          13,
          10,
          9,
          6,
          9,
          10,
          9,
          10,
          10,
          8,
          9,
          15,
          10,
          10,
          11,
          9,
          4,
          12,
          9,
          2,
          9,
          5,
          9,
          13,
          12,
          13,
          9,
          9,
          10,
          9,
          10,
          15,
          10,
          10,
          11,
          9,
          10,
          15,
          10,
          13,
          9,
          9,
          8,
          9,
          9,
          14,
          9,
          13,
          14,
          9,
          10,
          13,
          14,
          10,
          10,
          9,
          6,
          9,
          13,
          10,
          10,
          10,
          9,
          7,
          9,
          9,
          10,
          14,
          14,
          9,
          6,
          9,
          11,
          9,
          9,
          6,
          13,
          7,
          9,
          7,
          10,
          13,
          13,
          13,
          10,
          14,
          4,
          13,
          10,
          13,
          14,
          10,
          12,
          9,
          11,
          9,
          10,
          16,
          9,
          10,
          10,
          13,
          9,
          9,
          6,
          9,
          9,
          12,
          9,
          13,
          11,
          12,
          9,
          9,
          9,
          10,
          9,
          12,
          9,
          11,
          12,
          9,
          9,
          9,
          12,
          10,
          9,
          10,
          9,
          9,
          11,
          5,
          10,
          13,
          8,
          10,
          10,
          10,
          9,
          10,
          10,
          10,
          6,
          5,
          9,
          4,
          10,
          9,
          13,
          11,
          9,
          13,
          10,
          10,
          10,
          9,
          12,
          13,
          10,
          6,
          8,
          9,
          10,
          7,
          9,
          9,
          9,
          10,
          14,
          12,
          14,
          10,
          13,
          9,
          10,
          11,
          13,
          7,
          9,
          10,
          9,
          12,
          10,
          10,
          12,
          4,
          9,
          4,
          7,
          13,
          9,
          13,
          9,
          10,
          9,
          9,
          13,
          9,
          13,
          9,
          10,
          14,
          13,
          9,
          9,
          13,
          10,
          9,
          13,
          13,
          10,
          4,
          11,
          10,
          11,
          7,
          10,
          9,
          10,
          9,
          10,
          9,
          9,
          6,
          7,
          9,
          10,
          9,
          9,
          9,
          13,
          7,
          13,
          10,
          9,
          9,
          7,
          9,
          6,
          10,
          10,
          10,
          13,
          9,
          10,
          10,
          9,
          10,
          13,
          4,
          13,
          16,
          7,
          9,
          10,
          9,
          5,
          9,
          6,
          9,
          10,
          10,
          10,
          9,
          11,
          9,
          10,
          9,
          9,
          9,
          13,
          11,
          10,
          7,
          9,
          9,
          9,
          9,
          10,
          4,
          10,
          12,
          14,
          9,
          9,
          9,
          10,
          13,
          9,
          13,
          10,
          9,
          10,
          13,
          10,
          11,
          13,
          7,
          9,
          10,
          11,
          10,
          14,
          10,
          6,
          9,
          11,
          9,
          15,
          9,
          10,
          13,
          10,
          9,
          11,
          13,
          6,
          13,
          10,
          9,
          13,
          14,
          4,
          6,
          10,
          13,
          9,
          9,
          11,
          9,
          9,
          6,
          10,
          9,
          9,
          13,
          13,
          10,
          13,
          10,
          13,
          9,
          10,
          13,
          9,
          13,
          10,
          13,
          12,
          9,
          9,
          11,
          16,
          13,
          6,
          9,
          9,
          14,
          11,
          9,
          13,
          9,
          14,
          9,
          13,
          5,
          3,
          10,
          10,
          13,
          10,
          13,
          10,
          10,
          13,
          13,
          4,
          9,
          14,
          16,
          9,
          9,
          9,
          9,
          9,
          10,
          8,
          9,
          13,
          7,
          9,
          14,
          10,
          13,
          4,
          10,
          10,
          10,
          10,
          15,
          4,
          13,
          14,
          9,
          10,
          13,
          10,
          9,
          10,
          9,
          9,
          12,
          14,
          10,
          13,
          6,
          9,
          9,
          4,
          9,
          9,
          10,
          9,
          9,
          3,
          9,
          6,
          9,
          9,
          10,
          9,
          9,
          9,
          13,
          11,
          9,
          13,
          13,
          13,
          15,
          14,
          10,
          13,
          11,
          10,
          10,
          9,
          10,
          3,
          9,
          10,
          10,
          9,
          9,
          6,
          6,
          13,
          10,
          13,
          10,
          13,
          16,
          10,
          9,
          9,
          12,
          14,
          9,
          13,
          9,
          13,
          9,
          9,
          9,
          9,
          12,
          13,
          11,
          16,
          7,
          9,
          14,
          13,
          14,
          13,
          7,
          13,
          9,
          6,
          8,
          12,
          10,
          13,
          9,
          9,
          9,
          9,
          10,
          9,
          10,
          10,
          10,
          11,
          9,
          6,
          9,
          7,
          15,
          9,
          10,
          9,
          10,
          11,
          12,
          13,
          9,
          13,
          9,
          9,
          10,
          9,
          12,
          2,
          9,
          13,
          13,
          9,
          10,
          11,
          7,
          13,
          14,
          9,
          9,
          9,
          9,
          9,
          10,
          12,
          8,
          9,
          15,
          10,
          9,
          9,
          10,
          10,
          10,
          9,
          9,
          9,
          10,
          7,
          4,
          14,
          9,
          11,
          10,
          9,
          14,
          13,
          9,
          7,
          16,
          11,
          9,
          10,
          10,
          13,
          10,
          13,
          12,
          11,
          9,
          13,
          13,
          1,
          10,
          16,
          11,
          9,
          9,
          9,
          6,
          9,
          13,
          10,
          10,
          12,
          9,
          13,
          9,
          9,
          10,
          13,
          13,
          10,
          9,
          9,
          10,
          9,
          12,
          6,
          15,
          6,
          11,
          10,
          10,
          9,
          3,
          9,
          15,
          10,
          12,
          4,
          9,
          12,
          11,
          10,
          9,
          9,
          10,
          9,
          9,
          9,
          9,
          6,
          13,
          13,
          7,
          13,
          10,
          9,
          12,
          6,
          4,
          9,
          10,
          4,
          9,
          3,
          9,
          13,
          9,
          7,
          4,
          14,
          9,
          10,
          13,
          9,
          9,
          13,
          10,
          13,
          10,
          9,
          9,
          13,
          10,
          10,
          9,
          9,
          9,
          13,
          13,
          9,
          9,
          13,
          10,
          3,
          8,
          13,
          10,
          9,
          10,
          6,
          10,
          10,
          6,
          11,
          9,
          9,
          4,
          9,
          12,
          10,
          5,
          13,
          13,
          9,
          13,
          6,
          10,
          5,
          9,
          14,
          10,
          11,
          16,
          4,
          10,
          13,
          13,
          10,
          10,
          8,
          9,
          9,
          10,
          9,
          9,
          11,
          10,
          10,
          10,
          9,
          2,
          7,
          9,
          9,
          10,
          9,
          10,
          9,
          5,
          10,
          9,
          3,
          10,
          4,
          13,
          9,
          10,
          9,
          9,
          9,
          9,
          3,
          10,
          10,
          7,
          9,
          10,
          14,
          2,
          14,
          10,
          9,
          10,
          10,
          14,
          4,
          10,
          2,
          7,
          10
         ]
        },
        {
         "legendgroup": "cases",
         "legendgrouptitle": {
          "text": "Cases"
         },
         "marker": {
          "line": {
           "color": "darkgrey",
           "width": 2
          },
          "opacity": 0.4,
          "size": [
           105.48116954157223,
           82.92923290191935,
           185.5063146113081,
           58.84515680524305,
           79.84042158638579,
           141.95974174167182,
           395.4186388593494,
           157.9984413846385,
           103.29849158693848,
           195.81343729529263,
           92.25822970982718,
           74.40212414367328,
           197.9013140906794,
           165.53200740122975,
           111.78964730832581,
           72.9450875329577,
           82.66797372834996,
           175.27434562065255,
           32.55234183004259,
           76.6420010480243,
           69.14998145090652,
           125.59872397171509,
           115.68064632131984,
           85.80398748058057,
           116.02777522666284,
           119.44167757787778,
           108.36787181621841,
           85.19010498869592,
           111.36251849107421,
           67.68080259331674,
           93.62504991312507,
           226.37739179322276,
           90.30132727462997,
           114.56358619701601,
           169.68732678328945,
           113.44311306083164,
           95.16095670974175,
           86.90268016042867,
           120.38202760657076,
           223.23138470979578,
           133.39610982694936,
           126.06144295893752,
           143.82274038506492,
           135.47620512603456,
           179.2166126679088,
           173.8508018724821,
           108.49875985607767,
           191.396670129075,
           145.4571806035859,
           121.20215901294402,
           100.08634902675828,
           124.8731006381558,
           74.87982824735646,
           105.2561960259334,
           78.86901811376708,
           50.02751969659281,
           79.63842885686412,
           176.01188861475396,
           31.915902613767248,
           66.31922858396977,
           72.9239522139332,
           130.53838827240065,
           88.2557975805514,
           104.30020830322073,
           172.83440564661947,
           169.2295668534112,
           122.85350726534713,
           32.80612089163664,
           87.74494195594184,
           295.2538292175263,
           78.29149699336224,
           116.44318955089513,
           131.6476650242945,
           108.82375331424181,
           485.1481810102768,
           130.9772488921307,
           261.7366631231487,
           109.86431943972725,
           108.60414412393894,
           80.32767541641108,
           61.526387095260965,
           95.63290109249057,
           91.90970592454107,
           92.87965898308886,
           76.9648767831584,
           191.71980716579006,
           81.6391243429656,
           70.9761761863208,
           154.68103292812157,
           129.6811789991297,
           74.95190026483539,
           193.92893193986683,
           128.50368137486345,
           166.83246273136356,
           297.43165865626617,
           89.35510519166593,
           119.7332643450261,
           186.52739904740375,
           93.04160928411355,
           128.21602635004513,
           109.75831299742794,
           95.36616698966604,
           141.0492784389068,
           106.67163635981797,
           73.9992898050028,
           179.47492002622815,
           56.750620530335986,
           90.53691766123536,
           109.32450190711559,
           108.1742743815879,
           161.44015570267058,
           87.78393963692687,
           70.13567179616871,
           91.26181586109858,
           180.470360312726,
           67.862365010995,
           83.7884709010248,
           88.32659645877649,
           190.70860111145603,
           96.07966275154709,
           259.10871451686023,
           102.85669059140615,
           107.46619237601458,
           81.37439681185477,
           76.67306176119618,
           52.49337821229749,
           66.84019056493368,
           447.76345943357313,
           93.51394110094755,
           134.21263187064062,
           154.6843223112568,
           68.80258835164204,
           172.5015788620902,
           181.68069009487922,
           87.61905548389478,
           167.58120440042023,
           78.1191635920578,
           85.98544191951213,
           156.8445920877343,
           93.06524500421143,
           68.18197915297992,
           71.61889267780955,
           96.21296685199665,
           126.68988267923731,
           71.36661815116865,
           96.36358356333962,
           59.3930778310997,
           64.4807290286136,
           86.9573014535301,
           145.2549931626868,
           90.89881322625963,
           66.11218605090096,
           84.51989769939696,
           80.62218682107327,
           82.72535485643576,
           77.03463456592661,
           73.89829439813677,
           133.6865386052513,
           73.86012009086798,
           150.37826563231525,
           90.8567682267705,
           65.27630223485531,
           220.96931996203486,
           64.05828052555981,
           61.99733420199239,
           204.70276667432037,
           143.27386882302886,
           120.5259603021425,
           173.51061709458995,
           184.77037716389202,
           30.001087028949303,
           82.64713177065367,
           32.4774133949286,
           245.87264447261356,
           134.05522944383043,
           102.14404095655836,
           66.39291090036296,
           66.31816561189534,
           115.33746337136047,
           34.70616114308062,
           182.05643228073072,
           80.8822989706625,
           99.16228682676041,
           113.57527601925774,
           55.93417526449031,
           80.57148713330659,
           125.20622876567269,
           93.2865056049697,
           174.85068553886086,
           151.30712729521466,
           78.16202037462809,
           153.0342114689486,
           157.2117579083998,
           204.74906429526374,
           118.66206309598387,
           122.97220006862484,
           103.63874909150118,
           158.39303665721988,
           81.83504830952896,
           51.80955301806093,
           191.21580482646345,
           111.43545351139552,
           78.82996576280097,
           39.22982557368292,
           136.24747336021585,
           96.84285698620604,
           177.0371135834845,
           107.45417536378268,
           191.14062543396605,
           123.0441473610219,
           68.06872189386428,
           164.22118872837157,
           85.25976430497602,
           79.30482136666554,
           107.45404912529867,
           111.59540344970439,
           30.931336683245803,
           144.43400756866214,
           66.04004527551936,
           205.2039357357155,
           239.11243051911416,
           214.93775364892682,
           60.819313188078965,
           119.61108102195467,
           105.01320762063672,
           30.696789529282736,
           63.479638942114576,
           120.73610413141787,
           102.60488514120918,
           158.50957732922288,
           84.33985092621583,
           77.01528247801838,
           73.58556771057309,
           97.13875900592974,
           246.93832057236713,
           112.67982700637852,
           44.10133276889066,
           99.19969547927695,
           108.55603740534387,
           132.58667910306679,
           127.02347879953606,
           152.67240261776158,
           57.10703506997145,
           160.74390926370728,
           136.33001246866772,
           78.29753203572734,
           69.51009626617643,
           81.61844736204542,
           106.37133601917704,
           80.11016908977965,
           190.84683868905043,
           136.34564085374237,
           240.48235784992906,
           224.7252938379958,
           109.17331371174996,
           35.10886372693871,
           177.9430945120678,
           115.21765683039001,
           94.10364907327074,
           131.99463249721168,
           100.36676643922266,
           74.30332150145566,
           65.13731483772335,
           76.82348538279984,
           81.47544056706529,
           172.76463549082135,
           71.08147440499464,
           79.80510271038504,
           240.0057602833477,
           105.37303137790943,
           104.85472225303837,
           78.89005811035884,
           146.089078426413,
           169.88382242979503,
           160.68885055992234,
           182.12657833975575,
           71.12788566455376,
           77.16436966125625,
           107.76599893873382,
           71.71795906875575,
           167.98513672608553,
           107.60224918590781,
           86.93921055571363,
           55.849796942376486,
           196.16481007553003,
           198.84353709547662,
           108.10075219683392,
           191.14795719641234,
           119.22362757218644,
           109.0945590253785,
           91.69197036059059,
           258.0290993974479,
           112.82757715428048,
           103.68428977793934,
           105.29370762988873,
           110.33334514694187,
           109.63626912866667,
           64.78559161347533,
           161.87144225213814,
           82.64194061849261,
           32.58541960296695,
           98.45122934619809,
           178.32886891695145,
           107.99868664030674,
           77.4853486533769,
           41.376397884109664,
           30.79030973611451,
           178.27539944877248,
           121.73120508443915,
           95.43096995493764,
           110.76752490566352,
           158.56811372434046,
           148.45326351471545,
           160.68954209263612,
           76.32348617664465,
           63.9631490755178,
           79.8886401237684,
           106.63404743600591,
           120.35403563526901,
           80.17248513398741,
           192.95065949803148,
           80.60822064602392,
           103.86148360414124,
           173.51376620175515,
           95.71711525585488,
           143.15841134036287,
           92.37278428543085,
           47.85573449201405,
           113.0051627185784,
           84.14767821323186,
           76.40068396516303,
           185.29673469067967,
           163.58941965196837,
           154.31727439717503,
           105.24917280856496,
           63.20108436938016,
           32.844075722107505,
           75.98839776259051,
           79.10316171989821,
           59.25818895858859,
           104.55975039999628,
           77.65211357085991,
           164.8319482377175,
           80.44958821737578,
           174.8491322901285,
           124.77941580548193,
           194.72350241290786,
           67.95145532544137,
           93.30191548158237,
           167.72196081117332,
           61.15575115867419,
           100.76455976314998,
           39.06203525930636,
           414.79813873688653,
           75.50587773762834,
           76.54263367539818,
           294.23655918387504,
           138.35940094077634,
           83.69477369962613,
           125.40030894431888,
           72.83046809465397,
           91.59123670269179,
           189.08617530312276,
           126.67273527556974,
           119.36976565769554,
           430.70293259436085,
           104.42915380171364,
           85.72216483695546,
           87.12770414299676,
           117.69816924934072,
           127.05050819057591,
           133.98958047663098,
           105.18794076218587,
           82.9249088444665,
           109.22653730500294,
           244.5409685859402,
           103.20869050208825,
           61.025709800272935,
           69.95881952514624,
           127.55662841289458,
           215.48991318405658,
           87.64564763077844,
           62.66229817236061,
           116.94995073933814,
           87.14994906630656,
           99.54940508128206,
           142.26935002811,
           136.5696312464088,
           148.31424563684612,
           77.34109164185725,
           95.2636002140881,
           104.48747158414176,
           186.55329537806506,
           77.17197181107967,
           96.02938171583116,
           100.65005372654608,
           283.7123588733864,
           106.85191242962982,
           112.14727985579657,
           84.32590814891117,
           156.97221194289372,
           109.78919278402967,
           520.5824432616399,
           65.12250695328223,
           54.969838258374736,
           135.57698277001018,
           137.70433996212833,
           79.52536262494316,
           221.9742900399272,
           133.24895438175972,
           148.27591680518688,
           92.04457091028534,
           90.75652899006461,
           100.61059271920352,
           262.70331028576794,
           124.023782668501,
           115.205988687128,
           91.19753050333192,
           107.09380904280135,
           146.2955475766717,
           40.665040410221515,
           102.49500874135839,
           72.3308144266878,
           206.47602919192366,
           139.46878284001335,
           89.33365206839817,
           153.18820923167402,
           62.15554048334132,
           76.36242696701602,
           94.68080599095921,
           115.91408834510247,
           130.77552952243667,
           129.3129562832493,
           127.125336124731,
           82.49061812899053,
           91.58050644993506,
           84.29903876688786,
           90.97996812456512,
           173.06013406464652,
           210.63416132453983,
           62.14145841275634,
           124.71748435910625,
           117.81754019448208,
           108.97461287731099,
           85.96842240035407,
           133.7555876007342,
           152.3589925957495,
           63.56471935729854,
           132.0058596557834,
           115.6944105898382,
           77.6300192025141,
           83.66355092429156,
           109.6845570016966,
           66.02573655334527,
           115.95393918372044,
           68.6818511136635,
           198.00791888546135,
           121.09289955668186,
           205.95581079365354,
           105.56475085155881,
           96.28350797194823,
           82.25225307557143,
           232.50794613712188,
           101.88748825870059,
           225.3836009901932,
           114.67691162175936,
           115.67623145369012,
           101.19628016801875,
           401.9027954920949,
           128.04776317268684,
           124.10720446210829,
           99.57507846819743,
           87.12759358542286,
           120.2927234416408,
           232.30357361916808,
           350.329237258458,
           80.2642015721674,
           125.53356248262234,
           69.94715751868794,
           176.82640647617225,
           87.16013616773527,
           217.47115216383477,
           132.1041490466729,
           111.84172248258767,
           104.7514450650136,
           390.40713625463366,
           94.17698490483161,
           60.565217963730575,
           146.0968196038091,
           109.09432575269044,
           156.5702238762965,
           96.3663104783748,
           394.3016315628774,
           114.227444989505,
           102.60231114891688,
           56.48706327946656,
           105.6107819130397,
           212.05493667148542,
           93.04404479917291,
           128.3417480947554,
           199.1690351846581,
           75.17921787235615,
           107.71693708370513,
           30.975486520249916,
           106.62174207134726,
           86.77978311661712,
           115.92294167773007,
           50.556548485145925,
           32.493872322284965,
           202.1869650771886,
           71.66991621471406,
           74.85649001830899,
           160.1424809347616,
           134.8392167695642,
           103.52570769052632,
           109.16730309371961,
           73.38901451882754,
           149.84880493196263,
           63.95041058370972,
           227.47785910959246,
           230.7128634822175,
           68.04196389118576,
           169.2883264060176,
           169.4304217572222,
           61.76153068470168,
           60.362993934357426,
           134.37930984066705,
           157.90365060447337,
           219.6905927392825,
           62.126274086509945,
           108.73712521619032,
           25.582443261639977,
           91.60547359587947,
           91.18661582383537,
           245.08145377475827,
           57.27343157045791,
           102.05139251949133,
           69.81977984855435,
           121.67853879641777,
           119.72583389890441,
           162.34507447677626,
           192.5134234166698,
           188.5443167599217,
           63.05401741129007,
           135.9408264895853,
           121.72466729548131,
           102.8531443430522,
           86.73912372626506,
           108.46983536756387,
           160.549015487689,
           140.25141775355783,
           90.27170800372173,
           94.92213099828464,
           71.5623150126957,
           96.64140442291912,
           125.66843908418598,
           176.62536569475867,
           114.88019274012736,
           73.11948631113043,
           94.1299417630417,
           140.10108417285983,
           134.26863280869694,
           172.18153433246255,
           146.32499391758105,
           93.26418430744769,
           234.53186280561835,
           70.74243794389993,
           65.46025223067346,
           266.721965599248,
           58.56614280604912,
           85.06167880620467,
           54.802234292212354,
           170.05091591687636,
           91.7836565289275,
           59.275159995287915,
           84.22400183514446,
           134.86503703008816,
           112.79204542052351,
           87.12349191445412,
           111.1651479604607,
           220.21372028918432,
           97.1286717762743,
           87.65265051723021,
           201.35125501122533,
           93.53615616624167,
           229.56780985916188,
           75.26870702581566,
           84.72432569493056,
           75.71948621007884,
           67.51432430849175,
           104.34399154000602,
           82.8321039737776,
           79.62017944816671,
           60.723470550441746,
           86.72949100283476,
           117.41695000432041,
           94.57999979633894,
           73.50195894275487,
           43.028616373812206,
           160.30163009731316,
           188.5044788812147,
           57.80869517271126,
           146.46254046613078,
           175.64409016719287,
           75.00537248469567,
           71.76804218207388,
           97.30239838458616,
           245.01478217056493,
           32.24353625293389,
           96.6106731411009,
           60.72439283694731,
           76.10737190316144,
           56.37399599266207,
           79.08300591133423,
           132.37541265732654,
           90.27497500592527,
           107.35679694670718,
           183.22731235261372,
           79.7492508878767,
           137.36300685652654,
           83.59253334747152,
           134.91390593290544,
           77.3146779445114,
           57.71334533304573,
           97.33832508370533,
           76.33074515178768,
           172.4550046460256,
           153.1259168935818,
           79.93235396979013,
           179.64059259092338,
           126.30663959447773,
           162.86245052081821,
           74.0232505989472,
           126.23399678878218,
           86.57194262417308,
           84.4255198837221,
           156.19041843226302,
           97.00912592415077,
           100.89388292708463,
           217.90987007936567,
           116.07472266923581,
           173.33699954733112,
           94.96000446004824,
           103.79446331281066,
           98.06092455091587,
           65.32581502720994,
           131.09560650537173,
           81.29550964102447,
           80.98235093635166,
           60.03956756745274,
           106.02698418365628,
           107.91002984075233,
           83.29396430802589,
           144.53315440799219,
           105.49501996671175,
           100.86450918144689,
           93.89918821176799,
           174.3064881421956,
           43.24432741721512,
           107.94074410072976,
           100.72927733038755,
           199.23590590463155,
           72.20716463388037,
           95.97682165515849,
           80.99259407768508,
           102.52310818850897,
           186.95119183061664,
           167.09906103611291,
           34.09379812637975,
           117.09093829830044,
           125.04034253901227,
           167.95029467507686,
           32.72887087421244,
           66.65592579173276,
           90.33509115836424,
           120.78265951915095,
           117.27051906140564,
           62.41112947700597,
           153.13647945945584,
           123.44405334718275,
           103.89001520398935,
           131.27952956383075,
           167.44632443861389,
           248.15338057901064,
           104.94747409424589,
           103.93737096646707,
           121.16837263687157,
           55.027290497210686,
           97.10046590729202,
           114.4491607246105,
           89.33029317560616,
           102.09979043537525,
           42.43922237574346,
           227.9575419209075,
           132.16114096756235,
           114.04895871152695,
           74.79274473652526,
           264.23777425864836,
           91.05182804003086,
           88.62718923366917,
           109.14247562970267,
           75.95454996709768,
           81.82730780803861,
           131.36319167188046,
           69.01632036465212,
           105.1945423677519,
           228.82921810749883,
           104.29173982208295,
           176.44110099767545,
           87.98172275389004,
           72.68954978714982,
           66.68349032452295,
           234.6188676717097,
           184.61799573398724,
           91.14346786304588,
           104.83202529054034,
           315.8375688555874,
           157.7205606547612,
           167.17682552739322,
           70.12252371150015,
           51.634356964239515,
           140.8607795956589,
           58.27635237756756,
           96.7039861570558,
           89.05693687942944,
           116.28024927994758,
           81.12345092706425,
           68.36714035340384,
           177.52266544431072,
           118.19657495626407,
           102.32067746588244,
           116.34523277867773,
           32.723691016916426,
           84.5298138683579,
           54.63613980530555,
           89.4015751655451,
           103.00701100856271,
           61.462451230278035,
           186.48503108400965,
           63.360140876420225,
           123.60672994250542,
           139.21040067255743,
           109.06736911095555,
           129.60232099658197,
           107.10799307488668,
           47.527538367187205,
           75.8533805431424,
           148.21662428811578,
           90.11783241072379,
           200.23107562564772,
           135.77626634593798,
           153.75869338283525,
           143.1784580280824,
           196.7648413407806,
           162.6382105620156,
           206.26491016896884,
           104.87209368333585,
           111.31253707479894,
           157.10956579717396,
           95.68829524576088,
           202.22567791590336,
           125.94043502421701,
           166.59169929599847,
           138.46258865552855,
           179.39880456049676,
           30.525580675405088,
           63.652266366162834,
           104.36347828315706,
           270.44823554032837,
           138.35277843012764,
           114.75689918828189,
           87.17039036868304,
           74.48738644458172,
           67.0839022735672,
           126.55092969460296,
           169.90297398771995,
           66.35939546500978,
           101.94347930377147,
           169.83620492325022,
           46.69925252244521,
           84.43146741914236,
           31.12429251852223,
           103.16108444512032,
           237.89825348142264,
           197.13923354029185,
           75.03513068156396,
           60.1473008655395,
           72.80930911447072,
           150.51510044305203,
           58.76627810064725,
           126.85112747537625,
           376.43342503683846,
           203.72481219882164,
           95.23718239640999,
           67.3840326003957,
           103.89583647565222,
           71.32389319094456,
           207.59317212652584,
           90.86966741305042,
           145.60406493059293,
           204.20727880957986,
           79.96781539778934,
           68.39388962106409,
           55.3036310068838,
           108.17856842096482,
           60.273858847723716,
           56.8819906482729,
           157.30655202365435,
           83.19870239980997,
           240.72642216408772,
           83.24519895229582,
           161.89128091587432,
           97.63655313807972,
           195.96039274979404,
           60.9777470140735,
           103.69641546805619,
           123.0474442714127,
           181.5315341217172,
           93.48964121722521,
           222.00934574417428,
           126.87411054124674,
           138.9899455379504,
           125.95617007498592,
           143.11673803920343,
           81.30308935164618,
           111.06194810656733,
           210.97808974739618,
           217.5172137382935,
           234.64101133536633,
           64.14412789462136,
           104.4492773926447,
           104.02188163816228,
           117.58827331816303,
           62.775446040609815,
           97.5872040068039,
           162.35343821786844,
           213.64474215510893,
           178.12968989252184,
           60.56734521193539,
           148.72227758339943,
           89.63663461685515,
           73.56810371656924,
           82.3014510764638,
           47.69588559858686,
           247.12536232546964,
           105.85808492771258,
           61.66942300039297,
           133.12793753388524,
           93.42814558020476,
           168.24881779516522,
           231.70346456465842,
           55.55798183149555,
           173.4329085491994,
           83.6429963109873,
           78.50523428126452,
           201.31530056101212,
           79.21504669440243,
           141.47398249922574,
           130.31453106382253,
           111.32327784462818,
           177.2309308804465,
           95.79815925172973,
           147.5382876318049,
           61.651364728494386,
           31.8836812547867,
           169.16528405575983,
           113.30944049665023,
           236.18462074249229,
           214.87065340086414,
           87.31652510675174,
           170.8159591221772,
           60.32843903583289,
           32.292747410875805,
           73.73640728033892,
           63.24692859732301,
           32.926135666626706,
           91.50309804947211,
           102.80646713061701,
           96.75240389424962,
           39.16873775649642,
           100.34670473166335,
           68.54727221789216,
           94.14995356950186,
           93.14114832968473,
           30.32809222775195,
           88.98568742666106,
           130.437654773237,
           110.49798945742239,
           151.65180603596906,
           200.13723037902807,
           110.43730565643723,
           70.91882286229121,
           231.96143863654888,
           76.47963586184457,
           110.38684835342454,
           115.3623970679642,
           221.54230873267747,
           101.84429030500522,
           115.05902749819236,
           114.06947006398634,
           187.41438763845176,
           100.83791478348815,
           49.11404758145829,
           104.492940085197,
           87.49639126701459,
           119.06058554069764,
           107.38852793214537,
           101.27516937832023,
           109.72656976371486,
           76.58873597419546,
           83.50864957977562,
           167.83328448528798,
           121.10159623624726,
           169.17004861880014,
           92.60764271579991,
           81.10383493291467,
           239.4512928714931,
           88.28276846919239,
           104.01403722947005,
           168.11210910891182,
           98.71837549227116,
           240.8763840628133,
           65.52813360635346,
           92.66048427860412,
           111.17398622734329,
           115.7054223153679,
           86.23056864722017,
           68.85187867107005,
           92.80216688439137,
           70.31601255621399,
           70.81848460387296,
           47.326882161143054,
           62.371223646647394,
           178.9974036220215,
           102.82120696641563,
           313.0539072495626,
           95.48810122562764,
           83.9283889374755,
           123.39662425197851,
           105.62617018205225,
           89.14896737045187,
           88.96827562097609,
           129.86166532209376,
           116.55768046529886,
           74.69945072124835,
           93.16661768227947,
           99.0320841355955,
           203.28129704260638,
           108.35958351257452,
           137.80752686217485,
           60.17331502284531,
           154.83754968401627,
           104.57145163327343,
           110.80238726347494,
           74.13638975146804,
           183.00148297332086,
           162.54357647373988,
           72.16528799140482,
           32.182154729329675,
           93.03531090066689,
           113.21017230371567,
           59.55207317670005,
           159.86142126571397,
           70.87587759461138,
           129.53599159450567,
           184.3130146258043,
           62.21216341784544,
           61.16894036852934,
           92.49848537954523,
           102.03470069082529,
           96.77687946365239,
           184.88879144981465,
           101.59578555763932,
           122.57521622520905,
           43.02404393384568,
           113.57689369132346,
           114.04516325300264,
           133.5075064526454,
           145.38402511889416,
           250.82795706830873,
           99.2612928996827,
           97.12939798721744,
           229.52633567654615,
           69.61249267673418,
           83.75326101314464,
           118.62531662976862,
           92.49913780166588,
           55.61697712121547,
           70.49859616457141,
           118.96858748136992,
           69.32610959504821,
           157.32444612648567,
           217.71702456005306,
           91.56739074408516,
           63.992357840882896,
           82.59865282753994,
           70.2074971407627,
           101.19717846582365,
           222.3189710995831,
           165.97217740407586
          ],
          "sizemin": 7.5,
          "sizemode": "area"
         },
         "mode": "markers",
         "name": "1",
         "type": "scattergl",
         "x": [
          35,
          25,
          39,
          34,
          54,
          43,
          42,
          60,
          35,
          35,
          54,
          49,
          31,
          54,
          47,
          32,
          29,
          37,
          47,
          54,
          68,
          70,
          26,
          46,
          50,
          54,
          39,
          70,
          41,
          30,
          26,
          25,
          60,
          36,
          68,
          46,
          61,
          28,
          41,
          59,
          44,
          44,
          51,
          40,
          30,
          39,
          48,
          40,
          37,
          40,
          32,
          60,
          34,
          34,
          49,
          62,
          29,
          32,
          36,
          24,
          23,
          40,
          28,
          40,
          33,
          51,
          37,
          53,
          32,
          47,
          48,
          31,
          33,
          66,
          24,
          54,
          31,
          36,
          31,
          43,
          52,
          47,
          34,
          28,
          26,
          33,
          74,
          53,
          24,
          38,
          38,
          39,
          33,
          46,
          42,
          27,
          54,
          26,
          31,
          41,
          34,
          47,
          50,
          39,
          49,
          35,
          32,
          38,
          50,
          60,
          25,
          42,
          35,
          41,
          35,
          46,
          48,
          54,
          37,
          45,
          51,
          44,
          57,
          27,
          49,
          26,
          50,
          62,
          44,
          63,
          49,
          28,
          34,
          54,
          38,
          39,
          40,
          52
         ],
         "y": [
          11,
          5,
          12,
          9,
          10,
          13,
          13,
          9,
          9,
          11,
          9,
          9,
          9,
          10,
          13,
          11,
          13,
          11,
          10,
          14,
          9,
          10,
          10,
          13,
          9,
          14,
          9,
          14,
          4,
          13,
          13,
          14,
          9,
          10,
          13,
          11,
          9,
          13,
          8,
          10,
          10,
          10,
          9,
          15,
          13,
          9,
          13,
          13,
          13,
          9,
          10,
          9,
          10,
          13,
          14,
          9,
          5,
          9,
          9,
          10,
          10,
          13,
          7,
          9,
          10,
          13,
          10,
          9,
          13,
          10,
          9,
          13,
          9,
          12,
          10,
          4,
          9,
          14,
          14,
          10,
          10,
          12,
          10,
          13,
          9,
          10,
          10,
          14,
          10,
          10,
          10,
          13,
          13,
          15,
          10,
          10,
          10,
          10,
          13,
          9,
          13,
          10,
          13,
          10,
          9,
          14,
          11,
          10,
          16,
          12,
          10,
          9,
          10,
          13,
          10,
          13,
          13,
          10,
          9,
          9,
          14,
          11,
          13,
          11,
          9,
          13,
          9,
          13,
          10,
          13,
          12,
          12,
          9,
          10,
          13,
          13,
          10,
          9
         ]
        }
       ],
       "layout": {
        "annotations": [
         {
          "font": {
           "size": 16
          },
          "showarrow": false,
          "text": "age",
          "x": 0.5,
          "xanchor": "center",
          "xref": "paper",
          "y": 0,
          "yanchor": "top",
          "yref": "paper",
          "yshift": -30
         },
         {
          "font": {
           "size": 16
          },
          "showarrow": false,
          "text": "education-num",
          "textangle": -90,
          "x": 0,
          "xanchor": "right",
          "xref": "paper",
          "xshift": -40,
          "y": 0.5,
          "yanchor": "middle",
          "yref": "paper"
         }
        ],
        "height": 800,
        "legend": {
         "groupclick": "toggleitem"
        },
        "template": {
         "data": {
          "bar": [
           {
            "error_x": {
             "color": "#2a3f5f"
            },
            "error_y": {
             "color": "#2a3f5f"
            },
            "marker": {
             "line": {
              "color": "#E5ECF6",
              "width": 0.5
             },
             "pattern": {
              "fillmode": "overlay",
              "size": 10,
              "solidity": 0.2
             }
            },
            "type": "bar"
           }
          ],
          "barpolar": [
           {
            "marker": {
             "line": {
              "color": "#E5ECF6",
              "width": 0.5
             },
             "pattern": {
              "fillmode": "overlay",
              "size": 10,
              "solidity": 0.2
             }
            },
            "type": "barpolar"
           }
          ],
          "carpet": [
           {
            "aaxis": {
             "endlinecolor": "#2a3f5f",
             "gridcolor": "white",
             "linecolor": "white",
             "minorgridcolor": "white",
             "startlinecolor": "#2a3f5f"
            },
            "baxis": {
             "endlinecolor": "#2a3f5f",
             "gridcolor": "white",
             "linecolor": "white",
             "minorgridcolor": "white",
             "startlinecolor": "#2a3f5f"
            },
            "type": "carpet"
           }
          ],
          "choropleth": [
           {
            "colorbar": {
             "outlinewidth": 0,
             "ticks": ""
            },
            "type": "choropleth"
           }
          ],
          "contour": [
           {
            "colorbar": {
             "outlinewidth": 0,
             "ticks": ""
            },
            "colorscale": [
             [
              0,
              "#0d0887"
             ],
             [
              0.1111111111111111,
              "#46039f"
             ],
             [
              0.2222222222222222,
              "#7201a8"
             ],
             [
              0.3333333333333333,
              "#9c179e"
             ],
             [
              0.4444444444444444,
              "#bd3786"
             ],
             [
              0.5555555555555556,
              "#d8576b"
             ],
             [
              0.6666666666666666,
              "#ed7953"
             ],
             [
              0.7777777777777778,
              "#fb9f3a"
             ],
             [
              0.8888888888888888,
              "#fdca26"
             ],
             [
              1,
              "#f0f921"
             ]
            ],
            "type": "contour"
           }
          ],
          "contourcarpet": [
           {
            "colorbar": {
             "outlinewidth": 0,
             "ticks": ""
            },
            "type": "contourcarpet"
           }
          ],
          "heatmap": [
           {
            "colorbar": {
             "outlinewidth": 0,
             "ticks": ""
            },
            "colorscale": [
             [
              0,
              "#0d0887"
             ],
             [
              0.1111111111111111,
              "#46039f"
             ],
             [
              0.2222222222222222,
              "#7201a8"
             ],
             [
              0.3333333333333333,
              "#9c179e"
             ],
             [
              0.4444444444444444,
              "#bd3786"
             ],
             [
              0.5555555555555556,
              "#d8576b"
             ],
             [
              0.6666666666666666,
              "#ed7953"
             ],
             [
              0.7777777777777778,
              "#fb9f3a"
             ],
             [
              0.8888888888888888,
              "#fdca26"
             ],
             [
              1,
              "#f0f921"
             ]
            ],
            "type": "heatmap"
           }
          ],
          "heatmapgl": [
           {
            "colorbar": {
             "outlinewidth": 0,
             "ticks": ""
            },
            "colorscale": [
             [
              0,
              "#0d0887"
             ],
             [
              0.1111111111111111,
              "#46039f"
             ],
             [
              0.2222222222222222,
              "#7201a8"
             ],
             [
              0.3333333333333333,
              "#9c179e"
             ],
             [
              0.4444444444444444,
              "#bd3786"
             ],
             [
              0.5555555555555556,
              "#d8576b"
             ],
             [
              0.6666666666666666,
              "#ed7953"
             ],
             [
              0.7777777777777778,
              "#fb9f3a"
             ],
             [
              0.8888888888888888,
              "#fdca26"
             ],
             [
              1,
              "#f0f921"
             ]
            ],
            "type": "heatmapgl"
           }
          ],
          "histogram": [
           {
            "marker": {
             "pattern": {
              "fillmode": "overlay",
              "size": 10,
              "solidity": 0.2
             }
            },
            "type": "histogram"
           }
          ],
          "histogram2d": [
           {
            "colorbar": {
             "outlinewidth": 0,
             "ticks": ""
            },
            "colorscale": [
             [
              0,
              "#0d0887"
             ],
             [
              0.1111111111111111,
              "#46039f"
             ],
             [
              0.2222222222222222,
              "#7201a8"
             ],
             [
              0.3333333333333333,
              "#9c179e"
             ],
             [
              0.4444444444444444,
              "#bd3786"
             ],
             [
              0.5555555555555556,
              "#d8576b"
             ],
             [
              0.6666666666666666,
              "#ed7953"
             ],
             [
              0.7777777777777778,
              "#fb9f3a"
             ],
             [
              0.8888888888888888,
              "#fdca26"
             ],
             [
              1,
              "#f0f921"
             ]
            ],
            "type": "histogram2d"
           }
          ],
          "histogram2dcontour": [
           {
            "colorbar": {
             "outlinewidth": 0,
             "ticks": ""
            },
            "colorscale": [
             [
              0,
              "#0d0887"
             ],
             [
              0.1111111111111111,
              "#46039f"
             ],
             [
              0.2222222222222222,
              "#7201a8"
             ],
             [
              0.3333333333333333,
              "#9c179e"
             ],
             [
              0.4444444444444444,
              "#bd3786"
             ],
             [
              0.5555555555555556,
              "#d8576b"
             ],
             [
              0.6666666666666666,
              "#ed7953"
             ],
             [
              0.7777777777777778,
              "#fb9f3a"
             ],
             [
              0.8888888888888888,
              "#fdca26"
             ],
             [
              1,
              "#f0f921"
             ]
            ],
            "type": "histogram2dcontour"
           }
          ],
          "mesh3d": [
           {
            "colorbar": {
             "outlinewidth": 0,
             "ticks": ""
            },
            "type": "mesh3d"
           }
          ],
          "parcoords": [
           {
            "line": {
             "colorbar": {
              "outlinewidth": 0,
              "ticks": ""
             }
            },
            "type": "parcoords"
           }
          ],
          "pie": [
           {
            "automargin": true,
            "type": "pie"
           }
          ],
          "scatter": [
           {
            "fillpattern": {
             "fillmode": "overlay",
             "size": 10,
             "solidity": 0.2
            },
            "type": "scatter"
           }
          ],
          "scatter3d": [
           {
            "line": {
             "colorbar": {
              "outlinewidth": 0,
              "ticks": ""
             }
            },
            "marker": {
             "colorbar": {
              "outlinewidth": 0,
              "ticks": ""
             }
            },
            "type": "scatter3d"
           }
          ],
          "scattercarpet": [
           {
            "marker": {
             "colorbar": {
              "outlinewidth": 0,
              "ticks": ""
             }
            },
            "type": "scattercarpet"
           }
          ],
          "scattergeo": [
           {
            "marker": {
             "colorbar": {
              "outlinewidth": 0,
              "ticks": ""
             }
            },
            "type": "scattergeo"
           }
          ],
          "scattergl": [
           {
            "marker": {
             "colorbar": {
              "outlinewidth": 0,
              "ticks": ""
             }
            },
            "type": "scattergl"
           }
          ],
          "scattermapbox": [
           {
            "marker": {
             "colorbar": {
              "outlinewidth": 0,
              "ticks": ""
             }
            },
            "type": "scattermapbox"
           }
          ],
          "scatterpolar": [
           {
            "marker": {
             "colorbar": {
              "outlinewidth": 0,
              "ticks": ""
             }
            },
            "type": "scatterpolar"
           }
          ],
          "scatterpolargl": [
           {
            "marker": {
             "colorbar": {
              "outlinewidth": 0,
              "ticks": ""
             }
            },
            "type": "scatterpolargl"
           }
          ],
          "scatterternary": [
           {
            "marker": {
             "colorbar": {
              "outlinewidth": 0,
              "ticks": ""
             }
            },
            "type": "scatterternary"
           }
          ],
          "surface": [
           {
            "colorbar": {
             "outlinewidth": 0,
             "ticks": ""
            },
            "colorscale": [
             [
              0,
              "#0d0887"
             ],
             [
              0.1111111111111111,
              "#46039f"
             ],
             [
              0.2222222222222222,
              "#7201a8"
             ],
             [
              0.3333333333333333,
              "#9c179e"
             ],
             [
              0.4444444444444444,
              "#bd3786"
             ],
             [
              0.5555555555555556,
              "#d8576b"
             ],
             [
              0.6666666666666666,
              "#ed7953"
             ],
             [
              0.7777777777777778,
              "#fb9f3a"
             ],
             [
              0.8888888888888888,
              "#fdca26"
             ],
             [
              1,
              "#f0f921"
             ]
            ],
            "type": "surface"
           }
          ],
          "table": [
           {
            "cells": {
             "fill": {
              "color": "#EBF0F8"
             },
             "line": {
              "color": "white"
             }
            },
            "header": {
             "fill": {
              "color": "#C8D4E3"
             },
             "line": {
              "color": "white"
             }
            },
            "type": "table"
           }
          ]
         },
         "layout": {
          "annotationdefaults": {
           "arrowcolor": "#2a3f5f",
           "arrowhead": 0,
           "arrowwidth": 1
          },
          "autotypenumbers": "strict",
          "coloraxis": {
           "colorbar": {
            "outlinewidth": 0,
            "ticks": ""
           }
          },
          "colorscale": {
           "diverging": [
            [
             0,
             "#8e0152"
            ],
            [
             0.1,
             "#c51b7d"
            ],
            [
             0.2,
             "#de77ae"
            ],
            [
             0.3,
             "#f1b6da"
            ],
            [
             0.4,
             "#fde0ef"
            ],
            [
             0.5,
             "#f7f7f7"
            ],
            [
             0.6,
             "#e6f5d0"
            ],
            [
             0.7,
             "#b8e186"
            ],
            [
             0.8,
             "#7fbc41"
            ],
            [
             0.9,
             "#4d9221"
            ],
            [
             1,
             "#276419"
            ]
           ],
           "sequential": [
            [
             0,
             "#0d0887"
            ],
            [
             0.1111111111111111,
             "#46039f"
            ],
            [
             0.2222222222222222,
             "#7201a8"
            ],
            [
             0.3333333333333333,
             "#9c179e"
            ],
            [
             0.4444444444444444,
             "#bd3786"
            ],
            [
             0.5555555555555556,
             "#d8576b"
            ],
            [
             0.6666666666666666,
             "#ed7953"
            ],
            [
             0.7777777777777778,
             "#fb9f3a"
            ],
            [
             0.8888888888888888,
             "#fdca26"
            ],
            [
             1,
             "#f0f921"
            ]
           ],
           "sequentialminus": [
            [
             0,
             "#0d0887"
            ],
            [
             0.1111111111111111,
             "#46039f"
            ],
            [
             0.2222222222222222,
             "#7201a8"
            ],
            [
             0.3333333333333333,
             "#9c179e"
            ],
            [
             0.4444444444444444,
             "#bd3786"
            ],
            [
             0.5555555555555556,
             "#d8576b"
            ],
            [
             0.6666666666666666,
             "#ed7953"
            ],
            [
             0.7777777777777778,
             "#fb9f3a"
            ],
            [
             0.8888888888888888,
             "#fdca26"
            ],
            [
             1,
             "#f0f921"
            ]
           ]
          },
          "colorway": [
           "#636efa",
           "#EF553B",
           "#00cc96",
           "#ab63fa",
           "#FFA15A",
           "#19d3f3",
           "#FF6692",
           "#B6E880",
           "#FF97FF",
           "#FECB52"
          ],
          "font": {
           "color": "#2a3f5f"
          },
          "geo": {
           "bgcolor": "white",
           "lakecolor": "white",
           "landcolor": "#E5ECF6",
           "showlakes": true,
           "showland": true,
           "subunitcolor": "white"
          },
          "hoverlabel": {
           "align": "left"
          },
          "hovermode": "closest",
          "mapbox": {
           "style": "light"
          },
          "paper_bgcolor": "white",
          "plot_bgcolor": "#E5ECF6",
          "polar": {
           "angularaxis": {
            "gridcolor": "white",
            "linecolor": "white",
            "ticks": ""
           },
           "bgcolor": "#E5ECF6",
           "radialaxis": {
            "gridcolor": "white",
            "linecolor": "white",
            "ticks": ""
           }
          },
          "scene": {
           "xaxis": {
            "backgroundcolor": "#E5ECF6",
            "gridcolor": "white",
            "gridwidth": 2,
            "linecolor": "white",
            "showbackground": true,
            "ticks": "",
            "zerolinecolor": "white"
           },
           "yaxis": {
            "backgroundcolor": "#E5ECF6",
            "gridcolor": "white",
            "gridwidth": 2,
            "linecolor": "white",
            "showbackground": true,
            "ticks": "",
            "zerolinecolor": "white"
           },
           "zaxis": {
            "backgroundcolor": "#E5ECF6",
            "gridcolor": "white",
            "gridwidth": 2,
            "linecolor": "white",
            "showbackground": true,
            "ticks": "",
            "zerolinecolor": "white"
           }
          },
          "shapedefaults": {
           "line": {
            "color": "#2a3f5f"
           }
          },
          "ternary": {
           "aaxis": {
            "gridcolor": "white",
            "linecolor": "white",
            "ticks": ""
           },
           "baxis": {
            "gridcolor": "white",
            "linecolor": "white",
            "ticks": ""
           },
           "bgcolor": "#E5ECF6",
           "caxis": {
            "gridcolor": "white",
            "linecolor": "white",
            "ticks": ""
           }
          },
          "title": {
           "x": 0.05
          },
          "xaxis": {
           "automargin": true,
           "gridcolor": "white",
           "linecolor": "white",
           "ticks": "",
           "title": {
            "standoff": 15
           },
           "zerolinecolor": "white",
           "zerolinewidth": 2
          },
          "yaxis": {
           "automargin": true,
           "gridcolor": "white",
           "linecolor": "white",
           "ticks": "",
           "title": {
            "standoff": 15
           },
           "zerolinecolor": "white",
           "zerolinewidth": 2
          }
         }
        },
        "xaxis": {
         "anchor": "y",
         "domain": [
          0,
          1
         ]
        },
        "yaxis": {
         "anchor": "x",
         "domain": [
          0,
          1
         ]
        }
       }
      }
     },
     "metadata": {},
     "output_type": "display_data"
    }
   ],
   "source": [
    "plot_dataset(partial_train_df, x=\"age\", y=\"education-num\", size=\"density\", hue=\"low_residual_conviction\", alpha=0.4)"
   ]
  },
  {
   "attachments": {},
   "cell_type": "markdown",
   "id": "1d88140c-5ff6-4128-bf24-88f833042e87",
   "metadata": {},
   "source": [
    "The above graph is a visualization of the data set in 2-dimensions, with the color as an indication of residual conviction and the size representing the density of the data. More specifically, the orange color represents the low conviction points (points which are very uncertain), and small size represents low density. Therefore, adding more data to the region with small, orange points can improve model performance. \n",
    "\n",
    "\n",
    "On the other hand, an orange point that is large would be an indication that this case lies in an dense region but was not predictable. Hence, this will be an indication where the problem is not well defined, or the data is missing key features.  \n"
   ]
  }
 ],
 "metadata": {
  "kernelspec": {
   "display_name": "Python 3 (ipykernel)",
   "language": "python",
   "name": "python3"
  },
  "language_info": {
   "codemirror_mode": {
    "name": "ipython",
    "version": 3
   },
   "file_extension": ".py",
   "mimetype": "text/x-python",
   "name": "python",
   "nbconvert_exporter": "python",
   "pygments_lexer": "ipython3",
   "version": "3.8.17"
  },
  "vscode": {
   "interpreter": {
    "hash": "eda761bfb12a75d260c02aadb74c887b69ce57625ad8fbf13f03f9409be493a0"
   }
  }
 },
 "nbformat": 4,
 "nbformat_minor": 5
}
