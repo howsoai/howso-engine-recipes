{
 "cells": [
  {
   "attachments": {},
   "cell_type": "markdown",
   "id": "71cfb4a3-5673-47a8-afa2-b20607105c38",
   "metadata": {
    "tags": []
   },
   "source": [
    "# Overview\n",
    "\n",
    "At a very high level, Howso Engine is about: \n",
    "\n",
    "- Making an accurate prediction (even with limited or sparse data!) \n",
    "\n",
    "- Explaining the prediction process \n",
    "\n",
    "- Showing key properties of the data \n",
    "\n",
    "In this notebook, we will be using the adult data set as an example to demonstrate some of Howso Engine’s capabilities, including cases and features which contribute to predictions, anomalies analysis, and potential improvements to the data to gain more insight into the data.  \n"
   ]
  },
  {
   "cell_type": "code",
   "execution_count": 1,
   "id": "5069bb7d-671f-4d5d-a15c-99d9cd48c779",
   "metadata": {
    "execution": {
     "iopub.execute_input": "2024-02-09T15:44:34.581339Z",
     "iopub.status.busy": "2024-02-09T15:44:34.581164Z",
     "iopub.status.idle": "2024-02-09T15:44:35.633600Z",
     "shell.execute_reply": "2024-02-09T15:44:35.633041Z"
    }
   },
   "outputs": [],
   "source": [
    "import matplotlib.pyplot as plt\n",
    "import numpy as np\n",
    "import pandas as pd\n",
    "import seaborn as sns\n",
    "\n",
    "from howso import engine\n",
    "from howso.utilities import infer_feature_attributes\n",
    "from howso.visuals import plot_feature_importances, plot_anomalies, plot_dataset"
   ]
  },
  {
   "cell_type": "code",
   "execution_count": 2,
   "id": "bbe69958-0668-4b82-ae95-dad4dcaaa9e9",
   "metadata": {
    "execution": {
     "iopub.execute_input": "2024-02-09T15:44:35.636505Z",
     "iopub.status.busy": "2024-02-09T15:44:35.635999Z",
     "iopub.status.idle": "2024-02-09T15:44:35.695992Z",
     "shell.execute_reply": "2024-02-09T15:44:35.695477Z"
    }
   },
   "outputs": [
    {
     "data": {
      "text/html": [
       "<div>\n",
       "<style scoped>\n",
       "    .dataframe tbody tr th:only-of-type {\n",
       "        vertical-align: middle;\n",
       "    }\n",
       "\n",
       "    .dataframe tbody tr th {\n",
       "        vertical-align: top;\n",
       "    }\n",
       "\n",
       "    .dataframe thead th {\n",
       "        text-align: right;\n",
       "    }\n",
       "</style>\n",
       "<table border=\"1\" class=\"dataframe\">\n",
       "  <thead>\n",
       "    <tr style=\"text-align: right;\">\n",
       "      <th></th>\n",
       "      <th>age</th>\n",
       "      <th>workclass</th>\n",
       "      <th>fnlwgt</th>\n",
       "      <th>education</th>\n",
       "      <th>education-num</th>\n",
       "      <th>marital-status</th>\n",
       "      <th>occupation</th>\n",
       "      <th>relationship</th>\n",
       "      <th>race</th>\n",
       "      <th>sex</th>\n",
       "      <th>capital-gain</th>\n",
       "      <th>capital-loss</th>\n",
       "      <th>hours-per-week</th>\n",
       "      <th>native-country</th>\n",
       "      <th>target</th>\n",
       "    </tr>\n",
       "  </thead>\n",
       "  <tbody>\n",
       "    <tr>\n",
       "      <th>0</th>\n",
       "      <td>45</td>\n",
       "      <td>State-gov</td>\n",
       "      <td>213646</td>\n",
       "      <td>Bachelors</td>\n",
       "      <td>13</td>\n",
       "      <td>Married-civ-spouse</td>\n",
       "      <td>Exec-managerial</td>\n",
       "      <td>Husband</td>\n",
       "      <td>White</td>\n",
       "      <td>Male</td>\n",
       "      <td>7298</td>\n",
       "      <td>0</td>\n",
       "      <td>40</td>\n",
       "      <td>United-States</td>\n",
       "      <td>&gt;50K</td>\n",
       "    </tr>\n",
       "    <tr>\n",
       "      <th>1</th>\n",
       "      <td>58</td>\n",
       "      <td>Private</td>\n",
       "      <td>242670</td>\n",
       "      <td>HS-grad</td>\n",
       "      <td>9</td>\n",
       "      <td>Never-married</td>\n",
       "      <td>Adm-clerical</td>\n",
       "      <td>Unmarried</td>\n",
       "      <td>White</td>\n",
       "      <td>Female</td>\n",
       "      <td>0</td>\n",
       "      <td>0</td>\n",
       "      <td>40</td>\n",
       "      <td>United-States</td>\n",
       "      <td>&lt;=50K</td>\n",
       "    </tr>\n",
       "    <tr>\n",
       "      <th>2</th>\n",
       "      <td>27</td>\n",
       "      <td>Private</td>\n",
       "      <td>211032</td>\n",
       "      <td>Preschool</td>\n",
       "      <td>1</td>\n",
       "      <td>Married-civ-spouse</td>\n",
       "      <td>Farming-fishing</td>\n",
       "      <td>Other-relative</td>\n",
       "      <td>White</td>\n",
       "      <td>Male</td>\n",
       "      <td>41310</td>\n",
       "      <td>0</td>\n",
       "      <td>24</td>\n",
       "      <td>Mexico</td>\n",
       "      <td>&lt;=50K</td>\n",
       "    </tr>\n",
       "    <tr>\n",
       "      <th>3</th>\n",
       "      <td>39</td>\n",
       "      <td>Private</td>\n",
       "      <td>165799</td>\n",
       "      <td>HS-grad</td>\n",
       "      <td>9</td>\n",
       "      <td>Married-civ-spouse</td>\n",
       "      <td>Exec-managerial</td>\n",
       "      <td>Husband</td>\n",
       "      <td>White</td>\n",
       "      <td>Male</td>\n",
       "      <td>0</td>\n",
       "      <td>0</td>\n",
       "      <td>40</td>\n",
       "      <td>United-States</td>\n",
       "      <td>&lt;=50K</td>\n",
       "    </tr>\n",
       "    <tr>\n",
       "      <th>4</th>\n",
       "      <td>28</td>\n",
       "      <td>Private</td>\n",
       "      <td>196690</td>\n",
       "      <td>Assoc-voc</td>\n",
       "      <td>11</td>\n",
       "      <td>Never-married</td>\n",
       "      <td>Machine-op-inspct</td>\n",
       "      <td>Not-in-family</td>\n",
       "      <td>White</td>\n",
       "      <td>Female</td>\n",
       "      <td>0</td>\n",
       "      <td>1669</td>\n",
       "      <td>42</td>\n",
       "      <td>United-States</td>\n",
       "      <td>&lt;=50K</td>\n",
       "    </tr>\n",
       "    <tr>\n",
       "      <th>...</th>\n",
       "      <td>...</td>\n",
       "      <td>...</td>\n",
       "      <td>...</td>\n",
       "      <td>...</td>\n",
       "      <td>...</td>\n",
       "      <td>...</td>\n",
       "      <td>...</td>\n",
       "      <td>...</td>\n",
       "      <td>...</td>\n",
       "      <td>...</td>\n",
       "      <td>...</td>\n",
       "      <td>...</td>\n",
       "      <td>...</td>\n",
       "      <td>...</td>\n",
       "      <td>...</td>\n",
       "    </tr>\n",
       "    <tr>\n",
       "      <th>995</th>\n",
       "      <td>20</td>\n",
       "      <td>?</td>\n",
       "      <td>369678</td>\n",
       "      <td>HS-grad</td>\n",
       "      <td>9</td>\n",
       "      <td>Never-married</td>\n",
       "      <td>?</td>\n",
       "      <td>Not-in-family</td>\n",
       "      <td>Other</td>\n",
       "      <td>Male</td>\n",
       "      <td>0</td>\n",
       "      <td>0</td>\n",
       "      <td>43</td>\n",
       "      <td>United-States</td>\n",
       "      <td>&lt;=50K</td>\n",
       "    </tr>\n",
       "    <tr>\n",
       "      <th>996</th>\n",
       "      <td>50</td>\n",
       "      <td>Local-gov</td>\n",
       "      <td>138358</td>\n",
       "      <td>Some-college</td>\n",
       "      <td>10</td>\n",
       "      <td>Separated</td>\n",
       "      <td>Other-service</td>\n",
       "      <td>Unmarried</td>\n",
       "      <td>Black</td>\n",
       "      <td>Female</td>\n",
       "      <td>0</td>\n",
       "      <td>0</td>\n",
       "      <td>28</td>\n",
       "      <td>United-States</td>\n",
       "      <td>&lt;=50K</td>\n",
       "    </tr>\n",
       "    <tr>\n",
       "      <th>997</th>\n",
       "      <td>27</td>\n",
       "      <td>Federal-gov</td>\n",
       "      <td>148153</td>\n",
       "      <td>HS-grad</td>\n",
       "      <td>9</td>\n",
       "      <td>Married-civ-spouse</td>\n",
       "      <td>Handlers-cleaners</td>\n",
       "      <td>Husband</td>\n",
       "      <td>Asian-Pac-Islander</td>\n",
       "      <td>Male</td>\n",
       "      <td>0</td>\n",
       "      <td>0</td>\n",
       "      <td>40</td>\n",
       "      <td>United-States</td>\n",
       "      <td>&lt;=50K</td>\n",
       "    </tr>\n",
       "    <tr>\n",
       "      <th>998</th>\n",
       "      <td>45</td>\n",
       "      <td>Private</td>\n",
       "      <td>343377</td>\n",
       "      <td>Some-college</td>\n",
       "      <td>10</td>\n",
       "      <td>Married-civ-spouse</td>\n",
       "      <td>Adm-clerical</td>\n",
       "      <td>Husband</td>\n",
       "      <td>White</td>\n",
       "      <td>Male</td>\n",
       "      <td>0</td>\n",
       "      <td>0</td>\n",
       "      <td>40</td>\n",
       "      <td>United-States</td>\n",
       "      <td>&lt;=50K</td>\n",
       "    </tr>\n",
       "    <tr>\n",
       "      <th>999</th>\n",
       "      <td>55</td>\n",
       "      <td>Private</td>\n",
       "      <td>90414</td>\n",
       "      <td>Bachelors</td>\n",
       "      <td>13</td>\n",
       "      <td>Married-spouse-absent</td>\n",
       "      <td>Craft-repair</td>\n",
       "      <td>Unmarried</td>\n",
       "      <td>White</td>\n",
       "      <td>Female</td>\n",
       "      <td>0</td>\n",
       "      <td>0</td>\n",
       "      <td>55</td>\n",
       "      <td>Ireland</td>\n",
       "      <td>&lt;=50K</td>\n",
       "    </tr>\n",
       "  </tbody>\n",
       "</table>\n",
       "<p>1000 rows × 15 columns</p>\n",
       "</div>"
      ],
      "text/plain": [
       "     age     workclass  fnlwgt      education  education-num  \\\n",
       "0     45     State-gov  213646      Bachelors             13   \n",
       "1     58       Private  242670        HS-grad              9   \n",
       "2     27       Private  211032      Preschool              1   \n",
       "3     39       Private  165799        HS-grad              9   \n",
       "4     28       Private  196690      Assoc-voc             11   \n",
       "..   ...           ...     ...            ...            ...   \n",
       "995   20             ?  369678        HS-grad              9   \n",
       "996   50     Local-gov  138358   Some-college             10   \n",
       "997   27   Federal-gov  148153        HS-grad              9   \n",
       "998   45       Private  343377   Some-college             10   \n",
       "999   55       Private   90414      Bachelors             13   \n",
       "\n",
       "             marital-status          occupation     relationship  \\\n",
       "0        Married-civ-spouse     Exec-managerial          Husband   \n",
       "1             Never-married        Adm-clerical        Unmarried   \n",
       "2        Married-civ-spouse     Farming-fishing   Other-relative   \n",
       "3        Married-civ-spouse     Exec-managerial          Husband   \n",
       "4             Never-married   Machine-op-inspct    Not-in-family   \n",
       "..                      ...                 ...              ...   \n",
       "995           Never-married                   ?    Not-in-family   \n",
       "996               Separated       Other-service        Unmarried   \n",
       "997      Married-civ-spouse   Handlers-cleaners          Husband   \n",
       "998      Married-civ-spouse        Adm-clerical          Husband   \n",
       "999   Married-spouse-absent        Craft-repair        Unmarried   \n",
       "\n",
       "                    race      sex  capital-gain  capital-loss  hours-per-week  \\\n",
       "0                  White     Male          7298             0              40   \n",
       "1                  White   Female             0             0              40   \n",
       "2                  White     Male         41310             0              24   \n",
       "3                  White     Male             0             0              40   \n",
       "4                  White   Female             0          1669              42   \n",
       "..                   ...      ...           ...           ...             ...   \n",
       "995                Other     Male             0             0              43   \n",
       "996                Black   Female             0             0              28   \n",
       "997   Asian-Pac-Islander     Male             0             0              40   \n",
       "998                White     Male             0             0              40   \n",
       "999                White   Female             0             0              55   \n",
       "\n",
       "     native-country  target  \n",
       "0     United-States    >50K  \n",
       "1     United-States   <=50K  \n",
       "2            Mexico   <=50K  \n",
       "3     United-States   <=50K  \n",
       "4     United-States   <=50K  \n",
       "..              ...     ...  \n",
       "995   United-States   <=50K  \n",
       "996   United-States   <=50K  \n",
       "997   United-States   <=50K  \n",
       "998   United-States   <=50K  \n",
       "999         Ireland   <=50K  \n",
       "\n",
       "[1000 rows x 15 columns]"
      ]
     },
     "execution_count": 2,
     "metadata": {},
     "output_type": "execute_result"
    }
   ],
   "source": [
    "# Load adult data\n",
    "df = pd.read_csv('data/adult.data', header=None)\n",
    "\n",
    "# Specify column names\n",
    "df.columns = ['age', 'workclass', 'fnlwgt', 'education', \n",
    "              'education-num', 'marital-status', 'occupation',\n",
    "              'relationship', 'race', 'sex', 'capital-gain', \n",
    "              'capital-loss', 'hours-per-week', 'native-country', 'target']\n",
    "\n",
    "# Sample the data for demo purpose\n",
    "df = df.sample(1_000).reset_index(drop=True)\n",
    "\n",
    "df"
   ]
  },
  {
   "cell_type": "code",
   "execution_count": 3,
   "id": "6f16acd5-4006-4488-a71a-1be4692d6479",
   "metadata": {
    "execution": {
     "iopub.execute_input": "2024-02-09T15:44:35.698324Z",
     "iopub.status.busy": "2024-02-09T15:44:35.697995Z",
     "iopub.status.idle": "2024-02-09T15:44:35.721136Z",
     "shell.execute_reply": "2024-02-09T15:44:35.720626Z"
    }
   },
   "outputs": [],
   "source": [
    "partial_features = {\n",
    "    \"education\": {\"type\": \"nominal\"}\n",
    "}\n",
    "\n",
    "# Infer features types\n",
    "features = infer_feature_attributes(df, features=partial_features)\n",
    "\n",
    "# Specify the context and action feature\n",
    "action_features = ['target']\n",
    "context_features = features.get_names(without=['target'])"
   ]
  },
  {
   "cell_type": "code",
   "execution_count": 4,
   "id": "07eacaca-ce18-4850-9648-bbf7453d593e",
   "metadata": {
    "execution": {
     "iopub.execute_input": "2024-02-09T15:44:35.723359Z",
     "iopub.status.busy": "2024-02-09T15:44:35.723047Z",
     "iopub.status.idle": "2024-02-09T15:44:47.026186Z",
     "shell.execute_reply": "2024-02-09T15:44:47.025646Z"
    }
   },
   "outputs": [],
   "source": [
    "# Create the trainee with custom name\n",
    "t = engine.Trainee(name='Engine - Predictions and Explanations Recipe', features=features, overwrite_existing=True)\n",
    "\n",
    "# Train\n",
    "t.train(df)\n",
    "\n",
    "# Analyze the model\n",
    "t.analyze(action_features=action_features)\n"
   ]
  },
  {
   "cell_type": "code",
   "execution_count": 5,
   "id": "03c4f734-d0a4-45ed-a85e-e756ee105c8c",
   "metadata": {
    "execution": {
     "iopub.execute_input": "2024-02-09T15:44:47.028799Z",
     "iopub.status.busy": "2024-02-09T15:44:47.028344Z",
     "iopub.status.idle": "2024-02-09T15:44:47.733317Z",
     "shell.execute_reply": "2024-02-09T15:44:47.732792Z"
    }
   },
   "outputs": [
    {
     "name": "stdout",
     "output_type": "stream",
     "text": [
      "Test set prediction accuracy: 0.753\n"
     ]
    }
   ],
   "source": [
    "t.react_into_trainee(residuals=True)\n",
    "\n",
    "accuracy = t.get_prediction_stats(stats=['accuracy'])['target'].iloc[0]\n",
    "\n",
    "print(\"Test set prediction accuracy: {acc}\".format(acc=accuracy))"
   ]
  },
  {
   "attachments": {},
   "cell_type": "markdown",
   "id": "05ea5c3e-ad35-421b-8f1f-de5553b11f41",
   "metadata": {},
   "source": [
    "# Explain\n",
    "\n",
    "How was the predictions made? \n",
    "\n",
    "Howso Engine provides detailed explanation for complete model transparency. Let's examine a subset of the explanations.\n"
   ]
  },
  {
   "attachments": {},
   "cell_type": "markdown",
   "id": "a08e870a-c1d2-4220-b683-cbfc048033c5",
   "metadata": {},
   "source": [
    "## Feature importance (global)\n",
    "\n",
    "The feature importance information provides insight into the feature[s] which were primary drivers for each of the prediction. This is important to understand in the context of AI bias and discrimination (ex. Sensitive attribute being the primary contribution to a prediction). \n",
    "\n",
    "This information is available at the global level (overall model), but can also be extracted at the local level (regional model for each case)."
   ]
  },
  {
   "cell_type": "code",
   "execution_count": 6,
   "id": "2516f905-3304-4c15-9f9b-0f340307ce61",
   "metadata": {
    "execution": {
     "iopub.execute_input": "2024-02-09T15:44:47.735619Z",
     "iopub.status.busy": "2024-02-09T15:44:47.735296Z",
     "iopub.status.idle": "2024-02-09T15:44:58.168751Z",
     "shell.execute_reply": "2024-02-09T15:44:58.168120Z"
    }
   },
   "outputs": [
    {
     "data": {
      "application/vnd.plotly.v1+json": {
       "config": {
        "plotlyServerURL": "https://plot.ly"
       },
       "data": [
        {
         "type": "bar",
         "x": [
          "capital-gain",
          "occupation",
          "marital-status",
          "relationship",
          "education",
          "capital-loss",
          "education-num",
          "native-country",
          "workclass",
          "sex",
          "hours-per-week",
          "race",
          "age",
          "fnlwgt"
         ],
         "y": [
          0.016657256520498376,
          0.013787159677077443,
          0.010736264736945889,
          0.008649192957474905,
          0.004367722638956795,
          0.004245743964482074,
          0.0036759797901712576,
          0.003467653953548977,
          0.0017629107895144047,
          -0.00019646005267776045,
          -0.0012853210297228412,
          -0.0045141252700209855,
          -0.019024411070607927,
          -0.06805247771380452
         ]
        }
       ],
       "layout": {
        "template": {
         "data": {
          "bar": [
           {
            "error_x": {
             "color": "#2a3f5f"
            },
            "error_y": {
             "color": "#2a3f5f"
            },
            "marker": {
             "line": {
              "color": "#E5ECF6",
              "width": 0.5
             },
             "pattern": {
              "fillmode": "overlay",
              "size": 10,
              "solidity": 0.2
             }
            },
            "type": "bar"
           }
          ],
          "barpolar": [
           {
            "marker": {
             "line": {
              "color": "#E5ECF6",
              "width": 0.5
             },
             "pattern": {
              "fillmode": "overlay",
              "size": 10,
              "solidity": 0.2
             }
            },
            "type": "barpolar"
           }
          ],
          "carpet": [
           {
            "aaxis": {
             "endlinecolor": "#2a3f5f",
             "gridcolor": "white",
             "linecolor": "white",
             "minorgridcolor": "white",
             "startlinecolor": "#2a3f5f"
            },
            "baxis": {
             "endlinecolor": "#2a3f5f",
             "gridcolor": "white",
             "linecolor": "white",
             "minorgridcolor": "white",
             "startlinecolor": "#2a3f5f"
            },
            "type": "carpet"
           }
          ],
          "choropleth": [
           {
            "colorbar": {
             "outlinewidth": 0,
             "ticks": ""
            },
            "type": "choropleth"
           }
          ],
          "contour": [
           {
            "colorbar": {
             "outlinewidth": 0,
             "ticks": ""
            },
            "colorscale": [
             [
              0,
              "#0d0887"
             ],
             [
              0.1111111111111111,
              "#46039f"
             ],
             [
              0.2222222222222222,
              "#7201a8"
             ],
             [
              0.3333333333333333,
              "#9c179e"
             ],
             [
              0.4444444444444444,
              "#bd3786"
             ],
             [
              0.5555555555555556,
              "#d8576b"
             ],
             [
              0.6666666666666666,
              "#ed7953"
             ],
             [
              0.7777777777777778,
              "#fb9f3a"
             ],
             [
              0.8888888888888888,
              "#fdca26"
             ],
             [
              1,
              "#f0f921"
             ]
            ],
            "type": "contour"
           }
          ],
          "contourcarpet": [
           {
            "colorbar": {
             "outlinewidth": 0,
             "ticks": ""
            },
            "type": "contourcarpet"
           }
          ],
          "heatmap": [
           {
            "colorbar": {
             "outlinewidth": 0,
             "ticks": ""
            },
            "colorscale": [
             [
              0,
              "#0d0887"
             ],
             [
              0.1111111111111111,
              "#46039f"
             ],
             [
              0.2222222222222222,
              "#7201a8"
             ],
             [
              0.3333333333333333,
              "#9c179e"
             ],
             [
              0.4444444444444444,
              "#bd3786"
             ],
             [
              0.5555555555555556,
              "#d8576b"
             ],
             [
              0.6666666666666666,
              "#ed7953"
             ],
             [
              0.7777777777777778,
              "#fb9f3a"
             ],
             [
              0.8888888888888888,
              "#fdca26"
             ],
             [
              1,
              "#f0f921"
             ]
            ],
            "type": "heatmap"
           }
          ],
          "heatmapgl": [
           {
            "colorbar": {
             "outlinewidth": 0,
             "ticks": ""
            },
            "colorscale": [
             [
              0,
              "#0d0887"
             ],
             [
              0.1111111111111111,
              "#46039f"
             ],
             [
              0.2222222222222222,
              "#7201a8"
             ],
             [
              0.3333333333333333,
              "#9c179e"
             ],
             [
              0.4444444444444444,
              "#bd3786"
             ],
             [
              0.5555555555555556,
              "#d8576b"
             ],
             [
              0.6666666666666666,
              "#ed7953"
             ],
             [
              0.7777777777777778,
              "#fb9f3a"
             ],
             [
              0.8888888888888888,
              "#fdca26"
             ],
             [
              1,
              "#f0f921"
             ]
            ],
            "type": "heatmapgl"
           }
          ],
          "histogram": [
           {
            "marker": {
             "pattern": {
              "fillmode": "overlay",
              "size": 10,
              "solidity": 0.2
             }
            },
            "type": "histogram"
           }
          ],
          "histogram2d": [
           {
            "colorbar": {
             "outlinewidth": 0,
             "ticks": ""
            },
            "colorscale": [
             [
              0,
              "#0d0887"
             ],
             [
              0.1111111111111111,
              "#46039f"
             ],
             [
              0.2222222222222222,
              "#7201a8"
             ],
             [
              0.3333333333333333,
              "#9c179e"
             ],
             [
              0.4444444444444444,
              "#bd3786"
             ],
             [
              0.5555555555555556,
              "#d8576b"
             ],
             [
              0.6666666666666666,
              "#ed7953"
             ],
             [
              0.7777777777777778,
              "#fb9f3a"
             ],
             [
              0.8888888888888888,
              "#fdca26"
             ],
             [
              1,
              "#f0f921"
             ]
            ],
            "type": "histogram2d"
           }
          ],
          "histogram2dcontour": [
           {
            "colorbar": {
             "outlinewidth": 0,
             "ticks": ""
            },
            "colorscale": [
             [
              0,
              "#0d0887"
             ],
             [
              0.1111111111111111,
              "#46039f"
             ],
             [
              0.2222222222222222,
              "#7201a8"
             ],
             [
              0.3333333333333333,
              "#9c179e"
             ],
             [
              0.4444444444444444,
              "#bd3786"
             ],
             [
              0.5555555555555556,
              "#d8576b"
             ],
             [
              0.6666666666666666,
              "#ed7953"
             ],
             [
              0.7777777777777778,
              "#fb9f3a"
             ],
             [
              0.8888888888888888,
              "#fdca26"
             ],
             [
              1,
              "#f0f921"
             ]
            ],
            "type": "histogram2dcontour"
           }
          ],
          "mesh3d": [
           {
            "colorbar": {
             "outlinewidth": 0,
             "ticks": ""
            },
            "type": "mesh3d"
           }
          ],
          "parcoords": [
           {
            "line": {
             "colorbar": {
              "outlinewidth": 0,
              "ticks": ""
             }
            },
            "type": "parcoords"
           }
          ],
          "pie": [
           {
            "automargin": true,
            "type": "pie"
           }
          ],
          "scatter": [
           {
            "fillpattern": {
             "fillmode": "overlay",
             "size": 10,
             "solidity": 0.2
            },
            "type": "scatter"
           }
          ],
          "scatter3d": [
           {
            "line": {
             "colorbar": {
              "outlinewidth": 0,
              "ticks": ""
             }
            },
            "marker": {
             "colorbar": {
              "outlinewidth": 0,
              "ticks": ""
             }
            },
            "type": "scatter3d"
           }
          ],
          "scattercarpet": [
           {
            "marker": {
             "colorbar": {
              "outlinewidth": 0,
              "ticks": ""
             }
            },
            "type": "scattercarpet"
           }
          ],
          "scattergeo": [
           {
            "marker": {
             "colorbar": {
              "outlinewidth": 0,
              "ticks": ""
             }
            },
            "type": "scattergeo"
           }
          ],
          "scattergl": [
           {
            "marker": {
             "colorbar": {
              "outlinewidth": 0,
              "ticks": ""
             }
            },
            "type": "scattergl"
           }
          ],
          "scattermapbox": [
           {
            "marker": {
             "colorbar": {
              "outlinewidth": 0,
              "ticks": ""
             }
            },
            "type": "scattermapbox"
           }
          ],
          "scatterpolar": [
           {
            "marker": {
             "colorbar": {
              "outlinewidth": 0,
              "ticks": ""
             }
            },
            "type": "scatterpolar"
           }
          ],
          "scatterpolargl": [
           {
            "marker": {
             "colorbar": {
              "outlinewidth": 0,
              "ticks": ""
             }
            },
            "type": "scatterpolargl"
           }
          ],
          "scatterternary": [
           {
            "marker": {
             "colorbar": {
              "outlinewidth": 0,
              "ticks": ""
             }
            },
            "type": "scatterternary"
           }
          ],
          "surface": [
           {
            "colorbar": {
             "outlinewidth": 0,
             "ticks": ""
            },
            "colorscale": [
             [
              0,
              "#0d0887"
             ],
             [
              0.1111111111111111,
              "#46039f"
             ],
             [
              0.2222222222222222,
              "#7201a8"
             ],
             [
              0.3333333333333333,
              "#9c179e"
             ],
             [
              0.4444444444444444,
              "#bd3786"
             ],
             [
              0.5555555555555556,
              "#d8576b"
             ],
             [
              0.6666666666666666,
              "#ed7953"
             ],
             [
              0.7777777777777778,
              "#fb9f3a"
             ],
             [
              0.8888888888888888,
              "#fdca26"
             ],
             [
              1,
              "#f0f921"
             ]
            ],
            "type": "surface"
           }
          ],
          "table": [
           {
            "cells": {
             "fill": {
              "color": "#EBF0F8"
             },
             "line": {
              "color": "white"
             }
            },
            "header": {
             "fill": {
              "color": "#C8D4E3"
             },
             "line": {
              "color": "white"
             }
            },
            "type": "table"
           }
          ]
         },
         "layout": {
          "annotationdefaults": {
           "arrowcolor": "#2a3f5f",
           "arrowhead": 0,
           "arrowwidth": 1
          },
          "autotypenumbers": "strict",
          "coloraxis": {
           "colorbar": {
            "outlinewidth": 0,
            "ticks": ""
           }
          },
          "colorscale": {
           "diverging": [
            [
             0,
             "#8e0152"
            ],
            [
             0.1,
             "#c51b7d"
            ],
            [
             0.2,
             "#de77ae"
            ],
            [
             0.3,
             "#f1b6da"
            ],
            [
             0.4,
             "#fde0ef"
            ],
            [
             0.5,
             "#f7f7f7"
            ],
            [
             0.6,
             "#e6f5d0"
            ],
            [
             0.7,
             "#b8e186"
            ],
            [
             0.8,
             "#7fbc41"
            ],
            [
             0.9,
             "#4d9221"
            ],
            [
             1,
             "#276419"
            ]
           ],
           "sequential": [
            [
             0,
             "#0d0887"
            ],
            [
             0.1111111111111111,
             "#46039f"
            ],
            [
             0.2222222222222222,
             "#7201a8"
            ],
            [
             0.3333333333333333,
             "#9c179e"
            ],
            [
             0.4444444444444444,
             "#bd3786"
            ],
            [
             0.5555555555555556,
             "#d8576b"
            ],
            [
             0.6666666666666666,
             "#ed7953"
            ],
            [
             0.7777777777777778,
             "#fb9f3a"
            ],
            [
             0.8888888888888888,
             "#fdca26"
            ],
            [
             1,
             "#f0f921"
            ]
           ],
           "sequentialminus": [
            [
             0,
             "#0d0887"
            ],
            [
             0.1111111111111111,
             "#46039f"
            ],
            [
             0.2222222222222222,
             "#7201a8"
            ],
            [
             0.3333333333333333,
             "#9c179e"
            ],
            [
             0.4444444444444444,
             "#bd3786"
            ],
            [
             0.5555555555555556,
             "#d8576b"
            ],
            [
             0.6666666666666666,
             "#ed7953"
            ],
            [
             0.7777777777777778,
             "#fb9f3a"
            ],
            [
             0.8888888888888888,
             "#fdca26"
            ],
            [
             1,
             "#f0f921"
            ]
           ]
          },
          "colorway": [
           "#636efa",
           "#EF553B",
           "#00cc96",
           "#ab63fa",
           "#FFA15A",
           "#19d3f3",
           "#FF6692",
           "#B6E880",
           "#FF97FF",
           "#FECB52"
          ],
          "font": {
           "color": "#2a3f5f"
          },
          "geo": {
           "bgcolor": "white",
           "lakecolor": "white",
           "landcolor": "#E5ECF6",
           "showlakes": true,
           "showland": true,
           "subunitcolor": "white"
          },
          "hoverlabel": {
           "align": "left"
          },
          "hovermode": "closest",
          "mapbox": {
           "style": "light"
          },
          "paper_bgcolor": "white",
          "plot_bgcolor": "#E5ECF6",
          "polar": {
           "angularaxis": {
            "gridcolor": "white",
            "linecolor": "white",
            "ticks": ""
           },
           "bgcolor": "#E5ECF6",
           "radialaxis": {
            "gridcolor": "white",
            "linecolor": "white",
            "ticks": ""
           }
          },
          "scene": {
           "xaxis": {
            "backgroundcolor": "#E5ECF6",
            "gridcolor": "white",
            "gridwidth": 2,
            "linecolor": "white",
            "showbackground": true,
            "ticks": "",
            "zerolinecolor": "white"
           },
           "yaxis": {
            "backgroundcolor": "#E5ECF6",
            "gridcolor": "white",
            "gridwidth": 2,
            "linecolor": "white",
            "showbackground": true,
            "ticks": "",
            "zerolinecolor": "white"
           },
           "zaxis": {
            "backgroundcolor": "#E5ECF6",
            "gridcolor": "white",
            "gridwidth": 2,
            "linecolor": "white",
            "showbackground": true,
            "ticks": "",
            "zerolinecolor": "white"
           }
          },
          "shapedefaults": {
           "line": {
            "color": "#2a3f5f"
           }
          },
          "ternary": {
           "aaxis": {
            "gridcolor": "white",
            "linecolor": "white",
            "ticks": ""
           },
           "baxis": {
            "gridcolor": "white",
            "linecolor": "white",
            "ticks": ""
           },
           "bgcolor": "#E5ECF6",
           "caxis": {
            "gridcolor": "white",
            "linecolor": "white",
            "ticks": ""
           }
          },
          "title": {
           "x": 0.05
          },
          "xaxis": {
           "automargin": true,
           "gridcolor": "white",
           "linecolor": "white",
           "ticks": "",
           "title": {
            "standoff": 15
           },
           "zerolinecolor": "white",
           "zerolinewidth": 2
          },
          "yaxis": {
           "automargin": true,
           "gridcolor": "white",
           "linecolor": "white",
           "ticks": "",
           "title": {
            "standoff": 15
           },
           "zerolinecolor": "white",
           "zerolinewidth": 2
          }
         }
        },
        "title": {
         "text": "Global Mean Decrease in Accuracy (MDA)"
        },
        "xaxis": {
         "anchor": "y",
         "domain": [
          0,
          1
         ],
         "title": {
          "text": "Feature"
         }
        },
        "yaxis": {
         "anchor": "x",
         "domain": [
          0,
          1
         ],
         "title": {
          "text": "MDA"
         }
        }
       }
      }
     },
     "metadata": {},
     "output_type": "display_data"
    }
   ],
   "source": [
    "# Extract the global MDA (mean decrease in accuracy)\n",
    "t.react_into_trainee(action_feature=action_features[0], mda_robust=True, residuals=True)\n",
    "global_mda = t.get_prediction_stats(action_feature=action_features[0], stats=['mda'])\n",
    "plot_feature_importances(global_mda, title=\"Global Mean Decrease in Accuracy (MDA)\", yaxis_title=\"MDA\")"
   ]
  },
  {
   "attachments": {},
   "cell_type": "markdown",
   "id": "0124c8fb-f73e-4c32-a3c8-616c873cc89c",
   "metadata": {},
   "source": [
    "## Feature uncertainty (global)\n",
    "\n",
    "Are there any noisy features? \n",
    "\n",
    "Howso Engine’s performance is robust against noisy feature[s], and can maintain a high level of accuracy despite noisy data. \n",
    "\n",
    "Part of the reason  Howso Engine can maintain the level of performance despite noisy data is through characterization of feature uncertainties (residuals). The feature residuals can be extracted for user review. Note, the residuals are in the same units as the original features which makes it easy to interpret. For example, the residual for the “age” feature has the unit of years as in the original data.\n",
    "\n",
    "Feature residuals are available at the global level (overall model) and at the local level (regional model for each case).\n"
   ]
  },
  {
   "cell_type": "code",
   "execution_count": 7,
   "id": "d9307608-5e5e-48ee-8c3a-f7eac3ef7469",
   "metadata": {
    "execution": {
     "iopub.execute_input": "2024-02-09T15:44:58.186640Z",
     "iopub.status.busy": "2024-02-09T15:44:58.186250Z",
     "iopub.status.idle": "2024-02-09T15:44:58.194347Z",
     "shell.execute_reply": "2024-02-09T15:44:58.193915Z"
    }
   },
   "outputs": [
    {
     "data": {
      "text/html": [
       "<div>\n",
       "<style scoped>\n",
       "    .dataframe tbody tr th:only-of-type {\n",
       "        vertical-align: middle;\n",
       "    }\n",
       "\n",
       "    .dataframe tbody tr th {\n",
       "        vertical-align: top;\n",
       "    }\n",
       "\n",
       "    .dataframe thead th {\n",
       "        text-align: right;\n",
       "    }\n",
       "</style>\n",
       "<table border=\"1\" class=\"dataframe\">\n",
       "  <thead>\n",
       "    <tr style=\"text-align: right;\">\n",
       "      <th></th>\n",
       "      <th>residuals</th>\n",
       "    </tr>\n",
       "  </thead>\n",
       "  <tbody>\n",
       "    <tr>\n",
       "      <th>fnlwgt</th>\n",
       "      <td>85815.645968</td>\n",
       "    </tr>\n",
       "    <tr>\n",
       "      <th>capital-gain</th>\n",
       "      <td>2108.756136</td>\n",
       "    </tr>\n",
       "    <tr>\n",
       "      <th>age</th>\n",
       "      <td>11.446891</td>\n",
       "    </tr>\n",
       "    <tr>\n",
       "      <th>hours-per-week</th>\n",
       "      <td>9.251702</td>\n",
       "    </tr>\n",
       "    <tr>\n",
       "      <th>occupation</th>\n",
       "      <td>0.902195</td>\n",
       "    </tr>\n",
       "    <tr>\n",
       "      <th>education-num</th>\n",
       "      <td>0.813602</td>\n",
       "    </tr>\n",
       "    <tr>\n",
       "      <th>education</th>\n",
       "      <td>0.813602</td>\n",
       "    </tr>\n",
       "    <tr>\n",
       "      <th>relationship</th>\n",
       "      <td>0.735356</td>\n",
       "    </tr>\n",
       "    <tr>\n",
       "      <th>marital-status</th>\n",
       "      <td>0.646141</td>\n",
       "    </tr>\n",
       "    <tr>\n",
       "      <th>workclass</th>\n",
       "      <td>0.516781</td>\n",
       "    </tr>\n",
       "  </tbody>\n",
       "</table>\n",
       "</div>"
      ],
      "text/plain": [
       "                   residuals\n",
       "fnlwgt          85815.645968\n",
       "capital-gain     2108.756136\n",
       "age                11.446891\n",
       "hours-per-week      9.251702\n",
       "occupation          0.902195\n",
       "education-num       0.813602\n",
       "education           0.813602\n",
       "relationship        0.735356\n",
       "marital-status      0.646141\n",
       "workclass           0.516781"
      ]
     },
     "execution_count": 7,
     "metadata": {},
     "output_type": "execute_result"
    }
   ],
   "source": [
    "# Global feature residuals\n",
    "global_feature_residuals = t.get_prediction_stats(stats=['mae']).T.rename(columns={'mae':'residuals'}).sort_values('residuals', ascending=False)\n",
    "global_feature_residuals.iloc[0:10]"
   ]
  },
  {
   "attachments": {},
   "cell_type": "markdown",
   "id": "8a76584f-341d-4102-9887-e274de58a861",
   "metadata": {},
   "source": [
    "# \"Show me...\"\n",
    "\n",
    "Howso Engine can be used to show interesting information pertaining to the data and model, such as anomalous cases and potential model improvements. \n",
    " \n",
    "For each prediction, Howso Engine can also extract the influential cases and boundary cases to provide an exact explanation to the prediction process. More details on what’s available can be found in the notebook “2-interpretability.ipynb”.\n"
   ]
  },
  {
   "attachments": {},
   "cell_type": "markdown",
   "id": "652f7abc-e818-4c6b-8fd4-c1dd1cbd5736",
   "metadata": {},
   "source": [
    "## Anomalous cases\n",
    "\n",
    "Anomalous cases can exist in the data as either an outlier or inlier. Outliers are cases which are very different than other cases. Inliers are cases which are too similar to other cases and do not follow the expected distribution. Inliers can be an indication of a fraudulent case that is “too good to be true”. \n",
    "\n"
   ]
  },
  {
   "cell_type": "code",
   "execution_count": 8,
   "id": "0e0e3259-cdb2-4162-b67a-30a5813c5c42",
   "metadata": {
    "execution": {
     "iopub.execute_input": "2024-02-09T15:44:58.196471Z",
     "iopub.status.busy": "2024-02-09T15:44:58.196293Z",
     "iopub.status.idle": "2024-02-09T15:45:07.942773Z",
     "shell.execute_reply": "2024-02-09T15:45:07.942326Z"
    }
   },
   "outputs": [
    {
     "data": {
      "text/html": [
       "<div>\n",
       "<style scoped>\n",
       "    .dataframe tbody tr th:only-of-type {\n",
       "        vertical-align: middle;\n",
       "    }\n",
       "\n",
       "    .dataframe tbody tr th {\n",
       "        vertical-align: top;\n",
       "    }\n",
       "\n",
       "    .dataframe thead th {\n",
       "        text-align: right;\n",
       "    }\n",
       "</style>\n",
       "<table border=\"1\" class=\"dataframe\">\n",
       "  <thead>\n",
       "    <tr style=\"text-align: right;\">\n",
       "      <th></th>\n",
       "      <th>age</th>\n",
       "      <th>workclass</th>\n",
       "      <th>fnlwgt</th>\n",
       "      <th>education</th>\n",
       "      <th>education-num</th>\n",
       "      <th>marital-status</th>\n",
       "      <th>occupation</th>\n",
       "      <th>relationship</th>\n",
       "      <th>race</th>\n",
       "      <th>sex</th>\n",
       "      <th>capital-gain</th>\n",
       "      <th>capital-loss</th>\n",
       "      <th>hours-per-week</th>\n",
       "      <th>native-country</th>\n",
       "      <th>target</th>\n",
       "      <th>familiarity_conviction_addition</th>\n",
       "      <th>.session_training_index</th>\n",
       "      <th>.session</th>\n",
       "      <th>distance_contribution</th>\n",
       "    </tr>\n",
       "  </thead>\n",
       "  <tbody>\n",
       "    <tr>\n",
       "      <th>0</th>\n",
       "      <td>45</td>\n",
       "      <td>State-gov</td>\n",
       "      <td>213646</td>\n",
       "      <td>Bachelors</td>\n",
       "      <td>13</td>\n",
       "      <td>Married-civ-spouse</td>\n",
       "      <td>Exec-managerial</td>\n",
       "      <td>Husband</td>\n",
       "      <td>White</td>\n",
       "      <td>Male</td>\n",
       "      <td>7298</td>\n",
       "      <td>0</td>\n",
       "      <td>40</td>\n",
       "      <td>United-States</td>\n",
       "      <td>&gt;50K</td>\n",
       "      <td>2.609425</td>\n",
       "      <td>0</td>\n",
       "      <td>baba7666-8dac-40ae-a565-3e2642d0ef01</td>\n",
       "      <td>4.810184</td>\n",
       "    </tr>\n",
       "    <tr>\n",
       "      <th>1</th>\n",
       "      <td>58</td>\n",
       "      <td>Private</td>\n",
       "      <td>242670</td>\n",
       "      <td>HS-grad</td>\n",
       "      <td>9</td>\n",
       "      <td>Never-married</td>\n",
       "      <td>Adm-clerical</td>\n",
       "      <td>Unmarried</td>\n",
       "      <td>White</td>\n",
       "      <td>Female</td>\n",
       "      <td>0</td>\n",
       "      <td>0</td>\n",
       "      <td>40</td>\n",
       "      <td>United-States</td>\n",
       "      <td>&lt;=50K</td>\n",
       "      <td>11.774335</td>\n",
       "      <td>1</td>\n",
       "      <td>baba7666-8dac-40ae-a565-3e2642d0ef01</td>\n",
       "      <td>5.886059</td>\n",
       "    </tr>\n",
       "    <tr>\n",
       "      <th>2</th>\n",
       "      <td>27</td>\n",
       "      <td>Private</td>\n",
       "      <td>211032</td>\n",
       "      <td>Preschool</td>\n",
       "      <td>1</td>\n",
       "      <td>Married-civ-spouse</td>\n",
       "      <td>Farming-fishing</td>\n",
       "      <td>Other-relative</td>\n",
       "      <td>White</td>\n",
       "      <td>Male</td>\n",
       "      <td>41310</td>\n",
       "      <td>0</td>\n",
       "      <td>24</td>\n",
       "      <td>Mexico</td>\n",
       "      <td>&lt;=50K</td>\n",
       "      <td>0.094427</td>\n",
       "      <td>2</td>\n",
       "      <td>baba7666-8dac-40ae-a565-3e2642d0ef01</td>\n",
       "      <td>29.202523</td>\n",
       "    </tr>\n",
       "    <tr>\n",
       "      <th>3</th>\n",
       "      <td>39</td>\n",
       "      <td>Private</td>\n",
       "      <td>165799</td>\n",
       "      <td>HS-grad</td>\n",
       "      <td>9</td>\n",
       "      <td>Married-civ-spouse</td>\n",
       "      <td>Exec-managerial</td>\n",
       "      <td>Husband</td>\n",
       "      <td>White</td>\n",
       "      <td>Male</td>\n",
       "      <td>0</td>\n",
       "      <td>0</td>\n",
       "      <td>40</td>\n",
       "      <td>United-States</td>\n",
       "      <td>&lt;=50K</td>\n",
       "      <td>0.293359</td>\n",
       "      <td>3</td>\n",
       "      <td>baba7666-8dac-40ae-a565-3e2642d0ef01</td>\n",
       "      <td>1.918331</td>\n",
       "    </tr>\n",
       "    <tr>\n",
       "      <th>4</th>\n",
       "      <td>28</td>\n",
       "      <td>Private</td>\n",
       "      <td>196690</td>\n",
       "      <td>Assoc-voc</td>\n",
       "      <td>11</td>\n",
       "      <td>Never-married</td>\n",
       "      <td>Machine-op-inspct</td>\n",
       "      <td>Not-in-family</td>\n",
       "      <td>White</td>\n",
       "      <td>Female</td>\n",
       "      <td>0</td>\n",
       "      <td>1669</td>\n",
       "      <td>42</td>\n",
       "      <td>United-States</td>\n",
       "      <td>&lt;=50K</td>\n",
       "      <td>0.436970</td>\n",
       "      <td>4</td>\n",
       "      <td>baba7666-8dac-40ae-a565-3e2642d0ef01</td>\n",
       "      <td>14.927844</td>\n",
       "    </tr>\n",
       "    <tr>\n",
       "      <th>...</th>\n",
       "      <td>...</td>\n",
       "      <td>...</td>\n",
       "      <td>...</td>\n",
       "      <td>...</td>\n",
       "      <td>...</td>\n",
       "      <td>...</td>\n",
       "      <td>...</td>\n",
       "      <td>...</td>\n",
       "      <td>...</td>\n",
       "      <td>...</td>\n",
       "      <td>...</td>\n",
       "      <td>...</td>\n",
       "      <td>...</td>\n",
       "      <td>...</td>\n",
       "      <td>...</td>\n",
       "      <td>...</td>\n",
       "      <td>...</td>\n",
       "      <td>...</td>\n",
       "      <td>...</td>\n",
       "    </tr>\n",
       "    <tr>\n",
       "      <th>995</th>\n",
       "      <td>20</td>\n",
       "      <td>?</td>\n",
       "      <td>369678</td>\n",
       "      <td>HS-grad</td>\n",
       "      <td>9</td>\n",
       "      <td>Never-married</td>\n",
       "      <td>?</td>\n",
       "      <td>Not-in-family</td>\n",
       "      <td>Other</td>\n",
       "      <td>Male</td>\n",
       "      <td>0</td>\n",
       "      <td>0</td>\n",
       "      <td>43</td>\n",
       "      <td>United-States</td>\n",
       "      <td>&lt;=50K</td>\n",
       "      <td>2.814812</td>\n",
       "      <td>995</td>\n",
       "      <td>baba7666-8dac-40ae-a565-3e2642d0ef01</td>\n",
       "      <td>9.646100</td>\n",
       "    </tr>\n",
       "    <tr>\n",
       "      <th>996</th>\n",
       "      <td>50</td>\n",
       "      <td>Local-gov</td>\n",
       "      <td>138358</td>\n",
       "      <td>Some-college</td>\n",
       "      <td>10</td>\n",
       "      <td>Separated</td>\n",
       "      <td>Other-service</td>\n",
       "      <td>Unmarried</td>\n",
       "      <td>Black</td>\n",
       "      <td>Female</td>\n",
       "      <td>0</td>\n",
       "      <td>0</td>\n",
       "      <td>28</td>\n",
       "      <td>United-States</td>\n",
       "      <td>&lt;=50K</td>\n",
       "      <td>5.397442</td>\n",
       "      <td>996</td>\n",
       "      <td>baba7666-8dac-40ae-a565-3e2642d0ef01</td>\n",
       "      <td>8.796548</td>\n",
       "    </tr>\n",
       "    <tr>\n",
       "      <th>997</th>\n",
       "      <td>27</td>\n",
       "      <td>Federal-gov</td>\n",
       "      <td>148153</td>\n",
       "      <td>HS-grad</td>\n",
       "      <td>9</td>\n",
       "      <td>Married-civ-spouse</td>\n",
       "      <td>Handlers-cleaners</td>\n",
       "      <td>Husband</td>\n",
       "      <td>Asian-Pac-Islander</td>\n",
       "      <td>Male</td>\n",
       "      <td>0</td>\n",
       "      <td>0</td>\n",
       "      <td>40</td>\n",
       "      <td>United-States</td>\n",
       "      <td>&lt;=50K</td>\n",
       "      <td>13.211536</td>\n",
       "      <td>997</td>\n",
       "      <td>baba7666-8dac-40ae-a565-3e2642d0ef01</td>\n",
       "      <td>8.087714</td>\n",
       "    </tr>\n",
       "    <tr>\n",
       "      <th>998</th>\n",
       "      <td>45</td>\n",
       "      <td>Private</td>\n",
       "      <td>343377</td>\n",
       "      <td>Some-college</td>\n",
       "      <td>10</td>\n",
       "      <td>Married-civ-spouse</td>\n",
       "      <td>Adm-clerical</td>\n",
       "      <td>Husband</td>\n",
       "      <td>White</td>\n",
       "      <td>Male</td>\n",
       "      <td>0</td>\n",
       "      <td>0</td>\n",
       "      <td>40</td>\n",
       "      <td>United-States</td>\n",
       "      <td>&lt;=50K</td>\n",
       "      <td>1.310455</td>\n",
       "      <td>998</td>\n",
       "      <td>baba7666-8dac-40ae-a565-3e2642d0ef01</td>\n",
       "      <td>4.075570</td>\n",
       "    </tr>\n",
       "    <tr>\n",
       "      <th>999</th>\n",
       "      <td>55</td>\n",
       "      <td>Private</td>\n",
       "      <td>90414</td>\n",
       "      <td>Bachelors</td>\n",
       "      <td>13</td>\n",
       "      <td>Married-spouse-absent</td>\n",
       "      <td>Craft-repair</td>\n",
       "      <td>Unmarried</td>\n",
       "      <td>White</td>\n",
       "      <td>Female</td>\n",
       "      <td>0</td>\n",
       "      <td>0</td>\n",
       "      <td>55</td>\n",
       "      <td>Ireland</td>\n",
       "      <td>&lt;=50K</td>\n",
       "      <td>0.369196</td>\n",
       "      <td>999</td>\n",
       "      <td>baba7666-8dac-40ae-a565-3e2642d0ef01</td>\n",
       "      <td>15.817936</td>\n",
       "    </tr>\n",
       "  </tbody>\n",
       "</table>\n",
       "<p>1000 rows × 19 columns</p>\n",
       "</div>"
      ],
      "text/plain": [
       "     age     workclass  fnlwgt      education  education-num  \\\n",
       "0     45     State-gov  213646      Bachelors             13   \n",
       "1     58       Private  242670        HS-grad              9   \n",
       "2     27       Private  211032      Preschool              1   \n",
       "3     39       Private  165799        HS-grad              9   \n",
       "4     28       Private  196690      Assoc-voc             11   \n",
       "..   ...           ...     ...            ...            ...   \n",
       "995   20             ?  369678        HS-grad              9   \n",
       "996   50     Local-gov  138358   Some-college             10   \n",
       "997   27   Federal-gov  148153        HS-grad              9   \n",
       "998   45       Private  343377   Some-college             10   \n",
       "999   55       Private   90414      Bachelors             13   \n",
       "\n",
       "             marital-status          occupation     relationship  \\\n",
       "0        Married-civ-spouse     Exec-managerial          Husband   \n",
       "1             Never-married        Adm-clerical        Unmarried   \n",
       "2        Married-civ-spouse     Farming-fishing   Other-relative   \n",
       "3        Married-civ-spouse     Exec-managerial          Husband   \n",
       "4             Never-married   Machine-op-inspct    Not-in-family   \n",
       "..                      ...                 ...              ...   \n",
       "995           Never-married                   ?    Not-in-family   \n",
       "996               Separated       Other-service        Unmarried   \n",
       "997      Married-civ-spouse   Handlers-cleaners          Husband   \n",
       "998      Married-civ-spouse        Adm-clerical          Husband   \n",
       "999   Married-spouse-absent        Craft-repair        Unmarried   \n",
       "\n",
       "                    race      sex  capital-gain  capital-loss  hours-per-week  \\\n",
       "0                  White     Male          7298             0              40   \n",
       "1                  White   Female             0             0              40   \n",
       "2                  White     Male         41310             0              24   \n",
       "3                  White     Male             0             0              40   \n",
       "4                  White   Female             0          1669              42   \n",
       "..                   ...      ...           ...           ...             ...   \n",
       "995                Other     Male             0             0              43   \n",
       "996                Black   Female             0             0              28   \n",
       "997   Asian-Pac-Islander     Male             0             0              40   \n",
       "998                White     Male             0             0              40   \n",
       "999                White   Female             0             0              55   \n",
       "\n",
       "     native-country  target  familiarity_conviction_addition  \\\n",
       "0     United-States    >50K                         2.609425   \n",
       "1     United-States   <=50K                        11.774335   \n",
       "2            Mexico   <=50K                         0.094427   \n",
       "3     United-States   <=50K                         0.293359   \n",
       "4     United-States   <=50K                         0.436970   \n",
       "..              ...     ...                              ...   \n",
       "995   United-States   <=50K                         2.814812   \n",
       "996   United-States   <=50K                         5.397442   \n",
       "997   United-States   <=50K                        13.211536   \n",
       "998   United-States   <=50K                         1.310455   \n",
       "999         Ireland   <=50K                         0.369196   \n",
       "\n",
       "     .session_training_index                              .session  \\\n",
       "0                          0  baba7666-8dac-40ae-a565-3e2642d0ef01   \n",
       "1                          1  baba7666-8dac-40ae-a565-3e2642d0ef01   \n",
       "2                          2  baba7666-8dac-40ae-a565-3e2642d0ef01   \n",
       "3                          3  baba7666-8dac-40ae-a565-3e2642d0ef01   \n",
       "4                          4  baba7666-8dac-40ae-a565-3e2642d0ef01   \n",
       "..                       ...                                   ...   \n",
       "995                      995  baba7666-8dac-40ae-a565-3e2642d0ef01   \n",
       "996                      996  baba7666-8dac-40ae-a565-3e2642d0ef01   \n",
       "997                      997  baba7666-8dac-40ae-a565-3e2642d0ef01   \n",
       "998                      998  baba7666-8dac-40ae-a565-3e2642d0ef01   \n",
       "999                      999  baba7666-8dac-40ae-a565-3e2642d0ef01   \n",
       "\n",
       "     distance_contribution  \n",
       "0                 4.810184  \n",
       "1                 5.886059  \n",
       "2                29.202523  \n",
       "3                 1.918331  \n",
       "4                14.927844  \n",
       "..                     ...  \n",
       "995               9.646100  \n",
       "996               8.796548  \n",
       "997               8.087714  \n",
       "998               4.075570  \n",
       "999              15.817936  \n",
       "\n",
       "[1000 rows x 19 columns]"
      ]
     },
     "execution_count": 8,
     "metadata": {},
     "output_type": "execute_result"
    }
   ],
   "source": [
    "# Store the familiarity conviction, this will be used to identify anomalous cases\n",
    "t.analyze()\n",
    "t.react_into_features(familiarity_conviction_addition=True, distance_contribution=True)\n",
    "stored_convictions = t.get_cases(session=t.active_session, features=df.columns.tolist() + ['familiarity_conviction_addition','.session_training_index', '.session', 'distance_contribution'])\n",
    "\n",
    "stored_convictions"
   ]
  },
  {
   "cell_type": "code",
   "execution_count": 9,
   "id": "141c81ca-49d5-4203-85a0-bba3062da817",
   "metadata": {
    "execution": {
     "iopub.execute_input": "2024-02-09T15:45:07.944815Z",
     "iopub.status.busy": "2024-02-09T15:45:07.944500Z",
     "iopub.status.idle": "2024-02-09T15:45:07.949271Z",
     "shell.execute_reply": "2024-02-09T15:45:07.948835Z"
    }
   },
   "outputs": [],
   "source": [
    "# Threshold to determine which cases will be deemed anomalous\n",
    "convict_threshold = 0.75\n",
    "\n",
    "# Extract the anomalous cases\n",
    "low_convicts = stored_convictions[stored_convictions['familiarity_conviction_addition'] <= convict_threshold ].sort_values('familiarity_conviction_addition', ascending=True)\n",
    "\n",
    "# Average distance contribution will be used to determine if a case is an outlier or inlier\n",
    "average_dist_contribution = low_convicts['distance_contribution'].mean()\n",
    "\n",
    "# A case with distance contribution greater than average will be tagged as outlier, and vise versa for inliers\n",
    "cat = ['inlier' if d < average_dist_contribution else 'outlier' for d in low_convicts['distance_contribution']]\n",
    "low_convicts['category'] = cat"
   ]
  },
  {
   "attachments": {},
   "cell_type": "markdown",
   "id": "1cd260bd-e4e7-4ce1-8dec-4f7b046b07b5",
   "metadata": {},
   "source": [
    "## Outliers\n",
    "\n",
    "Let’s examine a few outlier cases. Outliers are cases which are very different than other cases."
   ]
  },
  {
   "cell_type": "code",
   "execution_count": 10,
   "id": "b34e8a80-02c6-4fd4-9236-67268b02c220",
   "metadata": {
    "execution": {
     "iopub.execute_input": "2024-02-09T15:45:07.951046Z",
     "iopub.status.busy": "2024-02-09T15:45:07.950755Z",
     "iopub.status.idle": "2024-02-09T15:45:07.962848Z",
     "shell.execute_reply": "2024-02-09T15:45:07.962446Z"
    }
   },
   "outputs": [
    {
     "data": {
      "text/html": [
       "<div>\n",
       "<style scoped>\n",
       "    .dataframe tbody tr th:only-of-type {\n",
       "        vertical-align: middle;\n",
       "    }\n",
       "\n",
       "    .dataframe tbody tr th {\n",
       "        vertical-align: top;\n",
       "    }\n",
       "\n",
       "    .dataframe thead th {\n",
       "        text-align: right;\n",
       "    }\n",
       "</style>\n",
       "<table border=\"1\" class=\"dataframe\">\n",
       "  <thead>\n",
       "    <tr style=\"text-align: right;\">\n",
       "      <th></th>\n",
       "      <th>age</th>\n",
       "      <th>workclass</th>\n",
       "      <th>fnlwgt</th>\n",
       "      <th>education</th>\n",
       "      <th>education-num</th>\n",
       "      <th>marital-status</th>\n",
       "      <th>occupation</th>\n",
       "      <th>relationship</th>\n",
       "      <th>race</th>\n",
       "      <th>sex</th>\n",
       "      <th>capital-gain</th>\n",
       "      <th>capital-loss</th>\n",
       "      <th>hours-per-week</th>\n",
       "      <th>native-country</th>\n",
       "      <th>target</th>\n",
       "      <th>familiarity_conviction_addition</th>\n",
       "      <th>.session_training_index</th>\n",
       "      <th>.session</th>\n",
       "      <th>distance_contribution</th>\n",
       "      <th>category</th>\n",
       "    </tr>\n",
       "  </thead>\n",
       "  <tbody>\n",
       "    <tr>\n",
       "      <th>0</th>\n",
       "      <td>38</td>\n",
       "      <td>Federal-gov</td>\n",
       "      <td>37683</td>\n",
       "      <td>Prof-school</td>\n",
       "      <td>15</td>\n",
       "      <td>Never-married</td>\n",
       "      <td>Prof-specialty</td>\n",
       "      <td>Not-in-family</td>\n",
       "      <td>Asian-Pac-Islander</td>\n",
       "      <td>Female</td>\n",
       "      <td>99999</td>\n",
       "      <td>0</td>\n",
       "      <td>57</td>\n",
       "      <td>Canada</td>\n",
       "      <td>&gt;50K</td>\n",
       "      <td>0.059752</td>\n",
       "      <td>545</td>\n",
       "      <td>baba7666-8dac-40ae-a565-3e2642d0ef01</td>\n",
       "      <td>37.956412</td>\n",
       "      <td>outlier</td>\n",
       "    </tr>\n",
       "    <tr>\n",
       "      <th>1</th>\n",
       "      <td>54</td>\n",
       "      <td>Self-emp-not-inc</td>\n",
       "      <td>269068</td>\n",
       "      <td>Prof-school</td>\n",
       "      <td>15</td>\n",
       "      <td>Married-civ-spouse</td>\n",
       "      <td>Prof-specialty</td>\n",
       "      <td>Husband</td>\n",
       "      <td>Asian-Pac-Islander</td>\n",
       "      <td>Male</td>\n",
       "      <td>99999</td>\n",
       "      <td>0</td>\n",
       "      <td>50</td>\n",
       "      <td>Philippines</td>\n",
       "      <td>&gt;50K</td>\n",
       "      <td>0.078857</td>\n",
       "      <td>453</td>\n",
       "      <td>baba7666-8dac-40ae-a565-3e2642d0ef01</td>\n",
       "      <td>31.899997</td>\n",
       "      <td>outlier</td>\n",
       "    </tr>\n",
       "    <tr>\n",
       "      <th>2</th>\n",
       "      <td>36</td>\n",
       "      <td>Self-emp-inc</td>\n",
       "      <td>216711</td>\n",
       "      <td>HS-grad</td>\n",
       "      <td>9</td>\n",
       "      <td>Married-civ-spouse</td>\n",
       "      <td>Exec-managerial</td>\n",
       "      <td>Husband</td>\n",
       "      <td>White</td>\n",
       "      <td>Male</td>\n",
       "      <td>99999</td>\n",
       "      <td>0</td>\n",
       "      <td>50</td>\n",
       "      <td>?</td>\n",
       "      <td>&gt;50K</td>\n",
       "      <td>0.093408</td>\n",
       "      <td>856</td>\n",
       "      <td>baba7666-8dac-40ae-a565-3e2642d0ef01</td>\n",
       "      <td>28.934321</td>\n",
       "      <td>outlier</td>\n",
       "    </tr>\n",
       "    <tr>\n",
       "      <th>3</th>\n",
       "      <td>27</td>\n",
       "      <td>Private</td>\n",
       "      <td>211032</td>\n",
       "      <td>Preschool</td>\n",
       "      <td>1</td>\n",
       "      <td>Married-civ-spouse</td>\n",
       "      <td>Farming-fishing</td>\n",
       "      <td>Other-relative</td>\n",
       "      <td>White</td>\n",
       "      <td>Male</td>\n",
       "      <td>41310</td>\n",
       "      <td>0</td>\n",
       "      <td>24</td>\n",
       "      <td>Mexico</td>\n",
       "      <td>&lt;=50K</td>\n",
       "      <td>0.094427</td>\n",
       "      <td>2</td>\n",
       "      <td>baba7666-8dac-40ae-a565-3e2642d0ef01</td>\n",
       "      <td>29.202523</td>\n",
       "      <td>outlier</td>\n",
       "    </tr>\n",
       "    <tr>\n",
       "      <th>4</th>\n",
       "      <td>49</td>\n",
       "      <td>Self-emp-not-inc</td>\n",
       "      <td>43348</td>\n",
       "      <td>Doctorate</td>\n",
       "      <td>16</td>\n",
       "      <td>Never-married</td>\n",
       "      <td>Prof-specialty</td>\n",
       "      <td>Not-in-family</td>\n",
       "      <td>White</td>\n",
       "      <td>Male</td>\n",
       "      <td>99999</td>\n",
       "      <td>0</td>\n",
       "      <td>70</td>\n",
       "      <td>United-States</td>\n",
       "      <td>&gt;50K</td>\n",
       "      <td>0.097505</td>\n",
       "      <td>416</td>\n",
       "      <td>baba7666-8dac-40ae-a565-3e2642d0ef01</td>\n",
       "      <td>28.162358</td>\n",
       "      <td>outlier</td>\n",
       "    </tr>\n",
       "    <tr>\n",
       "      <th>...</th>\n",
       "      <td>...</td>\n",
       "      <td>...</td>\n",
       "      <td>...</td>\n",
       "      <td>...</td>\n",
       "      <td>...</td>\n",
       "      <td>...</td>\n",
       "      <td>...</td>\n",
       "      <td>...</td>\n",
       "      <td>...</td>\n",
       "      <td>...</td>\n",
       "      <td>...</td>\n",
       "      <td>...</td>\n",
       "      <td>...</td>\n",
       "      <td>...</td>\n",
       "      <td>...</td>\n",
       "      <td>...</td>\n",
       "      <td>...</td>\n",
       "      <td>...</td>\n",
       "      <td>...</td>\n",
       "      <td>...</td>\n",
       "    </tr>\n",
       "    <tr>\n",
       "      <th>100</th>\n",
       "      <td>50</td>\n",
       "      <td>Federal-gov</td>\n",
       "      <td>32801</td>\n",
       "      <td>Bachelors</td>\n",
       "      <td>13</td>\n",
       "      <td>Married-civ-spouse</td>\n",
       "      <td>Exec-managerial</td>\n",
       "      <td>Wife</td>\n",
       "      <td>Amer-Indian-Eskimo</td>\n",
       "      <td>Female</td>\n",
       "      <td>0</td>\n",
       "      <td>0</td>\n",
       "      <td>40</td>\n",
       "      <td>United-States</td>\n",
       "      <td>&gt;50K</td>\n",
       "      <td>0.689422</td>\n",
       "      <td>11</td>\n",
       "      <td>baba7666-8dac-40ae-a565-3e2642d0ef01</td>\n",
       "      <td>12.985062</td>\n",
       "      <td>outlier</td>\n",
       "    </tr>\n",
       "    <tr>\n",
       "      <th>101</th>\n",
       "      <td>42</td>\n",
       "      <td>Private</td>\n",
       "      <td>367533</td>\n",
       "      <td>10th</td>\n",
       "      <td>6</td>\n",
       "      <td>Married-civ-spouse</td>\n",
       "      <td>Craft-repair</td>\n",
       "      <td>Own-child</td>\n",
       "      <td>Other</td>\n",
       "      <td>Male</td>\n",
       "      <td>0</td>\n",
       "      <td>0</td>\n",
       "      <td>43</td>\n",
       "      <td>United-States</td>\n",
       "      <td>&gt;50K</td>\n",
       "      <td>0.694713</td>\n",
       "      <td>886</td>\n",
       "      <td>baba7666-8dac-40ae-a565-3e2642d0ef01</td>\n",
       "      <td>12.960099</td>\n",
       "      <td>outlier</td>\n",
       "    </tr>\n",
       "    <tr>\n",
       "      <th>102</th>\n",
       "      <td>27</td>\n",
       "      <td>Private</td>\n",
       "      <td>150025</td>\n",
       "      <td>5th-6th</td>\n",
       "      <td>3</td>\n",
       "      <td>Never-married</td>\n",
       "      <td>Handlers-cleaners</td>\n",
       "      <td>Other-relative</td>\n",
       "      <td>White</td>\n",
       "      <td>Male</td>\n",
       "      <td>0</td>\n",
       "      <td>0</td>\n",
       "      <td>40</td>\n",
       "      <td>Guatemala</td>\n",
       "      <td>&lt;=50K</td>\n",
       "      <td>0.720323</td>\n",
       "      <td>239</td>\n",
       "      <td>baba7666-8dac-40ae-a565-3e2642d0ef01</td>\n",
       "      <td>12.826780</td>\n",
       "      <td>outlier</td>\n",
       "    </tr>\n",
       "    <tr>\n",
       "      <th>103</th>\n",
       "      <td>35</td>\n",
       "      <td>Private</td>\n",
       "      <td>90273</td>\n",
       "      <td>7th-8th</td>\n",
       "      <td>4</td>\n",
       "      <td>Married-civ-spouse</td>\n",
       "      <td>Machine-op-inspct</td>\n",
       "      <td>Husband</td>\n",
       "      <td>White</td>\n",
       "      <td>Male</td>\n",
       "      <td>0</td>\n",
       "      <td>0</td>\n",
       "      <td>40</td>\n",
       "      <td>?</td>\n",
       "      <td>&gt;50K</td>\n",
       "      <td>0.732626</td>\n",
       "      <td>905</td>\n",
       "      <td>baba7666-8dac-40ae-a565-3e2642d0ef01</td>\n",
       "      <td>12.770016</td>\n",
       "      <td>outlier</td>\n",
       "    </tr>\n",
       "    <tr>\n",
       "      <th>104</th>\n",
       "      <td>19</td>\n",
       "      <td>Private</td>\n",
       "      <td>115248</td>\n",
       "      <td>Some-college</td>\n",
       "      <td>10</td>\n",
       "      <td>Never-married</td>\n",
       "      <td>Adm-clerical</td>\n",
       "      <td>Not-in-family</td>\n",
       "      <td>Asian-Pac-Islander</td>\n",
       "      <td>Male</td>\n",
       "      <td>0</td>\n",
       "      <td>0</td>\n",
       "      <td>40</td>\n",
       "      <td>Vietnam</td>\n",
       "      <td>&lt;=50K</td>\n",
       "      <td>0.742219</td>\n",
       "      <td>774</td>\n",
       "      <td>baba7666-8dac-40ae-a565-3e2642d0ef01</td>\n",
       "      <td>12.548691</td>\n",
       "      <td>outlier</td>\n",
       "    </tr>\n",
       "  </tbody>\n",
       "</table>\n",
       "<p>105 rows × 20 columns</p>\n",
       "</div>"
      ],
      "text/plain": [
       "     age          workclass  fnlwgt      education  education-num  \\\n",
       "0     38        Federal-gov   37683    Prof-school             15   \n",
       "1     54   Self-emp-not-inc  269068    Prof-school             15   \n",
       "2     36       Self-emp-inc  216711        HS-grad              9   \n",
       "3     27            Private  211032      Preschool              1   \n",
       "4     49   Self-emp-not-inc   43348      Doctorate             16   \n",
       "..   ...                ...     ...            ...            ...   \n",
       "100   50        Federal-gov   32801      Bachelors             13   \n",
       "101   42            Private  367533           10th              6   \n",
       "102   27            Private  150025        5th-6th              3   \n",
       "103   35            Private   90273        7th-8th              4   \n",
       "104   19            Private  115248   Some-college             10   \n",
       "\n",
       "          marital-status          occupation     relationship  \\\n",
       "0          Never-married      Prof-specialty    Not-in-family   \n",
       "1     Married-civ-spouse      Prof-specialty          Husband   \n",
       "2     Married-civ-spouse     Exec-managerial          Husband   \n",
       "3     Married-civ-spouse     Farming-fishing   Other-relative   \n",
       "4          Never-married      Prof-specialty    Not-in-family   \n",
       "..                   ...                 ...              ...   \n",
       "100   Married-civ-spouse     Exec-managerial             Wife   \n",
       "101   Married-civ-spouse        Craft-repair        Own-child   \n",
       "102        Never-married   Handlers-cleaners   Other-relative   \n",
       "103   Married-civ-spouse   Machine-op-inspct          Husband   \n",
       "104        Never-married        Adm-clerical    Not-in-family   \n",
       "\n",
       "                    race      sex  capital-gain  capital-loss  hours-per-week  \\\n",
       "0     Asian-Pac-Islander   Female         99999             0              57   \n",
       "1     Asian-Pac-Islander     Male         99999             0              50   \n",
       "2                  White     Male         99999             0              50   \n",
       "3                  White     Male         41310             0              24   \n",
       "4                  White     Male         99999             0              70   \n",
       "..                   ...      ...           ...           ...             ...   \n",
       "100   Amer-Indian-Eskimo   Female             0             0              40   \n",
       "101                Other     Male             0             0              43   \n",
       "102                White     Male             0             0              40   \n",
       "103                White     Male             0             0              40   \n",
       "104   Asian-Pac-Islander     Male             0             0              40   \n",
       "\n",
       "     native-country  target  familiarity_conviction_addition  \\\n",
       "0            Canada    >50K                         0.059752   \n",
       "1       Philippines    >50K                         0.078857   \n",
       "2                 ?    >50K                         0.093408   \n",
       "3            Mexico   <=50K                         0.094427   \n",
       "4     United-States    >50K                         0.097505   \n",
       "..              ...     ...                              ...   \n",
       "100   United-States    >50K                         0.689422   \n",
       "101   United-States    >50K                         0.694713   \n",
       "102       Guatemala   <=50K                         0.720323   \n",
       "103               ?    >50K                         0.732626   \n",
       "104         Vietnam   <=50K                         0.742219   \n",
       "\n",
       "     .session_training_index                              .session  \\\n",
       "0                        545  baba7666-8dac-40ae-a565-3e2642d0ef01   \n",
       "1                        453  baba7666-8dac-40ae-a565-3e2642d0ef01   \n",
       "2                        856  baba7666-8dac-40ae-a565-3e2642d0ef01   \n",
       "3                          2  baba7666-8dac-40ae-a565-3e2642d0ef01   \n",
       "4                        416  baba7666-8dac-40ae-a565-3e2642d0ef01   \n",
       "..                       ...                                   ...   \n",
       "100                       11  baba7666-8dac-40ae-a565-3e2642d0ef01   \n",
       "101                      886  baba7666-8dac-40ae-a565-3e2642d0ef01   \n",
       "102                      239  baba7666-8dac-40ae-a565-3e2642d0ef01   \n",
       "103                      905  baba7666-8dac-40ae-a565-3e2642d0ef01   \n",
       "104                      774  baba7666-8dac-40ae-a565-3e2642d0ef01   \n",
       "\n",
       "     distance_contribution category  \n",
       "0                37.956412  outlier  \n",
       "1                31.899997  outlier  \n",
       "2                28.934321  outlier  \n",
       "3                29.202523  outlier  \n",
       "4                28.162358  outlier  \n",
       "..                     ...      ...  \n",
       "100              12.985062  outlier  \n",
       "101              12.960099  outlier  \n",
       "102              12.826780  outlier  \n",
       "103              12.770016  outlier  \n",
       "104              12.548691  outlier  \n",
       "\n",
       "[105 rows x 20 columns]"
      ]
     },
     "execution_count": 10,
     "metadata": {},
     "output_type": "execute_result"
    }
   ],
   "source": [
    "# Extract the outliers cases\n",
    "outliers = low_convicts[low_convicts['category'] == 'outlier'].reset_index(drop=True)\n",
    "outliers"
   ]
  },
  {
   "cell_type": "code",
   "execution_count": 11,
   "id": "44d990c4-a58b-4380-ba15-cc21643dbf9a",
   "metadata": {
    "execution": {
     "iopub.execute_input": "2024-02-09T15:45:07.964614Z",
     "iopub.status.busy": "2024-02-09T15:45:07.964318Z",
     "iopub.status.idle": "2024-02-09T15:45:14.278237Z",
     "shell.execute_reply": "2024-02-09T15:45:14.277729Z"
    }
   },
   "outputs": [],
   "source": [
    "# Cache global non-robust residuals into trainee\n",
    "t.react_into_trainee(residuals=True)\n",
    "\n",
    "# Get the case_feature_residual_convictions, influential_cases and boundary_cases\n",
    "details = {'robust_residuals': True,\n",
    "           'global_case_feature_residual_convictions': True, \n",
    "           'local_case_feature_residual_convictions': True}\n",
    "\n",
    "# Specify outlier cases\n",
    "outliers_indices = outliers[['.session', '.session_training_index']].values\n",
    "\n",
    "# React to get the details of each case\n",
    "results = t.react(case_indices=outliers_indices, \n",
    "                  preserve_feature_values=df.columns.tolist(), \n",
    "                  leave_case_out=True, \n",
    "                  details=details)"
   ]
  },
  {
   "cell_type": "code",
   "execution_count": 12,
   "id": "4faf2ab7-c86c-47a8-9707-bdb2dcf191cb",
   "metadata": {
    "execution": {
     "iopub.execute_input": "2024-02-09T15:45:14.280806Z",
     "iopub.status.busy": "2024-02-09T15:45:14.280418Z",
     "iopub.status.idle": "2024-02-09T15:45:14.284889Z",
     "shell.execute_reply": "2024-02-09T15:45:14.284485Z"
    }
   },
   "outputs": [],
   "source": [
    "# Extract the global and local case feature residual convictions\n",
    "global_case_feature_residual_convictions = pd.DataFrame(results['details']['global_case_feature_residual_convictions'])[df.columns.tolist()]\n",
    "local_case_feature_residual_convictions = pd.DataFrame(results['details']['local_case_feature_residual_convictions'])[df.columns.tolist()]"
   ]
  },
  {
   "cell_type": "code",
   "execution_count": 13,
   "id": "3b45f0b1-fe30-4146-9dbf-90e1efd32645",
   "metadata": {
    "execution": {
     "iopub.execute_input": "2024-02-09T15:45:14.286699Z",
     "iopub.status.busy": "2024-02-09T15:45:14.286399Z",
     "iopub.status.idle": "2024-02-09T15:45:14.311199Z",
     "shell.execute_reply": "2024-02-09T15:45:14.310761Z"
    }
   },
   "outputs": [
    {
     "data": {
      "application/vnd.plotly.v1+json": {
       "config": {
        "plotlyServerURL": "https://plot.ly"
       },
       "data": [
        {
         "coloraxis": "coloraxis",
         "hovertemplate": "Conviction=%{z}",
         "name": "Outliers",
         "text": [
          [
           "38",
           " Federal-gov",
           "37683",
           " Prof-school",
           "15",
           " Never-married",
           " Prof-specialty",
           " Not-in-family",
           " Asian-Pac-Islander",
           " Female",
           "99999",
           "0",
           "57",
           " Canada",
           " >50K",
           "0.05975203638168594",
           "545",
           "baba7666-8dac-40ae-a565-3e2642d0ef01",
           "37.95641170316296",
           "outlier"
          ],
          [
           "54",
           " Self-emp-not-inc",
           "269068",
           " Prof-school",
           "15",
           " Married-civ-spouse",
           " Prof-specialty",
           " Husband",
           " Asian-Pac-Islander",
           " Male",
           "99999",
           "0",
           "50",
           " Philippines",
           " >50K",
           "0.078857249688605",
           "453",
           "baba7666-8dac-40ae-a565-3e2642d0ef01",
           "31.899997087151682",
           "outlier"
          ],
          [
           "36",
           " Self-emp-inc",
           "216711",
           " HS-grad",
           "9",
           " Married-civ-spouse",
           " Exec-managerial",
           " Husband",
           " White",
           " Male",
           "99999",
           "0",
           "50",
           " ?",
           " >50K",
           "0.09340770948646474",
           "856",
           "baba7666-8dac-40ae-a565-3e2642d0ef01",
           "28.93432084437049",
           "outlier"
          ],
          [
           "27",
           " Private",
           "211032",
           " Preschool",
           "1",
           " Married-civ-spouse",
           " Farming-fishing",
           " Other-relative",
           " White",
           " Male",
           "41310",
           "0",
           "24",
           " Mexico",
           " <=50K",
           "0.0944270919604138",
           "2",
           "baba7666-8dac-40ae-a565-3e2642d0ef01",
           "29.202523488752945",
           "outlier"
          ],
          [
           "49",
           " Self-emp-not-inc",
           "43348",
           " Doctorate",
           "16",
           " Never-married",
           " Prof-specialty",
           " Not-in-family",
           " White",
           " Male",
           "99999",
           "0",
           "70",
           " United-States",
           " >50K",
           "0.09750513140084328",
           "416",
           "baba7666-8dac-40ae-a565-3e2642d0ef01",
           "28.16235791892937",
           "outlier"
          ]
         ],
         "texttemplate": "%{text}",
         "type": "heatmap",
         "x": [
          "age",
          "workclass",
          "fnlwgt",
          "education",
          "education-num",
          "marital-status",
          "occupation",
          "relationship",
          "race",
          "sex",
          "capital-gain",
          "capital-loss",
          "hours-per-week",
          "native-country",
          "target"
         ],
         "xgap": 3,
         "y": [
          0,
          1,
          2,
          3,
          4
         ],
         "ygap": 3,
         "z": [
          [
           1.42141859874159,
           0.5497812820807547,
           0.5924264752181309,
           0.6971540990348369,
           0.6936569070065998,
           0.5284259384108684,
           1.209988104121449,
           0.5125531449663095,
           0.17063709652754236,
           0.23866839514488283,
           0.09818900518476997,
           4.537264666508886,
           1.0181588616632835,
           0.2663045213617614,
           0.6192949421599
          ],
          [
           0.7019532286140608,
           0.7474500249491809,
           0.621246807164525,
           0.7201265125322974,
           0.7246212958841771,
           1.0001289078247833,
           1.3499396051491717,
           0.8145177881518504,
           0.14276136163142236,
           0.6075135474547959,
           0.09741279975262956,
           2.942923348180888,
           2.423763900802415,
           0.27828072721673025,
           0.6248449869789972
          ],
          [
           0.8634222338413505,
           0.5106119188248759,
           1.1153670299060807,
           0.6469171709800365,
           0.7133110710750428,
           1.7953109188988319,
           0.961102680497289,
           1.8579229929192103,
           0.9554593750270833,
           1.1186180236394068,
           0.02382110940251821,
           3.401822548720853,
           2.342530582426335,
           0.2296024587786422,
           2.0438409239525286
          ],
          [
           1.1848008649888442,
           1.8197849111512439,
           1.6029230401810877,
           0.5957567009326431,
           0.499581754918836,
           0.8256849463985241,
           0.8782730612625266,
           0.6128416320023813,
           2.1559519225029127,
           1.4506291415772314,
           0.008478105094535658,
           2.478483829002624,
           0.26023041747468834,
           0.32448161372280787,
           0.30962851899811134
          ],
          [
           1.9153977258922266,
           0.7258320576496246,
           0.602567385071799,
           0.5877797558631094,
           0.5224848083857027,
           0.36625736129076164,
           0.963010364802303,
           0.41111777676561795,
           0.762971078218101,
           1.2626036568968475,
           0.07710178204421975,
           5.110745156377624,
           0.46536147839846936,
           0.8624392233433038,
           0.7813699619423428
          ]
         ]
        }
       ],
       "layout": {
        "coloraxis": {
         "cmax": 5,
         "cmin": 0,
         "colorbar": {
          "ticktext": [
           "0",
           "0.5",
           "1",
           "1.5",
           "2",
           "2.5",
           "3",
           "3.5",
           "4",
           "4.5",
           "≥5"
          ],
          "tickvals": [
           0,
           0.5,
           1,
           1.5,
           2,
           2.5,
           3,
           3.5,
           4,
           4.5,
           5
          ],
          "title": {
           "text": "Conviction"
          }
         },
         "colorscale": [
          [
           0,
           "rgb(103,0,31)"
          ],
          [
           0.2,
           "rgb(247, 247, 247)"
          ],
          [
           0.4,
           "rgb(67,147,195)"
          ],
          [
           1,
           "rgb(5,48,97)"
          ]
         ]
        },
        "template": {
         "data": {
          "bar": [
           {
            "error_x": {
             "color": "#2a3f5f"
            },
            "error_y": {
             "color": "#2a3f5f"
            },
            "marker": {
             "line": {
              "color": "#E5ECF6",
              "width": 0.5
             },
             "pattern": {
              "fillmode": "overlay",
              "size": 10,
              "solidity": 0.2
             }
            },
            "type": "bar"
           }
          ],
          "barpolar": [
           {
            "marker": {
             "line": {
              "color": "#E5ECF6",
              "width": 0.5
             },
             "pattern": {
              "fillmode": "overlay",
              "size": 10,
              "solidity": 0.2
             }
            },
            "type": "barpolar"
           }
          ],
          "carpet": [
           {
            "aaxis": {
             "endlinecolor": "#2a3f5f",
             "gridcolor": "white",
             "linecolor": "white",
             "minorgridcolor": "white",
             "startlinecolor": "#2a3f5f"
            },
            "baxis": {
             "endlinecolor": "#2a3f5f",
             "gridcolor": "white",
             "linecolor": "white",
             "minorgridcolor": "white",
             "startlinecolor": "#2a3f5f"
            },
            "type": "carpet"
           }
          ],
          "choropleth": [
           {
            "colorbar": {
             "outlinewidth": 0,
             "ticks": ""
            },
            "type": "choropleth"
           }
          ],
          "contour": [
           {
            "colorbar": {
             "outlinewidth": 0,
             "ticks": ""
            },
            "colorscale": [
             [
              0,
              "#0d0887"
             ],
             [
              0.1111111111111111,
              "#46039f"
             ],
             [
              0.2222222222222222,
              "#7201a8"
             ],
             [
              0.3333333333333333,
              "#9c179e"
             ],
             [
              0.4444444444444444,
              "#bd3786"
             ],
             [
              0.5555555555555556,
              "#d8576b"
             ],
             [
              0.6666666666666666,
              "#ed7953"
             ],
             [
              0.7777777777777778,
              "#fb9f3a"
             ],
             [
              0.8888888888888888,
              "#fdca26"
             ],
             [
              1,
              "#f0f921"
             ]
            ],
            "type": "contour"
           }
          ],
          "contourcarpet": [
           {
            "colorbar": {
             "outlinewidth": 0,
             "ticks": ""
            },
            "type": "contourcarpet"
           }
          ],
          "heatmap": [
           {
            "colorbar": {
             "outlinewidth": 0,
             "ticks": ""
            },
            "colorscale": [
             [
              0,
              "#0d0887"
             ],
             [
              0.1111111111111111,
              "#46039f"
             ],
             [
              0.2222222222222222,
              "#7201a8"
             ],
             [
              0.3333333333333333,
              "#9c179e"
             ],
             [
              0.4444444444444444,
              "#bd3786"
             ],
             [
              0.5555555555555556,
              "#d8576b"
             ],
             [
              0.6666666666666666,
              "#ed7953"
             ],
             [
              0.7777777777777778,
              "#fb9f3a"
             ],
             [
              0.8888888888888888,
              "#fdca26"
             ],
             [
              1,
              "#f0f921"
             ]
            ],
            "type": "heatmap"
           }
          ],
          "heatmapgl": [
           {
            "colorbar": {
             "outlinewidth": 0,
             "ticks": ""
            },
            "colorscale": [
             [
              0,
              "#0d0887"
             ],
             [
              0.1111111111111111,
              "#46039f"
             ],
             [
              0.2222222222222222,
              "#7201a8"
             ],
             [
              0.3333333333333333,
              "#9c179e"
             ],
             [
              0.4444444444444444,
              "#bd3786"
             ],
             [
              0.5555555555555556,
              "#d8576b"
             ],
             [
              0.6666666666666666,
              "#ed7953"
             ],
             [
              0.7777777777777778,
              "#fb9f3a"
             ],
             [
              0.8888888888888888,
              "#fdca26"
             ],
             [
              1,
              "#f0f921"
             ]
            ],
            "type": "heatmapgl"
           }
          ],
          "histogram": [
           {
            "marker": {
             "pattern": {
              "fillmode": "overlay",
              "size": 10,
              "solidity": 0.2
             }
            },
            "type": "histogram"
           }
          ],
          "histogram2d": [
           {
            "colorbar": {
             "outlinewidth": 0,
             "ticks": ""
            },
            "colorscale": [
             [
              0,
              "#0d0887"
             ],
             [
              0.1111111111111111,
              "#46039f"
             ],
             [
              0.2222222222222222,
              "#7201a8"
             ],
             [
              0.3333333333333333,
              "#9c179e"
             ],
             [
              0.4444444444444444,
              "#bd3786"
             ],
             [
              0.5555555555555556,
              "#d8576b"
             ],
             [
              0.6666666666666666,
              "#ed7953"
             ],
             [
              0.7777777777777778,
              "#fb9f3a"
             ],
             [
              0.8888888888888888,
              "#fdca26"
             ],
             [
              1,
              "#f0f921"
             ]
            ],
            "type": "histogram2d"
           }
          ],
          "histogram2dcontour": [
           {
            "colorbar": {
             "outlinewidth": 0,
             "ticks": ""
            },
            "colorscale": [
             [
              0,
              "#0d0887"
             ],
             [
              0.1111111111111111,
              "#46039f"
             ],
             [
              0.2222222222222222,
              "#7201a8"
             ],
             [
              0.3333333333333333,
              "#9c179e"
             ],
             [
              0.4444444444444444,
              "#bd3786"
             ],
             [
              0.5555555555555556,
              "#d8576b"
             ],
             [
              0.6666666666666666,
              "#ed7953"
             ],
             [
              0.7777777777777778,
              "#fb9f3a"
             ],
             [
              0.8888888888888888,
              "#fdca26"
             ],
             [
              1,
              "#f0f921"
             ]
            ],
            "type": "histogram2dcontour"
           }
          ],
          "mesh3d": [
           {
            "colorbar": {
             "outlinewidth": 0,
             "ticks": ""
            },
            "type": "mesh3d"
           }
          ],
          "parcoords": [
           {
            "line": {
             "colorbar": {
              "outlinewidth": 0,
              "ticks": ""
             }
            },
            "type": "parcoords"
           }
          ],
          "pie": [
           {
            "automargin": true,
            "type": "pie"
           }
          ],
          "scatter": [
           {
            "fillpattern": {
             "fillmode": "overlay",
             "size": 10,
             "solidity": 0.2
            },
            "type": "scatter"
           }
          ],
          "scatter3d": [
           {
            "line": {
             "colorbar": {
              "outlinewidth": 0,
              "ticks": ""
             }
            },
            "marker": {
             "colorbar": {
              "outlinewidth": 0,
              "ticks": ""
             }
            },
            "type": "scatter3d"
           }
          ],
          "scattercarpet": [
           {
            "marker": {
             "colorbar": {
              "outlinewidth": 0,
              "ticks": ""
             }
            },
            "type": "scattercarpet"
           }
          ],
          "scattergeo": [
           {
            "marker": {
             "colorbar": {
              "outlinewidth": 0,
              "ticks": ""
             }
            },
            "type": "scattergeo"
           }
          ],
          "scattergl": [
           {
            "marker": {
             "colorbar": {
              "outlinewidth": 0,
              "ticks": ""
             }
            },
            "type": "scattergl"
           }
          ],
          "scattermapbox": [
           {
            "marker": {
             "colorbar": {
              "outlinewidth": 0,
              "ticks": ""
             }
            },
            "type": "scattermapbox"
           }
          ],
          "scatterpolar": [
           {
            "marker": {
             "colorbar": {
              "outlinewidth": 0,
              "ticks": ""
             }
            },
            "type": "scatterpolar"
           }
          ],
          "scatterpolargl": [
           {
            "marker": {
             "colorbar": {
              "outlinewidth": 0,
              "ticks": ""
             }
            },
            "type": "scatterpolargl"
           }
          ],
          "scatterternary": [
           {
            "marker": {
             "colorbar": {
              "outlinewidth": 0,
              "ticks": ""
             }
            },
            "type": "scatterternary"
           }
          ],
          "surface": [
           {
            "colorbar": {
             "outlinewidth": 0,
             "ticks": ""
            },
            "colorscale": [
             [
              0,
              "#0d0887"
             ],
             [
              0.1111111111111111,
              "#46039f"
             ],
             [
              0.2222222222222222,
              "#7201a8"
             ],
             [
              0.3333333333333333,
              "#9c179e"
             ],
             [
              0.4444444444444444,
              "#bd3786"
             ],
             [
              0.5555555555555556,
              "#d8576b"
             ],
             [
              0.6666666666666666,
              "#ed7953"
             ],
             [
              0.7777777777777778,
              "#fb9f3a"
             ],
             [
              0.8888888888888888,
              "#fdca26"
             ],
             [
              1,
              "#f0f921"
             ]
            ],
            "type": "surface"
           }
          ],
          "table": [
           {
            "cells": {
             "fill": {
              "color": "#EBF0F8"
             },
             "line": {
              "color": "white"
             }
            },
            "header": {
             "fill": {
              "color": "#C8D4E3"
             },
             "line": {
              "color": "white"
             }
            },
            "type": "table"
           }
          ]
         },
         "layout": {
          "annotationdefaults": {
           "arrowcolor": "#2a3f5f",
           "arrowhead": 0,
           "arrowwidth": 1
          },
          "autotypenumbers": "strict",
          "coloraxis": {
           "colorbar": {
            "outlinewidth": 0,
            "ticks": ""
           }
          },
          "colorscale": {
           "diverging": [
            [
             0,
             "#8e0152"
            ],
            [
             0.1,
             "#c51b7d"
            ],
            [
             0.2,
             "#de77ae"
            ],
            [
             0.3,
             "#f1b6da"
            ],
            [
             0.4,
             "#fde0ef"
            ],
            [
             0.5,
             "#f7f7f7"
            ],
            [
             0.6,
             "#e6f5d0"
            ],
            [
             0.7,
             "#b8e186"
            ],
            [
             0.8,
             "#7fbc41"
            ],
            [
             0.9,
             "#4d9221"
            ],
            [
             1,
             "#276419"
            ]
           ],
           "sequential": [
            [
             0,
             "#0d0887"
            ],
            [
             0.1111111111111111,
             "#46039f"
            ],
            [
             0.2222222222222222,
             "#7201a8"
            ],
            [
             0.3333333333333333,
             "#9c179e"
            ],
            [
             0.4444444444444444,
             "#bd3786"
            ],
            [
             0.5555555555555556,
             "#d8576b"
            ],
            [
             0.6666666666666666,
             "#ed7953"
            ],
            [
             0.7777777777777778,
             "#fb9f3a"
            ],
            [
             0.8888888888888888,
             "#fdca26"
            ],
            [
             1,
             "#f0f921"
            ]
           ],
           "sequentialminus": [
            [
             0,
             "#0d0887"
            ],
            [
             0.1111111111111111,
             "#46039f"
            ],
            [
             0.2222222222222222,
             "#7201a8"
            ],
            [
             0.3333333333333333,
             "#9c179e"
            ],
            [
             0.4444444444444444,
             "#bd3786"
            ],
            [
             0.5555555555555556,
             "#d8576b"
            ],
            [
             0.6666666666666666,
             "#ed7953"
            ],
            [
             0.7777777777777778,
             "#fb9f3a"
            ],
            [
             0.8888888888888888,
             "#fdca26"
            ],
            [
             1,
             "#f0f921"
            ]
           ]
          },
          "colorway": [
           "#636efa",
           "#EF553B",
           "#00cc96",
           "#ab63fa",
           "#FFA15A",
           "#19d3f3",
           "#FF6692",
           "#B6E880",
           "#FF97FF",
           "#FECB52"
          ],
          "font": {
           "color": "#2a3f5f"
          },
          "geo": {
           "bgcolor": "white",
           "lakecolor": "white",
           "landcolor": "#E5ECF6",
           "showlakes": true,
           "showland": true,
           "subunitcolor": "white"
          },
          "hoverlabel": {
           "align": "left"
          },
          "hovermode": "closest",
          "mapbox": {
           "style": "light"
          },
          "paper_bgcolor": "white",
          "plot_bgcolor": "#E5ECF6",
          "polar": {
           "angularaxis": {
            "gridcolor": "white",
            "linecolor": "white",
            "ticks": ""
           },
           "bgcolor": "#E5ECF6",
           "radialaxis": {
            "gridcolor": "white",
            "linecolor": "white",
            "ticks": ""
           }
          },
          "scene": {
           "xaxis": {
            "backgroundcolor": "#E5ECF6",
            "gridcolor": "white",
            "gridwidth": 2,
            "linecolor": "white",
            "showbackground": true,
            "ticks": "",
            "zerolinecolor": "white"
           },
           "yaxis": {
            "backgroundcolor": "#E5ECF6",
            "gridcolor": "white",
            "gridwidth": 2,
            "linecolor": "white",
            "showbackground": true,
            "ticks": "",
            "zerolinecolor": "white"
           },
           "zaxis": {
            "backgroundcolor": "#E5ECF6",
            "gridcolor": "white",
            "gridwidth": 2,
            "linecolor": "white",
            "showbackground": true,
            "ticks": "",
            "zerolinecolor": "white"
           }
          },
          "shapedefaults": {
           "line": {
            "color": "#2a3f5f"
           }
          },
          "ternary": {
           "aaxis": {
            "gridcolor": "white",
            "linecolor": "white",
            "ticks": ""
           },
           "baxis": {
            "gridcolor": "white",
            "linecolor": "white",
            "ticks": ""
           },
           "bgcolor": "#E5ECF6",
           "caxis": {
            "gridcolor": "white",
            "linecolor": "white",
            "ticks": ""
           }
          },
          "title": {
           "x": 0.05
          },
          "xaxis": {
           "automargin": true,
           "gridcolor": "white",
           "linecolor": "white",
           "ticks": "",
           "title": {
            "standoff": 15
           },
           "zerolinecolor": "white",
           "zerolinewidth": 2
          },
          "yaxis": {
           "automargin": true,
           "gridcolor": "white",
           "linecolor": "white",
           "ticks": "",
           "title": {
            "standoff": 15
           },
           "zerolinecolor": "white",
           "zerolinewidth": 2
          }
         }
        },
        "title": {
         "text": "Outliers"
        },
        "xaxis": {
         "anchor": "y",
         "domain": [
          0,
          1
         ],
         "title": {
          "text": "Feature"
         }
        },
        "yaxis": {
         "anchor": "x",
         "autorange": "reversed",
         "domain": [
          0,
          1
         ],
         "title": {
          "text": "Residual Conviction"
         }
        }
       }
      }
     },
     "metadata": {},
     "output_type": "display_data"
    }
   ],
   "source": [
    "plot_anomalies(outliers, local_case_feature_residual_convictions, title=\"Outliers\", yaxis_title=\"Residual Conviction\")"
   ]
  },
  {
   "attachments": {},
   "cell_type": "markdown",
   "id": "5d17882e-9c76-46c2-b772-5b4bd1c8e8a4",
   "metadata": {},
   "source": [
    "The heat map explains the reason why each case was an outlier. The darker the shade of red, the higher the contribution to the case being an outlier. "
   ]
  },
  {
   "attachments": {},
   "cell_type": "markdown",
   "id": "4f45902d-a272-4ff1-9953-a9777d64780a",
   "metadata": {
    "tags": []
   },
   "source": [
    "## Inliers\n",
    "\n",
    "Let’s examine a few inlier cases. Inliers are cases which are too similar to other cases and do not follow the expected distribution. Inliers can be an indication of a fraudulent case that is “too good to be true”. "
   ]
  },
  {
   "cell_type": "code",
   "execution_count": 14,
   "id": "bd8e4a82-fd22-4def-9b9b-5d9d1be5d263",
   "metadata": {
    "execution": {
     "iopub.execute_input": "2024-02-09T15:45:14.313110Z",
     "iopub.status.busy": "2024-02-09T15:45:14.312932Z",
     "iopub.status.idle": "2024-02-09T15:45:14.325559Z",
     "shell.execute_reply": "2024-02-09T15:45:14.325127Z"
    }
   },
   "outputs": [
    {
     "data": {
      "text/html": [
       "<div>\n",
       "<style scoped>\n",
       "    .dataframe tbody tr th:only-of-type {\n",
       "        vertical-align: middle;\n",
       "    }\n",
       "\n",
       "    .dataframe tbody tr th {\n",
       "        vertical-align: top;\n",
       "    }\n",
       "\n",
       "    .dataframe thead th {\n",
       "        text-align: right;\n",
       "    }\n",
       "</style>\n",
       "<table border=\"1\" class=\"dataframe\">\n",
       "  <thead>\n",
       "    <tr style=\"text-align: right;\">\n",
       "      <th></th>\n",
       "      <th>age</th>\n",
       "      <th>workclass</th>\n",
       "      <th>fnlwgt</th>\n",
       "      <th>education</th>\n",
       "      <th>education-num</th>\n",
       "      <th>marital-status</th>\n",
       "      <th>occupation</th>\n",
       "      <th>relationship</th>\n",
       "      <th>race</th>\n",
       "      <th>sex</th>\n",
       "      <th>capital-gain</th>\n",
       "      <th>capital-loss</th>\n",
       "      <th>hours-per-week</th>\n",
       "      <th>native-country</th>\n",
       "      <th>target</th>\n",
       "      <th>familiarity_conviction_addition</th>\n",
       "      <th>.session_training_index</th>\n",
       "      <th>.session</th>\n",
       "      <th>distance_contribution</th>\n",
       "      <th>category</th>\n",
       "    </tr>\n",
       "  </thead>\n",
       "  <tbody>\n",
       "    <tr>\n",
       "      <th>0</th>\n",
       "      <td>37</td>\n",
       "      <td>Private</td>\n",
       "      <td>184556</td>\n",
       "      <td>Some-college</td>\n",
       "      <td>10</td>\n",
       "      <td>Divorced</td>\n",
       "      <td>Tech-support</td>\n",
       "      <td>Unmarried</td>\n",
       "      <td>White</td>\n",
       "      <td>Female</td>\n",
       "      <td>0</td>\n",
       "      <td>0</td>\n",
       "      <td>40</td>\n",
       "      <td>United-States</td>\n",
       "      <td>&lt;=50K</td>\n",
       "      <td>0.144743</td>\n",
       "      <td>963</td>\n",
       "      <td>baba7666-8dac-40ae-a565-3e2642d0ef01</td>\n",
       "      <td>1.156757</td>\n",
       "      <td>inlier</td>\n",
       "    </tr>\n",
       "    <tr>\n",
       "      <th>1</th>\n",
       "      <td>36</td>\n",
       "      <td>Private</td>\n",
       "      <td>182013</td>\n",
       "      <td>Some-college</td>\n",
       "      <td>10</td>\n",
       "      <td>Divorced</td>\n",
       "      <td>Tech-support</td>\n",
       "      <td>Unmarried</td>\n",
       "      <td>White</td>\n",
       "      <td>Female</td>\n",
       "      <td>0</td>\n",
       "      <td>0</td>\n",
       "      <td>40</td>\n",
       "      <td>United-States</td>\n",
       "      <td>&lt;=50K</td>\n",
       "      <td>0.145409</td>\n",
       "      <td>61</td>\n",
       "      <td>baba7666-8dac-40ae-a565-3e2642d0ef01</td>\n",
       "      <td>1.160345</td>\n",
       "      <td>inlier</td>\n",
       "    </tr>\n",
       "    <tr>\n",
       "      <th>2</th>\n",
       "      <td>37</td>\n",
       "      <td>Private</td>\n",
       "      <td>179468</td>\n",
       "      <td>HS-grad</td>\n",
       "      <td>9</td>\n",
       "      <td>Married-civ-spouse</td>\n",
       "      <td>Craft-repair</td>\n",
       "      <td>Husband</td>\n",
       "      <td>White</td>\n",
       "      <td>Male</td>\n",
       "      <td>0</td>\n",
       "      <td>0</td>\n",
       "      <td>40</td>\n",
       "      <td>United-States</td>\n",
       "      <td>&lt;=50K</td>\n",
       "      <td>0.169928</td>\n",
       "      <td>565</td>\n",
       "      <td>baba7666-8dac-40ae-a565-3e2642d0ef01</td>\n",
       "      <td>1.146730</td>\n",
       "      <td>inlier</td>\n",
       "    </tr>\n",
       "    <tr>\n",
       "      <th>3</th>\n",
       "      <td>38</td>\n",
       "      <td>Private</td>\n",
       "      <td>159179</td>\n",
       "      <td>HS-grad</td>\n",
       "      <td>9</td>\n",
       "      <td>Married-civ-spouse</td>\n",
       "      <td>Craft-repair</td>\n",
       "      <td>Husband</td>\n",
       "      <td>White</td>\n",
       "      <td>Male</td>\n",
       "      <td>0</td>\n",
       "      <td>0</td>\n",
       "      <td>40</td>\n",
       "      <td>United-States</td>\n",
       "      <td>&lt;=50K</td>\n",
       "      <td>0.172387</td>\n",
       "      <td>111</td>\n",
       "      <td>baba7666-8dac-40ae-a565-3e2642d0ef01</td>\n",
       "      <td>1.165582</td>\n",
       "      <td>inlier</td>\n",
       "    </tr>\n",
       "    <tr>\n",
       "      <th>4</th>\n",
       "      <td>23</td>\n",
       "      <td>Private</td>\n",
       "      <td>186014</td>\n",
       "      <td>Some-college</td>\n",
       "      <td>10</td>\n",
       "      <td>Never-married</td>\n",
       "      <td>Adm-clerical</td>\n",
       "      <td>Own-child</td>\n",
       "      <td>White</td>\n",
       "      <td>Female</td>\n",
       "      <td>0</td>\n",
       "      <td>0</td>\n",
       "      <td>15</td>\n",
       "      <td>United-States</td>\n",
       "      <td>&lt;=50K</td>\n",
       "      <td>0.182321</td>\n",
       "      <td>849</td>\n",
       "      <td>baba7666-8dac-40ae-a565-3e2642d0ef01</td>\n",
       "      <td>1.287704</td>\n",
       "      <td>inlier</td>\n",
       "    </tr>\n",
       "    <tr>\n",
       "      <th>...</th>\n",
       "      <td>...</td>\n",
       "      <td>...</td>\n",
       "      <td>...</td>\n",
       "      <td>...</td>\n",
       "      <td>...</td>\n",
       "      <td>...</td>\n",
       "      <td>...</td>\n",
       "      <td>...</td>\n",
       "      <td>...</td>\n",
       "      <td>...</td>\n",
       "      <td>...</td>\n",
       "      <td>...</td>\n",
       "      <td>...</td>\n",
       "      <td>...</td>\n",
       "      <td>...</td>\n",
       "      <td>...</td>\n",
       "      <td>...</td>\n",
       "      <td>...</td>\n",
       "      <td>...</td>\n",
       "      <td>...</td>\n",
       "    </tr>\n",
       "    <tr>\n",
       "      <th>135</th>\n",
       "      <td>18</td>\n",
       "      <td>?</td>\n",
       "      <td>171088</td>\n",
       "      <td>Some-college</td>\n",
       "      <td>10</td>\n",
       "      <td>Never-married</td>\n",
       "      <td>?</td>\n",
       "      <td>Own-child</td>\n",
       "      <td>White</td>\n",
       "      <td>Female</td>\n",
       "      <td>0</td>\n",
       "      <td>0</td>\n",
       "      <td>40</td>\n",
       "      <td>United-States</td>\n",
       "      <td>&lt;=50K</td>\n",
       "      <td>0.731097</td>\n",
       "      <td>335</td>\n",
       "      <td>baba7666-8dac-40ae-a565-3e2642d0ef01</td>\n",
       "      <td>3.327584</td>\n",
       "      <td>inlier</td>\n",
       "    </tr>\n",
       "    <tr>\n",
       "      <th>136</th>\n",
       "      <td>35</td>\n",
       "      <td>Private</td>\n",
       "      <td>160910</td>\n",
       "      <td>Some-college</td>\n",
       "      <td>10</td>\n",
       "      <td>Married-civ-spouse</td>\n",
       "      <td>Sales</td>\n",
       "      <td>Husband</td>\n",
       "      <td>White</td>\n",
       "      <td>Male</td>\n",
       "      <td>0</td>\n",
       "      <td>0</td>\n",
       "      <td>50</td>\n",
       "      <td>United-States</td>\n",
       "      <td>&lt;=50K</td>\n",
       "      <td>0.735100</td>\n",
       "      <td>702</td>\n",
       "      <td>baba7666-8dac-40ae-a565-3e2642d0ef01</td>\n",
       "      <td>3.282702</td>\n",
       "      <td>inlier</td>\n",
       "    </tr>\n",
       "    <tr>\n",
       "      <th>137</th>\n",
       "      <td>44</td>\n",
       "      <td>Private</td>\n",
       "      <td>98211</td>\n",
       "      <td>Bachelors</td>\n",
       "      <td>13</td>\n",
       "      <td>Married-civ-spouse</td>\n",
       "      <td>Exec-managerial</td>\n",
       "      <td>Husband</td>\n",
       "      <td>White</td>\n",
       "      <td>Male</td>\n",
       "      <td>0</td>\n",
       "      <td>0</td>\n",
       "      <td>40</td>\n",
       "      <td>United-States</td>\n",
       "      <td>&gt;50K</td>\n",
       "      <td>0.740318</td>\n",
       "      <td>241</td>\n",
       "      <td>baba7666-8dac-40ae-a565-3e2642d0ef01</td>\n",
       "      <td>3.307519</td>\n",
       "      <td>inlier</td>\n",
       "    </tr>\n",
       "    <tr>\n",
       "      <th>138</th>\n",
       "      <td>54</td>\n",
       "      <td>Local-gov</td>\n",
       "      <td>279452</td>\n",
       "      <td>HS-grad</td>\n",
       "      <td>9</td>\n",
       "      <td>Married-civ-spouse</td>\n",
       "      <td>Farming-fishing</td>\n",
       "      <td>Husband</td>\n",
       "      <td>White</td>\n",
       "      <td>Male</td>\n",
       "      <td>0</td>\n",
       "      <td>0</td>\n",
       "      <td>40</td>\n",
       "      <td>United-States</td>\n",
       "      <td>&lt;=50K</td>\n",
       "      <td>0.740868</td>\n",
       "      <td>630</td>\n",
       "      <td>baba7666-8dac-40ae-a565-3e2642d0ef01</td>\n",
       "      <td>3.312440</td>\n",
       "      <td>inlier</td>\n",
       "    </tr>\n",
       "    <tr>\n",
       "      <th>139</th>\n",
       "      <td>29</td>\n",
       "      <td>Private</td>\n",
       "      <td>406662</td>\n",
       "      <td>HS-grad</td>\n",
       "      <td>9</td>\n",
       "      <td>Never-married</td>\n",
       "      <td>Handlers-cleaners</td>\n",
       "      <td>Not-in-family</td>\n",
       "      <td>White</td>\n",
       "      <td>Male</td>\n",
       "      <td>0</td>\n",
       "      <td>0</td>\n",
       "      <td>40</td>\n",
       "      <td>United-States</td>\n",
       "      <td>&lt;=50K</td>\n",
       "      <td>0.747909</td>\n",
       "      <td>822</td>\n",
       "      <td>baba7666-8dac-40ae-a565-3e2642d0ef01</td>\n",
       "      <td>3.309378</td>\n",
       "      <td>inlier</td>\n",
       "    </tr>\n",
       "  </tbody>\n",
       "</table>\n",
       "<p>140 rows × 20 columns</p>\n",
       "</div>"
      ],
      "text/plain": [
       "     age   workclass  fnlwgt      education  education-num  \\\n",
       "0     37     Private  184556   Some-college             10   \n",
       "1     36     Private  182013   Some-college             10   \n",
       "2     37     Private  179468        HS-grad              9   \n",
       "3     38     Private  159179        HS-grad              9   \n",
       "4     23     Private  186014   Some-college             10   \n",
       "..   ...         ...     ...            ...            ...   \n",
       "135   18           ?  171088   Some-college             10   \n",
       "136   35     Private  160910   Some-college             10   \n",
       "137   44     Private   98211      Bachelors             13   \n",
       "138   54   Local-gov  279452        HS-grad              9   \n",
       "139   29     Private  406662        HS-grad              9   \n",
       "\n",
       "          marital-status          occupation    relationship    race      sex  \\\n",
       "0               Divorced        Tech-support       Unmarried   White   Female   \n",
       "1               Divorced        Tech-support       Unmarried   White   Female   \n",
       "2     Married-civ-spouse        Craft-repair         Husband   White     Male   \n",
       "3     Married-civ-spouse        Craft-repair         Husband   White     Male   \n",
       "4          Never-married        Adm-clerical       Own-child   White   Female   \n",
       "..                   ...                 ...             ...     ...      ...   \n",
       "135        Never-married                   ?       Own-child   White   Female   \n",
       "136   Married-civ-spouse               Sales         Husband   White     Male   \n",
       "137   Married-civ-spouse     Exec-managerial         Husband   White     Male   \n",
       "138   Married-civ-spouse     Farming-fishing         Husband   White     Male   \n",
       "139        Never-married   Handlers-cleaners   Not-in-family   White     Male   \n",
       "\n",
       "     capital-gain  capital-loss  hours-per-week  native-country  target  \\\n",
       "0               0             0              40   United-States   <=50K   \n",
       "1               0             0              40   United-States   <=50K   \n",
       "2               0             0              40   United-States   <=50K   \n",
       "3               0             0              40   United-States   <=50K   \n",
       "4               0             0              15   United-States   <=50K   \n",
       "..            ...           ...             ...             ...     ...   \n",
       "135             0             0              40   United-States   <=50K   \n",
       "136             0             0              50   United-States   <=50K   \n",
       "137             0             0              40   United-States    >50K   \n",
       "138             0             0              40   United-States   <=50K   \n",
       "139             0             0              40   United-States   <=50K   \n",
       "\n",
       "     familiarity_conviction_addition  .session_training_index  \\\n",
       "0                           0.144743                      963   \n",
       "1                           0.145409                       61   \n",
       "2                           0.169928                      565   \n",
       "3                           0.172387                      111   \n",
       "4                           0.182321                      849   \n",
       "..                               ...                      ...   \n",
       "135                         0.731097                      335   \n",
       "136                         0.735100                      702   \n",
       "137                         0.740318                      241   \n",
       "138                         0.740868                      630   \n",
       "139                         0.747909                      822   \n",
       "\n",
       "                                 .session  distance_contribution category  \n",
       "0    baba7666-8dac-40ae-a565-3e2642d0ef01               1.156757   inlier  \n",
       "1    baba7666-8dac-40ae-a565-3e2642d0ef01               1.160345   inlier  \n",
       "2    baba7666-8dac-40ae-a565-3e2642d0ef01               1.146730   inlier  \n",
       "3    baba7666-8dac-40ae-a565-3e2642d0ef01               1.165582   inlier  \n",
       "4    baba7666-8dac-40ae-a565-3e2642d0ef01               1.287704   inlier  \n",
       "..                                    ...                    ...      ...  \n",
       "135  baba7666-8dac-40ae-a565-3e2642d0ef01               3.327584   inlier  \n",
       "136  baba7666-8dac-40ae-a565-3e2642d0ef01               3.282702   inlier  \n",
       "137  baba7666-8dac-40ae-a565-3e2642d0ef01               3.307519   inlier  \n",
       "138  baba7666-8dac-40ae-a565-3e2642d0ef01               3.312440   inlier  \n",
       "139  baba7666-8dac-40ae-a565-3e2642d0ef01               3.309378   inlier  \n",
       "\n",
       "[140 rows x 20 columns]"
      ]
     },
     "execution_count": 14,
     "metadata": {},
     "output_type": "execute_result"
    }
   ],
   "source": [
    "# Get the inlier cases\n",
    "inliers = low_convicts[low_convicts['category'] == 'inlier'].reset_index(drop=True)\n",
    "inliers"
   ]
  },
  {
   "cell_type": "code",
   "execution_count": 15,
   "id": "096f14f8-2048-441f-98f0-f828104c7be4",
   "metadata": {
    "execution": {
     "iopub.execute_input": "2024-02-09T15:45:14.327412Z",
     "iopub.status.busy": "2024-02-09T15:45:14.327117Z",
     "iopub.status.idle": "2024-02-09T15:45:24.836365Z",
     "shell.execute_reply": "2024-02-09T15:45:24.835860Z"
    }
   },
   "outputs": [],
   "source": [
    "# Specify the inlier cases\n",
    "inliers_indices = inliers[['.session', '.session_training_index']].values\n",
    "\n",
    "# React to get the details of each case\n",
    "results = t.react(case_indices=inliers_indices, \n",
    "                  preserve_feature_values=df.columns.tolist(), \n",
    "                  leave_case_out=True, \n",
    "                  details=details)"
   ]
  },
  {
   "cell_type": "code",
   "execution_count": 16,
   "id": "e7fdb0be-635c-4bb0-99dd-5c8f0ede8022",
   "metadata": {
    "execution": {
     "iopub.execute_input": "2024-02-09T15:45:24.838872Z",
     "iopub.status.busy": "2024-02-09T15:45:24.838504Z",
     "iopub.status.idle": "2024-02-09T15:45:24.843391Z",
     "shell.execute_reply": "2024-02-09T15:45:24.842978Z"
    }
   },
   "outputs": [],
   "source": [
    "# Extract the global and local case feature residual convictions\n",
    "global_case_feature_residual_convictions = pd.DataFrame(results['details']['global_case_feature_residual_convictions'])[df.columns.tolist()]\n",
    "local_case_feature_residual_convictions = pd.DataFrame(results['details']['local_case_feature_residual_convictions'])[df.columns.tolist()]"
   ]
  },
  {
   "cell_type": "code",
   "execution_count": 17,
   "id": "981d6618-0d97-464b-93e8-053e51db44ad",
   "metadata": {
    "execution": {
     "iopub.execute_input": "2024-02-09T15:45:24.845061Z",
     "iopub.status.busy": "2024-02-09T15:45:24.844884Z",
     "iopub.status.idle": "2024-02-09T15:45:24.864477Z",
     "shell.execute_reply": "2024-02-09T15:45:24.864013Z"
    }
   },
   "outputs": [
    {
     "data": {
      "application/vnd.plotly.v1+json": {
       "config": {
        "plotlyServerURL": "https://plot.ly"
       },
       "data": [
        {
         "coloraxis": "coloraxis",
         "hovertemplate": "Conviction=%{z}",
         "name": "Outliers",
         "text": [
          [
           "37",
           " Private",
           "184556",
           " Some-college",
           "10",
           " Divorced",
           " Tech-support",
           " Unmarried",
           " White",
           " Female",
           "0",
           "0",
           "40",
           " United-States",
           " <=50K",
           "0.1447433929499285",
           "963",
           "baba7666-8dac-40ae-a565-3e2642d0ef01",
           "1.1567574430840972",
           "inlier"
          ],
          [
           "36",
           " Private",
           "182013",
           " Some-college",
           "10",
           " Divorced",
           " Tech-support",
           " Unmarried",
           " White",
           " Female",
           "0",
           "0",
           "40",
           " United-States",
           " <=50K",
           "0.14540865483646276",
           "61",
           "baba7666-8dac-40ae-a565-3e2642d0ef01",
           "1.160344833368858",
           "inlier"
          ],
          [
           "37",
           " Private",
           "179468",
           " HS-grad",
           "9",
           " Married-civ-spouse",
           " Craft-repair",
           " Husband",
           " White",
           " Male",
           "0",
           "0",
           "40",
           " United-States",
           " <=50K",
           "0.1699281672098321",
           "565",
           "baba7666-8dac-40ae-a565-3e2642d0ef01",
           "1.146730090751957",
           "inlier"
          ],
          [
           "38",
           " Private",
           "159179",
           " HS-grad",
           "9",
           " Married-civ-spouse",
           " Craft-repair",
           " Husband",
           " White",
           " Male",
           "0",
           "0",
           "40",
           " United-States",
           " <=50K",
           "0.172387423841593",
           "111",
           "baba7666-8dac-40ae-a565-3e2642d0ef01",
           "1.1655822146398438",
           "inlier"
          ],
          [
           "23",
           " Private",
           "186014",
           " Some-college",
           "10",
           " Never-married",
           " Adm-clerical",
           " Own-child",
           " White",
           " Female",
           "0",
           "0",
           "15",
           " United-States",
           " <=50K",
           "0.1823213383389644",
           "849",
           "baba7666-8dac-40ae-a565-3e2642d0ef01",
           "1.2877038214212142",
           "inlier"
          ]
         ],
         "texttemplate": "%{text}",
         "type": "heatmap",
         "x": [
          "age",
          "workclass",
          "fnlwgt",
          "education",
          "education-num",
          "marital-status",
          "occupation",
          "relationship",
          "race",
          "sex",
          "capital-gain",
          "capital-loss",
          "hours-per-week",
          "native-country",
          "target"
         ],
         "xgap": 3,
         "y": [
          0,
          1,
          2,
          3,
          4
         ],
         "ygap": 3,
         "z": [
          [
           2.9372887817109863,
           4.967981187294665,
           1.4352708490459711,
           2.2208801065917707,
           1.2633798535895608,
           1.0795660922921289,
           1.0774286348440745,
           1.4457541040392277,
           2.3473852744384582,
           1.2588625092973553,
           0.9491030888765659,
           2.5506847027884794,
           4.5373062024953,
           2.50972532178655,
           0.14730994973822217
          ],
          [
           2.8817183779895394,
           6.586945857727589,
           1.0233171553393199,
           1.9284196809729997,
           2.308393605542905,
           1.7213111207324672,
           0.901866162688051,
           2.189118903143339,
           3.7341901479006956,
           1.3687627701091754,
           19.929931995206992,
           12.152230256891164,
           4.5541855724178015,
           1.6932653666938835,
           0.2680135527351131
          ],
          [
           2.3411603664204534,
           2.554323936077117,
           2.2921291427532067,
           1.0195961902553417,
           1.8462725296520852,
           2.569859886958031,
           1.1667178586410774,
           1.1827691752412903,
           4.132157753855385,
           2.4908695075527554,
           1.6830403745619886,
           4.793529845846938,
           2.1965841889863134,
           3.6575115598011547,
           1.9307986766542589
          ],
          [
           2.50766756584895,
           2.3619160294944765,
           3.6664507270259934,
           0.9024776289715682,
           0.9605511788953751,
           1.9508871817058284,
           1.268351281995456,
           1.1948836423278153,
           4.067220874328384,
           2.8232912587475174,
           0.6872263592826473,
           3.4278901220865707,
           1.2215568959551388,
           4.946145648542228,
           1.138144565926366
          ],
          [
           1.5908454271411254,
           2.5916523854809363,
           2.274302247419849,
           3.413623510406305,
           0.6357484329431812,
           1.5570615292944885,
           1.3270624615354767,
           1.378007185252906,
           2.572645476729933,
           2.4305116128424102,
           1.8539954094484796,
           1.9474993100209477,
           0.588706243922107,
           1.2681104976685955,
           0.051421147081006265
          ]
         ]
        }
       ],
       "layout": {
        "coloraxis": {
         "cmax": 5,
         "cmin": 0,
         "colorbar": {
          "ticktext": [
           "0",
           "0.5",
           "1",
           "1.5",
           "2",
           "2.5",
           "3",
           "3.5",
           "4",
           "4.5",
           "≥5"
          ],
          "tickvals": [
           0,
           0.5,
           1,
           1.5,
           2,
           2.5,
           3,
           3.5,
           4,
           4.5,
           5
          ],
          "title": {
           "text": "Conviction"
          }
         },
         "colorscale": [
          [
           0,
           "rgb(103,0,31)"
          ],
          [
           0.2,
           "rgb(247, 247, 247)"
          ],
          [
           0.4,
           "rgb(67,147,195)"
          ],
          [
           1,
           "rgb(5,48,97)"
          ]
         ]
        },
        "template": {
         "data": {
          "bar": [
           {
            "error_x": {
             "color": "#2a3f5f"
            },
            "error_y": {
             "color": "#2a3f5f"
            },
            "marker": {
             "line": {
              "color": "#E5ECF6",
              "width": 0.5
             },
             "pattern": {
              "fillmode": "overlay",
              "size": 10,
              "solidity": 0.2
             }
            },
            "type": "bar"
           }
          ],
          "barpolar": [
           {
            "marker": {
             "line": {
              "color": "#E5ECF6",
              "width": 0.5
             },
             "pattern": {
              "fillmode": "overlay",
              "size": 10,
              "solidity": 0.2
             }
            },
            "type": "barpolar"
           }
          ],
          "carpet": [
           {
            "aaxis": {
             "endlinecolor": "#2a3f5f",
             "gridcolor": "white",
             "linecolor": "white",
             "minorgridcolor": "white",
             "startlinecolor": "#2a3f5f"
            },
            "baxis": {
             "endlinecolor": "#2a3f5f",
             "gridcolor": "white",
             "linecolor": "white",
             "minorgridcolor": "white",
             "startlinecolor": "#2a3f5f"
            },
            "type": "carpet"
           }
          ],
          "choropleth": [
           {
            "colorbar": {
             "outlinewidth": 0,
             "ticks": ""
            },
            "type": "choropleth"
           }
          ],
          "contour": [
           {
            "colorbar": {
             "outlinewidth": 0,
             "ticks": ""
            },
            "colorscale": [
             [
              0,
              "#0d0887"
             ],
             [
              0.1111111111111111,
              "#46039f"
             ],
             [
              0.2222222222222222,
              "#7201a8"
             ],
             [
              0.3333333333333333,
              "#9c179e"
             ],
             [
              0.4444444444444444,
              "#bd3786"
             ],
             [
              0.5555555555555556,
              "#d8576b"
             ],
             [
              0.6666666666666666,
              "#ed7953"
             ],
             [
              0.7777777777777778,
              "#fb9f3a"
             ],
             [
              0.8888888888888888,
              "#fdca26"
             ],
             [
              1,
              "#f0f921"
             ]
            ],
            "type": "contour"
           }
          ],
          "contourcarpet": [
           {
            "colorbar": {
             "outlinewidth": 0,
             "ticks": ""
            },
            "type": "contourcarpet"
           }
          ],
          "heatmap": [
           {
            "colorbar": {
             "outlinewidth": 0,
             "ticks": ""
            },
            "colorscale": [
             [
              0,
              "#0d0887"
             ],
             [
              0.1111111111111111,
              "#46039f"
             ],
             [
              0.2222222222222222,
              "#7201a8"
             ],
             [
              0.3333333333333333,
              "#9c179e"
             ],
             [
              0.4444444444444444,
              "#bd3786"
             ],
             [
              0.5555555555555556,
              "#d8576b"
             ],
             [
              0.6666666666666666,
              "#ed7953"
             ],
             [
              0.7777777777777778,
              "#fb9f3a"
             ],
             [
              0.8888888888888888,
              "#fdca26"
             ],
             [
              1,
              "#f0f921"
             ]
            ],
            "type": "heatmap"
           }
          ],
          "heatmapgl": [
           {
            "colorbar": {
             "outlinewidth": 0,
             "ticks": ""
            },
            "colorscale": [
             [
              0,
              "#0d0887"
             ],
             [
              0.1111111111111111,
              "#46039f"
             ],
             [
              0.2222222222222222,
              "#7201a8"
             ],
             [
              0.3333333333333333,
              "#9c179e"
             ],
             [
              0.4444444444444444,
              "#bd3786"
             ],
             [
              0.5555555555555556,
              "#d8576b"
             ],
             [
              0.6666666666666666,
              "#ed7953"
             ],
             [
              0.7777777777777778,
              "#fb9f3a"
             ],
             [
              0.8888888888888888,
              "#fdca26"
             ],
             [
              1,
              "#f0f921"
             ]
            ],
            "type": "heatmapgl"
           }
          ],
          "histogram": [
           {
            "marker": {
             "pattern": {
              "fillmode": "overlay",
              "size": 10,
              "solidity": 0.2
             }
            },
            "type": "histogram"
           }
          ],
          "histogram2d": [
           {
            "colorbar": {
             "outlinewidth": 0,
             "ticks": ""
            },
            "colorscale": [
             [
              0,
              "#0d0887"
             ],
             [
              0.1111111111111111,
              "#46039f"
             ],
             [
              0.2222222222222222,
              "#7201a8"
             ],
             [
              0.3333333333333333,
              "#9c179e"
             ],
             [
              0.4444444444444444,
              "#bd3786"
             ],
             [
              0.5555555555555556,
              "#d8576b"
             ],
             [
              0.6666666666666666,
              "#ed7953"
             ],
             [
              0.7777777777777778,
              "#fb9f3a"
             ],
             [
              0.8888888888888888,
              "#fdca26"
             ],
             [
              1,
              "#f0f921"
             ]
            ],
            "type": "histogram2d"
           }
          ],
          "histogram2dcontour": [
           {
            "colorbar": {
             "outlinewidth": 0,
             "ticks": ""
            },
            "colorscale": [
             [
              0,
              "#0d0887"
             ],
             [
              0.1111111111111111,
              "#46039f"
             ],
             [
              0.2222222222222222,
              "#7201a8"
             ],
             [
              0.3333333333333333,
              "#9c179e"
             ],
             [
              0.4444444444444444,
              "#bd3786"
             ],
             [
              0.5555555555555556,
              "#d8576b"
             ],
             [
              0.6666666666666666,
              "#ed7953"
             ],
             [
              0.7777777777777778,
              "#fb9f3a"
             ],
             [
              0.8888888888888888,
              "#fdca26"
             ],
             [
              1,
              "#f0f921"
             ]
            ],
            "type": "histogram2dcontour"
           }
          ],
          "mesh3d": [
           {
            "colorbar": {
             "outlinewidth": 0,
             "ticks": ""
            },
            "type": "mesh3d"
           }
          ],
          "parcoords": [
           {
            "line": {
             "colorbar": {
              "outlinewidth": 0,
              "ticks": ""
             }
            },
            "type": "parcoords"
           }
          ],
          "pie": [
           {
            "automargin": true,
            "type": "pie"
           }
          ],
          "scatter": [
           {
            "fillpattern": {
             "fillmode": "overlay",
             "size": 10,
             "solidity": 0.2
            },
            "type": "scatter"
           }
          ],
          "scatter3d": [
           {
            "line": {
             "colorbar": {
              "outlinewidth": 0,
              "ticks": ""
             }
            },
            "marker": {
             "colorbar": {
              "outlinewidth": 0,
              "ticks": ""
             }
            },
            "type": "scatter3d"
           }
          ],
          "scattercarpet": [
           {
            "marker": {
             "colorbar": {
              "outlinewidth": 0,
              "ticks": ""
             }
            },
            "type": "scattercarpet"
           }
          ],
          "scattergeo": [
           {
            "marker": {
             "colorbar": {
              "outlinewidth": 0,
              "ticks": ""
             }
            },
            "type": "scattergeo"
           }
          ],
          "scattergl": [
           {
            "marker": {
             "colorbar": {
              "outlinewidth": 0,
              "ticks": ""
             }
            },
            "type": "scattergl"
           }
          ],
          "scattermapbox": [
           {
            "marker": {
             "colorbar": {
              "outlinewidth": 0,
              "ticks": ""
             }
            },
            "type": "scattermapbox"
           }
          ],
          "scatterpolar": [
           {
            "marker": {
             "colorbar": {
              "outlinewidth": 0,
              "ticks": ""
             }
            },
            "type": "scatterpolar"
           }
          ],
          "scatterpolargl": [
           {
            "marker": {
             "colorbar": {
              "outlinewidth": 0,
              "ticks": ""
             }
            },
            "type": "scatterpolargl"
           }
          ],
          "scatterternary": [
           {
            "marker": {
             "colorbar": {
              "outlinewidth": 0,
              "ticks": ""
             }
            },
            "type": "scatterternary"
           }
          ],
          "surface": [
           {
            "colorbar": {
             "outlinewidth": 0,
             "ticks": ""
            },
            "colorscale": [
             [
              0,
              "#0d0887"
             ],
             [
              0.1111111111111111,
              "#46039f"
             ],
             [
              0.2222222222222222,
              "#7201a8"
             ],
             [
              0.3333333333333333,
              "#9c179e"
             ],
             [
              0.4444444444444444,
              "#bd3786"
             ],
             [
              0.5555555555555556,
              "#d8576b"
             ],
             [
              0.6666666666666666,
              "#ed7953"
             ],
             [
              0.7777777777777778,
              "#fb9f3a"
             ],
             [
              0.8888888888888888,
              "#fdca26"
             ],
             [
              1,
              "#f0f921"
             ]
            ],
            "type": "surface"
           }
          ],
          "table": [
           {
            "cells": {
             "fill": {
              "color": "#EBF0F8"
             },
             "line": {
              "color": "white"
             }
            },
            "header": {
             "fill": {
              "color": "#C8D4E3"
             },
             "line": {
              "color": "white"
             }
            },
            "type": "table"
           }
          ]
         },
         "layout": {
          "annotationdefaults": {
           "arrowcolor": "#2a3f5f",
           "arrowhead": 0,
           "arrowwidth": 1
          },
          "autotypenumbers": "strict",
          "coloraxis": {
           "colorbar": {
            "outlinewidth": 0,
            "ticks": ""
           }
          },
          "colorscale": {
           "diverging": [
            [
             0,
             "#8e0152"
            ],
            [
             0.1,
             "#c51b7d"
            ],
            [
             0.2,
             "#de77ae"
            ],
            [
             0.3,
             "#f1b6da"
            ],
            [
             0.4,
             "#fde0ef"
            ],
            [
             0.5,
             "#f7f7f7"
            ],
            [
             0.6,
             "#e6f5d0"
            ],
            [
             0.7,
             "#b8e186"
            ],
            [
             0.8,
             "#7fbc41"
            ],
            [
             0.9,
             "#4d9221"
            ],
            [
             1,
             "#276419"
            ]
           ],
           "sequential": [
            [
             0,
             "#0d0887"
            ],
            [
             0.1111111111111111,
             "#46039f"
            ],
            [
             0.2222222222222222,
             "#7201a8"
            ],
            [
             0.3333333333333333,
             "#9c179e"
            ],
            [
             0.4444444444444444,
             "#bd3786"
            ],
            [
             0.5555555555555556,
             "#d8576b"
            ],
            [
             0.6666666666666666,
             "#ed7953"
            ],
            [
             0.7777777777777778,
             "#fb9f3a"
            ],
            [
             0.8888888888888888,
             "#fdca26"
            ],
            [
             1,
             "#f0f921"
            ]
           ],
           "sequentialminus": [
            [
             0,
             "#0d0887"
            ],
            [
             0.1111111111111111,
             "#46039f"
            ],
            [
             0.2222222222222222,
             "#7201a8"
            ],
            [
             0.3333333333333333,
             "#9c179e"
            ],
            [
             0.4444444444444444,
             "#bd3786"
            ],
            [
             0.5555555555555556,
             "#d8576b"
            ],
            [
             0.6666666666666666,
             "#ed7953"
            ],
            [
             0.7777777777777778,
             "#fb9f3a"
            ],
            [
             0.8888888888888888,
             "#fdca26"
            ],
            [
             1,
             "#f0f921"
            ]
           ]
          },
          "colorway": [
           "#636efa",
           "#EF553B",
           "#00cc96",
           "#ab63fa",
           "#FFA15A",
           "#19d3f3",
           "#FF6692",
           "#B6E880",
           "#FF97FF",
           "#FECB52"
          ],
          "font": {
           "color": "#2a3f5f"
          },
          "geo": {
           "bgcolor": "white",
           "lakecolor": "white",
           "landcolor": "#E5ECF6",
           "showlakes": true,
           "showland": true,
           "subunitcolor": "white"
          },
          "hoverlabel": {
           "align": "left"
          },
          "hovermode": "closest",
          "mapbox": {
           "style": "light"
          },
          "paper_bgcolor": "white",
          "plot_bgcolor": "#E5ECF6",
          "polar": {
           "angularaxis": {
            "gridcolor": "white",
            "linecolor": "white",
            "ticks": ""
           },
           "bgcolor": "#E5ECF6",
           "radialaxis": {
            "gridcolor": "white",
            "linecolor": "white",
            "ticks": ""
           }
          },
          "scene": {
           "xaxis": {
            "backgroundcolor": "#E5ECF6",
            "gridcolor": "white",
            "gridwidth": 2,
            "linecolor": "white",
            "showbackground": true,
            "ticks": "",
            "zerolinecolor": "white"
           },
           "yaxis": {
            "backgroundcolor": "#E5ECF6",
            "gridcolor": "white",
            "gridwidth": 2,
            "linecolor": "white",
            "showbackground": true,
            "ticks": "",
            "zerolinecolor": "white"
           },
           "zaxis": {
            "backgroundcolor": "#E5ECF6",
            "gridcolor": "white",
            "gridwidth": 2,
            "linecolor": "white",
            "showbackground": true,
            "ticks": "",
            "zerolinecolor": "white"
           }
          },
          "shapedefaults": {
           "line": {
            "color": "#2a3f5f"
           }
          },
          "ternary": {
           "aaxis": {
            "gridcolor": "white",
            "linecolor": "white",
            "ticks": ""
           },
           "baxis": {
            "gridcolor": "white",
            "linecolor": "white",
            "ticks": ""
           },
           "bgcolor": "#E5ECF6",
           "caxis": {
            "gridcolor": "white",
            "linecolor": "white",
            "ticks": ""
           }
          },
          "title": {
           "x": 0.05
          },
          "xaxis": {
           "automargin": true,
           "gridcolor": "white",
           "linecolor": "white",
           "ticks": "",
           "title": {
            "standoff": 15
           },
           "zerolinecolor": "white",
           "zerolinewidth": 2
          },
          "yaxis": {
           "automargin": true,
           "gridcolor": "white",
           "linecolor": "white",
           "ticks": "",
           "title": {
            "standoff": 15
           },
           "zerolinecolor": "white",
           "zerolinewidth": 2
          }
         }
        },
        "title": {
         "text": "Inliers"
        },
        "xaxis": {
         "anchor": "y",
         "domain": [
          0,
          1
         ],
         "title": {
          "text": "Feature"
         }
        },
        "yaxis": {
         "anchor": "x",
         "autorange": "reversed",
         "domain": [
          0,
          1
         ],
         "title": {
          "text": "Residual Conviction"
         }
        }
       }
      }
     },
     "metadata": {},
     "output_type": "display_data"
    }
   ],
   "source": [
    "plot_anomalies(inliers, local_case_feature_residual_convictions, title=\"Inliers\", yaxis_title=\"Residual Conviction\")"
   ]
  },
  {
   "attachments": {},
   "cell_type": "markdown",
   "id": "4d444dae-f0dc-4faf-9034-6dc990f6ffdb",
   "metadata": {},
   "source": [
    "The heat map explains the reason why each case was an inlier. The darker the shade of blue, the higher the contribution the to case being an inlier."
   ]
  },
  {
   "attachments": {},
   "cell_type": "markdown",
   "id": "0f5def89-aec8-48f3-98f8-8a1790405757",
   "metadata": {},
   "source": [
    "## Potential improvements\n",
    "\n",
    "Sparse regions of the model or under defined problems can make it difficult to make an accurate prediction. Howso Engine can be used to identify potential data, or model improvements by examining the residual conviction and density."
   ]
  },
  {
   "cell_type": "code",
   "execution_count": 18,
   "id": "b1e9c25f-f263-41ea-9ea7-3d8e6247ea6d",
   "metadata": {
    "execution": {
     "iopub.execute_input": "2024-02-09T15:45:24.866476Z",
     "iopub.status.busy": "2024-02-09T15:45:24.866304Z",
     "iopub.status.idle": "2024-02-09T15:45:24.869388Z",
     "shell.execute_reply": "2024-02-09T15:45:24.868954Z"
    }
   },
   "outputs": [],
   "source": [
    "# Identify cases for investigation\n",
    "partial_train_df = stored_convictions\n",
    "partial_train_cases = partial_train_df[['.session', '.session_training_index']]\n"
   ]
  },
  {
   "cell_type": "code",
   "execution_count": 19,
   "id": "2720f5e9-3373-4c24-92bb-1e88c26ba287",
   "metadata": {
    "execution": {
     "iopub.execute_input": "2024-02-09T15:45:24.871145Z",
     "iopub.status.busy": "2024-02-09T15:45:24.870851Z",
     "iopub.status.idle": "2024-02-09T15:45:26.627334Z",
     "shell.execute_reply": "2024-02-09T15:45:26.626829Z"
    }
   },
   "outputs": [],
   "source": [
    "# Residual convictions are output via the local_case_feature_residual_convictions explanation\n",
    "details = {'global_case_feature_residual_convictions':True}\n",
    "\n",
    "# Get the residual convictions for the specified cases\n",
    "new_result = t.react(case_indices=partial_train_cases.values.tolist(), \n",
    "                     leave_case_out=True, \n",
    "                     preserve_feature_values=df.drop(action_features, axis=1).columns.tolist(), \n",
    "                     action_features=action_features,\n",
    "                     details=details)"
   ]
  },
  {
   "cell_type": "code",
   "execution_count": 20,
   "id": "a6b08957-6417-415e-89ed-3a70c324678d",
   "metadata": {
    "execution": {
     "iopub.execute_input": "2024-02-09T15:45:26.629793Z",
     "iopub.status.busy": "2024-02-09T15:45:26.629392Z",
     "iopub.status.idle": "2024-02-09T15:45:26.634069Z",
     "shell.execute_reply": "2024-02-09T15:45:26.633647Z"
    }
   },
   "outputs": [],
   "source": [
    "# Extract residual conviction\n",
    "target_residual_convictions = [ x['target'] for x in new_result['details']['global_case_feature_residual_convictions'] ]\n",
    "\n",
    "# Binarize residual conviction\n",
    "convict_threshold = 0.75\n",
    "low_residual_conviction = [1 if x <= convict_threshold else 0 for x in target_residual_convictions]\n",
    "\n",
    "# Density is just the inverse of distance_contribution\n",
    "density = 1 / partial_train_df['distance_contribution']\n",
    "\n",
    "# Add new features to the dataframe\n",
    "partial_train_df['density'] = density\n",
    "partial_train_df['target_residual_conviction'] = target_residual_convictions\n",
    "partial_train_df['low_residual_conviction'] = low_residual_conviction"
   ]
  },
  {
   "cell_type": "code",
   "execution_count": 21,
   "id": "a658e9b0-5d57-4647-bf94-2120a5bad6cf",
   "metadata": {
    "execution": {
     "iopub.execute_input": "2024-02-09T15:45:26.635937Z",
     "iopub.status.busy": "2024-02-09T15:45:26.635635Z",
     "iopub.status.idle": "2024-02-09T15:45:26.650023Z",
     "shell.execute_reply": "2024-02-09T15:45:26.649622Z"
    }
   },
   "outputs": [
    {
     "data": {
      "text/html": [
       "<div>\n",
       "<style scoped>\n",
       "    .dataframe tbody tr th:only-of-type {\n",
       "        vertical-align: middle;\n",
       "    }\n",
       "\n",
       "    .dataframe tbody tr th {\n",
       "        vertical-align: top;\n",
       "    }\n",
       "\n",
       "    .dataframe thead th {\n",
       "        text-align: right;\n",
       "    }\n",
       "</style>\n",
       "<table border=\"1\" class=\"dataframe\">\n",
       "  <thead>\n",
       "    <tr style=\"text-align: right;\">\n",
       "      <th></th>\n",
       "      <th>age</th>\n",
       "      <th>workclass</th>\n",
       "      <th>fnlwgt</th>\n",
       "      <th>education</th>\n",
       "      <th>education-num</th>\n",
       "      <th>marital-status</th>\n",
       "      <th>occupation</th>\n",
       "      <th>relationship</th>\n",
       "      <th>race</th>\n",
       "      <th>sex</th>\n",
       "      <th>...</th>\n",
       "      <th>hours-per-week</th>\n",
       "      <th>native-country</th>\n",
       "      <th>target</th>\n",
       "      <th>familiarity_conviction_addition</th>\n",
       "      <th>.session_training_index</th>\n",
       "      <th>.session</th>\n",
       "      <th>distance_contribution</th>\n",
       "      <th>density</th>\n",
       "      <th>target_residual_conviction</th>\n",
       "      <th>low_residual_conviction</th>\n",
       "    </tr>\n",
       "  </thead>\n",
       "  <tbody>\n",
       "    <tr>\n",
       "      <th>0</th>\n",
       "      <td>45</td>\n",
       "      <td>State-gov</td>\n",
       "      <td>213646</td>\n",
       "      <td>Bachelors</td>\n",
       "      <td>13</td>\n",
       "      <td>Married-civ-spouse</td>\n",
       "      <td>Exec-managerial</td>\n",
       "      <td>Husband</td>\n",
       "      <td>White</td>\n",
       "      <td>Male</td>\n",
       "      <td>...</td>\n",
       "      <td>40</td>\n",
       "      <td>United-States</td>\n",
       "      <td>&gt;50K</td>\n",
       "      <td>2.609425</td>\n",
       "      <td>0</td>\n",
       "      <td>baba7666-8dac-40ae-a565-3e2642d0ef01</td>\n",
       "      <td>4.810184</td>\n",
       "      <td>0.207892</td>\n",
       "      <td>0.651194</td>\n",
       "      <td>1</td>\n",
       "    </tr>\n",
       "    <tr>\n",
       "      <th>1</th>\n",
       "      <td>58</td>\n",
       "      <td>Private</td>\n",
       "      <td>242670</td>\n",
       "      <td>HS-grad</td>\n",
       "      <td>9</td>\n",
       "      <td>Never-married</td>\n",
       "      <td>Adm-clerical</td>\n",
       "      <td>Unmarried</td>\n",
       "      <td>White</td>\n",
       "      <td>Female</td>\n",
       "      <td>...</td>\n",
       "      <td>40</td>\n",
       "      <td>United-States</td>\n",
       "      <td>&lt;=50K</td>\n",
       "      <td>11.774335</td>\n",
       "      <td>1</td>\n",
       "      <td>baba7666-8dac-40ae-a565-3e2642d0ef01</td>\n",
       "      <td>5.886059</td>\n",
       "      <td>0.169893</td>\n",
       "      <td>22.815632</td>\n",
       "      <td>0</td>\n",
       "    </tr>\n",
       "    <tr>\n",
       "      <th>2</th>\n",
       "      <td>27</td>\n",
       "      <td>Private</td>\n",
       "      <td>211032</td>\n",
       "      <td>Preschool</td>\n",
       "      <td>1</td>\n",
       "      <td>Married-civ-spouse</td>\n",
       "      <td>Farming-fishing</td>\n",
       "      <td>Other-relative</td>\n",
       "      <td>White</td>\n",
       "      <td>Male</td>\n",
       "      <td>...</td>\n",
       "      <td>24</td>\n",
       "      <td>Mexico</td>\n",
       "      <td>&lt;=50K</td>\n",
       "      <td>0.094427</td>\n",
       "      <td>2</td>\n",
       "      <td>baba7666-8dac-40ae-a565-3e2642d0ef01</td>\n",
       "      <td>29.202523</td>\n",
       "      <td>0.034244</td>\n",
       "      <td>0.659037</td>\n",
       "      <td>1</td>\n",
       "    </tr>\n",
       "    <tr>\n",
       "      <th>3</th>\n",
       "      <td>39</td>\n",
       "      <td>Private</td>\n",
       "      <td>165799</td>\n",
       "      <td>HS-grad</td>\n",
       "      <td>9</td>\n",
       "      <td>Married-civ-spouse</td>\n",
       "      <td>Exec-managerial</td>\n",
       "      <td>Husband</td>\n",
       "      <td>White</td>\n",
       "      <td>Male</td>\n",
       "      <td>...</td>\n",
       "      <td>40</td>\n",
       "      <td>United-States</td>\n",
       "      <td>&lt;=50K</td>\n",
       "      <td>0.293359</td>\n",
       "      <td>3</td>\n",
       "      <td>baba7666-8dac-40ae-a565-3e2642d0ef01</td>\n",
       "      <td>1.918331</td>\n",
       "      <td>0.521286</td>\n",
       "      <td>1.943868</td>\n",
       "      <td>0</td>\n",
       "    </tr>\n",
       "    <tr>\n",
       "      <th>4</th>\n",
       "      <td>28</td>\n",
       "      <td>Private</td>\n",
       "      <td>196690</td>\n",
       "      <td>Assoc-voc</td>\n",
       "      <td>11</td>\n",
       "      <td>Never-married</td>\n",
       "      <td>Machine-op-inspct</td>\n",
       "      <td>Not-in-family</td>\n",
       "      <td>White</td>\n",
       "      <td>Female</td>\n",
       "      <td>...</td>\n",
       "      <td>42</td>\n",
       "      <td>United-States</td>\n",
       "      <td>&lt;=50K</td>\n",
       "      <td>0.436970</td>\n",
       "      <td>4</td>\n",
       "      <td>baba7666-8dac-40ae-a565-3e2642d0ef01</td>\n",
       "      <td>14.927844</td>\n",
       "      <td>0.066989</td>\n",
       "      <td>1.710386</td>\n",
       "      <td>0</td>\n",
       "    </tr>\n",
       "    <tr>\n",
       "      <th>...</th>\n",
       "      <td>...</td>\n",
       "      <td>...</td>\n",
       "      <td>...</td>\n",
       "      <td>...</td>\n",
       "      <td>...</td>\n",
       "      <td>...</td>\n",
       "      <td>...</td>\n",
       "      <td>...</td>\n",
       "      <td>...</td>\n",
       "      <td>...</td>\n",
       "      <td>...</td>\n",
       "      <td>...</td>\n",
       "      <td>...</td>\n",
       "      <td>...</td>\n",
       "      <td>...</td>\n",
       "      <td>...</td>\n",
       "      <td>...</td>\n",
       "      <td>...</td>\n",
       "      <td>...</td>\n",
       "      <td>...</td>\n",
       "      <td>...</td>\n",
       "    </tr>\n",
       "    <tr>\n",
       "      <th>995</th>\n",
       "      <td>20</td>\n",
       "      <td>?</td>\n",
       "      <td>369678</td>\n",
       "      <td>HS-grad</td>\n",
       "      <td>9</td>\n",
       "      <td>Never-married</td>\n",
       "      <td>?</td>\n",
       "      <td>Not-in-family</td>\n",
       "      <td>Other</td>\n",
       "      <td>Male</td>\n",
       "      <td>...</td>\n",
       "      <td>43</td>\n",
       "      <td>United-States</td>\n",
       "      <td>&lt;=50K</td>\n",
       "      <td>2.814812</td>\n",
       "      <td>995</td>\n",
       "      <td>baba7666-8dac-40ae-a565-3e2642d0ef01</td>\n",
       "      <td>9.646100</td>\n",
       "      <td>0.103669</td>\n",
       "      <td>2.010284</td>\n",
       "      <td>0</td>\n",
       "    </tr>\n",
       "    <tr>\n",
       "      <th>996</th>\n",
       "      <td>50</td>\n",
       "      <td>Local-gov</td>\n",
       "      <td>138358</td>\n",
       "      <td>Some-college</td>\n",
       "      <td>10</td>\n",
       "      <td>Separated</td>\n",
       "      <td>Other-service</td>\n",
       "      <td>Unmarried</td>\n",
       "      <td>Black</td>\n",
       "      <td>Female</td>\n",
       "      <td>...</td>\n",
       "      <td>28</td>\n",
       "      <td>United-States</td>\n",
       "      <td>&lt;=50K</td>\n",
       "      <td>5.397442</td>\n",
       "      <td>996</td>\n",
       "      <td>baba7666-8dac-40ae-a565-3e2642d0ef01</td>\n",
       "      <td>8.796548</td>\n",
       "      <td>0.113681</td>\n",
       "      <td>1.775804</td>\n",
       "      <td>0</td>\n",
       "    </tr>\n",
       "    <tr>\n",
       "      <th>997</th>\n",
       "      <td>27</td>\n",
       "      <td>Federal-gov</td>\n",
       "      <td>148153</td>\n",
       "      <td>HS-grad</td>\n",
       "      <td>9</td>\n",
       "      <td>Married-civ-spouse</td>\n",
       "      <td>Handlers-cleaners</td>\n",
       "      <td>Husband</td>\n",
       "      <td>Asian-Pac-Islander</td>\n",
       "      <td>Male</td>\n",
       "      <td>...</td>\n",
       "      <td>40</td>\n",
       "      <td>United-States</td>\n",
       "      <td>&lt;=50K</td>\n",
       "      <td>13.211536</td>\n",
       "      <td>997</td>\n",
       "      <td>baba7666-8dac-40ae-a565-3e2642d0ef01</td>\n",
       "      <td>8.087714</td>\n",
       "      <td>0.123644</td>\n",
       "      <td>0.995310</td>\n",
       "      <td>0</td>\n",
       "    </tr>\n",
       "    <tr>\n",
       "      <th>998</th>\n",
       "      <td>45</td>\n",
       "      <td>Private</td>\n",
       "      <td>343377</td>\n",
       "      <td>Some-college</td>\n",
       "      <td>10</td>\n",
       "      <td>Married-civ-spouse</td>\n",
       "      <td>Adm-clerical</td>\n",
       "      <td>Husband</td>\n",
       "      <td>White</td>\n",
       "      <td>Male</td>\n",
       "      <td>...</td>\n",
       "      <td>40</td>\n",
       "      <td>United-States</td>\n",
       "      <td>&lt;=50K</td>\n",
       "      <td>1.310455</td>\n",
       "      <td>998</td>\n",
       "      <td>baba7666-8dac-40ae-a565-3e2642d0ef01</td>\n",
       "      <td>4.075570</td>\n",
       "      <td>0.245364</td>\n",
       "      <td>15.429044</td>\n",
       "      <td>0</td>\n",
       "    </tr>\n",
       "    <tr>\n",
       "      <th>999</th>\n",
       "      <td>55</td>\n",
       "      <td>Private</td>\n",
       "      <td>90414</td>\n",
       "      <td>Bachelors</td>\n",
       "      <td>13</td>\n",
       "      <td>Married-spouse-absent</td>\n",
       "      <td>Craft-repair</td>\n",
       "      <td>Unmarried</td>\n",
       "      <td>White</td>\n",
       "      <td>Female</td>\n",
       "      <td>...</td>\n",
       "      <td>55</td>\n",
       "      <td>Ireland</td>\n",
       "      <td>&lt;=50K</td>\n",
       "      <td>0.369196</td>\n",
       "      <td>999</td>\n",
       "      <td>baba7666-8dac-40ae-a565-3e2642d0ef01</td>\n",
       "      <td>15.817936</td>\n",
       "      <td>0.063219</td>\n",
       "      <td>0.806338</td>\n",
       "      <td>0</td>\n",
       "    </tr>\n",
       "  </tbody>\n",
       "</table>\n",
       "<p>1000 rows × 22 columns</p>\n",
       "</div>"
      ],
      "text/plain": [
       "     age     workclass  fnlwgt      education  education-num  \\\n",
       "0     45     State-gov  213646      Bachelors             13   \n",
       "1     58       Private  242670        HS-grad              9   \n",
       "2     27       Private  211032      Preschool              1   \n",
       "3     39       Private  165799        HS-grad              9   \n",
       "4     28       Private  196690      Assoc-voc             11   \n",
       "..   ...           ...     ...            ...            ...   \n",
       "995   20             ?  369678        HS-grad              9   \n",
       "996   50     Local-gov  138358   Some-college             10   \n",
       "997   27   Federal-gov  148153        HS-grad              9   \n",
       "998   45       Private  343377   Some-college             10   \n",
       "999   55       Private   90414      Bachelors             13   \n",
       "\n",
       "             marital-status          occupation     relationship  \\\n",
       "0        Married-civ-spouse     Exec-managerial          Husband   \n",
       "1             Never-married        Adm-clerical        Unmarried   \n",
       "2        Married-civ-spouse     Farming-fishing   Other-relative   \n",
       "3        Married-civ-spouse     Exec-managerial          Husband   \n",
       "4             Never-married   Machine-op-inspct    Not-in-family   \n",
       "..                      ...                 ...              ...   \n",
       "995           Never-married                   ?    Not-in-family   \n",
       "996               Separated       Other-service        Unmarried   \n",
       "997      Married-civ-spouse   Handlers-cleaners          Husband   \n",
       "998      Married-civ-spouse        Adm-clerical          Husband   \n",
       "999   Married-spouse-absent        Craft-repair        Unmarried   \n",
       "\n",
       "                    race      sex  ...  hours-per-week  native-country  \\\n",
       "0                  White     Male  ...              40   United-States   \n",
       "1                  White   Female  ...              40   United-States   \n",
       "2                  White     Male  ...              24          Mexico   \n",
       "3                  White     Male  ...              40   United-States   \n",
       "4                  White   Female  ...              42   United-States   \n",
       "..                   ...      ...  ...             ...             ...   \n",
       "995                Other     Male  ...              43   United-States   \n",
       "996                Black   Female  ...              28   United-States   \n",
       "997   Asian-Pac-Islander     Male  ...              40   United-States   \n",
       "998                White     Male  ...              40   United-States   \n",
       "999                White   Female  ...              55         Ireland   \n",
       "\n",
       "     target familiarity_conviction_addition .session_training_index  \\\n",
       "0      >50K                        2.609425                       0   \n",
       "1     <=50K                       11.774335                       1   \n",
       "2     <=50K                        0.094427                       2   \n",
       "3     <=50K                        0.293359                       3   \n",
       "4     <=50K                        0.436970                       4   \n",
       "..      ...                             ...                     ...   \n",
       "995   <=50K                        2.814812                     995   \n",
       "996   <=50K                        5.397442                     996   \n",
       "997   <=50K                       13.211536                     997   \n",
       "998   <=50K                        1.310455                     998   \n",
       "999   <=50K                        0.369196                     999   \n",
       "\n",
       "                                 .session  distance_contribution   density  \\\n",
       "0    baba7666-8dac-40ae-a565-3e2642d0ef01               4.810184  0.207892   \n",
       "1    baba7666-8dac-40ae-a565-3e2642d0ef01               5.886059  0.169893   \n",
       "2    baba7666-8dac-40ae-a565-3e2642d0ef01              29.202523  0.034244   \n",
       "3    baba7666-8dac-40ae-a565-3e2642d0ef01               1.918331  0.521286   \n",
       "4    baba7666-8dac-40ae-a565-3e2642d0ef01              14.927844  0.066989   \n",
       "..                                    ...                    ...       ...   \n",
       "995  baba7666-8dac-40ae-a565-3e2642d0ef01               9.646100  0.103669   \n",
       "996  baba7666-8dac-40ae-a565-3e2642d0ef01               8.796548  0.113681   \n",
       "997  baba7666-8dac-40ae-a565-3e2642d0ef01               8.087714  0.123644   \n",
       "998  baba7666-8dac-40ae-a565-3e2642d0ef01               4.075570  0.245364   \n",
       "999  baba7666-8dac-40ae-a565-3e2642d0ef01              15.817936  0.063219   \n",
       "\n",
       "     target_residual_conviction  low_residual_conviction  \n",
       "0                      0.651194                        1  \n",
       "1                     22.815632                        0  \n",
       "2                      0.659037                        1  \n",
       "3                      1.943868                        0  \n",
       "4                      1.710386                        0  \n",
       "..                          ...                      ...  \n",
       "995                    2.010284                        0  \n",
       "996                    1.775804                        0  \n",
       "997                    0.995310                        0  \n",
       "998                   15.429044                        0  \n",
       "999                    0.806338                        0  \n",
       "\n",
       "[1000 rows x 22 columns]"
      ]
     },
     "execution_count": 21,
     "metadata": {},
     "output_type": "execute_result"
    }
   ],
   "source": [
    "partial_train_df"
   ]
  },
  {
   "cell_type": "code",
   "execution_count": 22,
   "id": "d902d796-a176-486d-a427-a7783bfa9c86",
   "metadata": {
    "execution": {
     "iopub.execute_input": "2024-02-09T15:45:26.651857Z",
     "iopub.status.busy": "2024-02-09T15:45:26.651561Z",
     "iopub.status.idle": "2024-02-09T15:45:26.654858Z",
     "shell.execute_reply": "2024-02-09T15:45:26.654464Z"
    }
   },
   "outputs": [],
   "source": [
    "# Helper function to resize the data points\n",
    "def get_sizes(min_size, max_size, series):\n",
    "    min_value = series.min()\n",
    "    max_value = series.max()\n",
    "    \n",
    "    m = (max_size - min_size) / (max_value - min_value)\n",
    "    \n",
    "    sizes = series * m + min_size\n",
    "    return (sizes)\n",
    "\n",
    "partial_train_df[\"density\"] = get_sizes(5, 500, partial_train_df[\"density\"])"
   ]
  },
  {
   "cell_type": "code",
   "execution_count": 23,
   "id": "3d4ec798",
   "metadata": {
    "execution": {
     "iopub.execute_input": "2024-02-09T15:45:26.656632Z",
     "iopub.status.busy": "2024-02-09T15:45:26.656344Z",
     "iopub.status.idle": "2024-02-09T15:45:26.684787Z",
     "shell.execute_reply": "2024-02-09T15:45:26.684384Z"
    }
   },
   "outputs": [
    {
     "data": {
      "application/vnd.plotly.v1+json": {
       "config": {
        "plotlyServerURL": "https://plot.ly"
       },
       "data": [
        {
         "legendgroup": "cases",
         "legendgrouptitle": {
          "text": "Cases"
         },
         "marker": {
          "line": {
           "color": "darkgrey",
           "width": 2
          },
          "opacity": 0.4,
          "size": [
           126.68241643817757,
           104.44086106978096,
           25.04329476450507,
           310.1166570063819,
           44.209599632462826,
           85.17661190241044,
           113.31447736044731,
           179.4318126763852,
           159.50328179669893,
           40.02625950273209,
           59.08009398712583,
           50.07600976551233,
           213.51288205891348,
           52.398680698384986,
           166.2733918326507,
           102.15783721797459,
           106.23703118537786,
           106.0125904287158,
           158.4008292167567,
           71.92371770143339,
           74.31926485521775,
           99.54221777631281,
           91.37585746768652,
           127.14668007858384,
           129.1817590041162,
           216.03441035835365,
           124.93713784052852,
           65.64316824932143,
           59.1944089880043,
           101.53506422201117,
           57.47891882968949,
           46.14411493989486,
           134.25423563114424,
           84.27902632342324,
           143.1794180951901,
           179.56654269187916,
           105.35271637954901,
           66.89200370935845,
           39.09114302708225,
           291.51764503418235,
           144.0779251196332,
           101.24495291557916,
           62.469463050020615,
           153.50659775840447,
           59.4531879332815,
           44.1985267418437,
           72.69216014867838,
           113.90837979892258,
           283.32955006385936,
           108.84541249418791,
           38.48530743004153,
           81.56736542473783,
           89.78031029164552,
           170.38860461878735,
           48.85702066201857,
           49.894112629279796,
           49.9031970067585,
           101.40031806414073,
           74.25443594733262,
           132.47398355395217,
           148.8619154560977,
           509.431759697761,
           170.96442172019675,
           333.5534447064064,
           149.4010749333734,
           72.31824804578751,
           44.552100738279826,
           61.46853958630437,
           111.62218571301383,
           169.81041423734356,
           52.698784942270855,
           46.00255288520087,
           83.02707441269176,
           328.2619394916611,
           31.91462851172457,
           93.0543486447553,
           131.94377354632286,
           105.76805966993045,
           79.07198111907873,
           161.7977301103921,
           150.05784361776267,
           67.08893583255293,
           125.04861886199556,
           131.0311890416073,
           98.52119353871632,
           110.53055189484742,
           69.16963607696972,
           166.15243781673482,
           174.72478421176186,
           66.20713580692485,
           78.70574842721496,
           107.36969649286965,
           49.78706773171885,
           75.02089557932275,
           146.84860024069158,
           205.7704760478036,
           159.79836454921193,
           157.50449200613144,
           42.65568574950886,
           137.65921021924308,
           48.20690501129383,
           148.46480371876592,
           146.1492058368393,
           56.598208349658314,
           170.40621369775414,
           144.5162160608581,
           174.6940815662538,
           47.93672586213338,
           43.342464694028884,
           287.50826051458955,
           50.05425000071279,
           507.16516587233286,
           44.124913671178824,
           147.3907238808372,
           59.78595897102176,
           82.24765164422375,
           112.42057581708191,
           100.9389259883653,
           64.57711571781775,
           128.82311137675862,
           132.55490040478384,
           93.2310035680611,
           72.15558933405862,
           68.7649584282815,
           41.30350781373062,
           92.23259159171509,
           215.9368019524675,
           92.41569288057062,
           104.05900129317128,
           63.483977857494715,
           97.11342301114657,
           84.9786882809713,
           114.81206151631403,
           85.42356801647074,
           110.77470224159974,
           67.2401786924764,
           88.16791222618325,
           168.47678329058652,
           245.6026159357857,
           175.4950289851234,
           55.22943070308315,
           51.961577739442546,
           98.47376962739936,
           386.2034966774087,
           29.996020305193483,
           75.82298073809628,
           99.44219309656867,
           88.28511651692497,
           93.73907374069543,
           32.1347727954919,
           65.8640433885918,
           81.8431697043232,
           59.28178142755572,
           121.31968896776857,
           111.90715509550516,
           95.4115081577026,
           50.06013600831633,
           91.72461640074503,
           122.74363089172778,
           101.8332120894765,
           89.77584358613683,
           117.11742124053417,
           189.50964424056176,
           54.83292960294045,
           83.38623022053962,
           41.28951354897708,
           81.103476644336,
           66.99116816415707,
           54.456863828332985,
           137.85766141714845,
           130.5787824353941,
           129.40260493369678,
           68.49345075838596,
           124.89154025692204,
           150.68434404183358,
           86.74004564183947,
           55.25316708017894,
           99.66669089053075,
           178.76372017967793,
           199.10795792714202,
           43.62730869272596,
           124.71444084813172,
           71.78146351584871,
           154.54180942541387,
           239.20756885183187,
           46.442923477283955,
           81.2498024421153,
           130.2540437954876,
           125.86268796885187,
           129.38623759137909,
           199.6706808268594,
           49.36651995270562,
           115.61249880136019,
           116.02771648120189,
           110.35193834282677,
           63.44722185102682,
           89.28462791557044,
           108.96481520512083,
           114.10749801232319,
           148.2937307124882,
           166.8393924439422,
           39.85235937516891,
           74.25688650625207,
           330.76134125318015,
           108.97656292677932,
           75.52206414730894,
           88.59174764645549,
           145.2582840458332,
           131.81803632766093,
           230.43047118300194,
           152.7411755104618,
           172.4818535543911,
           103.49474150404731,
           77.26888742457268,
           84.1832039785143,
           77.55487450753324,
           125.89565599481307,
           54.99708097036486,
           43.51043748202603,
           178.7627042711945,
           124.33798843555631,
           202.0676022647907,
           133.0151248948708,
           161.47510309188155,
           113.61736560620616,
           47.21540707377479,
           166.65695834786976,
           117.24559090204575,
           87.80373444799832,
           58.291169218973295,
           116.28969272437925,
           86.90787348438715,
           88.16236363425017,
           98.57382348760031,
           56.82725525148032,
           308.14580404392507,
           44.34628770991911,
           170.55678820030076,
           153.63129379684582,
           50.63224644725783,
           56.289878589929906,
           181.96490136348638,
           90.86587751182635,
           244.92885198615366,
           148.28946935816865,
           69.91211611575496,
           55.88457137366836,
           145.84418995593484,
           207.13640807136454,
           154.26879332312038,
           74.29001912169153,
           81.61357716480052,
           164.2501015949145,
           86.05625352126935,
           90.27592855133406,
           231.57644416439072,
           395.02030053468906,
           144.3160839708195,
           153.30495620890045,
           105.39386806586293,
           133.7547729585173,
           192.7363319673088,
           104.91225289902526,
           78.64674945044501,
           117.99513030481411,
           134.8710136430637,
           101.52124008685654,
           109.5429270884203,
           252.83383766119718,
           176.83151676585814,
           54.30041781762391,
           100.77770354735824,
           99.33197827598235,
           82.83117344408566,
           143.56559517798408,
           65.11685873020804,
           43.4575414707773,
           226.35487951549857,
           142.7332058358347,
           250.48372476781975,
           60.046289779019055,
           104.74809312353726,
           51.44621755881916,
           75.31307225617813,
           95.69169991229766,
           52.00768158878746,
           150.92921029087202,
           116.79803023083193,
           266.07665626606985,
           270.0799329370281,
           70.09745202148859,
           71.85835939599897,
           51.81767145890255,
           104.61533941533209,
           236.1404341463836,
           94.46854299582007,
           78.42714170869621,
           247.93958822503458,
           83.77150077557091,
           105.04808746558662,
           55.56684745730877,
           106.00915892893839,
           353.081452824887,
           85.07112484821512,
           137.62674348393557,
           63.866978179228745,
           303.0937214215021,
           151.33162184465473,
           128.5115097176233,
           82.69037622245986,
           104.84584777216386,
           78.73671792917281,
           135.81343898538367,
           68.38368053000181,
           43.979542587114715,
           89.06297142724021,
           91.96470552906091,
           114.56051639583562,
           89.63670202501844,
           188.33771138509695,
           57.0761312162959,
           162.67289539207974,
           65.05502467480855,
           90.83188599337987,
           125.29814506286345,
           95.80375546540229,
           80.1629376204443,
           94.89256955081908,
           90.5309798799814,
           56.37260644243737,
           157.03037444128265,
           52.034354656068494,
           116.75602639103785,
           141.76080712978705,
           204.24735178373163,
           180.8978396809952,
           104.44333997325467,
           106.09506539064749,
           318.55520869394553,
           81.71360430530855,
           43.51286889013069,
           121.49814501148411,
           78.6947823219429,
           143.6481036595908,
           292.40306868725685,
           179.27306131436785,
           43.635519890374034,
           49.032943817062666,
           69.28790726557622,
           121.04181277696891,
           190.94731205700006,
           47.81955514019329,
           134.0819286631115,
           48.807236564880775,
           116.61517221390281,
           190.6710235331139,
           433.95419987565936,
           401.2071042878907,
           341.43898101817075,
           200.86402123808944,
           76.7765052710092,
           218.4268660137978,
           200.98009979707837,
           60.68839043555636,
           78.29821720047124,
           137.00842513489746,
           64.25797635564655,
           200.7744076831807,
           83.21831315182824,
           109.38271659823722,
           48.69858416864079,
           96.02034426672193,
           126.86323004001653,
           67.22273134646798,
           111.18425276687843,
           180.296355413922,
           75.76712088603193,
           127.42336242349991,
           121.30919303661805,
           39.54947514426223,
           101.12514556821854,
           145.21746382457303,
           36.161444719564855,
           37.75328104951576,
           105.23699175530705,
           104.12806771537461,
           223.1820664016737,
           107.70960760505201,
           235.79581639957362,
           131.10702966674842,
           62.03606247687018,
           155.65398788858192,
           72.20464381570225,
           27.145194194045853,
           174.98154012539422,
           44.64058569418612,
           105.70417198721248,
           57.43214898517867,
           196.50146478629082,
           59.117836823183126,
           173.26312170119138,
           87.39209078758437,
           103.62867940147045,
           155.0538746935585,
           169.81586984485295,
           69.65347490848384,
           129.36311746618605,
           147.67922779996005,
           124.77646064413602,
           87.90595413736555,
           118.76142572387245,
           93.73785645101637,
           139.52061179406732,
           152.22873575073285,
           48.04046687918506,
           79.11578808461958,
           25.78358594253353,
           46.5246433795225,
           62.32940066072804,
           279.3830342252143,
           169.46125857915249,
           86.23814768876892,
           163.99829372701595,
           165.44553528980921,
           98.21543490700063,
           85.74875461943999,
           128.172687230828,
           209.68961368115902,
           102.892643003311,
           149.8528930988412,
           55.16620729670449,
           39.630163770075995,
           99.67868803816019,
           55.55906730044444,
           103.23401446966581,
           222.83034697461588,
           108.2648397134793,
           79.51556577925558,
           191.66424140219854,
           85.78695059916213,
           143.75132346525544,
           106.33779499255259,
           159.92017086259915,
           124.14295539653996,
           106.31471915776281,
           64.26492455471481,
           140.6619007709256,
           189.37762507018243,
           91.44609890998574,
           82.30798647013289,
           120.97436918958999,
           137.935724866872,
           167.75309773877117,
           23.348427573625223,
           90.7486293490847,
           87.26761472558533,
           122.26435838362474,
           105.19049373676819,
           78.12389028236112,
           63.67743760303714,
           123.10269471005793,
           85.50025213154376,
           68.21760555398731,
           230.4941780066236,
           102.28251714009797,
           107.95811296695172,
           65.47130766160583,
           99.00399923530249,
           155.27100391391357,
           116.88809120217824,
           166.33072733490846,
           42.61592362950306,
           135.19223759197587,
           104.80147385752237,
           39.494447186325914,
           250.6277308893433,
           107.77718443765929,
           114.98232872707027,
           83.29333318997156,
           42.616263700089775,
           116.25448098346294,
           109.78564857190152,
           83.16799535340117,
           109.83199983761335,
           128.58559252800268,
           113.04042094633071,
           78.40489577163694,
           79.78661511990933,
           59.615899710030234,
           94.97685127461544,
           97.7457580246409,
           41.04890561656881,
           137.80601575774767,
           140.17447865978693,
           74.66619557698642,
           101.37303497650983,
           56.78469793960937,
           78.9072515582947,
           41.623817143824326,
           250.72834284988127,
           186.7340938443512,
           121.89349035868335,
           83.11777518766087,
           76.23021503082855,
           63.134850316102884,
           170.71927361436929,
           65.3817229789374,
           157.01335874574798,
           164.62117886495824,
           102.63749687161125,
           132.98594316838992,
           114.84635247897188,
           60.23423740451929,
           200.46252492732305,
           96.61954526703732,
           166.13173101080883,
           99.93273835389833,
           85.44302517259281,
           222.11025824388224,
           106.83010455982858,
           79.75473536838109,
           130.9789301373329,
           114.04761691586803,
           49.465862276128796,
           95.70132948303538,
           106.18004642763734,
           122.00838837870545,
           152.83014072102208,
           70.71025126982335,
           57.88668451184555,
           207.3518988742309,
           128.41457924082852,
           144.00322941456298,
           83.12556304288464,
           76.39556364710468,
           52.98574113734259,
           133.54192768385096,
           119.90136048669063,
           177.83954586759847,
           86.29417765320787,
           61.01426389833062,
           79.65792839995905,
           147.1062709463978,
           99.37762089720853,
           73.759193655092,
           20.42070917372,
           140.88185694020729,
           88.41538578876141,
           82.78851089090807,
           166.3676285548284,
           297.3160172349161,
           94.36421517989987,
           86.69948610745,
           147.06289103043437,
           128.45902726584376,
           180.4384500891084,
           115.84514677471488,
           83.19206198320363,
           145.2051960134587,
           106.47318386833308,
           277.099289891871,
           82.31934417794218,
           89.38072038091734,
           48.07360777709723,
           39.24371940760437,
           515.4207091737201,
           44.202943450939216,
           44.10845068641976,
           315.0515346668867,
           145.46690212089658,
           49.53703982449783,
           119.02000216009174,
           165.03422732897383,
           84.3626795217952,
           54.58331132664489,
           160.89873124560688,
           67.19656275414079,
           152.98303578338928,
           178.4476604805152,
           61.184762798179996,
           109.89919078801661,
           178.599954696558,
           68.40655053368181,
           41.258968728720276,
           164.89173868746357,
           55.87244886906804,
           201.42561009018206,
           122.70446009614888,
           292.63467890597633,
           96.1453473048564,
           208.51665001206416,
           126.43681743169489,
           92.75075455213798,
           252.49258705197985,
           101.83537980594416,
           93.77534829634409,
           90.2003020911579,
           135.74246650656852,
           114.40362994329985,
           74.77820825694096,
           220.79960926569368,
           78.71643093441138,
           150.1957409970593,
           49.6805947713879,
           36.59700747512041,
           148.18398171901168,
           94.09805522445758,
           107.86550298476213,
           109.08533589818707,
           99.69803056981222,
           54.106149301797764,
           104.88157109104633,
           47.2556851562845,
           353.7619045551395,
           235.3902898394915,
           74.97984586984013,
           142.75672039153017,
           77.82498913552868,
           113.46991127597815,
           120.81534603798788,
           115.58827393551654,
           74.47361581929667,
           41.42185852921889,
           157.63522546226946,
           179.52443321856404,
           70.1284479644708,
           60.696235564614355,
           54.211378185059985,
           55.90649774528756,
           451.7365179010453,
           181.7019829981353,
           64.20330663912229,
           77.58827089003212,
           33.77875671602486,
           166.2652302337873,
           82.75695329790331,
           65.27872825913389,
           85.69434425841558,
           133.07014048220356,
           57.094154711033056,
           225.61017844879672,
           188.41923449604383,
           87.5061477753425,
           135.74588624305412,
           85.3504446976754,
           128.64555267398373,
           184.45776950908407,
           104.65863052902743,
           139.24137901681738,
           75.30814890992484,
           83.67917502837776,
           162.66445049757033,
           65.0706308918368,
           84.5549383417088,
           84.71139881261325,
           83.90261324751678,
           250.30176140076316,
           97.66625797771623,
           75.22715374417963,
           45.854398404531366,
           54.817264651843054,
           45.73072722747005,
           110.32728588281094,
           164.6627671410152,
           125.75971404031196,
           152.57924099033295,
           69.02517314852943,
           69.34671956458604,
           168.53679747335758,
           85.3657532508311,
           115.17722109891167,
           88.56523842466474,
           44.57464145726038,
           43.58889348391708,
           335.2826768811879,
           364.26858913450707,
           159.76674922535165,
           115.78602071765931,
           83.39015586405164,
           72.63982950430604,
           164.94952312426264,
           75.42872189174169,
           83.60712301148244,
           136.59735541768563,
           105.69156612988365,
           212.00673350857764,
           83.48155525867722,
           416.0240891125974,
           93.26936063389944,
           63.30127136388076,
           47.32827258189076,
           187.44537987943676,
           88.50306866338195,
           98.55138196981356,
           123.74982824139246,
           195.67702507824376,
           80.56405982397173,
           108.00068906192574,
           69.0565553922264,
           88.11770694537672,
           55.112131041399095,
           163.22507281227342,
           183.30276717833607,
           96.91847088991936,
           72.69385310284702,
           33.42259730048608,
           214.5369252898858,
           52.294710011707295,
           89.61502377818069,
           102.85152892962189,
           111.45266615437582,
           133.41194599326334,
           157.08255132649506,
           99.81206088681128,
           243.84000897992766,
           58.22883003553089,
           152.29054569487832,
           426.41090161232773,
           219.62130092445003,
           150.42464423969503,
           127.20738027881569,
           169.13331839321845,
           263.96779808313073,
           68.73397495241818,
           36.898334330101015,
           42.62342095534044,
           48.62524203760646,
           32.5014377549882,
           76.33734432442087,
           74.70873252419231,
           152.77992706686925,
           114.60244564233086,
           125.46945107172209,
           91.09819828771606,
           83.80576081147576,
           216.93428650486544,
           77.09290721911914,
           182.45862031742922,
           95.04965949591335,
           166.5234044418929,
           109.83461100362547,
           35.67914971286602,
           75.382874996798,
           193.64435653221682,
           173.1154165013936,
           170.82033122177566,
           118.68622500561902,
           55.22061971539693,
           70.51247510854932,
           144.97552984682656,
           135.9279426557705,
           47.78551581150326,
           250.70130202382296,
           45.77335296619191,
           217.8191503734484,
           236.9591137482882,
           86.21372244503297,
           111.60936978700585,
           77.32034323093754,
           130.7566005991389,
           62.092307029531334,
           225.91543682818096,
           306.302277487567,
           85.91642655801819,
           76.04718434801265,
           63.28378594642496,
           305.0666538442617,
           199.37091964733796,
           169.0948232746047,
           190.87179418582076,
           81.61218759360817,
           79.8782920808295,
           131.33786721010466,
           79.06653535348883,
           51.64349160829228,
           115.29678841922711,
           36.472485330274594,
           95.14457367323507,
           56.153142270071065,
           112.58499354816382,
           65.28190921151503,
           52.14061867664458,
           170.1649588076918,
           44.82594412340564,
           58.970536967990896,
           303.99473514885256,
           140.02255889266328,
           133.87922239154642,
           60.95665493319587,
           104.07847128557631,
           84.61037313364746,
           191.87627798999122,
           43.70184196232058,
           200.70746986244325,
           130.9121706411138,
           110.43978251348966,
           105.311979670192,
           76.41755041665454,
           67.45140240418752,
           184.78903196151558,
           174.0078303299988,
           79.92069553827301,
           106.90155949316379,
           101.35476594312924,
           149.11677896064916,
           50.04937063296272,
           140.47432265597226,
           86.15272846135673,
           161.05036942063043,
           33.54496525937954,
           99.44961985810319,
           109.58002338522192,
           367.5691621747037,
           429.42693385129553,
           105.52197728287345,
           96.0569977765225,
           131.83435871580144,
           123.81424415153617,
           42.677381468374996,
           159.1284551686551,
           71.34965535047765,
           165.4677233688741,
           181.86550902518005,
           114.9288164975042,
           94.49279669418796,
           77.15289954818526,
           104.56093710795132,
           50.21735199535533,
           145.72114389580716,
           207.6218627894875,
           71.33106653378972,
           103.59904465957925,
           75.84263016376082,
           93.5040122050857,
           47.010950795545604,
           243.77052827991474,
           55.56974092051828,
           175.42320824045126,
           109.57948451907446,
           262.9445764577049,
           46.69545166402184,
           55.81610075069213,
           250.95216578577507,
           103.53111102954094,
           60.5459869835284,
           109.69203452569214,
           149.65428782721492,
           112.21763950205303,
           80.87108013587208,
           459.5414686324822,
           43.15048475026899,
           112.01367060072181,
           80.53803109679383,
           98.51400086917097,
           108.79474245735646,
           153.12392200793448,
           25.22908328488858,
           126.51274864691679,
           74.19617766113875,
           178.0172255559309,
           193.75458660917386,
           76.26124820159042,
           188.7469181230076,
           86.65670687014408,
           79.65965006848124,
           74.13476005666875,
           68.07982343136354,
           171.9631142658756,
           180.7714195633371,
           150.5219783047655,
           206.36429726716702,
           89.80640118126558,
           165.24450810051337,
           56.53618360400323,
           111.92914542659976,
           53.36834888212306,
           175.4636253754595,
           145.4661740948613,
           349.841383521061,
           246.3049266856429,
           113.0223440859822,
           72.48787749686682,
           90.91906970312908,
           136.88487787233242,
           76.08814323417491,
           69.47287038328643,
           50.16283256906155,
           138.66420454148974,
           148.61626162791478,
           155.51904000523632,
           124.01840365859303,
           110.38370575418477,
           95.31097521360353,
           144.94083055634673,
           170.66385094685558,
           131.10502763665306,
           78.66611537889771,
           83.96571465841222,
           157.6655164056344,
           78.89523705073016,
           210.17682056433006,
           80.83766924370843,
           287.5231762880023,
           128.46195935189962,
           154.95402859996904,
           50.83508701694188,
           154.42820602854934,
           222.33277183412696,
           63.922149382565514,
           202.53444353606974,
           69.01367602954939,
           170.90103425636926,
           145.7149898676267,
           115.40713554497836,
           101.04144570645452,
           65.06075398769471,
           93.46548367487031,
           146.81035442002081,
           62.923866145489676,
           163.76501289347235,
           116.93464296214687,
           169.1454587593963,
           128.34857145821655,
           122.60235589457386,
           94.97655561712602,
           83.19937450091999,
           288.3816394479936,
           110.01798196557269,
           117.08733430789847,
           128.6458799035361,
           154.84948654963713,
           268.90155642100825,
           57.29984896082533,
           63.005118923396886,
           63.554651415320365,
           49.287661285822665,
           101.27222775526722,
           39.422416273486746,
           103.96376065343017,
           86.58971336808649,
           87.78208105359955,
           78.13085349961597,
           62.48471532612612,
           107.14190783150208,
           72.65936088791486,
           113.5167337563071,
           41.43415429985631,
           59.25529535357921,
           47.91519040627067,
           333.42244054496837,
           103.44459696077206,
           77.42738121221468,
           66.73621924919678,
           53.431585657687855,
           89.56649053045884,
           185.4781847415053,
           175.1322579856594,
           229.38235139296845,
           68.25292068937156,
           112.45940146641702,
           116.38640641688986,
           108.27006604959945,
           100.86132422658417,
           510.9961270635242,
           71.27962555405227,
           74.94709010989605,
           335.0942948438274,
           170.12775520299897,
           82.04560138310897,
           84.8441589008336,
           71.14813884111271,
           47.7492970357208,
           99.17061006892384,
           50.055058050633676,
           147.73673532064362,
           146.3161354510881,
           131.75021925233807,
           144.22570758409853,
           202.06670531859484,
           73.3160564931133,
           65.9150136350342,
           205.06258388676335,
           158.99710239036386,
           45.862614411754,
           87.66990282559085,
           76.04534464244485,
           128.05738728998628,
           192.57448939214416,
           95.89901607054837,
           188.4444336204354,
           72.70527428378384,
           238.60758785021042,
           74.34741651275097,
           128.60927337833587,
           248.62151154079984,
           65.67890723077397,
           71.53914335626135,
           77.37085746175518,
           148.61542813604967,
           42.00323361523128
          ],
          "sizemin": 7.5,
          "sizemode": "area"
         },
         "mode": "markers",
         "name": "0",
         "type": "scattergl",
         "x": [
          58,
          39,
          28,
          44,
          22,
          22,
          20,
          47,
          23,
          55,
          27,
          55,
          33,
          48,
          66,
          19,
          50,
          59,
          41,
          44,
          42,
          31,
          45,
          19,
          51,
          55,
          29,
          23,
          19,
          28,
          41,
          24,
          53,
          22,
          59,
          67,
          64,
          21,
          24,
          43,
          40,
          23,
          36,
          52,
          56,
          33,
          33,
          24,
          19,
          37,
          25,
          27,
          62,
          68,
          26,
          30,
          25,
          40,
          33,
          33,
          38,
          36,
          55,
          31,
          36,
          37,
          50,
          39,
          32,
          56,
          39,
          34,
          54,
          55,
          23,
          19,
          38,
          26,
          29,
          25,
          41,
          31,
          24,
          18,
          62,
          33,
          19,
          63,
          20,
          30,
          66,
          20,
          20,
          45,
          25,
          53,
          28,
          21,
          22,
          31,
          42,
          40,
          30,
          24,
          61,
          35,
          45,
          43,
          28,
          37,
          34,
          36,
          25,
          33,
          28,
          34,
          63,
          27,
          44,
          32,
          23,
          29,
          27,
          23,
          58,
          46,
          43,
          17,
          30,
          48,
          21,
          43,
          42,
          44,
          30,
          42,
          42,
          17,
          23,
          20,
          19,
          41,
          43,
          29,
          49,
          60,
          34,
          34,
          37,
          36,
          36,
          36,
          17,
          25,
          64,
          33,
          48,
          39,
          45,
          34,
          20,
          20,
          18,
          50,
          22,
          24,
          20,
          24,
          31,
          30,
          26,
          22,
          44,
          76,
          49,
          38,
          63,
          23,
          30,
          32,
          29,
          39,
          23,
          43,
          39,
          21,
          29,
          29,
          35,
          19,
          17,
          23,
          29,
          32,
          66,
          26,
          37,
          40,
          27,
          38,
          19,
          36,
          31,
          35,
          56,
          24,
          18,
          37,
          33,
          35,
          69,
          38,
          54,
          46,
          18,
          28,
          41,
          21,
          58,
          57,
          30,
          29,
          32,
          22,
          30,
          48,
          22,
          29,
          27,
          51,
          22,
          26,
          31,
          17,
          19,
          25,
          54,
          34,
          31,
          53,
          32,
          26,
          47,
          17,
          29,
          45,
          37,
          39,
          24,
          21,
          47,
          28,
          24,
          48,
          18,
          37,
          64,
          40,
          34,
          19,
          30,
          42,
          35,
          46,
          50,
          41,
          40,
          40,
          29,
          44,
          25,
          71,
          19,
          24,
          19,
          42,
          22,
          37,
          23,
          28,
          30,
          23,
          35,
          26,
          42,
          30,
          43,
          19,
          49,
          17,
          41,
          32,
          28,
          35,
          21,
          56,
          27,
          51,
          54,
          51,
          49,
          33,
          57,
          80,
          49,
          47,
          39,
          36,
          28,
          43,
          20,
          27,
          22,
          30,
          51,
          28,
          27,
          33,
          54,
          27,
          29,
          30,
          31,
          30,
          45,
          30,
          31,
          31,
          28,
          39,
          28,
          50,
          71,
          21,
          30,
          20,
          63,
          32,
          28,
          41,
          37,
          30,
          30,
          62,
          31,
          30,
          43,
          19,
          50,
          59,
          29,
          46,
          61,
          85,
          30,
          34,
          21,
          29,
          29,
          78,
          35,
          50,
          38,
          31,
          23,
          54,
          57,
          38,
          34,
          46,
          46,
          17,
          43,
          44,
          22,
          52,
          52,
          30,
          52,
          38,
          18,
          42,
          38,
          27,
          67,
          18,
          21,
          43,
          24,
          53,
          25,
          53,
          26,
          23,
          41,
          31,
          27,
          37,
          74,
          27,
          20,
          35,
          43,
          32,
          20,
          32,
          19,
          62,
          21,
          36,
          52,
          35,
          18,
          50,
          37,
          23,
          46,
          58,
          41,
          60,
          31,
          62,
          38,
          53,
          61,
          29,
          31,
          44,
          22,
          34,
          18,
          46,
          63,
          31,
          35,
          29,
          58,
          36,
          51,
          69,
          29,
          52,
          40,
          40,
          67,
          22,
          54,
          17,
          43,
          57,
          54,
          51,
          44,
          22,
          34,
          40,
          64,
          37,
          48,
          31,
          20,
          34,
          34,
          47,
          61,
          34,
          20,
          20,
          28,
          31,
          30,
          27,
          22,
          26,
          20,
          66,
          48,
          27,
          21,
          20,
          34,
          31,
          47,
          51,
          22,
          25,
          48,
          32,
          31,
          32,
          29,
          21,
          26,
          31,
          41,
          21,
          25,
          64,
          29,
          27,
          21,
          36,
          34,
          49,
          46,
          27,
          18,
          18,
          50,
          39,
          40,
          32,
          28,
          19,
          61,
          31,
          33,
          22,
          53,
          47,
          27,
          44,
          40,
          56,
          47,
          34,
          67,
          20,
          24,
          56,
          45,
          51,
          27,
          48,
          36,
          30,
          35,
          58,
          33,
          46,
          30,
          29,
          23,
          36,
          36,
          37,
          23,
          39,
          37,
          26,
          41,
          26,
          24,
          19,
          54,
          39,
          67,
          26,
          27,
          17,
          33,
          36,
          22,
          26,
          66,
          54,
          39,
          43,
          49,
          34,
          19,
          41,
          33,
          32,
          46,
          53,
          19,
          53,
          45,
          31,
          19,
          70,
          22,
          29,
          26,
          29,
          20,
          46,
          28,
          64,
          38,
          30,
          38,
          24,
          26,
          29,
          62,
          25,
          46,
          64,
          63,
          40,
          23,
          77,
          50,
          54,
          68,
          36,
          20,
          36,
          41,
          22,
          39,
          63,
          34,
          20,
          23,
          30,
          64,
          73,
          26,
          57,
          23,
          22,
          20,
          23,
          21,
          19,
          25,
          24,
          49,
          46,
          29,
          18,
          42,
          17,
          37,
          35,
          19,
          80,
          29,
          29,
          24,
          21,
          23,
          31,
          53,
          27,
          22,
          54,
          49,
          31,
          19,
          48,
          41,
          51,
          63,
          36,
          34,
          38,
          77,
          46,
          43,
          38,
          46,
          33,
          64,
          38,
          49,
          18,
          30,
          29,
          49,
          21,
          31,
          22,
          48,
          31,
          30,
          21,
          40,
          35,
          27,
          27,
          44,
          30,
          32,
          49,
          40,
          20,
          37,
          47,
          21,
          64,
          60,
          20,
          60,
          43,
          26,
          42,
          18,
          27,
          51,
          29,
          44,
          27,
          39,
          61,
          39,
          28,
          59,
          39,
          20,
          50,
          27,
          45,
          55
         ],
         "y": [
          9,
          9,
          11,
          10,
          10,
          13,
          9,
          13,
          10,
          11,
          10,
          7,
          9,
          9,
          9,
          10,
          10,
          10,
          13,
          7,
          13,
          11,
          9,
          10,
          10,
          14,
          9,
          13,
          10,
          13,
          9,
          13,
          9,
          9,
          9,
          6,
          9,
          10,
          9,
          3,
          10,
          10,
          10,
          9,
          9,
          9,
          14,
          13,
          9,
          13,
          12,
          9,
          5,
          9,
          9,
          13,
          9,
          11,
          11,
          10,
          10,
          10,
          9,
          9,
          10,
          10,
          7,
          5,
          10,
          9,
          13,
          9,
          9,
          12,
          10,
          9,
          9,
          13,
          9,
          9,
          9,
          9,
          10,
          7,
          16,
          9,
          10,
          9,
          10,
          10,
          10,
          10,
          9,
          9,
          9,
          9,
          13,
          10,
          9,
          11,
          16,
          10,
          9,
          10,
          4,
          12,
          7,
          14,
          7,
          9,
          7,
          6,
          10,
          14,
          7,
          9,
          9,
          9,
          13,
          10,
          13,
          4,
          9,
          10,
          9,
          10,
          15,
          5,
          9,
          10,
          11,
          9,
          9,
          13,
          10,
          9,
          11,
          7,
          12,
          11,
          10,
          13,
          13,
          9,
          13,
          9,
          9,
          9,
          9,
          11,
          9,
          9,
          5,
          13,
          10,
          9,
          10,
          12,
          9,
          14,
          3,
          12,
          7,
          10,
          9,
          6,
          10,
          9,
          13,
          10,
          9,
          10,
          9,
          6,
          10,
          14,
          10,
          9,
          9,
          10,
          13,
          9,
          9,
          6,
          10,
          9,
          10,
          7,
          9,
          10,
          7,
          10,
          9,
          9,
          4,
          11,
          10,
          13,
          13,
          13,
          10,
          10,
          10,
          9,
          9,
          9,
          7,
          5,
          10,
          9,
          14,
          10,
          6,
          9,
          6,
          7,
          11,
          10,
          10,
          9,
          12,
          11,
          11,
          10,
          11,
          9,
          9,
          14,
          9,
          8,
          10,
          13,
          6,
          6,
          10,
          13,
          13,
          13,
          9,
          9,
          9,
          13,
          9,
          5,
          14,
          13,
          9,
          9,
          9,
          10,
          14,
          9,
          14,
          13,
          9,
          11,
          7,
          9,
          10,
          10,
          5,
          9,
          13,
          9,
          10,
          9,
          11,
          13,
          9,
          10,
          9,
          10,
          9,
          7,
          10,
          9,
          10,
          10,
          13,
          5,
          9,
          10,
          10,
          11,
          10,
          9,
          7,
          10,
          16,
          6,
          9,
          9,
          10,
          7,
          9,
          9,
          9,
          10,
          10,
          9,
          11,
          13,
          9,
          9,
          9,
          9,
          9,
          9,
          6,
          10,
          10,
          13,
          8,
          13,
          9,
          9,
          9,
          2,
          10,
          10,
          13,
          9,
          10,
          7,
          11,
          9,
          14,
          10,
          13,
          9,
          13,
          10,
          3,
          9,
          11,
          10,
          2,
          13,
          12,
          14,
          13,
          14,
          11,
          9,
          9,
          10,
          10,
          9,
          3,
          9,
          9,
          9,
          16,
          9,
          9,
          6,
          4,
          9,
          9,
          4,
          10,
          13,
          13,
          9,
          10,
          9,
          13,
          11,
          8,
          9,
          10,
          6,
          9,
          14,
          10,
          9,
          9,
          13,
          14,
          9,
          9,
          9,
          15,
          10,
          6,
          10,
          9,
          10,
          12,
          9,
          9,
          10,
          9,
          9,
          13,
          9,
          3,
          9,
          9,
          14,
          9,
          10,
          13,
          9,
          7,
          3,
          9,
          13,
          10,
          9,
          9,
          6,
          10,
          9,
          10,
          9,
          10,
          9,
          15,
          9,
          10,
          11,
          10,
          9,
          13,
          10,
          10,
          13,
          13,
          9,
          9,
          3,
          13,
          10,
          9,
          9,
          13,
          13,
          9,
          6,
          10,
          7,
          9,
          10,
          9,
          10,
          9,
          5,
          10,
          10,
          13,
          13,
          10,
          9,
          9,
          6,
          7,
          9,
          9,
          10,
          9,
          10,
          9,
          7,
          5,
          9,
          9,
          9,
          9,
          9,
          6,
          9,
          9,
          13,
          10,
          9,
          9,
          12,
          10,
          10,
          10,
          9,
          9,
          9,
          10,
          11,
          10,
          9,
          11,
          9,
          14,
          8,
          9,
          2,
          10,
          10,
          10,
          5,
          12,
          11,
          10,
          10,
          12,
          14,
          9,
          10,
          10,
          7,
          10,
          13,
          9,
          10,
          13,
          10,
          4,
          7,
          10,
          6,
          7,
          6,
          10,
          13,
          13,
          9,
          9,
          9,
          10,
          10,
          11,
          16,
          10,
          10,
          13,
          9,
          9,
          9,
          10,
          9,
          10,
          9,
          13,
          10,
          10,
          9,
          9,
          10,
          10,
          10,
          12,
          8,
          10,
          13,
          10,
          10,
          13,
          13,
          4,
          10,
          13,
          6,
          12,
          10,
          9,
          9,
          5,
          10,
          9,
          13,
          4,
          14,
          9,
          9,
          8,
          13,
          9,
          9,
          10,
          8,
          13,
          10,
          10,
          10,
          10,
          9,
          9,
          9,
          11,
          9,
          13,
          2,
          10,
          11,
          9,
          9,
          9,
          10,
          9,
          9,
          3,
          13,
          9,
          10,
          9,
          9,
          15,
          14,
          4,
          13,
          9,
          9,
          11,
          10,
          13,
          11,
          9,
          10,
          10,
          9,
          9,
          11,
          10,
          2,
          9,
          10,
          10,
          9,
          10,
          10,
          13,
          11,
          10,
          13,
          13,
          7,
          13,
          7,
          10,
          9,
          10,
          4,
          9,
          9,
          9,
          9,
          13,
          10,
          10,
          10,
          6,
          10,
          4,
          10,
          9,
          9,
          9,
          9,
          7,
          5,
          11,
          10,
          10,
          15,
          13,
          9,
          9,
          11,
          5,
          13,
          9,
          8,
          9,
          10,
          13,
          9,
          9,
          9,
          13,
          13,
          9,
          9,
          10,
          8,
          5,
          9,
          10,
          10,
          9,
          11,
          11,
          10,
          10,
          9,
          9,
          15,
          12,
          6,
          3,
          9,
          10,
          13,
          7,
          9,
          7,
          7,
          9,
          9,
          9,
          10,
          10,
          13,
          9,
          10,
          9,
          10,
          9,
          10,
          13
         ]
        },
        {
         "legendgroup": "cases",
         "legendgrouptitle": {
          "text": "Cases"
         },
         "marker": {
          "line": {
           "color": "darkgrey",
           "width": 2
          },
          "opacity": 0.4,
          "size": [
           126.68241643817757,
           104.44086106978096,
           25.04329476450507,
           310.1166570063819,
           44.209599632462826,
           85.17661190241044,
           113.31447736044731,
           179.4318126763852,
           159.50328179669893,
           40.02625950273209,
           59.08009398712583,
           50.07600976551233,
           213.51288205891348,
           52.398680698384986,
           166.2733918326507,
           102.15783721797459,
           106.23703118537786,
           106.0125904287158,
           158.4008292167567,
           71.92371770143339,
           74.31926485521775,
           99.54221777631281,
           91.37585746768652,
           127.14668007858384,
           129.1817590041162,
           216.03441035835365,
           124.93713784052852,
           65.64316824932143,
           59.1944089880043,
           101.53506422201117,
           57.47891882968949,
           46.14411493989486,
           134.25423563114424,
           84.27902632342324,
           143.1794180951901,
           179.56654269187916,
           105.35271637954901,
           66.89200370935845,
           39.09114302708225,
           291.51764503418235,
           144.0779251196332,
           101.24495291557916,
           62.469463050020615,
           153.50659775840447,
           59.4531879332815,
           44.1985267418437,
           72.69216014867838,
           113.90837979892258,
           283.32955006385936,
           108.84541249418791,
           38.48530743004153,
           81.56736542473783,
           89.78031029164552,
           170.38860461878735,
           48.85702066201857,
           49.894112629279796,
           49.9031970067585,
           101.40031806414073,
           74.25443594733262,
           132.47398355395217,
           148.8619154560977,
           509.431759697761,
           170.96442172019675,
           333.5534447064064,
           149.4010749333734,
           72.31824804578751,
           44.552100738279826,
           61.46853958630437,
           111.62218571301383,
           169.81041423734356,
           52.698784942270855,
           46.00255288520087,
           83.02707441269176,
           328.2619394916611,
           31.91462851172457,
           93.0543486447553,
           131.94377354632286,
           105.76805966993045,
           79.07198111907873,
           161.7977301103921,
           150.05784361776267,
           67.08893583255293,
           125.04861886199556,
           131.0311890416073,
           98.52119353871632,
           110.53055189484742,
           69.16963607696972,
           166.15243781673482,
           174.72478421176186,
           66.20713580692485,
           78.70574842721496,
           107.36969649286965,
           49.78706773171885,
           75.02089557932275,
           146.84860024069158,
           205.7704760478036,
           159.79836454921193,
           157.50449200613144,
           42.65568574950886,
           137.65921021924308,
           48.20690501129383,
           148.46480371876592,
           146.1492058368393,
           56.598208349658314,
           170.40621369775414,
           144.5162160608581,
           174.6940815662538,
           47.93672586213338,
           43.342464694028884,
           287.50826051458955,
           50.05425000071279,
           507.16516587233286,
           44.124913671178824,
           147.3907238808372,
           59.78595897102176,
           82.24765164422375,
           112.42057581708191,
           100.9389259883653,
           64.57711571781775,
           128.82311137675862,
           132.55490040478384,
           93.2310035680611,
           72.15558933405862,
           68.7649584282815,
           41.30350781373062,
           92.23259159171509,
           215.9368019524675,
           92.41569288057062,
           104.05900129317128,
           63.483977857494715,
           97.11342301114657,
           84.9786882809713,
           114.81206151631403,
           85.42356801647074,
           110.77470224159974,
           67.2401786924764,
           88.16791222618325,
           168.47678329058652,
           245.6026159357857,
           175.4950289851234,
           55.22943070308315,
           51.961577739442546,
           98.47376962739936,
           386.2034966774087,
           29.996020305193483,
           75.82298073809628,
           99.44219309656867,
           88.28511651692497,
           93.73907374069543,
           32.1347727954919,
           65.8640433885918,
           81.8431697043232,
           59.28178142755572,
           121.31968896776857,
           111.90715509550516,
           95.4115081577026,
           50.06013600831633,
           91.72461640074503,
           122.74363089172778,
           101.8332120894765,
           89.77584358613683,
           117.11742124053417,
           189.50964424056176,
           54.83292960294045,
           83.38623022053962,
           41.28951354897708,
           81.103476644336,
           66.99116816415707,
           54.456863828332985,
           137.85766141714845,
           130.5787824353941,
           129.40260493369678,
           68.49345075838596,
           124.89154025692204,
           150.68434404183358,
           86.74004564183947,
           55.25316708017894,
           99.66669089053075,
           178.76372017967793,
           199.10795792714202,
           43.62730869272596,
           124.71444084813172,
           71.78146351584871,
           154.54180942541387,
           239.20756885183187,
           46.442923477283955,
           81.2498024421153,
           130.2540437954876,
           125.86268796885187,
           129.38623759137909,
           199.6706808268594,
           49.36651995270562,
           115.61249880136019,
           116.02771648120189,
           110.35193834282677,
           63.44722185102682,
           89.28462791557044,
           108.96481520512083,
           114.10749801232319,
           148.2937307124882,
           166.8393924439422,
           39.85235937516891,
           74.25688650625207,
           330.76134125318015,
           108.97656292677932,
           75.52206414730894,
           88.59174764645549,
           145.2582840458332,
           131.81803632766093,
           230.43047118300194,
           152.7411755104618,
           172.4818535543911,
           103.49474150404731,
           77.26888742457268,
           84.1832039785143,
           77.55487450753324,
           125.89565599481307,
           54.99708097036486,
           43.51043748202603,
           178.7627042711945,
           124.33798843555631,
           202.0676022647907,
           133.0151248948708,
           161.47510309188155,
           113.61736560620616,
           47.21540707377479,
           166.65695834786976,
           117.24559090204575,
           87.80373444799832,
           58.291169218973295,
           116.28969272437925,
           86.90787348438715,
           88.16236363425017,
           98.57382348760031,
           56.82725525148032,
           308.14580404392507,
           44.34628770991911,
           170.55678820030076,
           153.63129379684582,
           50.63224644725783,
           56.289878589929906,
           181.96490136348638,
           90.86587751182635,
           244.92885198615366,
           148.28946935816865,
           69.91211611575496,
           55.88457137366836,
           145.84418995593484,
           207.13640807136454,
           154.26879332312038,
           74.29001912169153,
           81.61357716480052,
           164.2501015949145,
           86.05625352126935,
           90.27592855133406,
           231.57644416439072,
           395.02030053468906,
           144.3160839708195,
           153.30495620890045,
           105.39386806586293,
           133.7547729585173,
           192.7363319673088,
           104.91225289902526,
           78.64674945044501,
           117.99513030481411,
           134.8710136430637,
           101.52124008685654,
           109.5429270884203,
           252.83383766119718,
           176.83151676585814,
           54.30041781762391,
           100.77770354735824,
           99.33197827598235,
           82.83117344408566,
           143.56559517798408,
           65.11685873020804,
           43.4575414707773,
           226.35487951549857,
           142.7332058358347,
           250.48372476781975,
           60.046289779019055,
           104.74809312353726,
           51.44621755881916,
           75.31307225617813,
           95.69169991229766,
           52.00768158878746,
           150.92921029087202,
           116.79803023083193,
           266.07665626606985,
           270.0799329370281,
           70.09745202148859,
           71.85835939599897,
           51.81767145890255,
           104.61533941533209,
           236.1404341463836,
           94.46854299582007,
           78.42714170869621,
           247.93958822503458,
           83.77150077557091,
           105.04808746558662,
           55.56684745730877,
           106.00915892893839,
           353.081452824887,
           85.07112484821512,
           137.62674348393557,
           63.866978179228745,
           303.0937214215021,
           151.33162184465473,
           128.5115097176233,
           82.69037622245986,
           104.84584777216386,
           78.73671792917281,
           135.81343898538367,
           68.38368053000181,
           43.979542587114715,
           89.06297142724021,
           91.96470552906091,
           114.56051639583562,
           89.63670202501844,
           188.33771138509695,
           57.0761312162959,
           162.67289539207974,
           65.05502467480855,
           90.83188599337987,
           125.29814506286345,
           95.80375546540229,
           80.1629376204443,
           94.89256955081908,
           90.5309798799814,
           56.37260644243737,
           157.03037444128265,
           52.034354656068494,
           116.75602639103785,
           141.76080712978705,
           204.24735178373163,
           180.8978396809952,
           104.44333997325467,
           106.09506539064749,
           318.55520869394553,
           81.71360430530855,
           43.51286889013069,
           121.49814501148411,
           78.6947823219429,
           143.6481036595908,
           292.40306868725685,
           179.27306131436785,
           43.635519890374034,
           49.032943817062666,
           69.28790726557622,
           121.04181277696891,
           190.94731205700006,
           47.81955514019329,
           134.0819286631115,
           48.807236564880775,
           116.61517221390281,
           190.6710235331139,
           433.95419987565936,
           401.2071042878907,
           341.43898101817075,
           200.86402123808944,
           76.7765052710092,
           218.4268660137978,
           200.98009979707837,
           60.68839043555636,
           78.29821720047124,
           137.00842513489746,
           64.25797635564655,
           200.7744076831807,
           83.21831315182824,
           109.38271659823722,
           48.69858416864079,
           96.02034426672193,
           126.86323004001653,
           67.22273134646798,
           111.18425276687843,
           180.296355413922,
           75.76712088603193,
           127.42336242349991,
           121.30919303661805,
           39.54947514426223,
           101.12514556821854,
           145.21746382457303,
           36.161444719564855,
           37.75328104951576,
           105.23699175530705,
           104.12806771537461,
           223.1820664016737,
           107.70960760505201,
           235.79581639957362,
           131.10702966674842,
           62.03606247687018,
           155.65398788858192,
           72.20464381570225,
           27.145194194045853,
           174.98154012539422,
           44.64058569418612,
           105.70417198721248,
           57.43214898517867,
           196.50146478629082,
           59.117836823183126,
           173.26312170119138,
           87.39209078758437,
           103.62867940147045,
           155.0538746935585,
           169.81586984485295,
           69.65347490848384,
           129.36311746618605,
           147.67922779996005,
           124.77646064413602,
           87.90595413736555,
           118.76142572387245,
           93.73785645101637,
           139.52061179406732,
           152.22873575073285,
           48.04046687918506,
           79.11578808461958,
           25.78358594253353,
           46.5246433795225,
           62.32940066072804,
           279.3830342252143,
           169.46125857915249,
           86.23814768876892,
           163.99829372701595,
           165.44553528980921,
           98.21543490700063,
           85.74875461943999,
           128.172687230828,
           209.68961368115902,
           102.892643003311,
           149.8528930988412,
           55.16620729670449,
           39.630163770075995,
           99.67868803816019,
           55.55906730044444,
           103.23401446966581,
           222.83034697461588,
           108.2648397134793,
           79.51556577925558,
           191.66424140219854,
           85.78695059916213,
           143.75132346525544,
           106.33779499255259,
           159.92017086259915,
           124.14295539653996,
           106.31471915776281,
           64.26492455471481,
           140.6619007709256,
           189.37762507018243,
           91.44609890998574,
           82.30798647013289,
           120.97436918958999,
           137.935724866872,
           167.75309773877117,
           23.348427573625223,
           90.7486293490847,
           87.26761472558533,
           122.26435838362474,
           105.19049373676819,
           78.12389028236112,
           63.67743760303714,
           123.10269471005793,
           85.50025213154376,
           68.21760555398731,
           230.4941780066236,
           102.28251714009797,
           107.95811296695172,
           65.47130766160583,
           99.00399923530249,
           155.27100391391357,
           116.88809120217824,
           166.33072733490846,
           42.61592362950306,
           135.19223759197587,
           104.80147385752237,
           39.494447186325914,
           250.6277308893433,
           107.77718443765929,
           114.98232872707027,
           83.29333318997156,
           42.616263700089775,
           116.25448098346294,
           109.78564857190152,
           83.16799535340117,
           109.83199983761335,
           128.58559252800268,
           113.04042094633071,
           78.40489577163694,
           79.78661511990933,
           59.615899710030234,
           94.97685127461544,
           97.7457580246409,
           41.04890561656881,
           137.80601575774767,
           140.17447865978693,
           74.66619557698642,
           101.37303497650983,
           56.78469793960937,
           78.9072515582947,
           41.623817143824326,
           250.72834284988127,
           186.7340938443512,
           121.89349035868335,
           83.11777518766087,
           76.23021503082855,
           63.134850316102884,
           170.71927361436929,
           65.3817229789374,
           157.01335874574798,
           164.62117886495824,
           102.63749687161125,
           132.98594316838992,
           114.84635247897188,
           60.23423740451929,
           200.46252492732305,
           96.61954526703732,
           166.13173101080883,
           99.93273835389833,
           85.44302517259281,
           222.11025824388224,
           106.83010455982858,
           79.75473536838109,
           130.9789301373329,
           114.04761691586803,
           49.465862276128796,
           95.70132948303538,
           106.18004642763734,
           122.00838837870545,
           152.83014072102208,
           70.71025126982335,
           57.88668451184555,
           207.3518988742309,
           128.41457924082852,
           144.00322941456298,
           83.12556304288464,
           76.39556364710468,
           52.98574113734259,
           133.54192768385096,
           119.90136048669063,
           177.83954586759847,
           86.29417765320787,
           61.01426389833062,
           79.65792839995905,
           147.1062709463978,
           99.37762089720853,
           73.759193655092,
           20.42070917372,
           140.88185694020729,
           88.41538578876141,
           82.78851089090807,
           166.3676285548284,
           297.3160172349161,
           94.36421517989987,
           86.69948610745,
           147.06289103043437,
           128.45902726584376,
           180.4384500891084,
           115.84514677471488,
           83.19206198320363,
           145.2051960134587,
           106.47318386833308,
           277.099289891871,
           82.31934417794218,
           89.38072038091734,
           48.07360777709723,
           39.24371940760437,
           515.4207091737201,
           44.202943450939216,
           44.10845068641976,
           315.0515346668867,
           145.46690212089658,
           49.53703982449783,
           119.02000216009174,
           165.03422732897383,
           84.3626795217952,
           54.58331132664489,
           160.89873124560688,
           67.19656275414079,
           152.98303578338928,
           178.4476604805152,
           61.184762798179996,
           109.89919078801661,
           178.599954696558,
           68.40655053368181,
           41.258968728720276,
           164.89173868746357,
           55.87244886906804,
           201.42561009018206,
           122.70446009614888,
           292.63467890597633,
           96.1453473048564,
           208.51665001206416,
           126.43681743169489,
           92.75075455213798,
           252.49258705197985,
           101.83537980594416,
           93.77534829634409,
           90.2003020911579,
           135.74246650656852,
           114.40362994329985,
           74.77820825694096,
           220.79960926569368,
           78.71643093441138,
           150.1957409970593,
           49.6805947713879,
           36.59700747512041,
           148.18398171901168,
           94.09805522445758,
           107.86550298476213,
           109.08533589818707,
           99.69803056981222,
           54.106149301797764,
           104.88157109104633,
           47.2556851562845,
           353.7619045551395,
           235.3902898394915,
           74.97984586984013,
           142.75672039153017,
           77.82498913552868,
           113.46991127597815,
           120.81534603798788,
           115.58827393551654,
           74.47361581929667,
           41.42185852921889,
           157.63522546226946,
           179.52443321856404,
           70.1284479644708,
           60.696235564614355,
           54.211378185059985,
           55.90649774528756,
           451.7365179010453,
           181.7019829981353,
           64.20330663912229,
           77.58827089003212,
           33.77875671602486,
           166.2652302337873,
           82.75695329790331,
           65.27872825913389,
           85.69434425841558,
           133.07014048220356,
           57.094154711033056,
           225.61017844879672,
           188.41923449604383,
           87.5061477753425,
           135.74588624305412,
           85.3504446976754,
           128.64555267398373,
           184.45776950908407,
           104.65863052902743,
           139.24137901681738,
           75.30814890992484,
           83.67917502837776,
           162.66445049757033,
           65.0706308918368,
           84.5549383417088,
           84.71139881261325,
           83.90261324751678,
           250.30176140076316,
           97.66625797771623,
           75.22715374417963,
           45.854398404531366,
           54.817264651843054,
           45.73072722747005,
           110.32728588281094,
           164.6627671410152,
           125.75971404031196,
           152.57924099033295,
           69.02517314852943,
           69.34671956458604,
           168.53679747335758,
           85.3657532508311,
           115.17722109891167,
           88.56523842466474,
           44.57464145726038,
           43.58889348391708,
           335.2826768811879,
           364.26858913450707,
           159.76674922535165,
           115.78602071765931,
           83.39015586405164,
           72.63982950430604,
           164.94952312426264,
           75.42872189174169,
           83.60712301148244,
           136.59735541768563,
           105.69156612988365,
           212.00673350857764,
           83.48155525867722,
           416.0240891125974,
           93.26936063389944,
           63.30127136388076,
           47.32827258189076,
           187.44537987943676,
           88.50306866338195,
           98.55138196981356,
           123.74982824139246,
           195.67702507824376,
           80.56405982397173,
           108.00068906192574,
           69.0565553922264,
           88.11770694537672,
           55.112131041399095,
           163.22507281227342,
           183.30276717833607,
           96.91847088991936,
           72.69385310284702,
           33.42259730048608,
           214.5369252898858,
           52.294710011707295,
           89.61502377818069,
           102.85152892962189,
           111.45266615437582,
           133.41194599326334,
           157.08255132649506,
           99.81206088681128,
           243.84000897992766,
           58.22883003553089,
           152.29054569487832,
           426.41090161232773,
           219.62130092445003,
           150.42464423969503,
           127.20738027881569,
           169.13331839321845,
           263.96779808313073,
           68.73397495241818,
           36.898334330101015,
           42.62342095534044,
           48.62524203760646,
           32.5014377549882,
           76.33734432442087,
           74.70873252419231,
           152.77992706686925,
           114.60244564233086,
           125.46945107172209,
           91.09819828771606,
           83.80576081147576,
           216.93428650486544,
           77.09290721911914,
           182.45862031742922,
           95.04965949591335,
           166.5234044418929,
           109.83461100362547,
           35.67914971286602,
           75.382874996798,
           193.64435653221682,
           173.1154165013936,
           170.82033122177566,
           118.68622500561902,
           55.22061971539693,
           70.51247510854932,
           144.97552984682656,
           135.9279426557705,
           47.78551581150326,
           250.70130202382296,
           45.77335296619191,
           217.8191503734484,
           236.9591137482882,
           86.21372244503297,
           111.60936978700585,
           77.32034323093754,
           130.7566005991389,
           62.092307029531334,
           225.91543682818096,
           306.302277487567,
           85.91642655801819,
           76.04718434801265,
           63.28378594642496,
           305.0666538442617,
           199.37091964733796,
           169.0948232746047,
           190.87179418582076,
           81.61218759360817,
           79.8782920808295,
           131.33786721010466,
           79.06653535348883,
           51.64349160829228,
           115.29678841922711,
           36.472485330274594,
           95.14457367323507,
           56.153142270071065,
           112.58499354816382,
           65.28190921151503,
           52.14061867664458,
           170.1649588076918,
           44.82594412340564,
           58.970536967990896,
           303.99473514885256,
           140.02255889266328,
           133.87922239154642,
           60.95665493319587,
           104.07847128557631,
           84.61037313364746,
           191.87627798999122,
           43.70184196232058,
           200.70746986244325,
           130.9121706411138,
           110.43978251348966,
           105.311979670192,
           76.41755041665454,
           67.45140240418752,
           184.78903196151558,
           174.0078303299988,
           79.92069553827301,
           106.90155949316379,
           101.35476594312924,
           149.11677896064916,
           50.04937063296272,
           140.47432265597226,
           86.15272846135673,
           161.05036942063043,
           33.54496525937954,
           99.44961985810319,
           109.58002338522192,
           367.5691621747037,
           429.42693385129553,
           105.52197728287345,
           96.0569977765225,
           131.83435871580144,
           123.81424415153617,
           42.677381468374996,
           159.1284551686551,
           71.34965535047765,
           165.4677233688741,
           181.86550902518005,
           114.9288164975042,
           94.49279669418796,
           77.15289954818526,
           104.56093710795132,
           50.21735199535533,
           145.72114389580716,
           207.6218627894875,
           71.33106653378972,
           103.59904465957925,
           75.84263016376082,
           93.5040122050857,
           47.010950795545604,
           243.77052827991474,
           55.56974092051828,
           175.42320824045126,
           109.57948451907446,
           262.9445764577049,
           46.69545166402184,
           55.81610075069213,
           250.95216578577507,
           103.53111102954094,
           60.5459869835284,
           109.69203452569214,
           149.65428782721492,
           112.21763950205303,
           80.87108013587208,
           459.5414686324822,
           43.15048475026899,
           112.01367060072181,
           80.53803109679383,
           98.51400086917097,
           108.79474245735646,
           153.12392200793448,
           25.22908328488858,
           126.51274864691679,
           74.19617766113875,
           178.0172255559309,
           193.75458660917386,
           76.26124820159042,
           188.7469181230076,
           86.65670687014408,
           79.65965006848124,
           74.13476005666875,
           68.07982343136354,
           171.9631142658756,
           180.7714195633371,
           150.5219783047655,
           206.36429726716702,
           89.80640118126558,
           165.24450810051337,
           56.53618360400323,
           111.92914542659976,
           53.36834888212306,
           175.4636253754595,
           145.4661740948613,
           349.841383521061,
           246.3049266856429,
           113.0223440859822,
           72.48787749686682,
           90.91906970312908,
           136.88487787233242,
           76.08814323417491,
           69.47287038328643,
           50.16283256906155,
           138.66420454148974,
           148.61626162791478,
           155.51904000523632,
           124.01840365859303,
           110.38370575418477,
           95.31097521360353,
           144.94083055634673,
           170.66385094685558,
           131.10502763665306,
           78.66611537889771,
           83.96571465841222,
           157.6655164056344,
           78.89523705073016,
           210.17682056433006,
           80.83766924370843,
           287.5231762880023,
           128.46195935189962,
           154.95402859996904,
           50.83508701694188,
           154.42820602854934,
           222.33277183412696,
           63.922149382565514,
           202.53444353606974,
           69.01367602954939,
           170.90103425636926,
           145.7149898676267,
           115.40713554497836,
           101.04144570645452,
           65.06075398769471,
           93.46548367487031,
           146.81035442002081,
           62.923866145489676,
           163.76501289347235,
           116.93464296214687,
           169.1454587593963,
           128.34857145821655,
           122.60235589457386,
           94.97655561712602,
           83.19937450091999,
           288.3816394479936,
           110.01798196557269,
           117.08733430789847,
           128.6458799035361,
           154.84948654963713,
           268.90155642100825,
           57.29984896082533,
           63.005118923396886,
           63.554651415320365,
           49.287661285822665,
           101.27222775526722,
           39.422416273486746,
           103.96376065343017,
           86.58971336808649,
           87.78208105359955,
           78.13085349961597,
           62.48471532612612,
           107.14190783150208,
           72.65936088791486,
           113.5167337563071,
           41.43415429985631,
           59.25529535357921,
           47.91519040627067,
           333.42244054496837,
           103.44459696077206,
           77.42738121221468,
           66.73621924919678,
           53.431585657687855,
           89.56649053045884,
           185.4781847415053,
           175.1322579856594,
           229.38235139296845,
           68.25292068937156,
           112.45940146641702,
           116.38640641688986,
           108.27006604959945,
           100.86132422658417,
           510.9961270635242,
           71.27962555405227,
           74.94709010989605,
           335.0942948438274,
           170.12775520299897,
           82.04560138310897,
           84.8441589008336,
           71.14813884111271,
           47.7492970357208,
           99.17061006892384,
           50.055058050633676,
           147.73673532064362,
           146.3161354510881,
           131.75021925233807,
           144.22570758409853,
           202.06670531859484,
           73.3160564931133,
           65.9150136350342,
           205.06258388676335,
           158.99710239036386,
           45.862614411754,
           87.66990282559085,
           76.04534464244485,
           128.05738728998628,
           192.57448939214416,
           95.89901607054837,
           188.4444336204354,
           72.70527428378384,
           238.60758785021042,
           74.34741651275097,
           128.60927337833587,
           248.62151154079984,
           65.67890723077397,
           71.53914335626135,
           77.37085746175518,
           148.61542813604967,
           42.00323361523128
          ],
          "sizemin": 7.5,
          "sizemode": "area"
         },
         "mode": "markers",
         "name": "1",
         "type": "scattergl",
         "x": [
          45,
          27,
          41,
          50,
          59,
          41,
          68,
          37,
          41,
          65,
          61,
          38,
          63,
          40,
          32,
          18,
          33,
          35,
          56,
          29,
          38,
          39,
          34,
          41,
          32,
          33,
          53,
          35,
          54,
          43,
          21,
          25,
          31,
          51,
          27,
          42,
          46,
          34,
          38,
          47,
          21,
          37,
          67,
          75,
          47,
          51,
          54,
          51,
          26,
          59,
          64,
          60,
          43,
          36,
          55,
          51,
          52,
          39,
          20,
          45,
          37,
          69,
          36,
          37,
          55,
          42,
          43,
          22,
          52,
          27,
          52,
          44,
          42,
          59,
          36,
          34,
          28,
          47,
          18,
          40,
          46,
          47,
          30,
          20,
          23,
          43,
          36,
          39,
          31,
          23,
          32,
          51,
          47,
          47,
          36,
          37,
          38,
          46,
          63,
          30,
          25,
          48,
          29,
          18,
          42,
          30,
          39,
          41,
          60,
          57,
          24,
          59,
          51,
          21,
          23,
          48,
          51,
          66,
          32,
          72,
          44,
          49,
          59,
          35,
          40,
          32,
          45,
          37,
          44,
          39,
          37,
          49,
          23,
          26,
          26,
          39,
          48,
          54,
          39,
          59,
          28,
          55,
          34,
          64,
          46,
          45,
          32,
          62,
          64,
          41,
          44,
          29,
          47,
          50,
          32,
          44,
          34,
          39,
          43,
          52,
          61,
          48,
          52,
          53,
          51,
          44,
          55,
          34,
          55,
          58,
          46,
          53,
          43,
          58,
          45,
          29,
          59,
          46,
          35,
          48,
          42,
          37,
          52,
          30,
          25,
          53,
          38,
          27,
          43,
          46,
          41,
          49,
          19,
          36,
          43,
          21,
          35,
          34,
          55,
          53,
          68,
          35,
          44,
          26,
          54,
          48,
          55,
          43,
          55,
          47,
          45,
          61,
          43,
          42,
          60,
          21,
          51,
          45,
          37,
          34,
          25,
          49,
          19,
          32,
          51,
          24,
          38,
          80,
          28,
          30,
          23,
          30,
          35,
          40,
          26,
          31,
          49,
          47,
          65,
          52,
          52,
          60,
          59,
          37,
          36,
          23,
          40,
          32,
          25,
          53,
          49,
          28,
          47,
          36,
          36,
          21,
          52,
          42,
          50,
          28,
          42,
          55,
          35,
          41,
          33,
          49,
          30,
          39,
          43,
          46,
          42,
          63,
          46,
          50,
          38,
          66,
          27,
          58,
          57,
          37,
          42,
          32,
          30
         ],
         "y": [
          13,
          1,
          9,
          13,
          13,
          11,
          10,
          7,
          9,
          9,
          9,
          9,
          14,
          13,
          10,
          5,
          15,
          11,
          9,
          13,
          9,
          9,
          9,
          9,
          13,
          14,
          13,
          14,
          16,
          14,
          9,
          10,
          9,
          9,
          13,
          13,
          7,
          13,
          13,
          10,
          9,
          9,
          10,
          13,
          13,
          9,
          9,
          9,
          9,
          10,
          2,
          13,
          13,
          13,
          9,
          13,
          16,
          14,
          7,
          9,
          16,
          10,
          9,
          14,
          16,
          13,
          11,
          13,
          10,
          3,
          14,
          13,
          12,
          10,
          13,
          14,
          13,
          13,
          4,
          10,
          9,
          13,
          10,
          10,
          12,
          9,
          13,
          9,
          9,
          3,
          12,
          12,
          9,
          9,
          9,
          13,
          13,
          6,
          16,
          13,
          13,
          9,
          9,
          10,
          10,
          10,
          13,
          15,
          2,
          10,
          9,
          14,
          11,
          10,
          10,
          9,
          13,
          9,
          12,
          9,
          15,
          9,
          14,
          9,
          13,
          14,
          14,
          15,
          3,
          13,
          13,
          14,
          7,
          7,
          9,
          13,
          12,
          15,
          9,
          9,
          13,
          14,
          14,
          9,
          4,
          9,
          9,
          10,
          9,
          14,
          13,
          10,
          13,
          14,
          9,
          10,
          13,
          13,
          13,
          7,
          9,
          10,
          11,
          13,
          9,
          13,
          14,
          13,
          13,
          9,
          10,
          14,
          10,
          13,
          9,
          10,
          13,
          14,
          11,
          15,
          9,
          15,
          13,
          15,
          13,
          13,
          9,
          9,
          13,
          14,
          9,
          10,
          6,
          15,
          16,
          9,
          13,
          10,
          14,
          10,
          13,
          10,
          9,
          10,
          10,
          10,
          3,
          10,
          9,
          14,
          10,
          15,
          9,
          10,
          9,
          10,
          9,
          10,
          10,
          9,
          10,
          10,
          10,
          10,
          13,
          10,
          9,
          15,
          9,
          9,
          8,
          10,
          9,
          13,
          10,
          9,
          14,
          13,
          14,
          6,
          10,
          13,
          10,
          9,
          14,
          10,
          16,
          14,
          9,
          9,
          12,
          13,
          13,
          13,
          12,
          10,
          13,
          6,
          9,
          13,
          10,
          14,
          4,
          13,
          13,
          14,
          14,
          15,
          15,
          10,
          11,
          10,
          15,
          13,
          11,
          9,
          9,
          14,
          14,
          13,
          16,
          13,
          9
         ]
        }
       ],
       "layout": {
        "annotations": [
         {
          "font": {
           "size": 16
          },
          "showarrow": false,
          "text": "age",
          "x": 0.5,
          "xanchor": "center",
          "xref": "paper",
          "y": 0,
          "yanchor": "top",
          "yref": "paper",
          "yshift": -30
         },
         {
          "font": {
           "size": 16
          },
          "showarrow": false,
          "text": "education-num",
          "textangle": -90,
          "x": 0,
          "xanchor": "right",
          "xref": "paper",
          "xshift": -40,
          "y": 0.5,
          "yanchor": "middle",
          "yref": "paper"
         }
        ],
        "height": 800,
        "legend": {
         "groupclick": "toggleitem"
        },
        "template": {
         "data": {
          "bar": [
           {
            "error_x": {
             "color": "#2a3f5f"
            },
            "error_y": {
             "color": "#2a3f5f"
            },
            "marker": {
             "line": {
              "color": "#E5ECF6",
              "width": 0.5
             },
             "pattern": {
              "fillmode": "overlay",
              "size": 10,
              "solidity": 0.2
             }
            },
            "type": "bar"
           }
          ],
          "barpolar": [
           {
            "marker": {
             "line": {
              "color": "#E5ECF6",
              "width": 0.5
             },
             "pattern": {
              "fillmode": "overlay",
              "size": 10,
              "solidity": 0.2
             }
            },
            "type": "barpolar"
           }
          ],
          "carpet": [
           {
            "aaxis": {
             "endlinecolor": "#2a3f5f",
             "gridcolor": "white",
             "linecolor": "white",
             "minorgridcolor": "white",
             "startlinecolor": "#2a3f5f"
            },
            "baxis": {
             "endlinecolor": "#2a3f5f",
             "gridcolor": "white",
             "linecolor": "white",
             "minorgridcolor": "white",
             "startlinecolor": "#2a3f5f"
            },
            "type": "carpet"
           }
          ],
          "choropleth": [
           {
            "colorbar": {
             "outlinewidth": 0,
             "ticks": ""
            },
            "type": "choropleth"
           }
          ],
          "contour": [
           {
            "colorbar": {
             "outlinewidth": 0,
             "ticks": ""
            },
            "colorscale": [
             [
              0,
              "#0d0887"
             ],
             [
              0.1111111111111111,
              "#46039f"
             ],
             [
              0.2222222222222222,
              "#7201a8"
             ],
             [
              0.3333333333333333,
              "#9c179e"
             ],
             [
              0.4444444444444444,
              "#bd3786"
             ],
             [
              0.5555555555555556,
              "#d8576b"
             ],
             [
              0.6666666666666666,
              "#ed7953"
             ],
             [
              0.7777777777777778,
              "#fb9f3a"
             ],
             [
              0.8888888888888888,
              "#fdca26"
             ],
             [
              1,
              "#f0f921"
             ]
            ],
            "type": "contour"
           }
          ],
          "contourcarpet": [
           {
            "colorbar": {
             "outlinewidth": 0,
             "ticks": ""
            },
            "type": "contourcarpet"
           }
          ],
          "heatmap": [
           {
            "colorbar": {
             "outlinewidth": 0,
             "ticks": ""
            },
            "colorscale": [
             [
              0,
              "#0d0887"
             ],
             [
              0.1111111111111111,
              "#46039f"
             ],
             [
              0.2222222222222222,
              "#7201a8"
             ],
             [
              0.3333333333333333,
              "#9c179e"
             ],
             [
              0.4444444444444444,
              "#bd3786"
             ],
             [
              0.5555555555555556,
              "#d8576b"
             ],
             [
              0.6666666666666666,
              "#ed7953"
             ],
             [
              0.7777777777777778,
              "#fb9f3a"
             ],
             [
              0.8888888888888888,
              "#fdca26"
             ],
             [
              1,
              "#f0f921"
             ]
            ],
            "type": "heatmap"
           }
          ],
          "heatmapgl": [
           {
            "colorbar": {
             "outlinewidth": 0,
             "ticks": ""
            },
            "colorscale": [
             [
              0,
              "#0d0887"
             ],
             [
              0.1111111111111111,
              "#46039f"
             ],
             [
              0.2222222222222222,
              "#7201a8"
             ],
             [
              0.3333333333333333,
              "#9c179e"
             ],
             [
              0.4444444444444444,
              "#bd3786"
             ],
             [
              0.5555555555555556,
              "#d8576b"
             ],
             [
              0.6666666666666666,
              "#ed7953"
             ],
             [
              0.7777777777777778,
              "#fb9f3a"
             ],
             [
              0.8888888888888888,
              "#fdca26"
             ],
             [
              1,
              "#f0f921"
             ]
            ],
            "type": "heatmapgl"
           }
          ],
          "histogram": [
           {
            "marker": {
             "pattern": {
              "fillmode": "overlay",
              "size": 10,
              "solidity": 0.2
             }
            },
            "type": "histogram"
           }
          ],
          "histogram2d": [
           {
            "colorbar": {
             "outlinewidth": 0,
             "ticks": ""
            },
            "colorscale": [
             [
              0,
              "#0d0887"
             ],
             [
              0.1111111111111111,
              "#46039f"
             ],
             [
              0.2222222222222222,
              "#7201a8"
             ],
             [
              0.3333333333333333,
              "#9c179e"
             ],
             [
              0.4444444444444444,
              "#bd3786"
             ],
             [
              0.5555555555555556,
              "#d8576b"
             ],
             [
              0.6666666666666666,
              "#ed7953"
             ],
             [
              0.7777777777777778,
              "#fb9f3a"
             ],
             [
              0.8888888888888888,
              "#fdca26"
             ],
             [
              1,
              "#f0f921"
             ]
            ],
            "type": "histogram2d"
           }
          ],
          "histogram2dcontour": [
           {
            "colorbar": {
             "outlinewidth": 0,
             "ticks": ""
            },
            "colorscale": [
             [
              0,
              "#0d0887"
             ],
             [
              0.1111111111111111,
              "#46039f"
             ],
             [
              0.2222222222222222,
              "#7201a8"
             ],
             [
              0.3333333333333333,
              "#9c179e"
             ],
             [
              0.4444444444444444,
              "#bd3786"
             ],
             [
              0.5555555555555556,
              "#d8576b"
             ],
             [
              0.6666666666666666,
              "#ed7953"
             ],
             [
              0.7777777777777778,
              "#fb9f3a"
             ],
             [
              0.8888888888888888,
              "#fdca26"
             ],
             [
              1,
              "#f0f921"
             ]
            ],
            "type": "histogram2dcontour"
           }
          ],
          "mesh3d": [
           {
            "colorbar": {
             "outlinewidth": 0,
             "ticks": ""
            },
            "type": "mesh3d"
           }
          ],
          "parcoords": [
           {
            "line": {
             "colorbar": {
              "outlinewidth": 0,
              "ticks": ""
             }
            },
            "type": "parcoords"
           }
          ],
          "pie": [
           {
            "automargin": true,
            "type": "pie"
           }
          ],
          "scatter": [
           {
            "fillpattern": {
             "fillmode": "overlay",
             "size": 10,
             "solidity": 0.2
            },
            "type": "scatter"
           }
          ],
          "scatter3d": [
           {
            "line": {
             "colorbar": {
              "outlinewidth": 0,
              "ticks": ""
             }
            },
            "marker": {
             "colorbar": {
              "outlinewidth": 0,
              "ticks": ""
             }
            },
            "type": "scatter3d"
           }
          ],
          "scattercarpet": [
           {
            "marker": {
             "colorbar": {
              "outlinewidth": 0,
              "ticks": ""
             }
            },
            "type": "scattercarpet"
           }
          ],
          "scattergeo": [
           {
            "marker": {
             "colorbar": {
              "outlinewidth": 0,
              "ticks": ""
             }
            },
            "type": "scattergeo"
           }
          ],
          "scattergl": [
           {
            "marker": {
             "colorbar": {
              "outlinewidth": 0,
              "ticks": ""
             }
            },
            "type": "scattergl"
           }
          ],
          "scattermapbox": [
           {
            "marker": {
             "colorbar": {
              "outlinewidth": 0,
              "ticks": ""
             }
            },
            "type": "scattermapbox"
           }
          ],
          "scatterpolar": [
           {
            "marker": {
             "colorbar": {
              "outlinewidth": 0,
              "ticks": ""
             }
            },
            "type": "scatterpolar"
           }
          ],
          "scatterpolargl": [
           {
            "marker": {
             "colorbar": {
              "outlinewidth": 0,
              "ticks": ""
             }
            },
            "type": "scatterpolargl"
           }
          ],
          "scatterternary": [
           {
            "marker": {
             "colorbar": {
              "outlinewidth": 0,
              "ticks": ""
             }
            },
            "type": "scatterternary"
           }
          ],
          "surface": [
           {
            "colorbar": {
             "outlinewidth": 0,
             "ticks": ""
            },
            "colorscale": [
             [
              0,
              "#0d0887"
             ],
             [
              0.1111111111111111,
              "#46039f"
             ],
             [
              0.2222222222222222,
              "#7201a8"
             ],
             [
              0.3333333333333333,
              "#9c179e"
             ],
             [
              0.4444444444444444,
              "#bd3786"
             ],
             [
              0.5555555555555556,
              "#d8576b"
             ],
             [
              0.6666666666666666,
              "#ed7953"
             ],
             [
              0.7777777777777778,
              "#fb9f3a"
             ],
             [
              0.8888888888888888,
              "#fdca26"
             ],
             [
              1,
              "#f0f921"
             ]
            ],
            "type": "surface"
           }
          ],
          "table": [
           {
            "cells": {
             "fill": {
              "color": "#EBF0F8"
             },
             "line": {
              "color": "white"
             }
            },
            "header": {
             "fill": {
              "color": "#C8D4E3"
             },
             "line": {
              "color": "white"
             }
            },
            "type": "table"
           }
          ]
         },
         "layout": {
          "annotationdefaults": {
           "arrowcolor": "#2a3f5f",
           "arrowhead": 0,
           "arrowwidth": 1
          },
          "autotypenumbers": "strict",
          "coloraxis": {
           "colorbar": {
            "outlinewidth": 0,
            "ticks": ""
           }
          },
          "colorscale": {
           "diverging": [
            [
             0,
             "#8e0152"
            ],
            [
             0.1,
             "#c51b7d"
            ],
            [
             0.2,
             "#de77ae"
            ],
            [
             0.3,
             "#f1b6da"
            ],
            [
             0.4,
             "#fde0ef"
            ],
            [
             0.5,
             "#f7f7f7"
            ],
            [
             0.6,
             "#e6f5d0"
            ],
            [
             0.7,
             "#b8e186"
            ],
            [
             0.8,
             "#7fbc41"
            ],
            [
             0.9,
             "#4d9221"
            ],
            [
             1,
             "#276419"
            ]
           ],
           "sequential": [
            [
             0,
             "#0d0887"
            ],
            [
             0.1111111111111111,
             "#46039f"
            ],
            [
             0.2222222222222222,
             "#7201a8"
            ],
            [
             0.3333333333333333,
             "#9c179e"
            ],
            [
             0.4444444444444444,
             "#bd3786"
            ],
            [
             0.5555555555555556,
             "#d8576b"
            ],
            [
             0.6666666666666666,
             "#ed7953"
            ],
            [
             0.7777777777777778,
             "#fb9f3a"
            ],
            [
             0.8888888888888888,
             "#fdca26"
            ],
            [
             1,
             "#f0f921"
            ]
           ],
           "sequentialminus": [
            [
             0,
             "#0d0887"
            ],
            [
             0.1111111111111111,
             "#46039f"
            ],
            [
             0.2222222222222222,
             "#7201a8"
            ],
            [
             0.3333333333333333,
             "#9c179e"
            ],
            [
             0.4444444444444444,
             "#bd3786"
            ],
            [
             0.5555555555555556,
             "#d8576b"
            ],
            [
             0.6666666666666666,
             "#ed7953"
            ],
            [
             0.7777777777777778,
             "#fb9f3a"
            ],
            [
             0.8888888888888888,
             "#fdca26"
            ],
            [
             1,
             "#f0f921"
            ]
           ]
          },
          "colorway": [
           "#636efa",
           "#EF553B",
           "#00cc96",
           "#ab63fa",
           "#FFA15A",
           "#19d3f3",
           "#FF6692",
           "#B6E880",
           "#FF97FF",
           "#FECB52"
          ],
          "font": {
           "color": "#2a3f5f"
          },
          "geo": {
           "bgcolor": "white",
           "lakecolor": "white",
           "landcolor": "#E5ECF6",
           "showlakes": true,
           "showland": true,
           "subunitcolor": "white"
          },
          "hoverlabel": {
           "align": "left"
          },
          "hovermode": "closest",
          "mapbox": {
           "style": "light"
          },
          "paper_bgcolor": "white",
          "plot_bgcolor": "#E5ECF6",
          "polar": {
           "angularaxis": {
            "gridcolor": "white",
            "linecolor": "white",
            "ticks": ""
           },
           "bgcolor": "#E5ECF6",
           "radialaxis": {
            "gridcolor": "white",
            "linecolor": "white",
            "ticks": ""
           }
          },
          "scene": {
           "xaxis": {
            "backgroundcolor": "#E5ECF6",
            "gridcolor": "white",
            "gridwidth": 2,
            "linecolor": "white",
            "showbackground": true,
            "ticks": "",
            "zerolinecolor": "white"
           },
           "yaxis": {
            "backgroundcolor": "#E5ECF6",
            "gridcolor": "white",
            "gridwidth": 2,
            "linecolor": "white",
            "showbackground": true,
            "ticks": "",
            "zerolinecolor": "white"
           },
           "zaxis": {
            "backgroundcolor": "#E5ECF6",
            "gridcolor": "white",
            "gridwidth": 2,
            "linecolor": "white",
            "showbackground": true,
            "ticks": "",
            "zerolinecolor": "white"
           }
          },
          "shapedefaults": {
           "line": {
            "color": "#2a3f5f"
           }
          },
          "ternary": {
           "aaxis": {
            "gridcolor": "white",
            "linecolor": "white",
            "ticks": ""
           },
           "baxis": {
            "gridcolor": "white",
            "linecolor": "white",
            "ticks": ""
           },
           "bgcolor": "#E5ECF6",
           "caxis": {
            "gridcolor": "white",
            "linecolor": "white",
            "ticks": ""
           }
          },
          "title": {
           "x": 0.05
          },
          "xaxis": {
           "automargin": true,
           "gridcolor": "white",
           "linecolor": "white",
           "ticks": "",
           "title": {
            "standoff": 15
           },
           "zerolinecolor": "white",
           "zerolinewidth": 2
          },
          "yaxis": {
           "automargin": true,
           "gridcolor": "white",
           "linecolor": "white",
           "ticks": "",
           "title": {
            "standoff": 15
           },
           "zerolinecolor": "white",
           "zerolinewidth": 2
          }
         }
        },
        "xaxis": {
         "anchor": "y",
         "domain": [
          0,
          1
         ]
        },
        "yaxis": {
         "anchor": "x",
         "domain": [
          0,
          1
         ]
        }
       }
      }
     },
     "metadata": {},
     "output_type": "display_data"
    }
   ],
   "source": [
    "plot_dataset(partial_train_df, x=\"age\", y=\"education-num\", size=\"density\", hue=\"low_residual_conviction\", alpha=0.4)"
   ]
  },
  {
   "attachments": {},
   "cell_type": "markdown",
   "id": "1d88140c-5ff6-4128-bf24-88f833042e87",
   "metadata": {},
   "source": [
    "The above graph is a visualization of the data set in 2-dimensions, with the color as an indication of residual conviction and the size representing the density of the data. More specifically, the orange color represents the low conviction points (points which are very uncertain), and small size represents low density. Therefore, adding more data to the region with small, orange points can improve model performance. \n",
    "\n",
    "\n",
    "On the other hand, an orange point that is large would be an indication that this case lies in an dense region but was not predictable. Hence, this will be an indication where the problem is not well defined, or the data is missing key features.  \n"
   ]
  }
 ],
 "metadata": {
  "kernelspec": {
   "display_name": "Python 3 (ipykernel)",
   "language": "python",
   "name": "python3"
  },
  "language_info": {
   "codemirror_mode": {
    "name": "ipython",
    "version": 3
   },
   "file_extension": ".py",
   "mimetype": "text/x-python",
   "name": "python",
   "nbconvert_exporter": "python",
   "pygments_lexer": "ipython3",
   "version": "3.11.7"
  },
  "vscode": {
   "interpreter": {
    "hash": "eda761bfb12a75d260c02aadb74c887b69ce57625ad8fbf13f03f9409be493a0"
   }
  }
 },
 "nbformat": 4,
 "nbformat_minor": 5
}
