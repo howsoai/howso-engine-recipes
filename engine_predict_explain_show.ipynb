{
 "cells": [
  {
   "attachments": {},
   "cell_type": "markdown",
   "id": "71cfb4a3-5673-47a8-afa2-b20607105c38",
   "metadata": {
    "tags": []
   },
   "source": [
    "# Overview\n",
    "\n",
    "At a very high level, Howso Engine is about: \n",
    "\n",
    "- Making an accurate prediction (even with limited or sparse data!) \n",
    "\n",
    "- Explaining the prediction process \n",
    "\n",
    "- Showing key properties of the data \n",
    "\n",
    "In this notebook, we will be using the adult data set as an example to demonstrate some of Howso Engine’s capabilities, including cases and features which contribute to predictions, anomalies analysis, and potential improvements to the data to gain more insight into the data.  \n"
   ]
  },
  {
   "cell_type": "code",
   "execution_count": 1,
   "id": "5069bb7d-671f-4d5d-a15c-99d9cd48c779",
   "metadata": {},
   "outputs": [],
   "source": [
    "import matplotlib.pyplot as plt\n",
    "import numpy as np\n",
    "import pandas as pd\n",
    "import seaborn as sns\n",
    "\n",
    "from howso import engine\n",
    "from howso.utilities import infer_feature_attributes\n",
    "from howso.visuals import plot_feature_importances, plot_anomalies, plot_dataset"
   ]
  },
  {
   "cell_type": "code",
   "execution_count": 2,
   "id": "bbe69958-0668-4b82-ae95-dad4dcaaa9e9",
   "metadata": {},
   "outputs": [
    {
     "data": {
      "text/html": [
       "<div>\n",
       "<style scoped>\n",
       "    .dataframe tbody tr th:only-of-type {\n",
       "        vertical-align: middle;\n",
       "    }\n",
       "\n",
       "    .dataframe tbody tr th {\n",
       "        vertical-align: top;\n",
       "    }\n",
       "\n",
       "    .dataframe thead th {\n",
       "        text-align: right;\n",
       "    }\n",
       "</style>\n",
       "<table border=\"1\" class=\"dataframe\">\n",
       "  <thead>\n",
       "    <tr style=\"text-align: right;\">\n",
       "      <th></th>\n",
       "      <th>age</th>\n",
       "      <th>workclass</th>\n",
       "      <th>fnlwgt</th>\n",
       "      <th>education</th>\n",
       "      <th>education-num</th>\n",
       "      <th>marital-status</th>\n",
       "      <th>occupation</th>\n",
       "      <th>relationship</th>\n",
       "      <th>race</th>\n",
       "      <th>sex</th>\n",
       "      <th>capital-gain</th>\n",
       "      <th>capital-loss</th>\n",
       "      <th>hours-per-week</th>\n",
       "      <th>native-country</th>\n",
       "      <th>target</th>\n",
       "    </tr>\n",
       "  </thead>\n",
       "  <tbody>\n",
       "    <tr>\n",
       "      <th>0</th>\n",
       "      <td>34</td>\n",
       "      <td>Local-gov</td>\n",
       "      <td>284843</td>\n",
       "      <td>HS-grad</td>\n",
       "      <td>9</td>\n",
       "      <td>Never-married</td>\n",
       "      <td>Farming-fishing</td>\n",
       "      <td>Not-in-family</td>\n",
       "      <td>Black</td>\n",
       "      <td>Male</td>\n",
       "      <td>594</td>\n",
       "      <td>0</td>\n",
       "      <td>60</td>\n",
       "      <td>United-States</td>\n",
       "      <td>&lt;=50K</td>\n",
       "    </tr>\n",
       "    <tr>\n",
       "      <th>1</th>\n",
       "      <td>38</td>\n",
       "      <td>Private</td>\n",
       "      <td>64879</td>\n",
       "      <td>Some-college</td>\n",
       "      <td>10</td>\n",
       "      <td>Divorced</td>\n",
       "      <td>Sales</td>\n",
       "      <td>Not-in-family</td>\n",
       "      <td>White</td>\n",
       "      <td>Female</td>\n",
       "      <td>0</td>\n",
       "      <td>0</td>\n",
       "      <td>40</td>\n",
       "      <td>United-States</td>\n",
       "      <td>&lt;=50K</td>\n",
       "    </tr>\n",
       "    <tr>\n",
       "      <th>2</th>\n",
       "      <td>35</td>\n",
       "      <td>Private</td>\n",
       "      <td>360799</td>\n",
       "      <td>HS-grad</td>\n",
       "      <td>9</td>\n",
       "      <td>Married-civ-spouse</td>\n",
       "      <td>Craft-repair</td>\n",
       "      <td>Husband</td>\n",
       "      <td>White</td>\n",
       "      <td>Male</td>\n",
       "      <td>7298</td>\n",
       "      <td>0</td>\n",
       "      <td>40</td>\n",
       "      <td>United-States</td>\n",
       "      <td>&gt;50K</td>\n",
       "    </tr>\n",
       "    <tr>\n",
       "      <th>3</th>\n",
       "      <td>22</td>\n",
       "      <td>Private</td>\n",
       "      <td>359759</td>\n",
       "      <td>Some-college</td>\n",
       "      <td>10</td>\n",
       "      <td>Never-married</td>\n",
       "      <td>Sales</td>\n",
       "      <td>Not-in-family</td>\n",
       "      <td>Asian-Pac-Islander</td>\n",
       "      <td>Male</td>\n",
       "      <td>0</td>\n",
       "      <td>0</td>\n",
       "      <td>20</td>\n",
       "      <td>Philippines</td>\n",
       "      <td>&lt;=50K</td>\n",
       "    </tr>\n",
       "    <tr>\n",
       "      <th>4</th>\n",
       "      <td>20</td>\n",
       "      <td>?</td>\n",
       "      <td>133515</td>\n",
       "      <td>Some-college</td>\n",
       "      <td>10</td>\n",
       "      <td>Never-married</td>\n",
       "      <td>?</td>\n",
       "      <td>Own-child</td>\n",
       "      <td>White</td>\n",
       "      <td>Female</td>\n",
       "      <td>0</td>\n",
       "      <td>0</td>\n",
       "      <td>15</td>\n",
       "      <td>France</td>\n",
       "      <td>&lt;=50K</td>\n",
       "    </tr>\n",
       "    <tr>\n",
       "      <th>...</th>\n",
       "      <td>...</td>\n",
       "      <td>...</td>\n",
       "      <td>...</td>\n",
       "      <td>...</td>\n",
       "      <td>...</td>\n",
       "      <td>...</td>\n",
       "      <td>...</td>\n",
       "      <td>...</td>\n",
       "      <td>...</td>\n",
       "      <td>...</td>\n",
       "      <td>...</td>\n",
       "      <td>...</td>\n",
       "      <td>...</td>\n",
       "      <td>...</td>\n",
       "      <td>...</td>\n",
       "    </tr>\n",
       "    <tr>\n",
       "      <th>995</th>\n",
       "      <td>42</td>\n",
       "      <td>Private</td>\n",
       "      <td>248356</td>\n",
       "      <td>HS-grad</td>\n",
       "      <td>9</td>\n",
       "      <td>Never-married</td>\n",
       "      <td>Sales</td>\n",
       "      <td>Unmarried</td>\n",
       "      <td>White</td>\n",
       "      <td>Female</td>\n",
       "      <td>0</td>\n",
       "      <td>0</td>\n",
       "      <td>40</td>\n",
       "      <td>United-States</td>\n",
       "      <td>&lt;=50K</td>\n",
       "    </tr>\n",
       "    <tr>\n",
       "      <th>996</th>\n",
       "      <td>28</td>\n",
       "      <td>Private</td>\n",
       "      <td>274679</td>\n",
       "      <td>Masters</td>\n",
       "      <td>14</td>\n",
       "      <td>Never-married</td>\n",
       "      <td>Prof-specialty</td>\n",
       "      <td>Not-in-family</td>\n",
       "      <td>White</td>\n",
       "      <td>Male</td>\n",
       "      <td>0</td>\n",
       "      <td>0</td>\n",
       "      <td>50</td>\n",
       "      <td>United-States</td>\n",
       "      <td>&lt;=50K</td>\n",
       "    </tr>\n",
       "    <tr>\n",
       "      <th>997</th>\n",
       "      <td>63</td>\n",
       "      <td>Private</td>\n",
       "      <td>158199</td>\n",
       "      <td>1st-4th</td>\n",
       "      <td>2</td>\n",
       "      <td>Widowed</td>\n",
       "      <td>Machine-op-inspct</td>\n",
       "      <td>Unmarried</td>\n",
       "      <td>White</td>\n",
       "      <td>Female</td>\n",
       "      <td>0</td>\n",
       "      <td>0</td>\n",
       "      <td>44</td>\n",
       "      <td>Portugal</td>\n",
       "      <td>&lt;=50K</td>\n",
       "    </tr>\n",
       "    <tr>\n",
       "      <th>998</th>\n",
       "      <td>41</td>\n",
       "      <td>?</td>\n",
       "      <td>128700</td>\n",
       "      <td>HS-grad</td>\n",
       "      <td>9</td>\n",
       "      <td>Never-married</td>\n",
       "      <td>?</td>\n",
       "      <td>Own-child</td>\n",
       "      <td>White</td>\n",
       "      <td>Female</td>\n",
       "      <td>0</td>\n",
       "      <td>0</td>\n",
       "      <td>40</td>\n",
       "      <td>United-States</td>\n",
       "      <td>&lt;=50K</td>\n",
       "    </tr>\n",
       "    <tr>\n",
       "      <th>999</th>\n",
       "      <td>25</td>\n",
       "      <td>Private</td>\n",
       "      <td>98155</td>\n",
       "      <td>Some-college</td>\n",
       "      <td>10</td>\n",
       "      <td>Never-married</td>\n",
       "      <td>Transport-moving</td>\n",
       "      <td>Unmarried</td>\n",
       "      <td>White</td>\n",
       "      <td>Male</td>\n",
       "      <td>0</td>\n",
       "      <td>0</td>\n",
       "      <td>40</td>\n",
       "      <td>United-States</td>\n",
       "      <td>&lt;=50K</td>\n",
       "    </tr>\n",
       "  </tbody>\n",
       "</table>\n",
       "<p>1000 rows × 15 columns</p>\n",
       "</div>"
      ],
      "text/plain": [
       "     age   workclass  fnlwgt      education  education-num  \\\n",
       "0     34   Local-gov  284843        HS-grad              9   \n",
       "1     38     Private   64879   Some-college             10   \n",
       "2     35     Private  360799        HS-grad              9   \n",
       "3     22     Private  359759   Some-college             10   \n",
       "4     20           ?  133515   Some-college             10   \n",
       "..   ...         ...     ...            ...            ...   \n",
       "995   42     Private  248356        HS-grad              9   \n",
       "996   28     Private  274679        Masters             14   \n",
       "997   63     Private  158199        1st-4th              2   \n",
       "998   41           ?  128700        HS-grad              9   \n",
       "999   25     Private   98155   Some-college             10   \n",
       "\n",
       "          marital-status          occupation    relationship  \\\n",
       "0          Never-married     Farming-fishing   Not-in-family   \n",
       "1               Divorced               Sales   Not-in-family   \n",
       "2     Married-civ-spouse        Craft-repair         Husband   \n",
       "3          Never-married               Sales   Not-in-family   \n",
       "4          Never-married                   ?       Own-child   \n",
       "..                   ...                 ...             ...   \n",
       "995        Never-married               Sales       Unmarried   \n",
       "996        Never-married      Prof-specialty   Not-in-family   \n",
       "997              Widowed   Machine-op-inspct       Unmarried   \n",
       "998        Never-married                   ?       Own-child   \n",
       "999        Never-married    Transport-moving       Unmarried   \n",
       "\n",
       "                    race      sex  capital-gain  capital-loss  hours-per-week  \\\n",
       "0                  Black     Male           594             0              60   \n",
       "1                  White   Female             0             0              40   \n",
       "2                  White     Male          7298             0              40   \n",
       "3     Asian-Pac-Islander     Male             0             0              20   \n",
       "4                  White   Female             0             0              15   \n",
       "..                   ...      ...           ...           ...             ...   \n",
       "995                White   Female             0             0              40   \n",
       "996                White     Male             0             0              50   \n",
       "997                White   Female             0             0              44   \n",
       "998                White   Female             0             0              40   \n",
       "999                White     Male             0             0              40   \n",
       "\n",
       "     native-country  target  \n",
       "0     United-States   <=50K  \n",
       "1     United-States   <=50K  \n",
       "2     United-States    >50K  \n",
       "3       Philippines   <=50K  \n",
       "4            France   <=50K  \n",
       "..              ...     ...  \n",
       "995   United-States   <=50K  \n",
       "996   United-States   <=50K  \n",
       "997        Portugal   <=50K  \n",
       "998   United-States   <=50K  \n",
       "999   United-States   <=50K  \n",
       "\n",
       "[1000 rows x 15 columns]"
      ]
     },
     "execution_count": 2,
     "metadata": {},
     "output_type": "execute_result"
    }
   ],
   "source": [
    "# Load adult data\n",
    "df = pd.read_csv('data/adult.data', header=None)\n",
    "\n",
    "# Specify column names\n",
    "df.columns = ['age', 'workclass', 'fnlwgt', 'education', \n",
    "              'education-num', 'marital-status', 'occupation',\n",
    "              'relationship', 'race', 'sex', 'capital-gain', \n",
    "              'capital-loss', 'hours-per-week', 'native-country', 'target']\n",
    "\n",
    "# Sample the data for demo purpose\n",
    "df = df.sample(1_000).reset_index(drop=True)\n",
    "\n",
    "df"
   ]
  },
  {
   "cell_type": "code",
   "execution_count": 3,
   "id": "6f16acd5-4006-4488-a71a-1be4692d6479",
   "metadata": {},
   "outputs": [],
   "source": [
    "partial_features = {\n",
    "    \"education\": {\"type\": \"nominal\"}\n",
    "}\n",
    "\n",
    "# Infer features types\n",
    "features = infer_feature_attributes(df, features=partial_features)\n",
    "\n",
    "# Specify the context and action feature\n",
    "action_features = ['target']\n",
    "context_features = features.get_names(without=['target'])"
   ]
  },
  {
   "cell_type": "code",
   "execution_count": 4,
   "id": "07eacaca-ce18-4850-9648-bbf7453d593e",
   "metadata": {},
   "outputs": [],
   "source": [
    "# Create the trainee with custom name\n",
    "t = engine.Trainee(name='Engine - Predictions and Explanations Recipe', features=features, overwrite_existing=True)\n",
    "\n",
    "# Train\n",
    "t.train(df)\n",
    "\n",
    "# Analyze the model\n",
    "t.analyze(action_features=action_features)\n"
   ]
  },
  {
   "cell_type": "code",
   "execution_count": 5,
   "id": "03c4f734-d0a4-45ed-a85e-e756ee105c8c",
   "metadata": {},
   "outputs": [
    {
     "name": "stdout",
     "output_type": "stream",
     "text": [
      "Test set prediction accuracy: 0.821\n"
     ]
    }
   ],
   "source": [
    "t.react_into_trainee(residuals=True)\n",
    "\n",
    "accuracy = t.get_prediction_stats(stats=['accuracy'])['target'][0]\n",
    "\n",
    "print(\"Test set prediction accuracy: {acc}\".format(acc=accuracy))"
   ]
  },
  {
   "attachments": {},
   "cell_type": "markdown",
   "id": "05ea5c3e-ad35-421b-8f1f-de5553b11f41",
   "metadata": {},
   "source": [
    "# Explain\n",
    "\n",
    "How was the predictions made? \n",
    "\n",
    "Howso Engine provides detailed explanation for complete model transparency. Let's examine a subset of the explanations.\n"
   ]
  },
  {
   "attachments": {},
   "cell_type": "markdown",
   "id": "a08e870a-c1d2-4220-b683-cbfc048033c5",
   "metadata": {},
   "source": [
    "## Feature importance (global)\n",
    "\n",
    "The feature importance information provides insight into the feature[s] which were primary drivers for each of the prediction. This is important to understand in the context of AI bias and discrimination (ex. Sensitive attribute being the primary contribution to a prediction). \n",
    "\n",
    "This information is available at the global level (overall model), but can also be extracted at the local level (regional model for each case)."
   ]
  },
  {
   "cell_type": "code",
   "execution_count": 6,
   "id": "2516f905-3304-4c15-9f9b-0f340307ce61",
   "metadata": {},
   "outputs": [
    {
     "data": {
      "application/vnd.plotly.v1+json": {
       "config": {
        "plotlyServerURL": "https://plot.ly"
       },
       "data": [
        {
         "type": "bar",
         "x": [
          "marital-status",
          "occupation",
          "hours-per-week",
          "capital-gain",
          "relationship",
          "sex",
          "education-num",
          "native-country",
          "age",
          "education",
          "race",
          "workclass",
          "fnlwgt",
          "capital-loss"
         ],
         "y": [
          0.02605528586714634,
          0.01911134537115433,
          0.013396376285355893,
          0.013168176131205633,
          0.013012111545180616,
          0.010580576028591693,
          0.00959953618216075,
          0.00835907144829856,
          0.006684880262207926,
          0.006407984368297814,
          0.004978016330858315,
          0.0018805822636081548,
          0.0016078991894565298,
          0.0013421441850484106
         ]
        }
       ],
       "layout": {
        "template": {
         "data": {
          "bar": [
           {
            "error_x": {
             "color": "#2a3f5f"
            },
            "error_y": {
             "color": "#2a3f5f"
            },
            "marker": {
             "line": {
              "color": "#E5ECF6",
              "width": 0.5
             },
             "pattern": {
              "fillmode": "overlay",
              "size": 10,
              "solidity": 0.2
             }
            },
            "type": "bar"
           }
          ],
          "barpolar": [
           {
            "marker": {
             "line": {
              "color": "#E5ECF6",
              "width": 0.5
             },
             "pattern": {
              "fillmode": "overlay",
              "size": 10,
              "solidity": 0.2
             }
            },
            "type": "barpolar"
           }
          ],
          "carpet": [
           {
            "aaxis": {
             "endlinecolor": "#2a3f5f",
             "gridcolor": "white",
             "linecolor": "white",
             "minorgridcolor": "white",
             "startlinecolor": "#2a3f5f"
            },
            "baxis": {
             "endlinecolor": "#2a3f5f",
             "gridcolor": "white",
             "linecolor": "white",
             "minorgridcolor": "white",
             "startlinecolor": "#2a3f5f"
            },
            "type": "carpet"
           }
          ],
          "choropleth": [
           {
            "colorbar": {
             "outlinewidth": 0,
             "ticks": ""
            },
            "type": "choropleth"
           }
          ],
          "contour": [
           {
            "colorbar": {
             "outlinewidth": 0,
             "ticks": ""
            },
            "colorscale": [
             [
              0,
              "#0d0887"
             ],
             [
              0.1111111111111111,
              "#46039f"
             ],
             [
              0.2222222222222222,
              "#7201a8"
             ],
             [
              0.3333333333333333,
              "#9c179e"
             ],
             [
              0.4444444444444444,
              "#bd3786"
             ],
             [
              0.5555555555555556,
              "#d8576b"
             ],
             [
              0.6666666666666666,
              "#ed7953"
             ],
             [
              0.7777777777777778,
              "#fb9f3a"
             ],
             [
              0.8888888888888888,
              "#fdca26"
             ],
             [
              1,
              "#f0f921"
             ]
            ],
            "type": "contour"
           }
          ],
          "contourcarpet": [
           {
            "colorbar": {
             "outlinewidth": 0,
             "ticks": ""
            },
            "type": "contourcarpet"
           }
          ],
          "heatmap": [
           {
            "colorbar": {
             "outlinewidth": 0,
             "ticks": ""
            },
            "colorscale": [
             [
              0,
              "#0d0887"
             ],
             [
              0.1111111111111111,
              "#46039f"
             ],
             [
              0.2222222222222222,
              "#7201a8"
             ],
             [
              0.3333333333333333,
              "#9c179e"
             ],
             [
              0.4444444444444444,
              "#bd3786"
             ],
             [
              0.5555555555555556,
              "#d8576b"
             ],
             [
              0.6666666666666666,
              "#ed7953"
             ],
             [
              0.7777777777777778,
              "#fb9f3a"
             ],
             [
              0.8888888888888888,
              "#fdca26"
             ],
             [
              1,
              "#f0f921"
             ]
            ],
            "type": "heatmap"
           }
          ],
          "heatmapgl": [
           {
            "colorbar": {
             "outlinewidth": 0,
             "ticks": ""
            },
            "colorscale": [
             [
              0,
              "#0d0887"
             ],
             [
              0.1111111111111111,
              "#46039f"
             ],
             [
              0.2222222222222222,
              "#7201a8"
             ],
             [
              0.3333333333333333,
              "#9c179e"
             ],
             [
              0.4444444444444444,
              "#bd3786"
             ],
             [
              0.5555555555555556,
              "#d8576b"
             ],
             [
              0.6666666666666666,
              "#ed7953"
             ],
             [
              0.7777777777777778,
              "#fb9f3a"
             ],
             [
              0.8888888888888888,
              "#fdca26"
             ],
             [
              1,
              "#f0f921"
             ]
            ],
            "type": "heatmapgl"
           }
          ],
          "histogram": [
           {
            "marker": {
             "pattern": {
              "fillmode": "overlay",
              "size": 10,
              "solidity": 0.2
             }
            },
            "type": "histogram"
           }
          ],
          "histogram2d": [
           {
            "colorbar": {
             "outlinewidth": 0,
             "ticks": ""
            },
            "colorscale": [
             [
              0,
              "#0d0887"
             ],
             [
              0.1111111111111111,
              "#46039f"
             ],
             [
              0.2222222222222222,
              "#7201a8"
             ],
             [
              0.3333333333333333,
              "#9c179e"
             ],
             [
              0.4444444444444444,
              "#bd3786"
             ],
             [
              0.5555555555555556,
              "#d8576b"
             ],
             [
              0.6666666666666666,
              "#ed7953"
             ],
             [
              0.7777777777777778,
              "#fb9f3a"
             ],
             [
              0.8888888888888888,
              "#fdca26"
             ],
             [
              1,
              "#f0f921"
             ]
            ],
            "type": "histogram2d"
           }
          ],
          "histogram2dcontour": [
           {
            "colorbar": {
             "outlinewidth": 0,
             "ticks": ""
            },
            "colorscale": [
             [
              0,
              "#0d0887"
             ],
             [
              0.1111111111111111,
              "#46039f"
             ],
             [
              0.2222222222222222,
              "#7201a8"
             ],
             [
              0.3333333333333333,
              "#9c179e"
             ],
             [
              0.4444444444444444,
              "#bd3786"
             ],
             [
              0.5555555555555556,
              "#d8576b"
             ],
             [
              0.6666666666666666,
              "#ed7953"
             ],
             [
              0.7777777777777778,
              "#fb9f3a"
             ],
             [
              0.8888888888888888,
              "#fdca26"
             ],
             [
              1,
              "#f0f921"
             ]
            ],
            "type": "histogram2dcontour"
           }
          ],
          "mesh3d": [
           {
            "colorbar": {
             "outlinewidth": 0,
             "ticks": ""
            },
            "type": "mesh3d"
           }
          ],
          "parcoords": [
           {
            "line": {
             "colorbar": {
              "outlinewidth": 0,
              "ticks": ""
             }
            },
            "type": "parcoords"
           }
          ],
          "pie": [
           {
            "automargin": true,
            "type": "pie"
           }
          ],
          "scatter": [
           {
            "fillpattern": {
             "fillmode": "overlay",
             "size": 10,
             "solidity": 0.2
            },
            "type": "scatter"
           }
          ],
          "scatter3d": [
           {
            "line": {
             "colorbar": {
              "outlinewidth": 0,
              "ticks": ""
             }
            },
            "marker": {
             "colorbar": {
              "outlinewidth": 0,
              "ticks": ""
             }
            },
            "type": "scatter3d"
           }
          ],
          "scattercarpet": [
           {
            "marker": {
             "colorbar": {
              "outlinewidth": 0,
              "ticks": ""
             }
            },
            "type": "scattercarpet"
           }
          ],
          "scattergeo": [
           {
            "marker": {
             "colorbar": {
              "outlinewidth": 0,
              "ticks": ""
             }
            },
            "type": "scattergeo"
           }
          ],
          "scattergl": [
           {
            "marker": {
             "colorbar": {
              "outlinewidth": 0,
              "ticks": ""
             }
            },
            "type": "scattergl"
           }
          ],
          "scattermapbox": [
           {
            "marker": {
             "colorbar": {
              "outlinewidth": 0,
              "ticks": ""
             }
            },
            "type": "scattermapbox"
           }
          ],
          "scatterpolar": [
           {
            "marker": {
             "colorbar": {
              "outlinewidth": 0,
              "ticks": ""
             }
            },
            "type": "scatterpolar"
           }
          ],
          "scatterpolargl": [
           {
            "marker": {
             "colorbar": {
              "outlinewidth": 0,
              "ticks": ""
             }
            },
            "type": "scatterpolargl"
           }
          ],
          "scatterternary": [
           {
            "marker": {
             "colorbar": {
              "outlinewidth": 0,
              "ticks": ""
             }
            },
            "type": "scatterternary"
           }
          ],
          "surface": [
           {
            "colorbar": {
             "outlinewidth": 0,
             "ticks": ""
            },
            "colorscale": [
             [
              0,
              "#0d0887"
             ],
             [
              0.1111111111111111,
              "#46039f"
             ],
             [
              0.2222222222222222,
              "#7201a8"
             ],
             [
              0.3333333333333333,
              "#9c179e"
             ],
             [
              0.4444444444444444,
              "#bd3786"
             ],
             [
              0.5555555555555556,
              "#d8576b"
             ],
             [
              0.6666666666666666,
              "#ed7953"
             ],
             [
              0.7777777777777778,
              "#fb9f3a"
             ],
             [
              0.8888888888888888,
              "#fdca26"
             ],
             [
              1,
              "#f0f921"
             ]
            ],
            "type": "surface"
           }
          ],
          "table": [
           {
            "cells": {
             "fill": {
              "color": "#EBF0F8"
             },
             "line": {
              "color": "white"
             }
            },
            "header": {
             "fill": {
              "color": "#C8D4E3"
             },
             "line": {
              "color": "white"
             }
            },
            "type": "table"
           }
          ]
         },
         "layout": {
          "annotationdefaults": {
           "arrowcolor": "#2a3f5f",
           "arrowhead": 0,
           "arrowwidth": 1
          },
          "autotypenumbers": "strict",
          "coloraxis": {
           "colorbar": {
            "outlinewidth": 0,
            "ticks": ""
           }
          },
          "colorscale": {
           "diverging": [
            [
             0,
             "#8e0152"
            ],
            [
             0.1,
             "#c51b7d"
            ],
            [
             0.2,
             "#de77ae"
            ],
            [
             0.3,
             "#f1b6da"
            ],
            [
             0.4,
             "#fde0ef"
            ],
            [
             0.5,
             "#f7f7f7"
            ],
            [
             0.6,
             "#e6f5d0"
            ],
            [
             0.7,
             "#b8e186"
            ],
            [
             0.8,
             "#7fbc41"
            ],
            [
             0.9,
             "#4d9221"
            ],
            [
             1,
             "#276419"
            ]
           ],
           "sequential": [
            [
             0,
             "#0d0887"
            ],
            [
             0.1111111111111111,
             "#46039f"
            ],
            [
             0.2222222222222222,
             "#7201a8"
            ],
            [
             0.3333333333333333,
             "#9c179e"
            ],
            [
             0.4444444444444444,
             "#bd3786"
            ],
            [
             0.5555555555555556,
             "#d8576b"
            ],
            [
             0.6666666666666666,
             "#ed7953"
            ],
            [
             0.7777777777777778,
             "#fb9f3a"
            ],
            [
             0.8888888888888888,
             "#fdca26"
            ],
            [
             1,
             "#f0f921"
            ]
           ],
           "sequentialminus": [
            [
             0,
             "#0d0887"
            ],
            [
             0.1111111111111111,
             "#46039f"
            ],
            [
             0.2222222222222222,
             "#7201a8"
            ],
            [
             0.3333333333333333,
             "#9c179e"
            ],
            [
             0.4444444444444444,
             "#bd3786"
            ],
            [
             0.5555555555555556,
             "#d8576b"
            ],
            [
             0.6666666666666666,
             "#ed7953"
            ],
            [
             0.7777777777777778,
             "#fb9f3a"
            ],
            [
             0.8888888888888888,
             "#fdca26"
            ],
            [
             1,
             "#f0f921"
            ]
           ]
          },
          "colorway": [
           "#636efa",
           "#EF553B",
           "#00cc96",
           "#ab63fa",
           "#FFA15A",
           "#19d3f3",
           "#FF6692",
           "#B6E880",
           "#FF97FF",
           "#FECB52"
          ],
          "font": {
           "color": "#2a3f5f"
          },
          "geo": {
           "bgcolor": "white",
           "lakecolor": "white",
           "landcolor": "#E5ECF6",
           "showlakes": true,
           "showland": true,
           "subunitcolor": "white"
          },
          "hoverlabel": {
           "align": "left"
          },
          "hovermode": "closest",
          "mapbox": {
           "style": "light"
          },
          "paper_bgcolor": "white",
          "plot_bgcolor": "#E5ECF6",
          "polar": {
           "angularaxis": {
            "gridcolor": "white",
            "linecolor": "white",
            "ticks": ""
           },
           "bgcolor": "#E5ECF6",
           "radialaxis": {
            "gridcolor": "white",
            "linecolor": "white",
            "ticks": ""
           }
          },
          "scene": {
           "xaxis": {
            "backgroundcolor": "#E5ECF6",
            "gridcolor": "white",
            "gridwidth": 2,
            "linecolor": "white",
            "showbackground": true,
            "ticks": "",
            "zerolinecolor": "white"
           },
           "yaxis": {
            "backgroundcolor": "#E5ECF6",
            "gridcolor": "white",
            "gridwidth": 2,
            "linecolor": "white",
            "showbackground": true,
            "ticks": "",
            "zerolinecolor": "white"
           },
           "zaxis": {
            "backgroundcolor": "#E5ECF6",
            "gridcolor": "white",
            "gridwidth": 2,
            "linecolor": "white",
            "showbackground": true,
            "ticks": "",
            "zerolinecolor": "white"
           }
          },
          "shapedefaults": {
           "line": {
            "color": "#2a3f5f"
           }
          },
          "ternary": {
           "aaxis": {
            "gridcolor": "white",
            "linecolor": "white",
            "ticks": ""
           },
           "baxis": {
            "gridcolor": "white",
            "linecolor": "white",
            "ticks": ""
           },
           "bgcolor": "#E5ECF6",
           "caxis": {
            "gridcolor": "white",
            "linecolor": "white",
            "ticks": ""
           }
          },
          "title": {
           "x": 0.05
          },
          "xaxis": {
           "automargin": true,
           "gridcolor": "white",
           "linecolor": "white",
           "ticks": "",
           "title": {
            "standoff": 15
           },
           "zerolinecolor": "white",
           "zerolinewidth": 2
          },
          "yaxis": {
           "automargin": true,
           "gridcolor": "white",
           "linecolor": "white",
           "ticks": "",
           "title": {
            "standoff": 15
           },
           "zerolinecolor": "white",
           "zerolinewidth": 2
          }
         }
        },
        "title": {
         "text": "Global Mean Decrease in Accuracy (MDA)"
        },
        "xaxis": {
         "anchor": "y",
         "domain": [
          0,
          1
         ],
         "title": {
          "text": "Feature"
         }
        },
        "yaxis": {
         "anchor": "x",
         "domain": [
          0,
          1
         ],
         "title": {
          "text": "MDA"
         }
        }
       }
      }
     },
     "metadata": {},
     "output_type": "display_data"
    }
   ],
   "source": [
    "# Extract the global MDA (mean decrease in accuracy)\n",
    "t.react_into_trainee(action_feature=action_features[0], mda_robust=True, residuals=True)\n",
    "global_mda = t.get_prediction_stats(action_feature=action_features[0], stats=['mda'])\n",
    "plot_feature_importances(global_mda, title=\"Global Mean Decrease in Accuracy (MDA)\", yaxis_title=\"MDA\")"
   ]
  },
  {
   "attachments": {},
   "cell_type": "markdown",
   "id": "0124c8fb-f73e-4c32-a3c8-616c873cc89c",
   "metadata": {},
   "source": [
    "## Feature uncertainty (global)\n",
    "\n",
    "Are there any noisy features? \n",
    "\n",
    "Howso Engine’s performance is robust against noisy feature[s], and can maintain a high level of accuracy despite noisy data. \n",
    "\n",
    "Part of the reason  Howso Engine can maintain the level of performance despite noisy data is through characterization of feature uncertainties (residuals). The feature residuals can be extracted for user review. Note, the residuals are in the same units as the original features which makes it easy to interpret. For example, the residual for the “age” feature has the unit of years as in the original data.\n",
    "\n",
    "Feature residuals are available at the global level (overall model) and at the local level (regional model for each case).\n"
   ]
  },
  {
   "cell_type": "code",
   "execution_count": 7,
   "id": "d9307608-5e5e-48ee-8c3a-f7eac3ef7469",
   "metadata": {},
   "outputs": [
    {
     "data": {
      "text/html": [
       "<div>\n",
       "<style scoped>\n",
       "    .dataframe tbody tr th:only-of-type {\n",
       "        vertical-align: middle;\n",
       "    }\n",
       "\n",
       "    .dataframe tbody tr th {\n",
       "        vertical-align: top;\n",
       "    }\n",
       "\n",
       "    .dataframe thead th {\n",
       "        text-align: right;\n",
       "    }\n",
       "</style>\n",
       "<table border=\"1\" class=\"dataframe\">\n",
       "  <thead>\n",
       "    <tr style=\"text-align: right;\">\n",
       "      <th></th>\n",
       "      <th>residuals</th>\n",
       "    </tr>\n",
       "  </thead>\n",
       "  <tbody>\n",
       "    <tr>\n",
       "      <th>fnlwgt</th>\n",
       "      <td>96858.530174</td>\n",
       "    </tr>\n",
       "    <tr>\n",
       "      <th>capital-gain</th>\n",
       "      <td>1517.384594</td>\n",
       "    </tr>\n",
       "    <tr>\n",
       "      <th>hours-per-week</th>\n",
       "      <td>10.316415</td>\n",
       "    </tr>\n",
       "    <tr>\n",
       "      <th>age</th>\n",
       "      <td>9.699608</td>\n",
       "    </tr>\n",
       "    <tr>\n",
       "      <th>occupation</th>\n",
       "      <td>0.772539</td>\n",
       "    </tr>\n",
       "    <tr>\n",
       "      <th>workclass</th>\n",
       "      <td>0.395709</td>\n",
       "    </tr>\n",
       "    <tr>\n",
       "      <th>relationship</th>\n",
       "      <td>0.370735</td>\n",
       "    </tr>\n",
       "    <tr>\n",
       "      <th>marital-status</th>\n",
       "      <td>0.320135</td>\n",
       "    </tr>\n",
       "    <tr>\n",
       "      <th>education-num</th>\n",
       "      <td>0.280954</td>\n",
       "    </tr>\n",
       "    <tr>\n",
       "      <th>education</th>\n",
       "      <td>0.280954</td>\n",
       "    </tr>\n",
       "  </tbody>\n",
       "</table>\n",
       "</div>"
      ],
      "text/plain": [
       "                   residuals\n",
       "fnlwgt          96858.530174\n",
       "capital-gain     1517.384594\n",
       "hours-per-week     10.316415\n",
       "age                 9.699608\n",
       "occupation          0.772539\n",
       "workclass           0.395709\n",
       "relationship        0.370735\n",
       "marital-status      0.320135\n",
       "education-num       0.280954\n",
       "education           0.280954"
      ]
     },
     "execution_count": 7,
     "metadata": {},
     "output_type": "execute_result"
    }
   ],
   "source": [
    "# Global feature residuals\n",
    "global_feature_residuals = t.get_prediction_stats(stats=['mae']).T.rename(columns={'mae':'residuals'}).sort_values('residuals', ascending=False)\n",
    "global_feature_residuals.iloc[0:10]"
   ]
  },
  {
   "attachments": {},
   "cell_type": "markdown",
   "id": "8a76584f-341d-4102-9887-e274de58a861",
   "metadata": {},
   "source": [
    "# \"Show me...\"\n",
    "\n",
    "Howso Engine can be used to show interesting information pertaining to the data and model, such as anomalous cases and potential model improvements. \n",
    " \n",
    "For each prediction, Howso Engine can also extract the influential cases and boundary cases to provide an exact explanation to the prediction process. More details on what’s available can be found in the notebook “2-interpretability.ipynb”.\n"
   ]
  },
  {
   "attachments": {},
   "cell_type": "markdown",
   "id": "652f7abc-e818-4c6b-8fd4-c1dd1cbd5736",
   "metadata": {},
   "source": [
    "## Anomalous cases\n",
    "\n",
    "Anomalous cases can exist in the data as either an outlier or inlier. Outliers are cases which are very different than other cases. Inliers are cases which are too similar to other cases and do not follow the expected distribution. Inliers can be an indication of a fraudulent case that is “too good to be true”. \n",
    "\n"
   ]
  },
  {
   "cell_type": "code",
   "execution_count": 8,
   "id": "0e0e3259-cdb2-4162-b67a-30a5813c5c42",
   "metadata": {},
   "outputs": [
    {
     "data": {
      "text/html": [
       "<div>\n",
       "<style scoped>\n",
       "    .dataframe tbody tr th:only-of-type {\n",
       "        vertical-align: middle;\n",
       "    }\n",
       "\n",
       "    .dataframe tbody tr th {\n",
       "        vertical-align: top;\n",
       "    }\n",
       "\n",
       "    .dataframe thead th {\n",
       "        text-align: right;\n",
       "    }\n",
       "</style>\n",
       "<table border=\"1\" class=\"dataframe\">\n",
       "  <thead>\n",
       "    <tr style=\"text-align: right;\">\n",
       "      <th></th>\n",
       "      <th>age</th>\n",
       "      <th>workclass</th>\n",
       "      <th>fnlwgt</th>\n",
       "      <th>education</th>\n",
       "      <th>education-num</th>\n",
       "      <th>marital-status</th>\n",
       "      <th>occupation</th>\n",
       "      <th>relationship</th>\n",
       "      <th>race</th>\n",
       "      <th>sex</th>\n",
       "      <th>capital-gain</th>\n",
       "      <th>capital-loss</th>\n",
       "      <th>hours-per-week</th>\n",
       "      <th>native-country</th>\n",
       "      <th>target</th>\n",
       "      <th>familiarity_conviction_addition</th>\n",
       "      <th>.session_training_index</th>\n",
       "      <th>.session</th>\n",
       "      <th>distance_contribution</th>\n",
       "    </tr>\n",
       "  </thead>\n",
       "  <tbody>\n",
       "    <tr>\n",
       "      <th>0</th>\n",
       "      <td>34</td>\n",
       "      <td>Local-gov</td>\n",
       "      <td>284843</td>\n",
       "      <td>HS-grad</td>\n",
       "      <td>9</td>\n",
       "      <td>Never-married</td>\n",
       "      <td>Farming-fishing</td>\n",
       "      <td>Not-in-family</td>\n",
       "      <td>Black</td>\n",
       "      <td>Male</td>\n",
       "      <td>594</td>\n",
       "      <td>0</td>\n",
       "      <td>60</td>\n",
       "      <td>United-States</td>\n",
       "      <td>&lt;=50K</td>\n",
       "      <td>21.938997</td>\n",
       "      <td>0</td>\n",
       "      <td>7bbda081-cd7c-46fd-9911-87746c6ac9a8</td>\n",
       "      <td>3.975991</td>\n",
       "    </tr>\n",
       "    <tr>\n",
       "      <th>1</th>\n",
       "      <td>38</td>\n",
       "      <td>Private</td>\n",
       "      <td>64879</td>\n",
       "      <td>Some-college</td>\n",
       "      <td>10</td>\n",
       "      <td>Divorced</td>\n",
       "      <td>Sales</td>\n",
       "      <td>Not-in-family</td>\n",
       "      <td>White</td>\n",
       "      <td>Female</td>\n",
       "      <td>0</td>\n",
       "      <td>0</td>\n",
       "      <td>40</td>\n",
       "      <td>United-States</td>\n",
       "      <td>&lt;=50K</td>\n",
       "      <td>1.561928</td>\n",
       "      <td>1</td>\n",
       "      <td>7bbda081-cd7c-46fd-9911-87746c6ac9a8</td>\n",
       "      <td>2.213805</td>\n",
       "    </tr>\n",
       "    <tr>\n",
       "      <th>2</th>\n",
       "      <td>35</td>\n",
       "      <td>Private</td>\n",
       "      <td>360799</td>\n",
       "      <td>HS-grad</td>\n",
       "      <td>9</td>\n",
       "      <td>Married-civ-spouse</td>\n",
       "      <td>Craft-repair</td>\n",
       "      <td>Husband</td>\n",
       "      <td>White</td>\n",
       "      <td>Male</td>\n",
       "      <td>7298</td>\n",
       "      <td>0</td>\n",
       "      <td>40</td>\n",
       "      <td>United-States</td>\n",
       "      <td>&gt;50K</td>\n",
       "      <td>8.757461</td>\n",
       "      <td>2</td>\n",
       "      <td>7bbda081-cd7c-46fd-9911-87746c6ac9a8</td>\n",
       "      <td>3.316372</td>\n",
       "    </tr>\n",
       "    <tr>\n",
       "      <th>3</th>\n",
       "      <td>22</td>\n",
       "      <td>Private</td>\n",
       "      <td>359759</td>\n",
       "      <td>Some-college</td>\n",
       "      <td>10</td>\n",
       "      <td>Never-married</td>\n",
       "      <td>Sales</td>\n",
       "      <td>Not-in-family</td>\n",
       "      <td>Asian-Pac-Islander</td>\n",
       "      <td>Male</td>\n",
       "      <td>0</td>\n",
       "      <td>0</td>\n",
       "      <td>20</td>\n",
       "      <td>Philippines</td>\n",
       "      <td>&lt;=50K</td>\n",
       "      <td>1.002890</td>\n",
       "      <td>3</td>\n",
       "      <td>7bbda081-cd7c-46fd-9911-87746c6ac9a8</td>\n",
       "      <td>5.943205</td>\n",
       "    </tr>\n",
       "    <tr>\n",
       "      <th>4</th>\n",
       "      <td>20</td>\n",
       "      <td>?</td>\n",
       "      <td>133515</td>\n",
       "      <td>Some-college</td>\n",
       "      <td>10</td>\n",
       "      <td>Never-married</td>\n",
       "      <td>?</td>\n",
       "      <td>Own-child</td>\n",
       "      <td>White</td>\n",
       "      <td>Female</td>\n",
       "      <td>0</td>\n",
       "      <td>0</td>\n",
       "      <td>15</td>\n",
       "      <td>France</td>\n",
       "      <td>&lt;=50K</td>\n",
       "      <td>1.088377</td>\n",
       "      <td>4</td>\n",
       "      <td>7bbda081-cd7c-46fd-9911-87746c6ac9a8</td>\n",
       "      <td>5.879643</td>\n",
       "    </tr>\n",
       "    <tr>\n",
       "      <th>...</th>\n",
       "      <td>...</td>\n",
       "      <td>...</td>\n",
       "      <td>...</td>\n",
       "      <td>...</td>\n",
       "      <td>...</td>\n",
       "      <td>...</td>\n",
       "      <td>...</td>\n",
       "      <td>...</td>\n",
       "      <td>...</td>\n",
       "      <td>...</td>\n",
       "      <td>...</td>\n",
       "      <td>...</td>\n",
       "      <td>...</td>\n",
       "      <td>...</td>\n",
       "      <td>...</td>\n",
       "      <td>...</td>\n",
       "      <td>...</td>\n",
       "      <td>...</td>\n",
       "      <td>...</td>\n",
       "    </tr>\n",
       "    <tr>\n",
       "      <th>995</th>\n",
       "      <td>42</td>\n",
       "      <td>Private</td>\n",
       "      <td>248356</td>\n",
       "      <td>HS-grad</td>\n",
       "      <td>9</td>\n",
       "      <td>Never-married</td>\n",
       "      <td>Sales</td>\n",
       "      <td>Unmarried</td>\n",
       "      <td>White</td>\n",
       "      <td>Female</td>\n",
       "      <td>0</td>\n",
       "      <td>0</td>\n",
       "      <td>40</td>\n",
       "      <td>United-States</td>\n",
       "      <td>&lt;=50K</td>\n",
       "      <td>4.223326</td>\n",
       "      <td>995</td>\n",
       "      <td>7bbda081-cd7c-46fd-9911-87746c6ac9a8</td>\n",
       "      <td>2.685854</td>\n",
       "    </tr>\n",
       "    <tr>\n",
       "      <th>996</th>\n",
       "      <td>28</td>\n",
       "      <td>Private</td>\n",
       "      <td>274679</td>\n",
       "      <td>Masters</td>\n",
       "      <td>14</td>\n",
       "      <td>Never-married</td>\n",
       "      <td>Prof-specialty</td>\n",
       "      <td>Not-in-family</td>\n",
       "      <td>White</td>\n",
       "      <td>Male</td>\n",
       "      <td>0</td>\n",
       "      <td>0</td>\n",
       "      <td>50</td>\n",
       "      <td>United-States</td>\n",
       "      <td>&lt;=50K</td>\n",
       "      <td>3.753311</td>\n",
       "      <td>996</td>\n",
       "      <td>7bbda081-cd7c-46fd-9911-87746c6ac9a8</td>\n",
       "      <td>2.935222</td>\n",
       "    </tr>\n",
       "    <tr>\n",
       "      <th>997</th>\n",
       "      <td>63</td>\n",
       "      <td>Private</td>\n",
       "      <td>158199</td>\n",
       "      <td>1st-4th</td>\n",
       "      <td>2</td>\n",
       "      <td>Widowed</td>\n",
       "      <td>Machine-op-inspct</td>\n",
       "      <td>Unmarried</td>\n",
       "      <td>White</td>\n",
       "      <td>Female</td>\n",
       "      <td>0</td>\n",
       "      <td>0</td>\n",
       "      <td>44</td>\n",
       "      <td>Portugal</td>\n",
       "      <td>&lt;=50K</td>\n",
       "      <td>0.949989</td>\n",
       "      <td>997</td>\n",
       "      <td>7bbda081-cd7c-46fd-9911-87746c6ac9a8</td>\n",
       "      <td>6.065232</td>\n",
       "    </tr>\n",
       "    <tr>\n",
       "      <th>998</th>\n",
       "      <td>41</td>\n",
       "      <td>?</td>\n",
       "      <td>128700</td>\n",
       "      <td>HS-grad</td>\n",
       "      <td>9</td>\n",
       "      <td>Never-married</td>\n",
       "      <td>?</td>\n",
       "      <td>Own-child</td>\n",
       "      <td>White</td>\n",
       "      <td>Female</td>\n",
       "      <td>0</td>\n",
       "      <td>0</td>\n",
       "      <td>40</td>\n",
       "      <td>United-States</td>\n",
       "      <td>&lt;=50K</td>\n",
       "      <td>38.792509</td>\n",
       "      <td>998</td>\n",
       "      <td>7bbda081-cd7c-46fd-9911-87746c6ac9a8</td>\n",
       "      <td>3.271994</td>\n",
       "    </tr>\n",
       "    <tr>\n",
       "      <th>999</th>\n",
       "      <td>25</td>\n",
       "      <td>Private</td>\n",
       "      <td>98155</td>\n",
       "      <td>Some-college</td>\n",
       "      <td>10</td>\n",
       "      <td>Never-married</td>\n",
       "      <td>Transport-moving</td>\n",
       "      <td>Unmarried</td>\n",
       "      <td>White</td>\n",
       "      <td>Male</td>\n",
       "      <td>0</td>\n",
       "      <td>0</td>\n",
       "      <td>40</td>\n",
       "      <td>United-States</td>\n",
       "      <td>&lt;=50K</td>\n",
       "      <td>3.179225</td>\n",
       "      <td>999</td>\n",
       "      <td>7bbda081-cd7c-46fd-9911-87746c6ac9a8</td>\n",
       "      <td>2.565097</td>\n",
       "    </tr>\n",
       "  </tbody>\n",
       "</table>\n",
       "<p>1000 rows × 19 columns</p>\n",
       "</div>"
      ],
      "text/plain": [
       "     age   workclass  fnlwgt      education  education-num  \\\n",
       "0     34   Local-gov  284843        HS-grad              9   \n",
       "1     38     Private   64879   Some-college             10   \n",
       "2     35     Private  360799        HS-grad              9   \n",
       "3     22     Private  359759   Some-college             10   \n",
       "4     20           ?  133515   Some-college             10   \n",
       "..   ...         ...     ...            ...            ...   \n",
       "995   42     Private  248356        HS-grad              9   \n",
       "996   28     Private  274679        Masters             14   \n",
       "997   63     Private  158199        1st-4th              2   \n",
       "998   41           ?  128700        HS-grad              9   \n",
       "999   25     Private   98155   Some-college             10   \n",
       "\n",
       "          marital-status          occupation    relationship  \\\n",
       "0          Never-married     Farming-fishing   Not-in-family   \n",
       "1               Divorced               Sales   Not-in-family   \n",
       "2     Married-civ-spouse        Craft-repair         Husband   \n",
       "3          Never-married               Sales   Not-in-family   \n",
       "4          Never-married                   ?       Own-child   \n",
       "..                   ...                 ...             ...   \n",
       "995        Never-married               Sales       Unmarried   \n",
       "996        Never-married      Prof-specialty   Not-in-family   \n",
       "997              Widowed   Machine-op-inspct       Unmarried   \n",
       "998        Never-married                   ?       Own-child   \n",
       "999        Never-married    Transport-moving       Unmarried   \n",
       "\n",
       "                    race      sex  capital-gain  capital-loss  hours-per-week  \\\n",
       "0                  Black     Male           594             0              60   \n",
       "1                  White   Female             0             0              40   \n",
       "2                  White     Male          7298             0              40   \n",
       "3     Asian-Pac-Islander     Male             0             0              20   \n",
       "4                  White   Female             0             0              15   \n",
       "..                   ...      ...           ...           ...             ...   \n",
       "995                White   Female             0             0              40   \n",
       "996                White     Male             0             0              50   \n",
       "997                White   Female             0             0              44   \n",
       "998                White   Female             0             0              40   \n",
       "999                White     Male             0             0              40   \n",
       "\n",
       "     native-country  target  familiarity_conviction_addition  \\\n",
       "0     United-States   <=50K                        21.938997   \n",
       "1     United-States   <=50K                         1.561928   \n",
       "2     United-States    >50K                         8.757461   \n",
       "3       Philippines   <=50K                         1.002890   \n",
       "4            France   <=50K                         1.088377   \n",
       "..              ...     ...                              ...   \n",
       "995   United-States   <=50K                         4.223326   \n",
       "996   United-States   <=50K                         3.753311   \n",
       "997        Portugal   <=50K                         0.949989   \n",
       "998   United-States   <=50K                        38.792509   \n",
       "999   United-States   <=50K                         3.179225   \n",
       "\n",
       "     .session_training_index                              .session  \\\n",
       "0                          0  7bbda081-cd7c-46fd-9911-87746c6ac9a8   \n",
       "1                          1  7bbda081-cd7c-46fd-9911-87746c6ac9a8   \n",
       "2                          2  7bbda081-cd7c-46fd-9911-87746c6ac9a8   \n",
       "3                          3  7bbda081-cd7c-46fd-9911-87746c6ac9a8   \n",
       "4                          4  7bbda081-cd7c-46fd-9911-87746c6ac9a8   \n",
       "..                       ...                                   ...   \n",
       "995                      995  7bbda081-cd7c-46fd-9911-87746c6ac9a8   \n",
       "996                      996  7bbda081-cd7c-46fd-9911-87746c6ac9a8   \n",
       "997                      997  7bbda081-cd7c-46fd-9911-87746c6ac9a8   \n",
       "998                      998  7bbda081-cd7c-46fd-9911-87746c6ac9a8   \n",
       "999                      999  7bbda081-cd7c-46fd-9911-87746c6ac9a8   \n",
       "\n",
       "     distance_contribution  \n",
       "0                 3.975991  \n",
       "1                 2.213805  \n",
       "2                 3.316372  \n",
       "3                 5.943205  \n",
       "4                 5.879643  \n",
       "..                     ...  \n",
       "995               2.685854  \n",
       "996               2.935222  \n",
       "997               6.065232  \n",
       "998               3.271994  \n",
       "999               2.565097  \n",
       "\n",
       "[1000 rows x 19 columns]"
      ]
     },
     "execution_count": 8,
     "metadata": {},
     "output_type": "execute_result"
    }
   ],
   "source": [
    "# Store the familiarity conviction, this will be used to identify anomalous cases\n",
    "t.analyze()\n",
    "t.react_into_features(familiarity_conviction_addition=True, distance_contribution=True)\n",
    "stored_convictions = t.get_cases(session=t.active_session, features=df.columns.tolist() + ['familiarity_conviction_addition','.session_training_index', '.session', 'distance_contribution'])\n",
    "\n",
    "stored_convictions"
   ]
  },
  {
   "cell_type": "code",
   "execution_count": 9,
   "id": "141c81ca-49d5-4203-85a0-bba3062da817",
   "metadata": {},
   "outputs": [],
   "source": [
    "# Threshold to determine which cases will be deemed anomalous\n",
    "convict_threshold = 0.75\n",
    "\n",
    "# Extract the anomalous cases\n",
    "low_convicts = stored_convictions[stored_convictions['familiarity_conviction_addition'] <= convict_threshold ].sort_values('familiarity_conviction_addition', ascending=True)\n",
    "\n",
    "# Average distance contribution will be used to determine if a case is an outlier or inlier\n",
    "average_dist_contribution = low_convicts['distance_contribution'].mean()\n",
    "\n",
    "# A case with distance contribution greater than average will be tagged as outlier, and vise versa for inliers\n",
    "cat = ['inlier' if d < average_dist_contribution else 'outlier' for d in low_convicts['distance_contribution']]\n",
    "low_convicts['category'] = cat"
   ]
  },
  {
   "attachments": {},
   "cell_type": "markdown",
   "id": "1cd260bd-e4e7-4ce1-8dec-4f7b046b07b5",
   "metadata": {},
   "source": [
    "## Outliers\n",
    "\n",
    "Let’s examine a few outlier cases. Outliers are cases which are very different than other cases."
   ]
  },
  {
   "cell_type": "code",
   "execution_count": 10,
   "id": "b34e8a80-02c6-4fd4-9236-67268b02c220",
   "metadata": {},
   "outputs": [
    {
     "data": {
      "text/html": [
       "<div>\n",
       "<style scoped>\n",
       "    .dataframe tbody tr th:only-of-type {\n",
       "        vertical-align: middle;\n",
       "    }\n",
       "\n",
       "    .dataframe tbody tr th {\n",
       "        vertical-align: top;\n",
       "    }\n",
       "\n",
       "    .dataframe thead th {\n",
       "        text-align: right;\n",
       "    }\n",
       "</style>\n",
       "<table border=\"1\" class=\"dataframe\">\n",
       "  <thead>\n",
       "    <tr style=\"text-align: right;\">\n",
       "      <th></th>\n",
       "      <th>age</th>\n",
       "      <th>workclass</th>\n",
       "      <th>fnlwgt</th>\n",
       "      <th>education</th>\n",
       "      <th>education-num</th>\n",
       "      <th>marital-status</th>\n",
       "      <th>occupation</th>\n",
       "      <th>relationship</th>\n",
       "      <th>race</th>\n",
       "      <th>sex</th>\n",
       "      <th>capital-gain</th>\n",
       "      <th>capital-loss</th>\n",
       "      <th>hours-per-week</th>\n",
       "      <th>native-country</th>\n",
       "      <th>target</th>\n",
       "      <th>familiarity_conviction_addition</th>\n",
       "      <th>.session_training_index</th>\n",
       "      <th>.session</th>\n",
       "      <th>distance_contribution</th>\n",
       "      <th>category</th>\n",
       "    </tr>\n",
       "  </thead>\n",
       "  <tbody>\n",
       "    <tr>\n",
       "      <th>0</th>\n",
       "      <td>39</td>\n",
       "      <td>Private</td>\n",
       "      <td>190297</td>\n",
       "      <td>Doctorate</td>\n",
       "      <td>16</td>\n",
       "      <td>Married-civ-spouse</td>\n",
       "      <td>Prof-specialty</td>\n",
       "      <td>Husband</td>\n",
       "      <td>White</td>\n",
       "      <td>Male</td>\n",
       "      <td>99999</td>\n",
       "      <td>0</td>\n",
       "      <td>55</td>\n",
       "      <td>United-States</td>\n",
       "      <td>&gt;50K</td>\n",
       "      <td>0.017773</td>\n",
       "      <td>960</td>\n",
       "      <td>7bbda081-cd7c-46fd-9911-87746c6ac9a8</td>\n",
       "      <td>25.399846</td>\n",
       "      <td>outlier</td>\n",
       "    </tr>\n",
       "    <tr>\n",
       "      <th>1</th>\n",
       "      <td>55</td>\n",
       "      <td>Self-emp-inc</td>\n",
       "      <td>392325</td>\n",
       "      <td>Bachelors</td>\n",
       "      <td>13</td>\n",
       "      <td>Married-civ-spouse</td>\n",
       "      <td>Sales</td>\n",
       "      <td>Husband</td>\n",
       "      <td>White</td>\n",
       "      <td>Male</td>\n",
       "      <td>99999</td>\n",
       "      <td>0</td>\n",
       "      <td>60</td>\n",
       "      <td>United-States</td>\n",
       "      <td>&gt;50K</td>\n",
       "      <td>0.017786</td>\n",
       "      <td>678</td>\n",
       "      <td>7bbda081-cd7c-46fd-9911-87746c6ac9a8</td>\n",
       "      <td>25.407325</td>\n",
       "      <td>outlier</td>\n",
       "    </tr>\n",
       "    <tr>\n",
       "      <th>2</th>\n",
       "      <td>43</td>\n",
       "      <td>Private</td>\n",
       "      <td>143582</td>\n",
       "      <td>5th-6th</td>\n",
       "      <td>3</td>\n",
       "      <td>Married-civ-spouse</td>\n",
       "      <td>Machine-op-inspct</td>\n",
       "      <td>Wife</td>\n",
       "      <td>Asian-Pac-Islander</td>\n",
       "      <td>Female</td>\n",
       "      <td>0</td>\n",
       "      <td>2129</td>\n",
       "      <td>72</td>\n",
       "      <td>?</td>\n",
       "      <td>&lt;=50K</td>\n",
       "      <td>0.143289</td>\n",
       "      <td>827</td>\n",
       "      <td>7bbda081-cd7c-46fd-9911-87746c6ac9a8</td>\n",
       "      <td>11.834850</td>\n",
       "      <td>outlier</td>\n",
       "    </tr>\n",
       "    <tr>\n",
       "      <th>3</th>\n",
       "      <td>20</td>\n",
       "      <td>?</td>\n",
       "      <td>114746</td>\n",
       "      <td>11th</td>\n",
       "      <td>7</td>\n",
       "      <td>Married-spouse-absent</td>\n",
       "      <td>?</td>\n",
       "      <td>Own-child</td>\n",
       "      <td>Asian-Pac-Islander</td>\n",
       "      <td>Female</td>\n",
       "      <td>0</td>\n",
       "      <td>1762</td>\n",
       "      <td>40</td>\n",
       "      <td>South</td>\n",
       "      <td>&lt;=50K</td>\n",
       "      <td>0.144538</td>\n",
       "      <td>629</td>\n",
       "      <td>7bbda081-cd7c-46fd-9911-87746c6ac9a8</td>\n",
       "      <td>11.785548</td>\n",
       "      <td>outlier</td>\n",
       "    </tr>\n",
       "    <tr>\n",
       "      <th>4</th>\n",
       "      <td>32</td>\n",
       "      <td>Federal-gov</td>\n",
       "      <td>148138</td>\n",
       "      <td>Bachelors</td>\n",
       "      <td>13</td>\n",
       "      <td>Married-civ-spouse</td>\n",
       "      <td>Prof-specialty</td>\n",
       "      <td>Husband</td>\n",
       "      <td>Asian-Pac-Islander</td>\n",
       "      <td>Male</td>\n",
       "      <td>0</td>\n",
       "      <td>2002</td>\n",
       "      <td>40</td>\n",
       "      <td>Iran</td>\n",
       "      <td>&lt;=50K</td>\n",
       "      <td>0.159850</td>\n",
       "      <td>584</td>\n",
       "      <td>7bbda081-cd7c-46fd-9911-87746c6ac9a8</td>\n",
       "      <td>11.237330</td>\n",
       "      <td>outlier</td>\n",
       "    </tr>\n",
       "    <tr>\n",
       "      <th>...</th>\n",
       "      <td>...</td>\n",
       "      <td>...</td>\n",
       "      <td>...</td>\n",
       "      <td>...</td>\n",
       "      <td>...</td>\n",
       "      <td>...</td>\n",
       "      <td>...</td>\n",
       "      <td>...</td>\n",
       "      <td>...</td>\n",
       "      <td>...</td>\n",
       "      <td>...</td>\n",
       "      <td>...</td>\n",
       "      <td>...</td>\n",
       "      <td>...</td>\n",
       "      <td>...</td>\n",
       "      <td>...</td>\n",
       "      <td>...</td>\n",
       "      <td>...</td>\n",
       "      <td>...</td>\n",
       "      <td>...</td>\n",
       "    </tr>\n",
       "    <tr>\n",
       "      <th>75</th>\n",
       "      <td>66</td>\n",
       "      <td>Private</td>\n",
       "      <td>236879</td>\n",
       "      <td>Preschool</td>\n",
       "      <td>1</td>\n",
       "      <td>Widowed</td>\n",
       "      <td>Priv-house-serv</td>\n",
       "      <td>Other-relative</td>\n",
       "      <td>White</td>\n",
       "      <td>Female</td>\n",
       "      <td>0</td>\n",
       "      <td>0</td>\n",
       "      <td>40</td>\n",
       "      <td>Guatemala</td>\n",
       "      <td>&lt;=50K</td>\n",
       "      <td>0.677209</td>\n",
       "      <td>490</td>\n",
       "      <td>7bbda081-cd7c-46fd-9911-87746c6ac9a8</td>\n",
       "      <td>6.615105</td>\n",
       "      <td>outlier</td>\n",
       "    </tr>\n",
       "    <tr>\n",
       "      <th>76</th>\n",
       "      <td>90</td>\n",
       "      <td>Private</td>\n",
       "      <td>90523</td>\n",
       "      <td>HS-grad</td>\n",
       "      <td>9</td>\n",
       "      <td>Widowed</td>\n",
       "      <td>Transport-moving</td>\n",
       "      <td>Unmarried</td>\n",
       "      <td>White</td>\n",
       "      <td>Male</td>\n",
       "      <td>0</td>\n",
       "      <td>0</td>\n",
       "      <td>99</td>\n",
       "      <td>United-States</td>\n",
       "      <td>&lt;=50K</td>\n",
       "      <td>0.701678</td>\n",
       "      <td>624</td>\n",
       "      <td>7bbda081-cd7c-46fd-9911-87746c6ac9a8</td>\n",
       "      <td>6.559177</td>\n",
       "      <td>outlier</td>\n",
       "    </tr>\n",
       "    <tr>\n",
       "      <th>77</th>\n",
       "      <td>50</td>\n",
       "      <td>Private</td>\n",
       "      <td>123174</td>\n",
       "      <td>Doctorate</td>\n",
       "      <td>16</td>\n",
       "      <td>Married-civ-spouse</td>\n",
       "      <td>Prof-specialty</td>\n",
       "      <td>Husband</td>\n",
       "      <td>Black</td>\n",
       "      <td>Male</td>\n",
       "      <td>0</td>\n",
       "      <td>0</td>\n",
       "      <td>37</td>\n",
       "      <td>?</td>\n",
       "      <td>&gt;50K</td>\n",
       "      <td>0.701827</td>\n",
       "      <td>681</td>\n",
       "      <td>7bbda081-cd7c-46fd-9911-87746c6ac9a8</td>\n",
       "      <td>6.559653</td>\n",
       "      <td>outlier</td>\n",
       "    </tr>\n",
       "    <tr>\n",
       "      <th>78</th>\n",
       "      <td>66</td>\n",
       "      <td>Private</td>\n",
       "      <td>180211</td>\n",
       "      <td>Bachelors</td>\n",
       "      <td>13</td>\n",
       "      <td>Married-civ-spouse</td>\n",
       "      <td>Craft-repair</td>\n",
       "      <td>Husband</td>\n",
       "      <td>Asian-Pac-Islander</td>\n",
       "      <td>Male</td>\n",
       "      <td>0</td>\n",
       "      <td>0</td>\n",
       "      <td>30</td>\n",
       "      <td>Philippines</td>\n",
       "      <td>&lt;=50K</td>\n",
       "      <td>0.717280</td>\n",
       "      <td>389</td>\n",
       "      <td>7bbda081-cd7c-46fd-9911-87746c6ac9a8</td>\n",
       "      <td>6.506798</td>\n",
       "      <td>outlier</td>\n",
       "    </tr>\n",
       "    <tr>\n",
       "      <th>79</th>\n",
       "      <td>46</td>\n",
       "      <td>Private</td>\n",
       "      <td>324601</td>\n",
       "      <td>1st-4th</td>\n",
       "      <td>2</td>\n",
       "      <td>Separated</td>\n",
       "      <td>Machine-op-inspct</td>\n",
       "      <td>Own-child</td>\n",
       "      <td>White</td>\n",
       "      <td>Female</td>\n",
       "      <td>0</td>\n",
       "      <td>0</td>\n",
       "      <td>40</td>\n",
       "      <td>Guatemala</td>\n",
       "      <td>&lt;=50K</td>\n",
       "      <td>0.749545</td>\n",
       "      <td>109</td>\n",
       "      <td>7bbda081-cd7c-46fd-9911-87746c6ac9a8</td>\n",
       "      <td>6.432787</td>\n",
       "      <td>outlier</td>\n",
       "    </tr>\n",
       "  </tbody>\n",
       "</table>\n",
       "<p>80 rows × 20 columns</p>\n",
       "</div>"
      ],
      "text/plain": [
       "    age      workclass  fnlwgt   education  education-num  \\\n",
       "0    39        Private  190297   Doctorate             16   \n",
       "1    55   Self-emp-inc  392325   Bachelors             13   \n",
       "2    43        Private  143582     5th-6th              3   \n",
       "3    20              ?  114746        11th              7   \n",
       "4    32    Federal-gov  148138   Bachelors             13   \n",
       "..  ...            ...     ...         ...            ...   \n",
       "75   66        Private  236879   Preschool              1   \n",
       "76   90        Private   90523     HS-grad              9   \n",
       "77   50        Private  123174   Doctorate             16   \n",
       "78   66        Private  180211   Bachelors             13   \n",
       "79   46        Private  324601     1st-4th              2   \n",
       "\n",
       "            marital-status          occupation     relationship  \\\n",
       "0       Married-civ-spouse      Prof-specialty          Husband   \n",
       "1       Married-civ-spouse               Sales          Husband   \n",
       "2       Married-civ-spouse   Machine-op-inspct             Wife   \n",
       "3    Married-spouse-absent                   ?        Own-child   \n",
       "4       Married-civ-spouse      Prof-specialty          Husband   \n",
       "..                     ...                 ...              ...   \n",
       "75                 Widowed     Priv-house-serv   Other-relative   \n",
       "76                 Widowed    Transport-moving        Unmarried   \n",
       "77      Married-civ-spouse      Prof-specialty          Husband   \n",
       "78      Married-civ-spouse        Craft-repair          Husband   \n",
       "79               Separated   Machine-op-inspct        Own-child   \n",
       "\n",
       "                   race      sex  capital-gain  capital-loss  hours-per-week  \\\n",
       "0                 White     Male         99999             0              55   \n",
       "1                 White     Male         99999             0              60   \n",
       "2    Asian-Pac-Islander   Female             0          2129              72   \n",
       "3    Asian-Pac-Islander   Female             0          1762              40   \n",
       "4    Asian-Pac-Islander     Male             0          2002              40   \n",
       "..                  ...      ...           ...           ...             ...   \n",
       "75                White   Female             0             0              40   \n",
       "76                White     Male             0             0              99   \n",
       "77                Black     Male             0             0              37   \n",
       "78   Asian-Pac-Islander     Male             0             0              30   \n",
       "79                White   Female             0             0              40   \n",
       "\n",
       "    native-country  target  familiarity_conviction_addition  \\\n",
       "0    United-States    >50K                         0.017773   \n",
       "1    United-States    >50K                         0.017786   \n",
       "2                ?   <=50K                         0.143289   \n",
       "3            South   <=50K                         0.144538   \n",
       "4             Iran   <=50K                         0.159850   \n",
       "..             ...     ...                              ...   \n",
       "75       Guatemala   <=50K                         0.677209   \n",
       "76   United-States   <=50K                         0.701678   \n",
       "77               ?    >50K                         0.701827   \n",
       "78     Philippines   <=50K                         0.717280   \n",
       "79       Guatemala   <=50K                         0.749545   \n",
       "\n",
       "    .session_training_index                              .session  \\\n",
       "0                       960  7bbda081-cd7c-46fd-9911-87746c6ac9a8   \n",
       "1                       678  7bbda081-cd7c-46fd-9911-87746c6ac9a8   \n",
       "2                       827  7bbda081-cd7c-46fd-9911-87746c6ac9a8   \n",
       "3                       629  7bbda081-cd7c-46fd-9911-87746c6ac9a8   \n",
       "4                       584  7bbda081-cd7c-46fd-9911-87746c6ac9a8   \n",
       "..                      ...                                   ...   \n",
       "75                      490  7bbda081-cd7c-46fd-9911-87746c6ac9a8   \n",
       "76                      624  7bbda081-cd7c-46fd-9911-87746c6ac9a8   \n",
       "77                      681  7bbda081-cd7c-46fd-9911-87746c6ac9a8   \n",
       "78                      389  7bbda081-cd7c-46fd-9911-87746c6ac9a8   \n",
       "79                      109  7bbda081-cd7c-46fd-9911-87746c6ac9a8   \n",
       "\n",
       "    distance_contribution category  \n",
       "0               25.399846  outlier  \n",
       "1               25.407325  outlier  \n",
       "2               11.834850  outlier  \n",
       "3               11.785548  outlier  \n",
       "4               11.237330  outlier  \n",
       "..                    ...      ...  \n",
       "75               6.615105  outlier  \n",
       "76               6.559177  outlier  \n",
       "77               6.559653  outlier  \n",
       "78               6.506798  outlier  \n",
       "79               6.432787  outlier  \n",
       "\n",
       "[80 rows x 20 columns]"
      ]
     },
     "execution_count": 10,
     "metadata": {},
     "output_type": "execute_result"
    }
   ],
   "source": [
    "# Extract the outliers cases\n",
    "outliers = low_convicts[low_convicts['category'] == 'outlier'].reset_index(drop=True)\n",
    "outliers"
   ]
  },
  {
   "cell_type": "code",
   "execution_count": 11,
   "id": "44d990c4-a58b-4380-ba15-cc21643dbf9a",
   "metadata": {},
   "outputs": [],
   "source": [
    "# Cache global non-robust residuals into trainee\n",
    "t.react_into_trainee(residuals=True)\n",
    "\n",
    "# Get the case_feature_residual_convictions, influential_cases and boundary_cases\n",
    "details = {'robust_computation': True,\n",
    "           'global_case_feature_residual_convictions': True, \n",
    "           'local_case_feature_residual_convictions': True}\n",
    "\n",
    "# Specify outlier cases\n",
    "outliers_indices = outliers[['.session', '.session_training_index']].values\n",
    "\n",
    "# React to get the details of each case\n",
    "results = t.react(case_indices=outliers_indices, \n",
    "                  preserve_feature_values=df.columns.tolist(), \n",
    "                  leave_case_out=True, \n",
    "                  details=details)"
   ]
  },
  {
   "cell_type": "code",
   "execution_count": 12,
   "id": "4faf2ab7-c86c-47a8-9707-bdb2dcf191cb",
   "metadata": {},
   "outputs": [],
   "source": [
    "# Extract the global and local case feature residual convictions\n",
    "global_case_feature_residual_convictions = pd.DataFrame(results['explanation']['global_case_feature_residual_convictions'])[df.columns.tolist()]\n",
    "local_case_feature_residual_convictions = pd.DataFrame(results['explanation']['local_case_feature_residual_convictions'])[df.columns.tolist()]"
   ]
  },
  {
   "cell_type": "code",
   "execution_count": 13,
   "id": "3b45f0b1-fe30-4146-9dbf-90e1efd32645",
   "metadata": {},
   "outputs": [
    {
     "data": {
      "application/vnd.plotly.v1+json": {
       "config": {
        "plotlyServerURL": "https://plot.ly"
       },
       "data": [
        {
         "coloraxis": "coloraxis",
         "hovertemplate": "Conviction=%{z}",
         "name": "Outliers",
         "text": [
          [
           "39",
           " Private",
           "190297",
           " Doctorate",
           "16",
           " Married-civ-spouse",
           " Prof-specialty",
           " Husband",
           " White",
           " Male",
           "99999",
           "0",
           "55",
           " United-States",
           " >50K",
           "0.01777281008806204",
           "960",
           "7bbda081-cd7c-46fd-9911-87746c6ac9a8",
           "25.39984613915863",
           "outlier"
          ],
          [
           "55",
           " Self-emp-inc",
           "392325",
           " Bachelors",
           "13",
           " Married-civ-spouse",
           " Sales",
           " Husband",
           " White",
           " Male",
           "99999",
           "0",
           "60",
           " United-States",
           " >50K",
           "0.017785916011624114",
           "678",
           "7bbda081-cd7c-46fd-9911-87746c6ac9a8",
           "25.407324667163543",
           "outlier"
          ],
          [
           "43",
           " Private",
           "143582",
           " 5th-6th",
           "3",
           " Married-civ-spouse",
           " Machine-op-inspct",
           " Wife",
           " Asian-Pac-Islander",
           " Female",
           "0",
           "2129",
           "72",
           " ?",
           " <=50K",
           "0.1432887693492978",
           "827",
           "7bbda081-cd7c-46fd-9911-87746c6ac9a8",
           "11.834849624975977",
           "outlier"
          ],
          [
           "20",
           " ?",
           "114746",
           " 11th",
           "7",
           " Married-spouse-absent",
           " ?",
           " Own-child",
           " Asian-Pac-Islander",
           " Female",
           "0",
           "1762",
           "40",
           " South",
           " <=50K",
           "0.14453845039647908",
           "629",
           "7bbda081-cd7c-46fd-9911-87746c6ac9a8",
           "11.785547547912374",
           "outlier"
          ],
          [
           "32",
           " Federal-gov",
           "148138",
           " Bachelors",
           "13",
           " Married-civ-spouse",
           " Prof-specialty",
           " Husband",
           " Asian-Pac-Islander",
           " Male",
           "0",
           "2002",
           "40",
           " Iran",
           " <=50K",
           "0.15985026509053454",
           "584",
           "7bbda081-cd7c-46fd-9911-87746c6ac9a8",
           "11.237329791295577",
           "outlier"
          ]
         ],
         "texttemplate": "%{text}",
         "type": "heatmap",
         "x": [
          "age",
          "workclass",
          "fnlwgt",
          "education",
          "education-num",
          "marital-status",
          "occupation",
          "relationship",
          "race",
          "sex",
          "capital-gain",
          "capital-loss",
          "hours-per-week",
          "native-country",
          "target"
         ],
         "xgap": 3,
         "y": [
          0,
          1,
          2,
          3,
          4
         ],
         "ygap": 3,
         "z": [
          [
           0.7489725784036682,
           0.6151864412055794,
           1.6028193974872538,
           0.5426410310120025,
           0.7178926640611084,
           3.786009394193398,
           1.2142599870170279,
           2.2466496293377554,
           1.7384524068071625,
           5.115185656563785,
           0.033958919146606766,
           1.3624729766466697,
           2.575635469455293,
           0.6651538856612925,
           0.9072025662239828
          ],
          [
           0.8589901893707561,
           0.6341446960849878,
           0.28214482059713336,
           1.4278024231055384,
           1.1507699991630986,
           4.153370228952772,
           0.9454228555775748,
           3.8934595075113574,
           7.074459933868129,
           7.87894739541998,
           0.04864942715076828,
           0.9481843808513006,
           0.5560863668458783,
           2.6026191318501937,
           0.3532823567364454
          ],
          [
           2.568330944965601,
           1.5396772014461713,
           2.0883494820270783,
           0.8514313428064701,
           0.7773277427459524,
           1.1207416287045082,
           0.8979827866558864,
           0.596387652019547,
           0.3393710462459447,
           0.5220188526398224,
           7.302864871480457,
           0.09884431521974905,
           0.22455174738648043,
           0.7429692562838858,
           2.9290001909150183
          ],
          [
           0.9294202543946665,
           0.3861824810610162,
           1.732358661304762,
           0.6592587311066208,
           0.7428863347437854,
           0.6376508211562155,
           0.877661309387315,
           0.8193340915264613,
           0.17423868368855247,
           0.84872667144312,
           30.6053743382025,
           0.08254048359798583,
           1.5588314305454234,
           0.4931037887346577,
           13.710830982409066
          ],
          [
           0.8913882971770664,
           0.5047598636673466,
           2.978820347363785,
           0.6235564668360661,
           0.96613294099224,
           1.0211629021099133,
           1.0511581180876797,
           1.19626019102356,
           0.0933304171633912,
           1.6632566465500631,
           2.111308246086161,
           0.039944275393059774,
           1.4286557494783676,
           0.4526545851730128,
           0.6353774530299268
          ]
         ]
        }
       ],
       "layout": {
        "coloraxis": {
         "cmax": 5,
         "cmin": 0,
         "colorbar": {
          "ticktext": [
           "0",
           "0.5",
           "1",
           "1.5",
           "2",
           "2.5",
           "3",
           "3.5",
           "4",
           "4.5",
           "≥5"
          ],
          "tickvals": [
           0,
           0.5,
           1,
           1.5,
           2,
           2.5,
           3,
           3.5,
           4,
           4.5,
           5
          ],
          "title": {
           "text": "Conviction"
          }
         },
         "colorscale": [
          [
           0,
           "rgb(103,0,31)"
          ],
          [
           0.2,
           "rgb(247, 247, 247)"
          ],
          [
           0.4,
           "rgb(67,147,195)"
          ],
          [
           1,
           "rgb(5,48,97)"
          ]
         ]
        },
        "template": {
         "data": {
          "bar": [
           {
            "error_x": {
             "color": "#2a3f5f"
            },
            "error_y": {
             "color": "#2a3f5f"
            },
            "marker": {
             "line": {
              "color": "#E5ECF6",
              "width": 0.5
             },
             "pattern": {
              "fillmode": "overlay",
              "size": 10,
              "solidity": 0.2
             }
            },
            "type": "bar"
           }
          ],
          "barpolar": [
           {
            "marker": {
             "line": {
              "color": "#E5ECF6",
              "width": 0.5
             },
             "pattern": {
              "fillmode": "overlay",
              "size": 10,
              "solidity": 0.2
             }
            },
            "type": "barpolar"
           }
          ],
          "carpet": [
           {
            "aaxis": {
             "endlinecolor": "#2a3f5f",
             "gridcolor": "white",
             "linecolor": "white",
             "minorgridcolor": "white",
             "startlinecolor": "#2a3f5f"
            },
            "baxis": {
             "endlinecolor": "#2a3f5f",
             "gridcolor": "white",
             "linecolor": "white",
             "minorgridcolor": "white",
             "startlinecolor": "#2a3f5f"
            },
            "type": "carpet"
           }
          ],
          "choropleth": [
           {
            "colorbar": {
             "outlinewidth": 0,
             "ticks": ""
            },
            "type": "choropleth"
           }
          ],
          "contour": [
           {
            "colorbar": {
             "outlinewidth": 0,
             "ticks": ""
            },
            "colorscale": [
             [
              0,
              "#0d0887"
             ],
             [
              0.1111111111111111,
              "#46039f"
             ],
             [
              0.2222222222222222,
              "#7201a8"
             ],
             [
              0.3333333333333333,
              "#9c179e"
             ],
             [
              0.4444444444444444,
              "#bd3786"
             ],
             [
              0.5555555555555556,
              "#d8576b"
             ],
             [
              0.6666666666666666,
              "#ed7953"
             ],
             [
              0.7777777777777778,
              "#fb9f3a"
             ],
             [
              0.8888888888888888,
              "#fdca26"
             ],
             [
              1,
              "#f0f921"
             ]
            ],
            "type": "contour"
           }
          ],
          "contourcarpet": [
           {
            "colorbar": {
             "outlinewidth": 0,
             "ticks": ""
            },
            "type": "contourcarpet"
           }
          ],
          "heatmap": [
           {
            "colorbar": {
             "outlinewidth": 0,
             "ticks": ""
            },
            "colorscale": [
             [
              0,
              "#0d0887"
             ],
             [
              0.1111111111111111,
              "#46039f"
             ],
             [
              0.2222222222222222,
              "#7201a8"
             ],
             [
              0.3333333333333333,
              "#9c179e"
             ],
             [
              0.4444444444444444,
              "#bd3786"
             ],
             [
              0.5555555555555556,
              "#d8576b"
             ],
             [
              0.6666666666666666,
              "#ed7953"
             ],
             [
              0.7777777777777778,
              "#fb9f3a"
             ],
             [
              0.8888888888888888,
              "#fdca26"
             ],
             [
              1,
              "#f0f921"
             ]
            ],
            "type": "heatmap"
           }
          ],
          "heatmapgl": [
           {
            "colorbar": {
             "outlinewidth": 0,
             "ticks": ""
            },
            "colorscale": [
             [
              0,
              "#0d0887"
             ],
             [
              0.1111111111111111,
              "#46039f"
             ],
             [
              0.2222222222222222,
              "#7201a8"
             ],
             [
              0.3333333333333333,
              "#9c179e"
             ],
             [
              0.4444444444444444,
              "#bd3786"
             ],
             [
              0.5555555555555556,
              "#d8576b"
             ],
             [
              0.6666666666666666,
              "#ed7953"
             ],
             [
              0.7777777777777778,
              "#fb9f3a"
             ],
             [
              0.8888888888888888,
              "#fdca26"
             ],
             [
              1,
              "#f0f921"
             ]
            ],
            "type": "heatmapgl"
           }
          ],
          "histogram": [
           {
            "marker": {
             "pattern": {
              "fillmode": "overlay",
              "size": 10,
              "solidity": 0.2
             }
            },
            "type": "histogram"
           }
          ],
          "histogram2d": [
           {
            "colorbar": {
             "outlinewidth": 0,
             "ticks": ""
            },
            "colorscale": [
             [
              0,
              "#0d0887"
             ],
             [
              0.1111111111111111,
              "#46039f"
             ],
             [
              0.2222222222222222,
              "#7201a8"
             ],
             [
              0.3333333333333333,
              "#9c179e"
             ],
             [
              0.4444444444444444,
              "#bd3786"
             ],
             [
              0.5555555555555556,
              "#d8576b"
             ],
             [
              0.6666666666666666,
              "#ed7953"
             ],
             [
              0.7777777777777778,
              "#fb9f3a"
             ],
             [
              0.8888888888888888,
              "#fdca26"
             ],
             [
              1,
              "#f0f921"
             ]
            ],
            "type": "histogram2d"
           }
          ],
          "histogram2dcontour": [
           {
            "colorbar": {
             "outlinewidth": 0,
             "ticks": ""
            },
            "colorscale": [
             [
              0,
              "#0d0887"
             ],
             [
              0.1111111111111111,
              "#46039f"
             ],
             [
              0.2222222222222222,
              "#7201a8"
             ],
             [
              0.3333333333333333,
              "#9c179e"
             ],
             [
              0.4444444444444444,
              "#bd3786"
             ],
             [
              0.5555555555555556,
              "#d8576b"
             ],
             [
              0.6666666666666666,
              "#ed7953"
             ],
             [
              0.7777777777777778,
              "#fb9f3a"
             ],
             [
              0.8888888888888888,
              "#fdca26"
             ],
             [
              1,
              "#f0f921"
             ]
            ],
            "type": "histogram2dcontour"
           }
          ],
          "mesh3d": [
           {
            "colorbar": {
             "outlinewidth": 0,
             "ticks": ""
            },
            "type": "mesh3d"
           }
          ],
          "parcoords": [
           {
            "line": {
             "colorbar": {
              "outlinewidth": 0,
              "ticks": ""
             }
            },
            "type": "parcoords"
           }
          ],
          "pie": [
           {
            "automargin": true,
            "type": "pie"
           }
          ],
          "scatter": [
           {
            "fillpattern": {
             "fillmode": "overlay",
             "size": 10,
             "solidity": 0.2
            },
            "type": "scatter"
           }
          ],
          "scatter3d": [
           {
            "line": {
             "colorbar": {
              "outlinewidth": 0,
              "ticks": ""
             }
            },
            "marker": {
             "colorbar": {
              "outlinewidth": 0,
              "ticks": ""
             }
            },
            "type": "scatter3d"
           }
          ],
          "scattercarpet": [
           {
            "marker": {
             "colorbar": {
              "outlinewidth": 0,
              "ticks": ""
             }
            },
            "type": "scattercarpet"
           }
          ],
          "scattergeo": [
           {
            "marker": {
             "colorbar": {
              "outlinewidth": 0,
              "ticks": ""
             }
            },
            "type": "scattergeo"
           }
          ],
          "scattergl": [
           {
            "marker": {
             "colorbar": {
              "outlinewidth": 0,
              "ticks": ""
             }
            },
            "type": "scattergl"
           }
          ],
          "scattermapbox": [
           {
            "marker": {
             "colorbar": {
              "outlinewidth": 0,
              "ticks": ""
             }
            },
            "type": "scattermapbox"
           }
          ],
          "scatterpolar": [
           {
            "marker": {
             "colorbar": {
              "outlinewidth": 0,
              "ticks": ""
             }
            },
            "type": "scatterpolar"
           }
          ],
          "scatterpolargl": [
           {
            "marker": {
             "colorbar": {
              "outlinewidth": 0,
              "ticks": ""
             }
            },
            "type": "scatterpolargl"
           }
          ],
          "scatterternary": [
           {
            "marker": {
             "colorbar": {
              "outlinewidth": 0,
              "ticks": ""
             }
            },
            "type": "scatterternary"
           }
          ],
          "surface": [
           {
            "colorbar": {
             "outlinewidth": 0,
             "ticks": ""
            },
            "colorscale": [
             [
              0,
              "#0d0887"
             ],
             [
              0.1111111111111111,
              "#46039f"
             ],
             [
              0.2222222222222222,
              "#7201a8"
             ],
             [
              0.3333333333333333,
              "#9c179e"
             ],
             [
              0.4444444444444444,
              "#bd3786"
             ],
             [
              0.5555555555555556,
              "#d8576b"
             ],
             [
              0.6666666666666666,
              "#ed7953"
             ],
             [
              0.7777777777777778,
              "#fb9f3a"
             ],
             [
              0.8888888888888888,
              "#fdca26"
             ],
             [
              1,
              "#f0f921"
             ]
            ],
            "type": "surface"
           }
          ],
          "table": [
           {
            "cells": {
             "fill": {
              "color": "#EBF0F8"
             },
             "line": {
              "color": "white"
             }
            },
            "header": {
             "fill": {
              "color": "#C8D4E3"
             },
             "line": {
              "color": "white"
             }
            },
            "type": "table"
           }
          ]
         },
         "layout": {
          "annotationdefaults": {
           "arrowcolor": "#2a3f5f",
           "arrowhead": 0,
           "arrowwidth": 1
          },
          "autotypenumbers": "strict",
          "coloraxis": {
           "colorbar": {
            "outlinewidth": 0,
            "ticks": ""
           }
          },
          "colorscale": {
           "diverging": [
            [
             0,
             "#8e0152"
            ],
            [
             0.1,
             "#c51b7d"
            ],
            [
             0.2,
             "#de77ae"
            ],
            [
             0.3,
             "#f1b6da"
            ],
            [
             0.4,
             "#fde0ef"
            ],
            [
             0.5,
             "#f7f7f7"
            ],
            [
             0.6,
             "#e6f5d0"
            ],
            [
             0.7,
             "#b8e186"
            ],
            [
             0.8,
             "#7fbc41"
            ],
            [
             0.9,
             "#4d9221"
            ],
            [
             1,
             "#276419"
            ]
           ],
           "sequential": [
            [
             0,
             "#0d0887"
            ],
            [
             0.1111111111111111,
             "#46039f"
            ],
            [
             0.2222222222222222,
             "#7201a8"
            ],
            [
             0.3333333333333333,
             "#9c179e"
            ],
            [
             0.4444444444444444,
             "#bd3786"
            ],
            [
             0.5555555555555556,
             "#d8576b"
            ],
            [
             0.6666666666666666,
             "#ed7953"
            ],
            [
             0.7777777777777778,
             "#fb9f3a"
            ],
            [
             0.8888888888888888,
             "#fdca26"
            ],
            [
             1,
             "#f0f921"
            ]
           ],
           "sequentialminus": [
            [
             0,
             "#0d0887"
            ],
            [
             0.1111111111111111,
             "#46039f"
            ],
            [
             0.2222222222222222,
             "#7201a8"
            ],
            [
             0.3333333333333333,
             "#9c179e"
            ],
            [
             0.4444444444444444,
             "#bd3786"
            ],
            [
             0.5555555555555556,
             "#d8576b"
            ],
            [
             0.6666666666666666,
             "#ed7953"
            ],
            [
             0.7777777777777778,
             "#fb9f3a"
            ],
            [
             0.8888888888888888,
             "#fdca26"
            ],
            [
             1,
             "#f0f921"
            ]
           ]
          },
          "colorway": [
           "#636efa",
           "#EF553B",
           "#00cc96",
           "#ab63fa",
           "#FFA15A",
           "#19d3f3",
           "#FF6692",
           "#B6E880",
           "#FF97FF",
           "#FECB52"
          ],
          "font": {
           "color": "#2a3f5f"
          },
          "geo": {
           "bgcolor": "white",
           "lakecolor": "white",
           "landcolor": "#E5ECF6",
           "showlakes": true,
           "showland": true,
           "subunitcolor": "white"
          },
          "hoverlabel": {
           "align": "left"
          },
          "hovermode": "closest",
          "mapbox": {
           "style": "light"
          },
          "paper_bgcolor": "white",
          "plot_bgcolor": "#E5ECF6",
          "polar": {
           "angularaxis": {
            "gridcolor": "white",
            "linecolor": "white",
            "ticks": ""
           },
           "bgcolor": "#E5ECF6",
           "radialaxis": {
            "gridcolor": "white",
            "linecolor": "white",
            "ticks": ""
           }
          },
          "scene": {
           "xaxis": {
            "backgroundcolor": "#E5ECF6",
            "gridcolor": "white",
            "gridwidth": 2,
            "linecolor": "white",
            "showbackground": true,
            "ticks": "",
            "zerolinecolor": "white"
           },
           "yaxis": {
            "backgroundcolor": "#E5ECF6",
            "gridcolor": "white",
            "gridwidth": 2,
            "linecolor": "white",
            "showbackground": true,
            "ticks": "",
            "zerolinecolor": "white"
           },
           "zaxis": {
            "backgroundcolor": "#E5ECF6",
            "gridcolor": "white",
            "gridwidth": 2,
            "linecolor": "white",
            "showbackground": true,
            "ticks": "",
            "zerolinecolor": "white"
           }
          },
          "shapedefaults": {
           "line": {
            "color": "#2a3f5f"
           }
          },
          "ternary": {
           "aaxis": {
            "gridcolor": "white",
            "linecolor": "white",
            "ticks": ""
           },
           "baxis": {
            "gridcolor": "white",
            "linecolor": "white",
            "ticks": ""
           },
           "bgcolor": "#E5ECF6",
           "caxis": {
            "gridcolor": "white",
            "linecolor": "white",
            "ticks": ""
           }
          },
          "title": {
           "x": 0.05
          },
          "xaxis": {
           "automargin": true,
           "gridcolor": "white",
           "linecolor": "white",
           "ticks": "",
           "title": {
            "standoff": 15
           },
           "zerolinecolor": "white",
           "zerolinewidth": 2
          },
          "yaxis": {
           "automargin": true,
           "gridcolor": "white",
           "linecolor": "white",
           "ticks": "",
           "title": {
            "standoff": 15
           },
           "zerolinecolor": "white",
           "zerolinewidth": 2
          }
         }
        },
        "title": {
         "text": "Outliers"
        },
        "xaxis": {
         "anchor": "y",
         "domain": [
          0,
          1
         ],
         "title": {
          "text": "Feature"
         }
        },
        "yaxis": {
         "anchor": "x",
         "autorange": "reversed",
         "domain": [
          0,
          1
         ],
         "title": {
          "text": "Residual Conviction"
         }
        }
       }
      }
     },
     "metadata": {},
     "output_type": "display_data"
    }
   ],
   "source": [
    "plot_anomalies(outliers, local_case_feature_residual_convictions, title=\"Outliers\", yaxis_title=\"Residual Conviction\")"
   ]
  },
  {
   "attachments": {},
   "cell_type": "markdown",
   "id": "5d17882e-9c76-46c2-b772-5b4bd1c8e8a4",
   "metadata": {},
   "source": [
    "The heat map explains the reason why each case was an outlier. The darker the shade of red, the higher the contribution to the case being an outlier. "
   ]
  },
  {
   "attachments": {},
   "cell_type": "markdown",
   "id": "4f45902d-a272-4ff1-9953-a9777d64780a",
   "metadata": {
    "tags": []
   },
   "source": [
    "## Inliers\n",
    "\n",
    "Let’s examine a few inlier cases. Inliers are cases which are too similar to other cases and do not follow the expected distribution. Inliers can be an indication of a fraudulent case that is “too good to be true”. "
   ]
  },
  {
   "cell_type": "code",
   "execution_count": 14,
   "id": "bd8e4a82-fd22-4def-9b9b-5d9d1be5d263",
   "metadata": {},
   "outputs": [
    {
     "data": {
      "text/html": [
       "<div>\n",
       "<style scoped>\n",
       "    .dataframe tbody tr th:only-of-type {\n",
       "        vertical-align: middle;\n",
       "    }\n",
       "\n",
       "    .dataframe tbody tr th {\n",
       "        vertical-align: top;\n",
       "    }\n",
       "\n",
       "    .dataframe thead th {\n",
       "        text-align: right;\n",
       "    }\n",
       "</style>\n",
       "<table border=\"1\" class=\"dataframe\">\n",
       "  <thead>\n",
       "    <tr style=\"text-align: right;\">\n",
       "      <th></th>\n",
       "      <th>age</th>\n",
       "      <th>workclass</th>\n",
       "      <th>fnlwgt</th>\n",
       "      <th>education</th>\n",
       "      <th>education-num</th>\n",
       "      <th>marital-status</th>\n",
       "      <th>occupation</th>\n",
       "      <th>relationship</th>\n",
       "      <th>race</th>\n",
       "      <th>sex</th>\n",
       "      <th>capital-gain</th>\n",
       "      <th>capital-loss</th>\n",
       "      <th>hours-per-week</th>\n",
       "      <th>native-country</th>\n",
       "      <th>target</th>\n",
       "      <th>familiarity_conviction_addition</th>\n",
       "      <th>.session_training_index</th>\n",
       "      <th>.session</th>\n",
       "      <th>distance_contribution</th>\n",
       "      <th>category</th>\n",
       "    </tr>\n",
       "  </thead>\n",
       "  <tbody>\n",
       "    <tr>\n",
       "      <th>0</th>\n",
       "      <td>42</td>\n",
       "      <td>Private</td>\n",
       "      <td>213464</td>\n",
       "      <td>Some-college</td>\n",
       "      <td>10</td>\n",
       "      <td>Married-civ-spouse</td>\n",
       "      <td>Craft-repair</td>\n",
       "      <td>Husband</td>\n",
       "      <td>White</td>\n",
       "      <td>Male</td>\n",
       "      <td>0</td>\n",
       "      <td>0</td>\n",
       "      <td>40</td>\n",
       "      <td>United-States</td>\n",
       "      <td>&lt;=50K</td>\n",
       "      <td>0.128645</td>\n",
       "      <td>873</td>\n",
       "      <td>7bbda081-cd7c-46fd-9911-87746c6ac9a8</td>\n",
       "      <td>0.477670</td>\n",
       "      <td>inlier</td>\n",
       "    </tr>\n",
       "    <tr>\n",
       "      <th>1</th>\n",
       "      <td>43</td>\n",
       "      <td>Private</td>\n",
       "      <td>212894</td>\n",
       "      <td>Some-college</td>\n",
       "      <td>10</td>\n",
       "      <td>Married-civ-spouse</td>\n",
       "      <td>Craft-repair</td>\n",
       "      <td>Husband</td>\n",
       "      <td>White</td>\n",
       "      <td>Male</td>\n",
       "      <td>0</td>\n",
       "      <td>0</td>\n",
       "      <td>40</td>\n",
       "      <td>United-States</td>\n",
       "      <td>&lt;=50K</td>\n",
       "      <td>0.129565</td>\n",
       "      <td>663</td>\n",
       "      <td>7bbda081-cd7c-46fd-9911-87746c6ac9a8</td>\n",
       "      <td>0.480390</td>\n",
       "      <td>inlier</td>\n",
       "    </tr>\n",
       "    <tr>\n",
       "      <th>2</th>\n",
       "      <td>46</td>\n",
       "      <td>Private</td>\n",
       "      <td>106255</td>\n",
       "      <td>Some-college</td>\n",
       "      <td>10</td>\n",
       "      <td>Married-civ-spouse</td>\n",
       "      <td>Craft-repair</td>\n",
       "      <td>Husband</td>\n",
       "      <td>White</td>\n",
       "      <td>Male</td>\n",
       "      <td>0</td>\n",
       "      <td>0</td>\n",
       "      <td>40</td>\n",
       "      <td>United-States</td>\n",
       "      <td>&lt;=50K</td>\n",
       "      <td>0.132972</td>\n",
       "      <td>318</td>\n",
       "      <td>7bbda081-cd7c-46fd-9911-87746c6ac9a8</td>\n",
       "      <td>0.534098</td>\n",
       "      <td>inlier</td>\n",
       "    </tr>\n",
       "    <tr>\n",
       "      <th>3</th>\n",
       "      <td>47</td>\n",
       "      <td>Private</td>\n",
       "      <td>106255</td>\n",
       "      <td>Some-college</td>\n",
       "      <td>10</td>\n",
       "      <td>Married-civ-spouse</td>\n",
       "      <td>Craft-repair</td>\n",
       "      <td>Husband</td>\n",
       "      <td>White</td>\n",
       "      <td>Male</td>\n",
       "      <td>0</td>\n",
       "      <td>0</td>\n",
       "      <td>40</td>\n",
       "      <td>United-States</td>\n",
       "      <td>&lt;=50K</td>\n",
       "      <td>0.133871</td>\n",
       "      <td>847</td>\n",
       "      <td>7bbda081-cd7c-46fd-9911-87746c6ac9a8</td>\n",
       "      <td>0.536693</td>\n",
       "      <td>inlier</td>\n",
       "    </tr>\n",
       "    <tr>\n",
       "      <th>4</th>\n",
       "      <td>20</td>\n",
       "      <td>Private</td>\n",
       "      <td>203027</td>\n",
       "      <td>HS-grad</td>\n",
       "      <td>9</td>\n",
       "      <td>Never-married</td>\n",
       "      <td>Handlers-cleaners</td>\n",
       "      <td>Own-child</td>\n",
       "      <td>White</td>\n",
       "      <td>Male</td>\n",
       "      <td>0</td>\n",
       "      <td>0</td>\n",
       "      <td>40</td>\n",
       "      <td>United-States</td>\n",
       "      <td>&lt;=50K</td>\n",
       "      <td>0.141201</td>\n",
       "      <td>88</td>\n",
       "      <td>7bbda081-cd7c-46fd-9911-87746c6ac9a8</td>\n",
       "      <td>0.582256</td>\n",
       "      <td>inlier</td>\n",
       "    </tr>\n",
       "    <tr>\n",
       "      <th>...</th>\n",
       "      <td>...</td>\n",
       "      <td>...</td>\n",
       "      <td>...</td>\n",
       "      <td>...</td>\n",
       "      <td>...</td>\n",
       "      <td>...</td>\n",
       "      <td>...</td>\n",
       "      <td>...</td>\n",
       "      <td>...</td>\n",
       "      <td>...</td>\n",
       "      <td>...</td>\n",
       "      <td>...</td>\n",
       "      <td>...</td>\n",
       "      <td>...</td>\n",
       "      <td>...</td>\n",
       "      <td>...</td>\n",
       "      <td>...</td>\n",
       "      <td>...</td>\n",
       "      <td>...</td>\n",
       "      <td>...</td>\n",
       "    </tr>\n",
       "    <tr>\n",
       "      <th>136</th>\n",
       "      <td>32</td>\n",
       "      <td>Private</td>\n",
       "      <td>132601</td>\n",
       "      <td>Bachelors</td>\n",
       "      <td>13</td>\n",
       "      <td>Married-civ-spouse</td>\n",
       "      <td>Prof-specialty</td>\n",
       "      <td>Husband</td>\n",
       "      <td>White</td>\n",
       "      <td>Male</td>\n",
       "      <td>0</td>\n",
       "      <td>0</td>\n",
       "      <td>50</td>\n",
       "      <td>United-States</td>\n",
       "      <td>&lt;=50K</td>\n",
       "      <td>0.734703</td>\n",
       "      <td>223</td>\n",
       "      <td>7bbda081-cd7c-46fd-9911-87746c6ac9a8</td>\n",
       "      <td>1.753836</td>\n",
       "      <td>inlier</td>\n",
       "    </tr>\n",
       "    <tr>\n",
       "      <th>137</th>\n",
       "      <td>30</td>\n",
       "      <td>Private</td>\n",
       "      <td>185177</td>\n",
       "      <td>Bachelors</td>\n",
       "      <td>13</td>\n",
       "      <td>Married-civ-spouse</td>\n",
       "      <td>Exec-managerial</td>\n",
       "      <td>Husband</td>\n",
       "      <td>White</td>\n",
       "      <td>Male</td>\n",
       "      <td>0</td>\n",
       "      <td>0</td>\n",
       "      <td>43</td>\n",
       "      <td>United-States</td>\n",
       "      <td>&lt;=50K</td>\n",
       "      <td>0.743814</td>\n",
       "      <td>369</td>\n",
       "      <td>7bbda081-cd7c-46fd-9911-87746c6ac9a8</td>\n",
       "      <td>1.772794</td>\n",
       "      <td>inlier</td>\n",
       "    </tr>\n",
       "    <tr>\n",
       "      <th>138</th>\n",
       "      <td>24</td>\n",
       "      <td>Private</td>\n",
       "      <td>179423</td>\n",
       "      <td>HS-grad</td>\n",
       "      <td>9</td>\n",
       "      <td>Never-married</td>\n",
       "      <td>Adm-clerical</td>\n",
       "      <td>Own-child</td>\n",
       "      <td>White</td>\n",
       "      <td>Female</td>\n",
       "      <td>0</td>\n",
       "      <td>0</td>\n",
       "      <td>40</td>\n",
       "      <td>United-States</td>\n",
       "      <td>&lt;=50K</td>\n",
       "      <td>0.744830</td>\n",
       "      <td>309</td>\n",
       "      <td>7bbda081-cd7c-46fd-9911-87746c6ac9a8</td>\n",
       "      <td>1.746266</td>\n",
       "      <td>inlier</td>\n",
       "    </tr>\n",
       "    <tr>\n",
       "      <th>139</th>\n",
       "      <td>17</td>\n",
       "      <td>Private</td>\n",
       "      <td>108402</td>\n",
       "      <td>10th</td>\n",
       "      <td>6</td>\n",
       "      <td>Never-married</td>\n",
       "      <td>Sales</td>\n",
       "      <td>Own-child</td>\n",
       "      <td>White</td>\n",
       "      <td>Female</td>\n",
       "      <td>0</td>\n",
       "      <td>0</td>\n",
       "      <td>20</td>\n",
       "      <td>United-States</td>\n",
       "      <td>&lt;=50K</td>\n",
       "      <td>0.747913</td>\n",
       "      <td>781</td>\n",
       "      <td>7bbda081-cd7c-46fd-9911-87746c6ac9a8</td>\n",
       "      <td>2.132349</td>\n",
       "      <td>inlier</td>\n",
       "    </tr>\n",
       "    <tr>\n",
       "      <th>140</th>\n",
       "      <td>43</td>\n",
       "      <td>Private</td>\n",
       "      <td>114351</td>\n",
       "      <td>HS-grad</td>\n",
       "      <td>9</td>\n",
       "      <td>Divorced</td>\n",
       "      <td>Craft-repair</td>\n",
       "      <td>Not-in-family</td>\n",
       "      <td>White</td>\n",
       "      <td>Male</td>\n",
       "      <td>0</td>\n",
       "      <td>0</td>\n",
       "      <td>35</td>\n",
       "      <td>United-States</td>\n",
       "      <td>&lt;=50K</td>\n",
       "      <td>0.748094</td>\n",
       "      <td>337</td>\n",
       "      <td>7bbda081-cd7c-46fd-9911-87746c6ac9a8</td>\n",
       "      <td>1.741526</td>\n",
       "      <td>inlier</td>\n",
       "    </tr>\n",
       "  </tbody>\n",
       "</table>\n",
       "<p>141 rows × 20 columns</p>\n",
       "</div>"
      ],
      "text/plain": [
       "     age workclass  fnlwgt      education  education-num       marital-status  \\\n",
       "0     42   Private  213464   Some-college             10   Married-civ-spouse   \n",
       "1     43   Private  212894   Some-college             10   Married-civ-spouse   \n",
       "2     46   Private  106255   Some-college             10   Married-civ-spouse   \n",
       "3     47   Private  106255   Some-college             10   Married-civ-spouse   \n",
       "4     20   Private  203027        HS-grad              9        Never-married   \n",
       "..   ...       ...     ...            ...            ...                  ...   \n",
       "136   32   Private  132601      Bachelors             13   Married-civ-spouse   \n",
       "137   30   Private  185177      Bachelors             13   Married-civ-spouse   \n",
       "138   24   Private  179423        HS-grad              9        Never-married   \n",
       "139   17   Private  108402           10th              6        Never-married   \n",
       "140   43   Private  114351        HS-grad              9             Divorced   \n",
       "\n",
       "             occupation    relationship    race      sex  capital-gain  \\\n",
       "0          Craft-repair         Husband   White     Male             0   \n",
       "1          Craft-repair         Husband   White     Male             0   \n",
       "2          Craft-repair         Husband   White     Male             0   \n",
       "3          Craft-repair         Husband   White     Male             0   \n",
       "4     Handlers-cleaners       Own-child   White     Male             0   \n",
       "..                  ...             ...     ...      ...           ...   \n",
       "136      Prof-specialty         Husband   White     Male             0   \n",
       "137     Exec-managerial         Husband   White     Male             0   \n",
       "138        Adm-clerical       Own-child   White   Female             0   \n",
       "139               Sales       Own-child   White   Female             0   \n",
       "140        Craft-repair   Not-in-family   White     Male             0   \n",
       "\n",
       "     capital-loss  hours-per-week  native-country  target  \\\n",
       "0               0              40   United-States   <=50K   \n",
       "1               0              40   United-States   <=50K   \n",
       "2               0              40   United-States   <=50K   \n",
       "3               0              40   United-States   <=50K   \n",
       "4               0              40   United-States   <=50K   \n",
       "..            ...             ...             ...     ...   \n",
       "136             0              50   United-States   <=50K   \n",
       "137             0              43   United-States   <=50K   \n",
       "138             0              40   United-States   <=50K   \n",
       "139             0              20   United-States   <=50K   \n",
       "140             0              35   United-States   <=50K   \n",
       "\n",
       "     familiarity_conviction_addition  .session_training_index  \\\n",
       "0                           0.128645                      873   \n",
       "1                           0.129565                      663   \n",
       "2                           0.132972                      318   \n",
       "3                           0.133871                      847   \n",
       "4                           0.141201                       88   \n",
       "..                               ...                      ...   \n",
       "136                         0.734703                      223   \n",
       "137                         0.743814                      369   \n",
       "138                         0.744830                      309   \n",
       "139                         0.747913                      781   \n",
       "140                         0.748094                      337   \n",
       "\n",
       "                                 .session  distance_contribution category  \n",
       "0    7bbda081-cd7c-46fd-9911-87746c6ac9a8               0.477670   inlier  \n",
       "1    7bbda081-cd7c-46fd-9911-87746c6ac9a8               0.480390   inlier  \n",
       "2    7bbda081-cd7c-46fd-9911-87746c6ac9a8               0.534098   inlier  \n",
       "3    7bbda081-cd7c-46fd-9911-87746c6ac9a8               0.536693   inlier  \n",
       "4    7bbda081-cd7c-46fd-9911-87746c6ac9a8               0.582256   inlier  \n",
       "..                                    ...                    ...      ...  \n",
       "136  7bbda081-cd7c-46fd-9911-87746c6ac9a8               1.753836   inlier  \n",
       "137  7bbda081-cd7c-46fd-9911-87746c6ac9a8               1.772794   inlier  \n",
       "138  7bbda081-cd7c-46fd-9911-87746c6ac9a8               1.746266   inlier  \n",
       "139  7bbda081-cd7c-46fd-9911-87746c6ac9a8               2.132349   inlier  \n",
       "140  7bbda081-cd7c-46fd-9911-87746c6ac9a8               1.741526   inlier  \n",
       "\n",
       "[141 rows x 20 columns]"
      ]
     },
     "execution_count": 14,
     "metadata": {},
     "output_type": "execute_result"
    }
   ],
   "source": [
    "# Get the inlier cases\n",
    "inliers = low_convicts[low_convicts['category'] == 'inlier'].reset_index(drop=True)\n",
    "inliers"
   ]
  },
  {
   "cell_type": "code",
   "execution_count": 15,
   "id": "096f14f8-2048-441f-98f0-f828104c7be4",
   "metadata": {},
   "outputs": [],
   "source": [
    "# Specify the inlier cases\n",
    "inliers_indices = inliers[['.session', '.session_training_index']].values\n",
    "\n",
    "# React to get the details of each case\n",
    "results = t.react(case_indices=inliers_indices, \n",
    "                  preserve_feature_values=df.columns.tolist(), \n",
    "                  leave_case_out=True, \n",
    "                  details=details)"
   ]
  },
  {
   "cell_type": "code",
   "execution_count": 16,
   "id": "e7fdb0be-635c-4bb0-99dd-5c8f0ede8022",
   "metadata": {},
   "outputs": [],
   "source": [
    "# Extract the global and local case feature residual convictions\n",
    "global_case_feature_residual_convictions = pd.DataFrame(results['explanation']['global_case_feature_residual_convictions'])[df.columns.tolist()]\n",
    "local_case_feature_residual_convictions = pd.DataFrame(results['explanation']['local_case_feature_residual_convictions'])[df.columns.tolist()]"
   ]
  },
  {
   "cell_type": "code",
   "execution_count": 17,
   "id": "981d6618-0d97-464b-93e8-053e51db44ad",
   "metadata": {},
   "outputs": [
    {
     "data": {
      "application/vnd.plotly.v1+json": {
       "config": {
        "plotlyServerURL": "https://plot.ly"
       },
       "data": [
        {
         "coloraxis": "coloraxis",
         "hovertemplate": "Conviction=%{z}",
         "name": "Outliers",
         "text": [
          [
           "42",
           " Private",
           "213464",
           " Some-college",
           "10",
           " Married-civ-spouse",
           " Craft-repair",
           " Husband",
           " White",
           " Male",
           "0",
           "0",
           "40",
           " United-States",
           " <=50K",
           "0.128645136707772",
           "873",
           "7bbda081-cd7c-46fd-9911-87746c6ac9a8",
           "0.4776701506701742",
           "inlier"
          ],
          [
           "43",
           " Private",
           "212894",
           " Some-college",
           "10",
           " Married-civ-spouse",
           " Craft-repair",
           " Husband",
           " White",
           " Male",
           "0",
           "0",
           "40",
           " United-States",
           " <=50K",
           "0.12956533646526075",
           "663",
           "7bbda081-cd7c-46fd-9911-87746c6ac9a8",
           "0.4803898529823804",
           "inlier"
          ],
          [
           "46",
           " Private",
           "106255",
           " Some-college",
           "10",
           " Married-civ-spouse",
           " Craft-repair",
           " Husband",
           " White",
           " Male",
           "0",
           "0",
           "40",
           " United-States",
           " <=50K",
           "0.13297189686517127",
           "318",
           "7bbda081-cd7c-46fd-9911-87746c6ac9a8",
           "0.5340978129387446",
           "inlier"
          ],
          [
           "47",
           " Private",
           "106255",
           " Some-college",
           "10",
           " Married-civ-spouse",
           " Craft-repair",
           " Husband",
           " White",
           " Male",
           "0",
           "0",
           "40",
           " United-States",
           " <=50K",
           "0.13387069848017788",
           "847",
           "7bbda081-cd7c-46fd-9911-87746c6ac9a8",
           "0.5366933151341758",
           "inlier"
          ],
          [
           "20",
           " Private",
           "203027",
           " HS-grad",
           "9",
           " Never-married",
           " Handlers-cleaners",
           " Own-child",
           " White",
           " Male",
           "0",
           "0",
           "40",
           " United-States",
           " <=50K",
           "0.14120114248932766",
           "88",
           "7bbda081-cd7c-46fd-9911-87746c6ac9a8",
           "0.5822562908485844",
           "inlier"
          ]
         ],
         "texttemplate": "%{text}",
         "type": "heatmap",
         "x": [
          "age",
          "workclass",
          "fnlwgt",
          "education",
          "education-num",
          "marital-status",
          "occupation",
          "relationship",
          "race",
          "sex",
          "capital-gain",
          "capital-loss",
          "hours-per-week",
          "native-country",
          "target"
         ],
         "xgap": 3,
         "y": [
          0,
          1,
          2,
          3,
          4
         ],
         "ygap": 3,
         "z": [
          [
           2.301380832946286,
           1.8060603531562365,
           1.8973561731777218,
           1.0575295788983112,
           1.8353428088292094,
           1.3294484899301349,
           1.0543562699310396,
           0.9714022260267081,
           2.253323065886345,
           0.4700911657278915,
           0.5054924464896616,
           1.8538725499124227,
           2.7492372478192872,
           6.844542113914214,
           0.7583337650838881
          ],
          [
           5.283203528411301,
           1.8938495650334304,
           1.6292767928697287,
           0.6096469217727384,
           0.8550445416553039,
           1.3422889237823243,
           1.6943693902954016,
           1.0440869519608815,
           2.9515959390354887,
           2.1921981867991533,
           0.5284901892169227,
           2.1719517599570453,
           1.3305262425387767,
           0.9520027732962567,
           1.8234091903371232
          ],
          [
           1.2229785396104957,
           2.7169857945741964,
           1.2403976102277559,
           0.6277079792390443,
           0.8265078201541469,
           1.1027422103259157,
           1.530861801044133,
           0.8425868720417683,
           0.8314511694822506,
           3.7213928509665046,
           0.8295124228557162,
           6.530961495406365,
           1.9944387429492831,
           1.7840955701402368,
           3.574716933734571
          ],
          [
           1.5728124457664663,
           3.0155980998073133,
           1.3686993623935193,
           0.8476552742654375,
           0.8263607124697746,
           0.9386937041131893,
           1.6898594766606367,
           1.0726614793448441,
           0.4963493779855416,
           1.568667683107532,
           1.973865223178118,
           1.4172924779719036,
           2.5479666119574995,
           3.476590796500629,
           2.5830960235022404
          ],
          [
           2.588827037324028,
           2.8623213607699793,
           3.2444575137539573,
           0.49533566006528607,
           2.043685401251626,
           1.3978762021694984,
           0.9819380356921625,
           1.1862564468876484,
           2.3136054309061116,
           2.4195765303593526,
           1.1224987637627613,
           1.714943320743976,
           1.4161896412213937,
           0.6129974133261145,
           2.069635172331158
          ]
         ]
        }
       ],
       "layout": {
        "coloraxis": {
         "cmax": 5,
         "cmin": 0,
         "colorbar": {
          "ticktext": [
           "0",
           "0.5",
           "1",
           "1.5",
           "2",
           "2.5",
           "3",
           "3.5",
           "4",
           "4.5",
           "≥5"
          ],
          "tickvals": [
           0,
           0.5,
           1,
           1.5,
           2,
           2.5,
           3,
           3.5,
           4,
           4.5,
           5
          ],
          "title": {
           "text": "Conviction"
          }
         },
         "colorscale": [
          [
           0,
           "rgb(103,0,31)"
          ],
          [
           0.2,
           "rgb(247, 247, 247)"
          ],
          [
           0.4,
           "rgb(67,147,195)"
          ],
          [
           1,
           "rgb(5,48,97)"
          ]
         ]
        },
        "template": {
         "data": {
          "bar": [
           {
            "error_x": {
             "color": "#2a3f5f"
            },
            "error_y": {
             "color": "#2a3f5f"
            },
            "marker": {
             "line": {
              "color": "#E5ECF6",
              "width": 0.5
             },
             "pattern": {
              "fillmode": "overlay",
              "size": 10,
              "solidity": 0.2
             }
            },
            "type": "bar"
           }
          ],
          "barpolar": [
           {
            "marker": {
             "line": {
              "color": "#E5ECF6",
              "width": 0.5
             },
             "pattern": {
              "fillmode": "overlay",
              "size": 10,
              "solidity": 0.2
             }
            },
            "type": "barpolar"
           }
          ],
          "carpet": [
           {
            "aaxis": {
             "endlinecolor": "#2a3f5f",
             "gridcolor": "white",
             "linecolor": "white",
             "minorgridcolor": "white",
             "startlinecolor": "#2a3f5f"
            },
            "baxis": {
             "endlinecolor": "#2a3f5f",
             "gridcolor": "white",
             "linecolor": "white",
             "minorgridcolor": "white",
             "startlinecolor": "#2a3f5f"
            },
            "type": "carpet"
           }
          ],
          "choropleth": [
           {
            "colorbar": {
             "outlinewidth": 0,
             "ticks": ""
            },
            "type": "choropleth"
           }
          ],
          "contour": [
           {
            "colorbar": {
             "outlinewidth": 0,
             "ticks": ""
            },
            "colorscale": [
             [
              0,
              "#0d0887"
             ],
             [
              0.1111111111111111,
              "#46039f"
             ],
             [
              0.2222222222222222,
              "#7201a8"
             ],
             [
              0.3333333333333333,
              "#9c179e"
             ],
             [
              0.4444444444444444,
              "#bd3786"
             ],
             [
              0.5555555555555556,
              "#d8576b"
             ],
             [
              0.6666666666666666,
              "#ed7953"
             ],
             [
              0.7777777777777778,
              "#fb9f3a"
             ],
             [
              0.8888888888888888,
              "#fdca26"
             ],
             [
              1,
              "#f0f921"
             ]
            ],
            "type": "contour"
           }
          ],
          "contourcarpet": [
           {
            "colorbar": {
             "outlinewidth": 0,
             "ticks": ""
            },
            "type": "contourcarpet"
           }
          ],
          "heatmap": [
           {
            "colorbar": {
             "outlinewidth": 0,
             "ticks": ""
            },
            "colorscale": [
             [
              0,
              "#0d0887"
             ],
             [
              0.1111111111111111,
              "#46039f"
             ],
             [
              0.2222222222222222,
              "#7201a8"
             ],
             [
              0.3333333333333333,
              "#9c179e"
             ],
             [
              0.4444444444444444,
              "#bd3786"
             ],
             [
              0.5555555555555556,
              "#d8576b"
             ],
             [
              0.6666666666666666,
              "#ed7953"
             ],
             [
              0.7777777777777778,
              "#fb9f3a"
             ],
             [
              0.8888888888888888,
              "#fdca26"
             ],
             [
              1,
              "#f0f921"
             ]
            ],
            "type": "heatmap"
           }
          ],
          "heatmapgl": [
           {
            "colorbar": {
             "outlinewidth": 0,
             "ticks": ""
            },
            "colorscale": [
             [
              0,
              "#0d0887"
             ],
             [
              0.1111111111111111,
              "#46039f"
             ],
             [
              0.2222222222222222,
              "#7201a8"
             ],
             [
              0.3333333333333333,
              "#9c179e"
             ],
             [
              0.4444444444444444,
              "#bd3786"
             ],
             [
              0.5555555555555556,
              "#d8576b"
             ],
             [
              0.6666666666666666,
              "#ed7953"
             ],
             [
              0.7777777777777778,
              "#fb9f3a"
             ],
             [
              0.8888888888888888,
              "#fdca26"
             ],
             [
              1,
              "#f0f921"
             ]
            ],
            "type": "heatmapgl"
           }
          ],
          "histogram": [
           {
            "marker": {
             "pattern": {
              "fillmode": "overlay",
              "size": 10,
              "solidity": 0.2
             }
            },
            "type": "histogram"
           }
          ],
          "histogram2d": [
           {
            "colorbar": {
             "outlinewidth": 0,
             "ticks": ""
            },
            "colorscale": [
             [
              0,
              "#0d0887"
             ],
             [
              0.1111111111111111,
              "#46039f"
             ],
             [
              0.2222222222222222,
              "#7201a8"
             ],
             [
              0.3333333333333333,
              "#9c179e"
             ],
             [
              0.4444444444444444,
              "#bd3786"
             ],
             [
              0.5555555555555556,
              "#d8576b"
             ],
             [
              0.6666666666666666,
              "#ed7953"
             ],
             [
              0.7777777777777778,
              "#fb9f3a"
             ],
             [
              0.8888888888888888,
              "#fdca26"
             ],
             [
              1,
              "#f0f921"
             ]
            ],
            "type": "histogram2d"
           }
          ],
          "histogram2dcontour": [
           {
            "colorbar": {
             "outlinewidth": 0,
             "ticks": ""
            },
            "colorscale": [
             [
              0,
              "#0d0887"
             ],
             [
              0.1111111111111111,
              "#46039f"
             ],
             [
              0.2222222222222222,
              "#7201a8"
             ],
             [
              0.3333333333333333,
              "#9c179e"
             ],
             [
              0.4444444444444444,
              "#bd3786"
             ],
             [
              0.5555555555555556,
              "#d8576b"
             ],
             [
              0.6666666666666666,
              "#ed7953"
             ],
             [
              0.7777777777777778,
              "#fb9f3a"
             ],
             [
              0.8888888888888888,
              "#fdca26"
             ],
             [
              1,
              "#f0f921"
             ]
            ],
            "type": "histogram2dcontour"
           }
          ],
          "mesh3d": [
           {
            "colorbar": {
             "outlinewidth": 0,
             "ticks": ""
            },
            "type": "mesh3d"
           }
          ],
          "parcoords": [
           {
            "line": {
             "colorbar": {
              "outlinewidth": 0,
              "ticks": ""
             }
            },
            "type": "parcoords"
           }
          ],
          "pie": [
           {
            "automargin": true,
            "type": "pie"
           }
          ],
          "scatter": [
           {
            "fillpattern": {
             "fillmode": "overlay",
             "size": 10,
             "solidity": 0.2
            },
            "type": "scatter"
           }
          ],
          "scatter3d": [
           {
            "line": {
             "colorbar": {
              "outlinewidth": 0,
              "ticks": ""
             }
            },
            "marker": {
             "colorbar": {
              "outlinewidth": 0,
              "ticks": ""
             }
            },
            "type": "scatter3d"
           }
          ],
          "scattercarpet": [
           {
            "marker": {
             "colorbar": {
              "outlinewidth": 0,
              "ticks": ""
             }
            },
            "type": "scattercarpet"
           }
          ],
          "scattergeo": [
           {
            "marker": {
             "colorbar": {
              "outlinewidth": 0,
              "ticks": ""
             }
            },
            "type": "scattergeo"
           }
          ],
          "scattergl": [
           {
            "marker": {
             "colorbar": {
              "outlinewidth": 0,
              "ticks": ""
             }
            },
            "type": "scattergl"
           }
          ],
          "scattermapbox": [
           {
            "marker": {
             "colorbar": {
              "outlinewidth": 0,
              "ticks": ""
             }
            },
            "type": "scattermapbox"
           }
          ],
          "scatterpolar": [
           {
            "marker": {
             "colorbar": {
              "outlinewidth": 0,
              "ticks": ""
             }
            },
            "type": "scatterpolar"
           }
          ],
          "scatterpolargl": [
           {
            "marker": {
             "colorbar": {
              "outlinewidth": 0,
              "ticks": ""
             }
            },
            "type": "scatterpolargl"
           }
          ],
          "scatterternary": [
           {
            "marker": {
             "colorbar": {
              "outlinewidth": 0,
              "ticks": ""
             }
            },
            "type": "scatterternary"
           }
          ],
          "surface": [
           {
            "colorbar": {
             "outlinewidth": 0,
             "ticks": ""
            },
            "colorscale": [
             [
              0,
              "#0d0887"
             ],
             [
              0.1111111111111111,
              "#46039f"
             ],
             [
              0.2222222222222222,
              "#7201a8"
             ],
             [
              0.3333333333333333,
              "#9c179e"
             ],
             [
              0.4444444444444444,
              "#bd3786"
             ],
             [
              0.5555555555555556,
              "#d8576b"
             ],
             [
              0.6666666666666666,
              "#ed7953"
             ],
             [
              0.7777777777777778,
              "#fb9f3a"
             ],
             [
              0.8888888888888888,
              "#fdca26"
             ],
             [
              1,
              "#f0f921"
             ]
            ],
            "type": "surface"
           }
          ],
          "table": [
           {
            "cells": {
             "fill": {
              "color": "#EBF0F8"
             },
             "line": {
              "color": "white"
             }
            },
            "header": {
             "fill": {
              "color": "#C8D4E3"
             },
             "line": {
              "color": "white"
             }
            },
            "type": "table"
           }
          ]
         },
         "layout": {
          "annotationdefaults": {
           "arrowcolor": "#2a3f5f",
           "arrowhead": 0,
           "arrowwidth": 1
          },
          "autotypenumbers": "strict",
          "coloraxis": {
           "colorbar": {
            "outlinewidth": 0,
            "ticks": ""
           }
          },
          "colorscale": {
           "diverging": [
            [
             0,
             "#8e0152"
            ],
            [
             0.1,
             "#c51b7d"
            ],
            [
             0.2,
             "#de77ae"
            ],
            [
             0.3,
             "#f1b6da"
            ],
            [
             0.4,
             "#fde0ef"
            ],
            [
             0.5,
             "#f7f7f7"
            ],
            [
             0.6,
             "#e6f5d0"
            ],
            [
             0.7,
             "#b8e186"
            ],
            [
             0.8,
             "#7fbc41"
            ],
            [
             0.9,
             "#4d9221"
            ],
            [
             1,
             "#276419"
            ]
           ],
           "sequential": [
            [
             0,
             "#0d0887"
            ],
            [
             0.1111111111111111,
             "#46039f"
            ],
            [
             0.2222222222222222,
             "#7201a8"
            ],
            [
             0.3333333333333333,
             "#9c179e"
            ],
            [
             0.4444444444444444,
             "#bd3786"
            ],
            [
             0.5555555555555556,
             "#d8576b"
            ],
            [
             0.6666666666666666,
             "#ed7953"
            ],
            [
             0.7777777777777778,
             "#fb9f3a"
            ],
            [
             0.8888888888888888,
             "#fdca26"
            ],
            [
             1,
             "#f0f921"
            ]
           ],
           "sequentialminus": [
            [
             0,
             "#0d0887"
            ],
            [
             0.1111111111111111,
             "#46039f"
            ],
            [
             0.2222222222222222,
             "#7201a8"
            ],
            [
             0.3333333333333333,
             "#9c179e"
            ],
            [
             0.4444444444444444,
             "#bd3786"
            ],
            [
             0.5555555555555556,
             "#d8576b"
            ],
            [
             0.6666666666666666,
             "#ed7953"
            ],
            [
             0.7777777777777778,
             "#fb9f3a"
            ],
            [
             0.8888888888888888,
             "#fdca26"
            ],
            [
             1,
             "#f0f921"
            ]
           ]
          },
          "colorway": [
           "#636efa",
           "#EF553B",
           "#00cc96",
           "#ab63fa",
           "#FFA15A",
           "#19d3f3",
           "#FF6692",
           "#B6E880",
           "#FF97FF",
           "#FECB52"
          ],
          "font": {
           "color": "#2a3f5f"
          },
          "geo": {
           "bgcolor": "white",
           "lakecolor": "white",
           "landcolor": "#E5ECF6",
           "showlakes": true,
           "showland": true,
           "subunitcolor": "white"
          },
          "hoverlabel": {
           "align": "left"
          },
          "hovermode": "closest",
          "mapbox": {
           "style": "light"
          },
          "paper_bgcolor": "white",
          "plot_bgcolor": "#E5ECF6",
          "polar": {
           "angularaxis": {
            "gridcolor": "white",
            "linecolor": "white",
            "ticks": ""
           },
           "bgcolor": "#E5ECF6",
           "radialaxis": {
            "gridcolor": "white",
            "linecolor": "white",
            "ticks": ""
           }
          },
          "scene": {
           "xaxis": {
            "backgroundcolor": "#E5ECF6",
            "gridcolor": "white",
            "gridwidth": 2,
            "linecolor": "white",
            "showbackground": true,
            "ticks": "",
            "zerolinecolor": "white"
           },
           "yaxis": {
            "backgroundcolor": "#E5ECF6",
            "gridcolor": "white",
            "gridwidth": 2,
            "linecolor": "white",
            "showbackground": true,
            "ticks": "",
            "zerolinecolor": "white"
           },
           "zaxis": {
            "backgroundcolor": "#E5ECF6",
            "gridcolor": "white",
            "gridwidth": 2,
            "linecolor": "white",
            "showbackground": true,
            "ticks": "",
            "zerolinecolor": "white"
           }
          },
          "shapedefaults": {
           "line": {
            "color": "#2a3f5f"
           }
          },
          "ternary": {
           "aaxis": {
            "gridcolor": "white",
            "linecolor": "white",
            "ticks": ""
           },
           "baxis": {
            "gridcolor": "white",
            "linecolor": "white",
            "ticks": ""
           },
           "bgcolor": "#E5ECF6",
           "caxis": {
            "gridcolor": "white",
            "linecolor": "white",
            "ticks": ""
           }
          },
          "title": {
           "x": 0.05
          },
          "xaxis": {
           "automargin": true,
           "gridcolor": "white",
           "linecolor": "white",
           "ticks": "",
           "title": {
            "standoff": 15
           },
           "zerolinecolor": "white",
           "zerolinewidth": 2
          },
          "yaxis": {
           "automargin": true,
           "gridcolor": "white",
           "linecolor": "white",
           "ticks": "",
           "title": {
            "standoff": 15
           },
           "zerolinecolor": "white",
           "zerolinewidth": 2
          }
         }
        },
        "title": {
         "text": "Inliers"
        },
        "xaxis": {
         "anchor": "y",
         "domain": [
          0,
          1
         ],
         "title": {
          "text": "Feature"
         }
        },
        "yaxis": {
         "anchor": "x",
         "autorange": "reversed",
         "domain": [
          0,
          1
         ],
         "title": {
          "text": "Residual Conviction"
         }
        }
       }
      }
     },
     "metadata": {},
     "output_type": "display_data"
    }
   ],
   "source": [
    "plot_anomalies(inliers, local_case_feature_residual_convictions, title=\"Inliers\", yaxis_title=\"Residual Conviction\")"
   ]
  },
  {
   "attachments": {},
   "cell_type": "markdown",
   "id": "4d444dae-f0dc-4faf-9034-6dc990f6ffdb",
   "metadata": {},
   "source": [
    "The heat map explains the reason why each case was an inlier. The darker the shade of blue, the higher the contribution the to case being an inlier."
   ]
  },
  {
   "attachments": {},
   "cell_type": "markdown",
   "id": "0f5def89-aec8-48f3-98f8-8a1790405757",
   "metadata": {},
   "source": [
    "## Potential improvements\n",
    "\n",
    "Sparse regions of the model or under defined problems can make it difficult to make an accurate prediction. Howso Engine can be used to identify potential data, or model improvements by examining the residual conviction and density."
   ]
  },
  {
   "cell_type": "code",
   "execution_count": 18,
   "id": "b1e9c25f-f263-41ea-9ea7-3d8e6247ea6d",
   "metadata": {},
   "outputs": [],
   "source": [
    "# Identify cases for investigation\n",
    "partial_train_df = stored_convictions\n",
    "partial_train_cases = partial_train_df[['.session', '.session_training_index']]\n"
   ]
  },
  {
   "cell_type": "code",
   "execution_count": 19,
   "id": "2720f5e9-3373-4c24-92bb-1e88c26ba287",
   "metadata": {},
   "outputs": [],
   "source": [
    "# Residual convictions are output via the local_case_feature_residual_convictions explanation\n",
    "details = {'global_case_feature_residual_convictions':True}\n",
    "\n",
    "# Get the residual convictions for the specified cases\n",
    "new_result = t.react(case_indices=partial_train_cases.values.tolist(), \n",
    "                     leave_case_out=True, \n",
    "                     preserve_feature_values=df.drop(action_features, axis=1).columns.tolist(), \n",
    "                     action_features=action_features,\n",
    "                     details=details)"
   ]
  },
  {
   "cell_type": "code",
   "execution_count": 20,
   "id": "a6b08957-6417-415e-89ed-3a70c324678d",
   "metadata": {},
   "outputs": [],
   "source": [
    "# Extract residual conviction\n",
    "target_residual_convictions = [ x['target'] for x in new_result['explanation']['global_case_feature_residual_convictions'] ]\n",
    "\n",
    "# Binarize residual conviction\n",
    "convict_threshold = 0.75\n",
    "low_residual_conviction = [1 if x <= convict_threshold else 0 for x in target_residual_convictions]\n",
    "\n",
    "# Density is just the inverse of distance_contribution\n",
    "density = 1 / partial_train_df['distance_contribution']\n",
    "\n",
    "# Add new features to the dataframe\n",
    "partial_train_df['density'] = density\n",
    "partial_train_df['target_residual_conviction'] = target_residual_convictions\n",
    "partial_train_df['low_residual_conviction'] = low_residual_conviction"
   ]
  },
  {
   "cell_type": "code",
   "execution_count": 21,
   "id": "a658e9b0-5d57-4647-bf94-2120a5bad6cf",
   "metadata": {},
   "outputs": [
    {
     "data": {
      "text/html": [
       "<div>\n",
       "<style scoped>\n",
       "    .dataframe tbody tr th:only-of-type {\n",
       "        vertical-align: middle;\n",
       "    }\n",
       "\n",
       "    .dataframe tbody tr th {\n",
       "        vertical-align: top;\n",
       "    }\n",
       "\n",
       "    .dataframe thead th {\n",
       "        text-align: right;\n",
       "    }\n",
       "</style>\n",
       "<table border=\"1\" class=\"dataframe\">\n",
       "  <thead>\n",
       "    <tr style=\"text-align: right;\">\n",
       "      <th></th>\n",
       "      <th>age</th>\n",
       "      <th>workclass</th>\n",
       "      <th>fnlwgt</th>\n",
       "      <th>education</th>\n",
       "      <th>education-num</th>\n",
       "      <th>marital-status</th>\n",
       "      <th>occupation</th>\n",
       "      <th>relationship</th>\n",
       "      <th>race</th>\n",
       "      <th>sex</th>\n",
       "      <th>...</th>\n",
       "      <th>hours-per-week</th>\n",
       "      <th>native-country</th>\n",
       "      <th>target</th>\n",
       "      <th>familiarity_conviction_addition</th>\n",
       "      <th>.session_training_index</th>\n",
       "      <th>.session</th>\n",
       "      <th>distance_contribution</th>\n",
       "      <th>density</th>\n",
       "      <th>target_residual_conviction</th>\n",
       "      <th>low_residual_conviction</th>\n",
       "    </tr>\n",
       "  </thead>\n",
       "  <tbody>\n",
       "    <tr>\n",
       "      <th>0</th>\n",
       "      <td>34</td>\n",
       "      <td>Local-gov</td>\n",
       "      <td>284843</td>\n",
       "      <td>HS-grad</td>\n",
       "      <td>9</td>\n",
       "      <td>Never-married</td>\n",
       "      <td>Farming-fishing</td>\n",
       "      <td>Not-in-family</td>\n",
       "      <td>Black</td>\n",
       "      <td>Male</td>\n",
       "      <td>...</td>\n",
       "      <td>60</td>\n",
       "      <td>United-States</td>\n",
       "      <td>&lt;=50K</td>\n",
       "      <td>21.938997</td>\n",
       "      <td>0</td>\n",
       "      <td>7bbda081-cd7c-46fd-9911-87746c6ac9a8</td>\n",
       "      <td>3.975991</td>\n",
       "      <td>0.251510</td>\n",
       "      <td>1.370286e+00</td>\n",
       "      <td>0</td>\n",
       "    </tr>\n",
       "    <tr>\n",
       "      <th>1</th>\n",
       "      <td>38</td>\n",
       "      <td>Private</td>\n",
       "      <td>64879</td>\n",
       "      <td>Some-college</td>\n",
       "      <td>10</td>\n",
       "      <td>Divorced</td>\n",
       "      <td>Sales</td>\n",
       "      <td>Not-in-family</td>\n",
       "      <td>White</td>\n",
       "      <td>Female</td>\n",
       "      <td>...</td>\n",
       "      <td>40</td>\n",
       "      <td>United-States</td>\n",
       "      <td>&lt;=50K</td>\n",
       "      <td>1.561928</td>\n",
       "      <td>1</td>\n",
       "      <td>7bbda081-cd7c-46fd-9911-87746c6ac9a8</td>\n",
       "      <td>2.213805</td>\n",
       "      <td>0.451711</td>\n",
       "      <td>2.142465e+02</td>\n",
       "      <td>0</td>\n",
       "    </tr>\n",
       "    <tr>\n",
       "      <th>2</th>\n",
       "      <td>35</td>\n",
       "      <td>Private</td>\n",
       "      <td>360799</td>\n",
       "      <td>HS-grad</td>\n",
       "      <td>9</td>\n",
       "      <td>Married-civ-spouse</td>\n",
       "      <td>Craft-repair</td>\n",
       "      <td>Husband</td>\n",
       "      <td>White</td>\n",
       "      <td>Male</td>\n",
       "      <td>...</td>\n",
       "      <td>40</td>\n",
       "      <td>United-States</td>\n",
       "      <td>&gt;50K</td>\n",
       "      <td>8.757461</td>\n",
       "      <td>2</td>\n",
       "      <td>7bbda081-cd7c-46fd-9911-87746c6ac9a8</td>\n",
       "      <td>3.316372</td>\n",
       "      <td>0.301534</td>\n",
       "      <td>2.142465e+02</td>\n",
       "      <td>0</td>\n",
       "    </tr>\n",
       "    <tr>\n",
       "      <th>3</th>\n",
       "      <td>22</td>\n",
       "      <td>Private</td>\n",
       "      <td>359759</td>\n",
       "      <td>Some-college</td>\n",
       "      <td>10</td>\n",
       "      <td>Never-married</td>\n",
       "      <td>Sales</td>\n",
       "      <td>Not-in-family</td>\n",
       "      <td>Asian-Pac-Islander</td>\n",
       "      <td>Male</td>\n",
       "      <td>...</td>\n",
       "      <td>20</td>\n",
       "      <td>Philippines</td>\n",
       "      <td>&lt;=50K</td>\n",
       "      <td>1.002890</td>\n",
       "      <td>3</td>\n",
       "      <td>7bbda081-cd7c-46fd-9911-87746c6ac9a8</td>\n",
       "      <td>5.943205</td>\n",
       "      <td>0.168259</td>\n",
       "      <td>2.142465e+02</td>\n",
       "      <td>0</td>\n",
       "    </tr>\n",
       "    <tr>\n",
       "      <th>4</th>\n",
       "      <td>20</td>\n",
       "      <td>?</td>\n",
       "      <td>133515</td>\n",
       "      <td>Some-college</td>\n",
       "      <td>10</td>\n",
       "      <td>Never-married</td>\n",
       "      <td>?</td>\n",
       "      <td>Own-child</td>\n",
       "      <td>White</td>\n",
       "      <td>Female</td>\n",
       "      <td>...</td>\n",
       "      <td>15</td>\n",
       "      <td>France</td>\n",
       "      <td>&lt;=50K</td>\n",
       "      <td>1.088377</td>\n",
       "      <td>4</td>\n",
       "      <td>7bbda081-cd7c-46fd-9911-87746c6ac9a8</td>\n",
       "      <td>5.879643</td>\n",
       "      <td>0.170078</td>\n",
       "      <td>2.142465e+02</td>\n",
       "      <td>0</td>\n",
       "    </tr>\n",
       "    <tr>\n",
       "      <th>...</th>\n",
       "      <td>...</td>\n",
       "      <td>...</td>\n",
       "      <td>...</td>\n",
       "      <td>...</td>\n",
       "      <td>...</td>\n",
       "      <td>...</td>\n",
       "      <td>...</td>\n",
       "      <td>...</td>\n",
       "      <td>...</td>\n",
       "      <td>...</td>\n",
       "      <td>...</td>\n",
       "      <td>...</td>\n",
       "      <td>...</td>\n",
       "      <td>...</td>\n",
       "      <td>...</td>\n",
       "      <td>...</td>\n",
       "      <td>...</td>\n",
       "      <td>...</td>\n",
       "      <td>...</td>\n",
       "      <td>...</td>\n",
       "      <td>...</td>\n",
       "    </tr>\n",
       "    <tr>\n",
       "      <th>995</th>\n",
       "      <td>42</td>\n",
       "      <td>Private</td>\n",
       "      <td>248356</td>\n",
       "      <td>HS-grad</td>\n",
       "      <td>9</td>\n",
       "      <td>Never-married</td>\n",
       "      <td>Sales</td>\n",
       "      <td>Unmarried</td>\n",
       "      <td>White</td>\n",
       "      <td>Female</td>\n",
       "      <td>...</td>\n",
       "      <td>40</td>\n",
       "      <td>United-States</td>\n",
       "      <td>&lt;=50K</td>\n",
       "      <td>4.223326</td>\n",
       "      <td>995</td>\n",
       "      <td>7bbda081-cd7c-46fd-9911-87746c6ac9a8</td>\n",
       "      <td>2.685854</td>\n",
       "      <td>0.372321</td>\n",
       "      <td>3.769717e+11</td>\n",
       "      <td>0</td>\n",
       "    </tr>\n",
       "    <tr>\n",
       "      <th>996</th>\n",
       "      <td>28</td>\n",
       "      <td>Private</td>\n",
       "      <td>274679</td>\n",
       "      <td>Masters</td>\n",
       "      <td>14</td>\n",
       "      <td>Never-married</td>\n",
       "      <td>Prof-specialty</td>\n",
       "      <td>Not-in-family</td>\n",
       "      <td>White</td>\n",
       "      <td>Male</td>\n",
       "      <td>...</td>\n",
       "      <td>50</td>\n",
       "      <td>United-States</td>\n",
       "      <td>&lt;=50K</td>\n",
       "      <td>3.753311</td>\n",
       "      <td>996</td>\n",
       "      <td>7bbda081-cd7c-46fd-9911-87746c6ac9a8</td>\n",
       "      <td>2.935222</td>\n",
       "      <td>0.340690</td>\n",
       "      <td>4.797237e-01</td>\n",
       "      <td>1</td>\n",
       "    </tr>\n",
       "    <tr>\n",
       "      <th>997</th>\n",
       "      <td>63</td>\n",
       "      <td>Private</td>\n",
       "      <td>158199</td>\n",
       "      <td>1st-4th</td>\n",
       "      <td>2</td>\n",
       "      <td>Widowed</td>\n",
       "      <td>Machine-op-inspct</td>\n",
       "      <td>Unmarried</td>\n",
       "      <td>White</td>\n",
       "      <td>Female</td>\n",
       "      <td>...</td>\n",
       "      <td>44</td>\n",
       "      <td>Portugal</td>\n",
       "      <td>&lt;=50K</td>\n",
       "      <td>0.949989</td>\n",
       "      <td>997</td>\n",
       "      <td>7bbda081-cd7c-46fd-9911-87746c6ac9a8</td>\n",
       "      <td>6.065232</td>\n",
       "      <td>0.164874</td>\n",
       "      <td>2.142465e+02</td>\n",
       "      <td>0</td>\n",
       "    </tr>\n",
       "    <tr>\n",
       "      <th>998</th>\n",
       "      <td>41</td>\n",
       "      <td>?</td>\n",
       "      <td>128700</td>\n",
       "      <td>HS-grad</td>\n",
       "      <td>9</td>\n",
       "      <td>Never-married</td>\n",
       "      <td>?</td>\n",
       "      <td>Own-child</td>\n",
       "      <td>White</td>\n",
       "      <td>Female</td>\n",
       "      <td>...</td>\n",
       "      <td>40</td>\n",
       "      <td>United-States</td>\n",
       "      <td>&lt;=50K</td>\n",
       "      <td>38.792509</td>\n",
       "      <td>998</td>\n",
       "      <td>7bbda081-cd7c-46fd-9911-87746c6ac9a8</td>\n",
       "      <td>3.271994</td>\n",
       "      <td>0.305624</td>\n",
       "      <td>1.983163e+11</td>\n",
       "      <td>0</td>\n",
       "    </tr>\n",
       "    <tr>\n",
       "      <th>999</th>\n",
       "      <td>25</td>\n",
       "      <td>Private</td>\n",
       "      <td>98155</td>\n",
       "      <td>Some-college</td>\n",
       "      <td>10</td>\n",
       "      <td>Never-married</td>\n",
       "      <td>Transport-moving</td>\n",
       "      <td>Unmarried</td>\n",
       "      <td>White</td>\n",
       "      <td>Male</td>\n",
       "      <td>...</td>\n",
       "      <td>40</td>\n",
       "      <td>United-States</td>\n",
       "      <td>&lt;=50K</td>\n",
       "      <td>3.179225</td>\n",
       "      <td>999</td>\n",
       "      <td>7bbda081-cd7c-46fd-9911-87746c6ac9a8</td>\n",
       "      <td>2.565097</td>\n",
       "      <td>0.389849</td>\n",
       "      <td>4.696305e+11</td>\n",
       "      <td>0</td>\n",
       "    </tr>\n",
       "  </tbody>\n",
       "</table>\n",
       "<p>1000 rows × 22 columns</p>\n",
       "</div>"
      ],
      "text/plain": [
       "     age   workclass  fnlwgt      education  education-num  \\\n",
       "0     34   Local-gov  284843        HS-grad              9   \n",
       "1     38     Private   64879   Some-college             10   \n",
       "2     35     Private  360799        HS-grad              9   \n",
       "3     22     Private  359759   Some-college             10   \n",
       "4     20           ?  133515   Some-college             10   \n",
       "..   ...         ...     ...            ...            ...   \n",
       "995   42     Private  248356        HS-grad              9   \n",
       "996   28     Private  274679        Masters             14   \n",
       "997   63     Private  158199        1st-4th              2   \n",
       "998   41           ?  128700        HS-grad              9   \n",
       "999   25     Private   98155   Some-college             10   \n",
       "\n",
       "          marital-status          occupation    relationship  \\\n",
       "0          Never-married     Farming-fishing   Not-in-family   \n",
       "1               Divorced               Sales   Not-in-family   \n",
       "2     Married-civ-spouse        Craft-repair         Husband   \n",
       "3          Never-married               Sales   Not-in-family   \n",
       "4          Never-married                   ?       Own-child   \n",
       "..                   ...                 ...             ...   \n",
       "995        Never-married               Sales       Unmarried   \n",
       "996        Never-married      Prof-specialty   Not-in-family   \n",
       "997              Widowed   Machine-op-inspct       Unmarried   \n",
       "998        Never-married                   ?       Own-child   \n",
       "999        Never-married    Transport-moving       Unmarried   \n",
       "\n",
       "                    race      sex  ...  hours-per-week  native-country  \\\n",
       "0                  Black     Male  ...              60   United-States   \n",
       "1                  White   Female  ...              40   United-States   \n",
       "2                  White     Male  ...              40   United-States   \n",
       "3     Asian-Pac-Islander     Male  ...              20     Philippines   \n",
       "4                  White   Female  ...              15          France   \n",
       "..                   ...      ...  ...             ...             ...   \n",
       "995                White   Female  ...              40   United-States   \n",
       "996                White     Male  ...              50   United-States   \n",
       "997                White   Female  ...              44        Portugal   \n",
       "998                White   Female  ...              40   United-States   \n",
       "999                White     Male  ...              40   United-States   \n",
       "\n",
       "     target familiarity_conviction_addition .session_training_index  \\\n",
       "0     <=50K                       21.938997                       0   \n",
       "1     <=50K                        1.561928                       1   \n",
       "2      >50K                        8.757461                       2   \n",
       "3     <=50K                        1.002890                       3   \n",
       "4     <=50K                        1.088377                       4   \n",
       "..      ...                             ...                     ...   \n",
       "995   <=50K                        4.223326                     995   \n",
       "996   <=50K                        3.753311                     996   \n",
       "997   <=50K                        0.949989                     997   \n",
       "998   <=50K                       38.792509                     998   \n",
       "999   <=50K                        3.179225                     999   \n",
       "\n",
       "                                 .session  distance_contribution   density  \\\n",
       "0    7bbda081-cd7c-46fd-9911-87746c6ac9a8               3.975991  0.251510   \n",
       "1    7bbda081-cd7c-46fd-9911-87746c6ac9a8               2.213805  0.451711   \n",
       "2    7bbda081-cd7c-46fd-9911-87746c6ac9a8               3.316372  0.301534   \n",
       "3    7bbda081-cd7c-46fd-9911-87746c6ac9a8               5.943205  0.168259   \n",
       "4    7bbda081-cd7c-46fd-9911-87746c6ac9a8               5.879643  0.170078   \n",
       "..                                    ...                    ...       ...   \n",
       "995  7bbda081-cd7c-46fd-9911-87746c6ac9a8               2.685854  0.372321   \n",
       "996  7bbda081-cd7c-46fd-9911-87746c6ac9a8               2.935222  0.340690   \n",
       "997  7bbda081-cd7c-46fd-9911-87746c6ac9a8               6.065232  0.164874   \n",
       "998  7bbda081-cd7c-46fd-9911-87746c6ac9a8               3.271994  0.305624   \n",
       "999  7bbda081-cd7c-46fd-9911-87746c6ac9a8               2.565097  0.389849   \n",
       "\n",
       "     target_residual_conviction  low_residual_conviction  \n",
       "0                  1.370286e+00                        0  \n",
       "1                  2.142465e+02                        0  \n",
       "2                  2.142465e+02                        0  \n",
       "3                  2.142465e+02                        0  \n",
       "4                  2.142465e+02                        0  \n",
       "..                          ...                      ...  \n",
       "995                3.769717e+11                        0  \n",
       "996                4.797237e-01                        1  \n",
       "997                2.142465e+02                        0  \n",
       "998                1.983163e+11                        0  \n",
       "999                4.696305e+11                        0  \n",
       "\n",
       "[1000 rows x 22 columns]"
      ]
     },
     "execution_count": 21,
     "metadata": {},
     "output_type": "execute_result"
    }
   ],
   "source": [
    "partial_train_df"
   ]
  },
  {
   "cell_type": "code",
   "execution_count": 22,
   "id": "d902d796-a176-486d-a427-a7783bfa9c86",
   "metadata": {},
   "outputs": [],
   "source": [
    "# Helper function to resize the data points\n",
    "def get_sizes(min_size, max_size, series):\n",
    "    min_value = series.min()\n",
    "    max_value = series.max()\n",
    "    \n",
    "    m = (max_size - min_size) / (max_value - min_value)\n",
    "    \n",
    "    sizes = series * m + min_size\n",
    "    return (sizes)\n",
    "\n",
    "partial_train_df[\"density\"] = get_sizes(5, 500, partial_train_df[\"density\"])"
   ]
  },
  {
   "cell_type": "code",
   "execution_count": 23,
   "id": "3d4ec798",
   "metadata": {},
   "outputs": [
    {
     "data": {
      "application/vnd.plotly.v1+json": {
       "config": {
        "plotlyServerURL": "https://plot.ly"
       },
       "data": [
        {
         "legendgroup": "cases",
         "legendgrouptitle": {
          "text": "Cases"
         },
         "marker": {
          "line": {
           "color": "darkgrey",
           "width": 2
          },
          "opacity": 0.4,
          "size": [
           65.6080924764491,
           113.85205649253315,
           77.6629023948871,
           45.54667475906854,
           45.98500762052187,
           74.97617248148788,
           198.12720941372282,
           57.96404906644552,
           59.15000085737993,
           62.788340262357366,
           360.200679792737,
           70.7517647640053,
           63.791907905687005,
           44.25459165562336,
           81.67635399790196,
           71.49101700547436,
           98.37870179052916,
           127.71415251928961,
           47.358602835482856,
           91.71925795490483,
           46.777541221864695,
           60.18929782263624,
           87.00179341292022,
           75.23452011434371,
           250.24202007795668,
           82.57171859353657,
           80.5859871395598,
           126.59093209418714,
           87.71743962579016,
           88.31956352630186,
           35.58319773447819,
           68.43609417216399,
           124.2173067663569,
           66.80256540152524,
           166.06141415428252,
           28.899840855804364,
           70.90867482332418,
           86.7693393119838,
           67.94617542712112,
           124.20247594945491,
           58.64467993563829,
           89.10043560089815,
           110.87597961748729,
           80.90586268998041,
           124.84793896011588,
           44.75199737715831,
           44.15144239641951,
           99.03939738349959,
           126.7086532161409,
           74.61134592440396,
           110.47873268643302,
           154.38428571232612,
           49.55962807056351,
           88.98691668326796,
           147.49357549083456,
           75.5368670934806,
           38.74960824610465,
           92.1069798004214,
           96.11986152510468,
           66.62862587023943,
           70.57622149836631,
           84.12729542623666,
           125.24699248417745,
           90.26227285569689,
           80.69976033289565,
           66.20245368229868,
           78.98168037165483,
           124.65015114171445,
           69.59296061653241,
           61.41288540924507,
           55.27796897850591,
           361.0356000305598,
           64.15603073469306,
           246.96891113030478,
           114.22375568089937,
           123.47119933771354,
           28.692816128164814,
           81.37471594866875,
           114.45316410434175,
           66.67343021300283,
           137.79860072553907,
           56.175622779721834,
           138.3355065519858,
           153.44742828311792,
           73.09657896945072,
           36.718858186277416,
           91.35870422524785,
           92.29630172625056,
           418.8679444961922,
           134.5613283646645,
           89.63842550540622,
           188.39764535387494,
           76.94766393773646,
           66.6139693347334,
           50.25058716004549,
           81.1127610900742,
           90.63615167548636,
           98.21090972215077,
           52.956585768898,
           89.51502213376212,
           48.67256323441367,
           112.63061996097869,
           67.81577377770353,
           104.59053315450272,
           97.26127049165046,
           40.04104535486129,
           67.58546669991384,
           72.56865611581453,
           47.28095474232304,
           42.46078012166984,
           121.12732315009725,
           57.75070050423513,
           140.30292787605904,
           35.705500042579715,
           86.4442646910531,
           190.57518546094914,
           68.29974221940114,
           70.38563898753375,
           47.93349321512866,
           65.31705133156206,
           59.77795787513162,
           113.562243557252,
           202.3933530122835,
           156.3574016318807,
           93.14002748162986,
           127.80183817744941,
           121.64897561273735,
           62.074976420277125,
           39.67942628076953,
           154.34823592757655,
           138.04647650382023,
           131.1290633077624,
           80.90462526801399,
           151.20564753958618,
           177.3614555788212,
           30.51472524588433,
           95.57007074917558,
           313.043865801628,
           196.32139469293045,
           82.09070455889074,
           106.86717343473605,
           40.982653864291635,
           107.8731353402401,
           68.64281990758957,
           72.21522183201499,
           65.39200060559452,
           65.3145125223623,
           123.20617377045203,
           92.68046744159493,
           103.8459987548488,
           45.315538067684244,
           46.635630940997814,
           49.00784948651228,
           57.62353311110576,
           77.07908339792505,
           125.36142466098282,
           110.50537868292568,
           51.616466798661705,
           58.14617595765017,
           113.38886637922694,
           132.03104444325066,
           102.99481746002533,
           93.25953799272774,
           55.556504030255596,
           75.39871305362144,
           61.1575410001025,
           164.65825923228584,
           113.68354887020952,
           293.2712462122607,
           95.23360871743675,
           65.16928440715822,
           83.37424293174591,
           99.7785772589372,
           243.71010271872078,
           121.82562305901723,
           132.0782534651155,
           67.58628204659686,
           71.2050020674043,
           134.83224477225016,
           107.53124496932195,
           56.90969362731834,
           59.744296460537,
           69.19232554795656,
           47.76169761308864,
           78.67065609633174,
           113.51733862075413,
           77.43932934783227,
           40.99526369382852,
           67.51556674814813,
           145.62762825758452,
           62.976866884546304,
           188.09586681556738,
           107.3113535517515,
           127.22297487098244,
           77.21191756123221,
           117.43741089131353,
           122.72046170557131,
           92.80728919523558,
           107.5848989656256,
           43.3090827100803,
           87.99779266012685,
           74.02568864962495,
           37.585705778336624,
           74.17313473995691,
           81.31898444243399,
           129.88254041684573,
           81.25779749553774,
           93.39393881520871,
           151.4006564788905,
           125.72440086886725,
           119.20499507604347,
           56.11823841896267,
           58.09551384712991,
           90.33448571322499,
           75.81740856135096,
           61.41759050426021,
           88.57683174338364,
           74.84132760816784,
           46.323287197257244,
           102.55599753863375,
           58.57127725219863,
           192.42404616538732,
           103.68598822398205,
           142.4000637067935,
           59.6430230000526,
           115.02822591748637,
           74.04454402489003,
           172.61948157293142,
           120.87101140830747,
           77.40057091005504,
           124.0239919382145,
           156.6524608259359,
           79.69863777752988,
           101.36039701007806,
           156.94463205361333,
           80.30699007299596,
           99.53740848258178,
           148.22299646208955,
           141.46083619961655,
           235.6767975926275,
           173.16832563805318,
           146.79636590484589,
           98.16877458615608,
           99.03418431886523,
           74.38413088567442,
           55.253877219761264,
           112.80010173549303,
           89.66870640404309,
           71.50901510271152,
           59.27399008313248,
           82.85977755222274,
           75.23375025212214,
           145.31184523990922,
           115.23411801167768,
           118.28971590188418,
           114.40310936574134,
           77.35914776498771,
           183.99355890982554,
           103.68236238477748,
           362.30577664100804,
           57.73093669705738,
           90.51259626110311,
           147.91190604588562,
           38.91139746467386,
           70.93369415305378,
           188.27669519298829,
           268.4376015876831,
           85.71993652924424,
           108.1605481268316,
           32.93837802349846,
           98.9205426651032,
           107.15671085210721,
           170.12477517835035,
           114.00697659078284,
           38.844798743274026,
           85.51024133966456,
           58.23933567571103,
           80.51583682632116,
           98.51623588508897,
           44.791838237072135,
           80.42901657219026,
           66.60234539856233,
           55.834672889189335,
           45.73824322759294,
           72.70949110675818,
           159.33389501160127,
           86.74886021983032,
           72.79341310474327,
           85.77283950907997,
           64.73726467474152,
           161.49572515071443,
           122.71353226529246,
           72.5541581353694,
           62.409936949941304,
           147.15862149426655,
           111.25542950187675,
           123.57736846525938,
           207.78645547878898,
           112.08988217966326,
           156.05714923362257,
           68.7442248995073,
           131.38416495420313,
           61.816992719344725,
           116.78989112567514,
           147.0766065048521,
           31.150855995862187,
           47.179787831936224,
           123.38241957044269,
           100.9481928836511,
           142.9956966844203,
           117.21566453288519,
           29.9368111952049,
           114.14515472962786,
           68.63316683263517,
           141.20325168897187,
           95.11233456233188,
           135.81537954811873,
           84.65294495111196,
           456.18554771374477,
           77.97135282259445,
           149.1261297359397,
           92.52276264482308,
           106.27048597146094,
           77.5921738238744,
           80.63760303550988,
           58.81415904210122,
           181.37270615274963,
           143.62459572748028,
           89.22390799176905,
           68.90801004397159,
           68.124185577518,
           48.34825743983769,
           74.79384182367333,
           121.14891975083643,
           78.72580209998286,
           110.1236340381472,
           81.4459206882244,
           143.37128244748345,
           49.52780693163952,
           31.824189032413877,
           76.9195425541583,
           211.4933371342157,
           101.95938599405517,
           159.2943131082956,
           59.1126060204368,
           29.85792671050244,
           50.248419882059636,
           69.67736601616024,
           86.32431860802602,
           45.31431812919596,
           43.499876547736854,
           67.42669526391529,
           119.20696530165431,
           46.04819117768976,
           74.46955342713461,
           74.53971201320142,
           128.44651602776895,
           56.828645098205754,
           125.18734944367033,
           48.729025972537144,
           91.70558386941804,
           29.42619645839831,
           104.2569858845901,
           47.49805926156907,
           112.90496520916278,
           85.97269184091807,
           87.73935150172797,
           88.39949145502766,
           94.04460033083548,
           140.93072417708098,
           129.4774215823412,
           54.89534455986305,
           134.75629343223582,
           75.13325688318018,
           70.43958037150983,
           166.62791975808437,
           90.37533114359695,
           108.95227537056667,
           84.00014452063793,
           119.04798376492873,
           96.74666656166649,
           47.44350603810867,
           92.2548316668806,
           128.72094646172167,
           29.23429396625599,
           228.72828928440097,
           127.78535055598412,
           131.44034714289458,
           182.76732140744556,
           42.03468567126847,
           60.944866960124465,
           84.17645896998923,
           60.39610443935651,
           102.73620711263351,
           62.88269079251267,
           28.760125484061057,
           65.26238033810924,
           141.82701420518876,
           248.4504545623553,
           97.9104667239472,
           48.638147642691386,
           74.03697760683193,
           98.18440585020822,
           65.24108437922442,
           67.09259893563109,
           104.37332182383895,
           70.3805371312575,
           138.84968953861932,
           114.50272943664477,
           148.87324028946063,
           417.65713072028655,
           40.10654049051632,
           128.52943533176443,
           181.22960109513832,
           57.39413891064336,
           78.99726776900337,
           53.51136101846736,
           152.135520674841,
           90.69826095853074,
           57.849958136474775,
           57.47503657751271,
           69.26350743783014,
           75.27139403740908,
           57.26992848233569,
           68.0262973050847,
           88.06835166397232,
           66.29365810894254,
           72.652069017189,
           63.17122965250061,
           99.70596115077996,
           47.95991077350057,
           65.20610477946627,
           91.74241725106566,
           36.13135535758833,
           49.10012140048374,
           62.46844500961007,
           37.71601491534783,
           30.31406880350521,
           95.8115694082744,
           208.79831388101147,
           83.65514663665061,
           106.52404126990601,
           203.88077665963797,
           91.70508263788756,
           111.21426874656397,
           81.0661286551293,
           109.08117199155053,
           69.03030396635148,
           99.87880351439257,
           57.78460734848798,
           117.77652840864715,
           64.95760281331827,
           72.9074040512538,
           65.62410181880583,
           85.96573196764153,
           69.31242863179696,
           79.54582316757354,
           56.799416425553204,
           112.08124924497842,
           70.8215792780921,
           77.86520490748823,
           80.7870500420193,
           110.85960555855532,
           48.04168339920183,
           104.1992467401794,
           63.508082898683185,
           103.10151976947256,
           97.08851045354064,
           45.63472316652812,
           45.14354398252852,
           70.15268072122718,
           94.25939382346347,
           68.51808255961244,
           65.87080309767939,
           39.14657635484837,
           181.5423013458012,
           167.4776436867688,
           121.05171705498925,
           105.2331669175948,
           120.9259626138604,
           65.56391932619559,
           96.7937101238774,
           80.28071768396063,
           81.93003446446136,
           93.43599717261465,
           71.63318701611517,
           74.29100009385776,
           61.251715803841044,
           71.31457830284911,
           141.96396002968174,
           41.42832570816609,
           85.73450220768038,
           67.76838321573621,
           117.52819970272421,
           66.96558028387054,
           77.27607252576028,
           76.97429033579202,
           45.09404740647049,
           296.1973998723877,
           62.36021320133109,
           150.5393443912239,
           72.28222314493534,
           149.726076915119,
           50.300804093660894,
           93.20505556047114,
           126.18265204195092,
           85.450797493311,
           303.45463154659853,
           120.54435829018257,
           97.36702568280977,
           132.05067042762715,
           123.68678029088328,
           88.94310476142059,
           313.0775417676605,
           44.768854304825055,
           83.21140245894662,
           112.24747195678474,
           44.685821681848324,
           73.74985627207818,
           75.90710310905263,
           77.37046597987263,
           139.4211565214075,
           72.95490871519942,
           46.81750511067759,
           71.71502766555852,
           108.59668427402902,
           30.38856782416888,
           198.01937209161534,
           95.89892825698607,
           76.20256541427032,
           44.74685564641187,
           92.0519945942572,
           160.44211769184125,
           151.10389834085456,
           103.43335476188506,
           48.869494960562925,
           88.82636268756664,
           29.501192900753857,
           32.85463346356151,
           146.39446039861747,
           37.017274844866755,
           104.89870284280899,
           82.21664950786472,
           42.4128166381857,
           90.18625136810265,
           97.88243003154133,
           96.07991923344056,
           87.89347337446372,
           144.09473618490628,
           127.35064547427429,
           164.73852881787764,
           72.94955759566658,
           72.59895644874476,
           152.2384366759245,
           36.95432501147505,
           108.02999965398153,
           40.12815081259155,
           83.08545039746993,
           44.97220992899863,
           215.6687802158134,
           47.91054280131263,
           74.94556707797021,
           81.98924766497483,
           44.646442354717934,
           65.19095500658628,
           93.97610727012639,
           47.349675754949935,
           28.670480426199823,
           113.1366918472758,
           92.14939173807448,
           118.85229030978574,
           64.23810526936452,
           70.98201106864089,
           57.68484104703015,
           156.08752311512276,
           60.44537397510154,
           49.390952284239056,
           84.96554302641069,
           101.94327179233872,
           79.88388837972663,
           207.51499892916902,
           140.05494419164157,
           56.22960012483493,
           100.22092180269635,
           26.44434832286771,
           69.13959219481276,
           37.91686879121375,
           115.0772242794252,
           77.07515671175129,
           44.43842448067407,
           64.06172725298475,
           74.60078664199646,
           123.57609341242559,
           74.86353081904899,
           76.29163088064875,
           57.420265808740055,
           71.63296178855315,
           98.49909430996884,
           91.70981631313357,
           39.368183176232456,
           85.79777651167248,
           30.522726657584204,
           44.03259206603579,
           72.83312174919124,
           81.59237324281136,
           117.50331154486865,
           85.80073817820623,
           64.97611349277992,
           99.73027377668903,
           73.5156047156106,
           78.00215543802383,
           36.24586151691718,
           45.71622732399867,
           125.22271387856796,
           78.67661036329244,
           65.54694924105956,
           72.16235982938801,
           126.11648930182106,
           53.17959965830357,
           163.31639317664715,
           69.58162958288985,
           103.87449659857828,
           61.76846350043446,
           97.91454110658252,
           41.7389386119914,
           155.6615299375257,
           74.79509595930192,
           79.63325632759398,
           88.85449753930892,
           25.446840783919797,
           36.011106436317746,
           50.73083289702444,
           73.5172884722406,
           70.83526077841498,
           43.19492710866139,
           99.31724583736941,
           86.92196231812603,
           127.1315821090449,
           49.39596034432473,
           29.177639104588174,
           63.988765431108966,
           181.61541398044253,
           43.229678946011056,
           81.72832705260355,
           127.20562254075247,
           61.66401809805571,
           61.50463797252214,
           76.01555065131114,
           198.0367003846807,
           92.35390303576577,
           151.23308978193867,
           149.82981313637674,
           111.13376884472225,
           122.7694797177602,
           66.29377083307116,
           164.95288753874522,
           149.8892657302267,
           76.7001470423163,
           64.04916587413852,
           124.60479785779197,
           35.90181324319727,
           72.0110946266644,
           70.1547550261161,
           506.6284435806332,
           61.54914485671227,
           34.86277412576356,
           41.05157090794341,
           66.39145078453645,
           114.04787311102587,
           54.315225685305855,
           90.35876357761556,
           56.20299631073732,
           87.40056105422757,
           78.6266256083384,
           136.31152627484116,
           47.06884724459102,
           98.7794070728243,
           101.96205005360288,
           14.484556812662763,
           54.91359057589954,
           78.82347829333752,
           41.736277352622224,
           119.53332779625737,
           156.30720009237214,
           74.3275808816683,
           91.1388720332564,
           88.72209987957936,
           93.50681880473758,
           101.68467465230323,
           106.61536802998562,
           37.361691830166954,
           37.914810368320204,
           202.92477514530884,
           102.33100903975507,
           74.6215713384731,
           73.66321575774028,
           57.02600375312832,
           68.64605504054325,
           35.91912385091209,
           82.99901100172546,
           98.20746924228465,
           130.25205759439925,
           41.27324971370533,
           179.31270160816416,
           47.371671048717566,
           63.044055021533204,
           66.60971884411322,
           93.31995881799608,
           94.6253473862195,
           47.01399532673783,
           66.57021490274632,
           62.12716964179501,
           209.03306314628549,
           44.122925272171614,
           79.77232091515242,
           153.21202271997026,
           28.99672301995486,
           157.92080324377085,
           155.62391550721557,
           155.44207010267726,
           115.24838204800398,
           137.74397738654,
           48.48800073419288,
           62.67355558512804,
           47.10596123815363,
           82.09499701991318,
           121.00332056097574,
           73.40278767949813,
           48.90261860485567,
           154.87415191361623,
           97.21493717780035,
           117.88558555631053,
           48.653407356929385,
           218.9526734784422,
           61.79399479406342,
           97.53096314440762,
           47.46476591676987,
           128.12835212623156,
           75.15546075607517,
           122.49432331411838,
           77.17555657458101,
           104.97069771602129,
           132.95254630013588,
           55.927062193137104,
           82.57858324692282,
           48.26392884984527,
           72.71986244690058,
           119.091749568977,
           160.6805546545347,
           120.14393778637861,
           57.74291884235693,
           77.45616364979347,
           51.667927017490015,
           92.93104173115275,
           54.958602166888454,
           77.01362479400724,
           160.76863529430352,
           78.49260697605581,
           83.59986288384087,
           220.85496656787436,
           85.6237164741178,
           79.90613292098844,
           78.50239991542485,
           203.37364230208237,
           71.91007618162153,
           49.07423209679515,
           113.66046049420586,
           67.01412412536394,
           48.01755458166958,
           64.33777138148346,
           72.35707330347918,
           58.07349693798759,
           46.732566290827954,
           77.04589188508277,
           52.46860064464065,
           78.72189739389421,
           75.35741873335128,
           92.9393222456517,
           106.0928180268164,
           81.7304138580657,
           43.98040125501919,
           118.01020625452608,
           30.2679506524185,
           46.84175946065733,
           43.813954003591185,
           83.58027167812543,
           90.53000266775021,
           113.15581337003474,
           104.10053035713338,
           55.19288626042009,
           62.120539145105155,
           38.342408713613885,
           173.27502287302005,
           73.68371692726039,
           98.96031371455135,
           129.121070918234,
           70.05775560027863,
           140.37025527287503,
           198.81056199163905,
           53.00919651287703,
           146.56465618175037,
           176.15239961052973,
           99.3780136913649,
           80.27965247676795,
           120.02522997039996,
           77.32198556900529,
           70.03380826297,
           89.63715657405903,
           120.31371511830801,
           49.74405134071761,
           43.21174896447471,
           99.80052422499259,
           44.57880985037372,
           43.32829333196633,
           102.31530317324821,
           90.59297179171274,
           79.17249077298116,
           148.06277349557115,
           61.34378457744363,
           53.30430554866192,
           158.01460027833943,
           43.403526468828154,
           90.37041093837253,
           30.84761486377924,
           120.20738835417345,
           45.712942787147064,
           70.88955423720067,
           25.36166253899232,
           30.379193746996098,
           38.61430404706463,
           72.27130080888911,
           145.1889613207181,
           60.91462548930198,
           90.82467756312481,
           216.30022661423587,
           70.37632588741688,
           135.910126566969,
           93.85040304427345,
           45.81937962754045,
           34.30588653346683,
           76.00475727119894,
           105.19091335105483,
           82.44826493635657,
           38.13292813456349,
           69.7269358418396,
           49.67360107477804,
           58.41937710388235,
           454.0035695772272,
           72.43061620360622,
           30.784084205388947,
           39.51146701735459,
           231.0969039819195,
           60.741719824681745,
           38.931033103069,
           73.7529121816156,
           81.78548081039752,
           63.536706324730154,
           37.7132071687039,
           106.244853235583,
           60.825655143750915,
           103.40073655531575,
           84.18207230423805,
           62.17970658032281,
           48.470334644388316,
           159.2976271990931,
           81.50036373355752,
           217.79397712407655,
           67.33962776186303,
           80.02229112859273,
           122.15288382915696,
           95.90145312328589,
           56.7233153831259,
           70.89844744814303,
           509.48455681266273,
           128.03753683377946,
           114.17128864994723,
           151.02873005418206,
           30.42153643565107,
           116.44154336005657,
           123.8069272527488,
           61.27124842449631,
           65.71702018385855,
           43.03766464787773,
           71.48627182106598,
           29.588447363133607,
           54.78855565888253,
           63.809881195674684,
           68.86000839850986,
           122.31855209272253,
           157.1968977509169,
           69.28007060084575,
           93.40144820258698,
           113.93573507151619,
           99.4602888521392,
           80.87099361688861,
           218.47630052094635,
           49.05972574085968,
           101.84503852254969,
           53.548802953054015,
           158.4324384156309,
           219.02349878114867,
           127.60252576079334,
           138.26463215725798,
           73.20330398941582,
           41.13478971084872,
           50.29349750402836,
           175.05517769391597,
           52.45963142454184,
           58.84520719136475,
           79.72387095349391,
           40.488984162698536,
           59.000110949891614,
           104.98085162700428,
           47.69213623280925,
           74.89424009202968,
           48.397888405777195,
           58.16098353255855,
           49.222861511594964,
           76.43416271001101,
           128.95469335988415,
           47.95302525188846,
           68.95129538634188,
           64.28846096830371,
           75.18298071415745,
           61.870377206266326,
           138.07954207954256,
           71.26190986425124,
           83.51633850168938,
           61.28806007981191,
           30.261492724784034,
           127.11210471557023,
           40.2949474342274,
           112.50682342440989,
           189.76884007997486,
           151.3367423764847,
           40.799972635573155,
           123.96220104578538,
           89.19818581557627,
           74.88484474000586,
           52.42773640935446,
           72.57658083304199,
           93.94854624697695,
           133.53604123392873,
           290.6744958810375,
           98.21303497930055,
           350.32372251522315,
           55.172677948055124,
           105.37824975394973,
           29.736058466911953,
           99.89605078549107,
           71.18389320758382,
           62.84004047517306,
           60.47604706874542,
           108.42262165290029,
           85.75866797217716,
           50.92094289139344,
           62.96184912660902,
           72.09458443414543,
           108.850806392109,
           169.55407411312117,
           14.48734936988335,
           209.04834277558513,
           94.02809098917226,
           183.50550958261329,
           160.3620658959929,
           40.3089707846701,
           54.61969815286416,
           142.60230709675184,
           77.81820429251479,
           34.65504352344163,
           47.10940374647012,
           85.93600887385882,
           150.32993851850782,
           61.83369371684841,
           59.98800251258118,
           58.639319906677215,
           156.3534688729578,
           33.80974846031902,
           62.064588505728715,
           159.93517991946337,
           73.89376283087613,
           48.14234250564858,
           158.0971560752473,
           60.45230340161462,
           74.72300414801127,
           186.42379033875937,
           146.74339939040374,
           75.88879331859518,
           66.03095708829056,
           97.06728209096943,
           154.43121079963325,
           57.602658442338374,
           92.72552619198008,
           62.172273083370015,
           64.34394317488679,
           94.72088502292401,
           87.09847418154195,
           44.73091210945839,
           78.64843870000722,
           98.94466370785834
          ],
          "sizemin": 7.5,
          "sizemode": "area"
         },
         "mode": "markers",
         "name": "0",
         "type": "scattergl",
         "x": [
          34,
          38,
          35,
          22,
          20,
          63,
          41,
          64,
          44,
          35,
          26,
          27,
          25,
          25,
          54,
          48,
          48,
          26,
          56,
          53,
          26,
          31,
          25,
          30,
          37,
          34,
          37,
          25,
          57,
          41,
          34,
          36,
          34,
          84,
          31,
          70,
          33,
          45,
          51,
          41,
          37,
          49,
          36,
          41,
          20,
          29,
          43,
          37,
          31,
          47,
          30,
          56,
          24,
          54,
          33,
          22,
          46,
          20,
          20,
          19,
          44,
          23,
          73,
          21,
          24,
          47,
          40,
          21,
          21,
          49,
          36,
          69,
          20,
          29,
          37,
          37,
          22,
          50,
          24,
          32,
          20,
          29,
          20,
          24,
          45,
          48,
          17,
          21,
          37,
          79,
          20,
          25,
          20,
          57,
          33,
          25,
          29,
          37,
          46,
          43,
          39,
          25,
          28,
          18,
          42,
          66,
          24,
          36,
          36,
          22,
          19,
          35,
          49,
          41,
          27,
          31,
          24,
          21,
          41,
          23,
          49,
          47,
          23,
          17,
          41,
          35,
          18,
          34,
          42,
          19,
          29,
          68,
          37,
          43,
          61,
          43,
          48,
          40,
          41,
          30,
          17,
          30,
          74,
          34,
          27,
          38,
          51,
          34,
          51,
          63,
          30,
          31,
          35,
          77,
          45,
          30,
          43,
          41,
          65,
          40,
          18,
          49,
          47,
          38,
          56,
          27,
          28,
          60,
          57,
          37,
          23,
          44,
          35,
          44,
          47,
          46,
          25,
          33,
          41,
          26,
          31,
          38,
          46,
          53,
          17,
          51,
          18,
          17,
          27,
          25,
          58,
          34,
          35,
          55,
          41,
          54,
          24,
          25,
          46,
          40,
          33,
          33,
          32,
          31,
          23,
          43,
          49,
          40,
          24,
          43,
          68,
          49,
          36,
          42,
          59,
          23,
          30,
          24,
          55,
          41,
          42,
          44,
          58,
          35,
          19,
          46,
          38,
          18,
          50,
          33,
          21,
          47,
          49,
          58,
          48,
          55,
          44,
          38,
          18,
          46,
          19,
          21,
          39,
          61,
          38,
          22,
          43,
          33,
          35,
          21,
          31,
          22,
          34,
          21,
          22,
          24,
          51,
          29,
          54,
          47,
          21,
          35,
          35,
          34,
          23,
          19,
          22,
          51,
          24,
          37,
          36,
          52,
          40,
          49,
          23,
          24,
          23,
          20,
          43,
          23,
          46,
          46,
          22,
          46,
          60,
          44,
          19,
          41,
          18,
          21,
          32,
          34,
          36,
          22,
          33,
          37,
          63,
          28,
          54,
          43,
          36,
          30,
          47,
          26,
          26,
          59,
          40,
          30,
          25,
          45,
          65,
          20,
          49,
          36,
          20,
          46,
          30,
          63,
          46,
          26,
          70,
          44,
          53,
          30,
          33,
          42,
          43,
          30,
          38,
          42,
          23,
          23,
          36,
          40,
          45,
          38,
          26,
          34,
          35,
          21,
          62,
          49,
          34,
          34,
          24,
          48,
          55,
          55,
          46,
          61,
          33,
          58,
          27,
          45,
          63,
          25,
          20,
          58,
          73,
          41,
          43,
          21,
          19,
          19,
          53,
          20,
          33,
          68,
          52,
          37,
          52,
          47,
          57,
          40,
          27,
          23,
          43,
          25,
          50,
          32,
          65,
          49,
          29,
          42,
          56,
          51,
          50,
          45,
          44,
          33,
          17,
          26,
          46,
          28,
          41,
          53,
          47,
          21,
          57,
          34,
          24,
          40,
          22,
          24,
          58,
          27,
          35,
          25,
          48,
          46,
          34,
          37,
          50,
          47,
          40,
          34,
          17,
          55,
          29,
          47,
          32,
          24,
          22,
          36,
          34,
          46,
          19,
          49,
          35,
          25,
          27,
          20,
          48,
          39,
          66,
          26,
          46,
          17,
          58,
          56,
          58,
          36,
          19,
          19,
          23,
          52,
          26,
          37,
          38,
          30,
          21,
          58,
          43,
          59,
          27,
          17,
          42,
          17,
          31,
          35,
          19,
          36,
          21,
          28,
          43,
          40,
          48,
          41,
          37,
          20,
          25,
          29,
          30,
          18,
          27,
          20,
          44,
          62,
          63,
          53,
          51,
          58,
          31,
          40,
          29,
          30,
          55,
          24,
          21,
          33,
          27,
          38,
          36,
          36,
          42,
          60,
          37,
          32,
          52,
          42,
          22,
          29,
          44,
          59,
          46,
          32,
          26,
          44,
          45,
          49,
          64,
          45,
          51,
          21,
          38,
          41,
          32,
          32,
          44,
          58,
          26,
          26,
          63,
          32,
          17,
          25,
          38,
          46,
          46,
          35,
          18,
          41,
          70,
          24,
          32,
          19,
          42,
          33,
          47,
          38,
          37,
          44,
          44,
          44,
          39,
          56,
          49,
          43,
          59,
          53,
          48,
          22,
          90,
          22,
          28,
          28,
          62,
          20,
          34,
          18,
          43,
          77,
          22,
          32,
          29,
          32,
          20,
          59,
          22,
          57,
          40,
          44,
          40,
          30,
          24,
          29,
          47,
          32,
          26,
          37,
          37,
          39,
          46,
          23,
          39,
          54,
          45,
          43,
          27,
          79,
          44,
          32,
          27,
          32,
          50,
          38,
          36,
          35,
          17,
          32,
          24,
          29,
          55,
          52,
          58,
          50,
          17,
          24,
          53,
          40,
          61,
          27,
          28,
          26,
          36,
          18,
          48,
          22,
          76,
          67,
          45,
          72,
          46,
          31,
          75,
          24,
          22,
          45,
          29,
          22,
          34,
          38,
          62,
          40,
          26,
          68,
          49,
          27,
          19,
          70,
          37,
          53,
          50,
          46,
          39,
          68,
          37,
          39,
          30,
          56,
          33,
          36,
          51,
          28,
          25,
          34,
          25,
          25,
          19,
          25,
          25,
          29,
          28,
          38,
          48,
          25,
          17,
          19,
          23,
          44,
          28,
          25,
          34,
          29,
          32,
          25,
          30,
          26,
          28,
          39,
          35,
          23,
          60,
          58,
          19,
          41,
          25,
          19,
          28,
          50,
          17,
          31,
          30,
          56,
          55,
          35,
          37,
          39,
          43,
          35,
          24,
          39,
          28,
          42,
          28,
          22,
          20,
          41,
          21,
          48,
          56,
          19,
          35,
          32,
          47,
          18,
          27,
          43,
          51,
          48,
          29,
          17,
          21,
          63,
          57,
          28,
          26,
          24,
          38,
          54,
          24,
          43,
          25,
          41,
          28,
          17,
          48,
          23,
          55,
          29,
          46,
          41,
          40,
          28,
          61,
          31,
          50,
          20,
          47,
          44,
          47,
          31,
          44,
          36,
          63,
          34,
          35,
          35,
          20,
          36,
          38,
          53,
          24,
          31,
          48,
          40,
          24,
          39,
          36,
          42,
          35,
          47,
          48,
          31,
          46,
          31,
          64,
          52,
          53,
          28,
          19,
          51,
          52,
          33,
          57,
          56,
          23,
          20,
          50,
          27,
          51,
          45,
          57,
          46,
          40,
          30,
          32,
          31,
          21,
          54,
          56,
          42,
          48,
          58,
          18,
          48,
          31,
          68,
          54,
          35,
          26,
          24,
          34,
          50,
          49,
          25,
          17,
          60,
          39,
          49,
          38,
          19,
          65,
          45,
          54,
          60,
          50,
          22,
          55,
          22,
          40,
          47,
          39,
          37,
          47,
          24,
          28,
          30,
          53,
          31,
          53,
          39,
          34,
          34,
          21,
          18,
          41,
          46,
          65,
          34,
          24,
          32,
          31,
          42,
          58,
          88,
          20,
          29,
          19,
          45,
          32,
          50,
          20,
          37,
          35,
          41,
          26,
          29,
          35,
          28,
          26,
          62,
          38,
          46,
          26,
          42,
          63,
          41,
          25
         ],
         "y": [
          9,
          10,
          9,
          10,
          10,
          9,
          9,
          7,
          8,
          14,
          10,
          9,
          9,
          12,
          10,
          14,
          6,
          12,
          2,
          9,
          13,
          9,
          13,
          9,
          13,
          13,
          11,
          9,
          15,
          13,
          12,
          9,
          12,
          9,
          9,
          9,
          5,
          9,
          9,
          14,
          3,
          13,
          9,
          9,
          9,
          9,
          10,
          9,
          11,
          14,
          9,
          6,
          9,
          14,
          9,
          10,
          9,
          7,
          10,
          9,
          13,
          9,
          9,
          10,
          6,
          9,
          10,
          10,
          11,
          14,
          10,
          4,
          10,
          6,
          10,
          9,
          10,
          9,
          9,
          13,
          9,
          10,
          10,
          9,
          9,
          16,
          8,
          10,
          10,
          11,
          10,
          9,
          10,
          9,
          10,
          11,
          14,
          11,
          2,
          10,
          10,
          9,
          4,
          7,
          12,
          14,
          10,
          10,
          13,
          10,
          9,
          10,
          14,
          13,
          9,
          13,
          10,
          10,
          9,
          9,
          9,
          10,
          13,
          6,
          13,
          9,
          7,
          13,
          9,
          9,
          13,
          16,
          13,
          11,
          9,
          2,
          14,
          13,
          9,
          12,
          7,
          11,
          13,
          13,
          9,
          10,
          9,
          7,
          12,
          2,
          9,
          10,
          9,
          10,
          9,
          11,
          9,
          9,
          10,
          11,
          9,
          10,
          7,
          9,
          10,
          9,
          10,
          13,
          8,
          10,
          10,
          3,
          9,
          10,
          9,
          10,
          9,
          10,
          9,
          10,
          9,
          10,
          9,
          9,
          7,
          9,
          8,
          7,
          10,
          13,
          13,
          9,
          9,
          13,
          9,
          14,
          9,
          15,
          10,
          10,
          10,
          10,
          13,
          4,
          9,
          9,
          9,
          10,
          13,
          10,
          10,
          14,
          13,
          10,
          9,
          13,
          9,
          13,
          15,
          9,
          13,
          15,
          13,
          13,
          10,
          9,
          10,
          9,
          13,
          9,
          10,
          16,
          9,
          9,
          15,
          9,
          9,
          13,
          7,
          14,
          12,
          10,
          13,
          10,
          4,
          9,
          11,
          9,
          9,
          12,
          9,
          10,
          13,
          10,
          10,
          12,
          9,
          14,
          9,
          9,
          12,
          8,
          10,
          9,
          10,
          6,
          6,
          10,
          11,
          9,
          9,
          13,
          13,
          9,
          10,
          9,
          10,
          10,
          9,
          13,
          14,
          10,
          7,
          9,
          9,
          10,
          10,
          9,
          6,
          9,
          9,
          13,
          9,
          12,
          9,
          10,
          13,
          9,
          10,
          9,
          10,
          10,
          14,
          9,
          10,
          13,
          14,
          9,
          13,
          13,
          10,
          3,
          7,
          13,
          10,
          12,
          10,
          14,
          11,
          5,
          13,
          9,
          5,
          13,
          9,
          9,
          10,
          13,
          9,
          14,
          10,
          11,
          6,
          9,
          10,
          14,
          9,
          13,
          12,
          10,
          9,
          9,
          9,
          10,
          9,
          10,
          13,
          10,
          11,
          10,
          9,
          2,
          10,
          10,
          9,
          8,
          10,
          11,
          9,
          14,
          10,
          10,
          9,
          9,
          3,
          10,
          10,
          9,
          13,
          9,
          14,
          14,
          9,
          9,
          13,
          14,
          12,
          13,
          6,
          11,
          14,
          14,
          9,
          9,
          11,
          6,
          4,
          10,
          9,
          9,
          8,
          9,
          9,
          9,
          14,
          9,
          12,
          10,
          10,
          12,
          8,
          6,
          8,
          13,
          9,
          9,
          7,
          13,
          9,
          13,
          9,
          9,
          10,
          13,
          9,
          8,
          7,
          13,
          10,
          12,
          9,
          9,
          9,
          9,
          9,
          9,
          9,
          10,
          6,
          9,
          11,
          9,
          14,
          13,
          1,
          12,
          13,
          6,
          3,
          13,
          12,
          9,
          9,
          9,
          9,
          8,
          9,
          10,
          13,
          7,
          9,
          13,
          13,
          9,
          9,
          6,
          3,
          6,
          12,
          5,
          10,
          13,
          10,
          6,
          10,
          9,
          10,
          9,
          10,
          10,
          6,
          9,
          9,
          10,
          9,
          12,
          10,
          10,
          9,
          10,
          9,
          14,
          13,
          9,
          9,
          10,
          13,
          9,
          11,
          10,
          10,
          7,
          9,
          13,
          9,
          10,
          9,
          13,
          10,
          13,
          5,
          10,
          9,
          9,
          9,
          7,
          9,
          7,
          9,
          2,
          4,
          9,
          9,
          10,
          9,
          11,
          13,
          13,
          10,
          10,
          6,
          13,
          4,
          10,
          7,
          9,
          9,
          14,
          10,
          9,
          7,
          9,
          9,
          13,
          4,
          10,
          9,
          7,
          9,
          9,
          10,
          13,
          14,
          14,
          12,
          9,
          11,
          13,
          15,
          10,
          7,
          9,
          9,
          9,
          14,
          10,
          9,
          7,
          9,
          8,
          13,
          4,
          10,
          9,
          9,
          10,
          12,
          9,
          10,
          9,
          9,
          15,
          10,
          11,
          9,
          9,
          9,
          13,
          10,
          9,
          13,
          9,
          13,
          13,
          10,
          14,
          14,
          10,
          12,
          16,
          8,
          7,
          13,
          13,
          9,
          10,
          12,
          10,
          7,
          9,
          13,
          9,
          13,
          10,
          14,
          16,
          9,
          9,
          5,
          13,
          10,
          10,
          9,
          13,
          9,
          7,
          7,
          12,
          10,
          13,
          9,
          10,
          9,
          2,
          10,
          4,
          10,
          14,
          2,
          9,
          5,
          13,
          9,
          7,
          9,
          14,
          10,
          9,
          10,
          9,
          9,
          14,
          14,
          13,
          9,
          9,
          9,
          13,
          10,
          9,
          16,
          10,
          12,
          9,
          9,
          13,
          10,
          9,
          9,
          10,
          7,
          9,
          9,
          13,
          10,
          13,
          8,
          10,
          14,
          10,
          9,
          10,
          9,
          12,
          13,
          14,
          14,
          9,
          7,
          9,
          4,
          7,
          4,
          10,
          9,
          9,
          13,
          10,
          9,
          15,
          6,
          9,
          9,
          8,
          13,
          9,
          13,
          9,
          13,
          9,
          9,
          9,
          10,
          9,
          13,
          9,
          9,
          11,
          10,
          9,
          9,
          6,
          7,
          10,
          9,
          4,
          9,
          16,
          9,
          10,
          5,
          6,
          10,
          13,
          13,
          13,
          13,
          13,
          13,
          6,
          9,
          3,
          10,
          9,
          9,
          7,
          8,
          9,
          12,
          9,
          14,
          9,
          10,
          9,
          10,
          10,
          14,
          9,
          10,
          11,
          13,
          14,
          9,
          11,
          10,
          9,
          13,
          3,
          10,
          9,
          5,
          9,
          9,
          10,
          11,
          9,
          10,
          13,
          2,
          10,
          10,
          10,
          9,
          9,
          13,
          13,
          14,
          1,
          6,
          10,
          9,
          7,
          10,
          10,
          9,
          13,
          10,
          10,
          13,
          10,
          9,
          9,
          10,
          11,
          13,
          9,
          9,
          13,
          10,
          6,
          12,
          15,
          2,
          6,
          9,
          10,
          13,
          10,
          10,
          11,
          10,
          9,
          13,
          9,
          10,
          13,
          6,
          10,
          9,
          9,
          10,
          10,
          3,
          10,
          9,
          10,
          10,
          10,
          9,
          10,
          9,
          14,
          6,
          10,
          10,
          10,
          12,
          9,
          14,
          13,
          6,
          16,
          9,
          14,
          10,
          9,
          8,
          10,
          9,
          13,
          9,
          14,
          9,
          11,
          9,
          15,
          10,
          13,
          9,
          9,
          12,
          9,
          10,
          10,
          7,
          9,
          9,
          12,
          12,
          13,
          9,
          5,
          9,
          14,
          10,
          9,
          2,
          9,
          10
         ]
        },
        {
         "legendgroup": "cases",
         "legendgrouptitle": {
          "text": "Cases"
         },
         "marker": {
          "line": {
           "color": "darkgrey",
           "width": 2
          },
          "opacity": 0.4,
          "size": [
           65.6080924764491,
           113.85205649253315,
           77.6629023948871,
           45.54667475906854,
           45.98500762052187,
           74.97617248148788,
           198.12720941372282,
           57.96404906644552,
           59.15000085737993,
           62.788340262357366,
           360.200679792737,
           70.7517647640053,
           63.791907905687005,
           44.25459165562336,
           81.67635399790196,
           71.49101700547436,
           98.37870179052916,
           127.71415251928961,
           47.358602835482856,
           91.71925795490483,
           46.777541221864695,
           60.18929782263624,
           87.00179341292022,
           75.23452011434371,
           250.24202007795668,
           82.57171859353657,
           80.5859871395598,
           126.59093209418714,
           87.71743962579016,
           88.31956352630186,
           35.58319773447819,
           68.43609417216399,
           124.2173067663569,
           66.80256540152524,
           166.06141415428252,
           28.899840855804364,
           70.90867482332418,
           86.7693393119838,
           67.94617542712112,
           124.20247594945491,
           58.64467993563829,
           89.10043560089815,
           110.87597961748729,
           80.90586268998041,
           124.84793896011588,
           44.75199737715831,
           44.15144239641951,
           99.03939738349959,
           126.7086532161409,
           74.61134592440396,
           110.47873268643302,
           154.38428571232612,
           49.55962807056351,
           88.98691668326796,
           147.49357549083456,
           75.5368670934806,
           38.74960824610465,
           92.1069798004214,
           96.11986152510468,
           66.62862587023943,
           70.57622149836631,
           84.12729542623666,
           125.24699248417745,
           90.26227285569689,
           80.69976033289565,
           66.20245368229868,
           78.98168037165483,
           124.65015114171445,
           69.59296061653241,
           61.41288540924507,
           55.27796897850591,
           361.0356000305598,
           64.15603073469306,
           246.96891113030478,
           114.22375568089937,
           123.47119933771354,
           28.692816128164814,
           81.37471594866875,
           114.45316410434175,
           66.67343021300283,
           137.79860072553907,
           56.175622779721834,
           138.3355065519858,
           153.44742828311792,
           73.09657896945072,
           36.718858186277416,
           91.35870422524785,
           92.29630172625056,
           418.8679444961922,
           134.5613283646645,
           89.63842550540622,
           188.39764535387494,
           76.94766393773646,
           66.6139693347334,
           50.25058716004549,
           81.1127610900742,
           90.63615167548636,
           98.21090972215077,
           52.956585768898,
           89.51502213376212,
           48.67256323441367,
           112.63061996097869,
           67.81577377770353,
           104.59053315450272,
           97.26127049165046,
           40.04104535486129,
           67.58546669991384,
           72.56865611581453,
           47.28095474232304,
           42.46078012166984,
           121.12732315009725,
           57.75070050423513,
           140.30292787605904,
           35.705500042579715,
           86.4442646910531,
           190.57518546094914,
           68.29974221940114,
           70.38563898753375,
           47.93349321512866,
           65.31705133156206,
           59.77795787513162,
           113.562243557252,
           202.3933530122835,
           156.3574016318807,
           93.14002748162986,
           127.80183817744941,
           121.64897561273735,
           62.074976420277125,
           39.67942628076953,
           154.34823592757655,
           138.04647650382023,
           131.1290633077624,
           80.90462526801399,
           151.20564753958618,
           177.3614555788212,
           30.51472524588433,
           95.57007074917558,
           313.043865801628,
           196.32139469293045,
           82.09070455889074,
           106.86717343473605,
           40.982653864291635,
           107.8731353402401,
           68.64281990758957,
           72.21522183201499,
           65.39200060559452,
           65.3145125223623,
           123.20617377045203,
           92.68046744159493,
           103.8459987548488,
           45.315538067684244,
           46.635630940997814,
           49.00784948651228,
           57.62353311110576,
           77.07908339792505,
           125.36142466098282,
           110.50537868292568,
           51.616466798661705,
           58.14617595765017,
           113.38886637922694,
           132.03104444325066,
           102.99481746002533,
           93.25953799272774,
           55.556504030255596,
           75.39871305362144,
           61.1575410001025,
           164.65825923228584,
           113.68354887020952,
           293.2712462122607,
           95.23360871743675,
           65.16928440715822,
           83.37424293174591,
           99.7785772589372,
           243.71010271872078,
           121.82562305901723,
           132.0782534651155,
           67.58628204659686,
           71.2050020674043,
           134.83224477225016,
           107.53124496932195,
           56.90969362731834,
           59.744296460537,
           69.19232554795656,
           47.76169761308864,
           78.67065609633174,
           113.51733862075413,
           77.43932934783227,
           40.99526369382852,
           67.51556674814813,
           145.62762825758452,
           62.976866884546304,
           188.09586681556738,
           107.3113535517515,
           127.22297487098244,
           77.21191756123221,
           117.43741089131353,
           122.72046170557131,
           92.80728919523558,
           107.5848989656256,
           43.3090827100803,
           87.99779266012685,
           74.02568864962495,
           37.585705778336624,
           74.17313473995691,
           81.31898444243399,
           129.88254041684573,
           81.25779749553774,
           93.39393881520871,
           151.4006564788905,
           125.72440086886725,
           119.20499507604347,
           56.11823841896267,
           58.09551384712991,
           90.33448571322499,
           75.81740856135096,
           61.41759050426021,
           88.57683174338364,
           74.84132760816784,
           46.323287197257244,
           102.55599753863375,
           58.57127725219863,
           192.42404616538732,
           103.68598822398205,
           142.4000637067935,
           59.6430230000526,
           115.02822591748637,
           74.04454402489003,
           172.61948157293142,
           120.87101140830747,
           77.40057091005504,
           124.0239919382145,
           156.6524608259359,
           79.69863777752988,
           101.36039701007806,
           156.94463205361333,
           80.30699007299596,
           99.53740848258178,
           148.22299646208955,
           141.46083619961655,
           235.6767975926275,
           173.16832563805318,
           146.79636590484589,
           98.16877458615608,
           99.03418431886523,
           74.38413088567442,
           55.253877219761264,
           112.80010173549303,
           89.66870640404309,
           71.50901510271152,
           59.27399008313248,
           82.85977755222274,
           75.23375025212214,
           145.31184523990922,
           115.23411801167768,
           118.28971590188418,
           114.40310936574134,
           77.35914776498771,
           183.99355890982554,
           103.68236238477748,
           362.30577664100804,
           57.73093669705738,
           90.51259626110311,
           147.91190604588562,
           38.91139746467386,
           70.93369415305378,
           188.27669519298829,
           268.4376015876831,
           85.71993652924424,
           108.1605481268316,
           32.93837802349846,
           98.9205426651032,
           107.15671085210721,
           170.12477517835035,
           114.00697659078284,
           38.844798743274026,
           85.51024133966456,
           58.23933567571103,
           80.51583682632116,
           98.51623588508897,
           44.791838237072135,
           80.42901657219026,
           66.60234539856233,
           55.834672889189335,
           45.73824322759294,
           72.70949110675818,
           159.33389501160127,
           86.74886021983032,
           72.79341310474327,
           85.77283950907997,
           64.73726467474152,
           161.49572515071443,
           122.71353226529246,
           72.5541581353694,
           62.409936949941304,
           147.15862149426655,
           111.25542950187675,
           123.57736846525938,
           207.78645547878898,
           112.08988217966326,
           156.05714923362257,
           68.7442248995073,
           131.38416495420313,
           61.816992719344725,
           116.78989112567514,
           147.0766065048521,
           31.150855995862187,
           47.179787831936224,
           123.38241957044269,
           100.9481928836511,
           142.9956966844203,
           117.21566453288519,
           29.9368111952049,
           114.14515472962786,
           68.63316683263517,
           141.20325168897187,
           95.11233456233188,
           135.81537954811873,
           84.65294495111196,
           456.18554771374477,
           77.97135282259445,
           149.1261297359397,
           92.52276264482308,
           106.27048597146094,
           77.5921738238744,
           80.63760303550988,
           58.81415904210122,
           181.37270615274963,
           143.62459572748028,
           89.22390799176905,
           68.90801004397159,
           68.124185577518,
           48.34825743983769,
           74.79384182367333,
           121.14891975083643,
           78.72580209998286,
           110.1236340381472,
           81.4459206882244,
           143.37128244748345,
           49.52780693163952,
           31.824189032413877,
           76.9195425541583,
           211.4933371342157,
           101.95938599405517,
           159.2943131082956,
           59.1126060204368,
           29.85792671050244,
           50.248419882059636,
           69.67736601616024,
           86.32431860802602,
           45.31431812919596,
           43.499876547736854,
           67.42669526391529,
           119.20696530165431,
           46.04819117768976,
           74.46955342713461,
           74.53971201320142,
           128.44651602776895,
           56.828645098205754,
           125.18734944367033,
           48.729025972537144,
           91.70558386941804,
           29.42619645839831,
           104.2569858845901,
           47.49805926156907,
           112.90496520916278,
           85.97269184091807,
           87.73935150172797,
           88.39949145502766,
           94.04460033083548,
           140.93072417708098,
           129.4774215823412,
           54.89534455986305,
           134.75629343223582,
           75.13325688318018,
           70.43958037150983,
           166.62791975808437,
           90.37533114359695,
           108.95227537056667,
           84.00014452063793,
           119.04798376492873,
           96.74666656166649,
           47.44350603810867,
           92.2548316668806,
           128.72094646172167,
           29.23429396625599,
           228.72828928440097,
           127.78535055598412,
           131.44034714289458,
           182.76732140744556,
           42.03468567126847,
           60.944866960124465,
           84.17645896998923,
           60.39610443935651,
           102.73620711263351,
           62.88269079251267,
           28.760125484061057,
           65.26238033810924,
           141.82701420518876,
           248.4504545623553,
           97.9104667239472,
           48.638147642691386,
           74.03697760683193,
           98.18440585020822,
           65.24108437922442,
           67.09259893563109,
           104.37332182383895,
           70.3805371312575,
           138.84968953861932,
           114.50272943664477,
           148.87324028946063,
           417.65713072028655,
           40.10654049051632,
           128.52943533176443,
           181.22960109513832,
           57.39413891064336,
           78.99726776900337,
           53.51136101846736,
           152.135520674841,
           90.69826095853074,
           57.849958136474775,
           57.47503657751271,
           69.26350743783014,
           75.27139403740908,
           57.26992848233569,
           68.0262973050847,
           88.06835166397232,
           66.29365810894254,
           72.652069017189,
           63.17122965250061,
           99.70596115077996,
           47.95991077350057,
           65.20610477946627,
           91.74241725106566,
           36.13135535758833,
           49.10012140048374,
           62.46844500961007,
           37.71601491534783,
           30.31406880350521,
           95.8115694082744,
           208.79831388101147,
           83.65514663665061,
           106.52404126990601,
           203.88077665963797,
           91.70508263788756,
           111.21426874656397,
           81.0661286551293,
           109.08117199155053,
           69.03030396635148,
           99.87880351439257,
           57.78460734848798,
           117.77652840864715,
           64.95760281331827,
           72.9074040512538,
           65.62410181880583,
           85.96573196764153,
           69.31242863179696,
           79.54582316757354,
           56.799416425553204,
           112.08124924497842,
           70.8215792780921,
           77.86520490748823,
           80.7870500420193,
           110.85960555855532,
           48.04168339920183,
           104.1992467401794,
           63.508082898683185,
           103.10151976947256,
           97.08851045354064,
           45.63472316652812,
           45.14354398252852,
           70.15268072122718,
           94.25939382346347,
           68.51808255961244,
           65.87080309767939,
           39.14657635484837,
           181.5423013458012,
           167.4776436867688,
           121.05171705498925,
           105.2331669175948,
           120.9259626138604,
           65.56391932619559,
           96.7937101238774,
           80.28071768396063,
           81.93003446446136,
           93.43599717261465,
           71.63318701611517,
           74.29100009385776,
           61.251715803841044,
           71.31457830284911,
           141.96396002968174,
           41.42832570816609,
           85.73450220768038,
           67.76838321573621,
           117.52819970272421,
           66.96558028387054,
           77.27607252576028,
           76.97429033579202,
           45.09404740647049,
           296.1973998723877,
           62.36021320133109,
           150.5393443912239,
           72.28222314493534,
           149.726076915119,
           50.300804093660894,
           93.20505556047114,
           126.18265204195092,
           85.450797493311,
           303.45463154659853,
           120.54435829018257,
           97.36702568280977,
           132.05067042762715,
           123.68678029088328,
           88.94310476142059,
           313.0775417676605,
           44.768854304825055,
           83.21140245894662,
           112.24747195678474,
           44.685821681848324,
           73.74985627207818,
           75.90710310905263,
           77.37046597987263,
           139.4211565214075,
           72.95490871519942,
           46.81750511067759,
           71.71502766555852,
           108.59668427402902,
           30.38856782416888,
           198.01937209161534,
           95.89892825698607,
           76.20256541427032,
           44.74685564641187,
           92.0519945942572,
           160.44211769184125,
           151.10389834085456,
           103.43335476188506,
           48.869494960562925,
           88.82636268756664,
           29.501192900753857,
           32.85463346356151,
           146.39446039861747,
           37.017274844866755,
           104.89870284280899,
           82.21664950786472,
           42.4128166381857,
           90.18625136810265,
           97.88243003154133,
           96.07991923344056,
           87.89347337446372,
           144.09473618490628,
           127.35064547427429,
           164.73852881787764,
           72.94955759566658,
           72.59895644874476,
           152.2384366759245,
           36.95432501147505,
           108.02999965398153,
           40.12815081259155,
           83.08545039746993,
           44.97220992899863,
           215.6687802158134,
           47.91054280131263,
           74.94556707797021,
           81.98924766497483,
           44.646442354717934,
           65.19095500658628,
           93.97610727012639,
           47.349675754949935,
           28.670480426199823,
           113.1366918472758,
           92.14939173807448,
           118.85229030978574,
           64.23810526936452,
           70.98201106864089,
           57.68484104703015,
           156.08752311512276,
           60.44537397510154,
           49.390952284239056,
           84.96554302641069,
           101.94327179233872,
           79.88388837972663,
           207.51499892916902,
           140.05494419164157,
           56.22960012483493,
           100.22092180269635,
           26.44434832286771,
           69.13959219481276,
           37.91686879121375,
           115.0772242794252,
           77.07515671175129,
           44.43842448067407,
           64.06172725298475,
           74.60078664199646,
           123.57609341242559,
           74.86353081904899,
           76.29163088064875,
           57.420265808740055,
           71.63296178855315,
           98.49909430996884,
           91.70981631313357,
           39.368183176232456,
           85.79777651167248,
           30.522726657584204,
           44.03259206603579,
           72.83312174919124,
           81.59237324281136,
           117.50331154486865,
           85.80073817820623,
           64.97611349277992,
           99.73027377668903,
           73.5156047156106,
           78.00215543802383,
           36.24586151691718,
           45.71622732399867,
           125.22271387856796,
           78.67661036329244,
           65.54694924105956,
           72.16235982938801,
           126.11648930182106,
           53.17959965830357,
           163.31639317664715,
           69.58162958288985,
           103.87449659857828,
           61.76846350043446,
           97.91454110658252,
           41.7389386119914,
           155.6615299375257,
           74.79509595930192,
           79.63325632759398,
           88.85449753930892,
           25.446840783919797,
           36.011106436317746,
           50.73083289702444,
           73.5172884722406,
           70.83526077841498,
           43.19492710866139,
           99.31724583736941,
           86.92196231812603,
           127.1315821090449,
           49.39596034432473,
           29.177639104588174,
           63.988765431108966,
           181.61541398044253,
           43.229678946011056,
           81.72832705260355,
           127.20562254075247,
           61.66401809805571,
           61.50463797252214,
           76.01555065131114,
           198.0367003846807,
           92.35390303576577,
           151.23308978193867,
           149.82981313637674,
           111.13376884472225,
           122.7694797177602,
           66.29377083307116,
           164.95288753874522,
           149.8892657302267,
           76.7001470423163,
           64.04916587413852,
           124.60479785779197,
           35.90181324319727,
           72.0110946266644,
           70.1547550261161,
           506.6284435806332,
           61.54914485671227,
           34.86277412576356,
           41.05157090794341,
           66.39145078453645,
           114.04787311102587,
           54.315225685305855,
           90.35876357761556,
           56.20299631073732,
           87.40056105422757,
           78.6266256083384,
           136.31152627484116,
           47.06884724459102,
           98.7794070728243,
           101.96205005360288,
           14.484556812662763,
           54.91359057589954,
           78.82347829333752,
           41.736277352622224,
           119.53332779625737,
           156.30720009237214,
           74.3275808816683,
           91.1388720332564,
           88.72209987957936,
           93.50681880473758,
           101.68467465230323,
           106.61536802998562,
           37.361691830166954,
           37.914810368320204,
           202.92477514530884,
           102.33100903975507,
           74.6215713384731,
           73.66321575774028,
           57.02600375312832,
           68.64605504054325,
           35.91912385091209,
           82.99901100172546,
           98.20746924228465,
           130.25205759439925,
           41.27324971370533,
           179.31270160816416,
           47.371671048717566,
           63.044055021533204,
           66.60971884411322,
           93.31995881799608,
           94.6253473862195,
           47.01399532673783,
           66.57021490274632,
           62.12716964179501,
           209.03306314628549,
           44.122925272171614,
           79.77232091515242,
           153.21202271997026,
           28.99672301995486,
           157.92080324377085,
           155.62391550721557,
           155.44207010267726,
           115.24838204800398,
           137.74397738654,
           48.48800073419288,
           62.67355558512804,
           47.10596123815363,
           82.09499701991318,
           121.00332056097574,
           73.40278767949813,
           48.90261860485567,
           154.87415191361623,
           97.21493717780035,
           117.88558555631053,
           48.653407356929385,
           218.9526734784422,
           61.79399479406342,
           97.53096314440762,
           47.46476591676987,
           128.12835212623156,
           75.15546075607517,
           122.49432331411838,
           77.17555657458101,
           104.97069771602129,
           132.95254630013588,
           55.927062193137104,
           82.57858324692282,
           48.26392884984527,
           72.71986244690058,
           119.091749568977,
           160.6805546545347,
           120.14393778637861,
           57.74291884235693,
           77.45616364979347,
           51.667927017490015,
           92.93104173115275,
           54.958602166888454,
           77.01362479400724,
           160.76863529430352,
           78.49260697605581,
           83.59986288384087,
           220.85496656787436,
           85.6237164741178,
           79.90613292098844,
           78.50239991542485,
           203.37364230208237,
           71.91007618162153,
           49.07423209679515,
           113.66046049420586,
           67.01412412536394,
           48.01755458166958,
           64.33777138148346,
           72.35707330347918,
           58.07349693798759,
           46.732566290827954,
           77.04589188508277,
           52.46860064464065,
           78.72189739389421,
           75.35741873335128,
           92.9393222456517,
           106.0928180268164,
           81.7304138580657,
           43.98040125501919,
           118.01020625452608,
           30.2679506524185,
           46.84175946065733,
           43.813954003591185,
           83.58027167812543,
           90.53000266775021,
           113.15581337003474,
           104.10053035713338,
           55.19288626042009,
           62.120539145105155,
           38.342408713613885,
           173.27502287302005,
           73.68371692726039,
           98.96031371455135,
           129.121070918234,
           70.05775560027863,
           140.37025527287503,
           198.81056199163905,
           53.00919651287703,
           146.56465618175037,
           176.15239961052973,
           99.3780136913649,
           80.27965247676795,
           120.02522997039996,
           77.32198556900529,
           70.03380826297,
           89.63715657405903,
           120.31371511830801,
           49.74405134071761,
           43.21174896447471,
           99.80052422499259,
           44.57880985037372,
           43.32829333196633,
           102.31530317324821,
           90.59297179171274,
           79.17249077298116,
           148.06277349557115,
           61.34378457744363,
           53.30430554866192,
           158.01460027833943,
           43.403526468828154,
           90.37041093837253,
           30.84761486377924,
           120.20738835417345,
           45.712942787147064,
           70.88955423720067,
           25.36166253899232,
           30.379193746996098,
           38.61430404706463,
           72.27130080888911,
           145.1889613207181,
           60.91462548930198,
           90.82467756312481,
           216.30022661423587,
           70.37632588741688,
           135.910126566969,
           93.85040304427345,
           45.81937962754045,
           34.30588653346683,
           76.00475727119894,
           105.19091335105483,
           82.44826493635657,
           38.13292813456349,
           69.7269358418396,
           49.67360107477804,
           58.41937710388235,
           454.0035695772272,
           72.43061620360622,
           30.784084205388947,
           39.51146701735459,
           231.0969039819195,
           60.741719824681745,
           38.931033103069,
           73.7529121816156,
           81.78548081039752,
           63.536706324730154,
           37.7132071687039,
           106.244853235583,
           60.825655143750915,
           103.40073655531575,
           84.18207230423805,
           62.17970658032281,
           48.470334644388316,
           159.2976271990931,
           81.50036373355752,
           217.79397712407655,
           67.33962776186303,
           80.02229112859273,
           122.15288382915696,
           95.90145312328589,
           56.7233153831259,
           70.89844744814303,
           509.48455681266273,
           128.03753683377946,
           114.17128864994723,
           151.02873005418206,
           30.42153643565107,
           116.44154336005657,
           123.8069272527488,
           61.27124842449631,
           65.71702018385855,
           43.03766464787773,
           71.48627182106598,
           29.588447363133607,
           54.78855565888253,
           63.809881195674684,
           68.86000839850986,
           122.31855209272253,
           157.1968977509169,
           69.28007060084575,
           93.40144820258698,
           113.93573507151619,
           99.4602888521392,
           80.87099361688861,
           218.47630052094635,
           49.05972574085968,
           101.84503852254969,
           53.548802953054015,
           158.4324384156309,
           219.02349878114867,
           127.60252576079334,
           138.26463215725798,
           73.20330398941582,
           41.13478971084872,
           50.29349750402836,
           175.05517769391597,
           52.45963142454184,
           58.84520719136475,
           79.72387095349391,
           40.488984162698536,
           59.000110949891614,
           104.98085162700428,
           47.69213623280925,
           74.89424009202968,
           48.397888405777195,
           58.16098353255855,
           49.222861511594964,
           76.43416271001101,
           128.95469335988415,
           47.95302525188846,
           68.95129538634188,
           64.28846096830371,
           75.18298071415745,
           61.870377206266326,
           138.07954207954256,
           71.26190986425124,
           83.51633850168938,
           61.28806007981191,
           30.261492724784034,
           127.11210471557023,
           40.2949474342274,
           112.50682342440989,
           189.76884007997486,
           151.3367423764847,
           40.799972635573155,
           123.96220104578538,
           89.19818581557627,
           74.88484474000586,
           52.42773640935446,
           72.57658083304199,
           93.94854624697695,
           133.53604123392873,
           290.6744958810375,
           98.21303497930055,
           350.32372251522315,
           55.172677948055124,
           105.37824975394973,
           29.736058466911953,
           99.89605078549107,
           71.18389320758382,
           62.84004047517306,
           60.47604706874542,
           108.42262165290029,
           85.75866797217716,
           50.92094289139344,
           62.96184912660902,
           72.09458443414543,
           108.850806392109,
           169.55407411312117,
           14.48734936988335,
           209.04834277558513,
           94.02809098917226,
           183.50550958261329,
           160.3620658959929,
           40.3089707846701,
           54.61969815286416,
           142.60230709675184,
           77.81820429251479,
           34.65504352344163,
           47.10940374647012,
           85.93600887385882,
           150.32993851850782,
           61.83369371684841,
           59.98800251258118,
           58.639319906677215,
           156.3534688729578,
           33.80974846031902,
           62.064588505728715,
           159.93517991946337,
           73.89376283087613,
           48.14234250564858,
           158.0971560752473,
           60.45230340161462,
           74.72300414801127,
           186.42379033875937,
           146.74339939040374,
           75.88879331859518,
           66.03095708829056,
           97.06728209096943,
           154.43121079963325,
           57.602658442338374,
           92.72552619198008,
           62.172273083370015,
           64.34394317488679,
           94.72088502292401,
           87.09847418154195,
           44.73091210945839,
           78.64843870000722,
           98.94466370785834
          ],
          "sizemin": 7.5,
          "sizemode": "area"
         },
         "mode": "markers",
         "name": "1",
         "type": "scattergl",
         "x": [
          52,
          40,
          28,
          37,
          76,
          47,
          29,
          31,
          32,
          47,
          81,
          35,
          26,
          43,
          55,
          28,
          46,
          53,
          49,
          40,
          39,
          53,
          26,
          33,
          39,
          51,
          58,
          70,
          44,
          46,
          36,
          56,
          44,
          23,
          47,
          31,
          51,
          30,
          45,
          34,
          36,
          44,
          31,
          66,
          41,
          35,
          31,
          56,
          44,
          50,
          35,
          27,
          64,
          29,
          29,
          53,
          36,
          62,
          23,
          42,
          44,
          43,
          39,
          34,
          29,
          53,
          45,
          52,
          41,
          47,
          51,
          46,
          37,
          45,
          37,
          25,
          41,
          37,
          43,
          44,
          34,
          65,
          31,
          38,
          39,
          49,
          43,
          63,
          43,
          61,
          38,
          29,
          55,
          26,
          50,
          34,
          57,
          48,
          41,
          27,
          29,
          49,
          41,
          69,
          35,
          31,
          38,
          31,
          53,
          31,
          57,
          57,
          62,
          42,
          36,
          39,
          36,
          49,
          30,
          40,
          28
         ],
         "y": [
          14,
          9,
          15,
          12,
          9,
          7,
          13,
          13,
          9,
          10,
          14,
          9,
          13,
          9,
          16,
          13,
          9,
          11,
          10,
          14,
          9,
          9,
          10,
          13,
          10,
          9,
          9,
          9,
          13,
          9,
          11,
          7,
          10,
          10,
          9,
          9,
          9,
          11,
          9,
          9,
          13,
          11,
          13,
          13,
          10,
          14,
          15,
          14,
          13,
          15,
          13,
          8,
          10,
          13,
          14,
          14,
          10,
          9,
          13,
          11,
          9,
          10,
          13,
          13,
          13,
          9,
          14,
          6,
          9,
          13,
          12,
          13,
          9,
          13,
          10,
          10,
          14,
          12,
          11,
          13,
          13,
          10,
          16,
          9,
          10,
          11,
          9,
          14,
          14,
          15,
          13,
          9,
          13,
          9,
          10,
          9,
          14,
          15,
          2,
          14,
          13,
          10,
          12,
          10,
          13,
          9,
          9,
          13,
          12,
          12,
          9,
          13,
          10,
          16,
          9,
          9,
          11,
          4,
          13,
          9,
          14
         ]
        }
       ],
       "layout": {
        "annotations": [
         {
          "font": {
           "size": 16
          },
          "showarrow": false,
          "text": "age",
          "x": 0.5,
          "xanchor": "center",
          "xref": "paper",
          "y": 0,
          "yanchor": "top",
          "yref": "paper",
          "yshift": -30
         },
         {
          "font": {
           "size": 16
          },
          "showarrow": false,
          "text": "education-num",
          "textangle": -90,
          "x": 0,
          "xanchor": "right",
          "xref": "paper",
          "xshift": -40,
          "y": 0.5,
          "yanchor": "middle",
          "yref": "paper"
         }
        ],
        "height": 800,
        "legend": {
         "groupclick": "toggleitem"
        },
        "template": {
         "data": {
          "bar": [
           {
            "error_x": {
             "color": "#2a3f5f"
            },
            "error_y": {
             "color": "#2a3f5f"
            },
            "marker": {
             "line": {
              "color": "#E5ECF6",
              "width": 0.5
             },
             "pattern": {
              "fillmode": "overlay",
              "size": 10,
              "solidity": 0.2
             }
            },
            "type": "bar"
           }
          ],
          "barpolar": [
           {
            "marker": {
             "line": {
              "color": "#E5ECF6",
              "width": 0.5
             },
             "pattern": {
              "fillmode": "overlay",
              "size": 10,
              "solidity": 0.2
             }
            },
            "type": "barpolar"
           }
          ],
          "carpet": [
           {
            "aaxis": {
             "endlinecolor": "#2a3f5f",
             "gridcolor": "white",
             "linecolor": "white",
             "minorgridcolor": "white",
             "startlinecolor": "#2a3f5f"
            },
            "baxis": {
             "endlinecolor": "#2a3f5f",
             "gridcolor": "white",
             "linecolor": "white",
             "minorgridcolor": "white",
             "startlinecolor": "#2a3f5f"
            },
            "type": "carpet"
           }
          ],
          "choropleth": [
           {
            "colorbar": {
             "outlinewidth": 0,
             "ticks": ""
            },
            "type": "choropleth"
           }
          ],
          "contour": [
           {
            "colorbar": {
             "outlinewidth": 0,
             "ticks": ""
            },
            "colorscale": [
             [
              0,
              "#0d0887"
             ],
             [
              0.1111111111111111,
              "#46039f"
             ],
             [
              0.2222222222222222,
              "#7201a8"
             ],
             [
              0.3333333333333333,
              "#9c179e"
             ],
             [
              0.4444444444444444,
              "#bd3786"
             ],
             [
              0.5555555555555556,
              "#d8576b"
             ],
             [
              0.6666666666666666,
              "#ed7953"
             ],
             [
              0.7777777777777778,
              "#fb9f3a"
             ],
             [
              0.8888888888888888,
              "#fdca26"
             ],
             [
              1,
              "#f0f921"
             ]
            ],
            "type": "contour"
           }
          ],
          "contourcarpet": [
           {
            "colorbar": {
             "outlinewidth": 0,
             "ticks": ""
            },
            "type": "contourcarpet"
           }
          ],
          "heatmap": [
           {
            "colorbar": {
             "outlinewidth": 0,
             "ticks": ""
            },
            "colorscale": [
             [
              0,
              "#0d0887"
             ],
             [
              0.1111111111111111,
              "#46039f"
             ],
             [
              0.2222222222222222,
              "#7201a8"
             ],
             [
              0.3333333333333333,
              "#9c179e"
             ],
             [
              0.4444444444444444,
              "#bd3786"
             ],
             [
              0.5555555555555556,
              "#d8576b"
             ],
             [
              0.6666666666666666,
              "#ed7953"
             ],
             [
              0.7777777777777778,
              "#fb9f3a"
             ],
             [
              0.8888888888888888,
              "#fdca26"
             ],
             [
              1,
              "#f0f921"
             ]
            ],
            "type": "heatmap"
           }
          ],
          "heatmapgl": [
           {
            "colorbar": {
             "outlinewidth": 0,
             "ticks": ""
            },
            "colorscale": [
             [
              0,
              "#0d0887"
             ],
             [
              0.1111111111111111,
              "#46039f"
             ],
             [
              0.2222222222222222,
              "#7201a8"
             ],
             [
              0.3333333333333333,
              "#9c179e"
             ],
             [
              0.4444444444444444,
              "#bd3786"
             ],
             [
              0.5555555555555556,
              "#d8576b"
             ],
             [
              0.6666666666666666,
              "#ed7953"
             ],
             [
              0.7777777777777778,
              "#fb9f3a"
             ],
             [
              0.8888888888888888,
              "#fdca26"
             ],
             [
              1,
              "#f0f921"
             ]
            ],
            "type": "heatmapgl"
           }
          ],
          "histogram": [
           {
            "marker": {
             "pattern": {
              "fillmode": "overlay",
              "size": 10,
              "solidity": 0.2
             }
            },
            "type": "histogram"
           }
          ],
          "histogram2d": [
           {
            "colorbar": {
             "outlinewidth": 0,
             "ticks": ""
            },
            "colorscale": [
             [
              0,
              "#0d0887"
             ],
             [
              0.1111111111111111,
              "#46039f"
             ],
             [
              0.2222222222222222,
              "#7201a8"
             ],
             [
              0.3333333333333333,
              "#9c179e"
             ],
             [
              0.4444444444444444,
              "#bd3786"
             ],
             [
              0.5555555555555556,
              "#d8576b"
             ],
             [
              0.6666666666666666,
              "#ed7953"
             ],
             [
              0.7777777777777778,
              "#fb9f3a"
             ],
             [
              0.8888888888888888,
              "#fdca26"
             ],
             [
              1,
              "#f0f921"
             ]
            ],
            "type": "histogram2d"
           }
          ],
          "histogram2dcontour": [
           {
            "colorbar": {
             "outlinewidth": 0,
             "ticks": ""
            },
            "colorscale": [
             [
              0,
              "#0d0887"
             ],
             [
              0.1111111111111111,
              "#46039f"
             ],
             [
              0.2222222222222222,
              "#7201a8"
             ],
             [
              0.3333333333333333,
              "#9c179e"
             ],
             [
              0.4444444444444444,
              "#bd3786"
             ],
             [
              0.5555555555555556,
              "#d8576b"
             ],
             [
              0.6666666666666666,
              "#ed7953"
             ],
             [
              0.7777777777777778,
              "#fb9f3a"
             ],
             [
              0.8888888888888888,
              "#fdca26"
             ],
             [
              1,
              "#f0f921"
             ]
            ],
            "type": "histogram2dcontour"
           }
          ],
          "mesh3d": [
           {
            "colorbar": {
             "outlinewidth": 0,
             "ticks": ""
            },
            "type": "mesh3d"
           }
          ],
          "parcoords": [
           {
            "line": {
             "colorbar": {
              "outlinewidth": 0,
              "ticks": ""
             }
            },
            "type": "parcoords"
           }
          ],
          "pie": [
           {
            "automargin": true,
            "type": "pie"
           }
          ],
          "scatter": [
           {
            "fillpattern": {
             "fillmode": "overlay",
             "size": 10,
             "solidity": 0.2
            },
            "type": "scatter"
           }
          ],
          "scatter3d": [
           {
            "line": {
             "colorbar": {
              "outlinewidth": 0,
              "ticks": ""
             }
            },
            "marker": {
             "colorbar": {
              "outlinewidth": 0,
              "ticks": ""
             }
            },
            "type": "scatter3d"
           }
          ],
          "scattercarpet": [
           {
            "marker": {
             "colorbar": {
              "outlinewidth": 0,
              "ticks": ""
             }
            },
            "type": "scattercarpet"
           }
          ],
          "scattergeo": [
           {
            "marker": {
             "colorbar": {
              "outlinewidth": 0,
              "ticks": ""
             }
            },
            "type": "scattergeo"
           }
          ],
          "scattergl": [
           {
            "marker": {
             "colorbar": {
              "outlinewidth": 0,
              "ticks": ""
             }
            },
            "type": "scattergl"
           }
          ],
          "scattermapbox": [
           {
            "marker": {
             "colorbar": {
              "outlinewidth": 0,
              "ticks": ""
             }
            },
            "type": "scattermapbox"
           }
          ],
          "scatterpolar": [
           {
            "marker": {
             "colorbar": {
              "outlinewidth": 0,
              "ticks": ""
             }
            },
            "type": "scatterpolar"
           }
          ],
          "scatterpolargl": [
           {
            "marker": {
             "colorbar": {
              "outlinewidth": 0,
              "ticks": ""
             }
            },
            "type": "scatterpolargl"
           }
          ],
          "scatterternary": [
           {
            "marker": {
             "colorbar": {
              "outlinewidth": 0,
              "ticks": ""
             }
            },
            "type": "scatterternary"
           }
          ],
          "surface": [
           {
            "colorbar": {
             "outlinewidth": 0,
             "ticks": ""
            },
            "colorscale": [
             [
              0,
              "#0d0887"
             ],
             [
              0.1111111111111111,
              "#46039f"
             ],
             [
              0.2222222222222222,
              "#7201a8"
             ],
             [
              0.3333333333333333,
              "#9c179e"
             ],
             [
              0.4444444444444444,
              "#bd3786"
             ],
             [
              0.5555555555555556,
              "#d8576b"
             ],
             [
              0.6666666666666666,
              "#ed7953"
             ],
             [
              0.7777777777777778,
              "#fb9f3a"
             ],
             [
              0.8888888888888888,
              "#fdca26"
             ],
             [
              1,
              "#f0f921"
             ]
            ],
            "type": "surface"
           }
          ],
          "table": [
           {
            "cells": {
             "fill": {
              "color": "#EBF0F8"
             },
             "line": {
              "color": "white"
             }
            },
            "header": {
             "fill": {
              "color": "#C8D4E3"
             },
             "line": {
              "color": "white"
             }
            },
            "type": "table"
           }
          ]
         },
         "layout": {
          "annotationdefaults": {
           "arrowcolor": "#2a3f5f",
           "arrowhead": 0,
           "arrowwidth": 1
          },
          "autotypenumbers": "strict",
          "coloraxis": {
           "colorbar": {
            "outlinewidth": 0,
            "ticks": ""
           }
          },
          "colorscale": {
           "diverging": [
            [
             0,
             "#8e0152"
            ],
            [
             0.1,
             "#c51b7d"
            ],
            [
             0.2,
             "#de77ae"
            ],
            [
             0.3,
             "#f1b6da"
            ],
            [
             0.4,
             "#fde0ef"
            ],
            [
             0.5,
             "#f7f7f7"
            ],
            [
             0.6,
             "#e6f5d0"
            ],
            [
             0.7,
             "#b8e186"
            ],
            [
             0.8,
             "#7fbc41"
            ],
            [
             0.9,
             "#4d9221"
            ],
            [
             1,
             "#276419"
            ]
           ],
           "sequential": [
            [
             0,
             "#0d0887"
            ],
            [
             0.1111111111111111,
             "#46039f"
            ],
            [
             0.2222222222222222,
             "#7201a8"
            ],
            [
             0.3333333333333333,
             "#9c179e"
            ],
            [
             0.4444444444444444,
             "#bd3786"
            ],
            [
             0.5555555555555556,
             "#d8576b"
            ],
            [
             0.6666666666666666,
             "#ed7953"
            ],
            [
             0.7777777777777778,
             "#fb9f3a"
            ],
            [
             0.8888888888888888,
             "#fdca26"
            ],
            [
             1,
             "#f0f921"
            ]
           ],
           "sequentialminus": [
            [
             0,
             "#0d0887"
            ],
            [
             0.1111111111111111,
             "#46039f"
            ],
            [
             0.2222222222222222,
             "#7201a8"
            ],
            [
             0.3333333333333333,
             "#9c179e"
            ],
            [
             0.4444444444444444,
             "#bd3786"
            ],
            [
             0.5555555555555556,
             "#d8576b"
            ],
            [
             0.6666666666666666,
             "#ed7953"
            ],
            [
             0.7777777777777778,
             "#fb9f3a"
            ],
            [
             0.8888888888888888,
             "#fdca26"
            ],
            [
             1,
             "#f0f921"
            ]
           ]
          },
          "colorway": [
           "#636efa",
           "#EF553B",
           "#00cc96",
           "#ab63fa",
           "#FFA15A",
           "#19d3f3",
           "#FF6692",
           "#B6E880",
           "#FF97FF",
           "#FECB52"
          ],
          "font": {
           "color": "#2a3f5f"
          },
          "geo": {
           "bgcolor": "white",
           "lakecolor": "white",
           "landcolor": "#E5ECF6",
           "showlakes": true,
           "showland": true,
           "subunitcolor": "white"
          },
          "hoverlabel": {
           "align": "left"
          },
          "hovermode": "closest",
          "mapbox": {
           "style": "light"
          },
          "paper_bgcolor": "white",
          "plot_bgcolor": "#E5ECF6",
          "polar": {
           "angularaxis": {
            "gridcolor": "white",
            "linecolor": "white",
            "ticks": ""
           },
           "bgcolor": "#E5ECF6",
           "radialaxis": {
            "gridcolor": "white",
            "linecolor": "white",
            "ticks": ""
           }
          },
          "scene": {
           "xaxis": {
            "backgroundcolor": "#E5ECF6",
            "gridcolor": "white",
            "gridwidth": 2,
            "linecolor": "white",
            "showbackground": true,
            "ticks": "",
            "zerolinecolor": "white"
           },
           "yaxis": {
            "backgroundcolor": "#E5ECF6",
            "gridcolor": "white",
            "gridwidth": 2,
            "linecolor": "white",
            "showbackground": true,
            "ticks": "",
            "zerolinecolor": "white"
           },
           "zaxis": {
            "backgroundcolor": "#E5ECF6",
            "gridcolor": "white",
            "gridwidth": 2,
            "linecolor": "white",
            "showbackground": true,
            "ticks": "",
            "zerolinecolor": "white"
           }
          },
          "shapedefaults": {
           "line": {
            "color": "#2a3f5f"
           }
          },
          "ternary": {
           "aaxis": {
            "gridcolor": "white",
            "linecolor": "white",
            "ticks": ""
           },
           "baxis": {
            "gridcolor": "white",
            "linecolor": "white",
            "ticks": ""
           },
           "bgcolor": "#E5ECF6",
           "caxis": {
            "gridcolor": "white",
            "linecolor": "white",
            "ticks": ""
           }
          },
          "title": {
           "x": 0.05
          },
          "xaxis": {
           "automargin": true,
           "gridcolor": "white",
           "linecolor": "white",
           "ticks": "",
           "title": {
            "standoff": 15
           },
           "zerolinecolor": "white",
           "zerolinewidth": 2
          },
          "yaxis": {
           "automargin": true,
           "gridcolor": "white",
           "linecolor": "white",
           "ticks": "",
           "title": {
            "standoff": 15
           },
           "zerolinecolor": "white",
           "zerolinewidth": 2
          }
         }
        },
        "xaxis": {
         "anchor": "y",
         "domain": [
          0,
          1
         ]
        },
        "yaxis": {
         "anchor": "x",
         "domain": [
          0,
          1
         ]
        }
       }
      }
     },
     "metadata": {},
     "output_type": "display_data"
    }
   ],
   "source": [
    "plot_dataset(partial_train_df, x=\"age\", y=\"education-num\", size=\"density\", hue=\"low_residual_conviction\", alpha=0.4)"
   ]
  },
  {
   "attachments": {},
   "cell_type": "markdown",
   "id": "1d88140c-5ff6-4128-bf24-88f833042e87",
   "metadata": {},
   "source": [
    "The above graph is a visualization of the data set in 2-dimensions, with the color as an indication of residual conviction and the size representing the density of the data. More specifically, the orange color represents the low conviction points (points which are very uncertain), and small size represents low density. Therefore, adding more data to the region with small, orange points can improve model performance. \n",
    "\n",
    "\n",
    "On the other hand, an orange point that is large would be an indication that this case lies in an dense region but was not predictable. Hence, this will be an indication where the problem is not well defined, or the data is missing key features.  \n"
   ]
  }
 ],
 "metadata": {
  "kernelspec": {
   "display_name": "Python 3 (ipykernel)",
   "language": "python",
   "name": "python3"
  },
  "language_info": {
   "codemirror_mode": {
    "name": "ipython",
    "version": 3
   },
   "file_extension": ".py",
   "mimetype": "text/x-python",
   "name": "python",
   "nbconvert_exporter": "python",
   "pygments_lexer": "ipython3",
   "version": "3.8.17"
  },
  "vscode": {
   "interpreter": {
    "hash": "eda761bfb12a75d260c02aadb74c887b69ce57625ad8fbf13f03f9409be493a0"
   }
  }
 },
 "nbformat": 4,
 "nbformat_minor": 5
}
