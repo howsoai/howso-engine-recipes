{
 "cells": [
  {
   "attachments": {},
   "cell_type": "markdown",
   "id": "71cfb4a3-5673-47a8-afa2-b20607105c38",
   "metadata": {
    "tags": []
   },
   "source": [
    "# Overview\n",
    "\n",
    "At a very high level, Howso Engine is about: \n",
    "\n",
    "- Making an accurate prediction (even with limited or sparse data!) \n",
    "\n",
    "- Explaining the prediction process \n",
    "\n",
    "- Showing key properties of the data \n",
    "\n",
    "In this notebook, we will be using the adult data set as an example to demonstrate some of Howso Engine’s capabilities, including cases and features which contribute to predictions, anomalies analysis, and potential improvements to the data to gain more insight into the data.  \n"
   ]
  },
  {
   "cell_type": "code",
   "execution_count": 1,
   "id": "5069bb7d-671f-4d5d-a15c-99d9cd48c779",
   "metadata": {},
   "outputs": [],
   "source": [
    "import matplotlib.pyplot as plt\n",
    "import numpy as np\n",
    "import pandas as pd\n",
    "import seaborn as sns\n",
    "\n",
    "from howso import engine\n",
    "from howso.utilities import infer_feature_attributes\n",
    "from howso.visuals import plot_feature_importances, plot_anomalies, plot_dataset"
   ]
  },
  {
   "cell_type": "code",
   "execution_count": 2,
   "id": "bbe69958-0668-4b82-ae95-dad4dcaaa9e9",
   "metadata": {},
   "outputs": [
    {
     "data": {
      "text/html": [
       "<div>\n",
       "<style scoped>\n",
       "    .dataframe tbody tr th:only-of-type {\n",
       "        vertical-align: middle;\n",
       "    }\n",
       "\n",
       "    .dataframe tbody tr th {\n",
       "        vertical-align: top;\n",
       "    }\n",
       "\n",
       "    .dataframe thead th {\n",
       "        text-align: right;\n",
       "    }\n",
       "</style>\n",
       "<table border=\"1\" class=\"dataframe\">\n",
       "  <thead>\n",
       "    <tr style=\"text-align: right;\">\n",
       "      <th></th>\n",
       "      <th>age</th>\n",
       "      <th>workclass</th>\n",
       "      <th>fnlwgt</th>\n",
       "      <th>education</th>\n",
       "      <th>education-num</th>\n",
       "      <th>marital-status</th>\n",
       "      <th>occupation</th>\n",
       "      <th>relationship</th>\n",
       "      <th>race</th>\n",
       "      <th>sex</th>\n",
       "      <th>capital-gain</th>\n",
       "      <th>capital-loss</th>\n",
       "      <th>hours-per-week</th>\n",
       "      <th>native-country</th>\n",
       "      <th>target</th>\n",
       "    </tr>\n",
       "  </thead>\n",
       "  <tbody>\n",
       "    <tr>\n",
       "      <th>0</th>\n",
       "      <td>57</td>\n",
       "      <td>Private</td>\n",
       "      <td>298507</td>\n",
       "      <td>Bachelors</td>\n",
       "      <td>13</td>\n",
       "      <td>Married-civ-spouse</td>\n",
       "      <td>Prof-specialty</td>\n",
       "      <td>Husband</td>\n",
       "      <td>White</td>\n",
       "      <td>Male</td>\n",
       "      <td>3103</td>\n",
       "      <td>0</td>\n",
       "      <td>40</td>\n",
       "      <td>United-States</td>\n",
       "      <td>&gt;50K</td>\n",
       "    </tr>\n",
       "    <tr>\n",
       "      <th>1</th>\n",
       "      <td>20</td>\n",
       "      <td>Private</td>\n",
       "      <td>316702</td>\n",
       "      <td>Some-college</td>\n",
       "      <td>10</td>\n",
       "      <td>Never-married</td>\n",
       "      <td>Prof-specialty</td>\n",
       "      <td>Own-child</td>\n",
       "      <td>White</td>\n",
       "      <td>Male</td>\n",
       "      <td>0</td>\n",
       "      <td>0</td>\n",
       "      <td>20</td>\n",
       "      <td>United-States</td>\n",
       "      <td>&lt;=50K</td>\n",
       "    </tr>\n",
       "    <tr>\n",
       "      <th>2</th>\n",
       "      <td>50</td>\n",
       "      <td>Private</td>\n",
       "      <td>40623</td>\n",
       "      <td>Some-college</td>\n",
       "      <td>10</td>\n",
       "      <td>Divorced</td>\n",
       "      <td>Sales</td>\n",
       "      <td>Not-in-family</td>\n",
       "      <td>White</td>\n",
       "      <td>Female</td>\n",
       "      <td>0</td>\n",
       "      <td>0</td>\n",
       "      <td>40</td>\n",
       "      <td>United-States</td>\n",
       "      <td>&lt;=50K</td>\n",
       "    </tr>\n",
       "    <tr>\n",
       "      <th>3</th>\n",
       "      <td>27</td>\n",
       "      <td>Private</td>\n",
       "      <td>194590</td>\n",
       "      <td>Assoc-acdm</td>\n",
       "      <td>12</td>\n",
       "      <td>Married-civ-spouse</td>\n",
       "      <td>Adm-clerical</td>\n",
       "      <td>Wife</td>\n",
       "      <td>Black</td>\n",
       "      <td>Female</td>\n",
       "      <td>0</td>\n",
       "      <td>0</td>\n",
       "      <td>25</td>\n",
       "      <td>United-States</td>\n",
       "      <td>&lt;=50K</td>\n",
       "    </tr>\n",
       "    <tr>\n",
       "      <th>4</th>\n",
       "      <td>18</td>\n",
       "      <td>Federal-gov</td>\n",
       "      <td>101709</td>\n",
       "      <td>11th</td>\n",
       "      <td>7</td>\n",
       "      <td>Never-married</td>\n",
       "      <td>Other-service</td>\n",
       "      <td>Own-child</td>\n",
       "      <td>Asian-Pac-Islander</td>\n",
       "      <td>Male</td>\n",
       "      <td>0</td>\n",
       "      <td>0</td>\n",
       "      <td>15</td>\n",
       "      <td>Philippines</td>\n",
       "      <td>&lt;=50K</td>\n",
       "    </tr>\n",
       "    <tr>\n",
       "      <th>...</th>\n",
       "      <td>...</td>\n",
       "      <td>...</td>\n",
       "      <td>...</td>\n",
       "      <td>...</td>\n",
       "      <td>...</td>\n",
       "      <td>...</td>\n",
       "      <td>...</td>\n",
       "      <td>...</td>\n",
       "      <td>...</td>\n",
       "      <td>...</td>\n",
       "      <td>...</td>\n",
       "      <td>...</td>\n",
       "      <td>...</td>\n",
       "      <td>...</td>\n",
       "      <td>...</td>\n",
       "    </tr>\n",
       "    <tr>\n",
       "      <th>995</th>\n",
       "      <td>19</td>\n",
       "      <td>Private</td>\n",
       "      <td>293928</td>\n",
       "      <td>HS-grad</td>\n",
       "      <td>9</td>\n",
       "      <td>Never-married</td>\n",
       "      <td>Adm-clerical</td>\n",
       "      <td>Own-child</td>\n",
       "      <td>White</td>\n",
       "      <td>Female</td>\n",
       "      <td>0</td>\n",
       "      <td>0</td>\n",
       "      <td>20</td>\n",
       "      <td>United-States</td>\n",
       "      <td>&lt;=50K</td>\n",
       "    </tr>\n",
       "    <tr>\n",
       "      <th>996</th>\n",
       "      <td>20</td>\n",
       "      <td>Private</td>\n",
       "      <td>194630</td>\n",
       "      <td>HS-grad</td>\n",
       "      <td>9</td>\n",
       "      <td>Never-married</td>\n",
       "      <td>Sales</td>\n",
       "      <td>Not-in-family</td>\n",
       "      <td>White</td>\n",
       "      <td>Male</td>\n",
       "      <td>0</td>\n",
       "      <td>0</td>\n",
       "      <td>40</td>\n",
       "      <td>United-States</td>\n",
       "      <td>&lt;=50K</td>\n",
       "    </tr>\n",
       "    <tr>\n",
       "      <th>997</th>\n",
       "      <td>59</td>\n",
       "      <td>Private</td>\n",
       "      <td>314149</td>\n",
       "      <td>Assoc-voc</td>\n",
       "      <td>11</td>\n",
       "      <td>Married-civ-spouse</td>\n",
       "      <td>Sales</td>\n",
       "      <td>Husband</td>\n",
       "      <td>White</td>\n",
       "      <td>Male</td>\n",
       "      <td>0</td>\n",
       "      <td>1740</td>\n",
       "      <td>50</td>\n",
       "      <td>United-States</td>\n",
       "      <td>&lt;=50K</td>\n",
       "    </tr>\n",
       "    <tr>\n",
       "      <th>998</th>\n",
       "      <td>34</td>\n",
       "      <td>Self-emp-not-inc</td>\n",
       "      <td>288486</td>\n",
       "      <td>11th</td>\n",
       "      <td>7</td>\n",
       "      <td>Married-civ-spouse</td>\n",
       "      <td>Craft-repair</td>\n",
       "      <td>Husband</td>\n",
       "      <td>White</td>\n",
       "      <td>Male</td>\n",
       "      <td>0</td>\n",
       "      <td>0</td>\n",
       "      <td>40</td>\n",
       "      <td>United-States</td>\n",
       "      <td>&lt;=50K</td>\n",
       "    </tr>\n",
       "    <tr>\n",
       "      <th>999</th>\n",
       "      <td>53</td>\n",
       "      <td>?</td>\n",
       "      <td>199665</td>\n",
       "      <td>Bachelors</td>\n",
       "      <td>13</td>\n",
       "      <td>Married-civ-spouse</td>\n",
       "      <td>?</td>\n",
       "      <td>Husband</td>\n",
       "      <td>White</td>\n",
       "      <td>Male</td>\n",
       "      <td>0</td>\n",
       "      <td>0</td>\n",
       "      <td>30</td>\n",
       "      <td>United-States</td>\n",
       "      <td>&gt;50K</td>\n",
       "    </tr>\n",
       "  </tbody>\n",
       "</table>\n",
       "<p>1000 rows × 15 columns</p>\n",
       "</div>"
      ],
      "text/plain": [
       "     age          workclass  fnlwgt      education  education-num  \\\n",
       "0     57            Private  298507      Bachelors             13   \n",
       "1     20            Private  316702   Some-college             10   \n",
       "2     50            Private   40623   Some-college             10   \n",
       "3     27            Private  194590     Assoc-acdm             12   \n",
       "4     18        Federal-gov  101709           11th              7   \n",
       "..   ...                ...     ...            ...            ...   \n",
       "995   19            Private  293928        HS-grad              9   \n",
       "996   20            Private  194630        HS-grad              9   \n",
       "997   59            Private  314149      Assoc-voc             11   \n",
       "998   34   Self-emp-not-inc  288486           11th              7   \n",
       "999   53                  ?  199665      Bachelors             13   \n",
       "\n",
       "          marital-status       occupation    relationship  \\\n",
       "0     Married-civ-spouse   Prof-specialty         Husband   \n",
       "1          Never-married   Prof-specialty       Own-child   \n",
       "2               Divorced            Sales   Not-in-family   \n",
       "3     Married-civ-spouse     Adm-clerical            Wife   \n",
       "4          Never-married    Other-service       Own-child   \n",
       "..                   ...              ...             ...   \n",
       "995        Never-married     Adm-clerical       Own-child   \n",
       "996        Never-married            Sales   Not-in-family   \n",
       "997   Married-civ-spouse            Sales         Husband   \n",
       "998   Married-civ-spouse     Craft-repair         Husband   \n",
       "999   Married-civ-spouse                ?         Husband   \n",
       "\n",
       "                    race      sex  capital-gain  capital-loss  hours-per-week  \\\n",
       "0                  White     Male          3103             0              40   \n",
       "1                  White     Male             0             0              20   \n",
       "2                  White   Female             0             0              40   \n",
       "3                  Black   Female             0             0              25   \n",
       "4     Asian-Pac-Islander     Male             0             0              15   \n",
       "..                   ...      ...           ...           ...             ...   \n",
       "995                White   Female             0             0              20   \n",
       "996                White     Male             0             0              40   \n",
       "997                White     Male             0          1740              50   \n",
       "998                White     Male             0             0              40   \n",
       "999                White     Male             0             0              30   \n",
       "\n",
       "     native-country  target  \n",
       "0     United-States    >50K  \n",
       "1     United-States   <=50K  \n",
       "2     United-States   <=50K  \n",
       "3     United-States   <=50K  \n",
       "4       Philippines   <=50K  \n",
       "..              ...     ...  \n",
       "995   United-States   <=50K  \n",
       "996   United-States   <=50K  \n",
       "997   United-States   <=50K  \n",
       "998   United-States   <=50K  \n",
       "999   United-States    >50K  \n",
       "\n",
       "[1000 rows x 15 columns]"
      ]
     },
     "execution_count": 2,
     "metadata": {},
     "output_type": "execute_result"
    }
   ],
   "source": [
    "# Load adult data\n",
    "df = pd.read_csv('data/adult.data', header=None)\n",
    "\n",
    "# Specify column names\n",
    "df.columns = ['age', 'workclass', 'fnlwgt', 'education', \n",
    "              'education-num', 'marital-status', 'occupation',\n",
    "              'relationship', 'race', 'sex', 'capital-gain', \n",
    "              'capital-loss', 'hours-per-week', 'native-country', 'target']\n",
    "\n",
    "# Sample the data for demo purpose\n",
    "df = df.sample(1_000).reset_index(drop=True)\n",
    "\n",
    "df"
   ]
  },
  {
   "cell_type": "code",
   "execution_count": 3,
   "id": "6f16acd5-4006-4488-a71a-1be4692d6479",
   "metadata": {},
   "outputs": [],
   "source": [
    "partial_features = {\n",
    "    \"education\": {\"type\": \"nominal\"}\n",
    "}\n",
    "\n",
    "# Infer features types\n",
    "features = infer_feature_attributes(df, features=partial_features)\n",
    "\n",
    "# Specify the context and action feature\n",
    "action_features = ['target']\n",
    "context_features = features.get_names(without=['target'])"
   ]
  },
  {
   "cell_type": "code",
   "execution_count": 4,
   "id": "07eacaca-ce18-4850-9648-bbf7453d593e",
   "metadata": {},
   "outputs": [],
   "source": [
    "# Create the trainee with custom name\n",
    "t = engine.Trainee(name='Engine - Predictions and Explanations Recipe', features=features, overwrite_existing=True)\n",
    "\n",
    "# Train\n",
    "t.train(df)\n",
    "\n",
    "# Analyze the model\n",
    "t.analyze(action_features=action_features)\n"
   ]
  },
  {
   "cell_type": "code",
   "execution_count": 5,
   "id": "03c4f734-d0a4-45ed-a85e-e756ee105c8c",
   "metadata": {},
   "outputs": [
    {
     "name": "stdout",
     "output_type": "stream",
     "text": [
      "Test set prediction accuracy: 0.728\n"
     ]
    }
   ],
   "source": [
    "t.react_into_trainee(residuals=True)\n",
    "\n",
    "accuracy = t.get_prediction_stats(stats=['accuracy'])['target'][0]\n",
    "\n",
    "print(\"Test set prediction accuracy: {acc}\".format(acc=accuracy))"
   ]
  },
  {
   "attachments": {},
   "cell_type": "markdown",
   "id": "05ea5c3e-ad35-421b-8f1f-de5553b11f41",
   "metadata": {},
   "source": [
    "# Explain\n",
    "\n",
    "How was the predictions made? \n",
    "\n",
    "Howso Engine provides detailed explanation for complete model transparency. Let's examine a subset of the explanations.\n"
   ]
  },
  {
   "attachments": {},
   "cell_type": "markdown",
   "id": "a08e870a-c1d2-4220-b683-cbfc048033c5",
   "metadata": {},
   "source": [
    "## Feature importance (global)\n",
    "\n",
    "The feature importance information provides insight into the feature[s] which were primary drivers for each of the prediction. This is important to understand in the context of AI bias and discrimination (ex. Sensitive attribute being the primary contribution to a prediction). \n",
    "\n",
    "This information is available at the global level (overall model), but can also be extracted at the local level (regional model for each case)."
   ]
  },
  {
   "cell_type": "code",
   "execution_count": 6,
   "id": "2516f905-3304-4c15-9f9b-0f340307ce61",
   "metadata": {},
   "outputs": [
    {
     "data": {
      "application/vnd.plotly.v1+json": {
       "config": {
        "plotlyServerURL": "https://plot.ly"
       },
       "data": [
        {
         "type": "bar",
         "x": [
          "marital-status",
          "occupation",
          "capital-loss",
          "sex",
          "relationship",
          "capital-gain",
          "native-country",
          "age",
          "race",
          "education-num",
          "workclass",
          "education",
          "hours-per-week",
          "fnlwgt"
         ],
         "y": [
          0.026678394638743663,
          0.024581225928541173,
          0.01933656597841582,
          0.016769026323590508,
          0.01651549511544803,
          0.014624149110809503,
          0.01389008327057134,
          0.010507011223261198,
          0.010150097619619103,
          0.010078857196289537,
          0.009495373776021387,
          0.00917278374341135,
          0.0048074882009487285,
          -0.06810159637138652
         ]
        }
       ],
       "layout": {
        "template": {
         "data": {
          "bar": [
           {
            "error_x": {
             "color": "#2a3f5f"
            },
            "error_y": {
             "color": "#2a3f5f"
            },
            "marker": {
             "line": {
              "color": "#E5ECF6",
              "width": 0.5
             },
             "pattern": {
              "fillmode": "overlay",
              "size": 10,
              "solidity": 0.2
             }
            },
            "type": "bar"
           }
          ],
          "barpolar": [
           {
            "marker": {
             "line": {
              "color": "#E5ECF6",
              "width": 0.5
             },
             "pattern": {
              "fillmode": "overlay",
              "size": 10,
              "solidity": 0.2
             }
            },
            "type": "barpolar"
           }
          ],
          "carpet": [
           {
            "aaxis": {
             "endlinecolor": "#2a3f5f",
             "gridcolor": "white",
             "linecolor": "white",
             "minorgridcolor": "white",
             "startlinecolor": "#2a3f5f"
            },
            "baxis": {
             "endlinecolor": "#2a3f5f",
             "gridcolor": "white",
             "linecolor": "white",
             "minorgridcolor": "white",
             "startlinecolor": "#2a3f5f"
            },
            "type": "carpet"
           }
          ],
          "choropleth": [
           {
            "colorbar": {
             "outlinewidth": 0,
             "ticks": ""
            },
            "type": "choropleth"
           }
          ],
          "contour": [
           {
            "colorbar": {
             "outlinewidth": 0,
             "ticks": ""
            },
            "colorscale": [
             [
              0,
              "#0d0887"
             ],
             [
              0.1111111111111111,
              "#46039f"
             ],
             [
              0.2222222222222222,
              "#7201a8"
             ],
             [
              0.3333333333333333,
              "#9c179e"
             ],
             [
              0.4444444444444444,
              "#bd3786"
             ],
             [
              0.5555555555555556,
              "#d8576b"
             ],
             [
              0.6666666666666666,
              "#ed7953"
             ],
             [
              0.7777777777777778,
              "#fb9f3a"
             ],
             [
              0.8888888888888888,
              "#fdca26"
             ],
             [
              1,
              "#f0f921"
             ]
            ],
            "type": "contour"
           }
          ],
          "contourcarpet": [
           {
            "colorbar": {
             "outlinewidth": 0,
             "ticks": ""
            },
            "type": "contourcarpet"
           }
          ],
          "heatmap": [
           {
            "colorbar": {
             "outlinewidth": 0,
             "ticks": ""
            },
            "colorscale": [
             [
              0,
              "#0d0887"
             ],
             [
              0.1111111111111111,
              "#46039f"
             ],
             [
              0.2222222222222222,
              "#7201a8"
             ],
             [
              0.3333333333333333,
              "#9c179e"
             ],
             [
              0.4444444444444444,
              "#bd3786"
             ],
             [
              0.5555555555555556,
              "#d8576b"
             ],
             [
              0.6666666666666666,
              "#ed7953"
             ],
             [
              0.7777777777777778,
              "#fb9f3a"
             ],
             [
              0.8888888888888888,
              "#fdca26"
             ],
             [
              1,
              "#f0f921"
             ]
            ],
            "type": "heatmap"
           }
          ],
          "heatmapgl": [
           {
            "colorbar": {
             "outlinewidth": 0,
             "ticks": ""
            },
            "colorscale": [
             [
              0,
              "#0d0887"
             ],
             [
              0.1111111111111111,
              "#46039f"
             ],
             [
              0.2222222222222222,
              "#7201a8"
             ],
             [
              0.3333333333333333,
              "#9c179e"
             ],
             [
              0.4444444444444444,
              "#bd3786"
             ],
             [
              0.5555555555555556,
              "#d8576b"
             ],
             [
              0.6666666666666666,
              "#ed7953"
             ],
             [
              0.7777777777777778,
              "#fb9f3a"
             ],
             [
              0.8888888888888888,
              "#fdca26"
             ],
             [
              1,
              "#f0f921"
             ]
            ],
            "type": "heatmapgl"
           }
          ],
          "histogram": [
           {
            "marker": {
             "pattern": {
              "fillmode": "overlay",
              "size": 10,
              "solidity": 0.2
             }
            },
            "type": "histogram"
           }
          ],
          "histogram2d": [
           {
            "colorbar": {
             "outlinewidth": 0,
             "ticks": ""
            },
            "colorscale": [
             [
              0,
              "#0d0887"
             ],
             [
              0.1111111111111111,
              "#46039f"
             ],
             [
              0.2222222222222222,
              "#7201a8"
             ],
             [
              0.3333333333333333,
              "#9c179e"
             ],
             [
              0.4444444444444444,
              "#bd3786"
             ],
             [
              0.5555555555555556,
              "#d8576b"
             ],
             [
              0.6666666666666666,
              "#ed7953"
             ],
             [
              0.7777777777777778,
              "#fb9f3a"
             ],
             [
              0.8888888888888888,
              "#fdca26"
             ],
             [
              1,
              "#f0f921"
             ]
            ],
            "type": "histogram2d"
           }
          ],
          "histogram2dcontour": [
           {
            "colorbar": {
             "outlinewidth": 0,
             "ticks": ""
            },
            "colorscale": [
             [
              0,
              "#0d0887"
             ],
             [
              0.1111111111111111,
              "#46039f"
             ],
             [
              0.2222222222222222,
              "#7201a8"
             ],
             [
              0.3333333333333333,
              "#9c179e"
             ],
             [
              0.4444444444444444,
              "#bd3786"
             ],
             [
              0.5555555555555556,
              "#d8576b"
             ],
             [
              0.6666666666666666,
              "#ed7953"
             ],
             [
              0.7777777777777778,
              "#fb9f3a"
             ],
             [
              0.8888888888888888,
              "#fdca26"
             ],
             [
              1,
              "#f0f921"
             ]
            ],
            "type": "histogram2dcontour"
           }
          ],
          "mesh3d": [
           {
            "colorbar": {
             "outlinewidth": 0,
             "ticks": ""
            },
            "type": "mesh3d"
           }
          ],
          "parcoords": [
           {
            "line": {
             "colorbar": {
              "outlinewidth": 0,
              "ticks": ""
             }
            },
            "type": "parcoords"
           }
          ],
          "pie": [
           {
            "automargin": true,
            "type": "pie"
           }
          ],
          "scatter": [
           {
            "fillpattern": {
             "fillmode": "overlay",
             "size": 10,
             "solidity": 0.2
            },
            "type": "scatter"
           }
          ],
          "scatter3d": [
           {
            "line": {
             "colorbar": {
              "outlinewidth": 0,
              "ticks": ""
             }
            },
            "marker": {
             "colorbar": {
              "outlinewidth": 0,
              "ticks": ""
             }
            },
            "type": "scatter3d"
           }
          ],
          "scattercarpet": [
           {
            "marker": {
             "colorbar": {
              "outlinewidth": 0,
              "ticks": ""
             }
            },
            "type": "scattercarpet"
           }
          ],
          "scattergeo": [
           {
            "marker": {
             "colorbar": {
              "outlinewidth": 0,
              "ticks": ""
             }
            },
            "type": "scattergeo"
           }
          ],
          "scattergl": [
           {
            "marker": {
             "colorbar": {
              "outlinewidth": 0,
              "ticks": ""
             }
            },
            "type": "scattergl"
           }
          ],
          "scattermapbox": [
           {
            "marker": {
             "colorbar": {
              "outlinewidth": 0,
              "ticks": ""
             }
            },
            "type": "scattermapbox"
           }
          ],
          "scatterpolar": [
           {
            "marker": {
             "colorbar": {
              "outlinewidth": 0,
              "ticks": ""
             }
            },
            "type": "scatterpolar"
           }
          ],
          "scatterpolargl": [
           {
            "marker": {
             "colorbar": {
              "outlinewidth": 0,
              "ticks": ""
             }
            },
            "type": "scatterpolargl"
           }
          ],
          "scatterternary": [
           {
            "marker": {
             "colorbar": {
              "outlinewidth": 0,
              "ticks": ""
             }
            },
            "type": "scatterternary"
           }
          ],
          "surface": [
           {
            "colorbar": {
             "outlinewidth": 0,
             "ticks": ""
            },
            "colorscale": [
             [
              0,
              "#0d0887"
             ],
             [
              0.1111111111111111,
              "#46039f"
             ],
             [
              0.2222222222222222,
              "#7201a8"
             ],
             [
              0.3333333333333333,
              "#9c179e"
             ],
             [
              0.4444444444444444,
              "#bd3786"
             ],
             [
              0.5555555555555556,
              "#d8576b"
             ],
             [
              0.6666666666666666,
              "#ed7953"
             ],
             [
              0.7777777777777778,
              "#fb9f3a"
             ],
             [
              0.8888888888888888,
              "#fdca26"
             ],
             [
              1,
              "#f0f921"
             ]
            ],
            "type": "surface"
           }
          ],
          "table": [
           {
            "cells": {
             "fill": {
              "color": "#EBF0F8"
             },
             "line": {
              "color": "white"
             }
            },
            "header": {
             "fill": {
              "color": "#C8D4E3"
             },
             "line": {
              "color": "white"
             }
            },
            "type": "table"
           }
          ]
         },
         "layout": {
          "annotationdefaults": {
           "arrowcolor": "#2a3f5f",
           "arrowhead": 0,
           "arrowwidth": 1
          },
          "autotypenumbers": "strict",
          "coloraxis": {
           "colorbar": {
            "outlinewidth": 0,
            "ticks": ""
           }
          },
          "colorscale": {
           "diverging": [
            [
             0,
             "#8e0152"
            ],
            [
             0.1,
             "#c51b7d"
            ],
            [
             0.2,
             "#de77ae"
            ],
            [
             0.3,
             "#f1b6da"
            ],
            [
             0.4,
             "#fde0ef"
            ],
            [
             0.5,
             "#f7f7f7"
            ],
            [
             0.6,
             "#e6f5d0"
            ],
            [
             0.7,
             "#b8e186"
            ],
            [
             0.8,
             "#7fbc41"
            ],
            [
             0.9,
             "#4d9221"
            ],
            [
             1,
             "#276419"
            ]
           ],
           "sequential": [
            [
             0,
             "#0d0887"
            ],
            [
             0.1111111111111111,
             "#46039f"
            ],
            [
             0.2222222222222222,
             "#7201a8"
            ],
            [
             0.3333333333333333,
             "#9c179e"
            ],
            [
             0.4444444444444444,
             "#bd3786"
            ],
            [
             0.5555555555555556,
             "#d8576b"
            ],
            [
             0.6666666666666666,
             "#ed7953"
            ],
            [
             0.7777777777777778,
             "#fb9f3a"
            ],
            [
             0.8888888888888888,
             "#fdca26"
            ],
            [
             1,
             "#f0f921"
            ]
           ],
           "sequentialminus": [
            [
             0,
             "#0d0887"
            ],
            [
             0.1111111111111111,
             "#46039f"
            ],
            [
             0.2222222222222222,
             "#7201a8"
            ],
            [
             0.3333333333333333,
             "#9c179e"
            ],
            [
             0.4444444444444444,
             "#bd3786"
            ],
            [
             0.5555555555555556,
             "#d8576b"
            ],
            [
             0.6666666666666666,
             "#ed7953"
            ],
            [
             0.7777777777777778,
             "#fb9f3a"
            ],
            [
             0.8888888888888888,
             "#fdca26"
            ],
            [
             1,
             "#f0f921"
            ]
           ]
          },
          "colorway": [
           "#636efa",
           "#EF553B",
           "#00cc96",
           "#ab63fa",
           "#FFA15A",
           "#19d3f3",
           "#FF6692",
           "#B6E880",
           "#FF97FF",
           "#FECB52"
          ],
          "font": {
           "color": "#2a3f5f"
          },
          "geo": {
           "bgcolor": "white",
           "lakecolor": "white",
           "landcolor": "#E5ECF6",
           "showlakes": true,
           "showland": true,
           "subunitcolor": "white"
          },
          "hoverlabel": {
           "align": "left"
          },
          "hovermode": "closest",
          "mapbox": {
           "style": "light"
          },
          "paper_bgcolor": "white",
          "plot_bgcolor": "#E5ECF6",
          "polar": {
           "angularaxis": {
            "gridcolor": "white",
            "linecolor": "white",
            "ticks": ""
           },
           "bgcolor": "#E5ECF6",
           "radialaxis": {
            "gridcolor": "white",
            "linecolor": "white",
            "ticks": ""
           }
          },
          "scene": {
           "xaxis": {
            "backgroundcolor": "#E5ECF6",
            "gridcolor": "white",
            "gridwidth": 2,
            "linecolor": "white",
            "showbackground": true,
            "ticks": "",
            "zerolinecolor": "white"
           },
           "yaxis": {
            "backgroundcolor": "#E5ECF6",
            "gridcolor": "white",
            "gridwidth": 2,
            "linecolor": "white",
            "showbackground": true,
            "ticks": "",
            "zerolinecolor": "white"
           },
           "zaxis": {
            "backgroundcolor": "#E5ECF6",
            "gridcolor": "white",
            "gridwidth": 2,
            "linecolor": "white",
            "showbackground": true,
            "ticks": "",
            "zerolinecolor": "white"
           }
          },
          "shapedefaults": {
           "line": {
            "color": "#2a3f5f"
           }
          },
          "ternary": {
           "aaxis": {
            "gridcolor": "white",
            "linecolor": "white",
            "ticks": ""
           },
           "baxis": {
            "gridcolor": "white",
            "linecolor": "white",
            "ticks": ""
           },
           "bgcolor": "#E5ECF6",
           "caxis": {
            "gridcolor": "white",
            "linecolor": "white",
            "ticks": ""
           }
          },
          "title": {
           "x": 0.05
          },
          "xaxis": {
           "automargin": true,
           "gridcolor": "white",
           "linecolor": "white",
           "ticks": "",
           "title": {
            "standoff": 15
           },
           "zerolinecolor": "white",
           "zerolinewidth": 2
          },
          "yaxis": {
           "automargin": true,
           "gridcolor": "white",
           "linecolor": "white",
           "ticks": "",
           "title": {
            "standoff": 15
           },
           "zerolinecolor": "white",
           "zerolinewidth": 2
          }
         }
        },
        "title": {
         "text": "Global Mean Decrease in Accuracy (MDA)"
        },
        "xaxis": {
         "anchor": "y",
         "domain": [
          0,
          1
         ],
         "title": {
          "text": "Feature"
         }
        },
        "yaxis": {
         "anchor": "x",
         "domain": [
          0,
          1
         ],
         "title": {
          "text": "MDA"
         }
        }
       }
      }
     },
     "metadata": {},
     "output_type": "display_data"
    }
   ],
   "source": [
    "# Extract the global MDA (mean decrease in accuracy)\n",
    "t.react_into_trainee(action_feature=action_features[0], mda_robust=True, residuals=True)\n",
    "global_mda = t.get_prediction_stats(action_feature=action_features[0], stats=['mda'])\n",
    "plot_feature_importances(global_mda, title=\"Global Mean Decrease in Accuracy (MDA)\", yaxis_title=\"MDA\")"
   ]
  },
  {
   "attachments": {},
   "cell_type": "markdown",
   "id": "0124c8fb-f73e-4c32-a3c8-616c873cc89c",
   "metadata": {},
   "source": [
    "## Feature uncertainty (global)\n",
    "\n",
    "Are there any noisy features? \n",
    "\n",
    "Howso Engine’s performance is robust against noisy feature[s], and can maintain a high level of accuracy despite noisy data. \n",
    "\n",
    "Part of the reason  Howso Engine can maintain the level of performance despite noisy data is through characterization of feature uncertainties (residuals). The feature residuals can be extracted for user review. Note, the residuals are in the same units as the original features which makes it easy to interpret. For example, the residual for the “age” feature has the unit of years as in the original data.\n",
    "\n",
    "Feature residuals are available at the global level (overall model) and at the local level (regional model for each case).\n"
   ]
  },
  {
   "cell_type": "code",
   "execution_count": 7,
   "id": "d9307608-5e5e-48ee-8c3a-f7eac3ef7469",
   "metadata": {},
   "outputs": [
    {
     "data": {
      "text/html": [
       "<div>\n",
       "<style scoped>\n",
       "    .dataframe tbody tr th:only-of-type {\n",
       "        vertical-align: middle;\n",
       "    }\n",
       "\n",
       "    .dataframe tbody tr th {\n",
       "        vertical-align: top;\n",
       "    }\n",
       "\n",
       "    .dataframe thead th {\n",
       "        text-align: right;\n",
       "    }\n",
       "</style>\n",
       "<table border=\"1\" class=\"dataframe\">\n",
       "  <thead>\n",
       "    <tr style=\"text-align: right;\">\n",
       "      <th></th>\n",
       "      <th>residuals</th>\n",
       "    </tr>\n",
       "  </thead>\n",
       "  <tbody>\n",
       "    <tr>\n",
       "      <th>fnlwgt</th>\n",
       "      <td>79434.366494</td>\n",
       "    </tr>\n",
       "    <tr>\n",
       "      <th>capital-gain</th>\n",
       "      <td>1644.320836</td>\n",
       "    </tr>\n",
       "    <tr>\n",
       "      <th>age</th>\n",
       "      <td>11.656583</td>\n",
       "    </tr>\n",
       "    <tr>\n",
       "      <th>hours-per-week</th>\n",
       "      <td>8.188927</td>\n",
       "    </tr>\n",
       "    <tr>\n",
       "      <th>occupation</th>\n",
       "      <td>0.907231</td>\n",
       "    </tr>\n",
       "    <tr>\n",
       "      <th>education</th>\n",
       "      <td>0.814623</td>\n",
       "    </tr>\n",
       "    <tr>\n",
       "      <th>education-num</th>\n",
       "      <td>0.814623</td>\n",
       "    </tr>\n",
       "    <tr>\n",
       "      <th>relationship</th>\n",
       "      <td>0.715555</td>\n",
       "    </tr>\n",
       "    <tr>\n",
       "      <th>marital-status</th>\n",
       "      <td>0.656280</td>\n",
       "    </tr>\n",
       "    <tr>\n",
       "      <th>workclass</th>\n",
       "      <td>0.463741</td>\n",
       "    </tr>\n",
       "  </tbody>\n",
       "</table>\n",
       "</div>"
      ],
      "text/plain": [
       "                   residuals\n",
       "fnlwgt          79434.366494\n",
       "capital-gain     1644.320836\n",
       "age                11.656583\n",
       "hours-per-week      8.188927\n",
       "occupation          0.907231\n",
       "education           0.814623\n",
       "education-num       0.814623\n",
       "relationship        0.715555\n",
       "marital-status      0.656280\n",
       "workclass           0.463741"
      ]
     },
     "execution_count": 7,
     "metadata": {},
     "output_type": "execute_result"
    }
   ],
   "source": [
    "# Global feature residuals\n",
    "global_feature_residuals = t.get_prediction_stats(stats=['mae']).T.rename(columns={'mae':'residuals'}).sort_values('residuals', ascending=False)\n",
    "global_feature_residuals.iloc[0:10]"
   ]
  },
  {
   "attachments": {},
   "cell_type": "markdown",
   "id": "8a76584f-341d-4102-9887-e274de58a861",
   "metadata": {},
   "source": [
    "# \"Show me...\"\n",
    "\n",
    "Howso Engine can be used to show interesting information pertaining to the data and model, such as anomalous cases and potential model improvements. \n",
    " \n",
    "For each prediction, Howso Engine can also extract the influential cases and boundary cases to provide an exact explanation to the prediction process. More details on what’s available can be found in the notebook “2-interpretability.ipynb”.\n"
   ]
  },
  {
   "attachments": {},
   "cell_type": "markdown",
   "id": "652f7abc-e818-4c6b-8fd4-c1dd1cbd5736",
   "metadata": {},
   "source": [
    "## Anomalous cases\n",
    "\n",
    "Anomalous cases can exist in the data as either an outlier or inlier. Outliers are cases which are very different than other cases. Inliers are cases which are too similar to other cases and do not follow the expected distribution. Inliers can be an indication of a fraudulent case that is “too good to be true”. \n",
    "\n"
   ]
  },
  {
   "cell_type": "code",
   "execution_count": 8,
   "id": "0e0e3259-cdb2-4162-b67a-30a5813c5c42",
   "metadata": {},
   "outputs": [
    {
     "data": {
      "text/html": [
       "<div>\n",
       "<style scoped>\n",
       "    .dataframe tbody tr th:only-of-type {\n",
       "        vertical-align: middle;\n",
       "    }\n",
       "\n",
       "    .dataframe tbody tr th {\n",
       "        vertical-align: top;\n",
       "    }\n",
       "\n",
       "    .dataframe thead th {\n",
       "        text-align: right;\n",
       "    }\n",
       "</style>\n",
       "<table border=\"1\" class=\"dataframe\">\n",
       "  <thead>\n",
       "    <tr style=\"text-align: right;\">\n",
       "      <th></th>\n",
       "      <th>age</th>\n",
       "      <th>workclass</th>\n",
       "      <th>fnlwgt</th>\n",
       "      <th>education</th>\n",
       "      <th>education-num</th>\n",
       "      <th>marital-status</th>\n",
       "      <th>occupation</th>\n",
       "      <th>relationship</th>\n",
       "      <th>race</th>\n",
       "      <th>sex</th>\n",
       "      <th>capital-gain</th>\n",
       "      <th>capital-loss</th>\n",
       "      <th>hours-per-week</th>\n",
       "      <th>native-country</th>\n",
       "      <th>target</th>\n",
       "      <th>familiarity_conviction_addition</th>\n",
       "      <th>.session_training_index</th>\n",
       "      <th>.session</th>\n",
       "      <th>distance_contribution</th>\n",
       "    </tr>\n",
       "  </thead>\n",
       "  <tbody>\n",
       "    <tr>\n",
       "      <th>0</th>\n",
       "      <td>57</td>\n",
       "      <td>Private</td>\n",
       "      <td>298507</td>\n",
       "      <td>Bachelors</td>\n",
       "      <td>13</td>\n",
       "      <td>Married-civ-spouse</td>\n",
       "      <td>Prof-specialty</td>\n",
       "      <td>Husband</td>\n",
       "      <td>White</td>\n",
       "      <td>Male</td>\n",
       "      <td>3103</td>\n",
       "      <td>0</td>\n",
       "      <td>40</td>\n",
       "      <td>United-States</td>\n",
       "      <td>&gt;50K</td>\n",
       "      <td>1.399090</td>\n",
       "      <td>0</td>\n",
       "      <td>e2137036-b16c-4ec0-9a89-55717650f6ef</td>\n",
       "      <td>10.456274</td>\n",
       "    </tr>\n",
       "    <tr>\n",
       "      <th>1</th>\n",
       "      <td>20</td>\n",
       "      <td>Private</td>\n",
       "      <td>316702</td>\n",
       "      <td>Some-college</td>\n",
       "      <td>10</td>\n",
       "      <td>Never-married</td>\n",
       "      <td>Prof-specialty</td>\n",
       "      <td>Own-child</td>\n",
       "      <td>White</td>\n",
       "      <td>Male</td>\n",
       "      <td>0</td>\n",
       "      <td>0</td>\n",
       "      <td>20</td>\n",
       "      <td>United-States</td>\n",
       "      <td>&lt;=50K</td>\n",
       "      <td>1.131043</td>\n",
       "      <td>1</td>\n",
       "      <td>e2137036-b16c-4ec0-9a89-55717650f6ef</td>\n",
       "      <td>9.727783</td>\n",
       "    </tr>\n",
       "    <tr>\n",
       "      <th>2</th>\n",
       "      <td>50</td>\n",
       "      <td>Private</td>\n",
       "      <td>40623</td>\n",
       "      <td>Some-college</td>\n",
       "      <td>10</td>\n",
       "      <td>Divorced</td>\n",
       "      <td>Sales</td>\n",
       "      <td>Not-in-family</td>\n",
       "      <td>White</td>\n",
       "      <td>Female</td>\n",
       "      <td>0</td>\n",
       "      <td>0</td>\n",
       "      <td>40</td>\n",
       "      <td>United-States</td>\n",
       "      <td>&lt;=50K</td>\n",
       "      <td>1.761223</td>\n",
       "      <td>2</td>\n",
       "      <td>e2137036-b16c-4ec0-9a89-55717650f6ef</td>\n",
       "      <td>11.807217</td>\n",
       "    </tr>\n",
       "    <tr>\n",
       "      <th>3</th>\n",
       "      <td>27</td>\n",
       "      <td>Private</td>\n",
       "      <td>194590</td>\n",
       "      <td>Assoc-acdm</td>\n",
       "      <td>12</td>\n",
       "      <td>Married-civ-spouse</td>\n",
       "      <td>Adm-clerical</td>\n",
       "      <td>Wife</td>\n",
       "      <td>Black</td>\n",
       "      <td>Female</td>\n",
       "      <td>0</td>\n",
       "      <td>0</td>\n",
       "      <td>25</td>\n",
       "      <td>United-States</td>\n",
       "      <td>&lt;=50K</td>\n",
       "      <td>0.956403</td>\n",
       "      <td>3</td>\n",
       "      <td>e2137036-b16c-4ec0-9a89-55717650f6ef</td>\n",
       "      <td>49.226416</td>\n",
       "    </tr>\n",
       "    <tr>\n",
       "      <th>4</th>\n",
       "      <td>18</td>\n",
       "      <td>Federal-gov</td>\n",
       "      <td>101709</td>\n",
       "      <td>11th</td>\n",
       "      <td>7</td>\n",
       "      <td>Never-married</td>\n",
       "      <td>Other-service</td>\n",
       "      <td>Own-child</td>\n",
       "      <td>Asian-Pac-Islander</td>\n",
       "      <td>Male</td>\n",
       "      <td>0</td>\n",
       "      <td>0</td>\n",
       "      <td>15</td>\n",
       "      <td>Philippines</td>\n",
       "      <td>&lt;=50K</td>\n",
       "      <td>0.349602</td>\n",
       "      <td>4</td>\n",
       "      <td>e2137036-b16c-4ec0-9a89-55717650f6ef</td>\n",
       "      <td>73.650080</td>\n",
       "    </tr>\n",
       "    <tr>\n",
       "      <th>...</th>\n",
       "      <td>...</td>\n",
       "      <td>...</td>\n",
       "      <td>...</td>\n",
       "      <td>...</td>\n",
       "      <td>...</td>\n",
       "      <td>...</td>\n",
       "      <td>...</td>\n",
       "      <td>...</td>\n",
       "      <td>...</td>\n",
       "      <td>...</td>\n",
       "      <td>...</td>\n",
       "      <td>...</td>\n",
       "      <td>...</td>\n",
       "      <td>...</td>\n",
       "      <td>...</td>\n",
       "      <td>...</td>\n",
       "      <td>...</td>\n",
       "      <td>...</td>\n",
       "      <td>...</td>\n",
       "    </tr>\n",
       "    <tr>\n",
       "      <th>995</th>\n",
       "      <td>19</td>\n",
       "      <td>Private</td>\n",
       "      <td>293928</td>\n",
       "      <td>HS-grad</td>\n",
       "      <td>9</td>\n",
       "      <td>Never-married</td>\n",
       "      <td>Adm-clerical</td>\n",
       "      <td>Own-child</td>\n",
       "      <td>White</td>\n",
       "      <td>Female</td>\n",
       "      <td>0</td>\n",
       "      <td>0</td>\n",
       "      <td>20</td>\n",
       "      <td>United-States</td>\n",
       "      <td>&lt;=50K</td>\n",
       "      <td>0.728085</td>\n",
       "      <td>995</td>\n",
       "      <td>e2137036-b16c-4ec0-9a89-55717650f6ef</td>\n",
       "      <td>7.263543</td>\n",
       "    </tr>\n",
       "    <tr>\n",
       "      <th>996</th>\n",
       "      <td>20</td>\n",
       "      <td>Private</td>\n",
       "      <td>194630</td>\n",
       "      <td>HS-grad</td>\n",
       "      <td>9</td>\n",
       "      <td>Never-married</td>\n",
       "      <td>Sales</td>\n",
       "      <td>Not-in-family</td>\n",
       "      <td>White</td>\n",
       "      <td>Male</td>\n",
       "      <td>0</td>\n",
       "      <td>0</td>\n",
       "      <td>40</td>\n",
       "      <td>United-States</td>\n",
       "      <td>&lt;=50K</td>\n",
       "      <td>0.442983</td>\n",
       "      <td>996</td>\n",
       "      <td>e2137036-b16c-4ec0-9a89-55717650f6ef</td>\n",
       "      <td>4.764119</td>\n",
       "    </tr>\n",
       "    <tr>\n",
       "      <th>997</th>\n",
       "      <td>59</td>\n",
       "      <td>Private</td>\n",
       "      <td>314149</td>\n",
       "      <td>Assoc-voc</td>\n",
       "      <td>11</td>\n",
       "      <td>Married-civ-spouse</td>\n",
       "      <td>Sales</td>\n",
       "      <td>Husband</td>\n",
       "      <td>White</td>\n",
       "      <td>Male</td>\n",
       "      <td>0</td>\n",
       "      <td>1740</td>\n",
       "      <td>50</td>\n",
       "      <td>United-States</td>\n",
       "      <td>&lt;=50K</td>\n",
       "      <td>0.723027</td>\n",
       "      <td>997</td>\n",
       "      <td>e2137036-b16c-4ec0-9a89-55717650f6ef</td>\n",
       "      <td>54.322125</td>\n",
       "    </tr>\n",
       "    <tr>\n",
       "      <th>998</th>\n",
       "      <td>34</td>\n",
       "      <td>Self-emp-not-inc</td>\n",
       "      <td>288486</td>\n",
       "      <td>11th</td>\n",
       "      <td>7</td>\n",
       "      <td>Married-civ-spouse</td>\n",
       "      <td>Craft-repair</td>\n",
       "      <td>Husband</td>\n",
       "      <td>White</td>\n",
       "      <td>Male</td>\n",
       "      <td>0</td>\n",
       "      <td>0</td>\n",
       "      <td>40</td>\n",
       "      <td>United-States</td>\n",
       "      <td>&lt;=50K</td>\n",
       "      <td>0.698722</td>\n",
       "      <td>998</td>\n",
       "      <td>e2137036-b16c-4ec0-9a89-55717650f6ef</td>\n",
       "      <td>8.160336</td>\n",
       "    </tr>\n",
       "    <tr>\n",
       "      <th>999</th>\n",
       "      <td>53</td>\n",
       "      <td>?</td>\n",
       "      <td>199665</td>\n",
       "      <td>Bachelors</td>\n",
       "      <td>13</td>\n",
       "      <td>Married-civ-spouse</td>\n",
       "      <td>?</td>\n",
       "      <td>Husband</td>\n",
       "      <td>White</td>\n",
       "      <td>Male</td>\n",
       "      <td>0</td>\n",
       "      <td>0</td>\n",
       "      <td>30</td>\n",
       "      <td>United-States</td>\n",
       "      <td>&gt;50K</td>\n",
       "      <td>322.714794</td>\n",
       "      <td>999</td>\n",
       "      <td>e2137036-b16c-4ec0-9a89-55717650f6ef</td>\n",
       "      <td>22.482679</td>\n",
       "    </tr>\n",
       "  </tbody>\n",
       "</table>\n",
       "<p>1000 rows × 19 columns</p>\n",
       "</div>"
      ],
      "text/plain": [
       "     age          workclass  fnlwgt      education  education-num  \\\n",
       "0     57            Private  298507      Bachelors             13   \n",
       "1     20            Private  316702   Some-college             10   \n",
       "2     50            Private   40623   Some-college             10   \n",
       "3     27            Private  194590     Assoc-acdm             12   \n",
       "4     18        Federal-gov  101709           11th              7   \n",
       "..   ...                ...     ...            ...            ...   \n",
       "995   19            Private  293928        HS-grad              9   \n",
       "996   20            Private  194630        HS-grad              9   \n",
       "997   59            Private  314149      Assoc-voc             11   \n",
       "998   34   Self-emp-not-inc  288486           11th              7   \n",
       "999   53                  ?  199665      Bachelors             13   \n",
       "\n",
       "          marital-status       occupation    relationship  \\\n",
       "0     Married-civ-spouse   Prof-specialty         Husband   \n",
       "1          Never-married   Prof-specialty       Own-child   \n",
       "2               Divorced            Sales   Not-in-family   \n",
       "3     Married-civ-spouse     Adm-clerical            Wife   \n",
       "4          Never-married    Other-service       Own-child   \n",
       "..                   ...              ...             ...   \n",
       "995        Never-married     Adm-clerical       Own-child   \n",
       "996        Never-married            Sales   Not-in-family   \n",
       "997   Married-civ-spouse            Sales         Husband   \n",
       "998   Married-civ-spouse     Craft-repair         Husband   \n",
       "999   Married-civ-spouse                ?         Husband   \n",
       "\n",
       "                    race      sex  capital-gain  capital-loss  hours-per-week  \\\n",
       "0                  White     Male          3103             0              40   \n",
       "1                  White     Male             0             0              20   \n",
       "2                  White   Female             0             0              40   \n",
       "3                  Black   Female             0             0              25   \n",
       "4     Asian-Pac-Islander     Male             0             0              15   \n",
       "..                   ...      ...           ...           ...             ...   \n",
       "995                White   Female             0             0              20   \n",
       "996                White     Male             0             0              40   \n",
       "997                White     Male             0          1740              50   \n",
       "998                White     Male             0             0              40   \n",
       "999                White     Male             0             0              30   \n",
       "\n",
       "     native-country  target  familiarity_conviction_addition  \\\n",
       "0     United-States    >50K                         1.399090   \n",
       "1     United-States   <=50K                         1.131043   \n",
       "2     United-States   <=50K                         1.761223   \n",
       "3     United-States   <=50K                         0.956403   \n",
       "4       Philippines   <=50K                         0.349602   \n",
       "..              ...     ...                              ...   \n",
       "995   United-States   <=50K                         0.728085   \n",
       "996   United-States   <=50K                         0.442983   \n",
       "997   United-States   <=50K                         0.723027   \n",
       "998   United-States   <=50K                         0.698722   \n",
       "999   United-States    >50K                       322.714794   \n",
       "\n",
       "     .session_training_index                              .session  \\\n",
       "0                          0  e2137036-b16c-4ec0-9a89-55717650f6ef   \n",
       "1                          1  e2137036-b16c-4ec0-9a89-55717650f6ef   \n",
       "2                          2  e2137036-b16c-4ec0-9a89-55717650f6ef   \n",
       "3                          3  e2137036-b16c-4ec0-9a89-55717650f6ef   \n",
       "4                          4  e2137036-b16c-4ec0-9a89-55717650f6ef   \n",
       "..                       ...                                   ...   \n",
       "995                      995  e2137036-b16c-4ec0-9a89-55717650f6ef   \n",
       "996                      996  e2137036-b16c-4ec0-9a89-55717650f6ef   \n",
       "997                      997  e2137036-b16c-4ec0-9a89-55717650f6ef   \n",
       "998                      998  e2137036-b16c-4ec0-9a89-55717650f6ef   \n",
       "999                      999  e2137036-b16c-4ec0-9a89-55717650f6ef   \n",
       "\n",
       "     distance_contribution  \n",
       "0                10.456274  \n",
       "1                 9.727783  \n",
       "2                11.807217  \n",
       "3                49.226416  \n",
       "4                73.650080  \n",
       "..                     ...  \n",
       "995               7.263543  \n",
       "996               4.764119  \n",
       "997              54.322125  \n",
       "998               8.160336  \n",
       "999              22.482679  \n",
       "\n",
       "[1000 rows x 19 columns]"
      ]
     },
     "execution_count": 8,
     "metadata": {},
     "output_type": "execute_result"
    }
   ],
   "source": [
    "# Store the familiarity conviction, this will be used to identify anomalous cases\n",
    "t.analyze()\n",
    "t.react_into_features(familiarity_conviction_addition=True, distance_contribution=True)\n",
    "stored_convictions = t.get_cases(session=t.active_session, features=df.columns.tolist() + ['familiarity_conviction_addition','.session_training_index', '.session', 'distance_contribution'])\n",
    "\n",
    "stored_convictions"
   ]
  },
  {
   "cell_type": "code",
   "execution_count": 9,
   "id": "141c81ca-49d5-4203-85a0-bba3062da817",
   "metadata": {},
   "outputs": [],
   "source": [
    "# Threshold to determine which cases will be deemed anomalous\n",
    "convict_threshold = 0.75\n",
    "\n",
    "# Extract the anomalous cases\n",
    "low_convicts = stored_convictions[stored_convictions['familiarity_conviction_addition'] <= convict_threshold ].sort_values('familiarity_conviction_addition', ascending=True)\n",
    "\n",
    "# Average distance contribution will be used to determine if a case is an outlier or inlier\n",
    "average_dist_contribution = low_convicts['distance_contribution'].mean()\n",
    "\n",
    "# A case with distance contribution greater than average will be tagged as outlier, and vise versa for inliers\n",
    "cat = ['inlier' if d < average_dist_contribution else 'outlier' for d in low_convicts['distance_contribution']]\n",
    "low_convicts['category'] = cat"
   ]
  },
  {
   "attachments": {},
   "cell_type": "markdown",
   "id": "1cd260bd-e4e7-4ce1-8dec-4f7b046b07b5",
   "metadata": {},
   "source": [
    "## Outliers\n",
    "\n",
    "Let’s examine a few outlier cases. Outliers are cases which are very different than other cases."
   ]
  },
  {
   "cell_type": "code",
   "execution_count": 10,
   "id": "b34e8a80-02c6-4fd4-9236-67268b02c220",
   "metadata": {},
   "outputs": [
    {
     "data": {
      "text/html": [
       "<div>\n",
       "<style scoped>\n",
       "    .dataframe tbody tr th:only-of-type {\n",
       "        vertical-align: middle;\n",
       "    }\n",
       "\n",
       "    .dataframe tbody tr th {\n",
       "        vertical-align: top;\n",
       "    }\n",
       "\n",
       "    .dataframe thead th {\n",
       "        text-align: right;\n",
       "    }\n",
       "</style>\n",
       "<table border=\"1\" class=\"dataframe\">\n",
       "  <thead>\n",
       "    <tr style=\"text-align: right;\">\n",
       "      <th></th>\n",
       "      <th>age</th>\n",
       "      <th>workclass</th>\n",
       "      <th>fnlwgt</th>\n",
       "      <th>education</th>\n",
       "      <th>education-num</th>\n",
       "      <th>marital-status</th>\n",
       "      <th>occupation</th>\n",
       "      <th>relationship</th>\n",
       "      <th>race</th>\n",
       "      <th>sex</th>\n",
       "      <th>capital-gain</th>\n",
       "      <th>capital-loss</th>\n",
       "      <th>hours-per-week</th>\n",
       "      <th>native-country</th>\n",
       "      <th>target</th>\n",
       "      <th>familiarity_conviction_addition</th>\n",
       "      <th>.session_training_index</th>\n",
       "      <th>.session</th>\n",
       "      <th>distance_contribution</th>\n",
       "      <th>category</th>\n",
       "    </tr>\n",
       "  </thead>\n",
       "  <tbody>\n",
       "    <tr>\n",
       "      <th>0</th>\n",
       "      <td>21</td>\n",
       "      <td>Private</td>\n",
       "      <td>334618</td>\n",
       "      <td>Some-college</td>\n",
       "      <td>10</td>\n",
       "      <td>Never-married</td>\n",
       "      <td>Protective-serv</td>\n",
       "      <td>Not-in-family</td>\n",
       "      <td>Black</td>\n",
       "      <td>Female</td>\n",
       "      <td>99999</td>\n",
       "      <td>0</td>\n",
       "      <td>40</td>\n",
       "      <td>United-States</td>\n",
       "      <td>&gt;50K</td>\n",
       "      <td>0.074864</td>\n",
       "      <td>386</td>\n",
       "      <td>e2137036-b16c-4ec0-9a89-55717650f6ef</td>\n",
       "      <td>182.084514</td>\n",
       "      <td>outlier</td>\n",
       "    </tr>\n",
       "    <tr>\n",
       "      <th>1</th>\n",
       "      <td>32</td>\n",
       "      <td>Private</td>\n",
       "      <td>170154</td>\n",
       "      <td>Assoc-acdm</td>\n",
       "      <td>12</td>\n",
       "      <td>Separated</td>\n",
       "      <td>Exec-managerial</td>\n",
       "      <td>Unmarried</td>\n",
       "      <td>White</td>\n",
       "      <td>Female</td>\n",
       "      <td>25236</td>\n",
       "      <td>0</td>\n",
       "      <td>50</td>\n",
       "      <td>United-States</td>\n",
       "      <td>&gt;50K</td>\n",
       "      <td>0.142306</td>\n",
       "      <td>338</td>\n",
       "      <td>e2137036-b16c-4ec0-9a89-55717650f6ef</td>\n",
       "      <td>119.650491</td>\n",
       "      <td>outlier</td>\n",
       "    </tr>\n",
       "    <tr>\n",
       "      <th>2</th>\n",
       "      <td>64</td>\n",
       "      <td>Private</td>\n",
       "      <td>251292</td>\n",
       "      <td>5th-6th</td>\n",
       "      <td>3</td>\n",
       "      <td>Separated</td>\n",
       "      <td>Other-service</td>\n",
       "      <td>Other-relative</td>\n",
       "      <td>White</td>\n",
       "      <td>Female</td>\n",
       "      <td>0</td>\n",
       "      <td>0</td>\n",
       "      <td>20</td>\n",
       "      <td>Cuba</td>\n",
       "      <td>&lt;=50K</td>\n",
       "      <td>0.174243</td>\n",
       "      <td>969</td>\n",
       "      <td>e2137036-b16c-4ec0-9a89-55717650f6ef</td>\n",
       "      <td>106.140199</td>\n",
       "      <td>outlier</td>\n",
       "    </tr>\n",
       "    <tr>\n",
       "      <th>3</th>\n",
       "      <td>32</td>\n",
       "      <td>Self-emp-not-inc</td>\n",
       "      <td>180303</td>\n",
       "      <td>Bachelors</td>\n",
       "      <td>13</td>\n",
       "      <td>Divorced</td>\n",
       "      <td>Craft-repair</td>\n",
       "      <td>Unmarried</td>\n",
       "      <td>Asian-Pac-Islander</td>\n",
       "      <td>Male</td>\n",
       "      <td>0</td>\n",
       "      <td>0</td>\n",
       "      <td>47</td>\n",
       "      <td>Iran</td>\n",
       "      <td>&lt;=50K</td>\n",
       "      <td>0.194136</td>\n",
       "      <td>793</td>\n",
       "      <td>e2137036-b16c-4ec0-9a89-55717650f6ef</td>\n",
       "      <td>99.814908</td>\n",
       "      <td>outlier</td>\n",
       "    </tr>\n",
       "    <tr>\n",
       "      <th>4</th>\n",
       "      <td>30</td>\n",
       "      <td>Private</td>\n",
       "      <td>117747</td>\n",
       "      <td>HS-grad</td>\n",
       "      <td>9</td>\n",
       "      <td>Married-civ-spouse</td>\n",
       "      <td>Sales</td>\n",
       "      <td>Wife</td>\n",
       "      <td>Asian-Pac-Islander</td>\n",
       "      <td>Female</td>\n",
       "      <td>0</td>\n",
       "      <td>1573</td>\n",
       "      <td>35</td>\n",
       "      <td>?</td>\n",
       "      <td>&lt;=50K</td>\n",
       "      <td>0.201693</td>\n",
       "      <td>491</td>\n",
       "      <td>e2137036-b16c-4ec0-9a89-55717650f6ef</td>\n",
       "      <td>97.712945</td>\n",
       "      <td>outlier</td>\n",
       "    </tr>\n",
       "    <tr>\n",
       "      <th>...</th>\n",
       "      <td>...</td>\n",
       "      <td>...</td>\n",
       "      <td>...</td>\n",
       "      <td>...</td>\n",
       "      <td>...</td>\n",
       "      <td>...</td>\n",
       "      <td>...</td>\n",
       "      <td>...</td>\n",
       "      <td>...</td>\n",
       "      <td>...</td>\n",
       "      <td>...</td>\n",
       "      <td>...</td>\n",
       "      <td>...</td>\n",
       "      <td>...</td>\n",
       "      <td>...</td>\n",
       "      <td>...</td>\n",
       "      <td>...</td>\n",
       "      <td>...</td>\n",
       "      <td>...</td>\n",
       "      <td>...</td>\n",
       "    </tr>\n",
       "    <tr>\n",
       "      <th>68</th>\n",
       "      <td>65</td>\n",
       "      <td>?</td>\n",
       "      <td>79272</td>\n",
       "      <td>Some-college</td>\n",
       "      <td>10</td>\n",
       "      <td>Widowed</td>\n",
       "      <td>?</td>\n",
       "      <td>Not-in-family</td>\n",
       "      <td>Asian-Pac-Islander</td>\n",
       "      <td>Female</td>\n",
       "      <td>0</td>\n",
       "      <td>0</td>\n",
       "      <td>6</td>\n",
       "      <td>United-States</td>\n",
       "      <td>&lt;=50K</td>\n",
       "      <td>0.672882</td>\n",
       "      <td>291</td>\n",
       "      <td>e2137036-b16c-4ec0-9a89-55717650f6ef</td>\n",
       "      <td>55.793564</td>\n",
       "      <td>outlier</td>\n",
       "    </tr>\n",
       "    <tr>\n",
       "      <th>69</th>\n",
       "      <td>44</td>\n",
       "      <td>Self-emp-inc</td>\n",
       "      <td>359259</td>\n",
       "      <td>HS-grad</td>\n",
       "      <td>9</td>\n",
       "      <td>Divorced</td>\n",
       "      <td>Craft-repair</td>\n",
       "      <td>Not-in-family</td>\n",
       "      <td>White</td>\n",
       "      <td>Male</td>\n",
       "      <td>0</td>\n",
       "      <td>0</td>\n",
       "      <td>60</td>\n",
       "      <td>Portugal</td>\n",
       "      <td>&lt;=50K</td>\n",
       "      <td>0.685061</td>\n",
       "      <td>988</td>\n",
       "      <td>e2137036-b16c-4ec0-9a89-55717650f6ef</td>\n",
       "      <td>55.426293</td>\n",
       "      <td>outlier</td>\n",
       "    </tr>\n",
       "    <tr>\n",
       "      <th>70</th>\n",
       "      <td>56</td>\n",
       "      <td>Private</td>\n",
       "      <td>295067</td>\n",
       "      <td>Bachelors</td>\n",
       "      <td>13</td>\n",
       "      <td>Never-married</td>\n",
       "      <td>Exec-managerial</td>\n",
       "      <td>Not-in-family</td>\n",
       "      <td>White</td>\n",
       "      <td>Male</td>\n",
       "      <td>14084</td>\n",
       "      <td>0</td>\n",
       "      <td>45</td>\n",
       "      <td>United-States</td>\n",
       "      <td>&gt;50K</td>\n",
       "      <td>0.710745</td>\n",
       "      <td>396</td>\n",
       "      <td>e2137036-b16c-4ec0-9a89-55717650f6ef</td>\n",
       "      <td>50.536023</td>\n",
       "      <td>outlier</td>\n",
       "    </tr>\n",
       "    <tr>\n",
       "      <th>71</th>\n",
       "      <td>59</td>\n",
       "      <td>Private</td>\n",
       "      <td>314149</td>\n",
       "      <td>Assoc-voc</td>\n",
       "      <td>11</td>\n",
       "      <td>Married-civ-spouse</td>\n",
       "      <td>Sales</td>\n",
       "      <td>Husband</td>\n",
       "      <td>White</td>\n",
       "      <td>Male</td>\n",
       "      <td>0</td>\n",
       "      <td>1740</td>\n",
       "      <td>50</td>\n",
       "      <td>United-States</td>\n",
       "      <td>&lt;=50K</td>\n",
       "      <td>0.723027</td>\n",
       "      <td>997</td>\n",
       "      <td>e2137036-b16c-4ec0-9a89-55717650f6ef</td>\n",
       "      <td>54.322125</td>\n",
       "      <td>outlier</td>\n",
       "    </tr>\n",
       "    <tr>\n",
       "      <th>72</th>\n",
       "      <td>65</td>\n",
       "      <td>Federal-gov</td>\n",
       "      <td>325089</td>\n",
       "      <td>10th</td>\n",
       "      <td>6</td>\n",
       "      <td>Divorced</td>\n",
       "      <td>Craft-repair</td>\n",
       "      <td>Unmarried</td>\n",
       "      <td>White</td>\n",
       "      <td>Male</td>\n",
       "      <td>0</td>\n",
       "      <td>0</td>\n",
       "      <td>40</td>\n",
       "      <td>United-States</td>\n",
       "      <td>&lt;=50K</td>\n",
       "      <td>0.748196</td>\n",
       "      <td>25</td>\n",
       "      <td>e2137036-b16c-4ec0-9a89-55717650f6ef</td>\n",
       "      <td>53.619160</td>\n",
       "      <td>outlier</td>\n",
       "    </tr>\n",
       "  </tbody>\n",
       "</table>\n",
       "<p>73 rows × 20 columns</p>\n",
       "</div>"
      ],
      "text/plain": [
       "    age          workclass  fnlwgt      education  education-num  \\\n",
       "0    21            Private  334618   Some-college             10   \n",
       "1    32            Private  170154     Assoc-acdm             12   \n",
       "2    64            Private  251292        5th-6th              3   \n",
       "3    32   Self-emp-not-inc  180303      Bachelors             13   \n",
       "4    30            Private  117747        HS-grad              9   \n",
       "..  ...                ...     ...            ...            ...   \n",
       "68   65                  ?   79272   Some-college             10   \n",
       "69   44       Self-emp-inc  359259        HS-grad              9   \n",
       "70   56            Private  295067      Bachelors             13   \n",
       "71   59            Private  314149      Assoc-voc             11   \n",
       "72   65        Federal-gov  325089           10th              6   \n",
       "\n",
       "         marital-status        occupation     relationship  \\\n",
       "0         Never-married   Protective-serv    Not-in-family   \n",
       "1             Separated   Exec-managerial        Unmarried   \n",
       "2             Separated     Other-service   Other-relative   \n",
       "3              Divorced      Craft-repair        Unmarried   \n",
       "4    Married-civ-spouse             Sales             Wife   \n",
       "..                  ...               ...              ...   \n",
       "68              Widowed                 ?    Not-in-family   \n",
       "69             Divorced      Craft-repair    Not-in-family   \n",
       "70        Never-married   Exec-managerial    Not-in-family   \n",
       "71   Married-civ-spouse             Sales          Husband   \n",
       "72             Divorced      Craft-repair        Unmarried   \n",
       "\n",
       "                   race      sex  capital-gain  capital-loss  hours-per-week  \\\n",
       "0                 Black   Female         99999             0              40   \n",
       "1                 White   Female         25236             0              50   \n",
       "2                 White   Female             0             0              20   \n",
       "3    Asian-Pac-Islander     Male             0             0              47   \n",
       "4    Asian-Pac-Islander   Female             0          1573              35   \n",
       "..                  ...      ...           ...           ...             ...   \n",
       "68   Asian-Pac-Islander   Female             0             0               6   \n",
       "69                White     Male             0             0              60   \n",
       "70                White     Male         14084             0              45   \n",
       "71                White     Male             0          1740              50   \n",
       "72                White     Male             0             0              40   \n",
       "\n",
       "    native-country  target  familiarity_conviction_addition  \\\n",
       "0    United-States    >50K                         0.074864   \n",
       "1    United-States    >50K                         0.142306   \n",
       "2             Cuba   <=50K                         0.174243   \n",
       "3             Iran   <=50K                         0.194136   \n",
       "4                ?   <=50K                         0.201693   \n",
       "..             ...     ...                              ...   \n",
       "68   United-States   <=50K                         0.672882   \n",
       "69        Portugal   <=50K                         0.685061   \n",
       "70   United-States    >50K                         0.710745   \n",
       "71   United-States   <=50K                         0.723027   \n",
       "72   United-States   <=50K                         0.748196   \n",
       "\n",
       "    .session_training_index                              .session  \\\n",
       "0                       386  e2137036-b16c-4ec0-9a89-55717650f6ef   \n",
       "1                       338  e2137036-b16c-4ec0-9a89-55717650f6ef   \n",
       "2                       969  e2137036-b16c-4ec0-9a89-55717650f6ef   \n",
       "3                       793  e2137036-b16c-4ec0-9a89-55717650f6ef   \n",
       "4                       491  e2137036-b16c-4ec0-9a89-55717650f6ef   \n",
       "..                      ...                                   ...   \n",
       "68                      291  e2137036-b16c-4ec0-9a89-55717650f6ef   \n",
       "69                      988  e2137036-b16c-4ec0-9a89-55717650f6ef   \n",
       "70                      396  e2137036-b16c-4ec0-9a89-55717650f6ef   \n",
       "71                      997  e2137036-b16c-4ec0-9a89-55717650f6ef   \n",
       "72                       25  e2137036-b16c-4ec0-9a89-55717650f6ef   \n",
       "\n",
       "    distance_contribution category  \n",
       "0              182.084514  outlier  \n",
       "1              119.650491  outlier  \n",
       "2              106.140199  outlier  \n",
       "3               99.814908  outlier  \n",
       "4               97.712945  outlier  \n",
       "..                    ...      ...  \n",
       "68              55.793564  outlier  \n",
       "69              55.426293  outlier  \n",
       "70              50.536023  outlier  \n",
       "71              54.322125  outlier  \n",
       "72              53.619160  outlier  \n",
       "\n",
       "[73 rows x 20 columns]"
      ]
     },
     "execution_count": 10,
     "metadata": {},
     "output_type": "execute_result"
    }
   ],
   "source": [
    "# Extract the outliers cases\n",
    "outliers = low_convicts[low_convicts['category'] == 'outlier'].reset_index(drop=True)\n",
    "outliers"
   ]
  },
  {
   "cell_type": "code",
   "execution_count": 11,
   "id": "44d990c4-a58b-4380-ba15-cc21643dbf9a",
   "metadata": {},
   "outputs": [],
   "source": [
    "# Cache global non-robust residuals into trainee\n",
    "t.react_into_trainee(residuals=True)\n",
    "\n",
    "# Get the case_feature_residual_convictions, influential_cases and boundary_cases\n",
    "details = {'robust_computation': True,\n",
    "           'global_case_feature_residual_convictions': True, \n",
    "           'local_case_feature_residual_convictions': True}\n",
    "\n",
    "# Specify outlier cases\n",
    "outliers_indices = outliers[['.session', '.session_training_index']].values\n",
    "\n",
    "# React to get the details of each case\n",
    "results = t.react(case_indices=outliers_indices, \n",
    "                  preserve_feature_values=df.columns.tolist(), \n",
    "                  leave_case_out=True, \n",
    "                  details=details)"
   ]
  },
  {
   "cell_type": "code",
   "execution_count": 12,
   "id": "4faf2ab7-c86c-47a8-9707-bdb2dcf191cb",
   "metadata": {},
   "outputs": [],
   "source": [
    "# Extract the global and local case feature residual convictions\n",
    "global_case_feature_residual_convictions = pd.DataFrame(results['explanation']['global_case_feature_residual_convictions'])[df.columns.tolist()]\n",
    "local_case_feature_residual_convictions = pd.DataFrame(results['explanation']['local_case_feature_residual_convictions'])[df.columns.tolist()]"
   ]
  },
  {
   "cell_type": "code",
   "execution_count": 13,
   "id": "3b45f0b1-fe30-4146-9dbf-90e1efd32645",
   "metadata": {},
   "outputs": [
    {
     "data": {
      "application/vnd.plotly.v1+json": {
       "config": {
        "plotlyServerURL": "https://plot.ly"
       },
       "data": [
        {
         "coloraxis": "coloraxis",
         "hovertemplate": "Conviction=%{z}",
         "name": "Outliers",
         "text": [
          [
           "21",
           " Private",
           "334618",
           " Some-college",
           "10",
           " Never-married",
           " Protective-serv",
           " Not-in-family",
           " Black",
           " Female",
           "99999",
           "0",
           "40",
           " United-States",
           " >50K",
           "0.07486373508478321",
           "386",
           "e2137036-b16c-4ec0-9a89-55717650f6ef",
           "182.08451429211277",
           "outlier"
          ],
          [
           "32",
           " Private",
           "170154",
           " Assoc-acdm",
           "12",
           " Separated",
           " Exec-managerial",
           " Unmarried",
           " White",
           " Female",
           "25236",
           "0",
           "50",
           " United-States",
           " >50K",
           "0.14230616709386168",
           "338",
           "e2137036-b16c-4ec0-9a89-55717650f6ef",
           "119.65049057813724",
           "outlier"
          ],
          [
           "64",
           " Private",
           "251292",
           " 5th-6th",
           "3",
           " Separated",
           " Other-service",
           " Other-relative",
           " White",
           " Female",
           "0",
           "0",
           "20",
           " Cuba",
           " <=50K",
           "0.17424328135895642",
           "969",
           "e2137036-b16c-4ec0-9a89-55717650f6ef",
           "106.1401990226011",
           "outlier"
          ],
          [
           "32",
           " Self-emp-not-inc",
           "180303",
           " Bachelors",
           "13",
           " Divorced",
           " Craft-repair",
           " Unmarried",
           " Asian-Pac-Islander",
           " Male",
           "0",
           "0",
           "47",
           " Iran",
           " <=50K",
           "0.19413559644822803",
           "793",
           "e2137036-b16c-4ec0-9a89-55717650f6ef",
           "99.81490752791365",
           "outlier"
          ],
          [
           "30",
           " Private",
           "117747",
           " HS-grad",
           "9",
           " Married-civ-spouse",
           " Sales",
           " Wife",
           " Asian-Pac-Islander",
           " Female",
           "0",
           "1573",
           "35",
           " ?",
           " <=50K",
           "0.201692935184198",
           "491",
           "e2137036-b16c-4ec0-9a89-55717650f6ef",
           "97.71294496942626",
           "outlier"
          ]
         ],
         "texttemplate": "%{text}",
         "type": "heatmap",
         "x": [
          "age",
          "workclass",
          "fnlwgt",
          "education",
          "education-num",
          "marital-status",
          "occupation",
          "relationship",
          "race",
          "sex",
          "capital-gain",
          "capital-loss",
          "hours-per-week",
          "native-country",
          "target"
         ],
         "xgap": 3,
         "y": [
          0,
          1,
          2,
          3,
          4
         ],
         "ygap": 3,
         "z": [
          [
           0.32086666026769,
           1.0721575184165932,
           1.1248473424669365,
           0.7781905673096265,
           0.636121449096197,
           0.4773844030665073,
           0.7958177874164404,
           0.6795111652456787,
           0.23367836751181806,
           0.4386881120246358,
           0.007188790215812367,
           1.7927759994622507,
           2.7178782067972764,
           8.841168561543055,
           0.434627083256042
          ],
          [
           0.887700683167939,
           1.2194410018277744,
           2.166534681466469,
           0.5403112785053525,
           0.630598129401802,
           0.38098796414495395,
           0.9301878336415459,
           0.4726440073036824,
           0.8974951511929704,
           0.22500213547033798,
           0.06900495538404205,
           2.5202182388173657,
           0.8086318568297195,
           2.393766269663258,
           0.5139341993871063
          ],
          [
           0.3567179795317435,
           2.303496205787793,
           1.2071464998136385,
           0.3951269165904702,
           0.5504311630144594,
           0.4784900990376294,
           1.0380227563798785,
           0.606907489181453,
           0.9674702588189926,
           0.5507560203333245,
           6.17462326353578,
           2.3862576640986797,
           0.44244386686438,
           0.2388843061893324,
           0.9855052968913101
          ],
          [
           1.3655495443400867,
           0.5292765327038864,
           1.8918134922905836,
           0.8581702791799054,
           0.6859521489925852,
           0.4970943583206539,
           0.8938043597323378,
           0.6820476633338439,
           0.1473722541228292,
           1.1547617648767527,
           0.6718949931430931,
           1.3934310202687261,
           1.2334270996247245,
           0.3338392821208836,
           1.5476092693174472
          ],
          [
           1.2008143238682423,
           2.0559638517318564,
           1.2209604828199012,
           0.8765220946924979,
           1.343357916060815,
           0.6866892911316893,
           0.988802446889579,
           0.9069575213880724,
           0.33320878895906186,
           0.7076161120944148,
           1.346752191204885,
           0.11943308322203498,
           1.395351165171722,
           0.3693730914050498,
           1.873384143595865
          ]
         ]
        }
       ],
       "layout": {
        "coloraxis": {
         "cmax": 5,
         "cmin": 0,
         "colorbar": {
          "ticktext": [
           "0",
           "0.5",
           "1",
           "1.5",
           "2",
           "2.5",
           "3",
           "3.5",
           "4",
           "4.5",
           "≥5"
          ],
          "tickvals": [
           0,
           0.5,
           1,
           1.5,
           2,
           2.5,
           3,
           3.5,
           4,
           4.5,
           5
          ],
          "title": {
           "text": "Conviction"
          }
         },
         "colorscale": [
          [
           0,
           "rgb(103,0,31)"
          ],
          [
           0.2,
           "rgb(247, 247, 247)"
          ],
          [
           0.4,
           "rgb(67,147,195)"
          ],
          [
           1,
           "rgb(5,48,97)"
          ]
         ]
        },
        "template": {
         "data": {
          "bar": [
           {
            "error_x": {
             "color": "#2a3f5f"
            },
            "error_y": {
             "color": "#2a3f5f"
            },
            "marker": {
             "line": {
              "color": "#E5ECF6",
              "width": 0.5
             },
             "pattern": {
              "fillmode": "overlay",
              "size": 10,
              "solidity": 0.2
             }
            },
            "type": "bar"
           }
          ],
          "barpolar": [
           {
            "marker": {
             "line": {
              "color": "#E5ECF6",
              "width": 0.5
             },
             "pattern": {
              "fillmode": "overlay",
              "size": 10,
              "solidity": 0.2
             }
            },
            "type": "barpolar"
           }
          ],
          "carpet": [
           {
            "aaxis": {
             "endlinecolor": "#2a3f5f",
             "gridcolor": "white",
             "linecolor": "white",
             "minorgridcolor": "white",
             "startlinecolor": "#2a3f5f"
            },
            "baxis": {
             "endlinecolor": "#2a3f5f",
             "gridcolor": "white",
             "linecolor": "white",
             "minorgridcolor": "white",
             "startlinecolor": "#2a3f5f"
            },
            "type": "carpet"
           }
          ],
          "choropleth": [
           {
            "colorbar": {
             "outlinewidth": 0,
             "ticks": ""
            },
            "type": "choropleth"
           }
          ],
          "contour": [
           {
            "colorbar": {
             "outlinewidth": 0,
             "ticks": ""
            },
            "colorscale": [
             [
              0,
              "#0d0887"
             ],
             [
              0.1111111111111111,
              "#46039f"
             ],
             [
              0.2222222222222222,
              "#7201a8"
             ],
             [
              0.3333333333333333,
              "#9c179e"
             ],
             [
              0.4444444444444444,
              "#bd3786"
             ],
             [
              0.5555555555555556,
              "#d8576b"
             ],
             [
              0.6666666666666666,
              "#ed7953"
             ],
             [
              0.7777777777777778,
              "#fb9f3a"
             ],
             [
              0.8888888888888888,
              "#fdca26"
             ],
             [
              1,
              "#f0f921"
             ]
            ],
            "type": "contour"
           }
          ],
          "contourcarpet": [
           {
            "colorbar": {
             "outlinewidth": 0,
             "ticks": ""
            },
            "type": "contourcarpet"
           }
          ],
          "heatmap": [
           {
            "colorbar": {
             "outlinewidth": 0,
             "ticks": ""
            },
            "colorscale": [
             [
              0,
              "#0d0887"
             ],
             [
              0.1111111111111111,
              "#46039f"
             ],
             [
              0.2222222222222222,
              "#7201a8"
             ],
             [
              0.3333333333333333,
              "#9c179e"
             ],
             [
              0.4444444444444444,
              "#bd3786"
             ],
             [
              0.5555555555555556,
              "#d8576b"
             ],
             [
              0.6666666666666666,
              "#ed7953"
             ],
             [
              0.7777777777777778,
              "#fb9f3a"
             ],
             [
              0.8888888888888888,
              "#fdca26"
             ],
             [
              1,
              "#f0f921"
             ]
            ],
            "type": "heatmap"
           }
          ],
          "heatmapgl": [
           {
            "colorbar": {
             "outlinewidth": 0,
             "ticks": ""
            },
            "colorscale": [
             [
              0,
              "#0d0887"
             ],
             [
              0.1111111111111111,
              "#46039f"
             ],
             [
              0.2222222222222222,
              "#7201a8"
             ],
             [
              0.3333333333333333,
              "#9c179e"
             ],
             [
              0.4444444444444444,
              "#bd3786"
             ],
             [
              0.5555555555555556,
              "#d8576b"
             ],
             [
              0.6666666666666666,
              "#ed7953"
             ],
             [
              0.7777777777777778,
              "#fb9f3a"
             ],
             [
              0.8888888888888888,
              "#fdca26"
             ],
             [
              1,
              "#f0f921"
             ]
            ],
            "type": "heatmapgl"
           }
          ],
          "histogram": [
           {
            "marker": {
             "pattern": {
              "fillmode": "overlay",
              "size": 10,
              "solidity": 0.2
             }
            },
            "type": "histogram"
           }
          ],
          "histogram2d": [
           {
            "colorbar": {
             "outlinewidth": 0,
             "ticks": ""
            },
            "colorscale": [
             [
              0,
              "#0d0887"
             ],
             [
              0.1111111111111111,
              "#46039f"
             ],
             [
              0.2222222222222222,
              "#7201a8"
             ],
             [
              0.3333333333333333,
              "#9c179e"
             ],
             [
              0.4444444444444444,
              "#bd3786"
             ],
             [
              0.5555555555555556,
              "#d8576b"
             ],
             [
              0.6666666666666666,
              "#ed7953"
             ],
             [
              0.7777777777777778,
              "#fb9f3a"
             ],
             [
              0.8888888888888888,
              "#fdca26"
             ],
             [
              1,
              "#f0f921"
             ]
            ],
            "type": "histogram2d"
           }
          ],
          "histogram2dcontour": [
           {
            "colorbar": {
             "outlinewidth": 0,
             "ticks": ""
            },
            "colorscale": [
             [
              0,
              "#0d0887"
             ],
             [
              0.1111111111111111,
              "#46039f"
             ],
             [
              0.2222222222222222,
              "#7201a8"
             ],
             [
              0.3333333333333333,
              "#9c179e"
             ],
             [
              0.4444444444444444,
              "#bd3786"
             ],
             [
              0.5555555555555556,
              "#d8576b"
             ],
             [
              0.6666666666666666,
              "#ed7953"
             ],
             [
              0.7777777777777778,
              "#fb9f3a"
             ],
             [
              0.8888888888888888,
              "#fdca26"
             ],
             [
              1,
              "#f0f921"
             ]
            ],
            "type": "histogram2dcontour"
           }
          ],
          "mesh3d": [
           {
            "colorbar": {
             "outlinewidth": 0,
             "ticks": ""
            },
            "type": "mesh3d"
           }
          ],
          "parcoords": [
           {
            "line": {
             "colorbar": {
              "outlinewidth": 0,
              "ticks": ""
             }
            },
            "type": "parcoords"
           }
          ],
          "pie": [
           {
            "automargin": true,
            "type": "pie"
           }
          ],
          "scatter": [
           {
            "fillpattern": {
             "fillmode": "overlay",
             "size": 10,
             "solidity": 0.2
            },
            "type": "scatter"
           }
          ],
          "scatter3d": [
           {
            "line": {
             "colorbar": {
              "outlinewidth": 0,
              "ticks": ""
             }
            },
            "marker": {
             "colorbar": {
              "outlinewidth": 0,
              "ticks": ""
             }
            },
            "type": "scatter3d"
           }
          ],
          "scattercarpet": [
           {
            "marker": {
             "colorbar": {
              "outlinewidth": 0,
              "ticks": ""
             }
            },
            "type": "scattercarpet"
           }
          ],
          "scattergeo": [
           {
            "marker": {
             "colorbar": {
              "outlinewidth": 0,
              "ticks": ""
             }
            },
            "type": "scattergeo"
           }
          ],
          "scattergl": [
           {
            "marker": {
             "colorbar": {
              "outlinewidth": 0,
              "ticks": ""
             }
            },
            "type": "scattergl"
           }
          ],
          "scattermapbox": [
           {
            "marker": {
             "colorbar": {
              "outlinewidth": 0,
              "ticks": ""
             }
            },
            "type": "scattermapbox"
           }
          ],
          "scatterpolar": [
           {
            "marker": {
             "colorbar": {
              "outlinewidth": 0,
              "ticks": ""
             }
            },
            "type": "scatterpolar"
           }
          ],
          "scatterpolargl": [
           {
            "marker": {
             "colorbar": {
              "outlinewidth": 0,
              "ticks": ""
             }
            },
            "type": "scatterpolargl"
           }
          ],
          "scatterternary": [
           {
            "marker": {
             "colorbar": {
              "outlinewidth": 0,
              "ticks": ""
             }
            },
            "type": "scatterternary"
           }
          ],
          "surface": [
           {
            "colorbar": {
             "outlinewidth": 0,
             "ticks": ""
            },
            "colorscale": [
             [
              0,
              "#0d0887"
             ],
             [
              0.1111111111111111,
              "#46039f"
             ],
             [
              0.2222222222222222,
              "#7201a8"
             ],
             [
              0.3333333333333333,
              "#9c179e"
             ],
             [
              0.4444444444444444,
              "#bd3786"
             ],
             [
              0.5555555555555556,
              "#d8576b"
             ],
             [
              0.6666666666666666,
              "#ed7953"
             ],
             [
              0.7777777777777778,
              "#fb9f3a"
             ],
             [
              0.8888888888888888,
              "#fdca26"
             ],
             [
              1,
              "#f0f921"
             ]
            ],
            "type": "surface"
           }
          ],
          "table": [
           {
            "cells": {
             "fill": {
              "color": "#EBF0F8"
             },
             "line": {
              "color": "white"
             }
            },
            "header": {
             "fill": {
              "color": "#C8D4E3"
             },
             "line": {
              "color": "white"
             }
            },
            "type": "table"
           }
          ]
         },
         "layout": {
          "annotationdefaults": {
           "arrowcolor": "#2a3f5f",
           "arrowhead": 0,
           "arrowwidth": 1
          },
          "autotypenumbers": "strict",
          "coloraxis": {
           "colorbar": {
            "outlinewidth": 0,
            "ticks": ""
           }
          },
          "colorscale": {
           "diverging": [
            [
             0,
             "#8e0152"
            ],
            [
             0.1,
             "#c51b7d"
            ],
            [
             0.2,
             "#de77ae"
            ],
            [
             0.3,
             "#f1b6da"
            ],
            [
             0.4,
             "#fde0ef"
            ],
            [
             0.5,
             "#f7f7f7"
            ],
            [
             0.6,
             "#e6f5d0"
            ],
            [
             0.7,
             "#b8e186"
            ],
            [
             0.8,
             "#7fbc41"
            ],
            [
             0.9,
             "#4d9221"
            ],
            [
             1,
             "#276419"
            ]
           ],
           "sequential": [
            [
             0,
             "#0d0887"
            ],
            [
             0.1111111111111111,
             "#46039f"
            ],
            [
             0.2222222222222222,
             "#7201a8"
            ],
            [
             0.3333333333333333,
             "#9c179e"
            ],
            [
             0.4444444444444444,
             "#bd3786"
            ],
            [
             0.5555555555555556,
             "#d8576b"
            ],
            [
             0.6666666666666666,
             "#ed7953"
            ],
            [
             0.7777777777777778,
             "#fb9f3a"
            ],
            [
             0.8888888888888888,
             "#fdca26"
            ],
            [
             1,
             "#f0f921"
            ]
           ],
           "sequentialminus": [
            [
             0,
             "#0d0887"
            ],
            [
             0.1111111111111111,
             "#46039f"
            ],
            [
             0.2222222222222222,
             "#7201a8"
            ],
            [
             0.3333333333333333,
             "#9c179e"
            ],
            [
             0.4444444444444444,
             "#bd3786"
            ],
            [
             0.5555555555555556,
             "#d8576b"
            ],
            [
             0.6666666666666666,
             "#ed7953"
            ],
            [
             0.7777777777777778,
             "#fb9f3a"
            ],
            [
             0.8888888888888888,
             "#fdca26"
            ],
            [
             1,
             "#f0f921"
            ]
           ]
          },
          "colorway": [
           "#636efa",
           "#EF553B",
           "#00cc96",
           "#ab63fa",
           "#FFA15A",
           "#19d3f3",
           "#FF6692",
           "#B6E880",
           "#FF97FF",
           "#FECB52"
          ],
          "font": {
           "color": "#2a3f5f"
          },
          "geo": {
           "bgcolor": "white",
           "lakecolor": "white",
           "landcolor": "#E5ECF6",
           "showlakes": true,
           "showland": true,
           "subunitcolor": "white"
          },
          "hoverlabel": {
           "align": "left"
          },
          "hovermode": "closest",
          "mapbox": {
           "style": "light"
          },
          "paper_bgcolor": "white",
          "plot_bgcolor": "#E5ECF6",
          "polar": {
           "angularaxis": {
            "gridcolor": "white",
            "linecolor": "white",
            "ticks": ""
           },
           "bgcolor": "#E5ECF6",
           "radialaxis": {
            "gridcolor": "white",
            "linecolor": "white",
            "ticks": ""
           }
          },
          "scene": {
           "xaxis": {
            "backgroundcolor": "#E5ECF6",
            "gridcolor": "white",
            "gridwidth": 2,
            "linecolor": "white",
            "showbackground": true,
            "ticks": "",
            "zerolinecolor": "white"
           },
           "yaxis": {
            "backgroundcolor": "#E5ECF6",
            "gridcolor": "white",
            "gridwidth": 2,
            "linecolor": "white",
            "showbackground": true,
            "ticks": "",
            "zerolinecolor": "white"
           },
           "zaxis": {
            "backgroundcolor": "#E5ECF6",
            "gridcolor": "white",
            "gridwidth": 2,
            "linecolor": "white",
            "showbackground": true,
            "ticks": "",
            "zerolinecolor": "white"
           }
          },
          "shapedefaults": {
           "line": {
            "color": "#2a3f5f"
           }
          },
          "ternary": {
           "aaxis": {
            "gridcolor": "white",
            "linecolor": "white",
            "ticks": ""
           },
           "baxis": {
            "gridcolor": "white",
            "linecolor": "white",
            "ticks": ""
           },
           "bgcolor": "#E5ECF6",
           "caxis": {
            "gridcolor": "white",
            "linecolor": "white",
            "ticks": ""
           }
          },
          "title": {
           "x": 0.05
          },
          "xaxis": {
           "automargin": true,
           "gridcolor": "white",
           "linecolor": "white",
           "ticks": "",
           "title": {
            "standoff": 15
           },
           "zerolinecolor": "white",
           "zerolinewidth": 2
          },
          "yaxis": {
           "automargin": true,
           "gridcolor": "white",
           "linecolor": "white",
           "ticks": "",
           "title": {
            "standoff": 15
           },
           "zerolinecolor": "white",
           "zerolinewidth": 2
          }
         }
        },
        "title": {
         "text": "Outliers"
        },
        "xaxis": {
         "anchor": "y",
         "domain": [
          0,
          1
         ],
         "title": {
          "text": "Feature"
         }
        },
        "yaxis": {
         "anchor": "x",
         "autorange": "reversed",
         "domain": [
          0,
          1
         ],
         "title": {
          "text": "Residual Conviction"
         }
        }
       }
      }
     },
     "metadata": {},
     "output_type": "display_data"
    }
   ],
   "source": [
    "plot_anomalies(outliers, local_case_feature_residual_convictions, title=\"Outliers\", yaxis_title=\"Residual Conviction\")"
   ]
  },
  {
   "attachments": {},
   "cell_type": "markdown",
   "id": "5d17882e-9c76-46c2-b772-5b4bd1c8e8a4",
   "metadata": {},
   "source": [
    "The heat map explains the reason why each case was an outlier. The darker the shade of red, the higher the contribution to the case being an outlier. "
   ]
  },
  {
   "attachments": {},
   "cell_type": "markdown",
   "id": "4f45902d-a272-4ff1-9953-a9777d64780a",
   "metadata": {
    "tags": []
   },
   "source": [
    "## Inliers\n",
    "\n",
    "Let’s examine a few inlier cases. Inliers are cases which are too similar to other cases and do not follow the expected distribution. Inliers can be an indication of a fraudulent case that is “too good to be true”. "
   ]
  },
  {
   "cell_type": "code",
   "execution_count": 14,
   "id": "bd8e4a82-fd22-4def-9b9b-5d9d1be5d263",
   "metadata": {},
   "outputs": [
    {
     "data": {
      "text/html": [
       "<div>\n",
       "<style scoped>\n",
       "    .dataframe tbody tr th:only-of-type {\n",
       "        vertical-align: middle;\n",
       "    }\n",
       "\n",
       "    .dataframe tbody tr th {\n",
       "        vertical-align: top;\n",
       "    }\n",
       "\n",
       "    .dataframe thead th {\n",
       "        text-align: right;\n",
       "    }\n",
       "</style>\n",
       "<table border=\"1\" class=\"dataframe\">\n",
       "  <thead>\n",
       "    <tr style=\"text-align: right;\">\n",
       "      <th></th>\n",
       "      <th>age</th>\n",
       "      <th>workclass</th>\n",
       "      <th>fnlwgt</th>\n",
       "      <th>education</th>\n",
       "      <th>education-num</th>\n",
       "      <th>marital-status</th>\n",
       "      <th>occupation</th>\n",
       "      <th>relationship</th>\n",
       "      <th>race</th>\n",
       "      <th>sex</th>\n",
       "      <th>capital-gain</th>\n",
       "      <th>capital-loss</th>\n",
       "      <th>hours-per-week</th>\n",
       "      <th>native-country</th>\n",
       "      <th>target</th>\n",
       "      <th>familiarity_conviction_addition</th>\n",
       "      <th>.session_training_index</th>\n",
       "      <th>.session</th>\n",
       "      <th>distance_contribution</th>\n",
       "      <th>category</th>\n",
       "    </tr>\n",
       "  </thead>\n",
       "  <tbody>\n",
       "    <tr>\n",
       "      <th>0</th>\n",
       "      <td>19</td>\n",
       "      <td>Private</td>\n",
       "      <td>200136</td>\n",
       "      <td>Some-college</td>\n",
       "      <td>10</td>\n",
       "      <td>Never-married</td>\n",
       "      <td>Sales</td>\n",
       "      <td>Own-child</td>\n",
       "      <td>White</td>\n",
       "      <td>Female</td>\n",
       "      <td>0</td>\n",
       "      <td>0</td>\n",
       "      <td>20</td>\n",
       "      <td>United-States</td>\n",
       "      <td>&lt;=50K</td>\n",
       "      <td>0.142469</td>\n",
       "      <td>235</td>\n",
       "      <td>e2137036-b16c-4ec0-9a89-55717650f6ef</td>\n",
       "      <td>0.713692</td>\n",
       "      <td>inlier</td>\n",
       "    </tr>\n",
       "    <tr>\n",
       "      <th>1</th>\n",
       "      <td>19</td>\n",
       "      <td>Private</td>\n",
       "      <td>224241</td>\n",
       "      <td>Some-college</td>\n",
       "      <td>10</td>\n",
       "      <td>Never-married</td>\n",
       "      <td>Sales</td>\n",
       "      <td>Own-child</td>\n",
       "      <td>White</td>\n",
       "      <td>Female</td>\n",
       "      <td>0</td>\n",
       "      <td>0</td>\n",
       "      <td>20</td>\n",
       "      <td>United-States</td>\n",
       "      <td>&lt;=50K</td>\n",
       "      <td>0.161600</td>\n",
       "      <td>61</td>\n",
       "      <td>e2137036-b16c-4ec0-9a89-55717650f6ef</td>\n",
       "      <td>0.927985</td>\n",
       "      <td>inlier</td>\n",
       "    </tr>\n",
       "    <tr>\n",
       "      <th>2</th>\n",
       "      <td>18</td>\n",
       "      <td>Private</td>\n",
       "      <td>192409</td>\n",
       "      <td>Some-college</td>\n",
       "      <td>10</td>\n",
       "      <td>Never-married</td>\n",
       "      <td>Sales</td>\n",
       "      <td>Own-child</td>\n",
       "      <td>White</td>\n",
       "      <td>Female</td>\n",
       "      <td>0</td>\n",
       "      <td>0</td>\n",
       "      <td>20</td>\n",
       "      <td>United-States</td>\n",
       "      <td>&lt;=50K</td>\n",
       "      <td>0.172499</td>\n",
       "      <td>582</td>\n",
       "      <td>e2137036-b16c-4ec0-9a89-55717650f6ef</td>\n",
       "      <td>1.073296</td>\n",
       "      <td>inlier</td>\n",
       "    </tr>\n",
       "    <tr>\n",
       "      <th>3</th>\n",
       "      <td>23</td>\n",
       "      <td>Private</td>\n",
       "      <td>198996</td>\n",
       "      <td>HS-grad</td>\n",
       "      <td>9</td>\n",
       "      <td>Never-married</td>\n",
       "      <td>Adm-clerical</td>\n",
       "      <td>Not-in-family</td>\n",
       "      <td>White</td>\n",
       "      <td>Female</td>\n",
       "      <td>0</td>\n",
       "      <td>0</td>\n",
       "      <td>40</td>\n",
       "      <td>United-States</td>\n",
       "      <td>&lt;=50K</td>\n",
       "      <td>0.198236</td>\n",
       "      <td>717</td>\n",
       "      <td>e2137036-b16c-4ec0-9a89-55717650f6ef</td>\n",
       "      <td>1.550564</td>\n",
       "      <td>inlier</td>\n",
       "    </tr>\n",
       "    <tr>\n",
       "      <th>4</th>\n",
       "      <td>24</td>\n",
       "      <td>Private</td>\n",
       "      <td>152189</td>\n",
       "      <td>HS-grad</td>\n",
       "      <td>9</td>\n",
       "      <td>Never-married</td>\n",
       "      <td>Craft-repair</td>\n",
       "      <td>Own-child</td>\n",
       "      <td>White</td>\n",
       "      <td>Male</td>\n",
       "      <td>0</td>\n",
       "      <td>0</td>\n",
       "      <td>40</td>\n",
       "      <td>United-States</td>\n",
       "      <td>&lt;=50K</td>\n",
       "      <td>0.208020</td>\n",
       "      <td>596</td>\n",
       "      <td>e2137036-b16c-4ec0-9a89-55717650f6ef</td>\n",
       "      <td>1.652727</td>\n",
       "      <td>inlier</td>\n",
       "    </tr>\n",
       "    <tr>\n",
       "      <th>...</th>\n",
       "      <td>...</td>\n",
       "      <td>...</td>\n",
       "      <td>...</td>\n",
       "      <td>...</td>\n",
       "      <td>...</td>\n",
       "      <td>...</td>\n",
       "      <td>...</td>\n",
       "      <td>...</td>\n",
       "      <td>...</td>\n",
       "      <td>...</td>\n",
       "      <td>...</td>\n",
       "      <td>...</td>\n",
       "      <td>...</td>\n",
       "      <td>...</td>\n",
       "      <td>...</td>\n",
       "      <td>...</td>\n",
       "      <td>...</td>\n",
       "      <td>...</td>\n",
       "      <td>...</td>\n",
       "      <td>...</td>\n",
       "    </tr>\n",
       "    <tr>\n",
       "      <th>187</th>\n",
       "      <td>19</td>\n",
       "      <td>?</td>\n",
       "      <td>28967</td>\n",
       "      <td>Some-college</td>\n",
       "      <td>10</td>\n",
       "      <td>Never-married</td>\n",
       "      <td>?</td>\n",
       "      <td>Not-in-family</td>\n",
       "      <td>White</td>\n",
       "      <td>Male</td>\n",
       "      <td>0</td>\n",
       "      <td>0</td>\n",
       "      <td>40</td>\n",
       "      <td>United-States</td>\n",
       "      <td>&lt;=50K</td>\n",
       "      <td>0.733420</td>\n",
       "      <td>343</td>\n",
       "      <td>e2137036-b16c-4ec0-9a89-55717650f6ef</td>\n",
       "      <td>9.042955</td>\n",
       "      <td>inlier</td>\n",
       "    </tr>\n",
       "    <tr>\n",
       "      <th>188</th>\n",
       "      <td>43</td>\n",
       "      <td>Private</td>\n",
       "      <td>112131</td>\n",
       "      <td>Some-college</td>\n",
       "      <td>10</td>\n",
       "      <td>Married-civ-spouse</td>\n",
       "      <td>Exec-managerial</td>\n",
       "      <td>Husband</td>\n",
       "      <td>White</td>\n",
       "      <td>Male</td>\n",
       "      <td>0</td>\n",
       "      <td>0</td>\n",
       "      <td>40</td>\n",
       "      <td>United-States</td>\n",
       "      <td>&lt;=50K</td>\n",
       "      <td>0.734989</td>\n",
       "      <td>673</td>\n",
       "      <td>e2137036-b16c-4ec0-9a89-55717650f6ef</td>\n",
       "      <td>7.228241</td>\n",
       "      <td>inlier</td>\n",
       "    </tr>\n",
       "    <tr>\n",
       "      <th>189</th>\n",
       "      <td>46</td>\n",
       "      <td>Private</td>\n",
       "      <td>102359</td>\n",
       "      <td>Some-college</td>\n",
       "      <td>10</td>\n",
       "      <td>Married-civ-spouse</td>\n",
       "      <td>Exec-managerial</td>\n",
       "      <td>Husband</td>\n",
       "      <td>White</td>\n",
       "      <td>Male</td>\n",
       "      <td>0</td>\n",
       "      <td>0</td>\n",
       "      <td>50</td>\n",
       "      <td>United-States</td>\n",
       "      <td>&gt;50K</td>\n",
       "      <td>0.744539</td>\n",
       "      <td>232</td>\n",
       "      <td>e2137036-b16c-4ec0-9a89-55717650f6ef</td>\n",
       "      <td>7.128270</td>\n",
       "      <td>inlier</td>\n",
       "    </tr>\n",
       "    <tr>\n",
       "      <th>190</th>\n",
       "      <td>62</td>\n",
       "      <td>?</td>\n",
       "      <td>129246</td>\n",
       "      <td>HS-grad</td>\n",
       "      <td>9</td>\n",
       "      <td>Married-civ-spouse</td>\n",
       "      <td>?</td>\n",
       "      <td>Husband</td>\n",
       "      <td>White</td>\n",
       "      <td>Male</td>\n",
       "      <td>0</td>\n",
       "      <td>0</td>\n",
       "      <td>40</td>\n",
       "      <td>United-States</td>\n",
       "      <td>&lt;=50K</td>\n",
       "      <td>0.745458</td>\n",
       "      <td>736</td>\n",
       "      <td>e2137036-b16c-4ec0-9a89-55717650f6ef</td>\n",
       "      <td>7.631429</td>\n",
       "      <td>inlier</td>\n",
       "    </tr>\n",
       "    <tr>\n",
       "      <th>191</th>\n",
       "      <td>35</td>\n",
       "      <td>Private</td>\n",
       "      <td>38948</td>\n",
       "      <td>Some-college</td>\n",
       "      <td>10</td>\n",
       "      <td>Married-civ-spouse</td>\n",
       "      <td>Prof-specialty</td>\n",
       "      <td>Husband</td>\n",
       "      <td>White</td>\n",
       "      <td>Male</td>\n",
       "      <td>0</td>\n",
       "      <td>0</td>\n",
       "      <td>40</td>\n",
       "      <td>United-States</td>\n",
       "      <td>&gt;50K</td>\n",
       "      <td>0.745658</td>\n",
       "      <td>138</td>\n",
       "      <td>e2137036-b16c-4ec0-9a89-55717650f6ef</td>\n",
       "      <td>7.395053</td>\n",
       "      <td>inlier</td>\n",
       "    </tr>\n",
       "  </tbody>\n",
       "</table>\n",
       "<p>192 rows × 20 columns</p>\n",
       "</div>"
      ],
      "text/plain": [
       "     age workclass  fnlwgt      education  education-num       marital-status  \\\n",
       "0     19   Private  200136   Some-college             10        Never-married   \n",
       "1     19   Private  224241   Some-college             10        Never-married   \n",
       "2     18   Private  192409   Some-college             10        Never-married   \n",
       "3     23   Private  198996        HS-grad              9        Never-married   \n",
       "4     24   Private  152189        HS-grad              9        Never-married   \n",
       "..   ...       ...     ...            ...            ...                  ...   \n",
       "187   19         ?   28967   Some-college             10        Never-married   \n",
       "188   43   Private  112131   Some-college             10   Married-civ-spouse   \n",
       "189   46   Private  102359   Some-college             10   Married-civ-spouse   \n",
       "190   62         ?  129246        HS-grad              9   Married-civ-spouse   \n",
       "191   35   Private   38948   Some-college             10   Married-civ-spouse   \n",
       "\n",
       "           occupation    relationship    race      sex  capital-gain  \\\n",
       "0               Sales       Own-child   White   Female             0   \n",
       "1               Sales       Own-child   White   Female             0   \n",
       "2               Sales       Own-child   White   Female             0   \n",
       "3        Adm-clerical   Not-in-family   White   Female             0   \n",
       "4        Craft-repair       Own-child   White     Male             0   \n",
       "..                ...             ...     ...      ...           ...   \n",
       "187                 ?   Not-in-family   White     Male             0   \n",
       "188   Exec-managerial         Husband   White     Male             0   \n",
       "189   Exec-managerial         Husband   White     Male             0   \n",
       "190                 ?         Husband   White     Male             0   \n",
       "191    Prof-specialty         Husband   White     Male             0   \n",
       "\n",
       "     capital-loss  hours-per-week  native-country  target  \\\n",
       "0               0              20   United-States   <=50K   \n",
       "1               0              20   United-States   <=50K   \n",
       "2               0              20   United-States   <=50K   \n",
       "3               0              40   United-States   <=50K   \n",
       "4               0              40   United-States   <=50K   \n",
       "..            ...             ...             ...     ...   \n",
       "187             0              40   United-States   <=50K   \n",
       "188             0              40   United-States   <=50K   \n",
       "189             0              50   United-States    >50K   \n",
       "190             0              40   United-States   <=50K   \n",
       "191             0              40   United-States    >50K   \n",
       "\n",
       "     familiarity_conviction_addition  .session_training_index  \\\n",
       "0                           0.142469                      235   \n",
       "1                           0.161600                       61   \n",
       "2                           0.172499                      582   \n",
       "3                           0.198236                      717   \n",
       "4                           0.208020                      596   \n",
       "..                               ...                      ...   \n",
       "187                         0.733420                      343   \n",
       "188                         0.734989                      673   \n",
       "189                         0.744539                      232   \n",
       "190                         0.745458                      736   \n",
       "191                         0.745658                      138   \n",
       "\n",
       "                                 .session  distance_contribution category  \n",
       "0    e2137036-b16c-4ec0-9a89-55717650f6ef               0.713692   inlier  \n",
       "1    e2137036-b16c-4ec0-9a89-55717650f6ef               0.927985   inlier  \n",
       "2    e2137036-b16c-4ec0-9a89-55717650f6ef               1.073296   inlier  \n",
       "3    e2137036-b16c-4ec0-9a89-55717650f6ef               1.550564   inlier  \n",
       "4    e2137036-b16c-4ec0-9a89-55717650f6ef               1.652727   inlier  \n",
       "..                                    ...                    ...      ...  \n",
       "187  e2137036-b16c-4ec0-9a89-55717650f6ef               9.042955   inlier  \n",
       "188  e2137036-b16c-4ec0-9a89-55717650f6ef               7.228241   inlier  \n",
       "189  e2137036-b16c-4ec0-9a89-55717650f6ef               7.128270   inlier  \n",
       "190  e2137036-b16c-4ec0-9a89-55717650f6ef               7.631429   inlier  \n",
       "191  e2137036-b16c-4ec0-9a89-55717650f6ef               7.395053   inlier  \n",
       "\n",
       "[192 rows x 20 columns]"
      ]
     },
     "execution_count": 14,
     "metadata": {},
     "output_type": "execute_result"
    }
   ],
   "source": [
    "# Get the inlier cases\n",
    "inliers = low_convicts[low_convicts['category'] == 'inlier'].reset_index(drop=True)\n",
    "inliers"
   ]
  },
  {
   "cell_type": "code",
   "execution_count": 15,
   "id": "096f14f8-2048-441f-98f0-f828104c7be4",
   "metadata": {},
   "outputs": [],
   "source": [
    "# Specify the inlier cases\n",
    "inliers_indices = inliers[['.session', '.session_training_index']].values\n",
    "\n",
    "# React to get the details of each case\n",
    "results = t.react(case_indices=inliers_indices, \n",
    "                  preserve_feature_values=df.columns.tolist(), \n",
    "                  leave_case_out=True, \n",
    "                  details=details)"
   ]
  },
  {
   "cell_type": "code",
   "execution_count": 16,
   "id": "e7fdb0be-635c-4bb0-99dd-5c8f0ede8022",
   "metadata": {},
   "outputs": [],
   "source": [
    "# Extract the global and local case feature residual convictions\n",
    "global_case_feature_residual_convictions = pd.DataFrame(results['explanation']['global_case_feature_residual_convictions'])[df.columns.tolist()]\n",
    "local_case_feature_residual_convictions = pd.DataFrame(results['explanation']['local_case_feature_residual_convictions'])[df.columns.tolist()]"
   ]
  },
  {
   "cell_type": "code",
   "execution_count": 17,
   "id": "981d6618-0d97-464b-93e8-053e51db44ad",
   "metadata": {},
   "outputs": [
    {
     "data": {
      "application/vnd.plotly.v1+json": {
       "config": {
        "plotlyServerURL": "https://plot.ly"
       },
       "data": [
        {
         "coloraxis": "coloraxis",
         "hovertemplate": "Conviction=%{z}",
         "name": "Outliers",
         "text": [
          [
           "19",
           " Private",
           "200136",
           " Some-college",
           "10",
           " Never-married",
           " Sales",
           " Own-child",
           " White",
           " Female",
           "0",
           "0",
           "20",
           " United-States",
           " <=50K",
           "0.14246916201872253",
           "235",
           "e2137036-b16c-4ec0-9a89-55717650f6ef",
           "0.7136924719125202",
           "inlier"
          ],
          [
           "19",
           " Private",
           "224241",
           " Some-college",
           "10",
           " Never-married",
           " Sales",
           " Own-child",
           " White",
           " Female",
           "0",
           "0",
           "20",
           " United-States",
           " <=50K",
           "0.1616000619951543",
           "61",
           "e2137036-b16c-4ec0-9a89-55717650f6ef",
           "0.9279854613905848",
           "inlier"
          ],
          [
           "18",
           " Private",
           "192409",
           " Some-college",
           "10",
           " Never-married",
           " Sales",
           " Own-child",
           " White",
           " Female",
           "0",
           "0",
           "20",
           " United-States",
           " <=50K",
           "0.1724993877811143",
           "582",
           "e2137036-b16c-4ec0-9a89-55717650f6ef",
           "1.0732957267367116",
           "inlier"
          ],
          [
           "23",
           " Private",
           "198996",
           " HS-grad",
           "9",
           " Never-married",
           " Adm-clerical",
           " Not-in-family",
           " White",
           " Female",
           "0",
           "0",
           "40",
           " United-States",
           " <=50K",
           "0.19823634505575197",
           "717",
           "e2137036-b16c-4ec0-9a89-55717650f6ef",
           "1.5505640817451576",
           "inlier"
          ],
          [
           "24",
           " Private",
           "152189",
           " HS-grad",
           "9",
           " Never-married",
           " Craft-repair",
           " Own-child",
           " White",
           " Male",
           "0",
           "0",
           "40",
           " United-States",
           " <=50K",
           "0.20801950132572322",
           "596",
           "e2137036-b16c-4ec0-9a89-55717650f6ef",
           "1.6527265536919764",
           "inlier"
          ]
         ],
         "texttemplate": "%{text}",
         "type": "heatmap",
         "x": [
          "age",
          "workclass",
          "fnlwgt",
          "education",
          "education-num",
          "marital-status",
          "occupation",
          "relationship",
          "race",
          "sex",
          "capital-gain",
          "capital-loss",
          "hours-per-week",
          "native-country",
          "target"
         ],
         "xgap": 3,
         "y": [
          0,
          1,
          2,
          3,
          4
         ],
         "ygap": 3,
         "z": [
          [
           1.9434823507918944,
           3.9542242606126354,
           2.175570239761517,
           1.4421924818209961,
           1.0368493945984676,
           0.6294211446247054,
           1.3713939391803838,
           2.8827732494692624,
           6.464747470602582,
           3.1635019414599035,
           1,
           13.816357850436983,
           1.4978673577078383,
           4.694562424755182,
           0.07498490230597778
          ],
          [
           1.7417854308274217,
           2.8578663556237247,
           2.2163840846600724,
           1.8576454905089563,
           0.7169126025048891,
           2.396236323622069,
           1.6743569644254035,
           1.702038264413287,
           2.357192190620093,
           1.8640214023749335,
           1,
           0.5834262977237513,
           1.5809988998862743,
           1.9916681543967731,
           0.13956212570361934
          ],
          [
           1.1762771951909714,
           3.0708231526721104,
           1.7844938633231067,
           1.0825509689032122,
           1.0059647970205106,
           1.806194542306777,
           1.866051243538975,
           3.167274115505218,
           5.442592953572587,
           1.8931199545559838,
           135.1785492090385,
           6.015351310397257,
           1.6874205476478004,
           3.3890938235795938,
           0.07988780669269598
          ],
          [
           0.9687988227524746,
           1.5736219755955805,
           2.1900486198999056,
           1.075591951634736,
           1.150105736164415,
           1.5362666789000254,
           1.2825325703391237,
           1.1630828602574486,
           3.5486924382049843,
           1.4392578049812785,
           3.0247850194494155,
           5.648258492014935,
           2.547692517278528,
           0.48014571182678534,
           0.7040385003133021
          ],
          [
           1.7628102274408979,
           2.0502809208349038,
           1.4789168867450473,
           2.1450827070488376,
           1.4304749521173163,
           1.9120796176326404,
           1.18470154139879,
           1.028260895232835,
           1.4829217733701756,
           3.117630540897305,
           0.2015233018650348,
           9.088585478293298,
           2.6103732915434876,
           1.2023728722291793,
           0.3015981421368166
          ]
         ]
        }
       ],
       "layout": {
        "coloraxis": {
         "cmax": 5,
         "cmin": 0,
         "colorbar": {
          "ticktext": [
           "0",
           "0.5",
           "1",
           "1.5",
           "2",
           "2.5",
           "3",
           "3.5",
           "4",
           "4.5",
           "≥5"
          ],
          "tickvals": [
           0,
           0.5,
           1,
           1.5,
           2,
           2.5,
           3,
           3.5,
           4,
           4.5,
           5
          ],
          "title": {
           "text": "Conviction"
          }
         },
         "colorscale": [
          [
           0,
           "rgb(103,0,31)"
          ],
          [
           0.2,
           "rgb(247, 247, 247)"
          ],
          [
           0.4,
           "rgb(67,147,195)"
          ],
          [
           1,
           "rgb(5,48,97)"
          ]
         ]
        },
        "template": {
         "data": {
          "bar": [
           {
            "error_x": {
             "color": "#2a3f5f"
            },
            "error_y": {
             "color": "#2a3f5f"
            },
            "marker": {
             "line": {
              "color": "#E5ECF6",
              "width": 0.5
             },
             "pattern": {
              "fillmode": "overlay",
              "size": 10,
              "solidity": 0.2
             }
            },
            "type": "bar"
           }
          ],
          "barpolar": [
           {
            "marker": {
             "line": {
              "color": "#E5ECF6",
              "width": 0.5
             },
             "pattern": {
              "fillmode": "overlay",
              "size": 10,
              "solidity": 0.2
             }
            },
            "type": "barpolar"
           }
          ],
          "carpet": [
           {
            "aaxis": {
             "endlinecolor": "#2a3f5f",
             "gridcolor": "white",
             "linecolor": "white",
             "minorgridcolor": "white",
             "startlinecolor": "#2a3f5f"
            },
            "baxis": {
             "endlinecolor": "#2a3f5f",
             "gridcolor": "white",
             "linecolor": "white",
             "minorgridcolor": "white",
             "startlinecolor": "#2a3f5f"
            },
            "type": "carpet"
           }
          ],
          "choropleth": [
           {
            "colorbar": {
             "outlinewidth": 0,
             "ticks": ""
            },
            "type": "choropleth"
           }
          ],
          "contour": [
           {
            "colorbar": {
             "outlinewidth": 0,
             "ticks": ""
            },
            "colorscale": [
             [
              0,
              "#0d0887"
             ],
             [
              0.1111111111111111,
              "#46039f"
             ],
             [
              0.2222222222222222,
              "#7201a8"
             ],
             [
              0.3333333333333333,
              "#9c179e"
             ],
             [
              0.4444444444444444,
              "#bd3786"
             ],
             [
              0.5555555555555556,
              "#d8576b"
             ],
             [
              0.6666666666666666,
              "#ed7953"
             ],
             [
              0.7777777777777778,
              "#fb9f3a"
             ],
             [
              0.8888888888888888,
              "#fdca26"
             ],
             [
              1,
              "#f0f921"
             ]
            ],
            "type": "contour"
           }
          ],
          "contourcarpet": [
           {
            "colorbar": {
             "outlinewidth": 0,
             "ticks": ""
            },
            "type": "contourcarpet"
           }
          ],
          "heatmap": [
           {
            "colorbar": {
             "outlinewidth": 0,
             "ticks": ""
            },
            "colorscale": [
             [
              0,
              "#0d0887"
             ],
             [
              0.1111111111111111,
              "#46039f"
             ],
             [
              0.2222222222222222,
              "#7201a8"
             ],
             [
              0.3333333333333333,
              "#9c179e"
             ],
             [
              0.4444444444444444,
              "#bd3786"
             ],
             [
              0.5555555555555556,
              "#d8576b"
             ],
             [
              0.6666666666666666,
              "#ed7953"
             ],
             [
              0.7777777777777778,
              "#fb9f3a"
             ],
             [
              0.8888888888888888,
              "#fdca26"
             ],
             [
              1,
              "#f0f921"
             ]
            ],
            "type": "heatmap"
           }
          ],
          "heatmapgl": [
           {
            "colorbar": {
             "outlinewidth": 0,
             "ticks": ""
            },
            "colorscale": [
             [
              0,
              "#0d0887"
             ],
             [
              0.1111111111111111,
              "#46039f"
             ],
             [
              0.2222222222222222,
              "#7201a8"
             ],
             [
              0.3333333333333333,
              "#9c179e"
             ],
             [
              0.4444444444444444,
              "#bd3786"
             ],
             [
              0.5555555555555556,
              "#d8576b"
             ],
             [
              0.6666666666666666,
              "#ed7953"
             ],
             [
              0.7777777777777778,
              "#fb9f3a"
             ],
             [
              0.8888888888888888,
              "#fdca26"
             ],
             [
              1,
              "#f0f921"
             ]
            ],
            "type": "heatmapgl"
           }
          ],
          "histogram": [
           {
            "marker": {
             "pattern": {
              "fillmode": "overlay",
              "size": 10,
              "solidity": 0.2
             }
            },
            "type": "histogram"
           }
          ],
          "histogram2d": [
           {
            "colorbar": {
             "outlinewidth": 0,
             "ticks": ""
            },
            "colorscale": [
             [
              0,
              "#0d0887"
             ],
             [
              0.1111111111111111,
              "#46039f"
             ],
             [
              0.2222222222222222,
              "#7201a8"
             ],
             [
              0.3333333333333333,
              "#9c179e"
             ],
             [
              0.4444444444444444,
              "#bd3786"
             ],
             [
              0.5555555555555556,
              "#d8576b"
             ],
             [
              0.6666666666666666,
              "#ed7953"
             ],
             [
              0.7777777777777778,
              "#fb9f3a"
             ],
             [
              0.8888888888888888,
              "#fdca26"
             ],
             [
              1,
              "#f0f921"
             ]
            ],
            "type": "histogram2d"
           }
          ],
          "histogram2dcontour": [
           {
            "colorbar": {
             "outlinewidth": 0,
             "ticks": ""
            },
            "colorscale": [
             [
              0,
              "#0d0887"
             ],
             [
              0.1111111111111111,
              "#46039f"
             ],
             [
              0.2222222222222222,
              "#7201a8"
             ],
             [
              0.3333333333333333,
              "#9c179e"
             ],
             [
              0.4444444444444444,
              "#bd3786"
             ],
             [
              0.5555555555555556,
              "#d8576b"
             ],
             [
              0.6666666666666666,
              "#ed7953"
             ],
             [
              0.7777777777777778,
              "#fb9f3a"
             ],
             [
              0.8888888888888888,
              "#fdca26"
             ],
             [
              1,
              "#f0f921"
             ]
            ],
            "type": "histogram2dcontour"
           }
          ],
          "mesh3d": [
           {
            "colorbar": {
             "outlinewidth": 0,
             "ticks": ""
            },
            "type": "mesh3d"
           }
          ],
          "parcoords": [
           {
            "line": {
             "colorbar": {
              "outlinewidth": 0,
              "ticks": ""
             }
            },
            "type": "parcoords"
           }
          ],
          "pie": [
           {
            "automargin": true,
            "type": "pie"
           }
          ],
          "scatter": [
           {
            "fillpattern": {
             "fillmode": "overlay",
             "size": 10,
             "solidity": 0.2
            },
            "type": "scatter"
           }
          ],
          "scatter3d": [
           {
            "line": {
             "colorbar": {
              "outlinewidth": 0,
              "ticks": ""
             }
            },
            "marker": {
             "colorbar": {
              "outlinewidth": 0,
              "ticks": ""
             }
            },
            "type": "scatter3d"
           }
          ],
          "scattercarpet": [
           {
            "marker": {
             "colorbar": {
              "outlinewidth": 0,
              "ticks": ""
             }
            },
            "type": "scattercarpet"
           }
          ],
          "scattergeo": [
           {
            "marker": {
             "colorbar": {
              "outlinewidth": 0,
              "ticks": ""
             }
            },
            "type": "scattergeo"
           }
          ],
          "scattergl": [
           {
            "marker": {
             "colorbar": {
              "outlinewidth": 0,
              "ticks": ""
             }
            },
            "type": "scattergl"
           }
          ],
          "scattermapbox": [
           {
            "marker": {
             "colorbar": {
              "outlinewidth": 0,
              "ticks": ""
             }
            },
            "type": "scattermapbox"
           }
          ],
          "scatterpolar": [
           {
            "marker": {
             "colorbar": {
              "outlinewidth": 0,
              "ticks": ""
             }
            },
            "type": "scatterpolar"
           }
          ],
          "scatterpolargl": [
           {
            "marker": {
             "colorbar": {
              "outlinewidth": 0,
              "ticks": ""
             }
            },
            "type": "scatterpolargl"
           }
          ],
          "scatterternary": [
           {
            "marker": {
             "colorbar": {
              "outlinewidth": 0,
              "ticks": ""
             }
            },
            "type": "scatterternary"
           }
          ],
          "surface": [
           {
            "colorbar": {
             "outlinewidth": 0,
             "ticks": ""
            },
            "colorscale": [
             [
              0,
              "#0d0887"
             ],
             [
              0.1111111111111111,
              "#46039f"
             ],
             [
              0.2222222222222222,
              "#7201a8"
             ],
             [
              0.3333333333333333,
              "#9c179e"
             ],
             [
              0.4444444444444444,
              "#bd3786"
             ],
             [
              0.5555555555555556,
              "#d8576b"
             ],
             [
              0.6666666666666666,
              "#ed7953"
             ],
             [
              0.7777777777777778,
              "#fb9f3a"
             ],
             [
              0.8888888888888888,
              "#fdca26"
             ],
             [
              1,
              "#f0f921"
             ]
            ],
            "type": "surface"
           }
          ],
          "table": [
           {
            "cells": {
             "fill": {
              "color": "#EBF0F8"
             },
             "line": {
              "color": "white"
             }
            },
            "header": {
             "fill": {
              "color": "#C8D4E3"
             },
             "line": {
              "color": "white"
             }
            },
            "type": "table"
           }
          ]
         },
         "layout": {
          "annotationdefaults": {
           "arrowcolor": "#2a3f5f",
           "arrowhead": 0,
           "arrowwidth": 1
          },
          "autotypenumbers": "strict",
          "coloraxis": {
           "colorbar": {
            "outlinewidth": 0,
            "ticks": ""
           }
          },
          "colorscale": {
           "diverging": [
            [
             0,
             "#8e0152"
            ],
            [
             0.1,
             "#c51b7d"
            ],
            [
             0.2,
             "#de77ae"
            ],
            [
             0.3,
             "#f1b6da"
            ],
            [
             0.4,
             "#fde0ef"
            ],
            [
             0.5,
             "#f7f7f7"
            ],
            [
             0.6,
             "#e6f5d0"
            ],
            [
             0.7,
             "#b8e186"
            ],
            [
             0.8,
             "#7fbc41"
            ],
            [
             0.9,
             "#4d9221"
            ],
            [
             1,
             "#276419"
            ]
           ],
           "sequential": [
            [
             0,
             "#0d0887"
            ],
            [
             0.1111111111111111,
             "#46039f"
            ],
            [
             0.2222222222222222,
             "#7201a8"
            ],
            [
             0.3333333333333333,
             "#9c179e"
            ],
            [
             0.4444444444444444,
             "#bd3786"
            ],
            [
             0.5555555555555556,
             "#d8576b"
            ],
            [
             0.6666666666666666,
             "#ed7953"
            ],
            [
             0.7777777777777778,
             "#fb9f3a"
            ],
            [
             0.8888888888888888,
             "#fdca26"
            ],
            [
             1,
             "#f0f921"
            ]
           ],
           "sequentialminus": [
            [
             0,
             "#0d0887"
            ],
            [
             0.1111111111111111,
             "#46039f"
            ],
            [
             0.2222222222222222,
             "#7201a8"
            ],
            [
             0.3333333333333333,
             "#9c179e"
            ],
            [
             0.4444444444444444,
             "#bd3786"
            ],
            [
             0.5555555555555556,
             "#d8576b"
            ],
            [
             0.6666666666666666,
             "#ed7953"
            ],
            [
             0.7777777777777778,
             "#fb9f3a"
            ],
            [
             0.8888888888888888,
             "#fdca26"
            ],
            [
             1,
             "#f0f921"
            ]
           ]
          },
          "colorway": [
           "#636efa",
           "#EF553B",
           "#00cc96",
           "#ab63fa",
           "#FFA15A",
           "#19d3f3",
           "#FF6692",
           "#B6E880",
           "#FF97FF",
           "#FECB52"
          ],
          "font": {
           "color": "#2a3f5f"
          },
          "geo": {
           "bgcolor": "white",
           "lakecolor": "white",
           "landcolor": "#E5ECF6",
           "showlakes": true,
           "showland": true,
           "subunitcolor": "white"
          },
          "hoverlabel": {
           "align": "left"
          },
          "hovermode": "closest",
          "mapbox": {
           "style": "light"
          },
          "paper_bgcolor": "white",
          "plot_bgcolor": "#E5ECF6",
          "polar": {
           "angularaxis": {
            "gridcolor": "white",
            "linecolor": "white",
            "ticks": ""
           },
           "bgcolor": "#E5ECF6",
           "radialaxis": {
            "gridcolor": "white",
            "linecolor": "white",
            "ticks": ""
           }
          },
          "scene": {
           "xaxis": {
            "backgroundcolor": "#E5ECF6",
            "gridcolor": "white",
            "gridwidth": 2,
            "linecolor": "white",
            "showbackground": true,
            "ticks": "",
            "zerolinecolor": "white"
           },
           "yaxis": {
            "backgroundcolor": "#E5ECF6",
            "gridcolor": "white",
            "gridwidth": 2,
            "linecolor": "white",
            "showbackground": true,
            "ticks": "",
            "zerolinecolor": "white"
           },
           "zaxis": {
            "backgroundcolor": "#E5ECF6",
            "gridcolor": "white",
            "gridwidth": 2,
            "linecolor": "white",
            "showbackground": true,
            "ticks": "",
            "zerolinecolor": "white"
           }
          },
          "shapedefaults": {
           "line": {
            "color": "#2a3f5f"
           }
          },
          "ternary": {
           "aaxis": {
            "gridcolor": "white",
            "linecolor": "white",
            "ticks": ""
           },
           "baxis": {
            "gridcolor": "white",
            "linecolor": "white",
            "ticks": ""
           },
           "bgcolor": "#E5ECF6",
           "caxis": {
            "gridcolor": "white",
            "linecolor": "white",
            "ticks": ""
           }
          },
          "title": {
           "x": 0.05
          },
          "xaxis": {
           "automargin": true,
           "gridcolor": "white",
           "linecolor": "white",
           "ticks": "",
           "title": {
            "standoff": 15
           },
           "zerolinecolor": "white",
           "zerolinewidth": 2
          },
          "yaxis": {
           "automargin": true,
           "gridcolor": "white",
           "linecolor": "white",
           "ticks": "",
           "title": {
            "standoff": 15
           },
           "zerolinecolor": "white",
           "zerolinewidth": 2
          }
         }
        },
        "title": {
         "text": "Inliers"
        },
        "xaxis": {
         "anchor": "y",
         "domain": [
          0,
          1
         ],
         "title": {
          "text": "Feature"
         }
        },
        "yaxis": {
         "anchor": "x",
         "autorange": "reversed",
         "domain": [
          0,
          1
         ],
         "title": {
          "text": "Residual Conviction"
         }
        }
       }
      }
     },
     "metadata": {},
     "output_type": "display_data"
    }
   ],
   "source": [
    "plot_anomalies(inliers, local_case_feature_residual_convictions, title=\"Inliers\", yaxis_title=\"Residual Conviction\")"
   ]
  },
  {
   "attachments": {},
   "cell_type": "markdown",
   "id": "4d444dae-f0dc-4faf-9034-6dc990f6ffdb",
   "metadata": {},
   "source": [
    "The heat map explains the reason why each case was an inlier. The darker the shade of blue, the higher the contribution the to case being an inlier."
   ]
  },
  {
   "attachments": {},
   "cell_type": "markdown",
   "id": "0f5def89-aec8-48f3-98f8-8a1790405757",
   "metadata": {},
   "source": [
    "## Potential improvements\n",
    "\n",
    "Sparse regions of the model or under defined problems can make it difficult to make an accurate prediction. Howso Engine can be used to identify potential data, or model improvements by examining the residual conviction and density."
   ]
  },
  {
   "cell_type": "code",
   "execution_count": 18,
   "id": "b1e9c25f-f263-41ea-9ea7-3d8e6247ea6d",
   "metadata": {},
   "outputs": [],
   "source": [
    "# Identify cases for investigation\n",
    "partial_train_df = stored_convictions\n",
    "partial_train_cases = partial_train_df[['.session', '.session_training_index']]\n"
   ]
  },
  {
   "cell_type": "code",
   "execution_count": 19,
   "id": "2720f5e9-3373-4c24-92bb-1e88c26ba287",
   "metadata": {},
   "outputs": [],
   "source": [
    "# Residual convictions are output via the local_case_feature_residual_convictions explanation\n",
    "details = {'global_case_feature_residual_convictions':True}\n",
    "\n",
    "# Get the residual convictions for the specified cases\n",
    "new_result = t.react(case_indices=partial_train_cases.values.tolist(), \n",
    "                     leave_case_out=True, \n",
    "                     preserve_feature_values=df.drop(action_features, axis=1).columns.tolist(), \n",
    "                     action_features=action_features,\n",
    "                     details=details)"
   ]
  },
  {
   "cell_type": "code",
   "execution_count": 20,
   "id": "a6b08957-6417-415e-89ed-3a70c324678d",
   "metadata": {},
   "outputs": [],
   "source": [
    "# Extract residual conviction\n",
    "target_residual_convictions = [ x['target'] for x in new_result['explanation']['global_case_feature_residual_convictions'] ]\n",
    "\n",
    "# Binarize residual conviction\n",
    "convict_threshold = 0.75\n",
    "low_residual_conviction = [1 if x <= convict_threshold else 0 for x in target_residual_convictions]\n",
    "\n",
    "# Density is just the inverse of distance_contribution\n",
    "density = 1 / partial_train_df['distance_contribution']\n",
    "\n",
    "# Add new features to the dataframe\n",
    "partial_train_df['density'] = density\n",
    "partial_train_df['target_residual_conviction'] = target_residual_convictions\n",
    "partial_train_df['low_residual_conviction'] = low_residual_conviction"
   ]
  },
  {
   "cell_type": "code",
   "execution_count": 21,
   "id": "a658e9b0-5d57-4647-bf94-2120a5bad6cf",
   "metadata": {},
   "outputs": [
    {
     "data": {
      "text/html": [
       "<div>\n",
       "<style scoped>\n",
       "    .dataframe tbody tr th:only-of-type {\n",
       "        vertical-align: middle;\n",
       "    }\n",
       "\n",
       "    .dataframe tbody tr th {\n",
       "        vertical-align: top;\n",
       "    }\n",
       "\n",
       "    .dataframe thead th {\n",
       "        text-align: right;\n",
       "    }\n",
       "</style>\n",
       "<table border=\"1\" class=\"dataframe\">\n",
       "  <thead>\n",
       "    <tr style=\"text-align: right;\">\n",
       "      <th></th>\n",
       "      <th>age</th>\n",
       "      <th>workclass</th>\n",
       "      <th>fnlwgt</th>\n",
       "      <th>education</th>\n",
       "      <th>education-num</th>\n",
       "      <th>marital-status</th>\n",
       "      <th>occupation</th>\n",
       "      <th>relationship</th>\n",
       "      <th>race</th>\n",
       "      <th>sex</th>\n",
       "      <th>...</th>\n",
       "      <th>hours-per-week</th>\n",
       "      <th>native-country</th>\n",
       "      <th>target</th>\n",
       "      <th>familiarity_conviction_addition</th>\n",
       "      <th>.session_training_index</th>\n",
       "      <th>.session</th>\n",
       "      <th>distance_contribution</th>\n",
       "      <th>density</th>\n",
       "      <th>target_residual_conviction</th>\n",
       "      <th>low_residual_conviction</th>\n",
       "    </tr>\n",
       "  </thead>\n",
       "  <tbody>\n",
       "    <tr>\n",
       "      <th>0</th>\n",
       "      <td>57</td>\n",
       "      <td>Private</td>\n",
       "      <td>298507</td>\n",
       "      <td>Bachelors</td>\n",
       "      <td>13</td>\n",
       "      <td>Married-civ-spouse</td>\n",
       "      <td>Prof-specialty</td>\n",
       "      <td>Husband</td>\n",
       "      <td>White</td>\n",
       "      <td>Male</td>\n",
       "      <td>...</td>\n",
       "      <td>40</td>\n",
       "      <td>United-States</td>\n",
       "      <td>&gt;50K</td>\n",
       "      <td>1.399090</td>\n",
       "      <td>0</td>\n",
       "      <td>e2137036-b16c-4ec0-9a89-55717650f6ef</td>\n",
       "      <td>10.456274</td>\n",
       "      <td>0.095636</td>\n",
       "      <td>0.399481</td>\n",
       "      <td>1</td>\n",
       "    </tr>\n",
       "    <tr>\n",
       "      <th>1</th>\n",
       "      <td>20</td>\n",
       "      <td>Private</td>\n",
       "      <td>316702</td>\n",
       "      <td>Some-college</td>\n",
       "      <td>10</td>\n",
       "      <td>Never-married</td>\n",
       "      <td>Prof-specialty</td>\n",
       "      <td>Own-child</td>\n",
       "      <td>White</td>\n",
       "      <td>Male</td>\n",
       "      <td>...</td>\n",
       "      <td>20</td>\n",
       "      <td>United-States</td>\n",
       "      <td>&lt;=50K</td>\n",
       "      <td>1.131043</td>\n",
       "      <td>1</td>\n",
       "      <td>e2137036-b16c-4ec0-9a89-55717650f6ef</td>\n",
       "      <td>9.727783</td>\n",
       "      <td>0.102798</td>\n",
       "      <td>1.580392</td>\n",
       "      <td>0</td>\n",
       "    </tr>\n",
       "    <tr>\n",
       "      <th>2</th>\n",
       "      <td>50</td>\n",
       "      <td>Private</td>\n",
       "      <td>40623</td>\n",
       "      <td>Some-college</td>\n",
       "      <td>10</td>\n",
       "      <td>Divorced</td>\n",
       "      <td>Sales</td>\n",
       "      <td>Not-in-family</td>\n",
       "      <td>White</td>\n",
       "      <td>Female</td>\n",
       "      <td>...</td>\n",
       "      <td>40</td>\n",
       "      <td>United-States</td>\n",
       "      <td>&lt;=50K</td>\n",
       "      <td>1.761223</td>\n",
       "      <td>2</td>\n",
       "      <td>e2137036-b16c-4ec0-9a89-55717650f6ef</td>\n",
       "      <td>11.807217</td>\n",
       "      <td>0.084694</td>\n",
       "      <td>5.582766</td>\n",
       "      <td>0</td>\n",
       "    </tr>\n",
       "    <tr>\n",
       "      <th>3</th>\n",
       "      <td>27</td>\n",
       "      <td>Private</td>\n",
       "      <td>194590</td>\n",
       "      <td>Assoc-acdm</td>\n",
       "      <td>12</td>\n",
       "      <td>Married-civ-spouse</td>\n",
       "      <td>Adm-clerical</td>\n",
       "      <td>Wife</td>\n",
       "      <td>Black</td>\n",
       "      <td>Female</td>\n",
       "      <td>...</td>\n",
       "      <td>25</td>\n",
       "      <td>United-States</td>\n",
       "      <td>&lt;=50K</td>\n",
       "      <td>0.956403</td>\n",
       "      <td>3</td>\n",
       "      <td>e2137036-b16c-4ec0-9a89-55717650f6ef</td>\n",
       "      <td>49.226416</td>\n",
       "      <td>0.020314</td>\n",
       "      <td>14.900144</td>\n",
       "      <td>0</td>\n",
       "    </tr>\n",
       "    <tr>\n",
       "      <th>4</th>\n",
       "      <td>18</td>\n",
       "      <td>Federal-gov</td>\n",
       "      <td>101709</td>\n",
       "      <td>11th</td>\n",
       "      <td>7</td>\n",
       "      <td>Never-married</td>\n",
       "      <td>Other-service</td>\n",
       "      <td>Own-child</td>\n",
       "      <td>Asian-Pac-Islander</td>\n",
       "      <td>Male</td>\n",
       "      <td>...</td>\n",
       "      <td>15</td>\n",
       "      <td>Philippines</td>\n",
       "      <td>&lt;=50K</td>\n",
       "      <td>0.349602</td>\n",
       "      <td>4</td>\n",
       "      <td>e2137036-b16c-4ec0-9a89-55717650f6ef</td>\n",
       "      <td>73.650080</td>\n",
       "      <td>0.013578</td>\n",
       "      <td>2.459638</td>\n",
       "      <td>0</td>\n",
       "    </tr>\n",
       "    <tr>\n",
       "      <th>...</th>\n",
       "      <td>...</td>\n",
       "      <td>...</td>\n",
       "      <td>...</td>\n",
       "      <td>...</td>\n",
       "      <td>...</td>\n",
       "      <td>...</td>\n",
       "      <td>...</td>\n",
       "      <td>...</td>\n",
       "      <td>...</td>\n",
       "      <td>...</td>\n",
       "      <td>...</td>\n",
       "      <td>...</td>\n",
       "      <td>...</td>\n",
       "      <td>...</td>\n",
       "      <td>...</td>\n",
       "      <td>...</td>\n",
       "      <td>...</td>\n",
       "      <td>...</td>\n",
       "      <td>...</td>\n",
       "      <td>...</td>\n",
       "      <td>...</td>\n",
       "    </tr>\n",
       "    <tr>\n",
       "      <th>995</th>\n",
       "      <td>19</td>\n",
       "      <td>Private</td>\n",
       "      <td>293928</td>\n",
       "      <td>HS-grad</td>\n",
       "      <td>9</td>\n",
       "      <td>Never-married</td>\n",
       "      <td>Adm-clerical</td>\n",
       "      <td>Own-child</td>\n",
       "      <td>White</td>\n",
       "      <td>Female</td>\n",
       "      <td>...</td>\n",
       "      <td>20</td>\n",
       "      <td>United-States</td>\n",
       "      <td>&lt;=50K</td>\n",
       "      <td>0.728085</td>\n",
       "      <td>995</td>\n",
       "      <td>e2137036-b16c-4ec0-9a89-55717650f6ef</td>\n",
       "      <td>7.263543</td>\n",
       "      <td>0.137674</td>\n",
       "      <td>0.892529</td>\n",
       "      <td>0</td>\n",
       "    </tr>\n",
       "    <tr>\n",
       "      <th>996</th>\n",
       "      <td>20</td>\n",
       "      <td>Private</td>\n",
       "      <td>194630</td>\n",
       "      <td>HS-grad</td>\n",
       "      <td>9</td>\n",
       "      <td>Never-married</td>\n",
       "      <td>Sales</td>\n",
       "      <td>Not-in-family</td>\n",
       "      <td>White</td>\n",
       "      <td>Male</td>\n",
       "      <td>...</td>\n",
       "      <td>40</td>\n",
       "      <td>United-States</td>\n",
       "      <td>&lt;=50K</td>\n",
       "      <td>0.442983</td>\n",
       "      <td>996</td>\n",
       "      <td>e2137036-b16c-4ec0-9a89-55717650f6ef</td>\n",
       "      <td>4.764119</td>\n",
       "      <td>0.209902</td>\n",
       "      <td>24.472008</td>\n",
       "      <td>0</td>\n",
       "    </tr>\n",
       "    <tr>\n",
       "      <th>997</th>\n",
       "      <td>59</td>\n",
       "      <td>Private</td>\n",
       "      <td>314149</td>\n",
       "      <td>Assoc-voc</td>\n",
       "      <td>11</td>\n",
       "      <td>Married-civ-spouse</td>\n",
       "      <td>Sales</td>\n",
       "      <td>Husband</td>\n",
       "      <td>White</td>\n",
       "      <td>Male</td>\n",
       "      <td>...</td>\n",
       "      <td>50</td>\n",
       "      <td>United-States</td>\n",
       "      <td>&lt;=50K</td>\n",
       "      <td>0.723027</td>\n",
       "      <td>997</td>\n",
       "      <td>e2137036-b16c-4ec0-9a89-55717650f6ef</td>\n",
       "      <td>54.322125</td>\n",
       "      <td>0.018409</td>\n",
       "      <td>3.335427</td>\n",
       "      <td>0</td>\n",
       "    </tr>\n",
       "    <tr>\n",
       "      <th>998</th>\n",
       "      <td>34</td>\n",
       "      <td>Self-emp-not-inc</td>\n",
       "      <td>288486</td>\n",
       "      <td>11th</td>\n",
       "      <td>7</td>\n",
       "      <td>Married-civ-spouse</td>\n",
       "      <td>Craft-repair</td>\n",
       "      <td>Husband</td>\n",
       "      <td>White</td>\n",
       "      <td>Male</td>\n",
       "      <td>...</td>\n",
       "      <td>40</td>\n",
       "      <td>United-States</td>\n",
       "      <td>&lt;=50K</td>\n",
       "      <td>0.698722</td>\n",
       "      <td>998</td>\n",
       "      <td>e2137036-b16c-4ec0-9a89-55717650f6ef</td>\n",
       "      <td>8.160336</td>\n",
       "      <td>0.122544</td>\n",
       "      <td>2.381080</td>\n",
       "      <td>0</td>\n",
       "    </tr>\n",
       "    <tr>\n",
       "      <th>999</th>\n",
       "      <td>53</td>\n",
       "      <td>?</td>\n",
       "      <td>199665</td>\n",
       "      <td>Bachelors</td>\n",
       "      <td>13</td>\n",
       "      <td>Married-civ-spouse</td>\n",
       "      <td>?</td>\n",
       "      <td>Husband</td>\n",
       "      <td>White</td>\n",
       "      <td>Male</td>\n",
       "      <td>...</td>\n",
       "      <td>30</td>\n",
       "      <td>United-States</td>\n",
       "      <td>&gt;50K</td>\n",
       "      <td>322.714794</td>\n",
       "      <td>999</td>\n",
       "      <td>e2137036-b16c-4ec0-9a89-55717650f6ef</td>\n",
       "      <td>22.482679</td>\n",
       "      <td>0.044479</td>\n",
       "      <td>0.357573</td>\n",
       "      <td>1</td>\n",
       "    </tr>\n",
       "  </tbody>\n",
       "</table>\n",
       "<p>1000 rows × 22 columns</p>\n",
       "</div>"
      ],
      "text/plain": [
       "     age          workclass  fnlwgt      education  education-num  \\\n",
       "0     57            Private  298507      Bachelors             13   \n",
       "1     20            Private  316702   Some-college             10   \n",
       "2     50            Private   40623   Some-college             10   \n",
       "3     27            Private  194590     Assoc-acdm             12   \n",
       "4     18        Federal-gov  101709           11th              7   \n",
       "..   ...                ...     ...            ...            ...   \n",
       "995   19            Private  293928        HS-grad              9   \n",
       "996   20            Private  194630        HS-grad              9   \n",
       "997   59            Private  314149      Assoc-voc             11   \n",
       "998   34   Self-emp-not-inc  288486           11th              7   \n",
       "999   53                  ?  199665      Bachelors             13   \n",
       "\n",
       "          marital-status       occupation    relationship  \\\n",
       "0     Married-civ-spouse   Prof-specialty         Husband   \n",
       "1          Never-married   Prof-specialty       Own-child   \n",
       "2               Divorced            Sales   Not-in-family   \n",
       "3     Married-civ-spouse     Adm-clerical            Wife   \n",
       "4          Never-married    Other-service       Own-child   \n",
       "..                   ...              ...             ...   \n",
       "995        Never-married     Adm-clerical       Own-child   \n",
       "996        Never-married            Sales   Not-in-family   \n",
       "997   Married-civ-spouse            Sales         Husband   \n",
       "998   Married-civ-spouse     Craft-repair         Husband   \n",
       "999   Married-civ-spouse                ?         Husband   \n",
       "\n",
       "                    race      sex  ...  hours-per-week  native-country  \\\n",
       "0                  White     Male  ...              40   United-States   \n",
       "1                  White     Male  ...              20   United-States   \n",
       "2                  White   Female  ...              40   United-States   \n",
       "3                  Black   Female  ...              25   United-States   \n",
       "4     Asian-Pac-Islander     Male  ...              15     Philippines   \n",
       "..                   ...      ...  ...             ...             ...   \n",
       "995                White   Female  ...              20   United-States   \n",
       "996                White     Male  ...              40   United-States   \n",
       "997                White     Male  ...              50   United-States   \n",
       "998                White     Male  ...              40   United-States   \n",
       "999                White     Male  ...              30   United-States   \n",
       "\n",
       "     target familiarity_conviction_addition .session_training_index  \\\n",
       "0      >50K                        1.399090                       0   \n",
       "1     <=50K                        1.131043                       1   \n",
       "2     <=50K                        1.761223                       2   \n",
       "3     <=50K                        0.956403                       3   \n",
       "4     <=50K                        0.349602                       4   \n",
       "..      ...                             ...                     ...   \n",
       "995   <=50K                        0.728085                     995   \n",
       "996   <=50K                        0.442983                     996   \n",
       "997   <=50K                        0.723027                     997   \n",
       "998   <=50K                        0.698722                     998   \n",
       "999    >50K                      322.714794                     999   \n",
       "\n",
       "                                 .session  distance_contribution   density  \\\n",
       "0    e2137036-b16c-4ec0-9a89-55717650f6ef              10.456274  0.095636   \n",
       "1    e2137036-b16c-4ec0-9a89-55717650f6ef               9.727783  0.102798   \n",
       "2    e2137036-b16c-4ec0-9a89-55717650f6ef              11.807217  0.084694   \n",
       "3    e2137036-b16c-4ec0-9a89-55717650f6ef              49.226416  0.020314   \n",
       "4    e2137036-b16c-4ec0-9a89-55717650f6ef              73.650080  0.013578   \n",
       "..                                    ...                    ...       ...   \n",
       "995  e2137036-b16c-4ec0-9a89-55717650f6ef               7.263543  0.137674   \n",
       "996  e2137036-b16c-4ec0-9a89-55717650f6ef               4.764119  0.209902   \n",
       "997  e2137036-b16c-4ec0-9a89-55717650f6ef              54.322125  0.018409   \n",
       "998  e2137036-b16c-4ec0-9a89-55717650f6ef               8.160336  0.122544   \n",
       "999  e2137036-b16c-4ec0-9a89-55717650f6ef              22.482679  0.044479   \n",
       "\n",
       "     target_residual_conviction  low_residual_conviction  \n",
       "0                      0.399481                        1  \n",
       "1                      1.580392                        0  \n",
       "2                      5.582766                        0  \n",
       "3                     14.900144                        0  \n",
       "4                      2.459638                        0  \n",
       "..                          ...                      ...  \n",
       "995                    0.892529                        0  \n",
       "996                   24.472008                        0  \n",
       "997                    3.335427                        0  \n",
       "998                    2.381080                        0  \n",
       "999                    0.357573                        1  \n",
       "\n",
       "[1000 rows x 22 columns]"
      ]
     },
     "execution_count": 21,
     "metadata": {},
     "output_type": "execute_result"
    }
   ],
   "source": [
    "partial_train_df"
   ]
  },
  {
   "cell_type": "code",
   "execution_count": 22,
   "id": "d902d796-a176-486d-a427-a7783bfa9c86",
   "metadata": {},
   "outputs": [],
   "source": [
    "# Helper function to resize the data points\n",
    "def get_sizes(min_size, max_size, series):\n",
    "    min_value = series.min()\n",
    "    max_value = series.max()\n",
    "    \n",
    "    m = (max_size - min_size) / (max_value - min_value)\n",
    "    \n",
    "    sizes = series * m + min_size\n",
    "    return (sizes)\n",
    "\n",
    "partial_train_df[\"density\"] = get_sizes(5, 500, partial_train_df[\"density\"])"
   ]
  },
  {
   "cell_type": "code",
   "execution_count": 23,
   "id": "3d4ec798",
   "metadata": {},
   "outputs": [
    {
     "data": {
      "application/vnd.plotly.v1+json": {
       "config": {
        "plotlyServerURL": "https://plot.ly"
       },
       "data": [
        {
         "legendgroup": "cases",
         "legendgrouptitle": {
          "text": "Cases"
         },
         "marker": {
          "line": {
           "color": "darkgrey",
           "width": 2
          },
          "opacity": 0.4,
          "size": [
           38.91914882272676,
           41.459275074316764,
           35.03823155777219,
           12.204829217018379,
           9.81558089345691,
           79.7482898251727,
           22.268477963846017,
           32.734689516928526,
           31.203017730466435,
           26.96513426533422,
           14.982727272313431,
           75.88758413104152,
           36.766665858567976,
           12.098396050585283,
           40.08175143344358,
           21.94596563605658,
           68.68237452272825,
           97.0445737466187,
           10.306386323579996,
           11.284715571107036,
           27.51978440835687,
           13.826330515760908,
           22.45404960307008,
           20.922550053618465,
           48.77988792310719,
           11.614574310335218,
           38.025202797944594,
           26.230954013848113,
           41.26920362894087,
           160.46584517617947,
           27.518553849707136,
           10.502082626391488,
           17.53825616240688,
           58.902086111292085,
           39.678086810457216,
           15.354508458427414,
           51.23969786481634,
           35.525871641371694,
           45.91495701301071,
           11.025103953931549,
           16.879565724734714,
           19.384801497564137,
           65.75979889281211,
           36.998561670427925,
           18.5508432215291,
           37.65366708550813,
           20.974348216054587,
           19.41711003854658,
           121.26135126013776,
           26.948233853426167,
           17.5453147241875,
           25.864657638167316,
           18.80172190395824,
           23.78565663434092,
           13.566913325194996,
           18.188105017905478,
           13.649943830490173,
           19.703843819281325,
           16.92445330434522,
           42.185585377837064,
           19.89928814972088,
           387.19124442936874,
           37.44106792624041,
           22.012674195506,
           51.17642394295019,
           16.94715964453482,
           35.391877237747636,
           28.197366585936287,
           22.028727295921332,
           34.80002529817923,
           9.123442805215191,
           86.33779641143249,
           62.14508259136689,
           22.37706413595856,
           13.78551729521865,
           16.667680693578205,
           8.79466191151577,
           23.912207910855404,
           19.52408897185945,
           14.454177450572828,
           31.095973859694897,
           39.8462835918333,
           24.323013834176567,
           31.90720071314276,
           57.76718106181356,
           14.398262240113999,
           10.551702540757333,
           41.57053533157218,
           36.22782852785767,
           44.0178865381636,
           38.18483003620137,
           104.72704180991302,
           46.35420569055928,
           27.631160899587623,
           11.964815888880992,
           51.56910478281224,
           23.81066205758,
           12.596946877408232,
           97.91410640611777,
           44.653973444191315,
           25.51314904609798,
           11.176545470726797,
           46.20741346410636,
           39.1392251370942,
           22.692483726029348,
           63.83061895527781,
           55.44697524882713,
           67.10525173853037,
           52.71958951833764,
           53.62027983397248,
           109.13048760758016,
           50.52381737383183,
           15.609788772958494,
           27.13048433491023,
           42.8116984303426,
           22.18262149025031,
           34.941787159633165,
           60.746551875100685,
           66.43014606678162,
           31.913951011633515,
           27.832956927715646,
           28.67913300500835,
           14.977201193515933,
           52.188344631118724,
           17.799095414081876,
           47.297632207699,
           54.286153952758404,
           15.593174433421167,
           19.41918250021334,
           30.22757192040047,
           44.19308090170539,
           57.17032545902847,
           16.960296773505142,
           43.25045186490707,
           19.36772922919717,
           27.13095973685808,
           12.654501239072772,
           71.89529045147282,
           52.960159804214875,
           14.17347514957947,
           78.965330905537,
           16.267351335518335,
           42.64966877857356,
           16.75184608964835,
           17.732734993770276,
           20.18914739680765,
           13.340767873266527,
           28.588861941976297,
           60.63056402799238,
           11.355113593363196,
           34.991556233759724,
           16.145868882661468,
           37.74514574704469,
           29.086343456363352,
           57.717198073349294,
           41.12363179326904,
           36.791515252587686,
           46.45446767144868,
           17.6538592692823,
           47.03016384586229,
           11.671763793984235,
           10.606262226257297,
           12.480603933193471,
           33.69752178655132,
           131.43898453281525,
           11.222392016506282,
           52.94717476161218,
           24.30372986769317,
           39.66807829711108,
           38.47265312536458,
           11.972811341300295,
           18.042196031416125,
           83.41138701644223,
           13.280775138652926,
           12.444047176365402,
           23.28853626631606,
           12.779471256311663,
           106.10098742275275,
           9.647716868757783,
           20.90791792124564,
           16.70102177532013,
           23.817546334626805,
           21.8351841585194,
           20.23175628063182,
           31.339708311438216,
           12.619665520541,
           18.7673920301378,
           72.49692858321934,
           21.66818822697135,
           77.47459172713491,
           14.495337577319438,
           9.889178919400836,
           93.76614647674678,
           29.89264275896322,
           22.737369470548494,
           66.36128200107095,
           63.6807365429358,
           26.568020129116793,
           13.874157499216269,
           21.995398379655914,
           15.43072316132406,
           13.917688039863336,
           135.99752172485563,
           50.360233700098796,
           59.34577577942892,
           17.255600807820883,
           28.38861665516699,
           21.76815128333195,
           13.40078659716794,
           19.73777568485211,
           19.197881295833504,
           34.367146928740084,
           70.74806232904999,
           21.28226555533863,
           88.16669780554624,
           41.562364218836805,
           17.416492568652686,
           14.17924530112014,
           19.29640301697963,
           43.26884344006114,
           12.291194053168287,
           12.235135990016186,
           13.605913341065152,
           35.00959711306152,
           13.526039772268636,
           21.185097342611847,
           30.3120423576914,
           31.181917003472808,
           14.106328012560445,
           16.77745740949632,
           22.911480572056618,
           22.10404802308748,
           54.75511830694462,
           56.974545243871816,
           13.307963114630008,
           501.94782032772014,
           11.166213791576999,
           22.52956725328552,
           33.451076513709836,
           70.80550446850573,
           52.13131694608205,
           17.332244385576534,
           12.112121904031156,
           14.232529467885684,
           23.85743454036545,
           22.49117222713528,
           21.79728747019376,
           36.739693797388725,
           19.483920786609286,
           20.512555023753407,
           98.24309325331662,
           14.111096850101777,
           36.401505490127064,
           23.674773579458734,
           58.82712715051603,
           82.35399719370669,
           29.516758033366894,
           32.11136459775195,
           23.721112430689175,
           46.013428415533326,
           21.198885435076072,
           17.206877166313454,
           99.76261926927765,
           13.091304046862328,
           15.925847196750476,
           25.316263057284804,
           84.14813824640235,
           17.583962548656956,
           23.063165375315453,
           18.31814976417376,
           21.103595845756544,
           28.085181311827256,
           45.26776602012185,
           71.58012830882578,
           19.77738056401001,
           34.996243460737944,
           35.94096442642762,
           49.382269263797696,
           13.372040425287079,
           18.784689796526088,
           13.722276431804081,
           30.941256641769947,
           28.20585690426009,
           45.09952587849842,
           10.49182607497479,
           24.02860805815676,
           30.473269635641266,
           29.39737430911284,
           21.554200610529968,
           30.002782016051558,
           28.788957319144288,
           11.356789033357849,
           16.15566391999118,
           94.92951578414652,
           18.31617972041851,
           65.67269151317308,
           100.61725199799196,
           26.129973225005024,
           58.12659552156659,
           43.76306947626608,
           42.62188138113087,
           24.936766565307256,
           22.299586672081684,
           58.46845864011252,
           16.99360424853676,
           18.471438883894756,
           9.83443405122386,
           20.845976194385727,
           32.89732062107096,
           33.56724493343027,
           50.38365471589681,
           33.14653203446506,
           9.621416814006789,
           34.06466647586082,
           20.22251256330943,
           15.497139880978967,
           15.585898449475136,
           16.09276987622397,
           28.498890139468056,
           12.321016538342601,
           20.538108383934095,
           18.539403960382288,
           79.76101030136248,
           29.724260985249977,
           10.67408321636205,
           43.45974005879678,
           16.665865697105833,
           19.37426779757596,
           142.89465139993283,
           39.19352436747673,
           19.233704003457937,
           16.630449802717855,
           31.74121496470376,
           18.438562700189603,
           12.68378937010087,
           18.29462739596638,
           11.918685462697725,
           27.787512830333892,
           7.9641994494758475,
           29.903463523650082,
           13.30322806277751,
           114.08581467777552,
           37.513098366247114,
           44.220355532485776,
           21.458068392810763,
           36.57993612797675,
           49.17187099625849,
           30.45123100000576,
           49.53259099541644,
           12.70716963051079,
           170.26349397986974,
           16.405864386920214,
           19.928211971215504,
           25.61294681526751,
           20.75752094286677,
           62.67802955138668,
           48.08543199590948,
           29.8913436116625,
           12.125933159723921,
           13.120902717652244,
           17.927769239493358,
           18.33551630096921,
           23.314361856438953,
           37.67833465417451,
           13.341492455362227,
           26.448409563949237,
           76.89036035733812,
           14.903261904332112,
           28.562737042114282,
           18.1907816983053,
           45.57918276453331,
           70.50429002040072,
           12.779701866040678,
           18.80948741383215,
           15.545607759465389,
           12.260730025838349,
           13.035803235449016,
           31.018662345633953,
           70.93517935949721,
           55.20516656676527,
           72.27007978748554,
           22.347482496088297,
           42.040126344454954,
           23.953405174466862,
           33.31482673375267,
           39.348241164271506,
           6.947820327720161,
           14.497968574165528,
           34.629277250090276,
           19.84558251539284,
           56.42679708710324,
           76.4235665930678,
           81.64260716610062,
           51.77318608058982,
           13.789414297895808,
           20.69743427920873,
           12.018120869009195,
           25.07789574036407,
           18.294542065065635,
           26.76258378977676,
           11.74469191487853,
           47.011680605763765,
           19.598009343761667,
           16.622530607293378,
           9.183170765606686,
           72.02495592775593,
           13.054029057598894,
           39.24325222451022,
           10.090008014137155,
           19.212643245757246,
           14.272909675510984,
           15.092965919579305,
           28.462072970774347,
           28.149498516436157,
           60.69851805938849,
           20.013914135303605,
           17.43061624734186,
           40.79187078215923,
           85.3566931053666,
           29.173405817039722,
           51.7593062117143,
           16.14839600244284,
           12.088927984221328,
           18.336812656935322,
           32.53146846366957,
           10.899076861591134,
           11.865930391767783,
           20.552664995960647,
           42.247151774172835,
           43.20718558732975,
           41.086702130021386,
           37.13420366932205,
           31.868765714374362,
           12.358236617685549,
           172.0834697649984,
           90.57322096912249,
           23.756843493410283,
           9.210342435939603,
           23.465587164094316,
           52.28905751437749,
           27.06957738080001,
           66.12932467049714,
           18.91133975628437,
           59.501591301611334,
           63.92723681602751,
           58.621033414924206,
           48.32459919109877,
           55.96027905703667,
           43.377817474706696,
           13.19846144875467,
           14.743921736166701,
           46.52236287386023,
           31.197375065926934,
           24.116681646601407,
           50.97629046929408,
           34.472979646302065,
           19.22137571662396,
           23.85997190287768,
           23.83839943836803,
           39.65878670111485,
           41.04313817944957,
           25.688760492436707,
           12.892043970811478,
           30.20315341258575,
           28.346208103984473,
           13.482756005049723,
           9.340624816842762,
           62.805620031821356,
           31.139736885880367,
           69.71854794153407,
           55.583167338711796,
           29.117104525886422,
           11.23218324598189,
           21.45346699563282,
           23.8823824132173,
           37.63490762058219,
           30.638413051950828,
           12.14763628007889,
           95.92271877453778,
           26.9705111040941,
           28.657399685294433,
           21.699905738792722,
           46.30197911588974,
           15.839835797156026,
           50.64967860145727,
           13.934155895610228,
           17.98718108751612,
           51.680031783224685,
           95.81572545895752,
           9.636897267857849,
           132.6759282996154,
           8.62969224202794,
           71.37203965331167,
           10.520353173048834,
           9.425372618486692,
           35.446863688951495,
           10.359716597830584,
           14.970702524653582,
           31.597465170708325,
           17.898226393458856,
           32.78774657011193,
           27.841096792068726,
           29.588792620348848,
           16.140317598681925,
           55.09858088738324,
           37.04171528498929,
           23.353840354796716,
           142.08542651112853,
           17.177914838193743,
           79.86184670425696,
           102.67715166919699,
           13.787170650337528,
           17.753523306520137,
           44.8608708082405,
           21.614080190929656,
           20.189119123113702,
           137.37459509095538,
           23.8405857131174,
           14.60074932465225,
           51.343320130689094,
           20.158039887363877,
           36.82306585735169,
           40.52344578493925,
           50.4419993795132,
           39.46788405048763,
           21.662158495422624,
           19.002333174401006,
           33.406057902052126,
           37.05429353445897,
           14.188870462114208,
           14.754872921335672,
           10.029145635351867,
           14.547394281617107,
           16.731479196516666,
           17.713268398654648,
           149.80091184355342,
           71.59958303555688,
           46.70036451191323,
           67.6410713419145,
           72.53329219464906,
           20.698391926858257,
           192.10041828364876,
           14.23893192951962,
           16.49235406302456,
           40.80067472617761,
           46.90660557663185,
           22.10961814333439,
           58.97716741953725,
           34.92186394900642,
           38.077209955825175,
           29.857122401221204,
           24.628519777908643,
           89.6887594387937,
           14.352506520064031,
           52.485701496240004,
           9.823083201495702,
           33.21253873035082,
           37.387909650524186,
           18.873231763891507,
           16.651545777625017,
           39.264634131995365,
           22.984039051801844,
           33.20014722672588,
           54.89797794227917,
           59.770212969079964,
           9.2269279456815,
           82.18243288946726,
           14.976224630291913,
           80.96452825966533,
           12.293804452370516,
           25.23127801737525,
           13.227565611951531,
           38.337303988823706,
           23.905776081911284,
           27.15341489125519,
           15.832258039879227,
           48.55233306049236,
           21.56242412877368,
           19.831482174960954,
           14.903017543749408,
           33.58997578515476,
           13.557333534035257,
           335.4475266845374,
           17.56313106638084,
           15.543354758882025,
           17.08670552867834,
           44.499567430449225,
           33.18482050889267,
           16.285792273257407,
           36.860360423556315,
           18.778123060884376,
           66.12913393297663,
           11.997611665426675,
           48.94356380200377,
           43.3100231497762,
           20.992217326464818,
           219.59564348920725,
           45.15531650301005,
           24.54623722363396,
           9.277172557561169,
           22.796279596749347,
           13.335900321756908,
           23.579863902141255,
           37.8876928986736,
           59.14797271855343,
           18.982757338420704,
           25.345367087827213,
           16.644740834385704,
           14.6401151510386,
           55.85610514146537,
           19.393527959758856,
           9.253290055045312,
           25.08206797119326,
           20.083623053788614,
           16.77455911771567,
           13.22148132974539,
           30.452663418675556,
           10.268219080905679,
           33.06845730285393,
           58.5721750877967,
           11.68160421815088,
           22.418392481394,
           59.630770453902976,
           12.346209877502831,
           13.45299287784962,
           151.11118543440145,
           18.072943454924978,
           37.04390138560501,
           16.98728714036443,
           35.70763269516921,
           106.02178789686243,
           9.387553782343561,
           47.52743525947225,
           12.276787044997981,
           20.163049879614384,
           28.394064376319466,
           27.400641259801382,
           20.05706663215851,
           15.394308693079518,
           16.756755938957618,
           19.731683733513965,
           38.222610889321594,
           21.973030092637526,
           28.219450834178296,
           36.201569168349735,
           13.081584215342945,
           24.19430661828185,
           17.73776842936627,
           12.767659340205157,
           25.372641906173733,
           50.94515758474208,
           28.916484862630252,
           9.722457219924037,
           29.614418293479844,
           19.818580650152473,
           11.307258120708713,
           67.22296154043676,
           9.712328840659131,
           45.032735277740315,
           84.85049862234234,
           42.16111380832285,
           31.123828247704488,
           40.20750539961914,
           96.43929004708161,
           46.039281418146054,
           10.716914808151326,
           21.22327368086358,
           51.90056551669123,
           15.31753917384152,
           9.595168132956092,
           8.921748320770185,
           64.45340545225866,
           41.950481620653164,
           54.06697283777295,
           19.408754285353815,
           24.068988653587418,
           101.80639974954008,
           28.866329990643337,
           20.593812777382258,
           12.091148361550667,
           55.69347186648898,
           89.62407316987638,
           16.774823334381722,
           18.233905602074678,
           23.47020926500962,
           41.361784682691855,
           10.785405446181997,
           15.826325654645863,
           14.237780655287484,
           33.861564036974855,
           23.293211806934167,
           12.040464495630147,
           49.180154407317275,
           72.74985237543511,
           36.16802697134958,
           15.987694614663903,
           14.602340046553218,
           121.6475340086968,
           38.67627474518876,
           52.40533856583376,
           14.161742614240689,
           16.651411688473228,
           13.432464993776703,
           106.31911329123653,
           93.45169333103067,
           73.6611052409368,
           16.34764264003799,
           13.446595900348262,
           25.161198081047207,
           18.168374006800743,
           90.93917192072614,
           29.362522210269745,
           130.33034118266164,
           38.05717985401317,
           22.166837947522055,
           11.015313569619693,
           34.570857458220104,
           233.7347698020009,
           22.997850587484372,
           130.84658917559477,
           28.947835344085078,
           15.096641684972202,
           15.76448313188009,
           123.49338674129339,
           15.292514130765275,
           31.349680145084292,
           13.411392455552768,
           24.241555143269583,
           14.042063932500987,
           43.094618497867934,
           17.113207562552684,
           18.48197711967459,
           18.776414137858758,
           15.562687271992935,
           31.8528314775287,
           17.246529947851766,
           51.47464205412559,
           9.743338526188047,
           20.575362933705506,
           28.087926151859072,
           54.46656967992616,
           12.829716430477237,
           55.85181756472059,
           8.933045857070148,
           13.63591317343263,
           41.7913781348868,
           13.395225179885118,
           26.11207599894151,
           64.82546934156542,
           10.775553706171529,
           28.719243075256212,
           16.390658477280724,
           19.899965767428476,
           126.96241608580745,
           19.962732466697403,
           22.47306068558842,
           59.581737495410586,
           27.90942818368469,
           13.66006227482707,
           53.29338719375086,
           38.03038649495094,
           24.706733732278334,
           31.3423500030923,
           40.92345042427596,
           11.533710891668896,
           49.49368184482758,
           48.889408486667705,
           69.0465986699283,
           8.788377573235108,
           32.586514188967804,
           71.6456457146457,
           46.16762527143381,
           57.95791701731452,
           55.22663356286058,
           25.319264794587532,
           46.25561010174734,
           72.51226037730319,
           37.19927403756651,
           16.793694514172014,
           18.463458693041858,
           9.154567605219164,
           13.37837216667506,
           24.683588390242857,
           174.95390680951814,
           61.183713710940495,
           22.967262896594836,
           23.057663175583187,
           36.509982149390595,
           11.277962410559034,
           101.01052384510426,
           44.01611520710605,
           157.99418696807678,
           23.952916035876832,
           8.553255992368126,
           24.48428865543928,
           16.886515799668288,
           17.53219477240915,
           30.20022322287101,
           37.00508995458813,
           71.73871341036259,
           26.364969108501693,
           42.701085260527364,
           21.496137606753315,
           18.205853962375357,
           37.48974739248067,
           95.22111263775676,
           32.512209719125124,
           44.90065852763967,
           55.826294925189366,
           13.129390238591501,
           29.48704281244931,
           103.4589605836888,
           16.424779061634013,
           29.414823138084614,
           32.055315867976184,
           21.537894376100216,
           41.90232260154866,
           15.20007328044834,
           11.200187200596876,
           40.72464828972234,
           12.400975978831026,
           12.8823035094299,
           85.11475140364266,
           18.204249508367695,
           23.97440861819434,
           15.510094526734887,
           9.441406879703738,
           44.46837503518601,
           14.95967041546568,
           61.636532652248576,
           16.840006842850173,
           22.64651498057448,
           12.552974193124903,
           15.441629474276805,
           64.82273677381781,
           31.22361859199823,
           25.796959906087316,
           16.598422369304664,
           136.53147901464448,
           23.67601002768973,
           16.094874021740704,
           16.50783621308781,
           20.546948673751267,
           16.76904521097751,
           16.81247013240926,
           36.8647483773924,
           26.096780181401606,
           52.90034861007911,
           82.88727653734759,
           12.24156363116743,
           15.6187053191564,
           14.406722722899667,
           27.4070625831162,
           40.40408407971553,
           13.041311504499948,
           12.018162502748822,
           15.123366927722595,
           17.740473480571175,
           53.89185514740204,
           180.9673494563212,
           12.673907061939497,
           20.43220941076789,
           53.02503733708265,
           39.1236393770734,
           25.787132903038483,
           167.6540409212067,
           12.62991721384245,
           13.252721562237168,
           12.76767469192682,
           113.5356850136653,
           21.083394011546247,
           21.89839115244464,
           55.6557998342926,
           23.656548009994626,
           9.785581187369807,
           19.957832443061935,
           19.057417362078546,
           12.172898651942361,
           12.995185989801442,
           10.033349751593047,
           18.990279336039308,
           28.44915816912009,
           37.68517470908145,
           10.983226324703015,
           37.080038108882945,
           42.74283608692262,
           15.24666805703189,
           13.211979388454331,
           30.928778353805967,
           23.066357562740315,
           38.98767671918271,
           16.222883150451036,
           25.034343819918593,
           18.71125785527,
           38.785229381384305,
           63.99992966727308,
           15.369064436447106,
           8.922505610966173,
           24.01213809125076,
           50.28390630601403,
           14.967639812411619,
           170.54846448907222,
           63.44105488854575,
           33.192522024625816,
           17.912790331984418,
           16.379855722050877,
           9.683163001220763,
           17.296683701526568,
           35.70209478011077,
           71.04251337693259,
           37.34990167512524,
           11.870931906190561,
           86.55263406642635,
           44.40661076460593,
           25.798001253978345,
           16.952176560506693,
           37.37731627618194,
           18.982106037017115,
           31.19411030151222,
           89.89024745203484,
           18.25584923916309,
           64.16034735780576,
           28.782652865374274,
           68.3372546966021,
           10.213255753345925,
           18.257773615684656,
           9.307359229483756,
           16.091729117945437,
           21.4465057256597,
           21.224424036987923,
           95.15668107192307,
           12.70264687224962,
           48.70516557374971,
           80.85324439555933,
           63.4068797096924,
           21.039854452617327,
           146.8355829782913,
           61.716824404274575,
           156.48888439160598,
           13.30768976539259,
           13.053185074314221,
           14.483196082034171,
           40.72281312946087,
           65.89687575398081,
           113.80239580988805,
           19.50690510626139,
           16.051826600765512,
           10.116937837390076,
           46.628404185712974,
           28.187486201388715,
           53.21795269856577,
           27.17104144098568,
           27.364344458357923,
           14.924760714014118,
           52.73747507319761,
           67.46460824014534,
           21.996917686678064,
           20.75701543613562,
           46.79151622340948,
           40.14900766847185,
           15.959983541466679,
           35.44031961354348,
           82.92925958297434,
           53.69218110098558,
           162.1724241111627,
           16.614772303025894,
           13.489840154290144,
           18.267064527737496,
           42.08257427056945,
           8.34150417624248,
           47.8611834985328,
           29.886252523470823,
           199.79921454325267,
           31.55524748812959,
           18.865951422025397,
           28.012134967754697,
           14.88787029823703,
           10.585279155714954,
           12.75886885736691,
           18.262466054574023,
           21.774522280500033,
           67.99879852812853,
           16.035646410114687,
           18.654053060438272,
           28.476534702908157,
           127.61523357101957,
           35.85118266876342,
           93.31443395620006,
           11.398911070129,
           38.110885192357934,
           26.822954700814574,
           16.99587653827239,
           18.710951640408204,
           10.961078676833267,
           81.73673089415824,
           53.828498941458804,
           79.44564735930366,
           11.528977305082751,
           48.46241518459871,
           20.775162395811375
          ],
          "sizemin": 7.5,
          "sizemode": "area"
         },
         "mode": "markers",
         "name": "0",
         "type": "scattergl",
         "x": [
          20,
          50,
          27,
          18,
          26,
          20,
          26,
          17,
          37,
          28,
          29,
          35,
          45,
          44,
          19,
          34,
          32,
          44,
          17,
          51,
          26,
          23,
          42,
          46,
          50,
          62,
          26,
          23,
          35,
          46,
          42,
          35,
          26,
          37,
          30,
          53,
          22,
          46,
          47,
          53,
          27,
          54,
          21,
          19,
          30,
          25,
          24,
          21,
          21,
          43,
          39,
          31,
          49,
          37,
          17,
          59,
          47,
          63,
          42,
          50,
          21,
          35,
          34,
          36,
          37,
          46,
          56,
          25,
          34,
          28,
          31,
          44,
          31,
          41,
          41,
          51,
          46,
          24,
          28,
          26,
          17,
          29,
          37,
          72,
          22,
          58,
          32,
          45,
          39,
          31,
          24,
          30,
          22,
          19,
          18,
          19,
          21,
          20,
          21,
          27,
          22,
          28,
          45,
          23,
          26,
          23,
          32,
          46,
          64,
          19,
          40,
          50,
          66,
          32,
          21,
          20,
          49,
          24,
          29,
          30,
          40,
          29,
          31,
          33,
          23,
          61,
          26,
          74,
          51,
          20,
          45,
          21,
          32,
          40,
          36,
          35,
          30,
          19,
          50,
          35,
          42,
          58,
          46,
          41,
          30,
          19,
          21,
          23,
          38,
          68,
          56,
          36,
          17,
          33,
          46,
          26,
          45,
          74,
          26,
          58,
          59,
          66,
          18,
          31,
          23,
          27,
          34,
          53,
          43,
          69,
          40,
          20,
          33,
          30,
          40,
          18,
          23,
          30,
          33,
          33,
          40,
          60,
          44,
          64,
          29,
          42,
          62,
          40,
          35,
          49,
          64,
          27,
          31,
          72,
          42,
          22,
          47,
          35,
          55,
          37,
          39,
          27,
          65,
          68,
          34,
          19,
          24,
          62,
          43,
          38,
          22,
          58,
          19,
          22,
          25,
          22,
          57,
          64,
          69,
          46,
          55,
          61,
          46,
          45,
          45,
          27,
          41,
          36,
          50,
          53,
          40,
          49,
          32,
          57,
          25,
          21,
          19,
          50,
          24,
          27,
          39,
          42,
          54,
          21,
          29,
          25,
          49,
          21,
          24,
          26,
          47,
          31,
          34,
          25,
          27,
          42,
          34,
          48,
          41,
          41,
          31,
          27,
          34,
          23,
          30,
          41,
          19,
          35,
          43,
          21,
          34,
          20,
          19,
          18,
          22,
          75,
          22,
          28,
          22,
          22,
          26,
          47,
          47,
          40,
          50,
          28,
          33,
          41,
          60,
          28,
          33,
          23,
          17,
          24,
          33,
          56,
          46,
          55,
          34,
          23,
          59,
          19,
          28,
          25,
          63,
          62,
          23,
          26,
          29,
          62,
          21,
          28,
          43,
          38,
          27,
          48,
          44,
          24,
          37,
          36,
          36,
          22,
          32,
          26,
          26,
          23,
          29,
          34,
          18,
          27,
          51,
          33,
          47,
          25,
          24,
          72,
          60,
          25,
          47,
          44,
          18,
          67,
          28,
          21,
          18,
          63,
          35,
          30,
          74,
          18,
          24,
          19,
          18,
          49,
          68,
          42,
          36,
          37,
          46,
          41,
          49,
          41,
          22,
          42,
          29,
          20,
          62,
          41,
          45,
          31,
          46,
          31,
          22,
          46,
          42,
          20,
          33,
          29,
          22,
          58,
          36,
          39,
          50,
          26,
          21,
          50,
          25,
          50,
          33,
          49,
          45,
          75,
          26,
          24,
          67,
          33,
          73,
          23,
          45,
          37,
          19,
          26,
          30,
          29,
          39,
          18,
          24,
          23,
          48,
          22,
          68,
          27,
          36,
          42,
          58,
          48,
          24,
          33,
          35,
          29,
          55,
          51,
          58,
          30,
          46,
          35,
          46,
          40,
          55,
          18,
          52,
          63,
          33,
          51,
          22,
          22,
          21,
          37,
          23,
          24,
          36,
          48,
          39,
          41,
          37,
          19,
          45,
          26,
          80,
          51,
          25,
          35,
          34,
          18,
          19,
          68,
          24,
          24,
          20,
          45,
          28,
          41,
          45,
          46,
          69,
          26,
          47,
          22,
          18,
          44,
          29,
          37,
          25,
          50,
          20,
          30,
          43,
          27,
          22,
          18,
          43,
          55,
          34,
          42,
          35,
          39,
          52,
          44,
          61,
          25,
          36,
          69,
          61,
          43,
          18,
          30,
          34,
          30,
          33,
          33,
          24,
          21,
          43,
          34,
          23,
          64,
          31,
          23,
          24,
          29,
          30,
          29,
          34,
          71,
          39,
          40,
          24,
          27,
          61,
          62,
          60,
          34,
          34,
          40,
          76,
          64,
          27,
          45,
          54,
          59,
          22,
          23,
          23,
          31,
          39,
          54,
          18,
          58,
          18,
          50,
          50,
          69,
          37,
          36,
          28,
          26,
          33,
          55,
          57,
          35,
          27,
          55,
          37,
          46,
          19,
          27,
          64,
          37,
          32,
          22,
          38,
          31,
          23,
          30,
          54,
          29,
          23,
          19,
          44,
          62,
          23,
          27,
          30,
          37,
          24,
          24,
          53,
          58,
          20,
          39,
          22,
          66,
          20,
          48,
          90,
          29,
          17,
          52,
          23,
          25,
          33,
          37,
          22,
          29,
          44,
          34,
          40,
          26,
          44,
          30,
          31,
          26,
          47,
          23,
          21,
          19,
          34,
          46,
          49,
          29,
          30,
          27,
          66,
          52,
          52,
          40,
          73,
          47,
          33,
          34,
          19,
          28,
          72,
          42,
          61,
          38,
          25,
          79,
          37,
          76,
          30,
          23,
          35,
          35,
          21,
          35,
          43,
          35,
          45,
          19,
          30,
          40,
          36,
          47,
          42,
          24,
          30,
          20,
          38,
          39,
          23,
          24,
          57,
          21,
          44,
          77,
          34,
          66,
          20,
          36,
          26,
          61,
          47,
          65,
          47,
          23,
          26,
          29,
          20,
          19,
          20,
          24,
          61,
          64,
          26,
          30,
          21,
          24,
          47,
          22,
          77,
          44,
          51,
          20,
          55,
          34,
          44,
          30,
          40,
          36,
          28,
          19,
          20,
          59,
          34
         ],
         "y": [
          10,
          10,
          12,
          7,
          10,
          10,
          9,
          8,
          15,
          9,
          11,
          13,
          9,
          13,
          9,
          9,
          6,
          9,
          6,
          2,
          10,
          10,
          9,
          13,
          9,
          14,
          9,
          9,
          10,
          7,
          4,
          9,
          13,
          13,
          9,
          10,
          9,
          9,
          9,
          9,
          13,
          9,
          9,
          10,
          7,
          7,
          10,
          12,
          9,
          13,
          7,
          9,
          9,
          9,
          8,
          6,
          4,
          9,
          9,
          13,
          10,
          9,
          3,
          10,
          9,
          10,
          10,
          13,
          10,
          9,
          2,
          9,
          9,
          9,
          10,
          9,
          9,
          9,
          13,
          13,
          8,
          9,
          9,
          9,
          7,
          13,
          9,
          9,
          10,
          9,
          7,
          9,
          10,
          5,
          7,
          9,
          9,
          9,
          9,
          13,
          9,
          9,
          9,
          13,
          9,
          9,
          12,
          10,
          7,
          10,
          9,
          13,
          4,
          13,
          8,
          12,
          14,
          9,
          14,
          10,
          9,
          9,
          9,
          6,
          10,
          4,
          9,
          6,
          12,
          10,
          10,
          10,
          13,
          9,
          9,
          9,
          10,
          7,
          9,
          9,
          9,
          13,
          14,
          13,
          10,
          10,
          9,
          10,
          10,
          10,
          12,
          9,
          7,
          9,
          12,
          6,
          9,
          5,
          9,
          9,
          9,
          14,
          6,
          9,
          13,
          13,
          9,
          12,
          14,
          9,
          9,
          7,
          2,
          10,
          9,
          10,
          13,
          9,
          13,
          9,
          13,
          9,
          9,
          9,
          13,
          11,
          10,
          13,
          9,
          13,
          10,
          9,
          10,
          9,
          10,
          10,
          9,
          9,
          14,
          10,
          9,
          13,
          10,
          4,
          9,
          10,
          10,
          9,
          13,
          10,
          10,
          2,
          7,
          10,
          9,
          10,
          9,
          9,
          3,
          10,
          13,
          15,
          9,
          13,
          14,
          13,
          10,
          9,
          3,
          10,
          9,
          13,
          12,
          11,
          9,
          11,
          10,
          9,
          14,
          9,
          10,
          13,
          9,
          9,
          13,
          14,
          9,
          10,
          13,
          13,
          13,
          9,
          13,
          9,
          9,
          9,
          7,
          13,
          9,
          14,
          5,
          6,
          9,
          9,
          9,
          13,
          9,
          9,
          9,
          10,
          9,
          10,
          7,
          5,
          10,
          10,
          8,
          3,
          10,
          12,
          10,
          15,
          9,
          13,
          15,
          10,
          4,
          9,
          9,
          9,
          9,
          11,
          7,
          9,
          10,
          8,
          6,
          13,
          13,
          8,
          4,
          10,
          9,
          13,
          7,
          9,
          13,
          10,
          2,
          9,
          10,
          13,
          9,
          9,
          9,
          9,
          10,
          9,
          10,
          9,
          13,
          13,
          10,
          10,
          11,
          4,
          10,
          13,
          7,
          9,
          9,
          13,
          14,
          9,
          13,
          7,
          9,
          12,
          10,
          10,
          9,
          9,
          13,
          9,
          10,
          13,
          10,
          9,
          15,
          9,
          13,
          10,
          7,
          10,
          14,
          10,
          9,
          9,
          10,
          9,
          15,
          14,
          9,
          10,
          8,
          9,
          11,
          9,
          10,
          9,
          9,
          13,
          9,
          4,
          9,
          10,
          9,
          11,
          11,
          13,
          10,
          9,
          10,
          10,
          10,
          4,
          10,
          10,
          9,
          9,
          9,
          3,
          13,
          10,
          4,
          9,
          10,
          8,
          9,
          8,
          9,
          7,
          10,
          13,
          12,
          10,
          13,
          9,
          10,
          9,
          10,
          9,
          10,
          9,
          2,
          11,
          9,
          10,
          9,
          6,
          9,
          9,
          10,
          13,
          9,
          4,
          12,
          9,
          10,
          6,
          10,
          13,
          9,
          9,
          10,
          10,
          10,
          9,
          13,
          9,
          11,
          9,
          10,
          9,
          9,
          9,
          10,
          12,
          10,
          13,
          12,
          7,
          13,
          7,
          9,
          7,
          9,
          11,
          9,
          9,
          13,
          15,
          14,
          9,
          9,
          9,
          9,
          10,
          8,
          10,
          13,
          7,
          13,
          3,
          10,
          9,
          10,
          9,
          9,
          7,
          12,
          9,
          9,
          12,
          7,
          13,
          9,
          13,
          4,
          9,
          10,
          14,
          9,
          11,
          8,
          10,
          9,
          9,
          9,
          5,
          6,
          10,
          9,
          9,
          10,
          14,
          12,
          9,
          9,
          10,
          14,
          13,
          9,
          4,
          11,
          11,
          9,
          13,
          13,
          9,
          10,
          10,
          5,
          12,
          10,
          4,
          13,
          9,
          13,
          7,
          10,
          10,
          13,
          10,
          11,
          9,
          6,
          9,
          9,
          13,
          9,
          13,
          9,
          7,
          9,
          9,
          13,
          10,
          9,
          12,
          4,
          6,
          9,
          7,
          10,
          13,
          9,
          9,
          13,
          10,
          13,
          6,
          9,
          9,
          14,
          13,
          10,
          10,
          10,
          10,
          13,
          7,
          10,
          5,
          9,
          14,
          9,
          6,
          9,
          9,
          13,
          3,
          10,
          3,
          4,
          9,
          8,
          7,
          9,
          12,
          9,
          12,
          13,
          9,
          14,
          9,
          10,
          9,
          9,
          13,
          9,
          9,
          10,
          9,
          10,
          10,
          9,
          14,
          4,
          10,
          10,
          10,
          4,
          10,
          8,
          9,
          2,
          9,
          13,
          11,
          10,
          13,
          13,
          6,
          9,
          13,
          9,
          9,
          10,
          9,
          9,
          10,
          8,
          8,
          9,
          12,
          9,
          7,
          13,
          9,
          9,
          10,
          9,
          9,
          11,
          10,
          13,
          10,
          10,
          10,
          9,
          9,
          7,
          10,
          14,
          5,
          10,
          9,
          10,
          9,
          10,
          9,
          9,
          10,
          10,
          9,
          14,
          10,
          9,
          13,
          9,
          10,
          9,
          3,
          9,
          9,
          13,
          9,
          13,
          9,
          10,
          8,
          9,
          10,
          9,
          9,
          9,
          9,
          10,
          13,
          13,
          9,
          9,
          11,
          7
         ]
        },
        {
         "legendgroup": "cases",
         "legendgrouptitle": {
          "text": "Cases"
         },
         "marker": {
          "line": {
           "color": "darkgrey",
           "width": 2
          },
          "opacity": 0.4,
          "size": [
           38.91914882272676,
           41.459275074316764,
           35.03823155777219,
           12.204829217018379,
           9.81558089345691,
           79.7482898251727,
           22.268477963846017,
           32.734689516928526,
           31.203017730466435,
           26.96513426533422,
           14.982727272313431,
           75.88758413104152,
           36.766665858567976,
           12.098396050585283,
           40.08175143344358,
           21.94596563605658,
           68.68237452272825,
           97.0445737466187,
           10.306386323579996,
           11.284715571107036,
           27.51978440835687,
           13.826330515760908,
           22.45404960307008,
           20.922550053618465,
           48.77988792310719,
           11.614574310335218,
           38.025202797944594,
           26.230954013848113,
           41.26920362894087,
           160.46584517617947,
           27.518553849707136,
           10.502082626391488,
           17.53825616240688,
           58.902086111292085,
           39.678086810457216,
           15.354508458427414,
           51.23969786481634,
           35.525871641371694,
           45.91495701301071,
           11.025103953931549,
           16.879565724734714,
           19.384801497564137,
           65.75979889281211,
           36.998561670427925,
           18.5508432215291,
           37.65366708550813,
           20.974348216054587,
           19.41711003854658,
           121.26135126013776,
           26.948233853426167,
           17.5453147241875,
           25.864657638167316,
           18.80172190395824,
           23.78565663434092,
           13.566913325194996,
           18.188105017905478,
           13.649943830490173,
           19.703843819281325,
           16.92445330434522,
           42.185585377837064,
           19.89928814972088,
           387.19124442936874,
           37.44106792624041,
           22.012674195506,
           51.17642394295019,
           16.94715964453482,
           35.391877237747636,
           28.197366585936287,
           22.028727295921332,
           34.80002529817923,
           9.123442805215191,
           86.33779641143249,
           62.14508259136689,
           22.37706413595856,
           13.78551729521865,
           16.667680693578205,
           8.79466191151577,
           23.912207910855404,
           19.52408897185945,
           14.454177450572828,
           31.095973859694897,
           39.8462835918333,
           24.323013834176567,
           31.90720071314276,
           57.76718106181356,
           14.398262240113999,
           10.551702540757333,
           41.57053533157218,
           36.22782852785767,
           44.0178865381636,
           38.18483003620137,
           104.72704180991302,
           46.35420569055928,
           27.631160899587623,
           11.964815888880992,
           51.56910478281224,
           23.81066205758,
           12.596946877408232,
           97.91410640611777,
           44.653973444191315,
           25.51314904609798,
           11.176545470726797,
           46.20741346410636,
           39.1392251370942,
           22.692483726029348,
           63.83061895527781,
           55.44697524882713,
           67.10525173853037,
           52.71958951833764,
           53.62027983397248,
           109.13048760758016,
           50.52381737383183,
           15.609788772958494,
           27.13048433491023,
           42.8116984303426,
           22.18262149025031,
           34.941787159633165,
           60.746551875100685,
           66.43014606678162,
           31.913951011633515,
           27.832956927715646,
           28.67913300500835,
           14.977201193515933,
           52.188344631118724,
           17.799095414081876,
           47.297632207699,
           54.286153952758404,
           15.593174433421167,
           19.41918250021334,
           30.22757192040047,
           44.19308090170539,
           57.17032545902847,
           16.960296773505142,
           43.25045186490707,
           19.36772922919717,
           27.13095973685808,
           12.654501239072772,
           71.89529045147282,
           52.960159804214875,
           14.17347514957947,
           78.965330905537,
           16.267351335518335,
           42.64966877857356,
           16.75184608964835,
           17.732734993770276,
           20.18914739680765,
           13.340767873266527,
           28.588861941976297,
           60.63056402799238,
           11.355113593363196,
           34.991556233759724,
           16.145868882661468,
           37.74514574704469,
           29.086343456363352,
           57.717198073349294,
           41.12363179326904,
           36.791515252587686,
           46.45446767144868,
           17.6538592692823,
           47.03016384586229,
           11.671763793984235,
           10.606262226257297,
           12.480603933193471,
           33.69752178655132,
           131.43898453281525,
           11.222392016506282,
           52.94717476161218,
           24.30372986769317,
           39.66807829711108,
           38.47265312536458,
           11.972811341300295,
           18.042196031416125,
           83.41138701644223,
           13.280775138652926,
           12.444047176365402,
           23.28853626631606,
           12.779471256311663,
           106.10098742275275,
           9.647716868757783,
           20.90791792124564,
           16.70102177532013,
           23.817546334626805,
           21.8351841585194,
           20.23175628063182,
           31.339708311438216,
           12.619665520541,
           18.7673920301378,
           72.49692858321934,
           21.66818822697135,
           77.47459172713491,
           14.495337577319438,
           9.889178919400836,
           93.76614647674678,
           29.89264275896322,
           22.737369470548494,
           66.36128200107095,
           63.6807365429358,
           26.568020129116793,
           13.874157499216269,
           21.995398379655914,
           15.43072316132406,
           13.917688039863336,
           135.99752172485563,
           50.360233700098796,
           59.34577577942892,
           17.255600807820883,
           28.38861665516699,
           21.76815128333195,
           13.40078659716794,
           19.73777568485211,
           19.197881295833504,
           34.367146928740084,
           70.74806232904999,
           21.28226555533863,
           88.16669780554624,
           41.562364218836805,
           17.416492568652686,
           14.17924530112014,
           19.29640301697963,
           43.26884344006114,
           12.291194053168287,
           12.235135990016186,
           13.605913341065152,
           35.00959711306152,
           13.526039772268636,
           21.185097342611847,
           30.3120423576914,
           31.181917003472808,
           14.106328012560445,
           16.77745740949632,
           22.911480572056618,
           22.10404802308748,
           54.75511830694462,
           56.974545243871816,
           13.307963114630008,
           501.94782032772014,
           11.166213791576999,
           22.52956725328552,
           33.451076513709836,
           70.80550446850573,
           52.13131694608205,
           17.332244385576534,
           12.112121904031156,
           14.232529467885684,
           23.85743454036545,
           22.49117222713528,
           21.79728747019376,
           36.739693797388725,
           19.483920786609286,
           20.512555023753407,
           98.24309325331662,
           14.111096850101777,
           36.401505490127064,
           23.674773579458734,
           58.82712715051603,
           82.35399719370669,
           29.516758033366894,
           32.11136459775195,
           23.721112430689175,
           46.013428415533326,
           21.198885435076072,
           17.206877166313454,
           99.76261926927765,
           13.091304046862328,
           15.925847196750476,
           25.316263057284804,
           84.14813824640235,
           17.583962548656956,
           23.063165375315453,
           18.31814976417376,
           21.103595845756544,
           28.085181311827256,
           45.26776602012185,
           71.58012830882578,
           19.77738056401001,
           34.996243460737944,
           35.94096442642762,
           49.382269263797696,
           13.372040425287079,
           18.784689796526088,
           13.722276431804081,
           30.941256641769947,
           28.20585690426009,
           45.09952587849842,
           10.49182607497479,
           24.02860805815676,
           30.473269635641266,
           29.39737430911284,
           21.554200610529968,
           30.002782016051558,
           28.788957319144288,
           11.356789033357849,
           16.15566391999118,
           94.92951578414652,
           18.31617972041851,
           65.67269151317308,
           100.61725199799196,
           26.129973225005024,
           58.12659552156659,
           43.76306947626608,
           42.62188138113087,
           24.936766565307256,
           22.299586672081684,
           58.46845864011252,
           16.99360424853676,
           18.471438883894756,
           9.83443405122386,
           20.845976194385727,
           32.89732062107096,
           33.56724493343027,
           50.38365471589681,
           33.14653203446506,
           9.621416814006789,
           34.06466647586082,
           20.22251256330943,
           15.497139880978967,
           15.585898449475136,
           16.09276987622397,
           28.498890139468056,
           12.321016538342601,
           20.538108383934095,
           18.539403960382288,
           79.76101030136248,
           29.724260985249977,
           10.67408321636205,
           43.45974005879678,
           16.665865697105833,
           19.37426779757596,
           142.89465139993283,
           39.19352436747673,
           19.233704003457937,
           16.630449802717855,
           31.74121496470376,
           18.438562700189603,
           12.68378937010087,
           18.29462739596638,
           11.918685462697725,
           27.787512830333892,
           7.9641994494758475,
           29.903463523650082,
           13.30322806277751,
           114.08581467777552,
           37.513098366247114,
           44.220355532485776,
           21.458068392810763,
           36.57993612797675,
           49.17187099625849,
           30.45123100000576,
           49.53259099541644,
           12.70716963051079,
           170.26349397986974,
           16.405864386920214,
           19.928211971215504,
           25.61294681526751,
           20.75752094286677,
           62.67802955138668,
           48.08543199590948,
           29.8913436116625,
           12.125933159723921,
           13.120902717652244,
           17.927769239493358,
           18.33551630096921,
           23.314361856438953,
           37.67833465417451,
           13.341492455362227,
           26.448409563949237,
           76.89036035733812,
           14.903261904332112,
           28.562737042114282,
           18.1907816983053,
           45.57918276453331,
           70.50429002040072,
           12.779701866040678,
           18.80948741383215,
           15.545607759465389,
           12.260730025838349,
           13.035803235449016,
           31.018662345633953,
           70.93517935949721,
           55.20516656676527,
           72.27007978748554,
           22.347482496088297,
           42.040126344454954,
           23.953405174466862,
           33.31482673375267,
           39.348241164271506,
           6.947820327720161,
           14.497968574165528,
           34.629277250090276,
           19.84558251539284,
           56.42679708710324,
           76.4235665930678,
           81.64260716610062,
           51.77318608058982,
           13.789414297895808,
           20.69743427920873,
           12.018120869009195,
           25.07789574036407,
           18.294542065065635,
           26.76258378977676,
           11.74469191487853,
           47.011680605763765,
           19.598009343761667,
           16.622530607293378,
           9.183170765606686,
           72.02495592775593,
           13.054029057598894,
           39.24325222451022,
           10.090008014137155,
           19.212643245757246,
           14.272909675510984,
           15.092965919579305,
           28.462072970774347,
           28.149498516436157,
           60.69851805938849,
           20.013914135303605,
           17.43061624734186,
           40.79187078215923,
           85.3566931053666,
           29.173405817039722,
           51.7593062117143,
           16.14839600244284,
           12.088927984221328,
           18.336812656935322,
           32.53146846366957,
           10.899076861591134,
           11.865930391767783,
           20.552664995960647,
           42.247151774172835,
           43.20718558732975,
           41.086702130021386,
           37.13420366932205,
           31.868765714374362,
           12.358236617685549,
           172.0834697649984,
           90.57322096912249,
           23.756843493410283,
           9.210342435939603,
           23.465587164094316,
           52.28905751437749,
           27.06957738080001,
           66.12932467049714,
           18.91133975628437,
           59.501591301611334,
           63.92723681602751,
           58.621033414924206,
           48.32459919109877,
           55.96027905703667,
           43.377817474706696,
           13.19846144875467,
           14.743921736166701,
           46.52236287386023,
           31.197375065926934,
           24.116681646601407,
           50.97629046929408,
           34.472979646302065,
           19.22137571662396,
           23.85997190287768,
           23.83839943836803,
           39.65878670111485,
           41.04313817944957,
           25.688760492436707,
           12.892043970811478,
           30.20315341258575,
           28.346208103984473,
           13.482756005049723,
           9.340624816842762,
           62.805620031821356,
           31.139736885880367,
           69.71854794153407,
           55.583167338711796,
           29.117104525886422,
           11.23218324598189,
           21.45346699563282,
           23.8823824132173,
           37.63490762058219,
           30.638413051950828,
           12.14763628007889,
           95.92271877453778,
           26.9705111040941,
           28.657399685294433,
           21.699905738792722,
           46.30197911588974,
           15.839835797156026,
           50.64967860145727,
           13.934155895610228,
           17.98718108751612,
           51.680031783224685,
           95.81572545895752,
           9.636897267857849,
           132.6759282996154,
           8.62969224202794,
           71.37203965331167,
           10.520353173048834,
           9.425372618486692,
           35.446863688951495,
           10.359716597830584,
           14.970702524653582,
           31.597465170708325,
           17.898226393458856,
           32.78774657011193,
           27.841096792068726,
           29.588792620348848,
           16.140317598681925,
           55.09858088738324,
           37.04171528498929,
           23.353840354796716,
           142.08542651112853,
           17.177914838193743,
           79.86184670425696,
           102.67715166919699,
           13.787170650337528,
           17.753523306520137,
           44.8608708082405,
           21.614080190929656,
           20.189119123113702,
           137.37459509095538,
           23.8405857131174,
           14.60074932465225,
           51.343320130689094,
           20.158039887363877,
           36.82306585735169,
           40.52344578493925,
           50.4419993795132,
           39.46788405048763,
           21.662158495422624,
           19.002333174401006,
           33.406057902052126,
           37.05429353445897,
           14.188870462114208,
           14.754872921335672,
           10.029145635351867,
           14.547394281617107,
           16.731479196516666,
           17.713268398654648,
           149.80091184355342,
           71.59958303555688,
           46.70036451191323,
           67.6410713419145,
           72.53329219464906,
           20.698391926858257,
           192.10041828364876,
           14.23893192951962,
           16.49235406302456,
           40.80067472617761,
           46.90660557663185,
           22.10961814333439,
           58.97716741953725,
           34.92186394900642,
           38.077209955825175,
           29.857122401221204,
           24.628519777908643,
           89.6887594387937,
           14.352506520064031,
           52.485701496240004,
           9.823083201495702,
           33.21253873035082,
           37.387909650524186,
           18.873231763891507,
           16.651545777625017,
           39.264634131995365,
           22.984039051801844,
           33.20014722672588,
           54.89797794227917,
           59.770212969079964,
           9.2269279456815,
           82.18243288946726,
           14.976224630291913,
           80.96452825966533,
           12.293804452370516,
           25.23127801737525,
           13.227565611951531,
           38.337303988823706,
           23.905776081911284,
           27.15341489125519,
           15.832258039879227,
           48.55233306049236,
           21.56242412877368,
           19.831482174960954,
           14.903017543749408,
           33.58997578515476,
           13.557333534035257,
           335.4475266845374,
           17.56313106638084,
           15.543354758882025,
           17.08670552867834,
           44.499567430449225,
           33.18482050889267,
           16.285792273257407,
           36.860360423556315,
           18.778123060884376,
           66.12913393297663,
           11.997611665426675,
           48.94356380200377,
           43.3100231497762,
           20.992217326464818,
           219.59564348920725,
           45.15531650301005,
           24.54623722363396,
           9.277172557561169,
           22.796279596749347,
           13.335900321756908,
           23.579863902141255,
           37.8876928986736,
           59.14797271855343,
           18.982757338420704,
           25.345367087827213,
           16.644740834385704,
           14.6401151510386,
           55.85610514146537,
           19.393527959758856,
           9.253290055045312,
           25.08206797119326,
           20.083623053788614,
           16.77455911771567,
           13.22148132974539,
           30.452663418675556,
           10.268219080905679,
           33.06845730285393,
           58.5721750877967,
           11.68160421815088,
           22.418392481394,
           59.630770453902976,
           12.346209877502831,
           13.45299287784962,
           151.11118543440145,
           18.072943454924978,
           37.04390138560501,
           16.98728714036443,
           35.70763269516921,
           106.02178789686243,
           9.387553782343561,
           47.52743525947225,
           12.276787044997981,
           20.163049879614384,
           28.394064376319466,
           27.400641259801382,
           20.05706663215851,
           15.394308693079518,
           16.756755938957618,
           19.731683733513965,
           38.222610889321594,
           21.973030092637526,
           28.219450834178296,
           36.201569168349735,
           13.081584215342945,
           24.19430661828185,
           17.73776842936627,
           12.767659340205157,
           25.372641906173733,
           50.94515758474208,
           28.916484862630252,
           9.722457219924037,
           29.614418293479844,
           19.818580650152473,
           11.307258120708713,
           67.22296154043676,
           9.712328840659131,
           45.032735277740315,
           84.85049862234234,
           42.16111380832285,
           31.123828247704488,
           40.20750539961914,
           96.43929004708161,
           46.039281418146054,
           10.716914808151326,
           21.22327368086358,
           51.90056551669123,
           15.31753917384152,
           9.595168132956092,
           8.921748320770185,
           64.45340545225866,
           41.950481620653164,
           54.06697283777295,
           19.408754285353815,
           24.068988653587418,
           101.80639974954008,
           28.866329990643337,
           20.593812777382258,
           12.091148361550667,
           55.69347186648898,
           89.62407316987638,
           16.774823334381722,
           18.233905602074678,
           23.47020926500962,
           41.361784682691855,
           10.785405446181997,
           15.826325654645863,
           14.237780655287484,
           33.861564036974855,
           23.293211806934167,
           12.040464495630147,
           49.180154407317275,
           72.74985237543511,
           36.16802697134958,
           15.987694614663903,
           14.602340046553218,
           121.6475340086968,
           38.67627474518876,
           52.40533856583376,
           14.161742614240689,
           16.651411688473228,
           13.432464993776703,
           106.31911329123653,
           93.45169333103067,
           73.6611052409368,
           16.34764264003799,
           13.446595900348262,
           25.161198081047207,
           18.168374006800743,
           90.93917192072614,
           29.362522210269745,
           130.33034118266164,
           38.05717985401317,
           22.166837947522055,
           11.015313569619693,
           34.570857458220104,
           233.7347698020009,
           22.997850587484372,
           130.84658917559477,
           28.947835344085078,
           15.096641684972202,
           15.76448313188009,
           123.49338674129339,
           15.292514130765275,
           31.349680145084292,
           13.411392455552768,
           24.241555143269583,
           14.042063932500987,
           43.094618497867934,
           17.113207562552684,
           18.48197711967459,
           18.776414137858758,
           15.562687271992935,
           31.8528314775287,
           17.246529947851766,
           51.47464205412559,
           9.743338526188047,
           20.575362933705506,
           28.087926151859072,
           54.46656967992616,
           12.829716430477237,
           55.85181756472059,
           8.933045857070148,
           13.63591317343263,
           41.7913781348868,
           13.395225179885118,
           26.11207599894151,
           64.82546934156542,
           10.775553706171529,
           28.719243075256212,
           16.390658477280724,
           19.899965767428476,
           126.96241608580745,
           19.962732466697403,
           22.47306068558842,
           59.581737495410586,
           27.90942818368469,
           13.66006227482707,
           53.29338719375086,
           38.03038649495094,
           24.706733732278334,
           31.3423500030923,
           40.92345042427596,
           11.533710891668896,
           49.49368184482758,
           48.889408486667705,
           69.0465986699283,
           8.788377573235108,
           32.586514188967804,
           71.6456457146457,
           46.16762527143381,
           57.95791701731452,
           55.22663356286058,
           25.319264794587532,
           46.25561010174734,
           72.51226037730319,
           37.19927403756651,
           16.793694514172014,
           18.463458693041858,
           9.154567605219164,
           13.37837216667506,
           24.683588390242857,
           174.95390680951814,
           61.183713710940495,
           22.967262896594836,
           23.057663175583187,
           36.509982149390595,
           11.277962410559034,
           101.01052384510426,
           44.01611520710605,
           157.99418696807678,
           23.952916035876832,
           8.553255992368126,
           24.48428865543928,
           16.886515799668288,
           17.53219477240915,
           30.20022322287101,
           37.00508995458813,
           71.73871341036259,
           26.364969108501693,
           42.701085260527364,
           21.496137606753315,
           18.205853962375357,
           37.48974739248067,
           95.22111263775676,
           32.512209719125124,
           44.90065852763967,
           55.826294925189366,
           13.129390238591501,
           29.48704281244931,
           103.4589605836888,
           16.424779061634013,
           29.414823138084614,
           32.055315867976184,
           21.537894376100216,
           41.90232260154866,
           15.20007328044834,
           11.200187200596876,
           40.72464828972234,
           12.400975978831026,
           12.8823035094299,
           85.11475140364266,
           18.204249508367695,
           23.97440861819434,
           15.510094526734887,
           9.441406879703738,
           44.46837503518601,
           14.95967041546568,
           61.636532652248576,
           16.840006842850173,
           22.64651498057448,
           12.552974193124903,
           15.441629474276805,
           64.82273677381781,
           31.22361859199823,
           25.796959906087316,
           16.598422369304664,
           136.53147901464448,
           23.67601002768973,
           16.094874021740704,
           16.50783621308781,
           20.546948673751267,
           16.76904521097751,
           16.81247013240926,
           36.8647483773924,
           26.096780181401606,
           52.90034861007911,
           82.88727653734759,
           12.24156363116743,
           15.6187053191564,
           14.406722722899667,
           27.4070625831162,
           40.40408407971553,
           13.041311504499948,
           12.018162502748822,
           15.123366927722595,
           17.740473480571175,
           53.89185514740204,
           180.9673494563212,
           12.673907061939497,
           20.43220941076789,
           53.02503733708265,
           39.1236393770734,
           25.787132903038483,
           167.6540409212067,
           12.62991721384245,
           13.252721562237168,
           12.76767469192682,
           113.5356850136653,
           21.083394011546247,
           21.89839115244464,
           55.6557998342926,
           23.656548009994626,
           9.785581187369807,
           19.957832443061935,
           19.057417362078546,
           12.172898651942361,
           12.995185989801442,
           10.033349751593047,
           18.990279336039308,
           28.44915816912009,
           37.68517470908145,
           10.983226324703015,
           37.080038108882945,
           42.74283608692262,
           15.24666805703189,
           13.211979388454331,
           30.928778353805967,
           23.066357562740315,
           38.98767671918271,
           16.222883150451036,
           25.034343819918593,
           18.71125785527,
           38.785229381384305,
           63.99992966727308,
           15.369064436447106,
           8.922505610966173,
           24.01213809125076,
           50.28390630601403,
           14.967639812411619,
           170.54846448907222,
           63.44105488854575,
           33.192522024625816,
           17.912790331984418,
           16.379855722050877,
           9.683163001220763,
           17.296683701526568,
           35.70209478011077,
           71.04251337693259,
           37.34990167512524,
           11.870931906190561,
           86.55263406642635,
           44.40661076460593,
           25.798001253978345,
           16.952176560506693,
           37.37731627618194,
           18.982106037017115,
           31.19411030151222,
           89.89024745203484,
           18.25584923916309,
           64.16034735780576,
           28.782652865374274,
           68.3372546966021,
           10.213255753345925,
           18.257773615684656,
           9.307359229483756,
           16.091729117945437,
           21.4465057256597,
           21.224424036987923,
           95.15668107192307,
           12.70264687224962,
           48.70516557374971,
           80.85324439555933,
           63.4068797096924,
           21.039854452617327,
           146.8355829782913,
           61.716824404274575,
           156.48888439160598,
           13.30768976539259,
           13.053185074314221,
           14.483196082034171,
           40.72281312946087,
           65.89687575398081,
           113.80239580988805,
           19.50690510626139,
           16.051826600765512,
           10.116937837390076,
           46.628404185712974,
           28.187486201388715,
           53.21795269856577,
           27.17104144098568,
           27.364344458357923,
           14.924760714014118,
           52.73747507319761,
           67.46460824014534,
           21.996917686678064,
           20.75701543613562,
           46.79151622340948,
           40.14900766847185,
           15.959983541466679,
           35.44031961354348,
           82.92925958297434,
           53.69218110098558,
           162.1724241111627,
           16.614772303025894,
           13.489840154290144,
           18.267064527737496,
           42.08257427056945,
           8.34150417624248,
           47.8611834985328,
           29.886252523470823,
           199.79921454325267,
           31.55524748812959,
           18.865951422025397,
           28.012134967754697,
           14.88787029823703,
           10.585279155714954,
           12.75886885736691,
           18.262466054574023,
           21.774522280500033,
           67.99879852812853,
           16.035646410114687,
           18.654053060438272,
           28.476534702908157,
           127.61523357101957,
           35.85118266876342,
           93.31443395620006,
           11.398911070129,
           38.110885192357934,
           26.822954700814574,
           16.99587653827239,
           18.710951640408204,
           10.961078676833267,
           81.73673089415824,
           53.828498941458804,
           79.44564735930366,
           11.528977305082751,
           48.46241518459871,
           20.775162395811375
          ],
          "sizemin": 7.5,
          "sizemode": "area"
         },
         "mode": "markers",
         "name": "1",
         "type": "scattergl",
         "x": [
          57,
          45,
          48,
          47,
          65,
          37,
          38,
          45,
          39,
          52,
          40,
          35,
          45,
          41,
          48,
          45,
          54,
          34,
          39,
          53,
          67,
          48,
          46,
          49,
          25,
          73,
          28,
          27,
          31,
          44,
          38,
          65,
          54,
          38,
          45,
          35,
          56,
          54,
          34,
          33,
          54,
          30,
          56,
          52,
          55,
          54,
          30,
          47,
          37,
          58,
          31,
          54,
          51,
          55,
          55,
          36,
          30,
          25,
          33,
          42,
          37,
          35,
          42,
          35,
          60,
          43,
          37,
          31,
          51,
          31,
          55,
          46,
          50,
          19,
          42,
          21,
          57,
          46,
          18,
          26,
          43,
          17,
          45,
          40,
          30,
          42,
          55,
          53,
          26,
          36,
          38,
          57,
          50,
          32,
          54,
          28,
          43,
          34,
          28,
          41,
          21,
          58,
          35,
          55,
          29,
          50,
          63,
          38,
          37,
          40,
          47,
          40,
          55,
          39,
          52,
          46,
          48,
          34,
          47,
          38,
          37,
          42,
          56,
          55,
          59,
          36,
          59,
          25,
          39,
          37,
          48,
          56,
          56,
          40,
          31,
          40,
          57,
          44,
          34,
          43,
          60,
          40,
          51,
          27,
          37,
          58,
          24,
          30,
          52,
          26,
          67,
          46,
          33,
          42,
          51,
          53,
          44,
          59,
          30,
          35,
          55,
          29,
          28,
          46,
          33,
          44,
          22,
          49,
          49,
          27,
          18,
          36,
          47,
          22,
          43,
          25,
          56,
          66,
          44,
          31,
          35,
          45,
          35,
          27,
          48,
          30,
          41,
          62,
          27,
          28,
          41,
          42,
          42,
          26,
          30,
          38,
          67,
          56,
          30,
          36,
          32,
          55,
          36,
          41,
          30,
          33,
          57,
          44,
          40,
          53,
          47,
          34,
          53,
          34,
          49,
          46,
          60,
          34,
          59,
          45,
          37,
          37,
          36,
          45,
          31,
          33,
          43,
          43,
          57,
          43,
          43,
          47,
          18,
          44,
          54,
          47,
          53,
          39,
          43,
          37,
          59,
          47,
          38,
          42,
          49,
          28,
          30,
          45,
          38,
          40,
          38,
          46,
          49,
          48,
          63,
          43,
          43,
          37,
          45,
          36,
          54,
          34,
          50,
          30,
          35,
          31,
          46,
          29,
          32,
          50,
          48,
          18,
          42,
          53,
          24,
          63,
          43,
          60,
          48,
          36,
          62,
          46,
          55,
          38,
          44,
          39,
          30,
          32,
          26,
          38,
          59,
          49,
          39,
          42,
          31,
          40,
          44,
          38,
          30,
          25,
          43,
          32,
          35,
          49,
          53
         ],
         "y": [
          13,
          9,
          14,
          13,
          6,
          10,
          10,
          9,
          13,
          13,
          14,
          14,
          11,
          10,
          10,
          9,
          13,
          10,
          10,
          16,
          13,
          13,
          14,
          13,
          13,
          14,
          13,
          9,
          9,
          9,
          13,
          14,
          10,
          13,
          14,
          10,
          13,
          13,
          10,
          13,
          13,
          13,
          3,
          9,
          14,
          10,
          10,
          13,
          13,
          16,
          16,
          16,
          13,
          15,
          9,
          9,
          10,
          10,
          14,
          9,
          10,
          9,
          13,
          15,
          9,
          15,
          9,
          9,
          9,
          13,
          14,
          10,
          10,
          10,
          6,
          10,
          14,
          15,
          6,
          13,
          13,
          7,
          10,
          10,
          10,
          14,
          9,
          13,
          10,
          10,
          13,
          13,
          9,
          13,
          9,
          10,
          10,
          10,
          13,
          13,
          9,
          9,
          14,
          14,
          9,
          15,
          9,
          15,
          10,
          9,
          9,
          14,
          11,
          12,
          10,
          15,
          9,
          15,
          6,
          14,
          13,
          9,
          13,
          13,
          9,
          9,
          16,
          14,
          9,
          12,
          13,
          13,
          14,
          14,
          9,
          11,
          13,
          14,
          15,
          14,
          14,
          13,
          9,
          13,
          13,
          13,
          13,
          13,
          9,
          9,
          9,
          10,
          13,
          15,
          10,
          10,
          9,
          10,
          13,
          14,
          9,
          9,
          13,
          14,
          10,
          13,
          10,
          9,
          4,
          10,
          9,
          4,
          10,
          10,
          9,
          10,
          10,
          15,
          14,
          9,
          16,
          14,
          13,
          10,
          9,
          13,
          11,
          9,
          9,
          9,
          14,
          6,
          9,
          13,
          13,
          15,
          16,
          12,
          9,
          11,
          10,
          16,
          10,
          9,
          11,
          12,
          10,
          13,
          14,
          9,
          9,
          13,
          14,
          14,
          14,
          10,
          10,
          14,
          9,
          10,
          9,
          10,
          13,
          11,
          13,
          6,
          10,
          13,
          13,
          3,
          12,
          9,
          10,
          13,
          10,
          10,
          14,
          14,
          9,
          9,
          9,
          14,
          6,
          13,
          10,
          9,
          9,
          9,
          13,
          13,
          13,
          14,
          16,
          13,
          13,
          10,
          14,
          11,
          9,
          10,
          14,
          10,
          9,
          10,
          14,
          13,
          15,
          10,
          10,
          9,
          11,
          6,
          9,
          13,
          13,
          10,
          6,
          9,
          16,
          14,
          9,
          12,
          10,
          14,
          13,
          14,
          11,
          15,
          12,
          15,
          9,
          14,
          9,
          10,
          14,
          10,
          9,
          13,
          10,
          13,
          9,
          1,
          14,
          11,
          13
         ]
        }
       ],
       "layout": {
        "annotations": [
         {
          "font": {
           "size": 16
          },
          "showarrow": false,
          "text": "age",
          "x": 0.5,
          "xanchor": "center",
          "xref": "paper",
          "y": 0,
          "yanchor": "top",
          "yref": "paper",
          "yshift": -30
         },
         {
          "font": {
           "size": 16
          },
          "showarrow": false,
          "text": "education-num",
          "textangle": -90,
          "x": 0,
          "xanchor": "right",
          "xref": "paper",
          "xshift": -40,
          "y": 0.5,
          "yanchor": "middle",
          "yref": "paper"
         }
        ],
        "height": 800,
        "legend": {
         "groupclick": "toggleitem"
        },
        "template": {
         "data": {
          "bar": [
           {
            "error_x": {
             "color": "#2a3f5f"
            },
            "error_y": {
             "color": "#2a3f5f"
            },
            "marker": {
             "line": {
              "color": "#E5ECF6",
              "width": 0.5
             },
             "pattern": {
              "fillmode": "overlay",
              "size": 10,
              "solidity": 0.2
             }
            },
            "type": "bar"
           }
          ],
          "barpolar": [
           {
            "marker": {
             "line": {
              "color": "#E5ECF6",
              "width": 0.5
             },
             "pattern": {
              "fillmode": "overlay",
              "size": 10,
              "solidity": 0.2
             }
            },
            "type": "barpolar"
           }
          ],
          "carpet": [
           {
            "aaxis": {
             "endlinecolor": "#2a3f5f",
             "gridcolor": "white",
             "linecolor": "white",
             "minorgridcolor": "white",
             "startlinecolor": "#2a3f5f"
            },
            "baxis": {
             "endlinecolor": "#2a3f5f",
             "gridcolor": "white",
             "linecolor": "white",
             "minorgridcolor": "white",
             "startlinecolor": "#2a3f5f"
            },
            "type": "carpet"
           }
          ],
          "choropleth": [
           {
            "colorbar": {
             "outlinewidth": 0,
             "ticks": ""
            },
            "type": "choropleth"
           }
          ],
          "contour": [
           {
            "colorbar": {
             "outlinewidth": 0,
             "ticks": ""
            },
            "colorscale": [
             [
              0,
              "#0d0887"
             ],
             [
              0.1111111111111111,
              "#46039f"
             ],
             [
              0.2222222222222222,
              "#7201a8"
             ],
             [
              0.3333333333333333,
              "#9c179e"
             ],
             [
              0.4444444444444444,
              "#bd3786"
             ],
             [
              0.5555555555555556,
              "#d8576b"
             ],
             [
              0.6666666666666666,
              "#ed7953"
             ],
             [
              0.7777777777777778,
              "#fb9f3a"
             ],
             [
              0.8888888888888888,
              "#fdca26"
             ],
             [
              1,
              "#f0f921"
             ]
            ],
            "type": "contour"
           }
          ],
          "contourcarpet": [
           {
            "colorbar": {
             "outlinewidth": 0,
             "ticks": ""
            },
            "type": "contourcarpet"
           }
          ],
          "heatmap": [
           {
            "colorbar": {
             "outlinewidth": 0,
             "ticks": ""
            },
            "colorscale": [
             [
              0,
              "#0d0887"
             ],
             [
              0.1111111111111111,
              "#46039f"
             ],
             [
              0.2222222222222222,
              "#7201a8"
             ],
             [
              0.3333333333333333,
              "#9c179e"
             ],
             [
              0.4444444444444444,
              "#bd3786"
             ],
             [
              0.5555555555555556,
              "#d8576b"
             ],
             [
              0.6666666666666666,
              "#ed7953"
             ],
             [
              0.7777777777777778,
              "#fb9f3a"
             ],
             [
              0.8888888888888888,
              "#fdca26"
             ],
             [
              1,
              "#f0f921"
             ]
            ],
            "type": "heatmap"
           }
          ],
          "heatmapgl": [
           {
            "colorbar": {
             "outlinewidth": 0,
             "ticks": ""
            },
            "colorscale": [
             [
              0,
              "#0d0887"
             ],
             [
              0.1111111111111111,
              "#46039f"
             ],
             [
              0.2222222222222222,
              "#7201a8"
             ],
             [
              0.3333333333333333,
              "#9c179e"
             ],
             [
              0.4444444444444444,
              "#bd3786"
             ],
             [
              0.5555555555555556,
              "#d8576b"
             ],
             [
              0.6666666666666666,
              "#ed7953"
             ],
             [
              0.7777777777777778,
              "#fb9f3a"
             ],
             [
              0.8888888888888888,
              "#fdca26"
             ],
             [
              1,
              "#f0f921"
             ]
            ],
            "type": "heatmapgl"
           }
          ],
          "histogram": [
           {
            "marker": {
             "pattern": {
              "fillmode": "overlay",
              "size": 10,
              "solidity": 0.2
             }
            },
            "type": "histogram"
           }
          ],
          "histogram2d": [
           {
            "colorbar": {
             "outlinewidth": 0,
             "ticks": ""
            },
            "colorscale": [
             [
              0,
              "#0d0887"
             ],
             [
              0.1111111111111111,
              "#46039f"
             ],
             [
              0.2222222222222222,
              "#7201a8"
             ],
             [
              0.3333333333333333,
              "#9c179e"
             ],
             [
              0.4444444444444444,
              "#bd3786"
             ],
             [
              0.5555555555555556,
              "#d8576b"
             ],
             [
              0.6666666666666666,
              "#ed7953"
             ],
             [
              0.7777777777777778,
              "#fb9f3a"
             ],
             [
              0.8888888888888888,
              "#fdca26"
             ],
             [
              1,
              "#f0f921"
             ]
            ],
            "type": "histogram2d"
           }
          ],
          "histogram2dcontour": [
           {
            "colorbar": {
             "outlinewidth": 0,
             "ticks": ""
            },
            "colorscale": [
             [
              0,
              "#0d0887"
             ],
             [
              0.1111111111111111,
              "#46039f"
             ],
             [
              0.2222222222222222,
              "#7201a8"
             ],
             [
              0.3333333333333333,
              "#9c179e"
             ],
             [
              0.4444444444444444,
              "#bd3786"
             ],
             [
              0.5555555555555556,
              "#d8576b"
             ],
             [
              0.6666666666666666,
              "#ed7953"
             ],
             [
              0.7777777777777778,
              "#fb9f3a"
             ],
             [
              0.8888888888888888,
              "#fdca26"
             ],
             [
              1,
              "#f0f921"
             ]
            ],
            "type": "histogram2dcontour"
           }
          ],
          "mesh3d": [
           {
            "colorbar": {
             "outlinewidth": 0,
             "ticks": ""
            },
            "type": "mesh3d"
           }
          ],
          "parcoords": [
           {
            "line": {
             "colorbar": {
              "outlinewidth": 0,
              "ticks": ""
             }
            },
            "type": "parcoords"
           }
          ],
          "pie": [
           {
            "automargin": true,
            "type": "pie"
           }
          ],
          "scatter": [
           {
            "fillpattern": {
             "fillmode": "overlay",
             "size": 10,
             "solidity": 0.2
            },
            "type": "scatter"
           }
          ],
          "scatter3d": [
           {
            "line": {
             "colorbar": {
              "outlinewidth": 0,
              "ticks": ""
             }
            },
            "marker": {
             "colorbar": {
              "outlinewidth": 0,
              "ticks": ""
             }
            },
            "type": "scatter3d"
           }
          ],
          "scattercarpet": [
           {
            "marker": {
             "colorbar": {
              "outlinewidth": 0,
              "ticks": ""
             }
            },
            "type": "scattercarpet"
           }
          ],
          "scattergeo": [
           {
            "marker": {
             "colorbar": {
              "outlinewidth": 0,
              "ticks": ""
             }
            },
            "type": "scattergeo"
           }
          ],
          "scattergl": [
           {
            "marker": {
             "colorbar": {
              "outlinewidth": 0,
              "ticks": ""
             }
            },
            "type": "scattergl"
           }
          ],
          "scattermapbox": [
           {
            "marker": {
             "colorbar": {
              "outlinewidth": 0,
              "ticks": ""
             }
            },
            "type": "scattermapbox"
           }
          ],
          "scatterpolar": [
           {
            "marker": {
             "colorbar": {
              "outlinewidth": 0,
              "ticks": ""
             }
            },
            "type": "scatterpolar"
           }
          ],
          "scatterpolargl": [
           {
            "marker": {
             "colorbar": {
              "outlinewidth": 0,
              "ticks": ""
             }
            },
            "type": "scatterpolargl"
           }
          ],
          "scatterternary": [
           {
            "marker": {
             "colorbar": {
              "outlinewidth": 0,
              "ticks": ""
             }
            },
            "type": "scatterternary"
           }
          ],
          "surface": [
           {
            "colorbar": {
             "outlinewidth": 0,
             "ticks": ""
            },
            "colorscale": [
             [
              0,
              "#0d0887"
             ],
             [
              0.1111111111111111,
              "#46039f"
             ],
             [
              0.2222222222222222,
              "#7201a8"
             ],
             [
              0.3333333333333333,
              "#9c179e"
             ],
             [
              0.4444444444444444,
              "#bd3786"
             ],
             [
              0.5555555555555556,
              "#d8576b"
             ],
             [
              0.6666666666666666,
              "#ed7953"
             ],
             [
              0.7777777777777778,
              "#fb9f3a"
             ],
             [
              0.8888888888888888,
              "#fdca26"
             ],
             [
              1,
              "#f0f921"
             ]
            ],
            "type": "surface"
           }
          ],
          "table": [
           {
            "cells": {
             "fill": {
              "color": "#EBF0F8"
             },
             "line": {
              "color": "white"
             }
            },
            "header": {
             "fill": {
              "color": "#C8D4E3"
             },
             "line": {
              "color": "white"
             }
            },
            "type": "table"
           }
          ]
         },
         "layout": {
          "annotationdefaults": {
           "arrowcolor": "#2a3f5f",
           "arrowhead": 0,
           "arrowwidth": 1
          },
          "autotypenumbers": "strict",
          "coloraxis": {
           "colorbar": {
            "outlinewidth": 0,
            "ticks": ""
           }
          },
          "colorscale": {
           "diverging": [
            [
             0,
             "#8e0152"
            ],
            [
             0.1,
             "#c51b7d"
            ],
            [
             0.2,
             "#de77ae"
            ],
            [
             0.3,
             "#f1b6da"
            ],
            [
             0.4,
             "#fde0ef"
            ],
            [
             0.5,
             "#f7f7f7"
            ],
            [
             0.6,
             "#e6f5d0"
            ],
            [
             0.7,
             "#b8e186"
            ],
            [
             0.8,
             "#7fbc41"
            ],
            [
             0.9,
             "#4d9221"
            ],
            [
             1,
             "#276419"
            ]
           ],
           "sequential": [
            [
             0,
             "#0d0887"
            ],
            [
             0.1111111111111111,
             "#46039f"
            ],
            [
             0.2222222222222222,
             "#7201a8"
            ],
            [
             0.3333333333333333,
             "#9c179e"
            ],
            [
             0.4444444444444444,
             "#bd3786"
            ],
            [
             0.5555555555555556,
             "#d8576b"
            ],
            [
             0.6666666666666666,
             "#ed7953"
            ],
            [
             0.7777777777777778,
             "#fb9f3a"
            ],
            [
             0.8888888888888888,
             "#fdca26"
            ],
            [
             1,
             "#f0f921"
            ]
           ],
           "sequentialminus": [
            [
             0,
             "#0d0887"
            ],
            [
             0.1111111111111111,
             "#46039f"
            ],
            [
             0.2222222222222222,
             "#7201a8"
            ],
            [
             0.3333333333333333,
             "#9c179e"
            ],
            [
             0.4444444444444444,
             "#bd3786"
            ],
            [
             0.5555555555555556,
             "#d8576b"
            ],
            [
             0.6666666666666666,
             "#ed7953"
            ],
            [
             0.7777777777777778,
             "#fb9f3a"
            ],
            [
             0.8888888888888888,
             "#fdca26"
            ],
            [
             1,
             "#f0f921"
            ]
           ]
          },
          "colorway": [
           "#636efa",
           "#EF553B",
           "#00cc96",
           "#ab63fa",
           "#FFA15A",
           "#19d3f3",
           "#FF6692",
           "#B6E880",
           "#FF97FF",
           "#FECB52"
          ],
          "font": {
           "color": "#2a3f5f"
          },
          "geo": {
           "bgcolor": "white",
           "lakecolor": "white",
           "landcolor": "#E5ECF6",
           "showlakes": true,
           "showland": true,
           "subunitcolor": "white"
          },
          "hoverlabel": {
           "align": "left"
          },
          "hovermode": "closest",
          "mapbox": {
           "style": "light"
          },
          "paper_bgcolor": "white",
          "plot_bgcolor": "#E5ECF6",
          "polar": {
           "angularaxis": {
            "gridcolor": "white",
            "linecolor": "white",
            "ticks": ""
           },
           "bgcolor": "#E5ECF6",
           "radialaxis": {
            "gridcolor": "white",
            "linecolor": "white",
            "ticks": ""
           }
          },
          "scene": {
           "xaxis": {
            "backgroundcolor": "#E5ECF6",
            "gridcolor": "white",
            "gridwidth": 2,
            "linecolor": "white",
            "showbackground": true,
            "ticks": "",
            "zerolinecolor": "white"
           },
           "yaxis": {
            "backgroundcolor": "#E5ECF6",
            "gridcolor": "white",
            "gridwidth": 2,
            "linecolor": "white",
            "showbackground": true,
            "ticks": "",
            "zerolinecolor": "white"
           },
           "zaxis": {
            "backgroundcolor": "#E5ECF6",
            "gridcolor": "white",
            "gridwidth": 2,
            "linecolor": "white",
            "showbackground": true,
            "ticks": "",
            "zerolinecolor": "white"
           }
          },
          "shapedefaults": {
           "line": {
            "color": "#2a3f5f"
           }
          },
          "ternary": {
           "aaxis": {
            "gridcolor": "white",
            "linecolor": "white",
            "ticks": ""
           },
           "baxis": {
            "gridcolor": "white",
            "linecolor": "white",
            "ticks": ""
           },
           "bgcolor": "#E5ECF6",
           "caxis": {
            "gridcolor": "white",
            "linecolor": "white",
            "ticks": ""
           }
          },
          "title": {
           "x": 0.05
          },
          "xaxis": {
           "automargin": true,
           "gridcolor": "white",
           "linecolor": "white",
           "ticks": "",
           "title": {
            "standoff": 15
           },
           "zerolinecolor": "white",
           "zerolinewidth": 2
          },
          "yaxis": {
           "automargin": true,
           "gridcolor": "white",
           "linecolor": "white",
           "ticks": "",
           "title": {
            "standoff": 15
           },
           "zerolinecolor": "white",
           "zerolinewidth": 2
          }
         }
        },
        "xaxis": {
         "anchor": "y",
         "domain": [
          0,
          1
         ]
        },
        "yaxis": {
         "anchor": "x",
         "domain": [
          0,
          1
         ]
        }
       }
      }
     },
     "metadata": {},
     "output_type": "display_data"
    }
   ],
   "source": [
    "plot_dataset(partial_train_df, x=\"age\", y=\"education-num\", size=\"density\", hue=\"low_residual_conviction\", alpha=0.4)"
   ]
  },
  {
   "attachments": {},
   "cell_type": "markdown",
   "id": "1d88140c-5ff6-4128-bf24-88f833042e87",
   "metadata": {},
   "source": [
    "The above graph is a visualization of the data set in 2-dimensions, with the color as an indication of residual conviction and the size representing the density of the data. More specifically, the orange color represents the low conviction points (points which are very uncertain), and small size represents low density. Therefore, adding more data to the region with small, orange points can improve model performance. \n",
    "\n",
    "\n",
    "On the other hand, an orange point that is large would be an indication that this case lies in an dense region but was not predictable. Hence, this will be an indication where the problem is not well defined, or the data is missing key features.  \n"
   ]
  }
 ],
 "metadata": {
  "kernelspec": {
   "display_name": "Python 3 (ipykernel)",
   "language": "python",
   "name": "python3"
  },
  "language_info": {
   "codemirror_mode": {
    "name": "ipython",
    "version": 3
   },
   "file_extension": ".py",
   "mimetype": "text/x-python",
   "name": "python",
   "nbconvert_exporter": "python",
   "pygments_lexer": "ipython3",
   "version": "3.8.18"
  },
  "vscode": {
   "interpreter": {
    "hash": "eda761bfb12a75d260c02aadb74c887b69ce57625ad8fbf13f03f9409be493a0"
   }
  }
 },
 "nbformat": 4,
 "nbformat_minor": 5
}
