{
 "cells": [
  {
   "attachments": {},
   "cell_type": "markdown",
   "id": "69d7ac54-9a3b-4327-93a5-eb6fbf314530",
   "metadata": {
    "tags": []
   },
   "source": [
    "# Auditing and Editing\n",
    "## Overview \n",
    "\n",
    "Howso Engine's instance-based machine learning approach enables unique capabilities in addition to interpretability, which we learned about in the other recipes. We were able to detect possible anomalies and investigate Influential Cases and features that may be of concern. Using that information combined with Howso Engine giving us dynamic control over our Trainee, we can take meaningful action without having to dramatically incur additional expenses such as recreating the model. This is in contrast to most machine learning models which, once trained, are difficult to update without retraining the entire model. \n",
    "\n",
    "In this notebook we demonstrate the editability of a Howso Engine Trainee to take advantage of the Trainee and data diagnostic results shown from the `engine-insights.ipynb` recipe. \n",
    "\n",
    "This can be done on a small scale where we show how a case can be edited or removed to modify the behavior of the Trainee. A Howso Engine session allows us to toggle entire batches of training data and add/remove large chunks of training data. This can be very useful if we are continously adding data to our Trainee and we discover that certain batches are undesirable.\n",
    "\n",
    "### Sessions\n",
    "\n",
    "A Trainee Session is associated with each modification to a Trainee, which is useful for auditability. A session consists of the following information:  \n",
    "\n",
    "- Unique identifier  \n",
    "\n",
    "- The user for which the Session was created  \n",
    "\n",
    "- Date the Session was created \n",
    "\n",
    "- Name, given by the user (Optional) \n",
    "\n",
    "- Metadata for the user to store information (Optional) \n",
    "\n",
    "When working with Trainees, a default session will be automatically started for you unless you explicitly start (or create) your own. This session will be used for all interactions with the Trainee, unless a new session is explicitly started, for as long as your client is running. Additionally, each instance of a Howso Client will use its own unique active session. Starting a new session explicitly is useful if you want to give it a name and/or metadata for your own reference later, or if you wish to use separate sessions for different modifications of the Trainee. For example, using a unique session each time you train would allow you to later reference the specific cases that were trained by a certain session. \n"
   ]
  },
  {
   "attachments": {},
   "cell_type": "markdown",
   "id": "8c9eefe9",
   "metadata": {},
   "source": [
    "## Recipe Goals:\n",
    "\n",
    "This notebook will show how to edit cases in a Howso Engine Trainee, either individually or in batches through the use of Sessions. This will allow the user to take actions on cases they deem necessary through use of the interpretability and auditing tools shown in other recipes."
   ]
  },
  {
   "cell_type": "code",
   "execution_count": 1,
   "id": "f6cbaf0d-4f1f-410d-9cfd-1114f34c8c00",
   "metadata": {
    "execution": {
     "iopub.execute_input": "2024-07-08T16:11:29.089139Z",
     "iopub.status.busy": "2024-07-08T16:11:29.088951Z",
     "iopub.status.idle": "2024-07-08T16:11:29.530791Z",
     "shell.execute_reply": "2024-07-08T16:11:29.530106Z"
    }
   },
   "outputs": [],
   "source": [
    "import numpy as np\n",
    "import pandas as pd\n",
    "import plotly.express as px\n",
    "import plotly.graph_objects as go\n",
    "from plotly.subplots import make_subplots\n",
    "from pmlb import fetch_data\n",
    "\n",
    "from howso import engine\n",
    "from howso.utilities import infer_feature_attributes"
   ]
  },
  {
   "attachments": {},
   "cell_type": "markdown",
   "id": "f02595ed-6e01-4c05-91de-67c938fd402d",
   "metadata": {},
   "source": [
    "# Section 1: Train, Analyze, and Evaluate"
   ]
  },
  {
   "attachments": {},
   "cell_type": "markdown",
   "id": "8a1f5ffa-d96e-44b8-9152-9e7811b6f9b4",
   "metadata": {},
   "source": [
    "For questions about the specific steps of this section, please see the [basic workflow guide](https://docs.howso.com/user_guide/basics/basic_workflow.html).\n",
    "\n",
    "### Step 1: Load Data\n",
    "\n",
    "Our example dataset for this recipe continues to be the well known `Adult` dataset. This dataset consists of 14 Context Features and 1 Action Feature. The Action Feature in this version of the `Adult` dataset has been renamed to `target` and it takes the form of a binary indicator for whether a person in the data makes over $50,000/year (*target*=1) or less (*target*=0)."
   ]
  },
  {
   "cell_type": "code",
   "execution_count": 2,
   "id": "e5a7a925-5a9d-47fb-b4a3-3272203d4772",
   "metadata": {
    "execution": {
     "iopub.execute_input": "2024-07-08T16:11:29.533843Z",
     "iopub.status.busy": "2024-07-08T16:11:29.533631Z",
     "iopub.status.idle": "2024-07-08T16:11:29.602974Z",
     "shell.execute_reply": "2024-07-08T16:11:29.602341Z"
    }
   },
   "outputs": [
    {
     "data": {
      "text/html": [
       "<div>\n",
       "<style scoped>\n",
       "    .dataframe tbody tr th:only-of-type {\n",
       "        vertical-align: middle;\n",
       "    }\n",
       "\n",
       "    .dataframe tbody tr th {\n",
       "        vertical-align: top;\n",
       "    }\n",
       "\n",
       "    .dataframe thead th {\n",
       "        text-align: right;\n",
       "    }\n",
       "</style>\n",
       "<table border=\"1\" class=\"dataframe\">\n",
       "  <thead>\n",
       "    <tr style=\"text-align: right;\">\n",
       "      <th></th>\n",
       "      <th>sepal-length</th>\n",
       "      <th>sepal-width</th>\n",
       "      <th>petal-length</th>\n",
       "      <th>target</th>\n",
       "    </tr>\n",
       "  </thead>\n",
       "  <tbody>\n",
       "    <tr>\n",
       "      <th>0</th>\n",
       "      <td>6.7</td>\n",
       "      <td>3.0</td>\n",
       "      <td>5.2</td>\n",
       "      <td>2</td>\n",
       "    </tr>\n",
       "    <tr>\n",
       "      <th>1</th>\n",
       "      <td>6.0</td>\n",
       "      <td>2.2</td>\n",
       "      <td>5.0</td>\n",
       "      <td>2</td>\n",
       "    </tr>\n",
       "    <tr>\n",
       "      <th>2</th>\n",
       "      <td>6.2</td>\n",
       "      <td>2.8</td>\n",
       "      <td>4.8</td>\n",
       "      <td>2</td>\n",
       "    </tr>\n",
       "    <tr>\n",
       "      <th>3</th>\n",
       "      <td>7.7</td>\n",
       "      <td>3.8</td>\n",
       "      <td>6.7</td>\n",
       "      <td>2</td>\n",
       "    </tr>\n",
       "    <tr>\n",
       "      <th>4</th>\n",
       "      <td>7.2</td>\n",
       "      <td>3.0</td>\n",
       "      <td>5.8</td>\n",
       "      <td>2</td>\n",
       "    </tr>\n",
       "    <tr>\n",
       "      <th>...</th>\n",
       "      <td>...</td>\n",
       "      <td>...</td>\n",
       "      <td>...</td>\n",
       "      <td>...</td>\n",
       "    </tr>\n",
       "    <tr>\n",
       "      <th>145</th>\n",
       "      <td>5.0</td>\n",
       "      <td>3.5</td>\n",
       "      <td>1.6</td>\n",
       "      <td>0</td>\n",
       "    </tr>\n",
       "    <tr>\n",
       "      <th>146</th>\n",
       "      <td>5.4</td>\n",
       "      <td>3.9</td>\n",
       "      <td>1.7</td>\n",
       "      <td>0</td>\n",
       "    </tr>\n",
       "    <tr>\n",
       "      <th>147</th>\n",
       "      <td>5.1</td>\n",
       "      <td>3.4</td>\n",
       "      <td>1.5</td>\n",
       "      <td>0</td>\n",
       "    </tr>\n",
       "    <tr>\n",
       "      <th>148</th>\n",
       "      <td>5.0</td>\n",
       "      <td>3.6</td>\n",
       "      <td>1.4</td>\n",
       "      <td>0</td>\n",
       "    </tr>\n",
       "    <tr>\n",
       "      <th>149</th>\n",
       "      <td>5.0</td>\n",
       "      <td>3.4</td>\n",
       "      <td>1.6</td>\n",
       "      <td>0</td>\n",
       "    </tr>\n",
       "  </tbody>\n",
       "</table>\n",
       "<p>150 rows × 4 columns</p>\n",
       "</div>"
      ],
      "text/plain": [
       "     sepal-length  sepal-width  petal-length  target\n",
       "0             6.7          3.0           5.2       2\n",
       "1             6.0          2.2           5.0       2\n",
       "2             6.2          2.8           4.8       2\n",
       "3             7.7          3.8           6.7       2\n",
       "4             7.2          3.0           5.8       2\n",
       "..            ...          ...           ...     ...\n",
       "145           5.0          3.5           1.6       0\n",
       "146           5.4          3.9           1.7       0\n",
       "147           5.1          3.4           1.5       0\n",
       "148           5.0          3.6           1.4       0\n",
       "149           5.0          3.4           1.6       0\n",
       "\n",
       "[150 rows x 4 columns]"
      ]
     },
     "execution_count": 2,
     "metadata": {},
     "output_type": "execute_result"
    }
   ],
   "source": [
    "df = fetch_data('iris', local_cache_dir=\"../../data/iris\")\n",
    "\n",
    "# We remove petal-width so this is a 3d dataset, easier for visualization\n",
    "df = df.drop(columns=['petal-width'])\n",
    "df"
   ]
  },
  {
   "attachments": {},
   "cell_type": "markdown",
   "id": "35ec53b0-b623-427a-b2a6-8e55ebfef1bc",
   "metadata": {},
   "source": [
    "### Step 2: Train Trainee utilizing Sessions\n",
    "\n",
    "In this section we will perform all of the steps needed to train Howso Engine's Trainee."
   ]
  },
  {
   "cell_type": "code",
   "execution_count": 3,
   "id": "086a95e5-e236-4806-b6e4-65ea94f43f28",
   "metadata": {
    "execution": {
     "iopub.execute_input": "2024-07-08T16:11:29.605696Z",
     "iopub.status.busy": "2024-07-08T16:11:29.605311Z",
     "iopub.status.idle": "2024-07-08T16:11:29.630102Z",
     "shell.execute_reply": "2024-07-08T16:11:29.629506Z"
    }
   },
   "outputs": [
    {
     "name": "stderr",
     "output_type": "stream",
     "text": [
      "/var/folders/0x/fngj47rs2nj8ng4g1s0p8wbr0000gn/T/ipykernel_24058/2362176496.py:11: SettingWithCopyWarning: \n",
      "A value is trying to be set on a copy of a slice from a DataFrame\n",
      "\n",
      "See the caveats in the documentation: https://pandas.pydata.org/pandas-docs/stable/user_guide/indexing.html#returning-a-view-versus-a-copy\n",
      "  test_case['target'] = 1.0\n"
     ]
    }
   ],
   "source": [
    "# Infer features attributes\n",
    "features = infer_feature_attributes(df)\n",
    "\n",
    "# Specify Context and Action Features\n",
    "action_features = ['target']\n",
    "context_features = features.get_names(without=action_features)\n",
    "\n",
    "# We extract one row for demonstrative purposes later\n",
    "test_case = df.iloc[0]\n",
    "# change the test case target value for demonstrative purposes\n",
    "test_case['target'] = 1.0\n",
    "df = df.iloc[1:]"
   ]
  },
  {
   "cell_type": "code",
   "execution_count": 4,
   "id": "ab02d5f1-77b1-432f-a2ef-02009cb5cdb0",
   "metadata": {
    "execution": {
     "iopub.execute_input": "2024-07-08T16:11:29.641259Z",
     "iopub.status.busy": "2024-07-08T16:11:29.640888Z",
     "iopub.status.idle": "2024-07-08T16:11:45.286809Z",
     "shell.execute_reply": "2024-07-08T16:11:45.286122Z"
    }
   },
   "outputs": [
    {
     "name": "stderr",
     "output_type": "stream",
     "text": [
      "The following parameters from configuration file will override the Amalgam parameters set in the code: {'trace'}\n"
     ]
    }
   ],
   "source": [
    "# Create the Trainee\n",
    "t = engine.Trainee(\n",
    "    features=features,\n",
    "    overwrite_existing=True\n",
    ")\n",
    "\n",
    "t.train(df)\n",
    "\n",
    "# Analyze the Trainee\n",
    "t.analyze()"
   ]
  },
  {
   "attachments": {},
   "cell_type": "markdown",
   "id": "f07c698d",
   "metadata": {},
   "source": [
    "### Step 3: Inspect Results"
   ]
  },
  {
   "attachments": {},
   "cell_type": "markdown",
   "id": "98f3d772-0f56-4454-87dc-d24ff5cb40dd",
   "metadata": {},
   "source": [
    "# Section 2: Audit & Edit a Trainee"
   ]
  },
  {
   "attachments": {},
   "cell_type": "markdown",
   "id": "a48766ad",
   "metadata": {},
   "source": [
    "There are many reasons to audit and edit a Trainee. In other recipes, we highlighted several training cases that may be anomalous that may be candidates for removal. In this recipe, we have a entire chunk of training data that is incorrect. Howso Engine has the ability to edit data at different scales.\n",
    "\n",
    "What sets Howso Engine apart from other machine learning models is there is no need for retraining. For example, if we use `Scikit-Learn`'s Logistic regression and discover that our training data consists of cases we would like to remove, then we would have to go back to the beginning of the workflow, remove the problematic cases from the training data, and completely retrain the model.\n",
    "\n",
    "In Howso Engine, this is unnecessary unless a very large portion of the training data is altered. If this is the case, re-analyzing the Trainee may be appropriate, although it is not strictly necessary."
   ]
  },
  {
   "attachments": {},
   "cell_type": "markdown",
   "id": "ad59b531-a9a5-4892-a911-8d347c62b8f3",
   "metadata": {},
   "source": [
    "### Step 1: Editing Individual Cases to Tune the Trainee\n",
    "\n",
    "Here we demonstrate how to edit a Trainee one case at a time. Editing a case allows the user to modify or \"fix\" the behavior of the Trainee by the targeted editing of one or more cases. The user has complete control over all data in the Trainee, making it dynamic and quickly adjustable. Users do not need to worry about minor mistakes as the Trainee can be fine-tuned with this method after training.\n",
    "\n",
    "In our use case, the anomalous cases identified for the `Adult` dataset in `anomaly_detection.ipynb`recipe represents possible cases we want to edit. We noticed certain cases with unusual values for `capital-gains` like 99999 that look like they are nominal values representing other values, such as blanks. Editing cases allows us to easily correct these minor issues for an otherwise valid case post-training. \n",
    "\n",
    "If we believe that a case is entirely invalid and warrants removal, Howso Engine can also remove it entirely.\n",
    "\n",
    "To demonstrate this ability, we `react` to a single case to compare the predictions before and after an edit."
   ]
  },
  {
   "cell_type": "code",
   "execution_count": 5,
   "id": "16bceb2a-45f4-491e-829c-b706c829f014",
   "metadata": {
    "execution": {
     "iopub.execute_input": "2024-07-08T16:11:46.424663Z",
     "iopub.status.busy": "2024-07-08T16:11:46.424278Z",
     "iopub.status.idle": "2024-07-08T16:11:46.431359Z",
     "shell.execute_reply": "2024-07-08T16:11:46.430810Z"
    }
   },
   "outputs": [],
   "source": [
    "test_case_X = test_case[context_features]\n",
    "test_case_y = test_case[action_features]\n",
    "\n",
    "details = {\n",
    "    'influential_cases':True,\n",
    "}\n",
    "\n",
    "new_result = t.react(\n",
    "    [test_case_X.values.tolist()],\n",
    "    context_features=context_features,\n",
    "    action_features=action_features,\n",
    "    details=details\n",
    ")"
   ]
  },
  {
   "cell_type": "markdown",
   "id": "4165d607",
   "metadata": {},
   "source": [
    "# Note, we purposely changed the test case's true value to another value for demonstrative purposes."
   ]
  },
  {
   "cell_type": "code",
   "execution_count": 6,
   "id": "4a89ab1f-6288-4240-a36c-d6ecef0c53e8",
   "metadata": {
    "execution": {
     "iopub.execute_input": "2024-07-08T16:11:46.433795Z",
     "iopub.status.busy": "2024-07-08T16:11:46.433369Z",
     "iopub.status.idle": "2024-07-08T16:11:46.436938Z",
     "shell.execute_reply": "2024-07-08T16:11:46.436433Z"
    }
   },
   "outputs": [
    {
     "name": "stdout",
     "output_type": "stream",
     "text": [
      "prediction: 2\n",
      "actual: 1\n"
     ]
    }
   ],
   "source": [
    "print('prediction: {}'.format(int(new_result['action']['target'].iloc[0])))\n",
    "print('actual: {}'.format(int(test_case_y.iloc[0])))"
   ]
  },
  {
   "attachments": {},
   "cell_type": "markdown",
   "id": "12c8a440",
   "metadata": {},
   "source": [
    "#### Results \n",
    "\n",
    "We can see that the the predicted value is incorrect. If we want to artifically correct this prediction using our Trainee, we can edit its influential cases. This is for demonstrative purposes only and we do not recommend editing influential cases without fully investigating the cases."
   ]
  },
  {
   "attachments": {},
   "cell_type": "markdown",
   "id": "f5d34c48",
   "metadata": {},
   "source": [
    "### Step 2: Identify Influential Cases\n",
    "\n",
    "To determine which cases we want to edit, we identify the Influential Cases."
   ]
  },
  {
   "cell_type": "code",
   "execution_count": 7,
   "id": "0ee63dbe-f115-4874-9a71-a8736518a967",
   "metadata": {
    "execution": {
     "iopub.execute_input": "2024-07-08T16:11:46.439876Z",
     "iopub.status.busy": "2024-07-08T16:11:46.439499Z",
     "iopub.status.idle": "2024-07-08T16:11:46.450376Z",
     "shell.execute_reply": "2024-07-08T16:11:46.449875Z"
    }
   },
   "outputs": [],
   "source": [
    "# influence_df = pd.DataFrame(new_result['details']['influential_cases'][0]).drop(columns=['.session', '.session_training_index', '.influence_weight'])\n",
    "influence_df = pd.DataFrame(new_result['details']['influential_cases'][0])\n",
    "\n",
    "session_id = influence_df.iloc[0]['.session']\n"
   ]
  },
  {
   "attachments": {},
   "cell_type": "markdown",
   "id": "5659689f",
   "metadata": {},
   "source": [
    "We can see that many of the Influential Cases have the incorrect target value."
   ]
  },
  {
   "attachments": {},
   "cell_type": "markdown",
   "id": "c6afbf87-d357-4985-a026-aa440dd56da4",
   "metadata": {},
   "source": [
    "### Step 3: Edit Cases\n",
    "\n",
    "We will modify those Influential Cases target value to the \"correct\" values. Having more Influential Cases with the correct target value will increase the chance of that case being predicted to the correct target value. In a real world situation, this would generally only be performed in siutations where the data was incorrectly labeled, and we do not recommend editing cases solely for accuracy purposes."
   ]
  },
  {
   "cell_type": "code",
   "execution_count": 8,
   "id": "d7776af0-43ca-4fdd-a213-cf94d5279e7f",
   "metadata": {
    "execution": {
     "iopub.execute_input": "2024-07-08T16:11:46.453180Z",
     "iopub.status.busy": "2024-07-08T16:11:46.452828Z",
     "iopub.status.idle": "2024-07-08T16:11:46.464560Z",
     "shell.execute_reply": "2024-07-08T16:11:46.464035Z"
    }
   },
   "outputs": [],
   "source": [
    "edited_indices = []\n",
    "for index, row in influence_df.iterrows():\n",
    "    t.edit_cases(feature_values=[1],\n",
    "                case_indices=[(session_id, row[\".session_training_index\"])],\n",
    "                features=['target'])\n",
    "    edited_indices.append(row[\".session_training_index\"])"
   ]
  },
  {
   "attachments": {},
   "cell_type": "markdown",
   "id": "a2f07717",
   "metadata": {},
   "source": [
    "### Step 4: Verify the Edit and Check the Case Audit\n",
    "\n",
    "We can audit one of the updated cases to make sure the case has been edited and demonstrate how to retrieve the case history. Editing case history provides another layer of auditability and accountability to the Trainee."
   ]
  },
  {
   "cell_type": "code",
   "execution_count": 9,
   "id": "b5405e9d-c09d-413c-9c71-1d09eb5a8b51",
   "metadata": {
    "execution": {
     "iopub.execute_input": "2024-07-08T16:11:46.481500Z",
     "iopub.status.busy": "2024-07-08T16:11:46.481121Z",
     "iopub.status.idle": "2024-07-08T16:11:46.491018Z",
     "shell.execute_reply": "2024-07-08T16:11:46.490516Z"
    }
   },
   "outputs": [
    {
     "data": {
      "text/plain": [
       "{'109d8464-533d-471b-882e-492edc5b869c': [{'previous_value': 1,\n",
       "   'value': 1,\n",
       "   'feature': 'target',\n",
       "   'type': 'edit'}]}"
      ]
     },
     "execution_count": 9,
     "metadata": {},
     "output_type": "execute_result"
    }
   ],
   "source": [
    "updated_case = t.get_cases(\n",
    "    case_indices=[(session_id, edited_indices[0])],\n",
    "    features=df.columns.tolist() + ['.case_edit_history']\n",
    ")\n",
    "\n",
    "# audit edit history\n",
    "updated_case.loc[ 0, '.case_edit_history']"
   ]
  },
  {
   "attachments": {},
   "cell_type": "markdown",
   "id": "2b9b80f4-d107-450d-a70f-bcac3cab3144",
   "metadata": {},
   "source": [
    "### Step 5: Predict Again\n",
    "\n",
    "We will re-run the prediction to see if the target value is correct now."
   ]
  },
  {
   "cell_type": "code",
   "execution_count": 10,
   "id": "2fb1fd3d-fa3e-4a92-af00-fdfcabea0594",
   "metadata": {
    "execution": {
     "iopub.execute_input": "2024-07-08T16:11:46.493422Z",
     "iopub.status.busy": "2024-07-08T16:11:46.493068Z",
     "iopub.status.idle": "2024-07-08T16:11:46.499441Z",
     "shell.execute_reply": "2024-07-08T16:11:46.498887Z"
    }
   },
   "outputs": [
    {
     "name": "stdout",
     "output_type": "stream",
     "text": [
      "prediction: 1\n",
      "actual: 1.0\n"
     ]
    }
   ],
   "source": [
    "new_result = t.react(\n",
    "    [test_case_X.values.tolist()],\n",
    "    context_features=context_features,\n",
    "    action_features=action_features,\n",
    "    details=details\n",
    ")\n",
    "\n",
    "print('prediction: {}'.format(new_result['action']['target'].iloc[0]))\n",
    "print('actual: {}'.format(test_case_y.iloc[0]))"
   ]
  },
  {
   "attachments": {},
   "cell_type": "markdown",
   "id": "b1370f3f",
   "metadata": {},
   "source": [
    "We can see that by editing those two cases, we flipped the prediction for our original test case without re-training or re-analyzing our Trainee. If done correctly, this provides a user with a surgical tool for Trainee corrections."
   ]
  },
  {
   "cell_type": "code",
   "execution_count": 11,
   "id": "a0cf2b0d",
   "metadata": {},
   "outputs": [
    {
     "data": {
      "text/html": [
       "<div>\n",
       "<style scoped>\n",
       "    .dataframe tbody tr th:only-of-type {\n",
       "        vertical-align: middle;\n",
       "    }\n",
       "\n",
       "    .dataframe tbody tr th {\n",
       "        vertical-align: top;\n",
       "    }\n",
       "\n",
       "    .dataframe thead th {\n",
       "        text-align: right;\n",
       "    }\n",
       "</style>\n",
       "<table border=\"1\" class=\"dataframe\">\n",
       "  <thead>\n",
       "    <tr style=\"text-align: right;\">\n",
       "      <th></th>\n",
       "      <th>sepal-width</th>\n",
       "      <th>petal-length</th>\n",
       "      <th>target</th>\n",
       "      <th>sepal-length</th>\n",
       "    </tr>\n",
       "  </thead>\n",
       "  <tbody>\n",
       "    <tr>\n",
       "      <th>0</th>\n",
       "      <td>3.0</td>\n",
       "      <td>5.0</td>\n",
       "      <td>1</td>\n",
       "      <td>6.7</td>\n",
       "    </tr>\n",
       "    <tr>\n",
       "      <th>1</th>\n",
       "      <td>3.0</td>\n",
       "      <td>5.2</td>\n",
       "      <td>1</td>\n",
       "      <td>6.5</td>\n",
       "    </tr>\n",
       "    <tr>\n",
       "      <th>2</th>\n",
       "      <td>3.0</td>\n",
       "      <td>5.5</td>\n",
       "      <td>1</td>\n",
       "      <td>6.8</td>\n",
       "    </tr>\n",
       "    <tr>\n",
       "      <th>3</th>\n",
       "      <td>3.1</td>\n",
       "      <td>5.1</td>\n",
       "      <td>1</td>\n",
       "      <td>6.9</td>\n",
       "    </tr>\n",
       "    <tr>\n",
       "      <th>4</th>\n",
       "      <td>3.1</td>\n",
       "      <td>5.4</td>\n",
       "      <td>1</td>\n",
       "      <td>6.9</td>\n",
       "    </tr>\n",
       "    <tr>\n",
       "      <th>5</th>\n",
       "      <td>3.0</td>\n",
       "      <td>5.5</td>\n",
       "      <td>1</td>\n",
       "      <td>6.5</td>\n",
       "    </tr>\n",
       "    <tr>\n",
       "      <th>6</th>\n",
       "      <td>3.1</td>\n",
       "      <td>5.6</td>\n",
       "      <td>1</td>\n",
       "      <td>6.7</td>\n",
       "    </tr>\n",
       "    <tr>\n",
       "      <th>7</th>\n",
       "      <td>3.1</td>\n",
       "      <td>4.9</td>\n",
       "      <td>1</td>\n",
       "      <td>6.9</td>\n",
       "    </tr>\n",
       "    <tr>\n",
       "      <th>8</th>\n",
       "      <td>3.0</td>\n",
       "      <td>5.2</td>\n",
       "      <td>1</td>\n",
       "      <td>6.7</td>\n",
       "    </tr>\n",
       "  </tbody>\n",
       "</table>\n",
       "</div>"
      ],
      "text/plain": [
       "   sepal-width  petal-length  target  sepal-length\n",
       "0          3.0           5.0       1           6.7\n",
       "1          3.0           5.2       1           6.5\n",
       "2          3.0           5.5       1           6.8\n",
       "3          3.1           5.1       1           6.9\n",
       "4          3.1           5.4       1           6.9\n",
       "5          3.0           5.5       1           6.5\n",
       "6          3.1           5.6       1           6.7\n",
       "7          3.1           4.9       1           6.9\n",
       "8          3.0           5.2       1           6.7"
      ]
     },
     "execution_count": 11,
     "metadata": {},
     "output_type": "execute_result"
    }
   ],
   "source": [
    "\n",
    "\n",
    "influence_df_orig = influence_df.drop(columns=['.session', '.session_training_index', '.influence_weight'])\n",
    "# Index 5 is the test case\n",
    "influence_df_orig.loc[len(influence_df_orig)] = test_case\n",
    "influence_df_edit = influence_df_orig.copy()\n",
    "influence_df_edit['target'] = 1\n",
    "influence_df_edit"
   ]
  },
  {
   "cell_type": "code",
   "execution_count": 12,
   "id": "3d572ebf",
   "metadata": {},
   "outputs": [
    {
     "data": {
      "application/vnd.plotly.v1+json": {
       "config": {
        "plotlyServerURL": "https://plot.ly"
       },
       "data": [
        {
         "hovertemplate": "color=1.0<br>sepal-width=%{x}<br>petal-length=%{y}<br>sepal-length=%{z}<extra></extra>",
         "legendgroup": "1.0",
         "marker": {
          "color": "green",
          "symbol": "circle"
         },
         "mode": "markers",
         "name": "1.0",
         "scene": "scene",
         "showlegend": true,
         "type": "scatter3d",
         "x": [
          3,
          3.1
         ],
         "y": [
          5,
          4.9
         ],
         "z": [
          6.7,
          6.9
         ]
        },
        {
         "hovertemplate": "color=2.0<br>sepal-width=%{x}<br>petal-length=%{y}<br>sepal-length=%{z}<extra></extra>",
         "legendgroup": "2.0",
         "marker": {
          "color": "red",
          "symbol": "circle"
         },
         "mode": "markers",
         "name": "2.0",
         "scene": "scene",
         "showlegend": true,
         "type": "scatter3d",
         "x": [
          3,
          3,
          3.1,
          3.1,
          3,
          3.1
         ],
         "y": [
          5.2,
          5.5,
          5.1,
          5.4,
          5.5,
          5.6
         ],
         "z": [
          6.5,
          6.8,
          6.9,
          6.9,
          6.5,
          6.7
         ]
        },
        {
         "hovertemplate": "color=test case<br>sepal-width=%{x}<br>petal-length=%{y}<br>sepal-length=%{z}<extra></extra>",
         "legendgroup": "test case",
         "marker": {
          "color": "blue",
          "symbol": "circle"
         },
         "mode": "markers",
         "name": "test case",
         "scene": "scene",
         "showlegend": true,
         "type": "scatter3d",
         "x": [
          3
         ],
         "y": [
          5.2
         ],
         "z": [
          6.7
         ]
        },
        {
         "hovertemplate": "color=1<br>sepal-width=%{x}<br>petal-length=%{y}<br>sepal-length=%{z}<extra></extra>",
         "legendgroup": "1",
         "marker": {
          "color": "green",
          "symbol": "circle"
         },
         "mode": "markers",
         "name": "1",
         "scene": "scene2",
         "showlegend": false,
         "type": "scatter3d",
         "x": [
          3,
          3,
          3,
          3.1,
          3.1,
          3,
          3.1,
          3.1
         ],
         "y": [
          5,
          5.2,
          5.5,
          5.1,
          5.4,
          5.5,
          5.6,
          4.9
         ],
         "z": [
          6.7,
          6.5,
          6.8,
          6.9,
          6.9,
          6.5,
          6.7,
          6.9
         ]
        },
        {
         "hovertemplate": "color=test case<br>sepal-width=%{x}<br>petal-length=%{y}<br>sepal-length=%{z}<extra></extra>",
         "legendgroup": "test case",
         "marker": {
          "color": "blue",
          "symbol": "circle"
         },
         "mode": "markers",
         "name": "test case",
         "scene": "scene2",
         "showlegend": false,
         "type": "scatter3d",
         "x": [
          3
         ],
         "y": [
          5.2
         ],
         "z": [
          6.7
         ]
        }
       ],
       "layout": {
        "annotations": [
         {
          "font": {
           "size": 16
          },
          "showarrow": false,
          "text": "Original Dataset",
          "x": 0.225,
          "xanchor": "center",
          "xref": "paper",
          "y": 1,
          "yanchor": "bottom",
          "yref": "paper"
         },
         {
          "font": {
           "size": 16
          },
          "showarrow": false,
          "text": "Edited Dataset",
          "x": 0.775,
          "xanchor": "center",
          "xref": "paper",
          "y": 1,
          "yanchor": "bottom",
          "yref": "paper"
         }
        ],
        "scene": {
         "domain": {
          "x": [
           0,
           0.45
          ],
          "y": [
           0,
           1
          ]
         }
        },
        "scene2": {
         "domain": {
          "x": [
           0.55,
           1
          ],
          "y": [
           0,
           1
          ]
         }
        },
        "template": {
         "data": {
          "bar": [
           {
            "error_x": {
             "color": "#2a3f5f"
            },
            "error_y": {
             "color": "#2a3f5f"
            },
            "marker": {
             "line": {
              "color": "#E5ECF6",
              "width": 0.5
             },
             "pattern": {
              "fillmode": "overlay",
              "size": 10,
              "solidity": 0.2
             }
            },
            "type": "bar"
           }
          ],
          "barpolar": [
           {
            "marker": {
             "line": {
              "color": "#E5ECF6",
              "width": 0.5
             },
             "pattern": {
              "fillmode": "overlay",
              "size": 10,
              "solidity": 0.2
             }
            },
            "type": "barpolar"
           }
          ],
          "carpet": [
           {
            "aaxis": {
             "endlinecolor": "#2a3f5f",
             "gridcolor": "white",
             "linecolor": "white",
             "minorgridcolor": "white",
             "startlinecolor": "#2a3f5f"
            },
            "baxis": {
             "endlinecolor": "#2a3f5f",
             "gridcolor": "white",
             "linecolor": "white",
             "minorgridcolor": "white",
             "startlinecolor": "#2a3f5f"
            },
            "type": "carpet"
           }
          ],
          "choropleth": [
           {
            "colorbar": {
             "outlinewidth": 0,
             "ticks": ""
            },
            "type": "choropleth"
           }
          ],
          "contour": [
           {
            "colorbar": {
             "outlinewidth": 0,
             "ticks": ""
            },
            "colorscale": [
             [
              0,
              "#0d0887"
             ],
             [
              0.1111111111111111,
              "#46039f"
             ],
             [
              0.2222222222222222,
              "#7201a8"
             ],
             [
              0.3333333333333333,
              "#9c179e"
             ],
             [
              0.4444444444444444,
              "#bd3786"
             ],
             [
              0.5555555555555556,
              "#d8576b"
             ],
             [
              0.6666666666666666,
              "#ed7953"
             ],
             [
              0.7777777777777778,
              "#fb9f3a"
             ],
             [
              0.8888888888888888,
              "#fdca26"
             ],
             [
              1,
              "#f0f921"
             ]
            ],
            "type": "contour"
           }
          ],
          "contourcarpet": [
           {
            "colorbar": {
             "outlinewidth": 0,
             "ticks": ""
            },
            "type": "contourcarpet"
           }
          ],
          "heatmap": [
           {
            "colorbar": {
             "outlinewidth": 0,
             "ticks": ""
            },
            "colorscale": [
             [
              0,
              "#0d0887"
             ],
             [
              0.1111111111111111,
              "#46039f"
             ],
             [
              0.2222222222222222,
              "#7201a8"
             ],
             [
              0.3333333333333333,
              "#9c179e"
             ],
             [
              0.4444444444444444,
              "#bd3786"
             ],
             [
              0.5555555555555556,
              "#d8576b"
             ],
             [
              0.6666666666666666,
              "#ed7953"
             ],
             [
              0.7777777777777778,
              "#fb9f3a"
             ],
             [
              0.8888888888888888,
              "#fdca26"
             ],
             [
              1,
              "#f0f921"
             ]
            ],
            "type": "heatmap"
           }
          ],
          "heatmapgl": [
           {
            "colorbar": {
             "outlinewidth": 0,
             "ticks": ""
            },
            "colorscale": [
             [
              0,
              "#0d0887"
             ],
             [
              0.1111111111111111,
              "#46039f"
             ],
             [
              0.2222222222222222,
              "#7201a8"
             ],
             [
              0.3333333333333333,
              "#9c179e"
             ],
             [
              0.4444444444444444,
              "#bd3786"
             ],
             [
              0.5555555555555556,
              "#d8576b"
             ],
             [
              0.6666666666666666,
              "#ed7953"
             ],
             [
              0.7777777777777778,
              "#fb9f3a"
             ],
             [
              0.8888888888888888,
              "#fdca26"
             ],
             [
              1,
              "#f0f921"
             ]
            ],
            "type": "heatmapgl"
           }
          ],
          "histogram": [
           {
            "marker": {
             "pattern": {
              "fillmode": "overlay",
              "size": 10,
              "solidity": 0.2
             }
            },
            "type": "histogram"
           }
          ],
          "histogram2d": [
           {
            "colorbar": {
             "outlinewidth": 0,
             "ticks": ""
            },
            "colorscale": [
             [
              0,
              "#0d0887"
             ],
             [
              0.1111111111111111,
              "#46039f"
             ],
             [
              0.2222222222222222,
              "#7201a8"
             ],
             [
              0.3333333333333333,
              "#9c179e"
             ],
             [
              0.4444444444444444,
              "#bd3786"
             ],
             [
              0.5555555555555556,
              "#d8576b"
             ],
             [
              0.6666666666666666,
              "#ed7953"
             ],
             [
              0.7777777777777778,
              "#fb9f3a"
             ],
             [
              0.8888888888888888,
              "#fdca26"
             ],
             [
              1,
              "#f0f921"
             ]
            ],
            "type": "histogram2d"
           }
          ],
          "histogram2dcontour": [
           {
            "colorbar": {
             "outlinewidth": 0,
             "ticks": ""
            },
            "colorscale": [
             [
              0,
              "#0d0887"
             ],
             [
              0.1111111111111111,
              "#46039f"
             ],
             [
              0.2222222222222222,
              "#7201a8"
             ],
             [
              0.3333333333333333,
              "#9c179e"
             ],
             [
              0.4444444444444444,
              "#bd3786"
             ],
             [
              0.5555555555555556,
              "#d8576b"
             ],
             [
              0.6666666666666666,
              "#ed7953"
             ],
             [
              0.7777777777777778,
              "#fb9f3a"
             ],
             [
              0.8888888888888888,
              "#fdca26"
             ],
             [
              1,
              "#f0f921"
             ]
            ],
            "type": "histogram2dcontour"
           }
          ],
          "mesh3d": [
           {
            "colorbar": {
             "outlinewidth": 0,
             "ticks": ""
            },
            "type": "mesh3d"
           }
          ],
          "parcoords": [
           {
            "line": {
             "colorbar": {
              "outlinewidth": 0,
              "ticks": ""
             }
            },
            "type": "parcoords"
           }
          ],
          "pie": [
           {
            "automargin": true,
            "type": "pie"
           }
          ],
          "scatter": [
           {
            "fillpattern": {
             "fillmode": "overlay",
             "size": 10,
             "solidity": 0.2
            },
            "type": "scatter"
           }
          ],
          "scatter3d": [
           {
            "line": {
             "colorbar": {
              "outlinewidth": 0,
              "ticks": ""
             }
            },
            "marker": {
             "colorbar": {
              "outlinewidth": 0,
              "ticks": ""
             }
            },
            "type": "scatter3d"
           }
          ],
          "scattercarpet": [
           {
            "marker": {
             "colorbar": {
              "outlinewidth": 0,
              "ticks": ""
             }
            },
            "type": "scattercarpet"
           }
          ],
          "scattergeo": [
           {
            "marker": {
             "colorbar": {
              "outlinewidth": 0,
              "ticks": ""
             }
            },
            "type": "scattergeo"
           }
          ],
          "scattergl": [
           {
            "marker": {
             "colorbar": {
              "outlinewidth": 0,
              "ticks": ""
             }
            },
            "type": "scattergl"
           }
          ],
          "scattermapbox": [
           {
            "marker": {
             "colorbar": {
              "outlinewidth": 0,
              "ticks": ""
             }
            },
            "type": "scattermapbox"
           }
          ],
          "scatterpolar": [
           {
            "marker": {
             "colorbar": {
              "outlinewidth": 0,
              "ticks": ""
             }
            },
            "type": "scatterpolar"
           }
          ],
          "scatterpolargl": [
           {
            "marker": {
             "colorbar": {
              "outlinewidth": 0,
              "ticks": ""
             }
            },
            "type": "scatterpolargl"
           }
          ],
          "scatterternary": [
           {
            "marker": {
             "colorbar": {
              "outlinewidth": 0,
              "ticks": ""
             }
            },
            "type": "scatterternary"
           }
          ],
          "surface": [
           {
            "colorbar": {
             "outlinewidth": 0,
             "ticks": ""
            },
            "colorscale": [
             [
              0,
              "#0d0887"
             ],
             [
              0.1111111111111111,
              "#46039f"
             ],
             [
              0.2222222222222222,
              "#7201a8"
             ],
             [
              0.3333333333333333,
              "#9c179e"
             ],
             [
              0.4444444444444444,
              "#bd3786"
             ],
             [
              0.5555555555555556,
              "#d8576b"
             ],
             [
              0.6666666666666666,
              "#ed7953"
             ],
             [
              0.7777777777777778,
              "#fb9f3a"
             ],
             [
              0.8888888888888888,
              "#fdca26"
             ],
             [
              1,
              "#f0f921"
             ]
            ],
            "type": "surface"
           }
          ],
          "table": [
           {
            "cells": {
             "fill": {
              "color": "#EBF0F8"
             },
             "line": {
              "color": "white"
             }
            },
            "header": {
             "fill": {
              "color": "#C8D4E3"
             },
             "line": {
              "color": "white"
             }
            },
            "type": "table"
           }
          ]
         },
         "layout": {
          "annotationdefaults": {
           "arrowcolor": "#2a3f5f",
           "arrowhead": 0,
           "arrowwidth": 1
          },
          "autotypenumbers": "strict",
          "coloraxis": {
           "colorbar": {
            "outlinewidth": 0,
            "ticks": ""
           }
          },
          "colorscale": {
           "diverging": [
            [
             0,
             "#8e0152"
            ],
            [
             0.1,
             "#c51b7d"
            ],
            [
             0.2,
             "#de77ae"
            ],
            [
             0.3,
             "#f1b6da"
            ],
            [
             0.4,
             "#fde0ef"
            ],
            [
             0.5,
             "#f7f7f7"
            ],
            [
             0.6,
             "#e6f5d0"
            ],
            [
             0.7,
             "#b8e186"
            ],
            [
             0.8,
             "#7fbc41"
            ],
            [
             0.9,
             "#4d9221"
            ],
            [
             1,
             "#276419"
            ]
           ],
           "sequential": [
            [
             0,
             "#0d0887"
            ],
            [
             0.1111111111111111,
             "#46039f"
            ],
            [
             0.2222222222222222,
             "#7201a8"
            ],
            [
             0.3333333333333333,
             "#9c179e"
            ],
            [
             0.4444444444444444,
             "#bd3786"
            ],
            [
             0.5555555555555556,
             "#d8576b"
            ],
            [
             0.6666666666666666,
             "#ed7953"
            ],
            [
             0.7777777777777778,
             "#fb9f3a"
            ],
            [
             0.8888888888888888,
             "#fdca26"
            ],
            [
             1,
             "#f0f921"
            ]
           ],
           "sequentialminus": [
            [
             0,
             "#0d0887"
            ],
            [
             0.1111111111111111,
             "#46039f"
            ],
            [
             0.2222222222222222,
             "#7201a8"
            ],
            [
             0.3333333333333333,
             "#9c179e"
            ],
            [
             0.4444444444444444,
             "#bd3786"
            ],
            [
             0.5555555555555556,
             "#d8576b"
            ],
            [
             0.6666666666666666,
             "#ed7953"
            ],
            [
             0.7777777777777778,
             "#fb9f3a"
            ],
            [
             0.8888888888888888,
             "#fdca26"
            ],
            [
             1,
             "#f0f921"
            ]
           ]
          },
          "colorway": [
           "#636efa",
           "#EF553B",
           "#00cc96",
           "#ab63fa",
           "#FFA15A",
           "#19d3f3",
           "#FF6692",
           "#B6E880",
           "#FF97FF",
           "#FECB52"
          ],
          "font": {
           "color": "#2a3f5f"
          },
          "geo": {
           "bgcolor": "white",
           "lakecolor": "white",
           "landcolor": "#E5ECF6",
           "showlakes": true,
           "showland": true,
           "subunitcolor": "white"
          },
          "hoverlabel": {
           "align": "left"
          },
          "hovermode": "closest",
          "mapbox": {
           "style": "light"
          },
          "paper_bgcolor": "white",
          "plot_bgcolor": "#E5ECF6",
          "polar": {
           "angularaxis": {
            "gridcolor": "white",
            "linecolor": "white",
            "ticks": ""
           },
           "bgcolor": "#E5ECF6",
           "radialaxis": {
            "gridcolor": "white",
            "linecolor": "white",
            "ticks": ""
           }
          },
          "scene": {
           "xaxis": {
            "backgroundcolor": "#E5ECF6",
            "gridcolor": "white",
            "gridwidth": 2,
            "linecolor": "white",
            "showbackground": true,
            "ticks": "",
            "zerolinecolor": "white"
           },
           "yaxis": {
            "backgroundcolor": "#E5ECF6",
            "gridcolor": "white",
            "gridwidth": 2,
            "linecolor": "white",
            "showbackground": true,
            "ticks": "",
            "zerolinecolor": "white"
           },
           "zaxis": {
            "backgroundcolor": "#E5ECF6",
            "gridcolor": "white",
            "gridwidth": 2,
            "linecolor": "white",
            "showbackground": true,
            "ticks": "",
            "zerolinecolor": "white"
           }
          },
          "shapedefaults": {
           "line": {
            "color": "#2a3f5f"
           }
          },
          "ternary": {
           "aaxis": {
            "gridcolor": "white",
            "linecolor": "white",
            "ticks": ""
           },
           "baxis": {
            "gridcolor": "white",
            "linecolor": "white",
            "ticks": ""
           },
           "bgcolor": "#E5ECF6",
           "caxis": {
            "gridcolor": "white",
            "linecolor": "white",
            "ticks": ""
           }
          },
          "title": {
           "x": 0.05
          },
          "xaxis": {
           "automargin": true,
           "gridcolor": "white",
           "linecolor": "white",
           "ticks": "",
           "title": {
            "standoff": 15
           },
           "zerolinecolor": "white",
           "zerolinewidth": 2
          },
          "yaxis": {
           "automargin": true,
           "gridcolor": "white",
           "linecolor": "white",
           "ticks": "",
           "title": {
            "standoff": 15
           },
           "zerolinecolor": "white",
           "zerolinewidth": 2
          }
         }
        }
       }
      }
     },
     "metadata": {},
     "output_type": "display_data"
    }
   ],
   "source": [
    "\n",
    "color_list_orig = influence_df_orig['target'].astype(str).tolist()\n",
    "color_list_orig[-1] = 'test case'  # Label the last row as \"test case\"\n",
    "\n",
    "# Create a custom color map\n",
    "color_discrete_map_orig = {'1.0': 'green', '2.0': 'red', 'test case': 'blue'}\n",
    "\n",
    "# Create a 3D scatter plot\n",
    "fig1 = px.scatter_3d(\n",
    "    influence_df_orig,\n",
    "    x='sepal-width',\n",
    "    y='petal-length',\n",
    "    z='sepal-length',\n",
    "    color=color_list_orig,\n",
    "    color_discrete_map=color_discrete_map_orig,\n",
    ")\n",
    "\n",
    "\n",
    "color_list_edit = influence_df_edit['target'].astype(str).tolist()\n",
    "color_list_edit[-1] = 'test case'  # Label the last row as \"test case\"\n",
    "\n",
    "# Create a custom color map\n",
    "color_discrete_map_edit = {'1': 'green', '2': 'red', 'test case': 'blue'}\n",
    "\n",
    "# Create a 3D scatter plot\n",
    "fig2 = px.scatter_3d(\n",
    "    influence_df_edit,\n",
    "    x='sepal-width',\n",
    "    y='petal-length',\n",
    "    z='sepal-length',\n",
    "    color=color_list_edit,\n",
    "    color_discrete_map=color_discrete_map_edit,\n",
    ")\n",
    "\n",
    "\n",
    "# Create subplots\n",
    "fig = make_subplots(\n",
    "    rows=1, cols=2,\n",
    "    specs=[[{'type': 'scatter3d'}, {'type': 'scatter3d'}]],\n",
    "    subplot_titles=(\"Original Dataset\", \"Edited Dataset\")\n",
    "    )\n",
    "\n",
    "# Add the scatter plots to the subplots\n",
    "for trace in fig1.data:\n",
    "    fig.add_trace(trace, row=1, col=1)\n",
    "\n",
    "for trace in fig2.data:\n",
    "    trace.showlegend = False\n",
    "    fig.add_trace(trace, row=1, col=2)\n",
    "\n",
    "# Show the plot\n",
    "fig.show()"
   ]
  },
  {
   "attachments": {},
   "cell_type": "markdown",
   "id": "228bf22c",
   "metadata": {},
   "source": [
    "The dynamic edting and deleting of individual Cases allows the user to perform targeted modification of the Trainee and provides the user with unparalleled control over their data and Trainee. This should not be done lightly and we recommend that all Cases be investigated before performing this action."
   ]
  },
  {
   "attachments": {},
   "cell_type": "markdown",
   "id": "18a6ce88",
   "metadata": {},
   "source": [
    "# Conclusion:\n",
    "\n",
    "We can see that by getting rid of the session with the faulty data, our Trainee performance improved dramatically, as expected. This capability provides the user with a very efficient way to maintain control over a continously evolving Trainee if the user is constantly adding training data.\n",
    "\n",
    "The tools shown in this and other recipes allows the user to find, diagnose, and act at a level of ease and precision that other machine learning models cannot match. This opens the door to possibilities for the user and provides a flexible platform that can adjust to any type of machine learning needs."
   ]
  }
 ],
 "metadata": {
  "kernelspec": {
   "display_name": "Python 3 (ipykernel)",
   "language": "python",
   "name": "python3"
  },
  "language_info": {
   "codemirror_mode": {
    "name": "ipython",
    "version": 3
   },
   "file_extension": ".py",
   "mimetype": "text/x-python",
   "name": "python",
   "nbconvert_exporter": "python",
   "pygments_lexer": "ipython3",
   "version": "3.11.2"
  },
  "vscode": {
   "interpreter": {
    "hash": "05bef118205722947f728ae63677543c379f4948eeeee250b8cdd0b8032e383c"
   }
  }
 },
 "nbformat": 4,
 "nbformat_minor": 5
}
