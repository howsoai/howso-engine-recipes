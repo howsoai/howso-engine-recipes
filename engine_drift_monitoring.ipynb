{
 "cells": [
  {
   "attachments": {},
   "cell_type": "markdown",
   "id": "2c47f674",
   "metadata": {},
   "source": [
    "# Overview\n",
    "\n",
    "This example notebook will demonstrate Howso Engine’s ability to handle model drift. Drift occurs when a trained model no longer reflects the desired aspects of reality, leading to poor predictions. Howso Engine can be used to monitor any potential drift by evaluating bias in both new and ongoing models using online learning and interpretability. "
   ]
  },
  {
   "attachments": {},
   "cell_type": "markdown",
   "id": "a2db5be2",
   "metadata": {},
   "source": [
    "## Step 1: Load the Data"
   ]
  },
  {
   "cell_type": "code",
   "execution_count": 1,
   "id": "2b16a590",
   "metadata": {
    "execution": {
     "iopub.execute_input": "2024-02-23T20:06:25.527069Z",
     "iopub.status.busy": "2024-02-23T20:06:25.526706Z",
     "iopub.status.idle": "2024-02-23T20:06:26.584372Z",
     "shell.execute_reply": "2024-02-23T20:06:26.583685Z"
    }
   },
   "outputs": [],
   "source": [
    "import os\n",
    "\n",
    "import numpy as np\n",
    "import pandas as pd\n",
    "import plotly.io as pio\n",
    "import pmlb\n",
    "from scipy.stats import entropy\n",
    "from sklearn.ensemble import GradientBoostingClassifier\n",
    "\n",
    "from howso import engine\n",
    "from howso.utilities import infer_feature_attributes\n",
    "from howso.visuals import (\n",
    "    plot_drift,\n",
    "    plot_kl_divergence,\n",
    ")\n",
    "\n",
    "pio.renderers.default = os.getenv(\"HOWSO_RECIPE_RENDERER\", \"notebook\")"
   ]
  },
  {
   "cell_type": "code",
   "execution_count": 2,
   "id": "472fe5df",
   "metadata": {
    "execution": {
     "iopub.execute_input": "2024-02-23T20:06:26.587237Z",
     "iopub.status.busy": "2024-02-23T20:06:26.587036Z",
     "iopub.status.idle": "2024-02-23T20:06:26.601617Z",
     "shell.execute_reply": "2024-02-23T20:06:26.601121Z"
    }
   },
   "outputs": [
    {
     "data": {
      "text/html": [
       "<div>\n",
       "<style scoped>\n",
       "    .dataframe tbody tr th:only-of-type {\n",
       "        vertical-align: middle;\n",
       "    }\n",
       "\n",
       "    .dataframe tbody tr th {\n",
       "        vertical-align: top;\n",
       "    }\n",
       "\n",
       "    .dataframe thead th {\n",
       "        text-align: right;\n",
       "    }\n",
       "</style>\n",
       "<table border=\"1\" class=\"dataframe\">\n",
       "  <thead>\n",
       "    <tr style=\"text-align: right;\">\n",
       "      <th></th>\n",
       "      <th>sepal-length</th>\n",
       "      <th>sepal-width</th>\n",
       "      <th>petal-length</th>\n",
       "      <th>petal-width</th>\n",
       "      <th>target</th>\n",
       "    </tr>\n",
       "  </thead>\n",
       "  <tbody>\n",
       "    <tr>\n",
       "      <th>0</th>\n",
       "      <td>6.7</td>\n",
       "      <td>3.0</td>\n",
       "      <td>5.2</td>\n",
       "      <td>2.3</td>\n",
       "      <td>2</td>\n",
       "    </tr>\n",
       "    <tr>\n",
       "      <th>1</th>\n",
       "      <td>6.0</td>\n",
       "      <td>2.2</td>\n",
       "      <td>5.0</td>\n",
       "      <td>1.5</td>\n",
       "      <td>2</td>\n",
       "    </tr>\n",
       "    <tr>\n",
       "      <th>2</th>\n",
       "      <td>6.2</td>\n",
       "      <td>2.8</td>\n",
       "      <td>4.8</td>\n",
       "      <td>1.8</td>\n",
       "      <td>2</td>\n",
       "    </tr>\n",
       "    <tr>\n",
       "      <th>3</th>\n",
       "      <td>7.7</td>\n",
       "      <td>3.8</td>\n",
       "      <td>6.7</td>\n",
       "      <td>2.2</td>\n",
       "      <td>2</td>\n",
       "    </tr>\n",
       "    <tr>\n",
       "      <th>4</th>\n",
       "      <td>7.2</td>\n",
       "      <td>3.0</td>\n",
       "      <td>5.8</td>\n",
       "      <td>1.6</td>\n",
       "      <td>2</td>\n",
       "    </tr>\n",
       "    <tr>\n",
       "      <th>...</th>\n",
       "      <td>...</td>\n",
       "      <td>...</td>\n",
       "      <td>...</td>\n",
       "      <td>...</td>\n",
       "      <td>...</td>\n",
       "    </tr>\n",
       "    <tr>\n",
       "      <th>145</th>\n",
       "      <td>5.0</td>\n",
       "      <td>3.5</td>\n",
       "      <td>1.6</td>\n",
       "      <td>0.6</td>\n",
       "      <td>0</td>\n",
       "    </tr>\n",
       "    <tr>\n",
       "      <th>146</th>\n",
       "      <td>5.4</td>\n",
       "      <td>3.9</td>\n",
       "      <td>1.7</td>\n",
       "      <td>0.4</td>\n",
       "      <td>0</td>\n",
       "    </tr>\n",
       "    <tr>\n",
       "      <th>147</th>\n",
       "      <td>5.1</td>\n",
       "      <td>3.4</td>\n",
       "      <td>1.5</td>\n",
       "      <td>0.2</td>\n",
       "      <td>0</td>\n",
       "    </tr>\n",
       "    <tr>\n",
       "      <th>148</th>\n",
       "      <td>5.0</td>\n",
       "      <td>3.6</td>\n",
       "      <td>1.4</td>\n",
       "      <td>0.2</td>\n",
       "      <td>0</td>\n",
       "    </tr>\n",
       "    <tr>\n",
       "      <th>149</th>\n",
       "      <td>5.0</td>\n",
       "      <td>3.4</td>\n",
       "      <td>1.6</td>\n",
       "      <td>0.4</td>\n",
       "      <td>0</td>\n",
       "    </tr>\n",
       "  </tbody>\n",
       "</table>\n",
       "<p>150 rows × 5 columns</p>\n",
       "</div>"
      ],
      "text/plain": [
       "     sepal-length  sepal-width  petal-length  petal-width  target\n",
       "0             6.7          3.0           5.2          2.3       2\n",
       "1             6.0          2.2           5.0          1.5       2\n",
       "2             6.2          2.8           4.8          1.8       2\n",
       "3             7.7          3.8           6.7          2.2       2\n",
       "4             7.2          3.0           5.8          1.6       2\n",
       "..            ...          ...           ...          ...     ...\n",
       "145           5.0          3.5           1.6          0.6       0\n",
       "146           5.4          3.9           1.7          0.4       0\n",
       "147           5.1          3.4           1.5          0.2       0\n",
       "148           5.0          3.6           1.4          0.2       0\n",
       "149           5.0          3.4           1.6          0.4       0\n",
       "\n",
       "[150 rows x 5 columns]"
      ]
     },
     "execution_count": 2,
     "metadata": {},
     "output_type": "execute_result"
    }
   ],
   "source": [
    "df = pmlb.fetch_data('iris', local_cache_dir='data/pmlb')\n",
    "df"
   ]
  },
  {
   "attachments": {},
   "cell_type": "markdown",
   "id": "edd04ee3",
   "metadata": {},
   "source": [
    "## Step 2: Simulate Data Drift\n",
    "\n",
    "Model drift occurs when the model that has been trained no longer reflects the desired aspects of reality. In this case, we will sample from the data in such a way that certain targets are much less likely to appear in our test and observation sets than in the training set. This will simulate model drift and allow us to demonstrate Howso Engine."
   ]
  },
  {
   "cell_type": "code",
   "execution_count": 3,
   "id": "d4a2e546",
   "metadata": {
    "execution": {
     "iopub.execute_input": "2024-02-23T20:06:26.603976Z",
     "iopub.status.busy": "2024-02-23T20:06:26.603778Z",
     "iopub.status.idle": "2024-02-23T20:06:26.620009Z",
     "shell.execute_reply": "2024-02-23T20:06:26.619370Z"
    }
   },
   "outputs": [
    {
     "name": "stdout",
     "output_type": "stream",
     "text": [
      "50 100\n"
     ]
    },
    {
     "data": {
      "text/plain": [
       "target\n",
       "2    27\n",
       "1    23\n",
       "Name: count, dtype: int64"
      ]
     },
     "metadata": {},
     "output_type": "display_data"
    },
    {
     "data": {
      "text/plain": [
       "target\n",
       "1.0    27\n",
       "2.0    23\n",
       "Name: count, dtype: int64"
      ]
     },
     "metadata": {},
     "output_type": "display_data"
    },
    {
     "data": {
      "text/plain": [
       "target\n",
       "0.0    40\n",
       "Name: count, dtype: int64"
      ]
     },
     "metadata": {},
     "output_type": "display_data"
    }
   ],
   "source": [
    "df_biased = df[df['target'].isin([1,2])]\n",
    "df_train = df_biased.sample(frac=0.5)\n",
    "df_test_no_drift = df_biased[~df_biased.isin(df_train)].dropna()\n",
    "df_test_drift = df[~df.isin(df_biased)].dropna()\n",
    "df_test_drift.loc[df_test_drift.sample(frac=0.2).index, \"target\"] = np.nan\n",
    "\n",
    "df_test = pd.concat([df_test_no_drift, df_test_drift])\n",
    "\n",
    "print(len(df_train), len(df_test))\n",
    "display(df_train.target.value_counts())\n",
    "display(df_test_no_drift.target.value_counts())\n",
    "display(df_test_drift.target.value_counts())"
   ]
  },
  {
   "attachments": {},
   "cell_type": "markdown",
   "id": "ca0e8f1e",
   "metadata": {},
   "source": [
    "## Step 3: Map Data\n",
    "\n",
    "Map the data to feature attributes and ensure they are mapped correctly."
   ]
  },
  {
   "cell_type": "code",
   "execution_count": 4,
   "id": "7692d663",
   "metadata": {
    "execution": {
     "iopub.execute_input": "2024-02-23T20:06:26.622386Z",
     "iopub.status.busy": "2024-02-23T20:06:26.622044Z",
     "iopub.status.idle": "2024-02-23T20:06:26.633439Z",
     "shell.execute_reply": "2024-02-23T20:06:26.632960Z"
    }
   },
   "outputs": [
    {
     "data": {
      "text/plain": [
       "{'sepal-length': {'type': 'continuous',\n",
       "  'decimal_places': 1,\n",
       "  'original_type': {'data_type': 'numeric', 'size': 8},\n",
       "  'bounds': {'min': 2.7, 'max': 20.1}},\n",
       " 'sepal-width': {'type': 'continuous',\n",
       "  'decimal_places': 1,\n",
       "  'original_type': {'data_type': 'numeric', 'size': 8},\n",
       "  'bounds': {'min': 1.0, 'max': 7.4}},\n",
       " 'petal-length': {'type': 'continuous',\n",
       "  'decimal_places': 1,\n",
       "  'original_type': {'data_type': 'numeric', 'size': 8},\n",
       "  'bounds': {'min': 1.0, 'max': 7.4}},\n",
       " 'petal-width': {'type': 'continuous',\n",
       "  'decimal_places': 1,\n",
       "  'original_type': {'data_type': 'numeric', 'size': 8},\n",
       "  'bounds': {'min': 0.0, 'max': 2.7}},\n",
       " 'target': {'type': 'nominal',\n",
       "  'data_type': 'number',\n",
       "  'decimal_places': 0,\n",
       "  'original_type': {'data_type': 'integer', 'size': 8},\n",
       "  'bounds': {'allow_null': False}}}"
      ]
     },
     "execution_count": 4,
     "metadata": {},
     "output_type": "execute_result"
    }
   ],
   "source": [
    "features = infer_feature_attributes(df)\n",
    "feature_names = df.columns.tolist()\n",
    "action_features = feature_names[-1:]\n",
    "context_features = feature_names[:-1]\n",
    "\n",
    "features"
   ]
  },
  {
   "attachments": {},
   "cell_type": "markdown",
   "id": "ca96b6b6",
   "metadata": {},
   "source": [
    "## Step 4: Train the non-Howso Model\n",
    "\n",
    "The non-Howso model will be trained on the training set created above. The training order and the predicted value will be recorded as inputs to the Howso model to help monitor drift."
   ]
  },
  {
   "cell_type": "code",
   "execution_count": 5,
   "id": "ffce518f",
   "metadata": {
    "execution": {
     "iopub.execute_input": "2024-02-23T20:06:26.635639Z",
     "iopub.status.busy": "2024-02-23T20:06:26.635422Z",
     "iopub.status.idle": "2024-02-23T20:06:26.715989Z",
     "shell.execute_reply": "2024-02-23T20:06:26.715345Z"
    }
   },
   "outputs": [
    {
     "data": {
      "text/html": [
       "<div>\n",
       "<style scoped>\n",
       "    .dataframe tbody tr th:only-of-type {\n",
       "        vertical-align: middle;\n",
       "    }\n",
       "\n",
       "    .dataframe tbody tr th {\n",
       "        vertical-align: top;\n",
       "    }\n",
       "\n",
       "    .dataframe thead th {\n",
       "        text-align: right;\n",
       "    }\n",
       "</style>\n",
       "<table border=\"1\" class=\"dataframe\">\n",
       "  <thead>\n",
       "    <tr style=\"text-align: right;\">\n",
       "      <th></th>\n",
       "      <th>index</th>\n",
       "      <th>sepal-length</th>\n",
       "      <th>sepal-width</th>\n",
       "      <th>petal-length</th>\n",
       "      <th>petal-width</th>\n",
       "      <th>target</th>\n",
       "    </tr>\n",
       "  </thead>\n",
       "  <tbody>\n",
       "    <tr>\n",
       "      <th>0</th>\n",
       "      <td>0</td>\n",
       "      <td>6.7</td>\n",
       "      <td>3.0</td>\n",
       "      <td>5.2</td>\n",
       "      <td>2.3</td>\n",
       "      <td>2.0</td>\n",
       "    </tr>\n",
       "    <tr>\n",
       "      <th>1</th>\n",
       "      <td>1</td>\n",
       "      <td>6.2</td>\n",
       "      <td>2.8</td>\n",
       "      <td>4.8</td>\n",
       "      <td>1.8</td>\n",
       "      <td>2.0</td>\n",
       "    </tr>\n",
       "    <tr>\n",
       "      <th>2</th>\n",
       "      <td>2</td>\n",
       "      <td>5.5</td>\n",
       "      <td>2.4</td>\n",
       "      <td>3.8</td>\n",
       "      <td>1.1</td>\n",
       "      <td>1.0</td>\n",
       "    </tr>\n",
       "    <tr>\n",
       "      <th>3</th>\n",
       "      <td>3</td>\n",
       "      <td>5.6</td>\n",
       "      <td>2.9</td>\n",
       "      <td>3.6</td>\n",
       "      <td>1.3</td>\n",
       "      <td>1.0</td>\n",
       "    </tr>\n",
       "    <tr>\n",
       "      <th>4</th>\n",
       "      <td>4</td>\n",
       "      <td>7.1</td>\n",
       "      <td>3.0</td>\n",
       "      <td>5.9</td>\n",
       "      <td>2.1</td>\n",
       "      <td>2.0</td>\n",
       "    </tr>\n",
       "    <tr>\n",
       "      <th>...</th>\n",
       "      <td>...</td>\n",
       "      <td>...</td>\n",
       "      <td>...</td>\n",
       "      <td>...</td>\n",
       "      <td>...</td>\n",
       "      <td>...</td>\n",
       "    </tr>\n",
       "    <tr>\n",
       "      <th>95</th>\n",
       "      <td>95</td>\n",
       "      <td>5.0</td>\n",
       "      <td>3.5</td>\n",
       "      <td>1.6</td>\n",
       "      <td>0.6</td>\n",
       "      <td>0.0</td>\n",
       "    </tr>\n",
       "    <tr>\n",
       "      <th>96</th>\n",
       "      <td>96</td>\n",
       "      <td>5.4</td>\n",
       "      <td>3.9</td>\n",
       "      <td>1.7</td>\n",
       "      <td>0.4</td>\n",
       "      <td>0.0</td>\n",
       "    </tr>\n",
       "    <tr>\n",
       "      <th>97</th>\n",
       "      <td>97</td>\n",
       "      <td>5.1</td>\n",
       "      <td>3.4</td>\n",
       "      <td>1.5</td>\n",
       "      <td>0.2</td>\n",
       "      <td>0.0</td>\n",
       "    </tr>\n",
       "    <tr>\n",
       "      <th>98</th>\n",
       "      <td>98</td>\n",
       "      <td>5.0</td>\n",
       "      <td>3.6</td>\n",
       "      <td>1.4</td>\n",
       "      <td>0.2</td>\n",
       "      <td>0.0</td>\n",
       "    </tr>\n",
       "    <tr>\n",
       "      <th>99</th>\n",
       "      <td>99</td>\n",
       "      <td>5.0</td>\n",
       "      <td>3.4</td>\n",
       "      <td>1.6</td>\n",
       "      <td>0.4</td>\n",
       "      <td>0.0</td>\n",
       "    </tr>\n",
       "  </tbody>\n",
       "</table>\n",
       "<p>100 rows × 6 columns</p>\n",
       "</div>"
      ],
      "text/plain": [
       "    index  sepal-length  sepal-width  petal-length  petal-width  target\n",
       "0       0           6.7          3.0           5.2          2.3     2.0\n",
       "1       1           6.2          2.8           4.8          1.8     2.0\n",
       "2       2           5.5          2.4           3.8          1.1     1.0\n",
       "3       3           5.6          2.9           3.6          1.3     1.0\n",
       "4       4           7.1          3.0           5.9          2.1     2.0\n",
       "..    ...           ...          ...           ...          ...     ...\n",
       "95     95           5.0          3.5           1.6          0.6     0.0\n",
       "96     96           5.4          3.9           1.7          0.4     0.0\n",
       "97     97           5.1          3.4           1.5          0.2     0.0\n",
       "98     98           5.0          3.6           1.4          0.2     0.0\n",
       "99     99           5.0          3.4           1.6          0.4     0.0\n",
       "\n",
       "[100 rows x 6 columns]"
      ]
     },
     "execution_count": 5,
     "metadata": {},
     "output_type": "execute_result"
    }
   ],
   "source": [
    "gb = GradientBoostingClassifier()\n",
    "gb.fit(df_train[context_features].values, df_train[action_features].values.reshape(-1))\n",
    "\n",
    "# Use predicted features to inform Howso Engine\n",
    "\n",
    "df_test['target'] = df_test['target']\n",
    "df_test = df_test.reset_index(drop=True)\n",
    "df_test = df_test.reset_index()\n",
    "\n",
    "df_train = df_train.reset_index(drop=True)\n",
    "df_train = df_train.reset_index()\n",
    "\n",
    "df_test"
   ]
  },
  {
   "attachments": {},
   "cell_type": "markdown",
   "id": "1adc279b",
   "metadata": {},
   "source": [
    "## Step 5: Train the Howso Model\n",
    "\n",
    "The Howso model will be trained on the modified data set trained above. We leverage online learning to record explanations with each case that is trained. We make sure to use the predicted target from the non-Howso model as well as the index to diversify the ways in which we can monitor the model. The index allows us to determine whether or not the time at which a given case was trained is important for prediction, which could indicate drift, while the predicted target allows us to note disagreements between the two models."
   ]
  },
  {
   "cell_type": "code",
   "execution_count": 6,
   "id": "e11c6357",
   "metadata": {
    "execution": {
     "iopub.execute_input": "2024-02-23T20:06:26.718444Z",
     "iopub.status.busy": "2024-02-23T20:06:26.718230Z",
     "iopub.status.idle": "2024-02-23T20:06:44.087569Z",
     "shell.execute_reply": "2024-02-23T20:06:44.086949Z"
    }
   },
   "outputs": [
    {
     "name": "stdout",
     "output_type": "stream",
     "text": [
      "['index', 'sepal-length', 'sepal-width', 'petal-length', 'petal-width']\n"
     ]
    },
    {
     "name": "stdout",
     "output_type": "stream",
     "text": [
      "Case 55 is anomalous.\n"
     ]
    },
    {
     "data": {
      "text/plain": [
       "index           55.0\n",
       "sepal-length     5.0\n",
       "sepal-width      3.0\n",
       "petal-length     1.6\n",
       "petal-width      0.2\n",
       "target           0.0\n",
       "pred             1.0\n",
       "Name: 55, dtype: float64"
      ]
     },
     "metadata": {},
     "output_type": "display_data"
    },
    {
     "name": "stdout",
     "output_type": "stream",
     "text": [
      "ENGINE feature importance: ['sepal-width', 'sepal-length', 'petal-width']\n",
      "MODEL feature importance  : ['sepal-width', 'petal-length', 'petal-width']\n",
      "\n",
      "=====\n",
      "\n",
      "Case 56 is anomalous.\n"
     ]
    },
    {
     "data": {
      "text/plain": [
       "index           56.0\n",
       "sepal-length     5.5\n",
       "sepal-width      3.5\n",
       "petal-length     1.3\n",
       "petal-width      0.2\n",
       "target           0.0\n",
       "pred             1.0\n",
       "Name: 56, dtype: float64"
      ]
     },
     "metadata": {},
     "output_type": "display_data"
    },
    {
     "name": "stdout",
     "output_type": "stream",
     "text": [
      "ENGINE feature importance: ['petal-length', 'sepal-width', 'petal-width']\n",
      "MODEL feature importance  : ['sepal-width', 'petal-length', 'petal-width']\n",
      "\n",
      "=====\n",
      "\n"
     ]
    },
    {
     "name": "stdout",
     "output_type": "stream",
     "text": [
      "Case 57 is anomalous.\n"
     ]
    },
    {
     "data": {
      "text/plain": [
       "index           57.0\n",
       "sepal-length     5.1\n",
       "sepal-width      3.5\n",
       "petal-length     1.4\n",
       "petal-width      0.3\n",
       "target           0.0\n",
       "pred             1.0\n",
       "Name: 57, dtype: float64"
      ]
     },
     "metadata": {},
     "output_type": "display_data"
    },
    {
     "name": "stdout",
     "output_type": "stream",
     "text": [
      "ENGINE feature importance: ['sepal-length', 'sepal-width', 'petal-width']\n",
      "MODEL feature importance  : ['sepal-width', 'petal-length', 'petal-width']\n",
      "\n",
      "=====\n",
      "\n"
     ]
    },
    {
     "name": "stdout",
     "output_type": "stream",
     "text": [
      "Case 58 is anomalous.\n"
     ]
    },
    {
     "data": {
      "text/plain": [
       "index           58.0\n",
       "sepal-length     5.7\n",
       "sepal-width      3.8\n",
       "petal-length     1.7\n",
       "petal-width      0.3\n",
       "target           0.0\n",
       "pred             1.0\n",
       "Name: 58, dtype: float64"
      ]
     },
     "metadata": {},
     "output_type": "display_data"
    },
    {
     "name": "stdout",
     "output_type": "stream",
     "text": [
      "ENGINE feature importance: ['sepal-length', 'sepal-width', 'petal-width']\n",
      "MODEL feature importance  : ['sepal-width', 'petal-length', 'petal-width']\n",
      "\n",
      "=====\n",
      "\n"
     ]
    },
    {
     "name": "stdout",
     "output_type": "stream",
     "text": [
      "Case 59 is anomalous.\n"
     ]
    },
    {
     "data": {
      "text/plain": [
       "index           59.0\n",
       "sepal-length     5.5\n",
       "sepal-width      4.2\n",
       "petal-length     1.4\n",
       "petal-width      0.2\n",
       "target           NaN\n",
       "pred             1.0\n",
       "Name: 59, dtype: float64"
      ]
     },
     "metadata": {},
     "output_type": "display_data"
    },
    {
     "name": "stdout",
     "output_type": "stream",
     "text": [
      "ENGINE feature importance: ['sepal-width', 'sepal-length', 'petal-width']\n",
      "MODEL feature importance  : ['sepal-width', 'petal-length', 'petal-width']\n",
      "\n",
      "=====\n",
      "\n"
     ]
    },
    {
     "name": "stdout",
     "output_type": "stream",
     "text": [
      "Case 60 is anomalous.\n"
     ]
    },
    {
     "data": {
      "text/plain": [
       "index           60.0\n",
       "sepal-length     5.1\n",
       "sepal-width      3.8\n",
       "petal-length     1.9\n",
       "petal-width      0.4\n",
       "target           0.0\n",
       "pred             1.0\n",
       "Name: 60, dtype: float64"
      ]
     },
     "metadata": {},
     "output_type": "display_data"
    },
    {
     "name": "stdout",
     "output_type": "stream",
     "text": [
      "ENGINE feature importance: ['sepal-length', 'sepal-width', 'petal-width']\n",
      "MODEL feature importance  : ['sepal-width', 'petal-length', 'petal-width']\n",
      "\n",
      "=====\n",
      "\n"
     ]
    },
    {
     "name": "stdout",
     "output_type": "stream",
     "text": [
      "Case 64 is anomalous.\n"
     ]
    },
    {
     "data": {
      "text/plain": [
       "index           64.0\n",
       "sepal-length     4.8\n",
       "sepal-width      3.4\n",
       "petal-length     1.9\n",
       "petal-width      0.2\n",
       "target           NaN\n",
       "pred             1.0\n",
       "Name: 64, dtype: float64"
      ]
     },
     "metadata": {},
     "output_type": "display_data"
    },
    {
     "name": "stdout",
     "output_type": "stream",
     "text": [
      "ENGINE feature importance: ['sepal-length', 'sepal-width', 'petal-width']\n",
      "MODEL feature importance  : ['sepal-width', 'petal-length', 'petal-width']\n",
      "\n",
      "=====\n",
      "\n",
      "Case 65 is anomalous.\n"
     ]
    },
    {
     "data": {
      "text/plain": [
       "index           65.0\n",
       "sepal-length     5.4\n",
       "sepal-width      3.4\n",
       "petal-length     1.5\n",
       "petal-width      0.4\n",
       "target           NaN\n",
       "pred             1.0\n",
       "Name: 65, dtype: float64"
      ]
     },
     "metadata": {},
     "output_type": "display_data"
    },
    {
     "name": "stdout",
     "output_type": "stream",
     "text": [
      "ENGINE feature importance: ['sepal-length', 'sepal-width', 'petal-width']\n",
      "MODEL feature importance  : ['sepal-width', 'petal-length', 'petal-width']\n",
      "\n",
      "=====\n",
      "\n"
     ]
    },
    {
     "name": "stdout",
     "output_type": "stream",
     "text": [
      "Case 66 is anomalous.\n"
     ]
    },
    {
     "data": {
      "text/plain": [
       "index           66.0\n",
       "sepal-length     5.0\n",
       "sepal-width      3.5\n",
       "petal-length     1.3\n",
       "petal-width      0.3\n",
       "target           NaN\n",
       "pred             1.0\n",
       "Name: 66, dtype: float64"
      ]
     },
     "metadata": {},
     "output_type": "display_data"
    },
    {
     "name": "stdout",
     "output_type": "stream",
     "text": [
      "ENGINE feature importance: ['sepal-width', 'sepal-length', 'petal-width']\n",
      "MODEL feature importance  : ['sepal-width', 'petal-length', 'petal-width']\n",
      "\n",
      "=====\n",
      "\n"
     ]
    },
    {
     "name": "stdout",
     "output_type": "stream",
     "text": [
      "Case 67 is anomalous.\n"
     ]
    },
    {
     "data": {
      "text/plain": [
       "index           67.0\n",
       "sepal-length     4.5\n",
       "sepal-width      2.3\n",
       "petal-length     1.3\n",
       "petal-width      0.3\n",
       "target           0.0\n",
       "pred             1.0\n",
       "Name: 67, dtype: float64"
      ]
     },
     "metadata": {},
     "output_type": "display_data"
    },
    {
     "name": "stdout",
     "output_type": "stream",
     "text": [
      "ENGINE feature importance: ['sepal-length', 'sepal-width', 'petal-width']\n",
      "MODEL feature importance  : ['sepal-width', 'petal-length', 'petal-width']\n",
      "\n",
      "=====\n",
      "\n"
     ]
    },
    {
     "name": "stdout",
     "output_type": "stream",
     "text": [
      "Case 69 is anomalous.\n"
     ]
    },
    {
     "data": {
      "text/plain": [
       "index           69.0\n",
       "sepal-length     4.4\n",
       "sepal-width      3.0\n",
       "petal-length     1.3\n",
       "petal-width      0.2\n",
       "target           NaN\n",
       "pred             1.0\n",
       "Name: 69, dtype: float64"
      ]
     },
     "metadata": {},
     "output_type": "display_data"
    },
    {
     "name": "stdout",
     "output_type": "stream",
     "text": [
      "ENGINE feature importance: ['sepal-length', 'sepal-width', 'petal-width']\n",
      "MODEL feature importance  : ['sepal-width', 'petal-length', 'petal-width']\n",
      "\n",
      "=====\n",
      "\n"
     ]
    },
    {
     "name": "stdout",
     "output_type": "stream",
     "text": [
      "Case 83 is anomalous.\n"
     ]
    },
    {
     "data": {
      "text/plain": [
       "index           83.0\n",
       "sepal-length     5.4\n",
       "sepal-width      3.7\n",
       "petal-length     1.5\n",
       "petal-width      0.2\n",
       "target           NaN\n",
       "pred             1.0\n",
       "Name: 83, dtype: float64"
      ]
     },
     "metadata": {},
     "output_type": "display_data"
    },
    {
     "name": "stdout",
     "output_type": "stream",
     "text": [
      "ENGINE feature importance: ['petal-width', 'sepal-length', 'sepal-width']\n",
      "MODEL feature importance  : ['sepal-width', 'petal-length', 'petal-width']\n",
      "\n",
      "=====\n",
      "\n"
     ]
    },
    {
     "name": "stdout",
     "output_type": "stream",
     "text": [
      "Case 86 is anomalous.\n"
     ]
    },
    {
     "data": {
      "text/plain": [
       "index           86.0\n",
       "sepal-length     5.8\n",
       "sepal-width      4.0\n",
       "petal-length     1.2\n",
       "petal-width      0.2\n",
       "target           NaN\n",
       "pred             1.0\n",
       "Name: 86, dtype: float64"
      ]
     },
     "metadata": {},
     "output_type": "display_data"
    },
    {
     "name": "stdout",
     "output_type": "stream",
     "text": [
      "ENGINE feature importance: ['petal-length', 'sepal-width', 'petal-width']\n",
      "MODEL feature importance  : ['sepal-width', 'petal-length', 'petal-width']\n",
      "\n",
      "=====\n",
      "\n"
     ]
    },
    {
     "name": "stdout",
     "output_type": "stream",
     "text": [
      "Case 93 is anomalous.\n"
     ]
    },
    {
     "data": {
      "text/plain": [
       "index           93.0\n",
       "sepal-length     4.6\n",
       "sepal-width      3.2\n",
       "petal-length     1.4\n",
       "petal-width      0.2\n",
       "target           NaN\n",
       "pred             1.0\n",
       "Name: 93, dtype: float64"
      ]
     },
     "metadata": {},
     "output_type": "display_data"
    },
    {
     "name": "stdout",
     "output_type": "stream",
     "text": [
      "ENGINE feature importance: ['sepal-width', 'sepal-length', 'petal-width']\n",
      "MODEL feature importance  : ['sepal-width', 'petal-length', 'petal-width']\n",
      "\n",
      "=====\n",
      "\n"
     ]
    }
   ],
   "source": [
    "# Create and train REACTOR\n",
    "mismatch_counts = []\n",
    "\n",
    "features = infer_feature_attributes(df_test)\n",
    "new_context_features = None\n",
    "\n",
    "familiarity_conviction_dp = []\n",
    "familiarity_conviction_gb = []\n",
    "mda_interpret = []\n",
    "mda_explain = []\n",
    "\n",
    "# Create trainee and turn on auto-analyze\n",
    "t = engine.Trainee(\"Engine - Drift Monitoring Recipe\", features, overwrite_existing=True)\n",
    "t.train(df_train)\n",
    "t.analyze()\n",
    "t.set_auto_analyze_params(analyze_threshold=1, auto_analyze_enabled=True)\n",
    "for idx, case in df_test.iterrows():\n",
    "    # Define which details we want from the Howso model\n",
    "    details = {\n",
    "        'feature_mda': True\n",
    "    }\n",
    "    \n",
    "    # Predict using the gradient booster\n",
    "    pred_gb = gb.predict(case[context_features].values.reshape(1, -1))[0]\n",
    "    gb_case = case.copy()\n",
    "    gb_case.target = pred_gb\n",
    "    \n",
    "    # Define the updates context features\n",
    "    if new_context_features is None:\n",
    "        new_context_features = [col for col in case.index if col not in action_features]\n",
    "        print(new_context_features)\n",
    "        \n",
    "    # React on the new case\n",
    "    result = t.react(case[new_context_features].values.reshape(1, -1),\n",
    "                     action_features=action_features,\n",
    "                     context_features=new_context_features,\n",
    "                     details=details)\n",
    "    action = result['action']\n",
    "    explanation = result['details']\n",
    "    \n",
    "    # Train on the new case\n",
    "    t.train([case.values.tolist()], features=df_test.columns.tolist())\n",
    "    \n",
    "    # Store the Howso prediction\n",
    "    pred_dp = action.iloc[0, 0]\n",
    "    \n",
    "    # Compute familiarity conviction for case\n",
    "    f_conv = t.react_group(new_cases=[[case.values.tolist()], [gb_case.values.tolist()]], features=df_test.columns.tolist())\n",
    "    f_conv_dp = f_conv['familiarity_conviction_addition'].iloc[0]\n",
    "    f_conv_gb = f_conv['familiarity_conviction_addition'].iloc[1]\n",
    "    familiarity_conviction_dp.append(f_conv_dp)\n",
    "    familiarity_conviction_gb.append(f_conv_gb)\n",
    "    \n",
    "    if pred_dp != pred_gb:\n",
    "        mismatch_counts.append(1)\n",
    "    else:\n",
    "        mismatch_counts.append(0)\n",
    "        \n",
    "    if pred_dp != pred_gb and f_conv_dp < 0.5 * np.mean(familiarity_conviction_dp) and idx > 30:\n",
    "        print(f\"Case {idx} is anomalous.\")\n",
    "        case['pred'] = pred_gb\n",
    "        display(case)\n",
    "        dp_importances = [val for key, val in explanation['feature_mda'][0].items() if key in context_features]\n",
    "        gb_importances = gb.feature_importances_.tolist()\n",
    "        print(f\"ENGINE feature importance: {[context_features[i] for i in np.argpartition(dp_importances, -3)[-3:]]}\")\n",
    "        print(f\"MODEL feature importance  : {[context_features[i] for i in np.argpartition(gb_importances, -3)[-3:]]}\")\n",
    "        print(\"\\n=====\\n\")\n",
    "        \n",
    "    # Get interpret MDA\n",
    "    details = {\n",
    "        'robust_influences': True,\n",
    "        'feature_mda_ex_post': True\n",
    "    }\n",
    "    result = t.react(case[new_context_features].values.reshape(1, -1), \n",
    "                     actions=[[case.target]],\n",
    "                     action_features=action_features,\n",
    "                     context_features=new_context_features,\n",
    "                     details=details)\n",
    "    action = result['action']\n",
    "    explanation = result['details']\n",
    "    mda_interpret.append(explanation['feature_mda_ex_post'][0])\n",
    "    \n",
    "    # Get explain MDA\n",
    "    result = t.react(case[new_context_features].values.reshape(1, -1), \n",
    "                     actions=[[gb_case.target]],\n",
    "                     action_features=action_features,\n",
    "                     context_features=new_context_features,\n",
    "                     details=details)\n",
    "    action = result['action']\n",
    "    explanation = result['details']\n",
    "    mda_explain.append(explanation['feature_mda_ex_post'][0])"
   ]
  },
  {
   "attachments": {},
   "cell_type": "markdown",
   "id": "a997c787",
   "metadata": {},
   "source": [
    "## Step 6: \"Deploy\" the non-Howso Model\n",
    "\n",
    "We iterate through the test set, getting predictions from both the non-Howso and Howso model. Explanations are recorded at each step, and anomalous cases are brought to the forefront including feature importance and predictions. The Howso model learns from this information as each new case is predicted. The non-Howso model is not updated online."
   ]
  },
  {
   "attachments": {},
   "cell_type": "markdown",
   "id": "84efcdfc",
   "metadata": {},
   "source": [
    "## The beginning of model drift is made very clear by the drop in familiarity conviction.\n",
    "\n",
    "This demo was created in such a way to make the effects of drift very obvious. It may be more subtle with a real-world model."
   ]
  },
  {
   "cell_type": "code",
   "execution_count": 7,
   "id": "db6fddae",
   "metadata": {
    "execution": {
     "iopub.execute_input": "2024-02-23T20:06:44.090731Z",
     "iopub.status.busy": "2024-02-23T20:06:44.090296Z",
     "iopub.status.idle": "2024-02-23T20:06:45.403030Z",
     "shell.execute_reply": "2024-02-23T20:06:45.402307Z"
    }
   },
   "outputs": [
    {
     "data": {
      "image/png": "[encoded data removed]"
     },
     "metadata": {},
     "output_type": "display_data"
    }
   ],
   "source": [
    "f_conv_df = pd.DataFrame(familiarity_conviction_dp, columns=[\"Familiarity Conviction (DP)\"])\n",
    "f_conv_df[\"Familiarity Conviction (GB)\"] = familiarity_conviction_gb\n",
    "\n",
    "plot_drift(f_conv_df, line_positions=[30, len(df_test_no_drift)])"
   ]
  },
  {
   "cell_type": "code",
   "execution_count": 8,
   "id": "32e087b0-7897-4424-bf86-973564345539",
   "metadata": {
    "execution": {
     "iopub.execute_input": "2024-02-23T20:06:45.405566Z",
     "iopub.status.busy": "2024-02-23T20:06:45.405355Z",
     "iopub.status.idle": "2024-02-23T20:06:45.409736Z",
     "shell.execute_reply": "2024-02-23T20:06:45.409258Z"
    }
   },
   "outputs": [],
   "source": [
    "# calculate delta conviction between Howso vs. GB model\n",
    "conv_delta = f_conv_df['Familiarity Conviction (DP)'] - f_conv_df['Familiarity Conviction (GB)']\n",
    "\n",
    "# calculate average delta for the latter portion of the data (after drift occurred)\n",
    "avg_delta = conv_delta[int(len(conv_delta) * 2 / 3):len(conv_delta)].mean()"
   ]
  },
  {
   "attachments": {},
   "cell_type": "markdown",
   "id": "a62b9819",
   "metadata": {},
   "source": [
    "## We can also count the number of times the models disagree with each other"
   ]
  },
  {
   "cell_type": "code",
   "execution_count": 9,
   "id": "d759e54d",
   "metadata": {
    "execution": {
     "iopub.execute_input": "2024-02-23T20:06:45.411941Z",
     "iopub.status.busy": "2024-02-23T20:06:45.411619Z",
     "iopub.status.idle": "2024-02-23T20:06:46.023038Z",
     "shell.execute_reply": "2024-02-23T20:06:46.022439Z"
    }
   },
   "outputs": [
    {
     "data": {
      "image/png": "[encoded data removed]"
     },
     "metadata": {},
     "output_type": "display_data"
    }
   ],
   "source": [
    "mismatch_count_df = pd.DataFrame(mismatch_counts, columns=[\"Prediction Deviation\"])\n",
    "\n",
    "plot_drift(mismatch_count_df, line_positions=[30, len(df_test_no_drift)], rolling_window=5)"
   ]
  },
  {
   "cell_type": "code",
   "execution_count": 10,
   "id": "53baad36-c7c7-4bef-8efc-045f5b922b0d",
   "metadata": {
    "execution": {
     "iopub.execute_input": "2024-02-23T20:06:46.025410Z",
     "iopub.status.busy": "2024-02-23T20:06:46.025215Z",
     "iopub.status.idle": "2024-02-23T20:06:46.029090Z",
     "shell.execute_reply": "2024-02-23T20:06:46.028606Z"
    }
   },
   "outputs": [],
   "source": [
    "# extract the series\n",
    "mismatch_series = mismatch_count_df['Prediction Deviation']\n",
    "\n",
    "# calculate before and after drift mismatch\n",
    "after_drift = mismatch_series.iloc[int(len(mismatch_series) * 2 / 3):].mean()\n",
    "before_drift = mismatch_series.iloc[:int(len(mismatch_series) * 1 / 3)].mean()\n",
    "\n",
    "avg_pred_mismatch = after_drift - before_drift"
   ]
  },
  {
   "attachments": {},
   "cell_type": "markdown",
   "id": "d16ce499-8fbe-4707-94fa-73883bc7e8e4",
   "metadata": {},
   "source": [
    "# Another method is monitor changes in feature importance between the models"
   ]
  },
  {
   "cell_type": "code",
   "execution_count": 11,
   "id": "43462f93-c9d6-4ceb-9417-94ac8e024ad6",
   "metadata": {
    "execution": {
     "iopub.execute_input": "2024-02-23T20:06:46.031339Z",
     "iopub.status.busy": "2024-02-23T20:06:46.031003Z",
     "iopub.status.idle": "2024-02-23T20:06:46.037315Z",
     "shell.execute_reply": "2024-02-23T20:06:46.036834Z"
    }
   },
   "outputs": [],
   "source": [
    "# remove situations when both features are 0 or negative\n",
    "def check_case(s1, s2):\n",
    "    for i, j in zip(s1, s2):\n",
    "        if (i <=0) and (j <=0):\n",
    "            return True\n",
    "    return False\n",
    "\n",
    "# clean up mean-decrease-accuracy for kl-divergence calculation\n",
    "def clean_mda(df_int, df_exp):\n",
    "    ind_for_remove = []\n",
    "    \n",
    "    # Store all zero values\n",
    "    ind_zeros = []\n",
    "    \n",
    "    for i in df_int.index:\n",
    "        if check_case(df_int.loc[i, :], df_exp.loc[i, :]):\n",
    "            ind_for_remove.append(i)\n",
    "\n",
    "        # If everything are zeros, set kl-divergence = 0 later on\n",
    "        if (df_int.loc[i, :] == 0).all() and (df_exp.loc[i, :] == 0).all():\n",
    "            ind_zeros.append(i)\n",
    "    \n",
    "    df_int_clean = df_int.drop(ind_for_remove)\n",
    "    df_exp_clean = df_exp.drop(ind_for_remove)\n",
    "    \n",
    "    # if still negative, set to zero\n",
    "    df_int_clean[df_int_clean < 0] = 0\n",
    "    df_exp_clean[df_exp_clean < 0] = 0\n",
    "\n",
    "    # if there are any all zero records left, set to inf during kl-divergence calculation\n",
    "    ind_inf = []\n",
    "    ind_for_remove = []\n",
    "    for i in df_int_clean.index:\n",
    "        if (df_int_clean.loc[i, :] == 0).all() or (df_exp_clean.loc[i, :] == 0).all():\n",
    "            ind_for_remove.append(i)\n",
    "            ind_inf.append(i)\n",
    "\n",
    "    df_int_clean = df_int_clean.drop(ind_for_remove)\n",
    "    df_exp_clean = df_exp_clean.drop(ind_for_remove)\n",
    "            \n",
    "    return df_int_clean, df_exp_clean, ind_zeros, ind_inf"
   ]
  },
  {
   "cell_type": "code",
   "execution_count": 12,
   "id": "d761ce67-dc1f-46eb-ab1a-7d4d5a61d4ed",
   "metadata": {
    "execution": {
     "iopub.execute_input": "2024-02-23T20:06:46.039416Z",
     "iopub.status.busy": "2024-02-23T20:06:46.039072Z",
     "iopub.status.idle": "2024-02-23T20:06:46.071999Z",
     "shell.execute_reply": "2024-02-23T20:06:46.071501Z"
    }
   },
   "outputs": [],
   "source": [
    "mda_int = pd.DataFrame(mda_interpret)\n",
    "mda_exp = pd.DataFrame(mda_explain)\n",
    "\n",
    "mda_int, mda_exp, ind_zeros, ind_inf = clean_mda(mda_int, mda_exp)\n",
    "\n",
    "kl_div = pd.Series(entropy(pk=mda_int, qk=mda_exp, axis=1), index=mda_int.index)\n",
    "\n",
    "# Using zeros where all values = 0\n",
    "for i in ind_zeros:\n",
    "    kl_div.loc[i] = 0\n",
    "    \n",
    "for i in ind_inf:\n",
    "    kl_div.loc[i] = np.inf\n",
    "\n",
    "kl_div = kl_div.sort_index()\n",
    "\n",
    "non_inf = kl_div[~(kl_div == np.inf)]\n",
    "inf = kl_div[kl_div == np.inf]"
   ]
  },
  {
   "cell_type": "code",
   "execution_count": 13,
   "id": "471da9cb",
   "metadata": {
    "execution": {
     "iopub.execute_input": "2024-02-23T20:06:46.074177Z",
     "iopub.status.busy": "2024-02-23T20:06:46.073983Z",
     "iopub.status.idle": "2024-02-23T20:06:46.981467Z",
     "shell.execute_reply": "2024-02-23T20:06:46.980934Z"
    }
   },
   "outputs": [
    {
     "data": {
      "image/png": "[encoded data removed]"
     },
     "metadata": {},
     "output_type": "display_data"
    }
   ],
   "source": [
    "plot_kl_divergence(kl_div)"
   ]
  },
  {
   "cell_type": "code",
   "execution_count": 14,
   "id": "f1517889-1817-464e-8894-3fd8ec815a96",
   "metadata": {
    "execution": {
     "iopub.execute_input": "2024-02-23T20:06:46.983775Z",
     "iopub.status.busy": "2024-02-23T20:06:46.983573Z",
     "iopub.status.idle": "2024-02-23T20:06:46.988738Z",
     "shell.execute_reply": "2024-02-23T20:06:46.988265Z"
    }
   },
   "outputs": [
    {
     "data": {
      "text/plain": [
       "-0.3423863899503885"
      ]
     },
     "execution_count": 14,
     "metadata": {},
     "output_type": "execute_result"
    }
   ],
   "source": [
    "# calculate the average kl-divergence before and after drift\n",
    "kl_before_drift = non_inf[:int(len(non_inf) * (1 / 3))].sum()\n",
    "kl_after_drift = non_inf[int(len(non_inf) * (2 / 3)):].sum()\n",
    "\n",
    "kl_diff = kl_after_drift - kl_before_drift\n",
    "kl_diff"
   ]
  }
 ],
 "metadata": {
  "kernelspec": {
   "display_name": "Python 3 (ipykernel)",
   "language": "python",
   "name": "python3"
  },
  "language_info": {
   "codemirror_mode": {
    "name": "ipython",
    "version": 3
   },
   "file_extension": ".py",
   "mimetype": "text/x-python",
   "name": "python",
   "nbconvert_exporter": "python",
   "pygments_lexer": "ipython3",
   "version": "3.9.18"
  },
  "vscode": {
   "interpreter": {
    "hash": "5a97d8588cce4b7427f7b841aa84f596036816f81d1a6ebef91f01881d12ee0c"
   }
  }
 },
 "nbformat": 4,
 "nbformat_minor": 5
}
