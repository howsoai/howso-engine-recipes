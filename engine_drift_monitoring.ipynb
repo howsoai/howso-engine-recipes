{
 "cells": [
  {
   "attachments": {},
   "cell_type": "markdown",
   "id": "2c47f674",
   "metadata": {},
   "source": [
    "# Overview\n",
    "\n",
    "This example notebook will demonstrate Howso Engine’s ability to handle model drift. Drift occurs when a trained model no longer reflects the desired aspects of reality, leading to poor predictions. Howso Engine can be used to monitor any potential drift by evaluating bias in both new and ongoing models using online learning and interpretability. "
   ]
  },
  {
   "attachments": {},
   "cell_type": "markdown",
   "id": "a2db5be2",
   "metadata": {},
   "source": [
    "## Step 1: Load the Data"
   ]
  },
  {
   "cell_type": "code",
   "execution_count": 1,
   "id": "2b16a590",
   "metadata": {},
   "outputs": [],
   "source": [
    "from pprint import pprint\n",
    "\n",
    "import matplotlib.pyplot as plt\n",
    "import numpy as np\n",
    "import pandas as pd\n",
    "import pmlb\n",
    "from scipy.stats import entropy\n",
    "import seaborn as sns\n",
    "from sklearn.ensemble import GradientBoostingClassifier\n",
    "\n",
    "from howso import engine\n",
    "from howso.utilities import infer_feature_attributes\n",
    "from howso.visuals import plot_drift, plot_kl_divergence"
   ]
  },
  {
   "cell_type": "code",
   "execution_count": 2,
   "id": "472fe5df",
   "metadata": {},
   "outputs": [
    {
     "data": {
      "text/html": [
       "<div>\n",
       "<style scoped>\n",
       "    .dataframe tbody tr th:only-of-type {\n",
       "        vertical-align: middle;\n",
       "    }\n",
       "\n",
       "    .dataframe tbody tr th {\n",
       "        vertical-align: top;\n",
       "    }\n",
       "\n",
       "    .dataframe thead th {\n",
       "        text-align: right;\n",
       "    }\n",
       "</style>\n",
       "<table border=\"1\" class=\"dataframe\">\n",
       "  <thead>\n",
       "    <tr style=\"text-align: right;\">\n",
       "      <th></th>\n",
       "      <th>sepal-length</th>\n",
       "      <th>sepal-width</th>\n",
       "      <th>petal-length</th>\n",
       "      <th>petal-width</th>\n",
       "      <th>target</th>\n",
       "    </tr>\n",
       "  </thead>\n",
       "  <tbody>\n",
       "    <tr>\n",
       "      <th>0</th>\n",
       "      <td>6.7</td>\n",
       "      <td>3.0</td>\n",
       "      <td>5.2</td>\n",
       "      <td>2.3</td>\n",
       "      <td>2</td>\n",
       "    </tr>\n",
       "    <tr>\n",
       "      <th>1</th>\n",
       "      <td>6.0</td>\n",
       "      <td>2.2</td>\n",
       "      <td>5.0</td>\n",
       "      <td>1.5</td>\n",
       "      <td>2</td>\n",
       "    </tr>\n",
       "    <tr>\n",
       "      <th>2</th>\n",
       "      <td>6.2</td>\n",
       "      <td>2.8</td>\n",
       "      <td>4.8</td>\n",
       "      <td>1.8</td>\n",
       "      <td>2</td>\n",
       "    </tr>\n",
       "    <tr>\n",
       "      <th>3</th>\n",
       "      <td>7.7</td>\n",
       "      <td>3.8</td>\n",
       "      <td>6.7</td>\n",
       "      <td>2.2</td>\n",
       "      <td>2</td>\n",
       "    </tr>\n",
       "    <tr>\n",
       "      <th>4</th>\n",
       "      <td>7.2</td>\n",
       "      <td>3.0</td>\n",
       "      <td>5.8</td>\n",
       "      <td>1.6</td>\n",
       "      <td>2</td>\n",
       "    </tr>\n",
       "    <tr>\n",
       "      <th>...</th>\n",
       "      <td>...</td>\n",
       "      <td>...</td>\n",
       "      <td>...</td>\n",
       "      <td>...</td>\n",
       "      <td>...</td>\n",
       "    </tr>\n",
       "    <tr>\n",
       "      <th>145</th>\n",
       "      <td>5.0</td>\n",
       "      <td>3.5</td>\n",
       "      <td>1.6</td>\n",
       "      <td>0.6</td>\n",
       "      <td>0</td>\n",
       "    </tr>\n",
       "    <tr>\n",
       "      <th>146</th>\n",
       "      <td>5.4</td>\n",
       "      <td>3.9</td>\n",
       "      <td>1.7</td>\n",
       "      <td>0.4</td>\n",
       "      <td>0</td>\n",
       "    </tr>\n",
       "    <tr>\n",
       "      <th>147</th>\n",
       "      <td>5.1</td>\n",
       "      <td>3.4</td>\n",
       "      <td>1.5</td>\n",
       "      <td>0.2</td>\n",
       "      <td>0</td>\n",
       "    </tr>\n",
       "    <tr>\n",
       "      <th>148</th>\n",
       "      <td>5.0</td>\n",
       "      <td>3.6</td>\n",
       "      <td>1.4</td>\n",
       "      <td>0.2</td>\n",
       "      <td>0</td>\n",
       "    </tr>\n",
       "    <tr>\n",
       "      <th>149</th>\n",
       "      <td>5.0</td>\n",
       "      <td>3.4</td>\n",
       "      <td>1.6</td>\n",
       "      <td>0.4</td>\n",
       "      <td>0</td>\n",
       "    </tr>\n",
       "  </tbody>\n",
       "</table>\n",
       "<p>150 rows × 5 columns</p>\n",
       "</div>"
      ],
      "text/plain": [
       "     sepal-length  sepal-width  petal-length  petal-width  target\n",
       "0             6.7          3.0           5.2          2.3       2\n",
       "1             6.0          2.2           5.0          1.5       2\n",
       "2             6.2          2.8           4.8          1.8       2\n",
       "3             7.7          3.8           6.7          2.2       2\n",
       "4             7.2          3.0           5.8          1.6       2\n",
       "..            ...          ...           ...          ...     ...\n",
       "145           5.0          3.5           1.6          0.6       0\n",
       "146           5.4          3.9           1.7          0.4       0\n",
       "147           5.1          3.4           1.5          0.2       0\n",
       "148           5.0          3.6           1.4          0.2       0\n",
       "149           5.0          3.4           1.6          0.4       0\n",
       "\n",
       "[150 rows x 5 columns]"
      ]
     },
     "execution_count": 2,
     "metadata": {},
     "output_type": "execute_result"
    }
   ],
   "source": [
    "sns.set_theme()\n",
    "\n",
    "df = pmlb.fetch_data('iris', local_cache_dir='data/pmlb')\n",
    "df"
   ]
  },
  {
   "attachments": {},
   "cell_type": "markdown",
   "id": "edd04ee3",
   "metadata": {},
   "source": [
    "## Step 2: Simulate Data Drift\n",
    "\n",
    "Model drift occurs when the model that has been trained no longer reflects the desired aspects of reality. In this case, we will sample from the data in such a way that certain targets are much less likely to appear in our test and observation sets than in the training set. This will simulate model drift and allow us to demonstrate Howso Engine."
   ]
  },
  {
   "cell_type": "code",
   "execution_count": 3,
   "id": "d4a2e546",
   "metadata": {},
   "outputs": [
    {
     "name": "stdout",
     "output_type": "stream",
     "text": [
      "50 100\n"
     ]
    },
    {
     "data": {
      "text/plain": [
       "target\n",
       "1    26\n",
       "2    24\n",
       "Name: count, dtype: int64"
      ]
     },
     "metadata": {},
     "output_type": "display_data"
    },
    {
     "data": {
      "text/plain": [
       "target\n",
       "2.0    26\n",
       "1.0    24\n",
       "Name: count, dtype: int64"
      ]
     },
     "metadata": {},
     "output_type": "display_data"
    },
    {
     "data": {
      "text/plain": [
       "target\n",
       "0.0    40\n",
       "Name: count, dtype: int64"
      ]
     },
     "metadata": {},
     "output_type": "display_data"
    }
   ],
   "source": [
    "df_biased = df[df['target'].isin([1,2])]\n",
    "df_train = df_biased.sample(frac=0.5)\n",
    "df_test_no_drift = df_biased[~df_biased.isin(df_train)].dropna()\n",
    "df_test_drift = df[~df.isin(df_biased)].dropna()\n",
    "df_test_drift.target.loc[df_test_drift.sample(frac=0.2).index] = np.nan\n",
    "\n",
    "df_test = pd.concat([df_test_no_drift, df_test_drift])\n",
    "\n",
    "print(len(df_train), len(df_test))\n",
    "display(df_train.target.value_counts())\n",
    "display(df_test_no_drift.target.value_counts())\n",
    "display(df_test_drift.target.value_counts())"
   ]
  },
  {
   "attachments": {},
   "cell_type": "markdown",
   "id": "ca0e8f1e",
   "metadata": {},
   "source": [
    "## Step 3: Map Data\n",
    "\n",
    "Map the data to feature attributes and ensure they are mapped correctly."
   ]
  },
  {
   "cell_type": "code",
   "execution_count": 4,
   "id": "7692d663",
   "metadata": {},
   "outputs": [
    {
     "name": "stdout",
     "output_type": "stream",
     "text": [
      "{ 'petal-length': { 'bounds': {'max': 7.38905609893065, 'min': 1.0},\n",
      "                    'decimal_places': 1,\n",
      "                    'original_type': {'data_type': 'numeric', 'size': 8},\n",
      "                    'type': 'continuous'},\n",
      "  'petal-width': { 'bounds': { 'max': 2.718281828459045,\n",
      "                               'min': 0.049787068367863944},\n",
      "                   'decimal_places': 1,\n",
      "                   'original_type': {'data_type': 'numeric', 'size': 8},\n",
      "                   'type': 'continuous'},\n",
      "  'sepal-length': { 'bounds': { 'max': 20.085536923187668,\n",
      "                                'min': 2.718281828459045},\n",
      "                    'decimal_places': 1,\n",
      "                    'original_type': {'data_type': 'numeric', 'size': 8},\n",
      "                    'type': 'continuous'},\n",
      "  'sepal-width': { 'bounds': {'max': 7.38905609893065, 'min': 1.0},\n",
      "                   'decimal_places': 1,\n",
      "                   'original_type': {'data_type': 'numeric', 'size': 8},\n",
      "                   'type': 'continuous'},\n",
      "  'target': { 'bounds': {'allow_null': False},\n",
      "              'data_type': 'number',\n",
      "              'decimal_places': 0,\n",
      "              'original_type': {'data_type': 'integer', 'size': 8},\n",
      "              'type': 'nominal'}}\n"
     ]
    }
   ],
   "source": [
    "features = infer_feature_attributes(df)\n",
    "feature_names = df.columns.tolist()\n",
    "action_features = feature_names[-1:]\n",
    "context_features = feature_names[:-1]\n",
    "\n",
    "pprint(features, indent=2)"
   ]
  },
  {
   "attachments": {},
   "cell_type": "markdown",
   "id": "ca96b6b6",
   "metadata": {},
   "source": [
    "## Step 4: Train the non-Howso Model\n",
    "\n",
    "The non-Howso model will be trained on the training set created above. The training order and the predicted value will be recorded as inputs to the Howso model to help monitor drift."
   ]
  },
  {
   "cell_type": "code",
   "execution_count": 5,
   "id": "ffce518f",
   "metadata": {},
   "outputs": [
    {
     "data": {
      "text/html": [
       "<div>\n",
       "<style scoped>\n",
       "    .dataframe tbody tr th:only-of-type {\n",
       "        vertical-align: middle;\n",
       "    }\n",
       "\n",
       "    .dataframe tbody tr th {\n",
       "        vertical-align: top;\n",
       "    }\n",
       "\n",
       "    .dataframe thead th {\n",
       "        text-align: right;\n",
       "    }\n",
       "</style>\n",
       "<table border=\"1\" class=\"dataframe\">\n",
       "  <thead>\n",
       "    <tr style=\"text-align: right;\">\n",
       "      <th></th>\n",
       "      <th>index</th>\n",
       "      <th>sepal-length</th>\n",
       "      <th>sepal-width</th>\n",
       "      <th>petal-length</th>\n",
       "      <th>petal-width</th>\n",
       "      <th>target</th>\n",
       "    </tr>\n",
       "  </thead>\n",
       "  <tbody>\n",
       "    <tr>\n",
       "      <th>0</th>\n",
       "      <td>0</td>\n",
       "      <td>6.2</td>\n",
       "      <td>2.8</td>\n",
       "      <td>4.8</td>\n",
       "      <td>1.8</td>\n",
       "      <td>2.0</td>\n",
       "    </tr>\n",
       "    <tr>\n",
       "      <th>1</th>\n",
       "      <td>1</td>\n",
       "      <td>6.3</td>\n",
       "      <td>3.4</td>\n",
       "      <td>5.6</td>\n",
       "      <td>2.4</td>\n",
       "      <td>2.0</td>\n",
       "    </tr>\n",
       "    <tr>\n",
       "      <th>2</th>\n",
       "      <td>2</td>\n",
       "      <td>7.1</td>\n",
       "      <td>3.0</td>\n",
       "      <td>5.9</td>\n",
       "      <td>2.1</td>\n",
       "      <td>2.0</td>\n",
       "    </tr>\n",
       "    <tr>\n",
       "      <th>3</th>\n",
       "      <td>3</td>\n",
       "      <td>6.3</td>\n",
       "      <td>2.8</td>\n",
       "      <td>5.1</td>\n",
       "      <td>1.5</td>\n",
       "      <td>2.0</td>\n",
       "    </tr>\n",
       "    <tr>\n",
       "      <th>4</th>\n",
       "      <td>4</td>\n",
       "      <td>6.3</td>\n",
       "      <td>2.9</td>\n",
       "      <td>5.6</td>\n",
       "      <td>1.8</td>\n",
       "      <td>2.0</td>\n",
       "    </tr>\n",
       "    <tr>\n",
       "      <th>...</th>\n",
       "      <td>...</td>\n",
       "      <td>...</td>\n",
       "      <td>...</td>\n",
       "      <td>...</td>\n",
       "      <td>...</td>\n",
       "      <td>...</td>\n",
       "    </tr>\n",
       "    <tr>\n",
       "      <th>95</th>\n",
       "      <td>95</td>\n",
       "      <td>5.0</td>\n",
       "      <td>3.5</td>\n",
       "      <td>1.6</td>\n",
       "      <td>0.6</td>\n",
       "      <td>0.0</td>\n",
       "    </tr>\n",
       "    <tr>\n",
       "      <th>96</th>\n",
       "      <td>96</td>\n",
       "      <td>5.4</td>\n",
       "      <td>3.9</td>\n",
       "      <td>1.7</td>\n",
       "      <td>0.4</td>\n",
       "      <td>0.0</td>\n",
       "    </tr>\n",
       "    <tr>\n",
       "      <th>97</th>\n",
       "      <td>97</td>\n",
       "      <td>5.1</td>\n",
       "      <td>3.4</td>\n",
       "      <td>1.5</td>\n",
       "      <td>0.2</td>\n",
       "      <td>0.0</td>\n",
       "    </tr>\n",
       "    <tr>\n",
       "      <th>98</th>\n",
       "      <td>98</td>\n",
       "      <td>5.0</td>\n",
       "      <td>3.6</td>\n",
       "      <td>1.4</td>\n",
       "      <td>0.2</td>\n",
       "      <td>0.0</td>\n",
       "    </tr>\n",
       "    <tr>\n",
       "      <th>99</th>\n",
       "      <td>99</td>\n",
       "      <td>5.0</td>\n",
       "      <td>3.4</td>\n",
       "      <td>1.6</td>\n",
       "      <td>0.4</td>\n",
       "      <td>NaN</td>\n",
       "    </tr>\n",
       "  </tbody>\n",
       "</table>\n",
       "<p>100 rows × 6 columns</p>\n",
       "</div>"
      ],
      "text/plain": [
       "    index  sepal-length  sepal-width  petal-length  petal-width  target\n",
       "0       0           6.2          2.8           4.8          1.8     2.0\n",
       "1       1           6.3          3.4           5.6          2.4     2.0\n",
       "2       2           7.1          3.0           5.9          2.1     2.0\n",
       "3       3           6.3          2.8           5.1          1.5     2.0\n",
       "4       4           6.3          2.9           5.6          1.8     2.0\n",
       "..    ...           ...          ...           ...          ...     ...\n",
       "95     95           5.0          3.5           1.6          0.6     0.0\n",
       "96     96           5.4          3.9           1.7          0.4     0.0\n",
       "97     97           5.1          3.4           1.5          0.2     0.0\n",
       "98     98           5.0          3.6           1.4          0.2     0.0\n",
       "99     99           5.0          3.4           1.6          0.4     NaN\n",
       "\n",
       "[100 rows x 6 columns]"
      ]
     },
     "execution_count": 5,
     "metadata": {},
     "output_type": "execute_result"
    }
   ],
   "source": [
    "gb = GradientBoostingClassifier()\n",
    "gb.fit(df_train[context_features].values, df_train[action_features].values.reshape(-1))\n",
    "\n",
    "# Use predicted features to inform Howso Engine\n",
    "\n",
    "df_test['target'] = df_test['target']\n",
    "df_test = df_test.reset_index(drop=True)\n",
    "df_test = df_test.reset_index()\n",
    "\n",
    "df_train = df_train.reset_index(drop=True)\n",
    "df_train = df_train.reset_index()\n",
    "\n",
    "df_test"
   ]
  },
  {
   "attachments": {},
   "cell_type": "markdown",
   "id": "1adc279b",
   "metadata": {},
   "source": [
    "## Step 5: Train the Howso Model\n",
    "\n",
    "The Howso model will be trained on the modified data set trained above. We leverage online learning to record explanations with each case that is trained. We make sure to use the predicted target from the non-Howso model as well as the index to diversify the ways in which we can monitor the model. The index allows us to determine whether or not the time at which a given case was trained is important for prediction, which could indicate drift, while the predicted target allows us to note disagreements between the two models."
   ]
  },
  {
   "cell_type": "code",
   "execution_count": 6,
   "id": "e11c6357",
   "metadata": {},
   "outputs": [
    {
     "name": "stdout",
     "output_type": "stream",
     "text": [
      "['index', 'sepal-length', 'sepal-width', 'petal-length', 'petal-width']\n",
      "Case 53 is anomalous.\n"
     ]
    },
    {
     "data": {
      "text/plain": [
       "index           53.0\n",
       "sepal-length     4.8\n",
       "sepal-width      3.1\n",
       "petal-length     1.6\n",
       "petal-width      0.2\n",
       "target           0.0\n",
       "pred             1.0\n",
       "Name: 53, dtype: float64"
      ]
     },
     "metadata": {},
     "output_type": "display_data"
    },
    {
     "name": "stdout",
     "output_type": "stream",
     "text": [
      "ENGINE feature importance: ['sepal-width', 'petal-length', 'petal-width']\n",
      "MODEL feature importance  : ['sepal-width', 'petal-length', 'petal-width']\n",
      "\n",
      "=====\n",
      "\n",
      "Case 54 is anomalous.\n"
     ]
    },
    {
     "data": {
      "text/plain": [
       "index           54.0\n",
       "sepal-length     5.0\n",
       "sepal-width      3.3\n",
       "petal-length     1.4\n",
       "petal-width      0.2\n",
       "target           NaN\n",
       "pred             1.0\n",
       "Name: 54, dtype: float64"
      ]
     },
     "metadata": {},
     "output_type": "display_data"
    },
    {
     "name": "stdout",
     "output_type": "stream",
     "text": [
      "ENGINE feature importance: ['sepal-width', 'petal-length', 'petal-width']\n",
      "MODEL feature importance  : ['sepal-width', 'petal-length', 'petal-width']\n",
      "\n",
      "=====\n",
      "\n",
      "Case 55 is anomalous.\n"
     ]
    },
    {
     "data": {
      "text/plain": [
       "index           55.0\n",
       "sepal-length     5.0\n",
       "sepal-width      3.0\n",
       "petal-length     1.6\n",
       "petal-width      0.2\n",
       "target           0.0\n",
       "pred             1.0\n",
       "Name: 55, dtype: float64"
      ]
     },
     "metadata": {},
     "output_type": "display_data"
    },
    {
     "name": "stdout",
     "output_type": "stream",
     "text": [
      "ENGINE feature importance: ['sepal-width', 'petal-length', 'petal-width']\n",
      "MODEL feature importance  : ['sepal-width', 'petal-length', 'petal-width']\n",
      "\n",
      "=====\n",
      "\n",
      "Case 56 is anomalous.\n"
     ]
    },
    {
     "data": {
      "text/plain": [
       "index           56.0\n",
       "sepal-length     5.5\n",
       "sepal-width      3.5\n",
       "petal-length     1.3\n",
       "petal-width      0.2\n",
       "target           NaN\n",
       "pred             1.0\n",
       "Name: 56, dtype: float64"
      ]
     },
     "metadata": {},
     "output_type": "display_data"
    },
    {
     "name": "stdout",
     "output_type": "stream",
     "text": [
      "ENGINE feature importance: ['sepal-width', 'petal-length', 'petal-width']\n",
      "MODEL feature importance  : ['sepal-width', 'petal-length', 'petal-width']\n",
      "\n",
      "=====\n",
      "\n",
      "Case 57 is anomalous.\n"
     ]
    },
    {
     "data": {
      "text/plain": [
       "index           57.0\n",
       "sepal-length     5.1\n",
       "sepal-width      3.5\n",
       "petal-length     1.4\n",
       "petal-width      0.3\n",
       "target           0.0\n",
       "pred             1.0\n",
       "Name: 57, dtype: float64"
      ]
     },
     "metadata": {},
     "output_type": "display_data"
    },
    {
     "name": "stdout",
     "output_type": "stream",
     "text": [
      "ENGINE feature importance: ['sepal-width', 'petal-length', 'petal-width']\n",
      "MODEL feature importance  : ['sepal-width', 'petal-length', 'petal-width']\n",
      "\n",
      "=====\n",
      "\n",
      "Case 58 is anomalous.\n"
     ]
    },
    {
     "data": {
      "text/plain": [
       "index           58.0\n",
       "sepal-length     5.7\n",
       "sepal-width      3.8\n",
       "petal-length     1.7\n",
       "petal-width      0.3\n",
       "target           0.0\n",
       "pred             1.0\n",
       "Name: 58, dtype: float64"
      ]
     },
     "metadata": {},
     "output_type": "display_data"
    },
    {
     "name": "stdout",
     "output_type": "stream",
     "text": [
      "ENGINE feature importance: ['sepal-width', 'petal-length', 'petal-width']\n",
      "MODEL feature importance  : ['sepal-width', 'petal-length', 'petal-width']\n",
      "\n",
      "=====\n",
      "\n",
      "Case 59 is anomalous.\n"
     ]
    },
    {
     "data": {
      "text/plain": [
       "index           59.0\n",
       "sepal-length     5.5\n",
       "sepal-width      4.2\n",
       "petal-length     1.4\n",
       "petal-width      0.2\n",
       "target           0.0\n",
       "pred             1.0\n",
       "Name: 59, dtype: float64"
      ]
     },
     "metadata": {},
     "output_type": "display_data"
    },
    {
     "name": "stdout",
     "output_type": "stream",
     "text": [
      "ENGINE feature importance: ['sepal-width', 'petal-length', 'petal-width']\n",
      "MODEL feature importance  : ['sepal-width', 'petal-length', 'petal-width']\n",
      "\n",
      "=====\n",
      "\n",
      "Case 61 is anomalous.\n"
     ]
    },
    {
     "data": {
      "text/plain": [
       "index           61.0\n",
       "sepal-length     4.9\n",
       "sepal-width      3.1\n",
       "petal-length     1.5\n",
       "petal-width      0.1\n",
       "target           NaN\n",
       "pred             1.0\n",
       "Name: 61, dtype: float64"
      ]
     },
     "metadata": {},
     "output_type": "display_data"
    },
    {
     "name": "stdout",
     "output_type": "stream",
     "text": [
      "ENGINE feature importance: ['sepal-width', 'petal-length', 'petal-width']\n",
      "MODEL feature importance  : ['sepal-width', 'petal-length', 'petal-width']\n",
      "\n",
      "=====\n",
      "\n",
      "Case 62 is anomalous.\n"
     ]
    },
    {
     "data": {
      "text/plain": [
       "index           62.0\n",
       "sepal-length     5.4\n",
       "sepal-width      3.9\n",
       "petal-length     1.3\n",
       "petal-width      0.4\n",
       "target           NaN\n",
       "pred             1.0\n",
       "Name: 62, dtype: float64"
      ]
     },
     "metadata": {},
     "output_type": "display_data"
    },
    {
     "name": "stdout",
     "output_type": "stream",
     "text": [
      "ENGINE feature importance: ['sepal-width', 'petal-length', 'petal-width']\n",
      "MODEL feature importance  : ['sepal-width', 'petal-length', 'petal-width']\n",
      "\n",
      "=====\n",
      "\n",
      "Case 67 is anomalous.\n"
     ]
    },
    {
     "data": {
      "text/plain": [
       "index           67.0\n",
       "sepal-length     4.5\n",
       "sepal-width      2.3\n",
       "petal-length     1.3\n",
       "petal-width      0.3\n",
       "target           NaN\n",
       "pred             1.0\n",
       "Name: 67, dtype: float64"
      ]
     },
     "metadata": {},
     "output_type": "display_data"
    },
    {
     "name": "stdout",
     "output_type": "stream",
     "text": [
      "ENGINE feature importance: ['sepal-width', 'petal-length', 'petal-width']\n",
      "MODEL feature importance  : ['sepal-width', 'petal-length', 'petal-width']\n",
      "\n",
      "=====\n",
      "\n",
      "Case 70 is anomalous.\n"
     ]
    },
    {
     "data": {
      "text/plain": [
       "index           70.0\n",
       "sepal-length     4.6\n",
       "sepal-width      3.6\n",
       "petal-length     1.0\n",
       "petal-width      0.2\n",
       "target           NaN\n",
       "pred             1.0\n",
       "Name: 70, dtype: float64"
      ]
     },
     "metadata": {},
     "output_type": "display_data"
    },
    {
     "name": "stdout",
     "output_type": "stream",
     "text": [
      "ENGINE feature importance: ['sepal-width', 'petal-length', 'petal-width']\n",
      "MODEL feature importance  : ['sepal-width', 'petal-length', 'petal-width']\n",
      "\n",
      "=====\n",
      "\n",
      "Case 80 is anomalous.\n"
     ]
    },
    {
     "data": {
      "text/plain": [
       "index           80.0\n",
       "sepal-length     5.2\n",
       "sepal-width      3.4\n",
       "petal-length     1.4\n",
       "petal-width      0.2\n",
       "target           NaN\n",
       "pred             1.0\n",
       "Name: 80, dtype: float64"
      ]
     },
     "metadata": {},
     "output_type": "display_data"
    },
    {
     "name": "stdout",
     "output_type": "stream",
     "text": [
      "ENGINE feature importance: ['sepal-width', 'petal-length', 'petal-width']\n",
      "MODEL feature importance  : ['sepal-width', 'petal-length', 'petal-width']\n",
      "\n",
      "=====\n",
      "\n",
      "Case 92 is anomalous.\n"
     ]
    },
    {
     "data": {
      "text/plain": [
       "index           92.0\n",
       "sepal-length     4.8\n",
       "sepal-width      3.4\n",
       "petal-length     1.6\n",
       "petal-width      0.2\n",
       "target           NaN\n",
       "pred             1.0\n",
       "Name: 92, dtype: float64"
      ]
     },
     "metadata": {},
     "output_type": "display_data"
    },
    {
     "name": "stdout",
     "output_type": "stream",
     "text": [
      "ENGINE feature importance: ['sepal-width', 'petal-length', 'petal-width']\n",
      "MODEL feature importance  : ['sepal-width', 'petal-length', 'petal-width']\n",
      "\n",
      "=====\n",
      "\n",
      "Case 93 is anomalous.\n"
     ]
    },
    {
     "data": {
      "text/plain": [
       "index           93.0\n",
       "sepal-length     4.6\n",
       "sepal-width      3.2\n",
       "petal-length     1.4\n",
       "petal-width      0.2\n",
       "target           NaN\n",
       "pred             1.0\n",
       "Name: 93, dtype: float64"
      ]
     },
     "metadata": {},
     "output_type": "display_data"
    },
    {
     "name": "stdout",
     "output_type": "stream",
     "text": [
      "ENGINE feature importance: ['sepal-width', 'petal-length', 'petal-width']\n",
      "MODEL feature importance  : ['sepal-width', 'petal-length', 'petal-width']\n",
      "\n",
      "=====\n",
      "\n",
      "Case 99 is anomalous.\n"
     ]
    },
    {
     "data": {
      "text/plain": [
       "index           99.0\n",
       "sepal-length     5.0\n",
       "sepal-width      3.4\n",
       "petal-length     1.6\n",
       "petal-width      0.4\n",
       "target           NaN\n",
       "pred             1.0\n",
       "Name: 99, dtype: float64"
      ]
     },
     "metadata": {},
     "output_type": "display_data"
    },
    {
     "name": "stdout",
     "output_type": "stream",
     "text": [
      "ENGINE feature importance: ['sepal-width', 'petal-length', 'petal-width']\n",
      "MODEL feature importance  : ['sepal-width', 'petal-length', 'petal-width']\n",
      "\n",
      "=====\n",
      "\n"
     ]
    }
   ],
   "source": [
    "# Create and train REACTOR\n",
    "mismatch_counts = []\n",
    "\n",
    "features = infer_feature_attributes(df_test)\n",
    "new_context_features = None\n",
    "\n",
    "familiarity_conviction_dp = []\n",
    "familiarity_conviction_gb = []\n",
    "mda_interpret = []\n",
    "mda_explain = []\n",
    "\n",
    "# Create trainee and turn on auto-analyze\n",
    "t = engine.Trainee(\"Engine - Drift Monitoring Recipe\", features, overwrite_existing=True)\n",
    "t.train(df_train)\n",
    "t.analyze()\n",
    "t.set_auto_analyze_params(analyze_threshold=1, auto_analyze_enabled=True)\n",
    "for idx, case in df_test.iterrows():\n",
    "    # Define which details we want from the Howso model\n",
    "    details = {\n",
    "        'feature_mda': True\n",
    "    }\n",
    "    \n",
    "    # Predict using the gradient booster\n",
    "    pred_gb = gb.predict(case[context_features].values.reshape(1, -1))[0]\n",
    "    gb_case = case.copy()\n",
    "    gb_case.target = pred_gb\n",
    "    \n",
    "    # Define the updates context features\n",
    "    if new_context_features is None:\n",
    "        new_context_features = [col for col in case.index if col not in action_features]\n",
    "        print(new_context_features)\n",
    "        \n",
    "    # React on the new case\n",
    "    result = t.react(case[new_context_features].values.reshape(1, -1),\n",
    "                     action_features=action_features,\n",
    "                     context_features=new_context_features,\n",
    "                     details=details)\n",
    "    action = result['action']\n",
    "    explanation = result['explanation']\n",
    "    \n",
    "    # Train on the new case\n",
    "    t.train([case.values.tolist()], features=df_test.columns.tolist())\n",
    "    \n",
    "    # Store the Howso prediction\n",
    "    pred_dp = action.iloc[0, 0]\n",
    "    \n",
    "    # Compute familiarity conviction for case\n",
    "    f_conv = t.react_group(new_cases=[[case.values.tolist()], [gb_case.values.tolist()]], features=df_test.columns.tolist())\n",
    "    f_conv_dp = f_conv['familiarity_conviction_addition'].iloc[0]\n",
    "    f_conv_gb = f_conv['familiarity_conviction_addition'].iloc[1]\n",
    "    familiarity_conviction_dp.append(f_conv_dp)\n",
    "    familiarity_conviction_gb.append(f_conv_gb)\n",
    "    \n",
    "    if pred_dp != pred_gb:\n",
    "        mismatch_counts.append(1)\n",
    "    else:\n",
    "        mismatch_counts.append(0)\n",
    "        \n",
    "    if pred_dp != pred_gb and f_conv_dp < 0.5 * np.mean(familiarity_conviction_dp) and idx > 30:\n",
    "        print(f\"Case {idx} is anomalous.\")\n",
    "        case['pred'] = pred_gb\n",
    "        display(case)\n",
    "        dp_importances = [val for key, val in explanation['feature_mda'][0].items() if key in context_features]\n",
    "        gb_importances = gb.feature_importances_.tolist()\n",
    "        print(f\"ENGINE feature importance: {[context_features[i] for i in np.argpartition(dp_importances, -3)[-3:]]}\")\n",
    "        print(f\"MODEL feature importance  : {[context_features[i] for i in np.argpartition(gb_importances, -3)[-3:]]}\")\n",
    "        print(\"\\n=====\\n\")\n",
    "        \n",
    "    # Get interpret MDA\n",
    "    details = {\n",
    "        'robust_computation': True,\n",
    "        'feature_mda_ex_post': True\n",
    "    }\n",
    "    result = t.react(case[new_context_features].values.reshape(1, -1), \n",
    "                     actions=[[case.target]],\n",
    "                     action_features=action_features,\n",
    "                     context_features=new_context_features,\n",
    "                     details=details)\n",
    "    action = result['action']\n",
    "    explanation = result['explanation']\n",
    "    mda_interpret.append(explanation['feature_mda_ex_post'][0])\n",
    "    \n",
    "    # Get explain MDA\n",
    "    result = t.react(case[new_context_features].values.reshape(1, -1), \n",
    "                     actions=[[gb_case.target]],\n",
    "                     action_features=action_features,\n",
    "                     context_features=new_context_features,\n",
    "                     details=details)\n",
    "    action = result['action']\n",
    "    explanation = result['explanation']\n",
    "    mda_explain.append(explanation['feature_mda_ex_post'][0])"
   ]
  },
  {
   "attachments": {},
   "cell_type": "markdown",
   "id": "a997c787",
   "metadata": {},
   "source": [
    "## Step 6: \"Deploy\" the non-Howso Model\n",
    "\n",
    "We iterate through the test set, getting predictions from both the non-Howso and Howso model. Explanations are recorded at each step, and anomalous cases are brought to the forefront including feature importance and predictions. The Howso model learns from this information as each new case is predicted. The non-Howso model is not updated online."
   ]
  },
  {
   "attachments": {},
   "cell_type": "markdown",
   "id": "84efcdfc",
   "metadata": {},
   "source": [
    "## The beginning of model drift is made very clear by the drop in familiarity conviction.\n",
    "\n",
    "This demo was created in such a way to make the effects of drift very obvious. It may be more subtle with a real-world model."
   ]
  },
  {
   "cell_type": "code",
   "execution_count": 7,
   "id": "db6fddae",
   "metadata": {},
   "outputs": [
    {
     "data": {
      "application/vnd.plotly.v1+json": {
       "config": {
        "plotlyServerURL": "https://plot.ly"
       },
       "data": [
        {
         "name": "Familiarity Conviction (DP)",
         "type": "scattergl",
         "x": [
          0,
          1,
          2,
          3,
          4,
          5,
          6,
          7,
          8,
          9,
          10,
          11,
          12,
          13,
          14,
          15,
          16,
          17,
          18,
          19,
          20,
          21,
          22,
          23,
          24,
          25,
          26,
          27,
          28,
          29,
          30,
          31,
          32,
          33,
          34,
          35,
          36,
          37,
          38,
          39,
          40,
          41,
          42,
          43,
          44,
          45,
          46,
          47,
          48,
          49,
          50,
          51,
          52,
          53,
          54,
          55,
          56,
          57,
          58,
          59,
          60,
          61,
          62,
          63,
          64,
          65,
          66,
          67,
          68,
          69,
          70,
          71,
          72,
          73,
          74,
          75,
          76,
          77,
          78,
          79,
          80,
          81,
          82,
          83,
          84,
          85,
          86,
          87,
          88,
          89,
          90,
          91,
          92,
          93,
          94,
          95,
          96,
          97,
          98,
          99
         ],
         "y": [
          0,
          0,
          0,
          0,
          0,
          0,
          0,
          0,
          0,
          2.825526023797205,
          2.7819159417652477,
          2.4364692350981487,
          2.2558008229448836,
          2.762387638171234,
          2.733632667359786,
          3.047548099265691,
          2.9845758995337386,
          2.6554167360394385,
          2.751245456386513,
          2.0391447784619037,
          2.0079659054878474,
          2.3023422314587747,
          2.36463606156413,
          1.743939267817776,
          2.085641688405441,
          1.8442716264823176,
          2.290578195811113,
          2.5438387167820924,
          2.502035932475866,
          2.6502904671668412,
          2.692052629169065,
          2.40199349053177,
          2.5946005729637567,
          2.5633466273138117,
          2.3577071626553443,
          2.3447593988565285,
          2.1307399739860986,
          2.0392350489136204,
          1.9707053642430021,
          2.0590058863818994,
          2.51561638301353,
          2.592793979775561,
          2.518144294807419,
          2.5234417196140986,
          2.6366849639199383,
          2.6139191678194815,
          2.573065405547254,
          2.9199049524567022,
          2.9335208893855587,
          3.2652915581711506,
          2.67079945533269,
          2.5715493257297104,
          2.297773981101032,
          2.1690570412432892,
          1.843740389021286,
          1.7586931121932285,
          1.4366044726937333,
          0.9047654931370861,
          0.8266000193340064,
          0.17217610407860687,
          0.5394621712681968,
          0.5397013316139926,
          0.5395105328992644,
          0.8219652480012798,
          1.2789260033096215,
          1.7750572383107035,
          2.0678312076696894,
          2.035515021526931,
          2.350683312498863,
          4.098517604490212,
          3.7361657168602598,
          4.10759424405333,
          4.471785058105466,
          4.793612490629117,
          4.751673088348814,
          4.6069014142084574,
          4.863453615914195,
          5.140650212535732,
          6.414406827428425,
          4.909790177429603,
          4.910855399663456,
          4.836330845576989,
          4.828566058578845,
          4.6147136902344394,
          4.684084766464629,
          5.105820454596694,
          6.789384156721636,
          6.776526723605656,
          6.0612182382200075,
          6.096438399708312,
          6.5682448185515145,
          6.880676027711823,
          6.526767374317684,
          6.135081715549727,
          5.937465906598626,
          6.312106615983433,
          4.999621246120659,
          5.202612481431831,
          4.699663024334663,
          4.387866301781629
         ]
        },
        {
         "name": "Familiarity Conviction (GB)",
         "type": "scattergl",
         "x": [
          0,
          1,
          2,
          3,
          4,
          5,
          6,
          7,
          8,
          9,
          10,
          11,
          12,
          13,
          14,
          15,
          16,
          17,
          18,
          19,
          20,
          21,
          22,
          23,
          24,
          25,
          26,
          27,
          28,
          29,
          30,
          31,
          32,
          33,
          34,
          35,
          36,
          37,
          38,
          39,
          40,
          41,
          42,
          43,
          44,
          45,
          46,
          47,
          48,
          49,
          50,
          51,
          52,
          53,
          54,
          55,
          56,
          57,
          58,
          59,
          60,
          61,
          62,
          63,
          64,
          65,
          66,
          67,
          68,
          69,
          70,
          71,
          72,
          73,
          74,
          75,
          76,
          77,
          78,
          79,
          80,
          81,
          82,
          83,
          84,
          85,
          86,
          87,
          88,
          89,
          90,
          91,
          92,
          93,
          94,
          95,
          96,
          97,
          98,
          99
         ],
         "y": [
          0,
          0,
          0,
          0,
          0,
          0,
          0,
          0,
          0,
          3.6173252264339597,
          3.5737151444020023,
          3.228268437734903,
          3.0476000255816382,
          2.7623876381712344,
          2.733632667359786,
          3.0475480992656916,
          2.9845758995337395,
          2.6554167360394385,
          2.7512454563865134,
          2.0391447784619037,
          2.0079659054878474,
          2.302342231458775,
          2.36463606156413,
          1.7439392678177765,
          3.716853579646542,
          3.4754835177234185,
          3.9217900870522144,
          4.175050608023193,
          4.133247823716967,
          4.281502358407942,
          4.3232645204101665,
          4.03320538177287,
          4.225812464204858,
          4.194558518554912,
          2.3577071626553447,
          2.344759398856529,
          2.130739973986099,
          2.039235048913621,
          1.9707053642430026,
          2.0590058863818994,
          2.5156163830135307,
          2.5927939797755615,
          2.5181442948074193,
          2.523441719614099,
          2.636684963919939,
          2.613919167819482,
          2.5730654055472546,
          2.9199049524567027,
          2.933520889385559,
          2.7686271251344143,
          2.1748312249421393,
          2.0761045060414105,
          1.8017394497967871,
          1.6710008700206178,
          1.3551452138637798,
          1.2624242168437434,
          0.9503741079814156,
          0.4008430831179699,
          0.29718383908270407,
          0.1095805809828484,
          0.13031996115579036,
          0.16045881086754918,
          0.18960932000404387,
          0.23659026964411423,
          0.2741076199035076,
          0.3076382579826741,
          0.35450607086166175,
          0.34961748714324553,
          0.4179254382623984,
          0.453971847779168,
          0.48536524922795393,
          0.5415873133929325,
          0.5986564529467199,
          0.617199229585813,
          0.651112556747771,
          0.6896504710054778,
          0.7043816521951884,
          0.7884501905050356,
          0.758512793859045,
          0.8062060498143027,
          0.847452985658005,
          0.8590278875777095,
          0.8613965904647978,
          0.8761859320314317,
          0.8721029335900574,
          0.8532008794952979,
          0.8279353225315568,
          0.8320061513391366,
          0.8139140129121349,
          0.8096056669250862,
          0.7909170431267805,
          0.7588217283164587,
          0.7505388836229658,
          0.7697669492548113,
          0.8056641748712112,
          0.8045031338120484,
          0.825441175478242,
          0.8133277156442487,
          0.8724378539377143,
          0.880258051315488
         ]
        }
       ],
       "layout": {
        "shapes": [
         {
          "line": {
           "color": "black"
          },
          "type": "line",
          "x0": 30,
          "x1": 30,
          "xref": "x",
          "y0": 0,
          "y1": 1,
          "yref": "y domain"
         },
         {
          "line": {
           "color": "black"
          },
          "type": "line",
          "x0": 50,
          "x1": 50,
          "xref": "x",
          "y0": 0,
          "y1": 1,
          "yref": "y domain"
         }
        ],
        "template": {
         "data": {
          "bar": [
           {
            "error_x": {
             "color": "#2a3f5f"
            },
            "error_y": {
             "color": "#2a3f5f"
            },
            "marker": {
             "line": {
              "color": "#E5ECF6",
              "width": 0.5
             },
             "pattern": {
              "fillmode": "overlay",
              "size": 10,
              "solidity": 0.2
             }
            },
            "type": "bar"
           }
          ],
          "barpolar": [
           {
            "marker": {
             "line": {
              "color": "#E5ECF6",
              "width": 0.5
             },
             "pattern": {
              "fillmode": "overlay",
              "size": 10,
              "solidity": 0.2
             }
            },
            "type": "barpolar"
           }
          ],
          "carpet": [
           {
            "aaxis": {
             "endlinecolor": "#2a3f5f",
             "gridcolor": "white",
             "linecolor": "white",
             "minorgridcolor": "white",
             "startlinecolor": "#2a3f5f"
            },
            "baxis": {
             "endlinecolor": "#2a3f5f",
             "gridcolor": "white",
             "linecolor": "white",
             "minorgridcolor": "white",
             "startlinecolor": "#2a3f5f"
            },
            "type": "carpet"
           }
          ],
          "choropleth": [
           {
            "colorbar": {
             "outlinewidth": 0,
             "ticks": ""
            },
            "type": "choropleth"
           }
          ],
          "contour": [
           {
            "colorbar": {
             "outlinewidth": 0,
             "ticks": ""
            },
            "colorscale": [
             [
              0,
              "#0d0887"
             ],
             [
              0.1111111111111111,
              "#46039f"
             ],
             [
              0.2222222222222222,
              "#7201a8"
             ],
             [
              0.3333333333333333,
              "#9c179e"
             ],
             [
              0.4444444444444444,
              "#bd3786"
             ],
             [
              0.5555555555555556,
              "#d8576b"
             ],
             [
              0.6666666666666666,
              "#ed7953"
             ],
             [
              0.7777777777777778,
              "#fb9f3a"
             ],
             [
              0.8888888888888888,
              "#fdca26"
             ],
             [
              1,
              "#f0f921"
             ]
            ],
            "type": "contour"
           }
          ],
          "contourcarpet": [
           {
            "colorbar": {
             "outlinewidth": 0,
             "ticks": ""
            },
            "type": "contourcarpet"
           }
          ],
          "heatmap": [
           {
            "colorbar": {
             "outlinewidth": 0,
             "ticks": ""
            },
            "colorscale": [
             [
              0,
              "#0d0887"
             ],
             [
              0.1111111111111111,
              "#46039f"
             ],
             [
              0.2222222222222222,
              "#7201a8"
             ],
             [
              0.3333333333333333,
              "#9c179e"
             ],
             [
              0.4444444444444444,
              "#bd3786"
             ],
             [
              0.5555555555555556,
              "#d8576b"
             ],
             [
              0.6666666666666666,
              "#ed7953"
             ],
             [
              0.7777777777777778,
              "#fb9f3a"
             ],
             [
              0.8888888888888888,
              "#fdca26"
             ],
             [
              1,
              "#f0f921"
             ]
            ],
            "type": "heatmap"
           }
          ],
          "heatmapgl": [
           {
            "colorbar": {
             "outlinewidth": 0,
             "ticks": ""
            },
            "colorscale": [
             [
              0,
              "#0d0887"
             ],
             [
              0.1111111111111111,
              "#46039f"
             ],
             [
              0.2222222222222222,
              "#7201a8"
             ],
             [
              0.3333333333333333,
              "#9c179e"
             ],
             [
              0.4444444444444444,
              "#bd3786"
             ],
             [
              0.5555555555555556,
              "#d8576b"
             ],
             [
              0.6666666666666666,
              "#ed7953"
             ],
             [
              0.7777777777777778,
              "#fb9f3a"
             ],
             [
              0.8888888888888888,
              "#fdca26"
             ],
             [
              1,
              "#f0f921"
             ]
            ],
            "type": "heatmapgl"
           }
          ],
          "histogram": [
           {
            "marker": {
             "pattern": {
              "fillmode": "overlay",
              "size": 10,
              "solidity": 0.2
             }
            },
            "type": "histogram"
           }
          ],
          "histogram2d": [
           {
            "colorbar": {
             "outlinewidth": 0,
             "ticks": ""
            },
            "colorscale": [
             [
              0,
              "#0d0887"
             ],
             [
              0.1111111111111111,
              "#46039f"
             ],
             [
              0.2222222222222222,
              "#7201a8"
             ],
             [
              0.3333333333333333,
              "#9c179e"
             ],
             [
              0.4444444444444444,
              "#bd3786"
             ],
             [
              0.5555555555555556,
              "#d8576b"
             ],
             [
              0.6666666666666666,
              "#ed7953"
             ],
             [
              0.7777777777777778,
              "#fb9f3a"
             ],
             [
              0.8888888888888888,
              "#fdca26"
             ],
             [
              1,
              "#f0f921"
             ]
            ],
            "type": "histogram2d"
           }
          ],
          "histogram2dcontour": [
           {
            "colorbar": {
             "outlinewidth": 0,
             "ticks": ""
            },
            "colorscale": [
             [
              0,
              "#0d0887"
             ],
             [
              0.1111111111111111,
              "#46039f"
             ],
             [
              0.2222222222222222,
              "#7201a8"
             ],
             [
              0.3333333333333333,
              "#9c179e"
             ],
             [
              0.4444444444444444,
              "#bd3786"
             ],
             [
              0.5555555555555556,
              "#d8576b"
             ],
             [
              0.6666666666666666,
              "#ed7953"
             ],
             [
              0.7777777777777778,
              "#fb9f3a"
             ],
             [
              0.8888888888888888,
              "#fdca26"
             ],
             [
              1,
              "#f0f921"
             ]
            ],
            "type": "histogram2dcontour"
           }
          ],
          "mesh3d": [
           {
            "colorbar": {
             "outlinewidth": 0,
             "ticks": ""
            },
            "type": "mesh3d"
           }
          ],
          "parcoords": [
           {
            "line": {
             "colorbar": {
              "outlinewidth": 0,
              "ticks": ""
             }
            },
            "type": "parcoords"
           }
          ],
          "pie": [
           {
            "automargin": true,
            "type": "pie"
           }
          ],
          "scatter": [
           {
            "fillpattern": {
             "fillmode": "overlay",
             "size": 10,
             "solidity": 0.2
            },
            "type": "scatter"
           }
          ],
          "scatter3d": [
           {
            "line": {
             "colorbar": {
              "outlinewidth": 0,
              "ticks": ""
             }
            },
            "marker": {
             "colorbar": {
              "outlinewidth": 0,
              "ticks": ""
             }
            },
            "type": "scatter3d"
           }
          ],
          "scattercarpet": [
           {
            "marker": {
             "colorbar": {
              "outlinewidth": 0,
              "ticks": ""
             }
            },
            "type": "scattercarpet"
           }
          ],
          "scattergeo": [
           {
            "marker": {
             "colorbar": {
              "outlinewidth": 0,
              "ticks": ""
             }
            },
            "type": "scattergeo"
           }
          ],
          "scattergl": [
           {
            "marker": {
             "colorbar": {
              "outlinewidth": 0,
              "ticks": ""
             }
            },
            "type": "scattergl"
           }
          ],
          "scattermapbox": [
           {
            "marker": {
             "colorbar": {
              "outlinewidth": 0,
              "ticks": ""
             }
            },
            "type": "scattermapbox"
           }
          ],
          "scatterpolar": [
           {
            "marker": {
             "colorbar": {
              "outlinewidth": 0,
              "ticks": ""
             }
            },
            "type": "scatterpolar"
           }
          ],
          "scatterpolargl": [
           {
            "marker": {
             "colorbar": {
              "outlinewidth": 0,
              "ticks": ""
             }
            },
            "type": "scatterpolargl"
           }
          ],
          "scatterternary": [
           {
            "marker": {
             "colorbar": {
              "outlinewidth": 0,
              "ticks": ""
             }
            },
            "type": "scatterternary"
           }
          ],
          "surface": [
           {
            "colorbar": {
             "outlinewidth": 0,
             "ticks": ""
            },
            "colorscale": [
             [
              0,
              "#0d0887"
             ],
             [
              0.1111111111111111,
              "#46039f"
             ],
             [
              0.2222222222222222,
              "#7201a8"
             ],
             [
              0.3333333333333333,
              "#9c179e"
             ],
             [
              0.4444444444444444,
              "#bd3786"
             ],
             [
              0.5555555555555556,
              "#d8576b"
             ],
             [
              0.6666666666666666,
              "#ed7953"
             ],
             [
              0.7777777777777778,
              "#fb9f3a"
             ],
             [
              0.8888888888888888,
              "#fdca26"
             ],
             [
              1,
              "#f0f921"
             ]
            ],
            "type": "surface"
           }
          ],
          "table": [
           {
            "cells": {
             "fill": {
              "color": "#EBF0F8"
             },
             "line": {
              "color": "white"
             }
            },
            "header": {
             "fill": {
              "color": "#C8D4E3"
             },
             "line": {
              "color": "white"
             }
            },
            "type": "table"
           }
          ]
         },
         "layout": {
          "annotationdefaults": {
           "arrowcolor": "#2a3f5f",
           "arrowhead": 0,
           "arrowwidth": 1
          },
          "autotypenumbers": "strict",
          "coloraxis": {
           "colorbar": {
            "outlinewidth": 0,
            "ticks": ""
           }
          },
          "colorscale": {
           "diverging": [
            [
             0,
             "#8e0152"
            ],
            [
             0.1,
             "#c51b7d"
            ],
            [
             0.2,
             "#de77ae"
            ],
            [
             0.3,
             "#f1b6da"
            ],
            [
             0.4,
             "#fde0ef"
            ],
            [
             0.5,
             "#f7f7f7"
            ],
            [
             0.6,
             "#e6f5d0"
            ],
            [
             0.7,
             "#b8e186"
            ],
            [
             0.8,
             "#7fbc41"
            ],
            [
             0.9,
             "#4d9221"
            ],
            [
             1,
             "#276419"
            ]
           ],
           "sequential": [
            [
             0,
             "#0d0887"
            ],
            [
             0.1111111111111111,
             "#46039f"
            ],
            [
             0.2222222222222222,
             "#7201a8"
            ],
            [
             0.3333333333333333,
             "#9c179e"
            ],
            [
             0.4444444444444444,
             "#bd3786"
            ],
            [
             0.5555555555555556,
             "#d8576b"
            ],
            [
             0.6666666666666666,
             "#ed7953"
            ],
            [
             0.7777777777777778,
             "#fb9f3a"
            ],
            [
             0.8888888888888888,
             "#fdca26"
            ],
            [
             1,
             "#f0f921"
            ]
           ],
           "sequentialminus": [
            [
             0,
             "#0d0887"
            ],
            [
             0.1111111111111111,
             "#46039f"
            ],
            [
             0.2222222222222222,
             "#7201a8"
            ],
            [
             0.3333333333333333,
             "#9c179e"
            ],
            [
             0.4444444444444444,
             "#bd3786"
            ],
            [
             0.5555555555555556,
             "#d8576b"
            ],
            [
             0.6666666666666666,
             "#ed7953"
            ],
            [
             0.7777777777777778,
             "#fb9f3a"
            ],
            [
             0.8888888888888888,
             "#fdca26"
            ],
            [
             1,
             "#f0f921"
            ]
           ]
          },
          "colorway": [
           "#636efa",
           "#EF553B",
           "#00cc96",
           "#ab63fa",
           "#FFA15A",
           "#19d3f3",
           "#FF6692",
           "#B6E880",
           "#FF97FF",
           "#FECB52"
          ],
          "font": {
           "color": "#2a3f5f"
          },
          "geo": {
           "bgcolor": "white",
           "lakecolor": "white",
           "landcolor": "#E5ECF6",
           "showlakes": true,
           "showland": true,
           "subunitcolor": "white"
          },
          "hoverlabel": {
           "align": "left"
          },
          "hovermode": "closest",
          "mapbox": {
           "style": "light"
          },
          "paper_bgcolor": "white",
          "plot_bgcolor": "#E5ECF6",
          "polar": {
           "angularaxis": {
            "gridcolor": "white",
            "linecolor": "white",
            "ticks": ""
           },
           "bgcolor": "#E5ECF6",
           "radialaxis": {
            "gridcolor": "white",
            "linecolor": "white",
            "ticks": ""
           }
          },
          "scene": {
           "xaxis": {
            "backgroundcolor": "#E5ECF6",
            "gridcolor": "white",
            "gridwidth": 2,
            "linecolor": "white",
            "showbackground": true,
            "ticks": "",
            "zerolinecolor": "white"
           },
           "yaxis": {
            "backgroundcolor": "#E5ECF6",
            "gridcolor": "white",
            "gridwidth": 2,
            "linecolor": "white",
            "showbackground": true,
            "ticks": "",
            "zerolinecolor": "white"
           },
           "zaxis": {
            "backgroundcolor": "#E5ECF6",
            "gridcolor": "white",
            "gridwidth": 2,
            "linecolor": "white",
            "showbackground": true,
            "ticks": "",
            "zerolinecolor": "white"
           }
          },
          "shapedefaults": {
           "line": {
            "color": "#2a3f5f"
           }
          },
          "ternary": {
           "aaxis": {
            "gridcolor": "white",
            "linecolor": "white",
            "ticks": ""
           },
           "baxis": {
            "gridcolor": "white",
            "linecolor": "white",
            "ticks": ""
           },
           "bgcolor": "#E5ECF6",
           "caxis": {
            "gridcolor": "white",
            "linecolor": "white",
            "ticks": ""
           }
          },
          "title": {
           "x": 0.05
          },
          "xaxis": {
           "automargin": true,
           "gridcolor": "white",
           "linecolor": "white",
           "ticks": "",
           "title": {
            "standoff": 15
           },
           "zerolinecolor": "white",
           "zerolinewidth": 2
          },
          "yaxis": {
           "automargin": true,
           "gridcolor": "white",
           "linecolor": "white",
           "ticks": "",
           "title": {
            "standoff": 15
           },
           "zerolinecolor": "white",
           "zerolinewidth": 2
          }
         }
        },
        "title": {
         "text": "Model Drift — Conviction Over Time"
        },
        "xaxis": {
         "anchor": "y",
         "domain": [
          0,
          1
         ],
         "title": {
          "text": "Case Index"
         }
        },
        "yaxis": {
         "anchor": "x",
         "domain": [
          0,
          1
         ],
         "title": {
          "text": "Conviction"
         }
        }
       }
      }
     },
     "metadata": {},
     "output_type": "display_data"
    }
   ],
   "source": [
    "f_conv_df = pd.DataFrame(familiarity_conviction_dp, columns=[\"Familiarity Conviction (DP)\"])\n",
    "f_conv_df[\"Familiarity Conviction (GB)\"] = familiarity_conviction_gb\n",
    "\n",
    "plot_drift(f_conv_df, line_positions=[30, len(df_test_no_drift)])"
   ]
  },
  {
   "cell_type": "code",
   "execution_count": 8,
   "id": "32e087b0-7897-4424-bf86-973564345539",
   "metadata": {},
   "outputs": [],
   "source": [
    "# calculate delta conviction between Howso vs. GB model\n",
    "conv_delta = f_conv_df['Familiarity Conviction (DP)'] - f_conv_df['Familiarity Conviction (GB)']\n",
    "\n",
    "# calculate average delta for the latter portion of the data (after drift occurred)\n",
    "avg_delta = conv_delta[int(len(conv_delta) * 2 / 3):len(conv_delta)].mean()"
   ]
  },
  {
   "attachments": {},
   "cell_type": "markdown",
   "id": "a62b9819",
   "metadata": {},
   "source": [
    "## We can also count the number of times the models disagree with each other"
   ]
  },
  {
   "cell_type": "code",
   "execution_count": 9,
   "id": "d759e54d",
   "metadata": {},
   "outputs": [
    {
     "data": {
      "application/vnd.plotly.v1+json": {
       "config": {
        "plotlyServerURL": "https://plot.ly"
       },
       "data": [
        {
         "name": "Prediction Deviation",
         "type": "scattergl",
         "x": [
          0,
          1,
          2,
          3,
          4,
          5,
          6,
          7,
          8,
          9,
          10,
          11,
          12,
          13,
          14,
          15,
          16,
          17,
          18,
          19,
          20,
          21,
          22,
          23,
          24,
          25,
          26,
          27,
          28,
          29,
          30,
          31,
          32,
          33,
          34,
          35,
          36,
          37,
          38,
          39,
          40,
          41,
          42,
          43,
          44,
          45,
          46,
          47,
          48,
          49,
          50,
          51,
          52,
          53,
          54,
          55,
          56,
          57,
          58,
          59,
          60,
          61,
          62,
          63,
          64,
          65,
          66,
          67,
          68,
          69,
          70,
          71,
          72,
          73,
          74,
          75,
          76,
          77,
          78,
          79,
          80,
          81,
          82,
          83,
          84,
          85,
          86,
          87,
          88,
          89,
          90,
          91,
          92,
          93,
          94,
          95,
          96,
          97,
          98,
          99
         ],
         "y": [
          0,
          0,
          0,
          0,
          0.2,
          0.2,
          0.2,
          0.2,
          0,
          0,
          0,
          0,
          0,
          0,
          0,
          0,
          0,
          0.2,
          0.2,
          0.2,
          0.2,
          0.2,
          0,
          0,
          0,
          0,
          0,
          0,
          0,
          0,
          0,
          0,
          0,
          0,
          0,
          0,
          0,
          0,
          0,
          0,
          0,
          0,
          0,
          0,
          0,
          0,
          0,
          0,
          0,
          0.2,
          0.2,
          0.2,
          0.2,
          0.4,
          0.4,
          0.6,
          0.8,
          1,
          1,
          1,
          1,
          1,
          1,
          1,
          1,
          1,
          1,
          1,
          1,
          1,
          1,
          1,
          1,
          1,
          1,
          1,
          1,
          1,
          1,
          1,
          1,
          1,
          1,
          1,
          1,
          1,
          1,
          1,
          1,
          1,
          1,
          1,
          1,
          1,
          1,
          1,
          1,
          1,
          1,
          1
         ]
        }
       ],
       "layout": {
        "shapes": [
         {
          "line": {
           "color": "black"
          },
          "type": "line",
          "x0": 30,
          "x1": 30,
          "xref": "x",
          "y0": 0,
          "y1": 1,
          "yref": "y domain"
         },
         {
          "line": {
           "color": "black"
          },
          "type": "line",
          "x0": 50,
          "x1": 50,
          "xref": "x",
          "y0": 0,
          "y1": 1,
          "yref": "y domain"
         }
        ],
        "template": {
         "data": {
          "bar": [
           {
            "error_x": {
             "color": "#2a3f5f"
            },
            "error_y": {
             "color": "#2a3f5f"
            },
            "marker": {
             "line": {
              "color": "#E5ECF6",
              "width": 0.5
             },
             "pattern": {
              "fillmode": "overlay",
              "size": 10,
              "solidity": 0.2
             }
            },
            "type": "bar"
           }
          ],
          "barpolar": [
           {
            "marker": {
             "line": {
              "color": "#E5ECF6",
              "width": 0.5
             },
             "pattern": {
              "fillmode": "overlay",
              "size": 10,
              "solidity": 0.2
             }
            },
            "type": "barpolar"
           }
          ],
          "carpet": [
           {
            "aaxis": {
             "endlinecolor": "#2a3f5f",
             "gridcolor": "white",
             "linecolor": "white",
             "minorgridcolor": "white",
             "startlinecolor": "#2a3f5f"
            },
            "baxis": {
             "endlinecolor": "#2a3f5f",
             "gridcolor": "white",
             "linecolor": "white",
             "minorgridcolor": "white",
             "startlinecolor": "#2a3f5f"
            },
            "type": "carpet"
           }
          ],
          "choropleth": [
           {
            "colorbar": {
             "outlinewidth": 0,
             "ticks": ""
            },
            "type": "choropleth"
           }
          ],
          "contour": [
           {
            "colorbar": {
             "outlinewidth": 0,
             "ticks": ""
            },
            "colorscale": [
             [
              0,
              "#0d0887"
             ],
             [
              0.1111111111111111,
              "#46039f"
             ],
             [
              0.2222222222222222,
              "#7201a8"
             ],
             [
              0.3333333333333333,
              "#9c179e"
             ],
             [
              0.4444444444444444,
              "#bd3786"
             ],
             [
              0.5555555555555556,
              "#d8576b"
             ],
             [
              0.6666666666666666,
              "#ed7953"
             ],
             [
              0.7777777777777778,
              "#fb9f3a"
             ],
             [
              0.8888888888888888,
              "#fdca26"
             ],
             [
              1,
              "#f0f921"
             ]
            ],
            "type": "contour"
           }
          ],
          "contourcarpet": [
           {
            "colorbar": {
             "outlinewidth": 0,
             "ticks": ""
            },
            "type": "contourcarpet"
           }
          ],
          "heatmap": [
           {
            "colorbar": {
             "outlinewidth": 0,
             "ticks": ""
            },
            "colorscale": [
             [
              0,
              "#0d0887"
             ],
             [
              0.1111111111111111,
              "#46039f"
             ],
             [
              0.2222222222222222,
              "#7201a8"
             ],
             [
              0.3333333333333333,
              "#9c179e"
             ],
             [
              0.4444444444444444,
              "#bd3786"
             ],
             [
              0.5555555555555556,
              "#d8576b"
             ],
             [
              0.6666666666666666,
              "#ed7953"
             ],
             [
              0.7777777777777778,
              "#fb9f3a"
             ],
             [
              0.8888888888888888,
              "#fdca26"
             ],
             [
              1,
              "#f0f921"
             ]
            ],
            "type": "heatmap"
           }
          ],
          "heatmapgl": [
           {
            "colorbar": {
             "outlinewidth": 0,
             "ticks": ""
            },
            "colorscale": [
             [
              0,
              "#0d0887"
             ],
             [
              0.1111111111111111,
              "#46039f"
             ],
             [
              0.2222222222222222,
              "#7201a8"
             ],
             [
              0.3333333333333333,
              "#9c179e"
             ],
             [
              0.4444444444444444,
              "#bd3786"
             ],
             [
              0.5555555555555556,
              "#d8576b"
             ],
             [
              0.6666666666666666,
              "#ed7953"
             ],
             [
              0.7777777777777778,
              "#fb9f3a"
             ],
             [
              0.8888888888888888,
              "#fdca26"
             ],
             [
              1,
              "#f0f921"
             ]
            ],
            "type": "heatmapgl"
           }
          ],
          "histogram": [
           {
            "marker": {
             "pattern": {
              "fillmode": "overlay",
              "size": 10,
              "solidity": 0.2
             }
            },
            "type": "histogram"
           }
          ],
          "histogram2d": [
           {
            "colorbar": {
             "outlinewidth": 0,
             "ticks": ""
            },
            "colorscale": [
             [
              0,
              "#0d0887"
             ],
             [
              0.1111111111111111,
              "#46039f"
             ],
             [
              0.2222222222222222,
              "#7201a8"
             ],
             [
              0.3333333333333333,
              "#9c179e"
             ],
             [
              0.4444444444444444,
              "#bd3786"
             ],
             [
              0.5555555555555556,
              "#d8576b"
             ],
             [
              0.6666666666666666,
              "#ed7953"
             ],
             [
              0.7777777777777778,
              "#fb9f3a"
             ],
             [
              0.8888888888888888,
              "#fdca26"
             ],
             [
              1,
              "#f0f921"
             ]
            ],
            "type": "histogram2d"
           }
          ],
          "histogram2dcontour": [
           {
            "colorbar": {
             "outlinewidth": 0,
             "ticks": ""
            },
            "colorscale": [
             [
              0,
              "#0d0887"
             ],
             [
              0.1111111111111111,
              "#46039f"
             ],
             [
              0.2222222222222222,
              "#7201a8"
             ],
             [
              0.3333333333333333,
              "#9c179e"
             ],
             [
              0.4444444444444444,
              "#bd3786"
             ],
             [
              0.5555555555555556,
              "#d8576b"
             ],
             [
              0.6666666666666666,
              "#ed7953"
             ],
             [
              0.7777777777777778,
              "#fb9f3a"
             ],
             [
              0.8888888888888888,
              "#fdca26"
             ],
             [
              1,
              "#f0f921"
             ]
            ],
            "type": "histogram2dcontour"
           }
          ],
          "mesh3d": [
           {
            "colorbar": {
             "outlinewidth": 0,
             "ticks": ""
            },
            "type": "mesh3d"
           }
          ],
          "parcoords": [
           {
            "line": {
             "colorbar": {
              "outlinewidth": 0,
              "ticks": ""
             }
            },
            "type": "parcoords"
           }
          ],
          "pie": [
           {
            "automargin": true,
            "type": "pie"
           }
          ],
          "scatter": [
           {
            "fillpattern": {
             "fillmode": "overlay",
             "size": 10,
             "solidity": 0.2
            },
            "type": "scatter"
           }
          ],
          "scatter3d": [
           {
            "line": {
             "colorbar": {
              "outlinewidth": 0,
              "ticks": ""
             }
            },
            "marker": {
             "colorbar": {
              "outlinewidth": 0,
              "ticks": ""
             }
            },
            "type": "scatter3d"
           }
          ],
          "scattercarpet": [
           {
            "marker": {
             "colorbar": {
              "outlinewidth": 0,
              "ticks": ""
             }
            },
            "type": "scattercarpet"
           }
          ],
          "scattergeo": [
           {
            "marker": {
             "colorbar": {
              "outlinewidth": 0,
              "ticks": ""
             }
            },
            "type": "scattergeo"
           }
          ],
          "scattergl": [
           {
            "marker": {
             "colorbar": {
              "outlinewidth": 0,
              "ticks": ""
             }
            },
            "type": "scattergl"
           }
          ],
          "scattermapbox": [
           {
            "marker": {
             "colorbar": {
              "outlinewidth": 0,
              "ticks": ""
             }
            },
            "type": "scattermapbox"
           }
          ],
          "scatterpolar": [
           {
            "marker": {
             "colorbar": {
              "outlinewidth": 0,
              "ticks": ""
             }
            },
            "type": "scatterpolar"
           }
          ],
          "scatterpolargl": [
           {
            "marker": {
             "colorbar": {
              "outlinewidth": 0,
              "ticks": ""
             }
            },
            "type": "scatterpolargl"
           }
          ],
          "scatterternary": [
           {
            "marker": {
             "colorbar": {
              "outlinewidth": 0,
              "ticks": ""
             }
            },
            "type": "scatterternary"
           }
          ],
          "surface": [
           {
            "colorbar": {
             "outlinewidth": 0,
             "ticks": ""
            },
            "colorscale": [
             [
              0,
              "#0d0887"
             ],
             [
              0.1111111111111111,
              "#46039f"
             ],
             [
              0.2222222222222222,
              "#7201a8"
             ],
             [
              0.3333333333333333,
              "#9c179e"
             ],
             [
              0.4444444444444444,
              "#bd3786"
             ],
             [
              0.5555555555555556,
              "#d8576b"
             ],
             [
              0.6666666666666666,
              "#ed7953"
             ],
             [
              0.7777777777777778,
              "#fb9f3a"
             ],
             [
              0.8888888888888888,
              "#fdca26"
             ],
             [
              1,
              "#f0f921"
             ]
            ],
            "type": "surface"
           }
          ],
          "table": [
           {
            "cells": {
             "fill": {
              "color": "#EBF0F8"
             },
             "line": {
              "color": "white"
             }
            },
            "header": {
             "fill": {
              "color": "#C8D4E3"
             },
             "line": {
              "color": "white"
             }
            },
            "type": "table"
           }
          ]
         },
         "layout": {
          "annotationdefaults": {
           "arrowcolor": "#2a3f5f",
           "arrowhead": 0,
           "arrowwidth": 1
          },
          "autotypenumbers": "strict",
          "coloraxis": {
           "colorbar": {
            "outlinewidth": 0,
            "ticks": ""
           }
          },
          "colorscale": {
           "diverging": [
            [
             0,
             "#8e0152"
            ],
            [
             0.1,
             "#c51b7d"
            ],
            [
             0.2,
             "#de77ae"
            ],
            [
             0.3,
             "#f1b6da"
            ],
            [
             0.4,
             "#fde0ef"
            ],
            [
             0.5,
             "#f7f7f7"
            ],
            [
             0.6,
             "#e6f5d0"
            ],
            [
             0.7,
             "#b8e186"
            ],
            [
             0.8,
             "#7fbc41"
            ],
            [
             0.9,
             "#4d9221"
            ],
            [
             1,
             "#276419"
            ]
           ],
           "sequential": [
            [
             0,
             "#0d0887"
            ],
            [
             0.1111111111111111,
             "#46039f"
            ],
            [
             0.2222222222222222,
             "#7201a8"
            ],
            [
             0.3333333333333333,
             "#9c179e"
            ],
            [
             0.4444444444444444,
             "#bd3786"
            ],
            [
             0.5555555555555556,
             "#d8576b"
            ],
            [
             0.6666666666666666,
             "#ed7953"
            ],
            [
             0.7777777777777778,
             "#fb9f3a"
            ],
            [
             0.8888888888888888,
             "#fdca26"
            ],
            [
             1,
             "#f0f921"
            ]
           ],
           "sequentialminus": [
            [
             0,
             "#0d0887"
            ],
            [
             0.1111111111111111,
             "#46039f"
            ],
            [
             0.2222222222222222,
             "#7201a8"
            ],
            [
             0.3333333333333333,
             "#9c179e"
            ],
            [
             0.4444444444444444,
             "#bd3786"
            ],
            [
             0.5555555555555556,
             "#d8576b"
            ],
            [
             0.6666666666666666,
             "#ed7953"
            ],
            [
             0.7777777777777778,
             "#fb9f3a"
            ],
            [
             0.8888888888888888,
             "#fdca26"
            ],
            [
             1,
             "#f0f921"
            ]
           ]
          },
          "colorway": [
           "#636efa",
           "#EF553B",
           "#00cc96",
           "#ab63fa",
           "#FFA15A",
           "#19d3f3",
           "#FF6692",
           "#B6E880",
           "#FF97FF",
           "#FECB52"
          ],
          "font": {
           "color": "#2a3f5f"
          },
          "geo": {
           "bgcolor": "white",
           "lakecolor": "white",
           "landcolor": "#E5ECF6",
           "showlakes": true,
           "showland": true,
           "subunitcolor": "white"
          },
          "hoverlabel": {
           "align": "left"
          },
          "hovermode": "closest",
          "mapbox": {
           "style": "light"
          },
          "paper_bgcolor": "white",
          "plot_bgcolor": "#E5ECF6",
          "polar": {
           "angularaxis": {
            "gridcolor": "white",
            "linecolor": "white",
            "ticks": ""
           },
           "bgcolor": "#E5ECF6",
           "radialaxis": {
            "gridcolor": "white",
            "linecolor": "white",
            "ticks": ""
           }
          },
          "scene": {
           "xaxis": {
            "backgroundcolor": "#E5ECF6",
            "gridcolor": "white",
            "gridwidth": 2,
            "linecolor": "white",
            "showbackground": true,
            "ticks": "",
            "zerolinecolor": "white"
           },
           "yaxis": {
            "backgroundcolor": "#E5ECF6",
            "gridcolor": "white",
            "gridwidth": 2,
            "linecolor": "white",
            "showbackground": true,
            "ticks": "",
            "zerolinecolor": "white"
           },
           "zaxis": {
            "backgroundcolor": "#E5ECF6",
            "gridcolor": "white",
            "gridwidth": 2,
            "linecolor": "white",
            "showbackground": true,
            "ticks": "",
            "zerolinecolor": "white"
           }
          },
          "shapedefaults": {
           "line": {
            "color": "#2a3f5f"
           }
          },
          "ternary": {
           "aaxis": {
            "gridcolor": "white",
            "linecolor": "white",
            "ticks": ""
           },
           "baxis": {
            "gridcolor": "white",
            "linecolor": "white",
            "ticks": ""
           },
           "bgcolor": "#E5ECF6",
           "caxis": {
            "gridcolor": "white",
            "linecolor": "white",
            "ticks": ""
           }
          },
          "title": {
           "x": 0.05
          },
          "xaxis": {
           "automargin": true,
           "gridcolor": "white",
           "linecolor": "white",
           "ticks": "",
           "title": {
            "standoff": 15
           },
           "zerolinecolor": "white",
           "zerolinewidth": 2
          },
          "yaxis": {
           "automargin": true,
           "gridcolor": "white",
           "linecolor": "white",
           "ticks": "",
           "title": {
            "standoff": 15
           },
           "zerolinecolor": "white",
           "zerolinewidth": 2
          }
         }
        },
        "title": {
         "text": "Model Drift — Conviction Over Time"
        },
        "xaxis": {
         "anchor": "y",
         "domain": [
          0,
          1
         ],
         "title": {
          "text": "Case Index"
         }
        },
        "yaxis": {
         "anchor": "x",
         "domain": [
          0,
          1
         ],
         "title": {
          "text": "Conviction"
         }
        }
       }
      }
     },
     "metadata": {},
     "output_type": "display_data"
    }
   ],
   "source": [
    "mismatch_count_df = pd.DataFrame(mismatch_counts, columns=[\"Prediction Deviation\"])\n",
    "\n",
    "# plot = sns.lineplot(x=mismatch_count_rolling_df.index, y='Prediction Deviation', data=mismatch_count_rolling_df)\n",
    "# plt.legend(title = 'variable', labels = mismatch_count_rolling_df.columns)\n",
    "# sns.move_legend(plot, \"upper left\", bbox_to_anchor=(1, 1))\n",
    "# plt.ylabel(\"value\")\n",
    "# plt.xlabel(\"index\")\n",
    "# plt.axvline(x=30, color = 'black')\n",
    "# plt.axvline(x=len(df_test_no_drift), color = 'black')\n",
    "# plt.show()\n",
    "\n",
    "plot_drift(mismatch_count_df, line_positions=[30, len(df_test_no_drift)], rolling_window=5)"
   ]
  },
  {
   "cell_type": "code",
   "execution_count": 10,
   "id": "53baad36-c7c7-4bef-8efc-045f5b922b0d",
   "metadata": {},
   "outputs": [],
   "source": [
    "# extract the series\n",
    "mismatch_series = mismatch_count_df['Prediction Deviation']\n",
    "\n",
    "# calculate before and after drift mismatch\n",
    "after_drift = mismatch_series.iloc[int(len(mismatch_series) * 2 / 3):].mean()\n",
    "before_drift = mismatch_series.iloc[:int(len(mismatch_series) * 1 / 3)].mean()\n",
    "\n",
    "avg_pred_mismatch = after_drift - before_drift"
   ]
  },
  {
   "attachments": {},
   "cell_type": "markdown",
   "id": "d16ce499-8fbe-4707-94fa-73883bc7e8e4",
   "metadata": {},
   "source": [
    "# Another method is monitor changes in feature importance between the models"
   ]
  },
  {
   "cell_type": "code",
   "execution_count": 11,
   "id": "43462f93-c9d6-4ceb-9417-94ac8e024ad6",
   "metadata": {},
   "outputs": [],
   "source": [
    "# remove situations when both features are 0 or negative\n",
    "def check_case(s1, s2):\n",
    "    for i, j in zip(s1, s2):\n",
    "        if (i <=0) and (j <=0):\n",
    "            return True\n",
    "    return False\n",
    "\n",
    "# clean up mean-decrease-accuracy for kl-divergence calculation\n",
    "def clean_mda(df_int, df_exp):\n",
    "    ind_for_remove = []\n",
    "    \n",
    "    # Store all zero values\n",
    "    ind_zeros = []\n",
    "    \n",
    "    for i in df_int.index:\n",
    "        if check_case(df_int.loc[i, :], df_exp.loc[i, :]):\n",
    "            ind_for_remove.append(i)\n",
    "\n",
    "        # If everything are zeros, set kl-divergence = 0 later on\n",
    "        if (df_int.loc[i, :] == 0).all() and (df_exp.loc[i, :] == 0).all():\n",
    "            ind_zeros.append(i)\n",
    "    \n",
    "    df_int_clean = df_int.drop(ind_for_remove)\n",
    "    df_exp_clean = df_exp.drop(ind_for_remove)\n",
    "    \n",
    "    # if still negative, set to zero\n",
    "    df_int_clean[df_int_clean < 0] = 0\n",
    "    df_exp_clean[df_exp_clean < 0] = 0\n",
    "\n",
    "    # if there are any all zero records left, set to inf during kl-divergence calculation\n",
    "    ind_inf = []\n",
    "    ind_for_remove = []\n",
    "    for i in df_int_clean.index:\n",
    "        if (df_int_clean.loc[i, :] == 0).all() or (df_exp_clean.loc[i, :] == 0).all():\n",
    "            ind_for_remove.append(i)\n",
    "            ind_inf.append(i)\n",
    "\n",
    "    df_int_clean = df_int_clean.drop(ind_for_remove)\n",
    "    df_exp_clean = df_exp_clean.drop(ind_for_remove)\n",
    "            \n",
    "    return df_int_clean, df_exp_clean, ind_zeros, ind_inf"
   ]
  },
  {
   "cell_type": "code",
   "execution_count": 12,
   "id": "d761ce67-dc1f-46eb-ab1a-7d4d5a61d4ed",
   "metadata": {},
   "outputs": [],
   "source": [
    "mda_int = pd.DataFrame(mda_interpret)\n",
    "mda_exp = pd.DataFrame(mda_explain)\n",
    "\n",
    "mda_int, mda_exp, ind_zeros, ind_inf = clean_mda(mda_int, mda_exp)\n",
    "\n",
    "kl_div = pd.Series(entropy(pk=mda_int, qk=mda_exp, axis=1), index=mda_int.index)\n",
    "\n",
    "# Using zeros where all values = 0\n",
    "for i in ind_zeros:\n",
    "    kl_div.loc[i] = 0\n",
    "    \n",
    "for i in ind_inf:\n",
    "    kl_div.loc[i] = np.inf\n",
    "\n",
    "kl_div = kl_div.sort_index()\n",
    "\n",
    "non_inf = kl_div[~(kl_div == np.inf)]\n",
    "inf = kl_div[kl_div == np.inf]"
   ]
  },
  {
   "cell_type": "code",
   "execution_count": 13,
   "id": "471da9cb",
   "metadata": {},
   "outputs": [
    {
     "data": {
      "application/vnd.plotly.v1+json": {
       "config": {
        "plotlyServerURL": "https://plot.ly"
       },
       "data": [
        {
         "hovertemplate": "%{y}<extra></extra>",
         "name": "KL Divergence",
         "type": "scattergl",
         "x": [
          15,
          27,
          49,
          50,
          54,
          66,
          69,
          72,
          85,
          86
         ],
         "y": [
          null,
          null,
          null,
          null,
          0.3573362172064235,
          0.3915615536778927,
          0.37887515176475234,
          0.3553515557316076,
          0.41149189463717867,
          0.5926314871772731
         ]
        },
        {
         "hovertemplate": "∞<extra></extra>",
         "marker": {
          "color": "black"
         },
         "name": "Infinity",
         "type": "scattergl",
         "x": [
          2,
          10,
          18,
          39,
          42,
          62,
          68,
          95,
          98
         ],
         "y": [
          1.2039728043259361,
          1.2039728043259361,
          1.2039728043259361,
          1.2039728043259361,
          1.2039728043259361,
          1.2039728043259361,
          1.2039728043259361,
          1.2039728043259361,
          1.2039728043259361
         ]
        }
       ],
       "layout": {
        "template": {
         "data": {
          "bar": [
           {
            "error_x": {
             "color": "#2a3f5f"
            },
            "error_y": {
             "color": "#2a3f5f"
            },
            "marker": {
             "line": {
              "color": "#E5ECF6",
              "width": 0.5
             },
             "pattern": {
              "fillmode": "overlay",
              "size": 10,
              "solidity": 0.2
             }
            },
            "type": "bar"
           }
          ],
          "barpolar": [
           {
            "marker": {
             "line": {
              "color": "#E5ECF6",
              "width": 0.5
             },
             "pattern": {
              "fillmode": "overlay",
              "size": 10,
              "solidity": 0.2
             }
            },
            "type": "barpolar"
           }
          ],
          "carpet": [
           {
            "aaxis": {
             "endlinecolor": "#2a3f5f",
             "gridcolor": "white",
             "linecolor": "white",
             "minorgridcolor": "white",
             "startlinecolor": "#2a3f5f"
            },
            "baxis": {
             "endlinecolor": "#2a3f5f",
             "gridcolor": "white",
             "linecolor": "white",
             "minorgridcolor": "white",
             "startlinecolor": "#2a3f5f"
            },
            "type": "carpet"
           }
          ],
          "choropleth": [
           {
            "colorbar": {
             "outlinewidth": 0,
             "ticks": ""
            },
            "type": "choropleth"
           }
          ],
          "contour": [
           {
            "colorbar": {
             "outlinewidth": 0,
             "ticks": ""
            },
            "colorscale": [
             [
              0,
              "#0d0887"
             ],
             [
              0.1111111111111111,
              "#46039f"
             ],
             [
              0.2222222222222222,
              "#7201a8"
             ],
             [
              0.3333333333333333,
              "#9c179e"
             ],
             [
              0.4444444444444444,
              "#bd3786"
             ],
             [
              0.5555555555555556,
              "#d8576b"
             ],
             [
              0.6666666666666666,
              "#ed7953"
             ],
             [
              0.7777777777777778,
              "#fb9f3a"
             ],
             [
              0.8888888888888888,
              "#fdca26"
             ],
             [
              1,
              "#f0f921"
             ]
            ],
            "type": "contour"
           }
          ],
          "contourcarpet": [
           {
            "colorbar": {
             "outlinewidth": 0,
             "ticks": ""
            },
            "type": "contourcarpet"
           }
          ],
          "heatmap": [
           {
            "colorbar": {
             "outlinewidth": 0,
             "ticks": ""
            },
            "colorscale": [
             [
              0,
              "#0d0887"
             ],
             [
              0.1111111111111111,
              "#46039f"
             ],
             [
              0.2222222222222222,
              "#7201a8"
             ],
             [
              0.3333333333333333,
              "#9c179e"
             ],
             [
              0.4444444444444444,
              "#bd3786"
             ],
             [
              0.5555555555555556,
              "#d8576b"
             ],
             [
              0.6666666666666666,
              "#ed7953"
             ],
             [
              0.7777777777777778,
              "#fb9f3a"
             ],
             [
              0.8888888888888888,
              "#fdca26"
             ],
             [
              1,
              "#f0f921"
             ]
            ],
            "type": "heatmap"
           }
          ],
          "heatmapgl": [
           {
            "colorbar": {
             "outlinewidth": 0,
             "ticks": ""
            },
            "colorscale": [
             [
              0,
              "#0d0887"
             ],
             [
              0.1111111111111111,
              "#46039f"
             ],
             [
              0.2222222222222222,
              "#7201a8"
             ],
             [
              0.3333333333333333,
              "#9c179e"
             ],
             [
              0.4444444444444444,
              "#bd3786"
             ],
             [
              0.5555555555555556,
              "#d8576b"
             ],
             [
              0.6666666666666666,
              "#ed7953"
             ],
             [
              0.7777777777777778,
              "#fb9f3a"
             ],
             [
              0.8888888888888888,
              "#fdca26"
             ],
             [
              1,
              "#f0f921"
             ]
            ],
            "type": "heatmapgl"
           }
          ],
          "histogram": [
           {
            "marker": {
             "pattern": {
              "fillmode": "overlay",
              "size": 10,
              "solidity": 0.2
             }
            },
            "type": "histogram"
           }
          ],
          "histogram2d": [
           {
            "colorbar": {
             "outlinewidth": 0,
             "ticks": ""
            },
            "colorscale": [
             [
              0,
              "#0d0887"
             ],
             [
              0.1111111111111111,
              "#46039f"
             ],
             [
              0.2222222222222222,
              "#7201a8"
             ],
             [
              0.3333333333333333,
              "#9c179e"
             ],
             [
              0.4444444444444444,
              "#bd3786"
             ],
             [
              0.5555555555555556,
              "#d8576b"
             ],
             [
              0.6666666666666666,
              "#ed7953"
             ],
             [
              0.7777777777777778,
              "#fb9f3a"
             ],
             [
              0.8888888888888888,
              "#fdca26"
             ],
             [
              1,
              "#f0f921"
             ]
            ],
            "type": "histogram2d"
           }
          ],
          "histogram2dcontour": [
           {
            "colorbar": {
             "outlinewidth": 0,
             "ticks": ""
            },
            "colorscale": [
             [
              0,
              "#0d0887"
             ],
             [
              0.1111111111111111,
              "#46039f"
             ],
             [
              0.2222222222222222,
              "#7201a8"
             ],
             [
              0.3333333333333333,
              "#9c179e"
             ],
             [
              0.4444444444444444,
              "#bd3786"
             ],
             [
              0.5555555555555556,
              "#d8576b"
             ],
             [
              0.6666666666666666,
              "#ed7953"
             ],
             [
              0.7777777777777778,
              "#fb9f3a"
             ],
             [
              0.8888888888888888,
              "#fdca26"
             ],
             [
              1,
              "#f0f921"
             ]
            ],
            "type": "histogram2dcontour"
           }
          ],
          "mesh3d": [
           {
            "colorbar": {
             "outlinewidth": 0,
             "ticks": ""
            },
            "type": "mesh3d"
           }
          ],
          "parcoords": [
           {
            "line": {
             "colorbar": {
              "outlinewidth": 0,
              "ticks": ""
             }
            },
            "type": "parcoords"
           }
          ],
          "pie": [
           {
            "automargin": true,
            "type": "pie"
           }
          ],
          "scatter": [
           {
            "fillpattern": {
             "fillmode": "overlay",
             "size": 10,
             "solidity": 0.2
            },
            "type": "scatter"
           }
          ],
          "scatter3d": [
           {
            "line": {
             "colorbar": {
              "outlinewidth": 0,
              "ticks": ""
             }
            },
            "marker": {
             "colorbar": {
              "outlinewidth": 0,
              "ticks": ""
             }
            },
            "type": "scatter3d"
           }
          ],
          "scattercarpet": [
           {
            "marker": {
             "colorbar": {
              "outlinewidth": 0,
              "ticks": ""
             }
            },
            "type": "scattercarpet"
           }
          ],
          "scattergeo": [
           {
            "marker": {
             "colorbar": {
              "outlinewidth": 0,
              "ticks": ""
             }
            },
            "type": "scattergeo"
           }
          ],
          "scattergl": [
           {
            "marker": {
             "colorbar": {
              "outlinewidth": 0,
              "ticks": ""
             }
            },
            "type": "scattergl"
           }
          ],
          "scattermapbox": [
           {
            "marker": {
             "colorbar": {
              "outlinewidth": 0,
              "ticks": ""
             }
            },
            "type": "scattermapbox"
           }
          ],
          "scatterpolar": [
           {
            "marker": {
             "colorbar": {
              "outlinewidth": 0,
              "ticks": ""
             }
            },
            "type": "scatterpolar"
           }
          ],
          "scatterpolargl": [
           {
            "marker": {
             "colorbar": {
              "outlinewidth": 0,
              "ticks": ""
             }
            },
            "type": "scatterpolargl"
           }
          ],
          "scatterternary": [
           {
            "marker": {
             "colorbar": {
              "outlinewidth": 0,
              "ticks": ""
             }
            },
            "type": "scatterternary"
           }
          ],
          "surface": [
           {
            "colorbar": {
             "outlinewidth": 0,
             "ticks": ""
            },
            "colorscale": [
             [
              0,
              "#0d0887"
             ],
             [
              0.1111111111111111,
              "#46039f"
             ],
             [
              0.2222222222222222,
              "#7201a8"
             ],
             [
              0.3333333333333333,
              "#9c179e"
             ],
             [
              0.4444444444444444,
              "#bd3786"
             ],
             [
              0.5555555555555556,
              "#d8576b"
             ],
             [
              0.6666666666666666,
              "#ed7953"
             ],
             [
              0.7777777777777778,
              "#fb9f3a"
             ],
             [
              0.8888888888888888,
              "#fdca26"
             ],
             [
              1,
              "#f0f921"
             ]
            ],
            "type": "surface"
           }
          ],
          "table": [
           {
            "cells": {
             "fill": {
              "color": "#EBF0F8"
             },
             "line": {
              "color": "white"
             }
            },
            "header": {
             "fill": {
              "color": "#C8D4E3"
             },
             "line": {
              "color": "white"
             }
            },
            "type": "table"
           }
          ]
         },
         "layout": {
          "annotationdefaults": {
           "arrowcolor": "#2a3f5f",
           "arrowhead": 0,
           "arrowwidth": 1
          },
          "autotypenumbers": "strict",
          "coloraxis": {
           "colorbar": {
            "outlinewidth": 0,
            "ticks": ""
           }
          },
          "colorscale": {
           "diverging": [
            [
             0,
             "#8e0152"
            ],
            [
             0.1,
             "#c51b7d"
            ],
            [
             0.2,
             "#de77ae"
            ],
            [
             0.3,
             "#f1b6da"
            ],
            [
             0.4,
             "#fde0ef"
            ],
            [
             0.5,
             "#f7f7f7"
            ],
            [
             0.6,
             "#e6f5d0"
            ],
            [
             0.7,
             "#b8e186"
            ],
            [
             0.8,
             "#7fbc41"
            ],
            [
             0.9,
             "#4d9221"
            ],
            [
             1,
             "#276419"
            ]
           ],
           "sequential": [
            [
             0,
             "#0d0887"
            ],
            [
             0.1111111111111111,
             "#46039f"
            ],
            [
             0.2222222222222222,
             "#7201a8"
            ],
            [
             0.3333333333333333,
             "#9c179e"
            ],
            [
             0.4444444444444444,
             "#bd3786"
            ],
            [
             0.5555555555555556,
             "#d8576b"
            ],
            [
             0.6666666666666666,
             "#ed7953"
            ],
            [
             0.7777777777777778,
             "#fb9f3a"
            ],
            [
             0.8888888888888888,
             "#fdca26"
            ],
            [
             1,
             "#f0f921"
            ]
           ],
           "sequentialminus": [
            [
             0,
             "#0d0887"
            ],
            [
             0.1111111111111111,
             "#46039f"
            ],
            [
             0.2222222222222222,
             "#7201a8"
            ],
            [
             0.3333333333333333,
             "#9c179e"
            ],
            [
             0.4444444444444444,
             "#bd3786"
            ],
            [
             0.5555555555555556,
             "#d8576b"
            ],
            [
             0.6666666666666666,
             "#ed7953"
            ],
            [
             0.7777777777777778,
             "#fb9f3a"
            ],
            [
             0.8888888888888888,
             "#fdca26"
            ],
            [
             1,
             "#f0f921"
            ]
           ]
          },
          "colorway": [
           "#636efa",
           "#EF553B",
           "#00cc96",
           "#ab63fa",
           "#FFA15A",
           "#19d3f3",
           "#FF6692",
           "#B6E880",
           "#FF97FF",
           "#FECB52"
          ],
          "font": {
           "color": "#2a3f5f"
          },
          "geo": {
           "bgcolor": "white",
           "lakecolor": "white",
           "landcolor": "#E5ECF6",
           "showlakes": true,
           "showland": true,
           "subunitcolor": "white"
          },
          "hoverlabel": {
           "align": "left"
          },
          "hovermode": "closest",
          "mapbox": {
           "style": "light"
          },
          "paper_bgcolor": "white",
          "plot_bgcolor": "#E5ECF6",
          "polar": {
           "angularaxis": {
            "gridcolor": "white",
            "linecolor": "white",
            "ticks": ""
           },
           "bgcolor": "#E5ECF6",
           "radialaxis": {
            "gridcolor": "white",
            "linecolor": "white",
            "ticks": ""
           }
          },
          "scene": {
           "xaxis": {
            "backgroundcolor": "#E5ECF6",
            "gridcolor": "white",
            "gridwidth": 2,
            "linecolor": "white",
            "showbackground": true,
            "ticks": "",
            "zerolinecolor": "white"
           },
           "yaxis": {
            "backgroundcolor": "#E5ECF6",
            "gridcolor": "white",
            "gridwidth": 2,
            "linecolor": "white",
            "showbackground": true,
            "ticks": "",
            "zerolinecolor": "white"
           },
           "zaxis": {
            "backgroundcolor": "#E5ECF6",
            "gridcolor": "white",
            "gridwidth": 2,
            "linecolor": "white",
            "showbackground": true,
            "ticks": "",
            "zerolinecolor": "white"
           }
          },
          "shapedefaults": {
           "line": {
            "color": "#2a3f5f"
           }
          },
          "ternary": {
           "aaxis": {
            "gridcolor": "white",
            "linecolor": "white",
            "ticks": ""
           },
           "baxis": {
            "gridcolor": "white",
            "linecolor": "white",
            "ticks": ""
           },
           "bgcolor": "#E5ECF6",
           "caxis": {
            "gridcolor": "white",
            "linecolor": "white",
            "ticks": ""
           }
          },
          "title": {
           "x": 0.05
          },
          "xaxis": {
           "automargin": true,
           "gridcolor": "white",
           "linecolor": "white",
           "ticks": "",
           "title": {
            "standoff": 15
           },
           "zerolinecolor": "white",
           "zerolinewidth": 2
          },
          "yaxis": {
           "automargin": true,
           "gridcolor": "white",
           "linecolor": "white",
           "ticks": "",
           "title": {
            "standoff": 15
           },
           "zerolinecolor": "white",
           "zerolinewidth": 2
          }
         }
        },
        "title": {
         "text": "KL Divergence Over Time"
        },
        "xaxis": {
         "anchor": "y",
         "domain": [
          0,
          1
         ],
         "dtick": 1,
         "tick0": 0,
         "tickmode": "linear",
         "title": {
          "text": "Case Index"
         }
        },
        "yaxis": {
         "anchor": "x",
         "domain": [
          0,
          1
         ],
         "title": {
          "text": "KL Divergence"
         }
        }
       }
      }
     },
     "metadata": {},
     "output_type": "display_data"
    }
   ],
   "source": [
    "plot_kl_divergence(kl_div)"
   ]
  },
  {
   "cell_type": "code",
   "execution_count": 14,
   "id": "f1517889-1817-464e-8894-3fd8ec815a96",
   "metadata": {},
   "outputs": [
    {
     "data": {
      "text/plain": [
       "0.026590494430580536"
      ]
     },
     "execution_count": 14,
     "metadata": {},
     "output_type": "execute_result"
    }
   ],
   "source": [
    "# calculate the average kl-divergence before and after drift\n",
    "kl_before_drift = non_inf[ :int(len(non_inf) * 1/3)].mean()\n",
    "kl_after_drift = non_inf[int(len(non_inf) *2 / 3) : ].mean()\n",
    "\n",
    "kl_diff = kl_after_drift - kl_before_drift\n",
    "kl_diff"
   ]
  }
 ],
 "metadata": {
  "kernelspec": {
   "display_name": "Python 3 (ipykernel)",
   "language": "python",
   "name": "python3"
  },
  "language_info": {
   "codemirror_mode": {
    "name": "ipython",
    "version": 3
   },
   "file_extension": ".py",
   "mimetype": "text/x-python",
   "name": "python",
   "nbconvert_exporter": "python",
   "pygments_lexer": "ipython3",
   "version": "3.8.17"
  },
  "vscode": {
   "interpreter": {
    "hash": "5a97d8588cce4b7427f7b841aa84f596036816f81d1a6ebef91f01881d12ee0c"
   }
  }
 },
 "nbformat": 4,
 "nbformat_minor": 5
}
