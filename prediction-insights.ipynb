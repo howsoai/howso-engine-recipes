{
 "cells": [
  {
   "cell_type": "markdown",
   "metadata": {},
   "source": [
    "# Prediction Insights"
   ]
  },
  {
   "cell_type": "markdown",
   "metadata": {},
   "source": [
    "## Overview\n",
    "\n",
    "Howso Engine enables powerful predictions with complete attribution and detailed explanations to make learning from\n",
    "and debugging your data and predictions as easy as possible. For more information on predictions with Howso Engine,\n",
    "check out the [predictions user guide](https://docs.howso.com/user_guide/basics/predictions.html)."
   ]
  },
  {
   "cell_type": "code",
   "execution_count": 1,
   "metadata": {},
   "outputs": [],
   "source": [
    "from pprint import pprint\n",
    "\n",
    "import pandas as pd\n",
    "from pmlb import fetch_data\n",
    "import plotly.graph_objects as go\n",
    "import plotly.express as px\n",
    "\n",
    "from howso.engine import Trainee\n",
    "from howso.utilities import infer_feature_attributes\n",
    "import howso.visuals as vis"
   ]
  },
  {
   "cell_type": "markdown",
   "metadata": {},
   "source": [
    "## Setup\n",
    "\n",
    "The [basic workflow guide](https://docs.howso.com/user_guide/basics/basic_workflow.html) goes into more specifics about the individual details of this section. This recipe will focus more on the insights.\n",
    "\n",
    "### Load Data and Create Trainee"
   ]
  },
  {
   "cell_type": "code",
   "execution_count": 2,
   "metadata": {},
   "outputs": [
    {
     "name": "stderr",
     "output_type": "stream",
     "text": [
      "The following parameters from configuration file will override the Amalgam parameters set in the code: {'trace'}\n"
     ]
    }
   ],
   "source": [
    "df = fetch_data(\"iris\", local_cache_dir=\"data\")\n",
    "train_data = df.iloc[:-30]\n",
    "new_data = df[~df.index.isin(train_data.index)]\n",
    "features = infer_feature_attributes(train_data)\n",
    "\n",
    "t = Trainee(features=features)"
   ]
  },
  {
   "cell_type": "markdown",
   "metadata": {},
   "source": [
    "### Train, Analyze, and React"
   ]
  },
  {
   "cell_type": "code",
   "execution_count": 3,
   "metadata": {},
   "outputs": [],
   "source": [
    "t.train(train_data)\n",
    "t.analyze()\n",
    "t.react_into_features(similarity_conviction=True)\n",
    "\n",
    "reaction = t.react(\n",
    "    contexts=new_data,\n",
    "    context_features=[\"sepal-length\", \"sepal-width\", \"petal-length\", \"petal-width\"],\n",
    "    action_features=[\"target\"],\n",
    "    details={\n",
    "        \"influential_cases\": True,\n",
    "        \"similarity_conviction\": True,\n",
    "        \"feature_contributions\": True,\n",
    "        \"feature_residuals\": True,\n",
    "        \"robust_influences\": True,\n",
    "        \"robust_residuals\": True,\n",
    "        \"local_case_feature_residual_convictions\": True,\n",
    "        \"categorical_action_probabilities\": True,\n",
    "    }\n",
    ")"
   ]
  },
  {
   "cell_type": "markdown",
   "metadata": {},
   "source": [
    "Note that, unlike in the basic workflow guide, we include several `details` in the react call. These are what will enable the insights that we're going to get after the predictions are made.\n",
    "\n",
    "For more information, see [the API documentation for `Trainee.react()`](https://docs.howso.com/api_reference/_autosummary/howso.engine.html#howso.engine.Trainee.react)."
   ]
  },
  {
   "cell_type": "markdown",
   "metadata": {},
   "source": [
    "### Inspect the Predictions\n",
    "\n",
    "Howso Engine has high accuracy even on small datasets."
   ]
  },
  {
   "cell_type": "code",
   "execution_count": 5,
   "metadata": {},
   "outputs": [
    {
     "data": {
      "application/vnd.plotly.v1+json": {
       "config": {
        "plotlyServerURL": "https://plot.ly"
       },
       "data": [
        {
         "legendgroup": "trained",
         "legendgrouptitle": {
          "text": "Trained Target"
         },
         "marker": {
          "color": "#1F77B4",
          "opacity": 0.75
         },
         "mode": "markers",
         "name": "0",
         "type": "scatter",
         "x": [
          1.2,
          1.5,
          1.5,
          1.6,
          1.4,
          1.6,
          1.3,
          1.4,
          1.7,
          1.4,
          1.9,
          1.5,
          1.3,
          1.4,
          1.9,
          1.5,
          1.3,
          1.3,
          1.5,
          1.3,
          1,
          1.6,
          1.6,
          1.3,
          1.4,
          1.4,
          1.7,
          1.3,
          1.5,
          1.5,
          1.4,
          1.5,
          1.5,
          1.5,
          1.4,
          1.7,
          1.2,
          1.5,
          1.5,
          1.4
         ],
         "y": [
          0.2,
          0.1,
          0.2,
          0.2,
          0.2,
          0.2,
          0.2,
          0.3,
          0.3,
          0.2,
          0.4,
          0.1,
          0.4,
          0.2,
          0.2,
          0.4,
          0.3,
          0.3,
          0.3,
          0.2,
          0.2,
          0.2,
          0.2,
          0.2,
          0.3,
          0.3,
          0.2,
          0.2,
          0.1,
          0.2,
          0.2,
          0.2,
          0.1,
          0.2,
          0.2,
          0.5,
          0.2,
          0.2,
          0.4,
          0.2
         ]
        },
        {
         "legendgroup": "trained",
         "legendgrouptitle": {
          "text": "Trained Target"
         },
         "marker": {
          "color": "#FF7F0E",
          "opacity": 0.75
         },
         "mode": "markers",
         "name": "1",
         "type": "scatter",
         "x": [
          3.8,
          5.1,
          4,
          3.6,
          4.2,
          3.9,
          4.1,
          4.9,
          4.3,
          4.6,
          4.5,
          4.7,
          4.1,
          4.4,
          4.2,
          4.7,
          4.6,
          4.3,
          4.9,
          3.5,
          4.8,
          4.7,
          4.7,
          4,
          4,
          4,
          4.4,
          4.1,
          3.5,
          4.4,
          4.4,
          4.6,
          3.9,
          4.5,
          3.3,
          4.5,
          4.2,
          4.5,
          4,
          4.5
         ],
         "y": [
          1.1,
          1.6,
          1.3,
          1.3,
          1.3,
          1.4,
          1.3,
          1.5,
          1.3,
          1.5,
          1.6,
          1.5,
          1.3,
          1.4,
          1.5,
          1.4,
          1.3,
          1.3,
          1.5,
          1,
          1.8,
          1.2,
          1.6,
          1.2,
          1,
          1.3,
          1.4,
          1,
          1,
          1.2,
          1.3,
          1.4,
          1.2,
          1.5,
          1,
          1.3,
          1.3,
          1.5,
          1.3,
          1.5
         ]
        },
        {
         "legendgroup": "trained",
         "legendgrouptitle": {
          "text": "Trained Target"
         },
         "marker": {
          "color": "#2CA02C",
          "opacity": 0.75
         },
         "mode": "markers",
         "name": "2",
         "type": "scatter",
         "x": [
          5.2,
          5,
          4.8,
          6.7,
          5.8,
          5.6,
          5.9,
          5.1,
          5.6,
          5.1,
          5.6,
          5.1,
          5.5,
          6.4,
          5.5,
          6,
          5.7,
          4.9,
          5.7,
          4.5,
          5.1,
          6.3,
          5.6,
          6.1,
          6.1,
          4.9,
          6.6,
          5.5,
          5.1,
          5,
          5.1,
          5.9,
          5,
          5.6,
          6.9,
          5.3,
          5.6,
          5.8,
          4.9,
          5.8
         ],
         "y": [
          2.3,
          1.5,
          1.8,
          2.2,
          1.6,
          2.4,
          2.1,
          1.5,
          1.8,
          1.9,
          2.4,
          2.4,
          1.8,
          2,
          2.1,
          2.5,
          2.5,
          1.8,
          2.3,
          1.7,
          2.3,
          1.8,
          1.4,
          1.9,
          2.5,
          2,
          2.1,
          1.8,
          1.8,
          1.9,
          2,
          2.3,
          2,
          2.2,
          2.3,
          2.3,
          2.1,
          2.2,
          1.8,
          1.8
         ]
        },
        {
         "hovertext": [
          10,
          11,
          12,
          13,
          14,
          25,
          26,
          27,
          28,
          29
         ],
         "legendgroup": "predicted",
         "legendgrouptitle": {
          "text": "Predicted Target"
         },
         "marker": {
          "color": "#1F77B4",
          "opacity": 0.75,
          "size": 12,
          "symbol": "star"
         },
         "mode": "markers",
         "name": "0",
         "type": "scatter",
         "x": [
          1.1,
          1.5,
          1.6,
          1.4,
          1.4,
          1.6,
          1.7,
          1.5,
          1.4,
          1.6
         ],
         "y": [
          0.1,
          0.4,
          0.2,
          0.2,
          0.1,
          0.6,
          0.4,
          0.2,
          0.2,
          0.4
         ]
        },
        {
         "hovertext": [
          5,
          6,
          7,
          8,
          9,
          20,
          21,
          22,
          23
         ],
         "legendgroup": "predicted",
         "legendgrouptitle": {
          "text": "Predicted Target"
         },
         "marker": {
          "color": "#FF7F0E",
          "opacity": 0.75,
          "size": 12,
          "symbol": "star"
         },
         "mode": "markers",
         "name": "1",
         "type": "scatter",
         "x": [
          3.9,
          3.3,
          3,
          4.5,
          4.2,
          3.7,
          4.5,
          4.8,
          4.7
         ],
         "y": [
          1.1,
          1,
          1.1,
          1.5,
          1.2,
          1,
          1.5,
          1.4,
          1.4
         ]
        },
        {
         "hovertext": [
          0,
          1,
          2,
          3,
          4,
          15,
          16,
          17,
          18,
          19,
          24
         ],
         "legendgroup": "predicted",
         "legendgrouptitle": {
          "text": "Predicted Target"
         },
         "marker": {
          "color": "#2CA02C",
          "opacity": 0.75,
          "size": 12,
          "symbol": "star"
         },
         "mode": "markers",
         "name": "2",
         "type": "scatter",
         "x": [
          5.7,
          5.3,
          5.1,
          5.4,
          4.8,
          5.4,
          6,
          6.1,
          6.7,
          5.2,
          5
         ],
         "y": [
          2.1,
          1.9,
          1.9,
          2.3,
          1.8,
          2.1,
          1.8,
          2.3,
          2,
          2,
          1.7
         ]
        }
       ],
       "layout": {
        "template": {
         "data": {
          "bar": [
           {
            "error_x": {
             "color": "#2a3f5f"
            },
            "error_y": {
             "color": "#2a3f5f"
            },
            "marker": {
             "line": {
              "color": "#E5ECF6",
              "width": 0.5
             },
             "pattern": {
              "fillmode": "overlay",
              "size": 10,
              "solidity": 0.2
             }
            },
            "type": "bar"
           }
          ],
          "barpolar": [
           {
            "marker": {
             "line": {
              "color": "#E5ECF6",
              "width": 0.5
             },
             "pattern": {
              "fillmode": "overlay",
              "size": 10,
              "solidity": 0.2
             }
            },
            "type": "barpolar"
           }
          ],
          "carpet": [
           {
            "aaxis": {
             "endlinecolor": "#2a3f5f",
             "gridcolor": "white",
             "linecolor": "white",
             "minorgridcolor": "white",
             "startlinecolor": "#2a3f5f"
            },
            "baxis": {
             "endlinecolor": "#2a3f5f",
             "gridcolor": "white",
             "linecolor": "white",
             "minorgridcolor": "white",
             "startlinecolor": "#2a3f5f"
            },
            "type": "carpet"
           }
          ],
          "choropleth": [
           {
            "colorbar": {
             "outlinewidth": 0,
             "ticks": ""
            },
            "type": "choropleth"
           }
          ],
          "contour": [
           {
            "colorbar": {
             "outlinewidth": 0,
             "ticks": ""
            },
            "colorscale": [
             [
              0,
              "#0d0887"
             ],
             [
              0.1111111111111111,
              "#46039f"
             ],
             [
              0.2222222222222222,
              "#7201a8"
             ],
             [
              0.3333333333333333,
              "#9c179e"
             ],
             [
              0.4444444444444444,
              "#bd3786"
             ],
             [
              0.5555555555555556,
              "#d8576b"
             ],
             [
              0.6666666666666666,
              "#ed7953"
             ],
             [
              0.7777777777777778,
              "#fb9f3a"
             ],
             [
              0.8888888888888888,
              "#fdca26"
             ],
             [
              1,
              "#f0f921"
             ]
            ],
            "type": "contour"
           }
          ],
          "contourcarpet": [
           {
            "colorbar": {
             "outlinewidth": 0,
             "ticks": ""
            },
            "type": "contourcarpet"
           }
          ],
          "heatmap": [
           {
            "colorbar": {
             "outlinewidth": 0,
             "ticks": ""
            },
            "colorscale": [
             [
              0,
              "#0d0887"
             ],
             [
              0.1111111111111111,
              "#46039f"
             ],
             [
              0.2222222222222222,
              "#7201a8"
             ],
             [
              0.3333333333333333,
              "#9c179e"
             ],
             [
              0.4444444444444444,
              "#bd3786"
             ],
             [
              0.5555555555555556,
              "#d8576b"
             ],
             [
              0.6666666666666666,
              "#ed7953"
             ],
             [
              0.7777777777777778,
              "#fb9f3a"
             ],
             [
              0.8888888888888888,
              "#fdca26"
             ],
             [
              1,
              "#f0f921"
             ]
            ],
            "type": "heatmap"
           }
          ],
          "heatmapgl": [
           {
            "colorbar": {
             "outlinewidth": 0,
             "ticks": ""
            },
            "colorscale": [
             [
              0,
              "#0d0887"
             ],
             [
              0.1111111111111111,
              "#46039f"
             ],
             [
              0.2222222222222222,
              "#7201a8"
             ],
             [
              0.3333333333333333,
              "#9c179e"
             ],
             [
              0.4444444444444444,
              "#bd3786"
             ],
             [
              0.5555555555555556,
              "#d8576b"
             ],
             [
              0.6666666666666666,
              "#ed7953"
             ],
             [
              0.7777777777777778,
              "#fb9f3a"
             ],
             [
              0.8888888888888888,
              "#fdca26"
             ],
             [
              1,
              "#f0f921"
             ]
            ],
            "type": "heatmapgl"
           }
          ],
          "histogram": [
           {
            "marker": {
             "pattern": {
              "fillmode": "overlay",
              "size": 10,
              "solidity": 0.2
             }
            },
            "type": "histogram"
           }
          ],
          "histogram2d": [
           {
            "colorbar": {
             "outlinewidth": 0,
             "ticks": ""
            },
            "colorscale": [
             [
              0,
              "#0d0887"
             ],
             [
              0.1111111111111111,
              "#46039f"
             ],
             [
              0.2222222222222222,
              "#7201a8"
             ],
             [
              0.3333333333333333,
              "#9c179e"
             ],
             [
              0.4444444444444444,
              "#bd3786"
             ],
             [
              0.5555555555555556,
              "#d8576b"
             ],
             [
              0.6666666666666666,
              "#ed7953"
             ],
             [
              0.7777777777777778,
              "#fb9f3a"
             ],
             [
              0.8888888888888888,
              "#fdca26"
             ],
             [
              1,
              "#f0f921"
             ]
            ],
            "type": "histogram2d"
           }
          ],
          "histogram2dcontour": [
           {
            "colorbar": {
             "outlinewidth": 0,
             "ticks": ""
            },
            "colorscale": [
             [
              0,
              "#0d0887"
             ],
             [
              0.1111111111111111,
              "#46039f"
             ],
             [
              0.2222222222222222,
              "#7201a8"
             ],
             [
              0.3333333333333333,
              "#9c179e"
             ],
             [
              0.4444444444444444,
              "#bd3786"
             ],
             [
              0.5555555555555556,
              "#d8576b"
             ],
             [
              0.6666666666666666,
              "#ed7953"
             ],
             [
              0.7777777777777778,
              "#fb9f3a"
             ],
             [
              0.8888888888888888,
              "#fdca26"
             ],
             [
              1,
              "#f0f921"
             ]
            ],
            "type": "histogram2dcontour"
           }
          ],
          "mesh3d": [
           {
            "colorbar": {
             "outlinewidth": 0,
             "ticks": ""
            },
            "type": "mesh3d"
           }
          ],
          "parcoords": [
           {
            "line": {
             "colorbar": {
              "outlinewidth": 0,
              "ticks": ""
             }
            },
            "type": "parcoords"
           }
          ],
          "pie": [
           {
            "automargin": true,
            "type": "pie"
           }
          ],
          "scatter": [
           {
            "fillpattern": {
             "fillmode": "overlay",
             "size": 10,
             "solidity": 0.2
            },
            "type": "scatter"
           }
          ],
          "scatter3d": [
           {
            "line": {
             "colorbar": {
              "outlinewidth": 0,
              "ticks": ""
             }
            },
            "marker": {
             "colorbar": {
              "outlinewidth": 0,
              "ticks": ""
             }
            },
            "type": "scatter3d"
           }
          ],
          "scattercarpet": [
           {
            "marker": {
             "colorbar": {
              "outlinewidth": 0,
              "ticks": ""
             }
            },
            "type": "scattercarpet"
           }
          ],
          "scattergeo": [
           {
            "marker": {
             "colorbar": {
              "outlinewidth": 0,
              "ticks": ""
             }
            },
            "type": "scattergeo"
           }
          ],
          "scattergl": [
           {
            "marker": {
             "colorbar": {
              "outlinewidth": 0,
              "ticks": ""
             }
            },
            "type": "scattergl"
           }
          ],
          "scattermapbox": [
           {
            "marker": {
             "colorbar": {
              "outlinewidth": 0,
              "ticks": ""
             }
            },
            "type": "scattermapbox"
           }
          ],
          "scatterpolar": [
           {
            "marker": {
             "colorbar": {
              "outlinewidth": 0,
              "ticks": ""
             }
            },
            "type": "scatterpolar"
           }
          ],
          "scatterpolargl": [
           {
            "marker": {
             "colorbar": {
              "outlinewidth": 0,
              "ticks": ""
             }
            },
            "type": "scatterpolargl"
           }
          ],
          "scatterternary": [
           {
            "marker": {
             "colorbar": {
              "outlinewidth": 0,
              "ticks": ""
             }
            },
            "type": "scatterternary"
           }
          ],
          "surface": [
           {
            "colorbar": {
             "outlinewidth": 0,
             "ticks": ""
            },
            "colorscale": [
             [
              0,
              "#0d0887"
             ],
             [
              0.1111111111111111,
              "#46039f"
             ],
             [
              0.2222222222222222,
              "#7201a8"
             ],
             [
              0.3333333333333333,
              "#9c179e"
             ],
             [
              0.4444444444444444,
              "#bd3786"
             ],
             [
              0.5555555555555556,
              "#d8576b"
             ],
             [
              0.6666666666666666,
              "#ed7953"
             ],
             [
              0.7777777777777778,
              "#fb9f3a"
             ],
             [
              0.8888888888888888,
              "#fdca26"
             ],
             [
              1,
              "#f0f921"
             ]
            ],
            "type": "surface"
           }
          ],
          "table": [
           {
            "cells": {
             "fill": {
              "color": "#EBF0F8"
             },
             "line": {
              "color": "white"
             }
            },
            "header": {
             "fill": {
              "color": "#C8D4E3"
             },
             "line": {
              "color": "white"
             }
            },
            "type": "table"
           }
          ]
         },
         "layout": {
          "annotationdefaults": {
           "arrowcolor": "#2a3f5f",
           "arrowhead": 0,
           "arrowwidth": 1
          },
          "autotypenumbers": "strict",
          "coloraxis": {
           "colorbar": {
            "outlinewidth": 0,
            "ticks": ""
           }
          },
          "colorscale": {
           "diverging": [
            [
             0,
             "#8e0152"
            ],
            [
             0.1,
             "#c51b7d"
            ],
            [
             0.2,
             "#de77ae"
            ],
            [
             0.3,
             "#f1b6da"
            ],
            [
             0.4,
             "#fde0ef"
            ],
            [
             0.5,
             "#f7f7f7"
            ],
            [
             0.6,
             "#e6f5d0"
            ],
            [
             0.7,
             "#b8e186"
            ],
            [
             0.8,
             "#7fbc41"
            ],
            [
             0.9,
             "#4d9221"
            ],
            [
             1,
             "#276419"
            ]
           ],
           "sequential": [
            [
             0,
             "#0d0887"
            ],
            [
             0.1111111111111111,
             "#46039f"
            ],
            [
             0.2222222222222222,
             "#7201a8"
            ],
            [
             0.3333333333333333,
             "#9c179e"
            ],
            [
             0.4444444444444444,
             "#bd3786"
            ],
            [
             0.5555555555555556,
             "#d8576b"
            ],
            [
             0.6666666666666666,
             "#ed7953"
            ],
            [
             0.7777777777777778,
             "#fb9f3a"
            ],
            [
             0.8888888888888888,
             "#fdca26"
            ],
            [
             1,
             "#f0f921"
            ]
           ],
           "sequentialminus": [
            [
             0,
             "#0d0887"
            ],
            [
             0.1111111111111111,
             "#46039f"
            ],
            [
             0.2222222222222222,
             "#7201a8"
            ],
            [
             0.3333333333333333,
             "#9c179e"
            ],
            [
             0.4444444444444444,
             "#bd3786"
            ],
            [
             0.5555555555555556,
             "#d8576b"
            ],
            [
             0.6666666666666666,
             "#ed7953"
            ],
            [
             0.7777777777777778,
             "#fb9f3a"
            ],
            [
             0.8888888888888888,
             "#fdca26"
            ],
            [
             1,
             "#f0f921"
            ]
           ]
          },
          "colorway": [
           "#636efa",
           "#EF553B",
           "#00cc96",
           "#ab63fa",
           "#FFA15A",
           "#19d3f3",
           "#FF6692",
           "#B6E880",
           "#FF97FF",
           "#FECB52"
          ],
          "font": {
           "color": "#2a3f5f"
          },
          "geo": {
           "bgcolor": "white",
           "lakecolor": "white",
           "landcolor": "#E5ECF6",
           "showlakes": true,
           "showland": true,
           "subunitcolor": "white"
          },
          "hoverlabel": {
           "align": "left"
          },
          "hovermode": "closest",
          "mapbox": {
           "style": "light"
          },
          "paper_bgcolor": "white",
          "plot_bgcolor": "#E5ECF6",
          "polar": {
           "angularaxis": {
            "gridcolor": "white",
            "linecolor": "white",
            "ticks": ""
           },
           "bgcolor": "#E5ECF6",
           "radialaxis": {
            "gridcolor": "white",
            "linecolor": "white",
            "ticks": ""
           }
          },
          "scene": {
           "xaxis": {
            "backgroundcolor": "#E5ECF6",
            "gridcolor": "white",
            "gridwidth": 2,
            "linecolor": "white",
            "showbackground": true,
            "ticks": "",
            "zerolinecolor": "white"
           },
           "yaxis": {
            "backgroundcolor": "#E5ECF6",
            "gridcolor": "white",
            "gridwidth": 2,
            "linecolor": "white",
            "showbackground": true,
            "ticks": "",
            "zerolinecolor": "white"
           },
           "zaxis": {
            "backgroundcolor": "#E5ECF6",
            "gridcolor": "white",
            "gridwidth": 2,
            "linecolor": "white",
            "showbackground": true,
            "ticks": "",
            "zerolinecolor": "white"
           }
          },
          "shapedefaults": {
           "line": {
            "color": "#2a3f5f"
           }
          },
          "ternary": {
           "aaxis": {
            "gridcolor": "white",
            "linecolor": "white",
            "ticks": ""
           },
           "baxis": {
            "gridcolor": "white",
            "linecolor": "white",
            "ticks": ""
           },
           "bgcolor": "#E5ECF6",
           "caxis": {
            "gridcolor": "white",
            "linecolor": "white",
            "ticks": ""
           }
          },
          "title": {
           "x": 0.05
          },
          "xaxis": {
           "automargin": true,
           "gridcolor": "white",
           "linecolor": "white",
           "ticks": "",
           "title": {
            "standoff": 15
           },
           "zerolinecolor": "white",
           "zerolinewidth": 2
          },
          "yaxis": {
           "automargin": true,
           "gridcolor": "white",
           "linecolor": "white",
           "ticks": "",
           "title": {
            "standoff": 15
           },
           "zerolinecolor": "white",
           "zerolinewidth": 2
          }
         }
        },
        "title": {
         "text": "Trained and Predicted Values"
        },
        "width": 1250,
        "xaxis": {
         "title": {
          "text": "Petal Length"
         }
        },
        "yaxis": {
         "title": {
          "text": "Petal Width"
         }
        }
       }
      }
     },
     "metadata": {},
     "output_type": "display_data"
    }
   ],
   "source": [
    "train_data = train_data.astype({\"target\": str})\n",
    "predicted_data = pd.concat([new_data.reset_index(drop=True).drop(columns=\"target\"), reaction[\"action\"]], axis=1)\n",
    "predicted_data = predicted_data.astype({\"target\": str})\n",
    "\n",
    "cmap = px.colors.qualitative.D3\n",
    "fig = go.Figure()\n",
    "for label, group in train_data.groupby(\"target\"):\n",
    "    fig.add_trace(go.Scatter(\n",
    "        x=group[\"petal-length\"],\n",
    "        y=group[\"petal-width\"],\n",
    "        mode=\"markers\",\n",
    "        name=label,\n",
    "        marker=dict(color=cmap[int(label)], opacity=0.75),\n",
    "        legendgroup=\"trained\",\n",
    "        legendgrouptitle_text=\"Trained Target\",\n",
    "    ))\n",
    "\n",
    "for label, group in predicted_data.groupby(\"target\"):\n",
    "    fig.add_trace(go.Scatter(\n",
    "        x=group[\"petal-length\"],\n",
    "        y=group[\"petal-width\"],\n",
    "        mode=\"markers\",\n",
    "        marker=dict(size=12, symbol=\"star\", color=cmap[int(label)], opacity=0.75),\n",
    "        name=label,\n",
    "        legendgroup=\"predicted\",\n",
    "        legendgrouptitle_text=\"Predicted Target\",\n",
    "        hovertext=group.index,\n",
    "    ))\n",
    "\n",
    "fig.update_layout(\n",
    "    xaxis_title=\"Petal Length\",\n",
    "    yaxis_title=\"Petal Width\",\n",
    "    width=1250,\n",
    "    title=\"Trained and Predicted Values\"\n",
    ")\n",
    "fig.show()"
   ]
  },
  {
   "cell_type": "markdown",
   "metadata": {},
   "source": [
    "For categorical action features, the prediction can be further understood with the `categorical_action_probabilities` detail.  This information\n",
    "can highlight cases that are on the border of two classes, like some of the above points are.  The closer a case gets to a class border, the\n",
    "more mixed the categorical action probabilities may get."
   ]
  },
  {
   "cell_type": "code",
   "execution_count": 6,
   "metadata": {},
   "outputs": [
    {
     "name": "stdout",
     "output_type": "stream",
     "text": [
      "[{'target': {'2': 1}}, {'target': {'2': 1}}, {'target': {'2': 1}},\n",
      " {'target': {'2': 1}},\n",
      " {'target': {'1': 0.21046908640357165, '2': 0.7895309135964284}},\n",
      " {'target': {'1': 1}}, {'target': {'1': 1}}, {'target': {'1': 1}},\n",
      " {'target': {'1': 1}}, {'target': {'1': 1}}, {'target': {'0': 1}},\n",
      " {'target': {'0': 1}}, {'target': {'0': 1}}, {'target': {'0': 1}},\n",
      " {'target': {'0': 1}}, {'target': {'2': 1}}, {'target': {'2': 1}},\n",
      " {'target': {'2': 1}}, {'target': {'2': 1}}, {'target': {'2': 1}},\n",
      " {'target': {'1': 1}}, {'target': {'1': 1}},\n",
      " {'target': {'1': 0.9011716794111256, '2': 0.0988283205888744}},\n",
      " {'target': {'1': 0.9080591869001543, '2': 0.09194081309984566}},\n",
      " {'target': {'1': 0.41668432138164674, '2': 0.5833156786183532}},\n",
      " {'target': {'0': 1}}, {'target': {'0': 1}}, {'target': {'0': 1}},\n",
      " {'target': {'0': 1}}, {'target': {'0': 1}}]\n"
     ]
    }
   ],
   "source": [
    "pprint(reaction[\"details\"][\"categorical_action_probabilities\"], compact=True)"
   ]
  },
  {
   "cell_type": "markdown",
   "metadata": {},
   "source": [
    "### Insight 1: Which Cases Contributed?\n",
    "\n",
    "Howso provides complete attribution for any and all predictions, showing exactly which cases influenced each prediction.  This can be used to understand or debug predictions.  For instance,\n",
    "we can inspect the influential cases for one of the cases (case `24`) that was on the decision boundary in the plot above.  We can see that there is a mix of target values and no cases stand\n",
    "out in terms of influence weight:"
   ]
  },
  {
   "cell_type": "code",
   "execution_count": 13,
   "metadata": {},
   "outputs": [
    {
     "data": {
      "text/html": [
       "<div>\n",
       "<style scoped>\n",
       "    .dataframe tbody tr th:only-of-type {\n",
       "        vertical-align: middle;\n",
       "    }\n",
       "\n",
       "    .dataframe tbody tr th {\n",
       "        vertical-align: top;\n",
       "    }\n",
       "\n",
       "    .dataframe thead th {\n",
       "        text-align: right;\n",
       "    }\n",
       "</style>\n",
       "<table border=\"1\" class=\"dataframe\">\n",
       "  <thead>\n",
       "    <tr style=\"text-align: right;\">\n",
       "      <th></th>\n",
       "      <th>petal-width</th>\n",
       "      <th>.session_training_index</th>\n",
       "      <th>.influence_weight</th>\n",
       "      <th>petal-length</th>\n",
       "      <th>target</th>\n",
       "      <th>sepal-length</th>\n",
       "      <th>.session</th>\n",
       "      <th>sepal-width</th>\n",
       "    </tr>\n",
       "  </thead>\n",
       "  <tbody>\n",
       "    <tr>\n",
       "      <th>0</th>\n",
       "      <td>1.5</td>\n",
       "      <td>22</td>\n",
       "      <td>0.156602</td>\n",
       "      <td>4.9</td>\n",
       "      <td>1</td>\n",
       "      <td>6.9</td>\n",
       "      <td>28879251-80f5-4db9-a45f-14c019ed894d</td>\n",
       "      <td>3.1</td>\n",
       "    </tr>\n",
       "    <tr>\n",
       "      <th>1</th>\n",
       "      <td>1.5</td>\n",
       "      <td>36</td>\n",
       "      <td>0.147282</td>\n",
       "      <td>4.7</td>\n",
       "      <td>1</td>\n",
       "      <td>6.7</td>\n",
       "      <td>28879251-80f5-4db9-a45f-14c019ed894d</td>\n",
       "      <td>3.1</td>\n",
       "    </tr>\n",
       "    <tr>\n",
       "      <th>2</th>\n",
       "      <td>1.8</td>\n",
       "      <td>77</td>\n",
       "      <td>0.130476</td>\n",
       "      <td>5.5</td>\n",
       "      <td>2</td>\n",
       "      <td>6.5</td>\n",
       "      <td>28879251-80f5-4db9-a45f-14c019ed894d</td>\n",
       "      <td>3.0</td>\n",
       "    </tr>\n",
       "    <tr>\n",
       "      <th>3</th>\n",
       "      <td>1.8</td>\n",
       "      <td>32</td>\n",
       "      <td>0.116727</td>\n",
       "      <td>5.5</td>\n",
       "      <td>2</td>\n",
       "      <td>6.4</td>\n",
       "      <td>28879251-80f5-4db9-a45f-14c019ed894d</td>\n",
       "      <td>3.1</td>\n",
       "    </tr>\n",
       "    <tr>\n",
       "      <th>4</th>\n",
       "      <td>1.8</td>\n",
       "      <td>47</td>\n",
       "      <td>0.113298</td>\n",
       "      <td>4.9</td>\n",
       "      <td>2</td>\n",
       "      <td>6.3</td>\n",
       "      <td>28879251-80f5-4db9-a45f-14c019ed894d</td>\n",
       "      <td>2.7</td>\n",
       "    </tr>\n",
       "    <tr>\n",
       "      <th>5</th>\n",
       "      <td>1.5</td>\n",
       "      <td>17</td>\n",
       "      <td>0.113021</td>\n",
       "      <td>5.1</td>\n",
       "      <td>2</td>\n",
       "      <td>6.3</td>\n",
       "      <td>28879251-80f5-4db9-a45f-14c019ed894d</td>\n",
       "      <td>2.8</td>\n",
       "    </tr>\n",
       "    <tr>\n",
       "      <th>6</th>\n",
       "      <td>1.5</td>\n",
       "      <td>24</td>\n",
       "      <td>0.112800</td>\n",
       "      <td>4.6</td>\n",
       "      <td>1</td>\n",
       "      <td>6.5</td>\n",
       "      <td>28879251-80f5-4db9-a45f-14c019ed894d</td>\n",
       "      <td>2.8</td>\n",
       "    </tr>\n",
       "    <tr>\n",
       "      <th>7</th>\n",
       "      <td>1.8</td>\n",
       "      <td>2</td>\n",
       "      <td>0.109794</td>\n",
       "      <td>4.8</td>\n",
       "      <td>2</td>\n",
       "      <td>6.2</td>\n",
       "      <td>28879251-80f5-4db9-a45f-14c019ed894d</td>\n",
       "      <td>2.8</td>\n",
       "    </tr>\n",
       "  </tbody>\n",
       "</table>\n",
       "</div>"
      ],
      "text/plain": [
       "   petal-width  .session_training_index  .influence_weight  petal-length  \\\n",
       "0          1.5                       22           0.156602           4.9   \n",
       "1          1.5                       36           0.147282           4.7   \n",
       "2          1.8                       77           0.130476           5.5   \n",
       "3          1.8                       32           0.116727           5.5   \n",
       "4          1.8                       47           0.113298           4.9   \n",
       "5          1.5                       17           0.113021           5.1   \n",
       "6          1.5                       24           0.112800           4.6   \n",
       "7          1.8                        2           0.109794           4.8   \n",
       "\n",
       "   target  sepal-length                              .session  sepal-width  \n",
       "0       1           6.9  28879251-80f5-4db9-a45f-14c019ed894d          3.1  \n",
       "1       1           6.7  28879251-80f5-4db9-a45f-14c019ed894d          3.1  \n",
       "2       2           6.5  28879251-80f5-4db9-a45f-14c019ed894d          3.0  \n",
       "3       2           6.4  28879251-80f5-4db9-a45f-14c019ed894d          3.1  \n",
       "4       2           6.3  28879251-80f5-4db9-a45f-14c019ed894d          2.7  \n",
       "5       2           6.3  28879251-80f5-4db9-a45f-14c019ed894d          2.8  \n",
       "6       1           6.5  28879251-80f5-4db9-a45f-14c019ed894d          2.8  \n",
       "7       2           6.2  28879251-80f5-4db9-a45f-14c019ed894d          2.8  "
      ]
     },
     "execution_count": 13,
     "metadata": {},
     "output_type": "execute_result"
    }
   ],
   "source": [
    "inf_cases_24 = pd.DataFrame(reaction[\"details\"][\"influential_cases\"][24])\n",
    "inf_cases_24"
   ]
  },
  {
   "cell_type": "markdown",
   "metadata": {},
   "source": [
    "Compare that to the influential cases for case `29`, which is firmly in the center of the solo cluster.  Here we see a single target value."
   ]
  },
  {
   "cell_type": "code",
   "execution_count": 15,
   "metadata": {},
   "outputs": [
    {
     "data": {
      "text/html": [
       "<div>\n",
       "<style scoped>\n",
       "    .dataframe tbody tr th:only-of-type {\n",
       "        vertical-align: middle;\n",
       "    }\n",
       "\n",
       "    .dataframe tbody tr th {\n",
       "        vertical-align: top;\n",
       "    }\n",
       "\n",
       "    .dataframe thead th {\n",
       "        text-align: right;\n",
       "    }\n",
       "</style>\n",
       "<table border=\"1\" class=\"dataframe\">\n",
       "  <thead>\n",
       "    <tr style=\"text-align: right;\">\n",
       "      <th></th>\n",
       "      <th>petal-width</th>\n",
       "      <th>.session_training_index</th>\n",
       "      <th>.influence_weight</th>\n",
       "      <th>petal-length</th>\n",
       "      <th>target</th>\n",
       "      <th>sepal-length</th>\n",
       "      <th>.session</th>\n",
       "      <th>sepal-width</th>\n",
       "    </tr>\n",
       "  </thead>\n",
       "  <tbody>\n",
       "    <tr>\n",
       "      <th>0</th>\n",
       "      <td>0.5</td>\n",
       "      <td>115</td>\n",
       "      <td>0.173459</td>\n",
       "      <td>1.7</td>\n",
       "      <td>0</td>\n",
       "      <td>5.1</td>\n",
       "      <td>28879251-80f5-4db9-a45f-14c019ed894d</td>\n",
       "      <td>3.3</td>\n",
       "    </tr>\n",
       "    <tr>\n",
       "      <th>1</th>\n",
       "      <td>0.3</td>\n",
       "      <td>27</td>\n",
       "      <td>0.148637</td>\n",
       "      <td>1.4</td>\n",
       "      <td>0</td>\n",
       "      <td>5.1</td>\n",
       "      <td>28879251-80f5-4db9-a45f-14c019ed894d</td>\n",
       "      <td>3.5</td>\n",
       "    </tr>\n",
       "    <tr>\n",
       "      <th>2</th>\n",
       "      <td>0.3</td>\n",
       "      <td>56</td>\n",
       "      <td>0.128717</td>\n",
       "      <td>1.3</td>\n",
       "      <td>0</td>\n",
       "      <td>5.0</td>\n",
       "      <td>28879251-80f5-4db9-a45f-14c019ed894d</td>\n",
       "      <td>3.5</td>\n",
       "    </tr>\n",
       "    <tr>\n",
       "      <th>3</th>\n",
       "      <td>0.2</td>\n",
       "      <td>89</td>\n",
       "      <td>0.123908</td>\n",
       "      <td>1.5</td>\n",
       "      <td>0</td>\n",
       "      <td>5.0</td>\n",
       "      <td>28879251-80f5-4db9-a45f-14c019ed894d</td>\n",
       "      <td>3.4</td>\n",
       "    </tr>\n",
       "    <tr>\n",
       "      <th>4</th>\n",
       "      <td>0.4</td>\n",
       "      <td>55</td>\n",
       "      <td>0.109599</td>\n",
       "      <td>1.5</td>\n",
       "      <td>0</td>\n",
       "      <td>5.4</td>\n",
       "      <td>28879251-80f5-4db9-a45f-14c019ed894d</td>\n",
       "      <td>3.4</td>\n",
       "    </tr>\n",
       "    <tr>\n",
       "      <th>5</th>\n",
       "      <td>0.2</td>\n",
       "      <td>14</td>\n",
       "      <td>0.107736</td>\n",
       "      <td>1.4</td>\n",
       "      <td>0</td>\n",
       "      <td>5.0</td>\n",
       "      <td>28879251-80f5-4db9-a45f-14c019ed894d</td>\n",
       "      <td>3.3</td>\n",
       "    </tr>\n",
       "    <tr>\n",
       "      <th>6</th>\n",
       "      <td>0.2</td>\n",
       "      <td>43</td>\n",
       "      <td>0.104767</td>\n",
       "      <td>1.4</td>\n",
       "      <td>0</td>\n",
       "      <td>5.1</td>\n",
       "      <td>28879251-80f5-4db9-a45f-14c019ed894d</td>\n",
       "      <td>3.5</td>\n",
       "    </tr>\n",
       "    <tr>\n",
       "      <th>7</th>\n",
       "      <td>0.2</td>\n",
       "      <td>101</td>\n",
       "      <td>0.103177</td>\n",
       "      <td>1.5</td>\n",
       "      <td>0</td>\n",
       "      <td>5.2</td>\n",
       "      <td>28879251-80f5-4db9-a45f-14c019ed894d</td>\n",
       "      <td>3.5</td>\n",
       "    </tr>\n",
       "  </tbody>\n",
       "</table>\n",
       "</div>"
      ],
      "text/plain": [
       "   petal-width  .session_training_index  .influence_weight  petal-length  \\\n",
       "0          0.5                      115           0.173459           1.7   \n",
       "1          0.3                       27           0.148637           1.4   \n",
       "2          0.3                       56           0.128717           1.3   \n",
       "3          0.2                       89           0.123908           1.5   \n",
       "4          0.4                       55           0.109599           1.5   \n",
       "5          0.2                       14           0.107736           1.4   \n",
       "6          0.2                       43           0.104767           1.4   \n",
       "7          0.2                      101           0.103177           1.5   \n",
       "\n",
       "   target  sepal-length                              .session  sepal-width  \n",
       "0       0           5.1  28879251-80f5-4db9-a45f-14c019ed894d          3.3  \n",
       "1       0           5.1  28879251-80f5-4db9-a45f-14c019ed894d          3.5  \n",
       "2       0           5.0  28879251-80f5-4db9-a45f-14c019ed894d          3.5  \n",
       "3       0           5.0  28879251-80f5-4db9-a45f-14c019ed894d          3.4  \n",
       "4       0           5.4  28879251-80f5-4db9-a45f-14c019ed894d          3.4  \n",
       "5       0           5.0  28879251-80f5-4db9-a45f-14c019ed894d          3.3  \n",
       "6       0           5.1  28879251-80f5-4db9-a45f-14c019ed894d          3.5  \n",
       "7       0           5.2  28879251-80f5-4db9-a45f-14c019ed894d          3.5  "
      ]
     },
     "execution_count": 15,
     "metadata": {},
     "output_type": "execute_result"
    }
   ],
   "source": [
    "inf_cases_29 = pd.DataFrame(reaction[\"details\"][\"influential_cases\"][29])\n",
    "inf_cases_29"
   ]
  },
  {
   "cell_type": "markdown",
   "metadata": {},
   "source": [
    "With the influential cases we can derive additional insights, such as identifying anomalous cases from within the influential cases using `similarity_conviction`.  \n",
    "This can help to identify data that are making predictions more noisy or identify what type of data should be collected to improve predictive power in the future."
   ]
  },
  {
   "cell_type": "code",
   "execution_count": 16,
   "metadata": {},
   "outputs": [
    {
     "data": {
      "text/html": [
       "<div>\n",
       "<style scoped>\n",
       "    .dataframe tbody tr th:only-of-type {\n",
       "        vertical-align: middle;\n",
       "    }\n",
       "\n",
       "    .dataframe tbody tr th {\n",
       "        vertical-align: top;\n",
       "    }\n",
       "\n",
       "    .dataframe thead th {\n",
       "        text-align: right;\n",
       "    }\n",
       "</style>\n",
       "<table border=\"1\" class=\"dataframe\">\n",
       "  <thead>\n",
       "    <tr style=\"text-align: right;\">\n",
       "      <th></th>\n",
       "      <th>sepal-length</th>\n",
       "      <th>sepal-width</th>\n",
       "      <th>petal-length</th>\n",
       "      <th>petal-width</th>\n",
       "      <th>target</th>\n",
       "      <th>similarity_conviction</th>\n",
       "    </tr>\n",
       "  </thead>\n",
       "  <tbody>\n",
       "    <tr>\n",
       "      <th>5</th>\n",
       "      <td>6.3</td>\n",
       "      <td>2.8</td>\n",
       "      <td>5.1</td>\n",
       "      <td>1.5</td>\n",
       "      <td>2</td>\n",
       "      <td>0.894774</td>\n",
       "    </tr>\n",
       "    <tr>\n",
       "      <th>0</th>\n",
       "      <td>6.9</td>\n",
       "      <td>3.1</td>\n",
       "      <td>4.9</td>\n",
       "      <td>1.5</td>\n",
       "      <td>1</td>\n",
       "      <td>0.952260</td>\n",
       "    </tr>\n",
       "    <tr>\n",
       "      <th>6</th>\n",
       "      <td>6.5</td>\n",
       "      <td>2.8</td>\n",
       "      <td>4.6</td>\n",
       "      <td>1.5</td>\n",
       "      <td>1</td>\n",
       "      <td>0.992310</td>\n",
       "    </tr>\n",
       "    <tr>\n",
       "      <th>1</th>\n",
       "      <td>6.7</td>\n",
       "      <td>3.1</td>\n",
       "      <td>4.7</td>\n",
       "      <td>1.5</td>\n",
       "      <td>1</td>\n",
       "      <td>1.167468</td>\n",
       "    </tr>\n",
       "    <tr>\n",
       "      <th>3</th>\n",
       "      <td>6.4</td>\n",
       "      <td>3.1</td>\n",
       "      <td>5.5</td>\n",
       "      <td>1.8</td>\n",
       "      <td>2</td>\n",
       "      <td>1.263361</td>\n",
       "    </tr>\n",
       "    <tr>\n",
       "      <th>2</th>\n",
       "      <td>6.5</td>\n",
       "      <td>3.0</td>\n",
       "      <td>5.5</td>\n",
       "      <td>1.8</td>\n",
       "      <td>2</td>\n",
       "      <td>1.306136</td>\n",
       "    </tr>\n",
       "    <tr>\n",
       "      <th>4</th>\n",
       "      <td>6.3</td>\n",
       "      <td>2.7</td>\n",
       "      <td>4.9</td>\n",
       "      <td>1.8</td>\n",
       "      <td>2</td>\n",
       "      <td>1.354666</td>\n",
       "    </tr>\n",
       "    <tr>\n",
       "      <th>7</th>\n",
       "      <td>6.2</td>\n",
       "      <td>2.8</td>\n",
       "      <td>4.8</td>\n",
       "      <td>1.8</td>\n",
       "      <td>2</td>\n",
       "      <td>1.389361</td>\n",
       "    </tr>\n",
       "  </tbody>\n",
       "</table>\n",
       "</div>"
      ],
      "text/plain": [
       "   sepal-length  sepal-width  petal-length  petal-width  target  \\\n",
       "5           6.3          2.8           5.1          1.5       2   \n",
       "0           6.9          3.1           4.9          1.5       1   \n",
       "6           6.5          2.8           4.6          1.5       1   \n",
       "1           6.7          3.1           4.7          1.5       1   \n",
       "3           6.4          3.1           5.5          1.8       2   \n",
       "2           6.5          3.0           5.5          1.8       2   \n",
       "4           6.3          2.7           4.9          1.8       2   \n",
       "7           6.2          2.8           4.8          1.8       2   \n",
       "\n",
       "   similarity_conviction  \n",
       "5               0.894774  \n",
       "0               0.952260  \n",
       "6               0.992310  \n",
       "1               1.167468  \n",
       "3               1.263361  \n",
       "2               1.306136  \n",
       "4               1.354666  \n",
       "7               1.389361  "
      ]
     },
     "execution_count": 16,
     "metadata": {},
     "output_type": "execute_result"
    }
   ],
   "source": [
    "inf_case_indices = inf_cases_24[[\".session\", \".session_training_index\"]].values.tolist()\n",
    "\n",
    "anom_df = t.get_cases(\n",
    "    case_indices=inf_case_indices,\n",
    "    features=[\"sepal-length\", \"sepal-width\", \"petal-length\", \"petal-width\", \"target\", \"similarity_conviction\"]\n",
    ")\n",
    "\n",
    "anom_df.sort_values(by=\"similarity_conviction\")"
   ]
  },
  {
   "cell_type": "code",
   "execution_count": 20,
   "metadata": {},
   "outputs": [
    {
     "data": {
      "text/html": [
       "<div>\n",
       "<style scoped>\n",
       "    .dataframe tbody tr th:only-of-type {\n",
       "        vertical-align: middle;\n",
       "    }\n",
       "\n",
       "    .dataframe tbody tr th {\n",
       "        vertical-align: top;\n",
       "    }\n",
       "\n",
       "    .dataframe thead th {\n",
       "        text-align: right;\n",
       "    }\n",
       "</style>\n",
       "<table border=\"1\" class=\"dataframe\">\n",
       "  <thead>\n",
       "    <tr style=\"text-align: right;\">\n",
       "      <th></th>\n",
       "      <th>sepal-length</th>\n",
       "      <th>sepal-width</th>\n",
       "      <th>petal-length</th>\n",
       "      <th>petal-width</th>\n",
       "      <th>target</th>\n",
       "      <th>similarity_conviction</th>\n",
       "    </tr>\n",
       "  </thead>\n",
       "  <tbody>\n",
       "    <tr>\n",
       "      <th>0</th>\n",
       "      <td>5.1</td>\n",
       "      <td>3.3</td>\n",
       "      <td>1.7</td>\n",
       "      <td>0.5</td>\n",
       "      <td>0</td>\n",
       "      <td>0.536097</td>\n",
       "    </tr>\n",
       "    <tr>\n",
       "      <th>4</th>\n",
       "      <td>5.4</td>\n",
       "      <td>3.4</td>\n",
       "      <td>1.5</td>\n",
       "      <td>0.4</td>\n",
       "      <td>0</td>\n",
       "      <td>0.727310</td>\n",
       "    </tr>\n",
       "    <tr>\n",
       "      <th>5</th>\n",
       "      <td>5.0</td>\n",
       "      <td>3.3</td>\n",
       "      <td>1.4</td>\n",
       "      <td>0.2</td>\n",
       "      <td>0</td>\n",
       "      <td>1.146473</td>\n",
       "    </tr>\n",
       "    <tr>\n",
       "      <th>2</th>\n",
       "      <td>5.0</td>\n",
       "      <td>3.5</td>\n",
       "      <td>1.3</td>\n",
       "      <td>0.3</td>\n",
       "      <td>0</td>\n",
       "      <td>1.174412</td>\n",
       "    </tr>\n",
       "    <tr>\n",
       "      <th>3</th>\n",
       "      <td>5.0</td>\n",
       "      <td>3.4</td>\n",
       "      <td>1.5</td>\n",
       "      <td>0.2</td>\n",
       "      <td>0</td>\n",
       "      <td>1.275603</td>\n",
       "    </tr>\n",
       "    <tr>\n",
       "      <th>1</th>\n",
       "      <td>5.1</td>\n",
       "      <td>3.5</td>\n",
       "      <td>1.4</td>\n",
       "      <td>0.3</td>\n",
       "      <td>0</td>\n",
       "      <td>1.345639</td>\n",
       "    </tr>\n",
       "    <tr>\n",
       "      <th>7</th>\n",
       "      <td>5.2</td>\n",
       "      <td>3.5</td>\n",
       "      <td>1.5</td>\n",
       "      <td>0.2</td>\n",
       "      <td>0</td>\n",
       "      <td>1.436891</td>\n",
       "    </tr>\n",
       "    <tr>\n",
       "      <th>6</th>\n",
       "      <td>5.1</td>\n",
       "      <td>3.5</td>\n",
       "      <td>1.4</td>\n",
       "      <td>0.2</td>\n",
       "      <td>0</td>\n",
       "      <td>1.504348</td>\n",
       "    </tr>\n",
       "  </tbody>\n",
       "</table>\n",
       "</div>"
      ],
      "text/plain": [
       "   sepal-length  sepal-width  petal-length  petal-width  target  \\\n",
       "0           5.1          3.3           1.7          0.5       0   \n",
       "4           5.4          3.4           1.5          0.4       0   \n",
       "5           5.0          3.3           1.4          0.2       0   \n",
       "2           5.0          3.5           1.3          0.3       0   \n",
       "3           5.0          3.4           1.5          0.2       0   \n",
       "1           5.1          3.5           1.4          0.3       0   \n",
       "7           5.2          3.5           1.5          0.2       0   \n",
       "6           5.1          3.5           1.4          0.2       0   \n",
       "\n",
       "   similarity_conviction  \n",
       "0               0.536097  \n",
       "4               0.727310  \n",
       "5               1.146473  \n",
       "2               1.174412  \n",
       "3               1.275603  \n",
       "1               1.345639  \n",
       "7               1.436891  \n",
       "6               1.504348  "
      ]
     },
     "execution_count": 20,
     "metadata": {},
     "output_type": "execute_result"
    }
   ],
   "source": [
    "inf_case_indices = inf_cases_29[[\".session\", \".session_training_index\"]].values.tolist()\n",
    "\n",
    "anom_df = t.get_cases(\n",
    "    case_indices=inf_case_indices,\n",
    "    features=[\"sepal-length\", \"sepal-width\", \"petal-length\", \"petal-width\", \"target\", \"similarity_conviction\"],\n",
    ")\n",
    "\n",
    "anom_df.sort_values(by=\"similarity_conviction\")"
   ]
  },
  {
   "cell_type": "markdown",
   "metadata": {},
   "source": [
    "### Insight 2: Which Features Contributed?\n",
    "\n",
    "In addition to providing attribution to cases, Howso also provides robust feature contributions to explain which features contributed to each prediction.\n",
    "When inspecting the feature importances for case `24`,  we see that `petal-width` and `petal-length` provided the majority of the contribution to the \n",
    "prediction, whereas for case `29` `petal-width` and `petal-length` only have slightly higher contributions than the other features.  This could indicate \n",
    "that different features are more important for predicting different classes within this dataset and that focusing on those features would be prudent."
   ]
  },
  {
   "cell_type": "code",
   "execution_count": 30,
   "metadata": {},
   "outputs": [
    {
     "data": {
      "text/html": [
       "<div>\n",
       "<style scoped>\n",
       "    .dataframe tbody tr th:only-of-type {\n",
       "        vertical-align: middle;\n",
       "    }\n",
       "\n",
       "    .dataframe tbody tr th {\n",
       "        vertical-align: top;\n",
       "    }\n",
       "\n",
       "    .dataframe thead th {\n",
       "        text-align: right;\n",
       "    }\n",
       "</style>\n",
       "<table border=\"1\" class=\"dataframe\">\n",
       "  <thead>\n",
       "    <tr style=\"text-align: right;\">\n",
       "      <th></th>\n",
       "      <th>petal-width</th>\n",
       "      <th>petal-length</th>\n",
       "      <th>sepal-length</th>\n",
       "      <th>sepal-width</th>\n",
       "    </tr>\n",
       "  </thead>\n",
       "  <tbody>\n",
       "    <tr>\n",
       "      <th>24</th>\n",
       "      <td>0.396829</td>\n",
       "      <td>0.290322</td>\n",
       "      <td>0.07591</td>\n",
       "      <td>0.113755</td>\n",
       "    </tr>\n",
       "  </tbody>\n",
       "</table>\n",
       "</div>"
      ],
      "text/plain": [
       "    petal-width  petal-length  sepal-length  sepal-width\n",
       "24     0.396829      0.290322       0.07591     0.113755"
      ]
     },
     "metadata": {},
     "output_type": "display_data"
    },
    {
     "data": {
      "text/html": [
       "<div>\n",
       "<style scoped>\n",
       "    .dataframe tbody tr th:only-of-type {\n",
       "        vertical-align: middle;\n",
       "    }\n",
       "\n",
       "    .dataframe tbody tr th {\n",
       "        vertical-align: top;\n",
       "    }\n",
       "\n",
       "    .dataframe thead th {\n",
       "        text-align: right;\n",
       "    }\n",
       "</style>\n",
       "<table border=\"1\" class=\"dataframe\">\n",
       "  <thead>\n",
       "    <tr style=\"text-align: right;\">\n",
       "      <th></th>\n",
       "      <th>petal-width</th>\n",
       "      <th>petal-length</th>\n",
       "      <th>sepal-length</th>\n",
       "      <th>sepal-width</th>\n",
       "    </tr>\n",
       "  </thead>\n",
       "  <tbody>\n",
       "    <tr>\n",
       "      <th>29</th>\n",
       "      <td>0.18456</td>\n",
       "      <td>0.182821</td>\n",
       "      <td>0.142534</td>\n",
       "      <td>0.118256</td>\n",
       "    </tr>\n",
       "  </tbody>\n",
       "</table>\n",
       "</div>"
      ],
      "text/plain": [
       "    petal-width  petal-length  sepal-length  sepal-width\n",
       "29      0.18456      0.182821      0.142534     0.118256"
      ]
     },
     "metadata": {},
     "output_type": "display_data"
    }
   ],
   "source": [
    "fcs_24 = pd.DataFrame(reaction[\"details\"][\"feature_contributions\"][24:25], index=[24])\n",
    "fcs_29 = pd.DataFrame(reaction[\"details\"][\"feature_contributions\"][29:30], index=[29])\n",
    "\n",
    "display(fcs_24)\n",
    "display(fcs_29)\n"
   ]
  },
  {
   "cell_type": "markdown",
   "metadata": {},
   "source": [
    "### Insight 3: How Certain is the Prediction?"
   ]
  },
  {
   "cell_type": "markdown",
   "metadata": {},
   "source": [
    "Residuals can characterize the uncertainty of the data around the prediction.  This will tell us which features are hard to predict in the region of the data around each case we're predicting.\n",
    "If a prediction is less accurate than expected, this can explain which features were noisy and may have contributed to the problem."
   ]
  },
  {
   "cell_type": "code",
   "execution_count": 32,
   "metadata": {},
   "outputs": [
    {
     "data": {
      "text/html": [
       "<div>\n",
       "<style scoped>\n",
       "    .dataframe tbody tr th:only-of-type {\n",
       "        vertical-align: middle;\n",
       "    }\n",
       "\n",
       "    .dataframe tbody tr th {\n",
       "        vertical-align: top;\n",
       "    }\n",
       "\n",
       "    .dataframe thead th {\n",
       "        text-align: right;\n",
       "    }\n",
       "</style>\n",
       "<table border=\"1\" class=\"dataframe\">\n",
       "  <thead>\n",
       "    <tr style=\"text-align: right;\">\n",
       "      <th></th>\n",
       "      <th>petal-width</th>\n",
       "      <th>petal-length</th>\n",
       "      <th>target</th>\n",
       "      <th>sepal-length</th>\n",
       "      <th>sepal-width</th>\n",
       "    </tr>\n",
       "  </thead>\n",
       "  <tbody>\n",
       "    <tr>\n",
       "      <th>0</th>\n",
       "      <td>0.233953</td>\n",
       "      <td>0.233947</td>\n",
       "      <td>0.094208</td>\n",
       "      <td>0.358054</td>\n",
       "      <td>0.180603</td>\n",
       "    </tr>\n",
       "    <tr>\n",
       "      <th>1</th>\n",
       "      <td>0.314069</td>\n",
       "      <td>0.538957</td>\n",
       "      <td>0.356791</td>\n",
       "      <td>0.300647</td>\n",
       "      <td>0.216106</td>\n",
       "    </tr>\n",
       "    <tr>\n",
       "      <th>2</th>\n",
       "      <td>0.313955</td>\n",
       "      <td>0.515043</td>\n",
       "      <td>0.338897</td>\n",
       "      <td>0.314033</td>\n",
       "      <td>0.296043</td>\n",
       "    </tr>\n",
       "    <tr>\n",
       "      <th>3</th>\n",
       "      <td>0.380251</td>\n",
       "      <td>0.382194</td>\n",
       "      <td>0.093750</td>\n",
       "      <td>0.379551</td>\n",
       "      <td>0.169230</td>\n",
       "    </tr>\n",
       "    <tr>\n",
       "      <th>4</th>\n",
       "      <td>0.275574</td>\n",
       "      <td>0.445493</td>\n",
       "      <td>0.254714</td>\n",
       "      <td>0.363986</td>\n",
       "      <td>0.197646</td>\n",
       "    </tr>\n",
       "    <tr>\n",
       "      <th>5</th>\n",
       "      <td>0.179338</td>\n",
       "      <td>0.318666</td>\n",
       "      <td>0.102229</td>\n",
       "      <td>0.300717</td>\n",
       "      <td>0.233942</td>\n",
       "    </tr>\n",
       "    <tr>\n",
       "      <th>6</th>\n",
       "      <td>0.189839</td>\n",
       "      <td>0.447000</td>\n",
       "      <td>0.318182</td>\n",
       "      <td>0.421429</td>\n",
       "      <td>0.409611</td>\n",
       "    </tr>\n",
       "    <tr>\n",
       "      <th>7</th>\n",
       "      <td>0.140272</td>\n",
       "      <td>0.378000</td>\n",
       "      <td>0.180952</td>\n",
       "      <td>0.371410</td>\n",
       "      <td>0.281185</td>\n",
       "    </tr>\n",
       "    <tr>\n",
       "      <th>8</th>\n",
       "      <td>0.194962</td>\n",
       "      <td>0.360718</td>\n",
       "      <td>0.258733</td>\n",
       "      <td>0.299183</td>\n",
       "      <td>0.182117</td>\n",
       "    </tr>\n",
       "    <tr>\n",
       "      <th>9</th>\n",
       "      <td>0.186610</td>\n",
       "      <td>0.368168</td>\n",
       "      <td>0.181440</td>\n",
       "      <td>0.224058</td>\n",
       "      <td>0.160727</td>\n",
       "    </tr>\n",
       "    <tr>\n",
       "      <th>10</th>\n",
       "      <td>0.301799</td>\n",
       "      <td>1.049032</td>\n",
       "      <td>0.204167</td>\n",
       "      <td>0.452652</td>\n",
       "      <td>0.273294</td>\n",
       "    </tr>\n",
       "    <tr>\n",
       "      <th>11</th>\n",
       "      <td>0.132766</td>\n",
       "      <td>0.211646</td>\n",
       "      <td>0.037037</td>\n",
       "      <td>0.263991</td>\n",
       "      <td>0.310738</td>\n",
       "    </tr>\n",
       "    <tr>\n",
       "      <th>12</th>\n",
       "      <td>0.150057</td>\n",
       "      <td>0.313592</td>\n",
       "      <td>0.125000</td>\n",
       "      <td>0.393889</td>\n",
       "      <td>0.178611</td>\n",
       "    </tr>\n",
       "    <tr>\n",
       "      <th>13</th>\n",
       "      <td>0.108347</td>\n",
       "      <td>0.191788</td>\n",
       "      <td>0.023810</td>\n",
       "      <td>0.276728</td>\n",
       "      <td>0.151530</td>\n",
       "    </tr>\n",
       "    <tr>\n",
       "      <th>14</th>\n",
       "      <td>0.253213</td>\n",
       "      <td>0.645620</td>\n",
       "      <td>0.148148</td>\n",
       "      <td>0.479219</td>\n",
       "      <td>0.240223</td>\n",
       "    </tr>\n",
       "    <tr>\n",
       "      <th>15</th>\n",
       "      <td>0.250667</td>\n",
       "      <td>0.244017</td>\n",
       "      <td>0.100064</td>\n",
       "      <td>0.265380</td>\n",
       "      <td>0.214768</td>\n",
       "    </tr>\n",
       "    <tr>\n",
       "      <th>16</th>\n",
       "      <td>0.373970</td>\n",
       "      <td>0.911674</td>\n",
       "      <td>0.231911</td>\n",
       "      <td>0.409214</td>\n",
       "      <td>0.198972</td>\n",
       "    </tr>\n",
       "    <tr>\n",
       "      <th>17</th>\n",
       "      <td>0.578343</td>\n",
       "      <td>1.265494</td>\n",
       "      <td>0.265849</td>\n",
       "      <td>0.794731</td>\n",
       "      <td>0.205080</td>\n",
       "    </tr>\n",
       "    <tr>\n",
       "      <th>18</th>\n",
       "      <td>0.256461</td>\n",
       "      <td>0.666801</td>\n",
       "      <td>0.111615</td>\n",
       "      <td>0.485328</td>\n",
       "      <td>0.377854</td>\n",
       "    </tr>\n",
       "    <tr>\n",
       "      <th>19</th>\n",
       "      <td>0.179828</td>\n",
       "      <td>0.219572</td>\n",
       "      <td>0.109651</td>\n",
       "      <td>0.504436</td>\n",
       "      <td>0.151731</td>\n",
       "    </tr>\n",
       "    <tr>\n",
       "      <th>20</th>\n",
       "      <td>0.122944</td>\n",
       "      <td>0.261909</td>\n",
       "      <td>0.014156</td>\n",
       "      <td>0.353295</td>\n",
       "      <td>0.252817</td>\n",
       "    </tr>\n",
       "    <tr>\n",
       "      <th>21</th>\n",
       "      <td>0.114410</td>\n",
       "      <td>0.332554</td>\n",
       "      <td>0.150887</td>\n",
       "      <td>0.425932</td>\n",
       "      <td>0.197890</td>\n",
       "    </tr>\n",
       "    <tr>\n",
       "      <th>22</th>\n",
       "      <td>0.234269</td>\n",
       "      <td>0.341542</td>\n",
       "      <td>0.572779</td>\n",
       "      <td>0.254283</td>\n",
       "      <td>0.227532</td>\n",
       "    </tr>\n",
       "    <tr>\n",
       "      <th>23</th>\n",
       "      <td>0.264716</td>\n",
       "      <td>0.254188</td>\n",
       "      <td>0.219883</td>\n",
       "      <td>0.417040</td>\n",
       "      <td>0.246542</td>\n",
       "    </tr>\n",
       "    <tr>\n",
       "      <th>24</th>\n",
       "      <td>0.202419</td>\n",
       "      <td>0.254769</td>\n",
       "      <td>0.191442</td>\n",
       "      <td>0.454506</td>\n",
       "      <td>0.277960</td>\n",
       "    </tr>\n",
       "    <tr>\n",
       "      <th>25</th>\n",
       "      <td>0.277863</td>\n",
       "      <td>0.885168</td>\n",
       "      <td>0.153247</td>\n",
       "      <td>0.421138</td>\n",
       "      <td>0.448069</td>\n",
       "    </tr>\n",
       "    <tr>\n",
       "      <th>26</th>\n",
       "      <td>0.255728</td>\n",
       "      <td>0.687735</td>\n",
       "      <td>0.248148</td>\n",
       "      <td>0.423608</td>\n",
       "      <td>0.492794</td>\n",
       "    </tr>\n",
       "    <tr>\n",
       "      <th>27</th>\n",
       "      <td>0.213013</td>\n",
       "      <td>0.671103</td>\n",
       "      <td>0.083333</td>\n",
       "      <td>0.251168</td>\n",
       "      <td>0.341120</td>\n",
       "    </tr>\n",
       "    <tr>\n",
       "      <th>28</th>\n",
       "      <td>0.113370</td>\n",
       "      <td>0.285720</td>\n",
       "      <td>0.025974</td>\n",
       "      <td>0.174590</td>\n",
       "      <td>0.216255</td>\n",
       "    </tr>\n",
       "    <tr>\n",
       "      <th>29</th>\n",
       "      <td>0.073128</td>\n",
       "      <td>0.123443</td>\n",
       "      <td>0.008264</td>\n",
       "      <td>0.284182</td>\n",
       "      <td>0.325452</td>\n",
       "    </tr>\n",
       "  </tbody>\n",
       "</table>\n",
       "</div>"
      ],
      "text/plain": [
       "    petal-width  petal-length    target  sepal-length  sepal-width\n",
       "0      0.233953      0.233947  0.094208      0.358054     0.180603\n",
       "1      0.314069      0.538957  0.356791      0.300647     0.216106\n",
       "2      0.313955      0.515043  0.338897      0.314033     0.296043\n",
       "3      0.380251      0.382194  0.093750      0.379551     0.169230\n",
       "4      0.275574      0.445493  0.254714      0.363986     0.197646\n",
       "5      0.179338      0.318666  0.102229      0.300717     0.233942\n",
       "6      0.189839      0.447000  0.318182      0.421429     0.409611\n",
       "7      0.140272      0.378000  0.180952      0.371410     0.281185\n",
       "8      0.194962      0.360718  0.258733      0.299183     0.182117\n",
       "9      0.186610      0.368168  0.181440      0.224058     0.160727\n",
       "10     0.301799      1.049032  0.204167      0.452652     0.273294\n",
       "11     0.132766      0.211646  0.037037      0.263991     0.310738\n",
       "12     0.150057      0.313592  0.125000      0.393889     0.178611\n",
       "13     0.108347      0.191788  0.023810      0.276728     0.151530\n",
       "14     0.253213      0.645620  0.148148      0.479219     0.240223\n",
       "15     0.250667      0.244017  0.100064      0.265380     0.214768\n",
       "16     0.373970      0.911674  0.231911      0.409214     0.198972\n",
       "17     0.578343      1.265494  0.265849      0.794731     0.205080\n",
       "18     0.256461      0.666801  0.111615      0.485328     0.377854\n",
       "19     0.179828      0.219572  0.109651      0.504436     0.151731\n",
       "20     0.122944      0.261909  0.014156      0.353295     0.252817\n",
       "21     0.114410      0.332554  0.150887      0.425932     0.197890\n",
       "22     0.234269      0.341542  0.572779      0.254283     0.227532\n",
       "23     0.264716      0.254188  0.219883      0.417040     0.246542\n",
       "24     0.202419      0.254769  0.191442      0.454506     0.277960\n",
       "25     0.277863      0.885168  0.153247      0.421138     0.448069\n",
       "26     0.255728      0.687735  0.248148      0.423608     0.492794\n",
       "27     0.213013      0.671103  0.083333      0.251168     0.341120\n",
       "28     0.113370      0.285720  0.025974      0.174590     0.216255\n",
       "29     0.073128      0.123443  0.008264      0.284182     0.325452"
      ]
     },
     "execution_count": 32,
     "metadata": {},
     "output_type": "execute_result"
    }
   ],
   "source": [
    "pd.DataFrame(reaction[\"details\"][\"feature_residuals\"])"
   ]
  },
  {
   "cell_type": "markdown",
   "metadata": {},
   "source": [
    "We can also use the `residual conviction` to determine which features are uncertain in a scale-invariant manner, which can be useful if you wish\n",
    "to compare different features of different scales against each other."
   ]
  },
  {
   "cell_type": "code",
   "execution_count": 35,
   "metadata": {},
   "outputs": [
    {
     "data": {
      "text/html": [
       "<div>\n",
       "<style scoped>\n",
       "    .dataframe tbody tr th:only-of-type {\n",
       "        vertical-align: middle;\n",
       "    }\n",
       "\n",
       "    .dataframe tbody tr th {\n",
       "        vertical-align: top;\n",
       "    }\n",
       "\n",
       "    .dataframe thead th {\n",
       "        text-align: right;\n",
       "    }\n",
       "</style>\n",
       "<table border=\"1\" class=\"dataframe\">\n",
       "  <thead>\n",
       "    <tr style=\"text-align: right;\">\n",
       "      <th></th>\n",
       "      <th>petal-width</th>\n",
       "      <th>petal-length</th>\n",
       "      <th>target</th>\n",
       "      <th>sepal-length</th>\n",
       "      <th>sepal-width</th>\n",
       "    </tr>\n",
       "  </thead>\n",
       "  <tbody>\n",
       "    <tr>\n",
       "      <th>0</th>\n",
       "      <td>1.457710</td>\n",
       "      <td>0.770319</td>\n",
       "      <td>1.235247</td>\n",
       "      <td>1.245840</td>\n",
       "      <td>0.665037</td>\n",
       "    </tr>\n",
       "    <tr>\n",
       "      <th>1</th>\n",
       "      <td>2.311301</td>\n",
       "      <td>2.467796</td>\n",
       "      <td>1.300407</td>\n",
       "      <td>0.982263</td>\n",
       "      <td>0.865275</td>\n",
       "    </tr>\n",
       "    <tr>\n",
       "      <th>2</th>\n",
       "      <td>1.830438</td>\n",
       "      <td>1.203424</td>\n",
       "      <td>1.271511</td>\n",
       "      <td>3.790964</td>\n",
       "      <td>2.037936</td>\n",
       "    </tr>\n",
       "    <tr>\n",
       "      <th>3</th>\n",
       "      <td>1.418110</td>\n",
       "      <td>1.059149</td>\n",
       "      <td>0.748340</td>\n",
       "      <td>1.177897</td>\n",
       "      <td>0.609685</td>\n",
       "    </tr>\n",
       "    <tr>\n",
       "      <th>4</th>\n",
       "      <td>1.062281</td>\n",
       "      <td>0.971513</td>\n",
       "      <td>0.850770</td>\n",
       "      <td>1.631110</td>\n",
       "      <td>1.102028</td>\n",
       "    </tr>\n",
       "    <tr>\n",
       "      <th>5</th>\n",
       "      <td>0.741677</td>\n",
       "      <td>1.202031</td>\n",
       "      <td>1.162123</td>\n",
       "      <td>3.126954</td>\n",
       "      <td>1.254369</td>\n",
       "    </tr>\n",
       "    <tr>\n",
       "      <th>6</th>\n",
       "      <td>1.206962</td>\n",
       "      <td>0.683119</td>\n",
       "      <td>0.432293</td>\n",
       "      <td>0.701598</td>\n",
       "      <td>1.157099</td>\n",
       "    </tr>\n",
       "    <tr>\n",
       "      <th>7</th>\n",
       "      <td>1.732242</td>\n",
       "      <td>0.366978</td>\n",
       "      <td>1.476163</td>\n",
       "      <td>0.760095</td>\n",
       "      <td>1.121176</td>\n",
       "    </tr>\n",
       "    <tr>\n",
       "      <th>8</th>\n",
       "      <td>0.697083</td>\n",
       "      <td>1.623602</td>\n",
       "      <td>1.292816</td>\n",
       "      <td>1.362158</td>\n",
       "      <td>0.656937</td>\n",
       "    </tr>\n",
       "    <tr>\n",
       "      <th>9</th>\n",
       "      <td>0.988870</td>\n",
       "      <td>1.344432</td>\n",
       "      <td>0.670218</td>\n",
       "      <td>1.689911</td>\n",
       "      <td>1.285247</td>\n",
       "    </tr>\n",
       "    <tr>\n",
       "      <th>10</th>\n",
       "      <td>0.526706</td>\n",
       "      <td>0.345594</td>\n",
       "      <td>0.861111</td>\n",
       "      <td>0.551740</td>\n",
       "      <td>1.128584</td>\n",
       "    </tr>\n",
       "    <tr>\n",
       "      <th>11</th>\n",
       "      <td>1.163581</td>\n",
       "      <td>0.488239</td>\n",
       "      <td>1.388889</td>\n",
       "      <td>0.878095</td>\n",
       "      <td>0.852237</td>\n",
       "    </tr>\n",
       "    <tr>\n",
       "      <th>12</th>\n",
       "      <td>3.676681</td>\n",
       "      <td>1.827595</td>\n",
       "      <td>1.502268</td>\n",
       "      <td>0.809495</td>\n",
       "      <td>1.559948</td>\n",
       "    </tr>\n",
       "    <tr>\n",
       "      <th>13</th>\n",
       "      <td>2.065584</td>\n",
       "      <td>1.134128</td>\n",
       "      <td>0.423280</td>\n",
       "      <td>0.677016</td>\n",
       "      <td>1.662787</td>\n",
       "    </tr>\n",
       "    <tr>\n",
       "      <th>14</th>\n",
       "      <td>0.203638</td>\n",
       "      <td>0.705539</td>\n",
       "      <td>1.666667</td>\n",
       "      <td>1.762488</td>\n",
       "      <td>1.358770</td>\n",
       "    </tr>\n",
       "    <tr>\n",
       "      <th>15</th>\n",
       "      <td>2.114072</td>\n",
       "      <td>1.663734</td>\n",
       "      <td>2.346611</td>\n",
       "      <td>0.834248</td>\n",
       "      <td>2.107099</td>\n",
       "    </tr>\n",
       "    <tr>\n",
       "      <th>16</th>\n",
       "      <td>0.924668</td>\n",
       "      <td>1.014383</td>\n",
       "      <td>1.392788</td>\n",
       "      <td>0.507884</td>\n",
       "      <td>1.193768</td>\n",
       "    </tr>\n",
       "    <tr>\n",
       "      <th>17</th>\n",
       "      <td>1.249936</td>\n",
       "      <td>0.829077</td>\n",
       "      <td>0.828022</td>\n",
       "      <td>0.372675</td>\n",
       "      <td>1.574055</td>\n",
       "    </tr>\n",
       "    <tr>\n",
       "      <th>18</th>\n",
       "      <td>1.403180</td>\n",
       "      <td>0.433820</td>\n",
       "      <td>0.419219</td>\n",
       "      <td>0.480081</td>\n",
       "      <td>0.589633</td>\n",
       "    </tr>\n",
       "    <tr>\n",
       "      <th>19</th>\n",
       "      <td>1.812264</td>\n",
       "      <td>0.665865</td>\n",
       "      <td>2.710701</td>\n",
       "      <td>1.678266</td>\n",
       "      <td>2.110560</td>\n",
       "    </tr>\n",
       "    <tr>\n",
       "      <th>20</th>\n",
       "      <td>1.141692</td>\n",
       "      <td>3.097042</td>\n",
       "      <td>1.181806</td>\n",
       "      <td>4.937506</td>\n",
       "      <td>1.804524</td>\n",
       "    </tr>\n",
       "    <tr>\n",
       "      <th>21</th>\n",
       "      <td>0.829789</td>\n",
       "      <td>0.790119</td>\n",
       "      <td>0.704962</td>\n",
       "      <td>0.830548</td>\n",
       "      <td>0.905430</td>\n",
       "    </tr>\n",
       "    <tr>\n",
       "      <th>22</th>\n",
       "      <td>0.484872</td>\n",
       "      <td>0.741324</td>\n",
       "      <td>0.907398</td>\n",
       "      <td>0.717933</td>\n",
       "      <td>1.264274</td>\n",
       "    </tr>\n",
       "    <tr>\n",
       "      <th>23</th>\n",
       "      <td>2.416140</td>\n",
       "      <td>1.081527</td>\n",
       "      <td>1.589088</td>\n",
       "      <td>1.636238</td>\n",
       "      <td>1.624614</td>\n",
       "    </tr>\n",
       "    <tr>\n",
       "      <th>24</th>\n",
       "      <td>1.135014</td>\n",
       "      <td>1.003892</td>\n",
       "      <td>0.676459</td>\n",
       "      <td>0.405208</td>\n",
       "      <td>1.128905</td>\n",
       "    </tr>\n",
       "    <tr>\n",
       "      <th>25</th>\n",
       "      <td>0.312211</td>\n",
       "      <td>3.232057</td>\n",
       "      <td>1.512346</td>\n",
       "      <td>1.541982</td>\n",
       "      <td>1.339778</td>\n",
       "    </tr>\n",
       "    <tr>\n",
       "      <th>26</th>\n",
       "      <td>3.629588</td>\n",
       "      <td>0.563859</td>\n",
       "      <td>0.082645</td>\n",
       "      <td>3.355603</td>\n",
       "      <td>1.723568</td>\n",
       "    </tr>\n",
       "    <tr>\n",
       "      <th>27</th>\n",
       "      <td>4.085956</td>\n",
       "      <td>4.526175</td>\n",
       "      <td>0.166667</td>\n",
       "      <td>2.307292</td>\n",
       "      <td>1.164583</td>\n",
       "    </tr>\n",
       "    <tr>\n",
       "      <th>28</th>\n",
       "      <td>2.997294</td>\n",
       "      <td>0.430649</td>\n",
       "      <td>0.840000</td>\n",
       "      <td>1.440775</td>\n",
       "      <td>0.910729</td>\n",
       "    </tr>\n",
       "    <tr>\n",
       "      <th>29</th>\n",
       "      <td>0.539938</td>\n",
       "      <td>1.066300</td>\n",
       "      <td>3.133903</td>\n",
       "      <td>1.068951</td>\n",
       "      <td>0.969151</td>\n",
       "    </tr>\n",
       "  </tbody>\n",
       "</table>\n",
       "</div>"
      ],
      "text/plain": [
       "    petal-width  petal-length    target  sepal-length  sepal-width\n",
       "0      1.457710      0.770319  1.235247      1.245840     0.665037\n",
       "1      2.311301      2.467796  1.300407      0.982263     0.865275\n",
       "2      1.830438      1.203424  1.271511      3.790964     2.037936\n",
       "3      1.418110      1.059149  0.748340      1.177897     0.609685\n",
       "4      1.062281      0.971513  0.850770      1.631110     1.102028\n",
       "5      0.741677      1.202031  1.162123      3.126954     1.254369\n",
       "6      1.206962      0.683119  0.432293      0.701598     1.157099\n",
       "7      1.732242      0.366978  1.476163      0.760095     1.121176\n",
       "8      0.697083      1.623602  1.292816      1.362158     0.656937\n",
       "9      0.988870      1.344432  0.670218      1.689911     1.285247\n",
       "10     0.526706      0.345594  0.861111      0.551740     1.128584\n",
       "11     1.163581      0.488239  1.388889      0.878095     0.852237\n",
       "12     3.676681      1.827595  1.502268      0.809495     1.559948\n",
       "13     2.065584      1.134128  0.423280      0.677016     1.662787\n",
       "14     0.203638      0.705539  1.666667      1.762488     1.358770\n",
       "15     2.114072      1.663734  2.346611      0.834248     2.107099\n",
       "16     0.924668      1.014383  1.392788      0.507884     1.193768\n",
       "17     1.249936      0.829077  0.828022      0.372675     1.574055\n",
       "18     1.403180      0.433820  0.419219      0.480081     0.589633\n",
       "19     1.812264      0.665865  2.710701      1.678266     2.110560\n",
       "20     1.141692      3.097042  1.181806      4.937506     1.804524\n",
       "21     0.829789      0.790119  0.704962      0.830548     0.905430\n",
       "22     0.484872      0.741324  0.907398      0.717933     1.264274\n",
       "23     2.416140      1.081527  1.589088      1.636238     1.624614\n",
       "24     1.135014      1.003892  0.676459      0.405208     1.128905\n",
       "25     0.312211      3.232057  1.512346      1.541982     1.339778\n",
       "26     3.629588      0.563859  0.082645      3.355603     1.723568\n",
       "27     4.085956      4.526175  0.166667      2.307292     1.164583\n",
       "28     2.997294      0.430649  0.840000      1.440775     0.910729\n",
       "29     0.539938      1.066300  3.133903      1.068951     0.969151"
      ]
     },
     "execution_count": 35,
     "metadata": {},
     "output_type": "execute_result"
    }
   ],
   "source": [
    "pd.DataFrame(reaction[\"details\"][\"local_case_feature_residual_convictions\"])"
   ]
  },
  {
   "cell_type": "markdown",
   "metadata": {},
   "source": [
    "### Insight 4: How Anomalous are the Predicted Cases?\n",
    "\n",
    "By getting the `similarity conviction` of the cases that we predict, we can determine which of them are anomalous relative to the trained data.\n",
    "This could help to highlight cases that are unusually difficult or easy to predict, as well as discover potentially malicious or poisoned cases."
   ]
  },
  {
   "cell_type": "code",
   "execution_count": 34,
   "metadata": {},
   "outputs": [
    {
     "name": "stdout",
     "output_type": "stream",
     "text": [
      "[0.944973813536701, 1.0634885812371422, 2.4591688656461055, 0.9459478034438302,\n",
      " 1.5043716628329622, 1.3148960999454378, 0.8593179782980951, 0.6111352473264055,\n",
      " 1.092451006936613, 1.1240962791385916, 0.6156625668364372, 0.9759978812244915,\n",
      " 0.8364501577689606, 1.2205135784345802, 1.105640525836773, 1.1640762161052323,\n",
      " 0.8811111989833429, 0.8022076896889794, 0.9228534517611904, 1.0371725437694723,\n",
      " 1.078206170467167, 0.9808268108925481, 1.033230709602799, 1.2635154300459304,\n",
      " 0.9022696746946363, 0.6142630858335968, 0.9599712973636446, 1.5076132971921148,\n",
      " 1.2673090525379531, 0.9304718966382368]\n"
     ]
    }
   ],
   "source": [
    "pprint(reaction[\"details\"][\"similarity_conviction\"], compact=True)"
   ]
  }
 ],
 "metadata": {
  "kernelspec": {
   "display_name": "engine-recipes-3.9",
   "language": "python",
   "name": "python3"
  },
  "language_info": {
   "codemirror_mode": {
    "name": "ipython",
    "version": 3
   },
   "file_extension": ".py",
   "mimetype": "text/x-python",
   "name": "python",
   "nbconvert_exporter": "python",
   "pygments_lexer": "ipython3",
   "version": "3.9.19"
  }
 },
 "nbformat": 4,
 "nbformat_minor": 2
}
