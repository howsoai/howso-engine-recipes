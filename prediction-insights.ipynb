{
 "cells": [
  {
   "cell_type": "markdown",
   "metadata": {},
   "source": [
    "# Prediction Insights"
   ]
  },
  {
   "cell_type": "markdown",
   "metadata": {},
   "source": [
    "## Overview\n",
    "\n",
    "Howso Engine enables powerful predictions with complete attribution and detailed explanations to make learning from\n",
    "and debugging your data and predictions as easy as possible. For more information on predictions with Howso Engine,\n",
    "check out the [predictions user guide](https://docs.howso.com/user_guide/basics/predictions.html)."
   ]
  },
  {
   "cell_type": "code",
   "execution_count": 1,
   "metadata": {},
   "outputs": [],
   "source": [
    "import pandas as pd\n",
    "from pmlb import fetch_data\n",
    "\n",
    "from howso.engine import Trainee\n",
    "from howso.utilities import infer_feature_attributes"
   ]
  },
  {
   "cell_type": "markdown",
   "metadata": {},
   "source": [
    "## Setup\n",
    "\n",
    "The [basic workflow guide](https://docs.howso.com/user_guide/basics/basic_workflow.html) goes into more specifics about the individual details of this section. This recipe will focus more on the insights.\n",
    "\n",
    "### Step 1: Load Data and Create Trainee"
   ]
  },
  {
   "cell_type": "code",
   "execution_count": 2,
   "metadata": {},
   "outputs": [
    {
     "name": "stderr",
     "output_type": "stream",
     "text": [
      "The following parameters from configuration file will override the Amalgam parameters set in the code: {'trace'}\n"
     ]
    }
   ],
   "source": [
    "df = fetch_data(\"iris\", local_cache_dir=\"data\")\n",
    "features = infer_feature_attributes(df)\n",
    "\n",
    "t = Trainee(features=features)"
   ]
  },
  {
   "cell_type": "markdown",
   "metadata": {},
   "source": [
    "### Step 2: Train, Analyze, and React"
   ]
  },
  {
   "cell_type": "code",
   "execution_count": 3,
   "metadata": {},
   "outputs": [],
   "source": [
    "t.train(df)\n",
    "t.analyze()\n",
    "t.react_into_features(similarity_conviction=True)"
   ]
  },
  {
   "cell_type": "markdown",
   "metadata": {},
   "source": [
    "### Step 3: React to a Case\n",
    "\n",
    "We supply a case using the `context_features` and `context_values` parameters. These are treated as the independent\n",
    "variables when making the prediction. The `action_features` describe the dependent variables and are what are output\n",
    "in addition to any requested details."
   ]
  },
  {
   "cell_type": "code",
   "execution_count": 4,
   "metadata": {},
   "outputs": [],
   "source": [
    "reaction = t.react(\n",
    "    contexts=[3.0, 2.0, 3.0, 1.0],\n",
    "    context_features=[\"sepal-length\", \"sepal-width\", \"petal-length\", \"petal-width\"],\n",
    "    action_features=[\"target\"],\n",
    "    details={\n",
    "        \"influential_cases\": True,\n",
    "        \"similarity_conviction\": True,\n",
    "        \"feature_contributions\": True,\n",
    "        \"feature_residuals\": True,\n",
    "        \"robust_influences\": True,\n",
    "        \"robust_residuals\": True,\n",
    "        \"local_case_feature_residual_convictions\": True,\n",
    "        \"categorical_action_probabilities\": True,\n",
    "    }\n",
    ")\n",
    "influential_cases = pd.DataFrame(reaction[\"details\"][\"influential_cases\"][0])\n",
    "influential_cases = influential_cases[sorted(influential_cases.columns)]"
   ]
  },
  {
   "cell_type": "markdown",
   "metadata": {},
   "source": [
    "## Insights\n",
    "\n",
    "### Insight 1: Prediction\n",
    "\n",
    "The predicted value(s) are accessed using the `action` key, while the explanations can be accessed using the\n",
    "`details` key."
   ]
  },
  {
   "cell_type": "code",
   "execution_count": 5,
   "metadata": {},
   "outputs": [
    {
     "data": {
      "text/plain": [
       "['influential_cases',\n",
       " 'feature_contributions',\n",
       " 'action_features',\n",
       " 'feature_residuals',\n",
       " 'local_case_feature_residual_convictions',\n",
       " 'similarity_conviction',\n",
       " 'categorical_action_probabilities',\n",
       " 'directional_feature_contributions']"
      ]
     },
     "execution_count": 5,
     "metadata": {},
     "output_type": "execute_result"
    }
   ],
   "source": [
    "list(reaction[\"details\"].keys())"
   ]
  },
  {
   "cell_type": "code",
   "execution_count": 6,
   "metadata": {},
   "outputs": [
    {
     "data": {
      "text/html": [
       "<div>\n",
       "<style scoped>\n",
       "    .dataframe tbody tr th:only-of-type {\n",
       "        vertical-align: middle;\n",
       "    }\n",
       "\n",
       "    .dataframe tbody tr th {\n",
       "        vertical-align: top;\n",
       "    }\n",
       "\n",
       "    .dataframe thead th {\n",
       "        text-align: right;\n",
       "    }\n",
       "</style>\n",
       "<table border=\"1\" class=\"dataframe\">\n",
       "  <thead>\n",
       "    <tr style=\"text-align: right;\">\n",
       "      <th></th>\n",
       "      <th>target</th>\n",
       "    </tr>\n",
       "  </thead>\n",
       "  <tbody>\n",
       "    <tr>\n",
       "      <th>0</th>\n",
       "      <td>1</td>\n",
       "    </tr>\n",
       "  </tbody>\n",
       "</table>\n",
       "</div>"
      ],
      "text/plain": [
       "   target\n",
       "0       1"
      ]
     },
     "execution_count": 6,
     "metadata": {},
     "output_type": "execute_result"
    }
   ],
   "source": [
    "reaction[\"action\"]"
   ]
  },
  {
   "cell_type": "markdown",
   "metadata": {},
   "source": [
    "For categorical action features, the prediction can be further understood with the `categorical_action_probabilities`\n",
    "detail."
   ]
  },
  {
   "cell_type": "code",
   "execution_count": 7,
   "metadata": {},
   "outputs": [
    {
     "data": {
      "text/plain": [
       "{'target': {'1': 0.8815330011979926, '0': 0.11846699880200744}}"
      ]
     },
     "execution_count": 7,
     "metadata": {},
     "output_type": "execute_result"
    }
   ],
   "source": [
    "reaction[\"details\"][\"categorical_action_probabilities\"][0]"
   ]
  },
  {
   "cell_type": "markdown",
   "metadata": {},
   "source": [
    "### Insight 2: Attribution\n",
    "\n",
    "Howso provides complete attribution for any and all predictions. To determine which cases were used to make a prediction, use the `influential_cases` detail."
   ]
  },
  {
   "cell_type": "code",
   "execution_count": 8,
   "metadata": {},
   "outputs": [
    {
     "data": {
      "text/html": [
       "<div>\n",
       "<style scoped>\n",
       "    .dataframe tbody tr th:only-of-type {\n",
       "        vertical-align: middle;\n",
       "    }\n",
       "\n",
       "    .dataframe tbody tr th {\n",
       "        vertical-align: top;\n",
       "    }\n",
       "\n",
       "    .dataframe thead th {\n",
       "        text-align: right;\n",
       "    }\n",
       "</style>\n",
       "<table border=\"1\" class=\"dataframe\">\n",
       "  <thead>\n",
       "    <tr style=\"text-align: right;\">\n",
       "      <th></th>\n",
       "      <th>.influence_weight</th>\n",
       "      <th>.session</th>\n",
       "      <th>.session_training_index</th>\n",
       "      <th>petal-length</th>\n",
       "      <th>petal-width</th>\n",
       "      <th>sepal-length</th>\n",
       "      <th>sepal-width</th>\n",
       "      <th>target</th>\n",
       "    </tr>\n",
       "  </thead>\n",
       "  <tbody>\n",
       "    <tr>\n",
       "      <th>0</th>\n",
       "      <td>0.143901</td>\n",
       "      <td>f2903e23-3a9e-4311-9d66-bd40dfca1113</td>\n",
       "      <td>126</td>\n",
       "      <td>3.3</td>\n",
       "      <td>1.0</td>\n",
       "      <td>4.9</td>\n",
       "      <td>2.4</td>\n",
       "      <td>1</td>\n",
       "    </tr>\n",
       "    <tr>\n",
       "      <th>1</th>\n",
       "      <td>0.141190</td>\n",
       "      <td>f2903e23-3a9e-4311-9d66-bd40dfca1113</td>\n",
       "      <td>83</td>\n",
       "      <td>3.5</td>\n",
       "      <td>1.0</td>\n",
       "      <td>5.0</td>\n",
       "      <td>2.0</td>\n",
       "      <td>1</td>\n",
       "    </tr>\n",
       "    <tr>\n",
       "      <th>2</th>\n",
       "      <td>0.139901</td>\n",
       "      <td>f2903e23-3a9e-4311-9d66-bd40dfca1113</td>\n",
       "      <td>99</td>\n",
       "      <td>3.3</td>\n",
       "      <td>1.0</td>\n",
       "      <td>5.0</td>\n",
       "      <td>2.3</td>\n",
       "      <td>1</td>\n",
       "    </tr>\n",
       "    <tr>\n",
       "      <th>3</th>\n",
       "      <td>0.129369</td>\n",
       "      <td>f2903e23-3a9e-4311-9d66-bd40dfca1113</td>\n",
       "      <td>127</td>\n",
       "      <td>3.0</td>\n",
       "      <td>1.1</td>\n",
       "      <td>5.1</td>\n",
       "      <td>2.5</td>\n",
       "      <td>1</td>\n",
       "    </tr>\n",
       "    <tr>\n",
       "      <th>4</th>\n",
       "      <td>0.118467</td>\n",
       "      <td>f2903e23-3a9e-4311-9d66-bd40dfca1113</td>\n",
       "      <td>57</td>\n",
       "      <td>1.3</td>\n",
       "      <td>0.3</td>\n",
       "      <td>4.5</td>\n",
       "      <td>2.3</td>\n",
       "      <td>0</td>\n",
       "    </tr>\n",
       "    <tr>\n",
       "      <th>5</th>\n",
       "      <td>0.109472</td>\n",
       "      <td>f2903e23-3a9e-4311-9d66-bd40dfca1113</td>\n",
       "      <td>20</td>\n",
       "      <td>3.9</td>\n",
       "      <td>1.4</td>\n",
       "      <td>5.2</td>\n",
       "      <td>2.7</td>\n",
       "      <td>1</td>\n",
       "    </tr>\n",
       "    <tr>\n",
       "      <th>6</th>\n",
       "      <td>0.109396</td>\n",
       "      <td>f2903e23-3a9e-4311-9d66-bd40dfca1113</td>\n",
       "      <td>140</td>\n",
       "      <td>3.7</td>\n",
       "      <td>1.0</td>\n",
       "      <td>5.5</td>\n",
       "      <td>2.4</td>\n",
       "      <td>1</td>\n",
       "    </tr>\n",
       "    <tr>\n",
       "      <th>7</th>\n",
       "      <td>0.108305</td>\n",
       "      <td>f2903e23-3a9e-4311-9d66-bd40dfca1113</td>\n",
       "      <td>5</td>\n",
       "      <td>3.8</td>\n",
       "      <td>1.1</td>\n",
       "      <td>5.5</td>\n",
       "      <td>2.4</td>\n",
       "      <td>1</td>\n",
       "    </tr>\n",
       "  </tbody>\n",
       "</table>\n",
       "</div>"
      ],
      "text/plain": [
       "   .influence_weight                              .session  \\\n",
       "0           0.143901  f2903e23-3a9e-4311-9d66-bd40dfca1113   \n",
       "1           0.141190  f2903e23-3a9e-4311-9d66-bd40dfca1113   \n",
       "2           0.139901  f2903e23-3a9e-4311-9d66-bd40dfca1113   \n",
       "3           0.129369  f2903e23-3a9e-4311-9d66-bd40dfca1113   \n",
       "4           0.118467  f2903e23-3a9e-4311-9d66-bd40dfca1113   \n",
       "5           0.109472  f2903e23-3a9e-4311-9d66-bd40dfca1113   \n",
       "6           0.109396  f2903e23-3a9e-4311-9d66-bd40dfca1113   \n",
       "7           0.108305  f2903e23-3a9e-4311-9d66-bd40dfca1113   \n",
       "\n",
       "   .session_training_index  petal-length  petal-width  sepal-length  \\\n",
       "0                      126           3.3          1.0           4.9   \n",
       "1                       83           3.5          1.0           5.0   \n",
       "2                       99           3.3          1.0           5.0   \n",
       "3                      127           3.0          1.1           5.1   \n",
       "4                       57           1.3          0.3           4.5   \n",
       "5                       20           3.9          1.4           5.2   \n",
       "6                      140           3.7          1.0           5.5   \n",
       "7                        5           3.8          1.1           5.5   \n",
       "\n",
       "   sepal-width  target  \n",
       "0          2.4       1  \n",
       "1          2.0       1  \n",
       "2          2.3       1  \n",
       "3          2.5       1  \n",
       "4          2.3       0  \n",
       "5          2.7       1  \n",
       "6          2.4       1  \n",
       "7          2.4       1  "
      ]
     },
     "execution_count": 8,
     "metadata": {},
     "output_type": "execute_result"
    }
   ],
   "source": [
    "influential_cases"
   ]
  },
  {
   "cell_type": "markdown",
   "metadata": {},
   "source": [
    "The `influence_weight` is inversely correlated with distance and tells us how influential each of these cases was\n",
    "during the prediction.\n",
    "\n",
    "The `.session` and `.session_training_index` features can be used to derive additional insights from the influential\n",
    "cases. For example, the `influential_cases` detail can be combined with `similarity_conviction` to highlight which\n",
    "influential cases were anomalous."
   ]
  },
  {
   "cell_type": "code",
   "execution_count": 9,
   "metadata": {},
   "outputs": [
    {
     "data": {
      "text/html": [
       "<div>\n",
       "<style scoped>\n",
       "    .dataframe tbody tr th:only-of-type {\n",
       "        vertical-align: middle;\n",
       "    }\n",
       "\n",
       "    .dataframe tbody tr th {\n",
       "        vertical-align: top;\n",
       "    }\n",
       "\n",
       "    .dataframe thead th {\n",
       "        text-align: right;\n",
       "    }\n",
       "</style>\n",
       "<table border=\"1\" class=\"dataframe\">\n",
       "  <thead>\n",
       "    <tr style=\"text-align: right;\">\n",
       "      <th></th>\n",
       "      <th>sepal-length</th>\n",
       "      <th>sepal-width</th>\n",
       "      <th>petal-length</th>\n",
       "      <th>petal-width</th>\n",
       "      <th>target</th>\n",
       "      <th>similarity_conviction</th>\n",
       "    </tr>\n",
       "  </thead>\n",
       "  <tbody>\n",
       "    <tr>\n",
       "      <th>4</th>\n",
       "      <td>4.5</td>\n",
       "      <td>2.3</td>\n",
       "      <td>1.3</td>\n",
       "      <td>0.3</td>\n",
       "      <td>0</td>\n",
       "      <td>0.243127</td>\n",
       "    </tr>\n",
       "    <tr>\n",
       "      <th>1</th>\n",
       "      <td>5.0</td>\n",
       "      <td>2.0</td>\n",
       "      <td>3.5</td>\n",
       "      <td>1.0</td>\n",
       "      <td>1</td>\n",
       "      <td>0.572244</td>\n",
       "    </tr>\n",
       "    <tr>\n",
       "      <th>3</th>\n",
       "      <td>5.1</td>\n",
       "      <td>2.5</td>\n",
       "      <td>3.0</td>\n",
       "      <td>1.1</td>\n",
       "      <td>1</td>\n",
       "      <td>0.651609</td>\n",
       "    </tr>\n",
       "    <tr>\n",
       "      <th>5</th>\n",
       "      <td>5.2</td>\n",
       "      <td>2.7</td>\n",
       "      <td>3.9</td>\n",
       "      <td>1.4</td>\n",
       "      <td>1</td>\n",
       "      <td>0.715024</td>\n",
       "    </tr>\n",
       "    <tr>\n",
       "      <th>0</th>\n",
       "      <td>4.9</td>\n",
       "      <td>2.4</td>\n",
       "      <td>3.3</td>\n",
       "      <td>1.0</td>\n",
       "      <td>1</td>\n",
       "      <td>0.875392</td>\n",
       "    </tr>\n",
       "    <tr>\n",
       "      <th>2</th>\n",
       "      <td>5.0</td>\n",
       "      <td>2.3</td>\n",
       "      <td>3.3</td>\n",
       "      <td>1.0</td>\n",
       "      <td>1</td>\n",
       "      <td>0.938972</td>\n",
       "    </tr>\n",
       "    <tr>\n",
       "      <th>6</th>\n",
       "      <td>5.5</td>\n",
       "      <td>2.4</td>\n",
       "      <td>3.7</td>\n",
       "      <td>1.0</td>\n",
       "      <td>1</td>\n",
       "      <td>1.123037</td>\n",
       "    </tr>\n",
       "    <tr>\n",
       "      <th>7</th>\n",
       "      <td>5.5</td>\n",
       "      <td>2.4</td>\n",
       "      <td>3.8</td>\n",
       "      <td>1.1</td>\n",
       "      <td>1</td>\n",
       "      <td>1.326493</td>\n",
       "    </tr>\n",
       "  </tbody>\n",
       "</table>\n",
       "</div>"
      ],
      "text/plain": [
       "   sepal-length  sepal-width  petal-length  petal-width  target  \\\n",
       "4           4.5          2.3           1.3          0.3       0   \n",
       "1           5.0          2.0           3.5          1.0       1   \n",
       "3           5.1          2.5           3.0          1.1       1   \n",
       "5           5.2          2.7           3.9          1.4       1   \n",
       "0           4.9          2.4           3.3          1.0       1   \n",
       "2           5.0          2.3           3.3          1.0       1   \n",
       "6           5.5          2.4           3.7          1.0       1   \n",
       "7           5.5          2.4           3.8          1.1       1   \n",
       "\n",
       "   similarity_conviction  \n",
       "4               0.243127  \n",
       "1               0.572244  \n",
       "3               0.651609  \n",
       "5               0.715024  \n",
       "0               0.875392  \n",
       "2               0.938972  \n",
       "6               1.123037  \n",
       "7               1.326493  "
      ]
     },
     "execution_count": 9,
     "metadata": {},
     "output_type": "execute_result"
    }
   ],
   "source": [
    "inf_case_indices = influential_cases[[\".session\", \".session_training_index\"]].values.tolist()\n",
    "\n",
    "anom_df = t.get_cases(\n",
    "    case_indices=inf_case_indices,\n",
    "    features=[\"sepal-length\", \"sepal-width\", \"petal-length\", \"petal-width\", \"target\", \"similarity_conviction\"]\n",
    ")\n",
    "\n",
    "anom_df.sort_values(by=\"similarity_conviction\")"
   ]
  },
  {
   "cell_type": "markdown",
   "metadata": {},
   "source": [
    "### Insight 3: Explanation\n",
    "\n",
    "Howso also provides detailed explanations about each prediction. Commonly used explanations are:\n",
    "\n",
    "- Feature Contributions for measuring feature importance\n",
    "- Residuals for measuring the uncertainty of the local data\n",
    "- Conviction for measurements that are relative to the expected value\n",
    "\n",
    "Feature contributions will help determine how much each context feature contributed to the prediction, on the scale\n",
    "of the action feature."
   ]
  },
  {
   "cell_type": "code",
   "execution_count": 10,
   "metadata": {},
   "outputs": [
    {
     "data": {
      "text/plain": [
       "{'petal-width': 0.28871181572340304,\n",
       " 'petal-length': 0.2931029454393371,\n",
       " 'sepal-length': 0.04494568151237635,\n",
       " 'sepal-width': 0.15656876988315238}"
      ]
     },
     "execution_count": 10,
     "metadata": {},
     "output_type": "execute_result"
    }
   ],
   "source": [
    "reaction[\"details\"][\"feature_contributions\"][0]"
   ]
  },
  {
   "cell_type": "markdown",
   "metadata": {},
   "source": [
    "Residuals can characterize the uncertainty of the data around the prediction."
   ]
  },
  {
   "cell_type": "code",
   "execution_count": 11,
   "metadata": {},
   "outputs": [
    {
     "data": {
      "text/plain": [
       "{'petal-width': 0.25238915042846627,\n",
       " 'petal-length': 0.6211629574817258,\n",
       " 'target': 0.12239583333333334,\n",
       " 'sepal-length': 0.5305952186638815,\n",
       " 'sepal-width': 0.3249440776128855}"
      ]
     },
     "execution_count": 11,
     "metadata": {},
     "output_type": "execute_result"
    }
   ],
   "source": [
    "reaction[\"details\"][\"feature_residuals\"][0]"
   ]
  },
  {
   "cell_type": "markdown",
   "metadata": {},
   "source": [
    "Conviction refers to a number of statistics that are defined as:\n",
    "\n",
    "$$\n",
    "\\text{Conviction} = \\frac{\\text{Measured Surprisal}}{\\text{Expected Surprisal}}\n",
    "$$\n",
    "\n",
    "Since Howso provides numerous privacy measures, there are numerous types of conviction as well, such as similarity\n",
    "conviction, used above, and residual conviction. Conviction is useful for characterizing data in a scale-invariant\n",
    "manner.\n",
    "\n",
    "Similarity conviction, similar to before, can help determine how anomalous a case is."
   ]
  },
  {
   "cell_type": "code",
   "execution_count": 12,
   "metadata": {},
   "outputs": [
    {
     "data": {
      "text/plain": [
       "0.21021952799848467"
      ]
     },
     "execution_count": 12,
     "metadata": {},
     "output_type": "execute_result"
    }
   ],
   "source": [
    "reaction[\"details\"][\"similarity_conviction\"][0]"
   ]
  },
  {
   "cell_type": "markdown",
   "metadata": {},
   "source": [
    "Since the similarity conviction of the case we reacted to is close to 1, we can infer that it is not very anomalous (or, about as anomalous as expected). If we react to a more anomalous case we can observe a lower similarity\n",
    "conviction."
   ]
  },
  {
   "cell_type": "code",
   "execution_count": 13,
   "metadata": {},
   "outputs": [
    {
     "data": {
      "text/plain": [
       "0.07295393004744691"
      ]
     },
     "execution_count": 13,
     "metadata": {},
     "output_type": "execute_result"
    }
   ],
   "source": [
    "t.react(\n",
    "    contexts=[11.0, 0.01, 3.4890217, 0.2],\n",
    "    context_features=[\"sepal-length\", \"sepal-width\", \"petal-length\", \"petal-width\"],\n",
    "    action_features=[\"target\"],\n",
    "    details={\n",
    "        \"similarity_conviction\": True,\n",
    "    }\n",
    ")[\"details\"][\"similarity_conviction\"][0]\n"
   ]
  },
  {
   "cell_type": "markdown",
   "metadata": {},
   "source": [
    "We can also inspect the residual conviction of the features within the local data, which is an alternative way of \n",
    "characterizing uncertainty around the prediction which is scale invariant."
   ]
  },
  {
   "cell_type": "code",
   "execution_count": 14,
   "metadata": {},
   "outputs": [
    {
     "data": {
      "text/plain": [
       "{'petal-width': 1.165407938554282,\n",
       " 'petal-length': 0.5050790283384394,\n",
       " 'target': 0.38584119647954107,\n",
       " 'sepal-length': 0.20595329130908402,\n",
       " 'sepal-width': 0.3767108186938781}"
      ]
     },
     "execution_count": 14,
     "metadata": {},
     "output_type": "execute_result"
    }
   ],
   "source": [
    "reaction[\"details\"][\"local_case_feature_residual_convictions\"][0]"
   ]
  }
 ],
 "metadata": {
  "kernelspec": {
   "display_name": "engine-recipes-3.9",
   "language": "python",
   "name": "python3"
  },
  "language_info": {
   "codemirror_mode": {
    "name": "ipython",
    "version": 3
   },
   "file_extension": ".py",
   "mimetype": "text/x-python",
   "name": "python",
   "nbconvert_exporter": "python",
   "pygments_lexer": "ipython3",
   "version": "3.9.19"
  }
 },
 "nbformat": 4,
 "nbformat_minor": 2
}
