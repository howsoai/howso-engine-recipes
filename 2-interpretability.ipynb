{
 "cells": [
  {
   "attachments": {},
   "cell_type": "markdown",
   "id": "69d7ac54-9a3b-4327-93a5-eb6fbf314530",
   "metadata": {
    "tags": []
   },
   "source": [
    "# Recipe 2: Interpretability\n",
    "## Overview \n",
    "\n",
    "\n",
    "Recipe `1-engine-intro.ipynb` provides a basic introduction into the Howso Engine \n",
    "workflow. The Trainee built in that notebook allows us to make a prediction for an unseen test dataset, however the raw prediction may not be fully informative. After building and training a Trainee, a user will want to explore how different features affect the Trainee and its predictions. In this notebook we will explore information that can be extracted from the Howso Engine Trainee. Howso Engine's interpretability tools allow users to understand why predictions were made, evaluate the data that contributed to the predictions, and see similar cases to the predictions. These Howso Engine interpretability capabilities will be demonstrated in this notebook:\n",
    "\n",
    "- Feature Relevancy Metrics\n",
    "\n",
    "- Case Influence Metrics\n",
    "\n",
    "- Residuals and Conviction Metrics \n",
    "\n",
    "\n",
    "\n",
    "\n",
    "> **Note:** \n",
    "\n",
    "Howso Engine's power is in its interpretability. In recipe `1-engine-intro.ipynb`, we compared a traditional machine learning (ML) workflow using `Scikit-Learn` Logistic Regression with the Howso Engine workflow to illustrate a typical ML modeling prediction workflow. Moving forward, we will discontinue the use of `Scikit-Learn` Logistic Regression as nearly all of the interpretability functionality that will be demonstrated is Howso Engine-specific. "
   ]
  },
  {
   "attachments": {},
   "cell_type": "markdown",
   "id": "443180b3",
   "metadata": {},
   "source": [
    "## Recipe Goals:\n",
    "This recipe will demonstrate how to leverage Howso Engine's interpretability to help us understand an unintuitive prediction."
   ]
  },
  {
   "cell_type": "code",
   "execution_count": 1,
   "id": "f6cbaf0d-4f1f-410d-9cfd-1114f34c8c00",
   "metadata": {
    "execution": {
     "iopub.execute_input": "2024-02-23T01:03:07.462426Z",
     "iopub.status.busy": "2024-02-23T01:03:07.462235Z",
     "iopub.status.idle": "2024-02-23T01:03:08.354678Z",
     "shell.execute_reply": "2024-02-23T01:03:08.353984Z"
    }
   },
   "outputs": [],
   "source": [
    "import os\n",
    "\n",
    "import pandas as pd\n",
    "import plotly.io as pio\n",
    "from pmlb import fetch_data\n",
    "\n",
    "from howso.engine import Trainee\n",
    "from howso.utilities import infer_feature_attributes\n",
    "from howso.visuals import plot_feature_importances\n",
    "\n",
    "pio.renderers.default = os.getenv(\"HOWSO_RECIPE_RENDERER\", \"notebook\")"
   ]
  },
  {
   "attachments": {},
   "cell_type": "markdown",
   "id": "050d7e2d",
   "metadata": {},
   "source": [
    "# Section 1: Train and Analyze\n",
    "\n",
    "The first part of this notebook will follow the same work as `1-engine-intro.ipynb`. We will be using the same `Adult` dataset where the Action Feature is a binary indicator of whether a person makes over $50k/year."
   ]
  },
  {
   "attachments": {},
   "cell_type": "markdown",
   "id": "8a1f5ffa-d96e-44b8-9152-9e7811b6f9b4",
   "metadata": {},
   "source": [
    "### Step 1. Load Data"
   ]
  },
  {
   "cell_type": "code",
   "execution_count": 2,
   "id": "e5a7a925-5a9d-47fb-b4a3-3272203d4772",
   "metadata": {
    "execution": {
     "iopub.execute_input": "2024-02-23T01:03:08.357925Z",
     "iopub.status.busy": "2024-02-23T01:03:08.357512Z",
     "iopub.status.idle": "2024-02-23T01:03:08.426332Z",
     "shell.execute_reply": "2024-02-23T01:03:08.425751Z"
    }
   },
   "outputs": [
    {
     "data": {
      "text/html": [
       "<div>\n",
       "<style scoped>\n",
       "    .dataframe tbody tr th:only-of-type {\n",
       "        vertical-align: middle;\n",
       "    }\n",
       "\n",
       "    .dataframe tbody tr th {\n",
       "        vertical-align: top;\n",
       "    }\n",
       "\n",
       "    .dataframe thead th {\n",
       "        text-align: right;\n",
       "    }\n",
       "</style>\n",
       "<table border=\"1\" class=\"dataframe\">\n",
       "  <thead>\n",
       "    <tr style=\"text-align: right;\">\n",
       "      <th></th>\n",
       "      <th>age</th>\n",
       "      <th>workclass</th>\n",
       "      <th>fnlwgt</th>\n",
       "      <th>education</th>\n",
       "      <th>education-num</th>\n",
       "      <th>marital-status</th>\n",
       "      <th>occupation</th>\n",
       "      <th>relationship</th>\n",
       "      <th>race</th>\n",
       "      <th>sex</th>\n",
       "      <th>capital-gain</th>\n",
       "      <th>capital-loss</th>\n",
       "      <th>hours-per-week</th>\n",
       "      <th>native-country</th>\n",
       "      <th>target</th>\n",
       "    </tr>\n",
       "  </thead>\n",
       "  <tbody>\n",
       "    <tr>\n",
       "      <th>0</th>\n",
       "      <td>41.0</td>\n",
       "      <td>4</td>\n",
       "      <td>151856.0</td>\n",
       "      <td>11</td>\n",
       "      <td>9.0</td>\n",
       "      <td>2</td>\n",
       "      <td>11</td>\n",
       "      <td>0</td>\n",
       "      <td>4</td>\n",
       "      <td>1</td>\n",
       "      <td>0.0</td>\n",
       "      <td>0.0</td>\n",
       "      <td>40.0</td>\n",
       "      <td>39</td>\n",
       "      <td>1</td>\n",
       "    </tr>\n",
       "    <tr>\n",
       "      <th>1</th>\n",
       "      <td>57.0</td>\n",
       "      <td>6</td>\n",
       "      <td>87584.0</td>\n",
       "      <td>10</td>\n",
       "      <td>16.0</td>\n",
       "      <td>0</td>\n",
       "      <td>10</td>\n",
       "      <td>1</td>\n",
       "      <td>4</td>\n",
       "      <td>0</td>\n",
       "      <td>0.0</td>\n",
       "      <td>0.0</td>\n",
       "      <td>25.0</td>\n",
       "      <td>39</td>\n",
       "      <td>1</td>\n",
       "    </tr>\n",
       "    <tr>\n",
       "      <th>2</th>\n",
       "      <td>31.0</td>\n",
       "      <td>2</td>\n",
       "      <td>220669.0</td>\n",
       "      <td>9</td>\n",
       "      <td>13.0</td>\n",
       "      <td>4</td>\n",
       "      <td>10</td>\n",
       "      <td>3</td>\n",
       "      <td>4</td>\n",
       "      <td>0</td>\n",
       "      <td>6849.0</td>\n",
       "      <td>0.0</td>\n",
       "      <td>40.0</td>\n",
       "      <td>39</td>\n",
       "      <td>1</td>\n",
       "    </tr>\n",
       "    <tr>\n",
       "      <th>3</th>\n",
       "      <td>55.0</td>\n",
       "      <td>4</td>\n",
       "      <td>171355.0</td>\n",
       "      <td>8</td>\n",
       "      <td>11.0</td>\n",
       "      <td>2</td>\n",
       "      <td>7</td>\n",
       "      <td>0</td>\n",
       "      <td>4</td>\n",
       "      <td>1</td>\n",
       "      <td>0.0</td>\n",
       "      <td>0.0</td>\n",
       "      <td>20.0</td>\n",
       "      <td>39</td>\n",
       "      <td>1</td>\n",
       "    </tr>\n",
       "    <tr>\n",
       "      <th>4</th>\n",
       "      <td>59.0</td>\n",
       "      <td>6</td>\n",
       "      <td>148626.0</td>\n",
       "      <td>0</td>\n",
       "      <td>6.0</td>\n",
       "      <td>2</td>\n",
       "      <td>5</td>\n",
       "      <td>0</td>\n",
       "      <td>4</td>\n",
       "      <td>1</td>\n",
       "      <td>0.0</td>\n",
       "      <td>0.0</td>\n",
       "      <td>40.0</td>\n",
       "      <td>39</td>\n",
       "      <td>1</td>\n",
       "    </tr>\n",
       "    <tr>\n",
       "      <th>5</th>\n",
       "      <td>29.0</td>\n",
       "      <td>6</td>\n",
       "      <td>104423.0</td>\n",
       "      <td>15</td>\n",
       "      <td>10.0</td>\n",
       "      <td>2</td>\n",
       "      <td>4</td>\n",
       "      <td>2</td>\n",
       "      <td>4</td>\n",
       "      <td>1</td>\n",
       "      <td>4386.0</td>\n",
       "      <td>0.0</td>\n",
       "      <td>45.0</td>\n",
       "      <td>39</td>\n",
       "      <td>0</td>\n",
       "    </tr>\n",
       "    <tr>\n",
       "      <th>6</th>\n",
       "      <td>50.0</td>\n",
       "      <td>7</td>\n",
       "      <td>89652.0</td>\n",
       "      <td>12</td>\n",
       "      <td>14.0</td>\n",
       "      <td>6</td>\n",
       "      <td>10</td>\n",
       "      <td>4</td>\n",
       "      <td>4</td>\n",
       "      <td>0</td>\n",
       "      <td>0.0</td>\n",
       "      <td>0.0</td>\n",
       "      <td>60.0</td>\n",
       "      <td>39</td>\n",
       "      <td>1</td>\n",
       "    </tr>\n",
       "    <tr>\n",
       "      <th>7</th>\n",
       "      <td>45.0</td>\n",
       "      <td>4</td>\n",
       "      <td>178530.0</td>\n",
       "      <td>2</td>\n",
       "      <td>8.0</td>\n",
       "      <td>0</td>\n",
       "      <td>3</td>\n",
       "      <td>1</td>\n",
       "      <td>4</td>\n",
       "      <td>1</td>\n",
       "      <td>0.0</td>\n",
       "      <td>0.0</td>\n",
       "      <td>40.0</td>\n",
       "      <td>39</td>\n",
       "      <td>1</td>\n",
       "    </tr>\n",
       "    <tr>\n",
       "      <th>8</th>\n",
       "      <td>42.0</td>\n",
       "      <td>4</td>\n",
       "      <td>139126.0</td>\n",
       "      <td>15</td>\n",
       "      <td>10.0</td>\n",
       "      <td>2</td>\n",
       "      <td>13</td>\n",
       "      <td>0</td>\n",
       "      <td>4</td>\n",
       "      <td>1</td>\n",
       "      <td>0.0</td>\n",
       "      <td>0.0</td>\n",
       "      <td>40.0</td>\n",
       "      <td>39</td>\n",
       "      <td>0</td>\n",
       "    </tr>\n",
       "    <tr>\n",
       "      <th>9</th>\n",
       "      <td>22.0</td>\n",
       "      <td>4</td>\n",
       "      <td>176131.0</td>\n",
       "      <td>15</td>\n",
       "      <td>10.0</td>\n",
       "      <td>2</td>\n",
       "      <td>4</td>\n",
       "      <td>0</td>\n",
       "      <td>2</td>\n",
       "      <td>1</td>\n",
       "      <td>0.0</td>\n",
       "      <td>0.0</td>\n",
       "      <td>40.0</td>\n",
       "      <td>39</td>\n",
       "      <td>1</td>\n",
       "    </tr>\n",
       "  </tbody>\n",
       "</table>\n",
       "</div>"
      ],
      "text/plain": [
       "    age  workclass    fnlwgt  education  education-num  marital-status  \\\n",
       "0  41.0          4  151856.0         11            9.0               2   \n",
       "1  57.0          6   87584.0         10           16.0               0   \n",
       "2  31.0          2  220669.0          9           13.0               4   \n",
       "3  55.0          4  171355.0          8           11.0               2   \n",
       "4  59.0          6  148626.0          0            6.0               2   \n",
       "5  29.0          6  104423.0         15           10.0               2   \n",
       "6  50.0          7   89652.0         12           14.0               6   \n",
       "7  45.0          4  178530.0          2            8.0               0   \n",
       "8  42.0          4  139126.0         15           10.0               2   \n",
       "9  22.0          4  176131.0         15           10.0               2   \n",
       "\n",
       "   occupation  relationship  race  sex  capital-gain  capital-loss  \\\n",
       "0          11             0     4    1           0.0           0.0   \n",
       "1          10             1     4    0           0.0           0.0   \n",
       "2          10             3     4    0        6849.0           0.0   \n",
       "3           7             0     4    1           0.0           0.0   \n",
       "4           5             0     4    1           0.0           0.0   \n",
       "5           4             2     4    1        4386.0           0.0   \n",
       "6          10             4     4    0           0.0           0.0   \n",
       "7           3             1     4    1           0.0           0.0   \n",
       "8          13             0     4    1           0.0           0.0   \n",
       "9           4             0     2    1           0.0           0.0   \n",
       "\n",
       "   hours-per-week  native-country  target  \n",
       "0            40.0              39       1  \n",
       "1            25.0              39       1  \n",
       "2            40.0              39       1  \n",
       "3            20.0              39       1  \n",
       "4            40.0              39       1  \n",
       "5            45.0              39       0  \n",
       "6            60.0              39       1  \n",
       "7            40.0              39       1  \n",
       "8            40.0              39       0  \n",
       "9            40.0              39       1  "
      ]
     },
     "execution_count": 2,
     "metadata": {},
     "output_type": "execute_result"
    }
   ],
   "source": [
    "df = fetch_data('adult', local_cache_dir=\"data/adult\")\n",
    "\n",
    "# Subsample the data to ensure the example runs quickly\n",
    "df = df.sample(1000, random_state=0).reset_index(drop=True)\n",
    "\n",
    "df.head(10)\n"
   ]
  },
  {
   "attachments": {},
   "cell_type": "markdown",
   "id": "ba6fde4d",
   "metadata": {},
   "source": [
    "### Step 1a. Test Case\n",
    "\n",
    "To demonstrate a basic situation where Howso Engine's interpretability can help the user understand and feel more comfortable with a prediction, we are artificially creating a troubling case that the user may feel to need to further investigate. We create a case where a person makes less than $50k, but set two columns `capital-gain` and `hours-per-week` to values at the extreme ends of their ranges in the dataset. Without knowing too much about the results, a logical hypothesis from the user would be that a person who has high capital gains and works a very high number of hours will likely earn over $50k, making the case unusual."
   ]
  },
  {
   "cell_type": "code",
   "execution_count": 3,
   "id": "13a1298b",
   "metadata": {
    "execution": {
     "iopub.execute_input": "2024-02-23T01:03:08.428833Z",
     "iopub.status.busy": "2024-02-23T01:03:08.428465Z",
     "iopub.status.idle": "2024-02-23T01:03:08.432766Z",
     "shell.execute_reply": "2024-02-23T01:03:08.432293Z"
    }
   },
   "outputs": [],
   "source": [
    "# Custom test case with high capital-gain and hours-per-week\n",
    "data = {\n",
    "    'age': [25],\n",
    "    'workclass': [4],\n",
    "    'fnlwgt': [100000],\n",
    "    'education': [15],\n",
    "    'education-num': [9],\n",
    "    'marital-status': [1],\n",
    "    'occupation': [3],\n",
    "    'relationship': [2],\n",
    "    'race': [4],\n",
    "    'sex': [1],\n",
    "    'capital-gain': [99999],\n",
    "    'capital-loss': [0],\n",
    "    'hours-per-week': [80],\n",
    "    'native-country': [39],\n",
    "    'target': [0]\n",
    "}\n",
    "\n",
    "test_case = pd.DataFrame(data)"
   ]
  },
  {
   "attachments": {},
   "cell_type": "markdown",
   "id": "35ec53b0-b623-427a-b2a6-8e55ebfef1bc",
   "metadata": {},
   "source": [
    "### Step 2. Train Trainee"
   ]
  },
  {
   "cell_type": "code",
   "execution_count": 4,
   "id": "086a95e5-e236-4806-b6e4-65ea94f43f28",
   "metadata": {
    "execution": {
     "iopub.execute_input": "2024-02-23T01:03:08.435057Z",
     "iopub.status.busy": "2024-02-23T01:03:08.434632Z",
     "iopub.status.idle": "2024-02-23T01:03:56.207383Z",
     "shell.execute_reply": "2024-02-23T01:03:56.206780Z"
    }
   },
   "outputs": [
    {
     "name": "stderr",
     "output_type": "stream",
     "text": [
      "Version 16.0.0 of Howso Engine™ is available. You are using version 15.0.11.\n"
     ]
    }
   ],
   "source": [
    "# Infer features using dataframe format\n",
    "features = infer_feature_attributes(df)\n",
    "\n",
    "# Specify Context and Action Features\n",
    "action_features = ['target']\n",
    "context_features = features.get_names(without=action_features)\n",
    "\n",
    "# Create the Trainee\n",
    "t = Trainee(\n",
    "    features=features,\n",
    "    overwrite_existing=True\n",
    ")\n",
    "\n",
    "# Train\n",
    "t.train(df)\n",
    "\n",
    "# Targeted Analysis\n",
    "t.analyze(context_features=context_features, action_features=action_features)"
   ]
  },
  {
   "attachments": {},
   "cell_type": "markdown",
   "id": "541a19d3",
   "metadata": {},
   "source": [
    "### Step 3. React"
   ]
  },
  {
   "cell_type": "code",
   "execution_count": 5,
   "id": "19f29f73",
   "metadata": {
    "execution": {
     "iopub.execute_input": "2024-02-23T01:03:56.210570Z",
     "iopub.status.busy": "2024-02-23T01:03:56.210132Z",
     "iopub.status.idle": "2024-02-23T01:04:00.335479Z",
     "shell.execute_reply": "2024-02-23T01:04:00.334902Z"
    }
   },
   "outputs": [],
   "source": [
    "details = {\n",
    "    'feature_residuals': True,\n",
    "    'robust_residuals': True, \n",
    "    'local_case_feature_residual_convictions': True,\n",
    "    'feature_contributions':True,\n",
    "    'case_mda': True,\n",
    "    'influential_cases': True\n",
    "}\n",
    "\n",
    "results = t.react(test_case[context_features], \n",
    "                     context_features=context_features, \n",
    "                     action_features=action_features,\n",
    "                     details=details)\n",
    "\n",
    "predictions = results['action'][action_features]"
   ]
  },
  {
   "cell_type": "code",
   "execution_count": 6,
   "id": "e1abb68c",
   "metadata": {
    "execution": {
     "iopub.execute_input": "2024-02-23T01:04:00.338339Z",
     "iopub.status.busy": "2024-02-23T01:04:00.337953Z",
     "iopub.status.idle": "2024-02-23T01:04:00.342252Z",
     "shell.execute_reply": "2024-02-23T01:04:00.341792Z"
    }
   },
   "outputs": [
    {
     "data": {
      "text/plain": [
       "0    0\n",
       "Name: target, dtype: int64"
      ]
     },
     "execution_count": 6,
     "metadata": {},
     "output_type": "execute_result"
    }
   ],
   "source": [
    "test_case[action_features[0]]"
   ]
  },
  {
   "cell_type": "code",
   "execution_count": 7,
   "id": "a969ecc5",
   "metadata": {
    "execution": {
     "iopub.execute_input": "2024-02-23T01:04:00.344432Z",
     "iopub.status.busy": "2024-02-23T01:04:00.344081Z",
     "iopub.status.idle": "2024-02-23T01:04:00.347156Z",
     "shell.execute_reply": "2024-02-23T01:04:00.346676Z"
    }
   },
   "outputs": [
    {
     "name": "stdout",
     "output_type": "stream",
     "text": [
      "Actual Value - 0\n",
      "Predicted Value - 0\n"
     ]
    }
   ],
   "source": [
    "print(f\"Actual Value - {test_case[action_features[0]][0]}\")\n",
    "print(f\"Predicted Value - {predictions.iloc[0,0]}\")"
   ]
  },
  {
   "attachments": {},
   "cell_type": "markdown",
   "id": "f9da799b",
   "metadata": {},
   "source": [
    "### Step 4. Results\n",
    "\n",
    "We can see that the predicted target value is 0, which is correct. However, in a scenario where this Trainee is used for real predictions where we do not know the actual value, we may feel uneasy about this prediction. In this situation, even if our Trainee has been demonstrated to be accurate for other cases, intuitively, it is hard to imagine someone who works 80 hours per week and has such high capital gains making under $50k. Although we should not immediately dismiss this result, it warrants further investigation to help us understand and feel more comfortable using the Trainee's prediction. \n"
   ]
  },
  {
   "attachments": {},
   "cell_type": "markdown",
   "id": "918a0783",
   "metadata": {},
   "source": [
    "# Section 2. Feature Residuals\n",
    "\n",
    "We have just seen a predicted case which may intuitively seem odd as two features `capital-gains` and `hours-per-week` have unusually high values, especially for a someone that is predicted to make less than $50k. First, we want to confirm our suspicions thats these values are not typical by looking at `Feature Residuals`. Feature Residuals are calculated by holding out each individual feature, and then using the rest of the features to predict that feature. This is similiar to the leave-one-out validation technique used in machine learning. The results represent the Trainee's uncertainty for that feature. We will use the `Local Feature Residual` to examine the uncertainity for this specific case and the `Global Feature Residual` as a baseline.\n",
    "\n",
    "**`Definitions`:**\n",
    "\n",
    "**`Residuals`:** The mean absolute error between the predicted and actual data point. A Residual characterizes the Trainees's uncertainty. By default, Howso Engine computes robust Residuals, meaning it measures the Residuals of the Action Feature values as predicted by a sampling of the power set of all of the other features.\n",
    "\n",
    "**`Local Feature Residuals`:** Represents the uncertainty for the localized model.\n",
    "\n",
    "**`Global Feature Residuals`:** Represents the uncertainty for the overall model."
   ]
  },
  {
   "cell_type": "code",
   "execution_count": 8,
   "id": "e771861b",
   "metadata": {
    "execution": {
     "iopub.execute_input": "2024-02-23T01:04:00.349383Z",
     "iopub.status.busy": "2024-02-23T01:04:00.349051Z",
     "iopub.status.idle": "2024-02-23T01:04:19.054236Z",
     "shell.execute_reply": "2024-02-23T01:04:19.053625Z"
    }
   },
   "outputs": [],
   "source": [
    "# We use react on the cases in our trainee by using react_into_trainee\n",
    "t.react_into_trainee(context_features=context_features, action_feature=action_features[0], contributions_robust = True, mda=True, residuals=True)\n"
   ]
  },
  {
   "cell_type": "code",
   "execution_count": 9,
   "id": "ad46b629",
   "metadata": {
    "execution": {
     "iopub.execute_input": "2024-02-23T01:04:19.057220Z",
     "iopub.status.busy": "2024-02-23T01:04:19.056832Z",
     "iopub.status.idle": "2024-02-23T01:04:19.068076Z",
     "shell.execute_reply": "2024-02-23T01:04:19.067581Z"
    }
   },
   "outputs": [
    {
     "data": {
      "text/html": [
       "<div>\n",
       "<style scoped>\n",
       "    .dataframe tbody tr th:only-of-type {\n",
       "        vertical-align: middle;\n",
       "    }\n",
       "\n",
       "    .dataframe tbody tr th {\n",
       "        vertical-align: top;\n",
       "    }\n",
       "\n",
       "    .dataframe thead th {\n",
       "        text-align: right;\n",
       "    }\n",
       "</style>\n",
       "<table border=\"1\" class=\"dataframe\">\n",
       "  <thead>\n",
       "    <tr style=\"text-align: right;\">\n",
       "      <th></th>\n",
       "      <th>sex</th>\n",
       "      <th>education-num</th>\n",
       "      <th>hours-per-week</th>\n",
       "      <th>age</th>\n",
       "      <th>relationship</th>\n",
       "      <th>fnlwgt</th>\n",
       "      <th>capital-gain</th>\n",
       "      <th>marital-status</th>\n",
       "      <th>native-country</th>\n",
       "      <th>race</th>\n",
       "      <th>education</th>\n",
       "      <th>capital-loss</th>\n",
       "      <th>occupation</th>\n",
       "      <th>workclass</th>\n",
       "    </tr>\n",
       "  </thead>\n",
       "  <tbody>\n",
       "    <tr>\n",
       "      <th>mae</th>\n",
       "      <td>0.26731</td>\n",
       "      <td>1.738721</td>\n",
       "      <td>8.095388</td>\n",
       "      <td>8.768261</td>\n",
       "      <td>0.338754</td>\n",
       "      <td>81692.694652</td>\n",
       "      <td>1755.573092</td>\n",
       "      <td>0.26003</td>\n",
       "      <td>0.136497</td>\n",
       "      <td>0.203034</td>\n",
       "      <td>0.667376</td>\n",
       "      <td>209.952</td>\n",
       "      <td>0.838072</td>\n",
       "      <td>0.468936</td>\n",
       "    </tr>\n",
       "  </tbody>\n",
       "</table>\n",
       "</div>"
      ],
      "text/plain": [
       "         sex  education-num  hours-per-week       age  relationship  \\\n",
       "mae  0.26731       1.738721        8.095388  8.768261      0.338754   \n",
       "\n",
       "           fnlwgt  capital-gain  marital-status  native-country      race  \\\n",
       "mae  81692.694652   1755.573092         0.26003        0.136497  0.203034   \n",
       "\n",
       "     education  capital-loss  occupation  workclass  \n",
       "mae   0.667376       209.952    0.838072   0.468936  "
      ]
     },
     "execution_count": 9,
     "metadata": {},
     "output_type": "execute_result"
    }
   ],
   "source": [
    "# Global Feature Residual\n",
    "global_feature_residuals = t.get_prediction_stats(action_feature=action_features[0], stats=['mae'])\n",
    "global_feature_residuals"
   ]
  },
  {
   "cell_type": "code",
   "execution_count": 10,
   "id": "3b7b5efd",
   "metadata": {
    "execution": {
     "iopub.execute_input": "2024-02-23T01:04:19.070243Z",
     "iopub.status.busy": "2024-02-23T01:04:19.069895Z",
     "iopub.status.idle": "2024-02-23T01:04:19.080842Z",
     "shell.execute_reply": "2024-02-23T01:04:19.080375Z"
    }
   },
   "outputs": [
    {
     "data": {
      "text/html": [
       "<div>\n",
       "<style scoped>\n",
       "    .dataframe tbody tr th:only-of-type {\n",
       "        vertical-align: middle;\n",
       "    }\n",
       "\n",
       "    .dataframe tbody tr th {\n",
       "        vertical-align: top;\n",
       "    }\n",
       "\n",
       "    .dataframe thead th {\n",
       "        text-align: right;\n",
       "    }\n",
       "</style>\n",
       "<table border=\"1\" class=\"dataframe\">\n",
       "  <thead>\n",
       "    <tr style=\"text-align: right;\">\n",
       "      <th></th>\n",
       "      <th>sex</th>\n",
       "      <th>education-num</th>\n",
       "      <th>hours-per-week</th>\n",
       "      <th>age</th>\n",
       "      <th>relationship</th>\n",
       "      <th>fnlwgt</th>\n",
       "      <th>target</th>\n",
       "      <th>capital-gain</th>\n",
       "      <th>marital-status</th>\n",
       "      <th>native-country</th>\n",
       "      <th>race</th>\n",
       "      <th>education</th>\n",
       "      <th>capital-loss</th>\n",
       "      <th>occupation</th>\n",
       "      <th>workclass</th>\n",
       "    </tr>\n",
       "  </thead>\n",
       "  <tbody>\n",
       "    <tr>\n",
       "      <th>1</th>\n",
       "      <td>0.277507</td>\n",
       "      <td>0.731998</td>\n",
       "      <td>18.69974</td>\n",
       "      <td>11.639161</td>\n",
       "      <td>0.583127</td>\n",
       "      <td>72798.559171</td>\n",
       "      <td>0.294508</td>\n",
       "      <td>18016.015416</td>\n",
       "      <td>0.308207</td>\n",
       "      <td>0.153791</td>\n",
       "      <td>0.153457</td>\n",
       "      <td>0.788929</td>\n",
       "      <td>183.589052</td>\n",
       "      <td>0.856191</td>\n",
       "      <td>0.471821</td>\n",
       "    </tr>\n",
       "  </tbody>\n",
       "</table>\n",
       "</div>"
      ],
      "text/plain": [
       "0       sex education-num hours-per-week        age relationship  \\\n",
       "1  0.277507      0.731998       18.69974  11.639161     0.583127   \n",
       "\n",
       "0        fnlwgt    target  capital-gain marital-status native-country  \\\n",
       "1  72798.559171  0.294508  18016.015416       0.308207       0.153791   \n",
       "\n",
       "0      race education capital-loss occupation workclass  \n",
       "1  0.153457  0.788929   183.589052   0.856191  0.471821  "
      ]
     },
     "execution_count": 10,
     "metadata": {},
     "output_type": "execute_result"
    }
   ],
   "source": [
    "# Local Feature Residual\n",
    "feature_residuals_dicts = results['details']['feature_residuals']\n",
    "feature_residuals = pd.DataFrame(list(feature_residuals_dicts[0].items()))\n",
    "feature_residuals = feature_residuals.T\n",
    "feature_residuals.columns = feature_residuals.loc[0]\n",
    "feature_residuals = feature_residuals.drop(0, axis=0)\n",
    "feature_residuals"
   ]
  },
  {
   "attachments": {},
   "cell_type": "markdown",
   "id": "d5949996",
   "metadata": {},
   "source": [
    "### Results\n",
    "\n",
    "We can see that `capital-gain` and `hours-per-week` show high local residuals compared the global residuals, indicating that these features for our case have high uncertainty. This tells us that the values of these two columns are unusual compared to the rest of the features and further supports our concern about this person being predicted to earn under $50k. In lay terms, when the rest of the features are used to predict these two features and the prediction is inaccurate, i.e., has higher residuals, then these two features uncertain because they are not what the model typically expects given the values of the other features."
   ]
  },
  {
   "attachments": {},
   "cell_type": "markdown",
   "id": "36b0036b",
   "metadata": {},
   "source": [
    "# Section 3. Feature Contributions\n",
    "\n",
    "Now that we see these features are a bit unusual, we can determine how important they are. One metric that allows a user to gain insight into feature importance is Howso Engine's Feature Contribution. Feature Contribution gives the user insight into the magnitude of a feature's effect on the predicted outcome, regardless of accuracy.\n",
    "\n",
    "**`Definitions`:**\n",
    "\n",
    "**`Feature Contribution`:** The difference between the predicted Action Feature value when each feature is included in the Trainee versus not included in the Trainee. Feature Contribution units are on the same scale as the Action Feature(s), and will be probabilities for categorical features.\n",
    "\n",
    "**`Robust Feature Contribution`:** The difference between the predicted Action Feature value(s) when each feature is included in the Trainee versus not included in the Trainee over a sampling of the power set of all of the Context features. This is closely related to the commonly used `SHAP` feature importance measure. The difference is that SHAP is an exact value for a model (which itself is an approximation) whereas Robust Feature Contribution is an approximation of the feature importance for the relationships expressed in the data."
   ]
  },
  {
   "attachments": {},
   "cell_type": "markdown",
   "id": "85e7f470",
   "metadata": {},
   "source": [
    "> **Note:**  Mean Decrease In Accuracy (MDA)\n",
    "\n",
    "In addition to Feature Contributions, MDA is a similar metric available in Howso Engine that can be used to gauge feature importance. While Feature Contribution measures the difference in predictions, MDA measures the difference in accuracy. Both have a robust option which is a similar mechanism to `SHAP`.\n",
    "\n",
    "**`MDA`:** The mean decrease in accuracy of removing a feature.  MDA units are on the same scale as the Action Feature(s), and will be probabilities for categorical features.\n"
   ]
  },
  {
   "cell_type": "code",
   "execution_count": 11,
   "id": "4f932bc7",
   "metadata": {
    "execution": {
     "iopub.execute_input": "2024-02-23T01:04:19.083167Z",
     "iopub.status.busy": "2024-02-23T01:04:19.082819Z",
     "iopub.status.idle": "2024-02-23T01:04:19.810477Z",
     "shell.execute_reply": "2024-02-23T01:04:19.809860Z"
    }
   },
   "outputs": [
    {
     "data": {
      "image/png": "[encoded data removed]"
     },
     "metadata": {},
     "output_type": "display_data"
    }
   ],
   "source": [
    "# Helper variable for graphing\n",
    "num_features=10\n",
    "\n",
    "# Robust Feature Contributions\n",
    "robust_feature_contributions = t.get_prediction_stats(action_feature=action_features[0], stats=['contribution'])\n",
    "fig = plot_feature_importances(robust_feature_contributions)\n",
    "fig.show()"
   ]
  },
  {
   "attachments": {},
   "cell_type": "markdown",
   "id": "dac59d88",
   "metadata": {},
   "source": [
    "### Results\n",
    "\n",
    "We can see that `capital-gain` and `hours-per-week` generally lie between the 4th and 8th more relevant features according to `feature_contributions`. While this shows that these two features are important in the Trainee and that our unusual feature values may still be concerning, they are still noticeably less important that the top 4 most important features. Intuitively, we expected a feature like `hours-per-week` to have a large impact on our prediction, however these results indicate that it may not have the strong effect we expected. This starts to give us more confidence in the results, as it is likely the most relevant features have values much more in line with someone who makes less than $50k. For example the person is 29 years old, which is quite young in this dataset. It is likely this young age had a large impact in the prediction as age is a strong contributor to the prediction of salary according to these results."
   ]
  },
  {
   "attachments": {},
   "cell_type": "markdown",
   "id": "1204fe80",
   "metadata": {},
   "source": [
    "### Section 4. Influential Cases\n",
    "\n",
    "One of Howso Engine's most powerful tools is the ability to tell the user which cases have the most influence on a prediction. \n",
    "\n",
    "\n",
    "**`Definitions`:**\n",
    "\n",
    "**`Influential Cases`:** Cases which have the most impact on the prediction. The Cases are returned with influence weights which represent the proportion of the influence that Case had on the result. All Influential Cases' weights sum to 1."
   ]
  },
  {
   "cell_type": "code",
   "execution_count": 12,
   "id": "d36e438b",
   "metadata": {
    "execution": {
     "iopub.execute_input": "2024-02-23T01:04:19.813239Z",
     "iopub.status.busy": "2024-02-23T01:04:19.812847Z",
     "iopub.status.idle": "2024-02-23T01:04:19.824681Z",
     "shell.execute_reply": "2024-02-23T01:04:19.824223Z"
    }
   },
   "outputs": [
    {
     "data": {
      "text/html": [
       "<div>\n",
       "<style scoped>\n",
       "    .dataframe tbody tr th:only-of-type {\n",
       "        vertical-align: middle;\n",
       "    }\n",
       "\n",
       "    .dataframe tbody tr th {\n",
       "        vertical-align: top;\n",
       "    }\n",
       "\n",
       "    .dataframe thead th {\n",
       "        text-align: right;\n",
       "    }\n",
       "</style>\n",
       "<table border=\"1\" class=\"dataframe\">\n",
       "  <thead>\n",
       "    <tr style=\"text-align: right;\">\n",
       "      <th></th>\n",
       "      <th>sex</th>\n",
       "      <th>education-num</th>\n",
       "      <th>hours-per-week</th>\n",
       "      <th>age</th>\n",
       "      <th>.influence_weight</th>\n",
       "      <th>relationship</th>\n",
       "      <th>fnlwgt</th>\n",
       "      <th>target</th>\n",
       "      <th>capital-gain</th>\n",
       "      <th>marital-status</th>\n",
       "      <th>.session</th>\n",
       "      <th>native-country</th>\n",
       "      <th>race</th>\n",
       "      <th>education</th>\n",
       "      <th>.session_training_index</th>\n",
       "      <th>capital-loss</th>\n",
       "      <th>occupation</th>\n",
       "      <th>workclass</th>\n",
       "    </tr>\n",
       "  </thead>\n",
       "  <tbody>\n",
       "    <tr>\n",
       "      <th>0</th>\n",
       "      <td>1</td>\n",
       "      <td>13</td>\n",
       "      <td>72</td>\n",
       "      <td>46</td>\n",
       "      <td>0.101069</td>\n",
       "      <td>0</td>\n",
       "      <td>198660</td>\n",
       "      <td>0</td>\n",
       "      <td>99999</td>\n",
       "      <td>2</td>\n",
       "      <td>67ffebeb-8d19-4a7c-959a-37d6e78a4dde</td>\n",
       "      <td>39</td>\n",
       "      <td>4</td>\n",
       "      <td>9</td>\n",
       "      <td>230</td>\n",
       "      <td>0</td>\n",
       "      <td>12</td>\n",
       "      <td>5</td>\n",
       "    </tr>\n",
       "    <tr>\n",
       "      <th>1</th>\n",
       "      <td>0</td>\n",
       "      <td>9</td>\n",
       "      <td>36</td>\n",
       "      <td>28</td>\n",
       "      <td>0.097342</td>\n",
       "      <td>5</td>\n",
       "      <td>126060</td>\n",
       "      <td>0</td>\n",
       "      <td>99999</td>\n",
       "      <td>2</td>\n",
       "      <td>67ffebeb-8d19-4a7c-959a-37d6e78a4dde</td>\n",
       "      <td>39</td>\n",
       "      <td>4</td>\n",
       "      <td>11</td>\n",
       "      <td>627</td>\n",
       "      <td>0</td>\n",
       "      <td>1</td>\n",
       "      <td>4</td>\n",
       "    </tr>\n",
       "    <tr>\n",
       "      <th>2</th>\n",
       "      <td>1</td>\n",
       "      <td>15</td>\n",
       "      <td>40</td>\n",
       "      <td>56</td>\n",
       "      <td>0.092632</td>\n",
       "      <td>0</td>\n",
       "      <td>98418</td>\n",
       "      <td>0</td>\n",
       "      <td>99999</td>\n",
       "      <td>2</td>\n",
       "      <td>67ffebeb-8d19-4a7c-959a-37d6e78a4dde</td>\n",
       "      <td>39</td>\n",
       "      <td>4</td>\n",
       "      <td>14</td>\n",
       "      <td>40</td>\n",
       "      <td>0</td>\n",
       "      <td>10</td>\n",
       "      <td>5</td>\n",
       "    </tr>\n",
       "    <tr>\n",
       "      <th>3</th>\n",
       "      <td>1</td>\n",
       "      <td>15</td>\n",
       "      <td>40</td>\n",
       "      <td>48</td>\n",
       "      <td>0.090569</td>\n",
       "      <td>0</td>\n",
       "      <td>93449</td>\n",
       "      <td>0</td>\n",
       "      <td>99999</td>\n",
       "      <td>2</td>\n",
       "      <td>67ffebeb-8d19-4a7c-959a-37d6e78a4dde</td>\n",
       "      <td>30</td>\n",
       "      <td>1</td>\n",
       "      <td>14</td>\n",
       "      <td>997</td>\n",
       "      <td>0</td>\n",
       "      <td>10</td>\n",
       "      <td>2</td>\n",
       "    </tr>\n",
       "    <tr>\n",
       "      <th>4</th>\n",
       "      <td>1</td>\n",
       "      <td>16</td>\n",
       "      <td>40</td>\n",
       "      <td>65</td>\n",
       "      <td>0.087557</td>\n",
       "      <td>0</td>\n",
       "      <td>184965</td>\n",
       "      <td>0</td>\n",
       "      <td>99999</td>\n",
       "      <td>2</td>\n",
       "      <td>67ffebeb-8d19-4a7c-959a-37d6e78a4dde</td>\n",
       "      <td>39</td>\n",
       "      <td>4</td>\n",
       "      <td>10</td>\n",
       "      <td>649</td>\n",
       "      <td>0</td>\n",
       "      <td>4</td>\n",
       "      <td>5</td>\n",
       "    </tr>\n",
       "  </tbody>\n",
       "</table>\n",
       "</div>"
      ],
      "text/plain": [
       "   sex  education-num  hours-per-week  age  .influence_weight  relationship  \\\n",
       "0    1             13              72   46           0.101069             0   \n",
       "1    0              9              36   28           0.097342             5   \n",
       "2    1             15              40   56           0.092632             0   \n",
       "3    1             15              40   48           0.090569             0   \n",
       "4    1             16              40   65           0.087557             0   \n",
       "\n",
       "   fnlwgt  target  capital-gain  marital-status  \\\n",
       "0  198660       0         99999               2   \n",
       "1  126060       0         99999               2   \n",
       "2   98418       0         99999               2   \n",
       "3   93449       0         99999               2   \n",
       "4  184965       0         99999               2   \n",
       "\n",
       "                               .session  native-country  race  education  \\\n",
       "0  67ffebeb-8d19-4a7c-959a-37d6e78a4dde              39     4          9   \n",
       "1  67ffebeb-8d19-4a7c-959a-37d6e78a4dde              39     4         11   \n",
       "2  67ffebeb-8d19-4a7c-959a-37d6e78a4dde              39     4         14   \n",
       "3  67ffebeb-8d19-4a7c-959a-37d6e78a4dde              30     1         14   \n",
       "4  67ffebeb-8d19-4a7c-959a-37d6e78a4dde              39     4         10   \n",
       "\n",
       "   .session_training_index  capital-loss  occupation  workclass  \n",
       "0                      230             0          12          5  \n",
       "1                      627             0           1          4  \n",
       "2                       40             0          10          5  \n",
       "3                      997             0          10          2  \n",
       "4                      649             0           4          5  "
      ]
     },
     "execution_count": 12,
     "metadata": {},
     "output_type": "execute_result"
    }
   ],
   "source": [
    "influence_df = pd.DataFrame(results['details']['influential_cases'][0])\n",
    "\n",
    "influence_df.head()"
   ]
  },
  {
   "attachments": {},
   "cell_type": "markdown",
   "id": "c13f2829",
   "metadata": {},
   "source": [
    "### Results\n",
    "\n",
    "Looking at these results, we can see several patterns. We learn that `capital-gains` is 99999 for all of the influential cases, indicating a possible error or the use of nominal coding. If this value is nominally coded, a high value such as 99999 may not actually correspond to high capital gains. Overall, this indicates that we may need to investigate `capital-gains` further to determine its validitiy in this dataset. However, in the context of this prediction, these high values may not be unusual for people making under $50k. We also see a case with relatively high hours per week similar to our case. We can feel more confident in the prediction results after seeing that there are other people making under $50k with such high values of `capital-gains` and `hours-per-week`."
   ]
  },
  {
   "attachments": {},
   "cell_type": "markdown",
   "id": "eb3dd311",
   "metadata": {},
   "source": [
    "# Section 5. Conviction\n",
    "\n",
    "Lastly, `Local Case Feature Residual Conviction` is a very useful metric that helps us evaluate the Trainee's uncertainty in it's prediction. Since Local Case Feature Residual Conviction is a ratio, the scale of the results can be interpreted. Convictions of 0.01 corresponds to very low certainty predictions and could be considered to be a guess, while a higher Conviction, such as 2, corresponds to a confident prediction.\n",
    "\n",
    "**`Definitions:`**\n",
    "\n",
    "**`Local Case Feature Residual Conviction`** This is the ratio of the regional model feature residual divided by the estimated case residual that, due to some unique properties of the underlying uncertainty mathematics, ends up being a ratio of surprisal values. Howso computes the case residual via an approximation which computes the actual residuals for the cases in the local area around a prediction."
   ]
  },
  {
   "cell_type": "code",
   "execution_count": 13,
   "id": "450f2f79",
   "metadata": {
    "execution": {
     "iopub.execute_input": "2024-02-23T01:04:19.827029Z",
     "iopub.status.busy": "2024-02-23T01:04:19.826683Z",
     "iopub.status.idle": "2024-02-23T01:04:19.829793Z",
     "shell.execute_reply": "2024-02-23T01:04:19.829332Z"
    }
   },
   "outputs": [
    {
     "name": "stdout",
     "output_type": "stream",
     "text": [
      "Case Local Feature Residual Conviction: 0.6327453557666891\n"
     ]
    }
   ],
   "source": [
    "case_residual_conviction = results['details']['local_case_feature_residual_convictions'][0][action_features[0]]\n",
    "print(f\"Case Local Feature Residual Conviction: {case_residual_conviction}\")"
   ]
  },
  {
   "attachments": {},
   "cell_type": "markdown",
   "id": "22937729",
   "metadata": {},
   "source": [
    "### Results\n",
    "\n",
    "Even though our case has 2 columns that may have unusual values for people making under $50k, a low value for the Case Local Feature Residual Conviction tells us that there is more uncertainty than expected in this prediction for the Trainee. While we have manually confirmed that there are similar influential cases, this metric gives us one more data point of certainty in our interpretation of the results."
   ]
  },
  {
   "attachments": {},
   "cell_type": "markdown",
   "id": "86455ed5",
   "metadata": {},
   "source": [
    "# Conclusion and Next Steps:\n",
    "\n",
    "In this recipe, we investigated a case where intuitively we expected that person to make over $50k. When we saw that the model predicted the person to make less than $50k, this gave us an uneasy feeling about the prediction for this case and warranted further investigation.\n",
    "\n",
    "Using Howso Engine's unique interpretability abilities, we were able to:\n",
    "\n",
    "1. Confirm our gut feeling that our case has unusual values for certain features. \n",
    "\n",
    "2. Determine how important these features actually were to making the prediction. \n",
    "\n",
    "3. Examine the cases that influenced our prediction.\n",
    "\n",
    "4. Gauge the confidence of our prediction.\n",
    "\n",
    "This led us to discovering that while our case does have unusual values, they are not out of line with similar cases and our model still has high confidence in the prediction. Thus we are able to feel much better about the prediction of this case.\n",
    "\n",
    "Recipe `3-anomaly_detection.ipynb` will next build on some of the concepts shown in this recipe and further demonstrate how they can be used to identify anomalies."
   ]
  }
 ],
 "metadata": {
  "kernelspec": {
   "display_name": "Python 3 (ipykernel)",
   "language": "python",
   "name": "python3"
  },
  "language_info": {
   "codemirror_mode": {
    "name": "ipython",
    "version": 3
   },
   "file_extension": ".py",
   "mimetype": "text/x-python",
   "name": "python",
   "nbconvert_exporter": "python",
   "pygments_lexer": "ipython3",
   "version": "3.9.18"
  },
  "vscode": {
   "interpreter": {
    "hash": "a7b40af3b3dcf6c5b8a920c6917b3b1352b9482e2d98da38730ccde8fc2e79a6"
   }
  }
 },
 "nbformat": 4,
 "nbformat_minor": 5
}
