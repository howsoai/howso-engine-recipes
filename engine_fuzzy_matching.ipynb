{
 "cells": [
  {
   "attachments": {},
   "cell_type": "markdown",
   "id": "2b9d6beb-4830-4baa-a0d0-de02bf251305",
   "metadata": {},
   "source": [
    "# Overview\n",
    "\n",
    "This example notebook will demonstrate Howso Engine’s ability to use case MDA to identify centroids in the data, then use the influential cases of each centroid to conduct matching of the data. \n",
    "\n",
    "Definitions:\n",
    " \n",
    "    - case_mda: mean decrease in accuracy for the local model as if each individual case were not in the model \n",
    "\n",
    "    - influential_cases: returns the most influential cases and their influence weights based on generalized distances as probability mass \n",
    "\n",
    "Note: case_mda is available for \"targeted\" workflow only, influential_cases are available for both \"targeted\" and \"targetless\" workflows. "
   ]
  },
  {
   "cell_type": "code",
   "execution_count": null,
   "id": "e40f75b7-399d-4c4c-9d50-5726bff0fa82",
   "metadata": {
    "execution": {
     "iopub.execute_input": "2024-02-08T21:55:04.775347Z",
     "iopub.status.busy": "2024-02-08T21:55:04.775179Z",
     "iopub.status.idle": "2024-02-08T21:55:05.845218Z",
     "shell.execute_reply": "2024-02-08T21:55:05.844704Z"
    }
   },
   "outputs": [],
   "source": [
    "from pprint import pprint\n",
    "import warnings\n",
    "\n",
    "import matplotlib.pyplot as plt\n",
    "import numpy as np\n",
    "import pandas as pd\n",
    "from scipy.special import boxcox, inv_boxcox\n",
    "import seaborn as sns\n",
    "from sklearn.datasets import make_blobs\n",
    "from sklearn.metrics import accuracy_score, pairwise_distances\n",
    "\n",
    "from howso import engine\n",
    "from howso.utilities import infer_feature_attributes\n",
    "\n",
    "warnings.filterwarnings(\"ignore\", category=[DeprecationWarning, FutureWarning], module=\"seaborn\")"
   ]
  },
  {
   "attachments": {},
   "cell_type": "markdown",
   "id": "2ada1c9c-06aa-4f84-9ea8-490f08cbb88c",
   "metadata": {},
   "source": [
    "# Generate a simple dataset\n",
    "\n",
    "For this example, we will create a simple data set which consists of three features. \n"
   ]
  },
  {
   "cell_type": "code",
   "execution_count": null,
   "id": "70e9e8b3-b67d-4d09-a3a2-8d0253735c7b",
   "metadata": {
    "execution": {
     "iopub.execute_input": "2024-02-08T21:55:05.848073Z",
     "iopub.status.busy": "2024-02-08T21:55:05.847638Z",
     "iopub.status.idle": "2024-02-08T21:55:05.856917Z",
     "shell.execute_reply": "2024-02-08T21:55:05.856497Z"
    }
   },
   "outputs": [],
   "source": [
    "# Generate simple data set with three features\n",
    "blobs = make_blobs(n_samples=1000, n_features=3, centers=50, random_state=0)\n",
    "df = pd.DataFrame(blobs[0], columns=['x', 'y', 'price'])\n",
    "\n",
    "#Rescale price feature such that it is always positive\n",
    "df['price'] = df['price'] + abs(df['price'].min()) + 1\n",
    "\n",
    "# # (Optional) Inverse Box-Cox transform to create a Pareto-like distribution\n",
    "# df['x'] = inv_boxcox(df['x'], .5)\n",
    "# df['price'] = inv_boxcox(df['price'], .25)\n",
    "\n",
    "# Store the target cluster for demonstration evaluation\n",
    "target = blobs[1]\n",
    "df.shape"
   ]
  },
  {
   "attachments": {},
   "cell_type": "markdown",
   "id": "79d3e53b-3971-4416-9c27-6da5ca65d00a",
   "metadata": {},
   "source": [
    "Visualization of the dataset to show the clusters. Note, the plot below is only showing two dimensions."
   ]
  },
  {
   "cell_type": "code",
   "execution_count": null,
   "id": "f1614333-cd96-4e4e-9fcc-604f210e2340",
   "metadata": {
    "execution": {
     "iopub.execute_input": "2024-02-08T21:55:05.859062Z",
     "iopub.status.busy": "2024-02-08T21:55:05.858686Z",
     "iopub.status.idle": "2024-02-08T21:55:06.061445Z",
     "shell.execute_reply": "2024-02-08T21:55:06.060980Z"
    }
   },
   "outputs": [],
   "source": [
    "ax = sns.scatterplot(data = df, x='x', y='y', hue=target, palette=sns.color_palette(\"icefire\", as_cmap=True), alpha=0.5)\n",
    "plt.show()"
   ]
  },
  {
   "cell_type": "code",
   "execution_count": null,
   "id": "19f0851a-9240-4def-acd1-48ef51c8dc29",
   "metadata": {
    "execution": {
     "iopub.execute_input": "2024-02-08T21:55:06.063501Z",
     "iopub.status.busy": "2024-02-08T21:55:06.063315Z",
     "iopub.status.idle": "2024-02-08T21:55:06.300195Z",
     "shell.execute_reply": "2024-02-08T21:55:06.299715Z"
    }
   },
   "outputs": [],
   "source": [
    "fig, ax = plt.subplots(nrows=1, ncols=2, figsize=(14, 5))\n",
    "sns.histplot(df['x'], ax=ax[0]).set_title(\"histogram of 'x'\")\n",
    "sns.histplot(df['price'], ax=ax[1]).set_title(\"histogram of 'price'\")\n",
    "plt.show()"
   ]
  },
  {
   "attachments": {},
   "cell_type": "markdown",
   "id": "b7c15d06-1a09-4840-8de2-1e004b9e4d08",
   "metadata": {},
   "source": [
    "# Build Howso Engine model\n",
    "\n",
    "In this section, we will build and analyze the Howso Engine model."
   ]
  },
  {
   "cell_type": "code",
   "execution_count": null,
   "id": "68fcb6c3-2414-481e-9eb7-c8a016d8d4c8",
   "metadata": {
    "execution": {
     "iopub.execute_input": "2024-02-08T21:55:06.302209Z",
     "iopub.status.busy": "2024-02-08T21:55:06.302024Z",
     "iopub.status.idle": "2024-02-08T21:55:14.675089Z",
     "shell.execute_reply": "2024-02-08T21:55:14.674617Z"
    }
   },
   "outputs": [],
   "source": [
    "# Identify feature types\n",
    "features = infer_feature_attributes(df)\n",
    "\n",
    "# Instantiate and train the model \n",
    "t = engine.Trainee(name=\"Engine - Fuzzy Matching Recipe\",  features=features, overwrite_existing=True)\n",
    "t.train(cases=df)\n",
    "\n",
    "# Specify the context (independent variable) and action (target) feature\n",
    "context_features = features.get_names(without=['price'])\n",
    "action_features = 'price'\n",
    "\n",
    "# Analyze the model\n",
    "t.analyze(context_features=context_features, action_features=[action_features])\n",
    "\n",
    "# Store the session ID to retrieve training cases for later evaluation\n",
    "sessions = t.get_sessions()\n",
    "session_id = sessions[0]['id']\n",
    "session_id"
   ]
  },
  {
   "cell_type": "code",
   "execution_count": null,
   "id": "08fae02b-c493-4b19-a531-40a6acf6b076",
   "metadata": {
    "execution": {
     "iopub.execute_input": "2024-02-08T21:55:14.677255Z",
     "iopub.status.busy": "2024-02-08T21:55:14.676927Z",
     "iopub.status.idle": "2024-02-08T21:55:14.679918Z",
     "shell.execute_reply": "2024-02-08T21:55:14.679499Z"
    }
   },
   "outputs": [],
   "source": [
    "# Feature types\n",
    "pprint(features)"
   ]
  },
  {
   "cell_type": "code",
   "execution_count": null,
   "id": "dd5dd6dc-f3f0-4131-8933-8eade00b86d8",
   "metadata": {
    "execution": {
     "iopub.execute_input": "2024-02-08T21:55:14.681677Z",
     "iopub.status.busy": "2024-02-08T21:55:14.681520Z",
     "iopub.status.idle": "2024-02-08T21:55:14.685270Z",
     "shell.execute_reply": "2024-02-08T21:55:14.684846Z"
    }
   },
   "outputs": [],
   "source": [
    "# Hyperparameters for the model\n",
    "pprint(t.get_params())"
   ]
  },
  {
   "cell_type": "code",
   "execution_count": null,
   "id": "fd940496-3275-4b15-9a01-5557e81a7641",
   "metadata": {
    "execution": {
     "iopub.execute_input": "2024-02-08T21:55:14.687108Z",
     "iopub.status.busy": "2024-02-08T21:55:14.686801Z",
     "iopub.status.idle": "2024-02-08T21:55:14.695015Z",
     "shell.execute_reply": "2024-02-08T21:55:14.694531Z"
    }
   },
   "outputs": [],
   "source": [
    "# Get a list of training cases\n",
    "case_inds = t.get_cases(session=session_id, features=['.session', '.session_training_index']).values"
   ]
  },
  {
   "attachments": {},
   "cell_type": "markdown",
   "id": "669121dd-578d-4012-af67-36340a1ef2d4",
   "metadata": {},
   "source": [
    "# Identify centroids - case_mda\n",
    "\n",
    "Identify the case_mda for each of the training cases. The case_mda will be used as centroids during clustering."
   ]
  },
  {
   "cell_type": "code",
   "execution_count": null,
   "id": "44c7a3c1-3ce4-45da-973a-d609d453726a",
   "metadata": {
    "execution": {
     "iopub.execute_input": "2024-02-08T21:55:14.696987Z",
     "iopub.status.busy": "2024-02-08T21:55:14.696685Z",
     "iopub.status.idle": "2024-02-08T21:55:19.496250Z",
     "shell.execute_reply": "2024-02-08T21:55:19.495768Z"
    }
   },
   "outputs": [],
   "source": [
    "# React to each case, extract the case_mda\n",
    "results = t.react(case_indices=case_inds, preserve_feature_values=context_features,\n",
    "                  action_features=[action_features], \n",
    "                  leave_case_out=True,\n",
    "                  details={'case_mda': True, 'robust_computation': True})"
   ]
  },
  {
   "cell_type": "code",
   "execution_count": null,
   "id": "b27429a4-d36d-4690-acdb-504f1b3f7648",
   "metadata": {
    "execution": {
     "iopub.execute_input": "2024-02-08T21:55:19.498845Z",
     "iopub.status.busy": "2024-02-08T21:55:19.498474Z",
     "iopub.status.idle": "2024-02-08T21:55:19.870395Z",
     "shell.execute_reply": "2024-02-08T21:55:19.869844Z"
    }
   },
   "outputs": [],
   "source": [
    "# Combine the case_mda into a single DataFrame\n",
    "case_mdas = pd.DataFrame()\n",
    "\n",
    "for c in results['details']['case_mda']:\n",
    "    case_mdas = pd.concat([case_mdas, pd.DataFrame(c)])"
   ]
  },
  {
   "cell_type": "code",
   "execution_count": null,
   "id": "59da952c-a01b-4fff-a14d-4f9776664d2c",
   "metadata": {
    "execution": {
     "iopub.execute_input": "2024-02-08T21:55:19.872934Z",
     "iopub.status.busy": "2024-02-08T21:55:19.872611Z",
     "iopub.status.idle": "2024-02-08T21:55:19.878490Z",
     "shell.execute_reply": "2024-02-08T21:55:19.878079Z"
    }
   },
   "outputs": [],
   "source": [
    "# Rank the mda and then find the top fifty centroids. Note, the number of centroids can be tuned. \n",
    "num_centers = 50\n",
    "case_mdas = case_mdas.sort_values('mda', ascending=False).reset_index(drop=True)\n",
    "case_mdas = case_mdas[~case_mdas['.session_training_index'].duplicated()]\n",
    "centers = case_mdas[0:num_centers]"
   ]
  },
  {
   "cell_type": "code",
   "execution_count": null,
   "id": "6b93f02d-744f-4c90-b9bf-204d887d2f1f",
   "metadata": {
    "execution": {
     "iopub.execute_input": "2024-02-08T21:55:19.880417Z",
     "iopub.status.busy": "2024-02-08T21:55:19.880256Z",
     "iopub.status.idle": "2024-02-08T21:55:19.886516Z",
     "shell.execute_reply": "2024-02-08T21:55:19.886115Z"
    }
   },
   "outputs": [],
   "source": [
    "# The .session and .session_training_index will be used to find the influential cases in the next section\n",
    "centers.head()"
   ]
  },
  {
   "cell_type": "code",
   "execution_count": null,
   "id": "b5af74fc-005a-492b-9699-d038a111b3fc",
   "metadata": {
    "execution": {
     "iopub.execute_input": "2024-02-08T21:55:19.888511Z",
     "iopub.status.busy": "2024-02-08T21:55:19.888190Z",
     "iopub.status.idle": "2024-02-08T21:55:19.896039Z",
     "shell.execute_reply": "2024-02-08T21:55:19.895634Z"
    }
   },
   "outputs": [],
   "source": [
    "# Get the case values for visualization\n",
    "center_cases = t.get_cases(case_indices=centers[['.session', '.session_training_index']].values)\n",
    "center_cases.head()"
   ]
  },
  {
   "attachments": {},
   "cell_type": "markdown",
   "id": "7d1d9c64-c209-45c3-b5e4-526dcdeb2501",
   "metadata": {},
   "source": [
    "Two dimensional representation of the identified centroids (dark orange). "
   ]
  },
  {
   "cell_type": "code",
   "execution_count": null,
   "id": "11bc724b-e9ad-4e02-9204-a1fd8ac5085c",
   "metadata": {
    "execution": {
     "iopub.execute_input": "2024-02-08T21:55:19.897930Z",
     "iopub.status.busy": "2024-02-08T21:55:19.897774Z",
     "iopub.status.idle": "2024-02-08T21:55:20.062454Z",
     "shell.execute_reply": "2024-02-08T21:55:20.061999Z"
    }
   },
   "outputs": [],
   "source": [
    "fig, ax = plt.subplots()\n",
    "ax = sns.scatterplot(data = df, x='x', y='y', hue=target, palette=sns.color_palette(\"icefire\", as_cmap=True), alpha=0.1, ax=ax)\n",
    "ax = sns.scatterplot(data = center_cases, x='x', y='y', ax=ax)\n",
    "plt.legend([],[], frameon=False)\n",
    "plt.show()"
   ]
  },
  {
   "attachments": {},
   "cell_type": "markdown",
   "id": "378772ef-d741-4d2a-b9c2-dba23515fec9",
   "metadata": {},
   "source": [
    "# Cluster around centroids - using influential cases\n",
    "\n",
    "Use the influential cases of each centroid to cluster the data. More specifically, tag the influential cases as the same cluster as the centroid.\n",
    "\n",
    "Note: most similar cases is an alternative method to cluster data points. "
   ]
  },
  {
   "cell_type": "code",
   "execution_count": null,
   "id": "cf89290f-fec3-406a-b2c8-93223d42e1de",
   "metadata": {
    "execution": {
     "iopub.execute_input": "2024-02-08T21:55:20.064633Z",
     "iopub.status.busy": "2024-02-08T21:55:20.064262Z",
     "iopub.status.idle": "2024-02-08T21:55:20.110316Z",
     "shell.execute_reply": "2024-02-08T21:55:20.109799Z"
    }
   },
   "outputs": [],
   "source": [
    "# Get the influential cases and most similar cases for each of the centroids\n",
    "num_similar_cases = 5\n",
    "results = t.react(case_indices=centers[[\".session\", \".session_training_index\"]].values,\n",
    "                  leave_case_out=True,\n",
    "                  preserve_feature_values=context_features, action_features=[action_features], \n",
    "                  details={'most_similar_cases':True, 'num_most_similar_cases':num_similar_cases, 'influential_cases':True})"
   ]
  },
  {
   "cell_type": "code",
   "execution_count": null,
   "id": "8bc7929b-4819-4cdb-91d7-02e2d12865af",
   "metadata": {
    "execution": {
     "iopub.execute_input": "2024-02-08T21:55:20.112548Z",
     "iopub.status.busy": "2024-02-08T21:55:20.112362Z",
     "iopub.status.idle": "2024-02-08T21:55:20.150390Z",
     "shell.execute_reply": "2024-02-08T21:55:20.149888Z"
    }
   },
   "outputs": [],
   "source": [
    "# Tag each influential cases with the same cluster as the centroid\n",
    "centers = centers.reset_index().rename(columns={'index':'target'})\n",
    "clustered_df = pd.DataFrame()\n",
    "\n",
    "for i, cases in enumerate(results['details']['influential_cases']):\n",
    "    tar = centers['target'].iloc[i]\n",
    "    clustered = pd.DataFrame(cases)\n",
    "    clustered['target'] = tar\n",
    "\n",
    "    clustered_df = pd.concat([clustered_df, clustered])\n",
    "    \n",
    "clustered_df = clustered_df.reset_index(drop=True)"
   ]
  },
  {
   "cell_type": "code",
   "execution_count": null,
   "id": "2514dcdf-21aa-4db6-8da7-8c1d3dba3a5c",
   "metadata": {
    "execution": {
     "iopub.execute_input": "2024-02-08T21:55:20.152646Z",
     "iopub.status.busy": "2024-02-08T21:55:20.152447Z",
     "iopub.status.idle": "2024-02-08T21:55:20.174428Z",
     "shell.execute_reply": "2024-02-08T21:55:20.173962Z"
    }
   },
   "outputs": [],
   "source": [
    "# Training data for evaluation purposes\n",
    "df_train = t.get_cases(session=session_id, features=df.columns.tolist() + ['.session_training_index'])\n",
    "df_train = df_train.join(pd.Series(target, name='target'))\n",
    "\n",
    "df_train"
   ]
  },
  {
   "cell_type": "code",
   "execution_count": null,
   "id": "bd9a5731",
   "metadata": {
    "execution": {
     "iopub.execute_input": "2024-02-08T21:55:20.176453Z",
     "iopub.status.busy": "2024-02-08T21:55:20.176148Z",
     "iopub.status.idle": "2024-02-08T21:55:20.183641Z",
     "shell.execute_reply": "2024-02-08T21:55:20.183233Z"
    }
   },
   "outputs": [],
   "source": [
    "clustered_df"
   ]
  },
  {
   "cell_type": "code",
   "execution_count": null,
   "id": "8cd71d4d-d562-471d-89d1-b7e344c66506",
   "metadata": {
    "execution": {
     "iopub.execute_input": "2024-02-08T21:55:20.185355Z",
     "iopub.status.busy": "2024-02-08T21:55:20.185200Z",
     "iopub.status.idle": "2024-02-08T21:55:20.221192Z",
     "shell.execute_reply": "2024-02-08T21:55:20.220765Z"
    }
   },
   "outputs": [],
   "source": [
    "# Map each of the predicted cluster with the most commonly occurring original cluster\n",
    "label_map = {}\n",
    "\n",
    "for c in clustered_df['target'].unique():\n",
    "    group_df = clustered_df[clustered_df['target'] == c]\n",
    "    target_original = df_train[df_train['.session_training_index'].isin(group_df['.session_training_index'])]['target'].value_counts().idxmax()\n",
    "    # print(df_train[df_train['.session_training_index'].isin(group_df['.session_training_index'])]['target'].value_counts())\n",
    "    label_map[c] = target_original\n",
    "    \n",
    "clustered_df = clustered_df.replace({'target':label_map})"
   ]
  },
  {
   "cell_type": "code",
   "execution_count": null,
   "id": "d09a0fc0-2edb-45b3-8722-90af6e4eee28",
   "metadata": {
    "execution": {
     "iopub.execute_input": "2024-02-08T21:55:20.223112Z",
     "iopub.status.busy": "2024-02-08T21:55:20.222952Z",
     "iopub.status.idle": "2024-02-08T21:55:20.366458Z",
     "shell.execute_reply": "2024-02-08T21:55:20.366001Z"
    }
   },
   "outputs": [],
   "source": [
    "# Create a single table with predicted and correct target results\n",
    "correct_target = []\n",
    "for i in clustered_df['.session_training_index']:\n",
    "    correct_t = df_train[df_train['.session_training_index'] == i]['target'].iloc[0]\n",
    "    correct_target.append(correct_t)\n",
    "    \n",
    "clustered_df['correct_target'] = correct_target\n",
    "clustered_df.head()"
   ]
  },
  {
   "cell_type": "code",
   "execution_count": null,
   "id": "14efe2a7-061f-4e59-96ae-bed49bfd4d33",
   "metadata": {
    "execution": {
     "iopub.execute_input": "2024-02-08T21:55:20.368384Z",
     "iopub.status.busy": "2024-02-08T21:55:20.368210Z",
     "iopub.status.idle": "2024-02-08T21:55:20.372236Z",
     "shell.execute_reply": "2024-02-08T21:55:20.371818Z"
    }
   },
   "outputs": [],
   "source": [
    "# Accuracy evaluation\n",
    "acc = round(accuracy_score(clustered_df['correct_target'], clustered_df['target']), 3)\n",
    "print(f'accuracy: {acc}')"
   ]
  },
  {
   "attachments": {},
   "cell_type": "markdown",
   "id": "170e8600-aad6-4609-a29f-fefd0a74fd5f",
   "metadata": {},
   "source": [
    "Two dimensional representation of the identified clusters."
   ]
  },
  {
   "cell_type": "code",
   "execution_count": null,
   "id": "ecd345eb-6dd9-42a3-820a-0c7182510d42",
   "metadata": {
    "execution": {
     "iopub.execute_input": "2024-02-08T21:55:20.374140Z",
     "iopub.status.busy": "2024-02-08T21:55:20.373842Z",
     "iopub.status.idle": "2024-02-08T21:55:20.583563Z",
     "shell.execute_reply": "2024-02-08T21:55:20.583065Z"
    }
   },
   "outputs": [],
   "source": [
    "fig, ax = plt.subplots()\n",
    "ax = sns.scatterplot(data = df, x='x', y='y', hue=target, palette=sns.color_palette(\"icefire\", as_cmap=True), alpha=0.1, ax=ax)\n",
    "ax = sns.scatterplot(data = clustered_df, x='x', y='y', hue='target', palette=sns.color_palette(\"tab10\", as_cmap=True), ax=ax)\n",
    "plt.legend([],[], frameon=False)\n",
    "plt.show()"
   ]
  },
  {
   "attachments": {},
   "cell_type": "markdown",
   "id": "0a1f0698-f560-4c1c-b28e-e6b19ef4f2ad",
   "metadata": {},
   "source": [
    "# Impact of number of centroids\n",
    "\n",
    "Howso Engine starts clustering with the most confident centroids (highest case_mda). Therefore, the number specified centroids can have an impact on clustering performance. \n",
    "\n",
    "Relatively low ratio of specified clusters vs. actual number of clusters is expected to have higher accuracy. In this example, we will demonstrate the impact of the number of cluster using 10 to 50 clusters. As a ratio of specified clusters to actual clusters, these represents a ratio of 1/5 up to 1. "
   ]
  },
  {
   "cell_type": "code",
   "execution_count": null,
   "id": "1d9b61d7-79f1-4ae4-b119-0478a93be4f8",
   "metadata": {
    "execution": {
     "iopub.execute_input": "2024-02-08T21:55:20.585828Z",
     "iopub.status.busy": "2024-02-08T21:55:20.585467Z",
     "iopub.status.idle": "2024-02-08T21:55:20.587981Z",
     "shell.execute_reply": "2024-02-08T21:55:20.587542Z"
    }
   },
   "outputs": [],
   "source": [
    "# Number of specified clusters\n",
    "num_centers = [10, 20, 30, 40, 50]"
   ]
  },
  {
   "cell_type": "code",
   "execution_count": null,
   "id": "9c942f38-7dcb-44c4-af7f-124022414576",
   "metadata": {
    "execution": {
     "iopub.execute_input": "2024-02-08T21:55:20.589900Z",
     "iopub.status.busy": "2024-02-08T21:55:20.589603Z",
     "iopub.status.idle": "2024-02-08T21:55:20.596782Z",
     "shell.execute_reply": "2024-02-08T21:55:20.596341Z"
    }
   },
   "outputs": [],
   "source": [
    "# A function which finds the centroids (using case_mda), then clusters the data (using influential cases), followed by accuracy evaluation\n",
    "def cluster_eval(num_centers):\n",
    "    case_mdas = pd.DataFrame()\n",
    "    \n",
    "    results = t.react(case_indices=case_inds, preserve_feature_values=context_features,\n",
    "                  action_features=[action_features], \n",
    "                  leave_case_out=True,\n",
    "                  details={'case_mda':True, 'robust_influences': True})\n",
    "\n",
    "    for c in results['details']['case_mda']:\n",
    "        case_mdas = pd.concat([case_mdas, pd.DataFrame(c)])\n",
    "\n",
    "    case_mdas = case_mdas.sort_values('mda', ascending=False).reset_index(drop=True)\n",
    "    case_mdas = case_mdas[~case_mdas['.session_training_index'].duplicated()]\n",
    "    centers = case_mdas[0:num_centers]\n",
    "\n",
    "    center_cases = t.get_cases(case_indices=centers[['.session', '.session_training_index']].values)\n",
    "\n",
    "    num_similar_cases = 5\n",
    "\n",
    "    results = t.react(case_indices=centers[['.session', '.session_training_index']].values,\n",
    "                      leave_case_out=True,\n",
    "                      preserve_feature_values=context_features, action_features=[action_features], \n",
    "                      details={'most_similar_cases':True, 'num_most_similar_cases':num_similar_cases, 'influential_cases':True})\n",
    "\n",
    "    centers = centers.reset_index().rename(columns={'index':'target'})\n",
    "    clustered_df = pd.DataFrame()\n",
    "\n",
    "    for i, cases in enumerate(results['details']['influential_cases']):\n",
    "        tar = centers['target'].iloc[i]\n",
    "        clustered = pd.DataFrame(cases)\n",
    "        clustered['target'] = tar\n",
    "\n",
    "        clustered_df = pd.concat([clustered_df, clustered])\n",
    "\n",
    "    clustered_df = clustered_df.reset_index(drop=True)\n",
    "\n",
    "    df_train = t.get_cases(session=session_id, features=df.columns.tolist() + ['.session_training_index'])\n",
    "    df_train = df_train.join(pd.Series(target, name='target'))\n",
    "\n",
    "    label_map = {}\n",
    "\n",
    "    for c in clustered_df['target'].unique():\n",
    "        group_df = clustered_df[clustered_df['target'] == c]\n",
    "        target_original = df_train[df_train['.session_training_index'].isin(group_df['.session_training_index'])]['target'].value_counts().idxmax()\n",
    "        # print(df_train[df_train['.session_training_index'].isin(group_df['.session_training_index'])]['target'].value_counts())\n",
    "        label_map[c] = target_original\n",
    "\n",
    "    clustered_df = clustered_df.replace({'target':label_map})\n",
    "\n",
    "    correct_target = []\n",
    "    for i in  clustered_df['.session_training_index']:\n",
    "        correct_t = df_train[df_train['.session_training_index'] == i]['target'].iloc[0]\n",
    "        correct_target.append(correct_t)\n",
    "\n",
    "    clustered_df['correct_target'] = correct_target\n",
    "\n",
    "    clustered_df.head()\n",
    "\n",
    "    return(accuracy_score(clustered_df['correct_target'], clustered_df['target']))"
   ]
  },
  {
   "cell_type": "code",
   "execution_count": null,
   "id": "b9677196-07b0-45e3-bf4b-c1f691af0cd8",
   "metadata": {
    "execution": {
     "iopub.execute_input": "2024-02-08T21:55:20.598675Z",
     "iopub.status.busy": "2024-02-08T21:55:20.598370Z",
     "iopub.status.idle": "2024-02-08T21:55:48.150792Z",
     "shell.execute_reply": "2024-02-08T21:55:48.150287Z"
    }
   },
   "outputs": [],
   "source": [
    "# Get the accuracy results for each of specified number of clusters\n",
    "acc = []\n",
    "for n in num_centers:\n",
    "    acc.append(cluster_eval(n))"
   ]
  },
  {
   "attachments": {},
   "cell_type": "markdown",
   "id": "4c2932f0-50c4-4c36-81ec-897fb8cdfa32",
   "metadata": {},
   "source": [
    "Visualize the accuracy vs. number of specified centroid results"
   ]
  },
  {
   "cell_type": "code",
   "execution_count": null,
   "id": "9b8678f5-3ce8-457a-8375-b0eaf6b29c37",
   "metadata": {
    "execution": {
     "iopub.execute_input": "2024-02-08T21:55:48.153387Z",
     "iopub.status.busy": "2024-02-08T21:55:48.153207Z",
     "iopub.status.idle": "2024-02-08T21:55:48.257041Z",
     "shell.execute_reply": "2024-02-08T21:55:48.256549Z"
    }
   },
   "outputs": [],
   "source": [
    "ax = sns.lineplot(x=num_centers, y=acc)\n",
    "ax.set(xlabel='number of centroids', ylabel='accuracy')\n",
    "plt.show()"
   ]
  }
 ],
 "metadata": {
  "kernelspec": {
   "display_name": "Python 3 (ipykernel)",
   "language": "python",
   "name": "python3"
  },
  "language_info": {
   "codemirror_mode": {
    "name": "ipython",
    "version": 3
   },
   "file_extension": ".py",
   "mimetype": "text/x-python",
   "name": "python",
   "nbconvert_exporter": "python",
   "pygments_lexer": "ipython3",
   "version": "3.11.7"
  },
  "vscode": {
   "interpreter": {
    "hash": "5a97d8588cce4b7427f7b841aa84f596036816f81d1a6ebef91f01881d12ee0c"
   }
  }
 },
 "nbformat": 4,
 "nbformat_minor": 5
}
