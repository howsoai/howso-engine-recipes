{
 "cells": [
  {
   "attachments": {},
   "cell_type": "markdown",
   "metadata": {},
   "source": [
    "# Overview\n",
    "\n",
    "This notebook provides an overview of applying Howso Engine to make predictions based on historical data and harnessing Howso Engine’s interpretability capabilities to understand why the predictions were made. Here, we demonstrate these capabilities on asteroid data. We build a Howso Engine Trainee to predict various information about different asteroids, understand the influential cases on the predictions, and understand the uncertainty of the predictions. This is a straightforward example of the power of Howso Engine to gain insights from data. "
   ]
  },
  {
   "cell_type": "code",
   "execution_count": 1,
   "metadata": {},
   "outputs": [],
   "source": [
    "from pprint import pprint\n",
    "\n",
    "import pandas as pd\n",
    "\n",
    "from howso.engine import Trainee\n",
    "from howso.utilities import infer_feature_attributes\n",
    "from howso.visuals import plot_interpretable_prediction"
   ]
  },
  {
   "attachments": {},
   "cell_type": "markdown",
   "metadata": {},
   "source": [
    "# Step 1: Load and Map the Data\n",
    "\n",
    "## For this demonstration we will use a subset of a dataset containing measurements of various asteroids"
   ]
  },
  {
   "cell_type": "code",
   "execution_count": 2,
   "metadata": {},
   "outputs": [
    {
     "data": {
      "text/html": [
       "<div>\n",
       "<style scoped>\n",
       "    .dataframe tbody tr th:only-of-type {\n",
       "        vertical-align: middle;\n",
       "    }\n",
       "\n",
       "    .dataframe tbody tr th {\n",
       "        vertical-align: top;\n",
       "    }\n",
       "\n",
       "    .dataframe thead th {\n",
       "        text-align: right;\n",
       "    }\n",
       "</style>\n",
       "<table border=\"1\" class=\"dataframe\">\n",
       "  <thead>\n",
       "    <tr style=\"text-align: right;\">\n",
       "      <th></th>\n",
       "      <th>full_name</th>\n",
       "      <th>a</th>\n",
       "      <th>e</th>\n",
       "      <th>G</th>\n",
       "      <th>i</th>\n",
       "      <th>om</th>\n",
       "      <th>w</th>\n",
       "      <th>q</th>\n",
       "      <th>ad</th>\n",
       "      <th>per_y</th>\n",
       "      <th>...</th>\n",
       "      <th>rot_per</th>\n",
       "      <th>GM</th>\n",
       "      <th>BV</th>\n",
       "      <th>UB</th>\n",
       "      <th>IR</th>\n",
       "      <th>spec_B</th>\n",
       "      <th>spec_T</th>\n",
       "      <th>neo</th>\n",
       "      <th>pha</th>\n",
       "      <th>moid</th>\n",
       "    </tr>\n",
       "  </thead>\n",
       "  <tbody>\n",
       "    <tr>\n",
       "      <th>0</th>\n",
       "      <td>1 Ceres</td>\n",
       "      <td>2.769165</td>\n",
       "      <td>0.076009</td>\n",
       "      <td>0.12</td>\n",
       "      <td>10.594067</td>\n",
       "      <td>80.305532</td>\n",
       "      <td>73.597694</td>\n",
       "      <td>2.558684</td>\n",
       "      <td>2.979647</td>\n",
       "      <td>4.608202</td>\n",
       "      <td>...</td>\n",
       "      <td>9.074170</td>\n",
       "      <td>62.6284</td>\n",
       "      <td>0.713</td>\n",
       "      <td>0.426</td>\n",
       "      <td>NaN</td>\n",
       "      <td>C</td>\n",
       "      <td>G</td>\n",
       "      <td>N</td>\n",
       "      <td>N</td>\n",
       "      <td>1.594780</td>\n",
       "    </tr>\n",
       "    <tr>\n",
       "      <th>1</th>\n",
       "      <td>2 Pallas</td>\n",
       "      <td>2.772466</td>\n",
       "      <td>0.230337</td>\n",
       "      <td>0.11</td>\n",
       "      <td>34.836234</td>\n",
       "      <td>173.080063</td>\n",
       "      <td>310.048857</td>\n",
       "      <td>2.133865</td>\n",
       "      <td>3.411067</td>\n",
       "      <td>4.616444</td>\n",
       "      <td>...</td>\n",
       "      <td>7.813200</td>\n",
       "      <td>14.3000</td>\n",
       "      <td>0.635</td>\n",
       "      <td>0.284</td>\n",
       "      <td>NaN</td>\n",
       "      <td>B</td>\n",
       "      <td>B</td>\n",
       "      <td>N</td>\n",
       "      <td>N</td>\n",
       "      <td>1.233240</td>\n",
       "    </tr>\n",
       "    <tr>\n",
       "      <th>2</th>\n",
       "      <td>3 Juno</td>\n",
       "      <td>2.669150</td>\n",
       "      <td>0.256942</td>\n",
       "      <td>0.32</td>\n",
       "      <td>12.988919</td>\n",
       "      <td>169.852760</td>\n",
       "      <td>248.138626</td>\n",
       "      <td>1.983332</td>\n",
       "      <td>3.354967</td>\n",
       "      <td>4.360814</td>\n",
       "      <td>...</td>\n",
       "      <td>7.210000</td>\n",
       "      <td>NaN</td>\n",
       "      <td>0.824</td>\n",
       "      <td>0.433</td>\n",
       "      <td>NaN</td>\n",
       "      <td>Sk</td>\n",
       "      <td>S</td>\n",
       "      <td>N</td>\n",
       "      <td>N</td>\n",
       "      <td>1.034540</td>\n",
       "    </tr>\n",
       "    <tr>\n",
       "      <th>3</th>\n",
       "      <td>4 Vesta</td>\n",
       "      <td>2.361418</td>\n",
       "      <td>0.088721</td>\n",
       "      <td>0.32</td>\n",
       "      <td>7.141771</td>\n",
       "      <td>103.810804</td>\n",
       "      <td>150.728541</td>\n",
       "      <td>2.151909</td>\n",
       "      <td>2.570926</td>\n",
       "      <td>3.628837</td>\n",
       "      <td>...</td>\n",
       "      <td>5.342128</td>\n",
       "      <td>17.8000</td>\n",
       "      <td>0.782</td>\n",
       "      <td>0.492</td>\n",
       "      <td>NaN</td>\n",
       "      <td>V</td>\n",
       "      <td>V</td>\n",
       "      <td>N</td>\n",
       "      <td>N</td>\n",
       "      <td>1.139480</td>\n",
       "    </tr>\n",
       "    <tr>\n",
       "      <th>4</th>\n",
       "      <td>5 Astraea</td>\n",
       "      <td>2.574249</td>\n",
       "      <td>0.191095</td>\n",
       "      <td>NaN</td>\n",
       "      <td>5.366988</td>\n",
       "      <td>141.576604</td>\n",
       "      <td>358.687608</td>\n",
       "      <td>2.082324</td>\n",
       "      <td>3.066174</td>\n",
       "      <td>4.130323</td>\n",
       "      <td>...</td>\n",
       "      <td>16.806000</td>\n",
       "      <td>NaN</td>\n",
       "      <td>0.826</td>\n",
       "      <td>0.411</td>\n",
       "      <td>NaN</td>\n",
       "      <td>S</td>\n",
       "      <td>S</td>\n",
       "      <td>N</td>\n",
       "      <td>N</td>\n",
       "      <td>1.095890</td>\n",
       "    </tr>\n",
       "    <tr>\n",
       "      <th>...</th>\n",
       "      <td>...</td>\n",
       "      <td>...</td>\n",
       "      <td>...</td>\n",
       "      <td>...</td>\n",
       "      <td>...</td>\n",
       "      <td>...</td>\n",
       "      <td>...</td>\n",
       "      <td>...</td>\n",
       "      <td>...</td>\n",
       "      <td>...</td>\n",
       "      <td>...</td>\n",
       "      <td>...</td>\n",
       "      <td>...</td>\n",
       "      <td>...</td>\n",
       "      <td>...</td>\n",
       "      <td>...</td>\n",
       "      <td>...</td>\n",
       "      <td>...</td>\n",
       "      <td>...</td>\n",
       "      <td>...</td>\n",
       "      <td>...</td>\n",
       "    </tr>\n",
       "    <tr>\n",
       "      <th>4996</th>\n",
       "      <td>4997 Ksana (1986 TM)</td>\n",
       "      <td>2.871173</td>\n",
       "      <td>0.329960</td>\n",
       "      <td>NaN</td>\n",
       "      <td>32.732948</td>\n",
       "      <td>10.726564</td>\n",
       "      <td>57.718579</td>\n",
       "      <td>1.923802</td>\n",
       "      <td>3.818544</td>\n",
       "      <td>4.865161</td>\n",
       "      <td>...</td>\n",
       "      <td>3.434200</td>\n",
       "      <td>NaN</td>\n",
       "      <td>NaN</td>\n",
       "      <td>NaN</td>\n",
       "      <td>NaN</td>\n",
       "      <td>B</td>\n",
       "      <td>None</td>\n",
       "      <td>N</td>\n",
       "      <td>N</td>\n",
       "      <td>1.058150</td>\n",
       "    </tr>\n",
       "    <tr>\n",
       "      <th>4997</th>\n",
       "      <td>4998 Kabashima (1986 VG)</td>\n",
       "      <td>3.007439</td>\n",
       "      <td>0.073460</td>\n",
       "      <td>NaN</td>\n",
       "      <td>9.904038</td>\n",
       "      <td>352.226415</td>\n",
       "      <td>100.901739</td>\n",
       "      <td>2.786511</td>\n",
       "      <td>3.228367</td>\n",
       "      <td>5.215590</td>\n",
       "      <td>...</td>\n",
       "      <td>6.138000</td>\n",
       "      <td>NaN</td>\n",
       "      <td>NaN</td>\n",
       "      <td>NaN</td>\n",
       "      <td>NaN</td>\n",
       "      <td>None</td>\n",
       "      <td>None</td>\n",
       "      <td>N</td>\n",
       "      <td>N</td>\n",
       "      <td>1.824890</td>\n",
       "    </tr>\n",
       "    <tr>\n",
       "      <th>4998</th>\n",
       "      <td>4999 MPC (1987 CJ)</td>\n",
       "      <td>3.015442</td>\n",
       "      <td>0.040212</td>\n",
       "      <td>NaN</td>\n",
       "      <td>10.473593</td>\n",
       "      <td>155.933107</td>\n",
       "      <td>344.673442</td>\n",
       "      <td>2.894184</td>\n",
       "      <td>3.136701</td>\n",
       "      <td>5.236423</td>\n",
       "      <td>...</td>\n",
       "      <td>NaN</td>\n",
       "      <td>NaN</td>\n",
       "      <td>NaN</td>\n",
       "      <td>NaN</td>\n",
       "      <td>NaN</td>\n",
       "      <td>None</td>\n",
       "      <td>None</td>\n",
       "      <td>N</td>\n",
       "      <td>N</td>\n",
       "      <td>1.907750</td>\n",
       "    </tr>\n",
       "    <tr>\n",
       "      <th>4999</th>\n",
       "      <td>5000 IAU (1987 QN7)</td>\n",
       "      <td>2.537905</td>\n",
       "      <td>0.263911</td>\n",
       "      <td>NaN</td>\n",
       "      <td>6.265176</td>\n",
       "      <td>150.922214</td>\n",
       "      <td>232.797213</td>\n",
       "      <td>1.868123</td>\n",
       "      <td>3.207687</td>\n",
       "      <td>4.043163</td>\n",
       "      <td>...</td>\n",
       "      <td>NaN</td>\n",
       "      <td>NaN</td>\n",
       "      <td>NaN</td>\n",
       "      <td>NaN</td>\n",
       "      <td>NaN</td>\n",
       "      <td>None</td>\n",
       "      <td>None</td>\n",
       "      <td>N</td>\n",
       "      <td>N</td>\n",
       "      <td>0.878287</td>\n",
       "    </tr>\n",
       "    <tr>\n",
       "      <th>5000</th>\n",
       "      <td>5001 EMP (1987 SB1)</td>\n",
       "      <td>2.664662</td>\n",
       "      <td>0.170488</td>\n",
       "      <td>NaN</td>\n",
       "      <td>13.709129</td>\n",
       "      <td>169.905066</td>\n",
       "      <td>151.336692</td>\n",
       "      <td>2.210369</td>\n",
       "      <td>3.118955</td>\n",
       "      <td>4.349821</td>\n",
       "      <td>...</td>\n",
       "      <td>NaN</td>\n",
       "      <td>NaN</td>\n",
       "      <td>NaN</td>\n",
       "      <td>NaN</td>\n",
       "      <td>NaN</td>\n",
       "      <td>None</td>\n",
       "      <td>None</td>\n",
       "      <td>N</td>\n",
       "      <td>N</td>\n",
       "      <td>1.207720</td>\n",
       "    </tr>\n",
       "  </tbody>\n",
       "</table>\n",
       "<p>5001 rows × 27 columns</p>\n",
       "</div>"
      ],
      "text/plain": [
       "                       full_name         a         e     G          i  \\\n",
       "0                        1 Ceres  2.769165  0.076009  0.12  10.594067   \n",
       "1                       2 Pallas  2.772466  0.230337  0.11  34.836234   \n",
       "2                         3 Juno  2.669150  0.256942  0.32  12.988919   \n",
       "3                        4 Vesta  2.361418  0.088721  0.32   7.141771   \n",
       "4                      5 Astraea  2.574249  0.191095   NaN   5.366988   \n",
       "...                          ...       ...       ...   ...        ...   \n",
       "4996        4997 Ksana (1986 TM)  2.871173  0.329960   NaN  32.732948   \n",
       "4997    4998 Kabashima (1986 VG)  3.007439  0.073460   NaN   9.904038   \n",
       "4998          4999 MPC (1987 CJ)  3.015442  0.040212   NaN  10.473593   \n",
       "4999         5000 IAU (1987 QN7)  2.537905  0.263911   NaN   6.265176   \n",
       "5000         5001 EMP (1987 SB1)  2.664662  0.170488   NaN  13.709129   \n",
       "\n",
       "              om           w         q        ad     per_y  ...    rot_per  \\\n",
       "0      80.305532   73.597694  2.558684  2.979647  4.608202  ...   9.074170   \n",
       "1     173.080063  310.048857  2.133865  3.411067  4.616444  ...   7.813200   \n",
       "2     169.852760  248.138626  1.983332  3.354967  4.360814  ...   7.210000   \n",
       "3     103.810804  150.728541  2.151909  2.570926  3.628837  ...   5.342128   \n",
       "4     141.576604  358.687608  2.082324  3.066174  4.130323  ...  16.806000   \n",
       "...          ...         ...       ...       ...       ...  ...        ...   \n",
       "4996   10.726564   57.718579  1.923802  3.818544  4.865161  ...   3.434200   \n",
       "4997  352.226415  100.901739  2.786511  3.228367  5.215590  ...   6.138000   \n",
       "4998  155.933107  344.673442  2.894184  3.136701  5.236423  ...        NaN   \n",
       "4999  150.922214  232.797213  1.868123  3.207687  4.043163  ...        NaN   \n",
       "5000  169.905066  151.336692  2.210369  3.118955  4.349821  ...        NaN   \n",
       "\n",
       "           GM     BV     UB  IR spec_B  spec_T  neo  pha      moid  \n",
       "0     62.6284  0.713  0.426 NaN      C       G    N    N  1.594780  \n",
       "1     14.3000  0.635  0.284 NaN      B       B    N    N  1.233240  \n",
       "2         NaN  0.824  0.433 NaN     Sk       S    N    N  1.034540  \n",
       "3     17.8000  0.782  0.492 NaN      V       V    N    N  1.139480  \n",
       "4         NaN  0.826  0.411 NaN      S       S    N    N  1.095890  \n",
       "...       ...    ...    ...  ..    ...     ...  ...  ...       ...  \n",
       "4996      NaN    NaN    NaN NaN      B    None    N    N  1.058150  \n",
       "4997      NaN    NaN    NaN NaN   None    None    N    N  1.824890  \n",
       "4998      NaN    NaN    NaN NaN   None    None    N    N  1.907750  \n",
       "4999      NaN    NaN    NaN NaN   None    None    N    N  0.878287  \n",
       "5000      NaN    NaN    NaN NaN   None    None    N    N  1.207720  \n",
       "\n",
       "[5001 rows x 27 columns]"
      ]
     },
     "execution_count": 2,
     "metadata": {},
     "output_type": "execute_result"
    }
   ],
   "source": [
    "dataset_path = \"data/asteroid.csv\"\n",
    "df_full = pd.read_csv(dataset_path, low_memory=False)\n",
    "header = list(df_full)\n",
    "df = df_full.truncate(after=5000)\n",
    "df = df.where(df.notnull(), None)\n",
    "\n",
    "df"
   ]
  },
  {
   "attachments": {},
   "cell_type": "markdown",
   "metadata": {},
   "source": [
    "## Howso Engine infers the feature attributes\n",
    "\n",
    "We set all nominals to non_sensitive for demonstration purposes. In actual usage, these should be specified as sensitive or non_sensitive as appropriate."
   ]
  },
  {
   "cell_type": "code",
   "execution_count": 3,
   "metadata": {},
   "outputs": [
    {
     "name": "stdout",
     "output_type": "stream",
     "text": [
      "{ 'BV': { 'bounds': {'max': 2.718281828459045, 'min': 0.36787944117144233},\n",
      "          'decimal_places': 3,\n",
      "          'original_type': {'data_type': 'numeric', 'size': 8},\n",
      "          'type': 'continuous'},\n",
      "  'G': { 'bounds': {'max': 1.0, 'min': -0.1353352832366127},\n",
      "         'decimal_places': 2,\n",
      "         'original_type': {'data_type': 'numeric', 'size': 8},\n",
      "         'type': 'continuous'},\n",
      "  'GM': { 'bounds': {'max': 148.4131591025766, 'min': 0.00033546262790251185},\n",
      "          'decimal_places': 6,\n",
      "          'original_type': {'data_type': 'numeric', 'size': 8},\n",
      "          'type': 'continuous'},\n",
      "  'H': { 'bounds': {'max': 54.598150033144236, 'min': 2.718281828459045},\n",
      "         'decimal_places': 2,\n",
      "         'original_type': {'data_type': 'numeric', 'size': 8},\n",
      "         'type': 'continuous'},\n",
      "  'IR': { 'original_type': {'data_type': 'numeric', 'size': 8},\n",
      "          'type': 'continuous'},\n",
      "  'UB': { 'bounds': {'max': 1.0, 'min': 0.049787068367863944},\n",
      "          'decimal_places': 3,\n",
      "          'original_type': {'data_type': 'numeric', 'size': 8},\n",
      "          'type': 'continuous'},\n",
      "  'a': { 'bounds': {'max': 20.085536923187668, 'min': 0.36787944117144233},\n",
      "         'decimal_places': 9,\n",
      "         'original_type': {'data_type': 'numeric', 'size': 8},\n",
      "         'type': 'continuous'},\n",
      "  'ad': { 'bounds': {'max': 20.085536923187668, 'min': 1.0},\n",
      "          'decimal_places': 9,\n",
      "          'original_type': {'data_type': 'numeric', 'size': 8},\n",
      "          'type': 'continuous'},\n",
      "  'albedo': { 'bounds': {'max': 1.0, 'min': 0.006737946999085467},\n",
      "              'decimal_places': 4,\n",
      "              'original_type': {'data_type': 'numeric', 'size': 8},\n",
      "              'type': 'continuous'},\n",
      "  'condition_code': { 'bounds': {'max': 2.718281828459045, 'min': 0.0},\n",
      "                      'decimal_places': 0,\n",
      "                      'original_type': {'data_type': 'numeric', 'size': 8},\n",
      "                      'type': 'continuous'},\n",
      "  'data_arc': { 'bounds': { 'allow_null': False,\n",
      "                            'max': 162754.79141900392,\n",
      "                            'min': 2980.9579870417283},\n",
      "                'decimal_places': 0,\n",
      "                'original_type': {'data_type': 'integer', 'size': 8},\n",
      "                'type': 'continuous'},\n",
      "  'diameter': { 'non_sensitive': True,\n",
      "                'original_type': {'data_type': 'string'},\n",
      "                'type': 'nominal'},\n",
      "  'e': { 'bounds': {'max': 1.0, 'min': 0.0024787521766663585},\n",
      "         'decimal_places': 9,\n",
      "         'original_type': {'data_type': 'numeric', 'size': 8},\n",
      "         'type': 'continuous'},\n",
      "  'extent': { 'non_sensitive': True,\n",
      "              'original_type': {'data_type': 'string'},\n",
      "              'type': 'nominal'},\n",
      "  'full_name': { 'non_sensitive': True,\n",
      "                 'original_type': {'data_type': 'string'},\n",
      "                 'type': 'nominal'},\n",
      "  'i': { 'bounds': {'max': 148.4131591025766, 'min': 0.049787068367863944},\n",
      "         'decimal_places': 9,\n",
      "         'original_type': {'data_type': 'numeric', 'size': 8},\n",
      "         'type': 'continuous'},\n",
      "  'moid': { 'bounds': {'max': 20.085536923187668, 'min': 0.0024787521766663585},\n",
      "            'decimal_places': 7,\n",
      "            'original_type': {'data_type': 'numeric', 'size': 8},\n",
      "            'type': 'continuous'},\n",
      "  'n_obs_used': { 'bounds': { 'allow_null': False,\n",
      "                              'max': 22026.465794806718,\n",
      "                              'min': 20.085536923187668},\n",
      "                  'decimal_places': 0,\n",
      "                  'original_type': {'data_type': 'integer', 'size': 8},\n",
      "                  'type': 'continuous'},\n",
      "  'neo': { 'non_sensitive': True,\n",
      "           'original_type': {'data_type': 'string'},\n",
      "           'type': 'nominal'},\n",
      "  'om': { 'bounds': {'max': 403.4287934927351, 'min': 0.00033546262790251185},\n",
      "          'decimal_places': 9,\n",
      "          'original_type': {'data_type': 'numeric', 'size': 8},\n",
      "          'type': 'continuous'},\n",
      "  'per_y': { 'bounds': {'max': 54.598150033144236, 'min': 0.36787944117144233},\n",
      "             'decimal_places': 9,\n",
      "             'original_type': {'data_type': 'numeric', 'size': 8},\n",
      "             'type': 'continuous'},\n",
      "  'pha': { 'non_sensitive': True,\n",
      "           'original_type': {'data_type': 'string'},\n",
      "           'type': 'nominal'},\n",
      "  'q': { 'bounds': {'max': 20.085536923187668, 'min': 0.1353352832366127},\n",
      "         'decimal_places': 9,\n",
      "         'original_type': {'data_type': 'numeric', 'size': 8},\n",
      "         'type': 'continuous'},\n",
      "  'rot_per': { 'bounds': {'max': 2980.9579870417283, 'min': 1.0},\n",
      "               'decimal_places': 8,\n",
      "               'original_type': {'data_type': 'numeric', 'size': 8},\n",
      "               'type': 'continuous'},\n",
      "  'spec_B': { 'non_sensitive': True,\n",
      "              'original_type': {'data_type': 'string'},\n",
      "              'type': 'nominal'},\n",
      "  'spec_T': { 'non_sensitive': True,\n",
      "              'original_type': {'data_type': 'string'},\n",
      "              'type': 'nominal'},\n",
      "  'w': { 'bounds': {'max': 403.4287934927351, 'min': 0.006737946999085467},\n",
      "         'decimal_places': 9,\n",
      "         'original_type': {'data_type': 'numeric', 'size': 8},\n",
      "         'type': 'continuous'}}\n"
     ]
    }
   ],
   "source": [
    "features = infer_feature_attributes(df)\n",
    "for f_name, f_value in features.items():\n",
    "    if f_value['type'] in [\"nominal\", \"ordinal\"]:\n",
    "        f_value['non_sensitive'] = True\n",
    "\n",
    "pprint(features, indent=2)"
   ]
  },
  {
   "attachments": {},
   "cell_type": "markdown",
   "metadata": {},
   "source": [
    "# Step 2: Create and Train a Trainee\n",
    "\n",
    "The Trainee interface makes training, analyzing, and reacting easy and fast."
   ]
  },
  {
   "cell_type": "code",
   "execution_count": 4,
   "metadata": {},
   "outputs": [],
   "source": [
    "action_feature = ['moid']\n",
    "context_features = features.get_names(without=['moid'])\n",
    "\n",
    "trainee = Trainee(name='Engine - Interpretable Predictions Recipe', features=features, overwrite_existing=True)\n",
    "\n",
    "trainee.train(df)\n",
    "\n",
    "# analyze the model\n",
    "trainee.analyze()"
   ]
  },
  {
   "attachments": {},
   "cell_type": "markdown",
   "metadata": {},
   "source": [
    "# Step 3: React\n",
    "\n",
    "## First, we'll select one case to react to for demonstration purposes. \n",
    "\n",
    "This case is selected from the cases which were **_not_** trained, so the model does not know about this case in particular."
   ]
  },
  {
   "cell_type": "code",
   "execution_count": 5,
   "metadata": {},
   "outputs": [],
   "source": [
    "predict_index = 200001\n",
    "\n",
    "df_full = df_full.astype(object)\n",
    "df_full = df_full.where(df_full.notnull(), None) # convert NaN to None\n",
    "case = df_full[predict_index:predict_index+1].iloc[0]  # grab a case that wasn't trained\n",
    "context_values = case.iloc[0:26].tolist()\n",
    "action_value = case.iloc[26]"
   ]
  },
  {
   "cell_type": "code",
   "execution_count": 6,
   "metadata": {},
   "outputs": [
    {
     "data": {
      "text/html": [
       "<div>\n",
       "<style scoped>\n",
       "    .dataframe tbody tr th:only-of-type {\n",
       "        vertical-align: middle;\n",
       "    }\n",
       "\n",
       "    .dataframe tbody tr th {\n",
       "        vertical-align: top;\n",
       "    }\n",
       "\n",
       "    .dataframe thead th {\n",
       "        text-align: right;\n",
       "    }\n",
       "</style>\n",
       "<table border=\"1\" class=\"dataframe\">\n",
       "  <thead>\n",
       "    <tr style=\"text-align: right;\">\n",
       "      <th></th>\n",
       "      <th>full_name</th>\n",
       "      <th>a</th>\n",
       "      <th>e</th>\n",
       "      <th>G</th>\n",
       "      <th>i</th>\n",
       "      <th>om</th>\n",
       "      <th>w</th>\n",
       "      <th>q</th>\n",
       "      <th>ad</th>\n",
       "      <th>per_y</th>\n",
       "      <th>...</th>\n",
       "      <th>rot_per</th>\n",
       "      <th>GM</th>\n",
       "      <th>BV</th>\n",
       "      <th>UB</th>\n",
       "      <th>IR</th>\n",
       "      <th>spec_B</th>\n",
       "      <th>spec_T</th>\n",
       "      <th>neo</th>\n",
       "      <th>pha</th>\n",
       "      <th>moid</th>\n",
       "    </tr>\n",
       "  </thead>\n",
       "  <tbody>\n",
       "    <tr>\n",
       "      <th>200001</th>\n",
       "      <td>200002 Hehe (2007 JZ43)</td>\n",
       "      <td>2.409757</td>\n",
       "      <td>0.158912</td>\n",
       "      <td>None</td>\n",
       "      <td>6.959368</td>\n",
       "      <td>116.592076</td>\n",
       "      <td>198.714295</td>\n",
       "      <td>2.026818</td>\n",
       "      <td>2.792696</td>\n",
       "      <td>3.740831</td>\n",
       "      <td>...</td>\n",
       "      <td>None</td>\n",
       "      <td>None</td>\n",
       "      <td>None</td>\n",
       "      <td>None</td>\n",
       "      <td>None</td>\n",
       "      <td>None</td>\n",
       "      <td>None</td>\n",
       "      <td>N</td>\n",
       "      <td>N</td>\n",
       "      <td>1.01338</td>\n",
       "    </tr>\n",
       "  </tbody>\n",
       "</table>\n",
       "<p>1 rows × 27 columns</p>\n",
       "</div>"
      ],
      "text/plain": [
       "                      full_name         a         e     G         i  \\\n",
       "200001  200002 Hehe (2007 JZ43)  2.409757  0.158912  None  6.959368   \n",
       "\n",
       "                om           w         q        ad     per_y  ... rot_per  \\\n",
       "200001  116.592076  198.714295  2.026818  2.792696  3.740831  ...    None   \n",
       "\n",
       "          GM    BV    UB    IR spec_B spec_T neo pha     moid  \n",
       "200001  None  None  None  None   None   None   N   N  1.01338  \n",
       "\n",
       "[1 rows x 27 columns]"
      ]
     },
     "execution_count": 6,
     "metadata": {},
     "output_type": "execute_result"
    }
   ],
   "source": [
    "df_full[predict_index:predict_index+1]"
   ]
  },
  {
   "attachments": {},
   "cell_type": "markdown",
   "metadata": {},
   "source": [
    "## Next, we react.\n",
    "\n",
    "When we call react, we include a request for certain **details**. Namely, **influential cases**. This will retrieve all of the cases which influenced the prediction and return them in addition to the prediction itself. These can be used to interpret the prediction."
   ]
  },
  {
   "cell_type": "code",
   "execution_count": 7,
   "metadata": {
    "tags": []
   },
   "outputs": [
    {
     "name": "stdout",
     "output_type": "stream",
     "text": [
      "Predicted action feature:\n"
     ]
    },
    {
     "data": {
      "text/html": [
       "<div>\n",
       "<style scoped>\n",
       "    .dataframe tbody tr th:only-of-type {\n",
       "        vertical-align: middle;\n",
       "    }\n",
       "\n",
       "    .dataframe tbody tr th {\n",
       "        vertical-align: top;\n",
       "    }\n",
       "\n",
       "    .dataframe thead th {\n",
       "        text-align: right;\n",
       "    }\n",
       "</style>\n",
       "<table border=\"1\" class=\"dataframe\">\n",
       "  <thead>\n",
       "    <tr style=\"text-align: right;\">\n",
       "      <th></th>\n",
       "      <th>moid</th>\n",
       "    </tr>\n",
       "  </thead>\n",
       "  <tbody>\n",
       "    <tr>\n",
       "      <th>0</th>\n",
       "      <td>0.993347</td>\n",
       "    </tr>\n",
       "  </tbody>\n",
       "</table>\n",
       "</div>"
      ],
      "text/plain": [
       "       moid\n",
       "0  0.993347"
      ]
     },
     "metadata": {},
     "output_type": "display_data"
    },
    {
     "name": "stdout",
     "output_type": "stream",
     "text": [
      "Computed explanation: \n"
     ]
    },
    {
     "data": {
      "text/plain": [
       "{'action_features': ['moid'],\n",
       " 'context_values': [['200002 Hehe (2007 JZ43)',\n",
       "   2.409756829,\n",
       "   0.158911829,\n",
       "   None,\n",
       "   6.959367932,\n",
       "   116.5920755,\n",
       "   198.7142948,\n",
       "   2.026817963,\n",
       "   2.792695694,\n",
       "   3.740830511,\n",
       "   6472,\n",
       "   0,\n",
       "   226,\n",
       "   16.7,\n",
       "   None,\n",
       "   None,\n",
       "   None,\n",
       "   None,\n",
       "   None,\n",
       "   None,\n",
       "   None,\n",
       "   None,\n",
       "   None,\n",
       "   None,\n",
       "   'N',\n",
       "   'N']],\n",
       " 'influential_cases': [[{'om': 193.9652682,\n",
       "    'G': None,\n",
       "    'GM': None,\n",
       "    'neo': 'N',\n",
       "    'rot_per': None,\n",
       "    'spec_B': None,\n",
       "    'spec_T': None,\n",
       "    'IR': None,\n",
       "    'e': 0.183168802,\n",
       "    'per_y': 3.677629078,\n",
       "    'q': 1.946131274,\n",
       "    'ad': 2.818944493,\n",
       "    'n_obs_used': 1166,\n",
       "    'w': 184.6803071,\n",
       "    'moid': 0.947403,\n",
       "    '.session_training_index': 3528,\n",
       "    'condition_code': 0,\n",
       "    'pha': 'N',\n",
       "    '.session': '7632c8ff-705c-4302-b232-ee0f05832e89',\n",
       "    'data_arc': 24066,\n",
       "    'albedo': 0.12,\n",
       "    '.influence_weight': 0.07815964156581334,\n",
       "    'diameter': '6.088',\n",
       "    'extent': None,\n",
       "    'UB': None,\n",
       "    'H': 14.7,\n",
       "    'BV': None,\n",
       "    'a': 2.382537884,\n",
       "    'full_name': '  3529 Dowling (1981 EQ19)',\n",
       "    'i': 2.762782159},\n",
       "   {'om': 99.99372391,\n",
       "    'G': None,\n",
       "    'GM': None,\n",
       "    'neo': 'N',\n",
       "    'rot_per': None,\n",
       "    'spec_B': None,\n",
       "    'spec_T': None,\n",
       "    'IR': None,\n",
       "    'e': 0.18147581,\n",
       "    'per_y': 3.802929223,\n",
       "    'q': 1.994213011,\n",
       "    'ad': 2.878490903,\n",
       "    'n_obs_used': 1525,\n",
       "    'w': 263.5696408,\n",
       "    'moid': 0.993601,\n",
       "    '.session_training_index': 3983,\n",
       "    'condition_code': 0,\n",
       "    'pha': 'N',\n",
       "    '.session': '7632c8ff-705c-4302-b232-ee0f05832e89',\n",
       "    'data_arc': 17975,\n",
       "    'albedo': 0.05,\n",
       "    '.influence_weight': 0.07781485483798316,\n",
       "    'diameter': '7.569',\n",
       "    'extent': None,\n",
       "    'UB': None,\n",
       "    'H': 14.4,\n",
       "    'BV': None,\n",
       "    'a': 2.436351957,\n",
       "    'full_name': '  3984 Chacos (1984 SB6)',\n",
       "    'i': 2.938196995},\n",
       "   {'om': 304.9144217,\n",
       "    'G': None,\n",
       "    'GM': None,\n",
       "    'neo': 'N',\n",
       "    'rot_per': None,\n",
       "    'spec_B': None,\n",
       "    'spec_T': None,\n",
       "    'IR': None,\n",
       "    'e': 0.139376529,\n",
       "    'per_y': 3.765417261,\n",
       "    'q': 2.082970523,\n",
       "    'ad': 2.757637693,\n",
       "    'n_obs_used': 1456,\n",
       "    'w': 118.4656864,\n",
       "    'moid': 1.10398,\n",
       "    '.session_training_index': 3134,\n",
       "    'condition_code': 0,\n",
       "    'pha': 'N',\n",
       "    '.session': '7632c8ff-705c-4302-b232-ee0f05832e89',\n",
       "    'data_arc': 14915,\n",
       "    'albedo': None,\n",
       "    '.influence_weight': 0.07771372110536104,\n",
       "    'diameter': None,\n",
       "    'extent': None,\n",
       "    'UB': None,\n",
       "    'H': 13.8,\n",
       "    'BV': None,\n",
       "    'a': 2.420304108,\n",
       "    'full_name': '  3135 Lauer (1981 EC9)',\n",
       "    'i': 5.980839309},\n",
       "   {'om': 125.460349,\n",
       "    'G': None,\n",
       "    'GM': None,\n",
       "    'neo': 'N',\n",
       "    'rot_per': None,\n",
       "    'spec_B': None,\n",
       "    'spec_T': None,\n",
       "    'IR': None,\n",
       "    'e': 0.183351018,\n",
       "    'per_y': 3.640483562,\n",
       "    'q': 1.93257344,\n",
       "    'ad': 2.800361964,\n",
       "    'n_obs_used': 1303,\n",
       "    'w': 321.1581146,\n",
       "    'moid': 0.963916,\n",
       "    '.session_training_index': 4269,\n",
       "    'condition_code': 0,\n",
       "    'pha': 'N',\n",
       "    '.session': '7632c8ff-705c-4302-b232-ee0f05832e89',\n",
       "    'data_arc': 15651,\n",
       "    'albedo': 0.058,\n",
       "    '.influence_weight': 0.07743161250903784,\n",
       "    'diameter': '8.264',\n",
       "    'extent': None,\n",
       "    'UB': None,\n",
       "    'H': 14.1,\n",
       "    'BV': None,\n",
       "    'a': 2.366467702,\n",
       "    'full_name': '  4270 Juanvictoria (1975 TJ6)',\n",
       "    'i': 12.15801335},\n",
       "   {'om': 32.53274938,\n",
       "    'G': None,\n",
       "    'GM': None,\n",
       "    'neo': 'N',\n",
       "    'rot_per': None,\n",
       "    'spec_B': None,\n",
       "    'spec_T': None,\n",
       "    'IR': None,\n",
       "    'e': 0.154852501,\n",
       "    'per_y': 3.802088076,\n",
       "    'q': 2.05877313,\n",
       "    'ad': 2.813212249,\n",
       "    'n_obs_used': 1374,\n",
       "    'w': 52.20939042,\n",
       "    'moid': 1.07626,\n",
       "    '.session_training_index': 4548,\n",
       "    'condition_code': 0,\n",
       "    'pha': 'N',\n",
       "    '.session': '7632c8ff-705c-4302-b232-ee0f05832e89',\n",
       "    'data_arc': 23750,\n",
       "    'albedo': None,\n",
       "    '.influence_weight': 0.07718196574094639,\n",
       "    'diameter': None,\n",
       "    'extent': None,\n",
       "    'UB': None,\n",
       "    'H': 14.2,\n",
       "    'BV': None,\n",
       "    'a': 2.435992689,\n",
       "    'full_name': '  4549 Burkhardt (1276 T-2)',\n",
       "    'i': 2.82800126},\n",
       "   {'om': 111.4133909,\n",
       "    'G': None,\n",
       "    'GM': None,\n",
       "    'neo': 'N',\n",
       "    'rot_per': None,\n",
       "    'spec_B': None,\n",
       "    'spec_T': None,\n",
       "    'IR': None,\n",
       "    'e': 0.15333752,\n",
       "    'per_y': 3.716004457,\n",
       "    'q': 2.031213919,\n",
       "    'ad': 2.766952921,\n",
       "    'n_obs_used': 2229,\n",
       "    'w': 139.8868548,\n",
       "    'moid': 1.01725,\n",
       "    '.session_training_index': 4578,\n",
       "    'condition_code': 0,\n",
       "    'pha': 'N',\n",
       "    '.session': '7632c8ff-705c-4302-b232-ee0f05832e89',\n",
       "    'data_arc': 15040,\n",
       "    'albedo': None,\n",
       "    '.influence_weight': 0.07713321773522838,\n",
       "    'diameter': None,\n",
       "    'extent': None,\n",
       "    'UB': None,\n",
       "    'H': 13.8,\n",
       "    'BV': None,\n",
       "    'a': 2.39908342,\n",
       "    'full_name': '  4579 Puccini (1989 AT6)',\n",
       "    'i': 2.213643473},\n",
       "   {'om': 50.31458215,\n",
       "    'G': None,\n",
       "    'GM': None,\n",
       "    'neo': 'N',\n",
       "    'rot_per': None,\n",
       "    'spec_B': None,\n",
       "    'spec_T': None,\n",
       "    'IR': None,\n",
       "    'e': 0.16727836,\n",
       "    'per_y': 3.792775173,\n",
       "    'q': 2.025190037,\n",
       "    'ad': 2.838836405,\n",
       "    'n_obs_used': 1599,\n",
       "    'w': 351.0376299,\n",
       "    'moid': 1.03308,\n",
       "    '.session_training_index': 4479,\n",
       "    'condition_code': 0,\n",
       "    'pha': 'N',\n",
       "    '.session': '7632c8ff-705c-4302-b232-ee0f05832e89',\n",
       "    'data_arc': 16366,\n",
       "    'albedo': 0.068,\n",
       "    '.influence_weight': 0.07692594427644876,\n",
       "    'diameter': '9.329',\n",
       "    'extent': None,\n",
       "    'UB': None,\n",
       "    'H': 14,\n",
       "    'BV': None,\n",
       "    'a': 2.432013221,\n",
       "    'full_name': '  4480 Nikitibotania (1985 QM4)',\n",
       "    'i': 3.393788898},\n",
       "   {'om': 121.2566487,\n",
       "    'G': None,\n",
       "    'GM': None,\n",
       "    'neo': 'N',\n",
       "    'rot_per': None,\n",
       "    'spec_B': None,\n",
       "    'spec_T': None,\n",
       "    'IR': None,\n",
       "    'e': 0.135256466,\n",
       "    'per_y': 3.541706878,\n",
       "    'q': 2.009201985,\n",
       "    'ad': 2.637729516,\n",
       "    'n_obs_used': 2124,\n",
       "    'w': 181.9089102,\n",
       "    'moid': 0.993099,\n",
       "    '.session_training_index': 4443,\n",
       "    'condition_code': 0,\n",
       "    'pha': 'N',\n",
       "    '.session': '7632c8ff-705c-4302-b232-ee0f05832e89',\n",
       "    'data_arc': 12336,\n",
       "    'albedo': None,\n",
       "    '.influence_weight': 0.0768774043554041,\n",
       "    'diameter': None,\n",
       "    'extent': None,\n",
       "    'UB': None,\n",
       "    'H': 13.7,\n",
       "    'BV': None,\n",
       "    'a': 2.32346575,\n",
       "    'full_name': '  4444 Escher (1985 SA)',\n",
       "    'i': 7.39179449},\n",
       "   {'om': 43.78298038,\n",
       "    'G': None,\n",
       "    'GM': None,\n",
       "    'neo': 'N',\n",
       "    'rot_per': None,\n",
       "    'spec_B': None,\n",
       "    'spec_T': None,\n",
       "    'IR': None,\n",
       "    'e': 0.183327742,\n",
       "    'per_y': 3.7444083,\n",
       "    'q': 1.969236157,\n",
       "    'ad': 2.853349983,\n",
       "    'n_obs_used': 1695,\n",
       "    'w': 279.5198666,\n",
       "    'moid': 0.964725,\n",
       "    '.session_training_index': 3080,\n",
       "    'condition_code': 0,\n",
       "    'pha': 'N',\n",
       "    '.session': '7632c8ff-705c-4302-b232-ee0f05832e89',\n",
       "    'data_arc': 24446,\n",
       "    'albedo': None,\n",
       "    '.influence_weight': 0.07630310658758489,\n",
       "    'diameter': None,\n",
       "    'extent': None,\n",
       "    'UB': None,\n",
       "    'H': 13.7,\n",
       "    'BV': None,\n",
       "    'a': 2.41129307,\n",
       "    'full_name': '  3081 Martinuboh (1971 UP)',\n",
       "    'i': 5.286151726},\n",
       "   {'om': 94.7967901,\n",
       "    'G': None,\n",
       "    'GM': None,\n",
       "    'neo': 'N',\n",
       "    'rot_per': None,\n",
       "    'spec_B': None,\n",
       "    'spec_T': None,\n",
       "    'IR': None,\n",
       "    'e': 0.191499429,\n",
       "    'per_y': 3.682412547,\n",
       "    'q': 1.927953213,\n",
       "    'ad': 2.841253595,\n",
       "    'n_obs_used': 1897,\n",
       "    'w': 345.2767183,\n",
       "    'moid': 0.943815,\n",
       "    '.session_training_index': 4475,\n",
       "    'condition_code': 0,\n",
       "    'pha': 'N',\n",
       "    '.session': '7632c8ff-705c-4302-b232-ee0f05832e89',\n",
       "    'data_arc': 14653,\n",
       "    'albedo': None,\n",
       "    '.influence_weight': 0.0762086117247846,\n",
       "    'diameter': None,\n",
       "    'extent': None,\n",
       "    'UB': None,\n",
       "    'H': 14,\n",
       "    'BV': None,\n",
       "    'a': 2.384603404,\n",
       "    'full_name': '  4476 Bernstein (1983 DE)',\n",
       "    'i': 3.369927304},\n",
       "   {'om': 115.2369359,\n",
       "    'G': None,\n",
       "    'GM': None,\n",
       "    'neo': 'N',\n",
       "    'rot_per': None,\n",
       "    'spec_B': None,\n",
       "    'spec_T': None,\n",
       "    'IR': None,\n",
       "    'e': 0.213309849,\n",
       "    'per_y': 3.687982692,\n",
       "    'q': 1.877835281,\n",
       "    'ad': 2.896179693,\n",
       "    'n_obs_used': 1432,\n",
       "    'w': 246.2027284,\n",
       "    'moid': 0.874123,\n",
       "    '.session_training_index': 4431,\n",
       "    'condition_code': 0,\n",
       "    'pha': 'N',\n",
       "    '.session': '7632c8ff-705c-4302-b232-ee0f05832e89',\n",
       "    'data_arc': 20053,\n",
       "    'albedo': 0.254,\n",
       "    '.influence_weight': 0.07618147635889425,\n",
       "    'diameter': '3.042',\n",
       "    'extent': None,\n",
       "    'UB': None,\n",
       "    'H': 14.5,\n",
       "    'BV': None,\n",
       "    'a': 2.387007487,\n",
       "    'full_name': '  4432 McGraw-Hill (1981 ER22)',\n",
       "    'i': 0.461392972},\n",
       "   {'om': 7.174304415,\n",
       "    'G': None,\n",
       "    'GM': None,\n",
       "    'neo': 'N',\n",
       "    'rot_per': None,\n",
       "    'spec_B': None,\n",
       "    'spec_T': None,\n",
       "    'IR': None,\n",
       "    'e': 0.135290503,\n",
       "    'per_y': 3.624904214,\n",
       "    'q': 2.040464848,\n",
       "    'ad': 2.678957928,\n",
       "    'n_obs_used': 1594,\n",
       "    'w': 355.921444,\n",
       "    'moid': 1.03733,\n",
       "    '.session_training_index': 4814,\n",
       "    'condition_code': 0,\n",
       "    'pha': 'N',\n",
       "    '.session': '7632c8ff-705c-4302-b232-ee0f05832e89',\n",
       "    'data_arc': 14553,\n",
       "    'albedo': 0.336,\n",
       "    '.influence_weight': 0.07603733245240597,\n",
       "    'diameter': '4.172',\n",
       "    'extent': None,\n",
       "    'UB': None,\n",
       "    'H': 13.8,\n",
       "    'BV': None,\n",
       "    'a': 2.359711388,\n",
       "    'full_name': '  4815 Anders (1981 EA28)',\n",
       "    'i': 7.553187687},\n",
       "   {'om': 269.4305031,\n",
       "    'G': None,\n",
       "    'GM': None,\n",
       "    'neo': 'N',\n",
       "    'rot_per': None,\n",
       "    'spec_B': None,\n",
       "    'spec_T': None,\n",
       "    'IR': None,\n",
       "    'e': 0.177943746,\n",
       "    'per_y': 3.732069328,\n",
       "    'q': 1.977861476,\n",
       "    'ad': 2.834124238,\n",
       "    'n_obs_used': 1578,\n",
       "    'w': 346.6873841,\n",
       "    'moid': 0.962686,\n",
       "    '.session_training_index': 3890,\n",
       "    'condition_code': 0,\n",
       "    'pha': 'N',\n",
       "    '.session': '7632c8ff-705c-4302-b232-ee0f05832e89',\n",
       "    'data_arc': 16523,\n",
       "    'albedo': 0.328,\n",
       "    '.influence_weight': 0.07603111075010743,\n",
       "    'diameter': '3.203',\n",
       "    'extent': None,\n",
       "    'UB': None,\n",
       "    'H': 14.4,\n",
       "    'BV': None,\n",
       "    'a': 2.405992857,\n",
       "    'full_name': '  3891 Werner (1981 EY31)',\n",
       "    'i': 1.59910877}]]}"
      ]
     },
     "metadata": {},
     "output_type": "display_data"
    }
   ],
   "source": [
    "react = trainee.react(context_features=context_features,\n",
    "                      action_features=action_feature,\n",
    "                      contexts=[context_values],\n",
    "                      details = {\n",
    "                          'influential_cases': True\n",
    "                      })\n",
    "\n",
    "print('Predicted action feature:')\n",
    "display(react['action'])\n",
    "\n",
    "print('Computed explanation: ')\n",
    "display(react['explanation'])"
   ]
  },
  {
   "attachments": {},
   "cell_type": "markdown",
   "metadata": {},
   "source": [
    "## The predicted case and the influential cases can be viewed side-by-side."
   ]
  },
  {
   "cell_type": "code",
   "execution_count": 8,
   "metadata": {},
   "outputs": [
    {
     "data": {
      "text/html": [
       "<div>\n",
       "<style scoped>\n",
       "    .dataframe tbody tr th:only-of-type {\n",
       "        vertical-align: middle;\n",
       "    }\n",
       "\n",
       "    .dataframe tbody tr th {\n",
       "        vertical-align: top;\n",
       "    }\n",
       "\n",
       "    .dataframe thead th {\n",
       "        text-align: right;\n",
       "    }\n",
       "</style>\n",
       "<table border=\"1\" class=\"dataframe\">\n",
       "  <thead>\n",
       "    <tr style=\"text-align: right;\">\n",
       "      <th></th>\n",
       "      <th>full_name</th>\n",
       "      <th>a</th>\n",
       "      <th>e</th>\n",
       "      <th>G</th>\n",
       "      <th>i</th>\n",
       "      <th>om</th>\n",
       "      <th>w</th>\n",
       "      <th>q</th>\n",
       "      <th>ad</th>\n",
       "      <th>per_y</th>\n",
       "      <th>data_arc</th>\n",
       "      <th>condition_code</th>\n",
       "      <th>n_obs_used</th>\n",
       "      <th>H</th>\n",
       "      <th>diameter</th>\n",
       "      <th>extent</th>\n",
       "      <th>albedo</th>\n",
       "      <th>rot_per</th>\n",
       "      <th>GM</th>\n",
       "      <th>BV</th>\n",
       "      <th>UB</th>\n",
       "      <th>IR</th>\n",
       "      <th>spec_B</th>\n",
       "      <th>spec_T</th>\n",
       "      <th>neo</th>\n",
       "      <th>pha</th>\n",
       "      <th>moid</th>\n",
       "    </tr>\n",
       "  </thead>\n",
       "  <tbody>\n",
       "    <tr>\n",
       "      <th>200001</th>\n",
       "      <td>200002 Hehe (2007 JZ43)</td>\n",
       "      <td>2.409757</td>\n",
       "      <td>0.158912</td>\n",
       "      <td>None</td>\n",
       "      <td>6.959368</td>\n",
       "      <td>116.592076</td>\n",
       "      <td>198.714295</td>\n",
       "      <td>2.026818</td>\n",
       "      <td>2.792696</td>\n",
       "      <td>3.740831</td>\n",
       "      <td>6472</td>\n",
       "      <td>0.0</td>\n",
       "      <td>226</td>\n",
       "      <td>16.7</td>\n",
       "      <td>None</td>\n",
       "      <td>None</td>\n",
       "      <td>None</td>\n",
       "      <td>None</td>\n",
       "      <td>None</td>\n",
       "      <td>None</td>\n",
       "      <td>None</td>\n",
       "      <td>None</td>\n",
       "      <td>None</td>\n",
       "      <td>None</td>\n",
       "      <td>N</td>\n",
       "      <td>N</td>\n",
       "      <td>1.01338</td>\n",
       "    </tr>\n",
       "  </tbody>\n",
       "</table>\n",
       "</div>"
      ],
      "text/plain": [
       "                      full_name         a         e     G         i  \\\n",
       "200001  200002 Hehe (2007 JZ43)  2.409757  0.158912  None  6.959368   \n",
       "\n",
       "                om           w         q        ad     per_y data_arc  \\\n",
       "200001  116.592076  198.714295  2.026818  2.792696  3.740831     6472   \n",
       "\n",
       "       condition_code n_obs_used     H diameter extent albedo rot_per    GM  \\\n",
       "200001            0.0        226  16.7     None   None   None    None  None   \n",
       "\n",
       "          BV    UB    IR spec_B spec_T neo pha     moid  \n",
       "200001  None  None  None   None   None   N   N  1.01338  "
      ]
     },
     "metadata": {},
     "output_type": "display_data"
    },
    {
     "data": {
      "text/html": [
       "<div>\n",
       "<style scoped>\n",
       "    .dataframe tbody tr th:only-of-type {\n",
       "        vertical-align: middle;\n",
       "    }\n",
       "\n",
       "    .dataframe tbody tr th {\n",
       "        vertical-align: top;\n",
       "    }\n",
       "\n",
       "    .dataframe thead th {\n",
       "        text-align: right;\n",
       "    }\n",
       "</style>\n",
       "<table border=\"1\" class=\"dataframe\">\n",
       "  <thead>\n",
       "    <tr style=\"text-align: right;\">\n",
       "      <th></th>\n",
       "      <th>full_name</th>\n",
       "      <th>a</th>\n",
       "      <th>e</th>\n",
       "      <th>G</th>\n",
       "      <th>i</th>\n",
       "      <th>om</th>\n",
       "      <th>w</th>\n",
       "      <th>q</th>\n",
       "      <th>ad</th>\n",
       "      <th>per_y</th>\n",
       "      <th>data_arc</th>\n",
       "      <th>condition_code</th>\n",
       "      <th>n_obs_used</th>\n",
       "      <th>H</th>\n",
       "      <th>diameter</th>\n",
       "      <th>extent</th>\n",
       "      <th>albedo</th>\n",
       "      <th>rot_per</th>\n",
       "      <th>GM</th>\n",
       "      <th>BV</th>\n",
       "      <th>UB</th>\n",
       "      <th>IR</th>\n",
       "      <th>spec_B</th>\n",
       "      <th>spec_T</th>\n",
       "      <th>neo</th>\n",
       "      <th>pha</th>\n",
       "      <th>moid</th>\n",
       "    </tr>\n",
       "  </thead>\n",
       "  <tbody>\n",
       "    <tr>\n",
       "      <th>0</th>\n",
       "      <td>3529 Dowling (1981 EQ19)</td>\n",
       "      <td>2.382538</td>\n",
       "      <td>0.183169</td>\n",
       "      <td>None</td>\n",
       "      <td>2.762782</td>\n",
       "      <td>193.965268</td>\n",
       "      <td>184.680307</td>\n",
       "      <td>1.946131</td>\n",
       "      <td>2.818944</td>\n",
       "      <td>3.677629</td>\n",
       "      <td>24066</td>\n",
       "      <td>0</td>\n",
       "      <td>1166</td>\n",
       "      <td>14.7</td>\n",
       "      <td>6.088</td>\n",
       "      <td>None</td>\n",
       "      <td>0.120</td>\n",
       "      <td>None</td>\n",
       "      <td>None</td>\n",
       "      <td>None</td>\n",
       "      <td>None</td>\n",
       "      <td>None</td>\n",
       "      <td>None</td>\n",
       "      <td>None</td>\n",
       "      <td>N</td>\n",
       "      <td>N</td>\n",
       "      <td>0.947403</td>\n",
       "    </tr>\n",
       "    <tr>\n",
       "      <th>1</th>\n",
       "      <td>3984 Chacos (1984 SB6)</td>\n",
       "      <td>2.436352</td>\n",
       "      <td>0.181476</td>\n",
       "      <td>None</td>\n",
       "      <td>2.938197</td>\n",
       "      <td>99.993724</td>\n",
       "      <td>263.569641</td>\n",
       "      <td>1.994213</td>\n",
       "      <td>2.878491</td>\n",
       "      <td>3.802929</td>\n",
       "      <td>17975</td>\n",
       "      <td>0</td>\n",
       "      <td>1525</td>\n",
       "      <td>14.4</td>\n",
       "      <td>7.569</td>\n",
       "      <td>None</td>\n",
       "      <td>0.050</td>\n",
       "      <td>None</td>\n",
       "      <td>None</td>\n",
       "      <td>None</td>\n",
       "      <td>None</td>\n",
       "      <td>None</td>\n",
       "      <td>None</td>\n",
       "      <td>None</td>\n",
       "      <td>N</td>\n",
       "      <td>N</td>\n",
       "      <td>0.993601</td>\n",
       "    </tr>\n",
       "    <tr>\n",
       "      <th>2</th>\n",
       "      <td>3135 Lauer (1981 EC9)</td>\n",
       "      <td>2.420304</td>\n",
       "      <td>0.139377</td>\n",
       "      <td>None</td>\n",
       "      <td>5.980839</td>\n",
       "      <td>304.914422</td>\n",
       "      <td>118.465686</td>\n",
       "      <td>2.082971</td>\n",
       "      <td>2.757638</td>\n",
       "      <td>3.765417</td>\n",
       "      <td>14915</td>\n",
       "      <td>0</td>\n",
       "      <td>1456</td>\n",
       "      <td>13.8</td>\n",
       "      <td>None</td>\n",
       "      <td>None</td>\n",
       "      <td>NaN</td>\n",
       "      <td>None</td>\n",
       "      <td>None</td>\n",
       "      <td>None</td>\n",
       "      <td>None</td>\n",
       "      <td>None</td>\n",
       "      <td>None</td>\n",
       "      <td>None</td>\n",
       "      <td>N</td>\n",
       "      <td>N</td>\n",
       "      <td>1.103980</td>\n",
       "    </tr>\n",
       "    <tr>\n",
       "      <th>3</th>\n",
       "      <td>4270 Juanvictoria (1975 TJ6)</td>\n",
       "      <td>2.366468</td>\n",
       "      <td>0.183351</td>\n",
       "      <td>None</td>\n",
       "      <td>12.158013</td>\n",
       "      <td>125.460349</td>\n",
       "      <td>321.158115</td>\n",
       "      <td>1.932573</td>\n",
       "      <td>2.800362</td>\n",
       "      <td>3.640484</td>\n",
       "      <td>15651</td>\n",
       "      <td>0</td>\n",
       "      <td>1303</td>\n",
       "      <td>14.1</td>\n",
       "      <td>8.264</td>\n",
       "      <td>None</td>\n",
       "      <td>0.058</td>\n",
       "      <td>None</td>\n",
       "      <td>None</td>\n",
       "      <td>None</td>\n",
       "      <td>None</td>\n",
       "      <td>None</td>\n",
       "      <td>None</td>\n",
       "      <td>None</td>\n",
       "      <td>N</td>\n",
       "      <td>N</td>\n",
       "      <td>0.963916</td>\n",
       "    </tr>\n",
       "    <tr>\n",
       "      <th>4</th>\n",
       "      <td>4549 Burkhardt (1276 T-2)</td>\n",
       "      <td>2.435993</td>\n",
       "      <td>0.154853</td>\n",
       "      <td>None</td>\n",
       "      <td>2.828001</td>\n",
       "      <td>32.532749</td>\n",
       "      <td>52.209390</td>\n",
       "      <td>2.058773</td>\n",
       "      <td>2.813212</td>\n",
       "      <td>3.802088</td>\n",
       "      <td>23750</td>\n",
       "      <td>0</td>\n",
       "      <td>1374</td>\n",
       "      <td>14.2</td>\n",
       "      <td>None</td>\n",
       "      <td>None</td>\n",
       "      <td>NaN</td>\n",
       "      <td>None</td>\n",
       "      <td>None</td>\n",
       "      <td>None</td>\n",
       "      <td>None</td>\n",
       "      <td>None</td>\n",
       "      <td>None</td>\n",
       "      <td>None</td>\n",
       "      <td>N</td>\n",
       "      <td>N</td>\n",
       "      <td>1.076260</td>\n",
       "    </tr>\n",
       "    <tr>\n",
       "      <th>5</th>\n",
       "      <td>4579 Puccini (1989 AT6)</td>\n",
       "      <td>2.399083</td>\n",
       "      <td>0.153338</td>\n",
       "      <td>None</td>\n",
       "      <td>2.213643</td>\n",
       "      <td>111.413391</td>\n",
       "      <td>139.886855</td>\n",
       "      <td>2.031214</td>\n",
       "      <td>2.766953</td>\n",
       "      <td>3.716004</td>\n",
       "      <td>15040</td>\n",
       "      <td>0</td>\n",
       "      <td>2229</td>\n",
       "      <td>13.8</td>\n",
       "      <td>None</td>\n",
       "      <td>None</td>\n",
       "      <td>NaN</td>\n",
       "      <td>None</td>\n",
       "      <td>None</td>\n",
       "      <td>None</td>\n",
       "      <td>None</td>\n",
       "      <td>None</td>\n",
       "      <td>None</td>\n",
       "      <td>None</td>\n",
       "      <td>N</td>\n",
       "      <td>N</td>\n",
       "      <td>1.017250</td>\n",
       "    </tr>\n",
       "    <tr>\n",
       "      <th>6</th>\n",
       "      <td>4480 Nikitibotania (1985 QM4)</td>\n",
       "      <td>2.432013</td>\n",
       "      <td>0.167278</td>\n",
       "      <td>None</td>\n",
       "      <td>3.393789</td>\n",
       "      <td>50.314582</td>\n",
       "      <td>351.037630</td>\n",
       "      <td>2.025190</td>\n",
       "      <td>2.838836</td>\n",
       "      <td>3.792775</td>\n",
       "      <td>16366</td>\n",
       "      <td>0</td>\n",
       "      <td>1599</td>\n",
       "      <td>14.0</td>\n",
       "      <td>9.329</td>\n",
       "      <td>None</td>\n",
       "      <td>0.068</td>\n",
       "      <td>None</td>\n",
       "      <td>None</td>\n",
       "      <td>None</td>\n",
       "      <td>None</td>\n",
       "      <td>None</td>\n",
       "      <td>None</td>\n",
       "      <td>None</td>\n",
       "      <td>N</td>\n",
       "      <td>N</td>\n",
       "      <td>1.033080</td>\n",
       "    </tr>\n",
       "    <tr>\n",
       "      <th>7</th>\n",
       "      <td>4444 Escher (1985 SA)</td>\n",
       "      <td>2.323466</td>\n",
       "      <td>0.135256</td>\n",
       "      <td>None</td>\n",
       "      <td>7.391794</td>\n",
       "      <td>121.256649</td>\n",
       "      <td>181.908910</td>\n",
       "      <td>2.009202</td>\n",
       "      <td>2.637730</td>\n",
       "      <td>3.541707</td>\n",
       "      <td>12336</td>\n",
       "      <td>0</td>\n",
       "      <td>2124</td>\n",
       "      <td>13.7</td>\n",
       "      <td>None</td>\n",
       "      <td>None</td>\n",
       "      <td>NaN</td>\n",
       "      <td>None</td>\n",
       "      <td>None</td>\n",
       "      <td>None</td>\n",
       "      <td>None</td>\n",
       "      <td>None</td>\n",
       "      <td>None</td>\n",
       "      <td>None</td>\n",
       "      <td>N</td>\n",
       "      <td>N</td>\n",
       "      <td>0.993099</td>\n",
       "    </tr>\n",
       "    <tr>\n",
       "      <th>8</th>\n",
       "      <td>3081 Martinuboh (1971 UP)</td>\n",
       "      <td>2.411293</td>\n",
       "      <td>0.183328</td>\n",
       "      <td>None</td>\n",
       "      <td>5.286152</td>\n",
       "      <td>43.782980</td>\n",
       "      <td>279.519867</td>\n",
       "      <td>1.969236</td>\n",
       "      <td>2.853350</td>\n",
       "      <td>3.744408</td>\n",
       "      <td>24446</td>\n",
       "      <td>0</td>\n",
       "      <td>1695</td>\n",
       "      <td>13.7</td>\n",
       "      <td>None</td>\n",
       "      <td>None</td>\n",
       "      <td>NaN</td>\n",
       "      <td>None</td>\n",
       "      <td>None</td>\n",
       "      <td>None</td>\n",
       "      <td>None</td>\n",
       "      <td>None</td>\n",
       "      <td>None</td>\n",
       "      <td>None</td>\n",
       "      <td>N</td>\n",
       "      <td>N</td>\n",
       "      <td>0.964725</td>\n",
       "    </tr>\n",
       "    <tr>\n",
       "      <th>9</th>\n",
       "      <td>4476 Bernstein (1983 DE)</td>\n",
       "      <td>2.384603</td>\n",
       "      <td>0.191499</td>\n",
       "      <td>None</td>\n",
       "      <td>3.369927</td>\n",
       "      <td>94.796790</td>\n",
       "      <td>345.276718</td>\n",
       "      <td>1.927953</td>\n",
       "      <td>2.841254</td>\n",
       "      <td>3.682413</td>\n",
       "      <td>14653</td>\n",
       "      <td>0</td>\n",
       "      <td>1897</td>\n",
       "      <td>14.0</td>\n",
       "      <td>None</td>\n",
       "      <td>None</td>\n",
       "      <td>NaN</td>\n",
       "      <td>None</td>\n",
       "      <td>None</td>\n",
       "      <td>None</td>\n",
       "      <td>None</td>\n",
       "      <td>None</td>\n",
       "      <td>None</td>\n",
       "      <td>None</td>\n",
       "      <td>N</td>\n",
       "      <td>N</td>\n",
       "      <td>0.943815</td>\n",
       "    </tr>\n",
       "    <tr>\n",
       "      <th>10</th>\n",
       "      <td>4432 McGraw-Hill (1981 ER22)</td>\n",
       "      <td>2.387007</td>\n",
       "      <td>0.213310</td>\n",
       "      <td>None</td>\n",
       "      <td>0.461393</td>\n",
       "      <td>115.236936</td>\n",
       "      <td>246.202728</td>\n",
       "      <td>1.877835</td>\n",
       "      <td>2.896180</td>\n",
       "      <td>3.687983</td>\n",
       "      <td>20053</td>\n",
       "      <td>0</td>\n",
       "      <td>1432</td>\n",
       "      <td>14.5</td>\n",
       "      <td>3.042</td>\n",
       "      <td>None</td>\n",
       "      <td>0.254</td>\n",
       "      <td>None</td>\n",
       "      <td>None</td>\n",
       "      <td>None</td>\n",
       "      <td>None</td>\n",
       "      <td>None</td>\n",
       "      <td>None</td>\n",
       "      <td>None</td>\n",
       "      <td>N</td>\n",
       "      <td>N</td>\n",
       "      <td>0.874123</td>\n",
       "    </tr>\n",
       "    <tr>\n",
       "      <th>11</th>\n",
       "      <td>4815 Anders (1981 EA28)</td>\n",
       "      <td>2.359711</td>\n",
       "      <td>0.135291</td>\n",
       "      <td>None</td>\n",
       "      <td>7.553188</td>\n",
       "      <td>7.174304</td>\n",
       "      <td>355.921444</td>\n",
       "      <td>2.040465</td>\n",
       "      <td>2.678958</td>\n",
       "      <td>3.624904</td>\n",
       "      <td>14553</td>\n",
       "      <td>0</td>\n",
       "      <td>1594</td>\n",
       "      <td>13.8</td>\n",
       "      <td>4.172</td>\n",
       "      <td>None</td>\n",
       "      <td>0.336</td>\n",
       "      <td>None</td>\n",
       "      <td>None</td>\n",
       "      <td>None</td>\n",
       "      <td>None</td>\n",
       "      <td>None</td>\n",
       "      <td>None</td>\n",
       "      <td>None</td>\n",
       "      <td>N</td>\n",
       "      <td>N</td>\n",
       "      <td>1.037330</td>\n",
       "    </tr>\n",
       "    <tr>\n",
       "      <th>12</th>\n",
       "      <td>3891 Werner (1981 EY31)</td>\n",
       "      <td>2.405993</td>\n",
       "      <td>0.177944</td>\n",
       "      <td>None</td>\n",
       "      <td>1.599109</td>\n",
       "      <td>269.430503</td>\n",
       "      <td>346.687384</td>\n",
       "      <td>1.977861</td>\n",
       "      <td>2.834124</td>\n",
       "      <td>3.732069</td>\n",
       "      <td>16523</td>\n",
       "      <td>0</td>\n",
       "      <td>1578</td>\n",
       "      <td>14.4</td>\n",
       "      <td>3.203</td>\n",
       "      <td>None</td>\n",
       "      <td>0.328</td>\n",
       "      <td>None</td>\n",
       "      <td>None</td>\n",
       "      <td>None</td>\n",
       "      <td>None</td>\n",
       "      <td>None</td>\n",
       "      <td>None</td>\n",
       "      <td>None</td>\n",
       "      <td>N</td>\n",
       "      <td>N</td>\n",
       "      <td>0.962686</td>\n",
       "    </tr>\n",
       "  </tbody>\n",
       "</table>\n",
       "</div>"
      ],
      "text/plain": [
       "                          full_name         a         e     G          i  \\\n",
       "0          3529 Dowling (1981 EQ19)  2.382538  0.183169  None   2.762782   \n",
       "1            3984 Chacos (1984 SB6)  2.436352  0.181476  None   2.938197   \n",
       "2             3135 Lauer (1981 EC9)  2.420304  0.139377  None   5.980839   \n",
       "3      4270 Juanvictoria (1975 TJ6)  2.366468  0.183351  None  12.158013   \n",
       "4         4549 Burkhardt (1276 T-2)  2.435993  0.154853  None   2.828001   \n",
       "5           4579 Puccini (1989 AT6)  2.399083  0.153338  None   2.213643   \n",
       "6     4480 Nikitibotania (1985 QM4)  2.432013  0.167278  None   3.393789   \n",
       "7             4444 Escher (1985 SA)  2.323466  0.135256  None   7.391794   \n",
       "8         3081 Martinuboh (1971 UP)  2.411293  0.183328  None   5.286152   \n",
       "9          4476 Bernstein (1983 DE)  2.384603  0.191499  None   3.369927   \n",
       "10     4432 McGraw-Hill (1981 ER22)  2.387007  0.213310  None   0.461393   \n",
       "11          4815 Anders (1981 EA28)  2.359711  0.135291  None   7.553188   \n",
       "12          3891 Werner (1981 EY31)  2.405993  0.177944  None   1.599109   \n",
       "\n",
       "            om           w         q        ad     per_y  data_arc  \\\n",
       "0   193.965268  184.680307  1.946131  2.818944  3.677629     24066   \n",
       "1    99.993724  263.569641  1.994213  2.878491  3.802929     17975   \n",
       "2   304.914422  118.465686  2.082971  2.757638  3.765417     14915   \n",
       "3   125.460349  321.158115  1.932573  2.800362  3.640484     15651   \n",
       "4    32.532749   52.209390  2.058773  2.813212  3.802088     23750   \n",
       "5   111.413391  139.886855  2.031214  2.766953  3.716004     15040   \n",
       "6    50.314582  351.037630  2.025190  2.838836  3.792775     16366   \n",
       "7   121.256649  181.908910  2.009202  2.637730  3.541707     12336   \n",
       "8    43.782980  279.519867  1.969236  2.853350  3.744408     24446   \n",
       "9    94.796790  345.276718  1.927953  2.841254  3.682413     14653   \n",
       "10  115.236936  246.202728  1.877835  2.896180  3.687983     20053   \n",
       "11    7.174304  355.921444  2.040465  2.678958  3.624904     14553   \n",
       "12  269.430503  346.687384  1.977861  2.834124  3.732069     16523   \n",
       "\n",
       "    condition_code  n_obs_used     H diameter extent  albedo rot_per    GM  \\\n",
       "0                0        1166  14.7    6.088   None   0.120    None  None   \n",
       "1                0        1525  14.4    7.569   None   0.050    None  None   \n",
       "2                0        1456  13.8     None   None     NaN    None  None   \n",
       "3                0        1303  14.1    8.264   None   0.058    None  None   \n",
       "4                0        1374  14.2     None   None     NaN    None  None   \n",
       "5                0        2229  13.8     None   None     NaN    None  None   \n",
       "6                0        1599  14.0    9.329   None   0.068    None  None   \n",
       "7                0        2124  13.7     None   None     NaN    None  None   \n",
       "8                0        1695  13.7     None   None     NaN    None  None   \n",
       "9                0        1897  14.0     None   None     NaN    None  None   \n",
       "10               0        1432  14.5    3.042   None   0.254    None  None   \n",
       "11               0        1594  13.8    4.172   None   0.336    None  None   \n",
       "12               0        1578  14.4    3.203   None   0.328    None  None   \n",
       "\n",
       "      BV    UB    IR spec_B spec_T neo pha      moid  \n",
       "0   None  None  None   None   None   N   N  0.947403  \n",
       "1   None  None  None   None   None   N   N  0.993601  \n",
       "2   None  None  None   None   None   N   N  1.103980  \n",
       "3   None  None  None   None   None   N   N  0.963916  \n",
       "4   None  None  None   None   None   N   N  1.076260  \n",
       "5   None  None  None   None   None   N   N  1.017250  \n",
       "6   None  None  None   None   None   N   N  1.033080  \n",
       "7   None  None  None   None   None   N   N  0.993099  \n",
       "8   None  None  None   None   None   N   N  0.964725  \n",
       "9   None  None  None   None   None   N   N  0.943815  \n",
       "10  None  None  None   None   None   N   N  0.874123  \n",
       "11  None  None  None   None   None   N   N  1.037330  \n",
       "12  None  None  None   None   None   N   N  0.962686  "
      ]
     },
     "metadata": {},
     "output_type": "display_data"
    }
   ],
   "source": [
    "pd.options.display.max_columns = None #show all features\n",
    "\n",
    "most_similar_df = pd.DataFrame(react['explanation']['influential_cases'][0])\n",
    "most_similar_df = most_similar_df.drop(['.session_training_index', '.session'], axis=1)\n",
    "\n",
    "display(df_full.iloc[predict_index:predict_index+1])\n",
    "display(most_similar_df[header])"
   ]
  },
  {
   "attachments": {},
   "cell_type": "markdown",
   "metadata": {},
   "source": [
    "# Step 4: Intepret\n",
    "\n",
    "## We react several more times to determine a range of possible predicted values.\n",
    "\n",
    "These will be used to visualize the distribution of the predicted feature compared to the held-out case, the predicted case, and the influential cases. This visualization is one of many techniques which could be used to interpret the results."
   ]
  },
  {
   "cell_type": "code",
   "execution_count": 9,
   "metadata": {},
   "outputs": [],
   "source": [
    "gen_reacts = list()\n",
    "for i in range(0,100):\n",
    "    result =  trainee.react(context_features=context_features,\n",
    "                            action_features=action_feature,\n",
    "                            contexts=[context_values],\n",
    "                            desired_conviction = 5000)\n",
    "    gen_reacts.append(result['action'].loc[0, 'moid'])\n",
    "\n",
    "trainee.react_into_trainee(residuals=True)\n",
    "global_residual = trainee.get_prediction_stats(stats=['mae'])['moid'][0]"
   ]
  },
  {
   "cell_type": "code",
   "execution_count": 10,
   "metadata": {},
   "outputs": [
    {
     "data": {
      "application/vnd.plotly.v1+json": {
       "config": {
        "plotlyServerURL": "https://plot.ly"
       },
       "data": [
        {
         "fill": "tonexty",
         "hoverinfo": "skip",
         "mode": "lines",
         "name": "Distribution",
         "type": "scattergl",
         "x": [
          0.52447236,
          0.5347865967676767,
          0.5451008335353535,
          0.5554150703030303,
          0.565729307070707,
          0.5760435438383839,
          0.5863577806060606,
          0.5966720173737373,
          0.6069862541414142,
          0.6173004909090909,
          0.6276147276767676,
          0.6379289644444445,
          0.6482432012121212,
          0.6585574379797979,
          0.6688716747474748,
          0.6791859115151515,
          0.6895001482828282,
          0.699814385050505,
          0.7101286218181818,
          0.7204428585858585,
          0.7307570953535354,
          0.7410713321212121,
          0.7513855688888889,
          0.7616998056565656,
          0.7720140424242424,
          0.7823282791919192,
          0.792642515959596,
          0.8029567527272727,
          0.8132709894949495,
          0.8235852262626262,
          0.833899463030303,
          0.8442136997979798,
          0.8545279365656566,
          0.8648421733333334,
          0.8751564101010101,
          0.8854706468686868,
          0.8957848836363637,
          0.9060991204040404,
          0.9164133571717172,
          0.926727593939394,
          0.9370418307070707,
          0.9473560674747474,
          0.9576703042424243,
          0.967984541010101,
          0.9782987777777779,
          0.9886130145454546,
          0.9989272513131313,
          1.009241488080808,
          1.0195557248484848,
          1.0298699616161615,
          1.0401841983838382,
          1.0504984351515152,
          1.060812671919192,
          1.0711269086868687,
          1.0814411454545456,
          1.0917553822222223,
          1.102069618989899,
          1.1123838557575758,
          1.1226980925252525,
          1.1330123292929293,
          1.143326566060606,
          1.1536408028282827,
          1.1639550395959595,
          1.1742692763636364,
          1.1845835131313132,
          1.19489774989899,
          1.2052119866666668,
          1.2155262234343436,
          1.2258404602020203,
          1.236154696969697,
          1.2464689337373738,
          1.2567831705050505,
          1.2670974072727272,
          1.277411644040404,
          1.2877258808080807,
          1.2980401175757577,
          1.3083543543434344,
          1.3186685911111111,
          1.328982827878788,
          1.3392970646464648,
          1.3496113014141415,
          1.3599255381818183,
          1.370239774949495,
          1.3805540117171717,
          1.3908682484848485,
          1.4011824852525252,
          1.411496722020202,
          1.4218109587878789,
          1.4321251955555556,
          1.4424394323232324,
          1.4527536690909093,
          1.463067905858586,
          1.4733821426262628,
          1.4836963793939395,
          1.4940106161616162,
          1.504324852929293,
          1.5146390896969697,
          1.5249533264646464,
          1.5352675632323232,
          1.5455818
         ],
         "y": [
          7.206056193799101e-53,
          7.763984828744244e-50,
          6.787050049357996e-47,
          4.813785846013219e-44,
          2.770140645334247e-41,
          1.2933802163531825e-38,
          4.899592349649919e-36,
          1.50592388710333e-33,
          3.75539338203105e-31,
          7.598313201520326e-29,
          1.2473498691636225e-26,
          1.6613790152236743e-24,
          1.7953887334022174e-22,
          1.574191672208725e-20,
          1.1198660164608421e-18,
          6.463739733542035e-17,
          3.0269900707912006e-15,
          1.1501314304615786e-13,
          3.5456289727309175e-12,
          8.868464732115075e-11,
          1.7997531367500523e-9,
          2.9633761088480316e-8,
          3.9588582484348496e-7,
          0.000004291039071912178,
          0.000037736735706056785,
          0.0002692622974038065,
          0.0015588207140988866,
          0.0073219439280315995,
          0.027904040694138706,
          0.08628233025706199,
          0.21647406894342283,
          0.44074078880799694,
          0.7286614419359835,
          0.9808202110887545,
          1.0870787261297299,
          1.0381391838533354,
          0.9915341119434702,
          1.2190845473240648,
          1.9560791137293205,
          3.2280521522324315,
          4.757991007927723,
          6.063668217894009,
          6.740246328944953,
          6.72044191842678,
          6.2780596849394374,
          5.792123108625479,
          5.5111497302982375,
          5.469196681700014,
          5.511914947148542,
          5.397473978381513,
          4.981599074099842,
          4.35419821558005,
          3.743980481857902,
          3.2792705213250963,
          2.8953254680250917,
          2.4637667380369743,
          1.9393382289781886,
          1.3758488554988955,
          0.8626811470325376,
          0.4688345427388131,
          0.21668794288349622,
          0.08382775685239985,
          0.026830295267455045,
          0.007049995992329739,
          0.001513489257866222,
          0.0002646879008769693,
          0.000037645256968625126,
          0.000004349873516083242,
          4.0811705703452405e-7,
          3.108079605896983e-8,
          1.9209553904481655e-9,
          9.634154826563738e-11,
          3.9206184859774204e-12,
          1.294568406656502e-13,
          3.468296652596151e-15,
          7.539166776399065e-17,
          1.3296689705521302e-18,
          1.9027213188852113e-20,
          2.209110231362656e-22,
          2.0809882189285318e-24,
          1.5904923720786774e-26,
          9.862865821031083e-29,
          4.9623126979420525e-31,
          2.0256972760225768e-33,
          6.709255682776037e-36,
          1.802949263983635e-38,
          3.9309907563537553e-41,
          6.953923165940304e-44,
          9.980840102585162e-47,
          1.1622877253246948e-49,
          1.0981699271723744e-52,
          8.418501298921637e-56,
          5.236117225348649e-59,
          2.6423678669369883e-62,
          1.0818985496132972e-65,
          3.594091574823559e-69,
          9.68726273868805e-73,
          2.1184702030764833e-76,
          3.758832571509841e-80,
          5.411191997841028e-84
         ]
        },
        {
         "error_x": {
          "array": [
           0.13673541409913392
          ]
         },
         "hovertemplate": "Value: %{x}<br />Influence: N/A",
         "marker": {
          "color": "purple",
          "size": 15
         },
         "mode": "markers",
         "name": "Predicted Value",
         "type": "scattergl",
         "x": [
          0.9933469
         ],
         "xaxis": "x",
         "y": [
          0.08206762364410401
         ],
         "yaxis": "y2"
        },
        {
         "hovertemplate": "Value: %{x}<br />Influence: N/A",
         "marker": {
          "color": "orange",
          "size": 15
         },
         "mode": "markers",
         "name": "Actual Value",
         "type": "scattergl",
         "x": [
          1.01338
         ],
         "xaxis": "x",
         "y": [
          0.08206762364410401
         ],
         "yaxis": "y2"
        },
        {
         "customdata": [
          {
           "index": 3528,
           "session": "7632c8ff-705c-4302-b232-ee0f05832e89"
          },
          {
           "index": 3983,
           "session": "7632c8ff-705c-4302-b232-ee0f05832e89"
          },
          {
           "index": 3134,
           "session": "7632c8ff-705c-4302-b232-ee0f05832e89"
          },
          {
           "index": 4269,
           "session": "7632c8ff-705c-4302-b232-ee0f05832e89"
          },
          {
           "index": 4548,
           "session": "7632c8ff-705c-4302-b232-ee0f05832e89"
          },
          {
           "index": 4578,
           "session": "7632c8ff-705c-4302-b232-ee0f05832e89"
          },
          {
           "index": 4479,
           "session": "7632c8ff-705c-4302-b232-ee0f05832e89"
          },
          {
           "index": 4443,
           "session": "7632c8ff-705c-4302-b232-ee0f05832e89"
          },
          {
           "index": 3080,
           "session": "7632c8ff-705c-4302-b232-ee0f05832e89"
          },
          {
           "index": 4475,
           "session": "7632c8ff-705c-4302-b232-ee0f05832e89"
          },
          {
           "index": 4431,
           "session": "7632c8ff-705c-4302-b232-ee0f05832e89"
          },
          {
           "index": 4814,
           "session": "7632c8ff-705c-4302-b232-ee0f05832e89"
          },
          {
           "index": 3890,
           "session": "7632c8ff-705c-4302-b232-ee0f05832e89"
          }
         ],
         "hovertemplate": "Value: %{x}<br />Influence: %{y}<br /><br />%{customdata}",
         "marker": {
          "color": "green"
         },
         "mode": "markers",
         "name": "Influential Case",
         "type": "scattergl",
         "x": [
          0.947403,
          0.993601,
          1.10398,
          0.963916,
          1.07626,
          1.01725,
          1.03308,
          0.993099,
          0.964725,
          0.943815,
          0.874123,
          1.03733,
          0.962686
         ],
         "xaxis": "x",
         "y": [
          0.07815964156581334,
          0.07781485483798316,
          0.07771372110536104,
          0.07743161250903784,
          0.07718196574094639,
          0.07713321773522838,
          0.07692594427644876,
          0.0768774043554041,
          0.07630310658758489,
          0.0762086117247846,
          0.07618147635889425,
          0.07603733245240597,
          0.07603111075010743
         ],
         "yaxis": "y2"
        }
       ],
       "layout": {
        "template": {
         "data": {
          "bar": [
           {
            "error_x": {
             "color": "#2a3f5f"
            },
            "error_y": {
             "color": "#2a3f5f"
            },
            "marker": {
             "line": {
              "color": "#E5ECF6",
              "width": 0.5
             },
             "pattern": {
              "fillmode": "overlay",
              "size": 10,
              "solidity": 0.2
             }
            },
            "type": "bar"
           }
          ],
          "barpolar": [
           {
            "marker": {
             "line": {
              "color": "#E5ECF6",
              "width": 0.5
             },
             "pattern": {
              "fillmode": "overlay",
              "size": 10,
              "solidity": 0.2
             }
            },
            "type": "barpolar"
           }
          ],
          "carpet": [
           {
            "aaxis": {
             "endlinecolor": "#2a3f5f",
             "gridcolor": "white",
             "linecolor": "white",
             "minorgridcolor": "white",
             "startlinecolor": "#2a3f5f"
            },
            "baxis": {
             "endlinecolor": "#2a3f5f",
             "gridcolor": "white",
             "linecolor": "white",
             "minorgridcolor": "white",
             "startlinecolor": "#2a3f5f"
            },
            "type": "carpet"
           }
          ],
          "choropleth": [
           {
            "colorbar": {
             "outlinewidth": 0,
             "ticks": ""
            },
            "type": "choropleth"
           }
          ],
          "contour": [
           {
            "colorbar": {
             "outlinewidth": 0,
             "ticks": ""
            },
            "colorscale": [
             [
              0,
              "#0d0887"
             ],
             [
              0.1111111111111111,
              "#46039f"
             ],
             [
              0.2222222222222222,
              "#7201a8"
             ],
             [
              0.3333333333333333,
              "#9c179e"
             ],
             [
              0.4444444444444444,
              "#bd3786"
             ],
             [
              0.5555555555555556,
              "#d8576b"
             ],
             [
              0.6666666666666666,
              "#ed7953"
             ],
             [
              0.7777777777777778,
              "#fb9f3a"
             ],
             [
              0.8888888888888888,
              "#fdca26"
             ],
             [
              1,
              "#f0f921"
             ]
            ],
            "type": "contour"
           }
          ],
          "contourcarpet": [
           {
            "colorbar": {
             "outlinewidth": 0,
             "ticks": ""
            },
            "type": "contourcarpet"
           }
          ],
          "heatmap": [
           {
            "colorbar": {
             "outlinewidth": 0,
             "ticks": ""
            },
            "colorscale": [
             [
              0,
              "#0d0887"
             ],
             [
              0.1111111111111111,
              "#46039f"
             ],
             [
              0.2222222222222222,
              "#7201a8"
             ],
             [
              0.3333333333333333,
              "#9c179e"
             ],
             [
              0.4444444444444444,
              "#bd3786"
             ],
             [
              0.5555555555555556,
              "#d8576b"
             ],
             [
              0.6666666666666666,
              "#ed7953"
             ],
             [
              0.7777777777777778,
              "#fb9f3a"
             ],
             [
              0.8888888888888888,
              "#fdca26"
             ],
             [
              1,
              "#f0f921"
             ]
            ],
            "type": "heatmap"
           }
          ],
          "heatmapgl": [
           {
            "colorbar": {
             "outlinewidth": 0,
             "ticks": ""
            },
            "colorscale": [
             [
              0,
              "#0d0887"
             ],
             [
              0.1111111111111111,
              "#46039f"
             ],
             [
              0.2222222222222222,
              "#7201a8"
             ],
             [
              0.3333333333333333,
              "#9c179e"
             ],
             [
              0.4444444444444444,
              "#bd3786"
             ],
             [
              0.5555555555555556,
              "#d8576b"
             ],
             [
              0.6666666666666666,
              "#ed7953"
             ],
             [
              0.7777777777777778,
              "#fb9f3a"
             ],
             [
              0.8888888888888888,
              "#fdca26"
             ],
             [
              1,
              "#f0f921"
             ]
            ],
            "type": "heatmapgl"
           }
          ],
          "histogram": [
           {
            "marker": {
             "pattern": {
              "fillmode": "overlay",
              "size": 10,
              "solidity": 0.2
             }
            },
            "type": "histogram"
           }
          ],
          "histogram2d": [
           {
            "colorbar": {
             "outlinewidth": 0,
             "ticks": ""
            },
            "colorscale": [
             [
              0,
              "#0d0887"
             ],
             [
              0.1111111111111111,
              "#46039f"
             ],
             [
              0.2222222222222222,
              "#7201a8"
             ],
             [
              0.3333333333333333,
              "#9c179e"
             ],
             [
              0.4444444444444444,
              "#bd3786"
             ],
             [
              0.5555555555555556,
              "#d8576b"
             ],
             [
              0.6666666666666666,
              "#ed7953"
             ],
             [
              0.7777777777777778,
              "#fb9f3a"
             ],
             [
              0.8888888888888888,
              "#fdca26"
             ],
             [
              1,
              "#f0f921"
             ]
            ],
            "type": "histogram2d"
           }
          ],
          "histogram2dcontour": [
           {
            "colorbar": {
             "outlinewidth": 0,
             "ticks": ""
            },
            "colorscale": [
             [
              0,
              "#0d0887"
             ],
             [
              0.1111111111111111,
              "#46039f"
             ],
             [
              0.2222222222222222,
              "#7201a8"
             ],
             [
              0.3333333333333333,
              "#9c179e"
             ],
             [
              0.4444444444444444,
              "#bd3786"
             ],
             [
              0.5555555555555556,
              "#d8576b"
             ],
             [
              0.6666666666666666,
              "#ed7953"
             ],
             [
              0.7777777777777778,
              "#fb9f3a"
             ],
             [
              0.8888888888888888,
              "#fdca26"
             ],
             [
              1,
              "#f0f921"
             ]
            ],
            "type": "histogram2dcontour"
           }
          ],
          "mesh3d": [
           {
            "colorbar": {
             "outlinewidth": 0,
             "ticks": ""
            },
            "type": "mesh3d"
           }
          ],
          "parcoords": [
           {
            "line": {
             "colorbar": {
              "outlinewidth": 0,
              "ticks": ""
             }
            },
            "type": "parcoords"
           }
          ],
          "pie": [
           {
            "automargin": true,
            "type": "pie"
           }
          ],
          "scatter": [
           {
            "fillpattern": {
             "fillmode": "overlay",
             "size": 10,
             "solidity": 0.2
            },
            "type": "scatter"
           }
          ],
          "scatter3d": [
           {
            "line": {
             "colorbar": {
              "outlinewidth": 0,
              "ticks": ""
             }
            },
            "marker": {
             "colorbar": {
              "outlinewidth": 0,
              "ticks": ""
             }
            },
            "type": "scatter3d"
           }
          ],
          "scattercarpet": [
           {
            "marker": {
             "colorbar": {
              "outlinewidth": 0,
              "ticks": ""
             }
            },
            "type": "scattercarpet"
           }
          ],
          "scattergeo": [
           {
            "marker": {
             "colorbar": {
              "outlinewidth": 0,
              "ticks": ""
             }
            },
            "type": "scattergeo"
           }
          ],
          "scattergl": [
           {
            "marker": {
             "colorbar": {
              "outlinewidth": 0,
              "ticks": ""
             }
            },
            "type": "scattergl"
           }
          ],
          "scattermapbox": [
           {
            "marker": {
             "colorbar": {
              "outlinewidth": 0,
              "ticks": ""
             }
            },
            "type": "scattermapbox"
           }
          ],
          "scatterpolar": [
           {
            "marker": {
             "colorbar": {
              "outlinewidth": 0,
              "ticks": ""
             }
            },
            "type": "scatterpolar"
           }
          ],
          "scatterpolargl": [
           {
            "marker": {
             "colorbar": {
              "outlinewidth": 0,
              "ticks": ""
             }
            },
            "type": "scatterpolargl"
           }
          ],
          "scatterternary": [
           {
            "marker": {
             "colorbar": {
              "outlinewidth": 0,
              "ticks": ""
             }
            },
            "type": "scatterternary"
           }
          ],
          "surface": [
           {
            "colorbar": {
             "outlinewidth": 0,
             "ticks": ""
            },
            "colorscale": [
             [
              0,
              "#0d0887"
             ],
             [
              0.1111111111111111,
              "#46039f"
             ],
             [
              0.2222222222222222,
              "#7201a8"
             ],
             [
              0.3333333333333333,
              "#9c179e"
             ],
             [
              0.4444444444444444,
              "#bd3786"
             ],
             [
              0.5555555555555556,
              "#d8576b"
             ],
             [
              0.6666666666666666,
              "#ed7953"
             ],
             [
              0.7777777777777778,
              "#fb9f3a"
             ],
             [
              0.8888888888888888,
              "#fdca26"
             ],
             [
              1,
              "#f0f921"
             ]
            ],
            "type": "surface"
           }
          ],
          "table": [
           {
            "cells": {
             "fill": {
              "color": "#EBF0F8"
             },
             "line": {
              "color": "white"
             }
            },
            "header": {
             "fill": {
              "color": "#C8D4E3"
             },
             "line": {
              "color": "white"
             }
            },
            "type": "table"
           }
          ]
         },
         "layout": {
          "annotationdefaults": {
           "arrowcolor": "#2a3f5f",
           "arrowhead": 0,
           "arrowwidth": 1
          },
          "autotypenumbers": "strict",
          "coloraxis": {
           "colorbar": {
            "outlinewidth": 0,
            "ticks": ""
           }
          },
          "colorscale": {
           "diverging": [
            [
             0,
             "#8e0152"
            ],
            [
             0.1,
             "#c51b7d"
            ],
            [
             0.2,
             "#de77ae"
            ],
            [
             0.3,
             "#f1b6da"
            ],
            [
             0.4,
             "#fde0ef"
            ],
            [
             0.5,
             "#f7f7f7"
            ],
            [
             0.6,
             "#e6f5d0"
            ],
            [
             0.7,
             "#b8e186"
            ],
            [
             0.8,
             "#7fbc41"
            ],
            [
             0.9,
             "#4d9221"
            ],
            [
             1,
             "#276419"
            ]
           ],
           "sequential": [
            [
             0,
             "#0d0887"
            ],
            [
             0.1111111111111111,
             "#46039f"
            ],
            [
             0.2222222222222222,
             "#7201a8"
            ],
            [
             0.3333333333333333,
             "#9c179e"
            ],
            [
             0.4444444444444444,
             "#bd3786"
            ],
            [
             0.5555555555555556,
             "#d8576b"
            ],
            [
             0.6666666666666666,
             "#ed7953"
            ],
            [
             0.7777777777777778,
             "#fb9f3a"
            ],
            [
             0.8888888888888888,
             "#fdca26"
            ],
            [
             1,
             "#f0f921"
            ]
           ],
           "sequentialminus": [
            [
             0,
             "#0d0887"
            ],
            [
             0.1111111111111111,
             "#46039f"
            ],
            [
             0.2222222222222222,
             "#7201a8"
            ],
            [
             0.3333333333333333,
             "#9c179e"
            ],
            [
             0.4444444444444444,
             "#bd3786"
            ],
            [
             0.5555555555555556,
             "#d8576b"
            ],
            [
             0.6666666666666666,
             "#ed7953"
            ],
            [
             0.7777777777777778,
             "#fb9f3a"
            ],
            [
             0.8888888888888888,
             "#fdca26"
            ],
            [
             1,
             "#f0f921"
            ]
           ]
          },
          "colorway": [
           "#636efa",
           "#EF553B",
           "#00cc96",
           "#ab63fa",
           "#FFA15A",
           "#19d3f3",
           "#FF6692",
           "#B6E880",
           "#FF97FF",
           "#FECB52"
          ],
          "font": {
           "color": "#2a3f5f"
          },
          "geo": {
           "bgcolor": "white",
           "lakecolor": "white",
           "landcolor": "#E5ECF6",
           "showlakes": true,
           "showland": true,
           "subunitcolor": "white"
          },
          "hoverlabel": {
           "align": "left"
          },
          "hovermode": "closest",
          "mapbox": {
           "style": "light"
          },
          "paper_bgcolor": "white",
          "plot_bgcolor": "#E5ECF6",
          "polar": {
           "angularaxis": {
            "gridcolor": "white",
            "linecolor": "white",
            "ticks": ""
           },
           "bgcolor": "#E5ECF6",
           "radialaxis": {
            "gridcolor": "white",
            "linecolor": "white",
            "ticks": ""
           }
          },
          "scene": {
           "xaxis": {
            "backgroundcolor": "#E5ECF6",
            "gridcolor": "white",
            "gridwidth": 2,
            "linecolor": "white",
            "showbackground": true,
            "ticks": "",
            "zerolinecolor": "white"
           },
           "yaxis": {
            "backgroundcolor": "#E5ECF6",
            "gridcolor": "white",
            "gridwidth": 2,
            "linecolor": "white",
            "showbackground": true,
            "ticks": "",
            "zerolinecolor": "white"
           },
           "zaxis": {
            "backgroundcolor": "#E5ECF6",
            "gridcolor": "white",
            "gridwidth": 2,
            "linecolor": "white",
            "showbackground": true,
            "ticks": "",
            "zerolinecolor": "white"
           }
          },
          "shapedefaults": {
           "line": {
            "color": "#2a3f5f"
           }
          },
          "ternary": {
           "aaxis": {
            "gridcolor": "white",
            "linecolor": "white",
            "ticks": ""
           },
           "baxis": {
            "gridcolor": "white",
            "linecolor": "white",
            "ticks": ""
           },
           "bgcolor": "#E5ECF6",
           "caxis": {
            "gridcolor": "white",
            "linecolor": "white",
            "ticks": ""
           }
          },
          "title": {
           "x": 0.05
          },
          "xaxis": {
           "automargin": true,
           "gridcolor": "white",
           "linecolor": "white",
           "ticks": "",
           "title": {
            "standoff": 15
           },
           "zerolinecolor": "white",
           "zerolinewidth": 2
          },
          "yaxis": {
           "automargin": true,
           "gridcolor": "white",
           "linecolor": "white",
           "ticks": "",
           "title": {
            "standoff": 15
           },
           "zerolinecolor": "white",
           "zerolinewidth": 2
          }
         }
        },
        "xaxis": {
         "anchor": "y",
         "autorange": true,
         "domain": [
          0,
          0.94
         ],
         "title": {
          "text": "moid"
         }
        },
        "yaxis": {
         "anchor": "x",
         "color": "blue",
         "domain": [
          0,
          1
         ],
         "title": {
          "text": "Density"
         }
        },
        "yaxis2": {
         "anchor": "x",
         "color": "green",
         "overlaying": "y",
         "side": "right",
         "title": {
          "text": "Influence Weight"
         }
        }
       }
      }
     },
     "metadata": {},
     "output_type": "display_data"
    }
   ],
   "source": [
    "plot_interpretable_prediction(\n",
    "    react,\n",
    "    actual_value=action_value,\n",
    "    generative_reacts=gen_reacts,\n",
    "    residual=global_residual,\n",
    ")"
   ]
  },
  {
   "attachments": {},
   "cell_type": "markdown",
   "metadata": {},
   "source": [
    "## Non-visual interpretation\n",
    "\n",
    "Howso Engine provides a number of tools for interpreting reacts. Below, we compare the MDA (Mean Decrease in Accuracy) for the predicted case and the original case."
   ]
  },
  {
   "cell_type": "code",
   "execution_count": 11,
   "metadata": {},
   "outputs": [
    {
     "data": {
      "text/html": [
       "<div>\n",
       "<style scoped>\n",
       "    .dataframe tbody tr th:only-of-type {\n",
       "        vertical-align: middle;\n",
       "    }\n",
       "\n",
       "    .dataframe tbody tr th {\n",
       "        vertical-align: top;\n",
       "    }\n",
       "\n",
       "    .dataframe thead th {\n",
       "        text-align: right;\n",
       "    }\n",
       "</style>\n",
       "<table border=\"1\" class=\"dataframe\">\n",
       "  <thead>\n",
       "    <tr style=\"text-align: right;\">\n",
       "      <th></th>\n",
       "      <th>original</th>\n",
       "      <th>predicted</th>\n",
       "    </tr>\n",
       "  </thead>\n",
       "  <tbody>\n",
       "    <tr>\n",
       "      <th>q</th>\n",
       "      <td>0.015766</td>\n",
       "      <td>0.020525</td>\n",
       "    </tr>\n",
       "    <tr>\n",
       "      <th>ad</th>\n",
       "      <td>0.015545</td>\n",
       "      <td>0.019634</td>\n",
       "    </tr>\n",
       "    <tr>\n",
       "      <th>e</th>\n",
       "      <td>0.014854</td>\n",
       "      <td>0.007557</td>\n",
       "    </tr>\n",
       "    <tr>\n",
       "      <th>per_y</th>\n",
       "      <td>0.007848</td>\n",
       "      <td>0.003940</td>\n",
       "    </tr>\n",
       "    <tr>\n",
       "      <th>IR</th>\n",
       "      <td>0.007823</td>\n",
       "      <td>-0.001177</td>\n",
       "    </tr>\n",
       "    <tr>\n",
       "      <th>pha</th>\n",
       "      <td>0.007644</td>\n",
       "      <td>-0.003217</td>\n",
       "    </tr>\n",
       "    <tr>\n",
       "      <th>albedo</th>\n",
       "      <td>0.006020</td>\n",
       "      <td>-0.004079</td>\n",
       "    </tr>\n",
       "    <tr>\n",
       "      <th>spec_B</th>\n",
       "      <td>0.005661</td>\n",
       "      <td>-0.004685</td>\n",
       "    </tr>\n",
       "    <tr>\n",
       "      <th>diameter</th>\n",
       "      <td>0.005337</td>\n",
       "      <td>-0.005479</td>\n",
       "    </tr>\n",
       "    <tr>\n",
       "      <th>rot_per</th>\n",
       "      <td>0.004567</td>\n",
       "      <td>-0.005991</td>\n",
       "    </tr>\n",
       "    <tr>\n",
       "      <th>extent</th>\n",
       "      <td>0.002394</td>\n",
       "      <td>-0.006640</td>\n",
       "    </tr>\n",
       "    <tr>\n",
       "      <th>condition_code</th>\n",
       "      <td>0.001923</td>\n",
       "      <td>-0.006692</td>\n",
       "    </tr>\n",
       "    <tr>\n",
       "      <th>a</th>\n",
       "      <td>0.001698</td>\n",
       "      <td>-0.006704</td>\n",
       "    </tr>\n",
       "    <tr>\n",
       "      <th>i</th>\n",
       "      <td>0.001681</td>\n",
       "      <td>-0.007901</td>\n",
       "    </tr>\n",
       "    <tr>\n",
       "      <th>H</th>\n",
       "      <td>0.001620</td>\n",
       "      <td>-0.008265</td>\n",
       "    </tr>\n",
       "    <tr>\n",
       "      <th>neo</th>\n",
       "      <td>0.000858</td>\n",
       "      <td>-0.008515</td>\n",
       "    </tr>\n",
       "    <tr>\n",
       "      <th>spec_T</th>\n",
       "      <td>0.000747</td>\n",
       "      <td>-0.010069</td>\n",
       "    </tr>\n",
       "    <tr>\n",
       "      <th>om</th>\n",
       "      <td>0.000395</td>\n",
       "      <td>-0.010078</td>\n",
       "    </tr>\n",
       "    <tr>\n",
       "      <th>UB</th>\n",
       "      <td>-0.000186</td>\n",
       "      <td>-0.010654</td>\n",
       "    </tr>\n",
       "    <tr>\n",
       "      <th>G</th>\n",
       "      <td>-0.000734</td>\n",
       "      <td>-0.010901</td>\n",
       "    </tr>\n",
       "    <tr>\n",
       "      <th>n_obs_used</th>\n",
       "      <td>-0.001019</td>\n",
       "      <td>-0.010977</td>\n",
       "    </tr>\n",
       "    <tr>\n",
       "      <th>BV</th>\n",
       "      <td>-0.002467</td>\n",
       "      <td>-0.011568</td>\n",
       "    </tr>\n",
       "    <tr>\n",
       "      <th>data_arc</th>\n",
       "      <td>-0.002770</td>\n",
       "      <td>-0.011590</td>\n",
       "    </tr>\n",
       "    <tr>\n",
       "      <th>w</th>\n",
       "      <td>-0.002779</td>\n",
       "      <td>-0.015123</td>\n",
       "    </tr>\n",
       "    <tr>\n",
       "      <th>full_name</th>\n",
       "      <td>-0.002785</td>\n",
       "      <td>-0.019133</td>\n",
       "    </tr>\n",
       "    <tr>\n",
       "      <th>GM</th>\n",
       "      <td>-0.003165</td>\n",
       "      <td>-0.019442</td>\n",
       "    </tr>\n",
       "  </tbody>\n",
       "</table>\n",
       "</div>"
      ],
      "text/plain": [
       "                original  predicted\n",
       "q               0.015766   0.020525\n",
       "ad              0.015545   0.019634\n",
       "e               0.014854   0.007557\n",
       "per_y           0.007848   0.003940\n",
       "IR              0.007823  -0.001177\n",
       "pha             0.007644  -0.003217\n",
       "albedo          0.006020  -0.004079\n",
       "spec_B          0.005661  -0.004685\n",
       "diameter        0.005337  -0.005479\n",
       "rot_per         0.004567  -0.005991\n",
       "extent          0.002394  -0.006640\n",
       "condition_code  0.001923  -0.006692\n",
       "a               0.001698  -0.006704\n",
       "i               0.001681  -0.007901\n",
       "H               0.001620  -0.008265\n",
       "neo             0.000858  -0.008515\n",
       "spec_T          0.000747  -0.010069\n",
       "om              0.000395  -0.010078\n",
       "UB             -0.000186  -0.010654\n",
       "G              -0.000734  -0.010901\n",
       "n_obs_used     -0.001019  -0.010977\n",
       "BV             -0.002467  -0.011568\n",
       "data_arc       -0.002770  -0.011590\n",
       "w              -0.002779  -0.015123\n",
       "full_name      -0.002785  -0.019133\n",
       "GM             -0.003165  -0.019442"
      ]
     },
     "metadata": {},
     "output_type": "display_data"
    }
   ],
   "source": [
    "react = trainee.react(context_features=context_features,\n",
    "                      action_features=action_feature,\n",
    "                      contexts=[context_values],\n",
    "                      details = {\n",
    "                         'feature_mda': True,\n",
    "                         'robust_computation': True\n",
    "                      })\n",
    "\n",
    "loc_mda = react['explanation']['feature_mda']\n",
    "\n",
    "mda_dict = dict(sorted(loc_mda[0].items(), key=lambda item: item[1], reverse=True))\n",
    "mda_df = pd.DataFrame(columns=['original', 'predicted'])\n",
    "mda_df['predicted'] = mda_dict.values()\n",
    "mda_df.index = mda_dict.keys()\n",
    "\n",
    "react2 = trainee.react(context_features=context_features,\n",
    "                       action_features=action_feature,\n",
    "                       actions=[[action_value]],  # specify \"actual\" actual value\n",
    "                       contexts=[context_values],\n",
    "                       details = { \n",
    "                           'feature_mda_ex_post': True,\n",
    "                           'robust_computation': True\n",
    "                       })\n",
    "\n",
    "loc_mda_post_facto = react2['explanation']['feature_mda_ex_post']\n",
    "mda_dict = dict(sorted(loc_mda_post_facto[0].items(), key=lambda item: item[1], reverse=True))\n",
    "mda_df['original'] = mda_dict.values()\n",
    "\n",
    "display(mda_df)"
   ]
  }
 ],
 "metadata": {
  "kernelspec": {
   "display_name": "Python 3 (ipykernel)",
   "language": "python",
   "name": "python3"
  },
  "language_info": {
   "codemirror_mode": {
    "name": "ipython",
    "version": 3
   },
   "file_extension": ".py",
   "mimetype": "text/x-python",
   "name": "python",
   "nbconvert_exporter": "python",
   "pygments_lexer": "ipython3",
   "version": "3.8.17"
  },
  "vscode": {
   "interpreter": {
    "hash": "98985849814880aea3c19ccd39a676e6516266a02d3f41969eba1e354b5d6197"
   }
  }
 },
 "nbformat": 4,
 "nbformat_minor": 4
}
