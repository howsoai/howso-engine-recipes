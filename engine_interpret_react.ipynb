{
 "cells": [
  {
   "attachments": {},
   "cell_type": "markdown",
   "metadata": {},
   "source": [
    "# Overview\n",
    "\n",
    "This notebook provides an overview of applying Howso Engine to make predictions based on historical data and harnessing Howso Engine’s interpretability capabilities to understand why the predictions were made. Here, we demonstrate these capabilities on asteroid data. We build a Howso Engine Trainee to predict various information about different asteroids, understand the influential cases on the predictions, and understand the uncertainty of the predictions. This is a straightforward example of the power of Howso Engine to gain insights from data. "
   ]
  },
  {
   "cell_type": "code",
   "execution_count": 1,
   "metadata": {},
   "outputs": [],
   "source": [
    "from pprint import pprint\n",
    "\n",
    "import pandas as pd\n",
    "\n",
    "from howso.engine import Trainee\n",
    "from howso.utilities import infer_feature_attributes\n",
    "from howso.visuals import plot_interpretable_prediction"
   ]
  },
  {
   "attachments": {},
   "cell_type": "markdown",
   "metadata": {},
   "source": [
    "# Step 1: Load and Map the Data\n",
    "\n",
    "## For this demonstration we will use a subset of a dataset containing measurements of various asteroids"
   ]
  },
  {
   "cell_type": "code",
   "execution_count": 2,
   "metadata": {},
   "outputs": [
    {
     "data": {
      "text/html": [
       "<div>\n",
       "<style scoped>\n",
       "    .dataframe tbody tr th:only-of-type {\n",
       "        vertical-align: middle;\n",
       "    }\n",
       "\n",
       "    .dataframe tbody tr th {\n",
       "        vertical-align: top;\n",
       "    }\n",
       "\n",
       "    .dataframe thead th {\n",
       "        text-align: right;\n",
       "    }\n",
       "</style>\n",
       "<table border=\"1\" class=\"dataframe\">\n",
       "  <thead>\n",
       "    <tr style=\"text-align: right;\">\n",
       "      <th></th>\n",
       "      <th>full_name</th>\n",
       "      <th>a</th>\n",
       "      <th>e</th>\n",
       "      <th>G</th>\n",
       "      <th>i</th>\n",
       "      <th>om</th>\n",
       "      <th>w</th>\n",
       "      <th>q</th>\n",
       "      <th>ad</th>\n",
       "      <th>per_y</th>\n",
       "      <th>...</th>\n",
       "      <th>rot_per</th>\n",
       "      <th>GM</th>\n",
       "      <th>BV</th>\n",
       "      <th>UB</th>\n",
       "      <th>IR</th>\n",
       "      <th>spec_B</th>\n",
       "      <th>spec_T</th>\n",
       "      <th>neo</th>\n",
       "      <th>pha</th>\n",
       "      <th>moid</th>\n",
       "    </tr>\n",
       "  </thead>\n",
       "  <tbody>\n",
       "    <tr>\n",
       "      <th>0</th>\n",
       "      <td>1 Ceres</td>\n",
       "      <td>2.769165</td>\n",
       "      <td>0.076009</td>\n",
       "      <td>0.12</td>\n",
       "      <td>10.594067</td>\n",
       "      <td>80.305532</td>\n",
       "      <td>73.597694</td>\n",
       "      <td>2.558684</td>\n",
       "      <td>2.979647</td>\n",
       "      <td>4.608202</td>\n",
       "      <td>...</td>\n",
       "      <td>9.074170</td>\n",
       "      <td>62.6284</td>\n",
       "      <td>0.713</td>\n",
       "      <td>0.426</td>\n",
       "      <td>NaN</td>\n",
       "      <td>C</td>\n",
       "      <td>G</td>\n",
       "      <td>N</td>\n",
       "      <td>N</td>\n",
       "      <td>1.594780</td>\n",
       "    </tr>\n",
       "    <tr>\n",
       "      <th>1</th>\n",
       "      <td>2 Pallas</td>\n",
       "      <td>2.772466</td>\n",
       "      <td>0.230337</td>\n",
       "      <td>0.11</td>\n",
       "      <td>34.836234</td>\n",
       "      <td>173.080063</td>\n",
       "      <td>310.048857</td>\n",
       "      <td>2.133865</td>\n",
       "      <td>3.411067</td>\n",
       "      <td>4.616444</td>\n",
       "      <td>...</td>\n",
       "      <td>7.813200</td>\n",
       "      <td>14.3000</td>\n",
       "      <td>0.635</td>\n",
       "      <td>0.284</td>\n",
       "      <td>NaN</td>\n",
       "      <td>B</td>\n",
       "      <td>B</td>\n",
       "      <td>N</td>\n",
       "      <td>N</td>\n",
       "      <td>1.233240</td>\n",
       "    </tr>\n",
       "    <tr>\n",
       "      <th>2</th>\n",
       "      <td>3 Juno</td>\n",
       "      <td>2.669150</td>\n",
       "      <td>0.256942</td>\n",
       "      <td>0.32</td>\n",
       "      <td>12.988919</td>\n",
       "      <td>169.852760</td>\n",
       "      <td>248.138626</td>\n",
       "      <td>1.983332</td>\n",
       "      <td>3.354967</td>\n",
       "      <td>4.360814</td>\n",
       "      <td>...</td>\n",
       "      <td>7.210000</td>\n",
       "      <td>NaN</td>\n",
       "      <td>0.824</td>\n",
       "      <td>0.433</td>\n",
       "      <td>NaN</td>\n",
       "      <td>Sk</td>\n",
       "      <td>S</td>\n",
       "      <td>N</td>\n",
       "      <td>N</td>\n",
       "      <td>1.034540</td>\n",
       "    </tr>\n",
       "    <tr>\n",
       "      <th>3</th>\n",
       "      <td>4 Vesta</td>\n",
       "      <td>2.361418</td>\n",
       "      <td>0.088721</td>\n",
       "      <td>0.32</td>\n",
       "      <td>7.141771</td>\n",
       "      <td>103.810804</td>\n",
       "      <td>150.728541</td>\n",
       "      <td>2.151909</td>\n",
       "      <td>2.570926</td>\n",
       "      <td>3.628837</td>\n",
       "      <td>...</td>\n",
       "      <td>5.342128</td>\n",
       "      <td>17.8000</td>\n",
       "      <td>0.782</td>\n",
       "      <td>0.492</td>\n",
       "      <td>NaN</td>\n",
       "      <td>V</td>\n",
       "      <td>V</td>\n",
       "      <td>N</td>\n",
       "      <td>N</td>\n",
       "      <td>1.139480</td>\n",
       "    </tr>\n",
       "    <tr>\n",
       "      <th>4</th>\n",
       "      <td>5 Astraea</td>\n",
       "      <td>2.574249</td>\n",
       "      <td>0.191095</td>\n",
       "      <td>NaN</td>\n",
       "      <td>5.366988</td>\n",
       "      <td>141.576604</td>\n",
       "      <td>358.687608</td>\n",
       "      <td>2.082324</td>\n",
       "      <td>3.066174</td>\n",
       "      <td>4.130323</td>\n",
       "      <td>...</td>\n",
       "      <td>16.806000</td>\n",
       "      <td>NaN</td>\n",
       "      <td>0.826</td>\n",
       "      <td>0.411</td>\n",
       "      <td>NaN</td>\n",
       "      <td>S</td>\n",
       "      <td>S</td>\n",
       "      <td>N</td>\n",
       "      <td>N</td>\n",
       "      <td>1.095890</td>\n",
       "    </tr>\n",
       "    <tr>\n",
       "      <th>...</th>\n",
       "      <td>...</td>\n",
       "      <td>...</td>\n",
       "      <td>...</td>\n",
       "      <td>...</td>\n",
       "      <td>...</td>\n",
       "      <td>...</td>\n",
       "      <td>...</td>\n",
       "      <td>...</td>\n",
       "      <td>...</td>\n",
       "      <td>...</td>\n",
       "      <td>...</td>\n",
       "      <td>...</td>\n",
       "      <td>...</td>\n",
       "      <td>...</td>\n",
       "      <td>...</td>\n",
       "      <td>...</td>\n",
       "      <td>...</td>\n",
       "      <td>...</td>\n",
       "      <td>...</td>\n",
       "      <td>...</td>\n",
       "      <td>...</td>\n",
       "    </tr>\n",
       "    <tr>\n",
       "      <th>4996</th>\n",
       "      <td>4997 Ksana (1986 TM)</td>\n",
       "      <td>2.871173</td>\n",
       "      <td>0.329960</td>\n",
       "      <td>NaN</td>\n",
       "      <td>32.732948</td>\n",
       "      <td>10.726564</td>\n",
       "      <td>57.718579</td>\n",
       "      <td>1.923802</td>\n",
       "      <td>3.818544</td>\n",
       "      <td>4.865161</td>\n",
       "      <td>...</td>\n",
       "      <td>3.434200</td>\n",
       "      <td>NaN</td>\n",
       "      <td>NaN</td>\n",
       "      <td>NaN</td>\n",
       "      <td>NaN</td>\n",
       "      <td>B</td>\n",
       "      <td>None</td>\n",
       "      <td>N</td>\n",
       "      <td>N</td>\n",
       "      <td>1.058150</td>\n",
       "    </tr>\n",
       "    <tr>\n",
       "      <th>4997</th>\n",
       "      <td>4998 Kabashima (1986 VG)</td>\n",
       "      <td>3.007439</td>\n",
       "      <td>0.073460</td>\n",
       "      <td>NaN</td>\n",
       "      <td>9.904038</td>\n",
       "      <td>352.226415</td>\n",
       "      <td>100.901739</td>\n",
       "      <td>2.786511</td>\n",
       "      <td>3.228367</td>\n",
       "      <td>5.215590</td>\n",
       "      <td>...</td>\n",
       "      <td>6.138000</td>\n",
       "      <td>NaN</td>\n",
       "      <td>NaN</td>\n",
       "      <td>NaN</td>\n",
       "      <td>NaN</td>\n",
       "      <td>None</td>\n",
       "      <td>None</td>\n",
       "      <td>N</td>\n",
       "      <td>N</td>\n",
       "      <td>1.824890</td>\n",
       "    </tr>\n",
       "    <tr>\n",
       "      <th>4998</th>\n",
       "      <td>4999 MPC (1987 CJ)</td>\n",
       "      <td>3.015442</td>\n",
       "      <td>0.040212</td>\n",
       "      <td>NaN</td>\n",
       "      <td>10.473593</td>\n",
       "      <td>155.933107</td>\n",
       "      <td>344.673442</td>\n",
       "      <td>2.894184</td>\n",
       "      <td>3.136701</td>\n",
       "      <td>5.236423</td>\n",
       "      <td>...</td>\n",
       "      <td>NaN</td>\n",
       "      <td>NaN</td>\n",
       "      <td>NaN</td>\n",
       "      <td>NaN</td>\n",
       "      <td>NaN</td>\n",
       "      <td>None</td>\n",
       "      <td>None</td>\n",
       "      <td>N</td>\n",
       "      <td>N</td>\n",
       "      <td>1.907750</td>\n",
       "    </tr>\n",
       "    <tr>\n",
       "      <th>4999</th>\n",
       "      <td>5000 IAU (1987 QN7)</td>\n",
       "      <td>2.537905</td>\n",
       "      <td>0.263911</td>\n",
       "      <td>NaN</td>\n",
       "      <td>6.265176</td>\n",
       "      <td>150.922214</td>\n",
       "      <td>232.797213</td>\n",
       "      <td>1.868123</td>\n",
       "      <td>3.207687</td>\n",
       "      <td>4.043163</td>\n",
       "      <td>...</td>\n",
       "      <td>NaN</td>\n",
       "      <td>NaN</td>\n",
       "      <td>NaN</td>\n",
       "      <td>NaN</td>\n",
       "      <td>NaN</td>\n",
       "      <td>None</td>\n",
       "      <td>None</td>\n",
       "      <td>N</td>\n",
       "      <td>N</td>\n",
       "      <td>0.878287</td>\n",
       "    </tr>\n",
       "    <tr>\n",
       "      <th>5000</th>\n",
       "      <td>5001 EMP (1987 SB1)</td>\n",
       "      <td>2.664662</td>\n",
       "      <td>0.170488</td>\n",
       "      <td>NaN</td>\n",
       "      <td>13.709129</td>\n",
       "      <td>169.905066</td>\n",
       "      <td>151.336692</td>\n",
       "      <td>2.210369</td>\n",
       "      <td>3.118955</td>\n",
       "      <td>4.349821</td>\n",
       "      <td>...</td>\n",
       "      <td>NaN</td>\n",
       "      <td>NaN</td>\n",
       "      <td>NaN</td>\n",
       "      <td>NaN</td>\n",
       "      <td>NaN</td>\n",
       "      <td>None</td>\n",
       "      <td>None</td>\n",
       "      <td>N</td>\n",
       "      <td>N</td>\n",
       "      <td>1.207720</td>\n",
       "    </tr>\n",
       "  </tbody>\n",
       "</table>\n",
       "<p>5001 rows × 27 columns</p>\n",
       "</div>"
      ],
      "text/plain": [
       "                       full_name         a         e     G          i  \\\n",
       "0                        1 Ceres  2.769165  0.076009  0.12  10.594067   \n",
       "1                       2 Pallas  2.772466  0.230337  0.11  34.836234   \n",
       "2                         3 Juno  2.669150  0.256942  0.32  12.988919   \n",
       "3                        4 Vesta  2.361418  0.088721  0.32   7.141771   \n",
       "4                      5 Astraea  2.574249  0.191095   NaN   5.366988   \n",
       "...                          ...       ...       ...   ...        ...   \n",
       "4996        4997 Ksana (1986 TM)  2.871173  0.329960   NaN  32.732948   \n",
       "4997    4998 Kabashima (1986 VG)  3.007439  0.073460   NaN   9.904038   \n",
       "4998          4999 MPC (1987 CJ)  3.015442  0.040212   NaN  10.473593   \n",
       "4999         5000 IAU (1987 QN7)  2.537905  0.263911   NaN   6.265176   \n",
       "5000         5001 EMP (1987 SB1)  2.664662  0.170488   NaN  13.709129   \n",
       "\n",
       "              om           w         q        ad     per_y  ...    rot_per  \\\n",
       "0      80.305532   73.597694  2.558684  2.979647  4.608202  ...   9.074170   \n",
       "1     173.080063  310.048857  2.133865  3.411067  4.616444  ...   7.813200   \n",
       "2     169.852760  248.138626  1.983332  3.354967  4.360814  ...   7.210000   \n",
       "3     103.810804  150.728541  2.151909  2.570926  3.628837  ...   5.342128   \n",
       "4     141.576604  358.687608  2.082324  3.066174  4.130323  ...  16.806000   \n",
       "...          ...         ...       ...       ...       ...  ...        ...   \n",
       "4996   10.726564   57.718579  1.923802  3.818544  4.865161  ...   3.434200   \n",
       "4997  352.226415  100.901739  2.786511  3.228367  5.215590  ...   6.138000   \n",
       "4998  155.933107  344.673442  2.894184  3.136701  5.236423  ...        NaN   \n",
       "4999  150.922214  232.797213  1.868123  3.207687  4.043163  ...        NaN   \n",
       "5000  169.905066  151.336692  2.210369  3.118955  4.349821  ...        NaN   \n",
       "\n",
       "           GM     BV     UB  IR spec_B  spec_T  neo  pha      moid  \n",
       "0     62.6284  0.713  0.426 NaN      C       G    N    N  1.594780  \n",
       "1     14.3000  0.635  0.284 NaN      B       B    N    N  1.233240  \n",
       "2         NaN  0.824  0.433 NaN     Sk       S    N    N  1.034540  \n",
       "3     17.8000  0.782  0.492 NaN      V       V    N    N  1.139480  \n",
       "4         NaN  0.826  0.411 NaN      S       S    N    N  1.095890  \n",
       "...       ...    ...    ...  ..    ...     ...  ...  ...       ...  \n",
       "4996      NaN    NaN    NaN NaN      B    None    N    N  1.058150  \n",
       "4997      NaN    NaN    NaN NaN   None    None    N    N  1.824890  \n",
       "4998      NaN    NaN    NaN NaN   None    None    N    N  1.907750  \n",
       "4999      NaN    NaN    NaN NaN   None    None    N    N  0.878287  \n",
       "5000      NaN    NaN    NaN NaN   None    None    N    N  1.207720  \n",
       "\n",
       "[5001 rows x 27 columns]"
      ]
     },
     "execution_count": 2,
     "metadata": {},
     "output_type": "execute_result"
    }
   ],
   "source": [
    "dataset_path = \"data/asteroid.csv\"\n",
    "df_full = pd.read_csv(dataset_path, low_memory=False)\n",
    "header = list(df_full)\n",
    "df = df_full.truncate(after=5000)\n",
    "df = df.where(df.notnull(), None)\n",
    "\n",
    "df"
   ]
  },
  {
   "attachments": {},
   "cell_type": "markdown",
   "metadata": {},
   "source": [
    "## Howso Engine infers the feature attributes\n",
    "\n",
    "We set all nominals to non_sensitive for demonstration purposes. In actual usage, these should be specified as sensitive or non_sensitive as appropriate."
   ]
  },
  {
   "cell_type": "code",
   "execution_count": 3,
   "metadata": {},
   "outputs": [
    {
     "name": "stdout",
     "output_type": "stream",
     "text": [
      "{ 'BV': { 'bounds': {'max': 2.718281828459045, 'min': 0.36787944117144233},\n",
      "          'decimal_places': 3,\n",
      "          'original_type': {'data_type': 'numeric', 'size': 8},\n",
      "          'type': 'continuous'},\n",
      "  'G': { 'bounds': {'max': 1.0, 'min': -0.1353352832366127},\n",
      "         'decimal_places': 2,\n",
      "         'original_type': {'data_type': 'numeric', 'size': 8},\n",
      "         'type': 'continuous'},\n",
      "  'GM': { 'bounds': {'max': 148.4131591025766, 'min': 0.00033546262790251185},\n",
      "          'decimal_places': 6,\n",
      "          'original_type': {'data_type': 'numeric', 'size': 8},\n",
      "          'type': 'continuous'},\n",
      "  'H': { 'bounds': {'max': 54.598150033144236, 'min': 2.718281828459045},\n",
      "         'decimal_places': 2,\n",
      "         'original_type': {'data_type': 'numeric', 'size': 8},\n",
      "         'type': 'continuous'},\n",
      "  'IR': { 'original_type': {'data_type': 'numeric', 'size': 8},\n",
      "          'type': 'continuous'},\n",
      "  'UB': { 'bounds': {'max': 1.0, 'min': 0.049787068367863944},\n",
      "          'decimal_places': 3,\n",
      "          'original_type': {'data_type': 'numeric', 'size': 8},\n",
      "          'type': 'continuous'},\n",
      "  'a': { 'bounds': {'max': 20.085536923187668, 'min': 0.36787944117144233},\n",
      "         'decimal_places': 9,\n",
      "         'original_type': {'data_type': 'numeric', 'size': 8},\n",
      "         'type': 'continuous'},\n",
      "  'ad': { 'bounds': {'max': 20.085536923187668, 'min': 1.0},\n",
      "          'decimal_places': 9,\n",
      "          'original_type': {'data_type': 'numeric', 'size': 8},\n",
      "          'type': 'continuous'},\n",
      "  'albedo': { 'bounds': {'max': 1.0, 'min': 0.006737946999085467},\n",
      "              'decimal_places': 4,\n",
      "              'original_type': {'data_type': 'numeric', 'size': 8},\n",
      "              'type': 'continuous'},\n",
      "  'condition_code': { 'bounds': {'max': 2.718281828459045, 'min': 0.0},\n",
      "                      'decimal_places': 0,\n",
      "                      'original_type': {'data_type': 'numeric', 'size': 8},\n",
      "                      'type': 'continuous'},\n",
      "  'data_arc': { 'bounds': { 'allow_null': False,\n",
      "                            'max': 162754.79141900392,\n",
      "                            'min': 2980.9579870417283},\n",
      "                'decimal_places': 0,\n",
      "                'original_type': {'data_type': 'integer', 'size': 8},\n",
      "                'type': 'continuous'},\n",
      "  'diameter': { 'non_sensitive': True,\n",
      "                'original_type': {'data_type': 'string'},\n",
      "                'type': 'nominal'},\n",
      "  'e': { 'bounds': {'max': 1.0, 'min': 0.0024787521766663585},\n",
      "         'decimal_places': 9,\n",
      "         'original_type': {'data_type': 'numeric', 'size': 8},\n",
      "         'type': 'continuous'},\n",
      "  'extent': { 'non_sensitive': True,\n",
      "              'original_type': {'data_type': 'string'},\n",
      "              'type': 'nominal'},\n",
      "  'full_name': { 'non_sensitive': True,\n",
      "                 'original_type': {'data_type': 'string'},\n",
      "                 'type': 'nominal'},\n",
      "  'i': { 'bounds': {'max': 148.4131591025766, 'min': 0.049787068367863944},\n",
      "         'decimal_places': 9,\n",
      "         'original_type': {'data_type': 'numeric', 'size': 8},\n",
      "         'type': 'continuous'},\n",
      "  'moid': { 'bounds': {'max': 20.085536923187668, 'min': 0.0024787521766663585},\n",
      "            'decimal_places': 8,\n",
      "            'original_type': {'data_type': 'numeric', 'size': 8},\n",
      "            'type': 'continuous'},\n",
      "  'n_obs_used': { 'bounds': { 'allow_null': False,\n",
      "                              'max': 22026.465794806718,\n",
      "                              'min': 20.085536923187668},\n",
      "                  'decimal_places': 0,\n",
      "                  'original_type': {'data_type': 'integer', 'size': 8},\n",
      "                  'type': 'continuous'},\n",
      "  'neo': { 'non_sensitive': True,\n",
      "           'original_type': {'data_type': 'string'},\n",
      "           'type': 'nominal'},\n",
      "  'om': { 'bounds': {'max': 403.4287934927351, 'min': 0.00033546262790251185},\n",
      "          'decimal_places': 9,\n",
      "          'original_type': {'data_type': 'numeric', 'size': 8},\n",
      "          'type': 'continuous'},\n",
      "  'per_y': { 'bounds': {'max': 54.598150033144236, 'min': 0.36787944117144233},\n",
      "             'decimal_places': 9,\n",
      "             'original_type': {'data_type': 'numeric', 'size': 8},\n",
      "             'type': 'continuous'},\n",
      "  'pha': { 'non_sensitive': True,\n",
      "           'original_type': {'data_type': 'string'},\n",
      "           'type': 'nominal'},\n",
      "  'q': { 'bounds': {'max': 20.085536923187668, 'min': 0.1353352832366127},\n",
      "         'decimal_places': 9,\n",
      "         'original_type': {'data_type': 'numeric', 'size': 8},\n",
      "         'type': 'continuous'},\n",
      "  'rot_per': { 'bounds': {'max': 2980.9579870417283, 'min': 1.0},\n",
      "               'decimal_places': 6,\n",
      "               'original_type': {'data_type': 'numeric', 'size': 8},\n",
      "               'type': 'continuous'},\n",
      "  'spec_B': { 'non_sensitive': True,\n",
      "              'original_type': {'data_type': 'string'},\n",
      "              'type': 'nominal'},\n",
      "  'spec_T': { 'non_sensitive': True,\n",
      "              'original_type': {'data_type': 'string'},\n",
      "              'type': 'nominal'},\n",
      "  'w': { 'bounds': {'max': 403.4287934927351, 'min': 0.006737946999085467},\n",
      "         'decimal_places': 9,\n",
      "         'original_type': {'data_type': 'numeric', 'size': 8},\n",
      "         'type': 'continuous'}}\n"
     ]
    }
   ],
   "source": [
    "features = infer_feature_attributes(df)\n",
    "for f_name, f_value in features.items():\n",
    "    if f_value['type'] in [\"nominal\", \"ordinal\"]:\n",
    "        f_value['non_sensitive'] = True\n",
    "\n",
    "pprint(features, indent=2)"
   ]
  },
  {
   "attachments": {},
   "cell_type": "markdown",
   "metadata": {},
   "source": [
    "# Step 2: Create and Train a Trainee\n",
    "\n",
    "The Trainee interface makes training, analyzing, and reacting easy and fast."
   ]
  },
  {
   "cell_type": "code",
   "execution_count": 4,
   "metadata": {},
   "outputs": [],
   "source": [
    "action_feature = ['moid']\n",
    "context_features = features.get_names(without=['moid'])\n",
    "\n",
    "trainee = Trainee(name='Engine - Interpretable Predictions Recipe', features=features, overwrite_existing=True)\n",
    "\n",
    "trainee.train(df)\n",
    "\n",
    "# analyze the model\n",
    "trainee.analyze()"
   ]
  },
  {
   "attachments": {},
   "cell_type": "markdown",
   "metadata": {},
   "source": [
    "# Step 3: React\n",
    "\n",
    "## First, we'll select one case to react to for demonstration purposes. \n",
    "\n",
    "This case is selected from the cases which were **_not_** trained, so the model does not know about this case in particular."
   ]
  },
  {
   "cell_type": "code",
   "execution_count": 5,
   "metadata": {},
   "outputs": [],
   "source": [
    "predict_index = 200001\n",
    "\n",
    "df_full = df_full.astype(object)\n",
    "df_full = df_full.where(df_full.notnull(), None) # convert NaN to None\n",
    "case = df_full[predict_index:predict_index+1].iloc[0]  # grab a case that wasn't trained\n",
    "context_values = case.iloc[0:26].tolist()\n",
    "action_value = case.iloc[26]"
   ]
  },
  {
   "cell_type": "code",
   "execution_count": 6,
   "metadata": {},
   "outputs": [
    {
     "data": {
      "text/html": [
       "<div>\n",
       "<style scoped>\n",
       "    .dataframe tbody tr th:only-of-type {\n",
       "        vertical-align: middle;\n",
       "    }\n",
       "\n",
       "    .dataframe tbody tr th {\n",
       "        vertical-align: top;\n",
       "    }\n",
       "\n",
       "    .dataframe thead th {\n",
       "        text-align: right;\n",
       "    }\n",
       "</style>\n",
       "<table border=\"1\" class=\"dataframe\">\n",
       "  <thead>\n",
       "    <tr style=\"text-align: right;\">\n",
       "      <th></th>\n",
       "      <th>full_name</th>\n",
       "      <th>a</th>\n",
       "      <th>e</th>\n",
       "      <th>G</th>\n",
       "      <th>i</th>\n",
       "      <th>om</th>\n",
       "      <th>w</th>\n",
       "      <th>q</th>\n",
       "      <th>ad</th>\n",
       "      <th>per_y</th>\n",
       "      <th>...</th>\n",
       "      <th>rot_per</th>\n",
       "      <th>GM</th>\n",
       "      <th>BV</th>\n",
       "      <th>UB</th>\n",
       "      <th>IR</th>\n",
       "      <th>spec_B</th>\n",
       "      <th>spec_T</th>\n",
       "      <th>neo</th>\n",
       "      <th>pha</th>\n",
       "      <th>moid</th>\n",
       "    </tr>\n",
       "  </thead>\n",
       "  <tbody>\n",
       "    <tr>\n",
       "      <th>200001</th>\n",
       "      <td>200002 Hehe (2007 JZ43)</td>\n",
       "      <td>2.409757</td>\n",
       "      <td>0.158912</td>\n",
       "      <td>None</td>\n",
       "      <td>6.959368</td>\n",
       "      <td>116.592076</td>\n",
       "      <td>198.714295</td>\n",
       "      <td>2.026818</td>\n",
       "      <td>2.792696</td>\n",
       "      <td>3.740831</td>\n",
       "      <td>...</td>\n",
       "      <td>None</td>\n",
       "      <td>None</td>\n",
       "      <td>None</td>\n",
       "      <td>None</td>\n",
       "      <td>None</td>\n",
       "      <td>None</td>\n",
       "      <td>None</td>\n",
       "      <td>N</td>\n",
       "      <td>N</td>\n",
       "      <td>1.01338</td>\n",
       "    </tr>\n",
       "  </tbody>\n",
       "</table>\n",
       "<p>1 rows × 27 columns</p>\n",
       "</div>"
      ],
      "text/plain": [
       "                      full_name         a         e     G         i  \\\n",
       "200001  200002 Hehe (2007 JZ43)  2.409757  0.158912  None  6.959368   \n",
       "\n",
       "                om           w         q        ad     per_y  ... rot_per  \\\n",
       "200001  116.592076  198.714295  2.026818  2.792696  3.740831  ...    None   \n",
       "\n",
       "          GM    BV    UB    IR spec_B spec_T neo pha     moid  \n",
       "200001  None  None  None  None   None   None   N   N  1.01338  \n",
       "\n",
       "[1 rows x 27 columns]"
      ]
     },
     "execution_count": 6,
     "metadata": {},
     "output_type": "execute_result"
    }
   ],
   "source": [
    "df_full[predict_index:predict_index+1]"
   ]
  },
  {
   "attachments": {},
   "cell_type": "markdown",
   "metadata": {},
   "source": [
    "## Next, we react.\n",
    "\n",
    "When we call react, we include a request for certain **details**. Namely, **influential cases**. This will retrieve all of the cases which influenced the prediction and return them in addition to the prediction itself. These can be used to interpret the prediction."
   ]
  },
  {
   "cell_type": "code",
   "execution_count": 7,
   "metadata": {
    "tags": []
   },
   "outputs": [
    {
     "name": "stdout",
     "output_type": "stream",
     "text": [
      "Predicted action feature:\n"
     ]
    },
    {
     "data": {
      "text/html": [
       "<div>\n",
       "<style scoped>\n",
       "    .dataframe tbody tr th:only-of-type {\n",
       "        vertical-align: middle;\n",
       "    }\n",
       "\n",
       "    .dataframe tbody tr th {\n",
       "        vertical-align: top;\n",
       "    }\n",
       "\n",
       "    .dataframe thead th {\n",
       "        text-align: right;\n",
       "    }\n",
       "</style>\n",
       "<table border=\"1\" class=\"dataframe\">\n",
       "  <thead>\n",
       "    <tr style=\"text-align: right;\">\n",
       "      <th></th>\n",
       "      <th>moid</th>\n",
       "    </tr>\n",
       "  </thead>\n",
       "  <tbody>\n",
       "    <tr>\n",
       "      <th>0</th>\n",
       "      <td>0.993369</td>\n",
       "    </tr>\n",
       "  </tbody>\n",
       "</table>\n",
       "</div>"
      ],
      "text/plain": [
       "       moid\n",
       "0  0.993369"
      ]
     },
     "metadata": {},
     "output_type": "display_data"
    },
    {
     "name": "stdout",
     "output_type": "stream",
     "text": [
      "Computed explanation: \n"
     ]
    },
    {
     "data": {
      "text/plain": [
       "{'action_features': ['moid'],\n",
       " 'influential_cases': [[{'full_name': '  3529 Dowling (1981 EQ19)',\n",
       "    'BV': None,\n",
       "    'diameter': '6.088',\n",
       "    'UB': None,\n",
       "    'H': 14.7,\n",
       "    'GM': None,\n",
       "    '.session': '79500e9b-d28b-46f3-96d6-3e3d91d94e08',\n",
       "    'neo': 'N',\n",
       "    'rot_per': None,\n",
       "    'spec_T': None,\n",
       "    '.session_training_index': 3528,\n",
       "    'om': 193.9652682,\n",
       "    '.influence_weight': 0.07808404231216279,\n",
       "    'e': 0.183168802,\n",
       "    'G': None,\n",
       "    'per_y': 3.677629078,\n",
       "    'spec_B': None,\n",
       "    'moid': 0.947403,\n",
       "    'ad': 2.818944493,\n",
       "    'a': 2.382537884,\n",
       "    'IR': None,\n",
       "    'pha': 'N',\n",
       "    'q': 1.946131274,\n",
       "    'n_obs_used': 1166,\n",
       "    'w': 184.6803071,\n",
       "    'data_arc': 24066,\n",
       "    'condition_code': 0,\n",
       "    'albedo': 0.12,\n",
       "    'extent': None,\n",
       "    'i': 2.762782159},\n",
       "   {'full_name': '  3135 Lauer (1981 EC9)',\n",
       "    'BV': None,\n",
       "    'diameter': None,\n",
       "    'UB': None,\n",
       "    'H': 13.8,\n",
       "    'GM': None,\n",
       "    '.session': '79500e9b-d28b-46f3-96d6-3e3d91d94e08',\n",
       "    'neo': 'N',\n",
       "    'rot_per': None,\n",
       "    'spec_T': None,\n",
       "    '.session_training_index': 3134,\n",
       "    'om': 304.9144217,\n",
       "    '.influence_weight': 0.07779987916976341,\n",
       "    'e': 0.139376529,\n",
       "    'G': None,\n",
       "    'per_y': 3.765417261,\n",
       "    'spec_B': None,\n",
       "    'moid': 1.10398,\n",
       "    'ad': 2.757637693,\n",
       "    'a': 2.420304108,\n",
       "    'IR': None,\n",
       "    'pha': 'N',\n",
       "    'q': 2.082970523,\n",
       "    'n_obs_used': 1456,\n",
       "    'w': 118.4656864,\n",
       "    'data_arc': 14915,\n",
       "    'condition_code': 0,\n",
       "    'albedo': None,\n",
       "    'extent': None,\n",
       "    'i': 5.980839309},\n",
       "   {'full_name': '  3984 Chacos (1984 SB6)',\n",
       "    'BV': None,\n",
       "    'diameter': '7.569',\n",
       "    'UB': None,\n",
       "    'H': 14.4,\n",
       "    'GM': None,\n",
       "    '.session': '79500e9b-d28b-46f3-96d6-3e3d91d94e08',\n",
       "    'neo': 'N',\n",
       "    'rot_per': None,\n",
       "    'spec_T': None,\n",
       "    '.session_training_index': 3983,\n",
       "    'om': 99.99372391,\n",
       "    '.influence_weight': 0.07773792584383696,\n",
       "    'e': 0.18147581,\n",
       "    'G': None,\n",
       "    'per_y': 3.802929223,\n",
       "    'spec_B': None,\n",
       "    'moid': 0.993601,\n",
       "    'ad': 2.878490903,\n",
       "    'a': 2.436351957,\n",
       "    'IR': None,\n",
       "    'pha': 'N',\n",
       "    'q': 1.994213011,\n",
       "    'n_obs_used': 1525,\n",
       "    'w': 263.5696408,\n",
       "    'data_arc': 17975,\n",
       "    'condition_code': 0,\n",
       "    'albedo': 0.05,\n",
       "    'extent': None,\n",
       "    'i': 2.938196995},\n",
       "   {'full_name': '  4270 Juanvictoria (1975 TJ6)',\n",
       "    'BV': None,\n",
       "    'diameter': '8.264',\n",
       "    'UB': None,\n",
       "    'H': 14.1,\n",
       "    'GM': None,\n",
       "    '.session': '79500e9b-d28b-46f3-96d6-3e3d91d94e08',\n",
       "    'neo': 'N',\n",
       "    'rot_per': None,\n",
       "    'spec_T': None,\n",
       "    '.session_training_index': 4269,\n",
       "    'om': 125.460349,\n",
       "    '.influence_weight': 0.0773572702099171,\n",
       "    'e': 0.183351018,\n",
       "    'G': None,\n",
       "    'per_y': 3.640483562,\n",
       "    'spec_B': None,\n",
       "    'moid': 0.963916,\n",
       "    'ad': 2.800361964,\n",
       "    'a': 2.366467702,\n",
       "    'IR': None,\n",
       "    'pha': 'N',\n",
       "    'q': 1.93257344,\n",
       "    'n_obs_used': 1303,\n",
       "    'w': 321.1581146,\n",
       "    'data_arc': 15651,\n",
       "    'condition_code': 0,\n",
       "    'albedo': 0.058,\n",
       "    'extent': None,\n",
       "    'i': 12.15801335},\n",
       "   {'full_name': '  4549 Burkhardt (1276 T-2)',\n",
       "    'BV': None,\n",
       "    'diameter': None,\n",
       "    'UB': None,\n",
       "    'H': 14.2,\n",
       "    'GM': None,\n",
       "    '.session': '79500e9b-d28b-46f3-96d6-3e3d91d94e08',\n",
       "    'neo': 'N',\n",
       "    'rot_per': None,\n",
       "    'spec_T': None,\n",
       "    '.session_training_index': 4548,\n",
       "    'om': 32.53274938,\n",
       "    '.influence_weight': 0.07727089231280465,\n",
       "    'e': 0.154852501,\n",
       "    'G': None,\n",
       "    'per_y': 3.802088076,\n",
       "    'spec_B': None,\n",
       "    'moid': 1.07626,\n",
       "    'ad': 2.813212249,\n",
       "    'a': 2.435992689,\n",
       "    'IR': None,\n",
       "    'pha': 'N',\n",
       "    'q': 2.05877313,\n",
       "    'n_obs_used': 1374,\n",
       "    'w': 52.20939042,\n",
       "    'data_arc': 23750,\n",
       "    'condition_code': 0,\n",
       "    'albedo': None,\n",
       "    'extent': None,\n",
       "    'i': 2.82800126},\n",
       "   {'full_name': '  4579 Puccini (1989 AT6)',\n",
       "    'BV': None,\n",
       "    'diameter': None,\n",
       "    'UB': None,\n",
       "    'H': 13.8,\n",
       "    'GM': None,\n",
       "    '.session': '79500e9b-d28b-46f3-96d6-3e3d91d94e08',\n",
       "    'neo': 'N',\n",
       "    'rot_per': None,\n",
       "    'spec_T': None,\n",
       "    '.session_training_index': 4578,\n",
       "    'om': 111.4133909,\n",
       "    '.influence_weight': 0.07721740140916233,\n",
       "    'e': 0.15333752,\n",
       "    'G': None,\n",
       "    'per_y': 3.716004457,\n",
       "    'spec_B': None,\n",
       "    'moid': 1.01725,\n",
       "    'ad': 2.766952921,\n",
       "    'a': 2.39908342,\n",
       "    'IR': None,\n",
       "    'pha': 'N',\n",
       "    'q': 2.031213919,\n",
       "    'n_obs_used': 2229,\n",
       "    'w': 139.8868548,\n",
       "    'data_arc': 15040,\n",
       "    'condition_code': 0,\n",
       "    'albedo': None,\n",
       "    'extent': None,\n",
       "    'i': 2.213643473},\n",
       "   {'full_name': '  4444 Escher (1985 SA)',\n",
       "    'BV': None,\n",
       "    'diameter': None,\n",
       "    'UB': None,\n",
       "    'H': 13.7,\n",
       "    'GM': None,\n",
       "    '.session': '79500e9b-d28b-46f3-96d6-3e3d91d94e08',\n",
       "    'neo': 'N',\n",
       "    'rot_per': None,\n",
       "    'spec_T': None,\n",
       "    '.session_training_index': 4443,\n",
       "    'om': 121.2566487,\n",
       "    '.influence_weight': 0.07696247257929996,\n",
       "    'e': 0.135256466,\n",
       "    'G': None,\n",
       "    'per_y': 3.541706878,\n",
       "    'spec_B': None,\n",
       "    'moid': 0.993099,\n",
       "    'ad': 2.637729516,\n",
       "    'a': 2.32346575,\n",
       "    'IR': None,\n",
       "    'pha': 'N',\n",
       "    'q': 2.009201985,\n",
       "    'n_obs_used': 2124,\n",
       "    'w': 181.9089102,\n",
       "    'data_arc': 12336,\n",
       "    'condition_code': 0,\n",
       "    'albedo': None,\n",
       "    'extent': None,\n",
       "    'i': 7.39179449},\n",
       "   {'full_name': '  4480 Nikitibotania (1985 QM4)',\n",
       "    'BV': None,\n",
       "    'diameter': '9.329',\n",
       "    'UB': None,\n",
       "    'H': 14,\n",
       "    'GM': None,\n",
       "    '.session': '79500e9b-d28b-46f3-96d6-3e3d91d94e08',\n",
       "    'neo': 'N',\n",
       "    'rot_per': None,\n",
       "    'spec_T': None,\n",
       "    '.session_training_index': 4479,\n",
       "    'om': 50.31458215,\n",
       "    '.influence_weight': 0.07684948589624767,\n",
       "    'e': 0.16727836,\n",
       "    'G': None,\n",
       "    'per_y': 3.792775173,\n",
       "    'spec_B': None,\n",
       "    'moid': 1.03308,\n",
       "    'ad': 2.838836405,\n",
       "    'a': 2.432013221,\n",
       "    'IR': None,\n",
       "    'pha': 'N',\n",
       "    'q': 2.025190037,\n",
       "    'n_obs_used': 1599,\n",
       "    'w': 351.0376299,\n",
       "    'data_arc': 16366,\n",
       "    'condition_code': 0,\n",
       "    'albedo': 0.068,\n",
       "    'extent': None,\n",
       "    'i': 3.393788898},\n",
       "   {'full_name': '  3081 Martinuboh (1971 UP)',\n",
       "    'BV': None,\n",
       "    'diameter': None,\n",
       "    'UB': None,\n",
       "    'H': 13.7,\n",
       "    'GM': None,\n",
       "    '.session': '79500e9b-d28b-46f3-96d6-3e3d91d94e08',\n",
       "    'neo': 'N',\n",
       "    'rot_per': None,\n",
       "    'spec_T': None,\n",
       "    '.session_training_index': 3080,\n",
       "    'om': 43.78298038,\n",
       "    '.influence_weight': 0.07639056422357487,\n",
       "    'e': 0.183327742,\n",
       "    'G': None,\n",
       "    'per_y': 3.7444083,\n",
       "    'spec_B': None,\n",
       "    'moid': 0.964725,\n",
       "    'ad': 2.853349983,\n",
       "    'a': 2.41129307,\n",
       "    'IR': None,\n",
       "    'pha': 'N',\n",
       "    'q': 1.969236157,\n",
       "    'n_obs_used': 1695,\n",
       "    'w': 279.5198666,\n",
       "    'data_arc': 24446,\n",
       "    'condition_code': 0,\n",
       "    'albedo': None,\n",
       "    'extent': None,\n",
       "    'i': 5.286151726},\n",
       "   {'full_name': '  4476 Bernstein (1983 DE)',\n",
       "    'BV': None,\n",
       "    'diameter': None,\n",
       "    'UB': None,\n",
       "    'H': 14,\n",
       "    'GM': None,\n",
       "    '.session': '79500e9b-d28b-46f3-96d6-3e3d91d94e08',\n",
       "    'neo': 'N',\n",
       "    'rot_per': None,\n",
       "    'spec_T': None,\n",
       "    '.session_training_index': 4475,\n",
       "    'om': 94.7967901,\n",
       "    '.influence_weight': 0.07629637467695778,\n",
       "    'e': 0.191499429,\n",
       "    'G': None,\n",
       "    'per_y': 3.682412547,\n",
       "    'spec_B': None,\n",
       "    'moid': 0.943815,\n",
       "    'ad': 2.841253595,\n",
       "    'a': 2.384603404,\n",
       "    'IR': None,\n",
       "    'pha': 'N',\n",
       "    'q': 1.927953213,\n",
       "    'n_obs_used': 1897,\n",
       "    'w': 345.2767183,\n",
       "    'data_arc': 14653,\n",
       "    'condition_code': 0,\n",
       "    'albedo': None,\n",
       "    'extent': None,\n",
       "    'i': 3.369927304},\n",
       "   {'full_name': '  4432 McGraw-Hill (1981 ER22)',\n",
       "    'BV': None,\n",
       "    'diameter': '3.042',\n",
       "    'UB': None,\n",
       "    'H': 14.5,\n",
       "    'GM': None,\n",
       "    '.session': '79500e9b-d28b-46f3-96d6-3e3d91d94e08',\n",
       "    'neo': 'N',\n",
       "    'rot_per': None,\n",
       "    'spec_T': None,\n",
       "    '.session_training_index': 4431,\n",
       "    'om': 115.2369359,\n",
       "    '.influence_weight': 0.07611273034039996,\n",
       "    'e': 0.213309849,\n",
       "    'G': None,\n",
       "    'per_y': 3.687982692,\n",
       "    'spec_B': None,\n",
       "    'moid': 0.874123,\n",
       "    'ad': 2.896179693,\n",
       "    'a': 2.387007487,\n",
       "    'IR': None,\n",
       "    'pha': 'N',\n",
       "    'q': 1.877835281,\n",
       "    'n_obs_used': 1432,\n",
       "    'w': 246.2027284,\n",
       "    'data_arc': 20053,\n",
       "    'condition_code': 0,\n",
       "    'albedo': 0.254,\n",
       "    'extent': None,\n",
       "    'i': 0.461392972},\n",
       "   {'full_name': '  4815 Anders (1981 EA28)',\n",
       "    'BV': None,\n",
       "    'diameter': '4.172',\n",
       "    'UB': None,\n",
       "    'H': 13.8,\n",
       "    'GM': None,\n",
       "    '.session': '79500e9b-d28b-46f3-96d6-3e3d91d94e08',\n",
       "    'neo': 'N',\n",
       "    'rot_per': None,\n",
       "    'spec_T': None,\n",
       "    '.session_training_index': 4814,\n",
       "    'om': 7.174304415,\n",
       "    '.influence_weight': 0.07596367823862861,\n",
       "    'e': 0.135290503,\n",
       "    'G': None,\n",
       "    'per_y': 3.624904214,\n",
       "    'spec_B': None,\n",
       "    'moid': 1.03733,\n",
       "    'ad': 2.678957928,\n",
       "    'a': 2.359711388,\n",
       "    'IR': None,\n",
       "    'pha': 'N',\n",
       "    'q': 2.040464848,\n",
       "    'n_obs_used': 1594,\n",
       "    'w': 355.921444,\n",
       "    'data_arc': 14553,\n",
       "    'condition_code': 0,\n",
       "    'albedo': 0.336,\n",
       "    'extent': None,\n",
       "    'i': 7.553187687},\n",
       "   {'full_name': '  3891 Werner (1981 EY31)',\n",
       "    'BV': None,\n",
       "    'diameter': '3.203',\n",
       "    'UB': None,\n",
       "    'H': 14.4,\n",
       "    'GM': None,\n",
       "    '.session': '79500e9b-d28b-46f3-96d6-3e3d91d94e08',\n",
       "    'neo': 'N',\n",
       "    'rot_per': None,\n",
       "    'spec_T': None,\n",
       "    '.session_training_index': 3890,\n",
       "    'om': 269.4305031,\n",
       "    '.influence_weight': 0.07595728278724394,\n",
       "    'e': 0.177943746,\n",
       "    'G': None,\n",
       "    'per_y': 3.732069328,\n",
       "    'spec_B': None,\n",
       "    'moid': 0.962686,\n",
       "    'ad': 2.834124238,\n",
       "    'a': 2.405992857,\n",
       "    'IR': None,\n",
       "    'pha': 'N',\n",
       "    'q': 1.977861476,\n",
       "    'n_obs_used': 1578,\n",
       "    'w': 346.6873841,\n",
       "    'data_arc': 16523,\n",
       "    'condition_code': 0,\n",
       "    'albedo': 0.328,\n",
       "    'extent': None,\n",
       "    'i': 1.59910877}]],\n",
       " 'context_values': [['200002 Hehe (2007 JZ43)',\n",
       "   2.409756829,\n",
       "   0.158911829,\n",
       "   None,\n",
       "   6.959367932,\n",
       "   116.5920755,\n",
       "   198.7142948,\n",
       "   2.026817963,\n",
       "   2.792695694,\n",
       "   3.740830511,\n",
       "   6472,\n",
       "   0,\n",
       "   226,\n",
       "   16.7,\n",
       "   None,\n",
       "   None,\n",
       "   None,\n",
       "   None,\n",
       "   None,\n",
       "   None,\n",
       "   None,\n",
       "   None,\n",
       "   None,\n",
       "   None,\n",
       "   'N',\n",
       "   'N']]}"
      ]
     },
     "metadata": {},
     "output_type": "display_data"
    }
   ],
   "source": [
    "react = trainee.react(context_features=context_features,\n",
    "                      action_features=action_feature,\n",
    "                      contexts=[context_values],\n",
    "                      details = {\n",
    "                          'influential_cases': True\n",
    "                      })\n",
    "\n",
    "print('Predicted action feature:')\n",
    "display(react['action'])\n",
    "\n",
    "print('Computed explanation: ')\n",
    "display(react['explanation'])"
   ]
  },
  {
   "attachments": {},
   "cell_type": "markdown",
   "metadata": {},
   "source": [
    "## The predicted case and the influential cases can be viewed side-by-side."
   ]
  },
  {
   "cell_type": "code",
   "execution_count": 8,
   "metadata": {},
   "outputs": [
    {
     "data": {
      "text/html": [
       "<div>\n",
       "<style scoped>\n",
       "    .dataframe tbody tr th:only-of-type {\n",
       "        vertical-align: middle;\n",
       "    }\n",
       "\n",
       "    .dataframe tbody tr th {\n",
       "        vertical-align: top;\n",
       "    }\n",
       "\n",
       "    .dataframe thead th {\n",
       "        text-align: right;\n",
       "    }\n",
       "</style>\n",
       "<table border=\"1\" class=\"dataframe\">\n",
       "  <thead>\n",
       "    <tr style=\"text-align: right;\">\n",
       "      <th></th>\n",
       "      <th>full_name</th>\n",
       "      <th>a</th>\n",
       "      <th>e</th>\n",
       "      <th>G</th>\n",
       "      <th>i</th>\n",
       "      <th>om</th>\n",
       "      <th>w</th>\n",
       "      <th>q</th>\n",
       "      <th>ad</th>\n",
       "      <th>per_y</th>\n",
       "      <th>data_arc</th>\n",
       "      <th>condition_code</th>\n",
       "      <th>n_obs_used</th>\n",
       "      <th>H</th>\n",
       "      <th>diameter</th>\n",
       "      <th>extent</th>\n",
       "      <th>albedo</th>\n",
       "      <th>rot_per</th>\n",
       "      <th>GM</th>\n",
       "      <th>BV</th>\n",
       "      <th>UB</th>\n",
       "      <th>IR</th>\n",
       "      <th>spec_B</th>\n",
       "      <th>spec_T</th>\n",
       "      <th>neo</th>\n",
       "      <th>pha</th>\n",
       "      <th>moid</th>\n",
       "    </tr>\n",
       "  </thead>\n",
       "  <tbody>\n",
       "    <tr>\n",
       "      <th>200001</th>\n",
       "      <td>200002 Hehe (2007 JZ43)</td>\n",
       "      <td>2.409757</td>\n",
       "      <td>0.158912</td>\n",
       "      <td>None</td>\n",
       "      <td>6.959368</td>\n",
       "      <td>116.592076</td>\n",
       "      <td>198.714295</td>\n",
       "      <td>2.026818</td>\n",
       "      <td>2.792696</td>\n",
       "      <td>3.740831</td>\n",
       "      <td>6472</td>\n",
       "      <td>0.0</td>\n",
       "      <td>226</td>\n",
       "      <td>16.7</td>\n",
       "      <td>None</td>\n",
       "      <td>None</td>\n",
       "      <td>None</td>\n",
       "      <td>None</td>\n",
       "      <td>None</td>\n",
       "      <td>None</td>\n",
       "      <td>None</td>\n",
       "      <td>None</td>\n",
       "      <td>None</td>\n",
       "      <td>None</td>\n",
       "      <td>N</td>\n",
       "      <td>N</td>\n",
       "      <td>1.01338</td>\n",
       "    </tr>\n",
       "  </tbody>\n",
       "</table>\n",
       "</div>"
      ],
      "text/plain": [
       "                      full_name         a         e     G         i  \\\n",
       "200001  200002 Hehe (2007 JZ43)  2.409757  0.158912  None  6.959368   \n",
       "\n",
       "                om           w         q        ad     per_y data_arc  \\\n",
       "200001  116.592076  198.714295  2.026818  2.792696  3.740831     6472   \n",
       "\n",
       "       condition_code n_obs_used     H diameter extent albedo rot_per    GM  \\\n",
       "200001            0.0        226  16.7     None   None   None    None  None   \n",
       "\n",
       "          BV    UB    IR spec_B spec_T neo pha     moid  \n",
       "200001  None  None  None   None   None   N   N  1.01338  "
      ]
     },
     "metadata": {},
     "output_type": "display_data"
    },
    {
     "data": {
      "text/html": [
       "<div>\n",
       "<style scoped>\n",
       "    .dataframe tbody tr th:only-of-type {\n",
       "        vertical-align: middle;\n",
       "    }\n",
       "\n",
       "    .dataframe tbody tr th {\n",
       "        vertical-align: top;\n",
       "    }\n",
       "\n",
       "    .dataframe thead th {\n",
       "        text-align: right;\n",
       "    }\n",
       "</style>\n",
       "<table border=\"1\" class=\"dataframe\">\n",
       "  <thead>\n",
       "    <tr style=\"text-align: right;\">\n",
       "      <th></th>\n",
       "      <th>full_name</th>\n",
       "      <th>a</th>\n",
       "      <th>e</th>\n",
       "      <th>G</th>\n",
       "      <th>i</th>\n",
       "      <th>om</th>\n",
       "      <th>w</th>\n",
       "      <th>q</th>\n",
       "      <th>ad</th>\n",
       "      <th>per_y</th>\n",
       "      <th>data_arc</th>\n",
       "      <th>condition_code</th>\n",
       "      <th>n_obs_used</th>\n",
       "      <th>H</th>\n",
       "      <th>diameter</th>\n",
       "      <th>extent</th>\n",
       "      <th>albedo</th>\n",
       "      <th>rot_per</th>\n",
       "      <th>GM</th>\n",
       "      <th>BV</th>\n",
       "      <th>UB</th>\n",
       "      <th>IR</th>\n",
       "      <th>spec_B</th>\n",
       "      <th>spec_T</th>\n",
       "      <th>neo</th>\n",
       "      <th>pha</th>\n",
       "      <th>moid</th>\n",
       "    </tr>\n",
       "  </thead>\n",
       "  <tbody>\n",
       "    <tr>\n",
       "      <th>0</th>\n",
       "      <td>3529 Dowling (1981 EQ19)</td>\n",
       "      <td>2.382538</td>\n",
       "      <td>0.183169</td>\n",
       "      <td>None</td>\n",
       "      <td>2.762782</td>\n",
       "      <td>193.965268</td>\n",
       "      <td>184.680307</td>\n",
       "      <td>1.946131</td>\n",
       "      <td>2.818944</td>\n",
       "      <td>3.677629</td>\n",
       "      <td>24066</td>\n",
       "      <td>0</td>\n",
       "      <td>1166</td>\n",
       "      <td>14.7</td>\n",
       "      <td>6.088</td>\n",
       "      <td>None</td>\n",
       "      <td>0.120</td>\n",
       "      <td>None</td>\n",
       "      <td>None</td>\n",
       "      <td>None</td>\n",
       "      <td>None</td>\n",
       "      <td>None</td>\n",
       "      <td>None</td>\n",
       "      <td>None</td>\n",
       "      <td>N</td>\n",
       "      <td>N</td>\n",
       "      <td>0.947403</td>\n",
       "    </tr>\n",
       "    <tr>\n",
       "      <th>1</th>\n",
       "      <td>3135 Lauer (1981 EC9)</td>\n",
       "      <td>2.420304</td>\n",
       "      <td>0.139377</td>\n",
       "      <td>None</td>\n",
       "      <td>5.980839</td>\n",
       "      <td>304.914422</td>\n",
       "      <td>118.465686</td>\n",
       "      <td>2.082971</td>\n",
       "      <td>2.757638</td>\n",
       "      <td>3.765417</td>\n",
       "      <td>14915</td>\n",
       "      <td>0</td>\n",
       "      <td>1456</td>\n",
       "      <td>13.8</td>\n",
       "      <td>None</td>\n",
       "      <td>None</td>\n",
       "      <td>NaN</td>\n",
       "      <td>None</td>\n",
       "      <td>None</td>\n",
       "      <td>None</td>\n",
       "      <td>None</td>\n",
       "      <td>None</td>\n",
       "      <td>None</td>\n",
       "      <td>None</td>\n",
       "      <td>N</td>\n",
       "      <td>N</td>\n",
       "      <td>1.103980</td>\n",
       "    </tr>\n",
       "    <tr>\n",
       "      <th>2</th>\n",
       "      <td>3984 Chacos (1984 SB6)</td>\n",
       "      <td>2.436352</td>\n",
       "      <td>0.181476</td>\n",
       "      <td>None</td>\n",
       "      <td>2.938197</td>\n",
       "      <td>99.993724</td>\n",
       "      <td>263.569641</td>\n",
       "      <td>1.994213</td>\n",
       "      <td>2.878491</td>\n",
       "      <td>3.802929</td>\n",
       "      <td>17975</td>\n",
       "      <td>0</td>\n",
       "      <td>1525</td>\n",
       "      <td>14.4</td>\n",
       "      <td>7.569</td>\n",
       "      <td>None</td>\n",
       "      <td>0.050</td>\n",
       "      <td>None</td>\n",
       "      <td>None</td>\n",
       "      <td>None</td>\n",
       "      <td>None</td>\n",
       "      <td>None</td>\n",
       "      <td>None</td>\n",
       "      <td>None</td>\n",
       "      <td>N</td>\n",
       "      <td>N</td>\n",
       "      <td>0.993601</td>\n",
       "    </tr>\n",
       "    <tr>\n",
       "      <th>3</th>\n",
       "      <td>4270 Juanvictoria (1975 TJ6)</td>\n",
       "      <td>2.366468</td>\n",
       "      <td>0.183351</td>\n",
       "      <td>None</td>\n",
       "      <td>12.158013</td>\n",
       "      <td>125.460349</td>\n",
       "      <td>321.158115</td>\n",
       "      <td>1.932573</td>\n",
       "      <td>2.800362</td>\n",
       "      <td>3.640484</td>\n",
       "      <td>15651</td>\n",
       "      <td>0</td>\n",
       "      <td>1303</td>\n",
       "      <td>14.1</td>\n",
       "      <td>8.264</td>\n",
       "      <td>None</td>\n",
       "      <td>0.058</td>\n",
       "      <td>None</td>\n",
       "      <td>None</td>\n",
       "      <td>None</td>\n",
       "      <td>None</td>\n",
       "      <td>None</td>\n",
       "      <td>None</td>\n",
       "      <td>None</td>\n",
       "      <td>N</td>\n",
       "      <td>N</td>\n",
       "      <td>0.963916</td>\n",
       "    </tr>\n",
       "    <tr>\n",
       "      <th>4</th>\n",
       "      <td>4549 Burkhardt (1276 T-2)</td>\n",
       "      <td>2.435993</td>\n",
       "      <td>0.154853</td>\n",
       "      <td>None</td>\n",
       "      <td>2.828001</td>\n",
       "      <td>32.532749</td>\n",
       "      <td>52.209390</td>\n",
       "      <td>2.058773</td>\n",
       "      <td>2.813212</td>\n",
       "      <td>3.802088</td>\n",
       "      <td>23750</td>\n",
       "      <td>0</td>\n",
       "      <td>1374</td>\n",
       "      <td>14.2</td>\n",
       "      <td>None</td>\n",
       "      <td>None</td>\n",
       "      <td>NaN</td>\n",
       "      <td>None</td>\n",
       "      <td>None</td>\n",
       "      <td>None</td>\n",
       "      <td>None</td>\n",
       "      <td>None</td>\n",
       "      <td>None</td>\n",
       "      <td>None</td>\n",
       "      <td>N</td>\n",
       "      <td>N</td>\n",
       "      <td>1.076260</td>\n",
       "    </tr>\n",
       "    <tr>\n",
       "      <th>5</th>\n",
       "      <td>4579 Puccini (1989 AT6)</td>\n",
       "      <td>2.399083</td>\n",
       "      <td>0.153338</td>\n",
       "      <td>None</td>\n",
       "      <td>2.213643</td>\n",
       "      <td>111.413391</td>\n",
       "      <td>139.886855</td>\n",
       "      <td>2.031214</td>\n",
       "      <td>2.766953</td>\n",
       "      <td>3.716004</td>\n",
       "      <td>15040</td>\n",
       "      <td>0</td>\n",
       "      <td>2229</td>\n",
       "      <td>13.8</td>\n",
       "      <td>None</td>\n",
       "      <td>None</td>\n",
       "      <td>NaN</td>\n",
       "      <td>None</td>\n",
       "      <td>None</td>\n",
       "      <td>None</td>\n",
       "      <td>None</td>\n",
       "      <td>None</td>\n",
       "      <td>None</td>\n",
       "      <td>None</td>\n",
       "      <td>N</td>\n",
       "      <td>N</td>\n",
       "      <td>1.017250</td>\n",
       "    </tr>\n",
       "    <tr>\n",
       "      <th>6</th>\n",
       "      <td>4444 Escher (1985 SA)</td>\n",
       "      <td>2.323466</td>\n",
       "      <td>0.135256</td>\n",
       "      <td>None</td>\n",
       "      <td>7.391794</td>\n",
       "      <td>121.256649</td>\n",
       "      <td>181.908910</td>\n",
       "      <td>2.009202</td>\n",
       "      <td>2.637730</td>\n",
       "      <td>3.541707</td>\n",
       "      <td>12336</td>\n",
       "      <td>0</td>\n",
       "      <td>2124</td>\n",
       "      <td>13.7</td>\n",
       "      <td>None</td>\n",
       "      <td>None</td>\n",
       "      <td>NaN</td>\n",
       "      <td>None</td>\n",
       "      <td>None</td>\n",
       "      <td>None</td>\n",
       "      <td>None</td>\n",
       "      <td>None</td>\n",
       "      <td>None</td>\n",
       "      <td>None</td>\n",
       "      <td>N</td>\n",
       "      <td>N</td>\n",
       "      <td>0.993099</td>\n",
       "    </tr>\n",
       "    <tr>\n",
       "      <th>7</th>\n",
       "      <td>4480 Nikitibotania (1985 QM4)</td>\n",
       "      <td>2.432013</td>\n",
       "      <td>0.167278</td>\n",
       "      <td>None</td>\n",
       "      <td>3.393789</td>\n",
       "      <td>50.314582</td>\n",
       "      <td>351.037630</td>\n",
       "      <td>2.025190</td>\n",
       "      <td>2.838836</td>\n",
       "      <td>3.792775</td>\n",
       "      <td>16366</td>\n",
       "      <td>0</td>\n",
       "      <td>1599</td>\n",
       "      <td>14.0</td>\n",
       "      <td>9.329</td>\n",
       "      <td>None</td>\n",
       "      <td>0.068</td>\n",
       "      <td>None</td>\n",
       "      <td>None</td>\n",
       "      <td>None</td>\n",
       "      <td>None</td>\n",
       "      <td>None</td>\n",
       "      <td>None</td>\n",
       "      <td>None</td>\n",
       "      <td>N</td>\n",
       "      <td>N</td>\n",
       "      <td>1.033080</td>\n",
       "    </tr>\n",
       "    <tr>\n",
       "      <th>8</th>\n",
       "      <td>3081 Martinuboh (1971 UP)</td>\n",
       "      <td>2.411293</td>\n",
       "      <td>0.183328</td>\n",
       "      <td>None</td>\n",
       "      <td>5.286152</td>\n",
       "      <td>43.782980</td>\n",
       "      <td>279.519867</td>\n",
       "      <td>1.969236</td>\n",
       "      <td>2.853350</td>\n",
       "      <td>3.744408</td>\n",
       "      <td>24446</td>\n",
       "      <td>0</td>\n",
       "      <td>1695</td>\n",
       "      <td>13.7</td>\n",
       "      <td>None</td>\n",
       "      <td>None</td>\n",
       "      <td>NaN</td>\n",
       "      <td>None</td>\n",
       "      <td>None</td>\n",
       "      <td>None</td>\n",
       "      <td>None</td>\n",
       "      <td>None</td>\n",
       "      <td>None</td>\n",
       "      <td>None</td>\n",
       "      <td>N</td>\n",
       "      <td>N</td>\n",
       "      <td>0.964725</td>\n",
       "    </tr>\n",
       "    <tr>\n",
       "      <th>9</th>\n",
       "      <td>4476 Bernstein (1983 DE)</td>\n",
       "      <td>2.384603</td>\n",
       "      <td>0.191499</td>\n",
       "      <td>None</td>\n",
       "      <td>3.369927</td>\n",
       "      <td>94.796790</td>\n",
       "      <td>345.276718</td>\n",
       "      <td>1.927953</td>\n",
       "      <td>2.841254</td>\n",
       "      <td>3.682413</td>\n",
       "      <td>14653</td>\n",
       "      <td>0</td>\n",
       "      <td>1897</td>\n",
       "      <td>14.0</td>\n",
       "      <td>None</td>\n",
       "      <td>None</td>\n",
       "      <td>NaN</td>\n",
       "      <td>None</td>\n",
       "      <td>None</td>\n",
       "      <td>None</td>\n",
       "      <td>None</td>\n",
       "      <td>None</td>\n",
       "      <td>None</td>\n",
       "      <td>None</td>\n",
       "      <td>N</td>\n",
       "      <td>N</td>\n",
       "      <td>0.943815</td>\n",
       "    </tr>\n",
       "    <tr>\n",
       "      <th>10</th>\n",
       "      <td>4432 McGraw-Hill (1981 ER22)</td>\n",
       "      <td>2.387007</td>\n",
       "      <td>0.213310</td>\n",
       "      <td>None</td>\n",
       "      <td>0.461393</td>\n",
       "      <td>115.236936</td>\n",
       "      <td>246.202728</td>\n",
       "      <td>1.877835</td>\n",
       "      <td>2.896180</td>\n",
       "      <td>3.687983</td>\n",
       "      <td>20053</td>\n",
       "      <td>0</td>\n",
       "      <td>1432</td>\n",
       "      <td>14.5</td>\n",
       "      <td>3.042</td>\n",
       "      <td>None</td>\n",
       "      <td>0.254</td>\n",
       "      <td>None</td>\n",
       "      <td>None</td>\n",
       "      <td>None</td>\n",
       "      <td>None</td>\n",
       "      <td>None</td>\n",
       "      <td>None</td>\n",
       "      <td>None</td>\n",
       "      <td>N</td>\n",
       "      <td>N</td>\n",
       "      <td>0.874123</td>\n",
       "    </tr>\n",
       "    <tr>\n",
       "      <th>11</th>\n",
       "      <td>4815 Anders (1981 EA28)</td>\n",
       "      <td>2.359711</td>\n",
       "      <td>0.135291</td>\n",
       "      <td>None</td>\n",
       "      <td>7.553188</td>\n",
       "      <td>7.174304</td>\n",
       "      <td>355.921444</td>\n",
       "      <td>2.040465</td>\n",
       "      <td>2.678958</td>\n",
       "      <td>3.624904</td>\n",
       "      <td>14553</td>\n",
       "      <td>0</td>\n",
       "      <td>1594</td>\n",
       "      <td>13.8</td>\n",
       "      <td>4.172</td>\n",
       "      <td>None</td>\n",
       "      <td>0.336</td>\n",
       "      <td>None</td>\n",
       "      <td>None</td>\n",
       "      <td>None</td>\n",
       "      <td>None</td>\n",
       "      <td>None</td>\n",
       "      <td>None</td>\n",
       "      <td>None</td>\n",
       "      <td>N</td>\n",
       "      <td>N</td>\n",
       "      <td>1.037330</td>\n",
       "    </tr>\n",
       "    <tr>\n",
       "      <th>12</th>\n",
       "      <td>3891 Werner (1981 EY31)</td>\n",
       "      <td>2.405993</td>\n",
       "      <td>0.177944</td>\n",
       "      <td>None</td>\n",
       "      <td>1.599109</td>\n",
       "      <td>269.430503</td>\n",
       "      <td>346.687384</td>\n",
       "      <td>1.977861</td>\n",
       "      <td>2.834124</td>\n",
       "      <td>3.732069</td>\n",
       "      <td>16523</td>\n",
       "      <td>0</td>\n",
       "      <td>1578</td>\n",
       "      <td>14.4</td>\n",
       "      <td>3.203</td>\n",
       "      <td>None</td>\n",
       "      <td>0.328</td>\n",
       "      <td>None</td>\n",
       "      <td>None</td>\n",
       "      <td>None</td>\n",
       "      <td>None</td>\n",
       "      <td>None</td>\n",
       "      <td>None</td>\n",
       "      <td>None</td>\n",
       "      <td>N</td>\n",
       "      <td>N</td>\n",
       "      <td>0.962686</td>\n",
       "    </tr>\n",
       "  </tbody>\n",
       "</table>\n",
       "</div>"
      ],
      "text/plain": [
       "                          full_name         a         e     G          i  \\\n",
       "0          3529 Dowling (1981 EQ19)  2.382538  0.183169  None   2.762782   \n",
       "1             3135 Lauer (1981 EC9)  2.420304  0.139377  None   5.980839   \n",
       "2            3984 Chacos (1984 SB6)  2.436352  0.181476  None   2.938197   \n",
       "3      4270 Juanvictoria (1975 TJ6)  2.366468  0.183351  None  12.158013   \n",
       "4         4549 Burkhardt (1276 T-2)  2.435993  0.154853  None   2.828001   \n",
       "5           4579 Puccini (1989 AT6)  2.399083  0.153338  None   2.213643   \n",
       "6             4444 Escher (1985 SA)  2.323466  0.135256  None   7.391794   \n",
       "7     4480 Nikitibotania (1985 QM4)  2.432013  0.167278  None   3.393789   \n",
       "8         3081 Martinuboh (1971 UP)  2.411293  0.183328  None   5.286152   \n",
       "9          4476 Bernstein (1983 DE)  2.384603  0.191499  None   3.369927   \n",
       "10     4432 McGraw-Hill (1981 ER22)  2.387007  0.213310  None   0.461393   \n",
       "11          4815 Anders (1981 EA28)  2.359711  0.135291  None   7.553188   \n",
       "12          3891 Werner (1981 EY31)  2.405993  0.177944  None   1.599109   \n",
       "\n",
       "            om           w         q        ad     per_y  data_arc  \\\n",
       "0   193.965268  184.680307  1.946131  2.818944  3.677629     24066   \n",
       "1   304.914422  118.465686  2.082971  2.757638  3.765417     14915   \n",
       "2    99.993724  263.569641  1.994213  2.878491  3.802929     17975   \n",
       "3   125.460349  321.158115  1.932573  2.800362  3.640484     15651   \n",
       "4    32.532749   52.209390  2.058773  2.813212  3.802088     23750   \n",
       "5   111.413391  139.886855  2.031214  2.766953  3.716004     15040   \n",
       "6   121.256649  181.908910  2.009202  2.637730  3.541707     12336   \n",
       "7    50.314582  351.037630  2.025190  2.838836  3.792775     16366   \n",
       "8    43.782980  279.519867  1.969236  2.853350  3.744408     24446   \n",
       "9    94.796790  345.276718  1.927953  2.841254  3.682413     14653   \n",
       "10  115.236936  246.202728  1.877835  2.896180  3.687983     20053   \n",
       "11    7.174304  355.921444  2.040465  2.678958  3.624904     14553   \n",
       "12  269.430503  346.687384  1.977861  2.834124  3.732069     16523   \n",
       "\n",
       "    condition_code  n_obs_used     H diameter extent  albedo rot_per    GM  \\\n",
       "0                0        1166  14.7    6.088   None   0.120    None  None   \n",
       "1                0        1456  13.8     None   None     NaN    None  None   \n",
       "2                0        1525  14.4    7.569   None   0.050    None  None   \n",
       "3                0        1303  14.1    8.264   None   0.058    None  None   \n",
       "4                0        1374  14.2     None   None     NaN    None  None   \n",
       "5                0        2229  13.8     None   None     NaN    None  None   \n",
       "6                0        2124  13.7     None   None     NaN    None  None   \n",
       "7                0        1599  14.0    9.329   None   0.068    None  None   \n",
       "8                0        1695  13.7     None   None     NaN    None  None   \n",
       "9                0        1897  14.0     None   None     NaN    None  None   \n",
       "10               0        1432  14.5    3.042   None   0.254    None  None   \n",
       "11               0        1594  13.8    4.172   None   0.336    None  None   \n",
       "12               0        1578  14.4    3.203   None   0.328    None  None   \n",
       "\n",
       "      BV    UB    IR spec_B spec_T neo pha      moid  \n",
       "0   None  None  None   None   None   N   N  0.947403  \n",
       "1   None  None  None   None   None   N   N  1.103980  \n",
       "2   None  None  None   None   None   N   N  0.993601  \n",
       "3   None  None  None   None   None   N   N  0.963916  \n",
       "4   None  None  None   None   None   N   N  1.076260  \n",
       "5   None  None  None   None   None   N   N  1.017250  \n",
       "6   None  None  None   None   None   N   N  0.993099  \n",
       "7   None  None  None   None   None   N   N  1.033080  \n",
       "8   None  None  None   None   None   N   N  0.964725  \n",
       "9   None  None  None   None   None   N   N  0.943815  \n",
       "10  None  None  None   None   None   N   N  0.874123  \n",
       "11  None  None  None   None   None   N   N  1.037330  \n",
       "12  None  None  None   None   None   N   N  0.962686  "
      ]
     },
     "metadata": {},
     "output_type": "display_data"
    }
   ],
   "source": [
    "pd.options.display.max_columns = None #show all features\n",
    "\n",
    "most_similar_df = pd.DataFrame(react['explanation']['influential_cases'][0])\n",
    "most_similar_df = most_similar_df.drop(['.session_training_index', '.session'], axis=1)\n",
    "\n",
    "display(df_full.iloc[predict_index:predict_index+1])\n",
    "display(most_similar_df[header])"
   ]
  },
  {
   "attachments": {},
   "cell_type": "markdown",
   "metadata": {},
   "source": [
    "# Step 4: Intepret\n",
    "\n",
    "## We react several more times to determine a range of possible predicted values.\n",
    "\n",
    "These will be used to visualize the distribution of the predicted feature compared to the held-out case, the predicted case, and the influential cases. This visualization is one of many techniques which could be used to interpret the results."
   ]
  },
  {
   "cell_type": "code",
   "execution_count": 9,
   "metadata": {},
   "outputs": [],
   "source": [
    "gen_reacts = list()\n",
    "for i in range(0,100):\n",
    "    result =  trainee.react(context_features=context_features,\n",
    "                            action_features=action_feature,\n",
    "                            contexts=[context_values],\n",
    "                            desired_conviction = 5000)\n",
    "    gen_reacts.append(result['action'].loc[0, 'moid'])\n",
    "\n",
    "trainee.react_into_trainee(residuals=True)\n",
    "global_residual = trainee.get_prediction_stats(stats=['mae'])['moid'][0]"
   ]
  },
  {
   "cell_type": "code",
   "execution_count": 10,
   "metadata": {},
   "outputs": [
    {
     "data": {
      "application/vnd.plotly.v1+json": {
       "config": {
        "plotlyServerURL": "https://plot.ly"
       },
       "data": [
        {
         "fill": "tonexty",
         "hoverinfo": "skip",
         "mode": "lines",
         "name": "Distribution",
         "type": "scattergl",
         "x": [
          0.524469372,
          0.5347836829292929,
          0.5450979938585858,
          0.5554123047878787,
          0.5657266157171718,
          0.5760409266464647,
          0.5863552375757576,
          0.5966695485050505,
          0.6069838594343434,
          0.6172981703636363,
          0.6276124812929292,
          0.6379267922222223,
          0.6482411031515152,
          0.6585554140808081,
          0.668869725010101,
          0.6791840359393939,
          0.6894983468686868,
          0.6998126577979797,
          0.7101269687272727,
          0.7204412796565657,
          0.7307555905858586,
          0.7410699015151515,
          0.7513842124444444,
          0.7616985233737373,
          0.7720128343030304,
          0.7823271452323233,
          0.7926414561616162,
          0.8029557670909091,
          0.813270078020202,
          0.8235843889494949,
          0.8338986998787878,
          0.8442130108080808,
          0.8545273217373737,
          0.8648416326666666,
          0.8751559435959596,
          0.8854702545252525,
          0.8957845654545454,
          0.9060988763838383,
          0.9164131873131314,
          0.9267274982424243,
          0.9370418091717172,
          0.9473561201010101,
          0.957670431030303,
          0.9679847419595959,
          0.9782990528888889,
          0.9886133638181818,
          0.9989276747474747,
          1.0092419856767676,
          1.0195562966060607,
          1.0298706075353534,
          1.0401849184646466,
          1.0504992293939392,
          1.0608135403232324,
          1.071127851252525,
          1.0814421621818182,
          1.0917564731111111,
          1.102070784040404,
          1.112385094969697,
          1.1226994058989899,
          1.1330137168282828,
          1.1433280277575757,
          1.1536423386868688,
          1.1639566496161615,
          1.1742709605454547,
          1.1845852714747473,
          1.1948995824040405,
          1.2052138933333332,
          1.2155282042626263,
          1.2258425151919192,
          1.2361568261212121,
          1.246471137050505,
          1.256785447979798,
          1.2670997589090909,
          1.2774140698383838,
          1.2877283807676767,
          1.2980426916969696,
          1.3083570026262628,
          1.3186713135555554,
          1.3289856244848486,
          1.3392999354141413,
          1.3496142463434344,
          1.359928557272727,
          1.3702428682020202,
          1.3805571791313132,
          1.390871490060606,
          1.401185800989899,
          1.411500111919192,
          1.4218144228484848,
          1.4321287337777777,
          1.4424430447070709,
          1.4527573556363635,
          1.4630716665656567,
          1.4733859774949494,
          1.4837002884242425,
          1.4940145993535352,
          1.5043289102828283,
          1.5146432212121212,
          1.5249575321414142,
          1.535271843070707,
          1.545586154
         ],
         "y": [
          1.4474269543770782e-59,
          3.794796466435334e-56,
          7.860067000430422e-53,
          1.2862042418298515e-49,
          1.6627982392204795e-46,
          1.6983027127284717e-43,
          1.3703660150057e-40,
          8.735826194710531e-38,
          4.3996417950882814e-35,
          1.7505583130223967e-32,
          5.502775236858818e-30,
          1.3665731866659304e-27,
          2.6812045343714573e-25,
          4.155974977531245e-23,
          5.089344294285171e-21,
          4.923757651020398e-19,
          3.7633744696437213e-17,
          2.272501240783228e-15,
          1.0841184927019148e-13,
          4.085971237139065e-12,
          1.2166335448250423e-10,
          2.862003740290959e-9,
          5.318957697828345e-8,
          7.80960025878256e-7,
          0.000009058932054567287,
          0.00008301778281196538,
          0.0006010508210961419,
          0.0034379315504788938,
          0.015535648010033345,
          0.05546364295749766,
          0.1564364998379384,
          0.34860835446385063,
          0.6139120929085147,
          0.8553659912616103,
          0.9486766197252625,
          0.8640935705049338,
          0.7436185413223912,
          0.8613309645226129,
          1.5131297571628468,
          2.879537450297856,
          4.856699103465971,
          6.950792555287613,
          8.447334002845118,
          8.86682169685216,
          8.305342378236281,
          7.28373840822113,
          6.310809274459789,
          5.618978812793244,
          5.149752655604406,
          4.660284046948906,
          3.948011847374641,
          3.0744536943697605,
          2.3244929212515593,
          1.928807560693852,
          1.8716999958144411,
          1.9371170280423369,
          1.876982520628243,
          1.570373965558805,
          1.0885422056739948,
          0.611782574010291,
          0.27551125904987256,
          0.0987769968725068,
          0.028093651450769336,
          0.0063265093433162774,
          0.0011268775145873316,
          0.0001586744396592958,
          0.000017657435698989115,
          0.000001552640726035038,
          1.0787008071942983e-7,
          5.921048339506355e-9,
          2.567755280009137e-10,
          8.797528584299162e-12,
          2.38131535443711e-13,
          5.092379825029982e-15,
          8.603427634257328e-17,
          1.148335121486603e-18,
          1.2109103040347311e-20,
          1.0087913980846119e-22,
          6.63952133208071e-25,
          3.452376417797456e-27,
          1.418226071407876e-29,
          4.6027642493285833e-32,
          1.1801519693970296e-34,
          2.390578861382043e-37,
          3.8257285171967225e-40,
          4.836945059667223e-43,
          4.831412219513322e-46,
          3.812615109533321e-49,
          2.376937531959985e-52,
          1.1707347355873816e-55,
          4.555595675359107e-59,
          1.4004827766003164e-62,
          3.4013890125188014e-66,
          6.526506411064117e-70,
          9.893527507543845e-74,
          1.1848612444625129e-77,
          1.121062318988882e-81,
          8.379882873182387e-86,
          4.948710790135112e-90,
          2.3088309268979517e-94
         ]
        },
        {
         "error_x": {
          "array": [
           0.13685327381008244
          ]
         },
         "hovertemplate": "Value: %{x}<br />Influence: N/A",
         "marker": {
          "color": "purple",
          "size": 15
         },
         "mode": "markers",
         "name": "Predicted Value",
         "type": "scattergl",
         "x": [
          0.9933688
         ],
         "xaxis": "x",
         "y": [
          0.08198824442777093
         ],
         "yaxis": "y2"
        },
        {
         "hovertemplate": "Value: %{x}<br />Influence: N/A",
         "marker": {
          "color": "orange",
          "size": 15
         },
         "mode": "markers",
         "name": "Actual Value",
         "type": "scattergl",
         "x": [
          1.01338
         ],
         "xaxis": "x",
         "y": [
          0.08198824442777093
         ],
         "yaxis": "y2"
        },
        {
         "customdata": [
          {
           "index": 3528,
           "session": "79500e9b-d28b-46f3-96d6-3e3d91d94e08"
          },
          {
           "index": 3134,
           "session": "79500e9b-d28b-46f3-96d6-3e3d91d94e08"
          },
          {
           "index": 3983,
           "session": "79500e9b-d28b-46f3-96d6-3e3d91d94e08"
          },
          {
           "index": 4269,
           "session": "79500e9b-d28b-46f3-96d6-3e3d91d94e08"
          },
          {
           "index": 4548,
           "session": "79500e9b-d28b-46f3-96d6-3e3d91d94e08"
          },
          {
           "index": 4578,
           "session": "79500e9b-d28b-46f3-96d6-3e3d91d94e08"
          },
          {
           "index": 4443,
           "session": "79500e9b-d28b-46f3-96d6-3e3d91d94e08"
          },
          {
           "index": 4479,
           "session": "79500e9b-d28b-46f3-96d6-3e3d91d94e08"
          },
          {
           "index": 3080,
           "session": "79500e9b-d28b-46f3-96d6-3e3d91d94e08"
          },
          {
           "index": 4475,
           "session": "79500e9b-d28b-46f3-96d6-3e3d91d94e08"
          },
          {
           "index": 4431,
           "session": "79500e9b-d28b-46f3-96d6-3e3d91d94e08"
          },
          {
           "index": 4814,
           "session": "79500e9b-d28b-46f3-96d6-3e3d91d94e08"
          },
          {
           "index": 3890,
           "session": "79500e9b-d28b-46f3-96d6-3e3d91d94e08"
          }
         ],
         "hovertemplate": "Value: %{x}<br />Influence: %{y}<br /><br />%{customdata}",
         "marker": {
          "color": "green"
         },
         "mode": "markers",
         "name": "Influential Case",
         "type": "scattergl",
         "x": [
          0.947403,
          1.10398,
          0.993601,
          0.963916,
          1.07626,
          1.01725,
          0.993099,
          1.03308,
          0.964725,
          0.943815,
          0.874123,
          1.03733,
          0.962686
         ],
         "xaxis": "x",
         "y": [
          0.07808404231216279,
          0.07779987916976341,
          0.07773792584383696,
          0.0773572702099171,
          0.07727089231280465,
          0.07721740140916233,
          0.07696247257929996,
          0.07684948589624767,
          0.07639056422357487,
          0.07629637467695778,
          0.07611273034039996,
          0.07596367823862861,
          0.07595728278724394
         ],
         "yaxis": "y2"
        }
       ],
       "layout": {
        "template": {
         "data": {
          "bar": [
           {
            "error_x": {
             "color": "#2a3f5f"
            },
            "error_y": {
             "color": "#2a3f5f"
            },
            "marker": {
             "line": {
              "color": "#E5ECF6",
              "width": 0.5
             },
             "pattern": {
              "fillmode": "overlay",
              "size": 10,
              "solidity": 0.2
             }
            },
            "type": "bar"
           }
          ],
          "barpolar": [
           {
            "marker": {
             "line": {
              "color": "#E5ECF6",
              "width": 0.5
             },
             "pattern": {
              "fillmode": "overlay",
              "size": 10,
              "solidity": 0.2
             }
            },
            "type": "barpolar"
           }
          ],
          "carpet": [
           {
            "aaxis": {
             "endlinecolor": "#2a3f5f",
             "gridcolor": "white",
             "linecolor": "white",
             "minorgridcolor": "white",
             "startlinecolor": "#2a3f5f"
            },
            "baxis": {
             "endlinecolor": "#2a3f5f",
             "gridcolor": "white",
             "linecolor": "white",
             "minorgridcolor": "white",
             "startlinecolor": "#2a3f5f"
            },
            "type": "carpet"
           }
          ],
          "choropleth": [
           {
            "colorbar": {
             "outlinewidth": 0,
             "ticks": ""
            },
            "type": "choropleth"
           }
          ],
          "contour": [
           {
            "colorbar": {
             "outlinewidth": 0,
             "ticks": ""
            },
            "colorscale": [
             [
              0,
              "#0d0887"
             ],
             [
              0.1111111111111111,
              "#46039f"
             ],
             [
              0.2222222222222222,
              "#7201a8"
             ],
             [
              0.3333333333333333,
              "#9c179e"
             ],
             [
              0.4444444444444444,
              "#bd3786"
             ],
             [
              0.5555555555555556,
              "#d8576b"
             ],
             [
              0.6666666666666666,
              "#ed7953"
             ],
             [
              0.7777777777777778,
              "#fb9f3a"
             ],
             [
              0.8888888888888888,
              "#fdca26"
             ],
             [
              1,
              "#f0f921"
             ]
            ],
            "type": "contour"
           }
          ],
          "contourcarpet": [
           {
            "colorbar": {
             "outlinewidth": 0,
             "ticks": ""
            },
            "type": "contourcarpet"
           }
          ],
          "heatmap": [
           {
            "colorbar": {
             "outlinewidth": 0,
             "ticks": ""
            },
            "colorscale": [
             [
              0,
              "#0d0887"
             ],
             [
              0.1111111111111111,
              "#46039f"
             ],
             [
              0.2222222222222222,
              "#7201a8"
             ],
             [
              0.3333333333333333,
              "#9c179e"
             ],
             [
              0.4444444444444444,
              "#bd3786"
             ],
             [
              0.5555555555555556,
              "#d8576b"
             ],
             [
              0.6666666666666666,
              "#ed7953"
             ],
             [
              0.7777777777777778,
              "#fb9f3a"
             ],
             [
              0.8888888888888888,
              "#fdca26"
             ],
             [
              1,
              "#f0f921"
             ]
            ],
            "type": "heatmap"
           }
          ],
          "heatmapgl": [
           {
            "colorbar": {
             "outlinewidth": 0,
             "ticks": ""
            },
            "colorscale": [
             [
              0,
              "#0d0887"
             ],
             [
              0.1111111111111111,
              "#46039f"
             ],
             [
              0.2222222222222222,
              "#7201a8"
             ],
             [
              0.3333333333333333,
              "#9c179e"
             ],
             [
              0.4444444444444444,
              "#bd3786"
             ],
             [
              0.5555555555555556,
              "#d8576b"
             ],
             [
              0.6666666666666666,
              "#ed7953"
             ],
             [
              0.7777777777777778,
              "#fb9f3a"
             ],
             [
              0.8888888888888888,
              "#fdca26"
             ],
             [
              1,
              "#f0f921"
             ]
            ],
            "type": "heatmapgl"
           }
          ],
          "histogram": [
           {
            "marker": {
             "pattern": {
              "fillmode": "overlay",
              "size": 10,
              "solidity": 0.2
             }
            },
            "type": "histogram"
           }
          ],
          "histogram2d": [
           {
            "colorbar": {
             "outlinewidth": 0,
             "ticks": ""
            },
            "colorscale": [
             [
              0,
              "#0d0887"
             ],
             [
              0.1111111111111111,
              "#46039f"
             ],
             [
              0.2222222222222222,
              "#7201a8"
             ],
             [
              0.3333333333333333,
              "#9c179e"
             ],
             [
              0.4444444444444444,
              "#bd3786"
             ],
             [
              0.5555555555555556,
              "#d8576b"
             ],
             [
              0.6666666666666666,
              "#ed7953"
             ],
             [
              0.7777777777777778,
              "#fb9f3a"
             ],
             [
              0.8888888888888888,
              "#fdca26"
             ],
             [
              1,
              "#f0f921"
             ]
            ],
            "type": "histogram2d"
           }
          ],
          "histogram2dcontour": [
           {
            "colorbar": {
             "outlinewidth": 0,
             "ticks": ""
            },
            "colorscale": [
             [
              0,
              "#0d0887"
             ],
             [
              0.1111111111111111,
              "#46039f"
             ],
             [
              0.2222222222222222,
              "#7201a8"
             ],
             [
              0.3333333333333333,
              "#9c179e"
             ],
             [
              0.4444444444444444,
              "#bd3786"
             ],
             [
              0.5555555555555556,
              "#d8576b"
             ],
             [
              0.6666666666666666,
              "#ed7953"
             ],
             [
              0.7777777777777778,
              "#fb9f3a"
             ],
             [
              0.8888888888888888,
              "#fdca26"
             ],
             [
              1,
              "#f0f921"
             ]
            ],
            "type": "histogram2dcontour"
           }
          ],
          "mesh3d": [
           {
            "colorbar": {
             "outlinewidth": 0,
             "ticks": ""
            },
            "type": "mesh3d"
           }
          ],
          "parcoords": [
           {
            "line": {
             "colorbar": {
              "outlinewidth": 0,
              "ticks": ""
             }
            },
            "type": "parcoords"
           }
          ],
          "pie": [
           {
            "automargin": true,
            "type": "pie"
           }
          ],
          "scatter": [
           {
            "fillpattern": {
             "fillmode": "overlay",
             "size": 10,
             "solidity": 0.2
            },
            "type": "scatter"
           }
          ],
          "scatter3d": [
           {
            "line": {
             "colorbar": {
              "outlinewidth": 0,
              "ticks": ""
             }
            },
            "marker": {
             "colorbar": {
              "outlinewidth": 0,
              "ticks": ""
             }
            },
            "type": "scatter3d"
           }
          ],
          "scattercarpet": [
           {
            "marker": {
             "colorbar": {
              "outlinewidth": 0,
              "ticks": ""
             }
            },
            "type": "scattercarpet"
           }
          ],
          "scattergeo": [
           {
            "marker": {
             "colorbar": {
              "outlinewidth": 0,
              "ticks": ""
             }
            },
            "type": "scattergeo"
           }
          ],
          "scattergl": [
           {
            "marker": {
             "colorbar": {
              "outlinewidth": 0,
              "ticks": ""
             }
            },
            "type": "scattergl"
           }
          ],
          "scattermapbox": [
           {
            "marker": {
             "colorbar": {
              "outlinewidth": 0,
              "ticks": ""
             }
            },
            "type": "scattermapbox"
           }
          ],
          "scatterpolar": [
           {
            "marker": {
             "colorbar": {
              "outlinewidth": 0,
              "ticks": ""
             }
            },
            "type": "scatterpolar"
           }
          ],
          "scatterpolargl": [
           {
            "marker": {
             "colorbar": {
              "outlinewidth": 0,
              "ticks": ""
             }
            },
            "type": "scatterpolargl"
           }
          ],
          "scatterternary": [
           {
            "marker": {
             "colorbar": {
              "outlinewidth": 0,
              "ticks": ""
             }
            },
            "type": "scatterternary"
           }
          ],
          "surface": [
           {
            "colorbar": {
             "outlinewidth": 0,
             "ticks": ""
            },
            "colorscale": [
             [
              0,
              "#0d0887"
             ],
             [
              0.1111111111111111,
              "#46039f"
             ],
             [
              0.2222222222222222,
              "#7201a8"
             ],
             [
              0.3333333333333333,
              "#9c179e"
             ],
             [
              0.4444444444444444,
              "#bd3786"
             ],
             [
              0.5555555555555556,
              "#d8576b"
             ],
             [
              0.6666666666666666,
              "#ed7953"
             ],
             [
              0.7777777777777778,
              "#fb9f3a"
             ],
             [
              0.8888888888888888,
              "#fdca26"
             ],
             [
              1,
              "#f0f921"
             ]
            ],
            "type": "surface"
           }
          ],
          "table": [
           {
            "cells": {
             "fill": {
              "color": "#EBF0F8"
             },
             "line": {
              "color": "white"
             }
            },
            "header": {
             "fill": {
              "color": "#C8D4E3"
             },
             "line": {
              "color": "white"
             }
            },
            "type": "table"
           }
          ]
         },
         "layout": {
          "annotationdefaults": {
           "arrowcolor": "#2a3f5f",
           "arrowhead": 0,
           "arrowwidth": 1
          },
          "autotypenumbers": "strict",
          "coloraxis": {
           "colorbar": {
            "outlinewidth": 0,
            "ticks": ""
           }
          },
          "colorscale": {
           "diverging": [
            [
             0,
             "#8e0152"
            ],
            [
             0.1,
             "#c51b7d"
            ],
            [
             0.2,
             "#de77ae"
            ],
            [
             0.3,
             "#f1b6da"
            ],
            [
             0.4,
             "#fde0ef"
            ],
            [
             0.5,
             "#f7f7f7"
            ],
            [
             0.6,
             "#e6f5d0"
            ],
            [
             0.7,
             "#b8e186"
            ],
            [
             0.8,
             "#7fbc41"
            ],
            [
             0.9,
             "#4d9221"
            ],
            [
             1,
             "#276419"
            ]
           ],
           "sequential": [
            [
             0,
             "#0d0887"
            ],
            [
             0.1111111111111111,
             "#46039f"
            ],
            [
             0.2222222222222222,
             "#7201a8"
            ],
            [
             0.3333333333333333,
             "#9c179e"
            ],
            [
             0.4444444444444444,
             "#bd3786"
            ],
            [
             0.5555555555555556,
             "#d8576b"
            ],
            [
             0.6666666666666666,
             "#ed7953"
            ],
            [
             0.7777777777777778,
             "#fb9f3a"
            ],
            [
             0.8888888888888888,
             "#fdca26"
            ],
            [
             1,
             "#f0f921"
            ]
           ],
           "sequentialminus": [
            [
             0,
             "#0d0887"
            ],
            [
             0.1111111111111111,
             "#46039f"
            ],
            [
             0.2222222222222222,
             "#7201a8"
            ],
            [
             0.3333333333333333,
             "#9c179e"
            ],
            [
             0.4444444444444444,
             "#bd3786"
            ],
            [
             0.5555555555555556,
             "#d8576b"
            ],
            [
             0.6666666666666666,
             "#ed7953"
            ],
            [
             0.7777777777777778,
             "#fb9f3a"
            ],
            [
             0.8888888888888888,
             "#fdca26"
            ],
            [
             1,
             "#f0f921"
            ]
           ]
          },
          "colorway": [
           "#636efa",
           "#EF553B",
           "#00cc96",
           "#ab63fa",
           "#FFA15A",
           "#19d3f3",
           "#FF6692",
           "#B6E880",
           "#FF97FF",
           "#FECB52"
          ],
          "font": {
           "color": "#2a3f5f"
          },
          "geo": {
           "bgcolor": "white",
           "lakecolor": "white",
           "landcolor": "#E5ECF6",
           "showlakes": true,
           "showland": true,
           "subunitcolor": "white"
          },
          "hoverlabel": {
           "align": "left"
          },
          "hovermode": "closest",
          "mapbox": {
           "style": "light"
          },
          "paper_bgcolor": "white",
          "plot_bgcolor": "#E5ECF6",
          "polar": {
           "angularaxis": {
            "gridcolor": "white",
            "linecolor": "white",
            "ticks": ""
           },
           "bgcolor": "#E5ECF6",
           "radialaxis": {
            "gridcolor": "white",
            "linecolor": "white",
            "ticks": ""
           }
          },
          "scene": {
           "xaxis": {
            "backgroundcolor": "#E5ECF6",
            "gridcolor": "white",
            "gridwidth": 2,
            "linecolor": "white",
            "showbackground": true,
            "ticks": "",
            "zerolinecolor": "white"
           },
           "yaxis": {
            "backgroundcolor": "#E5ECF6",
            "gridcolor": "white",
            "gridwidth": 2,
            "linecolor": "white",
            "showbackground": true,
            "ticks": "",
            "zerolinecolor": "white"
           },
           "zaxis": {
            "backgroundcolor": "#E5ECF6",
            "gridcolor": "white",
            "gridwidth": 2,
            "linecolor": "white",
            "showbackground": true,
            "ticks": "",
            "zerolinecolor": "white"
           }
          },
          "shapedefaults": {
           "line": {
            "color": "#2a3f5f"
           }
          },
          "ternary": {
           "aaxis": {
            "gridcolor": "white",
            "linecolor": "white",
            "ticks": ""
           },
           "baxis": {
            "gridcolor": "white",
            "linecolor": "white",
            "ticks": ""
           },
           "bgcolor": "#E5ECF6",
           "caxis": {
            "gridcolor": "white",
            "linecolor": "white",
            "ticks": ""
           }
          },
          "title": {
           "x": 0.05
          },
          "xaxis": {
           "automargin": true,
           "gridcolor": "white",
           "linecolor": "white",
           "ticks": "",
           "title": {
            "standoff": 15
           },
           "zerolinecolor": "white",
           "zerolinewidth": 2
          },
          "yaxis": {
           "automargin": true,
           "gridcolor": "white",
           "linecolor": "white",
           "ticks": "",
           "title": {
            "standoff": 15
           },
           "zerolinecolor": "white",
           "zerolinewidth": 2
          }
         }
        },
        "xaxis": {
         "anchor": "y",
         "autorange": true,
         "domain": [
          0,
          0.94
         ],
         "title": {
          "text": "moid"
         }
        },
        "yaxis": {
         "anchor": "x",
         "color": "blue",
         "domain": [
          0,
          1
         ],
         "title": {
          "text": "Density"
         }
        },
        "yaxis2": {
         "anchor": "x",
         "color": "green",
         "overlaying": "y",
         "side": "right",
         "title": {
          "text": "Influence Weight"
         }
        }
       }
      }
     },
     "metadata": {},
     "output_type": "display_data"
    }
   ],
   "source": [
    "plot_interpretable_prediction(\n",
    "    react,\n",
    "    actual_value=action_value,\n",
    "    generative_reacts=gen_reacts,\n",
    "    residual=global_residual,\n",
    ")"
   ]
  },
  {
   "attachments": {},
   "cell_type": "markdown",
   "metadata": {},
   "source": [
    "## Non-visual interpretation\n",
    "\n",
    "Howso Engine provides a number of tools for interpreting reacts. Below, we compare the MDA (Mean Decrease in Accuracy) for the predicted case and the original case."
   ]
  },
  {
   "cell_type": "code",
   "execution_count": 11,
   "metadata": {},
   "outputs": [
    {
     "data": {
      "text/html": [
       "<div>\n",
       "<style scoped>\n",
       "    .dataframe tbody tr th:only-of-type {\n",
       "        vertical-align: middle;\n",
       "    }\n",
       "\n",
       "    .dataframe tbody tr th {\n",
       "        vertical-align: top;\n",
       "    }\n",
       "\n",
       "    .dataframe thead th {\n",
       "        text-align: right;\n",
       "    }\n",
       "</style>\n",
       "<table border=\"1\" class=\"dataframe\">\n",
       "  <thead>\n",
       "    <tr style=\"text-align: right;\">\n",
       "      <th></th>\n",
       "      <th>original</th>\n",
       "      <th>predicted</th>\n",
       "    </tr>\n",
       "  </thead>\n",
       "  <tbody>\n",
       "    <tr>\n",
       "      <th>per_y</th>\n",
       "      <td>0.028647</td>\n",
       "      <td>0.017550</td>\n",
       "    </tr>\n",
       "    <tr>\n",
       "      <th>a</th>\n",
       "      <td>0.019053</td>\n",
       "      <td>0.014607</td>\n",
       "    </tr>\n",
       "    <tr>\n",
       "      <th>full_name</th>\n",
       "      <td>0.015301</td>\n",
       "      <td>0.010690</td>\n",
       "    </tr>\n",
       "    <tr>\n",
       "      <th>ad</th>\n",
       "      <td>0.013918</td>\n",
       "      <td>0.010487</td>\n",
       "    </tr>\n",
       "    <tr>\n",
       "      <th>e</th>\n",
       "      <td>0.011620</td>\n",
       "      <td>0.009306</td>\n",
       "    </tr>\n",
       "    <tr>\n",
       "      <th>H</th>\n",
       "      <td>0.007637</td>\n",
       "      <td>0.008625</td>\n",
       "    </tr>\n",
       "    <tr>\n",
       "      <th>G</th>\n",
       "      <td>0.007254</td>\n",
       "      <td>0.008203</td>\n",
       "    </tr>\n",
       "    <tr>\n",
       "      <th>neo</th>\n",
       "      <td>0.005911</td>\n",
       "      <td>0.006727</td>\n",
       "    </tr>\n",
       "    <tr>\n",
       "      <th>q</th>\n",
       "      <td>0.005608</td>\n",
       "      <td>0.003679</td>\n",
       "    </tr>\n",
       "    <tr>\n",
       "      <th>diameter</th>\n",
       "      <td>0.005576</td>\n",
       "      <td>0.003471</td>\n",
       "    </tr>\n",
       "    <tr>\n",
       "      <th>spec_B</th>\n",
       "      <td>0.004651</td>\n",
       "      <td>0.001602</td>\n",
       "    </tr>\n",
       "    <tr>\n",
       "      <th>GM</th>\n",
       "      <td>0.004099</td>\n",
       "      <td>0.001281</td>\n",
       "    </tr>\n",
       "    <tr>\n",
       "      <th>extent</th>\n",
       "      <td>0.003967</td>\n",
       "      <td>0.000145</td>\n",
       "    </tr>\n",
       "    <tr>\n",
       "      <th>IR</th>\n",
       "      <td>0.003798</td>\n",
       "      <td>-0.001346</td>\n",
       "    </tr>\n",
       "    <tr>\n",
       "      <th>i</th>\n",
       "      <td>0.003557</td>\n",
       "      <td>-0.002067</td>\n",
       "    </tr>\n",
       "    <tr>\n",
       "      <th>BV</th>\n",
       "      <td>0.003080</td>\n",
       "      <td>-0.002426</td>\n",
       "    </tr>\n",
       "    <tr>\n",
       "      <th>om</th>\n",
       "      <td>0.002441</td>\n",
       "      <td>-0.002510</td>\n",
       "    </tr>\n",
       "    <tr>\n",
       "      <th>n_obs_used</th>\n",
       "      <td>0.002020</td>\n",
       "      <td>-0.004578</td>\n",
       "    </tr>\n",
       "    <tr>\n",
       "      <th>pha</th>\n",
       "      <td>0.001825</td>\n",
       "      <td>-0.005071</td>\n",
       "    </tr>\n",
       "    <tr>\n",
       "      <th>albedo</th>\n",
       "      <td>0.001083</td>\n",
       "      <td>-0.005222</td>\n",
       "    </tr>\n",
       "    <tr>\n",
       "      <th>data_arc</th>\n",
       "      <td>0.000972</td>\n",
       "      <td>-0.005981</td>\n",
       "    </tr>\n",
       "    <tr>\n",
       "      <th>spec_T</th>\n",
       "      <td>0.000756</td>\n",
       "      <td>-0.006125</td>\n",
       "    </tr>\n",
       "    <tr>\n",
       "      <th>rot_per</th>\n",
       "      <td>0.000413</td>\n",
       "      <td>-0.006851</td>\n",
       "    </tr>\n",
       "    <tr>\n",
       "      <th>condition_code</th>\n",
       "      <td>0.000257</td>\n",
       "      <td>-0.007238</td>\n",
       "    </tr>\n",
       "    <tr>\n",
       "      <th>UB</th>\n",
       "      <td>-0.000103</td>\n",
       "      <td>-0.010645</td>\n",
       "    </tr>\n",
       "    <tr>\n",
       "      <th>w</th>\n",
       "      <td>-0.001546</td>\n",
       "      <td>-0.013245</td>\n",
       "    </tr>\n",
       "  </tbody>\n",
       "</table>\n",
       "</div>"
      ],
      "text/plain": [
       "                original  predicted\n",
       "per_y           0.028647   0.017550\n",
       "a               0.019053   0.014607\n",
       "full_name       0.015301   0.010690\n",
       "ad              0.013918   0.010487\n",
       "e               0.011620   0.009306\n",
       "H               0.007637   0.008625\n",
       "G               0.007254   0.008203\n",
       "neo             0.005911   0.006727\n",
       "q               0.005608   0.003679\n",
       "diameter        0.005576   0.003471\n",
       "spec_B          0.004651   0.001602\n",
       "GM              0.004099   0.001281\n",
       "extent          0.003967   0.000145\n",
       "IR              0.003798  -0.001346\n",
       "i               0.003557  -0.002067\n",
       "BV              0.003080  -0.002426\n",
       "om              0.002441  -0.002510\n",
       "n_obs_used      0.002020  -0.004578\n",
       "pha             0.001825  -0.005071\n",
       "albedo          0.001083  -0.005222\n",
       "data_arc        0.000972  -0.005981\n",
       "spec_T          0.000756  -0.006125\n",
       "rot_per         0.000413  -0.006851\n",
       "condition_code  0.000257  -0.007238\n",
       "UB             -0.000103  -0.010645\n",
       "w              -0.001546  -0.013245"
      ]
     },
     "metadata": {},
     "output_type": "display_data"
    }
   ],
   "source": [
    "react = trainee.react(context_features=context_features,\n",
    "                      action_features=action_feature,\n",
    "                      contexts=[context_values],\n",
    "                      details = {\n",
    "                         'feature_mda': True,\n",
    "                         'robust_computation': True\n",
    "                      })\n",
    "\n",
    "loc_mda = react['explanation']['feature_mda']\n",
    "\n",
    "mda_dict = dict(sorted(loc_mda[0].items(), key=lambda item: item[1], reverse=True))\n",
    "mda_df = pd.DataFrame(columns=['original', 'predicted'])\n",
    "mda_df['predicted'] = mda_dict.values()\n",
    "mda_df.index = mda_dict.keys()\n",
    "\n",
    "react2 = trainee.react(context_features=context_features,\n",
    "                       action_features=action_feature,\n",
    "                       actions=[[action_value]],  # specify \"actual\" actual value\n",
    "                       contexts=[context_values],\n",
    "                       details = { \n",
    "                           'feature_mda_ex_post': True,\n",
    "                           'robust_computation': True\n",
    "                       })\n",
    "\n",
    "loc_mda_post_facto = react2['explanation']['feature_mda_ex_post']\n",
    "mda_dict = dict(sorted(loc_mda_post_facto[0].items(), key=lambda item: item[1], reverse=True))\n",
    "mda_df['original'] = mda_dict.values()\n",
    "\n",
    "display(mda_df)"
   ]
  }
 ],
 "metadata": {
  "kernelspec": {
   "display_name": "Python 3 (ipykernel)",
   "language": "python",
   "name": "python3"
  },
  "language_info": {
   "codemirror_mode": {
    "name": "ipython",
    "version": 3
   },
   "file_extension": ".py",
   "mimetype": "text/x-python",
   "name": "python",
   "nbconvert_exporter": "python",
   "pygments_lexer": "ipython3",
   "version": "3.8.18"
  },
  "vscode": {
   "interpreter": {
    "hash": "98985849814880aea3c19ccd39a676e6516266a02d3f41969eba1e354b5d6197"
   }
  }
 },
 "nbformat": 4,
 "nbformat_minor": 4
}
