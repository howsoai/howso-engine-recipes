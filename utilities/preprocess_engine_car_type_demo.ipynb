{
 "cells": [
  {
   "cell_type": "markdown",
   "id": "fd152317-9b9d-4bbd-ac45-b0913dd55a04",
   "metadata": {},
   "source": [
    "# Car Type Demo (Data pre-processing)\n",
    "\n",
    "This notebook will preprocess the EPA dataset for the demo notebook \"engine_car_type_demo.ipynb\"\n",
    "\n",
    "data source: https://www.fueleconomy.gov/feg/ws/index.shtml#vehicle"
   ]
  },
  {
   "cell_type": "code",
   "execution_count": 1,
   "id": "e4c54e0b",
   "metadata": {
    "execution": {
     "iopub.execute_input": "2024-03-28T21:10:55.552816Z",
     "iopub.status.busy": "2024-03-28T21:10:55.552666Z",
     "iopub.status.idle": "2024-03-28T21:10:55.836109Z",
     "shell.execute_reply": "2024-03-28T21:10:55.835627Z"
    }
   },
   "outputs": [],
   "source": [
    "import pandas as pd\n",
    "import numpy as np\n",
    "import random\n",
    "\n",
    "pd.options.mode.chained_assignment = None  # default='warn'"
   ]
  },
  {
   "cell_type": "code",
   "execution_count": 2,
   "id": "e4b57b1d",
   "metadata": {
    "execution": {
     "iopub.execute_input": "2024-03-28T21:10:55.838496Z",
     "iopub.status.busy": "2024-03-28T21:10:55.838123Z",
     "iopub.status.idle": "2024-03-28T21:10:56.056552Z",
     "shell.execute_reply": "2024-03-28T21:10:56.056016Z"
    }
   },
   "outputs": [],
   "source": [
    "df = pd.read_csv('../data/vehicles.csv', low_memory=False)"
   ]
  },
  {
   "cell_type": "code",
   "execution_count": 3,
   "id": "06935911",
   "metadata": {
    "execution": {
     "iopub.execute_input": "2024-03-28T21:10:56.059137Z",
     "iopub.status.busy": "2024-03-28T21:10:56.058965Z",
     "iopub.status.idle": "2024-03-28T21:10:56.064396Z",
     "shell.execute_reply": "2024-03-28T21:10:56.064005Z"
    }
   },
   "outputs": [
    {
     "data": {
      "text/plain": [
       "Index(['barrels08', 'barrelsA08', 'charge120', 'charge240', 'city08',\n",
       "       'city08U', 'cityA08', 'cityA08U', 'cityCD', 'cityE', 'cityUF', 'co2',\n",
       "       'co2A', 'co2TailpipeAGpm', 'co2TailpipeGpm', 'comb08', 'comb08U',\n",
       "       'combA08', 'combA08U', 'combE', 'combinedCD', 'combinedUF', 'cylinders',\n",
       "       'displ', 'drive', 'engId', 'eng_dscr', 'feScore', 'fuelCost08',\n",
       "       'fuelCostA08', 'fuelType', 'fuelType1', 'ghgScore', 'ghgScoreA',\n",
       "       'highway08', 'highway08U', 'highwayA08', 'highwayA08U', 'highwayCD',\n",
       "       'highwayE', 'highwayUF', 'hlv', 'hpv', 'id', 'lv2', 'lv4', 'make',\n",
       "       'model', 'mpgData', 'phevBlended', 'pv2', 'pv4', 'range', 'rangeCity',\n",
       "       'rangeCityA', 'rangeHwy', 'rangeHwyA', 'trany', 'UCity', 'UCityA',\n",
       "       'UHighway', 'UHighwayA', 'VClass', 'year', 'youSaveSpend', 'guzzler',\n",
       "       'trans_dscr', 'tCharger', 'sCharger', 'atvType', 'fuelType2', 'rangeA',\n",
       "       'evMotor', 'mfrCode', 'c240Dscr', 'charge240b', 'c240bDscr',\n",
       "       'createdOn', 'modifiedOn', 'startStop', 'phevCity', 'phevHwy',\n",
       "       'phevComb'],\n",
       "      dtype='object')"
      ]
     },
     "execution_count": 3,
     "metadata": {},
     "output_type": "execute_result"
    }
   ],
   "source": [
    "df.columns"
   ]
  },
  {
   "cell_type": "code",
   "execution_count": 4,
   "id": "605dbc0d",
   "metadata": {
    "execution": {
     "iopub.execute_input": "2024-03-28T21:10:56.066447Z",
     "iopub.status.busy": "2024-03-28T21:10:56.066129Z",
     "iopub.status.idle": "2024-03-28T21:10:56.068670Z",
     "shell.execute_reply": "2024-03-28T21:10:56.068279Z"
    }
   },
   "outputs": [],
   "source": [
    "# columns of interest:\n",
    "cols = ['city08', 'drive', 'fuelType', 'highway08', 'hlv', 'hpv', 'lv2', 'lv4', 'make', 'model', 'pv2', 'pv4', 'year', 'VClass']"
   ]
  },
  {
   "cell_type": "code",
   "execution_count": 5,
   "id": "69bb09d2",
   "metadata": {
    "execution": {
     "iopub.execute_input": "2024-03-28T21:10:56.070610Z",
     "iopub.status.busy": "2024-03-28T21:10:56.070326Z",
     "iopub.status.idle": "2024-03-28T21:10:56.074544Z",
     "shell.execute_reply": "2024-03-28T21:10:56.074152Z"
    }
   },
   "outputs": [],
   "source": [
    "col_names = ['CityMPG', 'DriveType', 'FuelType', 'HighwayMPG',\n",
    "       'HatchbackLuggageVolume', 'HatchbackPassengerVolume',\n",
    "       'TwoDoorLuggageVolume', 'FourDoorLuggageVolume', 'Make', 'Model',\n",
    "       'TwoDoorPassengerVolume', 'FourDoorPassengerVolume', 'Year',\n",
    "       'VehicleClass']\n",
    "\n",
    "processed_df = df[cols]\n",
    "processed_df.columns = col_names"
   ]
  },
  {
   "cell_type": "markdown",
   "id": "f573cbe9",
   "metadata": {},
   "source": [
    "NOTE: \n",
    "\n",
    "```(8) Interior volume dimensions are not required for two-seater passenger cars or any vehicle classified as truck which includes vans, pickups, special purpose vehicles, minivan and sport utility vehicles.```"
   ]
  },
  {
   "cell_type": "code",
   "execution_count": 6,
   "id": "3d274e0f",
   "metadata": {
    "execution": {
     "iopub.execute_input": "2024-03-28T21:10:56.076534Z",
     "iopub.status.busy": "2024-03-28T21:10:56.076235Z",
     "iopub.status.idle": "2024-03-28T21:10:56.084531Z",
     "shell.execute_reply": "2024-03-28T21:10:56.084131Z"
    }
   },
   "outputs": [
    {
     "data": {
      "text/html": [
       "<div>\n",
       "<style scoped>\n",
       "    .dataframe tbody tr th:only-of-type {\n",
       "        vertical-align: middle;\n",
       "    }\n",
       "\n",
       "    .dataframe tbody tr th {\n",
       "        vertical-align: top;\n",
       "    }\n",
       "\n",
       "    .dataframe thead th {\n",
       "        text-align: right;\n",
       "    }\n",
       "</style>\n",
       "<table border=\"1\" class=\"dataframe\">\n",
       "  <thead>\n",
       "    <tr style=\"text-align: right;\">\n",
       "      <th></th>\n",
       "      <th>CityMPG</th>\n",
       "      <th>DriveType</th>\n",
       "      <th>FuelType</th>\n",
       "      <th>HighwayMPG</th>\n",
       "      <th>HatchbackLuggageVolume</th>\n",
       "      <th>HatchbackPassengerVolume</th>\n",
       "      <th>TwoDoorLuggageVolume</th>\n",
       "      <th>FourDoorLuggageVolume</th>\n",
       "      <th>Make</th>\n",
       "      <th>Model</th>\n",
       "      <th>TwoDoorPassengerVolume</th>\n",
       "      <th>FourDoorPassengerVolume</th>\n",
       "      <th>Year</th>\n",
       "      <th>VehicleClass</th>\n",
       "    </tr>\n",
       "  </thead>\n",
       "  <tbody>\n",
       "    <tr>\n",
       "      <th>0</th>\n",
       "      <td>19</td>\n",
       "      <td>Rear-Wheel Drive</td>\n",
       "      <td>Regular</td>\n",
       "      <td>25</td>\n",
       "      <td>0</td>\n",
       "      <td>0</td>\n",
       "      <td>0</td>\n",
       "      <td>0</td>\n",
       "      <td>Alfa Romeo</td>\n",
       "      <td>Spider Veloce 2000</td>\n",
       "      <td>0</td>\n",
       "      <td>0</td>\n",
       "      <td>1985</td>\n",
       "      <td>Two Seaters</td>\n",
       "    </tr>\n",
       "    <tr>\n",
       "      <th>1</th>\n",
       "      <td>9</td>\n",
       "      <td>Rear-Wheel Drive</td>\n",
       "      <td>Regular</td>\n",
       "      <td>14</td>\n",
       "      <td>0</td>\n",
       "      <td>0</td>\n",
       "      <td>0</td>\n",
       "      <td>0</td>\n",
       "      <td>Ferrari</td>\n",
       "      <td>Testarossa</td>\n",
       "      <td>0</td>\n",
       "      <td>0</td>\n",
       "      <td>1985</td>\n",
       "      <td>Two Seaters</td>\n",
       "    </tr>\n",
       "    <tr>\n",
       "      <th>2</th>\n",
       "      <td>23</td>\n",
       "      <td>Front-Wheel Drive</td>\n",
       "      <td>Regular</td>\n",
       "      <td>33</td>\n",
       "      <td>19</td>\n",
       "      <td>77</td>\n",
       "      <td>0</td>\n",
       "      <td>0</td>\n",
       "      <td>Dodge</td>\n",
       "      <td>Charger</td>\n",
       "      <td>0</td>\n",
       "      <td>0</td>\n",
       "      <td>1985</td>\n",
       "      <td>Subcompact Cars</td>\n",
       "    </tr>\n",
       "    <tr>\n",
       "      <th>3</th>\n",
       "      <td>10</td>\n",
       "      <td>Rear-Wheel Drive</td>\n",
       "      <td>Regular</td>\n",
       "      <td>12</td>\n",
       "      <td>0</td>\n",
       "      <td>0</td>\n",
       "      <td>0</td>\n",
       "      <td>0</td>\n",
       "      <td>Dodge</td>\n",
       "      <td>B150/B250 Wagon 2WD</td>\n",
       "      <td>0</td>\n",
       "      <td>0</td>\n",
       "      <td>1985</td>\n",
       "      <td>Vans</td>\n",
       "    </tr>\n",
       "    <tr>\n",
       "      <th>4</th>\n",
       "      <td>17</td>\n",
       "      <td>4-Wheel or All-Wheel Drive</td>\n",
       "      <td>Premium</td>\n",
       "      <td>23</td>\n",
       "      <td>0</td>\n",
       "      <td>0</td>\n",
       "      <td>0</td>\n",
       "      <td>14</td>\n",
       "      <td>Subaru</td>\n",
       "      <td>Legacy AWD Turbo</td>\n",
       "      <td>0</td>\n",
       "      <td>90</td>\n",
       "      <td>1993</td>\n",
       "      <td>Compact Cars</td>\n",
       "    </tr>\n",
       "  </tbody>\n",
       "</table>\n",
       "</div>"
      ],
      "text/plain": [
       "   CityMPG                   DriveType FuelType  HighwayMPG  \\\n",
       "0       19            Rear-Wheel Drive  Regular          25   \n",
       "1        9            Rear-Wheel Drive  Regular          14   \n",
       "2       23           Front-Wheel Drive  Regular          33   \n",
       "3       10            Rear-Wheel Drive  Regular          12   \n",
       "4       17  4-Wheel or All-Wheel Drive  Premium          23   \n",
       "\n",
       "   HatchbackLuggageVolume  HatchbackPassengerVolume  TwoDoorLuggageVolume  \\\n",
       "0                       0                         0                     0   \n",
       "1                       0                         0                     0   \n",
       "2                      19                        77                     0   \n",
       "3                       0                         0                     0   \n",
       "4                       0                         0                     0   \n",
       "\n",
       "   FourDoorLuggageVolume        Make                Model  \\\n",
       "0                      0  Alfa Romeo   Spider Veloce 2000   \n",
       "1                      0     Ferrari           Testarossa   \n",
       "2                      0       Dodge              Charger   \n",
       "3                      0       Dodge  B150/B250 Wagon 2WD   \n",
       "4                     14      Subaru     Legacy AWD Turbo   \n",
       "\n",
       "   TwoDoorPassengerVolume  FourDoorPassengerVolume  Year     VehicleClass  \n",
       "0                       0                        0  1985      Two Seaters  \n",
       "1                       0                        0  1985      Two Seaters  \n",
       "2                       0                        0  1985  Subcompact Cars  \n",
       "3                       0                        0  1985             Vans  \n",
       "4                       0                       90  1993     Compact Cars  "
      ]
     },
     "execution_count": 6,
     "metadata": {},
     "output_type": "execute_result"
    }
   ],
   "source": [
    "processed_df.head()"
   ]
  },
  {
   "cell_type": "code",
   "execution_count": 7,
   "id": "3caee5d7",
   "metadata": {
    "execution": {
     "iopub.execute_input": "2024-03-28T21:10:56.086343Z",
     "iopub.status.busy": "2024-03-28T21:10:56.086069Z",
     "iopub.status.idle": "2024-03-28T21:10:56.088989Z",
     "shell.execute_reply": "2024-03-28T21:10:56.088617Z"
    }
   },
   "outputs": [
    {
     "data": {
      "text/plain": [
       "(43550, 14)"
      ]
     },
     "execution_count": 7,
     "metadata": {},
     "output_type": "execute_result"
    }
   ],
   "source": [
    "processed_df.shape"
   ]
  },
  {
   "cell_type": "code",
   "execution_count": 8,
   "id": "474d6d67",
   "metadata": {
    "execution": {
     "iopub.execute_input": "2024-03-28T21:10:56.090736Z",
     "iopub.status.busy": "2024-03-28T21:10:56.090458Z",
     "iopub.status.idle": "2024-03-28T21:10:56.094934Z",
     "shell.execute_reply": "2024-03-28T21:10:56.094557Z"
    }
   },
   "outputs": [],
   "source": [
    "df = processed_df"
   ]
  },
  {
   "cell_type": "code",
   "execution_count": 9,
   "id": "bd2845fa",
   "metadata": {
    "execution": {
     "iopub.execute_input": "2024-03-28T21:10:56.096689Z",
     "iopub.status.busy": "2024-03-28T21:10:56.096409Z",
     "iopub.status.idle": "2024-03-28T21:10:57.796162Z",
     "shell.execute_reply": "2024-03-28T21:10:57.795623Z"
    }
   },
   "outputs": [],
   "source": [
    "# df = df.dropna()\n",
    "target_column = 'VehicleClass'\n",
    "\n",
    "df['PassengerVolume']  = df.loc[ : , ['HatchbackPassengerVolume', 'TwoDoorPassengerVolume', 'FourDoorPassengerVolume']].apply(np.max, axis=1)\n",
    "df['LuggageVolume'] = df.loc[ : , ['HatchbackLuggageVolume', 'TwoDoorLuggageVolume', 'FourDoorLuggageVolume']].apply(np.max, axis=1)\n",
    "\n",
    "df = df[(df.loc[ : , 'LuggageVolume'] != 0) & (df.loc[ : , 'PassengerVolume'] != 0)]\n",
    "\n",
    "df = df.drop(['HatchbackPassengerVolume', 'TwoDoorPassengerVolume', 'FourDoorPassengerVolume', 'HatchbackLuggageVolume', 'TwoDoorLuggageVolume', 'FourDoorLuggageVolume'], axis=1)"
   ]
  },
  {
   "cell_type": "code",
   "execution_count": 10,
   "id": "1afda693-3466-487e-b7d4-d5e6f2ff5bd8",
   "metadata": {
    "execution": {
     "iopub.execute_input": "2024-03-28T21:10:57.798446Z",
     "iopub.status.busy": "2024-03-28T21:10:57.798284Z",
     "iopub.status.idle": "2024-03-28T21:10:57.805415Z",
     "shell.execute_reply": "2024-03-28T21:10:57.805028Z"
    }
   },
   "outputs": [
    {
     "data": {
      "text/plain": [
       "CityMPG               0\n",
       "DriveType          1121\n",
       "FuelType              0\n",
       "HighwayMPG            0\n",
       "Make                  0\n",
       "Model                 0\n",
       "Year                  0\n",
       "VehicleClass          0\n",
       "PassengerVolume       0\n",
       "LuggageVolume         0\n",
       "dtype: int64"
      ]
     },
     "execution_count": 10,
     "metadata": {},
     "output_type": "execute_result"
    }
   ],
   "source": [
    "df.isnull().sum()"
   ]
  },
  {
   "cell_type": "code",
   "execution_count": 11,
   "id": "32491001",
   "metadata": {
    "execution": {
     "iopub.execute_input": "2024-03-28T21:10:57.807350Z",
     "iopub.status.busy": "2024-03-28T21:10:57.807048Z",
     "iopub.status.idle": "2024-03-28T21:10:57.809910Z",
     "shell.execute_reply": "2024-03-28T21:10:57.809556Z"
    }
   },
   "outputs": [
    {
     "data": {
      "text/plain": [
       "(23606, 10)"
      ]
     },
     "execution_count": 11,
     "metadata": {},
     "output_type": "execute_result"
    }
   ],
   "source": [
    "df.shape"
   ]
  },
  {
   "cell_type": "code",
   "execution_count": 12,
   "id": "8d9255a5",
   "metadata": {
    "execution": {
     "iopub.execute_input": "2024-03-28T21:10:57.811801Z",
     "iopub.status.busy": "2024-03-28T21:10:57.811504Z",
     "iopub.status.idle": "2024-03-28T21:10:57.814999Z",
     "shell.execute_reply": "2024-03-28T21:10:57.814626Z"
    }
   },
   "outputs": [],
   "source": [
    "cols = df.columns.drop('VehicleClass').tolist() + ['VehicleClass']\n",
    "df = df[cols]"
   ]
  },
  {
   "cell_type": "code",
   "execution_count": 13,
   "id": "2f5e5d71",
   "metadata": {
    "execution": {
     "iopub.execute_input": "2024-03-28T21:10:57.817103Z",
     "iopub.status.busy": "2024-03-28T21:10:57.816822Z",
     "iopub.status.idle": "2024-03-28T21:10:57.819685Z",
     "shell.execute_reply": "2024-03-28T21:10:57.819318Z"
    }
   },
   "outputs": [
    {
     "data": {
      "text/plain": [
       "['CityMPG',\n",
       " 'DriveType',\n",
       " 'FuelType',\n",
       " 'HighwayMPG',\n",
       " 'Make',\n",
       " 'Model',\n",
       " 'Year',\n",
       " 'PassengerVolume',\n",
       " 'LuggageVolume',\n",
       " 'VehicleClass']"
      ]
     },
     "execution_count": 13,
     "metadata": {},
     "output_type": "execute_result"
    }
   ],
   "source": [
    "cols"
   ]
  },
  {
   "cell_type": "code",
   "execution_count": 14,
   "id": "18209eea",
   "metadata": {
    "execution": {
     "iopub.execute_input": "2024-03-28T21:10:57.821496Z",
     "iopub.status.busy": "2024-03-28T21:10:57.821231Z",
     "iopub.status.idle": "2024-03-28T21:10:57.874930Z",
     "shell.execute_reply": "2024-03-28T21:10:57.874486Z"
    }
   },
   "outputs": [],
   "source": [
    "df.to_csv('../data/vehicle_processed.csv', index=False)"
   ]
  }
 ],
 "metadata": {
  "kernelspec": {
   "display_name": "Python 3.9.13 ('diveplane-recipes')",
   "language": "python",
   "name": "python3"
  },
  "language_info": {
   "codemirror_mode": {
    "name": "ipython",
    "version": 3
   },
   "file_extension": ".py",
   "mimetype": "text/x-python",
   "name": "python",
   "nbconvert_exporter": "python",
   "pygments_lexer": "ipython3",
   "version": "3.11.8"
  },
  "vscode": {
   "interpreter": {
    "hash": "98985849814880aea3c19ccd39a676e6516266a02d3f41969eba1e354b5d6197"
   }
  }
 },
 "nbformat": 4,
 "nbformat_minor": 5
}
