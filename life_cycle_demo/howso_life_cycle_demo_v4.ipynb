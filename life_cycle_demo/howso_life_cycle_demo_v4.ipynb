{
 "cells": [
  {
   "attachments": {},
   "cell_type": "markdown",
   "id": "5a2eb7ff",
   "metadata": {
    "papermill": {
     "duration": 0,
     "end_time": "2022-10-07T00:30:56.494813",
     "exception": false,
     "start_time": "2022-10-07T00:30:56.494813",
     "status": "completed"
    },
    "tags": []
   },
   "source": [
    "# Howso Life Cycle \n",
    "\n",
    "## Scenario\n",
    "\n",
    "Imagine you manage data storage, maintenance, quality, and distribution at a major credit card provider. Your company's initiative is to harness its enterprise data for AI initiatives. You have been tasked to contribute via: \n",
    "\n",
    "1) Providing understanding of whether your data is useful for various AI use cases\n",
    "\n",
    "2) Ensuring the data is distributed and used securely safely \n",
    "\n",
    "Your first use case is to use enterprise data to screen whether customers will default on their payments, so that preventative measures can be taken as soon as possible.\n",
    "\n",
    "The available data for this use case contains a variety of sensitive information, including the `credit_card_default` output feature, that you will utilize to do your analysis. However, it is challenging to use because it is often mislabeled. This leads to headaches as your team struggles to handle these challenges. \n",
    "\n",
    "You turn to Howso to provide insight into your data throughout the lifecycle of this use case. Howso will help you to:\n",
    "\n",
    "- **Learn** whether your enterprise data is actually useful for this application and understand its qualities\n",
    "\n",
    "- **Generate** private, usable, and traceable data and inferences that can be harnessed throughout your organization\n",
    "\n",
    "- **Validate** the data's security and utility, while fixing any issues and providing documentation to verify the data's usability\n",
    "\n",
    "*Note: Howso encompasses many capabilities, listed in our documentation, which will not be shown for the sake of brevity in this demo. Please ask if you have any questions.*"
   ]
  },
  {
   "cell_type": "markdown",
   "id": "504c4f75",
   "metadata": {},
   "source": [
    "## Data Prep"
   ]
  },
  {
   "cell_type": "code",
   "execution_count": 1,
   "id": "c0742cb0",
   "metadata": {
    "execution": {
     "iopub.execute_input": "2024-05-04T15:51:58.945682Z",
     "iopub.status.busy": "2024-05-04T15:51:58.945330Z",
     "iopub.status.idle": "2024-05-04T15:52:00.469437Z",
     "shell.execute_reply": "2024-05-04T15:52:00.468754Z"
    },
    "papermill": {
     "duration": 2.009854,
     "end_time": "2022-10-07T00:30:58.552111",
     "exception": false,
     "start_time": "2022-10-07T00:30:56.542257",
     "status": "completed"
    },
    "tags": []
   },
   "outputs": [],
   "source": [
    "from pathlib import Path\n",
    "\n",
    "from IPython.display import (\n",
    "    display,\n",
    "    Image,\n",
    "    Markdown,\n",
    ")\n",
    "import matplotlib.pyplot as plt\n",
    "from matplotlib.colors import LinearSegmentedColormap, hex2color\n",
    "import matplotlib.patches as mpatches\n",
    "import numpy as np\n",
    "import pandas as pd\n",
    "import plotly.express as px\n",
    "\n",
    "from howso.engine import Trainee\n",
    "from howso.synthesizer import Synthesizer\n",
    "from howso.utilities import infer_feature_attributes\n",
    "from howso.validator import Validator\n",
    "from howso.visuals import plot_feature_importances\n",
    "from howso.watermarker import Watermarker"
   ]
  },
  {
   "cell_type": "code",
   "execution_count": 2,
   "id": "e2cc8e35",
   "metadata": {
    "execution": {
     "iopub.execute_input": "2024-05-04T15:52:00.472772Z",
     "iopub.status.busy": "2024-05-04T15:52:00.472292Z",
     "iopub.status.idle": "2024-05-04T15:52:00.511130Z",
     "shell.execute_reply": "2024-05-04T15:52:00.510624Z"
    },
    "papermill": {
     "duration": 0.062981,
     "end_time": "2022-10-07T00:30:58.615092",
     "exception": false,
     "start_time": "2022-10-07T00:30:58.552111",
     "status": "completed"
    },
    "tags": []
   },
   "outputs": [
    {
     "data": {
      "text/html": [
       "<div>\n",
       "<style scoped>\n",
       "    .dataframe tbody tr th:only-of-type {\n",
       "        vertical-align: middle;\n",
       "    }\n",
       "\n",
       "    .dataframe tbody tr th {\n",
       "        vertical-align: top;\n",
       "    }\n",
       "\n",
       "    .dataframe thead th {\n",
       "        text-align: right;\n",
       "    }\n",
       "</style>\n",
       "<table border=\"1\" class=\"dataframe\">\n",
       "  <thead>\n",
       "    <tr style=\"text-align: right;\">\n",
       "      <th></th>\n",
       "      <th>customer_id</th>\n",
       "      <th>name</th>\n",
       "      <th>age</th>\n",
       "      <th>gender</th>\n",
       "      <th>owns_car</th>\n",
       "      <th>owns_house</th>\n",
       "      <th>no_of_children</th>\n",
       "      <th>net_yearly_income</th>\n",
       "      <th>no_of_days_employed</th>\n",
       "      <th>occupation_type</th>\n",
       "      <th>total_family_members</th>\n",
       "      <th>migrant_worker</th>\n",
       "      <th>yearly_debt_payments</th>\n",
       "      <th>credit_limit</th>\n",
       "      <th>credit_limit_used(%)</th>\n",
       "      <th>credit_score</th>\n",
       "      <th>prev_defaults</th>\n",
       "      <th>default_in_last_6months</th>\n",
       "      <th>credit_card_default</th>\n",
       "    </tr>\n",
       "  </thead>\n",
       "  <tbody>\n",
       "    <tr>\n",
       "      <th>0</th>\n",
       "      <td>CST_162273</td>\n",
       "      <td>Goh</td>\n",
       "      <td>31</td>\n",
       "      <td>F</td>\n",
       "      <td>N</td>\n",
       "      <td>Y</td>\n",
       "      <td>0.0</td>\n",
       "      <td>74398.73</td>\n",
       "      <td>365241.0</td>\n",
       "      <td>Unknown</td>\n",
       "      <td>2.0</td>\n",
       "      <td>0.0</td>\n",
       "      <td>25595.16</td>\n",
       "      <td>10137.77</td>\n",
       "      <td>73</td>\n",
       "      <td>532.0</td>\n",
       "      <td>0</td>\n",
       "      <td>1</td>\n",
       "      <td>1</td>\n",
       "    </tr>\n",
       "    <tr>\n",
       "      <th>1</th>\n",
       "      <td>CST_132404</td>\n",
       "      <td>Chris</td>\n",
       "      <td>46</td>\n",
       "      <td>F</td>\n",
       "      <td>N</td>\n",
       "      <td>Y</td>\n",
       "      <td>0.0</td>\n",
       "      <td>199912.86</td>\n",
       "      <td>1558.0</td>\n",
       "      <td>Laborers</td>\n",
       "      <td>2.0</td>\n",
       "      <td>0.0</td>\n",
       "      <td>21818.50</td>\n",
       "      <td>22545.62</td>\n",
       "      <td>28</td>\n",
       "      <td>812.0</td>\n",
       "      <td>0</td>\n",
       "      <td>0</td>\n",
       "      <td>0</td>\n",
       "    </tr>\n",
       "    <tr>\n",
       "      <th>2</th>\n",
       "      <td>CST_133245</td>\n",
       "      <td>Karen</td>\n",
       "      <td>28</td>\n",
       "      <td>F</td>\n",
       "      <td>N</td>\n",
       "      <td>Y</td>\n",
       "      <td>1.0</td>\n",
       "      <td>74906.22</td>\n",
       "      <td>2363.0</td>\n",
       "      <td>Sales staff</td>\n",
       "      <td>3.0</td>\n",
       "      <td>0.0</td>\n",
       "      <td>NaN</td>\n",
       "      <td>11957.91</td>\n",
       "      <td>35</td>\n",
       "      <td>719.0</td>\n",
       "      <td>0</td>\n",
       "      <td>0</td>\n",
       "      <td>0</td>\n",
       "    </tr>\n",
       "    <tr>\n",
       "      <th>3</th>\n",
       "      <td>CST_122834</td>\n",
       "      <td>R</td>\n",
       "      <td>26</td>\n",
       "      <td>F</td>\n",
       "      <td>N</td>\n",
       "      <td>Y</td>\n",
       "      <td>1.0</td>\n",
       "      <td>257895.70</td>\n",
       "      <td>2026.0</td>\n",
       "      <td>Sales staff</td>\n",
       "      <td>3.0</td>\n",
       "      <td>0.0</td>\n",
       "      <td>40421.56</td>\n",
       "      <td>32548.91</td>\n",
       "      <td>28</td>\n",
       "      <td>824.0</td>\n",
       "      <td>0</td>\n",
       "      <td>0</td>\n",
       "      <td>0</td>\n",
       "    </tr>\n",
       "    <tr>\n",
       "      <th>4</th>\n",
       "      <td>CST_135145</td>\n",
       "      <td>Yereth</td>\n",
       "      <td>30</td>\n",
       "      <td>F</td>\n",
       "      <td>N</td>\n",
       "      <td>N</td>\n",
       "      <td>0.0</td>\n",
       "      <td>202251.14</td>\n",
       "      <td>1076.0</td>\n",
       "      <td>Laborers</td>\n",
       "      <td>2.0</td>\n",
       "      <td>0.0</td>\n",
       "      <td>9023.52</td>\n",
       "      <td>37902.93</td>\n",
       "      <td>12</td>\n",
       "      <td>715.0</td>\n",
       "      <td>0</td>\n",
       "      <td>0</td>\n",
       "      <td>0</td>\n",
       "    </tr>\n",
       "    <tr>\n",
       "      <th>...</th>\n",
       "      <td>...</td>\n",
       "      <td>...</td>\n",
       "      <td>...</td>\n",
       "      <td>...</td>\n",
       "      <td>...</td>\n",
       "      <td>...</td>\n",
       "      <td>...</td>\n",
       "      <td>...</td>\n",
       "      <td>...</td>\n",
       "      <td>...</td>\n",
       "      <td>...</td>\n",
       "      <td>...</td>\n",
       "      <td>...</td>\n",
       "      <td>...</td>\n",
       "      <td>...</td>\n",
       "      <td>...</td>\n",
       "      <td>...</td>\n",
       "      <td>...</td>\n",
       "      <td>...</td>\n",
       "    </tr>\n",
       "    <tr>\n",
       "      <th>395</th>\n",
       "      <td>CST_106572</td>\n",
       "      <td>Kylie MacLellan</td>\n",
       "      <td>43</td>\n",
       "      <td>F</td>\n",
       "      <td>Y</td>\n",
       "      <td>Y</td>\n",
       "      <td>0.0</td>\n",
       "      <td>56799.62</td>\n",
       "      <td>1576.0</td>\n",
       "      <td>Managers</td>\n",
       "      <td>2.0</td>\n",
       "      <td>0.0</td>\n",
       "      <td>15499.85</td>\n",
       "      <td>17398.48</td>\n",
       "      <td>49</td>\n",
       "      <td>925.0</td>\n",
       "      <td>0</td>\n",
       "      <td>0</td>\n",
       "      <td>0</td>\n",
       "    </tr>\n",
       "    <tr>\n",
       "      <th>396</th>\n",
       "      <td>CST_143462</td>\n",
       "      <td>Junko</td>\n",
       "      <td>41</td>\n",
       "      <td>F</td>\n",
       "      <td>N</td>\n",
       "      <td>N</td>\n",
       "      <td>0.0</td>\n",
       "      <td>90868.31</td>\n",
       "      <td>365251.0</td>\n",
       "      <td>Unknown</td>\n",
       "      <td>2.0</td>\n",
       "      <td>0.0</td>\n",
       "      <td>10980.23</td>\n",
       "      <td>21503.75</td>\n",
       "      <td>6</td>\n",
       "      <td>945.0</td>\n",
       "      <td>0</td>\n",
       "      <td>0</td>\n",
       "      <td>0</td>\n",
       "    </tr>\n",
       "    <tr>\n",
       "      <th>397</th>\n",
       "      <td>CST_126609</td>\n",
       "      <td>Tim Kelly</td>\n",
       "      <td>41</td>\n",
       "      <td>M</td>\n",
       "      <td>Y</td>\n",
       "      <td>N</td>\n",
       "      <td>0.0</td>\n",
       "      <td>177922.40</td>\n",
       "      <td>1427.0</td>\n",
       "      <td>Drivers</td>\n",
       "      <td>2.0</td>\n",
       "      <td>1.0</td>\n",
       "      <td>50287.28</td>\n",
       "      <td>67604.78</td>\n",
       "      <td>61</td>\n",
       "      <td>776.0</td>\n",
       "      <td>0</td>\n",
       "      <td>0</td>\n",
       "      <td>0</td>\n",
       "    </tr>\n",
       "    <tr>\n",
       "      <th>398</th>\n",
       "      <td>CST_128899</td>\n",
       "      <td>Tetsushi</td>\n",
       "      <td>23</td>\n",
       "      <td>F</td>\n",
       "      <td>Y</td>\n",
       "      <td>Y</td>\n",
       "      <td>0.0</td>\n",
       "      <td>214800.11</td>\n",
       "      <td>654.0</td>\n",
       "      <td>Managers</td>\n",
       "      <td>2.0</td>\n",
       "      <td>0.0</td>\n",
       "      <td>71136.88</td>\n",
       "      <td>32600.86</td>\n",
       "      <td>39</td>\n",
       "      <td>789.0</td>\n",
       "      <td>0</td>\n",
       "      <td>0</td>\n",
       "      <td>0</td>\n",
       "    </tr>\n",
       "    <tr>\n",
       "      <th>399</th>\n",
       "      <td>CST_135222</td>\n",
       "      <td>Alan</td>\n",
       "      <td>26</td>\n",
       "      <td>M</td>\n",
       "      <td>N</td>\n",
       "      <td>Y</td>\n",
       "      <td>0.0</td>\n",
       "      <td>209613.90</td>\n",
       "      <td>365249.0</td>\n",
       "      <td>Unknown</td>\n",
       "      <td>2.0</td>\n",
       "      <td>0.0</td>\n",
       "      <td>15002.87</td>\n",
       "      <td>31646.02</td>\n",
       "      <td>14</td>\n",
       "      <td>913.0</td>\n",
       "      <td>0</td>\n",
       "      <td>0</td>\n",
       "      <td>0</td>\n",
       "    </tr>\n",
       "  </tbody>\n",
       "</table>\n",
       "<p>400 rows × 19 columns</p>\n",
       "</div>"
      ],
      "text/plain": [
       "    customer_id             name  age gender owns_car owns_house  \\\n",
       "0    CST_162273              Goh   31      F        N          Y   \n",
       "1    CST_132404            Chris   46      F        N          Y   \n",
       "2    CST_133245            Karen   28      F        N          Y   \n",
       "3    CST_122834                R   26      F        N          Y   \n",
       "4    CST_135145           Yereth   30      F        N          N   \n",
       "..          ...              ...  ...    ...      ...        ...   \n",
       "395  CST_106572  Kylie MacLellan   43      F        Y          Y   \n",
       "396  CST_143462            Junko   41      F        N          N   \n",
       "397  CST_126609        Tim Kelly   41      M        Y          N   \n",
       "398  CST_128899         Tetsushi   23      F        Y          Y   \n",
       "399  CST_135222             Alan   26      M        N          Y   \n",
       "\n",
       "     no_of_children  net_yearly_income  no_of_days_employed occupation_type  \\\n",
       "0               0.0           74398.73             365241.0         Unknown   \n",
       "1               0.0          199912.86               1558.0        Laborers   \n",
       "2               1.0           74906.22               2363.0     Sales staff   \n",
       "3               1.0          257895.70               2026.0     Sales staff   \n",
       "4               0.0          202251.14               1076.0        Laborers   \n",
       "..              ...                ...                  ...             ...   \n",
       "395             0.0           56799.62               1576.0        Managers   \n",
       "396             0.0           90868.31             365251.0         Unknown   \n",
       "397             0.0          177922.40               1427.0         Drivers   \n",
       "398             0.0          214800.11                654.0        Managers   \n",
       "399             0.0          209613.90             365249.0         Unknown   \n",
       "\n",
       "     total_family_members  migrant_worker  yearly_debt_payments  credit_limit  \\\n",
       "0                     2.0             0.0              25595.16      10137.77   \n",
       "1                     2.0             0.0              21818.50      22545.62   \n",
       "2                     3.0             0.0                   NaN      11957.91   \n",
       "3                     3.0             0.0              40421.56      32548.91   \n",
       "4                     2.0             0.0               9023.52      37902.93   \n",
       "..                    ...             ...                   ...           ...   \n",
       "395                   2.0             0.0              15499.85      17398.48   \n",
       "396                   2.0             0.0              10980.23      21503.75   \n",
       "397                   2.0             1.0              50287.28      67604.78   \n",
       "398                   2.0             0.0              71136.88      32600.86   \n",
       "399                   2.0             0.0              15002.87      31646.02   \n",
       "\n",
       "     credit_limit_used(%)  credit_score  prev_defaults  \\\n",
       "0                      73         532.0              0   \n",
       "1                      28         812.0              0   \n",
       "2                      35         719.0              0   \n",
       "3                      28         824.0              0   \n",
       "4                      12         715.0              0   \n",
       "..                    ...           ...            ...   \n",
       "395                    49         925.0              0   \n",
       "396                     6         945.0              0   \n",
       "397                    61         776.0              0   \n",
       "398                    39         789.0              0   \n",
       "399                    14         913.0              0   \n",
       "\n",
       "     default_in_last_6months  credit_card_default  \n",
       "0                          1                    1  \n",
       "1                          0                    0  \n",
       "2                          0                    0  \n",
       "3                          0                    0  \n",
       "4                          0                    0  \n",
       "..                       ...                  ...  \n",
       "395                        0                    0  \n",
       "396                        0                    0  \n",
       "397                        0                    0  \n",
       "398                        0                    0  \n",
       "399                        0                    0  \n",
       "\n",
       "[400 rows x 19 columns]"
      ]
     },
     "execution_count": 2,
     "metadata": {},
     "output_type": "execute_result"
    }
   ],
   "source": [
    "# Load in data\n",
    "df = pd.read_csv('financial_data.csv').sample(500)\n",
    "\n",
    "# Prep Data\n",
    "df_orig = df.sample(frac=0.8)\n",
    "df_test = df[~df.index.isin(df_orig.index)].reset_index(drop=True)\n",
    "df_orig = df_orig.reset_index(drop=True)\n",
    "\n",
    "# Map Feature Attributes\n",
    "features = infer_feature_attributes(df_orig)\n",
    "\n",
    "for f_name in features.get_names(types=(\"nominal\", \"ordinal\")):\n",
    "    features[f_name][\"non_sensitive\"] = True\n",
    "\n",
    "# features[\"age\"][\"type\"] = \"continuous\"\n",
    "# features[\"credit_limit_used(%)\"][\"type\"] = \"continuous\"\n",
    "# features[\"no_of_children\"][\"type\"] = \"continuous\"\n",
    "# features[\"total_family_members\"][\"type\"] = \"continuous\"\n",
    "\n",
    "action_features = ['credit_card_default']\n",
    "context_features = features.get_names(without=action_features)\n",
    "\n",
    "# Create the Trainee\n",
    "t_orig = Trainee(features=features, name=\"life_cycle_trainee_orig\")\n",
    "\n",
    "t_orig.train(df_orig)\n",
    "\n",
    "# Targetless analyze\n",
    "t_orig.analyze()\n",
    "\n",
    "cols = df_orig.columns.to_list()\n",
    "\n",
    "df_orig"
   ]
  },
  {
   "cell_type": "markdown",
   "id": "a5aa2ee4",
   "metadata": {},
   "source": [
    "## Learn\n",
    "\n",
    "### Understand your data out-of-the-box "
   ]
  },
  {
   "cell_type": "markdown",
   "id": "842360c1",
   "metadata": {},
   "source": [
    "#### Can I use my enterprise data for analytics and predictive intelligence?\n",
    "\n",
    "We are trying to predict the feature `credit_card_default`. Here, accuracy is used to assess the feature's predictability. If the accuracy is higher that 75%, we will know the data is useful for making these predictions. If the accuracy is below 75%, further action may be required."
   ]
  },
  {
   "cell_type": "code",
   "execution_count": 3,
   "id": "621cb05a",
   "metadata": {},
   "outputs": [
    {
     "data": {
      "image/png": "[encoded data removed]",
      "text/plain": [
       "<Figure size 1000x500 with 1 Axes>"
      ]
     },
     "metadata": {},
     "output_type": "display_data"
    }
   ],
   "source": [
    "t_orig.react_into_trainee(residuals=True)\n",
    "stats = t_orig.react_aggregate()\n",
    "\n",
    "acc_features = stats.loc['accuracy'].dropna()\n",
    "\n",
    "# Sort the values\n",
    "sorted_acc = acc_features.sort_values(ascending=False)\n",
    "\n",
    "# Define the feature to highlight\n",
    "highlight_feature = 'credit_card_default'\n",
    "highlight_color = '#3E63DD'  # Color to highlight the specific feature\n",
    "default_color = '#828282'  # Default color for other features\n",
    "\n",
    "# Create a list of colors\n",
    "colors = [highlight_color if feature == highlight_feature else default_color for feature in sorted_acc.index]\n",
    "\n",
    "# Plot MCC Bar Chart\n",
    "plt.figure(figsize=(10, 5))\n",
    "plt.bar(sorted_acc.index, sorted_acc.values, color=colors)\n",
    "# Add the horizontal line\n",
    "plt.axhline(y=0.7, color='#202020', linestyle='--', linewidth=2, label=f'Accuracy Threshold = {0.75}')\n",
    "plt.xlabel('Features')\n",
    "plt.ylabel('Accuracy')\n",
    "plt.title('Predictability')\n",
    "plt.xticks(rotation=45, ha='right')  # Rotate labels 45 degrees and align to the right\n",
    "plt.show()"
   ]
  },
  {
   "cell_type": "markdown",
   "id": "96e7ed2f",
   "metadata": {},
   "source": [
    "### What is driving the predictability?\n",
    "\n",
    "Next, we identify the features, or columns, that are driving `credit_card_default`'s predictability.\n",
    "\n",
    "We can see the main contributors to the prediction include information about credit usage and score and previous defaults, this makes sense."
   ]
  },
  {
   "cell_type": "code",
   "execution_count": 4,
   "id": "7b2f31d8",
   "metadata": {},
   "outputs": [
    {
     "data": {
      "application/vnd.plotly.v1+json": {
       "config": {
        "plotlyServerURL": "https://plot.ly"
       },
       "data": [
        {
         "type": "bar",
         "x": [
          "credit_score",
          "prev_defaults",
          "credit_limit_used(%)",
          "net_yearly_income",
          "owns_car",
          "credit_limit",
          "no_of_days_employed",
          "yearly_debt_payments",
          "gender",
          "default_in_last_6months",
          "age",
          "no_of_children",
          "occupation_type",
          "total_family_members",
          "migrant_worker",
          "customer_id",
          "owns_house",
          "name"
         ],
         "y": [
          0.33099529581628206,
          0.18077231321872295,
          0.16462191150676503,
          0.05694459459519622,
          0.05629455840269866,
          0.05086620862859243,
          0.0492303671621394,
          0.0458027677353325,
          0.04404845784183577,
          0.043858245679103784,
          0.03668336581064977,
          0.03172202392984469,
          0.030843342609234745,
          0.02904372942637205,
          0.02884811978826512,
          0.02815492728605371,
          0.028059126735670202,
          0.027893967701251004
         ]
        }
       ],
       "layout": {
        "template": {
         "data": {
          "bar": [
           {
            "error_x": {
             "color": "#2a3f5f"
            },
            "error_y": {
             "color": "#2a3f5f"
            },
            "marker": {
             "line": {
              "color": "#E5ECF6",
              "width": 0.5
             },
             "pattern": {
              "fillmode": "overlay",
              "size": 10,
              "solidity": 0.2
             }
            },
            "type": "bar"
           }
          ],
          "barpolar": [
           {
            "marker": {
             "line": {
              "color": "#E5ECF6",
              "width": 0.5
             },
             "pattern": {
              "fillmode": "overlay",
              "size": 10,
              "solidity": 0.2
             }
            },
            "type": "barpolar"
           }
          ],
          "carpet": [
           {
            "aaxis": {
             "endlinecolor": "#2a3f5f",
             "gridcolor": "white",
             "linecolor": "white",
             "minorgridcolor": "white",
             "startlinecolor": "#2a3f5f"
            },
            "baxis": {
             "endlinecolor": "#2a3f5f",
             "gridcolor": "white",
             "linecolor": "white",
             "minorgridcolor": "white",
             "startlinecolor": "#2a3f5f"
            },
            "type": "carpet"
           }
          ],
          "choropleth": [
           {
            "colorbar": {
             "outlinewidth": 0,
             "ticks": ""
            },
            "type": "choropleth"
           }
          ],
          "contour": [
           {
            "colorbar": {
             "outlinewidth": 0,
             "ticks": ""
            },
            "colorscale": [
             [
              0,
              "#0d0887"
             ],
             [
              0.1111111111111111,
              "#46039f"
             ],
             [
              0.2222222222222222,
              "#7201a8"
             ],
             [
              0.3333333333333333,
              "#9c179e"
             ],
             [
              0.4444444444444444,
              "#bd3786"
             ],
             [
              0.5555555555555556,
              "#d8576b"
             ],
             [
              0.6666666666666666,
              "#ed7953"
             ],
             [
              0.7777777777777778,
              "#fb9f3a"
             ],
             [
              0.8888888888888888,
              "#fdca26"
             ],
             [
              1,
              "#f0f921"
             ]
            ],
            "type": "contour"
           }
          ],
          "contourcarpet": [
           {
            "colorbar": {
             "outlinewidth": 0,
             "ticks": ""
            },
            "type": "contourcarpet"
           }
          ],
          "heatmap": [
           {
            "colorbar": {
             "outlinewidth": 0,
             "ticks": ""
            },
            "colorscale": [
             [
              0,
              "#0d0887"
             ],
             [
              0.1111111111111111,
              "#46039f"
             ],
             [
              0.2222222222222222,
              "#7201a8"
             ],
             [
              0.3333333333333333,
              "#9c179e"
             ],
             [
              0.4444444444444444,
              "#bd3786"
             ],
             [
              0.5555555555555556,
              "#d8576b"
             ],
             [
              0.6666666666666666,
              "#ed7953"
             ],
             [
              0.7777777777777778,
              "#fb9f3a"
             ],
             [
              0.8888888888888888,
              "#fdca26"
             ],
             [
              1,
              "#f0f921"
             ]
            ],
            "type": "heatmap"
           }
          ],
          "heatmapgl": [
           {
            "colorbar": {
             "outlinewidth": 0,
             "ticks": ""
            },
            "colorscale": [
             [
              0,
              "#0d0887"
             ],
             [
              0.1111111111111111,
              "#46039f"
             ],
             [
              0.2222222222222222,
              "#7201a8"
             ],
             [
              0.3333333333333333,
              "#9c179e"
             ],
             [
              0.4444444444444444,
              "#bd3786"
             ],
             [
              0.5555555555555556,
              "#d8576b"
             ],
             [
              0.6666666666666666,
              "#ed7953"
             ],
             [
              0.7777777777777778,
              "#fb9f3a"
             ],
             [
              0.8888888888888888,
              "#fdca26"
             ],
             [
              1,
              "#f0f921"
             ]
            ],
            "type": "heatmapgl"
           }
          ],
          "histogram": [
           {
            "marker": {
             "pattern": {
              "fillmode": "overlay",
              "size": 10,
              "solidity": 0.2
             }
            },
            "type": "histogram"
           }
          ],
          "histogram2d": [
           {
            "colorbar": {
             "outlinewidth": 0,
             "ticks": ""
            },
            "colorscale": [
             [
              0,
              "#0d0887"
             ],
             [
              0.1111111111111111,
              "#46039f"
             ],
             [
              0.2222222222222222,
              "#7201a8"
             ],
             [
              0.3333333333333333,
              "#9c179e"
             ],
             [
              0.4444444444444444,
              "#bd3786"
             ],
             [
              0.5555555555555556,
              "#d8576b"
             ],
             [
              0.6666666666666666,
              "#ed7953"
             ],
             [
              0.7777777777777778,
              "#fb9f3a"
             ],
             [
              0.8888888888888888,
              "#fdca26"
             ],
             [
              1,
              "#f0f921"
             ]
            ],
            "type": "histogram2d"
           }
          ],
          "histogram2dcontour": [
           {
            "colorbar": {
             "outlinewidth": 0,
             "ticks": ""
            },
            "colorscale": [
             [
              0,
              "#0d0887"
             ],
             [
              0.1111111111111111,
              "#46039f"
             ],
             [
              0.2222222222222222,
              "#7201a8"
             ],
             [
              0.3333333333333333,
              "#9c179e"
             ],
             [
              0.4444444444444444,
              "#bd3786"
             ],
             [
              0.5555555555555556,
              "#d8576b"
             ],
             [
              0.6666666666666666,
              "#ed7953"
             ],
             [
              0.7777777777777778,
              "#fb9f3a"
             ],
             [
              0.8888888888888888,
              "#fdca26"
             ],
             [
              1,
              "#f0f921"
             ]
            ],
            "type": "histogram2dcontour"
           }
          ],
          "mesh3d": [
           {
            "colorbar": {
             "outlinewidth": 0,
             "ticks": ""
            },
            "type": "mesh3d"
           }
          ],
          "parcoords": [
           {
            "line": {
             "colorbar": {
              "outlinewidth": 0,
              "ticks": ""
             }
            },
            "type": "parcoords"
           }
          ],
          "pie": [
           {
            "automargin": true,
            "type": "pie"
           }
          ],
          "scatter": [
           {
            "fillpattern": {
             "fillmode": "overlay",
             "size": 10,
             "solidity": 0.2
            },
            "type": "scatter"
           }
          ],
          "scatter3d": [
           {
            "line": {
             "colorbar": {
              "outlinewidth": 0,
              "ticks": ""
             }
            },
            "marker": {
             "colorbar": {
              "outlinewidth": 0,
              "ticks": ""
             }
            },
            "type": "scatter3d"
           }
          ],
          "scattercarpet": [
           {
            "marker": {
             "colorbar": {
              "outlinewidth": 0,
              "ticks": ""
             }
            },
            "type": "scattercarpet"
           }
          ],
          "scattergeo": [
           {
            "marker": {
             "colorbar": {
              "outlinewidth": 0,
              "ticks": ""
             }
            },
            "type": "scattergeo"
           }
          ],
          "scattergl": [
           {
            "marker": {
             "colorbar": {
              "outlinewidth": 0,
              "ticks": ""
             }
            },
            "type": "scattergl"
           }
          ],
          "scattermapbox": [
           {
            "marker": {
             "colorbar": {
              "outlinewidth": 0,
              "ticks": ""
             }
            },
            "type": "scattermapbox"
           }
          ],
          "scatterpolar": [
           {
            "marker": {
             "colorbar": {
              "outlinewidth": 0,
              "ticks": ""
             }
            },
            "type": "scatterpolar"
           }
          ],
          "scatterpolargl": [
           {
            "marker": {
             "colorbar": {
              "outlinewidth": 0,
              "ticks": ""
             }
            },
            "type": "scatterpolargl"
           }
          ],
          "scatterternary": [
           {
            "marker": {
             "colorbar": {
              "outlinewidth": 0,
              "ticks": ""
             }
            },
            "type": "scatterternary"
           }
          ],
          "surface": [
           {
            "colorbar": {
             "outlinewidth": 0,
             "ticks": ""
            },
            "colorscale": [
             [
              0,
              "#0d0887"
             ],
             [
              0.1111111111111111,
              "#46039f"
             ],
             [
              0.2222222222222222,
              "#7201a8"
             ],
             [
              0.3333333333333333,
              "#9c179e"
             ],
             [
              0.4444444444444444,
              "#bd3786"
             ],
             [
              0.5555555555555556,
              "#d8576b"
             ],
             [
              0.6666666666666666,
              "#ed7953"
             ],
             [
              0.7777777777777778,
              "#fb9f3a"
             ],
             [
              0.8888888888888888,
              "#fdca26"
             ],
             [
              1,
              "#f0f921"
             ]
            ],
            "type": "surface"
           }
          ],
          "table": [
           {
            "cells": {
             "fill": {
              "color": "#EBF0F8"
             },
             "line": {
              "color": "white"
             }
            },
            "header": {
             "fill": {
              "color": "#C8D4E3"
             },
             "line": {
              "color": "white"
             }
            },
            "type": "table"
           }
          ]
         },
         "layout": {
          "annotationdefaults": {
           "arrowcolor": "#2a3f5f",
           "arrowhead": 0,
           "arrowwidth": 1
          },
          "autotypenumbers": "strict",
          "coloraxis": {
           "colorbar": {
            "outlinewidth": 0,
            "ticks": ""
           }
          },
          "colorscale": {
           "diverging": [
            [
             0,
             "#8e0152"
            ],
            [
             0.1,
             "#c51b7d"
            ],
            [
             0.2,
             "#de77ae"
            ],
            [
             0.3,
             "#f1b6da"
            ],
            [
             0.4,
             "#fde0ef"
            ],
            [
             0.5,
             "#f7f7f7"
            ],
            [
             0.6,
             "#e6f5d0"
            ],
            [
             0.7,
             "#b8e186"
            ],
            [
             0.8,
             "#7fbc41"
            ],
            [
             0.9,
             "#4d9221"
            ],
            [
             1,
             "#276419"
            ]
           ],
           "sequential": [
            [
             0,
             "#0d0887"
            ],
            [
             0.1111111111111111,
             "#46039f"
            ],
            [
             0.2222222222222222,
             "#7201a8"
            ],
            [
             0.3333333333333333,
             "#9c179e"
            ],
            [
             0.4444444444444444,
             "#bd3786"
            ],
            [
             0.5555555555555556,
             "#d8576b"
            ],
            [
             0.6666666666666666,
             "#ed7953"
            ],
            [
             0.7777777777777778,
             "#fb9f3a"
            ],
            [
             0.8888888888888888,
             "#fdca26"
            ],
            [
             1,
             "#f0f921"
            ]
           ],
           "sequentialminus": [
            [
             0,
             "#0d0887"
            ],
            [
             0.1111111111111111,
             "#46039f"
            ],
            [
             0.2222222222222222,
             "#7201a8"
            ],
            [
             0.3333333333333333,
             "#9c179e"
            ],
            [
             0.4444444444444444,
             "#bd3786"
            ],
            [
             0.5555555555555556,
             "#d8576b"
            ],
            [
             0.6666666666666666,
             "#ed7953"
            ],
            [
             0.7777777777777778,
             "#fb9f3a"
            ],
            [
             0.8888888888888888,
             "#fdca26"
            ],
            [
             1,
             "#f0f921"
            ]
           ]
          },
          "colorway": [
           "#636efa",
           "#EF553B",
           "#00cc96",
           "#ab63fa",
           "#FFA15A",
           "#19d3f3",
           "#FF6692",
           "#B6E880",
           "#FF97FF",
           "#FECB52"
          ],
          "font": {
           "color": "#2a3f5f"
          },
          "geo": {
           "bgcolor": "white",
           "lakecolor": "white",
           "landcolor": "#E5ECF6",
           "showlakes": true,
           "showland": true,
           "subunitcolor": "white"
          },
          "hoverlabel": {
           "align": "left"
          },
          "hovermode": "closest",
          "mapbox": {
           "style": "light"
          },
          "paper_bgcolor": "white",
          "plot_bgcolor": "#E5ECF6",
          "polar": {
           "angularaxis": {
            "gridcolor": "white",
            "linecolor": "white",
            "ticks": ""
           },
           "bgcolor": "#E5ECF6",
           "radialaxis": {
            "gridcolor": "white",
            "linecolor": "white",
            "ticks": ""
           }
          },
          "scene": {
           "xaxis": {
            "backgroundcolor": "#E5ECF6",
            "gridcolor": "white",
            "gridwidth": 2,
            "linecolor": "white",
            "showbackground": true,
            "ticks": "",
            "zerolinecolor": "white"
           },
           "yaxis": {
            "backgroundcolor": "#E5ECF6",
            "gridcolor": "white",
            "gridwidth": 2,
            "linecolor": "white",
            "showbackground": true,
            "ticks": "",
            "zerolinecolor": "white"
           },
           "zaxis": {
            "backgroundcolor": "#E5ECF6",
            "gridcolor": "white",
            "gridwidth": 2,
            "linecolor": "white",
            "showbackground": true,
            "ticks": "",
            "zerolinecolor": "white"
           }
          },
          "shapedefaults": {
           "line": {
            "color": "#2a3f5f"
           }
          },
          "ternary": {
           "aaxis": {
            "gridcolor": "white",
            "linecolor": "white",
            "ticks": ""
           },
           "baxis": {
            "gridcolor": "white",
            "linecolor": "white",
            "ticks": ""
           },
           "bgcolor": "#E5ECF6",
           "caxis": {
            "gridcolor": "white",
            "linecolor": "white",
            "ticks": ""
           }
          },
          "title": {
           "x": 0.05
          },
          "xaxis": {
           "automargin": true,
           "gridcolor": "white",
           "linecolor": "white",
           "ticks": "",
           "title": {
            "standoff": 15
           },
           "zerolinecolor": "white",
           "zerolinewidth": 2
          },
          "yaxis": {
           "automargin": true,
           "gridcolor": "white",
           "linecolor": "white",
           "ticks": "",
           "title": {
            "standoff": 15
           },
           "zerolinecolor": "white",
           "zerolinewidth": 2
          }
         }
        },
        "title": {
         "text": "Feature Importances"
        },
        "xaxis": {
         "anchor": "y",
         "domain": [
          0,
          1
         ],
         "title": {
          "text": "Feature"
         }
        },
        "yaxis": {
         "anchor": "x",
         "domain": [
          0,
          1
         ],
         "title": {
          "text": "Importance"
         }
        }
       }
      }
     },
     "metadata": {},
     "output_type": "display_data"
    }
   ],
   "source": [
    "# We reanalyze with `credit_card_default` as the action feature\n",
    "t_orig.analyze(context_features=context_features, action_features=action_features)\n",
    "\n",
    "# To get the feature contributions, we `react_into_trainee`. Robust metrics are recommended.\n",
    "t_orig.react_into_trainee(action_feature= action_features[0], contributions_robust=True)\n",
    "robust_feature_contributions = t_orig.react_aggregate(action_feature=action_features[0], robust=True, stats=['contribution'])\n",
    "plot_feature_importances(robust_feature_contributions)"
   ]
  },
  {
   "cell_type": "markdown",
   "id": "3e691ceb",
   "metadata": {},
   "source": [
    "Our initial analysis of our data shows that it is useful for the use case we are proposing (screening for credit defaults), and what is driving this utility. These tools open up many opportunities, including validating any other analytics workflows which use this data. Additionally, these insights can be generated live, as new data is added, and tracked over time so you have a comprehensive view of your data's utility.\n",
    "\n",
    "Now that we have successfully gained insight into our dataset out of the box, we are ready to move onto the next section of our project. Generating private, usable, and traceable data for utilization within and outside of the organization."
   ]
  },
  {
   "cell_type": "markdown",
   "id": "ec1b8818",
   "metadata": {},
   "source": [
    "## Generate\n",
    "\n",
    "### Make your data private, usable, and traceable\n",
    "\n",
    "You want to share your dataset outside of your organization for testing with external products. You must maintain the data's privacy, utility, and lineage. So, you turn to Howso to synthesize and watermark the data. Then you generate a few predictions of defaults to make sure everything is acceptable and accurate."
   ]
  },
  {
   "cell_type": "markdown",
   "id": "cd1a903d",
   "metadata": {},
   "source": [
    "#### Synthesize and Watermark"
   ]
  },
  {
   "cell_type": "code",
   "execution_count": 5,
   "id": "0463e7ed",
   "metadata": {},
   "outputs": [],
   "source": [
    "def encode_wm(df,features,wm_string,hyperparameters):\n",
    "    '''\n",
    "    Function to run watermarker for a given watermark string.\n",
    "\n",
    "    Parameters\n",
    "    ----------\n",
    "    df : DataFrame\n",
    "        A DataFrame containing the dataset to watermark\n",
    "    features : dict\n",
    "        A dictionary of the dataset's feature attributes\n",
    "    wm_string : str\n",
    "        Watermark value\n",
    "    hyperparameters :\n",
    "        Synthesis hyperparameters\n",
    "\n",
    "    Returns\n",
    "    -------\n",
    "    wm_attributes : dict\n",
    "        Dictionary of watermark attributes\n",
    "    wm_og_df : DataFrame\n",
    "        A watermarked DataFrame\n",
    "    '''\n",
    "    # Initialize Watermarker\n",
    "    print('Initializing Watermarker')\n",
    "    watermarker = Watermarker(features=features, reference_df=df_orig, trainee_hyperparameters=hyperparameters)\n",
    "\n",
    "    # Set up Watermarking configuration\n",
    "    print('Configuring Watermarker')\n",
    "    wm_attributes = watermarker.infer_attributes(watermark=wm_string,df=df,base=2.0)#, sorting_features=['customer_id','name','occupation_type','credit_card_default','migrant_worker','total_family_members']) #could auto determine\n",
    "\n",
    "    # Watermark\n",
    "    print('Watermarking')\n",
    "    wm_og_df = watermarker.watermark_string(\n",
    "        df,\n",
    "        wm_string,\n",
    "        wm_attributes,\n",
    "        generate_new_cases=\"always\",\n",
    "        desired_conviction=5.0\n",
    "    )\n",
    "\n",
    "    return wm_attributes, wm_og_df\n",
    "\n",
    "def detect_wm(wm_df,wm_attributes,wm_string,decode_method='complete'):\n",
    "    '''\n",
    "    Function to run watermarker for a given watermark string.\n",
    "\n",
    "    Parameters\n",
    "    ----------\n",
    "    wm_df : DataFrame\n",
    "        A watermarked DataFrame\n",
    "    wm_attributes : dict\n",
    "        Dictionary of watermark attributes\n",
    "    wm_string : str\n",
    "        Watermark value\n",
    "\n",
    "    Returns\n",
    "    -------\n",
    "    score : float\n",
    "        Detection score of Watermark's presence\n",
    "    interpretation : str\n",
    "        Interpretation of the score\n",
    "\n",
    "    '''\n",
    "    # Initialize Watermarker\n",
    "    watermarker = Watermarker(features=features, reference_df=df)\n",
    "\n",
    "    print('Evaluating Watermarker')\n",
    "    if decode_method == 'complete':\n",
    "        score, interpretation, detected_wms = watermarker.evaluate_watermark_presence(wm_df, wm_string, wm_attributes)\n",
    "\n",
    "    return score, interpretation, detected_wms"
   ]
  },
  {
   "cell_type": "code",
   "execution_count": 6,
   "id": "b0e3bfa8",
   "metadata": {
    "execution": {
     "iopub.execute_input": "2024-05-04T15:52:00.548383Z",
     "iopub.status.busy": "2024-05-04T15:52:00.548198Z",
     "iopub.status.idle": "2024-05-04T15:52:53.082499Z",
     "shell.execute_reply": "2024-05-04T15:52:53.081892Z"
    },
    "papermill": {
     "duration": 118.795265,
     "end_time": "2022-10-07T00:32:57.473360",
     "exception": false,
     "start_time": "2022-10-07T00:30:58.678095",
     "status": "completed"
    },
    "tags": []
   },
   "outputs": [
    {
     "name": "stdout",
     "output_type": "stream",
     "text": [
      "Synthesizing\n",
      "Initializing Watermarker\n",
      "Configuring Watermarker\n",
      "Watermarking\n"
     ]
    },
    {
     "name": "stderr",
     "output_type": "stream",
     "text": [
      "/Users/bridgettebefort/opt/anaconda3/envs/howso-june24-v2/lib/python3.10/site-packages/howso/watermarker/watermarker.py:268: UserWarning:\n",
      "\n",
      "There were 75 failed encodings while attempting to preserve privacy. These values remain unchanged.\n",
      "\n"
     ]
    }
   ],
   "source": [
    "# Same size as original dataset\n",
    "samples = len(df_orig)\n",
    "\n",
    "# We use the previously created trainee\n",
    "with Synthesizer(verbose=0) as s:\n",
    "    s.load_trainee(trainee_name=\"life_cycle_trainee_orig\")\n",
    "    print('Synthesizing')\n",
    "    synth_data = s.synthesize_cases(n_samples=samples, generate_new_cases=\"always\")\n",
    "\n",
    "    hp = s.hyperparams\n",
    "\n",
    "    # Set up Watermarker specifications\n",
    "    watermark_string = \"Dont Leave Home Without It\"\n",
    "    wm_attributes, wm_df = encode_wm(synth_data,features,watermark_string,hyperparameters=hp)"
   ]
  },
  {
   "cell_type": "markdown",
   "id": "e901b8cd",
   "metadata": {},
   "source": [
    "**Original Data**"
   ]
  },
  {
   "cell_type": "code",
   "execution_count": 7,
   "id": "86c3d208",
   "metadata": {},
   "outputs": [
    {
     "data": {
      "text/html": [
       "<div>\n",
       "<style scoped>\n",
       "    .dataframe tbody tr th:only-of-type {\n",
       "        vertical-align: middle;\n",
       "    }\n",
       "\n",
       "    .dataframe tbody tr th {\n",
       "        vertical-align: top;\n",
       "    }\n",
       "\n",
       "    .dataframe thead th {\n",
       "        text-align: right;\n",
       "    }\n",
       "</style>\n",
       "<table border=\"1\" class=\"dataframe\">\n",
       "  <thead>\n",
       "    <tr style=\"text-align: right;\">\n",
       "      <th></th>\n",
       "      <th>customer_id</th>\n",
       "      <th>name</th>\n",
       "      <th>age</th>\n",
       "      <th>gender</th>\n",
       "      <th>owns_car</th>\n",
       "      <th>owns_house</th>\n",
       "      <th>no_of_children</th>\n",
       "      <th>net_yearly_income</th>\n",
       "      <th>no_of_days_employed</th>\n",
       "      <th>occupation_type</th>\n",
       "      <th>total_family_members</th>\n",
       "      <th>migrant_worker</th>\n",
       "      <th>yearly_debt_payments</th>\n",
       "      <th>credit_limit</th>\n",
       "      <th>credit_limit_used(%)</th>\n",
       "      <th>credit_score</th>\n",
       "      <th>prev_defaults</th>\n",
       "      <th>default_in_last_6months</th>\n",
       "      <th>credit_card_default</th>\n",
       "    </tr>\n",
       "  </thead>\n",
       "  <tbody>\n",
       "    <tr>\n",
       "      <th>0</th>\n",
       "      <td>CST_162273</td>\n",
       "      <td>Goh</td>\n",
       "      <td>31</td>\n",
       "      <td>F</td>\n",
       "      <td>N</td>\n",
       "      <td>Y</td>\n",
       "      <td>0.0</td>\n",
       "      <td>74398.73</td>\n",
       "      <td>365241.0</td>\n",
       "      <td>Unknown</td>\n",
       "      <td>2.0</td>\n",
       "      <td>0.0</td>\n",
       "      <td>25595.16</td>\n",
       "      <td>10137.77</td>\n",
       "      <td>73</td>\n",
       "      <td>532.0</td>\n",
       "      <td>0</td>\n",
       "      <td>1</td>\n",
       "      <td>1</td>\n",
       "    </tr>\n",
       "    <tr>\n",
       "      <th>1</th>\n",
       "      <td>CST_132404</td>\n",
       "      <td>Chris</td>\n",
       "      <td>46</td>\n",
       "      <td>F</td>\n",
       "      <td>N</td>\n",
       "      <td>Y</td>\n",
       "      <td>0.0</td>\n",
       "      <td>199912.86</td>\n",
       "      <td>1558.0</td>\n",
       "      <td>Laborers</td>\n",
       "      <td>2.0</td>\n",
       "      <td>0.0</td>\n",
       "      <td>21818.50</td>\n",
       "      <td>22545.62</td>\n",
       "      <td>28</td>\n",
       "      <td>812.0</td>\n",
       "      <td>0</td>\n",
       "      <td>0</td>\n",
       "      <td>0</td>\n",
       "    </tr>\n",
       "    <tr>\n",
       "      <th>2</th>\n",
       "      <td>CST_133245</td>\n",
       "      <td>Karen</td>\n",
       "      <td>28</td>\n",
       "      <td>F</td>\n",
       "      <td>N</td>\n",
       "      <td>Y</td>\n",
       "      <td>1.0</td>\n",
       "      <td>74906.22</td>\n",
       "      <td>2363.0</td>\n",
       "      <td>Sales staff</td>\n",
       "      <td>3.0</td>\n",
       "      <td>0.0</td>\n",
       "      <td>NaN</td>\n",
       "      <td>11957.91</td>\n",
       "      <td>35</td>\n",
       "      <td>719.0</td>\n",
       "      <td>0</td>\n",
       "      <td>0</td>\n",
       "      <td>0</td>\n",
       "    </tr>\n",
       "    <tr>\n",
       "      <th>3</th>\n",
       "      <td>CST_122834</td>\n",
       "      <td>R</td>\n",
       "      <td>26</td>\n",
       "      <td>F</td>\n",
       "      <td>N</td>\n",
       "      <td>Y</td>\n",
       "      <td>1.0</td>\n",
       "      <td>257895.70</td>\n",
       "      <td>2026.0</td>\n",
       "      <td>Sales staff</td>\n",
       "      <td>3.0</td>\n",
       "      <td>0.0</td>\n",
       "      <td>40421.56</td>\n",
       "      <td>32548.91</td>\n",
       "      <td>28</td>\n",
       "      <td>824.0</td>\n",
       "      <td>0</td>\n",
       "      <td>0</td>\n",
       "      <td>0</td>\n",
       "    </tr>\n",
       "    <tr>\n",
       "      <th>4</th>\n",
       "      <td>CST_135145</td>\n",
       "      <td>Yereth</td>\n",
       "      <td>30</td>\n",
       "      <td>F</td>\n",
       "      <td>N</td>\n",
       "      <td>N</td>\n",
       "      <td>0.0</td>\n",
       "      <td>202251.14</td>\n",
       "      <td>1076.0</td>\n",
       "      <td>Laborers</td>\n",
       "      <td>2.0</td>\n",
       "      <td>0.0</td>\n",
       "      <td>9023.52</td>\n",
       "      <td>37902.93</td>\n",
       "      <td>12</td>\n",
       "      <td>715.0</td>\n",
       "      <td>0</td>\n",
       "      <td>0</td>\n",
       "      <td>0</td>\n",
       "    </tr>\n",
       "    <tr>\n",
       "      <th>...</th>\n",
       "      <td>...</td>\n",
       "      <td>...</td>\n",
       "      <td>...</td>\n",
       "      <td>...</td>\n",
       "      <td>...</td>\n",
       "      <td>...</td>\n",
       "      <td>...</td>\n",
       "      <td>...</td>\n",
       "      <td>...</td>\n",
       "      <td>...</td>\n",
       "      <td>...</td>\n",
       "      <td>...</td>\n",
       "      <td>...</td>\n",
       "      <td>...</td>\n",
       "      <td>...</td>\n",
       "      <td>...</td>\n",
       "      <td>...</td>\n",
       "      <td>...</td>\n",
       "      <td>...</td>\n",
       "    </tr>\n",
       "    <tr>\n",
       "      <th>395</th>\n",
       "      <td>CST_106572</td>\n",
       "      <td>Kylie MacLellan</td>\n",
       "      <td>43</td>\n",
       "      <td>F</td>\n",
       "      <td>Y</td>\n",
       "      <td>Y</td>\n",
       "      <td>0.0</td>\n",
       "      <td>56799.62</td>\n",
       "      <td>1576.0</td>\n",
       "      <td>Managers</td>\n",
       "      <td>2.0</td>\n",
       "      <td>0.0</td>\n",
       "      <td>15499.85</td>\n",
       "      <td>17398.48</td>\n",
       "      <td>49</td>\n",
       "      <td>925.0</td>\n",
       "      <td>0</td>\n",
       "      <td>0</td>\n",
       "      <td>0</td>\n",
       "    </tr>\n",
       "    <tr>\n",
       "      <th>396</th>\n",
       "      <td>CST_143462</td>\n",
       "      <td>Junko</td>\n",
       "      <td>41</td>\n",
       "      <td>F</td>\n",
       "      <td>N</td>\n",
       "      <td>N</td>\n",
       "      <td>0.0</td>\n",
       "      <td>90868.31</td>\n",
       "      <td>365251.0</td>\n",
       "      <td>Unknown</td>\n",
       "      <td>2.0</td>\n",
       "      <td>0.0</td>\n",
       "      <td>10980.23</td>\n",
       "      <td>21503.75</td>\n",
       "      <td>6</td>\n",
       "      <td>945.0</td>\n",
       "      <td>0</td>\n",
       "      <td>0</td>\n",
       "      <td>0</td>\n",
       "    </tr>\n",
       "    <tr>\n",
       "      <th>397</th>\n",
       "      <td>CST_126609</td>\n",
       "      <td>Tim Kelly</td>\n",
       "      <td>41</td>\n",
       "      <td>M</td>\n",
       "      <td>Y</td>\n",
       "      <td>N</td>\n",
       "      <td>0.0</td>\n",
       "      <td>177922.40</td>\n",
       "      <td>1427.0</td>\n",
       "      <td>Drivers</td>\n",
       "      <td>2.0</td>\n",
       "      <td>1.0</td>\n",
       "      <td>50287.28</td>\n",
       "      <td>67604.78</td>\n",
       "      <td>61</td>\n",
       "      <td>776.0</td>\n",
       "      <td>0</td>\n",
       "      <td>0</td>\n",
       "      <td>0</td>\n",
       "    </tr>\n",
       "    <tr>\n",
       "      <th>398</th>\n",
       "      <td>CST_128899</td>\n",
       "      <td>Tetsushi</td>\n",
       "      <td>23</td>\n",
       "      <td>F</td>\n",
       "      <td>Y</td>\n",
       "      <td>Y</td>\n",
       "      <td>0.0</td>\n",
       "      <td>214800.11</td>\n",
       "      <td>654.0</td>\n",
       "      <td>Managers</td>\n",
       "      <td>2.0</td>\n",
       "      <td>0.0</td>\n",
       "      <td>71136.88</td>\n",
       "      <td>32600.86</td>\n",
       "      <td>39</td>\n",
       "      <td>789.0</td>\n",
       "      <td>0</td>\n",
       "      <td>0</td>\n",
       "      <td>0</td>\n",
       "    </tr>\n",
       "    <tr>\n",
       "      <th>399</th>\n",
       "      <td>CST_135222</td>\n",
       "      <td>Alan</td>\n",
       "      <td>26</td>\n",
       "      <td>M</td>\n",
       "      <td>N</td>\n",
       "      <td>Y</td>\n",
       "      <td>0.0</td>\n",
       "      <td>209613.90</td>\n",
       "      <td>365249.0</td>\n",
       "      <td>Unknown</td>\n",
       "      <td>2.0</td>\n",
       "      <td>0.0</td>\n",
       "      <td>15002.87</td>\n",
       "      <td>31646.02</td>\n",
       "      <td>14</td>\n",
       "      <td>913.0</td>\n",
       "      <td>0</td>\n",
       "      <td>0</td>\n",
       "      <td>0</td>\n",
       "    </tr>\n",
       "  </tbody>\n",
       "</table>\n",
       "<p>400 rows × 19 columns</p>\n",
       "</div>"
      ],
      "text/plain": [
       "    customer_id             name  age gender owns_car owns_house  \\\n",
       "0    CST_162273              Goh   31      F        N          Y   \n",
       "1    CST_132404            Chris   46      F        N          Y   \n",
       "2    CST_133245            Karen   28      F        N          Y   \n",
       "3    CST_122834                R   26      F        N          Y   \n",
       "4    CST_135145           Yereth   30      F        N          N   \n",
       "..          ...              ...  ...    ...      ...        ...   \n",
       "395  CST_106572  Kylie MacLellan   43      F        Y          Y   \n",
       "396  CST_143462            Junko   41      F        N          N   \n",
       "397  CST_126609        Tim Kelly   41      M        Y          N   \n",
       "398  CST_128899         Tetsushi   23      F        Y          Y   \n",
       "399  CST_135222             Alan   26      M        N          Y   \n",
       "\n",
       "     no_of_children  net_yearly_income  no_of_days_employed occupation_type  \\\n",
       "0               0.0           74398.73             365241.0         Unknown   \n",
       "1               0.0          199912.86               1558.0        Laborers   \n",
       "2               1.0           74906.22               2363.0     Sales staff   \n",
       "3               1.0          257895.70               2026.0     Sales staff   \n",
       "4               0.0          202251.14               1076.0        Laborers   \n",
       "..              ...                ...                  ...             ...   \n",
       "395             0.0           56799.62               1576.0        Managers   \n",
       "396             0.0           90868.31             365251.0         Unknown   \n",
       "397             0.0          177922.40               1427.0         Drivers   \n",
       "398             0.0          214800.11                654.0        Managers   \n",
       "399             0.0          209613.90             365249.0         Unknown   \n",
       "\n",
       "     total_family_members  migrant_worker  yearly_debt_payments  credit_limit  \\\n",
       "0                     2.0             0.0              25595.16      10137.77   \n",
       "1                     2.0             0.0              21818.50      22545.62   \n",
       "2                     3.0             0.0                   NaN      11957.91   \n",
       "3                     3.0             0.0              40421.56      32548.91   \n",
       "4                     2.0             0.0               9023.52      37902.93   \n",
       "..                    ...             ...                   ...           ...   \n",
       "395                   2.0             0.0              15499.85      17398.48   \n",
       "396                   2.0             0.0              10980.23      21503.75   \n",
       "397                   2.0             1.0              50287.28      67604.78   \n",
       "398                   2.0             0.0              71136.88      32600.86   \n",
       "399                   2.0             0.0              15002.87      31646.02   \n",
       "\n",
       "     credit_limit_used(%)  credit_score  prev_defaults  \\\n",
       "0                      73         532.0              0   \n",
       "1                      28         812.0              0   \n",
       "2                      35         719.0              0   \n",
       "3                      28         824.0              0   \n",
       "4                      12         715.0              0   \n",
       "..                    ...           ...            ...   \n",
       "395                    49         925.0              0   \n",
       "396                     6         945.0              0   \n",
       "397                    61         776.0              0   \n",
       "398                    39         789.0              0   \n",
       "399                    14         913.0              0   \n",
       "\n",
       "     default_in_last_6months  credit_card_default  \n",
       "0                          1                    1  \n",
       "1                          0                    0  \n",
       "2                          0                    0  \n",
       "3                          0                    0  \n",
       "4                          0                    0  \n",
       "..                       ...                  ...  \n",
       "395                        0                    0  \n",
       "396                        0                    0  \n",
       "397                        0                    0  \n",
       "398                        0                    0  \n",
       "399                        0                    0  \n",
       "\n",
       "[400 rows x 19 columns]"
      ]
     },
     "execution_count": 7,
     "metadata": {},
     "output_type": "execute_result"
    }
   ],
   "source": [
    "# Print out original dataset\n",
    "df_orig"
   ]
  },
  {
   "cell_type": "markdown",
   "id": "9a53269e",
   "metadata": {},
   "source": [
    "**Synthesized and Watermarked Data**"
   ]
  },
  {
   "cell_type": "code",
   "execution_count": 8,
   "id": "266e2a58",
   "metadata": {},
   "outputs": [
    {
     "data": {
      "text/html": [
       "<div>\n",
       "<style scoped>\n",
       "    .dataframe tbody tr th:only-of-type {\n",
       "        vertical-align: middle;\n",
       "    }\n",
       "\n",
       "    .dataframe tbody tr th {\n",
       "        vertical-align: top;\n",
       "    }\n",
       "\n",
       "    .dataframe thead th {\n",
       "        text-align: right;\n",
       "    }\n",
       "</style>\n",
       "<table border=\"1\" class=\"dataframe\">\n",
       "  <thead>\n",
       "    <tr style=\"text-align: right;\">\n",
       "      <th></th>\n",
       "      <th>customer_id</th>\n",
       "      <th>name</th>\n",
       "      <th>age</th>\n",
       "      <th>gender</th>\n",
       "      <th>owns_car</th>\n",
       "      <th>owns_house</th>\n",
       "      <th>no_of_children</th>\n",
       "      <th>net_yearly_income</th>\n",
       "      <th>no_of_days_employed</th>\n",
       "      <th>occupation_type</th>\n",
       "      <th>total_family_members</th>\n",
       "      <th>migrant_worker</th>\n",
       "      <th>yearly_debt_payments</th>\n",
       "      <th>credit_limit</th>\n",
       "      <th>credit_limit_used(%)</th>\n",
       "      <th>credit_score</th>\n",
       "      <th>prev_defaults</th>\n",
       "      <th>default_in_last_6months</th>\n",
       "      <th>credit_card_default</th>\n",
       "    </tr>\n",
       "  </thead>\n",
       "  <tbody>\n",
       "    <tr>\n",
       "      <th>347</th>\n",
       "      <td>CST_100084</td>\n",
       "      <td>John McCrank</td>\n",
       "      <td>40</td>\n",
       "      <td>M</td>\n",
       "      <td>Y</td>\n",
       "      <td>Y</td>\n",
       "      <td>2.0</td>\n",
       "      <td>339566.44</td>\n",
       "      <td>3731.0</td>\n",
       "      <td>Core staff</td>\n",
       "      <td>4.0</td>\n",
       "      <td>0.0</td>\n",
       "      <td>14439.20</td>\n",
       "      <td>44127.90</td>\n",
       "      <td>49</td>\n",
       "      <td>808.0</td>\n",
       "      <td>0</td>\n",
       "      <td>0</td>\n",
       "      <td>0</td>\n",
       "    </tr>\n",
       "    <tr>\n",
       "      <th>57</th>\n",
       "      <td>CST_100084</td>\n",
       "      <td>Sarah McBride</td>\n",
       "      <td>25</td>\n",
       "      <td>F</td>\n",
       "      <td>N</td>\n",
       "      <td>Y</td>\n",
       "      <td>1.0</td>\n",
       "      <td>463742.94</td>\n",
       "      <td>70526.0</td>\n",
       "      <td>HR staff</td>\n",
       "      <td>1.0</td>\n",
       "      <td>0.0</td>\n",
       "      <td>57967.86</td>\n",
       "      <td>83167.75</td>\n",
       "      <td>70</td>\n",
       "      <td>836.0</td>\n",
       "      <td>0</td>\n",
       "      <td>0</td>\n",
       "      <td>0</td>\n",
       "    </tr>\n",
       "    <tr>\n",
       "      <th>294</th>\n",
       "      <td>CST_100086</td>\n",
       "      <td>ita Bose</td>\n",
       "      <td>43</td>\n",
       "      <td>F</td>\n",
       "      <td>N</td>\n",
       "      <td>N</td>\n",
       "      <td>0.0</td>\n",
       "      <td>70526.93</td>\n",
       "      <td>70526.0</td>\n",
       "      <td>Core staff</td>\n",
       "      <td>2.0</td>\n",
       "      <td>0.0</td>\n",
       "      <td>8815.87</td>\n",
       "      <td>17631.72</td>\n",
       "      <td>31</td>\n",
       "      <td>708.0</td>\n",
       "      <td>0</td>\n",
       "      <td>0</td>\n",
       "      <td>0</td>\n",
       "    </tr>\n",
       "    <tr>\n",
       "      <th>303</th>\n",
       "      <td>CST_101406</td>\n",
       "      <td>Huw Jones</td>\n",
       "      <td>63</td>\n",
       "      <td>F</td>\n",
       "      <td>N</td>\n",
       "      <td>Y</td>\n",
       "      <td>2.0</td>\n",
       "      <td>463742.92</td>\n",
       "      <td>70526.0</td>\n",
       "      <td>Low-skill Laborers</td>\n",
       "      <td>4.0</td>\n",
       "      <td>0.0</td>\n",
       "      <td>74351.87</td>\n",
       "      <td>115935.74</td>\n",
       "      <td>23</td>\n",
       "      <td>1007.0</td>\n",
       "      <td>0</td>\n",
       "      <td>0</td>\n",
       "      <td>0</td>\n",
       "    </tr>\n",
       "    <tr>\n",
       "      <th>21</th>\n",
       "      <td>CST_101406</td>\n",
       "      <td>Olivia</td>\n",
       "      <td>39</td>\n",
       "      <td>F</td>\n",
       "      <td>N</td>\n",
       "      <td>Y</td>\n",
       "      <td>0.0</td>\n",
       "      <td>86853.21</td>\n",
       "      <td>70526.0</td>\n",
       "      <td>Unknown</td>\n",
       "      <td>2.0</td>\n",
       "      <td>0.0</td>\n",
       "      <td>37947.97</td>\n",
       "      <td>16656.11</td>\n",
       "      <td>46</td>\n",
       "      <td>879.0</td>\n",
       "      <td>0</td>\n",
       "      <td>0</td>\n",
       "      <td>0</td>\n",
       "    </tr>\n",
       "    <tr>\n",
       "      <th>...</th>\n",
       "      <td>...</td>\n",
       "      <td>...</td>\n",
       "      <td>...</td>\n",
       "      <td>...</td>\n",
       "      <td>...</td>\n",
       "      <td>...</td>\n",
       "      <td>...</td>\n",
       "      <td>...</td>\n",
       "      <td>...</td>\n",
       "      <td>...</td>\n",
       "      <td>...</td>\n",
       "      <td>...</td>\n",
       "      <td>...</td>\n",
       "      <td>...</td>\n",
       "      <td>...</td>\n",
       "      <td>...</td>\n",
       "      <td>...</td>\n",
       "      <td>...</td>\n",
       "      <td>...</td>\n",
       "    </tr>\n",
       "    <tr>\n",
       "      <th>166</th>\n",
       "      <td>CST_165415</td>\n",
       "      <td>Baertlein</td>\n",
       "      <td>31</td>\n",
       "      <td>F</td>\n",
       "      <td>N</td>\n",
       "      <td>Y</td>\n",
       "      <td>0.0</td>\n",
       "      <td>239142.98</td>\n",
       "      <td>114551.0</td>\n",
       "      <td>Security staff</td>\n",
       "      <td>2.0</td>\n",
       "      <td>1.0</td>\n",
       "      <td>23338.05</td>\n",
       "      <td>69117.47</td>\n",
       "      <td>63</td>\n",
       "      <td>915.0</td>\n",
       "      <td>0</td>\n",
       "      <td>0</td>\n",
       "      <td>0</td>\n",
       "    </tr>\n",
       "    <tr>\n",
       "      <th>263</th>\n",
       "      <td>CST_165425</td>\n",
       "      <td>Kaori Kaneko</td>\n",
       "      <td>26</td>\n",
       "      <td>F</td>\n",
       "      <td>None</td>\n",
       "      <td>Y</td>\n",
       "      <td>1.0</td>\n",
       "      <td>238118.97</td>\n",
       "      <td>34854.0</td>\n",
       "      <td>Laborers</td>\n",
       "      <td>3.0</td>\n",
       "      <td>0.0</td>\n",
       "      <td>2271.71</td>\n",
       "      <td>36349.48</td>\n",
       "      <td>11</td>\n",
       "      <td>575.0</td>\n",
       "      <td>0</td>\n",
       "      <td>0</td>\n",
       "      <td>0</td>\n",
       "    </tr>\n",
       "    <tr>\n",
       "      <th>34</th>\n",
       "      <td>CST_165697</td>\n",
       "      <td>Geller</td>\n",
       "      <td>55</td>\n",
       "      <td>F</td>\n",
       "      <td>N</td>\n",
       "      <td>Y</td>\n",
       "      <td>0.0</td>\n",
       "      <td>108070.98</td>\n",
       "      <td>34854.0</td>\n",
       "      <td>Sales staff</td>\n",
       "      <td>1.0</td>\n",
       "      <td>0.0</td>\n",
       "      <td>18655.71</td>\n",
       "      <td>69117.49</td>\n",
       "      <td>90</td>\n",
       "      <td>831.0</td>\n",
       "      <td>0</td>\n",
       "      <td>0</td>\n",
       "      <td>0</td>\n",
       "    </tr>\n",
       "    <tr>\n",
       "      <th>195</th>\n",
       "      <td>CST_165697</td>\n",
       "      <td>Huw</td>\n",
       "      <td>58</td>\n",
       "      <td>M</td>\n",
       "      <td>N</td>\n",
       "      <td>Y</td>\n",
       "      <td>0.0</td>\n",
       "      <td>239142.98</td>\n",
       "      <td>34854.0</td>\n",
       "      <td>Laborers</td>\n",
       "      <td>2.0</td>\n",
       "      <td>1.0</td>\n",
       "      <td>35039.72</td>\n",
       "      <td>3581.49</td>\n",
       "      <td>4</td>\n",
       "      <td>703.0</td>\n",
       "      <td>0</td>\n",
       "      <td>0</td>\n",
       "      <td>0</td>\n",
       "    </tr>\n",
       "    <tr>\n",
       "      <th>71</th>\n",
       "      <td>CST_165793</td>\n",
       "      <td>raden Reddall</td>\n",
       "      <td>38</td>\n",
       "      <td>F</td>\n",
       "      <td>N</td>\n",
       "      <td>Y</td>\n",
       "      <td>0.0</td>\n",
       "      <td>238119.00</td>\n",
       "      <td>296998.0</td>\n",
       "      <td>Unknown</td>\n",
       "      <td>2.0</td>\n",
       "      <td>0.0</td>\n",
       "      <td>35039.70</td>\n",
       "      <td>69117.49</td>\n",
       "      <td>2</td>\n",
       "      <td>955.0</td>\n",
       "      <td>0</td>\n",
       "      <td>0</td>\n",
       "      <td>0</td>\n",
       "    </tr>\n",
       "  </tbody>\n",
       "</table>\n",
       "<p>400 rows × 19 columns</p>\n",
       "</div>"
      ],
      "text/plain": [
       "    customer_id           name  age gender owns_car owns_house  \\\n",
       "347  CST_100084   John McCrank   40      M        Y          Y   \n",
       "57   CST_100084  Sarah McBride   25      F        N          Y   \n",
       "294  CST_100086       ita Bose   43      F        N          N   \n",
       "303  CST_101406      Huw Jones   63      F        N          Y   \n",
       "21   CST_101406         Olivia   39      F        N          Y   \n",
       "..          ...            ...  ...    ...      ...        ...   \n",
       "166  CST_165415      Baertlein   31      F        N          Y   \n",
       "263  CST_165425   Kaori Kaneko   26      F     None          Y   \n",
       "34   CST_165697         Geller   55      F        N          Y   \n",
       "195  CST_165697            Huw   58      M        N          Y   \n",
       "71   CST_165793  raden Reddall   38      F        N          Y   \n",
       "\n",
       "     no_of_children  net_yearly_income  no_of_days_employed  \\\n",
       "347             2.0          339566.44               3731.0   \n",
       "57              1.0          463742.94              70526.0   \n",
       "294             0.0           70526.93              70526.0   \n",
       "303             2.0          463742.92              70526.0   \n",
       "21              0.0           86853.21              70526.0   \n",
       "..              ...                ...                  ...   \n",
       "166             0.0          239142.98             114551.0   \n",
       "263             1.0          238118.97              34854.0   \n",
       "34              0.0          108070.98              34854.0   \n",
       "195             0.0          239142.98              34854.0   \n",
       "71              0.0          238119.00             296998.0   \n",
       "\n",
       "        occupation_type  total_family_members  migrant_worker  \\\n",
       "347          Core staff                   4.0             0.0   \n",
       "57             HR staff                   1.0             0.0   \n",
       "294          Core staff                   2.0             0.0   \n",
       "303  Low-skill Laborers                   4.0             0.0   \n",
       "21              Unknown                   2.0             0.0   \n",
       "..                  ...                   ...             ...   \n",
       "166      Security staff                   2.0             1.0   \n",
       "263            Laborers                   3.0             0.0   \n",
       "34          Sales staff                   1.0             0.0   \n",
       "195            Laborers                   2.0             1.0   \n",
       "71              Unknown                   2.0             0.0   \n",
       "\n",
       "     yearly_debt_payments  credit_limit  credit_limit_used(%)  credit_score  \\\n",
       "347              14439.20      44127.90                    49         808.0   \n",
       "57               57967.86      83167.75                    70         836.0   \n",
       "294               8815.87      17631.72                    31         708.0   \n",
       "303              74351.87     115935.74                    23        1007.0   \n",
       "21               37947.97      16656.11                    46         879.0   \n",
       "..                    ...           ...                   ...           ...   \n",
       "166              23338.05      69117.47                    63         915.0   \n",
       "263               2271.71      36349.48                    11         575.0   \n",
       "34               18655.71      69117.49                    90         831.0   \n",
       "195              35039.72       3581.49                     4         703.0   \n",
       "71               35039.70      69117.49                     2         955.0   \n",
       "\n",
       "     prev_defaults  default_in_last_6months  credit_card_default  \n",
       "347              0                        0                    0  \n",
       "57               0                        0                    0  \n",
       "294              0                        0                    0  \n",
       "303              0                        0                    0  \n",
       "21               0                        0                    0  \n",
       "..             ...                      ...                  ...  \n",
       "166              0                        0                    0  \n",
       "263              0                        0                    0  \n",
       "34               0                        0                    0  \n",
       "195              0                        0                    0  \n",
       "71               0                        0                    0  \n",
       "\n",
       "[400 rows x 19 columns]"
      ]
     },
     "execution_count": 8,
     "metadata": {},
     "output_type": "execute_result"
    }
   ],
   "source": [
    "# Print our watermarked dataset\n",
    "wm_df[cols]"
   ]
  },
  {
   "cell_type": "markdown",
   "id": "349a6f43",
   "metadata": {},
   "source": [
    "#### Generate Inferences\n",
    "\n",
    "**How well does the synthesized and watermarked data predict defaults? Are there any issues?**\n",
    "\n",
    "First, we look at the overall accuracy of the synthesized and watermarked dataset."
   ]
  },
  {
   "cell_type": "code",
   "execution_count": 9,
   "id": "4dbf2d8a",
   "metadata": {},
   "outputs": [
    {
     "name": "stdout",
     "output_type": "stream",
     "text": [
      "Synthetic, watermarked data accuracy: 91%\n",
      "Recall the feature's accuracy in the original data was : 94%\n"
     ]
    }
   ],
   "source": [
    "# Infer the feature attributes on the original dataset\n",
    "wm_features = infer_feature_attributes(wm_df)\n",
    "\n",
    "# Create the Trainee\n",
    "t_prod = Trainee(features=wm_features, name=\"life_cycle_trainee_prod\")\n",
    "t_prod.train(wm_df)\n",
    "t_prod.analyze(action_features=action_features, context_features=context_features)\n",
    "\n",
    "t_prod.react_into_trainee(action_feature=action_features[0], residuals=True)\n",
    "stats = t_prod.react_aggregate()\n",
    "print(f\"Synthetic, watermarked data accuracy: {stats[action_features[0]]['accuracy']:.0%}\")\n",
    "print(f\"Recall the feature's accuracy in the original data was : {sorted_acc['credit_card_default']:.0%}\")"
   ]
  },
  {
   "cell_type": "markdown",
   "id": "05dfbde9",
   "metadata": {},
   "source": [
    "We can see the accuracy remains higher than our predictability threshold of 75%, but it may be a bit lower than original. Let's dig in:"
   ]
  },
  {
   "cell_type": "code",
   "execution_count": 10,
   "id": "d2110c34",
   "metadata": {},
   "outputs": [
    {
     "data": {
      "image/png": "[encoded data removed]",
      "text/plain": [
       "<Figure size 1200x600 with 1 Axes>"
      ]
     },
     "metadata": {},
     "output_type": "display_data"
    },
    {
     "name": "stdout",
     "output_type": "stream",
     "text": [
      "The number of discrepancies between the actual and predicted values is: 2\n"
     ]
    }
   ],
   "source": [
    "test_results = t_prod.react(\n",
    "    df_test[context_features],\n",
    "    action_features=action_features,\n",
    "    context_features=context_features)\n",
    "\n",
    "# Calculate discrepancies\n",
    "df_test['discrepancy'] = (df_test['credit_card_default'] != test_results['action']['credit_card_default']).astype(int)\n",
    "\n",
    "# Plot the line plot\n",
    "plt.figure(figsize=(12, 6))\n",
    "plt.scatter(df_test.index, df_test['discrepancy'], c=df_test['discrepancy'].map({0: '#0091FF', 1: '#202020'}))  # Scatter plot to highlight points\n",
    "# plt.scatter(df_test.index, df_test['discrepancy'], marker='o', linestyle='-', color='blue')\n",
    "plt.xlabel('Index')\n",
    "plt.ylabel('Discrepancy')\n",
    "plt.title('Discrepancies between Actual and Predicted Values')\n",
    "plt.yticks([0, 1], ['Match', 'Discrepancy'])\n",
    "plt.grid(True)\n",
    "plt.show()\n",
    "\n",
    "# Count the discrepancies\n",
    "discrepancy_count = df_test['discrepancy'].sum()\n",
    "print(f'The number of discrepancies between the actual and predicted values is: {discrepancy_count}')"
   ]
  },
  {
   "cell_type": "markdown",
   "id": "21d7b1a8",
   "metadata": {},
   "source": [
    "#### Edit\n",
    "\n",
    "**Is my shareable data useful? Can I fix any issues?** \n",
    "\n",
    "Let's dig into the first incorrectly predicted case."
   ]
  },
  {
   "cell_type": "code",
   "execution_count": 11,
   "id": "e9561b19",
   "metadata": {},
   "outputs": [
    {
     "name": "stdout",
     "output_type": "stream",
     "text": [
      "Predicted result for case index 63:, 0. Actual result: 1.\n"
     ]
    }
   ],
   "source": [
    "prediction_results = test_results['action'].squeeze()\n",
    "\n",
    "# Grab the index of the first wrongly predicted case\n",
    "first_incorrect_index = (prediction_results != df_test[action_features[0]]).idxmax()\n",
    "\n",
    "# The correct results\n",
    "correct_result = df_test[action_features[0]][first_incorrect_index]\n",
    "\n",
    "predicted_result = prediction_results.loc[first_incorrect_index]\n",
    "print(f\"Predicted result for case index {first_incorrect_index}:, {predicted_result}. Actual result: {correct_result}.\")"
   ]
  },
  {
   "cell_type": "markdown",
   "id": "159ffb7f",
   "metadata": {},
   "source": [
    "What information does this case contain?"
   ]
  },
  {
   "cell_type": "code",
   "execution_count": 12,
   "id": "2270b66a",
   "metadata": {},
   "outputs": [
    {
     "data": {
      "text/html": [
       "<div>\n",
       "<style scoped>\n",
       "    .dataframe tbody tr th:only-of-type {\n",
       "        vertical-align: middle;\n",
       "    }\n",
       "\n",
       "    .dataframe tbody tr th {\n",
       "        vertical-align: top;\n",
       "    }\n",
       "\n",
       "    .dataframe thead th {\n",
       "        text-align: right;\n",
       "    }\n",
       "</style>\n",
       "<table border=\"1\" class=\"dataframe\">\n",
       "  <thead>\n",
       "    <tr style=\"text-align: right;\">\n",
       "      <th></th>\n",
       "      <th>customer_id</th>\n",
       "      <th>name</th>\n",
       "      <th>age</th>\n",
       "      <th>gender</th>\n",
       "      <th>owns_car</th>\n",
       "      <th>owns_house</th>\n",
       "      <th>no_of_children</th>\n",
       "      <th>net_yearly_income</th>\n",
       "      <th>no_of_days_employed</th>\n",
       "      <th>occupation_type</th>\n",
       "      <th>total_family_members</th>\n",
       "      <th>migrant_worker</th>\n",
       "      <th>yearly_debt_payments</th>\n",
       "      <th>credit_limit</th>\n",
       "      <th>credit_limit_used(%)</th>\n",
       "      <th>credit_score</th>\n",
       "      <th>prev_defaults</th>\n",
       "      <th>default_in_last_6months</th>\n",
       "      <th>credit_card_default</th>\n",
       "      <th>discrepancy</th>\n",
       "    </tr>\n",
       "  </thead>\n",
       "  <tbody>\n",
       "    <tr>\n",
       "      <th>0</th>\n",
       "      <td>CST_154531</td>\n",
       "      <td>Skariachan</td>\n",
       "      <td>39</td>\n",
       "      <td>M</td>\n",
       "      <td>Y</td>\n",
       "      <td>Y</td>\n",
       "      <td>0.0</td>\n",
       "      <td>707085.51</td>\n",
       "      <td>2797.0</td>\n",
       "      <td>Managers</td>\n",
       "      <td>2.0</td>\n",
       "      <td>0.0</td>\n",
       "      <td>60236.36</td>\n",
       "      <td>133260.13</td>\n",
       "      <td>92</td>\n",
       "      <td>513.0</td>\n",
       "      <td>1</td>\n",
       "      <td>0</td>\n",
       "      <td>1</td>\n",
       "      <td>1</td>\n",
       "    </tr>\n",
       "  </tbody>\n",
       "</table>\n",
       "</div>"
      ],
      "text/plain": [
       "  customer_id        name  age gender owns_car owns_house  no_of_children  \\\n",
       "0  CST_154531  Skariachan   39      M        Y          Y             0.0   \n",
       "\n",
       "   net_yearly_income  no_of_days_employed occupation_type  \\\n",
       "0          707085.51               2797.0        Managers   \n",
       "\n",
       "   total_family_members  migrant_worker  yearly_debt_payments  credit_limit  \\\n",
       "0                   2.0             0.0              60236.36     133260.13   \n",
       "\n",
       "   credit_limit_used(%)  credit_score  prev_defaults  default_in_last_6months  \\\n",
       "0                    92         513.0              1                        0   \n",
       "\n",
       "   credit_card_default  discrepancy  \n",
       "0                    1            1  "
      ]
     },
     "metadata": {},
     "output_type": "display_data"
    }
   ],
   "source": [
    "# The first predicted incorrect case\n",
    "examine_case = df_test.iloc[[first_incorrect_index]].reset_index(drop=True)\n",
    "display(examine_case)"
   ]
  },
  {
   "cell_type": "markdown",
   "id": "8484fc0f",
   "metadata": {},
   "source": [
    "Howso provides a variety of capabilities to interpret, understand, and debug your results. \n",
    "One of the clearest ways to investigate individual predictions is to visualize the influential cases which contributed to the prediction and which features contributed the most. If we understand this, we can identify any issues in the underlying data. \n",
    "\n",
    "First, we will organize the features which contributed the most to the predictions."
   ]
  },
  {
   "cell_type": "code",
   "execution_count": 13,
   "id": "94997285",
   "metadata": {},
   "outputs": [
    {
     "data": {
      "application/vnd.plotly.v1+json": {
       "config": {
        "plotlyServerURL": "https://plot.ly"
       },
       "data": [
        {
         "type": "bar",
         "x": [
          "credit_score",
          "no_of_days_employed",
          "age",
          "credit_limit",
          "net_yearly_income",
          "default_in_last_6months",
          "prev_defaults",
          "customer_id",
          "gender",
          "no_of_children",
          "owns_car",
          "owns_house",
          "yearly_debt_payments",
          "migrant_worker",
          "credit_limit_used(%)",
          "total_family_members",
          "occupation_type",
          "name"
         ],
         "y": [
          0.2961506112135614,
          0.10135682435517755,
          0.04661342535002518,
          0.03602193112057082,
          0.028391350090453737,
          0.02478336088324749,
          0.01689308976827218,
          0.015957748626193664,
          0.013850599419532946,
          0.013294099646482945,
          0.012642444235258806,
          0.009590909945649465,
          0.009555197884546396,
          0.006685043623065268,
          0.006380790185187187,
          0.003721239705620105,
          0.0027061856379410796,
          0.002623719288734968
         ]
        }
       ],
       "layout": {
        "template": {
         "data": {
          "bar": [
           {
            "error_x": {
             "color": "#2a3f5f"
            },
            "error_y": {
             "color": "#2a3f5f"
            },
            "marker": {
             "line": {
              "color": "#E5ECF6",
              "width": 0.5
             },
             "pattern": {
              "fillmode": "overlay",
              "size": 10,
              "solidity": 0.2
             }
            },
            "type": "bar"
           }
          ],
          "barpolar": [
           {
            "marker": {
             "line": {
              "color": "#E5ECF6",
              "width": 0.5
             },
             "pattern": {
              "fillmode": "overlay",
              "size": 10,
              "solidity": 0.2
             }
            },
            "type": "barpolar"
           }
          ],
          "carpet": [
           {
            "aaxis": {
             "endlinecolor": "#2a3f5f",
             "gridcolor": "white",
             "linecolor": "white",
             "minorgridcolor": "white",
             "startlinecolor": "#2a3f5f"
            },
            "baxis": {
             "endlinecolor": "#2a3f5f",
             "gridcolor": "white",
             "linecolor": "white",
             "minorgridcolor": "white",
             "startlinecolor": "#2a3f5f"
            },
            "type": "carpet"
           }
          ],
          "choropleth": [
           {
            "colorbar": {
             "outlinewidth": 0,
             "ticks": ""
            },
            "type": "choropleth"
           }
          ],
          "contour": [
           {
            "colorbar": {
             "outlinewidth": 0,
             "ticks": ""
            },
            "colorscale": [
             [
              0,
              "#0d0887"
             ],
             [
              0.1111111111111111,
              "#46039f"
             ],
             [
              0.2222222222222222,
              "#7201a8"
             ],
             [
              0.3333333333333333,
              "#9c179e"
             ],
             [
              0.4444444444444444,
              "#bd3786"
             ],
             [
              0.5555555555555556,
              "#d8576b"
             ],
             [
              0.6666666666666666,
              "#ed7953"
             ],
             [
              0.7777777777777778,
              "#fb9f3a"
             ],
             [
              0.8888888888888888,
              "#fdca26"
             ],
             [
              1,
              "#f0f921"
             ]
            ],
            "type": "contour"
           }
          ],
          "contourcarpet": [
           {
            "colorbar": {
             "outlinewidth": 0,
             "ticks": ""
            },
            "type": "contourcarpet"
           }
          ],
          "heatmap": [
           {
            "colorbar": {
             "outlinewidth": 0,
             "ticks": ""
            },
            "colorscale": [
             [
              0,
              "#0d0887"
             ],
             [
              0.1111111111111111,
              "#46039f"
             ],
             [
              0.2222222222222222,
              "#7201a8"
             ],
             [
              0.3333333333333333,
              "#9c179e"
             ],
             [
              0.4444444444444444,
              "#bd3786"
             ],
             [
              0.5555555555555556,
              "#d8576b"
             ],
             [
              0.6666666666666666,
              "#ed7953"
             ],
             [
              0.7777777777777778,
              "#fb9f3a"
             ],
             [
              0.8888888888888888,
              "#fdca26"
             ],
             [
              1,
              "#f0f921"
             ]
            ],
            "type": "heatmap"
           }
          ],
          "heatmapgl": [
           {
            "colorbar": {
             "outlinewidth": 0,
             "ticks": ""
            },
            "colorscale": [
             [
              0,
              "#0d0887"
             ],
             [
              0.1111111111111111,
              "#46039f"
             ],
             [
              0.2222222222222222,
              "#7201a8"
             ],
             [
              0.3333333333333333,
              "#9c179e"
             ],
             [
              0.4444444444444444,
              "#bd3786"
             ],
             [
              0.5555555555555556,
              "#d8576b"
             ],
             [
              0.6666666666666666,
              "#ed7953"
             ],
             [
              0.7777777777777778,
              "#fb9f3a"
             ],
             [
              0.8888888888888888,
              "#fdca26"
             ],
             [
              1,
              "#f0f921"
             ]
            ],
            "type": "heatmapgl"
           }
          ],
          "histogram": [
           {
            "marker": {
             "pattern": {
              "fillmode": "overlay",
              "size": 10,
              "solidity": 0.2
             }
            },
            "type": "histogram"
           }
          ],
          "histogram2d": [
           {
            "colorbar": {
             "outlinewidth": 0,
             "ticks": ""
            },
            "colorscale": [
             [
              0,
              "#0d0887"
             ],
             [
              0.1111111111111111,
              "#46039f"
             ],
             [
              0.2222222222222222,
              "#7201a8"
             ],
             [
              0.3333333333333333,
              "#9c179e"
             ],
             [
              0.4444444444444444,
              "#bd3786"
             ],
             [
              0.5555555555555556,
              "#d8576b"
             ],
             [
              0.6666666666666666,
              "#ed7953"
             ],
             [
              0.7777777777777778,
              "#fb9f3a"
             ],
             [
              0.8888888888888888,
              "#fdca26"
             ],
             [
              1,
              "#f0f921"
             ]
            ],
            "type": "histogram2d"
           }
          ],
          "histogram2dcontour": [
           {
            "colorbar": {
             "outlinewidth": 0,
             "ticks": ""
            },
            "colorscale": [
             [
              0,
              "#0d0887"
             ],
             [
              0.1111111111111111,
              "#46039f"
             ],
             [
              0.2222222222222222,
              "#7201a8"
             ],
             [
              0.3333333333333333,
              "#9c179e"
             ],
             [
              0.4444444444444444,
              "#bd3786"
             ],
             [
              0.5555555555555556,
              "#d8576b"
             ],
             [
              0.6666666666666666,
              "#ed7953"
             ],
             [
              0.7777777777777778,
              "#fb9f3a"
             ],
             [
              0.8888888888888888,
              "#fdca26"
             ],
             [
              1,
              "#f0f921"
             ]
            ],
            "type": "histogram2dcontour"
           }
          ],
          "mesh3d": [
           {
            "colorbar": {
             "outlinewidth": 0,
             "ticks": ""
            },
            "type": "mesh3d"
           }
          ],
          "parcoords": [
           {
            "line": {
             "colorbar": {
              "outlinewidth": 0,
              "ticks": ""
             }
            },
            "type": "parcoords"
           }
          ],
          "pie": [
           {
            "automargin": true,
            "type": "pie"
           }
          ],
          "scatter": [
           {
            "fillpattern": {
             "fillmode": "overlay",
             "size": 10,
             "solidity": 0.2
            },
            "type": "scatter"
           }
          ],
          "scatter3d": [
           {
            "line": {
             "colorbar": {
              "outlinewidth": 0,
              "ticks": ""
             }
            },
            "marker": {
             "colorbar": {
              "outlinewidth": 0,
              "ticks": ""
             }
            },
            "type": "scatter3d"
           }
          ],
          "scattercarpet": [
           {
            "marker": {
             "colorbar": {
              "outlinewidth": 0,
              "ticks": ""
             }
            },
            "type": "scattercarpet"
           }
          ],
          "scattergeo": [
           {
            "marker": {
             "colorbar": {
              "outlinewidth": 0,
              "ticks": ""
             }
            },
            "type": "scattergeo"
           }
          ],
          "scattergl": [
           {
            "marker": {
             "colorbar": {
              "outlinewidth": 0,
              "ticks": ""
             }
            },
            "type": "scattergl"
           }
          ],
          "scattermapbox": [
           {
            "marker": {
             "colorbar": {
              "outlinewidth": 0,
              "ticks": ""
             }
            },
            "type": "scattermapbox"
           }
          ],
          "scatterpolar": [
           {
            "marker": {
             "colorbar": {
              "outlinewidth": 0,
              "ticks": ""
             }
            },
            "type": "scatterpolar"
           }
          ],
          "scatterpolargl": [
           {
            "marker": {
             "colorbar": {
              "outlinewidth": 0,
              "ticks": ""
             }
            },
            "type": "scatterpolargl"
           }
          ],
          "scatterternary": [
           {
            "marker": {
             "colorbar": {
              "outlinewidth": 0,
              "ticks": ""
             }
            },
            "type": "scatterternary"
           }
          ],
          "surface": [
           {
            "colorbar": {
             "outlinewidth": 0,
             "ticks": ""
            },
            "colorscale": [
             [
              0,
              "#0d0887"
             ],
             [
              0.1111111111111111,
              "#46039f"
             ],
             [
              0.2222222222222222,
              "#7201a8"
             ],
             [
              0.3333333333333333,
              "#9c179e"
             ],
             [
              0.4444444444444444,
              "#bd3786"
             ],
             [
              0.5555555555555556,
              "#d8576b"
             ],
             [
              0.6666666666666666,
              "#ed7953"
             ],
             [
              0.7777777777777778,
              "#fb9f3a"
             ],
             [
              0.8888888888888888,
              "#fdca26"
             ],
             [
              1,
              "#f0f921"
             ]
            ],
            "type": "surface"
           }
          ],
          "table": [
           {
            "cells": {
             "fill": {
              "color": "#EBF0F8"
             },
             "line": {
              "color": "white"
             }
            },
            "header": {
             "fill": {
              "color": "#C8D4E3"
             },
             "line": {
              "color": "white"
             }
            },
            "type": "table"
           }
          ]
         },
         "layout": {
          "annotationdefaults": {
           "arrowcolor": "#2a3f5f",
           "arrowhead": 0,
           "arrowwidth": 1
          },
          "autotypenumbers": "strict",
          "coloraxis": {
           "colorbar": {
            "outlinewidth": 0,
            "ticks": ""
           }
          },
          "colorscale": {
           "diverging": [
            [
             0,
             "#8e0152"
            ],
            [
             0.1,
             "#c51b7d"
            ],
            [
             0.2,
             "#de77ae"
            ],
            [
             0.3,
             "#f1b6da"
            ],
            [
             0.4,
             "#fde0ef"
            ],
            [
             0.5,
             "#f7f7f7"
            ],
            [
             0.6,
             "#e6f5d0"
            ],
            [
             0.7,
             "#b8e186"
            ],
            [
             0.8,
             "#7fbc41"
            ],
            [
             0.9,
             "#4d9221"
            ],
            [
             1,
             "#276419"
            ]
           ],
           "sequential": [
            [
             0,
             "#0d0887"
            ],
            [
             0.1111111111111111,
             "#46039f"
            ],
            [
             0.2222222222222222,
             "#7201a8"
            ],
            [
             0.3333333333333333,
             "#9c179e"
            ],
            [
             0.4444444444444444,
             "#bd3786"
            ],
            [
             0.5555555555555556,
             "#d8576b"
            ],
            [
             0.6666666666666666,
             "#ed7953"
            ],
            [
             0.7777777777777778,
             "#fb9f3a"
            ],
            [
             0.8888888888888888,
             "#fdca26"
            ],
            [
             1,
             "#f0f921"
            ]
           ],
           "sequentialminus": [
            [
             0,
             "#0d0887"
            ],
            [
             0.1111111111111111,
             "#46039f"
            ],
            [
             0.2222222222222222,
             "#7201a8"
            ],
            [
             0.3333333333333333,
             "#9c179e"
            ],
            [
             0.4444444444444444,
             "#bd3786"
            ],
            [
             0.5555555555555556,
             "#d8576b"
            ],
            [
             0.6666666666666666,
             "#ed7953"
            ],
            [
             0.7777777777777778,
             "#fb9f3a"
            ],
            [
             0.8888888888888888,
             "#fdca26"
            ],
            [
             1,
             "#f0f921"
            ]
           ]
          },
          "colorway": [
           "#636efa",
           "#EF553B",
           "#00cc96",
           "#ab63fa",
           "#FFA15A",
           "#19d3f3",
           "#FF6692",
           "#B6E880",
           "#FF97FF",
           "#FECB52"
          ],
          "font": {
           "color": "#2a3f5f"
          },
          "geo": {
           "bgcolor": "white",
           "lakecolor": "white",
           "landcolor": "#E5ECF6",
           "showlakes": true,
           "showland": true,
           "subunitcolor": "white"
          },
          "hoverlabel": {
           "align": "left"
          },
          "hovermode": "closest",
          "mapbox": {
           "style": "light"
          },
          "paper_bgcolor": "white",
          "plot_bgcolor": "#E5ECF6",
          "polar": {
           "angularaxis": {
            "gridcolor": "white",
            "linecolor": "white",
            "ticks": ""
           },
           "bgcolor": "#E5ECF6",
           "radialaxis": {
            "gridcolor": "white",
            "linecolor": "white",
            "ticks": ""
           }
          },
          "scene": {
           "xaxis": {
            "backgroundcolor": "#E5ECF6",
            "gridcolor": "white",
            "gridwidth": 2,
            "linecolor": "white",
            "showbackground": true,
            "ticks": "",
            "zerolinecolor": "white"
           },
           "yaxis": {
            "backgroundcolor": "#E5ECF6",
            "gridcolor": "white",
            "gridwidth": 2,
            "linecolor": "white",
            "showbackground": true,
            "ticks": "",
            "zerolinecolor": "white"
           },
           "zaxis": {
            "backgroundcolor": "#E5ECF6",
            "gridcolor": "white",
            "gridwidth": 2,
            "linecolor": "white",
            "showbackground": true,
            "ticks": "",
            "zerolinecolor": "white"
           }
          },
          "shapedefaults": {
           "line": {
            "color": "#2a3f5f"
           }
          },
          "ternary": {
           "aaxis": {
            "gridcolor": "white",
            "linecolor": "white",
            "ticks": ""
           },
           "baxis": {
            "gridcolor": "white",
            "linecolor": "white",
            "ticks": ""
           },
           "bgcolor": "#E5ECF6",
           "caxis": {
            "gridcolor": "white",
            "linecolor": "white",
            "ticks": ""
           }
          },
          "title": {
           "x": 0.05
          },
          "xaxis": {
           "automargin": true,
           "gridcolor": "white",
           "linecolor": "white",
           "ticks": "",
           "title": {
            "standoff": 15
           },
           "zerolinecolor": "white",
           "zerolinewidth": 2
          },
          "yaxis": {
           "automargin": true,
           "gridcolor": "white",
           "linecolor": "white",
           "ticks": "",
           "title": {
            "standoff": 15
           },
           "zerolinecolor": "white",
           "zerolinewidth": 2
          }
         }
        },
        "title": {
         "text": "Feature Importances"
        },
        "xaxis": {
         "anchor": "y",
         "domain": [
          0,
          1
         ],
         "title": {
          "text": "Feature"
         }
        },
        "yaxis": {
         "anchor": "x",
         "domain": [
          0,
          1
         ],
         "title": {
          "text": "Importance"
         }
        }
       }
      }
     },
     "metadata": {},
     "output_type": "display_data"
    }
   ],
   "source": [
    "investigate_reaction = t_prod.react(\n",
    "    examine_case[context_features],\n",
    "    action_features=action_features,\n",
    "    context_features=context_features,\n",
    "    details={\n",
    "        'influential_cases': True,\n",
    "        'most_similar_cases': True,\n",
    "        'boundary_cases': True,\n",
    "        'prediction_stats': True,\n",
    "        'feature_contributions': True,\n",
    "        }\n",
    ")\n",
    "\n",
    "influential_cases = pd.DataFrame(investigate_reaction['details']['influential_cases'][0])\n",
    "ms_cases = pd.DataFrame(investigate_reaction['details']['most_similar_cases'][0])\n",
    "bc_cases = pd.DataFrame(investigate_reaction['details']['boundary_cases'][0])\n",
    "feature_contributions = pd.DataFrame(investigate_reaction['details']['feature_contributions'])\n",
    "top_fc_list = feature_contributions.iloc[0].nlargest(3).index.tolist()\n",
    "top_fc_list.extend(['credit_card_default','.influence_weight'])\n",
    "\n",
    "cols_ic = ['.influence_weight'] + cols\n",
    "\n",
    "plot_feature_importances(feature_contributions)"
   ]
  },
  {
   "cell_type": "code",
   "execution_count": 14,
   "id": "5e34a676",
   "metadata": {},
   "outputs": [
    {
     "data": {
      "image/png": "[encoded data removed]",
      "text/plain": [
       "<IPython.core.display.Image object>"
      ]
     },
     "execution_count": 14,
     "metadata": {
      "image/png": {
       "height": 1000,
       "width": 1000
      }
     },
     "output_type": "execute_result"
    }
   ],
   "source": [
    "# Display the IC, MS, BC image\n",
    "Image(filename='../data/InfluentialMostSimilarBoundaryCasesV4.png',width=1000, height=1000)"
   ]
  },
  {
   "cell_type": "markdown",
   "id": "a556ee59",
   "metadata": {},
   "source": [
    "**Influential Cases**"
   ]
  },
  {
   "cell_type": "code",
   "execution_count": 15,
   "id": "ece8dcb3",
   "metadata": {},
   "outputs": [
    {
     "data": {
      "text/html": [
       "<div>\n",
       "<style scoped>\n",
       "    .dataframe tbody tr th:only-of-type {\n",
       "        vertical-align: middle;\n",
       "    }\n",
       "\n",
       "    .dataframe tbody tr th {\n",
       "        vertical-align: top;\n",
       "    }\n",
       "\n",
       "    .dataframe thead th {\n",
       "        text-align: right;\n",
       "    }\n",
       "</style>\n",
       "<table border=\"1\" class=\"dataframe\">\n",
       "  <thead>\n",
       "    <tr style=\"text-align: right;\">\n",
       "      <th></th>\n",
       "      <th>.influence_weight</th>\n",
       "      <th>customer_id</th>\n",
       "      <th>name</th>\n",
       "      <th>age</th>\n",
       "      <th>gender</th>\n",
       "      <th>owns_car</th>\n",
       "      <th>owns_house</th>\n",
       "      <th>no_of_children</th>\n",
       "      <th>net_yearly_income</th>\n",
       "      <th>no_of_days_employed</th>\n",
       "      <th>occupation_type</th>\n",
       "      <th>total_family_members</th>\n",
       "      <th>migrant_worker</th>\n",
       "      <th>yearly_debt_payments</th>\n",
       "      <th>credit_limit</th>\n",
       "      <th>credit_limit_used(%)</th>\n",
       "      <th>credit_score</th>\n",
       "      <th>prev_defaults</th>\n",
       "      <th>default_in_last_6months</th>\n",
       "      <th>credit_card_default</th>\n",
       "    </tr>\n",
       "  </thead>\n",
       "  <tbody>\n",
       "    <tr>\n",
       "      <th>0</th>\n",
       "      <td>0.407007</td>\n",
       "      <td>CST_119653</td>\n",
       "      <td>Scuffham</td>\n",
       "      <td>38</td>\n",
       "      <td>F</td>\n",
       "      <td>None</td>\n",
       "      <td>Y</td>\n",
       "      <td>0</td>\n",
       "      <td>238089.62</td>\n",
       "      <td>2331</td>\n",
       "      <td>Medicine staff</td>\n",
       "      <td>2</td>\n",
       "      <td>0</td>\n",
       "      <td>29807.93</td>\n",
       "      <td>27816.15</td>\n",
       "      <td>94</td>\n",
       "      <td>528</td>\n",
       "      <td>1</td>\n",
       "      <td>1</td>\n",
       "      <td>1</td>\n",
       "    </tr>\n",
       "    <tr>\n",
       "      <th>1</th>\n",
       "      <td>0.309988</td>\n",
       "      <td>CST_152418</td>\n",
       "      <td>Kihara</td>\n",
       "      <td>39</td>\n",
       "      <td>M</td>\n",
       "      <td>Y</td>\n",
       "      <td>N</td>\n",
       "      <td>0</td>\n",
       "      <td>53695.67</td>\n",
       "      <td>36349</td>\n",
       "      <td>Laborers</td>\n",
       "      <td>2</td>\n",
       "      <td>1</td>\n",
       "      <td>1405.24</td>\n",
       "      <td>60821.01</td>\n",
       "      <td>47</td>\n",
       "      <td>670</td>\n",
       "      <td>0</td>\n",
       "      <td>0</td>\n",
       "      <td>0</td>\n",
       "    </tr>\n",
       "    <tr>\n",
       "      <th>2</th>\n",
       "      <td>0.283005</td>\n",
       "      <td>CST_149168</td>\n",
       "      <td>Jeffrey Heller</td>\n",
       "      <td>39</td>\n",
       "      <td>M</td>\n",
       "      <td>Y</td>\n",
       "      <td>N</td>\n",
       "      <td>0</td>\n",
       "      <td>709055.68</td>\n",
       "      <td>114542</td>\n",
       "      <td>Managers</td>\n",
       "      <td>2</td>\n",
       "      <td>0</td>\n",
       "      <td>97138.64</td>\n",
       "      <td>28053.02</td>\n",
       "      <td>2</td>\n",
       "      <td>926</td>\n",
       "      <td>0</td>\n",
       "      <td>0</td>\n",
       "      <td>0</td>\n",
       "    </tr>\n",
       "  </tbody>\n",
       "</table>\n",
       "</div>"
      ],
      "text/plain": [
       "   .influence_weight customer_id            name  age gender owns_car  \\\n",
       "0           0.407007  CST_119653        Scuffham   38      F     None   \n",
       "1           0.309988  CST_152418          Kihara   39      M        Y   \n",
       "2           0.283005  CST_149168  Jeffrey Heller   39      M        Y   \n",
       "\n",
       "  owns_house  no_of_children  net_yearly_income  no_of_days_employed  \\\n",
       "0          Y               0          238089.62                 2331   \n",
       "1          N               0           53695.67                36349   \n",
       "2          N               0          709055.68               114542   \n",
       "\n",
       "  occupation_type  total_family_members  migrant_worker  yearly_debt_payments  \\\n",
       "0  Medicine staff                     2               0              29807.93   \n",
       "1        Laborers                     2               1               1405.24   \n",
       "2        Managers                     2               0              97138.64   \n",
       "\n",
       "   credit_limit  credit_limit_used(%)  credit_score  prev_defaults  \\\n",
       "0      27816.15                    94           528              1   \n",
       "1      60821.01                    47           670              0   \n",
       "2      28053.02                     2           926              0   \n",
       "\n",
       "   default_in_last_6months  credit_card_default  \n",
       "0                        1                    1  \n",
       "1                        0                    0  \n",
       "2                        0                    0  "
      ]
     },
     "execution_count": 15,
     "metadata": {},
     "output_type": "execute_result"
    }
   ],
   "source": [
    "influential_cases[cols_ic][:5]"
   ]
  },
  {
   "cell_type": "markdown",
   "id": "0108761f",
   "metadata": {},
   "source": [
    "**Boundary Cases**"
   ]
  },
  {
   "cell_type": "code",
   "execution_count": 16,
   "id": "f0d911ec",
   "metadata": {},
   "outputs": [
    {
     "data": {
      "text/html": [
       "<div>\n",
       "<style scoped>\n",
       "    .dataframe tbody tr th:only-of-type {\n",
       "        vertical-align: middle;\n",
       "    }\n",
       "\n",
       "    .dataframe tbody tr th {\n",
       "        vertical-align: top;\n",
       "    }\n",
       "\n",
       "    .dataframe thead th {\n",
       "        text-align: right;\n",
       "    }\n",
       "</style>\n",
       "<table border=\"1\" class=\"dataframe\">\n",
       "  <thead>\n",
       "    <tr style=\"text-align: right;\">\n",
       "      <th></th>\n",
       "      <th>.influence_weight</th>\n",
       "      <th>customer_id</th>\n",
       "      <th>name</th>\n",
       "      <th>age</th>\n",
       "      <th>gender</th>\n",
       "      <th>owns_car</th>\n",
       "      <th>owns_house</th>\n",
       "      <th>no_of_children</th>\n",
       "      <th>net_yearly_income</th>\n",
       "      <th>no_of_days_employed</th>\n",
       "      <th>occupation_type</th>\n",
       "      <th>total_family_members</th>\n",
       "      <th>migrant_worker</th>\n",
       "      <th>yearly_debt_payments</th>\n",
       "      <th>credit_limit</th>\n",
       "      <th>credit_limit_used(%)</th>\n",
       "      <th>credit_score</th>\n",
       "      <th>prev_defaults</th>\n",
       "      <th>default_in_last_6months</th>\n",
       "      <th>credit_card_default</th>\n",
       "    </tr>\n",
       "  </thead>\n",
       "  <tbody>\n",
       "    <tr>\n",
       "      <th>0</th>\n",
       "      <td>0.000000</td>\n",
       "      <td>CST_107107</td>\n",
       "      <td>Katya</td>\n",
       "      <td>39</td>\n",
       "      <td>M</td>\n",
       "      <td>N</td>\n",
       "      <td>N</td>\n",
       "      <td>NaN</td>\n",
       "      <td>70526.92</td>\n",
       "      <td>98012</td>\n",
       "      <td>Managers</td>\n",
       "      <td>5</td>\n",
       "      <td>1</td>\n",
       "      <td>45870.12</td>\n",
       "      <td>14880.61</td>\n",
       "      <td>90</td>\n",
       "      <td>544</td>\n",
       "      <td>2</td>\n",
       "      <td>1</td>\n",
       "      <td>1</td>\n",
       "    </tr>\n",
       "    <tr>\n",
       "      <th>1</th>\n",
       "      <td>0.407007</td>\n",
       "      <td>CST_119653</td>\n",
       "      <td>Scuffham</td>\n",
       "      <td>38</td>\n",
       "      <td>F</td>\n",
       "      <td>None</td>\n",
       "      <td>Y</td>\n",
       "      <td>0.0</td>\n",
       "      <td>238089.62</td>\n",
       "      <td>2331</td>\n",
       "      <td>Medicine staff</td>\n",
       "      <td>2</td>\n",
       "      <td>0</td>\n",
       "      <td>29807.93</td>\n",
       "      <td>27816.15</td>\n",
       "      <td>94</td>\n",
       "      <td>528</td>\n",
       "      <td>1</td>\n",
       "      <td>1</td>\n",
       "      <td>1</td>\n",
       "    </tr>\n",
       "    <tr>\n",
       "      <th>2</th>\n",
       "      <td>0.000000</td>\n",
       "      <td>CST_130165</td>\n",
       "      <td>Dominic</td>\n",
       "      <td>41</td>\n",
       "      <td>F</td>\n",
       "      <td>Y</td>\n",
       "      <td>N</td>\n",
       "      <td>NaN</td>\n",
       "      <td>174116.41</td>\n",
       "      <td>104207</td>\n",
       "      <td>Unknown</td>\n",
       "      <td>3</td>\n",
       "      <td>0</td>\n",
       "      <td>22287.41</td>\n",
       "      <td>21459.26</td>\n",
       "      <td>87</td>\n",
       "      <td>528</td>\n",
       "      <td>1</td>\n",
       "      <td>1</td>\n",
       "      <td>1</td>\n",
       "    </tr>\n",
       "  </tbody>\n",
       "</table>\n",
       "</div>"
      ],
      "text/plain": [
       "   .influence_weight customer_id      name  age gender owns_car owns_house  \\\n",
       "0           0.000000  CST_107107     Katya   39      M        N          N   \n",
       "1           0.407007  CST_119653  Scuffham   38      F     None          Y   \n",
       "2           0.000000  CST_130165   Dominic   41      F        Y          N   \n",
       "\n",
       "   no_of_children  net_yearly_income  no_of_days_employed occupation_type  \\\n",
       "0             NaN           70526.92                98012        Managers   \n",
       "1             0.0          238089.62                 2331  Medicine staff   \n",
       "2             NaN          174116.41               104207         Unknown   \n",
       "\n",
       "   total_family_members  migrant_worker  yearly_debt_payments  credit_limit  \\\n",
       "0                     5               1              45870.12      14880.61   \n",
       "1                     2               0              29807.93      27816.15   \n",
       "2                     3               0              22287.41      21459.26   \n",
       "\n",
       "   credit_limit_used(%)  credit_score  prev_defaults  default_in_last_6months  \\\n",
       "0                    90           544              2                        1   \n",
       "1                    94           528              1                        1   \n",
       "2                    87           528              1                        1   \n",
       "\n",
       "   credit_card_default  \n",
       "0                    1  \n",
       "1                    1  \n",
       "2                    1  "
      ]
     },
     "execution_count": 16,
     "metadata": {},
     "output_type": "execute_result"
    }
   ],
   "source": [
    "bc_cases[cols_ic][:5]"
   ]
  },
  {
   "cell_type": "markdown",
   "id": "eef68019",
   "metadata": {},
   "source": [
    "**Most Similar Cases**"
   ]
  },
  {
   "cell_type": "code",
   "execution_count": 17,
   "id": "2030fbe8",
   "metadata": {},
   "outputs": [
    {
     "data": {
      "text/html": [
       "<div>\n",
       "<style scoped>\n",
       "    .dataframe tbody tr th:only-of-type {\n",
       "        vertical-align: middle;\n",
       "    }\n",
       "\n",
       "    .dataframe tbody tr th {\n",
       "        vertical-align: top;\n",
       "    }\n",
       "\n",
       "    .dataframe thead th {\n",
       "        text-align: right;\n",
       "    }\n",
       "</style>\n",
       "<table border=\"1\" class=\"dataframe\">\n",
       "  <thead>\n",
       "    <tr style=\"text-align: right;\">\n",
       "      <th></th>\n",
       "      <th>customer_id</th>\n",
       "      <th>name</th>\n",
       "      <th>age</th>\n",
       "      <th>gender</th>\n",
       "      <th>owns_car</th>\n",
       "      <th>owns_house</th>\n",
       "      <th>no_of_children</th>\n",
       "      <th>net_yearly_income</th>\n",
       "      <th>no_of_days_employed</th>\n",
       "      <th>occupation_type</th>\n",
       "      <th>total_family_members</th>\n",
       "      <th>migrant_worker</th>\n",
       "      <th>yearly_debt_payments</th>\n",
       "      <th>credit_limit</th>\n",
       "      <th>credit_limit_used(%)</th>\n",
       "      <th>credit_score</th>\n",
       "      <th>prev_defaults</th>\n",
       "      <th>default_in_last_6months</th>\n",
       "      <th>credit_card_default</th>\n",
       "    </tr>\n",
       "  </thead>\n",
       "  <tbody>\n",
       "    <tr>\n",
       "      <th>0</th>\n",
       "      <td>CST_119653</td>\n",
       "      <td>Scuffham</td>\n",
       "      <td>38</td>\n",
       "      <td>F</td>\n",
       "      <td>None</td>\n",
       "      <td>Y</td>\n",
       "      <td>0</td>\n",
       "      <td>238089.62</td>\n",
       "      <td>2331</td>\n",
       "      <td>Medicine staff</td>\n",
       "      <td>2</td>\n",
       "      <td>0</td>\n",
       "      <td>29807.93</td>\n",
       "      <td>27816.15</td>\n",
       "      <td>94</td>\n",
       "      <td>528</td>\n",
       "      <td>1</td>\n",
       "      <td>1</td>\n",
       "      <td>1</td>\n",
       "    </tr>\n",
       "    <tr>\n",
       "      <th>1</th>\n",
       "      <td>CST_152418</td>\n",
       "      <td>Kihara</td>\n",
       "      <td>39</td>\n",
       "      <td>M</td>\n",
       "      <td>Y</td>\n",
       "      <td>N</td>\n",
       "      <td>0</td>\n",
       "      <td>53695.67</td>\n",
       "      <td>36349</td>\n",
       "      <td>Laborers</td>\n",
       "      <td>2</td>\n",
       "      <td>1</td>\n",
       "      <td>1405.24</td>\n",
       "      <td>60821.01</td>\n",
       "      <td>47</td>\n",
       "      <td>670</td>\n",
       "      <td>0</td>\n",
       "      <td>0</td>\n",
       "      <td>0</td>\n",
       "    </tr>\n",
       "    <tr>\n",
       "      <th>2</th>\n",
       "      <td>CST_149168</td>\n",
       "      <td>Jeffrey Heller</td>\n",
       "      <td>39</td>\n",
       "      <td>M</td>\n",
       "      <td>Y</td>\n",
       "      <td>N</td>\n",
       "      <td>0</td>\n",
       "      <td>709055.68</td>\n",
       "      <td>114542</td>\n",
       "      <td>Managers</td>\n",
       "      <td>2</td>\n",
       "      <td>0</td>\n",
       "      <td>97138.64</td>\n",
       "      <td>28053.02</td>\n",
       "      <td>2</td>\n",
       "      <td>926</td>\n",
       "      <td>0</td>\n",
       "      <td>0</td>\n",
       "      <td>0</td>\n",
       "    </tr>\n",
       "  </tbody>\n",
       "</table>\n",
       "</div>"
      ],
      "text/plain": [
       "  customer_id            name  age gender owns_car owns_house  no_of_children  \\\n",
       "0  CST_119653        Scuffham   38      F     None          Y               0   \n",
       "1  CST_152418          Kihara   39      M        Y          N               0   \n",
       "2  CST_149168  Jeffrey Heller   39      M        Y          N               0   \n",
       "\n",
       "   net_yearly_income  no_of_days_employed occupation_type  \\\n",
       "0          238089.62                 2331  Medicine staff   \n",
       "1           53695.67                36349        Laborers   \n",
       "2          709055.68               114542        Managers   \n",
       "\n",
       "   total_family_members  migrant_worker  yearly_debt_payments  credit_limit  \\\n",
       "0                     2               0              29807.93      27816.15   \n",
       "1                     2               1               1405.24      60821.01   \n",
       "2                     2               0              97138.64      28053.02   \n",
       "\n",
       "   credit_limit_used(%)  credit_score  prev_defaults  default_in_last_6months  \\\n",
       "0                    94           528              1                        1   \n",
       "1                    47           670              0                        0   \n",
       "2                     2           926              0                        0   \n",
       "\n",
       "   credit_card_default  \n",
       "0                    1  \n",
       "1                    0  \n",
       "2                    0  "
      ]
     },
     "execution_count": 17,
     "metadata": {},
     "output_type": "execute_result"
    }
   ],
   "source": [
    "ms_cases[cols][:5]"
   ]
  },
  {
   "cell_type": "markdown",
   "id": "9e3b9b0f",
   "metadata": {},
   "source": [
    "We can see there are some discrepancies between the features of the predicted case and the data that are influencing the prediction. This may indicate a variety of problems, but for the sake of this demo, we will propose editing the synthetic, watermarked data as a mistake must have been made.\n",
    "\n",
    "Once we have determined that those cases are incorrectly labeled, we do not need to retrain, or create, a model. We can instead use edit those cases to reflect the correct label. \n",
    "\n",
    "In this example, we will edit the 3 most influential cases to have the \"correct\" label. Again, this is purely for a demonstrative purposes and should not be done just for the sake of accuracy."
   ]
  },
  {
   "cell_type": "code",
   "execution_count": 18,
   "id": "39f0e02e",
   "metadata": {},
   "outputs": [
    {
     "data": {
      "image/png": "[encoded data removed]",
      "text/plain": [
       "<Figure size 1200x600 with 1 Axes>"
      ]
     },
     "metadata": {},
     "output_type": "display_data"
    },
    {
     "name": "stdout",
     "output_type": "stream",
     "text": [
      "The number of discrepancies between the actual and predicted values is: 1\n",
      "The predicted post case editing is 1, matching the real result of 1.\n"
     ]
    }
   ],
   "source": [
    "# Get the `session_training_index` of the influential cases\n",
    "influential_cases = pd.DataFrame(investigate_reaction['details']['influential_cases'][0])\n",
    "influential_cases = influential_cases['.session_training_index'].tolist()\n",
    "# Get the session id\n",
    "session_id = t_prod.get_sessions()[0]['id']\n",
    "\n",
    "# Edit the most influential cases' labels with the \"correct\" label\n",
    "for indice in influential_cases:\n",
    "    t_prod.edit_cases(\n",
    "        feature_values=[correct_result],\n",
    "        case_indices=[(session_id, indice)],\n",
    "        features=action_features\n",
    "    )\n",
    "\n",
    "post_edit_result = t_prod.react(\n",
    "    examine_case[context_features],\n",
    "    action_features=action_features,\n",
    "    context_features=context_features\n",
    ")\n",
    "post_edit_prediction = post_edit_result['action'][action_features[0]].iloc[0]\n",
    "\n",
    "# Fixing a discrepancy, for example at index 8\n",
    "test_results['action'].at[first_incorrect_index, 'credit_card_default'] = post_edit_prediction  # Assuming we fixed this discrepancy by setting predicted to actual\n",
    "\n",
    "# Calculate discrepancies\n",
    "df_test['discrepancy'] = (df_test['credit_card_default'] != test_results['action']['credit_card_default']).astype(int)\n",
    "\n",
    "# Identify the fixed discrepancy\n",
    "df_test['fixed'] = 0  # Initialize the fixed column with 0\n",
    "df_test.at[first_incorrect_index, 'fixed'] = 1  # Set the fixed column to 1 for the fixed discrepancy\n",
    "\n",
    "# Plot the line plot with colored points\n",
    "plt.figure(figsize=(12, 6))\n",
    "# plt.plot(df.index, df['discrepancy'], linestyle='-', color='black')  # Line plot\n",
    "\n",
    "# Scatter plot to highlight points\n",
    "colors = df_test.apply(lambda row: '#6E56CF' if row['fixed'] == 1 else ('#202020' if row['discrepancy'] == 1 else '#0091FF'), axis=1)\n",
    "plt.scatter(df_test.index, df_test['discrepancy'], c=colors)\n",
    "\n",
    "plt.xlabel('Index')\n",
    "plt.ylabel('Discrepancy')\n",
    "plt.title('Discrepancies between Actual and Predicted Values')\n",
    "plt.yticks([0, 1], ['Match', 'Discrepancy'])\n",
    "plt.grid(True)\n",
    "plt.show()\n",
    "\n",
    "# Count the discrepancies\n",
    "discrepancy_count = df_test['discrepancy'].sum()\n",
    "print(f'The number of discrepancies between the actual and predicted values is: {discrepancy_count}')\n",
    "\n",
    "print(f\"The predicted post case editing is {post_edit_prediction}, matching the real result of {correct_result}.\")"
   ]
  },
  {
   "cell_type": "markdown",
   "id": "f30a7587",
   "metadata": {},
   "source": [
    "We can see that now when we re-predict the same case, the \"correct\" result is now predicted and we have resolved another issue in the dataset."
   ]
  },
  {
   "cell_type": "markdown",
   "id": "0eec1acd",
   "metadata": {},
   "source": [
    "## Validate\n",
    "\n",
    "### Show your work\n",
    "\n",
    "We can see there are a few issues. Let's dig in a bit further to validate we are happy with our synthesized and watermarked dataset. Then, we will generate a report of the steps we took throughout this analysis to confirm to ourselve and others that this data is now verifiably usable for our initiatives."
   ]
  },
  {
   "cell_type": "markdown",
   "id": "2fd2c4c7",
   "metadata": {},
   "source": [
    "#### Verify\n",
    "\n",
    "**Can I document my data's privacy, utility, and lineage?**"
   ]
  },
  {
   "cell_type": "markdown",
   "id": "10667c63",
   "metadata": {},
   "source": [
    "Finally, you want to report on the privacy and utility of the synthetic, watermarked data, along with any changes/edits you made.\n",
    "\n",
    "Howso has several tools and metrics that measure the traceability, privacy and utility of the watermarked, synthetic data. We can see that the dataset has good results in all of the different metrics, thus we can proceed to use this data as a stand in for our original data. These results, along with edits, are often printed in a consumable report that can be shared amongst stakeholders and added to a catalog as metadata."
   ]
  },
  {
   "cell_type": "code",
   "execution_count": 19,
   "id": "39b4ef0c",
   "metadata": {},
   "outputs": [
    {
     "name": "stdout",
     "output_type": "stream",
     "text": [
      "Evaluating Watermarker\n",
      "Watermark detected.\n",
      "['Dont Leave Home Without It', 'Dont Leave Home Without It', 'Dont Leave Home Without It', 'Dont Leave Home Without It', 'Dont Leave Home Without It']\n"
     ]
    }
   ],
   "source": [
    "score, interpretation, detected_wms = detect_wm(wm_df,wm_attributes,watermark_string,decode_method='complete')\n",
    "print(interpretation)\n",
    "print(detected_wms)"
   ]
  },
  {
   "cell_type": "code",
   "execution_count": 20,
   "id": "14291316",
   "metadata": {},
   "outputs": [
    {
     "name": "stdout",
     "output_type": "stream",
     "text": [
      "Validator Enterprise is enabled. Running without parallelism.\n",
      "AnonymityPreservation       : Beginning run\n",
      "AnonymityPreservation       : Run completed with desirability=5.0\n",
      "DescriptiveStatistics       : Beginning run\n",
      "DescriptiveStatistics       : Run completed with desirability=3.71\n",
      "JointProbability            : Beginning run\n",
      "JointProbability            : Run completed with desirability=4.672\n",
      "ModelComparison             : Beginning run\n",
      "ModelComparison             : Run completed with desirability=3.399\n",
      "SeriesDivergence            : Beginning run\n",
      "SeriesDivergence            : No time features are detected. Skipping SeriesDivergence.\n",
      "Run finished with overall_desirability=4.143\n"
     ]
    }
   ],
   "source": [
    "with Validator(t_orig, wm_df, features=features, hyperparameters=hp) as val:\n",
    "    results = val.run_metrics()"
   ]
  },
  {
   "cell_type": "code",
   "execution_count": 21,
   "id": "89791dc0",
   "metadata": {
    "execution": {
     "iopub.execute_input": "2024-05-04T15:52:53.906802Z",
     "iopub.status.busy": "2024-05-04T15:52:53.906592Z",
     "iopub.status.idle": "2024-05-04T15:52:53.978625Z",
     "shell.execute_reply": "2024-05-04T15:52:53.978121Z"
    },
    "papermill": {
     "duration": 0.110103,
     "end_time": "2022-10-07T00:32:58.969586",
     "exception": false,
     "start_time": "2022-10-07T00:32:58.859483",
     "status": "completed"
    },
    "tags": []
   },
   "outputs": [
    {
     "data": {
      "text/markdown": [
       "### AnonymityPreservation - Desirability: 5.0"
      ],
      "text/plain": [
       "<IPython.core.display.Markdown object>"
      ]
     },
     "metadata": {},
     "output_type": "display_data"
    },
    {
     "data": {
      "text/markdown": [
       "Measure how well the generated data preserve the privacy of the original data by comparing the distance from each generated case to its nearest original neighbor. This distance is divided by the smallest or average distance in that original neighbor's region, acting as a proxy for density called the distance ratio. If this ratio is at least 1, then privacy is maintained. If this ratio is at least 0.5, then plausible deniability is maintained. Desirability is computed on the worst case by default, with a desirability of 5 corresponding to a minimum distance ratio of 1 or greater."
      ],
      "text/plain": [
       "<IPython.core.display.Markdown object>"
      ]
     },
     "metadata": {},
     "output_type": "display_data"
    },
    {
     "data": {
      "text/markdown": [
       "### DescriptiveStatistics - Desirability: 3.71"
      ],
      "text/plain": [
       "<IPython.core.display.Markdown object>"
      ]
     },
     "metadata": {},
     "output_type": "display_data"
    },
    {
     "data": {
      "text/markdown": [
       "Shows differences in `basic statistics` between the features of the original and generated data."
      ],
      "text/plain": [
       "<IPython.core.display.Markdown object>"
      ]
     },
     "metadata": {},
     "output_type": "display_data"
    },
    {
     "data": {
      "text/markdown": [
       "### JointProbability - Desirability: 4.672"
      ],
      "text/plain": [
       "<IPython.core.display.Markdown object>"
      ]
     },
     "metadata": {},
     "output_type": "display_data"
    },
    {
     "data": {
      "text/markdown": [
       "Measure how well the generated data capture the joint distribution of the original data by estimating the PDF of the data and computing the Jensen-Shanon divergence between both estimates."
      ],
      "text/plain": [
       "<IPython.core.display.Markdown object>"
      ]
     },
     "metadata": {},
     "output_type": "display_data"
    },
    {
     "data": {
      "text/markdown": [
       "### ModelComparison - Desirability: 3.399"
      ],
      "text/plain": [
       "<IPython.core.display.Markdown object>"
      ]
     },
     "metadata": {},
     "output_type": "display_data"
    },
    {
     "data": {
      "text/markdown": [
       "Measure how well the generated data can act as a substitute for the original data by comparing model performance. Specifically, trains one model on a training set of the original data and one model on a training set of the generated data and evaluates them both against a test set of the original data. Desirability goes towards 5 as the performance becomes more similar. Degradations in performance of the generated model (e.g., lower accuracy) are punished more harshly than improvements in performance."
      ],
      "text/plain": [
       "<IPython.core.display.Markdown object>"
      ]
     },
     "metadata": {},
     "output_type": "display_data"
    }
   ],
   "source": [
    "for name, result in results.items():\n",
    "    display(Markdown(f\"### {name} - Desirability: {result.desirability}\"))\n",
    "    display(Markdown(result.description))\n",
    "    # display(result.get_df())"
   ]
  },
  {
   "cell_type": "markdown",
   "id": "0c47bcb4",
   "metadata": {},
   "source": [
    "While this use case specifically validates the synthesized and watermarked data set, Validation applies to a variety of scenarios, including monitoring your pre-existing models. Below are examples of visuals for these use cases:"
   ]
  },
  {
   "cell_type": "code",
   "execution_count": 22,
   "id": "443691ba",
   "metadata": {},
   "outputs": [
    {
     "data": {
      "image/png": "[encoded data removed]",
      "text/plain": [
       "<IPython.core.display.Image object>"
      ]
     },
     "execution_count": 22,
     "metadata": {
      "image/png": {
       "height": 1000,
       "width": 1000
      }
     },
     "output_type": "execute_result"
    }
   ],
   "source": [
    "# Display the monitoring image\n",
    "Image(filename='../data/drift_example.png',width=1000, height=1000)"
   ]
  },
  {
   "cell_type": "code",
   "execution_count": 23,
   "id": "64a369c2",
   "metadata": {},
   "outputs": [
    {
     "data": {
      "image/png": "[encoded data removed]",
      "text/plain": [
       "<IPython.core.display.Image object>"
      ]
     },
     "execution_count": 23,
     "metadata": {
      "image/png": {
       "height": 1000,
       "width": 1000
      }
     },
     "output_type": "execute_result"
    }
   ],
   "source": [
    "# Display the degbugging image\n",
    "Image(filename='../data/conviction.png',width=1000, height=1000)"
   ]
  },
  {
   "cell_type": "markdown",
   "id": "11e3a9db",
   "metadata": {},
   "source": [
    "Returning to your project, Howso's ability to track your data throughout its life cycle by providing tools to learn, generate, and validate enabled you to communicate your data's usability for your use case, demonstrate success in the use case, and ensure the data can be verifiably distributed and used securely. This is because Howso works directly with you and your data, not some abstraction.\n",
    "\n"
   ]
  }
 ],
 "metadata": {
  "kernelspec": {
   "display_name": "Python 3 (ipykernel)",
   "language": "python",
   "name": "python3"
  },
  "language_info": {
   "codemirror_mode": {
    "name": "ipython",
    "version": 3
   },
   "file_extension": ".py",
   "mimetype": "text/x-python",
   "name": "python",
   "nbconvert_exporter": "python",
   "pygments_lexer": "ipython3",
   "version": "3.11.2"
  },
  "papermill": {
   "default_parameters": {},
   "duration": 125.735674,
   "end_time": "2022-10-07T00:32:59.599894",
   "environment_variables": {},
   "exception": null,
   "input_path": "1-geminai-workflow.ipynb",
   "output_path": "1-geminai-workflow.ipynb",
   "parameters": {},
   "start_time": "2022-10-07T00:30:53.864220",
   "version": "2.3.3"
  },
  "toc-autonumbering": false,
  "vscode": {
   "interpreter": {
    "hash": "58dce72309fb8a0b30b50698a56a10a9826d1dbff42416aba6c7c1d8ce6ff48d"
   }
  }
 },
 "nbformat": 4,
 "nbformat_minor": 5
}
