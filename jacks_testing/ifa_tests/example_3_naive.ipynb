{
 "cells": [
  {
   "cell_type": "code",
   "execution_count": 4,
   "metadata": {},
   "outputs": [
    {
     "data": {
      "text/plain": [
       "8"
      ]
     },
     "execution_count": 4,
     "metadata": {},
     "output_type": "execute_result"
    }
   ],
   "source": [
    "\n",
    "import matplotlib.pyplot as plt\n",
    "import numpy as np\n",
    "import pandas as pd\n",
    "import plotly.io as pio\n",
    "import plotly.express as px\n",
    "from pmlb import fetch_data\n",
    "import time\n",
    "\n",
    "from howso.engine import Trainee\n",
    "from howso.utilities import infer_feature_attributes\n",
    "\n",
    "\n",
    "import os\n",
    "cpu_counts = os.cpu_count()\n",
    "cpu_counts"
   ]
  },
  {
   "cell_type": "code",
   "execution_count": 5,
   "metadata": {},
   "outputs": [],
   "source": [
    "features = None\n",
    "features2 = None\n",
    "# Parameters\n",
    "num_list = [50_000, 500_000, 2_000_000, 4_000_000]\n",
    "# num_list = [2_000, 3_000]\n",
    "mp_times = []\n",
    "no_mp_times = []\n",
    "for num in num_list:\n",
    "    start_date = pd.Timestamp('2000-01-01 00:00:00')\n",
    "    interval = pd.Timedelta(seconds=1)\n",
    "    num_entries = num\n",
    "\n",
    "    # Generate the date-time column\n",
    "    date_time_column = pd.date_range(start=start_date, periods=num_entries, freq=interval)\n",
    "\n",
    "    # Generate random time series data for 3 columns\n",
    "    np.random.seed(0)  # For reproducibility\n",
    "    data1 = np.random.randn(num_entries)\n",
    "    data2 = np.random.randn(num_entries)\n",
    "    data3 = np.random.randn(num_entries)\n",
    "\n",
    "    # Create DataFrame\n",
    "    df = pd.DataFrame({\n",
    "        'DateTime': date_time_column,\n",
    "        'RandomData1': data1,\n",
    "        'RandomData2': data2,\n",
    "        'RandomData3': data3,\n",
    "    })\n",
    "\n",
    "    # Start time\n",
    "    start_time = time.time()\n",
    "    # Infer feature attributes\n",
    "    features = infer_feature_attributes(\n",
    "        df,\n",
    "        time_feature_name = \"DateTime\",\n",
    "        max_workers=20,\n",
    "        )\n",
    "\n",
    "    # End time\n",
    "    end_time = time.time()\n",
    "    # Calculate the elapsed time\n",
    "    elapsed_time_mp = end_time - start_time\n",
    "    mp_times.append(elapsed_time_mp)\n",
    "\n",
    "    start_time = time.time()\n",
    "    features2 = infer_feature_attributes(\n",
    "        df,\n",
    "        time_feature_name = \"DateTime\",\n",
    "        max_workers=0,\n",
    "        )\n",
    "    end_time = time.time()\n",
    "    # Calculate the elapsed time\n",
    "    elapsed_time_no_mp = end_time - start_time\n",
    "    no_mp_times.append(elapsed_time_no_mp)"
   ]
  },
  {
   "cell_type": "code",
   "execution_count": null,
   "metadata": {},
   "outputs": [],
   "source": [
    "# Create the plot\n",
    "plt.figure(figsize=(10, 6))\n",
    "\n",
    "# Plot mp_times\n",
    "plt.plot(num_list, mp_times, label='Multiprocess Times', marker='o')\n",
    "\n",
    "# Plot no_mp_times\n",
    "plt.plot(num_list, no_mp_times, label='No Multiprocess Times', marker='x')\n",
    "\n",
    "# Add title and labels\n",
    "plt.title('Execution Time Comparison')\n",
    "plt.xlabel('Number of Cases')\n",
    "plt.ylabel('Time (seconds)')\n",
    "plt.ticklabel_format(style='plain')\n",
    "# Add legend\n",
    "plt.legend()\n",
    "\n",
    "# Show the plot\n",
    "plt.show()"
   ]
  }
 ],
 "metadata": {
  "kernelspec": {
   "display_name": "engine_311",
   "language": "python",
   "name": "python3"
  },
  "language_info": {
   "codemirror_mode": {
    "name": "ipython",
    "version": 3
   },
   "file_extension": ".py",
   "mimetype": "text/x-python",
   "name": "python",
   "nbconvert_exporter": "python",
   "pygments_lexer": "ipython3",
   "version": "3.11.2"
  }
 },
 "nbformat": 4,
 "nbformat_minor": 2
}
