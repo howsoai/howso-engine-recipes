{
 "cells": [
  {
   "cell_type": "code",
   "execution_count": 1,
   "metadata": {},
   "outputs": [
    {
     "data": {
      "text/plain": [
       "8"
      ]
     },
     "execution_count": 1,
     "metadata": {},
     "output_type": "execute_result"
    }
   ],
   "source": [
    "\n",
    "import matplotlib.pyplot as plt\n",
    "import numpy as np\n",
    "import pandas as pd\n",
    "import plotly.io as pio\n",
    "import plotly.express as px\n",
    "from pmlb import fetch_data\n",
    "import time\n",
    "import cProfile\n",
    "\n",
    "from howso.engine import Trainee\n",
    "from howso.utilities import infer_feature_attributes\n",
    "\n",
    "\n",
    "import os\n",
    "cpu_counts = os.cpu_count()\n",
    "cpu_counts"
   ]
  },
  {
   "cell_type": "code",
   "execution_count": 2,
   "metadata": {},
   "outputs": [],
   "source": [
    "start_date = pd.Timestamp('1990-01-01 00:00:00')\n",
    "interval = pd.Timedelta(seconds=1)\n",
    "# num_entries = 3_000_000\n",
    "num_entries = 2_000_000\n",
    "\n",
    "# Generate the date-time column\n",
    "date_time_column = pd.date_range(start=start_date, periods=num_entries, freq=interval)\n",
    "\n",
    "# Generate random time series data for 3 columns\n",
    "np.random.seed(0)  # For reproducibility\n",
    "data1 = np.random.randn(num_entries)\n",
    "data2 = np.random.randn(num_entries)\n",
    "data3 = np.random.randn(num_entries)\n",
    "data4 = np.random.randn(num_entries)\n",
    "data5 = np.random.randn(num_entries)\n",
    "data6 = np.random.randn(num_entries)\n",
    "\n",
    "# Create DataFrame\n",
    "df = pd.DataFrame({\n",
    "    'DateTime': date_time_column,\n",
    "    'RandomData1': data1,\n",
    "    'RandomData2': data2,\n",
    "    'RandomData3': data3,\n",
    "    'RandomData4': data4,\n",
    "    'RandomData5': data5,\n",
    "    'RandomData6': data6,\n",
    "})"
   ]
  },
  {
   "cell_type": "code",
   "execution_count": 4,
   "metadata": {},
   "outputs": [],
   "source": [
    "def timed_func():\n",
    "\n",
    "    # Infer feature attributes\n",
    "    features = infer_feature_attributes(\n",
    "        df,\n",
    "        time_feature_name = \"DateTime\",\n",
    "        max_workers=20,\n",
    "        )\n",
    "\n",
    "    # features2 = infer_feature_attributes(\n",
    "    #     df,\n",
    "    #     time_feature_name = \"DateTime\",\n",
    "    #     series_max_workers=0\n",
    "    #     )\n",
    "\n",
    "cProfile.run('timed_func()')\n"
   ]
  },
  {
   "cell_type": "code",
   "execution_count": null,
   "metadata": {},
   "outputs": [],
   "source": [
    "def timed_func():\n",
    "\n",
    "    # Infer feature attributes\n",
    "    features = infer_feature_attributes(\n",
    "        df,\n",
    "        time_feature_name = \"DateTime\",\n",
    "        max_workers=0,\n",
    "        )\n",
    "\n",
    "    # features2 = infer_feature_attributes(\n",
    "    #     df,\n",
    "    #     time_feature_name = \"DateTime\",\n",
    "    #     series_max_workers=0\n",
    "    #     )\n",
    "\n",
    "cProfile.run('timed_func()')"
   ]
  }
 ],
 "metadata": {
  "kernelspec": {
   "display_name": "engine_311",
   "language": "python",
   "name": "python3"
  },
  "language_info": {
   "codemirror_mode": {
    "name": "ipython",
    "version": 3
   },
   "file_extension": ".py",
   "mimetype": "text/x-python",
   "name": "python",
   "nbconvert_exporter": "python",
   "pygments_lexer": "ipython3",
   "version": "3.11.2"
  }
 },
 "nbformat": 4,
 "nbformat_minor": 2
}
