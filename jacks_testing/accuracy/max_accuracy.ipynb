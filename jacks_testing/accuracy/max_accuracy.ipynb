{
 "cells": [
  {
   "cell_type": "code",
   "execution_count": 1,
   "id": "729f6c7a-4b11-4311-aad9-03f89a568e3f",
   "metadata": {
    "execution": {
     "iopub.execute_input": "2024-07-08T16:12:04.411985Z",
     "iopub.status.busy": "2024-07-08T16:12:04.411590Z",
     "iopub.status.idle": "2024-07-08T16:12:04.852972Z",
     "shell.execute_reply": "2024-07-08T16:12:04.852335Z"
    }
   },
   "outputs": [],
   "source": [
    "from pathlib import Path\n",
    "from sklearn.model_selection import train_test_split\n",
    "from sklearn.metrics import accuracy_score\n",
    "\n",
    "\n",
    "import pandas as pd\n",
    "from pmlb import fetch_data\n",
    "\n",
    "from howso.engine import (\n",
    "    load_trainee,\n",
    "    Trainee,\n",
    ")\n",
    "from howso.utilities import infer_feature_attributes"
   ]
  },
  {
   "cell_type": "code",
   "execution_count": 2,
   "id": "0536252d-2900-46a7-af8b-d333da46e2e0",
   "metadata": {
    "execution": {
     "iopub.execute_input": "2024-07-08T16:12:04.856255Z",
     "iopub.status.busy": "2024-07-08T16:12:04.855827Z",
     "iopub.status.idle": "2024-07-08T16:12:04.913772Z",
     "shell.execute_reply": "2024-07-08T16:12:04.913167Z"
    }
   },
   "outputs": [],
   "source": [
    "df = fetch_data('adult', local_cache_dir=\"../data/adult\")\n",
    "\n"
   ]
  },
  {
   "cell_type": "code",
   "execution_count": 3,
   "id": "b5999f86-1baf-4a67-b849-c9a8f73e2451",
   "metadata": {
    "execution": {
     "iopub.execute_input": "2024-07-08T16:12:04.979337Z",
     "iopub.status.busy": "2024-07-08T16:12:04.978965Z",
     "iopub.status.idle": "2024-07-08T16:12:04.981781Z",
     "shell.execute_reply": "2024-07-08T16:12:04.981278Z"
    }
   },
   "outputs": [
    {
     "name": "stderr",
     "output_type": "stream",
     "text": [
      "Version 26.0.0 of Howso Engine™ is available. You are using version 25.1.1.dev0+gd82adab.d20240729.\n",
      "The following parameters from configuration file will override the Amalgam parameters set in the code: {'trace'}\n"
     ]
    }
   ],
   "source": [
    "sample_size = 2000\n",
    "\n",
    "# Subsample the data to ensure the example runs quickly\n",
    "df = df.sample(sample_size)\n",
    "\n",
    "train_df, test_df = train_test_split(df, test_size=0.33) #,random_state=42)\n",
    "\n",
    "df = train_df\n",
    "# Infer features attributes\n",
    "features = infer_feature_attributes(df)\n",
    "\n",
    "# Specify Context and Action Features\n",
    "action_features = ['target']\n",
    "context_features = features.get_names(without=action_features)\n",
    "# Create the Trainee\n",
    "t = Trainee(features=features)\n",
    "# Train\n",
    "t.train(df)\n",
    "\n",
    "# Analyze the Trainee\n",
    "# (By specifying action_features, this becomes a Targeted analysis)\n",
    "t.analyze(context_features=context_features, action_features=action_features)"
   ]
  },
  {
   "cell_type": "code",
   "execution_count": 4,
   "id": "eebd8a5d",
   "metadata": {},
   "outputs": [
    {
     "data": {
      "text/plain": [
       "0.8212121212121212"
      ]
     },
     "execution_count": 4,
     "metadata": {},
     "output_type": "execute_result"
    }
   ],
   "source": [
    "predictions = t.predict(\n",
    "    test_df[context_features],\n",
    "    context_features=context_features,\n",
    "    action_features=action_features,\n",
    ")\n",
    "\n",
    "accuracy = accuracy_score(test_df[action_features[0]], predictions['target'])\n",
    "accuracy"
   ]
  },
  {
   "cell_type": "code",
   "execution_count": 5,
   "id": "d65506fd",
   "metadata": {},
   "outputs": [
    {
     "data": {
      "text/html": [
       "<div>\n",
       "<style scoped>\n",
       "    .dataframe tbody tr th:only-of-type {\n",
       "        vertical-align: middle;\n",
       "    }\n",
       "\n",
       "    .dataframe tbody tr th {\n",
       "        vertical-align: top;\n",
       "    }\n",
       "\n",
       "    .dataframe thead th {\n",
       "        text-align: right;\n",
       "    }\n",
       "</style>\n",
       "<table border=\"1\" class=\"dataframe\">\n",
       "  <thead>\n",
       "    <tr style=\"text-align: right;\">\n",
       "      <th></th>\n",
       "      <th>sex</th>\n",
       "      <th>education-num</th>\n",
       "      <th>hours-per-week</th>\n",
       "      <th>age</th>\n",
       "      <th>relationship</th>\n",
       "      <th>fnlwgt</th>\n",
       "      <th>capital-gain</th>\n",
       "      <th>marital-status</th>\n",
       "      <th>native-country</th>\n",
       "      <th>race</th>\n",
       "      <th>education</th>\n",
       "      <th>target</th>\n",
       "      <th>capital-loss</th>\n",
       "      <th>occupation</th>\n",
       "      <th>workclass</th>\n",
       "    </tr>\n",
       "  </thead>\n",
       "  <tbody>\n",
       "    <tr>\n",
       "      <th>precision</th>\n",
       "      <td>0.65968</td>\n",
       "      <td>NaN</td>\n",
       "      <td>NaN</td>\n",
       "      <td>NaN</td>\n",
       "      <td>0.343917</td>\n",
       "      <td>NaN</td>\n",
       "      <td>NaN</td>\n",
       "      <td>0.451035</td>\n",
       "      <td>0.047694</td>\n",
       "      <td>0.272946</td>\n",
       "      <td>0.415706</td>\n",
       "      <td>0.766703</td>\n",
       "      <td>NaN</td>\n",
       "      <td>0.147563</td>\n",
       "      <td>0.150279</td>\n",
       "    </tr>\n",
       "    <tr>\n",
       "      <th>accuracy</th>\n",
       "      <td>0.699</td>\n",
       "      <td>NaN</td>\n",
       "      <td>NaN</td>\n",
       "      <td>NaN</td>\n",
       "      <td>0.566</td>\n",
       "      <td>NaN</td>\n",
       "      <td>NaN</td>\n",
       "      <td>0.658</td>\n",
       "      <td>0.905</td>\n",
       "      <td>0.864</td>\n",
       "      <td>0.618</td>\n",
       "      <td>0.823</td>\n",
       "      <td>NaN</td>\n",
       "      <td>0.23</td>\n",
       "      <td>0.696</td>\n",
       "    </tr>\n",
       "    <tr>\n",
       "      <th>confusion_matrix</th>\n",
       "      <td>{'leftover_incorrect': 0, 'leftover_correct': ...</td>\n",
       "      <td>NaN</td>\n",
       "      <td>NaN</td>\n",
       "      <td>NaN</td>\n",
       "      <td>{'leftover_incorrect': 0, 'leftover_correct': ...</td>\n",
       "      <td>NaN</td>\n",
       "      <td>NaN</td>\n",
       "      <td>{'leftover_incorrect': 70, 'leftover_correct':...</td>\n",
       "      <td>{'leftover_incorrect': 22, 'leftover_correct':...</td>\n",
       "      <td>{'leftover_incorrect': 99, 'leftover_correct':...</td>\n",
       "      <td>{'leftover_incorrect': 203, 'leftover_correct'...</td>\n",
       "      <td>{'leftover_incorrect': 0, 'leftover_correct': ...</td>\n",
       "      <td>NaN</td>\n",
       "      <td>{'leftover_incorrect': 188, 'leftover_correct'...</td>\n",
       "      <td>{'leftover_incorrect': 75, 'leftover_correct':...</td>\n",
       "    </tr>\n",
       "    <tr>\n",
       "      <th>mcc</th>\n",
       "      <td>0.276964</td>\n",
       "      <td>NaN</td>\n",
       "      <td>NaN</td>\n",
       "      <td>NaN</td>\n",
       "      <td>0.376964</td>\n",
       "      <td>NaN</td>\n",
       "      <td>NaN</td>\n",
       "      <td>0.457239</td>\n",
       "      <td>0.080628</td>\n",
       "      <td>0.049068</td>\n",
       "      <td>0.512258</td>\n",
       "      <td>0.464457</td>\n",
       "      <td>NaN</td>\n",
       "      <td>0.135315</td>\n",
       "      <td>0.094792</td>\n",
       "    </tr>\n",
       "    <tr>\n",
       "      <th>mae</th>\n",
       "      <td>0.363812</td>\n",
       "      <td>1.794467</td>\n",
       "      <td>8.326609</td>\n",
       "      <td>10.066452</td>\n",
       "      <td>0.569633</td>\n",
       "      <td>76036.955347</td>\n",
       "      <td>1566.026400</td>\n",
       "      <td>0.486553</td>\n",
       "      <td>0.161479</td>\n",
       "      <td>0.222156</td>\n",
       "      <td>0.512877</td>\n",
       "      <td>0.251742</td>\n",
       "      <td>194.552871</td>\n",
       "      <td>0.838331</td>\n",
       "      <td>0.472629</td>\n",
       "    </tr>\n",
       "    <tr>\n",
       "      <th>recall</th>\n",
       "      <td>0.620098</td>\n",
       "      <td>NaN</td>\n",
       "      <td>NaN</td>\n",
       "      <td>NaN</td>\n",
       "      <td>0.331133</td>\n",
       "      <td>NaN</td>\n",
       "      <td>NaN</td>\n",
       "      <td>0.325056</td>\n",
       "      <td>0.040091</td>\n",
       "      <td>0.201769</td>\n",
       "      <td>0.248208</td>\n",
       "      <td>0.702211</td>\n",
       "      <td>NaN</td>\n",
       "      <td>0.151036</td>\n",
       "      <td>0.132272</td>\n",
       "    </tr>\n",
       "    <tr>\n",
       "      <th>rmse</th>\n",
       "      <td>NaN</td>\n",
       "      <td>2.422032</td>\n",
       "      <td>11.883946</td>\n",
       "      <td>12.566454</td>\n",
       "      <td>NaN</td>\n",
       "      <td>101979.322084</td>\n",
       "      <td>6819.244104</td>\n",
       "      <td>NaN</td>\n",
       "      <td>NaN</td>\n",
       "      <td>NaN</td>\n",
       "      <td>NaN</td>\n",
       "      <td>NaN</td>\n",
       "      <td>426.484095</td>\n",
       "      <td>NaN</td>\n",
       "      <td>NaN</td>\n",
       "    </tr>\n",
       "    <tr>\n",
       "      <th>spearman_coeff</th>\n",
       "      <td>NaN</td>\n",
       "      <td>0.402244</td>\n",
       "      <td>0.335259</td>\n",
       "      <td>0.388114</td>\n",
       "      <td>NaN</td>\n",
       "      <td>0.071125</td>\n",
       "      <td>0.596170</td>\n",
       "      <td>NaN</td>\n",
       "      <td>NaN</td>\n",
       "      <td>NaN</td>\n",
       "      <td>NaN</td>\n",
       "      <td>NaN</td>\n",
       "      <td>0.476296</td>\n",
       "      <td>NaN</td>\n",
       "      <td>NaN</td>\n",
       "    </tr>\n",
       "    <tr>\n",
       "      <th>r2</th>\n",
       "      <td>NaN</td>\n",
       "      <td>0.146226</td>\n",
       "      <td>0.068971</td>\n",
       "      <td>0.130937</td>\n",
       "      <td>NaN</td>\n",
       "      <td>-0.052911</td>\n",
       "      <td>-0.022981</td>\n",
       "      <td>NaN</td>\n",
       "      <td>NaN</td>\n",
       "      <td>NaN</td>\n",
       "      <td>NaN</td>\n",
       "      <td>NaN</td>\n",
       "      <td>-0.000539</td>\n",
       "      <td>NaN</td>\n",
       "      <td>NaN</td>\n",
       "    </tr>\n",
       "  </tbody>\n",
       "</table>\n",
       "</div>"
      ],
      "text/plain": [
       "                                                                sex  \\\n",
       "precision                                                   0.65968   \n",
       "accuracy                                                      0.699   \n",
       "confusion_matrix  {'leftover_incorrect': 0, 'leftover_correct': ...   \n",
       "mcc                                                        0.276964   \n",
       "mae                                                        0.363812   \n",
       "recall                                                     0.620098   \n",
       "rmse                                                            NaN   \n",
       "spearman_coeff                                                  NaN   \n",
       "r2                                                              NaN   \n",
       "\n",
       "                  education-num  hours-per-week        age  \\\n",
       "precision                   NaN             NaN        NaN   \n",
       "accuracy                    NaN             NaN        NaN   \n",
       "confusion_matrix            NaN             NaN        NaN   \n",
       "mcc                         NaN             NaN        NaN   \n",
       "mae                    1.794467        8.326609  10.066452   \n",
       "recall                      NaN             NaN        NaN   \n",
       "rmse                   2.422032       11.883946  12.566454   \n",
       "spearman_coeff         0.402244        0.335259   0.388114   \n",
       "r2                     0.146226        0.068971   0.130937   \n",
       "\n",
       "                                                       relationship  \\\n",
       "precision                                                  0.343917   \n",
       "accuracy                                                      0.566   \n",
       "confusion_matrix  {'leftover_incorrect': 0, 'leftover_correct': ...   \n",
       "mcc                                                        0.376964   \n",
       "mae                                                        0.569633   \n",
       "recall                                                     0.331133   \n",
       "rmse                                                            NaN   \n",
       "spearman_coeff                                                  NaN   \n",
       "r2                                                              NaN   \n",
       "\n",
       "                         fnlwgt  capital-gain  \\\n",
       "precision                   NaN           NaN   \n",
       "accuracy                    NaN           NaN   \n",
       "confusion_matrix            NaN           NaN   \n",
       "mcc                         NaN           NaN   \n",
       "mae                76036.955347   1566.026400   \n",
       "recall                      NaN           NaN   \n",
       "rmse              101979.322084   6819.244104   \n",
       "spearman_coeff         0.071125      0.596170   \n",
       "r2                    -0.052911     -0.022981   \n",
       "\n",
       "                                                     marital-status  \\\n",
       "precision                                                  0.451035   \n",
       "accuracy                                                      0.658   \n",
       "confusion_matrix  {'leftover_incorrect': 70, 'leftover_correct':...   \n",
       "mcc                                                        0.457239   \n",
       "mae                                                        0.486553   \n",
       "recall                                                     0.325056   \n",
       "rmse                                                            NaN   \n",
       "spearman_coeff                                                  NaN   \n",
       "r2                                                              NaN   \n",
       "\n",
       "                                                     native-country  \\\n",
       "precision                                                  0.047694   \n",
       "accuracy                                                      0.905   \n",
       "confusion_matrix  {'leftover_incorrect': 22, 'leftover_correct':...   \n",
       "mcc                                                        0.080628   \n",
       "mae                                                        0.161479   \n",
       "recall                                                     0.040091   \n",
       "rmse                                                            NaN   \n",
       "spearman_coeff                                                  NaN   \n",
       "r2                                                              NaN   \n",
       "\n",
       "                                                               race  \\\n",
       "precision                                                  0.272946   \n",
       "accuracy                                                      0.864   \n",
       "confusion_matrix  {'leftover_incorrect': 99, 'leftover_correct':...   \n",
       "mcc                                                        0.049068   \n",
       "mae                                                        0.222156   \n",
       "recall                                                     0.201769   \n",
       "rmse                                                            NaN   \n",
       "spearman_coeff                                                  NaN   \n",
       "r2                                                              NaN   \n",
       "\n",
       "                                                          education  \\\n",
       "precision                                                  0.415706   \n",
       "accuracy                                                      0.618   \n",
       "confusion_matrix  {'leftover_incorrect': 203, 'leftover_correct'...   \n",
       "mcc                                                        0.512258   \n",
       "mae                                                        0.512877   \n",
       "recall                                                     0.248208   \n",
       "rmse                                                            NaN   \n",
       "spearman_coeff                                                  NaN   \n",
       "r2                                                              NaN   \n",
       "\n",
       "                                                             target  \\\n",
       "precision                                                  0.766703   \n",
       "accuracy                                                      0.823   \n",
       "confusion_matrix  {'leftover_incorrect': 0, 'leftover_correct': ...   \n",
       "mcc                                                        0.464457   \n",
       "mae                                                        0.251742   \n",
       "recall                                                     0.702211   \n",
       "rmse                                                            NaN   \n",
       "spearman_coeff                                                  NaN   \n",
       "r2                                                              NaN   \n",
       "\n",
       "                  capital-loss  \\\n",
       "precision                  NaN   \n",
       "accuracy                   NaN   \n",
       "confusion_matrix           NaN   \n",
       "mcc                        NaN   \n",
       "mae                 194.552871   \n",
       "recall                     NaN   \n",
       "rmse                426.484095   \n",
       "spearman_coeff        0.476296   \n",
       "r2                   -0.000539   \n",
       "\n",
       "                                                         occupation  \\\n",
       "precision                                                  0.147563   \n",
       "accuracy                                                       0.23   \n",
       "confusion_matrix  {'leftover_incorrect': 188, 'leftover_correct'...   \n",
       "mcc                                                        0.135315   \n",
       "mae                                                        0.838331   \n",
       "recall                                                     0.151036   \n",
       "rmse                                                            NaN   \n",
       "spearman_coeff                                                  NaN   \n",
       "r2                                                              NaN   \n",
       "\n",
       "                                                          workclass  \n",
       "precision                                                  0.150279  \n",
       "accuracy                                                      0.696  \n",
       "confusion_matrix  {'leftover_incorrect': 75, 'leftover_correct':...  \n",
       "mcc                                                        0.094792  \n",
       "mae                                                        0.472629  \n",
       "recall                                                     0.132272  \n",
       "rmse                                                            NaN  \n",
       "spearman_coeff                                                  NaN  \n",
       "r2                                                              NaN  "
      ]
     },
     "execution_count": 5,
     "metadata": {},
     "output_type": "execute_result"
    }
   ],
   "source": [
    "# Recommended metrics\n",
    "stats = t.react_aggregate(\n",
    "    action_feature=action_features[0],\n",
    "    details = {\n",
    "        \"prediction_stats\": True,\n",
    "        \"selected_prediction_stats\": [\"all\"]\n",
    "    }\n",
    ")\n",
    "\n",
    "stats"
   ]
  },
  {
   "cell_type": "code",
   "execution_count": 6,
   "id": "b1ea8a90",
   "metadata": {},
   "outputs": [],
   "source": [
    "cases = t.get_cases(session=t.active_session, features=['.session_training_index', '.session'])\n",
    "session_id = cases['.session'].loc[0]"
   ]
  },
  {
   "cell_type": "code",
   "execution_count": 7,
   "id": "37713987",
   "metadata": {},
   "outputs": [],
   "source": [
    "# results = t.react(\n",
    "#     case_indices=[(session_id, 1)],\n",
    "#     preserve_feature_values=context_features,\n",
    "#     action_features=action_features,\n",
    "#     leave_case_out=True,\n",
    "#     details = {\n",
    "#         \"case_mda_robust\": True,\n",
    "#         \"prediction_stats\": True,\n",
    "#         \"local_case_feature_residual_convictions_full\": True}\n",
    "# )\n",
    "\n"
   ]
  },
  {
   "cell_type": "code",
   "execution_count": 8,
   "id": "f7a05d09",
   "metadata": {
    "execution": {
     "iopub.execute_input": "2024-07-08T16:13:10.997969Z",
     "iopub.status.busy": "2024-07-08T16:13:10.997493Z",
     "iopub.status.idle": "2024-07-08T16:13:11.007238Z",
     "shell.execute_reply": "2024-07-08T16:13:11.006673Z"
    }
   },
   "outputs": [],
   "source": [
    "to_remove = {}\n",
    "for case in cases[\".session_training_index\"]:\n",
    "    results = t.react(\n",
    "        case_indices=[(session_id, case)],\n",
    "        preserve_feature_values=context_features,\n",
    "        action_features=action_features,\n",
    "        leave_case_out=True,\n",
    "        details = {\n",
    "            \"case_mda_robust\": True,\n",
    "            \"prediction_stats\": True,\n",
    "            \"local_case_feature_residual_convictions_full\": True}\n",
    "    )\n",
    "    case_mdas = results['details']['case_mda_robust'][0]\n",
    "    local_accuracy = results['details']['prediction_stats']['target']['accuracy']\n",
    "    residual_conviction = results['details'][\"local_case_feature_residual_convictions_full\"][0]['target']\n",
    "    # if local_accuracy > 0.3 or local_accuracy < 0.7:\n",
    "    if residual_conviction > 0.4:\n",
    "        for mda in case_mdas:\n",
    "            if mda['mda'] < 0:\n",
    "                if mda['.session_training_index'] in to_remove:\n",
    "                    to_remove[mda['.session_training_index']] += 1\n",
    "                else:\n",
    "                    to_remove[mda['.session_training_index']] = 1\n",
    "\n",
    "    # Sort the dictionary keys by their values\n",
    "    sorted_keys = sorted(to_remove, key=lambda x: to_remove[x], reverse=True)\n",
    "    to_remove = {key: to_remove[key] for key in sorted_keys}\n",
    "\n",
    "# to_remove\n"
   ]
  },
  {
   "cell_type": "code",
   "execution_count": 9,
   "id": "e4a1b103",
   "metadata": {},
   "outputs": [
    {
     "data": {
      "text/plain": [
       "2000"
      ]
     },
     "execution_count": 9,
     "metadata": {},
     "output_type": "execute_result"
    }
   ],
   "source": [
    "sample_size"
   ]
  },
  {
   "cell_type": "code",
   "execution_count": 10,
   "id": "3269caac",
   "metadata": {},
   "outputs": [
    {
     "data": {
      "text/plain": [
       "309"
      ]
     },
     "execution_count": 10,
     "metadata": {},
     "output_type": "execute_result"
    }
   ],
   "source": [
    "filtered_data = {key: value for key, value in to_remove.items() if value >= 5}\n",
    "len(filtered_data)"
   ]
  },
  {
   "cell_type": "code",
   "execution_count": 11,
   "id": "8d7dfaf5",
   "metadata": {},
   "outputs": [
    {
     "data": {
      "text/plain": [
       "precision                                                     0.78323\n",
       "accuracy                                                        0.833\n",
       "confusion_matrix    {'leftover_incorrect': 0, 'leftover_correct': ...\n",
       "mcc                                                          0.503551\n",
       "mae                                                          0.247953\n",
       "recall                                                       0.723814\n",
       "rmse                                                              NaN\n",
       "spearman_coeff                                                    NaN\n",
       "r2                                                                NaN\n",
       "Name: target, dtype: object"
      ]
     },
     "execution_count": 11,
     "metadata": {},
     "output_type": "execute_result"
    }
   ],
   "source": [
    "# Recommended metrics\n",
    "stats = t.react_aggregate(\n",
    "    action_feature=action_features[0],\n",
    "    details = {\n",
    "        \"prediction_stats\": True,\n",
    "        \"selected_prediction_stats\": [\"all\"]\n",
    "    }\n",
    ")\n",
    "\n",
    "stats['target']"
   ]
  },
  {
   "cell_type": "code",
   "execution_count": 12,
   "id": "76551970",
   "metadata": {},
   "outputs": [],
   "source": [
    "# remove cases using \".session_training_index\"\n",
    "for key in filtered_data.keys():\n",
    "    t.remove_cases(num_cases=1, case_indices=[(session_id, key)])"
   ]
  },
  {
   "cell_type": "code",
   "execution_count": 13,
   "id": "5bd2783e",
   "metadata": {},
   "outputs": [
    {
     "data": {
      "text/plain": [
       "precision                                                    0.914435\n",
       "accuracy                                                        0.948\n",
       "confusion_matrix    {'leftover_incorrect': 0, 'leftover_correct': ...\n",
       "mcc                                                          0.777643\n",
       "mae                                                          0.070089\n",
       "recall                                                       0.864791\n",
       "rmse                                                              NaN\n",
       "spearman_coeff                                                    NaN\n",
       "r2                                                                NaN\n",
       "Name: target, dtype: object"
      ]
     },
     "execution_count": 13,
     "metadata": {},
     "output_type": "execute_result"
    }
   ],
   "source": [
    "# Recommended metrics\n",
    "stats = t.react_aggregate(\n",
    "    action_feature=action_features[0],\n",
    "    details = {\n",
    "        \"prediction_stats\": True,\n",
    "        \"selected_prediction_stats\": [\"all\"]\n",
    "    }\n",
    ")\n",
    "\n",
    "stats['target']"
   ]
  },
  {
   "cell_type": "code",
   "execution_count": 14,
   "id": "3f623d68",
   "metadata": {
    "execution": {
     "iopub.execute_input": "2024-07-08T16:13:11.009934Z",
     "iopub.status.busy": "2024-07-08T16:13:11.009482Z",
     "iopub.status.idle": "2024-07-08T16:13:11.017953Z",
     "shell.execute_reply": "2024-07-08T16:13:11.017391Z"
    }
   },
   "outputs": [
    {
     "name": "stdout",
     "output_type": "stream",
     "text": [
      "0.8212121212121212\n",
      "0.8166666666666667\n"
     ]
    }
   ],
   "source": [
    "# t.analyze(context_features=context_features, action_features=action_features)\n",
    "\n",
    "predictions = t.predict(\n",
    "    test_df[context_features],\n",
    "    context_features=context_features,\n",
    "    action_features=action_features,\n",
    ")\n",
    "\n",
    "post_trim_accuracy = accuracy_score(test_df[action_features[0]], predictions['target'])\n",
    "print(accuracy)\n",
    "print(post_trim_accuracy)"
   ]
  }
 ],
 "metadata": {
  "kernelspec": {
   "display_name": "Python 3 (ipykernel)",
   "language": "python",
   "name": "python3"
  },
  "language_info": {
   "codemirror_mode": {
    "name": "ipython",
    "version": 3
   },
   "file_extension": ".py",
   "mimetype": "text/x-python",
   "name": "python",
   "nbconvert_exporter": "python",
   "pygments_lexer": "ipython3",
   "version": "3.11.2"
  },
  "vscode": {
   "interpreter": {
    "hash": "d9b4298285f63347a4f5469a5c77e773aa0d93492a1da372f14781d93b4190a0"
   }
  }
 },
 "nbformat": 4,
 "nbformat_minor": 5
}
