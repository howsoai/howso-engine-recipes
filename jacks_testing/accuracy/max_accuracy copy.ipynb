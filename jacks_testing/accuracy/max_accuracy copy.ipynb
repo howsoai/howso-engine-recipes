{
 "cells": [
  {
   "cell_type": "code",
   "execution_count": 1,
   "id": "729f6c7a-4b11-4311-aad9-03f89a568e3f",
   "metadata": {
    "execution": {
     "iopub.execute_input": "2024-07-08T16:12:04.411985Z",
     "iopub.status.busy": "2024-07-08T16:12:04.411590Z",
     "iopub.status.idle": "2024-07-08T16:12:04.852972Z",
     "shell.execute_reply": "2024-07-08T16:12:04.852335Z"
    }
   },
   "outputs": [],
   "source": [
    "from pathlib import Path\n",
    "from sklearn.model_selection import train_test_split\n",
    "from sklearn.metrics import accuracy_score\n",
    "import numpy as np\n",
    "from scipy import stats\n",
    "\n",
    "import pandas as pd\n",
    "from pmlb import fetch_data\n",
    "\n",
    "from howso.engine import (\n",
    "    load_trainee,\n",
    "    Trainee,\n",
    ")\n",
    "from howso.utilities import infer_feature_attributes"
   ]
  },
  {
   "cell_type": "code",
   "execution_count": 2,
   "id": "0536252d-2900-46a7-af8b-d333da46e2e0",
   "metadata": {
    "execution": {
     "iopub.execute_input": "2024-07-08T16:12:04.856255Z",
     "iopub.status.busy": "2024-07-08T16:12:04.855827Z",
     "iopub.status.idle": "2024-07-08T16:12:04.913772Z",
     "shell.execute_reply": "2024-07-08T16:12:04.913167Z"
    }
   },
   "outputs": [],
   "source": [
    "df = fetch_data('adult', local_cache_dir=\"../data/adult\")"
   ]
  },
  {
   "cell_type": "code",
   "execution_count": 3,
   "id": "b1ea8a90",
   "metadata": {},
   "outputs": [
    {
     "name": "stderr",
     "output_type": "stream",
     "text": [
      "Version 28.0.1 of Howso Engine™ is available. You are using version 27.0.0.\n"
     ]
    },
    {
     "ename": "KeyboardInterrupt",
     "evalue": "",
     "output_type": "error",
     "traceback": [
      "\u001b[0;31m---------------------------------------------------------------------------\u001b[0m",
      "\u001b[0;31mKeyboardInterrupt\u001b[0m                         Traceback (most recent call last)",
      "Cell \u001b[0;32mIn[3], line 41\u001b[0m\n\u001b[1;32m     39\u001b[0m to_remove \u001b[38;5;241m=\u001b[39m {}\n\u001b[1;32m     40\u001b[0m \u001b[38;5;28;01mfor\u001b[39;00m case \u001b[38;5;129;01min\u001b[39;00m cases[\u001b[38;5;124m\"\u001b[39m\u001b[38;5;124m.session_training_index\u001b[39m\u001b[38;5;124m\"\u001b[39m]:\n\u001b[0;32m---> 41\u001b[0m     results \u001b[38;5;241m=\u001b[39m \u001b[43mt\u001b[49m\u001b[38;5;241;43m.\u001b[39;49m\u001b[43mreact\u001b[49m\u001b[43m(\u001b[49m\n\u001b[1;32m     42\u001b[0m \u001b[43m        \u001b[49m\u001b[43mcase_indices\u001b[49m\u001b[38;5;241;43m=\u001b[39;49m\u001b[43m[\u001b[49m\u001b[43m(\u001b[49m\u001b[43msession_id\u001b[49m\u001b[43m,\u001b[49m\u001b[43m \u001b[49m\u001b[43mcase\u001b[49m\u001b[43m)\u001b[49m\u001b[43m]\u001b[49m\u001b[43m,\u001b[49m\n\u001b[1;32m     43\u001b[0m \u001b[43m        \u001b[49m\u001b[43mpreserve_feature_values\u001b[49m\u001b[38;5;241;43m=\u001b[39;49m\u001b[43mcontext_features\u001b[49m\u001b[43m,\u001b[49m\n\u001b[1;32m     44\u001b[0m \u001b[43m        \u001b[49m\u001b[43maction_features\u001b[49m\u001b[38;5;241;43m=\u001b[39;49m\u001b[43maction_features\u001b[49m\u001b[43m,\u001b[49m\n\u001b[1;32m     45\u001b[0m \u001b[43m        \u001b[49m\u001b[43mleave_case_out\u001b[49m\u001b[38;5;241;43m=\u001b[39;49m\u001b[38;5;28;43;01mTrue\u001b[39;49;00m\u001b[43m,\u001b[49m\n\u001b[1;32m     46\u001b[0m \u001b[43m        \u001b[49m\u001b[43mdetails\u001b[49m\u001b[43m \u001b[49m\u001b[38;5;241;43m=\u001b[39;49m\u001b[43m \u001b[49m\u001b[43m{\u001b[49m\n\u001b[1;32m     47\u001b[0m \u001b[43m            \u001b[49m\u001b[38;5;124;43m\"\u001b[39;49m\u001b[38;5;124;43mcase_mda_robust\u001b[39;49m\u001b[38;5;124;43m\"\u001b[39;49m\u001b[43m:\u001b[49m\u001b[43m \u001b[49m\u001b[38;5;28;43;01mTrue\u001b[39;49;00m\u001b[43m,\u001b[49m\n\u001b[1;32m     48\u001b[0m \u001b[43m            \u001b[49m\u001b[38;5;124;43m\"\u001b[39;49m\u001b[38;5;124;43mprediction_stats\u001b[39;49m\u001b[38;5;124;43m\"\u001b[39;49m\u001b[43m:\u001b[49m\u001b[43m \u001b[49m\u001b[38;5;28;43;01mTrue\u001b[39;49;00m\u001b[43m,\u001b[49m\n\u001b[1;32m     49\u001b[0m \u001b[43m            \u001b[49m\u001b[38;5;124;43m\"\u001b[39;49m\u001b[38;5;124;43mlocal_case_feature_residual_convictions_full\u001b[39;49m\u001b[38;5;124;43m\"\u001b[39;49m\u001b[43m:\u001b[49m\u001b[43m \u001b[49m\u001b[38;5;28;43;01mTrue\u001b[39;49;00m\u001b[43m}\u001b[49m\n\u001b[1;32m     50\u001b[0m \u001b[43m    \u001b[49m\u001b[43m)\u001b[49m\n\u001b[1;32m     51\u001b[0m     case_mdas \u001b[38;5;241m=\u001b[39m results[\u001b[38;5;124m'\u001b[39m\u001b[38;5;124mdetails\u001b[39m\u001b[38;5;124m'\u001b[39m][\u001b[38;5;124m'\u001b[39m\u001b[38;5;124mcase_mda_robust\u001b[39m\u001b[38;5;124m'\u001b[39m][\u001b[38;5;241m0\u001b[39m]\n\u001b[1;32m     52\u001b[0m     local_accuracy \u001b[38;5;241m=\u001b[39m results[\u001b[38;5;124m'\u001b[39m\u001b[38;5;124mdetails\u001b[39m\u001b[38;5;124m'\u001b[39m][\u001b[38;5;124m'\u001b[39m\u001b[38;5;124mprediction_stats\u001b[39m\u001b[38;5;124m'\u001b[39m][\u001b[38;5;124m'\u001b[39m\u001b[38;5;124mtarget\u001b[39m\u001b[38;5;124m'\u001b[39m][\u001b[38;5;124m'\u001b[39m\u001b[38;5;124maccuracy\u001b[39m\u001b[38;5;124m'\u001b[39m]\n",
      "File \u001b[0;32m~/.pyenv/versions/3.11.2/envs/engine_rec_311/lib/python3.11/site-packages/howso/engine/trainee.py:1547\u001b[0m, in \u001b[0;36mTrainee.react\u001b[0;34m(self, contexts, action_features, actions, allow_nulls, batch_size, case_indices, context_features, derived_action_features, derived_context_features, post_process_features, post_process_values, desired_conviction, details, exclude_novel_nominals_from_uniqueness_check, feature_bounds_map, generate_new_cases, initial_batch_size, input_is_substituted, into_series_store, leave_case_out, new_case_threshold, num_cases_to_generate, ordered_by_specified_features, preserve_feature_values, progress_callback, substitute_output, suppress_warning, use_case_weights, use_regional_model_residuals, weight_feature)\u001b[0m\n\u001b[1;32m   1058\u001b[0m \u001b[38;5;28;01mdef\u001b[39;00m \u001b[38;5;21mreact\u001b[39m(\n\u001b[1;32m   1059\u001b[0m     \u001b[38;5;28mself\u001b[39m,\n\u001b[1;32m   1060\u001b[0m     contexts: t\u001b[38;5;241m.\u001b[39mOptional[TabularData2D] \u001b[38;5;241m=\u001b[39m \u001b[38;5;28;01mNone\u001b[39;00m,\n\u001b[0;32m   (...)\u001b[0m\n\u001b[1;32m   1090\u001b[0m     weight_feature: t\u001b[38;5;241m.\u001b[39mOptional[\u001b[38;5;28mstr\u001b[39m] \u001b[38;5;241m=\u001b[39m \u001b[38;5;28;01mNone\u001b[39;00m,\n\u001b[1;32m   1091\u001b[0m ) \u001b[38;5;241m-\u001b[39m\u001b[38;5;241m>\u001b[39m Reaction:\n\u001b[1;32m   1092\u001b[0m \u001b[38;5;250m    \u001b[39m\u001b[38;5;124mr\u001b[39m\u001b[38;5;124;03m\"\"\"\u001b[39;00m\n\u001b[1;32m   1093\u001b[0m \u001b[38;5;124;03m    React to the provided contexts.\u001b[39;00m\n\u001b[1;32m   1094\u001b[0m \n\u001b[0;32m   (...)\u001b[0m\n\u001b[1;32m   1545\u001b[0m \u001b[38;5;124;03m                An aggregated list of any requested details.\u001b[39;00m\n\u001b[1;32m   1546\u001b[0m \u001b[38;5;124;03m    \"\"\"\u001b[39;00m\n\u001b[0;32m-> 1547\u001b[0m     \u001b[38;5;28;01mreturn\u001b[39;00m \u001b[38;5;28;43mself\u001b[39;49m\u001b[38;5;241;43m.\u001b[39;49m\u001b[43mclient\u001b[49m\u001b[38;5;241;43m.\u001b[39;49m\u001b[43mreact\u001b[49m\u001b[43m(\u001b[49m\n\u001b[1;32m   1548\u001b[0m \u001b[43m        \u001b[49m\u001b[43mtrainee_id\u001b[49m\u001b[38;5;241;43m=\u001b[39;49m\u001b[38;5;28;43mself\u001b[39;49m\u001b[38;5;241;43m.\u001b[39;49m\u001b[43mid\u001b[49m\u001b[43m,\u001b[49m\n\u001b[1;32m   1549\u001b[0m \u001b[43m        \u001b[49m\u001b[43maction_features\u001b[49m\u001b[38;5;241;43m=\u001b[39;49m\u001b[43maction_features\u001b[49m\u001b[43m,\u001b[49m\n\u001b[1;32m   1550\u001b[0m \u001b[43m        \u001b[49m\u001b[43mactions\u001b[49m\u001b[38;5;241;43m=\u001b[39;49m\u001b[43mactions\u001b[49m\u001b[43m,\u001b[49m\n\u001b[1;32m   1551\u001b[0m \u001b[43m        \u001b[49m\u001b[43mallow_nulls\u001b[49m\u001b[38;5;241;43m=\u001b[39;49m\u001b[43mallow_nulls\u001b[49m\u001b[43m,\u001b[49m\n\u001b[1;32m   1552\u001b[0m \u001b[43m        \u001b[49m\u001b[43mbatch_size\u001b[49m\u001b[38;5;241;43m=\u001b[39;49m\u001b[43mbatch_size\u001b[49m\u001b[43m,\u001b[49m\n\u001b[1;32m   1553\u001b[0m \u001b[43m        \u001b[49m\u001b[43mcase_indices\u001b[49m\u001b[38;5;241;43m=\u001b[39;49m\u001b[43mcase_indices\u001b[49m\u001b[43m,\u001b[49m\n\u001b[1;32m   1554\u001b[0m \u001b[43m        \u001b[49m\u001b[43mcontexts\u001b[49m\u001b[38;5;241;43m=\u001b[39;49m\u001b[43mcontexts\u001b[49m\u001b[43m,\u001b[49m\n\u001b[1;32m   1555\u001b[0m \u001b[43m        \u001b[49m\u001b[43mcontext_features\u001b[49m\u001b[38;5;241;43m=\u001b[39;49m\u001b[43mcontext_features\u001b[49m\u001b[43m,\u001b[49m\n\u001b[1;32m   1556\u001b[0m \u001b[43m        \u001b[49m\u001b[43mderived_action_features\u001b[49m\u001b[38;5;241;43m=\u001b[39;49m\u001b[43mderived_action_features\u001b[49m\u001b[43m,\u001b[49m\n\u001b[1;32m   1557\u001b[0m \u001b[43m        \u001b[49m\u001b[43mderived_context_features\u001b[49m\u001b[38;5;241;43m=\u001b[39;49m\u001b[43mderived_context_features\u001b[49m\u001b[43m,\u001b[49m\n\u001b[1;32m   1558\u001b[0m \u001b[43m        \u001b[49m\u001b[43mdesired_conviction\u001b[49m\u001b[38;5;241;43m=\u001b[39;49m\u001b[43mdesired_conviction\u001b[49m\u001b[43m,\u001b[49m\n\u001b[1;32m   1559\u001b[0m \u001b[43m        \u001b[49m\u001b[43mdetails\u001b[49m\u001b[38;5;241;43m=\u001b[39;49m\u001b[43mdetails\u001b[49m\u001b[43m,\u001b[49m\n\u001b[1;32m   1560\u001b[0m \u001b[43m        \u001b[49m\u001b[43mexclude_novel_nominals_from_uniqueness_check\u001b[49m\u001b[38;5;241;43m=\u001b[39;49m\u001b[43mexclude_novel_nominals_from_uniqueness_check\u001b[49m\u001b[43m,\u001b[49m\n\u001b[1;32m   1561\u001b[0m \u001b[43m        \u001b[49m\u001b[43mfeature_bounds_map\u001b[49m\u001b[38;5;241;43m=\u001b[39;49m\u001b[43mfeature_bounds_map\u001b[49m\u001b[43m,\u001b[49m\n\u001b[1;32m   1562\u001b[0m \u001b[43m        \u001b[49m\u001b[43mgenerate_new_cases\u001b[49m\u001b[38;5;241;43m=\u001b[39;49m\u001b[43mgenerate_new_cases\u001b[49m\u001b[43m,\u001b[49m\n\u001b[1;32m   1563\u001b[0m \u001b[43m        \u001b[49m\u001b[43minitial_batch_size\u001b[49m\u001b[38;5;241;43m=\u001b[39;49m\u001b[43minitial_batch_size\u001b[49m\u001b[43m,\u001b[49m\n\u001b[1;32m   1564\u001b[0m \u001b[43m        \u001b[49m\u001b[43minput_is_substituted\u001b[49m\u001b[38;5;241;43m=\u001b[39;49m\u001b[43minput_is_substituted\u001b[49m\u001b[43m,\u001b[49m\n\u001b[1;32m   1565\u001b[0m \u001b[43m        \u001b[49m\u001b[43minto_series_store\u001b[49m\u001b[38;5;241;43m=\u001b[39;49m\u001b[43minto_series_store\u001b[49m\u001b[43m,\u001b[49m\n\u001b[1;32m   1566\u001b[0m \u001b[43m        \u001b[49m\u001b[43mleave_case_out\u001b[49m\u001b[38;5;241;43m=\u001b[39;49m\u001b[43mleave_case_out\u001b[49m\u001b[43m,\u001b[49m\n\u001b[1;32m   1567\u001b[0m \u001b[43m        \u001b[49m\u001b[43mnew_case_threshold\u001b[49m\u001b[38;5;241;43m=\u001b[39;49m\u001b[43mnew_case_threshold\u001b[49m\u001b[43m,\u001b[49m\n\u001b[1;32m   1568\u001b[0m \u001b[43m        \u001b[49m\u001b[43mnum_cases_to_generate\u001b[49m\u001b[38;5;241;43m=\u001b[39;49m\u001b[43mnum_cases_to_generate\u001b[49m\u001b[43m,\u001b[49m\n\u001b[1;32m   1569\u001b[0m \u001b[43m        \u001b[49m\u001b[43mordered_by_specified_features\u001b[49m\u001b[38;5;241;43m=\u001b[39;49m\u001b[43mordered_by_specified_features\u001b[49m\u001b[43m,\u001b[49m\n\u001b[1;32m   1570\u001b[0m \u001b[43m        \u001b[49m\u001b[43mpost_process_features\u001b[49m\u001b[38;5;241;43m=\u001b[39;49m\u001b[43mpost_process_features\u001b[49m\u001b[43m,\u001b[49m\n\u001b[1;32m   1571\u001b[0m \u001b[43m        \u001b[49m\u001b[43mpost_process_values\u001b[49m\u001b[38;5;241;43m=\u001b[39;49m\u001b[43mpost_process_values\u001b[49m\u001b[43m,\u001b[49m\n\u001b[1;32m   1572\u001b[0m \u001b[43m        \u001b[49m\u001b[43mpreserve_feature_values\u001b[49m\u001b[38;5;241;43m=\u001b[39;49m\u001b[43mpreserve_feature_values\u001b[49m\u001b[43m,\u001b[49m\n\u001b[1;32m   1573\u001b[0m \u001b[43m        \u001b[49m\u001b[43mprogress_callback\u001b[49m\u001b[38;5;241;43m=\u001b[39;49m\u001b[43mprogress_callback\u001b[49m\u001b[43m,\u001b[49m\n\u001b[1;32m   1574\u001b[0m \u001b[43m        \u001b[49m\u001b[43msubstitute_output\u001b[49m\u001b[38;5;241;43m=\u001b[39;49m\u001b[43msubstitute_output\u001b[49m\u001b[43m,\u001b[49m\n\u001b[1;32m   1575\u001b[0m \u001b[43m        \u001b[49m\u001b[43msuppress_warning\u001b[49m\u001b[38;5;241;43m=\u001b[39;49m\u001b[43msuppress_warning\u001b[49m\u001b[43m,\u001b[49m\n\u001b[1;32m   1576\u001b[0m \u001b[43m        \u001b[49m\u001b[43muse_case_weights\u001b[49m\u001b[38;5;241;43m=\u001b[39;49m\u001b[43muse_case_weights\u001b[49m\u001b[43m,\u001b[49m\n\u001b[1;32m   1577\u001b[0m \u001b[43m        \u001b[49m\u001b[43muse_regional_model_residuals\u001b[49m\u001b[38;5;241;43m=\u001b[39;49m\u001b[43muse_regional_model_residuals\u001b[49m\u001b[43m,\u001b[49m\n\u001b[1;32m   1578\u001b[0m \u001b[43m        \u001b[49m\u001b[43mweight_feature\u001b[49m\u001b[38;5;241;43m=\u001b[39;49m\u001b[43mweight_feature\u001b[49m\u001b[43m,\u001b[49m\n\u001b[1;32m   1579\u001b[0m \u001b[43m    \u001b[49m\u001b[43m)\u001b[49m\n",
      "File \u001b[0;32m~/.pyenv/versions/3.11.2/envs/engine_rec_311/lib/python3.11/site-packages/howso/client/pandas/client.py:217\u001b[0m, in \u001b[0;36mHowsoPandasClientMixin.react\u001b[0;34m(self, trainee_id, *args, **kwargs)\u001b[0m\n\u001b[1;32m    215\u001b[0m trainee_id \u001b[38;5;241m=\u001b[39m \u001b[38;5;28mself\u001b[39m\u001b[38;5;241m.\u001b[39m_resolve_trainee(trainee_id)\u001b[38;5;241m.\u001b[39mid\n\u001b[1;32m    216\u001b[0m feature_attributes \u001b[38;5;241m=\u001b[39m \u001b[38;5;28mself\u001b[39m\u001b[38;5;241m.\u001b[39mresolve_feature_attributes(trainee_id)\n\u001b[0;32m--> 217\u001b[0m response \u001b[38;5;241m=\u001b[39m \u001b[38;5;28;43msuper\u001b[39;49m\u001b[43m(\u001b[49m\u001b[43m)\u001b[49m\u001b[38;5;241;43m.\u001b[39;49m\u001b[43mreact\u001b[49m\u001b[43m(\u001b[49m\u001b[43mtrainee_id\u001b[49m\u001b[43m,\u001b[49m\u001b[43m \u001b[49m\u001b[38;5;241;43m*\u001b[39;49m\u001b[43margs\u001b[49m\u001b[43m,\u001b[49m\u001b[43m \u001b[49m\u001b[38;5;241;43m*\u001b[39;49m\u001b[38;5;241;43m*\u001b[39;49m\u001b[43mkwargs\u001b[49m\u001b[43m)\u001b[49m\n\u001b[1;32m    218\u001b[0m columns \u001b[38;5;241m=\u001b[39m response[\u001b[38;5;124m'\u001b[39m\u001b[38;5;124mdetails\u001b[39m\u001b[38;5;124m'\u001b[39m]\u001b[38;5;241m.\u001b[39mget(\u001b[38;5;124m'\u001b[39m\u001b[38;5;124maction_features\u001b[39m\u001b[38;5;124m'\u001b[39m)\n\u001b[1;32m    219\u001b[0m \u001b[38;5;28;01mif\u001b[39;00m \u001b[38;5;124m'\u001b[39m\u001b[38;5;124mprediction_stats\u001b[39m\u001b[38;5;124m'\u001b[39m \u001b[38;5;129;01min\u001b[39;00m response[\u001b[38;5;124m'\u001b[39m\u001b[38;5;124mdetails\u001b[39m\u001b[38;5;124m'\u001b[39m]:\n",
      "File \u001b[0;32m~/.pyenv/versions/3.11.2/envs/engine_rec_311/lib/python3.11/site-packages/howso/client/base.py:2034\u001b[0m, in \u001b[0;36mAbstractHowsoClient.react\u001b[0;34m(self, trainee_id, action_features, actions, allow_nulls, batch_size, case_indices, contexts, context_features, derived_action_features, derived_context_features, desired_conviction, details, exclude_novel_nominals_from_uniqueness_check, feature_bounds_map, generate_new_cases, initial_batch_size, input_is_substituted, into_series_store, leave_case_out, new_case_threshold, num_cases_to_generate, ordered_by_specified_features, post_process_features, post_process_values, preserve_feature_values, progress_callback, substitute_output, suppress_warning, use_case_weights, use_regional_model_residuals, weight_feature)\u001b[0m\n\u001b[1;32m   2032\u001b[0m     \u001b[38;5;28;01mif\u001b[39;00m \u001b[38;5;28misinstance\u001b[39m(progress_callback, Callable):\n\u001b[1;32m   2033\u001b[0m         progress_callback(progress, \u001b[38;5;28;01mNone\u001b[39;00m)\n\u001b[0;32m-> 2034\u001b[0m     response, _, _ \u001b[38;5;241m=\u001b[39m \u001b[38;5;28;43mself\u001b[39;49m\u001b[38;5;241;43m.\u001b[39;49m\u001b[43m_react\u001b[49m\u001b[43m(\u001b[49m\u001b[43mtrainee_id\u001b[49m\u001b[43m,\u001b[49m\u001b[43m \u001b[49m\u001b[43mreact_params\u001b[49m\u001b[43m)\u001b[49m\n\u001b[1;32m   2035\u001b[0m     progress\u001b[38;5;241m.\u001b[39mupdate(total_size)\n\u001b[1;32m   2037\u001b[0m \u001b[38;5;28;01mif\u001b[39;00m \u001b[38;5;28misinstance\u001b[39m(progress_callback, Callable):\n",
      "File \u001b[0;32m~/.pyenv/versions/3.11.2/envs/engine_rec_311/lib/python3.11/site-packages/howso/client/base.py:2162\u001b[0m, in \u001b[0;36mAbstractHowsoClient._react\u001b[0;34m(self, trainee_id, params)\u001b[0m\n\u001b[1;32m   2142\u001b[0m \u001b[38;5;28;01mdef\u001b[39;00m \u001b[38;5;21m_react\u001b[39m(\u001b[38;5;28mself\u001b[39m, trainee_id: \u001b[38;5;28mstr\u001b[39m, params: \u001b[38;5;28mdict\u001b[39m) \u001b[38;5;241m-\u001b[39m\u001b[38;5;241m>\u001b[39m \u001b[38;5;28mtuple\u001b[39m[\u001b[38;5;28mdict\u001b[39m, \u001b[38;5;28mint\u001b[39m, \u001b[38;5;28mint\u001b[39m]:\n\u001b[1;32m   2143\u001b[0m \u001b[38;5;250m    \u001b[39m\u001b[38;5;124;03m\"\"\"\u001b[39;00m\n\u001b[1;32m   2144\u001b[0m \u001b[38;5;124;03m    Make a single react request.\u001b[39;00m\n\u001b[1;32m   2145\u001b[0m \n\u001b[0;32m   (...)\u001b[0m\n\u001b[1;32m   2160\u001b[0m \u001b[38;5;124;03m        The response payload size.\u001b[39;00m\n\u001b[1;32m   2161\u001b[0m \u001b[38;5;124;03m    \"\"\"\u001b[39;00m\n\u001b[0;32m-> 2162\u001b[0m     ret, in_size, out_size \u001b[38;5;241m=\u001b[39m \u001b[38;5;28;43mself\u001b[39;49m\u001b[38;5;241;43m.\u001b[39;49m\u001b[43mexecute_sized\u001b[49m\u001b[43m(\u001b[49m\u001b[43mtrainee_id\u001b[49m\u001b[43m,\u001b[49m\u001b[43m \u001b[49m\u001b[38;5;124;43m'\u001b[39;49m\u001b[38;5;124;43mreact\u001b[39;49m\u001b[38;5;124;43m'\u001b[39;49m\u001b[43m,\u001b[49m\u001b[43m \u001b[49m\u001b[43mparams\u001b[49m\u001b[43m)\u001b[49m\n\u001b[1;32m   2164\u001b[0m     \u001b[38;5;66;03m# Action values and features should always be defined\u001b[39;00m\n\u001b[1;32m   2165\u001b[0m     \u001b[38;5;28;01mif\u001b[39;00m \u001b[38;5;129;01mnot\u001b[39;00m ret\u001b[38;5;241m.\u001b[39mget(\u001b[38;5;124m'\u001b[39m\u001b[38;5;124maction_values\u001b[39m\u001b[38;5;124m'\u001b[39m):\n",
      "File \u001b[0;32m~/.pyenv/versions/3.11.2/envs/engine_rec_311/lib/python3.11/site-packages/howso/direct/client.py:593\u001b[0m, in \u001b[0;36mHowsoDirectClient.execute_sized\u001b[0;34m(self, trainee_id, label, payload, **kwargs)\u001b[0m\n\u001b[1;32m    591\u001b[0m \u001b[38;5;28;01mtry\u001b[39;00m:\n\u001b[1;32m    592\u001b[0m     json_payload \u001b[38;5;241m=\u001b[39m json\u001b[38;5;241m.\u001b[39mdumps(payload)\n\u001b[0;32m--> 593\u001b[0m     result \u001b[38;5;241m=\u001b[39m \u001b[38;5;28;43mself\u001b[39;49m\u001b[38;5;241;43m.\u001b[39;49m\u001b[43mamlg\u001b[49m\u001b[38;5;241;43m.\u001b[39;49m\u001b[43mexecute_entity_json\u001b[49m\u001b[43m(\u001b[49m\u001b[43mtrainee_id\u001b[49m\u001b[43m,\u001b[49m\u001b[43m \u001b[49m\u001b[43mlabel\u001b[49m\u001b[43m,\u001b[49m\u001b[43m \u001b[49m\u001b[43mjson_payload\u001b[49m\u001b[43m)\u001b[49m\n\u001b[1;32m    594\u001b[0m \u001b[38;5;28;01mexcept\u001b[39;00m \u001b[38;5;167;01mValueError\u001b[39;00m \u001b[38;5;28;01mas\u001b[39;00m err:\n\u001b[1;32m    595\u001b[0m     \u001b[38;5;28;01mraise\u001b[39;00m HowsoError(\u001b[38;5;124m'\u001b[39m\u001b[38;5;124mInvalid payload - please check for infinity or NaN values\u001b[39m\u001b[38;5;124m'\u001b[39m) \u001b[38;5;28;01mfrom\u001b[39;00m \u001b[38;5;21;01merr\u001b[39;00m\n",
      "File \u001b[0;32m~/.pyenv/versions/3.11.2/envs/engine_rec_311/lib/python3.11/site-packages/amalgam/api.py:1024\u001b[0m, in \u001b[0;36mAmalgam.execute_entity_json\u001b[0;34m(self, handle, label, json)\u001b[0m\n\u001b[1;32m   1017\u001b[0m \u001b[38;5;28mself\u001b[39m\u001b[38;5;241m.\u001b[39m_log_time(\u001b[38;5;124m\"\u001b[39m\u001b[38;5;124mEXECUTION START\u001b[39m\u001b[38;5;124m\"\u001b[39m)\n\u001b[1;32m   1018\u001b[0m \u001b[38;5;28mself\u001b[39m\u001b[38;5;241m.\u001b[39m_log_execution((\n\u001b[1;32m   1019\u001b[0m     \u001b[38;5;124m\"\u001b[39m\u001b[38;5;124mEXECUTE_ENTITY_JSON \u001b[39m\u001b[38;5;124m\"\u001b[39m\n\u001b[1;32m   1020\u001b[0m     \u001b[38;5;124mf\u001b[39m\u001b[38;5;124m\"\u001b[39m\u001b[38;5;130;01m\\\"\u001b[39;00m\u001b[38;5;132;01m{\u001b[39;00m\u001b[38;5;28mself\u001b[39m\u001b[38;5;241m.\u001b[39mescape_double_quotes(handle)\u001b[38;5;132;01m}\u001b[39;00m\u001b[38;5;130;01m\\\"\u001b[39;00m\u001b[38;5;124m \u001b[39m\u001b[38;5;124m\"\u001b[39m\n\u001b[1;32m   1021\u001b[0m     \u001b[38;5;124mf\u001b[39m\u001b[38;5;124m\"\u001b[39m\u001b[38;5;130;01m\\\"\u001b[39;00m\u001b[38;5;132;01m{\u001b[39;00m\u001b[38;5;28mself\u001b[39m\u001b[38;5;241m.\u001b[39mescape_double_quotes(label)\u001b[38;5;132;01m}\u001b[39;00m\u001b[38;5;130;01m\\\"\u001b[39;00m\u001b[38;5;124m \u001b[39m\u001b[38;5;124m\"\u001b[39m\n\u001b[1;32m   1022\u001b[0m     \u001b[38;5;124mf\u001b[39m\u001b[38;5;124m\"\u001b[39m\u001b[38;5;132;01m{\u001b[39;00mjson\u001b[38;5;132;01m}\u001b[39;00m\u001b[38;5;124m\"\u001b[39m\n\u001b[1;32m   1023\u001b[0m ))\n\u001b[0;32m-> 1024\u001b[0m result \u001b[38;5;241m=\u001b[39m \u001b[38;5;28mself\u001b[39m\u001b[38;5;241m.\u001b[39mchar_p_to_bytes(\u001b[38;5;28;43mself\u001b[39;49m\u001b[38;5;241;43m.\u001b[39;49m\u001b[43mamlg\u001b[49m\u001b[38;5;241;43m.\u001b[39;49m\u001b[43mExecuteEntityJsonPtr\u001b[49m\u001b[43m(\u001b[49m\n\u001b[1;32m   1025\u001b[0m \u001b[43m    \u001b[49m\u001b[43mhandle_buf\u001b[49m\u001b[43m,\u001b[49m\u001b[43m \u001b[49m\u001b[43mlabel_buf\u001b[49m\u001b[43m,\u001b[49m\u001b[43m \u001b[49m\u001b[43mjson_buf\u001b[49m\u001b[43m)\u001b[49m)\n\u001b[1;32m   1026\u001b[0m \u001b[38;5;28mself\u001b[39m\u001b[38;5;241m.\u001b[39m_log_time(\u001b[38;5;124m\"\u001b[39m\u001b[38;5;124mEXECUTION STOP\u001b[39m\u001b[38;5;124m\"\u001b[39m)\n\u001b[1;32m   1027\u001b[0m \u001b[38;5;28mself\u001b[39m\u001b[38;5;241m.\u001b[39m_log_reply(result)\n",
      "\u001b[0;31mKeyboardInterrupt\u001b[0m: "
     ]
    }
   ],
   "source": [
    "post_trim_accuracy_tracker = []\n",
    "pre_trim_accuracy_tracker = []\n",
    "\n",
    "for run in range(1):\n",
    "    # sample_size = 6000\n",
    "\n",
    "    # Subsample the data to ensure the example runs quickly\n",
    "    # df_sample = df.sample(sample_size)\n",
    "\n",
    "    train_df, test_df = train_test_split(df, test_size=0.20) #,random_state=42)\n",
    "\n",
    "    # Infer features attributes\n",
    "    features = infer_feature_attributes(train_df)\n",
    "\n",
    "    # Specify Context and Action Features\n",
    "    action_features = ['target']\n",
    "    context_features = features.get_names(without=action_features)\n",
    "    # Create the Trainee\n",
    "    t = Trainee(features=features)\n",
    "    # Train\n",
    "    t.train(train_df)\n",
    "\n",
    "    # Analyze the Trainee\n",
    "    # (By specifying action_features, this becomes a Targeted analysis)\n",
    "    t.analyze(context_features=context_features, action_features=action_features)\n",
    "\n",
    "    pre_predictions = t.predict(\n",
    "        test_df[context_features],\n",
    "        context_features=context_features,\n",
    "        action_features=action_features,\n",
    "    )\n",
    "\n",
    "    pre_trim_accuracy = accuracy_score(test_df[action_features[0]], pre_predictions['target'])\n",
    "    pre_trim_accuracy_tracker.append(pre_trim_accuracy)\n",
    "\n",
    "    cases = t.get_cases(session=t.active_session, features=['.session_training_index', '.session'])\n",
    "    session_id = cases['.session'].loc[0]\n",
    "\n",
    "    to_remove = {}\n",
    "    for case in cases[\".session_training_index\"]:\n",
    "        results = t.react(\n",
    "            case_indices=[(session_id, case)],\n",
    "            preserve_feature_values=context_features,\n",
    "            action_features=action_features,\n",
    "            leave_case_out=True,\n",
    "            details = {\n",
    "                \"case_mda_robust\": True,\n",
    "                \"prediction_stats\": True,\n",
    "                \"local_case_feature_residual_convictions_full\": True}\n",
    "        )\n",
    "        case_mdas = results['details']['case_mda_robust'][0]\n",
    "        local_accuracy = results['details']['prediction_stats']['target']['accuracy']\n",
    "        residual_conviction = results['details'][\"local_case_feature_residual_convictions_full\"][0]['target']\n",
    "        # if local_accuracy > 0.3 or local_accuracy < 0.7:\n",
    "        # if residual_conviction > 0.4:\n",
    "        for mda in case_mdas:\n",
    "            if mda['mda'] < -0.01:\n",
    "                if mda['.session_training_index'] in to_remove:\n",
    "                    to_remove[mda['.session_training_index']] += 1\n",
    "                else:\n",
    "                    to_remove[mda['.session_training_index']] = 1\n",
    "\n",
    "        # Sort the dictionary keys by their values\n",
    "        sorted_keys = sorted(to_remove, key=lambda x: to_remove[x], reverse=True)\n",
    "        to_remove = {key: to_remove[key] for key in sorted_keys}\n",
    "\n",
    "    filtered_data = {key: value for key, value in to_remove.items() if value >= 3}\n",
    "    len(filtered_data)\n",
    "    # remove cases using \".session_training_index\"\n",
    "    for key in filtered_data.keys():\n",
    "        t.remove_cases(num_cases=1, case_indices=[(session_id, key)])\n",
    "\n",
    "    post_predictions = t.predict(\n",
    "        test_df[context_features],\n",
    "        context_features=context_features,\n",
    "        action_features=action_features,\n",
    "    )\n",
    "\n",
    "    post_trim_accuracy = accuracy_score(test_df[action_features[0]], post_predictions['target'])\n",
    "    post_trim_accuracy_tracker.append(post_trim_accuracy)"
   ]
  },
  {
   "cell_type": "code",
   "execution_count": null,
   "id": "3e0684ad",
   "metadata": {},
   "outputs": [],
   "source": [
    "sum(pre_trim_accuracy_tracker)/len(pre_trim_accuracy_tracker)"
   ]
  },
  {
   "cell_type": "code",
   "execution_count": null,
   "id": "a2d98626",
   "metadata": {},
   "outputs": [],
   "source": [
    "sum(post_trim_accuracy_tracker)/len(post_trim_accuracy_tracker)"
   ]
  },
  {
   "cell_type": "code",
   "execution_count": null,
   "id": "1d3e225b",
   "metadata": {},
   "outputs": [],
   "source": [
    "# Perform an independent two-sample t-test (one-sided)\n",
    "t_stat, p_value = stats.ttest_ind(post_trim_accuracy_tracker, pre_trim_accuracy_tracker, alternative='greater')\n",
    "p_value"
   ]
  }
 ],
 "metadata": {
  "kernelspec": {
   "display_name": "Python 3 (ipykernel)",
   "language": "python",
   "name": "python3"
  },
  "language_info": {
   "codemirror_mode": {
    "name": "ipython",
    "version": 3
   },
   "file_extension": ".py",
   "mimetype": "text/x-python",
   "name": "python",
   "nbconvert_exporter": "python",
   "pygments_lexer": "ipython3",
   "version": "3.11.2"
  },
  "vscode": {
   "interpreter": {
    "hash": "d9b4298285f63347a4f5469a5c77e773aa0d93492a1da372f14781d93b4190a0"
   }
  }
 },
 "nbformat": 4,
 "nbformat_minor": 5
}
