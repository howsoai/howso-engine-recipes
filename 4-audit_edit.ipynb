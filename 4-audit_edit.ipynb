{
 "cells": [
  {
   "attachments": {},
   "cell_type": "markdown",
   "id": "69d7ac54-9a3b-4327-93a5-eb6fbf314530",
   "metadata": {
    "tags": []
   },
   "source": [
    "# Recipe 4: Auditing and Editing\n",
    "## Overview \n",
    "\n",
    "Howso Engine's instance-based machine learning approach enables unique capabilities in addition to interpretability, which we learned about in the previous recipes. We were able to detect possible anomalies and investigate Influential Cases and features that may be of concern. Using that information combined with Howso Engine giving us dynamic control over our Trainee, we can take meaningful action without having to dramatically incur additional expenses of retrain the Trainee. This is in contrast to most machine learning models which, once trained, are difficult to update without retraining the entire model. \n",
    "\n",
    "In this notebook we demonstrate the editability of a Howso Engine Trainee to take advantage of the Trainee and data diagnostic results shown from the `2-interpretability.ipynb`. \n",
    "\n",
    "This can be done on a small scale where we show how a Case can be edited or removed to modify the behavior of the Trainee. A  Howso Engine Session allows us to toggle entire batches of training data and add/remove large chunks of training data. This can be very useful if we are continously adding data to our Trainee and we discover that certain batches are undesirable.\n",
    "\n",
    "### Howso Engine Session\n",
    "\n",
    "A Trainee Session is associated with each modification to a Trainee, which is useful for auditability. A Session consists of the following information:  \n",
    "\n",
    "- Unique identifier  \n",
    "\n",
    "- The user for which the Session was created  \n",
    "\n",
    "- Date the Session was created \n",
    "\n",
    "- Name, given by the user (Optional) \n",
    "\n",
    "- Metadata for the user to store information (Optional) \n",
    "\n",
    "When working with Trainees, a default Session will be automatically started for you unless you explicitly start (or create) your own. This Session will be used for all interactions with the Trainee, unless a new Session is explicitly started, for as long as your Client is running. Additionally, each instance of a Howso Client will use its own unique active Session. Starting a new Session explicitly is useful if you want to give it a name and/or metadata for your own reference later, or if you wish to use separate Sessions for different modifications of the Trainee. For example, using a unique Session each time you train would allow you to later reference the specific cases that were trained by a certain Session. \n",
    "\n"
   ]
  },
  {
   "attachments": {},
   "cell_type": "markdown",
   "id": "8c9eefe9",
   "metadata": {},
   "source": [
    "## Recipe Goals:\n",
    "\n",
    "This notebook will show how to edit cases in a Howso Engine Trainee, either individually or in batches through the use of Sessions. This will allow the user to take action on Cases they deemed necessary through use of the interpretability and auditing tools show in previous recipes."
   ]
  },
  {
   "cell_type": "code",
   "execution_count": 1,
   "id": "f6cbaf0d-4f1f-410d-9cfd-1114f34c8c00",
   "metadata": {
    "execution": {
     "iopub.execute_input": "2024-02-08T19:45:59.265393Z",
     "iopub.status.busy": "2024-02-08T19:45:59.265229Z",
     "iopub.status.idle": "2024-02-08T19:45:59.650016Z",
     "shell.execute_reply": "2024-02-08T19:45:59.649483Z"
    }
   },
   "outputs": [],
   "source": [
    "import pandas as pd\n",
    "from pmlb import fetch_data\n",
    "\n",
    "from howso import engine\n",
    "from howso.utilities import infer_feature_attributes"
   ]
  },
  {
   "attachments": {},
   "cell_type": "markdown",
   "id": "f02595ed-6e01-4c05-91de-67c938fd402d",
   "metadata": {},
   "source": [
    "# Section 1: Train and Analyze a Trainee"
   ]
  },
  {
   "attachments": {},
   "cell_type": "markdown",
   "id": "8a1f5ffa-d96e-44b8-9152-9e7811b6f9b4",
   "metadata": {},
   "source": [
    "### 1. Load Data\n",
    "\n",
    "Our example dataset for this recipe continues to be the well known `Adult` dataset. This dataset consists of 14 Context Features and 1 Action Feature. The Action Feature in this version of the `Adult` dataset has been renamed to `target` and it takes the form of a binary indicator for whether a person in the data makes over $50,000/year (*target*=1) or less (*target*=0)."
   ]
  },
  {
   "cell_type": "code",
   "execution_count": 2,
   "id": "e5a7a925-5a9d-47fb-b4a3-3272203d4772",
   "metadata": {
    "execution": {
     "iopub.execute_input": "2024-02-08T19:45:59.652755Z",
     "iopub.status.busy": "2024-02-08T19:45:59.652510Z",
     "iopub.status.idle": "2024-02-08T19:45:59.718427Z",
     "shell.execute_reply": "2024-02-08T19:45:59.717933Z"
    }
   },
   "outputs": [
    {
     "data": {
      "text/html": [
       "<div>\n",
       "<style scoped>\n",
       "    .dataframe tbody tr th:only-of-type {\n",
       "        vertical-align: middle;\n",
       "    }\n",
       "\n",
       "    .dataframe tbody tr th {\n",
       "        vertical-align: top;\n",
       "    }\n",
       "\n",
       "    .dataframe thead th {\n",
       "        text-align: right;\n",
       "    }\n",
       "</style>\n",
       "<table border=\"1\" class=\"dataframe\">\n",
       "  <thead>\n",
       "    <tr style=\"text-align: right;\">\n",
       "      <th></th>\n",
       "      <th>age</th>\n",
       "      <th>workclass</th>\n",
       "      <th>fnlwgt</th>\n",
       "      <th>education</th>\n",
       "      <th>education-num</th>\n",
       "      <th>marital-status</th>\n",
       "      <th>occupation</th>\n",
       "      <th>relationship</th>\n",
       "      <th>race</th>\n",
       "      <th>sex</th>\n",
       "      <th>capital-gain</th>\n",
       "      <th>capital-loss</th>\n",
       "      <th>hours-per-week</th>\n",
       "      <th>native-country</th>\n",
       "      <th>target</th>\n",
       "    </tr>\n",
       "  </thead>\n",
       "  <tbody>\n",
       "    <tr>\n",
       "      <th>38113</th>\n",
       "      <td>41.0</td>\n",
       "      <td>4</td>\n",
       "      <td>151856.0</td>\n",
       "      <td>11</td>\n",
       "      <td>9.0</td>\n",
       "      <td>2</td>\n",
       "      <td>11</td>\n",
       "      <td>0</td>\n",
       "      <td>4</td>\n",
       "      <td>1</td>\n",
       "      <td>0.0</td>\n",
       "      <td>0.0</td>\n",
       "      <td>40.0</td>\n",
       "      <td>39</td>\n",
       "      <td>1</td>\n",
       "    </tr>\n",
       "    <tr>\n",
       "      <th>39214</th>\n",
       "      <td>57.0</td>\n",
       "      <td>6</td>\n",
       "      <td>87584.0</td>\n",
       "      <td>10</td>\n",
       "      <td>16.0</td>\n",
       "      <td>0</td>\n",
       "      <td>10</td>\n",
       "      <td>1</td>\n",
       "      <td>4</td>\n",
       "      <td>0</td>\n",
       "      <td>0.0</td>\n",
       "      <td>0.0</td>\n",
       "      <td>25.0</td>\n",
       "      <td>39</td>\n",
       "      <td>1</td>\n",
       "    </tr>\n",
       "    <tr>\n",
       "      <th>44248</th>\n",
       "      <td>31.0</td>\n",
       "      <td>2</td>\n",
       "      <td>220669.0</td>\n",
       "      <td>9</td>\n",
       "      <td>13.0</td>\n",
       "      <td>4</td>\n",
       "      <td>10</td>\n",
       "      <td>3</td>\n",
       "      <td>4</td>\n",
       "      <td>0</td>\n",
       "      <td>6849.0</td>\n",
       "      <td>0.0</td>\n",
       "      <td>40.0</td>\n",
       "      <td>39</td>\n",
       "      <td>1</td>\n",
       "    </tr>\n",
       "    <tr>\n",
       "      <th>10283</th>\n",
       "      <td>55.0</td>\n",
       "      <td>4</td>\n",
       "      <td>171355.0</td>\n",
       "      <td>8</td>\n",
       "      <td>11.0</td>\n",
       "      <td>2</td>\n",
       "      <td>7</td>\n",
       "      <td>0</td>\n",
       "      <td>4</td>\n",
       "      <td>1</td>\n",
       "      <td>0.0</td>\n",
       "      <td>0.0</td>\n",
       "      <td>20.0</td>\n",
       "      <td>39</td>\n",
       "      <td>1</td>\n",
       "    </tr>\n",
       "    <tr>\n",
       "      <th>26724</th>\n",
       "      <td>59.0</td>\n",
       "      <td>6</td>\n",
       "      <td>148626.0</td>\n",
       "      <td>0</td>\n",
       "      <td>6.0</td>\n",
       "      <td>2</td>\n",
       "      <td>5</td>\n",
       "      <td>0</td>\n",
       "      <td>4</td>\n",
       "      <td>1</td>\n",
       "      <td>0.0</td>\n",
       "      <td>0.0</td>\n",
       "      <td>40.0</td>\n",
       "      <td>39</td>\n",
       "      <td>1</td>\n",
       "    </tr>\n",
       "    <tr>\n",
       "      <th>...</th>\n",
       "      <td>...</td>\n",
       "      <td>...</td>\n",
       "      <td>...</td>\n",
       "      <td>...</td>\n",
       "      <td>...</td>\n",
       "      <td>...</td>\n",
       "      <td>...</td>\n",
       "      <td>...</td>\n",
       "      <td>...</td>\n",
       "      <td>...</td>\n",
       "      <td>...</td>\n",
       "      <td>...</td>\n",
       "      <td>...</td>\n",
       "      <td>...</td>\n",
       "      <td>...</td>\n",
       "    </tr>\n",
       "    <tr>\n",
       "      <th>4721</th>\n",
       "      <td>60.0</td>\n",
       "      <td>0</td>\n",
       "      <td>204486.0</td>\n",
       "      <td>9</td>\n",
       "      <td>13.0</td>\n",
       "      <td>2</td>\n",
       "      <td>0</td>\n",
       "      <td>0</td>\n",
       "      <td>4</td>\n",
       "      <td>1</td>\n",
       "      <td>0.0</td>\n",
       "      <td>0.0</td>\n",
       "      <td>8.0</td>\n",
       "      <td>39</td>\n",
       "      <td>0</td>\n",
       "    </tr>\n",
       "    <tr>\n",
       "      <th>40113</th>\n",
       "      <td>48.0</td>\n",
       "      <td>2</td>\n",
       "      <td>93449.0</td>\n",
       "      <td>14</td>\n",
       "      <td>15.0</td>\n",
       "      <td>2</td>\n",
       "      <td>10</td>\n",
       "      <td>0</td>\n",
       "      <td>1</td>\n",
       "      <td>1</td>\n",
       "      <td>99999.0</td>\n",
       "      <td>0.0</td>\n",
       "      <td>40.0</td>\n",
       "      <td>30</td>\n",
       "      <td>0</td>\n",
       "    </tr>\n",
       "    <tr>\n",
       "      <th>17827</th>\n",
       "      <td>25.0</td>\n",
       "      <td>4</td>\n",
       "      <td>114838.0</td>\n",
       "      <td>14</td>\n",
       "      <td>15.0</td>\n",
       "      <td>4</td>\n",
       "      <td>10</td>\n",
       "      <td>1</td>\n",
       "      <td>4</td>\n",
       "      <td>0</td>\n",
       "      <td>0.0</td>\n",
       "      <td>0.0</td>\n",
       "      <td>8.0</td>\n",
       "      <td>22</td>\n",
       "      <td>1</td>\n",
       "    </tr>\n",
       "    <tr>\n",
       "      <th>35120</th>\n",
       "      <td>22.0</td>\n",
       "      <td>4</td>\n",
       "      <td>202125.0</td>\n",
       "      <td>11</td>\n",
       "      <td>9.0</td>\n",
       "      <td>2</td>\n",
       "      <td>12</td>\n",
       "      <td>0</td>\n",
       "      <td>4</td>\n",
       "      <td>1</td>\n",
       "      <td>0.0</td>\n",
       "      <td>0.0</td>\n",
       "      <td>50.0</td>\n",
       "      <td>39</td>\n",
       "      <td>1</td>\n",
       "    </tr>\n",
       "    <tr>\n",
       "      <th>9138</th>\n",
       "      <td>27.0</td>\n",
       "      <td>0</td>\n",
       "      <td>61387.0</td>\n",
       "      <td>9</td>\n",
       "      <td>13.0</td>\n",
       "      <td>2</td>\n",
       "      <td>0</td>\n",
       "      <td>0</td>\n",
       "      <td>4</td>\n",
       "      <td>1</td>\n",
       "      <td>0.0</td>\n",
       "      <td>0.0</td>\n",
       "      <td>15.0</td>\n",
       "      <td>39</td>\n",
       "      <td>1</td>\n",
       "    </tr>\n",
       "  </tbody>\n",
       "</table>\n",
       "<p>1001 rows × 15 columns</p>\n",
       "</div>"
      ],
      "text/plain": [
       "        age  workclass    fnlwgt  education  education-num  marital-status  \\\n",
       "38113  41.0          4  151856.0         11            9.0               2   \n",
       "39214  57.0          6   87584.0         10           16.0               0   \n",
       "44248  31.0          2  220669.0          9           13.0               4   \n",
       "10283  55.0          4  171355.0          8           11.0               2   \n",
       "26724  59.0          6  148626.0          0            6.0               2   \n",
       "...     ...        ...       ...        ...            ...             ...   \n",
       "4721   60.0          0  204486.0          9           13.0               2   \n",
       "40113  48.0          2   93449.0         14           15.0               2   \n",
       "17827  25.0          4  114838.0         14           15.0               4   \n",
       "35120  22.0          4  202125.0         11            9.0               2   \n",
       "9138   27.0          0   61387.0          9           13.0               2   \n",
       "\n",
       "       occupation  relationship  race  sex  capital-gain  capital-loss  \\\n",
       "38113          11             0     4    1           0.0           0.0   \n",
       "39214          10             1     4    0           0.0           0.0   \n",
       "44248          10             3     4    0        6849.0           0.0   \n",
       "10283           7             0     4    1           0.0           0.0   \n",
       "26724           5             0     4    1           0.0           0.0   \n",
       "...           ...           ...   ...  ...           ...           ...   \n",
       "4721            0             0     4    1           0.0           0.0   \n",
       "40113          10             0     1    1       99999.0           0.0   \n",
       "17827          10             1     4    0           0.0           0.0   \n",
       "35120          12             0     4    1           0.0           0.0   \n",
       "9138            0             0     4    1           0.0           0.0   \n",
       "\n",
       "       hours-per-week  native-country  target  \n",
       "38113            40.0              39       1  \n",
       "39214            25.0              39       1  \n",
       "44248            40.0              39       1  \n",
       "10283            20.0              39       1  \n",
       "26724            40.0              39       1  \n",
       "...               ...             ...     ...  \n",
       "4721              8.0              39       0  \n",
       "40113            40.0              30       0  \n",
       "17827             8.0              22       1  \n",
       "35120            50.0              39       1  \n",
       "9138             15.0              39       1  \n",
       "\n",
       "[1001 rows x 15 columns]"
      ]
     },
     "execution_count": 2,
     "metadata": {},
     "output_type": "execute_result"
    }
   ],
   "source": [
    "df = fetch_data('adult', local_cache_dir=\"data/adult\")\n",
    "\n",
    "# subsample the data to ensure the example runs quickly\n",
    "df = df.sample(1001, random_state=0)\n",
    "\n",
    "df"
   ]
  },
  {
   "attachments": {},
   "cell_type": "markdown",
   "id": "35ec53b0-b623-427a-b2a6-8e55ebfef1bc",
   "metadata": {},
   "source": [
    "### 2. Train Trainee with Sessions\n",
    "\n",
    "In this section we will perform all of the steps needed to train Howso Engine's Trainee.\n"
   ]
  },
  {
   "cell_type": "code",
   "execution_count": 3,
   "id": "086a95e5-e236-4806-b6e4-65ea94f43f28",
   "metadata": {
    "execution": {
     "iopub.execute_input": "2024-02-08T19:45:59.720586Z",
     "iopub.status.busy": "2024-02-08T19:45:59.720411Z",
     "iopub.status.idle": "2024-02-08T19:45:59.740141Z",
     "shell.execute_reply": "2024-02-08T19:45:59.739737Z"
    }
   },
   "outputs": [],
   "source": [
    "# Infer features attributes\n",
    "features = infer_feature_attributes(df)\n",
    "\n",
    "# Specify Context and Action Features\n",
    "action_features = ['target']\n",
    "context_features = features.get_names(without=action_features)\n",
    "\n",
    "# We extract one row for demonstrative purposes later\n",
    "test_case = df.iloc[0]  \n",
    "df = df.iloc[1:]  \n",
    "\n",
    "# Split the data into Context Features (X) and Action Feature (y)\n",
    "dfX = df[context_features]\n",
    "dfy = df[action_features]"
   ]
  },
  {
   "attachments": {},
   "cell_type": "markdown",
   "id": "b83b096b-8bb1-482e-8ed2-dc7c2a7b2c90",
   "metadata": {},
   "source": [
    "#### 2a. Experiment\n",
    "\n",
    "To demonstrate how to edit Cases, we will break the training into two sessions. \n",
    "\n",
    "1. The first session is for the original dataset \n",
    "2. The second session is a modified dataset containing a target feature that is flipped from the true value"
   ]
  },
  {
   "cell_type": "code",
   "execution_count": 4,
   "id": "df523c17",
   "metadata": {
    "execution": {
     "iopub.execute_input": "2024-02-08T19:45:59.742398Z",
     "iopub.status.busy": "2024-02-08T19:45:59.742056Z",
     "iopub.status.idle": "2024-02-08T19:45:59.746708Z",
     "shell.execute_reply": "2024-02-08T19:45:59.746298Z"
    }
   },
   "outputs": [],
   "source": [
    "ind_session_1 = dfX.index[ :(dfX.shape[0] //2 )]\n",
    "ind_session_2 = dfX.index[ (dfX.shape[0] //2 ):]\n",
    "\n",
    "X_train_1 = dfX.loc[ind_session_1]\n",
    "y_train_1 = dfy.loc[ind_session_1]\n",
    "\n",
    "X_train_2 = dfX.loc[ind_session_2]\n",
    "\n",
    "# Use a \"random infer\" that always infers wrong\n",
    "y_train = dfy['target']\n",
    "y_train_2 = pd.Series([int(not x) for x in y_train.loc[ind_session_2]], name=action_features[0], index=ind_session_2)"
   ]
  },
  {
   "cell_type": "code",
   "execution_count": 5,
   "id": "ab02d5f1-77b1-432f-a2ef-02009cb5cdb0",
   "metadata": {
    "execution": {
     "iopub.execute_input": "2024-02-08T19:45:59.748583Z",
     "iopub.status.busy": "2024-02-08T19:45:59.748430Z",
     "iopub.status.idle": "2024-02-08T19:46:09.958985Z",
     "shell.execute_reply": "2024-02-08T19:46:09.958452Z"
    }
   },
   "outputs": [],
   "source": [
    "# Create the Trainee\n",
    "t = engine.Trainee(\n",
    "    features=features, \n",
    "    overwrite_existing=True\n",
    ")\n",
    "\n",
    "session = engine.Session('train_session_1', metadata={'data': 'original data'})\n",
    "t.train(X_train_1.join(y_train_1))\n",
    "\n",
    "session = engine.Session('train_session_2', metadata={'data': 'modified data (\"random inferer\"'})\n",
    "t.train(X_train_2.join(y_train_2))\n",
    "\n",
    "# Analyze the Trainee\n",
    "t.analyze()"
   ]
  },
  {
   "attachments": {},
   "cell_type": "markdown",
   "id": "6ea7bcc5",
   "metadata": {},
   "source": [
    "### 3. React"
   ]
  },
  {
   "cell_type": "code",
   "execution_count": 6,
   "id": "17647b1b",
   "metadata": {
    "execution": {
     "iopub.execute_input": "2024-02-08T19:46:09.961857Z",
     "iopub.status.busy": "2024-02-08T19:46:09.961361Z",
     "iopub.status.idle": "2024-02-08T19:46:10.872413Z",
     "shell.execute_reply": "2024-02-08T19:46:10.871874Z"
    }
   },
   "outputs": [],
   "source": [
    "t.react_into_trainee(residuals=True)"
   ]
  },
  {
   "attachments": {},
   "cell_type": "markdown",
   "id": "f07c698d",
   "metadata": {},
   "source": [
    "### 4. Results"
   ]
  },
  {
   "cell_type": "code",
   "execution_count": 7,
   "id": "45217946-f4aa-49e9-85d4-e4abd1282a77",
   "metadata": {
    "execution": {
     "iopub.execute_input": "2024-02-08T19:46:10.875059Z",
     "iopub.status.busy": "2024-02-08T19:46:10.874678Z",
     "iopub.status.idle": "2024-02-08T19:46:10.878800Z",
     "shell.execute_reply": "2024-02-08T19:46:10.878384Z"
    }
   },
   "outputs": [
    {
     "name": "stdout",
     "output_type": "stream",
     "text": [
      "Test set prediction accuracy: 0.508\n"
     ]
    },
    {
     "name": "stderr",
     "output_type": "stream",
     "text": [
      "/tmp/ipykernel_3242/2566008698.py:1: FutureWarning: Series.__getitem__ treating keys as positions is deprecated. In a future version, integer keys will always be treated as labels (consistent with DataFrame behavior). To access a value by position, use `ser.iloc[pos]`\n",
      "  accuracy = t.get_prediction_stats(stats=['accuracy'])['target'][0]\n"
     ]
    }
   ],
   "source": [
    "accuracy = t.get_prediction_stats(stats=['accuracy'])['target'][0]\n",
    "\n",
    "print(\"Test set prediction accuracy: {acc}\".format(acc=accuracy))"
   ]
  },
  {
   "attachments": {},
   "cell_type": "markdown",
   "id": "d80eb77e",
   "metadata": {},
   "source": [
    "### 4. Results\n",
    "\n",
    "We can see that half of the training data have their target values flipped, which greatly reduces the accuracy compared to the expected accuracy shown in recipe `1-engine-intro.ipynb`.\n",
    "\n",
    "While it is unrealistic to know this ahead of time in a real world setting, we will use their stark results to clearly demonstrate the effect of Trainee editing.\n"
   ]
  },
  {
   "attachments": {},
   "cell_type": "markdown",
   "id": "98f3d772-0f56-4454-87dc-d24ff5cb40dd",
   "metadata": {},
   "source": [
    "# Section 2. Audit & Edit Trainee"
   ]
  },
  {
   "attachments": {},
   "cell_type": "markdown",
   "id": "a48766ad",
   "metadata": {},
   "source": [
    "There are many reasons to audit and edit a Trainee. In previous recipes, we highlighted several training cases that may be anomalous that may be candidates for removal. In this recipe, we have a entire chunk of training data that is incorrect. Howso Engine has the ability to edit data at different scales.\n",
    "\n",
    "What sets Howso Engine apart from other machine learning models is there is no need for retraining. For example, if we use `Scikit-Learn`'s Logistic regression as shown in Recipe `1-engine-intro.ipynb` and we discover that our training data consists of Cases we would like to remove, we would have to go back to the beginning of the workflow, removing the Case from the training data, and completely retraining the model.\n",
    "\n",
    "In Howso Engine, this is unnecessary unless a very large portion of the training data is altered. If that occurs, re-analyzing the Trainee may improve results, although it is not strictly necessary."
   ]
  },
  {
   "attachments": {},
   "cell_type": "markdown",
   "id": "ad59b531-a9a5-4892-a911-8d347c62b8f3",
   "metadata": {},
   "source": [
    "## A. Editing Individual Cases\n",
    "\n",
    "In this first section of Part 2, we will demonstrate how to edit the Trainee on a Case by Case basis. Editing a Case allows the user to modify or \"fix\" the behavior of the Trainee by the targeted editing of a few select cases. The user has complete control over all data in the Trainee, making it dynamic and quickly adjustable. Users do not need to worry about minor mistakes as the Trainee can be fine tuned with this method after training.\n",
    "\n",
    "In our use case, the anomalous cases identified for the `Adult` dataset in Recipe `3-anomaly_detection.ipynb` represent possible Cases we want to edit. We noticed certain cases with unusual values for `capital-gains` like 99999 that look like they are nominal values representing other values, such as blanks. Editing Cases allows us to easily correct these minor issues for an otherwise valid Case post training. \n",
    "\n",
    "If we believe that the Case is entirely invalid and warrants removal, Howso Engine can also remove the Case entirely.\n",
    "\n",
    "### A1. React\n",
    "To demonstrate the effect, we `react` to a single Case to compare the predictions before and after an edit."
   ]
  },
  {
   "cell_type": "code",
   "execution_count": 8,
   "id": "16bceb2a-45f4-491e-829c-b706c829f014",
   "metadata": {
    "execution": {
     "iopub.execute_input": "2024-02-08T19:46:10.880695Z",
     "iopub.status.busy": "2024-02-08T19:46:10.880488Z",
     "iopub.status.idle": "2024-02-08T19:46:10.885899Z",
     "shell.execute_reply": "2024-02-08T19:46:10.885481Z"
    }
   },
   "outputs": [],
   "source": [
    "test_case_X = test_case[context_features]\n",
    "test_case_y = test_case[action_features]\n",
    "\n",
    "details = {\n",
    "    'influential_cases':True,\n",
    "}\n",
    "\n",
    "new_result = t.react(\n",
    "    [test_case_X.values.tolist()], \n",
    "    context_features=context_features, \n",
    "    action_features=action_features,\n",
    "    details=details\n",
    ")"
   ]
  },
  {
   "cell_type": "code",
   "execution_count": 9,
   "id": "4a89ab1f-6288-4240-a36c-d6ecef0c53e8",
   "metadata": {
    "execution": {
     "iopub.execute_input": "2024-02-08T19:46:10.887736Z",
     "iopub.status.busy": "2024-02-08T19:46:10.887444Z",
     "iopub.status.idle": "2024-02-08T19:46:10.890286Z",
     "shell.execute_reply": "2024-02-08T19:46:10.889881Z"
    }
   },
   "outputs": [
    {
     "name": "stdout",
     "output_type": "stream",
     "text": [
      "prediction: 0\n",
      "actual: 1.0\n"
     ]
    },
    {
     "name": "stderr",
     "output_type": "stream",
     "text": [
      "/tmp/ipykernel_3242/2461611755.py:2: FutureWarning: Series.__getitem__ treating keys as positions is deprecated. In a future version, integer keys will always be treated as labels (consistent with DataFrame behavior). To access a value by position, use `ser.iloc[pos]`\n",
      "  print('actual: {}'.format(test_case_y[0]))\n"
     ]
    }
   ],
   "source": [
    "print('prediction: {}'.format(new_result['action']['target'][0]))\n",
    "print('actual: {}'.format(test_case_y[0]))"
   ]
  },
  {
   "attachments": {},
   "cell_type": "markdown",
   "id": "12c8a440",
   "metadata": {},
   "source": [
    "#### Results \n",
    "\n",
    "We can see that the the predicted value is incorrect. If we want to artifically correct this prediction using our Trainee, we can edit the Cases around it. This is for demonstrative purposes only and we do not recommend editing Influential Cases without fully investigating the Cases."
   ]
  },
  {
   "attachments": {},
   "cell_type": "markdown",
   "id": "f5d34c48",
   "metadata": {},
   "source": [
    "### A2. Influential Cases\n",
    "\n",
    "To determine which Cases we want to edit, we identify the Influential Cases using the techniques from `2-interpretability.ipynb`"
   ]
  },
  {
   "cell_type": "code",
   "execution_count": 10,
   "id": "0ee63dbe-f115-4874-9a71-a8736518a967",
   "metadata": {
    "execution": {
     "iopub.execute_input": "2024-02-08T19:46:10.892269Z",
     "iopub.status.busy": "2024-02-08T19:46:10.891991Z",
     "iopub.status.idle": "2024-02-08T19:46:10.900403Z",
     "shell.execute_reply": "2024-02-08T19:46:10.899992Z"
    }
   },
   "outputs": [
    {
     "data": {
      "text/html": [
       "<div>\n",
       "<style scoped>\n",
       "    .dataframe tbody tr th:only-of-type {\n",
       "        vertical-align: middle;\n",
       "    }\n",
       "\n",
       "    .dataframe tbody tr th {\n",
       "        vertical-align: top;\n",
       "    }\n",
       "\n",
       "    .dataframe thead th {\n",
       "        text-align: right;\n",
       "    }\n",
       "</style>\n",
       "<table border=\"1\" class=\"dataframe\">\n",
       "  <thead>\n",
       "    <tr style=\"text-align: right;\">\n",
       "      <th></th>\n",
       "      <th>native-country</th>\n",
       "      <th>race</th>\n",
       "      <th>education</th>\n",
       "      <th>.influence_weight</th>\n",
       "      <th>capital-loss</th>\n",
       "      <th>occupation</th>\n",
       "      <th>target</th>\n",
       "      <th>workclass</th>\n",
       "      <th>sex</th>\n",
       "      <th>.session</th>\n",
       "      <th>education-num</th>\n",
       "      <th>hours-per-week</th>\n",
       "      <th>age</th>\n",
       "      <th>relationship</th>\n",
       "      <th>.session_training_index</th>\n",
       "      <th>fnlwgt</th>\n",
       "      <th>capital-gain</th>\n",
       "      <th>marital-status</th>\n",
       "    </tr>\n",
       "  </thead>\n",
       "  <tbody>\n",
       "    <tr>\n",
       "      <th>0</th>\n",
       "      <td>39</td>\n",
       "      <td>4</td>\n",
       "      <td>11</td>\n",
       "      <td>0.176187</td>\n",
       "      <td>0</td>\n",
       "      <td>6</td>\n",
       "      <td>0</td>\n",
       "      <td>4</td>\n",
       "      <td>1</td>\n",
       "      <td>0c46b27a-6f1d-41d9-ae13-a2e1330cc71d</td>\n",
       "      <td>9</td>\n",
       "      <td>40</td>\n",
       "      <td>42</td>\n",
       "      <td>0</td>\n",
       "      <td>410</td>\n",
       "      <td>171351</td>\n",
       "      <td>0</td>\n",
       "      <td>2</td>\n",
       "    </tr>\n",
       "    <tr>\n",
       "      <th>1</th>\n",
       "      <td>39</td>\n",
       "      <td>4</td>\n",
       "      <td>11</td>\n",
       "      <td>0.146611</td>\n",
       "      <td>0</td>\n",
       "      <td>7</td>\n",
       "      <td>0</td>\n",
       "      <td>4</td>\n",
       "      <td>1</td>\n",
       "      <td>0c46b27a-6f1d-41d9-ae13-a2e1330cc71d</td>\n",
       "      <td>9</td>\n",
       "      <td>40</td>\n",
       "      <td>40</td>\n",
       "      <td>0</td>\n",
       "      <td>341</td>\n",
       "      <td>114157</td>\n",
       "      <td>0</td>\n",
       "      <td>2</td>\n",
       "    </tr>\n",
       "    <tr>\n",
       "      <th>2</th>\n",
       "      <td>39</td>\n",
       "      <td>4</td>\n",
       "      <td>11</td>\n",
       "      <td>0.129336</td>\n",
       "      <td>0</td>\n",
       "      <td>14</td>\n",
       "      <td>1</td>\n",
       "      <td>4</td>\n",
       "      <td>1</td>\n",
       "      <td>f7e1e31b-7dda-4bf0-af64-d94220e97fa0</td>\n",
       "      <td>9</td>\n",
       "      <td>40</td>\n",
       "      <td>32</td>\n",
       "      <td>0</td>\n",
       "      <td>405</td>\n",
       "      <td>154087</td>\n",
       "      <td>0</td>\n",
       "      <td>2</td>\n",
       "    </tr>\n",
       "  </tbody>\n",
       "</table>\n",
       "</div>"
      ],
      "text/plain": [
       "   native-country  race  education  .influence_weight  capital-loss  \\\n",
       "0              39     4         11           0.176187             0   \n",
       "1              39     4         11           0.146611             0   \n",
       "2              39     4         11           0.129336             0   \n",
       "\n",
       "   occupation  target  workclass  sex                              .session  \\\n",
       "0           6       0          4    1  0c46b27a-6f1d-41d9-ae13-a2e1330cc71d   \n",
       "1           7       0          4    1  0c46b27a-6f1d-41d9-ae13-a2e1330cc71d   \n",
       "2          14       1          4    1  f7e1e31b-7dda-4bf0-af64-d94220e97fa0   \n",
       "\n",
       "   education-num  hours-per-week  age  relationship  .session_training_index  \\\n",
       "0              9              40   42             0                      410   \n",
       "1              9              40   40             0                      341   \n",
       "2              9              40   32             0                      405   \n",
       "\n",
       "   fnlwgt  capital-gain  marital-status  \n",
       "0  171351             0               2  \n",
       "1  114157             0               2  \n",
       "2  154087             0               2  "
      ]
     },
     "execution_count": 10,
     "metadata": {},
     "output_type": "execute_result"
    }
   ],
   "source": [
    "influence_df = pd.DataFrame(new_result['details']['influential_cases'][0])\n",
    "influence_df.head(3)"
   ]
  },
  {
   "attachments": {},
   "cell_type": "markdown",
   "id": "5659689f",
   "metadata": {},
   "source": [
    "We can see that two out of the three Influential Cases have a target value of 1, but we want the Case prediction to be a 0."
   ]
  },
  {
   "attachments": {},
   "cell_type": "markdown",
   "id": "c6afbf87-d357-4985-a026-aa440dd56da4",
   "metadata": {},
   "source": [
    "### A3. Case Modification\n",
    "\n",
    "We will modify those two Influential Cases which have a different target value than what we want to predict by changing their target value from a 1 to 0. Having more Influential Cases with a target value of 0 will increase the chance of that Case being predicted to have a target value of 0."
   ]
  },
  {
   "cell_type": "code",
   "execution_count": 11,
   "id": "d7776af0-43ca-4fdd-a213-cf94d5279e7f",
   "metadata": {
    "execution": {
     "iopub.execute_input": "2024-02-08T19:46:10.902222Z",
     "iopub.status.busy": "2024-02-08T19:46:10.901947Z",
     "iopub.status.idle": "2024-02-08T19:46:10.911185Z",
     "shell.execute_reply": "2024-02-08T19:46:10.910772Z"
    }
   },
   "outputs": [
    {
     "name": "stdout",
     "output_type": "stream",
     "text": [
      "Modifying training index 410 of Session 0c46b27a-6f1d-41d9-ae13-a2e1330cc71d target value to 1\n"
     ]
    },
    {
     "name": "stderr",
     "output_type": "stream",
     "text": [
      "/tmp/ipykernel_3242/1091408037.py:7: FutureWarning: Series.__getitem__ treating keys as positions is deprecated. In a future version, integer keys will always be treated as labels (consistent with DataFrame behavior). To access a value by position, use `ser.iloc[pos]`\n",
      "  orig_target = cases.set_index('.session_training_index').loc[session_training_index][0]\n"
     ]
    }
   ],
   "source": [
    "# Modify case 1\n",
    "session_id = influence_df.iloc[0]['.session']\n",
    "session_training_index = influence_df.iloc[0]['.session_training_index']\n",
    "\n",
    "# Flip the target in the original case\n",
    "cases = t.get_cases(session=session_id, features=['.session_training_index', 'target'])\n",
    "orig_target = cases.set_index('.session_training_index').loc[session_training_index][0]\n",
    "\n",
    "# Flip the target\n",
    "if str(orig_target) == '0':\n",
    "    flipped = 1\n",
    "else:\n",
    "    flipped = 0\n",
    "\n",
    "t.edit_cases(feature_values=[flipped], \n",
    "             case_indices=[(session_id, session_training_index.item())], \n",
    "             features=['target'])\n",
    "\n",
    "print(\"Modifying training index {ind} of Session {session_id} target value to {tar}\".format(ind=session_training_index, session_id=session_id, tar=flipped))"
   ]
  },
  {
   "cell_type": "code",
   "execution_count": 12,
   "id": "fcefb2ff-5156-469c-ba5f-a54ea90d34f0",
   "metadata": {
    "execution": {
     "iopub.execute_input": "2024-02-08T19:46:10.912903Z",
     "iopub.status.busy": "2024-02-08T19:46:10.912617Z",
     "iopub.status.idle": "2024-02-08T19:46:10.921450Z",
     "shell.execute_reply": "2024-02-08T19:46:10.921033Z"
    }
   },
   "outputs": [
    {
     "name": "stdout",
     "output_type": "stream",
     "text": [
      "Modifying training index 341 of Session 0c46b27a-6f1d-41d9-ae13-a2e1330cc71d target value to 1\n"
     ]
    },
    {
     "name": "stderr",
     "output_type": "stream",
     "text": [
      "/tmp/ipykernel_3242/3433334013.py:7: FutureWarning: Series.__getitem__ treating keys as positions is deprecated. In a future version, integer keys will always be treated as labels (consistent with DataFrame behavior). To access a value by position, use `ser.iloc[pos]`\n",
      "  orig_target = cases.set_index('.session_training_index').loc[session_training_index][0]\n"
     ]
    }
   ],
   "source": [
    "# Modify case 2\n",
    "session_id = influence_df.iloc[0]['.session']\n",
    "session_training_index = influence_df.iloc[1]['.session_training_index']\n",
    "\n",
    "# Flip the target in the original case\n",
    "cases = t.get_cases(session=session_id, features=['.session_training_index', 'target'])\n",
    "orig_target = cases.set_index('.session_training_index').loc[session_training_index][0]\n",
    "\n",
    "# Flip the target\n",
    "if str(orig_target) == '0':\n",
    "    flipped = 1\n",
    "else:\n",
    "    flipped = 0\n",
    "\n",
    "t.edit_cases(feature_values=[flipped], \n",
    "             case_indices=[(session_id, session_training_index.item())], \n",
    "             features=['target'])\n",
    "\n",
    "print(\"Modifying training index {ind} of Session {session_id} target value to {tar}\".format(ind=session_training_index, session_id=session_id, tar=flipped))"
   ]
  },
  {
   "attachments": {},
   "cell_type": "markdown",
   "id": "a2f07717",
   "metadata": {},
   "source": [
    "### A4. Verification\n",
    "\n",
    "We can audit one of the updated Cases to make sure the Case has been edited and to demonstrate how to retrieve the Case history. Editing Case history provides another layer of auditability and accountability to the Trainee."
   ]
  },
  {
   "cell_type": "code",
   "execution_count": 13,
   "id": "b5405e9d-c09d-413c-9c71-1d09eb5a8b51",
   "metadata": {
    "execution": {
     "iopub.execute_input": "2024-02-08T19:46:10.923170Z",
     "iopub.status.busy": "2024-02-08T19:46:10.922892Z",
     "iopub.status.idle": "2024-02-08T19:46:10.931296Z",
     "shell.execute_reply": "2024-02-08T19:46:10.930904Z"
    }
   },
   "outputs": [
    {
     "data": {
      "text/plain": [
       "{'0c46b27a-6f1d-41d9-ae13-a2e1330cc71d': [{'previous_value': 0,\n",
       "   'feature': 'target',\n",
       "   'type': 'edit',\n",
       "   'value': 1}]}"
      ]
     },
     "execution_count": 13,
     "metadata": {},
     "output_type": "execute_result"
    }
   ],
   "source": [
    "updated_case = t.get_cases(\n",
    "    case_indices=[(session_id, session_training_index.item())],\n",
    "    features=df.columns.tolist() + ['.case_edit_history']\n",
    ")\n",
    "\n",
    "# audit edit history \n",
    "updated_case.loc[ 0, '.case_edit_history']"
   ]
  },
  {
   "attachments": {},
   "cell_type": "markdown",
   "id": "2b9b80f4-d107-450d-a70f-bcac3cab3144",
   "metadata": {},
   "source": [
    "### A5. Predict\n",
    "\n",
    "We will re-run the prediction and examine the Influential Cases to demonstrate the flipped value."
   ]
  },
  {
   "cell_type": "code",
   "execution_count": 14,
   "id": "2fb1fd3d-fa3e-4a92-af00-fdfcabea0594",
   "metadata": {
    "execution": {
     "iopub.execute_input": "2024-02-08T19:46:10.933051Z",
     "iopub.status.busy": "2024-02-08T19:46:10.932765Z",
     "iopub.status.idle": "2024-02-08T19:46:10.936746Z",
     "shell.execute_reply": "2024-02-08T19:46:10.936279Z"
    }
   },
   "outputs": [],
   "source": [
    "new_result = t.react(\n",
    "    [test_case_X.values.tolist()], \n",
    "    context_features=context_features, \n",
    "    action_features=action_features, \n",
    "    details=details\n",
    ")"
   ]
  },
  {
   "attachments": {},
   "cell_type": "markdown",
   "id": "b1370f3f",
   "metadata": {},
   "source": [
    "### A6. Results\n",
    "\n",
    "We can see that by editing those two Cases, we flipped the prediction for our original test Case without re-training or re-analyzing our Trainee. If done correctly, this provides a user with a surgical tool for Trainee corrections."
   ]
  },
  {
   "cell_type": "code",
   "execution_count": 15,
   "id": "ab305d84",
   "metadata": {
    "execution": {
     "iopub.execute_input": "2024-02-08T19:46:10.938606Z",
     "iopub.status.busy": "2024-02-08T19:46:10.938333Z",
     "iopub.status.idle": "2024-02-08T19:46:10.941090Z",
     "shell.execute_reply": "2024-02-08T19:46:10.940692Z"
    }
   },
   "outputs": [
    {
     "name": "stdout",
     "output_type": "stream",
     "text": [
      "prediction: 0\n",
      "actual: 1.0\n"
     ]
    },
    {
     "name": "stderr",
     "output_type": "stream",
     "text": [
      "/tmp/ipykernel_3242/2461611755.py:2: FutureWarning: Series.__getitem__ treating keys as positions is deprecated. In a future version, integer keys will always be treated as labels (consistent with DataFrame behavior). To access a value by position, use `ser.iloc[pos]`\n",
      "  print('actual: {}'.format(test_case_y[0]))\n"
     ]
    }
   ],
   "source": [
    "print('prediction: {}'.format(new_result['action']['target'][0]))\n",
    "print('actual: {}'.format(test_case_y[0]))"
   ]
  },
  {
   "attachments": {},
   "cell_type": "markdown",
   "id": "b322c5a3-7e5c-4db6-83a0-8d5fe6fa751e",
   "metadata": {},
   "source": [
    "### A7. Case Deletion"
   ]
  },
  {
   "attachments": {},
   "cell_type": "markdown",
   "id": "0d268802-211e-4af7-98a3-830ba6d47617",
   "metadata": {},
   "source": [
    "In addition to editing a Case, Howson Engine can also delete a complete Case and remove it from the decision making process. This workflow is the same as the edit example in the section above, except we use `remove_cases` instead of `edit_cases`. "
   ]
  },
  {
   "cell_type": "code",
   "execution_count": 16,
   "id": "8481c434-29f6-41ac-83ca-30c7cf803679",
   "metadata": {
    "execution": {
     "iopub.execute_input": "2024-02-08T19:46:10.943050Z",
     "iopub.status.busy": "2024-02-08T19:46:10.942747Z",
     "iopub.status.idle": "2024-02-08T19:46:10.946397Z",
     "shell.execute_reply": "2024-02-08T19:46:10.946010Z"
    }
   },
   "outputs": [
    {
     "data": {
      "text/plain": [
       "1"
      ]
     },
     "execution_count": 16,
     "metadata": {},
     "output_type": "execute_result"
    }
   ],
   "source": [
    "# remove cases using \".session_training_index\"\n",
    "t.remove_cases(num_cases=1, case_indices=[(session_id, session_training_index.item())])"
   ]
  },
  {
   "attachments": {},
   "cell_type": "markdown",
   "id": "228bf22c",
   "metadata": {},
   "source": [
    "The dynamic edting and deleting of individual Cases allows the user to perform targeted modifiction of the Trainee and provides the user with unparalleled control over their data and Trainee. This should not be done lightly and we recommend that all Cases be investigated before performing this action."
   ]
  },
  {
   "attachments": {},
   "cell_type": "markdown",
   "id": "af45b880-ec91-4c28-a12b-b84398234ca7",
   "metadata": {},
   "source": [
    "## B. Editing Sessions\n",
    "\n",
    "In the beginning of this notebook, we trained the data in two Sessions. The first Session used a normal sample of training data, however the second Session artifically flipped the target variable. This reduced the performance of our Trainee by using introducing a large portion of incorrect data.\n",
    "\n",
    "Howso Engine has the capability to add or remove entire Sessions. In this situation, if we discovered that one of our Sessions had very poor quality data, like our example, we can easily remove that entire Session's data without having to individually alter Cases."
   ]
  },
  {
   "attachments": {},
   "cell_type": "markdown",
   "id": "267760db",
   "metadata": {},
   "source": [
    "#### B1. Session Info\n",
    "\n",
    "Let's first see how many Sessions are in this Trainee along with some details of each Session."
   ]
  },
  {
   "cell_type": "code",
   "execution_count": 17,
   "id": "9bb1647d",
   "metadata": {
    "execution": {
     "iopub.execute_input": "2024-02-08T19:46:10.948185Z",
     "iopub.status.busy": "2024-02-08T19:46:10.947910Z",
     "iopub.status.idle": "2024-02-08T19:46:10.951067Z",
     "shell.execute_reply": "2024-02-08T19:46:10.950686Z"
    }
   },
   "outputs": [
    {
     "data": {
      "text/plain": [
       "[{'name': 'train_session_1', 'id': 'f7e1e31b-7dda-4bf0-af64-d94220e97fa0'},\n",
       " {'name': 'train_session_2', 'id': '0c46b27a-6f1d-41d9-ae13-a2e1330cc71d'}]"
      ]
     },
     "execution_count": 17,
     "metadata": {},
     "output_type": "execute_result"
    }
   ],
   "source": [
    "sessions = t.get_sessions()\n",
    "sessions"
   ]
  },
  {
   "cell_type": "code",
   "execution_count": 18,
   "id": "19fab41a",
   "metadata": {
    "execution": {
     "iopub.execute_input": "2024-02-08T19:46:10.952743Z",
     "iopub.status.busy": "2024-02-08T19:46:10.952436Z",
     "iopub.status.idle": "2024-02-08T19:46:10.957015Z",
     "shell.execute_reply": "2024-02-08T19:46:10.956614Z"
    }
   },
   "outputs": [
    {
     "data": {
      "text/plain": [
       "{'created_date': datetime.datetime(2024, 2, 8, 19, 45, 59, 890623),\n",
       " 'id': 'f7e1e31b-7dda-4bf0-af64-d94220e97fa0',\n",
       " 'metadata': {'data': 'original data',\n",
       "              'trainee_id': '7f8136cc-8e5b-4a22-b242-fc3fc1b29b30'},\n",
       " 'modified_date': datetime.datetime(2024, 2, 8, 19, 45, 59, 890624),\n",
       " 'name': 'train_session_1'}"
      ]
     },
     "metadata": {},
     "output_type": "display_data"
    },
    {
     "data": {
      "text/plain": [
       "{'created_date': datetime.datetime(2024, 2, 8, 19, 45, 59, 922374),\n",
       " 'id': '0c46b27a-6f1d-41d9-ae13-a2e1330cc71d',\n",
       " 'metadata': {'data': 'modified data (\"random inferer\"'},\n",
       " 'modified_date': datetime.datetime(2024, 2, 8, 19, 45, 59, 922375),\n",
       " 'name': 'train_session_2'}"
      ]
     },
     "metadata": {},
     "output_type": "display_data"
    }
   ],
   "source": [
    "display(engine.get_session(sessions[0]['id']))\n",
    "display(engine.get_session(sessions[1]['id']))"
   ]
  },
  {
   "attachments": {},
   "cell_type": "markdown",
   "id": "3ff29602",
   "metadata": {},
   "source": [
    "We can see the two different Sessions which we trained earlier"
   ]
  },
  {
   "attachments": {},
   "cell_type": "markdown",
   "id": "ab021c76",
   "metadata": {},
   "source": [
    "### B2. Session Deletion\n",
    "\n",
    "Deleting an entire Session is performed in one easy step once we retrieve the Session ID of the Session we want to delete."
   ]
  },
  {
   "cell_type": "code",
   "execution_count": 19,
   "id": "890b6cc4-0d11-4ae6-81a2-71e5af5a98d6",
   "metadata": {
    "execution": {
     "iopub.execute_input": "2024-02-08T19:46:10.958766Z",
     "iopub.status.busy": "2024-02-08T19:46:10.958493Z",
     "iopub.status.idle": "2024-02-08T19:46:21.008808Z",
     "shell.execute_reply": "2024-02-08T19:46:21.008265Z"
    }
   },
   "outputs": [],
   "source": [
    "### Delete a session\n",
    "\n",
    "session_id = sessions[1]['id']\n",
    "t.delete_session(session_id)\n",
    "\n",
    "# Re-analyze the Trainee\n",
    "t.analyze()"
   ]
  },
  {
   "attachments": {},
   "cell_type": "markdown",
   "id": "b7f2dd4a",
   "metadata": {},
   "source": [
    "### B3. React\n",
    "\n",
    "We then `react` to the test data again to get the predictions after the faulty training data from our Session is removed."
   ]
  },
  {
   "cell_type": "code",
   "execution_count": 20,
   "id": "c47ddf1c-f210-4ab6-a553-be102019ed64",
   "metadata": {
    "execution": {
     "iopub.execute_input": "2024-02-08T19:46:21.011270Z",
     "iopub.status.busy": "2024-02-08T19:46:21.011111Z",
     "iopub.status.idle": "2024-02-08T19:46:21.928212Z",
     "shell.execute_reply": "2024-02-08T19:46:21.927696Z"
    }
   },
   "outputs": [],
   "source": [
    "t.react_into_trainee(residuals=True)"
   ]
  },
  {
   "attachments": {},
   "cell_type": "markdown",
   "id": "26cb2506",
   "metadata": {},
   "source": [
    "### B4. Results"
   ]
  },
  {
   "cell_type": "code",
   "execution_count": 21,
   "id": "c3a9a952-e9d8-4ddc-9d6b-e7cd53a102a4",
   "metadata": {
    "execution": {
     "iopub.execute_input": "2024-02-08T19:46:21.930868Z",
     "iopub.status.busy": "2024-02-08T19:46:21.930489Z",
     "iopub.status.idle": "2024-02-08T19:46:21.934633Z",
     "shell.execute_reply": "2024-02-08T19:46:21.934210Z"
    }
   },
   "outputs": [
    {
     "name": "stdout",
     "output_type": "stream",
     "text": [
      "Original accuracy: 0.508\n",
      "New accuracy: 0.816\n"
     ]
    },
    {
     "name": "stderr",
     "output_type": "stream",
     "text": [
      "/tmp/ipykernel_3242/1992480591.py:1: FutureWarning: Series.__getitem__ treating keys as positions is deprecated. In a future version, integer keys will always be treated as labels (consistent with DataFrame behavior). To access a value by position, use `ser.iloc[pos]`\n",
      "  accuracy_new = t.get_prediction_stats(stats=['accuracy'])['target'][0]\n"
     ]
    }
   ],
   "source": [
    "accuracy_new = t.get_prediction_stats(stats=['accuracy'])['target'][0]\n",
    "\n",
    "print(\"Original accuracy: {acc}\".format(acc=accuracy))\n",
    "print(\"New accuracy: {acc}\".format(acc=accuracy_new))"
   ]
  },
  {
   "cell_type": "code",
   "execution_count": 22,
   "id": "d5c696bb-2d57-4424-a8cc-f020750956a2",
   "metadata": {
    "execution": {
     "iopub.execute_input": "2024-02-08T19:46:21.936388Z",
     "iopub.status.busy": "2024-02-08T19:46:21.936104Z",
     "iopub.status.idle": "2024-02-08T19:46:21.939163Z",
     "shell.execute_reply": "2024-02-08T19:46:21.938775Z"
    }
   },
   "outputs": [
    {
     "data": {
      "text/plain": [
       "[{'name': 'train_session_1', 'id': 'f7e1e31b-7dda-4bf0-af64-d94220e97fa0'}]"
      ]
     },
     "execution_count": 22,
     "metadata": {},
     "output_type": "execute_result"
    }
   ],
   "source": [
    "# Check to make sure there is only 1 session\n",
    "t.get_sessions()"
   ]
  },
  {
   "attachments": {},
   "cell_type": "markdown",
   "id": "6ccb0924",
   "metadata": {},
   "source": [
    "### B5. Results\n",
    "\n",
    "We can clearly see the difference in accuracy results once the faulty Session data is removed. The new accuracy is much more in line with the results we saw from recipe `1-engine-intro.ipynb`. "
   ]
  },
  {
   "attachments": {},
   "cell_type": "markdown",
   "id": "18a6ce88",
   "metadata": {},
   "source": [
    "# Conclusions and Next Steps\n",
    "\n",
    "We can see that by getting rid of the Session with the faulty data, our Trainee performance improved dramatically, as expected. This capability provides the user with a very efficient way to maintain control over a continously evolving Trainee if the user is constantly adding training data.\n",
    "\n",
    "The tools shown in this and previous recipes allows the user to find, diagnose, and act at a level of ease and precision that other machine learning models cannot match. This opens the door to possibilities for the user and provides a flexible platform that can adjust to any type of machine learning needs.\n",
    "\n",
    "The next recipe `5-bias_mitigation.ipynb` will demonstrate an interesting and specific use case that demonstrates how taking advantage of Howso's interpretability can provide an oppurtunity to perform ethical and responsible machine learning."
   ]
  }
 ],
 "metadata": {
  "kernelspec": {
   "display_name": "Python 3 (ipykernel)",
   "language": "python",
   "name": "python3"
  },
  "language_info": {
   "codemirror_mode": {
    "name": "ipython",
    "version": 3
   },
   "file_extension": ".py",
   "mimetype": "text/x-python",
   "name": "python",
   "nbconvert_exporter": "python",
   "pygments_lexer": "ipython3",
   "version": "3.11.7"
  },
  "vscode": {
   "interpreter": {
    "hash": "05bef118205722947f728ae63677543c379f4948eeeee250b8cdd0b8032e383c"
   }
  }
 },
 "nbformat": 4,
 "nbformat_minor": 5
}
