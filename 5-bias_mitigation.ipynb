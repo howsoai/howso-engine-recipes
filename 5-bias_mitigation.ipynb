{
 "cells": [
  {
   "attachments": {},
   "cell_type": "markdown",
   "metadata": {},
   "source": [
    "# Recipe 5: Bias Mitigation\n",
    "## Overview \n",
    "\n",
    "The previous recipes showed us how to develop an effective Trainee from a results perspective. We were able to find possible outlier Cases and edit our Trainee. However, there may a situation where data in our Trainee is technically correct but there are harmful or unnessary underlying trends and biases in that data. Howso Engine enables biases in data to be identified, understood, and mitigated. We encourage users to review the Howso Bias Mitigation Document for more information. \n"
   ]
  },
  {
   "attachments": {},
   "cell_type": "markdown",
   "metadata": {},
   "source": [
    "## Recipe Goals:\n",
    "\n",
    "This recipe will show how Howso Engine can provide organizations opportunities to identify data biases for a variety of use cases, empowering true, ethical data insights."
   ]
  },
  {
   "cell_type": "code",
   "execution_count": 1,
   "metadata": {
    "execution": {
     "iopub.execute_input": "2024-02-16T23:08:44.355552Z",
     "iopub.status.busy": "2024-02-16T23:08:44.355392Z",
     "iopub.status.idle": "2024-02-16T23:08:45.440249Z",
     "shell.execute_reply": "2024-02-16T23:08:45.439699Z"
    }
   },
   "outputs": [],
   "source": [
    "import os\n",
    "\n",
    "import numpy as np\n",
    "import pandas as pd\n",
    "import plotly.io as pio\n",
    "from pmlb import fetch_data\n",
    "from scipy.stats import chi2_contingency\n",
    "from sklearn.metrics import accuracy_score\n",
    "from sklearn.model_selection import train_test_split\n",
    "\n",
    "from howso.engine import Trainee\n",
    "from howso.utilities import infer_feature_attributes\n",
    "from howso.visuals import compose_figures\n",
    "\n",
    "pio.renderers.default = os.getenv(\"HOWSO_RECIPE_RENDERER\", \"notebook\")"
   ]
  },
  {
   "attachments": {},
   "cell_type": "markdown",
   "metadata": {},
   "source": [
    "# Section 1: Train and Analyze\n"
   ]
  },
  {
   "attachments": {},
   "cell_type": "markdown",
   "metadata": {},
   "source": [
    "### 1. Load Data\n",
    "\n",
    "Our example dataset for this recipe continues to be the well known `Adult` dataset. This dataset consists of 14 Context Features and 1 Action Feature. The Action Feature in this version of the `Adult` dataset has been renamed to `target` and it takes the form of a binary indicator for whether a person in the data makes over $50,000/year (*target*=1) or less (*target*=0)."
   ]
  },
  {
   "cell_type": "code",
   "execution_count": 2,
   "metadata": {
    "execution": {
     "iopub.execute_input": "2024-02-16T23:08:45.442996Z",
     "iopub.status.busy": "2024-02-16T23:08:45.442730Z",
     "iopub.status.idle": "2024-02-16T23:08:45.509482Z",
     "shell.execute_reply": "2024-02-16T23:08:45.508992Z"
    }
   },
   "outputs": [
    {
     "data": {
      "text/html": [
       "<div>\n",
       "<style scoped>\n",
       "    .dataframe tbody tr th:only-of-type {\n",
       "        vertical-align: middle;\n",
       "    }\n",
       "\n",
       "    .dataframe tbody tr th {\n",
       "        vertical-align: top;\n",
       "    }\n",
       "\n",
       "    .dataframe thead th {\n",
       "        text-align: right;\n",
       "    }\n",
       "</style>\n",
       "<table border=\"1\" class=\"dataframe\">\n",
       "  <thead>\n",
       "    <tr style=\"text-align: right;\">\n",
       "      <th></th>\n",
       "      <th>age</th>\n",
       "      <th>workclass</th>\n",
       "      <th>fnlwgt</th>\n",
       "      <th>education</th>\n",
       "      <th>education-num</th>\n",
       "      <th>marital-status</th>\n",
       "      <th>occupation</th>\n",
       "      <th>relationship</th>\n",
       "      <th>race</th>\n",
       "      <th>sex</th>\n",
       "      <th>capital-gain</th>\n",
       "      <th>capital-loss</th>\n",
       "      <th>hours-per-week</th>\n",
       "      <th>native-country</th>\n",
       "      <th>target</th>\n",
       "    </tr>\n",
       "  </thead>\n",
       "  <tbody>\n",
       "    <tr>\n",
       "      <th>0</th>\n",
       "      <td>39.0</td>\n",
       "      <td>7</td>\n",
       "      <td>77516.0</td>\n",
       "      <td>9</td>\n",
       "      <td>13.0</td>\n",
       "      <td>4</td>\n",
       "      <td>1</td>\n",
       "      <td>1</td>\n",
       "      <td>4</td>\n",
       "      <td>1</td>\n",
       "      <td>2174.0</td>\n",
       "      <td>0.0</td>\n",
       "      <td>40.0</td>\n",
       "      <td>39</td>\n",
       "      <td>1</td>\n",
       "    </tr>\n",
       "    <tr>\n",
       "      <th>1</th>\n",
       "      <td>50.0</td>\n",
       "      <td>6</td>\n",
       "      <td>83311.0</td>\n",
       "      <td>9</td>\n",
       "      <td>13.0</td>\n",
       "      <td>2</td>\n",
       "      <td>4</td>\n",
       "      <td>0</td>\n",
       "      <td>4</td>\n",
       "      <td>1</td>\n",
       "      <td>0.0</td>\n",
       "      <td>0.0</td>\n",
       "      <td>13.0</td>\n",
       "      <td>39</td>\n",
       "      <td>1</td>\n",
       "    </tr>\n",
       "    <tr>\n",
       "      <th>2</th>\n",
       "      <td>38.0</td>\n",
       "      <td>4</td>\n",
       "      <td>215646.0</td>\n",
       "      <td>11</td>\n",
       "      <td>9.0</td>\n",
       "      <td>0</td>\n",
       "      <td>6</td>\n",
       "      <td>1</td>\n",
       "      <td>4</td>\n",
       "      <td>1</td>\n",
       "      <td>0.0</td>\n",
       "      <td>0.0</td>\n",
       "      <td>40.0</td>\n",
       "      <td>39</td>\n",
       "      <td>1</td>\n",
       "    </tr>\n",
       "    <tr>\n",
       "      <th>3</th>\n",
       "      <td>53.0</td>\n",
       "      <td>4</td>\n",
       "      <td>234721.0</td>\n",
       "      <td>1</td>\n",
       "      <td>7.0</td>\n",
       "      <td>2</td>\n",
       "      <td>6</td>\n",
       "      <td>0</td>\n",
       "      <td>2</td>\n",
       "      <td>1</td>\n",
       "      <td>0.0</td>\n",
       "      <td>0.0</td>\n",
       "      <td>40.0</td>\n",
       "      <td>39</td>\n",
       "      <td>1</td>\n",
       "    </tr>\n",
       "    <tr>\n",
       "      <th>4</th>\n",
       "      <td>28.0</td>\n",
       "      <td>4</td>\n",
       "      <td>338409.0</td>\n",
       "      <td>9</td>\n",
       "      <td>13.0</td>\n",
       "      <td>2</td>\n",
       "      <td>10</td>\n",
       "      <td>5</td>\n",
       "      <td>2</td>\n",
       "      <td>0</td>\n",
       "      <td>0.0</td>\n",
       "      <td>0.0</td>\n",
       "      <td>40.0</td>\n",
       "      <td>5</td>\n",
       "      <td>1</td>\n",
       "    </tr>\n",
       "    <tr>\n",
       "      <th>...</th>\n",
       "      <td>...</td>\n",
       "      <td>...</td>\n",
       "      <td>...</td>\n",
       "      <td>...</td>\n",
       "      <td>...</td>\n",
       "      <td>...</td>\n",
       "      <td>...</td>\n",
       "      <td>...</td>\n",
       "      <td>...</td>\n",
       "      <td>...</td>\n",
       "      <td>...</td>\n",
       "      <td>...</td>\n",
       "      <td>...</td>\n",
       "      <td>...</td>\n",
       "      <td>...</td>\n",
       "    </tr>\n",
       "    <tr>\n",
       "      <th>48837</th>\n",
       "      <td>39.0</td>\n",
       "      <td>4</td>\n",
       "      <td>215419.0</td>\n",
       "      <td>9</td>\n",
       "      <td>13.0</td>\n",
       "      <td>0</td>\n",
       "      <td>10</td>\n",
       "      <td>1</td>\n",
       "      <td>4</td>\n",
       "      <td>0</td>\n",
       "      <td>0.0</td>\n",
       "      <td>0.0</td>\n",
       "      <td>36.0</td>\n",
       "      <td>39</td>\n",
       "      <td>1</td>\n",
       "    </tr>\n",
       "    <tr>\n",
       "      <th>48838</th>\n",
       "      <td>64.0</td>\n",
       "      <td>0</td>\n",
       "      <td>321403.0</td>\n",
       "      <td>11</td>\n",
       "      <td>9.0</td>\n",
       "      <td>6</td>\n",
       "      <td>0</td>\n",
       "      <td>2</td>\n",
       "      <td>2</td>\n",
       "      <td>1</td>\n",
       "      <td>0.0</td>\n",
       "      <td>0.0</td>\n",
       "      <td>40.0</td>\n",
       "      <td>39</td>\n",
       "      <td>1</td>\n",
       "    </tr>\n",
       "    <tr>\n",
       "      <th>48839</th>\n",
       "      <td>38.0</td>\n",
       "      <td>4</td>\n",
       "      <td>374983.0</td>\n",
       "      <td>9</td>\n",
       "      <td>13.0</td>\n",
       "      <td>2</td>\n",
       "      <td>10</td>\n",
       "      <td>0</td>\n",
       "      <td>4</td>\n",
       "      <td>1</td>\n",
       "      <td>0.0</td>\n",
       "      <td>0.0</td>\n",
       "      <td>50.0</td>\n",
       "      <td>39</td>\n",
       "      <td>1</td>\n",
       "    </tr>\n",
       "    <tr>\n",
       "      <th>48840</th>\n",
       "      <td>44.0</td>\n",
       "      <td>4</td>\n",
       "      <td>83891.0</td>\n",
       "      <td>9</td>\n",
       "      <td>13.0</td>\n",
       "      <td>0</td>\n",
       "      <td>1</td>\n",
       "      <td>3</td>\n",
       "      <td>1</td>\n",
       "      <td>1</td>\n",
       "      <td>5455.0</td>\n",
       "      <td>0.0</td>\n",
       "      <td>40.0</td>\n",
       "      <td>39</td>\n",
       "      <td>1</td>\n",
       "    </tr>\n",
       "    <tr>\n",
       "      <th>48841</th>\n",
       "      <td>35.0</td>\n",
       "      <td>5</td>\n",
       "      <td>182148.0</td>\n",
       "      <td>9</td>\n",
       "      <td>13.0</td>\n",
       "      <td>2</td>\n",
       "      <td>4</td>\n",
       "      <td>0</td>\n",
       "      <td>4</td>\n",
       "      <td>1</td>\n",
       "      <td>0.0</td>\n",
       "      <td>0.0</td>\n",
       "      <td>60.0</td>\n",
       "      <td>39</td>\n",
       "      <td>0</td>\n",
       "    </tr>\n",
       "  </tbody>\n",
       "</table>\n",
       "<p>48842 rows × 15 columns</p>\n",
       "</div>"
      ],
      "text/plain": [
       "        age  workclass    fnlwgt  education  education-num  marital-status  \\\n",
       "0      39.0          7   77516.0          9           13.0               4   \n",
       "1      50.0          6   83311.0          9           13.0               2   \n",
       "2      38.0          4  215646.0         11            9.0               0   \n",
       "3      53.0          4  234721.0          1            7.0               2   \n",
       "4      28.0          4  338409.0          9           13.0               2   \n",
       "...     ...        ...       ...        ...            ...             ...   \n",
       "48837  39.0          4  215419.0          9           13.0               0   \n",
       "48838  64.0          0  321403.0         11            9.0               6   \n",
       "48839  38.0          4  374983.0          9           13.0               2   \n",
       "48840  44.0          4   83891.0          9           13.0               0   \n",
       "48841  35.0          5  182148.0          9           13.0               2   \n",
       "\n",
       "       occupation  relationship  race  sex  capital-gain  capital-loss  \\\n",
       "0               1             1     4    1        2174.0           0.0   \n",
       "1               4             0     4    1           0.0           0.0   \n",
       "2               6             1     4    1           0.0           0.0   \n",
       "3               6             0     2    1           0.0           0.0   \n",
       "4              10             5     2    0           0.0           0.0   \n",
       "...           ...           ...   ...  ...           ...           ...   \n",
       "48837          10             1     4    0           0.0           0.0   \n",
       "48838           0             2     2    1           0.0           0.0   \n",
       "48839          10             0     4    1           0.0           0.0   \n",
       "48840           1             3     1    1        5455.0           0.0   \n",
       "48841           4             0     4    1           0.0           0.0   \n",
       "\n",
       "       hours-per-week  native-country  target  \n",
       "0                40.0              39       1  \n",
       "1                13.0              39       1  \n",
       "2                40.0              39       1  \n",
       "3                40.0              39       1  \n",
       "4                40.0               5       1  \n",
       "...               ...             ...     ...  \n",
       "48837            36.0              39       1  \n",
       "48838            40.0              39       1  \n",
       "48839            50.0              39       1  \n",
       "48840            40.0              39       1  \n",
       "48841            60.0              39       0  \n",
       "\n",
       "[48842 rows x 15 columns]"
      ]
     },
     "execution_count": 2,
     "metadata": {},
     "output_type": "execute_result"
    }
   ],
   "source": [
    "# We use the full dataset in this Recipe\n",
    "df = fetch_data('adult', local_cache_dir=\"data/adult\")\n",
    "\n",
    "df"
   ]
  },
  {
   "attachments": {},
   "cell_type": "markdown",
   "metadata": {},
   "source": [
    "### 2. Train Trainee\n",
    "\n",
    "To highlight the possible bias, we filter our test dataset to control for features that likely have a major impact on the target, such as `workclass` and `education`. This is not necessarily something that is known beforehand, however through the use of techiniques like determining feature relevance, we can deduce which variables might be candidates to be controlled. This is only for demonstrative purposes and these features may not represent a complete set of confounding variables."
   ]
  },
  {
   "cell_type": "code",
   "execution_count": 3,
   "metadata": {
    "execution": {
     "iopub.execute_input": "2024-02-16T23:08:45.543917Z",
     "iopub.status.busy": "2024-02-16T23:08:45.543519Z",
     "iopub.status.idle": "2024-02-16T23:09:09.219611Z",
     "shell.execute_reply": "2024-02-16T23:09:09.219083Z"
    }
   },
   "outputs": [
    {
     "name": "stderr",
     "output_type": "stream",
     "text": [
      "The following parameters from configuration file will override the Amalgam parameters set in the code: {'trace'}\n"
     ]
    }
   ],
   "source": [
    "features = infer_feature_attributes(df)\n",
    "\n",
    "# We use a train-test split so we can reduce bias in the test set\n",
    "X_train, X_test = train_test_split(df, test_size=0.2)\n",
    "\n",
    "t = Trainee(features=features, overwrite_existing=True)\n",
    "\n",
    "t.train(X_train)\n",
    "\n",
    "t.analyze()\n",
    "\n",
    "# Now that the model is trained and analyzed, We try to control for confounding factors for this experiment.\n",
    "X_test = X_test[(X_test.workclass == 4) & (X_test.education == 9) & (X_test[\"hours-per-week\"] == 40)]"
   ]
  },
  {
   "attachments": {},
   "cell_type": "markdown",
   "metadata": {},
   "source": [
    "# Section 2: Explore Data for Bias\n",
    "\n"
   ]
  },
  {
   "attachments": {},
   "cell_type": "markdown",
   "metadata": {},
   "source": [
    "## 1. Potential Bias - Sex\n",
    "\n",
    "There are many strategies for determining where to look for bias. These intricate relationships can be hard to disententangle and can be prone to unforeseen complications. Like many data analysis strategies, a combination of qualitative and quantitative knowledge can provide the user with the best course of action. Knowing the data helps keep humans in the loop and allows intelligent interpretation of the results. \n",
    "\n",
    "In our example dataset, `Adult`, it is a well-known phenomenon that women are often disadvantaged in the workforce in terms of salary, especially at the time this dataset was created. This gives us a starting point to look for harmful biases in our dataset."
   ]
  },
  {
   "attachments": {},
   "cell_type": "markdown",
   "metadata": {},
   "source": [
    "### 1a. React\n",
    "\n",
    " We can begin by reacting to the Action Feature and plotting it."
   ]
  },
  {
   "cell_type": "code",
   "execution_count": 4,
   "metadata": {
    "execution": {
     "iopub.execute_input": "2024-02-16T23:09:09.222415Z",
     "iopub.status.busy": "2024-02-16T23:09:09.222067Z",
     "iopub.status.idle": "2024-02-16T23:09:09.441616Z",
     "shell.execute_reply": "2024-02-16T23:09:09.441030Z"
    }
   },
   "outputs": [],
   "source": [
    "context_features = features.get_names(without=['target'])\n",
    "output = t.react(X_test, action_features=[\"target\"], context_features=context_features)[\"action\"]\n",
    "predictions = output[\"target\"]"
   ]
  },
  {
   "attachments": {},
   "cell_type": "markdown",
   "metadata": {},
   "source": [
    "### 1b. Plot\n",
    "\n",
    "Plotting can help visualize the results."
   ]
  },
  {
   "cell_type": "code",
   "execution_count": 5,
   "metadata": {
    "execution": {
     "iopub.execute_input": "2024-02-16T23:09:09.444297Z",
     "iopub.status.busy": "2024-02-16T23:09:09.443929Z",
     "iopub.status.idle": "2024-02-16T23:09:09.706782Z",
     "shell.execute_reply": "2024-02-16T23:09:09.706293Z"
    }
   },
   "outputs": [],
   "source": [
    "context_features = features.get_names(without=['target'])\n",
    "output = t.react(X_test, action_features=[\"target\"], context_features=context_features)[\"action\"]\n",
    "predictions = output[\"target\"]\n",
    "\n",
    "display_output_a = output.replace({\"target\": {0: \"Salary >= $50k\", 1: \"Salary < $50k\"}})\n",
    "display_df = X_test.replace({\n",
    "    \"sex\": {0: \"Female\", 1: \"Male\"},\n",
    "    \"target\": {0: \"Salary >= $50k\", 1: \"Salary < $50k\"}\n",
    "})\n",
    "hue_order = [\"Female\", \"Male\"]"
   ]
  },
  {
   "cell_type": "code",
   "execution_count": 6,
   "metadata": {},
   "outputs": [
    {
     "data": {
      "image/svg+xml": [
       "<svg class=\"main-svg\" xmlns=\"http://www.w3.org/2000/svg\" xmlns:xlink=\"http://www.w3.org/1999/xlink\" width=\"650\" height=\"650\" style=\"\" viewBox=\"0 0 650 650\"><rect x=\"0\" y=\"0\" width=\"650\" height=\"650\" style=\"fill: rgb(255, 255, 255); fill-opacity: 1;\"/><defs id=\"defs-74810e\"><g class=\"clips\"><clipPath id=\"clip74810exyplot\" class=\"plotclip\"><rect width=\"460\" height=\"510\"/></clipPath><clipPath class=\"axesclip\" id=\"clip74810ex\"><rect x=\"80\" y=\"0\" width=\"460\" height=\"650\"/></clipPath><clipPath class=\"axesclip\" id=\"clip74810ey\"><rect x=\"0\" y=\"60\" width=\"650\" height=\"510\"/></clipPath><clipPath class=\"axesclip\" id=\"clip74810exy\"><rect x=\"80\" y=\"60\" width=\"460\" height=\"510\"/></clipPath></g><g class=\"gradients\"/><g class=\"patterns\"/></defs><g class=\"bglayer\"><rect class=\"bg\" x=\"80\" y=\"60\" width=\"460\" height=\"510\" style=\"fill: rgb(229, 236, 246); fill-opacity: 1; stroke-width: 0;\"/></g><g class=\"layer-below\"><g class=\"imagelayer\"/><g class=\"shapelayer\"/></g><g class=\"cartesianlayer\"><g class=\"subplot xy\"><g class=\"layer-subplot\"><g class=\"shapelayer\"/><g class=\"imagelayer\"/></g><g class=\"minor-gridlayer\"><g class=\"x\"/><g class=\"y\"/></g><g class=\"gridlayer\"><g class=\"x\"/><g class=\"y\"><path class=\"ygrid crisp\" transform=\"translate(0,513.99)\" d=\"M80,0h460\" style=\"stroke: rgb(255, 255, 255); stroke-opacity: 1; stroke-width: 1px;\"/><path class=\"ygrid crisp\" transform=\"translate(0,457.98)\" d=\"M80,0h460\" style=\"stroke: rgb(255, 255, 255); stroke-opacity: 1; stroke-width: 1px;\"/><path class=\"ygrid crisp\" transform=\"translate(0,401.97)\" d=\"M80,0h460\" style=\"stroke: rgb(255, 255, 255); stroke-opacity: 1; stroke-width: 1px;\"/><path class=\"ygrid crisp\" transform=\"translate(0,345.95)\" d=\"M80,0h460\" style=\"stroke: rgb(255, 255, 255); stroke-opacity: 1; stroke-width: 1px;\"/><path class=\"ygrid crisp\" transform=\"translate(0,289.94)\" d=\"M80,0h460\" style=\"stroke: rgb(255, 255, 255); stroke-opacity: 1; stroke-width: 1px;\"/><path class=\"ygrid crisp\" transform=\"translate(0,233.93)\" d=\"M80,0h460\" style=\"stroke: rgb(255, 255, 255); stroke-opacity: 1; stroke-width: 1px;\"/><path class=\"ygrid crisp\" transform=\"translate(0,177.92000000000002)\" d=\"M80,0h460\" style=\"stroke: rgb(255, 255, 255); stroke-opacity: 1; stroke-width: 1px;\"/><path class=\"ygrid crisp\" transform=\"translate(0,121.91)\" d=\"M80,0h460\" style=\"stroke: rgb(255, 255, 255); stroke-opacity: 1; stroke-width: 1px;\"/><path class=\"ygrid crisp\" transform=\"translate(0,65.9)\" d=\"M80,0h460\" style=\"stroke: rgb(255, 255, 255); stroke-opacity: 1; stroke-width: 1px;\"/></g></g><g class=\"zerolinelayer\"><path class=\"yzl zl crisp\" transform=\"translate(0,570)\" d=\"M80,0h460\" style=\"stroke: rgb(255, 255, 255); stroke-opacity: 1; stroke-width: 2px;\"/></g><path class=\"xlines-below\"/><path class=\"ylines-below\"/><g class=\"overlines-below\"/><g class=\"xaxislayer-below\"/><g class=\"yaxislayer-below\"/><g class=\"overaxes-below\"/><g class=\"plot\" transform=\"translate(80,60)\" clip-path=\"url(#clip74810exyplot)\"><g class=\"barlayer mlayer\"><g class=\"trace bars\" style=\"opacity: 1;\"><g class=\"points\"><g class=\"point\"><path d=\"M23,510V25.5H115V510Z\" style=\"vector-effect: none; opacity: 1; stroke-width: 0px; fill: rgb(99, 110, 250); fill-opacity: 1;\"/></g><g class=\"point\"><path d=\"M253,510V70.31H345V510Z\" style=\"vector-effect: none; opacity: 1; stroke-width: 0px; fill: rgb(99, 110, 250); fill-opacity: 1;\"/></g></g></g><g class=\"trace bars\" style=\"opacity: 1;\"><g class=\"points\"><g class=\"point\"><path d=\"M115,510V459.59H207V510Z\" style=\"vector-effect: none; opacity: 1; stroke-width: 0px; fill: rgb(239, 85, 59); fill-opacity: 1;\"/></g><g class=\"point\"><path d=\"M345,510V140.32H437V510Z\" style=\"vector-effect: none; opacity: 1; stroke-width: 0px; fill: rgb(239, 85, 59); fill-opacity: 1;\"/></g></g></g></g></g><g class=\"overplot\"/><path class=\"xlines-above crisp\" d=\"M0,0\" style=\"fill: none;\"/><path class=\"ylines-above crisp\" d=\"M0,0\" style=\"fill: none;\"/><g class=\"overlines-above\"/><g class=\"xaxislayer-above\"><g class=\"xtick\"><text text-anchor=\"middle\" x=\"0\" y=\"583\" transform=\"translate(195,0)\" style=\"font-family: 'Open Sans', verdana, arial, sans-serif; font-size: 12px; fill: rgb(42, 63, 95); fill-opacity: 1; white-space: pre; opacity: 1;\">Salary >= $50k</text></g><g class=\"xtick\"><text text-anchor=\"middle\" x=\"0\" y=\"583\" transform=\"translate(425,0)\" style=\"font-family: 'Open Sans', verdana, arial, sans-serif; font-size: 12px; fill: rgb(42, 63, 95); fill-opacity: 1; white-space: pre; opacity: 1;\">Salary &#60; $50k</text></g></g><g class=\"yaxislayer-above\"><g class=\"ytick\"><text text-anchor=\"end\" x=\"79\" y=\"4.199999999999999\" transform=\"translate(0,570)\" style=\"font-family: 'Open Sans', verdana, arial, sans-serif; font-size: 12px; fill: rgb(42, 63, 95); fill-opacity: 1; white-space: pre; opacity: 1;\">0</text></g><g class=\"ytick\"><text text-anchor=\"end\" x=\"79\" y=\"4.199999999999999\" style=\"font-family: 'Open Sans', verdana, arial, sans-serif; font-size: 12px; fill: rgb(42, 63, 95); fill-opacity: 1; white-space: pre; opacity: 1;\" transform=\"translate(0,513.99)\">20</text></g><g class=\"ytick\"><text text-anchor=\"end\" x=\"79\" y=\"4.199999999999999\" style=\"font-family: 'Open Sans', verdana, arial, sans-serif; font-size: 12px; fill: rgb(42, 63, 95); fill-opacity: 1; white-space: pre; opacity: 1;\" transform=\"translate(0,457.98)\">40</text></g><g class=\"ytick\"><text text-anchor=\"end\" x=\"79\" y=\"4.199999999999999\" style=\"font-family: 'Open Sans', verdana, arial, sans-serif; font-size: 12px; fill: rgb(42, 63, 95); fill-opacity: 1; white-space: pre; opacity: 1;\" transform=\"translate(0,401.97)\">60</text></g><g class=\"ytick\"><text text-anchor=\"end\" x=\"79\" y=\"4.199999999999999\" style=\"font-family: 'Open Sans', verdana, arial, sans-serif; font-size: 12px; fill: rgb(42, 63, 95); fill-opacity: 1; white-space: pre; opacity: 1;\" transform=\"translate(0,345.95)\">80</text></g><g class=\"ytick\"><text text-anchor=\"end\" x=\"79\" y=\"4.199999999999999\" style=\"font-family: 'Open Sans', verdana, arial, sans-serif; font-size: 12px; fill: rgb(42, 63, 95); fill-opacity: 1; white-space: pre; opacity: 1;\" transform=\"translate(0,289.94)\">100</text></g><g class=\"ytick\"><text text-anchor=\"end\" x=\"79\" y=\"4.199999999999999\" style=\"font-family: 'Open Sans', verdana, arial, sans-serif; font-size: 12px; fill: rgb(42, 63, 95); fill-opacity: 1; white-space: pre; opacity: 1;\" transform=\"translate(0,233.93)\">120</text></g><g class=\"ytick\"><text text-anchor=\"end\" x=\"79\" y=\"4.199999999999999\" style=\"font-family: 'Open Sans', verdana, arial, sans-serif; font-size: 12px; fill: rgb(42, 63, 95); fill-opacity: 1; white-space: pre; opacity: 1;\" transform=\"translate(0,177.92000000000002)\">140</text></g><g class=\"ytick\"><text text-anchor=\"end\" x=\"79\" y=\"4.199999999999999\" style=\"font-family: 'Open Sans', verdana, arial, sans-serif; font-size: 12px; fill: rgb(42, 63, 95); fill-opacity: 1; white-space: pre; opacity: 1;\" transform=\"translate(0,121.91)\">160</text></g><g class=\"ytick\"><text text-anchor=\"end\" x=\"79\" y=\"4.199999999999999\" style=\"font-family: 'Open Sans', verdana, arial, sans-serif; font-size: 12px; fill: rgb(42, 63, 95); fill-opacity: 1; white-space: pre; opacity: 1;\" transform=\"translate(0,65.9)\">180</text></g></g><g class=\"overaxes-above\"/></g></g><g class=\"polarlayer\"/><g class=\"smithlayer\"/><g class=\"ternarylayer\"/><g class=\"geolayer\"/><g class=\"funnelarealayer\"/><g class=\"pielayer\"/><g class=\"iciclelayer\"/><g class=\"treemaplayer\"/><g class=\"sunburstlayer\"/><g class=\"glimages\"/><defs id=\"topdefs-74810e\"><g class=\"clips\"/><clipPath id=\"legend74810e\"><rect width=\"89\" height=\"67\" x=\"0\" y=\"0\"/></clipPath></defs><g class=\"layer-above\"><g class=\"imagelayer\"/><g class=\"shapelayer\"/></g><g class=\"infolayer\"><g class=\"legend\" pointer-events=\"all\" transform=\"translate(549.2,60)\"><rect class=\"bg\" shape-rendering=\"crispEdges\" style=\"stroke: rgb(68, 68, 68); stroke-opacity: 1; fill: rgb(255, 255, 255); fill-opacity: 1; stroke-width: 0px;\" width=\"89\" height=\"67\" x=\"0\" y=\"0\"/><g class=\"scrollbox\" transform=\"\" clip-path=\"url(#legend74810e)\"><text class=\"legendtitletext\" text-anchor=\"start\" x=\"2\" y=\"18.2\" style=\"font-family: 'Open Sans', verdana, arial, sans-serif; font-size: 14px; fill: rgb(42, 63, 95); fill-opacity: 1; white-space: pre;\">color</text><g class=\"groups\" transform=\"\"><g class=\"traces\" transform=\"translate(0,32.7)\" style=\"opacity: 1;\"><text class=\"legendtext\" text-anchor=\"start\" x=\"40\" y=\"4.680000000000001\" style=\"font-family: 'Open Sans', verdana, arial, sans-serif; font-size: 12px; fill: rgb(42, 63, 95); fill-opacity: 1; white-space: pre;\">Male</text><g class=\"layers\" style=\"opacity: 1;\"><g class=\"legendfill\"/><g class=\"legendlines\"/><g class=\"legendsymbols\"><g class=\"legendpoints\"><path class=\"legendundefined\" d=\"M6,6H-6V-6H6Z\" transform=\"translate(20,0)\" style=\"stroke-width: 0px; fill: rgb(99, 110, 250); fill-opacity: 1;\"/></g></g></g><rect class=\"legendtoggle\" x=\"0\" y=\"-9.5\" width=\"83.078125\" height=\"19\" style=\"fill: rgb(0, 0, 0); fill-opacity: 0;\"/></g></g><g class=\"groups\" transform=\"\"><g class=\"traces\" transform=\"translate(0,51.7)\" style=\"opacity: 1;\"><text class=\"legendtext\" text-anchor=\"start\" x=\"40\" y=\"4.680000000000001\" style=\"font-family: 'Open Sans', verdana, arial, sans-serif; font-size: 12px; fill: rgb(42, 63, 95); fill-opacity: 1; white-space: pre;\">Female</text><g class=\"layers\" style=\"opacity: 1;\"><g class=\"legendfill\"/><g class=\"legendlines\"/><g class=\"legendsymbols\"><g class=\"legendpoints\"><path class=\"legendundefined\" d=\"M6,6H-6V-6H6Z\" transform=\"translate(20,0)\" style=\"stroke-width: 0px; fill: rgb(239, 85, 59); fill-opacity: 1;\"/></g></g></g><rect class=\"legendtoggle\" x=\"0\" y=\"-9.5\" width=\"83.078125\" height=\"19\" style=\"fill: rgb(0, 0, 0); fill-opacity: 0;\"/></g></g></g><rect class=\"scrollbar\" rx=\"20\" ry=\"3\" width=\"0\" height=\"0\" style=\"fill: rgb(128, 139, 164); fill-opacity: 1;\" x=\"0\" y=\"0\"/></g><g class=\"g-gtitle\"/><g class=\"g-xtitle\"><text class=\"xtitle\" x=\"310\" y=\"610.3\" text-anchor=\"middle\" style=\"font-family: 'Open Sans', verdana, arial, sans-serif; font-size: 14px; fill: rgb(42, 63, 95); opacity: 1; font-weight: normal; white-space: pre;\">target</text></g><g class=\"g-ytitle\"><text class=\"ytitle\" transform=\"rotate(-90,31.809375000000003,315)\" x=\"31.809375000000003\" y=\"315\" text-anchor=\"middle\" style=\"font-family: 'Open Sans', verdana, arial, sans-serif; font-size: 14px; fill: rgb(42, 63, 95); opacity: 1; font-weight: normal; white-space: pre;\">count</text></g></g></svg>"
      ]
     },
     "metadata": {},
     "output_type": "display_data"
    }
   ],
   "source": [
    "import plotly.express as px\n",
    "\n",
    "fig = px.histogram(\n",
    "    display_output_a,\n",
    "    x=\"target\",\n",
    "    width=650,\n",
    "    height=650,\n",
    "    barmode=\"group\",\n",
    "    color=display_df.sex,\n",
    ")\n",
    "fig.show()"
   ]
  },
  {
   "attachments": {},
   "cell_type": "markdown",
   "metadata": {},
   "source": [
    "### 1c. Accuracy Results"
   ]
  },
  {
   "cell_type": "code",
   "execution_count": 7,
   "metadata": {
    "execution": {
     "iopub.execute_input": "2024-02-16T23:09:09.710014Z",
     "iopub.status.busy": "2024-02-16T23:09:09.709668Z",
     "iopub.status.idle": "2024-02-16T23:09:09.714229Z",
     "shell.execute_reply": "2024-02-16T23:09:09.713811Z"
    }
   },
   "outputs": [
    {
     "data": {
      "text/plain": [
       "0.821"
      ]
     },
     "execution_count": 7,
     "metadata": {},
     "output_type": "execute_result"
    }
   ],
   "source": [
    "accuracy = round(accuracy_score(X_test[\"target\"], predictions), 3)\n",
    "accuracy"
   ]
  },
  {
   "attachments": {},
   "cell_type": "markdown",
   "metadata": {},
   "source": [
    "### 1d. Results\n",
    "\n",
    "Since we are controlling for many of the features that are relevant to the Action Feature, this highlights the potential biases in the remaining features. We can see with the imbalance in representation across target values between sexes, a bias is evident. Men, despite being of the same work class and education level are much more likely than women to make over $50K in this dataset. \n"
   ]
  },
  {
   "attachments": {},
   "cell_type": "markdown",
   "metadata": {},
   "source": [
    "## 2. Potential Relationship with Biased Feature - Sex and Relationship"
   ]
  },
  {
   "attachments": {},
   "cell_type": "markdown",
   "metadata": {},
   "source": [
    "Now that we identified `Sex` as a bias, we want to see the extent of the bias as it relates to other features. This is important because if we want to correct a biased feature, its relationships with other features can leave residual biases that persist if not addressed. You can think of the main biased feature as a weed whose roots can spread to other features."
   ]
  },
  {
   "attachments": {},
   "cell_type": "markdown",
   "metadata": {},
   "source": [
    "### 2a. Search"
   ]
  },
  {
   "cell_type": "code",
   "execution_count": 8,
   "metadata": {
    "execution": {
     "iopub.execute_input": "2024-02-16T23:09:09.716027Z",
     "iopub.status.busy": "2024-02-16T23:09:09.715871Z",
     "iopub.status.idle": "2024-02-16T23:09:09.932963Z",
     "shell.execute_reply": "2024-02-16T23:09:09.932433Z"
    }
   },
   "outputs": [],
   "source": [
    "# sns.heatmap(df.corr(), xticklabels=df.columns, yticklabels=df.columns, cmap=sns.color_palette(\"YlOrRd\"))\n",
    "\n",
    "# plt.show()"
   ]
  },
  {
   "attachments": {},
   "cell_type": "markdown",
   "metadata": {},
   "source": [
    "\n",
    "\n",
    "We can see that relationship is correlated with the target feature, while sex is strongly inversely correlated with both target and relationshp. \n",
    "Another possible relationship of note is that between age and target, which are inversely correlated with one another. Whether these features should be considered sources of bias is up to the user, as features such as sex have a strong argument and other features, such as age, may represent a neutral relationship in the data as people making higher salaries as they age seems to be a reasonable relationship. Nonetheless, we will demonstrate controlling for age as an example.\n",
    "\n"
   ]
  },
  {
   "attachments": {},
   "cell_type": "markdown",
   "metadata": {},
   "source": [
    "### 2b. React"
   ]
  },
  {
   "cell_type": "code",
   "execution_count": 9,
   "metadata": {
    "execution": {
     "iopub.execute_input": "2024-02-16T23:09:09.935033Z",
     "iopub.status.busy": "2024-02-16T23:09:09.934705Z",
     "iopub.status.idle": "2024-02-16T23:12:09.174269Z",
     "shell.execute_reply": "2024-02-16T23:12:09.173775Z"
    }
   },
   "outputs": [],
   "source": [
    "context_features = features.get_names(without=['sex'])\n",
    "react = t.react(X_test, action_features=[\"sex\"], context_features=context_features, details={\"feature_mda\": True})\n",
    "\n",
    "output = react[\"action\"]\n",
    "explanations = react[\"details\"]"
   ]
  },
  {
   "attachments": {},
   "cell_type": "markdown",
   "metadata": {},
   "source": [
    "### 2c. Verify\n",
    "\n",
    "To further unravel some of the relationships between biased features using Howso Engine's explanations, we can verify the entanglement of sex and relationship by predicting sex and calculating the mean decrease in accuracy (MDA).\n",
    "\n",
    "\n",
    "**`Definitions`:**\n",
    "\n",
    "**`MDA`:** The mean decrease in accuracy of removing a feature.  MDA units are on the same scale as the Action feature(s), and will be probabilities for categorical features.\n",
    "\n",
    "**`Robust MDA`:** The mean absolute decrease in accuracy of the Action feature value(s) over a sampling of the power set of all of the Context features. This is similar to the sampling mechanism of the commonly used `SHAP` feature importance measure."
   ]
  },
  {
   "cell_type": "code",
   "execution_count": 10,
   "metadata": {
    "execution": {
     "iopub.execute_input": "2024-02-16T23:12:09.176695Z",
     "iopub.status.busy": "2024-02-16T23:12:09.176373Z",
     "iopub.status.idle": "2024-02-16T23:12:09.182456Z",
     "shell.execute_reply": "2024-02-16T23:12:09.182066Z"
    }
   },
   "outputs": [
    {
     "data": {
      "text/plain": [
       "relationship      0.02890\n",
       "marital-status    0.01186\n",
       "target            0.00181\n",
       "race              0.00177\n",
       "hours-per-week    0.00134\n",
       "education         0.00125\n",
       "workclass         0.00123\n",
       "capital-loss      0.00097\n",
       "capital-gain      0.00097\n",
       "native-country    0.00080\n",
       "fnlwgt            0.00010\n",
       "age              -0.00173\n",
       "education-num    -0.00215\n",
       "occupation       -0.00394\n",
       "dtype: float64"
      ]
     },
     "metadata": {},
     "output_type": "display_data"
    }
   ],
   "source": [
    "mdas = []\n",
    "for explanation in explanations[\"feature_mda\"]:\n",
    "    mdas.append(list(explanation.values()))\n",
    "\n",
    "mdas = pd.DataFrame(mdas, columns=list(explanation.keys()))\n",
    "display(mdas.mean(axis=0).sort_values(ascending=False).round(5))"
   ]
  },
  {
   "attachments": {},
   "cell_type": "markdown",
   "metadata": {},
   "source": [
    "We can see that `relationship` has a large MDA, confirming that `relationship` and `sex` have a strong relationship. \n",
    "\n",
    "Now that we have identified some features which may introduce bias, we can begin to mitigate them in two different ways using Howso Engine. We will measure the effectiveness of this mitigation visually and with a G-test p-value."
   ]
  },
  {
   "attachments": {},
   "cell_type": "markdown",
   "metadata": {},
   "source": [
    "## Section 3: Control for Differences in `relationship`, `sex`, and `marital-status`."
   ]
  },
  {
   "attachments": {},
   "cell_type": "markdown",
   "metadata": {},
   "source": [
    "### 3a: React\n",
    "\n",
    "In order to mitigate for these biased features, we will leave them out when using `react`. Note that since `marital-status` is correlated with `relationship`, we will also control for that. Since Howso Engine uses instance-based learning combined with sophisticated methods of handling NaNs, it can maintain high levels of performance even when features are left out."
   ]
  },
  {
   "cell_type": "code",
   "execution_count": 11,
   "metadata": {
    "execution": {
     "iopub.execute_input": "2024-02-16T23:12:09.184364Z",
     "iopub.status.busy": "2024-02-16T23:12:09.184060Z",
     "iopub.status.idle": "2024-02-16T23:12:09.327179Z",
     "shell.execute_reply": "2024-02-16T23:12:09.326568Z"
    }
   },
   "outputs": [],
   "source": [
    "context_features = features.get_names(without=['target', 'sex', 'relationship', 'marital-status'])\n",
    "react = t.react(X_test, action_features=[\"target\"], context_features=context_features)\n",
    "\n",
    "output = react[\"action\"]\n",
    "predictions = output[\"target\"]"
   ]
  },
  {
   "attachments": {},
   "cell_type": "markdown",
   "metadata": {},
   "source": [
    "### 3b. Plot"
   ]
  },
  {
   "cell_type": "code",
   "execution_count": 12,
   "metadata": {
    "execution": {
     "iopub.execute_input": "2024-02-16T23:12:09.329576Z",
     "iopub.status.busy": "2024-02-16T23:12:09.329243Z",
     "iopub.status.idle": "2024-02-16T23:12:09.427834Z",
     "shell.execute_reply": "2024-02-16T23:12:09.427290Z"
    }
   },
   "outputs": [
    {
     "data": {
      "image/svg+xml": [
       "<svg class=\"main-svg\" xmlns=\"http://www.w3.org/2000/svg\" xmlns:xlink=\"http://www.w3.org/1999/xlink\" width=\"650\" height=\"650\" style=\"\" viewBox=\"0 0 650 650\"><rect x=\"0\" y=\"0\" width=\"650\" height=\"650\" style=\"fill: rgb(255, 255, 255); fill-opacity: 1;\"/><defs id=\"defs-477350\"><g class=\"clips\"><clipPath id=\"clip477350xyplot\" class=\"plotclip\"><rect width=\"460\" height=\"510\"/></clipPath><clipPath class=\"axesclip\" id=\"clip477350x\"><rect x=\"80\" y=\"0\" width=\"460\" height=\"650\"/></clipPath><clipPath class=\"axesclip\" id=\"clip477350y\"><rect x=\"0\" y=\"60\" width=\"650\" height=\"510\"/></clipPath><clipPath class=\"axesclip\" id=\"clip477350xy\"><rect x=\"80\" y=\"60\" width=\"460\" height=\"510\"/></clipPath></g><g class=\"gradients\"/><g class=\"patterns\"/></defs><g class=\"bglayer\"><rect class=\"bg\" x=\"80\" y=\"60\" width=\"460\" height=\"510\" style=\"fill: rgb(229, 236, 246); fill-opacity: 1; stroke-width: 0;\"/></g><g class=\"layer-below\"><g class=\"imagelayer\"/><g class=\"shapelayer\"/></g><g class=\"cartesianlayer\"><g class=\"subplot xy\"><g class=\"layer-subplot\"><g class=\"shapelayer\"/><g class=\"imagelayer\"/></g><g class=\"minor-gridlayer\"><g class=\"x\"/><g class=\"y\"/></g><g class=\"gridlayer\"><g class=\"x\"/><g class=\"y\"><path class=\"ygrid crisp\" transform=\"translate(0,443.83)\" d=\"M80,0h460\" style=\"stroke: rgb(255, 255, 255); stroke-opacity: 1; stroke-width: 1px;\"/><path class=\"ygrid crisp\" transform=\"translate(0,317.66)\" d=\"M80,0h460\" style=\"stroke: rgb(255, 255, 255); stroke-opacity: 1; stroke-width: 1px;\"/><path class=\"ygrid crisp\" transform=\"translate(0,191.48)\" d=\"M80,0h460\" style=\"stroke: rgb(255, 255, 255); stroke-opacity: 1; stroke-width: 1px;\"/><path class=\"ygrid crisp\" transform=\"translate(0,65.31)\" d=\"M80,0h460\" style=\"stroke: rgb(255, 255, 255); stroke-opacity: 1; stroke-width: 1px;\"/></g></g><g class=\"zerolinelayer\"><path class=\"yzl zl crisp\" transform=\"translate(0,570)\" d=\"M80,0h460\" style=\"stroke: rgb(255, 255, 255); stroke-opacity: 1; stroke-width: 2px;\"/></g><path class=\"xlines-below\"/><path class=\"ylines-below\"/><g class=\"overlines-below\"/><g class=\"xaxislayer-below\"/><g class=\"yaxislayer-below\"/><g class=\"overaxes-below\"/><g class=\"plot\" transform=\"translate(80,60)\" clip-path=\"url(#clip477350xyplot)\"><g class=\"barlayer mlayer\"><g class=\"trace bars\" style=\"opacity: 1;\"><g class=\"points\"><g class=\"point\"><path d=\"M23,510V25.5H115V510Z\" style=\"vector-effect: none; opacity: 1; stroke-width: 0px; fill: rgb(99, 110, 250); fill-opacity: 1;\"/></g><g class=\"point\"><path d=\"M253,510V161.77H345V510Z\" style=\"vector-effect: none; opacity: 1; stroke-width: 0px; fill: rgb(99, 110, 250); fill-opacity: 1;\"/></g></g></g><g class=\"trace bars\" style=\"opacity: 1;\"><g class=\"points\"><g class=\"point\"><path d=\"M115,510V192.05H207V510Z\" style=\"vector-effect: none; opacity: 1; stroke-width: 0px; fill: rgb(239, 85, 59); fill-opacity: 1;\"/></g><g class=\"point\"><path d=\"M345,510V449.44H437V510Z\" style=\"vector-effect: none; opacity: 1; stroke-width: 0px; fill: rgb(239, 85, 59); fill-opacity: 1;\"/></g></g></g></g></g><g class=\"overplot\"/><path class=\"xlines-above crisp\" d=\"M0,0\" style=\"fill: none;\"/><path class=\"ylines-above crisp\" d=\"M0,0\" style=\"fill: none;\"/><g class=\"overlines-above\"/><g class=\"xaxislayer-above\"><g class=\"xtick\"><text text-anchor=\"middle\" x=\"0\" y=\"583\" transform=\"translate(195,0)\" style=\"font-family: 'Open Sans', verdana, arial, sans-serif; font-size: 12px; fill: rgb(42, 63, 95); fill-opacity: 1; white-space: pre; opacity: 1;\">Salary &#60; $50k</text></g><g class=\"xtick\"><text text-anchor=\"middle\" x=\"0\" y=\"583\" transform=\"translate(425,0)\" style=\"font-family: 'Open Sans', verdana, arial, sans-serif; font-size: 12px; fill: rgb(42, 63, 95); fill-opacity: 1; white-space: pre; opacity: 1;\">Salary >= $50k</text></g></g><g class=\"yaxislayer-above\"><g class=\"ytick\"><text text-anchor=\"end\" x=\"79\" y=\"4.199999999999999\" transform=\"translate(0,570)\" style=\"font-family: 'Open Sans', verdana, arial, sans-serif; font-size: 12px; fill: rgb(42, 63, 95); fill-opacity: 1; white-space: pre; opacity: 1;\">0</text></g><g class=\"ytick\"><text text-anchor=\"end\" x=\"79\" y=\"4.199999999999999\" style=\"font-family: 'Open Sans', verdana, arial, sans-serif; font-size: 12px; fill: rgb(42, 63, 95); fill-opacity: 1; white-space: pre; opacity: 1;\" transform=\"translate(0,443.83)\">50</text></g><g class=\"ytick\"><text text-anchor=\"end\" x=\"79\" y=\"4.199999999999999\" style=\"font-family: 'Open Sans', verdana, arial, sans-serif; font-size: 12px; fill: rgb(42, 63, 95); fill-opacity: 1; white-space: pre; opacity: 1;\" transform=\"translate(0,317.66)\">100</text></g><g class=\"ytick\"><text text-anchor=\"end\" x=\"79\" y=\"4.199999999999999\" style=\"font-family: 'Open Sans', verdana, arial, sans-serif; font-size: 12px; fill: rgb(42, 63, 95); fill-opacity: 1; white-space: pre; opacity: 1;\" transform=\"translate(0,191.48)\">150</text></g><g class=\"ytick\"><text text-anchor=\"end\" x=\"79\" y=\"4.199999999999999\" style=\"font-family: 'Open Sans', verdana, arial, sans-serif; font-size: 12px; fill: rgb(42, 63, 95); fill-opacity: 1; white-space: pre; opacity: 1;\" transform=\"translate(0,65.31)\">200</text></g></g><g class=\"overaxes-above\"/></g></g><g class=\"polarlayer\"/><g class=\"smithlayer\"/><g class=\"ternarylayer\"/><g class=\"geolayer\"/><g class=\"funnelarealayer\"/><g class=\"pielayer\"/><g class=\"iciclelayer\"/><g class=\"treemaplayer\"/><g class=\"sunburstlayer\"/><g class=\"glimages\"/><defs id=\"topdefs-477350\"><g class=\"clips\"/><clipPath id=\"legend477350\"><rect width=\"89\" height=\"67\" x=\"0\" y=\"0\"/></clipPath></defs><g class=\"layer-above\"><g class=\"imagelayer\"/><g class=\"shapelayer\"/></g><g class=\"infolayer\"><g class=\"legend\" pointer-events=\"all\" transform=\"translate(549.2,60)\"><rect class=\"bg\" shape-rendering=\"crispEdges\" width=\"89\" height=\"67\" x=\"0\" y=\"0\" style=\"stroke: rgb(68, 68, 68); stroke-opacity: 1; fill: rgb(255, 255, 255); fill-opacity: 1; stroke-width: 0px;\"/><g class=\"scrollbox\" transform=\"\" clip-path=\"url(#legend477350)\"><text class=\"legendtitletext\" text-anchor=\"start\" x=\"2\" y=\"18.2\" style=\"font-family: 'Open Sans', verdana, arial, sans-serif; font-size: 14px; fill: rgb(42, 63, 95); fill-opacity: 1; white-space: pre;\">color</text><g class=\"groups\" transform=\"\"><g class=\"traces\" transform=\"translate(0,32.7)\" style=\"opacity: 1;\"><text class=\"legendtext\" text-anchor=\"start\" x=\"40\" y=\"4.680000000000001\" style=\"font-family: 'Open Sans', verdana, arial, sans-serif; font-size: 12px; fill: rgb(42, 63, 95); fill-opacity: 1; white-space: pre;\">Male</text><g class=\"layers\" style=\"opacity: 1;\"><g class=\"legendfill\"/><g class=\"legendlines\"/><g class=\"legendsymbols\"><g class=\"legendpoints\"><path class=\"legendundefined\" d=\"M6,6H-6V-6H6Z\" transform=\"translate(20,0)\" style=\"stroke-width: 0px; fill: rgb(99, 110, 250); fill-opacity: 1;\"/></g></g></g><rect class=\"legendtoggle\" x=\"0\" y=\"-9.5\" width=\"83.078125\" height=\"19\" style=\"fill: rgb(0, 0, 0); fill-opacity: 0;\"/></g></g><g class=\"groups\" transform=\"\"><g class=\"traces\" transform=\"translate(0,51.7)\" style=\"opacity: 1;\"><text class=\"legendtext\" text-anchor=\"start\" x=\"40\" y=\"4.680000000000001\" style=\"font-family: 'Open Sans', verdana, arial, sans-serif; font-size: 12px; fill: rgb(42, 63, 95); fill-opacity: 1; white-space: pre;\">Female</text><g class=\"layers\" style=\"opacity: 1;\"><g class=\"legendfill\"/><g class=\"legendlines\"/><g class=\"legendsymbols\"><g class=\"legendpoints\"><path class=\"legendundefined\" d=\"M6,6H-6V-6H6Z\" transform=\"translate(20,0)\" style=\"stroke-width: 0px; fill: rgb(239, 85, 59); fill-opacity: 1;\"/></g></g></g><rect class=\"legendtoggle\" x=\"0\" y=\"-9.5\" width=\"83.078125\" height=\"19\" style=\"fill: rgb(0, 0, 0); fill-opacity: 0;\"/></g></g></g><rect class=\"scrollbar\" rx=\"20\" ry=\"3\" width=\"0\" height=\"0\" x=\"0\" y=\"0\" style=\"fill: rgb(128, 139, 164); fill-opacity: 1;\"/></g><g class=\"g-gtitle\"/><g class=\"g-xtitle\"><text class=\"xtitle\" x=\"310\" y=\"610.3\" text-anchor=\"middle\" style=\"font-family: 'Open Sans', verdana, arial, sans-serif; font-size: 14px; fill: rgb(42, 63, 95); opacity: 1; font-weight: normal; white-space: pre;\">target</text></g><g class=\"g-ytitle\"><text class=\"ytitle\" transform=\"rotate(-90,31.809375000000003,315)\" x=\"31.809375000000003\" y=\"315\" text-anchor=\"middle\" style=\"font-family: 'Open Sans', verdana, arial, sans-serif; font-size: 14px; fill: rgb(42, 63, 95); opacity: 1; font-weight: normal; white-space: pre;\">count</text></g></g></svg>"
      ]
     },
     "metadata": {},
     "output_type": "display_data"
    }
   ],
   "source": [
    "\n",
    "display_output_b = output.replace({\"target\": {0: \"Salary >= $50k\", 1: \"Salary < $50k\"}})\n",
    "display_df = X_test.replace({\n",
    "    \"sex\": {0: \"Female\", 1: \"Male\"},\n",
    "    \"target\": {0: \"Salary >= $50k\", 1: \"Salary < $50k\"}\n",
    "})\n",
    "\n",
    "fig = px.histogram(\n",
    "    display_output_b,\n",
    "    x=\"target\",\n",
    "    width=650,\n",
    "    height=650,\n",
    "    barmode=\"group\",\n",
    "    color=display_df.sex,\n",
    ")\n",
    "fig.show()"
   ]
  },
  {
   "attachments": {},
   "cell_type": "markdown",
   "metadata": {},
   "source": [
    "### 3c. Count check\n",
    "\n",
    "We can see that the balance has been somewhat corrected, although this is not guaranteed. We can use a G-test to verify if this anecdote is backed up statistically by measuring the different counts. This may not be a complete fix, however it likely that the bias has improved."
   ]
  },
  {
   "cell_type": "code",
   "execution_count": 13,
   "metadata": {
    "execution": {
     "iopub.execute_input": "2024-02-16T23:12:09.429900Z",
     "iopub.status.busy": "2024-02-16T23:12:09.429567Z",
     "iopub.status.idle": "2024-02-16T23:12:09.434025Z",
     "shell.execute_reply": "2024-02-16T23:12:09.433510Z"
    }
   },
   "outputs": [
    {
     "name": "stdout",
     "output_type": "stream",
     "text": [
      "p-value: 0.6836898053785746\n"
     ]
    }
   ],
   "source": [
    "counts = [\n",
    "    [X_test.target.sum(), len(X_test) - X_test.target.sum()], [output.target.sum(), len(output) - output.target.sum()]\n",
    "]\n",
    "\n",
    "_, p, _, _ = chi2_contingency(counts, lambda_=\"log-likelihood\")\n",
    "print(f\"p-value: {p}\")"
   ]
  },
  {
   "attachments": {},
   "cell_type": "markdown",
   "metadata": {},
   "source": [
    "### 3d. Accuracy Check\n",
    "\n",
    "We can see that we still maintain relatively good accuracy compared to the original data set."
   ]
  },
  {
   "cell_type": "code",
   "execution_count": 14,
   "metadata": {
    "execution": {
     "iopub.execute_input": "2024-02-16T23:12:09.435914Z",
     "iopub.status.busy": "2024-02-16T23:12:09.435609Z",
     "iopub.status.idle": "2024-02-16T23:12:09.440184Z",
     "shell.execute_reply": "2024-02-16T23:12:09.439670Z"
    }
   },
   "outputs": [
    {
     "data": {
      "text/plain": [
       "0.748"
      ]
     },
     "execution_count": 14,
     "metadata": {},
     "output_type": "execute_result"
    }
   ],
   "source": [
    "accuracy = round(accuracy_score(X_test[\"target\"], predictions), 3)\n",
    "accuracy"
   ]
  },
  {
   "attachments": {},
   "cell_type": "markdown",
   "metadata": {},
   "source": [
    "# 4. Control for Differences in Age\n",
    "\n",
    "Unfortunately, it is possible that the balance not quite been addressed fully. Let's go back to that relationship between age and target, and see if we can't control for that. "
   ]
  },
  {
   "attachments": {},
   "cell_type": "markdown",
   "metadata": {},
   "source": [
    "### 4a. Random Ages\n",
    "\n",
    "We can do this by setting the age of each individual randomly in the range of 40 to 50. The Trainee will use these values to find the nearest trained Cases."
   ]
  },
  {
   "cell_type": "code",
   "execution_count": 15,
   "metadata": {
    "execution": {
     "iopub.execute_input": "2024-02-16T23:12:09.442073Z",
     "iopub.status.busy": "2024-02-16T23:12:09.441789Z",
     "iopub.status.idle": "2024-02-16T23:12:09.445076Z",
     "shell.execute_reply": "2024-02-16T23:12:09.444540Z"
    }
   },
   "outputs": [],
   "source": [
    "X_test_controlled = X_test\n",
    "\n",
    "rng = np.random.default_rng()\n",
    "X_test_controlled.age = rng.integers(40, 50, size=len(X_test_controlled))\n"
   ]
  },
  {
   "attachments": {},
   "cell_type": "markdown",
   "metadata": {},
   "source": [
    "### 4b. React"
   ]
  },
  {
   "cell_type": "code",
   "execution_count": 16,
   "metadata": {
    "execution": {
     "iopub.execute_input": "2024-02-16T23:12:09.446923Z",
     "iopub.status.busy": "2024-02-16T23:12:09.446615Z",
     "iopub.status.idle": "2024-02-16T23:12:09.595407Z",
     "shell.execute_reply": "2024-02-16T23:12:09.594930Z"
    }
   },
   "outputs": [],
   "source": [
    "\n",
    "output = t.react(X_test_controlled, action_features=[\"target\"], context_features=context_features)[\"action\"]\n",
    "predictions = output[\"target\"]"
   ]
  },
  {
   "attachments": {},
   "cell_type": "markdown",
   "metadata": {},
   "source": [
    "### 4c. Graph"
   ]
  },
  {
   "cell_type": "code",
   "execution_count": 17,
   "metadata": {
    "execution": {
     "iopub.execute_input": "2024-02-16T23:12:09.597797Z",
     "iopub.status.busy": "2024-02-16T23:12:09.597583Z",
     "iopub.status.idle": "2024-02-16T23:12:09.697423Z",
     "shell.execute_reply": "2024-02-16T23:12:09.696982Z"
    }
   },
   "outputs": [
    {
     "data": {
      "image/svg+xml": [
       "<svg class=\"main-svg\" xmlns=\"http://www.w3.org/2000/svg\" xmlns:xlink=\"http://www.w3.org/1999/xlink\" width=\"650\" height=\"650\" style=\"\" viewBox=\"0 0 650 650\"><rect x=\"0\" y=\"0\" width=\"650\" height=\"650\" style=\"fill: rgb(255, 255, 255); fill-opacity: 1;\"/><defs id=\"defs-c3e8d3\"><g class=\"clips\"><clipPath id=\"clipc3e8d3xyplot\" class=\"plotclip\"><rect width=\"460\" height=\"510\"/></clipPath><clipPath class=\"axesclip\" id=\"clipc3e8d3x\"><rect x=\"80\" y=\"0\" width=\"460\" height=\"650\"/></clipPath><clipPath class=\"axesclip\" id=\"clipc3e8d3y\"><rect x=\"0\" y=\"60\" width=\"650\" height=\"510\"/></clipPath><clipPath class=\"axesclip\" id=\"clipc3e8d3xy\"><rect x=\"80\" y=\"60\" width=\"460\" height=\"510\"/></clipPath></g><g class=\"gradients\"/><g class=\"patterns\"/></defs><g class=\"bglayer\"><rect class=\"bg\" x=\"80\" y=\"60\" width=\"460\" height=\"510\" style=\"fill: rgb(229, 236, 246); fill-opacity: 1; stroke-width: 0;\"/></g><g class=\"layer-below\"><g class=\"imagelayer\"/><g class=\"shapelayer\"/></g><g class=\"cartesianlayer\"><g class=\"subplot xy\"><g class=\"layer-subplot\"><g class=\"shapelayer\"/><g class=\"imagelayer\"/></g><g class=\"minor-gridlayer\"><g class=\"x\"/><g class=\"y\"/></g><g class=\"gridlayer\"><g class=\"x\"/><g class=\"y\"><path class=\"ygrid crisp\" transform=\"translate(0,513.99)\" d=\"M80,0h460\" style=\"stroke: rgb(255, 255, 255); stroke-opacity: 1; stroke-width: 1px;\"/><path class=\"ygrid crisp\" transform=\"translate(0,457.98)\" d=\"M80,0h460\" style=\"stroke: rgb(255, 255, 255); stroke-opacity: 1; stroke-width: 1px;\"/><path class=\"ygrid crisp\" transform=\"translate(0,401.97)\" d=\"M80,0h460\" style=\"stroke: rgb(255, 255, 255); stroke-opacity: 1; stroke-width: 1px;\"/><path class=\"ygrid crisp\" transform=\"translate(0,345.95)\" d=\"M80,0h460\" style=\"stroke: rgb(255, 255, 255); stroke-opacity: 1; stroke-width: 1px;\"/><path class=\"ygrid crisp\" transform=\"translate(0,289.94)\" d=\"M80,0h460\" style=\"stroke: rgb(255, 255, 255); stroke-opacity: 1; stroke-width: 1px;\"/><path class=\"ygrid crisp\" transform=\"translate(0,233.93)\" d=\"M80,0h460\" style=\"stroke: rgb(255, 255, 255); stroke-opacity: 1; stroke-width: 1px;\"/><path class=\"ygrid crisp\" transform=\"translate(0,177.92000000000002)\" d=\"M80,0h460\" style=\"stroke: rgb(255, 255, 255); stroke-opacity: 1; stroke-width: 1px;\"/><path class=\"ygrid crisp\" transform=\"translate(0,121.91)\" d=\"M80,0h460\" style=\"stroke: rgb(255, 255, 255); stroke-opacity: 1; stroke-width: 1px;\"/><path class=\"ygrid crisp\" transform=\"translate(0,65.9)\" d=\"M80,0h460\" style=\"stroke: rgb(255, 255, 255); stroke-opacity: 1; stroke-width: 1px;\"/></g></g><g class=\"zerolinelayer\"><path class=\"yzl zl crisp\" transform=\"translate(0,570)\" d=\"M80,0h460\" style=\"stroke: rgb(255, 255, 255); stroke-opacity: 1; stroke-width: 2px;\"/></g><path class=\"xlines-below\"/><path class=\"ylines-below\"/><g class=\"overlines-below\"/><g class=\"xaxislayer-below\"/><g class=\"yaxislayer-below\"/><g class=\"overaxes-below\"/><g class=\"plot\" transform=\"translate(80,60)\" clip-path=\"url(#clipc3e8d3xyplot)\"><g class=\"barlayer mlayer\"><g class=\"trace bars\" style=\"opacity: 1;\"><g class=\"points\"><g class=\"point\"><path d=\"M23,510V25.5H115V510Z\" style=\"vector-effect: none; opacity: 1; stroke-width: 0px; fill: rgb(99, 110, 250); fill-opacity: 1;\"/></g><g class=\"point\"><path d=\"M253,510V70.31H345V510Z\" style=\"vector-effect: none; opacity: 1; stroke-width: 0px; fill: rgb(99, 110, 250); fill-opacity: 1;\"/></g></g></g><g class=\"trace bars\" style=\"opacity: 1;\"><g class=\"points\"><g class=\"point\"><path d=\"M115,510V330.76H207V510Z\" style=\"vector-effect: none; opacity: 1; stroke-width: 0px; fill: rgb(239, 85, 59); fill-opacity: 1;\"/></g><g class=\"point\"><path d=\"M345,510V269.15H437V510Z\" style=\"vector-effect: none; opacity: 1; stroke-width: 0px; fill: rgb(239, 85, 59); fill-opacity: 1;\"/></g></g></g></g></g><g class=\"overplot\"/><path class=\"xlines-above crisp\" d=\"M0,0\" style=\"fill: none;\"/><path class=\"ylines-above crisp\" d=\"M0,0\" style=\"fill: none;\"/><g class=\"overlines-above\"/><g class=\"xaxislayer-above\"><g class=\"xtick\"><text text-anchor=\"middle\" x=\"0\" y=\"583\" transform=\"translate(195,0)\" style=\"font-family: 'Open Sans', verdana, arial, sans-serif; font-size: 12px; fill: rgb(42, 63, 95); fill-opacity: 1; white-space: pre; opacity: 1;\">Salary >= $50k</text></g><g class=\"xtick\"><text text-anchor=\"middle\" x=\"0\" y=\"583\" transform=\"translate(425,0)\" style=\"font-family: 'Open Sans', verdana, arial, sans-serif; font-size: 12px; fill: rgb(42, 63, 95); fill-opacity: 1; white-space: pre; opacity: 1;\">Salary &#60; $50k</text></g></g><g class=\"yaxislayer-above\"><g class=\"ytick\"><text text-anchor=\"end\" x=\"79\" y=\"4.199999999999999\" transform=\"translate(0,570)\" style=\"font-family: 'Open Sans', verdana, arial, sans-serif; font-size: 12px; fill: rgb(42, 63, 95); fill-opacity: 1; white-space: pre; opacity: 1;\">0</text></g><g class=\"ytick\"><text text-anchor=\"end\" x=\"79\" y=\"4.199999999999999\" style=\"font-family: 'Open Sans', verdana, arial, sans-serif; font-size: 12px; fill: rgb(42, 63, 95); fill-opacity: 1; white-space: pre; opacity: 1;\" transform=\"translate(0,513.99)\">20</text></g><g class=\"ytick\"><text text-anchor=\"end\" x=\"79\" y=\"4.199999999999999\" style=\"font-family: 'Open Sans', verdana, arial, sans-serif; font-size: 12px; fill: rgb(42, 63, 95); fill-opacity: 1; white-space: pre; opacity: 1;\" transform=\"translate(0,457.98)\">40</text></g><g class=\"ytick\"><text text-anchor=\"end\" x=\"79\" y=\"4.199999999999999\" style=\"font-family: 'Open Sans', verdana, arial, sans-serif; font-size: 12px; fill: rgb(42, 63, 95); fill-opacity: 1; white-space: pre; opacity: 1;\" transform=\"translate(0,401.97)\">60</text></g><g class=\"ytick\"><text text-anchor=\"end\" x=\"79\" y=\"4.199999999999999\" style=\"font-family: 'Open Sans', verdana, arial, sans-serif; font-size: 12px; fill: rgb(42, 63, 95); fill-opacity: 1; white-space: pre; opacity: 1;\" transform=\"translate(0,345.95)\">80</text></g><g class=\"ytick\"><text text-anchor=\"end\" x=\"79\" y=\"4.199999999999999\" style=\"font-family: 'Open Sans', verdana, arial, sans-serif; font-size: 12px; fill: rgb(42, 63, 95); fill-opacity: 1; white-space: pre; opacity: 1;\" transform=\"translate(0,289.94)\">100</text></g><g class=\"ytick\"><text text-anchor=\"end\" x=\"79\" y=\"4.199999999999999\" style=\"font-family: 'Open Sans', verdana, arial, sans-serif; font-size: 12px; fill: rgb(42, 63, 95); fill-opacity: 1; white-space: pre; opacity: 1;\" transform=\"translate(0,233.93)\">120</text></g><g class=\"ytick\"><text text-anchor=\"end\" x=\"79\" y=\"4.199999999999999\" style=\"font-family: 'Open Sans', verdana, arial, sans-serif; font-size: 12px; fill: rgb(42, 63, 95); fill-opacity: 1; white-space: pre; opacity: 1;\" transform=\"translate(0,177.92000000000002)\">140</text></g><g class=\"ytick\"><text text-anchor=\"end\" x=\"79\" y=\"4.199999999999999\" style=\"font-family: 'Open Sans', verdana, arial, sans-serif; font-size: 12px; fill: rgb(42, 63, 95); fill-opacity: 1; white-space: pre; opacity: 1;\" transform=\"translate(0,121.91)\">160</text></g><g class=\"ytick\"><text text-anchor=\"end\" x=\"79\" y=\"4.199999999999999\" style=\"font-family: 'Open Sans', verdana, arial, sans-serif; font-size: 12px; fill: rgb(42, 63, 95); fill-opacity: 1; white-space: pre; opacity: 1;\" transform=\"translate(0,65.9)\">180</text></g></g><g class=\"overaxes-above\"/></g></g><g class=\"polarlayer\"/><g class=\"smithlayer\"/><g class=\"ternarylayer\"/><g class=\"geolayer\"/><g class=\"funnelarealayer\"/><g class=\"pielayer\"/><g class=\"iciclelayer\"/><g class=\"treemaplayer\"/><g class=\"sunburstlayer\"/><g class=\"glimages\"/><defs id=\"topdefs-c3e8d3\"><g class=\"clips\"/><clipPath id=\"legendc3e8d3\"><rect width=\"89\" height=\"67\" x=\"0\" y=\"0\"/></clipPath></defs><g class=\"layer-above\"><g class=\"imagelayer\"/><g class=\"shapelayer\"/></g><g class=\"infolayer\"><g class=\"legend\" pointer-events=\"all\" transform=\"translate(549.2,60)\"><rect class=\"bg\" shape-rendering=\"crispEdges\" width=\"89\" height=\"67\" x=\"0\" y=\"0\" style=\"stroke: rgb(68, 68, 68); stroke-opacity: 1; fill: rgb(255, 255, 255); fill-opacity: 1; stroke-width: 0px;\"/><g class=\"scrollbox\" transform=\"\" clip-path=\"url(#legendc3e8d3)\"><text class=\"legendtitletext\" text-anchor=\"start\" x=\"2\" y=\"18.2\" style=\"font-family: 'Open Sans', verdana, arial, sans-serif; font-size: 14px; fill: rgb(42, 63, 95); fill-opacity: 1; white-space: pre;\">color</text><g class=\"groups\" transform=\"\"><g class=\"traces\" transform=\"translate(0,32.7)\" style=\"opacity: 1;\"><text class=\"legendtext\" text-anchor=\"start\" x=\"40\" y=\"4.680000000000001\" style=\"font-family: 'Open Sans', verdana, arial, sans-serif; font-size: 12px; fill: rgb(42, 63, 95); fill-opacity: 1; white-space: pre;\">Male</text><g class=\"layers\" style=\"opacity: 1;\"><g class=\"legendfill\"/><g class=\"legendlines\"/><g class=\"legendsymbols\"><g class=\"legendpoints\"><path class=\"legendundefined\" d=\"M6,6H-6V-6H6Z\" transform=\"translate(20,0)\" style=\"stroke-width: 0px; fill: rgb(99, 110, 250); fill-opacity: 1;\"/></g></g></g><rect class=\"legendtoggle\" x=\"0\" y=\"-9.5\" width=\"83.078125\" height=\"19\" style=\"fill: rgb(0, 0, 0); fill-opacity: 0;\"/></g></g><g class=\"groups\" transform=\"\"><g class=\"traces\" transform=\"translate(0,51.7)\" style=\"opacity: 1;\"><text class=\"legendtext\" text-anchor=\"start\" x=\"40\" y=\"4.680000000000001\" style=\"font-family: 'Open Sans', verdana, arial, sans-serif; font-size: 12px; fill: rgb(42, 63, 95); fill-opacity: 1; white-space: pre;\">Female</text><g class=\"layers\" style=\"opacity: 1;\"><g class=\"legendfill\"/><g class=\"legendlines\"/><g class=\"legendsymbols\"><g class=\"legendpoints\"><path class=\"legendundefined\" d=\"M6,6H-6V-6H6Z\" transform=\"translate(20,0)\" style=\"stroke-width: 0px; fill: rgb(239, 85, 59); fill-opacity: 1;\"/></g></g></g><rect class=\"legendtoggle\" x=\"0\" y=\"-9.5\" width=\"83.078125\" height=\"19\" style=\"fill: rgb(0, 0, 0); fill-opacity: 0;\"/></g></g></g><rect class=\"scrollbar\" rx=\"20\" ry=\"3\" width=\"0\" height=\"0\" x=\"0\" y=\"0\" style=\"fill: rgb(128, 139, 164); fill-opacity: 1;\"/></g><g class=\"g-gtitle\"/><g class=\"g-xtitle\"><text class=\"xtitle\" x=\"310\" y=\"610.3\" text-anchor=\"middle\" style=\"font-family: 'Open Sans', verdana, arial, sans-serif; font-size: 14px; fill: rgb(42, 63, 95); opacity: 1; font-weight: normal; white-space: pre;\">target</text></g><g class=\"g-ytitle\"><text class=\"ytitle\" transform=\"rotate(-90,31.809375000000003,315)\" x=\"31.809375000000003\" y=\"315\" text-anchor=\"middle\" style=\"font-family: 'Open Sans', verdana, arial, sans-serif; font-size: 14px; fill: rgb(42, 63, 95); opacity: 1; font-weight: normal; white-space: pre;\">count</text></g></g></svg>"
      ]
     },
     "metadata": {},
     "output_type": "display_data"
    }
   ],
   "source": [
    "display_output_c = output.replace({\"target\": {0: \"Salary >= $50k\", 1: \"Salary < $50k\"}})\n",
    "display_df = X_test.replace({\n",
    "    \"sex\": {0: \"Female\", 1: \"Male\"},\n",
    "    \"target\": {0: \"Salary >= $50k\", 1: \"Salary < $50k\"}\n",
    "})\n",
    "\n",
    "fig = px.histogram(\n",
    "    display_output_c,\n",
    "    x=\"target\",\n",
    "    width=650,\n",
    "    height=650,\n",
    "    barmode=\"group\",\n",
    "    color=display_df.sex,\n",
    ")\n",
    "fig.show()"
   ]
  },
  {
   "attachments": {},
   "cell_type": "markdown",
   "metadata": {},
   "source": [
    "### 4c. Count Check\n",
    "Anecdotally, this distribution is much more equitable than either of the previous distributions. How does it fare statistically?"
   ]
  },
  {
   "cell_type": "code",
   "execution_count": 18,
   "metadata": {
    "execution": {
     "iopub.execute_input": "2024-02-16T23:12:09.699263Z",
     "iopub.status.busy": "2024-02-16T23:12:09.699089Z",
     "iopub.status.idle": "2024-02-16T23:12:09.703132Z",
     "shell.execute_reply": "2024-02-16T23:12:09.702730Z"
    }
   },
   "outputs": [
    {
     "name": "stdout",
     "output_type": "stream",
     "text": [
      "p-value: 1.1586909798597291e-05\n"
     ]
    }
   ],
   "source": [
    "counts = [\n",
    "    [X_test.target.sum(), len(X_test) - X_test.target.sum()], [output.target.sum(), len(output) - output.target.sum()]\n",
    "]\n",
    "\n",
    "_, p_value, _, _ = chi2_contingency(counts, lambda_=\"log-likelihood\")\n",
    "print(f\"p-value: {p_value}\")"
   ]
  },
  {
   "attachments": {},
   "cell_type": "markdown",
   "metadata": {},
   "source": [
    "As we can see, the p-value is below even very low significance levels, indicating that there is a strong statistical difference between the original, inequitable distribution and the new distribution. We can compare the three distributions visually."
   ]
  },
  {
   "attachments": {},
   "cell_type": "markdown",
   "metadata": {},
   "source": [
    "### 4d. Accuracy Check"
   ]
  },
  {
   "cell_type": "code",
   "execution_count": 19,
   "metadata": {
    "execution": {
     "iopub.execute_input": "2024-02-16T23:12:09.704797Z",
     "iopub.status.busy": "2024-02-16T23:12:09.704630Z",
     "iopub.status.idle": "2024-02-16T23:12:09.708683Z",
     "shell.execute_reply": "2024-02-16T23:12:09.708297Z"
    }
   },
   "outputs": [
    {
     "data": {
      "text/plain": [
       "0.579"
      ]
     },
     "execution_count": 19,
     "metadata": {},
     "output_type": "execute_result"
    }
   ],
   "source": [
    "accuracy = round(accuracy_score(X_test[\"target\"], predictions), 3)\n",
    "accuracy"
   ]
  },
  {
   "attachments": {},
   "cell_type": "markdown",
   "metadata": {},
   "source": [
    "Unfortunately we can see that accuracy has dropped to a fairly low level. There is generally a trade off between accuracy and bias mitation, especially when testing is done in comparison to the original, biased data. The user must gauge this trade off carefully. At the same time, using only the accuracy score as the decision metric may paint an incomplete picture. For example, since the time in which our dataset, `Adult`, was created in 1996, there have been notable improvements in equality among sexes. Although not recommended, in a situation where we are using a dataset in 1996 to make inferences in present time, correcting for these biases may actually improve model performance on present test data as the bias is not as strong. These are all hypotheticals, but they illustrate the careful thought that must go into interpreting these results. \n",
    "\n"
   ]
  },
  {
   "attachments": {},
   "cell_type": "markdown",
   "metadata": {},
   "source": [
    "# 5. Comparison\n",
    "\n",
    "This graph is shown just to give a side by side comparison of the changes controlling for the various features. \n"
   ]
  },
  {
   "cell_type": "code",
   "execution_count": 25,
   "metadata": {},
   "outputs": [
    {
     "data": {
      "text/html": [
       "<div>                            <div id=\"bc1a6f1a-3791-4ebc-89d2-3d14791c25de\" class=\"plotly-graph-div\" style=\"height:650px; width:100%;\"></div>            <script type=\"text/javascript\">                require([\"plotly\"], function(Plotly) {                    window.PLOTLYENV=window.PLOTLYENV || {};                                    if (document.getElementById(\"bc1a6f1a-3791-4ebc-89d2-3d14791c25de\")) {                    Plotly.newPlot(                        \"bc1a6f1a-3791-4ebc-89d2-3d14791c25de\",                        [{\"alignmentgroup\":\"True\",\"bingroup\":\"subplot_1,1\",\"hovertemplate\":\"color=Male\\u003cbr\\u003etarget=%{x}\\u003cbr\\u003ecount=%{y}\\u003cextra\\u003e\\u003c\\u002fextra\\u003e\",\"legendgroup\":\"Male\",\"marker\":{\"color\":\"#636efa\",\"pattern\":{\"shape\":\"\"}},\"name\":\"Male\",\"offsetgroup\":\"Male\",\"orientation\":\"v\",\"showlegend\":true,\"x\":[\"Salary \\u003e= $50k\",\"Salary \\u003e= $50k\",\"Salary \\u003e= $50k\",\"Salary \\u003c $50k\",\"Salary \\u003c $50k\",\"Salary \\u003e= $50k\",\"Salary \\u003e= $50k\",\"Salary \\u003e= $50k\",\"Salary \\u003e= $50k\",\"Salary \\u003e= $50k\",\"Salary \\u003c $50k\",\"Salary \\u003c $50k\",\"Salary \\u003e= $50k\",\"Salary \\u003e= $50k\",\"Salary \\u003c $50k\",\"Salary \\u003e= $50k\",\"Salary \\u003e= $50k\",\"Salary \\u003c $50k\",\"Salary \\u003e= $50k\",\"Salary \\u003c $50k\",\"Salary \\u003e= $50k\",\"Salary \\u003e= $50k\",\"Salary \\u003c $50k\",\"Salary \\u003c $50k\",\"Salary \\u003e= $50k\",\"Salary \\u003c $50k\",\"Salary \\u003e= $50k\",\"Salary \\u003e= $50k\",\"Salary \\u003c $50k\",\"Salary \\u003c $50k\",\"Salary \\u003e= $50k\",\"Salary \\u003c $50k\",\"Salary \\u003c $50k\",\"Salary \\u003c $50k\",\"Salary \\u003c $50k\",\"Salary \\u003e= $50k\",\"Salary \\u003e= $50k\",\"Salary \\u003e= $50k\",\"Salary \\u003c $50k\",\"Salary \\u003c $50k\",\"Salary \\u003c $50k\",\"Salary \\u003e= $50k\",\"Salary \\u003c $50k\",\"Salary \\u003e= $50k\",\"Salary \\u003e= $50k\",\"Salary \\u003e= $50k\",\"Salary \\u003e= $50k\",\"Salary \\u003e= $50k\",\"Salary \\u003e= $50k\",\"Salary \\u003e= $50k\",\"Salary \\u003e= $50k\",\"Salary \\u003e= $50k\",\"Salary \\u003c $50k\",\"Salary \\u003c $50k\",\"Salary \\u003c $50k\",\"Salary \\u003c $50k\",\"Salary \\u003e= $50k\",\"Salary \\u003e= $50k\",\"Salary \\u003e= $50k\",\"Salary \\u003e= $50k\",\"Salary \\u003e= $50k\",\"Salary \\u003c $50k\",\"Salary \\u003e= $50k\",\"Salary \\u003c $50k\",\"Salary \\u003e= $50k\",\"Salary \\u003c $50k\",\"Salary \\u003c $50k\",\"Salary \\u003c $50k\",\"Salary \\u003c $50k\",\"Salary \\u003e= $50k\",\"Salary \\u003c $50k\",\"Salary \\u003c $50k\",\"Salary \\u003c $50k\",\"Salary \\u003c $50k\",\"Salary \\u003c $50k\",\"Salary \\u003e= $50k\",\"Salary \\u003e= $50k\",\"Salary \\u003c $50k\",\"Salary \\u003e= $50k\",\"Salary \\u003c $50k\",\"Salary \\u003e= $50k\",\"Salary \\u003c $50k\",\"Salary \\u003e= $50k\",\"Salary \\u003c $50k\",\"Salary \\u003c $50k\",\"Salary \\u003c $50k\",\"Salary \\u003c $50k\",\"Salary \\u003e= $50k\",\"Salary \\u003e= $50k\",\"Salary \\u003c $50k\",\"Salary \\u003e= $50k\",\"Salary \\u003e= $50k\",\"Salary \\u003e= $50k\",\"Salary \\u003c $50k\",\"Salary \\u003e= $50k\",\"Salary \\u003c $50k\",\"Salary \\u003c $50k\",\"Salary \\u003c $50k\",\"Salary \\u003e= $50k\",\"Salary \\u003c $50k\",\"Salary \\u003e= $50k\",\"Salary \\u003e= $50k\",\"Salary \\u003e= $50k\",\"Salary \\u003c $50k\",\"Salary \\u003c $50k\",\"Salary \\u003e= $50k\",\"Salary \\u003e= $50k\",\"Salary \\u003c $50k\",\"Salary \\u003c $50k\",\"Salary \\u003c $50k\",\"Salary \\u003e= $50k\",\"Salary \\u003c $50k\",\"Salary \\u003c $50k\",\"Salary \\u003c $50k\",\"Salary \\u003c $50k\",\"Salary \\u003e= $50k\",\"Salary \\u003c $50k\",\"Salary \\u003c $50k\",\"Salary \\u003c $50k\",\"Salary \\u003e= $50k\",\"Salary \\u003e= $50k\",\"Salary \\u003e= $50k\",\"Salary \\u003c $50k\",\"Salary \\u003c $50k\",\"Salary \\u003c $50k\",\"Salary \\u003e= $50k\",\"Salary \\u003e= $50k\",\"Salary \\u003e= $50k\",\"Salary \\u003c $50k\",\"Salary \\u003c $50k\",\"Salary \\u003c $50k\",\"Salary \\u003e= $50k\",\"Salary \\u003e= $50k\",\"Salary \\u003c $50k\",\"Salary \\u003c $50k\",\"Salary \\u003e= $50k\",\"Salary \\u003e= $50k\",\"Salary \\u003c $50k\",\"Salary \\u003c $50k\",\"Salary \\u003e= $50k\",\"Salary \\u003c $50k\",\"Salary \\u003c $50k\",\"Salary \\u003c $50k\",\"Salary \\u003c $50k\",\"Salary \\u003e= $50k\",\"Salary \\u003e= $50k\",\"Salary \\u003e= $50k\",\"Salary \\u003c $50k\",\"Salary \\u003c $50k\",\"Salary \\u003e= $50k\",\"Salary \\u003e= $50k\",\"Salary \\u003e= $50k\",\"Salary \\u003e= $50k\",\"Salary \\u003e= $50k\",\"Salary \\u003e= $50k\",\"Salary \\u003e= $50k\",\"Salary \\u003e= $50k\",\"Salary \\u003e= $50k\",\"Salary \\u003c $50k\",\"Salary \\u003c $50k\",\"Salary \\u003c $50k\",\"Salary \\u003e= $50k\",\"Salary \\u003c $50k\",\"Salary \\u003e= $50k\",\"Salary \\u003e= $50k\",\"Salary \\u003c $50k\",\"Salary \\u003c $50k\",\"Salary \\u003e= $50k\",\"Salary \\u003c $50k\",\"Salary \\u003c $50k\",\"Salary \\u003c $50k\",\"Salary \\u003e= $50k\",\"Salary \\u003c $50k\",\"Salary \\u003c $50k\",\"Salary \\u003e= $50k\",\"Salary \\u003e= $50k\",\"Salary \\u003c $50k\",\"Salary \\u003e= $50k\",\"Salary \\u003c $50k\",\"Salary \\u003c $50k\",\"Salary \\u003c $50k\",\"Salary \\u003e= $50k\",\"Salary \\u003e= $50k\",\"Salary \\u003e= $50k\",\"Salary \\u003e= $50k\",\"Salary \\u003e= $50k\",\"Salary \\u003e= $50k\",\"Salary \\u003c $50k\",\"Salary \\u003e= $50k\",\"Salary \\u003e= $50k\",\"Salary \\u003e= $50k\",\"Salary \\u003e= $50k\",\"Salary \\u003c $50k\",\"Salary \\u003e= $50k\",\"Salary \\u003e= $50k\",\"Salary \\u003e= $50k\",\"Salary \\u003c $50k\",\"Salary \\u003c $50k\",\"Salary \\u003c $50k\",\"Salary \\u003e= $50k\",\"Salary \\u003c $50k\",\"Salary \\u003e= $50k\",\"Salary \\u003c $50k\",\"Salary \\u003c $50k\",\"Salary \\u003c $50k\",\"Salary \\u003e= $50k\",\"Salary \\u003c $50k\",\"Salary \\u003e= $50k\",\"Salary \\u003e= $50k\",\"Salary \\u003e= $50k\",\"Salary \\u003c $50k\",\"Salary \\u003c $50k\",\"Salary \\u003e= $50k\",\"Salary \\u003e= $50k\",\"Salary \\u003e= $50k\",\"Salary \\u003e= $50k\",\"Salary \\u003e= $50k\",\"Salary \\u003e= $50k\",\"Salary \\u003e= $50k\",\"Salary \\u003e= $50k\",\"Salary \\u003c $50k\",\"Salary \\u003e= $50k\",\"Salary \\u003e= $50k\",\"Salary \\u003e= $50k\",\"Salary \\u003c $50k\",\"Salary \\u003c $50k\",\"Salary \\u003e= $50k\",\"Salary \\u003e= $50k\",\"Salary \\u003c $50k\",\"Salary \\u003e= $50k\",\"Salary \\u003e= $50k\",\"Salary \\u003c $50k\",\"Salary \\u003e= $50k\",\"Salary \\u003c $50k\",\"Salary \\u003c $50k\",\"Salary \\u003e= $50k\",\"Salary \\u003c $50k\",\"Salary \\u003e= $50k\",\"Salary \\u003c $50k\",\"Salary \\u003c $50k\",\"Salary \\u003c $50k\",\"Salary \\u003c $50k\",\"Salary \\u003e= $50k\",\"Salary \\u003c $50k\",\"Salary \\u003c $50k\",\"Salary \\u003e= $50k\",\"Salary \\u003e= $50k\",\"Salary \\u003c $50k\",\"Salary \\u003c $50k\",\"Salary \\u003c $50k\",\"Salary \\u003e= $50k\",\"Salary \\u003c $50k\",\"Salary \\u003e= $50k\",\"Salary \\u003c $50k\",\"Salary \\u003e= $50k\",\"Salary \\u003c $50k\",\"Salary \\u003e= $50k\",\"Salary \\u003c $50k\",\"Salary \\u003c $50k\",\"Salary \\u003c $50k\",\"Salary \\u003e= $50k\",\"Salary \\u003e= $50k\",\"Salary \\u003e= $50k\",\"Salary \\u003c $50k\",\"Salary \\u003e= $50k\",\"Salary \\u003c $50k\",\"Salary \\u003c $50k\",\"Salary \\u003c $50k\",\"Salary \\u003c $50k\",\"Salary \\u003c $50k\",\"Salary \\u003e= $50k\",\"Salary \\u003c $50k\",\"Salary \\u003c $50k\",\"Salary \\u003c $50k\",\"Salary \\u003e= $50k\",\"Salary \\u003e= $50k\",\"Salary \\u003c $50k\",\"Salary \\u003e= $50k\",\"Salary \\u003e= $50k\",\"Salary \\u003e= $50k\",\"Salary \\u003c $50k\",\"Salary \\u003e= $50k\",\"Salary \\u003c $50k\",\"Salary \\u003e= $50k\",\"Salary \\u003e= $50k\",\"Salary \\u003c $50k\",\"Salary \\u003e= $50k\",\"Salary \\u003e= $50k\",\"Salary \\u003e= $50k\",\"Salary \\u003c $50k\",\"Salary \\u003e= $50k\",\"Salary \\u003c $50k\",\"Salary \\u003e= $50k\",\"Salary \\u003e= $50k\",\"Salary \\u003e= $50k\",\"Salary \\u003c $50k\",\"Salary \\u003c $50k\",\"Salary \\u003e= $50k\",\"Salary \\u003e= $50k\",\"Salary \\u003c $50k\",\"Salary \\u003e= $50k\",\"Salary \\u003c $50k\",\"Salary \\u003e= $50k\",\"Salary \\u003c $50k\",\"Salary \\u003c $50k\",\"Salary \\u003c $50k\",\"Salary \\u003c $50k\",\"Salary \\u003e= $50k\",\"Salary \\u003c $50k\",\"Salary \\u003e= $50k\",\"Salary \\u003e= $50k\",\"Salary \\u003e= $50k\",\"Salary \\u003c $50k\",\"Salary \\u003e= $50k\",\"Salary \\u003c $50k\",\"Salary \\u003c $50k\",\"Salary \\u003e= $50k\",\"Salary \\u003e= $50k\",\"Salary \\u003e= $50k\",\"Salary \\u003c $50k\",\"Salary \\u003c $50k\",\"Salary \\u003e= $50k\",\"Salary \\u003e= $50k\",\"Salary \\u003c $50k\",\"Salary \\u003e= $50k\",\"Salary \\u003c $50k\",\"Salary \\u003e= $50k\",\"Salary \\u003e= $50k\",\"Salary \\u003e= $50k\",\"Salary \\u003e= $50k\"],\"xaxis\":\"x\",\"yaxis\":\"y\",\"type\":\"histogram\"},{\"alignmentgroup\":\"True\",\"bingroup\":\"subplot_1,1\",\"hovertemplate\":\"color=Female\\u003cbr\\u003etarget=%{x}\\u003cbr\\u003ecount=%{y}\\u003cextra\\u003e\\u003c\\u002fextra\\u003e\",\"legendgroup\":\"Female\",\"marker\":{\"color\":\"#EF553B\",\"pattern\":{\"shape\":\"\"}},\"name\":\"Female\",\"offsetgroup\":\"Female\",\"orientation\":\"v\",\"showlegend\":true,\"x\":[\"Salary \\u003c $50k\",\"Salary \\u003c $50k\",\"Salary \\u003c $50k\",\"Salary \\u003c $50k\",\"Salary \\u003c $50k\",\"Salary \\u003c $50k\",\"Salary \\u003c $50k\",\"Salary \\u003c $50k\",\"Salary \\u003c $50k\",\"Salary \\u003c $50k\",\"Salary \\u003c $50k\",\"Salary \\u003e= $50k\",\"Salary \\u003c $50k\",\"Salary \\u003e= $50k\",\"Salary \\u003c $50k\",\"Salary \\u003c $50k\",\"Salary \\u003c $50k\",\"Salary \\u003c $50k\",\"Salary \\u003e= $50k\",\"Salary \\u003c $50k\",\"Salary \\u003c $50k\",\"Salary \\u003c $50k\",\"Salary \\u003c $50k\",\"Salary \\u003c $50k\",\"Salary \\u003c $50k\",\"Salary \\u003c $50k\",\"Salary \\u003c $50k\",\"Salary \\u003c $50k\",\"Salary \\u003c $50k\",\"Salary \\u003c $50k\",\"Salary \\u003c $50k\",\"Salary \\u003e= $50k\",\"Salary \\u003c $50k\",\"Salary \\u003c $50k\",\"Salary \\u003c $50k\",\"Salary \\u003c $50k\",\"Salary \\u003c $50k\",\"Salary \\u003c $50k\",\"Salary \\u003c $50k\",\"Salary \\u003c $50k\",\"Salary \\u003c $50k\",\"Salary \\u003c $50k\",\"Salary \\u003c $50k\",\"Salary \\u003c $50k\",\"Salary \\u003c $50k\",\"Salary \\u003c $50k\",\"Salary \\u003e= $50k\",\"Salary \\u003c $50k\",\"Salary \\u003c $50k\",\"Salary \\u003c $50k\",\"Salary \\u003e= $50k\",\"Salary \\u003c $50k\",\"Salary \\u003c $50k\",\"Salary \\u003c $50k\",\"Salary \\u003c $50k\",\"Salary \\u003c $50k\",\"Salary \\u003c $50k\",\"Salary \\u003c $50k\",\"Salary \\u003c $50k\",\"Salary \\u003e= $50k\",\"Salary \\u003c $50k\",\"Salary \\u003c $50k\",\"Salary \\u003c $50k\",\"Salary \\u003c $50k\",\"Salary \\u003c $50k\",\"Salary \\u003c $50k\",\"Salary \\u003c $50k\",\"Salary \\u003e= $50k\",\"Salary \\u003c $50k\",\"Salary \\u003c $50k\",\"Salary \\u003c $50k\",\"Salary \\u003c $50k\",\"Salary \\u003c $50k\",\"Salary \\u003c $50k\",\"Salary \\u003c $50k\",\"Salary \\u003c $50k\",\"Salary \\u003c $50k\",\"Salary \\u003c $50k\",\"Salary \\u003c $50k\",\"Salary \\u003c $50k\",\"Salary \\u003c $50k\",\"Salary \\u003c $50k\",\"Salary \\u003c $50k\",\"Salary \\u003e= $50k\",\"Salary \\u003c $50k\",\"Salary \\u003e= $50k\",\"Salary \\u003c $50k\",\"Salary \\u003c $50k\",\"Salary \\u003c $50k\",\"Salary \\u003c $50k\",\"Salary \\u003c $50k\",\"Salary \\u003c $50k\",\"Salary \\u003c $50k\",\"Salary \\u003c $50k\",\"Salary \\u003e= $50k\",\"Salary \\u003c $50k\",\"Salary \\u003c $50k\",\"Salary \\u003c $50k\",\"Salary \\u003e= $50k\",\"Salary \\u003c $50k\",\"Salary \\u003c $50k\",\"Salary \\u003c $50k\",\"Salary \\u003c $50k\",\"Salary \\u003c $50k\",\"Salary \\u003c $50k\",\"Salary \\u003c $50k\",\"Salary \\u003c $50k\",\"Salary \\u003c $50k\",\"Salary \\u003c $50k\",\"Salary \\u003c $50k\",\"Salary \\u003e= $50k\",\"Salary \\u003c $50k\",\"Salary \\u003c $50k\",\"Salary \\u003c $50k\",\"Salary \\u003c $50k\",\"Salary \\u003c $50k\",\"Salary \\u003c $50k\",\"Salary \\u003c $50k\",\"Salary \\u003c $50k\",\"Salary \\u003e= $50k\",\"Salary \\u003e= $50k\",\"Salary \\u003c $50k\",\"Salary \\u003c $50k\",\"Salary \\u003c $50k\",\"Salary \\u003c $50k\",\"Salary \\u003c $50k\",\"Salary \\u003e= $50k\",\"Salary \\u003c $50k\",\"Salary \\u003c $50k\",\"Salary \\u003c $50k\",\"Salary \\u003c $50k\",\"Salary \\u003c $50k\",\"Salary \\u003c $50k\",\"Salary \\u003e= $50k\",\"Salary \\u003c $50k\",\"Salary \\u003c $50k\",\"Salary \\u003c $50k\",\"Salary \\u003e= $50k\",\"Salary \\u003c $50k\",\"Salary \\u003c $50k\",\"Salary \\u003c $50k\",\"Salary \\u003c $50k\",\"Salary \\u003c $50k\",\"Salary \\u003c $50k\",\"Salary \\u003c $50k\",\"Salary \\u003c $50k\",\"Salary \\u003c $50k\",\"Salary \\u003c $50k\",\"Salary \\u003c $50k\",\"Salary \\u003c $50k\"],\"xaxis\":\"x\",\"yaxis\":\"y\",\"type\":\"histogram\"},{\"alignmentgroup\":\"True\",\"bingroup\":\"subplot_1,2\",\"hovertemplate\":\"color=Male\\u003cbr\\u003etarget=%{x}\\u003cbr\\u003ecount=%{y}\\u003cextra\\u003e\\u003c\\u002fextra\\u003e\",\"legendgroup\":\"Male\",\"marker\":{\"color\":\"#636efa\",\"pattern\":{\"shape\":\"\"}},\"name\":\"Male\",\"offsetgroup\":\"Male\",\"orientation\":\"v\",\"showlegend\":false,\"x\":[\"Salary \\u003c $50k\",\"Salary \\u003e= $50k\",\"Salary \\u003e= $50k\",\"Salary \\u003c $50k\",\"Salary \\u003e= $50k\",\"Salary \\u003e= $50k\",\"Salary \\u003c $50k\",\"Salary \\u003c $50k\",\"Salary \\u003e= $50k\",\"Salary \\u003e= $50k\",\"Salary \\u003c $50k\",\"Salary \\u003e= $50k\",\"Salary \\u003e= $50k\",\"Salary \\u003e= $50k\",\"Salary \\u003c $50k\",\"Salary \\u003e= $50k\",\"Salary \\u003e= $50k\",\"Salary \\u003c $50k\",\"Salary \\u003c $50k\",\"Salary \\u003c $50k\",\"Salary \\u003e= $50k\",\"Salary \\u003c $50k\",\"Salary \\u003c $50k\",\"Salary \\u003c $50k\",\"Salary \\u003e= $50k\",\"Salary \\u003c $50k\",\"Salary \\u003e= $50k\",\"Salary \\u003e= $50k\",\"Salary \\u003e= $50k\",\"Salary \\u003c $50k\",\"Salary \\u003c $50k\",\"Salary \\u003c $50k\",\"Salary \\u003c $50k\",\"Salary \\u003c $50k\",\"Salary \\u003c $50k\",\"Salary \\u003e= $50k\",\"Salary \\u003e= $50k\",\"Salary \\u003e= $50k\",\"Salary \\u003c $50k\",\"Salary \\u003c $50k\",\"Salary \\u003c $50k\",\"Salary \\u003e= $50k\",\"Salary \\u003c $50k\",\"Salary \\u003c $50k\",\"Salary \\u003e= $50k\",\"Salary \\u003e= $50k\",\"Salary \\u003c $50k\",\"Salary \\u003e= $50k\",\"Salary \\u003c $50k\",\"Salary \\u003e= $50k\",\"Salary \\u003e= $50k\",\"Salary \\u003e= $50k\",\"Salary \\u003c $50k\",\"Salary \\u003c $50k\",\"Salary \\u003c $50k\",\"Salary \\u003c $50k\",\"Salary \\u003e= $50k\",\"Salary \\u003e= $50k\",\"Salary \\u003e= $50k\",\"Salary \\u003c $50k\",\"Salary \\u003e= $50k\",\"Salary \\u003c $50k\",\"Salary \\u003c $50k\",\"Salary \\u003c $50k\",\"Salary \\u003e= $50k\",\"Salary \\u003c $50k\",\"Salary \\u003c $50k\",\"Salary \\u003c $50k\",\"Salary \\u003c $50k\",\"Salary \\u003c $50k\",\"Salary \\u003c $50k\",\"Salary \\u003c $50k\",\"Salary \\u003c $50k\",\"Salary \\u003c $50k\",\"Salary \\u003c $50k\",\"Salary \\u003c $50k\",\"Salary \\u003e= $50k\",\"Salary \\u003c $50k\",\"Salary \\u003e= $50k\",\"Salary \\u003c $50k\",\"Salary \\u003e= $50k\",\"Salary \\u003c $50k\",\"Salary \\u003c $50k\",\"Salary \\u003c $50k\",\"Salary \\u003c $50k\",\"Salary \\u003c $50k\",\"Salary \\u003c $50k\",\"Salary \\u003e= $50k\",\"Salary \\u003c $50k\",\"Salary \\u003c $50k\",\"Salary \\u003e= $50k\",\"Salary \\u003e= $50k\",\"Salary \\u003e= $50k\",\"Salary \\u003e= $50k\",\"Salary \\u003e= $50k\",\"Salary \\u003e= $50k\",\"Salary \\u003c $50k\",\"Salary \\u003e= $50k\",\"Salary \\u003e= $50k\",\"Salary \\u003c $50k\",\"Salary \\u003e= $50k\",\"Salary \\u003c $50k\",\"Salary \\u003e= $50k\",\"Salary \\u003c $50k\",\"Salary \\u003c $50k\",\"Salary \\u003c $50k\",\"Salary \\u003c $50k\",\"Salary \\u003c $50k\",\"Salary \\u003c $50k\",\"Salary \\u003e= $50k\",\"Salary \\u003e= $50k\",\"Salary \\u003c $50k\",\"Salary \\u003e= $50k\",\"Salary \\u003c $50k\",\"Salary \\u003c $50k\",\"Salary \\u003c $50k\",\"Salary \\u003c $50k\",\"Salary \\u003c $50k\",\"Salary \\u003e= $50k\",\"Salary \\u003e= $50k\",\"Salary \\u003e= $50k\",\"Salary \\u003c $50k\",\"Salary \\u003c $50k\",\"Salary \\u003c $50k\",\"Salary \\u003c $50k\",\"Salary \\u003e= $50k\",\"Salary \\u003c $50k\",\"Salary \\u003e= $50k\",\"Salary \\u003c $50k\",\"Salary \\u003c $50k\",\"Salary \\u003c $50k\",\"Salary \\u003c $50k\",\"Salary \\u003c $50k\",\"Salary \\u003c $50k\",\"Salary \\u003c $50k\",\"Salary \\u003e= $50k\",\"Salary \\u003e= $50k\",\"Salary \\u003c $50k\",\"Salary \\u003c $50k\",\"Salary \\u003e= $50k\",\"Salary \\u003e= $50k\",\"Salary \\u003c $50k\",\"Salary \\u003c $50k\",\"Salary \\u003c $50k\",\"Salary \\u003e= $50k\",\"Salary \\u003e= $50k\",\"Salary \\u003c $50k\",\"Salary \\u003c $50k\",\"Salary \\u003c $50k\",\"Salary \\u003c $50k\",\"Salary \\u003e= $50k\",\"Salary \\u003c $50k\",\"Salary \\u003e= $50k\",\"Salary \\u003e= $50k\",\"Salary \\u003e= $50k\",\"Salary \\u003e= $50k\",\"Salary \\u003e= $50k\",\"Salary \\u003e= $50k\",\"Salary \\u003c $50k\",\"Salary \\u003c $50k\",\"Salary \\u003c $50k\",\"Salary \\u003e= $50k\",\"Salary \\u003c $50k\",\"Salary \\u003e= $50k\",\"Salary \\u003c $50k\",\"Salary \\u003c $50k\",\"Salary \\u003c $50k\",\"Salary \\u003c $50k\",\"Salary \\u003c $50k\",\"Salary \\u003c $50k\",\"Salary \\u003c $50k\",\"Salary \\u003e= $50k\",\"Salary \\u003c $50k\",\"Salary \\u003c $50k\",\"Salary \\u003e= $50k\",\"Salary \\u003c $50k\",\"Salary \\u003e= $50k\",\"Salary \\u003e= $50k\",\"Salary \\u003c $50k\",\"Salary \\u003c $50k\",\"Salary \\u003c $50k\",\"Salary \\u003e= $50k\",\"Salary \\u003e= $50k\",\"Salary \\u003e= $50k\",\"Salary \\u003e= $50k\",\"Salary \\u003c $50k\",\"Salary \\u003e= $50k\",\"Salary \\u003c $50k\",\"Salary \\u003e= $50k\",\"Salary \\u003c $50k\",\"Salary \\u003e= $50k\",\"Salary \\u003e= $50k\",\"Salary \\u003c $50k\",\"Salary \\u003e= $50k\",\"Salary \\u003e= $50k\",\"Salary \\u003e= $50k\",\"Salary \\u003c $50k\",\"Salary \\u003c $50k\",\"Salary \\u003c $50k\",\"Salary \\u003e= $50k\",\"Salary \\u003c $50k\",\"Salary \\u003e= $50k\",\"Salary \\u003c $50k\",\"Salary \\u003c $50k\",\"Salary \\u003c $50k\",\"Salary \\u003e= $50k\",\"Salary \\u003c $50k\",\"Salary \\u003e= $50k\",\"Salary \\u003e= $50k\",\"Salary \\u003e= $50k\",\"Salary \\u003c $50k\",\"Salary \\u003c $50k\",\"Salary \\u003e= $50k\",\"Salary \\u003e= $50k\",\"Salary \\u003e= $50k\",\"Salary \\u003c $50k\",\"Salary \\u003c $50k\",\"Salary \\u003e= $50k\",\"Salary \\u003e= $50k\",\"Salary \\u003c $50k\",\"Salary \\u003c $50k\",\"Salary \\u003c $50k\",\"Salary \\u003e= $50k\",\"Salary \\u003e= $50k\",\"Salary \\u003c $50k\",\"Salary \\u003c $50k\",\"Salary \\u003e= $50k\",\"Salary \\u003e= $50k\",\"Salary \\u003c $50k\",\"Salary \\u003c $50k\",\"Salary \\u003e= $50k\",\"Salary \\u003c $50k\",\"Salary \\u003e= $50k\",\"Salary \\u003e= $50k\",\"Salary \\u003e= $50k\",\"Salary \\u003e= $50k\",\"Salary \\u003c $50k\",\"Salary \\u003e= $50k\",\"Salary \\u003c $50k\",\"Salary \\u003c $50k\",\"Salary \\u003c $50k\",\"Salary \\u003e= $50k\",\"Salary \\u003c $50k\",\"Salary \\u003e= $50k\",\"Salary \\u003c $50k\",\"Salary \\u003c $50k\",\"Salary \\u003e= $50k\",\"Salary \\u003c $50k\",\"Salary \\u003c $50k\",\"Salary \\u003c $50k\",\"Salary \\u003e= $50k\",\"Salary \\u003c $50k\",\"Salary \\u003c $50k\",\"Salary \\u003c $50k\",\"Salary \\u003e= $50k\",\"Salary \\u003c $50k\",\"Salary \\u003c $50k\",\"Salary \\u003c $50k\",\"Salary \\u003c $50k\",\"Salary \\u003c $50k\",\"Salary \\u003c $50k\",\"Salary \\u003e= $50k\",\"Salary \\u003e= $50k\",\"Salary \\u003e= $50k\",\"Salary \\u003e= $50k\",\"Salary \\u003c $50k\",\"Salary \\u003c $50k\",\"Salary \\u003c $50k\",\"Salary \\u003c $50k\",\"Salary \\u003e= $50k\",\"Salary \\u003c $50k\",\"Salary \\u003c $50k\",\"Salary \\u003c $50k\",\"Salary \\u003e= $50k\",\"Salary \\u003e= $50k\",\"Salary \\u003c $50k\",\"Salary \\u003c $50k\",\"Salary \\u003e= $50k\",\"Salary \\u003e= $50k\",\"Salary \\u003e= $50k\",\"Salary \\u003e= $50k\",\"Salary \\u003e= $50k\",\"Salary \\u003c $50k\",\"Salary \\u003e= $50k\",\"Salary \\u003e= $50k\",\"Salary \\u003c $50k\",\"Salary \\u003e= $50k\",\"Salary \\u003c $50k\",\"Salary \\u003c $50k\",\"Salary \\u003c $50k\",\"Salary \\u003e= $50k\",\"Salary \\u003c $50k\",\"Salary \\u003e= $50k\",\"Salary \\u003c $50k\",\"Salary \\u003c $50k\",\"Salary \\u003c $50k\",\"Salary \\u003c $50k\",\"Salary \\u003c $50k\",\"Salary \\u003e= $50k\",\"Salary \\u003c $50k\",\"Salary \\u003c $50k\",\"Salary \\u003c $50k\",\"Salary \\u003c $50k\",\"Salary \\u003c $50k\",\"Salary \\u003c $50k\",\"Salary \\u003c $50k\",\"Salary \\u003c $50k\",\"Salary \\u003c $50k\",\"Salary \\u003c $50k\",\"Salary \\u003e= $50k\",\"Salary \\u003e= $50k\",\"Salary \\u003e= $50k\",\"Salary \\u003c $50k\",\"Salary \\u003c $50k\",\"Salary \\u003c $50k\",\"Salary \\u003c $50k\",\"Salary \\u003e= $50k\",\"Salary \\u003c $50k\",\"Salary \\u003e= $50k\",\"Salary \\u003e= $50k\",\"Salary \\u003c $50k\",\"Salary \\u003e= $50k\",\"Salary \\u003e= $50k\",\"Salary \\u003c $50k\",\"Salary \\u003c $50k\",\"Salary \\u003e= $50k\",\"Salary \\u003e= $50k\",\"Salary \\u003c $50k\",\"Salary \\u003c $50k\",\"Salary \\u003e= $50k\"],\"xaxis\":\"x2\",\"yaxis\":\"y2\",\"type\":\"histogram\"},{\"alignmentgroup\":\"True\",\"bingroup\":\"subplot_1,2\",\"hovertemplate\":\"color=Female\\u003cbr\\u003etarget=%{x}\\u003cbr\\u003ecount=%{y}\\u003cextra\\u003e\\u003c\\u002fextra\\u003e\",\"legendgroup\":\"Female\",\"marker\":{\"color\":\"#EF553B\",\"pattern\":{\"shape\":\"\"}},\"name\":\"Female\",\"offsetgroup\":\"Female\",\"orientation\":\"v\",\"showlegend\":false,\"x\":[\"Salary \\u003c $50k\",\"Salary \\u003c $50k\",\"Salary \\u003c $50k\",\"Salary \\u003c $50k\",\"Salary \\u003c $50k\",\"Salary \\u003c $50k\",\"Salary \\u003e= $50k\",\"Salary \\u003c $50k\",\"Salary \\u003c $50k\",\"Salary \\u003c $50k\",\"Salary \\u003c $50k\",\"Salary \\u003e= $50k\",\"Salary \\u003c $50k\",\"Salary \\u003c $50k\",\"Salary \\u003c $50k\",\"Salary \\u003e= $50k\",\"Salary \\u003c $50k\",\"Salary \\u003c $50k\",\"Salary \\u003e= $50k\",\"Salary \\u003c $50k\",\"Salary \\u003c $50k\",\"Salary \\u003c $50k\",\"Salary \\u003c $50k\",\"Salary \\u003c $50k\",\"Salary \\u003c $50k\",\"Salary \\u003c $50k\",\"Salary \\u003c $50k\",\"Salary \\u003c $50k\",\"Salary \\u003c $50k\",\"Salary \\u003c $50k\",\"Salary \\u003c $50k\",\"Salary \\u003c $50k\",\"Salary \\u003c $50k\",\"Salary \\u003c $50k\",\"Salary \\u003c $50k\",\"Salary \\u003c $50k\",\"Salary \\u003c $50k\",\"Salary \\u003c $50k\",\"Salary \\u003c $50k\",\"Salary \\u003e= $50k\",\"Salary \\u003c $50k\",\"Salary \\u003c $50k\",\"Salary \\u003c $50k\",\"Salary \\u003c $50k\",\"Salary \\u003c $50k\",\"Salary \\u003e= $50k\",\"Salary \\u003e= $50k\",\"Salary \\u003c $50k\",\"Salary \\u003e= $50k\",\"Salary \\u003c $50k\",\"Salary \\u003e= $50k\",\"Salary \\u003c $50k\",\"Salary \\u003c $50k\",\"Salary \\u003c $50k\",\"Salary \\u003c $50k\",\"Salary \\u003c $50k\",\"Salary \\u003c $50k\",\"Salary \\u003e= $50k\",\"Salary \\u003c $50k\",\"Salary \\u003e= $50k\",\"Salary \\u003c $50k\",\"Salary \\u003c $50k\",\"Salary \\u003c $50k\",\"Salary \\u003c $50k\",\"Salary \\u003e= $50k\",\"Salary \\u003e= $50k\",\"Salary \\u003c $50k\",\"Salary \\u003c $50k\",\"Salary \\u003c $50k\",\"Salary \\u003c $50k\",\"Salary \\u003c $50k\",\"Salary \\u003c $50k\",\"Salary \\u003e= $50k\",\"Salary \\u003c $50k\",\"Salary \\u003c $50k\",\"Salary \\u003c $50k\",\"Salary \\u003c $50k\",\"Salary \\u003c $50k\",\"Salary \\u003c $50k\",\"Salary \\u003c $50k\",\"Salary \\u003c $50k\",\"Salary \\u003c $50k\",\"Salary \\u003c $50k\",\"Salary \\u003e= $50k\",\"Salary \\u003c $50k\",\"Salary \\u003c $50k\",\"Salary \\u003c $50k\",\"Salary \\u003e= $50k\",\"Salary \\u003c $50k\",\"Salary \\u003c $50k\",\"Salary \\u003c $50k\",\"Salary \\u003c $50k\",\"Salary \\u003c $50k\",\"Salary \\u003c $50k\",\"Salary \\u003c $50k\",\"Salary \\u003c $50k\",\"Salary \\u003e= $50k\",\"Salary \\u003c $50k\",\"Salary \\u003e= $50k\",\"Salary \\u003c $50k\",\"Salary \\u003c $50k\",\"Salary \\u003c $50k\",\"Salary \\u003c $50k\",\"Salary \\u003c $50k\",\"Salary \\u003c $50k\",\"Salary \\u003c $50k\",\"Salary \\u003c $50k\",\"Salary \\u003c $50k\",\"Salary \\u003c $50k\",\"Salary \\u003c $50k\",\"Salary \\u003e= $50k\",\"Salary \\u003e= $50k\",\"Salary \\u003c $50k\",\"Salary \\u003c $50k\",\"Salary \\u003c $50k\",\"Salary \\u003c $50k\",\"Salary \\u003c $50k\",\"Salary \\u003c $50k\",\"Salary \\u003c $50k\",\"Salary \\u003c $50k\",\"Salary \\u003c $50k\",\"Salary \\u003c $50k\",\"Salary \\u003c $50k\",\"Salary \\u003c $50k\",\"Salary \\u003c $50k\",\"Salary \\u003c $50k\",\"Salary \\u003e= $50k\",\"Salary \\u003c $50k\",\"Salary \\u003c $50k\",\"Salary \\u003c $50k\",\"Salary \\u003c $50k\",\"Salary \\u003c $50k\",\"Salary \\u003c $50k\",\"Salary \\u003c $50k\",\"Salary \\u003c $50k\",\"Salary \\u003c $50k\",\"Salary \\u003c $50k\",\"Salary \\u003c $50k\",\"Salary \\u003c $50k\",\"Salary \\u003e= $50k\",\"Salary \\u003c $50k\",\"Salary \\u003e= $50k\",\"Salary \\u003c $50k\",\"Salary \\u003c $50k\",\"Salary \\u003e= $50k\",\"Salary \\u003c $50k\",\"Salary \\u003c $50k\",\"Salary \\u003c $50k\",\"Salary \\u003c $50k\",\"Salary \\u003c $50k\"],\"xaxis\":\"x2\",\"yaxis\":\"y2\",\"type\":\"histogram\"},{\"alignmentgroup\":\"True\",\"bingroup\":\"subplot_1,3\",\"hovertemplate\":\"color=Male\\u003cbr\\u003etarget=%{x}\\u003cbr\\u003ecount=%{y}\\u003cextra\\u003e\\u003c\\u002fextra\\u003e\",\"legendgroup\":\"Male\",\"marker\":{\"color\":\"#636efa\",\"pattern\":{\"shape\":\"\"}},\"name\":\"Male\",\"offsetgroup\":\"Male\",\"orientation\":\"v\",\"showlegend\":false,\"x\":[\"Salary \\u003e= $50k\",\"Salary \\u003e= $50k\",\"Salary \\u003c $50k\",\"Salary \\u003c $50k\",\"Salary \\u003e= $50k\",\"Salary \\u003e= $50k\",\"Salary \\u003e= $50k\",\"Salary \\u003c $50k\",\"Salary \\u003c $50k\",\"Salary \\u003e= $50k\",\"Salary \\u003c $50k\",\"Salary \\u003c $50k\",\"Salary \\u003e= $50k\",\"Salary \\u003e= $50k\",\"Salary \\u003e= $50k\",\"Salary \\u003e= $50k\",\"Salary \\u003c $50k\",\"Salary \\u003c $50k\",\"Salary \\u003c $50k\",\"Salary \\u003c $50k\",\"Salary \\u003e= $50k\",\"Salary \\u003c $50k\",\"Salary \\u003c $50k\",\"Salary \\u003c $50k\",\"Salary \\u003e= $50k\",\"Salary \\u003e= $50k\",\"Salary \\u003e= $50k\",\"Salary \\u003e= $50k\",\"Salary \\u003c $50k\",\"Salary \\u003c $50k\",\"Salary \\u003c $50k\",\"Salary \\u003e= $50k\",\"Salary \\u003e= $50k\",\"Salary \\u003c $50k\",\"Salary \\u003c $50k\",\"Salary \\u003e= $50k\",\"Salary \\u003e= $50k\",\"Salary \\u003e= $50k\",\"Salary \\u003e= $50k\",\"Salary \\u003c $50k\",\"Salary \\u003c $50k\",\"Salary \\u003e= $50k\",\"Salary \\u003c $50k\",\"Salary \\u003e= $50k\",\"Salary \\u003e= $50k\",\"Salary \\u003e= $50k\",\"Salary \\u003e= $50k\",\"Salary \\u003c $50k\",\"Salary \\u003c $50k\",\"Salary \\u003e= $50k\",\"Salary \\u003e= $50k\",\"Salary \\u003e= $50k\",\"Salary \\u003e= $50k\",\"Salary \\u003c $50k\",\"Salary \\u003e= $50k\",\"Salary \\u003c $50k\",\"Salary \\u003e= $50k\",\"Salary \\u003e= $50k\",\"Salary \\u003e= $50k\",\"Salary \\u003e= $50k\",\"Salary \\u003e= $50k\",\"Salary \\u003e= $50k\",\"Salary \\u003e= $50k\",\"Salary \\u003e= $50k\",\"Salary \\u003c $50k\",\"Salary \\u003c $50k\",\"Salary \\u003e= $50k\",\"Salary \\u003e= $50k\",\"Salary \\u003c $50k\",\"Salary \\u003c $50k\",\"Salary \\u003c $50k\",\"Salary \\u003e= $50k\",\"Salary \\u003e= $50k\",\"Salary \\u003c $50k\",\"Salary \\u003e= $50k\",\"Salary \\u003c $50k\",\"Salary \\u003e= $50k\",\"Salary \\u003e= $50k\",\"Salary \\u003c $50k\",\"Salary \\u003e= $50k\",\"Salary \\u003e= $50k\",\"Salary \\u003c $50k\",\"Salary \\u003c $50k\",\"Salary \\u003c $50k\",\"Salary \\u003e= $50k\",\"Salary \\u003c $50k\",\"Salary \\u003c $50k\",\"Salary \\u003e= $50k\",\"Salary \\u003c $50k\",\"Salary \\u003c $50k\",\"Salary \\u003e= $50k\",\"Salary \\u003c $50k\",\"Salary \\u003c $50k\",\"Salary \\u003c $50k\",\"Salary \\u003c $50k\",\"Salary \\u003e= $50k\",\"Salary \\u003e= $50k\",\"Salary \\u003c $50k\",\"Salary \\u003e= $50k\",\"Salary \\u003e= $50k\",\"Salary \\u003e= $50k\",\"Salary \\u003c $50k\",\"Salary \\u003c $50k\",\"Salary \\u003c $50k\",\"Salary \\u003e= $50k\",\"Salary \\u003e= $50k\",\"Salary \\u003c $50k\",\"Salary \\u003c $50k\",\"Salary \\u003c $50k\",\"Salary \\u003e= $50k\",\"Salary \\u003e= $50k\",\"Salary \\u003c $50k\",\"Salary \\u003e= $50k\",\"Salary \\u003c $50k\",\"Salary \\u003c $50k\",\"Salary \\u003c $50k\",\"Salary \\u003c $50k\",\"Salary \\u003c $50k\",\"Salary \\u003e= $50k\",\"Salary \\u003c $50k\",\"Salary \\u003c $50k\",\"Salary \\u003c $50k\",\"Salary \\u003c $50k\",\"Salary \\u003c $50k\",\"Salary \\u003c $50k\",\"Salary \\u003c $50k\",\"Salary \\u003c $50k\",\"Salary \\u003e= $50k\",\"Salary \\u003c $50k\",\"Salary \\u003e= $50k\",\"Salary \\u003e= $50k\",\"Salary \\u003e= $50k\",\"Salary \\u003c $50k\",\"Salary \\u003c $50k\",\"Salary \\u003e= $50k\",\"Salary \\u003e= $50k\",\"Salary \\u003c $50k\",\"Salary \\u003e= $50k\",\"Salary \\u003e= $50k\",\"Salary \\u003e= $50k\",\"Salary \\u003e= $50k\",\"Salary \\u003c $50k\",\"Salary \\u003e= $50k\",\"Salary \\u003e= $50k\",\"Salary \\u003c $50k\",\"Salary \\u003e= $50k\",\"Salary \\u003c $50k\",\"Salary \\u003c $50k\",\"Salary \\u003e= $50k\",\"Salary \\u003e= $50k\",\"Salary \\u003c $50k\",\"Salary \\u003e= $50k\",\"Salary \\u003e= $50k\",\"Salary \\u003c $50k\",\"Salary \\u003e= $50k\",\"Salary \\u003e= $50k\",\"Salary \\u003c $50k\",\"Salary \\u003e= $50k\",\"Salary \\u003c $50k\",\"Salary \\u003c $50k\",\"Salary \\u003e= $50k\",\"Salary \\u003e= $50k\",\"Salary \\u003e= $50k\",\"Salary \\u003e= $50k\",\"Salary \\u003e= $50k\",\"Salary \\u003c $50k\",\"Salary \\u003c $50k\",\"Salary \\u003e= $50k\",\"Salary \\u003c $50k\",\"Salary \\u003c $50k\",\"Salary \\u003c $50k\",\"Salary \\u003e= $50k\",\"Salary \\u003e= $50k\",\"Salary \\u003e= $50k\",\"Salary \\u003e= $50k\",\"Salary \\u003c $50k\",\"Salary \\u003e= $50k\",\"Salary \\u003e= $50k\",\"Salary \\u003e= $50k\",\"Salary \\u003e= $50k\",\"Salary \\u003c $50k\",\"Salary \\u003e= $50k\",\"Salary \\u003e= $50k\",\"Salary \\u003e= $50k\",\"Salary \\u003e= $50k\",\"Salary \\u003c $50k\",\"Salary \\u003e= $50k\",\"Salary \\u003c $50k\",\"Salary \\u003e= $50k\",\"Salary \\u003e= $50k\",\"Salary \\u003e= $50k\",\"Salary \\u003e= $50k\",\"Salary \\u003c $50k\",\"Salary \\u003c $50k\",\"Salary \\u003c $50k\",\"Salary \\u003c $50k\",\"Salary \\u003c $50k\",\"Salary \\u003c $50k\",\"Salary \\u003c $50k\",\"Salary \\u003c $50k\",\"Salary \\u003c $50k\",\"Salary \\u003e= $50k\",\"Salary \\u003c $50k\",\"Salary \\u003e= $50k\",\"Salary \\u003c $50k\",\"Salary \\u003e= $50k\",\"Salary \\u003c $50k\",\"Salary \\u003e= $50k\",\"Salary \\u003e= $50k\",\"Salary \\u003e= $50k\",\"Salary \\u003e= $50k\",\"Salary \\u003c $50k\",\"Salary \\u003e= $50k\",\"Salary \\u003e= $50k\",\"Salary \\u003e= $50k\",\"Salary \\u003c $50k\",\"Salary \\u003c $50k\",\"Salary \\u003c $50k\",\"Salary \\u003e= $50k\",\"Salary \\u003c $50k\",\"Salary \\u003e= $50k\",\"Salary \\u003c $50k\",\"Salary \\u003e= $50k\",\"Salary \\u003e= $50k\",\"Salary \\u003c $50k\",\"Salary \\u003e= $50k\",\"Salary \\u003e= $50k\",\"Salary \\u003c $50k\",\"Salary \\u003c $50k\",\"Salary \\u003c $50k\",\"Salary \\u003e= $50k\",\"Salary \\u003e= $50k\",\"Salary \\u003c $50k\",\"Salary \\u003c $50k\",\"Salary \\u003e= $50k\",\"Salary \\u003e= $50k\",\"Salary \\u003e= $50k\",\"Salary \\u003e= $50k\",\"Salary \\u003c $50k\",\"Salary \\u003c $50k\",\"Salary \\u003c $50k\",\"Salary \\u003e= $50k\",\"Salary \\u003c $50k\",\"Salary \\u003e= $50k\",\"Salary \\u003c $50k\",\"Salary \\u003e= $50k\",\"Salary \\u003c $50k\",\"Salary \\u003c $50k\",\"Salary \\u003c $50k\",\"Salary \\u003e= $50k\",\"Salary \\u003c $50k\",\"Salary \\u003c $50k\",\"Salary \\u003e= $50k\",\"Salary \\u003c $50k\",\"Salary \\u003e= $50k\",\"Salary \\u003e= $50k\",\"Salary \\u003c $50k\",\"Salary \\u003e= $50k\",\"Salary \\u003c $50k\",\"Salary \\u003e= $50k\",\"Salary \\u003c $50k\",\"Salary \\u003e= $50k\",\"Salary \\u003e= $50k\",\"Salary \\u003e= $50k\",\"Salary \\u003e= $50k\",\"Salary \\u003e= $50k\",\"Salary \\u003e= $50k\",\"Salary \\u003c $50k\",\"Salary \\u003c $50k\",\"Salary \\u003e= $50k\",\"Salary \\u003e= $50k\",\"Salary \\u003e= $50k\",\"Salary \\u003c $50k\",\"Salary \\u003e= $50k\",\"Salary \\u003e= $50k\",\"Salary \\u003e= $50k\",\"Salary \\u003c $50k\",\"Salary \\u003e= $50k\",\"Salary \\u003e= $50k\",\"Salary \\u003c $50k\",\"Salary \\u003e= $50k\",\"Salary \\u003e= $50k\",\"Salary \\u003c $50k\",\"Salary \\u003c $50k\",\"Salary \\u003e= $50k\",\"Salary \\u003c $50k\",\"Salary \\u003e= $50k\",\"Salary \\u003e= $50k\",\"Salary \\u003c $50k\",\"Salary \\u003e= $50k\",\"Salary \\u003e= $50k\",\"Salary \\u003c $50k\",\"Salary \\u003c $50k\",\"Salary \\u003e= $50k\",\"Salary \\u003e= $50k\",\"Salary \\u003e= $50k\",\"Salary \\u003c $50k\",\"Salary \\u003c $50k\",\"Salary \\u003e= $50k\",\"Salary \\u003c $50k\",\"Salary \\u003c $50k\",\"Salary \\u003c $50k\",\"Salary \\u003c $50k\",\"Salary \\u003c $50k\",\"Salary \\u003c $50k\",\"Salary \\u003c $50k\",\"Salary \\u003e= $50k\",\"Salary \\u003e= $50k\",\"Salary \\u003c $50k\",\"Salary \\u003e= $50k\",\"Salary \\u003e= $50k\",\"Salary \\u003c $50k\",\"Salary \\u003c $50k\",\"Salary \\u003c $50k\",\"Salary \\u003c $50k\",\"Salary \\u003c $50k\",\"Salary \\u003e= $50k\",\"Salary \\u003c $50k\",\"Salary \\u003e= $50k\",\"Salary \\u003e= $50k\",\"Salary \\u003c $50k\",\"Salary \\u003e= $50k\",\"Salary \\u003c $50k\",\"Salary \\u003e= $50k\",\"Salary \\u003c $50k\",\"Salary \\u003c $50k\",\"Salary \\u003e= $50k\",\"Salary \\u003e= $50k\",\"Salary \\u003c $50k\",\"Salary \\u003e= $50k\"],\"xaxis\":\"x3\",\"yaxis\":\"y3\",\"type\":\"histogram\"},{\"alignmentgroup\":\"True\",\"bingroup\":\"subplot_1,3\",\"hovertemplate\":\"color=Female\\u003cbr\\u003etarget=%{x}\\u003cbr\\u003ecount=%{y}\\u003cextra\\u003e\\u003c\\u002fextra\\u003e\",\"legendgroup\":\"Female\",\"marker\":{\"color\":\"#EF553B\",\"pattern\":{\"shape\":\"\"}},\"name\":\"Female\",\"offsetgroup\":\"Female\",\"orientation\":\"v\",\"showlegend\":false,\"x\":[\"Salary \\u003e= $50k\",\"Salary \\u003e= $50k\",\"Salary \\u003c $50k\",\"Salary \\u003c $50k\",\"Salary \\u003c $50k\",\"Salary \\u003c $50k\",\"Salary \\u003e= $50k\",\"Salary \\u003c $50k\",\"Salary \\u003c $50k\",\"Salary \\u003e= $50k\",\"Salary \\u003c $50k\",\"Salary \\u003e= $50k\",\"Salary \\u003e= $50k\",\"Salary \\u003c $50k\",\"Salary \\u003c $50k\",\"Salary \\u003c $50k\",\"Salary \\u003e= $50k\",\"Salary \\u003c $50k\",\"Salary \\u003e= $50k\",\"Salary \\u003e= $50k\",\"Salary \\u003e= $50k\",\"Salary \\u003e= $50k\",\"Salary \\u003e= $50k\",\"Salary \\u003e= $50k\",\"Salary \\u003c $50k\",\"Salary \\u003c $50k\",\"Salary \\u003c $50k\",\"Salary \\u003c $50k\",\"Salary \\u003c $50k\",\"Salary \\u003e= $50k\",\"Salary \\u003e= $50k\",\"Salary \\u003c $50k\",\"Salary \\u003e= $50k\",\"Salary \\u003e= $50k\",\"Salary \\u003e= $50k\",\"Salary \\u003c $50k\",\"Salary \\u003e= $50k\",\"Salary \\u003c $50k\",\"Salary \\u003c $50k\",\"Salary \\u003e= $50k\",\"Salary \\u003e= $50k\",\"Salary \\u003e= $50k\",\"Salary \\u003c $50k\",\"Salary \\u003c $50k\",\"Salary \\u003c $50k\",\"Salary \\u003e= $50k\",\"Salary \\u003e= $50k\",\"Salary \\u003e= $50k\",\"Salary \\u003c $50k\",\"Salary \\u003c $50k\",\"Salary \\u003c $50k\",\"Salary \\u003c $50k\",\"Salary \\u003c $50k\",\"Salary \\u003c $50k\",\"Salary \\u003c $50k\",\"Salary \\u003e= $50k\",\"Salary \\u003e= $50k\",\"Salary \\u003e= $50k\",\"Salary \\u003e= $50k\",\"Salary \\u003e= $50k\",\"Salary \\u003c $50k\",\"Salary \\u003e= $50k\",\"Salary \\u003e= $50k\",\"Salary \\u003c $50k\",\"Salary \\u003c $50k\",\"Salary \\u003c $50k\",\"Salary \\u003c $50k\",\"Salary \\u003e= $50k\",\"Salary \\u003c $50k\",\"Salary \\u003c $50k\",\"Salary \\u003c $50k\",\"Salary \\u003c $50k\",\"Salary \\u003e= $50k\",\"Salary \\u003c $50k\",\"Salary \\u003e= $50k\",\"Salary \\u003c $50k\",\"Salary \\u003e= $50k\",\"Salary \\u003e= $50k\",\"Salary \\u003e= $50k\",\"Salary \\u003e= $50k\",\"Salary \\u003e= $50k\",\"Salary \\u003e= $50k\",\"Salary \\u003e= $50k\",\"Salary \\u003c $50k\",\"Salary \\u003c $50k\",\"Salary \\u003e= $50k\",\"Salary \\u003e= $50k\",\"Salary \\u003e= $50k\",\"Salary \\u003e= $50k\",\"Salary \\u003c $50k\",\"Salary \\u003c $50k\",\"Salary \\u003c $50k\",\"Salary \\u003c $50k\",\"Salary \\u003e= $50k\",\"Salary \\u003c $50k\",\"Salary \\u003c $50k\",\"Salary \\u003c $50k\",\"Salary \\u003c $50k\",\"Salary \\u003c $50k\",\"Salary \\u003c $50k\",\"Salary \\u003e= $50k\",\"Salary \\u003c $50k\",\"Salary \\u003c $50k\",\"Salary \\u003c $50k\",\"Salary \\u003c $50k\",\"Salary \\u003e= $50k\",\"Salary \\u003c $50k\",\"Salary \\u003c $50k\",\"Salary \\u003e= $50k\",\"Salary \\u003e= $50k\",\"Salary \\u003c $50k\",\"Salary \\u003e= $50k\",\"Salary \\u003c $50k\",\"Salary \\u003c $50k\",\"Salary \\u003c $50k\",\"Salary \\u003c $50k\",\"Salary \\u003c $50k\",\"Salary \\u003c $50k\",\"Salary \\u003c $50k\",\"Salary \\u003c $50k\",\"Salary \\u003c $50k\",\"Salary \\u003c $50k\",\"Salary \\u003e= $50k\",\"Salary \\u003c $50k\",\"Salary \\u003c $50k\",\"Salary \\u003c $50k\",\"Salary \\u003c $50k\",\"Salary \\u003c $50k\",\"Salary \\u003c $50k\",\"Salary \\u003c $50k\",\"Salary \\u003c $50k\",\"Salary \\u003e= $50k\",\"Salary \\u003e= $50k\",\"Salary \\u003c $50k\",\"Salary \\u003c $50k\",\"Salary \\u003e= $50k\",\"Salary \\u003c $50k\",\"Salary \\u003e= $50k\",\"Salary \\u003e= $50k\",\"Salary \\u003e= $50k\",\"Salary \\u003c $50k\",\"Salary \\u003e= $50k\",\"Salary \\u003e= $50k\",\"Salary \\u003c $50k\",\"Salary \\u003e= $50k\",\"Salary \\u003c $50k\",\"Salary \\u003c $50k\",\"Salary \\u003e= $50k\",\"Salary \\u003c $50k\",\"Salary \\u003e= $50k\"],\"xaxis\":\"x3\",\"yaxis\":\"y3\",\"type\":\"histogram\"}],                        {\"template\":{\"data\":{\"histogram2dcontour\":[{\"type\":\"histogram2dcontour\",\"colorbar\":{\"outlinewidth\":0,\"ticks\":\"\"},\"colorscale\":[[0.0,\"#0d0887\"],[0.1111111111111111,\"#46039f\"],[0.2222222222222222,\"#7201a8\"],[0.3333333333333333,\"#9c179e\"],[0.4444444444444444,\"#bd3786\"],[0.5555555555555556,\"#d8576b\"],[0.6666666666666666,\"#ed7953\"],[0.7777777777777778,\"#fb9f3a\"],[0.8888888888888888,\"#fdca26\"],[1.0,\"#f0f921\"]]}],\"choropleth\":[{\"type\":\"choropleth\",\"colorbar\":{\"outlinewidth\":0,\"ticks\":\"\"}}],\"histogram2d\":[{\"type\":\"histogram2d\",\"colorbar\":{\"outlinewidth\":0,\"ticks\":\"\"},\"colorscale\":[[0.0,\"#0d0887\"],[0.1111111111111111,\"#46039f\"],[0.2222222222222222,\"#7201a8\"],[0.3333333333333333,\"#9c179e\"],[0.4444444444444444,\"#bd3786\"],[0.5555555555555556,\"#d8576b\"],[0.6666666666666666,\"#ed7953\"],[0.7777777777777778,\"#fb9f3a\"],[0.8888888888888888,\"#fdca26\"],[1.0,\"#f0f921\"]]}],\"heatmap\":[{\"type\":\"heatmap\",\"colorbar\":{\"outlinewidth\":0,\"ticks\":\"\"},\"colorscale\":[[0.0,\"#0d0887\"],[0.1111111111111111,\"#46039f\"],[0.2222222222222222,\"#7201a8\"],[0.3333333333333333,\"#9c179e\"],[0.4444444444444444,\"#bd3786\"],[0.5555555555555556,\"#d8576b\"],[0.6666666666666666,\"#ed7953\"],[0.7777777777777778,\"#fb9f3a\"],[0.8888888888888888,\"#fdca26\"],[1.0,\"#f0f921\"]]}],\"heatmapgl\":[{\"type\":\"heatmapgl\",\"colorbar\":{\"outlinewidth\":0,\"ticks\":\"\"},\"colorscale\":[[0.0,\"#0d0887\"],[0.1111111111111111,\"#46039f\"],[0.2222222222222222,\"#7201a8\"],[0.3333333333333333,\"#9c179e\"],[0.4444444444444444,\"#bd3786\"],[0.5555555555555556,\"#d8576b\"],[0.6666666666666666,\"#ed7953\"],[0.7777777777777778,\"#fb9f3a\"],[0.8888888888888888,\"#fdca26\"],[1.0,\"#f0f921\"]]}],\"contourcarpet\":[{\"type\":\"contourcarpet\",\"colorbar\":{\"outlinewidth\":0,\"ticks\":\"\"}}],\"contour\":[{\"type\":\"contour\",\"colorbar\":{\"outlinewidth\":0,\"ticks\":\"\"},\"colorscale\":[[0.0,\"#0d0887\"],[0.1111111111111111,\"#46039f\"],[0.2222222222222222,\"#7201a8\"],[0.3333333333333333,\"#9c179e\"],[0.4444444444444444,\"#bd3786\"],[0.5555555555555556,\"#d8576b\"],[0.6666666666666666,\"#ed7953\"],[0.7777777777777778,\"#fb9f3a\"],[0.8888888888888888,\"#fdca26\"],[1.0,\"#f0f921\"]]}],\"surface\":[{\"type\":\"surface\",\"colorbar\":{\"outlinewidth\":0,\"ticks\":\"\"},\"colorscale\":[[0.0,\"#0d0887\"],[0.1111111111111111,\"#46039f\"],[0.2222222222222222,\"#7201a8\"],[0.3333333333333333,\"#9c179e\"],[0.4444444444444444,\"#bd3786\"],[0.5555555555555556,\"#d8576b\"],[0.6666666666666666,\"#ed7953\"],[0.7777777777777778,\"#fb9f3a\"],[0.8888888888888888,\"#fdca26\"],[1.0,\"#f0f921\"]]}],\"mesh3d\":[{\"type\":\"mesh3d\",\"colorbar\":{\"outlinewidth\":0,\"ticks\":\"\"}}],\"scatter\":[{\"fillpattern\":{\"fillmode\":\"overlay\",\"size\":10,\"solidity\":0.2},\"type\":\"scatter\"}],\"parcoords\":[{\"type\":\"parcoords\",\"line\":{\"colorbar\":{\"outlinewidth\":0,\"ticks\":\"\"}}}],\"scatterpolargl\":[{\"type\":\"scatterpolargl\",\"marker\":{\"colorbar\":{\"outlinewidth\":0,\"ticks\":\"\"}}}],\"bar\":[{\"error_x\":{\"color\":\"#2a3f5f\"},\"error_y\":{\"color\":\"#2a3f5f\"},\"marker\":{\"line\":{\"color\":\"#E5ECF6\",\"width\":0.5},\"pattern\":{\"fillmode\":\"overlay\",\"size\":10,\"solidity\":0.2}},\"type\":\"bar\"}],\"scattergeo\":[{\"type\":\"scattergeo\",\"marker\":{\"colorbar\":{\"outlinewidth\":0,\"ticks\":\"\"}}}],\"scatterpolar\":[{\"type\":\"scatterpolar\",\"marker\":{\"colorbar\":{\"outlinewidth\":0,\"ticks\":\"\"}}}],\"histogram\":[{\"marker\":{\"pattern\":{\"fillmode\":\"overlay\",\"size\":10,\"solidity\":0.2}},\"type\":\"histogram\"}],\"scattergl\":[{\"type\":\"scattergl\",\"marker\":{\"colorbar\":{\"outlinewidth\":0,\"ticks\":\"\"}}}],\"scatter3d\":[{\"type\":\"scatter3d\",\"line\":{\"colorbar\":{\"outlinewidth\":0,\"ticks\":\"\"}},\"marker\":{\"colorbar\":{\"outlinewidth\":0,\"ticks\":\"\"}}}],\"scattermapbox\":[{\"type\":\"scattermapbox\",\"marker\":{\"colorbar\":{\"outlinewidth\":0,\"ticks\":\"\"}}}],\"scatterternary\":[{\"type\":\"scatterternary\",\"marker\":{\"colorbar\":{\"outlinewidth\":0,\"ticks\":\"\"}}}],\"scattercarpet\":[{\"type\":\"scattercarpet\",\"marker\":{\"colorbar\":{\"outlinewidth\":0,\"ticks\":\"\"}}}],\"carpet\":[{\"aaxis\":{\"endlinecolor\":\"#2a3f5f\",\"gridcolor\":\"white\",\"linecolor\":\"white\",\"minorgridcolor\":\"white\",\"startlinecolor\":\"#2a3f5f\"},\"baxis\":{\"endlinecolor\":\"#2a3f5f\",\"gridcolor\":\"white\",\"linecolor\":\"white\",\"minorgridcolor\":\"white\",\"startlinecolor\":\"#2a3f5f\"},\"type\":\"carpet\"}],\"table\":[{\"cells\":{\"fill\":{\"color\":\"#EBF0F8\"},\"line\":{\"color\":\"white\"}},\"header\":{\"fill\":{\"color\":\"#C8D4E3\"},\"line\":{\"color\":\"white\"}},\"type\":\"table\"}],\"barpolar\":[{\"marker\":{\"line\":{\"color\":\"#E5ECF6\",\"width\":0.5},\"pattern\":{\"fillmode\":\"overlay\",\"size\":10,\"solidity\":0.2}},\"type\":\"barpolar\"}],\"pie\":[{\"automargin\":true,\"type\":\"pie\"}]},\"layout\":{\"autotypenumbers\":\"strict\",\"colorway\":[\"#636efa\",\"#EF553B\",\"#00cc96\",\"#ab63fa\",\"#FFA15A\",\"#19d3f3\",\"#FF6692\",\"#B6E880\",\"#FF97FF\",\"#FECB52\"],\"font\":{\"color\":\"#2a3f5f\"},\"hovermode\":\"closest\",\"hoverlabel\":{\"align\":\"left\"},\"paper_bgcolor\":\"white\",\"plot_bgcolor\":\"#E5ECF6\",\"polar\":{\"bgcolor\":\"#E5ECF6\",\"angularaxis\":{\"gridcolor\":\"white\",\"linecolor\":\"white\",\"ticks\":\"\"},\"radialaxis\":{\"gridcolor\":\"white\",\"linecolor\":\"white\",\"ticks\":\"\"}},\"ternary\":{\"bgcolor\":\"#E5ECF6\",\"aaxis\":{\"gridcolor\":\"white\",\"linecolor\":\"white\",\"ticks\":\"\"},\"baxis\":{\"gridcolor\":\"white\",\"linecolor\":\"white\",\"ticks\":\"\"},\"caxis\":{\"gridcolor\":\"white\",\"linecolor\":\"white\",\"ticks\":\"\"}},\"coloraxis\":{\"colorbar\":{\"outlinewidth\":0,\"ticks\":\"\"}},\"colorscale\":{\"sequential\":[[0.0,\"#0d0887\"],[0.1111111111111111,\"#46039f\"],[0.2222222222222222,\"#7201a8\"],[0.3333333333333333,\"#9c179e\"],[0.4444444444444444,\"#bd3786\"],[0.5555555555555556,\"#d8576b\"],[0.6666666666666666,\"#ed7953\"],[0.7777777777777778,\"#fb9f3a\"],[0.8888888888888888,\"#fdca26\"],[1.0,\"#f0f921\"]],\"sequentialminus\":[[0.0,\"#0d0887\"],[0.1111111111111111,\"#46039f\"],[0.2222222222222222,\"#7201a8\"],[0.3333333333333333,\"#9c179e\"],[0.4444444444444444,\"#bd3786\"],[0.5555555555555556,\"#d8576b\"],[0.6666666666666666,\"#ed7953\"],[0.7777777777777778,\"#fb9f3a\"],[0.8888888888888888,\"#fdca26\"],[1.0,\"#f0f921\"]],\"diverging\":[[0,\"#8e0152\"],[0.1,\"#c51b7d\"],[0.2,\"#de77ae\"],[0.3,\"#f1b6da\"],[0.4,\"#fde0ef\"],[0.5,\"#f7f7f7\"],[0.6,\"#e6f5d0\"],[0.7,\"#b8e186\"],[0.8,\"#7fbc41\"],[0.9,\"#4d9221\"],[1,\"#276419\"]]},\"xaxis\":{\"gridcolor\":\"white\",\"linecolor\":\"white\",\"ticks\":\"\",\"title\":{\"standoff\":15},\"zerolinecolor\":\"white\",\"automargin\":true,\"zerolinewidth\":2},\"yaxis\":{\"gridcolor\":\"white\",\"linecolor\":\"white\",\"ticks\":\"\",\"title\":{\"standoff\":15},\"zerolinecolor\":\"white\",\"automargin\":true,\"zerolinewidth\":2},\"scene\":{\"xaxis\":{\"backgroundcolor\":\"#E5ECF6\",\"gridcolor\":\"white\",\"linecolor\":\"white\",\"showbackground\":true,\"ticks\":\"\",\"zerolinecolor\":\"white\",\"gridwidth\":2},\"yaxis\":{\"backgroundcolor\":\"#E5ECF6\",\"gridcolor\":\"white\",\"linecolor\":\"white\",\"showbackground\":true,\"ticks\":\"\",\"zerolinecolor\":\"white\",\"gridwidth\":2},\"zaxis\":{\"backgroundcolor\":\"#E5ECF6\",\"gridcolor\":\"white\",\"linecolor\":\"white\",\"showbackground\":true,\"ticks\":\"\",\"zerolinecolor\":\"white\",\"gridwidth\":2}},\"shapedefaults\":{\"line\":{\"color\":\"#2a3f5f\"}},\"annotationdefaults\":{\"arrowcolor\":\"#2a3f5f\",\"arrowhead\":0,\"arrowwidth\":1},\"geo\":{\"bgcolor\":\"white\",\"landcolor\":\"#E5ECF6\",\"subunitcolor\":\"white\",\"showland\":true,\"showlakes\":true,\"lakecolor\":\"white\"},\"title\":{\"x\":0.05},\"mapbox\":{\"style\":\"light\"}}},\"xaxis\":{\"anchor\":\"y\",\"domain\":[0.0,0.2888888888888889],\"categoryorder\":\"array\",\"categoryarray\":[\"Salary \\u003c $50k\",\"Salary \\u003e= $50k\"]},\"yaxis\":{\"anchor\":\"x\",\"domain\":[0.0,1.0]},\"xaxis2\":{\"anchor\":\"y2\",\"domain\":[0.35555555555555557,0.6444444444444445],\"categoryorder\":\"array\",\"categoryarray\":[\"Salary \\u003c $50k\",\"Salary \\u003e= $50k\"]},\"yaxis2\":{\"anchor\":\"x2\",\"domain\":[0.0,1.0],\"matches\":\"y\",\"showticklabels\":false},\"xaxis3\":{\"anchor\":\"y3\",\"domain\":[0.7111111111111111,1.0],\"categoryorder\":\"array\",\"categoryarray\":[\"Salary \\u003c $50k\",\"Salary \\u003e= $50k\"]},\"yaxis3\":{\"anchor\":\"x3\",\"domain\":[0.0,1.0],\"matches\":\"y\",\"showticklabels\":false},\"annotations\":[{\"font\":{\"size\":16},\"showarrow\":false,\"text\":\"Predictions Controlling for\\nworkclass, education, and hours-per-week\",\"x\":0.14444444444444446,\"xanchor\":\"center\",\"xref\":\"paper\",\"y\":1.0,\"yanchor\":\"bottom\",\"yref\":\"paper\"},{\"font\":{\"size\":16},\"showarrow\":false,\"text\":\"Predictions w\\u002f previous plus\\nignoring relationship and marriage-status\",\"x\":0.5,\"xanchor\":\"center\",\"xref\":\"paper\",\"y\":1.0,\"yanchor\":\"bottom\",\"yref\":\"paper\"},{\"font\":{\"size\":16},\"showarrow\":false,\"text\":\"Predictions w\\u002f previous plus\\nsame age bracket\",\"x\":0.8555555555555556,\"xanchor\":\"center\",\"xref\":\"paper\",\"y\":1.0,\"yanchor\":\"bottom\",\"yref\":\"paper\"},{\"font\":{\"size\":16},\"showarrow\":false,\"text\":\"Target\",\"x\":0.5,\"xanchor\":\"center\",\"xref\":\"paper\",\"y\":0,\"yanchor\":\"top\",\"yref\":\"paper\",\"yshift\":-30},{\"font\":{\"size\":16},\"showarrow\":false,\"text\":\"Count\",\"textangle\":-90,\"x\":0,\"xanchor\":\"right\",\"xref\":\"paper\",\"xshift\":-40,\"y\":0.5,\"yanchor\":\"middle\",\"yref\":\"paper\"}],\"legend\":{\"title\":{\"text\":\"Sex\"}},\"height\":650},                        {\"responsive\": true}                    ).then(function(){\n",
       "                            \n",
       "var gd = document.getElementById('bc1a6f1a-3791-4ebc-89d2-3d14791c25de');\n",
       "var x = new MutationObserver(function (mutations, observer) {{\n",
       "        var display = window.getComputedStyle(gd).display;\n",
       "        if (!display || display === 'none') {{\n",
       "            console.log([gd, 'removed!']);\n",
       "            Plotly.purge(gd);\n",
       "            observer.disconnect();\n",
       "        }}\n",
       "}});\n",
       "\n",
       "// Listen for the removal of the full notebook cells\n",
       "var notebookContainer = gd.closest('#notebook-container');\n",
       "if (notebookContainer) {{\n",
       "    x.observe(notebookContainer, {childList: true});\n",
       "}}\n",
       "\n",
       "// Listen for the clearing of the current output cell\n",
       "var outputEl = gd.closest('.output');\n",
       "if (outputEl) {{\n",
       "    x.observe(outputEl, {childList: true});\n",
       "}}\n",
       "\n",
       "                        })                };                });            </script>        </div>"
      ]
     },
     "metadata": {},
     "output_type": "display_data"
    }
   ],
   "source": [
    "display_df = X_test.replace({\n",
    "    \"sex\": {0: \"Female\", 1: \"Male\"},\n",
    "    \"target\": {0: \"Salary >= $50k\", 1: \"Salary < $50k\"}\n",
    "})\n",
    "\n",
    "fa = px.histogram(\n",
    "    display_output_a,\n",
    "    x=\"target\",\n",
    "    barmode=\"group\",\n",
    "    color=display_df.sex,\n",
    "    title=\"Predictions Controlling for\\nworkclass, education, and hours-per-week\",\n",
    ")\n",
    "\n",
    "fb = px.histogram(\n",
    "    display_output_b,\n",
    "    x=\"target\",\n",
    "    barmode=\"group\",\n",
    "    color=display_df.sex,\n",
    "    title=\"Predictions w/ previous plus\\nignoring relationship and marriage-status\",\n",
    ")\n",
    "\n",
    "fc = px.histogram(\n",
    "    display_output_c,\n",
    "    x=\"target\",\n",
    "    barmode=\"group\",\n",
    "    color=display_df.sex,\n",
    "    title=\"Predictions w/ previous plus\\nsame age bracket\",\n",
    ")\n",
    "\n",
    "fig = compose_figures([fa, fb, fc], 1, 3, shared_yaxes=True, x_title=\"Target\", y_title=\"Count\")\n",
    "fig.update_layout(height=650, legend_title_text=\"Sex\")\n",
    "fig.update_xaxes(categoryorder=\"array\", categoryarray=[\"Salary < $50k\", \"Salary >= $50k\"])\n",
    "fig.show()"
   ]
  },
  {
   "attachments": {},
   "cell_type": "markdown",
   "metadata": {},
   "source": [
    "\n",
    "# Conclusion and next steps\n",
    "\n",
    "As shown, Howso Engine enables effective data exploration and bias mitigation on a single model with one train and analysis. This should not be done without ample consideration, as data bias is not always a straightforward phenomenon. We see that if we control for certain features, we were likely to improve the quality of our Trainee without grealy impacting the performance, while for other features, the performance impact may be too strong. This means we must be selective in what we adjust for, and in our example, adjusting for `Age` is most likely not recommended due to the performance and lack of intuition on its bias. \n",
    "\n",
    "This recipe is meant to show a useful, unique, and thought-provoking use case. It is also meant to start opening up the door of possibilities of using Howso Engine. There are countless other use cases that the user may wish to explore and we leave that up to the user to continue. We have one more recommended recipe, `6-validation.ipynb`, that will give an explanation and demonstration into some of the useful capabilities that arrise from instance-based modeling."
   ]
  }
 ],
 "metadata": {
  "kernelspec": {
   "display_name": "Python 3 (ipykernel)",
   "language": "python",
   "name": "python3"
  },
  "language_info": {
   "codemirror_mode": {
    "name": "ipython",
    "version": 3
   },
   "file_extension": ".py",
   "mimetype": "text/x-python",
   "name": "python",
   "nbconvert_exporter": "python",
   "pygments_lexer": "ipython3",
   "version": "3.9.18"
  },
  "vscode": {
   "interpreter": {
    "hash": "fd66890adbedad53ae8487873914636f139c48d180f9af233b1eacb68495f4c7"
   }
  }
 },
 "nbformat": 4,
 "nbformat_minor": 4
}
