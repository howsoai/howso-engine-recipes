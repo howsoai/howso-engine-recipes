{
 "cells": [
  {
   "attachments": {},
   "cell_type": "markdown",
   "metadata": {},
   "source": [
    "# Recipe 5: Bias Mitigation\n",
    "## Overview \n",
    "\n",
    "The previous recipes showed us how to develop an effective Trainee from a results perspective. We were able to find possible outlier Cases and edit our Trainee. However, there may a situation where data in our Trainee is technically correct but there are harmful or unnessary underlying trends and biases in that data. Howso Engine enables biases in data to be identified, understood, and mitigated. We encourage users to review the Howso Bias Mitigation Document for more information. \n"
   ]
  },
  {
   "attachments": {},
   "cell_type": "markdown",
   "metadata": {},
   "source": [
    "## Recipe Goals:\n",
    "\n",
    "This recipe will show how Howso Engine can provide organizations opportunities to identify data biases for a variety of use cases, empowering true, ethical data insights."
   ]
  },
  {
   "cell_type": "code",
   "execution_count": 1,
   "metadata": {
    "execution": {
     "iopub.execute_input": "2024-02-22T19:04:19.899573Z",
     "iopub.status.busy": "2024-02-22T19:04:19.899223Z",
     "iopub.status.idle": "2024-02-22T19:04:20.834269Z",
     "shell.execute_reply": "2024-02-22T19:04:20.833622Z"
    }
   },
   "outputs": [],
   "source": [
    "import os\n",
    "\n",
    "import numpy as np\n",
    "import pandas as pd\n",
    "import plotly.io as pio\n",
    "from pmlb import fetch_data\n",
    "from scipy.stats import chi2_contingency\n",
    "from sklearn.metrics import accuracy_score\n",
    "from sklearn.model_selection import train_test_split\n",
    "\n",
    "from howso.engine import Trainee\n",
    "from howso.utilities import infer_feature_attributes\n",
    "from howso.visuals import compose_figures\n",
    "\n",
    "pio.renderers.default = os.getenv(\"HOWSO_RECIPE_RENDERER\", \"notebook\")"
   ]
  },
  {
   "attachments": {},
   "cell_type": "markdown",
   "metadata": {},
   "source": [
    "# Section 1: Train and Analyze\n"
   ]
  },
  {
   "attachments": {},
   "cell_type": "markdown",
   "metadata": {},
   "source": [
    "### 1. Load Data\n",
    "\n",
    "Our example dataset for this recipe continues to be the well known `Adult` dataset. This dataset consists of 14 Context Features and 1 Action Feature. The Action Feature in this version of the `Adult` dataset has been renamed to `target` and it takes the form of a binary indicator for whether a person in the data makes over $50,000/year (*target*=1) or less (*target*=0)."
   ]
  },
  {
   "cell_type": "code",
   "execution_count": 2,
   "metadata": {
    "execution": {
     "iopub.execute_input": "2024-02-22T19:04:20.837656Z",
     "iopub.status.busy": "2024-02-22T19:04:20.837163Z",
     "iopub.status.idle": "2024-02-22T19:04:20.904270Z",
     "shell.execute_reply": "2024-02-22T19:04:20.903786Z"
    }
   },
   "outputs": [
    {
     "data": {
      "text/html": [
       "<div>\n",
       "<style scoped>\n",
       "    .dataframe tbody tr th:only-of-type {\n",
       "        vertical-align: middle;\n",
       "    }\n",
       "\n",
       "    .dataframe tbody tr th {\n",
       "        vertical-align: top;\n",
       "    }\n",
       "\n",
       "    .dataframe thead th {\n",
       "        text-align: right;\n",
       "    }\n",
       "</style>\n",
       "<table border=\"1\" class=\"dataframe\">\n",
       "  <thead>\n",
       "    <tr style=\"text-align: right;\">\n",
       "      <th></th>\n",
       "      <th>age</th>\n",
       "      <th>workclass</th>\n",
       "      <th>fnlwgt</th>\n",
       "      <th>education</th>\n",
       "      <th>education-num</th>\n",
       "      <th>marital-status</th>\n",
       "      <th>occupation</th>\n",
       "      <th>relationship</th>\n",
       "      <th>race</th>\n",
       "      <th>sex</th>\n",
       "      <th>capital-gain</th>\n",
       "      <th>capital-loss</th>\n",
       "      <th>hours-per-week</th>\n",
       "      <th>native-country</th>\n",
       "      <th>target</th>\n",
       "    </tr>\n",
       "  </thead>\n",
       "  <tbody>\n",
       "    <tr>\n",
       "      <th>0</th>\n",
       "      <td>39.0</td>\n",
       "      <td>7</td>\n",
       "      <td>77516.0</td>\n",
       "      <td>9</td>\n",
       "      <td>13.0</td>\n",
       "      <td>4</td>\n",
       "      <td>1</td>\n",
       "      <td>1</td>\n",
       "      <td>4</td>\n",
       "      <td>1</td>\n",
       "      <td>2174.0</td>\n",
       "      <td>0.0</td>\n",
       "      <td>40.0</td>\n",
       "      <td>39</td>\n",
       "      <td>1</td>\n",
       "    </tr>\n",
       "    <tr>\n",
       "      <th>1</th>\n",
       "      <td>50.0</td>\n",
       "      <td>6</td>\n",
       "      <td>83311.0</td>\n",
       "      <td>9</td>\n",
       "      <td>13.0</td>\n",
       "      <td>2</td>\n",
       "      <td>4</td>\n",
       "      <td>0</td>\n",
       "      <td>4</td>\n",
       "      <td>1</td>\n",
       "      <td>0.0</td>\n",
       "      <td>0.0</td>\n",
       "      <td>13.0</td>\n",
       "      <td>39</td>\n",
       "      <td>1</td>\n",
       "    </tr>\n",
       "    <tr>\n",
       "      <th>2</th>\n",
       "      <td>38.0</td>\n",
       "      <td>4</td>\n",
       "      <td>215646.0</td>\n",
       "      <td>11</td>\n",
       "      <td>9.0</td>\n",
       "      <td>0</td>\n",
       "      <td>6</td>\n",
       "      <td>1</td>\n",
       "      <td>4</td>\n",
       "      <td>1</td>\n",
       "      <td>0.0</td>\n",
       "      <td>0.0</td>\n",
       "      <td>40.0</td>\n",
       "      <td>39</td>\n",
       "      <td>1</td>\n",
       "    </tr>\n",
       "    <tr>\n",
       "      <th>3</th>\n",
       "      <td>53.0</td>\n",
       "      <td>4</td>\n",
       "      <td>234721.0</td>\n",
       "      <td>1</td>\n",
       "      <td>7.0</td>\n",
       "      <td>2</td>\n",
       "      <td>6</td>\n",
       "      <td>0</td>\n",
       "      <td>2</td>\n",
       "      <td>1</td>\n",
       "      <td>0.0</td>\n",
       "      <td>0.0</td>\n",
       "      <td>40.0</td>\n",
       "      <td>39</td>\n",
       "      <td>1</td>\n",
       "    </tr>\n",
       "    <tr>\n",
       "      <th>4</th>\n",
       "      <td>28.0</td>\n",
       "      <td>4</td>\n",
       "      <td>338409.0</td>\n",
       "      <td>9</td>\n",
       "      <td>13.0</td>\n",
       "      <td>2</td>\n",
       "      <td>10</td>\n",
       "      <td>5</td>\n",
       "      <td>2</td>\n",
       "      <td>0</td>\n",
       "      <td>0.0</td>\n",
       "      <td>0.0</td>\n",
       "      <td>40.0</td>\n",
       "      <td>5</td>\n",
       "      <td>1</td>\n",
       "    </tr>\n",
       "    <tr>\n",
       "      <th>...</th>\n",
       "      <td>...</td>\n",
       "      <td>...</td>\n",
       "      <td>...</td>\n",
       "      <td>...</td>\n",
       "      <td>...</td>\n",
       "      <td>...</td>\n",
       "      <td>...</td>\n",
       "      <td>...</td>\n",
       "      <td>...</td>\n",
       "      <td>...</td>\n",
       "      <td>...</td>\n",
       "      <td>...</td>\n",
       "      <td>...</td>\n",
       "      <td>...</td>\n",
       "      <td>...</td>\n",
       "    </tr>\n",
       "    <tr>\n",
       "      <th>48837</th>\n",
       "      <td>39.0</td>\n",
       "      <td>4</td>\n",
       "      <td>215419.0</td>\n",
       "      <td>9</td>\n",
       "      <td>13.0</td>\n",
       "      <td>0</td>\n",
       "      <td>10</td>\n",
       "      <td>1</td>\n",
       "      <td>4</td>\n",
       "      <td>0</td>\n",
       "      <td>0.0</td>\n",
       "      <td>0.0</td>\n",
       "      <td>36.0</td>\n",
       "      <td>39</td>\n",
       "      <td>1</td>\n",
       "    </tr>\n",
       "    <tr>\n",
       "      <th>48838</th>\n",
       "      <td>64.0</td>\n",
       "      <td>0</td>\n",
       "      <td>321403.0</td>\n",
       "      <td>11</td>\n",
       "      <td>9.0</td>\n",
       "      <td>6</td>\n",
       "      <td>0</td>\n",
       "      <td>2</td>\n",
       "      <td>2</td>\n",
       "      <td>1</td>\n",
       "      <td>0.0</td>\n",
       "      <td>0.0</td>\n",
       "      <td>40.0</td>\n",
       "      <td>39</td>\n",
       "      <td>1</td>\n",
       "    </tr>\n",
       "    <tr>\n",
       "      <th>48839</th>\n",
       "      <td>38.0</td>\n",
       "      <td>4</td>\n",
       "      <td>374983.0</td>\n",
       "      <td>9</td>\n",
       "      <td>13.0</td>\n",
       "      <td>2</td>\n",
       "      <td>10</td>\n",
       "      <td>0</td>\n",
       "      <td>4</td>\n",
       "      <td>1</td>\n",
       "      <td>0.0</td>\n",
       "      <td>0.0</td>\n",
       "      <td>50.0</td>\n",
       "      <td>39</td>\n",
       "      <td>1</td>\n",
       "    </tr>\n",
       "    <tr>\n",
       "      <th>48840</th>\n",
       "      <td>44.0</td>\n",
       "      <td>4</td>\n",
       "      <td>83891.0</td>\n",
       "      <td>9</td>\n",
       "      <td>13.0</td>\n",
       "      <td>0</td>\n",
       "      <td>1</td>\n",
       "      <td>3</td>\n",
       "      <td>1</td>\n",
       "      <td>1</td>\n",
       "      <td>5455.0</td>\n",
       "      <td>0.0</td>\n",
       "      <td>40.0</td>\n",
       "      <td>39</td>\n",
       "      <td>1</td>\n",
       "    </tr>\n",
       "    <tr>\n",
       "      <th>48841</th>\n",
       "      <td>35.0</td>\n",
       "      <td>5</td>\n",
       "      <td>182148.0</td>\n",
       "      <td>9</td>\n",
       "      <td>13.0</td>\n",
       "      <td>2</td>\n",
       "      <td>4</td>\n",
       "      <td>0</td>\n",
       "      <td>4</td>\n",
       "      <td>1</td>\n",
       "      <td>0.0</td>\n",
       "      <td>0.0</td>\n",
       "      <td>60.0</td>\n",
       "      <td>39</td>\n",
       "      <td>0</td>\n",
       "    </tr>\n",
       "  </tbody>\n",
       "</table>\n",
       "<p>48842 rows × 15 columns</p>\n",
       "</div>"
      ],
      "text/plain": [
       "        age  workclass    fnlwgt  education  education-num  marital-status  \\\n",
       "0      39.0          7   77516.0          9           13.0               4   \n",
       "1      50.0          6   83311.0          9           13.0               2   \n",
       "2      38.0          4  215646.0         11            9.0               0   \n",
       "3      53.0          4  234721.0          1            7.0               2   \n",
       "4      28.0          4  338409.0          9           13.0               2   \n",
       "...     ...        ...       ...        ...            ...             ...   \n",
       "48837  39.0          4  215419.0          9           13.0               0   \n",
       "48838  64.0          0  321403.0         11            9.0               6   \n",
       "48839  38.0          4  374983.0          9           13.0               2   \n",
       "48840  44.0          4   83891.0          9           13.0               0   \n",
       "48841  35.0          5  182148.0          9           13.0               2   \n",
       "\n",
       "       occupation  relationship  race  sex  capital-gain  capital-loss  \\\n",
       "0               1             1     4    1        2174.0           0.0   \n",
       "1               4             0     4    1           0.0           0.0   \n",
       "2               6             1     4    1           0.0           0.0   \n",
       "3               6             0     2    1           0.0           0.0   \n",
       "4              10             5     2    0           0.0           0.0   \n",
       "...           ...           ...   ...  ...           ...           ...   \n",
       "48837          10             1     4    0           0.0           0.0   \n",
       "48838           0             2     2    1           0.0           0.0   \n",
       "48839          10             0     4    1           0.0           0.0   \n",
       "48840           1             3     1    1        5455.0           0.0   \n",
       "48841           4             0     4    1           0.0           0.0   \n",
       "\n",
       "       hours-per-week  native-country  target  \n",
       "0                40.0              39       1  \n",
       "1                13.0              39       1  \n",
       "2                40.0              39       1  \n",
       "3                40.0              39       1  \n",
       "4                40.0               5       1  \n",
       "...               ...             ...     ...  \n",
       "48837            36.0              39       1  \n",
       "48838            40.0              39       1  \n",
       "48839            50.0              39       1  \n",
       "48840            40.0              39       1  \n",
       "48841            60.0              39       0  \n",
       "\n",
       "[48842 rows x 15 columns]"
      ]
     },
     "execution_count": 2,
     "metadata": {},
     "output_type": "execute_result"
    }
   ],
   "source": [
    "# We use the full dataset in this Recipe\n",
    "df = fetch_data('adult', local_cache_dir=\"data/adult\")\n",
    "\n",
    "df"
   ]
  },
  {
   "attachments": {},
   "cell_type": "markdown",
   "metadata": {},
   "source": [
    "### 2. Train Trainee\n",
    "\n",
    "To highlight the possible bias, we filter our test dataset to control for features that likely have a major impact on the target, such as `workclass` and `education`. This is not necessarily something that is known beforehand, however through the use of techiniques like determining feature relevance, we can deduce which variables might be candidates to be controlled. This is only for demonstrative purposes and these features may not represent a complete set of confounding variables."
   ]
  },
  {
   "cell_type": "code",
   "execution_count": 3,
   "metadata": {
    "execution": {
     "iopub.execute_input": "2024-02-22T19:04:20.942066Z",
     "iopub.status.busy": "2024-02-22T19:04:20.941588Z",
     "iopub.status.idle": "2024-02-22T19:04:44.650113Z",
     "shell.execute_reply": "2024-02-22T19:04:44.649474Z"
    }
   },
   "outputs": [],
   "source": [
    "features = infer_feature_attributes(df)\n",
    "\n",
    "# We use a train-test split so we can reduce bias in the test set\n",
    "X_train, X_test = train_test_split(df, test_size=0.2)\n",
    "\n",
    "t = Trainee(features=features, overwrite_existing=True)\n",
    "\n",
    "t.train(X_train)\n",
    "\n",
    "t.analyze()\n",
    "\n",
    "# Now that the model is trained and analyzed, We try to control for confounding factors for this experiment.\n",
    "X_test = X_test[(X_test.workclass == 4) & (X_test.education == 9) & (X_test[\"hours-per-week\"] == 40)]"
   ]
  },
  {
   "attachments": {},
   "cell_type": "markdown",
   "metadata": {},
   "source": [
    "# Section 2: Explore Data for Bias\n",
    "\n"
   ]
  },
  {
   "attachments": {},
   "cell_type": "markdown",
   "metadata": {},
   "source": [
    "## 1. Potential Bias - Sex\n",
    "\n",
    "There are many strategies for determining where to look for bias. These intricate relationships can be hard to disententangle and can be prone to unforeseen complications. Like many data analysis strategies, a combination of qualitative and quantitative knowledge can provide the user with the best course of action. Knowing the data helps keep humans in the loop and allows intelligent interpretation of the results. \n",
    "\n",
    "In our example dataset, `Adult`, it is a well-known phenomenon that women are often disadvantaged in the workforce in terms of salary, especially at the time this dataset was created. This gives us a starting point to look for harmful biases in our dataset."
   ]
  },
  {
   "attachments": {},
   "cell_type": "markdown",
   "metadata": {},
   "source": [
    "### 1a. React\n",
    "\n",
    " We can begin by reacting to the Action Feature and plotting it."
   ]
  },
  {
   "cell_type": "code",
   "execution_count": 4,
   "metadata": {
    "execution": {
     "iopub.execute_input": "2024-02-22T19:04:44.653362Z",
     "iopub.status.busy": "2024-02-22T19:04:44.652952Z",
     "iopub.status.idle": "2024-02-22T19:04:44.792176Z",
     "shell.execute_reply": "2024-02-22T19:04:44.791609Z"
    }
   },
   "outputs": [],
   "source": [
    "context_features = features.get_names(without=['target'])\n",
    "output = t.react(X_test, action_features=[\"target\"], context_features=context_features)[\"action\"]\n",
    "predictions = output[\"target\"]"
   ]
  },
  {
   "attachments": {},
   "cell_type": "markdown",
   "metadata": {},
   "source": [
    "### 1b. Plot\n",
    "\n",
    "Plotting can help visualize the results."
   ]
  },
  {
   "cell_type": "code",
   "execution_count": 5,
   "metadata": {
    "execution": {
     "iopub.execute_input": "2024-02-22T19:04:44.795172Z",
     "iopub.status.busy": "2024-02-22T19:04:44.794796Z",
     "iopub.status.idle": "2024-02-22T19:04:44.933537Z",
     "shell.execute_reply": "2024-02-22T19:04:44.932971Z"
    }
   },
   "outputs": [],
   "source": [
    "context_features = features.get_names(without=['target'])\n",
    "output = t.react(X_test, action_features=[\"target\"], context_features=context_features)[\"action\"]\n",
    "predictions = output[\"target\"]\n",
    "\n",
    "display_output_a = output.replace({\"target\": {0: \"Salary >= $50k\", 1: \"Salary < $50k\"}})\n",
    "display_df = X_test.replace({\n",
    "    \"sex\": {0: \"Female\", 1: \"Male\"},\n",
    "    \"target\": {0: \"Salary >= $50k\", 1: \"Salary < $50k\"}\n",
    "})\n",
    "hue_order = [\"Female\", \"Male\"]"
   ]
  },
  {
   "cell_type": "code",
   "execution_count": 6,
   "metadata": {
    "execution": {
     "iopub.execute_input": "2024-02-22T19:04:44.936625Z",
     "iopub.status.busy": "2024-02-22T19:04:44.936213Z",
     "iopub.status.idle": "2024-02-22T19:04:45.800094Z",
     "shell.execute_reply": "2024-02-22T19:04:45.799400Z"
    }
   },
   "outputs": [
    {
     "data": {
      "image/svg+xml": [
       "<svg class=\"main-svg\" xmlns=\"http://www.w3.org/2000/svg\" xmlns:xlink=\"http://www.w3.org/1999/xlink\" width=\"650\" height=\"650\" style=\"\" viewBox=\"0 0 650 650\"><rect x=\"0\" y=\"0\" width=\"650\" height=\"650\" style=\"fill: rgb(255, 255, 255); fill-opacity: 1;\"/><defs id=\"defs-1cb80d\"><g class=\"clips\"><clipPath id=\"clip1cb80dxyplot\" class=\"plotclip\"><rect width=\"463\" height=\"510\"/></clipPath><clipPath class=\"axesclip\" id=\"clip1cb80dx\"><rect x=\"80\" y=\"0\" width=\"463\" height=\"650\"/></clipPath><clipPath class=\"axesclip\" id=\"clip1cb80dy\"><rect x=\"0\" y=\"60\" width=\"650\" height=\"510\"/></clipPath><clipPath class=\"axesclip\" id=\"clip1cb80dxy\"><rect x=\"80\" y=\"60\" width=\"463\" height=\"510\"/></clipPath></g><g class=\"gradients\"/><g class=\"patterns\"/></defs><g class=\"bglayer\"><rect class=\"bg\" x=\"80\" y=\"60\" width=\"463\" height=\"510\" style=\"fill: rgb(229, 236, 246); fill-opacity: 1; stroke-width: 0;\"/></g><g class=\"layer-below\"><g class=\"imagelayer\"/><g class=\"shapelayer\"/></g><g class=\"cartesianlayer\"><g class=\"subplot xy\"><g class=\"layer-subplot\"><g class=\"shapelayer\"/><g class=\"imagelayer\"/></g><g class=\"minor-gridlayer\"><g class=\"x\"/><g class=\"y\"/></g><g class=\"gridlayer\"><g class=\"x\"/><g class=\"y\"><path class=\"ygrid crisp\" transform=\"translate(0,512.3199999999999)\" d=\"M80,0h463\" style=\"stroke: rgb(255, 255, 255); stroke-opacity: 1; stroke-width: 1px;\"/><path class=\"ygrid crisp\" transform=\"translate(0,454.64)\" d=\"M80,0h463\" style=\"stroke: rgb(255, 255, 255); stroke-opacity: 1; stroke-width: 1px;\"/><path class=\"ygrid crisp\" transform=\"translate(0,396.96)\" d=\"M80,0h463\" style=\"stroke: rgb(255, 255, 255); stroke-opacity: 1; stroke-width: 1px;\"/><path class=\"ygrid crisp\" transform=\"translate(0,339.29)\" d=\"M80,0h463\" style=\"stroke: rgb(255, 255, 255); stroke-opacity: 1; stroke-width: 1px;\"/><path class=\"ygrid crisp\" transform=\"translate(0,281.61)\" d=\"M80,0h463\" style=\"stroke: rgb(255, 255, 255); stroke-opacity: 1; stroke-width: 1px;\"/><path class=\"ygrid crisp\" transform=\"translate(0,223.93)\" d=\"M80,0h463\" style=\"stroke: rgb(255, 255, 255); stroke-opacity: 1; stroke-width: 1px;\"/><path class=\"ygrid crisp\" transform=\"translate(0,166.25)\" d=\"M80,0h463\" style=\"stroke: rgb(255, 255, 255); stroke-opacity: 1; stroke-width: 1px;\"/><path class=\"ygrid crisp\" transform=\"translate(0,108.57)\" d=\"M80,0h463\" style=\"stroke: rgb(255, 255, 255); stroke-opacity: 1; stroke-width: 1px;\"/></g></g><g class=\"zerolinelayer\"><path class=\"yzl zl crisp\" transform=\"translate(0,570)\" d=\"M80,0h463\" style=\"stroke: rgb(255, 255, 255); stroke-opacity: 1; stroke-width: 2px;\"/></g><path class=\"xlines-below\"/><path class=\"ylines-below\"/><g class=\"overlines-below\"/><g class=\"xaxislayer-below\"/><g class=\"yaxislayer-below\"/><g class=\"overaxes-below\"/><g class=\"plot\" transform=\"translate(80,60)\" clip-path=\"url(#clip1cb80dxyplot)\"><g class=\"barlayer mlayer\"><g class=\"trace bars\" style=\"opacity: 1;\"><g class=\"points\"><g class=\"point\"><path d=\"M23.15,510V65.87H115.75V510Z\" style=\"vector-effect: none; opacity: 1; stroke-width: 0px; fill: rgb(99, 110, 250); fill-opacity: 1;\"/></g><g class=\"point\"><path d=\"M254.65,510V25.5H347.25V510Z\" style=\"vector-effect: none; opacity: 1; stroke-width: 0px; fill: rgb(99, 110, 250); fill-opacity: 1;\"/></g></g></g><g class=\"trace bars\" style=\"opacity: 1;\"><g class=\"points\"><g class=\"point\"><path d=\"M115.75,510V463.86H208.35V510Z\" style=\"vector-effect: none; opacity: 1; stroke-width: 0px; fill: rgb(239, 85, 59); fill-opacity: 1;\"/></g><g class=\"point\"><path d=\"M347.25,510V149.51H439.85V510Z\" style=\"vector-effect: none; opacity: 1; stroke-width: 0px; fill: rgb(239, 85, 59); fill-opacity: 1;\"/></g></g></g></g></g><g class=\"overplot\"/><path class=\"xlines-above crisp\" d=\"M0,0\" style=\"fill: none;\"/><path class=\"ylines-above crisp\" d=\"M0,0\" style=\"fill: none;\"/><g class=\"overlines-above\"/><g class=\"xaxislayer-above\"><g class=\"xtick\"><text text-anchor=\"middle\" x=\"0\" y=\"583\" transform=\"translate(195.75,0)\" style=\"font-family: 'Open Sans', verdana, arial, sans-serif; font-size: 12px; fill: rgb(42, 63, 95); fill-opacity: 1; white-space: pre; opacity: 1;\">Salary >= $50k</text></g><g class=\"xtick\"><text text-anchor=\"middle\" x=\"0\" y=\"583\" transform=\"translate(427.25,0)\" style=\"font-family: 'Open Sans', verdana, arial, sans-serif; font-size: 12px; fill: rgb(42, 63, 95); fill-opacity: 1; white-space: pre; opacity: 1;\">Salary &#60; $50k</text></g></g><g class=\"yaxislayer-above\"><g class=\"ytick\"><text text-anchor=\"end\" x=\"79\" y=\"4.199999999999999\" transform=\"translate(0,570)\" style=\"font-family: 'Open Sans', verdana, arial, sans-serif; font-size: 12px; fill: rgb(42, 63, 95); fill-opacity: 1; white-space: pre; opacity: 1;\">0</text></g><g class=\"ytick\"><text text-anchor=\"end\" x=\"79\" y=\"4.199999999999999\" style=\"font-family: 'Open Sans', verdana, arial, sans-serif; font-size: 12px; fill: rgb(42, 63, 95); fill-opacity: 1; white-space: pre; opacity: 1;\" transform=\"translate(0,512.3199999999999)\">20</text></g><g class=\"ytick\"><text text-anchor=\"end\" x=\"79\" y=\"4.199999999999999\" style=\"font-family: 'Open Sans', verdana, arial, sans-serif; font-size: 12px; fill: rgb(42, 63, 95); fill-opacity: 1; white-space: pre; opacity: 1;\" transform=\"translate(0,454.64)\">40</text></g><g class=\"ytick\"><text text-anchor=\"end\" x=\"79\" y=\"4.199999999999999\" style=\"font-family: 'Open Sans', verdana, arial, sans-serif; font-size: 12px; fill: rgb(42, 63, 95); fill-opacity: 1; white-space: pre; opacity: 1;\" transform=\"translate(0,396.96)\">60</text></g><g class=\"ytick\"><text text-anchor=\"end\" x=\"79\" y=\"4.199999999999999\" style=\"font-family: 'Open Sans', verdana, arial, sans-serif; font-size: 12px; fill: rgb(42, 63, 95); fill-opacity: 1; white-space: pre; opacity: 1;\" transform=\"translate(0,339.29)\">80</text></g><g class=\"ytick\"><text text-anchor=\"end\" x=\"79\" y=\"4.199999999999999\" style=\"font-family: 'Open Sans', verdana, arial, sans-serif; font-size: 12px; fill: rgb(42, 63, 95); fill-opacity: 1; white-space: pre; opacity: 1;\" transform=\"translate(0,281.61)\">100</text></g><g class=\"ytick\"><text text-anchor=\"end\" x=\"79\" y=\"4.199999999999999\" style=\"font-family: 'Open Sans', verdana, arial, sans-serif; font-size: 12px; fill: rgb(42, 63, 95); fill-opacity: 1; white-space: pre; opacity: 1;\" transform=\"translate(0,223.93)\">120</text></g><g class=\"ytick\"><text text-anchor=\"end\" x=\"79\" y=\"4.199999999999999\" style=\"font-family: 'Open Sans', verdana, arial, sans-serif; font-size: 12px; fill: rgb(42, 63, 95); fill-opacity: 1; white-space: pre; opacity: 1;\" transform=\"translate(0,166.25)\">140</text></g><g class=\"ytick\"><text text-anchor=\"end\" x=\"79\" y=\"4.199999999999999\" style=\"font-family: 'Open Sans', verdana, arial, sans-serif; font-size: 12px; fill: rgb(42, 63, 95); fill-opacity: 1; white-space: pre; opacity: 1;\" transform=\"translate(0,108.57)\">160</text></g></g><g class=\"overaxes-above\"/></g></g><g class=\"polarlayer\"/><g class=\"smithlayer\"/><g class=\"ternarylayer\"/><g class=\"geolayer\"/><g class=\"funnelarealayer\"/><g class=\"pielayer\"/><g class=\"iciclelayer\"/><g class=\"treemaplayer\"/><g class=\"sunburstlayer\"/><g class=\"glimages\"/><defs id=\"topdefs-1cb80d\"><g class=\"clips\"/><clipPath id=\"legend1cb80d\"><rect width=\"86\" height=\"67\" x=\"0\" y=\"0\"/></clipPath></defs><g class=\"layer-above\"><g class=\"imagelayer\"/><g class=\"shapelayer\"/></g><g class=\"infolayer\"><g class=\"legend\" pointer-events=\"all\" transform=\"translate(552.26,60)\"><rect class=\"bg\" shape-rendering=\"crispEdges\" style=\"stroke: rgb(68, 68, 68); stroke-opacity: 1; fill: rgb(255, 255, 255); fill-opacity: 1; stroke-width: 0px;\" width=\"86\" height=\"67\" x=\"0\" y=\"0\"/><g class=\"scrollbox\" transform=\"\" clip-path=\"url(#legend1cb80d)\"><text class=\"legendtitletext\" text-anchor=\"start\" x=\"2\" y=\"18.2\" style=\"font-family: 'Open Sans', verdana, arial, sans-serif; font-size: 14px; fill: rgb(42, 63, 95); fill-opacity: 1; white-space: pre;\">color</text><g class=\"groups\" transform=\"\"><g class=\"traces\" transform=\"translate(0,32.7)\" style=\"opacity: 1;\"><text class=\"legendtext\" text-anchor=\"start\" x=\"40\" y=\"4.680000000000001\" style=\"font-family: 'Open Sans', verdana, arial, sans-serif; font-size: 12px; fill: rgb(42, 63, 95); fill-opacity: 1; white-space: pre;\">Male</text><g class=\"layers\" style=\"opacity: 1;\"><g class=\"legendfill\"/><g class=\"legendlines\"/><g class=\"legendsymbols\"><g class=\"legendpoints\"><path class=\"legendundefined\" d=\"M6,6H-6V-6H6Z\" transform=\"translate(20,0)\" style=\"stroke-width: 0px; fill: rgb(99, 110, 250); fill-opacity: 1;\"/></g></g></g><rect class=\"legendtoggle\" x=\"0\" y=\"-9.5\" width=\"80.34375\" height=\"19\" style=\"fill: rgb(0, 0, 0); fill-opacity: 0;\"/></g></g><g class=\"groups\" transform=\"\"><g class=\"traces\" transform=\"translate(0,51.7)\" style=\"opacity: 1;\"><text class=\"legendtext\" text-anchor=\"start\" x=\"40\" y=\"4.680000000000001\" style=\"font-family: 'Open Sans', verdana, arial, sans-serif; font-size: 12px; fill: rgb(42, 63, 95); fill-opacity: 1; white-space: pre;\">Female</text><g class=\"layers\" style=\"opacity: 1;\"><g class=\"legendfill\"/><g class=\"legendlines\"/><g class=\"legendsymbols\"><g class=\"legendpoints\"><path class=\"legendundefined\" d=\"M6,6H-6V-6H6Z\" transform=\"translate(20,0)\" style=\"stroke-width: 0px; fill: rgb(239, 85, 59); fill-opacity: 1;\"/></g></g></g><rect class=\"legendtoggle\" x=\"0\" y=\"-9.5\" width=\"80.34375\" height=\"19\" style=\"fill: rgb(0, 0, 0); fill-opacity: 0;\"/></g></g></g><rect class=\"scrollbar\" rx=\"20\" ry=\"3\" width=\"0\" height=\"0\" style=\"fill: rgb(128, 139, 164); fill-opacity: 1;\" x=\"0\" y=\"0\"/></g><g class=\"g-gtitle\"/><g class=\"g-xtitle\"><text class=\"xtitle\" x=\"311.5\" y=\"610.3\" text-anchor=\"middle\" style=\"font-family: 'Open Sans', verdana, arial, sans-serif; font-size: 14px; fill: rgb(42, 63, 95); opacity: 1; font-weight: normal; white-space: pre;\">target</text></g><g class=\"g-ytitle\"><text class=\"ytitle\" transform=\"rotate(-90,34.66875,315)\" x=\"34.66875\" y=\"315\" text-anchor=\"middle\" style=\"font-family: 'Open Sans', verdana, arial, sans-serif; font-size: 14px; fill: rgb(42, 63, 95); opacity: 1; font-weight: normal; white-space: pre;\">count</text></g></g></svg>"
      ]
     },
     "metadata": {},
     "output_type": "display_data"
    }
   ],
   "source": [
    "import plotly.express as px\n",
    "\n",
    "fig = px.histogram(\n",
    "    display_output_a,\n",
    "    x=\"target\",\n",
    "    width=650,\n",
    "    height=650,\n",
    "    barmode=\"group\",\n",
    "    color=display_df.sex,\n",
    ")\n",
    "fig.show()"
   ]
  },
  {
   "attachments": {},
   "cell_type": "markdown",
   "metadata": {},
   "source": [
    "### 1c. Accuracy Results"
   ]
  },
  {
   "cell_type": "code",
   "execution_count": 7,
   "metadata": {
    "execution": {
     "iopub.execute_input": "2024-02-22T19:04:45.802796Z",
     "iopub.status.busy": "2024-02-22T19:04:45.802586Z",
     "iopub.status.idle": "2024-02-22T19:04:45.808891Z",
     "shell.execute_reply": "2024-02-22T19:04:45.808447Z"
    }
   },
   "outputs": [
    {
     "data": {
      "text/plain": [
       "0.801"
      ]
     },
     "execution_count": 7,
     "metadata": {},
     "output_type": "execute_result"
    }
   ],
   "source": [
    "accuracy = round(accuracy_score(X_test[\"target\"], predictions), 3)\n",
    "accuracy"
   ]
  },
  {
   "attachments": {},
   "cell_type": "markdown",
   "metadata": {},
   "source": [
    "### 1d. Results\n",
    "\n",
    "Since we are controlling for many of the features that are relevant to the Action Feature, this highlights the potential biases in the remaining features. We can see with the imbalance in representation across target values between sexes, a bias is evident. Men, despite being of the same work class and education level are much more likely than women to make over $50K in this dataset. \n"
   ]
  },
  {
   "attachments": {},
   "cell_type": "markdown",
   "metadata": {},
   "source": [
    "## 2. Potential Relationship with Biased Feature - Sex and Relationship"
   ]
  },
  {
   "attachments": {},
   "cell_type": "markdown",
   "metadata": {},
   "source": [
    "Now that we identified `Sex` as a bias, we want to see the extent of the bias as it relates to other features. This is important because if we want to correct a biased feature, its relationships with other features can leave residual biases that persist if not addressed. You can think of the main biased feature as a weed whose roots can spread to other features."
   ]
  },
  {
   "attachments": {},
   "cell_type": "markdown",
   "metadata": {},
   "source": [
    "### 2a. Search"
   ]
  },
  {
   "cell_type": "code",
   "execution_count": 8,
   "metadata": {
    "execution": {
     "iopub.execute_input": "2024-02-22T19:04:45.811264Z",
     "iopub.status.busy": "2024-02-22T19:04:45.810928Z",
     "iopub.status.idle": "2024-02-22T19:04:46.058095Z",
     "shell.execute_reply": "2024-02-22T19:04:46.057474Z"
    }
   },
   "outputs": [
    {
     "data": {
      "image/svg+xml": [
       "<svg class=\"main-svg\" xmlns=\"http://www.w3.org/2000/svg\" xmlns:xlink=\"http://www.w3.org/1999/xlink\" width=\"700\" height=\"1200\" style=\"\" viewBox=\"0 0 700 1200\"><rect x=\"0\" y=\"0\" width=\"700\" height=\"1200\" style=\"fill: rgb(255, 255, 255); fill-opacity: 1;\"/><defs id=\"defs-d1330b\"><g class=\"clips\"><clipPath id=\"clipd1330bxyplot\" class=\"plotclip\"><rect width=\"508\" height=\"507.9999999999999\"/></clipPath><clipPath class=\"axesclip\" id=\"clipd1330bx\"><rect x=\"96\" y=\"0\" width=\"508\" height=\"1200\"/></clipPath><clipPath class=\"axesclip\" id=\"clipd1330by\"><rect x=\"0\" y=\"336.00000000000006\" width=\"700\" height=\"507.9999999999999\"/></clipPath><clipPath class=\"axesclip\" id=\"clipd1330bxy\"><rect x=\"96\" y=\"336.00000000000006\" width=\"508\" height=\"507.9999999999999\"/></clipPath></g><g class=\"gradients\"><linearGradient x1=\"0\" x2=\"0\" y1=\"1\" y2=\"0\" id=\"gd1330b-cbcoloraxis\"><stop offset=\"0%\" stop-color=\"rgb(13, 8, 135)\" stop-opacity=\"1\"/><stop offset=\"11.111111%\" stop-color=\"rgb(70, 3, 159)\" stop-opacity=\"1\"/><stop offset=\"22.222222%\" stop-color=\"rgb(114, 1, 168)\" stop-opacity=\"1\"/><stop offset=\"33.333333%\" stop-color=\"rgb(156, 23, 158)\" stop-opacity=\"1\"/><stop offset=\"44.444444%\" stop-color=\"rgb(189, 55, 134)\" stop-opacity=\"1\"/><stop offset=\"55.555556%\" stop-color=\"rgb(216, 87, 107)\" stop-opacity=\"1\"/><stop offset=\"66.666667%\" stop-color=\"rgb(237, 121, 83)\" stop-opacity=\"1\"/><stop offset=\"77.777778%\" stop-color=\"rgb(251, 159, 58)\" stop-opacity=\"1\"/><stop offset=\"88.888889%\" stop-color=\"rgb(253, 202, 38)\" stop-opacity=\"1\"/><stop offset=\"100%\" stop-color=\"rgb(240, 249, 33)\" stop-opacity=\"1\"/></linearGradient></g><g class=\"patterns\"/></defs><g class=\"bglayer\"><rect class=\"bg\" x=\"96\" y=\"336.00000000000006\" width=\"508\" height=\"507.9999999999999\" style=\"fill: rgb(229, 236, 246); fill-opacity: 1; stroke-width: 0;\"/></g><g class=\"layer-below\"><g class=\"imagelayer\"/><g class=\"shapelayer\"/></g><g class=\"cartesianlayer\"><g class=\"subplot xy\"><g class=\"layer-subplot\"><g class=\"shapelayer\"/><g class=\"imagelayer\"/></g><g class=\"minor-gridlayer\"><g class=\"x\"/><g class=\"y\"/></g><g class=\"gridlayer\"><g class=\"x\"><path class=\"xgrid crisp\" transform=\"translate(112.93,0)\" d=\"M0,336.00000000000006v507.9999999999999\" style=\"stroke: rgb(255, 255, 255); stroke-opacity: 1; stroke-width: 1px;\"/><path class=\"xgrid crisp\" transform=\"translate(146.8,0)\" d=\"M0,336.00000000000006v507.9999999999999\" style=\"stroke: rgb(255, 255, 255); stroke-opacity: 1; stroke-width: 1px;\"/><path class=\"xgrid crisp\" transform=\"translate(180.67000000000002,0)\" d=\"M0,336.00000000000006v507.9999999999999\" style=\"stroke: rgb(255, 255, 255); stroke-opacity: 1; stroke-width: 1px;\"/><path class=\"xgrid crisp\" transform=\"translate(214.53,0)\" d=\"M0,336.00000000000006v507.9999999999999\" style=\"stroke: rgb(255, 255, 255); stroke-opacity: 1; stroke-width: 1px;\"/><path class=\"xgrid crisp\" transform=\"translate(248.4,0)\" d=\"M0,336.00000000000006v507.9999999999999\" style=\"stroke: rgb(255, 255, 255); stroke-opacity: 1; stroke-width: 1px;\"/><path class=\"xgrid crisp\" transform=\"translate(282.27,0)\" d=\"M0,336.00000000000006v507.9999999999999\" style=\"stroke: rgb(255, 255, 255); stroke-opacity: 1; stroke-width: 1px;\"/><path class=\"xgrid crisp\" transform=\"translate(316.13,0)\" d=\"M0,336.00000000000006v507.9999999999999\" style=\"stroke: rgb(255, 255, 255); stroke-opacity: 1; stroke-width: 1px;\"/><path class=\"xgrid crisp\" transform=\"translate(350,0)\" d=\"M0,336.00000000000006v507.9999999999999\" style=\"stroke: rgb(255, 255, 255); stroke-opacity: 1; stroke-width: 1px;\"/><path class=\"xgrid crisp\" transform=\"translate(383.87,0)\" d=\"M0,336.00000000000006v507.9999999999999\" style=\"stroke: rgb(255, 255, 255); stroke-opacity: 1; stroke-width: 1px;\"/><path class=\"xgrid crisp\" transform=\"translate(417.73,0)\" d=\"M0,336.00000000000006v507.9999999999999\" style=\"stroke: rgb(255, 255, 255); stroke-opacity: 1; stroke-width: 1px;\"/><path class=\"xgrid crisp\" transform=\"translate(451.6,0)\" d=\"M0,336.00000000000006v507.9999999999999\" style=\"stroke: rgb(255, 255, 255); stroke-opacity: 1; stroke-width: 1px;\"/><path class=\"xgrid crisp\" transform=\"translate(485.47,0)\" d=\"M0,336.00000000000006v507.9999999999999\" style=\"stroke: rgb(255, 255, 255); stroke-opacity: 1; stroke-width: 1px;\"/><path class=\"xgrid crisp\" transform=\"translate(519.3299999999999,0)\" d=\"M0,336.00000000000006v507.9999999999999\" style=\"stroke: rgb(255, 255, 255); stroke-opacity: 1; stroke-width: 1px;\"/><path class=\"xgrid crisp\" transform=\"translate(553.2,0)\" d=\"M0,336.00000000000006v507.9999999999999\" style=\"stroke: rgb(255, 255, 255); stroke-opacity: 1; stroke-width: 1px;\"/><path class=\"xgrid crisp\" transform=\"translate(587.0699999999999,0)\" d=\"M0,336.00000000000006v507.9999999999999\" style=\"stroke: rgb(255, 255, 255); stroke-opacity: 1; stroke-width: 1px;\"/></g><g class=\"y\"><path class=\"ygrid crisp\" transform=\"translate(0,827.07)\" d=\"M96,0h508\" style=\"stroke: rgb(255, 255, 255); stroke-opacity: 1; stroke-width: 1px;\"/><path class=\"ygrid crisp\" transform=\"translate(0,793.2)\" d=\"M96,0h508\" style=\"stroke: rgb(255, 255, 255); stroke-opacity: 1; stroke-width: 1px;\"/><path class=\"ygrid crisp\" transform=\"translate(0,759.33)\" d=\"M96,0h508\" style=\"stroke: rgb(255, 255, 255); stroke-opacity: 1; stroke-width: 1px;\"/><path class=\"ygrid crisp\" transform=\"translate(0,725.47)\" d=\"M96,0h508\" style=\"stroke: rgb(255, 255, 255); stroke-opacity: 1; stroke-width: 1px;\"/><path class=\"ygrid crisp\" transform=\"translate(0,691.6000000000001)\" d=\"M96,0h508\" style=\"stroke: rgb(255, 255, 255); stroke-opacity: 1; stroke-width: 1px;\"/><path class=\"ygrid crisp\" transform=\"translate(0,657.73)\" d=\"M96,0h508\" style=\"stroke: rgb(255, 255, 255); stroke-opacity: 1; stroke-width: 1px;\"/><path class=\"ygrid crisp\" transform=\"translate(0,623.8700000000001)\" d=\"M96,0h508\" style=\"stroke: rgb(255, 255, 255); stroke-opacity: 1; stroke-width: 1px;\"/><path class=\"ygrid crisp\" transform=\"translate(0,590)\" d=\"M96,0h508\" style=\"stroke: rgb(255, 255, 255); stroke-opacity: 1; stroke-width: 1px;\"/><path class=\"ygrid crisp\" transform=\"translate(0,556.1300000000001)\" d=\"M96,0h508\" style=\"stroke: rgb(255, 255, 255); stroke-opacity: 1; stroke-width: 1px;\"/><path class=\"ygrid crisp\" transform=\"translate(0,522.2700000000001)\" d=\"M96,0h508\" style=\"stroke: rgb(255, 255, 255); stroke-opacity: 1; stroke-width: 1px;\"/><path class=\"ygrid crisp\" transform=\"translate(0,488.4000000000001)\" d=\"M96,0h508\" style=\"stroke: rgb(255, 255, 255); stroke-opacity: 1; stroke-width: 1px;\"/><path class=\"ygrid crisp\" transform=\"translate(0,454.5300000000001)\" d=\"M96,0h508\" style=\"stroke: rgb(255, 255, 255); stroke-opacity: 1; stroke-width: 1px;\"/><path class=\"ygrid crisp\" transform=\"translate(0,420.6700000000001)\" d=\"M96,0h508\" style=\"stroke: rgb(255, 255, 255); stroke-opacity: 1; stroke-width: 1px;\"/><path class=\"ygrid crisp\" transform=\"translate(0,386.80000000000007)\" d=\"M96,0h508\" style=\"stroke: rgb(255, 255, 255); stroke-opacity: 1; stroke-width: 1px;\"/><path class=\"ygrid crisp\" transform=\"translate(0,352.93000000000006)\" d=\"M96,0h508\" style=\"stroke: rgb(255, 255, 255); stroke-opacity: 1; stroke-width: 1px;\"/></g></g><g class=\"zerolinelayer\"/><path class=\"xlines-below\"/><path class=\"ylines-below\"/><g class=\"overlines-below\"/><g class=\"xaxislayer-below\"/><g class=\"yaxislayer-below\"/><g class=\"overaxes-below\"/><g class=\"plot\" transform=\"translate(96,336.00000000000006)\" clip-path=\"url(#clipd1330bxyplot)\"><g class=\"heatmaplayer mlayer\"><g class=\"hm\"><image xmlns=\"http://www.w3.org/2000/svg\" preserveAspectRatio=\"none\" height=\"508\" width=\"508\" x=\"0\" y=\"0\" xlink:href=\"data:image/png;base64,iVBORw0KGgoAAAANSUhEUgAAAA8AAAAPCAYAAAA71pVKAAAC+ElEQVQ4TyWSS2wbVRiFvztjjx/jiWNjJ2lDSprEaZsCphGLNtmEskAgQCyhW1btAgRIvBYFuuBdEAUFsUAsEFUjWAAFChKP0kVaqYSSlKopTqumsUNw6vjZGY/Hnotmcle//sU5537nFxV7u/xp93OUKjpGtEUkbPNLLsXEQJ3ZFYP9mRIxvYnrCtptFUV1qdWizC0nEDMjH8kHLh3lZOZFNM0hHHL4t9jNxOQCv5/JMtBXJhRyMM0wTlulr3eDfCFNs6khplOfSc/xkdybfDvyEp2OghGzaDkBFOFit4JEozatVgDvua7iz95OfL7tE+k52rbGo0tvUD60n9On9qGqLoriEgh0sO1NAS+6l0wISX4tifhq9JgMBjtslA2mHjxLYvpXTtx+mOHBNRavbqEvVafTVkj3VGlaGnrMolw2mFm8DXFQHJfZlE0q0aDeiGA7Ko/nj/gMRjIrzC8MU7NVUrrjJ1la1xntbbBj5/XN2NnxRf6eH/VpbukrsfZf0mdwvP8wiS4LI2ZiWSFcKXzyXsq6qW06jyVapLtv0e6olOth7t2zxIX5YQ4UjvBpz2u8ahd4L94LEhbWI+y9o8Kd2Rziy9EPZTDQplrT/Uo8UKVyjLhhsVqK8WTxFWb3HvK79UB5AJPJOldy/YhTe96RnmTjVgTTDBHSHG7cNBgbLPLEPw4zuwJMnJvmt3ueBgTbthe4fGmI+Xwc8X32XekV3rSDaFrbV11e7vX/Wanpfuee4H1/fcDXQy+TTleoVmLM3Uggvtn9vrSamn8cXiQPyPrNOJGI7Uft6jLRgh2qtSiPXXud0+NPYZkhrhUNxMm7j0rPZSXfQ5dhEu9u8PP5YfbtWuXHhX6mdhQZHCqwtprGcQJM/XmMH3Y+zx/XE4gvBj+WUgr/itKpKh1XoV7fhOP1unVriUIhhSKkv5MIHlp8m+8yLyCeFSfkWI+Jrjcp16Kc2VB55v7LzF3IMDl5kbOzd3F1I+x3nIw4lMwg4wMVHs69xf8vFFm/io3d2wAAAABJRU5ErkJggg==\" style=\"image-rendering: pixelated; opacity: 1;\"/><g class=\"heatmap-label\"><text text-anchor=\"middle\" data-notex=\"1\" x=\"17\" y=\"18.4\" style=\"font-family: 'Open Sans', verdana, arial, sans-serif; font-size: 4px; fill: rgb(68, 68, 68); fill-opacity: 1; white-space: pre;\">1</text></g><g class=\"heatmap-label\"><text text-anchor=\"middle\" data-notex=\"1\" x=\"51\" y=\"18.4\" style=\"font-family: 'Open Sans', verdana, arial, sans-serif; font-size: 4px; fill: rgb(255, 255, 255); fill-opacity: 1; white-space: pre;\">0.01752633</text></g><g class=\"heatmap-label\"><text text-anchor=\"middle\" data-notex=\"1\" x=\"85\" y=\"18.4\" style=\"font-family: 'Open Sans', verdana, arial, sans-serif; font-size: 4px; fill: rgb(255, 255, 255); fill-opacity: 1; white-space: pre;\">−0.07662808</text></g><g class=\"heatmap-label\"><text text-anchor=\"middle\" data-notex=\"1\" x=\"119\" y=\"18.4\" style=\"font-family: 'Open Sans', verdana, arial, sans-serif; font-size: 4px; fill: rgb(255, 255, 255); fill-opacity: 1; white-space: pre;\">−0.01505772</text></g><g class=\"heatmap-label\"><text text-anchor=\"middle\" data-notex=\"1\" x=\"152\" y=\"18.4\" style=\"font-family: 'Open Sans', verdana, arial, sans-serif; font-size: 4px; fill: rgb(255, 255, 255); fill-opacity: 1; white-space: pre;\">0.03094038</text></g><g class=\"heatmap-label\"><text text-anchor=\"middle\" data-notex=\"1\" x=\"186\" y=\"18.4\" style=\"font-family: 'Open Sans', verdana, arial, sans-serif; font-size: 4px; fill: rgb(255, 255, 255); fill-opacity: 1; white-space: pre;\">−0.2639779</text></g><g class=\"heatmap-label\"><text text-anchor=\"middle\" data-notex=\"1\" x=\"220\" y=\"18.4\" style=\"font-family: 'Open Sans', verdana, arial, sans-serif; font-size: 4px; fill: rgb(255, 255, 255); fill-opacity: 1; white-space: pre;\">−0.0142594</text></g><g class=\"heatmap-label\"><text text-anchor=\"middle\" data-notex=\"1\" x=\"254\" y=\"18.4\" style=\"font-family: 'Open Sans', verdana, arial, sans-serif; font-size: 4px; fill: rgb(255, 255, 255); fill-opacity: 1; white-space: pre;\">−0.2633831</text></g><g class=\"heatmap-label\"><text text-anchor=\"middle\" data-notex=\"1\" x=\"288\" y=\"18.4\" style=\"font-family: 'Open Sans', verdana, arial, sans-serif; font-size: 4px; fill: rgb(255, 255, 255); fill-opacity: 1; white-space: pre;\">0.02842083</text></g><g class=\"heatmap-label\"><text text-anchor=\"middle\" data-notex=\"1\" x=\"322\" y=\"18.4\" style=\"font-family: 'Open Sans', verdana, arial, sans-serif; font-size: 4px; fill: rgb(255, 255, 255); fill-opacity: 1; white-space: pre;\">0.08812002</text></g><g class=\"heatmap-label\"><text text-anchor=\"middle\" data-notex=\"1\" x=\"356\" y=\"18.4\" style=\"font-family: 'Open Sans', verdana, arial, sans-serif; font-size: 4px; fill: rgb(255, 255, 255); fill-opacity: 1; white-space: pre;\">0.07722902</text></g><g class=\"heatmap-label\"><text text-anchor=\"middle\" data-notex=\"1\" x=\"389\" y=\"18.4\" style=\"font-family: 'Open Sans', verdana, arial, sans-serif; font-size: 4px; fill: rgb(255, 255, 255); fill-opacity: 1; white-space: pre;\">0.05694383</text></g><g class=\"heatmap-label\"><text text-anchor=\"middle\" data-notex=\"1\" x=\"423\" y=\"18.4\" style=\"font-family: 'Open Sans', verdana, arial, sans-serif; font-size: 4px; fill: rgb(255, 255, 255); fill-opacity: 1; white-space: pre;\">0.07155834</text></g><g class=\"heatmap-label\"><text text-anchor=\"middle\" data-notex=\"1\" x=\"457\" y=\"18.4\" style=\"font-family: 'Open Sans', verdana, arial, sans-serif; font-size: 4px; fill: rgb(255, 255, 255); fill-opacity: 1; white-space: pre;\">−0.002861005</text></g><g class=\"heatmap-label\"><text text-anchor=\"middle\" data-notex=\"1\" x=\"491\" y=\"18.4\" style=\"font-family: 'Open Sans', verdana, arial, sans-serif; font-size: 4px; fill: rgb(255, 255, 255); fill-opacity: 1; white-space: pre;\">−0.2303695</text></g><g class=\"heatmap-label\"><text text-anchor=\"middle\" data-notex=\"1\" x=\"17\" y=\"52.4\" style=\"font-family: 'Open Sans', verdana, arial, sans-serif; font-size: 4px; fill: rgb(255, 255, 255); fill-opacity: 1; white-space: pre;\">0.01752633</text></g><g class=\"heatmap-label\"><text text-anchor=\"middle\" data-notex=\"1\" x=\"51\" y=\"52.4\" style=\"font-family: 'Open Sans', verdana, arial, sans-serif; font-size: 4px; fill: rgb(68, 68, 68); fill-opacity: 1; white-space: pre;\">1</text></g><g class=\"heatmap-label\"><text text-anchor=\"middle\" data-notex=\"1\" x=\"85\" y=\"52.4\" style=\"font-family: 'Open Sans', verdana, arial, sans-serif; font-size: 4px; fill: rgb(255, 255, 255); fill-opacity: 1; white-space: pre;\">−0.0165459</text></g><g class=\"heatmap-label\"><text text-anchor=\"middle\" data-notex=\"1\" x=\"119\" y=\"52.4\" style=\"font-family: 'Open Sans', verdana, arial, sans-serif; font-size: 4px; fill: rgb(255, 255, 255); fill-opacity: 1; white-space: pre;\">0.01718663</text></g><g class=\"heatmap-label\"><text text-anchor=\"middle\" data-notex=\"1\" x=\"152\" y=\"52.4\" style=\"font-family: 'Open Sans', verdana, arial, sans-serif; font-size: 4px; fill: rgb(255, 255, 255); fill-opacity: 1; white-space: pre;\">0.05591767</text></g><g class=\"heatmap-label\"><text text-anchor=\"middle\" data-notex=\"1\" x=\"186\" y=\"52.4\" style=\"font-family: 'Open Sans', verdana, arial, sans-serif; font-size: 4px; fill: rgb(255, 255, 255); fill-opacity: 1; white-space: pre;\">−0.06844145</text></g><g class=\"heatmap-label\"><text text-anchor=\"middle\" data-notex=\"1\" x=\"220\" y=\"52.4\" style=\"font-family: 'Open Sans', verdana, arial, sans-serif; font-size: 4px; fill: rgb(255, 255, 255); fill-opacity: 1; white-space: pre;\">0.2600047</text></g><g class=\"heatmap-label\"><text text-anchor=\"middle\" data-notex=\"1\" x=\"254\" y=\"52.4\" style=\"font-family: 'Open Sans', verdana, arial, sans-serif; font-size: 4px; fill: rgb(255, 255, 255); fill-opacity: 1; white-space: pre;\">−0.0923646</text></g><g class=\"heatmap-label\"><text text-anchor=\"middle\" data-notex=\"1\" x=\"288\" y=\"52.4\" style=\"font-family: 'Open Sans', verdana, arial, sans-serif; font-size: 4px; fill: rgb(255, 255, 255); fill-opacity: 1; white-space: pre;\">0.05293245</text></g><g class=\"heatmap-label\"><text text-anchor=\"middle\" data-notex=\"1\" x=\"322\" y=\"52.4\" style=\"font-family: 'Open Sans', verdana, arial, sans-serif; font-size: 4px; fill: rgb(255, 255, 255); fill-opacity: 1; white-space: pre;\">0.0912229</text></g><g class=\"heatmap-label\"><text text-anchor=\"middle\" data-notex=\"1\" x=\"356\" y=\"52.4\" style=\"font-family: 'Open Sans', verdana, arial, sans-serif; font-size: 4px; fill: rgb(255, 255, 255); fill-opacity: 1; white-space: pre;\">0.03604411</text></g><g class=\"heatmap-label\"><text text-anchor=\"middle\" data-notex=\"1\" x=\"389\" y=\"52.4\" style=\"font-family: 'Open Sans', verdana, arial, sans-serif; font-size: 4px; fill: rgb(255, 255, 255); fill-opacity: 1; white-space: pre;\">0.0108799</text></g><g class=\"heatmap-label\"><text text-anchor=\"middle\" data-notex=\"1\" x=\"423\" y=\"52.4\" style=\"font-family: 'Open Sans', verdana, arial, sans-serif; font-size: 4px; fill: rgb(255, 255, 255); fill-opacity: 1; white-space: pre;\">0.1412831</text></g><g class=\"heatmap-label\"><text text-anchor=\"middle\" data-notex=\"1\" x=\"457\" y=\"52.4\" style=\"font-family: 'Open Sans', verdana, arial, sans-serif; font-size: 4px; fill: rgb(255, 255, 255); fill-opacity: 1; white-space: pre;\">−0.008630652</text></g><g class=\"heatmap-label\"><text text-anchor=\"middle\" data-notex=\"1\" x=\"491\" y=\"52.4\" style=\"font-family: 'Open Sans', verdana, arial, sans-serif; font-size: 4px; fill: rgb(255, 255, 255); fill-opacity: 1; white-space: pre;\">−0.05267409</text></g><g class=\"heatmap-label\"><text text-anchor=\"middle\" data-notex=\"1\" x=\"17\" y=\"86.4\" style=\"font-family: 'Open Sans', verdana, arial, sans-serif; font-size: 4px; fill: rgb(255, 255, 255); fill-opacity: 1; white-space: pre;\">−0.07662808</text></g><g class=\"heatmap-label\"><text text-anchor=\"middle\" data-notex=\"1\" x=\"51\" y=\"86.4\" style=\"font-family: 'Open Sans', verdana, arial, sans-serif; font-size: 4px; fill: rgb(255, 255, 255); fill-opacity: 1; white-space: pre;\">−0.0165459</text></g><g class=\"heatmap-label\"><text text-anchor=\"middle\" data-notex=\"1\" x=\"85\" y=\"86.4\" style=\"font-family: 'Open Sans', verdana, arial, sans-serif; font-size: 4px; fill: rgb(68, 68, 68); fill-opacity: 1; white-space: pre;\">1</text></g><g class=\"heatmap-label\"><text text-anchor=\"middle\" data-notex=\"1\" x=\"119\" y=\"86.4\" style=\"font-family: 'Open Sans', verdana, arial, sans-serif; font-size: 4px; fill: rgb(255, 255, 255); fill-opacity: 1; white-space: pre;\">−0.02257046</text></g><g class=\"heatmap-label\"><text text-anchor=\"middle\" data-notex=\"1\" x=\"152\" y=\"86.4\" style=\"font-family: 'Open Sans', verdana, arial, sans-serif; font-size: 4px; fill: rgb(255, 255, 255); fill-opacity: 1; white-space: pre;\">−0.03876068</text></g><g class=\"heatmap-label\"><text text-anchor=\"middle\" data-notex=\"1\" x=\"186\" y=\"86.4\" style=\"font-family: 'Open Sans', verdana, arial, sans-serif; font-size: 4px; fill: rgb(255, 255, 255); fill-opacity: 1; white-space: pre;\">0.02985117</text></g><g class=\"heatmap-label\"><text text-anchor=\"middle\" data-notex=\"1\" x=\"220\" y=\"86.4\" style=\"font-family: 'Open Sans', verdana, arial, sans-serif; font-size: 4px; fill: rgb(255, 255, 255); fill-opacity: 1; white-space: pre;\">860.4512μ</text></g><g class=\"heatmap-label\"><text text-anchor=\"middle\" data-notex=\"1\" x=\"254\" y=\"86.4\" style=\"font-family: 'Open Sans', verdana, arial, sans-serif; font-size: 4px; fill: rgb(255, 255, 255); fill-opacity: 1; white-space: pre;\">0.009092094</text></g><g class=\"heatmap-label\"><text text-anchor=\"middle\" data-notex=\"1\" x=\"288\" y=\"86.4\" style=\"font-family: 'Open Sans', verdana, arial, sans-serif; font-size: 4px; fill: rgb(255, 255, 255); fill-opacity: 1; white-space: pre;\">−0.02706228</text></g><g class=\"heatmap-label\"><text text-anchor=\"middle\" data-notex=\"1\" x=\"322\" y=\"86.4\" style=\"font-family: 'Open Sans', verdana, arial, sans-serif; font-size: 4px; fill: rgb(255, 255, 255); fill-opacity: 1; white-space: pre;\">0.027739</text></g><g class=\"heatmap-label\"><text text-anchor=\"middle\" data-notex=\"1\" x=\"356\" y=\"86.4\" style=\"font-family: 'Open Sans', verdana, arial, sans-serif; font-size: 4px; fill: rgb(255, 255, 255); fill-opacity: 1; white-space: pre;\">−0.003706389</text></g><g class=\"heatmap-label\"><text text-anchor=\"middle\" data-notex=\"1\" x=\"389\" y=\"86.4\" style=\"font-family: 'Open Sans', verdana, arial, sans-serif; font-size: 4px; fill: rgb(255, 255, 255); fill-opacity: 1; white-space: pre;\">−0.00436615</text></g><g class=\"heatmap-label\"><text text-anchor=\"middle\" data-notex=\"1\" x=\"423\" y=\"86.4\" style=\"font-family: 'Open Sans', verdana, arial, sans-serif; font-size: 4px; fill: rgb(255, 255, 255); fill-opacity: 1; white-space: pre;\">−0.01351871</text></g><g class=\"heatmap-label\"><text text-anchor=\"middle\" data-notex=\"1\" x=\"457\" y=\"86.4\" style=\"font-family: 'Open Sans', verdana, arial, sans-serif; font-size: 4px; fill: rgb(255, 255, 255); fill-opacity: 1; white-space: pre;\">−0.04867973</text></g><g class=\"heatmap-label\"><text text-anchor=\"middle\" data-notex=\"1\" x=\"491\" y=\"86.4\" style=\"font-family: 'Open Sans', verdana, arial, sans-serif; font-size: 4px; fill: rgb(255, 255, 255); fill-opacity: 1; white-space: pre;\">0.00633886</text></g><g class=\"heatmap-label\"><text text-anchor=\"middle\" data-notex=\"1\" x=\"17\" y=\"120.4\" style=\"font-family: 'Open Sans', verdana, arial, sans-serif; font-size: 4px; fill: rgb(255, 255, 255); fill-opacity: 1; white-space: pre;\">−0.01505772</text></g><g class=\"heatmap-label\"><text text-anchor=\"middle\" data-notex=\"1\" x=\"51\" y=\"120.4\" style=\"font-family: 'Open Sans', verdana, arial, sans-serif; font-size: 4px; fill: rgb(255, 255, 255); fill-opacity: 1; white-space: pre;\">0.01718663</text></g><g class=\"heatmap-label\"><text text-anchor=\"middle\" data-notex=\"1\" x=\"85\" y=\"120.4\" style=\"font-family: 'Open Sans', verdana, arial, sans-serif; font-size: 4px; fill: rgb(255, 255, 255); fill-opacity: 1; white-space: pre;\">−0.02257046</text></g><g class=\"heatmap-label\"><text text-anchor=\"middle\" data-notex=\"1\" x=\"119\" y=\"120.4\" style=\"font-family: 'Open Sans', verdana, arial, sans-serif; font-size: 4px; fill: rgb(68, 68, 68); fill-opacity: 1; white-space: pre;\">1</text></g><g class=\"heatmap-label\"><text text-anchor=\"middle\" data-notex=\"1\" x=\"152\" y=\"120.4\" style=\"font-family: 'Open Sans', verdana, arial, sans-serif; font-size: 4px; fill: rgb(68, 68, 68); fill-opacity: 1; white-space: pre;\">0.3596677</text></g><g class=\"heatmap-label\"><text text-anchor=\"middle\" data-notex=\"1\" x=\"186\" y=\"120.4\" style=\"font-family: 'Open Sans', verdana, arial, sans-serif; font-size: 4px; fill: rgb(255, 255, 255); fill-opacity: 1; white-space: pre;\">−0.03741679</text></g><g class=\"heatmap-label\"><text text-anchor=\"middle\" data-notex=\"1\" x=\"220\" y=\"120.4\" style=\"font-family: 'Open Sans', verdana, arial, sans-serif; font-size: 4px; fill: rgb(255, 255, 255); fill-opacity: 1; white-space: pre;\">−0.02097173</text></g><g class=\"heatmap-label\"><text text-anchor=\"middle\" data-notex=\"1\" x=\"254\" y=\"120.4\" style=\"font-family: 'Open Sans', verdana, arial, sans-serif; font-size: 4px; fill: rgb(255, 255, 255); fill-opacity: 1; white-space: pre;\">−0.01075783</text></g><g class=\"heatmap-label\"><text text-anchor=\"middle\" data-notex=\"1\" x=\"288\" y=\"120.4\" style=\"font-family: 'Open Sans', verdana, arial, sans-serif; font-size: 4px; fill: rgb(255, 255, 255); fill-opacity: 1; white-space: pre;\">0.01324979</text></g><g class=\"heatmap-label\"><text text-anchor=\"middle\" data-notex=\"1\" x=\"322\" y=\"120.4\" style=\"font-family: 'Open Sans', verdana, arial, sans-serif; font-size: 4px; fill: rgb(255, 255, 255); fill-opacity: 1; white-space: pre;\">−0.02704069</text></g><g class=\"heatmap-label\"><text text-anchor=\"middle\" data-notex=\"1\" x=\"356\" y=\"120.4\" style=\"font-family: 'Open Sans', verdana, arial, sans-serif; font-size: 4px; fill: rgb(255, 255, 255); fill-opacity: 1; white-space: pre;\">0.02892751</text></g><g class=\"heatmap-label\"><text text-anchor=\"middle\" data-notex=\"1\" x=\"389\" y=\"120.4\" style=\"font-family: 'Open Sans', verdana, arial, sans-serif; font-size: 4px; fill: rgb(255, 255, 255); fill-opacity: 1; white-space: pre;\">0.01763837</text></g><g class=\"heatmap-label\"><text text-anchor=\"middle\" data-notex=\"1\" x=\"423\" y=\"120.4\" style=\"font-family: 'Open Sans', verdana, arial, sans-serif; font-size: 4px; fill: rgb(255, 255, 255); fill-opacity: 1; white-space: pre;\">0.05765868</text></g><g class=\"heatmap-label\"><text text-anchor=\"middle\" data-notex=\"1\" x=\"457\" y=\"120.4\" style=\"font-family: 'Open Sans', verdana, arial, sans-serif; font-size: 4px; fill: rgb(255, 255, 255); fill-opacity: 1; white-space: pre;\">0.06146887</text></g><g class=\"heatmap-label\"><text text-anchor=\"middle\" data-notex=\"1\" x=\"491\" y=\"120.4\" style=\"font-family: 'Open Sans', verdana, arial, sans-serif; font-size: 4px; fill: rgb(255, 255, 255); fill-opacity: 1; white-space: pre;\">−0.08009053</text></g><g class=\"heatmap-label\"><text text-anchor=\"middle\" data-notex=\"1\" x=\"17\" y=\"153.4\" style=\"font-family: 'Open Sans', verdana, arial, sans-serif; font-size: 4px; fill: rgb(255, 255, 255); fill-opacity: 1; white-space: pre;\">0.03094038</text></g><g class=\"heatmap-label\"><text text-anchor=\"middle\" data-notex=\"1\" x=\"51\" y=\"153.4\" style=\"font-family: 'Open Sans', verdana, arial, sans-serif; font-size: 4px; fill: rgb(255, 255, 255); fill-opacity: 1; white-space: pre;\">0.05591767</text></g><g class=\"heatmap-label\"><text text-anchor=\"middle\" data-notex=\"1\" x=\"85\" y=\"153.4\" style=\"font-family: 'Open Sans', verdana, arial, sans-serif; font-size: 4px; fill: rgb(255, 255, 255); fill-opacity: 1; white-space: pre;\">−0.03876068</text></g><g class=\"heatmap-label\"><text text-anchor=\"middle\" data-notex=\"1\" x=\"119\" y=\"153.4\" style=\"font-family: 'Open Sans', verdana, arial, sans-serif; font-size: 4px; fill: rgb(68, 68, 68); fill-opacity: 1; white-space: pre;\">0.3596677</text></g><g class=\"heatmap-label\"><text text-anchor=\"middle\" data-notex=\"1\" x=\"152\" y=\"153.4\" style=\"font-family: 'Open Sans', verdana, arial, sans-serif; font-size: 4px; fill: rgb(68, 68, 68); fill-opacity: 1; white-space: pre;\">1</text></g><g class=\"heatmap-label\"><text text-anchor=\"middle\" data-notex=\"1\" x=\"186\" y=\"153.4\" style=\"font-family: 'Open Sans', verdana, arial, sans-serif; font-size: 4px; fill: rgb(255, 255, 255); fill-opacity: 1; white-space: pre;\">−0.06999196</text></g><g class=\"heatmap-label\"><text text-anchor=\"middle\" data-notex=\"1\" x=\"220\" y=\"153.4\" style=\"font-family: 'Open Sans', verdana, arial, sans-serif; font-size: 4px; fill: rgb(255, 255, 255); fill-opacity: 1; white-space: pre;\">0.1122654</text></g><g class=\"heatmap-label\"><text text-anchor=\"middle\" data-notex=\"1\" x=\"254\" y=\"153.4\" style=\"font-family: 'Open Sans', verdana, arial, sans-serif; font-size: 4px; fill: rgb(255, 255, 255); fill-opacity: 1; white-space: pre;\">−0.09053417</text></g><g class=\"heatmap-label\"><text text-anchor=\"middle\" data-notex=\"1\" x=\"288\" y=\"153.4\" style=\"font-family: 'Open Sans', verdana, arial, sans-serif; font-size: 4px; fill: rgb(255, 255, 255); fill-opacity: 1; white-space: pre;\">0.02923904</text></g><g class=\"heatmap-label\"><text text-anchor=\"middle\" data-notex=\"1\" x=\"322\" y=\"153.4\" style=\"font-family: 'Open Sans', verdana, arial, sans-serif; font-size: 4px; fill: rgb(255, 255, 255); fill-opacity: 1; white-space: pre;\">0.009328018</text></g><g class=\"heatmap-label\"><text text-anchor=\"middle\" data-notex=\"1\" x=\"356\" y=\"153.4\" style=\"font-family: 'Open Sans', verdana, arial, sans-serif; font-size: 4px; fill: rgb(255, 255, 255); fill-opacity: 1; white-space: pre;\">0.1251465</text></g><g class=\"heatmap-label\"><text text-anchor=\"middle\" data-notex=\"1\" x=\"389\" y=\"153.4\" style=\"font-family: 'Open Sans', verdana, arial, sans-serif; font-size: 4px; fill: rgb(255, 255, 255); fill-opacity: 1; white-space: pre;\">0.08097194</text></g><g class=\"heatmap-label\"><text text-anchor=\"middle\" data-notex=\"1\" x=\"423\" y=\"153.4\" style=\"font-family: 'Open Sans', verdana, arial, sans-serif; font-size: 4px; fill: rgb(255, 255, 255); fill-opacity: 1; white-space: pre;\">0.1436889</text></g><g class=\"heatmap-label\"><text text-anchor=\"middle\" data-notex=\"1\" x=\"457\" y=\"153.4\" style=\"font-family: 'Open Sans', verdana, arial, sans-serif; font-size: 4px; fill: rgb(255, 255, 255); fill-opacity: 1; white-space: pre;\">0.04910677</text></g><g class=\"heatmap-label\"><text text-anchor=\"middle\" data-notex=\"1\" x=\"491\" y=\"153.4\" style=\"font-family: 'Open Sans', verdana, arial, sans-serif; font-size: 4px; fill: rgb(255, 255, 255); fill-opacity: 1; white-space: pre;\">−0.3326131</text></g><g class=\"heatmap-label\"><text text-anchor=\"middle\" data-notex=\"1\" x=\"17\" y=\"187.4\" style=\"font-family: 'Open Sans', verdana, arial, sans-serif; font-size: 4px; fill: rgb(255, 255, 255); fill-opacity: 1; white-space: pre;\">−0.2639779</text></g><g class=\"heatmap-label\"><text text-anchor=\"middle\" data-notex=\"1\" x=\"51\" y=\"187.4\" style=\"font-family: 'Open Sans', verdana, arial, sans-serif; font-size: 4px; fill: rgb(255, 255, 255); fill-opacity: 1; white-space: pre;\">−0.06844145</text></g><g class=\"heatmap-label\"><text text-anchor=\"middle\" data-notex=\"1\" x=\"85\" y=\"187.4\" style=\"font-family: 'Open Sans', verdana, arial, sans-serif; font-size: 4px; fill: rgb(255, 255, 255); fill-opacity: 1; white-space: pre;\">0.02985117</text></g><g class=\"heatmap-label\"><text text-anchor=\"middle\" data-notex=\"1\" x=\"119\" y=\"187.4\" style=\"font-family: 'Open Sans', verdana, arial, sans-serif; font-size: 4px; fill: rgb(255, 255, 255); fill-opacity: 1; white-space: pre;\">−0.03741679</text></g><g class=\"heatmap-label\"><text text-anchor=\"middle\" data-notex=\"1\" x=\"152\" y=\"187.4\" style=\"font-family: 'Open Sans', verdana, arial, sans-serif; font-size: 4px; fill: rgb(255, 255, 255); fill-opacity: 1; white-space: pre;\">−0.06999196</text></g><g class=\"heatmap-label\"><text text-anchor=\"middle\" data-notex=\"1\" x=\"186\" y=\"187.4\" style=\"font-family: 'Open Sans', verdana, arial, sans-serif; font-size: 4px; fill: rgb(68, 68, 68); fill-opacity: 1; white-space: pre;\">1</text></g><g class=\"heatmap-label\"><text text-anchor=\"middle\" data-notex=\"1\" x=\"220\" y=\"187.4\" style=\"font-family: 'Open Sans', verdana, arial, sans-serif; font-size: 4px; fill: rgb(255, 255, 255); fill-opacity: 1; white-space: pre;\">−0.0171789</text></g><g class=\"heatmap-label\"><text text-anchor=\"middle\" data-notex=\"1\" x=\"254\" y=\"187.4\" style=\"font-family: 'Open Sans', verdana, arial, sans-serif; font-size: 4px; fill: rgb(255, 255, 255); fill-opacity: 1; white-space: pre;\">0.1878003</text></g><g class=\"heatmap-label\"><text text-anchor=\"middle\" data-notex=\"1\" x=\"288\" y=\"187.4\" style=\"font-family: 'Open Sans', verdana, arial, sans-serif; font-size: 4px; fill: rgb(255, 255, 255); fill-opacity: 1; white-space: pre;\">−0.07010353</text></g><g class=\"heatmap-label\"><text text-anchor=\"middle\" data-notex=\"1\" x=\"322\" y=\"187.4\" style=\"font-family: 'Open Sans', verdana, arial, sans-serif; font-size: 4px; fill: rgb(255, 255, 255); fill-opacity: 1; white-space: pre;\">−0.1274795</text></g><g class=\"heatmap-label\"><text text-anchor=\"middle\" data-notex=\"1\" x=\"356\" y=\"187.4\" style=\"font-family: 'Open Sans', verdana, arial, sans-serif; font-size: 4px; fill: rgb(255, 255, 255); fill-opacity: 1; white-space: pre;\">−0.04396935</text></g><g class=\"heatmap-label\"><text text-anchor=\"middle\" data-notex=\"1\" x=\"389\" y=\"187.4\" style=\"font-family: 'Open Sans', verdana, arial, sans-serif; font-size: 4px; fill: rgb(255, 255, 255); fill-opacity: 1; white-space: pre;\">−0.03387159</text></g><g class=\"heatmap-label\"><text text-anchor=\"middle\" data-notex=\"1\" x=\"423\" y=\"187.4\" style=\"font-family: 'Open Sans', verdana, arial, sans-serif; font-size: 4px; fill: rgb(255, 255, 255); fill-opacity: 1; white-space: pre;\">−0.1855671</text></g><g class=\"heatmap-label\"><text text-anchor=\"middle\" data-notex=\"1\" x=\"457\" y=\"187.4\" style=\"font-family: 'Open Sans', verdana, arial, sans-serif; font-size: 4px; fill: rgb(255, 255, 255); fill-opacity: 1; white-space: pre;\">−0.02137469</text></g><g class=\"heatmap-label\"><text text-anchor=\"middle\" data-notex=\"1\" x=\"491\" y=\"187.4\" style=\"font-family: 'Open Sans', verdana, arial, sans-serif; font-size: 4px; fill: rgb(255, 255, 255); fill-opacity: 1; white-space: pre;\">0.1990718</text></g><g class=\"heatmap-label\"><text text-anchor=\"middle\" data-notex=\"1\" x=\"17\" y=\"221.4\" style=\"font-family: 'Open Sans', verdana, arial, sans-serif; font-size: 4px; fill: rgb(255, 255, 255); fill-opacity: 1; white-space: pre;\">−0.0142594</text></g><g class=\"heatmap-label\"><text text-anchor=\"middle\" data-notex=\"1\" x=\"51\" y=\"221.4\" style=\"font-family: 'Open Sans', verdana, arial, sans-serif; font-size: 4px; fill: rgb(255, 255, 255); fill-opacity: 1; white-space: pre;\">0.2600047</text></g><g class=\"heatmap-label\"><text text-anchor=\"middle\" data-notex=\"1\" x=\"85\" y=\"221.4\" style=\"font-family: 'Open Sans', verdana, arial, sans-serif; font-size: 4px; fill: rgb(255, 255, 255); fill-opacity: 1; white-space: pre;\">860.4512μ</text></g><g class=\"heatmap-label\"><text text-anchor=\"middle\" data-notex=\"1\" x=\"119\" y=\"221.4\" style=\"font-family: 'Open Sans', verdana, arial, sans-serif; font-size: 4px; fill: rgb(255, 255, 255); fill-opacity: 1; white-space: pre;\">−0.02097173</text></g><g class=\"heatmap-label\"><text text-anchor=\"middle\" data-notex=\"1\" x=\"152\" y=\"221.4\" style=\"font-family: 'Open Sans', verdana, arial, sans-serif; font-size: 4px; fill: rgb(255, 255, 255); fill-opacity: 1; white-space: pre;\">0.1122654</text></g><g class=\"heatmap-label\"><text text-anchor=\"middle\" data-notex=\"1\" x=\"186\" y=\"221.4\" style=\"font-family: 'Open Sans', verdana, arial, sans-serif; font-size: 4px; fill: rgb(255, 255, 255); fill-opacity: 1; white-space: pre;\">−0.0171789</text></g><g class=\"heatmap-label\"><text text-anchor=\"middle\" data-notex=\"1\" x=\"220\" y=\"221.4\" style=\"font-family: 'Open Sans', verdana, arial, sans-serif; font-size: 4px; fill: rgb(68, 68, 68); fill-opacity: 1; white-space: pre;\">1</text></g><g class=\"heatmap-label\"><text text-anchor=\"middle\" data-notex=\"1\" x=\"254\" y=\"221.4\" style=\"font-family: 'Open Sans', verdana, arial, sans-serif; font-size: 4px; fill: rgb(255, 255, 255); fill-opacity: 1; white-space: pre;\">−0.0763556</text></g><g class=\"heatmap-label\"><text text-anchor=\"middle\" data-notex=\"1\" x=\"288\" y=\"221.4\" style=\"font-family: 'Open Sans', verdana, arial, sans-serif; font-size: 4px; fill: rgb(255, 255, 255); fill-opacity: 1; white-space: pre;\">0.005670736</text></g><g class=\"heatmap-label\"><text text-anchor=\"middle\" data-notex=\"1\" x=\"322\" y=\"221.4\" style=\"font-family: 'Open Sans', verdana, arial, sans-serif; font-size: 4px; fill: rgb(255, 255, 255); fill-opacity: 1; white-space: pre;\">0.07508061</text></g><g class=\"heatmap-label\"><text text-anchor=\"middle\" data-notex=\"1\" x=\"356\" y=\"221.4\" style=\"font-family: 'Open Sans', verdana, arial, sans-serif; font-size: 4px; fill: rgb(255, 255, 255); fill-opacity: 1; white-space: pre;\">0.02416253</text></g><g class=\"heatmap-label\"><text text-anchor=\"middle\" data-notex=\"1\" x=\"389\" y=\"221.4\" style=\"font-family: 'Open Sans', verdana, arial, sans-serif; font-size: 4px; fill: rgb(255, 255, 255); fill-opacity: 1; white-space: pre;\">0.01718006</text></g><g class=\"heatmap-label\"><text text-anchor=\"middle\" data-notex=\"1\" x=\"423\" y=\"221.4\" style=\"font-family: 'Open Sans', verdana, arial, sans-serif; font-size: 4px; fill: rgb(255, 255, 255); fill-opacity: 1; white-space: pre;\">0.07998639</text></g><g class=\"heatmap-label\"><text text-anchor=\"middle\" data-notex=\"1\" x=\"457\" y=\"221.4\" style=\"font-family: 'Open Sans', verdana, arial, sans-serif; font-size: 4px; fill: rgb(255, 255, 255); fill-opacity: 1; white-space: pre;\">−0.0134236</text></g><g class=\"heatmap-label\"><text text-anchor=\"middle\" data-notex=\"1\" x=\"491\" y=\"221.4\" style=\"font-family: 'Open Sans', verdana, arial, sans-serif; font-size: 4px; fill: rgb(255, 255, 255); fill-opacity: 1; white-space: pre;\">−0.07672172</text></g><g class=\"heatmap-label\"><text text-anchor=\"middle\" data-notex=\"1\" x=\"17\" y=\"255.4\" style=\"font-family: 'Open Sans', verdana, arial, sans-serif; font-size: 4px; fill: rgb(255, 255, 255); fill-opacity: 1; white-space: pre;\">−0.2633831</text></g><g class=\"heatmap-label\"><text text-anchor=\"middle\" data-notex=\"1\" x=\"51\" y=\"255.4\" style=\"font-family: 'Open Sans', verdana, arial, sans-serif; font-size: 4px; fill: rgb(255, 255, 255); fill-opacity: 1; white-space: pre;\">−0.0923646</text></g><g class=\"heatmap-label\"><text text-anchor=\"middle\" data-notex=\"1\" x=\"85\" y=\"255.4\" style=\"font-family: 'Open Sans', verdana, arial, sans-serif; font-size: 4px; fill: rgb(255, 255, 255); fill-opacity: 1; white-space: pre;\">0.009092094</text></g><g class=\"heatmap-label\"><text text-anchor=\"middle\" data-notex=\"1\" x=\"119\" y=\"255.4\" style=\"font-family: 'Open Sans', verdana, arial, sans-serif; font-size: 4px; fill: rgb(255, 255, 255); fill-opacity: 1; white-space: pre;\">−0.01075783</text></g><g class=\"heatmap-label\"><text text-anchor=\"middle\" data-notex=\"1\" x=\"152\" y=\"255.4\" style=\"font-family: 'Open Sans', verdana, arial, sans-serif; font-size: 4px; fill: rgb(255, 255, 255); fill-opacity: 1; white-space: pre;\">−0.09053417</text></g><g class=\"heatmap-label\"><text text-anchor=\"middle\" data-notex=\"1\" x=\"186\" y=\"255.4\" style=\"font-family: 'Open Sans', verdana, arial, sans-serif; font-size: 4px; fill: rgb(255, 255, 255); fill-opacity: 1; white-space: pre;\">0.1878003</text></g><g class=\"heatmap-label\"><text text-anchor=\"middle\" data-notex=\"1\" x=\"220\" y=\"255.4\" style=\"font-family: 'Open Sans', verdana, arial, sans-serif; font-size: 4px; fill: rgb(255, 255, 255); fill-opacity: 1; white-space: pre;\">−0.0763556</text></g><g class=\"heatmap-label\"><text text-anchor=\"middle\" data-notex=\"1\" x=\"254\" y=\"255.4\" style=\"font-family: 'Open Sans', verdana, arial, sans-serif; font-size: 4px; fill: rgb(68, 68, 68); fill-opacity: 1; white-space: pre;\">1</text></g><g class=\"heatmap-label\"><text text-anchor=\"middle\" data-notex=\"1\" x=\"288\" y=\"255.4\" style=\"font-family: 'Open Sans', verdana, arial, sans-serif; font-size: 4px; fill: rgb(255, 255, 255); fill-opacity: 1; white-space: pre;\">−0.117041</text></g><g class=\"heatmap-label\"><text text-anchor=\"middle\" data-notex=\"1\" x=\"322\" y=\"255.4\" style=\"font-family: 'Open Sans', verdana, arial, sans-serif; font-size: 4px; fill: rgb(255, 255, 255); fill-opacity: 1; white-space: pre;\">−0.5797969</text></g><g class=\"heatmap-label\"><text text-anchor=\"middle\" data-notex=\"1\" x=\"356\" y=\"255.4\" style=\"font-family: 'Open Sans', verdana, arial, sans-serif; font-size: 4px; fill: rgb(255, 255, 255); fill-opacity: 1; white-space: pre;\">−0.05651026</text></g><g class=\"heatmap-label\"><text text-anchor=\"middle\" data-notex=\"1\" x=\"389\" y=\"255.4\" style=\"font-family: 'Open Sans', verdana, arial, sans-serif; font-size: 4px; fill: rgb(255, 255, 255); fill-opacity: 1; white-space: pre;\">−0.0572008</text></g><g class=\"heatmap-label\"><text text-anchor=\"middle\" data-notex=\"1\" x=\"423\" y=\"255.4\" style=\"font-family: 'Open Sans', verdana, arial, sans-serif; font-size: 4px; fill: rgb(255, 255, 255); fill-opacity: 1; white-space: pre;\">−0.2504005</text></g><g class=\"heatmap-label\"><text text-anchor=\"middle\" data-notex=\"1\" x=\"457\" y=\"255.4\" style=\"font-family: 'Open Sans', verdana, arial, sans-serif; font-size: 4px; fill: rgb(255, 255, 255); fill-opacity: 1; white-space: pre;\">−0.003961513</text></g><g class=\"heatmap-label\"><text text-anchor=\"middle\" data-notex=\"1\" x=\"491\" y=\"255.4\" style=\"font-family: 'Open Sans', verdana, arial, sans-serif; font-size: 4px; fill: rgb(255, 255, 255); fill-opacity: 1; white-space: pre;\">0.2532136</text></g><g class=\"heatmap-label\"><text text-anchor=\"middle\" data-notex=\"1\" x=\"17\" y=\"289.4\" style=\"font-family: 'Open Sans', verdana, arial, sans-serif; font-size: 4px; fill: rgb(255, 255, 255); fill-opacity: 1; white-space: pre;\">0.02842083</text></g><g class=\"heatmap-label\"><text text-anchor=\"middle\" data-notex=\"1\" x=\"51\" y=\"289.4\" style=\"font-family: 'Open Sans', verdana, arial, sans-serif; font-size: 4px; fill: rgb(255, 255, 255); fill-opacity: 1; white-space: pre;\">0.05293245</text></g><g class=\"heatmap-label\"><text text-anchor=\"middle\" data-notex=\"1\" x=\"85\" y=\"289.4\" style=\"font-family: 'Open Sans', verdana, arial, sans-serif; font-size: 4px; fill: rgb(255, 255, 255); fill-opacity: 1; white-space: pre;\">−0.02706228</text></g><g class=\"heatmap-label\"><text text-anchor=\"middle\" data-notex=\"1\" x=\"119\" y=\"289.4\" style=\"font-family: 'Open Sans', verdana, arial, sans-serif; font-size: 4px; fill: rgb(255, 255, 255); fill-opacity: 1; white-space: pre;\">0.01324979</text></g><g class=\"heatmap-label\"><text text-anchor=\"middle\" data-notex=\"1\" x=\"152\" y=\"289.4\" style=\"font-family: 'Open Sans', verdana, arial, sans-serif; font-size: 4px; fill: rgb(255, 255, 255); fill-opacity: 1; white-space: pre;\">0.02923904</text></g><g class=\"heatmap-label\"><text text-anchor=\"middle\" data-notex=\"1\" x=\"186\" y=\"289.4\" style=\"font-family: 'Open Sans', verdana, arial, sans-serif; font-size: 4px; fill: rgb(255, 255, 255); fill-opacity: 1; white-space: pre;\">−0.07010353</text></g><g class=\"heatmap-label\"><text text-anchor=\"middle\" data-notex=\"1\" x=\"220\" y=\"289.4\" style=\"font-family: 'Open Sans', verdana, arial, sans-serif; font-size: 4px; fill: rgb(255, 255, 255); fill-opacity: 1; white-space: pre;\">0.005670736</text></g><g class=\"heatmap-label\"><text text-anchor=\"middle\" data-notex=\"1\" x=\"254\" y=\"289.4\" style=\"font-family: 'Open Sans', verdana, arial, sans-serif; font-size: 4px; fill: rgb(255, 255, 255); fill-opacity: 1; white-space: pre;\">−0.117041</text></g><g class=\"heatmap-label\"><text text-anchor=\"middle\" data-notex=\"1\" x=\"288\" y=\"289.4\" style=\"font-family: 'Open Sans', verdana, arial, sans-serif; font-size: 4px; fill: rgb(68, 68, 68); fill-opacity: 1; white-space: pre;\">1</text></g><g class=\"heatmap-label\"><text text-anchor=\"middle\" data-notex=\"1\" x=\"322\" y=\"289.4\" style=\"font-family: 'Open Sans', verdana, arial, sans-serif; font-size: 4px; fill: rgb(255, 255, 255); fill-opacity: 1; white-space: pre;\">0.08673414</text></g><g class=\"heatmap-label\"><text text-anchor=\"middle\" data-notex=\"1\" x=\"356\" y=\"289.4\" style=\"font-family: 'Open Sans', verdana, arial, sans-serif; font-size: 4px; fill: rgb(255, 255, 255); fill-opacity: 1; white-space: pre;\">0.01158062</text></g><g class=\"heatmap-label\"><text text-anchor=\"middle\" data-notex=\"1\" x=\"389\" y=\"289.4\" style=\"font-family: 'Open Sans', verdana, arial, sans-serif; font-size: 4px; fill: rgb(255, 255, 255); fill-opacity: 1; white-space: pre;\">0.01859466</text></g><g class=\"heatmap-label\"><text text-anchor=\"middle\" data-notex=\"1\" x=\"423\" y=\"289.4\" style=\"font-family: 'Open Sans', verdana, arial, sans-serif; font-size: 4px; fill: rgb(255, 255, 255); fill-opacity: 1; white-space: pre;\">0.03969356</text></g><g class=\"heatmap-label\"><text text-anchor=\"middle\" data-notex=\"1\" x=\"457\" y=\"289.4\" style=\"font-family: 'Open Sans', verdana, arial, sans-serif; font-size: 4px; fill: rgb(255, 255, 255); fill-opacity: 1; white-space: pre;\">0.1382314</text></g><g class=\"heatmap-label\"><text text-anchor=\"middle\" data-notex=\"1\" x=\"491\" y=\"289.4\" style=\"font-family: 'Open Sans', verdana, arial, sans-serif; font-size: 4px; fill: rgb(255, 255, 255); fill-opacity: 1; white-space: pre;\">−0.07093429</text></g><g class=\"heatmap-label\"><text text-anchor=\"middle\" data-notex=\"1\" x=\"17\" y=\"323.4\" style=\"font-family: 'Open Sans', verdana, arial, sans-serif; font-size: 4px; fill: rgb(255, 255, 255); fill-opacity: 1; white-space: pre;\">0.08812002</text></g><g class=\"heatmap-label\"><text text-anchor=\"middle\" data-notex=\"1\" x=\"51\" y=\"323.4\" style=\"font-family: 'Open Sans', verdana, arial, sans-serif; font-size: 4px; fill: rgb(255, 255, 255); fill-opacity: 1; white-space: pre;\">0.0912229</text></g><g class=\"heatmap-label\"><text text-anchor=\"middle\" data-notex=\"1\" x=\"85\" y=\"323.4\" style=\"font-family: 'Open Sans', verdana, arial, sans-serif; font-size: 4px; fill: rgb(255, 255, 255); fill-opacity: 1; white-space: pre;\">0.027739</text></g><g class=\"heatmap-label\"><text text-anchor=\"middle\" data-notex=\"1\" x=\"119\" y=\"323.4\" style=\"font-family: 'Open Sans', verdana, arial, sans-serif; font-size: 4px; fill: rgb(255, 255, 255); fill-opacity: 1; white-space: pre;\">−0.02704069</text></g><g class=\"heatmap-label\"><text text-anchor=\"middle\" data-notex=\"1\" x=\"152\" y=\"323.4\" style=\"font-family: 'Open Sans', verdana, arial, sans-serif; font-size: 4px; fill: rgb(255, 255, 255); fill-opacity: 1; white-space: pre;\">0.009328018</text></g><g class=\"heatmap-label\"><text text-anchor=\"middle\" data-notex=\"1\" x=\"186\" y=\"323.4\" style=\"font-family: 'Open Sans', verdana, arial, sans-serif; font-size: 4px; fill: rgb(255, 255, 255); fill-opacity: 1; white-space: pre;\">−0.1274795</text></g><g class=\"heatmap-label\"><text text-anchor=\"middle\" data-notex=\"1\" x=\"220\" y=\"323.4\" style=\"font-family: 'Open Sans', verdana, arial, sans-serif; font-size: 4px; fill: rgb(255, 255, 255); fill-opacity: 1; white-space: pre;\">0.07508061</text></g><g class=\"heatmap-label\"><text text-anchor=\"middle\" data-notex=\"1\" x=\"254\" y=\"323.4\" style=\"font-family: 'Open Sans', verdana, arial, sans-serif; font-size: 4px; fill: rgb(255, 255, 255); fill-opacity: 1; white-space: pre;\">−0.5797969</text></g><g class=\"heatmap-label\"><text text-anchor=\"middle\" data-notex=\"1\" x=\"288\" y=\"323.4\" style=\"font-family: 'Open Sans', verdana, arial, sans-serif; font-size: 4px; fill: rgb(255, 255, 255); fill-opacity: 1; white-space: pre;\">0.08673414</text></g><g class=\"heatmap-label\"><text text-anchor=\"middle\" data-notex=\"1\" x=\"322\" y=\"323.4\" style=\"font-family: 'Open Sans', verdana, arial, sans-serif; font-size: 4px; fill: rgb(68, 68, 68); fill-opacity: 1; white-space: pre;\">1</text></g><g class=\"heatmap-label\"><text text-anchor=\"middle\" data-notex=\"1\" x=\"356\" y=\"323.4\" style=\"font-family: 'Open Sans', verdana, arial, sans-serif; font-size: 4px; fill: rgb(255, 255, 255); fill-opacity: 1; white-space: pre;\">0.04709405</text></g><g class=\"heatmap-label\"><text text-anchor=\"middle\" data-notex=\"1\" x=\"389\" y=\"323.4\" style=\"font-family: 'Open Sans', verdana, arial, sans-serif; font-size: 4px; fill: rgb(255, 255, 255); fill-opacity: 1; white-space: pre;\">0.04548042</text></g><g class=\"heatmap-label\"><text text-anchor=\"middle\" data-notex=\"1\" x=\"423\" y=\"323.4\" style=\"font-family: 'Open Sans', verdana, arial, sans-serif; font-size: 4px; fill: rgb(255, 255, 255); fill-opacity: 1; white-space: pre;\">0.2285598</text></g><g class=\"heatmap-label\"><text text-anchor=\"middle\" data-notex=\"1\" x=\"457\" y=\"323.4\" style=\"font-family: 'Open Sans', verdana, arial, sans-serif; font-size: 4px; fill: rgb(255, 255, 255); fill-opacity: 1; white-space: pre;\">−0.00978013</text></g><g class=\"heatmap-label\"><text text-anchor=\"middle\" data-notex=\"1\" x=\"491\" y=\"323.4\" style=\"font-family: 'Open Sans', verdana, arial, sans-serif; font-size: 4px; fill: rgb(255, 255, 255); fill-opacity: 1; white-space: pre;\">−0.214628</text></g><g class=\"heatmap-label\"><text text-anchor=\"middle\" data-notex=\"1\" x=\"17\" y=\"357.4\" style=\"font-family: 'Open Sans', verdana, arial, sans-serif; font-size: 4px; fill: rgb(255, 255, 255); fill-opacity: 1; white-space: pre;\">0.07722902</text></g><g class=\"heatmap-label\"><text text-anchor=\"middle\" data-notex=\"1\" x=\"51\" y=\"357.4\" style=\"font-family: 'Open Sans', verdana, arial, sans-serif; font-size: 4px; fill: rgb(255, 255, 255); fill-opacity: 1; white-space: pre;\">0.03604411</text></g><g class=\"heatmap-label\"><text text-anchor=\"middle\" data-notex=\"1\" x=\"85\" y=\"357.4\" style=\"font-family: 'Open Sans', verdana, arial, sans-serif; font-size: 4px; fill: rgb(255, 255, 255); fill-opacity: 1; white-space: pre;\">−0.003706389</text></g><g class=\"heatmap-label\"><text text-anchor=\"middle\" data-notex=\"1\" x=\"119\" y=\"357.4\" style=\"font-family: 'Open Sans', verdana, arial, sans-serif; font-size: 4px; fill: rgb(255, 255, 255); fill-opacity: 1; white-space: pre;\">0.02892751</text></g><g class=\"heatmap-label\"><text text-anchor=\"middle\" data-notex=\"1\" x=\"152\" y=\"357.4\" style=\"font-family: 'Open Sans', verdana, arial, sans-serif; font-size: 4px; fill: rgb(255, 255, 255); fill-opacity: 1; white-space: pre;\">0.1251465</text></g><g class=\"heatmap-label\"><text text-anchor=\"middle\" data-notex=\"1\" x=\"186\" y=\"357.4\" style=\"font-family: 'Open Sans', verdana, arial, sans-serif; font-size: 4px; fill: rgb(255, 255, 255); fill-opacity: 1; white-space: pre;\">−0.04396935</text></g><g class=\"heatmap-label\"><text text-anchor=\"middle\" data-notex=\"1\" x=\"220\" y=\"357.4\" style=\"font-family: 'Open Sans', verdana, arial, sans-serif; font-size: 4px; fill: rgb(255, 255, 255); fill-opacity: 1; white-space: pre;\">0.02416253</text></g><g class=\"heatmap-label\"><text text-anchor=\"middle\" data-notex=\"1\" x=\"254\" y=\"357.4\" style=\"font-family: 'Open Sans', verdana, arial, sans-serif; font-size: 4px; fill: rgb(255, 255, 255); fill-opacity: 1; white-space: pre;\">−0.05651026</text></g><g class=\"heatmap-label\"><text text-anchor=\"middle\" data-notex=\"1\" x=\"288\" y=\"357.4\" style=\"font-family: 'Open Sans', verdana, arial, sans-serif; font-size: 4px; fill: rgb(255, 255, 255); fill-opacity: 1; white-space: pre;\">0.01158062</text></g><g class=\"heatmap-label\"><text text-anchor=\"middle\" data-notex=\"1\" x=\"322\" y=\"357.4\" style=\"font-family: 'Open Sans', verdana, arial, sans-serif; font-size: 4px; fill: rgb(255, 255, 255); fill-opacity: 1; white-space: pre;\">0.04709405</text></g><g class=\"heatmap-label\"><text text-anchor=\"middle\" data-notex=\"1\" x=\"356\" y=\"357.4\" style=\"font-family: 'Open Sans', verdana, arial, sans-serif; font-size: 4px; fill: rgb(68, 68, 68); fill-opacity: 1; white-space: pre;\">1</text></g><g class=\"heatmap-label\"><text text-anchor=\"middle\" data-notex=\"1\" x=\"389\" y=\"357.4\" style=\"font-family: 'Open Sans', verdana, arial, sans-serif; font-size: 4px; fill: rgb(255, 255, 255); fill-opacity: 1; white-space: pre;\">−0.03144077</text></g><g class=\"heatmap-label\"><text text-anchor=\"middle\" data-notex=\"1\" x=\"423\" y=\"357.4\" style=\"font-family: 'Open Sans', verdana, arial, sans-serif; font-size: 4px; fill: rgb(255, 255, 255); fill-opacity: 1; white-space: pre;\">0.08215728</text></g><g class=\"heatmap-label\"><text text-anchor=\"middle\" data-notex=\"1\" x=\"457\" y=\"357.4\" style=\"font-family: 'Open Sans', verdana, arial, sans-serif; font-size: 4px; fill: rgb(255, 255, 255); fill-opacity: 1; white-space: pre;\">−0.001815807</text></g><g class=\"heatmap-label\"><text text-anchor=\"middle\" data-notex=\"1\" x=\"491\" y=\"357.4\" style=\"font-family: 'Open Sans', verdana, arial, sans-serif; font-size: 4px; fill: rgb(255, 255, 255); fill-opacity: 1; white-space: pre;\">−0.223013</text></g><g class=\"heatmap-label\"><text text-anchor=\"middle\" data-notex=\"1\" x=\"17\" y=\"390.4\" style=\"font-family: 'Open Sans', verdana, arial, sans-serif; font-size: 4px; fill: rgb(255, 255, 255); fill-opacity: 1; white-space: pre;\">0.05694383</text></g><g class=\"heatmap-label\"><text text-anchor=\"middle\" data-notex=\"1\" x=\"51\" y=\"390.4\" style=\"font-family: 'Open Sans', verdana, arial, sans-serif; font-size: 4px; fill: rgb(255, 255, 255); fill-opacity: 1; white-space: pre;\">0.0108799</text></g><g class=\"heatmap-label\"><text text-anchor=\"middle\" data-notex=\"1\" x=\"85\" y=\"390.4\" style=\"font-family: 'Open Sans', verdana, arial, sans-serif; font-size: 4px; fill: rgb(255, 255, 255); fill-opacity: 1; white-space: pre;\">−0.00436615</text></g><g class=\"heatmap-label\"><text text-anchor=\"middle\" data-notex=\"1\" x=\"119\" y=\"390.4\" style=\"font-family: 'Open Sans', verdana, arial, sans-serif; font-size: 4px; fill: rgb(255, 255, 255); fill-opacity: 1; white-space: pre;\">0.01763837</text></g><g class=\"heatmap-label\"><text text-anchor=\"middle\" data-notex=\"1\" x=\"152\" y=\"390.4\" style=\"font-family: 'Open Sans', verdana, arial, sans-serif; font-size: 4px; fill: rgb(255, 255, 255); fill-opacity: 1; white-space: pre;\">0.08097194</text></g><g class=\"heatmap-label\"><text text-anchor=\"middle\" data-notex=\"1\" x=\"186\" y=\"390.4\" style=\"font-family: 'Open Sans', verdana, arial, sans-serif; font-size: 4px; fill: rgb(255, 255, 255); fill-opacity: 1; white-space: pre;\">−0.03387159</text></g><g class=\"heatmap-label\"><text text-anchor=\"middle\" data-notex=\"1\" x=\"220\" y=\"390.4\" style=\"font-family: 'Open Sans', verdana, arial, sans-serif; font-size: 4px; fill: rgb(255, 255, 255); fill-opacity: 1; white-space: pre;\">0.01718006</text></g><g class=\"heatmap-label\"><text text-anchor=\"middle\" data-notex=\"1\" x=\"254\" y=\"390.4\" style=\"font-family: 'Open Sans', verdana, arial, sans-serif; font-size: 4px; fill: rgb(255, 255, 255); fill-opacity: 1; white-space: pre;\">−0.0572008</text></g><g class=\"heatmap-label\"><text text-anchor=\"middle\" data-notex=\"1\" x=\"288\" y=\"390.4\" style=\"font-family: 'Open Sans', verdana, arial, sans-serif; font-size: 4px; fill: rgb(255, 255, 255); fill-opacity: 1; white-space: pre;\">0.01859466</text></g><g class=\"heatmap-label\"><text text-anchor=\"middle\" data-notex=\"1\" x=\"322\" y=\"390.4\" style=\"font-family: 'Open Sans', verdana, arial, sans-serif; font-size: 4px; fill: rgb(255, 255, 255); fill-opacity: 1; white-space: pre;\">0.04548042</text></g><g class=\"heatmap-label\"><text text-anchor=\"middle\" data-notex=\"1\" x=\"356\" y=\"390.4\" style=\"font-family: 'Open Sans', verdana, arial, sans-serif; font-size: 4px; fill: rgb(255, 255, 255); fill-opacity: 1; white-space: pre;\">−0.03144077</text></g><g class=\"heatmap-label\"><text text-anchor=\"middle\" data-notex=\"1\" x=\"389\" y=\"390.4\" style=\"font-family: 'Open Sans', verdana, arial, sans-serif; font-size: 4px; fill: rgb(68, 68, 68); fill-opacity: 1; white-space: pre;\">1</text></g><g class=\"heatmap-label\"><text text-anchor=\"middle\" data-notex=\"1\" x=\"423\" y=\"390.4\" style=\"font-family: 'Open Sans', verdana, arial, sans-serif; font-size: 4px; fill: rgb(255, 255, 255); fill-opacity: 1; white-space: pre;\">0.05446722</text></g><g class=\"heatmap-label\"><text text-anchor=\"middle\" data-notex=\"1\" x=\"457\" y=\"390.4\" style=\"font-family: 'Open Sans', verdana, arial, sans-serif; font-size: 4px; fill: rgb(255, 255, 255); fill-opacity: 1; white-space: pre;\">0.003449224</text></g><g class=\"heatmap-label\"><text text-anchor=\"middle\" data-notex=\"1\" x=\"491\" y=\"390.4\" style=\"font-family: 'Open Sans', verdana, arial, sans-serif; font-size: 4px; fill: rgb(255, 255, 255); fill-opacity: 1; white-space: pre;\">−0.1475545</text></g><g class=\"heatmap-label\"><text text-anchor=\"middle\" data-notex=\"1\" x=\"17\" y=\"424.4\" style=\"font-family: 'Open Sans', verdana, arial, sans-serif; font-size: 4px; fill: rgb(255, 255, 255); fill-opacity: 1; white-space: pre;\">0.07155834</text></g><g class=\"heatmap-label\"><text text-anchor=\"middle\" data-notex=\"1\" x=\"51\" y=\"424.4\" style=\"font-family: 'Open Sans', verdana, arial, sans-serif; font-size: 4px; fill: rgb(255, 255, 255); fill-opacity: 1; white-space: pre;\">0.1412831</text></g><g class=\"heatmap-label\"><text text-anchor=\"middle\" data-notex=\"1\" x=\"85\" y=\"424.4\" style=\"font-family: 'Open Sans', verdana, arial, sans-serif; font-size: 4px; fill: rgb(255, 255, 255); fill-opacity: 1; white-space: pre;\">−0.01351871</text></g><g class=\"heatmap-label\"><text text-anchor=\"middle\" data-notex=\"1\" x=\"119\" y=\"424.4\" style=\"font-family: 'Open Sans', verdana, arial, sans-serif; font-size: 4px; fill: rgb(255, 255, 255); fill-opacity: 1; white-space: pre;\">0.05765868</text></g><g class=\"heatmap-label\"><text text-anchor=\"middle\" data-notex=\"1\" x=\"152\" y=\"424.4\" style=\"font-family: 'Open Sans', verdana, arial, sans-serif; font-size: 4px; fill: rgb(255, 255, 255); fill-opacity: 1; white-space: pre;\">0.1436889</text></g><g class=\"heatmap-label\"><text text-anchor=\"middle\" data-notex=\"1\" x=\"186\" y=\"424.4\" style=\"font-family: 'Open Sans', verdana, arial, sans-serif; font-size: 4px; fill: rgb(255, 255, 255); fill-opacity: 1; white-space: pre;\">−0.1855671</text></g><g class=\"heatmap-label\"><text text-anchor=\"middle\" data-notex=\"1\" x=\"220\" y=\"424.4\" style=\"font-family: 'Open Sans', verdana, arial, sans-serif; font-size: 4px; fill: rgb(255, 255, 255); fill-opacity: 1; white-space: pre;\">0.07998639</text></g><g class=\"heatmap-label\"><text text-anchor=\"middle\" data-notex=\"1\" x=\"254\" y=\"424.4\" style=\"font-family: 'Open Sans', verdana, arial, sans-serif; font-size: 4px; fill: rgb(255, 255, 255); fill-opacity: 1; white-space: pre;\">−0.2504005</text></g><g class=\"heatmap-label\"><text text-anchor=\"middle\" data-notex=\"1\" x=\"288\" y=\"424.4\" style=\"font-family: 'Open Sans', verdana, arial, sans-serif; font-size: 4px; fill: rgb(255, 255, 255); fill-opacity: 1; white-space: pre;\">0.03969356</text></g><g class=\"heatmap-label\"><text text-anchor=\"middle\" data-notex=\"1\" x=\"322\" y=\"424.4\" style=\"font-family: 'Open Sans', verdana, arial, sans-serif; font-size: 4px; fill: rgb(255, 255, 255); fill-opacity: 1; white-space: pre;\">0.2285598</text></g><g class=\"heatmap-label\"><text text-anchor=\"middle\" data-notex=\"1\" x=\"356\" y=\"424.4\" style=\"font-family: 'Open Sans', verdana, arial, sans-serif; font-size: 4px; fill: rgb(255, 255, 255); fill-opacity: 1; white-space: pre;\">0.08215728</text></g><g class=\"heatmap-label\"><text text-anchor=\"middle\" data-notex=\"1\" x=\"389\" y=\"424.4\" style=\"font-family: 'Open Sans', verdana, arial, sans-serif; font-size: 4px; fill: rgb(255, 255, 255); fill-opacity: 1; white-space: pre;\">0.05446722</text></g><g class=\"heatmap-label\"><text text-anchor=\"middle\" data-notex=\"1\" x=\"423\" y=\"424.4\" style=\"font-family: 'Open Sans', verdana, arial, sans-serif; font-size: 4px; fill: rgb(68, 68, 68); fill-opacity: 1; white-space: pre;\">1</text></g><g class=\"heatmap-label\"><text text-anchor=\"middle\" data-notex=\"1\" x=\"457\" y=\"424.4\" style=\"font-family: 'Open Sans', verdana, arial, sans-serif; font-size: 4px; fill: rgb(255, 255, 255); fill-opacity: 1; white-space: pre;\">704.8455μ</text></g><g class=\"heatmap-label\"><text text-anchor=\"middle\" data-notex=\"1\" x=\"491\" y=\"424.4\" style=\"font-family: 'Open Sans', verdana, arial, sans-serif; font-size: 4px; fill: rgb(255, 255, 255); fill-opacity: 1; white-space: pre;\">−0.2276868</text></g><g class=\"heatmap-label\"><text text-anchor=\"middle\" data-notex=\"1\" x=\"17\" y=\"458.4\" style=\"font-family: 'Open Sans', verdana, arial, sans-serif; font-size: 4px; fill: rgb(255, 255, 255); fill-opacity: 1; white-space: pre;\">−0.002861005</text></g><g class=\"heatmap-label\"><text text-anchor=\"middle\" data-notex=\"1\" x=\"51\" y=\"458.4\" style=\"font-family: 'Open Sans', verdana, arial, sans-serif; font-size: 4px; fill: rgb(255, 255, 255); fill-opacity: 1; white-space: pre;\">−0.008630652</text></g><g class=\"heatmap-label\"><text text-anchor=\"middle\" data-notex=\"1\" x=\"85\" y=\"458.4\" style=\"font-family: 'Open Sans', verdana, arial, sans-serif; font-size: 4px; fill: rgb(255, 255, 255); fill-opacity: 1; white-space: pre;\">−0.04867973</text></g><g class=\"heatmap-label\"><text text-anchor=\"middle\" data-notex=\"1\" x=\"119\" y=\"458.4\" style=\"font-family: 'Open Sans', verdana, arial, sans-serif; font-size: 4px; fill: rgb(255, 255, 255); fill-opacity: 1; white-space: pre;\">0.06146887</text></g><g class=\"heatmap-label\"><text text-anchor=\"middle\" data-notex=\"1\" x=\"152\" y=\"458.4\" style=\"font-family: 'Open Sans', verdana, arial, sans-serif; font-size: 4px; fill: rgb(255, 255, 255); fill-opacity: 1; white-space: pre;\">0.04910677</text></g><g class=\"heatmap-label\"><text text-anchor=\"middle\" data-notex=\"1\" x=\"186\" y=\"458.4\" style=\"font-family: 'Open Sans', verdana, arial, sans-serif; font-size: 4px; fill: rgb(255, 255, 255); fill-opacity: 1; white-space: pre;\">−0.02137469</text></g><g class=\"heatmap-label\"><text text-anchor=\"middle\" data-notex=\"1\" x=\"220\" y=\"458.4\" style=\"font-family: 'Open Sans', verdana, arial, sans-serif; font-size: 4px; fill: rgb(255, 255, 255); fill-opacity: 1; white-space: pre;\">−0.0134236</text></g><g class=\"heatmap-label\"><text text-anchor=\"middle\" data-notex=\"1\" x=\"254\" y=\"458.4\" style=\"font-family: 'Open Sans', verdana, arial, sans-serif; font-size: 4px; fill: rgb(255, 255, 255); fill-opacity: 1; white-space: pre;\">−0.003961513</text></g><g class=\"heatmap-label\"><text text-anchor=\"middle\" data-notex=\"1\" x=\"288\" y=\"458.4\" style=\"font-family: 'Open Sans', verdana, arial, sans-serif; font-size: 4px; fill: rgb(255, 255, 255); fill-opacity: 1; white-space: pre;\">0.1382314</text></g><g class=\"heatmap-label\"><text text-anchor=\"middle\" data-notex=\"1\" x=\"322\" y=\"458.4\" style=\"font-family: 'Open Sans', verdana, arial, sans-serif; font-size: 4px; fill: rgb(255, 255, 255); fill-opacity: 1; white-space: pre;\">−0.00978013</text></g><g class=\"heatmap-label\"><text text-anchor=\"middle\" data-notex=\"1\" x=\"356\" y=\"458.4\" style=\"font-family: 'Open Sans', verdana, arial, sans-serif; font-size: 4px; fill: rgb(255, 255, 255); fill-opacity: 1; white-space: pre;\">−0.001815807</text></g><g class=\"heatmap-label\"><text text-anchor=\"middle\" data-notex=\"1\" x=\"389\" y=\"458.4\" style=\"font-family: 'Open Sans', verdana, arial, sans-serif; font-size: 4px; fill: rgb(255, 255, 255); fill-opacity: 1; white-space: pre;\">0.003449224</text></g><g class=\"heatmap-label\"><text text-anchor=\"middle\" data-notex=\"1\" x=\"423\" y=\"458.4\" style=\"font-family: 'Open Sans', verdana, arial, sans-serif; font-size: 4px; fill: rgb(255, 255, 255); fill-opacity: 1; white-space: pre;\">704.8455μ</text></g><g class=\"heatmap-label\"><text text-anchor=\"middle\" data-notex=\"1\" x=\"457\" y=\"458.4\" style=\"font-family: 'Open Sans', verdana, arial, sans-serif; font-size: 4px; fill: rgb(68, 68, 68); fill-opacity: 1; white-space: pre;\">1</text></g><g class=\"heatmap-label\"><text text-anchor=\"middle\" data-notex=\"1\" x=\"491\" y=\"458.4\" style=\"font-family: 'Open Sans', verdana, arial, sans-serif; font-size: 4px; fill: rgb(255, 255, 255); fill-opacity: 1; white-space: pre;\">−0.01220996</text></g><g class=\"heatmap-label\"><text text-anchor=\"middle\" data-notex=\"1\" x=\"17\" y=\"492.4\" style=\"font-family: 'Open Sans', verdana, arial, sans-serif; font-size: 4px; fill: rgb(255, 255, 255); fill-opacity: 1; white-space: pre;\">−0.2303695</text></g><g class=\"heatmap-label\"><text text-anchor=\"middle\" data-notex=\"1\" x=\"51\" y=\"492.4\" style=\"font-family: 'Open Sans', verdana, arial, sans-serif; font-size: 4px; fill: rgb(255, 255, 255); fill-opacity: 1; white-space: pre;\">−0.05267409</text></g><g class=\"heatmap-label\"><text text-anchor=\"middle\" data-notex=\"1\" x=\"85\" y=\"492.4\" style=\"font-family: 'Open Sans', verdana, arial, sans-serif; font-size: 4px; fill: rgb(255, 255, 255); fill-opacity: 1; white-space: pre;\">0.00633886</text></g><g class=\"heatmap-label\"><text text-anchor=\"middle\" data-notex=\"1\" x=\"119\" y=\"492.4\" style=\"font-family: 'Open Sans', verdana, arial, sans-serif; font-size: 4px; fill: rgb(255, 255, 255); fill-opacity: 1; white-space: pre;\">−0.08009053</text></g><g class=\"heatmap-label\"><text text-anchor=\"middle\" data-notex=\"1\" x=\"152\" y=\"492.4\" style=\"font-family: 'Open Sans', verdana, arial, sans-serif; font-size: 4px; fill: rgb(255, 255, 255); fill-opacity: 1; white-space: pre;\">−0.3326131</text></g><g class=\"heatmap-label\"><text text-anchor=\"middle\" data-notex=\"1\" x=\"186\" y=\"492.4\" style=\"font-family: 'Open Sans', verdana, arial, sans-serif; font-size: 4px; fill: rgb(255, 255, 255); fill-opacity: 1; white-space: pre;\">0.1990718</text></g><g class=\"heatmap-label\"><text text-anchor=\"middle\" data-notex=\"1\" x=\"220\" y=\"492.4\" style=\"font-family: 'Open Sans', verdana, arial, sans-serif; font-size: 4px; fill: rgb(255, 255, 255); fill-opacity: 1; white-space: pre;\">−0.07672172</text></g><g class=\"heatmap-label\"><text text-anchor=\"middle\" data-notex=\"1\" x=\"254\" y=\"492.4\" style=\"font-family: 'Open Sans', verdana, arial, sans-serif; font-size: 4px; fill: rgb(255, 255, 255); fill-opacity: 1; white-space: pre;\">0.2532136</text></g><g class=\"heatmap-label\"><text text-anchor=\"middle\" data-notex=\"1\" x=\"288\" y=\"492.4\" style=\"font-family: 'Open Sans', verdana, arial, sans-serif; font-size: 4px; fill: rgb(255, 255, 255); fill-opacity: 1; white-space: pre;\">−0.07093429</text></g><g class=\"heatmap-label\"><text text-anchor=\"middle\" data-notex=\"1\" x=\"322\" y=\"492.4\" style=\"font-family: 'Open Sans', verdana, arial, sans-serif; font-size: 4px; fill: rgb(255, 255, 255); fill-opacity: 1; white-space: pre;\">−0.214628</text></g><g class=\"heatmap-label\"><text text-anchor=\"middle\" data-notex=\"1\" x=\"356\" y=\"492.4\" style=\"font-family: 'Open Sans', verdana, arial, sans-serif; font-size: 4px; fill: rgb(255, 255, 255); fill-opacity: 1; white-space: pre;\">−0.223013</text></g><g class=\"heatmap-label\"><text text-anchor=\"middle\" data-notex=\"1\" x=\"389\" y=\"492.4\" style=\"font-family: 'Open Sans', verdana, arial, sans-serif; font-size: 4px; fill: rgb(255, 255, 255); fill-opacity: 1; white-space: pre;\">−0.1475545</text></g><g class=\"heatmap-label\"><text text-anchor=\"middle\" data-notex=\"1\" x=\"423\" y=\"492.4\" style=\"font-family: 'Open Sans', verdana, arial, sans-serif; font-size: 4px; fill: rgb(255, 255, 255); fill-opacity: 1; white-space: pre;\">−0.2276868</text></g><g class=\"heatmap-label\"><text text-anchor=\"middle\" data-notex=\"1\" x=\"457\" y=\"492.4\" style=\"font-family: 'Open Sans', verdana, arial, sans-serif; font-size: 4px; fill: rgb(255, 255, 255); fill-opacity: 1; white-space: pre;\">−0.01220996</text></g><g class=\"heatmap-label\"><text text-anchor=\"middle\" data-notex=\"1\" x=\"491\" y=\"492.4\" style=\"font-family: 'Open Sans', verdana, arial, sans-serif; font-size: 4px; fill: rgb(68, 68, 68); fill-opacity: 1; white-space: pre;\">1</text></g></g></g></g><g class=\"overplot\"/><path class=\"xlines-above crisp\" d=\"M0,0\" style=\"fill: none;\"/><path class=\"ylines-above crisp\" d=\"M0,0\" style=\"fill: none;\"/><g class=\"overlines-above\"/><g class=\"xaxislayer-above\"><g class=\"xtick\"><text text-anchor=\"start\" x=\"0\" y=\"857\" transform=\"translate(112.93,0) rotate(29.999999999999996,0,851)\" style=\"font-family: 'Open Sans', verdana, arial, sans-serif; font-size: 12px; fill: rgb(42, 63, 95); fill-opacity: 1; white-space: pre; opacity: 1;\">age</text></g><g class=\"xtick\"><text text-anchor=\"start\" x=\"0\" y=\"857\" transform=\"translate(146.8,0) rotate(29.999999999999996,0,851)\" style=\"font-family: 'Open Sans', verdana, arial, sans-serif; font-size: 12px; fill: rgb(42, 63, 95); fill-opacity: 1; white-space: pre; opacity: 1;\">workclass</text></g><g class=\"xtick\"><text text-anchor=\"start\" x=\"0\" y=\"857\" transform=\"translate(180.67000000000002,0) rotate(29.999999999999996,0,851)\" style=\"font-family: 'Open Sans', verdana, arial, sans-serif; font-size: 12px; fill: rgb(42, 63, 95); fill-opacity: 1; white-space: pre; opacity: 1;\">fnlwgt</text></g><g class=\"xtick\"><text text-anchor=\"start\" x=\"0\" y=\"857\" transform=\"translate(214.53,0) rotate(29.999999999999996,0,851)\" style=\"font-family: 'Open Sans', verdana, arial, sans-serif; font-size: 12px; fill: rgb(42, 63, 95); fill-opacity: 1; white-space: pre; opacity: 1;\">education</text></g><g class=\"xtick\"><text text-anchor=\"start\" x=\"0\" y=\"857\" transform=\"translate(248.4,0) rotate(29.999999999999996,0,851)\" style=\"font-family: 'Open Sans', verdana, arial, sans-serif; font-size: 12px; fill: rgb(42, 63, 95); fill-opacity: 1; white-space: pre; opacity: 1;\">education-num</text></g><g class=\"xtick\"><text text-anchor=\"start\" x=\"0\" y=\"857\" transform=\"translate(282.27,0) rotate(29.999999999999996,0,851)\" style=\"font-family: 'Open Sans', verdana, arial, sans-serif; font-size: 12px; fill: rgb(42, 63, 95); fill-opacity: 1; white-space: pre; opacity: 1;\">marital-status</text></g><g class=\"xtick\"><text text-anchor=\"start\" x=\"0\" y=\"857\" transform=\"translate(316.13,0) rotate(29.999999999999996,0,851)\" style=\"font-family: 'Open Sans', verdana, arial, sans-serif; font-size: 12px; fill: rgb(42, 63, 95); fill-opacity: 1; white-space: pre; opacity: 1;\">occupation</text></g><g class=\"xtick\"><text text-anchor=\"start\" x=\"0\" y=\"857\" transform=\"translate(350,0) rotate(29.999999999999996,0,851)\" style=\"font-family: 'Open Sans', verdana, arial, sans-serif; font-size: 12px; fill: rgb(42, 63, 95); fill-opacity: 1; white-space: pre; opacity: 1;\">relationship</text></g><g class=\"xtick\"><text text-anchor=\"start\" x=\"0\" y=\"857\" transform=\"translate(383.87,0) rotate(29.999999999999996,0,851)\" style=\"font-family: 'Open Sans', verdana, arial, sans-serif; font-size: 12px; fill: rgb(42, 63, 95); fill-opacity: 1; white-space: pre; opacity: 1;\">race</text></g><g class=\"xtick\"><text text-anchor=\"start\" x=\"0\" y=\"857\" transform=\"translate(417.73,0) rotate(29.999999999999996,0,851)\" style=\"font-family: 'Open Sans', verdana, arial, sans-serif; font-size: 12px; fill: rgb(42, 63, 95); fill-opacity: 1; white-space: pre; opacity: 1;\">sex</text></g><g class=\"xtick\"><text text-anchor=\"start\" x=\"0\" y=\"857\" transform=\"translate(451.6,0) rotate(29.999999999999996,0,851)\" style=\"font-family: 'Open Sans', verdana, arial, sans-serif; font-size: 12px; fill: rgb(42, 63, 95); fill-opacity: 1; white-space: pre; opacity: 1;\">capital-gain</text></g><g class=\"xtick\"><text text-anchor=\"start\" x=\"0\" y=\"857\" transform=\"translate(485.47,0) rotate(29.999999999999996,0,851)\" style=\"font-family: 'Open Sans', verdana, arial, sans-serif; font-size: 12px; fill: rgb(42, 63, 95); fill-opacity: 1; white-space: pre; opacity: 1;\">capital-loss</text></g><g class=\"xtick\"><text text-anchor=\"start\" x=\"0\" y=\"857\" transform=\"translate(519.3299999999999,0) rotate(29.999999999999996,0,851)\" style=\"font-family: 'Open Sans', verdana, arial, sans-serif; font-size: 12px; fill: rgb(42, 63, 95); fill-opacity: 1; white-space: pre; opacity: 1;\">hours-per-week</text></g><g class=\"xtick\"><text text-anchor=\"start\" x=\"0\" y=\"857\" transform=\"translate(553.2,0) rotate(29.999999999999996,0,851)\" style=\"font-family: 'Open Sans', verdana, arial, sans-serif; font-size: 12px; fill: rgb(42, 63, 95); fill-opacity: 1; white-space: pre; opacity: 1;\">native-country</text></g><g class=\"xtick\"><text text-anchor=\"start\" x=\"0\" y=\"857\" transform=\"translate(587.0699999999999,0) rotate(29.999999999999996,0,851)\" style=\"font-family: 'Open Sans', verdana, arial, sans-serif; font-size: 12px; fill: rgb(42, 63, 95); fill-opacity: 1; white-space: pre; opacity: 1;\">target</text></g></g><g class=\"yaxislayer-above\"><g class=\"ytick\"><text text-anchor=\"end\" x=\"95\" y=\"4.199999999999999\" transform=\"translate(0,827.07)\" style=\"font-family: 'Open Sans', verdana, arial, sans-serif; font-size: 12px; fill: rgb(42, 63, 95); fill-opacity: 1; white-space: pre; opacity: 1;\">target</text></g><g class=\"ytick\"><text text-anchor=\"end\" x=\"95\" y=\"4.199999999999999\" transform=\"translate(0,793.2)\" style=\"font-family: 'Open Sans', verdana, arial, sans-serif; font-size: 12px; fill: rgb(42, 63, 95); fill-opacity: 1; white-space: pre; opacity: 1;\">native-country</text></g><g class=\"ytick\"><text text-anchor=\"end\" x=\"95\" y=\"4.199999999999999\" transform=\"translate(0,759.33)\" style=\"font-family: 'Open Sans', verdana, arial, sans-serif; font-size: 12px; fill: rgb(42, 63, 95); fill-opacity: 1; white-space: pre; opacity: 1;\">hours-per-week</text></g><g class=\"ytick\"><text text-anchor=\"end\" x=\"95\" y=\"4.199999999999999\" transform=\"translate(0,725.47)\" style=\"font-family: 'Open Sans', verdana, arial, sans-serif; font-size: 12px; fill: rgb(42, 63, 95); fill-opacity: 1; white-space: pre; opacity: 1;\">capital-loss</text></g><g class=\"ytick\"><text text-anchor=\"end\" x=\"95\" y=\"4.199999999999999\" transform=\"translate(0,691.6000000000001)\" style=\"font-family: 'Open Sans', verdana, arial, sans-serif; font-size: 12px; fill: rgb(42, 63, 95); fill-opacity: 1; white-space: pre; opacity: 1;\">capital-gain</text></g><g class=\"ytick\"><text text-anchor=\"end\" x=\"95\" y=\"4.199999999999999\" transform=\"translate(0,657.73)\" style=\"font-family: 'Open Sans', verdana, arial, sans-serif; font-size: 12px; fill: rgb(42, 63, 95); fill-opacity: 1; white-space: pre; opacity: 1;\">sex</text></g><g class=\"ytick\"><text text-anchor=\"end\" x=\"95\" y=\"4.199999999999999\" transform=\"translate(0,623.8700000000001)\" style=\"font-family: 'Open Sans', verdana, arial, sans-serif; font-size: 12px; fill: rgb(42, 63, 95); fill-opacity: 1; white-space: pre; opacity: 1;\">race</text></g><g class=\"ytick\"><text text-anchor=\"end\" x=\"95\" y=\"4.199999999999999\" transform=\"translate(0,590)\" style=\"font-family: 'Open Sans', verdana, arial, sans-serif; font-size: 12px; fill: rgb(42, 63, 95); fill-opacity: 1; white-space: pre; opacity: 1;\">relationship</text></g><g class=\"ytick\"><text text-anchor=\"end\" x=\"95\" y=\"4.199999999999999\" transform=\"translate(0,556.1300000000001)\" style=\"font-family: 'Open Sans', verdana, arial, sans-serif; font-size: 12px; fill: rgb(42, 63, 95); fill-opacity: 1; white-space: pre; opacity: 1;\">occupation</text></g><g class=\"ytick\"><text text-anchor=\"end\" x=\"95\" y=\"4.199999999999999\" transform=\"translate(0,522.2700000000001)\" style=\"font-family: 'Open Sans', verdana, arial, sans-serif; font-size: 12px; fill: rgb(42, 63, 95); fill-opacity: 1; white-space: pre; opacity: 1;\">marital-status</text></g><g class=\"ytick\"><text text-anchor=\"end\" x=\"95\" y=\"4.199999999999999\" transform=\"translate(0,488.4000000000001)\" style=\"font-family: 'Open Sans', verdana, arial, sans-serif; font-size: 12px; fill: rgb(42, 63, 95); fill-opacity: 1; white-space: pre; opacity: 1;\">education-num</text></g><g class=\"ytick\"><text text-anchor=\"end\" x=\"95\" y=\"4.199999999999999\" transform=\"translate(0,454.5300000000001)\" style=\"font-family: 'Open Sans', verdana, arial, sans-serif; font-size: 12px; fill: rgb(42, 63, 95); fill-opacity: 1; white-space: pre; opacity: 1;\">education</text></g><g class=\"ytick\"><text text-anchor=\"end\" x=\"95\" y=\"4.199999999999999\" transform=\"translate(0,420.6700000000001)\" style=\"font-family: 'Open Sans', verdana, arial, sans-serif; font-size: 12px; fill: rgb(42, 63, 95); fill-opacity: 1; white-space: pre; opacity: 1;\">fnlwgt</text></g><g class=\"ytick\"><text text-anchor=\"end\" x=\"95\" y=\"4.199999999999999\" transform=\"translate(0,386.80000000000007)\" style=\"font-family: 'Open Sans', verdana, arial, sans-serif; font-size: 12px; fill: rgb(42, 63, 95); fill-opacity: 1; white-space: pre; opacity: 1;\">workclass</text></g><g class=\"ytick\"><text text-anchor=\"end\" x=\"95\" y=\"4.199999999999999\" transform=\"translate(0,352.93000000000006)\" style=\"font-family: 'Open Sans', verdana, arial, sans-serif; font-size: 12px; fill: rgb(42, 63, 95); fill-opacity: 1; white-space: pre; opacity: 1;\">age</text></g></g><g class=\"overaxes-above\"/></g></g><g class=\"polarlayer\"/><g class=\"smithlayer\"/><g class=\"ternarylayer\"/><g class=\"geolayer\"/><g class=\"funnelarealayer\"/><g class=\"pielayer\"/><g class=\"iciclelayer\"/><g class=\"treemaplayer\"/><g class=\"sunburstlayer\"/><g class=\"glimages\"/><defs id=\"topdefs-d1330b\"><g class=\"clips\"/></defs><g class=\"layer-above\"><g class=\"imagelayer\"/><g class=\"shapelayer\"/></g><g class=\"infolayer\"><g class=\"cbcoloraxis colorbar\" transform=\"translate(96,60)\"><rect class=\"cbbg\" x=\"518\" y=\"0\" width=\"74.03125\" height=\"1060\" style=\"fill: rgb(0, 0, 0); fill-opacity: 0; stroke: rgb(68, 68, 68); stroke-opacity: 1; stroke-width: 0;\"/><g class=\"cbfills\" transform=\"translate(0,10)\"><rect class=\"cbfill gradient_filled\" style=\"fill: url('#gd1330b-cbcoloraxis');\" x=\"528\" y=\"0\" width=\"30\" height=\"1040\"/></g><g class=\"cblines\" transform=\"translate(0,10)\"/><g class=\"cbaxis crisp\" transform=\"translate(0,-60)\"><g class=\"ycbcoloraxistick\"><text text-anchor=\"start\" x=\"560.9\" y=\"4.199999999999999\" transform=\"translate(0,991.64)\" style=\"font-family: 'Open Sans', verdana, arial, sans-serif; font-size: 12px; fill: rgb(42, 63, 95); fill-opacity: 1; white-space: pre; opacity: 1;\">−0.4</text></g><g class=\"ycbcoloraxistick\"><text text-anchor=\"start\" x=\"560.9\" y=\"4.199999999999999\" style=\"font-family: 'Open Sans', verdana, arial, sans-serif; font-size: 12px; fill: rgb(42, 63, 95); fill-opacity: 1; white-space: pre; opacity: 1;\" transform=\"translate(0,859.97)\">−0.2</text></g><g class=\"ycbcoloraxistick\"><text text-anchor=\"start\" x=\"560.9\" y=\"4.199999999999999\" style=\"font-family: 'Open Sans', verdana, arial, sans-serif; font-size: 12px; fill: rgb(42, 63, 95); fill-opacity: 1; white-space: pre; opacity: 1;\" transform=\"translate(0,728.31)\">0</text></g><g class=\"ycbcoloraxistick\"><text text-anchor=\"start\" x=\"560.9\" y=\"4.199999999999999\" style=\"font-family: 'Open Sans', verdana, arial, sans-serif; font-size: 12px; fill: rgb(42, 63, 95); fill-opacity: 1; white-space: pre; opacity: 1;\" transform=\"translate(0,596.65)\">0.2</text></g><g class=\"ycbcoloraxistick\"><text text-anchor=\"start\" x=\"560.9\" y=\"4.199999999999999\" style=\"font-family: 'Open Sans', verdana, arial, sans-serif; font-size: 12px; fill: rgb(42, 63, 95); fill-opacity: 1; white-space: pre; opacity: 1;\" transform=\"translate(0,464.99)\">0.4</text></g><g class=\"ycbcoloraxistick\"><text text-anchor=\"start\" x=\"560.9\" y=\"4.199999999999999\" style=\"font-family: 'Open Sans', verdana, arial, sans-serif; font-size: 12px; fill: rgb(42, 63, 95); fill-opacity: 1; white-space: pre; opacity: 1;\" transform=\"translate(0,333.32)\">0.6</text></g><g class=\"ycbcoloraxistick\"><text text-anchor=\"start\" x=\"560.9\" y=\"4.199999999999999\" style=\"font-family: 'Open Sans', verdana, arial, sans-serif; font-size: 12px; fill: rgb(42, 63, 95); fill-opacity: 1; white-space: pre; opacity: 1;\" transform=\"translate(0,201.66)\">0.8</text></g><g class=\"ycbcoloraxistick\"><text text-anchor=\"start\" x=\"560.9\" y=\"4.199999999999999\" style=\"font-family: 'Open Sans', verdana, arial, sans-serif; font-size: 12px; fill: rgb(42, 63, 95); fill-opacity: 1; white-space: pre; opacity: 1;\" transform=\"translate(0,70)\">1</text></g></g><g class=\"cbtitleunshift\" transform=\"translate(-96,-60)\"><g class=\"cbtitle\"/></g><rect class=\"cboutline\" x=\"528\" y=\"10\" width=\"30\" height=\"1040\" style=\"stroke: rgb(68, 68, 68); stroke-opacity: 1; fill: none; stroke-width: 0;\"/></g><g class=\"g-gtitle\"/><g class=\"g-xtitle\"/><g class=\"g-ytitle\"/></g></svg>"
      ]
     },
     "metadata": {},
     "output_type": "display_data"
    }
   ],
   "source": [
    "fig = px.imshow(df.corr(), text_auto=True, height=1200)\n",
    "fig.show()"
   ]
  },
  {
   "attachments": {},
   "cell_type": "markdown",
   "metadata": {},
   "source": [
    "\n",
    "\n",
    "We can see that relationship is correlated with the target feature, while sex is strongly inversely correlated with both target and relationshp. \n",
    "Another possible relationship of note is that between age and target, which are inversely correlated with one another. Whether these features should be considered sources of bias is up to the user, as features such as sex have a strong argument and other features, such as age, may represent a neutral relationship in the data as people making higher salaries as they age seems to be a reasonable relationship. Nonetheless, we will demonstrate controlling for age as an example.\n",
    "\n"
   ]
  },
  {
   "attachments": {},
   "cell_type": "markdown",
   "metadata": {},
   "source": [
    "### 2b. React"
   ]
  },
  {
   "cell_type": "code",
   "execution_count": 9,
   "metadata": {
    "execution": {
     "iopub.execute_input": "2024-02-22T19:04:46.061027Z",
     "iopub.status.busy": "2024-02-22T19:04:46.060660Z",
     "iopub.status.idle": "2024-02-22T19:07:20.666981Z",
     "shell.execute_reply": "2024-02-22T19:07:20.666399Z"
    }
   },
   "outputs": [],
   "source": [
    "context_features = features.get_names(without=['sex'])\n",
    "react = t.react(X_test, action_features=[\"sex\"], context_features=context_features, details={\"feature_mda\": True})\n",
    "\n",
    "output = react[\"action\"]\n",
    "explanations = react[\"details\"]"
   ]
  },
  {
   "attachments": {},
   "cell_type": "markdown",
   "metadata": {},
   "source": [
    "### 2c. Verify\n",
    "\n",
    "To further unravel some of the relationships between biased features using Howso Engine's explanations, we can verify the entanglement of sex and relationship by predicting sex and calculating the mean decrease in accuracy (MDA).\n",
    "\n",
    "\n",
    "**`Definitions`:**\n",
    "\n",
    "**`MDA`:** The mean decrease in accuracy of removing a feature.  MDA units are on the same scale as the Action feature(s), and will be probabilities for categorical features.\n",
    "\n",
    "**`Robust MDA`:** The mean absolute decrease in accuracy of the Action feature value(s) over a sampling of the power set of all of the Context features. This is similar to the sampling mechanism of the commonly used `SHAP` feature importance measure."
   ]
  },
  {
   "cell_type": "code",
   "execution_count": 10,
   "metadata": {
    "execution": {
     "iopub.execute_input": "2024-02-22T19:07:20.670113Z",
     "iopub.status.busy": "2024-02-22T19:07:20.669554Z",
     "iopub.status.idle": "2024-02-22T19:07:20.676603Z",
     "shell.execute_reply": "2024-02-22T19:07:20.676129Z"
    }
   },
   "outputs": [
    {
     "data": {
      "text/plain": [
       "relationship      0.02688\n",
       "marital-status    0.00598\n",
       "capital-loss      0.00378\n",
       "target            0.00292\n",
       "age               0.00061\n",
       "race              0.00047\n",
       "workclass         0.00036\n",
       "education-num     0.00031\n",
       "capital-gain      0.00010\n",
       "education        -0.00045\n",
       "native-country   -0.00174\n",
       "fnlwgt           -0.00180\n",
       "hours-per-week   -0.00234\n",
       "occupation       -0.00639\n",
       "dtype: float64"
      ]
     },
     "metadata": {},
     "output_type": "display_data"
    }
   ],
   "source": [
    "mdas = []\n",
    "for explanation in explanations[\"feature_mda\"]:\n",
    "    mdas.append(list(explanation.values()))\n",
    "\n",
    "mdas = pd.DataFrame(mdas, columns=list(explanation.keys()))\n",
    "display(mdas.mean(axis=0).sort_values(ascending=False).round(5))"
   ]
  },
  {
   "attachments": {},
   "cell_type": "markdown",
   "metadata": {},
   "source": [
    "We can see that `relationship` has a large MDA, confirming that `relationship` and `sex` have a strong relationship. \n",
    "\n",
    "Now that we have identified some features which may introduce bias, we can begin to mitigate them in two different ways using Howso Engine. We will measure the effectiveness of this mitigation visually and with a G-test p-value."
   ]
  },
  {
   "attachments": {},
   "cell_type": "markdown",
   "metadata": {},
   "source": [
    "## Section 3: Control for Differences in `relationship`, `sex`, and `marital-status`."
   ]
  },
  {
   "attachments": {},
   "cell_type": "markdown",
   "metadata": {},
   "source": [
    "### 3a: React\n",
    "\n",
    "In order to mitigate for these biased features, we will leave them out when using `react`. Note that since `marital-status` is correlated with `relationship`, we will also control for that. Since Howso Engine uses instance-based learning combined with sophisticated methods of handling NaNs, it can maintain high levels of performance even when features are left out."
   ]
  },
  {
   "cell_type": "code",
   "execution_count": 11,
   "metadata": {
    "execution": {
     "iopub.execute_input": "2024-02-22T19:07:20.679004Z",
     "iopub.status.busy": "2024-02-22T19:07:20.678656Z",
     "iopub.status.idle": "2024-02-22T19:07:20.811134Z",
     "shell.execute_reply": "2024-02-22T19:07:20.810546Z"
    }
   },
   "outputs": [],
   "source": [
    "context_features = features.get_names(without=['target', 'sex', 'relationship', 'marital-status'])\n",
    "react = t.react(X_test, action_features=[\"target\"], context_features=context_features)\n",
    "\n",
    "output = react[\"action\"]\n",
    "predictions = output[\"target\"]"
   ]
  },
  {
   "attachments": {},
   "cell_type": "markdown",
   "metadata": {},
   "source": [
    "### 3b. Plot"
   ]
  },
  {
   "cell_type": "code",
   "execution_count": 12,
   "metadata": {
    "execution": {
     "iopub.execute_input": "2024-02-22T19:07:20.814321Z",
     "iopub.status.busy": "2024-02-22T19:07:20.813853Z",
     "iopub.status.idle": "2024-02-22T19:07:20.887756Z",
     "shell.execute_reply": "2024-02-22T19:07:20.887238Z"
    }
   },
   "outputs": [
    {
     "data": {
      "image/svg+xml": [
       "<svg class=\"main-svg\" xmlns=\"http://www.w3.org/2000/svg\" xmlns:xlink=\"http://www.w3.org/1999/xlink\" width=\"650\" height=\"650\" style=\"\" viewBox=\"0 0 650 650\"><rect x=\"0\" y=\"0\" width=\"650\" height=\"650\" style=\"fill: rgb(255, 255, 255); fill-opacity: 1;\"/><defs id=\"defs-910bf1\"><g class=\"clips\"><clipPath id=\"clip910bf1xyplot\" class=\"plotclip\"><rect width=\"463\" height=\"510\"/></clipPath><clipPath class=\"axesclip\" id=\"clip910bf1x\"><rect x=\"80\" y=\"0\" width=\"463\" height=\"650\"/></clipPath><clipPath class=\"axesclip\" id=\"clip910bf1y\"><rect x=\"0\" y=\"60\" width=\"650\" height=\"510\"/></clipPath><clipPath class=\"axesclip\" id=\"clip910bf1xy\"><rect x=\"80\" y=\"60\" width=\"463\" height=\"510\"/></clipPath></g><g class=\"gradients\"/><g class=\"patterns\"/></defs><g class=\"bglayer\"><rect class=\"bg\" x=\"80\" y=\"60\" width=\"463\" height=\"510\" style=\"fill: rgb(229, 236, 246); fill-opacity: 1; stroke-width: 0;\"/></g><g class=\"layer-below\"><g class=\"imagelayer\"/><g class=\"shapelayer\"/></g><g class=\"cartesianlayer\"><g class=\"subplot xy\"><g class=\"layer-subplot\"><g class=\"shapelayer\"/><g class=\"imagelayer\"/></g><g class=\"minor-gridlayer\"><g class=\"x\"/><g class=\"y\"/></g><g class=\"gridlayer\"><g class=\"x\"/><g class=\"y\"><path class=\"ygrid crisp\" transform=\"translate(0,452.4)\" d=\"M80,0h463\" style=\"stroke: rgb(255, 255, 255); stroke-opacity: 1; stroke-width: 1px;\"/><path class=\"ygrid crisp\" transform=\"translate(0,334.81)\" d=\"M80,0h463\" style=\"stroke: rgb(255, 255, 255); stroke-opacity: 1; stroke-width: 1px;\"/><path class=\"ygrid crisp\" transform=\"translate(0,217.21)\" d=\"M80,0h463\" style=\"stroke: rgb(255, 255, 255); stroke-opacity: 1; stroke-width: 1px;\"/><path class=\"ygrid crisp\" transform=\"translate(0,99.61)\" d=\"M80,0h463\" style=\"stroke: rgb(255, 255, 255); stroke-opacity: 1; stroke-width: 1px;\"/></g></g><g class=\"zerolinelayer\"><path class=\"yzl zl crisp\" transform=\"translate(0,570)\" d=\"M80,0h463\" style=\"stroke: rgb(255, 255, 255); stroke-opacity: 1; stroke-width: 2px;\"/></g><path class=\"xlines-below\"/><path class=\"ylines-below\"/><g class=\"overlines-below\"/><g class=\"xaxislayer-below\"/><g class=\"yaxislayer-below\"/><g class=\"overaxes-below\"/><g class=\"plot\" transform=\"translate(80,60)\" clip-path=\"url(#clip910bf1xyplot)\"><g class=\"barlayer mlayer\"><g class=\"trace bars\" style=\"opacity: 1;\"><g class=\"points\"><g class=\"point\"><path d=\"M23.15,510V25.5H115.75V510Z\" style=\"vector-effect: none; opacity: 1; stroke-width: 0px; fill: rgb(99, 110, 250); fill-opacity: 1;\"/></g><g class=\"point\"><path d=\"M254.65,510V237.17H347.25V510Z\" style=\"vector-effect: none; opacity: 1; stroke-width: 0px; fill: rgb(99, 110, 250); fill-opacity: 1;\"/></g></g></g><g class=\"trace bars\" style=\"opacity: 1;\"><g class=\"points\"><g class=\"point\"><path d=\"M115.75,510V232.47H208.35V510Z\" style=\"vector-effect: none; opacity: 1; stroke-width: 0px; fill: rgb(239, 85, 59); fill-opacity: 1;\"/></g><g class=\"point\"><path d=\"M347.25,510V455.91H439.85V510Z\" style=\"vector-effect: none; opacity: 1; stroke-width: 0px; fill: rgb(239, 85, 59); fill-opacity: 1;\"/></g></g></g></g></g><g class=\"overplot\"/><path class=\"xlines-above crisp\" d=\"M0,0\" style=\"fill: none;\"/><path class=\"ylines-above crisp\" d=\"M0,0\" style=\"fill: none;\"/><g class=\"overlines-above\"/><g class=\"xaxislayer-above\"><g class=\"xtick\"><text text-anchor=\"middle\" x=\"0\" y=\"583\" transform=\"translate(195.75,0)\" style=\"font-family: 'Open Sans', verdana, arial, sans-serif; font-size: 12px; fill: rgb(42, 63, 95); fill-opacity: 1; white-space: pre; opacity: 1;\">Salary &#60; $50k</text></g><g class=\"xtick\"><text text-anchor=\"middle\" x=\"0\" y=\"583\" transform=\"translate(427.25,0)\" style=\"font-family: 'Open Sans', verdana, arial, sans-serif; font-size: 12px; fill: rgb(42, 63, 95); fill-opacity: 1; white-space: pre; opacity: 1;\">Salary >= $50k</text></g></g><g class=\"yaxislayer-above\"><g class=\"ytick\"><text text-anchor=\"end\" x=\"79\" y=\"4.199999999999999\" transform=\"translate(0,570)\" style=\"font-family: 'Open Sans', verdana, arial, sans-serif; font-size: 12px; fill: rgb(42, 63, 95); fill-opacity: 1; white-space: pre; opacity: 1;\">0</text></g><g class=\"ytick\"><text text-anchor=\"end\" x=\"79\" y=\"4.199999999999999\" style=\"font-family: 'Open Sans', verdana, arial, sans-serif; font-size: 12px; fill: rgb(42, 63, 95); fill-opacity: 1; white-space: pre; opacity: 1;\" transform=\"translate(0,452.4)\">50</text></g><g class=\"ytick\"><text text-anchor=\"end\" x=\"79\" y=\"4.199999999999999\" style=\"font-family: 'Open Sans', verdana, arial, sans-serif; font-size: 12px; fill: rgb(42, 63, 95); fill-opacity: 1; white-space: pre; opacity: 1;\" transform=\"translate(0,334.81)\">100</text></g><g class=\"ytick\"><text text-anchor=\"end\" x=\"79\" y=\"4.199999999999999\" style=\"font-family: 'Open Sans', verdana, arial, sans-serif; font-size: 12px; fill: rgb(42, 63, 95); fill-opacity: 1; white-space: pre; opacity: 1;\" transform=\"translate(0,217.21)\">150</text></g><g class=\"ytick\"><text text-anchor=\"end\" x=\"79\" y=\"4.199999999999999\" style=\"font-family: 'Open Sans', verdana, arial, sans-serif; font-size: 12px; fill: rgb(42, 63, 95); fill-opacity: 1; white-space: pre; opacity: 1;\" transform=\"translate(0,99.61)\">200</text></g></g><g class=\"overaxes-above\"/></g></g><g class=\"polarlayer\"/><g class=\"smithlayer\"/><g class=\"ternarylayer\"/><g class=\"geolayer\"/><g class=\"funnelarealayer\"/><g class=\"pielayer\"/><g class=\"iciclelayer\"/><g class=\"treemaplayer\"/><g class=\"sunburstlayer\"/><g class=\"glimages\"/><defs id=\"topdefs-910bf1\"><g class=\"clips\"/><clipPath id=\"legend910bf1\"><rect width=\"86\" height=\"67\" x=\"0\" y=\"0\"/></clipPath></defs><g class=\"layer-above\"><g class=\"imagelayer\"/><g class=\"shapelayer\"/></g><g class=\"infolayer\"><g class=\"legend\" pointer-events=\"all\" transform=\"translate(552.26,60)\"><rect class=\"bg\" shape-rendering=\"crispEdges\" width=\"86\" height=\"67\" x=\"0\" y=\"0\" style=\"stroke: rgb(68, 68, 68); stroke-opacity: 1; fill: rgb(255, 255, 255); fill-opacity: 1; stroke-width: 0px;\"/><g class=\"scrollbox\" transform=\"\" clip-path=\"url(#legend910bf1)\"><text class=\"legendtitletext\" text-anchor=\"start\" x=\"2\" y=\"18.2\" style=\"font-family: 'Open Sans', verdana, arial, sans-serif; font-size: 14px; fill: rgb(42, 63, 95); fill-opacity: 1; white-space: pre;\">color</text><g class=\"groups\" transform=\"\"><g class=\"traces\" transform=\"translate(0,32.7)\" style=\"opacity: 1;\"><text class=\"legendtext\" text-anchor=\"start\" x=\"40\" y=\"4.680000000000001\" style=\"font-family: 'Open Sans', verdana, arial, sans-serif; font-size: 12px; fill: rgb(42, 63, 95); fill-opacity: 1; white-space: pre;\">Male</text><g class=\"layers\" style=\"opacity: 1;\"><g class=\"legendfill\"/><g class=\"legendlines\"/><g class=\"legendsymbols\"><g class=\"legendpoints\"><path class=\"legendundefined\" d=\"M6,6H-6V-6H6Z\" transform=\"translate(20,0)\" style=\"stroke-width: 0px; fill: rgb(99, 110, 250); fill-opacity: 1;\"/></g></g></g><rect class=\"legendtoggle\" x=\"0\" y=\"-9.5\" width=\"80.34375\" height=\"19\" style=\"fill: rgb(0, 0, 0); fill-opacity: 0;\"/></g></g><g class=\"groups\" transform=\"\"><g class=\"traces\" transform=\"translate(0,51.7)\" style=\"opacity: 1;\"><text class=\"legendtext\" text-anchor=\"start\" x=\"40\" y=\"4.680000000000001\" style=\"font-family: 'Open Sans', verdana, arial, sans-serif; font-size: 12px; fill: rgb(42, 63, 95); fill-opacity: 1; white-space: pre;\">Female</text><g class=\"layers\" style=\"opacity: 1;\"><g class=\"legendfill\"/><g class=\"legendlines\"/><g class=\"legendsymbols\"><g class=\"legendpoints\"><path class=\"legendundefined\" d=\"M6,6H-6V-6H6Z\" transform=\"translate(20,0)\" style=\"stroke-width: 0px; fill: rgb(239, 85, 59); fill-opacity: 1;\"/></g></g></g><rect class=\"legendtoggle\" x=\"0\" y=\"-9.5\" width=\"80.34375\" height=\"19\" style=\"fill: rgb(0, 0, 0); fill-opacity: 0;\"/></g></g></g><rect class=\"scrollbar\" rx=\"20\" ry=\"3\" width=\"0\" height=\"0\" x=\"0\" y=\"0\" style=\"fill: rgb(128, 139, 164); fill-opacity: 1;\"/></g><g class=\"g-gtitle\"/><g class=\"g-xtitle\"><text class=\"xtitle\" x=\"311.5\" y=\"610.3\" text-anchor=\"middle\" style=\"font-family: 'Open Sans', verdana, arial, sans-serif; font-size: 14px; fill: rgb(42, 63, 95); opacity: 1; font-weight: normal; white-space: pre;\">target</text></g><g class=\"g-ytitle\"><text class=\"ytitle\" transform=\"rotate(-90,34.66875,315)\" x=\"34.66875\" y=\"315\" text-anchor=\"middle\" style=\"font-family: 'Open Sans', verdana, arial, sans-serif; font-size: 14px; fill: rgb(42, 63, 95); opacity: 1; font-weight: normal; white-space: pre;\">count</text></g></g></svg>"
      ]
     },
     "metadata": {},
     "output_type": "display_data"
    }
   ],
   "source": [
    "\n",
    "display_output_b = output.replace({\"target\": {0: \"Salary >= $50k\", 1: \"Salary < $50k\"}})\n",
    "display_df = X_test.replace({\n",
    "    \"sex\": {0: \"Female\", 1: \"Male\"},\n",
    "    \"target\": {0: \"Salary >= $50k\", 1: \"Salary < $50k\"}\n",
    "})\n",
    "\n",
    "fig = px.histogram(\n",
    "    display_output_b,\n",
    "    x=\"target\",\n",
    "    width=650,\n",
    "    height=650,\n",
    "    barmode=\"group\",\n",
    "    color=display_df.sex,\n",
    ")\n",
    "fig.show()"
   ]
  },
  {
   "attachments": {},
   "cell_type": "markdown",
   "metadata": {},
   "source": [
    "### 3c. Count check\n",
    "\n",
    "We can see that the balance has been somewhat corrected, although this is not guaranteed. We can use a G-test to verify if this anecdote is backed up statistically by measuring the different counts. This may not be a complete fix, however it likely that the bias has improved."
   ]
  },
  {
   "cell_type": "code",
   "execution_count": 13,
   "metadata": {
    "execution": {
     "iopub.execute_input": "2024-02-22T19:07:20.890265Z",
     "iopub.status.busy": "2024-02-22T19:07:20.889990Z",
     "iopub.status.idle": "2024-02-22T19:07:20.894720Z",
     "shell.execute_reply": "2024-02-22T19:07:20.894249Z"
    }
   },
   "outputs": [
    {
     "name": "stdout",
     "output_type": "stream",
     "text": [
      "p-value: 0.12258581058619183\n"
     ]
    }
   ],
   "source": [
    "counts = [\n",
    "    [X_test.target.sum(), len(X_test) - X_test.target.sum()], [output.target.sum(), len(output) - output.target.sum()]\n",
    "]\n",
    "\n",
    "_, p, _, _ = chi2_contingency(counts, lambda_=\"log-likelihood\")\n",
    "print(f\"p-value: {p}\")"
   ]
  },
  {
   "attachments": {},
   "cell_type": "markdown",
   "metadata": {},
   "source": [
    "### 3d. Accuracy Check\n",
    "\n",
    "We can see that we still maintain relatively good accuracy compared to the original data set."
   ]
  },
  {
   "cell_type": "code",
   "execution_count": 14,
   "metadata": {
    "execution": {
     "iopub.execute_input": "2024-02-22T19:07:20.897033Z",
     "iopub.status.busy": "2024-02-22T19:07:20.896642Z",
     "iopub.status.idle": "2024-02-22T19:07:20.901317Z",
     "shell.execute_reply": "2024-02-22T19:07:20.900855Z"
    }
   },
   "outputs": [
    {
     "data": {
      "text/plain": [
       "0.721"
      ]
     },
     "execution_count": 14,
     "metadata": {},
     "output_type": "execute_result"
    }
   ],
   "source": [
    "accuracy = round(accuracy_score(X_test[\"target\"], predictions), 3)\n",
    "accuracy"
   ]
  },
  {
   "attachments": {},
   "cell_type": "markdown",
   "metadata": {},
   "source": [
    "# 4. Control for Differences in Age\n",
    "\n",
    "Unfortunately, it is possible that the balance not quite been addressed fully. Let's go back to that relationship between age and target, and see if we can't control for that. "
   ]
  },
  {
   "attachments": {},
   "cell_type": "markdown",
   "metadata": {},
   "source": [
    "### 4a. Random Ages\n",
    "\n",
    "We can do this by setting the age of each individual randomly in the range of 40 to 50. The Trainee will use these values to find the nearest trained Cases."
   ]
  },
  {
   "cell_type": "code",
   "execution_count": 15,
   "metadata": {
    "execution": {
     "iopub.execute_input": "2024-02-22T19:07:20.903569Z",
     "iopub.status.busy": "2024-02-22T19:07:20.903231Z",
     "iopub.status.idle": "2024-02-22T19:07:20.906539Z",
     "shell.execute_reply": "2024-02-22T19:07:20.906066Z"
    }
   },
   "outputs": [],
   "source": [
    "X_test_controlled = X_test\n",
    "\n",
    "rng = np.random.default_rng()\n",
    "X_test_controlled.age = rng.integers(40, 50, size=len(X_test_controlled))\n"
   ]
  },
  {
   "attachments": {},
   "cell_type": "markdown",
   "metadata": {},
   "source": [
    "### 4b. React"
   ]
  },
  {
   "cell_type": "code",
   "execution_count": 16,
   "metadata": {
    "execution": {
     "iopub.execute_input": "2024-02-22T19:07:20.908766Z",
     "iopub.status.busy": "2024-02-22T19:07:20.908428Z",
     "iopub.status.idle": "2024-02-22T19:07:21.040127Z",
     "shell.execute_reply": "2024-02-22T19:07:21.039575Z"
    }
   },
   "outputs": [],
   "source": [
    "\n",
    "output = t.react(X_test_controlled, action_features=[\"target\"], context_features=context_features)[\"action\"]\n",
    "predictions = output[\"target\"]"
   ]
  },
  {
   "attachments": {},
   "cell_type": "markdown",
   "metadata": {},
   "source": [
    "### 4c. Graph"
   ]
  },
  {
   "cell_type": "code",
   "execution_count": 17,
   "metadata": {
    "execution": {
     "iopub.execute_input": "2024-02-22T19:07:21.043105Z",
     "iopub.status.busy": "2024-02-22T19:07:21.042729Z",
     "iopub.status.idle": "2024-02-22T19:07:21.113386Z",
     "shell.execute_reply": "2024-02-22T19:07:21.112737Z"
    }
   },
   "outputs": [
    {
     "data": {
      "image/svg+xml": [
       "<svg class=\"main-svg\" xmlns=\"http://www.w3.org/2000/svg\" xmlns:xlink=\"http://www.w3.org/1999/xlink\" width=\"650\" height=\"650\" style=\"\" viewBox=\"0 0 650 650\"><rect x=\"0\" y=\"0\" width=\"650\" height=\"650\" style=\"fill: rgb(255, 255, 255); fill-opacity: 1;\"/><defs id=\"defs-7875fd\"><g class=\"clips\"><clipPath id=\"clip7875fdxyplot\" class=\"plotclip\"><rect width=\"463\" height=\"510\"/></clipPath><clipPath class=\"axesclip\" id=\"clip7875fdx\"><rect x=\"80\" y=\"0\" width=\"463\" height=\"650\"/></clipPath><clipPath class=\"axesclip\" id=\"clip7875fdy\"><rect x=\"0\" y=\"60\" width=\"650\" height=\"510\"/></clipPath><clipPath class=\"axesclip\" id=\"clip7875fdxy\"><rect x=\"80\" y=\"60\" width=\"463\" height=\"510\"/></clipPath></g><g class=\"gradients\"/><g class=\"patterns\"/></defs><g class=\"bglayer\"><rect class=\"bg\" x=\"80\" y=\"60\" width=\"463\" height=\"510\" style=\"fill: rgb(229, 236, 246); fill-opacity: 1; stroke-width: 0;\"/></g><g class=\"layer-below\"><g class=\"imagelayer\"/><g class=\"shapelayer\"/></g><g class=\"cartesianlayer\"><g class=\"subplot xy\"><g class=\"layer-subplot\"><g class=\"shapelayer\"/><g class=\"imagelayer\"/></g><g class=\"minor-gridlayer\"><g class=\"x\"/><g class=\"y\"/></g><g class=\"gridlayer\"><g class=\"x\"/><g class=\"y\"><path class=\"ygrid crisp\" transform=\"translate(0,513)\" d=\"M80,0h463\" style=\"stroke: rgb(255, 255, 255); stroke-opacity: 1; stroke-width: 1px;\"/><path class=\"ygrid crisp\" transform=\"translate(0,456)\" d=\"M80,0h463\" style=\"stroke: rgb(255, 255, 255); stroke-opacity: 1; stroke-width: 1px;\"/><path class=\"ygrid crisp\" transform=\"translate(0,399)\" d=\"M80,0h463\" style=\"stroke: rgb(255, 255, 255); stroke-opacity: 1; stroke-width: 1px;\"/><path class=\"ygrid crisp\" transform=\"translate(0,342)\" d=\"M80,0h463\" style=\"stroke: rgb(255, 255, 255); stroke-opacity: 1; stroke-width: 1px;\"/><path class=\"ygrid crisp\" transform=\"translate(0,285)\" d=\"M80,0h463\" style=\"stroke: rgb(255, 255, 255); stroke-opacity: 1; stroke-width: 1px;\"/><path class=\"ygrid crisp\" transform=\"translate(0,228)\" d=\"M80,0h463\" style=\"stroke: rgb(255, 255, 255); stroke-opacity: 1; stroke-width: 1px;\"/><path class=\"ygrid crisp\" transform=\"translate(0,171)\" d=\"M80,0h463\" style=\"stroke: rgb(255, 255, 255); stroke-opacity: 1; stroke-width: 1px;\"/><path class=\"ygrid crisp\" transform=\"translate(0,114)\" d=\"M80,0h463\" style=\"stroke: rgb(255, 255, 255); stroke-opacity: 1; stroke-width: 1px;\"/></g></g><g class=\"zerolinelayer\"><path class=\"yzl zl crisp\" transform=\"translate(0,570)\" d=\"M80,0h463\" style=\"stroke: rgb(255, 255, 255); stroke-opacity: 1; stroke-width: 2px;\"/></g><path class=\"xlines-below\"/><path class=\"ylines-below\"/><g class=\"overlines-below\"/><g class=\"xaxislayer-below\"/><g class=\"yaxislayer-below\"/><g class=\"overaxes-below\"/><g class=\"plot\" transform=\"translate(80,60)\" clip-path=\"url(#clip7875fdxyplot)\"><g class=\"barlayer mlayer\"><g class=\"trace bars\" style=\"opacity: 1;\"><g class=\"points\"><g class=\"point\"><path d=\"M23.15,510V25.5H115.75V510Z\" style=\"vector-effect: none; opacity: 1; stroke-width: 0px; fill: rgb(99, 110, 250); fill-opacity: 1;\"/></g><g class=\"point\"><path d=\"M254.65,510V76.8H347.25V510Z\" style=\"vector-effect: none; opacity: 1; stroke-width: 0px; fill: rgb(99, 110, 250); fill-opacity: 1;\"/></g></g></g><g class=\"trace bars\" style=\"opacity: 1;\"><g class=\"points\"><g class=\"point\"><path d=\"M115.75,510V336.15H208.35V510Z\" style=\"vector-effect: none; opacity: 1; stroke-width: 0px; fill: rgb(239, 85, 59); fill-opacity: 1;\"/></g><g class=\"point\"><path d=\"M347.25,510V282H439.85V510Z\" style=\"vector-effect: none; opacity: 1; stroke-width: 0px; fill: rgb(239, 85, 59); fill-opacity: 1;\"/></g></g></g></g></g><g class=\"overplot\"/><path class=\"xlines-above crisp\" d=\"M0,0\" style=\"fill: none;\"/><path class=\"ylines-above crisp\" d=\"M0,0\" style=\"fill: none;\"/><g class=\"overlines-above\"/><g class=\"xaxislayer-above\"><g class=\"xtick\"><text text-anchor=\"middle\" x=\"0\" y=\"583\" transform=\"translate(195.75,0)\" style=\"font-family: 'Open Sans', verdana, arial, sans-serif; font-size: 12px; fill: rgb(42, 63, 95); fill-opacity: 1; white-space: pre; opacity: 1;\">Salary >= $50k</text></g><g class=\"xtick\"><text text-anchor=\"middle\" x=\"0\" y=\"583\" transform=\"translate(427.25,0)\" style=\"font-family: 'Open Sans', verdana, arial, sans-serif; font-size: 12px; fill: rgb(42, 63, 95); fill-opacity: 1; white-space: pre; opacity: 1;\">Salary &#60; $50k</text></g></g><g class=\"yaxislayer-above\"><g class=\"ytick\"><text text-anchor=\"end\" x=\"79\" y=\"4.199999999999999\" transform=\"translate(0,570)\" style=\"font-family: 'Open Sans', verdana, arial, sans-serif; font-size: 12px; fill: rgb(42, 63, 95); fill-opacity: 1; white-space: pre; opacity: 1;\">0</text></g><g class=\"ytick\"><text text-anchor=\"end\" x=\"79\" y=\"4.199999999999999\" style=\"font-family: 'Open Sans', verdana, arial, sans-serif; font-size: 12px; fill: rgb(42, 63, 95); fill-opacity: 1; white-space: pre; opacity: 1;\" transform=\"translate(0,513)\">20</text></g><g class=\"ytick\"><text text-anchor=\"end\" x=\"79\" y=\"4.199999999999999\" style=\"font-family: 'Open Sans', verdana, arial, sans-serif; font-size: 12px; fill: rgb(42, 63, 95); fill-opacity: 1; white-space: pre; opacity: 1;\" transform=\"translate(0,456)\">40</text></g><g class=\"ytick\"><text text-anchor=\"end\" x=\"79\" y=\"4.199999999999999\" style=\"font-family: 'Open Sans', verdana, arial, sans-serif; font-size: 12px; fill: rgb(42, 63, 95); fill-opacity: 1; white-space: pre; opacity: 1;\" transform=\"translate(0,399)\">60</text></g><g class=\"ytick\"><text text-anchor=\"end\" x=\"79\" y=\"4.199999999999999\" style=\"font-family: 'Open Sans', verdana, arial, sans-serif; font-size: 12px; fill: rgb(42, 63, 95); fill-opacity: 1; white-space: pre; opacity: 1;\" transform=\"translate(0,342)\">80</text></g><g class=\"ytick\"><text text-anchor=\"end\" x=\"79\" y=\"4.199999999999999\" style=\"font-family: 'Open Sans', verdana, arial, sans-serif; font-size: 12px; fill: rgb(42, 63, 95); fill-opacity: 1; white-space: pre; opacity: 1;\" transform=\"translate(0,285)\">100</text></g><g class=\"ytick\"><text text-anchor=\"end\" x=\"79\" y=\"4.199999999999999\" style=\"font-family: 'Open Sans', verdana, arial, sans-serif; font-size: 12px; fill: rgb(42, 63, 95); fill-opacity: 1; white-space: pre; opacity: 1;\" transform=\"translate(0,228)\">120</text></g><g class=\"ytick\"><text text-anchor=\"end\" x=\"79\" y=\"4.199999999999999\" style=\"font-family: 'Open Sans', verdana, arial, sans-serif; font-size: 12px; fill: rgb(42, 63, 95); fill-opacity: 1; white-space: pre; opacity: 1;\" transform=\"translate(0,171)\">140</text></g><g class=\"ytick\"><text text-anchor=\"end\" x=\"79\" y=\"4.199999999999999\" style=\"font-family: 'Open Sans', verdana, arial, sans-serif; font-size: 12px; fill: rgb(42, 63, 95); fill-opacity: 1; white-space: pre; opacity: 1;\" transform=\"translate(0,114)\">160</text></g></g><g class=\"overaxes-above\"/></g></g><g class=\"polarlayer\"/><g class=\"smithlayer\"/><g class=\"ternarylayer\"/><g class=\"geolayer\"/><g class=\"funnelarealayer\"/><g class=\"pielayer\"/><g class=\"iciclelayer\"/><g class=\"treemaplayer\"/><g class=\"sunburstlayer\"/><g class=\"glimages\"/><defs id=\"topdefs-7875fd\"><g class=\"clips\"/><clipPath id=\"legend7875fd\"><rect width=\"86\" height=\"67\" x=\"0\" y=\"0\"/></clipPath></defs><g class=\"layer-above\"><g class=\"imagelayer\"/><g class=\"shapelayer\"/></g><g class=\"infolayer\"><g class=\"legend\" pointer-events=\"all\" transform=\"translate(552.26,60)\"><rect class=\"bg\" shape-rendering=\"crispEdges\" width=\"86\" height=\"67\" x=\"0\" y=\"0\" style=\"stroke: rgb(68, 68, 68); stroke-opacity: 1; fill: rgb(255, 255, 255); fill-opacity: 1; stroke-width: 0px;\"/><g class=\"scrollbox\" transform=\"\" clip-path=\"url(#legend7875fd)\"><text class=\"legendtitletext\" text-anchor=\"start\" x=\"2\" y=\"18.2\" style=\"font-family: 'Open Sans', verdana, arial, sans-serif; font-size: 14px; fill: rgb(42, 63, 95); fill-opacity: 1; white-space: pre;\">color</text><g class=\"groups\" transform=\"\"><g class=\"traces\" transform=\"translate(0,32.7)\" style=\"opacity: 1;\"><text class=\"legendtext\" text-anchor=\"start\" x=\"40\" y=\"4.680000000000001\" style=\"font-family: 'Open Sans', verdana, arial, sans-serif; font-size: 12px; fill: rgb(42, 63, 95); fill-opacity: 1; white-space: pre;\">Male</text><g class=\"layers\" style=\"opacity: 1;\"><g class=\"legendfill\"/><g class=\"legendlines\"/><g class=\"legendsymbols\"><g class=\"legendpoints\"><path class=\"legendundefined\" d=\"M6,6H-6V-6H6Z\" transform=\"translate(20,0)\" style=\"stroke-width: 0px; fill: rgb(99, 110, 250); fill-opacity: 1;\"/></g></g></g><rect class=\"legendtoggle\" x=\"0\" y=\"-9.5\" width=\"80.34375\" height=\"19\" style=\"fill: rgb(0, 0, 0); fill-opacity: 0;\"/></g></g><g class=\"groups\" transform=\"\"><g class=\"traces\" transform=\"translate(0,51.7)\" style=\"opacity: 1;\"><text class=\"legendtext\" text-anchor=\"start\" x=\"40\" y=\"4.680000000000001\" style=\"font-family: 'Open Sans', verdana, arial, sans-serif; font-size: 12px; fill: rgb(42, 63, 95); fill-opacity: 1; white-space: pre;\">Female</text><g class=\"layers\" style=\"opacity: 1;\"><g class=\"legendfill\"/><g class=\"legendlines\"/><g class=\"legendsymbols\"><g class=\"legendpoints\"><path class=\"legendundefined\" d=\"M6,6H-6V-6H6Z\" transform=\"translate(20,0)\" style=\"stroke-width: 0px; fill: rgb(239, 85, 59); fill-opacity: 1;\"/></g></g></g><rect class=\"legendtoggle\" x=\"0\" y=\"-9.5\" width=\"80.34375\" height=\"19\" style=\"fill: rgb(0, 0, 0); fill-opacity: 0;\"/></g></g></g><rect class=\"scrollbar\" rx=\"20\" ry=\"3\" width=\"0\" height=\"0\" x=\"0\" y=\"0\" style=\"fill: rgb(128, 139, 164); fill-opacity: 1;\"/></g><g class=\"g-gtitle\"/><g class=\"g-xtitle\"><text class=\"xtitle\" x=\"311.5\" y=\"610.3\" text-anchor=\"middle\" style=\"font-family: 'Open Sans', verdana, arial, sans-serif; font-size: 14px; fill: rgb(42, 63, 95); opacity: 1; font-weight: normal; white-space: pre;\">target</text></g><g class=\"g-ytitle\"><text class=\"ytitle\" transform=\"rotate(-90,34.66875,315)\" x=\"34.66875\" y=\"315\" text-anchor=\"middle\" style=\"font-family: 'Open Sans', verdana, arial, sans-serif; font-size: 14px; fill: rgb(42, 63, 95); opacity: 1; font-weight: normal; white-space: pre;\">count</text></g></g></svg>"
      ]
     },
     "metadata": {},
     "output_type": "display_data"
    }
   ],
   "source": [
    "display_output_c = output.replace({\"target\": {0: \"Salary >= $50k\", 1: \"Salary < $50k\"}})\n",
    "display_df = X_test.replace({\n",
    "    \"sex\": {0: \"Female\", 1: \"Male\"},\n",
    "    \"target\": {0: \"Salary >= $50k\", 1: \"Salary < $50k\"}\n",
    "})\n",
    "\n",
    "fig = px.histogram(\n",
    "    display_output_c,\n",
    "    x=\"target\",\n",
    "    width=650,\n",
    "    height=650,\n",
    "    barmode=\"group\",\n",
    "    color=display_df.sex,\n",
    ")\n",
    "fig.show()"
   ]
  },
  {
   "attachments": {},
   "cell_type": "markdown",
   "metadata": {},
   "source": [
    "### 4c. Count Check\n",
    "Anecdotally, this distribution is much more equitable than either of the previous distributions. How does it fare statistically?"
   ]
  },
  {
   "cell_type": "code",
   "execution_count": 18,
   "metadata": {
    "execution": {
     "iopub.execute_input": "2024-02-22T19:07:21.116056Z",
     "iopub.status.busy": "2024-02-22T19:07:21.115702Z",
     "iopub.status.idle": "2024-02-22T19:07:21.120394Z",
     "shell.execute_reply": "2024-02-22T19:07:21.119751Z"
    }
   },
   "outputs": [
    {
     "name": "stdout",
     "output_type": "stream",
     "text": [
      "p-value: 5.887475838778546e-06\n"
     ]
    }
   ],
   "source": [
    "counts = [\n",
    "    [X_test.target.sum(), len(X_test) - X_test.target.sum()], [output.target.sum(), len(output) - output.target.sum()]\n",
    "]\n",
    "\n",
    "_, p_value, _, _ = chi2_contingency(counts, lambda_=\"log-likelihood\")\n",
    "print(f\"p-value: {p_value}\")"
   ]
  },
  {
   "attachments": {},
   "cell_type": "markdown",
   "metadata": {},
   "source": [
    "As we can see, the p-value is below even very low significance levels, indicating that there is a strong statistical difference between the original, inequitable distribution and the new distribution. We can compare the three distributions visually."
   ]
  },
  {
   "attachments": {},
   "cell_type": "markdown",
   "metadata": {},
   "source": [
    "### 4d. Accuracy Check"
   ]
  },
  {
   "cell_type": "code",
   "execution_count": 19,
   "metadata": {
    "execution": {
     "iopub.execute_input": "2024-02-22T19:07:21.123022Z",
     "iopub.status.busy": "2024-02-22T19:07:21.122669Z",
     "iopub.status.idle": "2024-02-22T19:07:21.127588Z",
     "shell.execute_reply": "2024-02-22T19:07:21.126963Z"
    }
   },
   "outputs": [
    {
     "data": {
      "text/plain": [
       "0.592"
      ]
     },
     "execution_count": 19,
     "metadata": {},
     "output_type": "execute_result"
    }
   ],
   "source": [
    "accuracy = round(accuracy_score(X_test[\"target\"], predictions), 3)\n",
    "accuracy"
   ]
  },
  {
   "attachments": {},
   "cell_type": "markdown",
   "metadata": {},
   "source": [
    "Unfortunately we can see that accuracy has dropped to a fairly low level. There is generally a trade off between accuracy and bias mitation, especially when testing is done in comparison to the original, biased data. The user must gauge this trade off carefully. At the same time, using only the accuracy score as the decision metric may paint an incomplete picture. For example, since the time in which our dataset, `Adult`, was created in 1996, there have been notable improvements in equality among sexes. Although not recommended, in a situation where we are using a dataset in 1996 to make inferences in present time, correcting for these biases may actually improve model performance on present test data as the bias is not as strong. These are all hypotheticals, but they illustrate the careful thought that must go into interpreting these results. \n",
    "\n"
   ]
  },
  {
   "attachments": {},
   "cell_type": "markdown",
   "metadata": {},
   "source": [
    "# 5. Comparison\n",
    "\n",
    "This graph is shown just to give a side by side comparison of the changes controlling for the various features. \n"
   ]
  },
  {
   "cell_type": "code",
   "execution_count": 20,
   "metadata": {
    "execution": {
     "iopub.execute_input": "2024-02-22T19:07:21.129997Z",
     "iopub.status.busy": "2024-02-22T19:07:21.129811Z",
     "iopub.status.idle": "2024-02-22T19:07:21.326600Z",
     "shell.execute_reply": "2024-02-22T19:07:21.325922Z"
    }
   },
   "outputs": [
    {
     "data": {
      "image/svg+xml": [
       "<svg class=\"main-svg\" xmlns=\"http://www.w3.org/2000/svg\" xmlns:xlink=\"http://www.w3.org/1999/xlink\" width=\"700\" height=\"650\" style=\"\" viewBox=\"0 0 700 650\"><rect x=\"0\" y=\"0\" width=\"700\" height=\"650\" style=\"fill: rgb(255, 255, 255); fill-opacity: 1;\"/><defs id=\"defs-18570c\"><g class=\"clips\"><clipPath id=\"clip18570cxyplot\" class=\"plotclip\"><rect width=\"147.91111111111113\" height=\"470\"/></clipPath><clipPath id=\"clip18570cx2y2plot\" class=\"plotclip\"><rect width=\"147.91111111111113\" height=\"470\"/></clipPath><clipPath id=\"clip18570cx3y3plot\" class=\"plotclip\"><rect width=\"147.9111111111111\" height=\"470\"/></clipPath><clipPath class=\"axesclip\" id=\"clip18570cx\"><rect x=\"80\" y=\"0\" width=\"147.91111111111113\" height=\"650\"/></clipPath><clipPath class=\"axesclip\" id=\"clip18570cy\"><rect x=\"0\" y=\"100\" width=\"700\" height=\"470\"/></clipPath><clipPath class=\"axesclip\" id=\"clip18570cxy\"><rect x=\"80\" y=\"100\" width=\"147.91111111111113\" height=\"470\"/></clipPath><clipPath class=\"axesclip\" id=\"clip18570cy2\"><rect x=\"0\" y=\"100\" width=\"700\" height=\"470\"/></clipPath><clipPath class=\"axesclip\" id=\"clip18570cxy2\"><rect x=\"80\" y=\"100\" width=\"147.91111111111113\" height=\"470\"/></clipPath><clipPath class=\"axesclip\" id=\"clip18570cy3\"><rect x=\"0\" y=\"100\" width=\"700\" height=\"470\"/></clipPath><clipPath class=\"axesclip\" id=\"clip18570cxy3\"><rect x=\"80\" y=\"100\" width=\"147.91111111111113\" height=\"470\"/></clipPath><clipPath class=\"axesclip\" id=\"clip18570cx2\"><rect x=\"262.0444444444445\" y=\"0\" width=\"147.91111111111113\" height=\"650\"/></clipPath><clipPath class=\"axesclip\" id=\"clip18570cx2y\"><rect x=\"262.0444444444445\" y=\"100\" width=\"147.91111111111113\" height=\"470\"/></clipPath><clipPath class=\"axesclip\" id=\"clip18570cx2y2\"><rect x=\"262.0444444444445\" y=\"100\" width=\"147.91111111111113\" height=\"470\"/></clipPath><clipPath class=\"axesclip\" id=\"clip18570cx2y3\"><rect x=\"262.0444444444445\" y=\"100\" width=\"147.91111111111113\" height=\"470\"/></clipPath><clipPath class=\"axesclip\" id=\"clip18570cx3\"><rect x=\"444.0888888888889\" y=\"0\" width=\"147.9111111111111\" height=\"650\"/></clipPath><clipPath class=\"axesclip\" id=\"clip18570cx3y\"><rect x=\"444.0888888888889\" y=\"100\" width=\"147.9111111111111\" height=\"470\"/></clipPath><clipPath class=\"axesclip\" id=\"clip18570cx3y2\"><rect x=\"444.0888888888889\" y=\"100\" width=\"147.9111111111111\" height=\"470\"/></clipPath><clipPath class=\"axesclip\" id=\"clip18570cx3y3\"><rect x=\"444.0888888888889\" y=\"100\" width=\"147.9111111111111\" height=\"470\"/></clipPath></g><g class=\"gradients\"/><g class=\"patterns\"/></defs><g class=\"bglayer\"><rect class=\"bg\" x=\"80\" y=\"100\" width=\"147.91111111111113\" height=\"470\" style=\"fill: rgb(229, 236, 246); fill-opacity: 1; stroke-width: 0;\"/><rect class=\"bg\" x=\"262.0444444444445\" y=\"100\" width=\"147.91111111111113\" height=\"470\" style=\"fill: rgb(229, 236, 246); fill-opacity: 1; stroke-width: 0;\"/><rect class=\"bg\" x=\"444.0888888888889\" y=\"100\" width=\"147.9111111111111\" height=\"470\" style=\"fill: rgb(229, 236, 246); fill-opacity: 1; stroke-width: 0;\"/></g><g class=\"layer-below\"><g class=\"imagelayer\"/><g class=\"shapelayer\"/></g><g class=\"cartesianlayer\"><g class=\"subplot xy\"><g class=\"layer-subplot\"><g class=\"shapelayer\"/><g class=\"imagelayer\"/></g><g class=\"minor-gridlayer\"><g class=\"x\"/><g class=\"y\"/></g><g class=\"gridlayer\"><g class=\"x\"/><g class=\"y\"><path class=\"ygrid crisp\" transform=\"translate(0,461.63)\" d=\"M80,0h147.91111111111113\" style=\"stroke: rgb(255, 255, 255); stroke-opacity: 1; stroke-width: 1px;\"/><path class=\"ygrid crisp\" transform=\"translate(0,353.25)\" d=\"M80,0h147.91111111111113\" style=\"stroke: rgb(255, 255, 255); stroke-opacity: 1; stroke-width: 1px;\"/><path class=\"ygrid crisp\" transform=\"translate(0,244.88)\" d=\"M80,0h147.91111111111113\" style=\"stroke: rgb(255, 255, 255); stroke-opacity: 1; stroke-width: 1px;\"/><path class=\"ygrid crisp\" transform=\"translate(0,136.5)\" d=\"M80,0h147.91111111111113\" style=\"stroke: rgb(255, 255, 255); stroke-opacity: 1; stroke-width: 1px;\"/></g></g><g class=\"zerolinelayer\"><path class=\"yzl zl crisp\" transform=\"translate(0,570)\" d=\"M80,0h147.91111111111113\" style=\"stroke: rgb(255, 255, 255); stroke-opacity: 1; stroke-width: 2px;\"/></g><path class=\"xlines-below\"/><path class=\"ylines-below\"/><g class=\"overlines-below\"/><g class=\"xaxislayer-below\"/><g class=\"yaxislayer-below\"/><g class=\"overaxes-below\"/><g class=\"plot\" transform=\"translate(80,100)\" clip-path=\"url(#clip18570cxyplot)\"><g class=\"barlayer mlayer\"><g class=\"trace bars\" style=\"opacity: 1;\"><g class=\"points\"><g class=\"point\"><path d=\"M7.4,470V105.86H36.98V470Z\" style=\"vector-effect: none; opacity: 1; stroke-width: 0px; fill: rgb(99, 110, 250); fill-opacity: 1;\"/></g><g class=\"point\"><path d=\"M81.35,470V136.21H110.93V470Z\" style=\"vector-effect: none; opacity: 1; stroke-width: 0px; fill: rgb(99, 110, 250); fill-opacity: 1;\"/></g></g></g><g class=\"trace bars\" style=\"opacity: 1;\"><g class=\"points\"><g class=\"point\"><path d=\"M36.98,470V199.07H66.56V470Z\" style=\"vector-effect: none; opacity: 1; stroke-width: 0px; fill: rgb(239, 85, 59); fill-opacity: 1;\"/></g><g class=\"point\"><path d=\"M110.93,470V435.32H140.52V470Z\" style=\"vector-effect: none; opacity: 1; stroke-width: 0px; fill: rgb(239, 85, 59); fill-opacity: 1;\"/></g></g></g></g></g><g class=\"overplot\"/><path class=\"xlines-above crisp\" d=\"M0,0\" style=\"fill: none;\"/><path class=\"ylines-above crisp\" d=\"M0,0\" style=\"fill: none;\"/><g class=\"overlines-above\"/><g class=\"xaxislayer-above\"><g class=\"xtick\"><text text-anchor=\"start\" x=\"0\" y=\"583\" transform=\"translate(116.97999999999999,0) rotate(29.999999999999996,0,577)\" style=\"font-family: 'Open Sans', verdana, arial, sans-serif; font-size: 12px; fill: rgb(42, 63, 95); fill-opacity: 1; white-space: pre; opacity: 1;\">Salary &#60; $50k</text></g><g class=\"xtick\"><text text-anchor=\"start\" x=\"0\" y=\"583\" transform=\"translate(190.93,0) rotate(29.999999999999996,0,577)\" style=\"font-family: 'Open Sans', verdana, arial, sans-serif; font-size: 12px; fill: rgb(42, 63, 95); fill-opacity: 1; white-space: pre; opacity: 1;\">Salary >= $50k</text></g></g><g class=\"yaxislayer-above\"><g class=\"ytick\"><text text-anchor=\"end\" x=\"79\" y=\"4.199999999999999\" transform=\"translate(0,570)\" style=\"font-family: 'Open Sans', verdana, arial, sans-serif; font-size: 12px; fill: rgb(42, 63, 95); fill-opacity: 1; white-space: pre; opacity: 1;\">0</text></g><g class=\"ytick\"><text text-anchor=\"end\" x=\"79\" y=\"4.199999999999999\" style=\"font-family: 'Open Sans', verdana, arial, sans-serif; font-size: 12px; fill: rgb(42, 63, 95); fill-opacity: 1; white-space: pre; opacity: 1;\" transform=\"translate(0,461.63)\">50</text></g><g class=\"ytick\"><text text-anchor=\"end\" x=\"79\" y=\"4.199999999999999\" style=\"font-family: 'Open Sans', verdana, arial, sans-serif; font-size: 12px; fill: rgb(42, 63, 95); fill-opacity: 1; white-space: pre; opacity: 1;\" transform=\"translate(0,353.25)\">100</text></g><g class=\"ytick\"><text text-anchor=\"end\" x=\"79\" y=\"4.199999999999999\" style=\"font-family: 'Open Sans', verdana, arial, sans-serif; font-size: 12px; fill: rgb(42, 63, 95); fill-opacity: 1; white-space: pre; opacity: 1;\" transform=\"translate(0,244.88)\">150</text></g><g class=\"ytick\"><text text-anchor=\"end\" x=\"79\" y=\"4.199999999999999\" style=\"font-family: 'Open Sans', verdana, arial, sans-serif; font-size: 12px; fill: rgb(42, 63, 95); fill-opacity: 1; white-space: pre; opacity: 1;\" transform=\"translate(0,136.5)\">200</text></g></g><g class=\"overaxes-above\"/></g><g class=\"subplot x2y2\"><g class=\"layer-subplot\"><g class=\"shapelayer\"/><g class=\"imagelayer\"/></g><g class=\"minor-gridlayer\"><g class=\"x2\"/><g class=\"y2\"/></g><g class=\"gridlayer\"><g class=\"x2\"/><g class=\"y2\"><path class=\"y2grid crisp\" transform=\"translate(0,461.63)\" d=\"M262.0444444444445,0h147.91111111111113\" style=\"stroke: rgb(255, 255, 255); stroke-opacity: 1; stroke-width: 1px;\"/><path class=\"y2grid crisp\" transform=\"translate(0,353.25)\" d=\"M262.0444444444445,0h147.91111111111113\" style=\"stroke: rgb(255, 255, 255); stroke-opacity: 1; stroke-width: 1px;\"/><path class=\"y2grid crisp\" transform=\"translate(0,244.88)\" d=\"M262.0444444444445,0h147.91111111111113\" style=\"stroke: rgb(255, 255, 255); stroke-opacity: 1; stroke-width: 1px;\"/><path class=\"y2grid crisp\" transform=\"translate(0,136.5)\" d=\"M262.0444444444445,0h147.91111111111113\" style=\"stroke: rgb(255, 255, 255); stroke-opacity: 1; stroke-width: 1px;\"/></g></g><g class=\"zerolinelayer\"><path class=\"y2zl zl crisp\" transform=\"translate(0,570)\" d=\"M262.0444444444445,0h147.91111111111113\" style=\"stroke: rgb(255, 255, 255); stroke-opacity: 1; stroke-width: 2px;\"/></g><path class=\"xlines-below\"/><path class=\"ylines-below\"/><g class=\"overlines-below\"/><g class=\"xaxislayer-below\"/><g class=\"yaxislayer-below\"/><g class=\"overaxes-below\"/><g class=\"plot\" transform=\"translate(262.0444444444445,100)\" clip-path=\"url(#clip18570cx2y2plot)\"><g class=\"barlayer mlayer\"><g class=\"trace bars\" style=\"opacity: 1;\"><g class=\"points\"><g class=\"point\"><path d=\"M7.4,470V23.5H36.98V470Z\" style=\"vector-effect: none; opacity: 1; stroke-width: 0px; fill: rgb(99, 110, 250); fill-opacity: 1;\"/></g><g class=\"point\"><path d=\"M81.35,470V218.57H110.93V470Z\" style=\"vector-effect: none; opacity: 1; stroke-width: 0px; fill: rgb(99, 110, 250); fill-opacity: 1;\"/></g></g></g><g class=\"trace bars\" style=\"opacity: 1;\"><g class=\"points\"><g class=\"point\"><path d=\"M36.98,470V214.24H66.56V470Z\" style=\"vector-effect: none; opacity: 1; stroke-width: 0px; fill: rgb(239, 85, 59); fill-opacity: 1;\"/></g><g class=\"point\"><path d=\"M110.93,470V420.15H140.52V470Z\" style=\"vector-effect: none; opacity: 1; stroke-width: 0px; fill: rgb(239, 85, 59); fill-opacity: 1;\"/></g></g></g></g></g><g class=\"overplot\"/><path class=\"xlines-above crisp\" d=\"M0,0\" style=\"fill: none;\"/><path class=\"ylines-above crisp\" d=\"M0,0\" style=\"fill: none;\"/><g class=\"overlines-above\"/><g class=\"xaxislayer-above\"><g class=\"x2tick\"><text text-anchor=\"start\" x=\"0\" y=\"583\" transform=\"translate(299.0244444444445,0) rotate(29.999999999999996,0,577)\" style=\"font-family: 'Open Sans', verdana, arial, sans-serif; font-size: 12px; fill: rgb(42, 63, 95); fill-opacity: 1; white-space: pre; opacity: 1;\">Salary &#60; $50k</text></g><g class=\"x2tick\"><text text-anchor=\"start\" x=\"0\" y=\"583\" transform=\"translate(372.9744444444445,0) rotate(29.999999999999996,0,577)\" style=\"font-family: 'Open Sans', verdana, arial, sans-serif; font-size: 12px; fill: rgb(42, 63, 95); fill-opacity: 1; white-space: pre; opacity: 1;\">Salary >= $50k</text></g></g><g class=\"yaxislayer-above\"/><g class=\"overaxes-above\"/></g><g class=\"subplot x3y3\"><g class=\"layer-subplot\"><g class=\"shapelayer\"/><g class=\"imagelayer\"/></g><g class=\"minor-gridlayer\"><g class=\"x3\"/><g class=\"y3\"/></g><g class=\"gridlayer\"><g class=\"x3\"/><g class=\"y3\"><path class=\"y3grid crisp\" transform=\"translate(0,461.63)\" d=\"M444.0888888888889,0h147.9111111111111\" style=\"stroke: rgb(255, 255, 255); stroke-opacity: 1; stroke-width: 1px;\"/><path class=\"y3grid crisp\" transform=\"translate(0,353.25)\" d=\"M444.0888888888889,0h147.9111111111111\" style=\"stroke: rgb(255, 255, 255); stroke-opacity: 1; stroke-width: 1px;\"/><path class=\"y3grid crisp\" transform=\"translate(0,244.88)\" d=\"M444.0888888888889,0h147.9111111111111\" style=\"stroke: rgb(255, 255, 255); stroke-opacity: 1; stroke-width: 1px;\"/><path class=\"y3grid crisp\" transform=\"translate(0,136.5)\" d=\"M444.0888888888889,0h147.9111111111111\" style=\"stroke: rgb(255, 255, 255); stroke-opacity: 1; stroke-width: 1px;\"/></g></g><g class=\"zerolinelayer\"><path class=\"y3zl zl crisp\" transform=\"translate(0,570)\" d=\"M444.0888888888889,0h147.9111111111111\" style=\"stroke: rgb(255, 255, 255); stroke-opacity: 1; stroke-width: 2px;\"/></g><path class=\"xlines-below\"/><path class=\"ylines-below\"/><g class=\"overlines-below\"/><g class=\"xaxislayer-below\"/><g class=\"yaxislayer-below\"/><g class=\"overaxes-below\"/><g class=\"plot\" transform=\"translate(444.0888888888889,100)\" clip-path=\"url(#clip18570cx3y3plot)\"><g class=\"barlayer mlayer\"><g class=\"trace bars\" style=\"opacity: 1;\"><g class=\"points\"><g class=\"point\"><path d=\"M7.4,470V140.54H36.98V470Z\" style=\"vector-effect: none; opacity: 1; stroke-width: 0px; fill: rgb(99, 110, 250); fill-opacity: 1;\"/></g><g class=\"point\"><path d=\"M81.35,470V101.53H110.93V470Z\" style=\"vector-effect: none; opacity: 1; stroke-width: 0px; fill: rgb(99, 110, 250); fill-opacity: 1;\"/></g></g></g><g class=\"trace bars\" style=\"opacity: 1;\"><g class=\"points\"><g class=\"point\"><path d=\"M36.98,470V296.6H66.56V470Z\" style=\"vector-effect: none; opacity: 1; stroke-width: 0px; fill: rgb(239, 85, 59); fill-opacity: 1;\"/></g><g class=\"point\"><path d=\"M110.93,470V337.78H140.52V470Z\" style=\"vector-effect: none; opacity: 1; stroke-width: 0px; fill: rgb(239, 85, 59); fill-opacity: 1;\"/></g></g></g></g></g><g class=\"overplot\"/><path class=\"xlines-above crisp\" d=\"M0,0\" style=\"fill: none;\"/><path class=\"ylines-above crisp\" d=\"M0,0\" style=\"fill: none;\"/><g class=\"overlines-above\"/><g class=\"xaxislayer-above\"><g class=\"x3tick\"><text text-anchor=\"start\" x=\"0\" y=\"583\" transform=\"translate(481.0688888888889,0) rotate(29.999999999999996,0,577)\" style=\"font-family: 'Open Sans', verdana, arial, sans-serif; font-size: 12px; fill: rgb(42, 63, 95); fill-opacity: 1; white-space: pre; opacity: 1;\">Salary &#60; $50k</text></g><g class=\"x3tick\"><text text-anchor=\"start\" x=\"0\" y=\"583\" transform=\"translate(555.0188888888889,0) rotate(29.999999999999996,0,577)\" style=\"font-family: 'Open Sans', verdana, arial, sans-serif; font-size: 12px; fill: rgb(42, 63, 95); fill-opacity: 1; white-space: pre; opacity: 1;\">Salary >= $50k</text></g></g><g class=\"yaxislayer-above\"/><g class=\"overaxes-above\"/></g></g><g class=\"polarlayer\"/><g class=\"smithlayer\"/><g class=\"ternarylayer\"/><g class=\"geolayer\"/><g class=\"funnelarealayer\"/><g class=\"pielayer\"/><g class=\"iciclelayer\"/><g class=\"treemaplayer\"/><g class=\"sunburstlayer\"/><g class=\"glimages\"/><defs id=\"topdefs-18570c\"><g class=\"clips\"/><clipPath id=\"legend18570c\"><rect width=\"86\" height=\"77\" x=\"0\" y=\"0\"/></clipPath></defs><g class=\"layer-above\"><g class=\"imagelayer\"/><g class=\"shapelayer\"/></g><g class=\"infolayer\"><g class=\"legend\" pointer-events=\"all\" transform=\"translate(602.24,100)\"><rect class=\"bg\" shape-rendering=\"crispEdges\" style=\"stroke: rgb(68, 68, 68); stroke-opacity: 1; fill: rgb(255, 255, 255); fill-opacity: 1; stroke-width: 0px;\" width=\"86\" height=\"77\" x=\"0\" y=\"0\"/><g class=\"scrollbox\" transform=\"\" clip-path=\"url(#legend18570c)\"><text class=\"legendtitletext\" text-anchor=\"start\" x=\"2\" y=\"18.2\" style=\"font-family: 'Open Sans', verdana, arial, sans-serif; font-size: 14px; fill: rgb(42, 63, 95); fill-opacity: 1; white-space: pre;\">Sex</text><g class=\"groups\" transform=\"\"><g class=\"traces\" transform=\"translate(0,32.7)\" style=\"opacity: 1;\"><text class=\"legendtext\" text-anchor=\"start\" x=\"40\" y=\"4.680000000000001\" style=\"font-family: 'Open Sans', verdana, arial, sans-serif; font-size: 12px; fill: rgb(42, 63, 95); fill-opacity: 1; white-space: pre;\">Male</text><g class=\"layers\" style=\"opacity: 1;\"><g class=\"legendfill\"/><g class=\"legendlines\"/><g class=\"legendsymbols\"><g class=\"legendpoints\"><path class=\"legendundefined\" d=\"M6,6H-6V-6H6Z\" transform=\"translate(20,0)\" style=\"stroke-width: 0px; fill: rgb(99, 110, 250); fill-opacity: 1;\"/></g></g></g><rect class=\"legendtoggle\" x=\"0\" y=\"-9.5\" width=\"80.34375\" height=\"19\" style=\"fill: rgb(0, 0, 0); fill-opacity: 0;\"/></g></g><g class=\"groups\" transform=\"translate(0,10)\"><g class=\"traces\" transform=\"translate(0,51.7)\" style=\"opacity: 1;\"><text class=\"legendtext\" text-anchor=\"start\" x=\"40\" y=\"4.680000000000001\" style=\"font-family: 'Open Sans', verdana, arial, sans-serif; font-size: 12px; fill: rgb(42, 63, 95); fill-opacity: 1; white-space: pre;\">Female</text><g class=\"layers\" style=\"opacity: 1;\"><g class=\"legendfill\"/><g class=\"legendlines\"/><g class=\"legendsymbols\"><g class=\"legendpoints\"><path class=\"legendundefined\" d=\"M6,6H-6V-6H6Z\" transform=\"translate(20,0)\" style=\"stroke-width: 0px; fill: rgb(239, 85, 59); fill-opacity: 1;\"/></g></g></g><rect class=\"legendtoggle\" x=\"0\" y=\"-9.5\" width=\"80.34375\" height=\"19\" style=\"fill: rgb(0, 0, 0); fill-opacity: 0;\"/></g></g></g><rect class=\"scrollbar\" rx=\"20\" ry=\"3\" width=\"0\" height=\"0\" x=\"0\" y=\"0\" style=\"fill: rgb(128, 139, 164); fill-opacity: 1;\"/></g><g class=\"g-gtitle\"/><g class=\"g-xtitle\"/><g class=\"g-x2title\"/><g class=\"g-x3title\"/><g class=\"g-ytitle\"/><g class=\"g-y2title\"/><g class=\"g-y3title\"/><g class=\"annotation\" data-index=\"0\" style=\"opacity: 1;\"><g class=\"annotation-text-g\" transform=\"rotate(0,153.95555555555558,89.49999999999999)\"><g class=\"cursor-pointer\" transform=\"translate(-92,79)\"><rect class=\"bg\" x=\"0.5\" y=\"0.5\" width=\"491\" height=\"20\" style=\"stroke-width: 1px; stroke: rgb(0, 0, 0); stroke-opacity: 0; fill: rgb(0, 0, 0); fill-opacity: 0;\"/><text class=\"annotation-text\" text-anchor=\"middle\" x=\"245.671875\" y=\"16\" style=\"font-family: 'Open Sans', verdana, arial, sans-serif; font-size: 16px; fill: rgb(42, 63, 95); fill-opacity: 1; white-space: pre;\">Predictions Controlling for workclass, education, and hours-per-week</text></g></g></g><g class=\"annotation\" data-index=\"1\" style=\"opacity: 1;\"><g class=\"annotation-text-g\" transform=\"rotate(0,336,89.49999999999999)\"><g class=\"cursor-pointer\" transform=\"translate(88,79)\"><rect class=\"bg\" x=\"0.5\" y=\"0.5\" width=\"496\" height=\"20\" style=\"stroke-width: 1px; stroke: rgb(0, 0, 0); stroke-opacity: 0; fill: rgb(0, 0, 0); fill-opacity: 0;\"/><text class=\"annotation-text\" text-anchor=\"middle\" x=\"248.359375\" y=\"16\" style=\"font-family: 'Open Sans', verdana, arial, sans-serif; font-size: 16px; fill: rgb(42, 63, 95); fill-opacity: 1; white-space: pre;\">Predictions w/ previous plus ignoring relationship and marriage-status</text></g></g></g><g class=\"annotation\" data-index=\"2\" style=\"opacity: 1;\"><g class=\"annotation-text-g\" transform=\"rotate(0,518.0444444444445,89.49999999999999)\"><g class=\"cursor-pointer\" transform=\"translate(351,79)\"><rect class=\"bg\" x=\"0.5\" y=\"0.5\" width=\"334\" height=\"20\" style=\"stroke-width: 1px; stroke: rgb(0, 0, 0); stroke-opacity: 0; fill: rgb(0, 0, 0); fill-opacity: 0;\"/><text class=\"annotation-text\" text-anchor=\"middle\" x=\"166.96875\" y=\"16\" style=\"font-family: 'Open Sans', verdana, arial, sans-serif; font-size: 16px; fill: rgb(42, 63, 95); fill-opacity: 1; white-space: pre;\">Predictions w/ previous plus same age bracket</text></g></g></g><g class=\"annotation\" data-index=\"3\" style=\"opacity: 1;\"><g class=\"annotation-text-g\" transform=\"rotate(0,336,610.5)\"><g class=\"cursor-pointer\" transform=\"translate(312,600)\"><rect class=\"bg\" x=\"0.5\" y=\"0.5\" width=\"48\" height=\"20\" style=\"stroke-width: 1px; stroke: rgb(0, 0, 0); stroke-opacity: 0; fill: rgb(0, 0, 0); fill-opacity: 0;\"/><text class=\"annotation-text\" text-anchor=\"middle\" x=\"24.234375\" y=\"16\" style=\"font-family: 'Open Sans', verdana, arial, sans-serif; font-size: 16px; fill: rgb(42, 63, 95); fill-opacity: 1; white-space: pre;\">Target</text></g></g></g><g class=\"annotation\" data-index=\"4\" style=\"opacity: 1;\"><g class=\"annotation-text-g\" transform=\"rotate(-90,29.5,335)\"><g class=\"cursor-pointer\" transform=\"translate(6,325)\"><rect class=\"bg\" x=\"0.5\" y=\"0.5\" width=\"46\" height=\"20\" style=\"stroke-width: 1px; stroke: rgb(0, 0, 0); stroke-opacity: 0; fill: rgb(0, 0, 0); fill-opacity: 0;\"/><text class=\"annotation-text\" text-anchor=\"middle\" x=\"23.359375\" y=\"16\" style=\"font-family: 'Open Sans', verdana, arial, sans-serif; font-size: 16px; fill: rgb(42, 63, 95); fill-opacity: 1; white-space: pre;\">Count</text></g></g></g></g></svg>"
      ]
     },
     "metadata": {},
     "output_type": "display_data"
    }
   ],
   "source": [
    "display_df = X_test.replace({\n",
    "    \"sex\": {0: \"Female\", 1: \"Male\"},\n",
    "    \"target\": {0: \"Salary >= $50k\", 1: \"Salary < $50k\"}\n",
    "})\n",
    "\n",
    "fa = px.histogram(\n",
    "    display_output_a,\n",
    "    x=\"target\",\n",
    "    barmode=\"group\",\n",
    "    color=display_df.sex,\n",
    "    title=\"Predictions Controlling for\\nworkclass, education, and hours-per-week\",\n",
    ")\n",
    "\n",
    "fb = px.histogram(\n",
    "    display_output_b,\n",
    "    x=\"target\",\n",
    "    barmode=\"group\",\n",
    "    color=display_df.sex,\n",
    "    title=\"Predictions w/ previous plus\\nignoring relationship and marriage-status\",\n",
    ")\n",
    "\n",
    "fc = px.histogram(\n",
    "    display_output_c,\n",
    "    x=\"target\",\n",
    "    barmode=\"group\",\n",
    "    color=display_df.sex,\n",
    "    title=\"Predictions w/ previous plus\\nsame age bracket\",\n",
    ")\n",
    "\n",
    "fig = compose_figures([fa, fb, fc], 1, 3, shared_yaxes=True, x_title=\"Target\", y_title=\"Count\")\n",
    "fig.update_layout(height=650, legend_title_text=\"Sex\")\n",
    "fig.update_xaxes(categoryorder=\"array\", categoryarray=[\"Salary < $50k\", \"Salary >= $50k\"])\n",
    "fig.show()"
   ]
  },
  {
   "attachments": {},
   "cell_type": "markdown",
   "metadata": {},
   "source": [
    "\n",
    "# Conclusion and next steps\n",
    "\n",
    "As shown, Howso Engine enables effective data exploration and bias mitigation on a single model with one train and analysis. This should not be done without ample consideration, as data bias is not always a straightforward phenomenon. We see that if we control for certain features, we were likely to improve the quality of our Trainee without grealy impacting the performance, while for other features, the performance impact may be too strong. This means we must be selective in what we adjust for, and in our example, adjusting for `Age` is most likely not recommended due to the performance and lack of intuition on its bias. \n",
    "\n",
    "This recipe is meant to show a useful, unique, and thought-provoking use case. It is also meant to start opening up the door of possibilities of using Howso Engine. There are countless other use cases that the user may wish to explore and we leave that up to the user to continue. We have one more recommended recipe, `6-validation.ipynb`, that will give an explanation and demonstration into some of the useful capabilities that arrise from instance-based modeling."
   ]
  }
 ],
 "metadata": {
  "kernelspec": {
   "display_name": "Python 3 (ipykernel)",
   "language": "python",
   "name": "python3"
  },
  "language_info": {
   "codemirror_mode": {
    "name": "ipython",
    "version": 3
   },
   "file_extension": ".py",
   "mimetype": "text/x-python",
   "name": "python",
   "nbconvert_exporter": "python",
   "pygments_lexer": "ipython3",
   "version": "3.9.18"
  },
  "vscode": {
   "interpreter": {
    "hash": "fd66890adbedad53ae8487873914636f139c48d180f9af233b1eacb68495f4c7"
   }
  }
 },
 "nbformat": 4,
 "nbformat_minor": 4
}
