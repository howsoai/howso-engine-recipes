{
 "cells": [
  {
   "attachments": {},
   "cell_type": "markdown",
   "metadata": {},
   "source": [
    "# Recipe 5: Bias Mitigation\n",
    "## Overview \n",
    "\n",
    "The previous recipes showed us how to develop an effective Trainee from a results perspective. We were able to find possible outlier Cases and edit our Trainee. However, there may a situation where data in our Trainee is technically correct but there are harmful or unnessary underlying trends and biases in that data. Howso Engine enables biases in data to be identified, understood, and mitigated. We encourage users to review the Howso Bias Mitigation Document for more information. \n"
   ]
  },
  {
   "attachments": {},
   "cell_type": "markdown",
   "metadata": {},
   "source": [
    "## Recipe Goals:\n",
    "\n",
    "This recipe will show how Howso Engine can provide organizations opportunities to identify data biases for a variety of use cases, empowering true, ethical data insights."
   ]
  },
  {
   "cell_type": "code",
   "execution_count": 1,
   "metadata": {},
   "outputs": [],
   "source": [
    "import matplotlib.pyplot as plt\n",
    "import numpy as np\n",
    "import pandas as pd\n",
    "from pmlb import fetch_data\n",
    "from scipy.stats import chi2_contingency\n",
    "import seaborn as sns\n",
    "from sklearn.metrics import accuracy_score\n",
    "from sklearn.model_selection import train_test_split\n",
    "\n",
    "from howso.engine import Trainee\n",
    "from howso.utilities import infer_feature_attributes"
   ]
  },
  {
   "attachments": {},
   "cell_type": "markdown",
   "metadata": {},
   "source": [
    "# Section 1: Train and Analyze\n"
   ]
  },
  {
   "attachments": {},
   "cell_type": "markdown",
   "metadata": {},
   "source": [
    "### 1. Load Data\n",
    "\n",
    "Our example dataset for this recipe continues to be the well known `Adult` dataset. This dataset consists of 14 Context Features and 1 Action Feature. The Action Feature in this version of the `Adult` dataset has been renamed to `target` and it takes the form of a binary indicator for whether a person in the data makes over $50,000/year (*target*=1) or less (*target*=0)."
   ]
  },
  {
   "cell_type": "code",
   "execution_count": 2,
   "metadata": {},
   "outputs": [
    {
     "data": {
      "text/html": [
       "<div>\n",
       "<style scoped>\n",
       "    .dataframe tbody tr th:only-of-type {\n",
       "        vertical-align: middle;\n",
       "    }\n",
       "\n",
       "    .dataframe tbody tr th {\n",
       "        vertical-align: top;\n",
       "    }\n",
       "\n",
       "    .dataframe thead th {\n",
       "        text-align: right;\n",
       "    }\n",
       "</style>\n",
       "<table border=\"1\" class=\"dataframe\">\n",
       "  <thead>\n",
       "    <tr style=\"text-align: right;\">\n",
       "      <th></th>\n",
       "      <th>age</th>\n",
       "      <th>workclass</th>\n",
       "      <th>fnlwgt</th>\n",
       "      <th>education</th>\n",
       "      <th>education-num</th>\n",
       "      <th>marital-status</th>\n",
       "      <th>occupation</th>\n",
       "      <th>relationship</th>\n",
       "      <th>race</th>\n",
       "      <th>sex</th>\n",
       "      <th>capital-gain</th>\n",
       "      <th>capital-loss</th>\n",
       "      <th>hours-per-week</th>\n",
       "      <th>native-country</th>\n",
       "      <th>target</th>\n",
       "    </tr>\n",
       "  </thead>\n",
       "  <tbody>\n",
       "    <tr>\n",
       "      <th>0</th>\n",
       "      <td>39.0</td>\n",
       "      <td>7</td>\n",
       "      <td>77516.0</td>\n",
       "      <td>9</td>\n",
       "      <td>13.0</td>\n",
       "      <td>4</td>\n",
       "      <td>1</td>\n",
       "      <td>1</td>\n",
       "      <td>4</td>\n",
       "      <td>1</td>\n",
       "      <td>2174.0</td>\n",
       "      <td>0.0</td>\n",
       "      <td>40.0</td>\n",
       "      <td>39</td>\n",
       "      <td>1</td>\n",
       "    </tr>\n",
       "    <tr>\n",
       "      <th>1</th>\n",
       "      <td>50.0</td>\n",
       "      <td>6</td>\n",
       "      <td>83311.0</td>\n",
       "      <td>9</td>\n",
       "      <td>13.0</td>\n",
       "      <td>2</td>\n",
       "      <td>4</td>\n",
       "      <td>0</td>\n",
       "      <td>4</td>\n",
       "      <td>1</td>\n",
       "      <td>0.0</td>\n",
       "      <td>0.0</td>\n",
       "      <td>13.0</td>\n",
       "      <td>39</td>\n",
       "      <td>1</td>\n",
       "    </tr>\n",
       "    <tr>\n",
       "      <th>2</th>\n",
       "      <td>38.0</td>\n",
       "      <td>4</td>\n",
       "      <td>215646.0</td>\n",
       "      <td>11</td>\n",
       "      <td>9.0</td>\n",
       "      <td>0</td>\n",
       "      <td>6</td>\n",
       "      <td>1</td>\n",
       "      <td>4</td>\n",
       "      <td>1</td>\n",
       "      <td>0.0</td>\n",
       "      <td>0.0</td>\n",
       "      <td>40.0</td>\n",
       "      <td>39</td>\n",
       "      <td>1</td>\n",
       "    </tr>\n",
       "    <tr>\n",
       "      <th>3</th>\n",
       "      <td>53.0</td>\n",
       "      <td>4</td>\n",
       "      <td>234721.0</td>\n",
       "      <td>1</td>\n",
       "      <td>7.0</td>\n",
       "      <td>2</td>\n",
       "      <td>6</td>\n",
       "      <td>0</td>\n",
       "      <td>2</td>\n",
       "      <td>1</td>\n",
       "      <td>0.0</td>\n",
       "      <td>0.0</td>\n",
       "      <td>40.0</td>\n",
       "      <td>39</td>\n",
       "      <td>1</td>\n",
       "    </tr>\n",
       "    <tr>\n",
       "      <th>4</th>\n",
       "      <td>28.0</td>\n",
       "      <td>4</td>\n",
       "      <td>338409.0</td>\n",
       "      <td>9</td>\n",
       "      <td>13.0</td>\n",
       "      <td>2</td>\n",
       "      <td>10</td>\n",
       "      <td>5</td>\n",
       "      <td>2</td>\n",
       "      <td>0</td>\n",
       "      <td>0.0</td>\n",
       "      <td>0.0</td>\n",
       "      <td>40.0</td>\n",
       "      <td>5</td>\n",
       "      <td>1</td>\n",
       "    </tr>\n",
       "    <tr>\n",
       "      <th>...</th>\n",
       "      <td>...</td>\n",
       "      <td>...</td>\n",
       "      <td>...</td>\n",
       "      <td>...</td>\n",
       "      <td>...</td>\n",
       "      <td>...</td>\n",
       "      <td>...</td>\n",
       "      <td>...</td>\n",
       "      <td>...</td>\n",
       "      <td>...</td>\n",
       "      <td>...</td>\n",
       "      <td>...</td>\n",
       "      <td>...</td>\n",
       "      <td>...</td>\n",
       "      <td>...</td>\n",
       "    </tr>\n",
       "    <tr>\n",
       "      <th>48837</th>\n",
       "      <td>39.0</td>\n",
       "      <td>4</td>\n",
       "      <td>215419.0</td>\n",
       "      <td>9</td>\n",
       "      <td>13.0</td>\n",
       "      <td>0</td>\n",
       "      <td>10</td>\n",
       "      <td>1</td>\n",
       "      <td>4</td>\n",
       "      <td>0</td>\n",
       "      <td>0.0</td>\n",
       "      <td>0.0</td>\n",
       "      <td>36.0</td>\n",
       "      <td>39</td>\n",
       "      <td>1</td>\n",
       "    </tr>\n",
       "    <tr>\n",
       "      <th>48838</th>\n",
       "      <td>64.0</td>\n",
       "      <td>0</td>\n",
       "      <td>321403.0</td>\n",
       "      <td>11</td>\n",
       "      <td>9.0</td>\n",
       "      <td>6</td>\n",
       "      <td>0</td>\n",
       "      <td>2</td>\n",
       "      <td>2</td>\n",
       "      <td>1</td>\n",
       "      <td>0.0</td>\n",
       "      <td>0.0</td>\n",
       "      <td>40.0</td>\n",
       "      <td>39</td>\n",
       "      <td>1</td>\n",
       "    </tr>\n",
       "    <tr>\n",
       "      <th>48839</th>\n",
       "      <td>38.0</td>\n",
       "      <td>4</td>\n",
       "      <td>374983.0</td>\n",
       "      <td>9</td>\n",
       "      <td>13.0</td>\n",
       "      <td>2</td>\n",
       "      <td>10</td>\n",
       "      <td>0</td>\n",
       "      <td>4</td>\n",
       "      <td>1</td>\n",
       "      <td>0.0</td>\n",
       "      <td>0.0</td>\n",
       "      <td>50.0</td>\n",
       "      <td>39</td>\n",
       "      <td>1</td>\n",
       "    </tr>\n",
       "    <tr>\n",
       "      <th>48840</th>\n",
       "      <td>44.0</td>\n",
       "      <td>4</td>\n",
       "      <td>83891.0</td>\n",
       "      <td>9</td>\n",
       "      <td>13.0</td>\n",
       "      <td>0</td>\n",
       "      <td>1</td>\n",
       "      <td>3</td>\n",
       "      <td>1</td>\n",
       "      <td>1</td>\n",
       "      <td>5455.0</td>\n",
       "      <td>0.0</td>\n",
       "      <td>40.0</td>\n",
       "      <td>39</td>\n",
       "      <td>1</td>\n",
       "    </tr>\n",
       "    <tr>\n",
       "      <th>48841</th>\n",
       "      <td>35.0</td>\n",
       "      <td>5</td>\n",
       "      <td>182148.0</td>\n",
       "      <td>9</td>\n",
       "      <td>13.0</td>\n",
       "      <td>2</td>\n",
       "      <td>4</td>\n",
       "      <td>0</td>\n",
       "      <td>4</td>\n",
       "      <td>1</td>\n",
       "      <td>0.0</td>\n",
       "      <td>0.0</td>\n",
       "      <td>60.0</td>\n",
       "      <td>39</td>\n",
       "      <td>0</td>\n",
       "    </tr>\n",
       "  </tbody>\n",
       "</table>\n",
       "<p>48842 rows × 15 columns</p>\n",
       "</div>"
      ],
      "text/plain": [
       "        age  workclass    fnlwgt  education  education-num  marital-status  \\\n",
       "0      39.0          7   77516.0          9           13.0               4   \n",
       "1      50.0          6   83311.0          9           13.0               2   \n",
       "2      38.0          4  215646.0         11            9.0               0   \n",
       "3      53.0          4  234721.0          1            7.0               2   \n",
       "4      28.0          4  338409.0          9           13.0               2   \n",
       "...     ...        ...       ...        ...            ...             ...   \n",
       "48837  39.0          4  215419.0          9           13.0               0   \n",
       "48838  64.0          0  321403.0         11            9.0               6   \n",
       "48839  38.0          4  374983.0          9           13.0               2   \n",
       "48840  44.0          4   83891.0          9           13.0               0   \n",
       "48841  35.0          5  182148.0          9           13.0               2   \n",
       "\n",
       "       occupation  relationship  race  sex  capital-gain  capital-loss  \\\n",
       "0               1             1     4    1        2174.0           0.0   \n",
       "1               4             0     4    1           0.0           0.0   \n",
       "2               6             1     4    1           0.0           0.0   \n",
       "3               6             0     2    1           0.0           0.0   \n",
       "4              10             5     2    0           0.0           0.0   \n",
       "...           ...           ...   ...  ...           ...           ...   \n",
       "48837          10             1     4    0           0.0           0.0   \n",
       "48838           0             2     2    1           0.0           0.0   \n",
       "48839          10             0     4    1           0.0           0.0   \n",
       "48840           1             3     1    1        5455.0           0.0   \n",
       "48841           4             0     4    1           0.0           0.0   \n",
       "\n",
       "       hours-per-week  native-country  target  \n",
       "0                40.0              39       1  \n",
       "1                13.0              39       1  \n",
       "2                40.0              39       1  \n",
       "3                40.0              39       1  \n",
       "4                40.0               5       1  \n",
       "...               ...             ...     ...  \n",
       "48837            36.0              39       1  \n",
       "48838            40.0              39       1  \n",
       "48839            50.0              39       1  \n",
       "48840            40.0              39       1  \n",
       "48841            60.0              39       0  \n",
       "\n",
       "[48842 rows x 15 columns]"
      ]
     },
     "execution_count": 2,
     "metadata": {},
     "output_type": "execute_result"
    }
   ],
   "source": [
    "# We use the full dataset in this Recipe\n",
    "df = fetch_data('adult', local_cache_dir=\"data/adult\")\n",
    "\n",
    "df"
   ]
  },
  {
   "attachments": {},
   "cell_type": "markdown",
   "metadata": {},
   "source": [
    "### 2. Train Trainee\n",
    "\n",
    "To highlight the possible bias, we filter our test dataset to control for features that likely have a major impact on the target, such as `workclass` and `education`. This is not necessarily something that is known beforehand, however through the use of techiniques like determining feature relevance, we can deduce which variables might be candidates to be controlled. This is only for demonstrative purposes and these features may not represent a complete set of confounding variables."
   ]
  },
  {
   "cell_type": "code",
   "execution_count": 3,
   "metadata": {},
   "outputs": [],
   "source": [
    "features = infer_feature_attributes(df)\n",
    "\n",
    "# We use a train-test split so we can reduce bias in the test set\n",
    "X_train, X_test = train_test_split(df, test_size=0.2)\n",
    "\n",
    "t = Trainee(features=features, overwrite_existing=True)\n",
    "\n",
    "t.train(X_train)\n",
    "\n",
    "t.analyze()\n",
    "\n",
    "# Now that the model is trained and analyzed, We try to control for confounding factors for this experiment.\n",
    "X_test = X_test[(X_test.workclass == 4) & (X_test.education == 9) & (X_test[\"hours-per-week\"] == 40)]"
   ]
  },
  {
   "attachments": {},
   "cell_type": "markdown",
   "metadata": {},
   "source": [
    "# Section 2: Explore Data for Bias\n",
    "\n"
   ]
  },
  {
   "attachments": {},
   "cell_type": "markdown",
   "metadata": {},
   "source": [
    "## 1. Potential Bias - Sex\n",
    "\n",
    "There are many strategies for determining where to look for bias. These intricate relationships can be hard to disententangle and can be prone to unforeseen complications. Like many data analysis strategies, a combination of qualitative and quantitative knowledge can provide the user with the best course of action. Knowing the data helps keep humans in the loop and allows intelligent interpretation of the results. \n",
    "\n",
    "In our example dataset, `Adult`, it is a well-known phenomenon that women are often disadvantaged in the workforce in terms of salary, especially at the time this dataset was created. This gives us a starting point to look for harmful biases in our dataset."
   ]
  },
  {
   "attachments": {},
   "cell_type": "markdown",
   "metadata": {},
   "source": [
    "### 1a. React\n",
    "\n",
    " We can begin by reacting to the Action Feature and plotting it."
   ]
  },
  {
   "cell_type": "code",
   "execution_count": 4,
   "metadata": {},
   "outputs": [],
   "source": [
    "context_features = features.get_names(without=['target'])\n",
    "output = t.react(X_test, action_features=[\"target\"], context_features=context_features)[\"action\"]\n",
    "predictions = output[\"target\"]"
   ]
  },
  {
   "attachments": {},
   "cell_type": "markdown",
   "metadata": {},
   "source": [
    "### 1b. Plot\n",
    "\n",
    "Plotting can help visualize the results."
   ]
  },
  {
   "cell_type": "code",
   "execution_count": 5,
   "metadata": {},
   "outputs": [
    {
     "data": {
      "image/png": "[encoded data removed]",
      "text/plain": [
       "<Figure size 640x480 with 1 Axes>"
      ]
     },
     "metadata": {},
     "output_type": "display_data"
    }
   ],
   "source": [
    "context_features = features.get_names(without=['target'])\n",
    "output = t.react(X_test, action_features=[\"target\"], context_features=context_features)[\"action\"]\n",
    "predictions = output[\"target\"]\n",
    "\n",
    "display_output_a = output.replace({\"target\": {0: \"Salary >= $50k\", 1: \"Salary < $50k\"}})\n",
    "display_df = X_test.replace({\n",
    "    \"sex\": {0: \"Female\", 1: \"Male\"},\n",
    "    \"target\": {0: \"Salary >= $50k\", 1: \"Salary < $50k\"}\n",
    "})\n",
    "hue_order = [\"Female\", \"Male\"]\n",
    "\n",
    "sns.histplot(\n",
    "    x=display_output_a.target.values,\n",
    "    multiple=\"dodge\",\n",
    "    stat=\"probability\",\n",
    "    common_norm=False,\n",
    "    hue=\"sex\",\n",
    "    hue_order=hue_order,\n",
    "    shrink=0.8,\n",
    "    data=display_df\n",
    ")\n",
    "\n",
    "plt.show()"
   ]
  },
  {
   "attachments": {},
   "cell_type": "markdown",
   "metadata": {},
   "source": [
    "### 1c. Accuracy Results"
   ]
  },
  {
   "cell_type": "code",
   "execution_count": 6,
   "metadata": {},
   "outputs": [
    {
     "data": {
      "text/plain": [
       "0.807"
      ]
     },
     "execution_count": 6,
     "metadata": {},
     "output_type": "execute_result"
    }
   ],
   "source": [
    "accuracy = accuracy_score(X_test[\"target\"], predictions).round(3)\n",
    "accuracy"
   ]
  },
  {
   "attachments": {},
   "cell_type": "markdown",
   "metadata": {},
   "source": [
    "### 1d. Results\n",
    "\n",
    "Since we are controlling for many of the features that are relevant to the Action Feature, this highlights the potential biases in the remaining features. We can see with the imbalance in representation across target values between sexes, a bias is evident. Men, despite being of the same work class and education level are much more likely than women to make over $50K in this dataset. \n"
   ]
  },
  {
   "attachments": {},
   "cell_type": "markdown",
   "metadata": {},
   "source": [
    "## 2. Potential Relationship with Biased Feature - Sex and Relationship"
   ]
  },
  {
   "attachments": {},
   "cell_type": "markdown",
   "metadata": {},
   "source": [
    "Now that we identified `Sex` as a bias, we want to see the extent of the bias as it relates to other features. This is important because if we want to correct a biased feature, its relationships with other features can leave residual biases that persist if not addressed. You can think of the main biased feature as a weed whose roots can spread to other features."
   ]
  },
  {
   "attachments": {},
   "cell_type": "markdown",
   "metadata": {},
   "source": [
    "### 2a. Search"
   ]
  },
  {
   "cell_type": "code",
   "execution_count": 7,
   "metadata": {},
   "outputs": [
    {
     "data": {
      "image/png": "[encoded data removed]",
      "text/plain": [
       "<Figure size 640x480 with 2 Axes>"
      ]
     },
     "metadata": {},
     "output_type": "display_data"
    }
   ],
   "source": [
    "sns.heatmap(df.corr(), xticklabels=df.columns, yticklabels=df.columns, cmap=sns.color_palette(\"YlOrRd\"))\n",
    "\n",
    "plt.show()"
   ]
  },
  {
   "attachments": {},
   "cell_type": "markdown",
   "metadata": {},
   "source": [
    "\n",
    "\n",
    "We can see that relationship is correlated with the target feature, while sex is strongly inversely correlated with both target and relationshp. \n",
    "Another possible relationship of note is that between age and target, which are inversely correlated with one another. Whether these features should be considered sources of bias is up to the user, as features such as sex have a strong argument and other features, such as age, may represent a neutral relationship in the data as people making higher salaries as they age seems to be a reasonable relationship. Nonetheless, we will demonstrate controlling for age as an example.\n",
    "\n"
   ]
  },
  {
   "attachments": {},
   "cell_type": "markdown",
   "metadata": {},
   "source": [
    "### 2b. React"
   ]
  },
  {
   "cell_type": "code",
   "execution_count": 8,
   "metadata": {},
   "outputs": [],
   "source": [
    "context_features = features.get_names(without=['sex'])\n",
    "react = t.react(X_test, action_features=[\"sex\"], context_features=context_features, details={\"feature_mda\": True})\n",
    "\n",
    "output = react[\"action\"]\n",
    "explanations = react[\"explanation\"]"
   ]
  },
  {
   "attachments": {},
   "cell_type": "markdown",
   "metadata": {},
   "source": [
    "### 2c. Verify\n",
    "\n",
    "To further unravel some of the relationships between biased features using Howso Engine's explanations, we can verify the entanglement of sex and relationship by predicting sex and calculating the mean decrease in accuracy (MDA).\n",
    "\n",
    "\n",
    "**`Definitions`:**\n",
    "\n",
    "**`MDA`:** The mean decrease in accuracy of removing a feature.  MDA units are on the same scale as the Action feature(s), and will be probabilities for categorical features.\n",
    "\n",
    "**`Robust MDA`:** The mean absolute decrease in accuracy of the Action feature value(s) over a sampling of the power set of all of the Context features. This is similar to the sampling mechanism of the commonly used `SHAP` feature importance measure."
   ]
  },
  {
   "cell_type": "code",
   "execution_count": 9,
   "metadata": {},
   "outputs": [
    {
     "data": {
      "text/plain": [
       "relationship      0.03974\n",
       "education-num     0.00116\n",
       "age               0.00105\n",
       "target            0.00012\n",
       "education        -0.00081\n",
       "capital-loss     -0.00168\n",
       "race             -0.00213\n",
       "capital-gain     -0.00396\n",
       "fnlwgt           -0.00503\n",
       "workclass        -0.00761\n",
       "occupation       -0.00858\n",
       "hours-per-week   -0.01182\n",
       "native-country   -0.01291\n",
       "marital-status   -0.01356\n",
       "dtype: float64"
      ]
     },
     "metadata": {},
     "output_type": "display_data"
    }
   ],
   "source": [
    "\n",
    "mdas = []\n",
    "for explanation in explanations[\"feature_mda\"]:\n",
    "    mdas.append(list(explanation.values()))\n",
    "\n",
    "mdas = pd.DataFrame(mdas, columns=list(explanation.keys()))\n",
    "display(mdas.mean(axis=0).sort_values(ascending=False).round(5))"
   ]
  },
  {
   "attachments": {},
   "cell_type": "markdown",
   "metadata": {},
   "source": [
    "We can see that `relationship` has a large MDA, confirming that `relationship` and `sex` have a strong relationship. \n",
    "\n",
    "Now that we have identified some features which may introduce bias, we can begin to mitigate them in two different ways using Howso Engine. We will measure the effectiveness of this mitigation visually and with a G-test p-value."
   ]
  },
  {
   "attachments": {},
   "cell_type": "markdown",
   "metadata": {},
   "source": [
    "## Section 3: Control for Differences in `relationship`, `sex`, and `marital-status`."
   ]
  },
  {
   "attachments": {},
   "cell_type": "markdown",
   "metadata": {},
   "source": [
    "### 3a: React\n",
    "\n",
    "In order to mitigate for these biased features, we will leave them out when using `react`. Note that since `marital-status` is correlated with `relationship`, we will also control for that. Since Howso Engine uses instance-based learning combined with sophisticated methods of handling NaNs, it can maintain high levels of performance even when features are left out."
   ]
  },
  {
   "cell_type": "code",
   "execution_count": 10,
   "metadata": {},
   "outputs": [],
   "source": [
    "context_features = features.get_names(without=['target', 'sex', 'relationship', 'marital-status'])\n",
    "react = t.react(X_test, action_features=[\"target\"], context_features=context_features)\n",
    "\n",
    "output = react[\"action\"]\n",
    "predictions = output[\"target\"]"
   ]
  },
  {
   "attachments": {},
   "cell_type": "markdown",
   "metadata": {},
   "source": [
    "### 3b. Plot"
   ]
  },
  {
   "cell_type": "code",
   "execution_count": 11,
   "metadata": {},
   "outputs": [
    {
     "data": {
      "image/png": "[encoded data removed]",
      "text/plain": [
       "<Figure size 640x480 with 1 Axes>"
      ]
     },
     "metadata": {},
     "output_type": "display_data"
    }
   ],
   "source": [
    "\n",
    "display_output_b = output.replace({\"target\": {0: \"Salary >= $50k\", 1: \"Salary < $50k\"}})\n",
    "display_df = X_test.replace({\n",
    "    \"sex\": {0: \"Female\", 1: \"Male\"},\n",
    "    \"target\": {0: \"Salary >= $50k\", 1: \"Salary < $50k\"}\n",
    "})\n",
    "\n",
    "sns.histplot(\n",
    "    x=display_output_b.target.values,\n",
    "    multiple=\"dodge\",\n",
    "    stat=\"probability\",\n",
    "    common_norm=False,\n",
    "    hue=\"sex\",\n",
    "    hue_order=hue_order,\n",
    "    shrink=0.8,\n",
    "    data=display_df\n",
    ")\n",
    "\n",
    "plt.show()"
   ]
  },
  {
   "attachments": {},
   "cell_type": "markdown",
   "metadata": {},
   "source": [
    "### 3c. Count check\n",
    "\n",
    "We can see that the balance has been somewhat corrected, although this is not guaranteed. We can use a G-test to verify if this anecdote is backed up statistically by measuring the different counts. This may not be a complete fix, however it likely that the bias has improved."
   ]
  },
  {
   "cell_type": "code",
   "execution_count": 12,
   "metadata": {},
   "outputs": [
    {
     "name": "stdout",
     "output_type": "stream",
     "text": [
      "p-value: 0.5440616014865045\n"
     ]
    }
   ],
   "source": [
    "counts = [\n",
    "    [X_test.target.sum(), len(X_test) - X_test.target.sum()], [output.target.sum(), len(output) - output.target.sum()]\n",
    "]\n",
    "\n",
    "_, p, _, _ = chi2_contingency(counts, lambda_=\"log-likelihood\")\n",
    "print(f\"p-value: {p}\")"
   ]
  },
  {
   "attachments": {},
   "cell_type": "markdown",
   "metadata": {},
   "source": [
    "### 3d. Accuracy Check\n",
    "\n",
    "We can see that we still maintain relatively good accuracy compared to the original data set."
   ]
  },
  {
   "cell_type": "code",
   "execution_count": 13,
   "metadata": {},
   "outputs": [
    {
     "data": {
      "text/plain": [
       "0.725"
      ]
     },
     "execution_count": 13,
     "metadata": {},
     "output_type": "execute_result"
    }
   ],
   "source": [
    "accuracy = accuracy_score(X_test[\"target\"], predictions).round(3)\n",
    "accuracy"
   ]
  },
  {
   "attachments": {},
   "cell_type": "markdown",
   "metadata": {},
   "source": [
    "# 4. Control for Differences in Age\n",
    "\n",
    "Unfortunately, it is possible that the balance not quite been addressed fully. Let's go back to that relationship between age and target, and see if we can't control for that. "
   ]
  },
  {
   "attachments": {},
   "cell_type": "markdown",
   "metadata": {},
   "source": [
    "### 4a. Random Ages\n",
    "\n",
    "We can do this by setting the age of each individual randomly in the range of 40 to 50. The Trainee will use these values to find the nearest trained Cases."
   ]
  },
  {
   "cell_type": "code",
   "execution_count": 14,
   "metadata": {},
   "outputs": [],
   "source": [
    "X_test_controlled = X_test\n",
    "\n",
    "rng = np.random.default_rng()\n",
    "X_test_controlled.age = rng.integers(40, 50, size=len(X_test_controlled))\n"
   ]
  },
  {
   "attachments": {},
   "cell_type": "markdown",
   "metadata": {},
   "source": [
    "### 4b. React"
   ]
  },
  {
   "cell_type": "code",
   "execution_count": 15,
   "metadata": {},
   "outputs": [],
   "source": [
    "\n",
    "output = t.react(X_test_controlled, action_features=[\"target\"], context_features=context_features)[\"action\"]\n",
    "predictions = output[\"target\"]"
   ]
  },
  {
   "attachments": {},
   "cell_type": "markdown",
   "metadata": {},
   "source": [
    "### 4c. Graph"
   ]
  },
  {
   "cell_type": "code",
   "execution_count": 16,
   "metadata": {},
   "outputs": [
    {
     "data": {
      "image/png": "[encoded data removed]",
      "text/plain": [
       "<Figure size 640x480 with 1 Axes>"
      ]
     },
     "metadata": {},
     "output_type": "display_data"
    }
   ],
   "source": [
    "display_output_c = output.replace({\"target\": {0: \"Salary >= $50k\", 1: \"Salary < $50k\"}})\n",
    "display_df = X_test.replace({\n",
    "    \"sex\": {0: \"Female\", 1: \"Male\"},\n",
    "    \"target\": {0: \"Salary >= $50k\", 1: \"Salary < $50k\"}\n",
    "})\n",
    "\n",
    "sns.histplot(\n",
    "    x=display_output_c.target.values,\n",
    "    multiple=\"dodge\",\n",
    "    stat=\"probability\",\n",
    "    common_norm=False,\n",
    "    hue=\"sex\",\n",
    "    hue_order=hue_order,\n",
    "    shrink=0.8,\n",
    "    data=display_df\n",
    ")\n",
    "\n",
    "plt.show()"
   ]
  },
  {
   "attachments": {},
   "cell_type": "markdown",
   "metadata": {},
   "source": [
    "### 4c. Count Check\n",
    "Anecdotally, this distribution is much more equitable than either of the previous distributions. How does it fare statistically?"
   ]
  },
  {
   "cell_type": "code",
   "execution_count": 17,
   "metadata": {},
   "outputs": [
    {
     "name": "stdout",
     "output_type": "stream",
     "text": [
      "p-value: 6.111098533677783e-07\n"
     ]
    }
   ],
   "source": [
    "counts = [\n",
    "    [X_test.target.sum(), len(X_test) - X_test.target.sum()], [output.target.sum(), len(output) - output.target.sum()]\n",
    "]\n",
    "\n",
    "_, p_value, _, _ = chi2_contingency(counts, lambda_=\"log-likelihood\")\n",
    "print(f\"p-value: {p_value}\")"
   ]
  },
  {
   "attachments": {},
   "cell_type": "markdown",
   "metadata": {},
   "source": [
    "As we can see, the p-value is below even very low significance levels, indicating that there is a strong statistical difference between the original, inequitable distribution and the new distribution. We can compare the three distributions visually."
   ]
  },
  {
   "attachments": {},
   "cell_type": "markdown",
   "metadata": {},
   "source": [
    "### 4d. Accuracy Check"
   ]
  },
  {
   "cell_type": "code",
   "execution_count": 18,
   "metadata": {},
   "outputs": [
    {
     "data": {
      "text/plain": [
       "0.544"
      ]
     },
     "execution_count": 18,
     "metadata": {},
     "output_type": "execute_result"
    }
   ],
   "source": [
    "accuracy = accuracy_score(X_test[\"target\"], predictions).round(3)\n",
    "accuracy"
   ]
  },
  {
   "attachments": {},
   "cell_type": "markdown",
   "metadata": {},
   "source": [
    "Unfortunately we can see that accuracy has dropped to a fairly low level. There is generally a trade off between accuracy and bias mitation, especially when testing is done in comparison to the original, biased data. The user must gauge this trade off carefully. At the same time, using only the accuracy score as the decision metric may paint an incomplete picture. For example, since the time in which our dataset, `Adult`, was created in 1996, there have been notable improvements in equality among sexes. Although not recommended, in a situation where we are using a dataset in 1996 to make inferences in present time, correcting for these biases may actually improve model performance on present test data as the bias is not as strong. These are all hypotheticals, but they illustrate the careful thought that must go into interpreting these results. \n",
    "\n"
   ]
  },
  {
   "attachments": {},
   "cell_type": "markdown",
   "metadata": {},
   "source": [
    "# 5. Comparison\n",
    "\n",
    "This graph is shown just to give a side by side comparison of the changes controlling for the various features. \n"
   ]
  },
  {
   "cell_type": "code",
   "execution_count": 19,
   "metadata": {},
   "outputs": [
    {
     "data": {
      "image/png": "[encoded data removed]",
      "text/plain": [
       "<Figure size 1500x500 with 3 Axes>"
      ]
     },
     "metadata": {},
     "output_type": "display_data"
    }
   ],
   "source": [
    "fig, axes = plt.subplots(1, 3, figsize=(15, 5), sharey=True)\n",
    "\n",
    "display_df = X_test.replace({\n",
    "    \"sex\": {0: \"Female\", 1: \"Male\"},\n",
    "    \"target\": {0: \"Salary >= $50k\", 1: \"Salary < $50k\"}\n",
    "})\n",
    "\n",
    "sns.histplot(\n",
    "    x=display_output_a.target.values,\n",
    "    multiple=\"dodge\",\n",
    "    stat=\"probability\",\n",
    "    common_norm=False,\n",
    "    hue=\"sex\",\n",
    "    hue_order=hue_order,\n",
    "    shrink=0.8,\n",
    "    data=display_df,\n",
    "    ax=axes[0],\n",
    "    legend=False\n",
    ")\n",
    "axes[0].set_title(\"Predictions Controlling for\\nworkclass, education, and hours-per-week\")\n",
    "\n",
    "sns.histplot(\n",
    "    x=display_output_b.target.values,\n",
    "    multiple=\"dodge\",\n",
    "    stat=\"probability\",\n",
    "    common_norm=False,\n",
    "    hue=\"sex\",\n",
    "    hue_order=hue_order,\n",
    "    shrink=0.8,\n",
    "    data=display_df,\n",
    "    ax=axes[1],\n",
    "    legend=False\n",
    ")\n",
    "axes[1].set_title(\"Predictions w/ previous plus\\nignoring relationship and marriage-status\")\n",
    "\n",
    "sns.histplot(\n",
    "    x=display_output_c.target.values,\n",
    "    multiple=\"dodge\",\n",
    "    stat=\"probability\",\n",
    "    common_norm=False,\n",
    "    hue=\"sex\",\n",
    "    hue_order=hue_order,\n",
    "    shrink=0.8,\n",
    "    data=display_df,\n",
    "    ax=axes[2]\n",
    ")\n",
    "axes[2].set_title(\"Predictions w/ previous plus\\nsame age bracket\")\n",
    "\n",
    "plt.show()"
   ]
  },
  {
   "attachments": {},
   "cell_type": "markdown",
   "metadata": {},
   "source": [
    "\n",
    "# Conclusion and next steps\n",
    "\n",
    "As shown, Howso Engine enables effective data exploration and bias mitigation on a single model with one train and analysis. This should not be done without ample consideration, as data bias is not always a straightforward phenomenon. We see that if we control for certain features, we were likely to improve the quality of our Trainee without grealy impacting the performance, while for other features, the performance impact may be too strong. This means we must be selective in what we adjust for, and in our example, adjusting for `Age` is most likely not recommended due to the performance and lack of intuition on its bias. \n",
    "\n",
    "This recipe is meant to show a useful, unique, and thought-provoking use case. It is also meant to start opening up the door of possibilities of using Howso Engine. There are countless other use cases that the user may wish to explore and we leave that up to the user to continue. We have one more recommended recipe, `6-validation.ipynb`, that will give an explanation and demonstration into some of the useful capabilities that arrise from instance-based modeling."
   ]
  }
 ],
 "metadata": {
  "kernelspec": {
   "display_name": "Python 3 (ipykernel)",
   "language": "python",
   "name": "python3"
  },
  "language_info": {
   "codemirror_mode": {
    "name": "ipython",
    "version": 3
   },
   "file_extension": ".py",
   "mimetype": "text/x-python",
   "name": "python",
   "nbconvert_exporter": "python",
   "pygments_lexer": "ipython3",
   "version": "3.8.18"
  },
  "vscode": {
   "interpreter": {
    "hash": "fd66890adbedad53ae8487873914636f139c48d180f9af233b1eacb68495f4c7"
   }
  }
 },
 "nbformat": 4,
 "nbformat_minor": 4
}
