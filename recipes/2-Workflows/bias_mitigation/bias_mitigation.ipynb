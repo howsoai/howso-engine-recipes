{
 "cells": [
  {
   "attachments": {},
   "cell_type": "markdown",
   "metadata": {},
   "source": [
    "# Bias Mitigation\n",
    "## Overview \n",
    "\n",
    "We have demonstrated in other recipes recipes how to develop an effective Trainee from a results perspective. We were able to find possible outlier cases and edit our Trainee. However, there may be a situation where data in our Trainee is technically correct but there are harmful or unnessary underlying trends and biases in that data. Howso Engine enables biases in data to be identified, understood, and mitigated.\n"
   ]
  },
  {
   "attachments": {},
   "cell_type": "markdown",
   "metadata": {},
   "source": [
    "## Recipe Goals:\n",
    "\n",
    "This recipe will show how Howso Engine can provide organizations opportunities to identify data biases for a variety of use cases, empowering true, ethical data insights."
   ]
  },
  {
   "cell_type": "code",
   "execution_count": 1,
   "metadata": {
    "execution": {
     "iopub.execute_input": "2025-07-21T21:01:07.593221Z",
     "iopub.status.busy": "2025-07-21T21:01:07.593047Z",
     "iopub.status.idle": "2025-07-21T21:01:12.456991Z",
     "shell.execute_reply": "2025-07-21T21:01:12.456343Z"
    }
   },
   "outputs": [],
   "source": [
    "import numpy as np\n",
    "import pandas as pd\n",
    "import plotly.io as pio\n",
    "from pmlb import fetch_data\n",
    "from sklearn.metrics import accuracy_score\n",
    "from sklearn.model_selection import train_test_split\n",
    "\n",
    "from howso.engine import Trainee\n",
    "from howso.utilities import infer_feature_attributes\n",
    "from howso.visuals import compose_figures"
   ]
  },
  {
   "attachments": {},
   "cell_type": "markdown",
   "metadata": {},
   "source": [
    "# Section 1: Train and Analyze\n"
   ]
  },
  {
   "attachments": {},
   "cell_type": "markdown",
   "metadata": {},
   "source": [
    "For questions about the specific steps of this section, please see the [basic workflow guide](https://docs.howso.com/en/release-latest/user_guide/basic_capabilities/basic_workflow.html).\n",
    "\n",
    "### Step 1: Load Data\n",
    "\n",
    "Our example dataset for this recipe continues to be the well known `Adult` dataset. This dataset consists of 14 Context Features and 1 Action Feature. The Action Feature in this version of the `Adult` dataset has been renamed to `target` and it takes the form of a binary indicator for whether a person in the data makes over $50,000/year (*target*=0) or less (*target*=1)."
   ]
  },
  {
   "cell_type": "code",
   "execution_count": 2,
   "metadata": {
    "execution": {
     "iopub.execute_input": "2025-07-21T21:01:12.459641Z",
     "iopub.status.busy": "2025-07-21T21:01:12.459319Z",
     "iopub.status.idle": "2025-07-21T21:01:12.523178Z",
     "shell.execute_reply": "2025-07-21T21:01:12.522567Z"
    }
   },
   "outputs": [
    {
     "data": {
      "text/html": [
       "<div>\n",
       "<style scoped>\n",
       "    .dataframe tbody tr th:only-of-type {\n",
       "        vertical-align: middle;\n",
       "    }\n",
       "\n",
       "    .dataframe tbody tr th {\n",
       "        vertical-align: top;\n",
       "    }\n",
       "\n",
       "    .dataframe thead th {\n",
       "        text-align: right;\n",
       "    }\n",
       "</style>\n",
       "<table border=\"1\" class=\"dataframe\">\n",
       "  <thead>\n",
       "    <tr style=\"text-align: right;\">\n",
       "      <th></th>\n",
       "      <th>age</th>\n",
       "      <th>workclass</th>\n",
       "      <th>fnlwgt</th>\n",
       "      <th>education</th>\n",
       "      <th>education-num</th>\n",
       "      <th>marital-status</th>\n",
       "      <th>occupation</th>\n",
       "      <th>relationship</th>\n",
       "      <th>race</th>\n",
       "      <th>sex</th>\n",
       "      <th>capital-gain</th>\n",
       "      <th>capital-loss</th>\n",
       "      <th>hours-per-week</th>\n",
       "      <th>native-country</th>\n",
       "      <th>target</th>\n",
       "    </tr>\n",
       "  </thead>\n",
       "  <tbody>\n",
       "    <tr>\n",
       "      <th>0</th>\n",
       "      <td>39.0</td>\n",
       "      <td>7</td>\n",
       "      <td>77516.0</td>\n",
       "      <td>9</td>\n",
       "      <td>13.0</td>\n",
       "      <td>4</td>\n",
       "      <td>1</td>\n",
       "      <td>1</td>\n",
       "      <td>4</td>\n",
       "      <td>1</td>\n",
       "      <td>2174.0</td>\n",
       "      <td>0.0</td>\n",
       "      <td>40.0</td>\n",
       "      <td>39</td>\n",
       "      <td>1</td>\n",
       "    </tr>\n",
       "    <tr>\n",
       "      <th>1</th>\n",
       "      <td>50.0</td>\n",
       "      <td>6</td>\n",
       "      <td>83311.0</td>\n",
       "      <td>9</td>\n",
       "      <td>13.0</td>\n",
       "      <td>2</td>\n",
       "      <td>4</td>\n",
       "      <td>0</td>\n",
       "      <td>4</td>\n",
       "      <td>1</td>\n",
       "      <td>0.0</td>\n",
       "      <td>0.0</td>\n",
       "      <td>13.0</td>\n",
       "      <td>39</td>\n",
       "      <td>1</td>\n",
       "    </tr>\n",
       "    <tr>\n",
       "      <th>2</th>\n",
       "      <td>38.0</td>\n",
       "      <td>4</td>\n",
       "      <td>215646.0</td>\n",
       "      <td>11</td>\n",
       "      <td>9.0</td>\n",
       "      <td>0</td>\n",
       "      <td>6</td>\n",
       "      <td>1</td>\n",
       "      <td>4</td>\n",
       "      <td>1</td>\n",
       "      <td>0.0</td>\n",
       "      <td>0.0</td>\n",
       "      <td>40.0</td>\n",
       "      <td>39</td>\n",
       "      <td>1</td>\n",
       "    </tr>\n",
       "    <tr>\n",
       "      <th>3</th>\n",
       "      <td>53.0</td>\n",
       "      <td>4</td>\n",
       "      <td>234721.0</td>\n",
       "      <td>1</td>\n",
       "      <td>7.0</td>\n",
       "      <td>2</td>\n",
       "      <td>6</td>\n",
       "      <td>0</td>\n",
       "      <td>2</td>\n",
       "      <td>1</td>\n",
       "      <td>0.0</td>\n",
       "      <td>0.0</td>\n",
       "      <td>40.0</td>\n",
       "      <td>39</td>\n",
       "      <td>1</td>\n",
       "    </tr>\n",
       "    <tr>\n",
       "      <th>4</th>\n",
       "      <td>28.0</td>\n",
       "      <td>4</td>\n",
       "      <td>338409.0</td>\n",
       "      <td>9</td>\n",
       "      <td>13.0</td>\n",
       "      <td>2</td>\n",
       "      <td>10</td>\n",
       "      <td>5</td>\n",
       "      <td>2</td>\n",
       "      <td>0</td>\n",
       "      <td>0.0</td>\n",
       "      <td>0.0</td>\n",
       "      <td>40.0</td>\n",
       "      <td>5</td>\n",
       "      <td>1</td>\n",
       "    </tr>\n",
       "    <tr>\n",
       "      <th>...</th>\n",
       "      <td>...</td>\n",
       "      <td>...</td>\n",
       "      <td>...</td>\n",
       "      <td>...</td>\n",
       "      <td>...</td>\n",
       "      <td>...</td>\n",
       "      <td>...</td>\n",
       "      <td>...</td>\n",
       "      <td>...</td>\n",
       "      <td>...</td>\n",
       "      <td>...</td>\n",
       "      <td>...</td>\n",
       "      <td>...</td>\n",
       "      <td>...</td>\n",
       "      <td>...</td>\n",
       "    </tr>\n",
       "    <tr>\n",
       "      <th>48837</th>\n",
       "      <td>39.0</td>\n",
       "      <td>4</td>\n",
       "      <td>215419.0</td>\n",
       "      <td>9</td>\n",
       "      <td>13.0</td>\n",
       "      <td>0</td>\n",
       "      <td>10</td>\n",
       "      <td>1</td>\n",
       "      <td>4</td>\n",
       "      <td>0</td>\n",
       "      <td>0.0</td>\n",
       "      <td>0.0</td>\n",
       "      <td>36.0</td>\n",
       "      <td>39</td>\n",
       "      <td>1</td>\n",
       "    </tr>\n",
       "    <tr>\n",
       "      <th>48838</th>\n",
       "      <td>64.0</td>\n",
       "      <td>0</td>\n",
       "      <td>321403.0</td>\n",
       "      <td>11</td>\n",
       "      <td>9.0</td>\n",
       "      <td>6</td>\n",
       "      <td>0</td>\n",
       "      <td>2</td>\n",
       "      <td>2</td>\n",
       "      <td>1</td>\n",
       "      <td>0.0</td>\n",
       "      <td>0.0</td>\n",
       "      <td>40.0</td>\n",
       "      <td>39</td>\n",
       "      <td>1</td>\n",
       "    </tr>\n",
       "    <tr>\n",
       "      <th>48839</th>\n",
       "      <td>38.0</td>\n",
       "      <td>4</td>\n",
       "      <td>374983.0</td>\n",
       "      <td>9</td>\n",
       "      <td>13.0</td>\n",
       "      <td>2</td>\n",
       "      <td>10</td>\n",
       "      <td>0</td>\n",
       "      <td>4</td>\n",
       "      <td>1</td>\n",
       "      <td>0.0</td>\n",
       "      <td>0.0</td>\n",
       "      <td>50.0</td>\n",
       "      <td>39</td>\n",
       "      <td>1</td>\n",
       "    </tr>\n",
       "    <tr>\n",
       "      <th>48840</th>\n",
       "      <td>44.0</td>\n",
       "      <td>4</td>\n",
       "      <td>83891.0</td>\n",
       "      <td>9</td>\n",
       "      <td>13.0</td>\n",
       "      <td>0</td>\n",
       "      <td>1</td>\n",
       "      <td>3</td>\n",
       "      <td>1</td>\n",
       "      <td>1</td>\n",
       "      <td>5455.0</td>\n",
       "      <td>0.0</td>\n",
       "      <td>40.0</td>\n",
       "      <td>39</td>\n",
       "      <td>1</td>\n",
       "    </tr>\n",
       "    <tr>\n",
       "      <th>48841</th>\n",
       "      <td>35.0</td>\n",
       "      <td>5</td>\n",
       "      <td>182148.0</td>\n",
       "      <td>9</td>\n",
       "      <td>13.0</td>\n",
       "      <td>2</td>\n",
       "      <td>4</td>\n",
       "      <td>0</td>\n",
       "      <td>4</td>\n",
       "      <td>1</td>\n",
       "      <td>0.0</td>\n",
       "      <td>0.0</td>\n",
       "      <td>60.0</td>\n",
       "      <td>39</td>\n",
       "      <td>0</td>\n",
       "    </tr>\n",
       "  </tbody>\n",
       "</table>\n",
       "<p>48842 rows × 15 columns</p>\n",
       "</div>"
      ],
      "text/plain": [
       "        age  workclass    fnlwgt  education  education-num  marital-status  \\\n",
       "0      39.0          7   77516.0          9           13.0               4   \n",
       "1      50.0          6   83311.0          9           13.0               2   \n",
       "2      38.0          4  215646.0         11            9.0               0   \n",
       "3      53.0          4  234721.0          1            7.0               2   \n",
       "4      28.0          4  338409.0          9           13.0               2   \n",
       "...     ...        ...       ...        ...            ...             ...   \n",
       "48837  39.0          4  215419.0          9           13.0               0   \n",
       "48838  64.0          0  321403.0         11            9.0               6   \n",
       "48839  38.0          4  374983.0          9           13.0               2   \n",
       "48840  44.0          4   83891.0          9           13.0               0   \n",
       "48841  35.0          5  182148.0          9           13.0               2   \n",
       "\n",
       "       occupation  relationship  race  sex  capital-gain  capital-loss  \\\n",
       "0               1             1     4    1        2174.0           0.0   \n",
       "1               4             0     4    1           0.0           0.0   \n",
       "2               6             1     4    1           0.0           0.0   \n",
       "3               6             0     2    1           0.0           0.0   \n",
       "4              10             5     2    0           0.0           0.0   \n",
       "...           ...           ...   ...  ...           ...           ...   \n",
       "48837          10             1     4    0           0.0           0.0   \n",
       "48838           0             2     2    1           0.0           0.0   \n",
       "48839          10             0     4    1           0.0           0.0   \n",
       "48840           1             3     1    1        5455.0           0.0   \n",
       "48841           4             0     4    1           0.0           0.0   \n",
       "\n",
       "       hours-per-week  native-country  target  \n",
       "0                40.0              39       1  \n",
       "1                13.0              39       1  \n",
       "2                40.0              39       1  \n",
       "3                40.0              39       1  \n",
       "4                40.0               5       1  \n",
       "...               ...             ...     ...  \n",
       "48837            36.0              39       1  \n",
       "48838            40.0              39       1  \n",
       "48839            50.0              39       1  \n",
       "48840            40.0              39       1  \n",
       "48841            60.0              39       0  \n",
       "\n",
       "[48842 rows x 15 columns]"
      ]
     },
     "execution_count": 2,
     "metadata": {},
     "output_type": "execute_result"
    }
   ],
   "source": [
    "# We use the full dataset in this Recipe\n",
    "df = fetch_data('adult', local_cache_dir=\"../../data/adult\")\n",
    "\n",
    "df"
   ]
  },
  {
   "attachments": {},
   "cell_type": "markdown",
   "metadata": {},
   "source": [
    "### Step 2: Train Trainee\n",
    "\n",
    "To highlight the possible bias, we filter our test dataset to control for features that likely have a major impact on the target, such as `workclass` and `education`. This is not necessarily something that is known beforehand, however through the use of techiniques like determining feature relevance, we can deduce which variables might be candidates to be controlled. This is only for demonstrative purposes and these features may not represent a complete set of confounding variables."
   ]
  },
  {
   "cell_type": "code",
   "execution_count": 3,
   "metadata": {
    "execution": {
     "iopub.execute_input": "2025-07-21T21:01:12.556970Z",
     "iopub.status.busy": "2025-07-21T21:01:12.556720Z",
     "iopub.status.idle": "2025-07-21T21:01:37.132529Z",
     "shell.execute_reply": "2025-07-21T21:01:37.131901Z"
    },
    "scrolled": true
   },
   "outputs": [],
   "source": [
    "features = infer_feature_attributes(df)\n",
    "\n",
    "# We use a train-test split so we can reduce bias in the test set\n",
    "X_train, X_test = train_test_split(df, test_size=0.2)\n",
    "\n",
    "t = Trainee(features=features, overwrite_existing=True)\n",
    "\n",
    "t.train(X_train)\n",
    "\n",
    "t.analyze()\n",
    "\n",
    "# Now that the model is trained and analyzed, We try to control for confounding factors for this experiment.\n",
    "X_test = X_test[(X_test.workclass == 4) & (X_test.education == 9) & (X_test[\"hours-per-week\"] == 40)]"
   ]
  },
  {
   "attachments": {},
   "cell_type": "markdown",
   "metadata": {},
   "source": [
    "# Section 2: Explore Data for Bias\n",
    "\n"
   ]
  },
  {
   "attachments": {},
   "cell_type": "markdown",
   "metadata": {},
   "source": [
    "### Step 1: Investigate Potential Bias - Sex\n",
    "\n",
    "There are many strategies for determining where to look for bias. These intricate relationships can be hard to disententangle and can be prone to unforeseen complications. Like many data analysis strategies, a combination of qualitative and quantitative knowledge can provide the user with the best course of action. Knowing the data helps keep humans in the loop and allows intelligent interpretation of the results. \n",
    "\n",
    "In our example dataset, `Adult`, it is a well-known phenomenon that women are often disadvantaged in the workforce in terms of salary, especially at the time this dataset was created. This gives us a starting point to look for harmful biases in our dataset.\n",
    "\n",
    "\n",
    "\n",
    "We can begin by reacting to the Action Feature and plotting it."
   ]
  },
  {
   "cell_type": "code",
   "execution_count": 4,
   "metadata": {
    "execution": {
     "iopub.execute_input": "2025-07-21T21:01:37.134909Z",
     "iopub.status.busy": "2025-07-21T21:01:37.134723Z",
     "iopub.status.idle": "2025-07-21T21:01:37.280692Z",
     "shell.execute_reply": "2025-07-21T21:01:37.280053Z"
    }
   },
   "outputs": [],
   "source": [
    "context_features = features.get_names(without=['target'])\n",
    "output = t.react(X_test, action_features=[\"target\"], context_features=context_features)[\"action\"]\n",
    "predictions = output[\"target\"]"
   ]
  },
  {
   "attachments": {},
   "cell_type": "markdown",
   "metadata": {},
   "source": [
    "Plotting can help visualize the results."
   ]
  },
  {
   "cell_type": "code",
   "execution_count": 5,
   "metadata": {
    "execution": {
     "iopub.execute_input": "2025-07-21T21:01:37.283010Z",
     "iopub.status.busy": "2025-07-21T21:01:37.282820Z",
     "iopub.status.idle": "2025-07-21T21:01:37.430101Z",
     "shell.execute_reply": "2025-07-21T21:01:37.429508Z"
    }
   },
   "outputs": [],
   "source": [
    "context_features = features.get_names(without=['target'])\n",
    "output = t.react(X_test, action_features=[\"target\"], context_features=context_features)[\"action\"]\n",
    "predictions = output[\"target\"]\n",
    "\n",
    "display_output_a = output.replace({\"target\": {0: \"Salary >= $50k\", 1: \"Salary < $50k\"}})\n",
    "display_df = X_test.replace({\n",
    "    \"sex\": {0: \"Female\", 1: \"Male\"},\n",
    "    \"target\": {0: \"Salary >= $50k\", 1: \"Salary < $50k\"}\n",
    "})"
   ]
  },
  {
   "cell_type": "code",
   "execution_count": 6,
   "metadata": {
    "execution": {
     "iopub.execute_input": "2025-07-21T21:01:37.432480Z",
     "iopub.status.busy": "2025-07-21T21:01:37.432257Z",
     "iopub.status.idle": "2025-07-21T21:01:40.769941Z",
     "shell.execute_reply": "2025-07-21T21:01:40.769402Z"
    }
   },
   "outputs": [
    {
     "data": {
      "image/svg+xml": [
       "<svg class=\"main-svg\" xmlns=\"http://www.w3.org/2000/svg\" xmlns:xlink=\"http://www.w3.org/1999/xlink\" width=\"700\" height=\"500\" style=\"\" viewBox=\"0 0 700 500\"><rect x=\"0\" y=\"0\" width=\"700\" height=\"500\" style=\"fill: rgb(255, 255, 255); fill-opacity: 1;\"/><defs id=\"defs-fc1ba6\"><g class=\"clips\"><clipPath id=\"clipfc1ba6xyplot\" class=\"plotclip\"><rect width=\"512\" height=\"360\"/></clipPath><clipPath class=\"axesclip\" id=\"clipfc1ba6x\"><rect x=\"80\" y=\"0\" width=\"512\" height=\"500\"/></clipPath><clipPath class=\"axesclip\" id=\"clipfc1ba6y\"><rect x=\"0\" y=\"60\" width=\"700\" height=\"360\"/></clipPath><clipPath class=\"axesclip\" id=\"clipfc1ba6xy\"><rect x=\"80\" y=\"60\" width=\"512\" height=\"360\"/></clipPath></g><g class=\"gradients\"/><g class=\"patterns\"/></defs><g class=\"bglayer\"><rect class=\"bg\" x=\"80\" y=\"60\" width=\"512\" height=\"360\" style=\"fill: rgb(229, 236, 246); fill-opacity: 1; stroke-width: 0;\"/></g><g class=\"layer-below\"><g class=\"imagelayer\"/><g class=\"shapelayer\"/></g><g class=\"cartesianlayer\"><g class=\"subplot xy\"><g class=\"layer-subplot\"><g class=\"shapelayer\"/><g class=\"imagelayer\"/></g><g class=\"minor-gridlayer\"><g class=\"x\"/><g class=\"y\"/></g><g class=\"gridlayer\"><g class=\"x\"/><g class=\"y\"><path class=\"ygrid crisp\" transform=\"translate(0,380.85)\" d=\"M80,0h512\" style=\"stroke: rgb(255, 255, 255); stroke-opacity: 1; stroke-width: 1px;\"/><path class=\"ygrid crisp\" transform=\"translate(0,341.69)\" d=\"M80,0h512\" style=\"stroke: rgb(255, 255, 255); stroke-opacity: 1; stroke-width: 1px;\"/><path class=\"ygrid crisp\" transform=\"translate(0,302.53999999999996)\" d=\"M80,0h512\" style=\"stroke: rgb(255, 255, 255); stroke-opacity: 1; stroke-width: 1px;\"/><path class=\"ygrid crisp\" transform=\"translate(0,263.39)\" d=\"M80,0h512\" style=\"stroke: rgb(255, 255, 255); stroke-opacity: 1; stroke-width: 1px;\"/><path class=\"ygrid crisp\" transform=\"translate(0,224.23)\" d=\"M80,0h512\" style=\"stroke: rgb(255, 255, 255); stroke-opacity: 1; stroke-width: 1px;\"/><path class=\"ygrid crisp\" transform=\"translate(0,185.07999999999998)\" d=\"M80,0h512\" style=\"stroke: rgb(255, 255, 255); stroke-opacity: 1; stroke-width: 1px;\"/><path class=\"ygrid crisp\" transform=\"translate(0,145.93)\" d=\"M80,0h512\" style=\"stroke: rgb(255, 255, 255); stroke-opacity: 1; stroke-width: 1px;\"/><path class=\"ygrid crisp\" transform=\"translate(0,106.78)\" d=\"M80,0h512\" style=\"stroke: rgb(255, 255, 255); stroke-opacity: 1; stroke-width: 1px;\"/><path class=\"ygrid crisp\" transform=\"translate(0,67.62)\" d=\"M80,0h512\" style=\"stroke: rgb(255, 255, 255); stroke-opacity: 1; stroke-width: 1px;\"/></g></g><g class=\"zerolinelayer\"><path class=\"yzl zl crisp\" transform=\"translate(0,420)\" d=\"M80,0h512\" style=\"stroke: rgb(255, 255, 255); stroke-opacity: 1; stroke-width: 2px;\"/></g><g class=\"layer-between\"><g class=\"shapelayer\"/><g class=\"imagelayer\"/></g><path class=\"xlines-below\"/><path class=\"ylines-below\"/><g class=\"overlines-below\"/><g class=\"xaxislayer-below\"/><g class=\"yaxislayer-below\"/><g class=\"overaxes-below\"/><g class=\"overplot\"><g class=\"xy\" transform=\"translate(80,60)\" clip-path=\"url(#clipfc1ba6xyplot)\"><g class=\"barlayer mlayer\"><g class=\"trace bars\" style=\"opacity: 1;\"><g class=\"points\"><g class=\"point\"><path d=\"M25.6,360V166.5H128V360Z\" style=\"vector-effect: none; opacity: 1; stroke-width: 0px; fill: rgb(99, 110, 250); fill-opacity: 1;\"/></g><g class=\"point\"><path d=\"M281.6,360V161.97H384V360Z\" style=\"vector-effect: none; opacity: 1; stroke-width: 0px; fill: rgb(99, 110, 250); fill-opacity: 1;\"/></g></g></g><g class=\"trace bars\" style=\"opacity: 1;\"><g class=\"points\"><g class=\"point\"><path d=\"M128,360V18H230.4V360Z\" style=\"vector-effect: none; opacity: 1; stroke-width: 0px; fill: rgb(239, 85, 59); fill-opacity: 1;\"/></g><g class=\"point\"><path d=\"M384,360V310.47H486.4V360Z\" style=\"vector-effect: none; opacity: 1; stroke-width: 0px; fill: rgb(239, 85, 59); fill-opacity: 1;\"/></g></g></g></g></g></g><path class=\"xlines-above crisp\" d=\"M0,0\" style=\"fill: none;\"/><path class=\"ylines-above crisp\" d=\"M0,0\" style=\"fill: none;\"/><g class=\"overlines-above\"/><g class=\"xaxislayer-above\"><g class=\"xtick\"><text text-anchor=\"middle\" x=\"0\" y=\"433\" transform=\"translate(208,0)\" style=\"font-family: 'Open Sans', verdana, arial, sans-serif; font-size: 12px; fill: rgb(42, 63, 95); fill-opacity: 1; white-space: pre; opacity: 1;\">Salary &#60; $50k</text></g><g class=\"xtick\"><text text-anchor=\"middle\" x=\"0\" y=\"433\" transform=\"translate(464,0)\" style=\"font-family: 'Open Sans', verdana, arial, sans-serif; font-size: 12px; fill: rgb(42, 63, 95); fill-opacity: 1; white-space: pre; opacity: 1;\">Salary >= $50k</text></g></g><g class=\"yaxislayer-above\"><g class=\"ytick\"><text text-anchor=\"end\" x=\"79\" y=\"4.199999999999999\" transform=\"translate(0,420)\" style=\"font-family: 'Open Sans', verdana, arial, sans-serif; font-size: 12px; fill: rgb(42, 63, 95); fill-opacity: 1; white-space: pre; opacity: 1;\">0</text></g><g class=\"ytick\"><text text-anchor=\"end\" x=\"79\" y=\"4.199999999999999\" style=\"font-family: 'Open Sans', verdana, arial, sans-serif; font-size: 12px; fill: rgb(42, 63, 95); fill-opacity: 1; white-space: pre; opacity: 1;\" transform=\"translate(0,380.85)\">0.1</text></g><g class=\"ytick\"><text text-anchor=\"end\" x=\"79\" y=\"4.199999999999999\" style=\"font-family: 'Open Sans', verdana, arial, sans-serif; font-size: 12px; fill: rgb(42, 63, 95); fill-opacity: 1; white-space: pre; opacity: 1;\" transform=\"translate(0,341.69)\">0.2</text></g><g class=\"ytick\"><text text-anchor=\"end\" x=\"79\" y=\"4.199999999999999\" style=\"font-family: 'Open Sans', verdana, arial, sans-serif; font-size: 12px; fill: rgb(42, 63, 95); fill-opacity: 1; white-space: pre; opacity: 1;\" transform=\"translate(0,302.53999999999996)\">0.3</text></g><g class=\"ytick\"><text text-anchor=\"end\" x=\"79\" y=\"4.199999999999999\" style=\"font-family: 'Open Sans', verdana, arial, sans-serif; font-size: 12px; fill: rgb(42, 63, 95); fill-opacity: 1; white-space: pre; opacity: 1;\" transform=\"translate(0,263.39)\">0.4</text></g><g class=\"ytick\"><text text-anchor=\"end\" x=\"79\" y=\"4.199999999999999\" style=\"font-family: 'Open Sans', verdana, arial, sans-serif; font-size: 12px; fill: rgb(42, 63, 95); fill-opacity: 1; white-space: pre; opacity: 1;\" transform=\"translate(0,224.23)\">0.5</text></g><g class=\"ytick\"><text text-anchor=\"end\" x=\"79\" y=\"4.199999999999999\" style=\"font-family: 'Open Sans', verdana, arial, sans-serif; font-size: 12px; fill: rgb(42, 63, 95); fill-opacity: 1; white-space: pre; opacity: 1;\" transform=\"translate(0,185.07999999999998)\">0.6</text></g><g class=\"ytick\"><text text-anchor=\"end\" x=\"79\" y=\"4.199999999999999\" style=\"font-family: 'Open Sans', verdana, arial, sans-serif; font-size: 12px; fill: rgb(42, 63, 95); fill-opacity: 1; white-space: pre; opacity: 1;\" transform=\"translate(0,145.93)\">0.7</text></g><g class=\"ytick\"><text text-anchor=\"end\" x=\"79\" y=\"4.199999999999999\" style=\"font-family: 'Open Sans', verdana, arial, sans-serif; font-size: 12px; fill: rgb(42, 63, 95); fill-opacity: 1; white-space: pre; opacity: 1;\" transform=\"translate(0,106.78)\">0.8</text></g><g class=\"ytick\"><text text-anchor=\"end\" x=\"79\" y=\"4.199999999999999\" style=\"font-family: 'Open Sans', verdana, arial, sans-serif; font-size: 12px; fill: rgb(42, 63, 95); fill-opacity: 1; white-space: pre; opacity: 1;\" transform=\"translate(0,67.62)\">0.9</text></g></g><g class=\"overaxes-above\"/></g></g><g class=\"polarlayer\"/><g class=\"smithlayer\"/><g class=\"ternarylayer\"/><g class=\"geolayer\"/><g class=\"funnelarealayer\"/><g class=\"pielayer\"/><g class=\"iciclelayer\"/><g class=\"treemaplayer\"/><g class=\"sunburstlayer\"/><g class=\"glimages\"/><defs id=\"topdefs-fc1ba6\"><g class=\"clips\"/><clipPath id=\"legendfc1ba6\"><rect width=\"86\" height=\"67\" x=\"0\" y=\"0\"/></clipPath></defs><g class=\"layer-above\"><g class=\"imagelayer\"/><g class=\"shapelayer\"/></g><g class=\"infolayer\"><g class=\"legend\" pointer-events=\"all\" transform=\"translate(602.24,60)\"><rect class=\"bg\" shape-rendering=\"crispEdges\" style=\"stroke: rgb(68, 68, 68); stroke-opacity: 1; fill: rgb(255, 255, 255); fill-opacity: 1; stroke-width: 0px;\" width=\"86\" height=\"67\" x=\"0\" y=\"0\"/><g class=\"scrollbox\" transform=\"\" clip-path=\"url(#legendfc1ba6)\"><text class=\"legendtitletext\" text-anchor=\"start\" x=\"2\" y=\"18.2\" style=\"font-family: 'Open Sans', verdana, arial, sans-serif; font-size: 14px; fill: rgb(42, 63, 95); fill-opacity: 1; white-space: pre;\">color</text><g class=\"groups\" transform=\"\"><g class=\"traces\" transform=\"translate(0,32.7)\" style=\"opacity: 1;\"><text class=\"legendtext\" text-anchor=\"start\" x=\"40\" y=\"4.680000000000001\" style=\"font-family: 'Open Sans', verdana, arial, sans-serif; font-size: 12px; fill: rgb(42, 63, 95); fill-opacity: 1; white-space: pre;\">Male</text><g class=\"layers\" style=\"opacity: 1;\"><g class=\"legendfill\"/><g class=\"legendlines\"/><g class=\"legendsymbols\"><g class=\"legendpoints\"><path class=\"legendundefined\" d=\"M6,6H-6V-6H6Z\" transform=\"translate(20,0)\" style=\"stroke-width: 0px; fill: rgb(99, 110, 250); fill-opacity: 1;\"/></g></g></g><rect class=\"legendtoggle\" x=\"0\" y=\"-9.5\" width=\"80.33984375\" height=\"19\" style=\"fill: rgb(0, 0, 0); fill-opacity: 0;\"/></g></g><g class=\"groups\" transform=\"\"><g class=\"traces\" transform=\"translate(0,51.7)\" style=\"opacity: 1;\"><text class=\"legendtext\" text-anchor=\"start\" x=\"40\" y=\"4.680000000000001\" style=\"font-family: 'Open Sans', verdana, arial, sans-serif; font-size: 12px; fill: rgb(42, 63, 95); fill-opacity: 1; white-space: pre;\">Female</text><g class=\"layers\" style=\"opacity: 1;\"><g class=\"legendfill\"/><g class=\"legendlines\"/><g class=\"legendsymbols\"><g class=\"legendpoints\"><path class=\"legendundefined\" d=\"M6,6H-6V-6H6Z\" transform=\"translate(20,0)\" style=\"stroke-width: 0px; fill: rgb(239, 85, 59); fill-opacity: 1;\"/></g></g></g><rect class=\"legendtoggle\" x=\"0\" y=\"-9.5\" width=\"80.33984375\" height=\"19\" style=\"fill: rgb(0, 0, 0); fill-opacity: 0;\"/></g></g></g><rect class=\"scrollbar\" rx=\"20\" ry=\"3\" width=\"0\" height=\"0\" style=\"fill: rgb(128, 139, 164); fill-opacity: 1;\" x=\"0\" y=\"0\"/></g><g class=\"g-gtitle\"/><g class=\"g-xtitle\"><text class=\"xtitle\" x=\"336\" y=\"460.3\" text-anchor=\"middle\" style=\"opacity: 1; font-family: 'Open Sans', verdana, arial, sans-serif; font-size: 14px; fill: rgb(42, 63, 95); fill-opacity: 1; white-space: pre;\">target</text></g><g class=\"g-ytitle\"><text class=\"ytitle\" transform=\"rotate(-90,42.9125,240)\" x=\"42.9125\" y=\"240\" text-anchor=\"middle\" style=\"opacity: 1; font-family: 'Open Sans', verdana, arial, sans-serif; font-size: 14px; fill: rgb(42, 63, 95); fill-opacity: 1; white-space: pre;\">probability density</text></g></g></svg>"
      ]
     },
     "metadata": {},
     "output_type": "display_data"
    }
   ],
   "source": [
    "import plotly.express as px\n",
    "\n",
    "fig = px.histogram(\n",
    "    display_output_a,\n",
    "    x=\"target\",\n",
    "    width=650,\n",
    "    height=650,\n",
    "    barmode=\"group\",\n",
    "    color=display_df.sex,\n",
    "    histnorm='probability density',\n",
    ")\n",
    "fig.show()"
   ]
  },
  {
   "cell_type": "code",
   "execution_count": 7,
   "metadata": {
    "execution": {
     "iopub.execute_input": "2025-07-21T21:01:40.771761Z",
     "iopub.status.busy": "2025-07-21T21:01:40.771566Z",
     "iopub.status.idle": "2025-07-21T21:01:40.779652Z",
     "shell.execute_reply": "2025-07-21T21:01:40.779148Z"
    }
   },
   "outputs": [
    {
     "name": "stdout",
     "output_type": "stream",
     "text": [
      "under 50k ratio (female/male): 1.7674205594307053  over 50k ratio (male/female): 3.9980732177263976\n"
     ]
    }
   ],
   "source": [
    "X_test_2 = X_test.reset_index()\n",
    "X_test_2['predicted'] = output['target']\n",
    "female_50plus = len(X_test_2[(X_test_2['sex']==0) & (X_test_2['predicted']==0)])\n",
    "female_50min = len(X_test_2[(X_test_2['sex']==0) & (X_test_2['predicted']==1)])\n",
    "male_50plus = len(X_test_2[(X_test_2['sex']==1) & (X_test_2['predicted']==0)])\n",
    "male_50min = len(X_test_2[(X_test_2['sex']==1) & (X_test_2['predicted']==1)])\n",
    "\n",
    "total_male = male_50min + male_50plus\n",
    "total_female = female_50min + female_50plus\n",
    "\n",
    "# Compute the biased ratios for both over and under $50k\n",
    "ratio_under_50 = (female_50min / total_female)  / (male_50min / total_male)\n",
    "ratio_over_50 = (male_50plus / total_male) / (female_50plus / total_female)\n",
    "print(f\"under 50k ratio (female/male): {ratio_under_50}  over 50k ratio (male/female): {ratio_over_50}\")"
   ]
  },
  {
   "attachments": {},
   "cell_type": "markdown",
   "metadata": {},
   "source": [
    "Then we also check the accuracy of the Trainee's predictions on the test set."
   ]
  },
  {
   "cell_type": "code",
   "execution_count": 8,
   "metadata": {
    "execution": {
     "iopub.execute_input": "2025-07-21T21:01:40.781257Z",
     "iopub.status.busy": "2025-07-21T21:01:40.781074Z",
     "iopub.status.idle": "2025-07-21T21:01:40.785917Z",
     "shell.execute_reply": "2025-07-21T21:01:40.785439Z"
    }
   },
   "outputs": [
    {
     "data": {
      "text/plain": [
       "0.83"
      ]
     },
     "execution_count": 8,
     "metadata": {},
     "output_type": "execute_result"
    }
   ],
   "source": [
    "accuracy = round(accuracy_score(X_test[\"target\"], predictions), 3)\n",
    "accuracy"
   ]
  },
  {
   "attachments": {},
   "cell_type": "markdown",
   "metadata": {},
   "source": [
    "Since we are controlling for many of the features that are relevant to the Action Feature, this highlights the potential biases in the remaining features. We can see with the imbalance in representation across target values between sexes, a bias is evident. Men, despite being of the same work class and education level are much more likely than women to make over $50K in this dataset. \n"
   ]
  },
  {
   "attachments": {},
   "cell_type": "markdown",
   "metadata": {},
   "source": [
    "### Step 2: Investigate Potential Relationship with Biased Feature - Sex and Relationship"
   ]
  },
  {
   "attachments": {},
   "cell_type": "markdown",
   "metadata": {},
   "source": [
    "Now that we identified `Sex` as a bias, we want to see the extent of the bias as it relates to other features. This is important because if we want to correct a biased feature, its relationships with other features can leave residual biases that persist if not addressed. You can think of the main biased feature as a weed whose roots can spread to other features."
   ]
  },
  {
   "attachments": {},
   "cell_type": "markdown",
   "metadata": {},
   "source": [
    "#### Step 2a: Search for Other Affected Features"
   ]
  },
  {
   "cell_type": "code",
   "execution_count": 9,
   "metadata": {
    "execution": {
     "iopub.execute_input": "2025-07-21T21:01:40.787623Z",
     "iopub.status.busy": "2025-07-21T21:01:40.787447Z",
     "iopub.status.idle": "2025-07-21T21:01:42.379196Z",
     "shell.execute_reply": "2025-07-21T21:01:42.378646Z"
    }
   },
   "outputs": [
    {
     "data": {
      "image/svg+xml": [
       "<svg class=\"main-svg\" xmlns=\"http://www.w3.org/2000/svg\" xmlns:xlink=\"http://www.w3.org/1999/xlink\" width=\"700\" height=\"500\" style=\"\" viewBox=\"0 0 700 500\"><rect x=\"0\" y=\"0\" width=\"700\" height=\"500\" style=\"fill: rgb(255, 255, 255); fill-opacity: 1;\"/><defs id=\"defs-fd9c76\"><g class=\"clips\"><clipPath id=\"clipfd9c76xyplot\" class=\"plotclip\"><rect width=\"337\" height=\"337\"/></clipPath><clipPath class=\"axesclip\" id=\"clipfd9c76x\"><rect x=\"173.5\" y=\"0\" width=\"337\" height=\"500\"/></clipPath><clipPath class=\"axesclip\" id=\"clipfd9c76y\"><rect x=\"0\" y=\"60\" width=\"700\" height=\"337\"/></clipPath><clipPath class=\"axesclip\" id=\"clipfd9c76xy\"><rect x=\"173.5\" y=\"60\" width=\"337\" height=\"337\"/></clipPath></g><g class=\"gradients\"><linearGradient x1=\"0\" y1=\"1\" x2=\"0\" y2=\"0\" gradientUnits=\"objectBoundingBox\" id=\"gfd9c76-cbcoloraxis\"><stop offset=\"0%\" stop-color=\"rgb(13, 8, 135)\" stop-opacity=\"1\"/><stop offset=\"11.111111%\" stop-color=\"rgb(70, 3, 159)\" stop-opacity=\"1\"/><stop offset=\"22.222222%\" stop-color=\"rgb(114, 1, 168)\" stop-opacity=\"1\"/><stop offset=\"33.333333%\" stop-color=\"rgb(156, 23, 158)\" stop-opacity=\"1\"/><stop offset=\"44.444444%\" stop-color=\"rgb(189, 55, 134)\" stop-opacity=\"1\"/><stop offset=\"55.555556%\" stop-color=\"rgb(216, 87, 107)\" stop-opacity=\"1\"/><stop offset=\"66.666667%\" stop-color=\"rgb(237, 121, 83)\" stop-opacity=\"1\"/><stop offset=\"77.777778%\" stop-color=\"rgb(251, 159, 58)\" stop-opacity=\"1\"/><stop offset=\"88.888889%\" stop-color=\"rgb(253, 202, 38)\" stop-opacity=\"1\"/><stop offset=\"100%\" stop-color=\"rgb(240, 249, 33)\" stop-opacity=\"1\"/></linearGradient></g><g class=\"patterns\"/></defs><g class=\"bglayer\"><rect class=\"bg\" x=\"173.5\" y=\"60\" width=\"337\" height=\"337\" style=\"fill: rgb(229, 236, 246); fill-opacity: 1; stroke-width: 0;\"/></g><g class=\"layer-below\"><g class=\"imagelayer\"/><g class=\"shapelayer\"/></g><g class=\"cartesianlayer\"><g class=\"subplot xy\"><g class=\"layer-subplot\"><g class=\"shapelayer\"/><g class=\"imagelayer\"/></g><g class=\"minor-gridlayer\"><g class=\"x\"/><g class=\"y\"/></g><g class=\"gridlayer\"><g class=\"x\"><path class=\"xgrid crisp\" transform=\"translate(184.73,0)\" d=\"M0,60v337\" style=\"stroke: rgb(255, 255, 255); stroke-opacity: 1; stroke-width: 1px;\"/><path class=\"xgrid crisp\" transform=\"translate(207.2,0)\" d=\"M0,60v337\" style=\"stroke: rgb(255, 255, 255); stroke-opacity: 1; stroke-width: 1px;\"/><path class=\"xgrid crisp\" transform=\"translate(229.67000000000002,0)\" d=\"M0,60v337\" style=\"stroke: rgb(255, 255, 255); stroke-opacity: 1; stroke-width: 1px;\"/><path class=\"xgrid crisp\" transform=\"translate(252.13,0)\" d=\"M0,60v337\" style=\"stroke: rgb(255, 255, 255); stroke-opacity: 1; stroke-width: 1px;\"/><path class=\"xgrid crisp\" transform=\"translate(274.6,0)\" d=\"M0,60v337\" style=\"stroke: rgb(255, 255, 255); stroke-opacity: 1; stroke-width: 1px;\"/><path class=\"xgrid crisp\" transform=\"translate(297.07,0)\" d=\"M0,60v337\" style=\"stroke: rgb(255, 255, 255); stroke-opacity: 1; stroke-width: 1px;\"/><path class=\"xgrid crisp\" transform=\"translate(319.53,0)\" d=\"M0,60v337\" style=\"stroke: rgb(255, 255, 255); stroke-opacity: 1; stroke-width: 1px;\"/><path class=\"xgrid crisp\" transform=\"translate(342,0)\" d=\"M0,60v337\" style=\"stroke: rgb(255, 255, 255); stroke-opacity: 1; stroke-width: 1px;\"/><path class=\"xgrid crisp\" transform=\"translate(364.47,0)\" d=\"M0,60v337\" style=\"stroke: rgb(255, 255, 255); stroke-opacity: 1; stroke-width: 1px;\"/><path class=\"xgrid crisp\" transform=\"translate(386.93,0)\" d=\"M0,60v337\" style=\"stroke: rgb(255, 255, 255); stroke-opacity: 1; stroke-width: 1px;\"/><path class=\"xgrid crisp\" transform=\"translate(409.4,0)\" d=\"M0,60v337\" style=\"stroke: rgb(255, 255, 255); stroke-opacity: 1; stroke-width: 1px;\"/><path class=\"xgrid crisp\" transform=\"translate(431.87,0)\" d=\"M0,60v337\" style=\"stroke: rgb(255, 255, 255); stroke-opacity: 1; stroke-width: 1px;\"/><path class=\"xgrid crisp\" transform=\"translate(454.33,0)\" d=\"M0,60v337\" style=\"stroke: rgb(255, 255, 255); stroke-opacity: 1; stroke-width: 1px;\"/><path class=\"xgrid crisp\" transform=\"translate(476.8,0)\" d=\"M0,60v337\" style=\"stroke: rgb(255, 255, 255); stroke-opacity: 1; stroke-width: 1px;\"/><path class=\"xgrid crisp\" transform=\"translate(499.27,0)\" d=\"M0,60v337\" style=\"stroke: rgb(255, 255, 255); stroke-opacity: 1; stroke-width: 1px;\"/></g><g class=\"y\"><path class=\"ygrid crisp\" transform=\"translate(0,385.77)\" d=\"M173.5,0h337\" style=\"stroke: rgb(255, 255, 255); stroke-opacity: 1; stroke-width: 1px;\"/><path class=\"ygrid crisp\" transform=\"translate(0,363.3)\" d=\"M173.5,0h337\" style=\"stroke: rgb(255, 255, 255); stroke-opacity: 1; stroke-width: 1px;\"/><path class=\"ygrid crisp\" transform=\"translate(0,340.83)\" d=\"M173.5,0h337\" style=\"stroke: rgb(255, 255, 255); stroke-opacity: 1; stroke-width: 1px;\"/><path class=\"ygrid crisp\" transform=\"translate(0,318.37)\" d=\"M173.5,0h337\" style=\"stroke: rgb(255, 255, 255); stroke-opacity: 1; stroke-width: 1px;\"/><path class=\"ygrid crisp\" transform=\"translate(0,295.9)\" d=\"M173.5,0h337\" style=\"stroke: rgb(255, 255, 255); stroke-opacity: 1; stroke-width: 1px;\"/><path class=\"ygrid crisp\" transform=\"translate(0,273.43)\" d=\"M173.5,0h337\" style=\"stroke: rgb(255, 255, 255); stroke-opacity: 1; stroke-width: 1px;\"/><path class=\"ygrid crisp\" transform=\"translate(0,250.97)\" d=\"M173.5,0h337\" style=\"stroke: rgb(255, 255, 255); stroke-opacity: 1; stroke-width: 1px;\"/><path class=\"ygrid crisp\" transform=\"translate(0,228.5)\" d=\"M173.5,0h337\" style=\"stroke: rgb(255, 255, 255); stroke-opacity: 1; stroke-width: 1px;\"/><path class=\"ygrid crisp\" transform=\"translate(0,206.03)\" d=\"M173.5,0h337\" style=\"stroke: rgb(255, 255, 255); stroke-opacity: 1; stroke-width: 1px;\"/><path class=\"ygrid crisp\" transform=\"translate(0,183.57)\" d=\"M173.5,0h337\" style=\"stroke: rgb(255, 255, 255); stroke-opacity: 1; stroke-width: 1px;\"/><path class=\"ygrid crisp\" transform=\"translate(0,161.1)\" d=\"M173.5,0h337\" style=\"stroke: rgb(255, 255, 255); stroke-opacity: 1; stroke-width: 1px;\"/><path class=\"ygrid crisp\" transform=\"translate(0,138.63)\" d=\"M173.5,0h337\" style=\"stroke: rgb(255, 255, 255); stroke-opacity: 1; stroke-width: 1px;\"/><path class=\"ygrid crisp\" transform=\"translate(0,116.17)\" d=\"M173.5,0h337\" style=\"stroke: rgb(255, 255, 255); stroke-opacity: 1; stroke-width: 1px;\"/><path class=\"ygrid crisp\" transform=\"translate(0,93.7)\" d=\"M173.5,0h337\" style=\"stroke: rgb(255, 255, 255); stroke-opacity: 1; stroke-width: 1px;\"/><path class=\"ygrid crisp\" transform=\"translate(0,71.23)\" d=\"M173.5,0h337\" style=\"stroke: rgb(255, 255, 255); stroke-opacity: 1; stroke-width: 1px;\"/></g></g><g class=\"zerolinelayer\"/><g class=\"layer-between\"><g class=\"shapelayer\"/><g class=\"imagelayer\"/></g><path class=\"xlines-below\"/><path class=\"ylines-below\"/><g class=\"overlines-below\"/><g class=\"xaxislayer-below\"/><g class=\"yaxislayer-below\"/><g class=\"overaxes-below\"/><g class=\"overplot\"><g class=\"xy\" transform=\"translate(173.5,60)\" clip-path=\"url(#clipfd9c76xyplot)\"><g class=\"heatmaplayer mlayer\"><g class=\"hm\"><image xmlns=\"http://www.w3.org/2000/svg\" preserveAspectRatio=\"none\" height=\"337\" width=\"337\" x=\"0\" y=\"0\" xlink:href=\"data:image/png;base64,iVBORw0KGgoAAAANSUhEUgAAAA8AAAAPCAYAAAA71pVKAAAAAXNSR0IArs4c6QAAAvhJREFUOE8lkktsG1UYhb87Y48f44ljYydpQ0qaxGmbAqYRizbZhLJAIEAsoVtW7QIESLwWBbrgXRAFBbFALBBVI1gABQoSj9JFWqmEkpSqKU6rprFDcOr42RmPx56LZnJXv/7FOed+5xcVe7v8afdzlCo6RrRFJGzzSy7FxECd2RWD/ZkSMb2J6wrabRVFdanVoswtJxAzIx/JBy4d5WTmRTTNIRxy+LfYzcTkAr+fyTLQVyYUcjDNME5bpa93g3whTbOpIaZTn0nP8ZHcm3w78hKdjoIRs2g5ARThYreCRKM2rVYA77mu4s/eTny+7RPpOdq2xqNLb1A+tJ/Tp/ahqi6K4hIIdLDtTQEvupdMCEl+LYn4avSYDAY7bJQNph48S2L6V07cfpjhwTUWr26hL1Wn01ZI91RpWhp6zKJcNphZvA1xUByX2ZRNKtGg3ohgOyqP54/4DEYyK8wvDFOzVVK64ydZWtcZ7W2wY+f1zdjZ8UX+nh/1aW7pK7H2X9JncLz/MIkuCyNmYlkhXCl88l7KuqltOo8lWqS7b9HuqJTrYe7ds8SF+WEOFI7wac9rvGoXeC/eCxIW1iPsvaPCndkc4svRD2Uw0KZa0/1KPFClcoy4YbFaivFk8RVm9x7yu/VAeQCTyTpXcv2IU3vekZ5k41YE0wwR0hxu3DQYGyzyxD8OM7sCTJyb5rd7ngYE27YXuHxpiPl8HPF99l3pFd60g2ha21ddXu71/1mp6X7nnuB9f33A10Mvk05XqFZizN1IIL7Z/b60mpp/HF4kD8j6zTiRiO1H7eoy0YIdqrUoj117ndPjT2GZIa4VDcTJu49Kz2Ul30OXYRLvbvDz+WH27Vrlx4V+pnYUGRwqsLaaxnECTP15jB92Ps8f1xOILwY/llIK/4rSqSodV6Fe34Tj9bp1a4lCIYUipL+TCB5afJvvMi8gnhUn5FiPia43KdeinNlQeeb+y8xdyDA5eZGzs3dxdSPsd5yMOJTMIOMDFR7OvcX/LxRZv4qN3dsAAAAASUVORK5CYII=\" style=\"image-rendering: pixelated; opacity: 1;\"/><g class=\"heatmap-label\"><text text-anchor=\"middle\" data-notex=\"1\" x=\"11\" y=\"11.7\" style=\"font-family: 'Open Sans', verdana, arial, sans-serif; font-size: 2px; fill: rgb(68, 68, 68); fill-opacity: 1; white-space: pre;\">1</text></g><g class=\"heatmap-label\"><text text-anchor=\"middle\" data-notex=\"1\" x=\"34\" y=\"11.7\" style=\"font-family: 'Open Sans', verdana, arial, sans-serif; font-size: 2px; fill: rgb(255, 255, 255); fill-opacity: 1; white-space: pre;\">0.01752633</text></g><g class=\"heatmap-label\"><text text-anchor=\"middle\" data-notex=\"1\" x=\"56\" y=\"11.7\" style=\"font-family: 'Open Sans', verdana, arial, sans-serif; font-size: 2px; fill: rgb(255, 255, 255); fill-opacity: 1; white-space: pre;\">−0.07662808</text></g><g class=\"heatmap-label\"><text text-anchor=\"middle\" data-notex=\"1\" x=\"79\" y=\"11.7\" style=\"font-family: 'Open Sans', verdana, arial, sans-serif; font-size: 2px; fill: rgb(255, 255, 255); fill-opacity: 1; white-space: pre;\">−0.01505772</text></g><g class=\"heatmap-label\"><text text-anchor=\"middle\" data-notex=\"1\" x=\"101\" y=\"11.7\" style=\"font-family: 'Open Sans', verdana, arial, sans-serif; font-size: 2px; fill: rgb(255, 255, 255); fill-opacity: 1; white-space: pre;\">0.03094038</text></g><g class=\"heatmap-label\"><text text-anchor=\"middle\" data-notex=\"1\" x=\"124\" y=\"11.7\" style=\"font-family: 'Open Sans', verdana, arial, sans-serif; font-size: 2px; fill: rgb(255, 255, 255); fill-opacity: 1; white-space: pre;\">−0.2639779</text></g><g class=\"heatmap-label\"><text text-anchor=\"middle\" data-notex=\"1\" x=\"146\" y=\"11.7\" style=\"font-family: 'Open Sans', verdana, arial, sans-serif; font-size: 2px; fill: rgb(255, 255, 255); fill-opacity: 1; white-space: pre;\">−0.0142594</text></g><g class=\"heatmap-label\"><text text-anchor=\"middle\" data-notex=\"1\" x=\"169\" y=\"11.7\" style=\"font-family: 'Open Sans', verdana, arial, sans-serif; font-size: 2px; fill: rgb(255, 255, 255); fill-opacity: 1; white-space: pre;\">−0.2633831</text></g><g class=\"heatmap-label\"><text text-anchor=\"middle\" data-notex=\"1\" x=\"191\" y=\"11.7\" style=\"font-family: 'Open Sans', verdana, arial, sans-serif; font-size: 2px; fill: rgb(255, 255, 255); fill-opacity: 1; white-space: pre;\">0.02842083</text></g><g class=\"heatmap-label\"><text text-anchor=\"middle\" data-notex=\"1\" x=\"213\" y=\"11.7\" style=\"font-family: 'Open Sans', verdana, arial, sans-serif; font-size: 2px; fill: rgb(255, 255, 255); fill-opacity: 1; white-space: pre;\">0.08812002</text></g><g class=\"heatmap-label\"><text text-anchor=\"middle\" data-notex=\"1\" x=\"236\" y=\"11.7\" style=\"font-family: 'Open Sans', verdana, arial, sans-serif; font-size: 2px; fill: rgb(255, 255, 255); fill-opacity: 1; white-space: pre;\">0.07722902</text></g><g class=\"heatmap-label\"><text text-anchor=\"middle\" data-notex=\"1\" x=\"258\" y=\"11.7\" style=\"font-family: 'Open Sans', verdana, arial, sans-serif; font-size: 2px; fill: rgb(255, 255, 255); fill-opacity: 1; white-space: pre;\">0.05694383</text></g><g class=\"heatmap-label\"><text text-anchor=\"middle\" data-notex=\"1\" x=\"281\" y=\"11.7\" style=\"font-family: 'Open Sans', verdana, arial, sans-serif; font-size: 2px; fill: rgb(255, 255, 255); fill-opacity: 1; white-space: pre;\">0.07155834</text></g><g class=\"heatmap-label\"><text text-anchor=\"middle\" data-notex=\"1\" x=\"303\" y=\"11.7\" style=\"font-family: 'Open Sans', verdana, arial, sans-serif; font-size: 2px; fill: rgb(255, 255, 255); fill-opacity: 1; white-space: pre;\">−0.002861005</text></g><g class=\"heatmap-label\"><text text-anchor=\"middle\" data-notex=\"1\" x=\"326\" y=\"11.7\" style=\"font-family: 'Open Sans', verdana, arial, sans-serif; font-size: 2px; fill: rgb(255, 255, 255); fill-opacity: 1; white-space: pre;\">−0.2303695</text></g><g class=\"heatmap-label\"><text text-anchor=\"middle\" data-notex=\"1\" x=\"11\" y=\"34.7\" style=\"font-family: 'Open Sans', verdana, arial, sans-serif; font-size: 2px; fill: rgb(255, 255, 255); fill-opacity: 1; white-space: pre;\">0.01752633</text></g><g class=\"heatmap-label\"><text text-anchor=\"middle\" data-notex=\"1\" x=\"34\" y=\"34.7\" style=\"font-family: 'Open Sans', verdana, arial, sans-serif; font-size: 2px; fill: rgb(68, 68, 68); fill-opacity: 1; white-space: pre;\">1</text></g><g class=\"heatmap-label\"><text text-anchor=\"middle\" data-notex=\"1\" x=\"56\" y=\"34.7\" style=\"font-family: 'Open Sans', verdana, arial, sans-serif; font-size: 2px; fill: rgb(255, 255, 255); fill-opacity: 1; white-space: pre;\">−0.0165459</text></g><g class=\"heatmap-label\"><text text-anchor=\"middle\" data-notex=\"1\" x=\"79\" y=\"34.7\" style=\"font-family: 'Open Sans', verdana, arial, sans-serif; font-size: 2px; fill: rgb(255, 255, 255); fill-opacity: 1; white-space: pre;\">0.01718663</text></g><g class=\"heatmap-label\"><text text-anchor=\"middle\" data-notex=\"1\" x=\"101\" y=\"34.7\" style=\"font-family: 'Open Sans', verdana, arial, sans-serif; font-size: 2px; fill: rgb(255, 255, 255); fill-opacity: 1; white-space: pre;\">0.05591767</text></g><g class=\"heatmap-label\"><text text-anchor=\"middle\" data-notex=\"1\" x=\"124\" y=\"34.7\" style=\"font-family: 'Open Sans', verdana, arial, sans-serif; font-size: 2px; fill: rgb(255, 255, 255); fill-opacity: 1; white-space: pre;\">−0.06844145</text></g><g class=\"heatmap-label\"><text text-anchor=\"middle\" data-notex=\"1\" x=\"146\" y=\"34.7\" style=\"font-family: 'Open Sans', verdana, arial, sans-serif; font-size: 2px; fill: rgb(255, 255, 255); fill-opacity: 1; white-space: pre;\">0.2600047</text></g><g class=\"heatmap-label\"><text text-anchor=\"middle\" data-notex=\"1\" x=\"169\" y=\"34.7\" style=\"font-family: 'Open Sans', verdana, arial, sans-serif; font-size: 2px; fill: rgb(255, 255, 255); fill-opacity: 1; white-space: pre;\">−0.0923646</text></g><g class=\"heatmap-label\"><text text-anchor=\"middle\" data-notex=\"1\" x=\"191\" y=\"34.7\" style=\"font-family: 'Open Sans', verdana, arial, sans-serif; font-size: 2px; fill: rgb(255, 255, 255); fill-opacity: 1; white-space: pre;\">0.05293245</text></g><g class=\"heatmap-label\"><text text-anchor=\"middle\" data-notex=\"1\" x=\"213\" y=\"34.7\" style=\"font-family: 'Open Sans', verdana, arial, sans-serif; font-size: 2px; fill: rgb(255, 255, 255); fill-opacity: 1; white-space: pre;\">0.0912229</text></g><g class=\"heatmap-label\"><text text-anchor=\"middle\" data-notex=\"1\" x=\"236\" y=\"34.7\" style=\"font-family: 'Open Sans', verdana, arial, sans-serif; font-size: 2px; fill: rgb(255, 255, 255); fill-opacity: 1; white-space: pre;\">0.03604411</text></g><g class=\"heatmap-label\"><text text-anchor=\"middle\" data-notex=\"1\" x=\"258\" y=\"34.7\" style=\"font-family: 'Open Sans', verdana, arial, sans-serif; font-size: 2px; fill: rgb(255, 255, 255); fill-opacity: 1; white-space: pre;\">0.0108799</text></g><g class=\"heatmap-label\"><text text-anchor=\"middle\" data-notex=\"1\" x=\"281\" y=\"34.7\" style=\"font-family: 'Open Sans', verdana, arial, sans-serif; font-size: 2px; fill: rgb(255, 255, 255); fill-opacity: 1; white-space: pre;\">0.1412831</text></g><g class=\"heatmap-label\"><text text-anchor=\"middle\" data-notex=\"1\" x=\"303\" y=\"34.7\" style=\"font-family: 'Open Sans', verdana, arial, sans-serif; font-size: 2px; fill: rgb(255, 255, 255); fill-opacity: 1; white-space: pre;\">−0.008630652</text></g><g class=\"heatmap-label\"><text text-anchor=\"middle\" data-notex=\"1\" x=\"326\" y=\"34.7\" style=\"font-family: 'Open Sans', verdana, arial, sans-serif; font-size: 2px; fill: rgb(255, 255, 255); fill-opacity: 1; white-space: pre;\">−0.05267409</text></g><g class=\"heatmap-label\"><text text-anchor=\"middle\" data-notex=\"1\" x=\"11\" y=\"56.7\" style=\"font-family: 'Open Sans', verdana, arial, sans-serif; font-size: 2px; fill: rgb(255, 255, 255); fill-opacity: 1; white-space: pre;\">−0.07662808</text></g><g class=\"heatmap-label\"><text text-anchor=\"middle\" data-notex=\"1\" x=\"34\" y=\"56.7\" style=\"font-family: 'Open Sans', verdana, arial, sans-serif; font-size: 2px; fill: rgb(255, 255, 255); fill-opacity: 1; white-space: pre;\">−0.0165459</text></g><g class=\"heatmap-label\"><text text-anchor=\"middle\" data-notex=\"1\" x=\"56\" y=\"56.7\" style=\"font-family: 'Open Sans', verdana, arial, sans-serif; font-size: 2px; fill: rgb(68, 68, 68); fill-opacity: 1; white-space: pre;\">1</text></g><g class=\"heatmap-label\"><text text-anchor=\"middle\" data-notex=\"1\" x=\"79\" y=\"56.7\" style=\"font-family: 'Open Sans', verdana, arial, sans-serif; font-size: 2px; fill: rgb(255, 255, 255); fill-opacity: 1; white-space: pre;\">−0.02257046</text></g><g class=\"heatmap-label\"><text text-anchor=\"middle\" data-notex=\"1\" x=\"101\" y=\"56.7\" style=\"font-family: 'Open Sans', verdana, arial, sans-serif; font-size: 2px; fill: rgb(255, 255, 255); fill-opacity: 1; white-space: pre;\">−0.03876068</text></g><g class=\"heatmap-label\"><text text-anchor=\"middle\" data-notex=\"1\" x=\"124\" y=\"56.7\" style=\"font-family: 'Open Sans', verdana, arial, sans-serif; font-size: 2px; fill: rgb(255, 255, 255); fill-opacity: 1; white-space: pre;\">0.02985117</text></g><g class=\"heatmap-label\"><text text-anchor=\"middle\" data-notex=\"1\" x=\"146\" y=\"56.7\" style=\"font-family: 'Open Sans', verdana, arial, sans-serif; font-size: 2px; fill: rgb(255, 255, 255); fill-opacity: 1; white-space: pre;\">860.4512μ</text></g><g class=\"heatmap-label\"><text text-anchor=\"middle\" data-notex=\"1\" x=\"169\" y=\"56.7\" style=\"font-family: 'Open Sans', verdana, arial, sans-serif; font-size: 2px; fill: rgb(255, 255, 255); fill-opacity: 1; white-space: pre;\">0.009092094</text></g><g class=\"heatmap-label\"><text text-anchor=\"middle\" data-notex=\"1\" x=\"191\" y=\"56.7\" style=\"font-family: 'Open Sans', verdana, arial, sans-serif; font-size: 2px; fill: rgb(255, 255, 255); fill-opacity: 1; white-space: pre;\">−0.02706228</text></g><g class=\"heatmap-label\"><text text-anchor=\"middle\" data-notex=\"1\" x=\"213\" y=\"56.7\" style=\"font-family: 'Open Sans', verdana, arial, sans-serif; font-size: 2px; fill: rgb(255, 255, 255); fill-opacity: 1; white-space: pre;\">0.027739</text></g><g class=\"heatmap-label\"><text text-anchor=\"middle\" data-notex=\"1\" x=\"236\" y=\"56.7\" style=\"font-family: 'Open Sans', verdana, arial, sans-serif; font-size: 2px; fill: rgb(255, 255, 255); fill-opacity: 1; white-space: pre;\">−0.003706389</text></g><g class=\"heatmap-label\"><text text-anchor=\"middle\" data-notex=\"1\" x=\"258\" y=\"56.7\" style=\"font-family: 'Open Sans', verdana, arial, sans-serif; font-size: 2px; fill: rgb(255, 255, 255); fill-opacity: 1; white-space: pre;\">−0.00436615</text></g><g class=\"heatmap-label\"><text text-anchor=\"middle\" data-notex=\"1\" x=\"281\" y=\"56.7\" style=\"font-family: 'Open Sans', verdana, arial, sans-serif; font-size: 2px; fill: rgb(255, 255, 255); fill-opacity: 1; white-space: pre;\">−0.01351871</text></g><g class=\"heatmap-label\"><text text-anchor=\"middle\" data-notex=\"1\" x=\"303\" y=\"56.7\" style=\"font-family: 'Open Sans', verdana, arial, sans-serif; font-size: 2px; fill: rgb(255, 255, 255); fill-opacity: 1; white-space: pre;\">−0.04867973</text></g><g class=\"heatmap-label\"><text text-anchor=\"middle\" data-notex=\"1\" x=\"326\" y=\"56.7\" style=\"font-family: 'Open Sans', verdana, arial, sans-serif; font-size: 2px; fill: rgb(255, 255, 255); fill-opacity: 1; white-space: pre;\">0.00633886</text></g><g class=\"heatmap-label\"><text text-anchor=\"middle\" data-notex=\"1\" x=\"11\" y=\"79.7\" style=\"font-family: 'Open Sans', verdana, arial, sans-serif; font-size: 2px; fill: rgb(255, 255, 255); fill-opacity: 1; white-space: pre;\">−0.01505772</text></g><g class=\"heatmap-label\"><text text-anchor=\"middle\" data-notex=\"1\" x=\"34\" y=\"79.7\" style=\"font-family: 'Open Sans', verdana, arial, sans-serif; font-size: 2px; fill: rgb(255, 255, 255); fill-opacity: 1; white-space: pre;\">0.01718663</text></g><g class=\"heatmap-label\"><text text-anchor=\"middle\" data-notex=\"1\" x=\"56\" y=\"79.7\" style=\"font-family: 'Open Sans', verdana, arial, sans-serif; font-size: 2px; fill: rgb(255, 255, 255); fill-opacity: 1; white-space: pre;\">−0.02257046</text></g><g class=\"heatmap-label\"><text text-anchor=\"middle\" data-notex=\"1\" x=\"79\" y=\"79.7\" style=\"font-family: 'Open Sans', verdana, arial, sans-serif; font-size: 2px; fill: rgb(68, 68, 68); fill-opacity: 1; white-space: pre;\">1</text></g><g class=\"heatmap-label\"><text text-anchor=\"middle\" data-notex=\"1\" x=\"101\" y=\"79.7\" style=\"font-family: 'Open Sans', verdana, arial, sans-serif; font-size: 2px; fill: rgb(68, 68, 68); fill-opacity: 1; white-space: pre;\">0.3596677</text></g><g class=\"heatmap-label\"><text text-anchor=\"middle\" data-notex=\"1\" x=\"124\" y=\"79.7\" style=\"font-family: 'Open Sans', verdana, arial, sans-serif; font-size: 2px; fill: rgb(255, 255, 255); fill-opacity: 1; white-space: pre;\">−0.03741679</text></g><g class=\"heatmap-label\"><text text-anchor=\"middle\" data-notex=\"1\" x=\"146\" y=\"79.7\" style=\"font-family: 'Open Sans', verdana, arial, sans-serif; font-size: 2px; fill: rgb(255, 255, 255); fill-opacity: 1; white-space: pre;\">−0.02097173</text></g><g class=\"heatmap-label\"><text text-anchor=\"middle\" data-notex=\"1\" x=\"169\" y=\"79.7\" style=\"font-family: 'Open Sans', verdana, arial, sans-serif; font-size: 2px; fill: rgb(255, 255, 255); fill-opacity: 1; white-space: pre;\">−0.01075783</text></g><g class=\"heatmap-label\"><text text-anchor=\"middle\" data-notex=\"1\" x=\"191\" y=\"79.7\" style=\"font-family: 'Open Sans', verdana, arial, sans-serif; font-size: 2px; fill: rgb(255, 255, 255); fill-opacity: 1; white-space: pre;\">0.01324979</text></g><g class=\"heatmap-label\"><text text-anchor=\"middle\" data-notex=\"1\" x=\"213\" y=\"79.7\" style=\"font-family: 'Open Sans', verdana, arial, sans-serif; font-size: 2px; fill: rgb(255, 255, 255); fill-opacity: 1; white-space: pre;\">−0.02704069</text></g><g class=\"heatmap-label\"><text text-anchor=\"middle\" data-notex=\"1\" x=\"236\" y=\"79.7\" style=\"font-family: 'Open Sans', verdana, arial, sans-serif; font-size: 2px; fill: rgb(255, 255, 255); fill-opacity: 1; white-space: pre;\">0.02892751</text></g><g class=\"heatmap-label\"><text text-anchor=\"middle\" data-notex=\"1\" x=\"258\" y=\"79.7\" style=\"font-family: 'Open Sans', verdana, arial, sans-serif; font-size: 2px; fill: rgb(255, 255, 255); fill-opacity: 1; white-space: pre;\">0.01763837</text></g><g class=\"heatmap-label\"><text text-anchor=\"middle\" data-notex=\"1\" x=\"281\" y=\"79.7\" style=\"font-family: 'Open Sans', verdana, arial, sans-serif; font-size: 2px; fill: rgb(255, 255, 255); fill-opacity: 1; white-space: pre;\">0.05765868</text></g><g class=\"heatmap-label\"><text text-anchor=\"middle\" data-notex=\"1\" x=\"303\" y=\"79.7\" style=\"font-family: 'Open Sans', verdana, arial, sans-serif; font-size: 2px; fill: rgb(255, 255, 255); fill-opacity: 1; white-space: pre;\">0.06146887</text></g><g class=\"heatmap-label\"><text text-anchor=\"middle\" data-notex=\"1\" x=\"326\" y=\"79.7\" style=\"font-family: 'Open Sans', verdana, arial, sans-serif; font-size: 2px; fill: rgb(255, 255, 255); fill-opacity: 1; white-space: pre;\">−0.08009053</text></g><g class=\"heatmap-label\"><text text-anchor=\"middle\" data-notex=\"1\" x=\"11\" y=\"101.7\" style=\"font-family: 'Open Sans', verdana, arial, sans-serif; font-size: 2px; fill: rgb(255, 255, 255); fill-opacity: 1; white-space: pre;\">0.03094038</text></g><g class=\"heatmap-label\"><text text-anchor=\"middle\" data-notex=\"1\" x=\"34\" y=\"101.7\" style=\"font-family: 'Open Sans', verdana, arial, sans-serif; font-size: 2px; fill: rgb(255, 255, 255); fill-opacity: 1; white-space: pre;\">0.05591767</text></g><g class=\"heatmap-label\"><text text-anchor=\"middle\" data-notex=\"1\" x=\"56\" y=\"101.7\" style=\"font-family: 'Open Sans', verdana, arial, sans-serif; font-size: 2px; fill: rgb(255, 255, 255); fill-opacity: 1; white-space: pre;\">−0.03876068</text></g><g class=\"heatmap-label\"><text text-anchor=\"middle\" data-notex=\"1\" x=\"79\" y=\"101.7\" style=\"font-family: 'Open Sans', verdana, arial, sans-serif; font-size: 2px; fill: rgb(68, 68, 68); fill-opacity: 1; white-space: pre;\">0.3596677</text></g><g class=\"heatmap-label\"><text text-anchor=\"middle\" data-notex=\"1\" x=\"101\" y=\"101.7\" style=\"font-family: 'Open Sans', verdana, arial, sans-serif; font-size: 2px; fill: rgb(68, 68, 68); fill-opacity: 1; white-space: pre;\">1</text></g><g class=\"heatmap-label\"><text text-anchor=\"middle\" data-notex=\"1\" x=\"124\" y=\"101.7\" style=\"font-family: 'Open Sans', verdana, arial, sans-serif; font-size: 2px; fill: rgb(255, 255, 255); fill-opacity: 1; white-space: pre;\">−0.06999196</text></g><g class=\"heatmap-label\"><text text-anchor=\"middle\" data-notex=\"1\" x=\"146\" y=\"101.7\" style=\"font-family: 'Open Sans', verdana, arial, sans-serif; font-size: 2px; fill: rgb(255, 255, 255); fill-opacity: 1; white-space: pre;\">0.1122654</text></g><g class=\"heatmap-label\"><text text-anchor=\"middle\" data-notex=\"1\" x=\"169\" y=\"101.7\" style=\"font-family: 'Open Sans', verdana, arial, sans-serif; font-size: 2px; fill: rgb(255, 255, 255); fill-opacity: 1; white-space: pre;\">−0.09053417</text></g><g class=\"heatmap-label\"><text text-anchor=\"middle\" data-notex=\"1\" x=\"191\" y=\"101.7\" style=\"font-family: 'Open Sans', verdana, arial, sans-serif; font-size: 2px; fill: rgb(255, 255, 255); fill-opacity: 1; white-space: pre;\">0.02923904</text></g><g class=\"heatmap-label\"><text text-anchor=\"middle\" data-notex=\"1\" x=\"213\" y=\"101.7\" style=\"font-family: 'Open Sans', verdana, arial, sans-serif; font-size: 2px; fill: rgb(255, 255, 255); fill-opacity: 1; white-space: pre;\">0.009328018</text></g><g class=\"heatmap-label\"><text text-anchor=\"middle\" data-notex=\"1\" x=\"236\" y=\"101.7\" style=\"font-family: 'Open Sans', verdana, arial, sans-serif; font-size: 2px; fill: rgb(255, 255, 255); fill-opacity: 1; white-space: pre;\">0.1251465</text></g><g class=\"heatmap-label\"><text text-anchor=\"middle\" data-notex=\"1\" x=\"258\" y=\"101.7\" style=\"font-family: 'Open Sans', verdana, arial, sans-serif; font-size: 2px; fill: rgb(255, 255, 255); fill-opacity: 1; white-space: pre;\">0.08097194</text></g><g class=\"heatmap-label\"><text text-anchor=\"middle\" data-notex=\"1\" x=\"281\" y=\"101.7\" style=\"font-family: 'Open Sans', verdana, arial, sans-serif; font-size: 2px; fill: rgb(255, 255, 255); fill-opacity: 1; white-space: pre;\">0.1436889</text></g><g class=\"heatmap-label\"><text text-anchor=\"middle\" data-notex=\"1\" x=\"303\" y=\"101.7\" style=\"font-family: 'Open Sans', verdana, arial, sans-serif; font-size: 2px; fill: rgb(255, 255, 255); fill-opacity: 1; white-space: pre;\">0.04910677</text></g><g class=\"heatmap-label\"><text text-anchor=\"middle\" data-notex=\"1\" x=\"326\" y=\"101.7\" style=\"font-family: 'Open Sans', verdana, arial, sans-serif; font-size: 2px; fill: rgb(255, 255, 255); fill-opacity: 1; white-space: pre;\">−0.3326131</text></g><g class=\"heatmap-label\"><text text-anchor=\"middle\" data-notex=\"1\" x=\"11\" y=\"124.7\" style=\"font-family: 'Open Sans', verdana, arial, sans-serif; font-size: 2px; fill: rgb(255, 255, 255); fill-opacity: 1; white-space: pre;\">−0.2639779</text></g><g class=\"heatmap-label\"><text text-anchor=\"middle\" data-notex=\"1\" x=\"34\" y=\"124.7\" style=\"font-family: 'Open Sans', verdana, arial, sans-serif; font-size: 2px; fill: rgb(255, 255, 255); fill-opacity: 1; white-space: pre;\">−0.06844145</text></g><g class=\"heatmap-label\"><text text-anchor=\"middle\" data-notex=\"1\" x=\"56\" y=\"124.7\" style=\"font-family: 'Open Sans', verdana, arial, sans-serif; font-size: 2px; fill: rgb(255, 255, 255); fill-opacity: 1; white-space: pre;\">0.02985117</text></g><g class=\"heatmap-label\"><text text-anchor=\"middle\" data-notex=\"1\" x=\"79\" y=\"124.7\" style=\"font-family: 'Open Sans', verdana, arial, sans-serif; font-size: 2px; fill: rgb(255, 255, 255); fill-opacity: 1; white-space: pre;\">−0.03741679</text></g><g class=\"heatmap-label\"><text text-anchor=\"middle\" data-notex=\"1\" x=\"101\" y=\"124.7\" style=\"font-family: 'Open Sans', verdana, arial, sans-serif; font-size: 2px; fill: rgb(255, 255, 255); fill-opacity: 1; white-space: pre;\">−0.06999196</text></g><g class=\"heatmap-label\"><text text-anchor=\"middle\" data-notex=\"1\" x=\"124\" y=\"124.7\" style=\"font-family: 'Open Sans', verdana, arial, sans-serif; font-size: 2px; fill: rgb(68, 68, 68); fill-opacity: 1; white-space: pre;\">1</text></g><g class=\"heatmap-label\"><text text-anchor=\"middle\" data-notex=\"1\" x=\"146\" y=\"124.7\" style=\"font-family: 'Open Sans', verdana, arial, sans-serif; font-size: 2px; fill: rgb(255, 255, 255); fill-opacity: 1; white-space: pre;\">−0.0171789</text></g><g class=\"heatmap-label\"><text text-anchor=\"middle\" data-notex=\"1\" x=\"169\" y=\"124.7\" style=\"font-family: 'Open Sans', verdana, arial, sans-serif; font-size: 2px; fill: rgb(255, 255, 255); fill-opacity: 1; white-space: pre;\">0.1878003</text></g><g class=\"heatmap-label\"><text text-anchor=\"middle\" data-notex=\"1\" x=\"191\" y=\"124.7\" style=\"font-family: 'Open Sans', verdana, arial, sans-serif; font-size: 2px; fill: rgb(255, 255, 255); fill-opacity: 1; white-space: pre;\">−0.07010353</text></g><g class=\"heatmap-label\"><text text-anchor=\"middle\" data-notex=\"1\" x=\"213\" y=\"124.7\" style=\"font-family: 'Open Sans', verdana, arial, sans-serif; font-size: 2px; fill: rgb(255, 255, 255); fill-opacity: 1; white-space: pre;\">−0.1274795</text></g><g class=\"heatmap-label\"><text text-anchor=\"middle\" data-notex=\"1\" x=\"236\" y=\"124.7\" style=\"font-family: 'Open Sans', verdana, arial, sans-serif; font-size: 2px; fill: rgb(255, 255, 255); fill-opacity: 1; white-space: pre;\">−0.04396935</text></g><g class=\"heatmap-label\"><text text-anchor=\"middle\" data-notex=\"1\" x=\"258\" y=\"124.7\" style=\"font-family: 'Open Sans', verdana, arial, sans-serif; font-size: 2px; fill: rgb(255, 255, 255); fill-opacity: 1; white-space: pre;\">−0.03387159</text></g><g class=\"heatmap-label\"><text text-anchor=\"middle\" data-notex=\"1\" x=\"281\" y=\"124.7\" style=\"font-family: 'Open Sans', verdana, arial, sans-serif; font-size: 2px; fill: rgb(255, 255, 255); fill-opacity: 1; white-space: pre;\">−0.1855671</text></g><g class=\"heatmap-label\"><text text-anchor=\"middle\" data-notex=\"1\" x=\"303\" y=\"124.7\" style=\"font-family: 'Open Sans', verdana, arial, sans-serif; font-size: 2px; fill: rgb(255, 255, 255); fill-opacity: 1; white-space: pre;\">−0.02137469</text></g><g class=\"heatmap-label\"><text text-anchor=\"middle\" data-notex=\"1\" x=\"326\" y=\"124.7\" style=\"font-family: 'Open Sans', verdana, arial, sans-serif; font-size: 2px; fill: rgb(255, 255, 255); fill-opacity: 1; white-space: pre;\">0.1990718</text></g><g class=\"heatmap-label\"><text text-anchor=\"middle\" data-notex=\"1\" x=\"11\" y=\"146.7\" style=\"font-family: 'Open Sans', verdana, arial, sans-serif; font-size: 2px; fill: rgb(255, 255, 255); fill-opacity: 1; white-space: pre;\">−0.0142594</text></g><g class=\"heatmap-label\"><text text-anchor=\"middle\" data-notex=\"1\" x=\"34\" y=\"146.7\" style=\"font-family: 'Open Sans', verdana, arial, sans-serif; font-size: 2px; fill: rgb(255, 255, 255); fill-opacity: 1; white-space: pre;\">0.2600047</text></g><g class=\"heatmap-label\"><text text-anchor=\"middle\" data-notex=\"1\" x=\"56\" y=\"146.7\" style=\"font-family: 'Open Sans', verdana, arial, sans-serif; font-size: 2px; fill: rgb(255, 255, 255); fill-opacity: 1; white-space: pre;\">860.4512μ</text></g><g class=\"heatmap-label\"><text text-anchor=\"middle\" data-notex=\"1\" x=\"79\" y=\"146.7\" style=\"font-family: 'Open Sans', verdana, arial, sans-serif; font-size: 2px; fill: rgb(255, 255, 255); fill-opacity: 1; white-space: pre;\">−0.02097173</text></g><g class=\"heatmap-label\"><text text-anchor=\"middle\" data-notex=\"1\" x=\"101\" y=\"146.7\" style=\"font-family: 'Open Sans', verdana, arial, sans-serif; font-size: 2px; fill: rgb(255, 255, 255); fill-opacity: 1; white-space: pre;\">0.1122654</text></g><g class=\"heatmap-label\"><text text-anchor=\"middle\" data-notex=\"1\" x=\"124\" y=\"146.7\" style=\"font-family: 'Open Sans', verdana, arial, sans-serif; font-size: 2px; fill: rgb(255, 255, 255); fill-opacity: 1; white-space: pre;\">−0.0171789</text></g><g class=\"heatmap-label\"><text text-anchor=\"middle\" data-notex=\"1\" x=\"146\" y=\"146.7\" style=\"font-family: 'Open Sans', verdana, arial, sans-serif; font-size: 2px; fill: rgb(68, 68, 68); fill-opacity: 1; white-space: pre;\">1</text></g><g class=\"heatmap-label\"><text text-anchor=\"middle\" data-notex=\"1\" x=\"169\" y=\"146.7\" style=\"font-family: 'Open Sans', verdana, arial, sans-serif; font-size: 2px; fill: rgb(255, 255, 255); fill-opacity: 1; white-space: pre;\">−0.0763556</text></g><g class=\"heatmap-label\"><text text-anchor=\"middle\" data-notex=\"1\" x=\"191\" y=\"146.7\" style=\"font-family: 'Open Sans', verdana, arial, sans-serif; font-size: 2px; fill: rgb(255, 255, 255); fill-opacity: 1; white-space: pre;\">0.005670736</text></g><g class=\"heatmap-label\"><text text-anchor=\"middle\" data-notex=\"1\" x=\"213\" y=\"146.7\" style=\"font-family: 'Open Sans', verdana, arial, sans-serif; font-size: 2px; fill: rgb(255, 255, 255); fill-opacity: 1; white-space: pre;\">0.07508061</text></g><g class=\"heatmap-label\"><text text-anchor=\"middle\" data-notex=\"1\" x=\"236\" y=\"146.7\" style=\"font-family: 'Open Sans', verdana, arial, sans-serif; font-size: 2px; fill: rgb(255, 255, 255); fill-opacity: 1; white-space: pre;\">0.02416253</text></g><g class=\"heatmap-label\"><text text-anchor=\"middle\" data-notex=\"1\" x=\"258\" y=\"146.7\" style=\"font-family: 'Open Sans', verdana, arial, sans-serif; font-size: 2px; fill: rgb(255, 255, 255); fill-opacity: 1; white-space: pre;\">0.01718006</text></g><g class=\"heatmap-label\"><text text-anchor=\"middle\" data-notex=\"1\" x=\"281\" y=\"146.7\" style=\"font-family: 'Open Sans', verdana, arial, sans-serif; font-size: 2px; fill: rgb(255, 255, 255); fill-opacity: 1; white-space: pre;\">0.07998639</text></g><g class=\"heatmap-label\"><text text-anchor=\"middle\" data-notex=\"1\" x=\"303\" y=\"146.7\" style=\"font-family: 'Open Sans', verdana, arial, sans-serif; font-size: 2px; fill: rgb(255, 255, 255); fill-opacity: 1; white-space: pre;\">−0.0134236</text></g><g class=\"heatmap-label\"><text text-anchor=\"middle\" data-notex=\"1\" x=\"326\" y=\"146.7\" style=\"font-family: 'Open Sans', verdana, arial, sans-serif; font-size: 2px; fill: rgb(255, 255, 255); fill-opacity: 1; white-space: pre;\">−0.07672172</text></g><g class=\"heatmap-label\"><text text-anchor=\"middle\" data-notex=\"1\" x=\"11\" y=\"169.7\" style=\"font-family: 'Open Sans', verdana, arial, sans-serif; font-size: 2px; fill: rgb(255, 255, 255); fill-opacity: 1; white-space: pre;\">−0.2633831</text></g><g class=\"heatmap-label\"><text text-anchor=\"middle\" data-notex=\"1\" x=\"34\" y=\"169.7\" style=\"font-family: 'Open Sans', verdana, arial, sans-serif; font-size: 2px; fill: rgb(255, 255, 255); fill-opacity: 1; white-space: pre;\">−0.0923646</text></g><g class=\"heatmap-label\"><text text-anchor=\"middle\" data-notex=\"1\" x=\"56\" y=\"169.7\" style=\"font-family: 'Open Sans', verdana, arial, sans-serif; font-size: 2px; fill: rgb(255, 255, 255); fill-opacity: 1; white-space: pre;\">0.009092094</text></g><g class=\"heatmap-label\"><text text-anchor=\"middle\" data-notex=\"1\" x=\"79\" y=\"169.7\" style=\"font-family: 'Open Sans', verdana, arial, sans-serif; font-size: 2px; fill: rgb(255, 255, 255); fill-opacity: 1; white-space: pre;\">−0.01075783</text></g><g class=\"heatmap-label\"><text text-anchor=\"middle\" data-notex=\"1\" x=\"101\" y=\"169.7\" style=\"font-family: 'Open Sans', verdana, arial, sans-serif; font-size: 2px; fill: rgb(255, 255, 255); fill-opacity: 1; white-space: pre;\">−0.09053417</text></g><g class=\"heatmap-label\"><text text-anchor=\"middle\" data-notex=\"1\" x=\"124\" y=\"169.7\" style=\"font-family: 'Open Sans', verdana, arial, sans-serif; font-size: 2px; fill: rgb(255, 255, 255); fill-opacity: 1; white-space: pre;\">0.1878003</text></g><g class=\"heatmap-label\"><text text-anchor=\"middle\" data-notex=\"1\" x=\"146\" y=\"169.7\" style=\"font-family: 'Open Sans', verdana, arial, sans-serif; font-size: 2px; fill: rgb(255, 255, 255); fill-opacity: 1; white-space: pre;\">−0.0763556</text></g><g class=\"heatmap-label\"><text text-anchor=\"middle\" data-notex=\"1\" x=\"169\" y=\"169.7\" style=\"font-family: 'Open Sans', verdana, arial, sans-serif; font-size: 2px; fill: rgb(68, 68, 68); fill-opacity: 1; white-space: pre;\">1</text></g><g class=\"heatmap-label\"><text text-anchor=\"middle\" data-notex=\"1\" x=\"191\" y=\"169.7\" style=\"font-family: 'Open Sans', verdana, arial, sans-serif; font-size: 2px; fill: rgb(255, 255, 255); fill-opacity: 1; white-space: pre;\">−0.117041</text></g><g class=\"heatmap-label\"><text text-anchor=\"middle\" data-notex=\"1\" x=\"213\" y=\"169.7\" style=\"font-family: 'Open Sans', verdana, arial, sans-serif; font-size: 2px; fill: rgb(255, 255, 255); fill-opacity: 1; white-space: pre;\">−0.5797969</text></g><g class=\"heatmap-label\"><text text-anchor=\"middle\" data-notex=\"1\" x=\"236\" y=\"169.7\" style=\"font-family: 'Open Sans', verdana, arial, sans-serif; font-size: 2px; fill: rgb(255, 255, 255); fill-opacity: 1; white-space: pre;\">−0.05651026</text></g><g class=\"heatmap-label\"><text text-anchor=\"middle\" data-notex=\"1\" x=\"258\" y=\"169.7\" style=\"font-family: 'Open Sans', verdana, arial, sans-serif; font-size: 2px; fill: rgb(255, 255, 255); fill-opacity: 1; white-space: pre;\">−0.0572008</text></g><g class=\"heatmap-label\"><text text-anchor=\"middle\" data-notex=\"1\" x=\"281\" y=\"169.7\" style=\"font-family: 'Open Sans', verdana, arial, sans-serif; font-size: 2px; fill: rgb(255, 255, 255); fill-opacity: 1; white-space: pre;\">−0.2504005</text></g><g class=\"heatmap-label\"><text text-anchor=\"middle\" data-notex=\"1\" x=\"303\" y=\"169.7\" style=\"font-family: 'Open Sans', verdana, arial, sans-serif; font-size: 2px; fill: rgb(255, 255, 255); fill-opacity: 1; white-space: pre;\">−0.003961513</text></g><g class=\"heatmap-label\"><text text-anchor=\"middle\" data-notex=\"1\" x=\"326\" y=\"169.7\" style=\"font-family: 'Open Sans', verdana, arial, sans-serif; font-size: 2px; fill: rgb(255, 255, 255); fill-opacity: 1; white-space: pre;\">0.2532136</text></g><g class=\"heatmap-label\"><text text-anchor=\"middle\" data-notex=\"1\" x=\"11\" y=\"191.7\" style=\"font-family: 'Open Sans', verdana, arial, sans-serif; font-size: 2px; fill: rgb(255, 255, 255); fill-opacity: 1; white-space: pre;\">0.02842083</text></g><g class=\"heatmap-label\"><text text-anchor=\"middle\" data-notex=\"1\" x=\"34\" y=\"191.7\" style=\"font-family: 'Open Sans', verdana, arial, sans-serif; font-size: 2px; fill: rgb(255, 255, 255); fill-opacity: 1; white-space: pre;\">0.05293245</text></g><g class=\"heatmap-label\"><text text-anchor=\"middle\" data-notex=\"1\" x=\"56\" y=\"191.7\" style=\"font-family: 'Open Sans', verdana, arial, sans-serif; font-size: 2px; fill: rgb(255, 255, 255); fill-opacity: 1; white-space: pre;\">−0.02706228</text></g><g class=\"heatmap-label\"><text text-anchor=\"middle\" data-notex=\"1\" x=\"79\" y=\"191.7\" style=\"font-family: 'Open Sans', verdana, arial, sans-serif; font-size: 2px; fill: rgb(255, 255, 255); fill-opacity: 1; white-space: pre;\">0.01324979</text></g><g class=\"heatmap-label\"><text text-anchor=\"middle\" data-notex=\"1\" x=\"101\" y=\"191.7\" style=\"font-family: 'Open Sans', verdana, arial, sans-serif; font-size: 2px; fill: rgb(255, 255, 255); fill-opacity: 1; white-space: pre;\">0.02923904</text></g><g class=\"heatmap-label\"><text text-anchor=\"middle\" data-notex=\"1\" x=\"124\" y=\"191.7\" style=\"font-family: 'Open Sans', verdana, arial, sans-serif; font-size: 2px; fill: rgb(255, 255, 255); fill-opacity: 1; white-space: pre;\">−0.07010353</text></g><g class=\"heatmap-label\"><text text-anchor=\"middle\" data-notex=\"1\" x=\"146\" y=\"191.7\" style=\"font-family: 'Open Sans', verdana, arial, sans-serif; font-size: 2px; fill: rgb(255, 255, 255); fill-opacity: 1; white-space: pre;\">0.005670736</text></g><g class=\"heatmap-label\"><text text-anchor=\"middle\" data-notex=\"1\" x=\"169\" y=\"191.7\" style=\"font-family: 'Open Sans', verdana, arial, sans-serif; font-size: 2px; fill: rgb(255, 255, 255); fill-opacity: 1; white-space: pre;\">−0.117041</text></g><g class=\"heatmap-label\"><text text-anchor=\"middle\" data-notex=\"1\" x=\"191\" y=\"191.7\" style=\"font-family: 'Open Sans', verdana, arial, sans-serif; font-size: 2px; fill: rgb(68, 68, 68); fill-opacity: 1; white-space: pre;\">1</text></g><g class=\"heatmap-label\"><text text-anchor=\"middle\" data-notex=\"1\" x=\"213\" y=\"191.7\" style=\"font-family: 'Open Sans', verdana, arial, sans-serif; font-size: 2px; fill: rgb(255, 255, 255); fill-opacity: 1; white-space: pre;\">0.08673414</text></g><g class=\"heatmap-label\"><text text-anchor=\"middle\" data-notex=\"1\" x=\"236\" y=\"191.7\" style=\"font-family: 'Open Sans', verdana, arial, sans-serif; font-size: 2px; fill: rgb(255, 255, 255); fill-opacity: 1; white-space: pre;\">0.01158062</text></g><g class=\"heatmap-label\"><text text-anchor=\"middle\" data-notex=\"1\" x=\"258\" y=\"191.7\" style=\"font-family: 'Open Sans', verdana, arial, sans-serif; font-size: 2px; fill: rgb(255, 255, 255); fill-opacity: 1; white-space: pre;\">0.01859466</text></g><g class=\"heatmap-label\"><text text-anchor=\"middle\" data-notex=\"1\" x=\"281\" y=\"191.7\" style=\"font-family: 'Open Sans', verdana, arial, sans-serif; font-size: 2px; fill: rgb(255, 255, 255); fill-opacity: 1; white-space: pre;\">0.03969356</text></g><g class=\"heatmap-label\"><text text-anchor=\"middle\" data-notex=\"1\" x=\"303\" y=\"191.7\" style=\"font-family: 'Open Sans', verdana, arial, sans-serif; font-size: 2px; fill: rgb(255, 255, 255); fill-opacity: 1; white-space: pre;\">0.1382314</text></g><g class=\"heatmap-label\"><text text-anchor=\"middle\" data-notex=\"1\" x=\"326\" y=\"191.7\" style=\"font-family: 'Open Sans', verdana, arial, sans-serif; font-size: 2px; fill: rgb(255, 255, 255); fill-opacity: 1; white-space: pre;\">−0.07093429</text></g><g class=\"heatmap-label\"><text text-anchor=\"middle\" data-notex=\"1\" x=\"11\" y=\"213.7\" style=\"font-family: 'Open Sans', verdana, arial, sans-serif; font-size: 2px; fill: rgb(255, 255, 255); fill-opacity: 1; white-space: pre;\">0.08812002</text></g><g class=\"heatmap-label\"><text text-anchor=\"middle\" data-notex=\"1\" x=\"34\" y=\"213.7\" style=\"font-family: 'Open Sans', verdana, arial, sans-serif; font-size: 2px; fill: rgb(255, 255, 255); fill-opacity: 1; white-space: pre;\">0.0912229</text></g><g class=\"heatmap-label\"><text text-anchor=\"middle\" data-notex=\"1\" x=\"56\" y=\"213.7\" style=\"font-family: 'Open Sans', verdana, arial, sans-serif; font-size: 2px; fill: rgb(255, 255, 255); fill-opacity: 1; white-space: pre;\">0.027739</text></g><g class=\"heatmap-label\"><text text-anchor=\"middle\" data-notex=\"1\" x=\"79\" y=\"213.7\" style=\"font-family: 'Open Sans', verdana, arial, sans-serif; font-size: 2px; fill: rgb(255, 255, 255); fill-opacity: 1; white-space: pre;\">−0.02704069</text></g><g class=\"heatmap-label\"><text text-anchor=\"middle\" data-notex=\"1\" x=\"101\" y=\"213.7\" style=\"font-family: 'Open Sans', verdana, arial, sans-serif; font-size: 2px; fill: rgb(255, 255, 255); fill-opacity: 1; white-space: pre;\">0.009328018</text></g><g class=\"heatmap-label\"><text text-anchor=\"middle\" data-notex=\"1\" x=\"124\" y=\"213.7\" style=\"font-family: 'Open Sans', verdana, arial, sans-serif; font-size: 2px; fill: rgb(255, 255, 255); fill-opacity: 1; white-space: pre;\">−0.1274795</text></g><g class=\"heatmap-label\"><text text-anchor=\"middle\" data-notex=\"1\" x=\"146\" y=\"213.7\" style=\"font-family: 'Open Sans', verdana, arial, sans-serif; font-size: 2px; fill: rgb(255, 255, 255); fill-opacity: 1; white-space: pre;\">0.07508061</text></g><g class=\"heatmap-label\"><text text-anchor=\"middle\" data-notex=\"1\" x=\"169\" y=\"213.7\" style=\"font-family: 'Open Sans', verdana, arial, sans-serif; font-size: 2px; fill: rgb(255, 255, 255); fill-opacity: 1; white-space: pre;\">−0.5797969</text></g><g class=\"heatmap-label\"><text text-anchor=\"middle\" data-notex=\"1\" x=\"191\" y=\"213.7\" style=\"font-family: 'Open Sans', verdana, arial, sans-serif; font-size: 2px; fill: rgb(255, 255, 255); fill-opacity: 1; white-space: pre;\">0.08673414</text></g><g class=\"heatmap-label\"><text text-anchor=\"middle\" data-notex=\"1\" x=\"213\" y=\"213.7\" style=\"font-family: 'Open Sans', verdana, arial, sans-serif; font-size: 2px; fill: rgb(68, 68, 68); fill-opacity: 1; white-space: pre;\">1</text></g><g class=\"heatmap-label\"><text text-anchor=\"middle\" data-notex=\"1\" x=\"236\" y=\"213.7\" style=\"font-family: 'Open Sans', verdana, arial, sans-serif; font-size: 2px; fill: rgb(255, 255, 255); fill-opacity: 1; white-space: pre;\">0.04709405</text></g><g class=\"heatmap-label\"><text text-anchor=\"middle\" data-notex=\"1\" x=\"258\" y=\"213.7\" style=\"font-family: 'Open Sans', verdana, arial, sans-serif; font-size: 2px; fill: rgb(255, 255, 255); fill-opacity: 1; white-space: pre;\">0.04548042</text></g><g class=\"heatmap-label\"><text text-anchor=\"middle\" data-notex=\"1\" x=\"281\" y=\"213.7\" style=\"font-family: 'Open Sans', verdana, arial, sans-serif; font-size: 2px; fill: rgb(255, 255, 255); fill-opacity: 1; white-space: pre;\">0.2285598</text></g><g class=\"heatmap-label\"><text text-anchor=\"middle\" data-notex=\"1\" x=\"303\" y=\"213.7\" style=\"font-family: 'Open Sans', verdana, arial, sans-serif; font-size: 2px; fill: rgb(255, 255, 255); fill-opacity: 1; white-space: pre;\">−0.00978013</text></g><g class=\"heatmap-label\"><text text-anchor=\"middle\" data-notex=\"1\" x=\"326\" y=\"213.7\" style=\"font-family: 'Open Sans', verdana, arial, sans-serif; font-size: 2px; fill: rgb(255, 255, 255); fill-opacity: 1; white-space: pre;\">−0.214628</text></g><g class=\"heatmap-label\"><text text-anchor=\"middle\" data-notex=\"1\" x=\"11\" y=\"236.7\" style=\"font-family: 'Open Sans', verdana, arial, sans-serif; font-size: 2px; fill: rgb(255, 255, 255); fill-opacity: 1; white-space: pre;\">0.07722902</text></g><g class=\"heatmap-label\"><text text-anchor=\"middle\" data-notex=\"1\" x=\"34\" y=\"236.7\" style=\"font-family: 'Open Sans', verdana, arial, sans-serif; font-size: 2px; fill: rgb(255, 255, 255); fill-opacity: 1; white-space: pre;\">0.03604411</text></g><g class=\"heatmap-label\"><text text-anchor=\"middle\" data-notex=\"1\" x=\"56\" y=\"236.7\" style=\"font-family: 'Open Sans', verdana, arial, sans-serif; font-size: 2px; fill: rgb(255, 255, 255); fill-opacity: 1; white-space: pre;\">−0.003706389</text></g><g class=\"heatmap-label\"><text text-anchor=\"middle\" data-notex=\"1\" x=\"79\" y=\"236.7\" style=\"font-family: 'Open Sans', verdana, arial, sans-serif; font-size: 2px; fill: rgb(255, 255, 255); fill-opacity: 1; white-space: pre;\">0.02892751</text></g><g class=\"heatmap-label\"><text text-anchor=\"middle\" data-notex=\"1\" x=\"101\" y=\"236.7\" style=\"font-family: 'Open Sans', verdana, arial, sans-serif; font-size: 2px; fill: rgb(255, 255, 255); fill-opacity: 1; white-space: pre;\">0.1251465</text></g><g class=\"heatmap-label\"><text text-anchor=\"middle\" data-notex=\"1\" x=\"124\" y=\"236.7\" style=\"font-family: 'Open Sans', verdana, arial, sans-serif; font-size: 2px; fill: rgb(255, 255, 255); fill-opacity: 1; white-space: pre;\">−0.04396935</text></g><g class=\"heatmap-label\"><text text-anchor=\"middle\" data-notex=\"1\" x=\"146\" y=\"236.7\" style=\"font-family: 'Open Sans', verdana, arial, sans-serif; font-size: 2px; fill: rgb(255, 255, 255); fill-opacity: 1; white-space: pre;\">0.02416253</text></g><g class=\"heatmap-label\"><text text-anchor=\"middle\" data-notex=\"1\" x=\"169\" y=\"236.7\" style=\"font-family: 'Open Sans', verdana, arial, sans-serif; font-size: 2px; fill: rgb(255, 255, 255); fill-opacity: 1; white-space: pre;\">−0.05651026</text></g><g class=\"heatmap-label\"><text text-anchor=\"middle\" data-notex=\"1\" x=\"191\" y=\"236.7\" style=\"font-family: 'Open Sans', verdana, arial, sans-serif; font-size: 2px; fill: rgb(255, 255, 255); fill-opacity: 1; white-space: pre;\">0.01158062</text></g><g class=\"heatmap-label\"><text text-anchor=\"middle\" data-notex=\"1\" x=\"213\" y=\"236.7\" style=\"font-family: 'Open Sans', verdana, arial, sans-serif; font-size: 2px; fill: rgb(255, 255, 255); fill-opacity: 1; white-space: pre;\">0.04709405</text></g><g class=\"heatmap-label\"><text text-anchor=\"middle\" data-notex=\"1\" x=\"236\" y=\"236.7\" style=\"font-family: 'Open Sans', verdana, arial, sans-serif; font-size: 2px; fill: rgb(68, 68, 68); fill-opacity: 1; white-space: pre;\">1</text></g><g class=\"heatmap-label\"><text text-anchor=\"middle\" data-notex=\"1\" x=\"258\" y=\"236.7\" style=\"font-family: 'Open Sans', verdana, arial, sans-serif; font-size: 2px; fill: rgb(255, 255, 255); fill-opacity: 1; white-space: pre;\">−0.03144077</text></g><g class=\"heatmap-label\"><text text-anchor=\"middle\" data-notex=\"1\" x=\"281\" y=\"236.7\" style=\"font-family: 'Open Sans', verdana, arial, sans-serif; font-size: 2px; fill: rgb(255, 255, 255); fill-opacity: 1; white-space: pre;\">0.08215728</text></g><g class=\"heatmap-label\"><text text-anchor=\"middle\" data-notex=\"1\" x=\"303\" y=\"236.7\" style=\"font-family: 'Open Sans', verdana, arial, sans-serif; font-size: 2px; fill: rgb(255, 255, 255); fill-opacity: 1; white-space: pre;\">−0.001815807</text></g><g class=\"heatmap-label\"><text text-anchor=\"middle\" data-notex=\"1\" x=\"326\" y=\"236.7\" style=\"font-family: 'Open Sans', verdana, arial, sans-serif; font-size: 2px; fill: rgb(255, 255, 255); fill-opacity: 1; white-space: pre;\">−0.223013</text></g><g class=\"heatmap-label\"><text text-anchor=\"middle\" data-notex=\"1\" x=\"11\" y=\"258.7\" style=\"font-family: 'Open Sans', verdana, arial, sans-serif; font-size: 2px; fill: rgb(255, 255, 255); fill-opacity: 1; white-space: pre;\">0.05694383</text></g><g class=\"heatmap-label\"><text text-anchor=\"middle\" data-notex=\"1\" x=\"34\" y=\"258.7\" style=\"font-family: 'Open Sans', verdana, arial, sans-serif; font-size: 2px; fill: rgb(255, 255, 255); fill-opacity: 1; white-space: pre;\">0.0108799</text></g><g class=\"heatmap-label\"><text text-anchor=\"middle\" data-notex=\"1\" x=\"56\" y=\"258.7\" style=\"font-family: 'Open Sans', verdana, arial, sans-serif; font-size: 2px; fill: rgb(255, 255, 255); fill-opacity: 1; white-space: pre;\">−0.00436615</text></g><g class=\"heatmap-label\"><text text-anchor=\"middle\" data-notex=\"1\" x=\"79\" y=\"258.7\" style=\"font-family: 'Open Sans', verdana, arial, sans-serif; font-size: 2px; fill: rgb(255, 255, 255); fill-opacity: 1; white-space: pre;\">0.01763837</text></g><g class=\"heatmap-label\"><text text-anchor=\"middle\" data-notex=\"1\" x=\"101\" y=\"258.7\" style=\"font-family: 'Open Sans', verdana, arial, sans-serif; font-size: 2px; fill: rgb(255, 255, 255); fill-opacity: 1; white-space: pre;\">0.08097194</text></g><g class=\"heatmap-label\"><text text-anchor=\"middle\" data-notex=\"1\" x=\"124\" y=\"258.7\" style=\"font-family: 'Open Sans', verdana, arial, sans-serif; font-size: 2px; fill: rgb(255, 255, 255); fill-opacity: 1; white-space: pre;\">−0.03387159</text></g><g class=\"heatmap-label\"><text text-anchor=\"middle\" data-notex=\"1\" x=\"146\" y=\"258.7\" style=\"font-family: 'Open Sans', verdana, arial, sans-serif; font-size: 2px; fill: rgb(255, 255, 255); fill-opacity: 1; white-space: pre;\">0.01718006</text></g><g class=\"heatmap-label\"><text text-anchor=\"middle\" data-notex=\"1\" x=\"169\" y=\"258.7\" style=\"font-family: 'Open Sans', verdana, arial, sans-serif; font-size: 2px; fill: rgb(255, 255, 255); fill-opacity: 1; white-space: pre;\">−0.0572008</text></g><g class=\"heatmap-label\"><text text-anchor=\"middle\" data-notex=\"1\" x=\"191\" y=\"258.7\" style=\"font-family: 'Open Sans', verdana, arial, sans-serif; font-size: 2px; fill: rgb(255, 255, 255); fill-opacity: 1; white-space: pre;\">0.01859466</text></g><g class=\"heatmap-label\"><text text-anchor=\"middle\" data-notex=\"1\" x=\"213\" y=\"258.7\" style=\"font-family: 'Open Sans', verdana, arial, sans-serif; font-size: 2px; fill: rgb(255, 255, 255); fill-opacity: 1; white-space: pre;\">0.04548042</text></g><g class=\"heatmap-label\"><text text-anchor=\"middle\" data-notex=\"1\" x=\"236\" y=\"258.7\" style=\"font-family: 'Open Sans', verdana, arial, sans-serif; font-size: 2px; fill: rgb(255, 255, 255); fill-opacity: 1; white-space: pre;\">−0.03144077</text></g><g class=\"heatmap-label\"><text text-anchor=\"middle\" data-notex=\"1\" x=\"258\" y=\"258.7\" style=\"font-family: 'Open Sans', verdana, arial, sans-serif; font-size: 2px; fill: rgb(68, 68, 68); fill-opacity: 1; white-space: pre;\">1</text></g><g class=\"heatmap-label\"><text text-anchor=\"middle\" data-notex=\"1\" x=\"281\" y=\"258.7\" style=\"font-family: 'Open Sans', verdana, arial, sans-serif; font-size: 2px; fill: rgb(255, 255, 255); fill-opacity: 1; white-space: pre;\">0.05446722</text></g><g class=\"heatmap-label\"><text text-anchor=\"middle\" data-notex=\"1\" x=\"303\" y=\"258.7\" style=\"font-family: 'Open Sans', verdana, arial, sans-serif; font-size: 2px; fill: rgb(255, 255, 255); fill-opacity: 1; white-space: pre;\">0.003449224</text></g><g class=\"heatmap-label\"><text text-anchor=\"middle\" data-notex=\"1\" x=\"326\" y=\"258.7\" style=\"font-family: 'Open Sans', verdana, arial, sans-serif; font-size: 2px; fill: rgb(255, 255, 255); fill-opacity: 1; white-space: pre;\">−0.1475545</text></g><g class=\"heatmap-label\"><text text-anchor=\"middle\" data-notex=\"1\" x=\"11\" y=\"281.7\" style=\"font-family: 'Open Sans', verdana, arial, sans-serif; font-size: 2px; fill: rgb(255, 255, 255); fill-opacity: 1; white-space: pre;\">0.07155834</text></g><g class=\"heatmap-label\"><text text-anchor=\"middle\" data-notex=\"1\" x=\"34\" y=\"281.7\" style=\"font-family: 'Open Sans', verdana, arial, sans-serif; font-size: 2px; fill: rgb(255, 255, 255); fill-opacity: 1; white-space: pre;\">0.1412831</text></g><g class=\"heatmap-label\"><text text-anchor=\"middle\" data-notex=\"1\" x=\"56\" y=\"281.7\" style=\"font-family: 'Open Sans', verdana, arial, sans-serif; font-size: 2px; fill: rgb(255, 255, 255); fill-opacity: 1; white-space: pre;\">−0.01351871</text></g><g class=\"heatmap-label\"><text text-anchor=\"middle\" data-notex=\"1\" x=\"79\" y=\"281.7\" style=\"font-family: 'Open Sans', verdana, arial, sans-serif; font-size: 2px; fill: rgb(255, 255, 255); fill-opacity: 1; white-space: pre;\">0.05765868</text></g><g class=\"heatmap-label\"><text text-anchor=\"middle\" data-notex=\"1\" x=\"101\" y=\"281.7\" style=\"font-family: 'Open Sans', verdana, arial, sans-serif; font-size: 2px; fill: rgb(255, 255, 255); fill-opacity: 1; white-space: pre;\">0.1436889</text></g><g class=\"heatmap-label\"><text text-anchor=\"middle\" data-notex=\"1\" x=\"124\" y=\"281.7\" style=\"font-family: 'Open Sans', verdana, arial, sans-serif; font-size: 2px; fill: rgb(255, 255, 255); fill-opacity: 1; white-space: pre;\">−0.1855671</text></g><g class=\"heatmap-label\"><text text-anchor=\"middle\" data-notex=\"1\" x=\"146\" y=\"281.7\" style=\"font-family: 'Open Sans', verdana, arial, sans-serif; font-size: 2px; fill: rgb(255, 255, 255); fill-opacity: 1; white-space: pre;\">0.07998639</text></g><g class=\"heatmap-label\"><text text-anchor=\"middle\" data-notex=\"1\" x=\"169\" y=\"281.7\" style=\"font-family: 'Open Sans', verdana, arial, sans-serif; font-size: 2px; fill: rgb(255, 255, 255); fill-opacity: 1; white-space: pre;\">−0.2504005</text></g><g class=\"heatmap-label\"><text text-anchor=\"middle\" data-notex=\"1\" x=\"191\" y=\"281.7\" style=\"font-family: 'Open Sans', verdana, arial, sans-serif; font-size: 2px; fill: rgb(255, 255, 255); fill-opacity: 1; white-space: pre;\">0.03969356</text></g><g class=\"heatmap-label\"><text text-anchor=\"middle\" data-notex=\"1\" x=\"213\" y=\"281.7\" style=\"font-family: 'Open Sans', verdana, arial, sans-serif; font-size: 2px; fill: rgb(255, 255, 255); fill-opacity: 1; white-space: pre;\">0.2285598</text></g><g class=\"heatmap-label\"><text text-anchor=\"middle\" data-notex=\"1\" x=\"236\" y=\"281.7\" style=\"font-family: 'Open Sans', verdana, arial, sans-serif; font-size: 2px; fill: rgb(255, 255, 255); fill-opacity: 1; white-space: pre;\">0.08215728</text></g><g class=\"heatmap-label\"><text text-anchor=\"middle\" data-notex=\"1\" x=\"258\" y=\"281.7\" style=\"font-family: 'Open Sans', verdana, arial, sans-serif; font-size: 2px; fill: rgb(255, 255, 255); fill-opacity: 1; white-space: pre;\">0.05446722</text></g><g class=\"heatmap-label\"><text text-anchor=\"middle\" data-notex=\"1\" x=\"281\" y=\"281.7\" style=\"font-family: 'Open Sans', verdana, arial, sans-serif; font-size: 2px; fill: rgb(68, 68, 68); fill-opacity: 1; white-space: pre;\">1</text></g><g class=\"heatmap-label\"><text text-anchor=\"middle\" data-notex=\"1\" x=\"303\" y=\"281.7\" style=\"font-family: 'Open Sans', verdana, arial, sans-serif; font-size: 2px; fill: rgb(255, 255, 255); fill-opacity: 1; white-space: pre;\">704.8455μ</text></g><g class=\"heatmap-label\"><text text-anchor=\"middle\" data-notex=\"1\" x=\"326\" y=\"281.7\" style=\"font-family: 'Open Sans', verdana, arial, sans-serif; font-size: 2px; fill: rgb(255, 255, 255); fill-opacity: 1; white-space: pre;\">−0.2276868</text></g><g class=\"heatmap-label\"><text text-anchor=\"middle\" data-notex=\"1\" x=\"11\" y=\"303.7\" style=\"font-family: 'Open Sans', verdana, arial, sans-serif; font-size: 2px; fill: rgb(255, 255, 255); fill-opacity: 1; white-space: pre;\">−0.002861005</text></g><g class=\"heatmap-label\"><text text-anchor=\"middle\" data-notex=\"1\" x=\"34\" y=\"303.7\" style=\"font-family: 'Open Sans', verdana, arial, sans-serif; font-size: 2px; fill: rgb(255, 255, 255); fill-opacity: 1; white-space: pre;\">−0.008630652</text></g><g class=\"heatmap-label\"><text text-anchor=\"middle\" data-notex=\"1\" x=\"56\" y=\"303.7\" style=\"font-family: 'Open Sans', verdana, arial, sans-serif; font-size: 2px; fill: rgb(255, 255, 255); fill-opacity: 1; white-space: pre;\">−0.04867973</text></g><g class=\"heatmap-label\"><text text-anchor=\"middle\" data-notex=\"1\" x=\"79\" y=\"303.7\" style=\"font-family: 'Open Sans', verdana, arial, sans-serif; font-size: 2px; fill: rgb(255, 255, 255); fill-opacity: 1; white-space: pre;\">0.06146887</text></g><g class=\"heatmap-label\"><text text-anchor=\"middle\" data-notex=\"1\" x=\"101\" y=\"303.7\" style=\"font-family: 'Open Sans', verdana, arial, sans-serif; font-size: 2px; fill: rgb(255, 255, 255); fill-opacity: 1; white-space: pre;\">0.04910677</text></g><g class=\"heatmap-label\"><text text-anchor=\"middle\" data-notex=\"1\" x=\"124\" y=\"303.7\" style=\"font-family: 'Open Sans', verdana, arial, sans-serif; font-size: 2px; fill: rgb(255, 255, 255); fill-opacity: 1; white-space: pre;\">−0.02137469</text></g><g class=\"heatmap-label\"><text text-anchor=\"middle\" data-notex=\"1\" x=\"146\" y=\"303.7\" style=\"font-family: 'Open Sans', verdana, arial, sans-serif; font-size: 2px; fill: rgb(255, 255, 255); fill-opacity: 1; white-space: pre;\">−0.0134236</text></g><g class=\"heatmap-label\"><text text-anchor=\"middle\" data-notex=\"1\" x=\"169\" y=\"303.7\" style=\"font-family: 'Open Sans', verdana, arial, sans-serif; font-size: 2px; fill: rgb(255, 255, 255); fill-opacity: 1; white-space: pre;\">−0.003961513</text></g><g class=\"heatmap-label\"><text text-anchor=\"middle\" data-notex=\"1\" x=\"191\" y=\"303.7\" style=\"font-family: 'Open Sans', verdana, arial, sans-serif; font-size: 2px; fill: rgb(255, 255, 255); fill-opacity: 1; white-space: pre;\">0.1382314</text></g><g class=\"heatmap-label\"><text text-anchor=\"middle\" data-notex=\"1\" x=\"213\" y=\"303.7\" style=\"font-family: 'Open Sans', verdana, arial, sans-serif; font-size: 2px; fill: rgb(255, 255, 255); fill-opacity: 1; white-space: pre;\">−0.00978013</text></g><g class=\"heatmap-label\"><text text-anchor=\"middle\" data-notex=\"1\" x=\"236\" y=\"303.7\" style=\"font-family: 'Open Sans', verdana, arial, sans-serif; font-size: 2px; fill: rgb(255, 255, 255); fill-opacity: 1; white-space: pre;\">−0.001815807</text></g><g class=\"heatmap-label\"><text text-anchor=\"middle\" data-notex=\"1\" x=\"258\" y=\"303.7\" style=\"font-family: 'Open Sans', verdana, arial, sans-serif; font-size: 2px; fill: rgb(255, 255, 255); fill-opacity: 1; white-space: pre;\">0.003449224</text></g><g class=\"heatmap-label\"><text text-anchor=\"middle\" data-notex=\"1\" x=\"281\" y=\"303.7\" style=\"font-family: 'Open Sans', verdana, arial, sans-serif; font-size: 2px; fill: rgb(255, 255, 255); fill-opacity: 1; white-space: pre;\">704.8455μ</text></g><g class=\"heatmap-label\"><text text-anchor=\"middle\" data-notex=\"1\" x=\"303\" y=\"303.7\" style=\"font-family: 'Open Sans', verdana, arial, sans-serif; font-size: 2px; fill: rgb(68, 68, 68); fill-opacity: 1; white-space: pre;\">1</text></g><g class=\"heatmap-label\"><text text-anchor=\"middle\" data-notex=\"1\" x=\"326\" y=\"303.7\" style=\"font-family: 'Open Sans', verdana, arial, sans-serif; font-size: 2px; fill: rgb(255, 255, 255); fill-opacity: 1; white-space: pre;\">−0.01220996</text></g><g class=\"heatmap-label\"><text text-anchor=\"middle\" data-notex=\"1\" x=\"11\" y=\"326.7\" style=\"font-family: 'Open Sans', verdana, arial, sans-serif; font-size: 2px; fill: rgb(255, 255, 255); fill-opacity: 1; white-space: pre;\">−0.2303695</text></g><g class=\"heatmap-label\"><text text-anchor=\"middle\" data-notex=\"1\" x=\"34\" y=\"326.7\" style=\"font-family: 'Open Sans', verdana, arial, sans-serif; font-size: 2px; fill: rgb(255, 255, 255); fill-opacity: 1; white-space: pre;\">−0.05267409</text></g><g class=\"heatmap-label\"><text text-anchor=\"middle\" data-notex=\"1\" x=\"56\" y=\"326.7\" style=\"font-family: 'Open Sans', verdana, arial, sans-serif; font-size: 2px; fill: rgb(255, 255, 255); fill-opacity: 1; white-space: pre;\">0.00633886</text></g><g class=\"heatmap-label\"><text text-anchor=\"middle\" data-notex=\"1\" x=\"79\" y=\"326.7\" style=\"font-family: 'Open Sans', verdana, arial, sans-serif; font-size: 2px; fill: rgb(255, 255, 255); fill-opacity: 1; white-space: pre;\">−0.08009053</text></g><g class=\"heatmap-label\"><text text-anchor=\"middle\" data-notex=\"1\" x=\"101\" y=\"326.7\" style=\"font-family: 'Open Sans', verdana, arial, sans-serif; font-size: 2px; fill: rgb(255, 255, 255); fill-opacity: 1; white-space: pre;\">−0.3326131</text></g><g class=\"heatmap-label\"><text text-anchor=\"middle\" data-notex=\"1\" x=\"124\" y=\"326.7\" style=\"font-family: 'Open Sans', verdana, arial, sans-serif; font-size: 2px; fill: rgb(255, 255, 255); fill-opacity: 1; white-space: pre;\">0.1990718</text></g><g class=\"heatmap-label\"><text text-anchor=\"middle\" data-notex=\"1\" x=\"146\" y=\"326.7\" style=\"font-family: 'Open Sans', verdana, arial, sans-serif; font-size: 2px; fill: rgb(255, 255, 255); fill-opacity: 1; white-space: pre;\">−0.07672172</text></g><g class=\"heatmap-label\"><text text-anchor=\"middle\" data-notex=\"1\" x=\"169\" y=\"326.7\" style=\"font-family: 'Open Sans', verdana, arial, sans-serif; font-size: 2px; fill: rgb(255, 255, 255); fill-opacity: 1; white-space: pre;\">0.2532136</text></g><g class=\"heatmap-label\"><text text-anchor=\"middle\" data-notex=\"1\" x=\"191\" y=\"326.7\" style=\"font-family: 'Open Sans', verdana, arial, sans-serif; font-size: 2px; fill: rgb(255, 255, 255); fill-opacity: 1; white-space: pre;\">−0.07093429</text></g><g class=\"heatmap-label\"><text text-anchor=\"middle\" data-notex=\"1\" x=\"213\" y=\"326.7\" style=\"font-family: 'Open Sans', verdana, arial, sans-serif; font-size: 2px; fill: rgb(255, 255, 255); fill-opacity: 1; white-space: pre;\">−0.214628</text></g><g class=\"heatmap-label\"><text text-anchor=\"middle\" data-notex=\"1\" x=\"236\" y=\"326.7\" style=\"font-family: 'Open Sans', verdana, arial, sans-serif; font-size: 2px; fill: rgb(255, 255, 255); fill-opacity: 1; white-space: pre;\">−0.223013</text></g><g class=\"heatmap-label\"><text text-anchor=\"middle\" data-notex=\"1\" x=\"258\" y=\"326.7\" style=\"font-family: 'Open Sans', verdana, arial, sans-serif; font-size: 2px; fill: rgb(255, 255, 255); fill-opacity: 1; white-space: pre;\">−0.1475545</text></g><g class=\"heatmap-label\"><text text-anchor=\"middle\" data-notex=\"1\" x=\"281\" y=\"326.7\" style=\"font-family: 'Open Sans', verdana, arial, sans-serif; font-size: 2px; fill: rgb(255, 255, 255); fill-opacity: 1; white-space: pre;\">−0.2276868</text></g><g class=\"heatmap-label\"><text text-anchor=\"middle\" data-notex=\"1\" x=\"303\" y=\"326.7\" style=\"font-family: 'Open Sans', verdana, arial, sans-serif; font-size: 2px; fill: rgb(255, 255, 255); fill-opacity: 1; white-space: pre;\">−0.01220996</text></g><g class=\"heatmap-label\"><text text-anchor=\"middle\" data-notex=\"1\" x=\"326\" y=\"326.7\" style=\"font-family: 'Open Sans', verdana, arial, sans-serif; font-size: 2px; fill: rgb(68, 68, 68); fill-opacity: 1; white-space: pre;\">1</text></g></g></g></g></g><path class=\"xlines-above crisp\" d=\"M0,0\" style=\"fill: none;\"/><path class=\"ylines-above crisp\" d=\"M0,0\" style=\"fill: none;\"/><g class=\"overlines-above\"/><g class=\"xaxislayer-above\"><g class=\"xtick\"><text text-anchor=\"start\" x=\"0\" y=\"410\" transform=\"translate(184.73,0) rotate(90,0,404)\" style=\"font-family: 'Open Sans', verdana, arial, sans-serif; font-size: 12px; fill: rgb(42, 63, 95); fill-opacity: 1; white-space: pre; opacity: 1;\">age</text></g><g class=\"xtick\"><text text-anchor=\"start\" x=\"0\" y=\"410\" transform=\"translate(207.2,0) rotate(90,0,404)\" style=\"font-family: 'Open Sans', verdana, arial, sans-serif; font-size: 12px; fill: rgb(42, 63, 95); fill-opacity: 1; white-space: pre; opacity: 1;\">workclass</text></g><g class=\"xtick\"><text text-anchor=\"start\" x=\"0\" y=\"410\" transform=\"translate(229.67000000000002,0) rotate(90,0,404)\" style=\"font-family: 'Open Sans', verdana, arial, sans-serif; font-size: 12px; fill: rgb(42, 63, 95); fill-opacity: 1; white-space: pre; opacity: 1;\">fnlwgt</text></g><g class=\"xtick\"><text text-anchor=\"start\" x=\"0\" y=\"410\" transform=\"translate(252.13,0) rotate(90,0,404)\" style=\"font-family: 'Open Sans', verdana, arial, sans-serif; font-size: 12px; fill: rgb(42, 63, 95); fill-opacity: 1; white-space: pre; opacity: 1;\">education</text></g><g class=\"xtick\"><text text-anchor=\"start\" x=\"0\" y=\"410\" transform=\"translate(274.6,0) rotate(90,0,404)\" style=\"font-family: 'Open Sans', verdana, arial, sans-serif; font-size: 12px; fill: rgb(42, 63, 95); fill-opacity: 1; white-space: pre; opacity: 1;\">education-num</text></g><g class=\"xtick\"><text text-anchor=\"start\" x=\"0\" y=\"410\" transform=\"translate(297.07,0) rotate(90,0,404)\" style=\"font-family: 'Open Sans', verdana, arial, sans-serif; font-size: 12px; fill: rgb(42, 63, 95); fill-opacity: 1; white-space: pre; opacity: 1;\">marital-status</text></g><g class=\"xtick\"><text text-anchor=\"start\" x=\"0\" y=\"410\" transform=\"translate(319.53,0) rotate(90,0,404)\" style=\"font-family: 'Open Sans', verdana, arial, sans-serif; font-size: 12px; fill: rgb(42, 63, 95); fill-opacity: 1; white-space: pre; opacity: 1;\">occupation</text></g><g class=\"xtick\"><text text-anchor=\"start\" x=\"0\" y=\"410\" transform=\"translate(342,0) rotate(90,0,404)\" style=\"font-family: 'Open Sans', verdana, arial, sans-serif; font-size: 12px; fill: rgb(42, 63, 95); fill-opacity: 1; white-space: pre; opacity: 1;\">relationship</text></g><g class=\"xtick\"><text text-anchor=\"start\" x=\"0\" y=\"410\" transform=\"translate(364.47,0) rotate(90,0,404)\" style=\"font-family: 'Open Sans', verdana, arial, sans-serif; font-size: 12px; fill: rgb(42, 63, 95); fill-opacity: 1; white-space: pre; opacity: 1;\">race</text></g><g class=\"xtick\"><text text-anchor=\"start\" x=\"0\" y=\"410\" transform=\"translate(386.93,0) rotate(90,0,404)\" style=\"font-family: 'Open Sans', verdana, arial, sans-serif; font-size: 12px; fill: rgb(42, 63, 95); fill-opacity: 1; white-space: pre; opacity: 1;\">sex</text></g><g class=\"xtick\"><text text-anchor=\"start\" x=\"0\" y=\"410\" transform=\"translate(409.4,0) rotate(90,0,404)\" style=\"font-family: 'Open Sans', verdana, arial, sans-serif; font-size: 12px; fill: rgb(42, 63, 95); fill-opacity: 1; white-space: pre; opacity: 1;\">capital-gain</text></g><g class=\"xtick\"><text text-anchor=\"start\" x=\"0\" y=\"410\" transform=\"translate(431.87,0) rotate(90,0,404)\" style=\"font-family: 'Open Sans', verdana, arial, sans-serif; font-size: 12px; fill: rgb(42, 63, 95); fill-opacity: 1; white-space: pre; opacity: 1;\">capital-loss</text></g><g class=\"xtick\"><text text-anchor=\"start\" x=\"0\" y=\"410\" transform=\"translate(454.33,0) rotate(90,0,404)\" style=\"font-family: 'Open Sans', verdana, arial, sans-serif; font-size: 12px; fill: rgb(42, 63, 95); fill-opacity: 1; white-space: pre; opacity: 1;\">hours-per-week</text></g><g class=\"xtick\"><text text-anchor=\"start\" x=\"0\" y=\"410\" transform=\"translate(476.8,0) rotate(90,0,404)\" style=\"font-family: 'Open Sans', verdana, arial, sans-serif; font-size: 12px; fill: rgb(42, 63, 95); fill-opacity: 1; white-space: pre; opacity: 1;\">native-country</text></g><g class=\"xtick\"><text text-anchor=\"start\" x=\"0\" y=\"410\" transform=\"translate(499.27,0) rotate(90,0,404)\" style=\"font-family: 'Open Sans', verdana, arial, sans-serif; font-size: 12px; fill: rgb(42, 63, 95); fill-opacity: 1; white-space: pre; opacity: 1;\">target</text></g></g><g class=\"yaxislayer-above\"><g class=\"ytick\"><text text-anchor=\"end\" x=\"172.5\" y=\"4.199999999999999\" transform=\"translate(0,385.77)\" style=\"font-family: 'Open Sans', verdana, arial, sans-serif; font-size: 12px; fill: rgb(42, 63, 95); fill-opacity: 1; white-space: pre; opacity: 1;\">target</text></g><g class=\"ytick\"><text text-anchor=\"end\" x=\"172.5\" y=\"4.199999999999999\" transform=\"translate(0,363.3)\" style=\"font-family: 'Open Sans', verdana, arial, sans-serif; font-size: 12px; fill: rgb(42, 63, 95); fill-opacity: 1; white-space: pre; opacity: 1;\">native-country</text></g><g class=\"ytick\"><text text-anchor=\"end\" x=\"172.5\" y=\"4.199999999999999\" transform=\"translate(0,340.83)\" style=\"font-family: 'Open Sans', verdana, arial, sans-serif; font-size: 12px; fill: rgb(42, 63, 95); fill-opacity: 1; white-space: pre; opacity: 1;\">hours-per-week</text></g><g class=\"ytick\"><text text-anchor=\"end\" x=\"172.5\" y=\"4.199999999999999\" transform=\"translate(0,318.37)\" style=\"font-family: 'Open Sans', verdana, arial, sans-serif; font-size: 12px; fill: rgb(42, 63, 95); fill-opacity: 1; white-space: pre; opacity: 1;\">capital-loss</text></g><g class=\"ytick\"><text text-anchor=\"end\" x=\"172.5\" y=\"4.199999999999999\" transform=\"translate(0,295.9)\" style=\"font-family: 'Open Sans', verdana, arial, sans-serif; font-size: 12px; fill: rgb(42, 63, 95); fill-opacity: 1; white-space: pre; opacity: 1;\">capital-gain</text></g><g class=\"ytick\"><text text-anchor=\"end\" x=\"172.5\" y=\"4.199999999999999\" transform=\"translate(0,273.43)\" style=\"font-family: 'Open Sans', verdana, arial, sans-serif; font-size: 12px; fill: rgb(42, 63, 95); fill-opacity: 1; white-space: pre; opacity: 1;\">sex</text></g><g class=\"ytick\"><text text-anchor=\"end\" x=\"172.5\" y=\"4.199999999999999\" transform=\"translate(0,250.97)\" style=\"font-family: 'Open Sans', verdana, arial, sans-serif; font-size: 12px; fill: rgb(42, 63, 95); fill-opacity: 1; white-space: pre; opacity: 1;\">race</text></g><g class=\"ytick\"><text text-anchor=\"end\" x=\"172.5\" y=\"4.199999999999999\" transform=\"translate(0,228.5)\" style=\"font-family: 'Open Sans', verdana, arial, sans-serif; font-size: 12px; fill: rgb(42, 63, 95); fill-opacity: 1; white-space: pre; opacity: 1;\">relationship</text></g><g class=\"ytick\"><text text-anchor=\"end\" x=\"172.5\" y=\"4.199999999999999\" transform=\"translate(0,206.03)\" style=\"font-family: 'Open Sans', verdana, arial, sans-serif; font-size: 12px; fill: rgb(42, 63, 95); fill-opacity: 1; white-space: pre; opacity: 1;\">occupation</text></g><g class=\"ytick\"><text text-anchor=\"end\" x=\"172.5\" y=\"4.199999999999999\" transform=\"translate(0,183.57)\" style=\"font-family: 'Open Sans', verdana, arial, sans-serif; font-size: 12px; fill: rgb(42, 63, 95); fill-opacity: 1; white-space: pre; opacity: 1;\">marital-status</text></g><g class=\"ytick\"><text text-anchor=\"end\" x=\"172.5\" y=\"4.199999999999999\" transform=\"translate(0,161.1)\" style=\"font-family: 'Open Sans', verdana, arial, sans-serif; font-size: 12px; fill: rgb(42, 63, 95); fill-opacity: 1; white-space: pre; opacity: 1;\">education-num</text></g><g class=\"ytick\"><text text-anchor=\"end\" x=\"172.5\" y=\"4.199999999999999\" transform=\"translate(0,138.63)\" style=\"font-family: 'Open Sans', verdana, arial, sans-serif; font-size: 12px; fill: rgb(42, 63, 95); fill-opacity: 1; white-space: pre; opacity: 1;\">education</text></g><g class=\"ytick\"><text text-anchor=\"end\" x=\"172.5\" y=\"4.199999999999999\" transform=\"translate(0,116.17)\" style=\"font-family: 'Open Sans', verdana, arial, sans-serif; font-size: 12px; fill: rgb(42, 63, 95); fill-opacity: 1; white-space: pre; opacity: 1;\">fnlwgt</text></g><g class=\"ytick\"><text text-anchor=\"end\" x=\"172.5\" y=\"4.199999999999999\" transform=\"translate(0,93.7)\" style=\"font-family: 'Open Sans', verdana, arial, sans-serif; font-size: 12px; fill: rgb(42, 63, 95); fill-opacity: 1; white-space: pre; opacity: 1;\">workclass</text></g><g class=\"ytick\"><text text-anchor=\"end\" x=\"172.5\" y=\"4.199999999999999\" transform=\"translate(0,71.23)\" style=\"font-family: 'Open Sans', verdana, arial, sans-serif; font-size: 12px; fill: rgb(42, 63, 95); fill-opacity: 1; white-space: pre; opacity: 1;\">age</text></g></g><g class=\"overaxes-above\"/></g></g><g class=\"polarlayer\"/><g class=\"smithlayer\"/><g class=\"ternarylayer\"/><g class=\"geolayer\"/><g class=\"funnelarealayer\"/><g class=\"pielayer\"/><g class=\"iciclelayer\"/><g class=\"treemaplayer\"/><g class=\"sunburstlayer\"/><g class=\"glimages\"/><defs id=\"topdefs-fd9c76\"><g class=\"clips\"/></defs><g class=\"layer-above\"><g class=\"imagelayer\"/><g class=\"shapelayer\"/></g><g class=\"infolayer\"><g class=\"cbcoloraxis colorbar\" transform=\"translate(80,60)\"><rect class=\"cbbg\" x=\"534\" y=\"0\" width=\"74.015625\" height=\"337\" style=\"fill: rgb(0, 0, 0); fill-opacity: 0; stroke: rgb(68, 68, 68); stroke-opacity: 1; stroke-width: 0;\"/><g class=\"cbfills\" transform=\"translate(0,10)\"><rect class=\"cbfill gradient_filled\" style=\"fill: url('#gfd9c76-cbcoloraxis');\" x=\"544\" y=\"0\" width=\"30\" height=\"317\"/></g><g class=\"cblines\" transform=\"translate(0,10)\"/><g class=\"cbaxis crisp\" transform=\"translate(0,-60)\"><g class=\"ycbcoloraxistick\"><text text-anchor=\"start\" x=\"576.9\" y=\"4.199999999999999\" transform=\"translate(0,350.92)\" style=\"font-family: 'Open Sans', verdana, arial, sans-serif; font-size: 12px; fill: rgb(42, 63, 95); fill-opacity: 1; white-space: pre; opacity: 1;\">−0.4</text></g><g class=\"ycbcoloraxistick\"><text text-anchor=\"start\" x=\"576.9\" y=\"4.199999999999999\" style=\"font-family: 'Open Sans', verdana, arial, sans-serif; font-size: 12px; fill: rgb(42, 63, 95); fill-opacity: 1; white-space: pre; opacity: 1;\" transform=\"translate(0,310.79)\">−0.2</text></g><g class=\"ycbcoloraxistick\"><text text-anchor=\"start\" x=\"576.9\" y=\"4.199999999999999\" style=\"font-family: 'Open Sans', verdana, arial, sans-serif; font-size: 12px; fill: rgb(42, 63, 95); fill-opacity: 1; white-space: pre; opacity: 1;\" transform=\"translate(0,270.66)\">0</text></g><g class=\"ycbcoloraxistick\"><text text-anchor=\"start\" x=\"576.9\" y=\"4.199999999999999\" style=\"font-family: 'Open Sans', verdana, arial, sans-serif; font-size: 12px; fill: rgb(42, 63, 95); fill-opacity: 1; white-space: pre; opacity: 1;\" transform=\"translate(0,230.53000000000003)\">0.2</text></g><g class=\"ycbcoloraxistick\"><text text-anchor=\"start\" x=\"576.9\" y=\"4.199999999999999\" style=\"font-family: 'Open Sans', verdana, arial, sans-serif; font-size: 12px; fill: rgb(42, 63, 95); fill-opacity: 1; white-space: pre; opacity: 1;\" transform=\"translate(0,190.40000000000003)\">0.4</text></g><g class=\"ycbcoloraxistick\"><text text-anchor=\"start\" x=\"576.9\" y=\"4.199999999999999\" style=\"font-family: 'Open Sans', verdana, arial, sans-serif; font-size: 12px; fill: rgb(42, 63, 95); fill-opacity: 1; white-space: pre; opacity: 1;\" transform=\"translate(0,150.26000000000002)\">0.6</text></g><g class=\"ycbcoloraxistick\"><text text-anchor=\"start\" x=\"576.9\" y=\"4.199999999999999\" style=\"font-family: 'Open Sans', verdana, arial, sans-serif; font-size: 12px; fill: rgb(42, 63, 95); fill-opacity: 1; white-space: pre; opacity: 1;\" transform=\"translate(0,110.13000000000002)\">0.8</text></g><g class=\"ycbcoloraxistick\"><text text-anchor=\"start\" x=\"576.9\" y=\"4.199999999999999\" style=\"font-family: 'Open Sans', verdana, arial, sans-serif; font-size: 12px; fill: rgb(42, 63, 95); fill-opacity: 1; white-space: pre; opacity: 1;\" transform=\"translate(0,70.00000000000001)\">1</text></g></g><g class=\"cbtitleunshift\" transform=\"translate(-80,-60)\"><g class=\"cbtitle\"/></g><rect class=\"cboutline\" x=\"544\" y=\"10\" width=\"30\" height=\"317\" style=\"stroke: rgb(68, 68, 68); stroke-opacity: 1; fill: none; stroke-width: 0;\"/></g><g class=\"g-gtitle\"/><g class=\"g-xtitle\"/><g class=\"g-ytitle\"/></g></svg>"
      ]
     },
     "metadata": {},
     "output_type": "display_data"
    }
   ],
   "source": [
    "fig = px.imshow(df.corr(), text_auto=True, width=1500, height=1000)\n",
    "fig.show()"
   ]
  },
  {
   "attachments": {},
   "cell_type": "markdown",
   "metadata": {},
   "source": [
    "We can see that `relationship` is correlated with `target`, while `sex` is strongly inversely correlated with both `target` and `relationship`. \n",
    "Another possible relationship of note is that between `age` and `target`, which are inversely correlated with one another. Whether these features should be considered sources of bias is up to the user, as features such as `sex` have a strong argument and other features, such as `age`, may represent a neutral relationship in the data as people making higher salaries as they age seems to be a reasonable relationship. Nonetheless, we will demonstrate controlling for age as an example.\n"
   ]
  },
  {
   "attachments": {},
   "cell_type": "markdown",
   "metadata": {},
   "source": [
    "### Step 3: Predict the Biased Feature"
   ]
  },
  {
   "cell_type": "code",
   "execution_count": 10,
   "metadata": {
    "execution": {
     "iopub.execute_input": "2025-07-21T21:01:42.381127Z",
     "iopub.status.busy": "2025-07-21T21:01:42.380945Z",
     "iopub.status.idle": "2025-07-21T21:01:51.974325Z",
     "shell.execute_reply": "2025-07-21T21:01:51.973730Z"
    }
   },
   "outputs": [],
   "source": [
    "context_features = features.get_names(without=['sex'])\n",
    "react = t.react(X_test, action_features=[\"sex\"], context_features=context_features, details={\"feature_full_accuracy_contributions\": True})\n",
    "output = react[\"action\"]\n",
    "explanations = react[\"details\"]"
   ]
  },
  {
   "attachments": {},
   "cell_type": "markdown",
   "metadata": {},
   "source": [
    "### Step 4: Verify\n",
    "\n",
    "To further unravel some of the relationships between biased features using Howso Engine's explanations, we can verify the entanglement of `sex` and `relationship` by predicting `sex` and calculating the [accuracy contributions](https://docs.howso.com/en/release-latest/getting_started/terminology.html#accuracy-contributions-ac) (AC).  Here we use 'feature_full_accuracy_contributions' instead of the usual 'feature_robust_accuracy_contributions' specifically because we are using these results for feature selection."
   ]
  },
  {
   "cell_type": "code",
   "execution_count": 11,
   "metadata": {
    "execution": {
     "iopub.execute_input": "2025-07-21T21:01:51.976758Z",
     "iopub.status.busy": "2025-07-21T21:01:51.976517Z",
     "iopub.status.idle": "2025-07-21T21:01:51.983714Z",
     "shell.execute_reply": "2025-07-21T21:01:51.983197Z"
    }
   },
   "outputs": [
    {
     "data": {
      "text/plain": [
       "relationship      0.00756\n",
       "occupation        0.00318\n",
       "native-country    0.00232\n",
       "target            0.00162\n",
       "workclass         0.00055\n",
       "education        -0.00005\n",
       "capital-gain     -0.00118\n",
       "race             -0.00318\n",
       "capital-loss     -0.00425\n",
       "fnlwgt           -0.00566\n",
       "education-num    -0.00633\n",
       "hours-per-week   -0.00919\n",
       "age              -0.01036\n",
       "marital-status   -0.01491\n",
       "dtype: float64"
      ]
     },
     "metadata": {},
     "output_type": "display_data"
    }
   ],
   "source": [
    "ac = []\n",
    "for explanation in explanations[\"feature_full_accuracy_contributions\"]:\n",
    "    ac.append(list(explanation.values()))\n",
    "\n",
    "ac = pd.DataFrame(ac, columns=list(explanation.keys()))\n",
    "display(ac.mean(axis=0).sort_values(ascending=False).round(5))"
   ]
  },
  {
   "attachments": {},
   "cell_type": "markdown",
   "metadata": {},
   "source": [
    "We can see that `relationship` has a large Feature AC, confirming that `relationship` and `sex` have a strong relationship. \n",
    "\n",
    "Now that we have identified some features which may introduce bias, we can begin to mitigate them in two different ways using Howso Engine. We will measure the effectiveness of this mitigation visually and with a G-test p-value."
   ]
  },
  {
   "attachments": {},
   "cell_type": "markdown",
   "metadata": {},
   "source": [
    "## Section 3: Control for Differences in `relationship`, `sex`, and `marital-status`."
   ]
  },
  {
   "attachments": {},
   "cell_type": "markdown",
   "metadata": {},
   "source": [
    "### Step 1: Predict without Biased Features\n",
    "\n",
    "In order to mitigate for these biased features, we will leave them out when using `react`. Note that since `marital-status` is correlated with `relationship`, we will also control for that. Since Howso Engine uses instance-based learning combined with sophisticated methods of handling NaNs, it can maintain high levels of performance even when features are left out."
   ]
  },
  {
   "cell_type": "code",
   "execution_count": 12,
   "metadata": {
    "execution": {
     "iopub.execute_input": "2025-07-21T21:01:51.985578Z",
     "iopub.status.busy": "2025-07-21T21:01:51.985384Z",
     "iopub.status.idle": "2025-07-21T21:01:52.103177Z",
     "shell.execute_reply": "2025-07-21T21:01:52.102566Z"
    }
   },
   "outputs": [],
   "source": [
    "context_features = features.get_names(without=['target', 'sex', 'relationship', 'marital-status'])\n",
    "react = t.react(X_test, action_features=[\"target\"], context_features=context_features)\n",
    "\n",
    "output = react[\"action\"]\n",
    "predictions = output[\"target\"]"
   ]
  },
  {
   "attachments": {},
   "cell_type": "markdown",
   "metadata": {},
   "source": [
    "### Step 2: Plot"
   ]
  },
  {
   "cell_type": "code",
   "execution_count": 13,
   "metadata": {
    "execution": {
     "iopub.execute_input": "2025-07-21T21:01:52.105727Z",
     "iopub.status.busy": "2025-07-21T21:01:52.105515Z",
     "iopub.status.idle": "2025-07-21T21:01:53.625828Z",
     "shell.execute_reply": "2025-07-21T21:01:53.625262Z"
    }
   },
   "outputs": [
    {
     "data": {
      "image/svg+xml": [
       "<svg class=\"main-svg\" xmlns=\"http://www.w3.org/2000/svg\" xmlns:xlink=\"http://www.w3.org/1999/xlink\" width=\"700\" height=\"500\" style=\"\" viewBox=\"0 0 700 500\"><rect x=\"0\" y=\"0\" width=\"700\" height=\"500\" style=\"fill: rgb(255, 255, 255); fill-opacity: 1;\"/><defs id=\"defs-581de0\"><g class=\"clips\"><clipPath id=\"clip581de0xyplot\" class=\"plotclip\"><rect width=\"512\" height=\"360\"/></clipPath><clipPath class=\"axesclip\" id=\"clip581de0x\"><rect x=\"80\" y=\"0\" width=\"512\" height=\"500\"/></clipPath><clipPath class=\"axesclip\" id=\"clip581de0y\"><rect x=\"0\" y=\"60\" width=\"700\" height=\"360\"/></clipPath><clipPath class=\"axesclip\" id=\"clip581de0xy\"><rect x=\"80\" y=\"60\" width=\"512\" height=\"360\"/></clipPath></g><g class=\"gradients\"/><g class=\"patterns\"/></defs><g class=\"bglayer\"><rect class=\"bg\" x=\"80\" y=\"60\" width=\"512\" height=\"360\" style=\"fill: rgb(229, 236, 246); fill-opacity: 1; stroke-width: 0;\"/></g><g class=\"layer-below\"><g class=\"imagelayer\"/><g class=\"shapelayer\"/></g><g class=\"cartesianlayer\"><g class=\"subplot xy\"><g class=\"layer-subplot\"><g class=\"shapelayer\"/><g class=\"imagelayer\"/></g><g class=\"minor-gridlayer\"><g class=\"x\"/><g class=\"y\"/></g><g class=\"gridlayer\"><g class=\"x\"/><g class=\"y\"><path class=\"ygrid crisp\" transform=\"translate(0,376.66)\" d=\"M80,0h512\" style=\"stroke: rgb(255, 255, 255); stroke-opacity: 1; stroke-width: 1px;\"/><path class=\"ygrid crisp\" transform=\"translate(0,333.33)\" d=\"M80,0h512\" style=\"stroke: rgb(255, 255, 255); stroke-opacity: 1; stroke-width: 1px;\"/><path class=\"ygrid crisp\" transform=\"translate(0,289.99)\" d=\"M80,0h512\" style=\"stroke: rgb(255, 255, 255); stroke-opacity: 1; stroke-width: 1px;\"/><path class=\"ygrid crisp\" transform=\"translate(0,246.65)\" d=\"M80,0h512\" style=\"stroke: rgb(255, 255, 255); stroke-opacity: 1; stroke-width: 1px;\"/><path class=\"ygrid crisp\" transform=\"translate(0,203.31)\" d=\"M80,0h512\" style=\"stroke: rgb(255, 255, 255); stroke-opacity: 1; stroke-width: 1px;\"/><path class=\"ygrid crisp\" transform=\"translate(0,159.98000000000002)\" d=\"M80,0h512\" style=\"stroke: rgb(255, 255, 255); stroke-opacity: 1; stroke-width: 1px;\"/><path class=\"ygrid crisp\" transform=\"translate(0,116.64)\" d=\"M80,0h512\" style=\"stroke: rgb(255, 255, 255); stroke-opacity: 1; stroke-width: 1px;\"/><path class=\"ygrid crisp\" transform=\"translate(0,73.3)\" d=\"M80,0h512\" style=\"stroke: rgb(255, 255, 255); stroke-opacity: 1; stroke-width: 1px;\"/></g></g><g class=\"zerolinelayer\"><path class=\"yzl zl crisp\" transform=\"translate(0,420)\" d=\"M80,0h512\" style=\"stroke: rgb(255, 255, 255); stroke-opacity: 1; stroke-width: 2px;\"/></g><g class=\"layer-between\"><g class=\"shapelayer\"/><g class=\"imagelayer\"/></g><path class=\"xlines-below\"/><path class=\"ylines-below\"/><g class=\"overlines-below\"/><g class=\"xaxislayer-below\"/><g class=\"yaxislayer-below\"/><g class=\"overaxes-below\"/><g class=\"overplot\"><g class=\"xy\" transform=\"translate(80,60)\" clip-path=\"url(#clip581de0xyplot)\"><g class=\"barlayer mlayer\"><g class=\"trace bars\" style=\"opacity: 1;\"><g class=\"points\"><g class=\"point\"><path d=\"M25.6,360V195.92H128V360Z\" style=\"vector-effect: none; opacity: 1; stroke-width: 0px; fill: rgb(99, 110, 250); fill-opacity: 1;\"/></g><g class=\"point\"><path d=\"M281.6,360V90.71H384V360Z\" style=\"vector-effect: none; opacity: 1; stroke-width: 0px; fill: rgb(99, 110, 250); fill-opacity: 1;\"/></g></g></g><g class=\"trace bars\" style=\"opacity: 1;\"><g class=\"points\"><g class=\"point\"><path d=\"M128,360V268.63H230.4V360Z\" style=\"vector-effect: none; opacity: 1; stroke-width: 0px; fill: rgb(239, 85, 59); fill-opacity: 1;\"/></g><g class=\"point\"><path d=\"M384,360V18H486.4V360Z\" style=\"vector-effect: none; opacity: 1; stroke-width: 0px; fill: rgb(239, 85, 59); fill-opacity: 1;\"/></g></g></g></g></g></g><path class=\"xlines-above crisp\" d=\"M0,0\" style=\"fill: none;\"/><path class=\"ylines-above crisp\" d=\"M0,0\" style=\"fill: none;\"/><g class=\"overlines-above\"/><g class=\"xaxislayer-above\"><g class=\"xtick\"><text text-anchor=\"middle\" x=\"0\" y=\"433\" transform=\"translate(208,0)\" style=\"font-family: 'Open Sans', verdana, arial, sans-serif; font-size: 12px; fill: rgb(42, 63, 95); fill-opacity: 1; white-space: pre; opacity: 1;\">Salary >= $50k</text></g><g class=\"xtick\"><text text-anchor=\"middle\" x=\"0\" y=\"433\" transform=\"translate(464,0)\" style=\"font-family: 'Open Sans', verdana, arial, sans-serif; font-size: 12px; fill: rgb(42, 63, 95); fill-opacity: 1; white-space: pre; opacity: 1;\">Salary &#60; $50k</text></g></g><g class=\"yaxislayer-above\"><g class=\"ytick\"><text text-anchor=\"end\" x=\"79\" y=\"4.199999999999999\" transform=\"translate(0,420)\" style=\"font-family: 'Open Sans', verdana, arial, sans-serif; font-size: 12px; fill: rgb(42, 63, 95); fill-opacity: 1; white-space: pre; opacity: 1;\">0</text></g><g class=\"ytick\"><text text-anchor=\"end\" x=\"79\" y=\"4.199999999999999\" style=\"font-family: 'Open Sans', verdana, arial, sans-serif; font-size: 12px; fill: rgb(42, 63, 95); fill-opacity: 1; white-space: pre; opacity: 1;\" transform=\"translate(0,376.66)\">0.1</text></g><g class=\"ytick\"><text text-anchor=\"end\" x=\"79\" y=\"4.199999999999999\" style=\"font-family: 'Open Sans', verdana, arial, sans-serif; font-size: 12px; fill: rgb(42, 63, 95); fill-opacity: 1; white-space: pre; opacity: 1;\" transform=\"translate(0,333.33)\">0.2</text></g><g class=\"ytick\"><text text-anchor=\"end\" x=\"79\" y=\"4.199999999999999\" style=\"font-family: 'Open Sans', verdana, arial, sans-serif; font-size: 12px; fill: rgb(42, 63, 95); fill-opacity: 1; white-space: pre; opacity: 1;\" transform=\"translate(0,289.99)\">0.3</text></g><g class=\"ytick\"><text text-anchor=\"end\" x=\"79\" y=\"4.199999999999999\" style=\"font-family: 'Open Sans', verdana, arial, sans-serif; font-size: 12px; fill: rgb(42, 63, 95); fill-opacity: 1; white-space: pre; opacity: 1;\" transform=\"translate(0,246.65)\">0.4</text></g><g class=\"ytick\"><text text-anchor=\"end\" x=\"79\" y=\"4.199999999999999\" style=\"font-family: 'Open Sans', verdana, arial, sans-serif; font-size: 12px; fill: rgb(42, 63, 95); fill-opacity: 1; white-space: pre; opacity: 1;\" transform=\"translate(0,203.31)\">0.5</text></g><g class=\"ytick\"><text text-anchor=\"end\" x=\"79\" y=\"4.199999999999999\" style=\"font-family: 'Open Sans', verdana, arial, sans-serif; font-size: 12px; fill: rgb(42, 63, 95); fill-opacity: 1; white-space: pre; opacity: 1;\" transform=\"translate(0,159.98000000000002)\">0.6</text></g><g class=\"ytick\"><text text-anchor=\"end\" x=\"79\" y=\"4.199999999999999\" style=\"font-family: 'Open Sans', verdana, arial, sans-serif; font-size: 12px; fill: rgb(42, 63, 95); fill-opacity: 1; white-space: pre; opacity: 1;\" transform=\"translate(0,116.64)\">0.7</text></g><g class=\"ytick\"><text text-anchor=\"end\" x=\"79\" y=\"4.199999999999999\" style=\"font-family: 'Open Sans', verdana, arial, sans-serif; font-size: 12px; fill: rgb(42, 63, 95); fill-opacity: 1; white-space: pre; opacity: 1;\" transform=\"translate(0,73.3)\">0.8</text></g></g><g class=\"overaxes-above\"/></g></g><g class=\"polarlayer\"/><g class=\"smithlayer\"/><g class=\"ternarylayer\"/><g class=\"geolayer\"/><g class=\"funnelarealayer\"/><g class=\"pielayer\"/><g class=\"iciclelayer\"/><g class=\"treemaplayer\"/><g class=\"sunburstlayer\"/><g class=\"glimages\"/><defs id=\"topdefs-581de0\"><g class=\"clips\"/><clipPath id=\"legend581de0\"><rect width=\"86\" height=\"67\" x=\"0\" y=\"0\"/></clipPath></defs><g class=\"layer-above\"><g class=\"imagelayer\"/><g class=\"shapelayer\"/></g><g class=\"infolayer\"><g class=\"legend\" pointer-events=\"all\" transform=\"translate(602.24,60)\"><rect class=\"bg\" shape-rendering=\"crispEdges\" style=\"stroke: rgb(68, 68, 68); stroke-opacity: 1; fill: rgb(255, 255, 255); fill-opacity: 1; stroke-width: 0px;\" width=\"86\" height=\"67\" x=\"0\" y=\"0\"/><g class=\"scrollbox\" transform=\"\" clip-path=\"url(#legend581de0)\"><text class=\"legendtitletext\" text-anchor=\"start\" x=\"2\" y=\"18.2\" style=\"font-family: 'Open Sans', verdana, arial, sans-serif; font-size: 14px; fill: rgb(42, 63, 95); fill-opacity: 1; white-space: pre;\">color</text><g class=\"groups\" transform=\"\"><g class=\"traces\" transform=\"translate(0,32.7)\" style=\"opacity: 1;\"><text class=\"legendtext\" text-anchor=\"start\" x=\"40\" y=\"4.680000000000001\" style=\"font-family: 'Open Sans', verdana, arial, sans-serif; font-size: 12px; fill: rgb(42, 63, 95); fill-opacity: 1; white-space: pre;\">Male</text><g class=\"layers\" style=\"opacity: 1;\"><g class=\"legendfill\"/><g class=\"legendlines\"/><g class=\"legendsymbols\"><g class=\"legendpoints\"><path class=\"legendundefined\" d=\"M6,6H-6V-6H6Z\" transform=\"translate(20,0)\" style=\"stroke-width: 0px; fill: rgb(99, 110, 250); fill-opacity: 1;\"/></g></g></g><rect class=\"legendtoggle\" x=\"0\" y=\"-9.5\" width=\"80.33984375\" height=\"19\" style=\"fill: rgb(0, 0, 0); fill-opacity: 0;\"/></g></g><g class=\"groups\" transform=\"\"><g class=\"traces\" transform=\"translate(0,51.7)\" style=\"opacity: 1;\"><text class=\"legendtext\" text-anchor=\"start\" x=\"40\" y=\"4.680000000000001\" style=\"font-family: 'Open Sans', verdana, arial, sans-serif; font-size: 12px; fill: rgb(42, 63, 95); fill-opacity: 1; white-space: pre;\">Female</text><g class=\"layers\" style=\"opacity: 1;\"><g class=\"legendfill\"/><g class=\"legendlines\"/><g class=\"legendsymbols\"><g class=\"legendpoints\"><path class=\"legendundefined\" d=\"M6,6H-6V-6H6Z\" transform=\"translate(20,0)\" style=\"stroke-width: 0px; fill: rgb(239, 85, 59); fill-opacity: 1;\"/></g></g></g><rect class=\"legendtoggle\" x=\"0\" y=\"-9.5\" width=\"80.33984375\" height=\"19\" style=\"fill: rgb(0, 0, 0); fill-opacity: 0;\"/></g></g></g><rect class=\"scrollbar\" rx=\"20\" ry=\"3\" width=\"0\" height=\"0\" style=\"fill: rgb(128, 139, 164); fill-opacity: 1;\" x=\"0\" y=\"0\"/></g><g class=\"g-gtitle\"/><g class=\"g-xtitle\"><text class=\"xtitle\" x=\"336\" y=\"460.3\" text-anchor=\"middle\" style=\"opacity: 1; font-family: 'Open Sans', verdana, arial, sans-serif; font-size: 14px; fill: rgb(42, 63, 95); fill-opacity: 1; white-space: pre;\">target</text></g><g class=\"g-ytitle\"><text class=\"ytitle\" transform=\"rotate(-90,42.9125,240)\" x=\"42.9125\" y=\"240\" text-anchor=\"middle\" style=\"opacity: 1; font-family: 'Open Sans', verdana, arial, sans-serif; font-size: 14px; fill: rgb(42, 63, 95); fill-opacity: 1; white-space: pre;\">probability density</text></g></g></svg>"
      ]
     },
     "metadata": {},
     "output_type": "display_data"
    }
   ],
   "source": [
    "display_output_b = output.replace({\"target\": {0: \"Salary >= $50k\", 1: \"Salary < $50k\"}})\n",
    "display_df = X_test.replace({\n",
    "    \"sex\": {0: \"Female\", 1: \"Male\"},\n",
    "    \"target\": {0: \"Salary >= $50k\", 1: \"Salary < $50k\"}\n",
    "})\n",
    "\n",
    "fig = px.histogram(\n",
    "    display_output_b,\n",
    "    x=\"target\",\n",
    "    width=650,\n",
    "    height=650,\n",
    "    barmode=\"group\",\n",
    "    color=display_df.sex,\n",
    "    histnorm=\"probability density\",\n",
    ")\n",
    "fig.show()"
   ]
  },
  {
   "attachments": {},
   "cell_type": "markdown",
   "metadata": {},
   "source": [
    "### Step 3: Check Ratios\n",
    "\n",
    "We can see that the balance has been somewhat corrected, although this is not guaranteed. We can check the updated ratios for both salary groups. This may not be a complete fix, however it likely that the bias has improved."
   ]
  },
  {
   "cell_type": "code",
   "execution_count": 14,
   "metadata": {
    "execution": {
     "iopub.execute_input": "2025-07-21T21:01:53.627711Z",
     "iopub.status.busy": "2025-07-21T21:01:53.627519Z",
     "iopub.status.idle": "2025-07-21T21:01:53.634771Z",
     "shell.execute_reply": "2025-07-21T21:01:53.634242Z"
    }
   },
   "outputs": [
    {
     "name": "stdout",
     "output_type": "stream",
     "text": [
      "under 50k ratio: 1.2699915942841133  over 50k ratio: 1.7957060280759702\n"
     ]
    }
   ],
   "source": [
    "X_test_2['predicted2'] = output['target']\n",
    "new_female_50plus = len(X_test_2[(X_test_2['sex']==0) & (X_test_2['predicted2']==0)])\n",
    "new_female_50min = len(X_test_2[(X_test_2['sex']==0) & (X_test_2['predicted2']==1)])\n",
    "new_male_50plus = len(X_test_2[(X_test_2['sex']==1) & (X_test_2['predicted2']==0)])\n",
    "new_male_50min = len(X_test_2[(X_test_2['sex']==1) & (X_test_2['predicted2']==1)])\n",
    "\n",
    "# Compute the new ratios for both over and under $50k\n",
    "new_ratio_under_50 = (new_female_50min / total_female)  / (new_male_50min / total_male)\n",
    "new_ratio_over_50 = (new_male_50plus / total_male) / (new_female_50plus / total_female)\n",
    "\n",
    "print(f\"under 50k ratio: {new_ratio_under_50}  over 50k ratio: {new_ratio_over_50}\")"
   ]
  },
  {
   "attachments": {},
   "cell_type": "markdown",
   "metadata": {},
   "source": [
    "### Step 4: Check Accuracy\n",
    "\n",
    "We can see that we still maintain relatively good accuracy compared to the original data set."
   ]
  },
  {
   "cell_type": "code",
   "execution_count": 15,
   "metadata": {
    "execution": {
     "iopub.execute_input": "2025-07-21T21:01:53.636411Z",
     "iopub.status.busy": "2025-07-21T21:01:53.636215Z",
     "iopub.status.idle": "2025-07-21T21:01:53.640909Z",
     "shell.execute_reply": "2025-07-21T21:01:53.640432Z"
    }
   },
   "outputs": [
    {
     "data": {
      "text/plain": [
       "0.748"
      ]
     },
     "execution_count": 15,
     "metadata": {},
     "output_type": "execute_result"
    }
   ],
   "source": [
    "accuracy = round(accuracy_score(X_test[\"target\"], predictions), 3)\n",
    "accuracy"
   ]
  },
  {
   "attachments": {},
   "cell_type": "markdown",
   "metadata": {},
   "source": [
    "# Section 4: Control for Differences in Age\n",
    "\n",
    "Unfortunately, it is possible that the balance not quite been addressed fully. Let's go back to that relationship between `age` and `target`, and see if we can't control for that. "
   ]
  },
  {
   "attachments": {},
   "cell_type": "markdown",
   "metadata": {},
   "source": [
    "### Step 1: Assign Random Ages\n",
    "\n",
    "We can do this by setting the age of each individual randomly in the range of 40 to 50. The Trainee will use these values to find the nearest trained Cases."
   ]
  },
  {
   "cell_type": "code",
   "execution_count": 16,
   "metadata": {
    "execution": {
     "iopub.execute_input": "2025-07-21T21:01:53.642598Z",
     "iopub.status.busy": "2025-07-21T21:01:53.642421Z",
     "iopub.status.idle": "2025-07-21T21:01:53.645481Z",
     "shell.execute_reply": "2025-07-21T21:01:53.644976Z"
    }
   },
   "outputs": [],
   "source": [
    "X_test_controlled = X_test\n",
    "\n",
    "rng = np.random.default_rng()\n",
    "X_test_controlled.age = rng.integers(40, 50, size=len(X_test_controlled))\n"
   ]
  },
  {
   "attachments": {},
   "cell_type": "markdown",
   "metadata": {},
   "source": [
    "### Step 2: React using Random Ages"
   ]
  },
  {
   "cell_type": "code",
   "execution_count": 17,
   "metadata": {
    "execution": {
     "iopub.execute_input": "2025-07-21T21:01:53.647095Z",
     "iopub.status.busy": "2025-07-21T21:01:53.646914Z",
     "iopub.status.idle": "2025-07-21T21:01:53.765579Z",
     "shell.execute_reply": "2025-07-21T21:01:53.764970Z"
    }
   },
   "outputs": [],
   "source": [
    "output = t.react(X_test_controlled, action_features=[\"target\"], context_features=context_features)[\"action\"]\n",
    "predictions = output[\"target\"]"
   ]
  },
  {
   "attachments": {},
   "cell_type": "markdown",
   "metadata": {},
   "source": [
    "### Step 3: Graph"
   ]
  },
  {
   "cell_type": "code",
   "execution_count": 18,
   "metadata": {
    "execution": {
     "iopub.execute_input": "2025-07-21T21:01:53.767968Z",
     "iopub.status.busy": "2025-07-21T21:01:53.767778Z",
     "iopub.status.idle": "2025-07-21T21:01:55.246171Z",
     "shell.execute_reply": "2025-07-21T21:01:55.245626Z"
    }
   },
   "outputs": [
    {
     "data": {
      "image/svg+xml": [
       "<svg class=\"main-svg\" xmlns=\"http://www.w3.org/2000/svg\" xmlns:xlink=\"http://www.w3.org/1999/xlink\" width=\"700\" height=\"500\" style=\"\" viewBox=\"0 0 700 500\"><rect x=\"0\" y=\"0\" width=\"700\" height=\"500\" style=\"fill: rgb(255, 255, 255); fill-opacity: 1;\"/><defs id=\"defs-e1594b\"><g class=\"clips\"><clipPath id=\"clipe1594bxyplot\" class=\"plotclip\"><rect width=\"512\" height=\"360\"/></clipPath><clipPath class=\"axesclip\" id=\"clipe1594bx\"><rect x=\"80\" y=\"0\" width=\"512\" height=\"500\"/></clipPath><clipPath class=\"axesclip\" id=\"clipe1594by\"><rect x=\"0\" y=\"60\" width=\"700\" height=\"360\"/></clipPath><clipPath class=\"axesclip\" id=\"clipe1594bxy\"><rect x=\"80\" y=\"60\" width=\"512\" height=\"360\"/></clipPath></g><g class=\"gradients\"/><g class=\"patterns\"/></defs><g class=\"bglayer\"><rect class=\"bg\" x=\"80\" y=\"60\" width=\"512\" height=\"360\" style=\"fill: rgb(229, 236, 246); fill-opacity: 1; stroke-width: 0;\"/></g><g class=\"layer-below\"><g class=\"imagelayer\"/><g class=\"shapelayer\"/></g><g class=\"cartesianlayer\"><g class=\"subplot xy\"><g class=\"layer-subplot\"><g class=\"shapelayer\"/><g class=\"imagelayer\"/></g><g class=\"minor-gridlayer\"><g class=\"x\"/><g class=\"y\"/></g><g class=\"gridlayer\"><g class=\"x\"/><g class=\"y\"><path class=\"ygrid crisp\" transform=\"translate(0,363.23)\" d=\"M80,0h512\" style=\"stroke: rgb(255, 255, 255); stroke-opacity: 1; stroke-width: 1px;\"/><path class=\"ygrid crisp\" transform=\"translate(0,306.46000000000004)\" d=\"M80,0h512\" style=\"stroke: rgb(255, 255, 255); stroke-opacity: 1; stroke-width: 1px;\"/><path class=\"ygrid crisp\" transform=\"translate(0,249.68)\" d=\"M80,0h512\" style=\"stroke: rgb(255, 255, 255); stroke-opacity: 1; stroke-width: 1px;\"/><path class=\"ygrid crisp\" transform=\"translate(0,192.91)\" d=\"M80,0h512\" style=\"stroke: rgb(255, 255, 255); stroke-opacity: 1; stroke-width: 1px;\"/><path class=\"ygrid crisp\" transform=\"translate(0,136.14)\" d=\"M80,0h512\" style=\"stroke: rgb(255, 255, 255); stroke-opacity: 1; stroke-width: 1px;\"/><path class=\"ygrid crisp\" transform=\"translate(0,79.37)\" d=\"M80,0h512\" style=\"stroke: rgb(255, 255, 255); stroke-opacity: 1; stroke-width: 1px;\"/></g></g><g class=\"zerolinelayer\"><path class=\"yzl zl crisp\" transform=\"translate(0,420)\" d=\"M80,0h512\" style=\"stroke: rgb(255, 255, 255); stroke-opacity: 1; stroke-width: 2px;\"/></g><g class=\"layer-between\"><g class=\"shapelayer\"/><g class=\"imagelayer\"/></g><path class=\"xlines-below\"/><path class=\"ylines-below\"/><g class=\"overlines-below\"/><g class=\"xaxislayer-below\"/><g class=\"yaxislayer-below\"/><g class=\"overaxes-below\"/><g class=\"overplot\"><g class=\"xy\" transform=\"translate(80,60)\" clip-path=\"url(#clipe1594bxyplot)\"><g class=\"barlayer mlayer\"><g class=\"trace bars\" style=\"opacity: 1;\"><g class=\"points\"><g class=\"point\"><path d=\"M25.6,360V35.12H128V360Z\" style=\"vector-effect: none; opacity: 1; stroke-width: 0px; fill: rgb(99, 110, 250); fill-opacity: 1;\"/></g><g class=\"point\"><path d=\"M281.6,360V117.16H384V360Z\" style=\"vector-effect: none; opacity: 1; stroke-width: 0px; fill: rgb(99, 110, 250); fill-opacity: 1;\"/></g></g></g><g class=\"trace bars\" style=\"opacity: 1;\"><g class=\"points\"><g class=\"point\"><path d=\"M128,360V18H230.4V360Z\" style=\"vector-effect: none; opacity: 1; stroke-width: 0px; fill: rgb(239, 85, 59); fill-opacity: 1;\"/></g><g class=\"point\"><path d=\"M384,360V134.28H486.4V360Z\" style=\"vector-effect: none; opacity: 1; stroke-width: 0px; fill: rgb(239, 85, 59); fill-opacity: 1;\"/></g></g></g></g></g></g><path class=\"xlines-above crisp\" d=\"M0,0\" style=\"fill: none;\"/><path class=\"ylines-above crisp\" d=\"M0,0\" style=\"fill: none;\"/><g class=\"overlines-above\"/><g class=\"xaxislayer-above\"><g class=\"xtick\"><text text-anchor=\"middle\" x=\"0\" y=\"433\" transform=\"translate(208,0)\" style=\"font-family: 'Open Sans', verdana, arial, sans-serif; font-size: 12px; fill: rgb(42, 63, 95); fill-opacity: 1; white-space: pre; opacity: 1;\">Salary >= $50k</text></g><g class=\"xtick\"><text text-anchor=\"middle\" x=\"0\" y=\"433\" transform=\"translate(464,0)\" style=\"font-family: 'Open Sans', verdana, arial, sans-serif; font-size: 12px; fill: rgb(42, 63, 95); fill-opacity: 1; white-space: pre; opacity: 1;\">Salary &#60; $50k</text></g></g><g class=\"yaxislayer-above\"><g class=\"ytick\"><text text-anchor=\"end\" x=\"79\" y=\"4.199999999999999\" transform=\"translate(0,420)\" style=\"font-family: 'Open Sans', verdana, arial, sans-serif; font-size: 12px; fill: rgb(42, 63, 95); fill-opacity: 1; white-space: pre; opacity: 1;\">0</text></g><g class=\"ytick\"><text text-anchor=\"end\" x=\"79\" y=\"4.199999999999999\" style=\"font-family: 'Open Sans', verdana, arial, sans-serif; font-size: 12px; fill: rgb(42, 63, 95); fill-opacity: 1; white-space: pre; opacity: 1;\" transform=\"translate(0,363.23)\">0.1</text></g><g class=\"ytick\"><text text-anchor=\"end\" x=\"79\" y=\"4.199999999999999\" style=\"font-family: 'Open Sans', verdana, arial, sans-serif; font-size: 12px; fill: rgb(42, 63, 95); fill-opacity: 1; white-space: pre; opacity: 1;\" transform=\"translate(0,306.46000000000004)\">0.2</text></g><g class=\"ytick\"><text text-anchor=\"end\" x=\"79\" y=\"4.199999999999999\" style=\"font-family: 'Open Sans', verdana, arial, sans-serif; font-size: 12px; fill: rgb(42, 63, 95); fill-opacity: 1; white-space: pre; opacity: 1;\" transform=\"translate(0,249.68)\">0.3</text></g><g class=\"ytick\"><text text-anchor=\"end\" x=\"79\" y=\"4.199999999999999\" style=\"font-family: 'Open Sans', verdana, arial, sans-serif; font-size: 12px; fill: rgb(42, 63, 95); fill-opacity: 1; white-space: pre; opacity: 1;\" transform=\"translate(0,192.91)\">0.4</text></g><g class=\"ytick\"><text text-anchor=\"end\" x=\"79\" y=\"4.199999999999999\" style=\"font-family: 'Open Sans', verdana, arial, sans-serif; font-size: 12px; fill: rgb(42, 63, 95); fill-opacity: 1; white-space: pre; opacity: 1;\" transform=\"translate(0,136.14)\">0.5</text></g><g class=\"ytick\"><text text-anchor=\"end\" x=\"79\" y=\"4.199999999999999\" style=\"font-family: 'Open Sans', verdana, arial, sans-serif; font-size: 12px; fill: rgb(42, 63, 95); fill-opacity: 1; white-space: pre; opacity: 1;\" transform=\"translate(0,79.37)\">0.6</text></g></g><g class=\"overaxes-above\"/></g></g><g class=\"polarlayer\"/><g class=\"smithlayer\"/><g class=\"ternarylayer\"/><g class=\"geolayer\"/><g class=\"funnelarealayer\"/><g class=\"pielayer\"/><g class=\"iciclelayer\"/><g class=\"treemaplayer\"/><g class=\"sunburstlayer\"/><g class=\"glimages\"/><defs id=\"topdefs-e1594b\"><g class=\"clips\"/><clipPath id=\"legende1594b\"><rect width=\"86\" height=\"67\" x=\"0\" y=\"0\"/></clipPath></defs><g class=\"layer-above\"><g class=\"imagelayer\"/><g class=\"shapelayer\"/></g><g class=\"infolayer\"><g class=\"legend\" pointer-events=\"all\" transform=\"translate(602.24,60)\"><rect class=\"bg\" shape-rendering=\"crispEdges\" style=\"stroke: rgb(68, 68, 68); stroke-opacity: 1; fill: rgb(255, 255, 255); fill-opacity: 1; stroke-width: 0px;\" width=\"86\" height=\"67\" x=\"0\" y=\"0\"/><g class=\"scrollbox\" transform=\"\" clip-path=\"url(#legende1594b)\"><text class=\"legendtitletext\" text-anchor=\"start\" x=\"2\" y=\"18.2\" style=\"font-family: 'Open Sans', verdana, arial, sans-serif; font-size: 14px; fill: rgb(42, 63, 95); fill-opacity: 1; white-space: pre;\">color</text><g class=\"groups\" transform=\"\"><g class=\"traces\" transform=\"translate(0,32.7)\" style=\"opacity: 1;\"><text class=\"legendtext\" text-anchor=\"start\" x=\"40\" y=\"4.680000000000001\" style=\"font-family: 'Open Sans', verdana, arial, sans-serif; font-size: 12px; fill: rgb(42, 63, 95); fill-opacity: 1; white-space: pre;\">Male</text><g class=\"layers\" style=\"opacity: 1;\"><g class=\"legendfill\"/><g class=\"legendlines\"/><g class=\"legendsymbols\"><g class=\"legendpoints\"><path class=\"legendundefined\" d=\"M6,6H-6V-6H6Z\" transform=\"translate(20,0)\" style=\"stroke-width: 0px; fill: rgb(99, 110, 250); fill-opacity: 1;\"/></g></g></g><rect class=\"legendtoggle\" x=\"0\" y=\"-9.5\" width=\"80.33984375\" height=\"19\" style=\"fill: rgb(0, 0, 0); fill-opacity: 0;\"/></g></g><g class=\"groups\" transform=\"\"><g class=\"traces\" transform=\"translate(0,51.7)\" style=\"opacity: 1;\"><text class=\"legendtext\" text-anchor=\"start\" x=\"40\" y=\"4.680000000000001\" style=\"font-family: 'Open Sans', verdana, arial, sans-serif; font-size: 12px; fill: rgb(42, 63, 95); fill-opacity: 1; white-space: pre;\">Female</text><g class=\"layers\" style=\"opacity: 1;\"><g class=\"legendfill\"/><g class=\"legendlines\"/><g class=\"legendsymbols\"><g class=\"legendpoints\"><path class=\"legendundefined\" d=\"M6,6H-6V-6H6Z\" transform=\"translate(20,0)\" style=\"stroke-width: 0px; fill: rgb(239, 85, 59); fill-opacity: 1;\"/></g></g></g><rect class=\"legendtoggle\" x=\"0\" y=\"-9.5\" width=\"80.33984375\" height=\"19\" style=\"fill: rgb(0, 0, 0); fill-opacity: 0;\"/></g></g></g><rect class=\"scrollbar\" rx=\"20\" ry=\"3\" width=\"0\" height=\"0\" style=\"fill: rgb(128, 139, 164); fill-opacity: 1;\" x=\"0\" y=\"0\"/></g><g class=\"g-gtitle\"/><g class=\"g-xtitle\"><text class=\"xtitle\" x=\"336\" y=\"460.3\" text-anchor=\"middle\" style=\"opacity: 1; font-family: 'Open Sans', verdana, arial, sans-serif; font-size: 14px; fill: rgb(42, 63, 95); fill-opacity: 1; white-space: pre;\">target</text></g><g class=\"g-ytitle\"><text class=\"ytitle\" transform=\"rotate(-90,42.9125,240)\" x=\"42.9125\" y=\"240\" text-anchor=\"middle\" style=\"opacity: 1; font-family: 'Open Sans', verdana, arial, sans-serif; font-size: 14px; fill: rgb(42, 63, 95); fill-opacity: 1; white-space: pre;\">probability density</text></g></g></svg>"
      ]
     },
     "metadata": {},
     "output_type": "display_data"
    }
   ],
   "source": [
    "display_output_c = output.replace({\"target\": {0: \"Salary >= $50k\", 1: \"Salary < $50k\"}})\n",
    "display_df = X_test.replace({\n",
    "    \"sex\": {0: \"Female\", 1: \"Male\"},\n",
    "    \"target\": {0: \"Salary >= $50k\", 1: \"Salary < $50k\"}\n",
    "})\n",
    "\n",
    "fig = px.histogram(\n",
    "    display_output_c,\n",
    "    x=\"target\",\n",
    "    width=650,\n",
    "    height=650,\n",
    "    barmode=\"group\",\n",
    "    color=display_df.sex,\n",
    "    histnorm=\"probability density\",\n",
    ")\n",
    "fig.show()"
   ]
  },
  {
   "attachments": {},
   "cell_type": "markdown",
   "metadata": {},
   "source": [
    "### Step 4: Check Ratios\n",
    "Anecdotally, this distribution is much more equitable than either of the previous distributions. How does it fare statistically?"
   ]
  },
  {
   "cell_type": "code",
   "execution_count": 19,
   "metadata": {
    "execution": {
     "iopub.execute_input": "2025-07-21T21:01:55.248067Z",
     "iopub.status.busy": "2025-07-21T21:01:55.247884Z",
     "iopub.status.idle": "2025-07-21T21:01:55.255385Z",
     "shell.execute_reply": "2025-07-21T21:01:55.254853Z"
    }
   },
   "outputs": [
    {
     "name": "stdout",
     "output_type": "stream",
     "text": [
      "under 50k ratio: 0.9295017909475741  over 50k ratio: 0.9499421965317918, amount decreased: 4.20875420875421 fold\n"
     ]
    }
   ],
   "source": [
    "X_test_2['predicted3'] = output['target']\n",
    "mitigated_female_50plus = len(X_test_2[(X_test_2['sex']==0) & (X_test_2['predicted3']==0)])\n",
    "mitigated_female_50min = len(X_test_2[(X_test_2['sex']==0) & (X_test_2['predicted3']==1)])\n",
    "mitigated_male_50plus = len(X_test_2[(X_test_2['sex']==1) & (X_test_2['predicted3']==0)])\n",
    "mitigated_male_50min = len(X_test_2[(X_test_2['sex']==1) & (X_test_2['predicted3']==1)])\n",
    "\n",
    "# Compute the mitigated ratios for both over and under $50k\n",
    "mitigated_ratio_under_50 = (mitigated_female_50min / total_female)  / (mitigated_male_50min / total_male)\n",
    "mitigated_ratio_over_50 = (mitigated_male_50plus / total_male) / (mitigated_female_50plus / total_female)\n",
    "decrease_fold = ratio_over_50 / mitigated_ratio_over_50\n",
    "print(f\"under 50k ratio: {mitigated_ratio_under_50}  over 50k ratio: {mitigated_ratio_over_50}, amount decreased: {decrease_fold} fold\")"
   ]
  },
  {
   "attachments": {},
   "cell_type": "markdown",
   "metadata": {},
   "source": [
    "As we can see, the ratios are both much closer to 1, indicating that there is a strong difference between the original, inequitable distribution and the new distribution. We can compare the three distributions visually."
   ]
  },
  {
   "attachments": {},
   "cell_type": "markdown",
   "metadata": {},
   "source": [
    "### Step 5: Check Accuracy"
   ]
  },
  {
   "cell_type": "code",
   "execution_count": 20,
   "metadata": {
    "execution": {
     "iopub.execute_input": "2025-07-21T21:01:55.257122Z",
     "iopub.status.busy": "2025-07-21T21:01:55.256946Z",
     "iopub.status.idle": "2025-07-21T21:01:55.261709Z",
     "shell.execute_reply": "2025-07-21T21:01:55.261195Z"
    }
   },
   "outputs": [
    {
     "data": {
      "text/plain": [
       "0.549"
      ]
     },
     "execution_count": 20,
     "metadata": {},
     "output_type": "execute_result"
    }
   ],
   "source": [
    "accuracy = round(accuracy_score(X_test[\"target\"], predictions), 3)\n",
    "accuracy"
   ]
  },
  {
   "attachments": {},
   "cell_type": "markdown",
   "metadata": {},
   "source": [
    "Unfortunately we can see that accuracy has dropped to a fairly low level. There is generally a trade off between accuracy and bias mitation, especially when testing is done in comparison to the original, biased data. The user must gauge this trade off carefully. At the same time, using only the accuracy score as the decision metric may paint an incomplete picture. For example, since the time in which our dataset, `Adult`, was created in 1996, there have been notable improvements in equality among sexes. Although not recommended, in a situation where we are using a dataset in 1996 to make inferences in present time, correcting for these biases may actually improve model performance on present test data as the bias is not as strong. These are all hypotheticals, but they illustrate the careful thought that must go into interpreting these results. \n",
    "\n"
   ]
  },
  {
   "attachments": {},
   "cell_type": "markdown",
   "metadata": {},
   "source": [
    "# Section 5: Compare Bias Mitigation Techniques\n",
    "\n",
    "This graph is shown just to give a side by side comparison of the changes controlling for the various features. \n"
   ]
  },
  {
   "cell_type": "code",
   "execution_count": 21,
   "metadata": {
    "execution": {
     "iopub.execute_input": "2025-07-21T21:01:55.263440Z",
     "iopub.status.busy": "2025-07-21T21:01:55.263249Z",
     "iopub.status.idle": "2025-07-21T21:01:56.894816Z",
     "shell.execute_reply": "2025-07-21T21:01:56.894251Z"
    }
   },
   "outputs": [
    {
     "data": {
      "image/svg+xml": [
       "<svg class=\"main-svg\" xmlns=\"http://www.w3.org/2000/svg\" xmlns:xlink=\"http://www.w3.org/1999/xlink\" width=\"700\" height=\"500\" style=\"\" viewBox=\"0 0 700 500\"><rect x=\"0\" y=\"0\" width=\"700\" height=\"500\" style=\"fill: rgb(255, 255, 255); fill-opacity: 1;\"/><defs id=\"defs-757cd6\"><g class=\"clips\"><clipPath id=\"clip757cd6xyplot\" class=\"plotclip\"><rect width=\"147.91111111111113\" height=\"320\"/></clipPath><clipPath id=\"clip757cd6x2y2plot\" class=\"plotclip\"><rect width=\"147.91111111111113\" height=\"320\"/></clipPath><clipPath id=\"clip757cd6x3y3plot\" class=\"plotclip\"><rect width=\"147.9111111111111\" height=\"320\"/></clipPath><clipPath class=\"axesclip\" id=\"clip757cd6x\"><rect x=\"80\" y=\"0\" width=\"147.91111111111113\" height=\"500\"/></clipPath><clipPath class=\"axesclip\" id=\"clip757cd6y\"><rect x=\"0\" y=\"100\" width=\"700\" height=\"320\"/></clipPath><clipPath class=\"axesclip\" id=\"clip757cd6xy\"><rect x=\"80\" y=\"100\" width=\"147.91111111111113\" height=\"320\"/></clipPath><clipPath class=\"axesclip\" id=\"clip757cd6y2\"><rect x=\"0\" y=\"100\" width=\"700\" height=\"320\"/></clipPath><clipPath class=\"axesclip\" id=\"clip757cd6xy2\"><rect x=\"80\" y=\"100\" width=\"147.91111111111113\" height=\"320\"/></clipPath><clipPath class=\"axesclip\" id=\"clip757cd6y3\"><rect x=\"0\" y=\"100\" width=\"700\" height=\"320\"/></clipPath><clipPath class=\"axesclip\" id=\"clip757cd6xy3\"><rect x=\"80\" y=\"100\" width=\"147.91111111111113\" height=\"320\"/></clipPath><clipPath class=\"axesclip\" id=\"clip757cd6x2\"><rect x=\"262.0444444444445\" y=\"0\" width=\"147.91111111111113\" height=\"500\"/></clipPath><clipPath class=\"axesclip\" id=\"clip757cd6x2y\"><rect x=\"262.0444444444445\" y=\"100\" width=\"147.91111111111113\" height=\"320\"/></clipPath><clipPath class=\"axesclip\" id=\"clip757cd6x2y2\"><rect x=\"262.0444444444445\" y=\"100\" width=\"147.91111111111113\" height=\"320\"/></clipPath><clipPath class=\"axesclip\" id=\"clip757cd6x2y3\"><rect x=\"262.0444444444445\" y=\"100\" width=\"147.91111111111113\" height=\"320\"/></clipPath><clipPath class=\"axesclip\" id=\"clip757cd6x3\"><rect x=\"444.0888888888889\" y=\"0\" width=\"147.9111111111111\" height=\"500\"/></clipPath><clipPath class=\"axesclip\" id=\"clip757cd6x3y\"><rect x=\"444.0888888888889\" y=\"100\" width=\"147.9111111111111\" height=\"320\"/></clipPath><clipPath class=\"axesclip\" id=\"clip757cd6x3y2\"><rect x=\"444.0888888888889\" y=\"100\" width=\"147.9111111111111\" height=\"320\"/></clipPath><clipPath class=\"axesclip\" id=\"clip757cd6x3y3\"><rect x=\"444.0888888888889\" y=\"100\" width=\"147.9111111111111\" height=\"320\"/></clipPath></g><g class=\"gradients\"/><g class=\"patterns\"/></defs><g class=\"bglayer\"><rect class=\"bg\" x=\"80\" y=\"100\" width=\"147.91111111111113\" height=\"320\" style=\"fill: rgb(229, 236, 246); fill-opacity: 1; stroke-width: 0;\"/><rect class=\"bg\" x=\"262.0444444444445\" y=\"100\" width=\"147.91111111111113\" height=\"320\" style=\"fill: rgb(229, 236, 246); fill-opacity: 1; stroke-width: 0;\"/><rect class=\"bg\" x=\"444.0888888888889\" y=\"100\" width=\"147.9111111111111\" height=\"320\" style=\"fill: rgb(229, 236, 246); fill-opacity: 1; stroke-width: 0;\"/></g><g class=\"layer-below\"><g class=\"imagelayer\"/><g class=\"shapelayer\"/></g><g class=\"cartesianlayer\"><g class=\"subplot xy\"><g class=\"layer-subplot\"><g class=\"shapelayer\"/><g class=\"imagelayer\"/></g><g class=\"minor-gridlayer\"><g class=\"x\"/><g class=\"y\"/></g><g class=\"gridlayer\"><g class=\"x\"/><g class=\"y\"><path class=\"ygrid crisp\" transform=\"translate(0,350.39)\" d=\"M80,0h147.91111111111113\" style=\"stroke: rgb(255, 255, 255); stroke-opacity: 1; stroke-width: 1px;\"/><path class=\"ygrid crisp\" transform=\"translate(0,280.78999999999996)\" d=\"M80,0h147.91111111111113\" style=\"stroke: rgb(255, 255, 255); stroke-opacity: 1; stroke-width: 1px;\"/><path class=\"ygrid crisp\" transform=\"translate(0,211.18)\" d=\"M80,0h147.91111111111113\" style=\"stroke: rgb(255, 255, 255); stroke-opacity: 1; stroke-width: 1px;\"/><path class=\"ygrid crisp\" transform=\"translate(0,141.57999999999998)\" d=\"M80,0h147.91111111111113\" style=\"stroke: rgb(255, 255, 255); stroke-opacity: 1; stroke-width: 1px;\"/></g></g><g class=\"zerolinelayer\"><path class=\"yzl zl crisp\" transform=\"translate(0,420)\" d=\"M80,0h147.91111111111113\" style=\"stroke: rgb(255, 255, 255); stroke-opacity: 1; stroke-width: 2px;\"/></g><g class=\"layer-between\"><g class=\"shapelayer\"/><g class=\"imagelayer\"/></g><path class=\"xlines-below\"/><path class=\"ylines-below\"/><g class=\"overlines-below\"/><g class=\"xaxislayer-below\"/><g class=\"yaxislayer-below\"/><g class=\"overaxes-below\"/><g class=\"overplot\"><g class=\"xy\" transform=\"translate(80,100)\" clip-path=\"url(#clip757cd6xyplot)\"><g class=\"barlayer mlayer\"><g class=\"trace bars\" style=\"opacity: 1;\"><g class=\"points\"><g class=\"point\"><path d=\"M7.4,320V148H36.98V320Z\" style=\"vector-effect: none; opacity: 1; stroke-width: 0px; fill: rgb(99, 110, 250); fill-opacity: 1;\"/></g><g class=\"point\"><path d=\"M81.35,320V143.97H110.93V320Z\" style=\"vector-effect: none; opacity: 1; stroke-width: 0px; fill: rgb(99, 110, 250); fill-opacity: 1;\"/></g></g></g><g class=\"trace bars\" style=\"opacity: 1;\"><g class=\"points\"><g class=\"point\"><path d=\"M36.98,320V16H66.56V320Z\" style=\"vector-effect: none; opacity: 1; stroke-width: 0px; fill: rgb(239, 85, 59); fill-opacity: 1;\"/></g><g class=\"point\"><path d=\"M110.93,320V275.97H140.52V320Z\" style=\"vector-effect: none; opacity: 1; stroke-width: 0px; fill: rgb(239, 85, 59); fill-opacity: 1;\"/></g></g></g></g></g></g><path class=\"xlines-above crisp\" d=\"M0,0\" style=\"fill: none;\"/><path class=\"ylines-above crisp\" d=\"M0,0\" style=\"fill: none;\"/><g class=\"overlines-above\"/><g class=\"xaxislayer-above\"><g class=\"xtick\"><text text-anchor=\"start\" x=\"0\" y=\"433\" transform=\"translate(116.97999999999999,0) rotate(29.999999999999996,0,427)\" style=\"font-family: 'Open Sans', verdana, arial, sans-serif; font-size: 12px; fill: rgb(42, 63, 95); fill-opacity: 1; white-space: pre; opacity: 1;\">Salary &#60; $50k</text></g><g class=\"xtick\"><text text-anchor=\"start\" x=\"0\" y=\"433\" transform=\"translate(190.93,0) rotate(29.999999999999996,0,427)\" style=\"font-family: 'Open Sans', verdana, arial, sans-serif; font-size: 12px; fill: rgb(42, 63, 95); fill-opacity: 1; white-space: pre; opacity: 1;\">Salary >= $50k</text></g></g><g class=\"yaxislayer-above\"><g class=\"ytick\"><text text-anchor=\"end\" x=\"79\" y=\"4.199999999999999\" transform=\"translate(0,420)\" style=\"font-family: 'Open Sans', verdana, arial, sans-serif; font-size: 12px; fill: rgb(42, 63, 95); fill-opacity: 1; white-space: pre; opacity: 1;\">0</text></g><g class=\"ytick\"><text text-anchor=\"end\" x=\"79\" y=\"4.199999999999999\" style=\"font-family: 'Open Sans', verdana, arial, sans-serif; font-size: 12px; fill: rgb(42, 63, 95); fill-opacity: 1; white-space: pre; opacity: 1;\" transform=\"translate(0,350.39)\">0.2</text></g><g class=\"ytick\"><text text-anchor=\"end\" x=\"79\" y=\"4.199999999999999\" style=\"font-family: 'Open Sans', verdana, arial, sans-serif; font-size: 12px; fill: rgb(42, 63, 95); fill-opacity: 1; white-space: pre; opacity: 1;\" transform=\"translate(0,280.78999999999996)\">0.4</text></g><g class=\"ytick\"><text text-anchor=\"end\" x=\"79\" y=\"4.199999999999999\" style=\"font-family: 'Open Sans', verdana, arial, sans-serif; font-size: 12px; fill: rgb(42, 63, 95); fill-opacity: 1; white-space: pre; opacity: 1;\" transform=\"translate(0,211.18)\">0.6</text></g><g class=\"ytick\"><text text-anchor=\"end\" x=\"79\" y=\"4.199999999999999\" style=\"font-family: 'Open Sans', verdana, arial, sans-serif; font-size: 12px; fill: rgb(42, 63, 95); fill-opacity: 1; white-space: pre; opacity: 1;\" transform=\"translate(0,141.57999999999998)\">0.8</text></g></g><g class=\"overaxes-above\"/></g><g class=\"subplot x2y2\"><g class=\"layer-subplot\"><g class=\"shapelayer\"/><g class=\"imagelayer\"/></g><g class=\"minor-gridlayer\"><g class=\"x2\"/><g class=\"y2\"/></g><g class=\"gridlayer\"><g class=\"x2\"/><g class=\"y2\"><path class=\"y2grid crisp\" transform=\"translate(0,350.39)\" d=\"M262.0444444444445,0h147.91111111111113\" style=\"stroke: rgb(255, 255, 255); stroke-opacity: 1; stroke-width: 1px;\"/><path class=\"y2grid crisp\" transform=\"translate(0,280.78999999999996)\" d=\"M262.0444444444445,0h147.91111111111113\" style=\"stroke: rgb(255, 255, 255); stroke-opacity: 1; stroke-width: 1px;\"/><path class=\"y2grid crisp\" transform=\"translate(0,211.18)\" d=\"M262.0444444444445,0h147.91111111111113\" style=\"stroke: rgb(255, 255, 255); stroke-opacity: 1; stroke-width: 1px;\"/><path class=\"y2grid crisp\" transform=\"translate(0,141.57999999999998)\" d=\"M262.0444444444445,0h147.91111111111113\" style=\"stroke: rgb(255, 255, 255); stroke-opacity: 1; stroke-width: 1px;\"/></g></g><g class=\"zerolinelayer\"><path class=\"y2zl zl crisp\" transform=\"translate(0,420)\" d=\"M262.0444444444445,0h147.91111111111113\" style=\"stroke: rgb(255, 255, 255); stroke-opacity: 1; stroke-width: 2px;\"/></g><g class=\"layer-between\"><g class=\"shapelayer\"/><g class=\"imagelayer\"/></g><path class=\"xlines-below\"/><path class=\"ylines-below\"/><g class=\"overlines-below\"/><g class=\"xaxislayer-below\"/><g class=\"yaxislayer-below\"/><g class=\"overaxes-below\"/><g class=\"overplot\"><g class=\"x2y2\" transform=\"translate(262.0444444444445,100)\" clip-path=\"url(#clip757cd6x2y2plot)\"><g class=\"barlayer mlayer\"><g class=\"trace bars\" style=\"opacity: 1;\"><g class=\"points\"><g class=\"point\"><path d=\"M7.4,320V103.74H36.98V320Z\" style=\"vector-effect: none; opacity: 1; stroke-width: 0px; fill: rgb(99, 110, 250); fill-opacity: 1;\"/></g><g class=\"point\"><path d=\"M81.35,320V188.23H110.93V320Z\" style=\"vector-effect: none; opacity: 1; stroke-width: 0px; fill: rgb(99, 110, 250); fill-opacity: 1;\"/></g></g></g><g class=\"trace bars\" style=\"opacity: 1;\"><g class=\"points\"><g class=\"point\"><path d=\"M36.98,320V45.35H66.56V320Z\" style=\"vector-effect: none; opacity: 1; stroke-width: 0px; fill: rgb(239, 85, 59); fill-opacity: 1;\"/></g><g class=\"point\"><path d=\"M110.93,320V246.62H140.52V320Z\" style=\"vector-effect: none; opacity: 1; stroke-width: 0px; fill: rgb(239, 85, 59); fill-opacity: 1;\"/></g></g></g></g></g></g><path class=\"xlines-above crisp\" d=\"M0,0\" style=\"fill: none;\"/><path class=\"ylines-above crisp\" d=\"M0,0\" style=\"fill: none;\"/><g class=\"overlines-above\"/><g class=\"xaxislayer-above\"><g class=\"x2tick\"><text text-anchor=\"start\" x=\"0\" y=\"433\" transform=\"translate(299.0244444444445,0) rotate(29.999999999999996,0,427)\" style=\"font-family: 'Open Sans', verdana, arial, sans-serif; font-size: 12px; fill: rgb(42, 63, 95); fill-opacity: 1; white-space: pre; opacity: 1;\">Salary &#60; $50k</text></g><g class=\"x2tick\"><text text-anchor=\"start\" x=\"0\" y=\"433\" transform=\"translate(372.9744444444445,0) rotate(29.999999999999996,0,427)\" style=\"font-family: 'Open Sans', verdana, arial, sans-serif; font-size: 12px; fill: rgb(42, 63, 95); fill-opacity: 1; white-space: pre; opacity: 1;\">Salary >= $50k</text></g></g><g class=\"yaxislayer-above\"/><g class=\"overaxes-above\"/></g><g class=\"subplot x3y3\"><g class=\"layer-subplot\"><g class=\"shapelayer\"/><g class=\"imagelayer\"/></g><g class=\"minor-gridlayer\"><g class=\"x3\"/><g class=\"y3\"/></g><g class=\"gridlayer\"><g class=\"x3\"/><g class=\"y3\"><path class=\"y3grid crisp\" transform=\"translate(0,350.39)\" d=\"M444.0888888888889,0h147.9111111111111\" style=\"stroke: rgb(255, 255, 255); stroke-opacity: 1; stroke-width: 1px;\"/><path class=\"y3grid crisp\" transform=\"translate(0,280.78999999999996)\" d=\"M444.0888888888889,0h147.9111111111111\" style=\"stroke: rgb(255, 255, 255); stroke-opacity: 1; stroke-width: 1px;\"/><path class=\"y3grid crisp\" transform=\"translate(0,211.18)\" d=\"M444.0888888888889,0h147.9111111111111\" style=\"stroke: rgb(255, 255, 255); stroke-opacity: 1; stroke-width: 1px;\"/><path class=\"y3grid crisp\" transform=\"translate(0,141.57999999999998)\" d=\"M444.0888888888889,0h147.9111111111111\" style=\"stroke: rgb(255, 255, 255); stroke-opacity: 1; stroke-width: 1px;\"/></g></g><g class=\"zerolinelayer\"><path class=\"y3zl zl crisp\" transform=\"translate(0,420)\" d=\"M444.0888888888889,0h147.9111111111111\" style=\"stroke: rgb(255, 255, 255); stroke-opacity: 1; stroke-width: 2px;\"/></g><g class=\"layer-between\"><g class=\"shapelayer\"/><g class=\"imagelayer\"/></g><path class=\"xlines-below\"/><path class=\"ylines-below\"/><g class=\"overlines-below\"/><g class=\"xaxislayer-below\"/><g class=\"yaxislayer-below\"/><g class=\"overaxes-below\"/><g class=\"overplot\"><g class=\"x3y3\" transform=\"translate(444.0888888888889,100)\" clip-path=\"url(#clip757cd6x3y3plot)\"><g class=\"barlayer mlayer\"><g class=\"trace bars\" style=\"opacity: 1;\"><g class=\"points\"><g class=\"point\"><path d=\"M7.4,320V171.13H36.98V320Z\" style=\"vector-effect: none; opacity: 1; stroke-width: 0px; fill: rgb(99, 110, 250); fill-opacity: 1;\"/></g><g class=\"point\"><path d=\"M81.35,320V120.84H110.93V320Z\" style=\"vector-effect: none; opacity: 1; stroke-width: 0px; fill: rgb(99, 110, 250); fill-opacity: 1;\"/></g></g></g><g class=\"trace bars\" style=\"opacity: 1;\"><g class=\"points\"><g class=\"point\"><path d=\"M36.98,320V181.63H66.56V320Z\" style=\"vector-effect: none; opacity: 1; stroke-width: 0px; fill: rgb(239, 85, 59); fill-opacity: 1;\"/></g><g class=\"point\"><path d=\"M110.93,320V110.34H140.52V320Z\" style=\"vector-effect: none; opacity: 1; stroke-width: 0px; fill: rgb(239, 85, 59); fill-opacity: 1;\"/></g></g></g></g></g></g><path class=\"xlines-above crisp\" d=\"M0,0\" style=\"fill: none;\"/><path class=\"ylines-above crisp\" d=\"M0,0\" style=\"fill: none;\"/><g class=\"overlines-above\"/><g class=\"xaxislayer-above\"><g class=\"x3tick\"><text text-anchor=\"start\" x=\"0\" y=\"433\" transform=\"translate(481.0688888888889,0) rotate(29.999999999999996,0,427)\" style=\"font-family: 'Open Sans', verdana, arial, sans-serif; font-size: 12px; fill: rgb(42, 63, 95); fill-opacity: 1; white-space: pre; opacity: 1;\">Salary &#60; $50k</text></g><g class=\"x3tick\"><text text-anchor=\"start\" x=\"0\" y=\"433\" transform=\"translate(555.0188888888889,0) rotate(29.999999999999996,0,427)\" style=\"font-family: 'Open Sans', verdana, arial, sans-serif; font-size: 12px; fill: rgb(42, 63, 95); fill-opacity: 1; white-space: pre; opacity: 1;\">Salary >= $50k</text></g></g><g class=\"yaxislayer-above\"/><g class=\"overaxes-above\"/></g></g><g class=\"polarlayer\"/><g class=\"smithlayer\"/><g class=\"ternarylayer\"/><g class=\"geolayer\"/><g class=\"funnelarealayer\"/><g class=\"pielayer\"/><g class=\"iciclelayer\"/><g class=\"treemaplayer\"/><g class=\"sunburstlayer\"/><g class=\"glimages\"/><defs id=\"topdefs-757cd6\"><g class=\"clips\"/><clipPath id=\"legend757cd6\"><rect width=\"86\" height=\"77\" x=\"0\" y=\"0\"/></clipPath></defs><g class=\"layer-above\"><g class=\"imagelayer\"/><g class=\"shapelayer\"/></g><g class=\"infolayer\"><g class=\"legend\" pointer-events=\"all\" transform=\"translate(602.24,100)\"><rect class=\"bg\" shape-rendering=\"crispEdges\" style=\"stroke: rgb(68, 68, 68); stroke-opacity: 1; fill: rgb(255, 255, 255); fill-opacity: 1; stroke-width: 0px;\" width=\"86\" height=\"77\" x=\"0\" y=\"0\"/><g class=\"scrollbox\" transform=\"\" clip-path=\"url(#legend757cd6)\"><text class=\"legendtitletext\" text-anchor=\"start\" x=\"2\" y=\"18.2\" style=\"font-family: 'Open Sans', verdana, arial, sans-serif; font-size: 14px; fill: rgb(42, 63, 95); fill-opacity: 1; white-space: pre;\">Sex</text><g class=\"groups\" transform=\"\"><g class=\"traces\" transform=\"translate(0,32.7)\" style=\"opacity: 1;\"><text class=\"legendtext\" text-anchor=\"start\" x=\"40\" y=\"4.680000000000001\" style=\"font-family: 'Open Sans', verdana, arial, sans-serif; font-size: 12px; fill: rgb(42, 63, 95); fill-opacity: 1; white-space: pre;\">Male</text><g class=\"layers\" style=\"opacity: 1;\"><g class=\"legendfill\"/><g class=\"legendlines\"/><g class=\"legendsymbols\"><g class=\"legendpoints\"><path class=\"legendundefined\" d=\"M6,6H-6V-6H6Z\" transform=\"translate(20,0)\" style=\"stroke-width: 0px; fill: rgb(99, 110, 250); fill-opacity: 1;\"/></g></g></g><rect class=\"legendtoggle\" x=\"0\" y=\"-9.5\" width=\"80.33984375\" height=\"19\" style=\"fill: rgb(0, 0, 0); fill-opacity: 0;\"/></g></g><g class=\"groups\" transform=\"translate(0,10)\"><g class=\"traces\" transform=\"translate(0,51.7)\" style=\"opacity: 1;\"><text class=\"legendtext\" text-anchor=\"start\" x=\"40\" y=\"4.680000000000001\" style=\"font-family: 'Open Sans', verdana, arial, sans-serif; font-size: 12px; fill: rgb(42, 63, 95); fill-opacity: 1; white-space: pre;\">Female</text><g class=\"layers\" style=\"opacity: 1;\"><g class=\"legendfill\"/><g class=\"legendlines\"/><g class=\"legendsymbols\"><g class=\"legendpoints\"><path class=\"legendundefined\" d=\"M6,6H-6V-6H6Z\" transform=\"translate(20,0)\" style=\"stroke-width: 0px; fill: rgb(239, 85, 59); fill-opacity: 1;\"/></g></g></g><rect class=\"legendtoggle\" x=\"0\" y=\"-9.5\" width=\"80.33984375\" height=\"19\" style=\"fill: rgb(0, 0, 0); fill-opacity: 0;\"/></g></g></g><rect class=\"scrollbar\" rx=\"20\" ry=\"3\" width=\"0\" height=\"0\" style=\"fill: rgb(128, 139, 164); fill-opacity: 1;\" x=\"0\" y=\"0\"/></g><g class=\"g-gtitle\"/><g class=\"g-xtitle\"/><g class=\"g-x2title\"/><g class=\"g-x3title\"/><g class=\"g-ytitle\"/><g class=\"g-y2title\"/><g class=\"g-y3title\"/><g class=\"annotation\" data-index=\"0\" style=\"opacity: 1;\"><g class=\"annotation-text-g\" transform=\"rotate(0,153.95555555555558,89.49999999999999)\"><g class=\"cursor-pointer\" transform=\"translate(-92,79)\"><rect class=\"bg\" x=\"0.5\" y=\"0.5\" width=\"491\" height=\"20\" style=\"stroke-width: 1px; stroke: rgb(0, 0, 0); stroke-opacity: 0; fill: rgb(0, 0, 0); fill-opacity: 0;\"/><text class=\"annotation-text\" text-anchor=\"middle\" x=\"245.671875\" y=\"16\" style=\"font-family: 'Open Sans', verdana, arial, sans-serif; font-size: 16px; fill: rgb(42, 63, 95); fill-opacity: 1; white-space: pre;\">Predictions Controlling for workclass, education, and hours-per-week</text></g></g></g><g class=\"annotation\" data-index=\"1\" style=\"opacity: 1;\"><g class=\"annotation-text-g\" transform=\"rotate(0,336,89.49999999999999)\"><g class=\"cursor-pointer\" transform=\"translate(88,79)\"><rect class=\"bg\" x=\"0.5\" y=\"0.5\" width=\"496\" height=\"20\" style=\"stroke-width: 1px; stroke: rgb(0, 0, 0); stroke-opacity: 0; fill: rgb(0, 0, 0); fill-opacity: 0;\"/><text class=\"annotation-text\" text-anchor=\"middle\" x=\"248.3515625\" y=\"16\" style=\"font-family: 'Open Sans', verdana, arial, sans-serif; font-size: 16px; fill: rgb(42, 63, 95); fill-opacity: 1; white-space: pre;\">Predictions w/ previous plus ignoring relationship and marriage-status</text></g></g></g><g class=\"annotation\" data-index=\"2\" style=\"opacity: 1;\"><g class=\"annotation-text-g\" transform=\"rotate(0,518.0444444444445,89.49999999999999)\"><g class=\"cursor-pointer\" transform=\"translate(351,79)\"><rect class=\"bg\" x=\"0.5\" y=\"0.5\" width=\"333\" height=\"20\" style=\"stroke-width: 1px; stroke: rgb(0, 0, 0); stroke-opacity: 0; fill: rgb(0, 0, 0); fill-opacity: 0;\"/><text class=\"annotation-text\" text-anchor=\"middle\" x=\"166.96875\" y=\"16\" style=\"font-family: 'Open Sans', verdana, arial, sans-serif; font-size: 16px; fill: rgb(42, 63, 95); fill-opacity: 1; white-space: pre;\">Predictions w/ previous plus same age bracket</text></g></g></g><g class=\"annotation\" data-index=\"3\" style=\"opacity: 1;\"><g class=\"annotation-text-g\" transform=\"rotate(0,336,460.5)\"><g class=\"cursor-pointer\" transform=\"translate(312,450)\"><rect class=\"bg\" x=\"0.5\" y=\"0.5\" width=\"48\" height=\"20\" style=\"stroke-width: 1px; stroke: rgb(0, 0, 0); stroke-opacity: 0; fill: rgb(0, 0, 0); fill-opacity: 0;\"/><text class=\"annotation-text\" text-anchor=\"middle\" x=\"24.234375\" y=\"16\" style=\"font-family: 'Open Sans', verdana, arial, sans-serif; font-size: 16px; fill: rgb(42, 63, 95); fill-opacity: 1; white-space: pre;\">Target</text></g></g></g><g class=\"annotation\" data-index=\"4\" style=\"opacity: 1;\"><g class=\"annotation-text-g\" transform=\"rotate(-90,29.5,260)\"><g class=\"cursor-pointer\" transform=\"translate(6,250)\"><rect class=\"bg\" x=\"0.5\" y=\"0.5\" width=\"46\" height=\"20\" style=\"stroke-width: 1px; stroke: rgb(0, 0, 0); stroke-opacity: 0; fill: rgb(0, 0, 0); fill-opacity: 0;\"/><text class=\"annotation-text\" text-anchor=\"middle\" x=\"23.3515625\" y=\"16\" style=\"font-family: 'Open Sans', verdana, arial, sans-serif; font-size: 16px; fill: rgb(42, 63, 95); fill-opacity: 1; white-space: pre;\">Count</text></g></g></g></g></svg>"
      ]
     },
     "metadata": {},
     "output_type": "display_data"
    }
   ],
   "source": [
    "display_df = X_test.replace({\n",
    "    \"sex\": {0: \"Female\", 1: \"Male\"},\n",
    "    \"target\": {0: \"Salary >= $50k\", 1: \"Salary < $50k\"}\n",
    "})\n",
    "\n",
    "fa = px.histogram(\n",
    "    display_output_a,\n",
    "    x=\"target\",\n",
    "    barmode=\"group\",\n",
    "    color=display_df.sex,\n",
    "    title=\"Predictions Controlling for\\nworkclass, education, and hours-per-week\",\n",
    "    histnorm=\"probability density\",\n",
    ")\n",
    "\n",
    "fb = px.histogram(\n",
    "    display_output_b,\n",
    "    x=\"target\",\n",
    "    barmode=\"group\",\n",
    "    color=display_df.sex,\n",
    "    title=\"Predictions w/ previous plus\\nignoring relationship and marriage-status\",\n",
    "    histnorm=\"probability density\",\n",
    ")\n",
    "\n",
    "fc = px.histogram(\n",
    "    display_output_c,\n",
    "    x=\"target\",\n",
    "    barmode=\"group\",\n",
    "    color=display_df.sex,\n",
    "    title=\"Predictions w/ previous plus\\nsame age bracket\",\n",
    "    histnorm=\"probability density\",\n",
    ")\n",
    "\n",
    "fig = compose_figures([fa, fb, fc], 1, 3, shared_yaxes=True, x_title=\"Target\", y_title=\"Count\")\n",
    "fig.update_layout(legend_title_text=\"Sex\", width=2000, height=650)\n",
    "fig.update_xaxes(categoryorder=\"array\", categoryarray=[\"Salary < $50k\", \"Salary >= $50k\"])\n",
    "fig.show()"
   ]
  },
  {
   "attachments": {},
   "cell_type": "markdown",
   "metadata": {},
   "source": [
    "\n",
    "# Conclusion and next steps\n",
    "\n",
    "As shown, Howso Engine enables effective data exploration and bias mitigation on a single model with one train and analysis. This should not be done without ample consideration, as data bias is not always a straightforward phenomenon. We see that if we control for certain features, we were likely to improve the quality of our Trainee without grealy impacting the performance, while for other features, the performance impact may be too strong. This means we must be selective in what we adjust for, and in our example, adjusting for `Age` is most likely not recommended due to the performance and lack of intuition on its bias. \n",
    "\n",
    "This recipe is meant to show a useful, unique, and thought-provoking use case. It is also meant to start opening up the door of possibilities of using Howso Engine. There are countless other use cases that the user may wish to explore and we leave that up to the user to continue. "
   ]
  }
 ],
 "metadata": {
  "kernelspec": {
   "display_name": "engine-recipes-3.9",
   "language": "python",
   "name": "python3"
  },
  "language_info": {
   "codemirror_mode": {
    "name": "ipython",
    "version": 3
   },
   "file_extension": ".py",
   "mimetype": "text/x-python",
   "name": "python",
   "nbconvert_exporter": "python",
   "pygments_lexer": "ipython3",
   "version": "3.10.18"
  }
 },
 "nbformat": 4,
 "nbformat_minor": 4
}
