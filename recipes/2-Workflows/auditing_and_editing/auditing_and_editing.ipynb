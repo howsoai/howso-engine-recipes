{
 "cells": [
  {
   "attachments": {},
   "cell_type": "markdown",
   "id": "69d7ac54-9a3b-4327-93a5-eb6fbf314530",
   "metadata": {
    "tags": []
   },
   "source": [
    "# Auditing and Editing\n",
    "## Overview \n",
    "\n",
    "Howso Engine's instance-based machine learning approach enables unique capabilities in addition to interpretability, which we learned about in the other recipes. We were able to detect possible anomalies and investigate Influential Cases and features that may be of concern. Using that information combined with Howso Engine giving us dynamic control over our Trainee, we can take meaningful action without having to dramatically incur additional expenses such as recreating the model. This is in contrast to most machine learning models which, once trained, are difficult to update without retraining the entire model. \n",
    "\n",
    "In this notebook we demonstrate the editability of a Howso Engine Trainee to take advantage of the Trainee and data diagnostic results shown from the `engine-insights.ipynb` recipe. \n",
    "\n",
    "This can be done on a small scale where we show how a case can be edited or removed to modify the behavior of the Trainee. A Howso Engine session allows us to toggle entire batches of training data and add/remove large chunks of training data. This can be very useful if we are continously adding data to our Trainee and we discover that certain batches are undesirable.\n",
    "\n",
    "### Sessions\n",
    "\n",
    "A Trainee Session is associated with each modification to a Trainee, which is useful for auditability. A session consists of the following information:  \n",
    "\n",
    "- Unique identifier  \n",
    "\n",
    "- The user for which the Session was created  \n",
    "\n",
    "- Date the Session was created \n",
    "\n",
    "- Name, given by the user (Optional) \n",
    "\n",
    "- Metadata for the user to store information (Optional) \n",
    "\n",
    "When working with Trainees, a default session will be automatically started for you unless you explicitly start (or create) your own. This session will be used for all interactions with the Trainee, unless a new session is explicitly started, for as long as your client is running. Additionally, each instance of a Howso Client will use its own unique active session. Starting a new session explicitly is useful if you want to give it a name and/or metadata for your own reference later, or if you wish to use separate sessions for different modifications of the Trainee. For example, using a unique session each time you train would allow you to later reference the specific cases that were trained by a certain session. \n"
   ]
  },
  {
   "attachments": {},
   "cell_type": "markdown",
   "id": "8c9eefe9",
   "metadata": {},
   "source": [
    "## Recipe Goals:\n",
    "\n",
    "This notebook will show how to edit cases in a Howso Engine Trainee, either individually or in batches through the use of Sessions. This will allow the user to take actions on cases they deem necessary through use of the interpretability and auditing tools shown in other recipes."
   ]
  },
  {
   "cell_type": "code",
   "execution_count": 1,
   "id": "f6cbaf0d-4f1f-410d-9cfd-1114f34c8c00",
   "metadata": {
    "execution": {
     "iopub.execute_input": "2024-09-04T22:26:32.394537Z",
     "iopub.status.busy": "2024-09-04T22:26:32.394347Z",
     "iopub.status.idle": "2024-09-04T22:26:32.797112Z",
     "shell.execute_reply": "2024-09-04T22:26:32.796472Z"
    }
   },
   "outputs": [],
   "source": [
    "import pandas as pd\n",
    "from pmlb import fetch_data\n",
    "\n",
    "from howso import engine\n",
    "from howso.utilities import infer_feature_attributes"
   ]
  },
  {
   "attachments": {},
   "cell_type": "markdown",
   "id": "f02595ed-6e01-4c05-91de-67c938fd402d",
   "metadata": {},
   "source": [
    "# Section 1: Train, Analyze, and Evaluate"
   ]
  },
  {
   "attachments": {},
   "cell_type": "markdown",
   "id": "8a1f5ffa-d96e-44b8-9152-9e7811b6f9b4",
   "metadata": {},
   "source": [
    "For questions about the specific steps of this section, please see the [basic workflow guide](https://docs.howso.com/user_guide/basics/basic_workflow.html).\n",
    "\n",
    "### Step 1: Load Data\n",
    "\n",
    "Our example dataset for this recipe continues to be the well known `Adult` dataset. This dataset consists of 14 Context Features and 1 Action Feature. The Action Feature in this version of the `Adult` dataset has been renamed to `target` and it takes the form of a binary indicator for whether a person in the data makes over $50,000/year (*target*=1) or less (*target*=0)."
   ]
  },
  {
   "cell_type": "code",
   "execution_count": 2,
   "id": "e5a7a925-5a9d-47fb-b4a3-3272203d4772",
   "metadata": {
    "execution": {
     "iopub.execute_input": "2024-09-04T22:26:32.800160Z",
     "iopub.status.busy": "2024-09-04T22:26:32.799917Z",
     "iopub.status.idle": "2024-09-04T22:26:32.868310Z",
     "shell.execute_reply": "2024-09-04T22:26:32.867723Z"
    }
   },
   "outputs": [
    {
     "data": {
      "text/html": [
       "<div>\n",
       "<style scoped>\n",
       "    .dataframe tbody tr th:only-of-type {\n",
       "        vertical-align: middle;\n",
       "    }\n",
       "\n",
       "    .dataframe tbody tr th {\n",
       "        vertical-align: top;\n",
       "    }\n",
       "\n",
       "    .dataframe thead th {\n",
       "        text-align: right;\n",
       "    }\n",
       "</style>\n",
       "<table border=\"1\" class=\"dataframe\">\n",
       "  <thead>\n",
       "    <tr style=\"text-align: right;\">\n",
       "      <th></th>\n",
       "      <th>age</th>\n",
       "      <th>workclass</th>\n",
       "      <th>fnlwgt</th>\n",
       "      <th>education</th>\n",
       "      <th>education-num</th>\n",
       "      <th>marital-status</th>\n",
       "      <th>occupation</th>\n",
       "      <th>relationship</th>\n",
       "      <th>race</th>\n",
       "      <th>sex</th>\n",
       "      <th>capital-gain</th>\n",
       "      <th>capital-loss</th>\n",
       "      <th>hours-per-week</th>\n",
       "      <th>native-country</th>\n",
       "      <th>target</th>\n",
       "    </tr>\n",
       "  </thead>\n",
       "  <tbody>\n",
       "    <tr>\n",
       "      <th>38113</th>\n",
       "      <td>41.0</td>\n",
       "      <td>4</td>\n",
       "      <td>151856.0</td>\n",
       "      <td>11</td>\n",
       "      <td>9.0</td>\n",
       "      <td>2</td>\n",
       "      <td>11</td>\n",
       "      <td>0</td>\n",
       "      <td>4</td>\n",
       "      <td>1</td>\n",
       "      <td>0.0</td>\n",
       "      <td>0.0</td>\n",
       "      <td>40.0</td>\n",
       "      <td>39</td>\n",
       "      <td>1</td>\n",
       "    </tr>\n",
       "    <tr>\n",
       "      <th>39214</th>\n",
       "      <td>57.0</td>\n",
       "      <td>6</td>\n",
       "      <td>87584.0</td>\n",
       "      <td>10</td>\n",
       "      <td>16.0</td>\n",
       "      <td>0</td>\n",
       "      <td>10</td>\n",
       "      <td>1</td>\n",
       "      <td>4</td>\n",
       "      <td>0</td>\n",
       "      <td>0.0</td>\n",
       "      <td>0.0</td>\n",
       "      <td>25.0</td>\n",
       "      <td>39</td>\n",
       "      <td>1</td>\n",
       "    </tr>\n",
       "    <tr>\n",
       "      <th>44248</th>\n",
       "      <td>31.0</td>\n",
       "      <td>2</td>\n",
       "      <td>220669.0</td>\n",
       "      <td>9</td>\n",
       "      <td>13.0</td>\n",
       "      <td>4</td>\n",
       "      <td>10</td>\n",
       "      <td>3</td>\n",
       "      <td>4</td>\n",
       "      <td>0</td>\n",
       "      <td>6849.0</td>\n",
       "      <td>0.0</td>\n",
       "      <td>40.0</td>\n",
       "      <td>39</td>\n",
       "      <td>1</td>\n",
       "    </tr>\n",
       "    <tr>\n",
       "      <th>10283</th>\n",
       "      <td>55.0</td>\n",
       "      <td>4</td>\n",
       "      <td>171355.0</td>\n",
       "      <td>8</td>\n",
       "      <td>11.0</td>\n",
       "      <td>2</td>\n",
       "      <td>7</td>\n",
       "      <td>0</td>\n",
       "      <td>4</td>\n",
       "      <td>1</td>\n",
       "      <td>0.0</td>\n",
       "      <td>0.0</td>\n",
       "      <td>20.0</td>\n",
       "      <td>39</td>\n",
       "      <td>1</td>\n",
       "    </tr>\n",
       "    <tr>\n",
       "      <th>26724</th>\n",
       "      <td>59.0</td>\n",
       "      <td>6</td>\n",
       "      <td>148626.0</td>\n",
       "      <td>0</td>\n",
       "      <td>6.0</td>\n",
       "      <td>2</td>\n",
       "      <td>5</td>\n",
       "      <td>0</td>\n",
       "      <td>4</td>\n",
       "      <td>1</td>\n",
       "      <td>0.0</td>\n",
       "      <td>0.0</td>\n",
       "      <td>40.0</td>\n",
       "      <td>39</td>\n",
       "      <td>1</td>\n",
       "    </tr>\n",
       "    <tr>\n",
       "      <th>...</th>\n",
       "      <td>...</td>\n",
       "      <td>...</td>\n",
       "      <td>...</td>\n",
       "      <td>...</td>\n",
       "      <td>...</td>\n",
       "      <td>...</td>\n",
       "      <td>...</td>\n",
       "      <td>...</td>\n",
       "      <td>...</td>\n",
       "      <td>...</td>\n",
       "      <td>...</td>\n",
       "      <td>...</td>\n",
       "      <td>...</td>\n",
       "      <td>...</td>\n",
       "      <td>...</td>\n",
       "    </tr>\n",
       "    <tr>\n",
       "      <th>4721</th>\n",
       "      <td>60.0</td>\n",
       "      <td>0</td>\n",
       "      <td>204486.0</td>\n",
       "      <td>9</td>\n",
       "      <td>13.0</td>\n",
       "      <td>2</td>\n",
       "      <td>0</td>\n",
       "      <td>0</td>\n",
       "      <td>4</td>\n",
       "      <td>1</td>\n",
       "      <td>0.0</td>\n",
       "      <td>0.0</td>\n",
       "      <td>8.0</td>\n",
       "      <td>39</td>\n",
       "      <td>0</td>\n",
       "    </tr>\n",
       "    <tr>\n",
       "      <th>40113</th>\n",
       "      <td>48.0</td>\n",
       "      <td>2</td>\n",
       "      <td>93449.0</td>\n",
       "      <td>14</td>\n",
       "      <td>15.0</td>\n",
       "      <td>2</td>\n",
       "      <td>10</td>\n",
       "      <td>0</td>\n",
       "      <td>1</td>\n",
       "      <td>1</td>\n",
       "      <td>99999.0</td>\n",
       "      <td>0.0</td>\n",
       "      <td>40.0</td>\n",
       "      <td>30</td>\n",
       "      <td>0</td>\n",
       "    </tr>\n",
       "    <tr>\n",
       "      <th>17827</th>\n",
       "      <td>25.0</td>\n",
       "      <td>4</td>\n",
       "      <td>114838.0</td>\n",
       "      <td>14</td>\n",
       "      <td>15.0</td>\n",
       "      <td>4</td>\n",
       "      <td>10</td>\n",
       "      <td>1</td>\n",
       "      <td>4</td>\n",
       "      <td>0</td>\n",
       "      <td>0.0</td>\n",
       "      <td>0.0</td>\n",
       "      <td>8.0</td>\n",
       "      <td>22</td>\n",
       "      <td>1</td>\n",
       "    </tr>\n",
       "    <tr>\n",
       "      <th>35120</th>\n",
       "      <td>22.0</td>\n",
       "      <td>4</td>\n",
       "      <td>202125.0</td>\n",
       "      <td>11</td>\n",
       "      <td>9.0</td>\n",
       "      <td>2</td>\n",
       "      <td>12</td>\n",
       "      <td>0</td>\n",
       "      <td>4</td>\n",
       "      <td>1</td>\n",
       "      <td>0.0</td>\n",
       "      <td>0.0</td>\n",
       "      <td>50.0</td>\n",
       "      <td>39</td>\n",
       "      <td>1</td>\n",
       "    </tr>\n",
       "    <tr>\n",
       "      <th>9138</th>\n",
       "      <td>27.0</td>\n",
       "      <td>0</td>\n",
       "      <td>61387.0</td>\n",
       "      <td>9</td>\n",
       "      <td>13.0</td>\n",
       "      <td>2</td>\n",
       "      <td>0</td>\n",
       "      <td>0</td>\n",
       "      <td>4</td>\n",
       "      <td>1</td>\n",
       "      <td>0.0</td>\n",
       "      <td>0.0</td>\n",
       "      <td>15.0</td>\n",
       "      <td>39</td>\n",
       "      <td>1</td>\n",
       "    </tr>\n",
       "  </tbody>\n",
       "</table>\n",
       "<p>1001 rows × 15 columns</p>\n",
       "</div>"
      ],
      "text/plain": [
       "        age  workclass    fnlwgt  education  education-num  marital-status  \\\n",
       "38113  41.0          4  151856.0         11            9.0               2   \n",
       "39214  57.0          6   87584.0         10           16.0               0   \n",
       "44248  31.0          2  220669.0          9           13.0               4   \n",
       "10283  55.0          4  171355.0          8           11.0               2   \n",
       "26724  59.0          6  148626.0          0            6.0               2   \n",
       "...     ...        ...       ...        ...            ...             ...   \n",
       "4721   60.0          0  204486.0          9           13.0               2   \n",
       "40113  48.0          2   93449.0         14           15.0               2   \n",
       "17827  25.0          4  114838.0         14           15.0               4   \n",
       "35120  22.0          4  202125.0         11            9.0               2   \n",
       "9138   27.0          0   61387.0          9           13.0               2   \n",
       "\n",
       "       occupation  relationship  race  sex  capital-gain  capital-loss  \\\n",
       "38113          11             0     4    1           0.0           0.0   \n",
       "39214          10             1     4    0           0.0           0.0   \n",
       "44248          10             3     4    0        6849.0           0.0   \n",
       "10283           7             0     4    1           0.0           0.0   \n",
       "26724           5             0     4    1           0.0           0.0   \n",
       "...           ...           ...   ...  ...           ...           ...   \n",
       "4721            0             0     4    1           0.0           0.0   \n",
       "40113          10             0     1    1       99999.0           0.0   \n",
       "17827          10             1     4    0           0.0           0.0   \n",
       "35120          12             0     4    1           0.0           0.0   \n",
       "9138            0             0     4    1           0.0           0.0   \n",
       "\n",
       "       hours-per-week  native-country  target  \n",
       "38113            40.0              39       1  \n",
       "39214            25.0              39       1  \n",
       "44248            40.0              39       1  \n",
       "10283            20.0              39       1  \n",
       "26724            40.0              39       1  \n",
       "...               ...             ...     ...  \n",
       "4721              8.0              39       0  \n",
       "40113            40.0              30       0  \n",
       "17827             8.0              22       1  \n",
       "35120            50.0              39       1  \n",
       "9138             15.0              39       1  \n",
       "\n",
       "[1001 rows x 15 columns]"
      ]
     },
     "execution_count": 2,
     "metadata": {},
     "output_type": "execute_result"
    }
   ],
   "source": [
    "df = fetch_data('adult', local_cache_dir=\"../../data/adult\")\n",
    "\n",
    "# subsample the data to ensure the example runs quickly\n",
    "df = df.sample(1001, random_state=0)\n",
    "\n",
    "df"
   ]
  },
  {
   "attachments": {},
   "cell_type": "markdown",
   "id": "35ec53b0-b623-427a-b2a6-8e55ebfef1bc",
   "metadata": {},
   "source": [
    "### Step 2: Train Trainee utilizing Sessions\n",
    "\n",
    "In this section we will perform all of the steps needed to train Howso Engine's Trainee."
   ]
  },
  {
   "cell_type": "code",
   "execution_count": 3,
   "id": "086a95e5-e236-4806-b6e4-65ea94f43f28",
   "metadata": {
    "execution": {
     "iopub.execute_input": "2024-09-04T22:26:32.870829Z",
     "iopub.status.busy": "2024-09-04T22:26:32.870642Z",
     "iopub.status.idle": "2024-09-04T22:26:32.894639Z",
     "shell.execute_reply": "2024-09-04T22:26:32.894064Z"
    }
   },
   "outputs": [],
   "source": [
    "# Infer features attributes\n",
    "features = infer_feature_attributes(df)\n",
    "\n",
    "# Specify Context and Action Features\n",
    "action_features = ['target']\n",
    "context_features = features.get_names(without=action_features)\n",
    "\n",
    "# We extract one row for demonstrative purposes later\n",
    "test_case = df.iloc[0]\n",
    "df = df.iloc[1:]\n",
    "\n",
    "# Split the data into Context Features (X) and Action Feature (y)\n",
    "dfX = df[context_features]\n",
    "dfy = df[action_features]"
   ]
  },
  {
   "attachments": {},
   "cell_type": "markdown",
   "id": "b83b096b-8bb1-482e-8ed2-dc7c2a7b2c90",
   "metadata": {},
   "source": [
    "To demonstrate how to edit cases, we will break the training into two sessions. \n",
    "\n",
    "1. The first session is for half of the original dataset \n",
    "2. The second session is a modified version of the remaining half of the original dataset containing a target feature that is flipped from the true value"
   ]
  },
  {
   "cell_type": "code",
   "execution_count": 4,
   "id": "df523c17",
   "metadata": {
    "execution": {
     "iopub.execute_input": "2024-09-04T22:26:32.897111Z",
     "iopub.status.busy": "2024-09-04T22:26:32.896916Z",
     "iopub.status.idle": "2024-09-04T22:26:32.902451Z",
     "shell.execute_reply": "2024-09-04T22:26:32.901912Z"
    }
   },
   "outputs": [],
   "source": [
    "ind_session_1 = dfX.index[ :(dfX.shape[0] //2 )]\n",
    "ind_session_2 = dfX.index[ (dfX.shape[0] //2 ):]\n",
    "\n",
    "X_train_1 = dfX.loc[ind_session_1]\n",
    "y_train_1 = dfy.loc[ind_session_1]\n",
    "\n",
    "X_train_2 = dfX.loc[ind_session_2]\n",
    "\n",
    "# Flip the target value for the second set of target feature values\n",
    "y_train = dfy['target']\n",
    "y_train_2 = pd.Series([int(not x) for x in y_train.loc[ind_session_2]], name=action_features[0], index=ind_session_2)"
   ]
  },
  {
   "cell_type": "code",
   "execution_count": 5,
   "id": "ab02d5f1-77b1-432f-a2ef-02009cb5cdb0",
   "metadata": {
    "execution": {
     "iopub.execute_input": "2024-09-04T22:26:32.905062Z",
     "iopub.status.busy": "2024-09-04T22:26:32.904698Z",
     "iopub.status.idle": "2024-09-04T22:26:48.271490Z",
     "shell.execute_reply": "2024-09-04T22:26:48.270872Z"
    }
   },
   "outputs": [],
   "source": [
    "# Create the Trainee\n",
    "t = engine.Trainee(\n",
    "    features=features,\n",
    "    overwrite_existing=True\n",
    ")\n",
    "\n",
    "session = engine.Session('train_session_1', metadata={'data': 'original data'})\n",
    "t.train(X_train_1.join(y_train_1))\n",
    "\n",
    "session = engine.Session('train_session_2', metadata={'data': 'modified data (flipped target values)'})\n",
    "t.train(X_train_2.join(y_train_2))\n",
    "\n",
    "# Analyze the Trainee\n",
    "t.analyze()"
   ]
  },
  {
   "attachments": {},
   "cell_type": "markdown",
   "id": "f07c698d",
   "metadata": {},
   "source": [
    "### Step 3: Inspect Results"
   ]
  },
  {
   "cell_type": "code",
   "execution_count": 6,
   "id": "45217946-f4aa-49e9-85d4-e4abd1282a77",
   "metadata": {
    "execution": {
     "iopub.execute_input": "2024-09-04T22:26:48.274829Z",
     "iopub.status.busy": "2024-09-04T22:26:48.274448Z",
     "iopub.status.idle": "2024-09-04T22:26:49.113209Z",
     "shell.execute_reply": "2024-09-04T22:26:49.112592Z"
    }
   },
   "outputs": [
    {
     "name": "stdout",
     "output_type": "stream",
     "text": [
      "Test set prediction accuracy: 0.491\n"
     ]
    }
   ],
   "source": [
    "accuracy = t.react_aggregate(\n",
    "    details = {\n",
    "    \"prediction_stats\": True,\n",
    "    \"selected_prediction_stats\": ['accuracy'],\n",
    "    }\n",
    ")['target'].iloc[0]\n",
    "\n",
    "print(\"Test set prediction accuracy: {acc}\".format(acc=accuracy))"
   ]
  },
  {
   "attachments": {},
   "cell_type": "markdown",
   "id": "d80eb77e",
   "metadata": {},
   "source": [
    "As expected, flipping the target feature's values for half of the data greatly reduces the accuracy compared to the expected accuracy shown in recipe `engine-intro.ipynb`.\n",
    "\n",
    "While it is unrealistic to know this ahead of time in a real world setting, we will use this stark result to clearly demonstrate the effect of Trainee editing.\n"
   ]
  },
  {
   "attachments": {},
   "cell_type": "markdown",
   "id": "98f3d772-0f56-4454-87dc-d24ff5cb40dd",
   "metadata": {},
   "source": [
    "# Section 2: Audit & Edit a Trainee"
   ]
  },
  {
   "attachments": {},
   "cell_type": "markdown",
   "id": "a48766ad",
   "metadata": {},
   "source": [
    "There are many reasons to audit and edit a Trainee. In other recipes, we highlighted several training cases that may be anomalous that may be candidates for removal. In this recipe, we have a entire chunk of training data that is incorrect. Howso Engine has the ability to edit data at different scales.\n",
    "\n",
    "What sets Howso Engine apart from other machine learning models is there is no need for retraining. For example, if we use `Scikit-Learn`'s Logistic regression and discover that our training data consists of cases we would like to remove, then we would have to go back to the beginning of the workflow, remove the problematic cases from the training data, and completely retrain the model.\n",
    "\n",
    "In Howso Engine, this is unnecessary unless a very large portion of the training data is altered. If this is the case, re-analyzing the Trainee may be appropriate, although it is not strictly necessary."
   ]
  },
  {
   "attachments": {},
   "cell_type": "markdown",
   "id": "ad59b531-a9a5-4892-a911-8d347c62b8f3",
   "metadata": {},
   "source": [
    "### Step 1: Editing Individual Cases to Tune the Trainee\n",
    "\n",
    "Here we demonstrate how to edit a Trainee one case at a time. Editing a case allows the user to modify or \"fix\" the behavior of the Trainee by the targeted editing of one or more cases. The user has complete control over all data in the Trainee, making it dynamic and quickly adjustable. Users do not need to worry about minor mistakes as the Trainee can be fine-tuned with this method after training.\n",
    "\n",
    "In our use case, the anomalous cases identified for the `Adult` dataset in `anomaly_detection.ipynb`recipe represents possible cases we want to edit. We noticed certain cases with unusual values for `capital-gains` like 99999 that look like they are nominal values representing other values, such as blanks. Editing cases allows us to easily correct these minor issues for an otherwise valid case post-training. \n",
    "\n",
    "If we believe that a case is entirely invalid and warrants removal, Howso Engine can also remove it entirely.\n",
    "\n",
    "To demonstrate this ability, we `react` to a single case to compare the predictions before and after an edit."
   ]
  },
  {
   "cell_type": "code",
   "execution_count": 7,
   "id": "16bceb2a-45f4-491e-829c-b706c829f014",
   "metadata": {
    "execution": {
     "iopub.execute_input": "2024-09-04T22:26:49.115917Z",
     "iopub.status.busy": "2024-09-04T22:26:49.115677Z",
     "iopub.status.idle": "2024-09-04T22:26:49.122151Z",
     "shell.execute_reply": "2024-09-04T22:26:49.121642Z"
    }
   },
   "outputs": [],
   "source": [
    "test_case_X = test_case[context_features]\n",
    "test_case_y = test_case[action_features]\n",
    "\n",
    "details = {\n",
    "    'influential_cases':True,\n",
    "}\n",
    "\n",
    "new_result = t.react(\n",
    "    [test_case_X.values.tolist()],\n",
    "    context_features=context_features,\n",
    "    action_features=action_features,\n",
    "    details=details\n",
    ")"
   ]
  },
  {
   "cell_type": "code",
   "execution_count": 8,
   "id": "4a89ab1f-6288-4240-a36c-d6ecef0c53e8",
   "metadata": {
    "execution": {
     "iopub.execute_input": "2024-09-04T22:26:49.124260Z",
     "iopub.status.busy": "2024-09-04T22:26:49.124076Z",
     "iopub.status.idle": "2024-09-04T22:26:49.127451Z",
     "shell.execute_reply": "2024-09-04T22:26:49.126962Z"
    }
   },
   "outputs": [
    {
     "name": "stdout",
     "output_type": "stream",
     "text": [
      "prediction: 0\n",
      "actual: 1\n"
     ]
    }
   ],
   "source": [
    "print('prediction: {}'.format(int(new_result['action']['target'].iloc[0])))\n",
    "print('actual: {}'.format(int(test_case_y.iloc[0])))"
   ]
  },
  {
   "attachments": {},
   "cell_type": "markdown",
   "id": "12c8a440",
   "metadata": {},
   "source": [
    "#### Results \n",
    "\n",
    "We can see that the the predicted value is incorrect. If we want to artifically correct this prediction using our Trainee, we can edit its influential cases. This is for demonstrative purposes only and we do not recommend editing influential cases without fully investigating the cases."
   ]
  },
  {
   "attachments": {},
   "cell_type": "markdown",
   "id": "f5d34c48",
   "metadata": {},
   "source": [
    "### Step 2: Identify Influential Cases\n",
    "\n",
    "To determine which cases we want to edit, we identify the Influential Cases."
   ]
  },
  {
   "cell_type": "code",
   "execution_count": 9,
   "id": "0ee63dbe-f115-4874-9a71-a8736518a967",
   "metadata": {
    "execution": {
     "iopub.execute_input": "2024-09-04T22:26:49.129690Z",
     "iopub.status.busy": "2024-09-04T22:26:49.129323Z",
     "iopub.status.idle": "2024-09-04T22:26:49.139923Z",
     "shell.execute_reply": "2024-09-04T22:26:49.139454Z"
    }
   },
   "outputs": [
    {
     "data": {
      "text/html": [
       "<div>\n",
       "<style scoped>\n",
       "    .dataframe tbody tr th:only-of-type {\n",
       "        vertical-align: middle;\n",
       "    }\n",
       "\n",
       "    .dataframe tbody tr th {\n",
       "        vertical-align: top;\n",
       "    }\n",
       "\n",
       "    .dataframe thead th {\n",
       "        text-align: right;\n",
       "    }\n",
       "</style>\n",
       "<table border=\"1\" class=\"dataframe\">\n",
       "  <thead>\n",
       "    <tr style=\"text-align: right;\">\n",
       "      <th></th>\n",
       "      <th>age</th>\n",
       "      <th>education</th>\n",
       "      <th>marital-status</th>\n",
       "      <th>race</th>\n",
       "      <th>capital-gain</th>\n",
       "      <th>capital-loss</th>\n",
       "      <th>hours-per-week</th>\n",
       "      <th>target</th>\n",
       "      <th>sex</th>\n",
       "      <th>occupation</th>\n",
       "      <th>.session_training_index</th>\n",
       "      <th>workclass</th>\n",
       "      <th>native-country</th>\n",
       "      <th>.session</th>\n",
       "      <th>fnlwgt</th>\n",
       "      <th>education-num</th>\n",
       "      <th>relationship</th>\n",
       "      <th>.influence_weight</th>\n",
       "    </tr>\n",
       "  </thead>\n",
       "  <tbody>\n",
       "    <tr>\n",
       "      <th>0</th>\n",
       "      <td>42</td>\n",
       "      <td>11</td>\n",
       "      <td>2</td>\n",
       "      <td>4</td>\n",
       "      <td>0</td>\n",
       "      <td>0</td>\n",
       "      <td>40</td>\n",
       "      <td>0</td>\n",
       "      <td>1</td>\n",
       "      <td>6</td>\n",
       "      <td>410</td>\n",
       "      <td>4</td>\n",
       "      <td>39</td>\n",
       "      <td>0e5bfb65-e733-43b9-985d-6e174cd77f80</td>\n",
       "      <td>171351</td>\n",
       "      <td>9</td>\n",
       "      <td>0</td>\n",
       "      <td>0.126047</td>\n",
       "    </tr>\n",
       "    <tr>\n",
       "      <th>1</th>\n",
       "      <td>40</td>\n",
       "      <td>11</td>\n",
       "      <td>2</td>\n",
       "      <td>4</td>\n",
       "      <td>0</td>\n",
       "      <td>0</td>\n",
       "      <td>40</td>\n",
       "      <td>0</td>\n",
       "      <td>1</td>\n",
       "      <td>7</td>\n",
       "      <td>341</td>\n",
       "      <td>4</td>\n",
       "      <td>39</td>\n",
       "      <td>0e5bfb65-e733-43b9-985d-6e174cd77f80</td>\n",
       "      <td>114157</td>\n",
       "      <td>9</td>\n",
       "      <td>0</td>\n",
       "      <td>0.125624</td>\n",
       "    </tr>\n",
       "    <tr>\n",
       "      <th>2</th>\n",
       "      <td>35</td>\n",
       "      <td>11</td>\n",
       "      <td>2</td>\n",
       "      <td>4</td>\n",
       "      <td>0</td>\n",
       "      <td>0</td>\n",
       "      <td>40</td>\n",
       "      <td>0</td>\n",
       "      <td>1</td>\n",
       "      <td>1</td>\n",
       "      <td>185</td>\n",
       "      <td>4</td>\n",
       "      <td>39</td>\n",
       "      <td>0e5bfb65-e733-43b9-985d-6e174cd77f80</td>\n",
       "      <td>138441</td>\n",
       "      <td>9</td>\n",
       "      <td>0</td>\n",
       "      <td>0.125217</td>\n",
       "    </tr>\n",
       "    <tr>\n",
       "      <th>3</th>\n",
       "      <td>36</td>\n",
       "      <td>11</td>\n",
       "      <td>2</td>\n",
       "      <td>4</td>\n",
       "      <td>0</td>\n",
       "      <td>0</td>\n",
       "      <td>40</td>\n",
       "      <td>0</td>\n",
       "      <td>1</td>\n",
       "      <td>3</td>\n",
       "      <td>347</td>\n",
       "      <td>4</td>\n",
       "      <td>39</td>\n",
       "      <td>0e5bfb65-e733-43b9-985d-6e174cd77f80</td>\n",
       "      <td>183279</td>\n",
       "      <td>9</td>\n",
       "      <td>0</td>\n",
       "      <td>0.125170</td>\n",
       "    </tr>\n",
       "    <tr>\n",
       "      <th>4</th>\n",
       "      <td>35</td>\n",
       "      <td>11</td>\n",
       "      <td>2</td>\n",
       "      <td>4</td>\n",
       "      <td>0</td>\n",
       "      <td>0</td>\n",
       "      <td>40</td>\n",
       "      <td>0</td>\n",
       "      <td>1</td>\n",
       "      <td>7</td>\n",
       "      <td>203</td>\n",
       "      <td>4</td>\n",
       "      <td>39</td>\n",
       "      <td>0e5bfb65-e733-43b9-985d-6e174cd77f80</td>\n",
       "      <td>113152</td>\n",
       "      <td>9</td>\n",
       "      <td>0</td>\n",
       "      <td>0.124688</td>\n",
       "    </tr>\n",
       "    <tr>\n",
       "      <th>5</th>\n",
       "      <td>46</td>\n",
       "      <td>11</td>\n",
       "      <td>2</td>\n",
       "      <td>4</td>\n",
       "      <td>0</td>\n",
       "      <td>0</td>\n",
       "      <td>45</td>\n",
       "      <td>0</td>\n",
       "      <td>1</td>\n",
       "      <td>12</td>\n",
       "      <td>113</td>\n",
       "      <td>4</td>\n",
       "      <td>39</td>\n",
       "      <td>ad4070de-d22b-4e92-bf16-96398c47c5a4</td>\n",
       "      <td>132912</td>\n",
       "      <td>9</td>\n",
       "      <td>0</td>\n",
       "      <td>0.124567</td>\n",
       "    </tr>\n",
       "    <tr>\n",
       "      <th>6</th>\n",
       "      <td>36</td>\n",
       "      <td>11</td>\n",
       "      <td>2</td>\n",
       "      <td>4</td>\n",
       "      <td>0</td>\n",
       "      <td>0</td>\n",
       "      <td>40</td>\n",
       "      <td>1</td>\n",
       "      <td>1</td>\n",
       "      <td>4</td>\n",
       "      <td>473</td>\n",
       "      <td>4</td>\n",
       "      <td>39</td>\n",
       "      <td>ad4070de-d22b-4e92-bf16-96398c47c5a4</td>\n",
       "      <td>98360</td>\n",
       "      <td>9</td>\n",
       "      <td>0</td>\n",
       "      <td>0.124434</td>\n",
       "    </tr>\n",
       "    <tr>\n",
       "      <th>7</th>\n",
       "      <td>36</td>\n",
       "      <td>11</td>\n",
       "      <td>2</td>\n",
       "      <td>4</td>\n",
       "      <td>0</td>\n",
       "      <td>0</td>\n",
       "      <td>40</td>\n",
       "      <td>1</td>\n",
       "      <td>1</td>\n",
       "      <td>7</td>\n",
       "      <td>403</td>\n",
       "      <td>4</td>\n",
       "      <td>39</td>\n",
       "      <td>ad4070de-d22b-4e92-bf16-96398c47c5a4</td>\n",
       "      <td>209629</td>\n",
       "      <td>9</td>\n",
       "      <td>0</td>\n",
       "      <td>0.124253</td>\n",
       "    </tr>\n",
       "  </tbody>\n",
       "</table>\n",
       "</div>"
      ],
      "text/plain": [
       "   age  education  marital-status  race  capital-gain  capital-loss  \\\n",
       "0   42         11               2     4             0             0   \n",
       "1   40         11               2     4             0             0   \n",
       "2   35         11               2     4             0             0   \n",
       "3   36         11               2     4             0             0   \n",
       "4   35         11               2     4             0             0   \n",
       "5   46         11               2     4             0             0   \n",
       "6   36         11               2     4             0             0   \n",
       "7   36         11               2     4             0             0   \n",
       "\n",
       "   hours-per-week  target  sex  occupation  .session_training_index  \\\n",
       "0              40       0    1           6                      410   \n",
       "1              40       0    1           7                      341   \n",
       "2              40       0    1           1                      185   \n",
       "3              40       0    1           3                      347   \n",
       "4              40       0    1           7                      203   \n",
       "5              45       0    1          12                      113   \n",
       "6              40       1    1           4                      473   \n",
       "7              40       1    1           7                      403   \n",
       "\n",
       "   workclass  native-country                              .session  fnlwgt  \\\n",
       "0          4              39  0e5bfb65-e733-43b9-985d-6e174cd77f80  171351   \n",
       "1          4              39  0e5bfb65-e733-43b9-985d-6e174cd77f80  114157   \n",
       "2          4              39  0e5bfb65-e733-43b9-985d-6e174cd77f80  138441   \n",
       "3          4              39  0e5bfb65-e733-43b9-985d-6e174cd77f80  183279   \n",
       "4          4              39  0e5bfb65-e733-43b9-985d-6e174cd77f80  113152   \n",
       "5          4              39  ad4070de-d22b-4e92-bf16-96398c47c5a4  132912   \n",
       "6          4              39  ad4070de-d22b-4e92-bf16-96398c47c5a4   98360   \n",
       "7          4              39  ad4070de-d22b-4e92-bf16-96398c47c5a4  209629   \n",
       "\n",
       "   education-num  relationship  .influence_weight  \n",
       "0              9             0           0.126047  \n",
       "1              9             0           0.125624  \n",
       "2              9             0           0.125217  \n",
       "3              9             0           0.125170  \n",
       "4              9             0           0.124688  \n",
       "5              9             0           0.124567  \n",
       "6              9             0           0.124434  \n",
       "7              9             0           0.124253  "
      ]
     },
     "execution_count": 9,
     "metadata": {},
     "output_type": "execute_result"
    }
   ],
   "source": [
    "influence_df = pd.DataFrame(new_result['details']['influential_cases'][0])\n",
    "influence_df"
   ]
  },
  {
   "attachments": {},
   "cell_type": "markdown",
   "id": "5659689f",
   "metadata": {},
   "source": [
    "We can see that many of the Influential Cases have the incorrect target value."
   ]
  },
  {
   "attachments": {},
   "cell_type": "markdown",
   "id": "c6afbf87-d357-4985-a026-aa440dd56da4",
   "metadata": {},
   "source": [
    "### Step 3: Edit Cases\n",
    "\n",
    "We will modify those two Influential Cases which have a different target value than what we want to predict by flipping their target values. Having more Influential Cases with the correct target value will increase the chance of that case being predicted to the correct target value."
   ]
  },
  {
   "cell_type": "code",
   "execution_count": 10,
   "id": "d7776af0-43ca-4fdd-a213-cf94d5279e7f",
   "metadata": {
    "execution": {
     "iopub.execute_input": "2024-09-04T22:26:49.142186Z",
     "iopub.status.busy": "2024-09-04T22:26:49.141839Z",
     "iopub.status.idle": "2024-09-04T22:26:49.152369Z",
     "shell.execute_reply": "2024-09-04T22:26:49.151879Z"
    }
   },
   "outputs": [
    {
     "name": "stdout",
     "output_type": "stream",
     "text": [
      "Modifying training index 410 of Session 0e5bfb65-e733-43b9-985d-6e174cd77f80 target value to 1\n"
     ]
    }
   ],
   "source": [
    "# Modify case 1\n",
    "session_id = influence_df.iloc[0]['.session']\n",
    "session_training_index = influence_df.iloc[0]['.session_training_index']\n",
    "\n",
    "# Flip the target in the original case\n",
    "cases = t.get_cases(session=session_id, features=['.session_training_index', 'target'])\n",
    "orig_target = cases.set_index('.session_training_index').loc[session_training_index].iloc[0]\n",
    "\n",
    "# Flip the target\n",
    "if str(orig_target) == '0':\n",
    "    flipped = 1\n",
    "else:\n",
    "    flipped = 0\n",
    "\n",
    "t.edit_cases(feature_values=[flipped],\n",
    "             case_indices=[(session_id, session_training_index.item())],\n",
    "             features=['target'])\n",
    "\n",
    "print(\"Modifying training index {ind} of Session {session_id} target value to {tar}\".format(ind=session_training_index, session_id=session_id, tar=flipped))"
   ]
  },
  {
   "cell_type": "code",
   "execution_count": 11,
   "id": "fcefb2ff-5156-469c-ba5f-a54ea90d34f0",
   "metadata": {
    "execution": {
     "iopub.execute_input": "2024-09-04T22:26:49.154561Z",
     "iopub.status.busy": "2024-09-04T22:26:49.154201Z",
     "iopub.status.idle": "2024-09-04T22:26:49.164362Z",
     "shell.execute_reply": "2024-09-04T22:26:49.163882Z"
    }
   },
   "outputs": [
    {
     "name": "stdout",
     "output_type": "stream",
     "text": [
      "Modifying training index 341 of Session 0e5bfb65-e733-43b9-985d-6e174cd77f80 target value to 1\n"
     ]
    }
   ],
   "source": [
    "# Modify case 2\n",
    "session_id = influence_df.iloc[0]['.session']\n",
    "session_training_index = influence_df.iloc[1]['.session_training_index']\n",
    "\n",
    "# Flip the target in the original case\n",
    "cases = t.get_cases(session=session_id, features=['.session_training_index', 'target'])\n",
    "orig_target = cases.set_index('.session_training_index').loc[session_training_index].iloc[0]\n",
    "\n",
    "# Flip the target\n",
    "if str(orig_target) == '0':\n",
    "    flipped = 1\n",
    "else:\n",
    "    flipped = 0\n",
    "\n",
    "t.edit_cases(feature_values=[flipped],\n",
    "             case_indices=[(session_id, session_training_index.item())],\n",
    "             features=['target'])\n",
    "\n",
    "print(\"Modifying training index {ind} of Session {session_id} target value to {tar}\".format(ind=session_training_index, session_id=session_id, tar=flipped))"
   ]
  },
  {
   "attachments": {},
   "cell_type": "markdown",
   "id": "a2f07717",
   "metadata": {},
   "source": [
    "### Step 4: Verify the Edit and Check the Case Audit\n",
    "\n",
    "We can audit one of the updated cases to make sure the case has been edited and demonstrate how to retrieve the case history. Editing case history provides another layer of auditability and accountability to the Trainee."
   ]
  },
  {
   "cell_type": "code",
   "execution_count": 12,
   "id": "b5405e9d-c09d-413c-9c71-1d09eb5a8b51",
   "metadata": {
    "execution": {
     "iopub.execute_input": "2024-09-04T22:26:49.166648Z",
     "iopub.status.busy": "2024-09-04T22:26:49.166245Z",
     "iopub.status.idle": "2024-09-04T22:26:49.176005Z",
     "shell.execute_reply": "2024-09-04T22:26:49.175524Z"
    }
   },
   "outputs": [
    {
     "data": {
      "text/plain": [
       "{'0e5bfb65-e733-43b9-985d-6e174cd77f80': [{'value': 1,\n",
       "   'feature': 'target',\n",
       "   'type': 'edit',\n",
       "   'previous_value': 0}]}"
      ]
     },
     "execution_count": 12,
     "metadata": {},
     "output_type": "execute_result"
    }
   ],
   "source": [
    "updated_case = t.get_cases(\n",
    "    case_indices=[(session_id, session_training_index.item())],\n",
    "    features=df.columns.tolist() + ['.case_edit_history']\n",
    ")\n",
    "\n",
    "# audit edit history\n",
    "updated_case.loc[ 0, '.case_edit_history']"
   ]
  },
  {
   "attachments": {},
   "cell_type": "markdown",
   "id": "2b9b80f4-d107-450d-a70f-bcac3cab3144",
   "metadata": {},
   "source": [
    "### Step 5: Predict Again\n",
    "\n",
    "We will re-run the prediction to see if the target value is correct now."
   ]
  },
  {
   "cell_type": "code",
   "execution_count": 13,
   "id": "2fb1fd3d-fa3e-4a92-af00-fdfcabea0594",
   "metadata": {
    "execution": {
     "iopub.execute_input": "2024-09-04T22:26:49.178277Z",
     "iopub.status.busy": "2024-09-04T22:26:49.177927Z",
     "iopub.status.idle": "2024-09-04T22:26:49.183686Z",
     "shell.execute_reply": "2024-09-04T22:26:49.183192Z"
    }
   },
   "outputs": [
    {
     "name": "stdout",
     "output_type": "stream",
     "text": [
      "prediction: 1\n",
      "actual: 1.0\n"
     ]
    }
   ],
   "source": [
    "new_result = t.react(\n",
    "    [test_case_X.values.tolist()],\n",
    "    context_features=context_features,\n",
    "    action_features=action_features,\n",
    "    details=details\n",
    ")\n",
    "\n",
    "print('prediction: {}'.format(new_result['action']['target'].iloc[0]))\n",
    "print('actual: {}'.format(test_case_y.iloc[0]))"
   ]
  },
  {
   "attachments": {},
   "cell_type": "markdown",
   "id": "b1370f3f",
   "metadata": {},
   "source": [
    "We can see that by editing those two cases, we flipped the prediction for our original test case without re-training or re-analyzing our Trainee. If done correctly, this provides a user with a surgical tool for Trainee corrections."
   ]
  },
  {
   "attachments": {},
   "cell_type": "markdown",
   "id": "b322c5a3-7e5c-4db6-83a0-8d5fe6fa751e",
   "metadata": {},
   "source": [
    "### Step 6: Delete a Case"
   ]
  },
  {
   "attachments": {},
   "cell_type": "markdown",
   "id": "0d268802-211e-4af7-98a3-830ba6d47617",
   "metadata": {},
   "source": [
    "In addition to editing a case, Howso Engine can also delete a case, removing it from the model and any further predictions. This workflow is the same as the edit example in the section above, except we use `remove_cases` instead of `edit_cases`. "
   ]
  },
  {
   "cell_type": "code",
   "execution_count": 14,
   "id": "8481c434-29f6-41ac-83ca-30c7cf803679",
   "metadata": {
    "execution": {
     "iopub.execute_input": "2024-09-04T22:26:49.186019Z",
     "iopub.status.busy": "2024-09-04T22:26:49.185664Z",
     "iopub.status.idle": "2024-09-04T22:26:49.189916Z",
     "shell.execute_reply": "2024-09-04T22:26:49.189427Z"
    }
   },
   "outputs": [
    {
     "data": {
      "text/plain": [
       "1"
      ]
     },
     "execution_count": 14,
     "metadata": {},
     "output_type": "execute_result"
    }
   ],
   "source": [
    "# remove cases using \".session_training_index\"\n",
    "t.remove_cases(num_cases=1, case_indices=[(session_id, session_training_index.item())])"
   ]
  },
  {
   "attachments": {},
   "cell_type": "markdown",
   "id": "228bf22c",
   "metadata": {},
   "source": [
    "The dynamic edting and deleting of individual Cases allows the user to perform targeted modification of the Trainee and provides the user with unparalleled control over their data and Trainee. This should not be done lightly and we recommend that all Cases be investigated before performing this action."
   ]
  },
  {
   "attachments": {},
   "cell_type": "markdown",
   "id": "af45b880-ec91-4c28-a12b-b84398234ca7",
   "metadata": {},
   "source": [
    "## Section 3: Editing Sessions\n",
    "\n",
    "In the beginning of this notebook, we trained the data in two sessions. The first session used a normal sample of training data, however the second session artifically flipped the target variable. This reduced the performance of our Trainee by introducing a large portion of incorrect data.\n",
    "\n",
    "Howso Engine has the capability to add or remove entire sessions. In this situation, if we discovered that one of our sessions had very poor quality data, like our example, we can easily remove that entire session's data without having to individually alter cases."
   ]
  },
  {
   "attachments": {},
   "cell_type": "markdown",
   "id": "267760db",
   "metadata": {},
   "source": [
    "### Step 1: View Sessions\n",
    "\n",
    "Let's first see how many sessions are in this Trainee along with some details of each session."
   ]
  },
  {
   "cell_type": "code",
   "execution_count": 15,
   "id": "9bb1647d",
   "metadata": {
    "execution": {
     "iopub.execute_input": "2024-09-04T22:26:49.192238Z",
     "iopub.status.busy": "2024-09-04T22:26:49.191886Z",
     "iopub.status.idle": "2024-09-04T22:26:49.195615Z",
     "shell.execute_reply": "2024-09-04T22:26:49.195140Z"
    }
   },
   "outputs": [
    {
     "data": {
      "text/plain": [
       "[{'id': 'ad4070de-d22b-4e92-bf16-96398c47c5a4', 'name': 'train_session_1'},\n",
       " {'id': '0e5bfb65-e733-43b9-985d-6e174cd77f80', 'name': 'train_session_2'}]"
      ]
     },
     "execution_count": 15,
     "metadata": {},
     "output_type": "execute_result"
    }
   ],
   "source": [
    "sessions = t.get_sessions()\n",
    "sessions"
   ]
  },
  {
   "cell_type": "code",
   "execution_count": 16,
   "id": "19fab41a",
   "metadata": {
    "execution": {
     "iopub.execute_input": "2024-09-04T22:26:49.197753Z",
     "iopub.status.busy": "2024-09-04T22:26:49.197388Z",
     "iopub.status.idle": "2024-09-04T22:26:49.202675Z",
     "shell.execute_reply": "2024-09-04T22:26:49.202195Z"
    }
   },
   "outputs": [
    {
     "data": {
      "text/plain": [
       "{'id': 'ad4070de-d22b-4e92-bf16-96398c47c5a4',\n",
       " 'name': 'train_session_1',\n",
       " 'metadata': {'data': 'original data',\n",
       "              'trainee_id': '8b6ba317-0c5d-40d7-9653-367bd8a52ec5'},\n",
       " 'created_date': datetime.datetime(2024, 9, 4, 22, 26, 33, 289797, tzinfo=tzlocal()),\n",
       " 'modified_date': datetime.datetime(2024, 9, 4, 22, 26, 33, 289799, tzinfo=tzlocal())}"
      ]
     },
     "metadata": {},
     "output_type": "display_data"
    },
    {
     "data": {
      "text/plain": [
       "{'id': '0e5bfb65-e733-43b9-985d-6e174cd77f80',\n",
       " 'name': 'train_session_2',\n",
       " 'metadata': {'data': 'modified data (flipped target values)'},\n",
       " 'created_date': datetime.datetime(2024, 9, 4, 22, 26, 33, 315927, tzinfo=datetime.timezone.utc),\n",
       " 'modified_date': datetime.datetime(2024, 9, 4, 22, 26, 33, 315929, tzinfo=datetime.timezone.utc)}"
      ]
     },
     "metadata": {},
     "output_type": "display_data"
    }
   ],
   "source": [
    "display(engine.get_session(sessions[0]['id']))\n",
    "display(engine.get_session(sessions[1]['id']))"
   ]
  },
  {
   "attachments": {},
   "cell_type": "markdown",
   "id": "3ff29602",
   "metadata": {},
   "source": [
    "We can see the two different sessions we used when trained earlier."
   ]
  },
  {
   "attachments": {},
   "cell_type": "markdown",
   "id": "ab021c76",
   "metadata": {},
   "source": [
    "### Step 2: Delete a Session\n",
    "\n",
    "Deleting an entire session is performed in one easy step once we retrieve the session ID of the session we want to delete."
   ]
  },
  {
   "cell_type": "code",
   "execution_count": 17,
   "id": "890b6cc4-0d11-4ae6-81a2-71e5af5a98d6",
   "metadata": {
    "execution": {
     "iopub.execute_input": "2024-09-04T22:26:49.204901Z",
     "iopub.status.busy": "2024-09-04T22:26:49.204551Z",
     "iopub.status.idle": "2024-09-04T22:27:05.479346Z",
     "shell.execute_reply": "2024-09-04T22:27:05.478739Z"
    }
   },
   "outputs": [],
   "source": [
    "### Delete a session\n",
    "session_id = sessions[1]['id']\n",
    "t.delete_session(session_id)\n",
    "\n",
    "# Re-analyze the Trainee\n",
    "t.analyze()"
   ]
  },
  {
   "attachments": {},
   "cell_type": "markdown",
   "id": "b7f2dd4a",
   "metadata": {},
   "source": [
    "### Step 3: Recompute Accuracy and Inspect\n",
    "\n",
    "We then use `react_aggregate` to the compute accuracy metrics."
   ]
  },
  {
   "cell_type": "code",
   "execution_count": 18,
   "id": "c47ddf1c-f210-4ab6-a553-be102019ed64",
   "metadata": {
    "execution": {
     "iopub.execute_input": "2024-09-04T22:27:05.482544Z",
     "iopub.status.busy": "2024-09-04T22:27:05.482093Z",
     "iopub.status.idle": "2024-09-04T22:27:05.904768Z",
     "shell.execute_reply": "2024-09-04T22:27:05.904183Z"
    }
   },
   "outputs": [
    {
     "name": "stdout",
     "output_type": "stream",
     "text": [
      "Original accuracy: 0.491\n",
      "New accuracy: 0.812\n"
     ]
    }
   ],
   "source": [
    "accuracy_new = t.react_aggregate(\n",
    "    details = {\n",
    "    \"prediction_stats\": True,\n",
    "    \"selected_prediction_stats\": ['accuracy'],\n",
    "    }\n",
    ")['target'].iloc[0]\n",
    "\n",
    "print(\"Original accuracy: {acc}\".format(acc=accuracy))\n",
    "print(\"New accuracy: {acc}\".format(acc=accuracy_new))"
   ]
  },
  {
   "cell_type": "code",
   "execution_count": 19,
   "id": "d5c696bb-2d57-4424-a8cc-f020750956a2",
   "metadata": {
    "execution": {
     "iopub.execute_input": "2024-09-04T22:27:05.907523Z",
     "iopub.status.busy": "2024-09-04T22:27:05.907003Z",
     "iopub.status.idle": "2024-09-04T22:27:05.910989Z",
     "shell.execute_reply": "2024-09-04T22:27:05.910495Z"
    }
   },
   "outputs": [
    {
     "data": {
      "text/plain": [
       "[{'id': 'ad4070de-d22b-4e92-bf16-96398c47c5a4', 'name': 'train_session_1'}]"
      ]
     },
     "execution_count": 19,
     "metadata": {},
     "output_type": "execute_result"
    }
   ],
   "source": [
    "# Check to make sure there is only 1 session\n",
    "t.get_sessions()"
   ]
  },
  {
   "attachments": {},
   "cell_type": "markdown",
   "id": "6ccb0924",
   "metadata": {},
   "source": [
    "We can clearly see the difference in accuracy results once the faulty session data is removed.\n",
    "\n",
    "Additionally, we see only one session remains in the Trainee."
   ]
  },
  {
   "attachments": {},
   "cell_type": "markdown",
   "id": "18a6ce88",
   "metadata": {},
   "source": [
    "# Conclusion:\n",
    "\n",
    "We can see that by getting rid of the session with the faulty data, our Trainee performance improved dramatically, as expected. This capability provides the user with a very efficient way to maintain control over a continously evolving Trainee if the user is constantly adding training data.\n",
    "\n",
    "The tools shown in this and other recipes allows the user to find, diagnose, and act at a level of ease and precision that other machine learning models cannot match. This opens the door to possibilities for the user and provides a flexible platform that can adjust to any type of machine learning needs."
   ]
  }
 ],
 "metadata": {
  "kernelspec": {
   "display_name": "Python 3 (ipykernel)",
   "language": "python",
   "name": "python3"
  },
  "language_info": {
   "codemirror_mode": {
    "name": "ipython",
    "version": 3
   },
   "file_extension": ".py",
   "mimetype": "text/x-python",
   "name": "python",
   "nbconvert_exporter": "python",
   "pygments_lexer": "ipython3",
   "version": "3.9.19"
  },
  "vscode": {
   "interpreter": {
    "hash": "05bef118205722947f728ae63677543c379f4948eeeee250b8cdd0b8032e383c"
   }
  }
 },
 "nbformat": 4,
 "nbformat_minor": 5
}
