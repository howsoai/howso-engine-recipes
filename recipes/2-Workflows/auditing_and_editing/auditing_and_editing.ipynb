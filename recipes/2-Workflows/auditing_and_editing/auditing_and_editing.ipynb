{
 "cells": [
  {
   "attachments": {},
   "cell_type": "markdown",
   "id": "69d7ac54-9a3b-4327-93a5-eb6fbf314530",
   "metadata": {
    "tags": []
   },
   "source": [
    "# Auditing and Editing\n",
    "## Overview \n",
    "\n",
    "Howso Engine's instance-based machine learning approach enables unique capabilities in addition to interpretability, which we learned about in the other recipes. We were able to detect possible anomalies and investigate Influential Cases and features that may be of concern. Using that information combined with Howso Engine giving us dynamic control over our Trainee, we can take meaningful action without having to dramatically incur additional expenses such as recreating the model. This is in contrast to most machine learning models which, once trained, are difficult to update without retraining the entire model. \n",
    "\n",
    "In this notebook we demonstrate the editability of a Howso Engine Trainee to take advantage of the Trainee and data diagnostic results shown from the `engine-insights.ipynb` recipe. \n",
    "\n",
    "This can be done on a small scale where we show how a case can be edited or removed to modify the behavior of the Trainee. A Howso Engine session allows us to toggle entire batches of training data and add/remove large chunks of training data. This can be very useful if we are continously adding data to our Trainee and we discover that certain batches are undesirable.\n",
    "\n",
    "### Sessions\n",
    "\n",
    "A Trainee Session is associated with each modification to a Trainee, which is useful for auditability. A session consists of the following information:  \n",
    "\n",
    "- Unique identifier  \n",
    "\n",
    "- The user for which the Session was created  \n",
    "\n",
    "- Date the Session was created \n",
    "\n",
    "- Name, given by the user (Optional) \n",
    "\n",
    "- Metadata for the user to store information (Optional) \n",
    "\n",
    "When working with Trainees, a default session will be automatically started for you unless you explicitly start (or create) your own. This session will be used for all interactions with the Trainee, unless a new session is explicitly started, for as long as your client is running. Additionally, each instance of a Howso Client will use its own unique active session. Starting a new session explicitly is useful if you want to give it a name and/or metadata for your own reference later, or if you wish to use separate sessions for different modifications of the Trainee. For example, using a unique session each time you train would allow you to later reference the specific cases that were trained by a certain session. \n"
   ]
  },
  {
   "attachments": {},
   "cell_type": "markdown",
   "id": "8c9eefe9",
   "metadata": {},
   "source": [
    "## Recipe Goals:\n",
    "\n",
    "This notebook will show how to edit cases in a Howso Engine Trainee, either individually or in batches through the use of Sessions. This will allow the user to take actions on cases they deem necessary through use of the interpretability and auditing tools shown in other recipes."
   ]
  },
  {
   "cell_type": "code",
   "execution_count": 1,
   "id": "f6cbaf0d-4f1f-410d-9cfd-1114f34c8c00",
   "metadata": {
    "execution": {
     "iopub.execute_input": "2025-10-17T22:22:41.778201Z",
     "iopub.status.busy": "2025-10-17T22:22:41.778020Z",
     "iopub.status.idle": "2025-10-17T22:22:42.158084Z",
     "shell.execute_reply": "2025-10-17T22:22:42.157269Z"
    }
   },
   "outputs": [],
   "source": [
    "import pandas as pd\n",
    "from pmlb import fetch_data\n",
    "\n",
    "from howso import engine\n",
    "from howso.utilities import infer_feature_attributes"
   ]
  },
  {
   "attachments": {},
   "cell_type": "markdown",
   "id": "f02595ed-6e01-4c05-91de-67c938fd402d",
   "metadata": {},
   "source": [
    "# Section 1: Train, Analyze, and Evaluate"
   ]
  },
  {
   "attachments": {},
   "cell_type": "markdown",
   "id": "8a1f5ffa-d96e-44b8-9152-9e7811b6f9b4",
   "metadata": {},
   "source": [
    "For questions about the specific steps of this section, please see the [basic workflow guide](https://docs.howso.com/en/release-latest/user_guide/basic_capabilities/basic_workflow.html).\n",
    "\n",
    "### Step 1: Load Data\n",
    "\n",
    "Our example dataset for this recipe continues to be the well known `Adult` dataset. This dataset consists of 14 Context Features and 1 Action Feature. The Action Feature in this version of the `Adult` dataset has been renamed to `target` and it takes the form of a binary indicator for whether a person in the data makes over $50,000/year (*target*=1) or less (*target*=0)."
   ]
  },
  {
   "cell_type": "code",
   "execution_count": 2,
   "id": "e5a7a925-5a9d-47fb-b4a3-3272203d4772",
   "metadata": {
    "execution": {
     "iopub.execute_input": "2025-10-17T22:22:42.160846Z",
     "iopub.status.busy": "2025-10-17T22:22:42.160648Z",
     "iopub.status.idle": "2025-10-17T22:22:42.233110Z",
     "shell.execute_reply": "2025-10-17T22:22:42.232269Z"
    }
   },
   "outputs": [
    {
     "data": {
      "text/html": [
       "<div>\n",
       "<style scoped>\n",
       "    .dataframe tbody tr th:only-of-type {\n",
       "        vertical-align: middle;\n",
       "    }\n",
       "\n",
       "    .dataframe tbody tr th {\n",
       "        vertical-align: top;\n",
       "    }\n",
       "\n",
       "    .dataframe thead th {\n",
       "        text-align: right;\n",
       "    }\n",
       "</style>\n",
       "<table border=\"1\" class=\"dataframe\">\n",
       "  <thead>\n",
       "    <tr style=\"text-align: right;\">\n",
       "      <th></th>\n",
       "      <th>age</th>\n",
       "      <th>workclass</th>\n",
       "      <th>fnlwgt</th>\n",
       "      <th>education</th>\n",
       "      <th>education-num</th>\n",
       "      <th>marital-status</th>\n",
       "      <th>occupation</th>\n",
       "      <th>relationship</th>\n",
       "      <th>race</th>\n",
       "      <th>sex</th>\n",
       "      <th>capital-gain</th>\n",
       "      <th>capital-loss</th>\n",
       "      <th>hours-per-week</th>\n",
       "      <th>native-country</th>\n",
       "      <th>target</th>\n",
       "    </tr>\n",
       "  </thead>\n",
       "  <tbody>\n",
       "    <tr>\n",
       "      <th>38113</th>\n",
       "      <td>41.0</td>\n",
       "      <td>4</td>\n",
       "      <td>151856.0</td>\n",
       "      <td>11</td>\n",
       "      <td>9.0</td>\n",
       "      <td>2</td>\n",
       "      <td>11</td>\n",
       "      <td>0</td>\n",
       "      <td>4</td>\n",
       "      <td>1</td>\n",
       "      <td>0.0</td>\n",
       "      <td>0.0</td>\n",
       "      <td>40.0</td>\n",
       "      <td>39</td>\n",
       "      <td>1</td>\n",
       "    </tr>\n",
       "    <tr>\n",
       "      <th>39214</th>\n",
       "      <td>57.0</td>\n",
       "      <td>6</td>\n",
       "      <td>87584.0</td>\n",
       "      <td>10</td>\n",
       "      <td>16.0</td>\n",
       "      <td>0</td>\n",
       "      <td>10</td>\n",
       "      <td>1</td>\n",
       "      <td>4</td>\n",
       "      <td>0</td>\n",
       "      <td>0.0</td>\n",
       "      <td>0.0</td>\n",
       "      <td>25.0</td>\n",
       "      <td>39</td>\n",
       "      <td>1</td>\n",
       "    </tr>\n",
       "    <tr>\n",
       "      <th>44248</th>\n",
       "      <td>31.0</td>\n",
       "      <td>2</td>\n",
       "      <td>220669.0</td>\n",
       "      <td>9</td>\n",
       "      <td>13.0</td>\n",
       "      <td>4</td>\n",
       "      <td>10</td>\n",
       "      <td>3</td>\n",
       "      <td>4</td>\n",
       "      <td>0</td>\n",
       "      <td>6849.0</td>\n",
       "      <td>0.0</td>\n",
       "      <td>40.0</td>\n",
       "      <td>39</td>\n",
       "      <td>1</td>\n",
       "    </tr>\n",
       "    <tr>\n",
       "      <th>10283</th>\n",
       "      <td>55.0</td>\n",
       "      <td>4</td>\n",
       "      <td>171355.0</td>\n",
       "      <td>8</td>\n",
       "      <td>11.0</td>\n",
       "      <td>2</td>\n",
       "      <td>7</td>\n",
       "      <td>0</td>\n",
       "      <td>4</td>\n",
       "      <td>1</td>\n",
       "      <td>0.0</td>\n",
       "      <td>0.0</td>\n",
       "      <td>20.0</td>\n",
       "      <td>39</td>\n",
       "      <td>1</td>\n",
       "    </tr>\n",
       "    <tr>\n",
       "      <th>26724</th>\n",
       "      <td>59.0</td>\n",
       "      <td>6</td>\n",
       "      <td>148626.0</td>\n",
       "      <td>0</td>\n",
       "      <td>6.0</td>\n",
       "      <td>2</td>\n",
       "      <td>5</td>\n",
       "      <td>0</td>\n",
       "      <td>4</td>\n",
       "      <td>1</td>\n",
       "      <td>0.0</td>\n",
       "      <td>0.0</td>\n",
       "      <td>40.0</td>\n",
       "      <td>39</td>\n",
       "      <td>1</td>\n",
       "    </tr>\n",
       "    <tr>\n",
       "      <th>...</th>\n",
       "      <td>...</td>\n",
       "      <td>...</td>\n",
       "      <td>...</td>\n",
       "      <td>...</td>\n",
       "      <td>...</td>\n",
       "      <td>...</td>\n",
       "      <td>...</td>\n",
       "      <td>...</td>\n",
       "      <td>...</td>\n",
       "      <td>...</td>\n",
       "      <td>...</td>\n",
       "      <td>...</td>\n",
       "      <td>...</td>\n",
       "      <td>...</td>\n",
       "      <td>...</td>\n",
       "    </tr>\n",
       "    <tr>\n",
       "      <th>4721</th>\n",
       "      <td>60.0</td>\n",
       "      <td>0</td>\n",
       "      <td>204486.0</td>\n",
       "      <td>9</td>\n",
       "      <td>13.0</td>\n",
       "      <td>2</td>\n",
       "      <td>0</td>\n",
       "      <td>0</td>\n",
       "      <td>4</td>\n",
       "      <td>1</td>\n",
       "      <td>0.0</td>\n",
       "      <td>0.0</td>\n",
       "      <td>8.0</td>\n",
       "      <td>39</td>\n",
       "      <td>0</td>\n",
       "    </tr>\n",
       "    <tr>\n",
       "      <th>40113</th>\n",
       "      <td>48.0</td>\n",
       "      <td>2</td>\n",
       "      <td>93449.0</td>\n",
       "      <td>14</td>\n",
       "      <td>15.0</td>\n",
       "      <td>2</td>\n",
       "      <td>10</td>\n",
       "      <td>0</td>\n",
       "      <td>1</td>\n",
       "      <td>1</td>\n",
       "      <td>99999.0</td>\n",
       "      <td>0.0</td>\n",
       "      <td>40.0</td>\n",
       "      <td>30</td>\n",
       "      <td>0</td>\n",
       "    </tr>\n",
       "    <tr>\n",
       "      <th>17827</th>\n",
       "      <td>25.0</td>\n",
       "      <td>4</td>\n",
       "      <td>114838.0</td>\n",
       "      <td>14</td>\n",
       "      <td>15.0</td>\n",
       "      <td>4</td>\n",
       "      <td>10</td>\n",
       "      <td>1</td>\n",
       "      <td>4</td>\n",
       "      <td>0</td>\n",
       "      <td>0.0</td>\n",
       "      <td>0.0</td>\n",
       "      <td>8.0</td>\n",
       "      <td>22</td>\n",
       "      <td>1</td>\n",
       "    </tr>\n",
       "    <tr>\n",
       "      <th>35120</th>\n",
       "      <td>22.0</td>\n",
       "      <td>4</td>\n",
       "      <td>202125.0</td>\n",
       "      <td>11</td>\n",
       "      <td>9.0</td>\n",
       "      <td>2</td>\n",
       "      <td>12</td>\n",
       "      <td>0</td>\n",
       "      <td>4</td>\n",
       "      <td>1</td>\n",
       "      <td>0.0</td>\n",
       "      <td>0.0</td>\n",
       "      <td>50.0</td>\n",
       "      <td>39</td>\n",
       "      <td>1</td>\n",
       "    </tr>\n",
       "    <tr>\n",
       "      <th>9138</th>\n",
       "      <td>27.0</td>\n",
       "      <td>0</td>\n",
       "      <td>61387.0</td>\n",
       "      <td>9</td>\n",
       "      <td>13.0</td>\n",
       "      <td>2</td>\n",
       "      <td>0</td>\n",
       "      <td>0</td>\n",
       "      <td>4</td>\n",
       "      <td>1</td>\n",
       "      <td>0.0</td>\n",
       "      <td>0.0</td>\n",
       "      <td>15.0</td>\n",
       "      <td>39</td>\n",
       "      <td>1</td>\n",
       "    </tr>\n",
       "  </tbody>\n",
       "</table>\n",
       "<p>1001 rows × 15 columns</p>\n",
       "</div>"
      ],
      "text/plain": [
       "        age  workclass    fnlwgt  education  education-num  marital-status  \\\n",
       "38113  41.0          4  151856.0         11            9.0               2   \n",
       "39214  57.0          6   87584.0         10           16.0               0   \n",
       "44248  31.0          2  220669.0          9           13.0               4   \n",
       "10283  55.0          4  171355.0          8           11.0               2   \n",
       "26724  59.0          6  148626.0          0            6.0               2   \n",
       "...     ...        ...       ...        ...            ...             ...   \n",
       "4721   60.0          0  204486.0          9           13.0               2   \n",
       "40113  48.0          2   93449.0         14           15.0               2   \n",
       "17827  25.0          4  114838.0         14           15.0               4   \n",
       "35120  22.0          4  202125.0         11            9.0               2   \n",
       "9138   27.0          0   61387.0          9           13.0               2   \n",
       "\n",
       "       occupation  relationship  race  sex  capital-gain  capital-loss  \\\n",
       "38113          11             0     4    1           0.0           0.0   \n",
       "39214          10             1     4    0           0.0           0.0   \n",
       "44248          10             3     4    0        6849.0           0.0   \n",
       "10283           7             0     4    1           0.0           0.0   \n",
       "26724           5             0     4    1           0.0           0.0   \n",
       "...           ...           ...   ...  ...           ...           ...   \n",
       "4721            0             0     4    1           0.0           0.0   \n",
       "40113          10             0     1    1       99999.0           0.0   \n",
       "17827          10             1     4    0           0.0           0.0   \n",
       "35120          12             0     4    1           0.0           0.0   \n",
       "9138            0             0     4    1           0.0           0.0   \n",
       "\n",
       "       hours-per-week  native-country  target  \n",
       "38113            40.0              39       1  \n",
       "39214            25.0              39       1  \n",
       "44248            40.0              39       1  \n",
       "10283            20.0              39       1  \n",
       "26724            40.0              39       1  \n",
       "...               ...             ...     ...  \n",
       "4721              8.0              39       0  \n",
       "40113            40.0              30       0  \n",
       "17827             8.0              22       1  \n",
       "35120            50.0              39       1  \n",
       "9138             15.0              39       1  \n",
       "\n",
       "[1001 rows x 15 columns]"
      ]
     },
     "execution_count": 2,
     "metadata": {},
     "output_type": "execute_result"
    }
   ],
   "source": [
    "df = fetch_data('adult', local_cache_dir=\"../../data/adult\")\n",
    "\n",
    "# subsample the data to ensure the example runs quickly\n",
    "df = df.sample(1001, random_state=0)\n",
    "\n",
    "df"
   ]
  },
  {
   "attachments": {},
   "cell_type": "markdown",
   "id": "35ec53b0-b623-427a-b2a6-8e55ebfef1bc",
   "metadata": {},
   "source": [
    "### Step 2: Train Trainee utilizing Sessions\n",
    "\n",
    "In this section we will perform all of the steps needed to train Howso Engine's Trainee."
   ]
  },
  {
   "cell_type": "code",
   "execution_count": 3,
   "id": "086a95e5-e236-4806-b6e4-65ea94f43f28",
   "metadata": {
    "execution": {
     "iopub.execute_input": "2025-10-17T22:22:42.235193Z",
     "iopub.status.busy": "2025-10-17T22:22:42.234996Z",
     "iopub.status.idle": "2025-10-17T22:22:42.260839Z",
     "shell.execute_reply": "2025-10-17T22:22:42.259993Z"
    }
   },
   "outputs": [],
   "source": [
    "# Infer features attributes\n",
    "features = infer_feature_attributes(df)\n",
    "\n",
    "# Specify Context and Action Features\n",
    "action_features = ['target']\n",
    "context_features = features.get_names(without=action_features)\n",
    "\n",
    "# We extract one row for demonstrative purposes later\n",
    "test_case = df.iloc[0]\n",
    "df = df.iloc[1:]\n",
    "\n",
    "# Split the data into Context Features (X) and Action Feature (y)\n",
    "dfX = df[context_features]\n",
    "dfy = df[action_features]"
   ]
  },
  {
   "attachments": {},
   "cell_type": "markdown",
   "id": "b83b096b-8bb1-482e-8ed2-dc7c2a7b2c90",
   "metadata": {},
   "source": [
    "To demonstrate how to edit cases, we will break the training into two sessions. \n",
    "\n",
    "1. The first session is for half of the original dataset \n",
    "2. The second session is a modified version of the remaining half of the original dataset containing a target feature that is flipped from the true value"
   ]
  },
  {
   "cell_type": "code",
   "execution_count": 4,
   "id": "df523c17",
   "metadata": {
    "execution": {
     "iopub.execute_input": "2025-10-17T22:22:42.262834Z",
     "iopub.status.busy": "2025-10-17T22:22:42.262643Z",
     "iopub.status.idle": "2025-10-17T22:22:42.267917Z",
     "shell.execute_reply": "2025-10-17T22:22:42.267192Z"
    }
   },
   "outputs": [],
   "source": [
    "ind_session_1 = dfX.index[ :(dfX.shape[0] //2 )]\n",
    "ind_session_2 = dfX.index[ (dfX.shape[0] //2 ):]\n",
    "\n",
    "X_train_1 = dfX.loc[ind_session_1]\n",
    "y_train_1 = dfy.loc[ind_session_1]\n",
    "\n",
    "X_train_2 = dfX.loc[ind_session_2]\n",
    "\n",
    "# Flip the target value for the second set of target feature values\n",
    "y_train = dfy['target']\n",
    "y_train_2 = pd.Series([int(not x) for x in y_train.loc[ind_session_2]], name=action_features[0], index=ind_session_2)"
   ]
  },
  {
   "cell_type": "code",
   "execution_count": 5,
   "id": "ab02d5f1-77b1-432f-a2ef-02009cb5cdb0",
   "metadata": {
    "execution": {
     "iopub.execute_input": "2025-10-17T22:22:42.270106Z",
     "iopub.status.busy": "2025-10-17T22:22:42.269927Z",
     "iopub.status.idle": "2025-10-17T22:22:47.000292Z",
     "shell.execute_reply": "2025-10-17T22:22:46.999486Z"
    }
   },
   "outputs": [],
   "source": [
    "# Create the Trainee\n",
    "t = engine.Trainee(\n",
    "    features=features,\n",
    "    overwrite_existing=True\n",
    ")\n",
    "\n",
    "session = engine.Session('train_session_1', metadata={'data': 'original data'})\n",
    "t.train(X_train_1.join(y_train_1))\n",
    "\n",
    "session = engine.Session('train_session_2', metadata={'data': 'modified data (flipped target values)'})\n",
    "t.train(X_train_2.join(y_train_2))\n",
    "\n",
    "# Analyze the Trainee\n",
    "t.analyze()"
   ]
  },
  {
   "attachments": {},
   "cell_type": "markdown",
   "id": "f07c698d",
   "metadata": {},
   "source": [
    "### Step 3: Inspect Results"
   ]
  },
  {
   "cell_type": "code",
   "execution_count": 6,
   "id": "45217946-f4aa-49e9-85d4-e4abd1282a77",
   "metadata": {
    "execution": {
     "iopub.execute_input": "2025-10-17T22:22:47.002866Z",
     "iopub.status.busy": "2025-10-17T22:22:47.002675Z",
     "iopub.status.idle": "2025-10-17T22:22:47.884996Z",
     "shell.execute_reply": "2025-10-17T22:22:47.884106Z"
    }
   },
   "outputs": [
    {
     "name": "stdout",
     "output_type": "stream",
     "text": [
      "Test set prediction accuracy: 0.507\n"
     ]
    }
   ],
   "source": [
    "accuracy = t.react_aggregate(\n",
    "    details = {\n",
    "    \"prediction_stats\": True,\n",
    "    \"selected_prediction_stats\": ['accuracy'],\n",
    "    }\n",
    ").to_dataframe()['target'].iloc[0]\n",
    "\n",
    "print(\"Test set prediction accuracy: {acc}\".format(acc=accuracy))"
   ]
  },
  {
   "attachments": {},
   "cell_type": "markdown",
   "id": "d80eb77e",
   "metadata": {},
   "source": [
    "As expected, flipping the target feature's values for half of the data greatly reduces the accuracy compared to the expected accuracy shown in recipe `engine-intro.ipynb`.\n",
    "\n",
    "While it is unrealistic to know this ahead of time in a real world setting, we will use this stark result to clearly demonstrate the effect of Trainee editing.\n"
   ]
  },
  {
   "attachments": {},
   "cell_type": "markdown",
   "id": "98f3d772-0f56-4454-87dc-d24ff5cb40dd",
   "metadata": {},
   "source": [
    "# Section 2: Audit & Edit a Trainee"
   ]
  },
  {
   "attachments": {},
   "cell_type": "markdown",
   "id": "a48766ad",
   "metadata": {},
   "source": [
    "There are many reasons to audit and edit a Trainee. In other recipes, we highlighted several training cases that may be anomalous that may be candidates for removal. In this recipe, we have a entire chunk of training data that is incorrect. Howso Engine has the ability to edit data at different scales.\n",
    "\n",
    "What sets Howso Engine apart from other machine learning models is there is no need for retraining. For example, if we use `Scikit-Learn`'s Logistic regression and discover that our training data consists of cases we would like to remove, then we would have to go back to the beginning of the workflow, remove the problematic cases from the training data, and completely retrain the model.\n",
    "\n",
    "In Howso Engine, this is unnecessary unless a very large portion of the training data is altered. If this is the case, re-analyzing the Trainee may be appropriate, although it is not strictly necessary."
   ]
  },
  {
   "attachments": {},
   "cell_type": "markdown",
   "id": "ad59b531-a9a5-4892-a911-8d347c62b8f3",
   "metadata": {},
   "source": [
    "### Step 1: Editing Individual Cases to Tune the Trainee\n",
    "\n",
    "Here we demonstrate how to edit a Trainee one case at a time. Editing a case allows the user to modify or \"fix\" the behavior of the Trainee by the targeted editing of one or more cases. The user has complete control over all data in the Trainee, making it dynamic and quickly adjustable. Users do not need to worry about minor mistakes as the Trainee can be fine-tuned with this method after training.\n",
    "\n",
    "In our use case, the anomalous cases identified for the `Adult` dataset in `anomaly_detection.ipynb`recipe represents possible cases we want to edit. We noticed certain cases with unusual values for `capital-gains` like 99999 that look like they are nominal values representing other values, such as blanks. Editing cases allows us to easily correct these minor issues for an otherwise valid case post-training. \n",
    "\n",
    "If we believe that a case is entirely invalid and warrants removal, Howso Engine can also remove it entirely.\n",
    "\n",
    "To demonstrate this ability, we `react` to a single case to compare the predictions before and after an edit."
   ]
  },
  {
   "cell_type": "code",
   "execution_count": 7,
   "id": "16bceb2a-45f4-491e-829c-b706c829f014",
   "metadata": {
    "execution": {
     "iopub.execute_input": "2025-10-17T22:22:47.887212Z",
     "iopub.status.busy": "2025-10-17T22:22:47.887023Z",
     "iopub.status.idle": "2025-10-17T22:22:47.894216Z",
     "shell.execute_reply": "2025-10-17T22:22:47.893555Z"
    }
   },
   "outputs": [],
   "source": [
    "test_case_X = test_case[context_features]\n",
    "test_case_y = test_case[action_features]\n",
    "\n",
    "details = {\n",
    "    'influential_cases':True,\n",
    "}\n",
    "\n",
    "new_result = t.react(\n",
    "    [test_case_X.values.tolist()],\n",
    "    context_features=context_features,\n",
    "    action_features=action_features,\n",
    "    details=details\n",
    ")"
   ]
  },
  {
   "cell_type": "code",
   "execution_count": 8,
   "id": "4a89ab1f-6288-4240-a36c-d6ecef0c53e8",
   "metadata": {
    "execution": {
     "iopub.execute_input": "2025-10-17T22:22:47.896186Z",
     "iopub.status.busy": "2025-10-17T22:22:47.896005Z",
     "iopub.status.idle": "2025-10-17T22:22:47.899353Z",
     "shell.execute_reply": "2025-10-17T22:22:47.898696Z"
    }
   },
   "outputs": [
    {
     "name": "stdout",
     "output_type": "stream",
     "text": [
      "prediction: 0\n",
      "actual: 1\n"
     ]
    }
   ],
   "source": [
    "print('prediction: {}'.format(int(new_result['action']['target'].iloc[0])))\n",
    "print('actual: {}'.format(int(test_case_y.iloc[0])))"
   ]
  },
  {
   "attachments": {},
   "cell_type": "markdown",
   "id": "12c8a440",
   "metadata": {},
   "source": [
    "#### Results \n",
    "\n",
    "We can see that the the predicted value is incorrect. If we want to artifically correct this prediction using our Trainee, we can edit its influential cases. This is for demonstrative purposes only and we do not recommend editing influential cases without fully investigating the cases."
   ]
  },
  {
   "attachments": {},
   "cell_type": "markdown",
   "id": "f5d34c48",
   "metadata": {},
   "source": [
    "### Step 2: Identify Influential Cases\n",
    "\n",
    "To determine which cases we want to edit, we identify the Influential Cases."
   ]
  },
  {
   "cell_type": "code",
   "execution_count": 9,
   "id": "0ee63dbe-f115-4874-9a71-a8736518a967",
   "metadata": {
    "execution": {
     "iopub.execute_input": "2025-10-17T22:22:47.901326Z",
     "iopub.status.busy": "2025-10-17T22:22:47.901113Z",
     "iopub.status.idle": "2025-10-17T22:22:47.913683Z",
     "shell.execute_reply": "2025-10-17T22:22:47.913032Z"
    }
   },
   "outputs": [
    {
     "data": {
      "text/html": [
       "<div>\n",
       "<style scoped>\n",
       "    .dataframe tbody tr th:only-of-type {\n",
       "        vertical-align: middle;\n",
       "    }\n",
       "\n",
       "    .dataframe tbody tr th {\n",
       "        vertical-align: top;\n",
       "    }\n",
       "\n",
       "    .dataframe thead th {\n",
       "        text-align: right;\n",
       "    }\n",
       "</style>\n",
       "<table border=\"1\" class=\"dataframe\">\n",
       "  <thead>\n",
       "    <tr style=\"text-align: right;\">\n",
       "      <th></th>\n",
       "      <th>fnlwgt</th>\n",
       "      <th>native-country</th>\n",
       "      <th>target</th>\n",
       "      <th>age</th>\n",
       "      <th>marital-status</th>\n",
       "      <th>race</th>\n",
       "      <th>capital-loss</th>\n",
       "      <th>education</th>\n",
       "      <th>workclass</th>\n",
       "      <th>occupation</th>\n",
       "      <th>sex</th>\n",
       "      <th>.influence_weight</th>\n",
       "      <th>hours-per-week</th>\n",
       "      <th>education-num</th>\n",
       "      <th>capital-gain</th>\n",
       "      <th>relationship</th>\n",
       "      <th>.session</th>\n",
       "      <th>.session_training_index</th>\n",
       "    </tr>\n",
       "  </thead>\n",
       "  <tbody>\n",
       "    <tr>\n",
       "      <th>0</th>\n",
       "      <td>171351</td>\n",
       "      <td>39</td>\n",
       "      <td>0</td>\n",
       "      <td>42</td>\n",
       "      <td>2</td>\n",
       "      <td>4</td>\n",
       "      <td>0</td>\n",
       "      <td>11</td>\n",
       "      <td>4</td>\n",
       "      <td>6</td>\n",
       "      <td>1</td>\n",
       "      <td>0.058197</td>\n",
       "      <td>40</td>\n",
       "      <td>9</td>\n",
       "      <td>0</td>\n",
       "      <td>0</td>\n",
       "      <td>5d8d7f2d-af56-4a8f-b80b-539725b00dde</td>\n",
       "      <td>410</td>\n",
       "    </tr>\n",
       "    <tr>\n",
       "      <th>1</th>\n",
       "      <td>114157</td>\n",
       "      <td>39</td>\n",
       "      <td>0</td>\n",
       "      <td>40</td>\n",
       "      <td>2</td>\n",
       "      <td>4</td>\n",
       "      <td>0</td>\n",
       "      <td>11</td>\n",
       "      <td>4</td>\n",
       "      <td>7</td>\n",
       "      <td>1</td>\n",
       "      <td>0.057637</td>\n",
       "      <td>40</td>\n",
       "      <td>9</td>\n",
       "      <td>0</td>\n",
       "      <td>0</td>\n",
       "      <td>5d8d7f2d-af56-4a8f-b80b-539725b00dde</td>\n",
       "      <td>341</td>\n",
       "    </tr>\n",
       "    <tr>\n",
       "      <th>2</th>\n",
       "      <td>53956</td>\n",
       "      <td>39</td>\n",
       "      <td>0</td>\n",
       "      <td>42</td>\n",
       "      <td>2</td>\n",
       "      <td>4</td>\n",
       "      <td>0</td>\n",
       "      <td>11</td>\n",
       "      <td>4</td>\n",
       "      <td>6</td>\n",
       "      <td>1</td>\n",
       "      <td>0.054366</td>\n",
       "      <td>40</td>\n",
       "      <td>9</td>\n",
       "      <td>0</td>\n",
       "      <td>0</td>\n",
       "      <td>5d8d7f2d-af56-4a8f-b80b-539725b00dde</td>\n",
       "      <td>172</td>\n",
       "    </tr>\n",
       "    <tr>\n",
       "      <th>3</th>\n",
       "      <td>144002</td>\n",
       "      <td>39</td>\n",
       "      <td>0</td>\n",
       "      <td>42</td>\n",
       "      <td>2</td>\n",
       "      <td>4</td>\n",
       "      <td>0</td>\n",
       "      <td>11</td>\n",
       "      <td>4</td>\n",
       "      <td>4</td>\n",
       "      <td>1</td>\n",
       "      <td>0.054312</td>\n",
       "      <td>50</td>\n",
       "      <td>9</td>\n",
       "      <td>0</td>\n",
       "      <td>0</td>\n",
       "      <td>ec53a18b-40eb-4adb-b925-1e82c53515f5</td>\n",
       "      <td>371</td>\n",
       "    </tr>\n",
       "    <tr>\n",
       "      <th>4</th>\n",
       "      <td>240504</td>\n",
       "      <td>39</td>\n",
       "      <td>1</td>\n",
       "      <td>43</td>\n",
       "      <td>2</td>\n",
       "      <td>4</td>\n",
       "      <td>0</td>\n",
       "      <td>11</td>\n",
       "      <td>4</td>\n",
       "      <td>6</td>\n",
       "      <td>1</td>\n",
       "      <td>0.054164</td>\n",
       "      <td>40</td>\n",
       "      <td>9</td>\n",
       "      <td>0</td>\n",
       "      <td>0</td>\n",
       "      <td>ec53a18b-40eb-4adb-b925-1e82c53515f5</td>\n",
       "      <td>453</td>\n",
       "    </tr>\n",
       "    <tr>\n",
       "      <th>5</th>\n",
       "      <td>144169</td>\n",
       "      <td>39</td>\n",
       "      <td>1</td>\n",
       "      <td>39</td>\n",
       "      <td>2</td>\n",
       "      <td>4</td>\n",
       "      <td>0</td>\n",
       "      <td>11</td>\n",
       "      <td>4</td>\n",
       "      <td>12</td>\n",
       "      <td>1</td>\n",
       "      <td>0.053539</td>\n",
       "      <td>50</td>\n",
       "      <td>9</td>\n",
       "      <td>0</td>\n",
       "      <td>0</td>\n",
       "      <td>5d8d7f2d-af56-4a8f-b80b-539725b00dde</td>\n",
       "      <td>249</td>\n",
       "    </tr>\n",
       "    <tr>\n",
       "      <th>6</th>\n",
       "      <td>214738</td>\n",
       "      <td>39</td>\n",
       "      <td>1</td>\n",
       "      <td>37</td>\n",
       "      <td>2</td>\n",
       "      <td>4</td>\n",
       "      <td>0</td>\n",
       "      <td>11</td>\n",
       "      <td>4</td>\n",
       "      <td>7</td>\n",
       "      <td>1</td>\n",
       "      <td>0.053155</td>\n",
       "      <td>40</td>\n",
       "      <td>9</td>\n",
       "      <td>0</td>\n",
       "      <td>0</td>\n",
       "      <td>ec53a18b-40eb-4adb-b925-1e82c53515f5</td>\n",
       "      <td>176</td>\n",
       "    </tr>\n",
       "    <tr>\n",
       "      <th>7</th>\n",
       "      <td>183279</td>\n",
       "      <td>39</td>\n",
       "      <td>0</td>\n",
       "      <td>36</td>\n",
       "      <td>2</td>\n",
       "      <td>4</td>\n",
       "      <td>0</td>\n",
       "      <td>11</td>\n",
       "      <td>4</td>\n",
       "      <td>3</td>\n",
       "      <td>1</td>\n",
       "      <td>0.053002</td>\n",
       "      <td>40</td>\n",
       "      <td>9</td>\n",
       "      <td>0</td>\n",
       "      <td>0</td>\n",
       "      <td>5d8d7f2d-af56-4a8f-b80b-539725b00dde</td>\n",
       "      <td>347</td>\n",
       "    </tr>\n",
       "    <tr>\n",
       "      <th>8</th>\n",
       "      <td>132912</td>\n",
       "      <td>39</td>\n",
       "      <td>0</td>\n",
       "      <td>46</td>\n",
       "      <td>2</td>\n",
       "      <td>4</td>\n",
       "      <td>0</td>\n",
       "      <td>11</td>\n",
       "      <td>4</td>\n",
       "      <td>12</td>\n",
       "      <td>1</td>\n",
       "      <td>0.052160</td>\n",
       "      <td>45</td>\n",
       "      <td>9</td>\n",
       "      <td>0</td>\n",
       "      <td>0</td>\n",
       "      <td>ec53a18b-40eb-4adb-b925-1e82c53515f5</td>\n",
       "      <td>113</td>\n",
       "    </tr>\n",
       "    <tr>\n",
       "      <th>9</th>\n",
       "      <td>98360</td>\n",
       "      <td>39</td>\n",
       "      <td>1</td>\n",
       "      <td>36</td>\n",
       "      <td>2</td>\n",
       "      <td>4</td>\n",
       "      <td>0</td>\n",
       "      <td>11</td>\n",
       "      <td>4</td>\n",
       "      <td>4</td>\n",
       "      <td>1</td>\n",
       "      <td>0.052154</td>\n",
       "      <td>40</td>\n",
       "      <td>9</td>\n",
       "      <td>0</td>\n",
       "      <td>0</td>\n",
       "      <td>ec53a18b-40eb-4adb-b925-1e82c53515f5</td>\n",
       "      <td>473</td>\n",
       "    </tr>\n",
       "    <tr>\n",
       "      <th>10</th>\n",
       "      <td>288679</td>\n",
       "      <td>39</td>\n",
       "      <td>0</td>\n",
       "      <td>41</td>\n",
       "      <td>2</td>\n",
       "      <td>4</td>\n",
       "      <td>0</td>\n",
       "      <td>11</td>\n",
       "      <td>4</td>\n",
       "      <td>3</td>\n",
       "      <td>1</td>\n",
       "      <td>0.052094</td>\n",
       "      <td>40</td>\n",
       "      <td>9</td>\n",
       "      <td>0</td>\n",
       "      <td>0</td>\n",
       "      <td>5d8d7f2d-af56-4a8f-b80b-539725b00dde</td>\n",
       "      <td>145</td>\n",
       "    </tr>\n",
       "    <tr>\n",
       "      <th>11</th>\n",
       "      <td>209629</td>\n",
       "      <td>39</td>\n",
       "      <td>1</td>\n",
       "      <td>36</td>\n",
       "      <td>2</td>\n",
       "      <td>4</td>\n",
       "      <td>0</td>\n",
       "      <td>11</td>\n",
       "      <td>4</td>\n",
       "      <td>7</td>\n",
       "      <td>1</td>\n",
       "      <td>0.051957</td>\n",
       "      <td>40</td>\n",
       "      <td>9</td>\n",
       "      <td>0</td>\n",
       "      <td>0</td>\n",
       "      <td>ec53a18b-40eb-4adb-b925-1e82c53515f5</td>\n",
       "      <td>403</td>\n",
       "    </tr>\n",
       "    <tr>\n",
       "      <th>12</th>\n",
       "      <td>138441</td>\n",
       "      <td>39</td>\n",
       "      <td>0</td>\n",
       "      <td>35</td>\n",
       "      <td>2</td>\n",
       "      <td>4</td>\n",
       "      <td>0</td>\n",
       "      <td>11</td>\n",
       "      <td>4</td>\n",
       "      <td>1</td>\n",
       "      <td>1</td>\n",
       "      <td>0.051883</td>\n",
       "      <td>40</td>\n",
       "      <td>9</td>\n",
       "      <td>0</td>\n",
       "      <td>0</td>\n",
       "      <td>5d8d7f2d-af56-4a8f-b80b-539725b00dde</td>\n",
       "      <td>185</td>\n",
       "    </tr>\n",
       "    <tr>\n",
       "      <th>13</th>\n",
       "      <td>269323</td>\n",
       "      <td>39</td>\n",
       "      <td>1</td>\n",
       "      <td>38</td>\n",
       "      <td>2</td>\n",
       "      <td>4</td>\n",
       "      <td>0</td>\n",
       "      <td>11</td>\n",
       "      <td>4</td>\n",
       "      <td>1</td>\n",
       "      <td>1</td>\n",
       "      <td>0.051261</td>\n",
       "      <td>40</td>\n",
       "      <td>9</td>\n",
       "      <td>0</td>\n",
       "      <td>0</td>\n",
       "      <td>5d8d7f2d-af56-4a8f-b80b-539725b00dde</td>\n",
       "      <td>479</td>\n",
       "    </tr>\n",
       "    <tr>\n",
       "      <th>14</th>\n",
       "      <td>113152</td>\n",
       "      <td>39</td>\n",
       "      <td>0</td>\n",
       "      <td>35</td>\n",
       "      <td>2</td>\n",
       "      <td>4</td>\n",
       "      <td>0</td>\n",
       "      <td>11</td>\n",
       "      <td>4</td>\n",
       "      <td>7</td>\n",
       "      <td>1</td>\n",
       "      <td>0.051247</td>\n",
       "      <td>40</td>\n",
       "      <td>9</td>\n",
       "      <td>0</td>\n",
       "      <td>0</td>\n",
       "      <td>5d8d7f2d-af56-4a8f-b80b-539725b00dde</td>\n",
       "      <td>203</td>\n",
       "    </tr>\n",
       "    <tr>\n",
       "      <th>15</th>\n",
       "      <td>99146</td>\n",
       "      <td>39</td>\n",
       "      <td>1</td>\n",
       "      <td>36</td>\n",
       "      <td>2</td>\n",
       "      <td>4</td>\n",
       "      <td>0</td>\n",
       "      <td>11</td>\n",
       "      <td>4</td>\n",
       "      <td>7</td>\n",
       "      <td>1</td>\n",
       "      <td>0.051055</td>\n",
       "      <td>45</td>\n",
       "      <td>9</td>\n",
       "      <td>0</td>\n",
       "      <td>0</td>\n",
       "      <td>5d8d7f2d-af56-4a8f-b80b-539725b00dde</td>\n",
       "      <td>339</td>\n",
       "    </tr>\n",
       "    <tr>\n",
       "      <th>16</th>\n",
       "      <td>209739</td>\n",
       "      <td>39</td>\n",
       "      <td>0</td>\n",
       "      <td>47</td>\n",
       "      <td>2</td>\n",
       "      <td>4</td>\n",
       "      <td>0</td>\n",
       "      <td>11</td>\n",
       "      <td>4</td>\n",
       "      <td>6</td>\n",
       "      <td>1</td>\n",
       "      <td>0.050464</td>\n",
       "      <td>40</td>\n",
       "      <td>9</td>\n",
       "      <td>0</td>\n",
       "      <td>0</td>\n",
       "      <td>5d8d7f2d-af56-4a8f-b80b-539725b00dde</td>\n",
       "      <td>307</td>\n",
       "    </tr>\n",
       "    <tr>\n",
       "      <th>17</th>\n",
       "      <td>211154</td>\n",
       "      <td>39</td>\n",
       "      <td>0</td>\n",
       "      <td>39</td>\n",
       "      <td>2</td>\n",
       "      <td>4</td>\n",
       "      <td>0</td>\n",
       "      <td>11</td>\n",
       "      <td>4</td>\n",
       "      <td>14</td>\n",
       "      <td>1</td>\n",
       "      <td>0.048866</td>\n",
       "      <td>55</td>\n",
       "      <td>9</td>\n",
       "      <td>0</td>\n",
       "      <td>0</td>\n",
       "      <td>5d8d7f2d-af56-4a8f-b80b-539725b00dde</td>\n",
       "      <td>279</td>\n",
       "    </tr>\n",
       "    <tr>\n",
       "      <th>18</th>\n",
       "      <td>271828</td>\n",
       "      <td>39</td>\n",
       "      <td>0</td>\n",
       "      <td>46</td>\n",
       "      <td>2</td>\n",
       "      <td>4</td>\n",
       "      <td>0</td>\n",
       "      <td>11</td>\n",
       "      <td>4</td>\n",
       "      <td>7</td>\n",
       "      <td>1</td>\n",
       "      <td>0.048485</td>\n",
       "      <td>40</td>\n",
       "      <td>9</td>\n",
       "      <td>0</td>\n",
       "      <td>0</td>\n",
       "      <td>ec53a18b-40eb-4adb-b925-1e82c53515f5</td>\n",
       "      <td>304</td>\n",
       "    </tr>\n",
       "  </tbody>\n",
       "</table>\n",
       "</div>"
      ],
      "text/plain": [
       "    fnlwgt  native-country  target  age  marital-status  race  capital-loss  \\\n",
       "0   171351              39       0   42               2     4             0   \n",
       "1   114157              39       0   40               2     4             0   \n",
       "2    53956              39       0   42               2     4             0   \n",
       "3   144002              39       0   42               2     4             0   \n",
       "4   240504              39       1   43               2     4             0   \n",
       "5   144169              39       1   39               2     4             0   \n",
       "6   214738              39       1   37               2     4             0   \n",
       "7   183279              39       0   36               2     4             0   \n",
       "8   132912              39       0   46               2     4             0   \n",
       "9    98360              39       1   36               2     4             0   \n",
       "10  288679              39       0   41               2     4             0   \n",
       "11  209629              39       1   36               2     4             0   \n",
       "12  138441              39       0   35               2     4             0   \n",
       "13  269323              39       1   38               2     4             0   \n",
       "14  113152              39       0   35               2     4             0   \n",
       "15   99146              39       1   36               2     4             0   \n",
       "16  209739              39       0   47               2     4             0   \n",
       "17  211154              39       0   39               2     4             0   \n",
       "18  271828              39       0   46               2     4             0   \n",
       "\n",
       "    education  workclass  occupation  sex  .influence_weight  hours-per-week  \\\n",
       "0          11          4           6    1           0.058197              40   \n",
       "1          11          4           7    1           0.057637              40   \n",
       "2          11          4           6    1           0.054366              40   \n",
       "3          11          4           4    1           0.054312              50   \n",
       "4          11          4           6    1           0.054164              40   \n",
       "5          11          4          12    1           0.053539              50   \n",
       "6          11          4           7    1           0.053155              40   \n",
       "7          11          4           3    1           0.053002              40   \n",
       "8          11          4          12    1           0.052160              45   \n",
       "9          11          4           4    1           0.052154              40   \n",
       "10         11          4           3    1           0.052094              40   \n",
       "11         11          4           7    1           0.051957              40   \n",
       "12         11          4           1    1           0.051883              40   \n",
       "13         11          4           1    1           0.051261              40   \n",
       "14         11          4           7    1           0.051247              40   \n",
       "15         11          4           7    1           0.051055              45   \n",
       "16         11          4           6    1           0.050464              40   \n",
       "17         11          4          14    1           0.048866              55   \n",
       "18         11          4           7    1           0.048485              40   \n",
       "\n",
       "    education-num  capital-gain  relationship  \\\n",
       "0               9             0             0   \n",
       "1               9             0             0   \n",
       "2               9             0             0   \n",
       "3               9             0             0   \n",
       "4               9             0             0   \n",
       "5               9             0             0   \n",
       "6               9             0             0   \n",
       "7               9             0             0   \n",
       "8               9             0             0   \n",
       "9               9             0             0   \n",
       "10              9             0             0   \n",
       "11              9             0             0   \n",
       "12              9             0             0   \n",
       "13              9             0             0   \n",
       "14              9             0             0   \n",
       "15              9             0             0   \n",
       "16              9             0             0   \n",
       "17              9             0             0   \n",
       "18              9             0             0   \n",
       "\n",
       "                                .session  .session_training_index  \n",
       "0   5d8d7f2d-af56-4a8f-b80b-539725b00dde                      410  \n",
       "1   5d8d7f2d-af56-4a8f-b80b-539725b00dde                      341  \n",
       "2   5d8d7f2d-af56-4a8f-b80b-539725b00dde                      172  \n",
       "3   ec53a18b-40eb-4adb-b925-1e82c53515f5                      371  \n",
       "4   ec53a18b-40eb-4adb-b925-1e82c53515f5                      453  \n",
       "5   5d8d7f2d-af56-4a8f-b80b-539725b00dde                      249  \n",
       "6   ec53a18b-40eb-4adb-b925-1e82c53515f5                      176  \n",
       "7   5d8d7f2d-af56-4a8f-b80b-539725b00dde                      347  \n",
       "8   ec53a18b-40eb-4adb-b925-1e82c53515f5                      113  \n",
       "9   ec53a18b-40eb-4adb-b925-1e82c53515f5                      473  \n",
       "10  5d8d7f2d-af56-4a8f-b80b-539725b00dde                      145  \n",
       "11  ec53a18b-40eb-4adb-b925-1e82c53515f5                      403  \n",
       "12  5d8d7f2d-af56-4a8f-b80b-539725b00dde                      185  \n",
       "13  5d8d7f2d-af56-4a8f-b80b-539725b00dde                      479  \n",
       "14  5d8d7f2d-af56-4a8f-b80b-539725b00dde                      203  \n",
       "15  5d8d7f2d-af56-4a8f-b80b-539725b00dde                      339  \n",
       "16  5d8d7f2d-af56-4a8f-b80b-539725b00dde                      307  \n",
       "17  5d8d7f2d-af56-4a8f-b80b-539725b00dde                      279  \n",
       "18  ec53a18b-40eb-4adb-b925-1e82c53515f5                      304  "
      ]
     },
     "execution_count": 9,
     "metadata": {},
     "output_type": "execute_result"
    }
   ],
   "source": [
    "influence_df = pd.DataFrame(new_result['details']['influential_cases'][0])\n",
    "influence_df"
   ]
  },
  {
   "attachments": {},
   "cell_type": "markdown",
   "id": "5659689f",
   "metadata": {},
   "source": [
    "We can see that many of the Influential Cases have the incorrect target value."
   ]
  },
  {
   "attachments": {},
   "cell_type": "markdown",
   "id": "c6afbf87-d357-4985-a026-aa440dd56da4",
   "metadata": {},
   "source": [
    "### Step 3: Edit Cases\n",
    "\n",
    "We will modify those two Influential Cases which have a different target value than what we want to predict by flipping their target values. Having more Influential Cases with the correct target value will increase the chance of that case being predicted to the correct target value."
   ]
  },
  {
   "cell_type": "code",
   "execution_count": 10,
   "id": "d7776af0-43ca-4fdd-a213-cf94d5279e7f",
   "metadata": {
    "execution": {
     "iopub.execute_input": "2025-10-17T22:22:47.915665Z",
     "iopub.status.busy": "2025-10-17T22:22:47.915484Z",
     "iopub.status.idle": "2025-10-17T22:22:47.925916Z",
     "shell.execute_reply": "2025-10-17T22:22:47.925196Z"
    }
   },
   "outputs": [
    {
     "name": "stdout",
     "output_type": "stream",
     "text": [
      "Modifying training index 410 of Session 5d8d7f2d-af56-4a8f-b80b-539725b00dde target value to 1\n"
     ]
    }
   ],
   "source": [
    "# Modify case 1\n",
    "session_id = influence_df.iloc[0]['.session']\n",
    "session_training_index = influence_df.iloc[0]['.session_training_index']\n",
    "\n",
    "# Flip the target in the original case\n",
    "cases = t.get_cases(session=session_id, features=['.session_training_index', 'target'])\n",
    "orig_target = cases.set_index('.session_training_index').loc[session_training_index].iloc[0]\n",
    "\n",
    "# Flip the target\n",
    "if str(orig_target) == '0':\n",
    "    flipped = 1\n",
    "else:\n",
    "    flipped = 0\n",
    "\n",
    "t.edit_cases(feature_values=[flipped],\n",
    "             case_indices=[(session_id, session_training_index.item())],\n",
    "             features=['target'])\n",
    "\n",
    "print(\"Modifying training index {ind} of Session {session_id} target value to {tar}\".format(ind=session_training_index, session_id=session_id, tar=flipped))"
   ]
  },
  {
   "cell_type": "code",
   "execution_count": 11,
   "id": "fcefb2ff-5156-469c-ba5f-a54ea90d34f0",
   "metadata": {
    "execution": {
     "iopub.execute_input": "2025-10-17T22:22:47.927809Z",
     "iopub.status.busy": "2025-10-17T22:22:47.927623Z",
     "iopub.status.idle": "2025-10-17T22:22:47.937372Z",
     "shell.execute_reply": "2025-10-17T22:22:47.936709Z"
    }
   },
   "outputs": [
    {
     "name": "stdout",
     "output_type": "stream",
     "text": [
      "Modifying training index 341 of Session 5d8d7f2d-af56-4a8f-b80b-539725b00dde target value to 1\n"
     ]
    }
   ],
   "source": [
    "# Modify case 2\n",
    "session_id = influence_df.iloc[0]['.session']\n",
    "session_training_index = influence_df.iloc[1]['.session_training_index']\n",
    "\n",
    "# Flip the target in the original case\n",
    "cases = t.get_cases(session=session_id, features=['.session_training_index', 'target'])\n",
    "orig_target = cases.set_index('.session_training_index').loc[session_training_index].iloc[0]\n",
    "\n",
    "# Flip the target\n",
    "if str(orig_target) == '0':\n",
    "    flipped = 1\n",
    "else:\n",
    "    flipped = 0\n",
    "\n",
    "t.edit_cases(feature_values=[flipped],\n",
    "             case_indices=[(session_id, session_training_index.item())],\n",
    "             features=['target'])\n",
    "\n",
    "print(\"Modifying training index {ind} of Session {session_id} target value to {tar}\".format(ind=session_training_index, session_id=session_id, tar=flipped))"
   ]
  },
  {
   "attachments": {},
   "cell_type": "markdown",
   "id": "a2f07717",
   "metadata": {},
   "source": [
    "### Step 4: Verify the Edit and Check the Case Audit\n",
    "\n",
    "We can audit one of the updated cases to make sure the case has been edited and demonstrate how to retrieve the case history. Editing case history provides another layer of auditability and accountability to the Trainee."
   ]
  },
  {
   "cell_type": "code",
   "execution_count": 12,
   "id": "b5405e9d-c09d-413c-9c71-1d09eb5a8b51",
   "metadata": {
    "execution": {
     "iopub.execute_input": "2025-10-17T22:22:47.939548Z",
     "iopub.status.busy": "2025-10-17T22:22:47.939365Z",
     "iopub.status.idle": "2025-10-17T22:22:47.949119Z",
     "shell.execute_reply": "2025-10-17T22:22:47.948506Z"
    }
   },
   "outputs": [
    {
     "data": {
      "text/plain": [
       "{'5d8d7f2d-af56-4a8f-b80b-539725b00dde': [{'value': 1,\n",
       "   'type': 'edit',\n",
       "   'feature': 'target',\n",
       "   'previous_value': 0}]}"
      ]
     },
     "execution_count": 12,
     "metadata": {},
     "output_type": "execute_result"
    }
   ],
   "source": [
    "updated_case = t.get_cases(\n",
    "    case_indices=[(session_id, session_training_index.item())],\n",
    "    features=df.columns.tolist() + ['.case_edit_history']\n",
    ")\n",
    "\n",
    "# audit edit history\n",
    "updated_case.loc[ 0, '.case_edit_history']"
   ]
  },
  {
   "attachments": {},
   "cell_type": "markdown",
   "id": "2b9b80f4-d107-450d-a70f-bcac3cab3144",
   "metadata": {},
   "source": [
    "### Step 5: Predict Again\n",
    "\n",
    "We will re-run the prediction to see if the target value is correct now."
   ]
  },
  {
   "cell_type": "code",
   "execution_count": 13,
   "id": "2fb1fd3d-fa3e-4a92-af00-fdfcabea0594",
   "metadata": {
    "execution": {
     "iopub.execute_input": "2025-10-17T22:22:47.951116Z",
     "iopub.status.busy": "2025-10-17T22:22:47.950934Z",
     "iopub.status.idle": "2025-10-17T22:22:47.957268Z",
     "shell.execute_reply": "2025-10-17T22:22:47.956581Z"
    }
   },
   "outputs": [
    {
     "name": "stdout",
     "output_type": "stream",
     "text": [
      "prediction: 0\n",
      "actual: 1.0\n"
     ]
    }
   ],
   "source": [
    "new_result = t.react(\n",
    "    [test_case_X.values.tolist()],\n",
    "    context_features=context_features,\n",
    "    action_features=action_features,\n",
    "    details=details\n",
    ")\n",
    "\n",
    "print('prediction: {}'.format(new_result['action']['target'].iloc[0]))\n",
    "print('actual: {}'.format(test_case_y.iloc[0]))"
   ]
  },
  {
   "attachments": {},
   "cell_type": "markdown",
   "id": "b1370f3f",
   "metadata": {},
   "source": [
    "We can see that by editing those two cases, we flipped the prediction for our original test case without re-training or re-analyzing our Trainee. If done correctly, this provides a user with a surgical tool for Trainee corrections."
   ]
  },
  {
   "attachments": {},
   "cell_type": "markdown",
   "id": "b322c5a3-7e5c-4db6-83a0-8d5fe6fa751e",
   "metadata": {},
   "source": [
    "### Step 6: Delete a Case"
   ]
  },
  {
   "attachments": {},
   "cell_type": "markdown",
   "id": "0d268802-211e-4af7-98a3-830ba6d47617",
   "metadata": {},
   "source": [
    "In addition to editing a case, Howso Engine can also delete a case, removing it from the model and any further predictions. This workflow is the same as the edit example in the section above, except we use `remove_cases` instead of `edit_cases`. "
   ]
  },
  {
   "cell_type": "code",
   "execution_count": 14,
   "id": "8481c434-29f6-41ac-83ca-30c7cf803679",
   "metadata": {
    "execution": {
     "iopub.execute_input": "2025-10-17T22:22:47.959155Z",
     "iopub.status.busy": "2025-10-17T22:22:47.958975Z",
     "iopub.status.idle": "2025-10-17T22:22:47.963154Z",
     "shell.execute_reply": "2025-10-17T22:22:47.962502Z"
    }
   },
   "outputs": [
    {
     "data": {
      "text/plain": [
       "1"
      ]
     },
     "execution_count": 14,
     "metadata": {},
     "output_type": "execute_result"
    }
   ],
   "source": [
    "# remove cases using \".session_training_index\"\n",
    "t.remove_cases(num_cases=1, case_indices=[(session_id, session_training_index.item())])"
   ]
  },
  {
   "attachments": {},
   "cell_type": "markdown",
   "id": "228bf22c",
   "metadata": {},
   "source": [
    "The dynamic edting and deleting of individual Cases allows the user to perform targeted modification of the Trainee and provides the user with unparalleled control over their data and Trainee. This should not be done lightly and we recommend that all Cases be investigated before performing this action."
   ]
  },
  {
   "attachments": {},
   "cell_type": "markdown",
   "id": "af45b880-ec91-4c28-a12b-b84398234ca7",
   "metadata": {},
   "source": [
    "## Section 3: Editing Sessions\n",
    "\n",
    "In the beginning of this notebook, we trained the data in two sessions. The first session used a normal sample of training data, however the second session artifically flipped the target variable. This reduced the performance of our Trainee by introducing a large portion of incorrect data.\n",
    "\n",
    "Howso Engine has the capability to add or remove entire sessions. In this situation, if we discovered that one of our sessions had very poor quality data, like our example, we can easily remove that entire session's data without having to individually alter cases."
   ]
  },
  {
   "attachments": {},
   "cell_type": "markdown",
   "id": "267760db",
   "metadata": {},
   "source": [
    "### Step 1: View Sessions\n",
    "\n",
    "Let's first see how many sessions are in this Trainee along with some details of each session."
   ]
  },
  {
   "cell_type": "code",
   "execution_count": 15,
   "id": "9bb1647d",
   "metadata": {
    "execution": {
     "iopub.execute_input": "2025-10-17T22:22:47.965270Z",
     "iopub.status.busy": "2025-10-17T22:22:47.965063Z",
     "iopub.status.idle": "2025-10-17T22:22:47.968956Z",
     "shell.execute_reply": "2025-10-17T22:22:47.968272Z"
    }
   },
   "outputs": [
    {
     "data": {
      "text/plain": [
       "[{'name': 'train_session_1', 'id': 'ec53a18b-40eb-4adb-b925-1e82c53515f5'},\n",
       " {'name': 'train_session_2', 'id': '5d8d7f2d-af56-4a8f-b80b-539725b00dde'}]"
      ]
     },
     "execution_count": 15,
     "metadata": {},
     "output_type": "execute_result"
    }
   ],
   "source": [
    "sessions = t.get_sessions()\n",
    "sessions"
   ]
  },
  {
   "cell_type": "code",
   "execution_count": 16,
   "id": "19fab41a",
   "metadata": {
    "execution": {
     "iopub.execute_input": "2025-10-17T22:22:47.970718Z",
     "iopub.status.busy": "2025-10-17T22:22:47.970540Z",
     "iopub.status.idle": "2025-10-17T22:22:47.976122Z",
     "shell.execute_reply": "2025-10-17T22:22:47.975441Z"
    }
   },
   "outputs": [
    {
     "data": {
      "text/plain": [
       "{'id': 'ec53a18b-40eb-4adb-b925-1e82c53515f5',\n",
       " 'name': 'train_session_1',\n",
       " 'metadata': {'data': 'original data',\n",
       "              'trainee_id': 'e12cdb35-8186-43ca-ae99-dd940131a09d'},\n",
       " 'created_date': datetime.datetime(2025, 10, 17, 22, 22, 42, 590990, tzinfo=tzlocal()),\n",
       " 'modified_date': datetime.datetime(2025, 10, 17, 22, 22, 42, 590995, tzinfo=tzlocal())}"
      ]
     },
     "metadata": {},
     "output_type": "display_data"
    },
    {
     "data": {
      "text/plain": [
       "{'id': '5d8d7f2d-af56-4a8f-b80b-539725b00dde',\n",
       " 'name': 'train_session_2',\n",
       " 'metadata': {'data': 'modified data (flipped target values)'},\n",
       " 'created_date': datetime.datetime(2025, 10, 17, 22, 22, 42, 635874, tzinfo=datetime.timezone.utc),\n",
       " 'modified_date': datetime.datetime(2025, 10, 17, 22, 22, 42, 635875, tzinfo=datetime.timezone.utc)}"
      ]
     },
     "metadata": {},
     "output_type": "display_data"
    }
   ],
   "source": [
    "display(engine.get_session(sessions[0]['id']))\n",
    "display(engine.get_session(sessions[1]['id']))"
   ]
  },
  {
   "attachments": {},
   "cell_type": "markdown",
   "id": "3ff29602",
   "metadata": {},
   "source": [
    "We can see the two different sessions we used when trained earlier."
   ]
  },
  {
   "attachments": {},
   "cell_type": "markdown",
   "id": "ab021c76",
   "metadata": {},
   "source": [
    "### Step 2: Delete a Session\n",
    "\n",
    "Deleting an entire session is performed in one easy step once we retrieve the session ID of the session we want to delete."
   ]
  },
  {
   "cell_type": "code",
   "execution_count": 17,
   "id": "890b6cc4-0d11-4ae6-81a2-71e5af5a98d6",
   "metadata": {
    "execution": {
     "iopub.execute_input": "2025-10-17T22:22:47.977902Z",
     "iopub.status.busy": "2025-10-17T22:22:47.977722Z",
     "iopub.status.idle": "2025-10-17T22:22:52.772754Z",
     "shell.execute_reply": "2025-10-17T22:22:52.771962Z"
    }
   },
   "outputs": [],
   "source": [
    "### Delete a session\n",
    "session_id = sessions[1]['id']\n",
    "t.delete_session(session_id)\n",
    "\n",
    "# Re-analyze the Trainee\n",
    "t.analyze()"
   ]
  },
  {
   "attachments": {},
   "cell_type": "markdown",
   "id": "b7f2dd4a",
   "metadata": {},
   "source": [
    "### Step 3: Recompute Accuracy and Inspect\n",
    "\n",
    "We then use `react_aggregate` to the compute accuracy metrics."
   ]
  },
  {
   "cell_type": "code",
   "execution_count": 18,
   "id": "c47ddf1c-f210-4ab6-a553-be102019ed64",
   "metadata": {
    "execution": {
     "iopub.execute_input": "2025-10-17T22:22:52.775437Z",
     "iopub.status.busy": "2025-10-17T22:22:52.775176Z",
     "iopub.status.idle": "2025-10-17T22:22:53.104294Z",
     "shell.execute_reply": "2025-10-17T22:22:53.103457Z"
    }
   },
   "outputs": [
    {
     "name": "stdout",
     "output_type": "stream",
     "text": [
      "Original accuracy: 0.507\n",
      "New accuracy: 0.844\n"
     ]
    }
   ],
   "source": [
    "accuracy_new = t.react_aggregate(\n",
    "    details = {\n",
    "    \"prediction_stats\": True,\n",
    "    \"selected_prediction_stats\": ['accuracy'],\n",
    "    }\n",
    ").to_dataframe()['target'].iloc[0]\n",
    "\n",
    "print(\"Original accuracy: {acc}\".format(acc=accuracy))\n",
    "print(\"New accuracy: {acc}\".format(acc=accuracy_new))"
   ]
  },
  {
   "cell_type": "code",
   "execution_count": 19,
   "id": "d5c696bb-2d57-4424-a8cc-f020750956a2",
   "metadata": {
    "execution": {
     "iopub.execute_input": "2025-10-17T22:22:53.106017Z",
     "iopub.status.busy": "2025-10-17T22:22:53.105829Z",
     "iopub.status.idle": "2025-10-17T22:22:53.109703Z",
     "shell.execute_reply": "2025-10-17T22:22:53.108969Z"
    }
   },
   "outputs": [
    {
     "data": {
      "text/plain": [
       "[{'name': 'train_session_1', 'id': 'ec53a18b-40eb-4adb-b925-1e82c53515f5'}]"
      ]
     },
     "execution_count": 19,
     "metadata": {},
     "output_type": "execute_result"
    }
   ],
   "source": [
    "# Check to make sure there is only 1 session\n",
    "t.get_sessions()"
   ]
  },
  {
   "attachments": {},
   "cell_type": "markdown",
   "id": "6ccb0924",
   "metadata": {},
   "source": [
    "We can clearly see the difference in accuracy results once the faulty session data is removed.\n",
    "\n",
    "Additionally, we see only one session remains in the Trainee."
   ]
  },
  {
   "attachments": {},
   "cell_type": "markdown",
   "id": "18a6ce88",
   "metadata": {},
   "source": [
    "# Conclusion:\n",
    "\n",
    "We can see that by getting rid of the session with the faulty data, our Trainee performance improved dramatically, as expected. This capability provides the user with a very efficient way to maintain control over a continously evolving Trainee if the user is constantly adding training data.\n",
    "\n",
    "The tools shown in this and other recipes allows the user to find, diagnose, and act at a level of ease and precision that other machine learning models cannot match. This opens the door to possibilities for the user and provides a flexible platform that can adjust to any type of machine learning needs."
   ]
  }
 ],
 "metadata": {
  "kernelspec": {
   "display_name": "engine_rec_312",
   "language": "python",
   "name": "python3"
  },
  "language_info": {
   "codemirror_mode": {
    "name": "ipython",
    "version": 3
   },
   "file_extension": ".py",
   "mimetype": "text/x-python",
   "name": "python",
   "nbconvert_exporter": "python",
   "pygments_lexer": "ipython3",
   "version": "3.10.18"
  }
 },
 "nbformat": 4,
 "nbformat_minor": 5
}
