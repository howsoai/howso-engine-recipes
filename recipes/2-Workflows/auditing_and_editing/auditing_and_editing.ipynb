{
 "cells": [
  {
   "attachments": {},
   "cell_type": "markdown",
   "id": "69d7ac54-9a3b-4327-93a5-eb6fbf314530",
   "metadata": {
    "tags": []
   },
   "source": [
    "# Auditing and Editing\n",
    "## Overview \n",
    "\n",
    "Howso Engine's instance-based machine learning approach enables unique capabilities in addition to interpretability, which we learned about in the other recipes. We were able to detect possible anomalies and investigate Influential Cases and features that may be of concern. Using that information combined with Howso Engine giving us dynamic control over our Trainee, we can take meaningful action without having to dramatically incur additional expenses such as recreating the model. This is in contrast to most machine learning models which, once trained, are difficult to update without retraining the entire model. \n",
    "\n",
    "In this notebook we demonstrate the editability of a Howso Engine Trainee to take advantage of the Trainee and data diagnostic results shown from the `engine-insights.ipynb` recipe. \n",
    "\n",
    "This can be done on a small scale where we show how a case can be edited or removed to modify the behavior of the Trainee. A Howso Engine session allows us to toggle entire batches of training data and add/remove large chunks of training data. This can be very useful if we are continously adding data to our Trainee and we discover that certain batches are undesirable.\n",
    "\n",
    "### Sessions\n",
    "\n",
    "A Trainee Session is associated with each modification to a Trainee, which is useful for auditability. A session consists of the following information:  \n",
    "\n",
    "- Unique identifier  \n",
    "\n",
    "- The user for which the Session was created  \n",
    "\n",
    "- Date the Session was created \n",
    "\n",
    "- Name, given by the user (Optional) \n",
    "\n",
    "- Metadata for the user to store information (Optional) \n",
    "\n",
    "When working with Trainees, a default session will be automatically started for you unless you explicitly start (or create) your own. This session will be used for all interactions with the Trainee, unless a new session is explicitly started, for as long as your client is running. Additionally, each instance of a Howso Client will use its own unique active session. Starting a new session explicitly is useful if you want to give it a name and/or metadata for your own reference later, or if you wish to use separate sessions for different modifications of the Trainee. For example, using a unique session each time you train would allow you to later reference the specific cases that were trained by a certain session. \n"
   ]
  },
  {
   "attachments": {},
   "cell_type": "markdown",
   "id": "8c9eefe9",
   "metadata": {},
   "source": [
    "## Recipe Goals:\n",
    "\n",
    "This notebook will show how to edit cases in a Howso Engine Trainee, either individually or in batches through the use of Sessions. This will allow the user to take actions on cases they deem necessary through use of the interpretability and auditing tools shown in other recipes."
   ]
  },
  {
   "cell_type": "code",
   "execution_count": 1,
   "id": "f6cbaf0d-4f1f-410d-9cfd-1114f34c8c00",
   "metadata": {
    "execution": {
     "iopub.execute_input": "2025-09-02T19:49:22.203653Z",
     "iopub.status.busy": "2025-09-02T19:49:22.203466Z",
     "iopub.status.idle": "2025-09-02T19:49:22.586983Z",
     "shell.execute_reply": "2025-09-02T19:49:22.586328Z"
    }
   },
   "outputs": [],
   "source": [
    "import pandas as pd\n",
    "from pmlb import fetch_data\n",
    "\n",
    "from howso import engine\n",
    "from howso.utilities import infer_feature_attributes"
   ]
  },
  {
   "attachments": {},
   "cell_type": "markdown",
   "id": "f02595ed-6e01-4c05-91de-67c938fd402d",
   "metadata": {},
   "source": [
    "# Section 1: Train, Analyze, and Evaluate"
   ]
  },
  {
   "attachments": {},
   "cell_type": "markdown",
   "id": "8a1f5ffa-d96e-44b8-9152-9e7811b6f9b4",
   "metadata": {},
   "source": [
    "For questions about the specific steps of this section, please see the [basic workflow guide](https://docs.howso.com/en/release-latest/user_guide/basic_capabilities/basic_workflow.html).\n",
    "\n",
    "### Step 1: Load Data\n",
    "\n",
    "Our example dataset for this recipe continues to be the well known `Adult` dataset. This dataset consists of 14 Context Features and 1 Action Feature. The Action Feature in this version of the `Adult` dataset has been renamed to `target` and it takes the form of a binary indicator for whether a person in the data makes over $50,000/year (*target*=1) or less (*target*=0)."
   ]
  },
  {
   "cell_type": "code",
   "execution_count": 2,
   "id": "e5a7a925-5a9d-47fb-b4a3-3272203d4772",
   "metadata": {
    "execution": {
     "iopub.execute_input": "2025-09-02T19:49:22.589370Z",
     "iopub.status.busy": "2025-09-02T19:49:22.589184Z",
     "iopub.status.idle": "2025-09-02T19:49:22.660179Z",
     "shell.execute_reply": "2025-09-02T19:49:22.659586Z"
    }
   },
   "outputs": [
    {
     "data": {
      "text/html": [
       "<div>\n",
       "<style scoped>\n",
       "    .dataframe tbody tr th:only-of-type {\n",
       "        vertical-align: middle;\n",
       "    }\n",
       "\n",
       "    .dataframe tbody tr th {\n",
       "        vertical-align: top;\n",
       "    }\n",
       "\n",
       "    .dataframe thead th {\n",
       "        text-align: right;\n",
       "    }\n",
       "</style>\n",
       "<table border=\"1\" class=\"dataframe\">\n",
       "  <thead>\n",
       "    <tr style=\"text-align: right;\">\n",
       "      <th></th>\n",
       "      <th>age</th>\n",
       "      <th>workclass</th>\n",
       "      <th>fnlwgt</th>\n",
       "      <th>education</th>\n",
       "      <th>education-num</th>\n",
       "      <th>marital-status</th>\n",
       "      <th>occupation</th>\n",
       "      <th>relationship</th>\n",
       "      <th>race</th>\n",
       "      <th>sex</th>\n",
       "      <th>capital-gain</th>\n",
       "      <th>capital-loss</th>\n",
       "      <th>hours-per-week</th>\n",
       "      <th>native-country</th>\n",
       "      <th>target</th>\n",
       "    </tr>\n",
       "  </thead>\n",
       "  <tbody>\n",
       "    <tr>\n",
       "      <th>38113</th>\n",
       "      <td>41.0</td>\n",
       "      <td>4</td>\n",
       "      <td>151856.0</td>\n",
       "      <td>11</td>\n",
       "      <td>9.0</td>\n",
       "      <td>2</td>\n",
       "      <td>11</td>\n",
       "      <td>0</td>\n",
       "      <td>4</td>\n",
       "      <td>1</td>\n",
       "      <td>0.0</td>\n",
       "      <td>0.0</td>\n",
       "      <td>40.0</td>\n",
       "      <td>39</td>\n",
       "      <td>1</td>\n",
       "    </tr>\n",
       "    <tr>\n",
       "      <th>39214</th>\n",
       "      <td>57.0</td>\n",
       "      <td>6</td>\n",
       "      <td>87584.0</td>\n",
       "      <td>10</td>\n",
       "      <td>16.0</td>\n",
       "      <td>0</td>\n",
       "      <td>10</td>\n",
       "      <td>1</td>\n",
       "      <td>4</td>\n",
       "      <td>0</td>\n",
       "      <td>0.0</td>\n",
       "      <td>0.0</td>\n",
       "      <td>25.0</td>\n",
       "      <td>39</td>\n",
       "      <td>1</td>\n",
       "    </tr>\n",
       "    <tr>\n",
       "      <th>44248</th>\n",
       "      <td>31.0</td>\n",
       "      <td>2</td>\n",
       "      <td>220669.0</td>\n",
       "      <td>9</td>\n",
       "      <td>13.0</td>\n",
       "      <td>4</td>\n",
       "      <td>10</td>\n",
       "      <td>3</td>\n",
       "      <td>4</td>\n",
       "      <td>0</td>\n",
       "      <td>6849.0</td>\n",
       "      <td>0.0</td>\n",
       "      <td>40.0</td>\n",
       "      <td>39</td>\n",
       "      <td>1</td>\n",
       "    </tr>\n",
       "    <tr>\n",
       "      <th>10283</th>\n",
       "      <td>55.0</td>\n",
       "      <td>4</td>\n",
       "      <td>171355.0</td>\n",
       "      <td>8</td>\n",
       "      <td>11.0</td>\n",
       "      <td>2</td>\n",
       "      <td>7</td>\n",
       "      <td>0</td>\n",
       "      <td>4</td>\n",
       "      <td>1</td>\n",
       "      <td>0.0</td>\n",
       "      <td>0.0</td>\n",
       "      <td>20.0</td>\n",
       "      <td>39</td>\n",
       "      <td>1</td>\n",
       "    </tr>\n",
       "    <tr>\n",
       "      <th>26724</th>\n",
       "      <td>59.0</td>\n",
       "      <td>6</td>\n",
       "      <td>148626.0</td>\n",
       "      <td>0</td>\n",
       "      <td>6.0</td>\n",
       "      <td>2</td>\n",
       "      <td>5</td>\n",
       "      <td>0</td>\n",
       "      <td>4</td>\n",
       "      <td>1</td>\n",
       "      <td>0.0</td>\n",
       "      <td>0.0</td>\n",
       "      <td>40.0</td>\n",
       "      <td>39</td>\n",
       "      <td>1</td>\n",
       "    </tr>\n",
       "    <tr>\n",
       "      <th>...</th>\n",
       "      <td>...</td>\n",
       "      <td>...</td>\n",
       "      <td>...</td>\n",
       "      <td>...</td>\n",
       "      <td>...</td>\n",
       "      <td>...</td>\n",
       "      <td>...</td>\n",
       "      <td>...</td>\n",
       "      <td>...</td>\n",
       "      <td>...</td>\n",
       "      <td>...</td>\n",
       "      <td>...</td>\n",
       "      <td>...</td>\n",
       "      <td>...</td>\n",
       "      <td>...</td>\n",
       "    </tr>\n",
       "    <tr>\n",
       "      <th>4721</th>\n",
       "      <td>60.0</td>\n",
       "      <td>0</td>\n",
       "      <td>204486.0</td>\n",
       "      <td>9</td>\n",
       "      <td>13.0</td>\n",
       "      <td>2</td>\n",
       "      <td>0</td>\n",
       "      <td>0</td>\n",
       "      <td>4</td>\n",
       "      <td>1</td>\n",
       "      <td>0.0</td>\n",
       "      <td>0.0</td>\n",
       "      <td>8.0</td>\n",
       "      <td>39</td>\n",
       "      <td>0</td>\n",
       "    </tr>\n",
       "    <tr>\n",
       "      <th>40113</th>\n",
       "      <td>48.0</td>\n",
       "      <td>2</td>\n",
       "      <td>93449.0</td>\n",
       "      <td>14</td>\n",
       "      <td>15.0</td>\n",
       "      <td>2</td>\n",
       "      <td>10</td>\n",
       "      <td>0</td>\n",
       "      <td>1</td>\n",
       "      <td>1</td>\n",
       "      <td>99999.0</td>\n",
       "      <td>0.0</td>\n",
       "      <td>40.0</td>\n",
       "      <td>30</td>\n",
       "      <td>0</td>\n",
       "    </tr>\n",
       "    <tr>\n",
       "      <th>17827</th>\n",
       "      <td>25.0</td>\n",
       "      <td>4</td>\n",
       "      <td>114838.0</td>\n",
       "      <td>14</td>\n",
       "      <td>15.0</td>\n",
       "      <td>4</td>\n",
       "      <td>10</td>\n",
       "      <td>1</td>\n",
       "      <td>4</td>\n",
       "      <td>0</td>\n",
       "      <td>0.0</td>\n",
       "      <td>0.0</td>\n",
       "      <td>8.0</td>\n",
       "      <td>22</td>\n",
       "      <td>1</td>\n",
       "    </tr>\n",
       "    <tr>\n",
       "      <th>35120</th>\n",
       "      <td>22.0</td>\n",
       "      <td>4</td>\n",
       "      <td>202125.0</td>\n",
       "      <td>11</td>\n",
       "      <td>9.0</td>\n",
       "      <td>2</td>\n",
       "      <td>12</td>\n",
       "      <td>0</td>\n",
       "      <td>4</td>\n",
       "      <td>1</td>\n",
       "      <td>0.0</td>\n",
       "      <td>0.0</td>\n",
       "      <td>50.0</td>\n",
       "      <td>39</td>\n",
       "      <td>1</td>\n",
       "    </tr>\n",
       "    <tr>\n",
       "      <th>9138</th>\n",
       "      <td>27.0</td>\n",
       "      <td>0</td>\n",
       "      <td>61387.0</td>\n",
       "      <td>9</td>\n",
       "      <td>13.0</td>\n",
       "      <td>2</td>\n",
       "      <td>0</td>\n",
       "      <td>0</td>\n",
       "      <td>4</td>\n",
       "      <td>1</td>\n",
       "      <td>0.0</td>\n",
       "      <td>0.0</td>\n",
       "      <td>15.0</td>\n",
       "      <td>39</td>\n",
       "      <td>1</td>\n",
       "    </tr>\n",
       "  </tbody>\n",
       "</table>\n",
       "<p>1001 rows × 15 columns</p>\n",
       "</div>"
      ],
      "text/plain": [
       "        age  workclass    fnlwgt  education  education-num  marital-status  \\\n",
       "38113  41.0          4  151856.0         11            9.0               2   \n",
       "39214  57.0          6   87584.0         10           16.0               0   \n",
       "44248  31.0          2  220669.0          9           13.0               4   \n",
       "10283  55.0          4  171355.0          8           11.0               2   \n",
       "26724  59.0          6  148626.0          0            6.0               2   \n",
       "...     ...        ...       ...        ...            ...             ...   \n",
       "4721   60.0          0  204486.0          9           13.0               2   \n",
       "40113  48.0          2   93449.0         14           15.0               2   \n",
       "17827  25.0          4  114838.0         14           15.0               4   \n",
       "35120  22.0          4  202125.0         11            9.0               2   \n",
       "9138   27.0          0   61387.0          9           13.0               2   \n",
       "\n",
       "       occupation  relationship  race  sex  capital-gain  capital-loss  \\\n",
       "38113          11             0     4    1           0.0           0.0   \n",
       "39214          10             1     4    0           0.0           0.0   \n",
       "44248          10             3     4    0        6849.0           0.0   \n",
       "10283           7             0     4    1           0.0           0.0   \n",
       "26724           5             0     4    1           0.0           0.0   \n",
       "...           ...           ...   ...  ...           ...           ...   \n",
       "4721            0             0     4    1           0.0           0.0   \n",
       "40113          10             0     1    1       99999.0           0.0   \n",
       "17827          10             1     4    0           0.0           0.0   \n",
       "35120          12             0     4    1           0.0           0.0   \n",
       "9138            0             0     4    1           0.0           0.0   \n",
       "\n",
       "       hours-per-week  native-country  target  \n",
       "38113            40.0              39       1  \n",
       "39214            25.0              39       1  \n",
       "44248            40.0              39       1  \n",
       "10283            20.0              39       1  \n",
       "26724            40.0              39       1  \n",
       "...               ...             ...     ...  \n",
       "4721              8.0              39       0  \n",
       "40113            40.0              30       0  \n",
       "17827             8.0              22       1  \n",
       "35120            50.0              39       1  \n",
       "9138             15.0              39       1  \n",
       "\n",
       "[1001 rows x 15 columns]"
      ]
     },
     "execution_count": 2,
     "metadata": {},
     "output_type": "execute_result"
    }
   ],
   "source": [
    "df = fetch_data('adult', local_cache_dir=\"../../data/adult\")\n",
    "\n",
    "# subsample the data to ensure the example runs quickly\n",
    "df = df.sample(1001, random_state=0)\n",
    "\n",
    "df"
   ]
  },
  {
   "attachments": {},
   "cell_type": "markdown",
   "id": "35ec53b0-b623-427a-b2a6-8e55ebfef1bc",
   "metadata": {},
   "source": [
    "### Step 2: Train Trainee utilizing Sessions\n",
    "\n",
    "In this section we will perform all of the steps needed to train Howso Engine's Trainee."
   ]
  },
  {
   "cell_type": "code",
   "execution_count": 3,
   "id": "086a95e5-e236-4806-b6e4-65ea94f43f28",
   "metadata": {
    "execution": {
     "iopub.execute_input": "2025-09-02T19:49:22.662248Z",
     "iopub.status.busy": "2025-09-02T19:49:22.662060Z",
     "iopub.status.idle": "2025-09-02T19:49:22.687902Z",
     "shell.execute_reply": "2025-09-02T19:49:22.687309Z"
    }
   },
   "outputs": [],
   "source": [
    "# Infer features attributes\n",
    "features = infer_feature_attributes(df)\n",
    "\n",
    "# Specify Context and Action Features\n",
    "action_features = ['target']\n",
    "context_features = features.get_names(without=action_features)\n",
    "\n",
    "# We extract one row for demonstrative purposes later\n",
    "test_case = df.iloc[0]\n",
    "df = df.iloc[1:]\n",
    "\n",
    "# Split the data into Context Features (X) and Action Feature (y)\n",
    "dfX = df[context_features]\n",
    "dfy = df[action_features]"
   ]
  },
  {
   "attachments": {},
   "cell_type": "markdown",
   "id": "b83b096b-8bb1-482e-8ed2-dc7c2a7b2c90",
   "metadata": {},
   "source": [
    "To demonstrate how to edit cases, we will break the training into two sessions. \n",
    "\n",
    "1. The first session is for half of the original dataset \n",
    "2. The second session is a modified version of the remaining half of the original dataset containing a target feature that is flipped from the true value"
   ]
  },
  {
   "cell_type": "code",
   "execution_count": 4,
   "id": "df523c17",
   "metadata": {
    "execution": {
     "iopub.execute_input": "2025-09-02T19:49:22.690066Z",
     "iopub.status.busy": "2025-09-02T19:49:22.689864Z",
     "iopub.status.idle": "2025-09-02T19:49:22.694979Z",
     "shell.execute_reply": "2025-09-02T19:49:22.694482Z"
    }
   },
   "outputs": [],
   "source": [
    "ind_session_1 = dfX.index[ :(dfX.shape[0] //2 )]\n",
    "ind_session_2 = dfX.index[ (dfX.shape[0] //2 ):]\n",
    "\n",
    "X_train_1 = dfX.loc[ind_session_1]\n",
    "y_train_1 = dfy.loc[ind_session_1]\n",
    "\n",
    "X_train_2 = dfX.loc[ind_session_2]\n",
    "\n",
    "# Flip the target value for the second set of target feature values\n",
    "y_train = dfy['target']\n",
    "y_train_2 = pd.Series([int(not x) for x in y_train.loc[ind_session_2]], name=action_features[0], index=ind_session_2)"
   ]
  },
  {
   "cell_type": "code",
   "execution_count": 5,
   "id": "ab02d5f1-77b1-432f-a2ef-02009cb5cdb0",
   "metadata": {
    "execution": {
     "iopub.execute_input": "2025-09-02T19:49:22.696768Z",
     "iopub.status.busy": "2025-09-02T19:49:22.696585Z",
     "iopub.status.idle": "2025-09-02T19:49:27.950500Z",
     "shell.execute_reply": "2025-09-02T19:49:27.949838Z"
    }
   },
   "outputs": [],
   "source": [
    "# Create the Trainee\n",
    "t = engine.Trainee(\n",
    "    features=features,\n",
    "    overwrite_existing=True\n",
    ")\n",
    "\n",
    "session = engine.Session('train_session_1', metadata={'data': 'original data'})\n",
    "t.train(X_train_1.join(y_train_1))\n",
    "\n",
    "session = engine.Session('train_session_2', metadata={'data': 'modified data (flipped target values)'})\n",
    "t.train(X_train_2.join(y_train_2))\n",
    "\n",
    "# Analyze the Trainee\n",
    "t.analyze()"
   ]
  },
  {
   "attachments": {},
   "cell_type": "markdown",
   "id": "f07c698d",
   "metadata": {},
   "source": [
    "### Step 3: Inspect Results"
   ]
  },
  {
   "cell_type": "code",
   "execution_count": 6,
   "id": "45217946-f4aa-49e9-85d4-e4abd1282a77",
   "metadata": {
    "execution": {
     "iopub.execute_input": "2025-09-02T19:49:27.952916Z",
     "iopub.status.busy": "2025-09-02T19:49:27.952691Z",
     "iopub.status.idle": "2025-09-02T19:49:29.445539Z",
     "shell.execute_reply": "2025-09-02T19:49:29.444923Z"
    }
   },
   "outputs": [
    {
     "name": "stdout",
     "output_type": "stream",
     "text": [
      "Test set prediction accuracy: 0.497\n"
     ]
    }
   ],
   "source": [
    "accuracy = t.react_aggregate(\n",
    "    details = {\n",
    "    \"prediction_stats\": True,\n",
    "    \"selected_prediction_stats\": ['accuracy'],\n",
    "    }\n",
    ")['target'].iloc[0]\n",
    "\n",
    "print(\"Test set prediction accuracy: {acc}\".format(acc=accuracy))"
   ]
  },
  {
   "attachments": {},
   "cell_type": "markdown",
   "id": "d80eb77e",
   "metadata": {},
   "source": [
    "As expected, flipping the target feature's values for half of the data greatly reduces the accuracy compared to the expected accuracy shown in recipe `engine-intro.ipynb`.\n",
    "\n",
    "While it is unrealistic to know this ahead of time in a real world setting, we will use this stark result to clearly demonstrate the effect of Trainee editing.\n"
   ]
  },
  {
   "attachments": {},
   "cell_type": "markdown",
   "id": "98f3d772-0f56-4454-87dc-d24ff5cb40dd",
   "metadata": {},
   "source": [
    "# Section 2: Audit & Edit a Trainee"
   ]
  },
  {
   "attachments": {},
   "cell_type": "markdown",
   "id": "a48766ad",
   "metadata": {},
   "source": [
    "There are many reasons to audit and edit a Trainee. In other recipes, we highlighted several training cases that may be anomalous that may be candidates for removal. In this recipe, we have a entire chunk of training data that is incorrect. Howso Engine has the ability to edit data at different scales.\n",
    "\n",
    "What sets Howso Engine apart from other machine learning models is there is no need for retraining. For example, if we use `Scikit-Learn`'s Logistic regression and discover that our training data consists of cases we would like to remove, then we would have to go back to the beginning of the workflow, remove the problematic cases from the training data, and completely retrain the model.\n",
    "\n",
    "In Howso Engine, this is unnecessary unless a very large portion of the training data is altered. If this is the case, re-analyzing the Trainee may be appropriate, although it is not strictly necessary."
   ]
  },
  {
   "attachments": {},
   "cell_type": "markdown",
   "id": "ad59b531-a9a5-4892-a911-8d347c62b8f3",
   "metadata": {},
   "source": [
    "### Step 1: Editing Individual Cases to Tune the Trainee\n",
    "\n",
    "Here we demonstrate how to edit a Trainee one case at a time. Editing a case allows the user to modify or \"fix\" the behavior of the Trainee by the targeted editing of one or more cases. The user has complete control over all data in the Trainee, making it dynamic and quickly adjustable. Users do not need to worry about minor mistakes as the Trainee can be fine-tuned with this method after training.\n",
    "\n",
    "In our use case, the anomalous cases identified for the `Adult` dataset in `anomaly_detection.ipynb`recipe represents possible cases we want to edit. We noticed certain cases with unusual values for `capital-gains` like 99999 that look like they are nominal values representing other values, such as blanks. Editing cases allows us to easily correct these minor issues for an otherwise valid case post-training. \n",
    "\n",
    "If we believe that a case is entirely invalid and warrants removal, Howso Engine can also remove it entirely.\n",
    "\n",
    "To demonstrate this ability, we `react` to a single case to compare the predictions before and after an edit."
   ]
  },
  {
   "cell_type": "code",
   "execution_count": 7,
   "id": "16bceb2a-45f4-491e-829c-b706c829f014",
   "metadata": {
    "execution": {
     "iopub.execute_input": "2025-09-02T19:49:29.447808Z",
     "iopub.status.busy": "2025-09-02T19:49:29.447625Z",
     "iopub.status.idle": "2025-09-02T19:49:29.454564Z",
     "shell.execute_reply": "2025-09-02T19:49:29.454051Z"
    }
   },
   "outputs": [],
   "source": [
    "test_case_X = test_case[context_features]\n",
    "test_case_y = test_case[action_features]\n",
    "\n",
    "details = {\n",
    "    'influential_cases':True,\n",
    "}\n",
    "\n",
    "new_result = t.react(\n",
    "    [test_case_X.values.tolist()],\n",
    "    context_features=context_features,\n",
    "    action_features=action_features,\n",
    "    details=details\n",
    ")"
   ]
  },
  {
   "cell_type": "code",
   "execution_count": 8,
   "id": "4a89ab1f-6288-4240-a36c-d6ecef0c53e8",
   "metadata": {
    "execution": {
     "iopub.execute_input": "2025-09-02T19:49:29.456441Z",
     "iopub.status.busy": "2025-09-02T19:49:29.456230Z",
     "iopub.status.idle": "2025-09-02T19:49:29.459623Z",
     "shell.execute_reply": "2025-09-02T19:49:29.459106Z"
    }
   },
   "outputs": [
    {
     "name": "stdout",
     "output_type": "stream",
     "text": [
      "prediction: 0\n",
      "actual: 1\n"
     ]
    }
   ],
   "source": [
    "print('prediction: {}'.format(int(new_result['action']['target'].iloc[0])))\n",
    "print('actual: {}'.format(int(test_case_y.iloc[0])))"
   ]
  },
  {
   "attachments": {},
   "cell_type": "markdown",
   "id": "12c8a440",
   "metadata": {},
   "source": [
    "#### Results \n",
    "\n",
    "We can see that the the predicted value is incorrect. If we want to artifically correct this prediction using our Trainee, we can edit its influential cases. This is for demonstrative purposes only and we do not recommend editing influential cases without fully investigating the cases."
   ]
  },
  {
   "attachments": {},
   "cell_type": "markdown",
   "id": "f5d34c48",
   "metadata": {},
   "source": [
    "### Step 2: Identify Influential Cases\n",
    "\n",
    "To determine which cases we want to edit, we identify the Influential Cases."
   ]
  },
  {
   "cell_type": "code",
   "execution_count": 9,
   "id": "0ee63dbe-f115-4874-9a71-a8736518a967",
   "metadata": {
    "execution": {
     "iopub.execute_input": "2025-09-02T19:49:29.461571Z",
     "iopub.status.busy": "2025-09-02T19:49:29.461401Z",
     "iopub.status.idle": "2025-09-02T19:49:29.473625Z",
     "shell.execute_reply": "2025-09-02T19:49:29.473139Z"
    }
   },
   "outputs": [
    {
     "data": {
      "text/html": [
       "<div>\n",
       "<style scoped>\n",
       "    .dataframe tbody tr th:only-of-type {\n",
       "        vertical-align: middle;\n",
       "    }\n",
       "\n",
       "    .dataframe tbody tr th {\n",
       "        vertical-align: top;\n",
       "    }\n",
       "\n",
       "    .dataframe thead th {\n",
       "        text-align: right;\n",
       "    }\n",
       "</style>\n",
       "<table border=\"1\" class=\"dataframe\">\n",
       "  <thead>\n",
       "    <tr style=\"text-align: right;\">\n",
       "      <th></th>\n",
       "      <th>education-num</th>\n",
       "      <th>.session</th>\n",
       "      <th>sex</th>\n",
       "      <th>relationship</th>\n",
       "      <th>.influence_weight</th>\n",
       "      <th>hours-per-week</th>\n",
       "      <th>fnlwgt</th>\n",
       "      <th>target</th>\n",
       "      <th>marital-status</th>\n",
       "      <th>capital-gain</th>\n",
       "      <th>age</th>\n",
       "      <th>native-country</th>\n",
       "      <th>education</th>\n",
       "      <th>.session_training_index</th>\n",
       "      <th>occupation</th>\n",
       "      <th>race</th>\n",
       "      <th>capital-loss</th>\n",
       "      <th>workclass</th>\n",
       "    </tr>\n",
       "  </thead>\n",
       "  <tbody>\n",
       "    <tr>\n",
       "      <th>0</th>\n",
       "      <td>9</td>\n",
       "      <td>7343b944-8e48-4d28-93f0-8826fd89e067</td>\n",
       "      <td>1</td>\n",
       "      <td>0</td>\n",
       "      <td>0.064131</td>\n",
       "      <td>40</td>\n",
       "      <td>171351</td>\n",
       "      <td>0</td>\n",
       "      <td>2</td>\n",
       "      <td>0</td>\n",
       "      <td>42</td>\n",
       "      <td>39</td>\n",
       "      <td>11</td>\n",
       "      <td>410</td>\n",
       "      <td>6</td>\n",
       "      <td>4</td>\n",
       "      <td>0</td>\n",
       "      <td>4</td>\n",
       "    </tr>\n",
       "    <tr>\n",
       "      <th>1</th>\n",
       "      <td>9</td>\n",
       "      <td>7343b944-8e48-4d28-93f0-8826fd89e067</td>\n",
       "      <td>1</td>\n",
       "      <td>0</td>\n",
       "      <td>0.063206</td>\n",
       "      <td>40</td>\n",
       "      <td>114157</td>\n",
       "      <td>0</td>\n",
       "      <td>2</td>\n",
       "      <td>0</td>\n",
       "      <td>40</td>\n",
       "      <td>39</td>\n",
       "      <td>11</td>\n",
       "      <td>341</td>\n",
       "      <td>7</td>\n",
       "      <td>4</td>\n",
       "      <td>0</td>\n",
       "      <td>4</td>\n",
       "    </tr>\n",
       "    <tr>\n",
       "      <th>2</th>\n",
       "      <td>9</td>\n",
       "      <td>7343b944-8e48-4d28-93f0-8826fd89e067</td>\n",
       "      <td>1</td>\n",
       "      <td>0</td>\n",
       "      <td>0.057904</td>\n",
       "      <td>40</td>\n",
       "      <td>53956</td>\n",
       "      <td>0</td>\n",
       "      <td>2</td>\n",
       "      <td>0</td>\n",
       "      <td>42</td>\n",
       "      <td>39</td>\n",
       "      <td>11</td>\n",
       "      <td>172</td>\n",
       "      <td>6</td>\n",
       "      <td>4</td>\n",
       "      <td>0</td>\n",
       "      <td>4</td>\n",
       "    </tr>\n",
       "    <tr>\n",
       "      <th>3</th>\n",
       "      <td>9</td>\n",
       "      <td>cd605596-7b5f-4d16-ae84-f9231de7c943</td>\n",
       "      <td>1</td>\n",
       "      <td>0</td>\n",
       "      <td>0.057818</td>\n",
       "      <td>50</td>\n",
       "      <td>144002</td>\n",
       "      <td>0</td>\n",
       "      <td>2</td>\n",
       "      <td>0</td>\n",
       "      <td>42</td>\n",
       "      <td>39</td>\n",
       "      <td>11</td>\n",
       "      <td>371</td>\n",
       "      <td>4</td>\n",
       "      <td>4</td>\n",
       "      <td>0</td>\n",
       "      <td>4</td>\n",
       "    </tr>\n",
       "    <tr>\n",
       "      <th>4</th>\n",
       "      <td>9</td>\n",
       "      <td>cd605596-7b5f-4d16-ae84-f9231de7c943</td>\n",
       "      <td>1</td>\n",
       "      <td>0</td>\n",
       "      <td>0.057582</td>\n",
       "      <td>40</td>\n",
       "      <td>240504</td>\n",
       "      <td>1</td>\n",
       "      <td>2</td>\n",
       "      <td>0</td>\n",
       "      <td>43</td>\n",
       "      <td>39</td>\n",
       "      <td>11</td>\n",
       "      <td>453</td>\n",
       "      <td>6</td>\n",
       "      <td>4</td>\n",
       "      <td>0</td>\n",
       "      <td>4</td>\n",
       "    </tr>\n",
       "    <tr>\n",
       "      <th>5</th>\n",
       "      <td>9</td>\n",
       "      <td>7343b944-8e48-4d28-93f0-8826fd89e067</td>\n",
       "      <td>1</td>\n",
       "      <td>0</td>\n",
       "      <td>0.056587</td>\n",
       "      <td>50</td>\n",
       "      <td>144169</td>\n",
       "      <td>1</td>\n",
       "      <td>2</td>\n",
       "      <td>0</td>\n",
       "      <td>39</td>\n",
       "      <td>39</td>\n",
       "      <td>11</td>\n",
       "      <td>249</td>\n",
       "      <td>12</td>\n",
       "      <td>4</td>\n",
       "      <td>0</td>\n",
       "      <td>4</td>\n",
       "    </tr>\n",
       "    <tr>\n",
       "      <th>6</th>\n",
       "      <td>9</td>\n",
       "      <td>cd605596-7b5f-4d16-ae84-f9231de7c943</td>\n",
       "      <td>1</td>\n",
       "      <td>0</td>\n",
       "      <td>0.055981</td>\n",
       "      <td>40</td>\n",
       "      <td>214738</td>\n",
       "      <td>1</td>\n",
       "      <td>2</td>\n",
       "      <td>0</td>\n",
       "      <td>37</td>\n",
       "      <td>39</td>\n",
       "      <td>11</td>\n",
       "      <td>176</td>\n",
       "      <td>7</td>\n",
       "      <td>4</td>\n",
       "      <td>0</td>\n",
       "      <td>4</td>\n",
       "    </tr>\n",
       "    <tr>\n",
       "      <th>7</th>\n",
       "      <td>9</td>\n",
       "      <td>7343b944-8e48-4d28-93f0-8826fd89e067</td>\n",
       "      <td>1</td>\n",
       "      <td>0</td>\n",
       "      <td>0.055738</td>\n",
       "      <td>40</td>\n",
       "      <td>183279</td>\n",
       "      <td>0</td>\n",
       "      <td>2</td>\n",
       "      <td>0</td>\n",
       "      <td>36</td>\n",
       "      <td>39</td>\n",
       "      <td>11</td>\n",
       "      <td>347</td>\n",
       "      <td>3</td>\n",
       "      <td>4</td>\n",
       "      <td>0</td>\n",
       "      <td>4</td>\n",
       "    </tr>\n",
       "    <tr>\n",
       "      <th>8</th>\n",
       "      <td>9</td>\n",
       "      <td>cd605596-7b5f-4d16-ae84-f9231de7c943</td>\n",
       "      <td>1</td>\n",
       "      <td>0</td>\n",
       "      <td>0.054416</td>\n",
       "      <td>45</td>\n",
       "      <td>132912</td>\n",
       "      <td>0</td>\n",
       "      <td>2</td>\n",
       "      <td>0</td>\n",
       "      <td>46</td>\n",
       "      <td>39</td>\n",
       "      <td>11</td>\n",
       "      <td>113</td>\n",
       "      <td>12</td>\n",
       "      <td>4</td>\n",
       "      <td>0</td>\n",
       "      <td>4</td>\n",
       "    </tr>\n",
       "    <tr>\n",
       "      <th>9</th>\n",
       "      <td>9</td>\n",
       "      <td>cd605596-7b5f-4d16-ae84-f9231de7c943</td>\n",
       "      <td>1</td>\n",
       "      <td>0</td>\n",
       "      <td>0.054407</td>\n",
       "      <td>40</td>\n",
       "      <td>98360</td>\n",
       "      <td>1</td>\n",
       "      <td>2</td>\n",
       "      <td>0</td>\n",
       "      <td>36</td>\n",
       "      <td>39</td>\n",
       "      <td>11</td>\n",
       "      <td>473</td>\n",
       "      <td>4</td>\n",
       "      <td>4</td>\n",
       "      <td>0</td>\n",
       "      <td>4</td>\n",
       "    </tr>\n",
       "    <tr>\n",
       "      <th>10</th>\n",
       "      <td>9</td>\n",
       "      <td>7343b944-8e48-4d28-93f0-8826fd89e067</td>\n",
       "      <td>1</td>\n",
       "      <td>0</td>\n",
       "      <td>0.054312</td>\n",
       "      <td>40</td>\n",
       "      <td>288679</td>\n",
       "      <td>0</td>\n",
       "      <td>2</td>\n",
       "      <td>0</td>\n",
       "      <td>41</td>\n",
       "      <td>39</td>\n",
       "      <td>11</td>\n",
       "      <td>145</td>\n",
       "      <td>3</td>\n",
       "      <td>4</td>\n",
       "      <td>0</td>\n",
       "      <td>4</td>\n",
       "    </tr>\n",
       "    <tr>\n",
       "      <th>11</th>\n",
       "      <td>9</td>\n",
       "      <td>cd605596-7b5f-4d16-ae84-f9231de7c943</td>\n",
       "      <td>1</td>\n",
       "      <td>0</td>\n",
       "      <td>0.054099</td>\n",
       "      <td>40</td>\n",
       "      <td>209629</td>\n",
       "      <td>1</td>\n",
       "      <td>2</td>\n",
       "      <td>0</td>\n",
       "      <td>36</td>\n",
       "      <td>39</td>\n",
       "      <td>11</td>\n",
       "      <td>403</td>\n",
       "      <td>7</td>\n",
       "      <td>4</td>\n",
       "      <td>0</td>\n",
       "      <td>4</td>\n",
       "    </tr>\n",
       "    <tr>\n",
       "      <th>12</th>\n",
       "      <td>9</td>\n",
       "      <td>7343b944-8e48-4d28-93f0-8826fd89e067</td>\n",
       "      <td>1</td>\n",
       "      <td>0</td>\n",
       "      <td>0.053983</td>\n",
       "      <td>40</td>\n",
       "      <td>138441</td>\n",
       "      <td>0</td>\n",
       "      <td>2</td>\n",
       "      <td>0</td>\n",
       "      <td>35</td>\n",
       "      <td>39</td>\n",
       "      <td>11</td>\n",
       "      <td>185</td>\n",
       "      <td>1</td>\n",
       "      <td>4</td>\n",
       "      <td>0</td>\n",
       "      <td>4</td>\n",
       "    </tr>\n",
       "    <tr>\n",
       "      <th>13</th>\n",
       "      <td>9</td>\n",
       "      <td>7343b944-8e48-4d28-93f0-8826fd89e067</td>\n",
       "      <td>1</td>\n",
       "      <td>0</td>\n",
       "      <td>0.053015</td>\n",
       "      <td>40</td>\n",
       "      <td>269323</td>\n",
       "      <td>1</td>\n",
       "      <td>2</td>\n",
       "      <td>0</td>\n",
       "      <td>38</td>\n",
       "      <td>39</td>\n",
       "      <td>11</td>\n",
       "      <td>479</td>\n",
       "      <td>1</td>\n",
       "      <td>4</td>\n",
       "      <td>0</td>\n",
       "      <td>4</td>\n",
       "    </tr>\n",
       "    <tr>\n",
       "      <th>14</th>\n",
       "      <td>9</td>\n",
       "      <td>7343b944-8e48-4d28-93f0-8826fd89e067</td>\n",
       "      <td>1</td>\n",
       "      <td>0</td>\n",
       "      <td>0.052994</td>\n",
       "      <td>40</td>\n",
       "      <td>113152</td>\n",
       "      <td>0</td>\n",
       "      <td>2</td>\n",
       "      <td>0</td>\n",
       "      <td>35</td>\n",
       "      <td>39</td>\n",
       "      <td>11</td>\n",
       "      <td>203</td>\n",
       "      <td>7</td>\n",
       "      <td>4</td>\n",
       "      <td>0</td>\n",
       "      <td>4</td>\n",
       "    </tr>\n",
       "    <tr>\n",
       "      <th>15</th>\n",
       "      <td>9</td>\n",
       "      <td>7343b944-8e48-4d28-93f0-8826fd89e067</td>\n",
       "      <td>1</td>\n",
       "      <td>0</td>\n",
       "      <td>0.052697</td>\n",
       "      <td>45</td>\n",
       "      <td>99146</td>\n",
       "      <td>1</td>\n",
       "      <td>2</td>\n",
       "      <td>0</td>\n",
       "      <td>36</td>\n",
       "      <td>39</td>\n",
       "      <td>11</td>\n",
       "      <td>339</td>\n",
       "      <td>7</td>\n",
       "      <td>4</td>\n",
       "      <td>0</td>\n",
       "      <td>4</td>\n",
       "    </tr>\n",
       "    <tr>\n",
       "      <th>16</th>\n",
       "      <td>9</td>\n",
       "      <td>7343b944-8e48-4d28-93f0-8826fd89e067</td>\n",
       "      <td>1</td>\n",
       "      <td>0</td>\n",
       "      <td>0.051785</td>\n",
       "      <td>40</td>\n",
       "      <td>209739</td>\n",
       "      <td>0</td>\n",
       "      <td>2</td>\n",
       "      <td>0</td>\n",
       "      <td>47</td>\n",
       "      <td>39</td>\n",
       "      <td>11</td>\n",
       "      <td>307</td>\n",
       "      <td>6</td>\n",
       "      <td>4</td>\n",
       "      <td>0</td>\n",
       "      <td>4</td>\n",
       "    </tr>\n",
       "    <tr>\n",
       "      <th>17</th>\n",
       "      <td>9</td>\n",
       "      <td>7343b944-8e48-4d28-93f0-8826fd89e067</td>\n",
       "      <td>1</td>\n",
       "      <td>0</td>\n",
       "      <td>0.049344</td>\n",
       "      <td>55</td>\n",
       "      <td>211154</td>\n",
       "      <td>0</td>\n",
       "      <td>2</td>\n",
       "      <td>0</td>\n",
       "      <td>39</td>\n",
       "      <td>39</td>\n",
       "      <td>11</td>\n",
       "      <td>279</td>\n",
       "      <td>14</td>\n",
       "      <td>4</td>\n",
       "      <td>0</td>\n",
       "      <td>4</td>\n",
       "    </tr>\n",
       "  </tbody>\n",
       "</table>\n",
       "</div>"
      ],
      "text/plain": [
       "    education-num                              .session  sex  relationship  \\\n",
       "0               9  7343b944-8e48-4d28-93f0-8826fd89e067    1             0   \n",
       "1               9  7343b944-8e48-4d28-93f0-8826fd89e067    1             0   \n",
       "2               9  7343b944-8e48-4d28-93f0-8826fd89e067    1             0   \n",
       "3               9  cd605596-7b5f-4d16-ae84-f9231de7c943    1             0   \n",
       "4               9  cd605596-7b5f-4d16-ae84-f9231de7c943    1             0   \n",
       "5               9  7343b944-8e48-4d28-93f0-8826fd89e067    1             0   \n",
       "6               9  cd605596-7b5f-4d16-ae84-f9231de7c943    1             0   \n",
       "7               9  7343b944-8e48-4d28-93f0-8826fd89e067    1             0   \n",
       "8               9  cd605596-7b5f-4d16-ae84-f9231de7c943    1             0   \n",
       "9               9  cd605596-7b5f-4d16-ae84-f9231de7c943    1             0   \n",
       "10              9  7343b944-8e48-4d28-93f0-8826fd89e067    1             0   \n",
       "11              9  cd605596-7b5f-4d16-ae84-f9231de7c943    1             0   \n",
       "12              9  7343b944-8e48-4d28-93f0-8826fd89e067    1             0   \n",
       "13              9  7343b944-8e48-4d28-93f0-8826fd89e067    1             0   \n",
       "14              9  7343b944-8e48-4d28-93f0-8826fd89e067    1             0   \n",
       "15              9  7343b944-8e48-4d28-93f0-8826fd89e067    1             0   \n",
       "16              9  7343b944-8e48-4d28-93f0-8826fd89e067    1             0   \n",
       "17              9  7343b944-8e48-4d28-93f0-8826fd89e067    1             0   \n",
       "\n",
       "    .influence_weight  hours-per-week  fnlwgt  target  marital-status  \\\n",
       "0            0.064131              40  171351       0               2   \n",
       "1            0.063206              40  114157       0               2   \n",
       "2            0.057904              40   53956       0               2   \n",
       "3            0.057818              50  144002       0               2   \n",
       "4            0.057582              40  240504       1               2   \n",
       "5            0.056587              50  144169       1               2   \n",
       "6            0.055981              40  214738       1               2   \n",
       "7            0.055738              40  183279       0               2   \n",
       "8            0.054416              45  132912       0               2   \n",
       "9            0.054407              40   98360       1               2   \n",
       "10           0.054312              40  288679       0               2   \n",
       "11           0.054099              40  209629       1               2   \n",
       "12           0.053983              40  138441       0               2   \n",
       "13           0.053015              40  269323       1               2   \n",
       "14           0.052994              40  113152       0               2   \n",
       "15           0.052697              45   99146       1               2   \n",
       "16           0.051785              40  209739       0               2   \n",
       "17           0.049344              55  211154       0               2   \n",
       "\n",
       "    capital-gain  age  native-country  education  .session_training_index  \\\n",
       "0              0   42              39         11                      410   \n",
       "1              0   40              39         11                      341   \n",
       "2              0   42              39         11                      172   \n",
       "3              0   42              39         11                      371   \n",
       "4              0   43              39         11                      453   \n",
       "5              0   39              39         11                      249   \n",
       "6              0   37              39         11                      176   \n",
       "7              0   36              39         11                      347   \n",
       "8              0   46              39         11                      113   \n",
       "9              0   36              39         11                      473   \n",
       "10             0   41              39         11                      145   \n",
       "11             0   36              39         11                      403   \n",
       "12             0   35              39         11                      185   \n",
       "13             0   38              39         11                      479   \n",
       "14             0   35              39         11                      203   \n",
       "15             0   36              39         11                      339   \n",
       "16             0   47              39         11                      307   \n",
       "17             0   39              39         11                      279   \n",
       "\n",
       "    occupation  race  capital-loss  workclass  \n",
       "0            6     4             0          4  \n",
       "1            7     4             0          4  \n",
       "2            6     4             0          4  \n",
       "3            4     4             0          4  \n",
       "4            6     4             0          4  \n",
       "5           12     4             0          4  \n",
       "6            7     4             0          4  \n",
       "7            3     4             0          4  \n",
       "8           12     4             0          4  \n",
       "9            4     4             0          4  \n",
       "10           3     4             0          4  \n",
       "11           7     4             0          4  \n",
       "12           1     4             0          4  \n",
       "13           1     4             0          4  \n",
       "14           7     4             0          4  \n",
       "15           7     4             0          4  \n",
       "16           6     4             0          4  \n",
       "17          14     4             0          4  "
      ]
     },
     "execution_count": 9,
     "metadata": {},
     "output_type": "execute_result"
    }
   ],
   "source": [
    "influence_df = pd.DataFrame(new_result['details']['influential_cases'][0])\n",
    "influence_df"
   ]
  },
  {
   "attachments": {},
   "cell_type": "markdown",
   "id": "5659689f",
   "metadata": {},
   "source": [
    "We can see that many of the Influential Cases have the incorrect target value."
   ]
  },
  {
   "attachments": {},
   "cell_type": "markdown",
   "id": "c6afbf87-d357-4985-a026-aa440dd56da4",
   "metadata": {},
   "source": [
    "### Step 3: Edit Cases\n",
    "\n",
    "We will modify those two Influential Cases which have a different target value than what we want to predict by flipping their target values. Having more Influential Cases with the correct target value will increase the chance of that case being predicted to the correct target value."
   ]
  },
  {
   "cell_type": "code",
   "execution_count": 10,
   "id": "d7776af0-43ca-4fdd-a213-cf94d5279e7f",
   "metadata": {
    "execution": {
     "iopub.execute_input": "2025-09-02T19:49:29.475485Z",
     "iopub.status.busy": "2025-09-02T19:49:29.475313Z",
     "iopub.status.idle": "2025-09-02T19:49:29.485941Z",
     "shell.execute_reply": "2025-09-02T19:49:29.485420Z"
    }
   },
   "outputs": [
    {
     "name": "stdout",
     "output_type": "stream",
     "text": [
      "Modifying training index 410 of Session 7343b944-8e48-4d28-93f0-8826fd89e067 target value to 1\n"
     ]
    }
   ],
   "source": [
    "# Modify case 1\n",
    "session_id = influence_df.iloc[0]['.session']\n",
    "session_training_index = influence_df.iloc[0]['.session_training_index']\n",
    "\n",
    "# Flip the target in the original case\n",
    "cases = t.get_cases(session=session_id, features=['.session_training_index', 'target'])\n",
    "orig_target = cases.set_index('.session_training_index').loc[session_training_index].iloc[0]\n",
    "\n",
    "# Flip the target\n",
    "if str(orig_target) == '0':\n",
    "    flipped = 1\n",
    "else:\n",
    "    flipped = 0\n",
    "\n",
    "t.edit_cases(feature_values=[flipped],\n",
    "             case_indices=[(session_id, session_training_index.item())],\n",
    "             features=['target'])\n",
    "\n",
    "print(\"Modifying training index {ind} of Session {session_id} target value to {tar}\".format(ind=session_training_index, session_id=session_id, tar=flipped))"
   ]
  },
  {
   "cell_type": "code",
   "execution_count": 11,
   "id": "fcefb2ff-5156-469c-ba5f-a54ea90d34f0",
   "metadata": {
    "execution": {
     "iopub.execute_input": "2025-09-02T19:49:29.487788Z",
     "iopub.status.busy": "2025-09-02T19:49:29.487615Z",
     "iopub.status.idle": "2025-09-02T19:49:29.496869Z",
     "shell.execute_reply": "2025-09-02T19:49:29.496370Z"
    }
   },
   "outputs": [
    {
     "name": "stdout",
     "output_type": "stream",
     "text": [
      "Modifying training index 341 of Session 7343b944-8e48-4d28-93f0-8826fd89e067 target value to 1\n"
     ]
    }
   ],
   "source": [
    "# Modify case 2\n",
    "session_id = influence_df.iloc[0]['.session']\n",
    "session_training_index = influence_df.iloc[1]['.session_training_index']\n",
    "\n",
    "# Flip the target in the original case\n",
    "cases = t.get_cases(session=session_id, features=['.session_training_index', 'target'])\n",
    "orig_target = cases.set_index('.session_training_index').loc[session_training_index].iloc[0]\n",
    "\n",
    "# Flip the target\n",
    "if str(orig_target) == '0':\n",
    "    flipped = 1\n",
    "else:\n",
    "    flipped = 0\n",
    "\n",
    "t.edit_cases(feature_values=[flipped],\n",
    "             case_indices=[(session_id, session_training_index.item())],\n",
    "             features=['target'])\n",
    "\n",
    "print(\"Modifying training index {ind} of Session {session_id} target value to {tar}\".format(ind=session_training_index, session_id=session_id, tar=flipped))"
   ]
  },
  {
   "attachments": {},
   "cell_type": "markdown",
   "id": "a2f07717",
   "metadata": {},
   "source": [
    "### Step 4: Verify the Edit and Check the Case Audit\n",
    "\n",
    "We can audit one of the updated cases to make sure the case has been edited and demonstrate how to retrieve the case history. Editing case history provides another layer of auditability and accountability to the Trainee."
   ]
  },
  {
   "cell_type": "code",
   "execution_count": 12,
   "id": "b5405e9d-c09d-413c-9c71-1d09eb5a8b51",
   "metadata": {
    "execution": {
     "iopub.execute_input": "2025-09-02T19:49:29.498737Z",
     "iopub.status.busy": "2025-09-02T19:49:29.498555Z",
     "iopub.status.idle": "2025-09-02T19:49:29.508266Z",
     "shell.execute_reply": "2025-09-02T19:49:29.507749Z"
    }
   },
   "outputs": [
    {
     "data": {
      "text/plain": [
       "{'7343b944-8e48-4d28-93f0-8826fd89e067': [{'type': 'edit',\n",
       "   'feature': 'target',\n",
       "   'value': 1,\n",
       "   'previous_value': 0}]}"
      ]
     },
     "execution_count": 12,
     "metadata": {},
     "output_type": "execute_result"
    }
   ],
   "source": [
    "updated_case = t.get_cases(\n",
    "    case_indices=[(session_id, session_training_index.item())],\n",
    "    features=df.columns.tolist() + ['.case_edit_history']\n",
    ")\n",
    "\n",
    "# audit edit history\n",
    "updated_case.loc[ 0, '.case_edit_history']"
   ]
  },
  {
   "attachments": {},
   "cell_type": "markdown",
   "id": "2b9b80f4-d107-450d-a70f-bcac3cab3144",
   "metadata": {},
   "source": [
    "### Step 5: Predict Again\n",
    "\n",
    "We will re-run the prediction to see if the target value is correct now."
   ]
  },
  {
   "cell_type": "code",
   "execution_count": 13,
   "id": "2fb1fd3d-fa3e-4a92-af00-fdfcabea0594",
   "metadata": {
    "execution": {
     "iopub.execute_input": "2025-09-02T19:49:29.510019Z",
     "iopub.status.busy": "2025-09-02T19:49:29.509845Z",
     "iopub.status.idle": "2025-09-02T19:49:29.515914Z",
     "shell.execute_reply": "2025-09-02T19:49:29.515404Z"
    }
   },
   "outputs": [
    {
     "name": "stdout",
     "output_type": "stream",
     "text": [
      "prediction: 1\n",
      "actual: 1.0\n"
     ]
    }
   ],
   "source": [
    "new_result = t.react(\n",
    "    [test_case_X.values.tolist()],\n",
    "    context_features=context_features,\n",
    "    action_features=action_features,\n",
    "    details=details\n",
    ")\n",
    "\n",
    "print('prediction: {}'.format(new_result['action']['target'].iloc[0]))\n",
    "print('actual: {}'.format(test_case_y.iloc[0]))"
   ]
  },
  {
   "attachments": {},
   "cell_type": "markdown",
   "id": "b1370f3f",
   "metadata": {},
   "source": [
    "We can see that by editing those two cases, we flipped the prediction for our original test case without re-training or re-analyzing our Trainee. If done correctly, this provides a user with a surgical tool for Trainee corrections."
   ]
  },
  {
   "attachments": {},
   "cell_type": "markdown",
   "id": "b322c5a3-7e5c-4db6-83a0-8d5fe6fa751e",
   "metadata": {},
   "source": [
    "### Step 6: Delete a Case"
   ]
  },
  {
   "attachments": {},
   "cell_type": "markdown",
   "id": "0d268802-211e-4af7-98a3-830ba6d47617",
   "metadata": {},
   "source": [
    "In addition to editing a case, Howso Engine can also delete a case, removing it from the model and any further predictions. This workflow is the same as the edit example in the section above, except we use `remove_cases` instead of `edit_cases`. "
   ]
  },
  {
   "cell_type": "code",
   "execution_count": 14,
   "id": "8481c434-29f6-41ac-83ca-30c7cf803679",
   "metadata": {
    "execution": {
     "iopub.execute_input": "2025-09-02T19:49:29.517825Z",
     "iopub.status.busy": "2025-09-02T19:49:29.517653Z",
     "iopub.status.idle": "2025-09-02T19:49:29.521630Z",
     "shell.execute_reply": "2025-09-02T19:49:29.521130Z"
    }
   },
   "outputs": [
    {
     "data": {
      "text/plain": [
       "1"
      ]
     },
     "execution_count": 14,
     "metadata": {},
     "output_type": "execute_result"
    }
   ],
   "source": [
    "# remove cases using \".session_training_index\"\n",
    "t.remove_cases(num_cases=1, case_indices=[(session_id, session_training_index.item())])"
   ]
  },
  {
   "attachments": {},
   "cell_type": "markdown",
   "id": "228bf22c",
   "metadata": {},
   "source": [
    "The dynamic edting and deleting of individual Cases allows the user to perform targeted modification of the Trainee and provides the user with unparalleled control over their data and Trainee. This should not be done lightly and we recommend that all Cases be investigated before performing this action."
   ]
  },
  {
   "attachments": {},
   "cell_type": "markdown",
   "id": "af45b880-ec91-4c28-a12b-b84398234ca7",
   "metadata": {},
   "source": [
    "## Section 3: Editing Sessions\n",
    "\n",
    "In the beginning of this notebook, we trained the data in two sessions. The first session used a normal sample of training data, however the second session artifically flipped the target variable. This reduced the performance of our Trainee by introducing a large portion of incorrect data.\n",
    "\n",
    "Howso Engine has the capability to add or remove entire sessions. In this situation, if we discovered that one of our sessions had very poor quality data, like our example, we can easily remove that entire session's data without having to individually alter cases."
   ]
  },
  {
   "attachments": {},
   "cell_type": "markdown",
   "id": "267760db",
   "metadata": {},
   "source": [
    "### Step 1: View Sessions\n",
    "\n",
    "Let's first see how many sessions are in this Trainee along with some details of each session."
   ]
  },
  {
   "cell_type": "code",
   "execution_count": 15,
   "id": "9bb1647d",
   "metadata": {
    "execution": {
     "iopub.execute_input": "2025-09-02T19:49:29.523442Z",
     "iopub.status.busy": "2025-09-02T19:49:29.523271Z",
     "iopub.status.idle": "2025-09-02T19:49:29.526843Z",
     "shell.execute_reply": "2025-09-02T19:49:29.526350Z"
    }
   },
   "outputs": [
    {
     "data": {
      "text/plain": [
       "[{'id': 'cd605596-7b5f-4d16-ae84-f9231de7c943', 'name': 'train_session_1'},\n",
       " {'id': '7343b944-8e48-4d28-93f0-8826fd89e067', 'name': 'train_session_2'}]"
      ]
     },
     "execution_count": 15,
     "metadata": {},
     "output_type": "execute_result"
    }
   ],
   "source": [
    "sessions = t.get_sessions()\n",
    "sessions"
   ]
  },
  {
   "cell_type": "code",
   "execution_count": 16,
   "id": "19fab41a",
   "metadata": {
    "execution": {
     "iopub.execute_input": "2025-09-02T19:49:29.528462Z",
     "iopub.status.busy": "2025-09-02T19:49:29.528291Z",
     "iopub.status.idle": "2025-09-02T19:49:29.533557Z",
     "shell.execute_reply": "2025-09-02T19:49:29.533090Z"
    }
   },
   "outputs": [
    {
     "data": {
      "text/plain": [
       "{'id': 'cd605596-7b5f-4d16-ae84-f9231de7c943',\n",
       " 'name': 'train_session_1',\n",
       " 'metadata': {'data': 'original data',\n",
       "              'trainee_id': '44490a87-cbbc-4528-a2ae-365c642eada9'},\n",
       " 'created_date': datetime.datetime(2025, 9, 2, 19, 49, 23, 151905, tzinfo=tzlocal()),\n",
       " 'modified_date': datetime.datetime(2025, 9, 2, 19, 49, 23, 151909, tzinfo=tzlocal())}"
      ]
     },
     "metadata": {},
     "output_type": "display_data"
    },
    {
     "data": {
      "text/plain": [
       "{'id': '7343b944-8e48-4d28-93f0-8826fd89e067',\n",
       " 'name': 'train_session_2',\n",
       " 'metadata': {'data': 'modified data (flipped target values)'},\n",
       " 'created_date': datetime.datetime(2025, 9, 2, 19, 49, 23, 178694, tzinfo=datetime.timezone.utc),\n",
       " 'modified_date': datetime.datetime(2025, 9, 2, 19, 49, 23, 178696, tzinfo=datetime.timezone.utc)}"
      ]
     },
     "metadata": {},
     "output_type": "display_data"
    }
   ],
   "source": [
    "display(engine.get_session(sessions[0]['id']))\n",
    "display(engine.get_session(sessions[1]['id']))"
   ]
  },
  {
   "attachments": {},
   "cell_type": "markdown",
   "id": "3ff29602",
   "metadata": {},
   "source": [
    "We can see the two different sessions we used when trained earlier."
   ]
  },
  {
   "attachments": {},
   "cell_type": "markdown",
   "id": "ab021c76",
   "metadata": {},
   "source": [
    "### Step 2: Delete a Session\n",
    "\n",
    "Deleting an entire session is performed in one easy step once we retrieve the session ID of the session we want to delete."
   ]
  },
  {
   "cell_type": "code",
   "execution_count": 17,
   "id": "890b6cc4-0d11-4ae6-81a2-71e5af5a98d6",
   "metadata": {
    "execution": {
     "iopub.execute_input": "2025-09-02T19:49:29.535206Z",
     "iopub.status.busy": "2025-09-02T19:49:29.535012Z",
     "iopub.status.idle": "2025-09-02T19:49:34.242047Z",
     "shell.execute_reply": "2025-09-02T19:49:34.241412Z"
    }
   },
   "outputs": [],
   "source": [
    "### Delete a session\n",
    "session_id = sessions[1]['id']\n",
    "t.delete_session(session_id)\n",
    "\n",
    "# Re-analyze the Trainee\n",
    "t.analyze()"
   ]
  },
  {
   "attachments": {},
   "cell_type": "markdown",
   "id": "b7f2dd4a",
   "metadata": {},
   "source": [
    "### Step 3: Recompute Accuracy and Inspect\n",
    "\n",
    "We then use `react_aggregate` to the compute accuracy metrics."
   ]
  },
  {
   "cell_type": "code",
   "execution_count": 18,
   "id": "c47ddf1c-f210-4ab6-a553-be102019ed64",
   "metadata": {
    "execution": {
     "iopub.execute_input": "2025-09-02T19:49:34.244481Z",
     "iopub.status.busy": "2025-09-02T19:49:34.244252Z",
     "iopub.status.idle": "2025-09-02T19:49:34.962962Z",
     "shell.execute_reply": "2025-09-02T19:49:34.962373Z"
    }
   },
   "outputs": [
    {
     "name": "stdout",
     "output_type": "stream",
     "text": [
      "Original accuracy: 0.497\n",
      "New accuracy: 0.842\n"
     ]
    }
   ],
   "source": [
    "accuracy_new = t.react_aggregate(\n",
    "    details = {\n",
    "    \"prediction_stats\": True,\n",
    "    \"selected_prediction_stats\": ['accuracy'],\n",
    "    }\n",
    ")['target'].iloc[0]\n",
    "\n",
    "print(\"Original accuracy: {acc}\".format(acc=accuracy))\n",
    "print(\"New accuracy: {acc}\".format(acc=accuracy_new))"
   ]
  },
  {
   "cell_type": "code",
   "execution_count": 19,
   "id": "d5c696bb-2d57-4424-a8cc-f020750956a2",
   "metadata": {
    "execution": {
     "iopub.execute_input": "2025-09-02T19:49:34.964868Z",
     "iopub.status.busy": "2025-09-02T19:49:34.964663Z",
     "iopub.status.idle": "2025-09-02T19:49:34.968500Z",
     "shell.execute_reply": "2025-09-02T19:49:34.967965Z"
    }
   },
   "outputs": [
    {
     "data": {
      "text/plain": [
       "[{'id': 'cd605596-7b5f-4d16-ae84-f9231de7c943', 'name': 'train_session_1'}]"
      ]
     },
     "execution_count": 19,
     "metadata": {},
     "output_type": "execute_result"
    }
   ],
   "source": [
    "# Check to make sure there is only 1 session\n",
    "t.get_sessions()"
   ]
  },
  {
   "attachments": {},
   "cell_type": "markdown",
   "id": "6ccb0924",
   "metadata": {},
   "source": [
    "We can clearly see the difference in accuracy results once the faulty session data is removed.\n",
    "\n",
    "Additionally, we see only one session remains in the Trainee."
   ]
  },
  {
   "attachments": {},
   "cell_type": "markdown",
   "id": "18a6ce88",
   "metadata": {},
   "source": [
    "# Conclusion:\n",
    "\n",
    "We can see that by getting rid of the session with the faulty data, our Trainee performance improved dramatically, as expected. This capability provides the user with a very efficient way to maintain control over a continously evolving Trainee if the user is constantly adding training data.\n",
    "\n",
    "The tools shown in this and other recipes allows the user to find, diagnose, and act at a level of ease and precision that other machine learning models cannot match. This opens the door to possibilities for the user and provides a flexible platform that can adjust to any type of machine learning needs."
   ]
  }
 ],
 "metadata": {
  "kernelspec": {
   "display_name": "engine_rec_312",
   "language": "python",
   "name": "python3"
  },
  "language_info": {
   "codemirror_mode": {
    "name": "ipython",
    "version": 3
   },
   "file_extension": ".py",
   "mimetype": "text/x-python",
   "name": "python",
   "nbconvert_exporter": "python",
   "pygments_lexer": "ipython3",
   "version": "3.10.18"
  }
 },
 "nbformat": 4,
 "nbformat_minor": 5
}
