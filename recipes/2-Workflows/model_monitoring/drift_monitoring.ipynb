{
 "cells": [
  {
   "attachments": {},
   "cell_type": "markdown",
   "id": "2c47f674",
   "metadata": {},
   "source": [
    "# Drift Monitoring with the Howso Engine\n",
    "\n",
    "## Overview\n",
    "\n",
    "This recipe will demonstrate Howso Engine’s ability to handle and monitor model drift. Drift occurs when a trained model's testing data experiences a shift in distribution which often causes model performance to decline. Howso Engine can be used to monitor any potential drift by evaluating bias in both new and ongoing models using online learning and interpretability. By using online learning and the Engine's interpretability, users can pair the Howso Engine alongside their deployed deep-learning models to get early indicators when incoming data is beginning to indicate a new distribution or model performance is decreasing.\n",
    "\n",
    "Additionally, the Howso Engine's interpretability may be able to help users understand the source of model drift, whether it be a shift in distribution or simply a shift in performance."
   ]
  },
  {
   "attachments": {},
   "cell_type": "markdown",
   "id": "a2db5be2",
   "metadata": {},
   "source": [
    "## Step 1: Load the Data"
   ]
  },
  {
   "cell_type": "code",
   "execution_count": 1,
   "id": "2b16a590",
   "metadata": {
    "execution": {
     "iopub.execute_input": "2024-05-30T18:29:10.989046Z",
     "iopub.status.busy": "2024-05-30T18:29:10.988861Z",
     "iopub.status.idle": "2024-05-30T18:29:12.053248Z",
     "shell.execute_reply": "2024-05-30T18:29:12.052572Z"
    }
   },
   "outputs": [],
   "source": [
    "import os\n",
    "\n",
    "import numpy as np\n",
    "import pandas as pd\n",
    "import plotly.io as pio\n",
    "import pmlb\n",
    "from scipy.stats import entropy\n",
    "from sklearn.ensemble import GradientBoostingClassifier\n",
    "\n",
    "from howso import engine\n",
    "from howso.utilities import infer_feature_attributes\n",
    "from howso.visuals import (\n",
    "    plot_drift,\n",
    "    plot_kl_divergence,\n",
    ")\n",
    "\n",
    "pio.renderers.default = os.getenv(\"HOWSO_RECIPE_RENDERER\", \"notebook\")"
   ]
  },
  {
   "cell_type": "markdown",
   "id": "edb4dc66",
   "metadata": {},
   "source": [
    "In this recipe we will use the well known Iris dataset. "
   ]
  },
  {
   "cell_type": "code",
   "execution_count": 2,
   "id": "472fe5df",
   "metadata": {
    "execution": {
     "iopub.execute_input": "2024-05-30T18:29:12.056491Z",
     "iopub.status.busy": "2024-05-30T18:29:12.056214Z",
     "iopub.status.idle": "2024-05-30T18:29:12.486552Z",
     "shell.execute_reply": "2024-05-30T18:29:12.485994Z"
    }
   },
   "outputs": [
    {
     "data": {
      "text/html": [
       "<div>\n",
       "<style scoped>\n",
       "    .dataframe tbody tr th:only-of-type {\n",
       "        vertical-align: middle;\n",
       "    }\n",
       "\n",
       "    .dataframe tbody tr th {\n",
       "        vertical-align: top;\n",
       "    }\n",
       "\n",
       "    .dataframe thead th {\n",
       "        text-align: right;\n",
       "    }\n",
       "</style>\n",
       "<table border=\"1\" class=\"dataframe\">\n",
       "  <thead>\n",
       "    <tr style=\"text-align: right;\">\n",
       "      <th></th>\n",
       "      <th>sepal-length</th>\n",
       "      <th>sepal-width</th>\n",
       "      <th>petal-length</th>\n",
       "      <th>petal-width</th>\n",
       "      <th>target</th>\n",
       "    </tr>\n",
       "  </thead>\n",
       "  <tbody>\n",
       "    <tr>\n",
       "      <th>0</th>\n",
       "      <td>6.7</td>\n",
       "      <td>3.0</td>\n",
       "      <td>5.2</td>\n",
       "      <td>2.3</td>\n",
       "      <td>2</td>\n",
       "    </tr>\n",
       "    <tr>\n",
       "      <th>1</th>\n",
       "      <td>6.0</td>\n",
       "      <td>2.2</td>\n",
       "      <td>5.0</td>\n",
       "      <td>1.5</td>\n",
       "      <td>2</td>\n",
       "    </tr>\n",
       "    <tr>\n",
       "      <th>2</th>\n",
       "      <td>6.2</td>\n",
       "      <td>2.8</td>\n",
       "      <td>4.8</td>\n",
       "      <td>1.8</td>\n",
       "      <td>2</td>\n",
       "    </tr>\n",
       "    <tr>\n",
       "      <th>3</th>\n",
       "      <td>7.7</td>\n",
       "      <td>3.8</td>\n",
       "      <td>6.7</td>\n",
       "      <td>2.2</td>\n",
       "      <td>2</td>\n",
       "    </tr>\n",
       "    <tr>\n",
       "      <th>4</th>\n",
       "      <td>7.2</td>\n",
       "      <td>3.0</td>\n",
       "      <td>5.8</td>\n",
       "      <td>1.6</td>\n",
       "      <td>2</td>\n",
       "    </tr>\n",
       "    <tr>\n",
       "      <th>...</th>\n",
       "      <td>...</td>\n",
       "      <td>...</td>\n",
       "      <td>...</td>\n",
       "      <td>...</td>\n",
       "      <td>...</td>\n",
       "    </tr>\n",
       "    <tr>\n",
       "      <th>145</th>\n",
       "      <td>5.0</td>\n",
       "      <td>3.5</td>\n",
       "      <td>1.6</td>\n",
       "      <td>0.6</td>\n",
       "      <td>0</td>\n",
       "    </tr>\n",
       "    <tr>\n",
       "      <th>146</th>\n",
       "      <td>5.4</td>\n",
       "      <td>3.9</td>\n",
       "      <td>1.7</td>\n",
       "      <td>0.4</td>\n",
       "      <td>0</td>\n",
       "    </tr>\n",
       "    <tr>\n",
       "      <th>147</th>\n",
       "      <td>5.1</td>\n",
       "      <td>3.4</td>\n",
       "      <td>1.5</td>\n",
       "      <td>0.2</td>\n",
       "      <td>0</td>\n",
       "    </tr>\n",
       "    <tr>\n",
       "      <th>148</th>\n",
       "      <td>5.0</td>\n",
       "      <td>3.6</td>\n",
       "      <td>1.4</td>\n",
       "      <td>0.2</td>\n",
       "      <td>0</td>\n",
       "    </tr>\n",
       "    <tr>\n",
       "      <th>149</th>\n",
       "      <td>5.0</td>\n",
       "      <td>3.4</td>\n",
       "      <td>1.6</td>\n",
       "      <td>0.4</td>\n",
       "      <td>0</td>\n",
       "    </tr>\n",
       "  </tbody>\n",
       "</table>\n",
       "<p>150 rows × 5 columns</p>\n",
       "</div>"
      ],
      "text/plain": [
       "     sepal-length  sepal-width  petal-length  petal-width  target\n",
       "0             6.7          3.0           5.2          2.3       2\n",
       "1             6.0          2.2           5.0          1.5       2\n",
       "2             6.2          2.8           4.8          1.8       2\n",
       "3             7.7          3.8           6.7          2.2       2\n",
       "4             7.2          3.0           5.8          1.6       2\n",
       "..            ...          ...           ...          ...     ...\n",
       "145           5.0          3.5           1.6          0.6       0\n",
       "146           5.4          3.9           1.7          0.4       0\n",
       "147           5.1          3.4           1.5          0.2       0\n",
       "148           5.0          3.6           1.4          0.2       0\n",
       "149           5.0          3.4           1.6          0.4       0\n",
       "\n",
       "[150 rows x 5 columns]"
      ]
     },
     "execution_count": 2,
     "metadata": {},
     "output_type": "execute_result"
    }
   ],
   "source": [
    "df = pmlb.fetch_data('iris', local_cache_dir='../../data/pmlb/iris')\n",
    "df"
   ]
  },
  {
   "attachments": {},
   "cell_type": "markdown",
   "id": "edd04ee3",
   "metadata": {},
   "source": [
    "## Step 2: Simulate Data Drift\n",
    "\n",
    "Model drift occurs when the model that has been trained no longer captures the relationships of incoming data. In this case, we will sample from the data in such a way that certain targets are much less likely to appear in our test and observation sets than in the training set. This will simulate model drift and allow us to demonstrate Howso Engine.\n",
    "\n",
    "Specifically, we will hold an entire class out of the training data. Then we will slowly expose the model to data of the untrained class, measuring how well the model adjusts to the new distribution of data. Additionally, the data of the untrained class will consist of some missing values for the action feature."
   ]
  },
  {
   "cell_type": "code",
   "execution_count": 3,
   "id": "d4a2e546",
   "metadata": {
    "execution": {
     "iopub.execute_input": "2024-05-30T18:29:12.489692Z",
     "iopub.status.busy": "2024-05-30T18:29:12.489502Z",
     "iopub.status.idle": "2024-05-30T18:29:12.506713Z",
     "shell.execute_reply": "2024-05-30T18:29:12.506230Z"
    }
   },
   "outputs": [
    {
     "name": "stdout",
     "output_type": "stream",
     "text": [
      "Train Dataset \"Target\" Distribution: \n"
     ]
    },
    {
     "data": {
      "text/plain": [
       "target\n",
       "1    26\n",
       "2    24\n",
       "Name: count, dtype: int64"
      ]
     },
     "metadata": {},
     "output_type": "display_data"
    },
    {
     "name": "stdout",
     "output_type": "stream",
     "text": [
      "==============================\n",
      "\n",
      "No Drift Test Dataset \"Target\" Distribution: \n"
     ]
    },
    {
     "data": {
      "text/plain": [
       "target\n",
       "1.0    24\n",
       "2.0    26\n",
       "Name: count, dtype: int64"
      ]
     },
     "metadata": {},
     "output_type": "display_data"
    },
    {
     "name": "stdout",
     "output_type": "stream",
     "text": [
      "==============================\n",
      "\n",
      "Drift Test Dataset \"Target\" Distribution: \n"
     ]
    },
    {
     "data": {
      "text/plain": [
       "target\n",
       "0.0    40\n",
       "NaN    10\n",
       "Name: count, dtype: int64"
      ]
     },
     "metadata": {},
     "output_type": "display_data"
    },
    {
     "name": "stdout",
     "output_type": "stream",
     "text": [
      "==============================\n"
     ]
    }
   ],
   "source": [
    "df_biased = df[df['target'].isin([1,2])]\n",
    "df_train = df_biased.sample(frac=0.5)\n",
    "df_test_no_drift = df_biased[~df_biased.isin(df_train)].dropna()\n",
    "df_test_drift = df[~df.isin(df_biased)].dropna()\n",
    "df_test_drift.loc[df_test_drift.sample(frac=0.2).index, \"target\"] = np.nan\n",
    "\n",
    "df_test = pd.concat([df_test_no_drift, df_test_drift])\n",
    "\n",
    "print('Train Dataset \"Target\" Distribution: ')\n",
    "display(df_train.target.value_counts().sort_index())\n",
    "print(\"=\" * 30)\n",
    "\n",
    "print('\\nNo Drift Test Dataset \"Target\" Distribution: ')\n",
    "display(df_test_no_drift.target.value_counts().sort_index())\n",
    "print(\"=\" * 30)\n",
    "\n",
    "print('\\nDrift Test Dataset \"Target\" Distribution: ')\n",
    "display(df_test_drift.target.value_counts(dropna=False).sort_index())\n",
    "print(\"=\" * 30)"
   ]
  },
  {
   "attachments": {},
   "cell_type": "markdown",
   "id": "ca0e8f1e",
   "metadata": {},
   "source": [
    "## Step 3: Configure Feature Attributes\n",
    "\n",
    "Configure the feature attributes and inspect them to verify they are correct."
   ]
  },
  {
   "cell_type": "code",
   "execution_count": 4,
   "id": "7692d663",
   "metadata": {
    "execution": {
     "iopub.execute_input": "2024-05-30T18:29:12.509096Z",
     "iopub.status.busy": "2024-05-30T18:29:12.508745Z",
     "iopub.status.idle": "2024-05-30T18:29:12.520496Z",
     "shell.execute_reply": "2024-05-30T18:29:12.519990Z"
    }
   },
   "outputs": [
    {
     "data": {
      "text/plain": [
       "{'sepal-length': {'type': 'continuous',\n",
       "  'data_type': 'number',\n",
       "  'decimal_places': 1,\n",
       "  'original_type': {'data_type': 'numeric', 'size': 8},\n",
       "  'bounds': {'min': 2.7, 'max': 20.1, 'allow_null': True}},\n",
       " 'sepal-width': {'type': 'continuous',\n",
       "  'data_type': 'number',\n",
       "  'decimal_places': 1,\n",
       "  'original_type': {'data_type': 'numeric', 'size': 8},\n",
       "  'bounds': {'min': 1.0, 'max': 7.4, 'allow_null': True}},\n",
       " 'petal-length': {'type': 'continuous',\n",
       "  'data_type': 'number',\n",
       "  'decimal_places': 1,\n",
       "  'original_type': {'data_type': 'numeric', 'size': 8},\n",
       "  'bounds': {'min': 1.0, 'max': 7.4, 'allow_null': True}},\n",
       " 'petal-width': {'type': 'continuous',\n",
       "  'data_type': 'number',\n",
       "  'decimal_places': 1,\n",
       "  'original_type': {'data_type': 'numeric', 'size': 8},\n",
       "  'bounds': {'min': 0.0, 'max': 2.7, 'allow_null': True}},\n",
       " 'target': {'type': 'nominal',\n",
       "  'data_type': 'number',\n",
       "  'decimal_places': 0,\n",
       "  'original_type': {'data_type': 'integer', 'size': 8},\n",
       "  'bounds': {'allow_null': False}},\n",
       " 'pred': {'type': 'nominal',\n",
       "  'data_type': 'number',\n",
       "  'decimal_places': 0,\n",
       "  'original_type': {'data_type': 'integer', 'size': 8},\n",
       "  'bounds': {'allow_null': False}}}"
      ]
     },
     "execution_count": 4,
     "metadata": {},
     "output_type": "execute_result"
    }
   ],
   "source": [
    "features = infer_feature_attributes(df)\n",
    "features['pred'] = features['target'].copy()\n",
    "feature_names = df.columns.tolist()\n",
    "action_features = feature_names[-1:]\n",
    "context_features = feature_names[:-1]\n",
    "\n",
    "features"
   ]
  },
  {
   "attachments": {},
   "cell_type": "markdown",
   "id": "ca96b6b6",
   "metadata": {},
   "source": [
    "## Step 4: Train the non-Howso Model\n",
    "\n",
    "The non-Howso model will be trained on the training set created above. The training order will be recorded as a feature as well to the Howso model to help monitor drift."
   ]
  },
  {
   "cell_type": "code",
   "execution_count": 5,
   "id": "ffce518f",
   "metadata": {
    "execution": {
     "iopub.execute_input": "2024-05-30T18:29:12.522950Z",
     "iopub.status.busy": "2024-05-30T18:29:12.522588Z",
     "iopub.status.idle": "2024-05-30T18:29:12.603038Z",
     "shell.execute_reply": "2024-05-30T18:29:12.602467Z"
    }
   },
   "outputs": [
    {
     "data": {
      "text/html": [
       "<div>\n",
       "<style scoped>\n",
       "    .dataframe tbody tr th:only-of-type {\n",
       "        vertical-align: middle;\n",
       "    }\n",
       "\n",
       "    .dataframe tbody tr th {\n",
       "        vertical-align: top;\n",
       "    }\n",
       "\n",
       "    .dataframe thead th {\n",
       "        text-align: right;\n",
       "    }\n",
       "</style>\n",
       "<table border=\"1\" class=\"dataframe\">\n",
       "  <thead>\n",
       "    <tr style=\"text-align: right;\">\n",
       "      <th></th>\n",
       "      <th>index</th>\n",
       "      <th>sepal-length</th>\n",
       "      <th>sepal-width</th>\n",
       "      <th>petal-length</th>\n",
       "      <th>petal-width</th>\n",
       "      <th>target</th>\n",
       "    </tr>\n",
       "  </thead>\n",
       "  <tbody>\n",
       "    <tr>\n",
       "      <th>0</th>\n",
       "      <td>0</td>\n",
       "      <td>6.2</td>\n",
       "      <td>2.8</td>\n",
       "      <td>4.8</td>\n",
       "      <td>1.8</td>\n",
       "      <td>2.0</td>\n",
       "    </tr>\n",
       "    <tr>\n",
       "      <th>1</th>\n",
       "      <td>1</td>\n",
       "      <td>5.5</td>\n",
       "      <td>2.5</td>\n",
       "      <td>4.0</td>\n",
       "      <td>1.3</td>\n",
       "      <td>1.0</td>\n",
       "    </tr>\n",
       "    <tr>\n",
       "      <th>2</th>\n",
       "      <td>2</td>\n",
       "      <td>5.6</td>\n",
       "      <td>2.9</td>\n",
       "      <td>3.6</td>\n",
       "      <td>1.3</td>\n",
       "      <td>1.0</td>\n",
       "    </tr>\n",
       "    <tr>\n",
       "      <th>3</th>\n",
       "      <td>3</td>\n",
       "      <td>6.3</td>\n",
       "      <td>3.4</td>\n",
       "      <td>5.6</td>\n",
       "      <td>2.4</td>\n",
       "      <td>2.0</td>\n",
       "    </tr>\n",
       "    <tr>\n",
       "      <th>4</th>\n",
       "      <td>4</td>\n",
       "      <td>6.3</td>\n",
       "      <td>2.8</td>\n",
       "      <td>5.1</td>\n",
       "      <td>1.5</td>\n",
       "      <td>2.0</td>\n",
       "    </tr>\n",
       "    <tr>\n",
       "      <th>...</th>\n",
       "      <td>...</td>\n",
       "      <td>...</td>\n",
       "      <td>...</td>\n",
       "      <td>...</td>\n",
       "      <td>...</td>\n",
       "      <td>...</td>\n",
       "    </tr>\n",
       "    <tr>\n",
       "      <th>95</th>\n",
       "      <td>95</td>\n",
       "      <td>5.0</td>\n",
       "      <td>3.5</td>\n",
       "      <td>1.6</td>\n",
       "      <td>0.6</td>\n",
       "      <td>0.0</td>\n",
       "    </tr>\n",
       "    <tr>\n",
       "      <th>96</th>\n",
       "      <td>96</td>\n",
       "      <td>5.4</td>\n",
       "      <td>3.9</td>\n",
       "      <td>1.7</td>\n",
       "      <td>0.4</td>\n",
       "      <td>0.0</td>\n",
       "    </tr>\n",
       "    <tr>\n",
       "      <th>97</th>\n",
       "      <td>97</td>\n",
       "      <td>5.1</td>\n",
       "      <td>3.4</td>\n",
       "      <td>1.5</td>\n",
       "      <td>0.2</td>\n",
       "      <td>0.0</td>\n",
       "    </tr>\n",
       "    <tr>\n",
       "      <th>98</th>\n",
       "      <td>98</td>\n",
       "      <td>5.0</td>\n",
       "      <td>3.6</td>\n",
       "      <td>1.4</td>\n",
       "      <td>0.2</td>\n",
       "      <td>0.0</td>\n",
       "    </tr>\n",
       "    <tr>\n",
       "      <th>99</th>\n",
       "      <td>99</td>\n",
       "      <td>5.0</td>\n",
       "      <td>3.4</td>\n",
       "      <td>1.6</td>\n",
       "      <td>0.4</td>\n",
       "      <td>0.0</td>\n",
       "    </tr>\n",
       "  </tbody>\n",
       "</table>\n",
       "<p>100 rows × 6 columns</p>\n",
       "</div>"
      ],
      "text/plain": [
       "    index  sepal-length  sepal-width  petal-length  petal-width  target\n",
       "0       0           6.2          2.8           4.8          1.8     2.0\n",
       "1       1           5.5          2.5           4.0          1.3     1.0\n",
       "2       2           5.6          2.9           3.6          1.3     1.0\n",
       "3       3           6.3          3.4           5.6          2.4     2.0\n",
       "4       4           6.3          2.8           5.1          1.5     2.0\n",
       "..    ...           ...          ...           ...          ...     ...\n",
       "95     95           5.0          3.5           1.6          0.6     0.0\n",
       "96     96           5.4          3.9           1.7          0.4     0.0\n",
       "97     97           5.1          3.4           1.5          0.2     0.0\n",
       "98     98           5.0          3.6           1.4          0.2     0.0\n",
       "99     99           5.0          3.4           1.6          0.4     0.0\n",
       "\n",
       "[100 rows x 6 columns]"
      ]
     },
     "execution_count": 5,
     "metadata": {},
     "output_type": "execute_result"
    }
   ],
   "source": [
    "gb = GradientBoostingClassifier()\n",
    "gb.fit(df_train[context_features].values, df_train[action_features].values.reshape(-1))\n",
    "\n",
    "# Use predicted features to inform Howso Engine\n",
    "\n",
    "df_test['target'] = df_test['target']\n",
    "df_test = df_test.reset_index(drop=True)\n",
    "df_test = df_test.reset_index()\n",
    "\n",
    "df_train = df_train.reset_index(drop=True)\n",
    "df_train = df_train.reset_index()\n",
    "\n",
    "df_test"
   ]
  },
  {
   "attachments": {},
   "cell_type": "markdown",
   "id": "1adc279b",
   "metadata": {},
   "source": [
    "## Step 5: Train the Howso Model\n",
    "\n",
    "First, the Howso model will be trained on the modified data set trained above. \n",
    "\n",
    "Then we leverage online learning to record explanations with each case that is trained. We make sure to use the predicted target from the non-Howso model as well as the index to diversify the ways in which we can monitor the model. The index allows us to determine whether or not the time at which a given case was trained is important for prediction, which could indicate drift, while the predicted target allows us to note disagreements between the two models.\n",
    "\n",
    "Notably, we are enabling the Auto-Analyze feature on our Trainee. This will force the Trainee to do an Analyze automatically at certain increments of training data. In the case of this demonstration we set an `analyze_threshold` of 1. In most practical use-cases, this would be a prohibitively expensive operation. Auto-analyze is still appropriate in many use-cases, but larger `analyze_thresholds` are typically recommended."
   ]
  },
  {
   "cell_type": "code",
   "execution_count": 6,
   "id": "e11c6357",
   "metadata": {
    "execution": {
     "iopub.execute_input": "2024-05-30T18:29:12.605409Z",
     "iopub.status.busy": "2024-05-30T18:29:12.605222Z",
     "iopub.status.idle": "2024-05-30T18:29:18.146474Z",
     "shell.execute_reply": "2024-05-30T18:29:18.145909Z"
    }
   },
   "outputs": [
    {
     "name": "stdout",
     "output_type": "stream",
     "text": [
      "Case 51 is anomalous.\n"
     ]
    },
    {
     "data": {
      "text/plain": [
       "index           51.0\n",
       "sepal-length     4.9\n",
       "sepal-width      3.1\n",
       "petal-length     1.5\n",
       "petal-width      0.1\n",
       "target           0.0\n",
       "Name: 51, dtype: float64"
      ]
     },
     "metadata": {},
     "output_type": "display_data"
    },
    {
     "name": "stdout",
     "output_type": "stream",
     "text": [
      "ENGINE feature importance: ['petal-length', 'sepal-length', 'petal-width']\n",
      "MODEL feature importance  : ['sepal-width', 'petal-length', 'petal-width']\n",
      "\n",
      "=====\n",
      "\n",
      "Case 52 is anomalous.\n"
     ]
    },
    {
     "data": {
      "text/plain": [
       "index           52.0\n",
       "sepal-length     5.3\n",
       "sepal-width      3.7\n",
       "petal-length     1.5\n",
       "petal-width      0.2\n",
       "target           0.0\n",
       "Name: 52, dtype: float64"
      ]
     },
     "metadata": {},
     "output_type": "display_data"
    },
    {
     "name": "stdout",
     "output_type": "stream",
     "text": [
      "ENGINE feature importance: ['petal-length', 'sepal-width', 'petal-width']\n",
      "MODEL feature importance  : ['sepal-width', 'petal-length', 'petal-width']\n",
      "\n",
      "=====\n",
      "\n",
      "Case 53 is anomalous.\n"
     ]
    },
    {
     "data": {
      "text/plain": [
       "index           53.0\n",
       "sepal-length     4.8\n",
       "sepal-width      3.1\n",
       "petal-length     1.6\n",
       "petal-width      0.2\n",
       "target           0.0\n",
       "Name: 53, dtype: float64"
      ]
     },
     "metadata": {},
     "output_type": "display_data"
    },
    {
     "name": "stdout",
     "output_type": "stream",
     "text": [
      "ENGINE feature importance: ['petal-length', 'sepal-width', 'petal-width']\n",
      "MODEL feature importance  : ['sepal-width', 'petal-length', 'petal-width']\n",
      "\n",
      "=====\n",
      "\n",
      "Case 54 is anomalous.\n"
     ]
    },
    {
     "data": {
      "text/plain": [
       "index           54.0\n",
       "sepal-length     5.0\n",
       "sepal-width      3.3\n",
       "petal-length     1.4\n",
       "petal-width      0.2\n",
       "target           NaN\n",
       "Name: 54, dtype: float64"
      ]
     },
     "metadata": {},
     "output_type": "display_data"
    },
    {
     "name": "stdout",
     "output_type": "stream",
     "text": [
      "ENGINE feature importance: ['petal-length', 'sepal-width', 'petal-width']\n",
      "MODEL feature importance  : ['sepal-width', 'petal-length', 'petal-width']\n",
      "\n",
      "=====\n",
      "\n"
     ]
    },
    {
     "name": "stdout",
     "output_type": "stream",
     "text": [
      "Case 55 is anomalous.\n"
     ]
    },
    {
     "data": {
      "text/plain": [
       "index           55.0\n",
       "sepal-length     5.0\n",
       "sepal-width      3.0\n",
       "petal-length     1.6\n",
       "petal-width      0.2\n",
       "target           0.0\n",
       "Name: 55, dtype: float64"
      ]
     },
     "metadata": {},
     "output_type": "display_data"
    },
    {
     "name": "stdout",
     "output_type": "stream",
     "text": [
      "ENGINE feature importance: ['sepal-length', 'sepal-width', 'petal-width']\n",
      "MODEL feature importance  : ['sepal-width', 'petal-length', 'petal-width']\n",
      "\n",
      "=====\n",
      "\n",
      "Case 56 is anomalous.\n"
     ]
    },
    {
     "data": {
      "text/plain": [
       "index           56.0\n",
       "sepal-length     5.5\n",
       "sepal-width      3.5\n",
       "petal-length     1.3\n",
       "petal-width      0.2\n",
       "target           0.0\n",
       "Name: 56, dtype: float64"
      ]
     },
     "metadata": {},
     "output_type": "display_data"
    },
    {
     "name": "stdout",
     "output_type": "stream",
     "text": [
      "ENGINE feature importance: ['sepal-length', 'sepal-width', 'petal-width']\n",
      "MODEL feature importance  : ['sepal-width', 'petal-length', 'petal-width']\n",
      "\n",
      "=====\n",
      "\n",
      "Case 57 is anomalous.\n"
     ]
    },
    {
     "data": {
      "text/plain": [
       "index           57.0\n",
       "sepal-length     5.1\n",
       "sepal-width      3.5\n",
       "petal-length     1.4\n",
       "petal-width      0.3\n",
       "target           NaN\n",
       "Name: 57, dtype: float64"
      ]
     },
     "metadata": {},
     "output_type": "display_data"
    },
    {
     "name": "stdout",
     "output_type": "stream",
     "text": [
      "ENGINE feature importance: ['petal-length', 'sepal-width', 'petal-width']\n",
      "MODEL feature importance  : ['sepal-width', 'petal-length', 'petal-width']\n",
      "\n",
      "=====\n",
      "\n"
     ]
    },
    {
     "name": "stdout",
     "output_type": "stream",
     "text": [
      "Case 58 is anomalous.\n"
     ]
    },
    {
     "data": {
      "text/plain": [
       "index           58.0\n",
       "sepal-length     5.7\n",
       "sepal-width      3.8\n",
       "petal-length     1.7\n",
       "petal-width      0.3\n",
       "target           NaN\n",
       "Name: 58, dtype: float64"
      ]
     },
     "metadata": {},
     "output_type": "display_data"
    },
    {
     "name": "stdout",
     "output_type": "stream",
     "text": [
      "ENGINE feature importance: ['petal-length', 'sepal-width', 'petal-width']\n",
      "MODEL feature importance  : ['sepal-width', 'petal-length', 'petal-width']\n",
      "\n",
      "=====\n",
      "\n"
     ]
    },
    {
     "name": "stdout",
     "output_type": "stream",
     "text": [
      "Case 59 is anomalous.\n"
     ]
    },
    {
     "data": {
      "text/plain": [
       "index           59.0\n",
       "sepal-length     5.5\n",
       "sepal-width      4.2\n",
       "petal-length     1.4\n",
       "petal-width      0.2\n",
       "target           0.0\n",
       "Name: 59, dtype: float64"
      ]
     },
     "metadata": {},
     "output_type": "display_data"
    },
    {
     "name": "stdout",
     "output_type": "stream",
     "text": [
      "ENGINE feature importance: ['petal-length', 'sepal-width', 'petal-width']\n",
      "MODEL feature importance  : ['sepal-width', 'petal-length', 'petal-width']\n",
      "\n",
      "=====\n",
      "\n"
     ]
    },
    {
     "name": "stdout",
     "output_type": "stream",
     "text": [
      "Case 60 is anomalous.\n"
     ]
    },
    {
     "data": {
      "text/plain": [
       "index           60.0\n",
       "sepal-length     5.1\n",
       "sepal-width      3.8\n",
       "petal-length     1.9\n",
       "petal-width      0.4\n",
       "target           NaN\n",
       "Name: 60, dtype: float64"
      ]
     },
     "metadata": {},
     "output_type": "display_data"
    },
    {
     "name": "stdout",
     "output_type": "stream",
     "text": [
      "ENGINE feature importance: ['petal-length', 'sepal-width', 'petal-width']\n",
      "MODEL feature importance  : ['sepal-width', 'petal-length', 'petal-width']\n",
      "\n",
      "=====\n",
      "\n"
     ]
    },
    {
     "name": "stdout",
     "output_type": "stream",
     "text": [
      "Case 61 is anomalous.\n"
     ]
    },
    {
     "data": {
      "text/plain": [
       "index           61.0\n",
       "sepal-length     4.9\n",
       "sepal-width      3.1\n",
       "petal-length     1.5\n",
       "petal-width      0.1\n",
       "target           NaN\n",
       "Name: 61, dtype: float64"
      ]
     },
     "metadata": {},
     "output_type": "display_data"
    },
    {
     "name": "stdout",
     "output_type": "stream",
     "text": [
      "ENGINE feature importance: ['petal-length', 'sepal-width', 'petal-width']\n",
      "MODEL feature importance  : ['sepal-width', 'petal-length', 'petal-width']\n",
      "\n",
      "=====\n",
      "\n"
     ]
    },
    {
     "name": "stdout",
     "output_type": "stream",
     "text": [
      "Case 62 is anomalous.\n"
     ]
    },
    {
     "data": {
      "text/plain": [
       "index           62.0\n",
       "sepal-length     5.4\n",
       "sepal-width      3.9\n",
       "petal-length     1.3\n",
       "petal-width      0.4\n",
       "target           NaN\n",
       "Name: 62, dtype: float64"
      ]
     },
     "metadata": {},
     "output_type": "display_data"
    },
    {
     "name": "stdout",
     "output_type": "stream",
     "text": [
      "ENGINE feature importance: ['petal-length', 'sepal-width', 'petal-width']\n",
      "MODEL feature importance  : ['sepal-width', 'petal-length', 'petal-width']\n",
      "\n",
      "=====\n",
      "\n"
     ]
    },
    {
     "name": "stdout",
     "output_type": "stream",
     "text": [
      "Case 63 is anomalous.\n"
     ]
    },
    {
     "data": {
      "text/plain": [
       "index           63.0\n",
       "sepal-length     5.1\n",
       "sepal-width      3.5\n",
       "petal-length     1.4\n",
       "petal-width      0.2\n",
       "target           NaN\n",
       "Name: 63, dtype: float64"
      ]
     },
     "metadata": {},
     "output_type": "display_data"
    },
    {
     "name": "stdout",
     "output_type": "stream",
     "text": [
      "ENGINE feature importance: ['petal-length', 'sepal-width', 'petal-width']\n",
      "MODEL feature importance  : ['sepal-width', 'petal-length', 'petal-width']\n",
      "\n",
      "=====\n",
      "\n"
     ]
    },
    {
     "name": "stdout",
     "output_type": "stream",
     "text": [
      "Case 67 is anomalous.\n"
     ]
    },
    {
     "data": {
      "text/plain": [
       "index           67.0\n",
       "sepal-length     4.5\n",
       "sepal-width      2.3\n",
       "petal-length     1.3\n",
       "petal-width      0.3\n",
       "target           0.0\n",
       "Name: 67, dtype: float64"
      ]
     },
     "metadata": {},
     "output_type": "display_data"
    },
    {
     "name": "stdout",
     "output_type": "stream",
     "text": [
      "ENGINE feature importance: ['petal-length', 'sepal-width', 'petal-width']\n",
      "MODEL feature importance  : ['sepal-width', 'petal-length', 'petal-width']\n",
      "\n",
      "=====\n",
      "\n"
     ]
    },
    {
     "name": "stdout",
     "output_type": "stream",
     "text": [
      "Case 71 is anomalous.\n"
     ]
    },
    {
     "data": {
      "text/plain": [
       "index           71.0\n",
       "sepal-length     4.7\n",
       "sepal-width      3.2\n",
       "petal-length     1.6\n",
       "petal-width      0.2\n",
       "target           0.0\n",
       "Name: 71, dtype: float64"
      ]
     },
     "metadata": {},
     "output_type": "display_data"
    },
    {
     "name": "stdout",
     "output_type": "stream",
     "text": [
      "ENGINE feature importance: ['petal-length', 'sepal-width', 'petal-width']\n",
      "MODEL feature importance  : ['sepal-width', 'petal-length', 'petal-width']\n",
      "\n",
      "=====\n",
      "\n"
     ]
    },
    {
     "name": "stdout",
     "output_type": "stream",
     "text": [
      "Case 72 is anomalous.\n"
     ]
    },
    {
     "data": {
      "text/plain": [
       "index           72.0\n",
       "sepal-length     5.1\n",
       "sepal-width      3.8\n",
       "petal-length     1.6\n",
       "petal-width      0.2\n",
       "target           0.0\n",
       "Name: 72, dtype: float64"
      ]
     },
     "metadata": {},
     "output_type": "display_data"
    },
    {
     "name": "stdout",
     "output_type": "stream",
     "text": [
      "ENGINE feature importance: ['petal-length', 'sepal-width', 'petal-width']\n",
      "MODEL feature importance  : ['sepal-width', 'petal-length', 'petal-width']\n",
      "\n",
      "=====\n",
      "\n",
      "Case 73 is anomalous.\n"
     ]
    },
    {
     "data": {
      "text/plain": [
       "index           73.0\n",
       "sepal-length     4.4\n",
       "sepal-width      3.2\n",
       "petal-length     1.3\n",
       "petal-width      0.2\n",
       "target           0.0\n",
       "Name: 73, dtype: float64"
      ]
     },
     "metadata": {},
     "output_type": "display_data"
    },
    {
     "name": "stdout",
     "output_type": "stream",
     "text": [
      "ENGINE feature importance: ['petal-length', 'sepal-width', 'petal-width']\n",
      "MODEL feature importance  : ['sepal-width', 'petal-length', 'petal-width']\n",
      "\n",
      "=====\n",
      "\n",
      "Case 74 is anomalous.\n"
     ]
    },
    {
     "data": {
      "text/plain": [
       "index           74.0\n",
       "sepal-length     4.8\n",
       "sepal-width      3.0\n",
       "petal-length     1.4\n",
       "petal-width      0.3\n",
       "target           0.0\n",
       "Name: 74, dtype: float64"
      ]
     },
     "metadata": {},
     "output_type": "display_data"
    },
    {
     "name": "stdout",
     "output_type": "stream",
     "text": [
      "ENGINE feature importance: ['petal-width', 'petal-length', 'sepal-width']\n",
      "MODEL feature importance  : ['sepal-width', 'petal-length', 'petal-width']\n",
      "\n",
      "=====\n",
      "\n",
      "Case 75 is anomalous.\n"
     ]
    },
    {
     "data": {
      "text/plain": [
       "index           75.0\n",
       "sepal-length     4.6\n",
       "sepal-width      3.4\n",
       "petal-length     1.4\n",
       "petal-width      0.3\n",
       "target           NaN\n",
       "Name: 75, dtype: float64"
      ]
     },
     "metadata": {},
     "output_type": "display_data"
    },
    {
     "name": "stdout",
     "output_type": "stream",
     "text": [
      "ENGINE feature importance: ['petal-length', 'sepal-width', 'petal-width']\n",
      "MODEL feature importance  : ['sepal-width', 'petal-length', 'petal-width']\n",
      "\n",
      "=====\n",
      "\n"
     ]
    },
    {
     "name": "stdout",
     "output_type": "stream",
     "text": [
      "Case 76 is anomalous.\n"
     ]
    },
    {
     "data": {
      "text/plain": [
       "index           76.0\n",
       "sepal-length     5.4\n",
       "sepal-width      3.4\n",
       "petal-length     1.7\n",
       "petal-width      0.2\n",
       "target           NaN\n",
       "Name: 76, dtype: float64"
      ]
     },
     "metadata": {},
     "output_type": "display_data"
    },
    {
     "name": "stdout",
     "output_type": "stream",
     "text": [
      "ENGINE feature importance: ['sepal-width', 'petal-length', 'petal-width']\n",
      "MODEL feature importance  : ['sepal-width', 'petal-length', 'petal-width']\n",
      "\n",
      "=====\n",
      "\n"
     ]
    },
    {
     "name": "stdout",
     "output_type": "stream",
     "text": [
      "Case 77 is anomalous.\n"
     ]
    },
    {
     "data": {
      "text/plain": [
       "index           77.0\n",
       "sepal-length     4.7\n",
       "sepal-width      3.2\n",
       "petal-length     1.3\n",
       "petal-width      0.2\n",
       "target           0.0\n",
       "Name: 77, dtype: float64"
      ]
     },
     "metadata": {},
     "output_type": "display_data"
    },
    {
     "name": "stdout",
     "output_type": "stream",
     "text": [
      "ENGINE feature importance: ['petal-length', 'sepal-width', 'petal-width']\n",
      "MODEL feature importance  : ['sepal-width', 'petal-length', 'petal-width']\n",
      "\n",
      "=====\n",
      "\n"
     ]
    },
    {
     "name": "stdout",
     "output_type": "stream",
     "text": [
      "Case 79 is anomalous.\n"
     ]
    },
    {
     "data": {
      "text/plain": [
       "index           79.0\n",
       "sepal-length     5.0\n",
       "sepal-width      3.4\n",
       "petal-length     1.5\n",
       "petal-width      0.2\n",
       "target           0.0\n",
       "Name: 79, dtype: float64"
      ]
     },
     "metadata": {},
     "output_type": "display_data"
    },
    {
     "name": "stdout",
     "output_type": "stream",
     "text": [
      "ENGINE feature importance: ['petal-length', 'sepal-width', 'petal-width']\n",
      "MODEL feature importance  : ['sepal-width', 'petal-length', 'petal-width']\n",
      "\n",
      "=====\n",
      "\n"
     ]
    },
    {
     "name": "stdout",
     "output_type": "stream",
     "text": [
      "Case 80 is anomalous.\n"
     ]
    },
    {
     "data": {
      "text/plain": [
       "index           80.0\n",
       "sepal-length     5.2\n",
       "sepal-width      3.4\n",
       "petal-length     1.4\n",
       "petal-width      0.2\n",
       "target           0.0\n",
       "Name: 80, dtype: float64"
      ]
     },
     "metadata": {},
     "output_type": "display_data"
    },
    {
     "name": "stdout",
     "output_type": "stream",
     "text": [
      "ENGINE feature importance: ['petal-length', 'sepal-width', 'petal-width']\n",
      "MODEL feature importance  : ['sepal-width', 'petal-length', 'petal-width']\n",
      "\n",
      "=====\n",
      "\n"
     ]
    },
    {
     "name": "stdout",
     "output_type": "stream",
     "text": [
      "Case 81 is anomalous.\n"
     ]
    },
    {
     "data": {
      "text/plain": [
       "index           81.0\n",
       "sepal-length     5.2\n",
       "sepal-width      3.5\n",
       "petal-length     1.5\n",
       "petal-width      0.2\n",
       "target           0.0\n",
       "Name: 81, dtype: float64"
      ]
     },
     "metadata": {},
     "output_type": "display_data"
    },
    {
     "name": "stdout",
     "output_type": "stream",
     "text": [
      "ENGINE feature importance: ['sepal-width', 'sepal-length', 'petal-width']\n",
      "MODEL feature importance  : ['sepal-width', 'petal-length', 'petal-width']\n",
      "\n",
      "=====\n",
      "\n"
     ]
    },
    {
     "name": "stdout",
     "output_type": "stream",
     "text": [
      "Case 82 is anomalous.\n"
     ]
    },
    {
     "data": {
      "text/plain": [
       "index           82.0\n",
       "sepal-length     4.9\n",
       "sepal-width      3.1\n",
       "petal-length     1.5\n",
       "petal-width      0.1\n",
       "target           0.0\n",
       "Name: 82, dtype: float64"
      ]
     },
     "metadata": {},
     "output_type": "display_data"
    },
    {
     "name": "stdout",
     "output_type": "stream",
     "text": [
      "ENGINE feature importance: ['petal-length', 'sepal-width', 'petal-width']\n",
      "MODEL feature importance  : ['sepal-width', 'petal-length', 'petal-width']\n",
      "\n",
      "=====\n",
      "\n",
      "Case 83 is anomalous.\n"
     ]
    },
    {
     "data": {
      "text/plain": [
       "index           83.0\n",
       "sepal-length     5.4\n",
       "sepal-width      3.7\n",
       "petal-length     1.5\n",
       "petal-width      0.2\n",
       "target           0.0\n",
       "Name: 83, dtype: float64"
      ]
     },
     "metadata": {},
     "output_type": "display_data"
    },
    {
     "name": "stdout",
     "output_type": "stream",
     "text": [
      "ENGINE feature importance: ['sepal-width', 'petal-length', 'petal-width']\n",
      "MODEL feature importance  : ['sepal-width', 'petal-length', 'petal-width']\n",
      "\n",
      "=====\n",
      "\n"
     ]
    },
    {
     "name": "stdout",
     "output_type": "stream",
     "text": [
      "Case 87 is anomalous.\n"
     ]
    },
    {
     "data": {
      "text/plain": [
       "index           87.0\n",
       "sepal-length     4.6\n",
       "sepal-width      3.1\n",
       "petal-length     1.5\n",
       "petal-width      0.2\n",
       "target           0.0\n",
       "Name: 87, dtype: float64"
      ]
     },
     "metadata": {},
     "output_type": "display_data"
    },
    {
     "name": "stdout",
     "output_type": "stream",
     "text": [
      "ENGINE feature importance: ['petal-width', 'petal-length', 'sepal-width']\n",
      "MODEL feature importance  : ['sepal-width', 'petal-length', 'petal-width']\n",
      "\n",
      "=====\n",
      "\n"
     ]
    },
    {
     "name": "stdout",
     "output_type": "stream",
     "text": [
      "Case 88 is anomalous.\n"
     ]
    },
    {
     "data": {
      "text/plain": [
       "index           88.0\n",
       "sepal-length     5.7\n",
       "sepal-width      4.4\n",
       "petal-length     1.5\n",
       "petal-width      0.4\n",
       "target           0.0\n",
       "Name: 88, dtype: float64"
      ]
     },
     "metadata": {},
     "output_type": "display_data"
    },
    {
     "name": "stdout",
     "output_type": "stream",
     "text": [
      "ENGINE feature importance: ['petal-length', 'sepal-width', 'petal-width']\n",
      "MODEL feature importance  : ['sepal-width', 'petal-length', 'petal-width']\n",
      "\n",
      "=====\n",
      "\n",
      "Case 89 is anomalous.\n"
     ]
    },
    {
     "data": {
      "text/plain": [
       "index           89.0\n",
       "sepal-length     4.9\n",
       "sepal-width      3.0\n",
       "petal-length     1.4\n",
       "petal-width      0.2\n",
       "target           0.0\n",
       "Name: 89, dtype: float64"
      ]
     },
     "metadata": {},
     "output_type": "display_data"
    },
    {
     "name": "stdout",
     "output_type": "stream",
     "text": [
      "ENGINE feature importance: ['petal-length', 'sepal-width', 'petal-width']\n",
      "MODEL feature importance  : ['sepal-width', 'petal-length', 'petal-width']\n",
      "\n",
      "=====\n",
      "\n"
     ]
    },
    {
     "name": "stdout",
     "output_type": "stream",
     "text": [
      "Case 92 is anomalous.\n"
     ]
    },
    {
     "data": {
      "text/plain": [
       "index           92.0\n",
       "sepal-length     4.8\n",
       "sepal-width      3.4\n",
       "petal-length     1.6\n",
       "petal-width      0.2\n",
       "target           NaN\n",
       "Name: 92, dtype: float64"
      ]
     },
     "metadata": {},
     "output_type": "display_data"
    },
    {
     "name": "stdout",
     "output_type": "stream",
     "text": [
      "ENGINE feature importance: ['sepal-width', 'petal-length', 'petal-width']\n",
      "MODEL feature importance  : ['sepal-width', 'petal-length', 'petal-width']\n",
      "\n",
      "=====\n",
      "\n"
     ]
    },
    {
     "name": "stdout",
     "output_type": "stream",
     "text": [
      "Case 93 is anomalous.\n"
     ]
    },
    {
     "data": {
      "text/plain": [
       "index           93.0\n",
       "sepal-length     4.6\n",
       "sepal-width      3.2\n",
       "petal-length     1.4\n",
       "petal-width      0.2\n",
       "target           0.0\n",
       "Name: 93, dtype: float64"
      ]
     },
     "metadata": {},
     "output_type": "display_data"
    },
    {
     "name": "stdout",
     "output_type": "stream",
     "text": [
      "ENGINE feature importance: ['petal-length', 'sepal-width', 'petal-width']\n",
      "MODEL feature importance  : ['sepal-width', 'petal-length', 'petal-width']\n",
      "\n",
      "=====\n",
      "\n"
     ]
    },
    {
     "name": "stdout",
     "output_type": "stream",
     "text": [
      "Case 94 is anomalous.\n"
     ]
    },
    {
     "data": {
      "text/plain": [
       "index           94.0\n",
       "sepal-length     4.8\n",
       "sepal-width      3.0\n",
       "petal-length     1.4\n",
       "petal-width      0.1\n",
       "target           0.0\n",
       "Name: 94, dtype: float64"
      ]
     },
     "metadata": {},
     "output_type": "display_data"
    },
    {
     "name": "stdout",
     "output_type": "stream",
     "text": [
      "ENGINE feature importance: ['petal-length', 'sepal-width', 'petal-width']\n",
      "MODEL feature importance  : ['sepal-width', 'petal-length', 'petal-width']\n",
      "\n",
      "=====\n",
      "\n"
     ]
    },
    {
     "name": "stdout",
     "output_type": "stream",
     "text": [
      "Case 97 is anomalous.\n"
     ]
    },
    {
     "data": {
      "text/plain": [
       "index           97.0\n",
       "sepal-length     5.1\n",
       "sepal-width      3.4\n",
       "petal-length     1.5\n",
       "petal-width      0.2\n",
       "target           0.0\n",
       "Name: 97, dtype: float64"
      ]
     },
     "metadata": {},
     "output_type": "display_data"
    },
    {
     "name": "stdout",
     "output_type": "stream",
     "text": [
      "ENGINE feature importance: ['petal-width', 'petal-length', 'sepal-width']\n",
      "MODEL feature importance  : ['sepal-width', 'petal-length', 'petal-width']\n",
      "\n",
      "=====\n",
      "\n"
     ]
    },
    {
     "name": "stdout",
     "output_type": "stream",
     "text": [
      "Case 98 is anomalous.\n"
     ]
    },
    {
     "data": {
      "text/plain": [
       "index           98.0\n",
       "sepal-length     5.0\n",
       "sepal-width      3.6\n",
       "petal-length     1.4\n",
       "petal-width      0.2\n",
       "target           0.0\n",
       "Name: 98, dtype: float64"
      ]
     },
     "metadata": {},
     "output_type": "display_data"
    },
    {
     "name": "stdout",
     "output_type": "stream",
     "text": [
      "ENGINE feature importance: ['sepal-width', 'petal-length', 'petal-width']\n",
      "MODEL feature importance  : ['sepal-width', 'petal-length', 'petal-width']\n",
      "\n",
      "=====\n",
      "\n"
     ]
    },
    {
     "name": "stdout",
     "output_type": "stream",
     "text": [
      "Case 99 is anomalous.\n"
     ]
    },
    {
     "data": {
      "text/plain": [
       "index           99.0\n",
       "sepal-length     5.0\n",
       "sepal-width      3.4\n",
       "petal-length     1.6\n",
       "petal-width      0.4\n",
       "target           0.0\n",
       "Name: 99, dtype: float64"
      ]
     },
     "metadata": {},
     "output_type": "display_data"
    },
    {
     "name": "stdout",
     "output_type": "stream",
     "text": [
      "ENGINE feature importance: ['sepal-width', 'petal-length', 'petal-width']\n",
      "MODEL feature importance  : ['sepal-width', 'petal-length', 'petal-width']\n",
      "\n",
      "=====\n",
      "\n"
     ]
    }
   ],
   "source": [
    "# Create and train a Trainee\n",
    "mismatch_counts = []\n",
    "\n",
    "features = infer_feature_attributes(df_test)\n",
    "new_context_features = None\n",
    "\n",
    "familiarity_convictions_hse = []\n",
    "familiarity_convictions_gb = []\n",
    "\n",
    "# Create trainee and turn on auto-analyze\n",
    "t = engine.Trainee(\"Engine - Drift Monitoring Recipe\", features, overwrite_existing=True)\n",
    "t.train(df_train)\n",
    "t.analyze()\n",
    "t.set_auto_analyze_params(analyze_threshold=1, auto_analyze_enabled=True)\n",
    "for idx, case in df_test.iterrows():\n",
    "    # Define which details we want from the Howso model\n",
    "    details = {\n",
    "        'feature_mda': True\n",
    "    }\n",
    "\n",
    "    # Predict using the gradient booster\n",
    "    pred_gb = gb.predict(case[context_features].values.reshape(1, -1))[0]\n",
    "    gb_case = case.copy()\n",
    "    gb_case.target = pred_gb\n",
    "\n",
    "    # Define the updated context features\n",
    "    if new_context_features is None:\n",
    "        new_context_features = [col for col in case.index if col not in action_features]\n",
    "\n",
    "    # React on the new case\n",
    "    result = t.react(case[new_context_features].values.reshape(1, -1),\n",
    "                     action_features=action_features,\n",
    "                     context_features=new_context_features,\n",
    "                     details=details)\n",
    "    action = result['action']\n",
    "    explanation = result['details']\n",
    "\n",
    "\n",
    "    # Store the Howso prediction\n",
    "    pred_hse = action.iloc[0, 0]\n",
    "\n",
    "    # Compute familiarity conviction for case\n",
    "    f_conv = t.react_group(new_cases=[[case.values.tolist()], [gb_case.values.tolist()]], features=df_test.columns.tolist())\n",
    "    f_conv_hse = f_conv['familiarity_conviction_addition'].iloc[0]\n",
    "    f_conv_gb = f_conv['familiarity_conviction_addition'].iloc[1]\n",
    "    familiarity_convictions_hse.append(f_conv_hse)\n",
    "    familiarity_convictions_gb.append(f_conv_gb)\n",
    "\n",
    "\n",
    "    if pred_hse != pred_gb:\n",
    "        mismatch_counts.append(1)\n",
    "    else:\n",
    "        mismatch_counts.append(0)\n",
    "\n",
    "    if pred_hse != pred_gb and f_conv_hse < 0.5 * np.mean(familiarity_convictions_hse) and idx > 30:\n",
    "        print(f\"Case {idx} is anomalous.\")\n",
    "\n",
    "        display(case)\n",
    "        hse_importances = [val for key, val in explanation['feature_mda'][0].items() if key in context_features]\n",
    "        gb_importances = gb.feature_importances_.tolist()\n",
    "        print(f\"ENGINE feature importance: {[context_features[i] for i in np.argpartition(hse_importances, -3)[-3:]]}\")\n",
    "        print(f\"MODEL feature importance  : {[context_features[i] for i in np.argpartition(gb_importances, -3)[-3:]]}\")\n",
    "        print(\"\\n=====\\n\")\n",
    "\n",
    "    # Train on the new case\n",
    "    case['pred'] = pred_gb\n",
    "    t.train([case.values.tolist()], features=case.index.tolist())"
   ]
  },
  {
   "attachments": {},
   "cell_type": "markdown",
   "id": "a997c787",
   "metadata": {},
   "source": [
    "## Step 6: Inspect the \"Deployed\" the non-Howso Model\n",
    "\n",
    "We now will inspect the \"Deployed\" the GB model, observing the results as it iterated through the test set, getting predictions from both the non-Howso and Howso model. Explanations are recorded at each step, and anomalous cases are brought to the forefront including feature importance and predictions. The Howso model learns from this information as each new case is predicted. The non-Howso model is not updated online."
   ]
  },
  {
   "attachments": {},
   "cell_type": "markdown",
   "id": "84efcdfc",
   "metadata": {},
   "source": [
    "Inspecting the plot of conviction over time, we are able to see clear drop once the test set that simulates model drift begins being predicted upon. Furthermore, we see that the Howso Engine model is able to recuperate and begin to learn the new drifted data distribution quickly which brings it's conviction back up. However, since the non-Howso model is not trained online, its conviction does not come back up.\n",
    "\n",
    "> Note: Conviction is a ratio of expected surprisal to observed surprisal. So when we see the conviction above 1.0, this indicates that the data is not surprising which indicates it is well understood and characterized by the model. In contrast, conviction below 1.0 indicates the opposite, or that the model is unusually surprised by those values.\n",
    "\n",
    "*The beginning of model drift is made very clear by the drop in familiarity conviction.*\n",
    "\n",
    "This demo was created in such a way to make the effects of drift very obvious. It should typically be more subtle with a real-world model."
   ]
  },
  {
   "cell_type": "code",
   "execution_count": 7,
   "id": "db6fddae",
   "metadata": {
    "execution": {
     "iopub.execute_input": "2024-05-30T18:29:18.149254Z",
     "iopub.status.busy": "2024-05-30T18:29:18.148870Z",
     "iopub.status.idle": "2024-05-30T18:29:19.434577Z",
     "shell.execute_reply": "2024-05-30T18:29:19.433743Z"
    }
   },
   "outputs": [
    {
     "data": {
      "image/png": "[encoded data removed]"
     },
     "metadata": {},
     "output_type": "display_data"
    }
   ],
   "source": [
    "f_conv_df = pd.DataFrame(familiarity_convictions_hse, columns=[\"Familiarity Conviction (HSE)\"])\n",
    "f_conv_df[\"Familiarity Conviction (GB)\"] = familiarity_convictions_gb\n",
    "\n",
    "fig = plot_drift(f_conv_df, line_positions=[len(df_test_no_drift)])\n",
    "fig.add_hline(1, line_dash='dash', line_color='green', name='Average Conviction', showlegend=True)\n",
    "fig.update_layout(width=1500)\n",
    "fig.show()"
   ]
  },
  {
   "cell_type": "markdown",
   "id": "b70accad",
   "metadata": {},
   "source": [
    "Lastly, we compute the mean difference in convictions between the case values and predictions of both the Howso model and the non-Howso Model. We see that the mean difference in conviction is quite significant once we get into the data that represents the model drift.\n",
    "\n",
    "This type of measure can be used as an indicator that there is concern for model drift, which would call for more careful human inspection."
   ]
  },
  {
   "cell_type": "code",
   "execution_count": 8,
   "id": "32e087b0-7897-4424-bf86-973564345539",
   "metadata": {
    "execution": {
     "iopub.execute_input": "2024-05-30T18:29:19.437746Z",
     "iopub.status.busy": "2024-05-30T18:29:19.437322Z",
     "iopub.status.idle": "2024-05-30T18:29:19.442985Z",
     "shell.execute_reply": "2024-05-30T18:29:19.442403Z"
    }
   },
   "outputs": [
    {
     "data": {
      "text/plain": [
       "7.8898440719932035"
      ]
     },
     "execution_count": 8,
     "metadata": {},
     "output_type": "execute_result"
    }
   ],
   "source": [
    "# calculate delta conviction between Howso vs. GB model\n",
    "conv_delta = f_conv_df['Familiarity Conviction (HSE)'] - f_conv_df['Familiarity Conviction (GB)']\n",
    "\n",
    "# calculate average delta for the latter portion of the data (after drift occurred)\n",
    "avg_delta = conv_delta[50:].mean()\n",
    "avg_delta"
   ]
  },
  {
   "attachments": {},
   "cell_type": "markdown",
   "id": "a62b9819",
   "metadata": {},
   "source": [
    "Another way to measure the model drift in this scenario is to measure how often the two models disagree with one another. We should see that before the final test set kicks in (index=50), the models do not disagree often on predictions. \n",
    "\n",
    "However, once the drifted data begins being predicted, we see many more disagreements. This makes clear sense since the Howso model was trained online and could adjust to the drifted data where the other model could not. The increased level of disagreement can serve as another strong signal to stakeholders that their deployed models are experiencing model drift as the accompanying online model began to capture new relationships in the data while the pretrained model was falling behind."
   ]
  },
  {
   "cell_type": "code",
   "execution_count": 9,
   "id": "d759e54d",
   "metadata": {
    "execution": {
     "iopub.execute_input": "2024-05-30T18:29:19.445726Z",
     "iopub.status.busy": "2024-05-30T18:29:19.445359Z",
     "iopub.status.idle": "2024-05-30T18:29:20.149614Z",
     "shell.execute_reply": "2024-05-30T18:29:20.148895Z"
    }
   },
   "outputs": [
    {
     "data": {
      "image/png": "[encoded data removed]"
     },
     "metadata": {},
     "output_type": "display_data"
    }
   ],
   "source": [
    "mismatch_count_df = pd.DataFrame(mismatch_counts, columns=[\"Prediction Deviation\"])\n",
    "\n",
    "fig = plot_drift(mismatch_count_df, line_positions=[len(df_test_no_drift)], rolling_window=5, yaxis_title='Model Disagreement', title=\"Model Disagreement over Time\")\n",
    "fig.update_layout(width=1500)\n",
    "fig.show()"
   ]
  },
  {
   "cell_type": "markdown",
   "id": "f24ba83b",
   "metadata": {},
   "source": [
    "And lastly, we compute the difference in the level of differing predictions before the drifted data testing and during the drifted data testing. This clearly shows a significant increase in the level of disagreement between the models which indicates to users that their deployed model may need to be updated or retrained with an updated dataset that better reflects the incoming data."
   ]
  },
  {
   "cell_type": "code",
   "execution_count": 10,
   "id": "53baad36-c7c7-4bef-8efc-045f5b922b0d",
   "metadata": {
    "execution": {
     "iopub.execute_input": "2024-05-30T18:29:20.152277Z",
     "iopub.status.busy": "2024-05-30T18:29:20.152068Z",
     "iopub.status.idle": "2024-05-30T18:29:20.157474Z",
     "shell.execute_reply": "2024-05-30T18:29:20.156832Z"
    }
   },
   "outputs": [
    {
     "data": {
      "text/plain": [
       "0.9199999999999999"
      ]
     },
     "execution_count": 10,
     "metadata": {},
     "output_type": "execute_result"
    }
   ],
   "source": [
    "# extract the series\n",
    "mismatch_series = mismatch_count_df['Prediction Deviation']\n",
    "\n",
    "# calculate before and after drift mismatch\n",
    "after_drift = mismatch_series.iloc[50:].mean()\n",
    "before_drift = mismatch_series.iloc[:50].mean()\n",
    "\n",
    "avg_pred_mismatch = after_drift - before_drift\n",
    "avg_pred_mismatch"
   ]
  },
  {
   "cell_type": "markdown",
   "id": "a67b245f",
   "metadata": {},
   "source": [
    "## Conclusion\n",
    "\n",
    "Model drift is a pervasive and costly problem across the industry of applied machine learning. This issue is exacerbated with the rising popularity of pre-trained models that are not designed to learn online and demand costly training cycles to update.\n",
    "\n",
    "This recipe serves as a curated example of how the Howso Engine can be used to accompany a deployed pretrained model to help give users strong signals of model drift so that the appropriate actions can be taken whether it be switching to an online model, retraining their model, or temporarily disabling their deployed models. \n",
    "\n",
    "Lastly, this recipe just proposes a couple methods of how model drift could be monitored using the Howso Engine. The Engine provides a plethora of interpetability and explainability tools that users can leverage to better understand the data in their system, which many of could be used to monitor model drift in different ways."
   ]
  }
 ],
 "metadata": {
  "kernelspec": {
   "display_name": "Python 3 (ipykernel)",
   "language": "python",
   "name": "python3"
  },
  "language_info": {
   "codemirror_mode": {
    "name": "ipython",
    "version": 3
   },
   "file_extension": ".py",
   "mimetype": "text/x-python",
   "name": "python",
   "nbconvert_exporter": "python",
   "pygments_lexer": "ipython3",
   "version": "3.9.19"
  },
  "vscode": {
   "interpreter": {
    "hash": "5a97d8588cce4b7427f7b841aa84f596036816f81d1a6ebef91f01881d12ee0c"
   }
  }
 },
 "nbformat": 4,
 "nbformat_minor": 5
}
