{
 "cells": [
  {
   "attachments": {},
   "cell_type": "markdown",
   "id": "69d7ac54-9a3b-4327-93a5-eb6fbf314530",
   "metadata": {
    "tags": []
   },
   "source": [
    "# Engine Feature Importance\n",
    "\n",
    "## Overview \n",
    " \n",
    "Howso Engine is a generalized Machine Learning (ML) and Artificial Intelligence platform that creates powerful decision-making models that are fully explainable, auditable, and editable. Howso Engine uses Instance-Based Machine Learning which stores instances, i.e., data points, in memory and makes predictions about new instances given their relationship to existing instances. This technology harnesses a fast spatial query system and techniques from information theory to enhance both performance and accuracy. \n",
    "\n",
    "In this notebook we will explore how to determine feature importance using Howso Engine."
   ]
  },
  {
   "cell_type": "code",
   "execution_count": 1,
   "id": "f6cbaf0d-4f1f-410d-9cfd-1114f34c8c00",
   "metadata": {
    "execution": {
     "iopub.execute_input": "2024-03-28T21:11:49.114961Z",
     "iopub.status.busy": "2024-03-28T21:11:49.114804Z",
     "iopub.status.idle": "2024-03-28T21:11:50.011795Z",
     "shell.execute_reply": "2024-03-28T21:11:50.011238Z"
    }
   },
   "outputs": [],
   "source": [
    "import os\n",
    "\n",
    "import numpy as np\n",
    "import pandas as pd\n",
    "import plotly.io as pio\n",
    "import plotly.express as px\n",
    "from pmlb import fetch_data\n",
    "\n",
    "from howso.engine import Trainee\n",
    "from howso.utilities import infer_feature_attributes\n",
    "\n",
    "pio.renderers.default = os.getenv(\"HOWSO_RECIPE_RENDERER\", \"notebook\")"
   ]
  },
  {
   "attachments": {},
   "cell_type": "markdown",
   "id": "050d7e2d",
   "metadata": {},
   "source": [
    "# Section 1: Load, Train, Analyze\n",
    "\n",
    "For questions about the specific steps of this section, please see the [basic workflow guide](https://docs.howso.com/user_guide/basics/basic_workflow.html)."
   ]
  },
  {
   "attachments": {},
   "cell_type": "markdown",
   "id": "8a1f5ffa-d96e-44b8-9152-9e7811b6f9b4",
   "metadata": {},
   "source": [
    "### Step 1: Load Data"
   ]
  },
  {
   "cell_type": "code",
   "execution_count": null,
   "id": "e5a7a925-5a9d-47fb-b4a3-3272203d4772",
   "metadata": {
    "execution": {
     "iopub.execute_input": "2024-03-28T21:11:50.014541Z",
     "iopub.status.busy": "2024-03-28T21:11:50.014363Z",
     "iopub.status.idle": "2024-03-28T21:11:50.080192Z",
     "shell.execute_reply": "2024-03-28T21:11:50.079660Z"
    }
   },
   "outputs": [],
   "source": [
    "df = fetch_data('iris', local_cache_dir=\"../../data/iris\")\n",
    "\n",
    "# Infer feature attributes\n",
    "features = infer_feature_attributes(df)\n",
    "\n",
    "# Create the Trainee\n",
    "t = Trainee(features=features)"
   ]
  },
  {
   "attachments": {},
   "cell_type": "markdown",
   "id": "35ec53b0-b623-427a-b2a6-8e55ebfef1bc",
   "metadata": {},
   "source": [
    "### Step 2: Train, Analyze, and React"
   ]
  },
  {
   "cell_type": "code",
   "execution_count": null,
   "id": "086a95e5-e236-4806-b6e4-65ea94f43f28",
   "metadata": {
    "execution": {
     "iopub.execute_input": "2024-03-28T21:11:50.087888Z",
     "iopub.status.busy": "2024-03-28T21:11:50.087710Z",
     "iopub.status.idle": "2024-03-28T21:12:40.411521Z",
     "shell.execute_reply": "2024-03-28T21:12:40.410999Z"
    }
   },
   "outputs": [],
   "source": [
    "# Train\n",
    "t.train(df)\n",
    "\n",
    "# Targeted Analysis\n",
    "t.analyze()\n",
    "\n",
    "# React into trainee\n",
    "t.react_into_trainee(residuals=True)"
   ]
  },
  {
   "cell_type": "markdown",
   "id": "a7857b7a",
   "metadata": {},
   "source": [
    "# Which features are important?\n",
    "\n",
    "Feature importance is quantified by a combined analysis of how much each feature contributes to the prediction of another feature and whether that contribution improves or harms the accuracy of the prediction. For a given target (i.e., action, predicted) feature, Howso classifies each feature into one of four feature importance categories:\n",
    "\n",
    "1. Red Flag Feature (RF): The feature contributes strongly to the prediction, but also adds uncertainty.\n",
    "\n",
    "2. Important Feature (I): The feature contributes strongly to the prediction and reduces uncertainty.\n",
    "\n",
    "3. Unimportant Feature (U): The feature contributes weakly to the prediction, but also adds uncertainty.\n",
    "\n",
    "4. Tuning Feature (T): The feature contributes weakly to the prediction and reduces uncertainty.\n",
    "\n",
    "Howso quantifies the contribution and uncertainty additions and reductions using each feature as the target feature in turn via following metrics:\n",
    "\n",
    "Feature Contribution: the difference between a prediction of a target feature when each context feature is considered versus not considered during the prediction.\n",
    "\n",
    "Mean Decrease in Accuracy (MDA): the mean decrease in accuracy of a target feature when each context feature is considered versus not considered during the prediction.\n",
    "\n",
    "Howso summarizes the feature contribution and MDA results for each feature within matrices. To read a matrix, the label of each row (listed on the y-axis) indicates the target feature. Moving from left to right across each row of a matrix, the feature contribution or mda of each context feature for the target feature prediction can be identified. \n",
    "\n",
    "Note, the matrices also provide some insight into directional causality between features. This insight is useful for data scientists performing an exploratory data analysis (EDA)."
   ]
  },
  {
   "cell_type": "code",
   "execution_count": null,
   "id": "afc380b6",
   "metadata": {},
   "outputs": [],
   "source": [
    "contrib_matrix = t.get_contribution_matrix()\n",
    "\n",
    "# Plot the heatmap\n",
    "fig = px.imshow(\n",
    "    round(contrib_matrix, 2),\n",
    "    color_continuous_scale='RdBu',\n",
    "    text_auto=True, \n",
    "    title = 'Feature Contribution Matrix Heatmap'\n",
    ")\n",
    "fig.show()"
   ]
  },
  {
   "cell_type": "code",
   "execution_count": null,
   "id": "8655e230",
   "metadata": {},
   "outputs": [],
   "source": [
    "mda_matrix = t.get_mda_matrix()\n",
    "\n",
    "# Plot the heatmap\n",
    "fig = px.imshow(\n",
    "    round(mda_matrix, 2),\n",
    "    color_continuous_scale='RdBu',\n",
    "    text_auto=True, \n",
    "    title = 'MDA Matrix Heatmap'\n",
    ")\n",
    "fig.show()"
   ]
  },
  {
   "cell_type": "markdown",
   "id": "305b39a9",
   "metadata": {},
   "source": [
    "# Difference Heatmap\n",
    "\n",
    "By plotting the differences across diagonals in the heatmap, features that may have a directional or causual relationship can be revealed."
   ]
  },
  {
   "cell_type": "code",
   "execution_count": null,
   "id": "95b16c64",
   "metadata": {},
   "outputs": [],
   "source": [
    "def diagonal_difference_df(df):\n",
    "    \"\"\"Calculates the differences of the diagonal values.\"\"\"\n",
    "    if df.shape[0] != df.shape[1]:\n",
    "        raise ValueError(\"DataFrame must be square\")    \n",
    "    return df - df.transpose()\n",
    "\n",
    "diff_contrib_matrix = diagonal_difference_df(contrib_matrix)\n",
    "\n",
    "# Plot the heatmap\n",
    "fig = px.imshow(\n",
    "    round(diff_contrib_matrix, 2),\n",
    "    color_continuous_scale='RdBu',\n",
    "    text_auto=True, \n",
    "    title = 'Contibution Matrix - Difference Heatmap'\n",
    ")\n",
    "fig.show()"
   ]
  },
  {
   "cell_type": "markdown",
   "id": "ec4cd1f9",
   "metadata": {},
   "source": [
    "# Difference categories\n",
    "\n",
    "We can group these differences into categories based on a custom criteria. In this example below, we compare each value with the mean of the rows.\n",
    "\n",
    "By categorizing these features, we can easily digest the relative importance of these features and gain insights into the characteristics of the relationships within the data."
   ]
  },
  {
   "cell_type": "code",
   "execution_count": null,
   "id": "dba88f96",
   "metadata": {},
   "outputs": [],
   "source": [
    "# Example helper functions group categories\n",
    "\n",
    "def check_quantile(row):\n",
    "    \"\"\"Compare each element to the mean and returns 'large' or 'small'.\"\"\"\n",
    "    if row.empty:\n",
    "        return pd.Series([\"small\"] * len(row), index=row.index)\n",
    "    mean = row.mean()\n",
    "    return row.apply(lambda x: \"large\" if x > mean else \"small\")\n",
    "\n",
    "def group_elements(x, y):\n",
    "    \"\"\"Groups the quantiles into categories.\"\"\"\n",
    "    if x == 'large' and y == 'large':\n",
    "        return 'Important'\n",
    "    elif x == 'large' and y == 'small':\n",
    "        return 'Red Flag'\n",
    "    elif x == 'small' and y == 'large':\n",
    "        return 'Red Flag'\n",
    "    elif x == 'small' and y == 'small':\n",
    "        return 'Unimportant'\n",
    "    else:\n",
    "        return 'Tuning'"
   ]
  },
  {
   "cell_type": "code",
   "execution_count": null,
   "id": "bd51e94c",
   "metadata": {},
   "outputs": [],
   "source": [
    "# Replace diagonals with Nan so they are not included in calculations\n",
    "np.fill_diagonal(contrib_matrix.values, np.nan)\n",
    "np.fill_diagonal(mda_matrix.values, np.nan)\n",
    "\n",
    "contrib_matrix_cat = contrib_matrix.apply(check_quantile, axis=1)\n",
    "mda_matrix_cat = mda_matrix.apply(check_quantile, axis=1)\n",
    "\n",
    "# Create a new dataframe by comparing df1 and df2 element-wise\n",
    "comparison = pd.DataFrame(index=contrib_matrix_cat.index, columns=contrib_matrix_cat.columns)\n",
    "for col in contrib_matrix_cat.columns:\n",
    "    comparison[col] = np.vectorize(group_elements)(contrib_matrix_cat[col], mda_matrix_cat[col])\n",
    "comparison"
   ]
  },
  {
   "cell_type": "markdown",
   "id": "a57d78b3",
   "metadata": {},
   "source": [
    "We recommend modifying the threshold for classifying these features. This example classifies features based on the mean for simplicity, however a more stratified classification may provide better results."
   ]
  }
 ],
 "metadata": {
  "kernelspec": {
   "display_name": "Python 3 (ipykernel)",
   "language": "python",
   "name": "python3"
  },
  "language_info": {
   "codemirror_mode": {
    "name": "ipython",
    "version": 3
   },
   "file_extension": ".py",
   "mimetype": "text/x-python",
   "name": "python",
   "nbconvert_exporter": "python",
   "pygments_lexer": "ipython3",
   "version": "3.11.2"
  },
  "vscode": {
   "interpreter": {
    "hash": "a7b40af3b3dcf6c5b8a920c6917b3b1352b9482e2d98da38730ccde8fc2e79a6"
   }
  }
 },
 "nbformat": 4,
 "nbformat_minor": 5
}
