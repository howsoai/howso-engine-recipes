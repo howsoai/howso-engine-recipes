{
 "cells": [
  {
   "attachments": {},
   "cell_type": "markdown",
   "metadata": {},
   "source": [
    "# Anomaly Detection\n",
    "## Overview \n",
    "\n",
    "In the recipe, `engine-insights.ipynb`, we demonstrated an introduction to anomaly detection. In this recipe, expand on the methods used in that recipe. Howso Engine can be used to identify anomalous cases in a dataset and also explain why those cases may be anomalous. Furthermore, we can leverage other tools we learned in previous recipes, such  as influential and boundary cases, to provide additional context.\n",
    "\n",
    "Finding anomalous cases has value in both model building and data exploration. For example, as we continue to build a suitable model for the `Adult` datset, detecting anomalies can give us insight into whether we need to clean the dataset to reduce false signals. Possible sources of anomalies could be cases that are erroneous or falsified.   \n"
   ]
  },
  {
   "attachments": {},
   "cell_type": "markdown",
   "metadata": {},
   "source": [
    "# Section 1: Load, Train, Analyze\n",
    "\n",
    "For questions about the specific steps of this section, please see the [basic workflow guide](https://docs.howso.com/en/release-latest/user_guide/basic_capabilities/basic_workflow.html).\n"
   ]
  },
  {
   "cell_type": "code",
   "execution_count": 1,
   "metadata": {
    "execution": {
     "iopub.execute_input": "2025-07-21T19:15:58.713570Z",
     "iopub.status.busy": "2025-07-21T19:15:58.713404Z",
     "iopub.status.idle": "2025-07-21T19:16:03.463081Z",
     "shell.execute_reply": "2025-07-21T19:16:03.462428Z"
    }
   },
   "outputs": [],
   "source": [
    "import pandas as pd\n",
    "from pmlb import fetch_data\n",
    "\n",
    "from howso.engine import Trainee\n",
    "from howso.utilities import infer_feature_attributes\n",
    "from howso.visuals import plot_anomalies"
   ]
  },
  {
   "cell_type": "markdown",
   "metadata": {},
   "source": [
    "### Step 1: Load Data and Create Trainee\n",
    "\n",
    "Our example dataset for this recipe continues to be the well known `Adult` dataset. This dataset consists of 14 Context Features and 1 Action Feature. The Action Feature in this version of the `Adult` dataset has been renamed to `target` and it takes the form of a binary indicator for whether a person in the data makes over $50,000/year (*target*=1) or less (*target*=0)."
   ]
  },
  {
   "cell_type": "code",
   "execution_count": 2,
   "metadata": {
    "execution": {
     "iopub.execute_input": "2025-07-21T19:16:03.465626Z",
     "iopub.status.busy": "2025-07-21T19:16:03.465323Z",
     "iopub.status.idle": "2025-07-21T19:16:06.024537Z",
     "shell.execute_reply": "2025-07-21T19:16:06.023857Z"
    }
   },
   "outputs": [],
   "source": [
    "df = fetch_data('adult', local_cache_dir=\"../../data/adult\")\n",
    "\n",
    "# Subsample the data to ensure the example runs quickly\n",
    "df = df.sample(1000, random_state=0)\n",
    "\n",
    "# Infer feature attributes\n",
    "features = infer_feature_attributes(df)\n",
    "\n",
    "# Create the Trainee\n",
    "t = Trainee(features=features)"
   ]
  },
  {
   "attachments": {},
   "cell_type": "markdown",
   "metadata": {},
   "source": [
    "### Step 2: Train and Analyze"
   ]
  },
  {
   "cell_type": "code",
   "execution_count": 3,
   "metadata": {
    "execution": {
     "iopub.execute_input": "2025-07-21T19:16:06.027058Z",
     "iopub.status.busy": "2025-07-21T19:16:06.026867Z",
     "iopub.status.idle": "2025-07-21T19:16:15.251282Z",
     "shell.execute_reply": "2025-07-21T19:16:15.250663Z"
    }
   },
   "outputs": [],
   "source": [
    "t.train(df)\n",
    "\n",
    "# Targetless Analysis\n",
    "t.analyze()"
   ]
  },
  {
   "attachments": {},
   "cell_type": "markdown",
   "metadata": {},
   "source": [
    "# Section 2: Anomaly Identification\n",
    "\n",
    "We will use [Familiarity Conviction](https://docs.howso.com/en/release-latest/getting_started/terminology.html#familiarity-conviction) and [Distance Contribution](https://docs.howso.com/en/release-latest/getting_started/terminology.html#distance-contribution) to identify potentially anomalous cases. Conviction is a value indicating how surprising a case is relative to how surprising other cases in the model are. In the case of `Familiarity Conviction`, the level of surprisal is measured by the perturbation of the probability distribution when the case is added or removed (hence the parameters: `familiarity_conviction_addition` and `familiarity_conviction_removal`).  Howso Engine’s interpretability tools also enable us to understand why these cases may be anomalous and whether they are outliers and inliers. "
   ]
  },
  {
   "attachments": {},
   "cell_type": "markdown",
   "metadata": {},
   "source": [
    "### Step 1: Compute Distance Contribution and Familiarity Conviction for every case\n",
    "\n",
    "The first step is to use `react_into_features` and select the metrics we want to return.\n",
    "\n",
    "`react_into_features` is a method that calculates the desired attributes for every case in the Trainee and caches those values into each case as a feature.\n",
    "\n",
    "Notably, this means that these features can then be used as context and action features, but this is only recommended for advanced use-cases."
   ]
  },
  {
   "cell_type": "code",
   "execution_count": 4,
   "metadata": {
    "execution": {
     "iopub.execute_input": "2025-07-21T19:16:15.253827Z",
     "iopub.status.busy": "2025-07-21T19:16:15.253506Z",
     "iopub.status.idle": "2025-07-21T19:16:15.334478Z",
     "shell.execute_reply": "2025-07-21T19:16:15.333927Z"
    }
   },
   "outputs": [],
   "source": [
    "# Store the familiarity conviction and distance contribution, this will be used to identify anomalous cases\n",
    "t.react_into_features(\n",
    "    familiarity_conviction_addition=True,\n",
    "    distance_contribution=True\n",
    ")\n",
    "\n",
    "stored_convictions = t.get_cases(\n",
    "    session=t.active_session,\n",
    "    features=df.columns.tolist() + ['familiarity_conviction_addition','.session_training_index', '.session', 'distance_contribution']\n",
    ")"
   ]
  },
  {
   "attachments": {},
   "cell_type": "markdown",
   "metadata": {},
   "source": [
    "### Step 2: Set Threshold and Identify Anomalies\n",
    "\n",
    "There is no absolute threshold for what is considered to be anomalous, as anomalous behavior is a measure of surprisal. Thus, this is a lever that the user can change depending on the data. The threshold should be more or less than 1, which indicates average surprisal.\n",
    "\n",
    "We first use `familiarity_conviction_addition` to find anomalies, and then use the average `distance_contribution` to determine what type of anomaly the case is (e.g., inlier vs. outlier). Cases with large distance contributions will be considered outliers and those with\n",
    "low distance contributions will be inliers.\n",
    "\n",
    "For this data, we use a threshold of 0.75 for the Familiarity Conviction. Cases with a Familarity Conviction below this value will be considered outliers."
   ]
  },
  {
   "cell_type": "code",
   "execution_count": 5,
   "metadata": {
    "execution": {
     "iopub.execute_input": "2025-07-21T19:16:15.336597Z",
     "iopub.status.busy": "2025-07-21T19:16:15.336388Z",
     "iopub.status.idle": "2025-07-21T19:16:15.342140Z",
     "shell.execute_reply": "2025-07-21T19:16:15.341637Z"
    }
   },
   "outputs": [],
   "source": [
    "# Threshold to determine which cases will be deemed anomalous\n",
    "convict_threshold = 0.75\n",
    "\n",
    "# Extract the anomalous cases\n",
    "low_convicts = stored_convictions[\n",
    "    stored_convictions['familiarity_conviction_addition'] <= convict_threshold\n",
    "].sort_values('familiarity_conviction_addition', ascending=True)\n",
    "\n",
    "# Average distance contribution will be used to determine if a case is an outlier or inlier\n",
    "average_dist_contribution = low_convicts['distance_contribution'].mean()\n",
    "\n",
    "# A case with distance contribution greater than average will be tagged as outlier, and vice versa for inliers\n",
    "cat = [\n",
    "    'inlier' if d < average_dist_contribution else\n",
    "    'outlier' for d in low_convicts['distance_contribution']\n",
    "]\n",
    "low_convicts['category'] = cat"
   ]
  },
  {
   "attachments": {},
   "cell_type": "markdown",
   "metadata": {},
   "source": [
    "# Section 3: Anomaly Inspection"
   ]
  },
  {
   "attachments": {},
   "cell_type": "markdown",
   "metadata": {},
   "source": [
    "\n",
    "### Step 1: Inspect Outliers\n",
    "\n",
    "Typically, when we think of anomalies, we think of outliers or cases that are significantly different that the rest of the data, whether erroneous or not. Preprocessing in machine learning often involves pruning these data points as they can add undesired noise to a model. \n",
    "\n",
    "The Case Feature Residual Conviction will be used to understand why each case was anomalous.\n",
    "\n",
    "In our example use case where the `Adult` dataset is used to determine projected salary for loan applications, we want to eliminate any erroneous outliers if possible. We may also want to detect substituted values, as often times datasets may substitute special values with nominal integers. For example, blank values in an application are often coded with high integers like 99999 which can introduce noise in the dataset.\n",
    "\n",
    "### **Definitions:**\n",
    "\n",
    "**`case_feature_residual_convictions`** :  This is calculated using the local feature residuals, divided by the feature residuals of the Case to obtain the Convictions."
   ]
  },
  {
   "cell_type": "code",
   "execution_count": 6,
   "metadata": {
    "execution": {
     "iopub.execute_input": "2025-07-21T19:16:15.343962Z",
     "iopub.status.busy": "2025-07-21T19:16:15.343784Z",
     "iopub.status.idle": "2025-07-21T19:16:15.359560Z",
     "shell.execute_reply": "2025-07-21T19:16:15.359055Z"
    }
   },
   "outputs": [
    {
     "data": {
      "text/html": [
       "<div>\n",
       "<style scoped>\n",
       "    .dataframe tbody tr th:only-of-type {\n",
       "        vertical-align: middle;\n",
       "    }\n",
       "\n",
       "    .dataframe tbody tr th {\n",
       "        vertical-align: top;\n",
       "    }\n",
       "\n",
       "    .dataframe thead th {\n",
       "        text-align: right;\n",
       "    }\n",
       "</style>\n",
       "<table border=\"1\" class=\"dataframe\">\n",
       "  <thead>\n",
       "    <tr style=\"text-align: right;\">\n",
       "      <th></th>\n",
       "      <th>age</th>\n",
       "      <th>workclass</th>\n",
       "      <th>fnlwgt</th>\n",
       "      <th>education</th>\n",
       "      <th>education-num</th>\n",
       "      <th>marital-status</th>\n",
       "      <th>occupation</th>\n",
       "      <th>relationship</th>\n",
       "      <th>race</th>\n",
       "      <th>sex</th>\n",
       "      <th>capital-gain</th>\n",
       "      <th>capital-loss</th>\n",
       "      <th>hours-per-week</th>\n",
       "      <th>native-country</th>\n",
       "      <th>target</th>\n",
       "      <th>familiarity_conviction_addition</th>\n",
       "      <th>.session_training_index</th>\n",
       "      <th>.session</th>\n",
       "      <th>distance_contribution</th>\n",
       "      <th>category</th>\n",
       "    </tr>\n",
       "  </thead>\n",
       "  <tbody>\n",
       "    <tr>\n",
       "      <th>0</th>\n",
       "      <td>30.0</td>\n",
       "      <td>4</td>\n",
       "      <td>193598.0</td>\n",
       "      <td>13</td>\n",
       "      <td>1.0</td>\n",
       "      <td>4</td>\n",
       "      <td>5</td>\n",
       "      <td>1</td>\n",
       "      <td>4</td>\n",
       "      <td>1</td>\n",
       "      <td>0.0</td>\n",
       "      <td>0.0</td>\n",
       "      <td>40.0</td>\n",
       "      <td>26</td>\n",
       "      <td>1</td>\n",
       "      <td>0.020019</td>\n",
       "      <td>540</td>\n",
       "      <td>51f01770-0025-44a0-bd80-24ef11fa59cd</td>\n",
       "      <td>306.265156</td>\n",
       "      <td>outlier</td>\n",
       "    </tr>\n",
       "    <tr>\n",
       "      <th>1</th>\n",
       "      <td>23.0</td>\n",
       "      <td>4</td>\n",
       "      <td>240049.0</td>\n",
       "      <td>13</td>\n",
       "      <td>1.0</td>\n",
       "      <td>4</td>\n",
       "      <td>8</td>\n",
       "      <td>1</td>\n",
       "      <td>1</td>\n",
       "      <td>0</td>\n",
       "      <td>0.0</td>\n",
       "      <td>0.0</td>\n",
       "      <td>40.0</td>\n",
       "      <td>25</td>\n",
       "      <td>1</td>\n",
       "      <td>0.023356</td>\n",
       "      <td>732</td>\n",
       "      <td>51f01770-0025-44a0-bd80-24ef11fa59cd</td>\n",
       "      <td>280.379224</td>\n",
       "      <td>outlier</td>\n",
       "    </tr>\n",
       "    <tr>\n",
       "      <th>2</th>\n",
       "      <td>65.0</td>\n",
       "      <td>5</td>\n",
       "      <td>184965.0</td>\n",
       "      <td>10</td>\n",
       "      <td>16.0</td>\n",
       "      <td>2</td>\n",
       "      <td>4</td>\n",
       "      <td>0</td>\n",
       "      <td>4</td>\n",
       "      <td>1</td>\n",
       "      <td>99999.0</td>\n",
       "      <td>0.0</td>\n",
       "      <td>40.0</td>\n",
       "      <td>39</td>\n",
       "      <td>0</td>\n",
       "      <td>0.025733</td>\n",
       "      <td>649</td>\n",
       "      <td>51f01770-0025-44a0-bd80-24ef11fa59cd</td>\n",
       "      <td>387.300496</td>\n",
       "      <td>outlier</td>\n",
       "    </tr>\n",
       "  </tbody>\n",
       "</table>\n",
       "</div>"
      ],
      "text/plain": [
       "    age  workclass    fnlwgt  education  education-num  marital-status  \\\n",
       "0  30.0          4  193598.0         13            1.0               4   \n",
       "1  23.0          4  240049.0         13            1.0               4   \n",
       "2  65.0          5  184965.0         10           16.0               2   \n",
       "\n",
       "   occupation  relationship  race  sex  capital-gain  capital-loss  \\\n",
       "0           5             1     4    1           0.0           0.0   \n",
       "1           8             1     1    0           0.0           0.0   \n",
       "2           4             0     4    1       99999.0           0.0   \n",
       "\n",
       "   hours-per-week  native-country  target  familiarity_conviction_addition  \\\n",
       "0            40.0              26       1                         0.020019   \n",
       "1            40.0              25       1                         0.023356   \n",
       "2            40.0              39       0                         0.025733   \n",
       "\n",
       "   .session_training_index                              .session  \\\n",
       "0                      540  51f01770-0025-44a0-bd80-24ef11fa59cd   \n",
       "1                      732  51f01770-0025-44a0-bd80-24ef11fa59cd   \n",
       "2                      649  51f01770-0025-44a0-bd80-24ef11fa59cd   \n",
       "\n",
       "   distance_contribution category  \n",
       "0             306.265156  outlier  \n",
       "1             280.379224  outlier  \n",
       "2             387.300496  outlier  "
      ]
     },
     "execution_count": 6,
     "metadata": {},
     "output_type": "execute_result"
    }
   ],
   "source": [
    "# Extract the outliers cases\n",
    "outliers = low_convicts[low_convicts['category'] == 'outlier'].reset_index(drop=True)\n",
    "outliers.head(3)"
   ]
  },
  {
   "attachments": {},
   "cell_type": "markdown",
   "metadata": {},
   "source": [
    "### Step 2: Outlier Value Evaluation\n",
    "\n",
    "From the above results, we can see which cases may be anomalous, however just knowing whether a case is potentially an anomaly doesn't give us all the information we need to make an informed decision. If we are deciding whether to prune a case from our training set, often we only want to prune erroneous values. Even if a case is an anomaly in terms of distance or value, if it is valid we may still leave it in as it represents a legitimate data point. \n",
    "\n",
    "By looking at the `Case Feature Residual Convictions`, we can gain some insight as to why a case was deemed anomalous."
   ]
  },
  {
   "cell_type": "code",
   "execution_count": 7,
   "metadata": {
    "execution": {
     "iopub.execute_input": "2025-07-21T19:16:15.393966Z",
     "iopub.status.busy": "2025-07-21T19:16:15.393785Z",
     "iopub.status.idle": "2025-07-21T19:16:17.601487Z",
     "shell.execute_reply": "2025-07-21T19:16:17.600879Z"
    }
   },
   "outputs": [],
   "source": [
    "# We add a few extra metrics for subsequent examples in this notebook\n",
    "# Get the case_feature_residual_convictions, influential_cases and boundary_cases\n",
    "details = {\n",
    "    'influential_cases': True,\n",
    "    'feature_full_residual_convictions_for_case': True\n",
    "}\n",
    "\n",
    "# Specify outlier cases\n",
    "outliers_indices = outliers[['.session', '.session_training_index']].values\n",
    "\n",
    "# Residuals must be computed and cached for some of these details\n",
    "t.get_prediction_stats(details = {\"feature_full_residuals\": True})\n",
    "\n",
    "# React to get the details of each anomalous case\n",
    "#   Specify trained cases to react to with 'case_indices'\n",
    "results = t.react(\n",
    "    case_indices=outliers_indices,\n",
    "    preserve_feature_values=df.columns.tolist(),\n",
    "    leave_case_out=True,\n",
    "    details=details\n",
    ")\n",
    "\n",
    "outlier_case_feature_residual_convictions = pd.DataFrame(\n",
    "    results['details']['feature_full_residual_convictions_for_case']\n",
    ")[df.columns.tolist()]"
   ]
  },
  {
   "cell_type": "code",
   "execution_count": 8,
   "metadata": {
    "execution": {
     "iopub.execute_input": "2025-07-21T19:16:17.603754Z",
     "iopub.status.busy": "2025-07-21T19:16:17.603542Z",
     "iopub.status.idle": "2025-07-21T19:16:20.976664Z",
     "shell.execute_reply": "2025-07-21T19:16:20.976062Z"
    }
   },
   "outputs": [
    {
     "data": {
      "application/pdf": "[encoded data removed]"
     },
     "metadata": {},
     "output_type": "display_data"
    }
   ],
   "source": [
    "fig = plot_anomalies(outliers, outlier_case_feature_residual_convictions)\n",
    "fig.update_layout(width=1500, height=750)\n",
    "fig.show(renderer=\"pdf\")"
   ]
  },
  {
   "attachments": {},
   "cell_type": "markdown",
   "metadata": {},
   "source": [
    "From this chart we can see that these cases were flagged as anomalous largely because of their `capital-gain` values. Since our target variable is whether someone makes over $50,000 in salary, people with such large capital gains making less than $50,000 seems odd. In addition, values such as 99999 often indicate some sort of nominal value that may represent something other than the actual capital-gain, such as if a person did not answer. \n",
    "\n",
    "With this information, we can choose the appropriate action, whether it is recoding capital-gains, removing the cases, leaving the cases out, etc..."
   ]
  },
  {
   "attachments": {},
   "cell_type": "markdown",
   "metadata": {
    "tags": []
   },
   "source": [
    "### Step 3: Inspect Outliers\n",
    "\n",
    "While we generally only think of outliers when it comes to anomalies, inliers are another, more discrete, form of anomaly. Inliers are the opposite of outliers, as inliers are cases that are too [similiar](https://docs.howso.com/en/release-latest/getting_started/terminology.html#most-similar-cases) to other points. A real world hypothetical case of an inlier would be someone submitting a false transaction date in which they tried to make the data look real by making it very similar to existing data. \n",
    "\n",
    "In our case, it may be someone in a bank who is internally falsifying applications in order to try to alter the prediction model.\n",
    "\n",
    "Just like outliers, `distance_contribution` is used to detect inliers from the anomalies detected through the use of `familiarity_conviction_addition`, except now we are looking at cases below a theshold which indicates similarity to other points.\n"
   ]
  },
  {
   "cell_type": "code",
   "execution_count": 9,
   "metadata": {
    "execution": {
     "iopub.execute_input": "2025-07-21T19:16:20.978689Z",
     "iopub.status.busy": "2025-07-21T19:16:20.978474Z",
     "iopub.status.idle": "2025-07-21T19:16:20.991889Z",
     "shell.execute_reply": "2025-07-21T19:16:20.991345Z"
    }
   },
   "outputs": [
    {
     "data": {
      "text/html": [
       "<div>\n",
       "<style scoped>\n",
       "    .dataframe tbody tr th:only-of-type {\n",
       "        vertical-align: middle;\n",
       "    }\n",
       "\n",
       "    .dataframe tbody tr th {\n",
       "        vertical-align: top;\n",
       "    }\n",
       "\n",
       "    .dataframe thead th {\n",
       "        text-align: right;\n",
       "    }\n",
       "</style>\n",
       "<table border=\"1\" class=\"dataframe\">\n",
       "  <thead>\n",
       "    <tr style=\"text-align: right;\">\n",
       "      <th></th>\n",
       "      <th>age</th>\n",
       "      <th>workclass</th>\n",
       "      <th>fnlwgt</th>\n",
       "      <th>education</th>\n",
       "      <th>education-num</th>\n",
       "      <th>marital-status</th>\n",
       "      <th>occupation</th>\n",
       "      <th>relationship</th>\n",
       "      <th>race</th>\n",
       "      <th>sex</th>\n",
       "      <th>capital-gain</th>\n",
       "      <th>capital-loss</th>\n",
       "      <th>hours-per-week</th>\n",
       "      <th>native-country</th>\n",
       "      <th>target</th>\n",
       "      <th>familiarity_conviction_addition</th>\n",
       "      <th>.session_training_index</th>\n",
       "      <th>.session</th>\n",
       "      <th>distance_contribution</th>\n",
       "      <th>category</th>\n",
       "    </tr>\n",
       "  </thead>\n",
       "  <tbody>\n",
       "    <tr>\n",
       "      <th>0</th>\n",
       "      <td>30.0</td>\n",
       "      <td>4</td>\n",
       "      <td>190228.0</td>\n",
       "      <td>11</td>\n",
       "      <td>9.0</td>\n",
       "      <td>2</td>\n",
       "      <td>6</td>\n",
       "      <td>0</td>\n",
       "      <td>4</td>\n",
       "      <td>1</td>\n",
       "      <td>0.0</td>\n",
       "      <td>0.0</td>\n",
       "      <td>40.0</td>\n",
       "      <td>39</td>\n",
       "      <td>1</td>\n",
       "      <td>0.313167</td>\n",
       "      <td>198</td>\n",
       "      <td>51f01770-0025-44a0-bd80-24ef11fa59cd</td>\n",
       "      <td>1.446570</td>\n",
       "      <td>inlier</td>\n",
       "    </tr>\n",
       "    <tr>\n",
       "      <th>1</th>\n",
       "      <td>25.0</td>\n",
       "      <td>4</td>\n",
       "      <td>218667.0</td>\n",
       "      <td>11</td>\n",
       "      <td>9.0</td>\n",
       "      <td>2</td>\n",
       "      <td>6</td>\n",
       "      <td>0</td>\n",
       "      <td>4</td>\n",
       "      <td>1</td>\n",
       "      <td>0.0</td>\n",
       "      <td>0.0</td>\n",
       "      <td>40.0</td>\n",
       "      <td>39</td>\n",
       "      <td>1</td>\n",
       "      <td>0.313959</td>\n",
       "      <td>881</td>\n",
       "      <td>51f01770-0025-44a0-bd80-24ef11fa59cd</td>\n",
       "      <td>1.560241</td>\n",
       "      <td>inlier</td>\n",
       "    </tr>\n",
       "    <tr>\n",
       "      <th>2</th>\n",
       "      <td>36.0</td>\n",
       "      <td>4</td>\n",
       "      <td>209629.0</td>\n",
       "      <td>11</td>\n",
       "      <td>9.0</td>\n",
       "      <td>2</td>\n",
       "      <td>7</td>\n",
       "      <td>0</td>\n",
       "      <td>4</td>\n",
       "      <td>1</td>\n",
       "      <td>0.0</td>\n",
       "      <td>0.0</td>\n",
       "      <td>40.0</td>\n",
       "      <td>39</td>\n",
       "      <td>1</td>\n",
       "      <td>0.317210</td>\n",
       "      <td>404</td>\n",
       "      <td>51f01770-0025-44a0-bd80-24ef11fa59cd</td>\n",
       "      <td>1.568833</td>\n",
       "      <td>inlier</td>\n",
       "    </tr>\n",
       "  </tbody>\n",
       "</table>\n",
       "</div>"
      ],
      "text/plain": [
       "    age  workclass    fnlwgt  education  education-num  marital-status  \\\n",
       "0  30.0          4  190228.0         11            9.0               2   \n",
       "1  25.0          4  218667.0         11            9.0               2   \n",
       "2  36.0          4  209629.0         11            9.0               2   \n",
       "\n",
       "   occupation  relationship  race  sex  capital-gain  capital-loss  \\\n",
       "0           6             0     4    1           0.0           0.0   \n",
       "1           6             0     4    1           0.0           0.0   \n",
       "2           7             0     4    1           0.0           0.0   \n",
       "\n",
       "   hours-per-week  native-country  target  familiarity_conviction_addition  \\\n",
       "0            40.0              39       1                         0.313167   \n",
       "1            40.0              39       1                         0.313959   \n",
       "2            40.0              39       1                         0.317210   \n",
       "\n",
       "   .session_training_index                              .session  \\\n",
       "0                      198  51f01770-0025-44a0-bd80-24ef11fa59cd   \n",
       "1                      881  51f01770-0025-44a0-bd80-24ef11fa59cd   \n",
       "2                      404  51f01770-0025-44a0-bd80-24ef11fa59cd   \n",
       "\n",
       "   distance_contribution category  \n",
       "0               1.446570   inlier  \n",
       "1               1.560241   inlier  \n",
       "2               1.568833   inlier  "
      ]
     },
     "execution_count": 9,
     "metadata": {},
     "output_type": "execute_result"
    }
   ],
   "source": [
    "# Extract the inlier cases\n",
    "inliers = low_convicts[low_convicts['category'] == 'inlier'].reset_index(drop=True)\n",
    "inliers.head(3)"
   ]
  },
  {
   "attachments": {},
   "cell_type": "markdown",
   "metadata": {},
   "source": [
    "### Step 4: Inlier Value Evaluation"
   ]
  },
  {
   "cell_type": "code",
   "execution_count": 10,
   "metadata": {
    "execution": {
     "iopub.execute_input": "2025-07-21T19:16:20.993540Z",
     "iopub.status.busy": "2025-07-21T19:16:20.993360Z",
     "iopub.status.idle": "2025-07-21T19:16:24.718074Z",
     "shell.execute_reply": "2025-07-21T19:16:24.717450Z"
    }
   },
   "outputs": [],
   "source": [
    "# Specify the inlier cases\n",
    "inliers_indices = inliers[['.session', '.session_training_index']].values\n",
    "\n",
    "# React to get the details of each case\n",
    "results = t.react(\n",
    "    case_indices=inliers_indices,\n",
    "    preserve_feature_values=df.columns.tolist(),\n",
    "    leave_case_out=True,\n",
    "    details=details\n",
    ")\n",
    "\n",
    "\n",
    "inlier_case_feature_residual_convictions = pd.DataFrame(\n",
    "    results['details']['feature_full_residual_convictions_for_case']\n",
    ")[df.columns.tolist()]"
   ]
  },
  {
   "cell_type": "code",
   "execution_count": 11,
   "metadata": {
    "execution": {
     "iopub.execute_input": "2025-07-21T19:16:24.720328Z",
     "iopub.status.busy": "2025-07-21T19:16:24.720115Z",
     "iopub.status.idle": "2025-07-21T19:16:26.253306Z",
     "shell.execute_reply": "2025-07-21T19:16:26.252743Z"
    }
   },
   "outputs": [
    {
     "data": {
      "image/svg+xml": [
       "<svg class=\"main-svg\" xmlns=\"http://www.w3.org/2000/svg\" xmlns:xlink=\"http://www.w3.org/1999/xlink\" width=\"700\" height=\"500\" style=\"\" viewBox=\"0 0 700 500\"><rect x=\"0\" y=\"0\" width=\"700\" height=\"500\" style=\"fill: rgb(255, 255, 255); fill-opacity: 1;\"/><defs id=\"defs-aefd9a\"><g class=\"clips\"><clipPath id=\"clipaefd9axyplot\" class=\"plotclip\"><rect width=\"512\" height=\"306\"/></clipPath><clipPath class=\"axesclip\" id=\"clipaefd9ax\"><rect x=\"80\" y=\"0\" width=\"512\" height=\"500\"/></clipPath><clipPath class=\"axesclip\" id=\"clipaefd9ay\"><rect x=\"0\" y=\"100\" width=\"700\" height=\"306\"/></clipPath><clipPath class=\"axesclip\" id=\"clipaefd9axy\"><rect x=\"80\" y=\"100\" width=\"512\" height=\"306\"/></clipPath></g><g class=\"gradients\"><linearGradient x1=\"0\" y1=\"1\" x2=\"0\" y2=\"0\" gradientUnits=\"objectBoundingBox\" id=\"gaefd9a-cbcoloraxis\"><stop offset=\"0%\" stop-color=\"rgb(103, 0, 31)\" stop-opacity=\"1\"/><stop offset=\"20%\" stop-color=\"rgb(247, 247, 247)\" stop-opacity=\"1\"/><stop offset=\"40%\" stop-color=\"rgb(67, 147, 195)\" stop-opacity=\"1\"/><stop offset=\"100%\" stop-color=\"rgb(5, 48, 97)\" stop-opacity=\"1\"/></linearGradient></g><g class=\"patterns\"/></defs><g class=\"bglayer\"><rect class=\"bg\" x=\"80\" y=\"100\" width=\"512\" height=\"306\" style=\"fill: rgb(229, 236, 246); fill-opacity: 1; stroke-width: 0;\"/></g><g class=\"layer-below\"><g class=\"imagelayer\"/><g class=\"shapelayer\"/></g><g class=\"cartesianlayer\"><g class=\"subplot xy\"><g class=\"layer-subplot\"><g class=\"shapelayer\"/><g class=\"imagelayer\"/></g><g class=\"minor-gridlayer\"><g class=\"x\"/><g class=\"y\"/></g><g class=\"gridlayer\"><g class=\"x\"><path class=\"xgrid crisp\" transform=\"translate(97.07,0)\" d=\"M0,100v306\" style=\"stroke: rgb(255, 255, 255); stroke-opacity: 1; stroke-width: 1px;\"/><path class=\"xgrid crisp\" transform=\"translate(131.2,0)\" d=\"M0,100v306\" style=\"stroke: rgb(255, 255, 255); stroke-opacity: 1; stroke-width: 1px;\"/><path class=\"xgrid crisp\" transform=\"translate(165.32999999999998,0)\" d=\"M0,100v306\" style=\"stroke: rgb(255, 255, 255); stroke-opacity: 1; stroke-width: 1px;\"/><path class=\"xgrid crisp\" transform=\"translate(199.47,0)\" d=\"M0,100v306\" style=\"stroke: rgb(255, 255, 255); stroke-opacity: 1; stroke-width: 1px;\"/><path class=\"xgrid crisp\" transform=\"translate(233.6,0)\" d=\"M0,100v306\" style=\"stroke: rgb(255, 255, 255); stroke-opacity: 1; stroke-width: 1px;\"/><path class=\"xgrid crisp\" transform=\"translate(267.73,0)\" d=\"M0,100v306\" style=\"stroke: rgb(255, 255, 255); stroke-opacity: 1; stroke-width: 1px;\"/><path class=\"xgrid crisp\" transform=\"translate(301.87,0)\" d=\"M0,100v306\" style=\"stroke: rgb(255, 255, 255); stroke-opacity: 1; stroke-width: 1px;\"/><path class=\"xgrid crisp\" transform=\"translate(336,0)\" d=\"M0,100v306\" style=\"stroke: rgb(255, 255, 255); stroke-opacity: 1; stroke-width: 1px;\"/><path class=\"xgrid crisp\" transform=\"translate(370.13,0)\" d=\"M0,100v306\" style=\"stroke: rgb(255, 255, 255); stroke-opacity: 1; stroke-width: 1px;\"/><path class=\"xgrid crisp\" transform=\"translate(404.27,0)\" d=\"M0,100v306\" style=\"stroke: rgb(255, 255, 255); stroke-opacity: 1; stroke-width: 1px;\"/><path class=\"xgrid crisp\" transform=\"translate(438.4,0)\" d=\"M0,100v306\" style=\"stroke: rgb(255, 255, 255); stroke-opacity: 1; stroke-width: 1px;\"/><path class=\"xgrid crisp\" transform=\"translate(472.53,0)\" d=\"M0,100v306\" style=\"stroke: rgb(255, 255, 255); stroke-opacity: 1; stroke-width: 1px;\"/><path class=\"xgrid crisp\" transform=\"translate(506.67,0)\" d=\"M0,100v306\" style=\"stroke: rgb(255, 255, 255); stroke-opacity: 1; stroke-width: 1px;\"/><path class=\"xgrid crisp\" transform=\"translate(540.8,0)\" d=\"M0,100v306\" style=\"stroke: rgb(255, 255, 255); stroke-opacity: 1; stroke-width: 1px;\"/><path class=\"xgrid crisp\" transform=\"translate(574.9300000000001,0)\" d=\"M0,100v306\" style=\"stroke: rgb(255, 255, 255); stroke-opacity: 1; stroke-width: 1px;\"/></g><g class=\"y\"><path class=\"ygrid crisp\" transform=\"translate(0,375.4)\" d=\"M80,0h512\" style=\"stroke: rgb(255, 255, 255); stroke-opacity: 1; stroke-width: 1px;\"/><path class=\"ygrid crisp\" transform=\"translate(0,314.2)\" d=\"M80,0h512\" style=\"stroke: rgb(255, 255, 255); stroke-opacity: 1; stroke-width: 1px;\"/><path class=\"ygrid crisp\" transform=\"translate(0,253)\" d=\"M80,0h512\" style=\"stroke: rgb(255, 255, 255); stroke-opacity: 1; stroke-width: 1px;\"/><path class=\"ygrid crisp\" transform=\"translate(0,191.8)\" d=\"M80,0h512\" style=\"stroke: rgb(255, 255, 255); stroke-opacity: 1; stroke-width: 1px;\"/></g></g><g class=\"zerolinelayer\"><path class=\"yzl zl crisp\" transform=\"translate(0,130.6)\" d=\"M80,0h512\" style=\"stroke: rgb(255, 255, 255); stroke-opacity: 1; stroke-width: 2px;\"/></g><g class=\"layer-between\"><g class=\"shapelayer\"/><g class=\"imagelayer\"/></g><path class=\"xlines-below\"/><path class=\"ylines-below\"/><g class=\"overlines-below\"/><g class=\"xaxislayer-below\"/><g class=\"yaxislayer-below\"/><g class=\"overaxes-below\"/><g class=\"overplot\"><g class=\"xy\" transform=\"translate(80,100)\" clip-path=\"url(#clipaefd9axyplot)\"><g class=\"heatmaplayer mlayer\"><g class=\"hm\"><image xmlns=\"http://www.w3.org/2000/svg\" preserveAspectRatio=\"none\" height=\"306\" width=\"512\" x=\"0\" y=\"0\" xlink:href=\"data:image/png;base64,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\" style=\"opacity: 1;\"/><g class=\"heatmap-label\"><text text-anchor=\"middle\" data-notex=\"1\" x=\"17\" y=\"32.75\" style=\"font-family: 'Open Sans', verdana, arial, sans-serif; font-size: 5px; fill: rgb(68, 68, 68); fill-opacity: 1; white-space: pre;\">30.0</text></g><g class=\"heatmap-label\"><text text-anchor=\"middle\" data-notex=\"1\" x=\"51\" y=\"32.75\" style=\"font-family: 'Open Sans', verdana, arial, sans-serif; font-size: 5px; fill: rgb(68, 68, 68); fill-opacity: 1; white-space: pre;\">4</text></g><g class=\"heatmap-label\"><text text-anchor=\"middle\" data-notex=\"1\" x=\"85\" y=\"32.75\" style=\"font-family: 'Open Sans', verdana, arial, sans-serif; font-size: 5px; fill: rgb(68, 68, 68); fill-opacity: 1; white-space: pre;\">190228.0</text></g><g class=\"heatmap-label\"><text text-anchor=\"middle\" data-notex=\"1\" x=\"119\" y=\"32.75\" style=\"font-family: 'Open Sans', verdana, arial, sans-serif; font-size: 5px; fill: rgb(68, 68, 68); fill-opacity: 1; white-space: pre;\">11</text></g><g class=\"heatmap-label\"><text text-anchor=\"middle\" data-notex=\"1\" x=\"154\" y=\"32.75\" style=\"font-family: 'Open Sans', verdana, arial, sans-serif; font-size: 5px; fill: rgb(68, 68, 68); fill-opacity: 1; white-space: pre;\">9.0</text></g><g class=\"heatmap-label\"><text text-anchor=\"middle\" data-notex=\"1\" x=\"188\" y=\"32.75\" style=\"font-family: 'Open Sans', verdana, arial, sans-serif; font-size: 5px; fill: rgb(68, 68, 68); fill-opacity: 1; white-space: pre;\">2</text></g><g class=\"heatmap-label\"><text text-anchor=\"middle\" data-notex=\"1\" x=\"222\" y=\"32.75\" style=\"font-family: 'Open Sans', verdana, arial, sans-serif; font-size: 5px; fill: rgb(68, 68, 68); fill-opacity: 1; white-space: pre;\">6</text></g><g class=\"heatmap-label\"><text text-anchor=\"middle\" data-notex=\"1\" x=\"256\" y=\"32.75\" style=\"font-family: 'Open Sans', verdana, arial, sans-serif; font-size: 5px; fill: rgb(68, 68, 68); fill-opacity: 1; white-space: pre;\">0</text></g><g class=\"heatmap-label\"><text text-anchor=\"middle\" data-notex=\"1\" x=\"290\" y=\"32.75\" style=\"font-family: 'Open Sans', verdana, arial, sans-serif; font-size: 5px; fill: rgb(68, 68, 68); fill-opacity: 1; white-space: pre;\">4</text></g><g class=\"heatmap-label\"><text text-anchor=\"middle\" data-notex=\"1\" x=\"324\" y=\"32.75\" style=\"font-family: 'Open Sans', verdana, arial, sans-serif; font-size: 5px; fill: rgb(68, 68, 68); fill-opacity: 1; white-space: pre;\">1</text></g><g class=\"heatmap-label\"><text text-anchor=\"middle\" data-notex=\"1\" x=\"358\" y=\"32.75\" style=\"font-family: 'Open Sans', verdana, arial, sans-serif; font-size: 5px; fill: rgb(68, 68, 68); fill-opacity: 1; white-space: pre;\">0.0</text></g><g class=\"heatmap-label\"><text text-anchor=\"middle\" data-notex=\"1\" x=\"393\" y=\"32.75\" style=\"font-family: 'Open Sans', verdana, arial, sans-serif; font-size: 5px; fill: rgb(255, 255, 255); fill-opacity: 1; white-space: pre;\">0.0</text></g><g class=\"heatmap-label\"><text text-anchor=\"middle\" data-notex=\"1\" x=\"427\" y=\"32.75\" style=\"font-family: 'Open Sans', verdana, arial, sans-serif; font-size: 5px; fill: rgb(68, 68, 68); fill-opacity: 1; white-space: pre;\">40.0</text></g><g class=\"heatmap-label\"><text text-anchor=\"middle\" data-notex=\"1\" x=\"461\" y=\"32.75\" style=\"font-family: 'Open Sans', verdana, arial, sans-serif; font-size: 5px; fill: rgb(68, 68, 68); fill-opacity: 1; white-space: pre;\">39</text></g><g class=\"heatmap-label\"><text text-anchor=\"middle\" data-notex=\"1\" x=\"495\" y=\"32.75\" style=\"font-family: 'Open Sans', verdana, arial, sans-serif; font-size: 5px; fill: rgb(255, 255, 255); fill-opacity: 1; white-space: pre;\">1</text></g><g class=\"heatmap-label\"><text text-anchor=\"middle\" data-notex=\"1\" x=\"17\" y=\"93.75\" style=\"font-family: 'Open Sans', verdana, arial, sans-serif; font-size: 5px; fill: rgb(68, 68, 68); fill-opacity: 1; white-space: pre;\">25.0</text></g><g class=\"heatmap-label\"><text text-anchor=\"middle\" data-notex=\"1\" x=\"51\" y=\"93.75\" style=\"font-family: 'Open Sans', verdana, arial, sans-serif; font-size: 5px; fill: rgb(68, 68, 68); fill-opacity: 1; white-space: pre;\">4</text></g><g class=\"heatmap-label\"><text text-anchor=\"middle\" data-notex=\"1\" x=\"85\" y=\"93.75\" style=\"font-family: 'Open Sans', verdana, arial, sans-serif; font-size: 5px; fill: rgb(68, 68, 68); fill-opacity: 1; white-space: pre;\">218667.0</text></g><g class=\"heatmap-label\"><text text-anchor=\"middle\" data-notex=\"1\" x=\"119\" y=\"93.75\" style=\"font-family: 'Open Sans', verdana, arial, sans-serif; font-size: 5px; fill: rgb(68, 68, 68); fill-opacity: 1; white-space: pre;\">11</text></g><g class=\"heatmap-label\"><text text-anchor=\"middle\" data-notex=\"1\" x=\"154\" y=\"93.75\" style=\"font-family: 'Open Sans', verdana, arial, sans-serif; font-size: 5px; fill: rgb(68, 68, 68); fill-opacity: 1; white-space: pre;\">9.0</text></g><g class=\"heatmap-label\"><text text-anchor=\"middle\" data-notex=\"1\" x=\"188\" y=\"93.75\" style=\"font-family: 'Open Sans', verdana, arial, sans-serif; font-size: 5px; fill: rgb(68, 68, 68); fill-opacity: 1; white-space: pre;\">2</text></g><g class=\"heatmap-label\"><text text-anchor=\"middle\" data-notex=\"1\" x=\"222\" y=\"93.75\" style=\"font-family: 'Open Sans', verdana, arial, sans-serif; font-size: 5px; fill: rgb(68, 68, 68); fill-opacity: 1; white-space: pre;\">6</text></g><g class=\"heatmap-label\"><text text-anchor=\"middle\" data-notex=\"1\" x=\"256\" y=\"93.75\" style=\"font-family: 'Open Sans', verdana, arial, sans-serif; font-size: 5px; fill: rgb(68, 68, 68); fill-opacity: 1; white-space: pre;\">0</text></g><g class=\"heatmap-label\"><text text-anchor=\"middle\" data-notex=\"1\" x=\"290\" y=\"93.75\" style=\"font-family: 'Open Sans', verdana, arial, sans-serif; font-size: 5px; fill: rgb(68, 68, 68); fill-opacity: 1; white-space: pre;\">4</text></g><g class=\"heatmap-label\"><text text-anchor=\"middle\" data-notex=\"1\" x=\"324\" y=\"93.75\" style=\"font-family: 'Open Sans', verdana, arial, sans-serif; font-size: 5px; fill: rgb(68, 68, 68); fill-opacity: 1; white-space: pre;\">1</text></g><g class=\"heatmap-label\"><text text-anchor=\"middle\" data-notex=\"1\" x=\"358\" y=\"93.75\" style=\"font-family: 'Open Sans', verdana, arial, sans-serif; font-size: 5px; fill: rgb(68, 68, 68); fill-opacity: 1; white-space: pre;\">0.0</text></g><g class=\"heatmap-label\"><text text-anchor=\"middle\" data-notex=\"1\" x=\"393\" y=\"93.75\" style=\"font-family: 'Open Sans', verdana, arial, sans-serif; font-size: 5px; fill: rgb(68, 68, 68); fill-opacity: 1; white-space: pre;\">0.0</text></g><g class=\"heatmap-label\"><text text-anchor=\"middle\" data-notex=\"1\" x=\"427\" y=\"93.75\" style=\"font-family: 'Open Sans', verdana, arial, sans-serif; font-size: 5px; fill: rgb(68, 68, 68); fill-opacity: 1; white-space: pre;\">40.0</text></g><g class=\"heatmap-label\"><text text-anchor=\"middle\" data-notex=\"1\" x=\"461\" y=\"93.75\" style=\"font-family: 'Open Sans', verdana, arial, sans-serif; font-size: 5px; fill: rgb(255, 255, 255); fill-opacity: 1; white-space: pre;\">39</text></g><g class=\"heatmap-label\"><text text-anchor=\"middle\" data-notex=\"1\" x=\"495\" y=\"93.75\" style=\"font-family: 'Open Sans', verdana, arial, sans-serif; font-size: 5px; fill: rgb(68, 68, 68); fill-opacity: 1; white-space: pre;\">1</text></g><g class=\"heatmap-label\"><text text-anchor=\"middle\" data-notex=\"1\" x=\"17\" y=\"154.75\" style=\"font-family: 'Open Sans', verdana, arial, sans-serif; font-size: 5px; fill: rgb(255, 255, 255); fill-opacity: 1; white-space: pre;\">36.0</text></g><g class=\"heatmap-label\"><text text-anchor=\"middle\" data-notex=\"1\" x=\"51\" y=\"154.75\" style=\"font-family: 'Open Sans', verdana, arial, sans-serif; font-size: 5px; fill: rgb(68, 68, 68); fill-opacity: 1; white-space: pre;\">4</text></g><g class=\"heatmap-label\"><text text-anchor=\"middle\" data-notex=\"1\" x=\"85\" y=\"154.75\" style=\"font-family: 'Open Sans', verdana, arial, sans-serif; font-size: 5px; fill: rgb(68, 68, 68); fill-opacity: 1; white-space: pre;\">209629.0</text></g><g class=\"heatmap-label\"><text text-anchor=\"middle\" data-notex=\"1\" x=\"119\" y=\"154.75\" style=\"font-family: 'Open Sans', verdana, arial, sans-serif; font-size: 5px; fill: rgb(68, 68, 68); fill-opacity: 1; white-space: pre;\">11</text></g><g class=\"heatmap-label\"><text text-anchor=\"middle\" data-notex=\"1\" x=\"154\" y=\"154.75\" style=\"font-family: 'Open Sans', verdana, arial, sans-serif; font-size: 5px; fill: rgb(255, 255, 255); fill-opacity: 1; white-space: pre;\">9.0</text></g><g class=\"heatmap-label\"><text text-anchor=\"middle\" data-notex=\"1\" x=\"188\" y=\"154.75\" style=\"font-family: 'Open Sans', verdana, arial, sans-serif; font-size: 5px; fill: rgb(68, 68, 68); fill-opacity: 1; white-space: pre;\">2</text></g><g class=\"heatmap-label\"><text text-anchor=\"middle\" data-notex=\"1\" x=\"222\" y=\"154.75\" style=\"font-family: 'Open Sans', verdana, arial, sans-serif; font-size: 5px; fill: rgb(68, 68, 68); fill-opacity: 1; white-space: pre;\">7</text></g><g class=\"heatmap-label\"><text text-anchor=\"middle\" data-notex=\"1\" x=\"256\" y=\"154.75\" style=\"font-family: 'Open Sans', verdana, arial, sans-serif; font-size: 5px; fill: rgb(68, 68, 68); fill-opacity: 1; white-space: pre;\">0</text></g><g class=\"heatmap-label\"><text text-anchor=\"middle\" data-notex=\"1\" x=\"290\" y=\"154.75\" style=\"font-family: 'Open Sans', verdana, arial, sans-serif; font-size: 5px; fill: rgb(68, 68, 68); fill-opacity: 1; white-space: pre;\">4</text></g><g class=\"heatmap-label\"><text text-anchor=\"middle\" data-notex=\"1\" x=\"324\" y=\"154.75\" style=\"font-family: 'Open Sans', verdana, arial, sans-serif; font-size: 5px; fill: rgb(68, 68, 68); fill-opacity: 1; white-space: pre;\">1</text></g><g class=\"heatmap-label\"><text text-anchor=\"middle\" data-notex=\"1\" x=\"358\" y=\"154.75\" style=\"font-family: 'Open Sans', verdana, arial, sans-serif; font-size: 5px; fill: rgb(68, 68, 68); fill-opacity: 1; white-space: pre;\">0.0</text></g><g class=\"heatmap-label\"><text text-anchor=\"middle\" data-notex=\"1\" x=\"393\" y=\"154.75\" style=\"font-family: 'Open Sans', verdana, arial, sans-serif; font-size: 5px; fill: rgb(68, 68, 68); fill-opacity: 1; white-space: pre;\">0.0</text></g><g class=\"heatmap-label\"><text text-anchor=\"middle\" data-notex=\"1\" x=\"427\" y=\"154.75\" style=\"font-family: 'Open Sans', verdana, arial, sans-serif; font-size: 5px; fill: rgb(68, 68, 68); fill-opacity: 1; white-space: pre;\">40.0</text></g><g class=\"heatmap-label\"><text text-anchor=\"middle\" data-notex=\"1\" x=\"461\" y=\"154.75\" style=\"font-family: 'Open Sans', verdana, arial, sans-serif; font-size: 5px; fill: rgb(68, 68, 68); fill-opacity: 1; white-space: pre;\">39</text></g><g class=\"heatmap-label\"><text text-anchor=\"middle\" data-notex=\"1\" x=\"495\" y=\"154.75\" style=\"font-family: 'Open Sans', verdana, arial, sans-serif; font-size: 5px; fill: rgb(68, 68, 68); fill-opacity: 1; white-space: pre;\">1</text></g><g class=\"heatmap-label\"><text text-anchor=\"middle\" data-notex=\"1\" x=\"17\" y=\"215.75\" style=\"font-family: 'Open Sans', verdana, arial, sans-serif; font-size: 5px; fill: rgb(68, 68, 68); fill-opacity: 1; white-space: pre;\">25.0</text></g><g class=\"heatmap-label\"><text text-anchor=\"middle\" data-notex=\"1\" x=\"51\" y=\"215.75\" style=\"font-family: 'Open Sans', verdana, arial, sans-serif; font-size: 5px; fill: rgb(68, 68, 68); fill-opacity: 1; white-space: pre;\">4</text></g><g class=\"heatmap-label\"><text text-anchor=\"middle\" data-notex=\"1\" x=\"85\" y=\"215.75\" style=\"font-family: 'Open Sans', verdana, arial, sans-serif; font-size: 5px; fill: rgb(68, 68, 68); fill-opacity: 1; white-space: pre;\">236267.0</text></g><g class=\"heatmap-label\"><text text-anchor=\"middle\" data-notex=\"1\" x=\"119\" y=\"215.75\" style=\"font-family: 'Open Sans', verdana, arial, sans-serif; font-size: 5px; fill: rgb(68, 68, 68); fill-opacity: 1; white-space: pre;\">11</text></g><g class=\"heatmap-label\"><text text-anchor=\"middle\" data-notex=\"1\" x=\"154\" y=\"215.75\" style=\"font-family: 'Open Sans', verdana, arial, sans-serif; font-size: 5px; fill: rgb(68, 68, 68); fill-opacity: 1; white-space: pre;\">9.0</text></g><g class=\"heatmap-label\"><text text-anchor=\"middle\" data-notex=\"1\" x=\"188\" y=\"215.75\" style=\"font-family: 'Open Sans', verdana, arial, sans-serif; font-size: 5px; fill: rgb(68, 68, 68); fill-opacity: 1; white-space: pre;\">2</text></g><g class=\"heatmap-label\"><text text-anchor=\"middle\" data-notex=\"1\" x=\"222\" y=\"215.75\" style=\"font-family: 'Open Sans', verdana, arial, sans-serif; font-size: 5px; fill: rgb(68, 68, 68); fill-opacity: 1; white-space: pre;\">6</text></g><g class=\"heatmap-label\"><text text-anchor=\"middle\" data-notex=\"1\" x=\"256\" y=\"215.75\" style=\"font-family: 'Open Sans', verdana, arial, sans-serif; font-size: 5px; fill: rgb(68, 68, 68); fill-opacity: 1; white-space: pre;\">0</text></g><g class=\"heatmap-label\"><text text-anchor=\"middle\" data-notex=\"1\" x=\"290\" y=\"215.75\" style=\"font-family: 'Open Sans', verdana, arial, sans-serif; font-size: 5px; fill: rgb(68, 68, 68); fill-opacity: 1; white-space: pre;\">4</text></g><g class=\"heatmap-label\"><text text-anchor=\"middle\" data-notex=\"1\" x=\"324\" y=\"215.75\" style=\"font-family: 'Open Sans', verdana, arial, sans-serif; font-size: 5px; fill: rgb(68, 68, 68); fill-opacity: 1; white-space: pre;\">1</text></g><g class=\"heatmap-label\"><text text-anchor=\"middle\" data-notex=\"1\" x=\"358\" y=\"215.75\" style=\"font-family: 'Open Sans', verdana, arial, sans-serif; font-size: 5px; fill: rgb(68, 68, 68); fill-opacity: 1; white-space: pre;\">0.0</text></g><g class=\"heatmap-label\"><text text-anchor=\"middle\" data-notex=\"1\" x=\"393\" y=\"215.75\" style=\"font-family: 'Open Sans', verdana, arial, sans-serif; font-size: 5px; fill: rgb(68, 68, 68); fill-opacity: 1; white-space: pre;\">0.0</text></g><g class=\"heatmap-label\"><text text-anchor=\"middle\" data-notex=\"1\" x=\"427\" y=\"215.75\" style=\"font-family: 'Open Sans', verdana, arial, sans-serif; font-size: 5px; fill: rgb(68, 68, 68); fill-opacity: 1; white-space: pre;\">40.0</text></g><g class=\"heatmap-label\"><text text-anchor=\"middle\" data-notex=\"1\" x=\"461\" y=\"215.75\" style=\"font-family: 'Open Sans', verdana, arial, sans-serif; font-size: 5px; fill: rgb(68, 68, 68); fill-opacity: 1; white-space: pre;\">39</text></g><g class=\"heatmap-label\"><text text-anchor=\"middle\" data-notex=\"1\" x=\"495\" y=\"215.75\" style=\"font-family: 'Open Sans', verdana, arial, sans-serif; font-size: 5px; fill: rgb(68, 68, 68); fill-opacity: 1; white-space: pre;\">1</text></g><g class=\"heatmap-label\"><text text-anchor=\"middle\" data-notex=\"1\" x=\"17\" y=\"276.75\" style=\"font-family: 'Open Sans', verdana, arial, sans-serif; font-size: 5px; fill: rgb(68, 68, 68); fill-opacity: 1; white-space: pre;\">20.0</text></g><g class=\"heatmap-label\"><text text-anchor=\"middle\" data-notex=\"1\" x=\"51\" y=\"276.75\" style=\"font-family: 'Open Sans', verdana, arial, sans-serif; font-size: 5px; fill: rgb(68, 68, 68); fill-opacity: 1; white-space: pre;\">0</text></g><g class=\"heatmap-label\"><text text-anchor=\"middle\" data-notex=\"1\" x=\"85\" y=\"276.75\" style=\"font-family: 'Open Sans', verdana, arial, sans-serif; font-size: 5px; fill: rgb(68, 68, 68); fill-opacity: 1; white-space: pre;\">201766.0</text></g><g class=\"heatmap-label\"><text text-anchor=\"middle\" data-notex=\"1\" x=\"119\" y=\"276.75\" style=\"font-family: 'Open Sans', verdana, arial, sans-serif; font-size: 5px; fill: rgb(68, 68, 68); fill-opacity: 1; white-space: pre;\">15</text></g><g class=\"heatmap-label\"><text text-anchor=\"middle\" data-notex=\"1\" x=\"154\" y=\"276.75\" style=\"font-family: 'Open Sans', verdana, arial, sans-serif; font-size: 5px; fill: rgb(255, 255, 255); fill-opacity: 1; white-space: pre;\">10.0</text></g><g class=\"heatmap-label\"><text text-anchor=\"middle\" data-notex=\"1\" x=\"188\" y=\"276.75\" style=\"font-family: 'Open Sans', verdana, arial, sans-serif; font-size: 5px; fill: rgb(68, 68, 68); fill-opacity: 1; white-space: pre;\">4</text></g><g class=\"heatmap-label\"><text text-anchor=\"middle\" data-notex=\"1\" x=\"222\" y=\"276.75\" style=\"font-family: 'Open Sans', verdana, arial, sans-serif; font-size: 5px; fill: rgb(255, 255, 255); fill-opacity: 1; white-space: pre;\">0</text></g><g class=\"heatmap-label\"><text text-anchor=\"middle\" data-notex=\"1\" x=\"256\" y=\"276.75\" style=\"font-family: 'Open Sans', verdana, arial, sans-serif; font-size: 5px; fill: rgb(68, 68, 68); fill-opacity: 1; white-space: pre;\">3</text></g><g class=\"heatmap-label\"><text text-anchor=\"middle\" data-notex=\"1\" x=\"290\" y=\"276.75\" style=\"font-family: 'Open Sans', verdana, arial, sans-serif; font-size: 5px; fill: rgb(68, 68, 68); fill-opacity: 1; white-space: pre;\">4</text></g><g class=\"heatmap-label\"><text text-anchor=\"middle\" data-notex=\"1\" x=\"324\" y=\"276.75\" style=\"font-family: 'Open Sans', verdana, arial, sans-serif; font-size: 5px; fill: rgb(68, 68, 68); fill-opacity: 1; white-space: pre;\">0</text></g><g class=\"heatmap-label\"><text text-anchor=\"middle\" data-notex=\"1\" x=\"358\" y=\"276.75\" style=\"font-family: 'Open Sans', verdana, arial, sans-serif; font-size: 5px; fill: rgb(68, 68, 68); fill-opacity: 1; white-space: pre;\">0.0</text></g><g class=\"heatmap-label\"><text text-anchor=\"middle\" data-notex=\"1\" x=\"393\" y=\"276.75\" style=\"font-family: 'Open Sans', verdana, arial, sans-serif; font-size: 5px; fill: rgb(68, 68, 68); fill-opacity: 1; white-space: pre;\">0.0</text></g><g class=\"heatmap-label\"><text text-anchor=\"middle\" data-notex=\"1\" x=\"427\" y=\"276.75\" style=\"font-family: 'Open Sans', verdana, arial, sans-serif; font-size: 5px; fill: rgb(68, 68, 68); fill-opacity: 1; white-space: pre;\">35.0</text></g><g class=\"heatmap-label\"><text text-anchor=\"middle\" data-notex=\"1\" x=\"461\" y=\"276.75\" style=\"font-family: 'Open Sans', verdana, arial, sans-serif; font-size: 5px; fill: rgb(68, 68, 68); fill-opacity: 1; white-space: pre;\">39</text></g><g class=\"heatmap-label\"><text text-anchor=\"middle\" data-notex=\"1\" x=\"495\" y=\"276.75\" style=\"font-family: 'Open Sans', verdana, arial, sans-serif; font-size: 5px; fill: rgb(68, 68, 68); fill-opacity: 1; white-space: pre;\">1</text></g></g></g></g></g><path class=\"xlines-above crisp\" d=\"M0,0\" style=\"fill: none;\"/><path class=\"ylines-above crisp\" d=\"M0,0\" style=\"fill: none;\"/><g class=\"overlines-above\"/><g class=\"xaxislayer-above\"><g class=\"xtick\"><text text-anchor=\"start\" x=\"0\" y=\"419\" transform=\"translate(97.07,0) rotate(29.999999999999996,0,413)\" style=\"font-family: 'Open Sans', verdana, arial, sans-serif; font-size: 12px; fill: rgb(42, 63, 95); fill-opacity: 1; white-space: pre; opacity: 1;\">age</text></g><g class=\"xtick\"><text text-anchor=\"start\" x=\"0\" y=\"419\" transform=\"translate(131.2,0) rotate(29.999999999999996,0,413)\" style=\"font-family: 'Open Sans', verdana, arial, sans-serif; font-size: 12px; fill: rgb(42, 63, 95); fill-opacity: 1; white-space: pre; opacity: 1;\">workclass</text></g><g class=\"xtick\"><text text-anchor=\"start\" x=\"0\" y=\"419\" transform=\"translate(165.32999999999998,0) rotate(29.999999999999996,0,413)\" style=\"font-family: 'Open Sans', verdana, arial, sans-serif; font-size: 12px; fill: rgb(42, 63, 95); fill-opacity: 1; white-space: pre; opacity: 1;\">fnlwgt</text></g><g class=\"xtick\"><text text-anchor=\"start\" x=\"0\" y=\"419\" transform=\"translate(199.47,0) rotate(29.999999999999996,0,413)\" style=\"font-family: 'Open Sans', verdana, arial, sans-serif; font-size: 12px; fill: rgb(42, 63, 95); fill-opacity: 1; white-space: pre; opacity: 1;\">education</text></g><g class=\"xtick\"><text text-anchor=\"start\" x=\"0\" y=\"419\" transform=\"translate(233.6,0) rotate(29.999999999999996,0,413)\" style=\"font-family: 'Open Sans', verdana, arial, sans-serif; font-size: 12px; fill: rgb(42, 63, 95); fill-opacity: 1; white-space: pre; opacity: 1;\">education-num</text></g><g class=\"xtick\"><text text-anchor=\"start\" x=\"0\" y=\"419\" transform=\"translate(267.73,0) rotate(29.999999999999996,0,413)\" style=\"font-family: 'Open Sans', verdana, arial, sans-serif; font-size: 12px; fill: rgb(42, 63, 95); fill-opacity: 1; white-space: pre; opacity: 1;\">marital-status</text></g><g class=\"xtick\"><text text-anchor=\"start\" x=\"0\" y=\"419\" transform=\"translate(301.87,0) rotate(29.999999999999996,0,413)\" style=\"font-family: 'Open Sans', verdana, arial, sans-serif; font-size: 12px; fill: rgb(42, 63, 95); fill-opacity: 1; white-space: pre; opacity: 1;\">occupation</text></g><g class=\"xtick\"><text text-anchor=\"start\" x=\"0\" y=\"419\" transform=\"translate(336,0) rotate(29.999999999999996,0,413)\" style=\"font-family: 'Open Sans', verdana, arial, sans-serif; font-size: 12px; fill: rgb(42, 63, 95); fill-opacity: 1; white-space: pre; opacity: 1;\">relationship</text></g><g class=\"xtick\"><text text-anchor=\"start\" x=\"0\" y=\"419\" transform=\"translate(370.13,0) rotate(29.999999999999996,0,413)\" style=\"font-family: 'Open Sans', verdana, arial, sans-serif; font-size: 12px; fill: rgb(42, 63, 95); fill-opacity: 1; white-space: pre; opacity: 1;\">race</text></g><g class=\"xtick\"><text text-anchor=\"start\" x=\"0\" y=\"419\" transform=\"translate(404.27,0) rotate(29.999999999999996,0,413)\" style=\"font-family: 'Open Sans', verdana, arial, sans-serif; font-size: 12px; fill: rgb(42, 63, 95); fill-opacity: 1; white-space: pre; opacity: 1;\">sex</text></g><g class=\"xtick\"><text text-anchor=\"start\" x=\"0\" y=\"419\" transform=\"translate(438.4,0) rotate(29.999999999999996,0,413)\" style=\"font-family: 'Open Sans', verdana, arial, sans-serif; font-size: 12px; fill: rgb(42, 63, 95); fill-opacity: 1; white-space: pre; opacity: 1;\">capital-gain</text></g><g class=\"xtick\"><text text-anchor=\"start\" x=\"0\" y=\"419\" transform=\"translate(472.53,0) rotate(29.999999999999996,0,413)\" style=\"font-family: 'Open Sans', verdana, arial, sans-serif; font-size: 12px; fill: rgb(42, 63, 95); fill-opacity: 1; white-space: pre; opacity: 1;\">capital-loss</text></g><g class=\"xtick\"><text text-anchor=\"start\" x=\"0\" y=\"419\" transform=\"translate(506.67,0) rotate(29.999999999999996,0,413)\" style=\"font-family: 'Open Sans', verdana, arial, sans-serif; font-size: 12px; fill: rgb(42, 63, 95); fill-opacity: 1; white-space: pre; opacity: 1;\">hours-per-week</text></g><g class=\"xtick\"><text text-anchor=\"start\" x=\"0\" y=\"419\" transform=\"translate(540.8,0) rotate(29.999999999999996,0,413)\" style=\"font-family: 'Open Sans', verdana, arial, sans-serif; font-size: 12px; fill: rgb(42, 63, 95); fill-opacity: 1; white-space: pre; opacity: 1;\">native-country</text></g><g class=\"xtick\"><text text-anchor=\"start\" x=\"0\" y=\"419\" transform=\"translate(574.9300000000001,0) rotate(29.999999999999996,0,413)\" style=\"font-family: 'Open Sans', verdana, arial, sans-serif; font-size: 12px; fill: rgb(42, 63, 95); fill-opacity: 1; white-space: pre; opacity: 1;\">target</text></g></g><g class=\"yaxislayer-above\"><g class=\"ytick\"><text text-anchor=\"end\" x=\"79\" y=\"4.199999999999999\" transform=\"translate(0,375.4)\" style=\"font-family: 'Open Sans', verdana, arial, sans-serif; font-size: 12px; fill: rgb(42, 63, 95); fill-opacity: 1; white-space: pre; opacity: 1;\">4</text></g><g class=\"ytick\"><text text-anchor=\"end\" x=\"79\" y=\"4.199999999999999\" style=\"font-family: 'Open Sans', verdana, arial, sans-serif; font-size: 12px; fill: rgb(42, 63, 95); fill-opacity: 1; white-space: pre; opacity: 1;\" transform=\"translate(0,314.2)\">3</text></g><g class=\"ytick\"><text text-anchor=\"end\" x=\"79\" y=\"4.199999999999999\" style=\"font-family: 'Open Sans', verdana, arial, sans-serif; font-size: 12px; fill: rgb(42, 63, 95); fill-opacity: 1; white-space: pre; opacity: 1;\" transform=\"translate(0,253)\">2</text></g><g class=\"ytick\"><text text-anchor=\"end\" x=\"79\" y=\"4.199999999999999\" style=\"font-family: 'Open Sans', verdana, arial, sans-serif; font-size: 12px; fill: rgb(42, 63, 95); fill-opacity: 1; white-space: pre; opacity: 1;\" transform=\"translate(0,191.8)\">1</text></g><g class=\"ytick\"><text text-anchor=\"end\" x=\"79\" y=\"4.199999999999999\" style=\"font-family: 'Open Sans', verdana, arial, sans-serif; font-size: 12px; fill: rgb(42, 63, 95); fill-opacity: 1; white-space: pre; opacity: 1;\" transform=\"translate(0,130.6)\">0</text></g></g><g class=\"overaxes-above\"/></g></g><g class=\"polarlayer\"/><g class=\"smithlayer\"/><g class=\"ternarylayer\"/><g class=\"geolayer\"/><g class=\"funnelarealayer\"/><g class=\"pielayer\"/><g class=\"iciclelayer\"/><g class=\"treemaplayer\"/><g class=\"sunburstlayer\"/><g class=\"glimages\"/><defs id=\"topdefs-aefd9a\"><g class=\"clips\"/></defs><g class=\"layer-above\"><g class=\"imagelayer\"/><g class=\"shapelayer\"/></g><g class=\"infolayer\"><g class=\"cbcoloraxis colorbar\" transform=\"translate(80,100)\"><rect class=\"cbbg\" x=\"522\" y=\"0\" width=\"85.615234375\" height=\"306\" style=\"fill: rgb(0, 0, 0); fill-opacity: 0; stroke: rgb(68, 68, 68); stroke-opacity: 1; stroke-width: 0;\"/><g class=\"cbfills\" transform=\"translate(0,31)\"><rect class=\"cbfill gradient_filled\" style=\"fill: url('#gaefd9a-cbcoloraxis');\" x=\"532\" y=\"0\" width=\"30\" height=\"265\"/></g><g class=\"cblines\" transform=\"translate(0,31)\"/><g class=\"cbaxis crisp\" transform=\"translate(0,-100)\"><g class=\"ycbcoloraxistick\"><text text-anchor=\"start\" x=\"564.9\" y=\"4.199999999999999\" transform=\"translate(0,396)\" style=\"font-family: 'Open Sans', verdana, arial, sans-serif; font-size: 12px; fill: rgb(42, 63, 95); fill-opacity: 1; white-space: pre; opacity: 1;\">0</text></g><g class=\"ycbcoloraxistick\"><text text-anchor=\"start\" x=\"564.9\" y=\"4.199999999999999\" style=\"font-family: 'Open Sans', verdana, arial, sans-serif; font-size: 12px; fill: rgb(42, 63, 95); fill-opacity: 1; white-space: pre; opacity: 1;\" transform=\"translate(0,369.5)\">0.5</text></g><g class=\"ycbcoloraxistick\"><text text-anchor=\"start\" x=\"564.9\" y=\"4.199999999999999\" style=\"font-family: 'Open Sans', verdana, arial, sans-serif; font-size: 12px; fill: rgb(42, 63, 95); fill-opacity: 1; white-space: pre; opacity: 1;\" transform=\"translate(0,343)\">1</text></g><g class=\"ycbcoloraxistick\"><text text-anchor=\"start\" x=\"564.9\" y=\"4.199999999999999\" style=\"font-family: 'Open Sans', verdana, arial, sans-serif; font-size: 12px; fill: rgb(42, 63, 95); fill-opacity: 1; white-space: pre; opacity: 1;\" transform=\"translate(0,316.5)\">1.5</text></g><g class=\"ycbcoloraxistick\"><text text-anchor=\"start\" x=\"564.9\" y=\"4.199999999999999\" style=\"font-family: 'Open Sans', verdana, arial, sans-serif; font-size: 12px; fill: rgb(42, 63, 95); fill-opacity: 1; white-space: pre; opacity: 1;\" transform=\"translate(0,290)\">2</text></g><g class=\"ycbcoloraxistick\"><text text-anchor=\"start\" x=\"564.9\" y=\"4.199999999999999\" style=\"font-family: 'Open Sans', verdana, arial, sans-serif; font-size: 12px; fill: rgb(42, 63, 95); fill-opacity: 1; white-space: pre; opacity: 1;\" transform=\"translate(0,263.5)\">2.5</text></g><g class=\"ycbcoloraxistick\"><text text-anchor=\"start\" x=\"564.9\" y=\"4.199999999999999\" style=\"font-family: 'Open Sans', verdana, arial, sans-serif; font-size: 12px; fill: rgb(42, 63, 95); fill-opacity: 1; white-space: pre; opacity: 1;\" transform=\"translate(0,237)\">3</text></g><g class=\"ycbcoloraxistick\"><text text-anchor=\"start\" x=\"564.9\" y=\"4.199999999999999\" style=\"font-family: 'Open Sans', verdana, arial, sans-serif; font-size: 12px; fill: rgb(42, 63, 95); fill-opacity: 1; white-space: pre; opacity: 1;\" transform=\"translate(0,210.5)\">3.5</text></g><g class=\"ycbcoloraxistick\"><text text-anchor=\"start\" x=\"564.9\" y=\"4.199999999999999\" style=\"font-family: 'Open Sans', verdana, arial, sans-serif; font-size: 12px; fill: rgb(42, 63, 95); fill-opacity: 1; white-space: pre; opacity: 1;\" transform=\"translate(0,184)\">4</text></g><g class=\"ycbcoloraxistick\"><text text-anchor=\"start\" x=\"564.9\" y=\"4.199999999999999\" style=\"font-family: 'Open Sans', verdana, arial, sans-serif; font-size: 12px; fill: rgb(42, 63, 95); fill-opacity: 1; white-space: pre; opacity: 1;\" transform=\"translate(0,157.5)\">4.5</text></g><g class=\"ycbcoloraxistick\"><text text-anchor=\"start\" x=\"564.9\" y=\"4.199999999999999\" style=\"font-family: 'Open Sans', verdana, arial, sans-serif; font-size: 12px; fill: rgb(42, 63, 95); fill-opacity: 1; white-space: pre; opacity: 1;\" transform=\"translate(0,131)\">≥5</text></g></g><g class=\"cbtitleunshift\" transform=\"translate(-80,-100)\"><g class=\"cbtitle\" transform=\"\"><text class=\"ycbcoloraxistitle\" x=\"612.24\" y=\"123.5\" text-anchor=\"start\" style=\"opacity: 1; font-family: 'Open Sans', verdana, arial, sans-serif; font-size: 14px; fill: rgb(42, 63, 95); fill-opacity: 1; white-space: pre;\">Conviction</text></g></g><rect class=\"cboutline\" x=\"532\" y=\"31\" width=\"30\" height=\"265\" style=\"stroke: rgb(68, 68, 68); stroke-opacity: 1; fill: none; stroke-width: 0;\"/></g><g class=\"g-gtitle\"><text class=\"gtitle\" x=\"35\" y=\"50\" text-anchor=\"start\" dy=\"0em\" style=\"opacity: 1; font-family: 'Open Sans', verdana, arial, sans-serif; font-size: 17px; fill: rgb(42, 63, 95); fill-opacity: 1; white-space: pre;\">Anomalies</text></g><g class=\"g-xtitle\"><text class=\"xtitle\" x=\"336\" y=\"487.2775390625\" text-anchor=\"middle\" style=\"opacity: 1; font-family: 'Open Sans', verdana, arial, sans-serif; font-size: 14px; fill: rgb(42, 63, 95); fill-opacity: 1; white-space: pre;\">Feature</text></g><g class=\"g-ytitle\"/></g></svg>"
      ]
     },
     "metadata": {},
     "output_type": "display_data"
    }
   ],
   "source": [
    "fig = plot_anomalies(inliers, inlier_case_feature_residual_convictions)\n",
    "fig.update_layout(width=1500, height=750)\n",
    "fig"
   ]
  },
  {
   "attachments": {},
   "cell_type": "markdown",
   "metadata": {},
   "source": [
    "This chart is viewed similarly to the outliers chart, however we are now examining cases that are too similar. We can see that for several cases, most features show high `feature_residual_conviction`, indicating that that feature can very easily predicted using the other features. This indicates that all these feature values are unusually predictable compared to the rest of the cases in the model."
   ]
  },
  {
   "attachments": {},
   "cell_type": "markdown",
   "metadata": {},
   "source": [
    "# Section 4: Additional Ideas\n",
    "\n",
    "Here we detail some additional examples methods of diving deeper into the possible anomalies detected above."
   ]
  },
  {
   "cell_type": "code",
   "execution_count": 12,
   "metadata": {
    "execution": {
     "iopub.execute_input": "2025-07-21T19:16:26.255228Z",
     "iopub.status.busy": "2025-07-21T19:16:26.255036Z",
     "iopub.status.idle": "2025-07-21T19:16:26.260447Z",
     "shell.execute_reply": "2025-07-21T19:16:26.259936Z"
    }
   },
   "outputs": [],
   "source": [
    "# Helper functions\n",
    "\n",
    "def case_explain_residuals_ratio(anomalous_df, case_feature_residual_convictions, case_ind, num_features=5):\n",
    "    \"\"\"Inspect a single case and identify which of its features are particularly anomalous.\"\"\"\n",
    "    case = anomalous_df.iloc[case_ind, : ]\n",
    "    case_num = case['.session_training_index']\n",
    "    case_df = pd.concat([case, case_feature_residual_convictions.iloc[case_ind, :]], axis=1)\n",
    "    case_df = case_df.loc[df.columns]\n",
    "    case_df.columns = ['values', 'feature_full_residual_convictions_for_case']\n",
    "    case_df = case_df.sort_values(['feature_full_residual_convictions_for_case'], ascending=True)\n",
    "    print(f'key features which caused case {case_num} to be anomalous: {case_df.head().index.tolist()}')\n",
    "    print('')\n",
    "    display(case_df.head())\n",
    "\n",
    "def get_cases(anomalous_df, results, case_ind):\n",
    "    \"\"\"Inspect a single anomalous case and display its influential and boundary cases.\"\"\"\n",
    "    case = anomalous_df.iloc[case_ind, :]\n",
    "    inf_cases = pd.DataFrame(results['details']['influential_cases'][case_ind])\n",
    "\n",
    "    print('Original Case:')\n",
    "    display(case)\n",
    "    print('')\n",
    "\n",
    "    print('Influential Cases:')\n",
    "    display(inf_cases)\n",
    "    print('')"
   ]
  },
  {
   "attachments": {},
   "cell_type": "markdown",
   "metadata": {},
   "source": [
    "We can print out a more detailed view of the Outlier Residual Conviction chart shown earlier."
   ]
  },
  {
   "cell_type": "code",
   "execution_count": 13,
   "metadata": {
    "execution": {
     "iopub.execute_input": "2025-07-21T19:16:26.262087Z",
     "iopub.status.busy": "2025-07-21T19:16:26.261906Z",
     "iopub.status.idle": "2025-07-21T19:16:26.274770Z",
     "shell.execute_reply": "2025-07-21T19:16:26.274243Z"
    }
   },
   "outputs": [
    {
     "name": "stdout",
     "output_type": "stream",
     "text": [
      "key features which caused case 540 to be anomalous: ['education-num', 'native-country', 'workclass', 'sex', 'relationship']\n",
      "\n"
     ]
    },
    {
     "data": {
      "text/html": [
       "<div>\n",
       "<style scoped>\n",
       "    .dataframe tbody tr th:only-of-type {\n",
       "        vertical-align: middle;\n",
       "    }\n",
       "\n",
       "    .dataframe tbody tr th {\n",
       "        vertical-align: top;\n",
       "    }\n",
       "\n",
       "    .dataframe thead th {\n",
       "        text-align: right;\n",
       "    }\n",
       "</style>\n",
       "<table border=\"1\" class=\"dataframe\">\n",
       "  <thead>\n",
       "    <tr style=\"text-align: right;\">\n",
       "      <th></th>\n",
       "      <th>values</th>\n",
       "      <th>feature_full_residual_convictions_for_case</th>\n",
       "    </tr>\n",
       "  </thead>\n",
       "  <tbody>\n",
       "    <tr>\n",
       "      <th>education-num</th>\n",
       "      <td>1.0</td>\n",
       "      <td>0.018571</td>\n",
       "    </tr>\n",
       "    <tr>\n",
       "      <th>native-country</th>\n",
       "      <td>26</td>\n",
       "      <td>0.187200</td>\n",
       "    </tr>\n",
       "    <tr>\n",
       "      <th>workclass</th>\n",
       "      <td>4</td>\n",
       "      <td>0.425943</td>\n",
       "    </tr>\n",
       "    <tr>\n",
       "      <th>sex</th>\n",
       "      <td>1</td>\n",
       "      <td>0.637207</td>\n",
       "    </tr>\n",
       "    <tr>\n",
       "      <th>relationship</th>\n",
       "      <td>1</td>\n",
       "      <td>0.662404</td>\n",
       "    </tr>\n",
       "  </tbody>\n",
       "</table>\n",
       "</div>"
      ],
      "text/plain": [
       "               values  feature_full_residual_convictions_for_case\n",
       "education-num     1.0                                    0.018571\n",
       "native-country     26                                    0.187200\n",
       "workclass           4                                    0.425943\n",
       "sex                 1                                    0.637207\n",
       "relationship        1                                    0.662404"
      ]
     },
     "metadata": {},
     "output_type": "display_data"
    },
    {
     "name": "stdout",
     "output_type": "stream",
     "text": [
      "_____________\n",
      "key features which caused case 732 to be anomalous: ['education-num', 'race', 'native-country', 'relationship', 'sex']\n",
      "\n"
     ]
    },
    {
     "data": {
      "text/html": [
       "<div>\n",
       "<style scoped>\n",
       "    .dataframe tbody tr th:only-of-type {\n",
       "        vertical-align: middle;\n",
       "    }\n",
       "\n",
       "    .dataframe tbody tr th {\n",
       "        vertical-align: top;\n",
       "    }\n",
       "\n",
       "    .dataframe thead th {\n",
       "        text-align: right;\n",
       "    }\n",
       "</style>\n",
       "<table border=\"1\" class=\"dataframe\">\n",
       "  <thead>\n",
       "    <tr style=\"text-align: right;\">\n",
       "      <th></th>\n",
       "      <th>values</th>\n",
       "      <th>feature_full_residual_convictions_for_case</th>\n",
       "    </tr>\n",
       "  </thead>\n",
       "  <tbody>\n",
       "    <tr>\n",
       "      <th>education-num</th>\n",
       "      <td>1.0</td>\n",
       "      <td>0.003028</td>\n",
       "    </tr>\n",
       "    <tr>\n",
       "      <th>race</th>\n",
       "      <td>1</td>\n",
       "      <td>0.169892</td>\n",
       "    </tr>\n",
       "    <tr>\n",
       "      <th>native-country</th>\n",
       "      <td>25</td>\n",
       "      <td>0.187200</td>\n",
       "    </tr>\n",
       "    <tr>\n",
       "      <th>relationship</th>\n",
       "      <td>1</td>\n",
       "      <td>0.673626</td>\n",
       "    </tr>\n",
       "    <tr>\n",
       "      <th>sex</th>\n",
       "      <td>0</td>\n",
       "      <td>0.703598</td>\n",
       "    </tr>\n",
       "  </tbody>\n",
       "</table>\n",
       "</div>"
      ],
      "text/plain": [
       "               values  feature_full_residual_convictions_for_case\n",
       "education-num     1.0                                    0.003028\n",
       "race                1                                    0.169892\n",
       "native-country     25                                    0.187200\n",
       "relationship        1                                    0.673626\n",
       "sex                 0                                    0.703598"
      ]
     },
     "metadata": {},
     "output_type": "display_data"
    },
    {
     "name": "stdout",
     "output_type": "stream",
     "text": [
      "_____________\n"
     ]
    }
   ],
   "source": [
    "# Print out the explanations for outliers\n",
    "for i in range(2):\n",
    "    case_explain_residuals_ratio(\n",
    "        outliers,\n",
    "        outlier_case_feature_residual_convictions,\n",
    "        i\n",
    "    )\n",
    "    print('_____________')"
   ]
  },
  {
   "attachments": {},
   "cell_type": "markdown",
   "metadata": {},
   "source": [
    "## Influential cases\n",
    "\n",
    "[Influential Cases](https://docs.howso.com/en/release-latest/getting_started/terminology.html#influential-cases) may also provide additional clues into potentially anomalous data. If a case's influential cases do not well represent itself, then this indicates there are no cases in the model that well represent the anomalous cases.\n"
   ]
  },
  {
   "cell_type": "code",
   "execution_count": 14,
   "metadata": {
    "execution": {
     "iopub.execute_input": "2025-07-21T19:16:26.276382Z",
     "iopub.status.busy": "2025-07-21T19:16:26.276204Z",
     "iopub.status.idle": "2025-07-21T19:16:26.297732Z",
     "shell.execute_reply": "2025-07-21T19:16:26.297189Z"
    }
   },
   "outputs": [
    {
     "name": "stdout",
     "output_type": "stream",
     "text": [
      "Original Case:\n"
     ]
    },
    {
     "data": {
      "text/plain": [
       "age                                                                30.0\n",
       "workclass                                                             4\n",
       "fnlwgt                                                         193598.0\n",
       "education                                                            13\n",
       "education-num                                                       1.0\n",
       "marital-status                                                        4\n",
       "occupation                                                            5\n",
       "relationship                                                          1\n",
       "race                                                                  4\n",
       "sex                                                                   1\n",
       "capital-gain                                                        0.0\n",
       "capital-loss                                                        0.0\n",
       "hours-per-week                                                     40.0\n",
       "native-country                                                       26\n",
       "target                                                                1\n",
       "familiarity_conviction_addition                                0.020019\n",
       ".session_training_index                                             540\n",
       ".session                           51f01770-0025-44a0-bd80-24ef11fa59cd\n",
       "distance_contribution                                        306.265156\n",
       "category                                                        outlier\n",
       "Name: 0, dtype: object"
      ]
     },
     "metadata": {},
     "output_type": "display_data"
    },
    {
     "name": "stdout",
     "output_type": "stream",
     "text": [
      "\n",
      "Influential Cases:\n"
     ]
    },
    {
     "data": {
      "text/html": [
       "<div>\n",
       "<style scoped>\n",
       "    .dataframe tbody tr th:only-of-type {\n",
       "        vertical-align: middle;\n",
       "    }\n",
       "\n",
       "    .dataframe tbody tr th {\n",
       "        vertical-align: top;\n",
       "    }\n",
       "\n",
       "    .dataframe thead th {\n",
       "        text-align: right;\n",
       "    }\n",
       "</style>\n",
       "<table border=\"1\" class=\"dataframe\">\n",
       "  <thead>\n",
       "    <tr style=\"text-align: right;\">\n",
       "      <th></th>\n",
       "      <th>target</th>\n",
       "      <th>.session</th>\n",
       "      <th>age</th>\n",
       "      <th>capital-gain</th>\n",
       "      <th>relationship</th>\n",
       "      <th>education</th>\n",
       "      <th>.session_training_index</th>\n",
       "      <th>native-country</th>\n",
       "      <th>marital-status</th>\n",
       "      <th>workclass</th>\n",
       "      <th>race</th>\n",
       "      <th>capital-loss</th>\n",
       "      <th>education-num</th>\n",
       "      <th>sex</th>\n",
       "      <th>occupation</th>\n",
       "      <th>fnlwgt</th>\n",
       "      <th>hours-per-week</th>\n",
       "      <th>.influence_weight</th>\n",
       "    </tr>\n",
       "  </thead>\n",
       "  <tbody>\n",
       "    <tr>\n",
       "      <th>0</th>\n",
       "      <td>1</td>\n",
       "      <td>51f01770-0025-44a0-bd80-24ef11fa59cd</td>\n",
       "      <td>32</td>\n",
       "      <td>0</td>\n",
       "      <td>0</td>\n",
       "      <td>11</td>\n",
       "      <td>510</td>\n",
       "      <td>39</td>\n",
       "      <td>2</td>\n",
       "      <td>4</td>\n",
       "      <td>4</td>\n",
       "      <td>0</td>\n",
       "      <td>9</td>\n",
       "      <td>1</td>\n",
       "      <td>6</td>\n",
       "      <td>173449</td>\n",
       "      <td>40</td>\n",
       "      <td>0.526602</td>\n",
       "    </tr>\n",
       "    <tr>\n",
       "      <th>1</th>\n",
       "      <td>1</td>\n",
       "      <td>51f01770-0025-44a0-bd80-24ef11fa59cd</td>\n",
       "      <td>31</td>\n",
       "      <td>0</td>\n",
       "      <td>0</td>\n",
       "      <td>11</td>\n",
       "      <td>604</td>\n",
       "      <td>39</td>\n",
       "      <td>2</td>\n",
       "      <td>4</td>\n",
       "      <td>4</td>\n",
       "      <td>0</td>\n",
       "      <td>9</td>\n",
       "      <td>1</td>\n",
       "      <td>6</td>\n",
       "      <td>96245</td>\n",
       "      <td>42</td>\n",
       "      <td>0.157386</td>\n",
       "    </tr>\n",
       "    <tr>\n",
       "      <th>2</th>\n",
       "      <td>1</td>\n",
       "      <td>51f01770-0025-44a0-bd80-24ef11fa59cd</td>\n",
       "      <td>33</td>\n",
       "      <td>0</td>\n",
       "      <td>0</td>\n",
       "      <td>11</td>\n",
       "      <td>407</td>\n",
       "      <td>39</td>\n",
       "      <td>2</td>\n",
       "      <td>4</td>\n",
       "      <td>4</td>\n",
       "      <td>0</td>\n",
       "      <td>9</td>\n",
       "      <td>1</td>\n",
       "      <td>6</td>\n",
       "      <td>269705</td>\n",
       "      <td>40</td>\n",
       "      <td>0.122871</td>\n",
       "    </tr>\n",
       "    <tr>\n",
       "      <th>3</th>\n",
       "      <td>1</td>\n",
       "      <td>51f01770-0025-44a0-bd80-24ef11fa59cd</td>\n",
       "      <td>25</td>\n",
       "      <td>0</td>\n",
       "      <td>0</td>\n",
       "      <td>11</td>\n",
       "      <td>881</td>\n",
       "      <td>39</td>\n",
       "      <td>2</td>\n",
       "      <td>4</td>\n",
       "      <td>4</td>\n",
       "      <td>0</td>\n",
       "      <td>9</td>\n",
       "      <td>1</td>\n",
       "      <td>6</td>\n",
       "      <td>218667</td>\n",
       "      <td>40</td>\n",
       "      <td>0.108620</td>\n",
       "    </tr>\n",
       "    <tr>\n",
       "      <th>4</th>\n",
       "      <td>1</td>\n",
       "      <td>51f01770-0025-44a0-bd80-24ef11fa59cd</td>\n",
       "      <td>25</td>\n",
       "      <td>0</td>\n",
       "      <td>0</td>\n",
       "      <td>11</td>\n",
       "      <td>269</td>\n",
       "      <td>39</td>\n",
       "      <td>2</td>\n",
       "      <td>4</td>\n",
       "      <td>4</td>\n",
       "      <td>0</td>\n",
       "      <td>9</td>\n",
       "      <td>1</td>\n",
       "      <td>6</td>\n",
       "      <td>236267</td>\n",
       "      <td>40</td>\n",
       "      <td>0.084522</td>\n",
       "    </tr>\n",
       "  </tbody>\n",
       "</table>\n",
       "</div>"
      ],
      "text/plain": [
       "   target                              .session  age  capital-gain  \\\n",
       "0       1  51f01770-0025-44a0-bd80-24ef11fa59cd   32             0   \n",
       "1       1  51f01770-0025-44a0-bd80-24ef11fa59cd   31             0   \n",
       "2       1  51f01770-0025-44a0-bd80-24ef11fa59cd   33             0   \n",
       "3       1  51f01770-0025-44a0-bd80-24ef11fa59cd   25             0   \n",
       "4       1  51f01770-0025-44a0-bd80-24ef11fa59cd   25             0   \n",
       "\n",
       "   relationship  education  .session_training_index  native-country  \\\n",
       "0             0         11                      510              39   \n",
       "1             0         11                      604              39   \n",
       "2             0         11                      407              39   \n",
       "3             0         11                      881              39   \n",
       "4             0         11                      269              39   \n",
       "\n",
       "   marital-status  workclass  race  capital-loss  education-num  sex  \\\n",
       "0               2          4     4             0              9    1   \n",
       "1               2          4     4             0              9    1   \n",
       "2               2          4     4             0              9    1   \n",
       "3               2          4     4             0              9    1   \n",
       "4               2          4     4             0              9    1   \n",
       "\n",
       "   occupation  fnlwgt  hours-per-week  .influence_weight  \n",
       "0           6  173449              40           0.526602  \n",
       "1           6   96245              42           0.157386  \n",
       "2           6  269705              40           0.122871  \n",
       "3           6  218667              40           0.108620  \n",
       "4           6  236267              40           0.084522  "
      ]
     },
     "metadata": {},
     "output_type": "display_data"
    },
    {
     "name": "stdout",
     "output_type": "stream",
     "text": [
      "\n",
      "_____________\n",
      "Original Case:\n"
     ]
    },
    {
     "data": {
      "text/plain": [
       "age                                                                23.0\n",
       "workclass                                                             4\n",
       "fnlwgt                                                         240049.0\n",
       "education                                                            13\n",
       "education-num                                                       1.0\n",
       "marital-status                                                        4\n",
       "occupation                                                            8\n",
       "relationship                                                          1\n",
       "race                                                                  1\n",
       "sex                                                                   0\n",
       "capital-gain                                                        0.0\n",
       "capital-loss                                                        0.0\n",
       "hours-per-week                                                     40.0\n",
       "native-country                                                       25\n",
       "target                                                                1\n",
       "familiarity_conviction_addition                                0.023356\n",
       ".session_training_index                                             732\n",
       ".session                           51f01770-0025-44a0-bd80-24ef11fa59cd\n",
       "distance_contribution                                        280.379224\n",
       "category                                                        outlier\n",
       "Name: 1, dtype: object"
      ]
     },
     "metadata": {},
     "output_type": "display_data"
    },
    {
     "name": "stdout",
     "output_type": "stream",
     "text": [
      "\n",
      "Influential Cases:\n"
     ]
    },
    {
     "data": {
      "text/html": [
       "<div>\n",
       "<style scoped>\n",
       "    .dataframe tbody tr th:only-of-type {\n",
       "        vertical-align: middle;\n",
       "    }\n",
       "\n",
       "    .dataframe tbody tr th {\n",
       "        vertical-align: top;\n",
       "    }\n",
       "\n",
       "    .dataframe thead th {\n",
       "        text-align: right;\n",
       "    }\n",
       "</style>\n",
       "<table border=\"1\" class=\"dataframe\">\n",
       "  <thead>\n",
       "    <tr style=\"text-align: right;\">\n",
       "      <th></th>\n",
       "      <th>target</th>\n",
       "      <th>.session</th>\n",
       "      <th>age</th>\n",
       "      <th>capital-gain</th>\n",
       "      <th>relationship</th>\n",
       "      <th>education</th>\n",
       "      <th>.session_training_index</th>\n",
       "      <th>native-country</th>\n",
       "      <th>marital-status</th>\n",
       "      <th>workclass</th>\n",
       "      <th>race</th>\n",
       "      <th>capital-loss</th>\n",
       "      <th>education-num</th>\n",
       "      <th>sex</th>\n",
       "      <th>occupation</th>\n",
       "      <th>fnlwgt</th>\n",
       "      <th>hours-per-week</th>\n",
       "      <th>.influence_weight</th>\n",
       "    </tr>\n",
       "  </thead>\n",
       "  <tbody>\n",
       "    <tr>\n",
       "      <th>0</th>\n",
       "      <td>1</td>\n",
       "      <td>51f01770-0025-44a0-bd80-24ef11fa59cd</td>\n",
       "      <td>25</td>\n",
       "      <td>0</td>\n",
       "      <td>0</td>\n",
       "      <td>11</td>\n",
       "      <td>269</td>\n",
       "      <td>39</td>\n",
       "      <td>2</td>\n",
       "      <td>4</td>\n",
       "      <td>4</td>\n",
       "      <td>0</td>\n",
       "      <td>9</td>\n",
       "      <td>1</td>\n",
       "      <td>6</td>\n",
       "      <td>236267</td>\n",
       "      <td>40</td>\n",
       "      <td>0.832923</td>\n",
       "    </tr>\n",
       "    <tr>\n",
       "      <th>1</th>\n",
       "      <td>1</td>\n",
       "      <td>51f01770-0025-44a0-bd80-24ef11fa59cd</td>\n",
       "      <td>30</td>\n",
       "      <td>0</td>\n",
       "      <td>0</td>\n",
       "      <td>11</td>\n",
       "      <td>198</td>\n",
       "      <td>39</td>\n",
       "      <td>2</td>\n",
       "      <td>4</td>\n",
       "      <td>4</td>\n",
       "      <td>0</td>\n",
       "      <td>9</td>\n",
       "      <td>1</td>\n",
       "      <td>6</td>\n",
       "      <td>190228</td>\n",
       "      <td>40</td>\n",
       "      <td>0.118074</td>\n",
       "    </tr>\n",
       "    <tr>\n",
       "      <th>2</th>\n",
       "      <td>1</td>\n",
       "      <td>51f01770-0025-44a0-bd80-24ef11fa59cd</td>\n",
       "      <td>32</td>\n",
       "      <td>0</td>\n",
       "      <td>0</td>\n",
       "      <td>11</td>\n",
       "      <td>510</td>\n",
       "      <td>39</td>\n",
       "      <td>2</td>\n",
       "      <td>4</td>\n",
       "      <td>4</td>\n",
       "      <td>0</td>\n",
       "      <td>9</td>\n",
       "      <td>1</td>\n",
       "      <td>6</td>\n",
       "      <td>173449</td>\n",
       "      <td>40</td>\n",
       "      <td>0.027818</td>\n",
       "    </tr>\n",
       "    <tr>\n",
       "      <th>3</th>\n",
       "      <td>1</td>\n",
       "      <td>51f01770-0025-44a0-bd80-24ef11fa59cd</td>\n",
       "      <td>33</td>\n",
       "      <td>0</td>\n",
       "      <td>0</td>\n",
       "      <td>11</td>\n",
       "      <td>407</td>\n",
       "      <td>39</td>\n",
       "      <td>2</td>\n",
       "      <td>4</td>\n",
       "      <td>4</td>\n",
       "      <td>0</td>\n",
       "      <td>9</td>\n",
       "      <td>1</td>\n",
       "      <td>6</td>\n",
       "      <td>269705</td>\n",
       "      <td>40</td>\n",
       "      <td>0.013421</td>\n",
       "    </tr>\n",
       "    <tr>\n",
       "      <th>4</th>\n",
       "      <td>1</td>\n",
       "      <td>51f01770-0025-44a0-bd80-24ef11fa59cd</td>\n",
       "      <td>31</td>\n",
       "      <td>0</td>\n",
       "      <td>0</td>\n",
       "      <td>11</td>\n",
       "      <td>604</td>\n",
       "      <td>39</td>\n",
       "      <td>2</td>\n",
       "      <td>4</td>\n",
       "      <td>4</td>\n",
       "      <td>0</td>\n",
       "      <td>9</td>\n",
       "      <td>1</td>\n",
       "      <td>6</td>\n",
       "      <td>96245</td>\n",
       "      <td>42</td>\n",
       "      <td>0.007763</td>\n",
       "    </tr>\n",
       "  </tbody>\n",
       "</table>\n",
       "</div>"
      ],
      "text/plain": [
       "   target                              .session  age  capital-gain  \\\n",
       "0       1  51f01770-0025-44a0-bd80-24ef11fa59cd   25             0   \n",
       "1       1  51f01770-0025-44a0-bd80-24ef11fa59cd   30             0   \n",
       "2       1  51f01770-0025-44a0-bd80-24ef11fa59cd   32             0   \n",
       "3       1  51f01770-0025-44a0-bd80-24ef11fa59cd   33             0   \n",
       "4       1  51f01770-0025-44a0-bd80-24ef11fa59cd   31             0   \n",
       "\n",
       "   relationship  education  .session_training_index  native-country  \\\n",
       "0             0         11                      269              39   \n",
       "1             0         11                      198              39   \n",
       "2             0         11                      510              39   \n",
       "3             0         11                      407              39   \n",
       "4             0         11                      604              39   \n",
       "\n",
       "   marital-status  workclass  race  capital-loss  education-num  sex  \\\n",
       "0               2          4     4             0              9    1   \n",
       "1               2          4     4             0              9    1   \n",
       "2               2          4     4             0              9    1   \n",
       "3               2          4     4             0              9    1   \n",
       "4               2          4     4             0              9    1   \n",
       "\n",
       "   occupation  fnlwgt  hours-per-week  .influence_weight  \n",
       "0           6  236267              40           0.832923  \n",
       "1           6  190228              40           0.118074  \n",
       "2           6  173449              40           0.027818  \n",
       "3           6  269705              40           0.013421  \n",
       "4           6   96245              42           0.007763  "
      ]
     },
     "metadata": {},
     "output_type": "display_data"
    },
    {
     "name": "stdout",
     "output_type": "stream",
     "text": [
      "\n",
      "_____________\n"
     ]
    }
   ],
   "source": [
    "# Print influential and boundary case outliers\n",
    "for i in range(2):\n",
    "    get_cases(outliers, results, i)\n",
    "    print('_____________')"
   ]
  }
 ],
 "metadata": {
  "kernelspec": {
   "display_name": "engine-recipes-3.10",
   "language": "python",
   "name": "python3"
  },
  "language_info": {
   "codemirror_mode": {
    "name": "ipython",
    "version": 3
   },
   "file_extension": ".py",
   "mimetype": "text/x-python",
   "name": "python",
   "nbconvert_exporter": "python",
   "pygments_lexer": "ipython3",
   "version": "3.10.18"
  }
 },
 "nbformat": 4,
 "nbformat_minor": 4
}
