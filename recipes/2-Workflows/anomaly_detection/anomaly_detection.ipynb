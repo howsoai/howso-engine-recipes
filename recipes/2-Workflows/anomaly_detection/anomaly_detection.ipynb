{
 "cells": [
  {
   "attachments": {},
   "cell_type": "markdown",
   "metadata": {},
   "source": [
    "# Anomaly Detection\n",
    "## Overview \n",
    "\n",
    "In the recipe, `engine-insights.ipynb`, we demonstrated an introduction to anomaly detection. In this recipe, expand on the methods used in that recipe. Howso Engine can be used to identify anomalous cases in a dataset and also explain why those cases may be anomalous. Furthermore, we can leverage other tools we learned in previous recipes, such  as influential and boundary cases, to provide additional context.\n",
    "\n",
    "Finding anomalous cases has value in both model building and data exploration. For example, as we continue to build a suitable model for the `Adult` datset, detecting anomalies can give us insight into whether we need to clean the dataset to reduce false signals. Possible sources of anomalies could be cases that are erroneous or falsified.   \n"
   ]
  },
  {
   "attachments": {},
   "cell_type": "markdown",
   "metadata": {},
   "source": [
    "# Section 1: Load, Train, Analyze\n",
    "\n",
    "For questions about the specific steps of this section, please see the [basic workflow guide](https://docs.howso.com/en/release-latest/user_guide/basic_capabilities/basic_workflow.html).\n"
   ]
  },
  {
   "cell_type": "code",
   "execution_count": 1,
   "metadata": {
    "execution": {
     "iopub.execute_input": "2025-10-25T03:27:51.558169Z",
     "iopub.status.busy": "2025-10-25T03:27:51.557964Z",
     "iopub.status.idle": "2025-10-25T03:27:56.919828Z",
     "shell.execute_reply": "2025-10-25T03:27:56.919000Z"
    }
   },
   "outputs": [],
   "source": [
    "import pandas as pd\n",
    "from pmlb import fetch_data\n",
    "\n",
    "from howso.engine import Trainee\n",
    "from howso.utilities import infer_feature_attributes\n",
    "from howso.visuals import plot_anomalies"
   ]
  },
  {
   "cell_type": "markdown",
   "metadata": {},
   "source": [
    "### Step 1: Load Data and Create Trainee\n",
    "\n",
    "Our example dataset for this recipe continues to be the well known `Adult` dataset. This dataset consists of 14 Context Features and 1 Action Feature. The Action Feature in this version of the `Adult` dataset has been renamed to `target` and it takes the form of a binary indicator for whether a person in the data makes over $50,000/year (*target*=1) or less (*target*=0)."
   ]
  },
  {
   "cell_type": "code",
   "execution_count": 2,
   "metadata": {
    "execution": {
     "iopub.execute_input": "2025-10-25T03:27:56.922961Z",
     "iopub.status.busy": "2025-10-25T03:27:56.922453Z",
     "iopub.status.idle": "2025-10-25T03:27:57.451698Z",
     "shell.execute_reply": "2025-10-25T03:27:57.450716Z"
    }
   },
   "outputs": [
    {
     "name": "stderr",
     "output_type": "stream",
     "text": [
      "Version 49.1.1 of Howso Engine™ is available. You are using version 48.2.1.\n"
     ]
    }
   ],
   "source": [
    "df = fetch_data('adult', local_cache_dir=\"../../data/adult\")\n",
    "\n",
    "# Subsample the data to ensure the example runs quickly\n",
    "df = df.sample(1000, random_state=0)\n",
    "\n",
    "# Infer feature attributes\n",
    "features = infer_feature_attributes(df)\n",
    "\n",
    "# Create the Trainee\n",
    "t = Trainee(features=features)"
   ]
  },
  {
   "attachments": {},
   "cell_type": "markdown",
   "metadata": {},
   "source": [
    "### Step 2: Train and Analyze"
   ]
  },
  {
   "cell_type": "code",
   "execution_count": 3,
   "metadata": {
    "execution": {
     "iopub.execute_input": "2025-10-25T03:27:57.453978Z",
     "iopub.status.busy": "2025-10-25T03:27:57.453761Z",
     "iopub.status.idle": "2025-10-25T03:28:03.791671Z",
     "shell.execute_reply": "2025-10-25T03:28:03.790825Z"
    }
   },
   "outputs": [],
   "source": [
    "t.train(df)\n",
    "\n",
    "# Targetless Analysis\n",
    "t.analyze()"
   ]
  },
  {
   "attachments": {},
   "cell_type": "markdown",
   "metadata": {},
   "source": [
    "# Section 2: Anomaly Identification\n",
    "\n",
    "We will use [Familiarity Conviction](https://docs.howso.com/en/release-latest/getting_started/terminology.html#familiarity-conviction) and [Distance Contribution](https://docs.howso.com/en/release-latest/getting_started/terminology.html#distance-contribution) to identify potentially anomalous cases. Conviction is a value indicating how surprising a case is relative to how surprising other cases in the model are. In the case of `Familiarity Conviction`, the level of surprisal is measured by the perturbation of the probability distribution when the case is added or removed (hence the parameters: `familiarity_conviction_addition` and `familiarity_conviction_removal`).  Howso Engine’s interpretability tools also enable us to understand why these cases may be anomalous and whether they are outliers and inliers. "
   ]
  },
  {
   "attachments": {},
   "cell_type": "markdown",
   "metadata": {},
   "source": [
    "### Step 1: Compute Distance Contribution and Familiarity Conviction for every case\n",
    "\n",
    "The first step is to use `react_into_features` and select the metrics we want to return.\n",
    "\n",
    "`react_into_features` is a method that calculates the desired attributes for every case in the Trainee and caches those values into each case as a feature.\n",
    "\n",
    "Notably, this means that these features can then be used as context and action features, but this is only recommended for advanced use-cases."
   ]
  },
  {
   "cell_type": "code",
   "execution_count": 4,
   "metadata": {
    "execution": {
     "iopub.execute_input": "2025-10-25T03:28:03.794163Z",
     "iopub.status.busy": "2025-10-25T03:28:03.793948Z",
     "iopub.status.idle": "2025-10-25T03:28:03.881227Z",
     "shell.execute_reply": "2025-10-25T03:28:03.880362Z"
    }
   },
   "outputs": [],
   "source": [
    "# Store the familiarity conviction and distance contribution, this will be used to identify anomalous cases\n",
    "t.react_into_features(\n",
    "    familiarity_conviction_addition=True,\n",
    "    distance_contribution=True\n",
    ")\n",
    "\n",
    "stored_convictions = t.get_cases(\n",
    "    session=t.active_session,\n",
    "    features=df.columns.tolist() + ['familiarity_conviction_addition','.session_training_index', '.session', 'distance_contribution']\n",
    ")"
   ]
  },
  {
   "attachments": {},
   "cell_type": "markdown",
   "metadata": {},
   "source": [
    "### Step 2: Set Threshold and Identify Anomalies\n",
    "\n",
    "There is no absolute threshold for what is considered to be anomalous, as anomalous behavior is a measure of surprisal. Thus, this is a lever that the user can change depending on the data. The threshold should be more or less than 1, which indicates average surprisal.\n",
    "\n",
    "We first use `familiarity_conviction_addition` to find anomalies, and then use the average `distance_contribution` to determine what type of anomaly the case is (e.g., inlier vs. outlier). Cases with large distance contributions will be considered outliers and those with\n",
    "low distance contributions will be inliers.\n",
    "\n",
    "For this data, we use a threshold of 0.75 for the Familiarity Conviction. Cases with a Familarity Conviction below this value will be considered outliers."
   ]
  },
  {
   "cell_type": "code",
   "execution_count": 5,
   "metadata": {
    "execution": {
     "iopub.execute_input": "2025-10-25T03:28:03.883356Z",
     "iopub.status.busy": "2025-10-25T03:28:03.883135Z",
     "iopub.status.idle": "2025-10-25T03:28:03.888966Z",
     "shell.execute_reply": "2025-10-25T03:28:03.888280Z"
    }
   },
   "outputs": [],
   "source": [
    "# Threshold to determine which cases will be deemed anomalous\n",
    "convict_threshold = 0.75\n",
    "\n",
    "# Extract the anomalous cases\n",
    "low_convicts = stored_convictions[\n",
    "    stored_convictions['familiarity_conviction_addition'] <= convict_threshold\n",
    "].sort_values('familiarity_conviction_addition', ascending=True)\n",
    "\n",
    "# Average distance contribution will be used to determine if a case is an outlier or inlier\n",
    "average_dist_contribution = low_convicts['distance_contribution'].mean()\n",
    "\n",
    "# A case with distance contribution greater than average will be tagged as outlier, and vice versa for inliers\n",
    "cat = [\n",
    "    'inlier' if d < average_dist_contribution else\n",
    "    'outlier' for d in low_convicts['distance_contribution']\n",
    "]\n",
    "low_convicts['category'] = cat"
   ]
  },
  {
   "attachments": {},
   "cell_type": "markdown",
   "metadata": {},
   "source": [
    "# Section 3: Anomaly Inspection"
   ]
  },
  {
   "attachments": {},
   "cell_type": "markdown",
   "metadata": {},
   "source": [
    "\n",
    "### Step 1: Inspect Outliers\n",
    "\n",
    "Typically, when we think of anomalies, we think of outliers or cases that are significantly different that the rest of the data, whether erroneous or not. Preprocessing in machine learning often involves pruning these data points as they can add undesired noise to a model. \n",
    "\n",
    "The Case Feature Residual Conviction will be used to understand why each case was anomalous.\n",
    "\n",
    "In our example use case where the `Adult` dataset is used to determine projected salary for loan applications, we want to eliminate any erroneous outliers if possible. We may also want to detect substituted values, as often times datasets may substitute special values with nominal integers. For example, blank values in an application are often coded with high integers like 99999 which can introduce noise in the dataset.\n",
    "\n",
    "### **Definitions:**\n",
    "\n",
    "**`case_feature_residual_convictions`** :  This is calculated using the local feature residuals, divided by the feature residuals of the Case to obtain the Convictions."
   ]
  },
  {
   "cell_type": "code",
   "execution_count": 6,
   "metadata": {
    "execution": {
     "iopub.execute_input": "2025-10-25T03:28:03.890726Z",
     "iopub.status.busy": "2025-10-25T03:28:03.890549Z",
     "iopub.status.idle": "2025-10-25T03:28:03.906656Z",
     "shell.execute_reply": "2025-10-25T03:28:03.905874Z"
    }
   },
   "outputs": [
    {
     "data": {
      "text/html": [
       "<div>\n",
       "<style scoped>\n",
       "    .dataframe tbody tr th:only-of-type {\n",
       "        vertical-align: middle;\n",
       "    }\n",
       "\n",
       "    .dataframe tbody tr th {\n",
       "        vertical-align: top;\n",
       "    }\n",
       "\n",
       "    .dataframe thead th {\n",
       "        text-align: right;\n",
       "    }\n",
       "</style>\n",
       "<table border=\"1\" class=\"dataframe\">\n",
       "  <thead>\n",
       "    <tr style=\"text-align: right;\">\n",
       "      <th></th>\n",
       "      <th>age</th>\n",
       "      <th>workclass</th>\n",
       "      <th>fnlwgt</th>\n",
       "      <th>education</th>\n",
       "      <th>education-num</th>\n",
       "      <th>marital-status</th>\n",
       "      <th>occupation</th>\n",
       "      <th>relationship</th>\n",
       "      <th>race</th>\n",
       "      <th>sex</th>\n",
       "      <th>capital-gain</th>\n",
       "      <th>capital-loss</th>\n",
       "      <th>hours-per-week</th>\n",
       "      <th>native-country</th>\n",
       "      <th>target</th>\n",
       "      <th>familiarity_conviction_addition</th>\n",
       "      <th>.session_training_index</th>\n",
       "      <th>.session</th>\n",
       "      <th>distance_contribution</th>\n",
       "      <th>category</th>\n",
       "    </tr>\n",
       "  </thead>\n",
       "  <tbody>\n",
       "    <tr>\n",
       "      <th>0</th>\n",
       "      <td>30.0</td>\n",
       "      <td>4</td>\n",
       "      <td>193598.0</td>\n",
       "      <td>13</td>\n",
       "      <td>1.0</td>\n",
       "      <td>4</td>\n",
       "      <td>5</td>\n",
       "      <td>1</td>\n",
       "      <td>4</td>\n",
       "      <td>1</td>\n",
       "      <td>0.0</td>\n",
       "      <td>0.0</td>\n",
       "      <td>40.0</td>\n",
       "      <td>26</td>\n",
       "      <td>1</td>\n",
       "      <td>0.020019</td>\n",
       "      <td>540</td>\n",
       "      <td>17e7ea9e-ba66-4b22-b4d0-ed84fbd99f2a</td>\n",
       "      <td>306.265156</td>\n",
       "      <td>outlier</td>\n",
       "    </tr>\n",
       "    <tr>\n",
       "      <th>1</th>\n",
       "      <td>23.0</td>\n",
       "      <td>4</td>\n",
       "      <td>240049.0</td>\n",
       "      <td>13</td>\n",
       "      <td>1.0</td>\n",
       "      <td>4</td>\n",
       "      <td>8</td>\n",
       "      <td>1</td>\n",
       "      <td>1</td>\n",
       "      <td>0</td>\n",
       "      <td>0.0</td>\n",
       "      <td>0.0</td>\n",
       "      <td>40.0</td>\n",
       "      <td>25</td>\n",
       "      <td>1</td>\n",
       "      <td>0.023355</td>\n",
       "      <td>732</td>\n",
       "      <td>17e7ea9e-ba66-4b22-b4d0-ed84fbd99f2a</td>\n",
       "      <td>280.379224</td>\n",
       "      <td>outlier</td>\n",
       "    </tr>\n",
       "    <tr>\n",
       "      <th>2</th>\n",
       "      <td>65.0</td>\n",
       "      <td>5</td>\n",
       "      <td>184965.0</td>\n",
       "      <td>10</td>\n",
       "      <td>16.0</td>\n",
       "      <td>2</td>\n",
       "      <td>4</td>\n",
       "      <td>0</td>\n",
       "      <td>4</td>\n",
       "      <td>1</td>\n",
       "      <td>99999.0</td>\n",
       "      <td>0.0</td>\n",
       "      <td>40.0</td>\n",
       "      <td>39</td>\n",
       "      <td>0</td>\n",
       "      <td>0.025732</td>\n",
       "      <td>649</td>\n",
       "      <td>17e7ea9e-ba66-4b22-b4d0-ed84fbd99f2a</td>\n",
       "      <td>387.300496</td>\n",
       "      <td>outlier</td>\n",
       "    </tr>\n",
       "  </tbody>\n",
       "</table>\n",
       "</div>"
      ],
      "text/plain": [
       "    age  workclass    fnlwgt  education  education-num  marital-status  \\\n",
       "0  30.0          4  193598.0         13            1.0               4   \n",
       "1  23.0          4  240049.0         13            1.0               4   \n",
       "2  65.0          5  184965.0         10           16.0               2   \n",
       "\n",
       "   occupation  relationship  race  sex  capital-gain  capital-loss  \\\n",
       "0           5             1     4    1           0.0           0.0   \n",
       "1           8             1     1    0           0.0           0.0   \n",
       "2           4             0     4    1       99999.0           0.0   \n",
       "\n",
       "   hours-per-week  native-country  target  familiarity_conviction_addition  \\\n",
       "0            40.0              26       1                         0.020019   \n",
       "1            40.0              25       1                         0.023355   \n",
       "2            40.0              39       0                         0.025732   \n",
       "\n",
       "   .session_training_index                              .session  \\\n",
       "0                      540  17e7ea9e-ba66-4b22-b4d0-ed84fbd99f2a   \n",
       "1                      732  17e7ea9e-ba66-4b22-b4d0-ed84fbd99f2a   \n",
       "2                      649  17e7ea9e-ba66-4b22-b4d0-ed84fbd99f2a   \n",
       "\n",
       "   distance_contribution category  \n",
       "0             306.265156  outlier  \n",
       "1             280.379224  outlier  \n",
       "2             387.300496  outlier  "
      ]
     },
     "execution_count": 6,
     "metadata": {},
     "output_type": "execute_result"
    }
   ],
   "source": [
    "# Extract the outliers cases\n",
    "outliers = low_convicts[low_convicts['category'] == 'outlier'].reset_index(drop=True)\n",
    "outliers.head(3)"
   ]
  },
  {
   "attachments": {},
   "cell_type": "markdown",
   "metadata": {},
   "source": [
    "### Step 2: Outlier Value Evaluation\n",
    "\n",
    "From the above results, we can see which cases may be anomalous, however just knowing whether a case is potentially an anomaly doesn't give us all the information we need to make an informed decision. If we are deciding whether to prune a case from our training set, often we only want to prune erroneous values. Even if a case is an anomaly in terms of distance or value, if it is valid we may still leave it in as it represents a legitimate data point. \n",
    "\n",
    "By looking at the `Case Feature Residual Convictions`, we can gain some insight as to why a case was deemed anomalous."
   ]
  },
  {
   "cell_type": "code",
   "execution_count": 7,
   "metadata": {
    "execution": {
     "iopub.execute_input": "2025-10-25T03:28:03.908501Z",
     "iopub.status.busy": "2025-10-25T03:28:03.908323Z",
     "iopub.status.idle": "2025-10-25T03:28:04.682104Z",
     "shell.execute_reply": "2025-10-25T03:28:04.681276Z"
    }
   },
   "outputs": [],
   "source": [
    "# We add a few extra metrics for subsequent examples in this notebook\n",
    "# Get the case_feature_residual_convictions, influential_cases and boundary_cases\n",
    "details = {\n",
    "    'influential_cases': True,\n",
    "    'feature_full_residual_convictions_for_case': True\n",
    "}\n",
    "\n",
    "# Specify outlier cases\n",
    "outliers_indices = outliers[['.session', '.session_training_index']].values\n",
    "\n",
    "# Residuals must be computed and cached for some of these details\n",
    "t.react_aggregate(details = {\"feature_full_residuals\": True}).to_dataframe()\n",
    "\n",
    "# React to get the details of each anomalous case\n",
    "#   Specify trained cases to react to with 'case_indices'\n",
    "results = t.react(\n",
    "    case_indices=outliers_indices,\n",
    "    preserve_feature_values=df.columns.tolist(),\n",
    "    leave_case_out=True,\n",
    "    details=details\n",
    ")\n",
    "\n",
    "outlier_case_feature_residual_convictions = pd.DataFrame(\n",
    "    results['details']['feature_full_residual_convictions_for_case']\n",
    ")[df.columns.tolist()]"
   ]
  },
  {
   "cell_type": "code",
   "execution_count": 8,
   "metadata": {
    "execution": {
     "iopub.execute_input": "2025-10-25T03:28:04.684223Z",
     "iopub.status.busy": "2025-10-25T03:28:04.683994Z",
     "iopub.status.idle": "2025-10-25T03:28:07.850547Z",
     "shell.execute_reply": "2025-10-25T03:28:07.849733Z"
    }
   },
   "outputs": [
    {
     "data": {
      "image/svg+xml": [
       "<svg class=\"main-svg\" xmlns=\"http://www.w3.org/2000/svg\" xmlns:xlink=\"http://www.w3.org/1999/xlink\" width=\"1500\" height=\"750\" style=\"\" viewBox=\"0 0 1500 750\"><rect x=\"0\" y=\"0\" width=\"1500\" height=\"750\" style=\"fill: rgb(255, 255, 255); fill-opacity: 1;\"/><defs id=\"defs-7a1607\"><g class=\"clips\"><clipPath id=\"clip7a1607xyplot\" class=\"plotclip\"><rect width=\"1297\" height=\"570\"/></clipPath><clipPath class=\"axesclip\" id=\"clip7a1607x\"><rect x=\"80\" y=\"0\" width=\"1297\" height=\"750\"/></clipPath><clipPath class=\"axesclip\" id=\"clip7a1607y\"><rect x=\"0\" y=\"100\" width=\"1500\" height=\"570\"/></clipPath><clipPath class=\"axesclip\" id=\"clip7a1607xy\"><rect x=\"80\" y=\"100\" width=\"1297\" height=\"570\"/></clipPath></g><g class=\"gradients\"><linearGradient x1=\"0\" y1=\"1\" x2=\"0\" y2=\"0\" gradientUnits=\"objectBoundingBox\" id=\"g7a1607-cbcoloraxis\"><stop offset=\"0%\" stop-color=\"rgb(103, 0, 31)\" stop-opacity=\"1\"/><stop offset=\"20%\" stop-color=\"rgb(247, 247, 247)\" stop-opacity=\"1\"/><stop offset=\"40%\" stop-color=\"rgb(67, 147, 195)\" stop-opacity=\"1\"/><stop offset=\"100%\" stop-color=\"rgb(5, 48, 97)\" stop-opacity=\"1\"/></linearGradient></g><g class=\"patterns\"/></defs><g class=\"bglayer\"><rect class=\"bg\" x=\"80\" y=\"100\" width=\"1297\" height=\"570\" style=\"fill: rgb(229, 236, 246); fill-opacity: 1; stroke-width: 0;\"/></g><g class=\"layer-below\"><g class=\"imagelayer\"/><g class=\"shapelayer\"/></g><g class=\"cartesianlayer\"><g class=\"subplot xy\"><g class=\"layer-subplot\"><g class=\"shapelayer\"/><g class=\"imagelayer\"/></g><g class=\"minor-gridlayer\"><g class=\"x\"/><g class=\"y\"/></g><g class=\"gridlayer\"><g class=\"x\"><path class=\"xgrid crisp\" transform=\"translate(123.22999999999999,0)\" d=\"M0,100v570\" style=\"stroke: rgb(255, 255, 255); stroke-opacity: 1; stroke-width: 1px;\"/><path class=\"xgrid crisp\" transform=\"translate(209.7,0)\" d=\"M0,100v570\" style=\"stroke: rgb(255, 255, 255); stroke-opacity: 1; stroke-width: 1px;\"/><path class=\"xgrid crisp\" transform=\"translate(296.16999999999996,0)\" d=\"M0,100v570\" style=\"stroke: rgb(255, 255, 255); stroke-opacity: 1; stroke-width: 1px;\"/><path class=\"xgrid crisp\" transform=\"translate(382.63,0)\" d=\"M0,100v570\" style=\"stroke: rgb(255, 255, 255); stroke-opacity: 1; stroke-width: 1px;\"/><path class=\"xgrid crisp\" transform=\"translate(469.1,0)\" d=\"M0,100v570\" style=\"stroke: rgb(255, 255, 255); stroke-opacity: 1; stroke-width: 1px;\"/><path class=\"xgrid crisp\" transform=\"translate(555.5699999999999,0)\" d=\"M0,100v570\" style=\"stroke: rgb(255, 255, 255); stroke-opacity: 1; stroke-width: 1px;\"/><path class=\"xgrid crisp\" transform=\"translate(642.03,0)\" d=\"M0,100v570\" style=\"stroke: rgb(255, 255, 255); stroke-opacity: 1; stroke-width: 1px;\"/><path class=\"xgrid crisp\" transform=\"translate(728.5,0)\" d=\"M0,100v570\" style=\"stroke: rgb(255, 255, 255); stroke-opacity: 1; stroke-width: 1px;\"/><path class=\"xgrid crisp\" transform=\"translate(814.97,0)\" d=\"M0,100v570\" style=\"stroke: rgb(255, 255, 255); stroke-opacity: 1; stroke-width: 1px;\"/><path class=\"xgrid crisp\" transform=\"translate(901.43,0)\" d=\"M0,100v570\" style=\"stroke: rgb(255, 255, 255); stroke-opacity: 1; stroke-width: 1px;\"/><path class=\"xgrid crisp\" transform=\"translate(987.9,0)\" d=\"M0,100v570\" style=\"stroke: rgb(255, 255, 255); stroke-opacity: 1; stroke-width: 1px;\"/><path class=\"xgrid crisp\" transform=\"translate(1074.37,0)\" d=\"M0,100v570\" style=\"stroke: rgb(255, 255, 255); stroke-opacity: 1; stroke-width: 1px;\"/><path class=\"xgrid crisp\" transform=\"translate(1160.83,0)\" d=\"M0,100v570\" style=\"stroke: rgb(255, 255, 255); stroke-opacity: 1; stroke-width: 1px;\"/><path class=\"xgrid crisp\" transform=\"translate(1247.3,0)\" d=\"M0,100v570\" style=\"stroke: rgb(255, 255, 255); stroke-opacity: 1; stroke-width: 1px;\"/><path class=\"xgrid crisp\" transform=\"translate(1333.77,0)\" d=\"M0,100v570\" style=\"stroke: rgb(255, 255, 255); stroke-opacity: 1; stroke-width: 1px;\"/></g><g class=\"y\"><path class=\"ygrid crisp\" transform=\"translate(0,613)\" d=\"M80,0h1297\" style=\"stroke: rgb(255, 255, 255); stroke-opacity: 1; stroke-width: 1px;\"/><path class=\"ygrid crisp\" transform=\"translate(0,499)\" d=\"M80,0h1297\" style=\"stroke: rgb(255, 255, 255); stroke-opacity: 1; stroke-width: 1px;\"/><path class=\"ygrid crisp\" transform=\"translate(0,385)\" d=\"M80,0h1297\" style=\"stroke: rgb(255, 255, 255); stroke-opacity: 1; stroke-width: 1px;\"/><path class=\"ygrid crisp\" transform=\"translate(0,271)\" d=\"M80,0h1297\" style=\"stroke: rgb(255, 255, 255); stroke-opacity: 1; stroke-width: 1px;\"/></g></g><g class=\"zerolinelayer\"><path class=\"yzl zl crisp\" transform=\"translate(0,157)\" d=\"M80,0h1297\" style=\"stroke: rgb(255, 255, 255); stroke-opacity: 1; stroke-width: 2px;\"/></g><g class=\"layer-between\"><g class=\"shapelayer\"/><g class=\"imagelayer\"/></g><path class=\"xlines-below\"/><path class=\"ylines-below\"/><g class=\"overlines-below\"/><g class=\"xaxislayer-below\"/><g class=\"yaxislayer-below\"/><g class=\"overaxes-below\"/><g class=\"overplot\"><g class=\"xy\" transform=\"translate(80,100)\" clip-path=\"url(#clip7a1607xyplot)\"><g class=\"heatmaplayer mlayer\"><g class=\"hm\"><image xmlns=\"http://www.w3.org/2000/svg\" preserveAspectRatio=\"none\" height=\"570\" width=\"1297\" x=\"0\" y=\"0\" xlink:href=\"data:image/png;base64,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\" style=\"opacity: 1;\"/><g class=\"heatmap-label\"><text text-anchor=\"middle\" data-notex=\"1\" x=\"43\" y=\"61.2\" style=\"font-family: 'Open Sans', verdana, arial, sans-serif; font-size: 12px; fill: rgb(255, 255, 255); fill-opacity: 1; white-space: pre;\">30.0</text></g><g class=\"heatmap-label\"><text text-anchor=\"middle\" data-notex=\"1\" x=\"130\" y=\"61.2\" style=\"font-family: 'Open Sans', verdana, arial, sans-serif; font-size: 12px; fill: rgb(68, 68, 68); fill-opacity: 1; white-space: pre;\">4</text></g><g class=\"heatmap-label\"><text text-anchor=\"middle\" data-notex=\"1\" x=\"216\" y=\"61.2\" style=\"font-family: 'Open Sans', verdana, arial, sans-serif; font-size: 12px; fill: rgb(255, 255, 255); fill-opacity: 1; white-space: pre;\">193598.0</text></g><g class=\"heatmap-label\"><text text-anchor=\"middle\" data-notex=\"1\" x=\"303\" y=\"61.2\" style=\"font-family: 'Open Sans', verdana, arial, sans-serif; font-size: 12px; fill: rgb(255, 255, 255); fill-opacity: 1; white-space: pre;\">13</text></g><g class=\"heatmap-label\"><text text-anchor=\"middle\" data-notex=\"1\" x=\"389\" y=\"61.2\" style=\"font-family: 'Open Sans', verdana, arial, sans-serif; font-size: 12px; fill: rgb(255, 255, 255); fill-opacity: 1; white-space: pre;\">1.0</text></g><g class=\"heatmap-label\"><text text-anchor=\"middle\" data-notex=\"1\" x=\"476\" y=\"61.2\" style=\"font-family: 'Open Sans', verdana, arial, sans-serif; font-size: 12px; fill: rgb(255, 255, 255); fill-opacity: 1; white-space: pre;\">4</text></g><g class=\"heatmap-label\"><text text-anchor=\"middle\" data-notex=\"1\" x=\"562\" y=\"61.2\" style=\"font-family: 'Open Sans', verdana, arial, sans-serif; font-size: 12px; fill: rgb(68, 68, 68); fill-opacity: 1; white-space: pre;\">5</text></g><g class=\"heatmap-label\"><text text-anchor=\"middle\" data-notex=\"1\" x=\"649\" y=\"61.2\" style=\"font-family: 'Open Sans', verdana, arial, sans-serif; font-size: 12px; fill: rgb(255, 255, 255); fill-opacity: 1; white-space: pre;\">1</text></g><g class=\"heatmap-label\"><text text-anchor=\"middle\" data-notex=\"1\" x=\"735\" y=\"61.2\" style=\"font-family: 'Open Sans', verdana, arial, sans-serif; font-size: 12px; fill: rgb(255, 255, 255); fill-opacity: 1; white-space: pre;\">4</text></g><g class=\"heatmap-label\"><text text-anchor=\"middle\" data-notex=\"1\" x=\"821\" y=\"61.2\" style=\"font-family: 'Open Sans', verdana, arial, sans-serif; font-size: 12px; fill: rgb(68, 68, 68); fill-opacity: 1; white-space: pre;\">1</text></g><g class=\"heatmap-label\"><text text-anchor=\"middle\" data-notex=\"1\" x=\"908\" y=\"61.2\" style=\"font-family: 'Open Sans', verdana, arial, sans-serif; font-size: 12px; fill: rgb(255, 255, 255); fill-opacity: 1; white-space: pre;\">0.0</text></g><g class=\"heatmap-label\"><text text-anchor=\"middle\" data-notex=\"1\" x=\"994\" y=\"61.2\" style=\"font-family: 'Open Sans', verdana, arial, sans-serif; font-size: 12px; fill: rgb(255, 255, 255); fill-opacity: 1; white-space: pre;\">0.0</text></g><g class=\"heatmap-label\"><text text-anchor=\"middle\" data-notex=\"1\" x=\"1081\" y=\"61.2\" style=\"font-family: 'Open Sans', verdana, arial, sans-serif; font-size: 12px; fill: rgb(255, 255, 255); fill-opacity: 1; white-space: pre;\">40.0</text></g><g class=\"heatmap-label\"><text text-anchor=\"middle\" data-notex=\"1\" x=\"1167\" y=\"61.2\" style=\"font-family: 'Open Sans', verdana, arial, sans-serif; font-size: 12px; fill: rgb(255, 255, 255); fill-opacity: 1; white-space: pre;\">26</text></g><g class=\"heatmap-label\"><text text-anchor=\"middle\" data-notex=\"1\" x=\"1254\" y=\"61.2\" style=\"font-family: 'Open Sans', verdana, arial, sans-serif; font-size: 12px; fill: rgb(255, 255, 255); fill-opacity: 1; white-space: pre;\">1</text></g><g class=\"heatmap-label\"><text text-anchor=\"middle\" data-notex=\"1\" x=\"43\" y=\"175.2\" style=\"font-family: 'Open Sans', verdana, arial, sans-serif; font-size: 12px; fill: rgb(68, 68, 68); fill-opacity: 1; white-space: pre;\">23.0</text></g><g class=\"heatmap-label\"><text text-anchor=\"middle\" data-notex=\"1\" x=\"130\" y=\"175.2\" style=\"font-family: 'Open Sans', verdana, arial, sans-serif; font-size: 12px; fill: rgb(68, 68, 68); fill-opacity: 1; white-space: pre;\">4</text></g><g class=\"heatmap-label\"><text text-anchor=\"middle\" data-notex=\"1\" x=\"216\" y=\"175.2\" style=\"font-family: 'Open Sans', verdana, arial, sans-serif; font-size: 12px; fill: rgb(68, 68, 68); fill-opacity: 1; white-space: pre;\">240049.0</text></g><g class=\"heatmap-label\"><text text-anchor=\"middle\" data-notex=\"1\" x=\"303\" y=\"175.2\" style=\"font-family: 'Open Sans', verdana, arial, sans-serif; font-size: 12px; fill: rgb(255, 255, 255); fill-opacity: 1; white-space: pre;\">13</text></g><g class=\"heatmap-label\"><text text-anchor=\"middle\" data-notex=\"1\" x=\"389\" y=\"175.2\" style=\"font-family: 'Open Sans', verdana, arial, sans-serif; font-size: 12px; fill: rgb(255, 255, 255); fill-opacity: 1; white-space: pre;\">1.0</text></g><g class=\"heatmap-label\"><text text-anchor=\"middle\" data-notex=\"1\" x=\"476\" y=\"175.2\" style=\"font-family: 'Open Sans', verdana, arial, sans-serif; font-size: 12px; fill: rgb(255, 255, 255); fill-opacity: 1; white-space: pre;\">4</text></g><g class=\"heatmap-label\"><text text-anchor=\"middle\" data-notex=\"1\" x=\"562\" y=\"175.2\" style=\"font-family: 'Open Sans', verdana, arial, sans-serif; font-size: 12px; fill: rgb(68, 68, 68); fill-opacity: 1; white-space: pre;\">8</text></g><g class=\"heatmap-label\"><text text-anchor=\"middle\" data-notex=\"1\" x=\"649\" y=\"175.2\" style=\"font-family: 'Open Sans', verdana, arial, sans-serif; font-size: 12px; fill: rgb(255, 255, 255); fill-opacity: 1; white-space: pre;\">1</text></g><g class=\"heatmap-label\"><text text-anchor=\"middle\" data-notex=\"1\" x=\"735\" y=\"175.2\" style=\"font-family: 'Open Sans', verdana, arial, sans-serif; font-size: 12px; fill: rgb(255, 255, 255); fill-opacity: 1; white-space: pre;\">1</text></g><g class=\"heatmap-label\"><text text-anchor=\"middle\" data-notex=\"1\" x=\"821\" y=\"175.2\" style=\"font-family: 'Open Sans', verdana, arial, sans-serif; font-size: 12px; fill: rgb(255, 255, 255); fill-opacity: 1; white-space: pre;\">0</text></g><g class=\"heatmap-label\"><text text-anchor=\"middle\" data-notex=\"1\" x=\"908\" y=\"175.2\" style=\"font-family: 'Open Sans', verdana, arial, sans-serif; font-size: 12px; fill: rgb(255, 255, 255); fill-opacity: 1; white-space: pre;\">0.0</text></g><g class=\"heatmap-label\"><text text-anchor=\"middle\" data-notex=\"1\" x=\"994\" y=\"175.2\" style=\"font-family: 'Open Sans', verdana, arial, sans-serif; font-size: 12px; fill: rgb(68, 68, 68); fill-opacity: 1; white-space: pre;\">0.0</text></g><g class=\"heatmap-label\"><text text-anchor=\"middle\" data-notex=\"1\" x=\"1081\" y=\"175.2\" style=\"font-family: 'Open Sans', verdana, arial, sans-serif; font-size: 12px; fill: rgb(255, 255, 255); fill-opacity: 1; white-space: pre;\">40.0</text></g><g class=\"heatmap-label\"><text text-anchor=\"middle\" data-notex=\"1\" x=\"1167\" y=\"175.2\" style=\"font-family: 'Open Sans', verdana, arial, sans-serif; font-size: 12px; fill: rgb(255, 255, 255); fill-opacity: 1; white-space: pre;\">25</text></g><g class=\"heatmap-label\"><text text-anchor=\"middle\" data-notex=\"1\" x=\"1254\" y=\"175.2\" style=\"font-family: 'Open Sans', verdana, arial, sans-serif; font-size: 12px; fill: rgb(255, 255, 255); fill-opacity: 1; white-space: pre;\">1</text></g><g class=\"heatmap-label\"><text text-anchor=\"middle\" data-notex=\"1\" x=\"43\" y=\"289.2\" style=\"font-family: 'Open Sans', verdana, arial, sans-serif; font-size: 12px; fill: rgb(68, 68, 68); fill-opacity: 1; white-space: pre;\">65.0</text></g><g class=\"heatmap-label\"><text text-anchor=\"middle\" data-notex=\"1\" x=\"130\" y=\"289.2\" style=\"font-family: 'Open Sans', verdana, arial, sans-serif; font-size: 12px; fill: rgb(68, 68, 68); fill-opacity: 1; white-space: pre;\">5</text></g><g class=\"heatmap-label\"><text text-anchor=\"middle\" data-notex=\"1\" x=\"216\" y=\"289.2\" style=\"font-family: 'Open Sans', verdana, arial, sans-serif; font-size: 12px; fill: rgb(68, 68, 68); fill-opacity: 1; white-space: pre;\">184965.0</text></g><g class=\"heatmap-label\"><text text-anchor=\"middle\" data-notex=\"1\" x=\"303\" y=\"289.2\" style=\"font-family: 'Open Sans', verdana, arial, sans-serif; font-size: 12px; fill: rgb(68, 68, 68); fill-opacity: 1; white-space: pre;\">10</text></g><g class=\"heatmap-label\"><text text-anchor=\"middle\" data-notex=\"1\" x=\"389\" y=\"289.2\" style=\"font-family: 'Open Sans', verdana, arial, sans-serif; font-size: 12px; fill: rgb(255, 255, 255); fill-opacity: 1; white-space: pre;\">16.0</text></g><g class=\"heatmap-label\"><text text-anchor=\"middle\" data-notex=\"1\" x=\"476\" y=\"289.2\" style=\"font-family: 'Open Sans', verdana, arial, sans-serif; font-size: 12px; fill: rgb(68, 68, 68); fill-opacity: 1; white-space: pre;\">2</text></g><g class=\"heatmap-label\"><text text-anchor=\"middle\" data-notex=\"1\" x=\"562\" y=\"289.2\" style=\"font-family: 'Open Sans', verdana, arial, sans-serif; font-size: 12px; fill: rgb(255, 255, 255); fill-opacity: 1; white-space: pre;\">4</text></g><g class=\"heatmap-label\"><text text-anchor=\"middle\" data-notex=\"1\" x=\"649\" y=\"289.2\" style=\"font-family: 'Open Sans', verdana, arial, sans-serif; font-size: 12px; fill: rgb(68, 68, 68); fill-opacity: 1; white-space: pre;\">0</text></g><g class=\"heatmap-label\"><text text-anchor=\"middle\" data-notex=\"1\" x=\"735\" y=\"289.2\" style=\"font-family: 'Open Sans', verdana, arial, sans-serif; font-size: 12px; fill: rgb(255, 255, 255); fill-opacity: 1; white-space: pre;\">4</text></g><g class=\"heatmap-label\"><text text-anchor=\"middle\" data-notex=\"1\" x=\"821\" y=\"289.2\" style=\"font-family: 'Open Sans', verdana, arial, sans-serif; font-size: 12px; fill: rgb(68, 68, 68); fill-opacity: 1; white-space: pre;\">1</text></g><g class=\"heatmap-label\"><text text-anchor=\"middle\" data-notex=\"1\" x=\"908\" y=\"289.2\" style=\"font-family: 'Open Sans', verdana, arial, sans-serif; font-size: 12px; fill: rgb(255, 255, 255); fill-opacity: 1; white-space: pre;\">99999.0</text></g><g class=\"heatmap-label\"><text text-anchor=\"middle\" data-notex=\"1\" x=\"994\" y=\"289.2\" style=\"font-family: 'Open Sans', verdana, arial, sans-serif; font-size: 12px; fill: rgb(255, 255, 255); fill-opacity: 1; white-space: pre;\">0.0</text></g><g class=\"heatmap-label\"><text text-anchor=\"middle\" data-notex=\"1\" x=\"1081\" y=\"289.2\" style=\"font-family: 'Open Sans', verdana, arial, sans-serif; font-size: 12px; fill: rgb(68, 68, 68); fill-opacity: 1; white-space: pre;\">40.0</text></g><g class=\"heatmap-label\"><text text-anchor=\"middle\" data-notex=\"1\" x=\"1167\" y=\"289.2\" style=\"font-family: 'Open Sans', verdana, arial, sans-serif; font-size: 12px; fill: rgb(255, 255, 255); fill-opacity: 1; white-space: pre;\">39</text></g><g class=\"heatmap-label\"><text text-anchor=\"middle\" data-notex=\"1\" x=\"1254\" y=\"289.2\" style=\"font-family: 'Open Sans', verdana, arial, sans-serif; font-size: 12px; fill: rgb(255, 255, 255); fill-opacity: 1; white-space: pre;\">0</text></g><g class=\"heatmap-label\"><text text-anchor=\"middle\" data-notex=\"1\" x=\"43\" y=\"403.2\" style=\"font-family: 'Open Sans', verdana, arial, sans-serif; font-size: 12px; fill: rgb(68, 68, 68); fill-opacity: 1; white-space: pre;\">28.0</text></g><g class=\"heatmap-label\"><text text-anchor=\"middle\" data-notex=\"1\" x=\"130\" y=\"403.2\" style=\"font-family: 'Open Sans', verdana, arial, sans-serif; font-size: 12px; fill: rgb(68, 68, 68); fill-opacity: 1; white-space: pre;\">4</text></g><g class=\"heatmap-label\"><text text-anchor=\"middle\" data-notex=\"1\" x=\"216\" y=\"403.2\" style=\"font-family: 'Open Sans', verdana, arial, sans-serif; font-size: 12px; fill: rgb(68, 68, 68); fill-opacity: 1; white-space: pre;\">126060.0</text></g><g class=\"heatmap-label\"><text text-anchor=\"middle\" data-notex=\"1\" x=\"303\" y=\"403.2\" style=\"font-family: 'Open Sans', verdana, arial, sans-serif; font-size: 12px; fill: rgb(68, 68, 68); fill-opacity: 1; white-space: pre;\">11</text></g><g class=\"heatmap-label\"><text text-anchor=\"middle\" data-notex=\"1\" x=\"389\" y=\"403.2\" style=\"font-family: 'Open Sans', verdana, arial, sans-serif; font-size: 12px; fill: rgb(255, 255, 255); fill-opacity: 1; white-space: pre;\">9.0</text></g><g class=\"heatmap-label\"><text text-anchor=\"middle\" data-notex=\"1\" x=\"476\" y=\"403.2\" style=\"font-family: 'Open Sans', verdana, arial, sans-serif; font-size: 12px; fill: rgb(255, 255, 255); fill-opacity: 1; white-space: pre;\">2</text></g><g class=\"heatmap-label\"><text text-anchor=\"middle\" data-notex=\"1\" x=\"562\" y=\"403.2\" style=\"font-family: 'Open Sans', verdana, arial, sans-serif; font-size: 12px; fill: rgb(68, 68, 68); fill-opacity: 1; white-space: pre;\">1</text></g><g class=\"heatmap-label\"><text text-anchor=\"middle\" data-notex=\"1\" x=\"649\" y=\"403.2\" style=\"font-family: 'Open Sans', verdana, arial, sans-serif; font-size: 12px; fill: rgb(255, 255, 255); fill-opacity: 1; white-space: pre;\">5</text></g><g class=\"heatmap-label\"><text text-anchor=\"middle\" data-notex=\"1\" x=\"735\" y=\"403.2\" style=\"font-family: 'Open Sans', verdana, arial, sans-serif; font-size: 12px; fill: rgb(68, 68, 68); fill-opacity: 1; white-space: pre;\">4</text></g><g class=\"heatmap-label\"><text text-anchor=\"middle\" data-notex=\"1\" x=\"821\" y=\"403.2\" style=\"font-family: 'Open Sans', verdana, arial, sans-serif; font-size: 12px; fill: rgb(68, 68, 68); fill-opacity: 1; white-space: pre;\">0</text></g><g class=\"heatmap-label\"><text text-anchor=\"middle\" data-notex=\"1\" x=\"908\" y=\"403.2\" style=\"font-family: 'Open Sans', verdana, arial, sans-serif; font-size: 12px; fill: rgb(255, 255, 255); fill-opacity: 1; white-space: pre;\">99999.0</text></g><g class=\"heatmap-label\"><text text-anchor=\"middle\" data-notex=\"1\" x=\"994\" y=\"403.2\" style=\"font-family: 'Open Sans', verdana, arial, sans-serif; font-size: 12px; fill: rgb(255, 255, 255); fill-opacity: 1; white-space: pre;\">0.0</text></g><g class=\"heatmap-label\"><text text-anchor=\"middle\" data-notex=\"1\" x=\"1081\" y=\"403.2\" style=\"font-family: 'Open Sans', verdana, arial, sans-serif; font-size: 12px; fill: rgb(68, 68, 68); fill-opacity: 1; white-space: pre;\">36.0</text></g><g class=\"heatmap-label\"><text text-anchor=\"middle\" data-notex=\"1\" x=\"1167\" y=\"403.2\" style=\"font-family: 'Open Sans', verdana, arial, sans-serif; font-size: 12px; fill: rgb(68, 68, 68); fill-opacity: 1; white-space: pre;\">39</text></g><g class=\"heatmap-label\"><text text-anchor=\"middle\" data-notex=\"1\" x=\"1254\" y=\"403.2\" style=\"font-family: 'Open Sans', verdana, arial, sans-serif; font-size: 12px; fill: rgb(68, 68, 68); fill-opacity: 1; white-space: pre;\">0</text></g><g class=\"heatmap-label\"><text text-anchor=\"middle\" data-notex=\"1\" x=\"43\" y=\"517.2\" style=\"font-family: 'Open Sans', verdana, arial, sans-serif; font-size: 12px; fill: rgb(255, 255, 255); fill-opacity: 1; white-space: pre;\">46.0</text></g><g class=\"heatmap-label\"><text text-anchor=\"middle\" data-notex=\"1\" x=\"130\" y=\"517.2\" style=\"font-family: 'Open Sans', verdana, arial, sans-serif; font-size: 12px; fill: rgb(68, 68, 68); fill-opacity: 1; white-space: pre;\">5</text></g><g class=\"heatmap-label\"><text text-anchor=\"middle\" data-notex=\"1\" x=\"216\" y=\"517.2\" style=\"font-family: 'Open Sans', verdana, arial, sans-serif; font-size: 12px; fill: rgb(255, 255, 255); fill-opacity: 1; white-space: pre;\">198660.0</text></g><g class=\"heatmap-label\"><text text-anchor=\"middle\" data-notex=\"1\" x=\"303\" y=\"517.2\" style=\"font-family: 'Open Sans', verdana, arial, sans-serif; font-size: 12px; fill: rgb(68, 68, 68); fill-opacity: 1; white-space: pre;\">9</text></g><g class=\"heatmap-label\"><text text-anchor=\"middle\" data-notex=\"1\" x=\"389\" y=\"517.2\" style=\"font-family: 'Open Sans', verdana, arial, sans-serif; font-size: 12px; fill: rgb(68, 68, 68); fill-opacity: 1; white-space: pre;\">13.0</text></g><g class=\"heatmap-label\"><text text-anchor=\"middle\" data-notex=\"1\" x=\"476\" y=\"517.2\" style=\"font-family: 'Open Sans', verdana, arial, sans-serif; font-size: 12px; fill: rgb(255, 255, 255); fill-opacity: 1; white-space: pre;\">2</text></g><g class=\"heatmap-label\"><text text-anchor=\"middle\" data-notex=\"1\" x=\"562\" y=\"517.2\" style=\"font-family: 'Open Sans', verdana, arial, sans-serif; font-size: 12px; fill: rgb(68, 68, 68); fill-opacity: 1; white-space: pre;\">12</text></g><g class=\"heatmap-label\"><text text-anchor=\"middle\" data-notex=\"1\" x=\"649\" y=\"517.2\" style=\"font-family: 'Open Sans', verdana, arial, sans-serif; font-size: 12px; fill: rgb(255, 255, 255); fill-opacity: 1; white-space: pre;\">0</text></g><g class=\"heatmap-label\"><text text-anchor=\"middle\" data-notex=\"1\" x=\"735\" y=\"517.2\" style=\"font-family: 'Open Sans', verdana, arial, sans-serif; font-size: 12px; fill: rgb(255, 255, 255); fill-opacity: 1; white-space: pre;\">4</text></g><g class=\"heatmap-label\"><text text-anchor=\"middle\" data-notex=\"1\" x=\"821\" y=\"517.2\" style=\"font-family: 'Open Sans', verdana, arial, sans-serif; font-size: 12px; fill: rgb(255, 255, 255); fill-opacity: 1; white-space: pre;\">1</text></g><g class=\"heatmap-label\"><text text-anchor=\"middle\" data-notex=\"1\" x=\"908\" y=\"517.2\" style=\"font-family: 'Open Sans', verdana, arial, sans-serif; font-size: 12px; fill: rgb(255, 255, 255); fill-opacity: 1; white-space: pre;\">99999.0</text></g><g class=\"heatmap-label\"><text text-anchor=\"middle\" data-notex=\"1\" x=\"994\" y=\"517.2\" style=\"font-family: 'Open Sans', verdana, arial, sans-serif; font-size: 12px; fill: rgb(68, 68, 68); fill-opacity: 1; white-space: pre;\">0.0</text></g><g class=\"heatmap-label\"><text text-anchor=\"middle\" data-notex=\"1\" x=\"1081\" y=\"517.2\" style=\"font-family: 'Open Sans', verdana, arial, sans-serif; font-size: 12px; fill: rgb(68, 68, 68); fill-opacity: 1; white-space: pre;\">72.0</text></g><g class=\"heatmap-label\"><text text-anchor=\"middle\" data-notex=\"1\" x=\"1167\" y=\"517.2\" style=\"font-family: 'Open Sans', verdana, arial, sans-serif; font-size: 12px; fill: rgb(68, 68, 68); fill-opacity: 1; white-space: pre;\">39</text></g><g class=\"heatmap-label\"><text text-anchor=\"middle\" data-notex=\"1\" x=\"1254\" y=\"517.2\" style=\"font-family: 'Open Sans', verdana, arial, sans-serif; font-size: 12px; fill: rgb(68, 68, 68); fill-opacity: 1; white-space: pre;\">0</text></g></g></g></g></g><path class=\"xlines-above crisp\" d=\"M0,0\" style=\"fill: none;\"/><path class=\"ylines-above crisp\" d=\"M0,0\" style=\"fill: none;\"/><g class=\"overlines-above\"/><g class=\"xaxislayer-above\"><g class=\"xtick\"><text text-anchor=\"middle\" x=\"0\" y=\"683\" transform=\"translate(123.22999999999999,0)\" style=\"font-family: 'Open Sans', verdana, arial, sans-serif; font-size: 12px; fill: rgb(42, 63, 95); fill-opacity: 1; white-space: pre; opacity: 1;\">age</text></g><g class=\"xtick\"><text text-anchor=\"middle\" x=\"0\" y=\"683\" transform=\"translate(209.7,0)\" style=\"font-family: 'Open Sans', verdana, arial, sans-serif; font-size: 12px; fill: rgb(42, 63, 95); fill-opacity: 1; white-space: pre; opacity: 1;\">workclass</text></g><g class=\"xtick\"><text text-anchor=\"middle\" x=\"0\" y=\"683\" transform=\"translate(296.16999999999996,0)\" style=\"font-family: 'Open Sans', verdana, arial, sans-serif; font-size: 12px; fill: rgb(42, 63, 95); fill-opacity: 1; white-space: pre; opacity: 1;\">fnlwgt</text></g><g class=\"xtick\"><text text-anchor=\"middle\" x=\"0\" y=\"683\" transform=\"translate(382.63,0)\" style=\"font-family: 'Open Sans', verdana, arial, sans-serif; font-size: 12px; fill: rgb(42, 63, 95); fill-opacity: 1; white-space: pre; opacity: 1;\">education</text></g><g class=\"xtick\"><text text-anchor=\"middle\" x=\"0\" y=\"683\" transform=\"translate(469.1,0)\" style=\"font-family: 'Open Sans', verdana, arial, sans-serif; font-size: 12px; fill: rgb(42, 63, 95); fill-opacity: 1; white-space: pre; opacity: 1;\">education-num</text></g><g class=\"xtick\"><text text-anchor=\"middle\" x=\"0\" y=\"683\" transform=\"translate(555.5699999999999,0)\" style=\"font-family: 'Open Sans', verdana, arial, sans-serif; font-size: 12px; fill: rgb(42, 63, 95); fill-opacity: 1; white-space: pre; opacity: 1;\">marital-status</text></g><g class=\"xtick\"><text text-anchor=\"middle\" x=\"0\" y=\"683\" transform=\"translate(642.03,0)\" style=\"font-family: 'Open Sans', verdana, arial, sans-serif; font-size: 12px; fill: rgb(42, 63, 95); fill-opacity: 1; white-space: pre; opacity: 1;\">occupation</text></g><g class=\"xtick\"><text text-anchor=\"middle\" x=\"0\" y=\"683\" transform=\"translate(728.5,0)\" style=\"font-family: 'Open Sans', verdana, arial, sans-serif; font-size: 12px; fill: rgb(42, 63, 95); fill-opacity: 1; white-space: pre; opacity: 1;\">relationship</text></g><g class=\"xtick\"><text text-anchor=\"middle\" x=\"0\" y=\"683\" transform=\"translate(814.97,0)\" style=\"font-family: 'Open Sans', verdana, arial, sans-serif; font-size: 12px; fill: rgb(42, 63, 95); fill-opacity: 1; white-space: pre; opacity: 1;\">race</text></g><g class=\"xtick\"><text text-anchor=\"middle\" x=\"0\" y=\"683\" transform=\"translate(901.43,0)\" style=\"font-family: 'Open Sans', verdana, arial, sans-serif; font-size: 12px; fill: rgb(42, 63, 95); fill-opacity: 1; white-space: pre; opacity: 1;\">sex</text></g><g class=\"xtick\"><text text-anchor=\"middle\" x=\"0\" y=\"683\" transform=\"translate(987.9,0)\" style=\"font-family: 'Open Sans', verdana, arial, sans-serif; font-size: 12px; fill: rgb(42, 63, 95); fill-opacity: 1; white-space: pre; opacity: 1;\">capital-gain</text></g><g class=\"xtick\"><text text-anchor=\"middle\" x=\"0\" y=\"683\" transform=\"translate(1074.37,0)\" style=\"font-family: 'Open Sans', verdana, arial, sans-serif; font-size: 12px; fill: rgb(42, 63, 95); fill-opacity: 1; white-space: pre; opacity: 1;\">capital-loss</text></g><g class=\"xtick\"><text text-anchor=\"middle\" x=\"0\" y=\"683\" transform=\"translate(1160.83,0)\" style=\"font-family: 'Open Sans', verdana, arial, sans-serif; font-size: 12px; fill: rgb(42, 63, 95); fill-opacity: 1; white-space: pre; opacity: 1;\">hours-per-week</text></g><g class=\"xtick\"><text text-anchor=\"middle\" x=\"0\" y=\"683\" transform=\"translate(1247.3,0)\" style=\"font-family: 'Open Sans', verdana, arial, sans-serif; font-size: 12px; fill: rgb(42, 63, 95); fill-opacity: 1; white-space: pre; opacity: 1;\">native-country</text></g><g class=\"xtick\"><text text-anchor=\"middle\" x=\"0\" y=\"683\" transform=\"translate(1333.77,0)\" style=\"font-family: 'Open Sans', verdana, arial, sans-serif; font-size: 12px; fill: rgb(42, 63, 95); fill-opacity: 1; white-space: pre; opacity: 1;\">target</text></g></g><g class=\"yaxislayer-above\"><g class=\"ytick\"><text text-anchor=\"end\" x=\"79\" y=\"4.199999999999999\" transform=\"translate(0,613)\" style=\"font-family: 'Open Sans', verdana, arial, sans-serif; font-size: 12px; fill: rgb(42, 63, 95); fill-opacity: 1; white-space: pre; opacity: 1;\">4</text></g><g class=\"ytick\"><text text-anchor=\"end\" x=\"79\" y=\"4.199999999999999\" style=\"font-family: 'Open Sans', verdana, arial, sans-serif; font-size: 12px; fill: rgb(42, 63, 95); fill-opacity: 1; white-space: pre; opacity: 1;\" transform=\"translate(0,499)\">3</text></g><g class=\"ytick\"><text text-anchor=\"end\" x=\"79\" y=\"4.199999999999999\" style=\"font-family: 'Open Sans', verdana, arial, sans-serif; font-size: 12px; fill: rgb(42, 63, 95); fill-opacity: 1; white-space: pre; opacity: 1;\" transform=\"translate(0,385)\">2</text></g><g class=\"ytick\"><text text-anchor=\"end\" x=\"79\" y=\"4.199999999999999\" style=\"font-family: 'Open Sans', verdana, arial, sans-serif; font-size: 12px; fill: rgb(42, 63, 95); fill-opacity: 1; white-space: pre; opacity: 1;\" transform=\"translate(0,271)\">1</text></g><g class=\"ytick\"><text text-anchor=\"end\" x=\"79\" y=\"4.199999999999999\" style=\"font-family: 'Open Sans', verdana, arial, sans-serif; font-size: 12px; fill: rgb(42, 63, 95); fill-opacity: 1; white-space: pre; opacity: 1;\" transform=\"translate(0,157)\">0</text></g></g><g class=\"overaxes-above\"/></g></g><g class=\"polarlayer\"/><g class=\"smithlayer\"/><g class=\"ternarylayer\"/><g class=\"geolayer\"/><g class=\"funnelarealayer\"/><g class=\"pielayer\"/><g class=\"iciclelayer\"/><g class=\"treemaplayer\"/><g class=\"sunburstlayer\"/><g class=\"glimages\"/><defs id=\"topdefs-7a1607\"><g class=\"clips\"/></defs><g class=\"layer-above\"><g class=\"imagelayer\"/><g class=\"shapelayer\"/></g><g class=\"infolayer\"><g class=\"cbcoloraxis colorbar\" transform=\"translate(80,100)\"><rect class=\"cbbg\" x=\"1323\" y=\"0\" width=\"85.314453125\" height=\"570\" style=\"fill: rgb(0, 0, 0); fill-opacity: 0; stroke: rgb(68, 68, 68); stroke-opacity: 1; stroke-width: 0;\"/><g class=\"cbfills\" transform=\"translate(0,31)\"><rect class=\"cbfill gradient_filled\" style=\"fill: url('#g7a1607-cbcoloraxis');\" x=\"1333\" y=\"0\" width=\"30\" height=\"529\"/></g><g class=\"cblines\" transform=\"translate(0,31)\"/><g class=\"cbaxis crisp\" transform=\"translate(0,-100)\"><g class=\"ycbcoloraxistick\"><text text-anchor=\"start\" x=\"1365.9\" y=\"4.199999999999999\" transform=\"translate(0,660)\" style=\"font-family: 'Open Sans', verdana, arial, sans-serif; font-size: 12px; fill: rgb(42, 63, 95); fill-opacity: 1; white-space: pre; opacity: 1;\">0</text></g><g class=\"ycbcoloraxistick\"><text text-anchor=\"start\" x=\"1365.9\" y=\"4.199999999999999\" style=\"font-family: 'Open Sans', verdana, arial, sans-serif; font-size: 12px; fill: rgb(42, 63, 95); fill-opacity: 1; white-space: pre; opacity: 1;\" transform=\"translate(0,607.1)\">0.5</text></g><g class=\"ycbcoloraxistick\"><text text-anchor=\"start\" x=\"1365.9\" y=\"4.199999999999999\" style=\"font-family: 'Open Sans', verdana, arial, sans-serif; font-size: 12px; fill: rgb(42, 63, 95); fill-opacity: 1; white-space: pre; opacity: 1;\" transform=\"translate(0,554.2)\">1</text></g><g class=\"ycbcoloraxistick\"><text text-anchor=\"start\" x=\"1365.9\" y=\"4.199999999999999\" style=\"font-family: 'Open Sans', verdana, arial, sans-serif; font-size: 12px; fill: rgb(42, 63, 95); fill-opacity: 1; white-space: pre; opacity: 1;\" transform=\"translate(0,501.30000000000007)\">1.5</text></g><g class=\"ycbcoloraxistick\"><text text-anchor=\"start\" x=\"1365.9\" y=\"4.199999999999999\" style=\"font-family: 'Open Sans', verdana, arial, sans-serif; font-size: 12px; fill: rgb(42, 63, 95); fill-opacity: 1; white-space: pre; opacity: 1;\" transform=\"translate(0,448.4)\">2</text></g><g class=\"ycbcoloraxistick\"><text text-anchor=\"start\" x=\"1365.9\" y=\"4.199999999999999\" style=\"font-family: 'Open Sans', verdana, arial, sans-serif; font-size: 12px; fill: rgb(42, 63, 95); fill-opacity: 1; white-space: pre; opacity: 1;\" transform=\"translate(0,395.5)\">2.5</text></g><g class=\"ycbcoloraxistick\"><text text-anchor=\"start\" x=\"1365.9\" y=\"4.199999999999999\" style=\"font-family: 'Open Sans', verdana, arial, sans-serif; font-size: 12px; fill: rgb(42, 63, 95); fill-opacity: 1; white-space: pre; opacity: 1;\" transform=\"translate(0,342.6)\">3</text></g><g class=\"ycbcoloraxistick\"><text text-anchor=\"start\" x=\"1365.9\" y=\"4.199999999999999\" style=\"font-family: 'Open Sans', verdana, arial, sans-serif; font-size: 12px; fill: rgb(42, 63, 95); fill-opacity: 1; white-space: pre; opacity: 1;\" transform=\"translate(0,289.70000000000005)\">3.5</text></g><g class=\"ycbcoloraxistick\"><text text-anchor=\"start\" x=\"1365.9\" y=\"4.199999999999999\" style=\"font-family: 'Open Sans', verdana, arial, sans-serif; font-size: 12px; fill: rgb(42, 63, 95); fill-opacity: 1; white-space: pre; opacity: 1;\" transform=\"translate(0,236.8)\">4</text></g><g class=\"ycbcoloraxistick\"><text text-anchor=\"start\" x=\"1365.9\" y=\"4.199999999999999\" style=\"font-family: 'Open Sans', verdana, arial, sans-serif; font-size: 12px; fill: rgb(42, 63, 95); fill-opacity: 1; white-space: pre; opacity: 1;\" transform=\"translate(0,183.90000000000003)\">4.5</text></g><g class=\"ycbcoloraxistick\"><text text-anchor=\"start\" x=\"1365.9\" y=\"4.199999999999999\" style=\"font-family: 'Open Sans', verdana, arial, sans-serif; font-size: 12px; fill: rgb(42, 63, 95); fill-opacity: 1; white-space: pre; opacity: 1;\" transform=\"translate(0,131.00000000000003)\">≥5</text></g></g><g class=\"cbtitleunshift\" transform=\"translate(-80,-100)\"><g class=\"cbtitle\" transform=\"\"><text class=\"ycbcoloraxistitle\" x=\"1412.94\" y=\"123.5\" text-anchor=\"start\" style=\"opacity: 1; font-family: 'Open Sans', verdana, arial, sans-serif; font-size: 14px; fill: rgb(42, 63, 95); fill-opacity: 1; white-space: pre;\">Conviction</text></g></g><rect class=\"cboutline\" x=\"1333\" y=\"31\" width=\"30\" height=\"529\" style=\"stroke: rgb(68, 68, 68); stroke-opacity: 1; fill: none; stroke-width: 0;\"/></g><g class=\"g-gtitle\"><text class=\"gtitle\" x=\"75\" y=\"50\" text-anchor=\"start\" dy=\"0em\" style=\"opacity: 1; font-family: 'Open Sans', verdana, arial, sans-serif; font-size: 17px; fill: rgb(42, 63, 95); fill-opacity: 1; white-space: pre;\">Anomalies</text></g><g class=\"g-xtitle\"><text class=\"xtitle\" x=\"728.5\" y=\"710.3\" text-anchor=\"middle\" style=\"opacity: 1; font-family: 'Open Sans', verdana, arial, sans-serif; font-size: 14px; fill: rgb(42, 63, 95); fill-opacity: 1; white-space: pre;\">Feature</text></g><g class=\"g-ytitle\"/></g></svg>"
      ]
     },
     "metadata": {},
     "output_type": "display_data"
    }
   ],
   "source": [
    "fig = plot_anomalies(outliers, outlier_case_feature_residual_convictions)\n",
    "fig.show(width=1500, height=750)"
   ]
  },
  {
   "attachments": {},
   "cell_type": "markdown",
   "metadata": {},
   "source": [
    "From this chart we can see that these cases were flagged as anomalous largely because of their `capital-gain` values. Since our target variable is whether someone makes over $50,000 in salary, people with such large capital gains making less than $50,000 seems odd. In addition, values such as 99999 often indicate some sort of nominal value that may represent something other than the actual capital-gain, such as if a person did not answer. \n",
    "\n",
    "With this information, we can choose the appropriate action, whether it is recoding capital-gains, removing the cases, leaving the cases out, etc..."
   ]
  },
  {
   "attachments": {},
   "cell_type": "markdown",
   "metadata": {
    "tags": []
   },
   "source": [
    "### Step 3: Inspect Outliers\n",
    "\n",
    "While we generally only think of outliers when it comes to anomalies, inliers are another, more discrete, form of anomaly. Inliers are the opposite of outliers, as inliers are cases that are too [similiar](https://docs.howso.com/en/release-latest/getting_started/terminology.html#most-similar-cases) to other points. A real world hypothetical case of an inlier would be someone submitting a false transaction date in which they tried to make the data look real by making it very similar to existing data. \n",
    "\n",
    "In our case, it may be someone in a bank who is internally falsifying applications in order to try to alter the prediction model.\n",
    "\n",
    "Just like outliers, `distance_contribution` is used to detect inliers from the anomalies detected through the use of `familiarity_conviction_addition`, except now we are looking at cases below a theshold which indicates similarity to other points.\n"
   ]
  },
  {
   "cell_type": "code",
   "execution_count": 9,
   "metadata": {
    "execution": {
     "iopub.execute_input": "2025-10-25T03:28:07.852620Z",
     "iopub.status.busy": "2025-10-25T03:28:07.852406Z",
     "iopub.status.idle": "2025-10-25T03:28:07.866492Z",
     "shell.execute_reply": "2025-10-25T03:28:07.865711Z"
    }
   },
   "outputs": [
    {
     "data": {
      "text/html": [
       "<div>\n",
       "<style scoped>\n",
       "    .dataframe tbody tr th:only-of-type {\n",
       "        vertical-align: middle;\n",
       "    }\n",
       "\n",
       "    .dataframe tbody tr th {\n",
       "        vertical-align: top;\n",
       "    }\n",
       "\n",
       "    .dataframe thead th {\n",
       "        text-align: right;\n",
       "    }\n",
       "</style>\n",
       "<table border=\"1\" class=\"dataframe\">\n",
       "  <thead>\n",
       "    <tr style=\"text-align: right;\">\n",
       "      <th></th>\n",
       "      <th>age</th>\n",
       "      <th>workclass</th>\n",
       "      <th>fnlwgt</th>\n",
       "      <th>education</th>\n",
       "      <th>education-num</th>\n",
       "      <th>marital-status</th>\n",
       "      <th>occupation</th>\n",
       "      <th>relationship</th>\n",
       "      <th>race</th>\n",
       "      <th>sex</th>\n",
       "      <th>capital-gain</th>\n",
       "      <th>capital-loss</th>\n",
       "      <th>hours-per-week</th>\n",
       "      <th>native-country</th>\n",
       "      <th>target</th>\n",
       "      <th>familiarity_conviction_addition</th>\n",
       "      <th>.session_training_index</th>\n",
       "      <th>.session</th>\n",
       "      <th>distance_contribution</th>\n",
       "      <th>category</th>\n",
       "    </tr>\n",
       "  </thead>\n",
       "  <tbody>\n",
       "    <tr>\n",
       "      <th>0</th>\n",
       "      <td>30.0</td>\n",
       "      <td>4</td>\n",
       "      <td>190228.0</td>\n",
       "      <td>11</td>\n",
       "      <td>9.0</td>\n",
       "      <td>2</td>\n",
       "      <td>6</td>\n",
       "      <td>0</td>\n",
       "      <td>4</td>\n",
       "      <td>1</td>\n",
       "      <td>0.0</td>\n",
       "      <td>0.0</td>\n",
       "      <td>40.0</td>\n",
       "      <td>39</td>\n",
       "      <td>1</td>\n",
       "      <td>0.313179</td>\n",
       "      <td>198</td>\n",
       "      <td>17e7ea9e-ba66-4b22-b4d0-ed84fbd99f2a</td>\n",
       "      <td>1.446570</td>\n",
       "      <td>inlier</td>\n",
       "    </tr>\n",
       "    <tr>\n",
       "      <th>1</th>\n",
       "      <td>25.0</td>\n",
       "      <td>4</td>\n",
       "      <td>218667.0</td>\n",
       "      <td>11</td>\n",
       "      <td>9.0</td>\n",
       "      <td>2</td>\n",
       "      <td>6</td>\n",
       "      <td>0</td>\n",
       "      <td>4</td>\n",
       "      <td>1</td>\n",
       "      <td>0.0</td>\n",
       "      <td>0.0</td>\n",
       "      <td>40.0</td>\n",
       "      <td>39</td>\n",
       "      <td>1</td>\n",
       "      <td>0.313944</td>\n",
       "      <td>881</td>\n",
       "      <td>17e7ea9e-ba66-4b22-b4d0-ed84fbd99f2a</td>\n",
       "      <td>1.560241</td>\n",
       "      <td>inlier</td>\n",
       "    </tr>\n",
       "    <tr>\n",
       "      <th>2</th>\n",
       "      <td>36.0</td>\n",
       "      <td>4</td>\n",
       "      <td>209629.0</td>\n",
       "      <td>11</td>\n",
       "      <td>9.0</td>\n",
       "      <td>2</td>\n",
       "      <td>7</td>\n",
       "      <td>0</td>\n",
       "      <td>4</td>\n",
       "      <td>1</td>\n",
       "      <td>0.0</td>\n",
       "      <td>0.0</td>\n",
       "      <td>40.0</td>\n",
       "      <td>39</td>\n",
       "      <td>1</td>\n",
       "      <td>0.317195</td>\n",
       "      <td>404</td>\n",
       "      <td>17e7ea9e-ba66-4b22-b4d0-ed84fbd99f2a</td>\n",
       "      <td>1.568833</td>\n",
       "      <td>inlier</td>\n",
       "    </tr>\n",
       "  </tbody>\n",
       "</table>\n",
       "</div>"
      ],
      "text/plain": [
       "    age  workclass    fnlwgt  education  education-num  marital-status  \\\n",
       "0  30.0          4  190228.0         11            9.0               2   \n",
       "1  25.0          4  218667.0         11            9.0               2   \n",
       "2  36.0          4  209629.0         11            9.0               2   \n",
       "\n",
       "   occupation  relationship  race  sex  capital-gain  capital-loss  \\\n",
       "0           6             0     4    1           0.0           0.0   \n",
       "1           6             0     4    1           0.0           0.0   \n",
       "2           7             0     4    1           0.0           0.0   \n",
       "\n",
       "   hours-per-week  native-country  target  familiarity_conviction_addition  \\\n",
       "0            40.0              39       1                         0.313179   \n",
       "1            40.0              39       1                         0.313944   \n",
       "2            40.0              39       1                         0.317195   \n",
       "\n",
       "   .session_training_index                              .session  \\\n",
       "0                      198  17e7ea9e-ba66-4b22-b4d0-ed84fbd99f2a   \n",
       "1                      881  17e7ea9e-ba66-4b22-b4d0-ed84fbd99f2a   \n",
       "2                      404  17e7ea9e-ba66-4b22-b4d0-ed84fbd99f2a   \n",
       "\n",
       "   distance_contribution category  \n",
       "0               1.446570   inlier  \n",
       "1               1.560241   inlier  \n",
       "2               1.568833   inlier  "
      ]
     },
     "execution_count": 9,
     "metadata": {},
     "output_type": "execute_result"
    }
   ],
   "source": [
    "# Extract the inlier cases\n",
    "inliers = low_convicts[low_convicts['category'] == 'inlier'].reset_index(drop=True)\n",
    "inliers.head(3)"
   ]
  },
  {
   "attachments": {},
   "cell_type": "markdown",
   "metadata": {},
   "source": [
    "### Step 4: Inlier Value Evaluation"
   ]
  },
  {
   "cell_type": "code",
   "execution_count": 10,
   "metadata": {
    "execution": {
     "iopub.execute_input": "2025-10-25T03:28:07.868191Z",
     "iopub.status.busy": "2025-10-25T03:28:07.867993Z",
     "iopub.status.idle": "2025-10-25T03:28:08.405393Z",
     "shell.execute_reply": "2025-10-25T03:28:08.404521Z"
    }
   },
   "outputs": [],
   "source": [
    "# Specify the inlier cases\n",
    "inliers_indices = inliers[['.session', '.session_training_index']].values\n",
    "\n",
    "# React to get the details of each case\n",
    "results = t.react(\n",
    "    case_indices=inliers_indices,\n",
    "    preserve_feature_values=df.columns.tolist(),\n",
    "    leave_case_out=True,\n",
    "    details=details\n",
    ")\n",
    "\n",
    "\n",
    "inlier_case_feature_residual_convictions = pd.DataFrame(\n",
    "    results['details']['feature_full_residual_convictions_for_case']\n",
    ")[df.columns.tolist()]"
   ]
  },
  {
   "cell_type": "code",
   "execution_count": 11,
   "metadata": {
    "execution": {
     "iopub.execute_input": "2025-10-25T03:28:08.407735Z",
     "iopub.status.busy": "2025-10-25T03:28:08.407477Z",
     "iopub.status.idle": "2025-10-25T03:28:09.902897Z",
     "shell.execute_reply": "2025-10-25T03:28:09.902143Z"
    }
   },
   "outputs": [
    {
     "data": {
      "image/svg+xml": [
       "<svg class=\"main-svg\" xmlns=\"http://www.w3.org/2000/svg\" xmlns:xlink=\"http://www.w3.org/1999/xlink\" width=\"1500\" height=\"750\" style=\"\" viewBox=\"0 0 1500 750\"><rect x=\"0\" y=\"0\" width=\"1500\" height=\"750\" style=\"fill: rgb(255, 255, 255); fill-opacity: 1;\"/><defs id=\"defs-7a2b8a\"><g class=\"clips\"><clipPath id=\"clip7a2b8axyplot\" class=\"plotclip\"><rect width=\"1297\" height=\"570\"/></clipPath><clipPath class=\"axesclip\" id=\"clip7a2b8ax\"><rect x=\"80\" y=\"0\" width=\"1297\" height=\"750\"/></clipPath><clipPath class=\"axesclip\" id=\"clip7a2b8ay\"><rect x=\"0\" y=\"100\" width=\"1500\" height=\"570\"/></clipPath><clipPath class=\"axesclip\" id=\"clip7a2b8axy\"><rect x=\"80\" y=\"100\" width=\"1297\" height=\"570\"/></clipPath></g><g class=\"gradients\"><linearGradient x1=\"0\" y1=\"1\" x2=\"0\" y2=\"0\" gradientUnits=\"objectBoundingBox\" id=\"g7a2b8a-cbcoloraxis\"><stop offset=\"0%\" stop-color=\"rgb(103, 0, 31)\" stop-opacity=\"1\"/><stop offset=\"20%\" stop-color=\"rgb(247, 247, 247)\" stop-opacity=\"1\"/><stop offset=\"40%\" stop-color=\"rgb(67, 147, 195)\" stop-opacity=\"1\"/><stop offset=\"100%\" stop-color=\"rgb(5, 48, 97)\" stop-opacity=\"1\"/></linearGradient></g><g class=\"patterns\"/></defs><g class=\"bglayer\"><rect class=\"bg\" x=\"80\" y=\"100\" width=\"1297\" height=\"570\" style=\"fill: rgb(229, 236, 246); fill-opacity: 1; stroke-width: 0;\"/></g><g class=\"layer-below\"><g class=\"imagelayer\"/><g class=\"shapelayer\"/></g><g class=\"cartesianlayer\"><g class=\"subplot xy\"><g class=\"layer-subplot\"><g class=\"shapelayer\"/><g class=\"imagelayer\"/></g><g class=\"minor-gridlayer\"><g class=\"x\"/><g class=\"y\"/></g><g class=\"gridlayer\"><g class=\"x\"><path class=\"xgrid crisp\" transform=\"translate(123.22999999999999,0)\" d=\"M0,100v570\" style=\"stroke: rgb(255, 255, 255); stroke-opacity: 1; stroke-width: 1px;\"/><path class=\"xgrid crisp\" transform=\"translate(209.7,0)\" d=\"M0,100v570\" style=\"stroke: rgb(255, 255, 255); stroke-opacity: 1; stroke-width: 1px;\"/><path class=\"xgrid crisp\" transform=\"translate(296.16999999999996,0)\" d=\"M0,100v570\" style=\"stroke: rgb(255, 255, 255); stroke-opacity: 1; stroke-width: 1px;\"/><path class=\"xgrid crisp\" transform=\"translate(382.63,0)\" d=\"M0,100v570\" style=\"stroke: rgb(255, 255, 255); stroke-opacity: 1; stroke-width: 1px;\"/><path class=\"xgrid crisp\" transform=\"translate(469.1,0)\" d=\"M0,100v570\" style=\"stroke: rgb(255, 255, 255); stroke-opacity: 1; stroke-width: 1px;\"/><path class=\"xgrid crisp\" transform=\"translate(555.5699999999999,0)\" d=\"M0,100v570\" style=\"stroke: rgb(255, 255, 255); stroke-opacity: 1; stroke-width: 1px;\"/><path class=\"xgrid crisp\" transform=\"translate(642.03,0)\" d=\"M0,100v570\" style=\"stroke: rgb(255, 255, 255); stroke-opacity: 1; stroke-width: 1px;\"/><path class=\"xgrid crisp\" transform=\"translate(728.5,0)\" d=\"M0,100v570\" style=\"stroke: rgb(255, 255, 255); stroke-opacity: 1; stroke-width: 1px;\"/><path class=\"xgrid crisp\" transform=\"translate(814.97,0)\" d=\"M0,100v570\" style=\"stroke: rgb(255, 255, 255); stroke-opacity: 1; stroke-width: 1px;\"/><path class=\"xgrid crisp\" transform=\"translate(901.43,0)\" d=\"M0,100v570\" style=\"stroke: rgb(255, 255, 255); stroke-opacity: 1; stroke-width: 1px;\"/><path class=\"xgrid crisp\" transform=\"translate(987.9,0)\" d=\"M0,100v570\" style=\"stroke: rgb(255, 255, 255); stroke-opacity: 1; stroke-width: 1px;\"/><path class=\"xgrid crisp\" transform=\"translate(1074.37,0)\" d=\"M0,100v570\" style=\"stroke: rgb(255, 255, 255); stroke-opacity: 1; stroke-width: 1px;\"/><path class=\"xgrid crisp\" transform=\"translate(1160.83,0)\" d=\"M0,100v570\" style=\"stroke: rgb(255, 255, 255); stroke-opacity: 1; stroke-width: 1px;\"/><path class=\"xgrid crisp\" transform=\"translate(1247.3,0)\" d=\"M0,100v570\" style=\"stroke: rgb(255, 255, 255); stroke-opacity: 1; stroke-width: 1px;\"/><path class=\"xgrid crisp\" transform=\"translate(1333.77,0)\" d=\"M0,100v570\" style=\"stroke: rgb(255, 255, 255); stroke-opacity: 1; stroke-width: 1px;\"/></g><g class=\"y\"><path class=\"ygrid crisp\" transform=\"translate(0,613)\" d=\"M80,0h1297\" style=\"stroke: rgb(255, 255, 255); stroke-opacity: 1; stroke-width: 1px;\"/><path class=\"ygrid crisp\" transform=\"translate(0,499)\" d=\"M80,0h1297\" style=\"stroke: rgb(255, 255, 255); stroke-opacity: 1; stroke-width: 1px;\"/><path class=\"ygrid crisp\" transform=\"translate(0,385)\" d=\"M80,0h1297\" style=\"stroke: rgb(255, 255, 255); stroke-opacity: 1; stroke-width: 1px;\"/><path class=\"ygrid crisp\" transform=\"translate(0,271)\" d=\"M80,0h1297\" style=\"stroke: rgb(255, 255, 255); stroke-opacity: 1; stroke-width: 1px;\"/></g></g><g class=\"zerolinelayer\"><path class=\"yzl zl crisp\" transform=\"translate(0,157)\" d=\"M80,0h1297\" style=\"stroke: rgb(255, 255, 255); stroke-opacity: 1; stroke-width: 2px;\"/></g><g class=\"layer-between\"><g class=\"shapelayer\"/><g class=\"imagelayer\"/></g><path class=\"xlines-below\"/><path class=\"ylines-below\"/><g class=\"overlines-below\"/><g class=\"xaxislayer-below\"/><g class=\"yaxislayer-below\"/><g class=\"overaxes-below\"/><g class=\"overplot\"><g class=\"xy\" transform=\"translate(80,100)\" clip-path=\"url(#clip7a2b8axyplot)\"><g class=\"heatmaplayer mlayer\"><g class=\"hm\"><image xmlns=\"http://www.w3.org/2000/svg\" preserveAspectRatio=\"none\" height=\"570\" width=\"1297\" x=\"0\" y=\"0\" xlink:href=\"data:image/png;base64,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\" style=\"opacity: 1;\"/><g class=\"heatmap-label\"><text text-anchor=\"middle\" data-notex=\"1\" x=\"43\" y=\"61.2\" style=\"font-family: 'Open Sans', verdana, arial, sans-serif; font-size: 12px; fill: rgb(68, 68, 68); fill-opacity: 1; white-space: pre;\">30.0</text></g><g class=\"heatmap-label\"><text text-anchor=\"middle\" data-notex=\"1\" x=\"130\" y=\"61.2\" style=\"font-family: 'Open Sans', verdana, arial, sans-serif; font-size: 12px; fill: rgb(68, 68, 68); fill-opacity: 1; white-space: pre;\">4</text></g><g class=\"heatmap-label\"><text text-anchor=\"middle\" data-notex=\"1\" x=\"216\" y=\"61.2\" style=\"font-family: 'Open Sans', verdana, arial, sans-serif; font-size: 12px; fill: rgb(68, 68, 68); fill-opacity: 1; white-space: pre;\">190228.0</text></g><g class=\"heatmap-label\"><text text-anchor=\"middle\" data-notex=\"1\" x=\"303\" y=\"61.2\" style=\"font-family: 'Open Sans', verdana, arial, sans-serif; font-size: 12px; fill: rgb(68, 68, 68); fill-opacity: 1; white-space: pre;\">11</text></g><g class=\"heatmap-label\"><text text-anchor=\"middle\" data-notex=\"1\" x=\"389\" y=\"61.2\" style=\"font-family: 'Open Sans', verdana, arial, sans-serif; font-size: 12px; fill: rgb(68, 68, 68); fill-opacity: 1; white-space: pre;\">9.0</text></g><g class=\"heatmap-label\"><text text-anchor=\"middle\" data-notex=\"1\" x=\"476\" y=\"61.2\" style=\"font-family: 'Open Sans', verdana, arial, sans-serif; font-size: 12px; fill: rgb(68, 68, 68); fill-opacity: 1; white-space: pre;\">2</text></g><g class=\"heatmap-label\"><text text-anchor=\"middle\" data-notex=\"1\" x=\"562\" y=\"61.2\" style=\"font-family: 'Open Sans', verdana, arial, sans-serif; font-size: 12px; fill: rgb(68, 68, 68); fill-opacity: 1; white-space: pre;\">6</text></g><g class=\"heatmap-label\"><text text-anchor=\"middle\" data-notex=\"1\" x=\"649\" y=\"61.2\" style=\"font-family: 'Open Sans', verdana, arial, sans-serif; font-size: 12px; fill: rgb(68, 68, 68); fill-opacity: 1; white-space: pre;\">0</text></g><g class=\"heatmap-label\"><text text-anchor=\"middle\" data-notex=\"1\" x=\"735\" y=\"61.2\" style=\"font-family: 'Open Sans', verdana, arial, sans-serif; font-size: 12px; fill: rgb(68, 68, 68); fill-opacity: 1; white-space: pre;\">4</text></g><g class=\"heatmap-label\"><text text-anchor=\"middle\" data-notex=\"1\" x=\"821\" y=\"61.2\" style=\"font-family: 'Open Sans', verdana, arial, sans-serif; font-size: 12px; fill: rgb(68, 68, 68); fill-opacity: 1; white-space: pre;\">1</text></g><g class=\"heatmap-label\"><text text-anchor=\"middle\" data-notex=\"1\" x=\"908\" y=\"61.2\" style=\"font-family: 'Open Sans', verdana, arial, sans-serif; font-size: 12px; fill: rgb(68, 68, 68); fill-opacity: 1; white-space: pre;\">0.0</text></g><g class=\"heatmap-label\"><text text-anchor=\"middle\" data-notex=\"1\" x=\"994\" y=\"61.2\" style=\"font-family: 'Open Sans', verdana, arial, sans-serif; font-size: 12px; fill: rgb(68, 68, 68); fill-opacity: 1; white-space: pre;\">0.0</text></g><g class=\"heatmap-label\"><text text-anchor=\"middle\" data-notex=\"1\" x=\"1081\" y=\"61.2\" style=\"font-family: 'Open Sans', verdana, arial, sans-serif; font-size: 12px; fill: rgb(68, 68, 68); fill-opacity: 1; white-space: pre;\">40.0</text></g><g class=\"heatmap-label\"><text text-anchor=\"middle\" data-notex=\"1\" x=\"1167\" y=\"61.2\" style=\"font-family: 'Open Sans', verdana, arial, sans-serif; font-size: 12px; fill: rgb(68, 68, 68); fill-opacity: 1; white-space: pre;\">39</text></g><g class=\"heatmap-label\"><text text-anchor=\"middle\" data-notex=\"1\" x=\"1254\" y=\"61.2\" style=\"font-family: 'Open Sans', verdana, arial, sans-serif; font-size: 12px; fill: rgb(68, 68, 68); fill-opacity: 1; white-space: pre;\">1</text></g><g class=\"heatmap-label\"><text text-anchor=\"middle\" data-notex=\"1\" x=\"43\" y=\"175.2\" style=\"font-family: 'Open Sans', verdana, arial, sans-serif; font-size: 12px; fill: rgb(68, 68, 68); fill-opacity: 1; white-space: pre;\">25.0</text></g><g class=\"heatmap-label\"><text text-anchor=\"middle\" data-notex=\"1\" x=\"130\" y=\"175.2\" style=\"font-family: 'Open Sans', verdana, arial, sans-serif; font-size: 12px; fill: rgb(68, 68, 68); fill-opacity: 1; white-space: pre;\">4</text></g><g class=\"heatmap-label\"><text text-anchor=\"middle\" data-notex=\"1\" x=\"216\" y=\"175.2\" style=\"font-family: 'Open Sans', verdana, arial, sans-serif; font-size: 12px; fill: rgb(68, 68, 68); fill-opacity: 1; white-space: pre;\">218667.0</text></g><g class=\"heatmap-label\"><text text-anchor=\"middle\" data-notex=\"1\" x=\"303\" y=\"175.2\" style=\"font-family: 'Open Sans', verdana, arial, sans-serif; font-size: 12px; fill: rgb(68, 68, 68); fill-opacity: 1; white-space: pre;\">11</text></g><g class=\"heatmap-label\"><text text-anchor=\"middle\" data-notex=\"1\" x=\"389\" y=\"175.2\" style=\"font-family: 'Open Sans', verdana, arial, sans-serif; font-size: 12px; fill: rgb(68, 68, 68); fill-opacity: 1; white-space: pre;\">9.0</text></g><g class=\"heatmap-label\"><text text-anchor=\"middle\" data-notex=\"1\" x=\"476\" y=\"175.2\" style=\"font-family: 'Open Sans', verdana, arial, sans-serif; font-size: 12px; fill: rgb(68, 68, 68); fill-opacity: 1; white-space: pre;\">2</text></g><g class=\"heatmap-label\"><text text-anchor=\"middle\" data-notex=\"1\" x=\"562\" y=\"175.2\" style=\"font-family: 'Open Sans', verdana, arial, sans-serif; font-size: 12px; fill: rgb(68, 68, 68); fill-opacity: 1; white-space: pre;\">6</text></g><g class=\"heatmap-label\"><text text-anchor=\"middle\" data-notex=\"1\" x=\"649\" y=\"175.2\" style=\"font-family: 'Open Sans', verdana, arial, sans-serif; font-size: 12px; fill: rgb(68, 68, 68); fill-opacity: 1; white-space: pre;\">0</text></g><g class=\"heatmap-label\"><text text-anchor=\"middle\" data-notex=\"1\" x=\"735\" y=\"175.2\" style=\"font-family: 'Open Sans', verdana, arial, sans-serif; font-size: 12px; fill: rgb(68, 68, 68); fill-opacity: 1; white-space: pre;\">4</text></g><g class=\"heatmap-label\"><text text-anchor=\"middle\" data-notex=\"1\" x=\"821\" y=\"175.2\" style=\"font-family: 'Open Sans', verdana, arial, sans-serif; font-size: 12px; fill: rgb(68, 68, 68); fill-opacity: 1; white-space: pre;\">1</text></g><g class=\"heatmap-label\"><text text-anchor=\"middle\" data-notex=\"1\" x=\"908\" y=\"175.2\" style=\"font-family: 'Open Sans', verdana, arial, sans-serif; font-size: 12px; fill: rgb(68, 68, 68); fill-opacity: 1; white-space: pre;\">0.0</text></g><g class=\"heatmap-label\"><text text-anchor=\"middle\" data-notex=\"1\" x=\"994\" y=\"175.2\" style=\"font-family: 'Open Sans', verdana, arial, sans-serif; font-size: 12px; fill: rgb(255, 255, 255); fill-opacity: 1; white-space: pre;\">0.0</text></g><g class=\"heatmap-label\"><text text-anchor=\"middle\" data-notex=\"1\" x=\"1081\" y=\"175.2\" style=\"font-family: 'Open Sans', verdana, arial, sans-serif; font-size: 12px; fill: rgb(68, 68, 68); fill-opacity: 1; white-space: pre;\">40.0</text></g><g class=\"heatmap-label\"><text text-anchor=\"middle\" data-notex=\"1\" x=\"1167\" y=\"175.2\" style=\"font-family: 'Open Sans', verdana, arial, sans-serif; font-size: 12px; fill: rgb(68, 68, 68); fill-opacity: 1; white-space: pre;\">39</text></g><g class=\"heatmap-label\"><text text-anchor=\"middle\" data-notex=\"1\" x=\"1254\" y=\"175.2\" style=\"font-family: 'Open Sans', verdana, arial, sans-serif; font-size: 12px; fill: rgb(68, 68, 68); fill-opacity: 1; white-space: pre;\">1</text></g><g class=\"heatmap-label\"><text text-anchor=\"middle\" data-notex=\"1\" x=\"43\" y=\"289.2\" style=\"font-family: 'Open Sans', verdana, arial, sans-serif; font-size: 12px; fill: rgb(255, 255, 255); fill-opacity: 1; white-space: pre;\">36.0</text></g><g class=\"heatmap-label\"><text text-anchor=\"middle\" data-notex=\"1\" x=\"130\" y=\"289.2\" style=\"font-family: 'Open Sans', verdana, arial, sans-serif; font-size: 12px; fill: rgb(68, 68, 68); fill-opacity: 1; white-space: pre;\">4</text></g><g class=\"heatmap-label\"><text text-anchor=\"middle\" data-notex=\"1\" x=\"216\" y=\"289.2\" style=\"font-family: 'Open Sans', verdana, arial, sans-serif; font-size: 12px; fill: rgb(68, 68, 68); fill-opacity: 1; white-space: pre;\">209629.0</text></g><g class=\"heatmap-label\"><text text-anchor=\"middle\" data-notex=\"1\" x=\"303\" y=\"289.2\" style=\"font-family: 'Open Sans', verdana, arial, sans-serif; font-size: 12px; fill: rgb(68, 68, 68); fill-opacity: 1; white-space: pre;\">11</text></g><g class=\"heatmap-label\"><text text-anchor=\"middle\" data-notex=\"1\" x=\"389\" y=\"289.2\" style=\"font-family: 'Open Sans', verdana, arial, sans-serif; font-size: 12px; fill: rgb(68, 68, 68); fill-opacity: 1; white-space: pre;\">9.0</text></g><g class=\"heatmap-label\"><text text-anchor=\"middle\" data-notex=\"1\" x=\"476\" y=\"289.2\" style=\"font-family: 'Open Sans', verdana, arial, sans-serif; font-size: 12px; fill: rgb(68, 68, 68); fill-opacity: 1; white-space: pre;\">2</text></g><g class=\"heatmap-label\"><text text-anchor=\"middle\" data-notex=\"1\" x=\"562\" y=\"289.2\" style=\"font-family: 'Open Sans', verdana, arial, sans-serif; font-size: 12px; fill: rgb(68, 68, 68); fill-opacity: 1; white-space: pre;\">7</text></g><g class=\"heatmap-label\"><text text-anchor=\"middle\" data-notex=\"1\" x=\"649\" y=\"289.2\" style=\"font-family: 'Open Sans', verdana, arial, sans-serif; font-size: 12px; fill: rgb(68, 68, 68); fill-opacity: 1; white-space: pre;\">0</text></g><g class=\"heatmap-label\"><text text-anchor=\"middle\" data-notex=\"1\" x=\"735\" y=\"289.2\" style=\"font-family: 'Open Sans', verdana, arial, sans-serif; font-size: 12px; fill: rgb(68, 68, 68); fill-opacity: 1; white-space: pre;\">4</text></g><g class=\"heatmap-label\"><text text-anchor=\"middle\" data-notex=\"1\" x=\"821\" y=\"289.2\" style=\"font-family: 'Open Sans', verdana, arial, sans-serif; font-size: 12px; fill: rgb(68, 68, 68); fill-opacity: 1; white-space: pre;\">1</text></g><g class=\"heatmap-label\"><text text-anchor=\"middle\" data-notex=\"1\" x=\"908\" y=\"289.2\" style=\"font-family: 'Open Sans', verdana, arial, sans-serif; font-size: 12px; fill: rgb(68, 68, 68); fill-opacity: 1; white-space: pre;\">0.0</text></g><g class=\"heatmap-label\"><text text-anchor=\"middle\" data-notex=\"1\" x=\"994\" y=\"289.2\" style=\"font-family: 'Open Sans', verdana, arial, sans-serif; font-size: 12px; fill: rgb(68, 68, 68); fill-opacity: 1; white-space: pre;\">0.0</text></g><g class=\"heatmap-label\"><text text-anchor=\"middle\" data-notex=\"1\" x=\"1081\" y=\"289.2\" style=\"font-family: 'Open Sans', verdana, arial, sans-serif; font-size: 12px; fill: rgb(68, 68, 68); fill-opacity: 1; white-space: pre;\">40.0</text></g><g class=\"heatmap-label\"><text text-anchor=\"middle\" data-notex=\"1\" x=\"1167\" y=\"289.2\" style=\"font-family: 'Open Sans', verdana, arial, sans-serif; font-size: 12px; fill: rgb(68, 68, 68); fill-opacity: 1; white-space: pre;\">39</text></g><g class=\"heatmap-label\"><text text-anchor=\"middle\" data-notex=\"1\" x=\"1254\" y=\"289.2\" style=\"font-family: 'Open Sans', verdana, arial, sans-serif; font-size: 12px; fill: rgb(68, 68, 68); fill-opacity: 1; white-space: pre;\">1</text></g><g class=\"heatmap-label\"><text text-anchor=\"middle\" data-notex=\"1\" x=\"43\" y=\"403.2\" style=\"font-family: 'Open Sans', verdana, arial, sans-serif; font-size: 12px; fill: rgb(68, 68, 68); fill-opacity: 1; white-space: pre;\">25.0</text></g><g class=\"heatmap-label\"><text text-anchor=\"middle\" data-notex=\"1\" x=\"130\" y=\"403.2\" style=\"font-family: 'Open Sans', verdana, arial, sans-serif; font-size: 12px; fill: rgb(68, 68, 68); fill-opacity: 1; white-space: pre;\">4</text></g><g class=\"heatmap-label\"><text text-anchor=\"middle\" data-notex=\"1\" x=\"216\" y=\"403.2\" style=\"font-family: 'Open Sans', verdana, arial, sans-serif; font-size: 12px; fill: rgb(68, 68, 68); fill-opacity: 1; white-space: pre;\">236267.0</text></g><g class=\"heatmap-label\"><text text-anchor=\"middle\" data-notex=\"1\" x=\"303\" y=\"403.2\" style=\"font-family: 'Open Sans', verdana, arial, sans-serif; font-size: 12px; fill: rgb(68, 68, 68); fill-opacity: 1; white-space: pre;\">11</text></g><g class=\"heatmap-label\"><text text-anchor=\"middle\" data-notex=\"1\" x=\"389\" y=\"403.2\" style=\"font-family: 'Open Sans', verdana, arial, sans-serif; font-size: 12px; fill: rgb(68, 68, 68); fill-opacity: 1; white-space: pre;\">9.0</text></g><g class=\"heatmap-label\"><text text-anchor=\"middle\" data-notex=\"1\" x=\"476\" y=\"403.2\" style=\"font-family: 'Open Sans', verdana, arial, sans-serif; font-size: 12px; fill: rgb(68, 68, 68); fill-opacity: 1; white-space: pre;\">2</text></g><g class=\"heatmap-label\"><text text-anchor=\"middle\" data-notex=\"1\" x=\"562\" y=\"403.2\" style=\"font-family: 'Open Sans', verdana, arial, sans-serif; font-size: 12px; fill: rgb(68, 68, 68); fill-opacity: 1; white-space: pre;\">6</text></g><g class=\"heatmap-label\"><text text-anchor=\"middle\" data-notex=\"1\" x=\"649\" y=\"403.2\" style=\"font-family: 'Open Sans', verdana, arial, sans-serif; font-size: 12px; fill: rgb(68, 68, 68); fill-opacity: 1; white-space: pre;\">0</text></g><g class=\"heatmap-label\"><text text-anchor=\"middle\" data-notex=\"1\" x=\"735\" y=\"403.2\" style=\"font-family: 'Open Sans', verdana, arial, sans-serif; font-size: 12px; fill: rgb(68, 68, 68); fill-opacity: 1; white-space: pre;\">4</text></g><g class=\"heatmap-label\"><text text-anchor=\"middle\" data-notex=\"1\" x=\"821\" y=\"403.2\" style=\"font-family: 'Open Sans', verdana, arial, sans-serif; font-size: 12px; fill: rgb(68, 68, 68); fill-opacity: 1; white-space: pre;\">1</text></g><g class=\"heatmap-label\"><text text-anchor=\"middle\" data-notex=\"1\" x=\"908\" y=\"403.2\" style=\"font-family: 'Open Sans', verdana, arial, sans-serif; font-size: 12px; fill: rgb(68, 68, 68); fill-opacity: 1; white-space: pre;\">0.0</text></g><g class=\"heatmap-label\"><text text-anchor=\"middle\" data-notex=\"1\" x=\"994\" y=\"403.2\" style=\"font-family: 'Open Sans', verdana, arial, sans-serif; font-size: 12px; fill: rgb(255, 255, 255); fill-opacity: 1; white-space: pre;\">0.0</text></g><g class=\"heatmap-label\"><text text-anchor=\"middle\" data-notex=\"1\" x=\"1081\" y=\"403.2\" style=\"font-family: 'Open Sans', verdana, arial, sans-serif; font-size: 12px; fill: rgb(68, 68, 68); fill-opacity: 1; white-space: pre;\">40.0</text></g><g class=\"heatmap-label\"><text text-anchor=\"middle\" data-notex=\"1\" x=\"1167\" y=\"403.2\" style=\"font-family: 'Open Sans', verdana, arial, sans-serif; font-size: 12px; fill: rgb(68, 68, 68); fill-opacity: 1; white-space: pre;\">39</text></g><g class=\"heatmap-label\"><text text-anchor=\"middle\" data-notex=\"1\" x=\"1254\" y=\"403.2\" style=\"font-family: 'Open Sans', verdana, arial, sans-serif; font-size: 12px; fill: rgb(68, 68, 68); fill-opacity: 1; white-space: pre;\">1</text></g><g class=\"heatmap-label\"><text text-anchor=\"middle\" data-notex=\"1\" x=\"43\" y=\"517.2\" style=\"font-family: 'Open Sans', verdana, arial, sans-serif; font-size: 12px; fill: rgb(68, 68, 68); fill-opacity: 1; white-space: pre;\">20.0</text></g><g class=\"heatmap-label\"><text text-anchor=\"middle\" data-notex=\"1\" x=\"130\" y=\"517.2\" style=\"font-family: 'Open Sans', verdana, arial, sans-serif; font-size: 12px; fill: rgb(68, 68, 68); fill-opacity: 1; white-space: pre;\">0</text></g><g class=\"heatmap-label\"><text text-anchor=\"middle\" data-notex=\"1\" x=\"216\" y=\"517.2\" style=\"font-family: 'Open Sans', verdana, arial, sans-serif; font-size: 12px; fill: rgb(255, 255, 255); fill-opacity: 1; white-space: pre;\">201766.0</text></g><g class=\"heatmap-label\"><text text-anchor=\"middle\" data-notex=\"1\" x=\"303\" y=\"517.2\" style=\"font-family: 'Open Sans', verdana, arial, sans-serif; font-size: 12px; fill: rgb(68, 68, 68); fill-opacity: 1; white-space: pre;\">15</text></g><g class=\"heatmap-label\"><text text-anchor=\"middle\" data-notex=\"1\" x=\"389\" y=\"517.2\" style=\"font-family: 'Open Sans', verdana, arial, sans-serif; font-size: 12px; fill: rgb(68, 68, 68); fill-opacity: 1; white-space: pre;\">10.0</text></g><g class=\"heatmap-label\"><text text-anchor=\"middle\" data-notex=\"1\" x=\"476\" y=\"517.2\" style=\"font-family: 'Open Sans', verdana, arial, sans-serif; font-size: 12px; fill: rgb(68, 68, 68); fill-opacity: 1; white-space: pre;\">4</text></g><g class=\"heatmap-label\"><text text-anchor=\"middle\" data-notex=\"1\" x=\"562\" y=\"517.2\" style=\"font-family: 'Open Sans', verdana, arial, sans-serif; font-size: 12px; fill: rgb(68, 68, 68); fill-opacity: 1; white-space: pre;\">0</text></g><g class=\"heatmap-label\"><text text-anchor=\"middle\" data-notex=\"1\" x=\"649\" y=\"517.2\" style=\"font-family: 'Open Sans', verdana, arial, sans-serif; font-size: 12px; fill: rgb(68, 68, 68); fill-opacity: 1; white-space: pre;\">3</text></g><g class=\"heatmap-label\"><text text-anchor=\"middle\" data-notex=\"1\" x=\"735\" y=\"517.2\" style=\"font-family: 'Open Sans', verdana, arial, sans-serif; font-size: 12px; fill: rgb(68, 68, 68); fill-opacity: 1; white-space: pre;\">4</text></g><g class=\"heatmap-label\"><text text-anchor=\"middle\" data-notex=\"1\" x=\"821\" y=\"517.2\" style=\"font-family: 'Open Sans', verdana, arial, sans-serif; font-size: 12px; fill: rgb(68, 68, 68); fill-opacity: 1; white-space: pre;\">0</text></g><g class=\"heatmap-label\"><text text-anchor=\"middle\" data-notex=\"1\" x=\"908\" y=\"517.2\" style=\"font-family: 'Open Sans', verdana, arial, sans-serif; font-size: 12px; fill: rgb(68, 68, 68); fill-opacity: 1; white-space: pre;\">0.0</text></g><g class=\"heatmap-label\"><text text-anchor=\"middle\" data-notex=\"1\" x=\"994\" y=\"517.2\" style=\"font-family: 'Open Sans', verdana, arial, sans-serif; font-size: 12px; fill: rgb(68, 68, 68); fill-opacity: 1; white-space: pre;\">0.0</text></g><g class=\"heatmap-label\"><text text-anchor=\"middle\" data-notex=\"1\" x=\"1081\" y=\"517.2\" style=\"font-family: 'Open Sans', verdana, arial, sans-serif; font-size: 12px; fill: rgb(68, 68, 68); fill-opacity: 1; white-space: pre;\">35.0</text></g><g class=\"heatmap-label\"><text text-anchor=\"middle\" data-notex=\"1\" x=\"1167\" y=\"517.2\" style=\"font-family: 'Open Sans', verdana, arial, sans-serif; font-size: 12px; fill: rgb(68, 68, 68); fill-opacity: 1; white-space: pre;\">39</text></g><g class=\"heatmap-label\"><text text-anchor=\"middle\" data-notex=\"1\" x=\"1254\" y=\"517.2\" style=\"font-family: 'Open Sans', verdana, arial, sans-serif; font-size: 12px; fill: rgb(68, 68, 68); fill-opacity: 1; white-space: pre;\">1</text></g></g></g></g></g><path class=\"xlines-above crisp\" d=\"M0,0\" style=\"fill: none;\"/><path class=\"ylines-above crisp\" d=\"M0,0\" style=\"fill: none;\"/><g class=\"overlines-above\"/><g class=\"xaxislayer-above\"><g class=\"xtick\"><text text-anchor=\"middle\" x=\"0\" y=\"683\" transform=\"translate(123.22999999999999,0)\" style=\"font-family: 'Open Sans', verdana, arial, sans-serif; font-size: 12px; fill: rgb(42, 63, 95); fill-opacity: 1; white-space: pre; opacity: 1;\">age</text></g><g class=\"xtick\"><text text-anchor=\"middle\" x=\"0\" y=\"683\" transform=\"translate(209.7,0)\" style=\"font-family: 'Open Sans', verdana, arial, sans-serif; font-size: 12px; fill: rgb(42, 63, 95); fill-opacity: 1; white-space: pre; opacity: 1;\">workclass</text></g><g class=\"xtick\"><text text-anchor=\"middle\" x=\"0\" y=\"683\" transform=\"translate(296.16999999999996,0)\" style=\"font-family: 'Open Sans', verdana, arial, sans-serif; font-size: 12px; fill: rgb(42, 63, 95); fill-opacity: 1; white-space: pre; opacity: 1;\">fnlwgt</text></g><g class=\"xtick\"><text text-anchor=\"middle\" x=\"0\" y=\"683\" transform=\"translate(382.63,0)\" style=\"font-family: 'Open Sans', verdana, arial, sans-serif; font-size: 12px; fill: rgb(42, 63, 95); fill-opacity: 1; white-space: pre; opacity: 1;\">education</text></g><g class=\"xtick\"><text text-anchor=\"middle\" x=\"0\" y=\"683\" transform=\"translate(469.1,0)\" style=\"font-family: 'Open Sans', verdana, arial, sans-serif; font-size: 12px; fill: rgb(42, 63, 95); fill-opacity: 1; white-space: pre; opacity: 1;\">education-num</text></g><g class=\"xtick\"><text text-anchor=\"middle\" x=\"0\" y=\"683\" transform=\"translate(555.5699999999999,0)\" style=\"font-family: 'Open Sans', verdana, arial, sans-serif; font-size: 12px; fill: rgb(42, 63, 95); fill-opacity: 1; white-space: pre; opacity: 1;\">marital-status</text></g><g class=\"xtick\"><text text-anchor=\"middle\" x=\"0\" y=\"683\" transform=\"translate(642.03,0)\" style=\"font-family: 'Open Sans', verdana, arial, sans-serif; font-size: 12px; fill: rgb(42, 63, 95); fill-opacity: 1; white-space: pre; opacity: 1;\">occupation</text></g><g class=\"xtick\"><text text-anchor=\"middle\" x=\"0\" y=\"683\" transform=\"translate(728.5,0)\" style=\"font-family: 'Open Sans', verdana, arial, sans-serif; font-size: 12px; fill: rgb(42, 63, 95); fill-opacity: 1; white-space: pre; opacity: 1;\">relationship</text></g><g class=\"xtick\"><text text-anchor=\"middle\" x=\"0\" y=\"683\" transform=\"translate(814.97,0)\" style=\"font-family: 'Open Sans', verdana, arial, sans-serif; font-size: 12px; fill: rgb(42, 63, 95); fill-opacity: 1; white-space: pre; opacity: 1;\">race</text></g><g class=\"xtick\"><text text-anchor=\"middle\" x=\"0\" y=\"683\" transform=\"translate(901.43,0)\" style=\"font-family: 'Open Sans', verdana, arial, sans-serif; font-size: 12px; fill: rgb(42, 63, 95); fill-opacity: 1; white-space: pre; opacity: 1;\">sex</text></g><g class=\"xtick\"><text text-anchor=\"middle\" x=\"0\" y=\"683\" transform=\"translate(987.9,0)\" style=\"font-family: 'Open Sans', verdana, arial, sans-serif; font-size: 12px; fill: rgb(42, 63, 95); fill-opacity: 1; white-space: pre; opacity: 1;\">capital-gain</text></g><g class=\"xtick\"><text text-anchor=\"middle\" x=\"0\" y=\"683\" transform=\"translate(1074.37,0)\" style=\"font-family: 'Open Sans', verdana, arial, sans-serif; font-size: 12px; fill: rgb(42, 63, 95); fill-opacity: 1; white-space: pre; opacity: 1;\">capital-loss</text></g><g class=\"xtick\"><text text-anchor=\"middle\" x=\"0\" y=\"683\" transform=\"translate(1160.83,0)\" style=\"font-family: 'Open Sans', verdana, arial, sans-serif; font-size: 12px; fill: rgb(42, 63, 95); fill-opacity: 1; white-space: pre; opacity: 1;\">hours-per-week</text></g><g class=\"xtick\"><text text-anchor=\"middle\" x=\"0\" y=\"683\" transform=\"translate(1247.3,0)\" style=\"font-family: 'Open Sans', verdana, arial, sans-serif; font-size: 12px; fill: rgb(42, 63, 95); fill-opacity: 1; white-space: pre; opacity: 1;\">native-country</text></g><g class=\"xtick\"><text text-anchor=\"middle\" x=\"0\" y=\"683\" transform=\"translate(1333.77,0)\" style=\"font-family: 'Open Sans', verdana, arial, sans-serif; font-size: 12px; fill: rgb(42, 63, 95); fill-opacity: 1; white-space: pre; opacity: 1;\">target</text></g></g><g class=\"yaxislayer-above\"><g class=\"ytick\"><text text-anchor=\"end\" x=\"79\" y=\"4.199999999999999\" transform=\"translate(0,613)\" style=\"font-family: 'Open Sans', verdana, arial, sans-serif; font-size: 12px; fill: rgb(42, 63, 95); fill-opacity: 1; white-space: pre; opacity: 1;\">4</text></g><g class=\"ytick\"><text text-anchor=\"end\" x=\"79\" y=\"4.199999999999999\" style=\"font-family: 'Open Sans', verdana, arial, sans-serif; font-size: 12px; fill: rgb(42, 63, 95); fill-opacity: 1; white-space: pre; opacity: 1;\" transform=\"translate(0,499)\">3</text></g><g class=\"ytick\"><text text-anchor=\"end\" x=\"79\" y=\"4.199999999999999\" style=\"font-family: 'Open Sans', verdana, arial, sans-serif; font-size: 12px; fill: rgb(42, 63, 95); fill-opacity: 1; white-space: pre; opacity: 1;\" transform=\"translate(0,385)\">2</text></g><g class=\"ytick\"><text text-anchor=\"end\" x=\"79\" y=\"4.199999999999999\" style=\"font-family: 'Open Sans', verdana, arial, sans-serif; font-size: 12px; fill: rgb(42, 63, 95); fill-opacity: 1; white-space: pre; opacity: 1;\" transform=\"translate(0,271)\">1</text></g><g class=\"ytick\"><text text-anchor=\"end\" x=\"79\" y=\"4.199999999999999\" style=\"font-family: 'Open Sans', verdana, arial, sans-serif; font-size: 12px; fill: rgb(42, 63, 95); fill-opacity: 1; white-space: pre; opacity: 1;\" transform=\"translate(0,157)\">0</text></g></g><g class=\"overaxes-above\"/></g></g><g class=\"polarlayer\"/><g class=\"smithlayer\"/><g class=\"ternarylayer\"/><g class=\"geolayer\"/><g class=\"funnelarealayer\"/><g class=\"pielayer\"/><g class=\"iciclelayer\"/><g class=\"treemaplayer\"/><g class=\"sunburstlayer\"/><g class=\"glimages\"/><defs id=\"topdefs-7a2b8a\"><g class=\"clips\"/></defs><g class=\"layer-above\"><g class=\"imagelayer\"/><g class=\"shapelayer\"/></g><g class=\"infolayer\"><g class=\"cbcoloraxis colorbar\" transform=\"translate(80,100)\"><rect class=\"cbbg\" x=\"1323\" y=\"0\" width=\"85.314453125\" height=\"570\" style=\"fill: rgb(0, 0, 0); fill-opacity: 0; stroke: rgb(68, 68, 68); stroke-opacity: 1; stroke-width: 0;\"/><g class=\"cbfills\" transform=\"translate(0,31)\"><rect class=\"cbfill gradient_filled\" style=\"fill: url('#g7a2b8a-cbcoloraxis');\" x=\"1333\" y=\"0\" width=\"30\" height=\"529\"/></g><g class=\"cblines\" transform=\"translate(0,31)\"/><g class=\"cbaxis crisp\" transform=\"translate(0,-100)\"><g class=\"ycbcoloraxistick\"><text text-anchor=\"start\" x=\"1365.9\" y=\"4.199999999999999\" transform=\"translate(0,660)\" style=\"font-family: 'Open Sans', verdana, arial, sans-serif; font-size: 12px; fill: rgb(42, 63, 95); fill-opacity: 1; white-space: pre; opacity: 1;\">0</text></g><g class=\"ycbcoloraxistick\"><text text-anchor=\"start\" x=\"1365.9\" y=\"4.199999999999999\" style=\"font-family: 'Open Sans', verdana, arial, sans-serif; font-size: 12px; fill: rgb(42, 63, 95); fill-opacity: 1; white-space: pre; opacity: 1;\" transform=\"translate(0,607.1)\">0.5</text></g><g class=\"ycbcoloraxistick\"><text text-anchor=\"start\" x=\"1365.9\" y=\"4.199999999999999\" style=\"font-family: 'Open Sans', verdana, arial, sans-serif; font-size: 12px; fill: rgb(42, 63, 95); fill-opacity: 1; white-space: pre; opacity: 1;\" transform=\"translate(0,554.2)\">1</text></g><g class=\"ycbcoloraxistick\"><text text-anchor=\"start\" x=\"1365.9\" y=\"4.199999999999999\" style=\"font-family: 'Open Sans', verdana, arial, sans-serif; font-size: 12px; fill: rgb(42, 63, 95); fill-opacity: 1; white-space: pre; opacity: 1;\" transform=\"translate(0,501.30000000000007)\">1.5</text></g><g class=\"ycbcoloraxistick\"><text text-anchor=\"start\" x=\"1365.9\" y=\"4.199999999999999\" style=\"font-family: 'Open Sans', verdana, arial, sans-serif; font-size: 12px; fill: rgb(42, 63, 95); fill-opacity: 1; white-space: pre; opacity: 1;\" transform=\"translate(0,448.4)\">2</text></g><g class=\"ycbcoloraxistick\"><text text-anchor=\"start\" x=\"1365.9\" y=\"4.199999999999999\" style=\"font-family: 'Open Sans', verdana, arial, sans-serif; font-size: 12px; fill: rgb(42, 63, 95); fill-opacity: 1; white-space: pre; opacity: 1;\" transform=\"translate(0,395.5)\">2.5</text></g><g class=\"ycbcoloraxistick\"><text text-anchor=\"start\" x=\"1365.9\" y=\"4.199999999999999\" style=\"font-family: 'Open Sans', verdana, arial, sans-serif; font-size: 12px; fill: rgb(42, 63, 95); fill-opacity: 1; white-space: pre; opacity: 1;\" transform=\"translate(0,342.6)\">3</text></g><g class=\"ycbcoloraxistick\"><text text-anchor=\"start\" x=\"1365.9\" y=\"4.199999999999999\" style=\"font-family: 'Open Sans', verdana, arial, sans-serif; font-size: 12px; fill: rgb(42, 63, 95); fill-opacity: 1; white-space: pre; opacity: 1;\" transform=\"translate(0,289.70000000000005)\">3.5</text></g><g class=\"ycbcoloraxistick\"><text text-anchor=\"start\" x=\"1365.9\" y=\"4.199999999999999\" style=\"font-family: 'Open Sans', verdana, arial, sans-serif; font-size: 12px; fill: rgb(42, 63, 95); fill-opacity: 1; white-space: pre; opacity: 1;\" transform=\"translate(0,236.8)\">4</text></g><g class=\"ycbcoloraxistick\"><text text-anchor=\"start\" x=\"1365.9\" y=\"4.199999999999999\" style=\"font-family: 'Open Sans', verdana, arial, sans-serif; font-size: 12px; fill: rgb(42, 63, 95); fill-opacity: 1; white-space: pre; opacity: 1;\" transform=\"translate(0,183.90000000000003)\">4.5</text></g><g class=\"ycbcoloraxistick\"><text text-anchor=\"start\" x=\"1365.9\" y=\"4.199999999999999\" style=\"font-family: 'Open Sans', verdana, arial, sans-serif; font-size: 12px; fill: rgb(42, 63, 95); fill-opacity: 1; white-space: pre; opacity: 1;\" transform=\"translate(0,131.00000000000003)\">≥5</text></g></g><g class=\"cbtitleunshift\" transform=\"translate(-80,-100)\"><g class=\"cbtitle\" transform=\"\"><text class=\"ycbcoloraxistitle\" x=\"1412.94\" y=\"123.5\" text-anchor=\"start\" style=\"opacity: 1; font-family: 'Open Sans', verdana, arial, sans-serif; font-size: 14px; fill: rgb(42, 63, 95); fill-opacity: 1; white-space: pre;\">Conviction</text></g></g><rect class=\"cboutline\" x=\"1333\" y=\"31\" width=\"30\" height=\"529\" style=\"stroke: rgb(68, 68, 68); stroke-opacity: 1; fill: none; stroke-width: 0;\"/></g><g class=\"g-gtitle\"><text class=\"gtitle\" x=\"75\" y=\"50\" text-anchor=\"start\" dy=\"0em\" style=\"opacity: 1; font-family: 'Open Sans', verdana, arial, sans-serif; font-size: 17px; fill: rgb(42, 63, 95); fill-opacity: 1; white-space: pre;\">Anomalies</text></g><g class=\"g-xtitle\"><text class=\"xtitle\" x=\"728.5\" y=\"710.3\" text-anchor=\"middle\" style=\"opacity: 1; font-family: 'Open Sans', verdana, arial, sans-serif; font-size: 14px; fill: rgb(42, 63, 95); fill-opacity: 1; white-space: pre;\">Feature</text></g><g class=\"g-ytitle\"/></g></svg>"
      ]
     },
     "metadata": {},
     "output_type": "display_data"
    }
   ],
   "source": [
    "fig = plot_anomalies(inliers, inlier_case_feature_residual_convictions)\n",
    "fig.show(width=1500, height=750)"
   ]
  },
  {
   "attachments": {},
   "cell_type": "markdown",
   "metadata": {},
   "source": [
    "This chart is viewed similarly to the outliers chart, however we are now examining cases that are too similar. We can see that for several cases, most features show high `feature_residual_conviction`, indicating that that feature can very easily predicted using the other features. This indicates that all these feature values are unusually predictable compared to the rest of the cases in the model."
   ]
  },
  {
   "attachments": {},
   "cell_type": "markdown",
   "metadata": {},
   "source": [
    "# Section 4: Additional Ideas\n",
    "\n",
    "Here we detail some additional examples methods of diving deeper into the possible anomalies detected above."
   ]
  },
  {
   "cell_type": "code",
   "execution_count": 12,
   "metadata": {
    "execution": {
     "iopub.execute_input": "2025-10-25T03:28:09.905218Z",
     "iopub.status.busy": "2025-10-25T03:28:09.904992Z",
     "iopub.status.idle": "2025-10-25T03:28:09.910498Z",
     "shell.execute_reply": "2025-10-25T03:28:09.909774Z"
    }
   },
   "outputs": [],
   "source": [
    "# Helper functions\n",
    "\n",
    "def case_explain_residuals_ratio(anomalous_df, case_feature_residual_convictions, case_ind, num_features=5):\n",
    "    \"\"\"Inspect a single case and identify which of its features are particularly anomalous.\"\"\"\n",
    "    case = anomalous_df.iloc[case_ind, : ]\n",
    "    case_num = case['.session_training_index']\n",
    "    case_df = pd.concat([case, case_feature_residual_convictions.iloc[case_ind, :]], axis=1)\n",
    "    case_df = case_df.loc[df.columns]\n",
    "    case_df.columns = ['values', 'feature_full_residual_convictions_for_case']\n",
    "    case_df = case_df.sort_values(['feature_full_residual_convictions_for_case'], ascending=True)\n",
    "    print(f'key features which caused case {case_num} to be anomalous: {case_df.head().index.tolist()}')\n",
    "    print('')\n",
    "    display(case_df.head())\n",
    "\n",
    "def get_cases(anomalous_df, results, case_ind):\n",
    "    \"\"\"Inspect a single anomalous case and display its influential and boundary cases.\"\"\"\n",
    "    case = anomalous_df.iloc[case_ind, :]\n",
    "    inf_cases = pd.DataFrame(results['details']['influential_cases'][case_ind])\n",
    "\n",
    "    print('Original Case:')\n",
    "    display(case)\n",
    "    print('')\n",
    "\n",
    "    print('Influential Cases:')\n",
    "    display(inf_cases)\n",
    "    print('')"
   ]
  },
  {
   "attachments": {},
   "cell_type": "markdown",
   "metadata": {},
   "source": [
    "We can print out a more detailed view of the Outlier Residual Conviction chart shown earlier."
   ]
  },
  {
   "cell_type": "code",
   "execution_count": 13,
   "metadata": {
    "execution": {
     "iopub.execute_input": "2025-10-25T03:28:09.912165Z",
     "iopub.status.busy": "2025-10-25T03:28:09.911988Z",
     "iopub.status.idle": "2025-10-25T03:28:09.924840Z",
     "shell.execute_reply": "2025-10-25T03:28:09.924152Z"
    }
   },
   "outputs": [
    {
     "name": "stdout",
     "output_type": "stream",
     "text": [
      "key features which caused case 540 to be anomalous: ['education-num', 'native-country', 'race', 'sex', 'occupation']\n",
      "\n"
     ]
    },
    {
     "data": {
      "text/html": [
       "<div>\n",
       "<style scoped>\n",
       "    .dataframe tbody tr th:only-of-type {\n",
       "        vertical-align: middle;\n",
       "    }\n",
       "\n",
       "    .dataframe tbody tr th {\n",
       "        vertical-align: top;\n",
       "    }\n",
       "\n",
       "    .dataframe thead th {\n",
       "        text-align: right;\n",
       "    }\n",
       "</style>\n",
       "<table border=\"1\" class=\"dataframe\">\n",
       "  <thead>\n",
       "    <tr style=\"text-align: right;\">\n",
       "      <th></th>\n",
       "      <th>values</th>\n",
       "      <th>feature_full_residual_convictions_for_case</th>\n",
       "    </tr>\n",
       "  </thead>\n",
       "  <tbody>\n",
       "    <tr>\n",
       "      <th>education-num</th>\n",
       "      <td>1.0</td>\n",
       "      <td>0.008183</td>\n",
       "    </tr>\n",
       "    <tr>\n",
       "      <th>native-country</th>\n",
       "      <td>26</td>\n",
       "      <td>0.199318</td>\n",
       "    </tr>\n",
       "    <tr>\n",
       "      <th>race</th>\n",
       "      <td>4</td>\n",
       "      <td>0.249104</td>\n",
       "    </tr>\n",
       "    <tr>\n",
       "      <th>sex</th>\n",
       "      <td>1</td>\n",
       "      <td>0.489596</td>\n",
       "    </tr>\n",
       "    <tr>\n",
       "      <th>occupation</th>\n",
       "      <td>5</td>\n",
       "      <td>0.791099</td>\n",
       "    </tr>\n",
       "  </tbody>\n",
       "</table>\n",
       "</div>"
      ],
      "text/plain": [
       "               values  feature_full_residual_convictions_for_case\n",
       "education-num     1.0                                    0.008183\n",
       "native-country     26                                    0.199318\n",
       "race                4                                    0.249104\n",
       "sex                 1                                    0.489596\n",
       "occupation          5                                    0.791099"
      ]
     },
     "metadata": {},
     "output_type": "display_data"
    },
    {
     "name": "stdout",
     "output_type": "stream",
     "text": [
      "_____________\n",
      "key features which caused case 732 to be anomalous: ['education-num', 'native-country', 'race', 'sex', 'capital-loss']\n",
      "\n"
     ]
    },
    {
     "data": {
      "text/html": [
       "<div>\n",
       "<style scoped>\n",
       "    .dataframe tbody tr th:only-of-type {\n",
       "        vertical-align: middle;\n",
       "    }\n",
       "\n",
       "    .dataframe tbody tr th {\n",
       "        vertical-align: top;\n",
       "    }\n",
       "\n",
       "    .dataframe thead th {\n",
       "        text-align: right;\n",
       "    }\n",
       "</style>\n",
       "<table border=\"1\" class=\"dataframe\">\n",
       "  <thead>\n",
       "    <tr style=\"text-align: right;\">\n",
       "      <th></th>\n",
       "      <th>values</th>\n",
       "      <th>feature_full_residual_convictions_for_case</th>\n",
       "    </tr>\n",
       "  </thead>\n",
       "  <tbody>\n",
       "    <tr>\n",
       "      <th>education-num</th>\n",
       "      <td>1.0</td>\n",
       "      <td>0.000314</td>\n",
       "    </tr>\n",
       "    <tr>\n",
       "      <th>native-country</th>\n",
       "      <td>25</td>\n",
       "      <td>0.199318</td>\n",
       "    </tr>\n",
       "    <tr>\n",
       "      <th>race</th>\n",
       "      <td>1</td>\n",
       "      <td>0.248617</td>\n",
       "    </tr>\n",
       "    <tr>\n",
       "      <th>sex</th>\n",
       "      <td>0</td>\n",
       "      <td>0.257075</td>\n",
       "    </tr>\n",
       "    <tr>\n",
       "      <th>capital-loss</th>\n",
       "      <td>0.0</td>\n",
       "      <td>0.601508</td>\n",
       "    </tr>\n",
       "  </tbody>\n",
       "</table>\n",
       "</div>"
      ],
      "text/plain": [
       "               values  feature_full_residual_convictions_for_case\n",
       "education-num     1.0                                    0.000314\n",
       "native-country     25                                    0.199318\n",
       "race                1                                    0.248617\n",
       "sex                 0                                    0.257075\n",
       "capital-loss      0.0                                    0.601508"
      ]
     },
     "metadata": {},
     "output_type": "display_data"
    },
    {
     "name": "stdout",
     "output_type": "stream",
     "text": [
      "_____________\n"
     ]
    }
   ],
   "source": [
    "# Print out the explanations for outliers\n",
    "for i in range(2):\n",
    "    case_explain_residuals_ratio(\n",
    "        outliers,\n",
    "        outlier_case_feature_residual_convictions,\n",
    "        i\n",
    "    )\n",
    "    print('_____________')"
   ]
  },
  {
   "attachments": {},
   "cell_type": "markdown",
   "metadata": {},
   "source": [
    "## Influential cases\n",
    "\n",
    "[Influential Cases](https://docs.howso.com/en/release-latest/getting_started/terminology.html#influential-cases) may also provide additional clues into potentially anomalous data. If a case's influential cases do not well represent itself, then this indicates there are no cases in the model that well represent the anomalous cases.\n"
   ]
  },
  {
   "cell_type": "code",
   "execution_count": 14,
   "metadata": {
    "execution": {
     "iopub.execute_input": "2025-10-25T03:28:09.926551Z",
     "iopub.status.busy": "2025-10-25T03:28:09.926375Z",
     "iopub.status.idle": "2025-10-25T03:28:09.948210Z",
     "shell.execute_reply": "2025-10-25T03:28:09.947557Z"
    }
   },
   "outputs": [
    {
     "name": "stdout",
     "output_type": "stream",
     "text": [
      "Original Case:\n"
     ]
    },
    {
     "data": {
      "text/plain": [
       "age                                                                30.0\n",
       "workclass                                                             4\n",
       "fnlwgt                                                         193598.0\n",
       "education                                                            13\n",
       "education-num                                                       1.0\n",
       "marital-status                                                        4\n",
       "occupation                                                            5\n",
       "relationship                                                          1\n",
       "race                                                                  4\n",
       "sex                                                                   1\n",
       "capital-gain                                                        0.0\n",
       "capital-loss                                                        0.0\n",
       "hours-per-week                                                     40.0\n",
       "native-country                                                       26\n",
       "target                                                                1\n",
       "familiarity_conviction_addition                                0.020019\n",
       ".session_training_index                                             540\n",
       ".session                           17e7ea9e-ba66-4b22-b4d0-ed84fbd99f2a\n",
       "distance_contribution                                        306.265156\n",
       "category                                                        outlier\n",
       "Name: 0, dtype: object"
      ]
     },
     "metadata": {},
     "output_type": "display_data"
    },
    {
     "name": "stdout",
     "output_type": "stream",
     "text": [
      "\n",
      "Influential Cases:\n"
     ]
    },
    {
     "data": {
      "text/html": [
       "<div>\n",
       "<style scoped>\n",
       "    .dataframe tbody tr th:only-of-type {\n",
       "        vertical-align: middle;\n",
       "    }\n",
       "\n",
       "    .dataframe tbody tr th {\n",
       "        vertical-align: top;\n",
       "    }\n",
       "\n",
       "    .dataframe thead th {\n",
       "        text-align: right;\n",
       "    }\n",
       "</style>\n",
       "<table border=\"1\" class=\"dataframe\">\n",
       "  <thead>\n",
       "    <tr style=\"text-align: right;\">\n",
       "      <th></th>\n",
       "      <th>sex</th>\n",
       "      <th>marital-status</th>\n",
       "      <th>hours-per-week</th>\n",
       "      <th>age</th>\n",
       "      <th>education</th>\n",
       "      <th>capital-gain</th>\n",
       "      <th>occupation</th>\n",
       "      <th>relationship</th>\n",
       "      <th>native-country</th>\n",
       "      <th>target</th>\n",
       "      <th>workclass</th>\n",
       "      <th>education-num</th>\n",
       "      <th>.session</th>\n",
       "      <th>capital-loss</th>\n",
       "      <th>race</th>\n",
       "      <th>.influence_weight</th>\n",
       "      <th>.session_training_index</th>\n",
       "      <th>fnlwgt</th>\n",
       "    </tr>\n",
       "  </thead>\n",
       "  <tbody>\n",
       "    <tr>\n",
       "      <th>0</th>\n",
       "      <td>1</td>\n",
       "      <td>2</td>\n",
       "      <td>40</td>\n",
       "      <td>32</td>\n",
       "      <td>11</td>\n",
       "      <td>0</td>\n",
       "      <td>6</td>\n",
       "      <td>0</td>\n",
       "      <td>39</td>\n",
       "      <td>1</td>\n",
       "      <td>4</td>\n",
       "      <td>9</td>\n",
       "      <td>17e7ea9e-ba66-4b22-b4d0-ed84fbd99f2a</td>\n",
       "      <td>0</td>\n",
       "      <td>4</td>\n",
       "      <td>0.526602</td>\n",
       "      <td>510</td>\n",
       "      <td>173449</td>\n",
       "    </tr>\n",
       "    <tr>\n",
       "      <th>1</th>\n",
       "      <td>1</td>\n",
       "      <td>2</td>\n",
       "      <td>42</td>\n",
       "      <td>31</td>\n",
       "      <td>11</td>\n",
       "      <td>0</td>\n",
       "      <td>6</td>\n",
       "      <td>0</td>\n",
       "      <td>39</td>\n",
       "      <td>1</td>\n",
       "      <td>4</td>\n",
       "      <td>9</td>\n",
       "      <td>17e7ea9e-ba66-4b22-b4d0-ed84fbd99f2a</td>\n",
       "      <td>0</td>\n",
       "      <td>4</td>\n",
       "      <td>0.157386</td>\n",
       "      <td>604</td>\n",
       "      <td>96245</td>\n",
       "    </tr>\n",
       "    <tr>\n",
       "      <th>2</th>\n",
       "      <td>1</td>\n",
       "      <td>2</td>\n",
       "      <td>40</td>\n",
       "      <td>33</td>\n",
       "      <td>11</td>\n",
       "      <td>0</td>\n",
       "      <td>6</td>\n",
       "      <td>0</td>\n",
       "      <td>39</td>\n",
       "      <td>1</td>\n",
       "      <td>4</td>\n",
       "      <td>9</td>\n",
       "      <td>17e7ea9e-ba66-4b22-b4d0-ed84fbd99f2a</td>\n",
       "      <td>0</td>\n",
       "      <td>4</td>\n",
       "      <td>0.122871</td>\n",
       "      <td>407</td>\n",
       "      <td>269705</td>\n",
       "    </tr>\n",
       "    <tr>\n",
       "      <th>3</th>\n",
       "      <td>1</td>\n",
       "      <td>2</td>\n",
       "      <td>40</td>\n",
       "      <td>25</td>\n",
       "      <td>11</td>\n",
       "      <td>0</td>\n",
       "      <td>6</td>\n",
       "      <td>0</td>\n",
       "      <td>39</td>\n",
       "      <td>1</td>\n",
       "      <td>4</td>\n",
       "      <td>9</td>\n",
       "      <td>17e7ea9e-ba66-4b22-b4d0-ed84fbd99f2a</td>\n",
       "      <td>0</td>\n",
       "      <td>4</td>\n",
       "      <td>0.108620</td>\n",
       "      <td>881</td>\n",
       "      <td>218667</td>\n",
       "    </tr>\n",
       "    <tr>\n",
       "      <th>4</th>\n",
       "      <td>1</td>\n",
       "      <td>2</td>\n",
       "      <td>40</td>\n",
       "      <td>25</td>\n",
       "      <td>11</td>\n",
       "      <td>0</td>\n",
       "      <td>6</td>\n",
       "      <td>0</td>\n",
       "      <td>39</td>\n",
       "      <td>1</td>\n",
       "      <td>4</td>\n",
       "      <td>9</td>\n",
       "      <td>17e7ea9e-ba66-4b22-b4d0-ed84fbd99f2a</td>\n",
       "      <td>0</td>\n",
       "      <td>4</td>\n",
       "      <td>0.084522</td>\n",
       "      <td>269</td>\n",
       "      <td>236267</td>\n",
       "    </tr>\n",
       "  </tbody>\n",
       "</table>\n",
       "</div>"
      ],
      "text/plain": [
       "   sex  marital-status  hours-per-week  age  education  capital-gain  \\\n",
       "0    1               2              40   32         11             0   \n",
       "1    1               2              42   31         11             0   \n",
       "2    1               2              40   33         11             0   \n",
       "3    1               2              40   25         11             0   \n",
       "4    1               2              40   25         11             0   \n",
       "\n",
       "   occupation  relationship  native-country  target  workclass  education-num  \\\n",
       "0           6             0              39       1          4              9   \n",
       "1           6             0              39       1          4              9   \n",
       "2           6             0              39       1          4              9   \n",
       "3           6             0              39       1          4              9   \n",
       "4           6             0              39       1          4              9   \n",
       "\n",
       "                               .session  capital-loss  race  \\\n",
       "0  17e7ea9e-ba66-4b22-b4d0-ed84fbd99f2a             0     4   \n",
       "1  17e7ea9e-ba66-4b22-b4d0-ed84fbd99f2a             0     4   \n",
       "2  17e7ea9e-ba66-4b22-b4d0-ed84fbd99f2a             0     4   \n",
       "3  17e7ea9e-ba66-4b22-b4d0-ed84fbd99f2a             0     4   \n",
       "4  17e7ea9e-ba66-4b22-b4d0-ed84fbd99f2a             0     4   \n",
       "\n",
       "   .influence_weight  .session_training_index  fnlwgt  \n",
       "0           0.526602                      510  173449  \n",
       "1           0.157386                      604   96245  \n",
       "2           0.122871                      407  269705  \n",
       "3           0.108620                      881  218667  \n",
       "4           0.084522                      269  236267  "
      ]
     },
     "metadata": {},
     "output_type": "display_data"
    },
    {
     "name": "stdout",
     "output_type": "stream",
     "text": [
      "\n",
      "_____________\n",
      "Original Case:\n"
     ]
    },
    {
     "data": {
      "text/plain": [
       "age                                                                23.0\n",
       "workclass                                                             4\n",
       "fnlwgt                                                         240049.0\n",
       "education                                                            13\n",
       "education-num                                                       1.0\n",
       "marital-status                                                        4\n",
       "occupation                                                            8\n",
       "relationship                                                          1\n",
       "race                                                                  1\n",
       "sex                                                                   0\n",
       "capital-gain                                                        0.0\n",
       "capital-loss                                                        0.0\n",
       "hours-per-week                                                     40.0\n",
       "native-country                                                       25\n",
       "target                                                                1\n",
       "familiarity_conviction_addition                                0.023355\n",
       ".session_training_index                                             732\n",
       ".session                           17e7ea9e-ba66-4b22-b4d0-ed84fbd99f2a\n",
       "distance_contribution                                        280.379224\n",
       "category                                                        outlier\n",
       "Name: 1, dtype: object"
      ]
     },
     "metadata": {},
     "output_type": "display_data"
    },
    {
     "name": "stdout",
     "output_type": "stream",
     "text": [
      "\n",
      "Influential Cases:\n"
     ]
    },
    {
     "data": {
      "text/html": [
       "<div>\n",
       "<style scoped>\n",
       "    .dataframe tbody tr th:only-of-type {\n",
       "        vertical-align: middle;\n",
       "    }\n",
       "\n",
       "    .dataframe tbody tr th {\n",
       "        vertical-align: top;\n",
       "    }\n",
       "\n",
       "    .dataframe thead th {\n",
       "        text-align: right;\n",
       "    }\n",
       "</style>\n",
       "<table border=\"1\" class=\"dataframe\">\n",
       "  <thead>\n",
       "    <tr style=\"text-align: right;\">\n",
       "      <th></th>\n",
       "      <th>sex</th>\n",
       "      <th>marital-status</th>\n",
       "      <th>hours-per-week</th>\n",
       "      <th>age</th>\n",
       "      <th>education</th>\n",
       "      <th>capital-gain</th>\n",
       "      <th>occupation</th>\n",
       "      <th>relationship</th>\n",
       "      <th>native-country</th>\n",
       "      <th>target</th>\n",
       "      <th>workclass</th>\n",
       "      <th>education-num</th>\n",
       "      <th>.session</th>\n",
       "      <th>capital-loss</th>\n",
       "      <th>race</th>\n",
       "      <th>.influence_weight</th>\n",
       "      <th>.session_training_index</th>\n",
       "      <th>fnlwgt</th>\n",
       "    </tr>\n",
       "  </thead>\n",
       "  <tbody>\n",
       "    <tr>\n",
       "      <th>0</th>\n",
       "      <td>1</td>\n",
       "      <td>2</td>\n",
       "      <td>40</td>\n",
       "      <td>25</td>\n",
       "      <td>11</td>\n",
       "      <td>0</td>\n",
       "      <td>6</td>\n",
       "      <td>0</td>\n",
       "      <td>39</td>\n",
       "      <td>1</td>\n",
       "      <td>4</td>\n",
       "      <td>9</td>\n",
       "      <td>17e7ea9e-ba66-4b22-b4d0-ed84fbd99f2a</td>\n",
       "      <td>0</td>\n",
       "      <td>4</td>\n",
       "      <td>0.832923</td>\n",
       "      <td>269</td>\n",
       "      <td>236267</td>\n",
       "    </tr>\n",
       "    <tr>\n",
       "      <th>1</th>\n",
       "      <td>1</td>\n",
       "      <td>2</td>\n",
       "      <td>40</td>\n",
       "      <td>30</td>\n",
       "      <td>11</td>\n",
       "      <td>0</td>\n",
       "      <td>6</td>\n",
       "      <td>0</td>\n",
       "      <td>39</td>\n",
       "      <td>1</td>\n",
       "      <td>4</td>\n",
       "      <td>9</td>\n",
       "      <td>17e7ea9e-ba66-4b22-b4d0-ed84fbd99f2a</td>\n",
       "      <td>0</td>\n",
       "      <td>4</td>\n",
       "      <td>0.118074</td>\n",
       "      <td>198</td>\n",
       "      <td>190228</td>\n",
       "    </tr>\n",
       "    <tr>\n",
       "      <th>2</th>\n",
       "      <td>1</td>\n",
       "      <td>2</td>\n",
       "      <td>40</td>\n",
       "      <td>32</td>\n",
       "      <td>11</td>\n",
       "      <td>0</td>\n",
       "      <td>6</td>\n",
       "      <td>0</td>\n",
       "      <td>39</td>\n",
       "      <td>1</td>\n",
       "      <td>4</td>\n",
       "      <td>9</td>\n",
       "      <td>17e7ea9e-ba66-4b22-b4d0-ed84fbd99f2a</td>\n",
       "      <td>0</td>\n",
       "      <td>4</td>\n",
       "      <td>0.027818</td>\n",
       "      <td>510</td>\n",
       "      <td>173449</td>\n",
       "    </tr>\n",
       "    <tr>\n",
       "      <th>3</th>\n",
       "      <td>1</td>\n",
       "      <td>2</td>\n",
       "      <td>40</td>\n",
       "      <td>33</td>\n",
       "      <td>11</td>\n",
       "      <td>0</td>\n",
       "      <td>6</td>\n",
       "      <td>0</td>\n",
       "      <td>39</td>\n",
       "      <td>1</td>\n",
       "      <td>4</td>\n",
       "      <td>9</td>\n",
       "      <td>17e7ea9e-ba66-4b22-b4d0-ed84fbd99f2a</td>\n",
       "      <td>0</td>\n",
       "      <td>4</td>\n",
       "      <td>0.013421</td>\n",
       "      <td>407</td>\n",
       "      <td>269705</td>\n",
       "    </tr>\n",
       "    <tr>\n",
       "      <th>4</th>\n",
       "      <td>1</td>\n",
       "      <td>2</td>\n",
       "      <td>42</td>\n",
       "      <td>31</td>\n",
       "      <td>11</td>\n",
       "      <td>0</td>\n",
       "      <td>6</td>\n",
       "      <td>0</td>\n",
       "      <td>39</td>\n",
       "      <td>1</td>\n",
       "      <td>4</td>\n",
       "      <td>9</td>\n",
       "      <td>17e7ea9e-ba66-4b22-b4d0-ed84fbd99f2a</td>\n",
       "      <td>0</td>\n",
       "      <td>4</td>\n",
       "      <td>0.007763</td>\n",
       "      <td>604</td>\n",
       "      <td>96245</td>\n",
       "    </tr>\n",
       "  </tbody>\n",
       "</table>\n",
       "</div>"
      ],
      "text/plain": [
       "   sex  marital-status  hours-per-week  age  education  capital-gain  \\\n",
       "0    1               2              40   25         11             0   \n",
       "1    1               2              40   30         11             0   \n",
       "2    1               2              40   32         11             0   \n",
       "3    1               2              40   33         11             0   \n",
       "4    1               2              42   31         11             0   \n",
       "\n",
       "   occupation  relationship  native-country  target  workclass  education-num  \\\n",
       "0           6             0              39       1          4              9   \n",
       "1           6             0              39       1          4              9   \n",
       "2           6             0              39       1          4              9   \n",
       "3           6             0              39       1          4              9   \n",
       "4           6             0              39       1          4              9   \n",
       "\n",
       "                               .session  capital-loss  race  \\\n",
       "0  17e7ea9e-ba66-4b22-b4d0-ed84fbd99f2a             0     4   \n",
       "1  17e7ea9e-ba66-4b22-b4d0-ed84fbd99f2a             0     4   \n",
       "2  17e7ea9e-ba66-4b22-b4d0-ed84fbd99f2a             0     4   \n",
       "3  17e7ea9e-ba66-4b22-b4d0-ed84fbd99f2a             0     4   \n",
       "4  17e7ea9e-ba66-4b22-b4d0-ed84fbd99f2a             0     4   \n",
       "\n",
       "   .influence_weight  .session_training_index  fnlwgt  \n",
       "0           0.832923                      269  236267  \n",
       "1           0.118074                      198  190228  \n",
       "2           0.027818                      510  173449  \n",
       "3           0.013421                      407  269705  \n",
       "4           0.007763                      604   96245  "
      ]
     },
     "metadata": {},
     "output_type": "display_data"
    },
    {
     "name": "stdout",
     "output_type": "stream",
     "text": [
      "\n",
      "_____________\n"
     ]
    }
   ],
   "source": [
    "# Print influential and boundary case outliers\n",
    "for i in range(2):\n",
    "    get_cases(outliers, results, i)\n",
    "    print('_____________')"
   ]
  }
 ],
 "metadata": {
  "kernelspec": {
   "display_name": "engine_rec_312",
   "language": "python",
   "name": "python3"
  },
  "language_info": {
   "codemirror_mode": {
    "name": "ipython",
    "version": 3
   },
   "file_extension": ".py",
   "mimetype": "text/x-python",
   "name": "python",
   "nbconvert_exporter": "python",
   "pygments_lexer": "ipython3",
   "version": "3.10.18"
  }
 },
 "nbformat": 4,
 "nbformat_minor": 4
}
