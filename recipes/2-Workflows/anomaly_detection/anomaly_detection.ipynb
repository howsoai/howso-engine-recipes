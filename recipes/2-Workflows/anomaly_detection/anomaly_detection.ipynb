{
 "cells": [
  {
   "attachments": {},
   "cell_type": "markdown",
   "metadata": {},
   "source": [
    "# Anomaly Detection\n",
    "## Overview \n",
    "\n",
    "In the recipe, `engine-insights.ipynb`, we demonstrated an introduction to anomaly detection. In this recipe, expand on the methods used in that recipe. Howso Engine can be used to identify anomalous cases in a dataset and also explain why those cases may be anomalous. Furthermore, we can leverage other tools we learned in previous recipes, such  as influential and boundary cases, to provide additional context.\n",
    "\n",
    "Finding anomalous cases has value in both model building and data exploration. For example, as we continue to build a suitable model for the `Adult` datset, detecting anomalies can give us insight into whether we need to clean the dataset to reduce false signals. Possible sources of anomalies could be cases that are erroneous or falsified.   \n"
   ]
  },
  {
   "attachments": {},
   "cell_type": "markdown",
   "metadata": {},
   "source": [
    "# Section 1: Load, Train, Analyze\n",
    "\n",
    "For questions about the specific steps of this section, please see the [basic workflow guide](https://docs.howso.com/en/release-latest/user_guide/basic_capabilities/basic_workflow.html).\n"
   ]
  },
  {
   "cell_type": "code",
   "execution_count": 1,
   "metadata": {
    "execution": {
     "iopub.execute_input": "2025-10-17T22:22:19.803980Z",
     "iopub.status.busy": "2025-10-17T22:22:19.803801Z",
     "iopub.status.idle": "2025-10-17T22:22:25.053195Z",
     "shell.execute_reply": "2025-10-17T22:22:25.052281Z"
    }
   },
   "outputs": [],
   "source": [
    "import pandas as pd\n",
    "from pmlb import fetch_data\n",
    "\n",
    "from howso.engine import Trainee\n",
    "from howso.utilities import infer_feature_attributes\n",
    "from howso.visuals import plot_anomalies"
   ]
  },
  {
   "cell_type": "markdown",
   "metadata": {},
   "source": [
    "### Step 1: Load Data and Create Trainee\n",
    "\n",
    "Our example dataset for this recipe continues to be the well known `Adult` dataset. This dataset consists of 14 Context Features and 1 Action Feature. The Action Feature in this version of the `Adult` dataset has been renamed to `target` and it takes the form of a binary indicator for whether a person in the data makes over $50,000/year (*target*=1) or less (*target*=0)."
   ]
  },
  {
   "cell_type": "code",
   "execution_count": 2,
   "metadata": {
    "execution": {
     "iopub.execute_input": "2025-10-17T22:22:25.055612Z",
     "iopub.status.busy": "2025-10-17T22:22:25.055237Z",
     "iopub.status.idle": "2025-10-17T22:22:25.399058Z",
     "shell.execute_reply": "2025-10-17T22:22:25.398082Z"
    }
   },
   "outputs": [],
   "source": [
    "df = fetch_data('adult', local_cache_dir=\"../../data/adult\")\n",
    "\n",
    "# Subsample the data to ensure the example runs quickly\n",
    "df = df.sample(1000, random_state=0)\n",
    "\n",
    "# Infer feature attributes\n",
    "features = infer_feature_attributes(df)\n",
    "\n",
    "# Create the Trainee\n",
    "t = Trainee(features=features)"
   ]
  },
  {
   "attachments": {},
   "cell_type": "markdown",
   "metadata": {},
   "source": [
    "### Step 2: Train and Analyze"
   ]
  },
  {
   "cell_type": "code",
   "execution_count": 3,
   "metadata": {
    "execution": {
     "iopub.execute_input": "2025-10-17T22:22:25.401209Z",
     "iopub.status.busy": "2025-10-17T22:22:25.401017Z",
     "iopub.status.idle": "2025-10-17T22:22:31.039881Z",
     "shell.execute_reply": "2025-10-17T22:22:31.038961Z"
    }
   },
   "outputs": [],
   "source": [
    "t.train(df)\n",
    "\n",
    "# Targetless Analysis\n",
    "t.analyze()"
   ]
  },
  {
   "attachments": {},
   "cell_type": "markdown",
   "metadata": {},
   "source": [
    "# Section 2: Anomaly Identification\n",
    "\n",
    "We will use [Familiarity Conviction](https://docs.howso.com/en/release-latest/getting_started/terminology.html#familiarity-conviction) and [Distance Contribution](https://docs.howso.com/en/release-latest/getting_started/terminology.html#distance-contribution) to identify potentially anomalous cases. Conviction is a value indicating how surprising a case is relative to how surprising other cases in the model are. In the case of `Familiarity Conviction`, the level of surprisal is measured by the perturbation of the probability distribution when the case is added or removed (hence the parameters: `familiarity_conviction_addition` and `familiarity_conviction_removal`).  Howso Engine’s interpretability tools also enable us to understand why these cases may be anomalous and whether they are outliers and inliers. "
   ]
  },
  {
   "attachments": {},
   "cell_type": "markdown",
   "metadata": {},
   "source": [
    "### Step 1: Compute Distance Contribution and Familiarity Conviction for every case\n",
    "\n",
    "The first step is to use `react_into_features` and select the metrics we want to return.\n",
    "\n",
    "`react_into_features` is a method that calculates the desired attributes for every case in the Trainee and caches those values into each case as a feature.\n",
    "\n",
    "Notably, this means that these features can then be used as context and action features, but this is only recommended for advanced use-cases."
   ]
  },
  {
   "cell_type": "code",
   "execution_count": 4,
   "metadata": {
    "execution": {
     "iopub.execute_input": "2025-10-17T22:22:31.042030Z",
     "iopub.status.busy": "2025-10-17T22:22:31.041816Z",
     "iopub.status.idle": "2025-10-17T22:22:31.123622Z",
     "shell.execute_reply": "2025-10-17T22:22:31.122808Z"
    }
   },
   "outputs": [],
   "source": [
    "# Store the familiarity conviction and distance contribution, this will be used to identify anomalous cases\n",
    "t.react_into_features(\n",
    "    familiarity_conviction_addition=True,\n",
    "    distance_contribution=True\n",
    ")\n",
    "\n",
    "stored_convictions = t.get_cases(\n",
    "    session=t.active_session,\n",
    "    features=df.columns.tolist() + ['familiarity_conviction_addition','.session_training_index', '.session', 'distance_contribution']\n",
    ")"
   ]
  },
  {
   "attachments": {},
   "cell_type": "markdown",
   "metadata": {},
   "source": [
    "### Step 2: Set Threshold and Identify Anomalies\n",
    "\n",
    "There is no absolute threshold for what is considered to be anomalous, as anomalous behavior is a measure of surprisal. Thus, this is a lever that the user can change depending on the data. The threshold should be more or less than 1, which indicates average surprisal.\n",
    "\n",
    "We first use `familiarity_conviction_addition` to find anomalies, and then use the average `distance_contribution` to determine what type of anomaly the case is (e.g., inlier vs. outlier). Cases with large distance contributions will be considered outliers and those with\n",
    "low distance contributions will be inliers.\n",
    "\n",
    "For this data, we use a threshold of 0.75 for the Familiarity Conviction. Cases with a Familarity Conviction below this value will be considered outliers."
   ]
  },
  {
   "cell_type": "code",
   "execution_count": 5,
   "metadata": {
    "execution": {
     "iopub.execute_input": "2025-10-17T22:22:31.126100Z",
     "iopub.status.busy": "2025-10-17T22:22:31.125866Z",
     "iopub.status.idle": "2025-10-17T22:22:31.131851Z",
     "shell.execute_reply": "2025-10-17T22:22:31.131072Z"
    }
   },
   "outputs": [],
   "source": [
    "# Threshold to determine which cases will be deemed anomalous\n",
    "convict_threshold = 0.75\n",
    "\n",
    "# Extract the anomalous cases\n",
    "low_convicts = stored_convictions[\n",
    "    stored_convictions['familiarity_conviction_addition'] <= convict_threshold\n",
    "].sort_values('familiarity_conviction_addition', ascending=True)\n",
    "\n",
    "# Average distance contribution will be used to determine if a case is an outlier or inlier\n",
    "average_dist_contribution = low_convicts['distance_contribution'].mean()\n",
    "\n",
    "# A case with distance contribution greater than average will be tagged as outlier, and vice versa for inliers\n",
    "cat = [\n",
    "    'inlier' if d < average_dist_contribution else\n",
    "    'outlier' for d in low_convicts['distance_contribution']\n",
    "]\n",
    "low_convicts['category'] = cat"
   ]
  },
  {
   "attachments": {},
   "cell_type": "markdown",
   "metadata": {},
   "source": [
    "# Section 3: Anomaly Inspection"
   ]
  },
  {
   "attachments": {},
   "cell_type": "markdown",
   "metadata": {},
   "source": [
    "\n",
    "### Step 1: Inspect Outliers\n",
    "\n",
    "Typically, when we think of anomalies, we think of outliers or cases that are significantly different that the rest of the data, whether erroneous or not. Preprocessing in machine learning often involves pruning these data points as they can add undesired noise to a model. \n",
    "\n",
    "The Case Feature Residual Conviction will be used to understand why each case was anomalous.\n",
    "\n",
    "In our example use case where the `Adult` dataset is used to determine projected salary for loan applications, we want to eliminate any erroneous outliers if possible. We may also want to detect substituted values, as often times datasets may substitute special values with nominal integers. For example, blank values in an application are often coded with high integers like 99999 which can introduce noise in the dataset.\n",
    "\n",
    "### **Definitions:**\n",
    "\n",
    "**`case_feature_residual_convictions`** :  This is calculated using the local feature residuals, divided by the feature residuals of the Case to obtain the Convictions."
   ]
  },
  {
   "cell_type": "code",
   "execution_count": 6,
   "metadata": {
    "execution": {
     "iopub.execute_input": "2025-10-17T22:22:31.133662Z",
     "iopub.status.busy": "2025-10-17T22:22:31.133479Z",
     "iopub.status.idle": "2025-10-17T22:22:31.149469Z",
     "shell.execute_reply": "2025-10-17T22:22:31.148667Z"
    }
   },
   "outputs": [
    {
     "data": {
      "text/html": [
       "<div>\n",
       "<style scoped>\n",
       "    .dataframe tbody tr th:only-of-type {\n",
       "        vertical-align: middle;\n",
       "    }\n",
       "\n",
       "    .dataframe tbody tr th {\n",
       "        vertical-align: top;\n",
       "    }\n",
       "\n",
       "    .dataframe thead th {\n",
       "        text-align: right;\n",
       "    }\n",
       "</style>\n",
       "<table border=\"1\" class=\"dataframe\">\n",
       "  <thead>\n",
       "    <tr style=\"text-align: right;\">\n",
       "      <th></th>\n",
       "      <th>age</th>\n",
       "      <th>workclass</th>\n",
       "      <th>fnlwgt</th>\n",
       "      <th>education</th>\n",
       "      <th>education-num</th>\n",
       "      <th>marital-status</th>\n",
       "      <th>occupation</th>\n",
       "      <th>relationship</th>\n",
       "      <th>race</th>\n",
       "      <th>sex</th>\n",
       "      <th>capital-gain</th>\n",
       "      <th>capital-loss</th>\n",
       "      <th>hours-per-week</th>\n",
       "      <th>native-country</th>\n",
       "      <th>target</th>\n",
       "      <th>familiarity_conviction_addition</th>\n",
       "      <th>.session_training_index</th>\n",
       "      <th>.session</th>\n",
       "      <th>distance_contribution</th>\n",
       "      <th>category</th>\n",
       "    </tr>\n",
       "  </thead>\n",
       "  <tbody>\n",
       "    <tr>\n",
       "      <th>0</th>\n",
       "      <td>30.0</td>\n",
       "      <td>4</td>\n",
       "      <td>193598.0</td>\n",
       "      <td>13</td>\n",
       "      <td>1.0</td>\n",
       "      <td>4</td>\n",
       "      <td>5</td>\n",
       "      <td>1</td>\n",
       "      <td>4</td>\n",
       "      <td>1</td>\n",
       "      <td>0.0</td>\n",
       "      <td>0.0</td>\n",
       "      <td>40.0</td>\n",
       "      <td>26</td>\n",
       "      <td>1</td>\n",
       "      <td>0.020018</td>\n",
       "      <td>540</td>\n",
       "      <td>cf716d06-4abb-43b5-a4ca-9d514001784e</td>\n",
       "      <td>306.265156</td>\n",
       "      <td>outlier</td>\n",
       "    </tr>\n",
       "    <tr>\n",
       "      <th>1</th>\n",
       "      <td>23.0</td>\n",
       "      <td>4</td>\n",
       "      <td>240049.0</td>\n",
       "      <td>13</td>\n",
       "      <td>1.0</td>\n",
       "      <td>4</td>\n",
       "      <td>8</td>\n",
       "      <td>1</td>\n",
       "      <td>1</td>\n",
       "      <td>0</td>\n",
       "      <td>0.0</td>\n",
       "      <td>0.0</td>\n",
       "      <td>40.0</td>\n",
       "      <td>25</td>\n",
       "      <td>1</td>\n",
       "      <td>0.023355</td>\n",
       "      <td>732</td>\n",
       "      <td>cf716d06-4abb-43b5-a4ca-9d514001784e</td>\n",
       "      <td>280.379224</td>\n",
       "      <td>outlier</td>\n",
       "    </tr>\n",
       "    <tr>\n",
       "      <th>2</th>\n",
       "      <td>65.0</td>\n",
       "      <td>5</td>\n",
       "      <td>184965.0</td>\n",
       "      <td>10</td>\n",
       "      <td>16.0</td>\n",
       "      <td>2</td>\n",
       "      <td>4</td>\n",
       "      <td>0</td>\n",
       "      <td>4</td>\n",
       "      <td>1</td>\n",
       "      <td>99999.0</td>\n",
       "      <td>0.0</td>\n",
       "      <td>40.0</td>\n",
       "      <td>39</td>\n",
       "      <td>0</td>\n",
       "      <td>0.025732</td>\n",
       "      <td>649</td>\n",
       "      <td>cf716d06-4abb-43b5-a4ca-9d514001784e</td>\n",
       "      <td>387.300496</td>\n",
       "      <td>outlier</td>\n",
       "    </tr>\n",
       "  </tbody>\n",
       "</table>\n",
       "</div>"
      ],
      "text/plain": [
       "    age  workclass    fnlwgt  education  education-num  marital-status  \\\n",
       "0  30.0          4  193598.0         13            1.0               4   \n",
       "1  23.0          4  240049.0         13            1.0               4   \n",
       "2  65.0          5  184965.0         10           16.0               2   \n",
       "\n",
       "   occupation  relationship  race  sex  capital-gain  capital-loss  \\\n",
       "0           5             1     4    1           0.0           0.0   \n",
       "1           8             1     1    0           0.0           0.0   \n",
       "2           4             0     4    1       99999.0           0.0   \n",
       "\n",
       "   hours-per-week  native-country  target  familiarity_conviction_addition  \\\n",
       "0            40.0              26       1                         0.020018   \n",
       "1            40.0              25       1                         0.023355   \n",
       "2            40.0              39       0                         0.025732   \n",
       "\n",
       "   .session_training_index                              .session  \\\n",
       "0                      540  cf716d06-4abb-43b5-a4ca-9d514001784e   \n",
       "1                      732  cf716d06-4abb-43b5-a4ca-9d514001784e   \n",
       "2                      649  cf716d06-4abb-43b5-a4ca-9d514001784e   \n",
       "\n",
       "   distance_contribution category  \n",
       "0             306.265156  outlier  \n",
       "1             280.379224  outlier  \n",
       "2             387.300496  outlier  "
      ]
     },
     "execution_count": 6,
     "metadata": {},
     "output_type": "execute_result"
    }
   ],
   "source": [
    "# Extract the outliers cases\n",
    "outliers = low_convicts[low_convicts['category'] == 'outlier'].reset_index(drop=True)\n",
    "outliers.head(3)"
   ]
  },
  {
   "attachments": {},
   "cell_type": "markdown",
   "metadata": {},
   "source": [
    "### Step 2: Outlier Value Evaluation\n",
    "\n",
    "From the above results, we can see which cases may be anomalous, however just knowing whether a case is potentially an anomaly doesn't give us all the information we need to make an informed decision. If we are deciding whether to prune a case from our training set, often we only want to prune erroneous values. Even if a case is an anomaly in terms of distance or value, if it is valid we may still leave it in as it represents a legitimate data point. \n",
    "\n",
    "By looking at the `Case Feature Residual Convictions`, we can gain some insight as to why a case was deemed anomalous."
   ]
  },
  {
   "cell_type": "code",
   "execution_count": 7,
   "metadata": {
    "execution": {
     "iopub.execute_input": "2025-10-17T22:22:31.184180Z",
     "iopub.status.busy": "2025-10-17T22:22:31.183992Z",
     "iopub.status.idle": "2025-10-17T22:22:31.952035Z",
     "shell.execute_reply": "2025-10-17T22:22:31.951234Z"
    }
   },
   "outputs": [],
   "source": [
    "# We add a few extra metrics for subsequent examples in this notebook\n",
    "# Get the case_feature_residual_convictions, influential_cases and boundary_cases\n",
    "details = {\n",
    "    'influential_cases': True,\n",
    "    'feature_full_residual_convictions_for_case': True\n",
    "}\n",
    "\n",
    "# Specify outlier cases\n",
    "outliers_indices = outliers[['.session', '.session_training_index']].values\n",
    "\n",
    "# Residuals must be computed and cached for some of these details\n",
    "t.react_aggregate(details = {\"feature_full_residuals\": True}).to_dataframe()\n",
    "\n",
    "# React to get the details of each anomalous case\n",
    "#   Specify trained cases to react to with 'case_indices'\n",
    "results = t.react(\n",
    "    case_indices=outliers_indices,\n",
    "    preserve_feature_values=df.columns.tolist(),\n",
    "    leave_case_out=True,\n",
    "    details=details\n",
    ")\n",
    "\n",
    "outlier_case_feature_residual_convictions = pd.DataFrame(\n",
    "    results['details']['feature_full_residual_convictions_for_case']\n",
    ")[df.columns.tolist()]"
   ]
  },
  {
   "cell_type": "code",
   "execution_count": 8,
   "metadata": {
    "execution": {
     "iopub.execute_input": "2025-10-17T22:22:31.954381Z",
     "iopub.status.busy": "2025-10-17T22:22:31.954162Z",
     "iopub.status.idle": "2025-10-17T22:22:35.363163Z",
     "shell.execute_reply": "2025-10-17T22:22:35.362373Z"
    }
   },
   "outputs": [
    {
     "data": {
      "image/svg+xml": [
       "<svg class=\"main-svg\" xmlns=\"http://www.w3.org/2000/svg\" xmlns:xlink=\"http://www.w3.org/1999/xlink\" width=\"1500\" height=\"750\" style=\"\" viewBox=\"0 0 1500 750\"><rect x=\"0\" y=\"0\" width=\"1500\" height=\"750\" style=\"fill: rgb(255, 255, 255); fill-opacity: 1;\"/><defs id=\"defs-67fddb\"><g class=\"clips\"><clipPath id=\"clip67fddbxyplot\" class=\"plotclip\"><rect width=\"1297\" height=\"570\"/></clipPath><clipPath class=\"axesclip\" id=\"clip67fddbx\"><rect x=\"80\" y=\"0\" width=\"1297\" height=\"750\"/></clipPath><clipPath class=\"axesclip\" id=\"clip67fddby\"><rect x=\"0\" y=\"100\" width=\"1500\" height=\"570\"/></clipPath><clipPath class=\"axesclip\" id=\"clip67fddbxy\"><rect x=\"80\" y=\"100\" width=\"1297\" height=\"570\"/></clipPath></g><g class=\"gradients\"><linearGradient x1=\"0\" y1=\"1\" x2=\"0\" y2=\"0\" gradientUnits=\"objectBoundingBox\" id=\"g67fddb-cbcoloraxis\"><stop offset=\"0%\" stop-color=\"rgb(103, 0, 31)\" stop-opacity=\"1\"/><stop offset=\"20%\" stop-color=\"rgb(247, 247, 247)\" stop-opacity=\"1\"/><stop offset=\"40%\" stop-color=\"rgb(67, 147, 195)\" stop-opacity=\"1\"/><stop offset=\"100%\" stop-color=\"rgb(5, 48, 97)\" stop-opacity=\"1\"/></linearGradient></g><g class=\"patterns\"/></defs><g class=\"bglayer\"><rect class=\"bg\" x=\"80\" y=\"100\" width=\"1297\" height=\"570\" style=\"fill: rgb(229, 236, 246); fill-opacity: 1; stroke-width: 0;\"/></g><g class=\"layer-below\"><g class=\"imagelayer\"/><g class=\"shapelayer\"/></g><g class=\"cartesianlayer\"><g class=\"subplot xy\"><g class=\"layer-subplot\"><g class=\"shapelayer\"/><g class=\"imagelayer\"/></g><g class=\"minor-gridlayer\"><g class=\"x\"/><g class=\"y\"/></g><g class=\"gridlayer\"><g class=\"x\"><path class=\"xgrid crisp\" transform=\"translate(123.22999999999999,0)\" d=\"M0,100v570\" style=\"stroke: rgb(255, 255, 255); stroke-opacity: 1; stroke-width: 1px;\"/><path class=\"xgrid crisp\" transform=\"translate(209.7,0)\" d=\"M0,100v570\" style=\"stroke: rgb(255, 255, 255); stroke-opacity: 1; stroke-width: 1px;\"/><path class=\"xgrid crisp\" transform=\"translate(296.16999999999996,0)\" d=\"M0,100v570\" style=\"stroke: rgb(255, 255, 255); stroke-opacity: 1; stroke-width: 1px;\"/><path class=\"xgrid crisp\" transform=\"translate(382.63,0)\" d=\"M0,100v570\" style=\"stroke: rgb(255, 255, 255); stroke-opacity: 1; stroke-width: 1px;\"/><path class=\"xgrid crisp\" transform=\"translate(469.1,0)\" d=\"M0,100v570\" style=\"stroke: rgb(255, 255, 255); stroke-opacity: 1; stroke-width: 1px;\"/><path class=\"xgrid crisp\" transform=\"translate(555.5699999999999,0)\" d=\"M0,100v570\" style=\"stroke: rgb(255, 255, 255); stroke-opacity: 1; stroke-width: 1px;\"/><path class=\"xgrid crisp\" transform=\"translate(642.03,0)\" d=\"M0,100v570\" style=\"stroke: rgb(255, 255, 255); stroke-opacity: 1; stroke-width: 1px;\"/><path class=\"xgrid crisp\" transform=\"translate(728.5,0)\" d=\"M0,100v570\" style=\"stroke: rgb(255, 255, 255); stroke-opacity: 1; stroke-width: 1px;\"/><path class=\"xgrid crisp\" transform=\"translate(814.97,0)\" d=\"M0,100v570\" style=\"stroke: rgb(255, 255, 255); stroke-opacity: 1; stroke-width: 1px;\"/><path class=\"xgrid crisp\" transform=\"translate(901.43,0)\" d=\"M0,100v570\" style=\"stroke: rgb(255, 255, 255); stroke-opacity: 1; stroke-width: 1px;\"/><path class=\"xgrid crisp\" transform=\"translate(987.9,0)\" d=\"M0,100v570\" style=\"stroke: rgb(255, 255, 255); stroke-opacity: 1; stroke-width: 1px;\"/><path class=\"xgrid crisp\" transform=\"translate(1074.37,0)\" d=\"M0,100v570\" style=\"stroke: rgb(255, 255, 255); stroke-opacity: 1; stroke-width: 1px;\"/><path class=\"xgrid crisp\" transform=\"translate(1160.83,0)\" d=\"M0,100v570\" style=\"stroke: rgb(255, 255, 255); stroke-opacity: 1; stroke-width: 1px;\"/><path class=\"xgrid crisp\" transform=\"translate(1247.3,0)\" d=\"M0,100v570\" style=\"stroke: rgb(255, 255, 255); stroke-opacity: 1; stroke-width: 1px;\"/><path class=\"xgrid crisp\" transform=\"translate(1333.77,0)\" d=\"M0,100v570\" style=\"stroke: rgb(255, 255, 255); stroke-opacity: 1; stroke-width: 1px;\"/></g><g class=\"y\"><path class=\"ygrid crisp\" transform=\"translate(0,613)\" d=\"M80,0h1297\" style=\"stroke: rgb(255, 255, 255); stroke-opacity: 1; stroke-width: 1px;\"/><path class=\"ygrid crisp\" transform=\"translate(0,499)\" d=\"M80,0h1297\" style=\"stroke: rgb(255, 255, 255); stroke-opacity: 1; stroke-width: 1px;\"/><path class=\"ygrid crisp\" transform=\"translate(0,385)\" d=\"M80,0h1297\" style=\"stroke: rgb(255, 255, 255); stroke-opacity: 1; stroke-width: 1px;\"/><path class=\"ygrid crisp\" transform=\"translate(0,271)\" d=\"M80,0h1297\" style=\"stroke: rgb(255, 255, 255); stroke-opacity: 1; stroke-width: 1px;\"/></g></g><g class=\"zerolinelayer\"><path class=\"yzl zl crisp\" transform=\"translate(0,157)\" d=\"M80,0h1297\" style=\"stroke: rgb(255, 255, 255); stroke-opacity: 1; stroke-width: 2px;\"/></g><g class=\"layer-between\"><g class=\"shapelayer\"/><g class=\"imagelayer\"/></g><path class=\"xlines-below\"/><path class=\"ylines-below\"/><g class=\"overlines-below\"/><g class=\"xaxislayer-below\"/><g class=\"yaxislayer-below\"/><g class=\"overaxes-below\"/><g class=\"overplot\"><g class=\"xy\" transform=\"translate(80,100)\" clip-path=\"url(#clip67fddbxyplot)\"><g class=\"heatmaplayer mlayer\"><g class=\"hm\"><image xmlns=\"http://www.w3.org/2000/svg\" preserveAspectRatio=\"none\" height=\"570\" width=\"1297\" x=\"0\" y=\"0\" xlink:href=\"data:image/png;base64,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\" style=\"opacity: 1;\"/><g class=\"heatmap-label\"><text text-anchor=\"middle\" data-notex=\"1\" x=\"43\" y=\"61.2\" style=\"font-family: 'Open Sans', verdana, arial, sans-serif; font-size: 12px; fill: rgb(255, 255, 255); fill-opacity: 1; white-space: pre;\">30.0</text></g><g class=\"heatmap-label\"><text text-anchor=\"middle\" data-notex=\"1\" x=\"130\" y=\"61.2\" style=\"font-family: 'Open Sans', verdana, arial, sans-serif; font-size: 12px; fill: rgb(68, 68, 68); fill-opacity: 1; white-space: pre;\">4</text></g><g class=\"heatmap-label\"><text text-anchor=\"middle\" data-notex=\"1\" x=\"216\" y=\"61.2\" style=\"font-family: 'Open Sans', verdana, arial, sans-serif; font-size: 12px; fill: rgb(255, 255, 255); fill-opacity: 1; white-space: pre;\">193598.0</text></g><g class=\"heatmap-label\"><text text-anchor=\"middle\" data-notex=\"1\" x=\"303\" y=\"61.2\" style=\"font-family: 'Open Sans', verdana, arial, sans-serif; font-size: 12px; fill: rgb(255, 255, 255); fill-opacity: 1; white-space: pre;\">13</text></g><g class=\"heatmap-label\"><text text-anchor=\"middle\" data-notex=\"1\" x=\"389\" y=\"61.2\" style=\"font-family: 'Open Sans', verdana, arial, sans-serif; font-size: 12px; fill: rgb(255, 255, 255); fill-opacity: 1; white-space: pre;\">1.0</text></g><g class=\"heatmap-label\"><text text-anchor=\"middle\" data-notex=\"1\" x=\"476\" y=\"61.2\" style=\"font-family: 'Open Sans', verdana, arial, sans-serif; font-size: 12px; fill: rgb(255, 255, 255); fill-opacity: 1; white-space: pre;\">4</text></g><g class=\"heatmap-label\"><text text-anchor=\"middle\" data-notex=\"1\" x=\"562\" y=\"61.2\" style=\"font-family: 'Open Sans', verdana, arial, sans-serif; font-size: 12px; fill: rgb(68, 68, 68); fill-opacity: 1; white-space: pre;\">5</text></g><g class=\"heatmap-label\"><text text-anchor=\"middle\" data-notex=\"1\" x=\"649\" y=\"61.2\" style=\"font-family: 'Open Sans', verdana, arial, sans-serif; font-size: 12px; fill: rgb(255, 255, 255); fill-opacity: 1; white-space: pre;\">1</text></g><g class=\"heatmap-label\"><text text-anchor=\"middle\" data-notex=\"1\" x=\"735\" y=\"61.2\" style=\"font-family: 'Open Sans', verdana, arial, sans-serif; font-size: 12px; fill: rgb(255, 255, 255); fill-opacity: 1; white-space: pre;\">4</text></g><g class=\"heatmap-label\"><text text-anchor=\"middle\" data-notex=\"1\" x=\"821\" y=\"61.2\" style=\"font-family: 'Open Sans', verdana, arial, sans-serif; font-size: 12px; fill: rgb(68, 68, 68); fill-opacity: 1; white-space: pre;\">1</text></g><g class=\"heatmap-label\"><text text-anchor=\"middle\" data-notex=\"1\" x=\"908\" y=\"61.2\" style=\"font-family: 'Open Sans', verdana, arial, sans-serif; font-size: 12px; fill: rgb(255, 255, 255); fill-opacity: 1; white-space: pre;\">0.0</text></g><g class=\"heatmap-label\"><text text-anchor=\"middle\" data-notex=\"1\" x=\"994\" y=\"61.2\" style=\"font-family: 'Open Sans', verdana, arial, sans-serif; font-size: 12px; fill: rgb(255, 255, 255); fill-opacity: 1; white-space: pre;\">0.0</text></g><g class=\"heatmap-label\"><text text-anchor=\"middle\" data-notex=\"1\" x=\"1081\" y=\"61.2\" style=\"font-family: 'Open Sans', verdana, arial, sans-serif; font-size: 12px; fill: rgb(255, 255, 255); fill-opacity: 1; white-space: pre;\">40.0</text></g><g class=\"heatmap-label\"><text text-anchor=\"middle\" data-notex=\"1\" x=\"1167\" y=\"61.2\" style=\"font-family: 'Open Sans', verdana, arial, sans-serif; font-size: 12px; fill: rgb(255, 255, 255); fill-opacity: 1; white-space: pre;\">26</text></g><g class=\"heatmap-label\"><text text-anchor=\"middle\" data-notex=\"1\" x=\"1254\" y=\"61.2\" style=\"font-family: 'Open Sans', verdana, arial, sans-serif; font-size: 12px; fill: rgb(255, 255, 255); fill-opacity: 1; white-space: pre;\">1</text></g><g class=\"heatmap-label\"><text text-anchor=\"middle\" data-notex=\"1\" x=\"43\" y=\"175.2\" style=\"font-family: 'Open Sans', verdana, arial, sans-serif; font-size: 12px; fill: rgb(68, 68, 68); fill-opacity: 1; white-space: pre;\">23.0</text></g><g class=\"heatmap-label\"><text text-anchor=\"middle\" data-notex=\"1\" x=\"130\" y=\"175.2\" style=\"font-family: 'Open Sans', verdana, arial, sans-serif; font-size: 12px; fill: rgb(68, 68, 68); fill-opacity: 1; white-space: pre;\">4</text></g><g class=\"heatmap-label\"><text text-anchor=\"middle\" data-notex=\"1\" x=\"216\" y=\"175.2\" style=\"font-family: 'Open Sans', verdana, arial, sans-serif; font-size: 12px; fill: rgb(68, 68, 68); fill-opacity: 1; white-space: pre;\">240049.0</text></g><g class=\"heatmap-label\"><text text-anchor=\"middle\" data-notex=\"1\" x=\"303\" y=\"175.2\" style=\"font-family: 'Open Sans', verdana, arial, sans-serif; font-size: 12px; fill: rgb(255, 255, 255); fill-opacity: 1; white-space: pre;\">13</text></g><g class=\"heatmap-label\"><text text-anchor=\"middle\" data-notex=\"1\" x=\"389\" y=\"175.2\" style=\"font-family: 'Open Sans', verdana, arial, sans-serif; font-size: 12px; fill: rgb(255, 255, 255); fill-opacity: 1; white-space: pre;\">1.0</text></g><g class=\"heatmap-label\"><text text-anchor=\"middle\" data-notex=\"1\" x=\"476\" y=\"175.2\" style=\"font-family: 'Open Sans', verdana, arial, sans-serif; font-size: 12px; fill: rgb(255, 255, 255); fill-opacity: 1; white-space: pre;\">4</text></g><g class=\"heatmap-label\"><text text-anchor=\"middle\" data-notex=\"1\" x=\"562\" y=\"175.2\" style=\"font-family: 'Open Sans', verdana, arial, sans-serif; font-size: 12px; fill: rgb(68, 68, 68); fill-opacity: 1; white-space: pre;\">8</text></g><g class=\"heatmap-label\"><text text-anchor=\"middle\" data-notex=\"1\" x=\"649\" y=\"175.2\" style=\"font-family: 'Open Sans', verdana, arial, sans-serif; font-size: 12px; fill: rgb(255, 255, 255); fill-opacity: 1; white-space: pre;\">1</text></g><g class=\"heatmap-label\"><text text-anchor=\"middle\" data-notex=\"1\" x=\"735\" y=\"175.2\" style=\"font-family: 'Open Sans', verdana, arial, sans-serif; font-size: 12px; fill: rgb(255, 255, 255); fill-opacity: 1; white-space: pre;\">1</text></g><g class=\"heatmap-label\"><text text-anchor=\"middle\" data-notex=\"1\" x=\"821\" y=\"175.2\" style=\"font-family: 'Open Sans', verdana, arial, sans-serif; font-size: 12px; fill: rgb(255, 255, 255); fill-opacity: 1; white-space: pre;\">0</text></g><g class=\"heatmap-label\"><text text-anchor=\"middle\" data-notex=\"1\" x=\"908\" y=\"175.2\" style=\"font-family: 'Open Sans', verdana, arial, sans-serif; font-size: 12px; fill: rgb(255, 255, 255); fill-opacity: 1; white-space: pre;\">0.0</text></g><g class=\"heatmap-label\"><text text-anchor=\"middle\" data-notex=\"1\" x=\"994\" y=\"175.2\" style=\"font-family: 'Open Sans', verdana, arial, sans-serif; font-size: 12px; fill: rgb(68, 68, 68); fill-opacity: 1; white-space: pre;\">0.0</text></g><g class=\"heatmap-label\"><text text-anchor=\"middle\" data-notex=\"1\" x=\"1081\" y=\"175.2\" style=\"font-family: 'Open Sans', verdana, arial, sans-serif; font-size: 12px; fill: rgb(255, 255, 255); fill-opacity: 1; white-space: pre;\">40.0</text></g><g class=\"heatmap-label\"><text text-anchor=\"middle\" data-notex=\"1\" x=\"1167\" y=\"175.2\" style=\"font-family: 'Open Sans', verdana, arial, sans-serif; font-size: 12px; fill: rgb(255, 255, 255); fill-opacity: 1; white-space: pre;\">25</text></g><g class=\"heatmap-label\"><text text-anchor=\"middle\" data-notex=\"1\" x=\"1254\" y=\"175.2\" style=\"font-family: 'Open Sans', verdana, arial, sans-serif; font-size: 12px; fill: rgb(255, 255, 255); fill-opacity: 1; white-space: pre;\">1</text></g><g class=\"heatmap-label\"><text text-anchor=\"middle\" data-notex=\"1\" x=\"43\" y=\"289.2\" style=\"font-family: 'Open Sans', verdana, arial, sans-serif; font-size: 12px; fill: rgb(68, 68, 68); fill-opacity: 1; white-space: pre;\">65.0</text></g><g class=\"heatmap-label\"><text text-anchor=\"middle\" data-notex=\"1\" x=\"130\" y=\"289.2\" style=\"font-family: 'Open Sans', verdana, arial, sans-serif; font-size: 12px; fill: rgb(68, 68, 68); fill-opacity: 1; white-space: pre;\">5</text></g><g class=\"heatmap-label\"><text text-anchor=\"middle\" data-notex=\"1\" x=\"216\" y=\"289.2\" style=\"font-family: 'Open Sans', verdana, arial, sans-serif; font-size: 12px; fill: rgb(68, 68, 68); fill-opacity: 1; white-space: pre;\">184965.0</text></g><g class=\"heatmap-label\"><text text-anchor=\"middle\" data-notex=\"1\" x=\"303\" y=\"289.2\" style=\"font-family: 'Open Sans', verdana, arial, sans-serif; font-size: 12px; fill: rgb(68, 68, 68); fill-opacity: 1; white-space: pre;\">10</text></g><g class=\"heatmap-label\"><text text-anchor=\"middle\" data-notex=\"1\" x=\"389\" y=\"289.2\" style=\"font-family: 'Open Sans', verdana, arial, sans-serif; font-size: 12px; fill: rgb(255, 255, 255); fill-opacity: 1; white-space: pre;\">16.0</text></g><g class=\"heatmap-label\"><text text-anchor=\"middle\" data-notex=\"1\" x=\"476\" y=\"289.2\" style=\"font-family: 'Open Sans', verdana, arial, sans-serif; font-size: 12px; fill: rgb(68, 68, 68); fill-opacity: 1; white-space: pre;\">2</text></g><g class=\"heatmap-label\"><text text-anchor=\"middle\" data-notex=\"1\" x=\"562\" y=\"289.2\" style=\"font-family: 'Open Sans', verdana, arial, sans-serif; font-size: 12px; fill: rgb(255, 255, 255); fill-opacity: 1; white-space: pre;\">4</text></g><g class=\"heatmap-label\"><text text-anchor=\"middle\" data-notex=\"1\" x=\"649\" y=\"289.2\" style=\"font-family: 'Open Sans', verdana, arial, sans-serif; font-size: 12px; fill: rgb(68, 68, 68); fill-opacity: 1; white-space: pre;\">0</text></g><g class=\"heatmap-label\"><text text-anchor=\"middle\" data-notex=\"1\" x=\"735\" y=\"289.2\" style=\"font-family: 'Open Sans', verdana, arial, sans-serif; font-size: 12px; fill: rgb(255, 255, 255); fill-opacity: 1; white-space: pre;\">4</text></g><g class=\"heatmap-label\"><text text-anchor=\"middle\" data-notex=\"1\" x=\"821\" y=\"289.2\" style=\"font-family: 'Open Sans', verdana, arial, sans-serif; font-size: 12px; fill: rgb(68, 68, 68); fill-opacity: 1; white-space: pre;\">1</text></g><g class=\"heatmap-label\"><text text-anchor=\"middle\" data-notex=\"1\" x=\"908\" y=\"289.2\" style=\"font-family: 'Open Sans', verdana, arial, sans-serif; font-size: 12px; fill: rgb(255, 255, 255); fill-opacity: 1; white-space: pre;\">99999.0</text></g><g class=\"heatmap-label\"><text text-anchor=\"middle\" data-notex=\"1\" x=\"994\" y=\"289.2\" style=\"font-family: 'Open Sans', verdana, arial, sans-serif; font-size: 12px; fill: rgb(255, 255, 255); fill-opacity: 1; white-space: pre;\">0.0</text></g><g class=\"heatmap-label\"><text text-anchor=\"middle\" data-notex=\"1\" x=\"1081\" y=\"289.2\" style=\"font-family: 'Open Sans', verdana, arial, sans-serif; font-size: 12px; fill: rgb(255, 255, 255); fill-opacity: 1; white-space: pre;\">40.0</text></g><g class=\"heatmap-label\"><text text-anchor=\"middle\" data-notex=\"1\" x=\"1167\" y=\"289.2\" style=\"font-family: 'Open Sans', verdana, arial, sans-serif; font-size: 12px; fill: rgb(255, 255, 255); fill-opacity: 1; white-space: pre;\">39</text></g><g class=\"heatmap-label\"><text text-anchor=\"middle\" data-notex=\"1\" x=\"1254\" y=\"289.2\" style=\"font-family: 'Open Sans', verdana, arial, sans-serif; font-size: 12px; fill: rgb(255, 255, 255); fill-opacity: 1; white-space: pre;\">0</text></g><g class=\"heatmap-label\"><text text-anchor=\"middle\" data-notex=\"1\" x=\"43\" y=\"403.2\" style=\"font-family: 'Open Sans', verdana, arial, sans-serif; font-size: 12px; fill: rgb(68, 68, 68); fill-opacity: 1; white-space: pre;\">28.0</text></g><g class=\"heatmap-label\"><text text-anchor=\"middle\" data-notex=\"1\" x=\"130\" y=\"403.2\" style=\"font-family: 'Open Sans', verdana, arial, sans-serif; font-size: 12px; fill: rgb(68, 68, 68); fill-opacity: 1; white-space: pre;\">4</text></g><g class=\"heatmap-label\"><text text-anchor=\"middle\" data-notex=\"1\" x=\"216\" y=\"403.2\" style=\"font-family: 'Open Sans', verdana, arial, sans-serif; font-size: 12px; fill: rgb(68, 68, 68); fill-opacity: 1; white-space: pre;\">126060.0</text></g><g class=\"heatmap-label\"><text text-anchor=\"middle\" data-notex=\"1\" x=\"303\" y=\"403.2\" style=\"font-family: 'Open Sans', verdana, arial, sans-serif; font-size: 12px; fill: rgb(68, 68, 68); fill-opacity: 1; white-space: pre;\">11</text></g><g class=\"heatmap-label\"><text text-anchor=\"middle\" data-notex=\"1\" x=\"389\" y=\"403.2\" style=\"font-family: 'Open Sans', verdana, arial, sans-serif; font-size: 12px; fill: rgb(255, 255, 255); fill-opacity: 1; white-space: pre;\">9.0</text></g><g class=\"heatmap-label\"><text text-anchor=\"middle\" data-notex=\"1\" x=\"476\" y=\"403.2\" style=\"font-family: 'Open Sans', verdana, arial, sans-serif; font-size: 12px; fill: rgb(255, 255, 255); fill-opacity: 1; white-space: pre;\">2</text></g><g class=\"heatmap-label\"><text text-anchor=\"middle\" data-notex=\"1\" x=\"562\" y=\"403.2\" style=\"font-family: 'Open Sans', verdana, arial, sans-serif; font-size: 12px; fill: rgb(68, 68, 68); fill-opacity: 1; white-space: pre;\">1</text></g><g class=\"heatmap-label\"><text text-anchor=\"middle\" data-notex=\"1\" x=\"649\" y=\"403.2\" style=\"font-family: 'Open Sans', verdana, arial, sans-serif; font-size: 12px; fill: rgb(255, 255, 255); fill-opacity: 1; white-space: pre;\">5</text></g><g class=\"heatmap-label\"><text text-anchor=\"middle\" data-notex=\"1\" x=\"735\" y=\"403.2\" style=\"font-family: 'Open Sans', verdana, arial, sans-serif; font-size: 12px; fill: rgb(68, 68, 68); fill-opacity: 1; white-space: pre;\">4</text></g><g class=\"heatmap-label\"><text text-anchor=\"middle\" data-notex=\"1\" x=\"821\" y=\"403.2\" style=\"font-family: 'Open Sans', verdana, arial, sans-serif; font-size: 12px; fill: rgb(68, 68, 68); fill-opacity: 1; white-space: pre;\">0</text></g><g class=\"heatmap-label\"><text text-anchor=\"middle\" data-notex=\"1\" x=\"908\" y=\"403.2\" style=\"font-family: 'Open Sans', verdana, arial, sans-serif; font-size: 12px; fill: rgb(255, 255, 255); fill-opacity: 1; white-space: pre;\">99999.0</text></g><g class=\"heatmap-label\"><text text-anchor=\"middle\" data-notex=\"1\" x=\"994\" y=\"403.2\" style=\"font-family: 'Open Sans', verdana, arial, sans-serif; font-size: 12px; fill: rgb(68, 68, 68); fill-opacity: 1; white-space: pre;\">0.0</text></g><g class=\"heatmap-label\"><text text-anchor=\"middle\" data-notex=\"1\" x=\"1081\" y=\"403.2\" style=\"font-family: 'Open Sans', verdana, arial, sans-serif; font-size: 12px; fill: rgb(68, 68, 68); fill-opacity: 1; white-space: pre;\">36.0</text></g><g class=\"heatmap-label\"><text text-anchor=\"middle\" data-notex=\"1\" x=\"1167\" y=\"403.2\" style=\"font-family: 'Open Sans', verdana, arial, sans-serif; font-size: 12px; fill: rgb(68, 68, 68); fill-opacity: 1; white-space: pre;\">39</text></g><g class=\"heatmap-label\"><text text-anchor=\"middle\" data-notex=\"1\" x=\"1254\" y=\"403.2\" style=\"font-family: 'Open Sans', verdana, arial, sans-serif; font-size: 12px; fill: rgb(68, 68, 68); fill-opacity: 1; white-space: pre;\">0</text></g><g class=\"heatmap-label\"><text text-anchor=\"middle\" data-notex=\"1\" x=\"43\" y=\"517.2\" style=\"font-family: 'Open Sans', verdana, arial, sans-serif; font-size: 12px; fill: rgb(255, 255, 255); fill-opacity: 1; white-space: pre;\">46.0</text></g><g class=\"heatmap-label\"><text text-anchor=\"middle\" data-notex=\"1\" x=\"130\" y=\"517.2\" style=\"font-family: 'Open Sans', verdana, arial, sans-serif; font-size: 12px; fill: rgb(68, 68, 68); fill-opacity: 1; white-space: pre;\">5</text></g><g class=\"heatmap-label\"><text text-anchor=\"middle\" data-notex=\"1\" x=\"216\" y=\"517.2\" style=\"font-family: 'Open Sans', verdana, arial, sans-serif; font-size: 12px; fill: rgb(255, 255, 255); fill-opacity: 1; white-space: pre;\">198660.0</text></g><g class=\"heatmap-label\"><text text-anchor=\"middle\" data-notex=\"1\" x=\"303\" y=\"517.2\" style=\"font-family: 'Open Sans', verdana, arial, sans-serif; font-size: 12px; fill: rgb(68, 68, 68); fill-opacity: 1; white-space: pre;\">9</text></g><g class=\"heatmap-label\"><text text-anchor=\"middle\" data-notex=\"1\" x=\"389\" y=\"517.2\" style=\"font-family: 'Open Sans', verdana, arial, sans-serif; font-size: 12px; fill: rgb(68, 68, 68); fill-opacity: 1; white-space: pre;\">13.0</text></g><g class=\"heatmap-label\"><text text-anchor=\"middle\" data-notex=\"1\" x=\"476\" y=\"517.2\" style=\"font-family: 'Open Sans', verdana, arial, sans-serif; font-size: 12px; fill: rgb(255, 255, 255); fill-opacity: 1; white-space: pre;\">2</text></g><g class=\"heatmap-label\"><text text-anchor=\"middle\" data-notex=\"1\" x=\"562\" y=\"517.2\" style=\"font-family: 'Open Sans', verdana, arial, sans-serif; font-size: 12px; fill: rgb(68, 68, 68); fill-opacity: 1; white-space: pre;\">12</text></g><g class=\"heatmap-label\"><text text-anchor=\"middle\" data-notex=\"1\" x=\"649\" y=\"517.2\" style=\"font-family: 'Open Sans', verdana, arial, sans-serif; font-size: 12px; fill: rgb(255, 255, 255); fill-opacity: 1; white-space: pre;\">0</text></g><g class=\"heatmap-label\"><text text-anchor=\"middle\" data-notex=\"1\" x=\"735\" y=\"517.2\" style=\"font-family: 'Open Sans', verdana, arial, sans-serif; font-size: 12px; fill: rgb(255, 255, 255); fill-opacity: 1; white-space: pre;\">4</text></g><g class=\"heatmap-label\"><text text-anchor=\"middle\" data-notex=\"1\" x=\"821\" y=\"517.2\" style=\"font-family: 'Open Sans', verdana, arial, sans-serif; font-size: 12px; fill: rgb(255, 255, 255); fill-opacity: 1; white-space: pre;\">1</text></g><g class=\"heatmap-label\"><text text-anchor=\"middle\" data-notex=\"1\" x=\"908\" y=\"517.2\" style=\"font-family: 'Open Sans', verdana, arial, sans-serif; font-size: 12px; fill: rgb(255, 255, 255); fill-opacity: 1; white-space: pre;\">99999.0</text></g><g class=\"heatmap-label\"><text text-anchor=\"middle\" data-notex=\"1\" x=\"994\" y=\"517.2\" style=\"font-family: 'Open Sans', verdana, arial, sans-serif; font-size: 12px; fill: rgb(68, 68, 68); fill-opacity: 1; white-space: pre;\">0.0</text></g><g class=\"heatmap-label\"><text text-anchor=\"middle\" data-notex=\"1\" x=\"1081\" y=\"517.2\" style=\"font-family: 'Open Sans', verdana, arial, sans-serif; font-size: 12px; fill: rgb(255, 255, 255); fill-opacity: 1; white-space: pre;\">72.0</text></g><g class=\"heatmap-label\"><text text-anchor=\"middle\" data-notex=\"1\" x=\"1167\" y=\"517.2\" style=\"font-family: 'Open Sans', verdana, arial, sans-serif; font-size: 12px; fill: rgb(68, 68, 68); fill-opacity: 1; white-space: pre;\">39</text></g><g class=\"heatmap-label\"><text text-anchor=\"middle\" data-notex=\"1\" x=\"1254\" y=\"517.2\" style=\"font-family: 'Open Sans', verdana, arial, sans-serif; font-size: 12px; fill: rgb(68, 68, 68); fill-opacity: 1; white-space: pre;\">0</text></g></g></g></g></g><path class=\"xlines-above crisp\" d=\"M0,0\" style=\"fill: none;\"/><path class=\"ylines-above crisp\" d=\"M0,0\" style=\"fill: none;\"/><g class=\"overlines-above\"/><g class=\"xaxislayer-above\"><g class=\"xtick\"><text text-anchor=\"middle\" x=\"0\" y=\"683\" transform=\"translate(123.22999999999999,0)\" style=\"font-family: 'Open Sans', verdana, arial, sans-serif; font-size: 12px; fill: rgb(42, 63, 95); fill-opacity: 1; white-space: pre; opacity: 1;\">age</text></g><g class=\"xtick\"><text text-anchor=\"middle\" x=\"0\" y=\"683\" transform=\"translate(209.7,0)\" style=\"font-family: 'Open Sans', verdana, arial, sans-serif; font-size: 12px; fill: rgb(42, 63, 95); fill-opacity: 1; white-space: pre; opacity: 1;\">workclass</text></g><g class=\"xtick\"><text text-anchor=\"middle\" x=\"0\" y=\"683\" transform=\"translate(296.16999999999996,0)\" style=\"font-family: 'Open Sans', verdana, arial, sans-serif; font-size: 12px; fill: rgb(42, 63, 95); fill-opacity: 1; white-space: pre; opacity: 1;\">fnlwgt</text></g><g class=\"xtick\"><text text-anchor=\"middle\" x=\"0\" y=\"683\" transform=\"translate(382.63,0)\" style=\"font-family: 'Open Sans', verdana, arial, sans-serif; font-size: 12px; fill: rgb(42, 63, 95); fill-opacity: 1; white-space: pre; opacity: 1;\">education</text></g><g class=\"xtick\"><text text-anchor=\"middle\" x=\"0\" y=\"683\" transform=\"translate(469.1,0)\" style=\"font-family: 'Open Sans', verdana, arial, sans-serif; font-size: 12px; fill: rgb(42, 63, 95); fill-opacity: 1; white-space: pre; opacity: 1;\">education-num</text></g><g class=\"xtick\"><text text-anchor=\"middle\" x=\"0\" y=\"683\" transform=\"translate(555.5699999999999,0)\" style=\"font-family: 'Open Sans', verdana, arial, sans-serif; font-size: 12px; fill: rgb(42, 63, 95); fill-opacity: 1; white-space: pre; opacity: 1;\">marital-status</text></g><g class=\"xtick\"><text text-anchor=\"middle\" x=\"0\" y=\"683\" transform=\"translate(642.03,0)\" style=\"font-family: 'Open Sans', verdana, arial, sans-serif; font-size: 12px; fill: rgb(42, 63, 95); fill-opacity: 1; white-space: pre; opacity: 1;\">occupation</text></g><g class=\"xtick\"><text text-anchor=\"middle\" x=\"0\" y=\"683\" transform=\"translate(728.5,0)\" style=\"font-family: 'Open Sans', verdana, arial, sans-serif; font-size: 12px; fill: rgb(42, 63, 95); fill-opacity: 1; white-space: pre; opacity: 1;\">relationship</text></g><g class=\"xtick\"><text text-anchor=\"middle\" x=\"0\" y=\"683\" transform=\"translate(814.97,0)\" style=\"font-family: 'Open Sans', verdana, arial, sans-serif; font-size: 12px; fill: rgb(42, 63, 95); fill-opacity: 1; white-space: pre; opacity: 1;\">race</text></g><g class=\"xtick\"><text text-anchor=\"middle\" x=\"0\" y=\"683\" transform=\"translate(901.43,0)\" style=\"font-family: 'Open Sans', verdana, arial, sans-serif; font-size: 12px; fill: rgb(42, 63, 95); fill-opacity: 1; white-space: pre; opacity: 1;\">sex</text></g><g class=\"xtick\"><text text-anchor=\"middle\" x=\"0\" y=\"683\" transform=\"translate(987.9,0)\" style=\"font-family: 'Open Sans', verdana, arial, sans-serif; font-size: 12px; fill: rgb(42, 63, 95); fill-opacity: 1; white-space: pre; opacity: 1;\">capital-gain</text></g><g class=\"xtick\"><text text-anchor=\"middle\" x=\"0\" y=\"683\" transform=\"translate(1074.37,0)\" style=\"font-family: 'Open Sans', verdana, arial, sans-serif; font-size: 12px; fill: rgb(42, 63, 95); fill-opacity: 1; white-space: pre; opacity: 1;\">capital-loss</text></g><g class=\"xtick\"><text text-anchor=\"middle\" x=\"0\" y=\"683\" transform=\"translate(1160.83,0)\" style=\"font-family: 'Open Sans', verdana, arial, sans-serif; font-size: 12px; fill: rgb(42, 63, 95); fill-opacity: 1; white-space: pre; opacity: 1;\">hours-per-week</text></g><g class=\"xtick\"><text text-anchor=\"middle\" x=\"0\" y=\"683\" transform=\"translate(1247.3,0)\" style=\"font-family: 'Open Sans', verdana, arial, sans-serif; font-size: 12px; fill: rgb(42, 63, 95); fill-opacity: 1; white-space: pre; opacity: 1;\">native-country</text></g><g class=\"xtick\"><text text-anchor=\"middle\" x=\"0\" y=\"683\" transform=\"translate(1333.77,0)\" style=\"font-family: 'Open Sans', verdana, arial, sans-serif; font-size: 12px; fill: rgb(42, 63, 95); fill-opacity: 1; white-space: pre; opacity: 1;\">target</text></g></g><g class=\"yaxislayer-above\"><g class=\"ytick\"><text text-anchor=\"end\" x=\"79\" y=\"4.199999999999999\" transform=\"translate(0,613)\" style=\"font-family: 'Open Sans', verdana, arial, sans-serif; font-size: 12px; fill: rgb(42, 63, 95); fill-opacity: 1; white-space: pre; opacity: 1;\">4</text></g><g class=\"ytick\"><text text-anchor=\"end\" x=\"79\" y=\"4.199999999999999\" style=\"font-family: 'Open Sans', verdana, arial, sans-serif; font-size: 12px; fill: rgb(42, 63, 95); fill-opacity: 1; white-space: pre; opacity: 1;\" transform=\"translate(0,499)\">3</text></g><g class=\"ytick\"><text text-anchor=\"end\" x=\"79\" y=\"4.199999999999999\" style=\"font-family: 'Open Sans', verdana, arial, sans-serif; font-size: 12px; fill: rgb(42, 63, 95); fill-opacity: 1; white-space: pre; opacity: 1;\" transform=\"translate(0,385)\">2</text></g><g class=\"ytick\"><text text-anchor=\"end\" x=\"79\" y=\"4.199999999999999\" style=\"font-family: 'Open Sans', verdana, arial, sans-serif; font-size: 12px; fill: rgb(42, 63, 95); fill-opacity: 1; white-space: pre; opacity: 1;\" transform=\"translate(0,271)\">1</text></g><g class=\"ytick\"><text text-anchor=\"end\" x=\"79\" y=\"4.199999999999999\" style=\"font-family: 'Open Sans', verdana, arial, sans-serif; font-size: 12px; fill: rgb(42, 63, 95); fill-opacity: 1; white-space: pre; opacity: 1;\" transform=\"translate(0,157)\">0</text></g></g><g class=\"overaxes-above\"/></g></g><g class=\"polarlayer\"/><g class=\"smithlayer\"/><g class=\"ternarylayer\"/><g class=\"geolayer\"/><g class=\"funnelarealayer\"/><g class=\"pielayer\"/><g class=\"iciclelayer\"/><g class=\"treemaplayer\"/><g class=\"sunburstlayer\"/><g class=\"glimages\"/><defs id=\"topdefs-67fddb\"><g class=\"clips\"/></defs><g class=\"layer-above\"><g class=\"imagelayer\"/><g class=\"shapelayer\"/></g><g class=\"infolayer\"><g class=\"cbcoloraxis colorbar\" transform=\"translate(80,100)\"><rect class=\"cbbg\" x=\"1323\" y=\"0\" width=\"85.314453125\" height=\"570\" style=\"fill: rgb(0, 0, 0); fill-opacity: 0; stroke: rgb(68, 68, 68); stroke-opacity: 1; stroke-width: 0;\"/><g class=\"cbfills\" transform=\"translate(0,31)\"><rect class=\"cbfill gradient_filled\" style=\"fill: url('#g67fddb-cbcoloraxis');\" x=\"1333\" y=\"0\" width=\"30\" height=\"529\"/></g><g class=\"cblines\" transform=\"translate(0,31)\"/><g class=\"cbaxis crisp\" transform=\"translate(0,-100)\"><g class=\"ycbcoloraxistick\"><text text-anchor=\"start\" x=\"1365.9\" y=\"4.199999999999999\" transform=\"translate(0,660)\" style=\"font-family: 'Open Sans', verdana, arial, sans-serif; font-size: 12px; fill: rgb(42, 63, 95); fill-opacity: 1; white-space: pre; opacity: 1;\">0</text></g><g class=\"ycbcoloraxistick\"><text text-anchor=\"start\" x=\"1365.9\" y=\"4.199999999999999\" style=\"font-family: 'Open Sans', verdana, arial, sans-serif; font-size: 12px; fill: rgb(42, 63, 95); fill-opacity: 1; white-space: pre; opacity: 1;\" transform=\"translate(0,607.1)\">0.5</text></g><g class=\"ycbcoloraxistick\"><text text-anchor=\"start\" x=\"1365.9\" y=\"4.199999999999999\" style=\"font-family: 'Open Sans', verdana, arial, sans-serif; font-size: 12px; fill: rgb(42, 63, 95); fill-opacity: 1; white-space: pre; opacity: 1;\" transform=\"translate(0,554.2)\">1</text></g><g class=\"ycbcoloraxistick\"><text text-anchor=\"start\" x=\"1365.9\" y=\"4.199999999999999\" style=\"font-family: 'Open Sans', verdana, arial, sans-serif; font-size: 12px; fill: rgb(42, 63, 95); fill-opacity: 1; white-space: pre; opacity: 1;\" transform=\"translate(0,501.30000000000007)\">1.5</text></g><g class=\"ycbcoloraxistick\"><text text-anchor=\"start\" x=\"1365.9\" y=\"4.199999999999999\" style=\"font-family: 'Open Sans', verdana, arial, sans-serif; font-size: 12px; fill: rgb(42, 63, 95); fill-opacity: 1; white-space: pre; opacity: 1;\" transform=\"translate(0,448.4)\">2</text></g><g class=\"ycbcoloraxistick\"><text text-anchor=\"start\" x=\"1365.9\" y=\"4.199999999999999\" style=\"font-family: 'Open Sans', verdana, arial, sans-serif; font-size: 12px; fill: rgb(42, 63, 95); fill-opacity: 1; white-space: pre; opacity: 1;\" transform=\"translate(0,395.5)\">2.5</text></g><g class=\"ycbcoloraxistick\"><text text-anchor=\"start\" x=\"1365.9\" y=\"4.199999999999999\" style=\"font-family: 'Open Sans', verdana, arial, sans-serif; font-size: 12px; fill: rgb(42, 63, 95); fill-opacity: 1; white-space: pre; opacity: 1;\" transform=\"translate(0,342.6)\">3</text></g><g class=\"ycbcoloraxistick\"><text text-anchor=\"start\" x=\"1365.9\" y=\"4.199999999999999\" style=\"font-family: 'Open Sans', verdana, arial, sans-serif; font-size: 12px; fill: rgb(42, 63, 95); fill-opacity: 1; white-space: pre; opacity: 1;\" transform=\"translate(0,289.70000000000005)\">3.5</text></g><g class=\"ycbcoloraxistick\"><text text-anchor=\"start\" x=\"1365.9\" y=\"4.199999999999999\" style=\"font-family: 'Open Sans', verdana, arial, sans-serif; font-size: 12px; fill: rgb(42, 63, 95); fill-opacity: 1; white-space: pre; opacity: 1;\" transform=\"translate(0,236.8)\">4</text></g><g class=\"ycbcoloraxistick\"><text text-anchor=\"start\" x=\"1365.9\" y=\"4.199999999999999\" style=\"font-family: 'Open Sans', verdana, arial, sans-serif; font-size: 12px; fill: rgb(42, 63, 95); fill-opacity: 1; white-space: pre; opacity: 1;\" transform=\"translate(0,183.90000000000003)\">4.5</text></g><g class=\"ycbcoloraxistick\"><text text-anchor=\"start\" x=\"1365.9\" y=\"4.199999999999999\" style=\"font-family: 'Open Sans', verdana, arial, sans-serif; font-size: 12px; fill: rgb(42, 63, 95); fill-opacity: 1; white-space: pre; opacity: 1;\" transform=\"translate(0,131.00000000000003)\">≥5</text></g></g><g class=\"cbtitleunshift\" transform=\"translate(-80,-100)\"><g class=\"cbtitle\" transform=\"\"><text class=\"ycbcoloraxistitle\" x=\"1412.94\" y=\"123.5\" text-anchor=\"start\" style=\"opacity: 1; font-family: 'Open Sans', verdana, arial, sans-serif; font-size: 14px; fill: rgb(42, 63, 95); fill-opacity: 1; white-space: pre;\">Conviction</text></g></g><rect class=\"cboutline\" x=\"1333\" y=\"31\" width=\"30\" height=\"529\" style=\"stroke: rgb(68, 68, 68); stroke-opacity: 1; fill: none; stroke-width: 0;\"/></g><g class=\"g-gtitle\"><text class=\"gtitle\" x=\"75\" y=\"50\" text-anchor=\"start\" dy=\"0em\" style=\"opacity: 1; font-family: 'Open Sans', verdana, arial, sans-serif; font-size: 17px; fill: rgb(42, 63, 95); fill-opacity: 1; white-space: pre;\">Anomalies</text></g><g class=\"g-xtitle\"><text class=\"xtitle\" x=\"728.5\" y=\"710.3\" text-anchor=\"middle\" style=\"opacity: 1; font-family: 'Open Sans', verdana, arial, sans-serif; font-size: 14px; fill: rgb(42, 63, 95); fill-opacity: 1; white-space: pre;\">Feature</text></g><g class=\"g-ytitle\"/></g></svg>"
      ]
     },
     "metadata": {},
     "output_type": "display_data"
    }
   ],
   "source": [
    "fig = plot_anomalies(outliers, outlier_case_feature_residual_convictions)\n",
    "fig.show(width=1500, height=750)"
   ]
  },
  {
   "attachments": {},
   "cell_type": "markdown",
   "metadata": {},
   "source": [
    "From this chart we can see that these cases were flagged as anomalous largely because of their `capital-gain` values. Since our target variable is whether someone makes over $50,000 in salary, people with such large capital gains making less than $50,000 seems odd. In addition, values such as 99999 often indicate some sort of nominal value that may represent something other than the actual capital-gain, such as if a person did not answer. \n",
    "\n",
    "With this information, we can choose the appropriate action, whether it is recoding capital-gains, removing the cases, leaving the cases out, etc..."
   ]
  },
  {
   "attachments": {},
   "cell_type": "markdown",
   "metadata": {
    "tags": []
   },
   "source": [
    "### Step 3: Inspect Outliers\n",
    "\n",
    "While we generally only think of outliers when it comes to anomalies, inliers are another, more discrete, form of anomaly. Inliers are the opposite of outliers, as inliers are cases that are too [similiar](https://docs.howso.com/en/release-latest/getting_started/terminology.html#most-similar-cases) to other points. A real world hypothetical case of an inlier would be someone submitting a false transaction date in which they tried to make the data look real by making it very similar to existing data. \n",
    "\n",
    "In our case, it may be someone in a bank who is internally falsifying applications in order to try to alter the prediction model.\n",
    "\n",
    "Just like outliers, `distance_contribution` is used to detect inliers from the anomalies detected through the use of `familiarity_conviction_addition`, except now we are looking at cases below a theshold which indicates similarity to other points.\n"
   ]
  },
  {
   "cell_type": "code",
   "execution_count": 9,
   "metadata": {
    "execution": {
     "iopub.execute_input": "2025-10-17T22:22:35.365189Z",
     "iopub.status.busy": "2025-10-17T22:22:35.364983Z",
     "iopub.status.idle": "2025-10-17T22:22:35.378885Z",
     "shell.execute_reply": "2025-10-17T22:22:35.378104Z"
    }
   },
   "outputs": [
    {
     "data": {
      "text/html": [
       "<div>\n",
       "<style scoped>\n",
       "    .dataframe tbody tr th:only-of-type {\n",
       "        vertical-align: middle;\n",
       "    }\n",
       "\n",
       "    .dataframe tbody tr th {\n",
       "        vertical-align: top;\n",
       "    }\n",
       "\n",
       "    .dataframe thead th {\n",
       "        text-align: right;\n",
       "    }\n",
       "</style>\n",
       "<table border=\"1\" class=\"dataframe\">\n",
       "  <thead>\n",
       "    <tr style=\"text-align: right;\">\n",
       "      <th></th>\n",
       "      <th>age</th>\n",
       "      <th>workclass</th>\n",
       "      <th>fnlwgt</th>\n",
       "      <th>education</th>\n",
       "      <th>education-num</th>\n",
       "      <th>marital-status</th>\n",
       "      <th>occupation</th>\n",
       "      <th>relationship</th>\n",
       "      <th>race</th>\n",
       "      <th>sex</th>\n",
       "      <th>capital-gain</th>\n",
       "      <th>capital-loss</th>\n",
       "      <th>hours-per-week</th>\n",
       "      <th>native-country</th>\n",
       "      <th>target</th>\n",
       "      <th>familiarity_conviction_addition</th>\n",
       "      <th>.session_training_index</th>\n",
       "      <th>.session</th>\n",
       "      <th>distance_contribution</th>\n",
       "      <th>category</th>\n",
       "    </tr>\n",
       "  </thead>\n",
       "  <tbody>\n",
       "    <tr>\n",
       "      <th>0</th>\n",
       "      <td>30.0</td>\n",
       "      <td>4</td>\n",
       "      <td>190228.0</td>\n",
       "      <td>11</td>\n",
       "      <td>9.0</td>\n",
       "      <td>2</td>\n",
       "      <td>6</td>\n",
       "      <td>0</td>\n",
       "      <td>4</td>\n",
       "      <td>1</td>\n",
       "      <td>0.0</td>\n",
       "      <td>0.0</td>\n",
       "      <td>40.0</td>\n",
       "      <td>39</td>\n",
       "      <td>1</td>\n",
       "      <td>0.313213</td>\n",
       "      <td>198</td>\n",
       "      <td>cf716d06-4abb-43b5-a4ca-9d514001784e</td>\n",
       "      <td>1.446570</td>\n",
       "      <td>inlier</td>\n",
       "    </tr>\n",
       "    <tr>\n",
       "      <th>1</th>\n",
       "      <td>25.0</td>\n",
       "      <td>4</td>\n",
       "      <td>218667.0</td>\n",
       "      <td>11</td>\n",
       "      <td>9.0</td>\n",
       "      <td>2</td>\n",
       "      <td>6</td>\n",
       "      <td>0</td>\n",
       "      <td>4</td>\n",
       "      <td>1</td>\n",
       "      <td>0.0</td>\n",
       "      <td>0.0</td>\n",
       "      <td>40.0</td>\n",
       "      <td>39</td>\n",
       "      <td>1</td>\n",
       "      <td>0.314183</td>\n",
       "      <td>881</td>\n",
       "      <td>cf716d06-4abb-43b5-a4ca-9d514001784e</td>\n",
       "      <td>1.560241</td>\n",
       "      <td>inlier</td>\n",
       "    </tr>\n",
       "    <tr>\n",
       "      <th>2</th>\n",
       "      <td>36.0</td>\n",
       "      <td>4</td>\n",
       "      <td>209629.0</td>\n",
       "      <td>11</td>\n",
       "      <td>9.0</td>\n",
       "      <td>2</td>\n",
       "      <td>7</td>\n",
       "      <td>0</td>\n",
       "      <td>4</td>\n",
       "      <td>1</td>\n",
       "      <td>0.0</td>\n",
       "      <td>0.0</td>\n",
       "      <td>40.0</td>\n",
       "      <td>39</td>\n",
       "      <td>1</td>\n",
       "      <td>0.317194</td>\n",
       "      <td>404</td>\n",
       "      <td>cf716d06-4abb-43b5-a4ca-9d514001784e</td>\n",
       "      <td>1.568833</td>\n",
       "      <td>inlier</td>\n",
       "    </tr>\n",
       "  </tbody>\n",
       "</table>\n",
       "</div>"
      ],
      "text/plain": [
       "    age  workclass    fnlwgt  education  education-num  marital-status  \\\n",
       "0  30.0          4  190228.0         11            9.0               2   \n",
       "1  25.0          4  218667.0         11            9.0               2   \n",
       "2  36.0          4  209629.0         11            9.0               2   \n",
       "\n",
       "   occupation  relationship  race  sex  capital-gain  capital-loss  \\\n",
       "0           6             0     4    1           0.0           0.0   \n",
       "1           6             0     4    1           0.0           0.0   \n",
       "2           7             0     4    1           0.0           0.0   \n",
       "\n",
       "   hours-per-week  native-country  target  familiarity_conviction_addition  \\\n",
       "0            40.0              39       1                         0.313213   \n",
       "1            40.0              39       1                         0.314183   \n",
       "2            40.0              39       1                         0.317194   \n",
       "\n",
       "   .session_training_index                              .session  \\\n",
       "0                      198  cf716d06-4abb-43b5-a4ca-9d514001784e   \n",
       "1                      881  cf716d06-4abb-43b5-a4ca-9d514001784e   \n",
       "2                      404  cf716d06-4abb-43b5-a4ca-9d514001784e   \n",
       "\n",
       "   distance_contribution category  \n",
       "0               1.446570   inlier  \n",
       "1               1.560241   inlier  \n",
       "2               1.568833   inlier  "
      ]
     },
     "execution_count": 9,
     "metadata": {},
     "output_type": "execute_result"
    }
   ],
   "source": [
    "# Extract the inlier cases\n",
    "inliers = low_convicts[low_convicts['category'] == 'inlier'].reset_index(drop=True)\n",
    "inliers.head(3)"
   ]
  },
  {
   "attachments": {},
   "cell_type": "markdown",
   "metadata": {},
   "source": [
    "### Step 4: Inlier Value Evaluation"
   ]
  },
  {
   "cell_type": "code",
   "execution_count": 10,
   "metadata": {
    "execution": {
     "iopub.execute_input": "2025-10-17T22:22:35.380596Z",
     "iopub.status.busy": "2025-10-17T22:22:35.380410Z",
     "iopub.status.idle": "2025-10-17T22:22:35.884465Z",
     "shell.execute_reply": "2025-10-17T22:22:35.883672Z"
    }
   },
   "outputs": [],
   "source": [
    "# Specify the inlier cases\n",
    "inliers_indices = inliers[['.session', '.session_training_index']].values\n",
    "\n",
    "# React to get the details of each case\n",
    "results = t.react(\n",
    "    case_indices=inliers_indices,\n",
    "    preserve_feature_values=df.columns.tolist(),\n",
    "    leave_case_out=True,\n",
    "    details=details\n",
    ")\n",
    "\n",
    "\n",
    "inlier_case_feature_residual_convictions = pd.DataFrame(\n",
    "    results['details']['feature_full_residual_convictions_for_case']\n",
    ")[df.columns.tolist()]"
   ]
  },
  {
   "cell_type": "code",
   "execution_count": 11,
   "metadata": {
    "execution": {
     "iopub.execute_input": "2025-10-17T22:22:35.886870Z",
     "iopub.status.busy": "2025-10-17T22:22:35.886639Z",
     "iopub.status.idle": "2025-10-17T22:22:37.425536Z",
     "shell.execute_reply": "2025-10-17T22:22:37.424700Z"
    }
   },
   "outputs": [
    {
     "data": {
      "image/svg+xml": [
       "<svg class=\"main-svg\" xmlns=\"http://www.w3.org/2000/svg\" xmlns:xlink=\"http://www.w3.org/1999/xlink\" width=\"1500\" height=\"750\" style=\"\" viewBox=\"0 0 1500 750\"><rect x=\"0\" y=\"0\" width=\"1500\" height=\"750\" style=\"fill: rgb(255, 255, 255); fill-opacity: 1;\"/><defs id=\"defs-b279a9\"><g class=\"clips\"><clipPath id=\"clipb279a9xyplot\" class=\"plotclip\"><rect width=\"1297\" height=\"570\"/></clipPath><clipPath class=\"axesclip\" id=\"clipb279a9x\"><rect x=\"80\" y=\"0\" width=\"1297\" height=\"750\"/></clipPath><clipPath class=\"axesclip\" id=\"clipb279a9y\"><rect x=\"0\" y=\"100\" width=\"1500\" height=\"570\"/></clipPath><clipPath class=\"axesclip\" id=\"clipb279a9xy\"><rect x=\"80\" y=\"100\" width=\"1297\" height=\"570\"/></clipPath></g><g class=\"gradients\"><linearGradient x1=\"0\" y1=\"1\" x2=\"0\" y2=\"0\" gradientUnits=\"objectBoundingBox\" id=\"gb279a9-cbcoloraxis\"><stop offset=\"0%\" stop-color=\"rgb(103, 0, 31)\" stop-opacity=\"1\"/><stop offset=\"20%\" stop-color=\"rgb(247, 247, 247)\" stop-opacity=\"1\"/><stop offset=\"40%\" stop-color=\"rgb(67, 147, 195)\" stop-opacity=\"1\"/><stop offset=\"100%\" stop-color=\"rgb(5, 48, 97)\" stop-opacity=\"1\"/></linearGradient></g><g class=\"patterns\"/></defs><g class=\"bglayer\"><rect class=\"bg\" x=\"80\" y=\"100\" width=\"1297\" height=\"570\" style=\"fill: rgb(229, 236, 246); fill-opacity: 1; stroke-width: 0;\"/></g><g class=\"layer-below\"><g class=\"imagelayer\"/><g class=\"shapelayer\"/></g><g class=\"cartesianlayer\"><g class=\"subplot xy\"><g class=\"layer-subplot\"><g class=\"shapelayer\"/><g class=\"imagelayer\"/></g><g class=\"minor-gridlayer\"><g class=\"x\"/><g class=\"y\"/></g><g class=\"gridlayer\"><g class=\"x\"><path class=\"xgrid crisp\" transform=\"translate(123.22999999999999,0)\" d=\"M0,100v570\" style=\"stroke: rgb(255, 255, 255); stroke-opacity: 1; stroke-width: 1px;\"/><path class=\"xgrid crisp\" transform=\"translate(209.7,0)\" d=\"M0,100v570\" style=\"stroke: rgb(255, 255, 255); stroke-opacity: 1; stroke-width: 1px;\"/><path class=\"xgrid crisp\" transform=\"translate(296.16999999999996,0)\" d=\"M0,100v570\" style=\"stroke: rgb(255, 255, 255); stroke-opacity: 1; stroke-width: 1px;\"/><path class=\"xgrid crisp\" transform=\"translate(382.63,0)\" d=\"M0,100v570\" style=\"stroke: rgb(255, 255, 255); stroke-opacity: 1; stroke-width: 1px;\"/><path class=\"xgrid crisp\" transform=\"translate(469.1,0)\" d=\"M0,100v570\" style=\"stroke: rgb(255, 255, 255); stroke-opacity: 1; stroke-width: 1px;\"/><path class=\"xgrid crisp\" transform=\"translate(555.5699999999999,0)\" d=\"M0,100v570\" style=\"stroke: rgb(255, 255, 255); stroke-opacity: 1; stroke-width: 1px;\"/><path class=\"xgrid crisp\" transform=\"translate(642.03,0)\" d=\"M0,100v570\" style=\"stroke: rgb(255, 255, 255); stroke-opacity: 1; stroke-width: 1px;\"/><path class=\"xgrid crisp\" transform=\"translate(728.5,0)\" d=\"M0,100v570\" style=\"stroke: rgb(255, 255, 255); stroke-opacity: 1; stroke-width: 1px;\"/><path class=\"xgrid crisp\" transform=\"translate(814.97,0)\" d=\"M0,100v570\" style=\"stroke: rgb(255, 255, 255); stroke-opacity: 1; stroke-width: 1px;\"/><path class=\"xgrid crisp\" transform=\"translate(901.43,0)\" d=\"M0,100v570\" style=\"stroke: rgb(255, 255, 255); stroke-opacity: 1; stroke-width: 1px;\"/><path class=\"xgrid crisp\" transform=\"translate(987.9,0)\" d=\"M0,100v570\" style=\"stroke: rgb(255, 255, 255); stroke-opacity: 1; stroke-width: 1px;\"/><path class=\"xgrid crisp\" transform=\"translate(1074.37,0)\" d=\"M0,100v570\" style=\"stroke: rgb(255, 255, 255); stroke-opacity: 1; stroke-width: 1px;\"/><path class=\"xgrid crisp\" transform=\"translate(1160.83,0)\" d=\"M0,100v570\" style=\"stroke: rgb(255, 255, 255); stroke-opacity: 1; stroke-width: 1px;\"/><path class=\"xgrid crisp\" transform=\"translate(1247.3,0)\" d=\"M0,100v570\" style=\"stroke: rgb(255, 255, 255); stroke-opacity: 1; stroke-width: 1px;\"/><path class=\"xgrid crisp\" transform=\"translate(1333.77,0)\" d=\"M0,100v570\" style=\"stroke: rgb(255, 255, 255); stroke-opacity: 1; stroke-width: 1px;\"/></g><g class=\"y\"><path class=\"ygrid crisp\" transform=\"translate(0,613)\" d=\"M80,0h1297\" style=\"stroke: rgb(255, 255, 255); stroke-opacity: 1; stroke-width: 1px;\"/><path class=\"ygrid crisp\" transform=\"translate(0,499)\" d=\"M80,0h1297\" style=\"stroke: rgb(255, 255, 255); stroke-opacity: 1; stroke-width: 1px;\"/><path class=\"ygrid crisp\" transform=\"translate(0,385)\" d=\"M80,0h1297\" style=\"stroke: rgb(255, 255, 255); stroke-opacity: 1; stroke-width: 1px;\"/><path class=\"ygrid crisp\" transform=\"translate(0,271)\" d=\"M80,0h1297\" style=\"stroke: rgb(255, 255, 255); stroke-opacity: 1; stroke-width: 1px;\"/></g></g><g class=\"zerolinelayer\"><path class=\"yzl zl crisp\" transform=\"translate(0,157)\" d=\"M80,0h1297\" style=\"stroke: rgb(255, 255, 255); stroke-opacity: 1; stroke-width: 2px;\"/></g><g class=\"layer-between\"><g class=\"shapelayer\"/><g class=\"imagelayer\"/></g><path class=\"xlines-below\"/><path class=\"ylines-below\"/><g class=\"overlines-below\"/><g class=\"xaxislayer-below\"/><g class=\"yaxislayer-below\"/><g class=\"overaxes-below\"/><g class=\"overplot\"><g class=\"xy\" transform=\"translate(80,100)\" clip-path=\"url(#clipb279a9xyplot)\"><g class=\"heatmaplayer mlayer\"><g class=\"hm\"><image xmlns=\"http://www.w3.org/2000/svg\" preserveAspectRatio=\"none\" height=\"570\" width=\"1297\" x=\"0\" y=\"0\" xlink:href=\"data:image/png;base64,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\" style=\"opacity: 1;\"/><g class=\"heatmap-label\"><text text-anchor=\"middle\" data-notex=\"1\" x=\"43\" y=\"61.2\" style=\"font-family: 'Open Sans', verdana, arial, sans-serif; font-size: 12px; fill: rgb(68, 68, 68); fill-opacity: 1; white-space: pre;\">30.0</text></g><g class=\"heatmap-label\"><text text-anchor=\"middle\" data-notex=\"1\" x=\"130\" y=\"61.2\" style=\"font-family: 'Open Sans', verdana, arial, sans-serif; font-size: 12px; fill: rgb(68, 68, 68); fill-opacity: 1; white-space: pre;\">4</text></g><g class=\"heatmap-label\"><text text-anchor=\"middle\" data-notex=\"1\" x=\"216\" y=\"61.2\" style=\"font-family: 'Open Sans', verdana, arial, sans-serif; font-size: 12px; fill: rgb(68, 68, 68); fill-opacity: 1; white-space: pre;\">190228.0</text></g><g class=\"heatmap-label\"><text text-anchor=\"middle\" data-notex=\"1\" x=\"303\" y=\"61.2\" style=\"font-family: 'Open Sans', verdana, arial, sans-serif; font-size: 12px; fill: rgb(68, 68, 68); fill-opacity: 1; white-space: pre;\">11</text></g><g class=\"heatmap-label\"><text text-anchor=\"middle\" data-notex=\"1\" x=\"389\" y=\"61.2\" style=\"font-family: 'Open Sans', verdana, arial, sans-serif; font-size: 12px; fill: rgb(68, 68, 68); fill-opacity: 1; white-space: pre;\">9.0</text></g><g class=\"heatmap-label\"><text text-anchor=\"middle\" data-notex=\"1\" x=\"476\" y=\"61.2\" style=\"font-family: 'Open Sans', verdana, arial, sans-serif; font-size: 12px; fill: rgb(68, 68, 68); fill-opacity: 1; white-space: pre;\">2</text></g><g class=\"heatmap-label\"><text text-anchor=\"middle\" data-notex=\"1\" x=\"562\" y=\"61.2\" style=\"font-family: 'Open Sans', verdana, arial, sans-serif; font-size: 12px; fill: rgb(68, 68, 68); fill-opacity: 1; white-space: pre;\">6</text></g><g class=\"heatmap-label\"><text text-anchor=\"middle\" data-notex=\"1\" x=\"649\" y=\"61.2\" style=\"font-family: 'Open Sans', verdana, arial, sans-serif; font-size: 12px; fill: rgb(68, 68, 68); fill-opacity: 1; white-space: pre;\">0</text></g><g class=\"heatmap-label\"><text text-anchor=\"middle\" data-notex=\"1\" x=\"735\" y=\"61.2\" style=\"font-family: 'Open Sans', verdana, arial, sans-serif; font-size: 12px; fill: rgb(68, 68, 68); fill-opacity: 1; white-space: pre;\">4</text></g><g class=\"heatmap-label\"><text text-anchor=\"middle\" data-notex=\"1\" x=\"821\" y=\"61.2\" style=\"font-family: 'Open Sans', verdana, arial, sans-serif; font-size: 12px; fill: rgb(68, 68, 68); fill-opacity: 1; white-space: pre;\">1</text></g><g class=\"heatmap-label\"><text text-anchor=\"middle\" data-notex=\"1\" x=\"908\" y=\"61.2\" style=\"font-family: 'Open Sans', verdana, arial, sans-serif; font-size: 12px; fill: rgb(68, 68, 68); fill-opacity: 1; white-space: pre;\">0.0</text></g><g class=\"heatmap-label\"><text text-anchor=\"middle\" data-notex=\"1\" x=\"994\" y=\"61.2\" style=\"font-family: 'Open Sans', verdana, arial, sans-serif; font-size: 12px; fill: rgb(68, 68, 68); fill-opacity: 1; white-space: pre;\">0.0</text></g><g class=\"heatmap-label\"><text text-anchor=\"middle\" data-notex=\"1\" x=\"1081\" y=\"61.2\" style=\"font-family: 'Open Sans', verdana, arial, sans-serif; font-size: 12px; fill: rgb(68, 68, 68); fill-opacity: 1; white-space: pre;\">40.0</text></g><g class=\"heatmap-label\"><text text-anchor=\"middle\" data-notex=\"1\" x=\"1167\" y=\"61.2\" style=\"font-family: 'Open Sans', verdana, arial, sans-serif; font-size: 12px; fill: rgb(68, 68, 68); fill-opacity: 1; white-space: pre;\">39</text></g><g class=\"heatmap-label\"><text text-anchor=\"middle\" data-notex=\"1\" x=\"1254\" y=\"61.2\" style=\"font-family: 'Open Sans', verdana, arial, sans-serif; font-size: 12px; fill: rgb(68, 68, 68); fill-opacity: 1; white-space: pre;\">1</text></g><g class=\"heatmap-label\"><text text-anchor=\"middle\" data-notex=\"1\" x=\"43\" y=\"175.2\" style=\"font-family: 'Open Sans', verdana, arial, sans-serif; font-size: 12px; fill: rgb(68, 68, 68); fill-opacity: 1; white-space: pre;\">25.0</text></g><g class=\"heatmap-label\"><text text-anchor=\"middle\" data-notex=\"1\" x=\"130\" y=\"175.2\" style=\"font-family: 'Open Sans', verdana, arial, sans-serif; font-size: 12px; fill: rgb(68, 68, 68); fill-opacity: 1; white-space: pre;\">4</text></g><g class=\"heatmap-label\"><text text-anchor=\"middle\" data-notex=\"1\" x=\"216\" y=\"175.2\" style=\"font-family: 'Open Sans', verdana, arial, sans-serif; font-size: 12px; fill: rgb(68, 68, 68); fill-opacity: 1; white-space: pre;\">218667.0</text></g><g class=\"heatmap-label\"><text text-anchor=\"middle\" data-notex=\"1\" x=\"303\" y=\"175.2\" style=\"font-family: 'Open Sans', verdana, arial, sans-serif; font-size: 12px; fill: rgb(68, 68, 68); fill-opacity: 1; white-space: pre;\">11</text></g><g class=\"heatmap-label\"><text text-anchor=\"middle\" data-notex=\"1\" x=\"389\" y=\"175.2\" style=\"font-family: 'Open Sans', verdana, arial, sans-serif; font-size: 12px; fill: rgb(68, 68, 68); fill-opacity: 1; white-space: pre;\">9.0</text></g><g class=\"heatmap-label\"><text text-anchor=\"middle\" data-notex=\"1\" x=\"476\" y=\"175.2\" style=\"font-family: 'Open Sans', verdana, arial, sans-serif; font-size: 12px; fill: rgb(68, 68, 68); fill-opacity: 1; white-space: pre;\">2</text></g><g class=\"heatmap-label\"><text text-anchor=\"middle\" data-notex=\"1\" x=\"562\" y=\"175.2\" style=\"font-family: 'Open Sans', verdana, arial, sans-serif; font-size: 12px; fill: rgb(68, 68, 68); fill-opacity: 1; white-space: pre;\">6</text></g><g class=\"heatmap-label\"><text text-anchor=\"middle\" data-notex=\"1\" x=\"649\" y=\"175.2\" style=\"font-family: 'Open Sans', verdana, arial, sans-serif; font-size: 12px; fill: rgb(68, 68, 68); fill-opacity: 1; white-space: pre;\">0</text></g><g class=\"heatmap-label\"><text text-anchor=\"middle\" data-notex=\"1\" x=\"735\" y=\"175.2\" style=\"font-family: 'Open Sans', verdana, arial, sans-serif; font-size: 12px; fill: rgb(68, 68, 68); fill-opacity: 1; white-space: pre;\">4</text></g><g class=\"heatmap-label\"><text text-anchor=\"middle\" data-notex=\"1\" x=\"821\" y=\"175.2\" style=\"font-family: 'Open Sans', verdana, arial, sans-serif; font-size: 12px; fill: rgb(68, 68, 68); fill-opacity: 1; white-space: pre;\">1</text></g><g class=\"heatmap-label\"><text text-anchor=\"middle\" data-notex=\"1\" x=\"908\" y=\"175.2\" style=\"font-family: 'Open Sans', verdana, arial, sans-serif; font-size: 12px; fill: rgb(68, 68, 68); fill-opacity: 1; white-space: pre;\">0.0</text></g><g class=\"heatmap-label\"><text text-anchor=\"middle\" data-notex=\"1\" x=\"994\" y=\"175.2\" style=\"font-family: 'Open Sans', verdana, arial, sans-serif; font-size: 12px; fill: rgb(68, 68, 68); fill-opacity: 1; white-space: pre;\">0.0</text></g><g class=\"heatmap-label\"><text text-anchor=\"middle\" data-notex=\"1\" x=\"1081\" y=\"175.2\" style=\"font-family: 'Open Sans', verdana, arial, sans-serif; font-size: 12px; fill: rgb(68, 68, 68); fill-opacity: 1; white-space: pre;\">40.0</text></g><g class=\"heatmap-label\"><text text-anchor=\"middle\" data-notex=\"1\" x=\"1167\" y=\"175.2\" style=\"font-family: 'Open Sans', verdana, arial, sans-serif; font-size: 12px; fill: rgb(68, 68, 68); fill-opacity: 1; white-space: pre;\">39</text></g><g class=\"heatmap-label\"><text text-anchor=\"middle\" data-notex=\"1\" x=\"1254\" y=\"175.2\" style=\"font-family: 'Open Sans', verdana, arial, sans-serif; font-size: 12px; fill: rgb(68, 68, 68); fill-opacity: 1; white-space: pre;\">1</text></g><g class=\"heatmap-label\"><text text-anchor=\"middle\" data-notex=\"1\" x=\"43\" y=\"289.2\" style=\"font-family: 'Open Sans', verdana, arial, sans-serif; font-size: 12px; fill: rgb(255, 255, 255); fill-opacity: 1; white-space: pre;\">36.0</text></g><g class=\"heatmap-label\"><text text-anchor=\"middle\" data-notex=\"1\" x=\"130\" y=\"289.2\" style=\"font-family: 'Open Sans', verdana, arial, sans-serif; font-size: 12px; fill: rgb(68, 68, 68); fill-opacity: 1; white-space: pre;\">4</text></g><g class=\"heatmap-label\"><text text-anchor=\"middle\" data-notex=\"1\" x=\"216\" y=\"289.2\" style=\"font-family: 'Open Sans', verdana, arial, sans-serif; font-size: 12px; fill: rgb(68, 68, 68); fill-opacity: 1; white-space: pre;\">209629.0</text></g><g class=\"heatmap-label\"><text text-anchor=\"middle\" data-notex=\"1\" x=\"303\" y=\"289.2\" style=\"font-family: 'Open Sans', verdana, arial, sans-serif; font-size: 12px; fill: rgb(68, 68, 68); fill-opacity: 1; white-space: pre;\">11</text></g><g class=\"heatmap-label\"><text text-anchor=\"middle\" data-notex=\"1\" x=\"389\" y=\"289.2\" style=\"font-family: 'Open Sans', verdana, arial, sans-serif; font-size: 12px; fill: rgb(68, 68, 68); fill-opacity: 1; white-space: pre;\">9.0</text></g><g class=\"heatmap-label\"><text text-anchor=\"middle\" data-notex=\"1\" x=\"476\" y=\"289.2\" style=\"font-family: 'Open Sans', verdana, arial, sans-serif; font-size: 12px; fill: rgb(68, 68, 68); fill-opacity: 1; white-space: pre;\">2</text></g><g class=\"heatmap-label\"><text text-anchor=\"middle\" data-notex=\"1\" x=\"562\" y=\"289.2\" style=\"font-family: 'Open Sans', verdana, arial, sans-serif; font-size: 12px; fill: rgb(68, 68, 68); fill-opacity: 1; white-space: pre;\">7</text></g><g class=\"heatmap-label\"><text text-anchor=\"middle\" data-notex=\"1\" x=\"649\" y=\"289.2\" style=\"font-family: 'Open Sans', verdana, arial, sans-serif; font-size: 12px; fill: rgb(68, 68, 68); fill-opacity: 1; white-space: pre;\">0</text></g><g class=\"heatmap-label\"><text text-anchor=\"middle\" data-notex=\"1\" x=\"735\" y=\"289.2\" style=\"font-family: 'Open Sans', verdana, arial, sans-serif; font-size: 12px; fill: rgb(68, 68, 68); fill-opacity: 1; white-space: pre;\">4</text></g><g class=\"heatmap-label\"><text text-anchor=\"middle\" data-notex=\"1\" x=\"821\" y=\"289.2\" style=\"font-family: 'Open Sans', verdana, arial, sans-serif; font-size: 12px; fill: rgb(68, 68, 68); fill-opacity: 1; white-space: pre;\">1</text></g><g class=\"heatmap-label\"><text text-anchor=\"middle\" data-notex=\"1\" x=\"908\" y=\"289.2\" style=\"font-family: 'Open Sans', verdana, arial, sans-serif; font-size: 12px; fill: rgb(68, 68, 68); fill-opacity: 1; white-space: pre;\">0.0</text></g><g class=\"heatmap-label\"><text text-anchor=\"middle\" data-notex=\"1\" x=\"994\" y=\"289.2\" style=\"font-family: 'Open Sans', verdana, arial, sans-serif; font-size: 12px; fill: rgb(68, 68, 68); fill-opacity: 1; white-space: pre;\">0.0</text></g><g class=\"heatmap-label\"><text text-anchor=\"middle\" data-notex=\"1\" x=\"1081\" y=\"289.2\" style=\"font-family: 'Open Sans', verdana, arial, sans-serif; font-size: 12px; fill: rgb(68, 68, 68); fill-opacity: 1; white-space: pre;\">40.0</text></g><g class=\"heatmap-label\"><text text-anchor=\"middle\" data-notex=\"1\" x=\"1167\" y=\"289.2\" style=\"font-family: 'Open Sans', verdana, arial, sans-serif; font-size: 12px; fill: rgb(68, 68, 68); fill-opacity: 1; white-space: pre;\">39</text></g><g class=\"heatmap-label\"><text text-anchor=\"middle\" data-notex=\"1\" x=\"1254\" y=\"289.2\" style=\"font-family: 'Open Sans', verdana, arial, sans-serif; font-size: 12px; fill: rgb(68, 68, 68); fill-opacity: 1; white-space: pre;\">1</text></g><g class=\"heatmap-label\"><text text-anchor=\"middle\" data-notex=\"1\" x=\"43\" y=\"403.2\" style=\"font-family: 'Open Sans', verdana, arial, sans-serif; font-size: 12px; fill: rgb(68, 68, 68); fill-opacity: 1; white-space: pre;\">25.0</text></g><g class=\"heatmap-label\"><text text-anchor=\"middle\" data-notex=\"1\" x=\"130\" y=\"403.2\" style=\"font-family: 'Open Sans', verdana, arial, sans-serif; font-size: 12px; fill: rgb(68, 68, 68); fill-opacity: 1; white-space: pre;\">4</text></g><g class=\"heatmap-label\"><text text-anchor=\"middle\" data-notex=\"1\" x=\"216\" y=\"403.2\" style=\"font-family: 'Open Sans', verdana, arial, sans-serif; font-size: 12px; fill: rgb(68, 68, 68); fill-opacity: 1; white-space: pre;\">236267.0</text></g><g class=\"heatmap-label\"><text text-anchor=\"middle\" data-notex=\"1\" x=\"303\" y=\"403.2\" style=\"font-family: 'Open Sans', verdana, arial, sans-serif; font-size: 12px; fill: rgb(68, 68, 68); fill-opacity: 1; white-space: pre;\">11</text></g><g class=\"heatmap-label\"><text text-anchor=\"middle\" data-notex=\"1\" x=\"389\" y=\"403.2\" style=\"font-family: 'Open Sans', verdana, arial, sans-serif; font-size: 12px; fill: rgb(68, 68, 68); fill-opacity: 1; white-space: pre;\">9.0</text></g><g class=\"heatmap-label\"><text text-anchor=\"middle\" data-notex=\"1\" x=\"476\" y=\"403.2\" style=\"font-family: 'Open Sans', verdana, arial, sans-serif; font-size: 12px; fill: rgb(68, 68, 68); fill-opacity: 1; white-space: pre;\">2</text></g><g class=\"heatmap-label\"><text text-anchor=\"middle\" data-notex=\"1\" x=\"562\" y=\"403.2\" style=\"font-family: 'Open Sans', verdana, arial, sans-serif; font-size: 12px; fill: rgb(68, 68, 68); fill-opacity: 1; white-space: pre;\">6</text></g><g class=\"heatmap-label\"><text text-anchor=\"middle\" data-notex=\"1\" x=\"649\" y=\"403.2\" style=\"font-family: 'Open Sans', verdana, arial, sans-serif; font-size: 12px; fill: rgb(68, 68, 68); fill-opacity: 1; white-space: pre;\">0</text></g><g class=\"heatmap-label\"><text text-anchor=\"middle\" data-notex=\"1\" x=\"735\" y=\"403.2\" style=\"font-family: 'Open Sans', verdana, arial, sans-serif; font-size: 12px; fill: rgb(68, 68, 68); fill-opacity: 1; white-space: pre;\">4</text></g><g class=\"heatmap-label\"><text text-anchor=\"middle\" data-notex=\"1\" x=\"821\" y=\"403.2\" style=\"font-family: 'Open Sans', verdana, arial, sans-serif; font-size: 12px; fill: rgb(68, 68, 68); fill-opacity: 1; white-space: pre;\">1</text></g><g class=\"heatmap-label\"><text text-anchor=\"middle\" data-notex=\"1\" x=\"908\" y=\"403.2\" style=\"font-family: 'Open Sans', verdana, arial, sans-serif; font-size: 12px; fill: rgb(68, 68, 68); fill-opacity: 1; white-space: pre;\">0.0</text></g><g class=\"heatmap-label\"><text text-anchor=\"middle\" data-notex=\"1\" x=\"994\" y=\"403.2\" style=\"font-family: 'Open Sans', verdana, arial, sans-serif; font-size: 12px; fill: rgb(255, 255, 255); fill-opacity: 1; white-space: pre;\">0.0</text></g><g class=\"heatmap-label\"><text text-anchor=\"middle\" data-notex=\"1\" x=\"1081\" y=\"403.2\" style=\"font-family: 'Open Sans', verdana, arial, sans-serif; font-size: 12px; fill: rgb(68, 68, 68); fill-opacity: 1; white-space: pre;\">40.0</text></g><g class=\"heatmap-label\"><text text-anchor=\"middle\" data-notex=\"1\" x=\"1167\" y=\"403.2\" style=\"font-family: 'Open Sans', verdana, arial, sans-serif; font-size: 12px; fill: rgb(68, 68, 68); fill-opacity: 1; white-space: pre;\">39</text></g><g class=\"heatmap-label\"><text text-anchor=\"middle\" data-notex=\"1\" x=\"1254\" y=\"403.2\" style=\"font-family: 'Open Sans', verdana, arial, sans-serif; font-size: 12px; fill: rgb(68, 68, 68); fill-opacity: 1; white-space: pre;\">1</text></g><g class=\"heatmap-label\"><text text-anchor=\"middle\" data-notex=\"1\" x=\"43\" y=\"517.2\" style=\"font-family: 'Open Sans', verdana, arial, sans-serif; font-size: 12px; fill: rgb(255, 255, 255); fill-opacity: 1; white-space: pre;\">20.0</text></g><g class=\"heatmap-label\"><text text-anchor=\"middle\" data-notex=\"1\" x=\"130\" y=\"517.2\" style=\"font-family: 'Open Sans', verdana, arial, sans-serif; font-size: 12px; fill: rgb(68, 68, 68); fill-opacity: 1; white-space: pre;\">0</text></g><g class=\"heatmap-label\"><text text-anchor=\"middle\" data-notex=\"1\" x=\"216\" y=\"517.2\" style=\"font-family: 'Open Sans', verdana, arial, sans-serif; font-size: 12px; fill: rgb(68, 68, 68); fill-opacity: 1; white-space: pre;\">201766.0</text></g><g class=\"heatmap-label\"><text text-anchor=\"middle\" data-notex=\"1\" x=\"303\" y=\"517.2\" style=\"font-family: 'Open Sans', verdana, arial, sans-serif; font-size: 12px; fill: rgb(68, 68, 68); fill-opacity: 1; white-space: pre;\">15</text></g><g class=\"heatmap-label\"><text text-anchor=\"middle\" data-notex=\"1\" x=\"389\" y=\"517.2\" style=\"font-family: 'Open Sans', verdana, arial, sans-serif; font-size: 12px; fill: rgb(68, 68, 68); fill-opacity: 1; white-space: pre;\">10.0</text></g><g class=\"heatmap-label\"><text text-anchor=\"middle\" data-notex=\"1\" x=\"476\" y=\"517.2\" style=\"font-family: 'Open Sans', verdana, arial, sans-serif; font-size: 12px; fill: rgb(68, 68, 68); fill-opacity: 1; white-space: pre;\">4</text></g><g class=\"heatmap-label\"><text text-anchor=\"middle\" data-notex=\"1\" x=\"562\" y=\"517.2\" style=\"font-family: 'Open Sans', verdana, arial, sans-serif; font-size: 12px; fill: rgb(68, 68, 68); fill-opacity: 1; white-space: pre;\">0</text></g><g class=\"heatmap-label\"><text text-anchor=\"middle\" data-notex=\"1\" x=\"649\" y=\"517.2\" style=\"font-family: 'Open Sans', verdana, arial, sans-serif; font-size: 12px; fill: rgb(255, 255, 255); fill-opacity: 1; white-space: pre;\">3</text></g><g class=\"heatmap-label\"><text text-anchor=\"middle\" data-notex=\"1\" x=\"735\" y=\"517.2\" style=\"font-family: 'Open Sans', verdana, arial, sans-serif; font-size: 12px; fill: rgb(68, 68, 68); fill-opacity: 1; white-space: pre;\">4</text></g><g class=\"heatmap-label\"><text text-anchor=\"middle\" data-notex=\"1\" x=\"821\" y=\"517.2\" style=\"font-family: 'Open Sans', verdana, arial, sans-serif; font-size: 12px; fill: rgb(68, 68, 68); fill-opacity: 1; white-space: pre;\">0</text></g><g class=\"heatmap-label\"><text text-anchor=\"middle\" data-notex=\"1\" x=\"908\" y=\"517.2\" style=\"font-family: 'Open Sans', verdana, arial, sans-serif; font-size: 12px; fill: rgb(68, 68, 68); fill-opacity: 1; white-space: pre;\">0.0</text></g><g class=\"heatmap-label\"><text text-anchor=\"middle\" data-notex=\"1\" x=\"994\" y=\"517.2\" style=\"font-family: 'Open Sans', verdana, arial, sans-serif; font-size: 12px; fill: rgb(68, 68, 68); fill-opacity: 1; white-space: pre;\">0.0</text></g><g class=\"heatmap-label\"><text text-anchor=\"middle\" data-notex=\"1\" x=\"1081\" y=\"517.2\" style=\"font-family: 'Open Sans', verdana, arial, sans-serif; font-size: 12px; fill: rgb(68, 68, 68); fill-opacity: 1; white-space: pre;\">35.0</text></g><g class=\"heatmap-label\"><text text-anchor=\"middle\" data-notex=\"1\" x=\"1167\" y=\"517.2\" style=\"font-family: 'Open Sans', verdana, arial, sans-serif; font-size: 12px; fill: rgb(68, 68, 68); fill-opacity: 1; white-space: pre;\">39</text></g><g class=\"heatmap-label\"><text text-anchor=\"middle\" data-notex=\"1\" x=\"1254\" y=\"517.2\" style=\"font-family: 'Open Sans', verdana, arial, sans-serif; font-size: 12px; fill: rgb(68, 68, 68); fill-opacity: 1; white-space: pre;\">1</text></g></g></g></g></g><path class=\"xlines-above crisp\" d=\"M0,0\" style=\"fill: none;\"/><path class=\"ylines-above crisp\" d=\"M0,0\" style=\"fill: none;\"/><g class=\"overlines-above\"/><g class=\"xaxislayer-above\"><g class=\"xtick\"><text text-anchor=\"middle\" x=\"0\" y=\"683\" transform=\"translate(123.22999999999999,0)\" style=\"font-family: 'Open Sans', verdana, arial, sans-serif; font-size: 12px; fill: rgb(42, 63, 95); fill-opacity: 1; white-space: pre; opacity: 1;\">age</text></g><g class=\"xtick\"><text text-anchor=\"middle\" x=\"0\" y=\"683\" transform=\"translate(209.7,0)\" style=\"font-family: 'Open Sans', verdana, arial, sans-serif; font-size: 12px; fill: rgb(42, 63, 95); fill-opacity: 1; white-space: pre; opacity: 1;\">workclass</text></g><g class=\"xtick\"><text text-anchor=\"middle\" x=\"0\" y=\"683\" transform=\"translate(296.16999999999996,0)\" style=\"font-family: 'Open Sans', verdana, arial, sans-serif; font-size: 12px; fill: rgb(42, 63, 95); fill-opacity: 1; white-space: pre; opacity: 1;\">fnlwgt</text></g><g class=\"xtick\"><text text-anchor=\"middle\" x=\"0\" y=\"683\" transform=\"translate(382.63,0)\" style=\"font-family: 'Open Sans', verdana, arial, sans-serif; font-size: 12px; fill: rgb(42, 63, 95); fill-opacity: 1; white-space: pre; opacity: 1;\">education</text></g><g class=\"xtick\"><text text-anchor=\"middle\" x=\"0\" y=\"683\" transform=\"translate(469.1,0)\" style=\"font-family: 'Open Sans', verdana, arial, sans-serif; font-size: 12px; fill: rgb(42, 63, 95); fill-opacity: 1; white-space: pre; opacity: 1;\">education-num</text></g><g class=\"xtick\"><text text-anchor=\"middle\" x=\"0\" y=\"683\" transform=\"translate(555.5699999999999,0)\" style=\"font-family: 'Open Sans', verdana, arial, sans-serif; font-size: 12px; fill: rgb(42, 63, 95); fill-opacity: 1; white-space: pre; opacity: 1;\">marital-status</text></g><g class=\"xtick\"><text text-anchor=\"middle\" x=\"0\" y=\"683\" transform=\"translate(642.03,0)\" style=\"font-family: 'Open Sans', verdana, arial, sans-serif; font-size: 12px; fill: rgb(42, 63, 95); fill-opacity: 1; white-space: pre; opacity: 1;\">occupation</text></g><g class=\"xtick\"><text text-anchor=\"middle\" x=\"0\" y=\"683\" transform=\"translate(728.5,0)\" style=\"font-family: 'Open Sans', verdana, arial, sans-serif; font-size: 12px; fill: rgb(42, 63, 95); fill-opacity: 1; white-space: pre; opacity: 1;\">relationship</text></g><g class=\"xtick\"><text text-anchor=\"middle\" x=\"0\" y=\"683\" transform=\"translate(814.97,0)\" style=\"font-family: 'Open Sans', verdana, arial, sans-serif; font-size: 12px; fill: rgb(42, 63, 95); fill-opacity: 1; white-space: pre; opacity: 1;\">race</text></g><g class=\"xtick\"><text text-anchor=\"middle\" x=\"0\" y=\"683\" transform=\"translate(901.43,0)\" style=\"font-family: 'Open Sans', verdana, arial, sans-serif; font-size: 12px; fill: rgb(42, 63, 95); fill-opacity: 1; white-space: pre; opacity: 1;\">sex</text></g><g class=\"xtick\"><text text-anchor=\"middle\" x=\"0\" y=\"683\" transform=\"translate(987.9,0)\" style=\"font-family: 'Open Sans', verdana, arial, sans-serif; font-size: 12px; fill: rgb(42, 63, 95); fill-opacity: 1; white-space: pre; opacity: 1;\">capital-gain</text></g><g class=\"xtick\"><text text-anchor=\"middle\" x=\"0\" y=\"683\" transform=\"translate(1074.37,0)\" style=\"font-family: 'Open Sans', verdana, arial, sans-serif; font-size: 12px; fill: rgb(42, 63, 95); fill-opacity: 1; white-space: pre; opacity: 1;\">capital-loss</text></g><g class=\"xtick\"><text text-anchor=\"middle\" x=\"0\" y=\"683\" transform=\"translate(1160.83,0)\" style=\"font-family: 'Open Sans', verdana, arial, sans-serif; font-size: 12px; fill: rgb(42, 63, 95); fill-opacity: 1; white-space: pre; opacity: 1;\">hours-per-week</text></g><g class=\"xtick\"><text text-anchor=\"middle\" x=\"0\" y=\"683\" transform=\"translate(1247.3,0)\" style=\"font-family: 'Open Sans', verdana, arial, sans-serif; font-size: 12px; fill: rgb(42, 63, 95); fill-opacity: 1; white-space: pre; opacity: 1;\">native-country</text></g><g class=\"xtick\"><text text-anchor=\"middle\" x=\"0\" y=\"683\" transform=\"translate(1333.77,0)\" style=\"font-family: 'Open Sans', verdana, arial, sans-serif; font-size: 12px; fill: rgb(42, 63, 95); fill-opacity: 1; white-space: pre; opacity: 1;\">target</text></g></g><g class=\"yaxislayer-above\"><g class=\"ytick\"><text text-anchor=\"end\" x=\"79\" y=\"4.199999999999999\" transform=\"translate(0,613)\" style=\"font-family: 'Open Sans', verdana, arial, sans-serif; font-size: 12px; fill: rgb(42, 63, 95); fill-opacity: 1; white-space: pre; opacity: 1;\">4</text></g><g class=\"ytick\"><text text-anchor=\"end\" x=\"79\" y=\"4.199999999999999\" style=\"font-family: 'Open Sans', verdana, arial, sans-serif; font-size: 12px; fill: rgb(42, 63, 95); fill-opacity: 1; white-space: pre; opacity: 1;\" transform=\"translate(0,499)\">3</text></g><g class=\"ytick\"><text text-anchor=\"end\" x=\"79\" y=\"4.199999999999999\" style=\"font-family: 'Open Sans', verdana, arial, sans-serif; font-size: 12px; fill: rgb(42, 63, 95); fill-opacity: 1; white-space: pre; opacity: 1;\" transform=\"translate(0,385)\">2</text></g><g class=\"ytick\"><text text-anchor=\"end\" x=\"79\" y=\"4.199999999999999\" style=\"font-family: 'Open Sans', verdana, arial, sans-serif; font-size: 12px; fill: rgb(42, 63, 95); fill-opacity: 1; white-space: pre; opacity: 1;\" transform=\"translate(0,271)\">1</text></g><g class=\"ytick\"><text text-anchor=\"end\" x=\"79\" y=\"4.199999999999999\" style=\"font-family: 'Open Sans', verdana, arial, sans-serif; font-size: 12px; fill: rgb(42, 63, 95); fill-opacity: 1; white-space: pre; opacity: 1;\" transform=\"translate(0,157)\">0</text></g></g><g class=\"overaxes-above\"/></g></g><g class=\"polarlayer\"/><g class=\"smithlayer\"/><g class=\"ternarylayer\"/><g class=\"geolayer\"/><g class=\"funnelarealayer\"/><g class=\"pielayer\"/><g class=\"iciclelayer\"/><g class=\"treemaplayer\"/><g class=\"sunburstlayer\"/><g class=\"glimages\"/><defs id=\"topdefs-b279a9\"><g class=\"clips\"/></defs><g class=\"layer-above\"><g class=\"imagelayer\"/><g class=\"shapelayer\"/></g><g class=\"infolayer\"><g class=\"cbcoloraxis colorbar\" transform=\"translate(80,100)\"><rect class=\"cbbg\" x=\"1323\" y=\"0\" width=\"85.314453125\" height=\"570\" style=\"fill: rgb(0, 0, 0); fill-opacity: 0; stroke: rgb(68, 68, 68); stroke-opacity: 1; stroke-width: 0;\"/><g class=\"cbfills\" transform=\"translate(0,31)\"><rect class=\"cbfill gradient_filled\" style=\"fill: url('#gb279a9-cbcoloraxis');\" x=\"1333\" y=\"0\" width=\"30\" height=\"529\"/></g><g class=\"cblines\" transform=\"translate(0,31)\"/><g class=\"cbaxis crisp\" transform=\"translate(0,-100)\"><g class=\"ycbcoloraxistick\"><text text-anchor=\"start\" x=\"1365.9\" y=\"4.199999999999999\" transform=\"translate(0,660)\" style=\"font-family: 'Open Sans', verdana, arial, sans-serif; font-size: 12px; fill: rgb(42, 63, 95); fill-opacity: 1; white-space: pre; opacity: 1;\">0</text></g><g class=\"ycbcoloraxistick\"><text text-anchor=\"start\" x=\"1365.9\" y=\"4.199999999999999\" style=\"font-family: 'Open Sans', verdana, arial, sans-serif; font-size: 12px; fill: rgb(42, 63, 95); fill-opacity: 1; white-space: pre; opacity: 1;\" transform=\"translate(0,607.1)\">0.5</text></g><g class=\"ycbcoloraxistick\"><text text-anchor=\"start\" x=\"1365.9\" y=\"4.199999999999999\" style=\"font-family: 'Open Sans', verdana, arial, sans-serif; font-size: 12px; fill: rgb(42, 63, 95); fill-opacity: 1; white-space: pre; opacity: 1;\" transform=\"translate(0,554.2)\">1</text></g><g class=\"ycbcoloraxistick\"><text text-anchor=\"start\" x=\"1365.9\" y=\"4.199999999999999\" style=\"font-family: 'Open Sans', verdana, arial, sans-serif; font-size: 12px; fill: rgb(42, 63, 95); fill-opacity: 1; white-space: pre; opacity: 1;\" transform=\"translate(0,501.30000000000007)\">1.5</text></g><g class=\"ycbcoloraxistick\"><text text-anchor=\"start\" x=\"1365.9\" y=\"4.199999999999999\" style=\"font-family: 'Open Sans', verdana, arial, sans-serif; font-size: 12px; fill: rgb(42, 63, 95); fill-opacity: 1; white-space: pre; opacity: 1;\" transform=\"translate(0,448.4)\">2</text></g><g class=\"ycbcoloraxistick\"><text text-anchor=\"start\" x=\"1365.9\" y=\"4.199999999999999\" style=\"font-family: 'Open Sans', verdana, arial, sans-serif; font-size: 12px; fill: rgb(42, 63, 95); fill-opacity: 1; white-space: pre; opacity: 1;\" transform=\"translate(0,395.5)\">2.5</text></g><g class=\"ycbcoloraxistick\"><text text-anchor=\"start\" x=\"1365.9\" y=\"4.199999999999999\" style=\"font-family: 'Open Sans', verdana, arial, sans-serif; font-size: 12px; fill: rgb(42, 63, 95); fill-opacity: 1; white-space: pre; opacity: 1;\" transform=\"translate(0,342.6)\">3</text></g><g class=\"ycbcoloraxistick\"><text text-anchor=\"start\" x=\"1365.9\" y=\"4.199999999999999\" style=\"font-family: 'Open Sans', verdana, arial, sans-serif; font-size: 12px; fill: rgb(42, 63, 95); fill-opacity: 1; white-space: pre; opacity: 1;\" transform=\"translate(0,289.70000000000005)\">3.5</text></g><g class=\"ycbcoloraxistick\"><text text-anchor=\"start\" x=\"1365.9\" y=\"4.199999999999999\" style=\"font-family: 'Open Sans', verdana, arial, sans-serif; font-size: 12px; fill: rgb(42, 63, 95); fill-opacity: 1; white-space: pre; opacity: 1;\" transform=\"translate(0,236.8)\">4</text></g><g class=\"ycbcoloraxistick\"><text text-anchor=\"start\" x=\"1365.9\" y=\"4.199999999999999\" style=\"font-family: 'Open Sans', verdana, arial, sans-serif; font-size: 12px; fill: rgb(42, 63, 95); fill-opacity: 1; white-space: pre; opacity: 1;\" transform=\"translate(0,183.90000000000003)\">4.5</text></g><g class=\"ycbcoloraxistick\"><text text-anchor=\"start\" x=\"1365.9\" y=\"4.199999999999999\" style=\"font-family: 'Open Sans', verdana, arial, sans-serif; font-size: 12px; fill: rgb(42, 63, 95); fill-opacity: 1; white-space: pre; opacity: 1;\" transform=\"translate(0,131.00000000000003)\">≥5</text></g></g><g class=\"cbtitleunshift\" transform=\"translate(-80,-100)\"><g class=\"cbtitle\" transform=\"\"><text class=\"ycbcoloraxistitle\" x=\"1412.94\" y=\"123.5\" text-anchor=\"start\" style=\"opacity: 1; font-family: 'Open Sans', verdana, arial, sans-serif; font-size: 14px; fill: rgb(42, 63, 95); fill-opacity: 1; white-space: pre;\">Conviction</text></g></g><rect class=\"cboutline\" x=\"1333\" y=\"31\" width=\"30\" height=\"529\" style=\"stroke: rgb(68, 68, 68); stroke-opacity: 1; fill: none; stroke-width: 0;\"/></g><g class=\"g-gtitle\"><text class=\"gtitle\" x=\"75\" y=\"50\" text-anchor=\"start\" dy=\"0em\" style=\"opacity: 1; font-family: 'Open Sans', verdana, arial, sans-serif; font-size: 17px; fill: rgb(42, 63, 95); fill-opacity: 1; white-space: pre;\">Anomalies</text></g><g class=\"g-xtitle\"><text class=\"xtitle\" x=\"728.5\" y=\"710.3\" text-anchor=\"middle\" style=\"opacity: 1; font-family: 'Open Sans', verdana, arial, sans-serif; font-size: 14px; fill: rgb(42, 63, 95); fill-opacity: 1; white-space: pre;\">Feature</text></g><g class=\"g-ytitle\"/></g></svg>"
      ]
     },
     "metadata": {},
     "output_type": "display_data"
    }
   ],
   "source": [
    "fig = plot_anomalies(inliers, inlier_case_feature_residual_convictions)\n",
    "fig.show(width=1500, height=750)"
   ]
  },
  {
   "attachments": {},
   "cell_type": "markdown",
   "metadata": {},
   "source": [
    "This chart is viewed similarly to the outliers chart, however we are now examining cases that are too similar. We can see that for several cases, most features show high `feature_residual_conviction`, indicating that that feature can very easily predicted using the other features. This indicates that all these feature values are unusually predictable compared to the rest of the cases in the model."
   ]
  },
  {
   "attachments": {},
   "cell_type": "markdown",
   "metadata": {},
   "source": [
    "# Section 4: Additional Ideas\n",
    "\n",
    "Here we detail some additional examples methods of diving deeper into the possible anomalies detected above."
   ]
  },
  {
   "cell_type": "code",
   "execution_count": 12,
   "metadata": {
    "execution": {
     "iopub.execute_input": "2025-10-17T22:22:37.427456Z",
     "iopub.status.busy": "2025-10-17T22:22:37.427234Z",
     "iopub.status.idle": "2025-10-17T22:22:37.432830Z",
     "shell.execute_reply": "2025-10-17T22:22:37.432039Z"
    }
   },
   "outputs": [],
   "source": [
    "# Helper functions\n",
    "\n",
    "def case_explain_residuals_ratio(anomalous_df, case_feature_residual_convictions, case_ind, num_features=5):\n",
    "    \"\"\"Inspect a single case and identify which of its features are particularly anomalous.\"\"\"\n",
    "    case = anomalous_df.iloc[case_ind, : ]\n",
    "    case_num = case['.session_training_index']\n",
    "    case_df = pd.concat([case, case_feature_residual_convictions.iloc[case_ind, :]], axis=1)\n",
    "    case_df = case_df.loc[df.columns]\n",
    "    case_df.columns = ['values', 'feature_full_residual_convictions_for_case']\n",
    "    case_df = case_df.sort_values(['feature_full_residual_convictions_for_case'], ascending=True)\n",
    "    print(f'key features which caused case {case_num} to be anomalous: {case_df.head().index.tolist()}')\n",
    "    print('')\n",
    "    display(case_df.head())\n",
    "\n",
    "def get_cases(anomalous_df, results, case_ind):\n",
    "    \"\"\"Inspect a single anomalous case and display its influential and boundary cases.\"\"\"\n",
    "    case = anomalous_df.iloc[case_ind, :]\n",
    "    inf_cases = pd.DataFrame(results['details']['influential_cases'][case_ind])\n",
    "\n",
    "    print('Original Case:')\n",
    "    display(case)\n",
    "    print('')\n",
    "\n",
    "    print('Influential Cases:')\n",
    "    display(inf_cases)\n",
    "    print('')"
   ]
  },
  {
   "attachments": {},
   "cell_type": "markdown",
   "metadata": {},
   "source": [
    "We can print out a more detailed view of the Outlier Residual Conviction chart shown earlier."
   ]
  },
  {
   "cell_type": "code",
   "execution_count": 13,
   "metadata": {
    "execution": {
     "iopub.execute_input": "2025-10-17T22:22:37.434471Z",
     "iopub.status.busy": "2025-10-17T22:22:37.434285Z",
     "iopub.status.idle": "2025-10-17T22:22:37.447312Z",
     "shell.execute_reply": "2025-10-17T22:22:37.446588Z"
    }
   },
   "outputs": [
    {
     "name": "stdout",
     "output_type": "stream",
     "text": [
      "key features which caused case 540 to be anomalous: ['education-num', 'native-country', 'race', 'sex', 'occupation']\n",
      "\n"
     ]
    },
    {
     "data": {
      "text/html": [
       "<div>\n",
       "<style scoped>\n",
       "    .dataframe tbody tr th:only-of-type {\n",
       "        vertical-align: middle;\n",
       "    }\n",
       "\n",
       "    .dataframe tbody tr th {\n",
       "        vertical-align: top;\n",
       "    }\n",
       "\n",
       "    .dataframe thead th {\n",
       "        text-align: right;\n",
       "    }\n",
       "</style>\n",
       "<table border=\"1\" class=\"dataframe\">\n",
       "  <thead>\n",
       "    <tr style=\"text-align: right;\">\n",
       "      <th></th>\n",
       "      <th>values</th>\n",
       "      <th>feature_full_residual_convictions_for_case</th>\n",
       "    </tr>\n",
       "  </thead>\n",
       "  <tbody>\n",
       "    <tr>\n",
       "      <th>education-num</th>\n",
       "      <td>1.0</td>\n",
       "      <td>0.005410</td>\n",
       "    </tr>\n",
       "    <tr>\n",
       "      <th>native-country</th>\n",
       "      <td>26</td>\n",
       "      <td>0.199318</td>\n",
       "    </tr>\n",
       "    <tr>\n",
       "      <th>race</th>\n",
       "      <td>4</td>\n",
       "      <td>0.248617</td>\n",
       "    </tr>\n",
       "    <tr>\n",
       "      <th>sex</th>\n",
       "      <td>1</td>\n",
       "      <td>0.500189</td>\n",
       "    </tr>\n",
       "    <tr>\n",
       "      <th>occupation</th>\n",
       "      <td>5</td>\n",
       "      <td>0.785475</td>\n",
       "    </tr>\n",
       "  </tbody>\n",
       "</table>\n",
       "</div>"
      ],
      "text/plain": [
       "               values  feature_full_residual_convictions_for_case\n",
       "education-num     1.0                                    0.005410\n",
       "native-country     26                                    0.199318\n",
       "race                4                                    0.248617\n",
       "sex                 1                                    0.500189\n",
       "occupation          5                                    0.785475"
      ]
     },
     "metadata": {},
     "output_type": "display_data"
    },
    {
     "name": "stdout",
     "output_type": "stream",
     "text": [
      "_____________\n",
      "key features which caused case 732 to be anomalous: ['education-num', 'native-country', 'race', 'sex', 'occupation']\n",
      "\n"
     ]
    },
    {
     "data": {
      "text/html": [
       "<div>\n",
       "<style scoped>\n",
       "    .dataframe tbody tr th:only-of-type {\n",
       "        vertical-align: middle;\n",
       "    }\n",
       "\n",
       "    .dataframe tbody tr th {\n",
       "        vertical-align: top;\n",
       "    }\n",
       "\n",
       "    .dataframe thead th {\n",
       "        text-align: right;\n",
       "    }\n",
       "</style>\n",
       "<table border=\"1\" class=\"dataframe\">\n",
       "  <thead>\n",
       "    <tr style=\"text-align: right;\">\n",
       "      <th></th>\n",
       "      <th>values</th>\n",
       "      <th>feature_full_residual_convictions_for_case</th>\n",
       "    </tr>\n",
       "  </thead>\n",
       "  <tbody>\n",
       "    <tr>\n",
       "      <th>education-num</th>\n",
       "      <td>1.0</td>\n",
       "      <td>0.000314</td>\n",
       "    </tr>\n",
       "    <tr>\n",
       "      <th>native-country</th>\n",
       "      <td>25</td>\n",
       "      <td>0.199318</td>\n",
       "    </tr>\n",
       "    <tr>\n",
       "      <th>race</th>\n",
       "      <td>1</td>\n",
       "      <td>0.244578</td>\n",
       "    </tr>\n",
       "    <tr>\n",
       "      <th>sex</th>\n",
       "      <td>0</td>\n",
       "      <td>0.258410</td>\n",
       "    </tr>\n",
       "    <tr>\n",
       "      <th>occupation</th>\n",
       "      <td>8</td>\n",
       "      <td>0.849139</td>\n",
       "    </tr>\n",
       "  </tbody>\n",
       "</table>\n",
       "</div>"
      ],
      "text/plain": [
       "               values  feature_full_residual_convictions_for_case\n",
       "education-num     1.0                                    0.000314\n",
       "native-country     25                                    0.199318\n",
       "race                1                                    0.244578\n",
       "sex                 0                                    0.258410\n",
       "occupation          8                                    0.849139"
      ]
     },
     "metadata": {},
     "output_type": "display_data"
    },
    {
     "name": "stdout",
     "output_type": "stream",
     "text": [
      "_____________\n"
     ]
    }
   ],
   "source": [
    "# Print out the explanations for outliers\n",
    "for i in range(2):\n",
    "    case_explain_residuals_ratio(\n",
    "        outliers,\n",
    "        outlier_case_feature_residual_convictions,\n",
    "        i\n",
    "    )\n",
    "    print('_____________')"
   ]
  },
  {
   "attachments": {},
   "cell_type": "markdown",
   "metadata": {},
   "source": [
    "## Influential cases\n",
    "\n",
    "[Influential Cases](https://docs.howso.com/en/release-latest/getting_started/terminology.html#influential-cases) may also provide additional clues into potentially anomalous data. If a case's influential cases do not well represent itself, then this indicates there are no cases in the model that well represent the anomalous cases.\n"
   ]
  },
  {
   "cell_type": "code",
   "execution_count": 14,
   "metadata": {
    "execution": {
     "iopub.execute_input": "2025-10-17T22:22:37.448899Z",
     "iopub.status.busy": "2025-10-17T22:22:37.448717Z",
     "iopub.status.idle": "2025-10-17T22:22:37.470766Z",
     "shell.execute_reply": "2025-10-17T22:22:37.470072Z"
    }
   },
   "outputs": [
    {
     "name": "stdout",
     "output_type": "stream",
     "text": [
      "Original Case:\n"
     ]
    },
    {
     "data": {
      "text/plain": [
       "age                                                                30.0\n",
       "workclass                                                             4\n",
       "fnlwgt                                                         193598.0\n",
       "education                                                            13\n",
       "education-num                                                       1.0\n",
       "marital-status                                                        4\n",
       "occupation                                                            5\n",
       "relationship                                                          1\n",
       "race                                                                  4\n",
       "sex                                                                   1\n",
       "capital-gain                                                        0.0\n",
       "capital-loss                                                        0.0\n",
       "hours-per-week                                                     40.0\n",
       "native-country                                                       26\n",
       "target                                                                1\n",
       "familiarity_conviction_addition                                0.020018\n",
       ".session_training_index                                             540\n",
       ".session                           cf716d06-4abb-43b5-a4ca-9d514001784e\n",
       "distance_contribution                                        306.265156\n",
       "category                                                        outlier\n",
       "Name: 0, dtype: object"
      ]
     },
     "metadata": {},
     "output_type": "display_data"
    },
    {
     "name": "stdout",
     "output_type": "stream",
     "text": [
      "\n",
      "Influential Cases:\n"
     ]
    },
    {
     "data": {
      "text/html": [
       "<div>\n",
       "<style scoped>\n",
       "    .dataframe tbody tr th:only-of-type {\n",
       "        vertical-align: middle;\n",
       "    }\n",
       "\n",
       "    .dataframe tbody tr th {\n",
       "        vertical-align: top;\n",
       "    }\n",
       "\n",
       "    .dataframe thead th {\n",
       "        text-align: right;\n",
       "    }\n",
       "</style>\n",
       "<table border=\"1\" class=\"dataframe\">\n",
       "  <thead>\n",
       "    <tr style=\"text-align: right;\">\n",
       "      <th></th>\n",
       "      <th>marital-status</th>\n",
       "      <th>race</th>\n",
       "      <th>fnlwgt</th>\n",
       "      <th>target</th>\n",
       "      <th>capital-loss</th>\n",
       "      <th>occupation</th>\n",
       "      <th>sex</th>\n",
       "      <th>age</th>\n",
       "      <th>education</th>\n",
       "      <th>.influence_weight</th>\n",
       "      <th>hours-per-week</th>\n",
       "      <th>capital-gain</th>\n",
       "      <th>relationship</th>\n",
       "      <th>workclass</th>\n",
       "      <th>.session</th>\n",
       "      <th>education-num</th>\n",
       "      <th>.session_training_index</th>\n",
       "      <th>native-country</th>\n",
       "    </tr>\n",
       "  </thead>\n",
       "  <tbody>\n",
       "    <tr>\n",
       "      <th>0</th>\n",
       "      <td>2</td>\n",
       "      <td>4</td>\n",
       "      <td>173449</td>\n",
       "      <td>1</td>\n",
       "      <td>0</td>\n",
       "      <td>6</td>\n",
       "      <td>1</td>\n",
       "      <td>32</td>\n",
       "      <td>11</td>\n",
       "      <td>0.526602</td>\n",
       "      <td>40</td>\n",
       "      <td>0</td>\n",
       "      <td>0</td>\n",
       "      <td>4</td>\n",
       "      <td>cf716d06-4abb-43b5-a4ca-9d514001784e</td>\n",
       "      <td>9</td>\n",
       "      <td>510</td>\n",
       "      <td>39</td>\n",
       "    </tr>\n",
       "    <tr>\n",
       "      <th>1</th>\n",
       "      <td>2</td>\n",
       "      <td>4</td>\n",
       "      <td>96245</td>\n",
       "      <td>1</td>\n",
       "      <td>0</td>\n",
       "      <td>6</td>\n",
       "      <td>1</td>\n",
       "      <td>31</td>\n",
       "      <td>11</td>\n",
       "      <td>0.157386</td>\n",
       "      <td>42</td>\n",
       "      <td>0</td>\n",
       "      <td>0</td>\n",
       "      <td>4</td>\n",
       "      <td>cf716d06-4abb-43b5-a4ca-9d514001784e</td>\n",
       "      <td>9</td>\n",
       "      <td>604</td>\n",
       "      <td>39</td>\n",
       "    </tr>\n",
       "    <tr>\n",
       "      <th>2</th>\n",
       "      <td>2</td>\n",
       "      <td>4</td>\n",
       "      <td>269705</td>\n",
       "      <td>1</td>\n",
       "      <td>0</td>\n",
       "      <td>6</td>\n",
       "      <td>1</td>\n",
       "      <td>33</td>\n",
       "      <td>11</td>\n",
       "      <td>0.122871</td>\n",
       "      <td>40</td>\n",
       "      <td>0</td>\n",
       "      <td>0</td>\n",
       "      <td>4</td>\n",
       "      <td>cf716d06-4abb-43b5-a4ca-9d514001784e</td>\n",
       "      <td>9</td>\n",
       "      <td>407</td>\n",
       "      <td>39</td>\n",
       "    </tr>\n",
       "    <tr>\n",
       "      <th>3</th>\n",
       "      <td>2</td>\n",
       "      <td>4</td>\n",
       "      <td>218667</td>\n",
       "      <td>1</td>\n",
       "      <td>0</td>\n",
       "      <td>6</td>\n",
       "      <td>1</td>\n",
       "      <td>25</td>\n",
       "      <td>11</td>\n",
       "      <td>0.108620</td>\n",
       "      <td>40</td>\n",
       "      <td>0</td>\n",
       "      <td>0</td>\n",
       "      <td>4</td>\n",
       "      <td>cf716d06-4abb-43b5-a4ca-9d514001784e</td>\n",
       "      <td>9</td>\n",
       "      <td>881</td>\n",
       "      <td>39</td>\n",
       "    </tr>\n",
       "    <tr>\n",
       "      <th>4</th>\n",
       "      <td>2</td>\n",
       "      <td>4</td>\n",
       "      <td>236267</td>\n",
       "      <td>1</td>\n",
       "      <td>0</td>\n",
       "      <td>6</td>\n",
       "      <td>1</td>\n",
       "      <td>25</td>\n",
       "      <td>11</td>\n",
       "      <td>0.084522</td>\n",
       "      <td>40</td>\n",
       "      <td>0</td>\n",
       "      <td>0</td>\n",
       "      <td>4</td>\n",
       "      <td>cf716d06-4abb-43b5-a4ca-9d514001784e</td>\n",
       "      <td>9</td>\n",
       "      <td>269</td>\n",
       "      <td>39</td>\n",
       "    </tr>\n",
       "  </tbody>\n",
       "</table>\n",
       "</div>"
      ],
      "text/plain": [
       "   marital-status  race  fnlwgt  target  capital-loss  occupation  sex  age  \\\n",
       "0               2     4  173449       1             0           6    1   32   \n",
       "1               2     4   96245       1             0           6    1   31   \n",
       "2               2     4  269705       1             0           6    1   33   \n",
       "3               2     4  218667       1             0           6    1   25   \n",
       "4               2     4  236267       1             0           6    1   25   \n",
       "\n",
       "   education  .influence_weight  hours-per-week  capital-gain  relationship  \\\n",
       "0         11           0.526602              40             0             0   \n",
       "1         11           0.157386              42             0             0   \n",
       "2         11           0.122871              40             0             0   \n",
       "3         11           0.108620              40             0             0   \n",
       "4         11           0.084522              40             0             0   \n",
       "\n",
       "   workclass                              .session  education-num  \\\n",
       "0          4  cf716d06-4abb-43b5-a4ca-9d514001784e              9   \n",
       "1          4  cf716d06-4abb-43b5-a4ca-9d514001784e              9   \n",
       "2          4  cf716d06-4abb-43b5-a4ca-9d514001784e              9   \n",
       "3          4  cf716d06-4abb-43b5-a4ca-9d514001784e              9   \n",
       "4          4  cf716d06-4abb-43b5-a4ca-9d514001784e              9   \n",
       "\n",
       "   .session_training_index  native-country  \n",
       "0                      510              39  \n",
       "1                      604              39  \n",
       "2                      407              39  \n",
       "3                      881              39  \n",
       "4                      269              39  "
      ]
     },
     "metadata": {},
     "output_type": "display_data"
    },
    {
     "name": "stdout",
     "output_type": "stream",
     "text": [
      "\n",
      "_____________\n",
      "Original Case:\n"
     ]
    },
    {
     "data": {
      "text/plain": [
       "age                                                                23.0\n",
       "workclass                                                             4\n",
       "fnlwgt                                                         240049.0\n",
       "education                                                            13\n",
       "education-num                                                       1.0\n",
       "marital-status                                                        4\n",
       "occupation                                                            8\n",
       "relationship                                                          1\n",
       "race                                                                  1\n",
       "sex                                                                   0\n",
       "capital-gain                                                        0.0\n",
       "capital-loss                                                        0.0\n",
       "hours-per-week                                                     40.0\n",
       "native-country                                                       25\n",
       "target                                                                1\n",
       "familiarity_conviction_addition                                0.023355\n",
       ".session_training_index                                             732\n",
       ".session                           cf716d06-4abb-43b5-a4ca-9d514001784e\n",
       "distance_contribution                                        280.379224\n",
       "category                                                        outlier\n",
       "Name: 1, dtype: object"
      ]
     },
     "metadata": {},
     "output_type": "display_data"
    },
    {
     "name": "stdout",
     "output_type": "stream",
     "text": [
      "\n",
      "Influential Cases:\n"
     ]
    },
    {
     "data": {
      "text/html": [
       "<div>\n",
       "<style scoped>\n",
       "    .dataframe tbody tr th:only-of-type {\n",
       "        vertical-align: middle;\n",
       "    }\n",
       "\n",
       "    .dataframe tbody tr th {\n",
       "        vertical-align: top;\n",
       "    }\n",
       "\n",
       "    .dataframe thead th {\n",
       "        text-align: right;\n",
       "    }\n",
       "</style>\n",
       "<table border=\"1\" class=\"dataframe\">\n",
       "  <thead>\n",
       "    <tr style=\"text-align: right;\">\n",
       "      <th></th>\n",
       "      <th>marital-status</th>\n",
       "      <th>race</th>\n",
       "      <th>fnlwgt</th>\n",
       "      <th>target</th>\n",
       "      <th>capital-loss</th>\n",
       "      <th>occupation</th>\n",
       "      <th>sex</th>\n",
       "      <th>age</th>\n",
       "      <th>education</th>\n",
       "      <th>.influence_weight</th>\n",
       "      <th>hours-per-week</th>\n",
       "      <th>capital-gain</th>\n",
       "      <th>relationship</th>\n",
       "      <th>workclass</th>\n",
       "      <th>.session</th>\n",
       "      <th>education-num</th>\n",
       "      <th>.session_training_index</th>\n",
       "      <th>native-country</th>\n",
       "    </tr>\n",
       "  </thead>\n",
       "  <tbody>\n",
       "    <tr>\n",
       "      <th>0</th>\n",
       "      <td>2</td>\n",
       "      <td>4</td>\n",
       "      <td>236267</td>\n",
       "      <td>1</td>\n",
       "      <td>0</td>\n",
       "      <td>6</td>\n",
       "      <td>1</td>\n",
       "      <td>25</td>\n",
       "      <td>11</td>\n",
       "      <td>0.832923</td>\n",
       "      <td>40</td>\n",
       "      <td>0</td>\n",
       "      <td>0</td>\n",
       "      <td>4</td>\n",
       "      <td>cf716d06-4abb-43b5-a4ca-9d514001784e</td>\n",
       "      <td>9</td>\n",
       "      <td>269</td>\n",
       "      <td>39</td>\n",
       "    </tr>\n",
       "    <tr>\n",
       "      <th>1</th>\n",
       "      <td>2</td>\n",
       "      <td>4</td>\n",
       "      <td>190228</td>\n",
       "      <td>1</td>\n",
       "      <td>0</td>\n",
       "      <td>6</td>\n",
       "      <td>1</td>\n",
       "      <td>30</td>\n",
       "      <td>11</td>\n",
       "      <td>0.118074</td>\n",
       "      <td>40</td>\n",
       "      <td>0</td>\n",
       "      <td>0</td>\n",
       "      <td>4</td>\n",
       "      <td>cf716d06-4abb-43b5-a4ca-9d514001784e</td>\n",
       "      <td>9</td>\n",
       "      <td>198</td>\n",
       "      <td>39</td>\n",
       "    </tr>\n",
       "    <tr>\n",
       "      <th>2</th>\n",
       "      <td>2</td>\n",
       "      <td>4</td>\n",
       "      <td>173449</td>\n",
       "      <td>1</td>\n",
       "      <td>0</td>\n",
       "      <td>6</td>\n",
       "      <td>1</td>\n",
       "      <td>32</td>\n",
       "      <td>11</td>\n",
       "      <td>0.027818</td>\n",
       "      <td>40</td>\n",
       "      <td>0</td>\n",
       "      <td>0</td>\n",
       "      <td>4</td>\n",
       "      <td>cf716d06-4abb-43b5-a4ca-9d514001784e</td>\n",
       "      <td>9</td>\n",
       "      <td>510</td>\n",
       "      <td>39</td>\n",
       "    </tr>\n",
       "    <tr>\n",
       "      <th>3</th>\n",
       "      <td>2</td>\n",
       "      <td>4</td>\n",
       "      <td>269705</td>\n",
       "      <td>1</td>\n",
       "      <td>0</td>\n",
       "      <td>6</td>\n",
       "      <td>1</td>\n",
       "      <td>33</td>\n",
       "      <td>11</td>\n",
       "      <td>0.013421</td>\n",
       "      <td>40</td>\n",
       "      <td>0</td>\n",
       "      <td>0</td>\n",
       "      <td>4</td>\n",
       "      <td>cf716d06-4abb-43b5-a4ca-9d514001784e</td>\n",
       "      <td>9</td>\n",
       "      <td>407</td>\n",
       "      <td>39</td>\n",
       "    </tr>\n",
       "    <tr>\n",
       "      <th>4</th>\n",
       "      <td>2</td>\n",
       "      <td>4</td>\n",
       "      <td>96245</td>\n",
       "      <td>1</td>\n",
       "      <td>0</td>\n",
       "      <td>6</td>\n",
       "      <td>1</td>\n",
       "      <td>31</td>\n",
       "      <td>11</td>\n",
       "      <td>0.007763</td>\n",
       "      <td>42</td>\n",
       "      <td>0</td>\n",
       "      <td>0</td>\n",
       "      <td>4</td>\n",
       "      <td>cf716d06-4abb-43b5-a4ca-9d514001784e</td>\n",
       "      <td>9</td>\n",
       "      <td>604</td>\n",
       "      <td>39</td>\n",
       "    </tr>\n",
       "  </tbody>\n",
       "</table>\n",
       "</div>"
      ],
      "text/plain": [
       "   marital-status  race  fnlwgt  target  capital-loss  occupation  sex  age  \\\n",
       "0               2     4  236267       1             0           6    1   25   \n",
       "1               2     4  190228       1             0           6    1   30   \n",
       "2               2     4  173449       1             0           6    1   32   \n",
       "3               2     4  269705       1             0           6    1   33   \n",
       "4               2     4   96245       1             0           6    1   31   \n",
       "\n",
       "   education  .influence_weight  hours-per-week  capital-gain  relationship  \\\n",
       "0         11           0.832923              40             0             0   \n",
       "1         11           0.118074              40             0             0   \n",
       "2         11           0.027818              40             0             0   \n",
       "3         11           0.013421              40             0             0   \n",
       "4         11           0.007763              42             0             0   \n",
       "\n",
       "   workclass                              .session  education-num  \\\n",
       "0          4  cf716d06-4abb-43b5-a4ca-9d514001784e              9   \n",
       "1          4  cf716d06-4abb-43b5-a4ca-9d514001784e              9   \n",
       "2          4  cf716d06-4abb-43b5-a4ca-9d514001784e              9   \n",
       "3          4  cf716d06-4abb-43b5-a4ca-9d514001784e              9   \n",
       "4          4  cf716d06-4abb-43b5-a4ca-9d514001784e              9   \n",
       "\n",
       "   .session_training_index  native-country  \n",
       "0                      269              39  \n",
       "1                      198              39  \n",
       "2                      510              39  \n",
       "3                      407              39  \n",
       "4                      604              39  "
      ]
     },
     "metadata": {},
     "output_type": "display_data"
    },
    {
     "name": "stdout",
     "output_type": "stream",
     "text": [
      "\n",
      "_____________\n"
     ]
    }
   ],
   "source": [
    "# Print influential and boundary case outliers\n",
    "for i in range(2):\n",
    "    get_cases(outliers, results, i)\n",
    "    print('_____________')"
   ]
  }
 ],
 "metadata": {
  "kernelspec": {
   "display_name": "engine_rec_312",
   "language": "python",
   "name": "python3"
  },
  "language_info": {
   "codemirror_mode": {
    "name": "ipython",
    "version": 3
   },
   "file_extension": ".py",
   "mimetype": "text/x-python",
   "name": "python",
   "nbconvert_exporter": "python",
   "pygments_lexer": "ipython3",
   "version": "3.10.18"
  }
 },
 "nbformat": 4,
 "nbformat_minor": 4
}
