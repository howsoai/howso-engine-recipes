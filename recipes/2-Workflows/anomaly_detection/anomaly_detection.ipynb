{
 "cells": [
  {
   "attachments": {},
   "cell_type": "markdown",
   "metadata": {},
   "source": [
    "# Anomaly Detection\n",
    "## Overview \n",
    "\n",
    "In the recipe, `engine-insights.ipynb`, we demonstrated an introduction to anomaly detection. In this recipe, expand on the methods used in that recipe. Howso Engine can be used to identify anomalous cases in a dataset and also explain why those cases may be anomalous. Furthermore, we can leverage other tools we learned in previous recipes, such  as influential and boundary cases, to provide additional context.\n",
    "\n",
    "Finding anomalous cases has value in both model building and data exploration. For example, as we continue to build a suitable model for the `Adult` datset, detecting anomalies can give us insight into whether we need to clean the dataset to reduce false signals. Possible sources of anomalies could be cases that are erroneous or falsified.   \n"
   ]
  },
  {
   "attachments": {},
   "cell_type": "markdown",
   "metadata": {},
   "source": [
    "# Section 1: Load, Train, Analyze\n",
    "\n",
    "For questions about the specific steps of this section, please see the [basic workflow guide](https://docs.howso.com/en/release-latest/user_guide/basic_capabilities/basic_workflow.html).\n"
   ]
  },
  {
   "cell_type": "code",
   "execution_count": 1,
   "metadata": {
    "execution": {
     "iopub.execute_input": "2025-07-18T19:06:01.066089Z",
     "iopub.status.busy": "2025-07-18T19:06:01.065908Z",
     "iopub.status.idle": "2025-07-18T19:06:05.861663Z",
     "shell.execute_reply": "2025-07-18T19:06:05.861018Z"
    }
   },
   "outputs": [],
   "source": [
    "import pandas as pd\n",
    "from pmlb import fetch_data\n",
    "\n",
    "from howso.engine import Trainee\n",
    "from howso.utilities import infer_feature_attributes\n",
    "from howso.visuals import plot_anomalies"
   ]
  },
  {
   "cell_type": "markdown",
   "metadata": {},
   "source": [
    "### Step 1: Load Data and Create Trainee\n",
    "\n",
    "Our example dataset for this recipe continues to be the well known `Adult` dataset. This dataset consists of 14 Context Features and 1 Action Feature. The Action Feature in this version of the `Adult` dataset has been renamed to `target` and it takes the form of a binary indicator for whether a person in the data makes over $50,000/year (*target*=1) or less (*target*=0)."
   ]
  },
  {
   "cell_type": "code",
   "execution_count": 2,
   "metadata": {
    "execution": {
     "iopub.execute_input": "2025-07-18T19:06:05.864493Z",
     "iopub.status.busy": "2025-07-18T19:06:05.864198Z",
     "iopub.status.idle": "2025-07-18T19:06:07.990005Z",
     "shell.execute_reply": "2025-07-18T19:06:07.989298Z"
    }
   },
   "outputs": [],
   "source": [
    "df = fetch_data('adult', local_cache_dir=\"../../data/adult\")\n",
    "\n",
    "# Subsample the data to ensure the example runs quickly\n",
    "df = df.sample(1000, random_state=0)\n",
    "\n",
    "# Infer feature attributes\n",
    "features = infer_feature_attributes(df)\n",
    "\n",
    "# Create the Trainee\n",
    "t = Trainee(features=features)"
   ]
  },
  {
   "attachments": {},
   "cell_type": "markdown",
   "metadata": {},
   "source": [
    "### Step 2: Train and Analyze"
   ]
  },
  {
   "cell_type": "code",
   "execution_count": 3,
   "metadata": {
    "execution": {
     "iopub.execute_input": "2025-07-18T19:06:07.992603Z",
     "iopub.status.busy": "2025-07-18T19:06:07.992399Z",
     "iopub.status.idle": "2025-07-18T19:06:17.088445Z",
     "shell.execute_reply": "2025-07-18T19:06:17.087791Z"
    }
   },
   "outputs": [],
   "source": [
    "t.train(df)\n",
    "\n",
    "# Targetless Analysis\n",
    "t.analyze()"
   ]
  },
  {
   "attachments": {},
   "cell_type": "markdown",
   "metadata": {},
   "source": [
    "# Section 2: Anomaly Identification\n",
    "\n",
    "We will use [Familiarity Conviction](https://docs.howso.com/en/release-latest/getting_started/terminology.html#familiarity-conviction) and [Distance Contribution](https://docs.howso.com/en/release-latest/getting_started/terminology.html#distance-contribution) to identify potentially anomalous cases. Conviction is a value indicating how surprising a case is relative to how surprising other cases in the model are. In the case of `Familiarity Conviction`, the level of surprisal is measured by the perturbation of the probability distribution when the case is added or removed (hence the parameters: `familiarity_conviction_addition` and `familiarity_conviction_removal`).  Howso Engine’s interpretability tools also enable us to understand why these cases may be anomalous and whether they are outliers and inliers. "
   ]
  },
  {
   "attachments": {},
   "cell_type": "markdown",
   "metadata": {},
   "source": [
    "### Step 1: Compute Distance Contribution and Familiarity Conviction for every case\n",
    "\n",
    "The first step is to use `react_into_features` and select the metrics we want to return.\n",
    "\n",
    "`react_into_features` is a method that calculates the desired attributes for every case in the Trainee and caches those values into each case as a feature.\n",
    "\n",
    "Notably, this means that these features can then be used as context and action features, but this is only recommended for advanced use-cases."
   ]
  },
  {
   "cell_type": "code",
   "execution_count": 4,
   "metadata": {
    "execution": {
     "iopub.execute_input": "2025-07-18T19:06:17.090980Z",
     "iopub.status.busy": "2025-07-18T19:06:17.090781Z",
     "iopub.status.idle": "2025-07-18T19:06:17.171901Z",
     "shell.execute_reply": "2025-07-18T19:06:17.171312Z"
    }
   },
   "outputs": [],
   "source": [
    "# Store the familiarity conviction and distance contribution, this will be used to identify anomalous cases\n",
    "t.react_into_features(\n",
    "    familiarity_conviction_addition=True,\n",
    "    distance_contribution=True\n",
    ")\n",
    "\n",
    "stored_convictions = t.get_cases(\n",
    "    session=t.active_session,\n",
    "    features=df.columns.tolist() + ['familiarity_conviction_addition','.session_training_index', '.session', 'distance_contribution']\n",
    ")"
   ]
  },
  {
   "attachments": {},
   "cell_type": "markdown",
   "metadata": {},
   "source": [
    "### Step 2: Set Threshold and Identify Anomalies\n",
    "\n",
    "There is no absolute threshold for what is considered to be anomalous, as anomalous behavior is a measure of surprisal. Thus, this is a lever that the user can change depending on the data. The threshold should be more or less than 1, which indicates average surprisal.\n",
    "\n",
    "We first use `familiarity_conviction_addition` to find anomalies, and then use the average `distance_contribution` to determine what type of anomaly the case is (e.g., inlier vs. outlier). Cases with large distance contributions will be considered outliers and those with\n",
    "low distance contributions will be inliers.\n",
    "\n",
    "For this data, we use a threshold of 0.75 for the Familiarity Conviction. Cases with a Familarity Conviction below this value will be considered outliers."
   ]
  },
  {
   "cell_type": "code",
   "execution_count": 5,
   "metadata": {
    "execution": {
     "iopub.execute_input": "2025-07-18T19:06:17.174188Z",
     "iopub.status.busy": "2025-07-18T19:06:17.173818Z",
     "iopub.status.idle": "2025-07-18T19:06:17.179369Z",
     "shell.execute_reply": "2025-07-18T19:06:17.178869Z"
    }
   },
   "outputs": [],
   "source": [
    "# Threshold to determine which cases will be deemed anomalous\n",
    "convict_threshold = 0.75\n",
    "\n",
    "# Extract the anomalous cases\n",
    "low_convicts = stored_convictions[\n",
    "    stored_convictions['familiarity_conviction_addition'] <= convict_threshold\n",
    "].sort_values('familiarity_conviction_addition', ascending=True)\n",
    "\n",
    "# Average distance contribution will be used to determine if a case is an outlier or inlier\n",
    "average_dist_contribution = low_convicts['distance_contribution'].mean()\n",
    "\n",
    "# A case with distance contribution greater than average will be tagged as outlier, and vice versa for inliers\n",
    "cat = [\n",
    "    'inlier' if d < average_dist_contribution else\n",
    "    'outlier' for d in low_convicts['distance_contribution']\n",
    "]\n",
    "low_convicts['category'] = cat"
   ]
  },
  {
   "attachments": {},
   "cell_type": "markdown",
   "metadata": {},
   "source": [
    "# Section 3: Anomaly Inspection"
   ]
  },
  {
   "attachments": {},
   "cell_type": "markdown",
   "metadata": {},
   "source": [
    "\n",
    "### Step 1: Inspect Outliers\n",
    "\n",
    "Typically, when we think of anomalies, we think of outliers or cases that are significantly different that the rest of the data, whether erroneous or not. Preprocessing in machine learning often involves pruning these data points as they can add undesired noise to a model. \n",
    "\n",
    "The Case Feature Residual Conviction will be used to understand why each case was anomalous.\n",
    "\n",
    "In our example use case where the `Adult` dataset is used to determine projected salary for loan applications, we want to eliminate any erroneous outliers if possible. We may also want to detect substituted values, as often times datasets may substitute special values with nominal integers. For example, blank values in an application are often coded with high integers like 99999 which can introduce noise in the dataset.\n",
    "\n",
    "### **Definitions:**\n",
    "\n",
    "**`case_feature_residual_convictions`** :  This is calculated using the local feature residuals, divided by the feature residuals of the Case to obtain the Convictions."
   ]
  },
  {
   "cell_type": "code",
   "execution_count": 6,
   "metadata": {
    "execution": {
     "iopub.execute_input": "2025-07-18T19:06:17.181471Z",
     "iopub.status.busy": "2025-07-18T19:06:17.181141Z",
     "iopub.status.idle": "2025-07-18T19:06:17.196979Z",
     "shell.execute_reply": "2025-07-18T19:06:17.196474Z"
    }
   },
   "outputs": [
    {
     "data": {
      "text/html": [
       "<div>\n",
       "<style scoped>\n",
       "    .dataframe tbody tr th:only-of-type {\n",
       "        vertical-align: middle;\n",
       "    }\n",
       "\n",
       "    .dataframe tbody tr th {\n",
       "        vertical-align: top;\n",
       "    }\n",
       "\n",
       "    .dataframe thead th {\n",
       "        text-align: right;\n",
       "    }\n",
       "</style>\n",
       "<table border=\"1\" class=\"dataframe\">\n",
       "  <thead>\n",
       "    <tr style=\"text-align: right;\">\n",
       "      <th></th>\n",
       "      <th>age</th>\n",
       "      <th>workclass</th>\n",
       "      <th>fnlwgt</th>\n",
       "      <th>education</th>\n",
       "      <th>education-num</th>\n",
       "      <th>marital-status</th>\n",
       "      <th>occupation</th>\n",
       "      <th>relationship</th>\n",
       "      <th>race</th>\n",
       "      <th>sex</th>\n",
       "      <th>capital-gain</th>\n",
       "      <th>capital-loss</th>\n",
       "      <th>hours-per-week</th>\n",
       "      <th>native-country</th>\n",
       "      <th>target</th>\n",
       "      <th>familiarity_conviction_addition</th>\n",
       "      <th>.session_training_index</th>\n",
       "      <th>.session</th>\n",
       "      <th>distance_contribution</th>\n",
       "      <th>category</th>\n",
       "    </tr>\n",
       "  </thead>\n",
       "  <tbody>\n",
       "    <tr>\n",
       "      <th>0</th>\n",
       "      <td>30.0</td>\n",
       "      <td>4</td>\n",
       "      <td>193598.0</td>\n",
       "      <td>13</td>\n",
       "      <td>1.0</td>\n",
       "      <td>4</td>\n",
       "      <td>5</td>\n",
       "      <td>1</td>\n",
       "      <td>4</td>\n",
       "      <td>1</td>\n",
       "      <td>0.0</td>\n",
       "      <td>0.0</td>\n",
       "      <td>40.0</td>\n",
       "      <td>26</td>\n",
       "      <td>1</td>\n",
       "      <td>0.020019</td>\n",
       "      <td>540</td>\n",
       "      <td>4680a153-fe0d-4bd7-a1bc-cfc96965152b</td>\n",
       "      <td>306.265156</td>\n",
       "      <td>outlier</td>\n",
       "    </tr>\n",
       "    <tr>\n",
       "      <th>1</th>\n",
       "      <td>23.0</td>\n",
       "      <td>4</td>\n",
       "      <td>240049.0</td>\n",
       "      <td>13</td>\n",
       "      <td>1.0</td>\n",
       "      <td>4</td>\n",
       "      <td>8</td>\n",
       "      <td>1</td>\n",
       "      <td>1</td>\n",
       "      <td>0</td>\n",
       "      <td>0.0</td>\n",
       "      <td>0.0</td>\n",
       "      <td>40.0</td>\n",
       "      <td>25</td>\n",
       "      <td>1</td>\n",
       "      <td>0.023355</td>\n",
       "      <td>732</td>\n",
       "      <td>4680a153-fe0d-4bd7-a1bc-cfc96965152b</td>\n",
       "      <td>280.379224</td>\n",
       "      <td>outlier</td>\n",
       "    </tr>\n",
       "    <tr>\n",
       "      <th>2</th>\n",
       "      <td>65.0</td>\n",
       "      <td>5</td>\n",
       "      <td>184965.0</td>\n",
       "      <td>10</td>\n",
       "      <td>16.0</td>\n",
       "      <td>2</td>\n",
       "      <td>4</td>\n",
       "      <td>0</td>\n",
       "      <td>4</td>\n",
       "      <td>1</td>\n",
       "      <td>99999.0</td>\n",
       "      <td>0.0</td>\n",
       "      <td>40.0</td>\n",
       "      <td>39</td>\n",
       "      <td>0</td>\n",
       "      <td>0.025732</td>\n",
       "      <td>649</td>\n",
       "      <td>4680a153-fe0d-4bd7-a1bc-cfc96965152b</td>\n",
       "      <td>387.300496</td>\n",
       "      <td>outlier</td>\n",
       "    </tr>\n",
       "  </tbody>\n",
       "</table>\n",
       "</div>"
      ],
      "text/plain": [
       "    age  workclass    fnlwgt  education  education-num  marital-status  \\\n",
       "0  30.0          4  193598.0         13            1.0               4   \n",
       "1  23.0          4  240049.0         13            1.0               4   \n",
       "2  65.0          5  184965.0         10           16.0               2   \n",
       "\n",
       "   occupation  relationship  race  sex  capital-gain  capital-loss  \\\n",
       "0           5             1     4    1           0.0           0.0   \n",
       "1           8             1     1    0           0.0           0.0   \n",
       "2           4             0     4    1       99999.0           0.0   \n",
       "\n",
       "   hours-per-week  native-country  target  familiarity_conviction_addition  \\\n",
       "0            40.0              26       1                         0.020019   \n",
       "1            40.0              25       1                         0.023355   \n",
       "2            40.0              39       0                         0.025732   \n",
       "\n",
       "   .session_training_index                              .session  \\\n",
       "0                      540  4680a153-fe0d-4bd7-a1bc-cfc96965152b   \n",
       "1                      732  4680a153-fe0d-4bd7-a1bc-cfc96965152b   \n",
       "2                      649  4680a153-fe0d-4bd7-a1bc-cfc96965152b   \n",
       "\n",
       "   distance_contribution category  \n",
       "0             306.265156  outlier  \n",
       "1             280.379224  outlier  \n",
       "2             387.300496  outlier  "
      ]
     },
     "execution_count": 6,
     "metadata": {},
     "output_type": "execute_result"
    }
   ],
   "source": [
    "# Extract the outliers cases\n",
    "outliers = low_convicts[low_convicts['category'] == 'outlier'].reset_index(drop=True)\n",
    "outliers.head(3)"
   ]
  },
  {
   "attachments": {},
   "cell_type": "markdown",
   "metadata": {},
   "source": [
    "### Step 2: Outlier Value Evaluation\n",
    "\n",
    "From the above results, we can see which cases may be anomalous, however just knowing whether a case is potentially an anomaly doesn't give us all the information we need to make an informed decision. If we are deciding whether to prune a case from our training set, often we only want to prune erroneous values. Even if a case is an anomaly in terms of distance or value, if it is valid we may still leave it in as it represents a legitimate data point. \n",
    "\n",
    "By looking at the `Case Feature Residual Convictions`, we can gain some insight as to why a case was deemed anomalous."
   ]
  },
  {
   "cell_type": "code",
   "execution_count": 7,
   "metadata": {
    "execution": {
     "iopub.execute_input": "2025-07-18T19:06:17.231818Z",
     "iopub.status.busy": "2025-07-18T19:06:17.231415Z",
     "iopub.status.idle": "2025-07-18T19:06:19.439951Z",
     "shell.execute_reply": "2025-07-18T19:06:19.439315Z"
    }
   },
   "outputs": [],
   "source": [
    "# We add a few extra metrics for subsequent examples in this notebook\n",
    "# Get the case_feature_residual_convictions, influential_cases and boundary_cases\n",
    "details = {\n",
    "    'influential_cases': True,\n",
    "    'feature_full_residual_convictions_for_case': True\n",
    "}\n",
    "\n",
    "# Specify outlier cases\n",
    "outliers_indices = outliers[['.session', '.session_training_index']].values\n",
    "\n",
    "# Residuals must be computed and cached for some of these details\n",
    "t.get_prediction_stats(details = {\"feature_full_residuals\": True})\n",
    "\n",
    "# React to get the details of each anomalous case\n",
    "#   Specify trained cases to react to with 'case_indices'\n",
    "results = t.react(\n",
    "    case_indices=outliers_indices,\n",
    "    preserve_feature_values=df.columns.tolist(),\n",
    "    leave_case_out=True,\n",
    "    details=details\n",
    ")\n",
    "\n",
    "outlier_case_feature_residual_convictions = pd.DataFrame(\n",
    "    results['details']['feature_full_residual_convictions_for_case']\n",
    ")[df.columns.tolist()]"
   ]
  },
  {
   "cell_type": "code",
   "execution_count": 8,
   "metadata": {
    "execution": {
     "iopub.execute_input": "2025-07-18T19:06:19.442149Z",
     "iopub.status.busy": "2025-07-18T19:06:19.441958Z",
     "iopub.status.idle": "2025-07-18T19:06:22.785249Z",
     "shell.execute_reply": "2025-07-18T19:06:22.784665Z"
    }
   },
   "outputs": [
    {
     "name": "stderr",
     "output_type": "stream",
     "text": [
      "/home/runner/.local/lib/python3.10/site-packages/plotly/io/_base_renderers.py:123: DeprecationWarning:\n",
      "\n",
      "\n",
      "Support for the 'engine' argument is deprecated and will be removed after September 2025.\n",
      "Kaleido will be the only supported engine at that time.\n",
      "\n",
      "\n"
     ]
    },
    {
     "data": {
      "application/pdf": "[encoded data removed]"
     },
     "metadata": {},
     "output_type": "display_data"
    }
   ],
   "source": [
    "fig = plot_anomalies(outliers, outlier_case_feature_residual_convictions)\n",
    "fig.update_layout(width=1500, height=750)\n",
    "fig.show(renderer=\"pdf\")"
   ]
  },
  {
   "attachments": {},
   "cell_type": "markdown",
   "metadata": {},
   "source": [
    "From this chart we can see that these cases were flagged as anomalous largely because of their `capital-gain` values. Since our target variable is whether someone makes over $50,000 in salary, people with such large capital gains making less than $50,000 seems odd. In addition, values such as 99999 often indicate some sort of nominal value that may represent something other than the actual capital-gain, such as if a person did not answer. \n",
    "\n",
    "With this information, we can choose the appropriate action, whether it is recoding capital-gains, removing the cases, leaving the cases out, etc..."
   ]
  },
  {
   "attachments": {},
   "cell_type": "markdown",
   "metadata": {
    "tags": []
   },
   "source": [
    "### Step 3: Inspect Outliers\n",
    "\n",
    "While we generally only think of outliers when it comes to anomalies, inliers are another, more discrete, form of anomaly. Inliers are the opposite of outliers, as inliers are cases that are too [similiar](https://docs.howso.com/en/release-latest/getting_started/terminology.html#most-similar-cases) to other points. A real world hypothetical case of an inlier would be someone submitting a false transaction date in which they tried to make the data look real by making it very similar to existing data. \n",
    "\n",
    "In our case, it may be someone in a bank who is internally falsifying applications in order to try to alter the prediction model.\n",
    "\n",
    "Just like outliers, `distance_contribution` is used to detect inliers from the anomalies detected through the use of `familiarity_conviction_addition`, except now we are looking at cases below a theshold which indicates similarity to other points.\n"
   ]
  },
  {
   "cell_type": "code",
   "execution_count": 9,
   "metadata": {
    "execution": {
     "iopub.execute_input": "2025-07-18T19:06:22.787427Z",
     "iopub.status.busy": "2025-07-18T19:06:22.787050Z",
     "iopub.status.idle": "2025-07-18T19:06:22.800772Z",
     "shell.execute_reply": "2025-07-18T19:06:22.800243Z"
    }
   },
   "outputs": [
    {
     "data": {
      "text/html": [
       "<div>\n",
       "<style scoped>\n",
       "    .dataframe tbody tr th:only-of-type {\n",
       "        vertical-align: middle;\n",
       "    }\n",
       "\n",
       "    .dataframe tbody tr th {\n",
       "        vertical-align: top;\n",
       "    }\n",
       "\n",
       "    .dataframe thead th {\n",
       "        text-align: right;\n",
       "    }\n",
       "</style>\n",
       "<table border=\"1\" class=\"dataframe\">\n",
       "  <thead>\n",
       "    <tr style=\"text-align: right;\">\n",
       "      <th></th>\n",
       "      <th>age</th>\n",
       "      <th>workclass</th>\n",
       "      <th>fnlwgt</th>\n",
       "      <th>education</th>\n",
       "      <th>education-num</th>\n",
       "      <th>marital-status</th>\n",
       "      <th>occupation</th>\n",
       "      <th>relationship</th>\n",
       "      <th>race</th>\n",
       "      <th>sex</th>\n",
       "      <th>capital-gain</th>\n",
       "      <th>capital-loss</th>\n",
       "      <th>hours-per-week</th>\n",
       "      <th>native-country</th>\n",
       "      <th>target</th>\n",
       "      <th>familiarity_conviction_addition</th>\n",
       "      <th>.session_training_index</th>\n",
       "      <th>.session</th>\n",
       "      <th>distance_contribution</th>\n",
       "      <th>category</th>\n",
       "    </tr>\n",
       "  </thead>\n",
       "  <tbody>\n",
       "    <tr>\n",
       "      <th>0</th>\n",
       "      <td>30.0</td>\n",
       "      <td>4</td>\n",
       "      <td>190228.0</td>\n",
       "      <td>11</td>\n",
       "      <td>9.0</td>\n",
       "      <td>2</td>\n",
       "      <td>6</td>\n",
       "      <td>0</td>\n",
       "      <td>4</td>\n",
       "      <td>1</td>\n",
       "      <td>0.0</td>\n",
       "      <td>0.0</td>\n",
       "      <td>40.0</td>\n",
       "      <td>39</td>\n",
       "      <td>1</td>\n",
       "      <td>0.313184</td>\n",
       "      <td>198</td>\n",
       "      <td>4680a153-fe0d-4bd7-a1bc-cfc96965152b</td>\n",
       "      <td>1.446570</td>\n",
       "      <td>inlier</td>\n",
       "    </tr>\n",
       "    <tr>\n",
       "      <th>1</th>\n",
       "      <td>25.0</td>\n",
       "      <td>4</td>\n",
       "      <td>218667.0</td>\n",
       "      <td>11</td>\n",
       "      <td>9.0</td>\n",
       "      <td>2</td>\n",
       "      <td>6</td>\n",
       "      <td>0</td>\n",
       "      <td>4</td>\n",
       "      <td>1</td>\n",
       "      <td>0.0</td>\n",
       "      <td>0.0</td>\n",
       "      <td>40.0</td>\n",
       "      <td>39</td>\n",
       "      <td>1</td>\n",
       "      <td>0.313948</td>\n",
       "      <td>881</td>\n",
       "      <td>4680a153-fe0d-4bd7-a1bc-cfc96965152b</td>\n",
       "      <td>1.560241</td>\n",
       "      <td>inlier</td>\n",
       "    </tr>\n",
       "    <tr>\n",
       "      <th>2</th>\n",
       "      <td>36.0</td>\n",
       "      <td>4</td>\n",
       "      <td>209629.0</td>\n",
       "      <td>11</td>\n",
       "      <td>9.0</td>\n",
       "      <td>2</td>\n",
       "      <td>7</td>\n",
       "      <td>0</td>\n",
       "      <td>4</td>\n",
       "      <td>1</td>\n",
       "      <td>0.0</td>\n",
       "      <td>0.0</td>\n",
       "      <td>40.0</td>\n",
       "      <td>39</td>\n",
       "      <td>1</td>\n",
       "      <td>0.317199</td>\n",
       "      <td>404</td>\n",
       "      <td>4680a153-fe0d-4bd7-a1bc-cfc96965152b</td>\n",
       "      <td>1.568833</td>\n",
       "      <td>inlier</td>\n",
       "    </tr>\n",
       "  </tbody>\n",
       "</table>\n",
       "</div>"
      ],
      "text/plain": [
       "    age  workclass    fnlwgt  education  education-num  marital-status  \\\n",
       "0  30.0          4  190228.0         11            9.0               2   \n",
       "1  25.0          4  218667.0         11            9.0               2   \n",
       "2  36.0          4  209629.0         11            9.0               2   \n",
       "\n",
       "   occupation  relationship  race  sex  capital-gain  capital-loss  \\\n",
       "0           6             0     4    1           0.0           0.0   \n",
       "1           6             0     4    1           0.0           0.0   \n",
       "2           7             0     4    1           0.0           0.0   \n",
       "\n",
       "   hours-per-week  native-country  target  familiarity_conviction_addition  \\\n",
       "0            40.0              39       1                         0.313184   \n",
       "1            40.0              39       1                         0.313948   \n",
       "2            40.0              39       1                         0.317199   \n",
       "\n",
       "   .session_training_index                              .session  \\\n",
       "0                      198  4680a153-fe0d-4bd7-a1bc-cfc96965152b   \n",
       "1                      881  4680a153-fe0d-4bd7-a1bc-cfc96965152b   \n",
       "2                      404  4680a153-fe0d-4bd7-a1bc-cfc96965152b   \n",
       "\n",
       "   distance_contribution category  \n",
       "0               1.446570   inlier  \n",
       "1               1.560241   inlier  \n",
       "2               1.568833   inlier  "
      ]
     },
     "execution_count": 9,
     "metadata": {},
     "output_type": "execute_result"
    }
   ],
   "source": [
    "# Extract the inlier cases\n",
    "inliers = low_convicts[low_convicts['category'] == 'inlier'].reset_index(drop=True)\n",
    "inliers.head(3)"
   ]
  },
  {
   "attachments": {},
   "cell_type": "markdown",
   "metadata": {},
   "source": [
    "### Step 4: Inlier Value Evaluation"
   ]
  },
  {
   "cell_type": "code",
   "execution_count": 10,
   "metadata": {
    "execution": {
     "iopub.execute_input": "2025-07-18T19:06:22.802678Z",
     "iopub.status.busy": "2025-07-18T19:06:22.802337Z",
     "iopub.status.idle": "2025-07-18T19:06:26.431324Z",
     "shell.execute_reply": "2025-07-18T19:06:26.430567Z"
    }
   },
   "outputs": [],
   "source": [
    "# Specify the inlier cases\n",
    "inliers_indices = inliers[['.session', '.session_training_index']].values\n",
    "\n",
    "# React to get the details of each case\n",
    "results = t.react(\n",
    "    case_indices=inliers_indices,\n",
    "    preserve_feature_values=df.columns.tolist(),\n",
    "    leave_case_out=True,\n",
    "    details=details\n",
    ")\n",
    "\n",
    "\n",
    "inlier_case_feature_residual_convictions = pd.DataFrame(\n",
    "    results['details']['feature_full_residual_convictions_for_case']\n",
    ")[df.columns.tolist()]"
   ]
  },
  {
   "cell_type": "code",
   "execution_count": 11,
   "metadata": {
    "execution": {
     "iopub.execute_input": "2025-07-18T19:06:26.434002Z",
     "iopub.status.busy": "2025-07-18T19:06:26.433606Z",
     "iopub.status.idle": "2025-07-18T19:06:27.969481Z",
     "shell.execute_reply": "2025-07-18T19:06:27.968801Z"
    }
   },
   "outputs": [
    {
     "name": "stderr",
     "output_type": "stream",
     "text": [
      "/home/runner/.local/lib/python3.10/site-packages/plotly/io/_base_renderers.py:123: DeprecationWarning:\n",
      "\n",
      "\n",
      "Support for the 'engine' argument is deprecated and will be removed after September 2025.\n",
      "Kaleido will be the only supported engine at that time.\n",
      "\n",
      "\n"
     ]
    },
    {
     "data": {
      "image/svg+xml": [
       "<svg class=\"main-svg\" xmlns=\"http://www.w3.org/2000/svg\" xmlns:xlink=\"http://www.w3.org/1999/xlink\" width=\"700\" height=\"500\" style=\"\" viewBox=\"0 0 700 500\"><rect x=\"0\" y=\"0\" width=\"700\" height=\"500\" style=\"fill: rgb(255, 255, 255); fill-opacity: 1;\"/><defs id=\"defs-661a0c\"><g class=\"clips\"><clipPath id=\"clip661a0cxyplot\" class=\"plotclip\"><rect width=\"512\" height=\"306\"/></clipPath><clipPath class=\"axesclip\" id=\"clip661a0cx\"><rect x=\"80\" y=\"0\" width=\"512\" height=\"500\"/></clipPath><clipPath class=\"axesclip\" id=\"clip661a0cy\"><rect x=\"0\" y=\"100\" width=\"700\" height=\"306\"/></clipPath><clipPath class=\"axesclip\" id=\"clip661a0cxy\"><rect x=\"80\" y=\"100\" width=\"512\" height=\"306\"/></clipPath></g><g class=\"gradients\"><linearGradient x1=\"0\" y1=\"1\" x2=\"0\" y2=\"0\" gradientUnits=\"objectBoundingBox\" id=\"g661a0c-cbcoloraxis\"><stop offset=\"0%\" stop-color=\"rgb(103, 0, 31)\" stop-opacity=\"1\"/><stop offset=\"20%\" stop-color=\"rgb(247, 247, 247)\" stop-opacity=\"1\"/><stop offset=\"40%\" stop-color=\"rgb(67, 147, 195)\" stop-opacity=\"1\"/><stop offset=\"100%\" stop-color=\"rgb(5, 48, 97)\" stop-opacity=\"1\"/></linearGradient></g><g class=\"patterns\"/></defs><g class=\"bglayer\"><rect class=\"bg\" x=\"80\" y=\"100\" width=\"512\" height=\"306\" style=\"fill: rgb(229, 236, 246); fill-opacity: 1; stroke-width: 0;\"/></g><g class=\"layer-below\"><g class=\"imagelayer\"/><g class=\"shapelayer\"/></g><g class=\"cartesianlayer\"><g class=\"subplot xy\"><g class=\"layer-subplot\"><g class=\"shapelayer\"/><g class=\"imagelayer\"/></g><g class=\"minor-gridlayer\"><g class=\"x\"/><g class=\"y\"/></g><g class=\"gridlayer\"><g class=\"x\"><path class=\"xgrid crisp\" transform=\"translate(97.07,0)\" d=\"M0,100v306\" style=\"stroke: rgb(255, 255, 255); stroke-opacity: 1; stroke-width: 1px;\"/><path class=\"xgrid crisp\" transform=\"translate(131.2,0)\" d=\"M0,100v306\" style=\"stroke: rgb(255, 255, 255); stroke-opacity: 1; stroke-width: 1px;\"/><path class=\"xgrid crisp\" transform=\"translate(165.32999999999998,0)\" d=\"M0,100v306\" style=\"stroke: rgb(255, 255, 255); stroke-opacity: 1; stroke-width: 1px;\"/><path class=\"xgrid crisp\" transform=\"translate(199.47,0)\" d=\"M0,100v306\" style=\"stroke: rgb(255, 255, 255); stroke-opacity: 1; stroke-width: 1px;\"/><path class=\"xgrid crisp\" transform=\"translate(233.6,0)\" d=\"M0,100v306\" style=\"stroke: rgb(255, 255, 255); stroke-opacity: 1; stroke-width: 1px;\"/><path class=\"xgrid crisp\" transform=\"translate(267.73,0)\" d=\"M0,100v306\" style=\"stroke: rgb(255, 255, 255); stroke-opacity: 1; stroke-width: 1px;\"/><path class=\"xgrid crisp\" transform=\"translate(301.87,0)\" d=\"M0,100v306\" style=\"stroke: rgb(255, 255, 255); stroke-opacity: 1; stroke-width: 1px;\"/><path class=\"xgrid crisp\" transform=\"translate(336,0)\" d=\"M0,100v306\" style=\"stroke: rgb(255, 255, 255); stroke-opacity: 1; stroke-width: 1px;\"/><path class=\"xgrid crisp\" transform=\"translate(370.13,0)\" d=\"M0,100v306\" style=\"stroke: rgb(255, 255, 255); stroke-opacity: 1; stroke-width: 1px;\"/><path class=\"xgrid crisp\" transform=\"translate(404.27,0)\" d=\"M0,100v306\" style=\"stroke: rgb(255, 255, 255); stroke-opacity: 1; stroke-width: 1px;\"/><path class=\"xgrid crisp\" transform=\"translate(438.4,0)\" d=\"M0,100v306\" style=\"stroke: rgb(255, 255, 255); stroke-opacity: 1; stroke-width: 1px;\"/><path class=\"xgrid crisp\" transform=\"translate(472.53,0)\" d=\"M0,100v306\" style=\"stroke: rgb(255, 255, 255); stroke-opacity: 1; stroke-width: 1px;\"/><path class=\"xgrid crisp\" transform=\"translate(506.67,0)\" d=\"M0,100v306\" style=\"stroke: rgb(255, 255, 255); stroke-opacity: 1; stroke-width: 1px;\"/><path class=\"xgrid crisp\" transform=\"translate(540.8,0)\" d=\"M0,100v306\" style=\"stroke: rgb(255, 255, 255); stroke-opacity: 1; stroke-width: 1px;\"/><path class=\"xgrid crisp\" transform=\"translate(574.9300000000001,0)\" d=\"M0,100v306\" style=\"stroke: rgb(255, 255, 255); stroke-opacity: 1; stroke-width: 1px;\"/></g><g class=\"y\"><path class=\"ygrid crisp\" transform=\"translate(0,375.4)\" d=\"M80,0h512\" style=\"stroke: rgb(255, 255, 255); stroke-opacity: 1; stroke-width: 1px;\"/><path class=\"ygrid crisp\" transform=\"translate(0,314.2)\" d=\"M80,0h512\" style=\"stroke: rgb(255, 255, 255); stroke-opacity: 1; stroke-width: 1px;\"/><path class=\"ygrid crisp\" transform=\"translate(0,253)\" d=\"M80,0h512\" style=\"stroke: rgb(255, 255, 255); stroke-opacity: 1; stroke-width: 1px;\"/><path class=\"ygrid crisp\" transform=\"translate(0,191.8)\" d=\"M80,0h512\" style=\"stroke: rgb(255, 255, 255); stroke-opacity: 1; stroke-width: 1px;\"/></g></g><g class=\"zerolinelayer\"><path class=\"yzl zl crisp\" transform=\"translate(0,130.6)\" d=\"M80,0h512\" style=\"stroke: rgb(255, 255, 255); stroke-opacity: 1; stroke-width: 2px;\"/></g><g class=\"layer-between\"><g class=\"shapelayer\"/><g class=\"imagelayer\"/></g><path class=\"xlines-below\"/><path class=\"ylines-below\"/><g class=\"overlines-below\"/><g class=\"xaxislayer-below\"/><g class=\"yaxislayer-below\"/><g class=\"overaxes-below\"/><g class=\"overplot\"><g class=\"xy\" transform=\"translate(80,100)\" clip-path=\"url(#clip661a0cxyplot)\"><g class=\"heatmaplayer mlayer\"><g class=\"hm\"><image xmlns=\"http://www.w3.org/2000/svg\" preserveAspectRatio=\"none\" height=\"306\" width=\"512\" x=\"0\" y=\"0\" xlink:href=\"data:image/png;base64,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\" style=\"opacity: 1;\"/><g class=\"heatmap-label\"><text text-anchor=\"middle\" data-notex=\"1\" x=\"17\" y=\"32.75\" style=\"font-family: 'Open Sans', verdana, arial, sans-serif; font-size: 5px; fill: rgb(68, 68, 68); fill-opacity: 1; white-space: pre;\">30.0</text></g><g class=\"heatmap-label\"><text text-anchor=\"middle\" data-notex=\"1\" x=\"51\" y=\"32.75\" style=\"font-family: 'Open Sans', verdana, arial, sans-serif; font-size: 5px; fill: rgb(68, 68, 68); fill-opacity: 1; white-space: pre;\">4</text></g><g class=\"heatmap-label\"><text text-anchor=\"middle\" data-notex=\"1\" x=\"85\" y=\"32.75\" style=\"font-family: 'Open Sans', verdana, arial, sans-serif; font-size: 5px; fill: rgb(68, 68, 68); fill-opacity: 1; white-space: pre;\">190228.0</text></g><g class=\"heatmap-label\"><text text-anchor=\"middle\" data-notex=\"1\" x=\"119\" y=\"32.75\" style=\"font-family: 'Open Sans', verdana, arial, sans-serif; font-size: 5px; fill: rgb(68, 68, 68); fill-opacity: 1; white-space: pre;\">11</text></g><g class=\"heatmap-label\"><text text-anchor=\"middle\" data-notex=\"1\" x=\"154\" y=\"32.75\" style=\"font-family: 'Open Sans', verdana, arial, sans-serif; font-size: 5px; fill: rgb(68, 68, 68); fill-opacity: 1; white-space: pre;\">9.0</text></g><g class=\"heatmap-label\"><text text-anchor=\"middle\" data-notex=\"1\" x=\"188\" y=\"32.75\" style=\"font-family: 'Open Sans', verdana, arial, sans-serif; font-size: 5px; fill: rgb(68, 68, 68); fill-opacity: 1; white-space: pre;\">2</text></g><g class=\"heatmap-label\"><text text-anchor=\"middle\" data-notex=\"1\" x=\"222\" y=\"32.75\" style=\"font-family: 'Open Sans', verdana, arial, sans-serif; font-size: 5px; fill: rgb(68, 68, 68); fill-opacity: 1; white-space: pre;\">6</text></g><g class=\"heatmap-label\"><text text-anchor=\"middle\" data-notex=\"1\" x=\"256\" y=\"32.75\" style=\"font-family: 'Open Sans', verdana, arial, sans-serif; font-size: 5px; fill: rgb(68, 68, 68); fill-opacity: 1; white-space: pre;\">0</text></g><g class=\"heatmap-label\"><text text-anchor=\"middle\" data-notex=\"1\" x=\"290\" y=\"32.75\" style=\"font-family: 'Open Sans', verdana, arial, sans-serif; font-size: 5px; fill: rgb(68, 68, 68); fill-opacity: 1; white-space: pre;\">4</text></g><g class=\"heatmap-label\"><text text-anchor=\"middle\" data-notex=\"1\" x=\"324\" y=\"32.75\" style=\"font-family: 'Open Sans', verdana, arial, sans-serif; font-size: 5px; fill: rgb(68, 68, 68); fill-opacity: 1; white-space: pre;\">1</text></g><g class=\"heatmap-label\"><text text-anchor=\"middle\" data-notex=\"1\" x=\"358\" y=\"32.75\" style=\"font-family: 'Open Sans', verdana, arial, sans-serif; font-size: 5px; fill: rgb(68, 68, 68); fill-opacity: 1; white-space: pre;\">0.0</text></g><g class=\"heatmap-label\"><text text-anchor=\"middle\" data-notex=\"1\" x=\"393\" y=\"32.75\" style=\"font-family: 'Open Sans', verdana, arial, sans-serif; font-size: 5px; fill: rgb(255, 255, 255); fill-opacity: 1; white-space: pre;\">0.0</text></g><g class=\"heatmap-label\"><text text-anchor=\"middle\" data-notex=\"1\" x=\"427\" y=\"32.75\" style=\"font-family: 'Open Sans', verdana, arial, sans-serif; font-size: 5px; fill: rgb(68, 68, 68); fill-opacity: 1; white-space: pre;\">40.0</text></g><g class=\"heatmap-label\"><text text-anchor=\"middle\" data-notex=\"1\" x=\"461\" y=\"32.75\" style=\"font-family: 'Open Sans', verdana, arial, sans-serif; font-size: 5px; fill: rgb(68, 68, 68); fill-opacity: 1; white-space: pre;\">39</text></g><g class=\"heatmap-label\"><text text-anchor=\"middle\" data-notex=\"1\" x=\"495\" y=\"32.75\" style=\"font-family: 'Open Sans', verdana, arial, sans-serif; font-size: 5px; fill: rgb(68, 68, 68); fill-opacity: 1; white-space: pre;\">1</text></g><g class=\"heatmap-label\"><text text-anchor=\"middle\" data-notex=\"1\" x=\"17\" y=\"93.75\" style=\"font-family: 'Open Sans', verdana, arial, sans-serif; font-size: 5px; fill: rgb(68, 68, 68); fill-opacity: 1; white-space: pre;\">25.0</text></g><g class=\"heatmap-label\"><text text-anchor=\"middle\" data-notex=\"1\" x=\"51\" y=\"93.75\" style=\"font-family: 'Open Sans', verdana, arial, sans-serif; font-size: 5px; fill: rgb(68, 68, 68); fill-opacity: 1; white-space: pre;\">4</text></g><g class=\"heatmap-label\"><text text-anchor=\"middle\" data-notex=\"1\" x=\"85\" y=\"93.75\" style=\"font-family: 'Open Sans', verdana, arial, sans-serif; font-size: 5px; fill: rgb(68, 68, 68); fill-opacity: 1; white-space: pre;\">218667.0</text></g><g class=\"heatmap-label\"><text text-anchor=\"middle\" data-notex=\"1\" x=\"119\" y=\"93.75\" style=\"font-family: 'Open Sans', verdana, arial, sans-serif; font-size: 5px; fill: rgb(68, 68, 68); fill-opacity: 1; white-space: pre;\">11</text></g><g class=\"heatmap-label\"><text text-anchor=\"middle\" data-notex=\"1\" x=\"154\" y=\"93.75\" style=\"font-family: 'Open Sans', verdana, arial, sans-serif; font-size: 5px; fill: rgb(68, 68, 68); fill-opacity: 1; white-space: pre;\">9.0</text></g><g class=\"heatmap-label\"><text text-anchor=\"middle\" data-notex=\"1\" x=\"188\" y=\"93.75\" style=\"font-family: 'Open Sans', verdana, arial, sans-serif; font-size: 5px; fill: rgb(68, 68, 68); fill-opacity: 1; white-space: pre;\">2</text></g><g class=\"heatmap-label\"><text text-anchor=\"middle\" data-notex=\"1\" x=\"222\" y=\"93.75\" style=\"font-family: 'Open Sans', verdana, arial, sans-serif; font-size: 5px; fill: rgb(68, 68, 68); fill-opacity: 1; white-space: pre;\">6</text></g><g class=\"heatmap-label\"><text text-anchor=\"middle\" data-notex=\"1\" x=\"256\" y=\"93.75\" style=\"font-family: 'Open Sans', verdana, arial, sans-serif; font-size: 5px; fill: rgb(68, 68, 68); fill-opacity: 1; white-space: pre;\">0</text></g><g class=\"heatmap-label\"><text text-anchor=\"middle\" data-notex=\"1\" x=\"290\" y=\"93.75\" style=\"font-family: 'Open Sans', verdana, arial, sans-serif; font-size: 5px; fill: rgb(68, 68, 68); fill-opacity: 1; white-space: pre;\">4</text></g><g class=\"heatmap-label\"><text text-anchor=\"middle\" data-notex=\"1\" x=\"324\" y=\"93.75\" style=\"font-family: 'Open Sans', verdana, arial, sans-serif; font-size: 5px; fill: rgb(68, 68, 68); fill-opacity: 1; white-space: pre;\">1</text></g><g class=\"heatmap-label\"><text text-anchor=\"middle\" data-notex=\"1\" x=\"358\" y=\"93.75\" style=\"font-family: 'Open Sans', verdana, arial, sans-serif; font-size: 5px; fill: rgb(68, 68, 68); fill-opacity: 1; white-space: pre;\">0.0</text></g><g class=\"heatmap-label\"><text text-anchor=\"middle\" data-notex=\"1\" x=\"393\" y=\"93.75\" style=\"font-family: 'Open Sans', verdana, arial, sans-serif; font-size: 5px; fill: rgb(68, 68, 68); fill-opacity: 1; white-space: pre;\">0.0</text></g><g class=\"heatmap-label\"><text text-anchor=\"middle\" data-notex=\"1\" x=\"427\" y=\"93.75\" style=\"font-family: 'Open Sans', verdana, arial, sans-serif; font-size: 5px; fill: rgb(68, 68, 68); fill-opacity: 1; white-space: pre;\">40.0</text></g><g class=\"heatmap-label\"><text text-anchor=\"middle\" data-notex=\"1\" x=\"461\" y=\"93.75\" style=\"font-family: 'Open Sans', verdana, arial, sans-serif; font-size: 5px; fill: rgb(68, 68, 68); fill-opacity: 1; white-space: pre;\">39</text></g><g class=\"heatmap-label\"><text text-anchor=\"middle\" data-notex=\"1\" x=\"495\" y=\"93.75\" style=\"font-family: 'Open Sans', verdana, arial, sans-serif; font-size: 5px; fill: rgb(68, 68, 68); fill-opacity: 1; white-space: pre;\">1</text></g><g class=\"heatmap-label\"><text text-anchor=\"middle\" data-notex=\"1\" x=\"17\" y=\"154.75\" style=\"font-family: 'Open Sans', verdana, arial, sans-serif; font-size: 5px; fill: rgb(255, 255, 255); fill-opacity: 1; white-space: pre;\">36.0</text></g><g class=\"heatmap-label\"><text text-anchor=\"middle\" data-notex=\"1\" x=\"51\" y=\"154.75\" style=\"font-family: 'Open Sans', verdana, arial, sans-serif; font-size: 5px; fill: rgb(68, 68, 68); fill-opacity: 1; white-space: pre;\">4</text></g><g class=\"heatmap-label\"><text text-anchor=\"middle\" data-notex=\"1\" x=\"85\" y=\"154.75\" style=\"font-family: 'Open Sans', verdana, arial, sans-serif; font-size: 5px; fill: rgb(68, 68, 68); fill-opacity: 1; white-space: pre;\">209629.0</text></g><g class=\"heatmap-label\"><text text-anchor=\"middle\" data-notex=\"1\" x=\"119\" y=\"154.75\" style=\"font-family: 'Open Sans', verdana, arial, sans-serif; font-size: 5px; fill: rgb(68, 68, 68); fill-opacity: 1; white-space: pre;\">11</text></g><g class=\"heatmap-label\"><text text-anchor=\"middle\" data-notex=\"1\" x=\"154\" y=\"154.75\" style=\"font-family: 'Open Sans', verdana, arial, sans-serif; font-size: 5px; fill: rgb(255, 255, 255); fill-opacity: 1; white-space: pre;\">9.0</text></g><g class=\"heatmap-label\"><text text-anchor=\"middle\" data-notex=\"1\" x=\"188\" y=\"154.75\" style=\"font-family: 'Open Sans', verdana, arial, sans-serif; font-size: 5px; fill: rgb(68, 68, 68); fill-opacity: 1; white-space: pre;\">2</text></g><g class=\"heatmap-label\"><text text-anchor=\"middle\" data-notex=\"1\" x=\"222\" y=\"154.75\" style=\"font-family: 'Open Sans', verdana, arial, sans-serif; font-size: 5px; fill: rgb(68, 68, 68); fill-opacity: 1; white-space: pre;\">7</text></g><g class=\"heatmap-label\"><text text-anchor=\"middle\" data-notex=\"1\" x=\"256\" y=\"154.75\" style=\"font-family: 'Open Sans', verdana, arial, sans-serif; font-size: 5px; fill: rgb(68, 68, 68); fill-opacity: 1; white-space: pre;\">0</text></g><g class=\"heatmap-label\"><text text-anchor=\"middle\" data-notex=\"1\" x=\"290\" y=\"154.75\" style=\"font-family: 'Open Sans', verdana, arial, sans-serif; font-size: 5px; fill: rgb(68, 68, 68); fill-opacity: 1; white-space: pre;\">4</text></g><g class=\"heatmap-label\"><text text-anchor=\"middle\" data-notex=\"1\" x=\"324\" y=\"154.75\" style=\"font-family: 'Open Sans', verdana, arial, sans-serif; font-size: 5px; fill: rgb(68, 68, 68); fill-opacity: 1; white-space: pre;\">1</text></g><g class=\"heatmap-label\"><text text-anchor=\"middle\" data-notex=\"1\" x=\"358\" y=\"154.75\" style=\"font-family: 'Open Sans', verdana, arial, sans-serif; font-size: 5px; fill: rgb(68, 68, 68); fill-opacity: 1; white-space: pre;\">0.0</text></g><g class=\"heatmap-label\"><text text-anchor=\"middle\" data-notex=\"1\" x=\"393\" y=\"154.75\" style=\"font-family: 'Open Sans', verdana, arial, sans-serif; font-size: 5px; fill: rgb(68, 68, 68); fill-opacity: 1; white-space: pre;\">0.0</text></g><g class=\"heatmap-label\"><text text-anchor=\"middle\" data-notex=\"1\" x=\"427\" y=\"154.75\" style=\"font-family: 'Open Sans', verdana, arial, sans-serif; font-size: 5px; fill: rgb(68, 68, 68); fill-opacity: 1; white-space: pre;\">40.0</text></g><g class=\"heatmap-label\"><text text-anchor=\"middle\" data-notex=\"1\" x=\"461\" y=\"154.75\" style=\"font-family: 'Open Sans', verdana, arial, sans-serif; font-size: 5px; fill: rgb(68, 68, 68); fill-opacity: 1; white-space: pre;\">39</text></g><g class=\"heatmap-label\"><text text-anchor=\"middle\" data-notex=\"1\" x=\"495\" y=\"154.75\" style=\"font-family: 'Open Sans', verdana, arial, sans-serif; font-size: 5px; fill: rgb(68, 68, 68); fill-opacity: 1; white-space: pre;\">1</text></g><g class=\"heatmap-label\"><text text-anchor=\"middle\" data-notex=\"1\" x=\"17\" y=\"215.75\" style=\"font-family: 'Open Sans', verdana, arial, sans-serif; font-size: 5px; fill: rgb(68, 68, 68); fill-opacity: 1; white-space: pre;\">25.0</text></g><g class=\"heatmap-label\"><text text-anchor=\"middle\" data-notex=\"1\" x=\"51\" y=\"215.75\" style=\"font-family: 'Open Sans', verdana, arial, sans-serif; font-size: 5px; fill: rgb(68, 68, 68); fill-opacity: 1; white-space: pre;\">4</text></g><g class=\"heatmap-label\"><text text-anchor=\"middle\" data-notex=\"1\" x=\"85\" y=\"215.75\" style=\"font-family: 'Open Sans', verdana, arial, sans-serif; font-size: 5px; fill: rgb(68, 68, 68); fill-opacity: 1; white-space: pre;\">236267.0</text></g><g class=\"heatmap-label\"><text text-anchor=\"middle\" data-notex=\"1\" x=\"119\" y=\"215.75\" style=\"font-family: 'Open Sans', verdana, arial, sans-serif; font-size: 5px; fill: rgb(68, 68, 68); fill-opacity: 1; white-space: pre;\">11</text></g><g class=\"heatmap-label\"><text text-anchor=\"middle\" data-notex=\"1\" x=\"154\" y=\"215.75\" style=\"font-family: 'Open Sans', verdana, arial, sans-serif; font-size: 5px; fill: rgb(68, 68, 68); fill-opacity: 1; white-space: pre;\">9.0</text></g><g class=\"heatmap-label\"><text text-anchor=\"middle\" data-notex=\"1\" x=\"188\" y=\"215.75\" style=\"font-family: 'Open Sans', verdana, arial, sans-serif; font-size: 5px; fill: rgb(68, 68, 68); fill-opacity: 1; white-space: pre;\">2</text></g><g class=\"heatmap-label\"><text text-anchor=\"middle\" data-notex=\"1\" x=\"222\" y=\"215.75\" style=\"font-family: 'Open Sans', verdana, arial, sans-serif; font-size: 5px; fill: rgb(68, 68, 68); fill-opacity: 1; white-space: pre;\">6</text></g><g class=\"heatmap-label\"><text text-anchor=\"middle\" data-notex=\"1\" x=\"256\" y=\"215.75\" style=\"font-family: 'Open Sans', verdana, arial, sans-serif; font-size: 5px; fill: rgb(68, 68, 68); fill-opacity: 1; white-space: pre;\">0</text></g><g class=\"heatmap-label\"><text text-anchor=\"middle\" data-notex=\"1\" x=\"290\" y=\"215.75\" style=\"font-family: 'Open Sans', verdana, arial, sans-serif; font-size: 5px; fill: rgb(68, 68, 68); fill-opacity: 1; white-space: pre;\">4</text></g><g class=\"heatmap-label\"><text text-anchor=\"middle\" data-notex=\"1\" x=\"324\" y=\"215.75\" style=\"font-family: 'Open Sans', verdana, arial, sans-serif; font-size: 5px; fill: rgb(68, 68, 68); fill-opacity: 1; white-space: pre;\">1</text></g><g class=\"heatmap-label\"><text text-anchor=\"middle\" data-notex=\"1\" x=\"358\" y=\"215.75\" style=\"font-family: 'Open Sans', verdana, arial, sans-serif; font-size: 5px; fill: rgb(68, 68, 68); fill-opacity: 1; white-space: pre;\">0.0</text></g><g class=\"heatmap-label\"><text text-anchor=\"middle\" data-notex=\"1\" x=\"393\" y=\"215.75\" style=\"font-family: 'Open Sans', verdana, arial, sans-serif; font-size: 5px; fill: rgb(68, 68, 68); fill-opacity: 1; white-space: pre;\">0.0</text></g><g class=\"heatmap-label\"><text text-anchor=\"middle\" data-notex=\"1\" x=\"427\" y=\"215.75\" style=\"font-family: 'Open Sans', verdana, arial, sans-serif; font-size: 5px; fill: rgb(68, 68, 68); fill-opacity: 1; white-space: pre;\">40.0</text></g><g class=\"heatmap-label\"><text text-anchor=\"middle\" data-notex=\"1\" x=\"461\" y=\"215.75\" style=\"font-family: 'Open Sans', verdana, arial, sans-serif; font-size: 5px; fill: rgb(68, 68, 68); fill-opacity: 1; white-space: pre;\">39</text></g><g class=\"heatmap-label\"><text text-anchor=\"middle\" data-notex=\"1\" x=\"495\" y=\"215.75\" style=\"font-family: 'Open Sans', verdana, arial, sans-serif; font-size: 5px; fill: rgb(68, 68, 68); fill-opacity: 1; white-space: pre;\">1</text></g><g class=\"heatmap-label\"><text text-anchor=\"middle\" data-notex=\"1\" x=\"17\" y=\"276.75\" style=\"font-family: 'Open Sans', verdana, arial, sans-serif; font-size: 5px; fill: rgb(68, 68, 68); fill-opacity: 1; white-space: pre;\">20.0</text></g><g class=\"heatmap-label\"><text text-anchor=\"middle\" data-notex=\"1\" x=\"51\" y=\"276.75\" style=\"font-family: 'Open Sans', verdana, arial, sans-serif; font-size: 5px; fill: rgb(68, 68, 68); fill-opacity: 1; white-space: pre;\">0</text></g><g class=\"heatmap-label\"><text text-anchor=\"middle\" data-notex=\"1\" x=\"85\" y=\"276.75\" style=\"font-family: 'Open Sans', verdana, arial, sans-serif; font-size: 5px; fill: rgb(68, 68, 68); fill-opacity: 1; white-space: pre;\">201766.0</text></g><g class=\"heatmap-label\"><text text-anchor=\"middle\" data-notex=\"1\" x=\"119\" y=\"276.75\" style=\"font-family: 'Open Sans', verdana, arial, sans-serif; font-size: 5px; fill: rgb(68, 68, 68); fill-opacity: 1; white-space: pre;\">15</text></g><g class=\"heatmap-label\"><text text-anchor=\"middle\" data-notex=\"1\" x=\"154\" y=\"276.75\" style=\"font-family: 'Open Sans', verdana, arial, sans-serif; font-size: 5px; fill: rgb(255, 255, 255); fill-opacity: 1; white-space: pre;\">10.0</text></g><g class=\"heatmap-label\"><text text-anchor=\"middle\" data-notex=\"1\" x=\"188\" y=\"276.75\" style=\"font-family: 'Open Sans', verdana, arial, sans-serif; font-size: 5px; fill: rgb(68, 68, 68); fill-opacity: 1; white-space: pre;\">4</text></g><g class=\"heatmap-label\"><text text-anchor=\"middle\" data-notex=\"1\" x=\"222\" y=\"276.75\" style=\"font-family: 'Open Sans', verdana, arial, sans-serif; font-size: 5px; fill: rgb(255, 255, 255); fill-opacity: 1; white-space: pre;\">0</text></g><g class=\"heatmap-label\"><text text-anchor=\"middle\" data-notex=\"1\" x=\"256\" y=\"276.75\" style=\"font-family: 'Open Sans', verdana, arial, sans-serif; font-size: 5px; fill: rgb(68, 68, 68); fill-opacity: 1; white-space: pre;\">3</text></g><g class=\"heatmap-label\"><text text-anchor=\"middle\" data-notex=\"1\" x=\"290\" y=\"276.75\" style=\"font-family: 'Open Sans', verdana, arial, sans-serif; font-size: 5px; fill: rgb(68, 68, 68); fill-opacity: 1; white-space: pre;\">4</text></g><g class=\"heatmap-label\"><text text-anchor=\"middle\" data-notex=\"1\" x=\"324\" y=\"276.75\" style=\"font-family: 'Open Sans', verdana, arial, sans-serif; font-size: 5px; fill: rgb(68, 68, 68); fill-opacity: 1; white-space: pre;\">0</text></g><g class=\"heatmap-label\"><text text-anchor=\"middle\" data-notex=\"1\" x=\"358\" y=\"276.75\" style=\"font-family: 'Open Sans', verdana, arial, sans-serif; font-size: 5px; fill: rgb(68, 68, 68); fill-opacity: 1; white-space: pre;\">0.0</text></g><g class=\"heatmap-label\"><text text-anchor=\"middle\" data-notex=\"1\" x=\"393\" y=\"276.75\" style=\"font-family: 'Open Sans', verdana, arial, sans-serif; font-size: 5px; fill: rgb(255, 255, 255); fill-opacity: 1; white-space: pre;\">0.0</text></g><g class=\"heatmap-label\"><text text-anchor=\"middle\" data-notex=\"1\" x=\"427\" y=\"276.75\" style=\"font-family: 'Open Sans', verdana, arial, sans-serif; font-size: 5px; fill: rgb(68, 68, 68); fill-opacity: 1; white-space: pre;\">35.0</text></g><g class=\"heatmap-label\"><text text-anchor=\"middle\" data-notex=\"1\" x=\"461\" y=\"276.75\" style=\"font-family: 'Open Sans', verdana, arial, sans-serif; font-size: 5px; fill: rgb(68, 68, 68); fill-opacity: 1; white-space: pre;\">39</text></g><g class=\"heatmap-label\"><text text-anchor=\"middle\" data-notex=\"1\" x=\"495\" y=\"276.75\" style=\"font-family: 'Open Sans', verdana, arial, sans-serif; font-size: 5px; fill: rgb(68, 68, 68); fill-opacity: 1; white-space: pre;\">1</text></g></g></g></g></g><path class=\"xlines-above crisp\" d=\"M0,0\" style=\"fill: none;\"/><path class=\"ylines-above crisp\" d=\"M0,0\" style=\"fill: none;\"/><g class=\"overlines-above\"/><g class=\"xaxislayer-above\"><g class=\"xtick\"><text text-anchor=\"start\" x=\"0\" y=\"419\" transform=\"translate(97.07,0) rotate(29.999999999999996,0,413)\" style=\"font-family: 'Open Sans', verdana, arial, sans-serif; font-size: 12px; fill: rgb(42, 63, 95); fill-opacity: 1; white-space: pre; opacity: 1;\">age</text></g><g class=\"xtick\"><text text-anchor=\"start\" x=\"0\" y=\"419\" transform=\"translate(131.2,0) rotate(29.999999999999996,0,413)\" style=\"font-family: 'Open Sans', verdana, arial, sans-serif; font-size: 12px; fill: rgb(42, 63, 95); fill-opacity: 1; white-space: pre; opacity: 1;\">workclass</text></g><g class=\"xtick\"><text text-anchor=\"start\" x=\"0\" y=\"419\" transform=\"translate(165.32999999999998,0) rotate(29.999999999999996,0,413)\" style=\"font-family: 'Open Sans', verdana, arial, sans-serif; font-size: 12px; fill: rgb(42, 63, 95); fill-opacity: 1; white-space: pre; opacity: 1;\">fnlwgt</text></g><g class=\"xtick\"><text text-anchor=\"start\" x=\"0\" y=\"419\" transform=\"translate(199.47,0) rotate(29.999999999999996,0,413)\" style=\"font-family: 'Open Sans', verdana, arial, sans-serif; font-size: 12px; fill: rgb(42, 63, 95); fill-opacity: 1; white-space: pre; opacity: 1;\">education</text></g><g class=\"xtick\"><text text-anchor=\"start\" x=\"0\" y=\"419\" transform=\"translate(233.6,0) rotate(29.999999999999996,0,413)\" style=\"font-family: 'Open Sans', verdana, arial, sans-serif; font-size: 12px; fill: rgb(42, 63, 95); fill-opacity: 1; white-space: pre; opacity: 1;\">education-num</text></g><g class=\"xtick\"><text text-anchor=\"start\" x=\"0\" y=\"419\" transform=\"translate(267.73,0) rotate(29.999999999999996,0,413)\" style=\"font-family: 'Open Sans', verdana, arial, sans-serif; font-size: 12px; fill: rgb(42, 63, 95); fill-opacity: 1; white-space: pre; opacity: 1;\">marital-status</text></g><g class=\"xtick\"><text text-anchor=\"start\" x=\"0\" y=\"419\" transform=\"translate(301.87,0) rotate(29.999999999999996,0,413)\" style=\"font-family: 'Open Sans', verdana, arial, sans-serif; font-size: 12px; fill: rgb(42, 63, 95); fill-opacity: 1; white-space: pre; opacity: 1;\">occupation</text></g><g class=\"xtick\"><text text-anchor=\"start\" x=\"0\" y=\"419\" transform=\"translate(336,0) rotate(29.999999999999996,0,413)\" style=\"font-family: 'Open Sans', verdana, arial, sans-serif; font-size: 12px; fill: rgb(42, 63, 95); fill-opacity: 1; white-space: pre; opacity: 1;\">relationship</text></g><g class=\"xtick\"><text text-anchor=\"start\" x=\"0\" y=\"419\" transform=\"translate(370.13,0) rotate(29.999999999999996,0,413)\" style=\"font-family: 'Open Sans', verdana, arial, sans-serif; font-size: 12px; fill: rgb(42, 63, 95); fill-opacity: 1; white-space: pre; opacity: 1;\">race</text></g><g class=\"xtick\"><text text-anchor=\"start\" x=\"0\" y=\"419\" transform=\"translate(404.27,0) rotate(29.999999999999996,0,413)\" style=\"font-family: 'Open Sans', verdana, arial, sans-serif; font-size: 12px; fill: rgb(42, 63, 95); fill-opacity: 1; white-space: pre; opacity: 1;\">sex</text></g><g class=\"xtick\"><text text-anchor=\"start\" x=\"0\" y=\"419\" transform=\"translate(438.4,0) rotate(29.999999999999996,0,413)\" style=\"font-family: 'Open Sans', verdana, arial, sans-serif; font-size: 12px; fill: rgb(42, 63, 95); fill-opacity: 1; white-space: pre; opacity: 1;\">capital-gain</text></g><g class=\"xtick\"><text text-anchor=\"start\" x=\"0\" y=\"419\" transform=\"translate(472.53,0) rotate(29.999999999999996,0,413)\" style=\"font-family: 'Open Sans', verdana, arial, sans-serif; font-size: 12px; fill: rgb(42, 63, 95); fill-opacity: 1; white-space: pre; opacity: 1;\">capital-loss</text></g><g class=\"xtick\"><text text-anchor=\"start\" x=\"0\" y=\"419\" transform=\"translate(506.67,0) rotate(29.999999999999996,0,413)\" style=\"font-family: 'Open Sans', verdana, arial, sans-serif; font-size: 12px; fill: rgb(42, 63, 95); fill-opacity: 1; white-space: pre; opacity: 1;\">hours-per-week</text></g><g class=\"xtick\"><text text-anchor=\"start\" x=\"0\" y=\"419\" transform=\"translate(540.8,0) rotate(29.999999999999996,0,413)\" style=\"font-family: 'Open Sans', verdana, arial, sans-serif; font-size: 12px; fill: rgb(42, 63, 95); fill-opacity: 1; white-space: pre; opacity: 1;\">native-country</text></g><g class=\"xtick\"><text text-anchor=\"start\" x=\"0\" y=\"419\" transform=\"translate(574.9300000000001,0) rotate(29.999999999999996,0,413)\" style=\"font-family: 'Open Sans', verdana, arial, sans-serif; font-size: 12px; fill: rgb(42, 63, 95); fill-opacity: 1; white-space: pre; opacity: 1;\">target</text></g></g><g class=\"yaxislayer-above\"><g class=\"ytick\"><text text-anchor=\"end\" x=\"79\" y=\"4.199999999999999\" transform=\"translate(0,375.4)\" style=\"font-family: 'Open Sans', verdana, arial, sans-serif; font-size: 12px; fill: rgb(42, 63, 95); fill-opacity: 1; white-space: pre; opacity: 1;\">4</text></g><g class=\"ytick\"><text text-anchor=\"end\" x=\"79\" y=\"4.199999999999999\" style=\"font-family: 'Open Sans', verdana, arial, sans-serif; font-size: 12px; fill: rgb(42, 63, 95); fill-opacity: 1; white-space: pre; opacity: 1;\" transform=\"translate(0,314.2)\">3</text></g><g class=\"ytick\"><text text-anchor=\"end\" x=\"79\" y=\"4.199999999999999\" style=\"font-family: 'Open Sans', verdana, arial, sans-serif; font-size: 12px; fill: rgb(42, 63, 95); fill-opacity: 1; white-space: pre; opacity: 1;\" transform=\"translate(0,253)\">2</text></g><g class=\"ytick\"><text text-anchor=\"end\" x=\"79\" y=\"4.199999999999999\" style=\"font-family: 'Open Sans', verdana, arial, sans-serif; font-size: 12px; fill: rgb(42, 63, 95); fill-opacity: 1; white-space: pre; opacity: 1;\" transform=\"translate(0,191.8)\">1</text></g><g class=\"ytick\"><text text-anchor=\"end\" x=\"79\" y=\"4.199999999999999\" style=\"font-family: 'Open Sans', verdana, arial, sans-serif; font-size: 12px; fill: rgb(42, 63, 95); fill-opacity: 1; white-space: pre; opacity: 1;\" transform=\"translate(0,130.6)\">0</text></g></g><g class=\"overaxes-above\"/></g></g><g class=\"polarlayer\"/><g class=\"smithlayer\"/><g class=\"ternarylayer\"/><g class=\"geolayer\"/><g class=\"funnelarealayer\"/><g class=\"pielayer\"/><g class=\"iciclelayer\"/><g class=\"treemaplayer\"/><g class=\"sunburstlayer\"/><g class=\"glimages\"/><defs id=\"topdefs-661a0c\"><g class=\"clips\"/></defs><g class=\"layer-above\"><g class=\"imagelayer\"/><g class=\"shapelayer\"/></g><g class=\"infolayer\"><g class=\"cbcoloraxis colorbar\" transform=\"translate(80,100)\"><rect class=\"cbbg\" x=\"522\" y=\"0\" width=\"85.615234375\" height=\"306\" style=\"fill: rgb(0, 0, 0); fill-opacity: 0; stroke: rgb(68, 68, 68); stroke-opacity: 1; stroke-width: 0;\"/><g class=\"cbfills\" transform=\"translate(0,31)\"><rect class=\"cbfill gradient_filled\" style=\"fill: url('#g661a0c-cbcoloraxis');\" x=\"532\" y=\"0\" width=\"30\" height=\"265\"/></g><g class=\"cblines\" transform=\"translate(0,31)\"/><g class=\"cbaxis crisp\" transform=\"translate(0,-100)\"><g class=\"ycbcoloraxistick\"><text text-anchor=\"start\" x=\"564.9\" y=\"4.199999999999999\" transform=\"translate(0,396)\" style=\"font-family: 'Open Sans', verdana, arial, sans-serif; font-size: 12px; fill: rgb(42, 63, 95); fill-opacity: 1; white-space: pre; opacity: 1;\">0</text></g><g class=\"ycbcoloraxistick\"><text text-anchor=\"start\" x=\"564.9\" y=\"4.199999999999999\" style=\"font-family: 'Open Sans', verdana, arial, sans-serif; font-size: 12px; fill: rgb(42, 63, 95); fill-opacity: 1; white-space: pre; opacity: 1;\" transform=\"translate(0,369.5)\">0.5</text></g><g class=\"ycbcoloraxistick\"><text text-anchor=\"start\" x=\"564.9\" y=\"4.199999999999999\" style=\"font-family: 'Open Sans', verdana, arial, sans-serif; font-size: 12px; fill: rgb(42, 63, 95); fill-opacity: 1; white-space: pre; opacity: 1;\" transform=\"translate(0,343)\">1</text></g><g class=\"ycbcoloraxistick\"><text text-anchor=\"start\" x=\"564.9\" y=\"4.199999999999999\" style=\"font-family: 'Open Sans', verdana, arial, sans-serif; font-size: 12px; fill: rgb(42, 63, 95); fill-opacity: 1; white-space: pre; opacity: 1;\" transform=\"translate(0,316.5)\">1.5</text></g><g class=\"ycbcoloraxistick\"><text text-anchor=\"start\" x=\"564.9\" y=\"4.199999999999999\" style=\"font-family: 'Open Sans', verdana, arial, sans-serif; font-size: 12px; fill: rgb(42, 63, 95); fill-opacity: 1; white-space: pre; opacity: 1;\" transform=\"translate(0,290)\">2</text></g><g class=\"ycbcoloraxistick\"><text text-anchor=\"start\" x=\"564.9\" y=\"4.199999999999999\" style=\"font-family: 'Open Sans', verdana, arial, sans-serif; font-size: 12px; fill: rgb(42, 63, 95); fill-opacity: 1; white-space: pre; opacity: 1;\" transform=\"translate(0,263.5)\">2.5</text></g><g class=\"ycbcoloraxistick\"><text text-anchor=\"start\" x=\"564.9\" y=\"4.199999999999999\" style=\"font-family: 'Open Sans', verdana, arial, sans-serif; font-size: 12px; fill: rgb(42, 63, 95); fill-opacity: 1; white-space: pre; opacity: 1;\" transform=\"translate(0,237)\">3</text></g><g class=\"ycbcoloraxistick\"><text text-anchor=\"start\" x=\"564.9\" y=\"4.199999999999999\" style=\"font-family: 'Open Sans', verdana, arial, sans-serif; font-size: 12px; fill: rgb(42, 63, 95); fill-opacity: 1; white-space: pre; opacity: 1;\" transform=\"translate(0,210.5)\">3.5</text></g><g class=\"ycbcoloraxistick\"><text text-anchor=\"start\" x=\"564.9\" y=\"4.199999999999999\" style=\"font-family: 'Open Sans', verdana, arial, sans-serif; font-size: 12px; fill: rgb(42, 63, 95); fill-opacity: 1; white-space: pre; opacity: 1;\" transform=\"translate(0,184)\">4</text></g><g class=\"ycbcoloraxistick\"><text text-anchor=\"start\" x=\"564.9\" y=\"4.199999999999999\" style=\"font-family: 'Open Sans', verdana, arial, sans-serif; font-size: 12px; fill: rgb(42, 63, 95); fill-opacity: 1; white-space: pre; opacity: 1;\" transform=\"translate(0,157.5)\">4.5</text></g><g class=\"ycbcoloraxistick\"><text text-anchor=\"start\" x=\"564.9\" y=\"4.199999999999999\" style=\"font-family: 'Open Sans', verdana, arial, sans-serif; font-size: 12px; fill: rgb(42, 63, 95); fill-opacity: 1; white-space: pre; opacity: 1;\" transform=\"translate(0,131)\">≥5</text></g></g><g class=\"cbtitleunshift\" transform=\"translate(-80,-100)\"><g class=\"cbtitle\" transform=\"\"><text class=\"ycbcoloraxistitle\" x=\"612.24\" y=\"123.5\" text-anchor=\"start\" style=\"opacity: 1; font-family: 'Open Sans', verdana, arial, sans-serif; font-size: 14px; fill: rgb(42, 63, 95); fill-opacity: 1; white-space: pre;\">Conviction</text></g></g><rect class=\"cboutline\" x=\"532\" y=\"31\" width=\"30\" height=\"265\" style=\"stroke: rgb(68, 68, 68); stroke-opacity: 1; fill: none; stroke-width: 0;\"/></g><g class=\"g-gtitle\"><text class=\"gtitle\" x=\"35\" y=\"50\" text-anchor=\"start\" dy=\"0em\" style=\"opacity: 1; font-family: 'Open Sans', verdana, arial, sans-serif; font-size: 17px; fill: rgb(42, 63, 95); fill-opacity: 1; white-space: pre;\">Anomalies</text></g><g class=\"g-xtitle\"><text class=\"xtitle\" x=\"336\" y=\"487.2775390625\" text-anchor=\"middle\" style=\"opacity: 1; font-family: 'Open Sans', verdana, arial, sans-serif; font-size: 14px; fill: rgb(42, 63, 95); fill-opacity: 1; white-space: pre;\">Feature</text></g><g class=\"g-ytitle\"/></g></svg>"
      ]
     },
     "metadata": {},
     "output_type": "display_data"
    }
   ],
   "source": [
    "fig = plot_anomalies(inliers, inlier_case_feature_residual_convictions)\n",
    "fig.update_layout(width=1500, height=750)\n",
    "fig"
   ]
  },
  {
   "attachments": {},
   "cell_type": "markdown",
   "metadata": {},
   "source": [
    "This chart is viewed similarly to the outliers chart, however we are now examining cases that are too similar. We can see that for several cases, most features show high `feature_residual_conviction`, indicating that that feature can very easily predicted using the other features. This indicates that all these feature values are unusually predictable compared to the rest of the cases in the model."
   ]
  },
  {
   "attachments": {},
   "cell_type": "markdown",
   "metadata": {},
   "source": [
    "# Section 4: Additional Ideas\n",
    "\n",
    "Here we detail some additional examples methods of diving deeper into the possible anomalies detected above."
   ]
  },
  {
   "cell_type": "code",
   "execution_count": 12,
   "metadata": {
    "execution": {
     "iopub.execute_input": "2025-07-18T19:06:27.971734Z",
     "iopub.status.busy": "2025-07-18T19:06:27.971374Z",
     "iopub.status.idle": "2025-07-18T19:06:27.977209Z",
     "shell.execute_reply": "2025-07-18T19:06:27.976538Z"
    }
   },
   "outputs": [],
   "source": [
    "# Helper functions\n",
    "\n",
    "def case_explain_residuals_ratio(anomalous_df, case_feature_residual_convictions, case_ind, num_features=5):\n",
    "    \"\"\"Inspect a single case and identify which of its features are particularly anomalous.\"\"\"\n",
    "    case = anomalous_df.iloc[case_ind, : ]\n",
    "    case_num = case['.session_training_index']\n",
    "    case_df = pd.concat([case, case_feature_residual_convictions.iloc[case_ind, :]], axis=1)\n",
    "    case_df = case_df.loc[df.columns]\n",
    "    case_df.columns = ['values', 'feature_full_residual_convictions_for_case']\n",
    "    case_df = case_df.sort_values(['feature_full_residual_convictions_for_case'], ascending=True)\n",
    "    print(f'key features which caused case {case_num} to be anomalous: {case_df.head().index.tolist()}')\n",
    "    print('')\n",
    "    display(case_df.head())\n",
    "\n",
    "def get_cases(anomalous_df, results, case_ind):\n",
    "    \"\"\"Inspect a single anomalous case and display its influential and boundary cases.\"\"\"\n",
    "    case = anomalous_df.iloc[case_ind, :]\n",
    "    inf_cases = pd.DataFrame(results['details']['influential_cases'][case_ind])\n",
    "\n",
    "    print('Original Case:')\n",
    "    display(case)\n",
    "    print('')\n",
    "\n",
    "    print('Influential Cases:')\n",
    "    display(inf_cases)\n",
    "    print('')"
   ]
  },
  {
   "attachments": {},
   "cell_type": "markdown",
   "metadata": {},
   "source": [
    "We can print out a more detailed view of the Outlier Residual Conviction chart shown earlier."
   ]
  },
  {
   "cell_type": "code",
   "execution_count": 13,
   "metadata": {
    "execution": {
     "iopub.execute_input": "2025-07-18T19:06:27.979189Z",
     "iopub.status.busy": "2025-07-18T19:06:27.978830Z",
     "iopub.status.idle": "2025-07-18T19:06:27.993025Z",
     "shell.execute_reply": "2025-07-18T19:06:27.992363Z"
    }
   },
   "outputs": [
    {
     "name": "stdout",
     "output_type": "stream",
     "text": [
      "key features which caused case 540 to be anomalous: ['education-num', 'native-country', 'workclass', 'sex', 'relationship']\n",
      "\n"
     ]
    },
    {
     "data": {
      "text/html": [
       "<div>\n",
       "<style scoped>\n",
       "    .dataframe tbody tr th:only-of-type {\n",
       "        vertical-align: middle;\n",
       "    }\n",
       "\n",
       "    .dataframe tbody tr th {\n",
       "        vertical-align: top;\n",
       "    }\n",
       "\n",
       "    .dataframe thead th {\n",
       "        text-align: right;\n",
       "    }\n",
       "</style>\n",
       "<table border=\"1\" class=\"dataframe\">\n",
       "  <thead>\n",
       "    <tr style=\"text-align: right;\">\n",
       "      <th></th>\n",
       "      <th>values</th>\n",
       "      <th>feature_full_residual_convictions_for_case</th>\n",
       "    </tr>\n",
       "  </thead>\n",
       "  <tbody>\n",
       "    <tr>\n",
       "      <th>education-num</th>\n",
       "      <td>1.0</td>\n",
       "      <td>0.012565</td>\n",
       "    </tr>\n",
       "    <tr>\n",
       "      <th>native-country</th>\n",
       "      <td>26</td>\n",
       "      <td>0.187200</td>\n",
       "    </tr>\n",
       "    <tr>\n",
       "      <th>workclass</th>\n",
       "      <td>4</td>\n",
       "      <td>0.434901</td>\n",
       "    </tr>\n",
       "    <tr>\n",
       "      <th>sex</th>\n",
       "      <td>1</td>\n",
       "      <td>0.619950</td>\n",
       "    </tr>\n",
       "    <tr>\n",
       "      <th>relationship</th>\n",
       "      <td>1</td>\n",
       "      <td>0.654722</td>\n",
       "    </tr>\n",
       "  </tbody>\n",
       "</table>\n",
       "</div>"
      ],
      "text/plain": [
       "               values  feature_full_residual_convictions_for_case\n",
       "education-num     1.0                                    0.012565\n",
       "native-country     26                                    0.187200\n",
       "workclass           4                                    0.434901\n",
       "sex                 1                                    0.619950\n",
       "relationship        1                                    0.654722"
      ]
     },
     "metadata": {},
     "output_type": "display_data"
    },
    {
     "name": "stdout",
     "output_type": "stream",
     "text": [
      "_____________\n",
      "key features which caused case 732 to be anomalous: ['education-num', 'race', 'native-country', 'relationship', 'sex']\n",
      "\n"
     ]
    },
    {
     "data": {
      "text/html": [
       "<div>\n",
       "<style scoped>\n",
       "    .dataframe tbody tr th:only-of-type {\n",
       "        vertical-align: middle;\n",
       "    }\n",
       "\n",
       "    .dataframe tbody tr th {\n",
       "        vertical-align: top;\n",
       "    }\n",
       "\n",
       "    .dataframe thead th {\n",
       "        text-align: right;\n",
       "    }\n",
       "</style>\n",
       "<table border=\"1\" class=\"dataframe\">\n",
       "  <thead>\n",
       "    <tr style=\"text-align: right;\">\n",
       "      <th></th>\n",
       "      <th>values</th>\n",
       "      <th>feature_full_residual_convictions_for_case</th>\n",
       "    </tr>\n",
       "  </thead>\n",
       "  <tbody>\n",
       "    <tr>\n",
       "      <th>education-num</th>\n",
       "      <td>1.0</td>\n",
       "      <td>0.004569</td>\n",
       "    </tr>\n",
       "    <tr>\n",
       "      <th>race</th>\n",
       "      <td>1</td>\n",
       "      <td>0.168610</td>\n",
       "    </tr>\n",
       "    <tr>\n",
       "      <th>native-country</th>\n",
       "      <td>25</td>\n",
       "      <td>0.187200</td>\n",
       "    </tr>\n",
       "    <tr>\n",
       "      <th>relationship</th>\n",
       "      <td>1</td>\n",
       "      <td>0.613258</td>\n",
       "    </tr>\n",
       "    <tr>\n",
       "      <th>sex</th>\n",
       "      <td>0</td>\n",
       "      <td>0.709992</td>\n",
       "    </tr>\n",
       "  </tbody>\n",
       "</table>\n",
       "</div>"
      ],
      "text/plain": [
       "               values  feature_full_residual_convictions_for_case\n",
       "education-num     1.0                                    0.004569\n",
       "race                1                                    0.168610\n",
       "native-country     25                                    0.187200\n",
       "relationship        1                                    0.613258\n",
       "sex                 0                                    0.709992"
      ]
     },
     "metadata": {},
     "output_type": "display_data"
    },
    {
     "name": "stdout",
     "output_type": "stream",
     "text": [
      "_____________\n"
     ]
    }
   ],
   "source": [
    "# Print out the explanations for outliers\n",
    "for i in range(2):\n",
    "    case_explain_residuals_ratio(\n",
    "        outliers,\n",
    "        outlier_case_feature_residual_convictions,\n",
    "        i\n",
    "    )\n",
    "    print('_____________')"
   ]
  },
  {
   "attachments": {},
   "cell_type": "markdown",
   "metadata": {},
   "source": [
    "## Influential cases\n",
    "\n",
    "[Influential Cases](https://docs.howso.com/en/release-latest/getting_started/terminology.html#influential-cases) may also provide additional clues into potentially anomalous data. If a case's influential cases do not well represent itself, then this indicates there are no cases in the model that well represent the anomalous cases.\n"
   ]
  },
  {
   "cell_type": "code",
   "execution_count": 14,
   "metadata": {
    "execution": {
     "iopub.execute_input": "2025-07-18T19:06:27.994945Z",
     "iopub.status.busy": "2025-07-18T19:06:27.994598Z",
     "iopub.status.idle": "2025-07-18T19:06:28.017819Z",
     "shell.execute_reply": "2025-07-18T19:06:28.017167Z"
    }
   },
   "outputs": [
    {
     "name": "stdout",
     "output_type": "stream",
     "text": [
      "Original Case:\n"
     ]
    },
    {
     "data": {
      "text/plain": [
       "age                                                                30.0\n",
       "workclass                                                             4\n",
       "fnlwgt                                                         193598.0\n",
       "education                                                            13\n",
       "education-num                                                       1.0\n",
       "marital-status                                                        4\n",
       "occupation                                                            5\n",
       "relationship                                                          1\n",
       "race                                                                  4\n",
       "sex                                                                   1\n",
       "capital-gain                                                        0.0\n",
       "capital-loss                                                        0.0\n",
       "hours-per-week                                                     40.0\n",
       "native-country                                                       26\n",
       "target                                                                1\n",
       "familiarity_conviction_addition                                0.020019\n",
       ".session_training_index                                             540\n",
       ".session                           4680a153-fe0d-4bd7-a1bc-cfc96965152b\n",
       "distance_contribution                                        306.265156\n",
       "category                                                        outlier\n",
       "Name: 0, dtype: object"
      ]
     },
     "metadata": {},
     "output_type": "display_data"
    },
    {
     "name": "stdout",
     "output_type": "stream",
     "text": [
      "\n",
      "Influential Cases:\n"
     ]
    },
    {
     "data": {
      "text/html": [
       "<div>\n",
       "<style scoped>\n",
       "    .dataframe tbody tr th:only-of-type {\n",
       "        vertical-align: middle;\n",
       "    }\n",
       "\n",
       "    .dataframe tbody tr th {\n",
       "        vertical-align: top;\n",
       "    }\n",
       "\n",
       "    .dataframe thead th {\n",
       "        text-align: right;\n",
       "    }\n",
       "</style>\n",
       "<table border=\"1\" class=\"dataframe\">\n",
       "  <thead>\n",
       "    <tr style=\"text-align: right;\">\n",
       "      <th></th>\n",
       "      <th>fnlwgt</th>\n",
       "      <th>sex</th>\n",
       "      <th>occupation</th>\n",
       "      <th>hours-per-week</th>\n",
       "      <th>.session</th>\n",
       "      <th>age</th>\n",
       "      <th>education</th>\n",
       "      <th>capital-gain</th>\n",
       "      <th>relationship</th>\n",
       "      <th>native-country</th>\n",
       "      <th>target</th>\n",
       "      <th>workclass</th>\n",
       "      <th>marital-status</th>\n",
       "      <th>.influence_weight</th>\n",
       "      <th>education-num</th>\n",
       "      <th>race</th>\n",
       "      <th>capital-loss</th>\n",
       "      <th>.session_training_index</th>\n",
       "    </tr>\n",
       "  </thead>\n",
       "  <tbody>\n",
       "    <tr>\n",
       "      <th>0</th>\n",
       "      <td>173449</td>\n",
       "      <td>1</td>\n",
       "      <td>6</td>\n",
       "      <td>40</td>\n",
       "      <td>4680a153-fe0d-4bd7-a1bc-cfc96965152b</td>\n",
       "      <td>32</td>\n",
       "      <td>11</td>\n",
       "      <td>0</td>\n",
       "      <td>0</td>\n",
       "      <td>39</td>\n",
       "      <td>1</td>\n",
       "      <td>4</td>\n",
       "      <td>2</td>\n",
       "      <td>0.526602</td>\n",
       "      <td>9</td>\n",
       "      <td>4</td>\n",
       "      <td>0</td>\n",
       "      <td>510</td>\n",
       "    </tr>\n",
       "    <tr>\n",
       "      <th>1</th>\n",
       "      <td>96245</td>\n",
       "      <td>1</td>\n",
       "      <td>6</td>\n",
       "      <td>42</td>\n",
       "      <td>4680a153-fe0d-4bd7-a1bc-cfc96965152b</td>\n",
       "      <td>31</td>\n",
       "      <td>11</td>\n",
       "      <td>0</td>\n",
       "      <td>0</td>\n",
       "      <td>39</td>\n",
       "      <td>1</td>\n",
       "      <td>4</td>\n",
       "      <td>2</td>\n",
       "      <td>0.157386</td>\n",
       "      <td>9</td>\n",
       "      <td>4</td>\n",
       "      <td>0</td>\n",
       "      <td>604</td>\n",
       "    </tr>\n",
       "    <tr>\n",
       "      <th>2</th>\n",
       "      <td>269705</td>\n",
       "      <td>1</td>\n",
       "      <td>6</td>\n",
       "      <td>40</td>\n",
       "      <td>4680a153-fe0d-4bd7-a1bc-cfc96965152b</td>\n",
       "      <td>33</td>\n",
       "      <td>11</td>\n",
       "      <td>0</td>\n",
       "      <td>0</td>\n",
       "      <td>39</td>\n",
       "      <td>1</td>\n",
       "      <td>4</td>\n",
       "      <td>2</td>\n",
       "      <td>0.122871</td>\n",
       "      <td>9</td>\n",
       "      <td>4</td>\n",
       "      <td>0</td>\n",
       "      <td>407</td>\n",
       "    </tr>\n",
       "    <tr>\n",
       "      <th>3</th>\n",
       "      <td>218667</td>\n",
       "      <td>1</td>\n",
       "      <td>6</td>\n",
       "      <td>40</td>\n",
       "      <td>4680a153-fe0d-4bd7-a1bc-cfc96965152b</td>\n",
       "      <td>25</td>\n",
       "      <td>11</td>\n",
       "      <td>0</td>\n",
       "      <td>0</td>\n",
       "      <td>39</td>\n",
       "      <td>1</td>\n",
       "      <td>4</td>\n",
       "      <td>2</td>\n",
       "      <td>0.108620</td>\n",
       "      <td>9</td>\n",
       "      <td>4</td>\n",
       "      <td>0</td>\n",
       "      <td>881</td>\n",
       "    </tr>\n",
       "    <tr>\n",
       "      <th>4</th>\n",
       "      <td>236267</td>\n",
       "      <td>1</td>\n",
       "      <td>6</td>\n",
       "      <td>40</td>\n",
       "      <td>4680a153-fe0d-4bd7-a1bc-cfc96965152b</td>\n",
       "      <td>25</td>\n",
       "      <td>11</td>\n",
       "      <td>0</td>\n",
       "      <td>0</td>\n",
       "      <td>39</td>\n",
       "      <td>1</td>\n",
       "      <td>4</td>\n",
       "      <td>2</td>\n",
       "      <td>0.084522</td>\n",
       "      <td>9</td>\n",
       "      <td>4</td>\n",
       "      <td>0</td>\n",
       "      <td>269</td>\n",
       "    </tr>\n",
       "  </tbody>\n",
       "</table>\n",
       "</div>"
      ],
      "text/plain": [
       "   fnlwgt  sex  occupation  hours-per-week  \\\n",
       "0  173449    1           6              40   \n",
       "1   96245    1           6              42   \n",
       "2  269705    1           6              40   \n",
       "3  218667    1           6              40   \n",
       "4  236267    1           6              40   \n",
       "\n",
       "                               .session  age  education  capital-gain  \\\n",
       "0  4680a153-fe0d-4bd7-a1bc-cfc96965152b   32         11             0   \n",
       "1  4680a153-fe0d-4bd7-a1bc-cfc96965152b   31         11             0   \n",
       "2  4680a153-fe0d-4bd7-a1bc-cfc96965152b   33         11             0   \n",
       "3  4680a153-fe0d-4bd7-a1bc-cfc96965152b   25         11             0   \n",
       "4  4680a153-fe0d-4bd7-a1bc-cfc96965152b   25         11             0   \n",
       "\n",
       "   relationship  native-country  target  workclass  marital-status  \\\n",
       "0             0              39       1          4               2   \n",
       "1             0              39       1          4               2   \n",
       "2             0              39       1          4               2   \n",
       "3             0              39       1          4               2   \n",
       "4             0              39       1          4               2   \n",
       "\n",
       "   .influence_weight  education-num  race  capital-loss  \\\n",
       "0           0.526602              9     4             0   \n",
       "1           0.157386              9     4             0   \n",
       "2           0.122871              9     4             0   \n",
       "3           0.108620              9     4             0   \n",
       "4           0.084522              9     4             0   \n",
       "\n",
       "   .session_training_index  \n",
       "0                      510  \n",
       "1                      604  \n",
       "2                      407  \n",
       "3                      881  \n",
       "4                      269  "
      ]
     },
     "metadata": {},
     "output_type": "display_data"
    },
    {
     "name": "stdout",
     "output_type": "stream",
     "text": [
      "\n",
      "_____________\n",
      "Original Case:\n"
     ]
    },
    {
     "data": {
      "text/plain": [
       "age                                                                23.0\n",
       "workclass                                                             4\n",
       "fnlwgt                                                         240049.0\n",
       "education                                                            13\n",
       "education-num                                                       1.0\n",
       "marital-status                                                        4\n",
       "occupation                                                            8\n",
       "relationship                                                          1\n",
       "race                                                                  1\n",
       "sex                                                                   0\n",
       "capital-gain                                                        0.0\n",
       "capital-loss                                                        0.0\n",
       "hours-per-week                                                     40.0\n",
       "native-country                                                       25\n",
       "target                                                                1\n",
       "familiarity_conviction_addition                                0.023355\n",
       ".session_training_index                                             732\n",
       ".session                           4680a153-fe0d-4bd7-a1bc-cfc96965152b\n",
       "distance_contribution                                        280.379224\n",
       "category                                                        outlier\n",
       "Name: 1, dtype: object"
      ]
     },
     "metadata": {},
     "output_type": "display_data"
    },
    {
     "name": "stdout",
     "output_type": "stream",
     "text": [
      "\n",
      "Influential Cases:\n"
     ]
    },
    {
     "data": {
      "text/html": [
       "<div>\n",
       "<style scoped>\n",
       "    .dataframe tbody tr th:only-of-type {\n",
       "        vertical-align: middle;\n",
       "    }\n",
       "\n",
       "    .dataframe tbody tr th {\n",
       "        vertical-align: top;\n",
       "    }\n",
       "\n",
       "    .dataframe thead th {\n",
       "        text-align: right;\n",
       "    }\n",
       "</style>\n",
       "<table border=\"1\" class=\"dataframe\">\n",
       "  <thead>\n",
       "    <tr style=\"text-align: right;\">\n",
       "      <th></th>\n",
       "      <th>fnlwgt</th>\n",
       "      <th>sex</th>\n",
       "      <th>occupation</th>\n",
       "      <th>hours-per-week</th>\n",
       "      <th>.session</th>\n",
       "      <th>age</th>\n",
       "      <th>education</th>\n",
       "      <th>capital-gain</th>\n",
       "      <th>relationship</th>\n",
       "      <th>native-country</th>\n",
       "      <th>target</th>\n",
       "      <th>workclass</th>\n",
       "      <th>marital-status</th>\n",
       "      <th>.influence_weight</th>\n",
       "      <th>education-num</th>\n",
       "      <th>race</th>\n",
       "      <th>capital-loss</th>\n",
       "      <th>.session_training_index</th>\n",
       "    </tr>\n",
       "  </thead>\n",
       "  <tbody>\n",
       "    <tr>\n",
       "      <th>0</th>\n",
       "      <td>236267</td>\n",
       "      <td>1</td>\n",
       "      <td>6</td>\n",
       "      <td>40</td>\n",
       "      <td>4680a153-fe0d-4bd7-a1bc-cfc96965152b</td>\n",
       "      <td>25</td>\n",
       "      <td>11</td>\n",
       "      <td>0</td>\n",
       "      <td>0</td>\n",
       "      <td>39</td>\n",
       "      <td>1</td>\n",
       "      <td>4</td>\n",
       "      <td>2</td>\n",
       "      <td>0.832923</td>\n",
       "      <td>9</td>\n",
       "      <td>4</td>\n",
       "      <td>0</td>\n",
       "      <td>269</td>\n",
       "    </tr>\n",
       "    <tr>\n",
       "      <th>1</th>\n",
       "      <td>190228</td>\n",
       "      <td>1</td>\n",
       "      <td>6</td>\n",
       "      <td>40</td>\n",
       "      <td>4680a153-fe0d-4bd7-a1bc-cfc96965152b</td>\n",
       "      <td>30</td>\n",
       "      <td>11</td>\n",
       "      <td>0</td>\n",
       "      <td>0</td>\n",
       "      <td>39</td>\n",
       "      <td>1</td>\n",
       "      <td>4</td>\n",
       "      <td>2</td>\n",
       "      <td>0.118074</td>\n",
       "      <td>9</td>\n",
       "      <td>4</td>\n",
       "      <td>0</td>\n",
       "      <td>198</td>\n",
       "    </tr>\n",
       "    <tr>\n",
       "      <th>2</th>\n",
       "      <td>173449</td>\n",
       "      <td>1</td>\n",
       "      <td>6</td>\n",
       "      <td>40</td>\n",
       "      <td>4680a153-fe0d-4bd7-a1bc-cfc96965152b</td>\n",
       "      <td>32</td>\n",
       "      <td>11</td>\n",
       "      <td>0</td>\n",
       "      <td>0</td>\n",
       "      <td>39</td>\n",
       "      <td>1</td>\n",
       "      <td>4</td>\n",
       "      <td>2</td>\n",
       "      <td>0.027818</td>\n",
       "      <td>9</td>\n",
       "      <td>4</td>\n",
       "      <td>0</td>\n",
       "      <td>510</td>\n",
       "    </tr>\n",
       "    <tr>\n",
       "      <th>3</th>\n",
       "      <td>269705</td>\n",
       "      <td>1</td>\n",
       "      <td>6</td>\n",
       "      <td>40</td>\n",
       "      <td>4680a153-fe0d-4bd7-a1bc-cfc96965152b</td>\n",
       "      <td>33</td>\n",
       "      <td>11</td>\n",
       "      <td>0</td>\n",
       "      <td>0</td>\n",
       "      <td>39</td>\n",
       "      <td>1</td>\n",
       "      <td>4</td>\n",
       "      <td>2</td>\n",
       "      <td>0.013421</td>\n",
       "      <td>9</td>\n",
       "      <td>4</td>\n",
       "      <td>0</td>\n",
       "      <td>407</td>\n",
       "    </tr>\n",
       "    <tr>\n",
       "      <th>4</th>\n",
       "      <td>96245</td>\n",
       "      <td>1</td>\n",
       "      <td>6</td>\n",
       "      <td>42</td>\n",
       "      <td>4680a153-fe0d-4bd7-a1bc-cfc96965152b</td>\n",
       "      <td>31</td>\n",
       "      <td>11</td>\n",
       "      <td>0</td>\n",
       "      <td>0</td>\n",
       "      <td>39</td>\n",
       "      <td>1</td>\n",
       "      <td>4</td>\n",
       "      <td>2</td>\n",
       "      <td>0.007763</td>\n",
       "      <td>9</td>\n",
       "      <td>4</td>\n",
       "      <td>0</td>\n",
       "      <td>604</td>\n",
       "    </tr>\n",
       "  </tbody>\n",
       "</table>\n",
       "</div>"
      ],
      "text/plain": [
       "   fnlwgt  sex  occupation  hours-per-week  \\\n",
       "0  236267    1           6              40   \n",
       "1  190228    1           6              40   \n",
       "2  173449    1           6              40   \n",
       "3  269705    1           6              40   \n",
       "4   96245    1           6              42   \n",
       "\n",
       "                               .session  age  education  capital-gain  \\\n",
       "0  4680a153-fe0d-4bd7-a1bc-cfc96965152b   25         11             0   \n",
       "1  4680a153-fe0d-4bd7-a1bc-cfc96965152b   30         11             0   \n",
       "2  4680a153-fe0d-4bd7-a1bc-cfc96965152b   32         11             0   \n",
       "3  4680a153-fe0d-4bd7-a1bc-cfc96965152b   33         11             0   \n",
       "4  4680a153-fe0d-4bd7-a1bc-cfc96965152b   31         11             0   \n",
       "\n",
       "   relationship  native-country  target  workclass  marital-status  \\\n",
       "0             0              39       1          4               2   \n",
       "1             0              39       1          4               2   \n",
       "2             0              39       1          4               2   \n",
       "3             0              39       1          4               2   \n",
       "4             0              39       1          4               2   \n",
       "\n",
       "   .influence_weight  education-num  race  capital-loss  \\\n",
       "0           0.832923              9     4             0   \n",
       "1           0.118074              9     4             0   \n",
       "2           0.027818              9     4             0   \n",
       "3           0.013421              9     4             0   \n",
       "4           0.007763              9     4             0   \n",
       "\n",
       "   .session_training_index  \n",
       "0                      269  \n",
       "1                      198  \n",
       "2                      510  \n",
       "3                      407  \n",
       "4                      604  "
      ]
     },
     "metadata": {},
     "output_type": "display_data"
    },
    {
     "name": "stdout",
     "output_type": "stream",
     "text": [
      "\n",
      "_____________\n"
     ]
    }
   ],
   "source": [
    "# Print influential and boundary case outliers\n",
    "for i in range(2):\n",
    "    get_cases(outliers, results, i)\n",
    "    print('_____________')"
   ]
  }
 ],
 "metadata": {
  "kernelspec": {
   "display_name": "engine-recipes-3.10",
   "language": "python",
   "name": "python3"
  },
  "language_info": {
   "codemirror_mode": {
    "name": "ipython",
    "version": 3
   },
   "file_extension": ".py",
   "mimetype": "text/x-python",
   "name": "python",
   "nbconvert_exporter": "python",
   "pygments_lexer": "ipython3",
   "version": "3.10.18"
  }
 },
 "nbformat": 4,
 "nbformat_minor": 4
}
