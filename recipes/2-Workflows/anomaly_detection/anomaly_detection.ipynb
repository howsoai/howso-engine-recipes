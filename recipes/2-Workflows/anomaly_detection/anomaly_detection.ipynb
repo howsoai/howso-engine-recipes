{
 "cells": [
  {
   "attachments": {},
   "cell_type": "markdown",
   "metadata": {},
   "source": [
    "# Anomaly Detection\n",
    "## Overview \n",
    "\n",
    "In the recipe, `engine-insights.ipynb`, we demonstrated an introduction to anomaly detection. In this recipe, expand on the methods used in that recipe. Howso Engine can be used to identify anomalous cases in a dataset and also explain why those cases may be anomalous. Furthermore, we can leverage other tools we learned in previous recipes, such  as influential and boundary cases, to provide additional context.\n",
    "\n",
    "Finding anomalous cases has value in both model building and data exploration. For example, as we continue to build a suitable model for the `Adult` datset, detecting anomalies can give us insight into whether we need to clean the dataset to reduce false signals. Possible sources of anomalies could be cases that are erroneous or falsified.   \n"
   ]
  },
  {
   "attachments": {},
   "cell_type": "markdown",
   "metadata": {},
   "source": [
    "# Section 1: Load, Train, Analyze\n",
    "\n",
    "For questions about the specific steps of this section, please see the [basic workflow guide](https://docs.howso.com/en/release-latest/user_guide/basic_capabilities/basic_workflow.html).\n"
   ]
  },
  {
   "cell_type": "code",
   "execution_count": 1,
   "metadata": {
    "execution": {
     "iopub.execute_input": "2025-09-08T15:30:06.168172Z",
     "iopub.status.busy": "2025-09-08T15:30:06.167977Z",
     "iopub.status.idle": "2025-09-08T15:30:11.445944Z",
     "shell.execute_reply": "2025-09-08T15:30:11.445270Z"
    }
   },
   "outputs": [],
   "source": [
    "import pandas as pd\n",
    "from pmlb import fetch_data\n",
    "\n",
    "from howso.engine import Trainee\n",
    "from howso.utilities import infer_feature_attributes\n",
    "from howso.visuals import plot_anomalies"
   ]
  },
  {
   "cell_type": "markdown",
   "metadata": {},
   "source": [
    "### Step 1: Load Data and Create Trainee\n",
    "\n",
    "Our example dataset for this recipe continues to be the well known `Adult` dataset. This dataset consists of 14 Context Features and 1 Action Feature. The Action Feature in this version of the `Adult` dataset has been renamed to `target` and it takes the form of a binary indicator for whether a person in the data makes over $50,000/year (*target*=1) or less (*target*=0)."
   ]
  },
  {
   "cell_type": "code",
   "execution_count": 2,
   "metadata": {
    "execution": {
     "iopub.execute_input": "2025-09-08T15:30:11.448611Z",
     "iopub.status.busy": "2025-09-08T15:30:11.448242Z",
     "iopub.status.idle": "2025-09-08T15:30:11.773091Z",
     "shell.execute_reply": "2025-09-08T15:30:11.772345Z"
    }
   },
   "outputs": [],
   "source": [
    "df = fetch_data('adult', local_cache_dir=\"../../data/adult\")\n",
    "\n",
    "# Subsample the data to ensure the example runs quickly\n",
    "df = df.sample(1000, random_state=0)\n",
    "\n",
    "# Infer feature attributes\n",
    "features = infer_feature_attributes(df)\n",
    "\n",
    "# Create the Trainee\n",
    "t = Trainee(features=features)"
   ]
  },
  {
   "attachments": {},
   "cell_type": "markdown",
   "metadata": {},
   "source": [
    "### Step 2: Train and Analyze"
   ]
  },
  {
   "cell_type": "code",
   "execution_count": 3,
   "metadata": {
    "execution": {
     "iopub.execute_input": "2025-09-08T15:30:11.775535Z",
     "iopub.status.busy": "2025-09-08T15:30:11.775301Z",
     "iopub.status.idle": "2025-09-08T15:30:21.110992Z",
     "shell.execute_reply": "2025-09-08T15:30:21.110318Z"
    }
   },
   "outputs": [],
   "source": [
    "t.train(df)\n",
    "\n",
    "# Targetless Analysis\n",
    "t.analyze()"
   ]
  },
  {
   "attachments": {},
   "cell_type": "markdown",
   "metadata": {},
   "source": [
    "# Section 2: Anomaly Identification\n",
    "\n",
    "We will use [Familiarity Conviction](https://docs.howso.com/en/release-latest/getting_started/terminology.html#familiarity-conviction) and [Distance Contribution](https://docs.howso.com/en/release-latest/getting_started/terminology.html#distance-contribution) to identify potentially anomalous cases. Conviction is a value indicating how surprising a case is relative to how surprising other cases in the model are. In the case of `Familiarity Conviction`, the level of surprisal is measured by the perturbation of the probability distribution when the case is added or removed (hence the parameters: `familiarity_conviction_addition` and `familiarity_conviction_removal`).  Howso Engine’s interpretability tools also enable us to understand why these cases may be anomalous and whether they are outliers and inliers. "
   ]
  },
  {
   "attachments": {},
   "cell_type": "markdown",
   "metadata": {},
   "source": [
    "### Step 1: Compute Distance Contribution and Familiarity Conviction for every case\n",
    "\n",
    "The first step is to use `react_into_features` and select the metrics we want to return.\n",
    "\n",
    "`react_into_features` is a method that calculates the desired attributes for every case in the Trainee and caches those values into each case as a feature.\n",
    "\n",
    "Notably, this means that these features can then be used as context and action features, but this is only recommended for advanced use-cases."
   ]
  },
  {
   "cell_type": "code",
   "execution_count": 4,
   "metadata": {
    "execution": {
     "iopub.execute_input": "2025-09-08T15:30:21.113725Z",
     "iopub.status.busy": "2025-09-08T15:30:21.113470Z",
     "iopub.status.idle": "2025-09-08T15:30:21.199154Z",
     "shell.execute_reply": "2025-09-08T15:30:21.198530Z"
    }
   },
   "outputs": [],
   "source": [
    "# Store the familiarity conviction and distance contribution, this will be used to identify anomalous cases\n",
    "t.react_into_features(\n",
    "    familiarity_conviction_addition=True,\n",
    "    distance_contribution=True\n",
    ")\n",
    "\n",
    "stored_convictions = t.get_cases(\n",
    "    session=t.active_session,\n",
    "    features=df.columns.tolist() + ['familiarity_conviction_addition','.session_training_index', '.session', 'distance_contribution']\n",
    ")"
   ]
  },
  {
   "attachments": {},
   "cell_type": "markdown",
   "metadata": {},
   "source": [
    "### Step 2: Set Threshold and Identify Anomalies\n",
    "\n",
    "There is no absolute threshold for what is considered to be anomalous, as anomalous behavior is a measure of surprisal. Thus, this is a lever that the user can change depending on the data. The threshold should be more or less than 1, which indicates average surprisal.\n",
    "\n",
    "We first use `familiarity_conviction_addition` to find anomalies, and then use the average `distance_contribution` to determine what type of anomaly the case is (e.g., inlier vs. outlier). Cases with large distance contributions will be considered outliers and those with\n",
    "low distance contributions will be inliers.\n",
    "\n",
    "For this data, we use a threshold of 0.75 for the Familiarity Conviction. Cases with a Familarity Conviction below this value will be considered outliers."
   ]
  },
  {
   "cell_type": "code",
   "execution_count": 5,
   "metadata": {
    "execution": {
     "iopub.execute_input": "2025-09-08T15:30:21.201778Z",
     "iopub.status.busy": "2025-09-08T15:30:21.201575Z",
     "iopub.status.idle": "2025-09-08T15:30:21.207250Z",
     "shell.execute_reply": "2025-09-08T15:30:21.206724Z"
    }
   },
   "outputs": [],
   "source": [
    "# Threshold to determine which cases will be deemed anomalous\n",
    "convict_threshold = 0.75\n",
    "\n",
    "# Extract the anomalous cases\n",
    "low_convicts = stored_convictions[\n",
    "    stored_convictions['familiarity_conviction_addition'] <= convict_threshold\n",
    "].sort_values('familiarity_conviction_addition', ascending=True)\n",
    "\n",
    "# Average distance contribution will be used to determine if a case is an outlier or inlier\n",
    "average_dist_contribution = low_convicts['distance_contribution'].mean()\n",
    "\n",
    "# A case with distance contribution greater than average will be tagged as outlier, and vice versa for inliers\n",
    "cat = [\n",
    "    'inlier' if d < average_dist_contribution else\n",
    "    'outlier' for d in low_convicts['distance_contribution']\n",
    "]\n",
    "low_convicts['category'] = cat"
   ]
  },
  {
   "attachments": {},
   "cell_type": "markdown",
   "metadata": {},
   "source": [
    "# Section 3: Anomaly Inspection"
   ]
  },
  {
   "attachments": {},
   "cell_type": "markdown",
   "metadata": {},
   "source": [
    "\n",
    "### Step 1: Inspect Outliers\n",
    "\n",
    "Typically, when we think of anomalies, we think of outliers or cases that are significantly different that the rest of the data, whether erroneous or not. Preprocessing in machine learning often involves pruning these data points as they can add undesired noise to a model. \n",
    "\n",
    "The Case Feature Residual Conviction will be used to understand why each case was anomalous.\n",
    "\n",
    "In our example use case where the `Adult` dataset is used to determine projected salary for loan applications, we want to eliminate any erroneous outliers if possible. We may also want to detect substituted values, as often times datasets may substitute special values with nominal integers. For example, blank values in an application are often coded with high integers like 99999 which can introduce noise in the dataset.\n",
    "\n",
    "### **Definitions:**\n",
    "\n",
    "**`case_feature_residual_convictions`** :  This is calculated using the local feature residuals, divided by the feature residuals of the Case to obtain the Convictions."
   ]
  },
  {
   "cell_type": "code",
   "execution_count": 6,
   "metadata": {
    "execution": {
     "iopub.execute_input": "2025-09-08T15:30:21.209379Z",
     "iopub.status.busy": "2025-09-08T15:30:21.209195Z",
     "iopub.status.idle": "2025-09-08T15:30:21.225172Z",
     "shell.execute_reply": "2025-09-08T15:30:21.224663Z"
    }
   },
   "outputs": [
    {
     "data": {
      "text/html": [
       "<div>\n",
       "<style scoped>\n",
       "    .dataframe tbody tr th:only-of-type {\n",
       "        vertical-align: middle;\n",
       "    }\n",
       "\n",
       "    .dataframe tbody tr th {\n",
       "        vertical-align: top;\n",
       "    }\n",
       "\n",
       "    .dataframe thead th {\n",
       "        text-align: right;\n",
       "    }\n",
       "</style>\n",
       "<table border=\"1\" class=\"dataframe\">\n",
       "  <thead>\n",
       "    <tr style=\"text-align: right;\">\n",
       "      <th></th>\n",
       "      <th>age</th>\n",
       "      <th>workclass</th>\n",
       "      <th>fnlwgt</th>\n",
       "      <th>education</th>\n",
       "      <th>education-num</th>\n",
       "      <th>marital-status</th>\n",
       "      <th>occupation</th>\n",
       "      <th>relationship</th>\n",
       "      <th>race</th>\n",
       "      <th>sex</th>\n",
       "      <th>capital-gain</th>\n",
       "      <th>capital-loss</th>\n",
       "      <th>hours-per-week</th>\n",
       "      <th>native-country</th>\n",
       "      <th>target</th>\n",
       "      <th>familiarity_conviction_addition</th>\n",
       "      <th>.session_training_index</th>\n",
       "      <th>.session</th>\n",
       "      <th>distance_contribution</th>\n",
       "      <th>category</th>\n",
       "    </tr>\n",
       "  </thead>\n",
       "  <tbody>\n",
       "    <tr>\n",
       "      <th>0</th>\n",
       "      <td>30.0</td>\n",
       "      <td>4</td>\n",
       "      <td>193598.0</td>\n",
       "      <td>13</td>\n",
       "      <td>1.0</td>\n",
       "      <td>4</td>\n",
       "      <td>5</td>\n",
       "      <td>1</td>\n",
       "      <td>4</td>\n",
       "      <td>1</td>\n",
       "      <td>0.0</td>\n",
       "      <td>0.0</td>\n",
       "      <td>40.0</td>\n",
       "      <td>26</td>\n",
       "      <td>1</td>\n",
       "      <td>0.020019</td>\n",
       "      <td>540</td>\n",
       "      <td>6239c8e1-cd27-47a1-af5e-a6f62c4491eb</td>\n",
       "      <td>306.265156</td>\n",
       "      <td>outlier</td>\n",
       "    </tr>\n",
       "    <tr>\n",
       "      <th>1</th>\n",
       "      <td>23.0</td>\n",
       "      <td>4</td>\n",
       "      <td>240049.0</td>\n",
       "      <td>13</td>\n",
       "      <td>1.0</td>\n",
       "      <td>4</td>\n",
       "      <td>8</td>\n",
       "      <td>1</td>\n",
       "      <td>1</td>\n",
       "      <td>0</td>\n",
       "      <td>0.0</td>\n",
       "      <td>0.0</td>\n",
       "      <td>40.0</td>\n",
       "      <td>25</td>\n",
       "      <td>1</td>\n",
       "      <td>0.023355</td>\n",
       "      <td>732</td>\n",
       "      <td>6239c8e1-cd27-47a1-af5e-a6f62c4491eb</td>\n",
       "      <td>280.379224</td>\n",
       "      <td>outlier</td>\n",
       "    </tr>\n",
       "    <tr>\n",
       "      <th>2</th>\n",
       "      <td>65.0</td>\n",
       "      <td>5</td>\n",
       "      <td>184965.0</td>\n",
       "      <td>10</td>\n",
       "      <td>16.0</td>\n",
       "      <td>2</td>\n",
       "      <td>4</td>\n",
       "      <td>0</td>\n",
       "      <td>4</td>\n",
       "      <td>1</td>\n",
       "      <td>99999.0</td>\n",
       "      <td>0.0</td>\n",
       "      <td>40.0</td>\n",
       "      <td>39</td>\n",
       "      <td>0</td>\n",
       "      <td>0.025732</td>\n",
       "      <td>649</td>\n",
       "      <td>6239c8e1-cd27-47a1-af5e-a6f62c4491eb</td>\n",
       "      <td>387.300496</td>\n",
       "      <td>outlier</td>\n",
       "    </tr>\n",
       "  </tbody>\n",
       "</table>\n",
       "</div>"
      ],
      "text/plain": [
       "    age  workclass    fnlwgt  education  education-num  marital-status  \\\n",
       "0  30.0          4  193598.0         13            1.0               4   \n",
       "1  23.0          4  240049.0         13            1.0               4   \n",
       "2  65.0          5  184965.0         10           16.0               2   \n",
       "\n",
       "   occupation  relationship  race  sex  capital-gain  capital-loss  \\\n",
       "0           5             1     4    1           0.0           0.0   \n",
       "1           8             1     1    0           0.0           0.0   \n",
       "2           4             0     4    1       99999.0           0.0   \n",
       "\n",
       "   hours-per-week  native-country  target  familiarity_conviction_addition  \\\n",
       "0            40.0              26       1                         0.020019   \n",
       "1            40.0              25       1                         0.023355   \n",
       "2            40.0              39       0                         0.025732   \n",
       "\n",
       "   .session_training_index                              .session  \\\n",
       "0                      540  6239c8e1-cd27-47a1-af5e-a6f62c4491eb   \n",
       "1                      732  6239c8e1-cd27-47a1-af5e-a6f62c4491eb   \n",
       "2                      649  6239c8e1-cd27-47a1-af5e-a6f62c4491eb   \n",
       "\n",
       "   distance_contribution category  \n",
       "0             306.265156  outlier  \n",
       "1             280.379224  outlier  \n",
       "2             387.300496  outlier  "
      ]
     },
     "execution_count": 6,
     "metadata": {},
     "output_type": "execute_result"
    }
   ],
   "source": [
    "# Extract the outliers cases\n",
    "outliers = low_convicts[low_convicts['category'] == 'outlier'].reset_index(drop=True)\n",
    "outliers.head(3)"
   ]
  },
  {
   "attachments": {},
   "cell_type": "markdown",
   "metadata": {},
   "source": [
    "### Step 2: Outlier Value Evaluation\n",
    "\n",
    "From the above results, we can see which cases may be anomalous, however just knowing whether a case is potentially an anomaly doesn't give us all the information we need to make an informed decision. If we are deciding whether to prune a case from our training set, often we only want to prune erroneous values. Even if a case is an anomaly in terms of distance or value, if it is valid we may still leave it in as it represents a legitimate data point. \n",
    "\n",
    "By looking at the `Case Feature Residual Convictions`, we can gain some insight as to why a case was deemed anomalous."
   ]
  },
  {
   "cell_type": "code",
   "execution_count": 7,
   "metadata": {
    "execution": {
     "iopub.execute_input": "2025-09-08T15:30:21.260794Z",
     "iopub.status.busy": "2025-09-08T15:30:21.260544Z",
     "iopub.status.idle": "2025-09-08T15:30:22.055286Z",
     "shell.execute_reply": "2025-09-08T15:30:22.054654Z"
    }
   },
   "outputs": [],
   "source": [
    "# We add a few extra metrics for subsequent examples in this notebook\n",
    "# Get the case_feature_residual_convictions, influential_cases and boundary_cases\n",
    "details = {\n",
    "    'influential_cases': True,\n",
    "    'feature_full_residual_convictions_for_case': True\n",
    "}\n",
    "\n",
    "# Specify outlier cases\n",
    "outliers_indices = outliers[['.session', '.session_training_index']].values\n",
    "\n",
    "# Residuals must be computed and cached for some of these details\n",
    "t.react_aggregate(details = {\"feature_full_residuals\": True}).to_dataframe()\n",
    "\n",
    "# React to get the details of each anomalous case\n",
    "#   Specify trained cases to react to with 'case_indices'\n",
    "results = t.react(\n",
    "    case_indices=outliers_indices,\n",
    "    preserve_feature_values=df.columns.tolist(),\n",
    "    leave_case_out=True,\n",
    "    details=details\n",
    ")\n",
    "\n",
    "outlier_case_feature_residual_convictions = pd.DataFrame(\n",
    "    results['details']['feature_full_residual_convictions_for_case']\n",
    ")[df.columns.tolist()]"
   ]
  },
  {
   "cell_type": "code",
   "execution_count": 8,
   "metadata": {
    "execution": {
     "iopub.execute_input": "2025-09-08T15:30:22.057652Z",
     "iopub.status.busy": "2025-09-08T15:30:22.057436Z",
     "iopub.status.idle": "2025-09-08T15:30:25.455117Z",
     "shell.execute_reply": "2025-09-08T15:30:25.454514Z"
    }
   },
   "outputs": [
    {
     "data": {
      "image/svg+xml": [
       "<svg class=\"main-svg\" xmlns=\"http://www.w3.org/2000/svg\" xmlns:xlink=\"http://www.w3.org/1999/xlink\" width=\"1500\" height=\"750\" style=\"\" viewBox=\"0 0 1500 750\"><rect x=\"0\" y=\"0\" width=\"1500\" height=\"750\" style=\"fill: rgb(255, 255, 255); fill-opacity: 1;\"/><defs id=\"defs-d15ded\"><g class=\"clips\"><clipPath id=\"clipd15dedxyplot\" class=\"plotclip\"><rect width=\"1297\" height=\"570\"/></clipPath><clipPath class=\"axesclip\" id=\"clipd15dedx\"><rect x=\"80\" y=\"0\" width=\"1297\" height=\"750\"/></clipPath><clipPath class=\"axesclip\" id=\"clipd15dedy\"><rect x=\"0\" y=\"100\" width=\"1500\" height=\"570\"/></clipPath><clipPath class=\"axesclip\" id=\"clipd15dedxy\"><rect x=\"80\" y=\"100\" width=\"1297\" height=\"570\"/></clipPath></g><g class=\"gradients\"><linearGradient x1=\"0\" y1=\"1\" x2=\"0\" y2=\"0\" gradientUnits=\"objectBoundingBox\" id=\"gd15ded-cbcoloraxis\"><stop offset=\"0%\" stop-color=\"rgb(103, 0, 31)\" stop-opacity=\"1\"/><stop offset=\"20%\" stop-color=\"rgb(247, 247, 247)\" stop-opacity=\"1\"/><stop offset=\"40%\" stop-color=\"rgb(67, 147, 195)\" stop-opacity=\"1\"/><stop offset=\"100%\" stop-color=\"rgb(5, 48, 97)\" stop-opacity=\"1\"/></linearGradient></g><g class=\"patterns\"/></defs><g class=\"bglayer\"><rect class=\"bg\" x=\"80\" y=\"100\" width=\"1297\" height=\"570\" style=\"fill: rgb(229, 236, 246); fill-opacity: 1; stroke-width: 0;\"/></g><g class=\"layer-below\"><g class=\"imagelayer\"/><g class=\"shapelayer\"/></g><g class=\"cartesianlayer\"><g class=\"subplot xy\"><g class=\"layer-subplot\"><g class=\"shapelayer\"/><g class=\"imagelayer\"/></g><g class=\"minor-gridlayer\"><g class=\"x\"/><g class=\"y\"/></g><g class=\"gridlayer\"><g class=\"x\"><path class=\"xgrid crisp\" transform=\"translate(123.22999999999999,0)\" d=\"M0,100v570\" style=\"stroke: rgb(255, 255, 255); stroke-opacity: 1; stroke-width: 1px;\"/><path class=\"xgrid crisp\" transform=\"translate(209.7,0)\" d=\"M0,100v570\" style=\"stroke: rgb(255, 255, 255); stroke-opacity: 1; stroke-width: 1px;\"/><path class=\"xgrid crisp\" transform=\"translate(296.16999999999996,0)\" d=\"M0,100v570\" style=\"stroke: rgb(255, 255, 255); stroke-opacity: 1; stroke-width: 1px;\"/><path class=\"xgrid crisp\" transform=\"translate(382.63,0)\" d=\"M0,100v570\" style=\"stroke: rgb(255, 255, 255); stroke-opacity: 1; stroke-width: 1px;\"/><path class=\"xgrid crisp\" transform=\"translate(469.1,0)\" d=\"M0,100v570\" style=\"stroke: rgb(255, 255, 255); stroke-opacity: 1; stroke-width: 1px;\"/><path class=\"xgrid crisp\" transform=\"translate(555.5699999999999,0)\" d=\"M0,100v570\" style=\"stroke: rgb(255, 255, 255); stroke-opacity: 1; stroke-width: 1px;\"/><path class=\"xgrid crisp\" transform=\"translate(642.03,0)\" d=\"M0,100v570\" style=\"stroke: rgb(255, 255, 255); stroke-opacity: 1; stroke-width: 1px;\"/><path class=\"xgrid crisp\" transform=\"translate(728.5,0)\" d=\"M0,100v570\" style=\"stroke: rgb(255, 255, 255); stroke-opacity: 1; stroke-width: 1px;\"/><path class=\"xgrid crisp\" transform=\"translate(814.97,0)\" d=\"M0,100v570\" style=\"stroke: rgb(255, 255, 255); stroke-opacity: 1; stroke-width: 1px;\"/><path class=\"xgrid crisp\" transform=\"translate(901.43,0)\" d=\"M0,100v570\" style=\"stroke: rgb(255, 255, 255); stroke-opacity: 1; stroke-width: 1px;\"/><path class=\"xgrid crisp\" transform=\"translate(987.9,0)\" d=\"M0,100v570\" style=\"stroke: rgb(255, 255, 255); stroke-opacity: 1; stroke-width: 1px;\"/><path class=\"xgrid crisp\" transform=\"translate(1074.37,0)\" d=\"M0,100v570\" style=\"stroke: rgb(255, 255, 255); stroke-opacity: 1; stroke-width: 1px;\"/><path class=\"xgrid crisp\" transform=\"translate(1160.83,0)\" d=\"M0,100v570\" style=\"stroke: rgb(255, 255, 255); stroke-opacity: 1; stroke-width: 1px;\"/><path class=\"xgrid crisp\" transform=\"translate(1247.3,0)\" d=\"M0,100v570\" style=\"stroke: rgb(255, 255, 255); stroke-opacity: 1; stroke-width: 1px;\"/><path class=\"xgrid crisp\" transform=\"translate(1333.77,0)\" d=\"M0,100v570\" style=\"stroke: rgb(255, 255, 255); stroke-opacity: 1; stroke-width: 1px;\"/></g><g class=\"y\"><path class=\"ygrid crisp\" transform=\"translate(0,613)\" d=\"M80,0h1297\" style=\"stroke: rgb(255, 255, 255); stroke-opacity: 1; stroke-width: 1px;\"/><path class=\"ygrid crisp\" transform=\"translate(0,499)\" d=\"M80,0h1297\" style=\"stroke: rgb(255, 255, 255); stroke-opacity: 1; stroke-width: 1px;\"/><path class=\"ygrid crisp\" transform=\"translate(0,385)\" d=\"M80,0h1297\" style=\"stroke: rgb(255, 255, 255); stroke-opacity: 1; stroke-width: 1px;\"/><path class=\"ygrid crisp\" transform=\"translate(0,271)\" d=\"M80,0h1297\" style=\"stroke: rgb(255, 255, 255); stroke-opacity: 1; stroke-width: 1px;\"/></g></g><g class=\"zerolinelayer\"><path class=\"yzl zl crisp\" transform=\"translate(0,157)\" d=\"M80,0h1297\" style=\"stroke: rgb(255, 255, 255); stroke-opacity: 1; stroke-width: 2px;\"/></g><g class=\"layer-between\"><g class=\"shapelayer\"/><g class=\"imagelayer\"/></g><path class=\"xlines-below\"/><path class=\"ylines-below\"/><g class=\"overlines-below\"/><g class=\"xaxislayer-below\"/><g class=\"yaxislayer-below\"/><g class=\"overaxes-below\"/><g class=\"overplot\"><g class=\"xy\" transform=\"translate(80,100)\" clip-path=\"url(#clipd15dedxyplot)\"><g class=\"heatmaplayer mlayer\"><g class=\"hm\"><image xmlns=\"http://www.w3.org/2000/svg\" preserveAspectRatio=\"none\" height=\"570\" width=\"1297\" x=\"0\" y=\"0\" xlink:href=\"data:image/png;base64,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\" style=\"opacity: 1;\"/><g class=\"heatmap-label\"><text text-anchor=\"middle\" data-notex=\"1\" x=\"43\" y=\"61.2\" style=\"font-family: 'Open Sans', verdana, arial, sans-serif; font-size: 12px; fill: rgb(255, 255, 255); fill-opacity: 1; white-space: pre;\">30.0</text></g><g class=\"heatmap-label\"><text text-anchor=\"middle\" data-notex=\"1\" x=\"130\" y=\"61.2\" style=\"font-family: 'Open Sans', verdana, arial, sans-serif; font-size: 12px; fill: rgb(68, 68, 68); fill-opacity: 1; white-space: pre;\">4</text></g><g class=\"heatmap-label\"><text text-anchor=\"middle\" data-notex=\"1\" x=\"216\" y=\"61.2\" style=\"font-family: 'Open Sans', verdana, arial, sans-serif; font-size: 12px; fill: rgb(68, 68, 68); fill-opacity: 1; white-space: pre;\">193598.0</text></g><g class=\"heatmap-label\"><text text-anchor=\"middle\" data-notex=\"1\" x=\"303\" y=\"61.2\" style=\"font-family: 'Open Sans', verdana, arial, sans-serif; font-size: 12px; fill: rgb(255, 255, 255); fill-opacity: 1; white-space: pre;\">13</text></g><g class=\"heatmap-label\"><text text-anchor=\"middle\" data-notex=\"1\" x=\"389\" y=\"61.2\" style=\"font-family: 'Open Sans', verdana, arial, sans-serif; font-size: 12px; fill: rgb(255, 255, 255); fill-opacity: 1; white-space: pre;\">1.0</text></g><g class=\"heatmap-label\"><text text-anchor=\"middle\" data-notex=\"1\" x=\"476\" y=\"61.2\" style=\"font-family: 'Open Sans', verdana, arial, sans-serif; font-size: 12px; fill: rgb(255, 255, 255); fill-opacity: 1; white-space: pre;\">4</text></g><g class=\"heatmap-label\"><text text-anchor=\"middle\" data-notex=\"1\" x=\"562\" y=\"61.2\" style=\"font-family: 'Open Sans', verdana, arial, sans-serif; font-size: 12px; fill: rgb(68, 68, 68); fill-opacity: 1; white-space: pre;\">5</text></g><g class=\"heatmap-label\"><text text-anchor=\"middle\" data-notex=\"1\" x=\"649\" y=\"61.2\" style=\"font-family: 'Open Sans', verdana, arial, sans-serif; font-size: 12px; fill: rgb(255, 255, 255); fill-opacity: 1; white-space: pre;\">1</text></g><g class=\"heatmap-label\"><text text-anchor=\"middle\" data-notex=\"1\" x=\"735\" y=\"61.2\" style=\"font-family: 'Open Sans', verdana, arial, sans-serif; font-size: 12px; fill: rgb(255, 255, 255); fill-opacity: 1; white-space: pre;\">4</text></g><g class=\"heatmap-label\"><text text-anchor=\"middle\" data-notex=\"1\" x=\"821\" y=\"61.2\" style=\"font-family: 'Open Sans', verdana, arial, sans-serif; font-size: 12px; fill: rgb(68, 68, 68); fill-opacity: 1; white-space: pre;\">1</text></g><g class=\"heatmap-label\"><text text-anchor=\"middle\" data-notex=\"1\" x=\"908\" y=\"61.2\" style=\"font-family: 'Open Sans', verdana, arial, sans-serif; font-size: 12px; fill: rgb(255, 255, 255); fill-opacity: 1; white-space: pre;\">0.0</text></g><g class=\"heatmap-label\"><text text-anchor=\"middle\" data-notex=\"1\" x=\"994\" y=\"61.2\" style=\"font-family: 'Open Sans', verdana, arial, sans-serif; font-size: 12px; fill: rgb(68, 68, 68); fill-opacity: 1; white-space: pre;\">0.0</text></g><g class=\"heatmap-label\"><text text-anchor=\"middle\" data-notex=\"1\" x=\"1081\" y=\"61.2\" style=\"font-family: 'Open Sans', verdana, arial, sans-serif; font-size: 12px; fill: rgb(255, 255, 255); fill-opacity: 1; white-space: pre;\">40.0</text></g><g class=\"heatmap-label\"><text text-anchor=\"middle\" data-notex=\"1\" x=\"1167\" y=\"61.2\" style=\"font-family: 'Open Sans', verdana, arial, sans-serif; font-size: 12px; fill: rgb(255, 255, 255); fill-opacity: 1; white-space: pre;\">26</text></g><g class=\"heatmap-label\"><text text-anchor=\"middle\" data-notex=\"1\" x=\"1254\" y=\"61.2\" style=\"font-family: 'Open Sans', verdana, arial, sans-serif; font-size: 12px; fill: rgb(255, 255, 255); fill-opacity: 1; white-space: pre;\">1</text></g><g class=\"heatmap-label\"><text text-anchor=\"middle\" data-notex=\"1\" x=\"43\" y=\"175.2\" style=\"font-family: 'Open Sans', verdana, arial, sans-serif; font-size: 12px; fill: rgb(68, 68, 68); fill-opacity: 1; white-space: pre;\">23.0</text></g><g class=\"heatmap-label\"><text text-anchor=\"middle\" data-notex=\"1\" x=\"130\" y=\"175.2\" style=\"font-family: 'Open Sans', verdana, arial, sans-serif; font-size: 12px; fill: rgb(68, 68, 68); fill-opacity: 1; white-space: pre;\">4</text></g><g class=\"heatmap-label\"><text text-anchor=\"middle\" data-notex=\"1\" x=\"216\" y=\"175.2\" style=\"font-family: 'Open Sans', verdana, arial, sans-serif; font-size: 12px; fill: rgb(255, 255, 255); fill-opacity: 1; white-space: pre;\">240049.0</text></g><g class=\"heatmap-label\"><text text-anchor=\"middle\" data-notex=\"1\" x=\"303\" y=\"175.2\" style=\"font-family: 'Open Sans', verdana, arial, sans-serif; font-size: 12px; fill: rgb(255, 255, 255); fill-opacity: 1; white-space: pre;\">13</text></g><g class=\"heatmap-label\"><text text-anchor=\"middle\" data-notex=\"1\" x=\"389\" y=\"175.2\" style=\"font-family: 'Open Sans', verdana, arial, sans-serif; font-size: 12px; fill: rgb(255, 255, 255); fill-opacity: 1; white-space: pre;\">1.0</text></g><g class=\"heatmap-label\"><text text-anchor=\"middle\" data-notex=\"1\" x=\"476\" y=\"175.2\" style=\"font-family: 'Open Sans', verdana, arial, sans-serif; font-size: 12px; fill: rgb(255, 255, 255); fill-opacity: 1; white-space: pre;\">4</text></g><g class=\"heatmap-label\"><text text-anchor=\"middle\" data-notex=\"1\" x=\"562\" y=\"175.2\" style=\"font-family: 'Open Sans', verdana, arial, sans-serif; font-size: 12px; fill: rgb(68, 68, 68); fill-opacity: 1; white-space: pre;\">8</text></g><g class=\"heatmap-label\"><text text-anchor=\"middle\" data-notex=\"1\" x=\"649\" y=\"175.2\" style=\"font-family: 'Open Sans', verdana, arial, sans-serif; font-size: 12px; fill: rgb(255, 255, 255); fill-opacity: 1; white-space: pre;\">1</text></g><g class=\"heatmap-label\"><text text-anchor=\"middle\" data-notex=\"1\" x=\"735\" y=\"175.2\" style=\"font-family: 'Open Sans', verdana, arial, sans-serif; font-size: 12px; fill: rgb(255, 255, 255); fill-opacity: 1; white-space: pre;\">1</text></g><g class=\"heatmap-label\"><text text-anchor=\"middle\" data-notex=\"1\" x=\"821\" y=\"175.2\" style=\"font-family: 'Open Sans', verdana, arial, sans-serif; font-size: 12px; fill: rgb(255, 255, 255); fill-opacity: 1; white-space: pre;\">0</text></g><g class=\"heatmap-label\"><text text-anchor=\"middle\" data-notex=\"1\" x=\"908\" y=\"175.2\" style=\"font-family: 'Open Sans', verdana, arial, sans-serif; font-size: 12px; fill: rgb(255, 255, 255); fill-opacity: 1; white-space: pre;\">0.0</text></g><g class=\"heatmap-label\"><text text-anchor=\"middle\" data-notex=\"1\" x=\"994\" y=\"175.2\" style=\"font-family: 'Open Sans', verdana, arial, sans-serif; font-size: 12px; fill: rgb(68, 68, 68); fill-opacity: 1; white-space: pre;\">0.0</text></g><g class=\"heatmap-label\"><text text-anchor=\"middle\" data-notex=\"1\" x=\"1081\" y=\"175.2\" style=\"font-family: 'Open Sans', verdana, arial, sans-serif; font-size: 12px; fill: rgb(255, 255, 255); fill-opacity: 1; white-space: pre;\">40.0</text></g><g class=\"heatmap-label\"><text text-anchor=\"middle\" data-notex=\"1\" x=\"1167\" y=\"175.2\" style=\"font-family: 'Open Sans', verdana, arial, sans-serif; font-size: 12px; fill: rgb(255, 255, 255); fill-opacity: 1; white-space: pre;\">25</text></g><g class=\"heatmap-label\"><text text-anchor=\"middle\" data-notex=\"1\" x=\"1254\" y=\"175.2\" style=\"font-family: 'Open Sans', verdana, arial, sans-serif; font-size: 12px; fill: rgb(255, 255, 255); fill-opacity: 1; white-space: pre;\">1</text></g><g class=\"heatmap-label\"><text text-anchor=\"middle\" data-notex=\"1\" x=\"43\" y=\"289.2\" style=\"font-family: 'Open Sans', verdana, arial, sans-serif; font-size: 12px; fill: rgb(68, 68, 68); fill-opacity: 1; white-space: pre;\">65.0</text></g><g class=\"heatmap-label\"><text text-anchor=\"middle\" data-notex=\"1\" x=\"130\" y=\"289.2\" style=\"font-family: 'Open Sans', verdana, arial, sans-serif; font-size: 12px; fill: rgb(68, 68, 68); fill-opacity: 1; white-space: pre;\">5</text></g><g class=\"heatmap-label\"><text text-anchor=\"middle\" data-notex=\"1\" x=\"216\" y=\"289.2\" style=\"font-family: 'Open Sans', verdana, arial, sans-serif; font-size: 12px; fill: rgb(68, 68, 68); fill-opacity: 1; white-space: pre;\">184965.0</text></g><g class=\"heatmap-label\"><text text-anchor=\"middle\" data-notex=\"1\" x=\"303\" y=\"289.2\" style=\"font-family: 'Open Sans', verdana, arial, sans-serif; font-size: 12px; fill: rgb(68, 68, 68); fill-opacity: 1; white-space: pre;\">10</text></g><g class=\"heatmap-label\"><text text-anchor=\"middle\" data-notex=\"1\" x=\"389\" y=\"289.2\" style=\"font-family: 'Open Sans', verdana, arial, sans-serif; font-size: 12px; fill: rgb(255, 255, 255); fill-opacity: 1; white-space: pre;\">16.0</text></g><g class=\"heatmap-label\"><text text-anchor=\"middle\" data-notex=\"1\" x=\"476\" y=\"289.2\" style=\"font-family: 'Open Sans', verdana, arial, sans-serif; font-size: 12px; fill: rgb(68, 68, 68); fill-opacity: 1; white-space: pre;\">2</text></g><g class=\"heatmap-label\"><text text-anchor=\"middle\" data-notex=\"1\" x=\"562\" y=\"289.2\" style=\"font-family: 'Open Sans', verdana, arial, sans-serif; font-size: 12px; fill: rgb(255, 255, 255); fill-opacity: 1; white-space: pre;\">4</text></g><g class=\"heatmap-label\"><text text-anchor=\"middle\" data-notex=\"1\" x=\"649\" y=\"289.2\" style=\"font-family: 'Open Sans', verdana, arial, sans-serif; font-size: 12px; fill: rgb(68, 68, 68); fill-opacity: 1; white-space: pre;\">0</text></g><g class=\"heatmap-label\"><text text-anchor=\"middle\" data-notex=\"1\" x=\"735\" y=\"289.2\" style=\"font-family: 'Open Sans', verdana, arial, sans-serif; font-size: 12px; fill: rgb(68, 68, 68); fill-opacity: 1; white-space: pre;\">4</text></g><g class=\"heatmap-label\"><text text-anchor=\"middle\" data-notex=\"1\" x=\"821\" y=\"289.2\" style=\"font-family: 'Open Sans', verdana, arial, sans-serif; font-size: 12px; fill: rgb(68, 68, 68); fill-opacity: 1; white-space: pre;\">1</text></g><g class=\"heatmap-label\"><text text-anchor=\"middle\" data-notex=\"1\" x=\"908\" y=\"289.2\" style=\"font-family: 'Open Sans', verdana, arial, sans-serif; font-size: 12px; fill: rgb(255, 255, 255); fill-opacity: 1; white-space: pre;\">99999.0</text></g><g class=\"heatmap-label\"><text text-anchor=\"middle\" data-notex=\"1\" x=\"994\" y=\"289.2\" style=\"font-family: 'Open Sans', verdana, arial, sans-serif; font-size: 12px; fill: rgb(255, 255, 255); fill-opacity: 1; white-space: pre;\">0.0</text></g><g class=\"heatmap-label\"><text text-anchor=\"middle\" data-notex=\"1\" x=\"1081\" y=\"289.2\" style=\"font-family: 'Open Sans', verdana, arial, sans-serif; font-size: 12px; fill: rgb(255, 255, 255); fill-opacity: 1; white-space: pre;\">40.0</text></g><g class=\"heatmap-label\"><text text-anchor=\"middle\" data-notex=\"1\" x=\"1167\" y=\"289.2\" style=\"font-family: 'Open Sans', verdana, arial, sans-serif; font-size: 12px; fill: rgb(255, 255, 255); fill-opacity: 1; white-space: pre;\">39</text></g><g class=\"heatmap-label\"><text text-anchor=\"middle\" data-notex=\"1\" x=\"1254\" y=\"289.2\" style=\"font-family: 'Open Sans', verdana, arial, sans-serif; font-size: 12px; fill: rgb(255, 255, 255); fill-opacity: 1; white-space: pre;\">0</text></g><g class=\"heatmap-label\"><text text-anchor=\"middle\" data-notex=\"1\" x=\"43\" y=\"403.2\" style=\"font-family: 'Open Sans', verdana, arial, sans-serif; font-size: 12px; fill: rgb(68, 68, 68); fill-opacity: 1; white-space: pre;\">28.0</text></g><g class=\"heatmap-label\"><text text-anchor=\"middle\" data-notex=\"1\" x=\"130\" y=\"403.2\" style=\"font-family: 'Open Sans', verdana, arial, sans-serif; font-size: 12px; fill: rgb(68, 68, 68); fill-opacity: 1; white-space: pre;\">4</text></g><g class=\"heatmap-label\"><text text-anchor=\"middle\" data-notex=\"1\" x=\"216\" y=\"403.2\" style=\"font-family: 'Open Sans', verdana, arial, sans-serif; font-size: 12px; fill: rgb(68, 68, 68); fill-opacity: 1; white-space: pre;\">126060.0</text></g><g class=\"heatmap-label\"><text text-anchor=\"middle\" data-notex=\"1\" x=\"303\" y=\"403.2\" style=\"font-family: 'Open Sans', verdana, arial, sans-serif; font-size: 12px; fill: rgb(68, 68, 68); fill-opacity: 1; white-space: pre;\">11</text></g><g class=\"heatmap-label\"><text text-anchor=\"middle\" data-notex=\"1\" x=\"389\" y=\"403.2\" style=\"font-family: 'Open Sans', verdana, arial, sans-serif; font-size: 12px; fill: rgb(255, 255, 255); fill-opacity: 1; white-space: pre;\">9.0</text></g><g class=\"heatmap-label\"><text text-anchor=\"middle\" data-notex=\"1\" x=\"476\" y=\"403.2\" style=\"font-family: 'Open Sans', verdana, arial, sans-serif; font-size: 12px; fill: rgb(255, 255, 255); fill-opacity: 1; white-space: pre;\">2</text></g><g class=\"heatmap-label\"><text text-anchor=\"middle\" data-notex=\"1\" x=\"562\" y=\"403.2\" style=\"font-family: 'Open Sans', verdana, arial, sans-serif; font-size: 12px; fill: rgb(68, 68, 68); fill-opacity: 1; white-space: pre;\">1</text></g><g class=\"heatmap-label\"><text text-anchor=\"middle\" data-notex=\"1\" x=\"649\" y=\"403.2\" style=\"font-family: 'Open Sans', verdana, arial, sans-serif; font-size: 12px; fill: rgb(255, 255, 255); fill-opacity: 1; white-space: pre;\">5</text></g><g class=\"heatmap-label\"><text text-anchor=\"middle\" data-notex=\"1\" x=\"735\" y=\"403.2\" style=\"font-family: 'Open Sans', verdana, arial, sans-serif; font-size: 12px; fill: rgb(68, 68, 68); fill-opacity: 1; white-space: pre;\">4</text></g><g class=\"heatmap-label\"><text text-anchor=\"middle\" data-notex=\"1\" x=\"821\" y=\"403.2\" style=\"font-family: 'Open Sans', verdana, arial, sans-serif; font-size: 12px; fill: rgb(68, 68, 68); fill-opacity: 1; white-space: pre;\">0</text></g><g class=\"heatmap-label\"><text text-anchor=\"middle\" data-notex=\"1\" x=\"908\" y=\"403.2\" style=\"font-family: 'Open Sans', verdana, arial, sans-serif; font-size: 12px; fill: rgb(255, 255, 255); fill-opacity: 1; white-space: pre;\">99999.0</text></g><g class=\"heatmap-label\"><text text-anchor=\"middle\" data-notex=\"1\" x=\"994\" y=\"403.2\" style=\"font-family: 'Open Sans', verdana, arial, sans-serif; font-size: 12px; fill: rgb(255, 255, 255); fill-opacity: 1; white-space: pre;\">0.0</text></g><g class=\"heatmap-label\"><text text-anchor=\"middle\" data-notex=\"1\" x=\"1081\" y=\"403.2\" style=\"font-family: 'Open Sans', verdana, arial, sans-serif; font-size: 12px; fill: rgb(68, 68, 68); fill-opacity: 1; white-space: pre;\">36.0</text></g><g class=\"heatmap-label\"><text text-anchor=\"middle\" data-notex=\"1\" x=\"1167\" y=\"403.2\" style=\"font-family: 'Open Sans', verdana, arial, sans-serif; font-size: 12px; fill: rgb(68, 68, 68); fill-opacity: 1; white-space: pre;\">39</text></g><g class=\"heatmap-label\"><text text-anchor=\"middle\" data-notex=\"1\" x=\"1254\" y=\"403.2\" style=\"font-family: 'Open Sans', verdana, arial, sans-serif; font-size: 12px; fill: rgb(68, 68, 68); fill-opacity: 1; white-space: pre;\">0</text></g><g class=\"heatmap-label\"><text text-anchor=\"middle\" data-notex=\"1\" x=\"43\" y=\"517.2\" style=\"font-family: 'Open Sans', verdana, arial, sans-serif; font-size: 12px; fill: rgb(255, 255, 255); fill-opacity: 1; white-space: pre;\">46.0</text></g><g class=\"heatmap-label\"><text text-anchor=\"middle\" data-notex=\"1\" x=\"130\" y=\"517.2\" style=\"font-family: 'Open Sans', verdana, arial, sans-serif; font-size: 12px; fill: rgb(68, 68, 68); fill-opacity: 1; white-space: pre;\">5</text></g><g class=\"heatmap-label\"><text text-anchor=\"middle\" data-notex=\"1\" x=\"216\" y=\"517.2\" style=\"font-family: 'Open Sans', verdana, arial, sans-serif; font-size: 12px; fill: rgb(255, 255, 255); fill-opacity: 1; white-space: pre;\">198660.0</text></g><g class=\"heatmap-label\"><text text-anchor=\"middle\" data-notex=\"1\" x=\"303\" y=\"517.2\" style=\"font-family: 'Open Sans', verdana, arial, sans-serif; font-size: 12px; fill: rgb(68, 68, 68); fill-opacity: 1; white-space: pre;\">9</text></g><g class=\"heatmap-label\"><text text-anchor=\"middle\" data-notex=\"1\" x=\"389\" y=\"517.2\" style=\"font-family: 'Open Sans', verdana, arial, sans-serif; font-size: 12px; fill: rgb(68, 68, 68); fill-opacity: 1; white-space: pre;\">13.0</text></g><g class=\"heatmap-label\"><text text-anchor=\"middle\" data-notex=\"1\" x=\"476\" y=\"517.2\" style=\"font-family: 'Open Sans', verdana, arial, sans-serif; font-size: 12px; fill: rgb(255, 255, 255); fill-opacity: 1; white-space: pre;\">2</text></g><g class=\"heatmap-label\"><text text-anchor=\"middle\" data-notex=\"1\" x=\"562\" y=\"517.2\" style=\"font-family: 'Open Sans', verdana, arial, sans-serif; font-size: 12px; fill: rgb(68, 68, 68); fill-opacity: 1; white-space: pre;\">12</text></g><g class=\"heatmap-label\"><text text-anchor=\"middle\" data-notex=\"1\" x=\"649\" y=\"517.2\" style=\"font-family: 'Open Sans', verdana, arial, sans-serif; font-size: 12px; fill: rgb(255, 255, 255); fill-opacity: 1; white-space: pre;\">0</text></g><g class=\"heatmap-label\"><text text-anchor=\"middle\" data-notex=\"1\" x=\"735\" y=\"517.2\" style=\"font-family: 'Open Sans', verdana, arial, sans-serif; font-size: 12px; fill: rgb(255, 255, 255); fill-opacity: 1; white-space: pre;\">4</text></g><g class=\"heatmap-label\"><text text-anchor=\"middle\" data-notex=\"1\" x=\"821\" y=\"517.2\" style=\"font-family: 'Open Sans', verdana, arial, sans-serif; font-size: 12px; fill: rgb(255, 255, 255); fill-opacity: 1; white-space: pre;\">1</text></g><g class=\"heatmap-label\"><text text-anchor=\"middle\" data-notex=\"1\" x=\"908\" y=\"517.2\" style=\"font-family: 'Open Sans', verdana, arial, sans-serif; font-size: 12px; fill: rgb(255, 255, 255); fill-opacity: 1; white-space: pre;\">99999.0</text></g><g class=\"heatmap-label\"><text text-anchor=\"middle\" data-notex=\"1\" x=\"994\" y=\"517.2\" style=\"font-family: 'Open Sans', verdana, arial, sans-serif; font-size: 12px; fill: rgb(68, 68, 68); fill-opacity: 1; white-space: pre;\">0.0</text></g><g class=\"heatmap-label\"><text text-anchor=\"middle\" data-notex=\"1\" x=\"1081\" y=\"517.2\" style=\"font-family: 'Open Sans', verdana, arial, sans-serif; font-size: 12px; fill: rgb(255, 255, 255); fill-opacity: 1; white-space: pre;\">72.0</text></g><g class=\"heatmap-label\"><text text-anchor=\"middle\" data-notex=\"1\" x=\"1167\" y=\"517.2\" style=\"font-family: 'Open Sans', verdana, arial, sans-serif; font-size: 12px; fill: rgb(68, 68, 68); fill-opacity: 1; white-space: pre;\">39</text></g><g class=\"heatmap-label\"><text text-anchor=\"middle\" data-notex=\"1\" x=\"1254\" y=\"517.2\" style=\"font-family: 'Open Sans', verdana, arial, sans-serif; font-size: 12px; fill: rgb(68, 68, 68); fill-opacity: 1; white-space: pre;\">0</text></g></g></g></g></g><path class=\"xlines-above crisp\" d=\"M0,0\" style=\"fill: none;\"/><path class=\"ylines-above crisp\" d=\"M0,0\" style=\"fill: none;\"/><g class=\"overlines-above\"/><g class=\"xaxislayer-above\"><g class=\"xtick\"><text text-anchor=\"middle\" x=\"0\" y=\"683\" transform=\"translate(123.22999999999999,0)\" style=\"font-family: 'Open Sans', verdana, arial, sans-serif; font-size: 12px; fill: rgb(42, 63, 95); fill-opacity: 1; white-space: pre; opacity: 1;\">age</text></g><g class=\"xtick\"><text text-anchor=\"middle\" x=\"0\" y=\"683\" transform=\"translate(209.7,0)\" style=\"font-family: 'Open Sans', verdana, arial, sans-serif; font-size: 12px; fill: rgb(42, 63, 95); fill-opacity: 1; white-space: pre; opacity: 1;\">workclass</text></g><g class=\"xtick\"><text text-anchor=\"middle\" x=\"0\" y=\"683\" transform=\"translate(296.16999999999996,0)\" style=\"font-family: 'Open Sans', verdana, arial, sans-serif; font-size: 12px; fill: rgb(42, 63, 95); fill-opacity: 1; white-space: pre; opacity: 1;\">fnlwgt</text></g><g class=\"xtick\"><text text-anchor=\"middle\" x=\"0\" y=\"683\" transform=\"translate(382.63,0)\" style=\"font-family: 'Open Sans', verdana, arial, sans-serif; font-size: 12px; fill: rgb(42, 63, 95); fill-opacity: 1; white-space: pre; opacity: 1;\">education</text></g><g class=\"xtick\"><text text-anchor=\"middle\" x=\"0\" y=\"683\" transform=\"translate(469.1,0)\" style=\"font-family: 'Open Sans', verdana, arial, sans-serif; font-size: 12px; fill: rgb(42, 63, 95); fill-opacity: 1; white-space: pre; opacity: 1;\">education-num</text></g><g class=\"xtick\"><text text-anchor=\"middle\" x=\"0\" y=\"683\" transform=\"translate(555.5699999999999,0)\" style=\"font-family: 'Open Sans', verdana, arial, sans-serif; font-size: 12px; fill: rgb(42, 63, 95); fill-opacity: 1; white-space: pre; opacity: 1;\">marital-status</text></g><g class=\"xtick\"><text text-anchor=\"middle\" x=\"0\" y=\"683\" transform=\"translate(642.03,0)\" style=\"font-family: 'Open Sans', verdana, arial, sans-serif; font-size: 12px; fill: rgb(42, 63, 95); fill-opacity: 1; white-space: pre; opacity: 1;\">occupation</text></g><g class=\"xtick\"><text text-anchor=\"middle\" x=\"0\" y=\"683\" transform=\"translate(728.5,0)\" style=\"font-family: 'Open Sans', verdana, arial, sans-serif; font-size: 12px; fill: rgb(42, 63, 95); fill-opacity: 1; white-space: pre; opacity: 1;\">relationship</text></g><g class=\"xtick\"><text text-anchor=\"middle\" x=\"0\" y=\"683\" transform=\"translate(814.97,0)\" style=\"font-family: 'Open Sans', verdana, arial, sans-serif; font-size: 12px; fill: rgb(42, 63, 95); fill-opacity: 1; white-space: pre; opacity: 1;\">race</text></g><g class=\"xtick\"><text text-anchor=\"middle\" x=\"0\" y=\"683\" transform=\"translate(901.43,0)\" style=\"font-family: 'Open Sans', verdana, arial, sans-serif; font-size: 12px; fill: rgb(42, 63, 95); fill-opacity: 1; white-space: pre; opacity: 1;\">sex</text></g><g class=\"xtick\"><text text-anchor=\"middle\" x=\"0\" y=\"683\" transform=\"translate(987.9,0)\" style=\"font-family: 'Open Sans', verdana, arial, sans-serif; font-size: 12px; fill: rgb(42, 63, 95); fill-opacity: 1; white-space: pre; opacity: 1;\">capital-gain</text></g><g class=\"xtick\"><text text-anchor=\"middle\" x=\"0\" y=\"683\" transform=\"translate(1074.37,0)\" style=\"font-family: 'Open Sans', verdana, arial, sans-serif; font-size: 12px; fill: rgb(42, 63, 95); fill-opacity: 1; white-space: pre; opacity: 1;\">capital-loss</text></g><g class=\"xtick\"><text text-anchor=\"middle\" x=\"0\" y=\"683\" transform=\"translate(1160.83,0)\" style=\"font-family: 'Open Sans', verdana, arial, sans-serif; font-size: 12px; fill: rgb(42, 63, 95); fill-opacity: 1; white-space: pre; opacity: 1;\">hours-per-week</text></g><g class=\"xtick\"><text text-anchor=\"middle\" x=\"0\" y=\"683\" transform=\"translate(1247.3,0)\" style=\"font-family: 'Open Sans', verdana, arial, sans-serif; font-size: 12px; fill: rgb(42, 63, 95); fill-opacity: 1; white-space: pre; opacity: 1;\">native-country</text></g><g class=\"xtick\"><text text-anchor=\"middle\" x=\"0\" y=\"683\" transform=\"translate(1333.77,0)\" style=\"font-family: 'Open Sans', verdana, arial, sans-serif; font-size: 12px; fill: rgb(42, 63, 95); fill-opacity: 1; white-space: pre; opacity: 1;\">target</text></g></g><g class=\"yaxislayer-above\"><g class=\"ytick\"><text text-anchor=\"end\" x=\"79\" y=\"4.199999999999999\" transform=\"translate(0,613)\" style=\"font-family: 'Open Sans', verdana, arial, sans-serif; font-size: 12px; fill: rgb(42, 63, 95); fill-opacity: 1; white-space: pre; opacity: 1;\">4</text></g><g class=\"ytick\"><text text-anchor=\"end\" x=\"79\" y=\"4.199999999999999\" style=\"font-family: 'Open Sans', verdana, arial, sans-serif; font-size: 12px; fill: rgb(42, 63, 95); fill-opacity: 1; white-space: pre; opacity: 1;\" transform=\"translate(0,499)\">3</text></g><g class=\"ytick\"><text text-anchor=\"end\" x=\"79\" y=\"4.199999999999999\" style=\"font-family: 'Open Sans', verdana, arial, sans-serif; font-size: 12px; fill: rgb(42, 63, 95); fill-opacity: 1; white-space: pre; opacity: 1;\" transform=\"translate(0,385)\">2</text></g><g class=\"ytick\"><text text-anchor=\"end\" x=\"79\" y=\"4.199999999999999\" style=\"font-family: 'Open Sans', verdana, arial, sans-serif; font-size: 12px; fill: rgb(42, 63, 95); fill-opacity: 1; white-space: pre; opacity: 1;\" transform=\"translate(0,271)\">1</text></g><g class=\"ytick\"><text text-anchor=\"end\" x=\"79\" y=\"4.199999999999999\" style=\"font-family: 'Open Sans', verdana, arial, sans-serif; font-size: 12px; fill: rgb(42, 63, 95); fill-opacity: 1; white-space: pre; opacity: 1;\" transform=\"translate(0,157)\">0</text></g></g><g class=\"overaxes-above\"/></g></g><g class=\"polarlayer\"/><g class=\"smithlayer\"/><g class=\"ternarylayer\"/><g class=\"geolayer\"/><g class=\"funnelarealayer\"/><g class=\"pielayer\"/><g class=\"iciclelayer\"/><g class=\"treemaplayer\"/><g class=\"sunburstlayer\"/><g class=\"glimages\"/><defs id=\"topdefs-d15ded\"><g class=\"clips\"/></defs><g class=\"layer-above\"><g class=\"imagelayer\"/><g class=\"shapelayer\"/></g><g class=\"infolayer\"><g class=\"cbcoloraxis colorbar\" transform=\"translate(80,100)\"><rect class=\"cbbg\" x=\"1323\" y=\"0\" width=\"85.314453125\" height=\"570\" style=\"fill: rgb(0, 0, 0); fill-opacity: 0; stroke: rgb(68, 68, 68); stroke-opacity: 1; stroke-width: 0;\"/><g class=\"cbfills\" transform=\"translate(0,31)\"><rect class=\"cbfill gradient_filled\" style=\"fill: url('#gd15ded-cbcoloraxis');\" x=\"1333\" y=\"0\" width=\"30\" height=\"529\"/></g><g class=\"cblines\" transform=\"translate(0,31)\"/><g class=\"cbaxis crisp\" transform=\"translate(0,-100)\"><g class=\"ycbcoloraxistick\"><text text-anchor=\"start\" x=\"1365.9\" y=\"4.199999999999999\" transform=\"translate(0,660)\" style=\"font-family: 'Open Sans', verdana, arial, sans-serif; font-size: 12px; fill: rgb(42, 63, 95); fill-opacity: 1; white-space: pre; opacity: 1;\">0</text></g><g class=\"ycbcoloraxistick\"><text text-anchor=\"start\" x=\"1365.9\" y=\"4.199999999999999\" style=\"font-family: 'Open Sans', verdana, arial, sans-serif; font-size: 12px; fill: rgb(42, 63, 95); fill-opacity: 1; white-space: pre; opacity: 1;\" transform=\"translate(0,607.1)\">0.5</text></g><g class=\"ycbcoloraxistick\"><text text-anchor=\"start\" x=\"1365.9\" y=\"4.199999999999999\" style=\"font-family: 'Open Sans', verdana, arial, sans-serif; font-size: 12px; fill: rgb(42, 63, 95); fill-opacity: 1; white-space: pre; opacity: 1;\" transform=\"translate(0,554.2)\">1</text></g><g class=\"ycbcoloraxistick\"><text text-anchor=\"start\" x=\"1365.9\" y=\"4.199999999999999\" style=\"font-family: 'Open Sans', verdana, arial, sans-serif; font-size: 12px; fill: rgb(42, 63, 95); fill-opacity: 1; white-space: pre; opacity: 1;\" transform=\"translate(0,501.30000000000007)\">1.5</text></g><g class=\"ycbcoloraxistick\"><text text-anchor=\"start\" x=\"1365.9\" y=\"4.199999999999999\" style=\"font-family: 'Open Sans', verdana, arial, sans-serif; font-size: 12px; fill: rgb(42, 63, 95); fill-opacity: 1; white-space: pre; opacity: 1;\" transform=\"translate(0,448.4)\">2</text></g><g class=\"ycbcoloraxistick\"><text text-anchor=\"start\" x=\"1365.9\" y=\"4.199999999999999\" style=\"font-family: 'Open Sans', verdana, arial, sans-serif; font-size: 12px; fill: rgb(42, 63, 95); fill-opacity: 1; white-space: pre; opacity: 1;\" transform=\"translate(0,395.5)\">2.5</text></g><g class=\"ycbcoloraxistick\"><text text-anchor=\"start\" x=\"1365.9\" y=\"4.199999999999999\" style=\"font-family: 'Open Sans', verdana, arial, sans-serif; font-size: 12px; fill: rgb(42, 63, 95); fill-opacity: 1; white-space: pre; opacity: 1;\" transform=\"translate(0,342.6)\">3</text></g><g class=\"ycbcoloraxistick\"><text text-anchor=\"start\" x=\"1365.9\" y=\"4.199999999999999\" style=\"font-family: 'Open Sans', verdana, arial, sans-serif; font-size: 12px; fill: rgb(42, 63, 95); fill-opacity: 1; white-space: pre; opacity: 1;\" transform=\"translate(0,289.70000000000005)\">3.5</text></g><g class=\"ycbcoloraxistick\"><text text-anchor=\"start\" x=\"1365.9\" y=\"4.199999999999999\" style=\"font-family: 'Open Sans', verdana, arial, sans-serif; font-size: 12px; fill: rgb(42, 63, 95); fill-opacity: 1; white-space: pre; opacity: 1;\" transform=\"translate(0,236.8)\">4</text></g><g class=\"ycbcoloraxistick\"><text text-anchor=\"start\" x=\"1365.9\" y=\"4.199999999999999\" style=\"font-family: 'Open Sans', verdana, arial, sans-serif; font-size: 12px; fill: rgb(42, 63, 95); fill-opacity: 1; white-space: pre; opacity: 1;\" transform=\"translate(0,183.90000000000003)\">4.5</text></g><g class=\"ycbcoloraxistick\"><text text-anchor=\"start\" x=\"1365.9\" y=\"4.199999999999999\" style=\"font-family: 'Open Sans', verdana, arial, sans-serif; font-size: 12px; fill: rgb(42, 63, 95); fill-opacity: 1; white-space: pre; opacity: 1;\" transform=\"translate(0,131.00000000000003)\">≥5</text></g></g><g class=\"cbtitleunshift\" transform=\"translate(-80,-100)\"><g class=\"cbtitle\" transform=\"\"><text class=\"ycbcoloraxistitle\" x=\"1412.94\" y=\"123.5\" text-anchor=\"start\" style=\"opacity: 1; font-family: 'Open Sans', verdana, arial, sans-serif; font-size: 14px; fill: rgb(42, 63, 95); fill-opacity: 1; white-space: pre;\">Conviction</text></g></g><rect class=\"cboutline\" x=\"1333\" y=\"31\" width=\"30\" height=\"529\" style=\"stroke: rgb(68, 68, 68); stroke-opacity: 1; fill: none; stroke-width: 0;\"/></g><g class=\"g-gtitle\"><text class=\"gtitle\" x=\"75\" y=\"50\" text-anchor=\"start\" dy=\"0em\" style=\"opacity: 1; font-family: 'Open Sans', verdana, arial, sans-serif; font-size: 17px; fill: rgb(42, 63, 95); fill-opacity: 1; white-space: pre;\">Anomalies</text></g><g class=\"g-xtitle\"><text class=\"xtitle\" x=\"728.5\" y=\"710.3\" text-anchor=\"middle\" style=\"opacity: 1; font-family: 'Open Sans', verdana, arial, sans-serif; font-size: 14px; fill: rgb(42, 63, 95); fill-opacity: 1; white-space: pre;\">Feature</text></g><g class=\"g-ytitle\"/></g></svg>"
      ]
     },
     "metadata": {},
     "output_type": "display_data"
    }
   ],
   "source": [
    "fig = plot_anomalies(outliers, outlier_case_feature_residual_convictions)\n",
    "fig.show(width=1500, height=750)"
   ]
  },
  {
   "attachments": {},
   "cell_type": "markdown",
   "metadata": {},
   "source": [
    "From this chart we can see that these cases were flagged as anomalous largely because of their `capital-gain` values. Since our target variable is whether someone makes over $50,000 in salary, people with such large capital gains making less than $50,000 seems odd. In addition, values such as 99999 often indicate some sort of nominal value that may represent something other than the actual capital-gain, such as if a person did not answer. \n",
    "\n",
    "With this information, we can choose the appropriate action, whether it is recoding capital-gains, removing the cases, leaving the cases out, etc..."
   ]
  },
  {
   "attachments": {},
   "cell_type": "markdown",
   "metadata": {
    "tags": []
   },
   "source": [
    "### Step 3: Inspect Outliers\n",
    "\n",
    "While we generally only think of outliers when it comes to anomalies, inliers are another, more discrete, form of anomaly. Inliers are the opposite of outliers, as inliers are cases that are too [similiar](https://docs.howso.com/en/release-latest/getting_started/terminology.html#most-similar-cases) to other points. A real world hypothetical case of an inlier would be someone submitting a false transaction date in which they tried to make the data look real by making it very similar to existing data. \n",
    "\n",
    "In our case, it may be someone in a bank who is internally falsifying applications in order to try to alter the prediction model.\n",
    "\n",
    "Just like outliers, `distance_contribution` is used to detect inliers from the anomalies detected through the use of `familiarity_conviction_addition`, except now we are looking at cases below a theshold which indicates similarity to other points.\n"
   ]
  },
  {
   "cell_type": "code",
   "execution_count": 9,
   "metadata": {
    "execution": {
     "iopub.execute_input": "2025-09-08T15:30:25.457183Z",
     "iopub.status.busy": "2025-09-08T15:30:25.456986Z",
     "iopub.status.idle": "2025-09-08T15:30:25.471032Z",
     "shell.execute_reply": "2025-09-08T15:30:25.470433Z"
    }
   },
   "outputs": [
    {
     "data": {
      "text/html": [
       "<div>\n",
       "<style scoped>\n",
       "    .dataframe tbody tr th:only-of-type {\n",
       "        vertical-align: middle;\n",
       "    }\n",
       "\n",
       "    .dataframe tbody tr th {\n",
       "        vertical-align: top;\n",
       "    }\n",
       "\n",
       "    .dataframe thead th {\n",
       "        text-align: right;\n",
       "    }\n",
       "</style>\n",
       "<table border=\"1\" class=\"dataframe\">\n",
       "  <thead>\n",
       "    <tr style=\"text-align: right;\">\n",
       "      <th></th>\n",
       "      <th>age</th>\n",
       "      <th>workclass</th>\n",
       "      <th>fnlwgt</th>\n",
       "      <th>education</th>\n",
       "      <th>education-num</th>\n",
       "      <th>marital-status</th>\n",
       "      <th>occupation</th>\n",
       "      <th>relationship</th>\n",
       "      <th>race</th>\n",
       "      <th>sex</th>\n",
       "      <th>capital-gain</th>\n",
       "      <th>capital-loss</th>\n",
       "      <th>hours-per-week</th>\n",
       "      <th>native-country</th>\n",
       "      <th>target</th>\n",
       "      <th>familiarity_conviction_addition</th>\n",
       "      <th>.session_training_index</th>\n",
       "      <th>.session</th>\n",
       "      <th>distance_contribution</th>\n",
       "      <th>category</th>\n",
       "    </tr>\n",
       "  </thead>\n",
       "  <tbody>\n",
       "    <tr>\n",
       "      <th>0</th>\n",
       "      <td>30.0</td>\n",
       "      <td>4</td>\n",
       "      <td>190228.0</td>\n",
       "      <td>11</td>\n",
       "      <td>9.0</td>\n",
       "      <td>2</td>\n",
       "      <td>6</td>\n",
       "      <td>0</td>\n",
       "      <td>4</td>\n",
       "      <td>1</td>\n",
       "      <td>0.0</td>\n",
       "      <td>0.0</td>\n",
       "      <td>40.0</td>\n",
       "      <td>39</td>\n",
       "      <td>1</td>\n",
       "      <td>0.313210</td>\n",
       "      <td>198</td>\n",
       "      <td>6239c8e1-cd27-47a1-af5e-a6f62c4491eb</td>\n",
       "      <td>1.446570</td>\n",
       "      <td>inlier</td>\n",
       "    </tr>\n",
       "    <tr>\n",
       "      <th>1</th>\n",
       "      <td>25.0</td>\n",
       "      <td>4</td>\n",
       "      <td>218667.0</td>\n",
       "      <td>11</td>\n",
       "      <td>9.0</td>\n",
       "      <td>2</td>\n",
       "      <td>6</td>\n",
       "      <td>0</td>\n",
       "      <td>4</td>\n",
       "      <td>1</td>\n",
       "      <td>0.0</td>\n",
       "      <td>0.0</td>\n",
       "      <td>40.0</td>\n",
       "      <td>39</td>\n",
       "      <td>1</td>\n",
       "      <td>0.314181</td>\n",
       "      <td>881</td>\n",
       "      <td>6239c8e1-cd27-47a1-af5e-a6f62c4491eb</td>\n",
       "      <td>1.560241</td>\n",
       "      <td>inlier</td>\n",
       "    </tr>\n",
       "    <tr>\n",
       "      <th>2</th>\n",
       "      <td>36.0</td>\n",
       "      <td>4</td>\n",
       "      <td>209629.0</td>\n",
       "      <td>11</td>\n",
       "      <td>9.0</td>\n",
       "      <td>2</td>\n",
       "      <td>7</td>\n",
       "      <td>0</td>\n",
       "      <td>4</td>\n",
       "      <td>1</td>\n",
       "      <td>0.0</td>\n",
       "      <td>0.0</td>\n",
       "      <td>40.0</td>\n",
       "      <td>39</td>\n",
       "      <td>1</td>\n",
       "      <td>0.317192</td>\n",
       "      <td>404</td>\n",
       "      <td>6239c8e1-cd27-47a1-af5e-a6f62c4491eb</td>\n",
       "      <td>1.568833</td>\n",
       "      <td>inlier</td>\n",
       "    </tr>\n",
       "  </tbody>\n",
       "</table>\n",
       "</div>"
      ],
      "text/plain": [
       "    age  workclass    fnlwgt  education  education-num  marital-status  \\\n",
       "0  30.0          4  190228.0         11            9.0               2   \n",
       "1  25.0          4  218667.0         11            9.0               2   \n",
       "2  36.0          4  209629.0         11            9.0               2   \n",
       "\n",
       "   occupation  relationship  race  sex  capital-gain  capital-loss  \\\n",
       "0           6             0     4    1           0.0           0.0   \n",
       "1           6             0     4    1           0.0           0.0   \n",
       "2           7             0     4    1           0.0           0.0   \n",
       "\n",
       "   hours-per-week  native-country  target  familiarity_conviction_addition  \\\n",
       "0            40.0              39       1                         0.313210   \n",
       "1            40.0              39       1                         0.314181   \n",
       "2            40.0              39       1                         0.317192   \n",
       "\n",
       "   .session_training_index                              .session  \\\n",
       "0                      198  6239c8e1-cd27-47a1-af5e-a6f62c4491eb   \n",
       "1                      881  6239c8e1-cd27-47a1-af5e-a6f62c4491eb   \n",
       "2                      404  6239c8e1-cd27-47a1-af5e-a6f62c4491eb   \n",
       "\n",
       "   distance_contribution category  \n",
       "0               1.446570   inlier  \n",
       "1               1.560241   inlier  \n",
       "2               1.568833   inlier  "
      ]
     },
     "execution_count": 9,
     "metadata": {},
     "output_type": "execute_result"
    }
   ],
   "source": [
    "# Extract the inlier cases\n",
    "inliers = low_convicts[low_convicts['category'] == 'inlier'].reset_index(drop=True)\n",
    "inliers.head(3)"
   ]
  },
  {
   "attachments": {},
   "cell_type": "markdown",
   "metadata": {},
   "source": [
    "### Step 4: Inlier Value Evaluation"
   ]
  },
  {
   "cell_type": "code",
   "execution_count": 10,
   "metadata": {
    "execution": {
     "iopub.execute_input": "2025-09-08T15:30:25.472895Z",
     "iopub.status.busy": "2025-09-08T15:30:25.472704Z",
     "iopub.status.idle": "2025-09-08T15:30:25.851079Z",
     "shell.execute_reply": "2025-09-08T15:30:25.850446Z"
    }
   },
   "outputs": [],
   "source": [
    "# Specify the inlier cases\n",
    "inliers_indices = inliers[['.session', '.session_training_index']].values\n",
    "\n",
    "# React to get the details of each case\n",
    "results = t.react(\n",
    "    case_indices=inliers_indices,\n",
    "    preserve_feature_values=df.columns.tolist(),\n",
    "    leave_case_out=True,\n",
    "    details=details\n",
    ")\n",
    "\n",
    "\n",
    "inlier_case_feature_residual_convictions = pd.DataFrame(\n",
    "    results['details']['feature_full_residual_convictions_for_case']\n",
    ")[df.columns.tolist()]"
   ]
  },
  {
   "cell_type": "code",
   "execution_count": 11,
   "metadata": {
    "execution": {
     "iopub.execute_input": "2025-09-08T15:30:25.853488Z",
     "iopub.status.busy": "2025-09-08T15:30:25.853278Z",
     "iopub.status.idle": "2025-09-08T15:30:27.395501Z",
     "shell.execute_reply": "2025-09-08T15:30:27.394911Z"
    }
   },
   "outputs": [
    {
     "data": {
      "image/svg+xml": [
       "<svg class=\"main-svg\" xmlns=\"http://www.w3.org/2000/svg\" xmlns:xlink=\"http://www.w3.org/1999/xlink\" width=\"1500\" height=\"750\" style=\"\" viewBox=\"0 0 1500 750\"><rect x=\"0\" y=\"0\" width=\"1500\" height=\"750\" style=\"fill: rgb(255, 255, 255); fill-opacity: 1;\"/><defs id=\"defs-5b21d0\"><g class=\"clips\"><clipPath id=\"clip5b21d0xyplot\" class=\"plotclip\"><rect width=\"1297\" height=\"570\"/></clipPath><clipPath class=\"axesclip\" id=\"clip5b21d0x\"><rect x=\"80\" y=\"0\" width=\"1297\" height=\"750\"/></clipPath><clipPath class=\"axesclip\" id=\"clip5b21d0y\"><rect x=\"0\" y=\"100\" width=\"1500\" height=\"570\"/></clipPath><clipPath class=\"axesclip\" id=\"clip5b21d0xy\"><rect x=\"80\" y=\"100\" width=\"1297\" height=\"570\"/></clipPath></g><g class=\"gradients\"><linearGradient x1=\"0\" y1=\"1\" x2=\"0\" y2=\"0\" gradientUnits=\"objectBoundingBox\" id=\"g5b21d0-cbcoloraxis\"><stop offset=\"0%\" stop-color=\"rgb(103, 0, 31)\" stop-opacity=\"1\"/><stop offset=\"20%\" stop-color=\"rgb(247, 247, 247)\" stop-opacity=\"1\"/><stop offset=\"40%\" stop-color=\"rgb(67, 147, 195)\" stop-opacity=\"1\"/><stop offset=\"100%\" stop-color=\"rgb(5, 48, 97)\" stop-opacity=\"1\"/></linearGradient></g><g class=\"patterns\"/></defs><g class=\"bglayer\"><rect class=\"bg\" x=\"80\" y=\"100\" width=\"1297\" height=\"570\" style=\"fill: rgb(229, 236, 246); fill-opacity: 1; stroke-width: 0;\"/></g><g class=\"layer-below\"><g class=\"imagelayer\"/><g class=\"shapelayer\"/></g><g class=\"cartesianlayer\"><g class=\"subplot xy\"><g class=\"layer-subplot\"><g class=\"shapelayer\"/><g class=\"imagelayer\"/></g><g class=\"minor-gridlayer\"><g class=\"x\"/><g class=\"y\"/></g><g class=\"gridlayer\"><g class=\"x\"><path class=\"xgrid crisp\" transform=\"translate(123.22999999999999,0)\" d=\"M0,100v570\" style=\"stroke: rgb(255, 255, 255); stroke-opacity: 1; stroke-width: 1px;\"/><path class=\"xgrid crisp\" transform=\"translate(209.7,0)\" d=\"M0,100v570\" style=\"stroke: rgb(255, 255, 255); stroke-opacity: 1; stroke-width: 1px;\"/><path class=\"xgrid crisp\" transform=\"translate(296.16999999999996,0)\" d=\"M0,100v570\" style=\"stroke: rgb(255, 255, 255); stroke-opacity: 1; stroke-width: 1px;\"/><path class=\"xgrid crisp\" transform=\"translate(382.63,0)\" d=\"M0,100v570\" style=\"stroke: rgb(255, 255, 255); stroke-opacity: 1; stroke-width: 1px;\"/><path class=\"xgrid crisp\" transform=\"translate(469.1,0)\" d=\"M0,100v570\" style=\"stroke: rgb(255, 255, 255); stroke-opacity: 1; stroke-width: 1px;\"/><path class=\"xgrid crisp\" transform=\"translate(555.5699999999999,0)\" d=\"M0,100v570\" style=\"stroke: rgb(255, 255, 255); stroke-opacity: 1; stroke-width: 1px;\"/><path class=\"xgrid crisp\" transform=\"translate(642.03,0)\" d=\"M0,100v570\" style=\"stroke: rgb(255, 255, 255); stroke-opacity: 1; stroke-width: 1px;\"/><path class=\"xgrid crisp\" transform=\"translate(728.5,0)\" d=\"M0,100v570\" style=\"stroke: rgb(255, 255, 255); stroke-opacity: 1; stroke-width: 1px;\"/><path class=\"xgrid crisp\" transform=\"translate(814.97,0)\" d=\"M0,100v570\" style=\"stroke: rgb(255, 255, 255); stroke-opacity: 1; stroke-width: 1px;\"/><path class=\"xgrid crisp\" transform=\"translate(901.43,0)\" d=\"M0,100v570\" style=\"stroke: rgb(255, 255, 255); stroke-opacity: 1; stroke-width: 1px;\"/><path class=\"xgrid crisp\" transform=\"translate(987.9,0)\" d=\"M0,100v570\" style=\"stroke: rgb(255, 255, 255); stroke-opacity: 1; stroke-width: 1px;\"/><path class=\"xgrid crisp\" transform=\"translate(1074.37,0)\" d=\"M0,100v570\" style=\"stroke: rgb(255, 255, 255); stroke-opacity: 1; stroke-width: 1px;\"/><path class=\"xgrid crisp\" transform=\"translate(1160.83,0)\" d=\"M0,100v570\" style=\"stroke: rgb(255, 255, 255); stroke-opacity: 1; stroke-width: 1px;\"/><path class=\"xgrid crisp\" transform=\"translate(1247.3,0)\" d=\"M0,100v570\" style=\"stroke: rgb(255, 255, 255); stroke-opacity: 1; stroke-width: 1px;\"/><path class=\"xgrid crisp\" transform=\"translate(1333.77,0)\" d=\"M0,100v570\" style=\"stroke: rgb(255, 255, 255); stroke-opacity: 1; stroke-width: 1px;\"/></g><g class=\"y\"><path class=\"ygrid crisp\" transform=\"translate(0,613)\" d=\"M80,0h1297\" style=\"stroke: rgb(255, 255, 255); stroke-opacity: 1; stroke-width: 1px;\"/><path class=\"ygrid crisp\" transform=\"translate(0,499)\" d=\"M80,0h1297\" style=\"stroke: rgb(255, 255, 255); stroke-opacity: 1; stroke-width: 1px;\"/><path class=\"ygrid crisp\" transform=\"translate(0,385)\" d=\"M80,0h1297\" style=\"stroke: rgb(255, 255, 255); stroke-opacity: 1; stroke-width: 1px;\"/><path class=\"ygrid crisp\" transform=\"translate(0,271)\" d=\"M80,0h1297\" style=\"stroke: rgb(255, 255, 255); stroke-opacity: 1; stroke-width: 1px;\"/></g></g><g class=\"zerolinelayer\"><path class=\"yzl zl crisp\" transform=\"translate(0,157)\" d=\"M80,0h1297\" style=\"stroke: rgb(255, 255, 255); stroke-opacity: 1; stroke-width: 2px;\"/></g><g class=\"layer-between\"><g class=\"shapelayer\"/><g class=\"imagelayer\"/></g><path class=\"xlines-below\"/><path class=\"ylines-below\"/><g class=\"overlines-below\"/><g class=\"xaxislayer-below\"/><g class=\"yaxislayer-below\"/><g class=\"overaxes-below\"/><g class=\"overplot\"><g class=\"xy\" transform=\"translate(80,100)\" clip-path=\"url(#clip5b21d0xyplot)\"><g class=\"heatmaplayer mlayer\"><g class=\"hm\"><image xmlns=\"http://www.w3.org/2000/svg\" preserveAspectRatio=\"none\" height=\"570\" width=\"1297\" x=\"0\" y=\"0\" xlink:href=\"data:image/png;base64,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\" style=\"opacity: 1;\"/><g class=\"heatmap-label\"><text text-anchor=\"middle\" data-notex=\"1\" x=\"43\" y=\"61.2\" style=\"font-family: 'Open Sans', verdana, arial, sans-serif; font-size: 12px; fill: rgb(68, 68, 68); fill-opacity: 1; white-space: pre;\">30.0</text></g><g class=\"heatmap-label\"><text text-anchor=\"middle\" data-notex=\"1\" x=\"130\" y=\"61.2\" style=\"font-family: 'Open Sans', verdana, arial, sans-serif; font-size: 12px; fill: rgb(68, 68, 68); fill-opacity: 1; white-space: pre;\">4</text></g><g class=\"heatmap-label\"><text text-anchor=\"middle\" data-notex=\"1\" x=\"216\" y=\"61.2\" style=\"font-family: 'Open Sans', verdana, arial, sans-serif; font-size: 12px; fill: rgb(68, 68, 68); fill-opacity: 1; white-space: pre;\">190228.0</text></g><g class=\"heatmap-label\"><text text-anchor=\"middle\" data-notex=\"1\" x=\"303\" y=\"61.2\" style=\"font-family: 'Open Sans', verdana, arial, sans-serif; font-size: 12px; fill: rgb(68, 68, 68); fill-opacity: 1; white-space: pre;\">11</text></g><g class=\"heatmap-label\"><text text-anchor=\"middle\" data-notex=\"1\" x=\"389\" y=\"61.2\" style=\"font-family: 'Open Sans', verdana, arial, sans-serif; font-size: 12px; fill: rgb(68, 68, 68); fill-opacity: 1; white-space: pre;\">9.0</text></g><g class=\"heatmap-label\"><text text-anchor=\"middle\" data-notex=\"1\" x=\"476\" y=\"61.2\" style=\"font-family: 'Open Sans', verdana, arial, sans-serif; font-size: 12px; fill: rgb(68, 68, 68); fill-opacity: 1; white-space: pre;\">2</text></g><g class=\"heatmap-label\"><text text-anchor=\"middle\" data-notex=\"1\" x=\"562\" y=\"61.2\" style=\"font-family: 'Open Sans', verdana, arial, sans-serif; font-size: 12px; fill: rgb(68, 68, 68); fill-opacity: 1; white-space: pre;\">6</text></g><g class=\"heatmap-label\"><text text-anchor=\"middle\" data-notex=\"1\" x=\"649\" y=\"61.2\" style=\"font-family: 'Open Sans', verdana, arial, sans-serif; font-size: 12px; fill: rgb(68, 68, 68); fill-opacity: 1; white-space: pre;\">0</text></g><g class=\"heatmap-label\"><text text-anchor=\"middle\" data-notex=\"1\" x=\"735\" y=\"61.2\" style=\"font-family: 'Open Sans', verdana, arial, sans-serif; font-size: 12px; fill: rgb(68, 68, 68); fill-opacity: 1; white-space: pre;\">4</text></g><g class=\"heatmap-label\"><text text-anchor=\"middle\" data-notex=\"1\" x=\"821\" y=\"61.2\" style=\"font-family: 'Open Sans', verdana, arial, sans-serif; font-size: 12px; fill: rgb(68, 68, 68); fill-opacity: 1; white-space: pre;\">1</text></g><g class=\"heatmap-label\"><text text-anchor=\"middle\" data-notex=\"1\" x=\"908\" y=\"61.2\" style=\"font-family: 'Open Sans', verdana, arial, sans-serif; font-size: 12px; fill: rgb(68, 68, 68); fill-opacity: 1; white-space: pre;\">0.0</text></g><g class=\"heatmap-label\"><text text-anchor=\"middle\" data-notex=\"1\" x=\"994\" y=\"61.2\" style=\"font-family: 'Open Sans', verdana, arial, sans-serif; font-size: 12px; fill: rgb(68, 68, 68); fill-opacity: 1; white-space: pre;\">0.0</text></g><g class=\"heatmap-label\"><text text-anchor=\"middle\" data-notex=\"1\" x=\"1081\" y=\"61.2\" style=\"font-family: 'Open Sans', verdana, arial, sans-serif; font-size: 12px; fill: rgb(68, 68, 68); fill-opacity: 1; white-space: pre;\">40.0</text></g><g class=\"heatmap-label\"><text text-anchor=\"middle\" data-notex=\"1\" x=\"1167\" y=\"61.2\" style=\"font-family: 'Open Sans', verdana, arial, sans-serif; font-size: 12px; fill: rgb(68, 68, 68); fill-opacity: 1; white-space: pre;\">39</text></g><g class=\"heatmap-label\"><text text-anchor=\"middle\" data-notex=\"1\" x=\"1254\" y=\"61.2\" style=\"font-family: 'Open Sans', verdana, arial, sans-serif; font-size: 12px; fill: rgb(68, 68, 68); fill-opacity: 1; white-space: pre;\">1</text></g><g class=\"heatmap-label\"><text text-anchor=\"middle\" data-notex=\"1\" x=\"43\" y=\"175.2\" style=\"font-family: 'Open Sans', verdana, arial, sans-serif; font-size: 12px; fill: rgb(68, 68, 68); fill-opacity: 1; white-space: pre;\">25.0</text></g><g class=\"heatmap-label\"><text text-anchor=\"middle\" data-notex=\"1\" x=\"130\" y=\"175.2\" style=\"font-family: 'Open Sans', verdana, arial, sans-serif; font-size: 12px; fill: rgb(68, 68, 68); fill-opacity: 1; white-space: pre;\">4</text></g><g class=\"heatmap-label\"><text text-anchor=\"middle\" data-notex=\"1\" x=\"216\" y=\"175.2\" style=\"font-family: 'Open Sans', verdana, arial, sans-serif; font-size: 12px; fill: rgb(68, 68, 68); fill-opacity: 1; white-space: pre;\">218667.0</text></g><g class=\"heatmap-label\"><text text-anchor=\"middle\" data-notex=\"1\" x=\"303\" y=\"175.2\" style=\"font-family: 'Open Sans', verdana, arial, sans-serif; font-size: 12px; fill: rgb(68, 68, 68); fill-opacity: 1; white-space: pre;\">11</text></g><g class=\"heatmap-label\"><text text-anchor=\"middle\" data-notex=\"1\" x=\"389\" y=\"175.2\" style=\"font-family: 'Open Sans', verdana, arial, sans-serif; font-size: 12px; fill: rgb(68, 68, 68); fill-opacity: 1; white-space: pre;\">9.0</text></g><g class=\"heatmap-label\"><text text-anchor=\"middle\" data-notex=\"1\" x=\"476\" y=\"175.2\" style=\"font-family: 'Open Sans', verdana, arial, sans-serif; font-size: 12px; fill: rgb(68, 68, 68); fill-opacity: 1; white-space: pre;\">2</text></g><g class=\"heatmap-label\"><text text-anchor=\"middle\" data-notex=\"1\" x=\"562\" y=\"175.2\" style=\"font-family: 'Open Sans', verdana, arial, sans-serif; font-size: 12px; fill: rgb(68, 68, 68); fill-opacity: 1; white-space: pre;\">6</text></g><g class=\"heatmap-label\"><text text-anchor=\"middle\" data-notex=\"1\" x=\"649\" y=\"175.2\" style=\"font-family: 'Open Sans', verdana, arial, sans-serif; font-size: 12px; fill: rgb(68, 68, 68); fill-opacity: 1; white-space: pre;\">0</text></g><g class=\"heatmap-label\"><text text-anchor=\"middle\" data-notex=\"1\" x=\"735\" y=\"175.2\" style=\"font-family: 'Open Sans', verdana, arial, sans-serif; font-size: 12px; fill: rgb(68, 68, 68); fill-opacity: 1; white-space: pre;\">4</text></g><g class=\"heatmap-label\"><text text-anchor=\"middle\" data-notex=\"1\" x=\"821\" y=\"175.2\" style=\"font-family: 'Open Sans', verdana, arial, sans-serif; font-size: 12px; fill: rgb(68, 68, 68); fill-opacity: 1; white-space: pre;\">1</text></g><g class=\"heatmap-label\"><text text-anchor=\"middle\" data-notex=\"1\" x=\"908\" y=\"175.2\" style=\"font-family: 'Open Sans', verdana, arial, sans-serif; font-size: 12px; fill: rgb(68, 68, 68); fill-opacity: 1; white-space: pre;\">0.0</text></g><g class=\"heatmap-label\"><text text-anchor=\"middle\" data-notex=\"1\" x=\"994\" y=\"175.2\" style=\"font-family: 'Open Sans', verdana, arial, sans-serif; font-size: 12px; fill: rgb(255, 255, 255); fill-opacity: 1; white-space: pre;\">0.0</text></g><g class=\"heatmap-label\"><text text-anchor=\"middle\" data-notex=\"1\" x=\"1081\" y=\"175.2\" style=\"font-family: 'Open Sans', verdana, arial, sans-serif; font-size: 12px; fill: rgb(68, 68, 68); fill-opacity: 1; white-space: pre;\">40.0</text></g><g class=\"heatmap-label\"><text text-anchor=\"middle\" data-notex=\"1\" x=\"1167\" y=\"175.2\" style=\"font-family: 'Open Sans', verdana, arial, sans-serif; font-size: 12px; fill: rgb(68, 68, 68); fill-opacity: 1; white-space: pre;\">39</text></g><g class=\"heatmap-label\"><text text-anchor=\"middle\" data-notex=\"1\" x=\"1254\" y=\"175.2\" style=\"font-family: 'Open Sans', verdana, arial, sans-serif; font-size: 12px; fill: rgb(68, 68, 68); fill-opacity: 1; white-space: pre;\">1</text></g><g class=\"heatmap-label\"><text text-anchor=\"middle\" data-notex=\"1\" x=\"43\" y=\"289.2\" style=\"font-family: 'Open Sans', verdana, arial, sans-serif; font-size: 12px; fill: rgb(255, 255, 255); fill-opacity: 1; white-space: pre;\">36.0</text></g><g class=\"heatmap-label\"><text text-anchor=\"middle\" data-notex=\"1\" x=\"130\" y=\"289.2\" style=\"font-family: 'Open Sans', verdana, arial, sans-serif; font-size: 12px; fill: rgb(68, 68, 68); fill-opacity: 1; white-space: pre;\">4</text></g><g class=\"heatmap-label\"><text text-anchor=\"middle\" data-notex=\"1\" x=\"216\" y=\"289.2\" style=\"font-family: 'Open Sans', verdana, arial, sans-serif; font-size: 12px; fill: rgb(68, 68, 68); fill-opacity: 1; white-space: pre;\">209629.0</text></g><g class=\"heatmap-label\"><text text-anchor=\"middle\" data-notex=\"1\" x=\"303\" y=\"289.2\" style=\"font-family: 'Open Sans', verdana, arial, sans-serif; font-size: 12px; fill: rgb(68, 68, 68); fill-opacity: 1; white-space: pre;\">11</text></g><g class=\"heatmap-label\"><text text-anchor=\"middle\" data-notex=\"1\" x=\"389\" y=\"289.2\" style=\"font-family: 'Open Sans', verdana, arial, sans-serif; font-size: 12px; fill: rgb(68, 68, 68); fill-opacity: 1; white-space: pre;\">9.0</text></g><g class=\"heatmap-label\"><text text-anchor=\"middle\" data-notex=\"1\" x=\"476\" y=\"289.2\" style=\"font-family: 'Open Sans', verdana, arial, sans-serif; font-size: 12px; fill: rgb(68, 68, 68); fill-opacity: 1; white-space: pre;\">2</text></g><g class=\"heatmap-label\"><text text-anchor=\"middle\" data-notex=\"1\" x=\"562\" y=\"289.2\" style=\"font-family: 'Open Sans', verdana, arial, sans-serif; font-size: 12px; fill: rgb(68, 68, 68); fill-opacity: 1; white-space: pre;\">7</text></g><g class=\"heatmap-label\"><text text-anchor=\"middle\" data-notex=\"1\" x=\"649\" y=\"289.2\" style=\"font-family: 'Open Sans', verdana, arial, sans-serif; font-size: 12px; fill: rgb(68, 68, 68); fill-opacity: 1; white-space: pre;\">0</text></g><g class=\"heatmap-label\"><text text-anchor=\"middle\" data-notex=\"1\" x=\"735\" y=\"289.2\" style=\"font-family: 'Open Sans', verdana, arial, sans-serif; font-size: 12px; fill: rgb(68, 68, 68); fill-opacity: 1; white-space: pre;\">4</text></g><g class=\"heatmap-label\"><text text-anchor=\"middle\" data-notex=\"1\" x=\"821\" y=\"289.2\" style=\"font-family: 'Open Sans', verdana, arial, sans-serif; font-size: 12px; fill: rgb(68, 68, 68); fill-opacity: 1; white-space: pre;\">1</text></g><g class=\"heatmap-label\"><text text-anchor=\"middle\" data-notex=\"1\" x=\"908\" y=\"289.2\" style=\"font-family: 'Open Sans', verdana, arial, sans-serif; font-size: 12px; fill: rgb(68, 68, 68); fill-opacity: 1; white-space: pre;\">0.0</text></g><g class=\"heatmap-label\"><text text-anchor=\"middle\" data-notex=\"1\" x=\"994\" y=\"289.2\" style=\"font-family: 'Open Sans', verdana, arial, sans-serif; font-size: 12px; fill: rgb(68, 68, 68); fill-opacity: 1; white-space: pre;\">0.0</text></g><g class=\"heatmap-label\"><text text-anchor=\"middle\" data-notex=\"1\" x=\"1081\" y=\"289.2\" style=\"font-family: 'Open Sans', verdana, arial, sans-serif; font-size: 12px; fill: rgb(68, 68, 68); fill-opacity: 1; white-space: pre;\">40.0</text></g><g class=\"heatmap-label\"><text text-anchor=\"middle\" data-notex=\"1\" x=\"1167\" y=\"289.2\" style=\"font-family: 'Open Sans', verdana, arial, sans-serif; font-size: 12px; fill: rgb(68, 68, 68); fill-opacity: 1; white-space: pre;\">39</text></g><g class=\"heatmap-label\"><text text-anchor=\"middle\" data-notex=\"1\" x=\"1254\" y=\"289.2\" style=\"font-family: 'Open Sans', verdana, arial, sans-serif; font-size: 12px; fill: rgb(68, 68, 68); fill-opacity: 1; white-space: pre;\">1</text></g><g class=\"heatmap-label\"><text text-anchor=\"middle\" data-notex=\"1\" x=\"43\" y=\"403.2\" style=\"font-family: 'Open Sans', verdana, arial, sans-serif; font-size: 12px; fill: rgb(68, 68, 68); fill-opacity: 1; white-space: pre;\">25.0</text></g><g class=\"heatmap-label\"><text text-anchor=\"middle\" data-notex=\"1\" x=\"130\" y=\"403.2\" style=\"font-family: 'Open Sans', verdana, arial, sans-serif; font-size: 12px; fill: rgb(68, 68, 68); fill-opacity: 1; white-space: pre;\">4</text></g><g class=\"heatmap-label\"><text text-anchor=\"middle\" data-notex=\"1\" x=\"216\" y=\"403.2\" style=\"font-family: 'Open Sans', verdana, arial, sans-serif; font-size: 12px; fill: rgb(68, 68, 68); fill-opacity: 1; white-space: pre;\">236267.0</text></g><g class=\"heatmap-label\"><text text-anchor=\"middle\" data-notex=\"1\" x=\"303\" y=\"403.2\" style=\"font-family: 'Open Sans', verdana, arial, sans-serif; font-size: 12px; fill: rgb(68, 68, 68); fill-opacity: 1; white-space: pre;\">11</text></g><g class=\"heatmap-label\"><text text-anchor=\"middle\" data-notex=\"1\" x=\"389\" y=\"403.2\" style=\"font-family: 'Open Sans', verdana, arial, sans-serif; font-size: 12px; fill: rgb(68, 68, 68); fill-opacity: 1; white-space: pre;\">9.0</text></g><g class=\"heatmap-label\"><text text-anchor=\"middle\" data-notex=\"1\" x=\"476\" y=\"403.2\" style=\"font-family: 'Open Sans', verdana, arial, sans-serif; font-size: 12px; fill: rgb(68, 68, 68); fill-opacity: 1; white-space: pre;\">2</text></g><g class=\"heatmap-label\"><text text-anchor=\"middle\" data-notex=\"1\" x=\"562\" y=\"403.2\" style=\"font-family: 'Open Sans', verdana, arial, sans-serif; font-size: 12px; fill: rgb(68, 68, 68); fill-opacity: 1; white-space: pre;\">6</text></g><g class=\"heatmap-label\"><text text-anchor=\"middle\" data-notex=\"1\" x=\"649\" y=\"403.2\" style=\"font-family: 'Open Sans', verdana, arial, sans-serif; font-size: 12px; fill: rgb(68, 68, 68); fill-opacity: 1; white-space: pre;\">0</text></g><g class=\"heatmap-label\"><text text-anchor=\"middle\" data-notex=\"1\" x=\"735\" y=\"403.2\" style=\"font-family: 'Open Sans', verdana, arial, sans-serif; font-size: 12px; fill: rgb(68, 68, 68); fill-opacity: 1; white-space: pre;\">4</text></g><g class=\"heatmap-label\"><text text-anchor=\"middle\" data-notex=\"1\" x=\"821\" y=\"403.2\" style=\"font-family: 'Open Sans', verdana, arial, sans-serif; font-size: 12px; fill: rgb(68, 68, 68); fill-opacity: 1; white-space: pre;\">1</text></g><g class=\"heatmap-label\"><text text-anchor=\"middle\" data-notex=\"1\" x=\"908\" y=\"403.2\" style=\"font-family: 'Open Sans', verdana, arial, sans-serif; font-size: 12px; fill: rgb(68, 68, 68); fill-opacity: 1; white-space: pre;\">0.0</text></g><g class=\"heatmap-label\"><text text-anchor=\"middle\" data-notex=\"1\" x=\"994\" y=\"403.2\" style=\"font-family: 'Open Sans', verdana, arial, sans-serif; font-size: 12px; fill: rgb(255, 255, 255); fill-opacity: 1; white-space: pre;\">0.0</text></g><g class=\"heatmap-label\"><text text-anchor=\"middle\" data-notex=\"1\" x=\"1081\" y=\"403.2\" style=\"font-family: 'Open Sans', verdana, arial, sans-serif; font-size: 12px; fill: rgb(68, 68, 68); fill-opacity: 1; white-space: pre;\">40.0</text></g><g class=\"heatmap-label\"><text text-anchor=\"middle\" data-notex=\"1\" x=\"1167\" y=\"403.2\" style=\"font-family: 'Open Sans', verdana, arial, sans-serif; font-size: 12px; fill: rgb(68, 68, 68); fill-opacity: 1; white-space: pre;\">39</text></g><g class=\"heatmap-label\"><text text-anchor=\"middle\" data-notex=\"1\" x=\"1254\" y=\"403.2\" style=\"font-family: 'Open Sans', verdana, arial, sans-serif; font-size: 12px; fill: rgb(68, 68, 68); fill-opacity: 1; white-space: pre;\">1</text></g><g class=\"heatmap-label\"><text text-anchor=\"middle\" data-notex=\"1\" x=\"43\" y=\"517.2\" style=\"font-family: 'Open Sans', verdana, arial, sans-serif; font-size: 12px; fill: rgb(68, 68, 68); fill-opacity: 1; white-space: pre;\">20.0</text></g><g class=\"heatmap-label\"><text text-anchor=\"middle\" data-notex=\"1\" x=\"130\" y=\"517.2\" style=\"font-family: 'Open Sans', verdana, arial, sans-serif; font-size: 12px; fill: rgb(68, 68, 68); fill-opacity: 1; white-space: pre;\">0</text></g><g class=\"heatmap-label\"><text text-anchor=\"middle\" data-notex=\"1\" x=\"216\" y=\"517.2\" style=\"font-family: 'Open Sans', verdana, arial, sans-serif; font-size: 12px; fill: rgb(68, 68, 68); fill-opacity: 1; white-space: pre;\">201766.0</text></g><g class=\"heatmap-label\"><text text-anchor=\"middle\" data-notex=\"1\" x=\"303\" y=\"517.2\" style=\"font-family: 'Open Sans', verdana, arial, sans-serif; font-size: 12px; fill: rgb(68, 68, 68); fill-opacity: 1; white-space: pre;\">15</text></g><g class=\"heatmap-label\"><text text-anchor=\"middle\" data-notex=\"1\" x=\"389\" y=\"517.2\" style=\"font-family: 'Open Sans', verdana, arial, sans-serif; font-size: 12px; fill: rgb(68, 68, 68); fill-opacity: 1; white-space: pre;\">10.0</text></g><g class=\"heatmap-label\"><text text-anchor=\"middle\" data-notex=\"1\" x=\"476\" y=\"517.2\" style=\"font-family: 'Open Sans', verdana, arial, sans-serif; font-size: 12px; fill: rgb(68, 68, 68); fill-opacity: 1; white-space: pre;\">4</text></g><g class=\"heatmap-label\"><text text-anchor=\"middle\" data-notex=\"1\" x=\"562\" y=\"517.2\" style=\"font-family: 'Open Sans', verdana, arial, sans-serif; font-size: 12px; fill: rgb(68, 68, 68); fill-opacity: 1; white-space: pre;\">0</text></g><g class=\"heatmap-label\"><text text-anchor=\"middle\" data-notex=\"1\" x=\"649\" y=\"517.2\" style=\"font-family: 'Open Sans', verdana, arial, sans-serif; font-size: 12px; fill: rgb(68, 68, 68); fill-opacity: 1; white-space: pre;\">3</text></g><g class=\"heatmap-label\"><text text-anchor=\"middle\" data-notex=\"1\" x=\"735\" y=\"517.2\" style=\"font-family: 'Open Sans', verdana, arial, sans-serif; font-size: 12px; fill: rgb(68, 68, 68); fill-opacity: 1; white-space: pre;\">4</text></g><g class=\"heatmap-label\"><text text-anchor=\"middle\" data-notex=\"1\" x=\"821\" y=\"517.2\" style=\"font-family: 'Open Sans', verdana, arial, sans-serif; font-size: 12px; fill: rgb(68, 68, 68); fill-opacity: 1; white-space: pre;\">0</text></g><g class=\"heatmap-label\"><text text-anchor=\"middle\" data-notex=\"1\" x=\"908\" y=\"517.2\" style=\"font-family: 'Open Sans', verdana, arial, sans-serif; font-size: 12px; fill: rgb(68, 68, 68); fill-opacity: 1; white-space: pre;\">0.0</text></g><g class=\"heatmap-label\"><text text-anchor=\"middle\" data-notex=\"1\" x=\"994\" y=\"517.2\" style=\"font-family: 'Open Sans', verdana, arial, sans-serif; font-size: 12px; fill: rgb(68, 68, 68); fill-opacity: 1; white-space: pre;\">0.0</text></g><g class=\"heatmap-label\"><text text-anchor=\"middle\" data-notex=\"1\" x=\"1081\" y=\"517.2\" style=\"font-family: 'Open Sans', verdana, arial, sans-serif; font-size: 12px; fill: rgb(68, 68, 68); fill-opacity: 1; white-space: pre;\">35.0</text></g><g class=\"heatmap-label\"><text text-anchor=\"middle\" data-notex=\"1\" x=\"1167\" y=\"517.2\" style=\"font-family: 'Open Sans', verdana, arial, sans-serif; font-size: 12px; fill: rgb(68, 68, 68); fill-opacity: 1; white-space: pre;\">39</text></g><g class=\"heatmap-label\"><text text-anchor=\"middle\" data-notex=\"1\" x=\"1254\" y=\"517.2\" style=\"font-family: 'Open Sans', verdana, arial, sans-serif; font-size: 12px; fill: rgb(68, 68, 68); fill-opacity: 1; white-space: pre;\">1</text></g></g></g></g></g><path class=\"xlines-above crisp\" d=\"M0,0\" style=\"fill: none;\"/><path class=\"ylines-above crisp\" d=\"M0,0\" style=\"fill: none;\"/><g class=\"overlines-above\"/><g class=\"xaxislayer-above\"><g class=\"xtick\"><text text-anchor=\"middle\" x=\"0\" y=\"683\" transform=\"translate(123.22999999999999,0)\" style=\"font-family: 'Open Sans', verdana, arial, sans-serif; font-size: 12px; fill: rgb(42, 63, 95); fill-opacity: 1; white-space: pre; opacity: 1;\">age</text></g><g class=\"xtick\"><text text-anchor=\"middle\" x=\"0\" y=\"683\" transform=\"translate(209.7,0)\" style=\"font-family: 'Open Sans', verdana, arial, sans-serif; font-size: 12px; fill: rgb(42, 63, 95); fill-opacity: 1; white-space: pre; opacity: 1;\">workclass</text></g><g class=\"xtick\"><text text-anchor=\"middle\" x=\"0\" y=\"683\" transform=\"translate(296.16999999999996,0)\" style=\"font-family: 'Open Sans', verdana, arial, sans-serif; font-size: 12px; fill: rgb(42, 63, 95); fill-opacity: 1; white-space: pre; opacity: 1;\">fnlwgt</text></g><g class=\"xtick\"><text text-anchor=\"middle\" x=\"0\" y=\"683\" transform=\"translate(382.63,0)\" style=\"font-family: 'Open Sans', verdana, arial, sans-serif; font-size: 12px; fill: rgb(42, 63, 95); fill-opacity: 1; white-space: pre; opacity: 1;\">education</text></g><g class=\"xtick\"><text text-anchor=\"middle\" x=\"0\" y=\"683\" transform=\"translate(469.1,0)\" style=\"font-family: 'Open Sans', verdana, arial, sans-serif; font-size: 12px; fill: rgb(42, 63, 95); fill-opacity: 1; white-space: pre; opacity: 1;\">education-num</text></g><g class=\"xtick\"><text text-anchor=\"middle\" x=\"0\" y=\"683\" transform=\"translate(555.5699999999999,0)\" style=\"font-family: 'Open Sans', verdana, arial, sans-serif; font-size: 12px; fill: rgb(42, 63, 95); fill-opacity: 1; white-space: pre; opacity: 1;\">marital-status</text></g><g class=\"xtick\"><text text-anchor=\"middle\" x=\"0\" y=\"683\" transform=\"translate(642.03,0)\" style=\"font-family: 'Open Sans', verdana, arial, sans-serif; font-size: 12px; fill: rgb(42, 63, 95); fill-opacity: 1; white-space: pre; opacity: 1;\">occupation</text></g><g class=\"xtick\"><text text-anchor=\"middle\" x=\"0\" y=\"683\" transform=\"translate(728.5,0)\" style=\"font-family: 'Open Sans', verdana, arial, sans-serif; font-size: 12px; fill: rgb(42, 63, 95); fill-opacity: 1; white-space: pre; opacity: 1;\">relationship</text></g><g class=\"xtick\"><text text-anchor=\"middle\" x=\"0\" y=\"683\" transform=\"translate(814.97,0)\" style=\"font-family: 'Open Sans', verdana, arial, sans-serif; font-size: 12px; fill: rgb(42, 63, 95); fill-opacity: 1; white-space: pre; opacity: 1;\">race</text></g><g class=\"xtick\"><text text-anchor=\"middle\" x=\"0\" y=\"683\" transform=\"translate(901.43,0)\" style=\"font-family: 'Open Sans', verdana, arial, sans-serif; font-size: 12px; fill: rgb(42, 63, 95); fill-opacity: 1; white-space: pre; opacity: 1;\">sex</text></g><g class=\"xtick\"><text text-anchor=\"middle\" x=\"0\" y=\"683\" transform=\"translate(987.9,0)\" style=\"font-family: 'Open Sans', verdana, arial, sans-serif; font-size: 12px; fill: rgb(42, 63, 95); fill-opacity: 1; white-space: pre; opacity: 1;\">capital-gain</text></g><g class=\"xtick\"><text text-anchor=\"middle\" x=\"0\" y=\"683\" transform=\"translate(1074.37,0)\" style=\"font-family: 'Open Sans', verdana, arial, sans-serif; font-size: 12px; fill: rgb(42, 63, 95); fill-opacity: 1; white-space: pre; opacity: 1;\">capital-loss</text></g><g class=\"xtick\"><text text-anchor=\"middle\" x=\"0\" y=\"683\" transform=\"translate(1160.83,0)\" style=\"font-family: 'Open Sans', verdana, arial, sans-serif; font-size: 12px; fill: rgb(42, 63, 95); fill-opacity: 1; white-space: pre; opacity: 1;\">hours-per-week</text></g><g class=\"xtick\"><text text-anchor=\"middle\" x=\"0\" y=\"683\" transform=\"translate(1247.3,0)\" style=\"font-family: 'Open Sans', verdana, arial, sans-serif; font-size: 12px; fill: rgb(42, 63, 95); fill-opacity: 1; white-space: pre; opacity: 1;\">native-country</text></g><g class=\"xtick\"><text text-anchor=\"middle\" x=\"0\" y=\"683\" transform=\"translate(1333.77,0)\" style=\"font-family: 'Open Sans', verdana, arial, sans-serif; font-size: 12px; fill: rgb(42, 63, 95); fill-opacity: 1; white-space: pre; opacity: 1;\">target</text></g></g><g class=\"yaxislayer-above\"><g class=\"ytick\"><text text-anchor=\"end\" x=\"79\" y=\"4.199999999999999\" transform=\"translate(0,613)\" style=\"font-family: 'Open Sans', verdana, arial, sans-serif; font-size: 12px; fill: rgb(42, 63, 95); fill-opacity: 1; white-space: pre; opacity: 1;\">4</text></g><g class=\"ytick\"><text text-anchor=\"end\" x=\"79\" y=\"4.199999999999999\" style=\"font-family: 'Open Sans', verdana, arial, sans-serif; font-size: 12px; fill: rgb(42, 63, 95); fill-opacity: 1; white-space: pre; opacity: 1;\" transform=\"translate(0,499)\">3</text></g><g class=\"ytick\"><text text-anchor=\"end\" x=\"79\" y=\"4.199999999999999\" style=\"font-family: 'Open Sans', verdana, arial, sans-serif; font-size: 12px; fill: rgb(42, 63, 95); fill-opacity: 1; white-space: pre; opacity: 1;\" transform=\"translate(0,385)\">2</text></g><g class=\"ytick\"><text text-anchor=\"end\" x=\"79\" y=\"4.199999999999999\" style=\"font-family: 'Open Sans', verdana, arial, sans-serif; font-size: 12px; fill: rgb(42, 63, 95); fill-opacity: 1; white-space: pre; opacity: 1;\" transform=\"translate(0,271)\">1</text></g><g class=\"ytick\"><text text-anchor=\"end\" x=\"79\" y=\"4.199999999999999\" style=\"font-family: 'Open Sans', verdana, arial, sans-serif; font-size: 12px; fill: rgb(42, 63, 95); fill-opacity: 1; white-space: pre; opacity: 1;\" transform=\"translate(0,157)\">0</text></g></g><g class=\"overaxes-above\"/></g></g><g class=\"polarlayer\"/><g class=\"smithlayer\"/><g class=\"ternarylayer\"/><g class=\"geolayer\"/><g class=\"funnelarealayer\"/><g class=\"pielayer\"/><g class=\"iciclelayer\"/><g class=\"treemaplayer\"/><g class=\"sunburstlayer\"/><g class=\"glimages\"/><defs id=\"topdefs-5b21d0\"><g class=\"clips\"/></defs><g class=\"layer-above\"><g class=\"imagelayer\"/><g class=\"shapelayer\"/></g><g class=\"infolayer\"><g class=\"cbcoloraxis colorbar\" transform=\"translate(80,100)\"><rect class=\"cbbg\" x=\"1323\" y=\"0\" width=\"85.314453125\" height=\"570\" style=\"fill: rgb(0, 0, 0); fill-opacity: 0; stroke: rgb(68, 68, 68); stroke-opacity: 1; stroke-width: 0;\"/><g class=\"cbfills\" transform=\"translate(0,31)\"><rect class=\"cbfill gradient_filled\" style=\"fill: url('#g5b21d0-cbcoloraxis');\" x=\"1333\" y=\"0\" width=\"30\" height=\"529\"/></g><g class=\"cblines\" transform=\"translate(0,31)\"/><g class=\"cbaxis crisp\" transform=\"translate(0,-100)\"><g class=\"ycbcoloraxistick\"><text text-anchor=\"start\" x=\"1365.9\" y=\"4.199999999999999\" transform=\"translate(0,660)\" style=\"font-family: 'Open Sans', verdana, arial, sans-serif; font-size: 12px; fill: rgb(42, 63, 95); fill-opacity: 1; white-space: pre; opacity: 1;\">0</text></g><g class=\"ycbcoloraxistick\"><text text-anchor=\"start\" x=\"1365.9\" y=\"4.199999999999999\" style=\"font-family: 'Open Sans', verdana, arial, sans-serif; font-size: 12px; fill: rgb(42, 63, 95); fill-opacity: 1; white-space: pre; opacity: 1;\" transform=\"translate(0,607.1)\">0.5</text></g><g class=\"ycbcoloraxistick\"><text text-anchor=\"start\" x=\"1365.9\" y=\"4.199999999999999\" style=\"font-family: 'Open Sans', verdana, arial, sans-serif; font-size: 12px; fill: rgb(42, 63, 95); fill-opacity: 1; white-space: pre; opacity: 1;\" transform=\"translate(0,554.2)\">1</text></g><g class=\"ycbcoloraxistick\"><text text-anchor=\"start\" x=\"1365.9\" y=\"4.199999999999999\" style=\"font-family: 'Open Sans', verdana, arial, sans-serif; font-size: 12px; fill: rgb(42, 63, 95); fill-opacity: 1; white-space: pre; opacity: 1;\" transform=\"translate(0,501.30000000000007)\">1.5</text></g><g class=\"ycbcoloraxistick\"><text text-anchor=\"start\" x=\"1365.9\" y=\"4.199999999999999\" style=\"font-family: 'Open Sans', verdana, arial, sans-serif; font-size: 12px; fill: rgb(42, 63, 95); fill-opacity: 1; white-space: pre; opacity: 1;\" transform=\"translate(0,448.4)\">2</text></g><g class=\"ycbcoloraxistick\"><text text-anchor=\"start\" x=\"1365.9\" y=\"4.199999999999999\" style=\"font-family: 'Open Sans', verdana, arial, sans-serif; font-size: 12px; fill: rgb(42, 63, 95); fill-opacity: 1; white-space: pre; opacity: 1;\" transform=\"translate(0,395.5)\">2.5</text></g><g class=\"ycbcoloraxistick\"><text text-anchor=\"start\" x=\"1365.9\" y=\"4.199999999999999\" style=\"font-family: 'Open Sans', verdana, arial, sans-serif; font-size: 12px; fill: rgb(42, 63, 95); fill-opacity: 1; white-space: pre; opacity: 1;\" transform=\"translate(0,342.6)\">3</text></g><g class=\"ycbcoloraxistick\"><text text-anchor=\"start\" x=\"1365.9\" y=\"4.199999999999999\" style=\"font-family: 'Open Sans', verdana, arial, sans-serif; font-size: 12px; fill: rgb(42, 63, 95); fill-opacity: 1; white-space: pre; opacity: 1;\" transform=\"translate(0,289.70000000000005)\">3.5</text></g><g class=\"ycbcoloraxistick\"><text text-anchor=\"start\" x=\"1365.9\" y=\"4.199999999999999\" style=\"font-family: 'Open Sans', verdana, arial, sans-serif; font-size: 12px; fill: rgb(42, 63, 95); fill-opacity: 1; white-space: pre; opacity: 1;\" transform=\"translate(0,236.8)\">4</text></g><g class=\"ycbcoloraxistick\"><text text-anchor=\"start\" x=\"1365.9\" y=\"4.199999999999999\" style=\"font-family: 'Open Sans', verdana, arial, sans-serif; font-size: 12px; fill: rgb(42, 63, 95); fill-opacity: 1; white-space: pre; opacity: 1;\" transform=\"translate(0,183.90000000000003)\">4.5</text></g><g class=\"ycbcoloraxistick\"><text text-anchor=\"start\" x=\"1365.9\" y=\"4.199999999999999\" style=\"font-family: 'Open Sans', verdana, arial, sans-serif; font-size: 12px; fill: rgb(42, 63, 95); fill-opacity: 1; white-space: pre; opacity: 1;\" transform=\"translate(0,131.00000000000003)\">≥5</text></g></g><g class=\"cbtitleunshift\" transform=\"translate(-80,-100)\"><g class=\"cbtitle\" transform=\"\"><text class=\"ycbcoloraxistitle\" x=\"1412.94\" y=\"123.5\" text-anchor=\"start\" style=\"opacity: 1; font-family: 'Open Sans', verdana, arial, sans-serif; font-size: 14px; fill: rgb(42, 63, 95); fill-opacity: 1; white-space: pre;\">Conviction</text></g></g><rect class=\"cboutline\" x=\"1333\" y=\"31\" width=\"30\" height=\"529\" style=\"stroke: rgb(68, 68, 68); stroke-opacity: 1; fill: none; stroke-width: 0;\"/></g><g class=\"g-gtitle\"><text class=\"gtitle\" x=\"75\" y=\"50\" text-anchor=\"start\" dy=\"0em\" style=\"opacity: 1; font-family: 'Open Sans', verdana, arial, sans-serif; font-size: 17px; fill: rgb(42, 63, 95); fill-opacity: 1; white-space: pre;\">Anomalies</text></g><g class=\"g-xtitle\"><text class=\"xtitle\" x=\"728.5\" y=\"710.3\" text-anchor=\"middle\" style=\"opacity: 1; font-family: 'Open Sans', verdana, arial, sans-serif; font-size: 14px; fill: rgb(42, 63, 95); fill-opacity: 1; white-space: pre;\">Feature</text></g><g class=\"g-ytitle\"/></g></svg>"
      ]
     },
     "metadata": {},
     "output_type": "display_data"
    }
   ],
   "source": [
    "fig = plot_anomalies(inliers, inlier_case_feature_residual_convictions)\n",
    "fig.show(width=1500, height=750)"
   ]
  },
  {
   "attachments": {},
   "cell_type": "markdown",
   "metadata": {},
   "source": [
    "This chart is viewed similarly to the outliers chart, however we are now examining cases that are too similar. We can see that for several cases, most features show high `feature_residual_conviction`, indicating that that feature can very easily predicted using the other features. This indicates that all these feature values are unusually predictable compared to the rest of the cases in the model."
   ]
  },
  {
   "attachments": {},
   "cell_type": "markdown",
   "metadata": {},
   "source": [
    "# Section 4: Additional Ideas\n",
    "\n",
    "Here we detail some additional examples methods of diving deeper into the possible anomalies detected above."
   ]
  },
  {
   "cell_type": "code",
   "execution_count": 12,
   "metadata": {
    "execution": {
     "iopub.execute_input": "2025-09-08T15:30:27.397669Z",
     "iopub.status.busy": "2025-09-08T15:30:27.397410Z",
     "iopub.status.idle": "2025-09-08T15:30:27.402850Z",
     "shell.execute_reply": "2025-09-08T15:30:27.402311Z"
    }
   },
   "outputs": [],
   "source": [
    "# Helper functions\n",
    "\n",
    "def case_explain_residuals_ratio(anomalous_df, case_feature_residual_convictions, case_ind, num_features=5):\n",
    "    \"\"\"Inspect a single case and identify which of its features are particularly anomalous.\"\"\"\n",
    "    case = anomalous_df.iloc[case_ind, : ]\n",
    "    case_num = case['.session_training_index']\n",
    "    case_df = pd.concat([case, case_feature_residual_convictions.iloc[case_ind, :]], axis=1)\n",
    "    case_df = case_df.loc[df.columns]\n",
    "    case_df.columns = ['values', 'feature_full_residual_convictions_for_case']\n",
    "    case_df = case_df.sort_values(['feature_full_residual_convictions_for_case'], ascending=True)\n",
    "    print(f'key features which caused case {case_num} to be anomalous: {case_df.head().index.tolist()}')\n",
    "    print('')\n",
    "    display(case_df.head())\n",
    "\n",
    "def get_cases(anomalous_df, results, case_ind):\n",
    "    \"\"\"Inspect a single anomalous case and display its influential and boundary cases.\"\"\"\n",
    "    case = anomalous_df.iloc[case_ind, :]\n",
    "    inf_cases = pd.DataFrame(results['details']['influential_cases'][case_ind])\n",
    "\n",
    "    print('Original Case:')\n",
    "    display(case)\n",
    "    print('')\n",
    "\n",
    "    print('Influential Cases:')\n",
    "    display(inf_cases)\n",
    "    print('')"
   ]
  },
  {
   "attachments": {},
   "cell_type": "markdown",
   "metadata": {},
   "source": [
    "We can print out a more detailed view of the Outlier Residual Conviction chart shown earlier."
   ]
  },
  {
   "cell_type": "code",
   "execution_count": 13,
   "metadata": {
    "execution": {
     "iopub.execute_input": "2025-09-08T15:30:27.404714Z",
     "iopub.status.busy": "2025-09-08T15:30:27.404533Z",
     "iopub.status.idle": "2025-09-08T15:30:27.417722Z",
     "shell.execute_reply": "2025-09-08T15:30:27.417168Z"
    }
   },
   "outputs": [
    {
     "name": "stdout",
     "output_type": "stream",
     "text": [
      "key features which caused case 540 to be anomalous: ['education-num', 'native-country', 'race', 'sex', 'occupation']\n",
      "\n"
     ]
    },
    {
     "data": {
      "text/html": [
       "<div>\n",
       "<style scoped>\n",
       "    .dataframe tbody tr th:only-of-type {\n",
       "        vertical-align: middle;\n",
       "    }\n",
       "\n",
       "    .dataframe tbody tr th {\n",
       "        vertical-align: top;\n",
       "    }\n",
       "\n",
       "    .dataframe thead th {\n",
       "        text-align: right;\n",
       "    }\n",
       "</style>\n",
       "<table border=\"1\" class=\"dataframe\">\n",
       "  <thead>\n",
       "    <tr style=\"text-align: right;\">\n",
       "      <th></th>\n",
       "      <th>values</th>\n",
       "      <th>feature_full_residual_convictions_for_case</th>\n",
       "    </tr>\n",
       "  </thead>\n",
       "  <tbody>\n",
       "    <tr>\n",
       "      <th>education-num</th>\n",
       "      <td>1.0</td>\n",
       "      <td>0.005821</td>\n",
       "    </tr>\n",
       "    <tr>\n",
       "      <th>native-country</th>\n",
       "      <td>26</td>\n",
       "      <td>0.199318</td>\n",
       "    </tr>\n",
       "    <tr>\n",
       "      <th>race</th>\n",
       "      <td>4</td>\n",
       "      <td>0.248617</td>\n",
       "    </tr>\n",
       "    <tr>\n",
       "      <th>sex</th>\n",
       "      <td>1</td>\n",
       "      <td>0.494393</td>\n",
       "    </tr>\n",
       "    <tr>\n",
       "      <th>occupation</th>\n",
       "      <td>5</td>\n",
       "      <td>0.792264</td>\n",
       "    </tr>\n",
       "  </tbody>\n",
       "</table>\n",
       "</div>"
      ],
      "text/plain": [
       "               values  feature_full_residual_convictions_for_case\n",
       "education-num     1.0                                    0.005821\n",
       "native-country     26                                    0.199318\n",
       "race                4                                    0.248617\n",
       "sex                 1                                    0.494393\n",
       "occupation          5                                    0.792264"
      ]
     },
     "metadata": {},
     "output_type": "display_data"
    },
    {
     "name": "stdout",
     "output_type": "stream",
     "text": [
      "_____________\n",
      "key features which caused case 732 to be anomalous: ['education-num', 'native-country', 'race', 'sex', 'occupation']\n",
      "\n"
     ]
    },
    {
     "data": {
      "text/html": [
       "<div>\n",
       "<style scoped>\n",
       "    .dataframe tbody tr th:only-of-type {\n",
       "        vertical-align: middle;\n",
       "    }\n",
       "\n",
       "    .dataframe tbody tr th {\n",
       "        vertical-align: top;\n",
       "    }\n",
       "\n",
       "    .dataframe thead th {\n",
       "        text-align: right;\n",
       "    }\n",
       "</style>\n",
       "<table border=\"1\" class=\"dataframe\">\n",
       "  <thead>\n",
       "    <tr style=\"text-align: right;\">\n",
       "      <th></th>\n",
       "      <th>values</th>\n",
       "      <th>feature_full_residual_convictions_for_case</th>\n",
       "    </tr>\n",
       "  </thead>\n",
       "  <tbody>\n",
       "    <tr>\n",
       "      <th>education-num</th>\n",
       "      <td>1.0</td>\n",
       "      <td>0.000279</td>\n",
       "    </tr>\n",
       "    <tr>\n",
       "      <th>native-country</th>\n",
       "      <td>25</td>\n",
       "      <td>0.199318</td>\n",
       "    </tr>\n",
       "    <tr>\n",
       "      <th>race</th>\n",
       "      <td>1</td>\n",
       "      <td>0.248617</td>\n",
       "    </tr>\n",
       "    <tr>\n",
       "      <th>sex</th>\n",
       "      <td>0</td>\n",
       "      <td>0.257939</td>\n",
       "    </tr>\n",
       "    <tr>\n",
       "      <th>occupation</th>\n",
       "      <td>8</td>\n",
       "      <td>0.854814</td>\n",
       "    </tr>\n",
       "  </tbody>\n",
       "</table>\n",
       "</div>"
      ],
      "text/plain": [
       "               values  feature_full_residual_convictions_for_case\n",
       "education-num     1.0                                    0.000279\n",
       "native-country     25                                    0.199318\n",
       "race                1                                    0.248617\n",
       "sex                 0                                    0.257939\n",
       "occupation          8                                    0.854814"
      ]
     },
     "metadata": {},
     "output_type": "display_data"
    },
    {
     "name": "stdout",
     "output_type": "stream",
     "text": [
      "_____________\n"
     ]
    }
   ],
   "source": [
    "# Print out the explanations for outliers\n",
    "for i in range(2):\n",
    "    case_explain_residuals_ratio(\n",
    "        outliers,\n",
    "        outlier_case_feature_residual_convictions,\n",
    "        i\n",
    "    )\n",
    "    print('_____________')"
   ]
  },
  {
   "attachments": {},
   "cell_type": "markdown",
   "metadata": {},
   "source": [
    "## Influential cases\n",
    "\n",
    "[Influential Cases](https://docs.howso.com/en/release-latest/getting_started/terminology.html#influential-cases) may also provide additional clues into potentially anomalous data. If a case's influential cases do not well represent itself, then this indicates there are no cases in the model that well represent the anomalous cases.\n"
   ]
  },
  {
   "cell_type": "code",
   "execution_count": 14,
   "metadata": {
    "execution": {
     "iopub.execute_input": "2025-09-08T15:30:27.419459Z",
     "iopub.status.busy": "2025-09-08T15:30:27.419277Z",
     "iopub.status.idle": "2025-09-08T15:30:27.440855Z",
     "shell.execute_reply": "2025-09-08T15:30:27.440323Z"
    }
   },
   "outputs": [
    {
     "name": "stdout",
     "output_type": "stream",
     "text": [
      "Original Case:\n"
     ]
    },
    {
     "data": {
      "text/plain": [
       "age                                                                30.0\n",
       "workclass                                                             4\n",
       "fnlwgt                                                         193598.0\n",
       "education                                                            13\n",
       "education-num                                                       1.0\n",
       "marital-status                                                        4\n",
       "occupation                                                            5\n",
       "relationship                                                          1\n",
       "race                                                                  4\n",
       "sex                                                                   1\n",
       "capital-gain                                                        0.0\n",
       "capital-loss                                                        0.0\n",
       "hours-per-week                                                     40.0\n",
       "native-country                                                       26\n",
       "target                                                                1\n",
       "familiarity_conviction_addition                                0.020019\n",
       ".session_training_index                                             540\n",
       ".session                           6239c8e1-cd27-47a1-af5e-a6f62c4491eb\n",
       "distance_contribution                                        306.265156\n",
       "category                                                        outlier\n",
       "Name: 0, dtype: object"
      ]
     },
     "metadata": {},
     "output_type": "display_data"
    },
    {
     "name": "stdout",
     "output_type": "stream",
     "text": [
      "\n",
      "Influential Cases:\n"
     ]
    },
    {
     "data": {
      "text/html": [
       "<div>\n",
       "<style scoped>\n",
       "    .dataframe tbody tr th:only-of-type {\n",
       "        vertical-align: middle;\n",
       "    }\n",
       "\n",
       "    .dataframe tbody tr th {\n",
       "        vertical-align: top;\n",
       "    }\n",
       "\n",
       "    .dataframe thead th {\n",
       "        text-align: right;\n",
       "    }\n",
       "</style>\n",
       "<table border=\"1\" class=\"dataframe\">\n",
       "  <thead>\n",
       "    <tr style=\"text-align: right;\">\n",
       "      <th></th>\n",
       "      <th>fnlwgt</th>\n",
       "      <th>.session</th>\n",
       "      <th>relationship</th>\n",
       "      <th>capital-gain</th>\n",
       "      <th>native-country</th>\n",
       "      <th>marital-status</th>\n",
       "      <th>.session_training_index</th>\n",
       "      <th>age</th>\n",
       "      <th>education</th>\n",
       "      <th>capital-loss</th>\n",
       "      <th>race</th>\n",
       "      <th>workclass</th>\n",
       "      <th>sex</th>\n",
       "      <th>.influence_weight</th>\n",
       "      <th>occupation</th>\n",
       "      <th>education-num</th>\n",
       "      <th>hours-per-week</th>\n",
       "      <th>target</th>\n",
       "    </tr>\n",
       "  </thead>\n",
       "  <tbody>\n",
       "    <tr>\n",
       "      <th>0</th>\n",
       "      <td>173449</td>\n",
       "      <td>6239c8e1-cd27-47a1-af5e-a6f62c4491eb</td>\n",
       "      <td>0</td>\n",
       "      <td>0</td>\n",
       "      <td>39</td>\n",
       "      <td>2</td>\n",
       "      <td>510</td>\n",
       "      <td>32</td>\n",
       "      <td>11</td>\n",
       "      <td>0</td>\n",
       "      <td>4</td>\n",
       "      <td>4</td>\n",
       "      <td>1</td>\n",
       "      <td>0.526602</td>\n",
       "      <td>6</td>\n",
       "      <td>9</td>\n",
       "      <td>40</td>\n",
       "      <td>1</td>\n",
       "    </tr>\n",
       "    <tr>\n",
       "      <th>1</th>\n",
       "      <td>96245</td>\n",
       "      <td>6239c8e1-cd27-47a1-af5e-a6f62c4491eb</td>\n",
       "      <td>0</td>\n",
       "      <td>0</td>\n",
       "      <td>39</td>\n",
       "      <td>2</td>\n",
       "      <td>604</td>\n",
       "      <td>31</td>\n",
       "      <td>11</td>\n",
       "      <td>0</td>\n",
       "      <td>4</td>\n",
       "      <td>4</td>\n",
       "      <td>1</td>\n",
       "      <td>0.157386</td>\n",
       "      <td>6</td>\n",
       "      <td>9</td>\n",
       "      <td>42</td>\n",
       "      <td>1</td>\n",
       "    </tr>\n",
       "    <tr>\n",
       "      <th>2</th>\n",
       "      <td>269705</td>\n",
       "      <td>6239c8e1-cd27-47a1-af5e-a6f62c4491eb</td>\n",
       "      <td>0</td>\n",
       "      <td>0</td>\n",
       "      <td>39</td>\n",
       "      <td>2</td>\n",
       "      <td>407</td>\n",
       "      <td>33</td>\n",
       "      <td>11</td>\n",
       "      <td>0</td>\n",
       "      <td>4</td>\n",
       "      <td>4</td>\n",
       "      <td>1</td>\n",
       "      <td>0.122871</td>\n",
       "      <td>6</td>\n",
       "      <td>9</td>\n",
       "      <td>40</td>\n",
       "      <td>1</td>\n",
       "    </tr>\n",
       "    <tr>\n",
       "      <th>3</th>\n",
       "      <td>218667</td>\n",
       "      <td>6239c8e1-cd27-47a1-af5e-a6f62c4491eb</td>\n",
       "      <td>0</td>\n",
       "      <td>0</td>\n",
       "      <td>39</td>\n",
       "      <td>2</td>\n",
       "      <td>881</td>\n",
       "      <td>25</td>\n",
       "      <td>11</td>\n",
       "      <td>0</td>\n",
       "      <td>4</td>\n",
       "      <td>4</td>\n",
       "      <td>1</td>\n",
       "      <td>0.108620</td>\n",
       "      <td>6</td>\n",
       "      <td>9</td>\n",
       "      <td>40</td>\n",
       "      <td>1</td>\n",
       "    </tr>\n",
       "    <tr>\n",
       "      <th>4</th>\n",
       "      <td>236267</td>\n",
       "      <td>6239c8e1-cd27-47a1-af5e-a6f62c4491eb</td>\n",
       "      <td>0</td>\n",
       "      <td>0</td>\n",
       "      <td>39</td>\n",
       "      <td>2</td>\n",
       "      <td>269</td>\n",
       "      <td>25</td>\n",
       "      <td>11</td>\n",
       "      <td>0</td>\n",
       "      <td>4</td>\n",
       "      <td>4</td>\n",
       "      <td>1</td>\n",
       "      <td>0.084522</td>\n",
       "      <td>6</td>\n",
       "      <td>9</td>\n",
       "      <td>40</td>\n",
       "      <td>1</td>\n",
       "    </tr>\n",
       "  </tbody>\n",
       "</table>\n",
       "</div>"
      ],
      "text/plain": [
       "   fnlwgt                              .session  relationship  capital-gain  \\\n",
       "0  173449  6239c8e1-cd27-47a1-af5e-a6f62c4491eb             0             0   \n",
       "1   96245  6239c8e1-cd27-47a1-af5e-a6f62c4491eb             0             0   \n",
       "2  269705  6239c8e1-cd27-47a1-af5e-a6f62c4491eb             0             0   \n",
       "3  218667  6239c8e1-cd27-47a1-af5e-a6f62c4491eb             0             0   \n",
       "4  236267  6239c8e1-cd27-47a1-af5e-a6f62c4491eb             0             0   \n",
       "\n",
       "   native-country  marital-status  .session_training_index  age  education  \\\n",
       "0              39               2                      510   32         11   \n",
       "1              39               2                      604   31         11   \n",
       "2              39               2                      407   33         11   \n",
       "3              39               2                      881   25         11   \n",
       "4              39               2                      269   25         11   \n",
       "\n",
       "   capital-loss  race  workclass  sex  .influence_weight  occupation  \\\n",
       "0             0     4          4    1           0.526602           6   \n",
       "1             0     4          4    1           0.157386           6   \n",
       "2             0     4          4    1           0.122871           6   \n",
       "3             0     4          4    1           0.108620           6   \n",
       "4             0     4          4    1           0.084522           6   \n",
       "\n",
       "   education-num  hours-per-week  target  \n",
       "0              9              40       1  \n",
       "1              9              42       1  \n",
       "2              9              40       1  \n",
       "3              9              40       1  \n",
       "4              9              40       1  "
      ]
     },
     "metadata": {},
     "output_type": "display_data"
    },
    {
     "name": "stdout",
     "output_type": "stream",
     "text": [
      "\n",
      "_____________\n",
      "Original Case:\n"
     ]
    },
    {
     "data": {
      "text/plain": [
       "age                                                                23.0\n",
       "workclass                                                             4\n",
       "fnlwgt                                                         240049.0\n",
       "education                                                            13\n",
       "education-num                                                       1.0\n",
       "marital-status                                                        4\n",
       "occupation                                                            8\n",
       "relationship                                                          1\n",
       "race                                                                  1\n",
       "sex                                                                   0\n",
       "capital-gain                                                        0.0\n",
       "capital-loss                                                        0.0\n",
       "hours-per-week                                                     40.0\n",
       "native-country                                                       25\n",
       "target                                                                1\n",
       "familiarity_conviction_addition                                0.023355\n",
       ".session_training_index                                             732\n",
       ".session                           6239c8e1-cd27-47a1-af5e-a6f62c4491eb\n",
       "distance_contribution                                        280.379224\n",
       "category                                                        outlier\n",
       "Name: 1, dtype: object"
      ]
     },
     "metadata": {},
     "output_type": "display_data"
    },
    {
     "name": "stdout",
     "output_type": "stream",
     "text": [
      "\n",
      "Influential Cases:\n"
     ]
    },
    {
     "data": {
      "text/html": [
       "<div>\n",
       "<style scoped>\n",
       "    .dataframe tbody tr th:only-of-type {\n",
       "        vertical-align: middle;\n",
       "    }\n",
       "\n",
       "    .dataframe tbody tr th {\n",
       "        vertical-align: top;\n",
       "    }\n",
       "\n",
       "    .dataframe thead th {\n",
       "        text-align: right;\n",
       "    }\n",
       "</style>\n",
       "<table border=\"1\" class=\"dataframe\">\n",
       "  <thead>\n",
       "    <tr style=\"text-align: right;\">\n",
       "      <th></th>\n",
       "      <th>fnlwgt</th>\n",
       "      <th>.session</th>\n",
       "      <th>relationship</th>\n",
       "      <th>capital-gain</th>\n",
       "      <th>native-country</th>\n",
       "      <th>marital-status</th>\n",
       "      <th>.session_training_index</th>\n",
       "      <th>age</th>\n",
       "      <th>education</th>\n",
       "      <th>capital-loss</th>\n",
       "      <th>race</th>\n",
       "      <th>workclass</th>\n",
       "      <th>sex</th>\n",
       "      <th>.influence_weight</th>\n",
       "      <th>occupation</th>\n",
       "      <th>education-num</th>\n",
       "      <th>hours-per-week</th>\n",
       "      <th>target</th>\n",
       "    </tr>\n",
       "  </thead>\n",
       "  <tbody>\n",
       "    <tr>\n",
       "      <th>0</th>\n",
       "      <td>236267</td>\n",
       "      <td>6239c8e1-cd27-47a1-af5e-a6f62c4491eb</td>\n",
       "      <td>0</td>\n",
       "      <td>0</td>\n",
       "      <td>39</td>\n",
       "      <td>2</td>\n",
       "      <td>269</td>\n",
       "      <td>25</td>\n",
       "      <td>11</td>\n",
       "      <td>0</td>\n",
       "      <td>4</td>\n",
       "      <td>4</td>\n",
       "      <td>1</td>\n",
       "      <td>0.832923</td>\n",
       "      <td>6</td>\n",
       "      <td>9</td>\n",
       "      <td>40</td>\n",
       "      <td>1</td>\n",
       "    </tr>\n",
       "    <tr>\n",
       "      <th>1</th>\n",
       "      <td>190228</td>\n",
       "      <td>6239c8e1-cd27-47a1-af5e-a6f62c4491eb</td>\n",
       "      <td>0</td>\n",
       "      <td>0</td>\n",
       "      <td>39</td>\n",
       "      <td>2</td>\n",
       "      <td>198</td>\n",
       "      <td>30</td>\n",
       "      <td>11</td>\n",
       "      <td>0</td>\n",
       "      <td>4</td>\n",
       "      <td>4</td>\n",
       "      <td>1</td>\n",
       "      <td>0.118074</td>\n",
       "      <td>6</td>\n",
       "      <td>9</td>\n",
       "      <td>40</td>\n",
       "      <td>1</td>\n",
       "    </tr>\n",
       "    <tr>\n",
       "      <th>2</th>\n",
       "      <td>173449</td>\n",
       "      <td>6239c8e1-cd27-47a1-af5e-a6f62c4491eb</td>\n",
       "      <td>0</td>\n",
       "      <td>0</td>\n",
       "      <td>39</td>\n",
       "      <td>2</td>\n",
       "      <td>510</td>\n",
       "      <td>32</td>\n",
       "      <td>11</td>\n",
       "      <td>0</td>\n",
       "      <td>4</td>\n",
       "      <td>4</td>\n",
       "      <td>1</td>\n",
       "      <td>0.027818</td>\n",
       "      <td>6</td>\n",
       "      <td>9</td>\n",
       "      <td>40</td>\n",
       "      <td>1</td>\n",
       "    </tr>\n",
       "    <tr>\n",
       "      <th>3</th>\n",
       "      <td>269705</td>\n",
       "      <td>6239c8e1-cd27-47a1-af5e-a6f62c4491eb</td>\n",
       "      <td>0</td>\n",
       "      <td>0</td>\n",
       "      <td>39</td>\n",
       "      <td>2</td>\n",
       "      <td>407</td>\n",
       "      <td>33</td>\n",
       "      <td>11</td>\n",
       "      <td>0</td>\n",
       "      <td>4</td>\n",
       "      <td>4</td>\n",
       "      <td>1</td>\n",
       "      <td>0.013421</td>\n",
       "      <td>6</td>\n",
       "      <td>9</td>\n",
       "      <td>40</td>\n",
       "      <td>1</td>\n",
       "    </tr>\n",
       "    <tr>\n",
       "      <th>4</th>\n",
       "      <td>96245</td>\n",
       "      <td>6239c8e1-cd27-47a1-af5e-a6f62c4491eb</td>\n",
       "      <td>0</td>\n",
       "      <td>0</td>\n",
       "      <td>39</td>\n",
       "      <td>2</td>\n",
       "      <td>604</td>\n",
       "      <td>31</td>\n",
       "      <td>11</td>\n",
       "      <td>0</td>\n",
       "      <td>4</td>\n",
       "      <td>4</td>\n",
       "      <td>1</td>\n",
       "      <td>0.007763</td>\n",
       "      <td>6</td>\n",
       "      <td>9</td>\n",
       "      <td>42</td>\n",
       "      <td>1</td>\n",
       "    </tr>\n",
       "  </tbody>\n",
       "</table>\n",
       "</div>"
      ],
      "text/plain": [
       "   fnlwgt                              .session  relationship  capital-gain  \\\n",
       "0  236267  6239c8e1-cd27-47a1-af5e-a6f62c4491eb             0             0   \n",
       "1  190228  6239c8e1-cd27-47a1-af5e-a6f62c4491eb             0             0   \n",
       "2  173449  6239c8e1-cd27-47a1-af5e-a6f62c4491eb             0             0   \n",
       "3  269705  6239c8e1-cd27-47a1-af5e-a6f62c4491eb             0             0   \n",
       "4   96245  6239c8e1-cd27-47a1-af5e-a6f62c4491eb             0             0   \n",
       "\n",
       "   native-country  marital-status  .session_training_index  age  education  \\\n",
       "0              39               2                      269   25         11   \n",
       "1              39               2                      198   30         11   \n",
       "2              39               2                      510   32         11   \n",
       "3              39               2                      407   33         11   \n",
       "4              39               2                      604   31         11   \n",
       "\n",
       "   capital-loss  race  workclass  sex  .influence_weight  occupation  \\\n",
       "0             0     4          4    1           0.832923           6   \n",
       "1             0     4          4    1           0.118074           6   \n",
       "2             0     4          4    1           0.027818           6   \n",
       "3             0     4          4    1           0.013421           6   \n",
       "4             0     4          4    1           0.007763           6   \n",
       "\n",
       "   education-num  hours-per-week  target  \n",
       "0              9              40       1  \n",
       "1              9              40       1  \n",
       "2              9              40       1  \n",
       "3              9              40       1  \n",
       "4              9              42       1  "
      ]
     },
     "metadata": {},
     "output_type": "display_data"
    },
    {
     "name": "stdout",
     "output_type": "stream",
     "text": [
      "\n",
      "_____________\n"
     ]
    }
   ],
   "source": [
    "# Print influential and boundary case outliers\n",
    "for i in range(2):\n",
    "    get_cases(outliers, results, i)\n",
    "    print('_____________')"
   ]
  }
 ],
 "metadata": {
  "kernelspec": {
   "display_name": "engine_rec_312",
   "language": "python",
   "name": "python3"
  },
  "language_info": {
   "codemirror_mode": {
    "name": "ipython",
    "version": 3
   },
   "file_extension": ".py",
   "mimetype": "text/x-python",
   "name": "python",
   "nbconvert_exporter": "python",
   "pygments_lexer": "ipython3",
   "version": "3.10.18"
  }
 },
 "nbformat": 4,
 "nbformat_minor": 4
}
