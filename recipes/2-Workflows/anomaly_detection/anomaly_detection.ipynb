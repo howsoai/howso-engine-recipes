{
 "cells": [
  {
   "attachments": {},
   "cell_type": "markdown",
   "metadata": {},
   "source": [
    "# Anomaly Detection\n",
    "## Overview \n",
    "\n",
    "In the recipe, `engine-insights.ipynb`, we demonstrated an introduction to anomaly detection. In this recipe, expand on the methods used in that recipe. Howso Engine can be used to identify anomalous cases in a dataset and also explain why those cases may be anomalous. Furthermore, we can leverage other tools we learned in previous recipes, such  as influential and boundary cases, to provide additional context.\n",
    "\n",
    "Finding anomalous cases has value in both model building and data exploration. For example, as we continue to build a suitable model for the `Adult` datset, detecting anomalies can give us insight into whether we need to clean the dataset to reduce false signals. Possible sources of anomalies could be cases that are erroneous or falsified.   \n"
   ]
  },
  {
   "attachments": {},
   "cell_type": "markdown",
   "metadata": {},
   "source": [
    "# Section 1: Load, Train, Analyze\n",
    "\n",
    "For questions about the specific steps of this section, please see the [basic workflow guide](https://docs.howso.com/en/release-latest/user_guide/basic_capabilities/basic_workflow.html).\n"
   ]
  },
  {
   "cell_type": "code",
   "execution_count": 1,
   "metadata": {
    "execution": {
     "iopub.execute_input": "2025-07-22T15:15:58.410727Z",
     "iopub.status.busy": "2025-07-22T15:15:58.410549Z",
     "iopub.status.idle": "2025-07-22T15:16:03.191698Z",
     "shell.execute_reply": "2025-07-22T15:16:03.191038Z"
    }
   },
   "outputs": [],
   "source": [
    "import pandas as pd\n",
    "from pmlb import fetch_data\n",
    "\n",
    "from howso.engine import Trainee\n",
    "from howso.utilities import infer_feature_attributes\n",
    "from howso.visuals import plot_anomalies"
   ]
  },
  {
   "cell_type": "markdown",
   "metadata": {},
   "source": [
    "### Step 1: Load Data and Create Trainee\n",
    "\n",
    "Our example dataset for this recipe continues to be the well known `Adult` dataset. This dataset consists of 14 Context Features and 1 Action Feature. The Action Feature in this version of the `Adult` dataset has been renamed to `target` and it takes the form of a binary indicator for whether a person in the data makes over $50,000/year (*target*=1) or less (*target*=0)."
   ]
  },
  {
   "cell_type": "code",
   "execution_count": 2,
   "metadata": {
    "execution": {
     "iopub.execute_input": "2025-07-22T15:16:03.194396Z",
     "iopub.status.busy": "2025-07-22T15:16:03.194116Z",
     "iopub.status.idle": "2025-07-22T15:16:05.306335Z",
     "shell.execute_reply": "2025-07-22T15:16:05.305643Z"
    }
   },
   "outputs": [],
   "source": [
    "df = fetch_data('adult', local_cache_dir=\"../../data/adult\")\n",
    "\n",
    "# Subsample the data to ensure the example runs quickly\n",
    "df = df.sample(1000, random_state=0)\n",
    "\n",
    "# Infer feature attributes\n",
    "features = infer_feature_attributes(df)\n",
    "\n",
    "# Create the Trainee\n",
    "t = Trainee(features=features)"
   ]
  },
  {
   "attachments": {},
   "cell_type": "markdown",
   "metadata": {},
   "source": [
    "### Step 2: Train and Analyze"
   ]
  },
  {
   "cell_type": "code",
   "execution_count": 3,
   "metadata": {
    "execution": {
     "iopub.execute_input": "2025-07-22T15:16:05.308822Z",
     "iopub.status.busy": "2025-07-22T15:16:05.308594Z",
     "iopub.status.idle": "2025-07-22T15:16:14.128797Z",
     "shell.execute_reply": "2025-07-22T15:16:14.128182Z"
    }
   },
   "outputs": [],
   "source": [
    "t.train(df)\n",
    "\n",
    "# Targetless Analysis\n",
    "t.analyze()"
   ]
  },
  {
   "attachments": {},
   "cell_type": "markdown",
   "metadata": {},
   "source": [
    "# Section 2: Anomaly Identification\n",
    "\n",
    "We will use [Familiarity Conviction](https://docs.howso.com/en/release-latest/getting_started/terminology.html#familiarity-conviction) and [Distance Contribution](https://docs.howso.com/en/release-latest/getting_started/terminology.html#distance-contribution) to identify potentially anomalous cases. Conviction is a value indicating how surprising a case is relative to how surprising other cases in the model are. In the case of `Familiarity Conviction`, the level of surprisal is measured by the perturbation of the probability distribution when the case is added or removed (hence the parameters: `familiarity_conviction_addition` and `familiarity_conviction_removal`).  Howso Engine’s interpretability tools also enable us to understand why these cases may be anomalous and whether they are outliers and inliers. "
   ]
  },
  {
   "attachments": {},
   "cell_type": "markdown",
   "metadata": {},
   "source": [
    "### Step 1: Compute Distance Contribution and Familiarity Conviction for every case\n",
    "\n",
    "The first step is to use `react_into_features` and select the metrics we want to return.\n",
    "\n",
    "`react_into_features` is a method that calculates the desired attributes for every case in the Trainee and caches those values into each case as a feature.\n",
    "\n",
    "Notably, this means that these features can then be used as context and action features, but this is only recommended for advanced use-cases."
   ]
  },
  {
   "cell_type": "code",
   "execution_count": 4,
   "metadata": {
    "execution": {
     "iopub.execute_input": "2025-07-22T15:16:14.131178Z",
     "iopub.status.busy": "2025-07-22T15:16:14.130950Z",
     "iopub.status.idle": "2025-07-22T15:16:14.213873Z",
     "shell.execute_reply": "2025-07-22T15:16:14.213332Z"
    }
   },
   "outputs": [],
   "source": [
    "# Store the familiarity conviction and distance contribution, this will be used to identify anomalous cases\n",
    "t.react_into_features(\n",
    "    familiarity_conviction_addition=True,\n",
    "    distance_contribution=True\n",
    ")\n",
    "\n",
    "stored_convictions = t.get_cases(\n",
    "    session=t.active_session,\n",
    "    features=df.columns.tolist() + ['familiarity_conviction_addition','.session_training_index', '.session', 'distance_contribution']\n",
    ")"
   ]
  },
  {
   "attachments": {},
   "cell_type": "markdown",
   "metadata": {},
   "source": [
    "### Step 2: Set Threshold and Identify Anomalies\n",
    "\n",
    "There is no absolute threshold for what is considered to be anomalous, as anomalous behavior is a measure of surprisal. Thus, this is a lever that the user can change depending on the data. The threshold should be more or less than 1, which indicates average surprisal.\n",
    "\n",
    "We first use `familiarity_conviction_addition` to find anomalies, and then use the average `distance_contribution` to determine what type of anomaly the case is (e.g., inlier vs. outlier). Cases with large distance contributions will be considered outliers and those with\n",
    "low distance contributions will be inliers.\n",
    "\n",
    "For this data, we use a threshold of 0.75 for the Familiarity Conviction. Cases with a Familarity Conviction below this value will be considered outliers."
   ]
  },
  {
   "cell_type": "code",
   "execution_count": 5,
   "metadata": {
    "execution": {
     "iopub.execute_input": "2025-07-22T15:16:14.215948Z",
     "iopub.status.busy": "2025-07-22T15:16:14.215744Z",
     "iopub.status.idle": "2025-07-22T15:16:14.221092Z",
     "shell.execute_reply": "2025-07-22T15:16:14.220570Z"
    }
   },
   "outputs": [],
   "source": [
    "# Threshold to determine which cases will be deemed anomalous\n",
    "convict_threshold = 0.75\n",
    "\n",
    "# Extract the anomalous cases\n",
    "low_convicts = stored_convictions[\n",
    "    stored_convictions['familiarity_conviction_addition'] <= convict_threshold\n",
    "].sort_values('familiarity_conviction_addition', ascending=True)\n",
    "\n",
    "# Average distance contribution will be used to determine if a case is an outlier or inlier\n",
    "average_dist_contribution = low_convicts['distance_contribution'].mean()\n",
    "\n",
    "# A case with distance contribution greater than average will be tagged as outlier, and vice versa for inliers\n",
    "cat = [\n",
    "    'inlier' if d < average_dist_contribution else\n",
    "    'outlier' for d in low_convicts['distance_contribution']\n",
    "]\n",
    "low_convicts['category'] = cat"
   ]
  },
  {
   "attachments": {},
   "cell_type": "markdown",
   "metadata": {},
   "source": [
    "# Section 3: Anomaly Inspection"
   ]
  },
  {
   "attachments": {},
   "cell_type": "markdown",
   "metadata": {},
   "source": [
    "\n",
    "### Step 1: Inspect Outliers\n",
    "\n",
    "Typically, when we think of anomalies, we think of outliers or cases that are significantly different that the rest of the data, whether erroneous or not. Preprocessing in machine learning often involves pruning these data points as they can add undesired noise to a model. \n",
    "\n",
    "The Case Feature Residual Conviction will be used to understand why each case was anomalous.\n",
    "\n",
    "In our example use case where the `Adult` dataset is used to determine projected salary for loan applications, we want to eliminate any erroneous outliers if possible. We may also want to detect substituted values, as often times datasets may substitute special values with nominal integers. For example, blank values in an application are often coded with high integers like 99999 which can introduce noise in the dataset.\n",
    "\n",
    "### **Definitions:**\n",
    "\n",
    "**`case_feature_residual_convictions`** :  This is calculated using the local feature residuals, divided by the feature residuals of the Case to obtain the Convictions."
   ]
  },
  {
   "cell_type": "code",
   "execution_count": 6,
   "metadata": {
    "execution": {
     "iopub.execute_input": "2025-07-22T15:16:14.222956Z",
     "iopub.status.busy": "2025-07-22T15:16:14.222760Z",
     "iopub.status.idle": "2025-07-22T15:16:14.238490Z",
     "shell.execute_reply": "2025-07-22T15:16:14.238002Z"
    }
   },
   "outputs": [
    {
     "data": {
      "text/html": [
       "<div>\n",
       "<style scoped>\n",
       "    .dataframe tbody tr th:only-of-type {\n",
       "        vertical-align: middle;\n",
       "    }\n",
       "\n",
       "    .dataframe tbody tr th {\n",
       "        vertical-align: top;\n",
       "    }\n",
       "\n",
       "    .dataframe thead th {\n",
       "        text-align: right;\n",
       "    }\n",
       "</style>\n",
       "<table border=\"1\" class=\"dataframe\">\n",
       "  <thead>\n",
       "    <tr style=\"text-align: right;\">\n",
       "      <th></th>\n",
       "      <th>age</th>\n",
       "      <th>workclass</th>\n",
       "      <th>fnlwgt</th>\n",
       "      <th>education</th>\n",
       "      <th>education-num</th>\n",
       "      <th>marital-status</th>\n",
       "      <th>occupation</th>\n",
       "      <th>relationship</th>\n",
       "      <th>race</th>\n",
       "      <th>sex</th>\n",
       "      <th>capital-gain</th>\n",
       "      <th>capital-loss</th>\n",
       "      <th>hours-per-week</th>\n",
       "      <th>native-country</th>\n",
       "      <th>target</th>\n",
       "      <th>familiarity_conviction_addition</th>\n",
       "      <th>.session_training_index</th>\n",
       "      <th>.session</th>\n",
       "      <th>distance_contribution</th>\n",
       "      <th>category</th>\n",
       "    </tr>\n",
       "  </thead>\n",
       "  <tbody>\n",
       "    <tr>\n",
       "      <th>0</th>\n",
       "      <td>30.0</td>\n",
       "      <td>4</td>\n",
       "      <td>193598.0</td>\n",
       "      <td>13</td>\n",
       "      <td>1.0</td>\n",
       "      <td>4</td>\n",
       "      <td>5</td>\n",
       "      <td>1</td>\n",
       "      <td>4</td>\n",
       "      <td>1</td>\n",
       "      <td>0.0</td>\n",
       "      <td>0.0</td>\n",
       "      <td>40.0</td>\n",
       "      <td>26</td>\n",
       "      <td>1</td>\n",
       "      <td>0.020019</td>\n",
       "      <td>540</td>\n",
       "      <td>6fba7257-9499-44cf-b920-1c41aa740cdc</td>\n",
       "      <td>306.265156</td>\n",
       "      <td>outlier</td>\n",
       "    </tr>\n",
       "    <tr>\n",
       "      <th>1</th>\n",
       "      <td>23.0</td>\n",
       "      <td>4</td>\n",
       "      <td>240049.0</td>\n",
       "      <td>13</td>\n",
       "      <td>1.0</td>\n",
       "      <td>4</td>\n",
       "      <td>8</td>\n",
       "      <td>1</td>\n",
       "      <td>1</td>\n",
       "      <td>0</td>\n",
       "      <td>0.0</td>\n",
       "      <td>0.0</td>\n",
       "      <td>40.0</td>\n",
       "      <td>25</td>\n",
       "      <td>1</td>\n",
       "      <td>0.023355</td>\n",
       "      <td>732</td>\n",
       "      <td>6fba7257-9499-44cf-b920-1c41aa740cdc</td>\n",
       "      <td>280.379224</td>\n",
       "      <td>outlier</td>\n",
       "    </tr>\n",
       "    <tr>\n",
       "      <th>2</th>\n",
       "      <td>65.0</td>\n",
       "      <td>5</td>\n",
       "      <td>184965.0</td>\n",
       "      <td>10</td>\n",
       "      <td>16.0</td>\n",
       "      <td>2</td>\n",
       "      <td>4</td>\n",
       "      <td>0</td>\n",
       "      <td>4</td>\n",
       "      <td>1</td>\n",
       "      <td>99999.0</td>\n",
       "      <td>0.0</td>\n",
       "      <td>40.0</td>\n",
       "      <td>39</td>\n",
       "      <td>0</td>\n",
       "      <td>0.025732</td>\n",
       "      <td>649</td>\n",
       "      <td>6fba7257-9499-44cf-b920-1c41aa740cdc</td>\n",
       "      <td>387.300496</td>\n",
       "      <td>outlier</td>\n",
       "    </tr>\n",
       "  </tbody>\n",
       "</table>\n",
       "</div>"
      ],
      "text/plain": [
       "    age  workclass    fnlwgt  education  education-num  marital-status  \\\n",
       "0  30.0          4  193598.0         13            1.0               4   \n",
       "1  23.0          4  240049.0         13            1.0               4   \n",
       "2  65.0          5  184965.0         10           16.0               2   \n",
       "\n",
       "   occupation  relationship  race  sex  capital-gain  capital-loss  \\\n",
       "0           5             1     4    1           0.0           0.0   \n",
       "1           8             1     1    0           0.0           0.0   \n",
       "2           4             0     4    1       99999.0           0.0   \n",
       "\n",
       "   hours-per-week  native-country  target  familiarity_conviction_addition  \\\n",
       "0            40.0              26       1                         0.020019   \n",
       "1            40.0              25       1                         0.023355   \n",
       "2            40.0              39       0                         0.025732   \n",
       "\n",
       "   .session_training_index                              .session  \\\n",
       "0                      540  6fba7257-9499-44cf-b920-1c41aa740cdc   \n",
       "1                      732  6fba7257-9499-44cf-b920-1c41aa740cdc   \n",
       "2                      649  6fba7257-9499-44cf-b920-1c41aa740cdc   \n",
       "\n",
       "   distance_contribution category  \n",
       "0             306.265156  outlier  \n",
       "1             280.379224  outlier  \n",
       "2             387.300496  outlier  "
      ]
     },
     "execution_count": 6,
     "metadata": {},
     "output_type": "execute_result"
    }
   ],
   "source": [
    "# Extract the outliers cases\n",
    "outliers = low_convicts[low_convicts['category'] == 'outlier'].reset_index(drop=True)\n",
    "outliers.head(3)"
   ]
  },
  {
   "attachments": {},
   "cell_type": "markdown",
   "metadata": {},
   "source": [
    "### Step 2: Outlier Value Evaluation\n",
    "\n",
    "From the above results, we can see which cases may be anomalous, however just knowing whether a case is potentially an anomaly doesn't give us all the information we need to make an informed decision. If we are deciding whether to prune a case from our training set, often we only want to prune erroneous values. Even if a case is an anomaly in terms of distance or value, if it is valid we may still leave it in as it represents a legitimate data point. \n",
    "\n",
    "By looking at the `Case Feature Residual Convictions`, we can gain some insight as to why a case was deemed anomalous."
   ]
  },
  {
   "cell_type": "code",
   "execution_count": 7,
   "metadata": {
    "execution": {
     "iopub.execute_input": "2025-07-22T15:16:14.273316Z",
     "iopub.status.busy": "2025-07-22T15:16:14.273096Z",
     "iopub.status.idle": "2025-07-22T15:16:16.474578Z",
     "shell.execute_reply": "2025-07-22T15:16:16.473971Z"
    }
   },
   "outputs": [],
   "source": [
    "# We add a few extra metrics for subsequent examples in this notebook\n",
    "# Get the case_feature_residual_convictions, influential_cases and boundary_cases\n",
    "details = {\n",
    "    'influential_cases': True,\n",
    "    'feature_full_residual_convictions_for_case': True\n",
    "}\n",
    "\n",
    "# Specify outlier cases\n",
    "outliers_indices = outliers[['.session', '.session_training_index']].values\n",
    "\n",
    "# Residuals must be computed and cached for some of these details\n",
    "t.get_prediction_stats(details = {\"feature_full_residuals\": True})\n",
    "\n",
    "# React to get the details of each anomalous case\n",
    "#   Specify trained cases to react to with 'case_indices'\n",
    "results = t.react(\n",
    "    case_indices=outliers_indices,\n",
    "    preserve_feature_values=df.columns.tolist(),\n",
    "    leave_case_out=True,\n",
    "    details=details\n",
    ")\n",
    "\n",
    "outlier_case_feature_residual_convictions = pd.DataFrame(\n",
    "    results['details']['feature_full_residual_convictions_for_case']\n",
    ")[df.columns.tolist()]"
   ]
  },
  {
   "cell_type": "code",
   "execution_count": null,
   "metadata": {
    "execution": {
     "iopub.execute_input": "2025-07-22T15:16:16.476836Z",
     "iopub.status.busy": "2025-07-22T15:16:16.476631Z",
     "iopub.status.idle": "2025-07-22T15:16:19.793367Z",
     "shell.execute_reply": "2025-07-22T15:16:19.792780Z"
    }
   },
   "outputs": [
    {
     "data": {
      "application/pdf": "[encoded data removed]"
     },
     "metadata": {},
     "output_type": "display_data"
    }
   ],
   "source": [
    "fig = plot_anomalies(outliers, outlier_case_feature_residual_convictions)\n",
    "fig.show(width=1500, height=750)"
   ]
  },
  {
   "attachments": {},
   "cell_type": "markdown",
   "metadata": {},
   "source": [
    "From this chart we can see that these cases were flagged as anomalous largely because of their `capital-gain` values. Since our target variable is whether someone makes over $50,000 in salary, people with such large capital gains making less than $50,000 seems odd. In addition, values such as 99999 often indicate some sort of nominal value that may represent something other than the actual capital-gain, such as if a person did not answer. \n",
    "\n",
    "With this information, we can choose the appropriate action, whether it is recoding capital-gains, removing the cases, leaving the cases out, etc..."
   ]
  },
  {
   "attachments": {},
   "cell_type": "markdown",
   "metadata": {
    "tags": []
   },
   "source": [
    "### Step 3: Inspect Outliers\n",
    "\n",
    "While we generally only think of outliers when it comes to anomalies, inliers are another, more discrete, form of anomaly. Inliers are the opposite of outliers, as inliers are cases that are too [similiar](https://docs.howso.com/en/release-latest/getting_started/terminology.html#most-similar-cases) to other points. A real world hypothetical case of an inlier would be someone submitting a false transaction date in which they tried to make the data look real by making it very similar to existing data. \n",
    "\n",
    "In our case, it may be someone in a bank who is internally falsifying applications in order to try to alter the prediction model.\n",
    "\n",
    "Just like outliers, `distance_contribution` is used to detect inliers from the anomalies detected through the use of `familiarity_conviction_addition`, except now we are looking at cases below a theshold which indicates similarity to other points.\n"
   ]
  },
  {
   "cell_type": "code",
   "execution_count": 9,
   "metadata": {
    "execution": {
     "iopub.execute_input": "2025-07-22T15:16:19.795344Z",
     "iopub.status.busy": "2025-07-22T15:16:19.795154Z",
     "iopub.status.idle": "2025-07-22T15:16:19.808690Z",
     "shell.execute_reply": "2025-07-22T15:16:19.808203Z"
    }
   },
   "outputs": [
    {
     "data": {
      "text/html": [
       "<div>\n",
       "<style scoped>\n",
       "    .dataframe tbody tr th:only-of-type {\n",
       "        vertical-align: middle;\n",
       "    }\n",
       "\n",
       "    .dataframe tbody tr th {\n",
       "        vertical-align: top;\n",
       "    }\n",
       "\n",
       "    .dataframe thead th {\n",
       "        text-align: right;\n",
       "    }\n",
       "</style>\n",
       "<table border=\"1\" class=\"dataframe\">\n",
       "  <thead>\n",
       "    <tr style=\"text-align: right;\">\n",
       "      <th></th>\n",
       "      <th>age</th>\n",
       "      <th>workclass</th>\n",
       "      <th>fnlwgt</th>\n",
       "      <th>education</th>\n",
       "      <th>education-num</th>\n",
       "      <th>marital-status</th>\n",
       "      <th>occupation</th>\n",
       "      <th>relationship</th>\n",
       "      <th>race</th>\n",
       "      <th>sex</th>\n",
       "      <th>capital-gain</th>\n",
       "      <th>capital-loss</th>\n",
       "      <th>hours-per-week</th>\n",
       "      <th>native-country</th>\n",
       "      <th>target</th>\n",
       "      <th>familiarity_conviction_addition</th>\n",
       "      <th>.session_training_index</th>\n",
       "      <th>.session</th>\n",
       "      <th>distance_contribution</th>\n",
       "      <th>category</th>\n",
       "    </tr>\n",
       "  </thead>\n",
       "  <tbody>\n",
       "    <tr>\n",
       "      <th>0</th>\n",
       "      <td>30.0</td>\n",
       "      <td>4</td>\n",
       "      <td>190228.0</td>\n",
       "      <td>11</td>\n",
       "      <td>9.0</td>\n",
       "      <td>2</td>\n",
       "      <td>6</td>\n",
       "      <td>0</td>\n",
       "      <td>4</td>\n",
       "      <td>1</td>\n",
       "      <td>0.0</td>\n",
       "      <td>0.0</td>\n",
       "      <td>40.0</td>\n",
       "      <td>39</td>\n",
       "      <td>1</td>\n",
       "      <td>0.313194</td>\n",
       "      <td>198</td>\n",
       "      <td>6fba7257-9499-44cf-b920-1c41aa740cdc</td>\n",
       "      <td>1.446570</td>\n",
       "      <td>inlier</td>\n",
       "    </tr>\n",
       "    <tr>\n",
       "      <th>1</th>\n",
       "      <td>25.0</td>\n",
       "      <td>4</td>\n",
       "      <td>218667.0</td>\n",
       "      <td>11</td>\n",
       "      <td>9.0</td>\n",
       "      <td>2</td>\n",
       "      <td>6</td>\n",
       "      <td>0</td>\n",
       "      <td>4</td>\n",
       "      <td>1</td>\n",
       "      <td>0.0</td>\n",
       "      <td>0.0</td>\n",
       "      <td>40.0</td>\n",
       "      <td>39</td>\n",
       "      <td>1</td>\n",
       "      <td>0.314185</td>\n",
       "      <td>881</td>\n",
       "      <td>6fba7257-9499-44cf-b920-1c41aa740cdc</td>\n",
       "      <td>1.560241</td>\n",
       "      <td>inlier</td>\n",
       "    </tr>\n",
       "    <tr>\n",
       "      <th>2</th>\n",
       "      <td>36.0</td>\n",
       "      <td>4</td>\n",
       "      <td>209629.0</td>\n",
       "      <td>11</td>\n",
       "      <td>9.0</td>\n",
       "      <td>2</td>\n",
       "      <td>7</td>\n",
       "      <td>0</td>\n",
       "      <td>4</td>\n",
       "      <td>1</td>\n",
       "      <td>0.0</td>\n",
       "      <td>0.0</td>\n",
       "      <td>40.0</td>\n",
       "      <td>39</td>\n",
       "      <td>1</td>\n",
       "      <td>0.317196</td>\n",
       "      <td>404</td>\n",
       "      <td>6fba7257-9499-44cf-b920-1c41aa740cdc</td>\n",
       "      <td>1.568833</td>\n",
       "      <td>inlier</td>\n",
       "    </tr>\n",
       "  </tbody>\n",
       "</table>\n",
       "</div>"
      ],
      "text/plain": [
       "    age  workclass    fnlwgt  education  education-num  marital-status  \\\n",
       "0  30.0          4  190228.0         11            9.0               2   \n",
       "1  25.0          4  218667.0         11            9.0               2   \n",
       "2  36.0          4  209629.0         11            9.0               2   \n",
       "\n",
       "   occupation  relationship  race  sex  capital-gain  capital-loss  \\\n",
       "0           6             0     4    1           0.0           0.0   \n",
       "1           6             0     4    1           0.0           0.0   \n",
       "2           7             0     4    1           0.0           0.0   \n",
       "\n",
       "   hours-per-week  native-country  target  familiarity_conviction_addition  \\\n",
       "0            40.0              39       1                         0.313194   \n",
       "1            40.0              39       1                         0.314185   \n",
       "2            40.0              39       1                         0.317196   \n",
       "\n",
       "   .session_training_index                              .session  \\\n",
       "0                      198  6fba7257-9499-44cf-b920-1c41aa740cdc   \n",
       "1                      881  6fba7257-9499-44cf-b920-1c41aa740cdc   \n",
       "2                      404  6fba7257-9499-44cf-b920-1c41aa740cdc   \n",
       "\n",
       "   distance_contribution category  \n",
       "0               1.446570   inlier  \n",
       "1               1.560241   inlier  \n",
       "2               1.568833   inlier  "
      ]
     },
     "execution_count": 9,
     "metadata": {},
     "output_type": "execute_result"
    }
   ],
   "source": [
    "# Extract the inlier cases\n",
    "inliers = low_convicts[low_convicts['category'] == 'inlier'].reset_index(drop=True)\n",
    "inliers.head(3)"
   ]
  },
  {
   "attachments": {},
   "cell_type": "markdown",
   "metadata": {},
   "source": [
    "### Step 4: Inlier Value Evaluation"
   ]
  },
  {
   "cell_type": "code",
   "execution_count": 10,
   "metadata": {
    "execution": {
     "iopub.execute_input": "2025-07-22T15:16:19.810308Z",
     "iopub.status.busy": "2025-07-22T15:16:19.810126Z",
     "iopub.status.idle": "2025-07-22T15:16:23.509717Z",
     "shell.execute_reply": "2025-07-22T15:16:23.509109Z"
    }
   },
   "outputs": [],
   "source": [
    "# Specify the inlier cases\n",
    "inliers_indices = inliers[['.session', '.session_training_index']].values\n",
    "\n",
    "# React to get the details of each case\n",
    "results = t.react(\n",
    "    case_indices=inliers_indices,\n",
    "    preserve_feature_values=df.columns.tolist(),\n",
    "    leave_case_out=True,\n",
    "    details=details\n",
    ")\n",
    "\n",
    "\n",
    "inlier_case_feature_residual_convictions = pd.DataFrame(\n",
    "    results['details']['feature_full_residual_convictions_for_case']\n",
    ")[df.columns.tolist()]"
   ]
  },
  {
   "cell_type": "code",
   "execution_count": null,
   "metadata": {
    "execution": {
     "iopub.execute_input": "2025-07-22T15:16:23.512039Z",
     "iopub.status.busy": "2025-07-22T15:16:23.511772Z",
     "iopub.status.idle": "2025-07-22T15:16:25.054322Z",
     "shell.execute_reply": "2025-07-22T15:16:25.053754Z"
    }
   },
   "outputs": [
    {
     "data": {
      "image/svg+xml": [
       "<svg class=\"main-svg\" xmlns=\"http://www.w3.org/2000/svg\" xmlns:xlink=\"http://www.w3.org/1999/xlink\" width=\"700\" height=\"500\" style=\"\" viewBox=\"0 0 700 500\"><rect x=\"0\" y=\"0\" width=\"700\" height=\"500\" style=\"fill: rgb(255, 255, 255); fill-opacity: 1;\"/><defs id=\"defs-924195\"><g class=\"clips\"><clipPath id=\"clip924195xyplot\" class=\"plotclip\"><rect width=\"512\" height=\"306\"/></clipPath><clipPath class=\"axesclip\" id=\"clip924195x\"><rect x=\"80\" y=\"0\" width=\"512\" height=\"500\"/></clipPath><clipPath class=\"axesclip\" id=\"clip924195y\"><rect x=\"0\" y=\"100\" width=\"700\" height=\"306\"/></clipPath><clipPath class=\"axesclip\" id=\"clip924195xy\"><rect x=\"80\" y=\"100\" width=\"512\" height=\"306\"/></clipPath></g><g class=\"gradients\"><linearGradient x1=\"0\" y1=\"1\" x2=\"0\" y2=\"0\" gradientUnits=\"objectBoundingBox\" id=\"g924195-cbcoloraxis\"><stop offset=\"0%\" stop-color=\"rgb(103, 0, 31)\" stop-opacity=\"1\"/><stop offset=\"20%\" stop-color=\"rgb(247, 247, 247)\" stop-opacity=\"1\"/><stop offset=\"40%\" stop-color=\"rgb(67, 147, 195)\" stop-opacity=\"1\"/><stop offset=\"100%\" stop-color=\"rgb(5, 48, 97)\" stop-opacity=\"1\"/></linearGradient></g><g class=\"patterns\"/></defs><g class=\"bglayer\"><rect class=\"bg\" x=\"80\" y=\"100\" width=\"512\" height=\"306\" style=\"fill: rgb(229, 236, 246); fill-opacity: 1; stroke-width: 0;\"/></g><g class=\"layer-below\"><g class=\"imagelayer\"/><g class=\"shapelayer\"/></g><g class=\"cartesianlayer\"><g class=\"subplot xy\"><g class=\"layer-subplot\"><g class=\"shapelayer\"/><g class=\"imagelayer\"/></g><g class=\"minor-gridlayer\"><g class=\"x\"/><g class=\"y\"/></g><g class=\"gridlayer\"><g class=\"x\"><path class=\"xgrid crisp\" transform=\"translate(97.07,0)\" d=\"M0,100v306\" style=\"stroke: rgb(255, 255, 255); stroke-opacity: 1; stroke-width: 1px;\"/><path class=\"xgrid crisp\" transform=\"translate(131.2,0)\" d=\"M0,100v306\" style=\"stroke: rgb(255, 255, 255); stroke-opacity: 1; stroke-width: 1px;\"/><path class=\"xgrid crisp\" transform=\"translate(165.32999999999998,0)\" d=\"M0,100v306\" style=\"stroke: rgb(255, 255, 255); stroke-opacity: 1; stroke-width: 1px;\"/><path class=\"xgrid crisp\" transform=\"translate(199.47,0)\" d=\"M0,100v306\" style=\"stroke: rgb(255, 255, 255); stroke-opacity: 1; stroke-width: 1px;\"/><path class=\"xgrid crisp\" transform=\"translate(233.6,0)\" d=\"M0,100v306\" style=\"stroke: rgb(255, 255, 255); stroke-opacity: 1; stroke-width: 1px;\"/><path class=\"xgrid crisp\" transform=\"translate(267.73,0)\" d=\"M0,100v306\" style=\"stroke: rgb(255, 255, 255); stroke-opacity: 1; stroke-width: 1px;\"/><path class=\"xgrid crisp\" transform=\"translate(301.87,0)\" d=\"M0,100v306\" style=\"stroke: rgb(255, 255, 255); stroke-opacity: 1; stroke-width: 1px;\"/><path class=\"xgrid crisp\" transform=\"translate(336,0)\" d=\"M0,100v306\" style=\"stroke: rgb(255, 255, 255); stroke-opacity: 1; stroke-width: 1px;\"/><path class=\"xgrid crisp\" transform=\"translate(370.13,0)\" d=\"M0,100v306\" style=\"stroke: rgb(255, 255, 255); stroke-opacity: 1; stroke-width: 1px;\"/><path class=\"xgrid crisp\" transform=\"translate(404.27,0)\" d=\"M0,100v306\" style=\"stroke: rgb(255, 255, 255); stroke-opacity: 1; stroke-width: 1px;\"/><path class=\"xgrid crisp\" transform=\"translate(438.4,0)\" d=\"M0,100v306\" style=\"stroke: rgb(255, 255, 255); stroke-opacity: 1; stroke-width: 1px;\"/><path class=\"xgrid crisp\" transform=\"translate(472.53,0)\" d=\"M0,100v306\" style=\"stroke: rgb(255, 255, 255); stroke-opacity: 1; stroke-width: 1px;\"/><path class=\"xgrid crisp\" transform=\"translate(506.67,0)\" d=\"M0,100v306\" style=\"stroke: rgb(255, 255, 255); stroke-opacity: 1; stroke-width: 1px;\"/><path class=\"xgrid crisp\" transform=\"translate(540.8,0)\" d=\"M0,100v306\" style=\"stroke: rgb(255, 255, 255); stroke-opacity: 1; stroke-width: 1px;\"/><path class=\"xgrid crisp\" transform=\"translate(574.9300000000001,0)\" d=\"M0,100v306\" style=\"stroke: rgb(255, 255, 255); stroke-opacity: 1; stroke-width: 1px;\"/></g><g class=\"y\"><path class=\"ygrid crisp\" transform=\"translate(0,375.4)\" d=\"M80,0h512\" style=\"stroke: rgb(255, 255, 255); stroke-opacity: 1; stroke-width: 1px;\"/><path class=\"ygrid crisp\" transform=\"translate(0,314.2)\" d=\"M80,0h512\" style=\"stroke: rgb(255, 255, 255); stroke-opacity: 1; stroke-width: 1px;\"/><path class=\"ygrid crisp\" transform=\"translate(0,253)\" d=\"M80,0h512\" style=\"stroke: rgb(255, 255, 255); stroke-opacity: 1; stroke-width: 1px;\"/><path class=\"ygrid crisp\" transform=\"translate(0,191.8)\" d=\"M80,0h512\" style=\"stroke: rgb(255, 255, 255); stroke-opacity: 1; stroke-width: 1px;\"/></g></g><g class=\"zerolinelayer\"><path class=\"yzl zl crisp\" transform=\"translate(0,130.6)\" d=\"M80,0h512\" style=\"stroke: rgb(255, 255, 255); stroke-opacity: 1; stroke-width: 2px;\"/></g><g class=\"layer-between\"><g class=\"shapelayer\"/><g class=\"imagelayer\"/></g><path class=\"xlines-below\"/><path class=\"ylines-below\"/><g class=\"overlines-below\"/><g class=\"xaxislayer-below\"/><g class=\"yaxislayer-below\"/><g class=\"overaxes-below\"/><g class=\"overplot\"><g class=\"xy\" transform=\"translate(80,100)\" clip-path=\"url(#clip924195xyplot)\"><g class=\"heatmaplayer mlayer\"><g class=\"hm\"><image xmlns=\"http://www.w3.org/2000/svg\" preserveAspectRatio=\"none\" height=\"306\" width=\"512\" x=\"0\" y=\"0\" xlink:href=\"data:image/png;base64,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\" style=\"opacity: 1;\"/><g class=\"heatmap-label\"><text text-anchor=\"middle\" data-notex=\"1\" x=\"17\" y=\"32.75\" style=\"font-family: 'Open Sans', verdana, arial, sans-serif; font-size: 5px; fill: rgb(68, 68, 68); fill-opacity: 1; white-space: pre;\">30.0</text></g><g class=\"heatmap-label\"><text text-anchor=\"middle\" data-notex=\"1\" x=\"51\" y=\"32.75\" style=\"font-family: 'Open Sans', verdana, arial, sans-serif; font-size: 5px; fill: rgb(68, 68, 68); fill-opacity: 1; white-space: pre;\">4</text></g><g class=\"heatmap-label\"><text text-anchor=\"middle\" data-notex=\"1\" x=\"85\" y=\"32.75\" style=\"font-family: 'Open Sans', verdana, arial, sans-serif; font-size: 5px; fill: rgb(68, 68, 68); fill-opacity: 1; white-space: pre;\">190228.0</text></g><g class=\"heatmap-label\"><text text-anchor=\"middle\" data-notex=\"1\" x=\"119\" y=\"32.75\" style=\"font-family: 'Open Sans', verdana, arial, sans-serif; font-size: 5px; fill: rgb(68, 68, 68); fill-opacity: 1; white-space: pre;\">11</text></g><g class=\"heatmap-label\"><text text-anchor=\"middle\" data-notex=\"1\" x=\"154\" y=\"32.75\" style=\"font-family: 'Open Sans', verdana, arial, sans-serif; font-size: 5px; fill: rgb(68, 68, 68); fill-opacity: 1; white-space: pre;\">9.0</text></g><g class=\"heatmap-label\"><text text-anchor=\"middle\" data-notex=\"1\" x=\"188\" y=\"32.75\" style=\"font-family: 'Open Sans', verdana, arial, sans-serif; font-size: 5px; fill: rgb(68, 68, 68); fill-opacity: 1; white-space: pre;\">2</text></g><g class=\"heatmap-label\"><text text-anchor=\"middle\" data-notex=\"1\" x=\"222\" y=\"32.75\" style=\"font-family: 'Open Sans', verdana, arial, sans-serif; font-size: 5px; fill: rgb(68, 68, 68); fill-opacity: 1; white-space: pre;\">6</text></g><g class=\"heatmap-label\"><text text-anchor=\"middle\" data-notex=\"1\" x=\"256\" y=\"32.75\" style=\"font-family: 'Open Sans', verdana, arial, sans-serif; font-size: 5px; fill: rgb(68, 68, 68); fill-opacity: 1; white-space: pre;\">0</text></g><g class=\"heatmap-label\"><text text-anchor=\"middle\" data-notex=\"1\" x=\"290\" y=\"32.75\" style=\"font-family: 'Open Sans', verdana, arial, sans-serif; font-size: 5px; fill: rgb(68, 68, 68); fill-opacity: 1; white-space: pre;\">4</text></g><g class=\"heatmap-label\"><text text-anchor=\"middle\" data-notex=\"1\" x=\"324\" y=\"32.75\" style=\"font-family: 'Open Sans', verdana, arial, sans-serif; font-size: 5px; fill: rgb(68, 68, 68); fill-opacity: 1; white-space: pre;\">1</text></g><g class=\"heatmap-label\"><text text-anchor=\"middle\" data-notex=\"1\" x=\"358\" y=\"32.75\" style=\"font-family: 'Open Sans', verdana, arial, sans-serif; font-size: 5px; fill: rgb(68, 68, 68); fill-opacity: 1; white-space: pre;\">0.0</text></g><g class=\"heatmap-label\"><text text-anchor=\"middle\" data-notex=\"1\" x=\"393\" y=\"32.75\" style=\"font-family: 'Open Sans', verdana, arial, sans-serif; font-size: 5px; fill: rgb(68, 68, 68); fill-opacity: 1; white-space: pre;\">0.0</text></g><g class=\"heatmap-label\"><text text-anchor=\"middle\" data-notex=\"1\" x=\"427\" y=\"32.75\" style=\"font-family: 'Open Sans', verdana, arial, sans-serif; font-size: 5px; fill: rgb(68, 68, 68); fill-opacity: 1; white-space: pre;\">40.0</text></g><g class=\"heatmap-label\"><text text-anchor=\"middle\" data-notex=\"1\" x=\"461\" y=\"32.75\" style=\"font-family: 'Open Sans', verdana, arial, sans-serif; font-size: 5px; fill: rgb(68, 68, 68); fill-opacity: 1; white-space: pre;\">39</text></g><g class=\"heatmap-label\"><text text-anchor=\"middle\" data-notex=\"1\" x=\"495\" y=\"32.75\" style=\"font-family: 'Open Sans', verdana, arial, sans-serif; font-size: 5px; fill: rgb(68, 68, 68); fill-opacity: 1; white-space: pre;\">1</text></g><g class=\"heatmap-label\"><text text-anchor=\"middle\" data-notex=\"1\" x=\"17\" y=\"93.75\" style=\"font-family: 'Open Sans', verdana, arial, sans-serif; font-size: 5px; fill: rgb(68, 68, 68); fill-opacity: 1; white-space: pre;\">25.0</text></g><g class=\"heatmap-label\"><text text-anchor=\"middle\" data-notex=\"1\" x=\"51\" y=\"93.75\" style=\"font-family: 'Open Sans', verdana, arial, sans-serif; font-size: 5px; fill: rgb(68, 68, 68); fill-opacity: 1; white-space: pre;\">4</text></g><g class=\"heatmap-label\"><text text-anchor=\"middle\" data-notex=\"1\" x=\"85\" y=\"93.75\" style=\"font-family: 'Open Sans', verdana, arial, sans-serif; font-size: 5px; fill: rgb(68, 68, 68); fill-opacity: 1; white-space: pre;\">218667.0</text></g><g class=\"heatmap-label\"><text text-anchor=\"middle\" data-notex=\"1\" x=\"119\" y=\"93.75\" style=\"font-family: 'Open Sans', verdana, arial, sans-serif; font-size: 5px; fill: rgb(68, 68, 68); fill-opacity: 1; white-space: pre;\">11</text></g><g class=\"heatmap-label\"><text text-anchor=\"middle\" data-notex=\"1\" x=\"154\" y=\"93.75\" style=\"font-family: 'Open Sans', verdana, arial, sans-serif; font-size: 5px; fill: rgb(68, 68, 68); fill-opacity: 1; white-space: pre;\">9.0</text></g><g class=\"heatmap-label\"><text text-anchor=\"middle\" data-notex=\"1\" x=\"188\" y=\"93.75\" style=\"font-family: 'Open Sans', verdana, arial, sans-serif; font-size: 5px; fill: rgb(68, 68, 68); fill-opacity: 1; white-space: pre;\">2</text></g><g class=\"heatmap-label\"><text text-anchor=\"middle\" data-notex=\"1\" x=\"222\" y=\"93.75\" style=\"font-family: 'Open Sans', verdana, arial, sans-serif; font-size: 5px; fill: rgb(68, 68, 68); fill-opacity: 1; white-space: pre;\">6</text></g><g class=\"heatmap-label\"><text text-anchor=\"middle\" data-notex=\"1\" x=\"256\" y=\"93.75\" style=\"font-family: 'Open Sans', verdana, arial, sans-serif; font-size: 5px; fill: rgb(68, 68, 68); fill-opacity: 1; white-space: pre;\">0</text></g><g class=\"heatmap-label\"><text text-anchor=\"middle\" data-notex=\"1\" x=\"290\" y=\"93.75\" style=\"font-family: 'Open Sans', verdana, arial, sans-serif; font-size: 5px; fill: rgb(68, 68, 68); fill-opacity: 1; white-space: pre;\">4</text></g><g class=\"heatmap-label\"><text text-anchor=\"middle\" data-notex=\"1\" x=\"324\" y=\"93.75\" style=\"font-family: 'Open Sans', verdana, arial, sans-serif; font-size: 5px; fill: rgb(68, 68, 68); fill-opacity: 1; white-space: pre;\">1</text></g><g class=\"heatmap-label\"><text text-anchor=\"middle\" data-notex=\"1\" x=\"358\" y=\"93.75\" style=\"font-family: 'Open Sans', verdana, arial, sans-serif; font-size: 5px; fill: rgb(68, 68, 68); fill-opacity: 1; white-space: pre;\">0.0</text></g><g class=\"heatmap-label\"><text text-anchor=\"middle\" data-notex=\"1\" x=\"393\" y=\"93.75\" style=\"font-family: 'Open Sans', verdana, arial, sans-serif; font-size: 5px; fill: rgb(255, 255, 255); fill-opacity: 1; white-space: pre;\">0.0</text></g><g class=\"heatmap-label\"><text text-anchor=\"middle\" data-notex=\"1\" x=\"427\" y=\"93.75\" style=\"font-family: 'Open Sans', verdana, arial, sans-serif; font-size: 5px; fill: rgb(68, 68, 68); fill-opacity: 1; white-space: pre;\">40.0</text></g><g class=\"heatmap-label\"><text text-anchor=\"middle\" data-notex=\"1\" x=\"461\" y=\"93.75\" style=\"font-family: 'Open Sans', verdana, arial, sans-serif; font-size: 5px; fill: rgb(255, 255, 255); fill-opacity: 1; white-space: pre;\">39</text></g><g class=\"heatmap-label\"><text text-anchor=\"middle\" data-notex=\"1\" x=\"495\" y=\"93.75\" style=\"font-family: 'Open Sans', verdana, arial, sans-serif; font-size: 5px; fill: rgb(255, 255, 255); fill-opacity: 1; white-space: pre;\">1</text></g><g class=\"heatmap-label\"><text text-anchor=\"middle\" data-notex=\"1\" x=\"17\" y=\"154.75\" style=\"font-family: 'Open Sans', verdana, arial, sans-serif; font-size: 5px; fill: rgb(255, 255, 255); fill-opacity: 1; white-space: pre;\">36.0</text></g><g class=\"heatmap-label\"><text text-anchor=\"middle\" data-notex=\"1\" x=\"51\" y=\"154.75\" style=\"font-family: 'Open Sans', verdana, arial, sans-serif; font-size: 5px; fill: rgb(68, 68, 68); fill-opacity: 1; white-space: pre;\">4</text></g><g class=\"heatmap-label\"><text text-anchor=\"middle\" data-notex=\"1\" x=\"85\" y=\"154.75\" style=\"font-family: 'Open Sans', verdana, arial, sans-serif; font-size: 5px; fill: rgb(68, 68, 68); fill-opacity: 1; white-space: pre;\">209629.0</text></g><g class=\"heatmap-label\"><text text-anchor=\"middle\" data-notex=\"1\" x=\"119\" y=\"154.75\" style=\"font-family: 'Open Sans', verdana, arial, sans-serif; font-size: 5px; fill: rgb(68, 68, 68); fill-opacity: 1; white-space: pre;\">11</text></g><g class=\"heatmap-label\"><text text-anchor=\"middle\" data-notex=\"1\" x=\"154\" y=\"154.75\" style=\"font-family: 'Open Sans', verdana, arial, sans-serif; font-size: 5px; fill: rgb(255, 255, 255); fill-opacity: 1; white-space: pre;\">9.0</text></g><g class=\"heatmap-label\"><text text-anchor=\"middle\" data-notex=\"1\" x=\"188\" y=\"154.75\" style=\"font-family: 'Open Sans', verdana, arial, sans-serif; font-size: 5px; fill: rgb(68, 68, 68); fill-opacity: 1; white-space: pre;\">2</text></g><g class=\"heatmap-label\"><text text-anchor=\"middle\" data-notex=\"1\" x=\"222\" y=\"154.75\" style=\"font-family: 'Open Sans', verdana, arial, sans-serif; font-size: 5px; fill: rgb(68, 68, 68); fill-opacity: 1; white-space: pre;\">7</text></g><g class=\"heatmap-label\"><text text-anchor=\"middle\" data-notex=\"1\" x=\"256\" y=\"154.75\" style=\"font-family: 'Open Sans', verdana, arial, sans-serif; font-size: 5px; fill: rgb(68, 68, 68); fill-opacity: 1; white-space: pre;\">0</text></g><g class=\"heatmap-label\"><text text-anchor=\"middle\" data-notex=\"1\" x=\"290\" y=\"154.75\" style=\"font-family: 'Open Sans', verdana, arial, sans-serif; font-size: 5px; fill: rgb(68, 68, 68); fill-opacity: 1; white-space: pre;\">4</text></g><g class=\"heatmap-label\"><text text-anchor=\"middle\" data-notex=\"1\" x=\"324\" y=\"154.75\" style=\"font-family: 'Open Sans', verdana, arial, sans-serif; font-size: 5px; fill: rgb(68, 68, 68); fill-opacity: 1; white-space: pre;\">1</text></g><g class=\"heatmap-label\"><text text-anchor=\"middle\" data-notex=\"1\" x=\"358\" y=\"154.75\" style=\"font-family: 'Open Sans', verdana, arial, sans-serif; font-size: 5px; fill: rgb(68, 68, 68); fill-opacity: 1; white-space: pre;\">0.0</text></g><g class=\"heatmap-label\"><text text-anchor=\"middle\" data-notex=\"1\" x=\"393\" y=\"154.75\" style=\"font-family: 'Open Sans', verdana, arial, sans-serif; font-size: 5px; fill: rgb(68, 68, 68); fill-opacity: 1; white-space: pre;\">0.0</text></g><g class=\"heatmap-label\"><text text-anchor=\"middle\" data-notex=\"1\" x=\"427\" y=\"154.75\" style=\"font-family: 'Open Sans', verdana, arial, sans-serif; font-size: 5px; fill: rgb(68, 68, 68); fill-opacity: 1; white-space: pre;\">40.0</text></g><g class=\"heatmap-label\"><text text-anchor=\"middle\" data-notex=\"1\" x=\"461\" y=\"154.75\" style=\"font-family: 'Open Sans', verdana, arial, sans-serif; font-size: 5px; fill: rgb(68, 68, 68); fill-opacity: 1; white-space: pre;\">39</text></g><g class=\"heatmap-label\"><text text-anchor=\"middle\" data-notex=\"1\" x=\"495\" y=\"154.75\" style=\"font-family: 'Open Sans', verdana, arial, sans-serif; font-size: 5px; fill: rgb(68, 68, 68); fill-opacity: 1; white-space: pre;\">1</text></g><g class=\"heatmap-label\"><text text-anchor=\"middle\" data-notex=\"1\" x=\"17\" y=\"215.75\" style=\"font-family: 'Open Sans', verdana, arial, sans-serif; font-size: 5px; fill: rgb(68, 68, 68); fill-opacity: 1; white-space: pre;\">25.0</text></g><g class=\"heatmap-label\"><text text-anchor=\"middle\" data-notex=\"1\" x=\"51\" y=\"215.75\" style=\"font-family: 'Open Sans', verdana, arial, sans-serif; font-size: 5px; fill: rgb(68, 68, 68); fill-opacity: 1; white-space: pre;\">4</text></g><g class=\"heatmap-label\"><text text-anchor=\"middle\" data-notex=\"1\" x=\"85\" y=\"215.75\" style=\"font-family: 'Open Sans', verdana, arial, sans-serif; font-size: 5px; fill: rgb(68, 68, 68); fill-opacity: 1; white-space: pre;\">236267.0</text></g><g class=\"heatmap-label\"><text text-anchor=\"middle\" data-notex=\"1\" x=\"119\" y=\"215.75\" style=\"font-family: 'Open Sans', verdana, arial, sans-serif; font-size: 5px; fill: rgb(68, 68, 68); fill-opacity: 1; white-space: pre;\">11</text></g><g class=\"heatmap-label\"><text text-anchor=\"middle\" data-notex=\"1\" x=\"154\" y=\"215.75\" style=\"font-family: 'Open Sans', verdana, arial, sans-serif; font-size: 5px; fill: rgb(68, 68, 68); fill-opacity: 1; white-space: pre;\">9.0</text></g><g class=\"heatmap-label\"><text text-anchor=\"middle\" data-notex=\"1\" x=\"188\" y=\"215.75\" style=\"font-family: 'Open Sans', verdana, arial, sans-serif; font-size: 5px; fill: rgb(68, 68, 68); fill-opacity: 1; white-space: pre;\">2</text></g><g class=\"heatmap-label\"><text text-anchor=\"middle\" data-notex=\"1\" x=\"222\" y=\"215.75\" style=\"font-family: 'Open Sans', verdana, arial, sans-serif; font-size: 5px; fill: rgb(68, 68, 68); fill-opacity: 1; white-space: pre;\">6</text></g><g class=\"heatmap-label\"><text text-anchor=\"middle\" data-notex=\"1\" x=\"256\" y=\"215.75\" style=\"font-family: 'Open Sans', verdana, arial, sans-serif; font-size: 5px; fill: rgb(68, 68, 68); fill-opacity: 1; white-space: pre;\">0</text></g><g class=\"heatmap-label\"><text text-anchor=\"middle\" data-notex=\"1\" x=\"290\" y=\"215.75\" style=\"font-family: 'Open Sans', verdana, arial, sans-serif; font-size: 5px; fill: rgb(68, 68, 68); fill-opacity: 1; white-space: pre;\">4</text></g><g class=\"heatmap-label\"><text text-anchor=\"middle\" data-notex=\"1\" x=\"324\" y=\"215.75\" style=\"font-family: 'Open Sans', verdana, arial, sans-serif; font-size: 5px; fill: rgb(68, 68, 68); fill-opacity: 1; white-space: pre;\">1</text></g><g class=\"heatmap-label\"><text text-anchor=\"middle\" data-notex=\"1\" x=\"358\" y=\"215.75\" style=\"font-family: 'Open Sans', verdana, arial, sans-serif; font-size: 5px; fill: rgb(68, 68, 68); fill-opacity: 1; white-space: pre;\">0.0</text></g><g class=\"heatmap-label\"><text text-anchor=\"middle\" data-notex=\"1\" x=\"393\" y=\"215.75\" style=\"font-family: 'Open Sans', verdana, arial, sans-serif; font-size: 5px; fill: rgb(255, 255, 255); fill-opacity: 1; white-space: pre;\">0.0</text></g><g class=\"heatmap-label\"><text text-anchor=\"middle\" data-notex=\"1\" x=\"427\" y=\"215.75\" style=\"font-family: 'Open Sans', verdana, arial, sans-serif; font-size: 5px; fill: rgb(68, 68, 68); fill-opacity: 1; white-space: pre;\">40.0</text></g><g class=\"heatmap-label\"><text text-anchor=\"middle\" data-notex=\"1\" x=\"461\" y=\"215.75\" style=\"font-family: 'Open Sans', verdana, arial, sans-serif; font-size: 5px; fill: rgb(68, 68, 68); fill-opacity: 1; white-space: pre;\">39</text></g><g class=\"heatmap-label\"><text text-anchor=\"middle\" data-notex=\"1\" x=\"495\" y=\"215.75\" style=\"font-family: 'Open Sans', verdana, arial, sans-serif; font-size: 5px; fill: rgb(255, 255, 255); fill-opacity: 1; white-space: pre;\">1</text></g><g class=\"heatmap-label\"><text text-anchor=\"middle\" data-notex=\"1\" x=\"17\" y=\"276.75\" style=\"font-family: 'Open Sans', verdana, arial, sans-serif; font-size: 5px; fill: rgb(68, 68, 68); fill-opacity: 1; white-space: pre;\">20.0</text></g><g class=\"heatmap-label\"><text text-anchor=\"middle\" data-notex=\"1\" x=\"51\" y=\"276.75\" style=\"font-family: 'Open Sans', verdana, arial, sans-serif; font-size: 5px; fill: rgb(68, 68, 68); fill-opacity: 1; white-space: pre;\">0</text></g><g class=\"heatmap-label\"><text text-anchor=\"middle\" data-notex=\"1\" x=\"85\" y=\"276.75\" style=\"font-family: 'Open Sans', verdana, arial, sans-serif; font-size: 5px; fill: rgb(68, 68, 68); fill-opacity: 1; white-space: pre;\">201766.0</text></g><g class=\"heatmap-label\"><text text-anchor=\"middle\" data-notex=\"1\" x=\"119\" y=\"276.75\" style=\"font-family: 'Open Sans', verdana, arial, sans-serif; font-size: 5px; fill: rgb(68, 68, 68); fill-opacity: 1; white-space: pre;\">15</text></g><g class=\"heatmap-label\"><text text-anchor=\"middle\" data-notex=\"1\" x=\"154\" y=\"276.75\" style=\"font-family: 'Open Sans', verdana, arial, sans-serif; font-size: 5px; fill: rgb(255, 255, 255); fill-opacity: 1; white-space: pre;\">10.0</text></g><g class=\"heatmap-label\"><text text-anchor=\"middle\" data-notex=\"1\" x=\"188\" y=\"276.75\" style=\"font-family: 'Open Sans', verdana, arial, sans-serif; font-size: 5px; fill: rgb(68, 68, 68); fill-opacity: 1; white-space: pre;\">4</text></g><g class=\"heatmap-label\"><text text-anchor=\"middle\" data-notex=\"1\" x=\"222\" y=\"276.75\" style=\"font-family: 'Open Sans', verdana, arial, sans-serif; font-size: 5px; fill: rgb(255, 255, 255); fill-opacity: 1; white-space: pre;\">0</text></g><g class=\"heatmap-label\"><text text-anchor=\"middle\" data-notex=\"1\" x=\"256\" y=\"276.75\" style=\"font-family: 'Open Sans', verdana, arial, sans-serif; font-size: 5px; fill: rgb(68, 68, 68); fill-opacity: 1; white-space: pre;\">3</text></g><g class=\"heatmap-label\"><text text-anchor=\"middle\" data-notex=\"1\" x=\"290\" y=\"276.75\" style=\"font-family: 'Open Sans', verdana, arial, sans-serif; font-size: 5px; fill: rgb(68, 68, 68); fill-opacity: 1; white-space: pre;\">4</text></g><g class=\"heatmap-label\"><text text-anchor=\"middle\" data-notex=\"1\" x=\"324\" y=\"276.75\" style=\"font-family: 'Open Sans', verdana, arial, sans-serif; font-size: 5px; fill: rgb(68, 68, 68); fill-opacity: 1; white-space: pre;\">0</text></g><g class=\"heatmap-label\"><text text-anchor=\"middle\" data-notex=\"1\" x=\"358\" y=\"276.75\" style=\"font-family: 'Open Sans', verdana, arial, sans-serif; font-size: 5px; fill: rgb(68, 68, 68); fill-opacity: 1; white-space: pre;\">0.0</text></g><g class=\"heatmap-label\"><text text-anchor=\"middle\" data-notex=\"1\" x=\"393\" y=\"276.75\" style=\"font-family: 'Open Sans', verdana, arial, sans-serif; font-size: 5px; fill: rgb(68, 68, 68); fill-opacity: 1; white-space: pre;\">0.0</text></g><g class=\"heatmap-label\"><text text-anchor=\"middle\" data-notex=\"1\" x=\"427\" y=\"276.75\" style=\"font-family: 'Open Sans', verdana, arial, sans-serif; font-size: 5px; fill: rgb(68, 68, 68); fill-opacity: 1; white-space: pre;\">35.0</text></g><g class=\"heatmap-label\"><text text-anchor=\"middle\" data-notex=\"1\" x=\"461\" y=\"276.75\" style=\"font-family: 'Open Sans', verdana, arial, sans-serif; font-size: 5px; fill: rgb(68, 68, 68); fill-opacity: 1; white-space: pre;\">39</text></g><g class=\"heatmap-label\"><text text-anchor=\"middle\" data-notex=\"1\" x=\"495\" y=\"276.75\" style=\"font-family: 'Open Sans', verdana, arial, sans-serif; font-size: 5px; fill: rgb(68, 68, 68); fill-opacity: 1; white-space: pre;\">1</text></g></g></g></g></g><path class=\"xlines-above crisp\" d=\"M0,0\" style=\"fill: none;\"/><path class=\"ylines-above crisp\" d=\"M0,0\" style=\"fill: none;\"/><g class=\"overlines-above\"/><g class=\"xaxislayer-above\"><g class=\"xtick\"><text text-anchor=\"start\" x=\"0\" y=\"419\" transform=\"translate(97.07,0) rotate(29.999999999999996,0,413)\" style=\"font-family: 'Open Sans', verdana, arial, sans-serif; font-size: 12px; fill: rgb(42, 63, 95); fill-opacity: 1; white-space: pre; opacity: 1;\">age</text></g><g class=\"xtick\"><text text-anchor=\"start\" x=\"0\" y=\"419\" transform=\"translate(131.2,0) rotate(29.999999999999996,0,413)\" style=\"font-family: 'Open Sans', verdana, arial, sans-serif; font-size: 12px; fill: rgb(42, 63, 95); fill-opacity: 1; white-space: pre; opacity: 1;\">workclass</text></g><g class=\"xtick\"><text text-anchor=\"start\" x=\"0\" y=\"419\" transform=\"translate(165.32999999999998,0) rotate(29.999999999999996,0,413)\" style=\"font-family: 'Open Sans', verdana, arial, sans-serif; font-size: 12px; fill: rgb(42, 63, 95); fill-opacity: 1; white-space: pre; opacity: 1;\">fnlwgt</text></g><g class=\"xtick\"><text text-anchor=\"start\" x=\"0\" y=\"419\" transform=\"translate(199.47,0) rotate(29.999999999999996,0,413)\" style=\"font-family: 'Open Sans', verdana, arial, sans-serif; font-size: 12px; fill: rgb(42, 63, 95); fill-opacity: 1; white-space: pre; opacity: 1;\">education</text></g><g class=\"xtick\"><text text-anchor=\"start\" x=\"0\" y=\"419\" transform=\"translate(233.6,0) rotate(29.999999999999996,0,413)\" style=\"font-family: 'Open Sans', verdana, arial, sans-serif; font-size: 12px; fill: rgb(42, 63, 95); fill-opacity: 1; white-space: pre; opacity: 1;\">education-num</text></g><g class=\"xtick\"><text text-anchor=\"start\" x=\"0\" y=\"419\" transform=\"translate(267.73,0) rotate(29.999999999999996,0,413)\" style=\"font-family: 'Open Sans', verdana, arial, sans-serif; font-size: 12px; fill: rgb(42, 63, 95); fill-opacity: 1; white-space: pre; opacity: 1;\">marital-status</text></g><g class=\"xtick\"><text text-anchor=\"start\" x=\"0\" y=\"419\" transform=\"translate(301.87,0) rotate(29.999999999999996,0,413)\" style=\"font-family: 'Open Sans', verdana, arial, sans-serif; font-size: 12px; fill: rgb(42, 63, 95); fill-opacity: 1; white-space: pre; opacity: 1;\">occupation</text></g><g class=\"xtick\"><text text-anchor=\"start\" x=\"0\" y=\"419\" transform=\"translate(336,0) rotate(29.999999999999996,0,413)\" style=\"font-family: 'Open Sans', verdana, arial, sans-serif; font-size: 12px; fill: rgb(42, 63, 95); fill-opacity: 1; white-space: pre; opacity: 1;\">relationship</text></g><g class=\"xtick\"><text text-anchor=\"start\" x=\"0\" y=\"419\" transform=\"translate(370.13,0) rotate(29.999999999999996,0,413)\" style=\"font-family: 'Open Sans', verdana, arial, sans-serif; font-size: 12px; fill: rgb(42, 63, 95); fill-opacity: 1; white-space: pre; opacity: 1;\">race</text></g><g class=\"xtick\"><text text-anchor=\"start\" x=\"0\" y=\"419\" transform=\"translate(404.27,0) rotate(29.999999999999996,0,413)\" style=\"font-family: 'Open Sans', verdana, arial, sans-serif; font-size: 12px; fill: rgb(42, 63, 95); fill-opacity: 1; white-space: pre; opacity: 1;\">sex</text></g><g class=\"xtick\"><text text-anchor=\"start\" x=\"0\" y=\"419\" transform=\"translate(438.4,0) rotate(29.999999999999996,0,413)\" style=\"font-family: 'Open Sans', verdana, arial, sans-serif; font-size: 12px; fill: rgb(42, 63, 95); fill-opacity: 1; white-space: pre; opacity: 1;\">capital-gain</text></g><g class=\"xtick\"><text text-anchor=\"start\" x=\"0\" y=\"419\" transform=\"translate(472.53,0) rotate(29.999999999999996,0,413)\" style=\"font-family: 'Open Sans', verdana, arial, sans-serif; font-size: 12px; fill: rgb(42, 63, 95); fill-opacity: 1; white-space: pre; opacity: 1;\">capital-loss</text></g><g class=\"xtick\"><text text-anchor=\"start\" x=\"0\" y=\"419\" transform=\"translate(506.67,0) rotate(29.999999999999996,0,413)\" style=\"font-family: 'Open Sans', verdana, arial, sans-serif; font-size: 12px; fill: rgb(42, 63, 95); fill-opacity: 1; white-space: pre; opacity: 1;\">hours-per-week</text></g><g class=\"xtick\"><text text-anchor=\"start\" x=\"0\" y=\"419\" transform=\"translate(540.8,0) rotate(29.999999999999996,0,413)\" style=\"font-family: 'Open Sans', verdana, arial, sans-serif; font-size: 12px; fill: rgb(42, 63, 95); fill-opacity: 1; white-space: pre; opacity: 1;\">native-country</text></g><g class=\"xtick\"><text text-anchor=\"start\" x=\"0\" y=\"419\" transform=\"translate(574.9300000000001,0) rotate(29.999999999999996,0,413)\" style=\"font-family: 'Open Sans', verdana, arial, sans-serif; font-size: 12px; fill: rgb(42, 63, 95); fill-opacity: 1; white-space: pre; opacity: 1;\">target</text></g></g><g class=\"yaxislayer-above\"><g class=\"ytick\"><text text-anchor=\"end\" x=\"79\" y=\"4.199999999999999\" transform=\"translate(0,375.4)\" style=\"font-family: 'Open Sans', verdana, arial, sans-serif; font-size: 12px; fill: rgb(42, 63, 95); fill-opacity: 1; white-space: pre; opacity: 1;\">4</text></g><g class=\"ytick\"><text text-anchor=\"end\" x=\"79\" y=\"4.199999999999999\" style=\"font-family: 'Open Sans', verdana, arial, sans-serif; font-size: 12px; fill: rgb(42, 63, 95); fill-opacity: 1; white-space: pre; opacity: 1;\" transform=\"translate(0,314.2)\">3</text></g><g class=\"ytick\"><text text-anchor=\"end\" x=\"79\" y=\"4.199999999999999\" style=\"font-family: 'Open Sans', verdana, arial, sans-serif; font-size: 12px; fill: rgb(42, 63, 95); fill-opacity: 1; white-space: pre; opacity: 1;\" transform=\"translate(0,253)\">2</text></g><g class=\"ytick\"><text text-anchor=\"end\" x=\"79\" y=\"4.199999999999999\" style=\"font-family: 'Open Sans', verdana, arial, sans-serif; font-size: 12px; fill: rgb(42, 63, 95); fill-opacity: 1; white-space: pre; opacity: 1;\" transform=\"translate(0,191.8)\">1</text></g><g class=\"ytick\"><text text-anchor=\"end\" x=\"79\" y=\"4.199999999999999\" style=\"font-family: 'Open Sans', verdana, arial, sans-serif; font-size: 12px; fill: rgb(42, 63, 95); fill-opacity: 1; white-space: pre; opacity: 1;\" transform=\"translate(0,130.6)\">0</text></g></g><g class=\"overaxes-above\"/></g></g><g class=\"polarlayer\"/><g class=\"smithlayer\"/><g class=\"ternarylayer\"/><g class=\"geolayer\"/><g class=\"funnelarealayer\"/><g class=\"pielayer\"/><g class=\"iciclelayer\"/><g class=\"treemaplayer\"/><g class=\"sunburstlayer\"/><g class=\"glimages\"/><defs id=\"topdefs-924195\"><g class=\"clips\"/></defs><g class=\"layer-above\"><g class=\"imagelayer\"/><g class=\"shapelayer\"/></g><g class=\"infolayer\"><g class=\"cbcoloraxis colorbar\" transform=\"translate(80,100)\"><rect class=\"cbbg\" x=\"522\" y=\"0\" width=\"85.615234375\" height=\"306\" style=\"fill: rgb(0, 0, 0); fill-opacity: 0; stroke: rgb(68, 68, 68); stroke-opacity: 1; stroke-width: 0;\"/><g class=\"cbfills\" transform=\"translate(0,31)\"><rect class=\"cbfill gradient_filled\" style=\"fill: url('#g924195-cbcoloraxis');\" x=\"532\" y=\"0\" width=\"30\" height=\"265\"/></g><g class=\"cblines\" transform=\"translate(0,31)\"/><g class=\"cbaxis crisp\" transform=\"translate(0,-100)\"><g class=\"ycbcoloraxistick\"><text text-anchor=\"start\" x=\"564.9\" y=\"4.199999999999999\" transform=\"translate(0,396)\" style=\"font-family: 'Open Sans', verdana, arial, sans-serif; font-size: 12px; fill: rgb(42, 63, 95); fill-opacity: 1; white-space: pre; opacity: 1;\">0</text></g><g class=\"ycbcoloraxistick\"><text text-anchor=\"start\" x=\"564.9\" y=\"4.199999999999999\" style=\"font-family: 'Open Sans', verdana, arial, sans-serif; font-size: 12px; fill: rgb(42, 63, 95); fill-opacity: 1; white-space: pre; opacity: 1;\" transform=\"translate(0,369.5)\">0.5</text></g><g class=\"ycbcoloraxistick\"><text text-anchor=\"start\" x=\"564.9\" y=\"4.199999999999999\" style=\"font-family: 'Open Sans', verdana, arial, sans-serif; font-size: 12px; fill: rgb(42, 63, 95); fill-opacity: 1; white-space: pre; opacity: 1;\" transform=\"translate(0,343)\">1</text></g><g class=\"ycbcoloraxistick\"><text text-anchor=\"start\" x=\"564.9\" y=\"4.199999999999999\" style=\"font-family: 'Open Sans', verdana, arial, sans-serif; font-size: 12px; fill: rgb(42, 63, 95); fill-opacity: 1; white-space: pre; opacity: 1;\" transform=\"translate(0,316.5)\">1.5</text></g><g class=\"ycbcoloraxistick\"><text text-anchor=\"start\" x=\"564.9\" y=\"4.199999999999999\" style=\"font-family: 'Open Sans', verdana, arial, sans-serif; font-size: 12px; fill: rgb(42, 63, 95); fill-opacity: 1; white-space: pre; opacity: 1;\" transform=\"translate(0,290)\">2</text></g><g class=\"ycbcoloraxistick\"><text text-anchor=\"start\" x=\"564.9\" y=\"4.199999999999999\" style=\"font-family: 'Open Sans', verdana, arial, sans-serif; font-size: 12px; fill: rgb(42, 63, 95); fill-opacity: 1; white-space: pre; opacity: 1;\" transform=\"translate(0,263.5)\">2.5</text></g><g class=\"ycbcoloraxistick\"><text text-anchor=\"start\" x=\"564.9\" y=\"4.199999999999999\" style=\"font-family: 'Open Sans', verdana, arial, sans-serif; font-size: 12px; fill: rgb(42, 63, 95); fill-opacity: 1; white-space: pre; opacity: 1;\" transform=\"translate(0,237)\">3</text></g><g class=\"ycbcoloraxistick\"><text text-anchor=\"start\" x=\"564.9\" y=\"4.199999999999999\" style=\"font-family: 'Open Sans', verdana, arial, sans-serif; font-size: 12px; fill: rgb(42, 63, 95); fill-opacity: 1; white-space: pre; opacity: 1;\" transform=\"translate(0,210.5)\">3.5</text></g><g class=\"ycbcoloraxistick\"><text text-anchor=\"start\" x=\"564.9\" y=\"4.199999999999999\" style=\"font-family: 'Open Sans', verdana, arial, sans-serif; font-size: 12px; fill: rgb(42, 63, 95); fill-opacity: 1; white-space: pre; opacity: 1;\" transform=\"translate(0,184)\">4</text></g><g class=\"ycbcoloraxistick\"><text text-anchor=\"start\" x=\"564.9\" y=\"4.199999999999999\" style=\"font-family: 'Open Sans', verdana, arial, sans-serif; font-size: 12px; fill: rgb(42, 63, 95); fill-opacity: 1; white-space: pre; opacity: 1;\" transform=\"translate(0,157.5)\">4.5</text></g><g class=\"ycbcoloraxistick\"><text text-anchor=\"start\" x=\"564.9\" y=\"4.199999999999999\" style=\"font-family: 'Open Sans', verdana, arial, sans-serif; font-size: 12px; fill: rgb(42, 63, 95); fill-opacity: 1; white-space: pre; opacity: 1;\" transform=\"translate(0,131)\">≥5</text></g></g><g class=\"cbtitleunshift\" transform=\"translate(-80,-100)\"><g class=\"cbtitle\" transform=\"\"><text class=\"ycbcoloraxistitle\" x=\"612.24\" y=\"123.5\" text-anchor=\"start\" style=\"opacity: 1; font-family: 'Open Sans', verdana, arial, sans-serif; font-size: 14px; fill: rgb(42, 63, 95); fill-opacity: 1; white-space: pre;\">Conviction</text></g></g><rect class=\"cboutline\" x=\"532\" y=\"31\" width=\"30\" height=\"265\" style=\"stroke: rgb(68, 68, 68); stroke-opacity: 1; fill: none; stroke-width: 0;\"/></g><g class=\"g-gtitle\"><text class=\"gtitle\" x=\"35\" y=\"50\" text-anchor=\"start\" dy=\"0em\" style=\"opacity: 1; font-family: 'Open Sans', verdana, arial, sans-serif; font-size: 17px; fill: rgb(42, 63, 95); fill-opacity: 1; white-space: pre;\">Anomalies</text></g><g class=\"g-xtitle\"><text class=\"xtitle\" x=\"336\" y=\"487.2775390625\" text-anchor=\"middle\" style=\"opacity: 1; font-family: 'Open Sans', verdana, arial, sans-serif; font-size: 14px; fill: rgb(42, 63, 95); fill-opacity: 1; white-space: pre;\">Feature</text></g><g class=\"g-ytitle\"/></g></svg>"
      ]
     },
     "metadata": {},
     "output_type": "display_data"
    }
   ],
   "source": [
    "fig = plot_anomalies(inliers, inlier_case_feature_residual_convictions)\n",
    "fig.show(width=1500, height=750)"
   ]
  },
  {
   "attachments": {},
   "cell_type": "markdown",
   "metadata": {},
   "source": [
    "This chart is viewed similarly to the outliers chart, however we are now examining cases that are too similar. We can see that for several cases, most features show high `feature_residual_conviction`, indicating that that feature can very easily predicted using the other features. This indicates that all these feature values are unusually predictable compared to the rest of the cases in the model."
   ]
  },
  {
   "attachments": {},
   "cell_type": "markdown",
   "metadata": {},
   "source": [
    "# Section 4: Additional Ideas\n",
    "\n",
    "Here we detail some additional examples methods of diving deeper into the possible anomalies detected above."
   ]
  },
  {
   "cell_type": "code",
   "execution_count": 12,
   "metadata": {
    "execution": {
     "iopub.execute_input": "2025-07-22T15:16:25.056395Z",
     "iopub.status.busy": "2025-07-22T15:16:25.056211Z",
     "iopub.status.idle": "2025-07-22T15:16:25.061587Z",
     "shell.execute_reply": "2025-07-22T15:16:25.061070Z"
    }
   },
   "outputs": [],
   "source": [
    "# Helper functions\n",
    "\n",
    "def case_explain_residuals_ratio(anomalous_df, case_feature_residual_convictions, case_ind, num_features=5):\n",
    "    \"\"\"Inspect a single case and identify which of its features are particularly anomalous.\"\"\"\n",
    "    case = anomalous_df.iloc[case_ind, : ]\n",
    "    case_num = case['.session_training_index']\n",
    "    case_df = pd.concat([case, case_feature_residual_convictions.iloc[case_ind, :]], axis=1)\n",
    "    case_df = case_df.loc[df.columns]\n",
    "    case_df.columns = ['values', 'feature_full_residual_convictions_for_case']\n",
    "    case_df = case_df.sort_values(['feature_full_residual_convictions_for_case'], ascending=True)\n",
    "    print(f'key features which caused case {case_num} to be anomalous: {case_df.head().index.tolist()}')\n",
    "    print('')\n",
    "    display(case_df.head())\n",
    "\n",
    "def get_cases(anomalous_df, results, case_ind):\n",
    "    \"\"\"Inspect a single anomalous case and display its influential and boundary cases.\"\"\"\n",
    "    case = anomalous_df.iloc[case_ind, :]\n",
    "    inf_cases = pd.DataFrame(results['details']['influential_cases'][case_ind])\n",
    "\n",
    "    print('Original Case:')\n",
    "    display(case)\n",
    "    print('')\n",
    "\n",
    "    print('Influential Cases:')\n",
    "    display(inf_cases)\n",
    "    print('')"
   ]
  },
  {
   "attachments": {},
   "cell_type": "markdown",
   "metadata": {},
   "source": [
    "We can print out a more detailed view of the Outlier Residual Conviction chart shown earlier."
   ]
  },
  {
   "cell_type": "code",
   "execution_count": 13,
   "metadata": {
    "execution": {
     "iopub.execute_input": "2025-07-22T15:16:25.063300Z",
     "iopub.status.busy": "2025-07-22T15:16:25.063121Z",
     "iopub.status.idle": "2025-07-22T15:16:25.075733Z",
     "shell.execute_reply": "2025-07-22T15:16:25.075227Z"
    }
   },
   "outputs": [
    {
     "name": "stdout",
     "output_type": "stream",
     "text": [
      "key features which caused case 540 to be anomalous: ['education-num', 'native-country', 'race', 'workclass', 'relationship']\n",
      "\n"
     ]
    },
    {
     "data": {
      "text/html": [
       "<div>\n",
       "<style scoped>\n",
       "    .dataframe tbody tr th:only-of-type {\n",
       "        vertical-align: middle;\n",
       "    }\n",
       "\n",
       "    .dataframe tbody tr th {\n",
       "        vertical-align: top;\n",
       "    }\n",
       "\n",
       "    .dataframe thead th {\n",
       "        text-align: right;\n",
       "    }\n",
       "</style>\n",
       "<table border=\"1\" class=\"dataframe\">\n",
       "  <thead>\n",
       "    <tr style=\"text-align: right;\">\n",
       "      <th></th>\n",
       "      <th>values</th>\n",
       "      <th>feature_full_residual_convictions_for_case</th>\n",
       "    </tr>\n",
       "  </thead>\n",
       "  <tbody>\n",
       "    <tr>\n",
       "      <th>education-num</th>\n",
       "      <td>1.0</td>\n",
       "      <td>0.026302</td>\n",
       "    </tr>\n",
       "    <tr>\n",
       "      <th>native-country</th>\n",
       "      <td>26</td>\n",
       "      <td>0.187200</td>\n",
       "    </tr>\n",
       "    <tr>\n",
       "      <th>race</th>\n",
       "      <td>4</td>\n",
       "      <td>0.355816</td>\n",
       "    </tr>\n",
       "    <tr>\n",
       "      <th>workclass</th>\n",
       "      <td>4</td>\n",
       "      <td>0.427390</td>\n",
       "    </tr>\n",
       "    <tr>\n",
       "      <th>relationship</th>\n",
       "      <td>1</td>\n",
       "      <td>0.653781</td>\n",
       "    </tr>\n",
       "  </tbody>\n",
       "</table>\n",
       "</div>"
      ],
      "text/plain": [
       "               values  feature_full_residual_convictions_for_case\n",
       "education-num     1.0                                    0.026302\n",
       "native-country     26                                    0.187200\n",
       "race                4                                    0.355816\n",
       "workclass           4                                    0.427390\n",
       "relationship        1                                    0.653781"
      ]
     },
     "metadata": {},
     "output_type": "display_data"
    },
    {
     "name": "stdout",
     "output_type": "stream",
     "text": [
      "_____________\n",
      "key features which caused case 732 to be anomalous: ['education-num', 'race', 'native-country', 'relationship', 'sex']\n",
      "\n"
     ]
    },
    {
     "data": {
      "text/html": [
       "<div>\n",
       "<style scoped>\n",
       "    .dataframe tbody tr th:only-of-type {\n",
       "        vertical-align: middle;\n",
       "    }\n",
       "\n",
       "    .dataframe tbody tr th {\n",
       "        vertical-align: top;\n",
       "    }\n",
       "\n",
       "    .dataframe thead th {\n",
       "        text-align: right;\n",
       "    }\n",
       "</style>\n",
       "<table border=\"1\" class=\"dataframe\">\n",
       "  <thead>\n",
       "    <tr style=\"text-align: right;\">\n",
       "      <th></th>\n",
       "      <th>values</th>\n",
       "      <th>feature_full_residual_convictions_for_case</th>\n",
       "    </tr>\n",
       "  </thead>\n",
       "  <tbody>\n",
       "    <tr>\n",
       "      <th>education-num</th>\n",
       "      <td>1.0</td>\n",
       "      <td>0.010856</td>\n",
       "    </tr>\n",
       "    <tr>\n",
       "      <th>race</th>\n",
       "      <td>1</td>\n",
       "      <td>0.178008</td>\n",
       "    </tr>\n",
       "    <tr>\n",
       "      <th>native-country</th>\n",
       "      <td>25</td>\n",
       "      <td>0.187200</td>\n",
       "    </tr>\n",
       "    <tr>\n",
       "      <th>relationship</th>\n",
       "      <td>1</td>\n",
       "      <td>0.664271</td>\n",
       "    </tr>\n",
       "    <tr>\n",
       "      <th>sex</th>\n",
       "      <td>0</td>\n",
       "      <td>0.665733</td>\n",
       "    </tr>\n",
       "  </tbody>\n",
       "</table>\n",
       "</div>"
      ],
      "text/plain": [
       "               values  feature_full_residual_convictions_for_case\n",
       "education-num     1.0                                    0.010856\n",
       "race                1                                    0.178008\n",
       "native-country     25                                    0.187200\n",
       "relationship        1                                    0.664271\n",
       "sex                 0                                    0.665733"
      ]
     },
     "metadata": {},
     "output_type": "display_data"
    },
    {
     "name": "stdout",
     "output_type": "stream",
     "text": [
      "_____________\n"
     ]
    }
   ],
   "source": [
    "# Print out the explanations for outliers\n",
    "for i in range(2):\n",
    "    case_explain_residuals_ratio(\n",
    "        outliers,\n",
    "        outlier_case_feature_residual_convictions,\n",
    "        i\n",
    "    )\n",
    "    print('_____________')"
   ]
  },
  {
   "attachments": {},
   "cell_type": "markdown",
   "metadata": {},
   "source": [
    "## Influential cases\n",
    "\n",
    "[Influential Cases](https://docs.howso.com/en/release-latest/getting_started/terminology.html#influential-cases) may also provide additional clues into potentially anomalous data. If a case's influential cases do not well represent itself, then this indicates there are no cases in the model that well represent the anomalous cases.\n"
   ]
  },
  {
   "cell_type": "code",
   "execution_count": 14,
   "metadata": {
    "execution": {
     "iopub.execute_input": "2025-07-22T15:16:25.077312Z",
     "iopub.status.busy": "2025-07-22T15:16:25.077137Z",
     "iopub.status.idle": "2025-07-22T15:16:25.098422Z",
     "shell.execute_reply": "2025-07-22T15:16:25.097925Z"
    }
   },
   "outputs": [
    {
     "name": "stdout",
     "output_type": "stream",
     "text": [
      "Original Case:\n"
     ]
    },
    {
     "data": {
      "text/plain": [
       "age                                                                30.0\n",
       "workclass                                                             4\n",
       "fnlwgt                                                         193598.0\n",
       "education                                                            13\n",
       "education-num                                                       1.0\n",
       "marital-status                                                        4\n",
       "occupation                                                            5\n",
       "relationship                                                          1\n",
       "race                                                                  4\n",
       "sex                                                                   1\n",
       "capital-gain                                                        0.0\n",
       "capital-loss                                                        0.0\n",
       "hours-per-week                                                     40.0\n",
       "native-country                                                       26\n",
       "target                                                                1\n",
       "familiarity_conviction_addition                                0.020019\n",
       ".session_training_index                                             540\n",
       ".session                           6fba7257-9499-44cf-b920-1c41aa740cdc\n",
       "distance_contribution                                        306.265156\n",
       "category                                                        outlier\n",
       "Name: 0, dtype: object"
      ]
     },
     "metadata": {},
     "output_type": "display_data"
    },
    {
     "name": "stdout",
     "output_type": "stream",
     "text": [
      "\n",
      "Influential Cases:\n"
     ]
    },
    {
     "data": {
      "text/html": [
       "<div>\n",
       "<style scoped>\n",
       "    .dataframe tbody tr th:only-of-type {\n",
       "        vertical-align: middle;\n",
       "    }\n",
       "\n",
       "    .dataframe tbody tr th {\n",
       "        vertical-align: top;\n",
       "    }\n",
       "\n",
       "    .dataframe thead th {\n",
       "        text-align: right;\n",
       "    }\n",
       "</style>\n",
       "<table border=\"1\" class=\"dataframe\">\n",
       "  <thead>\n",
       "    <tr style=\"text-align: right;\">\n",
       "      <th></th>\n",
       "      <th>fnlwgt</th>\n",
       "      <th>marital-status</th>\n",
       "      <th>capital-loss</th>\n",
       "      <th>race</th>\n",
       "      <th>age</th>\n",
       "      <th>.influence_weight</th>\n",
       "      <th>education</th>\n",
       "      <th>occupation</th>\n",
       "      <th>sex</th>\n",
       "      <th>target</th>\n",
       "      <th>.session</th>\n",
       "      <th>hours-per-week</th>\n",
       "      <th>workclass</th>\n",
       "      <th>education-num</th>\n",
       "      <th>capital-gain</th>\n",
       "      <th>relationship</th>\n",
       "      <th>native-country</th>\n",
       "      <th>.session_training_index</th>\n",
       "    </tr>\n",
       "  </thead>\n",
       "  <tbody>\n",
       "    <tr>\n",
       "      <th>0</th>\n",
       "      <td>173449</td>\n",
       "      <td>2</td>\n",
       "      <td>0</td>\n",
       "      <td>4</td>\n",
       "      <td>32</td>\n",
       "      <td>0.526602</td>\n",
       "      <td>11</td>\n",
       "      <td>6</td>\n",
       "      <td>1</td>\n",
       "      <td>1</td>\n",
       "      <td>6fba7257-9499-44cf-b920-1c41aa740cdc</td>\n",
       "      <td>40</td>\n",
       "      <td>4</td>\n",
       "      <td>9</td>\n",
       "      <td>0</td>\n",
       "      <td>0</td>\n",
       "      <td>39</td>\n",
       "      <td>510</td>\n",
       "    </tr>\n",
       "    <tr>\n",
       "      <th>1</th>\n",
       "      <td>96245</td>\n",
       "      <td>2</td>\n",
       "      <td>0</td>\n",
       "      <td>4</td>\n",
       "      <td>31</td>\n",
       "      <td>0.157386</td>\n",
       "      <td>11</td>\n",
       "      <td>6</td>\n",
       "      <td>1</td>\n",
       "      <td>1</td>\n",
       "      <td>6fba7257-9499-44cf-b920-1c41aa740cdc</td>\n",
       "      <td>42</td>\n",
       "      <td>4</td>\n",
       "      <td>9</td>\n",
       "      <td>0</td>\n",
       "      <td>0</td>\n",
       "      <td>39</td>\n",
       "      <td>604</td>\n",
       "    </tr>\n",
       "    <tr>\n",
       "      <th>2</th>\n",
       "      <td>269705</td>\n",
       "      <td>2</td>\n",
       "      <td>0</td>\n",
       "      <td>4</td>\n",
       "      <td>33</td>\n",
       "      <td>0.122871</td>\n",
       "      <td>11</td>\n",
       "      <td>6</td>\n",
       "      <td>1</td>\n",
       "      <td>1</td>\n",
       "      <td>6fba7257-9499-44cf-b920-1c41aa740cdc</td>\n",
       "      <td>40</td>\n",
       "      <td>4</td>\n",
       "      <td>9</td>\n",
       "      <td>0</td>\n",
       "      <td>0</td>\n",
       "      <td>39</td>\n",
       "      <td>407</td>\n",
       "    </tr>\n",
       "    <tr>\n",
       "      <th>3</th>\n",
       "      <td>218667</td>\n",
       "      <td>2</td>\n",
       "      <td>0</td>\n",
       "      <td>4</td>\n",
       "      <td>25</td>\n",
       "      <td>0.108620</td>\n",
       "      <td>11</td>\n",
       "      <td>6</td>\n",
       "      <td>1</td>\n",
       "      <td>1</td>\n",
       "      <td>6fba7257-9499-44cf-b920-1c41aa740cdc</td>\n",
       "      <td>40</td>\n",
       "      <td>4</td>\n",
       "      <td>9</td>\n",
       "      <td>0</td>\n",
       "      <td>0</td>\n",
       "      <td>39</td>\n",
       "      <td>881</td>\n",
       "    </tr>\n",
       "    <tr>\n",
       "      <th>4</th>\n",
       "      <td>236267</td>\n",
       "      <td>2</td>\n",
       "      <td>0</td>\n",
       "      <td>4</td>\n",
       "      <td>25</td>\n",
       "      <td>0.084522</td>\n",
       "      <td>11</td>\n",
       "      <td>6</td>\n",
       "      <td>1</td>\n",
       "      <td>1</td>\n",
       "      <td>6fba7257-9499-44cf-b920-1c41aa740cdc</td>\n",
       "      <td>40</td>\n",
       "      <td>4</td>\n",
       "      <td>9</td>\n",
       "      <td>0</td>\n",
       "      <td>0</td>\n",
       "      <td>39</td>\n",
       "      <td>269</td>\n",
       "    </tr>\n",
       "  </tbody>\n",
       "</table>\n",
       "</div>"
      ],
      "text/plain": [
       "   fnlwgt  marital-status  capital-loss  race  age  .influence_weight  \\\n",
       "0  173449               2             0     4   32           0.526602   \n",
       "1   96245               2             0     4   31           0.157386   \n",
       "2  269705               2             0     4   33           0.122871   \n",
       "3  218667               2             0     4   25           0.108620   \n",
       "4  236267               2             0     4   25           0.084522   \n",
       "\n",
       "   education  occupation  sex  target                              .session  \\\n",
       "0         11           6    1       1  6fba7257-9499-44cf-b920-1c41aa740cdc   \n",
       "1         11           6    1       1  6fba7257-9499-44cf-b920-1c41aa740cdc   \n",
       "2         11           6    1       1  6fba7257-9499-44cf-b920-1c41aa740cdc   \n",
       "3         11           6    1       1  6fba7257-9499-44cf-b920-1c41aa740cdc   \n",
       "4         11           6    1       1  6fba7257-9499-44cf-b920-1c41aa740cdc   \n",
       "\n",
       "   hours-per-week  workclass  education-num  capital-gain  relationship  \\\n",
       "0              40          4              9             0             0   \n",
       "1              42          4              9             0             0   \n",
       "2              40          4              9             0             0   \n",
       "3              40          4              9             0             0   \n",
       "4              40          4              9             0             0   \n",
       "\n",
       "   native-country  .session_training_index  \n",
       "0              39                      510  \n",
       "1              39                      604  \n",
       "2              39                      407  \n",
       "3              39                      881  \n",
       "4              39                      269  "
      ]
     },
     "metadata": {},
     "output_type": "display_data"
    },
    {
     "name": "stdout",
     "output_type": "stream",
     "text": [
      "\n",
      "_____________\n",
      "Original Case:\n"
     ]
    },
    {
     "data": {
      "text/plain": [
       "age                                                                23.0\n",
       "workclass                                                             4\n",
       "fnlwgt                                                         240049.0\n",
       "education                                                            13\n",
       "education-num                                                       1.0\n",
       "marital-status                                                        4\n",
       "occupation                                                            8\n",
       "relationship                                                          1\n",
       "race                                                                  1\n",
       "sex                                                                   0\n",
       "capital-gain                                                        0.0\n",
       "capital-loss                                                        0.0\n",
       "hours-per-week                                                     40.0\n",
       "native-country                                                       25\n",
       "target                                                                1\n",
       "familiarity_conviction_addition                                0.023355\n",
       ".session_training_index                                             732\n",
       ".session                           6fba7257-9499-44cf-b920-1c41aa740cdc\n",
       "distance_contribution                                        280.379224\n",
       "category                                                        outlier\n",
       "Name: 1, dtype: object"
      ]
     },
     "metadata": {},
     "output_type": "display_data"
    },
    {
     "name": "stdout",
     "output_type": "stream",
     "text": [
      "\n",
      "Influential Cases:\n"
     ]
    },
    {
     "data": {
      "text/html": [
       "<div>\n",
       "<style scoped>\n",
       "    .dataframe tbody tr th:only-of-type {\n",
       "        vertical-align: middle;\n",
       "    }\n",
       "\n",
       "    .dataframe tbody tr th {\n",
       "        vertical-align: top;\n",
       "    }\n",
       "\n",
       "    .dataframe thead th {\n",
       "        text-align: right;\n",
       "    }\n",
       "</style>\n",
       "<table border=\"1\" class=\"dataframe\">\n",
       "  <thead>\n",
       "    <tr style=\"text-align: right;\">\n",
       "      <th></th>\n",
       "      <th>fnlwgt</th>\n",
       "      <th>marital-status</th>\n",
       "      <th>capital-loss</th>\n",
       "      <th>race</th>\n",
       "      <th>age</th>\n",
       "      <th>.influence_weight</th>\n",
       "      <th>education</th>\n",
       "      <th>occupation</th>\n",
       "      <th>sex</th>\n",
       "      <th>target</th>\n",
       "      <th>.session</th>\n",
       "      <th>hours-per-week</th>\n",
       "      <th>workclass</th>\n",
       "      <th>education-num</th>\n",
       "      <th>capital-gain</th>\n",
       "      <th>relationship</th>\n",
       "      <th>native-country</th>\n",
       "      <th>.session_training_index</th>\n",
       "    </tr>\n",
       "  </thead>\n",
       "  <tbody>\n",
       "    <tr>\n",
       "      <th>0</th>\n",
       "      <td>236267</td>\n",
       "      <td>2</td>\n",
       "      <td>0</td>\n",
       "      <td>4</td>\n",
       "      <td>25</td>\n",
       "      <td>0.832923</td>\n",
       "      <td>11</td>\n",
       "      <td>6</td>\n",
       "      <td>1</td>\n",
       "      <td>1</td>\n",
       "      <td>6fba7257-9499-44cf-b920-1c41aa740cdc</td>\n",
       "      <td>40</td>\n",
       "      <td>4</td>\n",
       "      <td>9</td>\n",
       "      <td>0</td>\n",
       "      <td>0</td>\n",
       "      <td>39</td>\n",
       "      <td>269</td>\n",
       "    </tr>\n",
       "    <tr>\n",
       "      <th>1</th>\n",
       "      <td>190228</td>\n",
       "      <td>2</td>\n",
       "      <td>0</td>\n",
       "      <td>4</td>\n",
       "      <td>30</td>\n",
       "      <td>0.118074</td>\n",
       "      <td>11</td>\n",
       "      <td>6</td>\n",
       "      <td>1</td>\n",
       "      <td>1</td>\n",
       "      <td>6fba7257-9499-44cf-b920-1c41aa740cdc</td>\n",
       "      <td>40</td>\n",
       "      <td>4</td>\n",
       "      <td>9</td>\n",
       "      <td>0</td>\n",
       "      <td>0</td>\n",
       "      <td>39</td>\n",
       "      <td>198</td>\n",
       "    </tr>\n",
       "    <tr>\n",
       "      <th>2</th>\n",
       "      <td>173449</td>\n",
       "      <td>2</td>\n",
       "      <td>0</td>\n",
       "      <td>4</td>\n",
       "      <td>32</td>\n",
       "      <td>0.027818</td>\n",
       "      <td>11</td>\n",
       "      <td>6</td>\n",
       "      <td>1</td>\n",
       "      <td>1</td>\n",
       "      <td>6fba7257-9499-44cf-b920-1c41aa740cdc</td>\n",
       "      <td>40</td>\n",
       "      <td>4</td>\n",
       "      <td>9</td>\n",
       "      <td>0</td>\n",
       "      <td>0</td>\n",
       "      <td>39</td>\n",
       "      <td>510</td>\n",
       "    </tr>\n",
       "    <tr>\n",
       "      <th>3</th>\n",
       "      <td>269705</td>\n",
       "      <td>2</td>\n",
       "      <td>0</td>\n",
       "      <td>4</td>\n",
       "      <td>33</td>\n",
       "      <td>0.013421</td>\n",
       "      <td>11</td>\n",
       "      <td>6</td>\n",
       "      <td>1</td>\n",
       "      <td>1</td>\n",
       "      <td>6fba7257-9499-44cf-b920-1c41aa740cdc</td>\n",
       "      <td>40</td>\n",
       "      <td>4</td>\n",
       "      <td>9</td>\n",
       "      <td>0</td>\n",
       "      <td>0</td>\n",
       "      <td>39</td>\n",
       "      <td>407</td>\n",
       "    </tr>\n",
       "    <tr>\n",
       "      <th>4</th>\n",
       "      <td>96245</td>\n",
       "      <td>2</td>\n",
       "      <td>0</td>\n",
       "      <td>4</td>\n",
       "      <td>31</td>\n",
       "      <td>0.007763</td>\n",
       "      <td>11</td>\n",
       "      <td>6</td>\n",
       "      <td>1</td>\n",
       "      <td>1</td>\n",
       "      <td>6fba7257-9499-44cf-b920-1c41aa740cdc</td>\n",
       "      <td>42</td>\n",
       "      <td>4</td>\n",
       "      <td>9</td>\n",
       "      <td>0</td>\n",
       "      <td>0</td>\n",
       "      <td>39</td>\n",
       "      <td>604</td>\n",
       "    </tr>\n",
       "  </tbody>\n",
       "</table>\n",
       "</div>"
      ],
      "text/plain": [
       "   fnlwgt  marital-status  capital-loss  race  age  .influence_weight  \\\n",
       "0  236267               2             0     4   25           0.832923   \n",
       "1  190228               2             0     4   30           0.118074   \n",
       "2  173449               2             0     4   32           0.027818   \n",
       "3  269705               2             0     4   33           0.013421   \n",
       "4   96245               2             0     4   31           0.007763   \n",
       "\n",
       "   education  occupation  sex  target                              .session  \\\n",
       "0         11           6    1       1  6fba7257-9499-44cf-b920-1c41aa740cdc   \n",
       "1         11           6    1       1  6fba7257-9499-44cf-b920-1c41aa740cdc   \n",
       "2         11           6    1       1  6fba7257-9499-44cf-b920-1c41aa740cdc   \n",
       "3         11           6    1       1  6fba7257-9499-44cf-b920-1c41aa740cdc   \n",
       "4         11           6    1       1  6fba7257-9499-44cf-b920-1c41aa740cdc   \n",
       "\n",
       "   hours-per-week  workclass  education-num  capital-gain  relationship  \\\n",
       "0              40          4              9             0             0   \n",
       "1              40          4              9             0             0   \n",
       "2              40          4              9             0             0   \n",
       "3              40          4              9             0             0   \n",
       "4              42          4              9             0             0   \n",
       "\n",
       "   native-country  .session_training_index  \n",
       "0              39                      269  \n",
       "1              39                      198  \n",
       "2              39                      510  \n",
       "3              39                      407  \n",
       "4              39                      604  "
      ]
     },
     "metadata": {},
     "output_type": "display_data"
    },
    {
     "name": "stdout",
     "output_type": "stream",
     "text": [
      "\n",
      "_____________\n"
     ]
    }
   ],
   "source": [
    "# Print influential and boundary case outliers\n",
    "for i in range(2):\n",
    "    get_cases(outliers, results, i)\n",
    "    print('_____________')"
   ]
  }
 ],
 "metadata": {
  "kernelspec": {
   "display_name": "engine-recipes-3.10",
   "language": "python",
   "name": "python3"
  },
  "language_info": {
   "codemirror_mode": {
    "name": "ipython",
    "version": 3
   },
   "file_extension": ".py",
   "mimetype": "text/x-python",
   "name": "python",
   "nbconvert_exporter": "python",
   "pygments_lexer": "ipython3",
   "version": "3.10.18"
  }
 },
 "nbformat": 4,
 "nbformat_minor": 4
}
