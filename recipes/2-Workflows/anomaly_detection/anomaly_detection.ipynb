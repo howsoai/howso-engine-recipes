{
 "cells": [
  {
   "attachments": {},
   "cell_type": "markdown",
   "metadata": {},
   "source": [
    "# Anomaly Detection\n",
    "## Overview \n",
    "\n",
    "In the recipe, `engine-insights.ipynb`, we demonstrated an introduction to anomaly detection. In this recipe, expand on the methods used in that recipe. Howso Engine can be used to identify anomalous cases in a dataset and also explain why those cases may be anomalous. Furthermore, we can leverage other tools we learned in previous recipes, such  as influential and boundary cases, to provide additional context.\n",
    "\n",
    "Finding anomalous cases has value in both model building and data exploration. For example, as we continue to build a suitable model for the `Adult` datset, detecting anomalies can give us insight into whether we need to clean the dataset to reduce false signals. Possible sources of anomalies could be cases that are erroneous or falsified.   \n"
   ]
  },
  {
   "attachments": {},
   "cell_type": "markdown",
   "metadata": {},
   "source": [
    "# Section 1: Load, Train, Analyze\n",
    "\n",
    "For questions about the specific steps of this section, please see the [basic workflow guide](https://docs.howso.com/en/release-latest/user_guide/basic_capabilities/basic_workflow.html).\n"
   ]
  },
  {
   "cell_type": "code",
   "execution_count": 1,
   "metadata": {
    "execution": {
     "iopub.execute_input": "2025-07-30T15:10:13.461682Z",
     "iopub.status.busy": "2025-07-30T15:10:13.461486Z",
     "iopub.status.idle": "2025-07-30T15:10:18.454134Z",
     "shell.execute_reply": "2025-07-30T15:10:18.453467Z"
    }
   },
   "outputs": [],
   "source": [
    "import pandas as pd\n",
    "from pmlb import fetch_data\n",
    "\n",
    "from howso.engine import Trainee\n",
    "from howso.utilities import infer_feature_attributes\n",
    "from howso.visuals import plot_anomalies"
   ]
  },
  {
   "cell_type": "markdown",
   "metadata": {},
   "source": [
    "### Step 1: Load Data and Create Trainee\n",
    "\n",
    "Our example dataset for this recipe continues to be the well known `Adult` dataset. This dataset consists of 14 Context Features and 1 Action Feature. The Action Feature in this version of the `Adult` dataset has been renamed to `target` and it takes the form of a binary indicator for whether a person in the data makes over $50,000/year (*target*=1) or less (*target*=0)."
   ]
  },
  {
   "cell_type": "code",
   "execution_count": 2,
   "metadata": {
    "execution": {
     "iopub.execute_input": "2025-07-30T15:10:18.456681Z",
     "iopub.status.busy": "2025-07-30T15:10:18.456361Z",
     "iopub.status.idle": "2025-07-30T15:10:18.844169Z",
     "shell.execute_reply": "2025-07-30T15:10:18.843476Z"
    }
   },
   "outputs": [],
   "source": [
    "df = fetch_data('adult', local_cache_dir=\"../../data/adult\")\n",
    "\n",
    "# Subsample the data to ensure the example runs quickly\n",
    "df = df.sample(1000, random_state=0)\n",
    "\n",
    "# Infer feature attributes\n",
    "features = infer_feature_attributes(df)\n",
    "\n",
    "# Create the Trainee\n",
    "t = Trainee(features=features)"
   ]
  },
  {
   "attachments": {},
   "cell_type": "markdown",
   "metadata": {},
   "source": [
    "### Step 2: Train and Analyze"
   ]
  },
  {
   "cell_type": "code",
   "execution_count": 3,
   "metadata": {
    "execution": {
     "iopub.execute_input": "2025-07-30T15:10:18.846522Z",
     "iopub.status.busy": "2025-07-30T15:10:18.846332Z",
     "iopub.status.idle": "2025-07-30T15:10:28.552703Z",
     "shell.execute_reply": "2025-07-30T15:10:28.552024Z"
    }
   },
   "outputs": [],
   "source": [
    "t.train(df)\n",
    "\n",
    "# Targetless Analysis\n",
    "t.analyze()"
   ]
  },
  {
   "attachments": {},
   "cell_type": "markdown",
   "metadata": {},
   "source": [
    "# Section 2: Anomaly Identification\n",
    "\n",
    "We will use [Familiarity Conviction](https://docs.howso.com/en/release-latest/getting_started/terminology.html#familiarity-conviction) and [Distance Contribution](https://docs.howso.com/en/release-latest/getting_started/terminology.html#distance-contribution) to identify potentially anomalous cases. Conviction is a value indicating how surprising a case is relative to how surprising other cases in the model are. In the case of `Familiarity Conviction`, the level of surprisal is measured by the perturbation of the probability distribution when the case is added or removed (hence the parameters: `familiarity_conviction_addition` and `familiarity_conviction_removal`).  Howso Engine’s interpretability tools also enable us to understand why these cases may be anomalous and whether they are outliers and inliers. "
   ]
  },
  {
   "attachments": {},
   "cell_type": "markdown",
   "metadata": {},
   "source": [
    "### Step 1: Compute Distance Contribution and Familiarity Conviction for every case\n",
    "\n",
    "The first step is to use `react_into_features` and select the metrics we want to return.\n",
    "\n",
    "`react_into_features` is a method that calculates the desired attributes for every case in the Trainee and caches those values into each case as a feature.\n",
    "\n",
    "Notably, this means that these features can then be used as context and action features, but this is only recommended for advanced use-cases."
   ]
  },
  {
   "cell_type": "code",
   "execution_count": 4,
   "metadata": {
    "execution": {
     "iopub.execute_input": "2025-07-30T15:10:28.555303Z",
     "iopub.status.busy": "2025-07-30T15:10:28.555078Z",
     "iopub.status.idle": "2025-07-30T15:10:28.639049Z",
     "shell.execute_reply": "2025-07-30T15:10:28.638415Z"
    }
   },
   "outputs": [],
   "source": [
    "# Store the familiarity conviction and distance contribution, this will be used to identify anomalous cases\n",
    "t.react_into_features(\n",
    "    familiarity_conviction_addition=True,\n",
    "    distance_contribution=True\n",
    ")\n",
    "\n",
    "stored_convictions = t.get_cases(\n",
    "    session=t.active_session,\n",
    "    features=df.columns.tolist() + ['familiarity_conviction_addition','.session_training_index', '.session', 'distance_contribution']\n",
    ")"
   ]
  },
  {
   "attachments": {},
   "cell_type": "markdown",
   "metadata": {},
   "source": [
    "### Step 2: Set Threshold and Identify Anomalies\n",
    "\n",
    "There is no absolute threshold for what is considered to be anomalous, as anomalous behavior is a measure of surprisal. Thus, this is a lever that the user can change depending on the data. The threshold should be more or less than 1, which indicates average surprisal.\n",
    "\n",
    "We first use `familiarity_conviction_addition` to find anomalies, and then use the average `distance_contribution` to determine what type of anomaly the case is (e.g., inlier vs. outlier). Cases with large distance contributions will be considered outliers and those with\n",
    "low distance contributions will be inliers.\n",
    "\n",
    "For this data, we use a threshold of 0.75 for the Familiarity Conviction. Cases with a Familarity Conviction below this value will be considered outliers."
   ]
  },
  {
   "cell_type": "code",
   "execution_count": 5,
   "metadata": {
    "execution": {
     "iopub.execute_input": "2025-07-30T15:10:28.641343Z",
     "iopub.status.busy": "2025-07-30T15:10:28.641156Z",
     "iopub.status.idle": "2025-07-30T15:10:28.646864Z",
     "shell.execute_reply": "2025-07-30T15:10:28.646333Z"
    }
   },
   "outputs": [],
   "source": [
    "# Threshold to determine which cases will be deemed anomalous\n",
    "convict_threshold = 0.75\n",
    "\n",
    "# Extract the anomalous cases\n",
    "low_convicts = stored_convictions[\n",
    "    stored_convictions['familiarity_conviction_addition'] <= convict_threshold\n",
    "].sort_values('familiarity_conviction_addition', ascending=True)\n",
    "\n",
    "# Average distance contribution will be used to determine if a case is an outlier or inlier\n",
    "average_dist_contribution = low_convicts['distance_contribution'].mean()\n",
    "\n",
    "# A case with distance contribution greater than average will be tagged as outlier, and vice versa for inliers\n",
    "cat = [\n",
    "    'inlier' if d < average_dist_contribution else\n",
    "    'outlier' for d in low_convicts['distance_contribution']\n",
    "]\n",
    "low_convicts['category'] = cat"
   ]
  },
  {
   "attachments": {},
   "cell_type": "markdown",
   "metadata": {},
   "source": [
    "# Section 3: Anomaly Inspection"
   ]
  },
  {
   "attachments": {},
   "cell_type": "markdown",
   "metadata": {},
   "source": [
    "\n",
    "### Step 1: Inspect Outliers\n",
    "\n",
    "Typically, when we think of anomalies, we think of outliers or cases that are significantly different that the rest of the data, whether erroneous or not. Preprocessing in machine learning often involves pruning these data points as they can add undesired noise to a model. \n",
    "\n",
    "The Case Feature Residual Conviction will be used to understand why each case was anomalous.\n",
    "\n",
    "In our example use case where the `Adult` dataset is used to determine projected salary for loan applications, we want to eliminate any erroneous outliers if possible. We may also want to detect substituted values, as often times datasets may substitute special values with nominal integers. For example, blank values in an application are often coded with high integers like 99999 which can introduce noise in the dataset.\n",
    "\n",
    "### **Definitions:**\n",
    "\n",
    "**`case_feature_residual_convictions`** :  This is calculated using the local feature residuals, divided by the feature residuals of the Case to obtain the Convictions."
   ]
  },
  {
   "cell_type": "code",
   "execution_count": 6,
   "metadata": {
    "execution": {
     "iopub.execute_input": "2025-07-30T15:10:28.648588Z",
     "iopub.status.busy": "2025-07-30T15:10:28.648407Z",
     "iopub.status.idle": "2025-07-30T15:10:28.664476Z",
     "shell.execute_reply": "2025-07-30T15:10:28.663978Z"
    }
   },
   "outputs": [
    {
     "data": {
      "text/html": [
       "<div>\n",
       "<style scoped>\n",
       "    .dataframe tbody tr th:only-of-type {\n",
       "        vertical-align: middle;\n",
       "    }\n",
       "\n",
       "    .dataframe tbody tr th {\n",
       "        vertical-align: top;\n",
       "    }\n",
       "\n",
       "    .dataframe thead th {\n",
       "        text-align: right;\n",
       "    }\n",
       "</style>\n",
       "<table border=\"1\" class=\"dataframe\">\n",
       "  <thead>\n",
       "    <tr style=\"text-align: right;\">\n",
       "      <th></th>\n",
       "      <th>age</th>\n",
       "      <th>workclass</th>\n",
       "      <th>fnlwgt</th>\n",
       "      <th>education</th>\n",
       "      <th>education-num</th>\n",
       "      <th>marital-status</th>\n",
       "      <th>occupation</th>\n",
       "      <th>relationship</th>\n",
       "      <th>race</th>\n",
       "      <th>sex</th>\n",
       "      <th>capital-gain</th>\n",
       "      <th>capital-loss</th>\n",
       "      <th>hours-per-week</th>\n",
       "      <th>native-country</th>\n",
       "      <th>target</th>\n",
       "      <th>familiarity_conviction_addition</th>\n",
       "      <th>.session_training_index</th>\n",
       "      <th>.session</th>\n",
       "      <th>distance_contribution</th>\n",
       "      <th>category</th>\n",
       "    </tr>\n",
       "  </thead>\n",
       "  <tbody>\n",
       "    <tr>\n",
       "      <th>0</th>\n",
       "      <td>30.0</td>\n",
       "      <td>4</td>\n",
       "      <td>193598.0</td>\n",
       "      <td>13</td>\n",
       "      <td>1.0</td>\n",
       "      <td>4</td>\n",
       "      <td>5</td>\n",
       "      <td>1</td>\n",
       "      <td>4</td>\n",
       "      <td>1</td>\n",
       "      <td>0.0</td>\n",
       "      <td>0.0</td>\n",
       "      <td>40.0</td>\n",
       "      <td>26</td>\n",
       "      <td>1</td>\n",
       "      <td>0.020019</td>\n",
       "      <td>540</td>\n",
       "      <td>c6cb6b65-19c9-41ee-b4eb-5186d5d5a12e</td>\n",
       "      <td>306.265156</td>\n",
       "      <td>outlier</td>\n",
       "    </tr>\n",
       "    <tr>\n",
       "      <th>1</th>\n",
       "      <td>23.0</td>\n",
       "      <td>4</td>\n",
       "      <td>240049.0</td>\n",
       "      <td>13</td>\n",
       "      <td>1.0</td>\n",
       "      <td>4</td>\n",
       "      <td>8</td>\n",
       "      <td>1</td>\n",
       "      <td>1</td>\n",
       "      <td>0</td>\n",
       "      <td>0.0</td>\n",
       "      <td>0.0</td>\n",
       "      <td>40.0</td>\n",
       "      <td>25</td>\n",
       "      <td>1</td>\n",
       "      <td>0.023355</td>\n",
       "      <td>732</td>\n",
       "      <td>c6cb6b65-19c9-41ee-b4eb-5186d5d5a12e</td>\n",
       "      <td>280.379224</td>\n",
       "      <td>outlier</td>\n",
       "    </tr>\n",
       "    <tr>\n",
       "      <th>2</th>\n",
       "      <td>65.0</td>\n",
       "      <td>5</td>\n",
       "      <td>184965.0</td>\n",
       "      <td>10</td>\n",
       "      <td>16.0</td>\n",
       "      <td>2</td>\n",
       "      <td>4</td>\n",
       "      <td>0</td>\n",
       "      <td>4</td>\n",
       "      <td>1</td>\n",
       "      <td>99999.0</td>\n",
       "      <td>0.0</td>\n",
       "      <td>40.0</td>\n",
       "      <td>39</td>\n",
       "      <td>0</td>\n",
       "      <td>0.025732</td>\n",
       "      <td>649</td>\n",
       "      <td>c6cb6b65-19c9-41ee-b4eb-5186d5d5a12e</td>\n",
       "      <td>387.300496</td>\n",
       "      <td>outlier</td>\n",
       "    </tr>\n",
       "  </tbody>\n",
       "</table>\n",
       "</div>"
      ],
      "text/plain": [
       "    age  workclass    fnlwgt  education  education-num  marital-status  \\\n",
       "0  30.0          4  193598.0         13            1.0               4   \n",
       "1  23.0          4  240049.0         13            1.0               4   \n",
       "2  65.0          5  184965.0         10           16.0               2   \n",
       "\n",
       "   occupation  relationship  race  sex  capital-gain  capital-loss  \\\n",
       "0           5             1     4    1           0.0           0.0   \n",
       "1           8             1     1    0           0.0           0.0   \n",
       "2           4             0     4    1       99999.0           0.0   \n",
       "\n",
       "   hours-per-week  native-country  target  familiarity_conviction_addition  \\\n",
       "0            40.0              26       1                         0.020019   \n",
       "1            40.0              25       1                         0.023355   \n",
       "2            40.0              39       0                         0.025732   \n",
       "\n",
       "   .session_training_index                              .session  \\\n",
       "0                      540  c6cb6b65-19c9-41ee-b4eb-5186d5d5a12e   \n",
       "1                      732  c6cb6b65-19c9-41ee-b4eb-5186d5d5a12e   \n",
       "2                      649  c6cb6b65-19c9-41ee-b4eb-5186d5d5a12e   \n",
       "\n",
       "   distance_contribution category  \n",
       "0             306.265156  outlier  \n",
       "1             280.379224  outlier  \n",
       "2             387.300496  outlier  "
      ]
     },
     "execution_count": 6,
     "metadata": {},
     "output_type": "execute_result"
    }
   ],
   "source": [
    "# Extract the outliers cases\n",
    "outliers = low_convicts[low_convicts['category'] == 'outlier'].reset_index(drop=True)\n",
    "outliers.head(3)"
   ]
  },
  {
   "attachments": {},
   "cell_type": "markdown",
   "metadata": {},
   "source": [
    "### Step 2: Outlier Value Evaluation\n",
    "\n",
    "From the above results, we can see which cases may be anomalous, however just knowing whether a case is potentially an anomaly doesn't give us all the information we need to make an informed decision. If we are deciding whether to prune a case from our training set, often we only want to prune erroneous values. Even if a case is an anomaly in terms of distance or value, if it is valid we may still leave it in as it represents a legitimate data point. \n",
    "\n",
    "By looking at the `Case Feature Residual Convictions`, we can gain some insight as to why a case was deemed anomalous."
   ]
  },
  {
   "cell_type": "code",
   "execution_count": 7,
   "metadata": {
    "execution": {
     "iopub.execute_input": "2025-07-30T15:10:28.698913Z",
     "iopub.status.busy": "2025-07-30T15:10:28.698611Z",
     "iopub.status.idle": "2025-07-30T15:10:31.522118Z",
     "shell.execute_reply": "2025-07-30T15:10:31.521449Z"
    }
   },
   "outputs": [],
   "source": [
    "# We add a few extra metrics for subsequent examples in this notebook\n",
    "# Get the case_feature_residual_convictions, influential_cases and boundary_cases\n",
    "details = {\n",
    "    'influential_cases': True,\n",
    "    'feature_full_residual_convictions_for_case': True\n",
    "}\n",
    "\n",
    "# Specify outlier cases\n",
    "outliers_indices = outliers[['.session', '.session_training_index']].values\n",
    "\n",
    "# Residuals must be computed and cached for some of these details\n",
    "t.get_prediction_stats(details = {\"feature_full_residuals\": True})\n",
    "\n",
    "# React to get the details of each anomalous case\n",
    "#   Specify trained cases to react to with 'case_indices'\n",
    "results = t.react(\n",
    "    case_indices=outliers_indices,\n",
    "    preserve_feature_values=df.columns.tolist(),\n",
    "    leave_case_out=True,\n",
    "    details=details\n",
    ")\n",
    "\n",
    "outlier_case_feature_residual_convictions = pd.DataFrame(\n",
    "    results['details']['feature_full_residual_convictions_for_case']\n",
    ")[df.columns.tolist()]"
   ]
  },
  {
   "cell_type": "code",
   "execution_count": 8,
   "metadata": {
    "execution": {
     "iopub.execute_input": "2025-07-30T15:10:31.524716Z",
     "iopub.status.busy": "2025-07-30T15:10:31.524471Z",
     "iopub.status.idle": "2025-07-30T15:10:34.938396Z",
     "shell.execute_reply": "2025-07-30T15:10:34.937825Z"
    }
   },
   "outputs": [
    {
     "data": {
      "image/svg+xml": [
       "<svg class=\"main-svg\" xmlns=\"http://www.w3.org/2000/svg\" xmlns:xlink=\"http://www.w3.org/1999/xlink\" width=\"1500\" height=\"750\" style=\"\" viewBox=\"0 0 1500 750\"><rect x=\"0\" y=\"0\" width=\"1500\" height=\"750\" style=\"fill: rgb(255, 255, 255); fill-opacity: 1;\"/><defs id=\"defs-8b0b15\"><g class=\"clips\"><clipPath id=\"clip8b0b15xyplot\" class=\"plotclip\"><rect width=\"1297\" height=\"570\"/></clipPath><clipPath class=\"axesclip\" id=\"clip8b0b15x\"><rect x=\"80\" y=\"0\" width=\"1297\" height=\"750\"/></clipPath><clipPath class=\"axesclip\" id=\"clip8b0b15y\"><rect x=\"0\" y=\"100\" width=\"1500\" height=\"570\"/></clipPath><clipPath class=\"axesclip\" id=\"clip8b0b15xy\"><rect x=\"80\" y=\"100\" width=\"1297\" height=\"570\"/></clipPath></g><g class=\"gradients\"><linearGradient x1=\"0\" y1=\"1\" x2=\"0\" y2=\"0\" gradientUnits=\"objectBoundingBox\" id=\"g8b0b15-cbcoloraxis\"><stop offset=\"0%\" stop-color=\"rgb(103, 0, 31)\" stop-opacity=\"1\"/><stop offset=\"20%\" stop-color=\"rgb(247, 247, 247)\" stop-opacity=\"1\"/><stop offset=\"40%\" stop-color=\"rgb(67, 147, 195)\" stop-opacity=\"1\"/><stop offset=\"100%\" stop-color=\"rgb(5, 48, 97)\" stop-opacity=\"1\"/></linearGradient></g><g class=\"patterns\"/></defs><g class=\"bglayer\"><rect class=\"bg\" x=\"80\" y=\"100\" width=\"1297\" height=\"570\" style=\"fill: rgb(229, 236, 246); fill-opacity: 1; stroke-width: 0;\"/></g><g class=\"layer-below\"><g class=\"imagelayer\"/><g class=\"shapelayer\"/></g><g class=\"cartesianlayer\"><g class=\"subplot xy\"><g class=\"layer-subplot\"><g class=\"shapelayer\"/><g class=\"imagelayer\"/></g><g class=\"minor-gridlayer\"><g class=\"x\"/><g class=\"y\"/></g><g class=\"gridlayer\"><g class=\"x\"><path class=\"xgrid crisp\" transform=\"translate(123.22999999999999,0)\" d=\"M0,100v570\" style=\"stroke: rgb(255, 255, 255); stroke-opacity: 1; stroke-width: 1px;\"/><path class=\"xgrid crisp\" transform=\"translate(209.7,0)\" d=\"M0,100v570\" style=\"stroke: rgb(255, 255, 255); stroke-opacity: 1; stroke-width: 1px;\"/><path class=\"xgrid crisp\" transform=\"translate(296.16999999999996,0)\" d=\"M0,100v570\" style=\"stroke: rgb(255, 255, 255); stroke-opacity: 1; stroke-width: 1px;\"/><path class=\"xgrid crisp\" transform=\"translate(382.63,0)\" d=\"M0,100v570\" style=\"stroke: rgb(255, 255, 255); stroke-opacity: 1; stroke-width: 1px;\"/><path class=\"xgrid crisp\" transform=\"translate(469.1,0)\" d=\"M0,100v570\" style=\"stroke: rgb(255, 255, 255); stroke-opacity: 1; stroke-width: 1px;\"/><path class=\"xgrid crisp\" transform=\"translate(555.5699999999999,0)\" d=\"M0,100v570\" style=\"stroke: rgb(255, 255, 255); stroke-opacity: 1; stroke-width: 1px;\"/><path class=\"xgrid crisp\" transform=\"translate(642.03,0)\" d=\"M0,100v570\" style=\"stroke: rgb(255, 255, 255); stroke-opacity: 1; stroke-width: 1px;\"/><path class=\"xgrid crisp\" transform=\"translate(728.5,0)\" d=\"M0,100v570\" style=\"stroke: rgb(255, 255, 255); stroke-opacity: 1; stroke-width: 1px;\"/><path class=\"xgrid crisp\" transform=\"translate(814.97,0)\" d=\"M0,100v570\" style=\"stroke: rgb(255, 255, 255); stroke-opacity: 1; stroke-width: 1px;\"/><path class=\"xgrid crisp\" transform=\"translate(901.43,0)\" d=\"M0,100v570\" style=\"stroke: rgb(255, 255, 255); stroke-opacity: 1; stroke-width: 1px;\"/><path class=\"xgrid crisp\" transform=\"translate(987.9,0)\" d=\"M0,100v570\" style=\"stroke: rgb(255, 255, 255); stroke-opacity: 1; stroke-width: 1px;\"/><path class=\"xgrid crisp\" transform=\"translate(1074.37,0)\" d=\"M0,100v570\" style=\"stroke: rgb(255, 255, 255); stroke-opacity: 1; stroke-width: 1px;\"/><path class=\"xgrid crisp\" transform=\"translate(1160.83,0)\" d=\"M0,100v570\" style=\"stroke: rgb(255, 255, 255); stroke-opacity: 1; stroke-width: 1px;\"/><path class=\"xgrid crisp\" transform=\"translate(1247.3,0)\" d=\"M0,100v570\" style=\"stroke: rgb(255, 255, 255); stroke-opacity: 1; stroke-width: 1px;\"/><path class=\"xgrid crisp\" transform=\"translate(1333.77,0)\" d=\"M0,100v570\" style=\"stroke: rgb(255, 255, 255); stroke-opacity: 1; stroke-width: 1px;\"/></g><g class=\"y\"><path class=\"ygrid crisp\" transform=\"translate(0,613)\" d=\"M80,0h1297\" style=\"stroke: rgb(255, 255, 255); stroke-opacity: 1; stroke-width: 1px;\"/><path class=\"ygrid crisp\" transform=\"translate(0,499)\" d=\"M80,0h1297\" style=\"stroke: rgb(255, 255, 255); stroke-opacity: 1; stroke-width: 1px;\"/><path class=\"ygrid crisp\" transform=\"translate(0,385)\" d=\"M80,0h1297\" style=\"stroke: rgb(255, 255, 255); stroke-opacity: 1; stroke-width: 1px;\"/><path class=\"ygrid crisp\" transform=\"translate(0,271)\" d=\"M80,0h1297\" style=\"stroke: rgb(255, 255, 255); stroke-opacity: 1; stroke-width: 1px;\"/></g></g><g class=\"zerolinelayer\"><path class=\"yzl zl crisp\" transform=\"translate(0,157)\" d=\"M80,0h1297\" style=\"stroke: rgb(255, 255, 255); stroke-opacity: 1; stroke-width: 2px;\"/></g><g class=\"layer-between\"><g class=\"shapelayer\"/><g class=\"imagelayer\"/></g><path class=\"xlines-below\"/><path class=\"ylines-below\"/><g class=\"overlines-below\"/><g class=\"xaxislayer-below\"/><g class=\"yaxislayer-below\"/><g class=\"overaxes-below\"/><g class=\"overplot\"><g class=\"xy\" transform=\"translate(80,100)\" clip-path=\"url(#clip8b0b15xyplot)\"><g class=\"heatmaplayer mlayer\"><g class=\"hm\"><image xmlns=\"http://www.w3.org/2000/svg\" preserveAspectRatio=\"none\" height=\"570\" width=\"1297\" x=\"0\" y=\"0\" xlink:href=\"data:image/png;base64,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\" style=\"opacity: 1;\"/><g class=\"heatmap-label\"><text text-anchor=\"middle\" data-notex=\"1\" x=\"43\" y=\"61.2\" style=\"font-family: 'Open Sans', verdana, arial, sans-serif; font-size: 12px; fill: rgb(255, 255, 255); fill-opacity: 1; white-space: pre;\">30.0</text></g><g class=\"heatmap-label\"><text text-anchor=\"middle\" data-notex=\"1\" x=\"130\" y=\"61.2\" style=\"font-family: 'Open Sans', verdana, arial, sans-serif; font-size: 12px; fill: rgb(255, 255, 255); fill-opacity: 1; white-space: pre;\">4</text></g><g class=\"heatmap-label\"><text text-anchor=\"middle\" data-notex=\"1\" x=\"216\" y=\"61.2\" style=\"font-family: 'Open Sans', verdana, arial, sans-serif; font-size: 12px; fill: rgb(68, 68, 68); fill-opacity: 1; white-space: pre;\">193598.0</text></g><g class=\"heatmap-label\"><text text-anchor=\"middle\" data-notex=\"1\" x=\"303\" y=\"61.2\" style=\"font-family: 'Open Sans', verdana, arial, sans-serif; font-size: 12px; fill: rgb(255, 255, 255); fill-opacity: 1; white-space: pre;\">13</text></g><g class=\"heatmap-label\"><text text-anchor=\"middle\" data-notex=\"1\" x=\"389\" y=\"61.2\" style=\"font-family: 'Open Sans', verdana, arial, sans-serif; font-size: 12px; fill: rgb(255, 255, 255); fill-opacity: 1; white-space: pre;\">1.0</text></g><g class=\"heatmap-label\"><text text-anchor=\"middle\" data-notex=\"1\" x=\"476\" y=\"61.2\" style=\"font-family: 'Open Sans', verdana, arial, sans-serif; font-size: 12px; fill: rgb(68, 68, 68); fill-opacity: 1; white-space: pre;\">4</text></g><g class=\"heatmap-label\"><text text-anchor=\"middle\" data-notex=\"1\" x=\"562\" y=\"61.2\" style=\"font-family: 'Open Sans', verdana, arial, sans-serif; font-size: 12px; fill: rgb(68, 68, 68); fill-opacity: 1; white-space: pre;\">5</text></g><g class=\"heatmap-label\"><text text-anchor=\"middle\" data-notex=\"1\" x=\"649\" y=\"61.2\" style=\"font-family: 'Open Sans', verdana, arial, sans-serif; font-size: 12px; fill: rgb(68, 68, 68); fill-opacity: 1; white-space: pre;\">1</text></g><g class=\"heatmap-label\"><text text-anchor=\"middle\" data-notex=\"1\" x=\"735\" y=\"61.2\" style=\"font-family: 'Open Sans', verdana, arial, sans-serif; font-size: 12px; fill: rgb(255, 255, 255); fill-opacity: 1; white-space: pre;\">4</text></g><g class=\"heatmap-label\"><text text-anchor=\"middle\" data-notex=\"1\" x=\"821\" y=\"61.2\" style=\"font-family: 'Open Sans', verdana, arial, sans-serif; font-size: 12px; fill: rgb(68, 68, 68); fill-opacity: 1; white-space: pre;\">1</text></g><g class=\"heatmap-label\"><text text-anchor=\"middle\" data-notex=\"1\" x=\"908\" y=\"61.2\" style=\"font-family: 'Open Sans', verdana, arial, sans-serif; font-size: 12px; fill: rgb(68, 68, 68); fill-opacity: 1; white-space: pre;\">0.0</text></g><g class=\"heatmap-label\"><text text-anchor=\"middle\" data-notex=\"1\" x=\"994\" y=\"61.2\" style=\"font-family: 'Open Sans', verdana, arial, sans-serif; font-size: 12px; fill: rgb(255, 255, 255); fill-opacity: 1; white-space: pre;\">0.0</text></g><g class=\"heatmap-label\"><text text-anchor=\"middle\" data-notex=\"1\" x=\"1081\" y=\"61.2\" style=\"font-family: 'Open Sans', verdana, arial, sans-serif; font-size: 12px; fill: rgb(255, 255, 255); fill-opacity: 1; white-space: pre;\">40.0</text></g><g class=\"heatmap-label\"><text text-anchor=\"middle\" data-notex=\"1\" x=\"1167\" y=\"61.2\" style=\"font-family: 'Open Sans', verdana, arial, sans-serif; font-size: 12px; fill: rgb(255, 255, 255); fill-opacity: 1; white-space: pre;\">26</text></g><g class=\"heatmap-label\"><text text-anchor=\"middle\" data-notex=\"1\" x=\"1254\" y=\"61.2\" style=\"font-family: 'Open Sans', verdana, arial, sans-serif; font-size: 12px; fill: rgb(255, 255, 255); fill-opacity: 1; white-space: pre;\">1</text></g><g class=\"heatmap-label\"><text text-anchor=\"middle\" data-notex=\"1\" x=\"43\" y=\"175.2\" style=\"font-family: 'Open Sans', verdana, arial, sans-serif; font-size: 12px; fill: rgb(68, 68, 68); fill-opacity: 1; white-space: pre;\">23.0</text></g><g class=\"heatmap-label\"><text text-anchor=\"middle\" data-notex=\"1\" x=\"130\" y=\"175.2\" style=\"font-family: 'Open Sans', verdana, arial, sans-serif; font-size: 12px; fill: rgb(68, 68, 68); fill-opacity: 1; white-space: pre;\">4</text></g><g class=\"heatmap-label\"><text text-anchor=\"middle\" data-notex=\"1\" x=\"216\" y=\"175.2\" style=\"font-family: 'Open Sans', verdana, arial, sans-serif; font-size: 12px; fill: rgb(68, 68, 68); fill-opacity: 1; white-space: pre;\">240049.0</text></g><g class=\"heatmap-label\"><text text-anchor=\"middle\" data-notex=\"1\" x=\"303\" y=\"175.2\" style=\"font-family: 'Open Sans', verdana, arial, sans-serif; font-size: 12px; fill: rgb(255, 255, 255); fill-opacity: 1; white-space: pre;\">13</text></g><g class=\"heatmap-label\"><text text-anchor=\"middle\" data-notex=\"1\" x=\"389\" y=\"175.2\" style=\"font-family: 'Open Sans', verdana, arial, sans-serif; font-size: 12px; fill: rgb(255, 255, 255); fill-opacity: 1; white-space: pre;\">1.0</text></g><g class=\"heatmap-label\"><text text-anchor=\"middle\" data-notex=\"1\" x=\"476\" y=\"175.2\" style=\"font-family: 'Open Sans', verdana, arial, sans-serif; font-size: 12px; fill: rgb(68, 68, 68); fill-opacity: 1; white-space: pre;\">4</text></g><g class=\"heatmap-label\"><text text-anchor=\"middle\" data-notex=\"1\" x=\"562\" y=\"175.2\" style=\"font-family: 'Open Sans', verdana, arial, sans-serif; font-size: 12px; fill: rgb(68, 68, 68); fill-opacity: 1; white-space: pre;\">8</text></g><g class=\"heatmap-label\"><text text-anchor=\"middle\" data-notex=\"1\" x=\"649\" y=\"175.2\" style=\"font-family: 'Open Sans', verdana, arial, sans-serif; font-size: 12px; fill: rgb(68, 68, 68); fill-opacity: 1; white-space: pre;\">1</text></g><g class=\"heatmap-label\"><text text-anchor=\"middle\" data-notex=\"1\" x=\"735\" y=\"175.2\" style=\"font-family: 'Open Sans', verdana, arial, sans-serif; font-size: 12px; fill: rgb(255, 255, 255); fill-opacity: 1; white-space: pre;\">1</text></g><g class=\"heatmap-label\"><text text-anchor=\"middle\" data-notex=\"1\" x=\"821\" y=\"175.2\" style=\"font-family: 'Open Sans', verdana, arial, sans-serif; font-size: 12px; fill: rgb(68, 68, 68); fill-opacity: 1; white-space: pre;\">0</text></g><g class=\"heatmap-label\"><text text-anchor=\"middle\" data-notex=\"1\" x=\"908\" y=\"175.2\" style=\"font-family: 'Open Sans', verdana, arial, sans-serif; font-size: 12px; fill: rgb(68, 68, 68); fill-opacity: 1; white-space: pre;\">0.0</text></g><g class=\"heatmap-label\"><text text-anchor=\"middle\" data-notex=\"1\" x=\"994\" y=\"175.2\" style=\"font-family: 'Open Sans', verdana, arial, sans-serif; font-size: 12px; fill: rgb(255, 255, 255); fill-opacity: 1; white-space: pre;\">0.0</text></g><g class=\"heatmap-label\"><text text-anchor=\"middle\" data-notex=\"1\" x=\"1081\" y=\"175.2\" style=\"font-family: 'Open Sans', verdana, arial, sans-serif; font-size: 12px; fill: rgb(255, 255, 255); fill-opacity: 1; white-space: pre;\">40.0</text></g><g class=\"heatmap-label\"><text text-anchor=\"middle\" data-notex=\"1\" x=\"1167\" y=\"175.2\" style=\"font-family: 'Open Sans', verdana, arial, sans-serif; font-size: 12px; fill: rgb(255, 255, 255); fill-opacity: 1; white-space: pre;\">25</text></g><g class=\"heatmap-label\"><text text-anchor=\"middle\" data-notex=\"1\" x=\"1254\" y=\"175.2\" style=\"font-family: 'Open Sans', verdana, arial, sans-serif; font-size: 12px; fill: rgb(255, 255, 255); fill-opacity: 1; white-space: pre;\">1</text></g><g class=\"heatmap-label\"><text text-anchor=\"middle\" data-notex=\"1\" x=\"43\" y=\"289.2\" style=\"font-family: 'Open Sans', verdana, arial, sans-serif; font-size: 12px; fill: rgb(68, 68, 68); fill-opacity: 1; white-space: pre;\">65.0</text></g><g class=\"heatmap-label\"><text text-anchor=\"middle\" data-notex=\"1\" x=\"130\" y=\"289.2\" style=\"font-family: 'Open Sans', verdana, arial, sans-serif; font-size: 12px; fill: rgb(68, 68, 68); fill-opacity: 1; white-space: pre;\">5</text></g><g class=\"heatmap-label\"><text text-anchor=\"middle\" data-notex=\"1\" x=\"216\" y=\"289.2\" style=\"font-family: 'Open Sans', verdana, arial, sans-serif; font-size: 12px; fill: rgb(255, 255, 255); fill-opacity: 1; white-space: pre;\">184965.0</text></g><g class=\"heatmap-label\"><text text-anchor=\"middle\" data-notex=\"1\" x=\"303\" y=\"289.2\" style=\"font-family: 'Open Sans', verdana, arial, sans-serif; font-size: 12px; fill: rgb(68, 68, 68); fill-opacity: 1; white-space: pre;\">10</text></g><g class=\"heatmap-label\"><text text-anchor=\"middle\" data-notex=\"1\" x=\"389\" y=\"289.2\" style=\"font-family: 'Open Sans', verdana, arial, sans-serif; font-size: 12px; fill: rgb(255, 255, 255); fill-opacity: 1; white-space: pre;\">16.0</text></g><g class=\"heatmap-label\"><text text-anchor=\"middle\" data-notex=\"1\" x=\"476\" y=\"289.2\" style=\"font-family: 'Open Sans', verdana, arial, sans-serif; font-size: 12px; fill: rgb(68, 68, 68); fill-opacity: 1; white-space: pre;\">2</text></g><g class=\"heatmap-label\"><text text-anchor=\"middle\" data-notex=\"1\" x=\"562\" y=\"289.2\" style=\"font-family: 'Open Sans', verdana, arial, sans-serif; font-size: 12px; fill: rgb(255, 255, 255); fill-opacity: 1; white-space: pre;\">4</text></g><g class=\"heatmap-label\"><text text-anchor=\"middle\" data-notex=\"1\" x=\"649\" y=\"289.2\" style=\"font-family: 'Open Sans', verdana, arial, sans-serif; font-size: 12px; fill: rgb(68, 68, 68); fill-opacity: 1; white-space: pre;\">0</text></g><g class=\"heatmap-label\"><text text-anchor=\"middle\" data-notex=\"1\" x=\"735\" y=\"289.2\" style=\"font-family: 'Open Sans', verdana, arial, sans-serif; font-size: 12px; fill: rgb(255, 255, 255); fill-opacity: 1; white-space: pre;\">4</text></g><g class=\"heatmap-label\"><text text-anchor=\"middle\" data-notex=\"1\" x=\"821\" y=\"289.2\" style=\"font-family: 'Open Sans', verdana, arial, sans-serif; font-size: 12px; fill: rgb(68, 68, 68); fill-opacity: 1; white-space: pre;\">1</text></g><g class=\"heatmap-label\"><text text-anchor=\"middle\" data-notex=\"1\" x=\"908\" y=\"289.2\" style=\"font-family: 'Open Sans', verdana, arial, sans-serif; font-size: 12px; fill: rgb(255, 255, 255); fill-opacity: 1; white-space: pre;\">99999.0</text></g><g class=\"heatmap-label\"><text text-anchor=\"middle\" data-notex=\"1\" x=\"994\" y=\"289.2\" style=\"font-family: 'Open Sans', verdana, arial, sans-serif; font-size: 12px; fill: rgb(255, 255, 255); fill-opacity: 1; white-space: pre;\">0.0</text></g><g class=\"heatmap-label\"><text text-anchor=\"middle\" data-notex=\"1\" x=\"1081\" y=\"289.2\" style=\"font-family: 'Open Sans', verdana, arial, sans-serif; font-size: 12px; fill: rgb(68, 68, 68); fill-opacity: 1; white-space: pre;\">40.0</text></g><g class=\"heatmap-label\"><text text-anchor=\"middle\" data-notex=\"1\" x=\"1167\" y=\"289.2\" style=\"font-family: 'Open Sans', verdana, arial, sans-serif; font-size: 12px; fill: rgb(255, 255, 255); fill-opacity: 1; white-space: pre;\">39</text></g><g class=\"heatmap-label\"><text text-anchor=\"middle\" data-notex=\"1\" x=\"1254\" y=\"289.2\" style=\"font-family: 'Open Sans', verdana, arial, sans-serif; font-size: 12px; fill: rgb(255, 255, 255); fill-opacity: 1; white-space: pre;\">0</text></g><g class=\"heatmap-label\"><text text-anchor=\"middle\" data-notex=\"1\" x=\"43\" y=\"403.2\" style=\"font-family: 'Open Sans', verdana, arial, sans-serif; font-size: 12px; fill: rgb(68, 68, 68); fill-opacity: 1; white-space: pre;\">28.0</text></g><g class=\"heatmap-label\"><text text-anchor=\"middle\" data-notex=\"1\" x=\"130\" y=\"403.2\" style=\"font-family: 'Open Sans', verdana, arial, sans-serif; font-size: 12px; fill: rgb(68, 68, 68); fill-opacity: 1; white-space: pre;\">4</text></g><g class=\"heatmap-label\"><text text-anchor=\"middle\" data-notex=\"1\" x=\"216\" y=\"403.2\" style=\"font-family: 'Open Sans', verdana, arial, sans-serif; font-size: 12px; fill: rgb(68, 68, 68); fill-opacity: 1; white-space: pre;\">126060.0</text></g><g class=\"heatmap-label\"><text text-anchor=\"middle\" data-notex=\"1\" x=\"303\" y=\"403.2\" style=\"font-family: 'Open Sans', verdana, arial, sans-serif; font-size: 12px; fill: rgb(68, 68, 68); fill-opacity: 1; white-space: pre;\">11</text></g><g class=\"heatmap-label\"><text text-anchor=\"middle\" data-notex=\"1\" x=\"389\" y=\"403.2\" style=\"font-family: 'Open Sans', verdana, arial, sans-serif; font-size: 12px; fill: rgb(255, 255, 255); fill-opacity: 1; white-space: pre;\">9.0</text></g><g class=\"heatmap-label\"><text text-anchor=\"middle\" data-notex=\"1\" x=\"476\" y=\"403.2\" style=\"font-family: 'Open Sans', verdana, arial, sans-serif; font-size: 12px; fill: rgb(68, 68, 68); fill-opacity: 1; white-space: pre;\">2</text></g><g class=\"heatmap-label\"><text text-anchor=\"middle\" data-notex=\"1\" x=\"562\" y=\"403.2\" style=\"font-family: 'Open Sans', verdana, arial, sans-serif; font-size: 12px; fill: rgb(68, 68, 68); fill-opacity: 1; white-space: pre;\">1</text></g><g class=\"heatmap-label\"><text text-anchor=\"middle\" data-notex=\"1\" x=\"649\" y=\"403.2\" style=\"font-family: 'Open Sans', verdana, arial, sans-serif; font-size: 12px; fill: rgb(68, 68, 68); fill-opacity: 1; white-space: pre;\">5</text></g><g class=\"heatmap-label\"><text text-anchor=\"middle\" data-notex=\"1\" x=\"735\" y=\"403.2\" style=\"font-family: 'Open Sans', verdana, arial, sans-serif; font-size: 12px; fill: rgb(255, 255, 255); fill-opacity: 1; white-space: pre;\">4</text></g><g class=\"heatmap-label\"><text text-anchor=\"middle\" data-notex=\"1\" x=\"821\" y=\"403.2\" style=\"font-family: 'Open Sans', verdana, arial, sans-serif; font-size: 12px; fill: rgb(68, 68, 68); fill-opacity: 1; white-space: pre;\">0</text></g><g class=\"heatmap-label\"><text text-anchor=\"middle\" data-notex=\"1\" x=\"908\" y=\"403.2\" style=\"font-family: 'Open Sans', verdana, arial, sans-serif; font-size: 12px; fill: rgb(255, 255, 255); fill-opacity: 1; white-space: pre;\">99999.0</text></g><g class=\"heatmap-label\"><text text-anchor=\"middle\" data-notex=\"1\" x=\"994\" y=\"403.2\" style=\"font-family: 'Open Sans', verdana, arial, sans-serif; font-size: 12px; fill: rgb(255, 255, 255); fill-opacity: 1; white-space: pre;\">0.0</text></g><g class=\"heatmap-label\"><text text-anchor=\"middle\" data-notex=\"1\" x=\"1081\" y=\"403.2\" style=\"font-family: 'Open Sans', verdana, arial, sans-serif; font-size: 12px; fill: rgb(255, 255, 255); fill-opacity: 1; white-space: pre;\">36.0</text></g><g class=\"heatmap-label\"><text text-anchor=\"middle\" data-notex=\"1\" x=\"1167\" y=\"403.2\" style=\"font-family: 'Open Sans', verdana, arial, sans-serif; font-size: 12px; fill: rgb(255, 255, 255); fill-opacity: 1; white-space: pre;\">39</text></g><g class=\"heatmap-label\"><text text-anchor=\"middle\" data-notex=\"1\" x=\"1254\" y=\"403.2\" style=\"font-family: 'Open Sans', verdana, arial, sans-serif; font-size: 12px; fill: rgb(255, 255, 255); fill-opacity: 1; white-space: pre;\">0</text></g><g class=\"heatmap-label\"><text text-anchor=\"middle\" data-notex=\"1\" x=\"43\" y=\"517.2\" style=\"font-family: 'Open Sans', verdana, arial, sans-serif; font-size: 12px; fill: rgb(255, 255, 255); fill-opacity: 1; white-space: pre;\">46.0</text></g><g class=\"heatmap-label\"><text text-anchor=\"middle\" data-notex=\"1\" x=\"130\" y=\"517.2\" style=\"font-family: 'Open Sans', verdana, arial, sans-serif; font-size: 12px; fill: rgb(68, 68, 68); fill-opacity: 1; white-space: pre;\">5</text></g><g class=\"heatmap-label\"><text text-anchor=\"middle\" data-notex=\"1\" x=\"216\" y=\"517.2\" style=\"font-family: 'Open Sans', verdana, arial, sans-serif; font-size: 12px; fill: rgb(255, 255, 255); fill-opacity: 1; white-space: pre;\">198660.0</text></g><g class=\"heatmap-label\"><text text-anchor=\"middle\" data-notex=\"1\" x=\"303\" y=\"517.2\" style=\"font-family: 'Open Sans', verdana, arial, sans-serif; font-size: 12px; fill: rgb(68, 68, 68); fill-opacity: 1; white-space: pre;\">9</text></g><g class=\"heatmap-label\"><text text-anchor=\"middle\" data-notex=\"1\" x=\"389\" y=\"517.2\" style=\"font-family: 'Open Sans', verdana, arial, sans-serif; font-size: 12px; fill: rgb(255, 255, 255); fill-opacity: 1; white-space: pre;\">13.0</text></g><g class=\"heatmap-label\"><text text-anchor=\"middle\" data-notex=\"1\" x=\"476\" y=\"517.2\" style=\"font-family: 'Open Sans', verdana, arial, sans-serif; font-size: 12px; fill: rgb(68, 68, 68); fill-opacity: 1; white-space: pre;\">2</text></g><g class=\"heatmap-label\"><text text-anchor=\"middle\" data-notex=\"1\" x=\"562\" y=\"517.2\" style=\"font-family: 'Open Sans', verdana, arial, sans-serif; font-size: 12px; fill: rgb(68, 68, 68); fill-opacity: 1; white-space: pre;\">12</text></g><g class=\"heatmap-label\"><text text-anchor=\"middle\" data-notex=\"1\" x=\"649\" y=\"517.2\" style=\"font-family: 'Open Sans', verdana, arial, sans-serif; font-size: 12px; fill: rgb(68, 68, 68); fill-opacity: 1; white-space: pre;\">0</text></g><g class=\"heatmap-label\"><text text-anchor=\"middle\" data-notex=\"1\" x=\"735\" y=\"517.2\" style=\"font-family: 'Open Sans', verdana, arial, sans-serif; font-size: 12px; fill: rgb(68, 68, 68); fill-opacity: 1; white-space: pre;\">4</text></g><g class=\"heatmap-label\"><text text-anchor=\"middle\" data-notex=\"1\" x=\"821\" y=\"517.2\" style=\"font-family: 'Open Sans', verdana, arial, sans-serif; font-size: 12px; fill: rgb(68, 68, 68); fill-opacity: 1; white-space: pre;\">1</text></g><g class=\"heatmap-label\"><text text-anchor=\"middle\" data-notex=\"1\" x=\"908\" y=\"517.2\" style=\"font-family: 'Open Sans', verdana, arial, sans-serif; font-size: 12px; fill: rgb(255, 255, 255); fill-opacity: 1; white-space: pre;\">99999.0</text></g><g class=\"heatmap-label\"><text text-anchor=\"middle\" data-notex=\"1\" x=\"994\" y=\"517.2\" style=\"font-family: 'Open Sans', verdana, arial, sans-serif; font-size: 12px; fill: rgb(255, 255, 255); fill-opacity: 1; white-space: pre;\">0.0</text></g><g class=\"heatmap-label\"><text text-anchor=\"middle\" data-notex=\"1\" x=\"1081\" y=\"517.2\" style=\"font-family: 'Open Sans', verdana, arial, sans-serif; font-size: 12px; fill: rgb(255, 255, 255); fill-opacity: 1; white-space: pre;\">72.0</text></g><g class=\"heatmap-label\"><text text-anchor=\"middle\" data-notex=\"1\" x=\"1167\" y=\"517.2\" style=\"font-family: 'Open Sans', verdana, arial, sans-serif; font-size: 12px; fill: rgb(68, 68, 68); fill-opacity: 1; white-space: pre;\">39</text></g><g class=\"heatmap-label\"><text text-anchor=\"middle\" data-notex=\"1\" x=\"1254\" y=\"517.2\" style=\"font-family: 'Open Sans', verdana, arial, sans-serif; font-size: 12px; fill: rgb(255, 255, 255); fill-opacity: 1; white-space: pre;\">0</text></g></g></g></g></g><path class=\"xlines-above crisp\" d=\"M0,0\" style=\"fill: none;\"/><path class=\"ylines-above crisp\" d=\"M0,0\" style=\"fill: none;\"/><g class=\"overlines-above\"/><g class=\"xaxislayer-above\"><g class=\"xtick\"><text text-anchor=\"middle\" x=\"0\" y=\"683\" transform=\"translate(123.22999999999999,0)\" style=\"font-family: 'Open Sans', verdana, arial, sans-serif; font-size: 12px; fill: rgb(42, 63, 95); fill-opacity: 1; white-space: pre; opacity: 1;\">age</text></g><g class=\"xtick\"><text text-anchor=\"middle\" x=\"0\" y=\"683\" transform=\"translate(209.7,0)\" style=\"font-family: 'Open Sans', verdana, arial, sans-serif; font-size: 12px; fill: rgb(42, 63, 95); fill-opacity: 1; white-space: pre; opacity: 1;\">workclass</text></g><g class=\"xtick\"><text text-anchor=\"middle\" x=\"0\" y=\"683\" transform=\"translate(296.16999999999996,0)\" style=\"font-family: 'Open Sans', verdana, arial, sans-serif; font-size: 12px; fill: rgb(42, 63, 95); fill-opacity: 1; white-space: pre; opacity: 1;\">fnlwgt</text></g><g class=\"xtick\"><text text-anchor=\"middle\" x=\"0\" y=\"683\" transform=\"translate(382.63,0)\" style=\"font-family: 'Open Sans', verdana, arial, sans-serif; font-size: 12px; fill: rgb(42, 63, 95); fill-opacity: 1; white-space: pre; opacity: 1;\">education</text></g><g class=\"xtick\"><text text-anchor=\"middle\" x=\"0\" y=\"683\" transform=\"translate(469.1,0)\" style=\"font-family: 'Open Sans', verdana, arial, sans-serif; font-size: 12px; fill: rgb(42, 63, 95); fill-opacity: 1; white-space: pre; opacity: 1;\">education-num</text></g><g class=\"xtick\"><text text-anchor=\"middle\" x=\"0\" y=\"683\" transform=\"translate(555.5699999999999,0)\" style=\"font-family: 'Open Sans', verdana, arial, sans-serif; font-size: 12px; fill: rgb(42, 63, 95); fill-opacity: 1; white-space: pre; opacity: 1;\">marital-status</text></g><g class=\"xtick\"><text text-anchor=\"middle\" x=\"0\" y=\"683\" transform=\"translate(642.03,0)\" style=\"font-family: 'Open Sans', verdana, arial, sans-serif; font-size: 12px; fill: rgb(42, 63, 95); fill-opacity: 1; white-space: pre; opacity: 1;\">occupation</text></g><g class=\"xtick\"><text text-anchor=\"middle\" x=\"0\" y=\"683\" transform=\"translate(728.5,0)\" style=\"font-family: 'Open Sans', verdana, arial, sans-serif; font-size: 12px; fill: rgb(42, 63, 95); fill-opacity: 1; white-space: pre; opacity: 1;\">relationship</text></g><g class=\"xtick\"><text text-anchor=\"middle\" x=\"0\" y=\"683\" transform=\"translate(814.97,0)\" style=\"font-family: 'Open Sans', verdana, arial, sans-serif; font-size: 12px; fill: rgb(42, 63, 95); fill-opacity: 1; white-space: pre; opacity: 1;\">race</text></g><g class=\"xtick\"><text text-anchor=\"middle\" x=\"0\" y=\"683\" transform=\"translate(901.43,0)\" style=\"font-family: 'Open Sans', verdana, arial, sans-serif; font-size: 12px; fill: rgb(42, 63, 95); fill-opacity: 1; white-space: pre; opacity: 1;\">sex</text></g><g class=\"xtick\"><text text-anchor=\"middle\" x=\"0\" y=\"683\" transform=\"translate(987.9,0)\" style=\"font-family: 'Open Sans', verdana, arial, sans-serif; font-size: 12px; fill: rgb(42, 63, 95); fill-opacity: 1; white-space: pre; opacity: 1;\">capital-gain</text></g><g class=\"xtick\"><text text-anchor=\"middle\" x=\"0\" y=\"683\" transform=\"translate(1074.37,0)\" style=\"font-family: 'Open Sans', verdana, arial, sans-serif; font-size: 12px; fill: rgb(42, 63, 95); fill-opacity: 1; white-space: pre; opacity: 1;\">capital-loss</text></g><g class=\"xtick\"><text text-anchor=\"middle\" x=\"0\" y=\"683\" transform=\"translate(1160.83,0)\" style=\"font-family: 'Open Sans', verdana, arial, sans-serif; font-size: 12px; fill: rgb(42, 63, 95); fill-opacity: 1; white-space: pre; opacity: 1;\">hours-per-week</text></g><g class=\"xtick\"><text text-anchor=\"middle\" x=\"0\" y=\"683\" transform=\"translate(1247.3,0)\" style=\"font-family: 'Open Sans', verdana, arial, sans-serif; font-size: 12px; fill: rgb(42, 63, 95); fill-opacity: 1; white-space: pre; opacity: 1;\">native-country</text></g><g class=\"xtick\"><text text-anchor=\"middle\" x=\"0\" y=\"683\" transform=\"translate(1333.77,0)\" style=\"font-family: 'Open Sans', verdana, arial, sans-serif; font-size: 12px; fill: rgb(42, 63, 95); fill-opacity: 1; white-space: pre; opacity: 1;\">target</text></g></g><g class=\"yaxislayer-above\"><g class=\"ytick\"><text text-anchor=\"end\" x=\"79\" y=\"4.199999999999999\" transform=\"translate(0,613)\" style=\"font-family: 'Open Sans', verdana, arial, sans-serif; font-size: 12px; fill: rgb(42, 63, 95); fill-opacity: 1; white-space: pre; opacity: 1;\">4</text></g><g class=\"ytick\"><text text-anchor=\"end\" x=\"79\" y=\"4.199999999999999\" style=\"font-family: 'Open Sans', verdana, arial, sans-serif; font-size: 12px; fill: rgb(42, 63, 95); fill-opacity: 1; white-space: pre; opacity: 1;\" transform=\"translate(0,499)\">3</text></g><g class=\"ytick\"><text text-anchor=\"end\" x=\"79\" y=\"4.199999999999999\" style=\"font-family: 'Open Sans', verdana, arial, sans-serif; font-size: 12px; fill: rgb(42, 63, 95); fill-opacity: 1; white-space: pre; opacity: 1;\" transform=\"translate(0,385)\">2</text></g><g class=\"ytick\"><text text-anchor=\"end\" x=\"79\" y=\"4.199999999999999\" style=\"font-family: 'Open Sans', verdana, arial, sans-serif; font-size: 12px; fill: rgb(42, 63, 95); fill-opacity: 1; white-space: pre; opacity: 1;\" transform=\"translate(0,271)\">1</text></g><g class=\"ytick\"><text text-anchor=\"end\" x=\"79\" y=\"4.199999999999999\" style=\"font-family: 'Open Sans', verdana, arial, sans-serif; font-size: 12px; fill: rgb(42, 63, 95); fill-opacity: 1; white-space: pre; opacity: 1;\" transform=\"translate(0,157)\">0</text></g></g><g class=\"overaxes-above\"/></g></g><g class=\"polarlayer\"/><g class=\"smithlayer\"/><g class=\"ternarylayer\"/><g class=\"geolayer\"/><g class=\"funnelarealayer\"/><g class=\"pielayer\"/><g class=\"iciclelayer\"/><g class=\"treemaplayer\"/><g class=\"sunburstlayer\"/><g class=\"glimages\"/><defs id=\"topdefs-8b0b15\"><g class=\"clips\"/></defs><g class=\"layer-above\"><g class=\"imagelayer\"/><g class=\"shapelayer\"/></g><g class=\"infolayer\"><g class=\"cbcoloraxis colorbar\" transform=\"translate(80,100)\"><rect class=\"cbbg\" x=\"1323\" y=\"0\" width=\"85.314453125\" height=\"570\" style=\"fill: rgb(0, 0, 0); fill-opacity: 0; stroke: rgb(68, 68, 68); stroke-opacity: 1; stroke-width: 0;\"/><g class=\"cbfills\" transform=\"translate(0,31)\"><rect class=\"cbfill gradient_filled\" style=\"fill: url('#g8b0b15-cbcoloraxis');\" x=\"1333\" y=\"0\" width=\"30\" height=\"529\"/></g><g class=\"cblines\" transform=\"translate(0,31)\"/><g class=\"cbaxis crisp\" transform=\"translate(0,-100)\"><g class=\"ycbcoloraxistick\"><text text-anchor=\"start\" x=\"1365.9\" y=\"4.199999999999999\" transform=\"translate(0,660)\" style=\"font-family: 'Open Sans', verdana, arial, sans-serif; font-size: 12px; fill: rgb(42, 63, 95); fill-opacity: 1; white-space: pre; opacity: 1;\">0</text></g><g class=\"ycbcoloraxistick\"><text text-anchor=\"start\" x=\"1365.9\" y=\"4.199999999999999\" style=\"font-family: 'Open Sans', verdana, arial, sans-serif; font-size: 12px; fill: rgb(42, 63, 95); fill-opacity: 1; white-space: pre; opacity: 1;\" transform=\"translate(0,607.1)\">0.5</text></g><g class=\"ycbcoloraxistick\"><text text-anchor=\"start\" x=\"1365.9\" y=\"4.199999999999999\" style=\"font-family: 'Open Sans', verdana, arial, sans-serif; font-size: 12px; fill: rgb(42, 63, 95); fill-opacity: 1; white-space: pre; opacity: 1;\" transform=\"translate(0,554.2)\">1</text></g><g class=\"ycbcoloraxistick\"><text text-anchor=\"start\" x=\"1365.9\" y=\"4.199999999999999\" style=\"font-family: 'Open Sans', verdana, arial, sans-serif; font-size: 12px; fill: rgb(42, 63, 95); fill-opacity: 1; white-space: pre; opacity: 1;\" transform=\"translate(0,501.30000000000007)\">1.5</text></g><g class=\"ycbcoloraxistick\"><text text-anchor=\"start\" x=\"1365.9\" y=\"4.199999999999999\" style=\"font-family: 'Open Sans', verdana, arial, sans-serif; font-size: 12px; fill: rgb(42, 63, 95); fill-opacity: 1; white-space: pre; opacity: 1;\" transform=\"translate(0,448.4)\">2</text></g><g class=\"ycbcoloraxistick\"><text text-anchor=\"start\" x=\"1365.9\" y=\"4.199999999999999\" style=\"font-family: 'Open Sans', verdana, arial, sans-serif; font-size: 12px; fill: rgb(42, 63, 95); fill-opacity: 1; white-space: pre; opacity: 1;\" transform=\"translate(0,395.5)\">2.5</text></g><g class=\"ycbcoloraxistick\"><text text-anchor=\"start\" x=\"1365.9\" y=\"4.199999999999999\" style=\"font-family: 'Open Sans', verdana, arial, sans-serif; font-size: 12px; fill: rgb(42, 63, 95); fill-opacity: 1; white-space: pre; opacity: 1;\" transform=\"translate(0,342.6)\">3</text></g><g class=\"ycbcoloraxistick\"><text text-anchor=\"start\" x=\"1365.9\" y=\"4.199999999999999\" style=\"font-family: 'Open Sans', verdana, arial, sans-serif; font-size: 12px; fill: rgb(42, 63, 95); fill-opacity: 1; white-space: pre; opacity: 1;\" transform=\"translate(0,289.70000000000005)\">3.5</text></g><g class=\"ycbcoloraxistick\"><text text-anchor=\"start\" x=\"1365.9\" y=\"4.199999999999999\" style=\"font-family: 'Open Sans', verdana, arial, sans-serif; font-size: 12px; fill: rgb(42, 63, 95); fill-opacity: 1; white-space: pre; opacity: 1;\" transform=\"translate(0,236.8)\">4</text></g><g class=\"ycbcoloraxistick\"><text text-anchor=\"start\" x=\"1365.9\" y=\"4.199999999999999\" style=\"font-family: 'Open Sans', verdana, arial, sans-serif; font-size: 12px; fill: rgb(42, 63, 95); fill-opacity: 1; white-space: pre; opacity: 1;\" transform=\"translate(0,183.90000000000003)\">4.5</text></g><g class=\"ycbcoloraxistick\"><text text-anchor=\"start\" x=\"1365.9\" y=\"4.199999999999999\" style=\"font-family: 'Open Sans', verdana, arial, sans-serif; font-size: 12px; fill: rgb(42, 63, 95); fill-opacity: 1; white-space: pre; opacity: 1;\" transform=\"translate(0,131.00000000000003)\">≥5</text></g></g><g class=\"cbtitleunshift\" transform=\"translate(-80,-100)\"><g class=\"cbtitle\" transform=\"\"><text class=\"ycbcoloraxistitle\" x=\"1412.94\" y=\"123.5\" text-anchor=\"start\" style=\"opacity: 1; font-family: 'Open Sans', verdana, arial, sans-serif; font-size: 14px; fill: rgb(42, 63, 95); fill-opacity: 1; white-space: pre;\">Conviction</text></g></g><rect class=\"cboutline\" x=\"1333\" y=\"31\" width=\"30\" height=\"529\" style=\"stroke: rgb(68, 68, 68); stroke-opacity: 1; fill: none; stroke-width: 0;\"/></g><g class=\"g-gtitle\"><text class=\"gtitle\" x=\"75\" y=\"50\" text-anchor=\"start\" dy=\"0em\" style=\"opacity: 1; font-family: 'Open Sans', verdana, arial, sans-serif; font-size: 17px; fill: rgb(42, 63, 95); fill-opacity: 1; white-space: pre;\">Anomalies</text></g><g class=\"g-xtitle\"><text class=\"xtitle\" x=\"728.5\" y=\"710.3\" text-anchor=\"middle\" style=\"opacity: 1; font-family: 'Open Sans', verdana, arial, sans-serif; font-size: 14px; fill: rgb(42, 63, 95); fill-opacity: 1; white-space: pre;\">Feature</text></g><g class=\"g-ytitle\"/></g></svg>"
      ]
     },
     "metadata": {},
     "output_type": "display_data"
    }
   ],
   "source": [
    "fig = plot_anomalies(outliers, outlier_case_feature_residual_convictions)\n",
    "fig.show(width=1500, height=750)"
   ]
  },
  {
   "attachments": {},
   "cell_type": "markdown",
   "metadata": {},
   "source": [
    "From this chart we can see that these cases were flagged as anomalous largely because of their `capital-gain` values. Since our target variable is whether someone makes over $50,000 in salary, people with such large capital gains making less than $50,000 seems odd. In addition, values such as 99999 often indicate some sort of nominal value that may represent something other than the actual capital-gain, such as if a person did not answer. \n",
    "\n",
    "With this information, we can choose the appropriate action, whether it is recoding capital-gains, removing the cases, leaving the cases out, etc..."
   ]
  },
  {
   "attachments": {},
   "cell_type": "markdown",
   "metadata": {
    "tags": []
   },
   "source": [
    "### Step 3: Inspect Outliers\n",
    "\n",
    "While we generally only think of outliers when it comes to anomalies, inliers are another, more discrete, form of anomaly. Inliers are the opposite of outliers, as inliers are cases that are too [similiar](https://docs.howso.com/en/release-latest/getting_started/terminology.html#most-similar-cases) to other points. A real world hypothetical case of an inlier would be someone submitting a false transaction date in which they tried to make the data look real by making it very similar to existing data. \n",
    "\n",
    "In our case, it may be someone in a bank who is internally falsifying applications in order to try to alter the prediction model.\n",
    "\n",
    "Just like outliers, `distance_contribution` is used to detect inliers from the anomalies detected through the use of `familiarity_conviction_addition`, except now we are looking at cases below a theshold which indicates similarity to other points.\n"
   ]
  },
  {
   "cell_type": "code",
   "execution_count": 9,
   "metadata": {
    "execution": {
     "iopub.execute_input": "2025-07-30T15:10:34.940437Z",
     "iopub.status.busy": "2025-07-30T15:10:34.940244Z",
     "iopub.status.idle": "2025-07-30T15:10:34.953757Z",
     "shell.execute_reply": "2025-07-30T15:10:34.953207Z"
    }
   },
   "outputs": [
    {
     "data": {
      "text/html": [
       "<div>\n",
       "<style scoped>\n",
       "    .dataframe tbody tr th:only-of-type {\n",
       "        vertical-align: middle;\n",
       "    }\n",
       "\n",
       "    .dataframe tbody tr th {\n",
       "        vertical-align: top;\n",
       "    }\n",
       "\n",
       "    .dataframe thead th {\n",
       "        text-align: right;\n",
       "    }\n",
       "</style>\n",
       "<table border=\"1\" class=\"dataframe\">\n",
       "  <thead>\n",
       "    <tr style=\"text-align: right;\">\n",
       "      <th></th>\n",
       "      <th>age</th>\n",
       "      <th>workclass</th>\n",
       "      <th>fnlwgt</th>\n",
       "      <th>education</th>\n",
       "      <th>education-num</th>\n",
       "      <th>marital-status</th>\n",
       "      <th>occupation</th>\n",
       "      <th>relationship</th>\n",
       "      <th>race</th>\n",
       "      <th>sex</th>\n",
       "      <th>capital-gain</th>\n",
       "      <th>capital-loss</th>\n",
       "      <th>hours-per-week</th>\n",
       "      <th>native-country</th>\n",
       "      <th>target</th>\n",
       "      <th>familiarity_conviction_addition</th>\n",
       "      <th>.session_training_index</th>\n",
       "      <th>.session</th>\n",
       "      <th>distance_contribution</th>\n",
       "      <th>category</th>\n",
       "    </tr>\n",
       "  </thead>\n",
       "  <tbody>\n",
       "    <tr>\n",
       "      <th>0</th>\n",
       "      <td>30.0</td>\n",
       "      <td>4</td>\n",
       "      <td>190228.0</td>\n",
       "      <td>11</td>\n",
       "      <td>9.0</td>\n",
       "      <td>2</td>\n",
       "      <td>6</td>\n",
       "      <td>0</td>\n",
       "      <td>4</td>\n",
       "      <td>1</td>\n",
       "      <td>0.0</td>\n",
       "      <td>0.0</td>\n",
       "      <td>40.0</td>\n",
       "      <td>39</td>\n",
       "      <td>1</td>\n",
       "      <td>0.313216</td>\n",
       "      <td>198</td>\n",
       "      <td>c6cb6b65-19c9-41ee-b4eb-5186d5d5a12e</td>\n",
       "      <td>1.446570</td>\n",
       "      <td>inlier</td>\n",
       "    </tr>\n",
       "    <tr>\n",
       "      <th>1</th>\n",
       "      <td>25.0</td>\n",
       "      <td>4</td>\n",
       "      <td>218667.0</td>\n",
       "      <td>11</td>\n",
       "      <td>9.0</td>\n",
       "      <td>2</td>\n",
       "      <td>6</td>\n",
       "      <td>0</td>\n",
       "      <td>4</td>\n",
       "      <td>1</td>\n",
       "      <td>0.0</td>\n",
       "      <td>0.0</td>\n",
       "      <td>40.0</td>\n",
       "      <td>39</td>\n",
       "      <td>1</td>\n",
       "      <td>0.314188</td>\n",
       "      <td>881</td>\n",
       "      <td>c6cb6b65-19c9-41ee-b4eb-5186d5d5a12e</td>\n",
       "      <td>1.560241</td>\n",
       "      <td>inlier</td>\n",
       "    </tr>\n",
       "    <tr>\n",
       "      <th>2</th>\n",
       "      <td>36.0</td>\n",
       "      <td>4</td>\n",
       "      <td>209629.0</td>\n",
       "      <td>11</td>\n",
       "      <td>9.0</td>\n",
       "      <td>2</td>\n",
       "      <td>7</td>\n",
       "      <td>0</td>\n",
       "      <td>4</td>\n",
       "      <td>1</td>\n",
       "      <td>0.0</td>\n",
       "      <td>0.0</td>\n",
       "      <td>40.0</td>\n",
       "      <td>39</td>\n",
       "      <td>1</td>\n",
       "      <td>0.317199</td>\n",
       "      <td>404</td>\n",
       "      <td>c6cb6b65-19c9-41ee-b4eb-5186d5d5a12e</td>\n",
       "      <td>1.568833</td>\n",
       "      <td>inlier</td>\n",
       "    </tr>\n",
       "  </tbody>\n",
       "</table>\n",
       "</div>"
      ],
      "text/plain": [
       "    age  workclass    fnlwgt  education  education-num  marital-status  \\\n",
       "0  30.0          4  190228.0         11            9.0               2   \n",
       "1  25.0          4  218667.0         11            9.0               2   \n",
       "2  36.0          4  209629.0         11            9.0               2   \n",
       "\n",
       "   occupation  relationship  race  sex  capital-gain  capital-loss  \\\n",
       "0           6             0     4    1           0.0           0.0   \n",
       "1           6             0     4    1           0.0           0.0   \n",
       "2           7             0     4    1           0.0           0.0   \n",
       "\n",
       "   hours-per-week  native-country  target  familiarity_conviction_addition  \\\n",
       "0            40.0              39       1                         0.313216   \n",
       "1            40.0              39       1                         0.314188   \n",
       "2            40.0              39       1                         0.317199   \n",
       "\n",
       "   .session_training_index                              .session  \\\n",
       "0                      198  c6cb6b65-19c9-41ee-b4eb-5186d5d5a12e   \n",
       "1                      881  c6cb6b65-19c9-41ee-b4eb-5186d5d5a12e   \n",
       "2                      404  c6cb6b65-19c9-41ee-b4eb-5186d5d5a12e   \n",
       "\n",
       "   distance_contribution category  \n",
       "0               1.446570   inlier  \n",
       "1               1.560241   inlier  \n",
       "2               1.568833   inlier  "
      ]
     },
     "execution_count": 9,
     "metadata": {},
     "output_type": "execute_result"
    }
   ],
   "source": [
    "# Extract the inlier cases\n",
    "inliers = low_convicts[low_convicts['category'] == 'inlier'].reset_index(drop=True)\n",
    "inliers.head(3)"
   ]
  },
  {
   "attachments": {},
   "cell_type": "markdown",
   "metadata": {},
   "source": [
    "### Step 4: Inlier Value Evaluation"
   ]
  },
  {
   "cell_type": "code",
   "execution_count": 10,
   "metadata": {
    "execution": {
     "iopub.execute_input": "2025-07-30T15:10:34.955460Z",
     "iopub.status.busy": "2025-07-30T15:10:34.955274Z",
     "iopub.status.idle": "2025-07-30T15:10:39.880836Z",
     "shell.execute_reply": "2025-07-30T15:10:39.880143Z"
    }
   },
   "outputs": [],
   "source": [
    "# Specify the inlier cases\n",
    "inliers_indices = inliers[['.session', '.session_training_index']].values\n",
    "\n",
    "# React to get the details of each case\n",
    "results = t.react(\n",
    "    case_indices=inliers_indices,\n",
    "    preserve_feature_values=df.columns.tolist(),\n",
    "    leave_case_out=True,\n",
    "    details=details\n",
    ")\n",
    "\n",
    "\n",
    "inlier_case_feature_residual_convictions = pd.DataFrame(\n",
    "    results['details']['feature_full_residual_convictions_for_case']\n",
    ")[df.columns.tolist()]"
   ]
  },
  {
   "cell_type": "code",
   "execution_count": 11,
   "metadata": {
    "execution": {
     "iopub.execute_input": "2025-07-30T15:10:39.883009Z",
     "iopub.status.busy": "2025-07-30T15:10:39.882819Z",
     "iopub.status.idle": "2025-07-30T15:10:41.432408Z",
     "shell.execute_reply": "2025-07-30T15:10:41.431711Z"
    }
   },
   "outputs": [
    {
     "data": {
      "image/svg+xml": [
       "<svg class=\"main-svg\" xmlns=\"http://www.w3.org/2000/svg\" xmlns:xlink=\"http://www.w3.org/1999/xlink\" width=\"1500\" height=\"750\" style=\"\" viewBox=\"0 0 1500 750\"><rect x=\"0\" y=\"0\" width=\"1500\" height=\"750\" style=\"fill: rgb(255, 255, 255); fill-opacity: 1;\"/><defs id=\"defs-56945c\"><g class=\"clips\"><clipPath id=\"clip56945cxyplot\" class=\"plotclip\"><rect width=\"1297\" height=\"570\"/></clipPath><clipPath class=\"axesclip\" id=\"clip56945cx\"><rect x=\"80\" y=\"0\" width=\"1297\" height=\"750\"/></clipPath><clipPath class=\"axesclip\" id=\"clip56945cy\"><rect x=\"0\" y=\"100\" width=\"1500\" height=\"570\"/></clipPath><clipPath class=\"axesclip\" id=\"clip56945cxy\"><rect x=\"80\" y=\"100\" width=\"1297\" height=\"570\"/></clipPath></g><g class=\"gradients\"><linearGradient x1=\"0\" y1=\"1\" x2=\"0\" y2=\"0\" gradientUnits=\"objectBoundingBox\" id=\"g56945c-cbcoloraxis\"><stop offset=\"0%\" stop-color=\"rgb(103, 0, 31)\" stop-opacity=\"1\"/><stop offset=\"20%\" stop-color=\"rgb(247, 247, 247)\" stop-opacity=\"1\"/><stop offset=\"40%\" stop-color=\"rgb(67, 147, 195)\" stop-opacity=\"1\"/><stop offset=\"100%\" stop-color=\"rgb(5, 48, 97)\" stop-opacity=\"1\"/></linearGradient></g><g class=\"patterns\"/></defs><g class=\"bglayer\"><rect class=\"bg\" x=\"80\" y=\"100\" width=\"1297\" height=\"570\" style=\"fill: rgb(229, 236, 246); fill-opacity: 1; stroke-width: 0;\"/></g><g class=\"layer-below\"><g class=\"imagelayer\"/><g class=\"shapelayer\"/></g><g class=\"cartesianlayer\"><g class=\"subplot xy\"><g class=\"layer-subplot\"><g class=\"shapelayer\"/><g class=\"imagelayer\"/></g><g class=\"minor-gridlayer\"><g class=\"x\"/><g class=\"y\"/></g><g class=\"gridlayer\"><g class=\"x\"><path class=\"xgrid crisp\" transform=\"translate(123.22999999999999,0)\" d=\"M0,100v570\" style=\"stroke: rgb(255, 255, 255); stroke-opacity: 1; stroke-width: 1px;\"/><path class=\"xgrid crisp\" transform=\"translate(209.7,0)\" d=\"M0,100v570\" style=\"stroke: rgb(255, 255, 255); stroke-opacity: 1; stroke-width: 1px;\"/><path class=\"xgrid crisp\" transform=\"translate(296.16999999999996,0)\" d=\"M0,100v570\" style=\"stroke: rgb(255, 255, 255); stroke-opacity: 1; stroke-width: 1px;\"/><path class=\"xgrid crisp\" transform=\"translate(382.63,0)\" d=\"M0,100v570\" style=\"stroke: rgb(255, 255, 255); stroke-opacity: 1; stroke-width: 1px;\"/><path class=\"xgrid crisp\" transform=\"translate(469.1,0)\" d=\"M0,100v570\" style=\"stroke: rgb(255, 255, 255); stroke-opacity: 1; stroke-width: 1px;\"/><path class=\"xgrid crisp\" transform=\"translate(555.5699999999999,0)\" d=\"M0,100v570\" style=\"stroke: rgb(255, 255, 255); stroke-opacity: 1; stroke-width: 1px;\"/><path class=\"xgrid crisp\" transform=\"translate(642.03,0)\" d=\"M0,100v570\" style=\"stroke: rgb(255, 255, 255); stroke-opacity: 1; stroke-width: 1px;\"/><path class=\"xgrid crisp\" transform=\"translate(728.5,0)\" d=\"M0,100v570\" style=\"stroke: rgb(255, 255, 255); stroke-opacity: 1; stroke-width: 1px;\"/><path class=\"xgrid crisp\" transform=\"translate(814.97,0)\" d=\"M0,100v570\" style=\"stroke: rgb(255, 255, 255); stroke-opacity: 1; stroke-width: 1px;\"/><path class=\"xgrid crisp\" transform=\"translate(901.43,0)\" d=\"M0,100v570\" style=\"stroke: rgb(255, 255, 255); stroke-opacity: 1; stroke-width: 1px;\"/><path class=\"xgrid crisp\" transform=\"translate(987.9,0)\" d=\"M0,100v570\" style=\"stroke: rgb(255, 255, 255); stroke-opacity: 1; stroke-width: 1px;\"/><path class=\"xgrid crisp\" transform=\"translate(1074.37,0)\" d=\"M0,100v570\" style=\"stroke: rgb(255, 255, 255); stroke-opacity: 1; stroke-width: 1px;\"/><path class=\"xgrid crisp\" transform=\"translate(1160.83,0)\" d=\"M0,100v570\" style=\"stroke: rgb(255, 255, 255); stroke-opacity: 1; stroke-width: 1px;\"/><path class=\"xgrid crisp\" transform=\"translate(1247.3,0)\" d=\"M0,100v570\" style=\"stroke: rgb(255, 255, 255); stroke-opacity: 1; stroke-width: 1px;\"/><path class=\"xgrid crisp\" transform=\"translate(1333.77,0)\" d=\"M0,100v570\" style=\"stroke: rgb(255, 255, 255); stroke-opacity: 1; stroke-width: 1px;\"/></g><g class=\"y\"><path class=\"ygrid crisp\" transform=\"translate(0,613)\" d=\"M80,0h1297\" style=\"stroke: rgb(255, 255, 255); stroke-opacity: 1; stroke-width: 1px;\"/><path class=\"ygrid crisp\" transform=\"translate(0,499)\" d=\"M80,0h1297\" style=\"stroke: rgb(255, 255, 255); stroke-opacity: 1; stroke-width: 1px;\"/><path class=\"ygrid crisp\" transform=\"translate(0,385)\" d=\"M80,0h1297\" style=\"stroke: rgb(255, 255, 255); stroke-opacity: 1; stroke-width: 1px;\"/><path class=\"ygrid crisp\" transform=\"translate(0,271)\" d=\"M80,0h1297\" style=\"stroke: rgb(255, 255, 255); stroke-opacity: 1; stroke-width: 1px;\"/></g></g><g class=\"zerolinelayer\"><path class=\"yzl zl crisp\" transform=\"translate(0,157)\" d=\"M80,0h1297\" style=\"stroke: rgb(255, 255, 255); stroke-opacity: 1; stroke-width: 2px;\"/></g><g class=\"layer-between\"><g class=\"shapelayer\"/><g class=\"imagelayer\"/></g><path class=\"xlines-below\"/><path class=\"ylines-below\"/><g class=\"overlines-below\"/><g class=\"xaxislayer-below\"/><g class=\"yaxislayer-below\"/><g class=\"overaxes-below\"/><g class=\"overplot\"><g class=\"xy\" transform=\"translate(80,100)\" clip-path=\"url(#clip56945cxyplot)\"><g class=\"heatmaplayer mlayer\"><g class=\"hm\"><image xmlns=\"http://www.w3.org/2000/svg\" preserveAspectRatio=\"none\" height=\"570\" width=\"1297\" x=\"0\" y=\"0\" xlink:href=\"data:image/png;base64,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\" style=\"opacity: 1;\"/><g class=\"heatmap-label\"><text text-anchor=\"middle\" data-notex=\"1\" x=\"43\" y=\"61.2\" style=\"font-family: 'Open Sans', verdana, arial, sans-serif; font-size: 12px; fill: rgb(68, 68, 68); fill-opacity: 1; white-space: pre;\">30.0</text></g><g class=\"heatmap-label\"><text text-anchor=\"middle\" data-notex=\"1\" x=\"130\" y=\"61.2\" style=\"font-family: 'Open Sans', verdana, arial, sans-serif; font-size: 12px; fill: rgb(255, 255, 255); fill-opacity: 1; white-space: pre;\">4</text></g><g class=\"heatmap-label\"><text text-anchor=\"middle\" data-notex=\"1\" x=\"216\" y=\"61.2\" style=\"font-family: 'Open Sans', verdana, arial, sans-serif; font-size: 12px; fill: rgb(68, 68, 68); fill-opacity: 1; white-space: pre;\">190228.0</text></g><g class=\"heatmap-label\"><text text-anchor=\"middle\" data-notex=\"1\" x=\"303\" y=\"61.2\" style=\"font-family: 'Open Sans', verdana, arial, sans-serif; font-size: 12px; fill: rgb(68, 68, 68); fill-opacity: 1; white-space: pre;\">11</text></g><g class=\"heatmap-label\"><text text-anchor=\"middle\" data-notex=\"1\" x=\"389\" y=\"61.2\" style=\"font-family: 'Open Sans', verdana, arial, sans-serif; font-size: 12px; fill: rgb(68, 68, 68); fill-opacity: 1; white-space: pre;\">9.0</text></g><g class=\"heatmap-label\"><text text-anchor=\"middle\" data-notex=\"1\" x=\"476\" y=\"61.2\" style=\"font-family: 'Open Sans', verdana, arial, sans-serif; font-size: 12px; fill: rgb(68, 68, 68); fill-opacity: 1; white-space: pre;\">2</text></g><g class=\"heatmap-label\"><text text-anchor=\"middle\" data-notex=\"1\" x=\"562\" y=\"61.2\" style=\"font-family: 'Open Sans', verdana, arial, sans-serif; font-size: 12px; fill: rgb(68, 68, 68); fill-opacity: 1; white-space: pre;\">6</text></g><g class=\"heatmap-label\"><text text-anchor=\"middle\" data-notex=\"1\" x=\"649\" y=\"61.2\" style=\"font-family: 'Open Sans', verdana, arial, sans-serif; font-size: 12px; fill: rgb(68, 68, 68); fill-opacity: 1; white-space: pre;\">0</text></g><g class=\"heatmap-label\"><text text-anchor=\"middle\" data-notex=\"1\" x=\"735\" y=\"61.2\" style=\"font-family: 'Open Sans', verdana, arial, sans-serif; font-size: 12px; fill: rgb(68, 68, 68); fill-opacity: 1; white-space: pre;\">4</text></g><g class=\"heatmap-label\"><text text-anchor=\"middle\" data-notex=\"1\" x=\"821\" y=\"61.2\" style=\"font-family: 'Open Sans', verdana, arial, sans-serif; font-size: 12px; fill: rgb(68, 68, 68); fill-opacity: 1; white-space: pre;\">1</text></g><g class=\"heatmap-label\"><text text-anchor=\"middle\" data-notex=\"1\" x=\"908\" y=\"61.2\" style=\"font-family: 'Open Sans', verdana, arial, sans-serif; font-size: 12px; fill: rgb(68, 68, 68); fill-opacity: 1; white-space: pre;\">0.0</text></g><g class=\"heatmap-label\"><text text-anchor=\"middle\" data-notex=\"1\" x=\"994\" y=\"61.2\" style=\"font-family: 'Open Sans', verdana, arial, sans-serif; font-size: 12px; fill: rgb(255, 255, 255); fill-opacity: 1; white-space: pre;\">0.0</text></g><g class=\"heatmap-label\"><text text-anchor=\"middle\" data-notex=\"1\" x=\"1081\" y=\"61.2\" style=\"font-family: 'Open Sans', verdana, arial, sans-serif; font-size: 12px; fill: rgb(68, 68, 68); fill-opacity: 1; white-space: pre;\">40.0</text></g><g class=\"heatmap-label\"><text text-anchor=\"middle\" data-notex=\"1\" x=\"1167\" y=\"61.2\" style=\"font-family: 'Open Sans', verdana, arial, sans-serif; font-size: 12px; fill: rgb(68, 68, 68); fill-opacity: 1; white-space: pre;\">39</text></g><g class=\"heatmap-label\"><text text-anchor=\"middle\" data-notex=\"1\" x=\"1254\" y=\"61.2\" style=\"font-family: 'Open Sans', verdana, arial, sans-serif; font-size: 12px; fill: rgb(68, 68, 68); fill-opacity: 1; white-space: pre;\">1</text></g><g class=\"heatmap-label\"><text text-anchor=\"middle\" data-notex=\"1\" x=\"43\" y=\"175.2\" style=\"font-family: 'Open Sans', verdana, arial, sans-serif; font-size: 12px; fill: rgb(68, 68, 68); fill-opacity: 1; white-space: pre;\">25.0</text></g><g class=\"heatmap-label\"><text text-anchor=\"middle\" data-notex=\"1\" x=\"130\" y=\"175.2\" style=\"font-family: 'Open Sans', verdana, arial, sans-serif; font-size: 12px; fill: rgb(255, 255, 255); fill-opacity: 1; white-space: pre;\">4</text></g><g class=\"heatmap-label\"><text text-anchor=\"middle\" data-notex=\"1\" x=\"216\" y=\"175.2\" style=\"font-family: 'Open Sans', verdana, arial, sans-serif; font-size: 12px; fill: rgb(68, 68, 68); fill-opacity: 1; white-space: pre;\">218667.0</text></g><g class=\"heatmap-label\"><text text-anchor=\"middle\" data-notex=\"1\" x=\"303\" y=\"175.2\" style=\"font-family: 'Open Sans', verdana, arial, sans-serif; font-size: 12px; fill: rgb(68, 68, 68); fill-opacity: 1; white-space: pre;\">11</text></g><g class=\"heatmap-label\"><text text-anchor=\"middle\" data-notex=\"1\" x=\"389\" y=\"175.2\" style=\"font-family: 'Open Sans', verdana, arial, sans-serif; font-size: 12px; fill: rgb(68, 68, 68); fill-opacity: 1; white-space: pre;\">9.0</text></g><g class=\"heatmap-label\"><text text-anchor=\"middle\" data-notex=\"1\" x=\"476\" y=\"175.2\" style=\"font-family: 'Open Sans', verdana, arial, sans-serif; font-size: 12px; fill: rgb(68, 68, 68); fill-opacity: 1; white-space: pre;\">2</text></g><g class=\"heatmap-label\"><text text-anchor=\"middle\" data-notex=\"1\" x=\"562\" y=\"175.2\" style=\"font-family: 'Open Sans', verdana, arial, sans-serif; font-size: 12px; fill: rgb(68, 68, 68); fill-opacity: 1; white-space: pre;\">6</text></g><g class=\"heatmap-label\"><text text-anchor=\"middle\" data-notex=\"1\" x=\"649\" y=\"175.2\" style=\"font-family: 'Open Sans', verdana, arial, sans-serif; font-size: 12px; fill: rgb(68, 68, 68); fill-opacity: 1; white-space: pre;\">0</text></g><g class=\"heatmap-label\"><text text-anchor=\"middle\" data-notex=\"1\" x=\"735\" y=\"175.2\" style=\"font-family: 'Open Sans', verdana, arial, sans-serif; font-size: 12px; fill: rgb(68, 68, 68); fill-opacity: 1; white-space: pre;\">4</text></g><g class=\"heatmap-label\"><text text-anchor=\"middle\" data-notex=\"1\" x=\"821\" y=\"175.2\" style=\"font-family: 'Open Sans', verdana, arial, sans-serif; font-size: 12px; fill: rgb(68, 68, 68); fill-opacity: 1; white-space: pre;\">1</text></g><g class=\"heatmap-label\"><text text-anchor=\"middle\" data-notex=\"1\" x=\"908\" y=\"175.2\" style=\"font-family: 'Open Sans', verdana, arial, sans-serif; font-size: 12px; fill: rgb(68, 68, 68); fill-opacity: 1; white-space: pre;\">0.0</text></g><g class=\"heatmap-label\"><text text-anchor=\"middle\" data-notex=\"1\" x=\"994\" y=\"175.2\" style=\"font-family: 'Open Sans', verdana, arial, sans-serif; font-size: 12px; fill: rgb(68, 68, 68); fill-opacity: 1; white-space: pre;\">0.0</text></g><g class=\"heatmap-label\"><text text-anchor=\"middle\" data-notex=\"1\" x=\"1081\" y=\"175.2\" style=\"font-family: 'Open Sans', verdana, arial, sans-serif; font-size: 12px; fill: rgb(68, 68, 68); fill-opacity: 1; white-space: pre;\">40.0</text></g><g class=\"heatmap-label\"><text text-anchor=\"middle\" data-notex=\"1\" x=\"1167\" y=\"175.2\" style=\"font-family: 'Open Sans', verdana, arial, sans-serif; font-size: 12px; fill: rgb(255, 255, 255); fill-opacity: 1; white-space: pre;\">39</text></g><g class=\"heatmap-label\"><text text-anchor=\"middle\" data-notex=\"1\" x=\"1254\" y=\"175.2\" style=\"font-family: 'Open Sans', verdana, arial, sans-serif; font-size: 12px; fill: rgb(68, 68, 68); fill-opacity: 1; white-space: pre;\">1</text></g><g class=\"heatmap-label\"><text text-anchor=\"middle\" data-notex=\"1\" x=\"43\" y=\"289.2\" style=\"font-family: 'Open Sans', verdana, arial, sans-serif; font-size: 12px; fill: rgb(255, 255, 255); fill-opacity: 1; white-space: pre;\">36.0</text></g><g class=\"heatmap-label\"><text text-anchor=\"middle\" data-notex=\"1\" x=\"130\" y=\"289.2\" style=\"font-family: 'Open Sans', verdana, arial, sans-serif; font-size: 12px; fill: rgb(255, 255, 255); fill-opacity: 1; white-space: pre;\">4</text></g><g class=\"heatmap-label\"><text text-anchor=\"middle\" data-notex=\"1\" x=\"216\" y=\"289.2\" style=\"font-family: 'Open Sans', verdana, arial, sans-serif; font-size: 12px; fill: rgb(68, 68, 68); fill-opacity: 1; white-space: pre;\">209629.0</text></g><g class=\"heatmap-label\"><text text-anchor=\"middle\" data-notex=\"1\" x=\"303\" y=\"289.2\" style=\"font-family: 'Open Sans', verdana, arial, sans-serif; font-size: 12px; fill: rgb(68, 68, 68); fill-opacity: 1; white-space: pre;\">11</text></g><g class=\"heatmap-label\"><text text-anchor=\"middle\" data-notex=\"1\" x=\"389\" y=\"289.2\" style=\"font-family: 'Open Sans', verdana, arial, sans-serif; font-size: 12px; fill: rgb(255, 255, 255); fill-opacity: 1; white-space: pre;\">9.0</text></g><g class=\"heatmap-label\"><text text-anchor=\"middle\" data-notex=\"1\" x=\"476\" y=\"289.2\" style=\"font-family: 'Open Sans', verdana, arial, sans-serif; font-size: 12px; fill: rgb(68, 68, 68); fill-opacity: 1; white-space: pre;\">2</text></g><g class=\"heatmap-label\"><text text-anchor=\"middle\" data-notex=\"1\" x=\"562\" y=\"289.2\" style=\"font-family: 'Open Sans', verdana, arial, sans-serif; font-size: 12px; fill: rgb(68, 68, 68); fill-opacity: 1; white-space: pre;\">7</text></g><g class=\"heatmap-label\"><text text-anchor=\"middle\" data-notex=\"1\" x=\"649\" y=\"289.2\" style=\"font-family: 'Open Sans', verdana, arial, sans-serif; font-size: 12px; fill: rgb(68, 68, 68); fill-opacity: 1; white-space: pre;\">0</text></g><g class=\"heatmap-label\"><text text-anchor=\"middle\" data-notex=\"1\" x=\"735\" y=\"289.2\" style=\"font-family: 'Open Sans', verdana, arial, sans-serif; font-size: 12px; fill: rgb(68, 68, 68); fill-opacity: 1; white-space: pre;\">4</text></g><g class=\"heatmap-label\"><text text-anchor=\"middle\" data-notex=\"1\" x=\"821\" y=\"289.2\" style=\"font-family: 'Open Sans', verdana, arial, sans-serif; font-size: 12px; fill: rgb(68, 68, 68); fill-opacity: 1; white-space: pre;\">1</text></g><g class=\"heatmap-label\"><text text-anchor=\"middle\" data-notex=\"1\" x=\"908\" y=\"289.2\" style=\"font-family: 'Open Sans', verdana, arial, sans-serif; font-size: 12px; fill: rgb(255, 255, 255); fill-opacity: 1; white-space: pre;\">0.0</text></g><g class=\"heatmap-label\"><text text-anchor=\"middle\" data-notex=\"1\" x=\"994\" y=\"289.2\" style=\"font-family: 'Open Sans', verdana, arial, sans-serif; font-size: 12px; fill: rgb(68, 68, 68); fill-opacity: 1; white-space: pre;\">0.0</text></g><g class=\"heatmap-label\"><text text-anchor=\"middle\" data-notex=\"1\" x=\"1081\" y=\"289.2\" style=\"font-family: 'Open Sans', verdana, arial, sans-serif; font-size: 12px; fill: rgb(68, 68, 68); fill-opacity: 1; white-space: pre;\">40.0</text></g><g class=\"heatmap-label\"><text text-anchor=\"middle\" data-notex=\"1\" x=\"1167\" y=\"289.2\" style=\"font-family: 'Open Sans', verdana, arial, sans-serif; font-size: 12px; fill: rgb(68, 68, 68); fill-opacity: 1; white-space: pre;\">39</text></g><g class=\"heatmap-label\"><text text-anchor=\"middle\" data-notex=\"1\" x=\"1254\" y=\"289.2\" style=\"font-family: 'Open Sans', verdana, arial, sans-serif; font-size: 12px; fill: rgb(68, 68, 68); fill-opacity: 1; white-space: pre;\">1</text></g><g class=\"heatmap-label\"><text text-anchor=\"middle\" data-notex=\"1\" x=\"43\" y=\"403.2\" style=\"font-family: 'Open Sans', verdana, arial, sans-serif; font-size: 12px; fill: rgb(68, 68, 68); fill-opacity: 1; white-space: pre;\">25.0</text></g><g class=\"heatmap-label\"><text text-anchor=\"middle\" data-notex=\"1\" x=\"130\" y=\"403.2\" style=\"font-family: 'Open Sans', verdana, arial, sans-serif; font-size: 12px; fill: rgb(255, 255, 255); fill-opacity: 1; white-space: pre;\">4</text></g><g class=\"heatmap-label\"><text text-anchor=\"middle\" data-notex=\"1\" x=\"216\" y=\"403.2\" style=\"font-family: 'Open Sans', verdana, arial, sans-serif; font-size: 12px; fill: rgb(68, 68, 68); fill-opacity: 1; white-space: pre;\">236267.0</text></g><g class=\"heatmap-label\"><text text-anchor=\"middle\" data-notex=\"1\" x=\"303\" y=\"403.2\" style=\"font-family: 'Open Sans', verdana, arial, sans-serif; font-size: 12px; fill: rgb(68, 68, 68); fill-opacity: 1; white-space: pre;\">11</text></g><g class=\"heatmap-label\"><text text-anchor=\"middle\" data-notex=\"1\" x=\"389\" y=\"403.2\" style=\"font-family: 'Open Sans', verdana, arial, sans-serif; font-size: 12px; fill: rgb(68, 68, 68); fill-opacity: 1; white-space: pre;\">9.0</text></g><g class=\"heatmap-label\"><text text-anchor=\"middle\" data-notex=\"1\" x=\"476\" y=\"403.2\" style=\"font-family: 'Open Sans', verdana, arial, sans-serif; font-size: 12px; fill: rgb(68, 68, 68); fill-opacity: 1; white-space: pre;\">2</text></g><g class=\"heatmap-label\"><text text-anchor=\"middle\" data-notex=\"1\" x=\"562\" y=\"403.2\" style=\"font-family: 'Open Sans', verdana, arial, sans-serif; font-size: 12px; fill: rgb(68, 68, 68); fill-opacity: 1; white-space: pre;\">6</text></g><g class=\"heatmap-label\"><text text-anchor=\"middle\" data-notex=\"1\" x=\"649\" y=\"403.2\" style=\"font-family: 'Open Sans', verdana, arial, sans-serif; font-size: 12px; fill: rgb(68, 68, 68); fill-opacity: 1; white-space: pre;\">0</text></g><g class=\"heatmap-label\"><text text-anchor=\"middle\" data-notex=\"1\" x=\"735\" y=\"403.2\" style=\"font-family: 'Open Sans', verdana, arial, sans-serif; font-size: 12px; fill: rgb(68, 68, 68); fill-opacity: 1; white-space: pre;\">4</text></g><g class=\"heatmap-label\"><text text-anchor=\"middle\" data-notex=\"1\" x=\"821\" y=\"403.2\" style=\"font-family: 'Open Sans', verdana, arial, sans-serif; font-size: 12px; fill: rgb(68, 68, 68); fill-opacity: 1; white-space: pre;\">1</text></g><g class=\"heatmap-label\"><text text-anchor=\"middle\" data-notex=\"1\" x=\"908\" y=\"403.2\" style=\"font-family: 'Open Sans', verdana, arial, sans-serif; font-size: 12px; fill: rgb(68, 68, 68); fill-opacity: 1; white-space: pre;\">0.0</text></g><g class=\"heatmap-label\"><text text-anchor=\"middle\" data-notex=\"1\" x=\"994\" y=\"403.2\" style=\"font-family: 'Open Sans', verdana, arial, sans-serif; font-size: 12px; fill: rgb(68, 68, 68); fill-opacity: 1; white-space: pre;\">0.0</text></g><g class=\"heatmap-label\"><text text-anchor=\"middle\" data-notex=\"1\" x=\"1081\" y=\"403.2\" style=\"font-family: 'Open Sans', verdana, arial, sans-serif; font-size: 12px; fill: rgb(68, 68, 68); fill-opacity: 1; white-space: pre;\">40.0</text></g><g class=\"heatmap-label\"><text text-anchor=\"middle\" data-notex=\"1\" x=\"1167\" y=\"403.2\" style=\"font-family: 'Open Sans', verdana, arial, sans-serif; font-size: 12px; fill: rgb(68, 68, 68); fill-opacity: 1; white-space: pre;\">39</text></g><g class=\"heatmap-label\"><text text-anchor=\"middle\" data-notex=\"1\" x=\"1254\" y=\"403.2\" style=\"font-family: 'Open Sans', verdana, arial, sans-serif; font-size: 12px; fill: rgb(68, 68, 68); fill-opacity: 1; white-space: pre;\">1</text></g><g class=\"heatmap-label\"><text text-anchor=\"middle\" data-notex=\"1\" x=\"43\" y=\"517.2\" style=\"font-family: 'Open Sans', verdana, arial, sans-serif; font-size: 12px; fill: rgb(68, 68, 68); fill-opacity: 1; white-space: pre;\">20.0</text></g><g class=\"heatmap-label\"><text text-anchor=\"middle\" data-notex=\"1\" x=\"130\" y=\"517.2\" style=\"font-family: 'Open Sans', verdana, arial, sans-serif; font-size: 12px; fill: rgb(68, 68, 68); fill-opacity: 1; white-space: pre;\">0</text></g><g class=\"heatmap-label\"><text text-anchor=\"middle\" data-notex=\"1\" x=\"216\" y=\"517.2\" style=\"font-family: 'Open Sans', verdana, arial, sans-serif; font-size: 12px; fill: rgb(68, 68, 68); fill-opacity: 1; white-space: pre;\">201766.0</text></g><g class=\"heatmap-label\"><text text-anchor=\"middle\" data-notex=\"1\" x=\"303\" y=\"517.2\" style=\"font-family: 'Open Sans', verdana, arial, sans-serif; font-size: 12px; fill: rgb(68, 68, 68); fill-opacity: 1; white-space: pre;\">15</text></g><g class=\"heatmap-label\"><text text-anchor=\"middle\" data-notex=\"1\" x=\"389\" y=\"517.2\" style=\"font-family: 'Open Sans', verdana, arial, sans-serif; font-size: 12px; fill: rgb(255, 255, 255); fill-opacity: 1; white-space: pre;\">10.0</text></g><g class=\"heatmap-label\"><text text-anchor=\"middle\" data-notex=\"1\" x=\"476\" y=\"517.2\" style=\"font-family: 'Open Sans', verdana, arial, sans-serif; font-size: 12px; fill: rgb(255, 255, 255); fill-opacity: 1; white-space: pre;\">4</text></g><g class=\"heatmap-label\"><text text-anchor=\"middle\" data-notex=\"1\" x=\"562\" y=\"517.2\" style=\"font-family: 'Open Sans', verdana, arial, sans-serif; font-size: 12px; fill: rgb(255, 255, 255); fill-opacity: 1; white-space: pre;\">0</text></g><g class=\"heatmap-label\"><text text-anchor=\"middle\" data-notex=\"1\" x=\"649\" y=\"517.2\" style=\"font-family: 'Open Sans', verdana, arial, sans-serif; font-size: 12px; fill: rgb(68, 68, 68); fill-opacity: 1; white-space: pre;\">3</text></g><g class=\"heatmap-label\"><text text-anchor=\"middle\" data-notex=\"1\" x=\"735\" y=\"517.2\" style=\"font-family: 'Open Sans', verdana, arial, sans-serif; font-size: 12px; fill: rgb(68, 68, 68); fill-opacity: 1; white-space: pre;\">4</text></g><g class=\"heatmap-label\"><text text-anchor=\"middle\" data-notex=\"1\" x=\"821\" y=\"517.2\" style=\"font-family: 'Open Sans', verdana, arial, sans-serif; font-size: 12px; fill: rgb(68, 68, 68); fill-opacity: 1; white-space: pre;\">0</text></g><g class=\"heatmap-label\"><text text-anchor=\"middle\" data-notex=\"1\" x=\"908\" y=\"517.2\" style=\"font-family: 'Open Sans', verdana, arial, sans-serif; font-size: 12px; fill: rgb(68, 68, 68); fill-opacity: 1; white-space: pre;\">0.0</text></g><g class=\"heatmap-label\"><text text-anchor=\"middle\" data-notex=\"1\" x=\"994\" y=\"517.2\" style=\"font-family: 'Open Sans', verdana, arial, sans-serif; font-size: 12px; fill: rgb(255, 255, 255); fill-opacity: 1; white-space: pre;\">0.0</text></g><g class=\"heatmap-label\"><text text-anchor=\"middle\" data-notex=\"1\" x=\"1081\" y=\"517.2\" style=\"font-family: 'Open Sans', verdana, arial, sans-serif; font-size: 12px; fill: rgb(68, 68, 68); fill-opacity: 1; white-space: pre;\">35.0</text></g><g class=\"heatmap-label\"><text text-anchor=\"middle\" data-notex=\"1\" x=\"1167\" y=\"517.2\" style=\"font-family: 'Open Sans', verdana, arial, sans-serif; font-size: 12px; fill: rgb(68, 68, 68); fill-opacity: 1; white-space: pre;\">39</text></g><g class=\"heatmap-label\"><text text-anchor=\"middle\" data-notex=\"1\" x=\"1254\" y=\"517.2\" style=\"font-family: 'Open Sans', verdana, arial, sans-serif; font-size: 12px; fill: rgb(68, 68, 68); fill-opacity: 1; white-space: pre;\">1</text></g></g></g></g></g><path class=\"xlines-above crisp\" d=\"M0,0\" style=\"fill: none;\"/><path class=\"ylines-above crisp\" d=\"M0,0\" style=\"fill: none;\"/><g class=\"overlines-above\"/><g class=\"xaxislayer-above\"><g class=\"xtick\"><text text-anchor=\"middle\" x=\"0\" y=\"683\" transform=\"translate(123.22999999999999,0)\" style=\"font-family: 'Open Sans', verdana, arial, sans-serif; font-size: 12px; fill: rgb(42, 63, 95); fill-opacity: 1; white-space: pre; opacity: 1;\">age</text></g><g class=\"xtick\"><text text-anchor=\"middle\" x=\"0\" y=\"683\" transform=\"translate(209.7,0)\" style=\"font-family: 'Open Sans', verdana, arial, sans-serif; font-size: 12px; fill: rgb(42, 63, 95); fill-opacity: 1; white-space: pre; opacity: 1;\">workclass</text></g><g class=\"xtick\"><text text-anchor=\"middle\" x=\"0\" y=\"683\" transform=\"translate(296.16999999999996,0)\" style=\"font-family: 'Open Sans', verdana, arial, sans-serif; font-size: 12px; fill: rgb(42, 63, 95); fill-opacity: 1; white-space: pre; opacity: 1;\">fnlwgt</text></g><g class=\"xtick\"><text text-anchor=\"middle\" x=\"0\" y=\"683\" transform=\"translate(382.63,0)\" style=\"font-family: 'Open Sans', verdana, arial, sans-serif; font-size: 12px; fill: rgb(42, 63, 95); fill-opacity: 1; white-space: pre; opacity: 1;\">education</text></g><g class=\"xtick\"><text text-anchor=\"middle\" x=\"0\" y=\"683\" transform=\"translate(469.1,0)\" style=\"font-family: 'Open Sans', verdana, arial, sans-serif; font-size: 12px; fill: rgb(42, 63, 95); fill-opacity: 1; white-space: pre; opacity: 1;\">education-num</text></g><g class=\"xtick\"><text text-anchor=\"middle\" x=\"0\" y=\"683\" transform=\"translate(555.5699999999999,0)\" style=\"font-family: 'Open Sans', verdana, arial, sans-serif; font-size: 12px; fill: rgb(42, 63, 95); fill-opacity: 1; white-space: pre; opacity: 1;\">marital-status</text></g><g class=\"xtick\"><text text-anchor=\"middle\" x=\"0\" y=\"683\" transform=\"translate(642.03,0)\" style=\"font-family: 'Open Sans', verdana, arial, sans-serif; font-size: 12px; fill: rgb(42, 63, 95); fill-opacity: 1; white-space: pre; opacity: 1;\">occupation</text></g><g class=\"xtick\"><text text-anchor=\"middle\" x=\"0\" y=\"683\" transform=\"translate(728.5,0)\" style=\"font-family: 'Open Sans', verdana, arial, sans-serif; font-size: 12px; fill: rgb(42, 63, 95); fill-opacity: 1; white-space: pre; opacity: 1;\">relationship</text></g><g class=\"xtick\"><text text-anchor=\"middle\" x=\"0\" y=\"683\" transform=\"translate(814.97,0)\" style=\"font-family: 'Open Sans', verdana, arial, sans-serif; font-size: 12px; fill: rgb(42, 63, 95); fill-opacity: 1; white-space: pre; opacity: 1;\">race</text></g><g class=\"xtick\"><text text-anchor=\"middle\" x=\"0\" y=\"683\" transform=\"translate(901.43,0)\" style=\"font-family: 'Open Sans', verdana, arial, sans-serif; font-size: 12px; fill: rgb(42, 63, 95); fill-opacity: 1; white-space: pre; opacity: 1;\">sex</text></g><g class=\"xtick\"><text text-anchor=\"middle\" x=\"0\" y=\"683\" transform=\"translate(987.9,0)\" style=\"font-family: 'Open Sans', verdana, arial, sans-serif; font-size: 12px; fill: rgb(42, 63, 95); fill-opacity: 1; white-space: pre; opacity: 1;\">capital-gain</text></g><g class=\"xtick\"><text text-anchor=\"middle\" x=\"0\" y=\"683\" transform=\"translate(1074.37,0)\" style=\"font-family: 'Open Sans', verdana, arial, sans-serif; font-size: 12px; fill: rgb(42, 63, 95); fill-opacity: 1; white-space: pre; opacity: 1;\">capital-loss</text></g><g class=\"xtick\"><text text-anchor=\"middle\" x=\"0\" y=\"683\" transform=\"translate(1160.83,0)\" style=\"font-family: 'Open Sans', verdana, arial, sans-serif; font-size: 12px; fill: rgb(42, 63, 95); fill-opacity: 1; white-space: pre; opacity: 1;\">hours-per-week</text></g><g class=\"xtick\"><text text-anchor=\"middle\" x=\"0\" y=\"683\" transform=\"translate(1247.3,0)\" style=\"font-family: 'Open Sans', verdana, arial, sans-serif; font-size: 12px; fill: rgb(42, 63, 95); fill-opacity: 1; white-space: pre; opacity: 1;\">native-country</text></g><g class=\"xtick\"><text text-anchor=\"middle\" x=\"0\" y=\"683\" transform=\"translate(1333.77,0)\" style=\"font-family: 'Open Sans', verdana, arial, sans-serif; font-size: 12px; fill: rgb(42, 63, 95); fill-opacity: 1; white-space: pre; opacity: 1;\">target</text></g></g><g class=\"yaxislayer-above\"><g class=\"ytick\"><text text-anchor=\"end\" x=\"79\" y=\"4.199999999999999\" transform=\"translate(0,613)\" style=\"font-family: 'Open Sans', verdana, arial, sans-serif; font-size: 12px; fill: rgb(42, 63, 95); fill-opacity: 1; white-space: pre; opacity: 1;\">4</text></g><g class=\"ytick\"><text text-anchor=\"end\" x=\"79\" y=\"4.199999999999999\" style=\"font-family: 'Open Sans', verdana, arial, sans-serif; font-size: 12px; fill: rgb(42, 63, 95); fill-opacity: 1; white-space: pre; opacity: 1;\" transform=\"translate(0,499)\">3</text></g><g class=\"ytick\"><text text-anchor=\"end\" x=\"79\" y=\"4.199999999999999\" style=\"font-family: 'Open Sans', verdana, arial, sans-serif; font-size: 12px; fill: rgb(42, 63, 95); fill-opacity: 1; white-space: pre; opacity: 1;\" transform=\"translate(0,385)\">2</text></g><g class=\"ytick\"><text text-anchor=\"end\" x=\"79\" y=\"4.199999999999999\" style=\"font-family: 'Open Sans', verdana, arial, sans-serif; font-size: 12px; fill: rgb(42, 63, 95); fill-opacity: 1; white-space: pre; opacity: 1;\" transform=\"translate(0,271)\">1</text></g><g class=\"ytick\"><text text-anchor=\"end\" x=\"79\" y=\"4.199999999999999\" style=\"font-family: 'Open Sans', verdana, arial, sans-serif; font-size: 12px; fill: rgb(42, 63, 95); fill-opacity: 1; white-space: pre; opacity: 1;\" transform=\"translate(0,157)\">0</text></g></g><g class=\"overaxes-above\"/></g></g><g class=\"polarlayer\"/><g class=\"smithlayer\"/><g class=\"ternarylayer\"/><g class=\"geolayer\"/><g class=\"funnelarealayer\"/><g class=\"pielayer\"/><g class=\"iciclelayer\"/><g class=\"treemaplayer\"/><g class=\"sunburstlayer\"/><g class=\"glimages\"/><defs id=\"topdefs-56945c\"><g class=\"clips\"/></defs><g class=\"layer-above\"><g class=\"imagelayer\"/><g class=\"shapelayer\"/></g><g class=\"infolayer\"><g class=\"cbcoloraxis colorbar\" transform=\"translate(80,100)\"><rect class=\"cbbg\" x=\"1323\" y=\"0\" width=\"85.314453125\" height=\"570\" style=\"fill: rgb(0, 0, 0); fill-opacity: 0; stroke: rgb(68, 68, 68); stroke-opacity: 1; stroke-width: 0;\"/><g class=\"cbfills\" transform=\"translate(0,31)\"><rect class=\"cbfill gradient_filled\" style=\"fill: url('#g56945c-cbcoloraxis');\" x=\"1333\" y=\"0\" width=\"30\" height=\"529\"/></g><g class=\"cblines\" transform=\"translate(0,31)\"/><g class=\"cbaxis crisp\" transform=\"translate(0,-100)\"><g class=\"ycbcoloraxistick\"><text text-anchor=\"start\" x=\"1365.9\" y=\"4.199999999999999\" transform=\"translate(0,660)\" style=\"font-family: 'Open Sans', verdana, arial, sans-serif; font-size: 12px; fill: rgb(42, 63, 95); fill-opacity: 1; white-space: pre; opacity: 1;\">0</text></g><g class=\"ycbcoloraxistick\"><text text-anchor=\"start\" x=\"1365.9\" y=\"4.199999999999999\" style=\"font-family: 'Open Sans', verdana, arial, sans-serif; font-size: 12px; fill: rgb(42, 63, 95); fill-opacity: 1; white-space: pre; opacity: 1;\" transform=\"translate(0,607.1)\">0.5</text></g><g class=\"ycbcoloraxistick\"><text text-anchor=\"start\" x=\"1365.9\" y=\"4.199999999999999\" style=\"font-family: 'Open Sans', verdana, arial, sans-serif; font-size: 12px; fill: rgb(42, 63, 95); fill-opacity: 1; white-space: pre; opacity: 1;\" transform=\"translate(0,554.2)\">1</text></g><g class=\"ycbcoloraxistick\"><text text-anchor=\"start\" x=\"1365.9\" y=\"4.199999999999999\" style=\"font-family: 'Open Sans', verdana, arial, sans-serif; font-size: 12px; fill: rgb(42, 63, 95); fill-opacity: 1; white-space: pre; opacity: 1;\" transform=\"translate(0,501.30000000000007)\">1.5</text></g><g class=\"ycbcoloraxistick\"><text text-anchor=\"start\" x=\"1365.9\" y=\"4.199999999999999\" style=\"font-family: 'Open Sans', verdana, arial, sans-serif; font-size: 12px; fill: rgb(42, 63, 95); fill-opacity: 1; white-space: pre; opacity: 1;\" transform=\"translate(0,448.4)\">2</text></g><g class=\"ycbcoloraxistick\"><text text-anchor=\"start\" x=\"1365.9\" y=\"4.199999999999999\" style=\"font-family: 'Open Sans', verdana, arial, sans-serif; font-size: 12px; fill: rgb(42, 63, 95); fill-opacity: 1; white-space: pre; opacity: 1;\" transform=\"translate(0,395.5)\">2.5</text></g><g class=\"ycbcoloraxistick\"><text text-anchor=\"start\" x=\"1365.9\" y=\"4.199999999999999\" style=\"font-family: 'Open Sans', verdana, arial, sans-serif; font-size: 12px; fill: rgb(42, 63, 95); fill-opacity: 1; white-space: pre; opacity: 1;\" transform=\"translate(0,342.6)\">3</text></g><g class=\"ycbcoloraxistick\"><text text-anchor=\"start\" x=\"1365.9\" y=\"4.199999999999999\" style=\"font-family: 'Open Sans', verdana, arial, sans-serif; font-size: 12px; fill: rgb(42, 63, 95); fill-opacity: 1; white-space: pre; opacity: 1;\" transform=\"translate(0,289.70000000000005)\">3.5</text></g><g class=\"ycbcoloraxistick\"><text text-anchor=\"start\" x=\"1365.9\" y=\"4.199999999999999\" style=\"font-family: 'Open Sans', verdana, arial, sans-serif; font-size: 12px; fill: rgb(42, 63, 95); fill-opacity: 1; white-space: pre; opacity: 1;\" transform=\"translate(0,236.8)\">4</text></g><g class=\"ycbcoloraxistick\"><text text-anchor=\"start\" x=\"1365.9\" y=\"4.199999999999999\" style=\"font-family: 'Open Sans', verdana, arial, sans-serif; font-size: 12px; fill: rgb(42, 63, 95); fill-opacity: 1; white-space: pre; opacity: 1;\" transform=\"translate(0,183.90000000000003)\">4.5</text></g><g class=\"ycbcoloraxistick\"><text text-anchor=\"start\" x=\"1365.9\" y=\"4.199999999999999\" style=\"font-family: 'Open Sans', verdana, arial, sans-serif; font-size: 12px; fill: rgb(42, 63, 95); fill-opacity: 1; white-space: pre; opacity: 1;\" transform=\"translate(0,131.00000000000003)\">≥5</text></g></g><g class=\"cbtitleunshift\" transform=\"translate(-80,-100)\"><g class=\"cbtitle\" transform=\"\"><text class=\"ycbcoloraxistitle\" x=\"1412.94\" y=\"123.5\" text-anchor=\"start\" style=\"opacity: 1; font-family: 'Open Sans', verdana, arial, sans-serif; font-size: 14px; fill: rgb(42, 63, 95); fill-opacity: 1; white-space: pre;\">Conviction</text></g></g><rect class=\"cboutline\" x=\"1333\" y=\"31\" width=\"30\" height=\"529\" style=\"stroke: rgb(68, 68, 68); stroke-opacity: 1; fill: none; stroke-width: 0;\"/></g><g class=\"g-gtitle\"><text class=\"gtitle\" x=\"75\" y=\"50\" text-anchor=\"start\" dy=\"0em\" style=\"opacity: 1; font-family: 'Open Sans', verdana, arial, sans-serif; font-size: 17px; fill: rgb(42, 63, 95); fill-opacity: 1; white-space: pre;\">Anomalies</text></g><g class=\"g-xtitle\"><text class=\"xtitle\" x=\"728.5\" y=\"710.3\" text-anchor=\"middle\" style=\"opacity: 1; font-family: 'Open Sans', verdana, arial, sans-serif; font-size: 14px; fill: rgb(42, 63, 95); fill-opacity: 1; white-space: pre;\">Feature</text></g><g class=\"g-ytitle\"/></g></svg>"
      ]
     },
     "metadata": {},
     "output_type": "display_data"
    }
   ],
   "source": [
    "fig = plot_anomalies(inliers, inlier_case_feature_residual_convictions)\n",
    "fig.show(width=1500, height=750)"
   ]
  },
  {
   "attachments": {},
   "cell_type": "markdown",
   "metadata": {},
   "source": [
    "This chart is viewed similarly to the outliers chart, however we are now examining cases that are too similar. We can see that for several cases, most features show high `feature_residual_conviction`, indicating that that feature can very easily predicted using the other features. This indicates that all these feature values are unusually predictable compared to the rest of the cases in the model."
   ]
  },
  {
   "attachments": {},
   "cell_type": "markdown",
   "metadata": {},
   "source": [
    "# Section 4: Additional Ideas\n",
    "\n",
    "Here we detail some additional examples methods of diving deeper into the possible anomalies detected above."
   ]
  },
  {
   "cell_type": "code",
   "execution_count": 12,
   "metadata": {
    "execution": {
     "iopub.execute_input": "2025-07-30T15:10:41.434819Z",
     "iopub.status.busy": "2025-07-30T15:10:41.434551Z",
     "iopub.status.idle": "2025-07-30T15:10:41.440011Z",
     "shell.execute_reply": "2025-07-30T15:10:41.439444Z"
    }
   },
   "outputs": [],
   "source": [
    "# Helper functions\n",
    "\n",
    "def case_explain_residuals_ratio(anomalous_df, case_feature_residual_convictions, case_ind, num_features=5):\n",
    "    \"\"\"Inspect a single case and identify which of its features are particularly anomalous.\"\"\"\n",
    "    case = anomalous_df.iloc[case_ind, : ]\n",
    "    case_num = case['.session_training_index']\n",
    "    case_df = pd.concat([case, case_feature_residual_convictions.iloc[case_ind, :]], axis=1)\n",
    "    case_df = case_df.loc[df.columns]\n",
    "    case_df.columns = ['values', 'feature_full_residual_convictions_for_case']\n",
    "    case_df = case_df.sort_values(['feature_full_residual_convictions_for_case'], ascending=True)\n",
    "    print(f'key features which caused case {case_num} to be anomalous: {case_df.head().index.tolist()}')\n",
    "    print('')\n",
    "    display(case_df.head())\n",
    "\n",
    "def get_cases(anomalous_df, results, case_ind):\n",
    "    \"\"\"Inspect a single anomalous case and display its influential and boundary cases.\"\"\"\n",
    "    case = anomalous_df.iloc[case_ind, :]\n",
    "    inf_cases = pd.DataFrame(results['details']['influential_cases'][case_ind])\n",
    "\n",
    "    print('Original Case:')\n",
    "    display(case)\n",
    "    print('')\n",
    "\n",
    "    print('Influential Cases:')\n",
    "    display(inf_cases)\n",
    "    print('')"
   ]
  },
  {
   "attachments": {},
   "cell_type": "markdown",
   "metadata": {},
   "source": [
    "We can print out a more detailed view of the Outlier Residual Conviction chart shown earlier."
   ]
  },
  {
   "cell_type": "code",
   "execution_count": 13,
   "metadata": {
    "execution": {
     "iopub.execute_input": "2025-07-30T15:10:41.441914Z",
     "iopub.status.busy": "2025-07-30T15:10:41.441722Z",
     "iopub.status.idle": "2025-07-30T15:10:41.455888Z",
     "shell.execute_reply": "2025-07-30T15:10:41.455178Z"
    }
   },
   "outputs": [
    {
     "name": "stdout",
     "output_type": "stream",
     "text": [
      "key features which caused case 540 to be anomalous: ['education-num', 'native-country', 'workclass', 'sex', 'relationship']\n",
      "\n"
     ]
    },
    {
     "data": {
      "text/html": [
       "<div>\n",
       "<style scoped>\n",
       "    .dataframe tbody tr th:only-of-type {\n",
       "        vertical-align: middle;\n",
       "    }\n",
       "\n",
       "    .dataframe tbody tr th {\n",
       "        vertical-align: top;\n",
       "    }\n",
       "\n",
       "    .dataframe thead th {\n",
       "        text-align: right;\n",
       "    }\n",
       "</style>\n",
       "<table border=\"1\" class=\"dataframe\">\n",
       "  <thead>\n",
       "    <tr style=\"text-align: right;\">\n",
       "      <th></th>\n",
       "      <th>values</th>\n",
       "      <th>feature_full_residual_convictions_for_case</th>\n",
       "    </tr>\n",
       "  </thead>\n",
       "  <tbody>\n",
       "    <tr>\n",
       "      <th>education-num</th>\n",
       "      <td>1.0</td>\n",
       "      <td>0.019491</td>\n",
       "    </tr>\n",
       "    <tr>\n",
       "      <th>native-country</th>\n",
       "      <td>26</td>\n",
       "      <td>0.199318</td>\n",
       "    </tr>\n",
       "    <tr>\n",
       "      <th>workclass</th>\n",
       "      <td>4</td>\n",
       "      <td>0.372135</td>\n",
       "    </tr>\n",
       "    <tr>\n",
       "      <th>sex</th>\n",
       "      <td>1</td>\n",
       "      <td>0.645509</td>\n",
       "    </tr>\n",
       "    <tr>\n",
       "      <th>relationship</th>\n",
       "      <td>1</td>\n",
       "      <td>0.669002</td>\n",
       "    </tr>\n",
       "  </tbody>\n",
       "</table>\n",
       "</div>"
      ],
      "text/plain": [
       "               values  feature_full_residual_convictions_for_case\n",
       "education-num     1.0                                    0.019491\n",
       "native-country     26                                    0.199318\n",
       "workclass           4                                    0.372135\n",
       "sex                 1                                    0.645509\n",
       "relationship        1                                    0.669002"
      ]
     },
     "metadata": {},
     "output_type": "display_data"
    },
    {
     "name": "stdout",
     "output_type": "stream",
     "text": [
      "_____________\n",
      "key features which caused case 732 to be anomalous: ['education-num', 'race', 'native-country', 'relationship', 'sex']\n",
      "\n"
     ]
    },
    {
     "data": {
      "text/html": [
       "<div>\n",
       "<style scoped>\n",
       "    .dataframe tbody tr th:only-of-type {\n",
       "        vertical-align: middle;\n",
       "    }\n",
       "\n",
       "    .dataframe tbody tr th {\n",
       "        vertical-align: top;\n",
       "    }\n",
       "\n",
       "    .dataframe thead th {\n",
       "        text-align: right;\n",
       "    }\n",
       "</style>\n",
       "<table border=\"1\" class=\"dataframe\">\n",
       "  <thead>\n",
       "    <tr style=\"text-align: right;\">\n",
       "      <th></th>\n",
       "      <th>values</th>\n",
       "      <th>feature_full_residual_convictions_for_case</th>\n",
       "    </tr>\n",
       "  </thead>\n",
       "  <tbody>\n",
       "    <tr>\n",
       "      <th>education-num</th>\n",
       "      <td>1.0</td>\n",
       "      <td>0.004534</td>\n",
       "    </tr>\n",
       "    <tr>\n",
       "      <th>race</th>\n",
       "      <td>1</td>\n",
       "      <td>0.192339</td>\n",
       "    </tr>\n",
       "    <tr>\n",
       "      <th>native-country</th>\n",
       "      <td>25</td>\n",
       "      <td>0.199318</td>\n",
       "    </tr>\n",
       "    <tr>\n",
       "      <th>relationship</th>\n",
       "      <td>1</td>\n",
       "      <td>0.628571</td>\n",
       "    </tr>\n",
       "    <tr>\n",
       "      <th>sex</th>\n",
       "      <td>0</td>\n",
       "      <td>0.712047</td>\n",
       "    </tr>\n",
       "  </tbody>\n",
       "</table>\n",
       "</div>"
      ],
      "text/plain": [
       "               values  feature_full_residual_convictions_for_case\n",
       "education-num     1.0                                    0.004534\n",
       "race                1                                    0.192339\n",
       "native-country     25                                    0.199318\n",
       "relationship        1                                    0.628571\n",
       "sex                 0                                    0.712047"
      ]
     },
     "metadata": {},
     "output_type": "display_data"
    },
    {
     "name": "stdout",
     "output_type": "stream",
     "text": [
      "_____________\n"
     ]
    }
   ],
   "source": [
    "# Print out the explanations for outliers\n",
    "for i in range(2):\n",
    "    case_explain_residuals_ratio(\n",
    "        outliers,\n",
    "        outlier_case_feature_residual_convictions,\n",
    "        i\n",
    "    )\n",
    "    print('_____________')"
   ]
  },
  {
   "attachments": {},
   "cell_type": "markdown",
   "metadata": {},
   "source": [
    "## Influential cases\n",
    "\n",
    "[Influential Cases](https://docs.howso.com/en/release-latest/getting_started/terminology.html#influential-cases) may also provide additional clues into potentially anomalous data. If a case's influential cases do not well represent itself, then this indicates there are no cases in the model that well represent the anomalous cases.\n"
   ]
  },
  {
   "cell_type": "code",
   "execution_count": 14,
   "metadata": {
    "execution": {
     "iopub.execute_input": "2025-07-30T15:10:41.457877Z",
     "iopub.status.busy": "2025-07-30T15:10:41.457650Z",
     "iopub.status.idle": "2025-07-30T15:10:41.481416Z",
     "shell.execute_reply": "2025-07-30T15:10:41.480721Z"
    }
   },
   "outputs": [
    {
     "name": "stdout",
     "output_type": "stream",
     "text": [
      "Original Case:\n"
     ]
    },
    {
     "data": {
      "text/plain": [
       "age                                                                30.0\n",
       "workclass                                                             4\n",
       "fnlwgt                                                         193598.0\n",
       "education                                                            13\n",
       "education-num                                                       1.0\n",
       "marital-status                                                        4\n",
       "occupation                                                            5\n",
       "relationship                                                          1\n",
       "race                                                                  4\n",
       "sex                                                                   1\n",
       "capital-gain                                                        0.0\n",
       "capital-loss                                                        0.0\n",
       "hours-per-week                                                     40.0\n",
       "native-country                                                       26\n",
       "target                                                                1\n",
       "familiarity_conviction_addition                                0.020019\n",
       ".session_training_index                                             540\n",
       ".session                           c6cb6b65-19c9-41ee-b4eb-5186d5d5a12e\n",
       "distance_contribution                                        306.265156\n",
       "category                                                        outlier\n",
       "Name: 0, dtype: object"
      ]
     },
     "metadata": {},
     "output_type": "display_data"
    },
    {
     "name": "stdout",
     "output_type": "stream",
     "text": [
      "\n",
      "Influential Cases:\n"
     ]
    },
    {
     "data": {
      "text/html": [
       "<div>\n",
       "<style scoped>\n",
       "    .dataframe tbody tr th:only-of-type {\n",
       "        vertical-align: middle;\n",
       "    }\n",
       "\n",
       "    .dataframe tbody tr th {\n",
       "        vertical-align: top;\n",
       "    }\n",
       "\n",
       "    .dataframe thead th {\n",
       "        text-align: right;\n",
       "    }\n",
       "</style>\n",
       "<table border=\"1\" class=\"dataframe\">\n",
       "  <thead>\n",
       "    <tr style=\"text-align: right;\">\n",
       "      <th></th>\n",
       "      <th>occupation</th>\n",
       "      <th>target</th>\n",
       "      <th>hours-per-week</th>\n",
       "      <th>fnlwgt</th>\n",
       "      <th>.session</th>\n",
       "      <th>.influence_weight</th>\n",
       "      <th>.session_training_index</th>\n",
       "      <th>capital-gain</th>\n",
       "      <th>relationship</th>\n",
       "      <th>native-country</th>\n",
       "      <th>age</th>\n",
       "      <th>education</th>\n",
       "      <th>marital-status</th>\n",
       "      <th>race</th>\n",
       "      <th>capital-loss</th>\n",
       "      <th>workclass</th>\n",
       "      <th>education-num</th>\n",
       "      <th>sex</th>\n",
       "    </tr>\n",
       "  </thead>\n",
       "  <tbody>\n",
       "    <tr>\n",
       "      <th>0</th>\n",
       "      <td>6</td>\n",
       "      <td>1</td>\n",
       "      <td>40</td>\n",
       "      <td>173449</td>\n",
       "      <td>c6cb6b65-19c9-41ee-b4eb-5186d5d5a12e</td>\n",
       "      <td>0.526602</td>\n",
       "      <td>510</td>\n",
       "      <td>0</td>\n",
       "      <td>0</td>\n",
       "      <td>39</td>\n",
       "      <td>32</td>\n",
       "      <td>11</td>\n",
       "      <td>2</td>\n",
       "      <td>4</td>\n",
       "      <td>0</td>\n",
       "      <td>4</td>\n",
       "      <td>9</td>\n",
       "      <td>1</td>\n",
       "    </tr>\n",
       "    <tr>\n",
       "      <th>1</th>\n",
       "      <td>6</td>\n",
       "      <td>1</td>\n",
       "      <td>42</td>\n",
       "      <td>96245</td>\n",
       "      <td>c6cb6b65-19c9-41ee-b4eb-5186d5d5a12e</td>\n",
       "      <td>0.157386</td>\n",
       "      <td>604</td>\n",
       "      <td>0</td>\n",
       "      <td>0</td>\n",
       "      <td>39</td>\n",
       "      <td>31</td>\n",
       "      <td>11</td>\n",
       "      <td>2</td>\n",
       "      <td>4</td>\n",
       "      <td>0</td>\n",
       "      <td>4</td>\n",
       "      <td>9</td>\n",
       "      <td>1</td>\n",
       "    </tr>\n",
       "    <tr>\n",
       "      <th>2</th>\n",
       "      <td>6</td>\n",
       "      <td>1</td>\n",
       "      <td>40</td>\n",
       "      <td>269705</td>\n",
       "      <td>c6cb6b65-19c9-41ee-b4eb-5186d5d5a12e</td>\n",
       "      <td>0.122871</td>\n",
       "      <td>407</td>\n",
       "      <td>0</td>\n",
       "      <td>0</td>\n",
       "      <td>39</td>\n",
       "      <td>33</td>\n",
       "      <td>11</td>\n",
       "      <td>2</td>\n",
       "      <td>4</td>\n",
       "      <td>0</td>\n",
       "      <td>4</td>\n",
       "      <td>9</td>\n",
       "      <td>1</td>\n",
       "    </tr>\n",
       "    <tr>\n",
       "      <th>3</th>\n",
       "      <td>6</td>\n",
       "      <td>1</td>\n",
       "      <td>40</td>\n",
       "      <td>218667</td>\n",
       "      <td>c6cb6b65-19c9-41ee-b4eb-5186d5d5a12e</td>\n",
       "      <td>0.108620</td>\n",
       "      <td>881</td>\n",
       "      <td>0</td>\n",
       "      <td>0</td>\n",
       "      <td>39</td>\n",
       "      <td>25</td>\n",
       "      <td>11</td>\n",
       "      <td>2</td>\n",
       "      <td>4</td>\n",
       "      <td>0</td>\n",
       "      <td>4</td>\n",
       "      <td>9</td>\n",
       "      <td>1</td>\n",
       "    </tr>\n",
       "    <tr>\n",
       "      <th>4</th>\n",
       "      <td>6</td>\n",
       "      <td>1</td>\n",
       "      <td>40</td>\n",
       "      <td>236267</td>\n",
       "      <td>c6cb6b65-19c9-41ee-b4eb-5186d5d5a12e</td>\n",
       "      <td>0.084522</td>\n",
       "      <td>269</td>\n",
       "      <td>0</td>\n",
       "      <td>0</td>\n",
       "      <td>39</td>\n",
       "      <td>25</td>\n",
       "      <td>11</td>\n",
       "      <td>2</td>\n",
       "      <td>4</td>\n",
       "      <td>0</td>\n",
       "      <td>4</td>\n",
       "      <td>9</td>\n",
       "      <td>1</td>\n",
       "    </tr>\n",
       "  </tbody>\n",
       "</table>\n",
       "</div>"
      ],
      "text/plain": [
       "   occupation  target  hours-per-week  fnlwgt  \\\n",
       "0           6       1              40  173449   \n",
       "1           6       1              42   96245   \n",
       "2           6       1              40  269705   \n",
       "3           6       1              40  218667   \n",
       "4           6       1              40  236267   \n",
       "\n",
       "                               .session  .influence_weight  \\\n",
       "0  c6cb6b65-19c9-41ee-b4eb-5186d5d5a12e           0.526602   \n",
       "1  c6cb6b65-19c9-41ee-b4eb-5186d5d5a12e           0.157386   \n",
       "2  c6cb6b65-19c9-41ee-b4eb-5186d5d5a12e           0.122871   \n",
       "3  c6cb6b65-19c9-41ee-b4eb-5186d5d5a12e           0.108620   \n",
       "4  c6cb6b65-19c9-41ee-b4eb-5186d5d5a12e           0.084522   \n",
       "\n",
       "   .session_training_index  capital-gain  relationship  native-country  age  \\\n",
       "0                      510             0             0              39   32   \n",
       "1                      604             0             0              39   31   \n",
       "2                      407             0             0              39   33   \n",
       "3                      881             0             0              39   25   \n",
       "4                      269             0             0              39   25   \n",
       "\n",
       "   education  marital-status  race  capital-loss  workclass  education-num  \\\n",
       "0         11               2     4             0          4              9   \n",
       "1         11               2     4             0          4              9   \n",
       "2         11               2     4             0          4              9   \n",
       "3         11               2     4             0          4              9   \n",
       "4         11               2     4             0          4              9   \n",
       "\n",
       "   sex  \n",
       "0    1  \n",
       "1    1  \n",
       "2    1  \n",
       "3    1  \n",
       "4    1  "
      ]
     },
     "metadata": {},
     "output_type": "display_data"
    },
    {
     "name": "stdout",
     "output_type": "stream",
     "text": [
      "\n",
      "_____________\n",
      "Original Case:\n"
     ]
    },
    {
     "data": {
      "text/plain": [
       "age                                                                23.0\n",
       "workclass                                                             4\n",
       "fnlwgt                                                         240049.0\n",
       "education                                                            13\n",
       "education-num                                                       1.0\n",
       "marital-status                                                        4\n",
       "occupation                                                            8\n",
       "relationship                                                          1\n",
       "race                                                                  1\n",
       "sex                                                                   0\n",
       "capital-gain                                                        0.0\n",
       "capital-loss                                                        0.0\n",
       "hours-per-week                                                     40.0\n",
       "native-country                                                       25\n",
       "target                                                                1\n",
       "familiarity_conviction_addition                                0.023355\n",
       ".session_training_index                                             732\n",
       ".session                           c6cb6b65-19c9-41ee-b4eb-5186d5d5a12e\n",
       "distance_contribution                                        280.379224\n",
       "category                                                        outlier\n",
       "Name: 1, dtype: object"
      ]
     },
     "metadata": {},
     "output_type": "display_data"
    },
    {
     "name": "stdout",
     "output_type": "stream",
     "text": [
      "\n",
      "Influential Cases:\n"
     ]
    },
    {
     "data": {
      "text/html": [
       "<div>\n",
       "<style scoped>\n",
       "    .dataframe tbody tr th:only-of-type {\n",
       "        vertical-align: middle;\n",
       "    }\n",
       "\n",
       "    .dataframe tbody tr th {\n",
       "        vertical-align: top;\n",
       "    }\n",
       "\n",
       "    .dataframe thead th {\n",
       "        text-align: right;\n",
       "    }\n",
       "</style>\n",
       "<table border=\"1\" class=\"dataframe\">\n",
       "  <thead>\n",
       "    <tr style=\"text-align: right;\">\n",
       "      <th></th>\n",
       "      <th>occupation</th>\n",
       "      <th>target</th>\n",
       "      <th>hours-per-week</th>\n",
       "      <th>fnlwgt</th>\n",
       "      <th>.session</th>\n",
       "      <th>.influence_weight</th>\n",
       "      <th>.session_training_index</th>\n",
       "      <th>capital-gain</th>\n",
       "      <th>relationship</th>\n",
       "      <th>native-country</th>\n",
       "      <th>age</th>\n",
       "      <th>education</th>\n",
       "      <th>marital-status</th>\n",
       "      <th>race</th>\n",
       "      <th>capital-loss</th>\n",
       "      <th>workclass</th>\n",
       "      <th>education-num</th>\n",
       "      <th>sex</th>\n",
       "    </tr>\n",
       "  </thead>\n",
       "  <tbody>\n",
       "    <tr>\n",
       "      <th>0</th>\n",
       "      <td>6</td>\n",
       "      <td>1</td>\n",
       "      <td>40</td>\n",
       "      <td>236267</td>\n",
       "      <td>c6cb6b65-19c9-41ee-b4eb-5186d5d5a12e</td>\n",
       "      <td>0.832923</td>\n",
       "      <td>269</td>\n",
       "      <td>0</td>\n",
       "      <td>0</td>\n",
       "      <td>39</td>\n",
       "      <td>25</td>\n",
       "      <td>11</td>\n",
       "      <td>2</td>\n",
       "      <td>4</td>\n",
       "      <td>0</td>\n",
       "      <td>4</td>\n",
       "      <td>9</td>\n",
       "      <td>1</td>\n",
       "    </tr>\n",
       "    <tr>\n",
       "      <th>1</th>\n",
       "      <td>6</td>\n",
       "      <td>1</td>\n",
       "      <td>40</td>\n",
       "      <td>190228</td>\n",
       "      <td>c6cb6b65-19c9-41ee-b4eb-5186d5d5a12e</td>\n",
       "      <td>0.118074</td>\n",
       "      <td>198</td>\n",
       "      <td>0</td>\n",
       "      <td>0</td>\n",
       "      <td>39</td>\n",
       "      <td>30</td>\n",
       "      <td>11</td>\n",
       "      <td>2</td>\n",
       "      <td>4</td>\n",
       "      <td>0</td>\n",
       "      <td>4</td>\n",
       "      <td>9</td>\n",
       "      <td>1</td>\n",
       "    </tr>\n",
       "    <tr>\n",
       "      <th>2</th>\n",
       "      <td>6</td>\n",
       "      <td>1</td>\n",
       "      <td>40</td>\n",
       "      <td>173449</td>\n",
       "      <td>c6cb6b65-19c9-41ee-b4eb-5186d5d5a12e</td>\n",
       "      <td>0.027818</td>\n",
       "      <td>510</td>\n",
       "      <td>0</td>\n",
       "      <td>0</td>\n",
       "      <td>39</td>\n",
       "      <td>32</td>\n",
       "      <td>11</td>\n",
       "      <td>2</td>\n",
       "      <td>4</td>\n",
       "      <td>0</td>\n",
       "      <td>4</td>\n",
       "      <td>9</td>\n",
       "      <td>1</td>\n",
       "    </tr>\n",
       "    <tr>\n",
       "      <th>3</th>\n",
       "      <td>6</td>\n",
       "      <td>1</td>\n",
       "      <td>40</td>\n",
       "      <td>269705</td>\n",
       "      <td>c6cb6b65-19c9-41ee-b4eb-5186d5d5a12e</td>\n",
       "      <td>0.013421</td>\n",
       "      <td>407</td>\n",
       "      <td>0</td>\n",
       "      <td>0</td>\n",
       "      <td>39</td>\n",
       "      <td>33</td>\n",
       "      <td>11</td>\n",
       "      <td>2</td>\n",
       "      <td>4</td>\n",
       "      <td>0</td>\n",
       "      <td>4</td>\n",
       "      <td>9</td>\n",
       "      <td>1</td>\n",
       "    </tr>\n",
       "    <tr>\n",
       "      <th>4</th>\n",
       "      <td>6</td>\n",
       "      <td>1</td>\n",
       "      <td>42</td>\n",
       "      <td>96245</td>\n",
       "      <td>c6cb6b65-19c9-41ee-b4eb-5186d5d5a12e</td>\n",
       "      <td>0.007763</td>\n",
       "      <td>604</td>\n",
       "      <td>0</td>\n",
       "      <td>0</td>\n",
       "      <td>39</td>\n",
       "      <td>31</td>\n",
       "      <td>11</td>\n",
       "      <td>2</td>\n",
       "      <td>4</td>\n",
       "      <td>0</td>\n",
       "      <td>4</td>\n",
       "      <td>9</td>\n",
       "      <td>1</td>\n",
       "    </tr>\n",
       "  </tbody>\n",
       "</table>\n",
       "</div>"
      ],
      "text/plain": [
       "   occupation  target  hours-per-week  fnlwgt  \\\n",
       "0           6       1              40  236267   \n",
       "1           6       1              40  190228   \n",
       "2           6       1              40  173449   \n",
       "3           6       1              40  269705   \n",
       "4           6       1              42   96245   \n",
       "\n",
       "                               .session  .influence_weight  \\\n",
       "0  c6cb6b65-19c9-41ee-b4eb-5186d5d5a12e           0.832923   \n",
       "1  c6cb6b65-19c9-41ee-b4eb-5186d5d5a12e           0.118074   \n",
       "2  c6cb6b65-19c9-41ee-b4eb-5186d5d5a12e           0.027818   \n",
       "3  c6cb6b65-19c9-41ee-b4eb-5186d5d5a12e           0.013421   \n",
       "4  c6cb6b65-19c9-41ee-b4eb-5186d5d5a12e           0.007763   \n",
       "\n",
       "   .session_training_index  capital-gain  relationship  native-country  age  \\\n",
       "0                      269             0             0              39   25   \n",
       "1                      198             0             0              39   30   \n",
       "2                      510             0             0              39   32   \n",
       "3                      407             0             0              39   33   \n",
       "4                      604             0             0              39   31   \n",
       "\n",
       "   education  marital-status  race  capital-loss  workclass  education-num  \\\n",
       "0         11               2     4             0          4              9   \n",
       "1         11               2     4             0          4              9   \n",
       "2         11               2     4             0          4              9   \n",
       "3         11               2     4             0          4              9   \n",
       "4         11               2     4             0          4              9   \n",
       "\n",
       "   sex  \n",
       "0    1  \n",
       "1    1  \n",
       "2    1  \n",
       "3    1  \n",
       "4    1  "
      ]
     },
     "metadata": {},
     "output_type": "display_data"
    },
    {
     "name": "stdout",
     "output_type": "stream",
     "text": [
      "\n",
      "_____________\n"
     ]
    }
   ],
   "source": [
    "# Print influential and boundary case outliers\n",
    "for i in range(2):\n",
    "    get_cases(outliers, results, i)\n",
    "    print('_____________')"
   ]
  }
 ],
 "metadata": {
  "kernelspec": {
   "display_name": "engine-recipes-3.10",
   "language": "python",
   "name": "python3"
  },
  "language_info": {
   "codemirror_mode": {
    "name": "ipython",
    "version": 3
   },
   "file_extension": ".py",
   "mimetype": "text/x-python",
   "name": "python",
   "nbconvert_exporter": "python",
   "pygments_lexer": "ipython3",
   "version": "3.10.18"
  }
 },
 "nbformat": 4,
 "nbformat_minor": 4
}
