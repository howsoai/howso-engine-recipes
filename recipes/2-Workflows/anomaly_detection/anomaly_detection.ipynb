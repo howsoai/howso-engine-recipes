{
 "cells": [
  {
   "attachments": {},
   "cell_type": "markdown",
   "metadata": {},
   "source": [
    "# Anomaly Detection\n",
    "## Overview \n",
    "\n",
    "In the recipe, `engine-insights.ipynb`, we demonstrated an introduction to anomaly detection. In this recipe, expand on the methods used in that recipe. Howso Engine can be used to identify anomalous cases in a dataset and also explain why those cases may be anomalous. Furthermore, we can leverage other tools we learned in previous recipes, such  as influential and boundary cases, to provide additional context.\n",
    "\n",
    "Finding anomalous cases has value in both model building and data exploration. For example, as we continue to build a suitable model for the `Adult` datset, detecting anomalies can give us insight into whether we need to clean the dataset to reduce false signals. Possible sources of anomalies could be cases that are erroneous or falsified.   \n"
   ]
  },
  {
   "attachments": {},
   "cell_type": "markdown",
   "metadata": {},
   "source": [
    "# Section 1: Load, Train, Analyze\n",
    "\n",
    "For questions about the specific steps of this section, please see the [basic workflow guide](https://docs.howso.com/en/release-latest/user_guide/basic_capabilities/basic_workflow.html).\n"
   ]
  },
  {
   "cell_type": "code",
   "execution_count": 1,
   "metadata": {
    "execution": {
     "iopub.execute_input": "2025-10-25T13:45:45.616631Z",
     "iopub.status.busy": "2025-10-25T13:45:45.616419Z",
     "iopub.status.idle": "2025-10-25T13:45:51.002235Z",
     "shell.execute_reply": "2025-10-25T13:45:51.001366Z"
    }
   },
   "outputs": [],
   "source": [
    "import pandas as pd\n",
    "from pmlb import fetch_data\n",
    "\n",
    "from howso.engine import Trainee\n",
    "from howso.utilities import infer_feature_attributes\n",
    "from howso.visuals import plot_anomalies"
   ]
  },
  {
   "cell_type": "markdown",
   "metadata": {},
   "source": [
    "### Step 1: Load Data and Create Trainee\n",
    "\n",
    "Our example dataset for this recipe continues to be the well known `Adult` dataset. This dataset consists of 14 Context Features and 1 Action Feature. The Action Feature in this version of the `Adult` dataset has been renamed to `target` and it takes the form of a binary indicator for whether a person in the data makes over $50,000/year (*target*=1) or less (*target*=0)."
   ]
  },
  {
   "cell_type": "code",
   "execution_count": 2,
   "metadata": {
    "execution": {
     "iopub.execute_input": "2025-10-25T13:45:51.005062Z",
     "iopub.status.busy": "2025-10-25T13:45:51.004694Z",
     "iopub.status.idle": "2025-10-25T13:45:51.397402Z",
     "shell.execute_reply": "2025-10-25T13:45:51.396531Z"
    }
   },
   "outputs": [],
   "source": [
    "df = fetch_data('adult', local_cache_dir=\"../../data/adult\")\n",
    "\n",
    "# Subsample the data to ensure the example runs quickly\n",
    "df = df.sample(1000, random_state=0)\n",
    "\n",
    "# Infer feature attributes\n",
    "features = infer_feature_attributes(df)\n",
    "\n",
    "# Create the Trainee\n",
    "t = Trainee(features=features)"
   ]
  },
  {
   "attachments": {},
   "cell_type": "markdown",
   "metadata": {},
   "source": [
    "### Step 2: Train and Analyze"
   ]
  },
  {
   "cell_type": "code",
   "execution_count": 3,
   "metadata": {
    "execution": {
     "iopub.execute_input": "2025-10-25T13:45:51.399717Z",
     "iopub.status.busy": "2025-10-25T13:45:51.399458Z",
     "iopub.status.idle": "2025-10-25T13:45:55.187811Z",
     "shell.execute_reply": "2025-10-25T13:45:55.187002Z"
    }
   },
   "outputs": [],
   "source": [
    "t.train(df)\n",
    "\n",
    "# Targetless Analysis\n",
    "t.analyze()"
   ]
  },
  {
   "attachments": {},
   "cell_type": "markdown",
   "metadata": {},
   "source": [
    "# Section 2: Anomaly Identification\n",
    "\n",
    "We will use [Familiarity Conviction](https://docs.howso.com/en/release-latest/getting_started/terminology.html#familiarity-conviction) and [Distance Contribution](https://docs.howso.com/en/release-latest/getting_started/terminology.html#distance-contribution) to identify potentially anomalous cases. Conviction is a value indicating how surprising a case is relative to how surprising other cases in the model are. In the case of `Familiarity Conviction`, the level of surprisal is measured by the perturbation of the probability distribution when the case is added or removed (hence the parameters: `familiarity_conviction_addition` and `familiarity_conviction_removal`).  Howso Engine’s interpretability tools also enable us to understand why these cases may be anomalous and whether they are outliers and inliers. "
   ]
  },
  {
   "attachments": {},
   "cell_type": "markdown",
   "metadata": {},
   "source": [
    "### Step 1: Compute Distance Contribution and Familiarity Conviction for every case\n",
    "\n",
    "The first step is to use `react_into_features` and select the metrics we want to return.\n",
    "\n",
    "`react_into_features` is a method that calculates the desired attributes for every case in the Trainee and caches those values into each case as a feature.\n",
    "\n",
    "Notably, this means that these features can then be used as context and action features, but this is only recommended for advanced use-cases."
   ]
  },
  {
   "cell_type": "code",
   "execution_count": 4,
   "metadata": {
    "execution": {
     "iopub.execute_input": "2025-10-25T13:45:55.190736Z",
     "iopub.status.busy": "2025-10-25T13:45:55.190514Z",
     "iopub.status.idle": "2025-10-25T13:45:55.275633Z",
     "shell.execute_reply": "2025-10-25T13:45:55.274606Z"
    }
   },
   "outputs": [],
   "source": [
    "# Store the familiarity conviction and distance contribution, this will be used to identify anomalous cases\n",
    "t.react_into_features(\n",
    "    familiarity_conviction_addition=True,\n",
    "    distance_contribution=True\n",
    ")\n",
    "\n",
    "stored_convictions = t.get_cases(\n",
    "    session=t.active_session,\n",
    "    features=df.columns.tolist() + ['familiarity_conviction_addition','.session_training_index', '.session', 'distance_contribution']\n",
    ")"
   ]
  },
  {
   "attachments": {},
   "cell_type": "markdown",
   "metadata": {},
   "source": [
    "### Step 2: Set Threshold and Identify Anomalies\n",
    "\n",
    "There is no absolute threshold for what is considered to be anomalous, as anomalous behavior is a measure of surprisal. Thus, this is a lever that the user can change depending on the data. The threshold should be more or less than 1, which indicates average surprisal.\n",
    "\n",
    "We first use `familiarity_conviction_addition` to find anomalies, and then use the average `distance_contribution` to determine what type of anomaly the case is (e.g., inlier vs. outlier). Cases with large distance contributions will be considered outliers and those with\n",
    "low distance contributions will be inliers.\n",
    "\n",
    "For this data, we use a threshold of 0.75 for the Familiarity Conviction. Cases with a Familarity Conviction below this value will be considered outliers."
   ]
  },
  {
   "cell_type": "code",
   "execution_count": 5,
   "metadata": {
    "execution": {
     "iopub.execute_input": "2025-10-25T13:45:55.277606Z",
     "iopub.status.busy": "2025-10-25T13:45:55.277395Z",
     "iopub.status.idle": "2025-10-25T13:45:55.284351Z",
     "shell.execute_reply": "2025-10-25T13:45:55.283515Z"
    }
   },
   "outputs": [],
   "source": [
    "# Threshold to determine which cases will be deemed anomalous\n",
    "convict_threshold = 0.75\n",
    "\n",
    "# Extract the anomalous cases\n",
    "low_convicts = stored_convictions[\n",
    "    stored_convictions['familiarity_conviction_addition'] <= convict_threshold\n",
    "].sort_values('familiarity_conviction_addition', ascending=True)\n",
    "\n",
    "# Average distance contribution will be used to determine if a case is an outlier or inlier\n",
    "average_dist_contribution = low_convicts['distance_contribution'].mean()\n",
    "\n",
    "# A case with distance contribution greater than average will be tagged as outlier, and vice versa for inliers\n",
    "cat = [\n",
    "    'inlier' if d < average_dist_contribution else\n",
    "    'outlier' for d in low_convicts['distance_contribution']\n",
    "]\n",
    "low_convicts['category'] = cat"
   ]
  },
  {
   "attachments": {},
   "cell_type": "markdown",
   "metadata": {},
   "source": [
    "# Section 3: Anomaly Inspection"
   ]
  },
  {
   "attachments": {},
   "cell_type": "markdown",
   "metadata": {},
   "source": [
    "\n",
    "### Step 1: Inspect Outliers\n",
    "\n",
    "Typically, when we think of anomalies, we think of outliers or cases that are significantly different that the rest of the data, whether erroneous or not. Preprocessing in machine learning often involves pruning these data points as they can add undesired noise to a model. \n",
    "\n",
    "The Case Feature Residual Conviction will be used to understand why each case was anomalous.\n",
    "\n",
    "In our example use case where the `Adult` dataset is used to determine projected salary for loan applications, we want to eliminate any erroneous outliers if possible. We may also want to detect substituted values, as often times datasets may substitute special values with nominal integers. For example, blank values in an application are often coded with high integers like 99999 which can introduce noise in the dataset.\n",
    "\n",
    "### **Definitions:**\n",
    "\n",
    "**`case_feature_residual_convictions`** :  This is calculated using the local feature residuals, divided by the feature residuals of the Case to obtain the Convictions."
   ]
  },
  {
   "cell_type": "code",
   "execution_count": 6,
   "metadata": {
    "execution": {
     "iopub.execute_input": "2025-10-25T13:45:55.286231Z",
     "iopub.status.busy": "2025-10-25T13:45:55.286034Z",
     "iopub.status.idle": "2025-10-25T13:45:55.303045Z",
     "shell.execute_reply": "2025-10-25T13:45:55.302230Z"
    }
   },
   "outputs": [
    {
     "data": {
      "text/html": [
       "<div>\n",
       "<style scoped>\n",
       "    .dataframe tbody tr th:only-of-type {\n",
       "        vertical-align: middle;\n",
       "    }\n",
       "\n",
       "    .dataframe tbody tr th {\n",
       "        vertical-align: top;\n",
       "    }\n",
       "\n",
       "    .dataframe thead th {\n",
       "        text-align: right;\n",
       "    }\n",
       "</style>\n",
       "<table border=\"1\" class=\"dataframe\">\n",
       "  <thead>\n",
       "    <tr style=\"text-align: right;\">\n",
       "      <th></th>\n",
       "      <th>age</th>\n",
       "      <th>workclass</th>\n",
       "      <th>fnlwgt</th>\n",
       "      <th>education</th>\n",
       "      <th>education-num</th>\n",
       "      <th>marital-status</th>\n",
       "      <th>occupation</th>\n",
       "      <th>relationship</th>\n",
       "      <th>race</th>\n",
       "      <th>sex</th>\n",
       "      <th>capital-gain</th>\n",
       "      <th>capital-loss</th>\n",
       "      <th>hours-per-week</th>\n",
       "      <th>native-country</th>\n",
       "      <th>target</th>\n",
       "      <th>familiarity_conviction_addition</th>\n",
       "      <th>.session_training_index</th>\n",
       "      <th>.session</th>\n",
       "      <th>distance_contribution</th>\n",
       "      <th>category</th>\n",
       "    </tr>\n",
       "  </thead>\n",
       "  <tbody>\n",
       "    <tr>\n",
       "      <th>0</th>\n",
       "      <td>30.0</td>\n",
       "      <td>4</td>\n",
       "      <td>193598.0</td>\n",
       "      <td>13</td>\n",
       "      <td>1.0</td>\n",
       "      <td>4</td>\n",
       "      <td>5</td>\n",
       "      <td>1</td>\n",
       "      <td>4</td>\n",
       "      <td>1</td>\n",
       "      <td>0.0</td>\n",
       "      <td>0.0</td>\n",
       "      <td>40.0</td>\n",
       "      <td>26</td>\n",
       "      <td>1</td>\n",
       "      <td>0.020019</td>\n",
       "      <td>540</td>\n",
       "      <td>913a8894-a0e9-4430-9a8e-11de4697c69d</td>\n",
       "      <td>306.265156</td>\n",
       "      <td>outlier</td>\n",
       "    </tr>\n",
       "    <tr>\n",
       "      <th>1</th>\n",
       "      <td>23.0</td>\n",
       "      <td>4</td>\n",
       "      <td>240049.0</td>\n",
       "      <td>13</td>\n",
       "      <td>1.0</td>\n",
       "      <td>4</td>\n",
       "      <td>8</td>\n",
       "      <td>1</td>\n",
       "      <td>1</td>\n",
       "      <td>0</td>\n",
       "      <td>0.0</td>\n",
       "      <td>0.0</td>\n",
       "      <td>40.0</td>\n",
       "      <td>25</td>\n",
       "      <td>1</td>\n",
       "      <td>0.023356</td>\n",
       "      <td>732</td>\n",
       "      <td>913a8894-a0e9-4430-9a8e-11de4697c69d</td>\n",
       "      <td>280.379224</td>\n",
       "      <td>outlier</td>\n",
       "    </tr>\n",
       "    <tr>\n",
       "      <th>2</th>\n",
       "      <td>65.0</td>\n",
       "      <td>5</td>\n",
       "      <td>184965.0</td>\n",
       "      <td>10</td>\n",
       "      <td>16.0</td>\n",
       "      <td>2</td>\n",
       "      <td>4</td>\n",
       "      <td>0</td>\n",
       "      <td>4</td>\n",
       "      <td>1</td>\n",
       "      <td>99999.0</td>\n",
       "      <td>0.0</td>\n",
       "      <td>40.0</td>\n",
       "      <td>39</td>\n",
       "      <td>0</td>\n",
       "      <td>0.025733</td>\n",
       "      <td>649</td>\n",
       "      <td>913a8894-a0e9-4430-9a8e-11de4697c69d</td>\n",
       "      <td>387.300496</td>\n",
       "      <td>outlier</td>\n",
       "    </tr>\n",
       "  </tbody>\n",
       "</table>\n",
       "</div>"
      ],
      "text/plain": [
       "    age  workclass    fnlwgt  education  education-num  marital-status  \\\n",
       "0  30.0          4  193598.0         13            1.0               4   \n",
       "1  23.0          4  240049.0         13            1.0               4   \n",
       "2  65.0          5  184965.0         10           16.0               2   \n",
       "\n",
       "   occupation  relationship  race  sex  capital-gain  capital-loss  \\\n",
       "0           5             1     4    1           0.0           0.0   \n",
       "1           8             1     1    0           0.0           0.0   \n",
       "2           4             0     4    1       99999.0           0.0   \n",
       "\n",
       "   hours-per-week  native-country  target  familiarity_conviction_addition  \\\n",
       "0            40.0              26       1                         0.020019   \n",
       "1            40.0              25       1                         0.023356   \n",
       "2            40.0              39       0                         0.025733   \n",
       "\n",
       "   .session_training_index                              .session  \\\n",
       "0                      540  913a8894-a0e9-4430-9a8e-11de4697c69d   \n",
       "1                      732  913a8894-a0e9-4430-9a8e-11de4697c69d   \n",
       "2                      649  913a8894-a0e9-4430-9a8e-11de4697c69d   \n",
       "\n",
       "   distance_contribution category  \n",
       "0             306.265156  outlier  \n",
       "1             280.379224  outlier  \n",
       "2             387.300496  outlier  "
      ]
     },
     "execution_count": 6,
     "metadata": {},
     "output_type": "execute_result"
    }
   ],
   "source": [
    "# Extract the outliers cases\n",
    "outliers = low_convicts[low_convicts['category'] == 'outlier'].reset_index(drop=True)\n",
    "outliers.head(3)"
   ]
  },
  {
   "attachments": {},
   "cell_type": "markdown",
   "metadata": {},
   "source": [
    "### Step 2: Outlier Value Evaluation\n",
    "\n",
    "From the above results, we can see which cases may be anomalous, however just knowing whether a case is potentially an anomaly doesn't give us all the information we need to make an informed decision. If we are deciding whether to prune a case from our training set, often we only want to prune erroneous values. Even if a case is an anomaly in terms of distance or value, if it is valid we may still leave it in as it represents a legitimate data point. \n",
    "\n",
    "By looking at the `Case Feature Residual Convictions`, we can gain some insight as to why a case was deemed anomalous."
   ]
  },
  {
   "cell_type": "code",
   "execution_count": 7,
   "metadata": {
    "execution": {
     "iopub.execute_input": "2025-10-25T13:45:55.336916Z",
     "iopub.status.busy": "2025-10-25T13:45:55.336661Z",
     "iopub.status.idle": "2025-10-25T13:45:55.972757Z",
     "shell.execute_reply": "2025-10-25T13:45:55.971840Z"
    }
   },
   "outputs": [],
   "source": [
    "# We add a few extra metrics for subsequent examples in this notebook\n",
    "# Get the case_feature_residual_convictions, influential_cases and boundary_cases\n",
    "details = {\n",
    "    'influential_cases': True,\n",
    "    'feature_full_residual_convictions_for_case': True\n",
    "}\n",
    "\n",
    "# Specify outlier cases\n",
    "outliers_indices = outliers[['.session', '.session_training_index']].values\n",
    "\n",
    "# Residuals must be computed and cached for some of these details\n",
    "t.react_aggregate(details = {\"feature_full_residuals\": True}).to_dataframe()\n",
    "\n",
    "# React to get the details of each anomalous case\n",
    "#   Specify trained cases to react to with 'case_indices'\n",
    "results = t.react(\n",
    "    case_indices=outliers_indices,\n",
    "    preserve_feature_values=df.columns.tolist(),\n",
    "    leave_case_out=True,\n",
    "    details=details\n",
    ")\n",
    "\n",
    "outlier_case_feature_residual_convictions = pd.DataFrame(\n",
    "    results['details']['feature_full_residual_convictions_for_case']\n",
    ")[df.columns.tolist()]"
   ]
  },
  {
   "cell_type": "code",
   "execution_count": 8,
   "metadata": {
    "execution": {
     "iopub.execute_input": "2025-10-25T13:45:55.975137Z",
     "iopub.status.busy": "2025-10-25T13:45:55.974884Z",
     "iopub.status.idle": "2025-10-25T13:45:59.353684Z",
     "shell.execute_reply": "2025-10-25T13:45:59.352749Z"
    }
   },
   "outputs": [
    {
     "data": {
      "image/svg+xml": [
       "<svg class=\"main-svg\" xmlns=\"http://www.w3.org/2000/svg\" xmlns:xlink=\"http://www.w3.org/1999/xlink\" width=\"1500\" height=\"750\" style=\"\" viewBox=\"0 0 1500 750\"><rect x=\"0\" y=\"0\" width=\"1500\" height=\"750\" style=\"fill: rgb(255, 255, 255); fill-opacity: 1;\"/><defs id=\"defs-1c3007\"><g class=\"clips\"><clipPath id=\"clip1c3007xyplot\" class=\"plotclip\"><rect width=\"1297\" height=\"570\"/></clipPath><clipPath class=\"axesclip\" id=\"clip1c3007x\"><rect x=\"80\" y=\"0\" width=\"1297\" height=\"750\"/></clipPath><clipPath class=\"axesclip\" id=\"clip1c3007y\"><rect x=\"0\" y=\"100\" width=\"1500\" height=\"570\"/></clipPath><clipPath class=\"axesclip\" id=\"clip1c3007xy\"><rect x=\"80\" y=\"100\" width=\"1297\" height=\"570\"/></clipPath></g><g class=\"gradients\"><linearGradient x1=\"0\" y1=\"1\" x2=\"0\" y2=\"0\" gradientUnits=\"objectBoundingBox\" id=\"g1c3007-cbcoloraxis\"><stop offset=\"0%\" stop-color=\"rgb(103, 0, 31)\" stop-opacity=\"1\"/><stop offset=\"20%\" stop-color=\"rgb(247, 247, 247)\" stop-opacity=\"1\"/><stop offset=\"40%\" stop-color=\"rgb(67, 147, 195)\" stop-opacity=\"1\"/><stop offset=\"100%\" stop-color=\"rgb(5, 48, 97)\" stop-opacity=\"1\"/></linearGradient></g><g class=\"patterns\"/></defs><g class=\"bglayer\"><rect class=\"bg\" x=\"80\" y=\"100\" width=\"1297\" height=\"570\" style=\"fill: rgb(229, 236, 246); fill-opacity: 1; stroke-width: 0;\"/></g><g class=\"layer-below\"><g class=\"imagelayer\"/><g class=\"shapelayer\"/></g><g class=\"cartesianlayer\"><g class=\"subplot xy\"><g class=\"layer-subplot\"><g class=\"shapelayer\"/><g class=\"imagelayer\"/></g><g class=\"minor-gridlayer\"><g class=\"x\"/><g class=\"y\"/></g><g class=\"gridlayer\"><g class=\"x\"><path class=\"xgrid crisp\" transform=\"translate(123.22999999999999,0)\" d=\"M0,100v570\" style=\"stroke: rgb(255, 255, 255); stroke-opacity: 1; stroke-width: 1px;\"/><path class=\"xgrid crisp\" transform=\"translate(209.7,0)\" d=\"M0,100v570\" style=\"stroke: rgb(255, 255, 255); stroke-opacity: 1; stroke-width: 1px;\"/><path class=\"xgrid crisp\" transform=\"translate(296.16999999999996,0)\" d=\"M0,100v570\" style=\"stroke: rgb(255, 255, 255); stroke-opacity: 1; stroke-width: 1px;\"/><path class=\"xgrid crisp\" transform=\"translate(382.63,0)\" d=\"M0,100v570\" style=\"stroke: rgb(255, 255, 255); stroke-opacity: 1; stroke-width: 1px;\"/><path class=\"xgrid crisp\" transform=\"translate(469.1,0)\" d=\"M0,100v570\" style=\"stroke: rgb(255, 255, 255); stroke-opacity: 1; stroke-width: 1px;\"/><path class=\"xgrid crisp\" transform=\"translate(555.5699999999999,0)\" d=\"M0,100v570\" style=\"stroke: rgb(255, 255, 255); stroke-opacity: 1; stroke-width: 1px;\"/><path class=\"xgrid crisp\" transform=\"translate(642.03,0)\" d=\"M0,100v570\" style=\"stroke: rgb(255, 255, 255); stroke-opacity: 1; stroke-width: 1px;\"/><path class=\"xgrid crisp\" transform=\"translate(728.5,0)\" d=\"M0,100v570\" style=\"stroke: rgb(255, 255, 255); stroke-opacity: 1; stroke-width: 1px;\"/><path class=\"xgrid crisp\" transform=\"translate(814.97,0)\" d=\"M0,100v570\" style=\"stroke: rgb(255, 255, 255); stroke-opacity: 1; stroke-width: 1px;\"/><path class=\"xgrid crisp\" transform=\"translate(901.43,0)\" d=\"M0,100v570\" style=\"stroke: rgb(255, 255, 255); stroke-opacity: 1; stroke-width: 1px;\"/><path class=\"xgrid crisp\" transform=\"translate(987.9,0)\" d=\"M0,100v570\" style=\"stroke: rgb(255, 255, 255); stroke-opacity: 1; stroke-width: 1px;\"/><path class=\"xgrid crisp\" transform=\"translate(1074.37,0)\" d=\"M0,100v570\" style=\"stroke: rgb(255, 255, 255); stroke-opacity: 1; stroke-width: 1px;\"/><path class=\"xgrid crisp\" transform=\"translate(1160.83,0)\" d=\"M0,100v570\" style=\"stroke: rgb(255, 255, 255); stroke-opacity: 1; stroke-width: 1px;\"/><path class=\"xgrid crisp\" transform=\"translate(1247.3,0)\" d=\"M0,100v570\" style=\"stroke: rgb(255, 255, 255); stroke-opacity: 1; stroke-width: 1px;\"/><path class=\"xgrid crisp\" transform=\"translate(1333.77,0)\" d=\"M0,100v570\" style=\"stroke: rgb(255, 255, 255); stroke-opacity: 1; stroke-width: 1px;\"/></g><g class=\"y\"><path class=\"ygrid crisp\" transform=\"translate(0,613)\" d=\"M80,0h1297\" style=\"stroke: rgb(255, 255, 255); stroke-opacity: 1; stroke-width: 1px;\"/><path class=\"ygrid crisp\" transform=\"translate(0,499)\" d=\"M80,0h1297\" style=\"stroke: rgb(255, 255, 255); stroke-opacity: 1; stroke-width: 1px;\"/><path class=\"ygrid crisp\" transform=\"translate(0,385)\" d=\"M80,0h1297\" style=\"stroke: rgb(255, 255, 255); stroke-opacity: 1; stroke-width: 1px;\"/><path class=\"ygrid crisp\" transform=\"translate(0,271)\" d=\"M80,0h1297\" style=\"stroke: rgb(255, 255, 255); stroke-opacity: 1; stroke-width: 1px;\"/></g></g><g class=\"zerolinelayer\"><path class=\"yzl zl crisp\" transform=\"translate(0,157)\" d=\"M80,0h1297\" style=\"stroke: rgb(255, 255, 255); stroke-opacity: 1; stroke-width: 2px;\"/></g><g class=\"layer-between\"><g class=\"shapelayer\"/><g class=\"imagelayer\"/></g><path class=\"xlines-below\"/><path class=\"ylines-below\"/><g class=\"overlines-below\"/><g class=\"xaxislayer-below\"/><g class=\"yaxislayer-below\"/><g class=\"overaxes-below\"/><g class=\"overplot\"><g class=\"xy\" transform=\"translate(80,100)\" clip-path=\"url(#clip1c3007xyplot)\"><g class=\"heatmaplayer mlayer\"><g class=\"hm\"><image xmlns=\"http://www.w3.org/2000/svg\" preserveAspectRatio=\"none\" height=\"570\" width=\"1297\" x=\"0\" y=\"0\" xlink:href=\"data:image/png;base64,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\" style=\"opacity: 1;\"/><g class=\"heatmap-label\"><text text-anchor=\"middle\" data-notex=\"1\" x=\"43\" y=\"61.2\" style=\"font-family: 'Open Sans', verdana, arial, sans-serif; font-size: 12px; fill: rgb(255, 255, 255); fill-opacity: 1; white-space: pre;\">30.0</text></g><g class=\"heatmap-label\"><text text-anchor=\"middle\" data-notex=\"1\" x=\"130\" y=\"61.2\" style=\"font-family: 'Open Sans', verdana, arial, sans-serif; font-size: 12px; fill: rgb(68, 68, 68); fill-opacity: 1; white-space: pre;\">4</text></g><g class=\"heatmap-label\"><text text-anchor=\"middle\" data-notex=\"1\" x=\"216\" y=\"61.2\" style=\"font-family: 'Open Sans', verdana, arial, sans-serif; font-size: 12px; fill: rgb(255, 255, 255); fill-opacity: 1; white-space: pre;\">193598.0</text></g><g class=\"heatmap-label\"><text text-anchor=\"middle\" data-notex=\"1\" x=\"303\" y=\"61.2\" style=\"font-family: 'Open Sans', verdana, arial, sans-serif; font-size: 12px; fill: rgb(255, 255, 255); fill-opacity: 1; white-space: pre;\">13</text></g><g class=\"heatmap-label\"><text text-anchor=\"middle\" data-notex=\"1\" x=\"389\" y=\"61.2\" style=\"font-family: 'Open Sans', verdana, arial, sans-serif; font-size: 12px; fill: rgb(255, 255, 255); fill-opacity: 1; white-space: pre;\">1.0</text></g><g class=\"heatmap-label\"><text text-anchor=\"middle\" data-notex=\"1\" x=\"476\" y=\"61.2\" style=\"font-family: 'Open Sans', verdana, arial, sans-serif; font-size: 12px; fill: rgb(255, 255, 255); fill-opacity: 1; white-space: pre;\">4</text></g><g class=\"heatmap-label\"><text text-anchor=\"middle\" data-notex=\"1\" x=\"562\" y=\"61.2\" style=\"font-family: 'Open Sans', verdana, arial, sans-serif; font-size: 12px; fill: rgb(68, 68, 68); fill-opacity: 1; white-space: pre;\">5</text></g><g class=\"heatmap-label\"><text text-anchor=\"middle\" data-notex=\"1\" x=\"649\" y=\"61.2\" style=\"font-family: 'Open Sans', verdana, arial, sans-serif; font-size: 12px; fill: rgb(255, 255, 255); fill-opacity: 1; white-space: pre;\">1</text></g><g class=\"heatmap-label\"><text text-anchor=\"middle\" data-notex=\"1\" x=\"735\" y=\"61.2\" style=\"font-family: 'Open Sans', verdana, arial, sans-serif; font-size: 12px; fill: rgb(255, 255, 255); fill-opacity: 1; white-space: pre;\">4</text></g><g class=\"heatmap-label\"><text text-anchor=\"middle\" data-notex=\"1\" x=\"821\" y=\"61.2\" style=\"font-family: 'Open Sans', verdana, arial, sans-serif; font-size: 12px; fill: rgb(68, 68, 68); fill-opacity: 1; white-space: pre;\">1</text></g><g class=\"heatmap-label\"><text text-anchor=\"middle\" data-notex=\"1\" x=\"908\" y=\"61.2\" style=\"font-family: 'Open Sans', verdana, arial, sans-serif; font-size: 12px; fill: rgb(255, 255, 255); fill-opacity: 1; white-space: pre;\">0.0</text></g><g class=\"heatmap-label\"><text text-anchor=\"middle\" data-notex=\"1\" x=\"994\" y=\"61.2\" style=\"font-family: 'Open Sans', verdana, arial, sans-serif; font-size: 12px; fill: rgb(68, 68, 68); fill-opacity: 1; white-space: pre;\">0.0</text></g><g class=\"heatmap-label\"><text text-anchor=\"middle\" data-notex=\"1\" x=\"1081\" y=\"61.2\" style=\"font-family: 'Open Sans', verdana, arial, sans-serif; font-size: 12px; fill: rgb(255, 255, 255); fill-opacity: 1; white-space: pre;\">40.0</text></g><g class=\"heatmap-label\"><text text-anchor=\"middle\" data-notex=\"1\" x=\"1167\" y=\"61.2\" style=\"font-family: 'Open Sans', verdana, arial, sans-serif; font-size: 12px; fill: rgb(255, 255, 255); fill-opacity: 1; white-space: pre;\">26</text></g><g class=\"heatmap-label\"><text text-anchor=\"middle\" data-notex=\"1\" x=\"1254\" y=\"61.2\" style=\"font-family: 'Open Sans', verdana, arial, sans-serif; font-size: 12px; fill: rgb(255, 255, 255); fill-opacity: 1; white-space: pre;\">1</text></g><g class=\"heatmap-label\"><text text-anchor=\"middle\" data-notex=\"1\" x=\"43\" y=\"175.2\" style=\"font-family: 'Open Sans', verdana, arial, sans-serif; font-size: 12px; fill: rgb(68, 68, 68); fill-opacity: 1; white-space: pre;\">23.0</text></g><g class=\"heatmap-label\"><text text-anchor=\"middle\" data-notex=\"1\" x=\"130\" y=\"175.2\" style=\"font-family: 'Open Sans', verdana, arial, sans-serif; font-size: 12px; fill: rgb(68, 68, 68); fill-opacity: 1; white-space: pre;\">4</text></g><g class=\"heatmap-label\"><text text-anchor=\"middle\" data-notex=\"1\" x=\"216\" y=\"175.2\" style=\"font-family: 'Open Sans', verdana, arial, sans-serif; font-size: 12px; fill: rgb(255, 255, 255); fill-opacity: 1; white-space: pre;\">240049.0</text></g><g class=\"heatmap-label\"><text text-anchor=\"middle\" data-notex=\"1\" x=\"303\" y=\"175.2\" style=\"font-family: 'Open Sans', verdana, arial, sans-serif; font-size: 12px; fill: rgb(255, 255, 255); fill-opacity: 1; white-space: pre;\">13</text></g><g class=\"heatmap-label\"><text text-anchor=\"middle\" data-notex=\"1\" x=\"389\" y=\"175.2\" style=\"font-family: 'Open Sans', verdana, arial, sans-serif; font-size: 12px; fill: rgb(255, 255, 255); fill-opacity: 1; white-space: pre;\">1.0</text></g><g class=\"heatmap-label\"><text text-anchor=\"middle\" data-notex=\"1\" x=\"476\" y=\"175.2\" style=\"font-family: 'Open Sans', verdana, arial, sans-serif; font-size: 12px; fill: rgb(255, 255, 255); fill-opacity: 1; white-space: pre;\">4</text></g><g class=\"heatmap-label\"><text text-anchor=\"middle\" data-notex=\"1\" x=\"562\" y=\"175.2\" style=\"font-family: 'Open Sans', verdana, arial, sans-serif; font-size: 12px; fill: rgb(68, 68, 68); fill-opacity: 1; white-space: pre;\">8</text></g><g class=\"heatmap-label\"><text text-anchor=\"middle\" data-notex=\"1\" x=\"649\" y=\"175.2\" style=\"font-family: 'Open Sans', verdana, arial, sans-serif; font-size: 12px; fill: rgb(255, 255, 255); fill-opacity: 1; white-space: pre;\">1</text></g><g class=\"heatmap-label\"><text text-anchor=\"middle\" data-notex=\"1\" x=\"735\" y=\"175.2\" style=\"font-family: 'Open Sans', verdana, arial, sans-serif; font-size: 12px; fill: rgb(255, 255, 255); fill-opacity: 1; white-space: pre;\">1</text></g><g class=\"heatmap-label\"><text text-anchor=\"middle\" data-notex=\"1\" x=\"821\" y=\"175.2\" style=\"font-family: 'Open Sans', verdana, arial, sans-serif; font-size: 12px; fill: rgb(255, 255, 255); fill-opacity: 1; white-space: pre;\">0</text></g><g class=\"heatmap-label\"><text text-anchor=\"middle\" data-notex=\"1\" x=\"908\" y=\"175.2\" style=\"font-family: 'Open Sans', verdana, arial, sans-serif; font-size: 12px; fill: rgb(255, 255, 255); fill-opacity: 1; white-space: pre;\">0.0</text></g><g class=\"heatmap-label\"><text text-anchor=\"middle\" data-notex=\"1\" x=\"994\" y=\"175.2\" style=\"font-family: 'Open Sans', verdana, arial, sans-serif; font-size: 12px; fill: rgb(68, 68, 68); fill-opacity: 1; white-space: pre;\">0.0</text></g><g class=\"heatmap-label\"><text text-anchor=\"middle\" data-notex=\"1\" x=\"1081\" y=\"175.2\" style=\"font-family: 'Open Sans', verdana, arial, sans-serif; font-size: 12px; fill: rgb(255, 255, 255); fill-opacity: 1; white-space: pre;\">40.0</text></g><g class=\"heatmap-label\"><text text-anchor=\"middle\" data-notex=\"1\" x=\"1167\" y=\"175.2\" style=\"font-family: 'Open Sans', verdana, arial, sans-serif; font-size: 12px; fill: rgb(255, 255, 255); fill-opacity: 1; white-space: pre;\">25</text></g><g class=\"heatmap-label\"><text text-anchor=\"middle\" data-notex=\"1\" x=\"1254\" y=\"175.2\" style=\"font-family: 'Open Sans', verdana, arial, sans-serif; font-size: 12px; fill: rgb(255, 255, 255); fill-opacity: 1; white-space: pre;\">1</text></g><g class=\"heatmap-label\"><text text-anchor=\"middle\" data-notex=\"1\" x=\"43\" y=\"289.2\" style=\"font-family: 'Open Sans', verdana, arial, sans-serif; font-size: 12px; fill: rgb(68, 68, 68); fill-opacity: 1; white-space: pre;\">65.0</text></g><g class=\"heatmap-label\"><text text-anchor=\"middle\" data-notex=\"1\" x=\"130\" y=\"289.2\" style=\"font-family: 'Open Sans', verdana, arial, sans-serif; font-size: 12px; fill: rgb(68, 68, 68); fill-opacity: 1; white-space: pre;\">5</text></g><g class=\"heatmap-label\"><text text-anchor=\"middle\" data-notex=\"1\" x=\"216\" y=\"289.2\" style=\"font-family: 'Open Sans', verdana, arial, sans-serif; font-size: 12px; fill: rgb(68, 68, 68); fill-opacity: 1; white-space: pre;\">184965.0</text></g><g class=\"heatmap-label\"><text text-anchor=\"middle\" data-notex=\"1\" x=\"303\" y=\"289.2\" style=\"font-family: 'Open Sans', verdana, arial, sans-serif; font-size: 12px; fill: rgb(68, 68, 68); fill-opacity: 1; white-space: pre;\">10</text></g><g class=\"heatmap-label\"><text text-anchor=\"middle\" data-notex=\"1\" x=\"389\" y=\"289.2\" style=\"font-family: 'Open Sans', verdana, arial, sans-serif; font-size: 12px; fill: rgb(255, 255, 255); fill-opacity: 1; white-space: pre;\">16.0</text></g><g class=\"heatmap-label\"><text text-anchor=\"middle\" data-notex=\"1\" x=\"476\" y=\"289.2\" style=\"font-family: 'Open Sans', verdana, arial, sans-serif; font-size: 12px; fill: rgb(68, 68, 68); fill-opacity: 1; white-space: pre;\">2</text></g><g class=\"heatmap-label\"><text text-anchor=\"middle\" data-notex=\"1\" x=\"562\" y=\"289.2\" style=\"font-family: 'Open Sans', verdana, arial, sans-serif; font-size: 12px; fill: rgb(255, 255, 255); fill-opacity: 1; white-space: pre;\">4</text></g><g class=\"heatmap-label\"><text text-anchor=\"middle\" data-notex=\"1\" x=\"649\" y=\"289.2\" style=\"font-family: 'Open Sans', verdana, arial, sans-serif; font-size: 12px; fill: rgb(68, 68, 68); fill-opacity: 1; white-space: pre;\">0</text></g><g class=\"heatmap-label\"><text text-anchor=\"middle\" data-notex=\"1\" x=\"735\" y=\"289.2\" style=\"font-family: 'Open Sans', verdana, arial, sans-serif; font-size: 12px; fill: rgb(255, 255, 255); fill-opacity: 1; white-space: pre;\">4</text></g><g class=\"heatmap-label\"><text text-anchor=\"middle\" data-notex=\"1\" x=\"821\" y=\"289.2\" style=\"font-family: 'Open Sans', verdana, arial, sans-serif; font-size: 12px; fill: rgb(68, 68, 68); fill-opacity: 1; white-space: pre;\">1</text></g><g class=\"heatmap-label\"><text text-anchor=\"middle\" data-notex=\"1\" x=\"908\" y=\"289.2\" style=\"font-family: 'Open Sans', verdana, arial, sans-serif; font-size: 12px; fill: rgb(255, 255, 255); fill-opacity: 1; white-space: pre;\">99999.0</text></g><g class=\"heatmap-label\"><text text-anchor=\"middle\" data-notex=\"1\" x=\"994\" y=\"289.2\" style=\"font-family: 'Open Sans', verdana, arial, sans-serif; font-size: 12px; fill: rgb(68, 68, 68); fill-opacity: 1; white-space: pre;\">0.0</text></g><g class=\"heatmap-label\"><text text-anchor=\"middle\" data-notex=\"1\" x=\"1081\" y=\"289.2\" style=\"font-family: 'Open Sans', verdana, arial, sans-serif; font-size: 12px; fill: rgb(68, 68, 68); fill-opacity: 1; white-space: pre;\">40.0</text></g><g class=\"heatmap-label\"><text text-anchor=\"middle\" data-notex=\"1\" x=\"1167\" y=\"289.2\" style=\"font-family: 'Open Sans', verdana, arial, sans-serif; font-size: 12px; fill: rgb(255, 255, 255); fill-opacity: 1; white-space: pre;\">39</text></g><g class=\"heatmap-label\"><text text-anchor=\"middle\" data-notex=\"1\" x=\"1254\" y=\"289.2\" style=\"font-family: 'Open Sans', verdana, arial, sans-serif; font-size: 12px; fill: rgb(255, 255, 255); fill-opacity: 1; white-space: pre;\">0</text></g><g class=\"heatmap-label\"><text text-anchor=\"middle\" data-notex=\"1\" x=\"43\" y=\"403.2\" style=\"font-family: 'Open Sans', verdana, arial, sans-serif; font-size: 12px; fill: rgb(68, 68, 68); fill-opacity: 1; white-space: pre;\">28.0</text></g><g class=\"heatmap-label\"><text text-anchor=\"middle\" data-notex=\"1\" x=\"130\" y=\"403.2\" style=\"font-family: 'Open Sans', verdana, arial, sans-serif; font-size: 12px; fill: rgb(68, 68, 68); fill-opacity: 1; white-space: pre;\">4</text></g><g class=\"heatmap-label\"><text text-anchor=\"middle\" data-notex=\"1\" x=\"216\" y=\"403.2\" style=\"font-family: 'Open Sans', verdana, arial, sans-serif; font-size: 12px; fill: rgb(255, 255, 255); fill-opacity: 1; white-space: pre;\">126060.0</text></g><g class=\"heatmap-label\"><text text-anchor=\"middle\" data-notex=\"1\" x=\"303\" y=\"403.2\" style=\"font-family: 'Open Sans', verdana, arial, sans-serif; font-size: 12px; fill: rgb(68, 68, 68); fill-opacity: 1; white-space: pre;\">11</text></g><g class=\"heatmap-label\"><text text-anchor=\"middle\" data-notex=\"1\" x=\"389\" y=\"403.2\" style=\"font-family: 'Open Sans', verdana, arial, sans-serif; font-size: 12px; fill: rgb(255, 255, 255); fill-opacity: 1; white-space: pre;\">9.0</text></g><g class=\"heatmap-label\"><text text-anchor=\"middle\" data-notex=\"1\" x=\"476\" y=\"403.2\" style=\"font-family: 'Open Sans', verdana, arial, sans-serif; font-size: 12px; fill: rgb(255, 255, 255); fill-opacity: 1; white-space: pre;\">2</text></g><g class=\"heatmap-label\"><text text-anchor=\"middle\" data-notex=\"1\" x=\"562\" y=\"403.2\" style=\"font-family: 'Open Sans', verdana, arial, sans-serif; font-size: 12px; fill: rgb(68, 68, 68); fill-opacity: 1; white-space: pre;\">1</text></g><g class=\"heatmap-label\"><text text-anchor=\"middle\" data-notex=\"1\" x=\"649\" y=\"403.2\" style=\"font-family: 'Open Sans', verdana, arial, sans-serif; font-size: 12px; fill: rgb(255, 255, 255); fill-opacity: 1; white-space: pre;\">5</text></g><g class=\"heatmap-label\"><text text-anchor=\"middle\" data-notex=\"1\" x=\"735\" y=\"403.2\" style=\"font-family: 'Open Sans', verdana, arial, sans-serif; font-size: 12px; fill: rgb(68, 68, 68); fill-opacity: 1; white-space: pre;\">4</text></g><g class=\"heatmap-label\"><text text-anchor=\"middle\" data-notex=\"1\" x=\"821\" y=\"403.2\" style=\"font-family: 'Open Sans', verdana, arial, sans-serif; font-size: 12px; fill: rgb(68, 68, 68); fill-opacity: 1; white-space: pre;\">0</text></g><g class=\"heatmap-label\"><text text-anchor=\"middle\" data-notex=\"1\" x=\"908\" y=\"403.2\" style=\"font-family: 'Open Sans', verdana, arial, sans-serif; font-size: 12px; fill: rgb(255, 255, 255); fill-opacity: 1; white-space: pre;\">99999.0</text></g><g class=\"heatmap-label\"><text text-anchor=\"middle\" data-notex=\"1\" x=\"994\" y=\"403.2\" style=\"font-family: 'Open Sans', verdana, arial, sans-serif; font-size: 12px; fill: rgb(68, 68, 68); fill-opacity: 1; white-space: pre;\">0.0</text></g><g class=\"heatmap-label\"><text text-anchor=\"middle\" data-notex=\"1\" x=\"1081\" y=\"403.2\" style=\"font-family: 'Open Sans', verdana, arial, sans-serif; font-size: 12px; fill: rgb(68, 68, 68); fill-opacity: 1; white-space: pre;\">36.0</text></g><g class=\"heatmap-label\"><text text-anchor=\"middle\" data-notex=\"1\" x=\"1167\" y=\"403.2\" style=\"font-family: 'Open Sans', verdana, arial, sans-serif; font-size: 12px; fill: rgb(68, 68, 68); fill-opacity: 1; white-space: pre;\">39</text></g><g class=\"heatmap-label\"><text text-anchor=\"middle\" data-notex=\"1\" x=\"1254\" y=\"403.2\" style=\"font-family: 'Open Sans', verdana, arial, sans-serif; font-size: 12px; fill: rgb(68, 68, 68); fill-opacity: 1; white-space: pre;\">0</text></g><g class=\"heatmap-label\"><text text-anchor=\"middle\" data-notex=\"1\" x=\"43\" y=\"517.2\" style=\"font-family: 'Open Sans', verdana, arial, sans-serif; font-size: 12px; fill: rgb(255, 255, 255); fill-opacity: 1; white-space: pre;\">46.0</text></g><g class=\"heatmap-label\"><text text-anchor=\"middle\" data-notex=\"1\" x=\"130\" y=\"517.2\" style=\"font-family: 'Open Sans', verdana, arial, sans-serif; font-size: 12px; fill: rgb(68, 68, 68); fill-opacity: 1; white-space: pre;\">5</text></g><g class=\"heatmap-label\"><text text-anchor=\"middle\" data-notex=\"1\" x=\"216\" y=\"517.2\" style=\"font-family: 'Open Sans', verdana, arial, sans-serif; font-size: 12px; fill: rgb(68, 68, 68); fill-opacity: 1; white-space: pre;\">198660.0</text></g><g class=\"heatmap-label\"><text text-anchor=\"middle\" data-notex=\"1\" x=\"303\" y=\"517.2\" style=\"font-family: 'Open Sans', verdana, arial, sans-serif; font-size: 12px; fill: rgb(68, 68, 68); fill-opacity: 1; white-space: pre;\">9</text></g><g class=\"heatmap-label\"><text text-anchor=\"middle\" data-notex=\"1\" x=\"389\" y=\"517.2\" style=\"font-family: 'Open Sans', verdana, arial, sans-serif; font-size: 12px; fill: rgb(68, 68, 68); fill-opacity: 1; white-space: pre;\">13.0</text></g><g class=\"heatmap-label\"><text text-anchor=\"middle\" data-notex=\"1\" x=\"476\" y=\"517.2\" style=\"font-family: 'Open Sans', verdana, arial, sans-serif; font-size: 12px; fill: rgb(255, 255, 255); fill-opacity: 1; white-space: pre;\">2</text></g><g class=\"heatmap-label\"><text text-anchor=\"middle\" data-notex=\"1\" x=\"562\" y=\"517.2\" style=\"font-family: 'Open Sans', verdana, arial, sans-serif; font-size: 12px; fill: rgb(68, 68, 68); fill-opacity: 1; white-space: pre;\">12</text></g><g class=\"heatmap-label\"><text text-anchor=\"middle\" data-notex=\"1\" x=\"649\" y=\"517.2\" style=\"font-family: 'Open Sans', verdana, arial, sans-serif; font-size: 12px; fill: rgb(255, 255, 255); fill-opacity: 1; white-space: pre;\">0</text></g><g class=\"heatmap-label\"><text text-anchor=\"middle\" data-notex=\"1\" x=\"735\" y=\"517.2\" style=\"font-family: 'Open Sans', verdana, arial, sans-serif; font-size: 12px; fill: rgb(255, 255, 255); fill-opacity: 1; white-space: pre;\">4</text></g><g class=\"heatmap-label\"><text text-anchor=\"middle\" data-notex=\"1\" x=\"821\" y=\"517.2\" style=\"font-family: 'Open Sans', verdana, arial, sans-serif; font-size: 12px; fill: rgb(255, 255, 255); fill-opacity: 1; white-space: pre;\">1</text></g><g class=\"heatmap-label\"><text text-anchor=\"middle\" data-notex=\"1\" x=\"908\" y=\"517.2\" style=\"font-family: 'Open Sans', verdana, arial, sans-serif; font-size: 12px; fill: rgb(255, 255, 255); fill-opacity: 1; white-space: pre;\">99999.0</text></g><g class=\"heatmap-label\"><text text-anchor=\"middle\" data-notex=\"1\" x=\"994\" y=\"517.2\" style=\"font-family: 'Open Sans', verdana, arial, sans-serif; font-size: 12px; fill: rgb(255, 255, 255); fill-opacity: 1; white-space: pre;\">0.0</text></g><g class=\"heatmap-label\"><text text-anchor=\"middle\" data-notex=\"1\" x=\"1081\" y=\"517.2\" style=\"font-family: 'Open Sans', verdana, arial, sans-serif; font-size: 12px; fill: rgb(68, 68, 68); fill-opacity: 1; white-space: pre;\">72.0</text></g><g class=\"heatmap-label\"><text text-anchor=\"middle\" data-notex=\"1\" x=\"1167\" y=\"517.2\" style=\"font-family: 'Open Sans', verdana, arial, sans-serif; font-size: 12px; fill: rgb(68, 68, 68); fill-opacity: 1; white-space: pre;\">39</text></g><g class=\"heatmap-label\"><text text-anchor=\"middle\" data-notex=\"1\" x=\"1254\" y=\"517.2\" style=\"font-family: 'Open Sans', verdana, arial, sans-serif; font-size: 12px; fill: rgb(68, 68, 68); fill-opacity: 1; white-space: pre;\">0</text></g></g></g></g></g><path class=\"xlines-above crisp\" d=\"M0,0\" style=\"fill: none;\"/><path class=\"ylines-above crisp\" d=\"M0,0\" style=\"fill: none;\"/><g class=\"overlines-above\"/><g class=\"xaxislayer-above\"><g class=\"xtick\"><text text-anchor=\"middle\" x=\"0\" y=\"683\" transform=\"translate(123.22999999999999,0)\" style=\"font-family: 'Open Sans', verdana, arial, sans-serif; font-size: 12px; fill: rgb(42, 63, 95); fill-opacity: 1; white-space: pre; opacity: 1;\">age</text></g><g class=\"xtick\"><text text-anchor=\"middle\" x=\"0\" y=\"683\" transform=\"translate(209.7,0)\" style=\"font-family: 'Open Sans', verdana, arial, sans-serif; font-size: 12px; fill: rgb(42, 63, 95); fill-opacity: 1; white-space: pre; opacity: 1;\">workclass</text></g><g class=\"xtick\"><text text-anchor=\"middle\" x=\"0\" y=\"683\" transform=\"translate(296.16999999999996,0)\" style=\"font-family: 'Open Sans', verdana, arial, sans-serif; font-size: 12px; fill: rgb(42, 63, 95); fill-opacity: 1; white-space: pre; opacity: 1;\">fnlwgt</text></g><g class=\"xtick\"><text text-anchor=\"middle\" x=\"0\" y=\"683\" transform=\"translate(382.63,0)\" style=\"font-family: 'Open Sans', verdana, arial, sans-serif; font-size: 12px; fill: rgb(42, 63, 95); fill-opacity: 1; white-space: pre; opacity: 1;\">education</text></g><g class=\"xtick\"><text text-anchor=\"middle\" x=\"0\" y=\"683\" transform=\"translate(469.1,0)\" style=\"font-family: 'Open Sans', verdana, arial, sans-serif; font-size: 12px; fill: rgb(42, 63, 95); fill-opacity: 1; white-space: pre; opacity: 1;\">education-num</text></g><g class=\"xtick\"><text text-anchor=\"middle\" x=\"0\" y=\"683\" transform=\"translate(555.5699999999999,0)\" style=\"font-family: 'Open Sans', verdana, arial, sans-serif; font-size: 12px; fill: rgb(42, 63, 95); fill-opacity: 1; white-space: pre; opacity: 1;\">marital-status</text></g><g class=\"xtick\"><text text-anchor=\"middle\" x=\"0\" y=\"683\" transform=\"translate(642.03,0)\" style=\"font-family: 'Open Sans', verdana, arial, sans-serif; font-size: 12px; fill: rgb(42, 63, 95); fill-opacity: 1; white-space: pre; opacity: 1;\">occupation</text></g><g class=\"xtick\"><text text-anchor=\"middle\" x=\"0\" y=\"683\" transform=\"translate(728.5,0)\" style=\"font-family: 'Open Sans', verdana, arial, sans-serif; font-size: 12px; fill: rgb(42, 63, 95); fill-opacity: 1; white-space: pre; opacity: 1;\">relationship</text></g><g class=\"xtick\"><text text-anchor=\"middle\" x=\"0\" y=\"683\" transform=\"translate(814.97,0)\" style=\"font-family: 'Open Sans', verdana, arial, sans-serif; font-size: 12px; fill: rgb(42, 63, 95); fill-opacity: 1; white-space: pre; opacity: 1;\">race</text></g><g class=\"xtick\"><text text-anchor=\"middle\" x=\"0\" y=\"683\" transform=\"translate(901.43,0)\" style=\"font-family: 'Open Sans', verdana, arial, sans-serif; font-size: 12px; fill: rgb(42, 63, 95); fill-opacity: 1; white-space: pre; opacity: 1;\">sex</text></g><g class=\"xtick\"><text text-anchor=\"middle\" x=\"0\" y=\"683\" transform=\"translate(987.9,0)\" style=\"font-family: 'Open Sans', verdana, arial, sans-serif; font-size: 12px; fill: rgb(42, 63, 95); fill-opacity: 1; white-space: pre; opacity: 1;\">capital-gain</text></g><g class=\"xtick\"><text text-anchor=\"middle\" x=\"0\" y=\"683\" transform=\"translate(1074.37,0)\" style=\"font-family: 'Open Sans', verdana, arial, sans-serif; font-size: 12px; fill: rgb(42, 63, 95); fill-opacity: 1; white-space: pre; opacity: 1;\">capital-loss</text></g><g class=\"xtick\"><text text-anchor=\"middle\" x=\"0\" y=\"683\" transform=\"translate(1160.83,0)\" style=\"font-family: 'Open Sans', verdana, arial, sans-serif; font-size: 12px; fill: rgb(42, 63, 95); fill-opacity: 1; white-space: pre; opacity: 1;\">hours-per-week</text></g><g class=\"xtick\"><text text-anchor=\"middle\" x=\"0\" y=\"683\" transform=\"translate(1247.3,0)\" style=\"font-family: 'Open Sans', verdana, arial, sans-serif; font-size: 12px; fill: rgb(42, 63, 95); fill-opacity: 1; white-space: pre; opacity: 1;\">native-country</text></g><g class=\"xtick\"><text text-anchor=\"middle\" x=\"0\" y=\"683\" transform=\"translate(1333.77,0)\" style=\"font-family: 'Open Sans', verdana, arial, sans-serif; font-size: 12px; fill: rgb(42, 63, 95); fill-opacity: 1; white-space: pre; opacity: 1;\">target</text></g></g><g class=\"yaxislayer-above\"><g class=\"ytick\"><text text-anchor=\"end\" x=\"79\" y=\"4.199999999999999\" transform=\"translate(0,613)\" style=\"font-family: 'Open Sans', verdana, arial, sans-serif; font-size: 12px; fill: rgb(42, 63, 95); fill-opacity: 1; white-space: pre; opacity: 1;\">4</text></g><g class=\"ytick\"><text text-anchor=\"end\" x=\"79\" y=\"4.199999999999999\" style=\"font-family: 'Open Sans', verdana, arial, sans-serif; font-size: 12px; fill: rgb(42, 63, 95); fill-opacity: 1; white-space: pre; opacity: 1;\" transform=\"translate(0,499)\">3</text></g><g class=\"ytick\"><text text-anchor=\"end\" x=\"79\" y=\"4.199999999999999\" style=\"font-family: 'Open Sans', verdana, arial, sans-serif; font-size: 12px; fill: rgb(42, 63, 95); fill-opacity: 1; white-space: pre; opacity: 1;\" transform=\"translate(0,385)\">2</text></g><g class=\"ytick\"><text text-anchor=\"end\" x=\"79\" y=\"4.199999999999999\" style=\"font-family: 'Open Sans', verdana, arial, sans-serif; font-size: 12px; fill: rgb(42, 63, 95); fill-opacity: 1; white-space: pre; opacity: 1;\" transform=\"translate(0,271)\">1</text></g><g class=\"ytick\"><text text-anchor=\"end\" x=\"79\" y=\"4.199999999999999\" style=\"font-family: 'Open Sans', verdana, arial, sans-serif; font-size: 12px; fill: rgb(42, 63, 95); fill-opacity: 1; white-space: pre; opacity: 1;\" transform=\"translate(0,157)\">0</text></g></g><g class=\"overaxes-above\"/></g></g><g class=\"polarlayer\"/><g class=\"smithlayer\"/><g class=\"ternarylayer\"/><g class=\"geolayer\"/><g class=\"funnelarealayer\"/><g class=\"pielayer\"/><g class=\"iciclelayer\"/><g class=\"treemaplayer\"/><g class=\"sunburstlayer\"/><g class=\"glimages\"/><defs id=\"topdefs-1c3007\"><g class=\"clips\"/></defs><g class=\"layer-above\"><g class=\"imagelayer\"/><g class=\"shapelayer\"/></g><g class=\"infolayer\"><g class=\"cbcoloraxis colorbar\" transform=\"translate(80,100)\"><rect class=\"cbbg\" x=\"1323\" y=\"0\" width=\"85.314453125\" height=\"570\" style=\"fill: rgb(0, 0, 0); fill-opacity: 0; stroke: rgb(68, 68, 68); stroke-opacity: 1; stroke-width: 0;\"/><g class=\"cbfills\" transform=\"translate(0,31)\"><rect class=\"cbfill gradient_filled\" style=\"fill: url('#g1c3007-cbcoloraxis');\" x=\"1333\" y=\"0\" width=\"30\" height=\"529\"/></g><g class=\"cblines\" transform=\"translate(0,31)\"/><g class=\"cbaxis crisp\" transform=\"translate(0,-100)\"><g class=\"ycbcoloraxistick\"><text text-anchor=\"start\" x=\"1365.9\" y=\"4.199999999999999\" transform=\"translate(0,660)\" style=\"font-family: 'Open Sans', verdana, arial, sans-serif; font-size: 12px; fill: rgb(42, 63, 95); fill-opacity: 1; white-space: pre; opacity: 1;\">0</text></g><g class=\"ycbcoloraxistick\"><text text-anchor=\"start\" x=\"1365.9\" y=\"4.199999999999999\" style=\"font-family: 'Open Sans', verdana, arial, sans-serif; font-size: 12px; fill: rgb(42, 63, 95); fill-opacity: 1; white-space: pre; opacity: 1;\" transform=\"translate(0,607.1)\">0.5</text></g><g class=\"ycbcoloraxistick\"><text text-anchor=\"start\" x=\"1365.9\" y=\"4.199999999999999\" style=\"font-family: 'Open Sans', verdana, arial, sans-serif; font-size: 12px; fill: rgb(42, 63, 95); fill-opacity: 1; white-space: pre; opacity: 1;\" transform=\"translate(0,554.2)\">1</text></g><g class=\"ycbcoloraxistick\"><text text-anchor=\"start\" x=\"1365.9\" y=\"4.199999999999999\" style=\"font-family: 'Open Sans', verdana, arial, sans-serif; font-size: 12px; fill: rgb(42, 63, 95); fill-opacity: 1; white-space: pre; opacity: 1;\" transform=\"translate(0,501.30000000000007)\">1.5</text></g><g class=\"ycbcoloraxistick\"><text text-anchor=\"start\" x=\"1365.9\" y=\"4.199999999999999\" style=\"font-family: 'Open Sans', verdana, arial, sans-serif; font-size: 12px; fill: rgb(42, 63, 95); fill-opacity: 1; white-space: pre; opacity: 1;\" transform=\"translate(0,448.4)\">2</text></g><g class=\"ycbcoloraxistick\"><text text-anchor=\"start\" x=\"1365.9\" y=\"4.199999999999999\" style=\"font-family: 'Open Sans', verdana, arial, sans-serif; font-size: 12px; fill: rgb(42, 63, 95); fill-opacity: 1; white-space: pre; opacity: 1;\" transform=\"translate(0,395.5)\">2.5</text></g><g class=\"ycbcoloraxistick\"><text text-anchor=\"start\" x=\"1365.9\" y=\"4.199999999999999\" style=\"font-family: 'Open Sans', verdana, arial, sans-serif; font-size: 12px; fill: rgb(42, 63, 95); fill-opacity: 1; white-space: pre; opacity: 1;\" transform=\"translate(0,342.6)\">3</text></g><g class=\"ycbcoloraxistick\"><text text-anchor=\"start\" x=\"1365.9\" y=\"4.199999999999999\" style=\"font-family: 'Open Sans', verdana, arial, sans-serif; font-size: 12px; fill: rgb(42, 63, 95); fill-opacity: 1; white-space: pre; opacity: 1;\" transform=\"translate(0,289.70000000000005)\">3.5</text></g><g class=\"ycbcoloraxistick\"><text text-anchor=\"start\" x=\"1365.9\" y=\"4.199999999999999\" style=\"font-family: 'Open Sans', verdana, arial, sans-serif; font-size: 12px; fill: rgb(42, 63, 95); fill-opacity: 1; white-space: pre; opacity: 1;\" transform=\"translate(0,236.8)\">4</text></g><g class=\"ycbcoloraxistick\"><text text-anchor=\"start\" x=\"1365.9\" y=\"4.199999999999999\" style=\"font-family: 'Open Sans', verdana, arial, sans-serif; font-size: 12px; fill: rgb(42, 63, 95); fill-opacity: 1; white-space: pre; opacity: 1;\" transform=\"translate(0,183.90000000000003)\">4.5</text></g><g class=\"ycbcoloraxistick\"><text text-anchor=\"start\" x=\"1365.9\" y=\"4.199999999999999\" style=\"font-family: 'Open Sans', verdana, arial, sans-serif; font-size: 12px; fill: rgb(42, 63, 95); fill-opacity: 1; white-space: pre; opacity: 1;\" transform=\"translate(0,131.00000000000003)\">≥5</text></g></g><g class=\"cbtitleunshift\" transform=\"translate(-80,-100)\"><g class=\"cbtitle\" transform=\"\"><text class=\"ycbcoloraxistitle\" x=\"1412.94\" y=\"123.5\" text-anchor=\"start\" style=\"opacity: 1; font-family: 'Open Sans', verdana, arial, sans-serif; font-size: 14px; fill: rgb(42, 63, 95); fill-opacity: 1; white-space: pre;\">Conviction</text></g></g><rect class=\"cboutline\" x=\"1333\" y=\"31\" width=\"30\" height=\"529\" style=\"stroke: rgb(68, 68, 68); stroke-opacity: 1; fill: none; stroke-width: 0;\"/></g><g class=\"g-gtitle\"><text class=\"gtitle\" x=\"75\" y=\"50\" text-anchor=\"start\" dy=\"0em\" style=\"opacity: 1; font-family: 'Open Sans', verdana, arial, sans-serif; font-size: 17px; fill: rgb(42, 63, 95); fill-opacity: 1; white-space: pre;\">Anomalies</text></g><g class=\"g-xtitle\"><text class=\"xtitle\" x=\"728.5\" y=\"710.3\" text-anchor=\"middle\" style=\"opacity: 1; font-family: 'Open Sans', verdana, arial, sans-serif; font-size: 14px; fill: rgb(42, 63, 95); fill-opacity: 1; white-space: pre;\">Feature</text></g><g class=\"g-ytitle\"/></g></svg>"
      ]
     },
     "metadata": {},
     "output_type": "display_data"
    }
   ],
   "source": [
    "fig = plot_anomalies(outliers, outlier_case_feature_residual_convictions)\n",
    "fig.show(width=1500, height=750)"
   ]
  },
  {
   "attachments": {},
   "cell_type": "markdown",
   "metadata": {},
   "source": [
    "From this chart we can see that these cases were flagged as anomalous largely because of their `capital-gain` values. Since our target variable is whether someone makes over $50,000 in salary, people with such large capital gains making less than $50,000 seems odd. In addition, values such as 99999 often indicate some sort of nominal value that may represent something other than the actual capital-gain, such as if a person did not answer. \n",
    "\n",
    "With this information, we can choose the appropriate action, whether it is recoding capital-gains, removing the cases, leaving the cases out, etc..."
   ]
  },
  {
   "attachments": {},
   "cell_type": "markdown",
   "metadata": {
    "tags": []
   },
   "source": [
    "### Step 3: Inspect Outliers\n",
    "\n",
    "While we generally only think of outliers when it comes to anomalies, inliers are another, more discrete, form of anomaly. Inliers are the opposite of outliers, as inliers are cases that are too [similiar](https://docs.howso.com/en/release-latest/getting_started/terminology.html#most-similar-cases) to other points. A real world hypothetical case of an inlier would be someone submitting a false transaction date in which they tried to make the data look real by making it very similar to existing data. \n",
    "\n",
    "In our case, it may be someone in a bank who is internally falsifying applications in order to try to alter the prediction model.\n",
    "\n",
    "Just like outliers, `distance_contribution` is used to detect inliers from the anomalies detected through the use of `familiarity_conviction_addition`, except now we are looking at cases below a theshold which indicates similarity to other points.\n"
   ]
  },
  {
   "cell_type": "code",
   "execution_count": 9,
   "metadata": {
    "execution": {
     "iopub.execute_input": "2025-10-25T13:45:59.355577Z",
     "iopub.status.busy": "2025-10-25T13:45:59.355362Z",
     "iopub.status.idle": "2025-10-25T13:45:59.369683Z",
     "shell.execute_reply": "2025-10-25T13:45:59.368898Z"
    }
   },
   "outputs": [
    {
     "data": {
      "text/html": [
       "<div>\n",
       "<style scoped>\n",
       "    .dataframe tbody tr th:only-of-type {\n",
       "        vertical-align: middle;\n",
       "    }\n",
       "\n",
       "    .dataframe tbody tr th {\n",
       "        vertical-align: top;\n",
       "    }\n",
       "\n",
       "    .dataframe thead th {\n",
       "        text-align: right;\n",
       "    }\n",
       "</style>\n",
       "<table border=\"1\" class=\"dataframe\">\n",
       "  <thead>\n",
       "    <tr style=\"text-align: right;\">\n",
       "      <th></th>\n",
       "      <th>age</th>\n",
       "      <th>workclass</th>\n",
       "      <th>fnlwgt</th>\n",
       "      <th>education</th>\n",
       "      <th>education-num</th>\n",
       "      <th>marital-status</th>\n",
       "      <th>occupation</th>\n",
       "      <th>relationship</th>\n",
       "      <th>race</th>\n",
       "      <th>sex</th>\n",
       "      <th>capital-gain</th>\n",
       "      <th>capital-loss</th>\n",
       "      <th>hours-per-week</th>\n",
       "      <th>native-country</th>\n",
       "      <th>target</th>\n",
       "      <th>familiarity_conviction_addition</th>\n",
       "      <th>.session_training_index</th>\n",
       "      <th>.session</th>\n",
       "      <th>distance_contribution</th>\n",
       "      <th>category</th>\n",
       "    </tr>\n",
       "  </thead>\n",
       "  <tbody>\n",
       "    <tr>\n",
       "      <th>0</th>\n",
       "      <td>30.0</td>\n",
       "      <td>4</td>\n",
       "      <td>190228.0</td>\n",
       "      <td>11</td>\n",
       "      <td>9.0</td>\n",
       "      <td>2</td>\n",
       "      <td>6</td>\n",
       "      <td>0</td>\n",
       "      <td>4</td>\n",
       "      <td>1</td>\n",
       "      <td>0.0</td>\n",
       "      <td>0.0</td>\n",
       "      <td>40.0</td>\n",
       "      <td>39</td>\n",
       "      <td>1</td>\n",
       "      <td>0.313189</td>\n",
       "      <td>198</td>\n",
       "      <td>913a8894-a0e9-4430-9a8e-11de4697c69d</td>\n",
       "      <td>1.446570</td>\n",
       "      <td>inlier</td>\n",
       "    </tr>\n",
       "    <tr>\n",
       "      <th>1</th>\n",
       "      <td>25.0</td>\n",
       "      <td>4</td>\n",
       "      <td>218667.0</td>\n",
       "      <td>11</td>\n",
       "      <td>9.0</td>\n",
       "      <td>2</td>\n",
       "      <td>6</td>\n",
       "      <td>0</td>\n",
       "      <td>4</td>\n",
       "      <td>1</td>\n",
       "      <td>0.0</td>\n",
       "      <td>0.0</td>\n",
       "      <td>40.0</td>\n",
       "      <td>39</td>\n",
       "      <td>1</td>\n",
       "      <td>0.313956</td>\n",
       "      <td>881</td>\n",
       "      <td>913a8894-a0e9-4430-9a8e-11de4697c69d</td>\n",
       "      <td>1.560241</td>\n",
       "      <td>inlier</td>\n",
       "    </tr>\n",
       "    <tr>\n",
       "      <th>2</th>\n",
       "      <td>36.0</td>\n",
       "      <td>4</td>\n",
       "      <td>209629.0</td>\n",
       "      <td>11</td>\n",
       "      <td>9.0</td>\n",
       "      <td>2</td>\n",
       "      <td>7</td>\n",
       "      <td>0</td>\n",
       "      <td>4</td>\n",
       "      <td>1</td>\n",
       "      <td>0.0</td>\n",
       "      <td>0.0</td>\n",
       "      <td>40.0</td>\n",
       "      <td>39</td>\n",
       "      <td>1</td>\n",
       "      <td>0.317207</td>\n",
       "      <td>404</td>\n",
       "      <td>913a8894-a0e9-4430-9a8e-11de4697c69d</td>\n",
       "      <td>1.568833</td>\n",
       "      <td>inlier</td>\n",
       "    </tr>\n",
       "  </tbody>\n",
       "</table>\n",
       "</div>"
      ],
      "text/plain": [
       "    age  workclass    fnlwgt  education  education-num  marital-status  \\\n",
       "0  30.0          4  190228.0         11            9.0               2   \n",
       "1  25.0          4  218667.0         11            9.0               2   \n",
       "2  36.0          4  209629.0         11            9.0               2   \n",
       "\n",
       "   occupation  relationship  race  sex  capital-gain  capital-loss  \\\n",
       "0           6             0     4    1           0.0           0.0   \n",
       "1           6             0     4    1           0.0           0.0   \n",
       "2           7             0     4    1           0.0           0.0   \n",
       "\n",
       "   hours-per-week  native-country  target  familiarity_conviction_addition  \\\n",
       "0            40.0              39       1                         0.313189   \n",
       "1            40.0              39       1                         0.313956   \n",
       "2            40.0              39       1                         0.317207   \n",
       "\n",
       "   .session_training_index                              .session  \\\n",
       "0                      198  913a8894-a0e9-4430-9a8e-11de4697c69d   \n",
       "1                      881  913a8894-a0e9-4430-9a8e-11de4697c69d   \n",
       "2                      404  913a8894-a0e9-4430-9a8e-11de4697c69d   \n",
       "\n",
       "   distance_contribution category  \n",
       "0               1.446570   inlier  \n",
       "1               1.560241   inlier  \n",
       "2               1.568833   inlier  "
      ]
     },
     "execution_count": 9,
     "metadata": {},
     "output_type": "execute_result"
    }
   ],
   "source": [
    "# Extract the inlier cases\n",
    "inliers = low_convicts[low_convicts['category'] == 'inlier'].reset_index(drop=True)\n",
    "inliers.head(3)"
   ]
  },
  {
   "attachments": {},
   "cell_type": "markdown",
   "metadata": {},
   "source": [
    "### Step 4: Inlier Value Evaluation"
   ]
  },
  {
   "cell_type": "code",
   "execution_count": 10,
   "metadata": {
    "execution": {
     "iopub.execute_input": "2025-10-25T13:45:59.371767Z",
     "iopub.status.busy": "2025-10-25T13:45:59.371506Z",
     "iopub.status.idle": "2025-10-25T13:46:00.024035Z",
     "shell.execute_reply": "2025-10-25T13:46:00.023239Z"
    }
   },
   "outputs": [],
   "source": [
    "# Specify the inlier cases\n",
    "inliers_indices = inliers[['.session', '.session_training_index']].values\n",
    "\n",
    "# React to get the details of each case\n",
    "results = t.react(\n",
    "    case_indices=inliers_indices,\n",
    "    preserve_feature_values=df.columns.tolist(),\n",
    "    leave_case_out=True,\n",
    "    details=details\n",
    ")\n",
    "\n",
    "\n",
    "inlier_case_feature_residual_convictions = pd.DataFrame(\n",
    "    results['details']['feature_full_residual_convictions_for_case']\n",
    ")[df.columns.tolist()]"
   ]
  },
  {
   "cell_type": "code",
   "execution_count": 11,
   "metadata": {
    "execution": {
     "iopub.execute_input": "2025-10-25T13:46:00.026537Z",
     "iopub.status.busy": "2025-10-25T13:46:00.026293Z",
     "iopub.status.idle": "2025-10-25T13:46:01.488400Z",
     "shell.execute_reply": "2025-10-25T13:46:01.487647Z"
    }
   },
   "outputs": [
    {
     "data": {
      "image/svg+xml": [
       "<svg class=\"main-svg\" xmlns=\"http://www.w3.org/2000/svg\" xmlns:xlink=\"http://www.w3.org/1999/xlink\" width=\"1500\" height=\"750\" style=\"\" viewBox=\"0 0 1500 750\"><rect x=\"0\" y=\"0\" width=\"1500\" height=\"750\" style=\"fill: rgb(255, 255, 255); fill-opacity: 1;\"/><defs id=\"defs-33d15b\"><g class=\"clips\"><clipPath id=\"clip33d15bxyplot\" class=\"plotclip\"><rect width=\"1297\" height=\"570\"/></clipPath><clipPath class=\"axesclip\" id=\"clip33d15bx\"><rect x=\"80\" y=\"0\" width=\"1297\" height=\"750\"/></clipPath><clipPath class=\"axesclip\" id=\"clip33d15by\"><rect x=\"0\" y=\"100\" width=\"1500\" height=\"570\"/></clipPath><clipPath class=\"axesclip\" id=\"clip33d15bxy\"><rect x=\"80\" y=\"100\" width=\"1297\" height=\"570\"/></clipPath></g><g class=\"gradients\"><linearGradient x1=\"0\" y1=\"1\" x2=\"0\" y2=\"0\" gradientUnits=\"objectBoundingBox\" id=\"g33d15b-cbcoloraxis\"><stop offset=\"0%\" stop-color=\"rgb(103, 0, 31)\" stop-opacity=\"1\"/><stop offset=\"20%\" stop-color=\"rgb(247, 247, 247)\" stop-opacity=\"1\"/><stop offset=\"40%\" stop-color=\"rgb(67, 147, 195)\" stop-opacity=\"1\"/><stop offset=\"100%\" stop-color=\"rgb(5, 48, 97)\" stop-opacity=\"1\"/></linearGradient></g><g class=\"patterns\"/></defs><g class=\"bglayer\"><rect class=\"bg\" x=\"80\" y=\"100\" width=\"1297\" height=\"570\" style=\"fill: rgb(229, 236, 246); fill-opacity: 1; stroke-width: 0;\"/></g><g class=\"layer-below\"><g class=\"imagelayer\"/><g class=\"shapelayer\"/></g><g class=\"cartesianlayer\"><g class=\"subplot xy\"><g class=\"layer-subplot\"><g class=\"shapelayer\"/><g class=\"imagelayer\"/></g><g class=\"minor-gridlayer\"><g class=\"x\"/><g class=\"y\"/></g><g class=\"gridlayer\"><g class=\"x\"><path class=\"xgrid crisp\" transform=\"translate(123.22999999999999,0)\" d=\"M0,100v570\" style=\"stroke: rgb(255, 255, 255); stroke-opacity: 1; stroke-width: 1px;\"/><path class=\"xgrid crisp\" transform=\"translate(209.7,0)\" d=\"M0,100v570\" style=\"stroke: rgb(255, 255, 255); stroke-opacity: 1; stroke-width: 1px;\"/><path class=\"xgrid crisp\" transform=\"translate(296.16999999999996,0)\" d=\"M0,100v570\" style=\"stroke: rgb(255, 255, 255); stroke-opacity: 1; stroke-width: 1px;\"/><path class=\"xgrid crisp\" transform=\"translate(382.63,0)\" d=\"M0,100v570\" style=\"stroke: rgb(255, 255, 255); stroke-opacity: 1; stroke-width: 1px;\"/><path class=\"xgrid crisp\" transform=\"translate(469.1,0)\" d=\"M0,100v570\" style=\"stroke: rgb(255, 255, 255); stroke-opacity: 1; stroke-width: 1px;\"/><path class=\"xgrid crisp\" transform=\"translate(555.5699999999999,0)\" d=\"M0,100v570\" style=\"stroke: rgb(255, 255, 255); stroke-opacity: 1; stroke-width: 1px;\"/><path class=\"xgrid crisp\" transform=\"translate(642.03,0)\" d=\"M0,100v570\" style=\"stroke: rgb(255, 255, 255); stroke-opacity: 1; stroke-width: 1px;\"/><path class=\"xgrid crisp\" transform=\"translate(728.5,0)\" d=\"M0,100v570\" style=\"stroke: rgb(255, 255, 255); stroke-opacity: 1; stroke-width: 1px;\"/><path class=\"xgrid crisp\" transform=\"translate(814.97,0)\" d=\"M0,100v570\" style=\"stroke: rgb(255, 255, 255); stroke-opacity: 1; stroke-width: 1px;\"/><path class=\"xgrid crisp\" transform=\"translate(901.43,0)\" d=\"M0,100v570\" style=\"stroke: rgb(255, 255, 255); stroke-opacity: 1; stroke-width: 1px;\"/><path class=\"xgrid crisp\" transform=\"translate(987.9,0)\" d=\"M0,100v570\" style=\"stroke: rgb(255, 255, 255); stroke-opacity: 1; stroke-width: 1px;\"/><path class=\"xgrid crisp\" transform=\"translate(1074.37,0)\" d=\"M0,100v570\" style=\"stroke: rgb(255, 255, 255); stroke-opacity: 1; stroke-width: 1px;\"/><path class=\"xgrid crisp\" transform=\"translate(1160.83,0)\" d=\"M0,100v570\" style=\"stroke: rgb(255, 255, 255); stroke-opacity: 1; stroke-width: 1px;\"/><path class=\"xgrid crisp\" transform=\"translate(1247.3,0)\" d=\"M0,100v570\" style=\"stroke: rgb(255, 255, 255); stroke-opacity: 1; stroke-width: 1px;\"/><path class=\"xgrid crisp\" transform=\"translate(1333.77,0)\" d=\"M0,100v570\" style=\"stroke: rgb(255, 255, 255); stroke-opacity: 1; stroke-width: 1px;\"/></g><g class=\"y\"><path class=\"ygrid crisp\" transform=\"translate(0,613)\" d=\"M80,0h1297\" style=\"stroke: rgb(255, 255, 255); stroke-opacity: 1; stroke-width: 1px;\"/><path class=\"ygrid crisp\" transform=\"translate(0,499)\" d=\"M80,0h1297\" style=\"stroke: rgb(255, 255, 255); stroke-opacity: 1; stroke-width: 1px;\"/><path class=\"ygrid crisp\" transform=\"translate(0,385)\" d=\"M80,0h1297\" style=\"stroke: rgb(255, 255, 255); stroke-opacity: 1; stroke-width: 1px;\"/><path class=\"ygrid crisp\" transform=\"translate(0,271)\" d=\"M80,0h1297\" style=\"stroke: rgb(255, 255, 255); stroke-opacity: 1; stroke-width: 1px;\"/></g></g><g class=\"zerolinelayer\"><path class=\"yzl zl crisp\" transform=\"translate(0,157)\" d=\"M80,0h1297\" style=\"stroke: rgb(255, 255, 255); stroke-opacity: 1; stroke-width: 2px;\"/></g><g class=\"layer-between\"><g class=\"shapelayer\"/><g class=\"imagelayer\"/></g><path class=\"xlines-below\"/><path class=\"ylines-below\"/><g class=\"overlines-below\"/><g class=\"xaxislayer-below\"/><g class=\"yaxislayer-below\"/><g class=\"overaxes-below\"/><g class=\"overplot\"><g class=\"xy\" transform=\"translate(80,100)\" clip-path=\"url(#clip33d15bxyplot)\"><g class=\"heatmaplayer mlayer\"><g class=\"hm\"><image xmlns=\"http://www.w3.org/2000/svg\" preserveAspectRatio=\"none\" height=\"570\" width=\"1297\" x=\"0\" y=\"0\" xlink:href=\"data:image/png;base64,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\" style=\"opacity: 1;\"/><g class=\"heatmap-label\"><text text-anchor=\"middle\" data-notex=\"1\" x=\"43\" y=\"61.2\" style=\"font-family: 'Open Sans', verdana, arial, sans-serif; font-size: 12px; fill: rgb(68, 68, 68); fill-opacity: 1; white-space: pre;\">30.0</text></g><g class=\"heatmap-label\"><text text-anchor=\"middle\" data-notex=\"1\" x=\"130\" y=\"61.2\" style=\"font-family: 'Open Sans', verdana, arial, sans-serif; font-size: 12px; fill: rgb(68, 68, 68); fill-opacity: 1; white-space: pre;\">4</text></g><g class=\"heatmap-label\"><text text-anchor=\"middle\" data-notex=\"1\" x=\"216\" y=\"61.2\" style=\"font-family: 'Open Sans', verdana, arial, sans-serif; font-size: 12px; fill: rgb(68, 68, 68); fill-opacity: 1; white-space: pre;\">190228.0</text></g><g class=\"heatmap-label\"><text text-anchor=\"middle\" data-notex=\"1\" x=\"303\" y=\"61.2\" style=\"font-family: 'Open Sans', verdana, arial, sans-serif; font-size: 12px; fill: rgb(68, 68, 68); fill-opacity: 1; white-space: pre;\">11</text></g><g class=\"heatmap-label\"><text text-anchor=\"middle\" data-notex=\"1\" x=\"389\" y=\"61.2\" style=\"font-family: 'Open Sans', verdana, arial, sans-serif; font-size: 12px; fill: rgb(68, 68, 68); fill-opacity: 1; white-space: pre;\">9.0</text></g><g class=\"heatmap-label\"><text text-anchor=\"middle\" data-notex=\"1\" x=\"476\" y=\"61.2\" style=\"font-family: 'Open Sans', verdana, arial, sans-serif; font-size: 12px; fill: rgb(68, 68, 68); fill-opacity: 1; white-space: pre;\">2</text></g><g class=\"heatmap-label\"><text text-anchor=\"middle\" data-notex=\"1\" x=\"562\" y=\"61.2\" style=\"font-family: 'Open Sans', verdana, arial, sans-serif; font-size: 12px; fill: rgb(68, 68, 68); fill-opacity: 1; white-space: pre;\">6</text></g><g class=\"heatmap-label\"><text text-anchor=\"middle\" data-notex=\"1\" x=\"649\" y=\"61.2\" style=\"font-family: 'Open Sans', verdana, arial, sans-serif; font-size: 12px; fill: rgb(68, 68, 68); fill-opacity: 1; white-space: pre;\">0</text></g><g class=\"heatmap-label\"><text text-anchor=\"middle\" data-notex=\"1\" x=\"735\" y=\"61.2\" style=\"font-family: 'Open Sans', verdana, arial, sans-serif; font-size: 12px; fill: rgb(68, 68, 68); fill-opacity: 1; white-space: pre;\">4</text></g><g class=\"heatmap-label\"><text text-anchor=\"middle\" data-notex=\"1\" x=\"821\" y=\"61.2\" style=\"font-family: 'Open Sans', verdana, arial, sans-serif; font-size: 12px; fill: rgb(68, 68, 68); fill-opacity: 1; white-space: pre;\">1</text></g><g class=\"heatmap-label\"><text text-anchor=\"middle\" data-notex=\"1\" x=\"908\" y=\"61.2\" style=\"font-family: 'Open Sans', verdana, arial, sans-serif; font-size: 12px; fill: rgb(68, 68, 68); fill-opacity: 1; white-space: pre;\">0.0</text></g><g class=\"heatmap-label\"><text text-anchor=\"middle\" data-notex=\"1\" x=\"994\" y=\"61.2\" style=\"font-family: 'Open Sans', verdana, arial, sans-serif; font-size: 12px; fill: rgb(68, 68, 68); fill-opacity: 1; white-space: pre;\">0.0</text></g><g class=\"heatmap-label\"><text text-anchor=\"middle\" data-notex=\"1\" x=\"1081\" y=\"61.2\" style=\"font-family: 'Open Sans', verdana, arial, sans-serif; font-size: 12px; fill: rgb(68, 68, 68); fill-opacity: 1; white-space: pre;\">40.0</text></g><g class=\"heatmap-label\"><text text-anchor=\"middle\" data-notex=\"1\" x=\"1167\" y=\"61.2\" style=\"font-family: 'Open Sans', verdana, arial, sans-serif; font-size: 12px; fill: rgb(68, 68, 68); fill-opacity: 1; white-space: pre;\">39</text></g><g class=\"heatmap-label\"><text text-anchor=\"middle\" data-notex=\"1\" x=\"1254\" y=\"61.2\" style=\"font-family: 'Open Sans', verdana, arial, sans-serif; font-size: 12px; fill: rgb(68, 68, 68); fill-opacity: 1; white-space: pre;\">1</text></g><g class=\"heatmap-label\"><text text-anchor=\"middle\" data-notex=\"1\" x=\"43\" y=\"175.2\" style=\"font-family: 'Open Sans', verdana, arial, sans-serif; font-size: 12px; fill: rgb(68, 68, 68); fill-opacity: 1; white-space: pre;\">25.0</text></g><g class=\"heatmap-label\"><text text-anchor=\"middle\" data-notex=\"1\" x=\"130\" y=\"175.2\" style=\"font-family: 'Open Sans', verdana, arial, sans-serif; font-size: 12px; fill: rgb(68, 68, 68); fill-opacity: 1; white-space: pre;\">4</text></g><g class=\"heatmap-label\"><text text-anchor=\"middle\" data-notex=\"1\" x=\"216\" y=\"175.2\" style=\"font-family: 'Open Sans', verdana, arial, sans-serif; font-size: 12px; fill: rgb(68, 68, 68); fill-opacity: 1; white-space: pre;\">218667.0</text></g><g class=\"heatmap-label\"><text text-anchor=\"middle\" data-notex=\"1\" x=\"303\" y=\"175.2\" style=\"font-family: 'Open Sans', verdana, arial, sans-serif; font-size: 12px; fill: rgb(68, 68, 68); fill-opacity: 1; white-space: pre;\">11</text></g><g class=\"heatmap-label\"><text text-anchor=\"middle\" data-notex=\"1\" x=\"389\" y=\"175.2\" style=\"font-family: 'Open Sans', verdana, arial, sans-serif; font-size: 12px; fill: rgb(68, 68, 68); fill-opacity: 1; white-space: pre;\">9.0</text></g><g class=\"heatmap-label\"><text text-anchor=\"middle\" data-notex=\"1\" x=\"476\" y=\"175.2\" style=\"font-family: 'Open Sans', verdana, arial, sans-serif; font-size: 12px; fill: rgb(68, 68, 68); fill-opacity: 1; white-space: pre;\">2</text></g><g class=\"heatmap-label\"><text text-anchor=\"middle\" data-notex=\"1\" x=\"562\" y=\"175.2\" style=\"font-family: 'Open Sans', verdana, arial, sans-serif; font-size: 12px; fill: rgb(68, 68, 68); fill-opacity: 1; white-space: pre;\">6</text></g><g class=\"heatmap-label\"><text text-anchor=\"middle\" data-notex=\"1\" x=\"649\" y=\"175.2\" style=\"font-family: 'Open Sans', verdana, arial, sans-serif; font-size: 12px; fill: rgb(68, 68, 68); fill-opacity: 1; white-space: pre;\">0</text></g><g class=\"heatmap-label\"><text text-anchor=\"middle\" data-notex=\"1\" x=\"735\" y=\"175.2\" style=\"font-family: 'Open Sans', verdana, arial, sans-serif; font-size: 12px; fill: rgb(68, 68, 68); fill-opacity: 1; white-space: pre;\">4</text></g><g class=\"heatmap-label\"><text text-anchor=\"middle\" data-notex=\"1\" x=\"821\" y=\"175.2\" style=\"font-family: 'Open Sans', verdana, arial, sans-serif; font-size: 12px; fill: rgb(68, 68, 68); fill-opacity: 1; white-space: pre;\">1</text></g><g class=\"heatmap-label\"><text text-anchor=\"middle\" data-notex=\"1\" x=\"908\" y=\"175.2\" style=\"font-family: 'Open Sans', verdana, arial, sans-serif; font-size: 12px; fill: rgb(68, 68, 68); fill-opacity: 1; white-space: pre;\">0.0</text></g><g class=\"heatmap-label\"><text text-anchor=\"middle\" data-notex=\"1\" x=\"994\" y=\"175.2\" style=\"font-family: 'Open Sans', verdana, arial, sans-serif; font-size: 12px; fill: rgb(68, 68, 68); fill-opacity: 1; white-space: pre;\">0.0</text></g><g class=\"heatmap-label\"><text text-anchor=\"middle\" data-notex=\"1\" x=\"1081\" y=\"175.2\" style=\"font-family: 'Open Sans', verdana, arial, sans-serif; font-size: 12px; fill: rgb(68, 68, 68); fill-opacity: 1; white-space: pre;\">40.0</text></g><g class=\"heatmap-label\"><text text-anchor=\"middle\" data-notex=\"1\" x=\"1167\" y=\"175.2\" style=\"font-family: 'Open Sans', verdana, arial, sans-serif; font-size: 12px; fill: rgb(68, 68, 68); fill-opacity: 1; white-space: pre;\">39</text></g><g class=\"heatmap-label\"><text text-anchor=\"middle\" data-notex=\"1\" x=\"1254\" y=\"175.2\" style=\"font-family: 'Open Sans', verdana, arial, sans-serif; font-size: 12px; fill: rgb(68, 68, 68); fill-opacity: 1; white-space: pre;\">1</text></g><g class=\"heatmap-label\"><text text-anchor=\"middle\" data-notex=\"1\" x=\"43\" y=\"289.2\" style=\"font-family: 'Open Sans', verdana, arial, sans-serif; font-size: 12px; fill: rgb(255, 255, 255); fill-opacity: 1; white-space: pre;\">36.0</text></g><g class=\"heatmap-label\"><text text-anchor=\"middle\" data-notex=\"1\" x=\"130\" y=\"289.2\" style=\"font-family: 'Open Sans', verdana, arial, sans-serif; font-size: 12px; fill: rgb(68, 68, 68); fill-opacity: 1; white-space: pre;\">4</text></g><g class=\"heatmap-label\"><text text-anchor=\"middle\" data-notex=\"1\" x=\"216\" y=\"289.2\" style=\"font-family: 'Open Sans', verdana, arial, sans-serif; font-size: 12px; fill: rgb(68, 68, 68); fill-opacity: 1; white-space: pre;\">209629.0</text></g><g class=\"heatmap-label\"><text text-anchor=\"middle\" data-notex=\"1\" x=\"303\" y=\"289.2\" style=\"font-family: 'Open Sans', verdana, arial, sans-serif; font-size: 12px; fill: rgb(68, 68, 68); fill-opacity: 1; white-space: pre;\">11</text></g><g class=\"heatmap-label\"><text text-anchor=\"middle\" data-notex=\"1\" x=\"389\" y=\"289.2\" style=\"font-family: 'Open Sans', verdana, arial, sans-serif; font-size: 12px; fill: rgb(68, 68, 68); fill-opacity: 1; white-space: pre;\">9.0</text></g><g class=\"heatmap-label\"><text text-anchor=\"middle\" data-notex=\"1\" x=\"476\" y=\"289.2\" style=\"font-family: 'Open Sans', verdana, arial, sans-serif; font-size: 12px; fill: rgb(68, 68, 68); fill-opacity: 1; white-space: pre;\">2</text></g><g class=\"heatmap-label\"><text text-anchor=\"middle\" data-notex=\"1\" x=\"562\" y=\"289.2\" style=\"font-family: 'Open Sans', verdana, arial, sans-serif; font-size: 12px; fill: rgb(68, 68, 68); fill-opacity: 1; white-space: pre;\">7</text></g><g class=\"heatmap-label\"><text text-anchor=\"middle\" data-notex=\"1\" x=\"649\" y=\"289.2\" style=\"font-family: 'Open Sans', verdana, arial, sans-serif; font-size: 12px; fill: rgb(68, 68, 68); fill-opacity: 1; white-space: pre;\">0</text></g><g class=\"heatmap-label\"><text text-anchor=\"middle\" data-notex=\"1\" x=\"735\" y=\"289.2\" style=\"font-family: 'Open Sans', verdana, arial, sans-serif; font-size: 12px; fill: rgb(68, 68, 68); fill-opacity: 1; white-space: pre;\">4</text></g><g class=\"heatmap-label\"><text text-anchor=\"middle\" data-notex=\"1\" x=\"821\" y=\"289.2\" style=\"font-family: 'Open Sans', verdana, arial, sans-serif; font-size: 12px; fill: rgb(68, 68, 68); fill-opacity: 1; white-space: pre;\">1</text></g><g class=\"heatmap-label\"><text text-anchor=\"middle\" data-notex=\"1\" x=\"908\" y=\"289.2\" style=\"font-family: 'Open Sans', verdana, arial, sans-serif; font-size: 12px; fill: rgb(255, 255, 255); fill-opacity: 1; white-space: pre;\">0.0</text></g><g class=\"heatmap-label\"><text text-anchor=\"middle\" data-notex=\"1\" x=\"994\" y=\"289.2\" style=\"font-family: 'Open Sans', verdana, arial, sans-serif; font-size: 12px; fill: rgb(255, 255, 255); fill-opacity: 1; white-space: pre;\">0.0</text></g><g class=\"heatmap-label\"><text text-anchor=\"middle\" data-notex=\"1\" x=\"1081\" y=\"289.2\" style=\"font-family: 'Open Sans', verdana, arial, sans-serif; font-size: 12px; fill: rgb(68, 68, 68); fill-opacity: 1; white-space: pre;\">40.0</text></g><g class=\"heatmap-label\"><text text-anchor=\"middle\" data-notex=\"1\" x=\"1167\" y=\"289.2\" style=\"font-family: 'Open Sans', verdana, arial, sans-serif; font-size: 12px; fill: rgb(68, 68, 68); fill-opacity: 1; white-space: pre;\">39</text></g><g class=\"heatmap-label\"><text text-anchor=\"middle\" data-notex=\"1\" x=\"1254\" y=\"289.2\" style=\"font-family: 'Open Sans', verdana, arial, sans-serif; font-size: 12px; fill: rgb(68, 68, 68); fill-opacity: 1; white-space: pre;\">1</text></g><g class=\"heatmap-label\"><text text-anchor=\"middle\" data-notex=\"1\" x=\"43\" y=\"403.2\" style=\"font-family: 'Open Sans', verdana, arial, sans-serif; font-size: 12px; fill: rgb(68, 68, 68); fill-opacity: 1; white-space: pre;\">25.0</text></g><g class=\"heatmap-label\"><text text-anchor=\"middle\" data-notex=\"1\" x=\"130\" y=\"403.2\" style=\"font-family: 'Open Sans', verdana, arial, sans-serif; font-size: 12px; fill: rgb(68, 68, 68); fill-opacity: 1; white-space: pre;\">4</text></g><g class=\"heatmap-label\"><text text-anchor=\"middle\" data-notex=\"1\" x=\"216\" y=\"403.2\" style=\"font-family: 'Open Sans', verdana, arial, sans-serif; font-size: 12px; fill: rgb(68, 68, 68); fill-opacity: 1; white-space: pre;\">236267.0</text></g><g class=\"heatmap-label\"><text text-anchor=\"middle\" data-notex=\"1\" x=\"303\" y=\"403.2\" style=\"font-family: 'Open Sans', verdana, arial, sans-serif; font-size: 12px; fill: rgb(68, 68, 68); fill-opacity: 1; white-space: pre;\">11</text></g><g class=\"heatmap-label\"><text text-anchor=\"middle\" data-notex=\"1\" x=\"389\" y=\"403.2\" style=\"font-family: 'Open Sans', verdana, arial, sans-serif; font-size: 12px; fill: rgb(68, 68, 68); fill-opacity: 1; white-space: pre;\">9.0</text></g><g class=\"heatmap-label\"><text text-anchor=\"middle\" data-notex=\"1\" x=\"476\" y=\"403.2\" style=\"font-family: 'Open Sans', verdana, arial, sans-serif; font-size: 12px; fill: rgb(68, 68, 68); fill-opacity: 1; white-space: pre;\">2</text></g><g class=\"heatmap-label\"><text text-anchor=\"middle\" data-notex=\"1\" x=\"562\" y=\"403.2\" style=\"font-family: 'Open Sans', verdana, arial, sans-serif; font-size: 12px; fill: rgb(68, 68, 68); fill-opacity: 1; white-space: pre;\">6</text></g><g class=\"heatmap-label\"><text text-anchor=\"middle\" data-notex=\"1\" x=\"649\" y=\"403.2\" style=\"font-family: 'Open Sans', verdana, arial, sans-serif; font-size: 12px; fill: rgb(68, 68, 68); fill-opacity: 1; white-space: pre;\">0</text></g><g class=\"heatmap-label\"><text text-anchor=\"middle\" data-notex=\"1\" x=\"735\" y=\"403.2\" style=\"font-family: 'Open Sans', verdana, arial, sans-serif; font-size: 12px; fill: rgb(68, 68, 68); fill-opacity: 1; white-space: pre;\">4</text></g><g class=\"heatmap-label\"><text text-anchor=\"middle\" data-notex=\"1\" x=\"821\" y=\"403.2\" style=\"font-family: 'Open Sans', verdana, arial, sans-serif; font-size: 12px; fill: rgb(68, 68, 68); fill-opacity: 1; white-space: pre;\">1</text></g><g class=\"heatmap-label\"><text text-anchor=\"middle\" data-notex=\"1\" x=\"908\" y=\"403.2\" style=\"font-family: 'Open Sans', verdana, arial, sans-serif; font-size: 12px; fill: rgb(68, 68, 68); fill-opacity: 1; white-space: pre;\">0.0</text></g><g class=\"heatmap-label\"><text text-anchor=\"middle\" data-notex=\"1\" x=\"994\" y=\"403.2\" style=\"font-family: 'Open Sans', verdana, arial, sans-serif; font-size: 12px; fill: rgb(68, 68, 68); fill-opacity: 1; white-space: pre;\">0.0</text></g><g class=\"heatmap-label\"><text text-anchor=\"middle\" data-notex=\"1\" x=\"1081\" y=\"403.2\" style=\"font-family: 'Open Sans', verdana, arial, sans-serif; font-size: 12px; fill: rgb(68, 68, 68); fill-opacity: 1; white-space: pre;\">40.0</text></g><g class=\"heatmap-label\"><text text-anchor=\"middle\" data-notex=\"1\" x=\"1167\" y=\"403.2\" style=\"font-family: 'Open Sans', verdana, arial, sans-serif; font-size: 12px; fill: rgb(68, 68, 68); fill-opacity: 1; white-space: pre;\">39</text></g><g class=\"heatmap-label\"><text text-anchor=\"middle\" data-notex=\"1\" x=\"1254\" y=\"403.2\" style=\"font-family: 'Open Sans', verdana, arial, sans-serif; font-size: 12px; fill: rgb(68, 68, 68); fill-opacity: 1; white-space: pre;\">1</text></g><g class=\"heatmap-label\"><text text-anchor=\"middle\" data-notex=\"1\" x=\"43\" y=\"517.2\" style=\"font-family: 'Open Sans', verdana, arial, sans-serif; font-size: 12px; fill: rgb(255, 255, 255); fill-opacity: 1; white-space: pre;\">20.0</text></g><g class=\"heatmap-label\"><text text-anchor=\"middle\" data-notex=\"1\" x=\"130\" y=\"517.2\" style=\"font-family: 'Open Sans', verdana, arial, sans-serif; font-size: 12px; fill: rgb(68, 68, 68); fill-opacity: 1; white-space: pre;\">0</text></g><g class=\"heatmap-label\"><text text-anchor=\"middle\" data-notex=\"1\" x=\"216\" y=\"517.2\" style=\"font-family: 'Open Sans', verdana, arial, sans-serif; font-size: 12px; fill: rgb(68, 68, 68); fill-opacity: 1; white-space: pre;\">201766.0</text></g><g class=\"heatmap-label\"><text text-anchor=\"middle\" data-notex=\"1\" x=\"303\" y=\"517.2\" style=\"font-family: 'Open Sans', verdana, arial, sans-serif; font-size: 12px; fill: rgb(68, 68, 68); fill-opacity: 1; white-space: pre;\">15</text></g><g class=\"heatmap-label\"><text text-anchor=\"middle\" data-notex=\"1\" x=\"389\" y=\"517.2\" style=\"font-family: 'Open Sans', verdana, arial, sans-serif; font-size: 12px; fill: rgb(68, 68, 68); fill-opacity: 1; white-space: pre;\">10.0</text></g><g class=\"heatmap-label\"><text text-anchor=\"middle\" data-notex=\"1\" x=\"476\" y=\"517.2\" style=\"font-family: 'Open Sans', verdana, arial, sans-serif; font-size: 12px; fill: rgb(68, 68, 68); fill-opacity: 1; white-space: pre;\">4</text></g><g class=\"heatmap-label\"><text text-anchor=\"middle\" data-notex=\"1\" x=\"562\" y=\"517.2\" style=\"font-family: 'Open Sans', verdana, arial, sans-serif; font-size: 12px; fill: rgb(68, 68, 68); fill-opacity: 1; white-space: pre;\">0</text></g><g class=\"heatmap-label\"><text text-anchor=\"middle\" data-notex=\"1\" x=\"649\" y=\"517.2\" style=\"font-family: 'Open Sans', verdana, arial, sans-serif; font-size: 12px; fill: rgb(255, 255, 255); fill-opacity: 1; white-space: pre;\">3</text></g><g class=\"heatmap-label\"><text text-anchor=\"middle\" data-notex=\"1\" x=\"735\" y=\"517.2\" style=\"font-family: 'Open Sans', verdana, arial, sans-serif; font-size: 12px; fill: rgb(68, 68, 68); fill-opacity: 1; white-space: pre;\">4</text></g><g class=\"heatmap-label\"><text text-anchor=\"middle\" data-notex=\"1\" x=\"821\" y=\"517.2\" style=\"font-family: 'Open Sans', verdana, arial, sans-serif; font-size: 12px; fill: rgb(68, 68, 68); fill-opacity: 1; white-space: pre;\">0</text></g><g class=\"heatmap-label\"><text text-anchor=\"middle\" data-notex=\"1\" x=\"908\" y=\"517.2\" style=\"font-family: 'Open Sans', verdana, arial, sans-serif; font-size: 12px; fill: rgb(68, 68, 68); fill-opacity: 1; white-space: pre;\">0.0</text></g><g class=\"heatmap-label\"><text text-anchor=\"middle\" data-notex=\"1\" x=\"994\" y=\"517.2\" style=\"font-family: 'Open Sans', verdana, arial, sans-serif; font-size: 12px; fill: rgb(68, 68, 68); fill-opacity: 1; white-space: pre;\">0.0</text></g><g class=\"heatmap-label\"><text text-anchor=\"middle\" data-notex=\"1\" x=\"1081\" y=\"517.2\" style=\"font-family: 'Open Sans', verdana, arial, sans-serif; font-size: 12px; fill: rgb(68, 68, 68); fill-opacity: 1; white-space: pre;\">35.0</text></g><g class=\"heatmap-label\"><text text-anchor=\"middle\" data-notex=\"1\" x=\"1167\" y=\"517.2\" style=\"font-family: 'Open Sans', verdana, arial, sans-serif; font-size: 12px; fill: rgb(68, 68, 68); fill-opacity: 1; white-space: pre;\">39</text></g><g class=\"heatmap-label\"><text text-anchor=\"middle\" data-notex=\"1\" x=\"1254\" y=\"517.2\" style=\"font-family: 'Open Sans', verdana, arial, sans-serif; font-size: 12px; fill: rgb(68, 68, 68); fill-opacity: 1; white-space: pre;\">1</text></g></g></g></g></g><path class=\"xlines-above crisp\" d=\"M0,0\" style=\"fill: none;\"/><path class=\"ylines-above crisp\" d=\"M0,0\" style=\"fill: none;\"/><g class=\"overlines-above\"/><g class=\"xaxislayer-above\"><g class=\"xtick\"><text text-anchor=\"middle\" x=\"0\" y=\"683\" transform=\"translate(123.22999999999999,0)\" style=\"font-family: 'Open Sans', verdana, arial, sans-serif; font-size: 12px; fill: rgb(42, 63, 95); fill-opacity: 1; white-space: pre; opacity: 1;\">age</text></g><g class=\"xtick\"><text text-anchor=\"middle\" x=\"0\" y=\"683\" transform=\"translate(209.7,0)\" style=\"font-family: 'Open Sans', verdana, arial, sans-serif; font-size: 12px; fill: rgb(42, 63, 95); fill-opacity: 1; white-space: pre; opacity: 1;\">workclass</text></g><g class=\"xtick\"><text text-anchor=\"middle\" x=\"0\" y=\"683\" transform=\"translate(296.16999999999996,0)\" style=\"font-family: 'Open Sans', verdana, arial, sans-serif; font-size: 12px; fill: rgb(42, 63, 95); fill-opacity: 1; white-space: pre; opacity: 1;\">fnlwgt</text></g><g class=\"xtick\"><text text-anchor=\"middle\" x=\"0\" y=\"683\" transform=\"translate(382.63,0)\" style=\"font-family: 'Open Sans', verdana, arial, sans-serif; font-size: 12px; fill: rgb(42, 63, 95); fill-opacity: 1; white-space: pre; opacity: 1;\">education</text></g><g class=\"xtick\"><text text-anchor=\"middle\" x=\"0\" y=\"683\" transform=\"translate(469.1,0)\" style=\"font-family: 'Open Sans', verdana, arial, sans-serif; font-size: 12px; fill: rgb(42, 63, 95); fill-opacity: 1; white-space: pre; opacity: 1;\">education-num</text></g><g class=\"xtick\"><text text-anchor=\"middle\" x=\"0\" y=\"683\" transform=\"translate(555.5699999999999,0)\" style=\"font-family: 'Open Sans', verdana, arial, sans-serif; font-size: 12px; fill: rgb(42, 63, 95); fill-opacity: 1; white-space: pre; opacity: 1;\">marital-status</text></g><g class=\"xtick\"><text text-anchor=\"middle\" x=\"0\" y=\"683\" transform=\"translate(642.03,0)\" style=\"font-family: 'Open Sans', verdana, arial, sans-serif; font-size: 12px; fill: rgb(42, 63, 95); fill-opacity: 1; white-space: pre; opacity: 1;\">occupation</text></g><g class=\"xtick\"><text text-anchor=\"middle\" x=\"0\" y=\"683\" transform=\"translate(728.5,0)\" style=\"font-family: 'Open Sans', verdana, arial, sans-serif; font-size: 12px; fill: rgb(42, 63, 95); fill-opacity: 1; white-space: pre; opacity: 1;\">relationship</text></g><g class=\"xtick\"><text text-anchor=\"middle\" x=\"0\" y=\"683\" transform=\"translate(814.97,0)\" style=\"font-family: 'Open Sans', verdana, arial, sans-serif; font-size: 12px; fill: rgb(42, 63, 95); fill-opacity: 1; white-space: pre; opacity: 1;\">race</text></g><g class=\"xtick\"><text text-anchor=\"middle\" x=\"0\" y=\"683\" transform=\"translate(901.43,0)\" style=\"font-family: 'Open Sans', verdana, arial, sans-serif; font-size: 12px; fill: rgb(42, 63, 95); fill-opacity: 1; white-space: pre; opacity: 1;\">sex</text></g><g class=\"xtick\"><text text-anchor=\"middle\" x=\"0\" y=\"683\" transform=\"translate(987.9,0)\" style=\"font-family: 'Open Sans', verdana, arial, sans-serif; font-size: 12px; fill: rgb(42, 63, 95); fill-opacity: 1; white-space: pre; opacity: 1;\">capital-gain</text></g><g class=\"xtick\"><text text-anchor=\"middle\" x=\"0\" y=\"683\" transform=\"translate(1074.37,0)\" style=\"font-family: 'Open Sans', verdana, arial, sans-serif; font-size: 12px; fill: rgb(42, 63, 95); fill-opacity: 1; white-space: pre; opacity: 1;\">capital-loss</text></g><g class=\"xtick\"><text text-anchor=\"middle\" x=\"0\" y=\"683\" transform=\"translate(1160.83,0)\" style=\"font-family: 'Open Sans', verdana, arial, sans-serif; font-size: 12px; fill: rgb(42, 63, 95); fill-opacity: 1; white-space: pre; opacity: 1;\">hours-per-week</text></g><g class=\"xtick\"><text text-anchor=\"middle\" x=\"0\" y=\"683\" transform=\"translate(1247.3,0)\" style=\"font-family: 'Open Sans', verdana, arial, sans-serif; font-size: 12px; fill: rgb(42, 63, 95); fill-opacity: 1; white-space: pre; opacity: 1;\">native-country</text></g><g class=\"xtick\"><text text-anchor=\"middle\" x=\"0\" y=\"683\" transform=\"translate(1333.77,0)\" style=\"font-family: 'Open Sans', verdana, arial, sans-serif; font-size: 12px; fill: rgb(42, 63, 95); fill-opacity: 1; white-space: pre; opacity: 1;\">target</text></g></g><g class=\"yaxislayer-above\"><g class=\"ytick\"><text text-anchor=\"end\" x=\"79\" y=\"4.199999999999999\" transform=\"translate(0,613)\" style=\"font-family: 'Open Sans', verdana, arial, sans-serif; font-size: 12px; fill: rgb(42, 63, 95); fill-opacity: 1; white-space: pre; opacity: 1;\">4</text></g><g class=\"ytick\"><text text-anchor=\"end\" x=\"79\" y=\"4.199999999999999\" style=\"font-family: 'Open Sans', verdana, arial, sans-serif; font-size: 12px; fill: rgb(42, 63, 95); fill-opacity: 1; white-space: pre; opacity: 1;\" transform=\"translate(0,499)\">3</text></g><g class=\"ytick\"><text text-anchor=\"end\" x=\"79\" y=\"4.199999999999999\" style=\"font-family: 'Open Sans', verdana, arial, sans-serif; font-size: 12px; fill: rgb(42, 63, 95); fill-opacity: 1; white-space: pre; opacity: 1;\" transform=\"translate(0,385)\">2</text></g><g class=\"ytick\"><text text-anchor=\"end\" x=\"79\" y=\"4.199999999999999\" style=\"font-family: 'Open Sans', verdana, arial, sans-serif; font-size: 12px; fill: rgb(42, 63, 95); fill-opacity: 1; white-space: pre; opacity: 1;\" transform=\"translate(0,271)\">1</text></g><g class=\"ytick\"><text text-anchor=\"end\" x=\"79\" y=\"4.199999999999999\" style=\"font-family: 'Open Sans', verdana, arial, sans-serif; font-size: 12px; fill: rgb(42, 63, 95); fill-opacity: 1; white-space: pre; opacity: 1;\" transform=\"translate(0,157)\">0</text></g></g><g class=\"overaxes-above\"/></g></g><g class=\"polarlayer\"/><g class=\"smithlayer\"/><g class=\"ternarylayer\"/><g class=\"geolayer\"/><g class=\"funnelarealayer\"/><g class=\"pielayer\"/><g class=\"iciclelayer\"/><g class=\"treemaplayer\"/><g class=\"sunburstlayer\"/><g class=\"glimages\"/><defs id=\"topdefs-33d15b\"><g class=\"clips\"/></defs><g class=\"layer-above\"><g class=\"imagelayer\"/><g class=\"shapelayer\"/></g><g class=\"infolayer\"><g class=\"cbcoloraxis colorbar\" transform=\"translate(80,100)\"><rect class=\"cbbg\" x=\"1323\" y=\"0\" width=\"85.314453125\" height=\"570\" style=\"fill: rgb(0, 0, 0); fill-opacity: 0; stroke: rgb(68, 68, 68); stroke-opacity: 1; stroke-width: 0;\"/><g class=\"cbfills\" transform=\"translate(0,31)\"><rect class=\"cbfill gradient_filled\" style=\"fill: url('#g33d15b-cbcoloraxis');\" x=\"1333\" y=\"0\" width=\"30\" height=\"529\"/></g><g class=\"cblines\" transform=\"translate(0,31)\"/><g class=\"cbaxis crisp\" transform=\"translate(0,-100)\"><g class=\"ycbcoloraxistick\"><text text-anchor=\"start\" x=\"1365.9\" y=\"4.199999999999999\" transform=\"translate(0,660)\" style=\"font-family: 'Open Sans', verdana, arial, sans-serif; font-size: 12px; fill: rgb(42, 63, 95); fill-opacity: 1; white-space: pre; opacity: 1;\">0</text></g><g class=\"ycbcoloraxistick\"><text text-anchor=\"start\" x=\"1365.9\" y=\"4.199999999999999\" style=\"font-family: 'Open Sans', verdana, arial, sans-serif; font-size: 12px; fill: rgb(42, 63, 95); fill-opacity: 1; white-space: pre; opacity: 1;\" transform=\"translate(0,607.1)\">0.5</text></g><g class=\"ycbcoloraxistick\"><text text-anchor=\"start\" x=\"1365.9\" y=\"4.199999999999999\" style=\"font-family: 'Open Sans', verdana, arial, sans-serif; font-size: 12px; fill: rgb(42, 63, 95); fill-opacity: 1; white-space: pre; opacity: 1;\" transform=\"translate(0,554.2)\">1</text></g><g class=\"ycbcoloraxistick\"><text text-anchor=\"start\" x=\"1365.9\" y=\"4.199999999999999\" style=\"font-family: 'Open Sans', verdana, arial, sans-serif; font-size: 12px; fill: rgb(42, 63, 95); fill-opacity: 1; white-space: pre; opacity: 1;\" transform=\"translate(0,501.30000000000007)\">1.5</text></g><g class=\"ycbcoloraxistick\"><text text-anchor=\"start\" x=\"1365.9\" y=\"4.199999999999999\" style=\"font-family: 'Open Sans', verdana, arial, sans-serif; font-size: 12px; fill: rgb(42, 63, 95); fill-opacity: 1; white-space: pre; opacity: 1;\" transform=\"translate(0,448.4)\">2</text></g><g class=\"ycbcoloraxistick\"><text text-anchor=\"start\" x=\"1365.9\" y=\"4.199999999999999\" style=\"font-family: 'Open Sans', verdana, arial, sans-serif; font-size: 12px; fill: rgb(42, 63, 95); fill-opacity: 1; white-space: pre; opacity: 1;\" transform=\"translate(0,395.5)\">2.5</text></g><g class=\"ycbcoloraxistick\"><text text-anchor=\"start\" x=\"1365.9\" y=\"4.199999999999999\" style=\"font-family: 'Open Sans', verdana, arial, sans-serif; font-size: 12px; fill: rgb(42, 63, 95); fill-opacity: 1; white-space: pre; opacity: 1;\" transform=\"translate(0,342.6)\">3</text></g><g class=\"ycbcoloraxistick\"><text text-anchor=\"start\" x=\"1365.9\" y=\"4.199999999999999\" style=\"font-family: 'Open Sans', verdana, arial, sans-serif; font-size: 12px; fill: rgb(42, 63, 95); fill-opacity: 1; white-space: pre; opacity: 1;\" transform=\"translate(0,289.70000000000005)\">3.5</text></g><g class=\"ycbcoloraxistick\"><text text-anchor=\"start\" x=\"1365.9\" y=\"4.199999999999999\" style=\"font-family: 'Open Sans', verdana, arial, sans-serif; font-size: 12px; fill: rgb(42, 63, 95); fill-opacity: 1; white-space: pre; opacity: 1;\" transform=\"translate(0,236.8)\">4</text></g><g class=\"ycbcoloraxistick\"><text text-anchor=\"start\" x=\"1365.9\" y=\"4.199999999999999\" style=\"font-family: 'Open Sans', verdana, arial, sans-serif; font-size: 12px; fill: rgb(42, 63, 95); fill-opacity: 1; white-space: pre; opacity: 1;\" transform=\"translate(0,183.90000000000003)\">4.5</text></g><g class=\"ycbcoloraxistick\"><text text-anchor=\"start\" x=\"1365.9\" y=\"4.199999999999999\" style=\"font-family: 'Open Sans', verdana, arial, sans-serif; font-size: 12px; fill: rgb(42, 63, 95); fill-opacity: 1; white-space: pre; opacity: 1;\" transform=\"translate(0,131.00000000000003)\">≥5</text></g></g><g class=\"cbtitleunshift\" transform=\"translate(-80,-100)\"><g class=\"cbtitle\" transform=\"\"><text class=\"ycbcoloraxistitle\" x=\"1412.94\" y=\"123.5\" text-anchor=\"start\" style=\"opacity: 1; font-family: 'Open Sans', verdana, arial, sans-serif; font-size: 14px; fill: rgb(42, 63, 95); fill-opacity: 1; white-space: pre;\">Conviction</text></g></g><rect class=\"cboutline\" x=\"1333\" y=\"31\" width=\"30\" height=\"529\" style=\"stroke: rgb(68, 68, 68); stroke-opacity: 1; fill: none; stroke-width: 0;\"/></g><g class=\"g-gtitle\"><text class=\"gtitle\" x=\"75\" y=\"50\" text-anchor=\"start\" dy=\"0em\" style=\"opacity: 1; font-family: 'Open Sans', verdana, arial, sans-serif; font-size: 17px; fill: rgb(42, 63, 95); fill-opacity: 1; white-space: pre;\">Anomalies</text></g><g class=\"g-xtitle\"><text class=\"xtitle\" x=\"728.5\" y=\"710.3\" text-anchor=\"middle\" style=\"opacity: 1; font-family: 'Open Sans', verdana, arial, sans-serif; font-size: 14px; fill: rgb(42, 63, 95); fill-opacity: 1; white-space: pre;\">Feature</text></g><g class=\"g-ytitle\"/></g></svg>"
      ]
     },
     "metadata": {},
     "output_type": "display_data"
    }
   ],
   "source": [
    "fig = plot_anomalies(inliers, inlier_case_feature_residual_convictions)\n",
    "fig.show(width=1500, height=750)"
   ]
  },
  {
   "attachments": {},
   "cell_type": "markdown",
   "metadata": {},
   "source": [
    "This chart is viewed similarly to the outliers chart, however we are now examining cases that are too similar. We can see that for several cases, most features show high `feature_residual_conviction`, indicating that that feature can very easily predicted using the other features. This indicates that all these feature values are unusually predictable compared to the rest of the cases in the model."
   ]
  },
  {
   "attachments": {},
   "cell_type": "markdown",
   "metadata": {},
   "source": [
    "# Section 4: Additional Ideas\n",
    "\n",
    "Here we detail some additional examples methods of diving deeper into the possible anomalies detected above."
   ]
  },
  {
   "cell_type": "code",
   "execution_count": 12,
   "metadata": {
    "execution": {
     "iopub.execute_input": "2025-10-25T13:46:01.490580Z",
     "iopub.status.busy": "2025-10-25T13:46:01.490375Z",
     "iopub.status.idle": "2025-10-25T13:46:01.495880Z",
     "shell.execute_reply": "2025-10-25T13:46:01.495128Z"
    }
   },
   "outputs": [],
   "source": [
    "# Helper functions\n",
    "\n",
    "def case_explain_residuals_ratio(anomalous_df, case_feature_residual_convictions, case_ind, num_features=5):\n",
    "    \"\"\"Inspect a single case and identify which of its features are particularly anomalous.\"\"\"\n",
    "    case = anomalous_df.iloc[case_ind, : ]\n",
    "    case_num = case['.session_training_index']\n",
    "    case_df = pd.concat([case, case_feature_residual_convictions.iloc[case_ind, :]], axis=1)\n",
    "    case_df = case_df.loc[df.columns]\n",
    "    case_df.columns = ['values', 'feature_full_residual_convictions_for_case']\n",
    "    case_df = case_df.sort_values(['feature_full_residual_convictions_for_case'], ascending=True)\n",
    "    print(f'key features which caused case {case_num} to be anomalous: {case_df.head().index.tolist()}')\n",
    "    print('')\n",
    "    display(case_df.head())\n",
    "\n",
    "def get_cases(anomalous_df, results, case_ind):\n",
    "    \"\"\"Inspect a single anomalous case and display its influential and boundary cases.\"\"\"\n",
    "    case = anomalous_df.iloc[case_ind, :]\n",
    "    inf_cases = pd.DataFrame(results['details']['influential_cases'][case_ind])\n",
    "\n",
    "    print('Original Case:')\n",
    "    display(case)\n",
    "    print('')\n",
    "\n",
    "    print('Influential Cases:')\n",
    "    display(inf_cases)\n",
    "    print('')"
   ]
  },
  {
   "attachments": {},
   "cell_type": "markdown",
   "metadata": {},
   "source": [
    "We can print out a more detailed view of the Outlier Residual Conviction chart shown earlier."
   ]
  },
  {
   "cell_type": "code",
   "execution_count": 13,
   "metadata": {
    "execution": {
     "iopub.execute_input": "2025-10-25T13:46:01.497705Z",
     "iopub.status.busy": "2025-10-25T13:46:01.497484Z",
     "iopub.status.idle": "2025-10-25T13:46:01.510704Z",
     "shell.execute_reply": "2025-10-25T13:46:01.509901Z"
    }
   },
   "outputs": [
    {
     "name": "stdout",
     "output_type": "stream",
     "text": [
      "key features which caused case 540 to be anomalous: ['education-num', 'native-country', 'race', 'sex', 'occupation']\n",
      "\n"
     ]
    },
    {
     "data": {
      "text/html": [
       "<div>\n",
       "<style scoped>\n",
       "    .dataframe tbody tr th:only-of-type {\n",
       "        vertical-align: middle;\n",
       "    }\n",
       "\n",
       "    .dataframe tbody tr th {\n",
       "        vertical-align: top;\n",
       "    }\n",
       "\n",
       "    .dataframe thead th {\n",
       "        text-align: right;\n",
       "    }\n",
       "</style>\n",
       "<table border=\"1\" class=\"dataframe\">\n",
       "  <thead>\n",
       "    <tr style=\"text-align: right;\">\n",
       "      <th></th>\n",
       "      <th>values</th>\n",
       "      <th>feature_full_residual_convictions_for_case</th>\n",
       "    </tr>\n",
       "  </thead>\n",
       "  <tbody>\n",
       "    <tr>\n",
       "      <th>education-num</th>\n",
       "      <td>1.0</td>\n",
       "      <td>0.095337</td>\n",
       "    </tr>\n",
       "    <tr>\n",
       "      <th>native-country</th>\n",
       "      <td>26</td>\n",
       "      <td>0.199318</td>\n",
       "    </tr>\n",
       "    <tr>\n",
       "      <th>race</th>\n",
       "      <td>4</td>\n",
       "      <td>0.248699</td>\n",
       "    </tr>\n",
       "    <tr>\n",
       "      <th>sex</th>\n",
       "      <td>1</td>\n",
       "      <td>0.484980</td>\n",
       "    </tr>\n",
       "    <tr>\n",
       "      <th>occupation</th>\n",
       "      <td>5</td>\n",
       "      <td>0.792667</td>\n",
       "    </tr>\n",
       "  </tbody>\n",
       "</table>\n",
       "</div>"
      ],
      "text/plain": [
       "               values  feature_full_residual_convictions_for_case\n",
       "education-num     1.0                                    0.095337\n",
       "native-country     26                                    0.199318\n",
       "race                4                                    0.248699\n",
       "sex                 1                                    0.484980\n",
       "occupation          5                                    0.792667"
      ]
     },
     "metadata": {},
     "output_type": "display_data"
    },
    {
     "name": "stdout",
     "output_type": "stream",
     "text": [
      "_____________\n",
      "key features which caused case 732 to be anomalous: ['education-num', 'native-country', 'race', 'sex', 'occupation']\n",
      "\n"
     ]
    },
    {
     "data": {
      "text/html": [
       "<div>\n",
       "<style scoped>\n",
       "    .dataframe tbody tr th:only-of-type {\n",
       "        vertical-align: middle;\n",
       "    }\n",
       "\n",
       "    .dataframe tbody tr th {\n",
       "        vertical-align: top;\n",
       "    }\n",
       "\n",
       "    .dataframe thead th {\n",
       "        text-align: right;\n",
       "    }\n",
       "</style>\n",
       "<table border=\"1\" class=\"dataframe\">\n",
       "  <thead>\n",
       "    <tr style=\"text-align: right;\">\n",
       "      <th></th>\n",
       "      <th>values</th>\n",
       "      <th>feature_full_residual_convictions_for_case</th>\n",
       "    </tr>\n",
       "  </thead>\n",
       "  <tbody>\n",
       "    <tr>\n",
       "      <th>education-num</th>\n",
       "      <td>1.0</td>\n",
       "      <td>0.008849</td>\n",
       "    </tr>\n",
       "    <tr>\n",
       "      <th>native-country</th>\n",
       "      <td>25</td>\n",
       "      <td>0.199318</td>\n",
       "    </tr>\n",
       "    <tr>\n",
       "      <th>race</th>\n",
       "      <td>1</td>\n",
       "      <td>0.248617</td>\n",
       "    </tr>\n",
       "    <tr>\n",
       "      <th>sex</th>\n",
       "      <td>0</td>\n",
       "      <td>0.249330</td>\n",
       "    </tr>\n",
       "    <tr>\n",
       "      <th>occupation</th>\n",
       "      <td>8</td>\n",
       "      <td>0.855347</td>\n",
       "    </tr>\n",
       "  </tbody>\n",
       "</table>\n",
       "</div>"
      ],
      "text/plain": [
       "               values  feature_full_residual_convictions_for_case\n",
       "education-num     1.0                                    0.008849\n",
       "native-country     25                                    0.199318\n",
       "race                1                                    0.248617\n",
       "sex                 0                                    0.249330\n",
       "occupation          8                                    0.855347"
      ]
     },
     "metadata": {},
     "output_type": "display_data"
    },
    {
     "name": "stdout",
     "output_type": "stream",
     "text": [
      "_____________\n"
     ]
    }
   ],
   "source": [
    "# Print out the explanations for outliers\n",
    "for i in range(2):\n",
    "    case_explain_residuals_ratio(\n",
    "        outliers,\n",
    "        outlier_case_feature_residual_convictions,\n",
    "        i\n",
    "    )\n",
    "    print('_____________')"
   ]
  },
  {
   "attachments": {},
   "cell_type": "markdown",
   "metadata": {},
   "source": [
    "## Influential cases\n",
    "\n",
    "[Influential Cases](https://docs.howso.com/en/release-latest/getting_started/terminology.html#influential-cases) may also provide additional clues into potentially anomalous data. If a case's influential cases do not well represent itself, then this indicates there are no cases in the model that well represent the anomalous cases.\n"
   ]
  },
  {
   "cell_type": "code",
   "execution_count": 14,
   "metadata": {
    "execution": {
     "iopub.execute_input": "2025-10-25T13:46:01.512411Z",
     "iopub.status.busy": "2025-10-25T13:46:01.512221Z",
     "iopub.status.idle": "2025-10-25T13:46:01.534135Z",
     "shell.execute_reply": "2025-10-25T13:46:01.533419Z"
    }
   },
   "outputs": [
    {
     "name": "stdout",
     "output_type": "stream",
     "text": [
      "Original Case:\n"
     ]
    },
    {
     "data": {
      "text/plain": [
       "age                                                                30.0\n",
       "workclass                                                             4\n",
       "fnlwgt                                                         193598.0\n",
       "education                                                            13\n",
       "education-num                                                       1.0\n",
       "marital-status                                                        4\n",
       "occupation                                                            5\n",
       "relationship                                                          1\n",
       "race                                                                  4\n",
       "sex                                                                   1\n",
       "capital-gain                                                        0.0\n",
       "capital-loss                                                        0.0\n",
       "hours-per-week                                                     40.0\n",
       "native-country                                                       26\n",
       "target                                                                1\n",
       "familiarity_conviction_addition                                0.020019\n",
       ".session_training_index                                             540\n",
       ".session                           913a8894-a0e9-4430-9a8e-11de4697c69d\n",
       "distance_contribution                                        306.265156\n",
       "category                                                        outlier\n",
       "Name: 0, dtype: object"
      ]
     },
     "metadata": {},
     "output_type": "display_data"
    },
    {
     "name": "stdout",
     "output_type": "stream",
     "text": [
      "\n",
      "Influential Cases:\n"
     ]
    },
    {
     "data": {
      "text/html": [
       "<div>\n",
       "<style scoped>\n",
       "    .dataframe tbody tr th:only-of-type {\n",
       "        vertical-align: middle;\n",
       "    }\n",
       "\n",
       "    .dataframe tbody tr th {\n",
       "        vertical-align: top;\n",
       "    }\n",
       "\n",
       "    .dataframe thead th {\n",
       "        text-align: right;\n",
       "    }\n",
       "</style>\n",
       "<table border=\"1\" class=\"dataframe\">\n",
       "  <thead>\n",
       "    <tr style=\"text-align: right;\">\n",
       "      <th></th>\n",
       "      <th>sex</th>\n",
       "      <th>age</th>\n",
       "      <th>education</th>\n",
       "      <th>capital-loss</th>\n",
       "      <th>capital-gain</th>\n",
       "      <th>relationship</th>\n",
       "      <th>.influence_weight</th>\n",
       "      <th>target</th>\n",
       "      <th>workclass</th>\n",
       "      <th>hours-per-week</th>\n",
       "      <th>education-num</th>\n",
       "      <th>marital-status</th>\n",
       "      <th>race</th>\n",
       "      <th>fnlwgt</th>\n",
       "      <th>.session</th>\n",
       "      <th>.session_training_index</th>\n",
       "      <th>native-country</th>\n",
       "      <th>occupation</th>\n",
       "    </tr>\n",
       "  </thead>\n",
       "  <tbody>\n",
       "    <tr>\n",
       "      <th>0</th>\n",
       "      <td>1</td>\n",
       "      <td>32</td>\n",
       "      <td>11</td>\n",
       "      <td>0</td>\n",
       "      <td>0</td>\n",
       "      <td>0</td>\n",
       "      <td>0.526602</td>\n",
       "      <td>1</td>\n",
       "      <td>4</td>\n",
       "      <td>40</td>\n",
       "      <td>9</td>\n",
       "      <td>2</td>\n",
       "      <td>4</td>\n",
       "      <td>173449</td>\n",
       "      <td>913a8894-a0e9-4430-9a8e-11de4697c69d</td>\n",
       "      <td>510</td>\n",
       "      <td>39</td>\n",
       "      <td>6</td>\n",
       "    </tr>\n",
       "    <tr>\n",
       "      <th>1</th>\n",
       "      <td>1</td>\n",
       "      <td>31</td>\n",
       "      <td>11</td>\n",
       "      <td>0</td>\n",
       "      <td>0</td>\n",
       "      <td>0</td>\n",
       "      <td>0.157386</td>\n",
       "      <td>1</td>\n",
       "      <td>4</td>\n",
       "      <td>42</td>\n",
       "      <td>9</td>\n",
       "      <td>2</td>\n",
       "      <td>4</td>\n",
       "      <td>96245</td>\n",
       "      <td>913a8894-a0e9-4430-9a8e-11de4697c69d</td>\n",
       "      <td>604</td>\n",
       "      <td>39</td>\n",
       "      <td>6</td>\n",
       "    </tr>\n",
       "    <tr>\n",
       "      <th>2</th>\n",
       "      <td>1</td>\n",
       "      <td>33</td>\n",
       "      <td>11</td>\n",
       "      <td>0</td>\n",
       "      <td>0</td>\n",
       "      <td>0</td>\n",
       "      <td>0.122871</td>\n",
       "      <td>1</td>\n",
       "      <td>4</td>\n",
       "      <td>40</td>\n",
       "      <td>9</td>\n",
       "      <td>2</td>\n",
       "      <td>4</td>\n",
       "      <td>269705</td>\n",
       "      <td>913a8894-a0e9-4430-9a8e-11de4697c69d</td>\n",
       "      <td>407</td>\n",
       "      <td>39</td>\n",
       "      <td>6</td>\n",
       "    </tr>\n",
       "    <tr>\n",
       "      <th>3</th>\n",
       "      <td>1</td>\n",
       "      <td>25</td>\n",
       "      <td>11</td>\n",
       "      <td>0</td>\n",
       "      <td>0</td>\n",
       "      <td>0</td>\n",
       "      <td>0.108620</td>\n",
       "      <td>1</td>\n",
       "      <td>4</td>\n",
       "      <td>40</td>\n",
       "      <td>9</td>\n",
       "      <td>2</td>\n",
       "      <td>4</td>\n",
       "      <td>218667</td>\n",
       "      <td>913a8894-a0e9-4430-9a8e-11de4697c69d</td>\n",
       "      <td>881</td>\n",
       "      <td>39</td>\n",
       "      <td>6</td>\n",
       "    </tr>\n",
       "    <tr>\n",
       "      <th>4</th>\n",
       "      <td>1</td>\n",
       "      <td>25</td>\n",
       "      <td>11</td>\n",
       "      <td>0</td>\n",
       "      <td>0</td>\n",
       "      <td>0</td>\n",
       "      <td>0.084522</td>\n",
       "      <td>1</td>\n",
       "      <td>4</td>\n",
       "      <td>40</td>\n",
       "      <td>9</td>\n",
       "      <td>2</td>\n",
       "      <td>4</td>\n",
       "      <td>236267</td>\n",
       "      <td>913a8894-a0e9-4430-9a8e-11de4697c69d</td>\n",
       "      <td>269</td>\n",
       "      <td>39</td>\n",
       "      <td>6</td>\n",
       "    </tr>\n",
       "  </tbody>\n",
       "</table>\n",
       "</div>"
      ],
      "text/plain": [
       "   sex  age  education  capital-loss  capital-gain  relationship  \\\n",
       "0    1   32         11             0             0             0   \n",
       "1    1   31         11             0             0             0   \n",
       "2    1   33         11             0             0             0   \n",
       "3    1   25         11             0             0             0   \n",
       "4    1   25         11             0             0             0   \n",
       "\n",
       "   .influence_weight  target  workclass  hours-per-week  education-num  \\\n",
       "0           0.526602       1          4              40              9   \n",
       "1           0.157386       1          4              42              9   \n",
       "2           0.122871       1          4              40              9   \n",
       "3           0.108620       1          4              40              9   \n",
       "4           0.084522       1          4              40              9   \n",
       "\n",
       "   marital-status  race  fnlwgt                              .session  \\\n",
       "0               2     4  173449  913a8894-a0e9-4430-9a8e-11de4697c69d   \n",
       "1               2     4   96245  913a8894-a0e9-4430-9a8e-11de4697c69d   \n",
       "2               2     4  269705  913a8894-a0e9-4430-9a8e-11de4697c69d   \n",
       "3               2     4  218667  913a8894-a0e9-4430-9a8e-11de4697c69d   \n",
       "4               2     4  236267  913a8894-a0e9-4430-9a8e-11de4697c69d   \n",
       "\n",
       "   .session_training_index  native-country  occupation  \n",
       "0                      510              39           6  \n",
       "1                      604              39           6  \n",
       "2                      407              39           6  \n",
       "3                      881              39           6  \n",
       "4                      269              39           6  "
      ]
     },
     "metadata": {},
     "output_type": "display_data"
    },
    {
     "name": "stdout",
     "output_type": "stream",
     "text": [
      "\n",
      "_____________\n",
      "Original Case:\n"
     ]
    },
    {
     "data": {
      "text/plain": [
       "age                                                                23.0\n",
       "workclass                                                             4\n",
       "fnlwgt                                                         240049.0\n",
       "education                                                            13\n",
       "education-num                                                       1.0\n",
       "marital-status                                                        4\n",
       "occupation                                                            8\n",
       "relationship                                                          1\n",
       "race                                                                  1\n",
       "sex                                                                   0\n",
       "capital-gain                                                        0.0\n",
       "capital-loss                                                        0.0\n",
       "hours-per-week                                                     40.0\n",
       "native-country                                                       25\n",
       "target                                                                1\n",
       "familiarity_conviction_addition                                0.023356\n",
       ".session_training_index                                             732\n",
       ".session                           913a8894-a0e9-4430-9a8e-11de4697c69d\n",
       "distance_contribution                                        280.379224\n",
       "category                                                        outlier\n",
       "Name: 1, dtype: object"
      ]
     },
     "metadata": {},
     "output_type": "display_data"
    },
    {
     "name": "stdout",
     "output_type": "stream",
     "text": [
      "\n",
      "Influential Cases:\n"
     ]
    },
    {
     "data": {
      "text/html": [
       "<div>\n",
       "<style scoped>\n",
       "    .dataframe tbody tr th:only-of-type {\n",
       "        vertical-align: middle;\n",
       "    }\n",
       "\n",
       "    .dataframe tbody tr th {\n",
       "        vertical-align: top;\n",
       "    }\n",
       "\n",
       "    .dataframe thead th {\n",
       "        text-align: right;\n",
       "    }\n",
       "</style>\n",
       "<table border=\"1\" class=\"dataframe\">\n",
       "  <thead>\n",
       "    <tr style=\"text-align: right;\">\n",
       "      <th></th>\n",
       "      <th>sex</th>\n",
       "      <th>age</th>\n",
       "      <th>education</th>\n",
       "      <th>capital-loss</th>\n",
       "      <th>capital-gain</th>\n",
       "      <th>relationship</th>\n",
       "      <th>.influence_weight</th>\n",
       "      <th>target</th>\n",
       "      <th>workclass</th>\n",
       "      <th>hours-per-week</th>\n",
       "      <th>education-num</th>\n",
       "      <th>marital-status</th>\n",
       "      <th>race</th>\n",
       "      <th>fnlwgt</th>\n",
       "      <th>.session</th>\n",
       "      <th>.session_training_index</th>\n",
       "      <th>native-country</th>\n",
       "      <th>occupation</th>\n",
       "    </tr>\n",
       "  </thead>\n",
       "  <tbody>\n",
       "    <tr>\n",
       "      <th>0</th>\n",
       "      <td>1</td>\n",
       "      <td>25</td>\n",
       "      <td>11</td>\n",
       "      <td>0</td>\n",
       "      <td>0</td>\n",
       "      <td>0</td>\n",
       "      <td>0.832923</td>\n",
       "      <td>1</td>\n",
       "      <td>4</td>\n",
       "      <td>40</td>\n",
       "      <td>9</td>\n",
       "      <td>2</td>\n",
       "      <td>4</td>\n",
       "      <td>236267</td>\n",
       "      <td>913a8894-a0e9-4430-9a8e-11de4697c69d</td>\n",
       "      <td>269</td>\n",
       "      <td>39</td>\n",
       "      <td>6</td>\n",
       "    </tr>\n",
       "    <tr>\n",
       "      <th>1</th>\n",
       "      <td>1</td>\n",
       "      <td>30</td>\n",
       "      <td>11</td>\n",
       "      <td>0</td>\n",
       "      <td>0</td>\n",
       "      <td>0</td>\n",
       "      <td>0.118074</td>\n",
       "      <td>1</td>\n",
       "      <td>4</td>\n",
       "      <td>40</td>\n",
       "      <td>9</td>\n",
       "      <td>2</td>\n",
       "      <td>4</td>\n",
       "      <td>190228</td>\n",
       "      <td>913a8894-a0e9-4430-9a8e-11de4697c69d</td>\n",
       "      <td>198</td>\n",
       "      <td>39</td>\n",
       "      <td>6</td>\n",
       "    </tr>\n",
       "    <tr>\n",
       "      <th>2</th>\n",
       "      <td>1</td>\n",
       "      <td>32</td>\n",
       "      <td>11</td>\n",
       "      <td>0</td>\n",
       "      <td>0</td>\n",
       "      <td>0</td>\n",
       "      <td>0.027818</td>\n",
       "      <td>1</td>\n",
       "      <td>4</td>\n",
       "      <td>40</td>\n",
       "      <td>9</td>\n",
       "      <td>2</td>\n",
       "      <td>4</td>\n",
       "      <td>173449</td>\n",
       "      <td>913a8894-a0e9-4430-9a8e-11de4697c69d</td>\n",
       "      <td>510</td>\n",
       "      <td>39</td>\n",
       "      <td>6</td>\n",
       "    </tr>\n",
       "    <tr>\n",
       "      <th>3</th>\n",
       "      <td>1</td>\n",
       "      <td>33</td>\n",
       "      <td>11</td>\n",
       "      <td>0</td>\n",
       "      <td>0</td>\n",
       "      <td>0</td>\n",
       "      <td>0.013421</td>\n",
       "      <td>1</td>\n",
       "      <td>4</td>\n",
       "      <td>40</td>\n",
       "      <td>9</td>\n",
       "      <td>2</td>\n",
       "      <td>4</td>\n",
       "      <td>269705</td>\n",
       "      <td>913a8894-a0e9-4430-9a8e-11de4697c69d</td>\n",
       "      <td>407</td>\n",
       "      <td>39</td>\n",
       "      <td>6</td>\n",
       "    </tr>\n",
       "    <tr>\n",
       "      <th>4</th>\n",
       "      <td>1</td>\n",
       "      <td>31</td>\n",
       "      <td>11</td>\n",
       "      <td>0</td>\n",
       "      <td>0</td>\n",
       "      <td>0</td>\n",
       "      <td>0.007763</td>\n",
       "      <td>1</td>\n",
       "      <td>4</td>\n",
       "      <td>42</td>\n",
       "      <td>9</td>\n",
       "      <td>2</td>\n",
       "      <td>4</td>\n",
       "      <td>96245</td>\n",
       "      <td>913a8894-a0e9-4430-9a8e-11de4697c69d</td>\n",
       "      <td>604</td>\n",
       "      <td>39</td>\n",
       "      <td>6</td>\n",
       "    </tr>\n",
       "  </tbody>\n",
       "</table>\n",
       "</div>"
      ],
      "text/plain": [
       "   sex  age  education  capital-loss  capital-gain  relationship  \\\n",
       "0    1   25         11             0             0             0   \n",
       "1    1   30         11             0             0             0   \n",
       "2    1   32         11             0             0             0   \n",
       "3    1   33         11             0             0             0   \n",
       "4    1   31         11             0             0             0   \n",
       "\n",
       "   .influence_weight  target  workclass  hours-per-week  education-num  \\\n",
       "0           0.832923       1          4              40              9   \n",
       "1           0.118074       1          4              40              9   \n",
       "2           0.027818       1          4              40              9   \n",
       "3           0.013421       1          4              40              9   \n",
       "4           0.007763       1          4              42              9   \n",
       "\n",
       "   marital-status  race  fnlwgt                              .session  \\\n",
       "0               2     4  236267  913a8894-a0e9-4430-9a8e-11de4697c69d   \n",
       "1               2     4  190228  913a8894-a0e9-4430-9a8e-11de4697c69d   \n",
       "2               2     4  173449  913a8894-a0e9-4430-9a8e-11de4697c69d   \n",
       "3               2     4  269705  913a8894-a0e9-4430-9a8e-11de4697c69d   \n",
       "4               2     4   96245  913a8894-a0e9-4430-9a8e-11de4697c69d   \n",
       "\n",
       "   .session_training_index  native-country  occupation  \n",
       "0                      269              39           6  \n",
       "1                      198              39           6  \n",
       "2                      510              39           6  \n",
       "3                      407              39           6  \n",
       "4                      604              39           6  "
      ]
     },
     "metadata": {},
     "output_type": "display_data"
    },
    {
     "name": "stdout",
     "output_type": "stream",
     "text": [
      "\n",
      "_____________\n"
     ]
    }
   ],
   "source": [
    "# Print influential and boundary case outliers\n",
    "for i in range(2):\n",
    "    get_cases(outliers, results, i)\n",
    "    print('_____________')"
   ]
  }
 ],
 "metadata": {
  "kernelspec": {
   "display_name": "engine_rec_312",
   "language": "python",
   "name": "python3"
  },
  "language_info": {
   "codemirror_mode": {
    "name": "ipython",
    "version": 3
   },
   "file_extension": ".py",
   "mimetype": "text/x-python",
   "name": "python",
   "nbconvert_exporter": "python",
   "pygments_lexer": "ipython3",
   "version": "3.10.18"
  }
 },
 "nbformat": 4,
 "nbformat_minor": 4
}
