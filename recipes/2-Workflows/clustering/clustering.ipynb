{
 "cells": [
  {
   "attachments": {},
   "cell_type": "markdown",
   "id": "ebe74b50-bacd-4e2b-bfe1-bf96093b7e4b",
   "metadata": {},
   "source": [
    "# Clustering With Howso Engine\n",
    "\n",
    "## Overview\n",
    "\n",
    "This example notebook will demonstrate Howso Engine’s ability to calculate pairwise distances for the training cases. This capability is based on Howso Engine’s underlying instance-based learning platform. Distances can be used for a variety of use cases, in particular, for clustering algorithms, such as HDBSCAN. Howso Engine’s feature reduction capabilities will also be used to demonstrate how to eliminate features for clustering. "
   ]
  },
  {
   "cell_type": "code",
   "execution_count": 1,
   "id": "cf84ccaa-16e7-430a-8e9d-1300082c0cc8",
   "metadata": {
    "execution": {
     "iopub.execute_input": "2025-07-30T15:12:23.821157Z",
     "iopub.status.busy": "2025-07-30T15:12:23.820963Z",
     "iopub.status.idle": "2025-07-30T15:12:28.869562Z",
     "shell.execute_reply": "2025-07-30T15:12:28.868888Z"
    }
   },
   "outputs": [],
   "source": [
    "import numpy as np\n",
    "import pandas as pd\n",
    "from plotly.subplots import make_subplots\n",
    "from sklearn.cluster import HDBSCAN\n",
    "from sklearn.datasets import make_blobs\n",
    "from sklearn.metrics import adjusted_rand_score\n",
    "\n",
    "from howso import engine\n",
    "from howso.utilities import infer_feature_attributes\n",
    "from howso.visuals import plot_umap"
   ]
  },
  {
   "attachments": {},
   "cell_type": "markdown",
   "id": "0d2145d5-cdca-4871-b521-e2ab44779a13",
   "metadata": {},
   "source": [
    "### Step 1: Generate a simple dataset with noise\n",
    "\n",
    "A 2-D blob is generated along with an extra noise column. The noise column is used to demonstrate feature reduction.\n"
   ]
  },
  {
   "cell_type": "code",
   "execution_count": 2,
   "id": "1109d7a6-ed86-4c20-868c-037a654019c1",
   "metadata": {
    "execution": {
     "iopub.execute_input": "2025-07-30T15:12:28.872222Z",
     "iopub.status.busy": "2025-07-30T15:12:28.871906Z",
     "iopub.status.idle": "2025-07-30T15:12:28.878259Z",
     "shell.execute_reply": "2025-07-30T15:12:28.877701Z"
    }
   },
   "outputs": [],
   "source": [
    "blobs = make_blobs(n_samples=100, n_features=2, centers=[(1,0), (1,5), (10,2)], random_state=0)\n",
    "df = pd.DataFrame(blobs[0], columns=['x', 'y'])\n",
    "df['target'] = blobs[1]\n",
    "\n",
    "# Noise\n",
    "noise = np.random.uniform(df['y'].min(), df['y'].max(), len(df))\n",
    "df['noise'] = noise"
   ]
  },
  {
   "cell_type": "markdown",
   "id": "ae92fd65",
   "metadata": {},
   "source": [
    "### Step 2: Create the Trainee, Train, and Analyze\n",
    "\n",
    "For questions about the specific steps of this section, please see the [basic workflow guide](https://docs.howso.com/en/release-latest/user_guide/basic_capabilities/basic_workflow.html)."
   ]
  },
  {
   "cell_type": "code",
   "execution_count": 3,
   "id": "4bbffb11",
   "metadata": {
    "execution": {
     "iopub.execute_input": "2025-07-30T15:12:28.880015Z",
     "iopub.status.busy": "2025-07-30T15:12:28.879829Z",
     "iopub.status.idle": "2025-07-30T15:12:29.710840Z",
     "shell.execute_reply": "2025-07-30T15:12:29.710179Z"
    }
   },
   "outputs": [],
   "source": [
    "# Infer feature attributes\n",
    "features = infer_feature_attributes(df)\n",
    "\n",
    "# Specify Context and Action Features\n",
    "action_features = ['target']\n",
    "\n",
    "context_features = features.get_names(without=action_features)\n",
    "\n",
    "# Create the Trainee\n",
    "t = engine.Trainee(features=features, overwrite_existing=True)\n",
    "\n",
    "# Train\n",
    "t.train(df)\n",
    "\n",
    "# Targeted Analysis\n",
    "t.analyze(context_features=context_features, action_features=action_features)"
   ]
  },
  {
   "cell_type": "markdown",
   "id": "3bd32650",
   "metadata": {},
   "source": [
    "### Step 3: Inspect Feature Importance\n",
    "\n",
    "In this example, since we have a target feature, we can inspect the [Accuracy Contributions](https://docs.howso.com/en/release-latest/getting_started/terminology.html#accuracy-contributions-ac) (a form of MDA) to understand how important each feature is."
   ]
  },
  {
   "cell_type": "markdown",
   "id": "08225f81",
   "metadata": {},
   "source": []
  },
  {
   "cell_type": "code",
   "execution_count": 4,
   "id": "5798d564",
   "metadata": {
    "execution": {
     "iopub.execute_input": "2025-07-30T15:12:29.713542Z",
     "iopub.status.busy": "2025-07-30T15:12:29.713345Z",
     "iopub.status.idle": "2025-07-30T15:12:33.032039Z",
     "shell.execute_reply": "2025-07-30T15:12:33.031433Z"
    }
   },
   "outputs": [
    {
     "data": {
      "text/html": [
       "<div>\n",
       "<style scoped>\n",
       "    .dataframe tbody tr th:only-of-type {\n",
       "        vertical-align: middle;\n",
       "    }\n",
       "\n",
       "    .dataframe tbody tr th {\n",
       "        vertical-align: top;\n",
       "    }\n",
       "\n",
       "    .dataframe thead th {\n",
       "        text-align: right;\n",
       "    }\n",
       "</style>\n",
       "<table border=\"1\" class=\"dataframe\">\n",
       "  <thead>\n",
       "    <tr style=\"text-align: right;\">\n",
       "      <th></th>\n",
       "      <th>x</th>\n",
       "      <th>noise</th>\n",
       "      <th>y</th>\n",
       "    </tr>\n",
       "  </thead>\n",
       "  <tbody>\n",
       "    <tr>\n",
       "      <th>feature_robust_accuracy_contributions</th>\n",
       "      <td>0.257297</td>\n",
       "      <td>-0.061519</td>\n",
       "      <td>0.329391</td>\n",
       "    </tr>\n",
       "    <tr>\n",
       "      <th>feature_robust_directional_prediction_contributions</th>\n",
       "      <td>0.228104</td>\n",
       "      <td>-0.148326</td>\n",
       "      <td>0.305838</td>\n",
       "    </tr>\n",
       "    <tr>\n",
       "      <th>feature_robust_prediction_contributions</th>\n",
       "      <td>0.251209</td>\n",
       "      <td>0.151499</td>\n",
       "      <td>0.327958</td>\n",
       "    </tr>\n",
       "  </tbody>\n",
       "</table>\n",
       "</div>"
      ],
      "text/plain": [
       "                                                           x     noise  \\\n",
       "feature_robust_accuracy_contributions               0.257297 -0.061519   \n",
       "feature_robust_directional_prediction_contribut...  0.228104 -0.148326   \n",
       "feature_robust_prediction_contributions             0.251209  0.151499   \n",
       "\n",
       "                                                           y  \n",
       "feature_robust_accuracy_contributions               0.329391  \n",
       "feature_robust_directional_prediction_contribut...  0.305838  \n",
       "feature_robust_prediction_contributions             0.327958  "
      ]
     },
     "execution_count": 4,
     "metadata": {},
     "output_type": "execute_result"
    }
   ],
   "source": [
<<<<<<< HEAD
    "robust_feature_influences = pd.DataFrame(t.react_aggregate(\n",
=======
    "robust_feature_influences = t.react_aggregate(\n",
>>>>>>> e061323 (save)
    "    context_features=context_features,\n",
    "    feature_influences_action_feature=action_features[0],\n",
    "    details={\n",
    "        \"feature_robust_prediction_contributions\": True,\n",
    "        \"feature_robust_accuracy_contributions\": True\n",
    "    }\n",
    ")).T\n",
    "# Robust Accuracy Contributions are returned as a matrix, the result must be edited to\n",
    "# view the contributions of the target feature in a row as the other metrics.\n",
    "robust_feature_influences.loc[\"feature_robust_accuracy_contributions\", :] = robust_feature_influences.loc[\"feature_robust_accuracy_contributions\", \"target\"]\n",
    "robust_feature_influences.drop(['target'], axis=1, inplace=True)\n",
    "robust_feature_influences"
   ]
  },
  {
   "cell_type": "markdown",
   "id": "ced04228",
   "metadata": {},
   "source": [
    "We can see that the noise column not only contributes less to the prediction than the other variables, but it also marginally increases (and perhaps lowers) the accuracy. This is expected from the noise column and demonstrates how unimportant features can be highlighted with Howso Engine."
   ]
  },
  {
   "cell_type": "markdown",
   "id": "6e6e4365",
   "metadata": {},
   "source": [
    "### Step 4: Remove Unuseful Features\n",
    "\n",
    "Unuseful features like the noise feature can reduce the quality of the clustering so we will remove them in this example. Howso Engine allows use to easily remove the features from the Trainee."
   ]
  },
  {
   "cell_type": "code",
   "execution_count": 5,
   "id": "9522f0fb",
   "metadata": {
    "execution": {
     "iopub.execute_input": "2025-07-30T15:12:33.034125Z",
     "iopub.status.busy": "2025-07-30T15:12:33.033880Z",
     "iopub.status.idle": "2025-07-30T15:12:33.610098Z",
     "shell.execute_reply": "2025-07-30T15:12:33.609402Z"
    }
   },
   "outputs": [],
   "source": [
    "# Remove the noise feature\n",
    "t.remove_feature('noise')\n",
    "\n",
    "# update context_features\n",
    "context_features.remove('noise')\n",
    "\n",
    "# Reanalyze with the remaining features\n",
    "t.analyze(context_features=context_features, action_features=action_features)"
   ]
  },
  {
   "attachments": {},
   "cell_type": "markdown",
   "id": "08a8c655-4160-4437-8def-70fbbc2fc0c0",
   "metadata": {},
   "source": [
    "## Step 5: Get pairwise distances\n",
    "\n",
    "By directly using Howso Engine's pairwise distances, we can take advantage of all the benefits of Howso Engine, including the ease of preprocessing and categorical variable handling. \n",
    "\n",
    "`get_distances` returns a square matrix of distances that make up the pairwise distances from each case to each other case in the model. The distances are computing using the Howso Engine's internal distance metric which has its parameters tuned within the Analyze call. For more information about the Howso Engine's distance metric, see [<em>Surprisal Driven k-NN for Robust and Interpretable Nonparametric Learning </em> (Banerjee et. al. 2023)](https://arxiv.org/abs/2311.10246)."
   ]
  },
  {
   "cell_type": "code",
   "execution_count": 6,
   "id": "b1ae649e-525b-49e9-bb66-83b776c6c4e9",
   "metadata": {
    "execution": {
     "iopub.execute_input": "2025-07-30T15:12:33.612644Z",
     "iopub.status.busy": "2025-07-30T15:12:33.612395Z",
     "iopub.status.idle": "2025-07-30T15:12:33.637334Z",
     "shell.execute_reply": "2025-07-30T15:12:33.636785Z"
    }
   },
   "outputs": [
    {
     "data": {
      "text/html": [
       "<div>\n",
       "<style scoped>\n",
       "    .dataframe tbody tr th:only-of-type {\n",
       "        vertical-align: middle;\n",
       "    }\n",
       "\n",
       "    .dataframe tbody tr th {\n",
       "        vertical-align: top;\n",
       "    }\n",
       "\n",
       "    .dataframe thead th {\n",
       "        text-align: right;\n",
       "    }\n",
       "</style>\n",
       "<table border=\"1\" class=\"dataframe\">\n",
       "  <thead>\n",
       "    <tr style=\"text-align: right;\">\n",
       "      <th></th>\n",
       "      <th>0</th>\n",
       "      <th>1</th>\n",
       "      <th>2</th>\n",
       "      <th>3</th>\n",
       "      <th>4</th>\n",
       "      <th>5</th>\n",
       "      <th>6</th>\n",
       "      <th>7</th>\n",
       "      <th>8</th>\n",
       "      <th>9</th>\n",
       "      <th>...</th>\n",
       "      <th>90</th>\n",
       "      <th>91</th>\n",
       "      <th>92</th>\n",
       "      <th>93</th>\n",
       "      <th>94</th>\n",
       "      <th>95</th>\n",
       "      <th>96</th>\n",
       "      <th>97</th>\n",
       "      <th>98</th>\n",
       "      <th>99</th>\n",
       "    </tr>\n",
       "  </thead>\n",
       "  <tbody>\n",
       "    <tr>\n",
       "      <th>0</th>\n",
       "      <td>0.000000</td>\n",
       "      <td>9.803000</td>\n",
       "      <td>0.164121</td>\n",
       "      <td>10.414672</td>\n",
       "      <td>11.028837</td>\n",
       "      <td>2.469028</td>\n",
       "      <td>0.802422</td>\n",
       "      <td>11.507477</td>\n",
       "      <td>6.465745</td>\n",
       "      <td>3.433830</td>\n",
       "      <td>...</td>\n",
       "      <td>1.922452</td>\n",
       "      <td>6.144503</td>\n",
       "      <td>6.068732</td>\n",
       "      <td>10.415024</td>\n",
       "      <td>0.674535</td>\n",
       "      <td>7.901989</td>\n",
       "      <td>11.671084</td>\n",
       "      <td>6.051862</td>\n",
       "      <td>6.259132</td>\n",
       "      <td>6.324964</td>\n",
       "    </tr>\n",
       "    <tr>\n",
       "      <th>1</th>\n",
       "      <td>9.803000</td>\n",
       "      <td>0.000000</td>\n",
       "      <td>9.815739</td>\n",
       "      <td>2.736333</td>\n",
       "      <td>2.428968</td>\n",
       "      <td>9.516364</td>\n",
       "      <td>9.357333</td>\n",
       "      <td>2.907609</td>\n",
       "      <td>13.221080</td>\n",
       "      <td>13.236830</td>\n",
       "      <td>...</td>\n",
       "      <td>7.880547</td>\n",
       "      <td>14.947503</td>\n",
       "      <td>14.871732</td>\n",
       "      <td>3.510434</td>\n",
       "      <td>9.346842</td>\n",
       "      <td>16.704989</td>\n",
       "      <td>3.609623</td>\n",
       "      <td>14.854862</td>\n",
       "      <td>13.477523</td>\n",
       "      <td>13.979677</td>\n",
       "    </tr>\n",
       "    <tr>\n",
       "      <th>2</th>\n",
       "      <td>0.164121</td>\n",
       "      <td>9.815739</td>\n",
       "      <td>0.000000</td>\n",
       "      <td>10.578793</td>\n",
       "      <td>11.192958</td>\n",
       "      <td>2.633149</td>\n",
       "      <td>0.815162</td>\n",
       "      <td>11.671598</td>\n",
       "      <td>6.629866</td>\n",
       "      <td>3.421091</td>\n",
       "      <td>...</td>\n",
       "      <td>1.935192</td>\n",
       "      <td>6.131763</td>\n",
       "      <td>6.055993</td>\n",
       "      <td>10.579145</td>\n",
       "      <td>0.510414</td>\n",
       "      <td>7.889250</td>\n",
       "      <td>11.835205</td>\n",
       "      <td>6.159912</td>\n",
       "      <td>6.423253</td>\n",
       "      <td>6.489084</td>\n",
       "    </tr>\n",
       "    <tr>\n",
       "      <th>3</th>\n",
       "      <td>10.414672</td>\n",
       "      <td>2.736333</td>\n",
       "      <td>10.578793</td>\n",
       "      <td>0.000000</td>\n",
       "      <td>0.683537</td>\n",
       "      <td>7.945644</td>\n",
       "      <td>11.172137</td>\n",
       "      <td>1.092805</td>\n",
       "      <td>10.484747</td>\n",
       "      <td>10.703277</td>\n",
       "      <td>...</td>\n",
       "      <td>9.658861</td>\n",
       "      <td>12.211169</td>\n",
       "      <td>12.135399</td>\n",
       "      <td>0.774101</td>\n",
       "      <td>11.089207</td>\n",
       "      <td>13.968656</td>\n",
       "      <td>1.256412</td>\n",
       "      <td>12.118529</td>\n",
       "      <td>10.741190</td>\n",
       "      <td>11.243344</td>\n",
       "    </tr>\n",
       "    <tr>\n",
       "      <th>4</th>\n",
       "      <td>11.028837</td>\n",
       "      <td>2.428968</td>\n",
       "      <td>11.192958</td>\n",
       "      <td>0.683537</td>\n",
       "      <td>0.000000</td>\n",
       "      <td>8.559809</td>\n",
       "      <td>11.786301</td>\n",
       "      <td>0.839268</td>\n",
       "      <td>11.168284</td>\n",
       "      <td>11.317441</td>\n",
       "      <td>...</td>\n",
       "      <td>10.273026</td>\n",
       "      <td>12.894706</td>\n",
       "      <td>12.818936</td>\n",
       "      <td>1.457638</td>\n",
       "      <td>11.703372</td>\n",
       "      <td>14.652193</td>\n",
       "      <td>1.556827</td>\n",
       "      <td>12.802066</td>\n",
       "      <td>11.424726</td>\n",
       "      <td>11.926881</td>\n",
       "    </tr>\n",
       "    <tr>\n",
       "      <th>...</th>\n",
       "      <td>...</td>\n",
       "      <td>...</td>\n",
       "      <td>...</td>\n",
       "      <td>...</td>\n",
       "      <td>...</td>\n",
       "      <td>...</td>\n",
       "      <td>...</td>\n",
       "      <td>...</td>\n",
       "      <td>...</td>\n",
       "      <td>...</td>\n",
       "      <td>...</td>\n",
       "      <td>...</td>\n",
       "      <td>...</td>\n",
       "      <td>...</td>\n",
       "      <td>...</td>\n",
       "      <td>...</td>\n",
       "      <td>...</td>\n",
       "      <td>...</td>\n",
       "      <td>...</td>\n",
       "      <td>...</td>\n",
       "      <td>...</td>\n",
       "    </tr>\n",
       "    <tr>\n",
       "      <th>95</th>\n",
       "      <td>7.901989</td>\n",
       "      <td>16.704989</td>\n",
       "      <td>7.889250</td>\n",
       "      <td>13.968656</td>\n",
       "      <td>14.652193</td>\n",
       "      <td>8.188625</td>\n",
       "      <td>8.704411</td>\n",
       "      <td>13.812925</td>\n",
       "      <td>3.483909</td>\n",
       "      <td>5.739194</td>\n",
       "      <td>...</td>\n",
       "      <td>9.824442</td>\n",
       "      <td>1.757486</td>\n",
       "      <td>1.833257</td>\n",
       "      <td>13.194555</td>\n",
       "      <td>8.358147</td>\n",
       "      <td>0.000000</td>\n",
       "      <td>13.095366</td>\n",
       "      <td>1.850127</td>\n",
       "      <td>3.227466</td>\n",
       "      <td>2.725312</td>\n",
       "    </tr>\n",
       "    <tr>\n",
       "      <th>96</th>\n",
       "      <td>11.671084</td>\n",
       "      <td>3.609623</td>\n",
       "      <td>11.835205</td>\n",
       "      <td>1.256412</td>\n",
       "      <td>1.556827</td>\n",
       "      <td>9.202056</td>\n",
       "      <td>12.428549</td>\n",
       "      <td>0.717559</td>\n",
       "      <td>9.611457</td>\n",
       "      <td>11.959689</td>\n",
       "      <td>...</td>\n",
       "      <td>10.915273</td>\n",
       "      <td>11.337879</td>\n",
       "      <td>11.262109</td>\n",
       "      <td>1.256060</td>\n",
       "      <td>12.345619</td>\n",
       "      <td>13.095366</td>\n",
       "      <td>0.000000</td>\n",
       "      <td>11.245239</td>\n",
       "      <td>9.867899</td>\n",
       "      <td>10.370054</td>\n",
       "    </tr>\n",
       "    <tr>\n",
       "      <th>97</th>\n",
       "      <td>6.051862</td>\n",
       "      <td>14.854862</td>\n",
       "      <td>6.159912</td>\n",
       "      <td>12.118529</td>\n",
       "      <td>12.802066</td>\n",
       "      <td>6.338498</td>\n",
       "      <td>6.854284</td>\n",
       "      <td>11.962798</td>\n",
       "      <td>1.633782</td>\n",
       "      <td>6.284396</td>\n",
       "      <td>...</td>\n",
       "      <td>7.974315</td>\n",
       "      <td>0.784289</td>\n",
       "      <td>1.978548</td>\n",
       "      <td>11.344428</td>\n",
       "      <td>6.670327</td>\n",
       "      <td>1.850127</td>\n",
       "      <td>11.245239</td>\n",
       "      <td>0.000000</td>\n",
       "      <td>1.377339</td>\n",
       "      <td>0.875185</td>\n",
       "    </tr>\n",
       "    <tr>\n",
       "      <th>98</th>\n",
       "      <td>6.259132</td>\n",
       "      <td>13.477523</td>\n",
       "      <td>6.423253</td>\n",
       "      <td>10.741190</td>\n",
       "      <td>11.424726</td>\n",
       "      <td>4.961158</td>\n",
       "      <td>7.016597</td>\n",
       "      <td>10.585459</td>\n",
       "      <td>0.256442</td>\n",
       "      <td>6.547737</td>\n",
       "      <td>...</td>\n",
       "      <td>6.596975</td>\n",
       "      <td>1.469980</td>\n",
       "      <td>2.241889</td>\n",
       "      <td>9.967089</td>\n",
       "      <td>6.933667</td>\n",
       "      <td>3.227466</td>\n",
       "      <td>9.867899</td>\n",
       "      <td>1.377339</td>\n",
       "      <td>0.000000</td>\n",
       "      <td>0.502154</td>\n",
       "    </tr>\n",
       "    <tr>\n",
       "      <th>99</th>\n",
       "      <td>6.324964</td>\n",
       "      <td>13.979677</td>\n",
       "      <td>6.489084</td>\n",
       "      <td>11.243344</td>\n",
       "      <td>11.926881</td>\n",
       "      <td>5.463313</td>\n",
       "      <td>7.082428</td>\n",
       "      <td>11.087613</td>\n",
       "      <td>0.758597</td>\n",
       "      <td>6.613568</td>\n",
       "      <td>...</td>\n",
       "      <td>7.099130</td>\n",
       "      <td>1.113461</td>\n",
       "      <td>2.307720</td>\n",
       "      <td>10.469243</td>\n",
       "      <td>6.999499</td>\n",
       "      <td>2.725312</td>\n",
       "      <td>10.370054</td>\n",
       "      <td>0.875185</td>\n",
       "      <td>0.502154</td>\n",
       "      <td>0.000000</td>\n",
       "    </tr>\n",
       "  </tbody>\n",
       "</table>\n",
       "<p>100 rows × 100 columns</p>\n",
       "</div>"
      ],
      "text/plain": [
       "           0          1          2          3          4         5   \\\n",
       "0    0.000000   9.803000   0.164121  10.414672  11.028837  2.469028   \n",
       "1    9.803000   0.000000   9.815739   2.736333   2.428968  9.516364   \n",
       "2    0.164121   9.815739   0.000000  10.578793  11.192958  2.633149   \n",
       "3   10.414672   2.736333  10.578793   0.000000   0.683537  7.945644   \n",
       "4   11.028837   2.428968  11.192958   0.683537   0.000000  8.559809   \n",
       "..        ...        ...        ...        ...        ...       ...   \n",
       "95   7.901989  16.704989   7.889250  13.968656  14.652193  8.188625   \n",
       "96  11.671084   3.609623  11.835205   1.256412   1.556827  9.202056   \n",
       "97   6.051862  14.854862   6.159912  12.118529  12.802066  6.338498   \n",
       "98   6.259132  13.477523   6.423253  10.741190  11.424726  4.961158   \n",
       "99   6.324964  13.979677   6.489084  11.243344  11.926881  5.463313   \n",
       "\n",
       "           6          7          8          9   ...         90         91  \\\n",
       "0    0.802422  11.507477   6.465745   3.433830  ...   1.922452   6.144503   \n",
       "1    9.357333   2.907609  13.221080  13.236830  ...   7.880547  14.947503   \n",
       "2    0.815162  11.671598   6.629866   3.421091  ...   1.935192   6.131763   \n",
       "3   11.172137   1.092805  10.484747  10.703277  ...   9.658861  12.211169   \n",
       "4   11.786301   0.839268  11.168284  11.317441  ...  10.273026  12.894706   \n",
       "..        ...        ...        ...        ...  ...        ...        ...   \n",
       "95   8.704411  13.812925   3.483909   5.739194  ...   9.824442   1.757486   \n",
       "96  12.428549   0.717559   9.611457  11.959689  ...  10.915273  11.337879   \n",
       "97   6.854284  11.962798   1.633782   6.284396  ...   7.974315   0.784289   \n",
       "98   7.016597  10.585459   0.256442   6.547737  ...   6.596975   1.469980   \n",
       "99   7.082428  11.087613   0.758597   6.613568  ...   7.099130   1.113461   \n",
       "\n",
       "           92         93         94         95         96         97  \\\n",
       "0    6.068732  10.415024   0.674535   7.901989  11.671084   6.051862   \n",
       "1   14.871732   3.510434   9.346842  16.704989   3.609623  14.854862   \n",
       "2    6.055993  10.579145   0.510414   7.889250  11.835205   6.159912   \n",
       "3   12.135399   0.774101  11.089207  13.968656   1.256412  12.118529   \n",
       "4   12.818936   1.457638  11.703372  14.652193   1.556827  12.802066   \n",
       "..        ...        ...        ...        ...        ...        ...   \n",
       "95   1.833257  13.194555   8.358147   0.000000  13.095366   1.850127   \n",
       "96  11.262109   1.256060  12.345619  13.095366   0.000000  11.245239   \n",
       "97   1.978548  11.344428   6.670327   1.850127  11.245239   0.000000   \n",
       "98   2.241889   9.967089   6.933667   3.227466   9.867899   1.377339   \n",
       "99   2.307720  10.469243   6.999499   2.725312  10.370054   0.875185   \n",
       "\n",
       "           98         99  \n",
       "0    6.259132   6.324964  \n",
       "1   13.477523  13.979677  \n",
       "2    6.423253   6.489084  \n",
       "3   10.741190  11.243344  \n",
       "4   11.424726  11.926881  \n",
       "..        ...        ...  \n",
       "95   3.227466   2.725312  \n",
       "96   9.867899  10.370054  \n",
       "97   1.377339   0.875185  \n",
       "98   0.000000   0.502154  \n",
       "99   0.502154   0.000000  \n",
       "\n",
       "[100 rows x 100 columns]"
      ]
     },
     "execution_count": 6,
     "metadata": {},
     "output_type": "execute_result"
    }
   ],
   "source": [
    "# Pairwise distances can be obtained with a call to `get_distances`\n",
    "x = t.get_distances()\n",
    "\n",
    "x['distances']"
   ]
  },
  {
   "attachments": {},
   "cell_type": "markdown",
   "id": "d8771d70-8f09-4835-b2f1-29619bd6613b",
   "metadata": {},
   "source": [
    "## Step 6a: Cluster\n",
    "\n",
    "Having access to the full matrix of pairwise distances, users have the ability to cluster with whatever algorithm they prefer (provided it supports a matrix of precomputed pairwise distances as an input).\n",
    "\n",
    "In the case of this recipe, we demonstrate using the HDBSCAN provided through Scikit-Learn."
   ]
  },
  {
   "cell_type": "code",
   "execution_count": 7,
   "id": "ba19a548-9aa2-4ef3-b0bc-b4dcc56685d3",
   "metadata": {
    "execution": {
     "iopub.execute_input": "2025-07-30T15:12:33.639128Z",
     "iopub.status.busy": "2025-07-30T15:12:33.638934Z",
     "iopub.status.idle": "2025-07-30T15:12:37.077623Z",
     "shell.execute_reply": "2025-07-30T15:12:37.077006Z"
    }
   },
   "outputs": [
    {
     "data": {
      "application/vnd.plotly.v1+json": {
       "config": {
        "plotlyServerURL": "https://plot.ly"
       },
       "data": [
        {
         "mode": "markers",
         "name": "0",
         "type": "scatter",
         "x": {
          "bdata": "envfJqp68j97GuxcdBDxP+RDrb8hQwRACvdmy7zW8j/A+Fvxw5nmvz5ctaEATvI/gtPg9/dO3z81SDkNu9T9P+2eWD7C8AZAo2Tyo6LXAUC9xb8cdSgKQGSm4JfS6sc/dHRg2QvZ+L/WZBEp6aj/P/RKmemPM/8/XmsYV+fd5D+Ez0vKBJvjP9Ln8nnHHAZAYWRAR1MC9T8qzEa5lSrkvw6kIE5EZ9c/V6BelSEZ7z9giiwq79uov/D2AhW0wro/uLg8dGj21D916eZgbrLsPwgUSxkNpeO/vK3/lswt0L+w4RLAErq8Pwp1yOQ1Lfw/lKnC0Nth3z9znUhVEBr3P57Mprrf8wNAqyt1SG278D8=",
          "dtype": "f8"
         },
         "xaxis": "x",
         "y": {
          "bdata": "M+qQkdAz2D85FzAXs1vTPw4AbVd+gvc/he1KY8e22b/MysVCYDb/P/eF/Uu0RPc/rpK2kt7j8r/XL1zb0L/nv4KMpULcRe+/JWD+pvI88z8NOg3xFEX3v3axioHanvu/Zilvi3Hq5D9OMeNpWe0BQDaE00msX8O/7k6INj4DxD/1j82i7VjTv1OJzPosnNk/8IV+lsBU67+Jvyl3OZ7dP3r4NLkmN9e/Qs/wE8pp2z9drH66ZLj2v5r1wrECw9g/plx/Q+sC179mKWfwPkfaP6PKB9ESO8u/UxxodDPh6D943TCjV7H/v5CzkwgYJr8/Zdaoy2gJ3L/kleWQ61rVP7ZqsECgQsq/OKQZ8aP1x78=",
          "dtype": "f8"
         },
         "yaxis": "y"
        },
        {
         "mode": "markers",
         "name": "1",
         "type": "scatter",
         "x": {
          "bdata": "vpba+yNuAUCgekJdS7u3PzZAqiW4wfo/FI7M40TT+T/ud2Y/M4zTP3Dcy9tjc80/yqS2JBhV8z8c0+rJ/W/2P1IeVECts/U/XPjHqCwZ4z/oU41GoSPFv6ZeClCxEAdA0JiRYegoxr/jI0pklcX0PzlrJMTw5wNA5qbZEQIr8D9YOikbfh0BQOfiWXVac/c/HMHT2zgT4j8uEpPAwvAGQJs5lCCiw+I/bIKjT6BP0b9eedExhGznP6Cy3m0vYgdAbIAbVFvDwT/yFRvH1gX2P5iF9tK719Q/vNzw+8IH5j8YKmgRuInAP+B5fgPYHLK/QBB6+dQH8j/sjuqt8Sf/PxT/hd1aqvs/",
          "dtype": "f8"
         },
         "xaxis": "x",
         "y": {
          "bdata": "iMqpyMFHE0AgfYAsMTUUQD8Y9Kw9oRVA/x8a8lawF0A9w/szxmYTQKH4o/AwKBZAK8dGEBToF0Akw70kwUIRQEx2puqH0xZAuMv5o8jjGEDwWjNCcpoXQFIL7BjKNw1AsbTQoUTGG0DylcAaOE4ZQCWR3/hjlRtAI94YPLskG0D4mOqjEx8OQNEFxt7FtQtAvv0NZKVlG0B5CMAryp8XQBR/tjSbAhFAC47Zh6ngF0BtpSEhtzUXQArSyREM7BlAOy8rEeijG0Bo9LlbbTQPQAE1mzCYIBRAfi5QaIM5FEAkJZIIQq8RQBOFiTHCNxhA41aFGaObFUDzf74IRWETQKvInRgUhBRA",
          "dtype": "f8"
         },
         "yaxis": "y"
        },
        {
         "mode": "markers",
         "name": "2",
         "type": "scatter",
         "x": {
          "bdata": "PXURpne2IkCp0FVEjsohQIpBlnHEFiNATSUAYnK6IkBTp+FwRWAmQKzEdqGXzSNAWGKPqZNTKEDvzrFvD90jQPkRWek2JyVATi81Vh5AJUAnppEhKIslQFMCJMbj/yFAC6m8qA5qIUDG0+S4d+4hQAtZS40rxChAe+RvbNZAJkD0k0ZiQV4hQEi+yM561yVAqMFPZMHKJEAd1lgf4+sjQIAqDn2nZCJACIk2t5OMIUDeqoCAsrYlQP2G936vgiJA6nwf6+oLJUBUeHc6VlUkQLLG53sa5iVAx11gT8FKI0ASayH9frQhQBHc/+MBASNAyFW6/1eFIkDi1YLieQQhQJFPtZCiLCJA",
          "dtype": "f8"
         },
         "xaxis": "x",
         "y": {
          "bdata": "4EhQeHmYzL9iWmuG1WoAQF7+Ah3MIwBAEsT921VpBUCMaEc1GYkCQH5/p5dkYvU/aifIkDWxCkDblmIH7bQNQJTrj+zOqvw/pDS3KuN32T+uJ4tYiZYGQNAu4mh4It0/7sjxkOsiAkA+OKnT53MFQPju4kJLjgdAuhc1ejNx7T9nvR92WZ34P9jEbRXBjAJAzI3v3qMF7T94AJFi+p7qP8SU+aaa9/Q/bchMYEHBBkCCq/4vZpX1P1bjBGLoxvI/NG1aolhB/T9gEatcixQFQO3JsxBOswBAmqclJWYA5D9hoaRosP74P0LSXYCubw9ASi5ECRhYDEAYhdjL34MDQJ3EUzym7whA",
          "dtype": "f8"
         },
         "yaxis": "y"
        },
        {
         "marker": {
          "color": "#FECB52"
         },
         "mode": "markers",
         "name": "-1",
         "showlegend": false,
         "type": "scatter",
         "x": {
          "bdata": "wPhb8cOZ5r+mXgpQsRAHQL3Fvxx1KApAdHRg2QvZ+L8=",
          "dtype": "f8"
         },
         "xaxis": "x2",
         "y": {
          "bdata": "zMrFQmA2/z9SC+wYyjcNQA06DfEURfe/Zilvi3Hq5D8=",
          "dtype": "f8"
         },
         "yaxis": "y2"
        },
        {
         "marker": {
          "color": "#636efa"
         },
         "mode": "markers",
         "name": "0",
         "showlegend": false,
         "type": "scatter",
         "x": {
          "bdata": "PXURpne2IkCp0FVEjsohQIpBlnHEFiNATSUAYnK6IkBTp+FwRWAmQKzEdqGXzSNAWGKPqZNTKEDvzrFvD90jQPkRWek2JyVATi81Vh5AJUAnppEhKIslQFMCJMbj/yFAC6m8qA5qIUDG0+S4d+4hQAtZS40rxChAe+RvbNZAJkD0k0ZiQV4hQEi+yM561yVAqMFPZMHKJEAd1lgf4+sjQIAqDn2nZCJACIk2t5OMIUDeqoCAsrYlQP2G936vgiJA6nwf6+oLJUBUeHc6VlUkQLLG53sa5iVAx11gT8FKI0ASayH9frQhQBHc/+MBASNAyFW6/1eFIkDi1YLieQQhQJFPtZCiLCJA",
          "dtype": "f8"
         },
         "xaxis": "x2",
         "y": {
          "bdata": "4EhQeHmYzL9iWmuG1WoAQF7+Ah3MIwBAEsT921VpBUCMaEc1GYkCQH5/p5dkYvU/aifIkDWxCkDblmIH7bQNQJTrj+zOqvw/pDS3KuN32T+uJ4tYiZYGQNAu4mh4It0/7sjxkOsiAkA+OKnT53MFQPju4kJLjgdAuhc1ejNx7T9nvR92WZ34P9jEbRXBjAJAzI3v3qMF7T94AJFi+p7qP8SU+aaa9/Q/bchMYEHBBkCCq/4vZpX1P1bjBGLoxvI/NG1aolhB/T9gEatcixQFQO3JsxBOswBAmqclJWYA5D9hoaRosP74P0LSXYCubw9ASi5ECRhYDEAYhdjL34MDQJ3EUzym7whA",
          "dtype": "f8"
         },
         "yaxis": "y2"
        },
        {
         "marker": {
          "color": "#EF553B"
         },
         "mode": "markers",
         "name": "1",
         "showlegend": false,
         "type": "scatter",
         "x": {
          "bdata": "envfJqp68j97GuxcdBDxP+RDrb8hQwRACvdmy7zW8j8+XLWhAE7yP4LT4Pf3Tt8/NUg5DbvU/T/tnlg+wvAGQKNk8qOi1wFAZKbgl9Lqxz/WZBEp6aj/P/RKmemPM/8/XmsYV+fd5D+Ez0vKBJvjP9Ln8nnHHAZAYWRAR1MC9T8qzEa5lSrkvw6kIE5EZ9c/V6BelSEZ7z9giiwq79uov/D2AhW0wro/uLg8dGj21D916eZgbrLsPwgUSxkNpeO/vK3/lswt0L+w4RLAErq8Pwp1yOQ1Lfw/lKnC0Nth3z9znUhVEBr3P57Mprrf8wNAqyt1SG278D8=",
          "dtype": "f8"
         },
         "xaxis": "x2",
         "y": {
          "bdata": "M+qQkdAz2D85FzAXs1vTPw4AbVd+gvc/he1KY8e22b/3hf1LtET3P66StpLe4/K/1y9c29C/57+CjKVC3EXvvyVg/qbyPPM/drGKgdqe+79OMeNpWe0BQDaE00msX8O/7k6INj4DxD/1j82i7VjTv1OJzPosnNk/8IV+lsBU67+Jvyl3OZ7dP3r4NLkmN9e/Qs/wE8pp2z9drH66ZLj2v5r1wrECw9g/plx/Q+sC179mKWfwPkfaP6PKB9ESO8u/UxxodDPh6D943TCjV7H/v5CzkwgYJr8/Zdaoy2gJ3L/kleWQ61rVP7ZqsECgQsq/OKQZ8aP1x78=",
          "dtype": "f8"
         },
         "yaxis": "y2"
        },
        {
         "marker": {
          "color": "#00cc96"
         },
         "mode": "markers",
         "name": "2",
         "showlegend": false,
         "type": "scatter",
         "x": {
          "bdata": "vpba+yNuAUCgekJdS7u3PzZAqiW4wfo/FI7M40TT+T/ud2Y/M4zTP3Dcy9tjc80/yqS2JBhV8z8c0+rJ/W/2P1IeVECts/U/XPjHqCwZ4z/oU41GoSPFv9CYkWHoKMa/4yNKZJXF9D85ayTE8OcDQOam2RECK/A/WDopG34dAUDn4ll1WnP3PxzB09s4E+I/LhKTwMLwBkCbOZQgosPiP2yCo0+gT9G/XnnRMYRs5z+gst5tL2IHQGyAG1Rbw8E/8hUbx9YF9j+YhfbSu9fUP7zc8PvCB+Y/GCpoEbiJwD/geX4D2Byyv0AQevnUB/I/7I7qrfEn/z8U/4XdWqr7Pw==",
          "dtype": "f8"
         },
         "xaxis": "x2",
         "y": {
          "bdata": "iMqpyMFHE0AgfYAsMTUUQD8Y9Kw9oRVA/x8a8lawF0A9w/szxmYTQKH4o/AwKBZAK8dGEBToF0Akw70kwUIRQEx2puqH0xZAuMv5o8jjGEDwWjNCcpoXQLG00KFExhtA8pXAGjhOGUAlkd/4Y5UbQCPeGDy7JBtA+JjqoxMfDkDRBcbexbULQL79DWSlZRtAeQjAK8qfF0AUf7Y0mwIRQAuO2Yep4BdAbaUhIbc1F0AK0skRDOwZQDsvKxHooxtAaPS5W200D0ABNZswmCAUQH4uUGiDORRAJCWSCEKvEUAThYkxwjcYQONWhRmjmxVA83++CEVhE0CryJ0YFIQUQA==",
          "dtype": "f8"
         },
         "yaxis": "y2"
        }
       ],
       "layout": {
        "annotations": [
         {
          "font": {
           "size": 16
          },
          "showarrow": false,
          "text": "True Clusters",
          "x": 0.225,
          "xanchor": "center",
          "xref": "paper",
          "y": 1,
          "yanchor": "bottom",
          "yref": "paper"
         },
         {
          "font": {
           "size": 16
          },
          "showarrow": false,
          "text": "HDBSCAN Clusters",
          "x": 0.775,
          "xanchor": "center",
          "xref": "paper",
          "y": 1,
          "yanchor": "bottom",
          "yref": "paper"
         }
        ],
        "template": {
         "data": {
          "bar": [
           {
            "error_x": {
             "color": "#2a3f5f"
            },
            "error_y": {
             "color": "#2a3f5f"
            },
            "marker": {
             "line": {
              "color": "#E5ECF6",
              "width": 0.5
             },
             "pattern": {
              "fillmode": "overlay",
              "size": 10,
              "solidity": 0.2
             }
            },
            "type": "bar"
           }
          ],
          "barpolar": [
           {
            "marker": {
             "line": {
              "color": "#E5ECF6",
              "width": 0.5
             },
             "pattern": {
              "fillmode": "overlay",
              "size": 10,
              "solidity": 0.2
             }
            },
            "type": "barpolar"
           }
          ],
          "carpet": [
           {
            "aaxis": {
             "endlinecolor": "#2a3f5f",
             "gridcolor": "white",
             "linecolor": "white",
             "minorgridcolor": "white",
             "startlinecolor": "#2a3f5f"
            },
            "baxis": {
             "endlinecolor": "#2a3f5f",
             "gridcolor": "white",
             "linecolor": "white",
             "minorgridcolor": "white",
             "startlinecolor": "#2a3f5f"
            },
            "type": "carpet"
           }
          ],
          "choropleth": [
           {
            "colorbar": {
             "outlinewidth": 0,
             "ticks": ""
            },
            "type": "choropleth"
           }
          ],
          "contour": [
           {
            "colorbar": {
             "outlinewidth": 0,
             "ticks": ""
            },
            "colorscale": [
             [
              0,
              "#0d0887"
             ],
             [
              0.1111111111111111,
              "#46039f"
             ],
             [
              0.2222222222222222,
              "#7201a8"
             ],
             [
              0.3333333333333333,
              "#9c179e"
             ],
             [
              0.4444444444444444,
              "#bd3786"
             ],
             [
              0.5555555555555556,
              "#d8576b"
             ],
             [
              0.6666666666666666,
              "#ed7953"
             ],
             [
              0.7777777777777778,
              "#fb9f3a"
             ],
             [
              0.8888888888888888,
              "#fdca26"
             ],
             [
              1,
              "#f0f921"
             ]
            ],
            "type": "contour"
           }
          ],
          "contourcarpet": [
           {
            "colorbar": {
             "outlinewidth": 0,
             "ticks": ""
            },
            "type": "contourcarpet"
           }
          ],
          "heatmap": [
           {
            "colorbar": {
             "outlinewidth": 0,
             "ticks": ""
            },
            "colorscale": [
             [
              0,
              "#0d0887"
             ],
             [
              0.1111111111111111,
              "#46039f"
             ],
             [
              0.2222222222222222,
              "#7201a8"
             ],
             [
              0.3333333333333333,
              "#9c179e"
             ],
             [
              0.4444444444444444,
              "#bd3786"
             ],
             [
              0.5555555555555556,
              "#d8576b"
             ],
             [
              0.6666666666666666,
              "#ed7953"
             ],
             [
              0.7777777777777778,
              "#fb9f3a"
             ],
             [
              0.8888888888888888,
              "#fdca26"
             ],
             [
              1,
              "#f0f921"
             ]
            ],
            "type": "heatmap"
           }
          ],
          "histogram": [
           {
            "marker": {
             "pattern": {
              "fillmode": "overlay",
              "size": 10,
              "solidity": 0.2
             }
            },
            "type": "histogram"
           }
          ],
          "histogram2d": [
           {
            "colorbar": {
             "outlinewidth": 0,
             "ticks": ""
            },
            "colorscale": [
             [
              0,
              "#0d0887"
             ],
             [
              0.1111111111111111,
              "#46039f"
             ],
             [
              0.2222222222222222,
              "#7201a8"
             ],
             [
              0.3333333333333333,
              "#9c179e"
             ],
             [
              0.4444444444444444,
              "#bd3786"
             ],
             [
              0.5555555555555556,
              "#d8576b"
             ],
             [
              0.6666666666666666,
              "#ed7953"
             ],
             [
              0.7777777777777778,
              "#fb9f3a"
             ],
             [
              0.8888888888888888,
              "#fdca26"
             ],
             [
              1,
              "#f0f921"
             ]
            ],
            "type": "histogram2d"
           }
          ],
          "histogram2dcontour": [
           {
            "colorbar": {
             "outlinewidth": 0,
             "ticks": ""
            },
            "colorscale": [
             [
              0,
              "#0d0887"
             ],
             [
              0.1111111111111111,
              "#46039f"
             ],
             [
              0.2222222222222222,
              "#7201a8"
             ],
             [
              0.3333333333333333,
              "#9c179e"
             ],
             [
              0.4444444444444444,
              "#bd3786"
             ],
             [
              0.5555555555555556,
              "#d8576b"
             ],
             [
              0.6666666666666666,
              "#ed7953"
             ],
             [
              0.7777777777777778,
              "#fb9f3a"
             ],
             [
              0.8888888888888888,
              "#fdca26"
             ],
             [
              1,
              "#f0f921"
             ]
            ],
            "type": "histogram2dcontour"
           }
          ],
          "mesh3d": [
           {
            "colorbar": {
             "outlinewidth": 0,
             "ticks": ""
            },
            "type": "mesh3d"
           }
          ],
          "parcoords": [
           {
            "line": {
             "colorbar": {
              "outlinewidth": 0,
              "ticks": ""
             }
            },
            "type": "parcoords"
           }
          ],
          "pie": [
           {
            "automargin": true,
            "type": "pie"
           }
          ],
          "scatter": [
           {
            "fillpattern": {
             "fillmode": "overlay",
             "size": 10,
             "solidity": 0.2
            },
            "type": "scatter"
           }
          ],
          "scatter3d": [
           {
            "line": {
             "colorbar": {
              "outlinewidth": 0,
              "ticks": ""
             }
            },
            "marker": {
             "colorbar": {
              "outlinewidth": 0,
              "ticks": ""
             }
            },
            "type": "scatter3d"
           }
          ],
          "scattercarpet": [
           {
            "marker": {
             "colorbar": {
              "outlinewidth": 0,
              "ticks": ""
             }
            },
            "type": "scattercarpet"
           }
          ],
          "scattergeo": [
           {
            "marker": {
             "colorbar": {
              "outlinewidth": 0,
              "ticks": ""
             }
            },
            "type": "scattergeo"
           }
          ],
          "scattergl": [
           {
            "marker": {
             "colorbar": {
              "outlinewidth": 0,
              "ticks": ""
             }
            },
            "type": "scattergl"
           }
          ],
          "scattermap": [
           {
            "marker": {
             "colorbar": {
              "outlinewidth": 0,
              "ticks": ""
             }
            },
            "type": "scattermap"
           }
          ],
          "scattermapbox": [
           {
            "marker": {
             "colorbar": {
              "outlinewidth": 0,
              "ticks": ""
             }
            },
            "type": "scattermapbox"
           }
          ],
          "scatterpolar": [
           {
            "marker": {
             "colorbar": {
              "outlinewidth": 0,
              "ticks": ""
             }
            },
            "type": "scatterpolar"
           }
          ],
          "scatterpolargl": [
           {
            "marker": {
             "colorbar": {
              "outlinewidth": 0,
              "ticks": ""
             }
            },
            "type": "scatterpolargl"
           }
          ],
          "scatterternary": [
           {
            "marker": {
             "colorbar": {
              "outlinewidth": 0,
              "ticks": ""
             }
            },
            "type": "scatterternary"
           }
          ],
          "surface": [
           {
            "colorbar": {
             "outlinewidth": 0,
             "ticks": ""
            },
            "colorscale": [
             [
              0,
              "#0d0887"
             ],
             [
              0.1111111111111111,
              "#46039f"
             ],
             [
              0.2222222222222222,
              "#7201a8"
             ],
             [
              0.3333333333333333,
              "#9c179e"
             ],
             [
              0.4444444444444444,
              "#bd3786"
             ],
             [
              0.5555555555555556,
              "#d8576b"
             ],
             [
              0.6666666666666666,
              "#ed7953"
             ],
             [
              0.7777777777777778,
              "#fb9f3a"
             ],
             [
              0.8888888888888888,
              "#fdca26"
             ],
             [
              1,
              "#f0f921"
             ]
            ],
            "type": "surface"
           }
          ],
          "table": [
           {
            "cells": {
             "fill": {
              "color": "#EBF0F8"
             },
             "line": {
              "color": "white"
             }
            },
            "header": {
             "fill": {
              "color": "#C8D4E3"
             },
             "line": {
              "color": "white"
             }
            },
            "type": "table"
           }
          ]
         },
         "layout": {
          "annotationdefaults": {
           "arrowcolor": "#2a3f5f",
           "arrowhead": 0,
           "arrowwidth": 1
          },
          "autotypenumbers": "strict",
          "coloraxis": {
           "colorbar": {
            "outlinewidth": 0,
            "ticks": ""
           }
          },
          "colorscale": {
           "diverging": [
            [
             0,
             "#8e0152"
            ],
            [
             0.1,
             "#c51b7d"
            ],
            [
             0.2,
             "#de77ae"
            ],
            [
             0.3,
             "#f1b6da"
            ],
            [
             0.4,
             "#fde0ef"
            ],
            [
             0.5,
             "#f7f7f7"
            ],
            [
             0.6,
             "#e6f5d0"
            ],
            [
             0.7,
             "#b8e186"
            ],
            [
             0.8,
             "#7fbc41"
            ],
            [
             0.9,
             "#4d9221"
            ],
            [
             1,
             "#276419"
            ]
           ],
           "sequential": [
            [
             0,
             "#0d0887"
            ],
            [
             0.1111111111111111,
             "#46039f"
            ],
            [
             0.2222222222222222,
             "#7201a8"
            ],
            [
             0.3333333333333333,
             "#9c179e"
            ],
            [
             0.4444444444444444,
             "#bd3786"
            ],
            [
             0.5555555555555556,
             "#d8576b"
            ],
            [
             0.6666666666666666,
             "#ed7953"
            ],
            [
             0.7777777777777778,
             "#fb9f3a"
            ],
            [
             0.8888888888888888,
             "#fdca26"
            ],
            [
             1,
             "#f0f921"
            ]
           ],
           "sequentialminus": [
            [
             0,
             "#0d0887"
            ],
            [
             0.1111111111111111,
             "#46039f"
            ],
            [
             0.2222222222222222,
             "#7201a8"
            ],
            [
             0.3333333333333333,
             "#9c179e"
            ],
            [
             0.4444444444444444,
             "#bd3786"
            ],
            [
             0.5555555555555556,
             "#d8576b"
            ],
            [
             0.6666666666666666,
             "#ed7953"
            ],
            [
             0.7777777777777778,
             "#fb9f3a"
            ],
            [
             0.8888888888888888,
             "#fdca26"
            ],
            [
             1,
             "#f0f921"
            ]
           ]
          },
          "colorway": [
           "#636efa",
           "#EF553B",
           "#00cc96",
           "#ab63fa",
           "#FFA15A",
           "#19d3f3",
           "#FF6692",
           "#B6E880",
           "#FF97FF",
           "#FECB52"
          ],
          "font": {
           "color": "#2a3f5f"
          },
          "geo": {
           "bgcolor": "white",
           "lakecolor": "white",
           "landcolor": "#E5ECF6",
           "showlakes": true,
           "showland": true,
           "subunitcolor": "white"
          },
          "hoverlabel": {
           "align": "left"
          },
          "hovermode": "closest",
          "mapbox": {
           "style": "light"
          },
          "paper_bgcolor": "white",
          "plot_bgcolor": "#E5ECF6",
          "polar": {
           "angularaxis": {
            "gridcolor": "white",
            "linecolor": "white",
            "ticks": ""
           },
           "bgcolor": "#E5ECF6",
           "radialaxis": {
            "gridcolor": "white",
            "linecolor": "white",
            "ticks": ""
           }
          },
          "scene": {
           "xaxis": {
            "backgroundcolor": "#E5ECF6",
            "gridcolor": "white",
            "gridwidth": 2,
            "linecolor": "white",
            "showbackground": true,
            "ticks": "",
            "zerolinecolor": "white"
           },
           "yaxis": {
            "backgroundcolor": "#E5ECF6",
            "gridcolor": "white",
            "gridwidth": 2,
            "linecolor": "white",
            "showbackground": true,
            "ticks": "",
            "zerolinecolor": "white"
           },
           "zaxis": {
            "backgroundcolor": "#E5ECF6",
            "gridcolor": "white",
            "gridwidth": 2,
            "linecolor": "white",
            "showbackground": true,
            "ticks": "",
            "zerolinecolor": "white"
           }
          },
          "shapedefaults": {
           "line": {
            "color": "#2a3f5f"
           }
          },
          "ternary": {
           "aaxis": {
            "gridcolor": "white",
            "linecolor": "white",
            "ticks": ""
           },
           "baxis": {
            "gridcolor": "white",
            "linecolor": "white",
            "ticks": ""
           },
           "bgcolor": "#E5ECF6",
           "caxis": {
            "gridcolor": "white",
            "linecolor": "white",
            "ticks": ""
           }
          },
          "title": {
           "x": 0.05
          },
          "xaxis": {
           "automargin": true,
           "gridcolor": "white",
           "linecolor": "white",
           "ticks": "",
           "title": {
            "standoff": 15
           },
           "zerolinecolor": "white",
           "zerolinewidth": 2
          },
          "yaxis": {
           "automargin": true,
           "gridcolor": "white",
           "linecolor": "white",
           "ticks": "",
           "title": {
            "standoff": 15
           },
           "zerolinecolor": "white",
           "zerolinewidth": 2
          }
         }
        },
        "xaxis": {
         "anchor": "y",
         "domain": [
          0,
          0.45
         ]
        },
        "xaxis2": {
         "anchor": "y2",
         "domain": [
          0.55,
          1
         ]
        },
        "yaxis": {
         "anchor": "x",
         "domain": [
          0,
          1
         ]
        },
        "yaxis2": {
         "anchor": "x2",
         "domain": [
          0,
          1
         ]
        }
       }
      }
     },
     "metadata": {},
     "output_type": "display_data"
    }
   ],
   "source": [
    "hdb = HDBSCAN(min_cluster_size=15, max_cluster_size=50, min_samples=10, metric='precomputed').fit(x['distances'])\n",
    "hdbscan_labels = hdb.labels_\n",
    "df[\"hdbscan_labels\"] = hdbscan_labels\n",
    "\n",
    "fig = make_subplots(rows=1, cols=2, subplot_titles=[\"True Clusters\", \"HDBSCAN Clusters\"])\n",
    "for label, group in df.groupby(\"target\"):\n",
    "    fig.add_scatter(x=group.x, y=group.y, col=1, row=1, mode=\"markers\", name=label)\n",
    "for label, group in df.groupby(\"hdbscan_labels\"):\n",
    "    fig.add_scatter(\n",
    "        x=group.x, y=group.y, col=2, row=1, mode=\"markers\", name=label,\n",
    "        marker_color=fig.layout[\"template\"][\"layout\"][\"colorway\"][label],\n",
    "        showlegend=False\n",
    "    )\n",
    "fig.show()"
   ]
  },
  {
   "cell_type": "markdown",
   "id": "71281eee",
   "metadata": {},
   "source": [
    "## Step 6b: Visualize with UMAP\n",
    "\n",
    "UMAP can be used in tandem with Howso Engine to visualize high-dimensional datasets, similar to how HDBSCAN is used."
   ]
  },
  {
   "cell_type": "code",
   "execution_count": 8,
   "id": "11303050",
   "metadata": {
    "execution": {
     "iopub.execute_input": "2025-07-30T15:12:37.079544Z",
     "iopub.status.busy": "2025-07-30T15:12:37.079352Z",
     "iopub.status.idle": "2025-07-30T15:12:49.001448Z",
     "shell.execute_reply": "2025-07-30T15:12:49.000857Z"
    }
   },
   "outputs": [
    {
     "ename": "TypeError",
     "evalue": "Trainee.react_group() got an unexpected keyword argument 'prediction_stats_action_feature'",
     "output_type": "error",
     "traceback": [
      "\u001b[31m---------------------------------------------------------------------------\u001b[39m",
      "\u001b[31mTypeError\u001b[39m                                 Traceback (most recent call last)",
      "\u001b[36mCell\u001b[39m\u001b[36m \u001b[39m\u001b[32mIn[8]\u001b[39m\u001b[32m, line 1\u001b[39m\n\u001b[32m----> \u001b[39m\u001b[32m1\u001b[39m fig = \u001b[43mplot_umap\u001b[49m\u001b[43m(\u001b[49m\u001b[43mt\u001b[49m\u001b[43m,\u001b[49m\u001b[43m \u001b[49m\u001b[43mcolor\u001b[49m\u001b[43m=\u001b[49m\u001b[33;43m\"\u001b[39;49m\u001b[33;43mtarget\u001b[39;49m\u001b[33;43m\"\u001b[39;49m\u001b[43m,\u001b[49m\u001b[43m \u001b[49m\u001b[43maction_feature\u001b[49m\u001b[43m=\u001b[49m\u001b[43maction_features\u001b[49m\u001b[43m[\u001b[49m\u001b[32;43m0\u001b[39;49m\u001b[43m]\u001b[49m\u001b[43m)\u001b[49m\n\u001b[32m      2\u001b[39m fig.show()\n",
      "\u001b[36mFile \u001b[39m\u001b[32m~/src/howso-visuals-py/howso/visuals/visuals.py:868\u001b[39m, in \u001b[36mplot_umap\u001b[39m\u001b[34m(data, action_feature, color, min_dist, n_cases, n_neighbors, title, use_case_weights, weight_feature, xaxis_title, yaxis_title)\u001b[39m\n\u001b[32m    865\u001b[39m p = hyperparameter_map[\u001b[33m\"\u001b[39m\u001b[33mp\u001b[39m\u001b[33m\"\u001b[39m]\n\u001b[32m    867\u001b[39m \u001b[38;5;28;01mif\u001b[39;00m min_dist \u001b[38;5;129;01mis\u001b[39;00m \u001b[38;5;28;01mNone\u001b[39;00m:\n\u001b[32m--> \u001b[39m\u001b[32m868\u001b[39m     residuals = pd.DataFrame(\u001b[43mt\u001b[49m\u001b[43m.\u001b[49m\u001b[43mreact_group\u001b[49m\u001b[43m(\u001b[49m\n\u001b[32m    869\u001b[39m \u001b[43m        \u001b[49m\u001b[43mprediction_stats_action_feature\u001b[49m\u001b[43m=\u001b[49m\u001b[43maction_feature\u001b[49m\u001b[43m,\u001b[49m\n\u001b[32m    870\u001b[39m \u001b[43m        \u001b[49m\u001b[43mdetails\u001b[49m\u001b[43m=\u001b[49m\u001b[43m{\u001b[49m\u001b[33;43m\"\u001b[39;49m\u001b[33;43mfeature_full_residuals\u001b[39;49m\u001b[33;43m\"\u001b[39;49m\u001b[43m:\u001b[49m\u001b[43m \u001b[49m\u001b[38;5;28;43;01mTrue\u001b[39;49;00m\u001b[43m}\u001b[49m\u001b[43m,\u001b[49m\n\u001b[32m    871\u001b[39m \u001b[43m        \u001b[49m\u001b[43muse_case_weights\u001b[49m\u001b[43m=\u001b[49m\u001b[43muse_case_weights\u001b[49m\u001b[43m,\u001b[49m\n\u001b[32m    872\u001b[39m \u001b[43m        \u001b[49m\u001b[43mweight_feature\u001b[49m\u001b[43m=\u001b[49m\u001b[43mweight_feature\u001b[49m\u001b[43m,\u001b[49m\n\u001b[32m    873\u001b[39m \u001b[43m    \u001b[49m\u001b[43m)\u001b[49m).T\n\u001b[32m    874\u001b[39m     min_dist = \u001b[38;5;28mfloat\u001b[39m((residuals.values**p).sum() ** (\u001b[32m1\u001b[39m / p))\n\u001b[32m    875\u001b[39m     min_dist = \u001b[38;5;28mmin\u001b[39m(\u001b[38;5;28mround\u001b[39m(min_dist, \u001b[32m3\u001b[39m), \u001b[32m1\u001b[39m)\n",
      "\u001b[31mTypeError\u001b[39m: Trainee.react_group() got an unexpected keyword argument 'prediction_stats_action_feature'"
     ]
    }
   ],
   "source": [
    "fig = plot_umap(t, color=\"target\", action_feature=action_features[0])\n",
    "fig.show()"
   ]
  },
  {
   "cell_type": "markdown",
   "id": "86938256",
   "metadata": {},
   "source": [
    "## Step 7: Inspect Accuracy \n",
    "\n",
    "We calculate the performance of the clustering by measuring the similarity of the clusters compared to the original labels."
   ]
  },
  {
   "cell_type": "code",
   "execution_count": null,
   "id": "34e6b5e7",
   "metadata": {
    "execution": {
     "iopub.execute_input": "2025-07-30T15:12:49.003433Z",
     "iopub.status.busy": "2025-07-30T15:12:49.003238Z",
     "iopub.status.idle": "2025-07-30T15:12:49.008142Z",
     "shell.execute_reply": "2025-07-30T15:12:49.007565Z"
    }
   },
   "outputs": [],
   "source": [
    "dist_contribution_acc = adjusted_rand_score(df['target'], hdbscan_labels)\n",
    "print(f'clustering accuracy score: {dist_contribution_acc}')"
   ]
  },
  {
   "cell_type": "markdown",
   "id": "8172834d",
   "metadata": {},
   "source": [
    "# Conclusion\n",
    "\n",
    "As we demonstrate here, it is quite simple to use the Howso Engine for clustering using the internal distance metric by retrieving the pairwise distance matrix with `get_distances`. This pairwise distance metric can be passed to many popular clustering algorithms."
   ]
  }
 ],
 "metadata": {
  "kernelspec": {
   "display_name": "engine_rec_312",
   "language": "python",
   "name": "python3"
  },
  "language_info": {
   "codemirror_mode": {
    "name": "ipython",
    "version": 3
   },
   "file_extension": ".py",
   "mimetype": "text/x-python",
   "name": "python",
   "nbconvert_exporter": "python",
   "pygments_lexer": "ipython3",
   "version": "3.12.0"
  }
 },
 "nbformat": 4,
 "nbformat_minor": 5
}
