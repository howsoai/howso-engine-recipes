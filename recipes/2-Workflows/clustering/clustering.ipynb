{
 "cells": [
  {
   "attachments": {},
   "cell_type": "markdown",
   "id": "ebe74b50-bacd-4e2b-bfe1-bf96093b7e4b",
   "metadata": {},
   "source": [
    "# Clustering With Howso Engine\n",
    "\n",
    "## Overview\n",
    "\n",
    "This example notebook will demonstrate Howso Engine’s ability to calculate pairwise distances for the training cases. This capability is based on Howso Engine’s underlying instance-based learning platform. Distances can be used for a variety of use cases, in particular, for clustering algorithms, such as HDBSCAN. Howso Engine’s feature reduction capabilities will also be used to demonstrate how to eliminate features for clustering. "
   ]
  },
  {
   "cell_type": "code",
   "execution_count": 1,
   "id": "cf84ccaa-16e7-430a-8e9d-1300082c0cc8",
   "metadata": {
    "execution": {
     "iopub.execute_input": "2024-08-07T17:19:16.654451Z",
     "iopub.status.busy": "2024-08-07T17:19:16.654252Z",
     "iopub.status.idle": "2024-08-07T17:19:22.342391Z",
     "shell.execute_reply": "2024-08-07T17:19:22.341660Z"
    }
   },
   "outputs": [],
   "source": [
    "import os\n",
    "\n",
    "import numpy as np\n",
    "import pandas as pd\n",
    "import plotly.io as pio\n",
    "from plotly.subplots import make_subplots\n",
    "from sklearn.cluster import HDBSCAN\n",
    "from sklearn.datasets import make_blobs\n",
    "from sklearn.metrics import adjusted_rand_score\n",
    "\n",
    "from howso import engine\n",
    "from howso.utilities import infer_feature_attributes\n",
    "from howso.visuals import plot_umap\n",
    "\n",
    "pio.renderers.default = os.getenv(\"HOWSO_RECIPE_RENDERER\", \"notebook\")"
   ]
  },
  {
   "attachments": {},
   "cell_type": "markdown",
   "id": "0d2145d5-cdca-4871-b521-e2ab44779a13",
   "metadata": {},
   "source": [
    "### Step 1: Generate a simple dataset with noise\n",
    "\n",
    "A 2-D blob is generated along with an extra noise column. The noise column is used to demonstrate feature reduction.\n"
   ]
  },
  {
   "cell_type": "code",
   "execution_count": 2,
   "id": "1109d7a6-ed86-4c20-868c-037a654019c1",
   "metadata": {
    "execution": {
     "iopub.execute_input": "2024-08-07T17:19:22.345516Z",
     "iopub.status.busy": "2024-08-07T17:19:22.345263Z",
     "iopub.status.idle": "2024-08-07T17:19:22.354708Z",
     "shell.execute_reply": "2024-08-07T17:19:22.354133Z"
    }
   },
   "outputs": [],
   "source": [
    "blobs = make_blobs(n_samples=100, n_features=2, centers=[(1,0), (1,5), (10,2)], random_state=0)\n",
    "df = pd.DataFrame(blobs[0], columns=['x', 'y'])\n",
    "df['target'] = blobs[1]\n",
    "\n",
    "# Noise\n",
    "noise = np.random.uniform(df['y'].min(), df['y'].max(), len(df))\n",
    "df['noise'] = noise"
   ]
  },
  {
   "cell_type": "markdown",
   "id": "ae92fd65",
   "metadata": {},
   "source": [
    "### Step 2: Create the Trainee, Train, and Analyze\n",
    "\n",
    "For questions about the specific steps of this section, please see the [basic workflow guide](https://docs.howso.com/user_guide/basics/basic_workflow.html)."
   ]
  },
  {
   "cell_type": "code",
   "execution_count": 3,
   "id": "4bbffb11",
   "metadata": {
    "execution": {
     "iopub.execute_input": "2024-08-07T17:19:22.357159Z",
     "iopub.status.busy": "2024-08-07T17:19:22.356786Z",
     "iopub.status.idle": "2024-08-07T17:19:26.604052Z",
     "shell.execute_reply": "2024-08-07T17:19:26.603402Z"
    }
   },
   "outputs": [],
   "source": [
    "# Infer feature attributes\n",
    "features = infer_feature_attributes(df)\n",
    "\n",
    "# Specify Context and Action Features\n",
    "action_features = ['target']\n",
    "\n",
    "context_features = features.get_names(without=action_features)\n",
    "\n",
    "# Create the Trainee\n",
    "t = engine.Trainee(features=features, overwrite_existing=True)\n",
    "\n",
    "# Train\n",
    "t.train(df)\n",
    "\n",
    "# Targeted Analysis\n",
    "t.analyze(context_features=context_features, action_features=action_features)"
   ]
  },
  {
   "cell_type": "markdown",
   "id": "3bd32650",
   "metadata": {},
   "source": [
    "### Step 3: Inspect Feature Importance\n",
    "\n",
    "In this example, since we have a target variable, we can inspect the feature contributions and feature [Mean Decrease in Accuracy](https://docs.howso.com/getting_started/terminology.html#mda) (MDA) to understand how important each feature is."
   ]
  },
  {
   "cell_type": "code",
   "execution_count": 4,
   "id": "5798d564",
   "metadata": {
    "execution": {
     "iopub.execute_input": "2024-08-07T17:19:26.607141Z",
     "iopub.status.busy": "2024-08-07T17:19:26.606632Z",
     "iopub.status.idle": "2024-08-07T17:19:49.076531Z",
     "shell.execute_reply": "2024-08-07T17:19:49.075953Z"
    }
   },
   "outputs": [
    {
     "data": {
      "text/html": [
       "<div>\n",
       "<style scoped>\n",
       "    .dataframe tbody tr th:only-of-type {\n",
       "        vertical-align: middle;\n",
       "    }\n",
       "\n",
       "    .dataframe tbody tr th {\n",
       "        vertical-align: top;\n",
       "    }\n",
       "\n",
       "    .dataframe thead th {\n",
       "        text-align: right;\n",
       "    }\n",
       "</style>\n",
       "<table border=\"1\" class=\"dataframe\">\n",
       "  <thead>\n",
       "    <tr style=\"text-align: right;\">\n",
       "      <th></th>\n",
       "      <th>x</th>\n",
       "      <th>noise</th>\n",
       "      <th>y</th>\n",
       "    </tr>\n",
       "  </thead>\n",
       "  <tbody>\n",
       "    <tr>\n",
       "      <th>feature_mda_robust</th>\n",
       "      <td>0.075678</td>\n",
       "      <td>-0.069049</td>\n",
       "      <td>0.149784</td>\n",
       "    </tr>\n",
       "    <tr>\n",
       "      <th>feature_contributions_robust</th>\n",
       "      <td>0.335308</td>\n",
       "      <td>0.101509</td>\n",
       "      <td>0.434905</td>\n",
       "    </tr>\n",
       "  </tbody>\n",
       "</table>\n",
       "</div>"
      ],
      "text/plain": [
       "                                     x     noise         y\n",
       "feature_mda_robust            0.075678 -0.069049  0.149784\n",
       "feature_contributions_robust  0.335308  0.101509  0.434905"
      ]
     },
     "execution_count": 4,
     "metadata": {},
     "output_type": "execute_result"
    }
   ],
   "source": [
    "robust_feature_influences = t.react_aggregate(\n",
    "    context_features=context_features,\n",
    "    action_feature=action_features[0],\n",
    "    details={\n",
    "        \"feature_contributions_robust\": True,\n",
    "        \"feature_mda_robust\": True\n",
    "    }\n",
    ")\n",
    "robust_feature_influences"
   ]
  },
  {
   "cell_type": "markdown",
   "id": "ced04228",
   "metadata": {},
   "source": [
    "We can see that the noise column not only contributes less to the prediction than the other variables, but it also marginally increases (and perhaps lowers) the accuracy. This is expected from the noise column and demonstrates how unimportant features can be highlighted with Howso Engine."
   ]
  },
  {
   "cell_type": "markdown",
   "id": "6e6e4365",
   "metadata": {},
   "source": [
    "### Step 4: Remove Unuseful Features\n",
    "\n",
    "Unuseful features like the noise feature can reduce the quality of the clustering so we will remove them in this example. Howso Engine allows use to easily remove the features from the Trainee."
   ]
  },
  {
   "cell_type": "code",
   "execution_count": 5,
   "id": "9522f0fb",
   "metadata": {
    "execution": {
     "iopub.execute_input": "2024-08-07T17:19:49.079205Z",
     "iopub.status.busy": "2024-08-07T17:19:49.078785Z",
     "iopub.status.idle": "2024-08-07T17:19:52.488368Z",
     "shell.execute_reply": "2024-08-07T17:19:52.487732Z"
    }
   },
   "outputs": [],
   "source": [
    "# Remove the noise feature\n",
    "t.remove_feature('noise')\n",
    "\n",
    "# update context_features\n",
    "context_features.remove('noise')\n",
    "\n",
    "# Reanalyze with the remaining features\n",
    "t.analyze(context_features=context_features, action_features=action_features)"
   ]
  },
  {
   "attachments": {},
   "cell_type": "markdown",
   "id": "08a8c655-4160-4437-8def-70fbbc2fc0c0",
   "metadata": {},
   "source": [
    "## Step 5: Get pairwise distances\n",
    "\n",
    "By directly using Howso Engine's pairwise distances, we can take advantage of all the benefits of Howso Engine, including the ease of preprocessing and categorical variable handling. \n",
    "\n",
    "`get_distances` returns a square matrix of distances that make up the pairwise distances from each case to each other case in the model. The distances are computing using the Howso Engine's internal distance metric which has its parameters tuned within the Analyze call. For more information about the Howso Engine's distance metric, see [<em>Surprisal Driven k-NN for Robust and Interpretable Nonparametric Learning </em> (Banerjee et. al. 2023)](https://arxiv.org/abs/2311.10246)."
   ]
  },
  {
   "cell_type": "code",
   "execution_count": 6,
   "id": "b1ae649e-525b-49e9-bb66-83b776c6c4e9",
   "metadata": {
    "execution": {
     "iopub.execute_input": "2024-08-07T17:19:52.491497Z",
     "iopub.status.busy": "2024-08-07T17:19:52.491082Z",
     "iopub.status.idle": "2024-08-07T17:19:52.514498Z",
     "shell.execute_reply": "2024-08-07T17:19:52.513842Z"
    }
   },
   "outputs": [
    {
     "data": {
      "text/html": [
       "<div>\n",
       "<style scoped>\n",
       "    .dataframe tbody tr th:only-of-type {\n",
       "        vertical-align: middle;\n",
       "    }\n",
       "\n",
       "    .dataframe tbody tr th {\n",
       "        vertical-align: top;\n",
       "    }\n",
       "\n",
       "    .dataframe thead th {\n",
       "        text-align: right;\n",
       "    }\n",
       "</style>\n",
       "<table border=\"1\" class=\"dataframe\">\n",
       "  <thead>\n",
       "    <tr style=\"text-align: right;\">\n",
       "      <th></th>\n",
       "      <th>0</th>\n",
       "      <th>1</th>\n",
       "      <th>2</th>\n",
       "      <th>3</th>\n",
       "      <th>4</th>\n",
       "      <th>5</th>\n",
       "      <th>6</th>\n",
       "      <th>7</th>\n",
       "      <th>8</th>\n",
       "      <th>9</th>\n",
       "      <th>...</th>\n",
       "      <th>90</th>\n",
       "      <th>91</th>\n",
       "      <th>92</th>\n",
       "      <th>93</th>\n",
       "      <th>94</th>\n",
       "      <th>95</th>\n",
       "      <th>96</th>\n",
       "      <th>97</th>\n",
       "      <th>98</th>\n",
       "      <th>99</th>\n",
       "    </tr>\n",
       "  </thead>\n",
       "  <tbody>\n",
       "    <tr>\n",
       "      <th>0</th>\n",
       "      <td>0.000000</td>\n",
       "      <td>8.284045</td>\n",
       "      <td>0.116400</td>\n",
       "      <td>7.982496</td>\n",
       "      <td>8.606475</td>\n",
       "      <td>1.757592</td>\n",
       "      <td>0.780267</td>\n",
       "      <td>8.583305</td>\n",
       "      <td>4.666778</td>\n",
       "      <td>2.436646</td>\n",
       "      <td>...</td>\n",
       "      <td>1.460663</td>\n",
       "      <td>4.806385</td>\n",
       "      <td>4.289278</td>\n",
       "      <td>7.702400</td>\n",
       "      <td>0.575794</td>\n",
       "      <td>5.892589</td>\n",
       "      <td>8.451130</td>\n",
       "      <td>5.122463</td>\n",
       "      <td>4.645459</td>\n",
       "      <td>4.888756</td>\n",
       "    </tr>\n",
       "    <tr>\n",
       "      <th>1</th>\n",
       "      <td>8.284045</td>\n",
       "      <td>0.000000</td>\n",
       "      <td>8.366504</td>\n",
       "      <td>2.321748</td>\n",
       "      <td>2.248762</td>\n",
       "      <td>7.101197</td>\n",
       "      <td>8.241792</td>\n",
       "      <td>2.899847</td>\n",
       "      <td>8.829193</td>\n",
       "      <td>10.343308</td>\n",
       "      <td>...</td>\n",
       "      <td>6.934806</td>\n",
       "      <td>10.198379</td>\n",
       "      <td>10.378473</td>\n",
       "      <td>2.794453</td>\n",
       "      <td>8.370649</td>\n",
       "      <td>11.370238</td>\n",
       "      <td>3.351249</td>\n",
       "      <td>10.018443</td>\n",
       "      <td>9.032376</td>\n",
       "      <td>9.371425</td>\n",
       "    </tr>\n",
       "    <tr>\n",
       "      <th>2</th>\n",
       "      <td>0.116400</td>\n",
       "      <td>8.366504</td>\n",
       "      <td>0.000000</td>\n",
       "      <td>8.084320</td>\n",
       "      <td>8.707290</td>\n",
       "      <td>1.873913</td>\n",
       "      <td>0.712933</td>\n",
       "      <td>8.688295</td>\n",
       "      <td>4.758767</td>\n",
       "      <td>2.420678</td>\n",
       "      <td>...</td>\n",
       "      <td>1.515131</td>\n",
       "      <td>4.872426</td>\n",
       "      <td>4.340745</td>\n",
       "      <td>7.807249</td>\n",
       "      <td>0.490096</td>\n",
       "      <td>5.947996</td>\n",
       "      <td>8.558777</td>\n",
       "      <td>5.196992</td>\n",
       "      <td>4.733937</td>\n",
       "      <td>4.973350</td>\n",
       "    </tr>\n",
       "    <tr>\n",
       "      <th>3</th>\n",
       "      <td>7.982496</td>\n",
       "      <td>2.321748</td>\n",
       "      <td>8.084320</td>\n",
       "      <td>0.000000</td>\n",
       "      <td>0.649777</td>\n",
       "      <td>6.467253</td>\n",
       "      <td>8.160412</td>\n",
       "      <td>0.780537</td>\n",
       "      <td>7.333296</td>\n",
       "      <td>9.654352</td>\n",
       "      <td>...</td>\n",
       "      <td>6.861136</td>\n",
       "      <td>8.796684</td>\n",
       "      <td>9.135760</td>\n",
       "      <td>0.547372</td>\n",
       "      <td>8.224047</td>\n",
       "      <td>9.869857</td>\n",
       "      <td>1.081944</td>\n",
       "      <td>8.519043</td>\n",
       "      <td>7.555107</td>\n",
       "      <td>7.862945</td>\n",
       "    </tr>\n",
       "    <tr>\n",
       "      <th>4</th>\n",
       "      <td>8.606475</td>\n",
       "      <td>2.248762</td>\n",
       "      <td>8.707290</td>\n",
       "      <td>0.649777</td>\n",
       "      <td>0.000000</td>\n",
       "      <td>7.103816</td>\n",
       "      <td>8.766995</td>\n",
       "      <td>0.683179</td>\n",
       "      <td>7.944048</td>\n",
       "      <td>10.299615</td>\n",
       "      <td>...</td>\n",
       "      <td>7.459765</td>\n",
       "      <td>9.416088</td>\n",
       "      <td>9.768564</td>\n",
       "      <td>1.118363</td>\n",
       "      <td>8.836775</td>\n",
       "      <td>10.476145</td>\n",
       "      <td>1.190838</td>\n",
       "      <td>9.127439</td>\n",
       "      <td>8.167772</td>\n",
       "      <td>8.471220</td>\n",
       "    </tr>\n",
       "    <tr>\n",
       "      <th>...</th>\n",
       "      <td>...</td>\n",
       "      <td>...</td>\n",
       "      <td>...</td>\n",
       "      <td>...</td>\n",
       "      <td>...</td>\n",
       "      <td>...</td>\n",
       "      <td>...</td>\n",
       "      <td>...</td>\n",
       "      <td>...</td>\n",
       "      <td>...</td>\n",
       "      <td>...</td>\n",
       "      <td>...</td>\n",
       "      <td>...</td>\n",
       "      <td>...</td>\n",
       "      <td>...</td>\n",
       "      <td>...</td>\n",
       "      <td>...</td>\n",
       "      <td>...</td>\n",
       "      <td>...</td>\n",
       "      <td>...</td>\n",
       "      <td>...</td>\n",
       "    </tr>\n",
       "    <tr>\n",
       "      <th>95</th>\n",
       "      <td>5.892589</td>\n",
       "      <td>11.370238</td>\n",
       "      <td>5.947996</td>\n",
       "      <td>9.869857</td>\n",
       "      <td>10.476145</td>\n",
       "      <td>5.366699</td>\n",
       "      <td>6.651383</td>\n",
       "      <td>10.071170</td>\n",
       "      <td>2.565946</td>\n",
       "      <td>4.271304</td>\n",
       "      <td>...</td>\n",
       "      <td>6.838207</td>\n",
       "      <td>1.254177</td>\n",
       "      <td>1.645496</td>\n",
       "      <td>9.363567</td>\n",
       "      <td>6.419082</td>\n",
       "      <td>0.000000</td>\n",
       "      <td>9.669344</td>\n",
       "      <td>1.363858</td>\n",
       "      <td>2.352688</td>\n",
       "      <td>2.023840</td>\n",
       "    </tr>\n",
       "    <tr>\n",
       "      <th>96</th>\n",
       "      <td>8.451130</td>\n",
       "      <td>3.351249</td>\n",
       "      <td>8.558777</td>\n",
       "      <td>1.081944</td>\n",
       "      <td>1.190838</td>\n",
       "      <td>6.831904</td>\n",
       "      <td>8.714706</td>\n",
       "      <td>0.520412</td>\n",
       "      <td>7.185150</td>\n",
       "      <td>9.913210</td>\n",
       "      <td>...</td>\n",
       "      <td>7.450221</td>\n",
       "      <td>8.677498</td>\n",
       "      <td>9.107474</td>\n",
       "      <td>0.890934</td>\n",
       "      <td>8.751123</td>\n",
       "      <td>9.669344</td>\n",
       "      <td>0.000000</td>\n",
       "      <td>8.341878</td>\n",
       "      <td>7.413800</td>\n",
       "      <td>7.693468</td>\n",
       "    </tr>\n",
       "    <tr>\n",
       "      <th>97</th>\n",
       "      <td>5.122463</td>\n",
       "      <td>10.018443</td>\n",
       "      <td>5.196992</td>\n",
       "      <td>8.519043</td>\n",
       "      <td>9.127439</td>\n",
       "      <td>4.294420</td>\n",
       "      <td>5.889508</td>\n",
       "      <td>8.733889</td>\n",
       "      <td>1.202102</td>\n",
       "      <td>4.033787</td>\n",
       "      <td>...</td>\n",
       "      <td>5.857410</td>\n",
       "      <td>0.558431</td>\n",
       "      <td>1.399096</td>\n",
       "      <td>8.016758</td>\n",
       "      <td>5.678507</td>\n",
       "      <td>1.363858</td>\n",
       "      <td>8.341878</td>\n",
       "      <td>0.000000</td>\n",
       "      <td>0.991567</td>\n",
       "      <td>0.661174</td>\n",
       "    </tr>\n",
       "    <tr>\n",
       "      <th>98</th>\n",
       "      <td>4.645459</td>\n",
       "      <td>9.032376</td>\n",
       "      <td>4.733937</td>\n",
       "      <td>7.555107</td>\n",
       "      <td>8.167772</td>\n",
       "      <td>3.568995</td>\n",
       "      <td>5.396410</td>\n",
       "      <td>7.791859</td>\n",
       "      <td>0.232864</td>\n",
       "      <td>4.051871</td>\n",
       "      <td>...</td>\n",
       "      <td>5.177163</td>\n",
       "      <td>1.276395</td>\n",
       "      <td>1.866800</td>\n",
       "      <td>7.059749</td>\n",
       "      <td>5.209171</td>\n",
       "      <td>2.352688</td>\n",
       "      <td>7.413800</td>\n",
       "      <td>0.991567</td>\n",
       "      <td>0.000000</td>\n",
       "      <td>0.358115</td>\n",
       "    </tr>\n",
       "    <tr>\n",
       "      <th>99</th>\n",
       "      <td>4.888756</td>\n",
       "      <td>9.371425</td>\n",
       "      <td>4.973350</td>\n",
       "      <td>7.862945</td>\n",
       "      <td>8.471220</td>\n",
       "      <td>3.877985</td>\n",
       "      <td>5.647449</td>\n",
       "      <td>8.081410</td>\n",
       "      <td>0.545568</td>\n",
       "      <td>4.126983</td>\n",
       "      <td>...</td>\n",
       "      <td>5.480718</td>\n",
       "      <td>1.043188</td>\n",
       "      <td>1.749476</td>\n",
       "      <td>7.361901</td>\n",
       "      <td>5.452391</td>\n",
       "      <td>2.023840</td>\n",
       "      <td>7.693468</td>\n",
       "      <td>0.661174</td>\n",
       "      <td>0.358115</td>\n",
       "      <td>0.000000</td>\n",
       "    </tr>\n",
       "  </tbody>\n",
       "</table>\n",
       "<p>100 rows × 100 columns</p>\n",
       "</div>"
      ],
      "text/plain": [
       "          0          1         2         3          4         5         6   \\\n",
       "0   0.000000   8.284045  0.116400  7.982496   8.606475  1.757592  0.780267   \n",
       "1   8.284045   0.000000  8.366504  2.321748   2.248762  7.101197  8.241792   \n",
       "2   0.116400   8.366504  0.000000  8.084320   8.707290  1.873913  0.712933   \n",
       "3   7.982496   2.321748  8.084320  0.000000   0.649777  6.467253  8.160412   \n",
       "4   8.606475   2.248762  8.707290  0.649777   0.000000  7.103816  8.766995   \n",
       "..       ...        ...       ...       ...        ...       ...       ...   \n",
       "95  5.892589  11.370238  5.947996  9.869857  10.476145  5.366699  6.651383   \n",
       "96  8.451130   3.351249  8.558777  1.081944   1.190838  6.831904  8.714706   \n",
       "97  5.122463  10.018443  5.196992  8.519043   9.127439  4.294420  5.889508   \n",
       "98  4.645459   9.032376  4.733937  7.555107   8.167772  3.568995  5.396410   \n",
       "99  4.888756   9.371425  4.973350  7.862945   8.471220  3.877985  5.647449   \n",
       "\n",
       "           7         8          9   ...        90         91         92  \\\n",
       "0    8.583305  4.666778   2.436646  ...  1.460663   4.806385   4.289278   \n",
       "1    2.899847  8.829193  10.343308  ...  6.934806  10.198379  10.378473   \n",
       "2    8.688295  4.758767   2.420678  ...  1.515131   4.872426   4.340745   \n",
       "3    0.780537  7.333296   9.654352  ...  6.861136   8.796684   9.135760   \n",
       "4    0.683179  7.944048  10.299615  ...  7.459765   9.416088   9.768564   \n",
       "..        ...       ...        ...  ...       ...        ...        ...   \n",
       "95  10.071170  2.565946   4.271304  ...  6.838207   1.254177   1.645496   \n",
       "96   0.520412  7.185150   9.913210  ...  7.450221   8.677498   9.107474   \n",
       "97   8.733889  1.202102   4.033787  ...  5.857410   0.558431   1.399096   \n",
       "98   7.791859  0.232864   4.051871  ...  5.177163   1.276395   1.866800   \n",
       "99   8.081410  0.545568   4.126983  ...  5.480718   1.043188   1.749476   \n",
       "\n",
       "          93        94         95        96         97        98        99  \n",
       "0   7.702400  0.575794   5.892589  8.451130   5.122463  4.645459  4.888756  \n",
       "1   2.794453  8.370649  11.370238  3.351249  10.018443  9.032376  9.371425  \n",
       "2   7.807249  0.490096   5.947996  8.558777   5.196992  4.733937  4.973350  \n",
       "3   0.547372  8.224047   9.869857  1.081944   8.519043  7.555107  7.862945  \n",
       "4   1.118363  8.836775  10.476145  1.190838   9.127439  8.167772  8.471220  \n",
       "..       ...       ...        ...       ...        ...       ...       ...  \n",
       "95  9.363567  6.419082   0.000000  9.669344   1.363858  2.352688  2.023840  \n",
       "96  0.890934  8.751123   9.669344  0.000000   8.341878  7.413800  7.693468  \n",
       "97  8.016758  5.678507   1.363858  8.341878   0.000000  0.991567  0.661174  \n",
       "98  7.059749  5.209171   2.352688  7.413800   0.991567  0.000000  0.358115  \n",
       "99  7.361901  5.452391   2.023840  7.693468   0.661174  0.358115  0.000000  \n",
       "\n",
       "[100 rows x 100 columns]"
      ]
     },
     "execution_count": 6,
     "metadata": {},
     "output_type": "execute_result"
    }
   ],
   "source": [
    "# Pairwise distances can be obtained with a call to `get_distances`\n",
    "x = t.get_distances()\n",
    "\n",
    "x['distances']"
   ]
  },
  {
   "attachments": {},
   "cell_type": "markdown",
   "id": "d8771d70-8f09-4835-b2f1-29619bd6613b",
   "metadata": {},
   "source": [
    "## Step 6a: Cluster\n",
    "\n",
    "Having access to the full matrix of pairwise distances, users have the ability to cluster with whatever algorithm they prefer (provided it supports a matrix of precomputed pairwise distances as an input).\n",
    "\n",
    "In the case of this recipe, we demonstrate using the HDBSCAN provided through Scikit-Learn."
   ]
  },
  {
   "cell_type": "code",
   "execution_count": 7,
   "id": "ba19a548-9aa2-4ef3-b0bc-b4dcc56685d3",
   "metadata": {
    "execution": {
     "iopub.execute_input": "2024-08-07T17:19:52.517083Z",
     "iopub.status.busy": "2024-08-07T17:19:52.516697Z",
     "iopub.status.idle": "2024-08-07T17:19:53.142107Z",
     "shell.execute_reply": "2024-08-07T17:19:53.141245Z"
    }
   },
   "outputs": [
    {
     "data": {
      "image/png": "[encoded data removed]"
     },
     "metadata": {},
     "output_type": "display_data"
    }
   ],
   "source": [
    "hdb = HDBSCAN(min_cluster_size=15, max_cluster_size=50, min_samples=10, metric='precomputed').fit(x['distances'])\n",
    "hdbscan_labels = hdb.labels_\n",
    "df[\"hdbscan_labels\"] = hdbscan_labels\n",
    "\n",
    "fig = make_subplots(rows=1, cols=2, subplot_titles=[\"True Clusters\", \"HDBSCAN Clusters\"])\n",
    "for label, group in df.groupby(\"target\"):\n",
    "    fig.add_scatter(x=group.x, y=group.y, col=1, row=1, mode=\"markers\", name=label)\n",
    "for label, group in df.groupby(\"hdbscan_labels\"):\n",
    "    fig.add_scatter(\n",
    "        x=group.x, y=group.y, col=2, row=1, mode=\"markers\", name=label,\n",
    "        marker_color=fig.layout[\"template\"][\"layout\"][\"colorway\"][label],\n",
    "        showlegend=False\n",
    "    )\n",
    "fig.update_layout(width=1000)\n",
    "fig.show()"
   ]
  },
  {
   "cell_type": "markdown",
   "id": "71281eee",
   "metadata": {},
   "source": [
    "## Step 6b: Visualize with UMAP\n",
    "\n",
    "UMAP can be used in tandem with Howso Engine to visualize high-dimensional datasets, similar to how HDBSCAN is used."
   ]
  },
  {
   "cell_type": "code",
   "execution_count": 8,
   "id": "11303050",
   "metadata": {
    "execution": {
     "iopub.execute_input": "2024-08-07T17:19:53.144928Z",
     "iopub.status.busy": "2024-08-07T17:19:53.144718Z",
     "iopub.status.idle": "2024-08-07T17:20:03.284624Z",
     "shell.execute_reply": "2024-08-07T17:20:03.284067Z"
    }
   },
   "outputs": [
    {
     "data": {
      "image/png": "[encoded data removed]"
     },
     "metadata": {},
     "output_type": "display_data"
    }
   ],
   "source": [
    "fig = plot_umap(t, color=\"target\", action_feature=action_features[0])\n",
    "fig.update_layout(width=1000)\n",
    "fig.show()"
   ]
  },
  {
   "cell_type": "markdown",
   "id": "86938256",
   "metadata": {},
   "source": [
    "## Step 7: Inspect Accuracy \n",
    "\n",
    "We calculate the performance of the clustering by measuring the similarity of the clusters compared to the original labels."
   ]
  },
  {
   "cell_type": "code",
   "execution_count": 9,
   "id": "34e6b5e7",
   "metadata": {
    "execution": {
     "iopub.execute_input": "2024-08-07T17:20:03.287169Z",
     "iopub.status.busy": "2024-08-07T17:20:03.286804Z",
     "iopub.status.idle": "2024-08-07T17:20:03.291665Z",
     "shell.execute_reply": "2024-08-07T17:20:03.291184Z"
    }
   },
   "outputs": [
    {
     "name": "stdout",
     "output_type": "stream",
     "text": [
      "clustering accuracy score: 0.9400543257672734\n"
     ]
    }
   ],
   "source": [
    "dist_contribution_acc = adjusted_rand_score(df['target'], hdbscan_labels)\n",
    "print(f'clustering accuracy score: {dist_contribution_acc}')"
   ]
  },
  {
   "cell_type": "markdown",
   "id": "8172834d",
   "metadata": {},
   "source": [
    "# Conclusion\n",
    "\n",
    "As we demonstrate here, it is quite simple to use the Howso Engine for clustering using the internal distance metric by retrieving the pairwise distance matrix with `get_distances`. This pairwise distance metric can be passed to many popular clustering algorithms."
   ]
  }
 ],
 "metadata": {
  "kernelspec": {
   "display_name": "Python 3 (ipykernel)",
   "language": "python",
   "name": "python3"
  },
  "language_info": {
   "codemirror_mode": {
    "name": "ipython",
    "version": 3
   },
   "file_extension": ".py",
   "mimetype": "text/x-python",
   "name": "python",
   "nbconvert_exporter": "python",
   "pygments_lexer": "ipython3",
   "version": "3.9.19"
  },
  "vscode": {
   "interpreter": {
    "hash": "5a97d8588cce4b7427f7b841aa84f596036816f81d1a6ebef91f01881d12ee0c"
   }
  }
 },
 "nbformat": 4,
 "nbformat_minor": 5
}
