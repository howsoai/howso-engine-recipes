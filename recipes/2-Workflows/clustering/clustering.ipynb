{
 "cells": [
  {
   "attachments": {},
   "cell_type": "markdown",
   "id": "ebe74b50-bacd-4e2b-bfe1-bf96093b7e4b",
   "metadata": {},
   "source": [
    "# Clustering With Howso Engine\n",
    "\n",
    "## Overview\n",
    "\n",
    "This example notebook will demonstrate Howso Engine’s ability to calculate pairwise distances for the training cases. This capability is based on Howso Engine’s underlying instance-based learning platform. Distances can be used for a variety of use cases, in particular, for clustering algorithms, such as HDBSCAN. Howso Engine’s feature reduction capabilities will also be used to demonstrate how to eliminate features for clustering. "
   ]
  },
  {
   "cell_type": "code",
   "execution_count": 1,
   "id": "cf84ccaa-16e7-430a-8e9d-1300082c0cc8",
   "metadata": {
    "execution": {
     "iopub.execute_input": "2025-06-13T19:40:13.544612Z",
     "iopub.status.busy": "2025-06-13T19:40:13.544429Z",
     "iopub.status.idle": "2025-06-13T19:40:19.316413Z",
     "shell.execute_reply": "2025-06-13T19:40:19.315716Z"
    }
   },
   "outputs": [],
   "source": [
    "import os\n",
    "\n",
    "import numpy as np\n",
    "import pandas as pd\n",
    "import plotly.io as pio\n",
    "from plotly.subplots import make_subplots\n",
    "from sklearn.cluster import HDBSCAN\n",
    "from sklearn.datasets import make_blobs\n",
    "from sklearn.metrics import adjusted_rand_score\n",
    "\n",
    "from howso import engine\n",
    "from howso.utilities import infer_feature_attributes\n",
    "from howso.visuals import plot_umap\n",
    "\n",
    "pio.renderers.default = os.getenv(\"HOWSO_RECIPE_RENDERER\", \"notebook\")"
   ]
  },
  {
   "attachments": {},
   "cell_type": "markdown",
   "id": "0d2145d5-cdca-4871-b521-e2ab44779a13",
   "metadata": {},
   "source": [
    "### Step 1: Generate a simple dataset with noise\n",
    "\n",
    "A 2-D blob is generated along with an extra noise column. The noise column is used to demonstrate feature reduction.\n"
   ]
  },
  {
   "cell_type": "code",
   "execution_count": 2,
   "id": "1109d7a6-ed86-4c20-868c-037a654019c1",
   "metadata": {
    "execution": {
     "iopub.execute_input": "2025-06-13T19:40:19.319119Z",
     "iopub.status.busy": "2025-06-13T19:40:19.318929Z",
     "iopub.status.idle": "2025-06-13T19:40:19.328214Z",
     "shell.execute_reply": "2025-06-13T19:40:19.327672Z"
    }
   },
   "outputs": [],
   "source": [
    "blobs = make_blobs(n_samples=100, n_features=2, centers=[(1,0), (1,5), (10,2)], random_state=0)\n",
    "df = pd.DataFrame(blobs[0], columns=['x', 'y'])\n",
    "df['target'] = blobs[1]\n",
    "\n",
    "# Noise\n",
    "noise = np.random.uniform(df['y'].min(), df['y'].max(), len(df))\n",
    "df['noise'] = noise"
   ]
  },
  {
   "cell_type": "markdown",
   "id": "ae92fd65",
   "metadata": {},
   "source": [
    "### Step 2: Create the Trainee, Train, and Analyze\n",
    "\n",
    "For questions about the specific steps of this section, please see the [basic workflow guide](https://docs.howso.com/en/release-latest/user_guide/basic_capabilities/basic_workflow.html)."
   ]
  },
  {
   "cell_type": "code",
   "execution_count": 3,
   "id": "4bbffb11",
   "metadata": {
    "execution": {
     "iopub.execute_input": "2025-06-13T19:40:19.330109Z",
     "iopub.status.busy": "2025-06-13T19:40:19.329934Z",
     "iopub.status.idle": "2025-06-13T19:40:20.279843Z",
     "shell.execute_reply": "2025-06-13T19:40:20.279226Z"
    }
   },
   "outputs": [
    {
     "name": "stderr",
     "output_type": "stream",
     "text": [
      "Version 40.0.0 of Howso Engine™ is available. You are using version 39.3.7.\n"
     ]
    }
   ],
   "source": [
    "# Infer feature attributes\n",
    "features = infer_feature_attributes(df)\n",
    "\n",
    "# Specify Context and Action Features\n",
    "action_features = ['target']\n",
    "\n",
    "context_features = features.get_names(without=action_features)\n",
    "\n",
    "# Create the Trainee\n",
    "t = engine.Trainee(features=features, overwrite_existing=True)\n",
    "\n",
    "# Train\n",
    "t.train(df)\n",
    "\n",
    "# Targeted Analysis\n",
    "t.analyze(context_features=context_features, action_features=action_features)"
   ]
  },
  {
   "cell_type": "markdown",
   "id": "3bd32650",
   "metadata": {},
   "source": [
    "### Step 3: Inspect Feature Importance\n",
    "\n",
    "In this example, since we have a target feature, we can inspect the [Accuracy Contributions](https://docs.howso.com/en/release-latest/getting_started/terminology.html#accuracy-contributions-ac) (a form of MDA) to understand how important each feature is."
   ]
  },
  {
   "cell_type": "markdown",
   "id": "08225f81",
   "metadata": {},
   "source": []
  },
  {
   "cell_type": "code",
   "execution_count": 4,
   "id": "5798d564",
   "metadata": {
    "execution": {
     "iopub.execute_input": "2025-06-13T19:40:20.282712Z",
     "iopub.status.busy": "2025-06-13T19:40:20.282263Z",
     "iopub.status.idle": "2025-06-13T19:40:23.551223Z",
     "shell.execute_reply": "2025-06-13T19:40:23.550653Z"
    }
   },
   "outputs": [
    {
     "data": {
      "text/html": [
       "<div>\n",
       "<style scoped>\n",
       "    .dataframe tbody tr th:only-of-type {\n",
       "        vertical-align: middle;\n",
       "    }\n",
       "\n",
       "    .dataframe tbody tr th {\n",
       "        vertical-align: top;\n",
       "    }\n",
       "\n",
       "    .dataframe thead th {\n",
       "        text-align: right;\n",
       "    }\n",
       "</style>\n",
       "<table border=\"1\" class=\"dataframe\">\n",
       "  <thead>\n",
       "    <tr style=\"text-align: right;\">\n",
       "      <th></th>\n",
       "      <th>y</th>\n",
       "      <th>noise</th>\n",
       "      <th>x</th>\n",
       "    </tr>\n",
       "  </thead>\n",
       "  <tbody>\n",
       "    <tr>\n",
       "      <th>feature_robust_prediction_contributions</th>\n",
       "      <td>0.264988</td>\n",
       "      <td>0.158392</td>\n",
       "      <td>0.203274</td>\n",
       "    </tr>\n",
       "    <tr>\n",
       "      <th>feature_robust_directional_prediction_contributions</th>\n",
       "      <td>0.237256</td>\n",
       "      <td>-0.141305</td>\n",
       "      <td>0.179522</td>\n",
       "    </tr>\n",
       "    <tr>\n",
       "      <th>feature_robust_accuracy_contributions</th>\n",
       "      <td>0.20282</td>\n",
       "      <td>-0.045351</td>\n",
       "      <td>0.209627</td>\n",
       "    </tr>\n",
       "  </tbody>\n",
       "</table>\n",
       "</div>"
      ],
      "text/plain": [
       "                                                           y     noise  \\\n",
       "feature_robust_prediction_contributions             0.264988  0.158392   \n",
       "feature_robust_directional_prediction_contribut...  0.237256 -0.141305   \n",
       "feature_robust_accuracy_contributions                0.20282 -0.045351   \n",
       "\n",
       "                                                           x  \n",
       "feature_robust_prediction_contributions             0.203274  \n",
       "feature_robust_directional_prediction_contribut...  0.179522  \n",
       "feature_robust_accuracy_contributions               0.209627  "
      ]
     },
     "execution_count": 4,
     "metadata": {},
     "output_type": "execute_result"
    }
   ],
   "source": [
    "robust_feature_influences = t.get_prediction_stats(\n",
    "    context_features=context_features,\n",
    "    action_feature=action_features[0],\n",
    "    details={\n",
    "        \"feature_robust_prediction_contributions\": True,\n",
    "        \"feature_robust_accuracy_contributions\": True\n",
    "    }\n",
    ")\n",
    "# Robust Accuracy Contributions are returned as a matrix, the result must be edited to\n",
    "# view the contributions of the target feature in a row as the other metrics.\n",
    "robust_feature_influences.loc[\"feature_robust_accuracy_contributions\", :] = robust_feature_influences.loc[\"feature_robust_accuracy_contributions\", \"target\"]\n",
    "robust_feature_influences.drop(['target'], axis=1, inplace=True)\n",
    "robust_feature_influences"
   ]
  },
  {
   "cell_type": "markdown",
   "id": "ced04228",
   "metadata": {},
   "source": [
    "We can see that the noise column not only contributes less to the prediction than the other variables, but it also marginally increases (and perhaps lowers) the accuracy. This is expected from the noise column and demonstrates how unimportant features can be highlighted with Howso Engine."
   ]
  },
  {
   "cell_type": "markdown",
   "id": "6e6e4365",
   "metadata": {},
   "source": [
    "### Step 4: Remove Unuseful Features\n",
    "\n",
    "Unuseful features like the noise feature can reduce the quality of the clustering so we will remove them in this example. Howso Engine allows use to easily remove the features from the Trainee."
   ]
  },
  {
   "cell_type": "code",
   "execution_count": 5,
   "id": "9522f0fb",
   "metadata": {
    "execution": {
     "iopub.execute_input": "2025-06-13T19:40:23.553384Z",
     "iopub.status.busy": "2025-06-13T19:40:23.553195Z",
     "iopub.status.idle": "2025-06-13T19:40:24.058778Z",
     "shell.execute_reply": "2025-06-13T19:40:24.058151Z"
    }
   },
   "outputs": [],
   "source": [
    "# Remove the noise feature\n",
    "t.remove_feature('noise')\n",
    "\n",
    "# update context_features\n",
    "context_features.remove('noise')\n",
    "\n",
    "# Reanalyze with the remaining features\n",
    "t.analyze(context_features=context_features, action_features=action_features)"
   ]
  },
  {
   "attachments": {},
   "cell_type": "markdown",
   "id": "08a8c655-4160-4437-8def-70fbbc2fc0c0",
   "metadata": {},
   "source": [
    "## Step 5: Get pairwise distances\n",
    "\n",
    "By directly using Howso Engine's pairwise distances, we can take advantage of all the benefits of Howso Engine, including the ease of preprocessing and categorical variable handling. \n",
    "\n",
    "`get_distances` returns a square matrix of distances that make up the pairwise distances from each case to each other case in the model. The distances are computing using the Howso Engine's internal distance metric which has its parameters tuned within the Analyze call. For more information about the Howso Engine's distance metric, see [<em>Surprisal Driven k-NN for Robust and Interpretable Nonparametric Learning </em> (Banerjee et. al. 2023)](https://arxiv.org/abs/2311.10246)."
   ]
  },
  {
   "cell_type": "code",
   "execution_count": 6,
   "id": "b1ae649e-525b-49e9-bb66-83b776c6c4e9",
   "metadata": {
    "execution": {
     "iopub.execute_input": "2025-06-13T19:40:24.061488Z",
     "iopub.status.busy": "2025-06-13T19:40:24.061026Z",
     "iopub.status.idle": "2025-06-13T19:40:24.083962Z",
     "shell.execute_reply": "2025-06-13T19:40:24.083452Z"
    }
   },
   "outputs": [
    {
     "data": {
      "text/html": [
       "<div>\n",
       "<style scoped>\n",
       "    .dataframe tbody tr th:only-of-type {\n",
       "        vertical-align: middle;\n",
       "    }\n",
       "\n",
       "    .dataframe tbody tr th {\n",
       "        vertical-align: top;\n",
       "    }\n",
       "\n",
       "    .dataframe thead th {\n",
       "        text-align: right;\n",
       "    }\n",
       "</style>\n",
       "<table border=\"1\" class=\"dataframe\">\n",
       "  <thead>\n",
       "    <tr style=\"text-align: right;\">\n",
       "      <th></th>\n",
       "      <th>0</th>\n",
       "      <th>1</th>\n",
       "      <th>2</th>\n",
       "      <th>3</th>\n",
       "      <th>4</th>\n",
       "      <th>5</th>\n",
       "      <th>6</th>\n",
       "      <th>7</th>\n",
       "      <th>8</th>\n",
       "      <th>9</th>\n",
       "      <th>...</th>\n",
       "      <th>90</th>\n",
       "      <th>91</th>\n",
       "      <th>92</th>\n",
       "      <th>93</th>\n",
       "      <th>94</th>\n",
       "      <th>95</th>\n",
       "      <th>96</th>\n",
       "      <th>97</th>\n",
       "      <th>98</th>\n",
       "      <th>99</th>\n",
       "    </tr>\n",
       "  </thead>\n",
       "  <tbody>\n",
       "    <tr>\n",
       "      <th>0</th>\n",
       "      <td>0.000000</td>\n",
       "      <td>107306.868785</td>\n",
       "      <td>83.801670</td>\n",
       "      <td>144109.828560</td>\n",
       "      <td>147535.703594</td>\n",
       "      <td>1256.448809</td>\n",
       "      <td>158.543462</td>\n",
       "      <td>163238.764868</td>\n",
       "      <td>100278.410706</td>\n",
       "      <td>1752.522346</td>\n",
       "      <td>...</td>\n",
       "      <td>912.879451</td>\n",
       "      <td>80237.198035</td>\n",
       "      <td>96942.101029</td>\n",
       "      <td>151233.024789</td>\n",
       "      <td>263.153237</td>\n",
       "      <td>116221.577910</td>\n",
       "      <td>170762.757400</td>\n",
       "      <td>38534.485772</td>\n",
       "      <td>92711.426634</td>\n",
       "      <td>85920.547745</td>\n",
       "    </tr>\n",
       "    <tr>\n",
       "      <th>1</th>\n",
       "      <td>107306.868785</td>\n",
       "      <td>0.000000</td>\n",
       "      <td>103536.404626</td>\n",
       "      <td>1082.472688</td>\n",
       "      <td>717.678704</td>\n",
       "      <td>137989.916302</td>\n",
       "      <td>75717.113958</td>\n",
       "      <td>236.819716</td>\n",
       "      <td>202523.744176</td>\n",
       "      <td>173013.148662</td>\n",
       "      <td>...</td>\n",
       "      <td>39594.816973</td>\n",
       "      <td>220245.023423</td>\n",
       "      <td>215620.354714</td>\n",
       "      <td>1563.808467</td>\n",
       "      <td>50502.665883</td>\n",
       "      <td>241096.630141</td>\n",
       "      <td>1050.946314</td>\n",
       "      <td>220948.525747</td>\n",
       "      <td>205196.460920</td>\n",
       "      <td>211303.913768</td>\n",
       "    </tr>\n",
       "    <tr>\n",
       "      <th>2</th>\n",
       "      <td>83.801670</td>\n",
       "      <td>103536.404626</td>\n",
       "      <td>0.000000</td>\n",
       "      <td>146795.115456</td>\n",
       "      <td>150273.686816</td>\n",
       "      <td>1340.303817</td>\n",
       "      <td>298.654630</td>\n",
       "      <td>165638.572073</td>\n",
       "      <td>103592.433083</td>\n",
       "      <td>1750.554567</td>\n",
       "      <td>...</td>\n",
       "      <td>883.430361</td>\n",
       "      <td>75837.170421</td>\n",
       "      <td>94852.221478</td>\n",
       "      <td>153703.137217</td>\n",
       "      <td>116.910946</td>\n",
       "      <td>114054.438193</td>\n",
       "      <td>173019.920525</td>\n",
       "      <td>46982.842074</td>\n",
       "      <td>96423.662878</td>\n",
       "      <td>90292.885614</td>\n",
       "    </tr>\n",
       "    <tr>\n",
       "      <th>3</th>\n",
       "      <td>144109.828560</td>\n",
       "      <td>1082.472688</td>\n",
       "      <td>146795.115456</td>\n",
       "      <td>0.000000</td>\n",
       "      <td>170.943349</td>\n",
       "      <td>96403.778851</td>\n",
       "      <td>163021.013275</td>\n",
       "      <td>554.376312</td>\n",
       "      <td>161223.736801</td>\n",
       "      <td>69490.507414</td>\n",
       "      <td>...</td>\n",
       "      <td>148051.819435</td>\n",
       "      <td>178313.535723</td>\n",
       "      <td>168945.218790</td>\n",
       "      <td>396.339611</td>\n",
       "      <td>159189.592193</td>\n",
       "      <td>202840.678741</td>\n",
       "      <td>479.791627</td>\n",
       "      <td>181246.878967</td>\n",
       "      <td>163719.572982</td>\n",
       "      <td>171029.257038</td>\n",
       "    </tr>\n",
       "    <tr>\n",
       "      <th>4</th>\n",
       "      <td>147535.703594</td>\n",
       "      <td>717.678704</td>\n",
       "      <td>150273.686816</td>\n",
       "      <td>170.943349</td>\n",
       "      <td>0.000000</td>\n",
       "      <td>98238.478046</td>\n",
       "      <td>167185.146235</td>\n",
       "      <td>360.456513</td>\n",
       "      <td>167447.526616</td>\n",
       "      <td>64127.605439</td>\n",
       "      <td>...</td>\n",
       "      <td>152616.372087</td>\n",
       "      <td>184095.841430</td>\n",
       "      <td>174338.693473</td>\n",
       "      <td>683.770307</td>\n",
       "      <td>163128.533013</td>\n",
       "      <td>208726.649113</td>\n",
       "      <td>733.124547</td>\n",
       "      <td>187303.498184</td>\n",
       "      <td>169860.094907</td>\n",
       "      <td>177203.883357</td>\n",
       "    </tr>\n",
       "    <tr>\n",
       "      <th>...</th>\n",
       "      <td>...</td>\n",
       "      <td>...</td>\n",
       "      <td>...</td>\n",
       "      <td>...</td>\n",
       "      <td>...</td>\n",
       "      <td>...</td>\n",
       "      <td>...</td>\n",
       "      <td>...</td>\n",
       "      <td>...</td>\n",
       "      <td>...</td>\n",
       "      <td>...</td>\n",
       "      <td>...</td>\n",
       "      <td>...</td>\n",
       "      <td>...</td>\n",
       "      <td>...</td>\n",
       "      <td>...</td>\n",
       "      <td>...</td>\n",
       "      <td>...</td>\n",
       "      <td>...</td>\n",
       "      <td>...</td>\n",
       "      <td>...</td>\n",
       "    </tr>\n",
       "    <tr>\n",
       "      <th>95</th>\n",
       "      <td>116221.577910</td>\n",
       "      <td>241096.630141</td>\n",
       "      <td>114054.438193</td>\n",
       "      <td>202840.678741</td>\n",
       "      <td>208726.649113</td>\n",
       "      <td>137626.285740</td>\n",
       "      <td>122628.155342</td>\n",
       "      <td>195228.676172</td>\n",
       "      <td>1714.055762</td>\n",
       "      <td>83919.465366</td>\n",
       "      <td>...</td>\n",
       "      <td>153193.499232</td>\n",
       "      <td>892.303378</td>\n",
       "      <td>618.304472</td>\n",
       "      <td>192843.661307</td>\n",
       "      <td>116900.610226</td>\n",
       "      <td>0.000000</td>\n",
       "      <td>184312.572213</td>\n",
       "      <td>909.384768</td>\n",
       "      <td>1605.017180</td>\n",
       "      <td>1328.922198</td>\n",
       "    </tr>\n",
       "    <tr>\n",
       "      <th>96</th>\n",
       "      <td>170762.757400</td>\n",
       "      <td>1050.946314</td>\n",
       "      <td>173019.920525</td>\n",
       "      <td>479.791627</td>\n",
       "      <td>733.124547</td>\n",
       "      <td>134766.435860</td>\n",
       "      <td>185491.498334</td>\n",
       "      <td>358.677817</td>\n",
       "      <td>138895.472301</td>\n",
       "      <td>140561.000371</td>\n",
       "      <td>...</td>\n",
       "      <td>170264.555263</td>\n",
       "      <td>155783.560318</td>\n",
       "      <td>140672.584223</td>\n",
       "      <td>641.295115</td>\n",
       "      <td>182708.203683</td>\n",
       "      <td>184312.572213</td>\n",
       "      <td>0.000000</td>\n",
       "      <td>161076.505929</td>\n",
       "      <td>141267.658956</td>\n",
       "      <td>150077.905545</td>\n",
       "    </tr>\n",
       "    <tr>\n",
       "      <th>97</th>\n",
       "      <td>38534.485772</td>\n",
       "      <td>220948.525747</td>\n",
       "      <td>46982.842074</td>\n",
       "      <td>181246.878967</td>\n",
       "      <td>187303.498184</td>\n",
       "      <td>106214.630951</td>\n",
       "      <td>47296.349054</td>\n",
       "      <td>172879.210506</td>\n",
       "      <td>804.659649</td>\n",
       "      <td>110618.202977</td>\n",
       "      <td>...</td>\n",
       "      <td>119800.669417</td>\n",
       "      <td>399.025482</td>\n",
       "      <td>1012.983572</td>\n",
       "      <td>170714.179759</td>\n",
       "      <td>52632.768944</td>\n",
       "      <td>909.384768</td>\n",
       "      <td>161076.505929</td>\n",
       "      <td>0.000000</td>\n",
       "      <td>693.486322</td>\n",
       "      <td>418.451630</td>\n",
       "    </tr>\n",
       "    <tr>\n",
       "      <th>98</th>\n",
       "      <td>92711.426634</td>\n",
       "      <td>205196.460920</td>\n",
       "      <td>96423.662878</td>\n",
       "      <td>163719.572982</td>\n",
       "      <td>169860.094907</td>\n",
       "      <td>76142.865585</td>\n",
       "      <td>97558.684863</td>\n",
       "      <td>154248.858556</td>\n",
       "      <td>82.746903</td>\n",
       "      <td>117845.753646</td>\n",
       "      <td>...</td>\n",
       "      <td>86629.905269</td>\n",
       "      <td>549.388166</td>\n",
       "      <td>923.005760</td>\n",
       "      <td>152568.682473</td>\n",
       "      <td>100882.049871</td>\n",
       "      <td>1605.017180</td>\n",
       "      <td>141267.658956</td>\n",
       "      <td>693.486322</td>\n",
       "      <td>0.000000</td>\n",
       "      <td>255.105761</td>\n",
       "    </tr>\n",
       "    <tr>\n",
       "      <th>99</th>\n",
       "      <td>85920.547745</td>\n",
       "      <td>211303.913768</td>\n",
       "      <td>90292.885614</td>\n",
       "      <td>171029.257038</td>\n",
       "      <td>177203.883357</td>\n",
       "      <td>86545.284809</td>\n",
       "      <td>89898.725506</td>\n",
       "      <td>162339.932441</td>\n",
       "      <td>382.327862</td>\n",
       "      <td>118227.731830</td>\n",
       "      <td>...</td>\n",
       "      <td>97972.967709</td>\n",
       "      <td>307.862638</td>\n",
       "      <td>1098.801150</td>\n",
       "      <td>160231.665803</td>\n",
       "      <td>94512.785726</td>\n",
       "      <td>1328.922198</td>\n",
       "      <td>150077.905545</td>\n",
       "      <td>418.451630</td>\n",
       "      <td>255.105761</td>\n",
       "      <td>0.000000</td>\n",
       "    </tr>\n",
       "  </tbody>\n",
       "</table>\n",
       "<p>100 rows × 100 columns</p>\n",
       "</div>"
      ],
      "text/plain": [
       "               0              1              2              3              4   \\\n",
       "0        0.000000  107306.868785      83.801670  144109.828560  147535.703594   \n",
       "1   107306.868785       0.000000  103536.404626    1082.472688     717.678704   \n",
       "2       83.801670  103536.404626       0.000000  146795.115456  150273.686816   \n",
       "3   144109.828560    1082.472688  146795.115456       0.000000     170.943349   \n",
       "4   147535.703594     717.678704  150273.686816     170.943349       0.000000   \n",
       "..            ...            ...            ...            ...            ...   \n",
       "95  116221.577910  241096.630141  114054.438193  202840.678741  208726.649113   \n",
       "96  170762.757400    1050.946314  173019.920525     479.791627     733.124547   \n",
       "97   38534.485772  220948.525747   46982.842074  181246.878967  187303.498184   \n",
       "98   92711.426634  205196.460920   96423.662878  163719.572982  169860.094907   \n",
       "99   85920.547745  211303.913768   90292.885614  171029.257038  177203.883357   \n",
       "\n",
       "               5              6              7              8              9   \\\n",
       "0     1256.448809     158.543462  163238.764868  100278.410706    1752.522346   \n",
       "1   137989.916302   75717.113958     236.819716  202523.744176  173013.148662   \n",
       "2     1340.303817     298.654630  165638.572073  103592.433083    1750.554567   \n",
       "3    96403.778851  163021.013275     554.376312  161223.736801   69490.507414   \n",
       "4    98238.478046  167185.146235     360.456513  167447.526616   64127.605439   \n",
       "..            ...            ...            ...            ...            ...   \n",
       "95  137626.285740  122628.155342  195228.676172    1714.055762   83919.465366   \n",
       "96  134766.435860  185491.498334     358.677817  138895.472301  140561.000371   \n",
       "97  106214.630951   47296.349054  172879.210506     804.659649  110618.202977   \n",
       "98   76142.865585   97558.684863  154248.858556      82.746903  117845.753646   \n",
       "99   86545.284809   89898.725506  162339.932441     382.327862  118227.731830   \n",
       "\n",
       "    ...             90             91             92             93  \\\n",
       "0   ...     912.879451   80237.198035   96942.101029  151233.024789   \n",
       "1   ...   39594.816973  220245.023423  215620.354714    1563.808467   \n",
       "2   ...     883.430361   75837.170421   94852.221478  153703.137217   \n",
       "3   ...  148051.819435  178313.535723  168945.218790     396.339611   \n",
       "4   ...  152616.372087  184095.841430  174338.693473     683.770307   \n",
       "..  ...            ...            ...            ...            ...   \n",
       "95  ...  153193.499232     892.303378     618.304472  192843.661307   \n",
       "96  ...  170264.555263  155783.560318  140672.584223     641.295115   \n",
       "97  ...  119800.669417     399.025482    1012.983572  170714.179759   \n",
       "98  ...   86629.905269     549.388166     923.005760  152568.682473   \n",
       "99  ...   97972.967709     307.862638    1098.801150  160231.665803   \n",
       "\n",
       "               94             95             96             97             98  \\\n",
       "0      263.153237  116221.577910  170762.757400   38534.485772   92711.426634   \n",
       "1    50502.665883  241096.630141    1050.946314  220948.525747  205196.460920   \n",
       "2      116.910946  114054.438193  173019.920525   46982.842074   96423.662878   \n",
       "3   159189.592193  202840.678741     479.791627  181246.878967  163719.572982   \n",
       "4   163128.533013  208726.649113     733.124547  187303.498184  169860.094907   \n",
       "..            ...            ...            ...            ...            ...   \n",
       "95  116900.610226       0.000000  184312.572213     909.384768    1605.017180   \n",
       "96  182708.203683  184312.572213       0.000000  161076.505929  141267.658956   \n",
       "97   52632.768944     909.384768  161076.505929       0.000000     693.486322   \n",
       "98  100882.049871    1605.017180  141267.658956     693.486322       0.000000   \n",
       "99   94512.785726    1328.922198  150077.905545     418.451630     255.105761   \n",
       "\n",
       "               99  \n",
       "0    85920.547745  \n",
       "1   211303.913768  \n",
       "2    90292.885614  \n",
       "3   171029.257038  \n",
       "4   177203.883357  \n",
       "..            ...  \n",
       "95    1328.922198  \n",
       "96  150077.905545  \n",
       "97     418.451630  \n",
       "98     255.105761  \n",
       "99       0.000000  \n",
       "\n",
       "[100 rows x 100 columns]"
      ]
     },
     "execution_count": 6,
     "metadata": {},
     "output_type": "execute_result"
    }
   ],
   "source": [
    "# Pairwise distances can be obtained with a call to `get_distances`\n",
    "x = t.get_distances()\n",
    "\n",
    "x['distances']"
   ]
  },
  {
   "attachments": {},
   "cell_type": "markdown",
   "id": "d8771d70-8f09-4835-b2f1-29619bd6613b",
   "metadata": {},
   "source": [
    "## Step 6a: Cluster\n",
    "\n",
    "Having access to the full matrix of pairwise distances, users have the ability to cluster with whatever algorithm they prefer (provided it supports a matrix of precomputed pairwise distances as an input).\n",
    "\n",
    "In the case of this recipe, we demonstrate using the HDBSCAN provided through Scikit-Learn."
   ]
  },
  {
   "cell_type": "code",
   "execution_count": 7,
   "id": "ba19a548-9aa2-4ef3-b0bc-b4dcc56685d3",
   "metadata": {
    "execution": {
     "iopub.execute_input": "2025-06-13T19:40:24.085680Z",
     "iopub.status.busy": "2025-06-13T19:40:24.085499Z",
     "iopub.status.idle": "2025-06-13T19:40:24.764975Z",
     "shell.execute_reply": "2025-06-13T19:40:24.764337Z"
    }
   },
   "outputs": [
    {
     "data": {
      "image/png": "[encoded data removed]"
     },
     "metadata": {},
     "output_type": "display_data"
    }
   ],
   "source": [
    "hdb = HDBSCAN(min_cluster_size=15, max_cluster_size=50, min_samples=10, metric='precomputed').fit(x['distances'])\n",
    "hdbscan_labels = hdb.labels_\n",
    "df[\"hdbscan_labels\"] = hdbscan_labels\n",
    "\n",
    "fig = make_subplots(rows=1, cols=2, subplot_titles=[\"True Clusters\", \"HDBSCAN Clusters\"])\n",
    "for label, group in df.groupby(\"target\"):\n",
    "    fig.add_scatter(x=group.x, y=group.y, col=1, row=1, mode=\"markers\", name=label)\n",
    "for label, group in df.groupby(\"hdbscan_labels\"):\n",
    "    fig.add_scatter(\n",
    "        x=group.x, y=group.y, col=2, row=1, mode=\"markers\", name=label,\n",
    "        marker_color=fig.layout[\"template\"][\"layout\"][\"colorway\"][label],\n",
    "        showlegend=False\n",
    "    )\n",
    "fig.update_layout(width=1000)\n",
    "fig.show()"
   ]
  },
  {
   "cell_type": "markdown",
   "id": "71281eee",
   "metadata": {},
   "source": [
    "## Step 6b: Visualize with UMAP\n",
    "\n",
    "UMAP can be used in tandem with Howso Engine to visualize high-dimensional datasets, similar to how HDBSCAN is used."
   ]
  },
  {
   "cell_type": "code",
   "execution_count": 8,
   "id": "11303050",
   "metadata": {
    "execution": {
     "iopub.execute_input": "2025-06-13T19:40:24.767156Z",
     "iopub.status.busy": "2025-06-13T19:40:24.766934Z",
     "iopub.status.idle": "2025-06-13T19:40:35.009383Z",
     "shell.execute_reply": "2025-06-13T19:40:35.008804Z"
    }
   },
   "outputs": [
    {
     "data": {
      "image/png": "[encoded data removed]"
     },
     "metadata": {},
     "output_type": "display_data"
    }
   ],
   "source": [
    "fig = plot_umap(t, color=\"target\", action_feature=action_features[0])\n",
    "fig.update_layout(width=1000)\n",
    "fig.show()"
   ]
  },
  {
   "cell_type": "markdown",
   "id": "86938256",
   "metadata": {},
   "source": [
    "## Step 7: Inspect Accuracy \n",
    "\n",
    "We calculate the performance of the clustering by measuring the similarity of the clusters compared to the original labels."
   ]
  },
  {
   "cell_type": "code",
   "execution_count": 9,
   "id": "34e6b5e7",
   "metadata": {
    "execution": {
     "iopub.execute_input": "2025-06-13T19:40:35.011595Z",
     "iopub.status.busy": "2025-06-13T19:40:35.011220Z",
     "iopub.status.idle": "2025-06-13T19:40:35.015967Z",
     "shell.execute_reply": "2025-06-13T19:40:35.015454Z"
    }
   },
   "outputs": [
    {
     "name": "stdout",
     "output_type": "stream",
     "text": [
      "clustering accuracy score: 1.0\n"
     ]
    }
   ],
   "source": [
    "dist_contribution_acc = adjusted_rand_score(df['target'], hdbscan_labels)\n",
    "print(f'clustering accuracy score: {dist_contribution_acc}')"
   ]
  },
  {
   "cell_type": "markdown",
   "id": "8172834d",
   "metadata": {},
   "source": [
    "# Conclusion\n",
    "\n",
    "As we demonstrate here, it is quite simple to use the Howso Engine for clustering using the internal distance metric by retrieving the pairwise distance matrix with `get_distances`. This pairwise distance metric can be passed to many popular clustering algorithms."
   ]
  }
 ],
 "metadata": {
  "kernelspec": {
   "display_name": "engine_rec_312",
   "language": "python",
   "name": "python3"
  },
  "language_info": {
   "codemirror_mode": {
    "name": "ipython",
    "version": 3
   },
   "file_extension": ".py",
   "mimetype": "text/x-python",
   "name": "python",
   "nbconvert_exporter": "python",
   "pygments_lexer": "ipython3",
   "version": "3.9.23"
  }
 },
 "nbformat": 4,
 "nbformat_minor": 5
}
