{
 "cells": [
  {
   "attachments": {},
   "cell_type": "markdown",
   "id": "ebe74b50-bacd-4e2b-bfe1-bf96093b7e4b",
   "metadata": {},
   "source": [
    "# Clustering With Howso Engine\n",
    "\n",
    "## Overview\n",
    "\n",
    "This example notebook will demonstrate Howso Engine’s ability to calculate pairwise distances for the training cases. This capability is based on Howso Engine’s underlying instance-based learning platform. Distances can be used for a variety of use cases, in particular, for clustering algorithms, such as HDBSCAN. Howso Engine’s feature reduction capabilities will also be used to demonstrate how to eliminate features for clustering. "
   ]
  },
  {
   "cell_type": "code",
   "execution_count": 1,
   "id": "cf84ccaa-16e7-430a-8e9d-1300082c0cc8",
   "metadata": {
    "execution": {
     "iopub.execute_input": "2025-09-02T19:51:04.203569Z",
     "iopub.status.busy": "2025-09-02T19:51:04.203395Z",
     "iopub.status.idle": "2025-09-02T19:51:09.141299Z",
     "shell.execute_reply": "2025-09-02T19:51:09.140570Z"
    }
   },
   "outputs": [],
   "source": [
    "import numpy as np\n",
    "import pandas as pd\n",
    "from plotly.subplots import make_subplots\n",
    "from sklearn.cluster import HDBSCAN\n",
    "from sklearn.datasets import make_blobs\n",
    "from sklearn.metrics import adjusted_rand_score\n",
    "\n",
    "from howso import engine\n",
    "from howso.utilities import infer_feature_attributes\n",
    "from howso.visuals import plot_umap"
   ]
  },
  {
   "attachments": {},
   "cell_type": "markdown",
   "id": "0d2145d5-cdca-4871-b521-e2ab44779a13",
   "metadata": {},
   "source": [
    "### Step 1: Generate a simple dataset with noise\n",
    "\n",
    "A 2-D blob is generated along with an extra noise column. The noise column is used to demonstrate feature reduction.\n"
   ]
  },
  {
   "cell_type": "code",
   "execution_count": 2,
   "id": "1109d7a6-ed86-4c20-868c-037a654019c1",
   "metadata": {
    "execution": {
     "iopub.execute_input": "2025-09-02T19:51:09.143880Z",
     "iopub.status.busy": "2025-09-02T19:51:09.143558Z",
     "iopub.status.idle": "2025-09-02T19:51:09.150224Z",
     "shell.execute_reply": "2025-09-02T19:51:09.149642Z"
    }
   },
   "outputs": [],
   "source": [
    "blobs = make_blobs(n_samples=100, n_features=2, centers=[(1,0), (1,5), (10,2)], random_state=0)\n",
    "df = pd.DataFrame(blobs[0], columns=['x', 'y'])\n",
    "df['target'] = blobs[1]\n",
    "\n",
    "# Noise\n",
    "noise = np.random.uniform(df['y'].min(), df['y'].max(), len(df))\n",
    "df['noise'] = noise"
   ]
  },
  {
   "cell_type": "markdown",
   "id": "ae92fd65",
   "metadata": {},
   "source": [
    "### Step 2: Create the Trainee, Train, and Analyze\n",
    "\n",
    "For questions about the specific steps of this section, please see the [basic workflow guide](https://docs.howso.com/en/release-latest/user_guide/basic_capabilities/basic_workflow.html)."
   ]
  },
  {
   "cell_type": "code",
   "execution_count": 3,
   "id": "4bbffb11",
   "metadata": {
    "execution": {
     "iopub.execute_input": "2025-09-02T19:51:09.152144Z",
     "iopub.status.busy": "2025-09-02T19:51:09.151949Z",
     "iopub.status.idle": "2025-09-02T19:51:09.959497Z",
     "shell.execute_reply": "2025-09-02T19:51:09.958666Z"
    }
   },
   "outputs": [],
   "source": [
    "# Infer feature attributes\n",
    "features = infer_feature_attributes(df)\n",
    "\n",
    "# Specify Context and Action Features\n",
    "action_features = ['target']\n",
    "\n",
    "context_features = features.get_names(without=action_features)\n",
    "\n",
    "# Create the Trainee\n",
    "t = engine.Trainee(features=features, overwrite_existing=True)\n",
    "\n",
    "# Train\n",
    "t.train(df)\n",
    "\n",
    "# Targeted Analysis\n",
    "t.analyze(context_features=context_features, action_features=action_features)"
   ]
  },
  {
   "cell_type": "markdown",
   "id": "3bd32650",
   "metadata": {},
   "source": [
    "### Step 3: Inspect Feature Importance\n",
    "\n",
    "In this example, since we have a target feature, we can inspect the [Accuracy Contributions](https://docs.howso.com/en/release-latest/getting_started/terminology.html#accuracy-contributions-ac) (a form of MDA) to understand how important each feature is."
   ]
  },
  {
   "cell_type": "markdown",
   "id": "08225f81",
   "metadata": {},
   "source": []
  },
  {
   "cell_type": "code",
   "execution_count": 4,
   "id": "82378132",
   "metadata": {},
   "outputs": [],
   "source": [
    "results = t.react_aggregate(\n",
    "    context_features=context_features,\n",
    "    feature_influences_action_feature=action_features[0],\n",
    "    details={\n",
    "        \"feature_robust_prediction_contributions\": True,\n",
    "        \"feature_robust_accuracy_contributions\": True\n",
    "    }\n",
    ")"
   ]
  },
  {
   "cell_type": "code",
   "execution_count": 5,
   "id": "5798d564",
   "metadata": {
    "execution": {
     "iopub.execute_input": "2025-09-02T19:51:09.962127Z",
     "iopub.status.busy": "2025-09-02T19:51:09.961868Z",
     "iopub.status.idle": "2025-09-02T19:51:12.622724Z",
     "shell.execute_reply": "2025-09-02T19:51:12.622023Z"
    }
   },
   "outputs": [
    {
     "data": {
      "text/html": [
       "<div>\n",
       "<style scoped>\n",
       "    .dataframe tbody tr th:only-of-type {\n",
       "        vertical-align: middle;\n",
       "    }\n",
       "\n",
       "    .dataframe tbody tr th {\n",
       "        vertical-align: top;\n",
       "    }\n",
       "\n",
       "    .dataframe thead th {\n",
       "        text-align: right;\n",
       "    }\n",
       "</style>\n",
       "<table border=\"1\" class=\"dataframe\">\n",
       "  <thead>\n",
       "    <tr style=\"text-align: right;\">\n",
       "      <th></th>\n",
       "      <th>target</th>\n",
       "    </tr>\n",
       "  </thead>\n",
       "  <tbody>\n",
       "    <tr>\n",
       "      <th>noise</th>\n",
       "      <td>-0.044878</td>\n",
       "    </tr>\n",
       "    <tr>\n",
       "      <th>y</th>\n",
       "      <td>0.360162</td>\n",
       "    </tr>\n",
       "    <tr>\n",
       "      <th>x</th>\n",
       "      <td>0.268829</td>\n",
       "    </tr>\n",
       "  </tbody>\n",
       "</table>\n",
       "</div>"
      ],
      "text/plain": [
       "         target\n",
       "noise -0.044878\n",
       "y      0.360162\n",
       "x      0.268829"
      ]
     },
     "execution_count": 5,
     "metadata": {},
     "output_type": "execute_result"
    }
   ],
   "source": [
    "\n",
    "# Robust Accuracy Contributions are returned as a matrix, the result must be edited to\n",
    "# view the contributions of the target feature in a row as the other metrics.\n",
    "robust_feature_influences = results['feature_robust_accuracy_contributions'].drop(['target'], axis=0)\n",
    "robust_feature_influences"
   ]
  },
  {
   "cell_type": "markdown",
   "id": "ced04228",
   "metadata": {},
   "source": [
    "We can see that the noise column not only contributes less to the prediction than the other variables, but it also marginally increases (and perhaps lowers) the accuracy. This is expected from the noise column and demonstrates how unimportant features can be highlighted with Howso Engine."
   ]
  },
  {
   "cell_type": "markdown",
   "id": "6e6e4365",
   "metadata": {},
   "source": [
    "### Step 4: Remove Unuseful Features\n",
    "\n",
    "Unuseful features like the noise feature can reduce the quality of the clustering so we will remove them in this example. Howso Engine allows use to easily remove the features from the Trainee."
   ]
  },
  {
   "cell_type": "code",
   "execution_count": 6,
   "id": "9522f0fb",
   "metadata": {
    "execution": {
     "iopub.execute_input": "2025-09-02T19:51:12.624724Z",
     "iopub.status.busy": "2025-09-02T19:51:12.624521Z",
     "iopub.status.idle": "2025-09-02T19:51:13.133715Z",
     "shell.execute_reply": "2025-09-02T19:51:13.132879Z"
    }
   },
   "outputs": [],
   "source": [
    "# Remove the noise feature\n",
    "t.remove_feature('noise')\n",
    "\n",
    "# update context_features\n",
    "context_features.remove('noise')\n",
    "\n",
    "# Reanalyze with the remaining features\n",
    "t.analyze(context_features=context_features, action_features=action_features)"
   ]
  },
  {
   "attachments": {},
   "cell_type": "markdown",
   "id": "08a8c655-4160-4437-8def-70fbbc2fc0c0",
   "metadata": {},
   "source": [
    "## Step 5: Get pairwise distances\n",
    "\n",
    "By directly using Howso Engine's pairwise distances, we can take advantage of all the benefits of Howso Engine, including the ease of preprocessing and categorical variable handling. \n",
    "\n",
    "`get_distances` returns a square matrix of distances that make up the pairwise distances from each case to each other case in the model. The distances are computing using the Howso Engine's internal distance metric which has its parameters tuned within the Analyze call. For more information about the Howso Engine's distance metric, see [<em>Surprisal Driven k-NN for Robust and Interpretable Nonparametric Learning </em> (Banerjee et. al. 2023)](https://arxiv.org/abs/2311.10246)."
   ]
  },
  {
   "cell_type": "code",
   "execution_count": 7,
   "id": "b1ae649e-525b-49e9-bb66-83b776c6c4e9",
   "metadata": {
    "execution": {
     "iopub.execute_input": "2025-09-02T19:51:13.136347Z",
     "iopub.status.busy": "2025-09-02T19:51:13.136073Z",
     "iopub.status.idle": "2025-09-02T19:51:13.159174Z",
     "shell.execute_reply": "2025-09-02T19:51:13.158497Z"
    }
   },
   "outputs": [
    {
     "data": {
      "text/html": [
       "<div>\n",
       "<style scoped>\n",
       "    .dataframe tbody tr th:only-of-type {\n",
       "        vertical-align: middle;\n",
       "    }\n",
       "\n",
       "    .dataframe tbody tr th {\n",
       "        vertical-align: top;\n",
       "    }\n",
       "\n",
       "    .dataframe thead th {\n",
       "        text-align: right;\n",
       "    }\n",
       "</style>\n",
       "<table border=\"1\" class=\"dataframe\">\n",
       "  <thead>\n",
       "    <tr style=\"text-align: right;\">\n",
       "      <th></th>\n",
       "      <th>0</th>\n",
       "      <th>1</th>\n",
       "      <th>2</th>\n",
       "      <th>3</th>\n",
       "      <th>4</th>\n",
       "      <th>5</th>\n",
       "      <th>6</th>\n",
       "      <th>7</th>\n",
       "      <th>8</th>\n",
       "      <th>9</th>\n",
       "      <th>...</th>\n",
       "      <th>90</th>\n",
       "      <th>91</th>\n",
       "      <th>92</th>\n",
       "      <th>93</th>\n",
       "      <th>94</th>\n",
       "      <th>95</th>\n",
       "      <th>96</th>\n",
       "      <th>97</th>\n",
       "      <th>98</th>\n",
       "      <th>99</th>\n",
       "    </tr>\n",
       "  </thead>\n",
       "  <tbody>\n",
       "    <tr>\n",
       "      <th>0</th>\n",
       "      <td>0.000000</td>\n",
       "      <td>21.524230</td>\n",
       "      <td>0.327746</td>\n",
       "      <td>25.766165</td>\n",
       "      <td>26.799515</td>\n",
       "      <td>4.921362</td>\n",
       "      <td>1.067240</td>\n",
       "      <td>28.957057</td>\n",
       "      <td>16.969707</td>\n",
       "      <td>6.855511</td>\n",
       "      <td>...</td>\n",
       "      <td>3.690099</td>\n",
       "      <td>14.790771</td>\n",
       "      <td>16.188622</td>\n",
       "      <td>26.496615</td>\n",
       "      <td>1.171444</td>\n",
       "      <td>20.156596</td>\n",
       "      <td>29.935888</td>\n",
       "      <td>11.620102</td>\n",
       "      <td>16.028828</td>\n",
       "      <td>15.502804</td>\n",
       "    </tr>\n",
       "    <tr>\n",
       "      <th>1</th>\n",
       "      <td>21.524230</td>\n",
       "      <td>0.000000</td>\n",
       "      <td>21.200360</td>\n",
       "      <td>4.784261</td>\n",
       "      <td>3.727396</td>\n",
       "      <td>24.140167</td>\n",
       "      <td>18.337539</td>\n",
       "      <td>3.207865</td>\n",
       "      <td>35.104128</td>\n",
       "      <td>31.884971</td>\n",
       "      <td>...</td>\n",
       "      <td>14.097572</td>\n",
       "      <td>38.960900</td>\n",
       "      <td>38.350150</td>\n",
       "      <td>6.515157</td>\n",
       "      <td>16.590378</td>\n",
       "      <td>43.242837</td>\n",
       "      <td>5.506203</td>\n",
       "      <td>38.943793</td>\n",
       "      <td>35.680084</td>\n",
       "      <td>36.908997</td>\n",
       "    </tr>\n",
       "    <tr>\n",
       "      <th>2</th>\n",
       "      <td>0.327746</td>\n",
       "      <td>21.200360</td>\n",
       "      <td>0.000000</td>\n",
       "      <td>26.222720</td>\n",
       "      <td>27.261711</td>\n",
       "      <td>5.249224</td>\n",
       "      <td>1.374118</td>\n",
       "      <td>29.390801</td>\n",
       "      <td>17.473269</td>\n",
       "      <td>6.839916</td>\n",
       "      <td>...</td>\n",
       "      <td>3.637747</td>\n",
       "      <td>14.403318</td>\n",
       "      <td>15.980827</td>\n",
       "      <td>26.934698</td>\n",
       "      <td>0.712054</td>\n",
       "      <td>19.934056</td>\n",
       "      <td>30.357207</td>\n",
       "      <td>12.277769</td>\n",
       "      <td>16.563216</td>\n",
       "      <td>16.087465</td>\n",
       "    </tr>\n",
       "    <tr>\n",
       "      <th>3</th>\n",
       "      <td>25.766165</td>\n",
       "      <td>4.784261</td>\n",
       "      <td>26.222720</td>\n",
       "      <td>0.000000</td>\n",
       "      <td>0.983577</td>\n",
       "      <td>18.368802</td>\n",
       "      <td>28.565505</td>\n",
       "      <td>2.174458</td>\n",
       "      <td>27.619123</td>\n",
       "      <td>19.510849</td>\n",
       "      <td>...</td>\n",
       "      <td>25.326712</td>\n",
       "      <td>31.337838</td>\n",
       "      <td>30.249602</td>\n",
       "      <td>1.548202</td>\n",
       "      <td>28.070979</td>\n",
       "      <td>35.939560</td>\n",
       "      <td>2.159704</td>\n",
       "      <td>31.556218</td>\n",
       "      <td>28.165839</td>\n",
       "      <td>29.497095</td>\n",
       "    </tr>\n",
       "    <tr>\n",
       "      <th>4</th>\n",
       "      <td>26.799515</td>\n",
       "      <td>3.727396</td>\n",
       "      <td>27.261711</td>\n",
       "      <td>0.983577</td>\n",
       "      <td>0.000000</td>\n",
       "      <td>19.257272</td>\n",
       "      <td>29.680496</td>\n",
       "      <td>1.528669</td>\n",
       "      <td>29.031359</td>\n",
       "      <td>19.891137</td>\n",
       "      <td>...</td>\n",
       "      <td>26.482427</td>\n",
       "      <td>32.707983</td>\n",
       "      <td>31.571004</td>\n",
       "      <td>2.779735</td>\n",
       "      <td>29.160705</td>\n",
       "      <td>37.332879</td>\n",
       "      <td>2.975005</td>\n",
       "      <td>32.959152</td>\n",
       "      <td>29.569941</td>\n",
       "      <td>30.908541</td>\n",
       "    </tr>\n",
       "    <tr>\n",
       "      <th>...</th>\n",
       "      <td>...</td>\n",
       "      <td>...</td>\n",
       "      <td>...</td>\n",
       "      <td>...</td>\n",
       "      <td>...</td>\n",
       "      <td>...</td>\n",
       "      <td>...</td>\n",
       "      <td>...</td>\n",
       "      <td>...</td>\n",
       "      <td>...</td>\n",
       "      <td>...</td>\n",
       "      <td>...</td>\n",
       "      <td>...</td>\n",
       "      <td>...</td>\n",
       "      <td>...</td>\n",
       "      <td>...</td>\n",
       "      <td>...</td>\n",
       "      <td>...</td>\n",
       "      <td>...</td>\n",
       "      <td>...</td>\n",
       "      <td>...</td>\n",
       "    </tr>\n",
       "    <tr>\n",
       "      <th>95</th>\n",
       "      <td>20.156596</td>\n",
       "      <td>43.242837</td>\n",
       "      <td>19.934056</td>\n",
       "      <td>35.939560</td>\n",
       "      <td>37.332879</td>\n",
       "      <td>22.608402</td>\n",
       "      <td>21.698184</td>\n",
       "      <td>34.922993</td>\n",
       "      <td>6.816637</td>\n",
       "      <td>14.614922</td>\n",
       "      <td>...</td>\n",
       "      <td>26.045002</td>\n",
       "      <td>3.498635</td>\n",
       "      <td>2.976214</td>\n",
       "      <td>33.993665</td>\n",
       "      <td>20.747820</td>\n",
       "      <td>0.000000</td>\n",
       "      <td>32.948772</td>\n",
       "      <td>3.618099</td>\n",
       "      <td>6.352014</td>\n",
       "      <td>5.306551</td>\n",
       "    </tr>\n",
       "    <tr>\n",
       "      <th>96</th>\n",
       "      <td>29.935888</td>\n",
       "      <td>5.506203</td>\n",
       "      <td>30.357207</td>\n",
       "      <td>2.159704</td>\n",
       "      <td>2.975005</td>\n",
       "      <td>23.462080</td>\n",
       "      <td>32.356459</td>\n",
       "      <td>1.416218</td>\n",
       "      <td>24.338398</td>\n",
       "      <td>27.137586</td>\n",
       "      <td>...</td>\n",
       "      <td>29.056265</td>\n",
       "      <td>27.990339</td>\n",
       "      <td>26.367963</td>\n",
       "      <td>2.508197</td>\n",
       "      <td>31.961899</td>\n",
       "      <td>32.948772</td>\n",
       "      <td>0.000000</td>\n",
       "      <td>28.440964</td>\n",
       "      <td>24.866061</td>\n",
       "      <td>26.327341</td>\n",
       "    </tr>\n",
       "    <tr>\n",
       "      <th>97</th>\n",
       "      <td>11.620102</td>\n",
       "      <td>38.943793</td>\n",
       "      <td>12.277769</td>\n",
       "      <td>31.556218</td>\n",
       "      <td>32.959152</td>\n",
       "      <td>17.378717</td>\n",
       "      <td>13.204901</td>\n",
       "      <td>30.481279</td>\n",
       "      <td>3.198514</td>\n",
       "      <td>17.738374</td>\n",
       "      <td>...</td>\n",
       "      <td>20.586191</td>\n",
       "      <td>1.563087</td>\n",
       "      <td>3.957025</td>\n",
       "      <td>29.573717</td>\n",
       "      <td>13.315332</td>\n",
       "      <td>3.618099</td>\n",
       "      <td>28.440964</td>\n",
       "      <td>0.000000</td>\n",
       "      <td>2.729270</td>\n",
       "      <td>1.686107</td>\n",
       "    </tr>\n",
       "    <tr>\n",
       "      <th>98</th>\n",
       "      <td>16.028828</td>\n",
       "      <td>35.680084</td>\n",
       "      <td>16.563216</td>\n",
       "      <td>28.165839</td>\n",
       "      <td>29.569941</td>\n",
       "      <td>12.977910</td>\n",
       "      <td>17.372060</td>\n",
       "      <td>26.998426</td>\n",
       "      <td>0.408343</td>\n",
       "      <td>18.750655</td>\n",
       "      <td>...</td>\n",
       "      <td>15.894025</td>\n",
       "      <td>2.501151</td>\n",
       "      <td>3.997521</td>\n",
       "      <td>26.138063</td>\n",
       "      <td>17.578908</td>\n",
       "      <td>6.352014</td>\n",
       "      <td>24.866061</td>\n",
       "      <td>2.729270</td>\n",
       "      <td>0.000000</td>\n",
       "      <td>0.999975</td>\n",
       "    </tr>\n",
       "    <tr>\n",
       "      <th>99</th>\n",
       "      <td>15.502804</td>\n",
       "      <td>36.908997</td>\n",
       "      <td>16.087465</td>\n",
       "      <td>29.497095</td>\n",
       "      <td>30.908541</td>\n",
       "      <td>14.512300</td>\n",
       "      <td>16.764920</td>\n",
       "      <td>28.400625</td>\n",
       "      <td>1.504016</td>\n",
       "      <td>18.864403</td>\n",
       "      <td>...</td>\n",
       "      <td>17.507632</td>\n",
       "      <td>1.664013</td>\n",
       "      <td>4.436055</td>\n",
       "      <td>27.497163</td>\n",
       "      <td>17.076072</td>\n",
       "      <td>5.306551</td>\n",
       "      <td>26.327341</td>\n",
       "      <td>1.686107</td>\n",
       "      <td>0.999975</td>\n",
       "      <td>0.000000</td>\n",
       "    </tr>\n",
       "  </tbody>\n",
       "</table>\n",
       "<p>100 rows × 100 columns</p>\n",
       "</div>"
      ],
      "text/plain": [
       "           0          1          2          3          4          5   \\\n",
       "0    0.000000  21.524230   0.327746  25.766165  26.799515   4.921362   \n",
       "1   21.524230   0.000000  21.200360   4.784261   3.727396  24.140167   \n",
       "2    0.327746  21.200360   0.000000  26.222720  27.261711   5.249224   \n",
       "3   25.766165   4.784261  26.222720   0.000000   0.983577  18.368802   \n",
       "4   26.799515   3.727396  27.261711   0.983577   0.000000  19.257272   \n",
       "..        ...        ...        ...        ...        ...        ...   \n",
       "95  20.156596  43.242837  19.934056  35.939560  37.332879  22.608402   \n",
       "96  29.935888   5.506203  30.357207   2.159704   2.975005  23.462080   \n",
       "97  11.620102  38.943793  12.277769  31.556218  32.959152  17.378717   \n",
       "98  16.028828  35.680084  16.563216  28.165839  29.569941  12.977910   \n",
       "99  15.502804  36.908997  16.087465  29.497095  30.908541  14.512300   \n",
       "\n",
       "           6          7          8          9   ...         90         91  \\\n",
       "0    1.067240  28.957057  16.969707   6.855511  ...   3.690099  14.790771   \n",
       "1   18.337539   3.207865  35.104128  31.884971  ...  14.097572  38.960900   \n",
       "2    1.374118  29.390801  17.473269   6.839916  ...   3.637747  14.403318   \n",
       "3   28.565505   2.174458  27.619123  19.510849  ...  25.326712  31.337838   \n",
       "4   29.680496   1.528669  29.031359  19.891137  ...  26.482427  32.707983   \n",
       "..        ...        ...        ...        ...  ...        ...        ...   \n",
       "95  21.698184  34.922993   6.816637  14.614922  ...  26.045002   3.498635   \n",
       "96  32.356459   1.416218  24.338398  27.137586  ...  29.056265  27.990339   \n",
       "97  13.204901  30.481279   3.198514  17.738374  ...  20.586191   1.563087   \n",
       "98  17.372060  26.998426   0.408343  18.750655  ...  15.894025   2.501151   \n",
       "99  16.764920  28.400625   1.504016  18.864403  ...  17.507632   1.664013   \n",
       "\n",
       "           92         93         94         95         96         97  \\\n",
       "0   16.188622  26.496615   1.171444  20.156596  29.935888  11.620102   \n",
       "1   38.350150   6.515157  16.590378  43.242837   5.506203  38.943793   \n",
       "2   15.980827  26.934698   0.712054  19.934056  30.357207  12.277769   \n",
       "3   30.249602   1.548202  28.070979  35.939560   2.159704  31.556218   \n",
       "4   31.571004   2.779735  29.160705  37.332879   2.975005  32.959152   \n",
       "..        ...        ...        ...        ...        ...        ...   \n",
       "95   2.976214  33.993665  20.747820   0.000000  32.948772   3.618099   \n",
       "96  26.367963   2.508197  31.961899  32.948772   0.000000  28.440964   \n",
       "97   3.957025  29.573717  13.315332   3.618099  28.440964   0.000000   \n",
       "98   3.997521  26.138063  17.578908   6.352014  24.866061   2.729270   \n",
       "99   4.436055  27.497163  17.076072   5.306551  26.327341   1.686107   \n",
       "\n",
       "           98         99  \n",
       "0   16.028828  15.502804  \n",
       "1   35.680084  36.908997  \n",
       "2   16.563216  16.087465  \n",
       "3   28.165839  29.497095  \n",
       "4   29.569941  30.908541  \n",
       "..        ...        ...  \n",
       "95   6.352014   5.306551  \n",
       "96  24.866061  26.327341  \n",
       "97   2.729270   1.686107  \n",
       "98   0.000000   0.999975  \n",
       "99   0.999975   0.000000  \n",
       "\n",
       "[100 rows x 100 columns]"
      ]
     },
     "execution_count": 7,
     "metadata": {},
     "output_type": "execute_result"
    }
   ],
   "source": [
    "# Pairwise distances can be obtained with a call to `get_distances`\n",
    "x = t.get_distances()\n",
    "\n",
    "x['distances']"
   ]
  },
  {
   "attachments": {},
   "cell_type": "markdown",
   "id": "d8771d70-8f09-4835-b2f1-29619bd6613b",
   "metadata": {},
   "source": [
    "## Step 6a: Cluster\n",
    "\n",
    "Having access to the full matrix of pairwise distances, users have the ability to cluster with whatever algorithm they prefer (provided it supports a matrix of precomputed pairwise distances as an input).\n",
    "\n",
    "In the case of this recipe, we demonstrate using the HDBSCAN provided through Scikit-Learn."
   ]
  },
  {
   "cell_type": "code",
   "execution_count": 8,
   "id": "ba19a548-9aa2-4ef3-b0bc-b4dcc56685d3",
   "metadata": {
    "execution": {
     "iopub.execute_input": "2025-09-02T19:51:13.161010Z",
     "iopub.status.busy": "2025-09-02T19:51:13.160812Z",
     "iopub.status.idle": "2025-09-02T19:51:16.487289Z",
     "shell.execute_reply": "2025-09-02T19:51:16.486580Z"
    }
   },
   "outputs": [
    {
     "data": {
      "application/vnd.plotly.v1+json": {
       "config": {
        "plotlyServerURL": "https://plot.ly"
       },
       "data": [
        {
         "mode": "markers",
         "name": "0",
         "type": "scatter",
         "x": {
          "bdata": "envfJqp68j97GuxcdBDxP+RDrb8hQwRACvdmy7zW8j/A+Fvxw5nmvz5ctaEATvI/gtPg9/dO3z81SDkNu9T9P+2eWD7C8AZAo2Tyo6LXAUC9xb8cdSgKQGSm4JfS6sc/dHRg2QvZ+L/WZBEp6aj/P/RKmemPM/8/XmsYV+fd5D+Ez0vKBJvjP9Ln8nnHHAZAYWRAR1MC9T8qzEa5lSrkvw6kIE5EZ9c/V6BelSEZ7z9giiwq79uov/D2AhW0wro/uLg8dGj21D916eZgbrLsPwgUSxkNpeO/vK3/lswt0L+w4RLAErq8Pwp1yOQ1Lfw/lKnC0Nth3z9znUhVEBr3P57Mprrf8wNAqyt1SG278D8=",
          "dtype": "f8"
         },
         "xaxis": "x",
         "y": {
          "bdata": "M+qQkdAz2D85FzAXs1vTPw4AbVd+gvc/he1KY8e22b/MysVCYDb/P/eF/Uu0RPc/rpK2kt7j8r/XL1zb0L/nv4KMpULcRe+/JWD+pvI88z8NOg3xFEX3v3axioHanvu/Zilvi3Hq5D9OMeNpWe0BQDaE00msX8O/7k6INj4DxD/1j82i7VjTv1OJzPosnNk/8IV+lsBU67+Jvyl3OZ7dP3r4NLkmN9e/Qs/wE8pp2z9drH66ZLj2v5r1wrECw9g/plx/Q+sC179mKWfwPkfaP6PKB9ESO8u/UxxodDPh6D943TCjV7H/v5CzkwgYJr8/Zdaoy2gJ3L/kleWQ61rVP7ZqsECgQsq/OKQZ8aP1x78=",
          "dtype": "f8"
         },
         "yaxis": "y"
        },
        {
         "mode": "markers",
         "name": "1",
         "type": "scatter",
         "x": {
          "bdata": "vpba+yNuAUCgekJdS7u3PzZAqiW4wfo/FI7M40TT+T/ud2Y/M4zTP3Dcy9tjc80/yqS2JBhV8z8c0+rJ/W/2P1IeVECts/U/XPjHqCwZ4z/oU41GoSPFv6ZeClCxEAdA0JiRYegoxr/jI0pklcX0PzlrJMTw5wNA5qbZEQIr8D9YOikbfh0BQOfiWXVac/c/HMHT2zgT4j8uEpPAwvAGQJs5lCCiw+I/bIKjT6BP0b9eedExhGznP6Cy3m0vYgdAbIAbVFvDwT/yFRvH1gX2P5iF9tK719Q/vNzw+8IH5j8YKmgRuInAP+B5fgPYHLK/QBB6+dQH8j/sjuqt8Sf/PxT/hd1aqvs/",
          "dtype": "f8"
         },
         "xaxis": "x",
         "y": {
          "bdata": "iMqpyMFHE0AgfYAsMTUUQD8Y9Kw9oRVA/x8a8lawF0A9w/szxmYTQKH4o/AwKBZAK8dGEBToF0Akw70kwUIRQEx2puqH0xZAuMv5o8jjGEDwWjNCcpoXQFIL7BjKNw1AsbTQoUTGG0DylcAaOE4ZQCWR3/hjlRtAI94YPLskG0D4mOqjEx8OQNEFxt7FtQtAvv0NZKVlG0B5CMAryp8XQBR/tjSbAhFAC47Zh6ngF0BtpSEhtzUXQArSyREM7BlAOy8rEeijG0Bo9LlbbTQPQAE1mzCYIBRAfi5QaIM5FEAkJZIIQq8RQBOFiTHCNxhA41aFGaObFUDzf74IRWETQKvInRgUhBRA",
          "dtype": "f8"
         },
         "yaxis": "y"
        },
        {
         "mode": "markers",
         "name": "2",
         "type": "scatter",
         "x": {
          "bdata": "PXURpne2IkCp0FVEjsohQIpBlnHEFiNATSUAYnK6IkBTp+FwRWAmQKzEdqGXzSNAWGKPqZNTKEDvzrFvD90jQPkRWek2JyVATi81Vh5AJUAnppEhKIslQFMCJMbj/yFAC6m8qA5qIUDG0+S4d+4hQAtZS40rxChAe+RvbNZAJkD0k0ZiQV4hQEi+yM561yVAqMFPZMHKJEAd1lgf4+sjQIAqDn2nZCJACIk2t5OMIUDeqoCAsrYlQP2G936vgiJA6nwf6+oLJUBUeHc6VlUkQLLG53sa5iVAx11gT8FKI0ASayH9frQhQBHc/+MBASNAyFW6/1eFIkDi1YLieQQhQJFPtZCiLCJA",
          "dtype": "f8"
         },
         "xaxis": "x",
         "y": {
          "bdata": "4EhQeHmYzL9iWmuG1WoAQF7+Ah3MIwBAEsT921VpBUCMaEc1GYkCQH5/p5dkYvU/aifIkDWxCkDblmIH7bQNQJTrj+zOqvw/pDS3KuN32T+uJ4tYiZYGQNAu4mh4It0/7sjxkOsiAkA+OKnT53MFQPju4kJLjgdAuhc1ejNx7T9nvR92WZ34P9jEbRXBjAJAzI3v3qMF7T94AJFi+p7qP8SU+aaa9/Q/bchMYEHBBkCCq/4vZpX1P1bjBGLoxvI/NG1aolhB/T9gEatcixQFQO3JsxBOswBAmqclJWYA5D9hoaRosP74P0LSXYCubw9ASi5ECRhYDEAYhdjL34MDQJ3EUzym7whA",
          "dtype": "f8"
         },
         "yaxis": "y"
        },
        {
         "marker": {
          "color": "#636efa"
         },
         "mode": "markers",
         "name": "0",
         "showlegend": false,
         "type": "scatter",
         "x": {
          "bdata": "PXURpne2IkCp0FVEjsohQIpBlnHEFiNATSUAYnK6IkBTp+FwRWAmQKzEdqGXzSNAWGKPqZNTKEDvzrFvD90jQPkRWek2JyVATi81Vh5AJUAnppEhKIslQFMCJMbj/yFAC6m8qA5qIUDG0+S4d+4hQAtZS40rxChAe+RvbNZAJkD0k0ZiQV4hQEi+yM561yVAqMFPZMHKJEAd1lgf4+sjQIAqDn2nZCJACIk2t5OMIUDeqoCAsrYlQP2G936vgiJA6nwf6+oLJUBUeHc6VlUkQLLG53sa5iVAx11gT8FKI0ASayH9frQhQBHc/+MBASNAyFW6/1eFIkDi1YLieQQhQJFPtZCiLCJA",
          "dtype": "f8"
         },
         "xaxis": "x2",
         "y": {
          "bdata": "4EhQeHmYzL9iWmuG1WoAQF7+Ah3MIwBAEsT921VpBUCMaEc1GYkCQH5/p5dkYvU/aifIkDWxCkDblmIH7bQNQJTrj+zOqvw/pDS3KuN32T+uJ4tYiZYGQNAu4mh4It0/7sjxkOsiAkA+OKnT53MFQPju4kJLjgdAuhc1ejNx7T9nvR92WZ34P9jEbRXBjAJAzI3v3qMF7T94AJFi+p7qP8SU+aaa9/Q/bchMYEHBBkCCq/4vZpX1P1bjBGLoxvI/NG1aolhB/T9gEatcixQFQO3JsxBOswBAmqclJWYA5D9hoaRosP74P0LSXYCubw9ASi5ECRhYDEAYhdjL34MDQJ3EUzym7whA",
          "dtype": "f8"
         },
         "yaxis": "y2"
        },
        {
         "marker": {
          "color": "#EF553B"
         },
         "mode": "markers",
         "name": "1",
         "showlegend": false,
         "type": "scatter",
         "x": {
          "bdata": "envfJqp68j97GuxcdBDxP+RDrb8hQwRACvdmy7zW8j/A+Fvxw5nmvz5ctaEATvI/gtPg9/dO3z81SDkNu9T9P+2eWD7C8AZAo2Tyo6LXAUC9xb8cdSgKQGSm4JfS6sc/dHRg2QvZ+L/WZBEp6aj/P/RKmemPM/8/XmsYV+fd5D+Ez0vKBJvjP9Ln8nnHHAZAYWRAR1MC9T8qzEa5lSrkvw6kIE5EZ9c/V6BelSEZ7z9giiwq79uov/D2AhW0wro/uLg8dGj21D916eZgbrLsPwgUSxkNpeO/vK3/lswt0L+w4RLAErq8Pwp1yOQ1Lfw/lKnC0Nth3z9znUhVEBr3P57Mprrf8wNAqyt1SG278D8=",
          "dtype": "f8"
         },
         "xaxis": "x2",
         "y": {
          "bdata": "M+qQkdAz2D85FzAXs1vTPw4AbVd+gvc/he1KY8e22b/MysVCYDb/P/eF/Uu0RPc/rpK2kt7j8r/XL1zb0L/nv4KMpULcRe+/JWD+pvI88z8NOg3xFEX3v3axioHanvu/Zilvi3Hq5D9OMeNpWe0BQDaE00msX8O/7k6INj4DxD/1j82i7VjTv1OJzPosnNk/8IV+lsBU67+Jvyl3OZ7dP3r4NLkmN9e/Qs/wE8pp2z9drH66ZLj2v5r1wrECw9g/plx/Q+sC179mKWfwPkfaP6PKB9ESO8u/UxxodDPh6D943TCjV7H/v5CzkwgYJr8/Zdaoy2gJ3L/kleWQ61rVP7ZqsECgQsq/OKQZ8aP1x78=",
          "dtype": "f8"
         },
         "yaxis": "y2"
        },
        {
         "marker": {
          "color": "#00cc96"
         },
         "mode": "markers",
         "name": "2",
         "showlegend": false,
         "type": "scatter",
         "x": {
          "bdata": "vpba+yNuAUCgekJdS7u3PzZAqiW4wfo/FI7M40TT+T/ud2Y/M4zTP3Dcy9tjc80/yqS2JBhV8z8c0+rJ/W/2P1IeVECts/U/XPjHqCwZ4z/oU41GoSPFv6ZeClCxEAdA0JiRYegoxr/jI0pklcX0PzlrJMTw5wNA5qbZEQIr8D9YOikbfh0BQOfiWXVac/c/HMHT2zgT4j8uEpPAwvAGQJs5lCCiw+I/bIKjT6BP0b9eedExhGznP6Cy3m0vYgdAbIAbVFvDwT/yFRvH1gX2P5iF9tK719Q/vNzw+8IH5j8YKmgRuInAP+B5fgPYHLK/QBB6+dQH8j/sjuqt8Sf/PxT/hd1aqvs/",
          "dtype": "f8"
         },
         "xaxis": "x2",
         "y": {
          "bdata": "iMqpyMFHE0AgfYAsMTUUQD8Y9Kw9oRVA/x8a8lawF0A9w/szxmYTQKH4o/AwKBZAK8dGEBToF0Akw70kwUIRQEx2puqH0xZAuMv5o8jjGEDwWjNCcpoXQFIL7BjKNw1AsbTQoUTGG0DylcAaOE4ZQCWR3/hjlRtAI94YPLskG0D4mOqjEx8OQNEFxt7FtQtAvv0NZKVlG0B5CMAryp8XQBR/tjSbAhFAC47Zh6ngF0BtpSEhtzUXQArSyREM7BlAOy8rEeijG0Bo9LlbbTQPQAE1mzCYIBRAfi5QaIM5FEAkJZIIQq8RQBOFiTHCNxhA41aFGaObFUDzf74IRWETQKvInRgUhBRA",
          "dtype": "f8"
         },
         "yaxis": "y2"
        }
       ],
       "layout": {
        "annotations": [
         {
          "font": {
           "size": 16
          },
          "showarrow": false,
          "text": "True Clusters",
          "x": 0.225,
          "xanchor": "center",
          "xref": "paper",
          "y": 1,
          "yanchor": "bottom",
          "yref": "paper"
         },
         {
          "font": {
           "size": 16
          },
          "showarrow": false,
          "text": "HDBSCAN Clusters",
          "x": 0.775,
          "xanchor": "center",
          "xref": "paper",
          "y": 1,
          "yanchor": "bottom",
          "yref": "paper"
         }
        ],
        "template": {
         "data": {
          "bar": [
           {
            "error_x": {
             "color": "#2a3f5f"
            },
            "error_y": {
             "color": "#2a3f5f"
            },
            "marker": {
             "line": {
              "color": "#E5ECF6",
              "width": 0.5
             },
             "pattern": {
              "fillmode": "overlay",
              "size": 10,
              "solidity": 0.2
             }
            },
            "type": "bar"
           }
          ],
          "barpolar": [
           {
            "marker": {
             "line": {
              "color": "#E5ECF6",
              "width": 0.5
             },
             "pattern": {
              "fillmode": "overlay",
              "size": 10,
              "solidity": 0.2
             }
            },
            "type": "barpolar"
           }
          ],
          "carpet": [
           {
            "aaxis": {
             "endlinecolor": "#2a3f5f",
             "gridcolor": "white",
             "linecolor": "white",
             "minorgridcolor": "white",
             "startlinecolor": "#2a3f5f"
            },
            "baxis": {
             "endlinecolor": "#2a3f5f",
             "gridcolor": "white",
             "linecolor": "white",
             "minorgridcolor": "white",
             "startlinecolor": "#2a3f5f"
            },
            "type": "carpet"
           }
          ],
          "choropleth": [
           {
            "colorbar": {
             "outlinewidth": 0,
             "ticks": ""
            },
            "type": "choropleth"
           }
          ],
          "contour": [
           {
            "colorbar": {
             "outlinewidth": 0,
             "ticks": ""
            },
            "colorscale": [
             [
              0,
              "#0d0887"
             ],
             [
              0.1111111111111111,
              "#46039f"
             ],
             [
              0.2222222222222222,
              "#7201a8"
             ],
             [
              0.3333333333333333,
              "#9c179e"
             ],
             [
              0.4444444444444444,
              "#bd3786"
             ],
             [
              0.5555555555555556,
              "#d8576b"
             ],
             [
              0.6666666666666666,
              "#ed7953"
             ],
             [
              0.7777777777777778,
              "#fb9f3a"
             ],
             [
              0.8888888888888888,
              "#fdca26"
             ],
             [
              1,
              "#f0f921"
             ]
            ],
            "type": "contour"
           }
          ],
          "contourcarpet": [
           {
            "colorbar": {
             "outlinewidth": 0,
             "ticks": ""
            },
            "type": "contourcarpet"
           }
          ],
          "heatmap": [
           {
            "colorbar": {
             "outlinewidth": 0,
             "ticks": ""
            },
            "colorscale": [
             [
              0,
              "#0d0887"
             ],
             [
              0.1111111111111111,
              "#46039f"
             ],
             [
              0.2222222222222222,
              "#7201a8"
             ],
             [
              0.3333333333333333,
              "#9c179e"
             ],
             [
              0.4444444444444444,
              "#bd3786"
             ],
             [
              0.5555555555555556,
              "#d8576b"
             ],
             [
              0.6666666666666666,
              "#ed7953"
             ],
             [
              0.7777777777777778,
              "#fb9f3a"
             ],
             [
              0.8888888888888888,
              "#fdca26"
             ],
             [
              1,
              "#f0f921"
             ]
            ],
            "type": "heatmap"
           }
          ],
          "histogram": [
           {
            "marker": {
             "pattern": {
              "fillmode": "overlay",
              "size": 10,
              "solidity": 0.2
             }
            },
            "type": "histogram"
           }
          ],
          "histogram2d": [
           {
            "colorbar": {
             "outlinewidth": 0,
             "ticks": ""
            },
            "colorscale": [
             [
              0,
              "#0d0887"
             ],
             [
              0.1111111111111111,
              "#46039f"
             ],
             [
              0.2222222222222222,
              "#7201a8"
             ],
             [
              0.3333333333333333,
              "#9c179e"
             ],
             [
              0.4444444444444444,
              "#bd3786"
             ],
             [
              0.5555555555555556,
              "#d8576b"
             ],
             [
              0.6666666666666666,
              "#ed7953"
             ],
             [
              0.7777777777777778,
              "#fb9f3a"
             ],
             [
              0.8888888888888888,
              "#fdca26"
             ],
             [
              1,
              "#f0f921"
             ]
            ],
            "type": "histogram2d"
           }
          ],
          "histogram2dcontour": [
           {
            "colorbar": {
             "outlinewidth": 0,
             "ticks": ""
            },
            "colorscale": [
             [
              0,
              "#0d0887"
             ],
             [
              0.1111111111111111,
              "#46039f"
             ],
             [
              0.2222222222222222,
              "#7201a8"
             ],
             [
              0.3333333333333333,
              "#9c179e"
             ],
             [
              0.4444444444444444,
              "#bd3786"
             ],
             [
              0.5555555555555556,
              "#d8576b"
             ],
             [
              0.6666666666666666,
              "#ed7953"
             ],
             [
              0.7777777777777778,
              "#fb9f3a"
             ],
             [
              0.8888888888888888,
              "#fdca26"
             ],
             [
              1,
              "#f0f921"
             ]
            ],
            "type": "histogram2dcontour"
           }
          ],
          "mesh3d": [
           {
            "colorbar": {
             "outlinewidth": 0,
             "ticks": ""
            },
            "type": "mesh3d"
           }
          ],
          "parcoords": [
           {
            "line": {
             "colorbar": {
              "outlinewidth": 0,
              "ticks": ""
             }
            },
            "type": "parcoords"
           }
          ],
          "pie": [
           {
            "automargin": true,
            "type": "pie"
           }
          ],
          "scatter": [
           {
            "fillpattern": {
             "fillmode": "overlay",
             "size": 10,
             "solidity": 0.2
            },
            "type": "scatter"
           }
          ],
          "scatter3d": [
           {
            "line": {
             "colorbar": {
              "outlinewidth": 0,
              "ticks": ""
             }
            },
            "marker": {
             "colorbar": {
              "outlinewidth": 0,
              "ticks": ""
             }
            },
            "type": "scatter3d"
           }
          ],
          "scattercarpet": [
           {
            "marker": {
             "colorbar": {
              "outlinewidth": 0,
              "ticks": ""
             }
            },
            "type": "scattercarpet"
           }
          ],
          "scattergeo": [
           {
            "marker": {
             "colorbar": {
              "outlinewidth": 0,
              "ticks": ""
             }
            },
            "type": "scattergeo"
           }
          ],
          "scattergl": [
           {
            "marker": {
             "colorbar": {
              "outlinewidth": 0,
              "ticks": ""
             }
            },
            "type": "scattergl"
           }
          ],
          "scattermap": [
           {
            "marker": {
             "colorbar": {
              "outlinewidth": 0,
              "ticks": ""
             }
            },
            "type": "scattermap"
           }
          ],
          "scattermapbox": [
           {
            "marker": {
             "colorbar": {
              "outlinewidth": 0,
              "ticks": ""
             }
            },
            "type": "scattermapbox"
           }
          ],
          "scatterpolar": [
           {
            "marker": {
             "colorbar": {
              "outlinewidth": 0,
              "ticks": ""
             }
            },
            "type": "scatterpolar"
           }
          ],
          "scatterpolargl": [
           {
            "marker": {
             "colorbar": {
              "outlinewidth": 0,
              "ticks": ""
             }
            },
            "type": "scatterpolargl"
           }
          ],
          "scatterternary": [
           {
            "marker": {
             "colorbar": {
              "outlinewidth": 0,
              "ticks": ""
             }
            },
            "type": "scatterternary"
           }
          ],
          "surface": [
           {
            "colorbar": {
             "outlinewidth": 0,
             "ticks": ""
            },
            "colorscale": [
             [
              0,
              "#0d0887"
             ],
             [
              0.1111111111111111,
              "#46039f"
             ],
             [
              0.2222222222222222,
              "#7201a8"
             ],
             [
              0.3333333333333333,
              "#9c179e"
             ],
             [
              0.4444444444444444,
              "#bd3786"
             ],
             [
              0.5555555555555556,
              "#d8576b"
             ],
             [
              0.6666666666666666,
              "#ed7953"
             ],
             [
              0.7777777777777778,
              "#fb9f3a"
             ],
             [
              0.8888888888888888,
              "#fdca26"
             ],
             [
              1,
              "#f0f921"
             ]
            ],
            "type": "surface"
           }
          ],
          "table": [
           {
            "cells": {
             "fill": {
              "color": "#EBF0F8"
             },
             "line": {
              "color": "white"
             }
            },
            "header": {
             "fill": {
              "color": "#C8D4E3"
             },
             "line": {
              "color": "white"
             }
            },
            "type": "table"
           }
          ]
         },
         "layout": {
          "annotationdefaults": {
           "arrowcolor": "#2a3f5f",
           "arrowhead": 0,
           "arrowwidth": 1
          },
          "autotypenumbers": "strict",
          "coloraxis": {
           "colorbar": {
            "outlinewidth": 0,
            "ticks": ""
           }
          },
          "colorscale": {
           "diverging": [
            [
             0,
             "#8e0152"
            ],
            [
             0.1,
             "#c51b7d"
            ],
            [
             0.2,
             "#de77ae"
            ],
            [
             0.3,
             "#f1b6da"
            ],
            [
             0.4,
             "#fde0ef"
            ],
            [
             0.5,
             "#f7f7f7"
            ],
            [
             0.6,
             "#e6f5d0"
            ],
            [
             0.7,
             "#b8e186"
            ],
            [
             0.8,
             "#7fbc41"
            ],
            [
             0.9,
             "#4d9221"
            ],
            [
             1,
             "#276419"
            ]
           ],
           "sequential": [
            [
             0,
             "#0d0887"
            ],
            [
             0.1111111111111111,
             "#46039f"
            ],
            [
             0.2222222222222222,
             "#7201a8"
            ],
            [
             0.3333333333333333,
             "#9c179e"
            ],
            [
             0.4444444444444444,
             "#bd3786"
            ],
            [
             0.5555555555555556,
             "#d8576b"
            ],
            [
             0.6666666666666666,
             "#ed7953"
            ],
            [
             0.7777777777777778,
             "#fb9f3a"
            ],
            [
             0.8888888888888888,
             "#fdca26"
            ],
            [
             1,
             "#f0f921"
            ]
           ],
           "sequentialminus": [
            [
             0,
             "#0d0887"
            ],
            [
             0.1111111111111111,
             "#46039f"
            ],
            [
             0.2222222222222222,
             "#7201a8"
            ],
            [
             0.3333333333333333,
             "#9c179e"
            ],
            [
             0.4444444444444444,
             "#bd3786"
            ],
            [
             0.5555555555555556,
             "#d8576b"
            ],
            [
             0.6666666666666666,
             "#ed7953"
            ],
            [
             0.7777777777777778,
             "#fb9f3a"
            ],
            [
             0.8888888888888888,
             "#fdca26"
            ],
            [
             1,
             "#f0f921"
            ]
           ]
          },
          "colorway": [
           "#636efa",
           "#EF553B",
           "#00cc96",
           "#ab63fa",
           "#FFA15A",
           "#19d3f3",
           "#FF6692",
           "#B6E880",
           "#FF97FF",
           "#FECB52"
          ],
          "font": {
           "color": "#2a3f5f"
          },
          "geo": {
           "bgcolor": "white",
           "lakecolor": "white",
           "landcolor": "#E5ECF6",
           "showlakes": true,
           "showland": true,
           "subunitcolor": "white"
          },
          "hoverlabel": {
           "align": "left"
          },
          "hovermode": "closest",
          "mapbox": {
           "style": "light"
          },
          "paper_bgcolor": "white",
          "plot_bgcolor": "#E5ECF6",
          "polar": {
           "angularaxis": {
            "gridcolor": "white",
            "linecolor": "white",
            "ticks": ""
           },
           "bgcolor": "#E5ECF6",
           "radialaxis": {
            "gridcolor": "white",
            "linecolor": "white",
            "ticks": ""
           }
          },
          "scene": {
           "xaxis": {
            "backgroundcolor": "#E5ECF6",
            "gridcolor": "white",
            "gridwidth": 2,
            "linecolor": "white",
            "showbackground": true,
            "ticks": "",
            "zerolinecolor": "white"
           },
           "yaxis": {
            "backgroundcolor": "#E5ECF6",
            "gridcolor": "white",
            "gridwidth": 2,
            "linecolor": "white",
            "showbackground": true,
            "ticks": "",
            "zerolinecolor": "white"
           },
           "zaxis": {
            "backgroundcolor": "#E5ECF6",
            "gridcolor": "white",
            "gridwidth": 2,
            "linecolor": "white",
            "showbackground": true,
            "ticks": "",
            "zerolinecolor": "white"
           }
          },
          "shapedefaults": {
           "line": {
            "color": "#2a3f5f"
           }
          },
          "ternary": {
           "aaxis": {
            "gridcolor": "white",
            "linecolor": "white",
            "ticks": ""
           },
           "baxis": {
            "gridcolor": "white",
            "linecolor": "white",
            "ticks": ""
           },
           "bgcolor": "#E5ECF6",
           "caxis": {
            "gridcolor": "white",
            "linecolor": "white",
            "ticks": ""
           }
          },
          "title": {
           "x": 0.05
          },
          "xaxis": {
           "automargin": true,
           "gridcolor": "white",
           "linecolor": "white",
           "ticks": "",
           "title": {
            "standoff": 15
           },
           "zerolinecolor": "white",
           "zerolinewidth": 2
          },
          "yaxis": {
           "automargin": true,
           "gridcolor": "white",
           "linecolor": "white",
           "ticks": "",
           "title": {
            "standoff": 15
           },
           "zerolinecolor": "white",
           "zerolinewidth": 2
          }
         }
        },
        "xaxis": {
         "anchor": "y",
         "domain": [
          0,
          0.45
         ]
        },
        "xaxis2": {
         "anchor": "y2",
         "domain": [
          0.55,
          1
         ]
        },
        "yaxis": {
         "anchor": "x",
         "domain": [
          0,
          1
         ]
        },
        "yaxis2": {
         "anchor": "x2",
         "domain": [
          0,
          1
         ]
        }
       }
      }
     },
     "metadata": {},
     "output_type": "display_data"
    }
   ],
   "source": [
    "hdb = HDBSCAN(min_cluster_size=15, max_cluster_size=50, min_samples=10, metric='precomputed').fit(x['distances'])\n",
    "hdbscan_labels = hdb.labels_\n",
    "df[\"hdbscan_labels\"] = hdbscan_labels\n",
    "\n",
    "fig = make_subplots(rows=1, cols=2, subplot_titles=[\"True Clusters\", \"HDBSCAN Clusters\"])\n",
    "for label, group in df.groupby(\"target\"):\n",
    "    fig.add_scatter(x=group.x, y=group.y, col=1, row=1, mode=\"markers\", name=label)\n",
    "for label, group in df.groupby(\"hdbscan_labels\"):\n",
    "    fig.add_scatter(\n",
    "        x=group.x, y=group.y, col=2, row=1, mode=\"markers\", name=label,\n",
    "        marker_color=fig.layout[\"template\"][\"layout\"][\"colorway\"][label],\n",
    "        showlegend=False\n",
    "    )\n",
    "fig.show()"
   ]
  },
  {
   "cell_type": "markdown",
   "id": "71281eee",
   "metadata": {},
   "source": [
    "## Step 6b: Visualize with UMAP\n",
    "\n",
    "UMAP can be used in tandem with Howso Engine to visualize high-dimensional datasets, similar to how HDBSCAN is used."
   ]
  },
  {
   "cell_type": "code",
   "execution_count": 9,
   "id": "11303050",
   "metadata": {
    "execution": {
     "iopub.execute_input": "2025-09-02T19:51:16.489293Z",
     "iopub.status.busy": "2025-09-02T19:51:16.489092Z",
     "iopub.status.idle": "2025-09-02T19:51:28.050254Z",
     "shell.execute_reply": "2025-09-02T19:51:28.049676Z"
    }
   },
   "outputs": [
    {
     "data": {
      "application/vnd.plotly.v1+json": {
       "config": {
        "plotlyServerURL": "https://plot.ly"
       },
       "data": [
        {
         "hovertemplate": "target=0<br>Component 1=%{x}<br>Component 2=%{y}<extra></extra>",
         "legendgroup": "0",
         "marker": {
          "color": "#636efa",
          "symbol": "circle"
         },
         "mode": "markers",
         "name": "0",
         "orientation": "v",
         "showlegend": true,
         "type": "scatter",
         "x": {
          "bdata": "SjQFQJUnHUBqYQtAxUxpP5baXEDUDUVA9MdTvvDXBj+XEVs+/FUhQPjr7L5P6Ii/Ps8tQKRUSEDGJ50/b33OP71rgT992aU/3zG9Pl05PEDhcWU/GThCQBd9L7+3EghAl2UePmcHNkDoScU/lRQUQJohHr9lydw/dHDNPgTz+j+dEWI/ZimzPw==",
          "dtype": "f4"
         },
         "xaxis": "x",
         "y": {
          "bdata": "IxeRwLNricDUEh/ADQCfwD7sscBv+XPARWijwLbWcsA2tjTAJ+Q6wDIib8DE3azAqdPBwHRyTMAgwF/AjZGlwEKxy8DfHijAM5iIwCbiysAS07/ASzSQwCi3msDBULbAUZnHwOEIo8DIvtTAVA7SwOditcCPmmTAxSS3wIs2dMDgszXAw5yVwA==",
          "dtype": "f4"
         },
         "yaxis": "y"
        },
        {
         "hovertemplate": "target=2<br>Component 1=%{x}<br>Component 2=%{y}<extra></extra>",
         "legendgroup": "2",
         "marker": {
          "color": "#EF553B",
          "symbol": "circle"
         },
         "mode": "markers",
         "name": "2",
         "orientation": "v",
         "showlegend": true,
         "type": "scatter",
         "x": {
          "bdata": "Sd7uwExBqsBFYMbA0bS4wASm98A5te3AkHnVwN47vsBISwnBphgPwT8B9cCEEtrAmb2bwHjeqcD6Bt7AVNYVwXWnvMBncwTBzE4DwWxeA8Flg8jAZwaYwMIrDsHc0NrAbMv4wINA1sAyUQnBvP7qwOedqcC+o6vAjPahwIqfi8CGh4/A",
          "dtype": "f4"
         },
         "xaxis": "x",
         "y": {
          "bdata": "jgmMQImMSkAwNyNAlm3nPz/bkD/mnSxAmTV9P9Tw4T6m1g1A9YtYQA3yAT+v7ItA15RBQDUCAkCR7uw+Y20bQGAmWEC0Ch8/QuQ2QNE1V0C3inlACSEBQJv55D+iaFNAbkTuP74Cwz9A6ZA/GH5xQDVueED/ujA/dc+CP276G0CLAZs/",
          "dtype": "f4"
         },
         "yaxis": "y"
        },
        {
         "hovertemplate": "target=1<br>Component 1=%{x}<br>Component 2=%{y}<extra></extra>",
         "legendgroup": "1",
         "marker": {
          "color": "#00cc96",
          "symbol": "circle"
         },
         "mode": "markers",
         "name": "1",
         "orientation": "v",
         "showlegend": true,
         "type": "scatter",
         "x": {
          "bdata": "fTw9wMw9Vr+uuA7AZHiZvw/s8b/eLFq/qlVRv7RGUMDiJNS/+3SevpfIzr05tDbA7l6fP6sRqr6iW4g+QsjuPiT9fcCfWVrADghwP3kkyb8asi3AKP6+PN6VQr+0gy2/ogRCP9dOVsBgb5m/xSXwvxXYAMC2wek+Duewv8h0N8BM4gbA",
          "dtype": "f4"
         },
         "xaxis": "x",
         "y": {
          "bdata": "ng8fQSPhPUE+mg9BzzkEQYrVNkEYaTJBQRUQQdOTJUEBEw9Bj1wZQTVdL0E2/wFBmX8lQebMC0EdQgJBdP0OQScLFEHyIQlBbhAWQQ7k/UCZxDJBtrwmQeo/HkGmM/VAFqsfQR4WHEF1/jBBEhwoQSnAPkF/IDJBqmQXQYShE0G4FxpB",
          "dtype": "f4"
         },
         "yaxis": "y"
        }
       ],
       "layout": {
        "legend": {
         "title": {
          "text": "target"
         },
         "tracegroupgap": 0
        },
        "template": {
         "data": {
          "bar": [
           {
            "error_x": {
             "color": "#2a3f5f"
            },
            "error_y": {
             "color": "#2a3f5f"
            },
            "marker": {
             "line": {
              "color": "#E5ECF6",
              "width": 0.5
             },
             "pattern": {
              "fillmode": "overlay",
              "size": 10,
              "solidity": 0.2
             }
            },
            "type": "bar"
           }
          ],
          "barpolar": [
           {
            "marker": {
             "line": {
              "color": "#E5ECF6",
              "width": 0.5
             },
             "pattern": {
              "fillmode": "overlay",
              "size": 10,
              "solidity": 0.2
             }
            },
            "type": "barpolar"
           }
          ],
          "carpet": [
           {
            "aaxis": {
             "endlinecolor": "#2a3f5f",
             "gridcolor": "white",
             "linecolor": "white",
             "minorgridcolor": "white",
             "startlinecolor": "#2a3f5f"
            },
            "baxis": {
             "endlinecolor": "#2a3f5f",
             "gridcolor": "white",
             "linecolor": "white",
             "minorgridcolor": "white",
             "startlinecolor": "#2a3f5f"
            },
            "type": "carpet"
           }
          ],
          "choropleth": [
           {
            "colorbar": {
             "outlinewidth": 0,
             "ticks": ""
            },
            "type": "choropleth"
           }
          ],
          "contour": [
           {
            "colorbar": {
             "outlinewidth": 0,
             "ticks": ""
            },
            "colorscale": [
             [
              0,
              "#0d0887"
             ],
             [
              0.1111111111111111,
              "#46039f"
             ],
             [
              0.2222222222222222,
              "#7201a8"
             ],
             [
              0.3333333333333333,
              "#9c179e"
             ],
             [
              0.4444444444444444,
              "#bd3786"
             ],
             [
              0.5555555555555556,
              "#d8576b"
             ],
             [
              0.6666666666666666,
              "#ed7953"
             ],
             [
              0.7777777777777778,
              "#fb9f3a"
             ],
             [
              0.8888888888888888,
              "#fdca26"
             ],
             [
              1,
              "#f0f921"
             ]
            ],
            "type": "contour"
           }
          ],
          "contourcarpet": [
           {
            "colorbar": {
             "outlinewidth": 0,
             "ticks": ""
            },
            "type": "contourcarpet"
           }
          ],
          "heatmap": [
           {
            "colorbar": {
             "outlinewidth": 0,
             "ticks": ""
            },
            "colorscale": [
             [
              0,
              "#0d0887"
             ],
             [
              0.1111111111111111,
              "#46039f"
             ],
             [
              0.2222222222222222,
              "#7201a8"
             ],
             [
              0.3333333333333333,
              "#9c179e"
             ],
             [
              0.4444444444444444,
              "#bd3786"
             ],
             [
              0.5555555555555556,
              "#d8576b"
             ],
             [
              0.6666666666666666,
              "#ed7953"
             ],
             [
              0.7777777777777778,
              "#fb9f3a"
             ],
             [
              0.8888888888888888,
              "#fdca26"
             ],
             [
              1,
              "#f0f921"
             ]
            ],
            "type": "heatmap"
           }
          ],
          "histogram": [
           {
            "marker": {
             "pattern": {
              "fillmode": "overlay",
              "size": 10,
              "solidity": 0.2
             }
            },
            "type": "histogram"
           }
          ],
          "histogram2d": [
           {
            "colorbar": {
             "outlinewidth": 0,
             "ticks": ""
            },
            "colorscale": [
             [
              0,
              "#0d0887"
             ],
             [
              0.1111111111111111,
              "#46039f"
             ],
             [
              0.2222222222222222,
              "#7201a8"
             ],
             [
              0.3333333333333333,
              "#9c179e"
             ],
             [
              0.4444444444444444,
              "#bd3786"
             ],
             [
              0.5555555555555556,
              "#d8576b"
             ],
             [
              0.6666666666666666,
              "#ed7953"
             ],
             [
              0.7777777777777778,
              "#fb9f3a"
             ],
             [
              0.8888888888888888,
              "#fdca26"
             ],
             [
              1,
              "#f0f921"
             ]
            ],
            "type": "histogram2d"
           }
          ],
          "histogram2dcontour": [
           {
            "colorbar": {
             "outlinewidth": 0,
             "ticks": ""
            },
            "colorscale": [
             [
              0,
              "#0d0887"
             ],
             [
              0.1111111111111111,
              "#46039f"
             ],
             [
              0.2222222222222222,
              "#7201a8"
             ],
             [
              0.3333333333333333,
              "#9c179e"
             ],
             [
              0.4444444444444444,
              "#bd3786"
             ],
             [
              0.5555555555555556,
              "#d8576b"
             ],
             [
              0.6666666666666666,
              "#ed7953"
             ],
             [
              0.7777777777777778,
              "#fb9f3a"
             ],
             [
              0.8888888888888888,
              "#fdca26"
             ],
             [
              1,
              "#f0f921"
             ]
            ],
            "type": "histogram2dcontour"
           }
          ],
          "mesh3d": [
           {
            "colorbar": {
             "outlinewidth": 0,
             "ticks": ""
            },
            "type": "mesh3d"
           }
          ],
          "parcoords": [
           {
            "line": {
             "colorbar": {
              "outlinewidth": 0,
              "ticks": ""
             }
            },
            "type": "parcoords"
           }
          ],
          "pie": [
           {
            "automargin": true,
            "type": "pie"
           }
          ],
          "scatter": [
           {
            "fillpattern": {
             "fillmode": "overlay",
             "size": 10,
             "solidity": 0.2
            },
            "type": "scatter"
           }
          ],
          "scatter3d": [
           {
            "line": {
             "colorbar": {
              "outlinewidth": 0,
              "ticks": ""
             }
            },
            "marker": {
             "colorbar": {
              "outlinewidth": 0,
              "ticks": ""
             }
            },
            "type": "scatter3d"
           }
          ],
          "scattercarpet": [
           {
            "marker": {
             "colorbar": {
              "outlinewidth": 0,
              "ticks": ""
             }
            },
            "type": "scattercarpet"
           }
          ],
          "scattergeo": [
           {
            "marker": {
             "colorbar": {
              "outlinewidth": 0,
              "ticks": ""
             }
            },
            "type": "scattergeo"
           }
          ],
          "scattergl": [
           {
            "marker": {
             "colorbar": {
              "outlinewidth": 0,
              "ticks": ""
             }
            },
            "type": "scattergl"
           }
          ],
          "scattermap": [
           {
            "marker": {
             "colorbar": {
              "outlinewidth": 0,
              "ticks": ""
             }
            },
            "type": "scattermap"
           }
          ],
          "scattermapbox": [
           {
            "marker": {
             "colorbar": {
              "outlinewidth": 0,
              "ticks": ""
             }
            },
            "type": "scattermapbox"
           }
          ],
          "scatterpolar": [
           {
            "marker": {
             "colorbar": {
              "outlinewidth": 0,
              "ticks": ""
             }
            },
            "type": "scatterpolar"
           }
          ],
          "scatterpolargl": [
           {
            "marker": {
             "colorbar": {
              "outlinewidth": 0,
              "ticks": ""
             }
            },
            "type": "scatterpolargl"
           }
          ],
          "scatterternary": [
           {
            "marker": {
             "colorbar": {
              "outlinewidth": 0,
              "ticks": ""
             }
            },
            "type": "scatterternary"
           }
          ],
          "surface": [
           {
            "colorbar": {
             "outlinewidth": 0,
             "ticks": ""
            },
            "colorscale": [
             [
              0,
              "#0d0887"
             ],
             [
              0.1111111111111111,
              "#46039f"
             ],
             [
              0.2222222222222222,
              "#7201a8"
             ],
             [
              0.3333333333333333,
              "#9c179e"
             ],
             [
              0.4444444444444444,
              "#bd3786"
             ],
             [
              0.5555555555555556,
              "#d8576b"
             ],
             [
              0.6666666666666666,
              "#ed7953"
             ],
             [
              0.7777777777777778,
              "#fb9f3a"
             ],
             [
              0.8888888888888888,
              "#fdca26"
             ],
             [
              1,
              "#f0f921"
             ]
            ],
            "type": "surface"
           }
          ],
          "table": [
           {
            "cells": {
             "fill": {
              "color": "#EBF0F8"
             },
             "line": {
              "color": "white"
             }
            },
            "header": {
             "fill": {
              "color": "#C8D4E3"
             },
             "line": {
              "color": "white"
             }
            },
            "type": "table"
           }
          ]
         },
         "layout": {
          "annotationdefaults": {
           "arrowcolor": "#2a3f5f",
           "arrowhead": 0,
           "arrowwidth": 1
          },
          "autotypenumbers": "strict",
          "coloraxis": {
           "colorbar": {
            "outlinewidth": 0,
            "ticks": ""
           }
          },
          "colorscale": {
           "diverging": [
            [
             0,
             "#8e0152"
            ],
            [
             0.1,
             "#c51b7d"
            ],
            [
             0.2,
             "#de77ae"
            ],
            [
             0.3,
             "#f1b6da"
            ],
            [
             0.4,
             "#fde0ef"
            ],
            [
             0.5,
             "#f7f7f7"
            ],
            [
             0.6,
             "#e6f5d0"
            ],
            [
             0.7,
             "#b8e186"
            ],
            [
             0.8,
             "#7fbc41"
            ],
            [
             0.9,
             "#4d9221"
            ],
            [
             1,
             "#276419"
            ]
           ],
           "sequential": [
            [
             0,
             "#0d0887"
            ],
            [
             0.1111111111111111,
             "#46039f"
            ],
            [
             0.2222222222222222,
             "#7201a8"
            ],
            [
             0.3333333333333333,
             "#9c179e"
            ],
            [
             0.4444444444444444,
             "#bd3786"
            ],
            [
             0.5555555555555556,
             "#d8576b"
            ],
            [
             0.6666666666666666,
             "#ed7953"
            ],
            [
             0.7777777777777778,
             "#fb9f3a"
            ],
            [
             0.8888888888888888,
             "#fdca26"
            ],
            [
             1,
             "#f0f921"
            ]
           ],
           "sequentialminus": [
            [
             0,
             "#0d0887"
            ],
            [
             0.1111111111111111,
             "#46039f"
            ],
            [
             0.2222222222222222,
             "#7201a8"
            ],
            [
             0.3333333333333333,
             "#9c179e"
            ],
            [
             0.4444444444444444,
             "#bd3786"
            ],
            [
             0.5555555555555556,
             "#d8576b"
            ],
            [
             0.6666666666666666,
             "#ed7953"
            ],
            [
             0.7777777777777778,
             "#fb9f3a"
            ],
            [
             0.8888888888888888,
             "#fdca26"
            ],
            [
             1,
             "#f0f921"
            ]
           ]
          },
          "colorway": [
           "#636efa",
           "#EF553B",
           "#00cc96",
           "#ab63fa",
           "#FFA15A",
           "#19d3f3",
           "#FF6692",
           "#B6E880",
           "#FF97FF",
           "#FECB52"
          ],
          "font": {
           "color": "#2a3f5f"
          },
          "geo": {
           "bgcolor": "white",
           "lakecolor": "white",
           "landcolor": "#E5ECF6",
           "showlakes": true,
           "showland": true,
           "subunitcolor": "white"
          },
          "hoverlabel": {
           "align": "left"
          },
          "hovermode": "closest",
          "mapbox": {
           "style": "light"
          },
          "paper_bgcolor": "white",
          "plot_bgcolor": "#E5ECF6",
          "polar": {
           "angularaxis": {
            "gridcolor": "white",
            "linecolor": "white",
            "ticks": ""
           },
           "bgcolor": "#E5ECF6",
           "radialaxis": {
            "gridcolor": "white",
            "linecolor": "white",
            "ticks": ""
           }
          },
          "scene": {
           "xaxis": {
            "backgroundcolor": "#E5ECF6",
            "gridcolor": "white",
            "gridwidth": 2,
            "linecolor": "white",
            "showbackground": true,
            "ticks": "",
            "zerolinecolor": "white"
           },
           "yaxis": {
            "backgroundcolor": "#E5ECF6",
            "gridcolor": "white",
            "gridwidth": 2,
            "linecolor": "white",
            "showbackground": true,
            "ticks": "",
            "zerolinecolor": "white"
           },
           "zaxis": {
            "backgroundcolor": "#E5ECF6",
            "gridcolor": "white",
            "gridwidth": 2,
            "linecolor": "white",
            "showbackground": true,
            "ticks": "",
            "zerolinecolor": "white"
           }
          },
          "shapedefaults": {
           "line": {
            "color": "#2a3f5f"
           }
          },
          "ternary": {
           "aaxis": {
            "gridcolor": "white",
            "linecolor": "white",
            "ticks": ""
           },
           "baxis": {
            "gridcolor": "white",
            "linecolor": "white",
            "ticks": ""
           },
           "bgcolor": "#E5ECF6",
           "caxis": {
            "gridcolor": "white",
            "linecolor": "white",
            "ticks": ""
           }
          },
          "title": {
           "x": 0.05
          },
          "xaxis": {
           "automargin": true,
           "gridcolor": "white",
           "linecolor": "white",
           "ticks": "",
           "title": {
            "standoff": 15
           },
           "zerolinecolor": "white",
           "zerolinewidth": 2
          },
          "yaxis": {
           "automargin": true,
           "gridcolor": "white",
           "linecolor": "white",
           "ticks": "",
           "title": {
            "standoff": 15
           },
           "zerolinecolor": "white",
           "zerolinewidth": 2
          }
         }
        },
        "title": {
         "text": "UMAP Representation"
        },
        "xaxis": {
         "anchor": "y",
         "domain": [
          0,
          1
         ],
         "title": {
          "text": "Component 1"
         }
        },
        "yaxis": {
         "anchor": "x",
         "domain": [
          0,
          1
         ],
         "title": {
          "text": "Component 2"
         }
        }
       }
      }
     },
     "metadata": {},
     "output_type": "display_data"
    }
   ],
   "source": [
    "fig = plot_umap(t, color=\"target\", action_feature=action_features[0])\n",
    "fig.show()"
   ]
  },
  {
   "cell_type": "markdown",
   "id": "86938256",
   "metadata": {},
   "source": [
    "## Step 7: Inspect Accuracy \n",
    "\n",
    "We calculate the performance of the clustering by measuring the similarity of the clusters compared to the original labels."
   ]
  },
  {
   "cell_type": "code",
   "execution_count": 10,
   "id": "34e6b5e7",
   "metadata": {
    "execution": {
     "iopub.execute_input": "2025-09-02T19:51:28.052071Z",
     "iopub.status.busy": "2025-09-02T19:51:28.051873Z",
     "iopub.status.idle": "2025-09-02T19:51:28.056739Z",
     "shell.execute_reply": "2025-09-02T19:51:28.056214Z"
    }
   },
   "outputs": [
    {
     "name": "stdout",
     "output_type": "stream",
     "text": [
      "clustering accuracy score: 1.0\n"
     ]
    }
   ],
   "source": [
    "dist_contribution_acc = adjusted_rand_score(df['target'], hdbscan_labels)\n",
    "print(f'clustering accuracy score: {dist_contribution_acc}')"
   ]
  },
  {
   "cell_type": "markdown",
   "id": "8172834d",
   "metadata": {},
   "source": [
    "# Conclusion\n",
    "\n",
    "As we demonstrate here, it is quite simple to use the Howso Engine for clustering using the internal distance metric by retrieving the pairwise distance matrix with `get_distances`. This pairwise distance metric can be passed to many popular clustering algorithms."
   ]
  }
 ],
 "metadata": {
  "kernelspec": {
   "display_name": "engine_rec_312",
   "language": "python",
   "name": "python3"
  },
  "language_info": {
   "codemirror_mode": {
    "name": "ipython",
    "version": 3
   },
   "file_extension": ".py",
   "mimetype": "text/x-python",
   "name": "python",
   "nbconvert_exporter": "python",
   "pygments_lexer": "ipython3",
   "version": "3.12.0"
  }
 },
 "nbformat": 4,
 "nbformat_minor": 5
}
