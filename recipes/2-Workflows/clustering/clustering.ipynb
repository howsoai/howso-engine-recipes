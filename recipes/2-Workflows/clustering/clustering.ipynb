{
 "cells": [
  {
   "attachments": {},
   "cell_type": "markdown",
   "id": "ebe74b50-bacd-4e2b-bfe1-bf96093b7e4b",
   "metadata": {},
   "source": [
    "# Clustering With Howso Engine\n",
    "\n",
    "## Overview\n",
    "\n",
    "This example notebook will demonstrate Howso Engine’s ability to calculate pairwise distances for the training cases. This capability is based on Howso Engine’s underlying instance-based learning platform. Distances can be used for a variety of use cases, in particular, for clustering algorithms, such as HDBSCAN. Howso Engine’s feature reduction capabilities will also be used to demonstrate how to eliminate features for clustering. "
   ]
  },
  {
   "cell_type": "code",
   "execution_count": 1,
   "id": "cf84ccaa-16e7-430a-8e9d-1300082c0cc8",
   "metadata": {
    "execution": {
     "iopub.execute_input": "2024-10-17T18:54:23.666931Z",
     "iopub.status.busy": "2024-10-17T18:54:23.666640Z",
     "iopub.status.idle": "2024-10-17T18:54:29.413885Z",
     "shell.execute_reply": "2024-10-17T18:54:29.413278Z"
    }
   },
   "outputs": [],
   "source": [
    "import os\n",
    "\n",
    "import numpy as np\n",
    "import pandas as pd\n",
    "import plotly.io as pio\n",
    "from plotly.subplots import make_subplots\n",
    "from sklearn.cluster import HDBSCAN\n",
    "from sklearn.datasets import make_blobs\n",
    "from sklearn.metrics import adjusted_rand_score\n",
    "\n",
    "from howso import engine\n",
    "from howso.utilities import infer_feature_attributes\n",
    "from howso.visuals import plot_umap\n",
    "\n",
    "pio.renderers.default = os.getenv(\"HOWSO_RECIPE_RENDERER\", \"notebook\")"
   ]
  },
  {
   "attachments": {},
   "cell_type": "markdown",
   "id": "0d2145d5-cdca-4871-b521-e2ab44779a13",
   "metadata": {},
   "source": [
    "### Step 1: Generate a simple dataset with noise\n",
    "\n",
    "A 2-D blob is generated along with an extra noise column. The noise column is used to demonstrate feature reduction.\n"
   ]
  },
  {
   "cell_type": "code",
   "execution_count": 2,
   "id": "1109d7a6-ed86-4c20-868c-037a654019c1",
   "metadata": {
    "execution": {
     "iopub.execute_input": "2024-10-17T18:54:29.416968Z",
     "iopub.status.busy": "2024-10-17T18:54:29.416749Z",
     "iopub.status.idle": "2024-10-17T18:54:29.425987Z",
     "shell.execute_reply": "2024-10-17T18:54:29.425462Z"
    }
   },
   "outputs": [],
   "source": [
    "blobs = make_blobs(n_samples=100, n_features=2, centers=[(1,0), (1,5), (10,2)], random_state=0)\n",
    "df = pd.DataFrame(blobs[0], columns=['x', 'y'])\n",
    "df['target'] = blobs[1]\n",
    "\n",
    "# Noise\n",
    "noise = np.random.uniform(df['y'].min(), df['y'].max(), len(df))\n",
    "df['noise'] = noise"
   ]
  },
  {
   "cell_type": "markdown",
   "id": "ae92fd65",
   "metadata": {},
   "source": [
    "### Step 2: Create the Trainee, Train, and Analyze\n",
    "\n",
    "For questions about the specific steps of this section, please see the [basic workflow guide](https://docs.howso.com/user_guide/basics/basic_workflow.html)."
   ]
  },
  {
   "cell_type": "code",
   "execution_count": 3,
   "id": "4bbffb11",
   "metadata": {
    "execution": {
     "iopub.execute_input": "2024-10-17T18:54:29.428315Z",
     "iopub.status.busy": "2024-10-17T18:54:29.428116Z",
     "iopub.status.idle": "2024-10-17T18:54:32.384983Z",
     "shell.execute_reply": "2024-10-17T18:54:32.384348Z"
    }
   },
   "outputs": [
    {
     "name": "stderr",
     "output_type": "stream",
     "text": [
      "Version 30.1.1 of Howso Engine™ is available. You are using version 30.0.0.\n"
     ]
    }
   ],
   "source": [
    "# Infer feature attributes\n",
    "features = infer_feature_attributes(df)\n",
    "\n",
    "# Specify Context and Action Features\n",
    "action_features = ['target']\n",
    "\n",
    "context_features = features.get_names(without=action_features)\n",
    "\n",
    "# Create the Trainee\n",
    "t = engine.Trainee(features=features, overwrite_existing=True)\n",
    "\n",
    "# Train\n",
    "t.train(df)\n",
    "\n",
    "# Targeted Analysis\n",
    "t.analyze(context_features=context_features, action_features=action_features)"
   ]
  },
  {
   "cell_type": "markdown",
   "id": "3bd32650",
   "metadata": {},
   "source": [
    "### Step 3: Inspect Feature Importance\n",
    "\n",
    "In this example, since we have a target variable, we can inspect the feature contributions and feature [Mean Decrease in Accuracy](https://docs.howso.com/getting_started/terminology.html#mda) (MDA) to understand how important each feature is."
   ]
  },
  {
   "cell_type": "code",
   "execution_count": 4,
   "id": "5798d564",
   "metadata": {
    "execution": {
     "iopub.execute_input": "2024-10-17T18:54:32.388157Z",
     "iopub.status.busy": "2024-10-17T18:54:32.387744Z",
     "iopub.status.idle": "2024-10-17T18:54:42.456763Z",
     "shell.execute_reply": "2024-10-17T18:54:42.456156Z"
    }
   },
   "outputs": [
    {
     "data": {
      "text/html": [
       "<div>\n",
       "<style scoped>\n",
       "    .dataframe tbody tr th:only-of-type {\n",
       "        vertical-align: middle;\n",
       "    }\n",
       "\n",
       "    .dataframe tbody tr th {\n",
       "        vertical-align: top;\n",
       "    }\n",
       "\n",
       "    .dataframe thead th {\n",
       "        text-align: right;\n",
       "    }\n",
       "</style>\n",
       "<table border=\"1\" class=\"dataframe\">\n",
       "  <thead>\n",
       "    <tr style=\"text-align: right;\">\n",
       "      <th></th>\n",
       "      <th>noise</th>\n",
       "      <th>y</th>\n",
       "      <th>x</th>\n",
       "    </tr>\n",
       "  </thead>\n",
       "  <tbody>\n",
       "    <tr>\n",
       "      <th>feature_mda_robust</th>\n",
       "      <td>-0.057206</td>\n",
       "      <td>0.159571</td>\n",
       "      <td>0.080051</td>\n",
       "    </tr>\n",
       "    <tr>\n",
       "      <th>directional_feature_contributions_robust</th>\n",
       "      <td>-0.065781</td>\n",
       "      <td>0.390307</td>\n",
       "      <td>0.308056</td>\n",
       "    </tr>\n",
       "    <tr>\n",
       "      <th>feature_contributions_robust</th>\n",
       "      <td>0.096845</td>\n",
       "      <td>0.394858</td>\n",
       "      <td>0.322756</td>\n",
       "    </tr>\n",
       "  </tbody>\n",
       "</table>\n",
       "</div>"
      ],
      "text/plain": [
       "                                             noise         y         x\n",
       "feature_mda_robust                       -0.057206  0.159571  0.080051\n",
       "directional_feature_contributions_robust -0.065781  0.390307  0.308056\n",
       "feature_contributions_robust              0.096845  0.394858  0.322756"
      ]
     },
     "execution_count": 4,
     "metadata": {},
     "output_type": "execute_result"
    }
   ],
   "source": [
    "robust_feature_influences = t.react_aggregate(\n",
    "    context_features=context_features,\n",
    "    action_feature=action_features[0],\n",
    "    details={\n",
    "        \"feature_contributions_robust\": True,\n",
    "        \"feature_mda_robust\": True\n",
    "    }\n",
    ")\n",
    "robust_feature_influences"
   ]
  },
  {
   "cell_type": "markdown",
   "id": "ced04228",
   "metadata": {},
   "source": [
    "We can see that the noise column not only contributes less to the prediction than the other variables, but it also marginally increases (and perhaps lowers) the accuracy. This is expected from the noise column and demonstrates how unimportant features can be highlighted with Howso Engine."
   ]
  },
  {
   "cell_type": "markdown",
   "id": "6e6e4365",
   "metadata": {},
   "source": [
    "### Step 4: Remove Unuseful Features\n",
    "\n",
    "Unuseful features like the noise feature can reduce the quality of the clustering so we will remove them in this example. Howso Engine allows use to easily remove the features from the Trainee."
   ]
  },
  {
   "cell_type": "code",
   "execution_count": 5,
   "id": "9522f0fb",
   "metadata": {
    "execution": {
     "iopub.execute_input": "2024-10-17T18:54:42.459434Z",
     "iopub.status.busy": "2024-10-17T18:54:42.459232Z",
     "iopub.status.idle": "2024-10-17T18:54:44.741474Z",
     "shell.execute_reply": "2024-10-17T18:54:44.740850Z"
    }
   },
   "outputs": [],
   "source": [
    "# Remove the noise feature\n",
    "t.remove_feature('noise')\n",
    "\n",
    "# update context_features\n",
    "context_features.remove('noise')\n",
    "\n",
    "# Reanalyze with the remaining features\n",
    "t.analyze(context_features=context_features, action_features=action_features)"
   ]
  },
  {
   "attachments": {},
   "cell_type": "markdown",
   "id": "08a8c655-4160-4437-8def-70fbbc2fc0c0",
   "metadata": {},
   "source": [
    "## Step 5: Get pairwise distances\n",
    "\n",
    "By directly using Howso Engine's pairwise distances, we can take advantage of all the benefits of Howso Engine, including the ease of preprocessing and categorical variable handling. \n",
    "\n",
    "`get_distances` returns a square matrix of distances that make up the pairwise distances from each case to each other case in the model. The distances are computing using the Howso Engine's internal distance metric which has its parameters tuned within the Analyze call. For more information about the Howso Engine's distance metric, see [<em>Surprisal Driven k-NN for Robust and Interpretable Nonparametric Learning </em> (Banerjee et. al. 2023)](https://arxiv.org/abs/2311.10246)."
   ]
  },
  {
   "cell_type": "code",
   "execution_count": 6,
   "id": "b1ae649e-525b-49e9-bb66-83b776c6c4e9",
   "metadata": {
    "execution": {
     "iopub.execute_input": "2024-10-17T18:54:44.744758Z",
     "iopub.status.busy": "2024-10-17T18:54:44.744312Z",
     "iopub.status.idle": "2024-10-17T18:54:44.767444Z",
     "shell.execute_reply": "2024-10-17T18:54:44.766929Z"
    }
   },
   "outputs": [
    {
     "data": {
      "text/html": [
       "<div>\n",
       "<style scoped>\n",
       "    .dataframe tbody tr th:only-of-type {\n",
       "        vertical-align: middle;\n",
       "    }\n",
       "\n",
       "    .dataframe tbody tr th {\n",
       "        vertical-align: top;\n",
       "    }\n",
       "\n",
       "    .dataframe thead th {\n",
       "        text-align: right;\n",
       "    }\n",
       "</style>\n",
       "<table border=\"1\" class=\"dataframe\">\n",
       "  <thead>\n",
       "    <tr style=\"text-align: right;\">\n",
       "      <th></th>\n",
       "      <th>0</th>\n",
       "      <th>1</th>\n",
       "      <th>2</th>\n",
       "      <th>3</th>\n",
       "      <th>4</th>\n",
       "      <th>5</th>\n",
       "      <th>6</th>\n",
       "      <th>7</th>\n",
       "      <th>8</th>\n",
       "      <th>9</th>\n",
       "      <th>...</th>\n",
       "      <th>90</th>\n",
       "      <th>91</th>\n",
       "      <th>92</th>\n",
       "      <th>93</th>\n",
       "      <th>94</th>\n",
       "      <th>95</th>\n",
       "      <th>96</th>\n",
       "      <th>97</th>\n",
       "      <th>98</th>\n",
       "      <th>99</th>\n",
       "    </tr>\n",
       "  </thead>\n",
       "  <tbody>\n",
       "    <tr>\n",
       "      <th>0</th>\n",
       "      <td>0.000000</td>\n",
       "      <td>9.803000</td>\n",
       "      <td>0.164121</td>\n",
       "      <td>10.414672</td>\n",
       "      <td>11.028837</td>\n",
       "      <td>2.469028</td>\n",
       "      <td>0.802422</td>\n",
       "      <td>11.507477</td>\n",
       "      <td>6.465745</td>\n",
       "      <td>3.433830</td>\n",
       "      <td>...</td>\n",
       "      <td>1.922452</td>\n",
       "      <td>6.144503</td>\n",
       "      <td>6.068732</td>\n",
       "      <td>10.415024</td>\n",
       "      <td>0.674535</td>\n",
       "      <td>7.901989</td>\n",
       "      <td>11.671084</td>\n",
       "      <td>6.051862</td>\n",
       "      <td>6.259132</td>\n",
       "      <td>6.324964</td>\n",
       "    </tr>\n",
       "    <tr>\n",
       "      <th>1</th>\n",
       "      <td>9.803000</td>\n",
       "      <td>0.000000</td>\n",
       "      <td>9.815739</td>\n",
       "      <td>2.736333</td>\n",
       "      <td>2.428968</td>\n",
       "      <td>9.516364</td>\n",
       "      <td>9.357333</td>\n",
       "      <td>2.907609</td>\n",
       "      <td>13.221080</td>\n",
       "      <td>13.236830</td>\n",
       "      <td>...</td>\n",
       "      <td>7.880547</td>\n",
       "      <td>14.947503</td>\n",
       "      <td>14.871732</td>\n",
       "      <td>3.510434</td>\n",
       "      <td>9.346842</td>\n",
       "      <td>16.704989</td>\n",
       "      <td>3.609623</td>\n",
       "      <td>14.854862</td>\n",
       "      <td>13.477523</td>\n",
       "      <td>13.979677</td>\n",
       "    </tr>\n",
       "    <tr>\n",
       "      <th>2</th>\n",
       "      <td>0.164121</td>\n",
       "      <td>9.815739</td>\n",
       "      <td>0.000000</td>\n",
       "      <td>10.578793</td>\n",
       "      <td>11.192958</td>\n",
       "      <td>2.633149</td>\n",
       "      <td>0.815162</td>\n",
       "      <td>11.671598</td>\n",
       "      <td>6.629866</td>\n",
       "      <td>3.421091</td>\n",
       "      <td>...</td>\n",
       "      <td>1.935192</td>\n",
       "      <td>6.131763</td>\n",
       "      <td>6.055993</td>\n",
       "      <td>10.579145</td>\n",
       "      <td>0.510414</td>\n",
       "      <td>7.889250</td>\n",
       "      <td>11.835205</td>\n",
       "      <td>6.159912</td>\n",
       "      <td>6.423253</td>\n",
       "      <td>6.489084</td>\n",
       "    </tr>\n",
       "    <tr>\n",
       "      <th>3</th>\n",
       "      <td>10.414672</td>\n",
       "      <td>2.736333</td>\n",
       "      <td>10.578793</td>\n",
       "      <td>0.000000</td>\n",
       "      <td>0.683537</td>\n",
       "      <td>7.945644</td>\n",
       "      <td>11.172137</td>\n",
       "      <td>1.092805</td>\n",
       "      <td>10.484747</td>\n",
       "      <td>10.703277</td>\n",
       "      <td>...</td>\n",
       "      <td>9.658861</td>\n",
       "      <td>12.211169</td>\n",
       "      <td>12.135399</td>\n",
       "      <td>0.774101</td>\n",
       "      <td>11.089207</td>\n",
       "      <td>13.968656</td>\n",
       "      <td>1.256412</td>\n",
       "      <td>12.118529</td>\n",
       "      <td>10.741190</td>\n",
       "      <td>11.243344</td>\n",
       "    </tr>\n",
       "    <tr>\n",
       "      <th>4</th>\n",
       "      <td>11.028837</td>\n",
       "      <td>2.428968</td>\n",
       "      <td>11.192958</td>\n",
       "      <td>0.683537</td>\n",
       "      <td>0.000000</td>\n",
       "      <td>8.559809</td>\n",
       "      <td>11.786301</td>\n",
       "      <td>0.839268</td>\n",
       "      <td>11.168284</td>\n",
       "      <td>11.317441</td>\n",
       "      <td>...</td>\n",
       "      <td>10.273026</td>\n",
       "      <td>12.894706</td>\n",
       "      <td>12.818936</td>\n",
       "      <td>1.457638</td>\n",
       "      <td>11.703372</td>\n",
       "      <td>14.652193</td>\n",
       "      <td>1.556827</td>\n",
       "      <td>12.802066</td>\n",
       "      <td>11.424726</td>\n",
       "      <td>11.926881</td>\n",
       "    </tr>\n",
       "    <tr>\n",
       "      <th>...</th>\n",
       "      <td>...</td>\n",
       "      <td>...</td>\n",
       "      <td>...</td>\n",
       "      <td>...</td>\n",
       "      <td>...</td>\n",
       "      <td>...</td>\n",
       "      <td>...</td>\n",
       "      <td>...</td>\n",
       "      <td>...</td>\n",
       "      <td>...</td>\n",
       "      <td>...</td>\n",
       "      <td>...</td>\n",
       "      <td>...</td>\n",
       "      <td>...</td>\n",
       "      <td>...</td>\n",
       "      <td>...</td>\n",
       "      <td>...</td>\n",
       "      <td>...</td>\n",
       "      <td>...</td>\n",
       "      <td>...</td>\n",
       "      <td>...</td>\n",
       "    </tr>\n",
       "    <tr>\n",
       "      <th>95</th>\n",
       "      <td>7.901989</td>\n",
       "      <td>16.704989</td>\n",
       "      <td>7.889250</td>\n",
       "      <td>13.968656</td>\n",
       "      <td>14.652193</td>\n",
       "      <td>8.188625</td>\n",
       "      <td>8.704411</td>\n",
       "      <td>13.812925</td>\n",
       "      <td>3.483909</td>\n",
       "      <td>5.739194</td>\n",
       "      <td>...</td>\n",
       "      <td>9.824442</td>\n",
       "      <td>1.757486</td>\n",
       "      <td>1.833257</td>\n",
       "      <td>13.194555</td>\n",
       "      <td>8.358147</td>\n",
       "      <td>0.000000</td>\n",
       "      <td>13.095366</td>\n",
       "      <td>1.850127</td>\n",
       "      <td>3.227466</td>\n",
       "      <td>2.725312</td>\n",
       "    </tr>\n",
       "    <tr>\n",
       "      <th>96</th>\n",
       "      <td>11.671084</td>\n",
       "      <td>3.609623</td>\n",
       "      <td>11.835205</td>\n",
       "      <td>1.256412</td>\n",
       "      <td>1.556827</td>\n",
       "      <td>9.202056</td>\n",
       "      <td>12.428549</td>\n",
       "      <td>0.717559</td>\n",
       "      <td>9.611457</td>\n",
       "      <td>11.959689</td>\n",
       "      <td>...</td>\n",
       "      <td>10.915273</td>\n",
       "      <td>11.337879</td>\n",
       "      <td>11.262109</td>\n",
       "      <td>1.256060</td>\n",
       "      <td>12.345619</td>\n",
       "      <td>13.095366</td>\n",
       "      <td>0.000000</td>\n",
       "      <td>11.245239</td>\n",
       "      <td>9.867899</td>\n",
       "      <td>10.370054</td>\n",
       "    </tr>\n",
       "    <tr>\n",
       "      <th>97</th>\n",
       "      <td>6.051862</td>\n",
       "      <td>14.854862</td>\n",
       "      <td>6.159912</td>\n",
       "      <td>12.118529</td>\n",
       "      <td>12.802066</td>\n",
       "      <td>6.338498</td>\n",
       "      <td>6.854284</td>\n",
       "      <td>11.962798</td>\n",
       "      <td>1.633782</td>\n",
       "      <td>6.284396</td>\n",
       "      <td>...</td>\n",
       "      <td>7.974315</td>\n",
       "      <td>0.784289</td>\n",
       "      <td>1.978548</td>\n",
       "      <td>11.344428</td>\n",
       "      <td>6.670327</td>\n",
       "      <td>1.850127</td>\n",
       "      <td>11.245239</td>\n",
       "      <td>0.000000</td>\n",
       "      <td>1.377339</td>\n",
       "      <td>0.875185</td>\n",
       "    </tr>\n",
       "    <tr>\n",
       "      <th>98</th>\n",
       "      <td>6.259132</td>\n",
       "      <td>13.477523</td>\n",
       "      <td>6.423253</td>\n",
       "      <td>10.741190</td>\n",
       "      <td>11.424726</td>\n",
       "      <td>4.961158</td>\n",
       "      <td>7.016597</td>\n",
       "      <td>10.585459</td>\n",
       "      <td>0.256442</td>\n",
       "      <td>6.547737</td>\n",
       "      <td>...</td>\n",
       "      <td>6.596975</td>\n",
       "      <td>1.469980</td>\n",
       "      <td>2.241889</td>\n",
       "      <td>9.967089</td>\n",
       "      <td>6.933667</td>\n",
       "      <td>3.227466</td>\n",
       "      <td>9.867899</td>\n",
       "      <td>1.377339</td>\n",
       "      <td>0.000000</td>\n",
       "      <td>0.502154</td>\n",
       "    </tr>\n",
       "    <tr>\n",
       "      <th>99</th>\n",
       "      <td>6.324964</td>\n",
       "      <td>13.979677</td>\n",
       "      <td>6.489084</td>\n",
       "      <td>11.243344</td>\n",
       "      <td>11.926881</td>\n",
       "      <td>5.463313</td>\n",
       "      <td>7.082428</td>\n",
       "      <td>11.087613</td>\n",
       "      <td>0.758597</td>\n",
       "      <td>6.613568</td>\n",
       "      <td>...</td>\n",
       "      <td>7.099130</td>\n",
       "      <td>1.113461</td>\n",
       "      <td>2.307720</td>\n",
       "      <td>10.469243</td>\n",
       "      <td>6.999499</td>\n",
       "      <td>2.725312</td>\n",
       "      <td>10.370054</td>\n",
       "      <td>0.875185</td>\n",
       "      <td>0.502154</td>\n",
       "      <td>0.000000</td>\n",
       "    </tr>\n",
       "  </tbody>\n",
       "</table>\n",
       "<p>100 rows × 100 columns</p>\n",
       "</div>"
      ],
      "text/plain": [
       "           0          1          2          3          4         5   \\\n",
       "0    0.000000   9.803000   0.164121  10.414672  11.028837  2.469028   \n",
       "1    9.803000   0.000000   9.815739   2.736333   2.428968  9.516364   \n",
       "2    0.164121   9.815739   0.000000  10.578793  11.192958  2.633149   \n",
       "3   10.414672   2.736333  10.578793   0.000000   0.683537  7.945644   \n",
       "4   11.028837   2.428968  11.192958   0.683537   0.000000  8.559809   \n",
       "..        ...        ...        ...        ...        ...       ...   \n",
       "95   7.901989  16.704989   7.889250  13.968656  14.652193  8.188625   \n",
       "96  11.671084   3.609623  11.835205   1.256412   1.556827  9.202056   \n",
       "97   6.051862  14.854862   6.159912  12.118529  12.802066  6.338498   \n",
       "98   6.259132  13.477523   6.423253  10.741190  11.424726  4.961158   \n",
       "99   6.324964  13.979677   6.489084  11.243344  11.926881  5.463313   \n",
       "\n",
       "           6          7          8          9   ...         90         91  \\\n",
       "0    0.802422  11.507477   6.465745   3.433830  ...   1.922452   6.144503   \n",
       "1    9.357333   2.907609  13.221080  13.236830  ...   7.880547  14.947503   \n",
       "2    0.815162  11.671598   6.629866   3.421091  ...   1.935192   6.131763   \n",
       "3   11.172137   1.092805  10.484747  10.703277  ...   9.658861  12.211169   \n",
       "4   11.786301   0.839268  11.168284  11.317441  ...  10.273026  12.894706   \n",
       "..        ...        ...        ...        ...  ...        ...        ...   \n",
       "95   8.704411  13.812925   3.483909   5.739194  ...   9.824442   1.757486   \n",
       "96  12.428549   0.717559   9.611457  11.959689  ...  10.915273  11.337879   \n",
       "97   6.854284  11.962798   1.633782   6.284396  ...   7.974315   0.784289   \n",
       "98   7.016597  10.585459   0.256442   6.547737  ...   6.596975   1.469980   \n",
       "99   7.082428  11.087613   0.758597   6.613568  ...   7.099130   1.113461   \n",
       "\n",
       "           92         93         94         95         96         97  \\\n",
       "0    6.068732  10.415024   0.674535   7.901989  11.671084   6.051862   \n",
       "1   14.871732   3.510434   9.346842  16.704989   3.609623  14.854862   \n",
       "2    6.055993  10.579145   0.510414   7.889250  11.835205   6.159912   \n",
       "3   12.135399   0.774101  11.089207  13.968656   1.256412  12.118529   \n",
       "4   12.818936   1.457638  11.703372  14.652193   1.556827  12.802066   \n",
       "..        ...        ...        ...        ...        ...        ...   \n",
       "95   1.833257  13.194555   8.358147   0.000000  13.095366   1.850127   \n",
       "96  11.262109   1.256060  12.345619  13.095366   0.000000  11.245239   \n",
       "97   1.978548  11.344428   6.670327   1.850127  11.245239   0.000000   \n",
       "98   2.241889   9.967089   6.933667   3.227466   9.867899   1.377339   \n",
       "99   2.307720  10.469243   6.999499   2.725312  10.370054   0.875185   \n",
       "\n",
       "           98         99  \n",
       "0    6.259132   6.324964  \n",
       "1   13.477523  13.979677  \n",
       "2    6.423253   6.489084  \n",
       "3   10.741190  11.243344  \n",
       "4   11.424726  11.926881  \n",
       "..        ...        ...  \n",
       "95   3.227466   2.725312  \n",
       "96   9.867899  10.370054  \n",
       "97   1.377339   0.875185  \n",
       "98   0.000000   0.502154  \n",
       "99   0.502154   0.000000  \n",
       "\n",
       "[100 rows x 100 columns]"
      ]
     },
     "execution_count": 6,
     "metadata": {},
     "output_type": "execute_result"
    }
   ],
   "source": [
    "# Pairwise distances can be obtained with a call to `get_distances`\n",
    "x = t.get_distances()\n",
    "\n",
    "x['distances']"
   ]
  },
  {
   "attachments": {},
   "cell_type": "markdown",
   "id": "d8771d70-8f09-4835-b2f1-29619bd6613b",
   "metadata": {},
   "source": [
    "## Step 6a: Cluster\n",
    "\n",
    "Having access to the full matrix of pairwise distances, users have the ability to cluster with whatever algorithm they prefer (provided it supports a matrix of precomputed pairwise distances as an input).\n",
    "\n",
    "In the case of this recipe, we demonstrate using the HDBSCAN provided through Scikit-Learn."
   ]
  },
  {
   "cell_type": "code",
   "execution_count": 7,
   "id": "ba19a548-9aa2-4ef3-b0bc-b4dcc56685d3",
   "metadata": {
    "execution": {
     "iopub.execute_input": "2024-10-17T18:54:44.769863Z",
     "iopub.status.busy": "2024-10-17T18:54:44.769495Z",
     "iopub.status.idle": "2024-10-17T18:54:45.455499Z",
     "shell.execute_reply": "2024-10-17T18:54:45.454790Z"
    }
   },
   "outputs": [
    {
     "data": {
      "image/png": "[encoded data removed]"
     },
     "metadata": {},
     "output_type": "display_data"
    }
   ],
   "source": [
    "hdb = HDBSCAN(min_cluster_size=15, max_cluster_size=50, min_samples=10, metric='precomputed').fit(x['distances'])\n",
    "hdbscan_labels = hdb.labels_\n",
    "df[\"hdbscan_labels\"] = hdbscan_labels\n",
    "\n",
    "fig = make_subplots(rows=1, cols=2, subplot_titles=[\"True Clusters\", \"HDBSCAN Clusters\"])\n",
    "for label, group in df.groupby(\"target\"):\n",
    "    fig.add_scatter(x=group.x, y=group.y, col=1, row=1, mode=\"markers\", name=label)\n",
    "for label, group in df.groupby(\"hdbscan_labels\"):\n",
    "    fig.add_scatter(\n",
    "        x=group.x, y=group.y, col=2, row=1, mode=\"markers\", name=label,\n",
    "        marker_color=fig.layout[\"template\"][\"layout\"][\"colorway\"][label],\n",
    "        showlegend=False\n",
    "    )\n",
    "fig.update_layout(width=1000)\n",
    "fig.show()"
   ]
  },
  {
   "cell_type": "markdown",
   "id": "71281eee",
   "metadata": {},
   "source": [
    "## Step 6b: Visualize with UMAP\n",
    "\n",
    "UMAP can be used in tandem with Howso Engine to visualize high-dimensional datasets, similar to how HDBSCAN is used."
   ]
  },
  {
   "cell_type": "code",
   "execution_count": 8,
   "id": "11303050",
   "metadata": {
    "execution": {
     "iopub.execute_input": "2024-10-17T18:54:45.458297Z",
     "iopub.status.busy": "2024-10-17T18:54:45.458086Z",
     "iopub.status.idle": "2024-10-17T18:54:55.573975Z",
     "shell.execute_reply": "2024-10-17T18:54:55.573341Z"
    }
   },
   "outputs": [
    {
     "data": {
      "image/png": "[encoded data removed]"
     },
     "metadata": {},
     "output_type": "display_data"
    }
   ],
   "source": [
    "fig = plot_umap(t, color=\"target\", action_feature=action_features[0])\n",
    "fig.update_layout(width=1000)\n",
    "fig.show()"
   ]
  },
  {
   "cell_type": "markdown",
   "id": "86938256",
   "metadata": {},
   "source": [
    "## Step 7: Inspect Accuracy \n",
    "\n",
    "We calculate the performance of the clustering by measuring the similarity of the clusters compared to the original labels."
   ]
  },
  {
   "cell_type": "code",
   "execution_count": 9,
   "id": "34e6b5e7",
   "metadata": {
    "execution": {
     "iopub.execute_input": "2024-10-17T18:54:55.576780Z",
     "iopub.status.busy": "2024-10-17T18:54:55.576329Z",
     "iopub.status.idle": "2024-10-17T18:54:55.581293Z",
     "shell.execute_reply": "2024-10-17T18:54:55.580724Z"
    }
   },
   "outputs": [
    {
     "name": "stdout",
     "output_type": "stream",
     "text": [
      "clustering accuracy score: 0.9400543257672734\n"
     ]
    }
   ],
   "source": [
    "dist_contribution_acc = adjusted_rand_score(df['target'], hdbscan_labels)\n",
    "print(f'clustering accuracy score: {dist_contribution_acc}')"
   ]
  },
  {
   "cell_type": "markdown",
   "id": "8172834d",
   "metadata": {},
   "source": [
    "# Conclusion\n",
    "\n",
    "As we demonstrate here, it is quite simple to use the Howso Engine for clustering using the internal distance metric by retrieving the pairwise distance matrix with `get_distances`. This pairwise distance metric can be passed to many popular clustering algorithms."
   ]
  }
 ],
 "metadata": {
  "kernelspec": {
   "display_name": "Python 3 (ipykernel)",
   "language": "python",
   "name": "python3"
  },
  "language_info": {
   "codemirror_mode": {
    "name": "ipython",
    "version": 3
   },
   "file_extension": ".py",
   "mimetype": "text/x-python",
   "name": "python",
   "nbconvert_exporter": "python",
   "pygments_lexer": "ipython3",
   "version": "3.9.20"
  },
  "vscode": {
   "interpreter": {
    "hash": "5a97d8588cce4b7427f7b841aa84f596036816f81d1a6ebef91f01881d12ee0c"
   }
  }
 },
 "nbformat": 4,
 "nbformat_minor": 5
}
