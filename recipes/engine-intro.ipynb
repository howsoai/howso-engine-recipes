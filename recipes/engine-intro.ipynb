{
 "cells": [
  {
   "cell_type": "markdown",
   "id": "89c7783a-b0f4-4e2d-9c7c-0663c41f86de",
   "metadata": {},
   "source": [
    "# Howso Engine Intro \n",
    "\n",
    "## Overview \n",
    "\n",
    " \n",
    "Howso Engine is a generalized Machine Learning (ML) and Artificial Intelligence platform that creates powerful decision-making platforms that are fully explainable, auditable, and editable. Howso Engine uses Instance-Based Machine Learning which stores instances, i.e., data points, in memory and makes predictions about new instances given their relationship to existing instances. This technology harnesses a fast spatial query system and techniques from information theory to enhance both performance and accuracy. \n",
    "\n",
    " \n",
    "\n",
    "Howso Engine is unique in that it utilizes a one-model approach (the data is the model) that enables the user to accomplish: \n",
    "\n",
    " \n",
    "\n",
    "- \"Targetless Learning\" - allows the user to predict and characterize any set of variables \n",
    "\n",
    "- Supervised Learning \n",
    "\n",
    "- Unsupervised Learning \n",
    "\n",
    "- Reinforcement Learning \n",
    "\n",
    "- Online Learning \n",
    "\n",
    "- Discriminative and Generative Modeling \n",
    "\n",
    "- Model Interpretation and Explanation \n",
    "\n",
    "- Data Imputation \n",
    "\n",
    " \n",
    "\n",
    "In this notebook we will explore the most basic workflow for training Howso Engine and making predictions. This will enable us to become familiar with basic Howso Engine terminologies, including: \n",
    "\n",
    " \n",
    "\n",
    "- Action Features \n",
    "\n",
    "- Context Features \n",
    "\n",
    "- Cases \n",
    "\n",
    "- Trainee \n",
    "\n",
    "- Train \n",
    "\n",
    "- Analyze \n",
    "\n",
    "- React \n",
    "\n",
    "## Recipe Goals:\n",
    "\n",
    "This notebook will provide a demonstration of a basic Howso Engine workflow."
   ]
  },
  {
   "cell_type": "code",
   "execution_count": 1,
   "id": "729f6c7a-4b11-4311-aad9-03f89a568e3f",
   "metadata": {
    "execution": {
     "iopub.execute_input": "2024-09-06T02:53:06.812106Z",
     "iopub.status.busy": "2024-09-06T02:53:06.811882Z",
     "iopub.status.idle": "2024-09-06T02:53:07.212814Z",
     "shell.execute_reply": "2024-09-06T02:53:07.212182Z"
    }
   },
   "outputs": [],
   "source": [
    "from pathlib import Path\n",
    "\n",
    "import pandas as pd\n",
    "from pmlb import fetch_data\n",
    "\n",
    "from howso.engine import (\n",
    "    load_trainee,\n",
    "    Trainee,\n",
    ")\n",
    "from howso.utilities import infer_feature_attributes"
   ]
  },
  {
   "cell_type": "markdown",
   "id": "dc81651d-62ab-4ac2-80d1-a58ddeaa0413",
   "metadata": {},
   "source": [
    "# Step 1: Import Data\n",
    "\n",
    "Our example dataset for this recipe is the well known `Adult` dataset. This dataset consists of 14 Context Features and 1 Action Feature. The Action Feature in this version of the `Adult` dataset has been renamed to `target` and it takes the form of a binary indicator for whether a person in the data makes more than $50,000/year (*target*=1) or less (*target*=0).\n",
    "\n",
    "### **Definitions:**\n",
    "\n",
    "**`Action Feature`:** A feature that the user would like to discriminatively predict or generatively synthesize. In traditional ML these may be referred to as targets, target features, or dependent variables.\n",
    "\n",
    "**`Context Feature`:** A feature that is used as an input to the model that creates a context from which a prediction is derived. In traditional ML these are often referred to as features, inputs, predictors, or independent features."
   ]
  },
  {
   "cell_type": "code",
   "execution_count": 2,
   "id": "0536252d-2900-46a7-af8b-d333da46e2e0",
   "metadata": {
    "execution": {
     "iopub.execute_input": "2024-09-06T02:53:07.215998Z",
     "iopub.status.busy": "2024-09-06T02:53:07.215748Z",
     "iopub.status.idle": "2024-09-06T02:53:07.271979Z",
     "shell.execute_reply": "2024-09-06T02:53:07.271333Z"
    }
   },
   "outputs": [],
   "source": [
    "df = fetch_data('adult', local_cache_dir=\"../data/adult\")\n",
    "\n",
    "# Subsample the data to ensure the example runs quickly\n",
    "df = df.sample(2000)\n",
    "\n",
    "# Split out the last row for a prediction set and drop the Action Feature\n",
    "test_case = df.iloc[[-1]].copy()\n",
    "df.drop(df.index[-1], inplace=True)\n",
    "test_case = test_case.drop('target', axis=1)"
   ]
  },
  {
   "cell_type": "markdown",
   "id": "ec71ebee-2879-418a-a3d4-94da3e5cecd1",
   "metadata": {},
   "source": [
    "# Step 2: Feature Mapping"
   ]
  },
  {
   "cell_type": "markdown",
   "id": "27ff9e8c-abfa-4408-a631-2ce01edf05b5",
   "metadata": {},
   "source": [
    "Typically, an exploratory analysis is done on the data to get a general feel of the descriptive statistics and data attributes. \n",
    "\n",
    "Methods like `describe` from a Pandas dataframe often automatically present these types of information of interest to a user, as shown below. While informative, these descriptive statistics are often used as a sanity check pre- and post-modeling and a model typically doesn't actually use any of these feature attributes."
   ]
  },
  {
   "cell_type": "code",
   "execution_count": 3,
   "id": "12242480",
   "metadata": {
    "execution": {
     "iopub.execute_input": "2024-09-06T02:53:07.275067Z",
     "iopub.status.busy": "2024-09-06T02:53:07.274828Z",
     "iopub.status.idle": "2024-09-06T02:53:07.306670Z",
     "shell.execute_reply": "2024-09-06T02:53:07.306180Z"
    }
   },
   "outputs": [
    {
     "data": {
      "text/html": [
       "<div>\n",
       "<style scoped>\n",
       "    .dataframe tbody tr th:only-of-type {\n",
       "        vertical-align: middle;\n",
       "    }\n",
       "\n",
       "    .dataframe tbody tr th {\n",
       "        vertical-align: top;\n",
       "    }\n",
       "\n",
       "    .dataframe thead th {\n",
       "        text-align: right;\n",
       "    }\n",
       "</style>\n",
       "<table border=\"1\" class=\"dataframe\">\n",
       "  <thead>\n",
       "    <tr style=\"text-align: right;\">\n",
       "      <th></th>\n",
       "      <th>age</th>\n",
       "      <th>workclass</th>\n",
       "      <th>fnlwgt</th>\n",
       "      <th>education</th>\n",
       "      <th>education-num</th>\n",
       "      <th>marital-status</th>\n",
       "      <th>occupation</th>\n",
       "      <th>relationship</th>\n",
       "      <th>race</th>\n",
       "      <th>sex</th>\n",
       "      <th>capital-gain</th>\n",
       "      <th>capital-loss</th>\n",
       "      <th>hours-per-week</th>\n",
       "      <th>native-country</th>\n",
       "      <th>target</th>\n",
       "    </tr>\n",
       "  </thead>\n",
       "  <tbody>\n",
       "    <tr>\n",
       "      <th>count</th>\n",
       "      <td>1999.000000</td>\n",
       "      <td>1999.000000</td>\n",
       "      <td>1999.000000</td>\n",
       "      <td>1999.000000</td>\n",
       "      <td>1999.000000</td>\n",
       "      <td>1999.000000</td>\n",
       "      <td>1999.000000</td>\n",
       "      <td>1999.000000</td>\n",
       "      <td>1999.000000</td>\n",
       "      <td>1999.000000</td>\n",
       "      <td>1999.000000</td>\n",
       "      <td>1999.000000</td>\n",
       "      <td>1999.000000</td>\n",
       "      <td>1999.000000</td>\n",
       "      <td>1999.000000</td>\n",
       "    </tr>\n",
       "    <tr>\n",
       "      <th>mean</th>\n",
       "      <td>38.721361</td>\n",
       "      <td>3.820910</td>\n",
       "      <td>188488.315158</td>\n",
       "      <td>10.223112</td>\n",
       "      <td>10.167584</td>\n",
       "      <td>2.606303</td>\n",
       "      <td>6.511756</td>\n",
       "      <td>1.461731</td>\n",
       "      <td>3.666833</td>\n",
       "      <td>0.663832</td>\n",
       "      <td>1043.350175</td>\n",
       "      <td>98.601801</td>\n",
       "      <td>40.375188</td>\n",
       "      <td>36.800900</td>\n",
       "      <td>0.756378</td>\n",
       "    </tr>\n",
       "    <tr>\n",
       "      <th>std</th>\n",
       "      <td>13.699948</td>\n",
       "      <td>1.452602</td>\n",
       "      <td>104061.821929</td>\n",
       "      <td>3.927425</td>\n",
       "      <td>2.553027</td>\n",
       "      <td>1.524764</td>\n",
       "      <td>4.265200</td>\n",
       "      <td>1.609348</td>\n",
       "      <td>0.849575</td>\n",
       "      <td>0.472515</td>\n",
       "      <td>7138.189404</td>\n",
       "      <td>417.433376</td>\n",
       "      <td>12.697540</td>\n",
       "      <td>7.819112</td>\n",
       "      <td>0.429374</td>\n",
       "    </tr>\n",
       "    <tr>\n",
       "      <th>min</th>\n",
       "      <td>17.000000</td>\n",
       "      <td>0.000000</td>\n",
       "      <td>19214.000000</td>\n",
       "      <td>0.000000</td>\n",
       "      <td>1.000000</td>\n",
       "      <td>0.000000</td>\n",
       "      <td>0.000000</td>\n",
       "      <td>0.000000</td>\n",
       "      <td>0.000000</td>\n",
       "      <td>0.000000</td>\n",
       "      <td>0.000000</td>\n",
       "      <td>0.000000</td>\n",
       "      <td>1.000000</td>\n",
       "      <td>0.000000</td>\n",
       "      <td>0.000000</td>\n",
       "    </tr>\n",
       "    <tr>\n",
       "      <th>25%</th>\n",
       "      <td>28.000000</td>\n",
       "      <td>4.000000</td>\n",
       "      <td>117336.500000</td>\n",
       "      <td>9.000000</td>\n",
       "      <td>9.000000</td>\n",
       "      <td>2.000000</td>\n",
       "      <td>3.000000</td>\n",
       "      <td>0.000000</td>\n",
       "      <td>4.000000</td>\n",
       "      <td>0.000000</td>\n",
       "      <td>0.000000</td>\n",
       "      <td>0.000000</td>\n",
       "      <td>40.000000</td>\n",
       "      <td>39.000000</td>\n",
       "      <td>1.000000</td>\n",
       "    </tr>\n",
       "    <tr>\n",
       "      <th>50%</th>\n",
       "      <td>37.000000</td>\n",
       "      <td>4.000000</td>\n",
       "      <td>178686.000000</td>\n",
       "      <td>11.000000</td>\n",
       "      <td>10.000000</td>\n",
       "      <td>2.000000</td>\n",
       "      <td>6.000000</td>\n",
       "      <td>1.000000</td>\n",
       "      <td>4.000000</td>\n",
       "      <td>1.000000</td>\n",
       "      <td>0.000000</td>\n",
       "      <td>0.000000</td>\n",
       "      <td>40.000000</td>\n",
       "      <td>39.000000</td>\n",
       "      <td>1.000000</td>\n",
       "    </tr>\n",
       "    <tr>\n",
       "      <th>75%</th>\n",
       "      <td>48.000000</td>\n",
       "      <td>4.000000</td>\n",
       "      <td>236960.500000</td>\n",
       "      <td>12.000000</td>\n",
       "      <td>13.000000</td>\n",
       "      <td>4.000000</td>\n",
       "      <td>10.000000</td>\n",
       "      <td>3.000000</td>\n",
       "      <td>4.000000</td>\n",
       "      <td>1.000000</td>\n",
       "      <td>0.000000</td>\n",
       "      <td>0.000000</td>\n",
       "      <td>45.000000</td>\n",
       "      <td>39.000000</td>\n",
       "      <td>1.000000</td>\n",
       "    </tr>\n",
       "    <tr>\n",
       "      <th>max</th>\n",
       "      <td>90.000000</td>\n",
       "      <td>8.000000</td>\n",
       "      <td>972354.000000</td>\n",
       "      <td>15.000000</td>\n",
       "      <td>16.000000</td>\n",
       "      <td>6.000000</td>\n",
       "      <td>14.000000</td>\n",
       "      <td>5.000000</td>\n",
       "      <td>4.000000</td>\n",
       "      <td>1.000000</td>\n",
       "      <td>99999.000000</td>\n",
       "      <td>2559.000000</td>\n",
       "      <td>99.000000</td>\n",
       "      <td>41.000000</td>\n",
       "      <td>1.000000</td>\n",
       "    </tr>\n",
       "  </tbody>\n",
       "</table>\n",
       "</div>"
      ],
      "text/plain": [
       "               age    workclass         fnlwgt    education  education-num  \\\n",
       "count  1999.000000  1999.000000    1999.000000  1999.000000    1999.000000   \n",
       "mean     38.721361     3.820910  188488.315158    10.223112      10.167584   \n",
       "std      13.699948     1.452602  104061.821929     3.927425       2.553027   \n",
       "min      17.000000     0.000000   19214.000000     0.000000       1.000000   \n",
       "25%      28.000000     4.000000  117336.500000     9.000000       9.000000   \n",
       "50%      37.000000     4.000000  178686.000000    11.000000      10.000000   \n",
       "75%      48.000000     4.000000  236960.500000    12.000000      13.000000   \n",
       "max      90.000000     8.000000  972354.000000    15.000000      16.000000   \n",
       "\n",
       "       marital-status   occupation  relationship         race          sex  \\\n",
       "count     1999.000000  1999.000000   1999.000000  1999.000000  1999.000000   \n",
       "mean         2.606303     6.511756      1.461731     3.666833     0.663832   \n",
       "std          1.524764     4.265200      1.609348     0.849575     0.472515   \n",
       "min          0.000000     0.000000      0.000000     0.000000     0.000000   \n",
       "25%          2.000000     3.000000      0.000000     4.000000     0.000000   \n",
       "50%          2.000000     6.000000      1.000000     4.000000     1.000000   \n",
       "75%          4.000000    10.000000      3.000000     4.000000     1.000000   \n",
       "max          6.000000    14.000000      5.000000     4.000000     1.000000   \n",
       "\n",
       "       capital-gain  capital-loss  hours-per-week  native-country       target  \n",
       "count   1999.000000   1999.000000     1999.000000     1999.000000  1999.000000  \n",
       "mean    1043.350175     98.601801       40.375188       36.800900     0.756378  \n",
       "std     7138.189404    417.433376       12.697540        7.819112     0.429374  \n",
       "min        0.000000      0.000000        1.000000        0.000000     0.000000  \n",
       "25%        0.000000      0.000000       40.000000       39.000000     1.000000  \n",
       "50%        0.000000      0.000000       40.000000       39.000000     1.000000  \n",
       "75%        0.000000      0.000000       45.000000       39.000000     1.000000  \n",
       "max    99999.000000   2559.000000       99.000000       41.000000     1.000000  "
      ]
     },
     "execution_count": 3,
     "metadata": {},
     "output_type": "execute_result"
    }
   ],
   "source": [
    "df.describe()"
   ]
  },
  {
   "cell_type": "markdown",
   "id": "8d1b856f",
   "metadata": {},
   "source": [
    "In the Howso Engine workflow, feature attributes are an essential part of model building and usage. By incorporating certain feature attributes into the model itself, Howso Engine gains another layer of information that will help in fine-tuning the results. \n",
    "\n",
    "In order to assist the user with defining the feature attributes, Howso provides the `infer_feature_attributes` function that automatically processes the dataset for the user.\n",
    "\n",
    "These feature attributes are based on the existing data, rather than exact descriptive statistics. This is why, for example, the min and max bounds on continuous features are not the exact min and max values of the dataset, but rather an expanded version of those min and max values to allow for some variation. However, users are encouraged to manually adjust feature attributes such as bounds if the properties of any features in the data are well defined.\n",
    "\n",
    "Additionally, Howso always encourages users to inspect the feature attributes of their data. Incorrect feature attributes can severely impact the accuracy of the model. Specific errors to lookout for are incorrect values for 'type' or 'bounds'."
   ]
  },
  {
   "cell_type": "code",
   "execution_count": 4,
   "id": "102736cd",
   "metadata": {
    "execution": {
     "iopub.execute_input": "2024-09-06T02:53:07.309128Z",
     "iopub.status.busy": "2024-09-06T02:53:07.308904Z",
     "iopub.status.idle": "2024-09-06T02:53:07.333226Z",
     "shell.execute_reply": "2024-09-06T02:53:07.332733Z"
    }
   },
   "outputs": [
    {
     "data": {
      "text/html": [
       "<div>\n",
       "<style scoped>\n",
       "    .dataframe tbody tr th:only-of-type {\n",
       "        vertical-align: middle;\n",
       "    }\n",
       "\n",
       "    .dataframe tbody tr th {\n",
       "        vertical-align: top;\n",
       "    }\n",
       "\n",
       "    .dataframe thead tr th {\n",
       "        text-align: left;\n",
       "    }\n",
       "</style>\n",
       "<table border=\"1\" class=\"dataframe\">\n",
       "  <thead>\n",
       "    <tr>\n",
       "      <th></th>\n",
       "      <th>type</th>\n",
       "      <th>decimal_places</th>\n",
       "      <th colspan=\"3\" halign=\"left\">bounds</th>\n",
       "      <th>data_type</th>\n",
       "      <th colspan=\"2\" halign=\"left\">original_type</th>\n",
       "    </tr>\n",
       "    <tr>\n",
       "      <th></th>\n",
       "      <th></th>\n",
       "      <th></th>\n",
       "      <th>min</th>\n",
       "      <th>max</th>\n",
       "      <th>allow_null</th>\n",
       "      <th></th>\n",
       "      <th>data_type</th>\n",
       "      <th>size</th>\n",
       "    </tr>\n",
       "  </thead>\n",
       "  <tbody>\n",
       "    <tr>\n",
       "      <th>age</th>\n",
       "      <td>continuous</td>\n",
       "      <td>0</td>\n",
       "      <td>7.0</td>\n",
       "      <td>148.0</td>\n",
       "      <td>True</td>\n",
       "      <td>number</td>\n",
       "      <td>numeric</td>\n",
       "      <td>8</td>\n",
       "    </tr>\n",
       "    <tr>\n",
       "      <th>workclass</th>\n",
       "      <td>nominal</td>\n",
       "      <td>0</td>\n",
       "      <td>NaN</td>\n",
       "      <td>NaN</td>\n",
       "      <td>False</td>\n",
       "      <td>number</td>\n",
       "      <td>integer</td>\n",
       "      <td>8</td>\n",
       "    </tr>\n",
       "    <tr>\n",
       "      <th>fnlwgt</th>\n",
       "      <td>continuous</td>\n",
       "      <td>0</td>\n",
       "      <td>8103.0</td>\n",
       "      <td>1202604.0</td>\n",
       "      <td>True</td>\n",
       "      <td>number</td>\n",
       "      <td>numeric</td>\n",
       "      <td>8</td>\n",
       "    </tr>\n",
       "    <tr>\n",
       "      <th>education</th>\n",
       "      <td>nominal</td>\n",
       "      <td>0</td>\n",
       "      <td>NaN</td>\n",
       "      <td>NaN</td>\n",
       "      <td>False</td>\n",
       "      <td>number</td>\n",
       "      <td>integer</td>\n",
       "      <td>8</td>\n",
       "    </tr>\n",
       "    <tr>\n",
       "      <th>education-num</th>\n",
       "      <td>continuous</td>\n",
       "      <td>0</td>\n",
       "      <td>1.0</td>\n",
       "      <td>20.0</td>\n",
       "      <td>True</td>\n",
       "      <td>number</td>\n",
       "      <td>numeric</td>\n",
       "      <td>8</td>\n",
       "    </tr>\n",
       "    <tr>\n",
       "      <th>marital-status</th>\n",
       "      <td>nominal</td>\n",
       "      <td>0</td>\n",
       "      <td>NaN</td>\n",
       "      <td>NaN</td>\n",
       "      <td>False</td>\n",
       "      <td>number</td>\n",
       "      <td>integer</td>\n",
       "      <td>8</td>\n",
       "    </tr>\n",
       "    <tr>\n",
       "      <th>occupation</th>\n",
       "      <td>nominal</td>\n",
       "      <td>0</td>\n",
       "      <td>NaN</td>\n",
       "      <td>NaN</td>\n",
       "      <td>False</td>\n",
       "      <td>number</td>\n",
       "      <td>integer</td>\n",
       "      <td>8</td>\n",
       "    </tr>\n",
       "    <tr>\n",
       "      <th>relationship</th>\n",
       "      <td>nominal</td>\n",
       "      <td>0</td>\n",
       "      <td>NaN</td>\n",
       "      <td>NaN</td>\n",
       "      <td>False</td>\n",
       "      <td>number</td>\n",
       "      <td>integer</td>\n",
       "      <td>8</td>\n",
       "    </tr>\n",
       "    <tr>\n",
       "      <th>race</th>\n",
       "      <td>nominal</td>\n",
       "      <td>0</td>\n",
       "      <td>NaN</td>\n",
       "      <td>NaN</td>\n",
       "      <td>False</td>\n",
       "      <td>number</td>\n",
       "      <td>integer</td>\n",
       "      <td>8</td>\n",
       "    </tr>\n",
       "    <tr>\n",
       "      <th>sex</th>\n",
       "      <td>nominal</td>\n",
       "      <td>0</td>\n",
       "      <td>NaN</td>\n",
       "      <td>NaN</td>\n",
       "      <td>False</td>\n",
       "      <td>number</td>\n",
       "      <td>integer</td>\n",
       "      <td>8</td>\n",
       "    </tr>\n",
       "    <tr>\n",
       "      <th>capital-gain</th>\n",
       "      <td>continuous</td>\n",
       "      <td>0</td>\n",
       "      <td>0.0</td>\n",
       "      <td>162755.0</td>\n",
       "      <td>True</td>\n",
       "      <td>number</td>\n",
       "      <td>numeric</td>\n",
       "      <td>8</td>\n",
       "    </tr>\n",
       "    <tr>\n",
       "      <th>capital-loss</th>\n",
       "      <td>continuous</td>\n",
       "      <td>0</td>\n",
       "      <td>0.0</td>\n",
       "      <td>2981.0</td>\n",
       "      <td>True</td>\n",
       "      <td>number</td>\n",
       "      <td>numeric</td>\n",
       "      <td>8</td>\n",
       "    </tr>\n",
       "    <tr>\n",
       "      <th>hours-per-week</th>\n",
       "      <td>continuous</td>\n",
       "      <td>0</td>\n",
       "      <td>1.0</td>\n",
       "      <td>148.0</td>\n",
       "      <td>True</td>\n",
       "      <td>number</td>\n",
       "      <td>numeric</td>\n",
       "      <td>8</td>\n",
       "    </tr>\n",
       "    <tr>\n",
       "      <th>native-country</th>\n",
       "      <td>nominal</td>\n",
       "      <td>0</td>\n",
       "      <td>NaN</td>\n",
       "      <td>NaN</td>\n",
       "      <td>False</td>\n",
       "      <td>number</td>\n",
       "      <td>integer</td>\n",
       "      <td>8</td>\n",
       "    </tr>\n",
       "    <tr>\n",
       "      <th>target</th>\n",
       "      <td>nominal</td>\n",
       "      <td>0</td>\n",
       "      <td>NaN</td>\n",
       "      <td>NaN</td>\n",
       "      <td>False</td>\n",
       "      <td>number</td>\n",
       "      <td>integer</td>\n",
       "      <td>8</td>\n",
       "    </tr>\n",
       "  </tbody>\n",
       "</table>\n",
       "</div>"
      ],
      "text/plain": [
       "                      type decimal_places  bounds                        \\\n",
       "                                              min        max allow_null   \n",
       "age             continuous              0     7.0      148.0       True   \n",
       "workclass          nominal              0     NaN        NaN      False   \n",
       "fnlwgt          continuous              0  8103.0  1202604.0       True   \n",
       "education          nominal              0     NaN        NaN      False   \n",
       "education-num   continuous              0     1.0       20.0       True   \n",
       "marital-status     nominal              0     NaN        NaN      False   \n",
       "occupation         nominal              0     NaN        NaN      False   \n",
       "relationship       nominal              0     NaN        NaN      False   \n",
       "race               nominal              0     NaN        NaN      False   \n",
       "sex                nominal              0     NaN        NaN      False   \n",
       "capital-gain    continuous              0     0.0   162755.0       True   \n",
       "capital-loss    continuous              0     0.0     2981.0       True   \n",
       "hours-per-week  continuous              0     1.0      148.0       True   \n",
       "native-country     nominal              0     NaN        NaN      False   \n",
       "target             nominal              0     NaN        NaN      False   \n",
       "\n",
       "               data_type original_type       \n",
       "                             data_type size  \n",
       "age               number       numeric    8  \n",
       "workclass         number       integer    8  \n",
       "fnlwgt            number       numeric    8  \n",
       "education         number       integer    8  \n",
       "education-num     number       numeric    8  \n",
       "marital-status    number       integer    8  \n",
       "occupation        number       integer    8  \n",
       "relationship      number       integer    8  \n",
       "race              number       integer    8  \n",
       "sex               number       integer    8  \n",
       "capital-gain      number       numeric    8  \n",
       "capital-loss      number       numeric    8  \n",
       "hours-per-week    number       numeric    8  \n",
       "native-country    number       integer    8  \n",
       "target            number       integer    8  "
      ]
     },
     "execution_count": 4,
     "metadata": {},
     "output_type": "execute_result"
    }
   ],
   "source": [
    "# Infer features attributes\n",
    "features = infer_feature_attributes(df)\n",
    "features.to_dataframe()"
   ]
  },
  {
   "cell_type": "markdown",
   "id": "e6fdda6e",
   "metadata": {},
   "source": [
    "To prepare to measure model performance, we also define our action features and context features that we want to use in our experiment."
   ]
  },
  {
   "cell_type": "code",
   "execution_count": 5,
   "id": "b5999f86-1baf-4a67-b849-c9a8f73e2451",
   "metadata": {
    "execution": {
     "iopub.execute_input": "2024-09-06T02:53:07.335581Z",
     "iopub.status.busy": "2024-09-06T02:53:07.335393Z",
     "iopub.status.idle": "2024-09-06T02:53:07.338142Z",
     "shell.execute_reply": "2024-09-06T02:53:07.337663Z"
    }
   },
   "outputs": [],
   "source": [
    "# Specify Context and Action Features\n",
    "action_features = ['target']\n",
    "context_features = features.get_names(without=action_features)"
   ]
  },
  {
   "cell_type": "markdown",
   "id": "d4fe66d7",
   "metadata": {},
   "source": [
    "> **Note:** Train Test Split\n",
    "\n",
    "To gauge model performance, train-test splits are often used in traditional machine learning workflows. Howso Engine does not require the use of train-test split for validation. Please see recipe `6-validation.ipynb` for further explanation. Therefore, we will not use train-test splits our recipes unless the test set serves a specific purpose."
   ]
  },
  {
   "cell_type": "markdown",
   "id": "c047722c-3d5e-4c88-ba05-59cfe5f82325",
   "metadata": {},
   "source": [
    "# Step 3: Create Trainee"
   ]
  },
  {
   "cell_type": "markdown",
   "id": "ce2a88f1-6ca1-4c75-a545-760710946e35",
   "metadata": {},
   "source": [
    "To begin the Howso Engine workflow, a Trainee is created to act as a base for all of our ML needs. In all subsequent notebooks, we will refer to Howso Engine's model as the Trainee.\n",
    "\n",
    "### **Definitions:**\n",
    "\n",
    "**`Trainee`:** A collection of Cases that comprise knowledge. It also includes metadata and parameters. In traditional ML this is referred to as a model.\n",
    "\n",
    "**`Case`:** A set of feature values representing an observation. In traditional ML, a Case is sometimes referred to as an \"observation\", \"record\", or \"data point\". In database terms, a Case would be a row of values. For supervised learning a Case is a set of Context values and Action values. For unsupervised learning a Case is just a set of feature values. "
   ]
  },
  {
   "cell_type": "code",
   "execution_count": 6,
   "id": "71444a54-555e-4147-9535-ceff2e42440c",
   "metadata": {
    "execution": {
     "iopub.execute_input": "2024-09-06T02:53:07.340464Z",
     "iopub.status.busy": "2024-09-06T02:53:07.340279Z",
     "iopub.status.idle": "2024-09-06T02:53:07.773555Z",
     "shell.execute_reply": "2024-09-06T02:53:07.772933Z"
    }
   },
   "outputs": [],
   "source": [
    "# Create the Trainee\n",
    "t = Trainee(features=features)"
   ]
  },
  {
   "cell_type": "markdown",
   "id": "7cd0bdc6",
   "metadata": {},
   "source": [
    "# Step 4: Preprocessing and Training\n",
    "\n",
    "One benefit of Howso Engine is that most standard forms of data pre-processing such as one-hot encoding and standardization are **NOT** needed, which is in contrast to many modern ML models. This does not include more sophisticated forms of pre-processing such as feature selection or feature engineering, which may still be useful. Fitting is also done in two steps in Howso Engine.\n",
    "\n",
    "### **Definitions:**\n",
    "\n",
    "**`Train`:** To add a case or set of cases to the Trainee, making the information contained in these cases available for downstream tasks.\n",
    "\n",
    "**`Analyze`:** Tune internal parameters to improve performance and accuracy of predictions and metrics. Analysis may be targeted or targetless.  Targetless analysis provides the best balanced set of parameters if an Action Feature is not specified, along with a performance boost while targeted analysis provides a boost to accuracy towards the specified action features. \n"
   ]
  },
  {
   "cell_type": "code",
   "execution_count": 7,
   "id": "317c900d",
   "metadata": {
    "execution": {
     "iopub.execute_input": "2024-09-06T02:53:07.776646Z",
     "iopub.status.busy": "2024-09-06T02:53:07.776403Z",
     "iopub.status.idle": "2024-09-06T02:53:29.118675Z",
     "shell.execute_reply": "2024-09-06T02:53:29.118071Z"
    }
   },
   "outputs": [],
   "source": [
    "# Train\n",
    "t.train(df)\n",
    "\n",
    "# Analyze the Trainee\n",
    "# (By specifying action_features, this becomes a Targeted analysis)\n",
    "t.analyze(context_features=context_features, action_features=action_features)"
   ]
  },
  {
   "cell_type": "markdown",
   "id": "bceee584",
   "metadata": {},
   "source": [
    "# Step 5: Results\n",
    "\n",
    "Once Howso Engine is trained and analyzed, it provides the user with a variety of ML capabilities. At this stage in the Howso Engine workflow, a typical use case would be to evaluate the accuracy of the Trainee, which is performed by the `react` method. This is equivalent to `predict` in many traditional Machine Learning workflows, although the `react` method is not solely used for supervised predictions as detailed in subsequent recipes. \n",
    "\n",
    "Since we are not using a train-test split, we will use the `react_aggregate` method, which performs a `react` on each of the cases that is trained into the model (or a sample for very large models), then computes the desired metrics. Alternatively, a standard `react` call may be used on untrained data for prediction.\n",
    "\n",
    "The accuracy is calculated internally as shown in the code below and this is the recommended accuracy metric for nominal action features. Further explanations are available in recipe `6-validation`.\n",
    "\n",
    "### **Definitions:**\n",
    "\n",
    "**`React`:** Exposing a Trainee to a new Case's Context Features and an Action Feature for that case is returned. In traditional ML this is often referred to predicting or labeling."
   ]
  },
  {
   "cell_type": "code",
   "execution_count": 8,
   "id": "40df332d",
   "metadata": {
    "execution": {
     "iopub.execute_input": "2024-09-06T02:53:29.121927Z",
     "iopub.status.busy": "2024-09-06T02:53:29.121404Z",
     "iopub.status.idle": "2024-09-06T02:53:30.105063Z",
     "shell.execute_reply": "2024-09-06T02:53:30.104468Z"
    }
   },
   "outputs": [],
   "source": [
    "# Recommended metrics\n",
    "stats = t.react_aggregate(\n",
    "    action_feature=action_features[0],\n",
    "    details = {\n",
    "        \"prediction_stats\": True,\n",
    "        \"selected_prediction_stats\": [\"all\"]\n",
    "    }\n",
    ")\n"
   ]
  },
  {
   "cell_type": "code",
   "execution_count": 9,
   "id": "11b772af",
   "metadata": {
    "execution": {
     "iopub.execute_input": "2024-09-06T02:53:30.108038Z",
     "iopub.status.busy": "2024-09-06T02:53:30.107834Z",
     "iopub.status.idle": "2024-09-06T02:53:30.114963Z",
     "shell.execute_reply": "2024-09-06T02:53:30.114474Z"
    }
   },
   "outputs": [
    {
     "name": "stdout",
     "output_type": "stream",
     "text": [
      "Howso Prediction Results - Confusion Matrix\n"
     ]
    },
    {
     "data": {
      "text/html": [
       "<div>\n",
       "<style scoped>\n",
       "    .dataframe tbody tr th:only-of-type {\n",
       "        vertical-align: middle;\n",
       "    }\n",
       "\n",
       "    .dataframe tbody tr th {\n",
       "        vertical-align: top;\n",
       "    }\n",
       "\n",
       "    .dataframe thead th {\n",
       "        text-align: right;\n",
       "    }\n",
       "</style>\n",
       "<table border=\"1\" class=\"dataframe\">\n",
       "  <thead>\n",
       "    <tr style=\"text-align: right;\">\n",
       "      <th>Actual</th>\n",
       "      <th>1</th>\n",
       "      <th>0</th>\n",
       "    </tr>\n",
       "    <tr>\n",
       "      <th>Predicted</th>\n",
       "      <th></th>\n",
       "      <th></th>\n",
       "    </tr>\n",
       "  </thead>\n",
       "  <tbody>\n",
       "    <tr>\n",
       "      <th>1</th>\n",
       "      <td>678</td>\n",
       "      <td>112</td>\n",
       "    </tr>\n",
       "    <tr>\n",
       "      <th>0</th>\n",
       "      <td>78</td>\n",
       "      <td>132</td>\n",
       "    </tr>\n",
       "  </tbody>\n",
       "</table>\n",
       "</div>"
      ],
      "text/plain": [
       "Actual       1    0\n",
       "Predicted          \n",
       "1          678  112\n",
       "0           78  132"
      ]
     },
     "metadata": {},
     "output_type": "display_data"
    }
   ],
   "source": [
    "# The confusion matrix can be retrieved\n",
    "print(\"Howso Prediction Results - Confusion Matrix\")\n",
    "matrix = pd.DataFrame(stats[\"target\"][\"confusion_matrix\"][\"matrix\"])\n",
    "matrix.index.name = \"Predicted\"\n",
    "matrix.columns.name = \"Actual\"\n",
    "display(matrix)"
   ]
  },
  {
   "cell_type": "markdown",
   "id": "784d2f58",
   "metadata": {},
   "source": [
    "### Sparse Confusion Matrices\n",
    "\n",
    "By default, Howso confusion matrices are returned in sparse format. This means that for nominal features, only classes that have counts above a certain threshold are returned individually as columns and rows in the confusion matrices. For all classes who do not meet this threshold, their values are lumped together into a ``leftover`` category, where ``leftover_correct`` and ``leftover_incorrect`` represents the results for these lumped classes. \n",
    "\n",
    "To control the class count threshold for sparsifying the confusion matrix, please use the ``confusion_matrix_min_count`` parameter in``react_aggregate``."
   ]
  },
  {
   "cell_type": "code",
   "execution_count": 10,
   "id": "8226dffb",
   "metadata": {
    "execution": {
     "iopub.execute_input": "2024-09-06T02:53:30.117311Z",
     "iopub.status.busy": "2024-09-06T02:53:30.117080Z",
     "iopub.status.idle": "2024-09-06T02:53:30.120409Z",
     "shell.execute_reply": "2024-09-06T02:53:30.119920Z"
    }
   },
   "outputs": [
    {
     "name": "stdout",
     "output_type": "stream",
     "text": [
      "Leftover correct: 12\n",
      "Leftover incorrect: 188\n"
     ]
    }
   ],
   "source": [
    "print(f\"Leftover correct: {stats['education']['confusion_matrix']['leftover_correct']}\")\n",
    "print(f\"Leftover incorrect: {stats['education']['confusion_matrix']['leftover_incorrect']}\")"
   ]
  },
  {
   "cell_type": "markdown",
   "id": "8bbc1061",
   "metadata": {},
   "source": [
    "We can see that the classes present in the confusion matrix all have counts that are greater than the ``confusion_matrix_min_count`` threshold, which is 10 by default."
   ]
  },
  {
   "cell_type": "code",
   "execution_count": 11,
   "id": "a818e702",
   "metadata": {
    "execution": {
     "iopub.execute_input": "2024-09-06T02:53:30.122565Z",
     "iopub.status.busy": "2024-09-06T02:53:30.122386Z",
     "iopub.status.idle": "2024-09-06T02:53:30.130954Z",
     "shell.execute_reply": "2024-09-06T02:53:30.130487Z"
    }
   },
   "outputs": [
    {
     "data": {
      "text/html": [
       "<div>\n",
       "<style scoped>\n",
       "    .dataframe tbody tr th:only-of-type {\n",
       "        vertical-align: middle;\n",
       "    }\n",
       "\n",
       "    .dataframe tbody tr th {\n",
       "        vertical-align: top;\n",
       "    }\n",
       "\n",
       "    .dataframe thead th {\n",
       "        text-align: right;\n",
       "    }\n",
       "</style>\n",
       "<table border=\"1\" class=\"dataframe\">\n",
       "  <thead>\n",
       "    <tr style=\"text-align: right;\">\n",
       "      <th></th>\n",
       "      <th>11</th>\n",
       "      <th>9</th>\n",
       "      <th>7</th>\n",
       "      <th>15</th>\n",
       "    </tr>\n",
       "  </thead>\n",
       "  <tbody>\n",
       "    <tr>\n",
       "      <th>11</th>\n",
       "      <td>232</td>\n",
       "      <td>40</td>\n",
       "      <td>16.0</td>\n",
       "      <td>121</td>\n",
       "    </tr>\n",
       "    <tr>\n",
       "      <th>9</th>\n",
       "      <td>16</td>\n",
       "      <td>87</td>\n",
       "      <td>0.0</td>\n",
       "      <td>17</td>\n",
       "    </tr>\n",
       "    <tr>\n",
       "      <th>15</th>\n",
       "      <td>58</td>\n",
       "      <td>29</td>\n",
       "      <td>0.0</td>\n",
       "      <td>71</td>\n",
       "    </tr>\n",
       "  </tbody>\n",
       "</table>\n",
       "</div>"
      ],
      "text/plain": [
       "     11   9     7   15\n",
       "11  232  40  16.0  121\n",
       "9    16  87   0.0   17\n",
       "15   58  29   0.0   71"
      ]
     },
     "execution_count": 11,
     "metadata": {},
     "output_type": "execute_result"
    }
   ],
   "source": [
    "# Sparse Confusion Matrix\n",
    "sparse = pd.DataFrame(stats[\"education\"][\"confusion_matrix\"][\"matrix\"]).fillna(0)\n",
    "sparse"
   ]
  },
  {
   "cell_type": "markdown",
   "id": "78d9072a",
   "metadata": {},
   "source": [
    "Another way to use the `react_aggregate` method is to utilize the `condition` parameter. Specifying a condition allows the user to get prediction stats on the subset of cases that matches the specified condition.\n",
    "\n",
    "For example, we can use the `condition` parameter to find the accuracy, precision, and recall on the subsets of the dataset with each value for Sex."
   ]
  },
  {
   "cell_type": "code",
   "execution_count": 12,
   "id": "9e4f0a57",
   "metadata": {
    "execution": {
     "iopub.execute_input": "2024-09-06T02:53:30.133328Z",
     "iopub.status.busy": "2024-09-06T02:53:30.132953Z",
     "iopub.status.idle": "2024-09-06T02:53:31.741698Z",
     "shell.execute_reply": "2024-09-06T02:53:31.741047Z"
    }
   },
   "outputs": [
    {
     "name": "stdout",
     "output_type": "stream",
     "text": [
      "Howso Prediction Results On Cases with Sex=1 - Accuracy: 0.79, Precision: 0.75, and Recall: 0.77\n",
      "Howso Prediction Results On Cases with Sex=0 - Accuracy: 0.9, Precision: 0.66, and Recall: 0.71\n"
     ]
    }
   ],
   "source": [
    "# Condition takes a dictionary of feature name to feature value for nominal features\n",
    "sex_1_stats = t.react_aggregate(\n",
    "    action_feature=action_features[0],\n",
    "    details = {\n",
    "        \"prediction_stats\": True,\n",
    "        \"action_condition\": {'sex': 1}\n",
    "    }\n",
    ")['target'].round(2)\n",
    "print(f'Howso Prediction Results On Cases with Sex=1 - Accuracy: {sex_1_stats[\"accuracy\"]}, Precision: {sex_1_stats[\"recall\"]}, and Recall: {sex_1_stats[\"precision\"]}')\n",
    "\n",
    "sex_0_stats = t.react_aggregate(\n",
    "    action_feature=action_features[0],\n",
    "    details = {\n",
    "        \"prediction_stats\": True,\n",
    "        \"action_condition\": {'sex': 0}\n",
    "    }\n",
    ")['target'].round(2)\n",
    "print(f'Howso Prediction Results On Cases with Sex=0 - Accuracy: {sex_0_stats[\"accuracy\"]}, Precision: {sex_0_stats[\"recall\"]}, and Recall: {sex_0_stats[\"precision\"]}')"
   ]
  },
  {
   "cell_type": "markdown",
   "id": "c0b5dd57",
   "metadata": {},
   "source": [
    "This type of analysis can help users understand the regions of their data that are less predictable, which may provide insight on how data collection can be improved."
   ]
  },
  {
   "cell_type": "markdown",
   "id": "9deb6e06",
   "metadata": {},
   "source": [
    "# Step 6: Inference\n",
    "\n",
    "Once Howso Engine is trained and analyzed, it provides the user with a variety of ML capabilities. One of the core capabilities in engine is prediction, which Engine infers a action value based on the given context values. This prediction is a standard output when using `react` and the prediction can be found by navigating the output as shown."
   ]
  },
  {
   "cell_type": "code",
   "execution_count": 13,
   "id": "f7a05d09",
   "metadata": {
    "execution": {
     "iopub.execute_input": "2024-09-06T02:53:31.744557Z",
     "iopub.status.busy": "2024-09-06T02:53:31.744074Z",
     "iopub.status.idle": "2024-09-06T02:53:31.753567Z",
     "shell.execute_reply": "2024-09-06T02:53:31.752921Z"
    }
   },
   "outputs": [
    {
     "data": {
      "text/html": [
       "<div>\n",
       "<style scoped>\n",
       "    .dataframe tbody tr th:only-of-type {\n",
       "        vertical-align: middle;\n",
       "    }\n",
       "\n",
       "    .dataframe tbody tr th {\n",
       "        vertical-align: top;\n",
       "    }\n",
       "\n",
       "    .dataframe thead th {\n",
       "        text-align: right;\n",
       "    }\n",
       "</style>\n",
       "<table border=\"1\" class=\"dataframe\">\n",
       "  <thead>\n",
       "    <tr style=\"text-align: right;\">\n",
       "      <th></th>\n",
       "      <th>target</th>\n",
       "    </tr>\n",
       "  </thead>\n",
       "  <tbody>\n",
       "    <tr>\n",
       "      <th>0</th>\n",
       "      <td>1</td>\n",
       "    </tr>\n",
       "  </tbody>\n",
       "</table>\n",
       "</div>"
      ],
      "text/plain": [
       "   target\n",
       "0       1"
      ]
     },
     "execution_count": 13,
     "metadata": {},
     "output_type": "execute_result"
    }
   ],
   "source": [
    "results = t.react(\n",
    "    test_case,\n",
    "    context_features=context_features,\n",
    "    action_features=action_features,\n",
    ")\n",
    "\n",
    "predictions = results['action'][action_features]\n",
    "predictions"
   ]
  },
  {
   "cell_type": "markdown",
   "id": "a381ec96",
   "metadata": {},
   "source": [
    "### Predict Function\n",
    "\n",
    "A `predict` method is also provided as an ease-of-use function that provides the same results as the method shown above using `react` and directly returns the predictions without requiring the user to navigate the output."
   ]
  },
  {
   "cell_type": "code",
   "execution_count": 14,
   "id": "3f623d68",
   "metadata": {
    "execution": {
     "iopub.execute_input": "2024-09-06T02:53:31.756128Z",
     "iopub.status.busy": "2024-09-06T02:53:31.755677Z",
     "iopub.status.idle": "2024-09-06T02:53:31.763653Z",
     "shell.execute_reply": "2024-09-06T02:53:31.763001Z"
    }
   },
   "outputs": [
    {
     "data": {
      "text/html": [
       "<div>\n",
       "<style scoped>\n",
       "    .dataframe tbody tr th:only-of-type {\n",
       "        vertical-align: middle;\n",
       "    }\n",
       "\n",
       "    .dataframe tbody tr th {\n",
       "        vertical-align: top;\n",
       "    }\n",
       "\n",
       "    .dataframe thead th {\n",
       "        text-align: right;\n",
       "    }\n",
       "</style>\n",
       "<table border=\"1\" class=\"dataframe\">\n",
       "  <thead>\n",
       "    <tr style=\"text-align: right;\">\n",
       "      <th></th>\n",
       "      <th>target</th>\n",
       "    </tr>\n",
       "  </thead>\n",
       "  <tbody>\n",
       "    <tr>\n",
       "      <th>0</th>\n",
       "      <td>1</td>\n",
       "    </tr>\n",
       "  </tbody>\n",
       "</table>\n",
       "</div>"
      ],
      "text/plain": [
       "   target\n",
       "0       1"
      ]
     },
     "execution_count": 14,
     "metadata": {},
     "output_type": "execute_result"
    }
   ],
   "source": [
    "predictions = t.predict(\n",
    "    test_case,\n",
    "    context_features=context_features,\n",
    "    action_features=action_features,\n",
    ")\n",
    "\n",
    "predictions"
   ]
  },
  {
   "cell_type": "markdown",
   "id": "1c7c59c7",
   "metadata": {},
   "source": [
    "# Step 7: Saving, Loading, and Deleting from your local disk\n",
    "\n",
    "These methods work for `HowsoDirectClient` and its subclasses.\n",
    "\n",
    "### Saving and Loading\n",
    "\n",
    "When saving to disk, a filepath or filename may provided. The filepath provided may be a relative or absolute path. The filepath can include the desired filename with a `.caml` extension. If no filename is at the end of the filepath, the Trainee ID will be used. If just the filename is provided, then the current working directory will be used as the filepath. \n",
    "\n",
    "> **Note:** It is recommended, however not necessary that the filename match the trainee ID\n",
    "\n",
    "\n",
    "### Deleting\n",
    "\n",
    "When deleting a Trainee, the `delete` method deletes the trainee from the last saved or loaded disk location, as well as memory. If the Trainee has not been saved, `delete` can also be used to just remove a Trainee from memory.\n",
    "\n",
    "When Trainees are saved, a `.caml` file and a `.txt` version file is saved. The `delete` method assumes that the prefix to the version filename is the same as the `.caml` trainee filename."
   ]
  },
  {
   "cell_type": "code",
   "execution_count": 15,
   "id": "9276968a",
   "metadata": {
    "execution": {
     "iopub.execute_input": "2024-09-06T02:53:31.766115Z",
     "iopub.status.busy": "2024-09-06T02:53:31.765681Z",
     "iopub.status.idle": "2024-09-06T02:53:31.976387Z",
     "shell.execute_reply": "2024-09-06T02:53:31.975688Z"
    }
   },
   "outputs": [],
   "source": [
    "from howso.direct import HowsoDirectClient\n",
    "\n",
    "# Clients that extend `HowsoDirectClient` will have local file operations\n",
    "if isinstance(t.client, HowsoDirectClient):\n",
    "    # Example filepath (same as default)\n",
    "    cwd = Path.cwd()\n",
    "    file_path=f\"{cwd}/engine_intro_trainee.caml\"\n",
    "\n",
    "    # Saving\n",
    "    t.save(file_path=file_path)\n",
    "\n",
    "    # Loading\n",
    "    t = load_trainee(file_path=file_path)\n",
    "\n",
    "    # Deleting\n",
    "    t.delete()"
   ]
  },
  {
   "cell_type": "markdown",
   "id": "5023a91b",
   "metadata": {},
   "source": [
    "# Conclusion:\n",
    "\n",
    "Howso Engine provide users with powerful tools to perform a variety of data analysis and prediction tasks. However, making predictions may not suffice if these tools are used for decision-making. As an example with this specific `Adult` dataset, if the user were a bank predicting whether an individual will make over or under $50k in the future for loan decisions, the outcome of prediction efforts might adversely affect the livelihood of that individual as well as the bank if the prediction is inaccurate or biased. Ideally, a predictive tool should provide both accurate results and interpretability so that it can be held accountable for its predictions. Unfortunately, traditional ML techniques often leave a lot to be desired in terms of interpretability. Because of its instance-based ML nature, Howso Engine is inherently interpretable."
   ]
  }
 ],
 "metadata": {
  "kernelspec": {
   "display_name": "Python 3 (ipykernel)",
   "language": "python",
   "name": "python3"
  },
  "language_info": {
   "codemirror_mode": {
    "name": "ipython",
    "version": 3
   },
   "file_extension": ".py",
   "mimetype": "text/x-python",
   "name": "python",
   "nbconvert_exporter": "python",
   "pygments_lexer": "ipython3",
   "version": "3.11.4"
  },
  "vscode": {
   "interpreter": {
    "hash": "d9b4298285f63347a4f5469a5c77e773aa0d93492a1da372f14781d93b4190a0"
   }
  }
 },
 "nbformat": 4,
 "nbformat_minor": 5
}
