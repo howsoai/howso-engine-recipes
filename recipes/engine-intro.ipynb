{
 "cells": [
  {
   "cell_type": "markdown",
   "id": "89c7783a-b0f4-4e2d-9c7c-0663c41f86de",
   "metadata": {},
   "source": [
    "# Howso Engine Intro \n",
    "\n",
    "## Overview \n",
    "\n",
    " \n",
    "Howso Engine is a generalized Machine Learning (ML) and Artificial Intelligence platform that creates powerful decision-making platforms that are fully explainable, auditable, and editable. Howso Engine uses Instance-Based Machine Learning which stores instances, i.e., data points, in memory and makes predictions about new instances given their relationship to existing instances. This technology harnesses a fast spatial query system and techniques from information theory to enhance both performance and accuracy. \n",
    "\n",
    " \n",
    "\n",
    "Howso Engine is unique in that it utilizes a one-model approach (the data is the model) that enables the user to accomplish: \n",
    "\n",
    " \n",
    "\n",
    "- \"Targetless Learning\" - allows the user to predict and characterize any set of variables \n",
    "\n",
    "- Supervised Learning \n",
    "\n",
    "- Unsupervised Learning \n",
    "\n",
    "- Reinforcement Learning \n",
    "\n",
    "- Online Learning \n",
    "\n",
    "- Discriminative and Generative Modeling \n",
    "\n",
    "- Model Interpretation and Explanation \n",
    "\n",
    "- Data Imputation \n",
    "\n",
    " \n",
    "\n",
    "In this notebook we will explore the most basic workflow for training Howso Engine and making predictions. This will enable us to become familiar with basic Howso Engine terminologies, including: \n",
    "\n",
    " \n",
    "\n",
    "- Action Features \n",
    "\n",
    "- Context Features \n",
    "\n",
    "- Cases \n",
    "\n",
    "- Trainee \n",
    "\n",
    "- Train \n",
    "\n",
    "- Analyze \n",
    "\n",
    "- React \n",
    "\n",
    "## Recipe Goals:\n",
    "\n",
    "This notebook will provide a demonstration of a basic Howso Engine workflow."
   ]
  },
  {
   "cell_type": "code",
   "execution_count": 1,
   "id": "729f6c7a-4b11-4311-aad9-03f89a568e3f",
   "metadata": {
    "execution": {
     "iopub.execute_input": "2025-10-17T19:38:32.536839Z",
     "iopub.status.busy": "2025-10-17T19:38:32.536645Z",
     "iopub.status.idle": "2025-10-17T19:38:32.922946Z",
     "shell.execute_reply": "2025-10-17T19:38:32.921961Z"
    }
   },
   "outputs": [],
   "source": [
    "from pathlib import Path\n",
    "\n",
    "import pandas as pd\n",
    "from pmlb import fetch_data\n",
    "\n",
    "from howso.engine import (\n",
    "    load_trainee,\n",
    "    Trainee,\n",
    ")\n",
    "from howso.utilities import infer_feature_attributes"
   ]
  },
  {
   "cell_type": "markdown",
   "id": "dc81651d-62ab-4ac2-80d1-a58ddeaa0413",
   "metadata": {},
   "source": [
    "# Step 1: Import Data\n",
    "\n",
    "Our example dataset for this recipe is the well known `Adult` dataset. This dataset consists of 14 Context Features and 1 Action Feature. The Action Feature in this version of the `Adult` dataset has been renamed to `target` and it takes the form of a binary indicator for whether a person in the data makes more than $50,000/year (*target*=1) or less (*target*=0).\n",
    "\n",
    "### **Definitions:**\n",
    "\n",
    "**`Action Feature`:** A feature that the user would like to discriminatively predict or generatively synthesize. In traditional ML these may be referred to as targets, target features, or dependent variables.\n",
    "\n",
    "**`Context Feature`:** A feature that is used as an input to the model that creates a context from which a prediction is derived. In traditional ML these are often referred to as features, inputs, predictors, or independent features."
   ]
  },
  {
   "cell_type": "code",
   "execution_count": 2,
   "id": "0536252d-2900-46a7-af8b-d333da46e2e0",
   "metadata": {
    "execution": {
     "iopub.execute_input": "2025-10-17T19:38:32.925238Z",
     "iopub.status.busy": "2025-10-17T19:38:32.925032Z",
     "iopub.status.idle": "2025-10-17T19:38:32.980528Z",
     "shell.execute_reply": "2025-10-17T19:38:32.979614Z"
    }
   },
   "outputs": [],
   "source": [
    "df = fetch_data('adult', local_cache_dir=\"../data/adult\")\n",
    "\n",
    "# Subsample the data to ensure the example runs quickly\n",
    "df = df.sample(2000)\n",
    "\n",
    "# Split out the last row for a prediction set and drop the Action Feature\n",
    "test_case = df.iloc[[-1]].copy()\n",
    "df.drop(df.index[-1], inplace=True)\n",
    "test_case = test_case.drop('target', axis=1)"
   ]
  },
  {
   "cell_type": "markdown",
   "id": "ec71ebee-2879-418a-a3d4-94da3e5cecd1",
   "metadata": {},
   "source": [
    "# Step 2: Feature Mapping"
   ]
  },
  {
   "cell_type": "markdown",
   "id": "27ff9e8c-abfa-4408-a631-2ce01edf05b5",
   "metadata": {},
   "source": [
    "Typically, an exploratory analysis is done on the data to get a general feel of the descriptive statistics and data attributes. \n",
    "\n",
    "Methods like `describe` from a Pandas dataframe often automatically present these types of information of interest to a user, as shown below. While informative, these descriptive statistics are often used as a sanity check pre- and post-modeling and a model typically doesn't actually use any of these feature attributes."
   ]
  },
  {
   "cell_type": "code",
   "execution_count": 3,
   "id": "12242480",
   "metadata": {
    "execution": {
     "iopub.execute_input": "2025-10-17T19:38:32.982675Z",
     "iopub.status.busy": "2025-10-17T19:38:32.982479Z",
     "iopub.status.idle": "2025-10-17T19:38:33.014715Z",
     "shell.execute_reply": "2025-10-17T19:38:33.013992Z"
    }
   },
   "outputs": [
    {
     "data": {
      "text/html": [
       "<div>\n",
       "<style scoped>\n",
       "    .dataframe tbody tr th:only-of-type {\n",
       "        vertical-align: middle;\n",
       "    }\n",
       "\n",
       "    .dataframe tbody tr th {\n",
       "        vertical-align: top;\n",
       "    }\n",
       "\n",
       "    .dataframe thead th {\n",
       "        text-align: right;\n",
       "    }\n",
       "</style>\n",
       "<table border=\"1\" class=\"dataframe\">\n",
       "  <thead>\n",
       "    <tr style=\"text-align: right;\">\n",
       "      <th></th>\n",
       "      <th>age</th>\n",
       "      <th>workclass</th>\n",
       "      <th>fnlwgt</th>\n",
       "      <th>education</th>\n",
       "      <th>education-num</th>\n",
       "      <th>marital-status</th>\n",
       "      <th>occupation</th>\n",
       "      <th>relationship</th>\n",
       "      <th>race</th>\n",
       "      <th>sex</th>\n",
       "      <th>capital-gain</th>\n",
       "      <th>capital-loss</th>\n",
       "      <th>hours-per-week</th>\n",
       "      <th>native-country</th>\n",
       "      <th>target</th>\n",
       "    </tr>\n",
       "  </thead>\n",
       "  <tbody>\n",
       "    <tr>\n",
       "      <th>count</th>\n",
       "      <td>1999.000000</td>\n",
       "      <td>1999.000000</td>\n",
       "      <td>1999.000000</td>\n",
       "      <td>1999.000000</td>\n",
       "      <td>1999.000000</td>\n",
       "      <td>1999.000000</td>\n",
       "      <td>1999.000000</td>\n",
       "      <td>1999.000000</td>\n",
       "      <td>1999.000000</td>\n",
       "      <td>1999.000000</td>\n",
       "      <td>1999.000000</td>\n",
       "      <td>1999.000000</td>\n",
       "      <td>1999.000000</td>\n",
       "      <td>1999.000000</td>\n",
       "      <td>1999.000000</td>\n",
       "    </tr>\n",
       "    <tr>\n",
       "      <th>mean</th>\n",
       "      <td>38.377189</td>\n",
       "      <td>3.878439</td>\n",
       "      <td>192141.554277</td>\n",
       "      <td>10.274137</td>\n",
       "      <td>10.043022</td>\n",
       "      <td>2.586793</td>\n",
       "      <td>6.577789</td>\n",
       "      <td>1.433217</td>\n",
       "      <td>3.676838</td>\n",
       "      <td>0.672836</td>\n",
       "      <td>1122.114057</td>\n",
       "      <td>80.574287</td>\n",
       "      <td>40.580790</td>\n",
       "      <td>36.640320</td>\n",
       "      <td>0.775388</td>\n",
       "    </tr>\n",
       "    <tr>\n",
       "      <th>std</th>\n",
       "      <td>13.641880</td>\n",
       "      <td>1.446313</td>\n",
       "      <td>104860.620204</td>\n",
       "      <td>3.922406</td>\n",
       "      <td>2.527754</td>\n",
       "      <td>1.494516</td>\n",
       "      <td>4.206724</td>\n",
       "      <td>1.606860</td>\n",
       "      <td>0.827226</td>\n",
       "      <td>0.469295</td>\n",
       "      <td>7488.770737</td>\n",
       "      <td>390.571547</td>\n",
       "      <td>12.237979</td>\n",
       "      <td>8.050528</td>\n",
       "      <td>0.417431</td>\n",
       "    </tr>\n",
       "    <tr>\n",
       "      <th>min</th>\n",
       "      <td>17.000000</td>\n",
       "      <td>0.000000</td>\n",
       "      <td>19302.000000</td>\n",
       "      <td>0.000000</td>\n",
       "      <td>1.000000</td>\n",
       "      <td>0.000000</td>\n",
       "      <td>0.000000</td>\n",
       "      <td>0.000000</td>\n",
       "      <td>0.000000</td>\n",
       "      <td>0.000000</td>\n",
       "      <td>0.000000</td>\n",
       "      <td>0.000000</td>\n",
       "      <td>1.000000</td>\n",
       "      <td>0.000000</td>\n",
       "      <td>0.000000</td>\n",
       "    </tr>\n",
       "    <tr>\n",
       "      <th>25%</th>\n",
       "      <td>27.000000</td>\n",
       "      <td>4.000000</td>\n",
       "      <td>118608.500000</td>\n",
       "      <td>9.000000</td>\n",
       "      <td>9.000000</td>\n",
       "      <td>2.000000</td>\n",
       "      <td>3.000000</td>\n",
       "      <td>0.000000</td>\n",
       "      <td>4.000000</td>\n",
       "      <td>0.000000</td>\n",
       "      <td>0.000000</td>\n",
       "      <td>0.000000</td>\n",
       "      <td>40.000000</td>\n",
       "      <td>39.000000</td>\n",
       "      <td>1.000000</td>\n",
       "    </tr>\n",
       "    <tr>\n",
       "      <th>50%</th>\n",
       "      <td>37.000000</td>\n",
       "      <td>4.000000</td>\n",
       "      <td>180318.000000</td>\n",
       "      <td>11.000000</td>\n",
       "      <td>10.000000</td>\n",
       "      <td>2.000000</td>\n",
       "      <td>7.000000</td>\n",
       "      <td>1.000000</td>\n",
       "      <td>4.000000</td>\n",
       "      <td>1.000000</td>\n",
       "      <td>0.000000</td>\n",
       "      <td>0.000000</td>\n",
       "      <td>40.000000</td>\n",
       "      <td>39.000000</td>\n",
       "      <td>1.000000</td>\n",
       "    </tr>\n",
       "    <tr>\n",
       "      <th>75%</th>\n",
       "      <td>47.000000</td>\n",
       "      <td>4.000000</td>\n",
       "      <td>240447.500000</td>\n",
       "      <td>12.000000</td>\n",
       "      <td>12.000000</td>\n",
       "      <td>4.000000</td>\n",
       "      <td>10.000000</td>\n",
       "      <td>3.000000</td>\n",
       "      <td>4.000000</td>\n",
       "      <td>1.000000</td>\n",
       "      <td>0.000000</td>\n",
       "      <td>0.000000</td>\n",
       "      <td>45.000000</td>\n",
       "      <td>39.000000</td>\n",
       "      <td>1.000000</td>\n",
       "    </tr>\n",
       "    <tr>\n",
       "      <th>max</th>\n",
       "      <td>90.000000</td>\n",
       "      <td>7.000000</td>\n",
       "      <td>864960.000000</td>\n",
       "      <td>15.000000</td>\n",
       "      <td>16.000000</td>\n",
       "      <td>6.000000</td>\n",
       "      <td>14.000000</td>\n",
       "      <td>5.000000</td>\n",
       "      <td>4.000000</td>\n",
       "      <td>1.000000</td>\n",
       "      <td>99999.000000</td>\n",
       "      <td>2824.000000</td>\n",
       "      <td>99.000000</td>\n",
       "      <td>40.000000</td>\n",
       "      <td>1.000000</td>\n",
       "    </tr>\n",
       "  </tbody>\n",
       "</table>\n",
       "</div>"
      ],
      "text/plain": [
       "               age    workclass         fnlwgt    education  education-num  \\\n",
       "count  1999.000000  1999.000000    1999.000000  1999.000000    1999.000000   \n",
       "mean     38.377189     3.878439  192141.554277    10.274137      10.043022   \n",
       "std      13.641880     1.446313  104860.620204     3.922406       2.527754   \n",
       "min      17.000000     0.000000   19302.000000     0.000000       1.000000   \n",
       "25%      27.000000     4.000000  118608.500000     9.000000       9.000000   \n",
       "50%      37.000000     4.000000  180318.000000    11.000000      10.000000   \n",
       "75%      47.000000     4.000000  240447.500000    12.000000      12.000000   \n",
       "max      90.000000     7.000000  864960.000000    15.000000      16.000000   \n",
       "\n",
       "       marital-status   occupation  relationship         race          sex  \\\n",
       "count     1999.000000  1999.000000   1999.000000  1999.000000  1999.000000   \n",
       "mean         2.586793     6.577789      1.433217     3.676838     0.672836   \n",
       "std          1.494516     4.206724      1.606860     0.827226     0.469295   \n",
       "min          0.000000     0.000000      0.000000     0.000000     0.000000   \n",
       "25%          2.000000     3.000000      0.000000     4.000000     0.000000   \n",
       "50%          2.000000     7.000000      1.000000     4.000000     1.000000   \n",
       "75%          4.000000    10.000000      3.000000     4.000000     1.000000   \n",
       "max          6.000000    14.000000      5.000000     4.000000     1.000000   \n",
       "\n",
       "       capital-gain  capital-loss  hours-per-week  native-country       target  \n",
       "count   1999.000000   1999.000000     1999.000000     1999.000000  1999.000000  \n",
       "mean    1122.114057     80.574287       40.580790       36.640320     0.775388  \n",
       "std     7488.770737    390.571547       12.237979        8.050528     0.417431  \n",
       "min        0.000000      0.000000        1.000000        0.000000     0.000000  \n",
       "25%        0.000000      0.000000       40.000000       39.000000     1.000000  \n",
       "50%        0.000000      0.000000       40.000000       39.000000     1.000000  \n",
       "75%        0.000000      0.000000       45.000000       39.000000     1.000000  \n",
       "max    99999.000000   2824.000000       99.000000       40.000000     1.000000  "
      ]
     },
     "execution_count": 3,
     "metadata": {},
     "output_type": "execute_result"
    }
   ],
   "source": [
    "df.describe()"
   ]
  },
  {
   "cell_type": "markdown",
   "id": "8d1b856f",
   "metadata": {},
   "source": [
    "In the Howso Engine workflow, feature attributes are an essential part of model building and usage. By incorporating certain feature attributes into the model itself, Howso Engine gains another layer of information that will help in fine-tuning the results. \n",
    "\n",
    "In order to assist the user with defining the feature attributes, Howso provides the `infer_feature_attributes` function that automatically processes the dataset for the user.\n",
    "\n",
    "These feature attributes are based on the existing data, rather than exact descriptive statistics. This is why, for example, the min and max bounds on continuous features are not the exact min and max values of the dataset, but rather an expanded version of those min and max values to allow for some variation. However, users are encouraged to manually adjust feature attributes such as bounds if the properties of any features in the data are well defined.\n",
    "\n",
    "Additionally, Howso always encourages users to inspect the feature attributes of their data. Incorrect feature attributes can severely impact the accuracy of the model. Specific errors to lookout for are incorrect values for 'type' or 'bounds'."
   ]
  },
  {
   "cell_type": "code",
   "execution_count": 4,
   "id": "102736cd",
   "metadata": {
    "execution": {
     "iopub.execute_input": "2025-10-17T19:38:33.016589Z",
     "iopub.status.busy": "2025-10-17T19:38:33.016408Z",
     "iopub.status.idle": "2025-10-17T19:38:33.075735Z",
     "shell.execute_reply": "2025-10-17T19:38:33.075008Z"
    }
   },
   "outputs": [
    {
     "data": {
      "text/html": [
       "<div>\n",
       "<style scoped>\n",
       "    .dataframe tbody tr th:only-of-type {\n",
       "        vertical-align: middle;\n",
       "    }\n",
       "\n",
       "    .dataframe tbody tr th {\n",
       "        vertical-align: top;\n",
       "    }\n",
       "\n",
       "    .dataframe thead tr th {\n",
       "        text-align: left;\n",
       "    }\n",
       "</style>\n",
       "<table border=\"1\" class=\"dataframe\">\n",
       "  <thead>\n",
       "    <tr>\n",
       "      <th></th>\n",
       "      <th>type</th>\n",
       "      <th>decimal_places</th>\n",
       "      <th colspan=\"5\" halign=\"left\">bounds</th>\n",
       "      <th>data_type</th>\n",
       "      <th colspan=\"2\" halign=\"left\">original_type</th>\n",
       "    </tr>\n",
       "    <tr>\n",
       "      <th></th>\n",
       "      <th></th>\n",
       "      <th></th>\n",
       "      <th>min</th>\n",
       "      <th>max</th>\n",
       "      <th>allow_null</th>\n",
       "      <th>observed_min</th>\n",
       "      <th>observed_max</th>\n",
       "      <th></th>\n",
       "      <th>data_type</th>\n",
       "      <th>size</th>\n",
       "    </tr>\n",
       "  </thead>\n",
       "  <tbody>\n",
       "    <tr>\n",
       "      <th>age</th>\n",
       "      <td>continuous</td>\n",
       "      <td>0</td>\n",
       "      <td>0.0</td>\n",
       "      <td>137.0</td>\n",
       "      <td>True</td>\n",
       "      <td>17.0</td>\n",
       "      <td>90.0</td>\n",
       "      <td>number</td>\n",
       "      <td>numeric</td>\n",
       "      <td>8</td>\n",
       "    </tr>\n",
       "    <tr>\n",
       "      <th>workclass</th>\n",
       "      <td>nominal</td>\n",
       "      <td>0</td>\n",
       "      <td>NaN</td>\n",
       "      <td>NaN</td>\n",
       "      <td>False</td>\n",
       "      <td>NaN</td>\n",
       "      <td>NaN</td>\n",
       "      <td>number</td>\n",
       "      <td>integer</td>\n",
       "      <td>8</td>\n",
       "    </tr>\n",
       "    <tr>\n",
       "      <th>fnlwgt</th>\n",
       "      <td>continuous</td>\n",
       "      <td>0</td>\n",
       "      <td>0.0</td>\n",
       "      <td>1413556.0</td>\n",
       "      <td>True</td>\n",
       "      <td>19302.0</td>\n",
       "      <td>864960.0</td>\n",
       "      <td>number</td>\n",
       "      <td>numeric</td>\n",
       "      <td>8</td>\n",
       "    </tr>\n",
       "    <tr>\n",
       "      <th>education</th>\n",
       "      <td>nominal</td>\n",
       "      <td>0</td>\n",
       "      <td>NaN</td>\n",
       "      <td>NaN</td>\n",
       "      <td>False</td>\n",
       "      <td>NaN</td>\n",
       "      <td>NaN</td>\n",
       "      <td>number</td>\n",
       "      <td>integer</td>\n",
       "      <td>8</td>\n",
       "    </tr>\n",
       "    <tr>\n",
       "      <th>education-num</th>\n",
       "      <td>continuous</td>\n",
       "      <td>0</td>\n",
       "      <td>0.0</td>\n",
       "      <td>26.0</td>\n",
       "      <td>True</td>\n",
       "      <td>1.0</td>\n",
       "      <td>16.0</td>\n",
       "      <td>number</td>\n",
       "      <td>numeric</td>\n",
       "      <td>8</td>\n",
       "    </tr>\n",
       "    <tr>\n",
       "      <th>marital-status</th>\n",
       "      <td>nominal</td>\n",
       "      <td>0</td>\n",
       "      <td>NaN</td>\n",
       "      <td>NaN</td>\n",
       "      <td>False</td>\n",
       "      <td>NaN</td>\n",
       "      <td>NaN</td>\n",
       "      <td>number</td>\n",
       "      <td>integer</td>\n",
       "      <td>8</td>\n",
       "    </tr>\n",
       "    <tr>\n",
       "      <th>occupation</th>\n",
       "      <td>nominal</td>\n",
       "      <td>0</td>\n",
       "      <td>NaN</td>\n",
       "      <td>NaN</td>\n",
       "      <td>False</td>\n",
       "      <td>NaN</td>\n",
       "      <td>NaN</td>\n",
       "      <td>number</td>\n",
       "      <td>integer</td>\n",
       "      <td>8</td>\n",
       "    </tr>\n",
       "    <tr>\n",
       "      <th>relationship</th>\n",
       "      <td>nominal</td>\n",
       "      <td>0</td>\n",
       "      <td>NaN</td>\n",
       "      <td>NaN</td>\n",
       "      <td>False</td>\n",
       "      <td>NaN</td>\n",
       "      <td>NaN</td>\n",
       "      <td>number</td>\n",
       "      <td>integer</td>\n",
       "      <td>8</td>\n",
       "    </tr>\n",
       "    <tr>\n",
       "      <th>race</th>\n",
       "      <td>nominal</td>\n",
       "      <td>0</td>\n",
       "      <td>NaN</td>\n",
       "      <td>NaN</td>\n",
       "      <td>False</td>\n",
       "      <td>NaN</td>\n",
       "      <td>NaN</td>\n",
       "      <td>number</td>\n",
       "      <td>integer</td>\n",
       "      <td>8</td>\n",
       "    </tr>\n",
       "    <tr>\n",
       "      <th>sex</th>\n",
       "      <td>nominal</td>\n",
       "      <td>0</td>\n",
       "      <td>NaN</td>\n",
       "      <td>NaN</td>\n",
       "      <td>False</td>\n",
       "      <td>NaN</td>\n",
       "      <td>NaN</td>\n",
       "      <td>number</td>\n",
       "      <td>integer</td>\n",
       "      <td>8</td>\n",
       "    </tr>\n",
       "    <tr>\n",
       "      <th>capital-gain</th>\n",
       "      <td>continuous</td>\n",
       "      <td>0</td>\n",
       "      <td>0.0</td>\n",
       "      <td>164870.0</td>\n",
       "      <td>True</td>\n",
       "      <td>0.0</td>\n",
       "      <td>99999.0</td>\n",
       "      <td>number</td>\n",
       "      <td>numeric</td>\n",
       "      <td>8</td>\n",
       "    </tr>\n",
       "    <tr>\n",
       "      <th>capital-loss</th>\n",
       "      <td>continuous</td>\n",
       "      <td>0</td>\n",
       "      <td>0.0</td>\n",
       "      <td>4656.0</td>\n",
       "      <td>True</td>\n",
       "      <td>0.0</td>\n",
       "      <td>2824.0</td>\n",
       "      <td>number</td>\n",
       "      <td>numeric</td>\n",
       "      <td>8</td>\n",
       "    </tr>\n",
       "    <tr>\n",
       "      <th>hours-per-week</th>\n",
       "      <td>continuous</td>\n",
       "      <td>0</td>\n",
       "      <td>0.0</td>\n",
       "      <td>163.0</td>\n",
       "      <td>True</td>\n",
       "      <td>1.0</td>\n",
       "      <td>99.0</td>\n",
       "      <td>number</td>\n",
       "      <td>numeric</td>\n",
       "      <td>8</td>\n",
       "    </tr>\n",
       "    <tr>\n",
       "      <th>native-country</th>\n",
       "      <td>nominal</td>\n",
       "      <td>0</td>\n",
       "      <td>NaN</td>\n",
       "      <td>NaN</td>\n",
       "      <td>False</td>\n",
       "      <td>NaN</td>\n",
       "      <td>NaN</td>\n",
       "      <td>number</td>\n",
       "      <td>integer</td>\n",
       "      <td>8</td>\n",
       "    </tr>\n",
       "    <tr>\n",
       "      <th>target</th>\n",
       "      <td>nominal</td>\n",
       "      <td>0</td>\n",
       "      <td>NaN</td>\n",
       "      <td>NaN</td>\n",
       "      <td>False</td>\n",
       "      <td>NaN</td>\n",
       "      <td>NaN</td>\n",
       "      <td>number</td>\n",
       "      <td>integer</td>\n",
       "      <td>8</td>\n",
       "    </tr>\n",
       "  </tbody>\n",
       "</table>\n",
       "</div>"
      ],
      "text/plain": [
       "                      type decimal_places bounds                        \\\n",
       "                                             min        max allow_null   \n",
       "age             continuous              0    0.0      137.0       True   \n",
       "workclass          nominal              0    NaN        NaN      False   \n",
       "fnlwgt          continuous              0    0.0  1413556.0       True   \n",
       "education          nominal              0    NaN        NaN      False   \n",
       "education-num   continuous              0    0.0       26.0       True   \n",
       "marital-status     nominal              0    NaN        NaN      False   \n",
       "occupation         nominal              0    NaN        NaN      False   \n",
       "relationship       nominal              0    NaN        NaN      False   \n",
       "race               nominal              0    NaN        NaN      False   \n",
       "sex                nominal              0    NaN        NaN      False   \n",
       "capital-gain    continuous              0    0.0   164870.0       True   \n",
       "capital-loss    continuous              0    0.0     4656.0       True   \n",
       "hours-per-week  continuous              0    0.0      163.0       True   \n",
       "native-country     nominal              0    NaN        NaN      False   \n",
       "target             nominal              0    NaN        NaN      False   \n",
       "\n",
       "                                         data_type original_type       \n",
       "               observed_min observed_max               data_type size  \n",
       "age                    17.0         90.0    number       numeric    8  \n",
       "workclass               NaN          NaN    number       integer    8  \n",
       "fnlwgt              19302.0     864960.0    number       numeric    8  \n",
       "education               NaN          NaN    number       integer    8  \n",
       "education-num           1.0         16.0    number       numeric    8  \n",
       "marital-status          NaN          NaN    number       integer    8  \n",
       "occupation              NaN          NaN    number       integer    8  \n",
       "relationship            NaN          NaN    number       integer    8  \n",
       "race                    NaN          NaN    number       integer    8  \n",
       "sex                     NaN          NaN    number       integer    8  \n",
       "capital-gain            0.0      99999.0    number       numeric    8  \n",
       "capital-loss            0.0       2824.0    number       numeric    8  \n",
       "hours-per-week          1.0         99.0    number       numeric    8  \n",
       "native-country          NaN          NaN    number       integer    8  \n",
       "target                  NaN          NaN    number       integer    8  "
      ]
     },
     "execution_count": 4,
     "metadata": {},
     "output_type": "execute_result"
    }
   ],
   "source": [
    "# Infer features attributes\n",
    "features = infer_feature_attributes(df)\n",
    "features.to_dataframe()"
   ]
  },
  {
   "cell_type": "markdown",
   "id": "e6fdda6e",
   "metadata": {},
   "source": [
    "To prepare to measure model performance, we also define our action features and context features that we want to use in our experiment."
   ]
  },
  {
   "cell_type": "code",
   "execution_count": 5,
   "id": "b5999f86-1baf-4a67-b849-c9a8f73e2451",
   "metadata": {
    "execution": {
     "iopub.execute_input": "2025-10-17T19:38:33.077862Z",
     "iopub.status.busy": "2025-10-17T19:38:33.077644Z",
     "iopub.status.idle": "2025-10-17T19:38:33.080523Z",
     "shell.execute_reply": "2025-10-17T19:38:33.079883Z"
    }
   },
   "outputs": [],
   "source": [
    "# Specify Context and Action Features\n",
    "action_features = ['target']\n",
    "context_features = features.get_names(without=action_features)"
   ]
  },
  {
   "cell_type": "markdown",
   "id": "d4fe66d7",
   "metadata": {},
   "source": [
    "> **Note:** Train Test Split\n",
    "\n",
    "To gauge model performance, train-test splits are often used in traditional machine learning workflows. Howso Engine does not require the use of train-test split for validation. Please see recipe `6-validation.ipynb` for further explanation. Therefore, we will not use train-test splits our recipes unless the test set serves a specific purpose."
   ]
  },
  {
   "cell_type": "markdown",
   "id": "c047722c-3d5e-4c88-ba05-59cfe5f82325",
   "metadata": {},
   "source": [
    "# Step 3: Create Trainee"
   ]
  },
  {
   "cell_type": "markdown",
   "id": "ce2a88f1-6ca1-4c75-a545-760710946e35",
   "metadata": {},
   "source": [
    "To begin the Howso Engine workflow, a Trainee is created to act as a base for all of our ML needs. In all subsequent notebooks, we will refer to Howso Engine's model as the Trainee.\n",
    "\n",
    "### **Definitions:**\n",
    "\n",
    "**`Trainee`:** A collection of Cases that comprise knowledge. It also includes metadata and parameters. In traditional ML this is referred to as a model.\n",
    "\n",
    "**`Case`:** A set of feature values representing an observation. In traditional ML, a Case is sometimes referred to as an \"observation\", \"record\", or \"data point\". In database terms, a Case would be a row of values. For supervised learning a Case is a set of Context values and Action values. For unsupervised learning a Case is just a set of feature values. "
   ]
  },
  {
   "cell_type": "code",
   "execution_count": 6,
   "id": "71444a54-555e-4147-9535-ceff2e42440c",
   "metadata": {
    "execution": {
     "iopub.execute_input": "2025-10-17T19:38:33.082511Z",
     "iopub.status.busy": "2025-10-17T19:38:33.082331Z",
     "iopub.status.idle": "2025-10-17T19:38:33.336535Z",
     "shell.execute_reply": "2025-10-17T19:38:33.335604Z"
    }
   },
   "outputs": [],
   "source": [
    "# Create the Trainee\n",
    "t = Trainee(features=features)"
   ]
  },
  {
   "cell_type": "markdown",
   "id": "7cd0bdc6",
   "metadata": {},
   "source": [
    "# Step 4: Preprocessing and Training\n",
    "\n",
    "One benefit of Howso Engine is that most standard forms of data pre-processing such as one-hot encoding and standardization are **NOT** needed, which is in contrast to many modern ML models. This does not include more sophisticated forms of pre-processing such as feature selection or feature engineering, which may still be useful. Fitting is also done in two steps in Howso Engine.\n",
    "\n",
    "### **Definitions:**\n",
    "\n",
    "**`Train`:** To add a case or set of cases to the Trainee, making the information contained in these cases available for downstream tasks.\n",
    "\n",
    "**`Analyze`:** Tune internal parameters to improve performance and accuracy of predictions and metrics. Analysis may be targeted or targetless.  Targetless analysis provides the best balanced set of parameters if an Action Feature is not specified, along with a performance boost while targeted analysis provides a boost to accuracy towards the specified action features. \n"
   ]
  },
  {
   "cell_type": "code",
   "execution_count": 7,
   "id": "317c900d",
   "metadata": {
    "execution": {
     "iopub.execute_input": "2025-10-17T19:38:33.338783Z",
     "iopub.status.busy": "2025-10-17T19:38:33.338526Z",
     "iopub.status.idle": "2025-10-17T19:38:44.681081Z",
     "shell.execute_reply": "2025-10-17T19:38:44.680228Z"
    }
   },
   "outputs": [],
   "source": [
    "# Train\n",
    "t.train(df)\n",
    "\n",
    "# Analyze the Trainee\n",
    "# (By specifying action_features, this becomes a Targeted analysis)\n",
    "t.analyze(context_features=context_features, action_features=action_features)"
   ]
  },
  {
   "cell_type": "markdown",
   "id": "bceee584",
   "metadata": {},
   "source": [
    "# Step 5: Results\n",
    "\n",
    "Once Howso Engine is trained and analyzed, it provides the user with a variety of ML capabilities. At this stage in the Howso Engine workflow, a typical use case would be to evaluate the accuracy of the Trainee, which is performed by the `react` method. This is equivalent to `predict` in many traditional Machine Learning workflows, although the `react` method is not solely used for supervised predictions as detailed in subsequent recipes. \n",
    "\n",
    "Since we are not using a train-test split, we will use the `react_aggregate` method, which performs a `react` on each of the cases that is trained into the model (or a sample for very large models), then computes the desired metrics. Alternatively, a standard `react` call may be used on untrained data for prediction.\n",
    "\n",
    "The accuracy is calculated internally as shown in the code below and this is the recommended accuracy metric for nominal action features. Further explanations are available in recipe `6-validation`.\n",
    "\n",
    "### **Definitions:**\n",
    "\n",
    "**`React`:** Exposing a Trainee to a new Case's Context Features and an Action Feature for that case is returned. In traditional ML this is often referred to predicting or labeling."
   ]
  },
  {
   "cell_type": "code",
   "execution_count": 8,
   "id": "40df332d",
   "metadata": {
    "execution": {
     "iopub.execute_input": "2025-10-17T19:38:44.683512Z",
     "iopub.status.busy": "2025-10-17T19:38:44.683293Z",
     "iopub.status.idle": "2025-10-17T19:38:47.460975Z",
     "shell.execute_reply": "2025-10-17T19:38:47.460146Z"
    }
   },
   "outputs": [],
   "source": [
    "# Recommended metrics\n",
    "stats2 = t.react_aggregate(\n",
    "    prediction_stats_action_feature=action_features[0],\n",
    "    sample_model_fraction=1.0,\n",
    "    details = {\n",
    "        \"prediction_stats\": True,\n",
    "        \"selected_prediction_stats\": [\"all\"]\n",
    "    }\n",
    ").to_dataframe()\n"
   ]
  },
  {
   "cell_type": "code",
   "execution_count": 9,
   "id": "828e331c",
   "metadata": {
    "execution": {
     "iopub.execute_input": "2025-10-17T19:38:47.463415Z",
     "iopub.status.busy": "2025-10-17T19:38:47.463178Z",
     "iopub.status.idle": "2025-10-17T19:38:50.421679Z",
     "shell.execute_reply": "2025-10-17T19:38:50.420890Z"
    }
   },
   "outputs": [],
   "source": [
    "# Recommended metrics\n",
    "stats = t.react_aggregate(\n",
    "    prediction_stats_action_feature=action_features[0],\n",
    "    sample_model_fraction=1.0,\n",
    "    details = {\n",
    "        \"prediction_stats\": True,\n",
    "        \"selected_prediction_stats\": [\"all\"]\n",
    "    }\n",
    ").to_dict()"
   ]
  },
  {
   "cell_type": "code",
   "execution_count": 10,
   "id": "11b772af",
   "metadata": {
    "execution": {
     "iopub.execute_input": "2025-10-17T19:38:50.424146Z",
     "iopub.status.busy": "2025-10-17T19:38:50.423924Z",
     "iopub.status.idle": "2025-10-17T19:38:50.431042Z",
     "shell.execute_reply": "2025-10-17T19:38:50.430363Z"
    }
   },
   "outputs": [
    {
     "name": "stdout",
     "output_type": "stream",
     "text": [
      "Howso Prediction Results - Confusion Matrix\n"
     ]
    },
    {
     "data": {
      "text/html": [
       "<div>\n",
       "<style scoped>\n",
       "    .dataframe tbody tr th:only-of-type {\n",
       "        vertical-align: middle;\n",
       "    }\n",
       "\n",
       "    .dataframe tbody tr th {\n",
       "        vertical-align: top;\n",
       "    }\n",
       "\n",
       "    .dataframe thead th {\n",
       "        text-align: right;\n",
       "    }\n",
       "</style>\n",
       "<table border=\"1\" class=\"dataframe\">\n",
       "  <thead>\n",
       "    <tr style=\"text-align: right;\">\n",
       "      <th>Actual</th>\n",
       "      <th>0</th>\n",
       "      <th>1</th>\n",
       "    </tr>\n",
       "    <tr>\n",
       "      <th>Predicted</th>\n",
       "      <th></th>\n",
       "      <th></th>\n",
       "    </tr>\n",
       "  </thead>\n",
       "  <tbody>\n",
       "    <tr>\n",
       "      <th>0</th>\n",
       "      <td>296</td>\n",
       "      <td>315</td>\n",
       "    </tr>\n",
       "    <tr>\n",
       "      <th>1</th>\n",
       "      <td>153</td>\n",
       "      <td>1235</td>\n",
       "    </tr>\n",
       "  </tbody>\n",
       "</table>\n",
       "</div>"
      ],
      "text/plain": [
       "Actual       0     1\n",
       "Predicted           \n",
       "0          296   315\n",
       "1          153  1235"
      ]
     },
     "metadata": {},
     "output_type": "display_data"
    }
   ],
   "source": [
    "# The confusion matrix can be retrieved\n",
    "print(\"Howso Prediction Results - Confusion Matrix\")\n",
    "matrix = pd.DataFrame(stats['confusion_matrix']['target'][\"matrix\"])\n",
    "matrix.index.name = \"Predicted\"\n",
    "matrix.columns.name = \"Actual\"\n",
    "display(matrix)"
   ]
  },
  {
   "cell_type": "markdown",
   "id": "784d2f58",
   "metadata": {},
   "source": [
    "### Sparse Confusion Matrices\n",
    "\n",
    "By default, Howso confusion matrices are returned in sparse format. This means that for nominal features, only classes that have counts above a certain threshold are returned individually as columns and rows in the confusion matrices. For all classes who do not meet this threshold, their values are lumped together into a ``leftover`` category, where ``leftover_correct`` and ``leftover_incorrect`` represents the results for these lumped classes. \n",
    "\n",
    "To control the class count threshold for sparsifying the confusion matrix, please use the ``confusion_matrix_min_count`` parameter in``react_aggregate``."
   ]
  },
  {
   "cell_type": "code",
   "execution_count": 11,
   "id": "8226dffb",
   "metadata": {
    "execution": {
     "iopub.execute_input": "2025-10-17T19:38:50.432799Z",
     "iopub.status.busy": "2025-10-17T19:38:50.432547Z",
     "iopub.status.idle": "2025-10-17T19:38:50.435860Z",
     "shell.execute_reply": "2025-10-17T19:38:50.435170Z"
    }
   },
   "outputs": [
    {
     "name": "stdout",
     "output_type": "stream",
     "text": [
      "Leftover correct: 58\n",
      "Leftover incorrect: 409\n"
     ]
    }
   ],
   "source": [
    "print(f\"Leftover correct: {stats['confusion_matrix']['education']['leftover_correct']}\")\n",
    "print(f\"Leftover incorrect: {stats['confusion_matrix']['education']['leftover_incorrect']}\")"
   ]
  },
  {
   "cell_type": "markdown",
   "id": "8bbc1061",
   "metadata": {},
   "source": [
    "We can see that the classes present in the confusion matrix all have counts that are greater than the ``confusion_matrix_min_count`` threshold, which is 10 by default."
   ]
  },
  {
   "cell_type": "code",
   "execution_count": 12,
   "id": "a818e702",
   "metadata": {
    "execution": {
     "iopub.execute_input": "2025-10-17T19:38:50.437734Z",
     "iopub.status.busy": "2025-10-17T19:38:50.437517Z",
     "iopub.status.idle": "2025-10-17T19:38:50.446115Z",
     "shell.execute_reply": "2025-10-17T19:38:50.445420Z"
    }
   },
   "outputs": [
    {
     "data": {
      "text/html": [
       "<div>\n",
       "<style scoped>\n",
       "    .dataframe tbody tr th:only-of-type {\n",
       "        vertical-align: middle;\n",
       "    }\n",
       "\n",
       "    .dataframe tbody tr th {\n",
       "        vertical-align: top;\n",
       "    }\n",
       "\n",
       "    .dataframe thead th {\n",
       "        text-align: right;\n",
       "    }\n",
       "</style>\n",
       "<table border=\"1\" class=\"dataframe\">\n",
       "  <thead>\n",
       "    <tr style=\"text-align: right;\">\n",
       "      <th></th>\n",
       "      <th>15</th>\n",
       "      <th>9</th>\n",
       "      <th>5</th>\n",
       "      <th>11</th>\n",
       "      <th>2</th>\n",
       "    </tr>\n",
       "  </thead>\n",
       "  <tbody>\n",
       "    <tr>\n",
       "      <th>15</th>\n",
       "      <td>188.0</td>\n",
       "      <td>0.0</td>\n",
       "      <td>0.0</td>\n",
       "      <td>61.0</td>\n",
       "      <td>0.0</td>\n",
       "    </tr>\n",
       "    <tr>\n",
       "      <th>11</th>\n",
       "      <td>266.0</td>\n",
       "      <td>0.0</td>\n",
       "      <td>0.0</td>\n",
       "      <td>552.0</td>\n",
       "      <td>33.0</td>\n",
       "    </tr>\n",
       "    <tr>\n",
       "      <th>9</th>\n",
       "      <td>0.0</td>\n",
       "      <td>302.0</td>\n",
       "      <td>0.0</td>\n",
       "      <td>0.0</td>\n",
       "      <td>0.0</td>\n",
       "    </tr>\n",
       "    <tr>\n",
       "      <th>5</th>\n",
       "      <td>0.0</td>\n",
       "      <td>0.0</td>\n",
       "      <td>23.0</td>\n",
       "      <td>0.0</td>\n",
       "      <td>0.0</td>\n",
       "    </tr>\n",
       "  </tbody>\n",
       "</table>\n",
       "</div>"
      ],
      "text/plain": [
       "       15     9     5      11    2 \n",
       "15  188.0    0.0   0.0   61.0   0.0\n",
       "11  266.0    0.0   0.0  552.0  33.0\n",
       "9     0.0  302.0   0.0    0.0   0.0\n",
       "5     0.0    0.0  23.0    0.0   0.0"
      ]
     },
     "execution_count": 12,
     "metadata": {},
     "output_type": "execute_result"
    }
   ],
   "source": [
    "# Sparse Confusion Matrix\n",
    "sparse = pd.DataFrame(stats['confusion_matrix']['education'][\"matrix\"]).fillna(0)\n",
    "sparse"
   ]
  },
  {
   "cell_type": "markdown",
   "id": "78d9072a",
   "metadata": {},
   "source": [
    "Another way to use the `react_aggregate` method is to utilize the `condition` parameter. Specifying a condition allows the user to get prediction stats on the subset of cases that matches the specified condition.\n",
    "\n",
    "For example, we can use the `condition` parameter to find the accuracy, precision, and recall on the subsets of the dataset with each value for Sex."
   ]
  },
  {
   "cell_type": "code",
   "execution_count": 13,
   "id": "9e4f0a57",
   "metadata": {
    "execution": {
     "iopub.execute_input": "2025-10-17T19:38:50.447813Z",
     "iopub.status.busy": "2025-10-17T19:38:50.447614Z",
     "iopub.status.idle": "2025-10-17T19:38:52.843921Z",
     "shell.execute_reply": "2025-10-17T19:38:52.843157Z"
    }
   },
   "outputs": [
    {
     "name": "stdout",
     "output_type": "stream",
     "text": [
      "Howso Prediction Results On Cases with Sex=1 - Accuracy: 0.76, Precision: 0.73, and Recall: 0.72\n"
     ]
    },
    {
     "name": "stdout",
     "output_type": "stream",
     "text": [
      "Howso Prediction Results On Cases with Sex=0 - Accuracy: 0.77, Precision: 0.7, and Recall: 0.59\n"
     ]
    }
   ],
   "source": [
    "# Condition takes a dictionary of feature name to feature value for nominal features\n",
    "sex_1_stats = t.react_aggregate(\n",
    "    prediction_stats_action_feature=action_features[0],\n",
    "    sample_model_fraction=1.0,\n",
    "    details = {\n",
    "        \"prediction_stats\": True,\n",
    "        \"action_condition\": {'sex': 1}\n",
    "    }\n",
    ").to_dataframe()['target'].round(2)\n",
    "print(f'Howso Prediction Results On Cases with Sex=1 - Accuracy: {sex_1_stats[\"accuracy\"]}, Precision: {sex_1_stats[\"recall\"]}, and Recall: {sex_1_stats[\"precision\"]}')\n",
    "\n",
    "sex_0_stats = t.react_aggregate(\n",
    "    prediction_stats_action_feature=action_features[0],\n",
    "    sample_model_fraction=1.0,\n",
    "    details = {\n",
    "        \"prediction_stats\": True,\n",
    "        \"action_condition\": {'sex': 0}\n",
    "    }\n",
    ").to_dataframe()['target'].round(2)\n",
    "print(f'Howso Prediction Results On Cases with Sex=0 - Accuracy: {sex_0_stats[\"accuracy\"]}, Precision: {sex_0_stats[\"recall\"]}, and Recall: {sex_0_stats[\"precision\"]}')"
   ]
  },
  {
   "cell_type": "markdown",
   "id": "c0b5dd57",
   "metadata": {},
   "source": [
    "This type of analysis can help users understand the regions of their data that are less predictable, which may provide insight on how data collection can be improved."
   ]
  },
  {
   "cell_type": "markdown",
   "id": "9deb6e06",
   "metadata": {},
   "source": [
    "# Step 6: Inference\n",
    "\n",
    "Once Howso Engine is trained and analyzed, it provides the user with a variety of ML capabilities. One of the core capabilities in engine is prediction, which Engine infers a action value based on the given context values. This prediction is a standard output when using `react` and the prediction can be found by navigating the output as shown."
   ]
  },
  {
   "cell_type": "code",
   "execution_count": 14,
   "id": "f7a05d09",
   "metadata": {
    "execution": {
     "iopub.execute_input": "2025-10-17T19:38:52.846148Z",
     "iopub.status.busy": "2025-10-17T19:38:52.845920Z",
     "iopub.status.idle": "2025-10-17T19:38:52.855276Z",
     "shell.execute_reply": "2025-10-17T19:38:52.854607Z"
    }
   },
   "outputs": [
    {
     "data": {
      "text/html": [
       "<div>\n",
       "<style scoped>\n",
       "    .dataframe tbody tr th:only-of-type {\n",
       "        vertical-align: middle;\n",
       "    }\n",
       "\n",
       "    .dataframe tbody tr th {\n",
       "        vertical-align: top;\n",
       "    }\n",
       "\n",
       "    .dataframe thead th {\n",
       "        text-align: right;\n",
       "    }\n",
       "</style>\n",
       "<table border=\"1\" class=\"dataframe\">\n",
       "  <thead>\n",
       "    <tr style=\"text-align: right;\">\n",
       "      <th></th>\n",
       "      <th>target</th>\n",
       "    </tr>\n",
       "  </thead>\n",
       "  <tbody>\n",
       "    <tr>\n",
       "      <th>0</th>\n",
       "      <td>1</td>\n",
       "    </tr>\n",
       "  </tbody>\n",
       "</table>\n",
       "</div>"
      ],
      "text/plain": [
       "   target\n",
       "0       1"
      ]
     },
     "execution_count": 14,
     "metadata": {},
     "output_type": "execute_result"
    }
   ],
   "source": [
    "results = t.react(\n",
    "    test_case,\n",
    "    context_features=context_features,\n",
    "    action_features=action_features,\n",
    ")\n",
    "\n",
    "predictions = results['action'][action_features]\n",
    "predictions"
   ]
  },
  {
   "cell_type": "markdown",
   "id": "a381ec96",
   "metadata": {},
   "source": [
    "### Predict Function\n",
    "\n",
    "A `predict` method is also provided as an ease-of-use function that provides the same results as the method shown above using `react` and directly returns the predictions without requiring the user to navigate the output."
   ]
  },
  {
   "cell_type": "code",
   "execution_count": 15,
   "id": "3f623d68",
   "metadata": {
    "execution": {
     "iopub.execute_input": "2025-10-17T19:38:52.857269Z",
     "iopub.status.busy": "2025-10-17T19:38:52.857052Z",
     "iopub.status.idle": "2025-10-17T19:38:52.864587Z",
     "shell.execute_reply": "2025-10-17T19:38:52.863913Z"
    }
   },
   "outputs": [
    {
     "data": {
      "text/html": [
       "<div>\n",
       "<style scoped>\n",
       "    .dataframe tbody tr th:only-of-type {\n",
       "        vertical-align: middle;\n",
       "    }\n",
       "\n",
       "    .dataframe tbody tr th {\n",
       "        vertical-align: top;\n",
       "    }\n",
       "\n",
       "    .dataframe thead th {\n",
       "        text-align: right;\n",
       "    }\n",
       "</style>\n",
       "<table border=\"1\" class=\"dataframe\">\n",
       "  <thead>\n",
       "    <tr style=\"text-align: right;\">\n",
       "      <th></th>\n",
       "      <th>target</th>\n",
       "    </tr>\n",
       "  </thead>\n",
       "  <tbody>\n",
       "    <tr>\n",
       "      <th>0</th>\n",
       "      <td>1</td>\n",
       "    </tr>\n",
       "  </tbody>\n",
       "</table>\n",
       "</div>"
      ],
      "text/plain": [
       "   target\n",
       "0       1"
      ]
     },
     "execution_count": 15,
     "metadata": {},
     "output_type": "execute_result"
    }
   ],
   "source": [
    "predictions = t.predict(\n",
    "    test_case,\n",
    "    context_features=context_features,\n",
    "    action_features=action_features,\n",
    ")\n",
    "\n",
    "predictions"
   ]
  },
  {
   "cell_type": "markdown",
   "id": "1c7c59c7",
   "metadata": {},
   "source": [
    "# Step 7: Saving, Loading, and Deleting from your local disk\n",
    "\n",
    "These methods work for `HowsoDirectClient` and its subclasses.\n",
    "\n",
    "### Saving and Loading\n",
    "\n",
    "When saving to disk, a filepath or filename may provided. The filepath provided may be a relative or absolute path. The filepath can include the desired filename with a `.caml` extension. If no filename is at the end of the filepath, the Trainee ID will be used. If just the filename is provided, then the current working directory will be used as the filepath. \n",
    "\n",
    "> **Note:** It is recommended, however not necessary that the filename match the trainee ID\n",
    "\n",
    "\n",
    "### Deleting\n",
    "\n",
    "When deleting a Trainee, the `delete` method deletes the trainee from the last saved or loaded disk location, as well as memory. If the Trainee has not been saved, `delete` can also be used to just remove a Trainee from memory.\n",
    "\n",
    "When Trainees are saved, a `.caml` file and a `.txt` version file is saved. The `delete` method assumes that the prefix to the version filename is the same as the `.caml` trainee filename."
   ]
  },
  {
   "cell_type": "code",
   "execution_count": 16,
   "id": "9276968a",
   "metadata": {
    "execution": {
     "iopub.execute_input": "2025-10-17T19:38:52.866220Z",
     "iopub.status.busy": "2025-10-17T19:38:52.866044Z",
     "iopub.status.idle": "2025-10-17T19:38:53.109675Z",
     "shell.execute_reply": "2025-10-17T19:38:53.108849Z"
    }
   },
   "outputs": [],
   "source": [
    "from howso.direct import HowsoDirectClient\n",
    "\n",
    "# Clients that extend `HowsoDirectClient` will have local file operations\n",
    "if isinstance(t.client, HowsoDirectClient):\n",
    "    # Example filepath (same as default)\n",
    "    cwd = Path.cwd()\n",
    "    file_path=f\"{cwd}/engine_intro_trainee.caml\"\n",
    "\n",
    "    # Saving\n",
    "    t.save(file_path=file_path)\n",
    "\n",
    "    # Loading\n",
    "    t = load_trainee(file_path=file_path)\n",
    "\n",
    "    # Deleting\n",
    "    t.delete()"
   ]
  },
  {
   "cell_type": "markdown",
   "id": "5023a91b",
   "metadata": {},
   "source": [
    "# Conclusion:\n",
    "\n",
    "Howso Engine provide users with powerful tools to perform a variety of data analysis and prediction tasks. However, making predictions may not suffice if these tools are used for decision-making. As an example with this specific `Adult` dataset, if the user were a bank predicting whether an individual will make over or under $50k in the future for loan decisions, the outcome of prediction efforts might adversely affect the livelihood of that individual as well as the bank if the prediction is inaccurate or biased. Ideally, a predictive tool should provide both accurate results and interpretability so that it can be held accountable for its predictions. Unfortunately, traditional ML techniques often leave a lot to be desired in terms of interpretability. Because of its instance-based ML nature, Howso Engine is inherently interpretable."
   ]
  }
 ],
 "metadata": {
  "kernelspec": {
   "display_name": "engine_rec_312",
   "language": "python",
   "name": "python3"
  },
  "language_info": {
   "codemirror_mode": {
    "name": "ipython",
    "version": 3
   },
   "file_extension": ".py",
   "mimetype": "text/x-python",
   "name": "python",
   "nbconvert_exporter": "python",
   "pygments_lexer": "ipython3",
   "version": "3.10.18"
  }
 },
 "nbformat": 4,
 "nbformat_minor": 5
}
