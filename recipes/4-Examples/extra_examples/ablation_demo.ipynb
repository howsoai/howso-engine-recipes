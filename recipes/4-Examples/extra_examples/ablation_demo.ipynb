{
 "cells": [
  {
   "cell_type": "markdown",
   "metadata": {},
   "source": [
    "# Auto-ablation with Howso Engine\n",
    "\n",
    "> Note: This feature is experimental and is not universally recommended for production deployment.\n",
    "\n",
    "## Overview\n",
    "\n",
    "This notebook provides an overview of using auto-ablation during train to reduce the size of your data _as they are trained_."
   ]
  },
  {
   "cell_type": "code",
   "execution_count": 1,
   "metadata": {
    "execution": {
     "iopub.execute_input": "2024-12-02T19:32:19.330209Z",
     "iopub.status.busy": "2024-12-02T19:32:19.330031Z",
     "iopub.status.idle": "2024-12-02T19:32:19.753990Z",
     "shell.execute_reply": "2024-12-02T19:32:19.753358Z"
    }
   },
   "outputs": [],
   "source": [
    "import pandas as pd\n",
    "from pmlb import fetch_data\n",
    "\n",
    "from howso.engine import Trainee\n",
    "from howso.utilities import infer_feature_attributes"
   ]
  },
  {
   "cell_type": "markdown",
   "metadata": {},
   "source": [
    "## Step 1: Load Data & Feature Mapping\n",
    "\n",
    "Our example dataset for this recipe is the well-known `Adult` dataset. This dataset works well because it has over 48,000 cases. In general, datasets containing over 25,000 rows work well. The default minimum size is 1,000 cases, below which no cases will be ablated.\n",
    "\n",
    "This part of the process is identical to other recipes."
   ]
  },
  {
   "cell_type": "code",
   "execution_count": null,
   "metadata": {
    "execution": {
     "iopub.execute_input": "2024-12-02T19:32:19.756441Z",
     "iopub.status.busy": "2024-12-02T19:32:19.756241Z",
     "iopub.status.idle": "2024-12-02T19:32:19.890393Z",
     "shell.execute_reply": "2024-12-02T19:32:19.889794Z"
    }
   },
   "outputs": [],
   "source": [
    "df = fetch_data(\"adult\", local_cache_dir=\"../../../data\")\n",
    "features = infer_feature_attributes(df)\n",
    "\n",
    "display(df)\n",
    "display(features.to_dataframe())"
   ]
  },
  {
   "cell_type": "markdown",
   "metadata": {},
   "source": [
    "## Step 3: Create Trainee and Set Parameters\n",
    "\n",
    "The process of creating the `Trainee` is the same as the other recipes. However, after the `Trainee` is created, we set auto-analyze and auto-ablation parameters to ensure that the `Trainee` remains informed as it removes cases during train."
   ]
  },
  {
   "cell_type": "code",
   "execution_count": 3,
   "metadata": {
    "execution": {
     "iopub.execute_input": "2024-12-02T19:32:19.897592Z",
     "iopub.status.busy": "2024-12-02T19:32:19.897167Z",
     "iopub.status.idle": "2024-12-02T19:32:20.139768Z",
     "shell.execute_reply": "2024-12-02T19:32:20.139106Z"
    }
   },
   "outputs": [],
   "source": [
    "t = Trainee(features=features)\n",
    "\n",
    "# Set auto-analyze parameters. Note that use_case_weights=True since case-weights are how\n",
    "# information from ablated cases is retained in the Trainee.\n",
    "t.set_auto_analyze_params(auto_analyze_enabled=True, use_case_weights=True)\n",
    "\n",
    "# Set auto-ablation parameters.\n",
    "t.set_auto_ablation_params(\n",
    "    auto_ablation_enabled=True,\n",
    "    influence_weight_entropy_threshold=0.6,\n",
    "    min_num_cases=2_500,\n",
    "    max_num_cases=10_000,\n",
    "    delta_threshold_map={\n",
    "        \"accuracy\": {\"target\": 0.1}\n",
    "    }\n",
    ")"
   ]
  },
  {
   "cell_type": "markdown",
   "metadata": {},
   "source": [
    "This recipe uses the following parameters for auto-ablation:\n",
    "\n",
    "- `auto_ablation_enabled` — When this parameter is `False`, auto-ablation will not be performed.\n",
    "- `influence_weight_entropy_threshold` — This parameter is used to determine which cases will be ablated.\n",
    "  If the entropy of a case's influence weights would be above this percentile of existing cases' influence\n",
    "  weight entropies, then the case is ablated. This is set to $0.6$, the default value.\n",
    "- `min_num_cases` — This parameter sets the minimum number of cases that are allowed to be in the Trainee.\n",
    "- `max_num_cases` — This parameter sets the maximum number of cases that are allowed to be in the Trainee.\n",
    "- `delta_threshold_map` — This parameter defines thresholds that are used to determine when ablation should stop.\n",
    "  In this case, the threshold map instructs auto-ablation to stop if the delta between the current accuracy\n",
    "  of the `\"target\"` feature and its previous accuracy is greater than $0.1$. I.e., ablation will stop if accuracy\n",
    "  for that feature drops from $0.8$ to $0.7$. More formally, ablation will stop if\n",
    "  $\\text{acc}_\\text{old} - \\text{acc}_\\text{new} \\geq 0.1$."
   ]
  },
  {
   "cell_type": "markdown",
   "metadata": {},
   "source": [
    "## Step 4: Training\n",
    "\n",
    "Now that the parameters are set, the `Trainee` can be trained as if this were a normal workflow."
   ]
  },
  {
   "cell_type": "code",
   "execution_count": 4,
   "metadata": {
    "execution": {
     "iopub.execute_input": "2024-12-02T19:32:20.142406Z",
     "iopub.status.busy": "2024-12-02T19:32:20.142211Z",
     "iopub.status.idle": "2024-12-02T19:35:58.359577Z",
     "shell.execute_reply": "2024-12-02T19:35:58.358918Z"
    }
   },
   "outputs": [],
   "source": [
    "t.train(df)"
   ]
  },
  {
   "cell_type": "markdown",
   "metadata": {},
   "source": [
    "Notably, only a subset of the cases have been trained (the rest have been ablated)."
   ]
  },
  {
   "cell_type": "code",
   "execution_count": null,
   "metadata": {
    "execution": {
     "iopub.execute_input": "2024-12-02T19:35:58.362016Z",
     "iopub.status.busy": "2024-12-02T19:35:58.361660Z",
     "iopub.status.idle": "2024-12-02T19:35:58.365461Z",
     "shell.execute_reply": "2024-12-02T19:35:58.364970Z"
    }
   },
   "outputs": [],
   "source": [
    "num_trained_cases = t.get_num_training_cases()\n",
    "num_total_cases = len(df)\n",
    "num_trained_percent = round((num_trained_cases / num_total_cases) * 100, 3)\n",
    "\n",
    "print(f\"Trained {num_trained_cases:,} cases out of {num_total_cases:,} ({num_trained_percent}%).\")"
   ]
  },
  {
   "cell_type": "markdown",
   "metadata": {},
   "source": [
    "## Step 5: Results\n",
    "\n",
    "An ablated `Trainee` can be used in much the same way as other `Trainee`s, as long as `use_case_weights=True`. Here, we will investigate the prediction stats for all features."
   ]
  },
  {
   "cell_type": "code",
   "execution_count": 6,
   "metadata": {
    "execution": {
     "iopub.execute_input": "2024-12-02T19:35:58.367332Z",
     "iopub.status.busy": "2024-12-02T19:35:58.366996Z",
     "iopub.status.idle": "2024-12-02T19:36:01.274707Z",
     "shell.execute_reply": "2024-12-02T19:36:01.274034Z"
    }
   },
   "outputs": [],
   "source": [
    "stats = t.get_prediction_stats(\n",
    "    action_feature=\"target\",\n",
    "    details={\n",
    "        \"prediction_stats\": True,\n",
    "        \"selected_prediction_stats\": [\"all\"],\n",
    "    },\n",
    ")"
   ]
  },
  {
   "cell_type": "code",
   "execution_count": null,
   "metadata": {
    "execution": {
     "iopub.execute_input": "2024-12-02T19:36:01.277207Z",
     "iopub.status.busy": "2024-12-02T19:36:01.276772Z",
     "iopub.status.idle": "2024-12-02T19:36:01.289265Z",
     "shell.execute_reply": "2024-12-02T19:36:01.288699Z"
    }
   },
   "outputs": [],
   "source": [
    "stats.loc[stats.index != \"confusion_matrix\", :]"
   ]
  },
  {
   "cell_type": "code",
   "execution_count": null,
   "metadata": {
    "execution": {
     "iopub.execute_input": "2024-12-02T19:36:01.291195Z",
     "iopub.status.busy": "2024-12-02T19:36:01.290841Z",
     "iopub.status.idle": "2024-12-02T19:36:01.297514Z",
     "shell.execute_reply": "2024-12-02T19:36:01.297011Z"
    }
   },
   "outputs": [],
   "source": [
    "# The confusion matrix can be retrieved\n",
    "print(\"Howso Prediction Results - Confusion Matrix for 'target'\")\n",
    "matrix = pd.DataFrame(stats[\"target\"][\"confusion_matrix\"][\"matrix\"])\n",
    "matrix.index.name = \"Predicted\"\n",
    "matrix.columns.name = \"Actual\"\n",
    "display(matrix)"
   ]
  },
  {
   "cell_type": "markdown",
   "metadata": {},
   "source": [
    "## Conclusion\n",
    "\n",
    "Howso Engine with auto-ablation can compress data to a fraction of its original size while ensuring accuracy (and other measures) remain in an acceptable range without compromising the other capabilities of the `Trainee`."
   ]
  }
 ],
 "metadata": {
  "kernelspec": {
   "display_name": "engine-recipes-3.9",
   "language": "python",
   "name": "python3"
  },
  "language_info": {
   "codemirror_mode": {
    "name": "ipython",
    "version": 3
   },
   "file_extension": ".py",
   "mimetype": "text/x-python",
   "name": "python",
   "nbconvert_exporter": "python",
   "pygments_lexer": "ipython3",
   "version": "3.9.21"
  }
 },
 "nbformat": 4,
 "nbformat_minor": 4
}
