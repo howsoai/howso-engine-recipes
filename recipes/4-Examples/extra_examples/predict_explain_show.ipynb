{
 "cells": [
  {
   "attachments": {},
   "cell_type": "markdown",
   "id": "71cfb4a3-5673-47a8-afa2-b20607105c38",
   "metadata": {
    "tags": []
   },
   "source": [
    "# Explaining Model Decisions and Performance\n",
    "\n",
    "## Overview\n",
    "\n",
    "At a very high level, Howso Engine is about: \n",
    "\n",
    "- Making an accurate prediction (even with limited or sparse data!) \n",
    "\n",
    "- Explaining the prediction process \n",
    "\n",
    "- Showing key properties of the data \n",
    "\n",
    "In this notebook, we will be using the adult data set as an example to demonstrate some of Howso Engine’s capabilities, including cases and features which contribute to predictions, anomalies analysis, and potential improvements to the data to gain more insight into the data.  \n"
   ]
  },
  {
   "cell_type": "code",
   "execution_count": 1,
   "id": "5069bb7d-671f-4d5d-a15c-99d9cd48c779",
   "metadata": {
    "execution": {
     "iopub.execute_input": "2025-09-02T19:43:09.406469Z",
     "iopub.status.busy": "2025-09-02T19:43:09.406297Z",
     "iopub.status.idle": "2025-09-02T19:43:14.342726Z",
     "shell.execute_reply": "2025-09-02T19:43:14.342074Z"
    }
   },
   "outputs": [],
   "source": [
    "import pandas as pd\n",
    "from pmlb import fetch_data\n",
    "\n",
    "from howso import engine\n",
    "from howso.utilities import infer_feature_attributes\n",
    "from howso.visuals import (\n",
    "    plot_anomalies,\n",
    "    plot_dataset,\n",
    "    plot_feature_importances,\n",
    ")"
   ]
  },
  {
   "cell_type": "markdown",
   "id": "9750f80b",
   "metadata": {},
   "source": [
    "# Section 1: Train and Configure the Trainee\n",
    "\n",
    "## Step 1: Load Data\n",
    "\n",
    "We are using the Adult dataset in this recipe."
   ]
  },
  {
   "cell_type": "code",
   "execution_count": 2,
   "id": "bbe69958-0668-4b82-ae95-dad4dcaaa9e9",
   "metadata": {
    "execution": {
     "iopub.execute_input": "2025-09-02T19:43:14.345469Z",
     "iopub.status.busy": "2025-09-02T19:43:14.345119Z",
     "iopub.status.idle": "2025-09-02T19:43:14.410832Z",
     "shell.execute_reply": "2025-09-02T19:43:14.410206Z"
    }
   },
   "outputs": [
    {
     "data": {
      "text/html": [
       "<div>\n",
       "<style scoped>\n",
       "    .dataframe tbody tr th:only-of-type {\n",
       "        vertical-align: middle;\n",
       "    }\n",
       "\n",
       "    .dataframe tbody tr th {\n",
       "        vertical-align: top;\n",
       "    }\n",
       "\n",
       "    .dataframe thead th {\n",
       "        text-align: right;\n",
       "    }\n",
       "</style>\n",
       "<table border=\"1\" class=\"dataframe\">\n",
       "  <thead>\n",
       "    <tr style=\"text-align: right;\">\n",
       "      <th></th>\n",
       "      <th>age</th>\n",
       "      <th>workclass</th>\n",
       "      <th>fnlwgt</th>\n",
       "      <th>education</th>\n",
       "      <th>education-num</th>\n",
       "      <th>marital-status</th>\n",
       "      <th>occupation</th>\n",
       "      <th>relationship</th>\n",
       "      <th>race</th>\n",
       "      <th>sex</th>\n",
       "      <th>capital-gain</th>\n",
       "      <th>capital-loss</th>\n",
       "      <th>hours-per-week</th>\n",
       "      <th>native-country</th>\n",
       "      <th>target</th>\n",
       "    </tr>\n",
       "  </thead>\n",
       "  <tbody>\n",
       "    <tr>\n",
       "      <th>0</th>\n",
       "      <td>36.0</td>\n",
       "      <td>4</td>\n",
       "      <td>113397.0</td>\n",
       "      <td>11</td>\n",
       "      <td>9.0</td>\n",
       "      <td>2</td>\n",
       "      <td>6</td>\n",
       "      <td>0</td>\n",
       "      <td>4</td>\n",
       "      <td>1</td>\n",
       "      <td>0.0</td>\n",
       "      <td>0.0</td>\n",
       "      <td>40.0</td>\n",
       "      <td>39</td>\n",
       "      <td>1</td>\n",
       "    </tr>\n",
       "    <tr>\n",
       "      <th>1</th>\n",
       "      <td>35.0</td>\n",
       "      <td>7</td>\n",
       "      <td>225385.0</td>\n",
       "      <td>11</td>\n",
       "      <td>9.0</td>\n",
       "      <td>0</td>\n",
       "      <td>10</td>\n",
       "      <td>4</td>\n",
       "      <td>4</td>\n",
       "      <td>0</td>\n",
       "      <td>0.0</td>\n",
       "      <td>0.0</td>\n",
       "      <td>40.0</td>\n",
       "      <td>39</td>\n",
       "      <td>1</td>\n",
       "    </tr>\n",
       "    <tr>\n",
       "      <th>2</th>\n",
       "      <td>59.0</td>\n",
       "      <td>2</td>\n",
       "      <td>120617.0</td>\n",
       "      <td>11</td>\n",
       "      <td>9.0</td>\n",
       "      <td>5</td>\n",
       "      <td>11</td>\n",
       "      <td>4</td>\n",
       "      <td>2</td>\n",
       "      <td>0</td>\n",
       "      <td>0.0</td>\n",
       "      <td>0.0</td>\n",
       "      <td>40.0</td>\n",
       "      <td>39</td>\n",
       "      <td>1</td>\n",
       "    </tr>\n",
       "    <tr>\n",
       "      <th>3</th>\n",
       "      <td>33.0</td>\n",
       "      <td>4</td>\n",
       "      <td>101352.0</td>\n",
       "      <td>14</td>\n",
       "      <td>15.0</td>\n",
       "      <td>4</td>\n",
       "      <td>10</td>\n",
       "      <td>1</td>\n",
       "      <td>4</td>\n",
       "      <td>0</td>\n",
       "      <td>0.0</td>\n",
       "      <td>0.0</td>\n",
       "      <td>50.0</td>\n",
       "      <td>39</td>\n",
       "      <td>0</td>\n",
       "    </tr>\n",
       "    <tr>\n",
       "      <th>4</th>\n",
       "      <td>61.0</td>\n",
       "      <td>4</td>\n",
       "      <td>92691.0</td>\n",
       "      <td>11</td>\n",
       "      <td>9.0</td>\n",
       "      <td>2</td>\n",
       "      <td>1</td>\n",
       "      <td>0</td>\n",
       "      <td>4</td>\n",
       "      <td>1</td>\n",
       "      <td>0.0</td>\n",
       "      <td>0.0</td>\n",
       "      <td>3.0</td>\n",
       "      <td>39</td>\n",
       "      <td>1</td>\n",
       "    </tr>\n",
       "    <tr>\n",
       "      <th>...</th>\n",
       "      <td>...</td>\n",
       "      <td>...</td>\n",
       "      <td>...</td>\n",
       "      <td>...</td>\n",
       "      <td>...</td>\n",
       "      <td>...</td>\n",
       "      <td>...</td>\n",
       "      <td>...</td>\n",
       "      <td>...</td>\n",
       "      <td>...</td>\n",
       "      <td>...</td>\n",
       "      <td>...</td>\n",
       "      <td>...</td>\n",
       "      <td>...</td>\n",
       "      <td>...</td>\n",
       "    </tr>\n",
       "    <tr>\n",
       "      <th>995</th>\n",
       "      <td>58.0</td>\n",
       "      <td>4</td>\n",
       "      <td>35520.0</td>\n",
       "      <td>15</td>\n",
       "      <td>10.0</td>\n",
       "      <td>2</td>\n",
       "      <td>6</td>\n",
       "      <td>0</td>\n",
       "      <td>4</td>\n",
       "      <td>1</td>\n",
       "      <td>7688.0</td>\n",
       "      <td>0.0</td>\n",
       "      <td>40.0</td>\n",
       "      <td>39</td>\n",
       "      <td>0</td>\n",
       "    </tr>\n",
       "    <tr>\n",
       "      <th>996</th>\n",
       "      <td>60.0</td>\n",
       "      <td>0</td>\n",
       "      <td>134152.0</td>\n",
       "      <td>6</td>\n",
       "      <td>5.0</td>\n",
       "      <td>0</td>\n",
       "      <td>0</td>\n",
       "      <td>1</td>\n",
       "      <td>2</td>\n",
       "      <td>1</td>\n",
       "      <td>0.0</td>\n",
       "      <td>0.0</td>\n",
       "      <td>35.0</td>\n",
       "      <td>39</td>\n",
       "      <td>1</td>\n",
       "    </tr>\n",
       "    <tr>\n",
       "      <th>997</th>\n",
       "      <td>33.0</td>\n",
       "      <td>4</td>\n",
       "      <td>44559.0</td>\n",
       "      <td>11</td>\n",
       "      <td>9.0</td>\n",
       "      <td>2</td>\n",
       "      <td>10</td>\n",
       "      <td>0</td>\n",
       "      <td>4</td>\n",
       "      <td>1</td>\n",
       "      <td>0.0</td>\n",
       "      <td>0.0</td>\n",
       "      <td>35.0</td>\n",
       "      <td>39</td>\n",
       "      <td>1</td>\n",
       "    </tr>\n",
       "    <tr>\n",
       "      <th>998</th>\n",
       "      <td>25.0</td>\n",
       "      <td>4</td>\n",
       "      <td>199947.0</td>\n",
       "      <td>11</td>\n",
       "      <td>9.0</td>\n",
       "      <td>2</td>\n",
       "      <td>1</td>\n",
       "      <td>5</td>\n",
       "      <td>4</td>\n",
       "      <td>0</td>\n",
       "      <td>0.0</td>\n",
       "      <td>0.0</td>\n",
       "      <td>40.0</td>\n",
       "      <td>39</td>\n",
       "      <td>1</td>\n",
       "    </tr>\n",
       "    <tr>\n",
       "      <th>999</th>\n",
       "      <td>24.0</td>\n",
       "      <td>4</td>\n",
       "      <td>19410.0</td>\n",
       "      <td>11</td>\n",
       "      <td>9.0</td>\n",
       "      <td>0</td>\n",
       "      <td>12</td>\n",
       "      <td>4</td>\n",
       "      <td>0</td>\n",
       "      <td>0</td>\n",
       "      <td>0.0</td>\n",
       "      <td>0.0</td>\n",
       "      <td>48.0</td>\n",
       "      <td>39</td>\n",
       "      <td>1</td>\n",
       "    </tr>\n",
       "  </tbody>\n",
       "</table>\n",
       "<p>1000 rows × 15 columns</p>\n",
       "</div>"
      ],
      "text/plain": [
       "      age  workclass    fnlwgt  education  education-num  marital-status  \\\n",
       "0    36.0          4  113397.0         11            9.0               2   \n",
       "1    35.0          7  225385.0         11            9.0               0   \n",
       "2    59.0          2  120617.0         11            9.0               5   \n",
       "3    33.0          4  101352.0         14           15.0               4   \n",
       "4    61.0          4   92691.0         11            9.0               2   \n",
       "..    ...        ...       ...        ...            ...             ...   \n",
       "995  58.0          4   35520.0         15           10.0               2   \n",
       "996  60.0          0  134152.0          6            5.0               0   \n",
       "997  33.0          4   44559.0         11            9.0               2   \n",
       "998  25.0          4  199947.0         11            9.0               2   \n",
       "999  24.0          4   19410.0         11            9.0               0   \n",
       "\n",
       "     occupation  relationship  race  sex  capital-gain  capital-loss  \\\n",
       "0             6             0     4    1           0.0           0.0   \n",
       "1            10             4     4    0           0.0           0.0   \n",
       "2            11             4     2    0           0.0           0.0   \n",
       "3            10             1     4    0           0.0           0.0   \n",
       "4             1             0     4    1           0.0           0.0   \n",
       "..          ...           ...   ...  ...           ...           ...   \n",
       "995           6             0     4    1        7688.0           0.0   \n",
       "996           0             1     2    1           0.0           0.0   \n",
       "997          10             0     4    1           0.0           0.0   \n",
       "998           1             5     4    0           0.0           0.0   \n",
       "999          12             4     0    0           0.0           0.0   \n",
       "\n",
       "     hours-per-week  native-country  target  \n",
       "0              40.0              39       1  \n",
       "1              40.0              39       1  \n",
       "2              40.0              39       1  \n",
       "3              50.0              39       0  \n",
       "4               3.0              39       1  \n",
       "..              ...             ...     ...  \n",
       "995            40.0              39       0  \n",
       "996            35.0              39       1  \n",
       "997            35.0              39       1  \n",
       "998            40.0              39       1  \n",
       "999            48.0              39       1  \n",
       "\n",
       "[1000 rows x 15 columns]"
      ]
     },
     "execution_count": 2,
     "metadata": {},
     "output_type": "execute_result"
    }
   ],
   "source": [
    "# Load adult data\n",
    "df = fetch_data('adult', local_cache_dir=\"../../../data/adult\")\n",
    "\n",
    "# Specify column names\n",
    "df.columns = ['age', 'workclass', 'fnlwgt', 'education',\n",
    "              'education-num', 'marital-status', 'occupation',\n",
    "              'relationship', 'race', 'sex', 'capital-gain',\n",
    "              'capital-loss', 'hours-per-week', 'native-country', 'target']\n",
    "\n",
    "# Sample the data for demo purpose\n",
    "df = df.sample(1_000).reset_index(drop=True)\n",
    "\n",
    "df"
   ]
  },
  {
   "cell_type": "markdown",
   "id": "b4c9f93f",
   "metadata": {},
   "source": [
    "## Step 2: Define the Feature Attributes\n",
    "\n",
    "For all Howso Engine usage, we must define feature attributes. We will also define our action and context features."
   ]
  },
  {
   "cell_type": "code",
   "execution_count": 3,
   "id": "6f16acd5-4006-4488-a71a-1be4692d6479",
   "metadata": {
    "execution": {
     "iopub.execute_input": "2025-09-02T19:43:14.412862Z",
     "iopub.status.busy": "2025-09-02T19:43:14.412673Z",
     "iopub.status.idle": "2025-09-02T19:43:14.440660Z",
     "shell.execute_reply": "2025-09-02T19:43:14.440065Z"
    }
   },
   "outputs": [],
   "source": [
    "types = {\n",
    "    \"education\": \"nominal\"\n",
    "}\n",
    "\n",
    "# Infer features attributes\n",
    "features = infer_feature_attributes(df, types=types)\n",
    "\n",
    "# Specify the context and action feature\n",
    "action_features = ['target']\n",
    "context_features = features.get_names(without=['target'])"
   ]
  },
  {
   "cell_type": "markdown",
   "id": "246c058d",
   "metadata": {},
   "source": [
    "## Step 3: Create the Trainee, Train, and Analyze"
   ]
  },
  {
   "cell_type": "code",
   "execution_count": 4,
   "id": "07eacaca-ce18-4850-9648-bbf7453d593e",
   "metadata": {
    "execution": {
     "iopub.execute_input": "2025-09-02T19:43:14.442773Z",
     "iopub.status.busy": "2025-09-02T19:43:14.442587Z",
     "iopub.status.idle": "2025-09-02T19:43:30.921514Z",
     "shell.execute_reply": "2025-09-02T19:43:30.920765Z"
    }
   },
   "outputs": [],
   "source": [
    "# Create the trainee with custom name\n",
    "t = engine.Trainee(name='Engine - Predictions and Explanations Recipe', features=features, overwrite_existing=True)\n",
    "\n",
    "# Train\n",
    "t.train(df)\n",
    "\n",
    "# Analyze the model\n",
    "t.analyze(action_features=action_features, context_features=features.get_names(without=action_features))\n"
   ]
  },
  {
   "cell_type": "markdown",
   "id": "4c5a5cbb",
   "metadata": {},
   "source": [
    "## Step 4: Evaluate Trainee Accuracy"
   ]
  },
  {
   "cell_type": "code",
   "execution_count": 5,
   "id": "03c4f734-d0a4-45ed-a85e-e756ee105c8c",
   "metadata": {
    "execution": {
     "iopub.execute_input": "2025-09-02T19:43:30.923898Z",
     "iopub.status.busy": "2025-09-02T19:43:30.923679Z",
     "iopub.status.idle": "2025-09-02T19:43:32.261082Z",
     "shell.execute_reply": "2025-09-02T19:43:32.260432Z"
    }
   },
   "outputs": [
    {
     "name": "stdout",
     "output_type": "stream",
     "text": [
      "Test set prediction accuracy: 0.815\n"
     ]
    }
   ],
   "source": [
    "accuracy = t.react_aggregate(\n",
    "    prediction_stats_action_feature=action_features[0],\n",
    "    details = {\n",
    "        \"prediction_stats\": True,\n",
    "        \"selected_prediction_stats\": [\"accuracy\"]\n",
    "        }\n",
    ").to_dataframe()['target'].iloc[0]\n",
    "\n",
    "print(\"Test set prediction accuracy: {acc}\".format(acc=accuracy))"
   ]
  },
  {
   "attachments": {},
   "cell_type": "markdown",
   "id": "05ea5c3e-ad35-421b-8f1f-de5553b11f41",
   "metadata": {},
   "source": [
    "# Section 2: Explain Predictions\n",
    "\n",
    "How were the predictions made? \n",
    "\n",
    "Howso Engine provides detailed explanation for complete model transparency. Let's examine a subset of the explanations.\n"
   ]
  },
  {
   "attachments": {},
   "cell_type": "markdown",
   "id": "a08e870a-c1d2-4220-b683-cbfc048033c5",
   "metadata": {},
   "source": [
    "## Step 1: Inspect Feature Importance (Global)\n",
    "\n",
    "Feature importance information provides insight into the features which are primary drivers for each prediction. This is important to understand in the context of AI bias and discrimination (ex. Sensitive attribute being the primary contribution to a prediction). \n",
    "\n",
    "This information is available at the global level (overall model), but can also be computed at the local level (regional model for each case)."
   ]
  },
  {
   "cell_type": "code",
   "execution_count": 6,
   "id": "2516f905-3304-4c15-9f9b-0f340307ce61",
   "metadata": {
    "execution": {
     "iopub.execute_input": "2025-09-02T19:43:32.263073Z",
     "iopub.status.busy": "2025-09-02T19:43:32.262866Z",
     "iopub.status.idle": "2025-09-02T19:43:42.292749Z",
     "shell.execute_reply": "2025-09-02T19:43:42.292171Z"
    }
   },
   "outputs": [
    {
     "data": {
      "application/vnd.plotly.v1+json": {
       "config": {
        "plotlyServerURL": "https://plot.ly"
       },
       "data": [
        {
         "type": "bar",
         "x": [
          "capital-gain",
          "hours-per-week",
          "education-num",
          "workclass",
          "age",
          "native-country",
          "race",
          "target",
          "capital-loss",
          "education",
          "occupation",
          "marital-status",
          "sex",
          "fnlwgt",
          "relationship"
         ],
         "y": {
          "bdata": "cG1gAId/pD8gcsv9N7WNP2Cp/UQBY4E/AJe4CqKRfT9ANxGC7Nh3PwCDbwk0EGU/ADnX+njsWz8AAAAAAAAAAADs8/mdIkC/AMRSLHdaRb+AdMWL62Vov+DiKvzAiIG/YLI6gdx1g78Aqovw4XWDv0AJ1IO+vYu/",
          "dtype": "f8"
         }
        }
       ],
       "layout": {
        "template": {
         "data": {
          "bar": [
           {
            "error_x": {
             "color": "#2a3f5f"
            },
            "error_y": {
             "color": "#2a3f5f"
            },
            "marker": {
             "line": {
              "color": "#E5ECF6",
              "width": 0.5
             },
             "pattern": {
              "fillmode": "overlay",
              "size": 10,
              "solidity": 0.2
             }
            },
            "type": "bar"
           }
          ],
          "barpolar": [
           {
            "marker": {
             "line": {
              "color": "#E5ECF6",
              "width": 0.5
             },
             "pattern": {
              "fillmode": "overlay",
              "size": 10,
              "solidity": 0.2
             }
            },
            "type": "barpolar"
           }
          ],
          "carpet": [
           {
            "aaxis": {
             "endlinecolor": "#2a3f5f",
             "gridcolor": "white",
             "linecolor": "white",
             "minorgridcolor": "white",
             "startlinecolor": "#2a3f5f"
            },
            "baxis": {
             "endlinecolor": "#2a3f5f",
             "gridcolor": "white",
             "linecolor": "white",
             "minorgridcolor": "white",
             "startlinecolor": "#2a3f5f"
            },
            "type": "carpet"
           }
          ],
          "choropleth": [
           {
            "colorbar": {
             "outlinewidth": 0,
             "ticks": ""
            },
            "type": "choropleth"
           }
          ],
          "contour": [
           {
            "colorbar": {
             "outlinewidth": 0,
             "ticks": ""
            },
            "colorscale": [
             [
              0,
              "#0d0887"
             ],
             [
              0.1111111111111111,
              "#46039f"
             ],
             [
              0.2222222222222222,
              "#7201a8"
             ],
             [
              0.3333333333333333,
              "#9c179e"
             ],
             [
              0.4444444444444444,
              "#bd3786"
             ],
             [
              0.5555555555555556,
              "#d8576b"
             ],
             [
              0.6666666666666666,
              "#ed7953"
             ],
             [
              0.7777777777777778,
              "#fb9f3a"
             ],
             [
              0.8888888888888888,
              "#fdca26"
             ],
             [
              1,
              "#f0f921"
             ]
            ],
            "type": "contour"
           }
          ],
          "contourcarpet": [
           {
            "colorbar": {
             "outlinewidth": 0,
             "ticks": ""
            },
            "type": "contourcarpet"
           }
          ],
          "heatmap": [
           {
            "colorbar": {
             "outlinewidth": 0,
             "ticks": ""
            },
            "colorscale": [
             [
              0,
              "#0d0887"
             ],
             [
              0.1111111111111111,
              "#46039f"
             ],
             [
              0.2222222222222222,
              "#7201a8"
             ],
             [
              0.3333333333333333,
              "#9c179e"
             ],
             [
              0.4444444444444444,
              "#bd3786"
             ],
             [
              0.5555555555555556,
              "#d8576b"
             ],
             [
              0.6666666666666666,
              "#ed7953"
             ],
             [
              0.7777777777777778,
              "#fb9f3a"
             ],
             [
              0.8888888888888888,
              "#fdca26"
             ],
             [
              1,
              "#f0f921"
             ]
            ],
            "type": "heatmap"
           }
          ],
          "histogram": [
           {
            "marker": {
             "pattern": {
              "fillmode": "overlay",
              "size": 10,
              "solidity": 0.2
             }
            },
            "type": "histogram"
           }
          ],
          "histogram2d": [
           {
            "colorbar": {
             "outlinewidth": 0,
             "ticks": ""
            },
            "colorscale": [
             [
              0,
              "#0d0887"
             ],
             [
              0.1111111111111111,
              "#46039f"
             ],
             [
              0.2222222222222222,
              "#7201a8"
             ],
             [
              0.3333333333333333,
              "#9c179e"
             ],
             [
              0.4444444444444444,
              "#bd3786"
             ],
             [
              0.5555555555555556,
              "#d8576b"
             ],
             [
              0.6666666666666666,
              "#ed7953"
             ],
             [
              0.7777777777777778,
              "#fb9f3a"
             ],
             [
              0.8888888888888888,
              "#fdca26"
             ],
             [
              1,
              "#f0f921"
             ]
            ],
            "type": "histogram2d"
           }
          ],
          "histogram2dcontour": [
           {
            "colorbar": {
             "outlinewidth": 0,
             "ticks": ""
            },
            "colorscale": [
             [
              0,
              "#0d0887"
             ],
             [
              0.1111111111111111,
              "#46039f"
             ],
             [
              0.2222222222222222,
              "#7201a8"
             ],
             [
              0.3333333333333333,
              "#9c179e"
             ],
             [
              0.4444444444444444,
              "#bd3786"
             ],
             [
              0.5555555555555556,
              "#d8576b"
             ],
             [
              0.6666666666666666,
              "#ed7953"
             ],
             [
              0.7777777777777778,
              "#fb9f3a"
             ],
             [
              0.8888888888888888,
              "#fdca26"
             ],
             [
              1,
              "#f0f921"
             ]
            ],
            "type": "histogram2dcontour"
           }
          ],
          "mesh3d": [
           {
            "colorbar": {
             "outlinewidth": 0,
             "ticks": ""
            },
            "type": "mesh3d"
           }
          ],
          "parcoords": [
           {
            "line": {
             "colorbar": {
              "outlinewidth": 0,
              "ticks": ""
             }
            },
            "type": "parcoords"
           }
          ],
          "pie": [
           {
            "automargin": true,
            "type": "pie"
           }
          ],
          "scatter": [
           {
            "fillpattern": {
             "fillmode": "overlay",
             "size": 10,
             "solidity": 0.2
            },
            "type": "scatter"
           }
          ],
          "scatter3d": [
           {
            "line": {
             "colorbar": {
              "outlinewidth": 0,
              "ticks": ""
             }
            },
            "marker": {
             "colorbar": {
              "outlinewidth": 0,
              "ticks": ""
             }
            },
            "type": "scatter3d"
           }
          ],
          "scattercarpet": [
           {
            "marker": {
             "colorbar": {
              "outlinewidth": 0,
              "ticks": ""
             }
            },
            "type": "scattercarpet"
           }
          ],
          "scattergeo": [
           {
            "marker": {
             "colorbar": {
              "outlinewidth": 0,
              "ticks": ""
             }
            },
            "type": "scattergeo"
           }
          ],
          "scattergl": [
           {
            "marker": {
             "colorbar": {
              "outlinewidth": 0,
              "ticks": ""
             }
            },
            "type": "scattergl"
           }
          ],
          "scattermap": [
           {
            "marker": {
             "colorbar": {
              "outlinewidth": 0,
              "ticks": ""
             }
            },
            "type": "scattermap"
           }
          ],
          "scattermapbox": [
           {
            "marker": {
             "colorbar": {
              "outlinewidth": 0,
              "ticks": ""
             }
            },
            "type": "scattermapbox"
           }
          ],
          "scatterpolar": [
           {
            "marker": {
             "colorbar": {
              "outlinewidth": 0,
              "ticks": ""
             }
            },
            "type": "scatterpolar"
           }
          ],
          "scatterpolargl": [
           {
            "marker": {
             "colorbar": {
              "outlinewidth": 0,
              "ticks": ""
             }
            },
            "type": "scatterpolargl"
           }
          ],
          "scatterternary": [
           {
            "marker": {
             "colorbar": {
              "outlinewidth": 0,
              "ticks": ""
             }
            },
            "type": "scatterternary"
           }
          ],
          "surface": [
           {
            "colorbar": {
             "outlinewidth": 0,
             "ticks": ""
            },
            "colorscale": [
             [
              0,
              "#0d0887"
             ],
             [
              0.1111111111111111,
              "#46039f"
             ],
             [
              0.2222222222222222,
              "#7201a8"
             ],
             [
              0.3333333333333333,
              "#9c179e"
             ],
             [
              0.4444444444444444,
              "#bd3786"
             ],
             [
              0.5555555555555556,
              "#d8576b"
             ],
             [
              0.6666666666666666,
              "#ed7953"
             ],
             [
              0.7777777777777778,
              "#fb9f3a"
             ],
             [
              0.8888888888888888,
              "#fdca26"
             ],
             [
              1,
              "#f0f921"
             ]
            ],
            "type": "surface"
           }
          ],
          "table": [
           {
            "cells": {
             "fill": {
              "color": "#EBF0F8"
             },
             "line": {
              "color": "white"
             }
            },
            "header": {
             "fill": {
              "color": "#C8D4E3"
             },
             "line": {
              "color": "white"
             }
            },
            "type": "table"
           }
          ]
         },
         "layout": {
          "annotationdefaults": {
           "arrowcolor": "#2a3f5f",
           "arrowhead": 0,
           "arrowwidth": 1
          },
          "autotypenumbers": "strict",
          "coloraxis": {
           "colorbar": {
            "outlinewidth": 0,
            "ticks": ""
           }
          },
          "colorscale": {
           "diverging": [
            [
             0,
             "#8e0152"
            ],
            [
             0.1,
             "#c51b7d"
            ],
            [
             0.2,
             "#de77ae"
            ],
            [
             0.3,
             "#f1b6da"
            ],
            [
             0.4,
             "#fde0ef"
            ],
            [
             0.5,
             "#f7f7f7"
            ],
            [
             0.6,
             "#e6f5d0"
            ],
            [
             0.7,
             "#b8e186"
            ],
            [
             0.8,
             "#7fbc41"
            ],
            [
             0.9,
             "#4d9221"
            ],
            [
             1,
             "#276419"
            ]
           ],
           "sequential": [
            [
             0,
             "#0d0887"
            ],
            [
             0.1111111111111111,
             "#46039f"
            ],
            [
             0.2222222222222222,
             "#7201a8"
            ],
            [
             0.3333333333333333,
             "#9c179e"
            ],
            [
             0.4444444444444444,
             "#bd3786"
            ],
            [
             0.5555555555555556,
             "#d8576b"
            ],
            [
             0.6666666666666666,
             "#ed7953"
            ],
            [
             0.7777777777777778,
             "#fb9f3a"
            ],
            [
             0.8888888888888888,
             "#fdca26"
            ],
            [
             1,
             "#f0f921"
            ]
           ],
           "sequentialminus": [
            [
             0,
             "#0d0887"
            ],
            [
             0.1111111111111111,
             "#46039f"
            ],
            [
             0.2222222222222222,
             "#7201a8"
            ],
            [
             0.3333333333333333,
             "#9c179e"
            ],
            [
             0.4444444444444444,
             "#bd3786"
            ],
            [
             0.5555555555555556,
             "#d8576b"
            ],
            [
             0.6666666666666666,
             "#ed7953"
            ],
            [
             0.7777777777777778,
             "#fb9f3a"
            ],
            [
             0.8888888888888888,
             "#fdca26"
            ],
            [
             1,
             "#f0f921"
            ]
           ]
          },
          "colorway": [
           "#636efa",
           "#EF553B",
           "#00cc96",
           "#ab63fa",
           "#FFA15A",
           "#19d3f3",
           "#FF6692",
           "#B6E880",
           "#FF97FF",
           "#FECB52"
          ],
          "font": {
           "color": "#2a3f5f"
          },
          "geo": {
           "bgcolor": "white",
           "lakecolor": "white",
           "landcolor": "#E5ECF6",
           "showlakes": true,
           "showland": true,
           "subunitcolor": "white"
          },
          "hoverlabel": {
           "align": "left"
          },
          "hovermode": "closest",
          "mapbox": {
           "style": "light"
          },
          "paper_bgcolor": "white",
          "plot_bgcolor": "#E5ECF6",
          "polar": {
           "angularaxis": {
            "gridcolor": "white",
            "linecolor": "white",
            "ticks": ""
           },
           "bgcolor": "#E5ECF6",
           "radialaxis": {
            "gridcolor": "white",
            "linecolor": "white",
            "ticks": ""
           }
          },
          "scene": {
           "xaxis": {
            "backgroundcolor": "#E5ECF6",
            "gridcolor": "white",
            "gridwidth": 2,
            "linecolor": "white",
            "showbackground": true,
            "ticks": "",
            "zerolinecolor": "white"
           },
           "yaxis": {
            "backgroundcolor": "#E5ECF6",
            "gridcolor": "white",
            "gridwidth": 2,
            "linecolor": "white",
            "showbackground": true,
            "ticks": "",
            "zerolinecolor": "white"
           },
           "zaxis": {
            "backgroundcolor": "#E5ECF6",
            "gridcolor": "white",
            "gridwidth": 2,
            "linecolor": "white",
            "showbackground": true,
            "ticks": "",
            "zerolinecolor": "white"
           }
          },
          "shapedefaults": {
           "line": {
            "color": "#2a3f5f"
           }
          },
          "ternary": {
           "aaxis": {
            "gridcolor": "white",
            "linecolor": "white",
            "ticks": ""
           },
           "baxis": {
            "gridcolor": "white",
            "linecolor": "white",
            "ticks": ""
           },
           "bgcolor": "#E5ECF6",
           "caxis": {
            "gridcolor": "white",
            "linecolor": "white",
            "ticks": ""
           }
          },
          "title": {
           "x": 0.05
          },
          "xaxis": {
           "automargin": true,
           "gridcolor": "white",
           "linecolor": "white",
           "ticks": "",
           "title": {
            "standoff": 15
           },
           "zerolinecolor": "white",
           "zerolinewidth": 2
          },
          "yaxis": {
           "automargin": true,
           "gridcolor": "white",
           "linecolor": "white",
           "ticks": "",
           "title": {
            "standoff": 15
           },
           "zerolinecolor": "white",
           "zerolinewidth": 2
          }
         }
        },
        "title": {
         "text": "Global Mean Decrease in Accuracy (MDA)"
        },
        "xaxis": {
         "anchor": "y",
         "domain": [
          0,
          1
         ],
         "tickangle": 45,
         "title": {
          "text": "Feature"
         }
        },
        "yaxis": {
         "anchor": "x",
         "domain": [
          0,
          1
         ],
         "title": {
          "text": "MDA"
         }
        }
       }
      }
     },
     "metadata": {},
     "output_type": "display_data"
    }
   ],
   "source": [
    "robust_accuracy_contributions = t.react_aggregate(\n",
    "    feature_influences_action_feature=action_features[0],\n",
    "    details = {\"feature_robust_accuracy_contributions\": True}\n",
    ")['feature_robust_accuracy_contributions']\n",
    "plot_feature_importances(robust_accuracy_contributions.T, title=\"Global Mean Decrease in Accuracy (MDA)\", yaxis_title=\"MDA\")"
   ]
  },
  {
   "cell_type": "markdown",
   "id": "f6992dcc",
   "metadata": {},
   "source": [
    "MDA values for each feature indicate to the user which features have the most significant individual predictive power. Those with higher values are more important for the model's predictions. Furthermore, features with negative MDA values can even be considered detrimental to model accuracy. However, it's important to note that these are global values and features with negative MDA values could still be beneficial for model accuracy in some regions of the data."
   ]
  },
  {
   "attachments": {},
   "cell_type": "markdown",
   "id": "0124c8fb-f73e-4c32-a3c8-616c873cc89c",
   "metadata": {},
   "source": [
    "## Step 2: Feature Uncertainty (Global)\n",
    "\n",
    "Are there any noisy features? \n",
    "\n",
    "Howso Engine’s performance is robust against noisy feature[s], and can maintain a high level of accuracy despite noisy data. \n",
    "\n",
    "Part of the reason Howso Engine can maintain its level of performance despite noisy data is through the characterization of feature uncertainties (residuals). The feature residuals can be extracted for user review. \n",
    "\n",
    "> Note: Feature Residuals are in the same units as the original features which makes it easy to interpret. For example, the residual for the “age” feature has the unit of years as in the original data.\n",
    "\n",
    "Feature residuals are available at the global level (overall model) and at the local level (regional model for each case).\n"
   ]
  },
  {
   "cell_type": "code",
   "execution_count": 7,
   "id": "d9307608-5e5e-48ee-8c3a-f7eac3ef7469",
   "metadata": {
    "execution": {
     "iopub.execute_input": "2025-09-02T19:43:42.294731Z",
     "iopub.status.busy": "2025-09-02T19:43:42.294542Z",
     "iopub.status.idle": "2025-09-02T19:43:43.670059Z",
     "shell.execute_reply": "2025-09-02T19:43:43.669423Z"
    }
   },
   "outputs": [
    {
     "data": {
      "text/html": [
       "<div>\n",
       "<style scoped>\n",
       "    .dataframe tbody tr th:only-of-type {\n",
       "        vertical-align: middle;\n",
       "    }\n",
       "\n",
       "    .dataframe tbody tr th {\n",
       "        vertical-align: top;\n",
       "    }\n",
       "\n",
       "    .dataframe thead th {\n",
       "        text-align: right;\n",
       "    }\n",
       "</style>\n",
       "<table border=\"1\" class=\"dataframe\">\n",
       "  <thead>\n",
       "    <tr style=\"text-align: right;\">\n",
       "      <th></th>\n",
       "      <th>residuals</th>\n",
       "    </tr>\n",
       "  </thead>\n",
       "  <tbody>\n",
       "    <tr>\n",
       "      <th>fnlwgt</th>\n",
       "      <td>77856.949395</td>\n",
       "    </tr>\n",
       "    <tr>\n",
       "      <th>capital-gain</th>\n",
       "      <td>1562.848554</td>\n",
       "    </tr>\n",
       "    <tr>\n",
       "      <th>capital-loss</th>\n",
       "      <td>126.146278</td>\n",
       "    </tr>\n",
       "    <tr>\n",
       "      <th>age</th>\n",
       "      <td>10.795815</td>\n",
       "    </tr>\n",
       "    <tr>\n",
       "      <th>hours-per-week</th>\n",
       "      <td>9.015834</td>\n",
       "    </tr>\n",
       "    <tr>\n",
       "      <th>native-country</th>\n",
       "      <td>2.855187</td>\n",
       "    </tr>\n",
       "    <tr>\n",
       "      <th>education-num</th>\n",
       "      <td>1.589787</td>\n",
       "    </tr>\n",
       "    <tr>\n",
       "      <th>occupation</th>\n",
       "      <td>0.877949</td>\n",
       "    </tr>\n",
       "    <tr>\n",
       "      <th>education</th>\n",
       "      <td>0.694226</td>\n",
       "    </tr>\n",
       "    <tr>\n",
       "      <th>relationship</th>\n",
       "      <td>0.507416</td>\n",
       "    </tr>\n",
       "  </tbody>\n",
       "</table>\n",
       "</div>"
      ],
      "text/plain": [
       "                   residuals\n",
       "fnlwgt          77856.949395\n",
       "capital-gain     1562.848554\n",
       "capital-loss      126.146278\n",
       "age                10.795815\n",
       "hours-per-week      9.015834\n",
       "native-country      2.855187\n",
       "education-num       1.589787\n",
       "occupation          0.877949\n",
       "education           0.694226\n",
       "relationship        0.507416"
      ]
     },
     "execution_count": 7,
     "metadata": {},
     "output_type": "execute_result"
    }
   ],
   "source": [
    "global_feature_residuals = t.react_aggregate(\n",
    "    prediction_stats_action_feature=action_features[0],\n",
    "    details = {\n",
    "        \"prediction_stats\": True,\n",
    "        \"selected_prediction_stats\": [\"mae\"]\n",
    "    }\n",
    ").to_dataframe()\n",
    "global_feature_residuals = global_feature_residuals.T.rename(columns={'mae':'residuals'}).sort_values('residuals', ascending=False)\n",
    "\n",
    "global_feature_residuals.iloc[0:10]"
   ]
  },
  {
   "attachments": {},
   "cell_type": "markdown",
   "id": "8a76584f-341d-4102-9887-e274de58a861",
   "metadata": {},
   "source": [
    "# Section 3: Inspect the Data for Anomalies\n",
    "\n",
    "Howso Engine can be used to show interesting information pertaining to the data and model, such as anomalous cases and potential model improvements. \n",
    " \n",
    "For each prediction, Howso Engine can also extract the influential cases and boundary cases to provide an exact explanation to the prediction process. More details on what’s available can be found in the notebook “2-interpretability.ipynb”.\n"
   ]
  },
  {
   "attachments": {},
   "cell_type": "markdown",
   "id": "652f7abc-e818-4c6b-8fd4-c1dd1cbd5736",
   "metadata": {},
   "source": [
    "## Step 1: Identify Anomalous cases\n",
    "\n",
    "Anomalous cases can exist in the data as either an outlier or inlier. Outliers are cases which are very different than other cases. Inliers are cases which are too similar to other cases and do not follow the expected distribution. An inlier could be a fraudulent case that is “too good to be true”. \n",
    "\n"
   ]
  },
  {
   "cell_type": "code",
   "execution_count": 8,
   "id": "0e0e3259-cdb2-4162-b67a-30a5813c5c42",
   "metadata": {
    "execution": {
     "iopub.execute_input": "2025-09-02T19:43:43.672088Z",
     "iopub.status.busy": "2025-09-02T19:43:43.671884Z",
     "iopub.status.idle": "2025-09-02T19:43:50.845855Z",
     "shell.execute_reply": "2025-09-02T19:43:50.845229Z"
    }
   },
   "outputs": [
    {
     "data": {
      "text/html": [
       "<div>\n",
       "<style scoped>\n",
       "    .dataframe tbody tr th:only-of-type {\n",
       "        vertical-align: middle;\n",
       "    }\n",
       "\n",
       "    .dataframe tbody tr th {\n",
       "        vertical-align: top;\n",
       "    }\n",
       "\n",
       "    .dataframe thead th {\n",
       "        text-align: right;\n",
       "    }\n",
       "</style>\n",
       "<table border=\"1\" class=\"dataframe\">\n",
       "  <thead>\n",
       "    <tr style=\"text-align: right;\">\n",
       "      <th></th>\n",
       "      <th>age</th>\n",
       "      <th>workclass</th>\n",
       "      <th>fnlwgt</th>\n",
       "      <th>education</th>\n",
       "      <th>education-num</th>\n",
       "      <th>marital-status</th>\n",
       "      <th>occupation</th>\n",
       "      <th>relationship</th>\n",
       "      <th>race</th>\n",
       "      <th>sex</th>\n",
       "      <th>capital-gain</th>\n",
       "      <th>capital-loss</th>\n",
       "      <th>hours-per-week</th>\n",
       "      <th>native-country</th>\n",
       "      <th>target</th>\n",
       "      <th>familiarity_conviction_addition</th>\n",
       "      <th>.session_training_index</th>\n",
       "      <th>.session</th>\n",
       "      <th>distance_contribution</th>\n",
       "    </tr>\n",
       "  </thead>\n",
       "  <tbody>\n",
       "    <tr>\n",
       "      <th>0</th>\n",
       "      <td>36.0</td>\n",
       "      <td>4</td>\n",
       "      <td>113397.0</td>\n",
       "      <td>11</td>\n",
       "      <td>9.0</td>\n",
       "      <td>2</td>\n",
       "      <td>6</td>\n",
       "      <td>0</td>\n",
       "      <td>4</td>\n",
       "      <td>1</td>\n",
       "      <td>0.0</td>\n",
       "      <td>0.0</td>\n",
       "      <td>40.0</td>\n",
       "      <td>39</td>\n",
       "      <td>1</td>\n",
       "      <td>0.593978</td>\n",
       "      <td>0</td>\n",
       "      <td>3da08aaa-86e3-491f-bbde-9f2927ab18b8</td>\n",
       "      <td>4.820333</td>\n",
       "    </tr>\n",
       "    <tr>\n",
       "      <th>1</th>\n",
       "      <td>35.0</td>\n",
       "      <td>7</td>\n",
       "      <td>225385.0</td>\n",
       "      <td>11</td>\n",
       "      <td>9.0</td>\n",
       "      <td>0</td>\n",
       "      <td>10</td>\n",
       "      <td>4</td>\n",
       "      <td>4</td>\n",
       "      <td>0</td>\n",
       "      <td>0.0</td>\n",
       "      <td>0.0</td>\n",
       "      <td>40.0</td>\n",
       "      <td>39</td>\n",
       "      <td>1</td>\n",
       "      <td>1.991966</td>\n",
       "      <td>1</td>\n",
       "      <td>3da08aaa-86e3-491f-bbde-9f2927ab18b8</td>\n",
       "      <td>9.662678</td>\n",
       "    </tr>\n",
       "    <tr>\n",
       "      <th>2</th>\n",
       "      <td>59.0</td>\n",
       "      <td>2</td>\n",
       "      <td>120617.0</td>\n",
       "      <td>11</td>\n",
       "      <td>9.0</td>\n",
       "      <td>5</td>\n",
       "      <td>11</td>\n",
       "      <td>4</td>\n",
       "      <td>2</td>\n",
       "      <td>0</td>\n",
       "      <td>0.0</td>\n",
       "      <td>0.0</td>\n",
       "      <td>40.0</td>\n",
       "      <td>39</td>\n",
       "      <td>1</td>\n",
       "      <td>3.342784</td>\n",
       "      <td>2</td>\n",
       "      <td>3da08aaa-86e3-491f-bbde-9f2927ab18b8</td>\n",
       "      <td>11.614757</td>\n",
       "    </tr>\n",
       "    <tr>\n",
       "      <th>3</th>\n",
       "      <td>33.0</td>\n",
       "      <td>4</td>\n",
       "      <td>101352.0</td>\n",
       "      <td>14</td>\n",
       "      <td>15.0</td>\n",
       "      <td>4</td>\n",
       "      <td>10</td>\n",
       "      <td>1</td>\n",
       "      <td>4</td>\n",
       "      <td>0</td>\n",
       "      <td>0.0</td>\n",
       "      <td>0.0</td>\n",
       "      <td>50.0</td>\n",
       "      <td>39</td>\n",
       "      <td>0</td>\n",
       "      <td>16.918810</td>\n",
       "      <td>3</td>\n",
       "      <td>3da08aaa-86e3-491f-bbde-9f2927ab18b8</td>\n",
       "      <td>18.443925</td>\n",
       "    </tr>\n",
       "    <tr>\n",
       "      <th>4</th>\n",
       "      <td>61.0</td>\n",
       "      <td>4</td>\n",
       "      <td>92691.0</td>\n",
       "      <td>11</td>\n",
       "      <td>9.0</td>\n",
       "      <td>2</td>\n",
       "      <td>1</td>\n",
       "      <td>0</td>\n",
       "      <td>4</td>\n",
       "      <td>1</td>\n",
       "      <td>0.0</td>\n",
       "      <td>0.0</td>\n",
       "      <td>3.0</td>\n",
       "      <td>39</td>\n",
       "      <td>1</td>\n",
       "      <td>7.101202</td>\n",
       "      <td>4</td>\n",
       "      <td>3da08aaa-86e3-491f-bbde-9f2927ab18b8</td>\n",
       "      <td>18.449176</td>\n",
       "    </tr>\n",
       "    <tr>\n",
       "      <th>...</th>\n",
       "      <td>...</td>\n",
       "      <td>...</td>\n",
       "      <td>...</td>\n",
       "      <td>...</td>\n",
       "      <td>...</td>\n",
       "      <td>...</td>\n",
       "      <td>...</td>\n",
       "      <td>...</td>\n",
       "      <td>...</td>\n",
       "      <td>...</td>\n",
       "      <td>...</td>\n",
       "      <td>...</td>\n",
       "      <td>...</td>\n",
       "      <td>...</td>\n",
       "      <td>...</td>\n",
       "      <td>...</td>\n",
       "      <td>...</td>\n",
       "      <td>...</td>\n",
       "      <td>...</td>\n",
       "    </tr>\n",
       "    <tr>\n",
       "      <th>995</th>\n",
       "      <td>58.0</td>\n",
       "      <td>4</td>\n",
       "      <td>35520.0</td>\n",
       "      <td>15</td>\n",
       "      <td>10.0</td>\n",
       "      <td>2</td>\n",
       "      <td>6</td>\n",
       "      <td>0</td>\n",
       "      <td>4</td>\n",
       "      <td>1</td>\n",
       "      <td>7688.0</td>\n",
       "      <td>0.0</td>\n",
       "      <td>40.0</td>\n",
       "      <td>39</td>\n",
       "      <td>0</td>\n",
       "      <td>8.786403</td>\n",
       "      <td>995</td>\n",
       "      <td>3da08aaa-86e3-491f-bbde-9f2927ab18b8</td>\n",
       "      <td>26.679914</td>\n",
       "    </tr>\n",
       "    <tr>\n",
       "      <th>996</th>\n",
       "      <td>60.0</td>\n",
       "      <td>0</td>\n",
       "      <td>134152.0</td>\n",
       "      <td>6</td>\n",
       "      <td>5.0</td>\n",
       "      <td>0</td>\n",
       "      <td>0</td>\n",
       "      <td>1</td>\n",
       "      <td>2</td>\n",
       "      <td>1</td>\n",
       "      <td>0.0</td>\n",
       "      <td>0.0</td>\n",
       "      <td>35.0</td>\n",
       "      <td>39</td>\n",
       "      <td>1</td>\n",
       "      <td>16.559579</td>\n",
       "      <td>996</td>\n",
       "      <td>3da08aaa-86e3-491f-bbde-9f2927ab18b8</td>\n",
       "      <td>24.320827</td>\n",
       "    </tr>\n",
       "    <tr>\n",
       "      <th>997</th>\n",
       "      <td>33.0</td>\n",
       "      <td>4</td>\n",
       "      <td>44559.0</td>\n",
       "      <td>11</td>\n",
       "      <td>9.0</td>\n",
       "      <td>2</td>\n",
       "      <td>10</td>\n",
       "      <td>0</td>\n",
       "      <td>4</td>\n",
       "      <td>1</td>\n",
       "      <td>0.0</td>\n",
       "      <td>0.0</td>\n",
       "      <td>35.0</td>\n",
       "      <td>39</td>\n",
       "      <td>1</td>\n",
       "      <td>4.906418</td>\n",
       "      <td>997</td>\n",
       "      <td>3da08aaa-86e3-491f-bbde-9f2927ab18b8</td>\n",
       "      <td>12.955811</td>\n",
       "    </tr>\n",
       "    <tr>\n",
       "      <th>998</th>\n",
       "      <td>25.0</td>\n",
       "      <td>4</td>\n",
       "      <td>199947.0</td>\n",
       "      <td>11</td>\n",
       "      <td>9.0</td>\n",
       "      <td>2</td>\n",
       "      <td>1</td>\n",
       "      <td>5</td>\n",
       "      <td>4</td>\n",
       "      <td>0</td>\n",
       "      <td>0.0</td>\n",
       "      <td>0.0</td>\n",
       "      <td>40.0</td>\n",
       "      <td>39</td>\n",
       "      <td>1</td>\n",
       "      <td>1.229936</td>\n",
       "      <td>998</td>\n",
       "      <td>3da08aaa-86e3-491f-bbde-9f2927ab18b8</td>\n",
       "      <td>7.669012</td>\n",
       "    </tr>\n",
       "    <tr>\n",
       "      <th>999</th>\n",
       "      <td>24.0</td>\n",
       "      <td>4</td>\n",
       "      <td>19410.0</td>\n",
       "      <td>11</td>\n",
       "      <td>9.0</td>\n",
       "      <td>0</td>\n",
       "      <td>12</td>\n",
       "      <td>4</td>\n",
       "      <td>0</td>\n",
       "      <td>0</td>\n",
       "      <td>0.0</td>\n",
       "      <td>0.0</td>\n",
       "      <td>48.0</td>\n",
       "      <td>39</td>\n",
       "      <td>1</td>\n",
       "      <td>6.068596</td>\n",
       "      <td>999</td>\n",
       "      <td>3da08aaa-86e3-491f-bbde-9f2927ab18b8</td>\n",
       "      <td>13.529954</td>\n",
       "    </tr>\n",
       "  </tbody>\n",
       "</table>\n",
       "<p>1000 rows × 19 columns</p>\n",
       "</div>"
      ],
      "text/plain": [
       "      age  workclass    fnlwgt  education  education-num  marital-status  \\\n",
       "0    36.0          4  113397.0         11            9.0               2   \n",
       "1    35.0          7  225385.0         11            9.0               0   \n",
       "2    59.0          2  120617.0         11            9.0               5   \n",
       "3    33.0          4  101352.0         14           15.0               4   \n",
       "4    61.0          4   92691.0         11            9.0               2   \n",
       "..    ...        ...       ...        ...            ...             ...   \n",
       "995  58.0          4   35520.0         15           10.0               2   \n",
       "996  60.0          0  134152.0          6            5.0               0   \n",
       "997  33.0          4   44559.0         11            9.0               2   \n",
       "998  25.0          4  199947.0         11            9.0               2   \n",
       "999  24.0          4   19410.0         11            9.0               0   \n",
       "\n",
       "     occupation  relationship  race  sex  capital-gain  capital-loss  \\\n",
       "0             6             0     4    1           0.0           0.0   \n",
       "1            10             4     4    0           0.0           0.0   \n",
       "2            11             4     2    0           0.0           0.0   \n",
       "3            10             1     4    0           0.0           0.0   \n",
       "4             1             0     4    1           0.0           0.0   \n",
       "..          ...           ...   ...  ...           ...           ...   \n",
       "995           6             0     4    1        7688.0           0.0   \n",
       "996           0             1     2    1           0.0           0.0   \n",
       "997          10             0     4    1           0.0           0.0   \n",
       "998           1             5     4    0           0.0           0.0   \n",
       "999          12             4     0    0           0.0           0.0   \n",
       "\n",
       "     hours-per-week  native-country  target  familiarity_conviction_addition  \\\n",
       "0              40.0              39       1                         0.593978   \n",
       "1              40.0              39       1                         1.991966   \n",
       "2              40.0              39       1                         3.342784   \n",
       "3              50.0              39       0                        16.918810   \n",
       "4               3.0              39       1                         7.101202   \n",
       "..              ...             ...     ...                              ...   \n",
       "995            40.0              39       0                         8.786403   \n",
       "996            35.0              39       1                        16.559579   \n",
       "997            35.0              39       1                         4.906418   \n",
       "998            40.0              39       1                         1.229936   \n",
       "999            48.0              39       1                         6.068596   \n",
       "\n",
       "     .session_training_index                              .session  \\\n",
       "0                          0  3da08aaa-86e3-491f-bbde-9f2927ab18b8   \n",
       "1                          1  3da08aaa-86e3-491f-bbde-9f2927ab18b8   \n",
       "2                          2  3da08aaa-86e3-491f-bbde-9f2927ab18b8   \n",
       "3                          3  3da08aaa-86e3-491f-bbde-9f2927ab18b8   \n",
       "4                          4  3da08aaa-86e3-491f-bbde-9f2927ab18b8   \n",
       "..                       ...                                   ...   \n",
       "995                      995  3da08aaa-86e3-491f-bbde-9f2927ab18b8   \n",
       "996                      996  3da08aaa-86e3-491f-bbde-9f2927ab18b8   \n",
       "997                      997  3da08aaa-86e3-491f-bbde-9f2927ab18b8   \n",
       "998                      998  3da08aaa-86e3-491f-bbde-9f2927ab18b8   \n",
       "999                      999  3da08aaa-86e3-491f-bbde-9f2927ab18b8   \n",
       "\n",
       "     distance_contribution  \n",
       "0                 4.820333  \n",
       "1                 9.662678  \n",
       "2                11.614757  \n",
       "3                18.443925  \n",
       "4                18.449176  \n",
       "..                     ...  \n",
       "995              26.679914  \n",
       "996              24.320827  \n",
       "997              12.955811  \n",
       "998               7.669012  \n",
       "999              13.529954  \n",
       "\n",
       "[1000 rows x 19 columns]"
      ]
     },
     "execution_count": 8,
     "metadata": {},
     "output_type": "execute_result"
    }
   ],
   "source": [
    "# Store the familiarity conviction into each case with `react_into_features`,\n",
    "# this will be used to identify anomalous cases\n",
    "t.analyze()\n",
    "t.react_into_features(familiarity_conviction_addition=True, distance_contribution=True)\n",
    "stored_convictions = t.get_cases(session=t.active_session, features=df.columns.tolist() + ['familiarity_conviction_addition','.session_training_index', '.session', 'distance_contribution'])\n",
    "\n",
    "stored_convictions"
   ]
  },
  {
   "cell_type": "markdown",
   "id": "deb24bdf",
   "metadata": {},
   "source": [
    "Here we set a threshold for familarity conviction that can be used to identify cases as anomalies. In the case of this notebook, we use a threshold of 0.50. Cases with a conviction value below this threshold will be deemed anomalous. Then we split up these anomalies by the mean distance contribution with those lower distance contributions being inliers and those with larger distance contributions being outliers."
   ]
  },
  {
   "cell_type": "code",
   "execution_count": 9,
   "id": "141c81ca-49d5-4203-85a0-bba3062da817",
   "metadata": {
    "execution": {
     "iopub.execute_input": "2025-09-02T19:43:50.847958Z",
     "iopub.status.busy": "2025-09-02T19:43:50.847763Z",
     "iopub.status.idle": "2025-09-02T19:43:50.853120Z",
     "shell.execute_reply": "2025-09-02T19:43:50.852585Z"
    }
   },
   "outputs": [],
   "source": [
    "# Threshold to determine which cases will be deemed anomalous\n",
    "convict_threshold = 0.5\n",
    "\n",
    "# Extract the anomalous cases\n",
    "low_convicts = stored_convictions[stored_convictions['familiarity_conviction_addition'] <= convict_threshold ].sort_values('familiarity_conviction_addition', ascending=True)\n",
    "\n",
    "# Average distance contribution will be used to determine if a case is an outlier or inlier\n",
    "average_dist_contribution = low_convicts['distance_contribution'].mean()\n",
    "\n",
    "# A case with distance contribution greater than average will be tagged as outlier, and vise versa for inliers\n",
    "cat = ['inlier' if d < average_dist_contribution else 'outlier' for d in low_convicts['distance_contribution']]\n",
    "low_convicts['category'] = cat"
   ]
  },
  {
   "attachments": {},
   "cell_type": "markdown",
   "id": "1cd260bd-e4e7-4ce1-8dec-4f7b046b07b5",
   "metadata": {},
   "source": [
    "## Step 2: Inspect Outliers\n",
    "\n",
    "Let’s examine a few outlier cases. Outliers are cases which are very different than other cases."
   ]
  },
  {
   "cell_type": "code",
   "execution_count": 10,
   "id": "b34e8a80-02c6-4fd4-9236-67268b02c220",
   "metadata": {
    "execution": {
     "iopub.execute_input": "2025-09-02T19:43:50.854979Z",
     "iopub.status.busy": "2025-09-02T19:43:50.854793Z",
     "iopub.status.idle": "2025-09-02T19:43:50.886940Z",
     "shell.execute_reply": "2025-09-02T19:43:50.886395Z"
    }
   },
   "outputs": [
    {
     "data": {
      "text/html": [
       "<div>\n",
       "<style scoped>\n",
       "    .dataframe tbody tr th:only-of-type {\n",
       "        vertical-align: middle;\n",
       "    }\n",
       "\n",
       "    .dataframe tbody tr th {\n",
       "        vertical-align: top;\n",
       "    }\n",
       "\n",
       "    .dataframe thead th {\n",
       "        text-align: right;\n",
       "    }\n",
       "</style>\n",
       "<table border=\"1\" class=\"dataframe\">\n",
       "  <thead>\n",
       "    <tr style=\"text-align: right;\">\n",
       "      <th></th>\n",
       "      <th>age</th>\n",
       "      <th>workclass</th>\n",
       "      <th>fnlwgt</th>\n",
       "      <th>education</th>\n",
       "      <th>education-num</th>\n",
       "      <th>marital-status</th>\n",
       "      <th>occupation</th>\n",
       "      <th>relationship</th>\n",
       "      <th>race</th>\n",
       "      <th>sex</th>\n",
       "      <th>capital-gain</th>\n",
       "      <th>capital-loss</th>\n",
       "      <th>hours-per-week</th>\n",
       "      <th>native-country</th>\n",
       "      <th>target</th>\n",
       "      <th>familiarity_conviction_addition</th>\n",
       "      <th>.session_training_index</th>\n",
       "      <th>.session</th>\n",
       "      <th>distance_contribution</th>\n",
       "      <th>category</th>\n",
       "    </tr>\n",
       "  </thead>\n",
       "  <tbody>\n",
       "    <tr>\n",
       "      <th>0</th>\n",
       "      <td>32.0</td>\n",
       "      <td>4</td>\n",
       "      <td>203674.0</td>\n",
       "      <td>7</td>\n",
       "      <td>12.0</td>\n",
       "      <td>0</td>\n",
       "      <td>10</td>\n",
       "      <td>4</td>\n",
       "      <td>4</td>\n",
       "      <td>0</td>\n",
       "      <td>0.0</td>\n",
       "      <td>880.0</td>\n",
       "      <td>36.0</td>\n",
       "      <td>39</td>\n",
       "      <td>1</td>\n",
       "      <td>0.063296</td>\n",
       "      <td>523</td>\n",
       "      <td>3da08aaa-86e3-491f-bbde-9f2927ab18b8</td>\n",
       "      <td>204.090209</td>\n",
       "      <td>outlier</td>\n",
       "    </tr>\n",
       "    <tr>\n",
       "      <th>1</th>\n",
       "      <td>61.0</td>\n",
       "      <td>4</td>\n",
       "      <td>29059.0</td>\n",
       "      <td>11</td>\n",
       "      <td>9.0</td>\n",
       "      <td>0</td>\n",
       "      <td>12</td>\n",
       "      <td>4</td>\n",
       "      <td>4</td>\n",
       "      <td>0</td>\n",
       "      <td>0.0</td>\n",
       "      <td>2754.0</td>\n",
       "      <td>25.0</td>\n",
       "      <td>39</td>\n",
       "      <td>1</td>\n",
       "      <td>0.065017</td>\n",
       "      <td>723</td>\n",
       "      <td>3da08aaa-86e3-491f-bbde-9f2927ab18b8</td>\n",
       "      <td>200.073601</td>\n",
       "      <td>outlier</td>\n",
       "    </tr>\n",
       "    <tr>\n",
       "      <th>2</th>\n",
       "      <td>51.0</td>\n",
       "      <td>4</td>\n",
       "      <td>197163.0</td>\n",
       "      <td>14</td>\n",
       "      <td>15.0</td>\n",
       "      <td>4</td>\n",
       "      <td>10</td>\n",
       "      <td>1</td>\n",
       "      <td>4</td>\n",
       "      <td>0</td>\n",
       "      <td>0.0</td>\n",
       "      <td>2559.0</td>\n",
       "      <td>50.0</td>\n",
       "      <td>39</td>\n",
       "      <td>0</td>\n",
       "      <td>0.093525</td>\n",
       "      <td>462</td>\n",
       "      <td>3da08aaa-86e3-491f-bbde-9f2927ab18b8</td>\n",
       "      <td>152.259439</td>\n",
       "      <td>outlier</td>\n",
       "    </tr>\n",
       "    <tr>\n",
       "      <th>3</th>\n",
       "      <td>58.0</td>\n",
       "      <td>4</td>\n",
       "      <td>473836.0</td>\n",
       "      <td>5</td>\n",
       "      <td>4.0</td>\n",
       "      <td>6</td>\n",
       "      <td>5</td>\n",
       "      <td>2</td>\n",
       "      <td>4</td>\n",
       "      <td>0</td>\n",
       "      <td>0.0</td>\n",
       "      <td>0.0</td>\n",
       "      <td>45.0</td>\n",
       "      <td>13</td>\n",
       "      <td>1</td>\n",
       "      <td>0.103244</td>\n",
       "      <td>387</td>\n",
       "      <td>3da08aaa-86e3-491f-bbde-9f2927ab18b8</td>\n",
       "      <td>143.573767</td>\n",
       "      <td>outlier</td>\n",
       "    </tr>\n",
       "    <tr>\n",
       "      <th>4</th>\n",
       "      <td>52.0</td>\n",
       "      <td>4</td>\n",
       "      <td>311931.0</td>\n",
       "      <td>4</td>\n",
       "      <td>3.0</td>\n",
       "      <td>2</td>\n",
       "      <td>12</td>\n",
       "      <td>5</td>\n",
       "      <td>4</td>\n",
       "      <td>0</td>\n",
       "      <td>0.0</td>\n",
       "      <td>0.0</td>\n",
       "      <td>15.0</td>\n",
       "      <td>8</td>\n",
       "      <td>1</td>\n",
       "      <td>0.104073</td>\n",
       "      <td>345</td>\n",
       "      <td>3da08aaa-86e3-491f-bbde-9f2927ab18b8</td>\n",
       "      <td>142.819063</td>\n",
       "      <td>outlier</td>\n",
       "    </tr>\n",
       "    <tr>\n",
       "      <th>...</th>\n",
       "      <td>...</td>\n",
       "      <td>...</td>\n",
       "      <td>...</td>\n",
       "      <td>...</td>\n",
       "      <td>...</td>\n",
       "      <td>...</td>\n",
       "      <td>...</td>\n",
       "      <td>...</td>\n",
       "      <td>...</td>\n",
       "      <td>...</td>\n",
       "      <td>...</td>\n",
       "      <td>...</td>\n",
       "      <td>...</td>\n",
       "      <td>...</td>\n",
       "      <td>...</td>\n",
       "      <td>...</td>\n",
       "      <td>...</td>\n",
       "      <td>...</td>\n",
       "      <td>...</td>\n",
       "      <td>...</td>\n",
       "    </tr>\n",
       "    <tr>\n",
       "      <th>66</th>\n",
       "      <td>50.0</td>\n",
       "      <td>6</td>\n",
       "      <td>105010.0</td>\n",
       "      <td>11</td>\n",
       "      <td>9.0</td>\n",
       "      <td>2</td>\n",
       "      <td>5</td>\n",
       "      <td>0</td>\n",
       "      <td>4</td>\n",
       "      <td>1</td>\n",
       "      <td>0.0</td>\n",
       "      <td>2051.0</td>\n",
       "      <td>20.0</td>\n",
       "      <td>39</td>\n",
       "      <td>1</td>\n",
       "      <td>0.454972</td>\n",
       "      <td>471</td>\n",
       "      <td>3da08aaa-86e3-491f-bbde-9f2927ab18b8</td>\n",
       "      <td>60.396899</td>\n",
       "      <td>outlier</td>\n",
       "    </tr>\n",
       "    <tr>\n",
       "      <th>67</th>\n",
       "      <td>50.0</td>\n",
       "      <td>6</td>\n",
       "      <td>371305.0</td>\n",
       "      <td>11</td>\n",
       "      <td>9.0</td>\n",
       "      <td>2</td>\n",
       "      <td>12</td>\n",
       "      <td>0</td>\n",
       "      <td>4</td>\n",
       "      <td>1</td>\n",
       "      <td>0.0</td>\n",
       "      <td>1902.0</td>\n",
       "      <td>60.0</td>\n",
       "      <td>39</td>\n",
       "      <td>0</td>\n",
       "      <td>0.465112</td>\n",
       "      <td>108</td>\n",
       "      <td>3da08aaa-86e3-491f-bbde-9f2927ab18b8</td>\n",
       "      <td>60.660846</td>\n",
       "      <td>outlier</td>\n",
       "    </tr>\n",
       "    <tr>\n",
       "      <th>68</th>\n",
       "      <td>26.0</td>\n",
       "      <td>4</td>\n",
       "      <td>201579.0</td>\n",
       "      <td>15</td>\n",
       "      <td>10.0</td>\n",
       "      <td>4</td>\n",
       "      <td>3</td>\n",
       "      <td>4</td>\n",
       "      <td>4</td>\n",
       "      <td>1</td>\n",
       "      <td>0.0</td>\n",
       "      <td>0.0</td>\n",
       "      <td>40.0</td>\n",
       "      <td>26</td>\n",
       "      <td>1</td>\n",
       "      <td>0.474441</td>\n",
       "      <td>616</td>\n",
       "      <td>3da08aaa-86e3-491f-bbde-9f2927ab18b8</td>\n",
       "      <td>59.853165</td>\n",
       "      <td>outlier</td>\n",
       "    </tr>\n",
       "    <tr>\n",
       "      <th>69</th>\n",
       "      <td>43.0</td>\n",
       "      <td>4</td>\n",
       "      <td>50356.0</td>\n",
       "      <td>15</td>\n",
       "      <td>10.0</td>\n",
       "      <td>2</td>\n",
       "      <td>3</td>\n",
       "      <td>0</td>\n",
       "      <td>4</td>\n",
       "      <td>1</td>\n",
       "      <td>0.0</td>\n",
       "      <td>1485.0</td>\n",
       "      <td>50.0</td>\n",
       "      <td>39</td>\n",
       "      <td>1</td>\n",
       "      <td>0.483498</td>\n",
       "      <td>283</td>\n",
       "      <td>3da08aaa-86e3-491f-bbde-9f2927ab18b8</td>\n",
       "      <td>59.204025</td>\n",
       "      <td>outlier</td>\n",
       "    </tr>\n",
       "    <tr>\n",
       "      <th>70</th>\n",
       "      <td>41.0</td>\n",
       "      <td>4</td>\n",
       "      <td>195821.0</td>\n",
       "      <td>10</td>\n",
       "      <td>16.0</td>\n",
       "      <td>2</td>\n",
       "      <td>4</td>\n",
       "      <td>5</td>\n",
       "      <td>4</td>\n",
       "      <td>0</td>\n",
       "      <td>0.0</td>\n",
       "      <td>1902.0</td>\n",
       "      <td>40.0</td>\n",
       "      <td>39</td>\n",
       "      <td>0</td>\n",
       "      <td>0.487897</td>\n",
       "      <td>372</td>\n",
       "      <td>3da08aaa-86e3-491f-bbde-9f2927ab18b8</td>\n",
       "      <td>55.491344</td>\n",
       "      <td>outlier</td>\n",
       "    </tr>\n",
       "  </tbody>\n",
       "</table>\n",
       "<p>71 rows × 20 columns</p>\n",
       "</div>"
      ],
      "text/plain": [
       "     age  workclass    fnlwgt  education  education-num  marital-status  \\\n",
       "0   32.0          4  203674.0          7           12.0               0   \n",
       "1   61.0          4   29059.0         11            9.0               0   \n",
       "2   51.0          4  197163.0         14           15.0               4   \n",
       "3   58.0          4  473836.0          5            4.0               6   \n",
       "4   52.0          4  311931.0          4            3.0               2   \n",
       "..   ...        ...       ...        ...            ...             ...   \n",
       "66  50.0          6  105010.0         11            9.0               2   \n",
       "67  50.0          6  371305.0         11            9.0               2   \n",
       "68  26.0          4  201579.0         15           10.0               4   \n",
       "69  43.0          4   50356.0         15           10.0               2   \n",
       "70  41.0          4  195821.0         10           16.0               2   \n",
       "\n",
       "    occupation  relationship  race  sex  capital-gain  capital-loss  \\\n",
       "0           10             4     4    0           0.0         880.0   \n",
       "1           12             4     4    0           0.0        2754.0   \n",
       "2           10             1     4    0           0.0        2559.0   \n",
       "3            5             2     4    0           0.0           0.0   \n",
       "4           12             5     4    0           0.0           0.0   \n",
       "..         ...           ...   ...  ...           ...           ...   \n",
       "66           5             0     4    1           0.0        2051.0   \n",
       "67          12             0     4    1           0.0        1902.0   \n",
       "68           3             4     4    1           0.0           0.0   \n",
       "69           3             0     4    1           0.0        1485.0   \n",
       "70           4             5     4    0           0.0        1902.0   \n",
       "\n",
       "    hours-per-week  native-country  target  familiarity_conviction_addition  \\\n",
       "0             36.0              39       1                         0.063296   \n",
       "1             25.0              39       1                         0.065017   \n",
       "2             50.0              39       0                         0.093525   \n",
       "3             45.0              13       1                         0.103244   \n",
       "4             15.0               8       1                         0.104073   \n",
       "..             ...             ...     ...                              ...   \n",
       "66            20.0              39       1                         0.454972   \n",
       "67            60.0              39       0                         0.465112   \n",
       "68            40.0              26       1                         0.474441   \n",
       "69            50.0              39       1                         0.483498   \n",
       "70            40.0              39       0                         0.487897   \n",
       "\n",
       "    .session_training_index                              .session  \\\n",
       "0                       523  3da08aaa-86e3-491f-bbde-9f2927ab18b8   \n",
       "1                       723  3da08aaa-86e3-491f-bbde-9f2927ab18b8   \n",
       "2                       462  3da08aaa-86e3-491f-bbde-9f2927ab18b8   \n",
       "3                       387  3da08aaa-86e3-491f-bbde-9f2927ab18b8   \n",
       "4                       345  3da08aaa-86e3-491f-bbde-9f2927ab18b8   \n",
       "..                      ...                                   ...   \n",
       "66                      471  3da08aaa-86e3-491f-bbde-9f2927ab18b8   \n",
       "67                      108  3da08aaa-86e3-491f-bbde-9f2927ab18b8   \n",
       "68                      616  3da08aaa-86e3-491f-bbde-9f2927ab18b8   \n",
       "69                      283  3da08aaa-86e3-491f-bbde-9f2927ab18b8   \n",
       "70                      372  3da08aaa-86e3-491f-bbde-9f2927ab18b8   \n",
       "\n",
       "    distance_contribution category  \n",
       "0              204.090209  outlier  \n",
       "1              200.073601  outlier  \n",
       "2              152.259439  outlier  \n",
       "3              143.573767  outlier  \n",
       "4              142.819063  outlier  \n",
       "..                    ...      ...  \n",
       "66              60.396899  outlier  \n",
       "67              60.660846  outlier  \n",
       "68              59.853165  outlier  \n",
       "69              59.204025  outlier  \n",
       "70              55.491344  outlier  \n",
       "\n",
       "[71 rows x 20 columns]"
      ]
     },
     "execution_count": 10,
     "metadata": {},
     "output_type": "execute_result"
    }
   ],
   "source": [
    "# Extract the outliers cases\n",
    "outliers = low_convicts[low_convicts['category'] == 'outlier'].reset_index(drop=True)\n",
    "outliers"
   ]
  },
  {
   "cell_type": "markdown",
   "id": "ef1e538b",
   "metadata": {},
   "source": [
    "For each outlier, we will compute some of its Feature Residual Convictions to understand which feature values are the most surprising, which will help the user understand what makes each case anomalous."
   ]
  },
  {
   "cell_type": "code",
   "execution_count": 11,
   "id": "44d990c4-a58b-4380-ba15-cc21643dbf9a",
   "metadata": {
    "execution": {
     "iopub.execute_input": "2025-09-02T19:43:50.888819Z",
     "iopub.status.busy": "2025-09-02T19:43:50.888635Z",
     "iopub.status.idle": "2025-09-02T19:43:52.771921Z",
     "shell.execute_reply": "2025-09-02T19:43:52.771316Z"
    }
   },
   "outputs": [],
   "source": [
    "# Get the case_feature_residual_convictions, influential_cases and boundary_cases\n",
    "details = {\n",
    "    'feature_full_residual_convictions_for_case': True\n",
    "}\n",
    "\n",
    "# Specify outlier cases\n",
    "outliers_indices = outliers[['.session', '.session_training_index']].values\n",
    "\n",
    "# React to get the details of each case\n",
    "results = t.react(case_indices=outliers_indices,\n",
    "                  preserve_feature_values=df.columns.tolist(),\n",
    "                  leave_case_out=True,\n",
    "                  details=details)"
   ]
  },
  {
   "cell_type": "code",
   "execution_count": 12,
   "id": "4faf2ab7-c86c-47a8-9707-bdb2dcf191cb",
   "metadata": {
    "execution": {
     "iopub.execute_input": "2025-09-02T19:43:52.774212Z",
     "iopub.status.busy": "2025-09-02T19:43:52.773995Z",
     "iopub.status.idle": "2025-09-02T19:43:52.777679Z",
     "shell.execute_reply": "2025-09-02T19:43:52.777147Z"
    }
   },
   "outputs": [],
   "source": [
    "# Extract the case feature residual convictions\n",
    "case_feature_residual_convictions = pd.DataFrame(results['details']['feature_full_residual_convictions_for_case'])[df.columns.tolist()]"
   ]
  },
  {
   "cell_type": "code",
   "execution_count": 13,
   "id": "3b45f0b1-fe30-4146-9dbf-90e1efd32645",
   "metadata": {
    "execution": {
     "iopub.execute_input": "2025-09-02T19:43:52.779470Z",
     "iopub.status.busy": "2025-09-02T19:43:52.779284Z",
     "iopub.status.idle": "2025-09-02T19:43:54.249452Z",
     "shell.execute_reply": "2025-09-02T19:43:54.248759Z"
    }
   },
   "outputs": [
    {
     "data": {
      "application/vnd.plotly.v1+json": {
       "config": {
        "plotlyServerURL": "https://plot.ly"
       },
       "data": [
        {
         "coloraxis": "coloraxis",
         "hovertemplate": "Conviction=%{z}",
         "name": "Outliers",
         "text": [
          [
           "32.0",
           "4",
           "203674.0",
           "7",
           "12.0",
           "0",
           "10",
           "4",
           "4",
           "0",
           "0.0",
           "880.0",
           "36.0",
           "39",
           "1",
           "0.06329645032992279",
           "523",
           "3da08aaa-86e3-491f-bbde-9f2927ab18b8",
           "204.0902087933304",
           "outlier"
          ],
          [
           "61.0",
           "4",
           "29059.0",
           "11",
           "9.0",
           "0",
           "12",
           "4",
           "4",
           "0",
           "0.0",
           "2754.0",
           "25.0",
           "39",
           "1",
           "0.06501703392807848",
           "723",
           "3da08aaa-86e3-491f-bbde-9f2927ab18b8",
           "200.07360076248335",
           "outlier"
          ],
          [
           "51.0",
           "4",
           "197163.0",
           "14",
           "15.0",
           "4",
           "10",
           "1",
           "4",
           "0",
           "0.0",
           "2559.0",
           "50.0",
           "39",
           "0",
           "0.09352519138050741",
           "462",
           "3da08aaa-86e3-491f-bbde-9f2927ab18b8",
           "152.2594385125088",
           "outlier"
          ],
          [
           "58.0",
           "4",
           "473836.0",
           "5",
           "4.0",
           "6",
           "5",
           "2",
           "4",
           "0",
           "0.0",
           "0.0",
           "45.0",
           "13",
           "1",
           "0.1032444985386708",
           "387",
           "3da08aaa-86e3-491f-bbde-9f2927ab18b8",
           "143.57376746227007",
           "outlier"
          ],
          [
           "52.0",
           "4",
           "311931.0",
           "4",
           "3.0",
           "2",
           "12",
           "5",
           "4",
           "0",
           "0.0",
           "0.0",
           "15.0",
           "8",
           "1",
           "0.10407274010561633",
           "345",
           "3da08aaa-86e3-491f-bbde-9f2927ab18b8",
           "142.81906271691946",
           "outlier"
          ]
         ],
         "texttemplate": "%{text}",
         "type": "heatmap",
         "x": [
          "age",
          "workclass",
          "fnlwgt",
          "education",
          "education-num",
          "marital-status",
          "occupation",
          "relationship",
          "race",
          "sex",
          "capital-gain",
          "capital-loss",
          "hours-per-week",
          "native-country",
          "target"
         ],
         "xgap": 3,
         "y": {
          "bdata": "AAECAwQ=",
          "dtype": "i1"
         },
         "ygap": 3,
         "z": {
          "bdata": "i3+7se0p4j/hsHf2rnDzP+ZawtJWmhFAAAAAAAAA8D8AAAAAAADwP8/E6jl4lew/RemVlnNS7T8ZmWZVrrvcP9ZHdgEZvvs/mzijeOTC5T8KqBtkKxv7P7a2lXaHDcQ/nKEtuXVS8j+J8G/JeD0qQHZ1zrwQysU/cCo0opqt4D8dK2MXVhsFQEYCSEq7feM/AAAAAAAA8D8AAAAAAADwP/pvgcNqJs8/El3bx8HC8j+dcKNyf9zFPwAAAAAAAPA/L4FaTcsP/j8AAAAAAADwP1V3Tyehx70/bcgZzyY45z8AAAAAAADwP1URpMURHeo/32Ja0keo8T9IczOXGJP0PyHMZx77vgFAAAAAAAAA8D8AAAAAAADwP2APKBCCUO8/EEiOPsaIDEA+VBqH9C0JQAAAAAAAAPA/9tQeRjNa8T8AAAAAAADwP+9hGwezLMo/CtFvolse8T8AAAAAAADwP+jcJHaTFfc/EegM5e+yAUBdiB+eJ+UHQBGyJickEeE/AAAAAAAA8D8AAAAAAADwP1JJYSJo2uE/tZmF00ve8D/z9alzfzDkP4C8sc0vPfU/hLE6bSxV5j+5gZ5rQYDfPwAAAAAAAPA/gqhp5glp7T9vzHrzk+7EP2xeiSgGPeM/qX02sTTM8z/c6RMBEZHrPz6tTIXa+wBAAAAAAAAA8D8Jry84f6SSP/dp8AFNoxNAvKVMC9Ii7T+gZ6muy8bmPyVOX+yvPOE/ZG1u5MJ93T8Ty73dSn7zPwAAAAAAAPA/iV+D9IT52T8QAeJFj6LSP+TLtRb20PU/",
          "dtype": "f8",
          "shape": "5, 15"
         }
        }
       ],
       "layout": {
        "coloraxis": {
         "cmax": 5,
         "cmin": 0,
         "colorbar": {
          "ticktext": [
           "0",
           "0.5",
           "1",
           "1.5",
           "2",
           "2.5",
           "3",
           "3.5",
           "4",
           "4.5",
           "≥5"
          ],
          "tickvals": [
           0,
           0.5,
           1,
           1.5,
           2,
           2.5,
           3,
           3.5,
           4,
           4.5,
           5
          ],
          "title": {
           "text": "Conviction"
          }
         },
         "colorscale": [
          [
           0,
           "rgb(103,0,31)"
          ],
          [
           0.2,
           "rgb(247, 247, 247)"
          ],
          [
           0.4,
           "rgb(67,147,195)"
          ],
          [
           1,
           "rgb(5,48,97)"
          ]
         ]
        },
        "template": {
         "data": {
          "bar": [
           {
            "error_x": {
             "color": "#2a3f5f"
            },
            "error_y": {
             "color": "#2a3f5f"
            },
            "marker": {
             "line": {
              "color": "#E5ECF6",
              "width": 0.5
             },
             "pattern": {
              "fillmode": "overlay",
              "size": 10,
              "solidity": 0.2
             }
            },
            "type": "bar"
           }
          ],
          "barpolar": [
           {
            "marker": {
             "line": {
              "color": "#E5ECF6",
              "width": 0.5
             },
             "pattern": {
              "fillmode": "overlay",
              "size": 10,
              "solidity": 0.2
             }
            },
            "type": "barpolar"
           }
          ],
          "carpet": [
           {
            "aaxis": {
             "endlinecolor": "#2a3f5f",
             "gridcolor": "white",
             "linecolor": "white",
             "minorgridcolor": "white",
             "startlinecolor": "#2a3f5f"
            },
            "baxis": {
             "endlinecolor": "#2a3f5f",
             "gridcolor": "white",
             "linecolor": "white",
             "minorgridcolor": "white",
             "startlinecolor": "#2a3f5f"
            },
            "type": "carpet"
           }
          ],
          "choropleth": [
           {
            "colorbar": {
             "outlinewidth": 0,
             "ticks": ""
            },
            "type": "choropleth"
           }
          ],
          "contour": [
           {
            "colorbar": {
             "outlinewidth": 0,
             "ticks": ""
            },
            "colorscale": [
             [
              0,
              "#0d0887"
             ],
             [
              0.1111111111111111,
              "#46039f"
             ],
             [
              0.2222222222222222,
              "#7201a8"
             ],
             [
              0.3333333333333333,
              "#9c179e"
             ],
             [
              0.4444444444444444,
              "#bd3786"
             ],
             [
              0.5555555555555556,
              "#d8576b"
             ],
             [
              0.6666666666666666,
              "#ed7953"
             ],
             [
              0.7777777777777778,
              "#fb9f3a"
             ],
             [
              0.8888888888888888,
              "#fdca26"
             ],
             [
              1,
              "#f0f921"
             ]
            ],
            "type": "contour"
           }
          ],
          "contourcarpet": [
           {
            "colorbar": {
             "outlinewidth": 0,
             "ticks": ""
            },
            "type": "contourcarpet"
           }
          ],
          "heatmap": [
           {
            "colorbar": {
             "outlinewidth": 0,
             "ticks": ""
            },
            "colorscale": [
             [
              0,
              "#0d0887"
             ],
             [
              0.1111111111111111,
              "#46039f"
             ],
             [
              0.2222222222222222,
              "#7201a8"
             ],
             [
              0.3333333333333333,
              "#9c179e"
             ],
             [
              0.4444444444444444,
              "#bd3786"
             ],
             [
              0.5555555555555556,
              "#d8576b"
             ],
             [
              0.6666666666666666,
              "#ed7953"
             ],
             [
              0.7777777777777778,
              "#fb9f3a"
             ],
             [
              0.8888888888888888,
              "#fdca26"
             ],
             [
              1,
              "#f0f921"
             ]
            ],
            "type": "heatmap"
           }
          ],
          "histogram": [
           {
            "marker": {
             "pattern": {
              "fillmode": "overlay",
              "size": 10,
              "solidity": 0.2
             }
            },
            "type": "histogram"
           }
          ],
          "histogram2d": [
           {
            "colorbar": {
             "outlinewidth": 0,
             "ticks": ""
            },
            "colorscale": [
             [
              0,
              "#0d0887"
             ],
             [
              0.1111111111111111,
              "#46039f"
             ],
             [
              0.2222222222222222,
              "#7201a8"
             ],
             [
              0.3333333333333333,
              "#9c179e"
             ],
             [
              0.4444444444444444,
              "#bd3786"
             ],
             [
              0.5555555555555556,
              "#d8576b"
             ],
             [
              0.6666666666666666,
              "#ed7953"
             ],
             [
              0.7777777777777778,
              "#fb9f3a"
             ],
             [
              0.8888888888888888,
              "#fdca26"
             ],
             [
              1,
              "#f0f921"
             ]
            ],
            "type": "histogram2d"
           }
          ],
          "histogram2dcontour": [
           {
            "colorbar": {
             "outlinewidth": 0,
             "ticks": ""
            },
            "colorscale": [
             [
              0,
              "#0d0887"
             ],
             [
              0.1111111111111111,
              "#46039f"
             ],
             [
              0.2222222222222222,
              "#7201a8"
             ],
             [
              0.3333333333333333,
              "#9c179e"
             ],
             [
              0.4444444444444444,
              "#bd3786"
             ],
             [
              0.5555555555555556,
              "#d8576b"
             ],
             [
              0.6666666666666666,
              "#ed7953"
             ],
             [
              0.7777777777777778,
              "#fb9f3a"
             ],
             [
              0.8888888888888888,
              "#fdca26"
             ],
             [
              1,
              "#f0f921"
             ]
            ],
            "type": "histogram2dcontour"
           }
          ],
          "mesh3d": [
           {
            "colorbar": {
             "outlinewidth": 0,
             "ticks": ""
            },
            "type": "mesh3d"
           }
          ],
          "parcoords": [
           {
            "line": {
             "colorbar": {
              "outlinewidth": 0,
              "ticks": ""
             }
            },
            "type": "parcoords"
           }
          ],
          "pie": [
           {
            "automargin": true,
            "type": "pie"
           }
          ],
          "scatter": [
           {
            "fillpattern": {
             "fillmode": "overlay",
             "size": 10,
             "solidity": 0.2
            },
            "type": "scatter"
           }
          ],
          "scatter3d": [
           {
            "line": {
             "colorbar": {
              "outlinewidth": 0,
              "ticks": ""
             }
            },
            "marker": {
             "colorbar": {
              "outlinewidth": 0,
              "ticks": ""
             }
            },
            "type": "scatter3d"
           }
          ],
          "scattercarpet": [
           {
            "marker": {
             "colorbar": {
              "outlinewidth": 0,
              "ticks": ""
             }
            },
            "type": "scattercarpet"
           }
          ],
          "scattergeo": [
           {
            "marker": {
             "colorbar": {
              "outlinewidth": 0,
              "ticks": ""
             }
            },
            "type": "scattergeo"
           }
          ],
          "scattergl": [
           {
            "marker": {
             "colorbar": {
              "outlinewidth": 0,
              "ticks": ""
             }
            },
            "type": "scattergl"
           }
          ],
          "scattermap": [
           {
            "marker": {
             "colorbar": {
              "outlinewidth": 0,
              "ticks": ""
             }
            },
            "type": "scattermap"
           }
          ],
          "scattermapbox": [
           {
            "marker": {
             "colorbar": {
              "outlinewidth": 0,
              "ticks": ""
             }
            },
            "type": "scattermapbox"
           }
          ],
          "scatterpolar": [
           {
            "marker": {
             "colorbar": {
              "outlinewidth": 0,
              "ticks": ""
             }
            },
            "type": "scatterpolar"
           }
          ],
          "scatterpolargl": [
           {
            "marker": {
             "colorbar": {
              "outlinewidth": 0,
              "ticks": ""
             }
            },
            "type": "scatterpolargl"
           }
          ],
          "scatterternary": [
           {
            "marker": {
             "colorbar": {
              "outlinewidth": 0,
              "ticks": ""
             }
            },
            "type": "scatterternary"
           }
          ],
          "surface": [
           {
            "colorbar": {
             "outlinewidth": 0,
             "ticks": ""
            },
            "colorscale": [
             [
              0,
              "#0d0887"
             ],
             [
              0.1111111111111111,
              "#46039f"
             ],
             [
              0.2222222222222222,
              "#7201a8"
             ],
             [
              0.3333333333333333,
              "#9c179e"
             ],
             [
              0.4444444444444444,
              "#bd3786"
             ],
             [
              0.5555555555555556,
              "#d8576b"
             ],
             [
              0.6666666666666666,
              "#ed7953"
             ],
             [
              0.7777777777777778,
              "#fb9f3a"
             ],
             [
              0.8888888888888888,
              "#fdca26"
             ],
             [
              1,
              "#f0f921"
             ]
            ],
            "type": "surface"
           }
          ],
          "table": [
           {
            "cells": {
             "fill": {
              "color": "#EBF0F8"
             },
             "line": {
              "color": "white"
             }
            },
            "header": {
             "fill": {
              "color": "#C8D4E3"
             },
             "line": {
              "color": "white"
             }
            },
            "type": "table"
           }
          ]
         },
         "layout": {
          "annotationdefaults": {
           "arrowcolor": "#2a3f5f",
           "arrowhead": 0,
           "arrowwidth": 1
          },
          "autotypenumbers": "strict",
          "coloraxis": {
           "colorbar": {
            "outlinewidth": 0,
            "ticks": ""
           }
          },
          "colorscale": {
           "diverging": [
            [
             0,
             "#8e0152"
            ],
            [
             0.1,
             "#c51b7d"
            ],
            [
             0.2,
             "#de77ae"
            ],
            [
             0.3,
             "#f1b6da"
            ],
            [
             0.4,
             "#fde0ef"
            ],
            [
             0.5,
             "#f7f7f7"
            ],
            [
             0.6,
             "#e6f5d0"
            ],
            [
             0.7,
             "#b8e186"
            ],
            [
             0.8,
             "#7fbc41"
            ],
            [
             0.9,
             "#4d9221"
            ],
            [
             1,
             "#276419"
            ]
           ],
           "sequential": [
            [
             0,
             "#0d0887"
            ],
            [
             0.1111111111111111,
             "#46039f"
            ],
            [
             0.2222222222222222,
             "#7201a8"
            ],
            [
             0.3333333333333333,
             "#9c179e"
            ],
            [
             0.4444444444444444,
             "#bd3786"
            ],
            [
             0.5555555555555556,
             "#d8576b"
            ],
            [
             0.6666666666666666,
             "#ed7953"
            ],
            [
             0.7777777777777778,
             "#fb9f3a"
            ],
            [
             0.8888888888888888,
             "#fdca26"
            ],
            [
             1,
             "#f0f921"
            ]
           ],
           "sequentialminus": [
            [
             0,
             "#0d0887"
            ],
            [
             0.1111111111111111,
             "#46039f"
            ],
            [
             0.2222222222222222,
             "#7201a8"
            ],
            [
             0.3333333333333333,
             "#9c179e"
            ],
            [
             0.4444444444444444,
             "#bd3786"
            ],
            [
             0.5555555555555556,
             "#d8576b"
            ],
            [
             0.6666666666666666,
             "#ed7953"
            ],
            [
             0.7777777777777778,
             "#fb9f3a"
            ],
            [
             0.8888888888888888,
             "#fdca26"
            ],
            [
             1,
             "#f0f921"
            ]
           ]
          },
          "colorway": [
           "#636efa",
           "#EF553B",
           "#00cc96",
           "#ab63fa",
           "#FFA15A",
           "#19d3f3",
           "#FF6692",
           "#B6E880",
           "#FF97FF",
           "#FECB52"
          ],
          "font": {
           "color": "#2a3f5f"
          },
          "geo": {
           "bgcolor": "white",
           "lakecolor": "white",
           "landcolor": "#E5ECF6",
           "showlakes": true,
           "showland": true,
           "subunitcolor": "white"
          },
          "hoverlabel": {
           "align": "left"
          },
          "hovermode": "closest",
          "mapbox": {
           "style": "light"
          },
          "paper_bgcolor": "white",
          "plot_bgcolor": "#E5ECF6",
          "polar": {
           "angularaxis": {
            "gridcolor": "white",
            "linecolor": "white",
            "ticks": ""
           },
           "bgcolor": "#E5ECF6",
           "radialaxis": {
            "gridcolor": "white",
            "linecolor": "white",
            "ticks": ""
           }
          },
          "scene": {
           "xaxis": {
            "backgroundcolor": "#E5ECF6",
            "gridcolor": "white",
            "gridwidth": 2,
            "linecolor": "white",
            "showbackground": true,
            "ticks": "",
            "zerolinecolor": "white"
           },
           "yaxis": {
            "backgroundcolor": "#E5ECF6",
            "gridcolor": "white",
            "gridwidth": 2,
            "linecolor": "white",
            "showbackground": true,
            "ticks": "",
            "zerolinecolor": "white"
           },
           "zaxis": {
            "backgroundcolor": "#E5ECF6",
            "gridcolor": "white",
            "gridwidth": 2,
            "linecolor": "white",
            "showbackground": true,
            "ticks": "",
            "zerolinecolor": "white"
           }
          },
          "shapedefaults": {
           "line": {
            "color": "#2a3f5f"
           }
          },
          "ternary": {
           "aaxis": {
            "gridcolor": "white",
            "linecolor": "white",
            "ticks": ""
           },
           "baxis": {
            "gridcolor": "white",
            "linecolor": "white",
            "ticks": ""
           },
           "bgcolor": "#E5ECF6",
           "caxis": {
            "gridcolor": "white",
            "linecolor": "white",
            "ticks": ""
           }
          },
          "title": {
           "x": 0.05
          },
          "xaxis": {
           "automargin": true,
           "gridcolor": "white",
           "linecolor": "white",
           "ticks": "",
           "title": {
            "standoff": 15
           },
           "zerolinecolor": "white",
           "zerolinewidth": 2
          },
          "yaxis": {
           "automargin": true,
           "gridcolor": "white",
           "linecolor": "white",
           "ticks": "",
           "title": {
            "standoff": 15
           },
           "zerolinecolor": "white",
           "zerolinewidth": 2
          }
         }
        },
        "title": {
         "text": "Outliers"
        },
        "xaxis": {
         "anchor": "y",
         "domain": [
          0,
          1
         ],
         "title": {
          "text": "Feature"
         }
        },
        "yaxis": {
         "anchor": "x",
         "autorange": "reversed",
         "domain": [
          0,
          1
         ],
         "title": {
          "text": "Residual Conviction"
         }
        }
       }
      }
     },
     "metadata": {},
     "output_type": "display_data"
    }
   ],
   "source": [
    "fig = plot_anomalies(outliers, case_feature_residual_convictions, title=\"Outliers\", yaxis_title=\"Residual Conviction\")\n",
    "fig.show(width=1750, height=750)"
   ]
  },
  {
   "attachments": {},
   "cell_type": "markdown",
   "id": "5d17882e-9c76-46c2-b772-5b4bd1c8e8a4",
   "metadata": {},
   "source": [
    "The heat map explains the reason why each case was an outlier. The darker the shade of red, the more surprising the feature value is, which contributes to the case's status as an outlier."
   ]
  },
  {
   "attachments": {},
   "cell_type": "markdown",
   "id": "4f45902d-a272-4ff1-9953-a9777d64780a",
   "metadata": {
    "tags": []
   },
   "source": [
    "## Step 3: Inspect Inliers\n",
    "\n",
    "Let’s examine a few inlier cases. Inliers are cases which are too similar to other cases and do not follow the expected distribution. Inliers can be an indication of a fraudulent case that is “too good to be true”. "
   ]
  },
  {
   "cell_type": "code",
   "execution_count": 14,
   "id": "bd8e4a82-fd22-4def-9b9b-5d9d1be5d263",
   "metadata": {
    "execution": {
     "iopub.execute_input": "2025-09-02T19:43:54.251603Z",
     "iopub.status.busy": "2025-09-02T19:43:54.251412Z",
     "iopub.status.idle": "2025-09-02T19:43:54.284973Z",
     "shell.execute_reply": "2025-09-02T19:43:54.284458Z"
    }
   },
   "outputs": [
    {
     "data": {
      "text/html": [
       "<div>\n",
       "<style scoped>\n",
       "    .dataframe tbody tr th:only-of-type {\n",
       "        vertical-align: middle;\n",
       "    }\n",
       "\n",
       "    .dataframe tbody tr th {\n",
       "        vertical-align: top;\n",
       "    }\n",
       "\n",
       "    .dataframe thead th {\n",
       "        text-align: right;\n",
       "    }\n",
       "</style>\n",
       "<table border=\"1\" class=\"dataframe\">\n",
       "  <thead>\n",
       "    <tr style=\"text-align: right;\">\n",
       "      <th></th>\n",
       "      <th>age</th>\n",
       "      <th>workclass</th>\n",
       "      <th>fnlwgt</th>\n",
       "      <th>education</th>\n",
       "      <th>education-num</th>\n",
       "      <th>marital-status</th>\n",
       "      <th>occupation</th>\n",
       "      <th>relationship</th>\n",
       "      <th>race</th>\n",
       "      <th>sex</th>\n",
       "      <th>capital-gain</th>\n",
       "      <th>capital-loss</th>\n",
       "      <th>hours-per-week</th>\n",
       "      <th>native-country</th>\n",
       "      <th>target</th>\n",
       "      <th>familiarity_conviction_addition</th>\n",
       "      <th>.session_training_index</th>\n",
       "      <th>.session</th>\n",
       "      <th>distance_contribution</th>\n",
       "      <th>category</th>\n",
       "    </tr>\n",
       "  </thead>\n",
       "  <tbody>\n",
       "    <tr>\n",
       "      <th>0</th>\n",
       "      <td>27.0</td>\n",
       "      <td>4</td>\n",
       "      <td>190303.0</td>\n",
       "      <td>11</td>\n",
       "      <td>9.0</td>\n",
       "      <td>2</td>\n",
       "      <td>3</td>\n",
       "      <td>0</td>\n",
       "      <td>4</td>\n",
       "      <td>1</td>\n",
       "      <td>0.0</td>\n",
       "      <td>0.0</td>\n",
       "      <td>40.0</td>\n",
       "      <td>39</td>\n",
       "      <td>1</td>\n",
       "      <td>0.107689</td>\n",
       "      <td>647</td>\n",
       "      <td>3da08aaa-86e3-491f-bbde-9f2927ab18b8</td>\n",
       "      <td>0.142647</td>\n",
       "      <td>inlier</td>\n",
       "    </tr>\n",
       "    <tr>\n",
       "      <th>1</th>\n",
       "      <td>27.0</td>\n",
       "      <td>4</td>\n",
       "      <td>189777.0</td>\n",
       "      <td>11</td>\n",
       "      <td>9.0</td>\n",
       "      <td>2</td>\n",
       "      <td>3</td>\n",
       "      <td>0</td>\n",
       "      <td>4</td>\n",
       "      <td>1</td>\n",
       "      <td>0.0</td>\n",
       "      <td>0.0</td>\n",
       "      <td>40.0</td>\n",
       "      <td>39</td>\n",
       "      <td>1</td>\n",
       "      <td>0.108306</td>\n",
       "      <td>360</td>\n",
       "      <td>3da08aaa-86e3-491f-bbde-9f2927ab18b8</td>\n",
       "      <td>0.145811</td>\n",
       "      <td>inlier</td>\n",
       "    </tr>\n",
       "    <tr>\n",
       "      <th>2</th>\n",
       "      <td>28.0</td>\n",
       "      <td>4</td>\n",
       "      <td>190911.0</td>\n",
       "      <td>11</td>\n",
       "      <td>9.0</td>\n",
       "      <td>2</td>\n",
       "      <td>3</td>\n",
       "      <td>0</td>\n",
       "      <td>4</td>\n",
       "      <td>1</td>\n",
       "      <td>0.0</td>\n",
       "      <td>0.0</td>\n",
       "      <td>40.0</td>\n",
       "      <td>39</td>\n",
       "      <td>1</td>\n",
       "      <td>0.131639</td>\n",
       "      <td>628</td>\n",
       "      <td>3da08aaa-86e3-491f-bbde-9f2927ab18b8</td>\n",
       "      <td>0.289170</td>\n",
       "      <td>inlier</td>\n",
       "    </tr>\n",
       "    <tr>\n",
       "      <th>3</th>\n",
       "      <td>20.0</td>\n",
       "      <td>0</td>\n",
       "      <td>121023.0</td>\n",
       "      <td>15</td>\n",
       "      <td>10.0</td>\n",
       "      <td>4</td>\n",
       "      <td>0</td>\n",
       "      <td>3</td>\n",
       "      <td>4</td>\n",
       "      <td>0</td>\n",
       "      <td>0.0</td>\n",
       "      <td>0.0</td>\n",
       "      <td>40.0</td>\n",
       "      <td>39</td>\n",
       "      <td>1</td>\n",
       "      <td>0.162870</td>\n",
       "      <td>530</td>\n",
       "      <td>3da08aaa-86e3-491f-bbde-9f2927ab18b8</td>\n",
       "      <td>0.584098</td>\n",
       "      <td>inlier</td>\n",
       "    </tr>\n",
       "    <tr>\n",
       "      <th>4</th>\n",
       "      <td>20.0</td>\n",
       "      <td>0</td>\n",
       "      <td>124242.0</td>\n",
       "      <td>15</td>\n",
       "      <td>10.0</td>\n",
       "      <td>4</td>\n",
       "      <td>0</td>\n",
       "      <td>3</td>\n",
       "      <td>4</td>\n",
       "      <td>0</td>\n",
       "      <td>0.0</td>\n",
       "      <td>0.0</td>\n",
       "      <td>40.0</td>\n",
       "      <td>39</td>\n",
       "      <td>1</td>\n",
       "      <td>0.166810</td>\n",
       "      <td>79</td>\n",
       "      <td>3da08aaa-86e3-491f-bbde-9f2927ab18b8</td>\n",
       "      <td>0.617685</td>\n",
       "      <td>inlier</td>\n",
       "    </tr>\n",
       "    <tr>\n",
       "      <th>...</th>\n",
       "      <td>...</td>\n",
       "      <td>...</td>\n",
       "      <td>...</td>\n",
       "      <td>...</td>\n",
       "      <td>...</td>\n",
       "      <td>...</td>\n",
       "      <td>...</td>\n",
       "      <td>...</td>\n",
       "      <td>...</td>\n",
       "      <td>...</td>\n",
       "      <td>...</td>\n",
       "      <td>...</td>\n",
       "      <td>...</td>\n",
       "      <td>...</td>\n",
       "      <td>...</td>\n",
       "      <td>...</td>\n",
       "      <td>...</td>\n",
       "      <td>...</td>\n",
       "      <td>...</td>\n",
       "      <td>...</td>\n",
       "    </tr>\n",
       "    <tr>\n",
       "      <th>57</th>\n",
       "      <td>39.0</td>\n",
       "      <td>4</td>\n",
       "      <td>141029.0</td>\n",
       "      <td>11</td>\n",
       "      <td>9.0</td>\n",
       "      <td>2</td>\n",
       "      <td>1</td>\n",
       "      <td>5</td>\n",
       "      <td>4</td>\n",
       "      <td>0</td>\n",
       "      <td>0.0</td>\n",
       "      <td>0.0</td>\n",
       "      <td>40.0</td>\n",
       "      <td>39</td>\n",
       "      <td>0</td>\n",
       "      <td>0.477973</td>\n",
       "      <td>898</td>\n",
       "      <td>3da08aaa-86e3-491f-bbde-9f2927ab18b8</td>\n",
       "      <td>3.642304</td>\n",
       "      <td>inlier</td>\n",
       "    </tr>\n",
       "    <tr>\n",
       "      <th>58</th>\n",
       "      <td>37.0</td>\n",
       "      <td>4</td>\n",
       "      <td>99151.0</td>\n",
       "      <td>11</td>\n",
       "      <td>9.0</td>\n",
       "      <td>2</td>\n",
       "      <td>1</td>\n",
       "      <td>5</td>\n",
       "      <td>4</td>\n",
       "      <td>0</td>\n",
       "      <td>0.0</td>\n",
       "      <td>0.0</td>\n",
       "      <td>40.0</td>\n",
       "      <td>39</td>\n",
       "      <td>0</td>\n",
       "      <td>0.480398</td>\n",
       "      <td>270</td>\n",
       "      <td>3da08aaa-86e3-491f-bbde-9f2927ab18b8</td>\n",
       "      <td>3.656373</td>\n",
       "      <td>inlier</td>\n",
       "    </tr>\n",
       "    <tr>\n",
       "      <th>59</th>\n",
       "      <td>34.0</td>\n",
       "      <td>4</td>\n",
       "      <td>149507.0</td>\n",
       "      <td>11</td>\n",
       "      <td>9.0</td>\n",
       "      <td>2</td>\n",
       "      <td>3</td>\n",
       "      <td>0</td>\n",
       "      <td>4</td>\n",
       "      <td>1</td>\n",
       "      <td>0.0</td>\n",
       "      <td>0.0</td>\n",
       "      <td>55.0</td>\n",
       "      <td>39</td>\n",
       "      <td>0</td>\n",
       "      <td>0.497701</td>\n",
       "      <td>299</td>\n",
       "      <td>3da08aaa-86e3-491f-bbde-9f2927ab18b8</td>\n",
       "      <td>3.795798</td>\n",
       "      <td>inlier</td>\n",
       "    </tr>\n",
       "    <tr>\n",
       "      <th>60</th>\n",
       "      <td>40.0</td>\n",
       "      <td>2</td>\n",
       "      <td>208277.0</td>\n",
       "      <td>9</td>\n",
       "      <td>13.0</td>\n",
       "      <td>0</td>\n",
       "      <td>10</td>\n",
       "      <td>4</td>\n",
       "      <td>4</td>\n",
       "      <td>0</td>\n",
       "      <td>0.0</td>\n",
       "      <td>0.0</td>\n",
       "      <td>35.0</td>\n",
       "      <td>39</td>\n",
       "      <td>1</td>\n",
       "      <td>0.498632</td>\n",
       "      <td>643</td>\n",
       "      <td>3da08aaa-86e3-491f-bbde-9f2927ab18b8</td>\n",
       "      <td>3.839890</td>\n",
       "      <td>inlier</td>\n",
       "    </tr>\n",
       "    <tr>\n",
       "      <th>61</th>\n",
       "      <td>29.0</td>\n",
       "      <td>4</td>\n",
       "      <td>249463.0</td>\n",
       "      <td>11</td>\n",
       "      <td>9.0</td>\n",
       "      <td>2</td>\n",
       "      <td>3</td>\n",
       "      <td>0</td>\n",
       "      <td>4</td>\n",
       "      <td>1</td>\n",
       "      <td>0.0</td>\n",
       "      <td>0.0</td>\n",
       "      <td>50.0</td>\n",
       "      <td>39</td>\n",
       "      <td>1</td>\n",
       "      <td>0.499002</td>\n",
       "      <td>329</td>\n",
       "      <td>3da08aaa-86e3-491f-bbde-9f2927ab18b8</td>\n",
       "      <td>3.804603</td>\n",
       "      <td>inlier</td>\n",
       "    </tr>\n",
       "  </tbody>\n",
       "</table>\n",
       "<p>62 rows × 20 columns</p>\n",
       "</div>"
      ],
      "text/plain": [
       "     age  workclass    fnlwgt  education  education-num  marital-status  \\\n",
       "0   27.0          4  190303.0         11            9.0               2   \n",
       "1   27.0          4  189777.0         11            9.0               2   \n",
       "2   28.0          4  190911.0         11            9.0               2   \n",
       "3   20.0          0  121023.0         15           10.0               4   \n",
       "4   20.0          0  124242.0         15           10.0               4   \n",
       "..   ...        ...       ...        ...            ...             ...   \n",
       "57  39.0          4  141029.0         11            9.0               2   \n",
       "58  37.0          4   99151.0         11            9.0               2   \n",
       "59  34.0          4  149507.0         11            9.0               2   \n",
       "60  40.0          2  208277.0          9           13.0               0   \n",
       "61  29.0          4  249463.0         11            9.0               2   \n",
       "\n",
       "    occupation  relationship  race  sex  capital-gain  capital-loss  \\\n",
       "0            3             0     4    1           0.0           0.0   \n",
       "1            3             0     4    1           0.0           0.0   \n",
       "2            3             0     4    1           0.0           0.0   \n",
       "3            0             3     4    0           0.0           0.0   \n",
       "4            0             3     4    0           0.0           0.0   \n",
       "..         ...           ...   ...  ...           ...           ...   \n",
       "57           1             5     4    0           0.0           0.0   \n",
       "58           1             5     4    0           0.0           0.0   \n",
       "59           3             0     4    1           0.0           0.0   \n",
       "60          10             4     4    0           0.0           0.0   \n",
       "61           3             0     4    1           0.0           0.0   \n",
       "\n",
       "    hours-per-week  native-country  target  familiarity_conviction_addition  \\\n",
       "0             40.0              39       1                         0.107689   \n",
       "1             40.0              39       1                         0.108306   \n",
       "2             40.0              39       1                         0.131639   \n",
       "3             40.0              39       1                         0.162870   \n",
       "4             40.0              39       1                         0.166810   \n",
       "..             ...             ...     ...                              ...   \n",
       "57            40.0              39       0                         0.477973   \n",
       "58            40.0              39       0                         0.480398   \n",
       "59            55.0              39       0                         0.497701   \n",
       "60            35.0              39       1                         0.498632   \n",
       "61            50.0              39       1                         0.499002   \n",
       "\n",
       "    .session_training_index                              .session  \\\n",
       "0                       647  3da08aaa-86e3-491f-bbde-9f2927ab18b8   \n",
       "1                       360  3da08aaa-86e3-491f-bbde-9f2927ab18b8   \n",
       "2                       628  3da08aaa-86e3-491f-bbde-9f2927ab18b8   \n",
       "3                       530  3da08aaa-86e3-491f-bbde-9f2927ab18b8   \n",
       "4                        79  3da08aaa-86e3-491f-bbde-9f2927ab18b8   \n",
       "..                      ...                                   ...   \n",
       "57                      898  3da08aaa-86e3-491f-bbde-9f2927ab18b8   \n",
       "58                      270  3da08aaa-86e3-491f-bbde-9f2927ab18b8   \n",
       "59                      299  3da08aaa-86e3-491f-bbde-9f2927ab18b8   \n",
       "60                      643  3da08aaa-86e3-491f-bbde-9f2927ab18b8   \n",
       "61                      329  3da08aaa-86e3-491f-bbde-9f2927ab18b8   \n",
       "\n",
       "    distance_contribution category  \n",
       "0                0.142647   inlier  \n",
       "1                0.145811   inlier  \n",
       "2                0.289170   inlier  \n",
       "3                0.584098   inlier  \n",
       "4                0.617685   inlier  \n",
       "..                    ...      ...  \n",
       "57               3.642304   inlier  \n",
       "58               3.656373   inlier  \n",
       "59               3.795798   inlier  \n",
       "60               3.839890   inlier  \n",
       "61               3.804603   inlier  \n",
       "\n",
       "[62 rows x 20 columns]"
      ]
     },
     "execution_count": 14,
     "metadata": {},
     "output_type": "execute_result"
    }
   ],
   "source": [
    "# Get the inlier cases\n",
    "inliers = low_convicts[low_convicts['category'] == 'inlier'].reset_index(drop=True)\n",
    "inliers"
   ]
  },
  {
   "cell_type": "markdown",
   "id": "e4c7a740",
   "metadata": {},
   "source": [
    "Similarly to what we did with the outliers, we will use the Feature Residual Convictions to understand what feature values are unusual. In this case, we may expect to see many feature values with very high convictions, indicating that the feature value is particularly unsurprising."
   ]
  },
  {
   "cell_type": "code",
   "execution_count": 15,
   "id": "096f14f8-2048-441f-98f0-f828104c7be4",
   "metadata": {
    "execution": {
     "iopub.execute_input": "2025-09-02T19:43:54.286831Z",
     "iopub.status.busy": "2025-09-02T19:43:54.286646Z",
     "iopub.status.idle": "2025-09-02T19:43:56.223694Z",
     "shell.execute_reply": "2025-09-02T19:43:56.223064Z"
    }
   },
   "outputs": [],
   "source": [
    "# Specify the inlier cases\n",
    "inliers_indices = inliers[['.session', '.session_training_index']].values\n",
    "\n",
    "# React to get the details of each case\n",
    "results = t.react(case_indices=inliers_indices,\n",
    "                  preserve_feature_values=df.columns.tolist(),\n",
    "                  leave_case_out=True,\n",
    "                  details=details)"
   ]
  },
  {
   "cell_type": "code",
   "execution_count": 16,
   "id": "e7fdb0be-635c-4bb0-99dd-5c8f0ede8022",
   "metadata": {
    "execution": {
     "iopub.execute_input": "2025-09-02T19:43:56.226180Z",
     "iopub.status.busy": "2025-09-02T19:43:56.225899Z",
     "iopub.status.idle": "2025-09-02T19:43:56.229962Z",
     "shell.execute_reply": "2025-09-02T19:43:56.229454Z"
    }
   },
   "outputs": [],
   "source": [
    "# Extract the case feature residual convictions\n",
    "case_feature_residual_convictions = pd.DataFrame(results['details']['feature_full_residual_convictions_for_case'])[df.columns.tolist()]"
   ]
  },
  {
   "cell_type": "code",
   "execution_count": 17,
   "id": "981d6618-0d97-464b-93e8-053e51db44ad",
   "metadata": {
    "execution": {
     "iopub.execute_input": "2025-09-02T19:43:56.231591Z",
     "iopub.status.busy": "2025-09-02T19:43:56.231408Z",
     "iopub.status.idle": "2025-09-02T19:43:57.732077Z",
     "shell.execute_reply": "2025-09-02T19:43:57.731372Z"
    }
   },
   "outputs": [
    {
     "data": {
      "application/vnd.plotly.v1+json": {
       "config": {
        "plotlyServerURL": "https://plot.ly"
       },
       "data": [
        {
         "coloraxis": "coloraxis",
         "hovertemplate": "Conviction=%{z}",
         "name": "Outliers",
         "text": [
          [
           "27.0",
           "4",
           "190303.0",
           "11",
           "9.0",
           "2",
           "3",
           "0",
           "4",
           "1",
           "0.0",
           "0.0",
           "40.0",
           "39",
           "1",
           "0.10768870764582117",
           "647",
           "3da08aaa-86e3-491f-bbde-9f2927ab18b8",
           "0.1426465126774094",
           "inlier"
          ],
          [
           "27.0",
           "4",
           "189777.0",
           "11",
           "9.0",
           "2",
           "3",
           "0",
           "4",
           "1",
           "0.0",
           "0.0",
           "40.0",
           "39",
           "1",
           "0.10830580611751324",
           "360",
           "3da08aaa-86e3-491f-bbde-9f2927ab18b8",
           "0.14581148652571949",
           "inlier"
          ],
          [
           "28.0",
           "4",
           "190911.0",
           "11",
           "9.0",
           "2",
           "3",
           "0",
           "4",
           "1",
           "0.0",
           "0.0",
           "40.0",
           "39",
           "1",
           "0.13163864176559714",
           "628",
           "3da08aaa-86e3-491f-bbde-9f2927ab18b8",
           "0.28917004043419137",
           "inlier"
          ],
          [
           "20.0",
           "0",
           "121023.0",
           "15",
           "10.0",
           "4",
           "0",
           "3",
           "4",
           "0",
           "0.0",
           "0.0",
           "40.0",
           "39",
           "1",
           "0.162870095947655",
           "530",
           "3da08aaa-86e3-491f-bbde-9f2927ab18b8",
           "0.5840984747106692",
           "inlier"
          ],
          [
           "20.0",
           "0",
           "124242.0",
           "15",
           "10.0",
           "4",
           "0",
           "3",
           "4",
           "0",
           "0.0",
           "0.0",
           "40.0",
           "39",
           "1",
           "0.166810242127282",
           "79",
           "3da08aaa-86e3-491f-bbde-9f2927ab18b8",
           "0.6176847609885024",
           "inlier"
          ]
         ],
         "texttemplate": "%{text}",
         "type": "heatmap",
         "x": [
          "age",
          "workclass",
          "fnlwgt",
          "education",
          "education-num",
          "marital-status",
          "occupation",
          "relationship",
          "race",
          "sex",
          "capital-gain",
          "capital-loss",
          "hours-per-week",
          "native-country",
          "target"
         ],
         "xgap": 3,
         "y": {
          "bdata": "AAECAwQ=",
          "dtype": "i1"
         },
         "ygap": 3,
         "z": {
          "bdata": "sw0d0EVb5z/Baxk5th3xP+AWKilt2/A/AAAAAAAA8D8AAAAAAADwPwAAAAAAAPA/qkFoYeSE8j8AAAAAAADwPwAAAAAAAPA/AAAAAAAA8D8AAAAAAADwPzJU9i/Y3O8/ekQPaxnY7j8AAAAAAADwP7y2y8/SkgVAfV3JmERb5z+0HTGJ2B3xP2KKZXYgK/A/AAAAAAAA8D8AAAAAAADwPwAAAAAAAPA/SImqD5+E8j8AAAAAAADwPwAAAAAAAPA/AAAAAAAA8D8AAAAAAADwP+ikmdHY3O8/XffArwDY7j8AAAAAAADwP9WNgm/ukgVA5GbAILsa6T/0kq8iEQzxP8IxvS8cFfM/AAAAAAAA8D8AAAAAAADwPwAAAAAAAPA/lpad3CqN8j8AAAAAAADwPwAAAAAAAPA/AAAAAAAA8D8AAAAAAADwP79ZXqvY3O8/1KZgmYEE8T8AAAAAAADwP8HXUenhkQVAcrB/qcql7D8AAAAAAADwP7psH91o4eo/AAAAAAAA8D8AAAAAAADwPwAAAAAAAPA/AAAAAAAA8D8lUwksFOX5P9DKut3Gx+g/nlx/JfW98z8AAAAAAADwPwAAAAAAAPA/77Tpknrd8D8AAAAAAADwPwAAAAAAAPA/wAuuIeOl7D8AAAAAAADwPx7Q8Hdw1Ow/AAAAAAAA8D8AAAAAAADwPwAAAAAAAPA/AAAAAAAA8D9Ldw4gtuX5P3BvR/zH6Og//ETbGZWI9D8AAAAAAADwPwAAAAAAAPA/P4kFd5Td8D8AAAAAAADwPwAAAAAAAPA/",
          "dtype": "f8",
          "shape": "5, 15"
         }
        }
       ],
       "layout": {
        "coloraxis": {
         "cmax": 5,
         "cmin": 0,
         "colorbar": {
          "ticktext": [
           "0",
           "0.5",
           "1",
           "1.5",
           "2",
           "2.5",
           "3",
           "3.5",
           "4",
           "4.5",
           "≥5"
          ],
          "tickvals": [
           0,
           0.5,
           1,
           1.5,
           2,
           2.5,
           3,
           3.5,
           4,
           4.5,
           5
          ],
          "title": {
           "text": "Conviction"
          }
         },
         "colorscale": [
          [
           0,
           "rgb(103,0,31)"
          ],
          [
           0.2,
           "rgb(247, 247, 247)"
          ],
          [
           0.4,
           "rgb(67,147,195)"
          ],
          [
           1,
           "rgb(5,48,97)"
          ]
         ]
        },
        "template": {
         "data": {
          "bar": [
           {
            "error_x": {
             "color": "#2a3f5f"
            },
            "error_y": {
             "color": "#2a3f5f"
            },
            "marker": {
             "line": {
              "color": "#E5ECF6",
              "width": 0.5
             },
             "pattern": {
              "fillmode": "overlay",
              "size": 10,
              "solidity": 0.2
             }
            },
            "type": "bar"
           }
          ],
          "barpolar": [
           {
            "marker": {
             "line": {
              "color": "#E5ECF6",
              "width": 0.5
             },
             "pattern": {
              "fillmode": "overlay",
              "size": 10,
              "solidity": 0.2
             }
            },
            "type": "barpolar"
           }
          ],
          "carpet": [
           {
            "aaxis": {
             "endlinecolor": "#2a3f5f",
             "gridcolor": "white",
             "linecolor": "white",
             "minorgridcolor": "white",
             "startlinecolor": "#2a3f5f"
            },
            "baxis": {
             "endlinecolor": "#2a3f5f",
             "gridcolor": "white",
             "linecolor": "white",
             "minorgridcolor": "white",
             "startlinecolor": "#2a3f5f"
            },
            "type": "carpet"
           }
          ],
          "choropleth": [
           {
            "colorbar": {
             "outlinewidth": 0,
             "ticks": ""
            },
            "type": "choropleth"
           }
          ],
          "contour": [
           {
            "colorbar": {
             "outlinewidth": 0,
             "ticks": ""
            },
            "colorscale": [
             [
              0,
              "#0d0887"
             ],
             [
              0.1111111111111111,
              "#46039f"
             ],
             [
              0.2222222222222222,
              "#7201a8"
             ],
             [
              0.3333333333333333,
              "#9c179e"
             ],
             [
              0.4444444444444444,
              "#bd3786"
             ],
             [
              0.5555555555555556,
              "#d8576b"
             ],
             [
              0.6666666666666666,
              "#ed7953"
             ],
             [
              0.7777777777777778,
              "#fb9f3a"
             ],
             [
              0.8888888888888888,
              "#fdca26"
             ],
             [
              1,
              "#f0f921"
             ]
            ],
            "type": "contour"
           }
          ],
          "contourcarpet": [
           {
            "colorbar": {
             "outlinewidth": 0,
             "ticks": ""
            },
            "type": "contourcarpet"
           }
          ],
          "heatmap": [
           {
            "colorbar": {
             "outlinewidth": 0,
             "ticks": ""
            },
            "colorscale": [
             [
              0,
              "#0d0887"
             ],
             [
              0.1111111111111111,
              "#46039f"
             ],
             [
              0.2222222222222222,
              "#7201a8"
             ],
             [
              0.3333333333333333,
              "#9c179e"
             ],
             [
              0.4444444444444444,
              "#bd3786"
             ],
             [
              0.5555555555555556,
              "#d8576b"
             ],
             [
              0.6666666666666666,
              "#ed7953"
             ],
             [
              0.7777777777777778,
              "#fb9f3a"
             ],
             [
              0.8888888888888888,
              "#fdca26"
             ],
             [
              1,
              "#f0f921"
             ]
            ],
            "type": "heatmap"
           }
          ],
          "histogram": [
           {
            "marker": {
             "pattern": {
              "fillmode": "overlay",
              "size": 10,
              "solidity": 0.2
             }
            },
            "type": "histogram"
           }
          ],
          "histogram2d": [
           {
            "colorbar": {
             "outlinewidth": 0,
             "ticks": ""
            },
            "colorscale": [
             [
              0,
              "#0d0887"
             ],
             [
              0.1111111111111111,
              "#46039f"
             ],
             [
              0.2222222222222222,
              "#7201a8"
             ],
             [
              0.3333333333333333,
              "#9c179e"
             ],
             [
              0.4444444444444444,
              "#bd3786"
             ],
             [
              0.5555555555555556,
              "#d8576b"
             ],
             [
              0.6666666666666666,
              "#ed7953"
             ],
             [
              0.7777777777777778,
              "#fb9f3a"
             ],
             [
              0.8888888888888888,
              "#fdca26"
             ],
             [
              1,
              "#f0f921"
             ]
            ],
            "type": "histogram2d"
           }
          ],
          "histogram2dcontour": [
           {
            "colorbar": {
             "outlinewidth": 0,
             "ticks": ""
            },
            "colorscale": [
             [
              0,
              "#0d0887"
             ],
             [
              0.1111111111111111,
              "#46039f"
             ],
             [
              0.2222222222222222,
              "#7201a8"
             ],
             [
              0.3333333333333333,
              "#9c179e"
             ],
             [
              0.4444444444444444,
              "#bd3786"
             ],
             [
              0.5555555555555556,
              "#d8576b"
             ],
             [
              0.6666666666666666,
              "#ed7953"
             ],
             [
              0.7777777777777778,
              "#fb9f3a"
             ],
             [
              0.8888888888888888,
              "#fdca26"
             ],
             [
              1,
              "#f0f921"
             ]
            ],
            "type": "histogram2dcontour"
           }
          ],
          "mesh3d": [
           {
            "colorbar": {
             "outlinewidth": 0,
             "ticks": ""
            },
            "type": "mesh3d"
           }
          ],
          "parcoords": [
           {
            "line": {
             "colorbar": {
              "outlinewidth": 0,
              "ticks": ""
             }
            },
            "type": "parcoords"
           }
          ],
          "pie": [
           {
            "automargin": true,
            "type": "pie"
           }
          ],
          "scatter": [
           {
            "fillpattern": {
             "fillmode": "overlay",
             "size": 10,
             "solidity": 0.2
            },
            "type": "scatter"
           }
          ],
          "scatter3d": [
           {
            "line": {
             "colorbar": {
              "outlinewidth": 0,
              "ticks": ""
             }
            },
            "marker": {
             "colorbar": {
              "outlinewidth": 0,
              "ticks": ""
             }
            },
            "type": "scatter3d"
           }
          ],
          "scattercarpet": [
           {
            "marker": {
             "colorbar": {
              "outlinewidth": 0,
              "ticks": ""
             }
            },
            "type": "scattercarpet"
           }
          ],
          "scattergeo": [
           {
            "marker": {
             "colorbar": {
              "outlinewidth": 0,
              "ticks": ""
             }
            },
            "type": "scattergeo"
           }
          ],
          "scattergl": [
           {
            "marker": {
             "colorbar": {
              "outlinewidth": 0,
              "ticks": ""
             }
            },
            "type": "scattergl"
           }
          ],
          "scattermap": [
           {
            "marker": {
             "colorbar": {
              "outlinewidth": 0,
              "ticks": ""
             }
            },
            "type": "scattermap"
           }
          ],
          "scattermapbox": [
           {
            "marker": {
             "colorbar": {
              "outlinewidth": 0,
              "ticks": ""
             }
            },
            "type": "scattermapbox"
           }
          ],
          "scatterpolar": [
           {
            "marker": {
             "colorbar": {
              "outlinewidth": 0,
              "ticks": ""
             }
            },
            "type": "scatterpolar"
           }
          ],
          "scatterpolargl": [
           {
            "marker": {
             "colorbar": {
              "outlinewidth": 0,
              "ticks": ""
             }
            },
            "type": "scatterpolargl"
           }
          ],
          "scatterternary": [
           {
            "marker": {
             "colorbar": {
              "outlinewidth": 0,
              "ticks": ""
             }
            },
            "type": "scatterternary"
           }
          ],
          "surface": [
           {
            "colorbar": {
             "outlinewidth": 0,
             "ticks": ""
            },
            "colorscale": [
             [
              0,
              "#0d0887"
             ],
             [
              0.1111111111111111,
              "#46039f"
             ],
             [
              0.2222222222222222,
              "#7201a8"
             ],
             [
              0.3333333333333333,
              "#9c179e"
             ],
             [
              0.4444444444444444,
              "#bd3786"
             ],
             [
              0.5555555555555556,
              "#d8576b"
             ],
             [
              0.6666666666666666,
              "#ed7953"
             ],
             [
              0.7777777777777778,
              "#fb9f3a"
             ],
             [
              0.8888888888888888,
              "#fdca26"
             ],
             [
              1,
              "#f0f921"
             ]
            ],
            "type": "surface"
           }
          ],
          "table": [
           {
            "cells": {
             "fill": {
              "color": "#EBF0F8"
             },
             "line": {
              "color": "white"
             }
            },
            "header": {
             "fill": {
              "color": "#C8D4E3"
             },
             "line": {
              "color": "white"
             }
            },
            "type": "table"
           }
          ]
         },
         "layout": {
          "annotationdefaults": {
           "arrowcolor": "#2a3f5f",
           "arrowhead": 0,
           "arrowwidth": 1
          },
          "autotypenumbers": "strict",
          "coloraxis": {
           "colorbar": {
            "outlinewidth": 0,
            "ticks": ""
           }
          },
          "colorscale": {
           "diverging": [
            [
             0,
             "#8e0152"
            ],
            [
             0.1,
             "#c51b7d"
            ],
            [
             0.2,
             "#de77ae"
            ],
            [
             0.3,
             "#f1b6da"
            ],
            [
             0.4,
             "#fde0ef"
            ],
            [
             0.5,
             "#f7f7f7"
            ],
            [
             0.6,
             "#e6f5d0"
            ],
            [
             0.7,
             "#b8e186"
            ],
            [
             0.8,
             "#7fbc41"
            ],
            [
             0.9,
             "#4d9221"
            ],
            [
             1,
             "#276419"
            ]
           ],
           "sequential": [
            [
             0,
             "#0d0887"
            ],
            [
             0.1111111111111111,
             "#46039f"
            ],
            [
             0.2222222222222222,
             "#7201a8"
            ],
            [
             0.3333333333333333,
             "#9c179e"
            ],
            [
             0.4444444444444444,
             "#bd3786"
            ],
            [
             0.5555555555555556,
             "#d8576b"
            ],
            [
             0.6666666666666666,
             "#ed7953"
            ],
            [
             0.7777777777777778,
             "#fb9f3a"
            ],
            [
             0.8888888888888888,
             "#fdca26"
            ],
            [
             1,
             "#f0f921"
            ]
           ],
           "sequentialminus": [
            [
             0,
             "#0d0887"
            ],
            [
             0.1111111111111111,
             "#46039f"
            ],
            [
             0.2222222222222222,
             "#7201a8"
            ],
            [
             0.3333333333333333,
             "#9c179e"
            ],
            [
             0.4444444444444444,
             "#bd3786"
            ],
            [
             0.5555555555555556,
             "#d8576b"
            ],
            [
             0.6666666666666666,
             "#ed7953"
            ],
            [
             0.7777777777777778,
             "#fb9f3a"
            ],
            [
             0.8888888888888888,
             "#fdca26"
            ],
            [
             1,
             "#f0f921"
            ]
           ]
          },
          "colorway": [
           "#636efa",
           "#EF553B",
           "#00cc96",
           "#ab63fa",
           "#FFA15A",
           "#19d3f3",
           "#FF6692",
           "#B6E880",
           "#FF97FF",
           "#FECB52"
          ],
          "font": {
           "color": "#2a3f5f"
          },
          "geo": {
           "bgcolor": "white",
           "lakecolor": "white",
           "landcolor": "#E5ECF6",
           "showlakes": true,
           "showland": true,
           "subunitcolor": "white"
          },
          "hoverlabel": {
           "align": "left"
          },
          "hovermode": "closest",
          "mapbox": {
           "style": "light"
          },
          "paper_bgcolor": "white",
          "plot_bgcolor": "#E5ECF6",
          "polar": {
           "angularaxis": {
            "gridcolor": "white",
            "linecolor": "white",
            "ticks": ""
           },
           "bgcolor": "#E5ECF6",
           "radialaxis": {
            "gridcolor": "white",
            "linecolor": "white",
            "ticks": ""
           }
          },
          "scene": {
           "xaxis": {
            "backgroundcolor": "#E5ECF6",
            "gridcolor": "white",
            "gridwidth": 2,
            "linecolor": "white",
            "showbackground": true,
            "ticks": "",
            "zerolinecolor": "white"
           },
           "yaxis": {
            "backgroundcolor": "#E5ECF6",
            "gridcolor": "white",
            "gridwidth": 2,
            "linecolor": "white",
            "showbackground": true,
            "ticks": "",
            "zerolinecolor": "white"
           },
           "zaxis": {
            "backgroundcolor": "#E5ECF6",
            "gridcolor": "white",
            "gridwidth": 2,
            "linecolor": "white",
            "showbackground": true,
            "ticks": "",
            "zerolinecolor": "white"
           }
          },
          "shapedefaults": {
           "line": {
            "color": "#2a3f5f"
           }
          },
          "ternary": {
           "aaxis": {
            "gridcolor": "white",
            "linecolor": "white",
            "ticks": ""
           },
           "baxis": {
            "gridcolor": "white",
            "linecolor": "white",
            "ticks": ""
           },
           "bgcolor": "#E5ECF6",
           "caxis": {
            "gridcolor": "white",
            "linecolor": "white",
            "ticks": ""
           }
          },
          "title": {
           "x": 0.05
          },
          "xaxis": {
           "automargin": true,
           "gridcolor": "white",
           "linecolor": "white",
           "ticks": "",
           "title": {
            "standoff": 15
           },
           "zerolinecolor": "white",
           "zerolinewidth": 2
          },
          "yaxis": {
           "automargin": true,
           "gridcolor": "white",
           "linecolor": "white",
           "ticks": "",
           "title": {
            "standoff": 15
           },
           "zerolinecolor": "white",
           "zerolinewidth": 2
          }
         }
        },
        "title": {
         "text": "Inliers"
        },
        "xaxis": {
         "anchor": "y",
         "domain": [
          0,
          1
         ],
         "title": {
          "text": "Feature"
         }
        },
        "yaxis": {
         "anchor": "x",
         "autorange": "reversed",
         "domain": [
          0,
          1
         ],
         "title": {
          "text": "Residual Conviction"
         }
        }
       }
      }
     },
     "metadata": {},
     "output_type": "display_data"
    }
   ],
   "source": [
    "fig = plot_anomalies(inliers, case_feature_residual_convictions, title=\"Inliers\", yaxis_title=\"Residual Conviction\")\n",
    "fig.show(width=1500, height=750)"
   ]
  },
  {
   "attachments": {},
   "cell_type": "markdown",
   "id": "4d444dae-f0dc-4faf-9034-6dc990f6ffdb",
   "metadata": {},
   "source": [
    "The heat map explains the reason why each case was an inlier. The more unspurprising the value is. If this seems unintuitive, imagine a dataset where values are always hard to predict with an error of less than 15.0. If a case were to suddenly appear where every value was predicted perfectly, its Feature Residual Conviction values would all be extremely high (dark blue in the case of this visualization)."
   ]
  },
  {
   "attachments": {},
   "cell_type": "markdown",
   "id": "0f5def89-aec8-48f3-98f8-8a1790405757",
   "metadata": {},
   "source": [
    "# Section 4: Finding Potential Improvements in the Dataset\n",
    "\n",
    "Sparse regions of the model or under defined problems can make it difficult to make an accurate prediction. Howso Engine can be used to identify potential data, or model improvements by examining the residual conviction and density.\n",
    "\n",
    "## Step 1: Compute Case Feature Residual Convictions\n",
    "\n",
    "Case Feature Residual Convicion is a ratio of the local residual for each feature to the case residual. Inspecting these conviction values helps users understand what regions of their data are easier or more difficult to predict compared to the average across the dataset.\n",
    "\n",
    "Understanding this can help users understand where more data collection may be beneficial."
   ]
  },
  {
   "cell_type": "code",
   "execution_count": 18,
   "id": "b1e9c25f-f263-41ea-9ea7-3d8e6247ea6d",
   "metadata": {
    "execution": {
     "iopub.execute_input": "2025-09-02T19:43:57.734144Z",
     "iopub.status.busy": "2025-09-02T19:43:57.733929Z",
     "iopub.status.idle": "2025-09-02T19:43:57.737350Z",
     "shell.execute_reply": "2025-09-02T19:43:57.736831Z"
    }
   },
   "outputs": [],
   "source": [
    "# Identify cases for investigation\n",
    "partial_train_df = stored_convictions\n",
    "partial_train_cases = partial_train_df[['.session', '.session_training_index']]"
   ]
  },
  {
   "cell_type": "code",
   "execution_count": 19,
   "id": "2720f5e9-3373-4c24-92bb-1e88c26ba287",
   "metadata": {
    "execution": {
     "iopub.execute_input": "2025-09-02T19:43:57.739096Z",
     "iopub.status.busy": "2025-09-02T19:43:57.738881Z",
     "iopub.status.idle": "2025-09-02T19:44:00.163290Z",
     "shell.execute_reply": "2025-09-02T19:44:00.162554Z"
    }
   },
   "outputs": [],
   "source": [
    "# Residual convictions are output via the case_feature_residual_convictions explanation\n",
    "details = {\n",
    "    'feature_full_residual_convictions_for_case':True,\n",
    "    'features': ['target'],\n",
    "}\n",
    "\n",
    "# Get the residual convictions for the specified cases\n",
    "new_result = t.react(case_indices=partial_train_cases.values.tolist(),\n",
    "                     leave_case_out=True,\n",
    "                     preserve_feature_values=df.drop(action_features, axis=1).columns.tolist(),\n",
    "                     action_features=action_features,\n",
    "                     details=details)"
   ]
  },
  {
   "cell_type": "code",
   "execution_count": 20,
   "id": "a6b08957-6417-415e-89ed-3a70c324678d",
   "metadata": {
    "execution": {
     "iopub.execute_input": "2025-09-02T19:44:00.165514Z",
     "iopub.status.busy": "2025-09-02T19:44:00.165316Z",
     "iopub.status.idle": "2025-09-02T19:44:00.170744Z",
     "shell.execute_reply": "2025-09-02T19:44:00.170079Z"
    }
   },
   "outputs": [],
   "source": [
    "# Extract residual conviction\n",
    "target_residual_convictions = [ x['target'] for x in new_result['details']['feature_full_residual_convictions_for_case'] ]\n",
    "\n",
    "# Binarize residual conviction\n",
    "convict_threshold = 0.50\n",
    "low_residual_conviction = [1 if x <= convict_threshold else 0 for x in target_residual_convictions]\n",
    "\n",
    "# Density is just the inverse of distance_contribution\n",
    "density = 1 / partial_train_df['distance_contribution']\n",
    "\n",
    "# Add new features to the dataframe\n",
    "partial_train_df['density'] = density\n",
    "partial_train_df['target_residual_conviction'] = target_residual_convictions\n",
    "partial_train_df['low_residual_conviction'] = low_residual_conviction"
   ]
  },
  {
   "cell_type": "code",
   "execution_count": 21,
   "id": "a658e9b0-5d57-4647-bf94-2120a5bad6cf",
   "metadata": {
    "execution": {
     "iopub.execute_input": "2025-09-02T19:44:00.172505Z",
     "iopub.status.busy": "2025-09-02T19:44:00.172314Z",
     "iopub.status.idle": "2025-09-02T19:44:00.190486Z",
     "shell.execute_reply": "2025-09-02T19:44:00.189805Z"
    }
   },
   "outputs": [
    {
     "data": {
      "text/html": [
       "<div>\n",
       "<style scoped>\n",
       "    .dataframe tbody tr th:only-of-type {\n",
       "        vertical-align: middle;\n",
       "    }\n",
       "\n",
       "    .dataframe tbody tr th {\n",
       "        vertical-align: top;\n",
       "    }\n",
       "\n",
       "    .dataframe thead th {\n",
       "        text-align: right;\n",
       "    }\n",
       "</style>\n",
       "<table border=\"1\" class=\"dataframe\">\n",
       "  <thead>\n",
       "    <tr style=\"text-align: right;\">\n",
       "      <th></th>\n",
       "      <th>age</th>\n",
       "      <th>workclass</th>\n",
       "      <th>fnlwgt</th>\n",
       "      <th>education</th>\n",
       "      <th>education-num</th>\n",
       "      <th>marital-status</th>\n",
       "      <th>occupation</th>\n",
       "      <th>relationship</th>\n",
       "      <th>race</th>\n",
       "      <th>sex</th>\n",
       "      <th>...</th>\n",
       "      <th>hours-per-week</th>\n",
       "      <th>native-country</th>\n",
       "      <th>target</th>\n",
       "      <th>familiarity_conviction_addition</th>\n",
       "      <th>.session_training_index</th>\n",
       "      <th>.session</th>\n",
       "      <th>distance_contribution</th>\n",
       "      <th>density</th>\n",
       "      <th>target_residual_conviction</th>\n",
       "      <th>low_residual_conviction</th>\n",
       "    </tr>\n",
       "  </thead>\n",
       "  <tbody>\n",
       "    <tr>\n",
       "      <th>0</th>\n",
       "      <td>36.0</td>\n",
       "      <td>4</td>\n",
       "      <td>113397.0</td>\n",
       "      <td>11</td>\n",
       "      <td>9.0</td>\n",
       "      <td>2</td>\n",
       "      <td>6</td>\n",
       "      <td>0</td>\n",
       "      <td>4</td>\n",
       "      <td>1</td>\n",
       "      <td>...</td>\n",
       "      <td>40.0</td>\n",
       "      <td>39</td>\n",
       "      <td>1</td>\n",
       "      <td>0.593978</td>\n",
       "      <td>0</td>\n",
       "      <td>3da08aaa-86e3-491f-bbde-9f2927ab18b8</td>\n",
       "      <td>4.820333</td>\n",
       "      <td>0.207455</td>\n",
       "      <td>1.160600</td>\n",
       "      <td>0</td>\n",
       "    </tr>\n",
       "    <tr>\n",
       "      <th>1</th>\n",
       "      <td>35.0</td>\n",
       "      <td>7</td>\n",
       "      <td>225385.0</td>\n",
       "      <td>11</td>\n",
       "      <td>9.0</td>\n",
       "      <td>0</td>\n",
       "      <td>10</td>\n",
       "      <td>4</td>\n",
       "      <td>4</td>\n",
       "      <td>0</td>\n",
       "      <td>...</td>\n",
       "      <td>40.0</td>\n",
       "      <td>39</td>\n",
       "      <td>1</td>\n",
       "      <td>1.991966</td>\n",
       "      <td>1</td>\n",
       "      <td>3da08aaa-86e3-491f-bbde-9f2927ab18b8</td>\n",
       "      <td>9.662678</td>\n",
       "      <td>0.103491</td>\n",
       "      <td>0.969059</td>\n",
       "      <td>0</td>\n",
       "    </tr>\n",
       "    <tr>\n",
       "      <th>2</th>\n",
       "      <td>59.0</td>\n",
       "      <td>2</td>\n",
       "      <td>120617.0</td>\n",
       "      <td>11</td>\n",
       "      <td>9.0</td>\n",
       "      <td>5</td>\n",
       "      <td>11</td>\n",
       "      <td>4</td>\n",
       "      <td>2</td>\n",
       "      <td>0</td>\n",
       "      <td>...</td>\n",
       "      <td>40.0</td>\n",
       "      <td>39</td>\n",
       "      <td>1</td>\n",
       "      <td>3.342784</td>\n",
       "      <td>2</td>\n",
       "      <td>3da08aaa-86e3-491f-bbde-9f2927ab18b8</td>\n",
       "      <td>11.614757</td>\n",
       "      <td>0.086097</td>\n",
       "      <td>0.967719</td>\n",
       "      <td>0</td>\n",
       "    </tr>\n",
       "    <tr>\n",
       "      <th>3</th>\n",
       "      <td>33.0</td>\n",
       "      <td>4</td>\n",
       "      <td>101352.0</td>\n",
       "      <td>14</td>\n",
       "      <td>15.0</td>\n",
       "      <td>4</td>\n",
       "      <td>10</td>\n",
       "      <td>1</td>\n",
       "      <td>4</td>\n",
       "      <td>0</td>\n",
       "      <td>...</td>\n",
       "      <td>50.0</td>\n",
       "      <td>39</td>\n",
       "      <td>0</td>\n",
       "      <td>16.918810</td>\n",
       "      <td>3</td>\n",
       "      <td>3da08aaa-86e3-491f-bbde-9f2927ab18b8</td>\n",
       "      <td>18.443925</td>\n",
       "      <td>0.054218</td>\n",
       "      <td>1.139972</td>\n",
       "      <td>0</td>\n",
       "    </tr>\n",
       "    <tr>\n",
       "      <th>4</th>\n",
       "      <td>61.0</td>\n",
       "      <td>4</td>\n",
       "      <td>92691.0</td>\n",
       "      <td>11</td>\n",
       "      <td>9.0</td>\n",
       "      <td>2</td>\n",
       "      <td>1</td>\n",
       "      <td>0</td>\n",
       "      <td>4</td>\n",
       "      <td>1</td>\n",
       "      <td>...</td>\n",
       "      <td>3.0</td>\n",
       "      <td>39</td>\n",
       "      <td>1</td>\n",
       "      <td>7.101202</td>\n",
       "      <td>4</td>\n",
       "      <td>3da08aaa-86e3-491f-bbde-9f2927ab18b8</td>\n",
       "      <td>18.449176</td>\n",
       "      <td>0.054203</td>\n",
       "      <td>1.508996</td>\n",
       "      <td>0</td>\n",
       "    </tr>\n",
       "    <tr>\n",
       "      <th>...</th>\n",
       "      <td>...</td>\n",
       "      <td>...</td>\n",
       "      <td>...</td>\n",
       "      <td>...</td>\n",
       "      <td>...</td>\n",
       "      <td>...</td>\n",
       "      <td>...</td>\n",
       "      <td>...</td>\n",
       "      <td>...</td>\n",
       "      <td>...</td>\n",
       "      <td>...</td>\n",
       "      <td>...</td>\n",
       "      <td>...</td>\n",
       "      <td>...</td>\n",
       "      <td>...</td>\n",
       "      <td>...</td>\n",
       "      <td>...</td>\n",
       "      <td>...</td>\n",
       "      <td>...</td>\n",
       "      <td>...</td>\n",
       "      <td>...</td>\n",
       "    </tr>\n",
       "    <tr>\n",
       "      <th>995</th>\n",
       "      <td>58.0</td>\n",
       "      <td>4</td>\n",
       "      <td>35520.0</td>\n",
       "      <td>15</td>\n",
       "      <td>10.0</td>\n",
       "      <td>2</td>\n",
       "      <td>6</td>\n",
       "      <td>0</td>\n",
       "      <td>4</td>\n",
       "      <td>1</td>\n",
       "      <td>...</td>\n",
       "      <td>40.0</td>\n",
       "      <td>39</td>\n",
       "      <td>0</td>\n",
       "      <td>8.786403</td>\n",
       "      <td>995</td>\n",
       "      <td>3da08aaa-86e3-491f-bbde-9f2927ab18b8</td>\n",
       "      <td>26.679914</td>\n",
       "      <td>0.037481</td>\n",
       "      <td>1.427325</td>\n",
       "      <td>0</td>\n",
       "    </tr>\n",
       "    <tr>\n",
       "      <th>996</th>\n",
       "      <td>60.0</td>\n",
       "      <td>0</td>\n",
       "      <td>134152.0</td>\n",
       "      <td>6</td>\n",
       "      <td>5.0</td>\n",
       "      <td>0</td>\n",
       "      <td>0</td>\n",
       "      <td>1</td>\n",
       "      <td>2</td>\n",
       "      <td>1</td>\n",
       "      <td>...</td>\n",
       "      <td>35.0</td>\n",
       "      <td>39</td>\n",
       "      <td>1</td>\n",
       "      <td>16.559579</td>\n",
       "      <td>996</td>\n",
       "      <td>3da08aaa-86e3-491f-bbde-9f2927ab18b8</td>\n",
       "      <td>24.320827</td>\n",
       "      <td>0.041117</td>\n",
       "      <td>1.190835</td>\n",
       "      <td>0</td>\n",
       "    </tr>\n",
       "    <tr>\n",
       "      <th>997</th>\n",
       "      <td>33.0</td>\n",
       "      <td>4</td>\n",
       "      <td>44559.0</td>\n",
       "      <td>11</td>\n",
       "      <td>9.0</td>\n",
       "      <td>2</td>\n",
       "      <td>10</td>\n",
       "      <td>0</td>\n",
       "      <td>4</td>\n",
       "      <td>1</td>\n",
       "      <td>...</td>\n",
       "      <td>35.0</td>\n",
       "      <td>39</td>\n",
       "      <td>1</td>\n",
       "      <td>4.906418</td>\n",
       "      <td>997</td>\n",
       "      <td>3da08aaa-86e3-491f-bbde-9f2927ab18b8</td>\n",
       "      <td>12.955811</td>\n",
       "      <td>0.077185</td>\n",
       "      <td>0.689248</td>\n",
       "      <td>0</td>\n",
       "    </tr>\n",
       "    <tr>\n",
       "      <th>998</th>\n",
       "      <td>25.0</td>\n",
       "      <td>4</td>\n",
       "      <td>199947.0</td>\n",
       "      <td>11</td>\n",
       "      <td>9.0</td>\n",
       "      <td>2</td>\n",
       "      <td>1</td>\n",
       "      <td>5</td>\n",
       "      <td>4</td>\n",
       "      <td>0</td>\n",
       "      <td>...</td>\n",
       "      <td>40.0</td>\n",
       "      <td>39</td>\n",
       "      <td>1</td>\n",
       "      <td>1.229936</td>\n",
       "      <td>998</td>\n",
       "      <td>3da08aaa-86e3-491f-bbde-9f2927ab18b8</td>\n",
       "      <td>7.669012</td>\n",
       "      <td>0.130395</td>\n",
       "      <td>1.331374</td>\n",
       "      <td>0</td>\n",
       "    </tr>\n",
       "    <tr>\n",
       "      <th>999</th>\n",
       "      <td>24.0</td>\n",
       "      <td>4</td>\n",
       "      <td>19410.0</td>\n",
       "      <td>11</td>\n",
       "      <td>9.0</td>\n",
       "      <td>0</td>\n",
       "      <td>12</td>\n",
       "      <td>4</td>\n",
       "      <td>0</td>\n",
       "      <td>0</td>\n",
       "      <td>...</td>\n",
       "      <td>48.0</td>\n",
       "      <td>39</td>\n",
       "      <td>1</td>\n",
       "      <td>6.068596</td>\n",
       "      <td>999</td>\n",
       "      <td>3da08aaa-86e3-491f-bbde-9f2927ab18b8</td>\n",
       "      <td>13.529954</td>\n",
       "      <td>0.073910</td>\n",
       "      <td>1.265051</td>\n",
       "      <td>0</td>\n",
       "    </tr>\n",
       "  </tbody>\n",
       "</table>\n",
       "<p>1000 rows × 22 columns</p>\n",
       "</div>"
      ],
      "text/plain": [
       "      age  workclass    fnlwgt  education  education-num  marital-status  \\\n",
       "0    36.0          4  113397.0         11            9.0               2   \n",
       "1    35.0          7  225385.0         11            9.0               0   \n",
       "2    59.0          2  120617.0         11            9.0               5   \n",
       "3    33.0          4  101352.0         14           15.0               4   \n",
       "4    61.0          4   92691.0         11            9.0               2   \n",
       "..    ...        ...       ...        ...            ...             ...   \n",
       "995  58.0          4   35520.0         15           10.0               2   \n",
       "996  60.0          0  134152.0          6            5.0               0   \n",
       "997  33.0          4   44559.0         11            9.0               2   \n",
       "998  25.0          4  199947.0         11            9.0               2   \n",
       "999  24.0          4   19410.0         11            9.0               0   \n",
       "\n",
       "     occupation  relationship  race  sex  ...  hours-per-week  native-country  \\\n",
       "0             6             0     4    1  ...            40.0              39   \n",
       "1            10             4     4    0  ...            40.0              39   \n",
       "2            11             4     2    0  ...            40.0              39   \n",
       "3            10             1     4    0  ...            50.0              39   \n",
       "4             1             0     4    1  ...             3.0              39   \n",
       "..          ...           ...   ...  ...  ...             ...             ...   \n",
       "995           6             0     4    1  ...            40.0              39   \n",
       "996           0             1     2    1  ...            35.0              39   \n",
       "997          10             0     4    1  ...            35.0              39   \n",
       "998           1             5     4    0  ...            40.0              39   \n",
       "999          12             4     0    0  ...            48.0              39   \n",
       "\n",
       "     target  familiarity_conviction_addition  .session_training_index  \\\n",
       "0         1                         0.593978                        0   \n",
       "1         1                         1.991966                        1   \n",
       "2         1                         3.342784                        2   \n",
       "3         0                        16.918810                        3   \n",
       "4         1                         7.101202                        4   \n",
       "..      ...                              ...                      ...   \n",
       "995       0                         8.786403                      995   \n",
       "996       1                        16.559579                      996   \n",
       "997       1                         4.906418                      997   \n",
       "998       1                         1.229936                      998   \n",
       "999       1                         6.068596                      999   \n",
       "\n",
       "                                 .session  distance_contribution   density  \\\n",
       "0    3da08aaa-86e3-491f-bbde-9f2927ab18b8               4.820333  0.207455   \n",
       "1    3da08aaa-86e3-491f-bbde-9f2927ab18b8               9.662678  0.103491   \n",
       "2    3da08aaa-86e3-491f-bbde-9f2927ab18b8              11.614757  0.086097   \n",
       "3    3da08aaa-86e3-491f-bbde-9f2927ab18b8              18.443925  0.054218   \n",
       "4    3da08aaa-86e3-491f-bbde-9f2927ab18b8              18.449176  0.054203   \n",
       "..                                    ...                    ...       ...   \n",
       "995  3da08aaa-86e3-491f-bbde-9f2927ab18b8              26.679914  0.037481   \n",
       "996  3da08aaa-86e3-491f-bbde-9f2927ab18b8              24.320827  0.041117   \n",
       "997  3da08aaa-86e3-491f-bbde-9f2927ab18b8              12.955811  0.077185   \n",
       "998  3da08aaa-86e3-491f-bbde-9f2927ab18b8               7.669012  0.130395   \n",
       "999  3da08aaa-86e3-491f-bbde-9f2927ab18b8              13.529954  0.073910   \n",
       "\n",
       "     target_residual_conviction  low_residual_conviction  \n",
       "0                      1.160600                        0  \n",
       "1                      0.969059                        0  \n",
       "2                      0.967719                        0  \n",
       "3                      1.139972                        0  \n",
       "4                      1.508996                        0  \n",
       "..                          ...                      ...  \n",
       "995                    1.427325                        0  \n",
       "996                    1.190835                        0  \n",
       "997                    0.689248                        0  \n",
       "998                    1.331374                        0  \n",
       "999                    1.265051                        0  \n",
       "\n",
       "[1000 rows x 22 columns]"
      ]
     },
     "execution_count": 21,
     "metadata": {},
     "output_type": "execute_result"
    }
   ],
   "source": [
    "partial_train_df"
   ]
  },
  {
   "cell_type": "code",
   "execution_count": 22,
   "id": "d902d796-a176-486d-a427-a7783bfa9c86",
   "metadata": {
    "execution": {
     "iopub.execute_input": "2025-09-02T19:44:00.192209Z",
     "iopub.status.busy": "2025-09-02T19:44:00.191992Z",
     "iopub.status.idle": "2025-09-02T19:44:00.196172Z",
     "shell.execute_reply": "2025-09-02T19:44:00.195502Z"
    }
   },
   "outputs": [],
   "source": [
    "# Helper function to resize the data points\n",
    "def get_sizes(min_size, max_size, series):\n",
    "    min_value = series.min()\n",
    "    max_value = series.max()\n",
    "\n",
    "    m = (max_size - min_size) / (max_value - min_value)\n",
    "\n",
    "    sizes = series * m + min_size\n",
    "    return (sizes)\n",
    "\n",
    "partial_train_df[\"density\"] = get_sizes(5, 500, partial_train_df[\"density\"])"
   ]
  },
  {
   "cell_type": "markdown",
   "id": "49d35075",
   "metadata": {},
   "source": [
    "With the Residual Convictions computed for the \"target\" feature across all the trained data, we can visualize the data to attempt to find the regions of the data where convictions are particularly low. "
   ]
  },
  {
   "cell_type": "code",
   "execution_count": 23,
   "id": "3d4ec798",
   "metadata": {
    "execution": {
     "iopub.execute_input": "2025-09-02T19:44:00.197872Z",
     "iopub.status.busy": "2025-09-02T19:44:00.197680Z",
     "iopub.status.idle": "2025-09-02T19:44:01.865253Z",
     "shell.execute_reply": "2025-09-02T19:44:01.864531Z"
    }
   },
   "outputs": [
    {
     "data": {
      "application/vnd.plotly.v1+json": {
       "config": {
        "plotlyServerURL": "https://plot.ly"
       },
       "data": [
        {
         "legendgroup": "cases",
         "legendgrouptitle": {
          "text": "Cases"
         },
         "marker": {
          "line": {
           "color": "darkgrey",
           "width": 2
          },
          "opacity": 0.4,
          "size": {
           "bdata": "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",
           "dtype": "f8"
          },
          "sizemin": 7.5,
          "sizemode": "area"
         },
         "mode": "markers",
         "name": "0",
         "type": "scattergl",
         "x": {
          "bdata": "AAAAAAAAQkAAAAAAAIBBQAAAAAAAgE1AAAAAAACAQEAAAAAAAIBOQAAAAAAAAEBAAAAAAACAR0AAAAAAAIBNQAAAAAAAAD9AAAAAAAAAOkAAAAAAAAAxQAAAAAAAADtAAAAAAACAQUAAAAAAAAA3QAAAAAAAAD1AAAAAAACASUAAAAAAAIBQQAAAAAAAgEVAAAAAAAAAOUAAAAAAAAA/QAAAAAAAADhAAAAAAAAASkAAAAAAAIBOQAAAAAAAAD9AAAAAAAAAPEAAAAAAAABGQAAAAAAAADZAAAAAAAAAOEAAAAAAAAAzQAAAAAAAAEJAAAAAAAAAPUAAAAAAAABLQAAAAAAAADZAAAAAAACAR0AAAAAAAIBKQAAAAAAAAEZAAAAAAAAASkAAAAAAAAA0QAAAAAAAADRAAAAAAAAAP0AAAAAAAIBIQAAAAAAAAEpAAAAAAAAASEAAAAAAAABGQAAAAAAAgEVAAAAAAAAARkAAAAAAAIBHQAAAAAAAgERAAAAAAAAAR0AAAAAAAIBBQAAAAAAAAExAAAAAAAAAOkAAAAAAAABCQAAAAAAAADRAAAAAAACAREAAAAAAAIBBQAAAAAAAgEZAAAAAAAAAPEAAAAAAAAA5QAAAAAAAADNAAAAAAAAAMkAAAAAAAIBIQAAAAAAAgENAAAAAAAAANEAAAAAAAIBEQAAAAAAAgEhAAAAAAACAQUAAAAAAAAA6QAAAAAAAgENAAAAAAACAR0AAAAAAAAA+QAAAAAAAgEFAAAAAAACAQEAAAAAAAIBQQAAAAAAAAEVAAAAAAAAAREAAAAAAAABQQAAAAAAAADRAAAAAAAAAQ0AAAAAAAIBGQAAAAAAAADZAAAAAAAAAP0AAAAAAAAAyQAAAAAAAAEFAAAAAAAAANEAAAAAAAAA4QAAAAAAAADlAAAAAAAAAOEAAAAAAAAA0QAAAAAAAgEFAAAAAAAAAS0AAAAAAAIBFQAAAAAAAADxAAAAAAACAQ0AAAAAAAIBOQAAAAAAAAD9AAAAAAAAANUAAAAAAAAA4QAAAAAAAAEJAAAAAAAAAOEAAAAAAAIBGQAAAAAAAgEtAAAAAAACAQkAAAAAAAIBNQAAAAAAAAERAAAAAAAAASUAAAAAAAABIQAAAAAAAADNAAAAAAAAAUUAAAAAAAABDQAAAAAAAgEZAAAAAAACAQUAAAAAAAIBKQAAAAAAAAEVAAAAAAAAAQEAAAAAAAAA/QAAAAAAAAE5AAAAAAAAAPkAAAAAAAIBCQAAAAAAAAD1AAAAAAAAAM0AAAAAAAIBDQAAAAAAAgFFAAAAAAAAANEAAAAAAAABDQAAAAAAAgEpAAAAAAAAAQkAAAAAAAABEQAAAAAAAgElAAAAAAAAAT0AAAAAAAIBKQAAAAAAAgExAAAAAAAAASkAAAAAAAAA4QAAAAAAAAEJAAAAAAAAAPEAAAAAAAABOQAAAAAAAgEJAAAAAAACAR0AAAAAAAABJQAAAAAAAgEVAAAAAAAAASUAAAAAAAABIQAAAAAAAADpAAAAAAAAAPUAAAAAAAIBDQAAAAAAAAEpAAAAAAAAANkAAAAAAAIBMQAAAAAAAAEZAAAAAAAAAQkAAAAAAAIBAQAAAAAAAgEtAAAAAAAAAQ0AAAAAAAIBHQAAAAAAAADFAAAAAAAAAUUAAAAAAAIBLQAAAAAAAgERAAAAAAAAAN0AAAAAAAIBBQAAAAAAAgElAAAAAAAAARkAAAAAAAABCQAAAAAAAADpAAAAAAAAAREAAAAAAAABOQAAAAAAAADZAAAAAAAAAO0AAAAAAAAA0QAAAAAAAgEVAAAAAAACASUAAAAAAAAA5QAAAAAAAAEtAAAAAAAAAQkAAAAAAAABHQAAAAAAAAEZAAAAAAAAAR0AAAAAAAIBAQAAAAAAAAD5AAAAAAAAATEAAAAAAAAA4QAAAAAAAgE1AAAAAAAAAPEAAAAAAAAAzQAAAAAAAgEJAAAAAAAAAPkAAAAAAAABBQAAAAAAAAERAAAAAAACAQEAAAAAAAABIQAAAAAAAAEdAAAAAAAAATEAAAAAAAAA+QAAAAAAAgEFAAAAAAAAAO0AAAAAAAABOQAAAAAAAgE9AAAAAAACAQUAAAAAAAIBHQAAAAAAAgEZAAAAAAAAAR0AAAAAAAIBAQAAAAAAAADxAAAAAAAAANEAAAAAAAIBFQAAAAAAAAEFAAAAAAAAASkAAAAAAAIBLQAAAAAAAADpAAAAAAACASkAAAAAAAAA+QAAAAAAAAD5AAAAAAAAAMkAAAAAAAABCQAAAAAAAAD1AAAAAAAAAOEAAAAAAAAA9QAAAAAAAgERAAAAAAAAANEAAAAAAAAA6QAAAAAAAgEhAAAAAAACASUAAAAAAAABJQAAAAAAAgEZAAAAAAACAREAAAAAAAIBOQAAAAAAAgEtAAAAAAAAANkAAAAAAAAA4QAAAAAAAgEBAAAAAAAAATEAAAAAAAABBQAAAAAAAAEtAAAAAAAAANUAAAAAAAABCQAAAAAAAgEJAAAAAAAAAPUAAAAAAAABFQAAAAAAAAEdAAAAAAAAASUAAAAAAAAA+QAAAAAAAAERAAAAAAACAQkAAAAAAAIBLQAAAAAAAAEhAAAAAAACARUAAAAAAAIBOQAAAAAAAAExAAAAAAAAAPUAAAAAAAABCQAAAAAAAAD9AAAAAAAAANEAAAAAAAAA7QAAAAAAAAE9AAAAAAACAT0AAAAAAAIBJQAAAAAAAAD5AAAAAAAAAREAAAAAAAABKQAAAAAAAAEFAAAAAAACARkAAAAAAAAA1QAAAAAAAgEJAAAAAAAAASEAAAAAAAAA3QAAAAAAAAD1AAAAAAAAAOUAAAAAAAIBEQAAAAAAAADxAAAAAAAAAO0AAAAAAAABIQAAAAAAAADhAAAAAAAAAPkAAAAAAAAAzQAAAAAAAgEVAAAAAAACASkAAAAAAAAA/QAAAAAAAgEVAAAAAAAAAOEAAAAAAAAA4QAAAAAAAADlAAAAAAACAS0AAAAAAAAA+QAAAAAAAADZAAAAAAAAAPEAAAAAAAAA/QAAAAAAAgEBAAAAAAAAANUAAAAAAAABJQAAAAAAAgEVAAAAAAACAS0AAAAAAAIBDQAAAAAAAgEBAAAAAAAAAN0AAAAAAAIBCQAAAAAAAAE9AAAAAAAAAPkAAAAAAAAA8QAAAAAAAQFFAAAAAAACATUAAAAAAAAA2QAAAAAAAAEVAAAAAAACAQUAAAAAAAIBCQAAAAAAAADRAAAAAAADAUEAAAAAAAABDQAAAAAAAADVAAAAAAAAATkAAAAAAAABRQAAAAAAAgExAAAAAAAAAQkAAAAAAAAA9QAAAAAAAgENAAAAAAAAATEAAAAAAAABLQAAAAAAAAD1AAAAAAACARUAAAAAAAIBBQAAAAAAAAEJAAAAAAAAAP0AAAAAAAABMQAAAAAAAADNAAAAAAACASkAAAAAAAIBFQAAAAAAAgElAAAAAAAAAN0AAAAAAAABJQAAAAAAAADZAAAAAAAAARUAAAAAAAAA9QAAAAAAAAEpAAAAAAAAASEAAAAAAAAA3QAAAAAAAAD5AAAAAAACAR0AAAAAAAIBCQAAAAAAAAEpAAAAAAAAAOEAAAAAAAIBHQAAAAAAAgExAAAAAAACASUAAAAAAAAA7QAAAAAAAAENAAAAAAAAAP0AAAAAAAAA7QAAAAAAAgEVAAAAAAAAAN0AAAAAAAAA/QAAAAAAAADhAAAAAAACASUAAAAAAAABFQAAAAAAAgEZAAAAAAAAAO0AAAAAAAAA4QAAAAAAAADNAAAAAAAAAOEAAAAAAAIBEQAAAAAAAAEFAAAAAAAAAQ0AAAAAAAAA9QAAAAAAAgEJAAAAAAACAS0AAAAAAAABBQAAAAAAAADlAAAAAAAAANEAAAAAAAAA+QAAAAAAAADdAAAAAAAAASUAAAAAAAIBHQAAAAAAAgEdAAAAAAAAANEAAAAAAAABNQAAAAAAAgEBAAAAAAACAS0AAAAAAAABMQAAAAAAAgEVAAAAAAAAAQEAAAAAAAIBAQAAAAAAAgEhAAAAAAAAANUAAAAAAAABCQAAAAAAAAElAAAAAAAAAMkAAAAAAAAA0QAAAAAAAAEFAAAAAAAAAS0AAAAAAAAA7QAAAAAAAgEFAAAAAAAAAOEAAAAAAAAA+QAAAAAAAgEVAAAAAAAAAPEAAAAAAAIBLQAAAAAAAgEZAAAAAAACAQkAAAAAAAIBCQAAAAAAAAEVAAAAAAAAAUUAAAAAAAAAyQAAAAAAAAEJAAAAAAAAAPkAAAAAAAAA3QAAAAAAAADlAAAAAAACAQEAAAAAAAAA1QAAAAAAAgEBAAAAAAAAAP0AAAAAAAIBGQAAAAAAAADVAAAAAAAAAMUAAAAAAAABFQAAAAAAAgEtAAAAAAAAAQkAAAAAAAAA6QAAAAAAAADhAAAAAAAAARkAAAAAAAIBMQAAAAAAAAFNAAAAAAAAARkAAAAAAAAA2QAAAAAAAAEJAAAAAAACAREAAAAAAAIBHQAAAAAAAADpAAAAAAAAAQkAAAAAAAAA3QAAAAAAAAE9AAAAAAAAAMkAAAAAAAABHQAAAAAAAADRAAAAAAACAT0AAAAAAAAA7QAAAAAAAgEtAAAAAAAAAQEAAAAAAAABKQAAAAAAAADFAAAAAAAAAREAAAAAAAAAxQAAAAAAAgElAAAAAAACAS0AAAAAAAIBFQAAAAAAAADdAAAAAAAAAN0AAAAAAAIBJQAAAAAAAgFZAAAAAAACAQ0AAAAAAAIBMQAAAAAAAgEhAAAAAAAAAQEAAAAAAAIBQQAAAAAAAADpAAAAAAAAASUAAAAAAAABMQAAAAAAAADhAAAAAAAAAO0AAAAAAAAA/QAAAAAAAAD9AAAAAAAAAN0AAAAAAAABLQAAAAAAAgEZAAAAAAACAQkAAAAAAAIBEQAAAAAAAgEZAAAAAAAAAQUAAAAAAAAA5QAAAAAAAADVAAAAAAACATkAAAAAAAAA8QAAAAAAAADlAAAAAAABAUUAAAAAAAAA/QAAAAAAAAERAAAAAAAAASEAAAAAAAABGQAAAAAAAADpAAAAAAAAAOUAAAAAAAIBBQAAAAAAAgE5AAAAAAACARkAAAAAAAABFQAAAAAAAAERAAAAAAACASEAAAAAAAAA7QAAAAAAAgEdAAAAAAACAT0AAAAAAAIBBQAAAAAAAADRAAAAAAAAAOUAAAAAAAAA1QAAAAAAAAENAAAAAAAAATEAAAAAAAIBGQAAAAAAAADZAAAAAAACAVkAAAAAAAABEQAAAAAAAAE9AAAAAAAAAOUAAAAAAAIBGQAAAAAAAwFBAAAAAAAAAQEAAAAAAAABGQAAAAAAAADZAAAAAAAAAN0AAAAAAAIBHQAAAAAAAgE1AAAAAAAAAPUAAAAAAAAA0QAAAAAAAAExAAAAAAAAAUUAAAAAAAABBQAAAAAAAADpAAAAAAACARkAAAAAAAIBGQAAAAAAAADxAAAAAAAAAN0AAAAAAAAA4QAAAAAAAAEpAAAAAAAAAPkAAAAAAAAA4QAAAAAAAgEJAAAAAAAAAOkAAAAAAAABAQAAAAAAAgFBAAAAAAAAARkAAAAAAAIBBQAAAAAAAAEBAAAAAAACAQUAAAAAAAIBEQAAAAAAAADZAAAAAAACAQUAAAAAAAABEQAAAAAAAAElAAAAAAACAQ0AAAAAAAAA9QAAAAAAAgE5AAAAAAACAQUAAAAAAAIBCQAAAAAAAADVAAAAAAAAAR0AAAAAAAIBBQAAAAAAAADZAAAAAAAAAQUAAAAAAAAA7QAAAAAAAAE1AAAAAAAAATUAAAAAAAAA+QAAAAAAAAElAAAAAAAAATUAAAAAAAAA2QAAAAAAAAEJAAAAAAAAAPkAAAAAAAABGQAAAAAAAAEdAAAAAAAAAQUAAAAAAAABJQAAAAAAAgEBAAAAAAAAARUAAAAAAAAA3QAAAAAAAgERAAAAAAAAAOkAAAAAAAABIQAAAAAAAAEBAAAAAAAAAPUAAAAAAAABDQAAAAAAAAEBAAAAAAAAAR0AAAAAAAABKQAAAAAAAgEJAAAAAAACAQ0AAAAAAAIBHQAAAAAAAgENAAAAAAAAAREAAAAAAAAA9QAAAAAAAADtAAAAAAAAANEAAAAAAAIBDQAAAAAAAgFBAAAAAAAAAQ0AAAAAAAAA/QAAAAAAAADdAAAAAAAAAP0AAAAAAAIBNQAAAAAAAAE1AAAAAAAAAO0AAAAAAAAA4QAAAAAAAgEJAAAAAAACAUEAAAAAAAABGQAAAAAAAADVAAAAAAAAAQUAAAAAAAAA+QAAAAAAAAElAAAAAAAAAOkAAAAAAAIBFQAAAAAAAAEZAAAAAAACASUAAAAAAAIBHQAAAAAAAAD1AAAAAAAAAPEAAAAAAAABHQAAAAAAAADNAAAAAAAAAOEAAAAAAAIBDQAAAAAAAQFFAAAAAAAAAPEAAAAAAAAA8QAAAAAAAADRAAAAAAACAQUAAAAAAAABDQAAAAAAAADpAAAAAAACARUAAAAAAAABNQAAAAAAAADZAAAAAAADAUUAAAAAAAIBHQAAAAAAAAEBAAAAAAAAAPkAAAAAAAABHQAAAAAAAADNAAAAAAAAAREAAAAAAAIBAQAAAAAAAADJAAAAAAACAQkAAAAAAAAA7QAAAAAAAADlAAAAAAAAAQEAAAAAAAIBEQAAAAAAAADxAAAAAAACASEAAAAAAAIBPQAAAAAAAgE9AAAAAAAAARUAAAAAAAABTQAAAAAAAADxAAAAAAACAQEAAAAAAAIBBQAAAAAAAAFBAAAAAAACASEAAAAAAAABCQAAAAAAAAEZAAAAAAAAAQUAAAAAAAAA6QAAAAAAAAEtAAAAAAACATEAAAAAAAAAxQAAAAAAAAEJAAAAAAAAAQEAAAAAAAIBRQAAAAAAAADNAAAAAAAAARUAAAAAAAABAQAAAAAAAADtAAAAAAAAAOUAAAAAAAABBQAAAAAAAAD9AAAAAAAAAQEAAAAAAAIBPQAAAAAAAADZAAAAAAACASkAAAAAAAAA0QAAAAAAAgEdAAAAAAACASUAAAAAAAAA+QAAAAAAAgElAAAAAAAAAREAAAAAAAAA8QAAAAAAAADhAAAAAAAAAQ0AAAAAAAABPQAAAAAAAAEpAAAAAAAAATkAAAAAAAAA/QAAAAAAAADRAAAAAAAAAPEAAAAAAAEBQQAAAAAAAgEtAAAAAAACATEAAAAAAAABKQAAAAAAAgFBAAAAAAACAQEAAAAAAAIBAQAAAAAAAADpAAAAAAAAAQUAAAAAAAABMQAAAAAAAgEpAAAAAAAAARUAAAAAAAIBDQAAAAAAAADxAAAAAAAAATUAAAAAAAABJQAAAAAAAAENAAAAAAAAAN0AAAAAAAIBJQAAAAAAAADxAAAAAAACAREAAAAAAAAA3QAAAAAAAAEBAAAAAAACATEAAAAAAAIBOQAAAAAAAADlAAAAAAAAAQUAAAAAAAABHQAAAAAAAADFAAAAAAAAAS0AAAAAAAAA+QAAAAAAAAEtAAAAAAAAAOEAAAAAAAIBGQAAAAAAAADxAAAAAAACASUAAAAAAAIBAQAAAAAAAADZAAAAAAACAS0AAAAAAAAA/QAAAAAAAAD9AAAAAAACAQUAAAAAAAABAQAAAAAAAADtAAAAAAAAARUAAAAAAAIBFQAAAAAAAAE1AAAAAAACARUAAAAAAAIBSQAAAAAAAADtAAAAAAAAAO0AAAAAAAABAQAAAAAAAAERAAAAAAAAAOEAAAAAAAAA8QAAAAAAAgENAAAAAAABAUUAAAAAAAABKQAAAAAAAAERAAAAAAAAASEAAAAAAAAA7QAAAAAAAgEBAAAAAAACAREAAAAAAAAA+QAAAAAAAADZAAAAAAAAAQkAAAAAAAAA4QAAAAAAAADRAAAAAAACASEAAAAAAAIBCQAAAAAAAAERAAAAAAAAAP0AAAAAAAABBQAAAAAAAADhAAAAAAAAASUAAAAAAAAA5QAAAAAAAAEJAAAAAAAAANEAAAAAAAAAxQAAAAAAAgE1AAAAAAAAAM0AAAAAAAIBAQAAAAAAAgFBAAAAAAADAUUAAAAAAAAA/QAAAAAAAADdAAAAAAAAAQEAAAAAAAAA7QAAAAAAAgERAAAAAAAAAR0AAAAAAAABCQAAAAAAAAEVAAAAAAACAQkAAAAAAAAA5QAAAAAAAADRAAAAAAAAANEAAAAAAAIBOQAAAAAAAAFZAAAAAAAAAP0AAAAAAAABNQAAAAAAAADdAAAAAAAAASUAAAAAAAIBFQAAAAAAAAE1AAAAAAAAAT0AAAAAAAIBEQAAAAAAAAEhAAAAAAACARUAAAAAAAABKQAAAAAAAAEFAAAAAAAAAQEAAAAAAAIBMQAAAAAAAgENAAAAAAAAASkAAAAAAAAA5QAAAAAAAgEVAAAAAAAAAM0AAAAAAAABAQAAAAAAAADhAAAAAAAAAREAAAAAAAABBQAAAAAAAAEJAAAAAAACARkAAAAAAAIBGQAAAAAAAgEVAAAAAAACARkAAAAAAAABDQAAAAAAAADxAAAAAAAAAQUAAAAAAAIBHQAAAAAAAADZAAAAAAACAREAAAAAAAAA1QAAAAAAAADxAAAAAAACAQ0AAAAAAAIBEQAAAAAAAADtAAAAAAAAARkAAAAAAAIBBQAAAAAAAADtAAAAAAAAAN0AAAAAAAABBQAAAAAAAADZAAAAAAAAAQ0AAAAAAAIBKQAAAAAAAAD9AAAAAAAAAQ0AAAAAAAAA9QAAAAAAAAExAAAAAAACAQUAAAAAAAABBQAAAAAAAAEJAAAAAAACARkAAAAAAAAA6QAAAAAAAgERAAAAAAAAAMUAAAAAAAABFQAAAAAAAgEZAAAAAAAAAUEAAAAAAAAA5QAAAAAAAAEtAAAAAAAAAP0AAAAAAAIBEQAAAAAAAgERAAAAAAAAAREAAAAAAAAAyQAAAAAAAgE9AAAAAAAAASEAAAAAAAABNQAAAAAAAgEVAAAAAAACASUAAAAAAAIBOQAAAAAAAAEBAAAAAAAAANkAAAAAAAABDQAAAAAAAgEhAAAAAAACAQkAAAAAAAAAzQAAAAAAAADxAAAAAAAAANEAAAAAAAAA6QAAAAAAAADNAAAAAAAAAR0AAAAAAAIBPQAAAAAAAADxAAAAAAACAQkAAAAAAAIBFQAAAAAAAADRAAAAAAACAQEAAAAAAAAAyQAAAAAAAAERAAAAAAAAATkAAAAAAAAA6QAAAAAAAADxAAAAAAACAQEAAAAAAAABNQAAAAAAAgEJAAAAAAAAAPEAAAAAAAIBDQAAAAAAAAERAAAAAAACATEAAAAAAAAA7QAAAAAAAADlAAAAAAAAAREAAAAAAAABBQAAAAAAAAEFAAAAAAAAAPkAAAAAAAAA3QAAAAAAAAEJAAAAAAACAQ0AAAAAAAIBBQAAAAAAAgEtAAAAAAAAAQ0AAAAAAAABDQAAAAAAAAEFAAAAAAACAR0AAAAAAAAA0QAAAAAAAAENAAAAAAAAASkAAAAAAAAA4QAAAAAAAAENAAAAAAACAQUAAAAAAAAAxQAAAAAAAgEBAAAAAAAAARUAAAAAAAABBQAAAAAAAADNAAAAAAAAAM0AAAAAAAABEQAAAAAAAgEZAAAAAAAAAPkAAAAAAAIBKQAAAAAAAAEFAAAAAAAAAP0AAAAAAAIBLQAAAAAAAADVAAAAAAAAAOUAAAAAAAAA4QAAAAAAAgEBAAAAAAACATEAAAAAAAABNQAAAAAAAADRAAAAAAAAATUAAAAAAAABOQAAAAAAAgFRAAAAAAAAATEAAAAAAAAA/QAAAAAAAADpAAAAAAAAANkAAAAAAAAA5QAAAAAAAQFNAAAAAAAAAP0AAAAAAAAA7QAAAAAAAgFBAAAAAAACAQUAAAAAAAIBLQAAAAAAAgERAAAAAAAAANUAAAAAAAABLQAAAAAAAAEpAAAAAAACAQUAAAAAAAIBEQAAAAAAAAERAAAAAAACAQ0AAAAAAAABHQAAAAAAAADdAAAAAAAAAS0AAAAAAAABJQAAAAAAAAD1AAAAAAACARkAAAAAAAAA5QAAAAAAAADpAAAAAAAAATEAAAAAAAAA8QAAAAAAAgEVAAAAAAACAREAAAAAAAIBEQAAAAAAAAFJAAAAAAAAANEAAAAAAAIBJQAAAAAAAADxAAAAAAAAAP0AAAAAAAABCQAAAAAAAAD9AAAAAAACARkAAAAAAAABEQAAAAAAAADJAAAAAAACAREAAAAAAAABKQAAAAAAAAENAAAAAAAAAPUAAAAAAAEBRQAAAAAAAAEZAAAAAAAAANkAAAAAAAABNQAAAAAAAAE5AAAAAAACAQEAAAAAAAAA5QAAAAAAAADhA",
          "dtype": "f8"
         },
         "y": {
          "bdata": "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",
          "dtype": "f8"
         }
        },
        {
         "legendgroup": "cases",
         "legendgrouptitle": {
          "text": "Cases"
         },
         "marker": {
          "line": {
           "color": "darkgrey",
           "width": 2
          },
          "opacity": 0.4,
          "size": {
           "bdata": "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",
           "dtype": "f8"
          },
          "sizemin": 7.5,
          "sizemode": "area"
         },
         "mode": "markers",
         "name": "1",
         "type": "scattergl",
         "x": {
          "bdata": "AAAAAACASkAAAAAAAIBBQAAAAAAAADtAAAAAAAAAPEAAAAAAAABBQAAAAAAAgEFAAAAAAAAAS0AAAAAAAABFQAAAAAAAAD9AAAAAAAAAQkAAAAAAAABBQAAAAAAAAEFAAAAAAAAAQkAAAAAAAABFQAAAAAAAAElAAAAAAAAAPkAAAAAAAABEQAAAAAAAADtAAAAAAAAAQEAAAAAAAIBHQAAAAAAAAD1AAAAAAAAAQUAAAAAAAABHQAAAAAAAgEFAAAAAAABAU0A=",
          "dtype": "f8"
         },
         "y": {
          "bdata": "AAAAAAAAIkAAAAAAAAAmQAAAAAAAACJAAAAAAAAAFEAAAAAAAAAiQAAAAAAAACpAAAAAAAAAJEAAAAAAAAAsQAAAAAAAACRAAAAAAAAAJEAAAAAAAAAiQAAAAAAAACJAAAAAAAAAIkAAAAAAAAAkQAAAAAAAACZAAAAAAAAAIkAAAAAAAAAiQAAAAAAAACpAAAAAAAAAHEAAAAAAAAAkQAAAAAAAACRAAAAAAAAAIkAAAAAAAAAkQAAAAAAAACJAAAAAAAAAEEA=",
          "dtype": "f8"
         }
        }
       ],
       "layout": {
        "annotations": [
         {
          "font": {
           "size": 16
          },
          "showarrow": false,
          "text": "age",
          "x": 0.5,
          "xanchor": "center",
          "xref": "paper",
          "y": 0,
          "yanchor": "top",
          "yref": "paper",
          "yshift": -30
         },
         {
          "font": {
           "size": 16
          },
          "showarrow": false,
          "text": "education-num",
          "textangle": -90,
          "x": 0,
          "xanchor": "right",
          "xref": "paper",
          "xshift": -40,
          "y": 0.5,
          "yanchor": "middle",
          "yref": "paper"
         }
        ],
        "height": 800,
        "legend": {
         "groupclick": "toggleitem"
        },
        "template": {
         "data": {
          "bar": [
           {
            "error_x": {
             "color": "#2a3f5f"
            },
            "error_y": {
             "color": "#2a3f5f"
            },
            "marker": {
             "line": {
              "color": "#E5ECF6",
              "width": 0.5
             },
             "pattern": {
              "fillmode": "overlay",
              "size": 10,
              "solidity": 0.2
             }
            },
            "type": "bar"
           }
          ],
          "barpolar": [
           {
            "marker": {
             "line": {
              "color": "#E5ECF6",
              "width": 0.5
             },
             "pattern": {
              "fillmode": "overlay",
              "size": 10,
              "solidity": 0.2
             }
            },
            "type": "barpolar"
           }
          ],
          "carpet": [
           {
            "aaxis": {
             "endlinecolor": "#2a3f5f",
             "gridcolor": "white",
             "linecolor": "white",
             "minorgridcolor": "white",
             "startlinecolor": "#2a3f5f"
            },
            "baxis": {
             "endlinecolor": "#2a3f5f",
             "gridcolor": "white",
             "linecolor": "white",
             "minorgridcolor": "white",
             "startlinecolor": "#2a3f5f"
            },
            "type": "carpet"
           }
          ],
          "choropleth": [
           {
            "colorbar": {
             "outlinewidth": 0,
             "ticks": ""
            },
            "type": "choropleth"
           }
          ],
          "contour": [
           {
            "colorbar": {
             "outlinewidth": 0,
             "ticks": ""
            },
            "colorscale": [
             [
              0,
              "#0d0887"
             ],
             [
              0.1111111111111111,
              "#46039f"
             ],
             [
              0.2222222222222222,
              "#7201a8"
             ],
             [
              0.3333333333333333,
              "#9c179e"
             ],
             [
              0.4444444444444444,
              "#bd3786"
             ],
             [
              0.5555555555555556,
              "#d8576b"
             ],
             [
              0.6666666666666666,
              "#ed7953"
             ],
             [
              0.7777777777777778,
              "#fb9f3a"
             ],
             [
              0.8888888888888888,
              "#fdca26"
             ],
             [
              1,
              "#f0f921"
             ]
            ],
            "type": "contour"
           }
          ],
          "contourcarpet": [
           {
            "colorbar": {
             "outlinewidth": 0,
             "ticks": ""
            },
            "type": "contourcarpet"
           }
          ],
          "heatmap": [
           {
            "colorbar": {
             "outlinewidth": 0,
             "ticks": ""
            },
            "colorscale": [
             [
              0,
              "#0d0887"
             ],
             [
              0.1111111111111111,
              "#46039f"
             ],
             [
              0.2222222222222222,
              "#7201a8"
             ],
             [
              0.3333333333333333,
              "#9c179e"
             ],
             [
              0.4444444444444444,
              "#bd3786"
             ],
             [
              0.5555555555555556,
              "#d8576b"
             ],
             [
              0.6666666666666666,
              "#ed7953"
             ],
             [
              0.7777777777777778,
              "#fb9f3a"
             ],
             [
              0.8888888888888888,
              "#fdca26"
             ],
             [
              1,
              "#f0f921"
             ]
            ],
            "type": "heatmap"
           }
          ],
          "histogram": [
           {
            "marker": {
             "pattern": {
              "fillmode": "overlay",
              "size": 10,
              "solidity": 0.2
             }
            },
            "type": "histogram"
           }
          ],
          "histogram2d": [
           {
            "colorbar": {
             "outlinewidth": 0,
             "ticks": ""
            },
            "colorscale": [
             [
              0,
              "#0d0887"
             ],
             [
              0.1111111111111111,
              "#46039f"
             ],
             [
              0.2222222222222222,
              "#7201a8"
             ],
             [
              0.3333333333333333,
              "#9c179e"
             ],
             [
              0.4444444444444444,
              "#bd3786"
             ],
             [
              0.5555555555555556,
              "#d8576b"
             ],
             [
              0.6666666666666666,
              "#ed7953"
             ],
             [
              0.7777777777777778,
              "#fb9f3a"
             ],
             [
              0.8888888888888888,
              "#fdca26"
             ],
             [
              1,
              "#f0f921"
             ]
            ],
            "type": "histogram2d"
           }
          ],
          "histogram2dcontour": [
           {
            "colorbar": {
             "outlinewidth": 0,
             "ticks": ""
            },
            "colorscale": [
             [
              0,
              "#0d0887"
             ],
             [
              0.1111111111111111,
              "#46039f"
             ],
             [
              0.2222222222222222,
              "#7201a8"
             ],
             [
              0.3333333333333333,
              "#9c179e"
             ],
             [
              0.4444444444444444,
              "#bd3786"
             ],
             [
              0.5555555555555556,
              "#d8576b"
             ],
             [
              0.6666666666666666,
              "#ed7953"
             ],
             [
              0.7777777777777778,
              "#fb9f3a"
             ],
             [
              0.8888888888888888,
              "#fdca26"
             ],
             [
              1,
              "#f0f921"
             ]
            ],
            "type": "histogram2dcontour"
           }
          ],
          "mesh3d": [
           {
            "colorbar": {
             "outlinewidth": 0,
             "ticks": ""
            },
            "type": "mesh3d"
           }
          ],
          "parcoords": [
           {
            "line": {
             "colorbar": {
              "outlinewidth": 0,
              "ticks": ""
             }
            },
            "type": "parcoords"
           }
          ],
          "pie": [
           {
            "automargin": true,
            "type": "pie"
           }
          ],
          "scatter": [
           {
            "fillpattern": {
             "fillmode": "overlay",
             "size": 10,
             "solidity": 0.2
            },
            "type": "scatter"
           }
          ],
          "scatter3d": [
           {
            "line": {
             "colorbar": {
              "outlinewidth": 0,
              "ticks": ""
             }
            },
            "marker": {
             "colorbar": {
              "outlinewidth": 0,
              "ticks": ""
             }
            },
            "type": "scatter3d"
           }
          ],
          "scattercarpet": [
           {
            "marker": {
             "colorbar": {
              "outlinewidth": 0,
              "ticks": ""
             }
            },
            "type": "scattercarpet"
           }
          ],
          "scattergeo": [
           {
            "marker": {
             "colorbar": {
              "outlinewidth": 0,
              "ticks": ""
             }
            },
            "type": "scattergeo"
           }
          ],
          "scattergl": [
           {
            "marker": {
             "colorbar": {
              "outlinewidth": 0,
              "ticks": ""
             }
            },
            "type": "scattergl"
           }
          ],
          "scattermap": [
           {
            "marker": {
             "colorbar": {
              "outlinewidth": 0,
              "ticks": ""
             }
            },
            "type": "scattermap"
           }
          ],
          "scattermapbox": [
           {
            "marker": {
             "colorbar": {
              "outlinewidth": 0,
              "ticks": ""
             }
            },
            "type": "scattermapbox"
           }
          ],
          "scatterpolar": [
           {
            "marker": {
             "colorbar": {
              "outlinewidth": 0,
              "ticks": ""
             }
            },
            "type": "scatterpolar"
           }
          ],
          "scatterpolargl": [
           {
            "marker": {
             "colorbar": {
              "outlinewidth": 0,
              "ticks": ""
             }
            },
            "type": "scatterpolargl"
           }
          ],
          "scatterternary": [
           {
            "marker": {
             "colorbar": {
              "outlinewidth": 0,
              "ticks": ""
             }
            },
            "type": "scatterternary"
           }
          ],
          "surface": [
           {
            "colorbar": {
             "outlinewidth": 0,
             "ticks": ""
            },
            "colorscale": [
             [
              0,
              "#0d0887"
             ],
             [
              0.1111111111111111,
              "#46039f"
             ],
             [
              0.2222222222222222,
              "#7201a8"
             ],
             [
              0.3333333333333333,
              "#9c179e"
             ],
             [
              0.4444444444444444,
              "#bd3786"
             ],
             [
              0.5555555555555556,
              "#d8576b"
             ],
             [
              0.6666666666666666,
              "#ed7953"
             ],
             [
              0.7777777777777778,
              "#fb9f3a"
             ],
             [
              0.8888888888888888,
              "#fdca26"
             ],
             [
              1,
              "#f0f921"
             ]
            ],
            "type": "surface"
           }
          ],
          "table": [
           {
            "cells": {
             "fill": {
              "color": "#EBF0F8"
             },
             "line": {
              "color": "white"
             }
            },
            "header": {
             "fill": {
              "color": "#C8D4E3"
             },
             "line": {
              "color": "white"
             }
            },
            "type": "table"
           }
          ]
         },
         "layout": {
          "annotationdefaults": {
           "arrowcolor": "#2a3f5f",
           "arrowhead": 0,
           "arrowwidth": 1
          },
          "autotypenumbers": "strict",
          "coloraxis": {
           "colorbar": {
            "outlinewidth": 0,
            "ticks": ""
           }
          },
          "colorscale": {
           "diverging": [
            [
             0,
             "#8e0152"
            ],
            [
             0.1,
             "#c51b7d"
            ],
            [
             0.2,
             "#de77ae"
            ],
            [
             0.3,
             "#f1b6da"
            ],
            [
             0.4,
             "#fde0ef"
            ],
            [
             0.5,
             "#f7f7f7"
            ],
            [
             0.6,
             "#e6f5d0"
            ],
            [
             0.7,
             "#b8e186"
            ],
            [
             0.8,
             "#7fbc41"
            ],
            [
             0.9,
             "#4d9221"
            ],
            [
             1,
             "#276419"
            ]
           ],
           "sequential": [
            [
             0,
             "#0d0887"
            ],
            [
             0.1111111111111111,
             "#46039f"
            ],
            [
             0.2222222222222222,
             "#7201a8"
            ],
            [
             0.3333333333333333,
             "#9c179e"
            ],
            [
             0.4444444444444444,
             "#bd3786"
            ],
            [
             0.5555555555555556,
             "#d8576b"
            ],
            [
             0.6666666666666666,
             "#ed7953"
            ],
            [
             0.7777777777777778,
             "#fb9f3a"
            ],
            [
             0.8888888888888888,
             "#fdca26"
            ],
            [
             1,
             "#f0f921"
            ]
           ],
           "sequentialminus": [
            [
             0,
             "#0d0887"
            ],
            [
             0.1111111111111111,
             "#46039f"
            ],
            [
             0.2222222222222222,
             "#7201a8"
            ],
            [
             0.3333333333333333,
             "#9c179e"
            ],
            [
             0.4444444444444444,
             "#bd3786"
            ],
            [
             0.5555555555555556,
             "#d8576b"
            ],
            [
             0.6666666666666666,
             "#ed7953"
            ],
            [
             0.7777777777777778,
             "#fb9f3a"
            ],
            [
             0.8888888888888888,
             "#fdca26"
            ],
            [
             1,
             "#f0f921"
            ]
           ]
          },
          "colorway": [
           "#636efa",
           "#EF553B",
           "#00cc96",
           "#ab63fa",
           "#FFA15A",
           "#19d3f3",
           "#FF6692",
           "#B6E880",
           "#FF97FF",
           "#FECB52"
          ],
          "font": {
           "color": "#2a3f5f"
          },
          "geo": {
           "bgcolor": "white",
           "lakecolor": "white",
           "landcolor": "#E5ECF6",
           "showlakes": true,
           "showland": true,
           "subunitcolor": "white"
          },
          "hoverlabel": {
           "align": "left"
          },
          "hovermode": "closest",
          "mapbox": {
           "style": "light"
          },
          "paper_bgcolor": "white",
          "plot_bgcolor": "#E5ECF6",
          "polar": {
           "angularaxis": {
            "gridcolor": "white",
            "linecolor": "white",
            "ticks": ""
           },
           "bgcolor": "#E5ECF6",
           "radialaxis": {
            "gridcolor": "white",
            "linecolor": "white",
            "ticks": ""
           }
          },
          "scene": {
           "xaxis": {
            "backgroundcolor": "#E5ECF6",
            "gridcolor": "white",
            "gridwidth": 2,
            "linecolor": "white",
            "showbackground": true,
            "ticks": "",
            "zerolinecolor": "white"
           },
           "yaxis": {
            "backgroundcolor": "#E5ECF6",
            "gridcolor": "white",
            "gridwidth": 2,
            "linecolor": "white",
            "showbackground": true,
            "ticks": "",
            "zerolinecolor": "white"
           },
           "zaxis": {
            "backgroundcolor": "#E5ECF6",
            "gridcolor": "white",
            "gridwidth": 2,
            "linecolor": "white",
            "showbackground": true,
            "ticks": "",
            "zerolinecolor": "white"
           }
          },
          "shapedefaults": {
           "line": {
            "color": "#2a3f5f"
           }
          },
          "ternary": {
           "aaxis": {
            "gridcolor": "white",
            "linecolor": "white",
            "ticks": ""
           },
           "baxis": {
            "gridcolor": "white",
            "linecolor": "white",
            "ticks": ""
           },
           "bgcolor": "#E5ECF6",
           "caxis": {
            "gridcolor": "white",
            "linecolor": "white",
            "ticks": ""
           }
          },
          "title": {
           "x": 0.05
          },
          "xaxis": {
           "automargin": true,
           "gridcolor": "white",
           "linecolor": "white",
           "ticks": "",
           "title": {
            "standoff": 15
           },
           "zerolinecolor": "white",
           "zerolinewidth": 2
          },
          "yaxis": {
           "automargin": true,
           "gridcolor": "white",
           "linecolor": "white",
           "ticks": "",
           "title": {
            "standoff": 15
           },
           "zerolinecolor": "white",
           "zerolinewidth": 2
          }
         }
        },
        "xaxis": {
         "anchor": "y",
         "domain": [
          0,
          1
         ]
        },
        "yaxis": {
         "anchor": "x",
         "domain": [
          0,
          1
         ]
        }
       }
      }
     },
     "metadata": {},
     "output_type": "display_data"
    }
   ],
   "source": [
    "plot_dataset(partial_train_df, x=\"age\", y=\"education-num\", size=\"density\", hue=\"low_residual_conviction\", alpha=0.4)"
   ]
  },
  {
   "attachments": {},
   "cell_type": "markdown",
   "id": "1d88140c-5ff6-4128-bf24-88f833042e87",
   "metadata": {},
   "source": [
    "The above graph is a visualization of the data set in 2-dimensions, with the color as an indication of residual conviction and the size representing the density of the data. More specifically, the orange color represents the low conviction points (points which are very uncertain), and small size represents low density. Therefore, adding more data to the region with small, orange points can improve model performance. \n",
    "\n",
    "\n",
    "On the other hand, an orange point that is large would be an indication that this case lies in an dense region but was not predictable. Hence, this will be an indication where the problem is not well defined, or the data is missing key features.  \n"
   ]
  },
  {
   "cell_type": "markdown",
   "id": "8aade79d",
   "metadata": {},
   "source": [
    "# Conclusion\n",
    "\n",
    "In this recipe, we demonstrate many of the metrics that the Trainee provides which helps users understand the model's decision making process such as feature MDA and feature residuals.\n",
    "\n",
    "Additionally, we show how different types of conviction can be used to identify inliers, outliers, and regions of the data where increased data collection or feature engineering may be appropriate."
   ]
  }
 ],
 "metadata": {
  "kernelspec": {
   "display_name": "engine_rec_312",
   "language": "python",
   "name": "python3"
  },
  "language_info": {
   "codemirror_mode": {
    "name": "ipython",
    "version": 3
   },
   "file_extension": ".py",
   "mimetype": "text/x-python",
   "name": "python",
   "nbconvert_exporter": "python",
   "pygments_lexer": "ipython3",
   "version": "3.12.0"
  }
 },
 "nbformat": 4,
 "nbformat_minor": 5
}
