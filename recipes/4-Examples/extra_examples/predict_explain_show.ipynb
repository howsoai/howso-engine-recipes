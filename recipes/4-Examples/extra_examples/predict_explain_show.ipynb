{
 "cells": [
  {
   "attachments": {},
   "cell_type": "markdown",
   "id": "71cfb4a3-5673-47a8-afa2-b20607105c38",
   "metadata": {
    "tags": []
   },
   "source": [
    "# Explaining Model Decisions and Performance\n",
    "\n",
    "## Overview\n",
    "\n",
    "At a very high level, Howso Engine is about: \n",
    "\n",
    "- Making an accurate prediction (even with limited or sparse data!) \n",
    "\n",
    "- Explaining the prediction process \n",
    "\n",
    "- Showing key properties of the data \n",
    "\n",
    "In this notebook, we will be using the adult data set as an example to demonstrate some of Howso Engine’s capabilities, including cases and features which contribute to predictions, anomalies analysis, and potential improvements to the data to gain more insight into the data.  \n"
   ]
  },
  {
   "cell_type": "code",
   "execution_count": 1,
   "id": "5069bb7d-671f-4d5d-a15c-99d9cd48c779",
   "metadata": {
    "execution": {
     "iopub.execute_input": "2025-07-30T15:01:18.267783Z",
     "iopub.status.busy": "2025-07-30T15:01:18.267571Z",
     "iopub.status.idle": "2025-07-30T15:01:23.286240Z",
     "shell.execute_reply": "2025-07-30T15:01:23.285597Z"
    }
   },
   "outputs": [],
   "source": [
    "import pandas as pd\n",
    "from pmlb import fetch_data\n",
    "\n",
    "from howso import engine\n",
    "from howso.utilities import infer_feature_attributes\n",
    "from howso.visuals import (\n",
    "    plot_anomalies,\n",
    "    plot_dataset,\n",
    "    plot_feature_importances,\n",
    ")"
   ]
  },
  {
   "cell_type": "markdown",
   "id": "9750f80b",
   "metadata": {},
   "source": [
    "# Section 1: Train and Configure the Trainee\n",
    "\n",
    "## Step 1: Load Data\n",
    "\n",
    "We are using the Adult dataset in this recipe."
   ]
  },
  {
   "cell_type": "code",
   "execution_count": 2,
   "id": "bbe69958-0668-4b82-ae95-dad4dcaaa9e9",
   "metadata": {
    "execution": {
     "iopub.execute_input": "2025-07-30T15:01:23.288771Z",
     "iopub.status.busy": "2025-07-30T15:01:23.288436Z",
     "iopub.status.idle": "2025-07-30T15:01:23.356109Z",
     "shell.execute_reply": "2025-07-30T15:01:23.355503Z"
    }
   },
   "outputs": [
    {
     "data": {
      "text/html": [
       "<div>\n",
       "<style scoped>\n",
       "    .dataframe tbody tr th:only-of-type {\n",
       "        vertical-align: middle;\n",
       "    }\n",
       "\n",
       "    .dataframe tbody tr th {\n",
       "        vertical-align: top;\n",
       "    }\n",
       "\n",
       "    .dataframe thead th {\n",
       "        text-align: right;\n",
       "    }\n",
       "</style>\n",
       "<table border=\"1\" class=\"dataframe\">\n",
       "  <thead>\n",
       "    <tr style=\"text-align: right;\">\n",
       "      <th></th>\n",
       "      <th>age</th>\n",
       "      <th>workclass</th>\n",
       "      <th>fnlwgt</th>\n",
       "      <th>education</th>\n",
       "      <th>education-num</th>\n",
       "      <th>marital-status</th>\n",
       "      <th>occupation</th>\n",
       "      <th>relationship</th>\n",
       "      <th>race</th>\n",
       "      <th>sex</th>\n",
       "      <th>capital-gain</th>\n",
       "      <th>capital-loss</th>\n",
       "      <th>hours-per-week</th>\n",
       "      <th>native-country</th>\n",
       "      <th>target</th>\n",
       "    </tr>\n",
       "  </thead>\n",
       "  <tbody>\n",
       "    <tr>\n",
       "      <th>0</th>\n",
       "      <td>64.0</td>\n",
       "      <td>0</td>\n",
       "      <td>257790.0</td>\n",
       "      <td>11</td>\n",
       "      <td>9.0</td>\n",
       "      <td>0</td>\n",
       "      <td>0</td>\n",
       "      <td>4</td>\n",
       "      <td>4</td>\n",
       "      <td>0</td>\n",
       "      <td>0.0</td>\n",
       "      <td>0.0</td>\n",
       "      <td>38.0</td>\n",
       "      <td>39</td>\n",
       "      <td>1</td>\n",
       "    </tr>\n",
       "    <tr>\n",
       "      <th>1</th>\n",
       "      <td>21.0</td>\n",
       "      <td>4</td>\n",
       "      <td>116489.0</td>\n",
       "      <td>15</td>\n",
       "      <td>10.0</td>\n",
       "      <td>4</td>\n",
       "      <td>10</td>\n",
       "      <td>3</td>\n",
       "      <td>4</td>\n",
       "      <td>0</td>\n",
       "      <td>0.0</td>\n",
       "      <td>0.0</td>\n",
       "      <td>40.0</td>\n",
       "      <td>39</td>\n",
       "      <td>1</td>\n",
       "    </tr>\n",
       "    <tr>\n",
       "      <th>2</th>\n",
       "      <td>46.0</td>\n",
       "      <td>6</td>\n",
       "      <td>182689.0</td>\n",
       "      <td>15</td>\n",
       "      <td>10.0</td>\n",
       "      <td>2</td>\n",
       "      <td>3</td>\n",
       "      <td>0</td>\n",
       "      <td>4</td>\n",
       "      <td>1</td>\n",
       "      <td>3103.0</td>\n",
       "      <td>0.0</td>\n",
       "      <td>35.0</td>\n",
       "      <td>39</td>\n",
       "      <td>0</td>\n",
       "    </tr>\n",
       "    <tr>\n",
       "      <th>3</th>\n",
       "      <td>62.0</td>\n",
       "      <td>4</td>\n",
       "      <td>499971.0</td>\n",
       "      <td>1</td>\n",
       "      <td>7.0</td>\n",
       "      <td>6</td>\n",
       "      <td>6</td>\n",
       "      <td>1</td>\n",
       "      <td>2</td>\n",
       "      <td>0</td>\n",
       "      <td>0.0</td>\n",
       "      <td>0.0</td>\n",
       "      <td>40.0</td>\n",
       "      <td>39</td>\n",
       "      <td>1</td>\n",
       "    </tr>\n",
       "    <tr>\n",
       "      <th>4</th>\n",
       "      <td>23.0</td>\n",
       "      <td>4</td>\n",
       "      <td>133061.0</td>\n",
       "      <td>11</td>\n",
       "      <td>9.0</td>\n",
       "      <td>2</td>\n",
       "      <td>12</td>\n",
       "      <td>0</td>\n",
       "      <td>4</td>\n",
       "      <td>1</td>\n",
       "      <td>0.0</td>\n",
       "      <td>0.0</td>\n",
       "      <td>80.0</td>\n",
       "      <td>39</td>\n",
       "      <td>1</td>\n",
       "    </tr>\n",
       "    <tr>\n",
       "      <th>...</th>\n",
       "      <td>...</td>\n",
       "      <td>...</td>\n",
       "      <td>...</td>\n",
       "      <td>...</td>\n",
       "      <td>...</td>\n",
       "      <td>...</td>\n",
       "      <td>...</td>\n",
       "      <td>...</td>\n",
       "      <td>...</td>\n",
       "      <td>...</td>\n",
       "      <td>...</td>\n",
       "      <td>...</td>\n",
       "      <td>...</td>\n",
       "      <td>...</td>\n",
       "      <td>...</td>\n",
       "    </tr>\n",
       "    <tr>\n",
       "      <th>995</th>\n",
       "      <td>23.0</td>\n",
       "      <td>4</td>\n",
       "      <td>198992.0</td>\n",
       "      <td>11</td>\n",
       "      <td>9.0</td>\n",
       "      <td>4</td>\n",
       "      <td>1</td>\n",
       "      <td>3</td>\n",
       "      <td>4</td>\n",
       "      <td>0</td>\n",
       "      <td>0.0</td>\n",
       "      <td>0.0</td>\n",
       "      <td>35.0</td>\n",
       "      <td>39</td>\n",
       "      <td>1</td>\n",
       "    </tr>\n",
       "    <tr>\n",
       "      <th>996</th>\n",
       "      <td>58.0</td>\n",
       "      <td>1</td>\n",
       "      <td>26947.0</td>\n",
       "      <td>9</td>\n",
       "      <td>13.0</td>\n",
       "      <td>6</td>\n",
       "      <td>10</td>\n",
       "      <td>4</td>\n",
       "      <td>0</td>\n",
       "      <td>0</td>\n",
       "      <td>0.0</td>\n",
       "      <td>0.0</td>\n",
       "      <td>40.0</td>\n",
       "      <td>39</td>\n",
       "      <td>1</td>\n",
       "    </tr>\n",
       "    <tr>\n",
       "      <th>997</th>\n",
       "      <td>63.0</td>\n",
       "      <td>0</td>\n",
       "      <td>156799.0</td>\n",
       "      <td>11</td>\n",
       "      <td>9.0</td>\n",
       "      <td>6</td>\n",
       "      <td>0</td>\n",
       "      <td>1</td>\n",
       "      <td>4</td>\n",
       "      <td>0</td>\n",
       "      <td>0.0</td>\n",
       "      <td>0.0</td>\n",
       "      <td>4.0</td>\n",
       "      <td>39</td>\n",
       "      <td>1</td>\n",
       "    </tr>\n",
       "    <tr>\n",
       "      <th>998</th>\n",
       "      <td>19.0</td>\n",
       "      <td>0</td>\n",
       "      <td>264767.0</td>\n",
       "      <td>11</td>\n",
       "      <td>9.0</td>\n",
       "      <td>4</td>\n",
       "      <td>0</td>\n",
       "      <td>3</td>\n",
       "      <td>4</td>\n",
       "      <td>1</td>\n",
       "      <td>0.0</td>\n",
       "      <td>0.0</td>\n",
       "      <td>40.0</td>\n",
       "      <td>39</td>\n",
       "      <td>1</td>\n",
       "    </tr>\n",
       "    <tr>\n",
       "      <th>999</th>\n",
       "      <td>67.0</td>\n",
       "      <td>4</td>\n",
       "      <td>192995.0</td>\n",
       "      <td>11</td>\n",
       "      <td>9.0</td>\n",
       "      <td>6</td>\n",
       "      <td>1</td>\n",
       "      <td>4</td>\n",
       "      <td>4</td>\n",
       "      <td>0</td>\n",
       "      <td>6723.0</td>\n",
       "      <td>0.0</td>\n",
       "      <td>40.0</td>\n",
       "      <td>39</td>\n",
       "      <td>1</td>\n",
       "    </tr>\n",
       "  </tbody>\n",
       "</table>\n",
       "<p>1000 rows × 15 columns</p>\n",
       "</div>"
      ],
      "text/plain": [
       "      age  workclass    fnlwgt  education  education-num  marital-status  \\\n",
       "0    64.0          0  257790.0         11            9.0               0   \n",
       "1    21.0          4  116489.0         15           10.0               4   \n",
       "2    46.0          6  182689.0         15           10.0               2   \n",
       "3    62.0          4  499971.0          1            7.0               6   \n",
       "4    23.0          4  133061.0         11            9.0               2   \n",
       "..    ...        ...       ...        ...            ...             ...   \n",
       "995  23.0          4  198992.0         11            9.0               4   \n",
       "996  58.0          1   26947.0          9           13.0               6   \n",
       "997  63.0          0  156799.0         11            9.0               6   \n",
       "998  19.0          0  264767.0         11            9.0               4   \n",
       "999  67.0          4  192995.0         11            9.0               6   \n",
       "\n",
       "     occupation  relationship  race  sex  capital-gain  capital-loss  \\\n",
       "0             0             4     4    0           0.0           0.0   \n",
       "1            10             3     4    0           0.0           0.0   \n",
       "2             3             0     4    1        3103.0           0.0   \n",
       "3             6             1     2    0           0.0           0.0   \n",
       "4            12             0     4    1           0.0           0.0   \n",
       "..          ...           ...   ...  ...           ...           ...   \n",
       "995           1             3     4    0           0.0           0.0   \n",
       "996          10             4     0    0           0.0           0.0   \n",
       "997           0             1     4    0           0.0           0.0   \n",
       "998           0             3     4    1           0.0           0.0   \n",
       "999           1             4     4    0        6723.0           0.0   \n",
       "\n",
       "     hours-per-week  native-country  target  \n",
       "0              38.0              39       1  \n",
       "1              40.0              39       1  \n",
       "2              35.0              39       0  \n",
       "3              40.0              39       1  \n",
       "4              80.0              39       1  \n",
       "..              ...             ...     ...  \n",
       "995            35.0              39       1  \n",
       "996            40.0              39       1  \n",
       "997             4.0              39       1  \n",
       "998            40.0              39       1  \n",
       "999            40.0              39       1  \n",
       "\n",
       "[1000 rows x 15 columns]"
      ]
     },
     "execution_count": 2,
     "metadata": {},
     "output_type": "execute_result"
    }
   ],
   "source": [
    "# Load adult data\n",
    "df = fetch_data('adult', local_cache_dir=\"../../../data/adult\")\n",
    "\n",
    "# Specify column names\n",
    "df.columns = ['age', 'workclass', 'fnlwgt', 'education',\n",
    "              'education-num', 'marital-status', 'occupation',\n",
    "              'relationship', 'race', 'sex', 'capital-gain',\n",
    "              'capital-loss', 'hours-per-week', 'native-country', 'target']\n",
    "\n",
    "# Sample the data for demo purpose\n",
    "df = df.sample(1_000).reset_index(drop=True)\n",
    "\n",
    "df"
   ]
  },
  {
   "cell_type": "markdown",
   "id": "b4c9f93f",
   "metadata": {},
   "source": [
    "## Step 2: Define the Feature Attributes\n",
    "\n",
    "For all Howso Engine usage, we must define feature attributes. We will also define our action and context features."
   ]
  },
  {
   "cell_type": "code",
   "execution_count": 3,
   "id": "6f16acd5-4006-4488-a71a-1be4692d6479",
   "metadata": {
    "execution": {
     "iopub.execute_input": "2025-07-30T15:01:23.358098Z",
     "iopub.status.busy": "2025-07-30T15:01:23.357909Z",
     "iopub.status.idle": "2025-07-30T15:01:23.380376Z",
     "shell.execute_reply": "2025-07-30T15:01:23.379837Z"
    }
   },
   "outputs": [],
   "source": [
    "types = {\n",
    "    \"education\": \"nominal\"\n",
    "}\n",
    "\n",
    "# Infer features attributes\n",
    "features = infer_feature_attributes(df, types=types)\n",
    "\n",
    "# Specify the context and action feature\n",
    "action_features = ['target']\n",
    "context_features = features.get_names(without=['target'])"
   ]
  },
  {
   "cell_type": "markdown",
   "id": "246c058d",
   "metadata": {},
   "source": [
    "## Step 3: Create the Trainee, Train, and Analyze"
   ]
  },
  {
   "cell_type": "code",
   "execution_count": 4,
   "id": "07eacaca-ce18-4850-9648-bbf7453d593e",
   "metadata": {
    "execution": {
     "iopub.execute_input": "2025-07-30T15:01:23.382399Z",
     "iopub.status.busy": "2025-07-30T15:01:23.382210Z",
     "iopub.status.idle": "2025-07-30T15:01:40.942385Z",
     "shell.execute_reply": "2025-07-30T15:01:40.941716Z"
    }
   },
   "outputs": [],
   "source": [
    "# Create the trainee with custom name\n",
    "t = engine.Trainee(name='Engine - Predictions and Explanations Recipe', features=features, overwrite_existing=True)\n",
    "\n",
    "# Train\n",
    "t.train(df)\n",
    "\n",
    "# Analyze the model\n",
    "t.analyze(action_features=action_features, context_features=features.get_names(without=action_features))\n"
   ]
  },
  {
   "cell_type": "markdown",
   "id": "4c5a5cbb",
   "metadata": {},
   "source": [
    "## Step 4: Evaluate Trainee Accuracy"
   ]
  },
  {
   "cell_type": "code",
   "execution_count": 5,
   "id": "03c4f734-d0a4-45ed-a85e-e756ee105c8c",
   "metadata": {
    "execution": {
     "iopub.execute_input": "2025-07-30T15:01:40.944747Z",
     "iopub.status.busy": "2025-07-30T15:01:40.944523Z",
     "iopub.status.idle": "2025-07-30T15:01:42.753566Z",
     "shell.execute_reply": "2025-07-30T15:01:42.752988Z"
    }
   },
   "outputs": [
    {
     "name": "stdout",
     "output_type": "stream",
     "text": [
      "Test set prediction accuracy: 0.822\n"
     ]
    }
   ],
   "source": [
    "accuracy = t.react_aggregate(\n",
    "    prediction_stats_action_feature=action_features[0],\n",
    "    details = {\n",
    "        \"prediction_stats\": True,\n",
    "        \"selected_prediction_stats\": [\"accuracy\"]\n",
    "        }\n",
    ")['target'].iloc[0]\n",
    "\n",
    "print(\"Test set prediction accuracy: {acc}\".format(acc=accuracy))"
   ]
  },
  {
   "attachments": {},
   "cell_type": "markdown",
   "id": "05ea5c3e-ad35-421b-8f1f-de5553b11f41",
   "metadata": {},
   "source": [
    "# Section 2: Explain Predictions\n",
    "\n",
    "How were the predictions made? \n",
    "\n",
    "Howso Engine provides detailed explanation for complete model transparency. Let's examine a subset of the explanations.\n"
   ]
  },
  {
   "attachments": {},
   "cell_type": "markdown",
   "id": "a08e870a-c1d2-4220-b683-cbfc048033c5",
   "metadata": {},
   "source": [
    "## Step 1: Inspect Feature Importance (Global)\n",
    "\n",
    "Feature importance information provides insight into the features which are primary drivers for each prediction. This is important to understand in the context of AI bias and discrimination (ex. Sensitive attribute being the primary contribution to a prediction). \n",
    "\n",
    "This information is available at the global level (overall model), but can also be computed at the local level (regional model for each case)."
   ]
  },
  {
   "cell_type": "code",
   "execution_count": 23,
   "id": "2516f905-3304-4c15-9f9b-0f340307ce61",
   "metadata": {
    "execution": {
     "iopub.execute_input": "2025-07-30T15:01:42.755507Z",
     "iopub.status.busy": "2025-07-30T15:01:42.755320Z",
     "iopub.status.idle": "2025-07-30T15:01:55.786818Z",
     "shell.execute_reply": "2025-07-30T15:01:55.786187Z"
    }
   },
   "outputs": [
    {
     "data": {
      "application/vnd.plotly.v1+json": {
       "config": {
        "plotlyServerURL": "https://plot.ly"
       },
       "data": [
        {
         "type": "bar",
         "x": [
          "marital-status",
          "capital-gain",
          "relationship",
          "capital-loss",
          "occupation",
          "education-num",
          "hours-per-week",
          "age",
          "education",
          "race",
          "target",
          "workclass",
          "sex",
          "fnlwgt",
          "native-country"
         ],
         "y": {
          "bdata": "CPbnSkOHmj/wPvzUHkiaPwhtyQg8TJY/UMHdM5EWhz9gOO8aGIaEP0DTr/cNwX0/QDw2zOTIez8AdtGNWJBzPwCpIXZ+tFs/gAmKpWOSWz8AAAAAAAAAAADSsGZkbD6/gCI/05/QWr8gqOAu5RBwv2DIDRXkY3S/",
          "dtype": "f8"
         }
        }
       ],
       "layout": {
        "template": {
         "data": {
          "bar": [
           {
            "error_x": {
             "color": "#2a3f5f"
            },
            "error_y": {
             "color": "#2a3f5f"
            },
            "marker": {
             "line": {
              "color": "#E5ECF6",
              "width": 0.5
             },
             "pattern": {
              "fillmode": "overlay",
              "size": 10,
              "solidity": 0.2
             }
            },
            "type": "bar"
           }
          ],
          "barpolar": [
           {
            "marker": {
             "line": {
              "color": "#E5ECF6",
              "width": 0.5
             },
             "pattern": {
              "fillmode": "overlay",
              "size": 10,
              "solidity": 0.2
             }
            },
            "type": "barpolar"
           }
          ],
          "carpet": [
           {
            "aaxis": {
             "endlinecolor": "#2a3f5f",
             "gridcolor": "white",
             "linecolor": "white",
             "minorgridcolor": "white",
             "startlinecolor": "#2a3f5f"
            },
            "baxis": {
             "endlinecolor": "#2a3f5f",
             "gridcolor": "white",
             "linecolor": "white",
             "minorgridcolor": "white",
             "startlinecolor": "#2a3f5f"
            },
            "type": "carpet"
           }
          ],
          "choropleth": [
           {
            "colorbar": {
             "outlinewidth": 0,
             "ticks": ""
            },
            "type": "choropleth"
           }
          ],
          "contour": [
           {
            "colorbar": {
             "outlinewidth": 0,
             "ticks": ""
            },
            "colorscale": [
             [
              0,
              "#0d0887"
             ],
             [
              0.1111111111111111,
              "#46039f"
             ],
             [
              0.2222222222222222,
              "#7201a8"
             ],
             [
              0.3333333333333333,
              "#9c179e"
             ],
             [
              0.4444444444444444,
              "#bd3786"
             ],
             [
              0.5555555555555556,
              "#d8576b"
             ],
             [
              0.6666666666666666,
              "#ed7953"
             ],
             [
              0.7777777777777778,
              "#fb9f3a"
             ],
             [
              0.8888888888888888,
              "#fdca26"
             ],
             [
              1,
              "#f0f921"
             ]
            ],
            "type": "contour"
           }
          ],
          "contourcarpet": [
           {
            "colorbar": {
             "outlinewidth": 0,
             "ticks": ""
            },
            "type": "contourcarpet"
           }
          ],
          "heatmap": [
           {
            "colorbar": {
             "outlinewidth": 0,
             "ticks": ""
            },
            "colorscale": [
             [
              0,
              "#0d0887"
             ],
             [
              0.1111111111111111,
              "#46039f"
             ],
             [
              0.2222222222222222,
              "#7201a8"
             ],
             [
              0.3333333333333333,
              "#9c179e"
             ],
             [
              0.4444444444444444,
              "#bd3786"
             ],
             [
              0.5555555555555556,
              "#d8576b"
             ],
             [
              0.6666666666666666,
              "#ed7953"
             ],
             [
              0.7777777777777778,
              "#fb9f3a"
             ],
             [
              0.8888888888888888,
              "#fdca26"
             ],
             [
              1,
              "#f0f921"
             ]
            ],
            "type": "heatmap"
           }
          ],
          "histogram": [
           {
            "marker": {
             "pattern": {
              "fillmode": "overlay",
              "size": 10,
              "solidity": 0.2
             }
            },
            "type": "histogram"
           }
          ],
          "histogram2d": [
           {
            "colorbar": {
             "outlinewidth": 0,
             "ticks": ""
            },
            "colorscale": [
             [
              0,
              "#0d0887"
             ],
             [
              0.1111111111111111,
              "#46039f"
             ],
             [
              0.2222222222222222,
              "#7201a8"
             ],
             [
              0.3333333333333333,
              "#9c179e"
             ],
             [
              0.4444444444444444,
              "#bd3786"
             ],
             [
              0.5555555555555556,
              "#d8576b"
             ],
             [
              0.6666666666666666,
              "#ed7953"
             ],
             [
              0.7777777777777778,
              "#fb9f3a"
             ],
             [
              0.8888888888888888,
              "#fdca26"
             ],
             [
              1,
              "#f0f921"
             ]
            ],
            "type": "histogram2d"
           }
          ],
          "histogram2dcontour": [
           {
            "colorbar": {
             "outlinewidth": 0,
             "ticks": ""
            },
            "colorscale": [
             [
              0,
              "#0d0887"
             ],
             [
              0.1111111111111111,
              "#46039f"
             ],
             [
              0.2222222222222222,
              "#7201a8"
             ],
             [
              0.3333333333333333,
              "#9c179e"
             ],
             [
              0.4444444444444444,
              "#bd3786"
             ],
             [
              0.5555555555555556,
              "#d8576b"
             ],
             [
              0.6666666666666666,
              "#ed7953"
             ],
             [
              0.7777777777777778,
              "#fb9f3a"
             ],
             [
              0.8888888888888888,
              "#fdca26"
             ],
             [
              1,
              "#f0f921"
             ]
            ],
            "type": "histogram2dcontour"
           }
          ],
          "mesh3d": [
           {
            "colorbar": {
             "outlinewidth": 0,
             "ticks": ""
            },
            "type": "mesh3d"
           }
          ],
          "parcoords": [
           {
            "line": {
             "colorbar": {
              "outlinewidth": 0,
              "ticks": ""
             }
            },
            "type": "parcoords"
           }
          ],
          "pie": [
           {
            "automargin": true,
            "type": "pie"
           }
          ],
          "scatter": [
           {
            "fillpattern": {
             "fillmode": "overlay",
             "size": 10,
             "solidity": 0.2
            },
            "type": "scatter"
           }
          ],
          "scatter3d": [
           {
            "line": {
             "colorbar": {
              "outlinewidth": 0,
              "ticks": ""
             }
            },
            "marker": {
             "colorbar": {
              "outlinewidth": 0,
              "ticks": ""
             }
            },
            "type": "scatter3d"
           }
          ],
          "scattercarpet": [
           {
            "marker": {
             "colorbar": {
              "outlinewidth": 0,
              "ticks": ""
             }
            },
            "type": "scattercarpet"
           }
          ],
          "scattergeo": [
           {
            "marker": {
             "colorbar": {
              "outlinewidth": 0,
              "ticks": ""
             }
            },
            "type": "scattergeo"
           }
          ],
          "scattergl": [
           {
            "marker": {
             "colorbar": {
              "outlinewidth": 0,
              "ticks": ""
             }
            },
            "type": "scattergl"
           }
          ],
          "scattermap": [
           {
            "marker": {
             "colorbar": {
              "outlinewidth": 0,
              "ticks": ""
             }
            },
            "type": "scattermap"
           }
          ],
          "scattermapbox": [
           {
            "marker": {
             "colorbar": {
              "outlinewidth": 0,
              "ticks": ""
             }
            },
            "type": "scattermapbox"
           }
          ],
          "scatterpolar": [
           {
            "marker": {
             "colorbar": {
              "outlinewidth": 0,
              "ticks": ""
             }
            },
            "type": "scatterpolar"
           }
          ],
          "scatterpolargl": [
           {
            "marker": {
             "colorbar": {
              "outlinewidth": 0,
              "ticks": ""
             }
            },
            "type": "scatterpolargl"
           }
          ],
          "scatterternary": [
           {
            "marker": {
             "colorbar": {
              "outlinewidth": 0,
              "ticks": ""
             }
            },
            "type": "scatterternary"
           }
          ],
          "surface": [
           {
            "colorbar": {
             "outlinewidth": 0,
             "ticks": ""
            },
            "colorscale": [
             [
              0,
              "#0d0887"
             ],
             [
              0.1111111111111111,
              "#46039f"
             ],
             [
              0.2222222222222222,
              "#7201a8"
             ],
             [
              0.3333333333333333,
              "#9c179e"
             ],
             [
              0.4444444444444444,
              "#bd3786"
             ],
             [
              0.5555555555555556,
              "#d8576b"
             ],
             [
              0.6666666666666666,
              "#ed7953"
             ],
             [
              0.7777777777777778,
              "#fb9f3a"
             ],
             [
              0.8888888888888888,
              "#fdca26"
             ],
             [
              1,
              "#f0f921"
             ]
            ],
            "type": "surface"
           }
          ],
          "table": [
           {
            "cells": {
             "fill": {
              "color": "#EBF0F8"
             },
             "line": {
              "color": "white"
             }
            },
            "header": {
             "fill": {
              "color": "#C8D4E3"
             },
             "line": {
              "color": "white"
             }
            },
            "type": "table"
           }
          ]
         },
         "layout": {
          "annotationdefaults": {
           "arrowcolor": "#2a3f5f",
           "arrowhead": 0,
           "arrowwidth": 1
          },
          "autotypenumbers": "strict",
          "coloraxis": {
           "colorbar": {
            "outlinewidth": 0,
            "ticks": ""
           }
          },
          "colorscale": {
           "diverging": [
            [
             0,
             "#8e0152"
            ],
            [
             0.1,
             "#c51b7d"
            ],
            [
             0.2,
             "#de77ae"
            ],
            [
             0.3,
             "#f1b6da"
            ],
            [
             0.4,
             "#fde0ef"
            ],
            [
             0.5,
             "#f7f7f7"
            ],
            [
             0.6,
             "#e6f5d0"
            ],
            [
             0.7,
             "#b8e186"
            ],
            [
             0.8,
             "#7fbc41"
            ],
            [
             0.9,
             "#4d9221"
            ],
            [
             1,
             "#276419"
            ]
           ],
           "sequential": [
            [
             0,
             "#0d0887"
            ],
            [
             0.1111111111111111,
             "#46039f"
            ],
            [
             0.2222222222222222,
             "#7201a8"
            ],
            [
             0.3333333333333333,
             "#9c179e"
            ],
            [
             0.4444444444444444,
             "#bd3786"
            ],
            [
             0.5555555555555556,
             "#d8576b"
            ],
            [
             0.6666666666666666,
             "#ed7953"
            ],
            [
             0.7777777777777778,
             "#fb9f3a"
            ],
            [
             0.8888888888888888,
             "#fdca26"
            ],
            [
             1,
             "#f0f921"
            ]
           ],
           "sequentialminus": [
            [
             0,
             "#0d0887"
            ],
            [
             0.1111111111111111,
             "#46039f"
            ],
            [
             0.2222222222222222,
             "#7201a8"
            ],
            [
             0.3333333333333333,
             "#9c179e"
            ],
            [
             0.4444444444444444,
             "#bd3786"
            ],
            [
             0.5555555555555556,
             "#d8576b"
            ],
            [
             0.6666666666666666,
             "#ed7953"
            ],
            [
             0.7777777777777778,
             "#fb9f3a"
            ],
            [
             0.8888888888888888,
             "#fdca26"
            ],
            [
             1,
             "#f0f921"
            ]
           ]
          },
          "colorway": [
           "#636efa",
           "#EF553B",
           "#00cc96",
           "#ab63fa",
           "#FFA15A",
           "#19d3f3",
           "#FF6692",
           "#B6E880",
           "#FF97FF",
           "#FECB52"
          ],
          "font": {
           "color": "#2a3f5f"
          },
          "geo": {
           "bgcolor": "white",
           "lakecolor": "white",
           "landcolor": "#E5ECF6",
           "showlakes": true,
           "showland": true,
           "subunitcolor": "white"
          },
          "hoverlabel": {
           "align": "left"
          },
          "hovermode": "closest",
          "mapbox": {
           "style": "light"
          },
          "paper_bgcolor": "white",
          "plot_bgcolor": "#E5ECF6",
          "polar": {
           "angularaxis": {
            "gridcolor": "white",
            "linecolor": "white",
            "ticks": ""
           },
           "bgcolor": "#E5ECF6",
           "radialaxis": {
            "gridcolor": "white",
            "linecolor": "white",
            "ticks": ""
           }
          },
          "scene": {
           "xaxis": {
            "backgroundcolor": "#E5ECF6",
            "gridcolor": "white",
            "gridwidth": 2,
            "linecolor": "white",
            "showbackground": true,
            "ticks": "",
            "zerolinecolor": "white"
           },
           "yaxis": {
            "backgroundcolor": "#E5ECF6",
            "gridcolor": "white",
            "gridwidth": 2,
            "linecolor": "white",
            "showbackground": true,
            "ticks": "",
            "zerolinecolor": "white"
           },
           "zaxis": {
            "backgroundcolor": "#E5ECF6",
            "gridcolor": "white",
            "gridwidth": 2,
            "linecolor": "white",
            "showbackground": true,
            "ticks": "",
            "zerolinecolor": "white"
           }
          },
          "shapedefaults": {
           "line": {
            "color": "#2a3f5f"
           }
          },
          "ternary": {
           "aaxis": {
            "gridcolor": "white",
            "linecolor": "white",
            "ticks": ""
           },
           "baxis": {
            "gridcolor": "white",
            "linecolor": "white",
            "ticks": ""
           },
           "bgcolor": "#E5ECF6",
           "caxis": {
            "gridcolor": "white",
            "linecolor": "white",
            "ticks": ""
           }
          },
          "title": {
           "x": 0.05
          },
          "xaxis": {
           "automargin": true,
           "gridcolor": "white",
           "linecolor": "white",
           "ticks": "",
           "title": {
            "standoff": 15
           },
           "zerolinecolor": "white",
           "zerolinewidth": 2
          },
          "yaxis": {
           "automargin": true,
           "gridcolor": "white",
           "linecolor": "white",
           "ticks": "",
           "title": {
            "standoff": 15
           },
           "zerolinecolor": "white",
           "zerolinewidth": 2
          }
         }
        },
        "title": {
         "text": "Global Mean Decrease in Accuracy (MDA)"
        },
        "xaxis": {
         "anchor": "y",
         "domain": [
          0,
          1
         ],
         "tickangle": 45,
         "title": {
          "text": "Feature"
         }
        },
        "yaxis": {
         "anchor": "x",
         "domain": [
          0,
          1
         ],
         "title": {
          "text": "MDA"
         }
        }
       }
      }
     },
     "metadata": {},
     "output_type": "display_data"
    }
   ],
   "source": [
    "robust_accuracy_contributions = t.react_aggregate(\n",
    "    feature_influences_action_feature=action_features[0],\n",
    "    details = {\"feature_robust_accuracy_contributions\": True}\n",
    ").loc['feature_robust_accuracy_contributions'][action_features[0]]\n",
    "plot_feature_importances(pd.DataFrame([robust_accuracy_contributions]), title=\"Global Mean Decrease in Accuracy (MDA)\", yaxis_title=\"MDA\")"
   ]
  },
  {
   "cell_type": "markdown",
   "id": "f6992dcc",
   "metadata": {},
   "source": [
    "MDA values for each feature indicate to the user which features have the most significant individual predictive power. Those with higher values are more important for the model's predictions. Furthermore, features with negative MDA values can even be considered detrimental to model accuracy. However, it's important to note that these are global values and features with negative MDA values could still be beneficial for model accuracy in some regions of the data."
   ]
  },
  {
   "attachments": {},
   "cell_type": "markdown",
   "id": "0124c8fb-f73e-4c32-a3c8-616c873cc89c",
   "metadata": {},
   "source": [
    "## Step 2: Feature Uncertainty (Global)\n",
    "\n",
    "Are there any noisy features? \n",
    "\n",
    "Howso Engine’s performance is robust against noisy feature[s], and can maintain a high level of accuracy despite noisy data. \n",
    "\n",
    "Part of the reason Howso Engine can maintain its level of performance despite noisy data is through the characterization of feature uncertainties (residuals). The feature residuals can be extracted for user review. \n",
    "\n",
    "> Note: Feature Residuals are in the same units as the original features which makes it easy to interpret. For example, the residual for the “age” feature has the unit of years as in the original data.\n",
    "\n",
    "Feature residuals are available at the global level (overall model) and at the local level (regional model for each case).\n"
   ]
  },
  {
   "cell_type": "code",
   "execution_count": 6,
   "id": "d9307608-5e5e-48ee-8c3a-f7eac3ef7469",
   "metadata": {
    "execution": {
     "iopub.execute_input": "2025-07-30T15:01:55.788783Z",
     "iopub.status.busy": "2025-07-30T15:01:55.788562Z",
     "iopub.status.idle": "2025-07-30T15:01:57.401233Z",
     "shell.execute_reply": "2025-07-30T15:01:57.400670Z"
    }
   },
   "outputs": [
    {
     "data": {
      "text/html": [
       "<div>\n",
       "<style scoped>\n",
       "    .dataframe tbody tr th:only-of-type {\n",
       "        vertical-align: middle;\n",
       "    }\n",
       "\n",
       "    .dataframe tbody tr th {\n",
       "        vertical-align: top;\n",
       "    }\n",
       "\n",
       "    .dataframe thead th {\n",
       "        text-align: right;\n",
       "    }\n",
       "</style>\n",
       "<table border=\"1\" class=\"dataframe\">\n",
       "  <thead>\n",
       "    <tr style=\"text-align: right;\">\n",
       "      <th></th>\n",
       "      <th>residuals</th>\n",
       "    </tr>\n",
       "  </thead>\n",
       "  <tbody>\n",
       "    <tr>\n",
       "      <th>fnlwgt</th>\n",
       "      <td>97482.384070</td>\n",
       "    </tr>\n",
       "    <tr>\n",
       "      <th>capital-gain</th>\n",
       "      <td>1388.705345</td>\n",
       "    </tr>\n",
       "    <tr>\n",
       "      <th>capital-loss</th>\n",
       "      <td>152.828951</td>\n",
       "    </tr>\n",
       "    <tr>\n",
       "      <th>age</th>\n",
       "      <td>9.476880</td>\n",
       "    </tr>\n",
       "    <tr>\n",
       "      <th>hours-per-week</th>\n",
       "      <td>8.040804</td>\n",
       "    </tr>\n",
       "    <tr>\n",
       "      <th>education-num</th>\n",
       "      <td>0.984431</td>\n",
       "    </tr>\n",
       "    <tr>\n",
       "      <th>occupation</th>\n",
       "      <td>0.790920</td>\n",
       "    </tr>\n",
       "    <tr>\n",
       "      <th>workclass</th>\n",
       "      <td>0.419647</td>\n",
       "    </tr>\n",
       "    <tr>\n",
       "      <th>relationship</th>\n",
       "      <td>0.402384</td>\n",
       "    </tr>\n",
       "    <tr>\n",
       "      <th>marital-status</th>\n",
       "      <td>0.331175</td>\n",
       "    </tr>\n",
       "  </tbody>\n",
       "</table>\n",
       "</div>"
      ],
      "text/plain": [
       "                   residuals\n",
       "fnlwgt          97482.384070\n",
       "capital-gain     1388.705345\n",
       "capital-loss      152.828951\n",
       "age                 9.476880\n",
       "hours-per-week      8.040804\n",
       "education-num       0.984431\n",
       "occupation          0.790920\n",
       "workclass           0.419647\n",
       "relationship        0.402384\n",
       "marital-status      0.331175"
      ]
     },
     "execution_count": 6,
     "metadata": {},
     "output_type": "execute_result"
    }
   ],
   "source": [
    "global_feature_residuals = t.react_aggregate(\n",
    "    prediction_stats_action_feature=action_features[0],\n",
    "    details = {\n",
    "        \"prediction_stats\": True,\n",
    "        \"selected_prediction_stats\": [\"mae\"]\n",
    "    }\n",
    ")\n",
    "global_feature_residuals = global_feature_residuals.T.rename(columns={'mae':'residuals'}).sort_values('residuals', ascending=False)\n",
    "\n",
    "global_feature_residuals.iloc[0:10]"
   ]
  },
  {
   "attachments": {},
   "cell_type": "markdown",
   "id": "8a76584f-341d-4102-9887-e274de58a861",
   "metadata": {},
   "source": [
    "# Section 3: Inspect the Data for Anomalies\n",
    "\n",
    "Howso Engine can be used to show interesting information pertaining to the data and model, such as anomalous cases and potential model improvements. \n",
    " \n",
    "For each prediction, Howso Engine can also extract the influential cases and boundary cases to provide an exact explanation to the prediction process. More details on what’s available can be found in the notebook “2-interpretability.ipynb”.\n"
   ]
  },
  {
   "attachments": {},
   "cell_type": "markdown",
   "id": "652f7abc-e818-4c6b-8fd4-c1dd1cbd5736",
   "metadata": {},
   "source": [
    "## Step 1: Identify Anomalous cases\n",
    "\n",
    "Anomalous cases can exist in the data as either an outlier or inlier. Outliers are cases which are very different than other cases. Inliers are cases which are too similar to other cases and do not follow the expected distribution. An inlier could be a fraudulent case that is “too good to be true”. \n",
    "\n"
   ]
  },
  {
   "cell_type": "code",
   "execution_count": 7,
   "id": "0e0e3259-cdb2-4162-b67a-30a5813c5c42",
   "metadata": {
    "execution": {
     "iopub.execute_input": "2025-07-30T15:01:57.403143Z",
     "iopub.status.busy": "2025-07-30T15:01:57.402956Z",
     "iopub.status.idle": "2025-07-30T15:02:07.352138Z",
     "shell.execute_reply": "2025-07-30T15:02:07.351545Z"
    }
   },
   "outputs": [
    {
     "data": {
      "text/html": [
       "<div>\n",
       "<style scoped>\n",
       "    .dataframe tbody tr th:only-of-type {\n",
       "        vertical-align: middle;\n",
       "    }\n",
       "\n",
       "    .dataframe tbody tr th {\n",
       "        vertical-align: top;\n",
       "    }\n",
       "\n",
       "    .dataframe thead th {\n",
       "        text-align: right;\n",
       "    }\n",
       "</style>\n",
       "<table border=\"1\" class=\"dataframe\">\n",
       "  <thead>\n",
       "    <tr style=\"text-align: right;\">\n",
       "      <th></th>\n",
       "      <th>age</th>\n",
       "      <th>workclass</th>\n",
       "      <th>fnlwgt</th>\n",
       "      <th>education</th>\n",
       "      <th>education-num</th>\n",
       "      <th>marital-status</th>\n",
       "      <th>occupation</th>\n",
       "      <th>relationship</th>\n",
       "      <th>race</th>\n",
       "      <th>sex</th>\n",
       "      <th>capital-gain</th>\n",
       "      <th>capital-loss</th>\n",
       "      <th>hours-per-week</th>\n",
       "      <th>native-country</th>\n",
       "      <th>target</th>\n",
       "      <th>familiarity_conviction_addition</th>\n",
       "      <th>.session_training_index</th>\n",
       "      <th>.session</th>\n",
       "      <th>distance_contribution</th>\n",
       "    </tr>\n",
       "  </thead>\n",
       "  <tbody>\n",
       "    <tr>\n",
       "      <th>0</th>\n",
       "      <td>64.0</td>\n",
       "      <td>0</td>\n",
       "      <td>257790.0</td>\n",
       "      <td>11</td>\n",
       "      <td>9.0</td>\n",
       "      <td>0</td>\n",
       "      <td>0</td>\n",
       "      <td>4</td>\n",
       "      <td>4</td>\n",
       "      <td>0</td>\n",
       "      <td>0.0</td>\n",
       "      <td>0.0</td>\n",
       "      <td>38.0</td>\n",
       "      <td>39</td>\n",
       "      <td>1</td>\n",
       "      <td>22.912468</td>\n",
       "      <td>0</td>\n",
       "      <td>b79b737f-0646-489a-9509-21c6289d51ff</td>\n",
       "      <td>16.352668</td>\n",
       "    </tr>\n",
       "    <tr>\n",
       "      <th>1</th>\n",
       "      <td>21.0</td>\n",
       "      <td>4</td>\n",
       "      <td>116489.0</td>\n",
       "      <td>15</td>\n",
       "      <td>10.0</td>\n",
       "      <td>4</td>\n",
       "      <td>10</td>\n",
       "      <td>3</td>\n",
       "      <td>4</td>\n",
       "      <td>0</td>\n",
       "      <td>0.0</td>\n",
       "      <td>0.0</td>\n",
       "      <td>40.0</td>\n",
       "      <td>39</td>\n",
       "      <td>1</td>\n",
       "      <td>2.559458</td>\n",
       "      <td>1</td>\n",
       "      <td>b79b737f-0646-489a-9509-21c6289d51ff</td>\n",
       "      <td>8.992672</td>\n",
       "    </tr>\n",
       "    <tr>\n",
       "      <th>2</th>\n",
       "      <td>46.0</td>\n",
       "      <td>6</td>\n",
       "      <td>182689.0</td>\n",
       "      <td>15</td>\n",
       "      <td>10.0</td>\n",
       "      <td>2</td>\n",
       "      <td>3</td>\n",
       "      <td>0</td>\n",
       "      <td>4</td>\n",
       "      <td>1</td>\n",
       "      <td>3103.0</td>\n",
       "      <td>0.0</td>\n",
       "      <td>35.0</td>\n",
       "      <td>39</td>\n",
       "      <td>0</td>\n",
       "      <td>21.096643</td>\n",
       "      <td>2</td>\n",
       "      <td>b79b737f-0646-489a-9509-21c6289d51ff</td>\n",
       "      <td>14.140402</td>\n",
       "    </tr>\n",
       "    <tr>\n",
       "      <th>3</th>\n",
       "      <td>62.0</td>\n",
       "      <td>4</td>\n",
       "      <td>499971.0</td>\n",
       "      <td>1</td>\n",
       "      <td>7.0</td>\n",
       "      <td>6</td>\n",
       "      <td>6</td>\n",
       "      <td>1</td>\n",
       "      <td>2</td>\n",
       "      <td>0</td>\n",
       "      <td>0.0</td>\n",
       "      <td>0.0</td>\n",
       "      <td>40.0</td>\n",
       "      <td>39</td>\n",
       "      <td>1</td>\n",
       "      <td>2.194906</td>\n",
       "      <td>3</td>\n",
       "      <td>b79b737f-0646-489a-9509-21c6289d51ff</td>\n",
       "      <td>31.617975</td>\n",
       "    </tr>\n",
       "    <tr>\n",
       "      <th>4</th>\n",
       "      <td>23.0</td>\n",
       "      <td>4</td>\n",
       "      <td>133061.0</td>\n",
       "      <td>11</td>\n",
       "      <td>9.0</td>\n",
       "      <td>2</td>\n",
       "      <td>12</td>\n",
       "      <td>0</td>\n",
       "      <td>4</td>\n",
       "      <td>1</td>\n",
       "      <td>0.0</td>\n",
       "      <td>0.0</td>\n",
       "      <td>80.0</td>\n",
       "      <td>39</td>\n",
       "      <td>1</td>\n",
       "      <td>109.465185</td>\n",
       "      <td>4</td>\n",
       "      <td>b79b737f-0646-489a-9509-21c6289d51ff</td>\n",
       "      <td>16.140565</td>\n",
       "    </tr>\n",
       "    <tr>\n",
       "      <th>...</th>\n",
       "      <td>...</td>\n",
       "      <td>...</td>\n",
       "      <td>...</td>\n",
       "      <td>...</td>\n",
       "      <td>...</td>\n",
       "      <td>...</td>\n",
       "      <td>...</td>\n",
       "      <td>...</td>\n",
       "      <td>...</td>\n",
       "      <td>...</td>\n",
       "      <td>...</td>\n",
       "      <td>...</td>\n",
       "      <td>...</td>\n",
       "      <td>...</td>\n",
       "      <td>...</td>\n",
       "      <td>...</td>\n",
       "      <td>...</td>\n",
       "      <td>...</td>\n",
       "      <td>...</td>\n",
       "    </tr>\n",
       "    <tr>\n",
       "      <th>995</th>\n",
       "      <td>23.0</td>\n",
       "      <td>4</td>\n",
       "      <td>198992.0</td>\n",
       "      <td>11</td>\n",
       "      <td>9.0</td>\n",
       "      <td>4</td>\n",
       "      <td>1</td>\n",
       "      <td>3</td>\n",
       "      <td>4</td>\n",
       "      <td>0</td>\n",
       "      <td>0.0</td>\n",
       "      <td>0.0</td>\n",
       "      <td>35.0</td>\n",
       "      <td>39</td>\n",
       "      <td>1</td>\n",
       "      <td>0.362772</td>\n",
       "      <td>995</td>\n",
       "      <td>b79b737f-0646-489a-9509-21c6289d51ff</td>\n",
       "      <td>2.085703</td>\n",
       "    </tr>\n",
       "    <tr>\n",
       "      <th>996</th>\n",
       "      <td>58.0</td>\n",
       "      <td>1</td>\n",
       "      <td>26947.0</td>\n",
       "      <td>9</td>\n",
       "      <td>13.0</td>\n",
       "      <td>6</td>\n",
       "      <td>10</td>\n",
       "      <td>4</td>\n",
       "      <td>0</td>\n",
       "      <td>0</td>\n",
       "      <td>0.0</td>\n",
       "      <td>0.0</td>\n",
       "      <td>40.0</td>\n",
       "      <td>39</td>\n",
       "      <td>1</td>\n",
       "      <td>6.766954</td>\n",
       "      <td>996</td>\n",
       "      <td>b79b737f-0646-489a-9509-21c6289d51ff</td>\n",
       "      <td>24.885073</td>\n",
       "    </tr>\n",
       "    <tr>\n",
       "      <th>997</th>\n",
       "      <td>63.0</td>\n",
       "      <td>0</td>\n",
       "      <td>156799.0</td>\n",
       "      <td>11</td>\n",
       "      <td>9.0</td>\n",
       "      <td>6</td>\n",
       "      <td>0</td>\n",
       "      <td>1</td>\n",
       "      <td>4</td>\n",
       "      <td>0</td>\n",
       "      <td>0.0</td>\n",
       "      <td>0.0</td>\n",
       "      <td>4.0</td>\n",
       "      <td>39</td>\n",
       "      <td>1</td>\n",
       "      <td>5.309528</td>\n",
       "      <td>997</td>\n",
       "      <td>b79b737f-0646-489a-9509-21c6289d51ff</td>\n",
       "      <td>25.555286</td>\n",
       "    </tr>\n",
       "    <tr>\n",
       "      <th>998</th>\n",
       "      <td>19.0</td>\n",
       "      <td>0</td>\n",
       "      <td>264767.0</td>\n",
       "      <td>11</td>\n",
       "      <td>9.0</td>\n",
       "      <td>4</td>\n",
       "      <td>0</td>\n",
       "      <td>3</td>\n",
       "      <td>4</td>\n",
       "      <td>1</td>\n",
       "      <td>0.0</td>\n",
       "      <td>0.0</td>\n",
       "      <td>40.0</td>\n",
       "      <td>39</td>\n",
       "      <td>1</td>\n",
       "      <td>0.963981</td>\n",
       "      <td>998</td>\n",
       "      <td>b79b737f-0646-489a-9509-21c6289d51ff</td>\n",
       "      <td>7.774527</td>\n",
       "    </tr>\n",
       "    <tr>\n",
       "      <th>999</th>\n",
       "      <td>67.0</td>\n",
       "      <td>4</td>\n",
       "      <td>192995.0</td>\n",
       "      <td>11</td>\n",
       "      <td>9.0</td>\n",
       "      <td>6</td>\n",
       "      <td>1</td>\n",
       "      <td>4</td>\n",
       "      <td>4</td>\n",
       "      <td>0</td>\n",
       "      <td>6723.0</td>\n",
       "      <td>0.0</td>\n",
       "      <td>40.0</td>\n",
       "      <td>39</td>\n",
       "      <td>1</td>\n",
       "      <td>1.260706</td>\n",
       "      <td>999</td>\n",
       "      <td>b79b737f-0646-489a-9509-21c6289d51ff</td>\n",
       "      <td>37.166549</td>\n",
       "    </tr>\n",
       "  </tbody>\n",
       "</table>\n",
       "<p>1000 rows × 19 columns</p>\n",
       "</div>"
      ],
      "text/plain": [
       "      age  workclass    fnlwgt  education  education-num  marital-status  \\\n",
       "0    64.0          0  257790.0         11            9.0               0   \n",
       "1    21.0          4  116489.0         15           10.0               4   \n",
       "2    46.0          6  182689.0         15           10.0               2   \n",
       "3    62.0          4  499971.0          1            7.0               6   \n",
       "4    23.0          4  133061.0         11            9.0               2   \n",
       "..    ...        ...       ...        ...            ...             ...   \n",
       "995  23.0          4  198992.0         11            9.0               4   \n",
       "996  58.0          1   26947.0          9           13.0               6   \n",
       "997  63.0          0  156799.0         11            9.0               6   \n",
       "998  19.0          0  264767.0         11            9.0               4   \n",
       "999  67.0          4  192995.0         11            9.0               6   \n",
       "\n",
       "     occupation  relationship  race  sex  capital-gain  capital-loss  \\\n",
       "0             0             4     4    0           0.0           0.0   \n",
       "1            10             3     4    0           0.0           0.0   \n",
       "2             3             0     4    1        3103.0           0.0   \n",
       "3             6             1     2    0           0.0           0.0   \n",
       "4            12             0     4    1           0.0           0.0   \n",
       "..          ...           ...   ...  ...           ...           ...   \n",
       "995           1             3     4    0           0.0           0.0   \n",
       "996          10             4     0    0           0.0           0.0   \n",
       "997           0             1     4    0           0.0           0.0   \n",
       "998           0             3     4    1           0.0           0.0   \n",
       "999           1             4     4    0        6723.0           0.0   \n",
       "\n",
       "     hours-per-week  native-country  target  familiarity_conviction_addition  \\\n",
       "0              38.0              39       1                        22.912468   \n",
       "1              40.0              39       1                         2.559458   \n",
       "2              35.0              39       0                        21.096643   \n",
       "3              40.0              39       1                         2.194906   \n",
       "4              80.0              39       1                       109.465185   \n",
       "..              ...             ...     ...                              ...   \n",
       "995            35.0              39       1                         0.362772   \n",
       "996            40.0              39       1                         6.766954   \n",
       "997             4.0              39       1                         5.309528   \n",
       "998            40.0              39       1                         0.963981   \n",
       "999            40.0              39       1                         1.260706   \n",
       "\n",
       "     .session_training_index                              .session  \\\n",
       "0                          0  b79b737f-0646-489a-9509-21c6289d51ff   \n",
       "1                          1  b79b737f-0646-489a-9509-21c6289d51ff   \n",
       "2                          2  b79b737f-0646-489a-9509-21c6289d51ff   \n",
       "3                          3  b79b737f-0646-489a-9509-21c6289d51ff   \n",
       "4                          4  b79b737f-0646-489a-9509-21c6289d51ff   \n",
       "..                       ...                                   ...   \n",
       "995                      995  b79b737f-0646-489a-9509-21c6289d51ff   \n",
       "996                      996  b79b737f-0646-489a-9509-21c6289d51ff   \n",
       "997                      997  b79b737f-0646-489a-9509-21c6289d51ff   \n",
       "998                      998  b79b737f-0646-489a-9509-21c6289d51ff   \n",
       "999                      999  b79b737f-0646-489a-9509-21c6289d51ff   \n",
       "\n",
       "     distance_contribution  \n",
       "0                16.352668  \n",
       "1                 8.992672  \n",
       "2                14.140402  \n",
       "3                31.617975  \n",
       "4                16.140565  \n",
       "..                     ...  \n",
       "995               2.085703  \n",
       "996              24.885073  \n",
       "997              25.555286  \n",
       "998               7.774527  \n",
       "999              37.166549  \n",
       "\n",
       "[1000 rows x 19 columns]"
      ]
     },
     "execution_count": 7,
     "metadata": {},
     "output_type": "execute_result"
    }
   ],
   "source": [
    "# Store the familiarity conviction into each case with `react_into_features`,\n",
    "# this will be used to identify anomalous cases\n",
    "t.analyze()\n",
    "t.react_into_features(familiarity_conviction_addition=True, distance_contribution=True)\n",
    "stored_convictions = t.get_cases(session=t.active_session, features=df.columns.tolist() + ['familiarity_conviction_addition','.session_training_index', '.session', 'distance_contribution'])\n",
    "\n",
    "stored_convictions"
   ]
  },
  {
   "cell_type": "markdown",
   "id": "deb24bdf",
   "metadata": {},
   "source": [
    "Here we set a threshold for familarity conviction that can be used to identify cases as anomalies. In the case of this notebook, we use a threshold of 0.50. Cases with a conviction value below this threshold will be deemed anomalous. Then we split up these anomalies by the mean distance contribution with those lower distance contributions being inliers and those with larger distance contributions being outliers."
   ]
  },
  {
   "cell_type": "code",
   "execution_count": 8,
   "id": "141c81ca-49d5-4203-85a0-bba3062da817",
   "metadata": {
    "execution": {
     "iopub.execute_input": "2025-07-30T15:02:07.354201Z",
     "iopub.status.busy": "2025-07-30T15:02:07.354006Z",
     "iopub.status.idle": "2025-07-30T15:02:07.359332Z",
     "shell.execute_reply": "2025-07-30T15:02:07.358796Z"
    }
   },
   "outputs": [],
   "source": [
    "# Threshold to determine which cases will be deemed anomalous\n",
    "convict_threshold = 0.5\n",
    "\n",
    "# Extract the anomalous cases\n",
    "low_convicts = stored_convictions[stored_convictions['familiarity_conviction_addition'] <= convict_threshold ].sort_values('familiarity_conviction_addition', ascending=True)\n",
    "\n",
    "# Average distance contribution will be used to determine if a case is an outlier or inlier\n",
    "average_dist_contribution = low_convicts['distance_contribution'].mean()\n",
    "\n",
    "# A case with distance contribution greater than average will be tagged as outlier, and vise versa for inliers\n",
    "cat = ['inlier' if d < average_dist_contribution else 'outlier' for d in low_convicts['distance_contribution']]\n",
    "low_convicts['category'] = cat"
   ]
  },
  {
   "attachments": {},
   "cell_type": "markdown",
   "id": "1cd260bd-e4e7-4ce1-8dec-4f7b046b07b5",
   "metadata": {},
   "source": [
    "## Step 2: Inspect Outliers\n",
    "\n",
    "Let’s examine a few outlier cases. Outliers are cases which are very different than other cases."
   ]
  },
  {
   "cell_type": "code",
   "execution_count": 9,
   "id": "b34e8a80-02c6-4fd4-9236-67268b02c220",
   "metadata": {
    "execution": {
     "iopub.execute_input": "2025-07-30T15:02:07.361060Z",
     "iopub.status.busy": "2025-07-30T15:02:07.360885Z",
     "iopub.status.idle": "2025-07-30T15:02:07.390611Z",
     "shell.execute_reply": "2025-07-30T15:02:07.390106Z"
    }
   },
   "outputs": [
    {
     "data": {
      "text/html": [
       "<div>\n",
       "<style scoped>\n",
       "    .dataframe tbody tr th:only-of-type {\n",
       "        vertical-align: middle;\n",
       "    }\n",
       "\n",
       "    .dataframe tbody tr th {\n",
       "        vertical-align: top;\n",
       "    }\n",
       "\n",
       "    .dataframe thead th {\n",
       "        text-align: right;\n",
       "    }\n",
       "</style>\n",
       "<table border=\"1\" class=\"dataframe\">\n",
       "  <thead>\n",
       "    <tr style=\"text-align: right;\">\n",
       "      <th></th>\n",
       "      <th>age</th>\n",
       "      <th>workclass</th>\n",
       "      <th>fnlwgt</th>\n",
       "      <th>education</th>\n",
       "      <th>education-num</th>\n",
       "      <th>marital-status</th>\n",
       "      <th>occupation</th>\n",
       "      <th>relationship</th>\n",
       "      <th>race</th>\n",
       "      <th>sex</th>\n",
       "      <th>capital-gain</th>\n",
       "      <th>capital-loss</th>\n",
       "      <th>hours-per-week</th>\n",
       "      <th>native-country</th>\n",
       "      <th>target</th>\n",
       "      <th>familiarity_conviction_addition</th>\n",
       "      <th>.session_training_index</th>\n",
       "      <th>.session</th>\n",
       "      <th>distance_contribution</th>\n",
       "      <th>category</th>\n",
       "    </tr>\n",
       "  </thead>\n",
       "  <tbody>\n",
       "    <tr>\n",
       "      <th>0</th>\n",
       "      <td>62.0</td>\n",
       "      <td>5</td>\n",
       "      <td>191520.0</td>\n",
       "      <td>10</td>\n",
       "      <td>16.0</td>\n",
       "      <td>2</td>\n",
       "      <td>10</td>\n",
       "      <td>0</td>\n",
       "      <td>4</td>\n",
       "      <td>1</td>\n",
       "      <td>99999.0</td>\n",
       "      <td>0.0</td>\n",
       "      <td>80.0</td>\n",
       "      <td>39</td>\n",
       "      <td>0</td>\n",
       "      <td>0.018421</td>\n",
       "      <td>960</td>\n",
       "      <td>b79b737f-0646-489a-9509-21c6289d51ff</td>\n",
       "      <td>516.583810</td>\n",
       "      <td>outlier</td>\n",
       "    </tr>\n",
       "    <tr>\n",
       "      <th>1</th>\n",
       "      <td>48.0</td>\n",
       "      <td>4</td>\n",
       "      <td>25468.0</td>\n",
       "      <td>12</td>\n",
       "      <td>14.0</td>\n",
       "      <td>0</td>\n",
       "      <td>4</td>\n",
       "      <td>1</td>\n",
       "      <td>4</td>\n",
       "      <td>1</td>\n",
       "      <td>99999.0</td>\n",
       "      <td>0.0</td>\n",
       "      <td>50.0</td>\n",
       "      <td>39</td>\n",
       "      <td>0</td>\n",
       "      <td>0.020867</td>\n",
       "      <td>961</td>\n",
       "      <td>b79b737f-0646-489a-9509-21c6289d51ff</td>\n",
       "      <td>462.440963</td>\n",
       "      <td>outlier</td>\n",
       "    </tr>\n",
       "    <tr>\n",
       "      <th>2</th>\n",
       "      <td>66.0</td>\n",
       "      <td>0</td>\n",
       "      <td>186061.0</td>\n",
       "      <td>15</td>\n",
       "      <td>10.0</td>\n",
       "      <td>6</td>\n",
       "      <td>0</td>\n",
       "      <td>4</td>\n",
       "      <td>2</td>\n",
       "      <td>0</td>\n",
       "      <td>0.0</td>\n",
       "      <td>4356.0</td>\n",
       "      <td>40.0</td>\n",
       "      <td>39</td>\n",
       "      <td>1</td>\n",
       "      <td>0.024540</td>\n",
       "      <td>485</td>\n",
       "      <td>b79b737f-0646-489a-9509-21c6289d51ff</td>\n",
       "      <td>404.258758</td>\n",
       "      <td>outlier</td>\n",
       "    </tr>\n",
       "    <tr>\n",
       "      <th>3</th>\n",
       "      <td>39.0</td>\n",
       "      <td>4</td>\n",
       "      <td>347491.0</td>\n",
       "      <td>1</td>\n",
       "      <td>7.0</td>\n",
       "      <td>0</td>\n",
       "      <td>3</td>\n",
       "      <td>1</td>\n",
       "      <td>4</td>\n",
       "      <td>1</td>\n",
       "      <td>0.0</td>\n",
       "      <td>1876.0</td>\n",
       "      <td>46.0</td>\n",
       "      <td>39</td>\n",
       "      <td>1</td>\n",
       "      <td>0.034093</td>\n",
       "      <td>160</td>\n",
       "      <td>b79b737f-0646-489a-9509-21c6289d51ff</td>\n",
       "      <td>307.191011</td>\n",
       "      <td>outlier</td>\n",
       "    </tr>\n",
       "    <tr>\n",
       "      <th>4</th>\n",
       "      <td>26.0</td>\n",
       "      <td>4</td>\n",
       "      <td>280093.0</td>\n",
       "      <td>4</td>\n",
       "      <td>3.0</td>\n",
       "      <td>2</td>\n",
       "      <td>3</td>\n",
       "      <td>0</td>\n",
       "      <td>4</td>\n",
       "      <td>1</td>\n",
       "      <td>0.0</td>\n",
       "      <td>1628.0</td>\n",
       "      <td>50.0</td>\n",
       "      <td>39</td>\n",
       "      <td>1</td>\n",
       "      <td>0.036572</td>\n",
       "      <td>605</td>\n",
       "      <td>b79b737f-0646-489a-9509-21c6289d51ff</td>\n",
       "      <td>290.072518</td>\n",
       "      <td>outlier</td>\n",
       "    </tr>\n",
       "    <tr>\n",
       "      <th>5</th>\n",
       "      <td>48.0</td>\n",
       "      <td>6</td>\n",
       "      <td>191277.0</td>\n",
       "      <td>10</td>\n",
       "      <td>16.0</td>\n",
       "      <td>2</td>\n",
       "      <td>10</td>\n",
       "      <td>0</td>\n",
       "      <td>4</td>\n",
       "      <td>1</td>\n",
       "      <td>0.0</td>\n",
       "      <td>1902.0</td>\n",
       "      <td>60.0</td>\n",
       "      <td>39</td>\n",
       "      <td>0</td>\n",
       "      <td>0.040780</td>\n",
       "      <td>819</td>\n",
       "      <td>b79b737f-0646-489a-9509-21c6289d51ff</td>\n",
       "      <td>264.317643</td>\n",
       "      <td>outlier</td>\n",
       "    </tr>\n",
       "    <tr>\n",
       "      <th>6</th>\n",
       "      <td>29.0</td>\n",
       "      <td>4</td>\n",
       "      <td>250967.0</td>\n",
       "      <td>8</td>\n",
       "      <td>11.0</td>\n",
       "      <td>2</td>\n",
       "      <td>7</td>\n",
       "      <td>0</td>\n",
       "      <td>4</td>\n",
       "      <td>1</td>\n",
       "      <td>0.0</td>\n",
       "      <td>1887.0</td>\n",
       "      <td>48.0</td>\n",
       "      <td>39</td>\n",
       "      <td>0</td>\n",
       "      <td>0.056432</td>\n",
       "      <td>338</td>\n",
       "      <td>b79b737f-0646-489a-9509-21c6289d51ff</td>\n",
       "      <td>205.819508</td>\n",
       "      <td>outlier</td>\n",
       "    </tr>\n",
       "    <tr>\n",
       "      <th>7</th>\n",
       "      <td>31.0</td>\n",
       "      <td>4</td>\n",
       "      <td>226443.0</td>\n",
       "      <td>14</td>\n",
       "      <td>15.0</td>\n",
       "      <td>2</td>\n",
       "      <td>10</td>\n",
       "      <td>0</td>\n",
       "      <td>4</td>\n",
       "      <td>1</td>\n",
       "      <td>0.0</td>\n",
       "      <td>1977.0</td>\n",
       "      <td>70.0</td>\n",
       "      <td>39</td>\n",
       "      <td>0</td>\n",
       "      <td>0.060463</td>\n",
       "      <td>521</td>\n",
       "      <td>b79b737f-0646-489a-9509-21c6289d51ff</td>\n",
       "      <td>180.561451</td>\n",
       "      <td>outlier</td>\n",
       "    </tr>\n",
       "    <tr>\n",
       "      <th>8</th>\n",
       "      <td>72.0</td>\n",
       "      <td>6</td>\n",
       "      <td>285408.0</td>\n",
       "      <td>14</td>\n",
       "      <td>15.0</td>\n",
       "      <td>2</td>\n",
       "      <td>10</td>\n",
       "      <td>0</td>\n",
       "      <td>4</td>\n",
       "      <td>1</td>\n",
       "      <td>0.0</td>\n",
       "      <td>2246.0</td>\n",
       "      <td>28.0</td>\n",
       "      <td>39</td>\n",
       "      <td>0</td>\n",
       "      <td>0.060867</td>\n",
       "      <td>603</td>\n",
       "      <td>b79b737f-0646-489a-9509-21c6289d51ff</td>\n",
       "      <td>184.475361</td>\n",
       "      <td>outlier</td>\n",
       "    </tr>\n",
       "    <tr>\n",
       "      <th>9</th>\n",
       "      <td>46.0</td>\n",
       "      <td>4</td>\n",
       "      <td>326857.0</td>\n",
       "      <td>12</td>\n",
       "      <td>14.0</td>\n",
       "      <td>2</td>\n",
       "      <td>12</td>\n",
       "      <td>0</td>\n",
       "      <td>4</td>\n",
       "      <td>1</td>\n",
       "      <td>0.0</td>\n",
       "      <td>2415.0</td>\n",
       "      <td>65.0</td>\n",
       "      <td>39</td>\n",
       "      <td>0</td>\n",
       "      <td>0.075262</td>\n",
       "      <td>817</td>\n",
       "      <td>b79b737f-0646-489a-9509-21c6289d51ff</td>\n",
       "      <td>156.475779</td>\n",
       "      <td>outlier</td>\n",
       "    </tr>\n",
       "    <tr>\n",
       "      <th>10</th>\n",
       "      <td>31.0</td>\n",
       "      <td>4</td>\n",
       "      <td>183801.0</td>\n",
       "      <td>12</td>\n",
       "      <td>14.0</td>\n",
       "      <td>2</td>\n",
       "      <td>10</td>\n",
       "      <td>0</td>\n",
       "      <td>4</td>\n",
       "      <td>1</td>\n",
       "      <td>0.0</td>\n",
       "      <td>1902.0</td>\n",
       "      <td>43.0</td>\n",
       "      <td>39</td>\n",
       "      <td>0</td>\n",
       "      <td>0.084075</td>\n",
       "      <td>383</td>\n",
       "      <td>b79b737f-0646-489a-9509-21c6289d51ff</td>\n",
       "      <td>143.939385</td>\n",
       "      <td>outlier</td>\n",
       "    </tr>\n",
       "    <tr>\n",
       "      <th>11</th>\n",
       "      <td>38.0</td>\n",
       "      <td>2</td>\n",
       "      <td>162613.0</td>\n",
       "      <td>12</td>\n",
       "      <td>14.0</td>\n",
       "      <td>4</td>\n",
       "      <td>10</td>\n",
       "      <td>1</td>\n",
       "      <td>4</td>\n",
       "      <td>0</td>\n",
       "      <td>0.0</td>\n",
       "      <td>2258.0</td>\n",
       "      <td>60.0</td>\n",
       "      <td>39</td>\n",
       "      <td>1</td>\n",
       "      <td>0.086574</td>\n",
       "      <td>958</td>\n",
       "      <td>b79b737f-0646-489a-9509-21c6289d51ff</td>\n",
       "      <td>139.479149</td>\n",
       "      <td>outlier</td>\n",
       "    </tr>\n",
       "    <tr>\n",
       "      <th>12</th>\n",
       "      <td>56.0</td>\n",
       "      <td>7</td>\n",
       "      <td>104447.0</td>\n",
       "      <td>15</td>\n",
       "      <td>10.0</td>\n",
       "      <td>0</td>\n",
       "      <td>1</td>\n",
       "      <td>1</td>\n",
       "      <td>4</td>\n",
       "      <td>0</td>\n",
       "      <td>0.0</td>\n",
       "      <td>2339.0</td>\n",
       "      <td>40.0</td>\n",
       "      <td>39</td>\n",
       "      <td>1</td>\n",
       "      <td>0.150641</td>\n",
       "      <td>507</td>\n",
       "      <td>b79b737f-0646-489a-9509-21c6289d51ff</td>\n",
       "      <td>102.214746</td>\n",
       "      <td>outlier</td>\n",
       "    </tr>\n",
       "    <tr>\n",
       "      <th>13</th>\n",
       "      <td>41.0</td>\n",
       "      <td>4</td>\n",
       "      <td>182108.0</td>\n",
       "      <td>12</td>\n",
       "      <td>14.0</td>\n",
       "      <td>4</td>\n",
       "      <td>10</td>\n",
       "      <td>1</td>\n",
       "      <td>4</td>\n",
       "      <td>0</td>\n",
       "      <td>27828.0</td>\n",
       "      <td>0.0</td>\n",
       "      <td>35.0</td>\n",
       "      <td>39</td>\n",
       "      <td>0</td>\n",
       "      <td>0.151443</td>\n",
       "      <td>251</td>\n",
       "      <td>b79b737f-0646-489a-9509-21c6289d51ff</td>\n",
       "      <td>102.339075</td>\n",
       "      <td>outlier</td>\n",
       "    </tr>\n",
       "    <tr>\n",
       "      <th>14</th>\n",
       "      <td>25.0</td>\n",
       "      <td>4</td>\n",
       "      <td>102476.0</td>\n",
       "      <td>9</td>\n",
       "      <td>13.0</td>\n",
       "      <td>4</td>\n",
       "      <td>5</td>\n",
       "      <td>3</td>\n",
       "      <td>4</td>\n",
       "      <td>1</td>\n",
       "      <td>27828.0</td>\n",
       "      <td>0.0</td>\n",
       "      <td>50.0</td>\n",
       "      <td>39</td>\n",
       "      <td>0</td>\n",
       "      <td>0.162935</td>\n",
       "      <td>445</td>\n",
       "      <td>b79b737f-0646-489a-9509-21c6289d51ff</td>\n",
       "      <td>90.904553</td>\n",
       "      <td>outlier</td>\n",
       "    </tr>\n",
       "    <tr>\n",
       "      <th>15</th>\n",
       "      <td>40.0</td>\n",
       "      <td>4</td>\n",
       "      <td>158275.0</td>\n",
       "      <td>11</td>\n",
       "      <td>9.0</td>\n",
       "      <td>0</td>\n",
       "      <td>1</td>\n",
       "      <td>4</td>\n",
       "      <td>2</td>\n",
       "      <td>0</td>\n",
       "      <td>0.0</td>\n",
       "      <td>625.0</td>\n",
       "      <td>40.0</td>\n",
       "      <td>39</td>\n",
       "      <td>1</td>\n",
       "      <td>0.163422</td>\n",
       "      <td>621</td>\n",
       "      <td>b79b737f-0646-489a-9509-21c6289d51ff</td>\n",
       "      <td>97.964892</td>\n",
       "      <td>outlier</td>\n",
       "    </tr>\n",
       "    <tr>\n",
       "      <th>16</th>\n",
       "      <td>61.0</td>\n",
       "      <td>4</td>\n",
       "      <td>86067.0</td>\n",
       "      <td>7</td>\n",
       "      <td>12.0</td>\n",
       "      <td>2</td>\n",
       "      <td>12</td>\n",
       "      <td>0</td>\n",
       "      <td>4</td>\n",
       "      <td>1</td>\n",
       "      <td>15024.0</td>\n",
       "      <td>0.0</td>\n",
       "      <td>40.0</td>\n",
       "      <td>39</td>\n",
       "      <td>0</td>\n",
       "      <td>0.175861</td>\n",
       "      <td>787</td>\n",
       "      <td>b79b737f-0646-489a-9509-21c6289d51ff</td>\n",
       "      <td>93.619971</td>\n",
       "      <td>outlier</td>\n",
       "    </tr>\n",
       "    <tr>\n",
       "      <th>17</th>\n",
       "      <td>67.0</td>\n",
       "      <td>4</td>\n",
       "      <td>105252.0</td>\n",
       "      <td>9</td>\n",
       "      <td>13.0</td>\n",
       "      <td>6</td>\n",
       "      <td>4</td>\n",
       "      <td>1</td>\n",
       "      <td>4</td>\n",
       "      <td>1</td>\n",
       "      <td>0.0</td>\n",
       "      <td>2392.0</td>\n",
       "      <td>40.0</td>\n",
       "      <td>39</td>\n",
       "      <td>0</td>\n",
       "      <td>0.185770</td>\n",
       "      <td>990</td>\n",
       "      <td>b79b737f-0646-489a-9509-21c6289d51ff</td>\n",
       "      <td>89.537202</td>\n",
       "      <td>outlier</td>\n",
       "    </tr>\n",
       "    <tr>\n",
       "      <th>18</th>\n",
       "      <td>25.0</td>\n",
       "      <td>1</td>\n",
       "      <td>198813.0</td>\n",
       "      <td>9</td>\n",
       "      <td>13.0</td>\n",
       "      <td>4</td>\n",
       "      <td>1</td>\n",
       "      <td>4</td>\n",
       "      <td>2</td>\n",
       "      <td>0</td>\n",
       "      <td>0.0</td>\n",
       "      <td>1590.0</td>\n",
       "      <td>40.0</td>\n",
       "      <td>39</td>\n",
       "      <td>1</td>\n",
       "      <td>0.196131</td>\n",
       "      <td>933</td>\n",
       "      <td>b79b737f-0646-489a-9509-21c6289d51ff</td>\n",
       "      <td>87.641908</td>\n",
       "      <td>outlier</td>\n",
       "    </tr>\n",
       "    <tr>\n",
       "      <th>19</th>\n",
       "      <td>49.0</td>\n",
       "      <td>4</td>\n",
       "      <td>120629.0</td>\n",
       "      <td>9</td>\n",
       "      <td>13.0</td>\n",
       "      <td>0</td>\n",
       "      <td>4</td>\n",
       "      <td>1</td>\n",
       "      <td>2</td>\n",
       "      <td>0</td>\n",
       "      <td>27828.0</td>\n",
       "      <td>0.0</td>\n",
       "      <td>60.0</td>\n",
       "      <td>39</td>\n",
       "      <td>0</td>\n",
       "      <td>0.256482</td>\n",
       "      <td>786</td>\n",
       "      <td>b79b737f-0646-489a-9509-21c6289d51ff</td>\n",
       "      <td>72.091547</td>\n",
       "      <td>outlier</td>\n",
       "    </tr>\n",
       "    <tr>\n",
       "      <th>20</th>\n",
       "      <td>44.0</td>\n",
       "      <td>1</td>\n",
       "      <td>29591.0</td>\n",
       "      <td>9</td>\n",
       "      <td>13.0</td>\n",
       "      <td>0</td>\n",
       "      <td>13</td>\n",
       "      <td>1</td>\n",
       "      <td>4</td>\n",
       "      <td>1</td>\n",
       "      <td>0.0</td>\n",
       "      <td>2258.0</td>\n",
       "      <td>40.0</td>\n",
       "      <td>39</td>\n",
       "      <td>0</td>\n",
       "      <td>0.287603</td>\n",
       "      <td>624</td>\n",
       "      <td>b79b737f-0646-489a-9509-21c6289d51ff</td>\n",
       "      <td>69.096075</td>\n",
       "      <td>outlier</td>\n",
       "    </tr>\n",
       "    <tr>\n",
       "      <th>21</th>\n",
       "      <td>67.0</td>\n",
       "      <td>6</td>\n",
       "      <td>217892.0</td>\n",
       "      <td>10</td>\n",
       "      <td>16.0</td>\n",
       "      <td>2</td>\n",
       "      <td>10</td>\n",
       "      <td>0</td>\n",
       "      <td>4</td>\n",
       "      <td>1</td>\n",
       "      <td>10605.0</td>\n",
       "      <td>0.0</td>\n",
       "      <td>35.0</td>\n",
       "      <td>39</td>\n",
       "      <td>0</td>\n",
       "      <td>0.288551</td>\n",
       "      <td>895</td>\n",
       "      <td>b79b737f-0646-489a-9509-21c6289d51ff</td>\n",
       "      <td>70.098267</td>\n",
       "      <td>outlier</td>\n",
       "    </tr>\n",
       "    <tr>\n",
       "      <th>22</th>\n",
       "      <td>65.0</td>\n",
       "      <td>0</td>\n",
       "      <td>180422.0</td>\n",
       "      <td>7</td>\n",
       "      <td>12.0</td>\n",
       "      <td>4</td>\n",
       "      <td>0</td>\n",
       "      <td>1</td>\n",
       "      <td>4</td>\n",
       "      <td>1</td>\n",
       "      <td>6723.0</td>\n",
       "      <td>0.0</td>\n",
       "      <td>38.0</td>\n",
       "      <td>39</td>\n",
       "      <td>1</td>\n",
       "      <td>0.308154</td>\n",
       "      <td>718</td>\n",
       "      <td>b79b737f-0646-489a-9509-21c6289d51ff</td>\n",
       "      <td>67.826819</td>\n",
       "      <td>outlier</td>\n",
       "    </tr>\n",
       "    <tr>\n",
       "      <th>23</th>\n",
       "      <td>61.0</td>\n",
       "      <td>0</td>\n",
       "      <td>229744.0</td>\n",
       "      <td>3</td>\n",
       "      <td>2.0</td>\n",
       "      <td>2</td>\n",
       "      <td>0</td>\n",
       "      <td>0</td>\n",
       "      <td>4</td>\n",
       "      <td>1</td>\n",
       "      <td>3942.0</td>\n",
       "      <td>0.0</td>\n",
       "      <td>20.0</td>\n",
       "      <td>26</td>\n",
       "      <td>1</td>\n",
       "      <td>0.353457</td>\n",
       "      <td>299</td>\n",
       "      <td>b79b737f-0646-489a-9509-21c6289d51ff</td>\n",
       "      <td>63.304796</td>\n",
       "      <td>outlier</td>\n",
       "    </tr>\n",
       "    <tr>\n",
       "      <th>24</th>\n",
       "      <td>49.0</td>\n",
       "      <td>4</td>\n",
       "      <td>132476.0</td>\n",
       "      <td>10</td>\n",
       "      <td>16.0</td>\n",
       "      <td>0</td>\n",
       "      <td>13</td>\n",
       "      <td>4</td>\n",
       "      <td>4</td>\n",
       "      <td>1</td>\n",
       "      <td>7430.0</td>\n",
       "      <td>0.0</td>\n",
       "      <td>40.0</td>\n",
       "      <td>39</td>\n",
       "      <td>0</td>\n",
       "      <td>0.404243</td>\n",
       "      <td>589</td>\n",
       "      <td>b79b737f-0646-489a-9509-21c6289d51ff</td>\n",
       "      <td>58.469006</td>\n",
       "      <td>outlier</td>\n",
       "    </tr>\n",
       "    <tr>\n",
       "      <th>25</th>\n",
       "      <td>50.0</td>\n",
       "      <td>1</td>\n",
       "      <td>176969.0</td>\n",
       "      <td>11</td>\n",
       "      <td>9.0</td>\n",
       "      <td>0</td>\n",
       "      <td>10</td>\n",
       "      <td>1</td>\n",
       "      <td>4</td>\n",
       "      <td>1</td>\n",
       "      <td>0.0</td>\n",
       "      <td>1590.0</td>\n",
       "      <td>40.0</td>\n",
       "      <td>39</td>\n",
       "      <td>1</td>\n",
       "      <td>0.412465</td>\n",
       "      <td>475</td>\n",
       "      <td>b79b737f-0646-489a-9509-21c6289d51ff</td>\n",
       "      <td>58.636591</td>\n",
       "      <td>outlier</td>\n",
       "    </tr>\n",
       "    <tr>\n",
       "      <th>26</th>\n",
       "      <td>20.0</td>\n",
       "      <td>4</td>\n",
       "      <td>39803.0</td>\n",
       "      <td>15</td>\n",
       "      <td>10.0</td>\n",
       "      <td>4</td>\n",
       "      <td>8</td>\n",
       "      <td>3</td>\n",
       "      <td>4</td>\n",
       "      <td>1</td>\n",
       "      <td>0.0</td>\n",
       "      <td>1719.0</td>\n",
       "      <td>36.0</td>\n",
       "      <td>39</td>\n",
       "      <td>1</td>\n",
       "      <td>0.417065</td>\n",
       "      <td>896</td>\n",
       "      <td>b79b737f-0646-489a-9509-21c6289d51ff</td>\n",
       "      <td>54.669996</td>\n",
       "      <td>outlier</td>\n",
       "    </tr>\n",
       "    <tr>\n",
       "      <th>27</th>\n",
       "      <td>42.0</td>\n",
       "      <td>4</td>\n",
       "      <td>188331.0</td>\n",
       "      <td>15</td>\n",
       "      <td>10.0</td>\n",
       "      <td>2</td>\n",
       "      <td>1</td>\n",
       "      <td>5</td>\n",
       "      <td>4</td>\n",
       "      <td>0</td>\n",
       "      <td>15024.0</td>\n",
       "      <td>0.0</td>\n",
       "      <td>40.0</td>\n",
       "      <td>39</td>\n",
       "      <td>0</td>\n",
       "      <td>0.433638</td>\n",
       "      <td>365</td>\n",
       "      <td>b79b737f-0646-489a-9509-21c6289d51ff</td>\n",
       "      <td>57.241574</td>\n",
       "      <td>outlier</td>\n",
       "    </tr>\n",
       "    <tr>\n",
       "      <th>28</th>\n",
       "      <td>27.0</td>\n",
       "      <td>4</td>\n",
       "      <td>204984.0</td>\n",
       "      <td>15</td>\n",
       "      <td>10.0</td>\n",
       "      <td>2</td>\n",
       "      <td>1</td>\n",
       "      <td>0</td>\n",
       "      <td>4</td>\n",
       "      <td>1</td>\n",
       "      <td>0.0</td>\n",
       "      <td>1579.0</td>\n",
       "      <td>40.0</td>\n",
       "      <td>39</td>\n",
       "      <td>1</td>\n",
       "      <td>0.436483</td>\n",
       "      <td>856</td>\n",
       "      <td>b79b737f-0646-489a-9509-21c6289d51ff</td>\n",
       "      <td>54.228937</td>\n",
       "      <td>outlier</td>\n",
       "    </tr>\n",
       "    <tr>\n",
       "      <th>29</th>\n",
       "      <td>67.0</td>\n",
       "      <td>2</td>\n",
       "      <td>103315.0</td>\n",
       "      <td>12</td>\n",
       "      <td>14.0</td>\n",
       "      <td>4</td>\n",
       "      <td>4</td>\n",
       "      <td>2</td>\n",
       "      <td>4</td>\n",
       "      <td>0</td>\n",
       "      <td>15831.0</td>\n",
       "      <td>0.0</td>\n",
       "      <td>72.0</td>\n",
       "      <td>39</td>\n",
       "      <td>0</td>\n",
       "      <td>0.459098</td>\n",
       "      <td>121</td>\n",
       "      <td>b79b737f-0646-489a-9509-21c6289d51ff</td>\n",
       "      <td>55.335886</td>\n",
       "      <td>outlier</td>\n",
       "    </tr>\n",
       "    <tr>\n",
       "      <th>30</th>\n",
       "      <td>32.0</td>\n",
       "      <td>4</td>\n",
       "      <td>252752.0</td>\n",
       "      <td>12</td>\n",
       "      <td>14.0</td>\n",
       "      <td>4</td>\n",
       "      <td>4</td>\n",
       "      <td>1</td>\n",
       "      <td>4</td>\n",
       "      <td>0</td>\n",
       "      <td>13550.0</td>\n",
       "      <td>0.0</td>\n",
       "      <td>60.0</td>\n",
       "      <td>39</td>\n",
       "      <td>0</td>\n",
       "      <td>0.488751</td>\n",
       "      <td>135</td>\n",
       "      <td>b79b737f-0646-489a-9509-21c6289d51ff</td>\n",
       "      <td>52.093176</td>\n",
       "      <td>outlier</td>\n",
       "    </tr>\n",
       "  </tbody>\n",
       "</table>\n",
       "</div>"
      ],
      "text/plain": [
       "     age  workclass    fnlwgt  education  education-num  marital-status  \\\n",
       "0   62.0          5  191520.0         10           16.0               2   \n",
       "1   48.0          4   25468.0         12           14.0               0   \n",
       "2   66.0          0  186061.0         15           10.0               6   \n",
       "3   39.0          4  347491.0          1            7.0               0   \n",
       "4   26.0          4  280093.0          4            3.0               2   \n",
       "5   48.0          6  191277.0         10           16.0               2   \n",
       "6   29.0          4  250967.0          8           11.0               2   \n",
       "7   31.0          4  226443.0         14           15.0               2   \n",
       "8   72.0          6  285408.0         14           15.0               2   \n",
       "9   46.0          4  326857.0         12           14.0               2   \n",
       "10  31.0          4  183801.0         12           14.0               2   \n",
       "11  38.0          2  162613.0         12           14.0               4   \n",
       "12  56.0          7  104447.0         15           10.0               0   \n",
       "13  41.0          4  182108.0         12           14.0               4   \n",
       "14  25.0          4  102476.0          9           13.0               4   \n",
       "15  40.0          4  158275.0         11            9.0               0   \n",
       "16  61.0          4   86067.0          7           12.0               2   \n",
       "17  67.0          4  105252.0          9           13.0               6   \n",
       "18  25.0          1  198813.0          9           13.0               4   \n",
       "19  49.0          4  120629.0          9           13.0               0   \n",
       "20  44.0          1   29591.0          9           13.0               0   \n",
       "21  67.0          6  217892.0         10           16.0               2   \n",
       "22  65.0          0  180422.0          7           12.0               4   \n",
       "23  61.0          0  229744.0          3            2.0               2   \n",
       "24  49.0          4  132476.0         10           16.0               0   \n",
       "25  50.0          1  176969.0         11            9.0               0   \n",
       "26  20.0          4   39803.0         15           10.0               4   \n",
       "27  42.0          4  188331.0         15           10.0               2   \n",
       "28  27.0          4  204984.0         15           10.0               2   \n",
       "29  67.0          2  103315.0         12           14.0               4   \n",
       "30  32.0          4  252752.0         12           14.0               4   \n",
       "\n",
       "    occupation  relationship  race  sex  capital-gain  capital-loss  \\\n",
       "0           10             0     4    1       99999.0           0.0   \n",
       "1            4             1     4    1       99999.0           0.0   \n",
       "2            0             4     2    0           0.0        4356.0   \n",
       "3            3             1     4    1           0.0        1876.0   \n",
       "4            3             0     4    1           0.0        1628.0   \n",
       "5           10             0     4    1           0.0        1902.0   \n",
       "6            7             0     4    1           0.0        1887.0   \n",
       "7           10             0     4    1           0.0        1977.0   \n",
       "8           10             0     4    1           0.0        2246.0   \n",
       "9           12             0     4    1           0.0        2415.0   \n",
       "10          10             0     4    1           0.0        1902.0   \n",
       "11          10             1     4    0           0.0        2258.0   \n",
       "12           1             1     4    0           0.0        2339.0   \n",
       "13          10             1     4    0       27828.0           0.0   \n",
       "14           5             3     4    1       27828.0           0.0   \n",
       "15           1             4     2    0           0.0         625.0   \n",
       "16          12             0     4    1       15024.0           0.0   \n",
       "17           4             1     4    1           0.0        2392.0   \n",
       "18           1             4     2    0           0.0        1590.0   \n",
       "19           4             1     2    0       27828.0           0.0   \n",
       "20          13             1     4    1           0.0        2258.0   \n",
       "21          10             0     4    1       10605.0           0.0   \n",
       "22           0             1     4    1        6723.0           0.0   \n",
       "23           0             0     4    1        3942.0           0.0   \n",
       "24          13             4     4    1        7430.0           0.0   \n",
       "25          10             1     4    1           0.0        1590.0   \n",
       "26           8             3     4    1           0.0        1719.0   \n",
       "27           1             5     4    0       15024.0           0.0   \n",
       "28           1             0     4    1           0.0        1579.0   \n",
       "29           4             2     4    0       15831.0           0.0   \n",
       "30           4             1     4    0       13550.0           0.0   \n",
       "\n",
       "    hours-per-week  native-country  target  familiarity_conviction_addition  \\\n",
       "0             80.0              39       0                         0.018421   \n",
       "1             50.0              39       0                         0.020867   \n",
       "2             40.0              39       1                         0.024540   \n",
       "3             46.0              39       1                         0.034093   \n",
       "4             50.0              39       1                         0.036572   \n",
       "5             60.0              39       0                         0.040780   \n",
       "6             48.0              39       0                         0.056432   \n",
       "7             70.0              39       0                         0.060463   \n",
       "8             28.0              39       0                         0.060867   \n",
       "9             65.0              39       0                         0.075262   \n",
       "10            43.0              39       0                         0.084075   \n",
       "11            60.0              39       1                         0.086574   \n",
       "12            40.0              39       1                         0.150641   \n",
       "13            35.0              39       0                         0.151443   \n",
       "14            50.0              39       0                         0.162935   \n",
       "15            40.0              39       1                         0.163422   \n",
       "16            40.0              39       0                         0.175861   \n",
       "17            40.0              39       0                         0.185770   \n",
       "18            40.0              39       1                         0.196131   \n",
       "19            60.0              39       0                         0.256482   \n",
       "20            40.0              39       0                         0.287603   \n",
       "21            35.0              39       0                         0.288551   \n",
       "22            38.0              39       1                         0.308154   \n",
       "23            20.0              26       1                         0.353457   \n",
       "24            40.0              39       0                         0.404243   \n",
       "25            40.0              39       1                         0.412465   \n",
       "26            36.0              39       1                         0.417065   \n",
       "27            40.0              39       0                         0.433638   \n",
       "28            40.0              39       1                         0.436483   \n",
       "29            72.0              39       0                         0.459098   \n",
       "30            60.0              39       0                         0.488751   \n",
       "\n",
       "    .session_training_index                              .session  \\\n",
       "0                       960  b79b737f-0646-489a-9509-21c6289d51ff   \n",
       "1                       961  b79b737f-0646-489a-9509-21c6289d51ff   \n",
       "2                       485  b79b737f-0646-489a-9509-21c6289d51ff   \n",
       "3                       160  b79b737f-0646-489a-9509-21c6289d51ff   \n",
       "4                       605  b79b737f-0646-489a-9509-21c6289d51ff   \n",
       "5                       819  b79b737f-0646-489a-9509-21c6289d51ff   \n",
       "6                       338  b79b737f-0646-489a-9509-21c6289d51ff   \n",
       "7                       521  b79b737f-0646-489a-9509-21c6289d51ff   \n",
       "8                       603  b79b737f-0646-489a-9509-21c6289d51ff   \n",
       "9                       817  b79b737f-0646-489a-9509-21c6289d51ff   \n",
       "10                      383  b79b737f-0646-489a-9509-21c6289d51ff   \n",
       "11                      958  b79b737f-0646-489a-9509-21c6289d51ff   \n",
       "12                      507  b79b737f-0646-489a-9509-21c6289d51ff   \n",
       "13                      251  b79b737f-0646-489a-9509-21c6289d51ff   \n",
       "14                      445  b79b737f-0646-489a-9509-21c6289d51ff   \n",
       "15                      621  b79b737f-0646-489a-9509-21c6289d51ff   \n",
       "16                      787  b79b737f-0646-489a-9509-21c6289d51ff   \n",
       "17                      990  b79b737f-0646-489a-9509-21c6289d51ff   \n",
       "18                      933  b79b737f-0646-489a-9509-21c6289d51ff   \n",
       "19                      786  b79b737f-0646-489a-9509-21c6289d51ff   \n",
       "20                      624  b79b737f-0646-489a-9509-21c6289d51ff   \n",
       "21                      895  b79b737f-0646-489a-9509-21c6289d51ff   \n",
       "22                      718  b79b737f-0646-489a-9509-21c6289d51ff   \n",
       "23                      299  b79b737f-0646-489a-9509-21c6289d51ff   \n",
       "24                      589  b79b737f-0646-489a-9509-21c6289d51ff   \n",
       "25                      475  b79b737f-0646-489a-9509-21c6289d51ff   \n",
       "26                      896  b79b737f-0646-489a-9509-21c6289d51ff   \n",
       "27                      365  b79b737f-0646-489a-9509-21c6289d51ff   \n",
       "28                      856  b79b737f-0646-489a-9509-21c6289d51ff   \n",
       "29                      121  b79b737f-0646-489a-9509-21c6289d51ff   \n",
       "30                      135  b79b737f-0646-489a-9509-21c6289d51ff   \n",
       "\n",
       "    distance_contribution category  \n",
       "0              516.583810  outlier  \n",
       "1              462.440963  outlier  \n",
       "2              404.258758  outlier  \n",
       "3              307.191011  outlier  \n",
       "4              290.072518  outlier  \n",
       "5              264.317643  outlier  \n",
       "6              205.819508  outlier  \n",
       "7              180.561451  outlier  \n",
       "8              184.475361  outlier  \n",
       "9              156.475779  outlier  \n",
       "10             143.939385  outlier  \n",
       "11             139.479149  outlier  \n",
       "12             102.214746  outlier  \n",
       "13             102.339075  outlier  \n",
       "14              90.904553  outlier  \n",
       "15              97.964892  outlier  \n",
       "16              93.619971  outlier  \n",
       "17              89.537202  outlier  \n",
       "18              87.641908  outlier  \n",
       "19              72.091547  outlier  \n",
       "20              69.096075  outlier  \n",
       "21              70.098267  outlier  \n",
       "22              67.826819  outlier  \n",
       "23              63.304796  outlier  \n",
       "24              58.469006  outlier  \n",
       "25              58.636591  outlier  \n",
       "26              54.669996  outlier  \n",
       "27              57.241574  outlier  \n",
       "28              54.228937  outlier  \n",
       "29              55.335886  outlier  \n",
       "30              52.093176  outlier  "
      ]
     },
     "execution_count": 9,
     "metadata": {},
     "output_type": "execute_result"
    }
   ],
   "source": [
    "# Extract the outliers cases\n",
    "outliers = low_convicts[low_convicts['category'] == 'outlier'].reset_index(drop=True)\n",
    "outliers"
   ]
  },
  {
   "cell_type": "markdown",
   "id": "ef1e538b",
   "metadata": {},
   "source": [
    "For each outlier, we will compute some of its Feature Residual Convictions to understand which feature values are the most surprising, which will help the user understand what makes each case anomalous."
   ]
  },
  {
   "cell_type": "code",
   "execution_count": 10,
   "id": "44d990c4-a58b-4380-ba15-cc21643dbf9a",
   "metadata": {
    "execution": {
     "iopub.execute_input": "2025-07-30T15:02:07.392380Z",
     "iopub.status.busy": "2025-07-30T15:02:07.392206Z",
     "iopub.status.idle": "2025-07-30T15:02:09.608393Z",
     "shell.execute_reply": "2025-07-30T15:02:09.607691Z"
    }
   },
   "outputs": [],
   "source": [
    "# Get the case_feature_residual_convictions, influential_cases and boundary_cases\n",
    "details = {\n",
    "    'feature_full_residual_convictions_for_case': True\n",
    "}\n",
    "\n",
    "# Specify outlier cases\n",
    "outliers_indices = outliers[['.session', '.session_training_index']].values\n",
    "\n",
    "# React to get the details of each case\n",
    "results = t.react(case_indices=outliers_indices,\n",
    "                  preserve_feature_values=df.columns.tolist(),\n",
    "                  leave_case_out=True,\n",
    "                  details=details)"
   ]
  },
  {
   "cell_type": "code",
   "execution_count": 11,
   "id": "4faf2ab7-c86c-47a8-9707-bdb2dcf191cb",
   "metadata": {
    "execution": {
     "iopub.execute_input": "2025-07-30T15:02:09.610882Z",
     "iopub.status.busy": "2025-07-30T15:02:09.610628Z",
     "iopub.status.idle": "2025-07-30T15:02:09.614592Z",
     "shell.execute_reply": "2025-07-30T15:02:09.614055Z"
    }
   },
   "outputs": [],
   "source": [
    "# Extract the case feature residual convictions\n",
    "case_feature_residual_convictions = pd.DataFrame(results['details']['feature_full_residual_convictions_for_case'])[df.columns.tolist()]"
   ]
  },
  {
   "cell_type": "code",
   "execution_count": 12,
   "id": "3b45f0b1-fe30-4146-9dbf-90e1efd32645",
   "metadata": {
    "execution": {
     "iopub.execute_input": "2025-07-30T15:02:09.616338Z",
     "iopub.status.busy": "2025-07-30T15:02:09.616146Z",
     "iopub.status.idle": "2025-07-30T15:02:11.166849Z",
     "shell.execute_reply": "2025-07-30T15:02:11.166129Z"
    }
   },
   "outputs": [
    {
     "data": {
      "application/vnd.plotly.v1+json": {
       "config": {
        "plotlyServerURL": "https://plot.ly"
       },
       "data": [
        {
         "coloraxis": "coloraxis",
         "hovertemplate": "Conviction=%{z}",
         "name": "Outliers",
         "text": [
          [
           "62.0",
           "5",
           "191520.0",
           "10",
           "16.0",
           "2",
           "10",
           "0",
           "4",
           "1",
           "99999.0",
           "0.0",
           "80.0",
           "39",
           "0",
           "0.018421121336607785",
           "960",
           "b79b737f-0646-489a-9509-21c6289d51ff",
           "516.5838099919704",
           "outlier"
          ],
          [
           "48.0",
           "4",
           "25468.0",
           "12",
           "14.0",
           "0",
           "4",
           "1",
           "4",
           "1",
           "99999.0",
           "0.0",
           "50.0",
           "39",
           "0",
           "0.02086730182084601",
           "961",
           "b79b737f-0646-489a-9509-21c6289d51ff",
           "462.440963304522",
           "outlier"
          ],
          [
           "66.0",
           "0",
           "186061.0",
           "15",
           "10.0",
           "6",
           "0",
           "4",
           "2",
           "0",
           "0.0",
           "4356.0",
           "40.0",
           "39",
           "1",
           "0.024540211960141552",
           "485",
           "b79b737f-0646-489a-9509-21c6289d51ff",
           "404.25875828471317",
           "outlier"
          ],
          [
           "39.0",
           "4",
           "347491.0",
           "1",
           "7.0",
           "0",
           "3",
           "1",
           "4",
           "1",
           "0.0",
           "1876.0",
           "46.0",
           "39",
           "1",
           "0.0340932952519964",
           "160",
           "b79b737f-0646-489a-9509-21c6289d51ff",
           "307.1910109344831",
           "outlier"
          ],
          [
           "26.0",
           "4",
           "280093.0",
           "4",
           "3.0",
           "2",
           "3",
           "0",
           "4",
           "1",
           "0.0",
           "1628.0",
           "50.0",
           "39",
           "1",
           "0.03657165738609049",
           "605",
           "b79b737f-0646-489a-9509-21c6289d51ff",
           "290.0725182460754",
           "outlier"
          ]
         ],
         "texttemplate": "%{text}",
         "type": "heatmap",
         "x": [
          "age",
          "workclass",
          "fnlwgt",
          "education",
          "education-num",
          "marital-status",
          "occupation",
          "relationship",
          "race",
          "sex",
          "capital-gain",
          "capital-loss",
          "hours-per-week",
          "native-country",
          "target"
         ],
         "xgap": 3,
         "y": {
          "bdata": "AAECAwQ=",
          "dtype": "i1"
         },
         "ygap": 3,
         "z": {
          "bdata": "i34irE+b4D+ZsPBTqRDgP6h/mpXVWPI/AAAAAAAA8D8L/P/Q96ChP2GLXEY9s9Y/7C0sQKcY8D8RhciuIk7WP2HgUIJAuvU/B8NCxPtiBUBg1WD2VkWbP7/TWVB1iEVAkzl/wwl/1D+D8eH+BQURQAAhF0aV9QhAtQIOcL888D+ydjIxoYT1P79kwApnIOA/AAAAAAAA8D+d6QQRjjS3P5cJ77l8PtI/US09z5Pn7T/Bfknw5EPdP+EDjnE78vU/3ULd70Gz4j+aMzY5y+OjPwWPocZZSTVAYUFTma8SEEAMNZr4U3oEQHZkfFRwDf0/ou6bF1ZH8D+oQxZ4bf0QQJNNgQkmOA5AAAAAAAAA8D8tL4m+i8ZNQDEUKeSjSdU/7fR5QAFzFkDP7SOD3GvTP8/nGvRVgsE/ZpauMf+07j+A/YMiiwYLQIGXTwVvv5g/4sXMYaw5/j/aY/zESND4PxCZrwYOK/s/Pnse7eAK/T/eixycN/LrP+oIrKLL3OI/AAAAAAAA8D8WNhFuNzPFPxa93tToLNY/hVUt96Xj6D/BQiKGOx/vPySxkHp9q/g/UIzfm5LkAEAAAAAAAADwP/ep4OY5SWw/Qmyz0zmw6D9HiUZh79LtP/2CHmjgS9Y/QgrT/YMI2j9RHeL2TSH2PwGyFF751+0/AAAAAAAA8D8Z1JQoDNOrP8O8RbhlXBJAxIlVWqE+7z/sf94o6EkRQI8AfZctWtg/veJeaP4xBUDhLcDtyZz3P+BlN+vcxXU/X8n56OW35z98hFbG523KPwhyuZsrfNw/",
          "dtype": "f8",
          "shape": "5, 15"
         }
        }
       ],
       "layout": {
        "coloraxis": {
         "cmax": 5,
         "cmin": 0,
         "colorbar": {
          "ticktext": [
           "0",
           "0.5",
           "1",
           "1.5",
           "2",
           "2.5",
           "3",
           "3.5",
           "4",
           "4.5",
           "≥5"
          ],
          "tickvals": [
           0,
           0.5,
           1,
           1.5,
           2,
           2.5,
           3,
           3.5,
           4,
           4.5,
           5
          ],
          "title": {
           "text": "Conviction"
          }
         },
         "colorscale": [
          [
           0,
           "rgb(103,0,31)"
          ],
          [
           0.2,
           "rgb(247, 247, 247)"
          ],
          [
           0.4,
           "rgb(67,147,195)"
          ],
          [
           1,
           "rgb(5,48,97)"
          ]
         ]
        },
        "template": {
         "data": {
          "bar": [
           {
            "error_x": {
             "color": "#2a3f5f"
            },
            "error_y": {
             "color": "#2a3f5f"
            },
            "marker": {
             "line": {
              "color": "#E5ECF6",
              "width": 0.5
             },
             "pattern": {
              "fillmode": "overlay",
              "size": 10,
              "solidity": 0.2
             }
            },
            "type": "bar"
           }
          ],
          "barpolar": [
           {
            "marker": {
             "line": {
              "color": "#E5ECF6",
              "width": 0.5
             },
             "pattern": {
              "fillmode": "overlay",
              "size": 10,
              "solidity": 0.2
             }
            },
            "type": "barpolar"
           }
          ],
          "carpet": [
           {
            "aaxis": {
             "endlinecolor": "#2a3f5f",
             "gridcolor": "white",
             "linecolor": "white",
             "minorgridcolor": "white",
             "startlinecolor": "#2a3f5f"
            },
            "baxis": {
             "endlinecolor": "#2a3f5f",
             "gridcolor": "white",
             "linecolor": "white",
             "minorgridcolor": "white",
             "startlinecolor": "#2a3f5f"
            },
            "type": "carpet"
           }
          ],
          "choropleth": [
           {
            "colorbar": {
             "outlinewidth": 0,
             "ticks": ""
            },
            "type": "choropleth"
           }
          ],
          "contour": [
           {
            "colorbar": {
             "outlinewidth": 0,
             "ticks": ""
            },
            "colorscale": [
             [
              0,
              "#0d0887"
             ],
             [
              0.1111111111111111,
              "#46039f"
             ],
             [
              0.2222222222222222,
              "#7201a8"
             ],
             [
              0.3333333333333333,
              "#9c179e"
             ],
             [
              0.4444444444444444,
              "#bd3786"
             ],
             [
              0.5555555555555556,
              "#d8576b"
             ],
             [
              0.6666666666666666,
              "#ed7953"
             ],
             [
              0.7777777777777778,
              "#fb9f3a"
             ],
             [
              0.8888888888888888,
              "#fdca26"
             ],
             [
              1,
              "#f0f921"
             ]
            ],
            "type": "contour"
           }
          ],
          "contourcarpet": [
           {
            "colorbar": {
             "outlinewidth": 0,
             "ticks": ""
            },
            "type": "contourcarpet"
           }
          ],
          "heatmap": [
           {
            "colorbar": {
             "outlinewidth": 0,
             "ticks": ""
            },
            "colorscale": [
             [
              0,
              "#0d0887"
             ],
             [
              0.1111111111111111,
              "#46039f"
             ],
             [
              0.2222222222222222,
              "#7201a8"
             ],
             [
              0.3333333333333333,
              "#9c179e"
             ],
             [
              0.4444444444444444,
              "#bd3786"
             ],
             [
              0.5555555555555556,
              "#d8576b"
             ],
             [
              0.6666666666666666,
              "#ed7953"
             ],
             [
              0.7777777777777778,
              "#fb9f3a"
             ],
             [
              0.8888888888888888,
              "#fdca26"
             ],
             [
              1,
              "#f0f921"
             ]
            ],
            "type": "heatmap"
           }
          ],
          "histogram": [
           {
            "marker": {
             "pattern": {
              "fillmode": "overlay",
              "size": 10,
              "solidity": 0.2
             }
            },
            "type": "histogram"
           }
          ],
          "histogram2d": [
           {
            "colorbar": {
             "outlinewidth": 0,
             "ticks": ""
            },
            "colorscale": [
             [
              0,
              "#0d0887"
             ],
             [
              0.1111111111111111,
              "#46039f"
             ],
             [
              0.2222222222222222,
              "#7201a8"
             ],
             [
              0.3333333333333333,
              "#9c179e"
             ],
             [
              0.4444444444444444,
              "#bd3786"
             ],
             [
              0.5555555555555556,
              "#d8576b"
             ],
             [
              0.6666666666666666,
              "#ed7953"
             ],
             [
              0.7777777777777778,
              "#fb9f3a"
             ],
             [
              0.8888888888888888,
              "#fdca26"
             ],
             [
              1,
              "#f0f921"
             ]
            ],
            "type": "histogram2d"
           }
          ],
          "histogram2dcontour": [
           {
            "colorbar": {
             "outlinewidth": 0,
             "ticks": ""
            },
            "colorscale": [
             [
              0,
              "#0d0887"
             ],
             [
              0.1111111111111111,
              "#46039f"
             ],
             [
              0.2222222222222222,
              "#7201a8"
             ],
             [
              0.3333333333333333,
              "#9c179e"
             ],
             [
              0.4444444444444444,
              "#bd3786"
             ],
             [
              0.5555555555555556,
              "#d8576b"
             ],
             [
              0.6666666666666666,
              "#ed7953"
             ],
             [
              0.7777777777777778,
              "#fb9f3a"
             ],
             [
              0.8888888888888888,
              "#fdca26"
             ],
             [
              1,
              "#f0f921"
             ]
            ],
            "type": "histogram2dcontour"
           }
          ],
          "mesh3d": [
           {
            "colorbar": {
             "outlinewidth": 0,
             "ticks": ""
            },
            "type": "mesh3d"
           }
          ],
          "parcoords": [
           {
            "line": {
             "colorbar": {
              "outlinewidth": 0,
              "ticks": ""
             }
            },
            "type": "parcoords"
           }
          ],
          "pie": [
           {
            "automargin": true,
            "type": "pie"
           }
          ],
          "scatter": [
           {
            "fillpattern": {
             "fillmode": "overlay",
             "size": 10,
             "solidity": 0.2
            },
            "type": "scatter"
           }
          ],
          "scatter3d": [
           {
            "line": {
             "colorbar": {
              "outlinewidth": 0,
              "ticks": ""
             }
            },
            "marker": {
             "colorbar": {
              "outlinewidth": 0,
              "ticks": ""
             }
            },
            "type": "scatter3d"
           }
          ],
          "scattercarpet": [
           {
            "marker": {
             "colorbar": {
              "outlinewidth": 0,
              "ticks": ""
             }
            },
            "type": "scattercarpet"
           }
          ],
          "scattergeo": [
           {
            "marker": {
             "colorbar": {
              "outlinewidth": 0,
              "ticks": ""
             }
            },
            "type": "scattergeo"
           }
          ],
          "scattergl": [
           {
            "marker": {
             "colorbar": {
              "outlinewidth": 0,
              "ticks": ""
             }
            },
            "type": "scattergl"
           }
          ],
          "scattermap": [
           {
            "marker": {
             "colorbar": {
              "outlinewidth": 0,
              "ticks": ""
             }
            },
            "type": "scattermap"
           }
          ],
          "scattermapbox": [
           {
            "marker": {
             "colorbar": {
              "outlinewidth": 0,
              "ticks": ""
             }
            },
            "type": "scattermapbox"
           }
          ],
          "scatterpolar": [
           {
            "marker": {
             "colorbar": {
              "outlinewidth": 0,
              "ticks": ""
             }
            },
            "type": "scatterpolar"
           }
          ],
          "scatterpolargl": [
           {
            "marker": {
             "colorbar": {
              "outlinewidth": 0,
              "ticks": ""
             }
            },
            "type": "scatterpolargl"
           }
          ],
          "scatterternary": [
           {
            "marker": {
             "colorbar": {
              "outlinewidth": 0,
              "ticks": ""
             }
            },
            "type": "scatterternary"
           }
          ],
          "surface": [
           {
            "colorbar": {
             "outlinewidth": 0,
             "ticks": ""
            },
            "colorscale": [
             [
              0,
              "#0d0887"
             ],
             [
              0.1111111111111111,
              "#46039f"
             ],
             [
              0.2222222222222222,
              "#7201a8"
             ],
             [
              0.3333333333333333,
              "#9c179e"
             ],
             [
              0.4444444444444444,
              "#bd3786"
             ],
             [
              0.5555555555555556,
              "#d8576b"
             ],
             [
              0.6666666666666666,
              "#ed7953"
             ],
             [
              0.7777777777777778,
              "#fb9f3a"
             ],
             [
              0.8888888888888888,
              "#fdca26"
             ],
             [
              1,
              "#f0f921"
             ]
            ],
            "type": "surface"
           }
          ],
          "table": [
           {
            "cells": {
             "fill": {
              "color": "#EBF0F8"
             },
             "line": {
              "color": "white"
             }
            },
            "header": {
             "fill": {
              "color": "#C8D4E3"
             },
             "line": {
              "color": "white"
             }
            },
            "type": "table"
           }
          ]
         },
         "layout": {
          "annotationdefaults": {
           "arrowcolor": "#2a3f5f",
           "arrowhead": 0,
           "arrowwidth": 1
          },
          "autotypenumbers": "strict",
          "coloraxis": {
           "colorbar": {
            "outlinewidth": 0,
            "ticks": ""
           }
          },
          "colorscale": {
           "diverging": [
            [
             0,
             "#8e0152"
            ],
            [
             0.1,
             "#c51b7d"
            ],
            [
             0.2,
             "#de77ae"
            ],
            [
             0.3,
             "#f1b6da"
            ],
            [
             0.4,
             "#fde0ef"
            ],
            [
             0.5,
             "#f7f7f7"
            ],
            [
             0.6,
             "#e6f5d0"
            ],
            [
             0.7,
             "#b8e186"
            ],
            [
             0.8,
             "#7fbc41"
            ],
            [
             0.9,
             "#4d9221"
            ],
            [
             1,
             "#276419"
            ]
           ],
           "sequential": [
            [
             0,
             "#0d0887"
            ],
            [
             0.1111111111111111,
             "#46039f"
            ],
            [
             0.2222222222222222,
             "#7201a8"
            ],
            [
             0.3333333333333333,
             "#9c179e"
            ],
            [
             0.4444444444444444,
             "#bd3786"
            ],
            [
             0.5555555555555556,
             "#d8576b"
            ],
            [
             0.6666666666666666,
             "#ed7953"
            ],
            [
             0.7777777777777778,
             "#fb9f3a"
            ],
            [
             0.8888888888888888,
             "#fdca26"
            ],
            [
             1,
             "#f0f921"
            ]
           ],
           "sequentialminus": [
            [
             0,
             "#0d0887"
            ],
            [
             0.1111111111111111,
             "#46039f"
            ],
            [
             0.2222222222222222,
             "#7201a8"
            ],
            [
             0.3333333333333333,
             "#9c179e"
            ],
            [
             0.4444444444444444,
             "#bd3786"
            ],
            [
             0.5555555555555556,
             "#d8576b"
            ],
            [
             0.6666666666666666,
             "#ed7953"
            ],
            [
             0.7777777777777778,
             "#fb9f3a"
            ],
            [
             0.8888888888888888,
             "#fdca26"
            ],
            [
             1,
             "#f0f921"
            ]
           ]
          },
          "colorway": [
           "#636efa",
           "#EF553B",
           "#00cc96",
           "#ab63fa",
           "#FFA15A",
           "#19d3f3",
           "#FF6692",
           "#B6E880",
           "#FF97FF",
           "#FECB52"
          ],
          "font": {
           "color": "#2a3f5f"
          },
          "geo": {
           "bgcolor": "white",
           "lakecolor": "white",
           "landcolor": "#E5ECF6",
           "showlakes": true,
           "showland": true,
           "subunitcolor": "white"
          },
          "hoverlabel": {
           "align": "left"
          },
          "hovermode": "closest",
          "mapbox": {
           "style": "light"
          },
          "paper_bgcolor": "white",
          "plot_bgcolor": "#E5ECF6",
          "polar": {
           "angularaxis": {
            "gridcolor": "white",
            "linecolor": "white",
            "ticks": ""
           },
           "bgcolor": "#E5ECF6",
           "radialaxis": {
            "gridcolor": "white",
            "linecolor": "white",
            "ticks": ""
           }
          },
          "scene": {
           "xaxis": {
            "backgroundcolor": "#E5ECF6",
            "gridcolor": "white",
            "gridwidth": 2,
            "linecolor": "white",
            "showbackground": true,
            "ticks": "",
            "zerolinecolor": "white"
           },
           "yaxis": {
            "backgroundcolor": "#E5ECF6",
            "gridcolor": "white",
            "gridwidth": 2,
            "linecolor": "white",
            "showbackground": true,
            "ticks": "",
            "zerolinecolor": "white"
           },
           "zaxis": {
            "backgroundcolor": "#E5ECF6",
            "gridcolor": "white",
            "gridwidth": 2,
            "linecolor": "white",
            "showbackground": true,
            "ticks": "",
            "zerolinecolor": "white"
           }
          },
          "shapedefaults": {
           "line": {
            "color": "#2a3f5f"
           }
          },
          "ternary": {
           "aaxis": {
            "gridcolor": "white",
            "linecolor": "white",
            "ticks": ""
           },
           "baxis": {
            "gridcolor": "white",
            "linecolor": "white",
            "ticks": ""
           },
           "bgcolor": "#E5ECF6",
           "caxis": {
            "gridcolor": "white",
            "linecolor": "white",
            "ticks": ""
           }
          },
          "title": {
           "x": 0.05
          },
          "xaxis": {
           "automargin": true,
           "gridcolor": "white",
           "linecolor": "white",
           "ticks": "",
           "title": {
            "standoff": 15
           },
           "zerolinecolor": "white",
           "zerolinewidth": 2
          },
          "yaxis": {
           "automargin": true,
           "gridcolor": "white",
           "linecolor": "white",
           "ticks": "",
           "title": {
            "standoff": 15
           },
           "zerolinecolor": "white",
           "zerolinewidth": 2
          }
         }
        },
        "title": {
         "text": "Outliers"
        },
        "xaxis": {
         "anchor": "y",
         "domain": [
          0,
          1
         ],
         "title": {
          "text": "Feature"
         }
        },
        "yaxis": {
         "anchor": "x",
         "autorange": "reversed",
         "domain": [
          0,
          1
         ],
         "title": {
          "text": "Residual Conviction"
         }
        }
       }
      }
     },
     "metadata": {},
     "output_type": "display_data"
    }
   ],
   "source": [
    "fig = plot_anomalies(outliers, case_feature_residual_convictions, title=\"Outliers\", yaxis_title=\"Residual Conviction\")\n",
    "fig.show(width=1750, height=750)"
   ]
  },
  {
   "attachments": {},
   "cell_type": "markdown",
   "id": "5d17882e-9c76-46c2-b772-5b4bd1c8e8a4",
   "metadata": {},
   "source": [
    "The heat map explains the reason why each case was an outlier. The darker the shade of red, the more surprising the feature value is, which contributes to the case's status as an outlier."
   ]
  },
  {
   "attachments": {},
   "cell_type": "markdown",
   "id": "4f45902d-a272-4ff1-9953-a9777d64780a",
   "metadata": {
    "tags": []
   },
   "source": [
    "## Step 3: Inspect Inliers\n",
    "\n",
    "Let’s examine a few inlier cases. Inliers are cases which are too similar to other cases and do not follow the expected distribution. Inliers can be an indication of a fraudulent case that is “too good to be true”. "
   ]
  },
  {
   "cell_type": "code",
   "execution_count": 13,
   "id": "bd8e4a82-fd22-4def-9b9b-5d9d1be5d263",
   "metadata": {
    "execution": {
     "iopub.execute_input": "2025-07-30T15:02:11.169190Z",
     "iopub.status.busy": "2025-07-30T15:02:11.168976Z",
     "iopub.status.idle": "2025-07-30T15:02:11.207580Z",
     "shell.execute_reply": "2025-07-30T15:02:11.206978Z"
    }
   },
   "outputs": [
    {
     "data": {
      "text/html": [
       "<div>\n",
       "<style scoped>\n",
       "    .dataframe tbody tr th:only-of-type {\n",
       "        vertical-align: middle;\n",
       "    }\n",
       "\n",
       "    .dataframe tbody tr th {\n",
       "        vertical-align: top;\n",
       "    }\n",
       "\n",
       "    .dataframe thead th {\n",
       "        text-align: right;\n",
       "    }\n",
       "</style>\n",
       "<table border=\"1\" class=\"dataframe\">\n",
       "  <thead>\n",
       "    <tr style=\"text-align: right;\">\n",
       "      <th></th>\n",
       "      <th>age</th>\n",
       "      <th>workclass</th>\n",
       "      <th>fnlwgt</th>\n",
       "      <th>education</th>\n",
       "      <th>education-num</th>\n",
       "      <th>marital-status</th>\n",
       "      <th>occupation</th>\n",
       "      <th>relationship</th>\n",
       "      <th>race</th>\n",
       "      <th>sex</th>\n",
       "      <th>capital-gain</th>\n",
       "      <th>capital-loss</th>\n",
       "      <th>hours-per-week</th>\n",
       "      <th>native-country</th>\n",
       "      <th>target</th>\n",
       "      <th>familiarity_conviction_addition</th>\n",
       "      <th>.session_training_index</th>\n",
       "      <th>.session</th>\n",
       "      <th>distance_contribution</th>\n",
       "      <th>category</th>\n",
       "    </tr>\n",
       "  </thead>\n",
       "  <tbody>\n",
       "    <tr>\n",
       "      <th>0</th>\n",
       "      <td>48.0</td>\n",
       "      <td>2</td>\n",
       "      <td>189762.0</td>\n",
       "      <td>11</td>\n",
       "      <td>9.0</td>\n",
       "      <td>2</td>\n",
       "      <td>3</td>\n",
       "      <td>0</td>\n",
       "      <td>4</td>\n",
       "      <td>1</td>\n",
       "      <td>0.0</td>\n",
       "      <td>0.0</td>\n",
       "      <td>40.0</td>\n",
       "      <td>39</td>\n",
       "      <td>0</td>\n",
       "      <td>0.226545</td>\n",
       "      <td>648</td>\n",
       "      <td>b79b737f-0646-489a-9509-21c6289d51ff</td>\n",
       "      <td>0.848317</td>\n",
       "      <td>inlier</td>\n",
       "    </tr>\n",
       "    <tr>\n",
       "      <th>1</th>\n",
       "      <td>39.0</td>\n",
       "      <td>4</td>\n",
       "      <td>105813.0</td>\n",
       "      <td>11</td>\n",
       "      <td>9.0</td>\n",
       "      <td>2</td>\n",
       "      <td>3</td>\n",
       "      <td>0</td>\n",
       "      <td>4</td>\n",
       "      <td>1</td>\n",
       "      <td>0.0</td>\n",
       "      <td>0.0</td>\n",
       "      <td>40.0</td>\n",
       "      <td>39</td>\n",
       "      <td>1</td>\n",
       "      <td>0.240720</td>\n",
       "      <td>841</td>\n",
       "      <td>b79b737f-0646-489a-9509-21c6289d51ff</td>\n",
       "      <td>1.046380</td>\n",
       "      <td>inlier</td>\n",
       "    </tr>\n",
       "    <tr>\n",
       "      <th>2</th>\n",
       "      <td>39.0</td>\n",
       "      <td>4</td>\n",
       "      <td>98941.0</td>\n",
       "      <td>11</td>\n",
       "      <td>9.0</td>\n",
       "      <td>2</td>\n",
       "      <td>3</td>\n",
       "      <td>0</td>\n",
       "      <td>4</td>\n",
       "      <td>1</td>\n",
       "      <td>0.0</td>\n",
       "      <td>0.0</td>\n",
       "      <td>40.0</td>\n",
       "      <td>39</td>\n",
       "      <td>1</td>\n",
       "      <td>0.249298</td>\n",
       "      <td>167</td>\n",
       "      <td>b79b737f-0646-489a-9509-21c6289d51ff</td>\n",
       "      <td>1.101782</td>\n",
       "      <td>inlier</td>\n",
       "    </tr>\n",
       "    <tr>\n",
       "      <th>3</th>\n",
       "      <td>50.0</td>\n",
       "      <td>4</td>\n",
       "      <td>168539.0</td>\n",
       "      <td>11</td>\n",
       "      <td>9.0</td>\n",
       "      <td>2</td>\n",
       "      <td>3</td>\n",
       "      <td>0</td>\n",
       "      <td>4</td>\n",
       "      <td>1</td>\n",
       "      <td>0.0</td>\n",
       "      <td>0.0</td>\n",
       "      <td>40.0</td>\n",
       "      <td>39</td>\n",
       "      <td>0</td>\n",
       "      <td>0.252006</td>\n",
       "      <td>768</td>\n",
       "      <td>b79b737f-0646-489a-9509-21c6289d51ff</td>\n",
       "      <td>1.062333</td>\n",
       "      <td>inlier</td>\n",
       "    </tr>\n",
       "    <tr>\n",
       "      <th>4</th>\n",
       "      <td>43.0</td>\n",
       "      <td>4</td>\n",
       "      <td>200835.0</td>\n",
       "      <td>11</td>\n",
       "      <td>9.0</td>\n",
       "      <td>2</td>\n",
       "      <td>3</td>\n",
       "      <td>0</td>\n",
       "      <td>4</td>\n",
       "      <td>1</td>\n",
       "      <td>0.0</td>\n",
       "      <td>0.0</td>\n",
       "      <td>40.0</td>\n",
       "      <td>39</td>\n",
       "      <td>1</td>\n",
       "      <td>0.257010</td>\n",
       "      <td>226</td>\n",
       "      <td>b79b737f-0646-489a-9509-21c6289d51ff</td>\n",
       "      <td>1.117210</td>\n",
       "      <td>inlier</td>\n",
       "    </tr>\n",
       "    <tr>\n",
       "      <th>...</th>\n",
       "      <td>...</td>\n",
       "      <td>...</td>\n",
       "      <td>...</td>\n",
       "      <td>...</td>\n",
       "      <td>...</td>\n",
       "      <td>...</td>\n",
       "      <td>...</td>\n",
       "      <td>...</td>\n",
       "      <td>...</td>\n",
       "      <td>...</td>\n",
       "      <td>...</td>\n",
       "      <td>...</td>\n",
       "      <td>...</td>\n",
       "      <td>...</td>\n",
       "      <td>...</td>\n",
       "      <td>...</td>\n",
       "      <td>...</td>\n",
       "      <td>...</td>\n",
       "      <td>...</td>\n",
       "      <td>...</td>\n",
       "    </tr>\n",
       "    <tr>\n",
       "      <th>60</th>\n",
       "      <td>22.0</td>\n",
       "      <td>4</td>\n",
       "      <td>163519.0</td>\n",
       "      <td>15</td>\n",
       "      <td>10.0</td>\n",
       "      <td>4</td>\n",
       "      <td>6</td>\n",
       "      <td>3</td>\n",
       "      <td>4</td>\n",
       "      <td>1</td>\n",
       "      <td>0.0</td>\n",
       "      <td>0.0</td>\n",
       "      <td>25.0</td>\n",
       "      <td>39</td>\n",
       "      <td>1</td>\n",
       "      <td>0.486875</td>\n",
       "      <td>399</td>\n",
       "      <td>b79b737f-0646-489a-9509-21c6289d51ff</td>\n",
       "      <td>3.287412</td>\n",
       "      <td>inlier</td>\n",
       "    </tr>\n",
       "    <tr>\n",
       "      <th>61</th>\n",
       "      <td>37.0</td>\n",
       "      <td>4</td>\n",
       "      <td>199753.0</td>\n",
       "      <td>15</td>\n",
       "      <td>10.0</td>\n",
       "      <td>2</td>\n",
       "      <td>3</td>\n",
       "      <td>0</td>\n",
       "      <td>4</td>\n",
       "      <td>1</td>\n",
       "      <td>0.0</td>\n",
       "      <td>0.0</td>\n",
       "      <td>35.0</td>\n",
       "      <td>39</td>\n",
       "      <td>0</td>\n",
       "      <td>0.488475</td>\n",
       "      <td>494</td>\n",
       "      <td>b79b737f-0646-489a-9509-21c6289d51ff</td>\n",
       "      <td>2.948650</td>\n",
       "      <td>inlier</td>\n",
       "    </tr>\n",
       "    <tr>\n",
       "      <th>62</th>\n",
       "      <td>20.0</td>\n",
       "      <td>4</td>\n",
       "      <td>174714.0</td>\n",
       "      <td>11</td>\n",
       "      <td>9.0</td>\n",
       "      <td>4</td>\n",
       "      <td>6</td>\n",
       "      <td>3</td>\n",
       "      <td>4</td>\n",
       "      <td>1</td>\n",
       "      <td>0.0</td>\n",
       "      <td>0.0</td>\n",
       "      <td>40.0</td>\n",
       "      <td>39</td>\n",
       "      <td>1</td>\n",
       "      <td>0.492771</td>\n",
       "      <td>946</td>\n",
       "      <td>b79b737f-0646-489a-9509-21c6289d51ff</td>\n",
       "      <td>3.131740</td>\n",
       "      <td>inlier</td>\n",
       "    </tr>\n",
       "    <tr>\n",
       "      <th>63</th>\n",
       "      <td>40.0</td>\n",
       "      <td>4</td>\n",
       "      <td>199689.0</td>\n",
       "      <td>11</td>\n",
       "      <td>9.0</td>\n",
       "      <td>0</td>\n",
       "      <td>8</td>\n",
       "      <td>1</td>\n",
       "      <td>4</td>\n",
       "      <td>0</td>\n",
       "      <td>0.0</td>\n",
       "      <td>0.0</td>\n",
       "      <td>40.0</td>\n",
       "      <td>39</td>\n",
       "      <td>1</td>\n",
       "      <td>0.495751</td>\n",
       "      <td>531</td>\n",
       "      <td>b79b737f-0646-489a-9509-21c6289d51ff</td>\n",
       "      <td>3.028122</td>\n",
       "      <td>inlier</td>\n",
       "    </tr>\n",
       "    <tr>\n",
       "      <th>64</th>\n",
       "      <td>24.0</td>\n",
       "      <td>4</td>\n",
       "      <td>143436.0</td>\n",
       "      <td>15</td>\n",
       "      <td>10.0</td>\n",
       "      <td>4</td>\n",
       "      <td>6</td>\n",
       "      <td>3</td>\n",
       "      <td>4</td>\n",
       "      <td>1</td>\n",
       "      <td>0.0</td>\n",
       "      <td>0.0</td>\n",
       "      <td>24.0</td>\n",
       "      <td>39</td>\n",
       "      <td>1</td>\n",
       "      <td>0.498700</td>\n",
       "      <td>52</td>\n",
       "      <td>b79b737f-0646-489a-9509-21c6289d51ff</td>\n",
       "      <td>3.363963</td>\n",
       "      <td>inlier</td>\n",
       "    </tr>\n",
       "  </tbody>\n",
       "</table>\n",
       "<p>65 rows × 20 columns</p>\n",
       "</div>"
      ],
      "text/plain": [
       "     age  workclass    fnlwgt  education  education-num  marital-status  \\\n",
       "0   48.0          2  189762.0         11            9.0               2   \n",
       "1   39.0          4  105813.0         11            9.0               2   \n",
       "2   39.0          4   98941.0         11            9.0               2   \n",
       "3   50.0          4  168539.0         11            9.0               2   \n",
       "4   43.0          4  200835.0         11            9.0               2   \n",
       "..   ...        ...       ...        ...            ...             ...   \n",
       "60  22.0          4  163519.0         15           10.0               4   \n",
       "61  37.0          4  199753.0         15           10.0               2   \n",
       "62  20.0          4  174714.0         11            9.0               4   \n",
       "63  40.0          4  199689.0         11            9.0               0   \n",
       "64  24.0          4  143436.0         15           10.0               4   \n",
       "\n",
       "    occupation  relationship  race  sex  capital-gain  capital-loss  \\\n",
       "0            3             0     4    1           0.0           0.0   \n",
       "1            3             0     4    1           0.0           0.0   \n",
       "2            3             0     4    1           0.0           0.0   \n",
       "3            3             0     4    1           0.0           0.0   \n",
       "4            3             0     4    1           0.0           0.0   \n",
       "..         ...           ...   ...  ...           ...           ...   \n",
       "60           6             3     4    1           0.0           0.0   \n",
       "61           3             0     4    1           0.0           0.0   \n",
       "62           6             3     4    1           0.0           0.0   \n",
       "63           8             1     4    0           0.0           0.0   \n",
       "64           6             3     4    1           0.0           0.0   \n",
       "\n",
       "    hours-per-week  native-country  target  familiarity_conviction_addition  \\\n",
       "0             40.0              39       0                         0.226545   \n",
       "1             40.0              39       1                         0.240720   \n",
       "2             40.0              39       1                         0.249298   \n",
       "3             40.0              39       0                         0.252006   \n",
       "4             40.0              39       1                         0.257010   \n",
       "..             ...             ...     ...                              ...   \n",
       "60            25.0              39       1                         0.486875   \n",
       "61            35.0              39       0                         0.488475   \n",
       "62            40.0              39       1                         0.492771   \n",
       "63            40.0              39       1                         0.495751   \n",
       "64            24.0              39       1                         0.498700   \n",
       "\n",
       "    .session_training_index                              .session  \\\n",
       "0                       648  b79b737f-0646-489a-9509-21c6289d51ff   \n",
       "1                       841  b79b737f-0646-489a-9509-21c6289d51ff   \n",
       "2                       167  b79b737f-0646-489a-9509-21c6289d51ff   \n",
       "3                       768  b79b737f-0646-489a-9509-21c6289d51ff   \n",
       "4                       226  b79b737f-0646-489a-9509-21c6289d51ff   \n",
       "..                      ...                                   ...   \n",
       "60                      399  b79b737f-0646-489a-9509-21c6289d51ff   \n",
       "61                      494  b79b737f-0646-489a-9509-21c6289d51ff   \n",
       "62                      946  b79b737f-0646-489a-9509-21c6289d51ff   \n",
       "63                      531  b79b737f-0646-489a-9509-21c6289d51ff   \n",
       "64                       52  b79b737f-0646-489a-9509-21c6289d51ff   \n",
       "\n",
       "    distance_contribution category  \n",
       "0                0.848317   inlier  \n",
       "1                1.046380   inlier  \n",
       "2                1.101782   inlier  \n",
       "3                1.062333   inlier  \n",
       "4                1.117210   inlier  \n",
       "..                    ...      ...  \n",
       "60               3.287412   inlier  \n",
       "61               2.948650   inlier  \n",
       "62               3.131740   inlier  \n",
       "63               3.028122   inlier  \n",
       "64               3.363963   inlier  \n",
       "\n",
       "[65 rows x 20 columns]"
      ]
     },
     "execution_count": 13,
     "metadata": {},
     "output_type": "execute_result"
    }
   ],
   "source": [
    "# Get the inlier cases\n",
    "inliers = low_convicts[low_convicts['category'] == 'inlier'].reset_index(drop=True)\n",
    "inliers"
   ]
  },
  {
   "cell_type": "markdown",
   "id": "e4c7a740",
   "metadata": {},
   "source": [
    "Similarly to what we did with the outliers, we will use the Feature Residual Convictions to understand what feature values are unusual. In this case, we may expect to see many feature values with very high convictions, indicating that the feature value is particularly unsurprising."
   ]
  },
  {
   "cell_type": "code",
   "execution_count": 14,
   "id": "096f14f8-2048-441f-98f0-f828104c7be4",
   "metadata": {
    "execution": {
     "iopub.execute_input": "2025-07-30T15:02:11.209531Z",
     "iopub.status.busy": "2025-07-30T15:02:11.209339Z",
     "iopub.status.idle": "2025-07-30T15:02:14.061433Z",
     "shell.execute_reply": "2025-07-30T15:02:14.060801Z"
    }
   },
   "outputs": [],
   "source": [
    "# Specify the inlier cases\n",
    "inliers_indices = inliers[['.session', '.session_training_index']].values\n",
    "\n",
    "# React to get the details of each case\n",
    "results = t.react(case_indices=inliers_indices,\n",
    "                  preserve_feature_values=df.columns.tolist(),\n",
    "                  leave_case_out=True,\n",
    "                  details=details)"
   ]
  },
  {
   "cell_type": "code",
   "execution_count": 15,
   "id": "e7fdb0be-635c-4bb0-99dd-5c8f0ede8022",
   "metadata": {
    "execution": {
     "iopub.execute_input": "2025-07-30T15:02:14.063903Z",
     "iopub.status.busy": "2025-07-30T15:02:14.063683Z",
     "iopub.status.idle": "2025-07-30T15:02:14.067773Z",
     "shell.execute_reply": "2025-07-30T15:02:14.067227Z"
    }
   },
   "outputs": [],
   "source": [
    "# Extract the case feature residual convictions\n",
    "case_feature_residual_convictions = pd.DataFrame(results['details']['feature_full_residual_convictions_for_case'])[df.columns.tolist()]"
   ]
  },
  {
   "cell_type": "code",
   "execution_count": 16,
   "id": "981d6618-0d97-464b-93e8-053e51db44ad",
   "metadata": {
    "execution": {
     "iopub.execute_input": "2025-07-30T15:02:14.069559Z",
     "iopub.status.busy": "2025-07-30T15:02:14.069371Z",
     "iopub.status.idle": "2025-07-30T15:02:15.610678Z",
     "shell.execute_reply": "2025-07-30T15:02:15.610075Z"
    }
   },
   "outputs": [
    {
     "data": {
      "application/vnd.plotly.v1+json": {
       "config": {
        "plotlyServerURL": "https://plot.ly"
       },
       "data": [
        {
         "coloraxis": "coloraxis",
         "hovertemplate": "Conviction=%{z}",
         "name": "Outliers",
         "text": [
          [
           "48.0",
           "2",
           "189762.0",
           "11",
           "9.0",
           "2",
           "3",
           "0",
           "4",
           "1",
           "0.0",
           "0.0",
           "40.0",
           "39",
           "0",
           "0.226544699610413",
           "648",
           "b79b737f-0646-489a-9509-21c6289d51ff",
           "0.8483168772397602",
           "inlier"
          ],
          [
           "39.0",
           "4",
           "105813.0",
           "11",
           "9.0",
           "2",
           "3",
           "0",
           "4",
           "1",
           "0.0",
           "0.0",
           "40.0",
           "39",
           "1",
           "0.2407203519906887",
           "841",
           "b79b737f-0646-489a-9509-21c6289d51ff",
           "1.0463796341149625",
           "inlier"
          ],
          [
           "39.0",
           "4",
           "98941.0",
           "11",
           "9.0",
           "2",
           "3",
           "0",
           "4",
           "1",
           "0.0",
           "0.0",
           "40.0",
           "39",
           "1",
           "0.2492977974718506",
           "167",
           "b79b737f-0646-489a-9509-21c6289d51ff",
           "1.1017820893758778",
           "inlier"
          ],
          [
           "50.0",
           "4",
           "168539.0",
           "11",
           "9.0",
           "2",
           "3",
           "0",
           "4",
           "1",
           "0.0",
           "0.0",
           "40.0",
           "39",
           "0",
           "0.252005576221491",
           "768",
           "b79b737f-0646-489a-9509-21c6289d51ff",
           "1.0623325589715178",
           "inlier"
          ],
          [
           "43.0",
           "4",
           "200835.0",
           "11",
           "9.0",
           "2",
           "3",
           "0",
           "4",
           "1",
           "0.0",
           "0.0",
           "40.0",
           "39",
           "1",
           "0.257010428141266",
           "226",
           "b79b737f-0646-489a-9509-21c6289d51ff",
           "1.1172104233985147",
           "inlier"
          ]
         ],
         "texttemplate": "%{text}",
         "type": "heatmap",
         "x": [
          "age",
          "workclass",
          "fnlwgt",
          "education",
          "education-num",
          "marital-status",
          "occupation",
          "relationship",
          "race",
          "sex",
          "capital-gain",
          "capital-loss",
          "hours-per-week",
          "native-country",
          "target"
         ],
         "xgap": 3,
         "y": {
          "bdata": "AAECAwQ=",
          "dtype": "i1"
         },
         "ygap": 3,
         "z": {
          "bdata": "8hN3crve9j+6BKpSWfPaPzkF0efZ2QtAAAAAAAAA8D8AAAAAAADwP/ajwl+l8/Q/nwJMOq7O8j8y2+awpG7xP83+7hDduwRAAAAAAAAA8D/xW3qnrvXcP9z+wolTXPM/OlOuk0hc+j+s0QWr5375PzVUTshnPeo/o9gg9ybAAECh8E3pqj7/PxLS3yiK3ec/AAAAAAAA8D8AAAAAAADwPxowL+2jf/w/WVXHdNHp9D/unSdCJ3/1P4rsixMpXvI/AAAAAAAA8D9nBCvnWG/7Pz0WF9C+Cvg/j0Fnch0i8T+eLWfzSCv2P8IPTMRcSxFALARM+6i1AEAHk9OGxwD7Px56Q0HKneY/AAAAAAAA8D8AAAAAAADwPxowL+2jf/w/XyViHgf09D/unSdCJ3/1P4zSSUhqYfI/AAAAAAAA8D+8nCHjWG/7P/FetZi+Cvg/GhAVNk828T+0P3sanCr2PyRadNG7IRFABTT7Z7FS8z9NlFw64JL5P+lCv9pYygJAAAAAAAAA8D8AAAAAAADwPwAAAAAAAPA/FByOWHIj9D8AAAAAAADwP+zAJXvNX/0/AAAAAAAA8D+jG7CDntTiP5Nr5Is/M/M/Pjxo+dVZ8D8y+GAQjOD3P0JUGgK069c/8/53F3QnAUCm2mv5xt71Pxg8c4620AVAAAAAAAAA8D8AAAAAAADwPxsbsmroN/c/yvYC/Ftp9D+6/iky9cfzP0CzBDCNIfk/AAAAAAAA8D8l0eqibxf7P/xE9yRSpgFA0uSa4WYa8T9A9Vf8+A35PyttsSFQvOY/",
          "dtype": "f8",
          "shape": "5, 15"
         }
        }
       ],
       "layout": {
        "coloraxis": {
         "cmax": 5,
         "cmin": 0,
         "colorbar": {
          "ticktext": [
           "0",
           "0.5",
           "1",
           "1.5",
           "2",
           "2.5",
           "3",
           "3.5",
           "4",
           "4.5",
           "≥5"
          ],
          "tickvals": [
           0,
           0.5,
           1,
           1.5,
           2,
           2.5,
           3,
           3.5,
           4,
           4.5,
           5
          ],
          "title": {
           "text": "Conviction"
          }
         },
         "colorscale": [
          [
           0,
           "rgb(103,0,31)"
          ],
          [
           0.2,
           "rgb(247, 247, 247)"
          ],
          [
           0.4,
           "rgb(67,147,195)"
          ],
          [
           1,
           "rgb(5,48,97)"
          ]
         ]
        },
        "template": {
         "data": {
          "bar": [
           {
            "error_x": {
             "color": "#2a3f5f"
            },
            "error_y": {
             "color": "#2a3f5f"
            },
            "marker": {
             "line": {
              "color": "#E5ECF6",
              "width": 0.5
             },
             "pattern": {
              "fillmode": "overlay",
              "size": 10,
              "solidity": 0.2
             }
            },
            "type": "bar"
           }
          ],
          "barpolar": [
           {
            "marker": {
             "line": {
              "color": "#E5ECF6",
              "width": 0.5
             },
             "pattern": {
              "fillmode": "overlay",
              "size": 10,
              "solidity": 0.2
             }
            },
            "type": "barpolar"
           }
          ],
          "carpet": [
           {
            "aaxis": {
             "endlinecolor": "#2a3f5f",
             "gridcolor": "white",
             "linecolor": "white",
             "minorgridcolor": "white",
             "startlinecolor": "#2a3f5f"
            },
            "baxis": {
             "endlinecolor": "#2a3f5f",
             "gridcolor": "white",
             "linecolor": "white",
             "minorgridcolor": "white",
             "startlinecolor": "#2a3f5f"
            },
            "type": "carpet"
           }
          ],
          "choropleth": [
           {
            "colorbar": {
             "outlinewidth": 0,
             "ticks": ""
            },
            "type": "choropleth"
           }
          ],
          "contour": [
           {
            "colorbar": {
             "outlinewidth": 0,
             "ticks": ""
            },
            "colorscale": [
             [
              0,
              "#0d0887"
             ],
             [
              0.1111111111111111,
              "#46039f"
             ],
             [
              0.2222222222222222,
              "#7201a8"
             ],
             [
              0.3333333333333333,
              "#9c179e"
             ],
             [
              0.4444444444444444,
              "#bd3786"
             ],
             [
              0.5555555555555556,
              "#d8576b"
             ],
             [
              0.6666666666666666,
              "#ed7953"
             ],
             [
              0.7777777777777778,
              "#fb9f3a"
             ],
             [
              0.8888888888888888,
              "#fdca26"
             ],
             [
              1,
              "#f0f921"
             ]
            ],
            "type": "contour"
           }
          ],
          "contourcarpet": [
           {
            "colorbar": {
             "outlinewidth": 0,
             "ticks": ""
            },
            "type": "contourcarpet"
           }
          ],
          "heatmap": [
           {
            "colorbar": {
             "outlinewidth": 0,
             "ticks": ""
            },
            "colorscale": [
             [
              0,
              "#0d0887"
             ],
             [
              0.1111111111111111,
              "#46039f"
             ],
             [
              0.2222222222222222,
              "#7201a8"
             ],
             [
              0.3333333333333333,
              "#9c179e"
             ],
             [
              0.4444444444444444,
              "#bd3786"
             ],
             [
              0.5555555555555556,
              "#d8576b"
             ],
             [
              0.6666666666666666,
              "#ed7953"
             ],
             [
              0.7777777777777778,
              "#fb9f3a"
             ],
             [
              0.8888888888888888,
              "#fdca26"
             ],
             [
              1,
              "#f0f921"
             ]
            ],
            "type": "heatmap"
           }
          ],
          "histogram": [
           {
            "marker": {
             "pattern": {
              "fillmode": "overlay",
              "size": 10,
              "solidity": 0.2
             }
            },
            "type": "histogram"
           }
          ],
          "histogram2d": [
           {
            "colorbar": {
             "outlinewidth": 0,
             "ticks": ""
            },
            "colorscale": [
             [
              0,
              "#0d0887"
             ],
             [
              0.1111111111111111,
              "#46039f"
             ],
             [
              0.2222222222222222,
              "#7201a8"
             ],
             [
              0.3333333333333333,
              "#9c179e"
             ],
             [
              0.4444444444444444,
              "#bd3786"
             ],
             [
              0.5555555555555556,
              "#d8576b"
             ],
             [
              0.6666666666666666,
              "#ed7953"
             ],
             [
              0.7777777777777778,
              "#fb9f3a"
             ],
             [
              0.8888888888888888,
              "#fdca26"
             ],
             [
              1,
              "#f0f921"
             ]
            ],
            "type": "histogram2d"
           }
          ],
          "histogram2dcontour": [
           {
            "colorbar": {
             "outlinewidth": 0,
             "ticks": ""
            },
            "colorscale": [
             [
              0,
              "#0d0887"
             ],
             [
              0.1111111111111111,
              "#46039f"
             ],
             [
              0.2222222222222222,
              "#7201a8"
             ],
             [
              0.3333333333333333,
              "#9c179e"
             ],
             [
              0.4444444444444444,
              "#bd3786"
             ],
             [
              0.5555555555555556,
              "#d8576b"
             ],
             [
              0.6666666666666666,
              "#ed7953"
             ],
             [
              0.7777777777777778,
              "#fb9f3a"
             ],
             [
              0.8888888888888888,
              "#fdca26"
             ],
             [
              1,
              "#f0f921"
             ]
            ],
            "type": "histogram2dcontour"
           }
          ],
          "mesh3d": [
           {
            "colorbar": {
             "outlinewidth": 0,
             "ticks": ""
            },
            "type": "mesh3d"
           }
          ],
          "parcoords": [
           {
            "line": {
             "colorbar": {
              "outlinewidth": 0,
              "ticks": ""
             }
            },
            "type": "parcoords"
           }
          ],
          "pie": [
           {
            "automargin": true,
            "type": "pie"
           }
          ],
          "scatter": [
           {
            "fillpattern": {
             "fillmode": "overlay",
             "size": 10,
             "solidity": 0.2
            },
            "type": "scatter"
           }
          ],
          "scatter3d": [
           {
            "line": {
             "colorbar": {
              "outlinewidth": 0,
              "ticks": ""
             }
            },
            "marker": {
             "colorbar": {
              "outlinewidth": 0,
              "ticks": ""
             }
            },
            "type": "scatter3d"
           }
          ],
          "scattercarpet": [
           {
            "marker": {
             "colorbar": {
              "outlinewidth": 0,
              "ticks": ""
             }
            },
            "type": "scattercarpet"
           }
          ],
          "scattergeo": [
           {
            "marker": {
             "colorbar": {
              "outlinewidth": 0,
              "ticks": ""
             }
            },
            "type": "scattergeo"
           }
          ],
          "scattergl": [
           {
            "marker": {
             "colorbar": {
              "outlinewidth": 0,
              "ticks": ""
             }
            },
            "type": "scattergl"
           }
          ],
          "scattermap": [
           {
            "marker": {
             "colorbar": {
              "outlinewidth": 0,
              "ticks": ""
             }
            },
            "type": "scattermap"
           }
          ],
          "scattermapbox": [
           {
            "marker": {
             "colorbar": {
              "outlinewidth": 0,
              "ticks": ""
             }
            },
            "type": "scattermapbox"
           }
          ],
          "scatterpolar": [
           {
            "marker": {
             "colorbar": {
              "outlinewidth": 0,
              "ticks": ""
             }
            },
            "type": "scatterpolar"
           }
          ],
          "scatterpolargl": [
           {
            "marker": {
             "colorbar": {
              "outlinewidth": 0,
              "ticks": ""
             }
            },
            "type": "scatterpolargl"
           }
          ],
          "scatterternary": [
           {
            "marker": {
             "colorbar": {
              "outlinewidth": 0,
              "ticks": ""
             }
            },
            "type": "scatterternary"
           }
          ],
          "surface": [
           {
            "colorbar": {
             "outlinewidth": 0,
             "ticks": ""
            },
            "colorscale": [
             [
              0,
              "#0d0887"
             ],
             [
              0.1111111111111111,
              "#46039f"
             ],
             [
              0.2222222222222222,
              "#7201a8"
             ],
             [
              0.3333333333333333,
              "#9c179e"
             ],
             [
              0.4444444444444444,
              "#bd3786"
             ],
             [
              0.5555555555555556,
              "#d8576b"
             ],
             [
              0.6666666666666666,
              "#ed7953"
             ],
             [
              0.7777777777777778,
              "#fb9f3a"
             ],
             [
              0.8888888888888888,
              "#fdca26"
             ],
             [
              1,
              "#f0f921"
             ]
            ],
            "type": "surface"
           }
          ],
          "table": [
           {
            "cells": {
             "fill": {
              "color": "#EBF0F8"
             },
             "line": {
              "color": "white"
             }
            },
            "header": {
             "fill": {
              "color": "#C8D4E3"
             },
             "line": {
              "color": "white"
             }
            },
            "type": "table"
           }
          ]
         },
         "layout": {
          "annotationdefaults": {
           "arrowcolor": "#2a3f5f",
           "arrowhead": 0,
           "arrowwidth": 1
          },
          "autotypenumbers": "strict",
          "coloraxis": {
           "colorbar": {
            "outlinewidth": 0,
            "ticks": ""
           }
          },
          "colorscale": {
           "diverging": [
            [
             0,
             "#8e0152"
            ],
            [
             0.1,
             "#c51b7d"
            ],
            [
             0.2,
             "#de77ae"
            ],
            [
             0.3,
             "#f1b6da"
            ],
            [
             0.4,
             "#fde0ef"
            ],
            [
             0.5,
             "#f7f7f7"
            ],
            [
             0.6,
             "#e6f5d0"
            ],
            [
             0.7,
             "#b8e186"
            ],
            [
             0.8,
             "#7fbc41"
            ],
            [
             0.9,
             "#4d9221"
            ],
            [
             1,
             "#276419"
            ]
           ],
           "sequential": [
            [
             0,
             "#0d0887"
            ],
            [
             0.1111111111111111,
             "#46039f"
            ],
            [
             0.2222222222222222,
             "#7201a8"
            ],
            [
             0.3333333333333333,
             "#9c179e"
            ],
            [
             0.4444444444444444,
             "#bd3786"
            ],
            [
             0.5555555555555556,
             "#d8576b"
            ],
            [
             0.6666666666666666,
             "#ed7953"
            ],
            [
             0.7777777777777778,
             "#fb9f3a"
            ],
            [
             0.8888888888888888,
             "#fdca26"
            ],
            [
             1,
             "#f0f921"
            ]
           ],
           "sequentialminus": [
            [
             0,
             "#0d0887"
            ],
            [
             0.1111111111111111,
             "#46039f"
            ],
            [
             0.2222222222222222,
             "#7201a8"
            ],
            [
             0.3333333333333333,
             "#9c179e"
            ],
            [
             0.4444444444444444,
             "#bd3786"
            ],
            [
             0.5555555555555556,
             "#d8576b"
            ],
            [
             0.6666666666666666,
             "#ed7953"
            ],
            [
             0.7777777777777778,
             "#fb9f3a"
            ],
            [
             0.8888888888888888,
             "#fdca26"
            ],
            [
             1,
             "#f0f921"
            ]
           ]
          },
          "colorway": [
           "#636efa",
           "#EF553B",
           "#00cc96",
           "#ab63fa",
           "#FFA15A",
           "#19d3f3",
           "#FF6692",
           "#B6E880",
           "#FF97FF",
           "#FECB52"
          ],
          "font": {
           "color": "#2a3f5f"
          },
          "geo": {
           "bgcolor": "white",
           "lakecolor": "white",
           "landcolor": "#E5ECF6",
           "showlakes": true,
           "showland": true,
           "subunitcolor": "white"
          },
          "hoverlabel": {
           "align": "left"
          },
          "hovermode": "closest",
          "mapbox": {
           "style": "light"
          },
          "paper_bgcolor": "white",
          "plot_bgcolor": "#E5ECF6",
          "polar": {
           "angularaxis": {
            "gridcolor": "white",
            "linecolor": "white",
            "ticks": ""
           },
           "bgcolor": "#E5ECF6",
           "radialaxis": {
            "gridcolor": "white",
            "linecolor": "white",
            "ticks": ""
           }
          },
          "scene": {
           "xaxis": {
            "backgroundcolor": "#E5ECF6",
            "gridcolor": "white",
            "gridwidth": 2,
            "linecolor": "white",
            "showbackground": true,
            "ticks": "",
            "zerolinecolor": "white"
           },
           "yaxis": {
            "backgroundcolor": "#E5ECF6",
            "gridcolor": "white",
            "gridwidth": 2,
            "linecolor": "white",
            "showbackground": true,
            "ticks": "",
            "zerolinecolor": "white"
           },
           "zaxis": {
            "backgroundcolor": "#E5ECF6",
            "gridcolor": "white",
            "gridwidth": 2,
            "linecolor": "white",
            "showbackground": true,
            "ticks": "",
            "zerolinecolor": "white"
           }
          },
          "shapedefaults": {
           "line": {
            "color": "#2a3f5f"
           }
          },
          "ternary": {
           "aaxis": {
            "gridcolor": "white",
            "linecolor": "white",
            "ticks": ""
           },
           "baxis": {
            "gridcolor": "white",
            "linecolor": "white",
            "ticks": ""
           },
           "bgcolor": "#E5ECF6",
           "caxis": {
            "gridcolor": "white",
            "linecolor": "white",
            "ticks": ""
           }
          },
          "title": {
           "x": 0.05
          },
          "xaxis": {
           "automargin": true,
           "gridcolor": "white",
           "linecolor": "white",
           "ticks": "",
           "title": {
            "standoff": 15
           },
           "zerolinecolor": "white",
           "zerolinewidth": 2
          },
          "yaxis": {
           "automargin": true,
           "gridcolor": "white",
           "linecolor": "white",
           "ticks": "",
           "title": {
            "standoff": 15
           },
           "zerolinecolor": "white",
           "zerolinewidth": 2
          }
         }
        },
        "title": {
         "text": "Inliers"
        },
        "xaxis": {
         "anchor": "y",
         "domain": [
          0,
          1
         ],
         "title": {
          "text": "Feature"
         }
        },
        "yaxis": {
         "anchor": "x",
         "autorange": "reversed",
         "domain": [
          0,
          1
         ],
         "title": {
          "text": "Residual Conviction"
         }
        }
       }
      }
     },
     "metadata": {},
     "output_type": "display_data"
    }
   ],
   "source": [
    "fig = plot_anomalies(inliers, case_feature_residual_convictions, title=\"Inliers\", yaxis_title=\"Residual Conviction\")\n",
    "fig.show(width=1500, height=750)"
   ]
  },
  {
   "attachments": {},
   "cell_type": "markdown",
   "id": "4d444dae-f0dc-4faf-9034-6dc990f6ffdb",
   "metadata": {},
   "source": [
    "The heat map explains the reason why each case was an inlier. The more unspurprising the value is. If this seems unintuitive, imagine a dataset where values are always hard to predict with an error of less than 15.0. If a case were to suddenly appear where every value was predicted perfectly, its Feature Residual Conviction values would all be extremely high (dark blue in the case of this visualization)."
   ]
  },
  {
   "attachments": {},
   "cell_type": "markdown",
   "id": "0f5def89-aec8-48f3-98f8-8a1790405757",
   "metadata": {},
   "source": [
    "# Section 4: Finding Potential Improvements in the Dataset\n",
    "\n",
    "Sparse regions of the model or under defined problems can make it difficult to make an accurate prediction. Howso Engine can be used to identify potential data, or model improvements by examining the residual conviction and density.\n",
    "\n",
    "## Step 1: Compute Case Feature Residual Convictions\n",
    "\n",
    "Case Feature Residual Convicion is a ratio of the local residual for each feature to the case residual. Inspecting these conviction values helps users understand what regions of their data are easier or more difficult to predict compared to the average across the dataset.\n",
    "\n",
    "Understanding this can help users understand where more data collection may be beneficial."
   ]
  },
  {
   "cell_type": "code",
   "execution_count": 17,
   "id": "b1e9c25f-f263-41ea-9ea7-3d8e6247ea6d",
   "metadata": {
    "execution": {
     "iopub.execute_input": "2025-07-30T15:02:15.612787Z",
     "iopub.status.busy": "2025-07-30T15:02:15.612569Z",
     "iopub.status.idle": "2025-07-30T15:02:15.616110Z",
     "shell.execute_reply": "2025-07-30T15:02:15.615577Z"
    }
   },
   "outputs": [],
   "source": [
    "# Identify cases for investigation\n",
    "partial_train_df = stored_convictions\n",
    "partial_train_cases = partial_train_df[['.session', '.session_training_index']]"
   ]
  },
  {
   "cell_type": "code",
   "execution_count": 18,
   "id": "2720f5e9-3373-4c24-92bb-1e88c26ba287",
   "metadata": {
    "execution": {
     "iopub.execute_input": "2025-07-30T15:02:15.617801Z",
     "iopub.status.busy": "2025-07-30T15:02:15.617601Z",
     "iopub.status.idle": "2025-07-30T15:02:17.992778Z",
     "shell.execute_reply": "2025-07-30T15:02:17.992125Z"
    }
   },
   "outputs": [],
   "source": [
    "# Residual convictions are output via the case_feature_residual_convictions explanation\n",
    "details = {\n",
    "    'feature_full_residual_convictions_for_case':True,\n",
    "    'features': ['target'],\n",
    "}\n",
    "\n",
    "# Get the residual convictions for the specified cases\n",
    "new_result = t.react(case_indices=partial_train_cases.values.tolist(),\n",
    "                     leave_case_out=True,\n",
    "                     preserve_feature_values=df.drop(action_features, axis=1).columns.tolist(),\n",
    "                     action_features=action_features,\n",
    "                     details=details)"
   ]
  },
  {
   "cell_type": "code",
   "execution_count": 19,
   "id": "a6b08957-6417-415e-89ed-3a70c324678d",
   "metadata": {
    "execution": {
     "iopub.execute_input": "2025-07-30T15:02:17.995086Z",
     "iopub.status.busy": "2025-07-30T15:02:17.994871Z",
     "iopub.status.idle": "2025-07-30T15:02:18.000061Z",
     "shell.execute_reply": "2025-07-30T15:02:17.999511Z"
    }
   },
   "outputs": [],
   "source": [
    "# Extract residual conviction\n",
    "target_residual_convictions = [ x['target'] for x in new_result['details']['feature_full_residual_convictions_for_case'] ]\n",
    "\n",
    "# Binarize residual conviction\n",
    "convict_threshold = 0.50\n",
    "low_residual_conviction = [1 if x <= convict_threshold else 0 for x in target_residual_convictions]\n",
    "\n",
    "# Density is just the inverse of distance_contribution\n",
    "density = 1 / partial_train_df['distance_contribution']\n",
    "\n",
    "# Add new features to the dataframe\n",
    "partial_train_df['density'] = density\n",
    "partial_train_df['target_residual_conviction'] = target_residual_convictions\n",
    "partial_train_df['low_residual_conviction'] = low_residual_conviction"
   ]
  },
  {
   "cell_type": "code",
   "execution_count": 20,
   "id": "a658e9b0-5d57-4647-bf94-2120a5bad6cf",
   "metadata": {
    "execution": {
     "iopub.execute_input": "2025-07-30T15:02:18.001862Z",
     "iopub.status.busy": "2025-07-30T15:02:18.001582Z",
     "iopub.status.idle": "2025-07-30T15:02:18.019285Z",
     "shell.execute_reply": "2025-07-30T15:02:18.018729Z"
    }
   },
   "outputs": [
    {
     "data": {
      "text/html": [
       "<div>\n",
       "<style scoped>\n",
       "    .dataframe tbody tr th:only-of-type {\n",
       "        vertical-align: middle;\n",
       "    }\n",
       "\n",
       "    .dataframe tbody tr th {\n",
       "        vertical-align: top;\n",
       "    }\n",
       "\n",
       "    .dataframe thead th {\n",
       "        text-align: right;\n",
       "    }\n",
       "</style>\n",
       "<table border=\"1\" class=\"dataframe\">\n",
       "  <thead>\n",
       "    <tr style=\"text-align: right;\">\n",
       "      <th></th>\n",
       "      <th>age</th>\n",
       "      <th>workclass</th>\n",
       "      <th>fnlwgt</th>\n",
       "      <th>education</th>\n",
       "      <th>education-num</th>\n",
       "      <th>marital-status</th>\n",
       "      <th>occupation</th>\n",
       "      <th>relationship</th>\n",
       "      <th>race</th>\n",
       "      <th>sex</th>\n",
       "      <th>...</th>\n",
       "      <th>hours-per-week</th>\n",
       "      <th>native-country</th>\n",
       "      <th>target</th>\n",
       "      <th>familiarity_conviction_addition</th>\n",
       "      <th>.session_training_index</th>\n",
       "      <th>.session</th>\n",
       "      <th>distance_contribution</th>\n",
       "      <th>density</th>\n",
       "      <th>target_residual_conviction</th>\n",
       "      <th>low_residual_conviction</th>\n",
       "    </tr>\n",
       "  </thead>\n",
       "  <tbody>\n",
       "    <tr>\n",
       "      <th>0</th>\n",
       "      <td>64.0</td>\n",
       "      <td>0</td>\n",
       "      <td>257790.0</td>\n",
       "      <td>11</td>\n",
       "      <td>9.0</td>\n",
       "      <td>0</td>\n",
       "      <td>0</td>\n",
       "      <td>4</td>\n",
       "      <td>4</td>\n",
       "      <td>0</td>\n",
       "      <td>...</td>\n",
       "      <td>38.0</td>\n",
       "      <td>39</td>\n",
       "      <td>1</td>\n",
       "      <td>22.912468</td>\n",
       "      <td>0</td>\n",
       "      <td>b79b737f-0646-489a-9509-21c6289d51ff</td>\n",
       "      <td>16.352668</td>\n",
       "      <td>0.061152</td>\n",
       "      <td>0.675277</td>\n",
       "      <td>0</td>\n",
       "    </tr>\n",
       "    <tr>\n",
       "      <th>1</th>\n",
       "      <td>21.0</td>\n",
       "      <td>4</td>\n",
       "      <td>116489.0</td>\n",
       "      <td>15</td>\n",
       "      <td>10.0</td>\n",
       "      <td>4</td>\n",
       "      <td>10</td>\n",
       "      <td>3</td>\n",
       "      <td>4</td>\n",
       "      <td>0</td>\n",
       "      <td>...</td>\n",
       "      <td>40.0</td>\n",
       "      <td>39</td>\n",
       "      <td>1</td>\n",
       "      <td>2.559458</td>\n",
       "      <td>1</td>\n",
       "      <td>b79b737f-0646-489a-9509-21c6289d51ff</td>\n",
       "      <td>8.992672</td>\n",
       "      <td>0.111202</td>\n",
       "      <td>1.011170</td>\n",
       "      <td>0</td>\n",
       "    </tr>\n",
       "    <tr>\n",
       "      <th>2</th>\n",
       "      <td>46.0</td>\n",
       "      <td>6</td>\n",
       "      <td>182689.0</td>\n",
       "      <td>15</td>\n",
       "      <td>10.0</td>\n",
       "      <td>2</td>\n",
       "      <td>3</td>\n",
       "      <td>0</td>\n",
       "      <td>4</td>\n",
       "      <td>1</td>\n",
       "      <td>...</td>\n",
       "      <td>35.0</td>\n",
       "      <td>39</td>\n",
       "      <td>0</td>\n",
       "      <td>21.096643</td>\n",
       "      <td>2</td>\n",
       "      <td>b79b737f-0646-489a-9509-21c6289d51ff</td>\n",
       "      <td>14.140402</td>\n",
       "      <td>0.070719</td>\n",
       "      <td>1.382503</td>\n",
       "      <td>0</td>\n",
       "    </tr>\n",
       "    <tr>\n",
       "      <th>3</th>\n",
       "      <td>62.0</td>\n",
       "      <td>4</td>\n",
       "      <td>499971.0</td>\n",
       "      <td>1</td>\n",
       "      <td>7.0</td>\n",
       "      <td>6</td>\n",
       "      <td>6</td>\n",
       "      <td>1</td>\n",
       "      <td>2</td>\n",
       "      <td>0</td>\n",
       "      <td>...</td>\n",
       "      <td>40.0</td>\n",
       "      <td>39</td>\n",
       "      <td>1</td>\n",
       "      <td>2.194906</td>\n",
       "      <td>3</td>\n",
       "      <td>b79b737f-0646-489a-9509-21c6289d51ff</td>\n",
       "      <td>31.617975</td>\n",
       "      <td>0.031628</td>\n",
       "      <td>1.041722</td>\n",
       "      <td>0</td>\n",
       "    </tr>\n",
       "    <tr>\n",
       "      <th>4</th>\n",
       "      <td>23.0</td>\n",
       "      <td>4</td>\n",
       "      <td>133061.0</td>\n",
       "      <td>11</td>\n",
       "      <td>9.0</td>\n",
       "      <td>2</td>\n",
       "      <td>12</td>\n",
       "      <td>0</td>\n",
       "      <td>4</td>\n",
       "      <td>1</td>\n",
       "      <td>...</td>\n",
       "      <td>80.0</td>\n",
       "      <td>39</td>\n",
       "      <td>1</td>\n",
       "      <td>109.465185</td>\n",
       "      <td>4</td>\n",
       "      <td>b79b737f-0646-489a-9509-21c6289d51ff</td>\n",
       "      <td>16.140565</td>\n",
       "      <td>0.061956</td>\n",
       "      <td>1.559509</td>\n",
       "      <td>0</td>\n",
       "    </tr>\n",
       "    <tr>\n",
       "      <th>...</th>\n",
       "      <td>...</td>\n",
       "      <td>...</td>\n",
       "      <td>...</td>\n",
       "      <td>...</td>\n",
       "      <td>...</td>\n",
       "      <td>...</td>\n",
       "      <td>...</td>\n",
       "      <td>...</td>\n",
       "      <td>...</td>\n",
       "      <td>...</td>\n",
       "      <td>...</td>\n",
       "      <td>...</td>\n",
       "      <td>...</td>\n",
       "      <td>...</td>\n",
       "      <td>...</td>\n",
       "      <td>...</td>\n",
       "      <td>...</td>\n",
       "      <td>...</td>\n",
       "      <td>...</td>\n",
       "      <td>...</td>\n",
       "      <td>...</td>\n",
       "    </tr>\n",
       "    <tr>\n",
       "      <th>995</th>\n",
       "      <td>23.0</td>\n",
       "      <td>4</td>\n",
       "      <td>198992.0</td>\n",
       "      <td>11</td>\n",
       "      <td>9.0</td>\n",
       "      <td>4</td>\n",
       "      <td>1</td>\n",
       "      <td>3</td>\n",
       "      <td>4</td>\n",
       "      <td>0</td>\n",
       "      <td>...</td>\n",
       "      <td>35.0</td>\n",
       "      <td>39</td>\n",
       "      <td>1</td>\n",
       "      <td>0.362772</td>\n",
       "      <td>995</td>\n",
       "      <td>b79b737f-0646-489a-9509-21c6289d51ff</td>\n",
       "      <td>2.085703</td>\n",
       "      <td>0.479455</td>\n",
       "      <td>1.004965</td>\n",
       "      <td>0</td>\n",
       "    </tr>\n",
       "    <tr>\n",
       "      <th>996</th>\n",
       "      <td>58.0</td>\n",
       "      <td>1</td>\n",
       "      <td>26947.0</td>\n",
       "      <td>9</td>\n",
       "      <td>13.0</td>\n",
       "      <td>6</td>\n",
       "      <td>10</td>\n",
       "      <td>4</td>\n",
       "      <td>0</td>\n",
       "      <td>0</td>\n",
       "      <td>...</td>\n",
       "      <td>40.0</td>\n",
       "      <td>39</td>\n",
       "      <td>1</td>\n",
       "      <td>6.766954</td>\n",
       "      <td>996</td>\n",
       "      <td>b79b737f-0646-489a-9509-21c6289d51ff</td>\n",
       "      <td>24.885073</td>\n",
       "      <td>0.040185</td>\n",
       "      <td>1.227272</td>\n",
       "      <td>0</td>\n",
       "    </tr>\n",
       "    <tr>\n",
       "      <th>997</th>\n",
       "      <td>63.0</td>\n",
       "      <td>0</td>\n",
       "      <td>156799.0</td>\n",
       "      <td>11</td>\n",
       "      <td>9.0</td>\n",
       "      <td>6</td>\n",
       "      <td>0</td>\n",
       "      <td>1</td>\n",
       "      <td>4</td>\n",
       "      <td>0</td>\n",
       "      <td>...</td>\n",
       "      <td>4.0</td>\n",
       "      <td>39</td>\n",
       "      <td>1</td>\n",
       "      <td>5.309528</td>\n",
       "      <td>997</td>\n",
       "      <td>b79b737f-0646-489a-9509-21c6289d51ff</td>\n",
       "      <td>25.555286</td>\n",
       "      <td>0.039131</td>\n",
       "      <td>1.440864</td>\n",
       "      <td>0</td>\n",
       "    </tr>\n",
       "    <tr>\n",
       "      <th>998</th>\n",
       "      <td>19.0</td>\n",
       "      <td>0</td>\n",
       "      <td>264767.0</td>\n",
       "      <td>11</td>\n",
       "      <td>9.0</td>\n",
       "      <td>4</td>\n",
       "      <td>0</td>\n",
       "      <td>3</td>\n",
       "      <td>4</td>\n",
       "      <td>1</td>\n",
       "      <td>...</td>\n",
       "      <td>40.0</td>\n",
       "      <td>39</td>\n",
       "      <td>1</td>\n",
       "      <td>0.963981</td>\n",
       "      <td>998</td>\n",
       "      <td>b79b737f-0646-489a-9509-21c6289d51ff</td>\n",
       "      <td>7.774527</td>\n",
       "      <td>0.128625</td>\n",
       "      <td>1.005972</td>\n",
       "      <td>0</td>\n",
       "    </tr>\n",
       "    <tr>\n",
       "      <th>999</th>\n",
       "      <td>67.0</td>\n",
       "      <td>4</td>\n",
       "      <td>192995.0</td>\n",
       "      <td>11</td>\n",
       "      <td>9.0</td>\n",
       "      <td>6</td>\n",
       "      <td>1</td>\n",
       "      <td>4</td>\n",
       "      <td>4</td>\n",
       "      <td>0</td>\n",
       "      <td>...</td>\n",
       "      <td>40.0</td>\n",
       "      <td>39</td>\n",
       "      <td>1</td>\n",
       "      <td>1.260706</td>\n",
       "      <td>999</td>\n",
       "      <td>b79b737f-0646-489a-9509-21c6289d51ff</td>\n",
       "      <td>37.166549</td>\n",
       "      <td>0.026906</td>\n",
       "      <td>1.191915</td>\n",
       "      <td>0</td>\n",
       "    </tr>\n",
       "  </tbody>\n",
       "</table>\n",
       "<p>1000 rows × 22 columns</p>\n",
       "</div>"
      ],
      "text/plain": [
       "      age  workclass    fnlwgt  education  education-num  marital-status  \\\n",
       "0    64.0          0  257790.0         11            9.0               0   \n",
       "1    21.0          4  116489.0         15           10.0               4   \n",
       "2    46.0          6  182689.0         15           10.0               2   \n",
       "3    62.0          4  499971.0          1            7.0               6   \n",
       "4    23.0          4  133061.0         11            9.0               2   \n",
       "..    ...        ...       ...        ...            ...             ...   \n",
       "995  23.0          4  198992.0         11            9.0               4   \n",
       "996  58.0          1   26947.0          9           13.0               6   \n",
       "997  63.0          0  156799.0         11            9.0               6   \n",
       "998  19.0          0  264767.0         11            9.0               4   \n",
       "999  67.0          4  192995.0         11            9.0               6   \n",
       "\n",
       "     occupation  relationship  race  sex  ...  hours-per-week  native-country  \\\n",
       "0             0             4     4    0  ...            38.0              39   \n",
       "1            10             3     4    0  ...            40.0              39   \n",
       "2             3             0     4    1  ...            35.0              39   \n",
       "3             6             1     2    0  ...            40.0              39   \n",
       "4            12             0     4    1  ...            80.0              39   \n",
       "..          ...           ...   ...  ...  ...             ...             ...   \n",
       "995           1             3     4    0  ...            35.0              39   \n",
       "996          10             4     0    0  ...            40.0              39   \n",
       "997           0             1     4    0  ...             4.0              39   \n",
       "998           0             3     4    1  ...            40.0              39   \n",
       "999           1             4     4    0  ...            40.0              39   \n",
       "\n",
       "     target  familiarity_conviction_addition  .session_training_index  \\\n",
       "0         1                        22.912468                        0   \n",
       "1         1                         2.559458                        1   \n",
       "2         0                        21.096643                        2   \n",
       "3         1                         2.194906                        3   \n",
       "4         1                       109.465185                        4   \n",
       "..      ...                              ...                      ...   \n",
       "995       1                         0.362772                      995   \n",
       "996       1                         6.766954                      996   \n",
       "997       1                         5.309528                      997   \n",
       "998       1                         0.963981                      998   \n",
       "999       1                         1.260706                      999   \n",
       "\n",
       "                                 .session  distance_contribution   density  \\\n",
       "0    b79b737f-0646-489a-9509-21c6289d51ff              16.352668  0.061152   \n",
       "1    b79b737f-0646-489a-9509-21c6289d51ff               8.992672  0.111202   \n",
       "2    b79b737f-0646-489a-9509-21c6289d51ff              14.140402  0.070719   \n",
       "3    b79b737f-0646-489a-9509-21c6289d51ff              31.617975  0.031628   \n",
       "4    b79b737f-0646-489a-9509-21c6289d51ff              16.140565  0.061956   \n",
       "..                                    ...                    ...       ...   \n",
       "995  b79b737f-0646-489a-9509-21c6289d51ff               2.085703  0.479455   \n",
       "996  b79b737f-0646-489a-9509-21c6289d51ff              24.885073  0.040185   \n",
       "997  b79b737f-0646-489a-9509-21c6289d51ff              25.555286  0.039131   \n",
       "998  b79b737f-0646-489a-9509-21c6289d51ff               7.774527  0.128625   \n",
       "999  b79b737f-0646-489a-9509-21c6289d51ff              37.166549  0.026906   \n",
       "\n",
       "     target_residual_conviction  low_residual_conviction  \n",
       "0                      0.675277                        0  \n",
       "1                      1.011170                        0  \n",
       "2                      1.382503                        0  \n",
       "3                      1.041722                        0  \n",
       "4                      1.559509                        0  \n",
       "..                          ...                      ...  \n",
       "995                    1.004965                        0  \n",
       "996                    1.227272                        0  \n",
       "997                    1.440864                        0  \n",
       "998                    1.005972                        0  \n",
       "999                    1.191915                        0  \n",
       "\n",
       "[1000 rows x 22 columns]"
      ]
     },
     "execution_count": 20,
     "metadata": {},
     "output_type": "execute_result"
    }
   ],
   "source": [
    "partial_train_df"
   ]
  },
  {
   "cell_type": "code",
   "execution_count": 21,
   "id": "d902d796-a176-486d-a427-a7783bfa9c86",
   "metadata": {
    "execution": {
     "iopub.execute_input": "2025-07-30T15:02:18.021037Z",
     "iopub.status.busy": "2025-07-30T15:02:18.020841Z",
     "iopub.status.idle": "2025-07-30T15:02:18.024717Z",
     "shell.execute_reply": "2025-07-30T15:02:18.024200Z"
    }
   },
   "outputs": [],
   "source": [
    "# Helper function to resize the data points\n",
    "def get_sizes(min_size, max_size, series):\n",
    "    min_value = series.min()\n",
    "    max_value = series.max()\n",
    "\n",
    "    m = (max_size - min_size) / (max_value - min_value)\n",
    "\n",
    "    sizes = series * m + min_size\n",
    "    return (sizes)\n",
    "\n",
    "partial_train_df[\"density\"] = get_sizes(5, 500, partial_train_df[\"density\"])"
   ]
  },
  {
   "cell_type": "markdown",
   "id": "49d35075",
   "metadata": {},
   "source": [
    "With the Residual Convictions computed for the \"target\" feature across all the trained data, we can visualize the data to attempt to find the regions of the data where convictions are particularly low. "
   ]
  },
  {
   "cell_type": "code",
   "execution_count": 22,
   "id": "3d4ec798",
   "metadata": {
    "execution": {
     "iopub.execute_input": "2025-07-30T15:02:18.026379Z",
     "iopub.status.busy": "2025-07-30T15:02:18.026199Z",
     "iopub.status.idle": "2025-07-30T15:02:19.773265Z",
     "shell.execute_reply": "2025-07-30T15:02:19.772679Z"
    }
   },
   "outputs": [
    {
     "data": {
      "application/vnd.plotly.v1+json": {
       "config": {
        "plotlyServerURL": "https://plot.ly"
       },
       "data": [
        {
         "legendgroup": "cases",
         "legendgrouptitle": {
          "text": "Cases"
         },
         "marker": {
          "line": {
           "color": "darkgrey",
           "width": 2
          },
          "opacity": 0.4,
          "size": {
           "bdata": "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",
           "dtype": "f8"
          },
          "sizemin": 7.5,
          "sizemode": "area"
         },
         "mode": "markers",
         "name": "0",
         "type": "scattergl",
         "x": {
          "bdata": "AAAAAAAAUEAAAAAAAAA1QAAAAAAAAEdAAAAAAAAAT0AAAAAAAAA3QAAAAAAAADpAAAAAAACARUAAAAAAAIBMQAAAAAAAAEBAAAAAAACAQUAAAAAAAIBBQAAAAAAAgEZAAAAAAAAAUEAAAAAAAIBDQAAAAAAAADtAAAAAAACAR0AAAAAAAABAQAAAAAAAgERAAAAAAACAR0AAAAAAAABHQAAAAAAAgEFAAAAAAAAARkAAAAAAAABHQAAAAAAAAD9AAAAAAAAAP0AAAAAAAABNQAAAAAAAgEFAAAAAAAAAPkAAAAAAAABHQAAAAAAAADZAAAAAAAAAO0AAAAAAAABDQAAAAAAAAEhAAAAAAACAR0AAAAAAAIBMQAAAAAAAADdAAAAAAACARUAAAAAAAABGQAAAAAAAADNAAAAAAAAAN0AAAAAAAABJQAAAAAAAADZAAAAAAAAAQ0AAAAAAAAA3QAAAAAAAgEhAAAAAAAAAQEAAAAAAAAA1QAAAAAAAgENAAAAAAAAAOEAAAAAAAEBRQAAAAAAAADpAAAAAAACAS0AAAAAAAABLQAAAAAAAAD1AAAAAAAAAPkAAAAAAAABDQAAAAAAAAE1AAAAAAAAATEAAAAAAAAA1QAAAAAAAAEpAAAAAAACAQkAAAAAAAABDQAAAAAAAAEZAAAAAAAAAPkAAAAAAAIBKQAAAAAAAAElAAAAAAAAAPEAAAAAAAIBHQAAAAAAAADlAAAAAAAAANUAAAAAAAABKQAAAAAAAAEVAAAAAAACAUEAAAAAAAIBCQAAAAAAAAEtAAAAAAAAANkAAAAAAAAA/QAAAAAAAAExAAAAAAAAANUAAAAAAAABBQAAAAAAAADhAAAAAAAAAP0AAAAAAAABHQAAAAAAAAD5AAAAAAAAAO0AAAAAAAAA4QAAAAAAAAEBAAAAAAACAR0AAAAAAAAAzQAAAAAAAAEBAAAAAAAAARUAAAAAAAIBJQAAAAAAAgExAAAAAAAAAQ0AAAAAAAAA/QAAAAAAAgEpAAAAAAAAAQUAAAAAAAAA9QAAAAAAAgEFAAAAAAACAR0AAAAAAAIBPQAAAAAAAgEdAAAAAAAAANEAAAAAAAIBHQAAAAAAAAEJAAAAAAAAARkAAAAAAAABIQAAAAAAAAERAAAAAAACASEAAAAAAAIBHQAAAAAAAAD9AAAAAAAAANkAAAAAAAABDQAAAAAAAgEVAAAAAAAAAQEAAAAAAAAA0QAAAAAAAwFBAAAAAAAAASkAAAAAAAABHQAAAAAAAADtAAAAAAACAQ0AAAAAAAAA4QAAAAAAAADhAAAAAAAAAOUAAAAAAAABAQAAAAAAAgEhAAAAAAAAAO0AAAAAAAABDQAAAAAAAADJAAAAAAAAAO0AAAAAAAAA8QAAAAAAAADRAAAAAAACASEAAAAAAAABCQAAAAAAAADxAAAAAAAAAR0AAAAAAAABKQAAAAAAAgERAAAAAAACAUUAAAAAAAABAQAAAAAAAgEFAAAAAAACAQkAAAAAAAAAxQAAAAAAAADpAAAAAAACAQ0AAAAAAAABTQAAAAAAAAEJAAAAAAAAAOEAAAAAAAABIQAAAAAAAgExAAAAAAAAAPUAAAAAAAABNQAAAAAAAADpAAAAAAACAQ0AAAAAAAIBNQAAAAAAAADJAAAAAAAAAPUAAAAAAAABDQAAAAAAAgERAAAAAAAAARUAAAAAAAIBDQAAAAAAAAEdAAAAAAACAQ0AAAAAAAIBFQAAAAAAAgEFAAAAAAAAAMkAAAAAAAABLQAAAAAAAgENAAAAAAABAUUAAAAAAAABCQAAAAAAAAENAAAAAAAAAOkAAAAAAAABLQAAAAAAAgEdAAAAAAACAQUAAAAAAAABCQAAAAAAAAEdAAAAAAAAASUAAAAAAAAAxQAAAAAAAAElAAAAAAACAQUAAAAAAAAA+QAAAAAAAgEJAAAAAAAAAPEAAAAAAAABKQAAAAAAAAD9AAAAAAABAUUAAAAAAAAA1QAAAAAAAgEZAAAAAAACATEAAAAAAAABOQAAAAAAAADhAAAAAAACAQkAAAAAAAAA8QAAAAAAAADRAAAAAAACATUAAAAAAAABDQAAAAAAAgEBAAAAAAAAAQEAAAAAAAABFQAAAAAAAAERAAAAAAAAAREAAAAAAAAAyQAAAAAAAAEBAAAAAAAAATEAAAAAAAAA9QAAAAAAAAEVAAAAAAAAAOUAAAAAAAAA5QAAAAAAAAEBAAAAAAAAANEAAAAAAAIBDQAAAAAAAADVAAAAAAAAANUAAAAAAAAA4QAAAAAAAgENAAAAAAAAANkAAAAAAAIBFQAAAAAAAADlAAAAAAAAAQ0AAAAAAAIBNQAAAAAAAAD9AAAAAAAAARkAAAAAAAIBPQAAAAAAAADpAAAAAAACAQEAAAAAAAABCQAAAAAAAgEVAAAAAAACATEAAAAAAAAA7QAAAAAAAgE1AAAAAAAAAQEAAAAAAAIBIQAAAAAAAAEBAAAAAAACAQUAAAAAAAIBBQAAAAAAAADFAAAAAAACAR0AAAAAAAABMQAAAAAAAADVAAAAAAACARUAAAAAAAIBIQAAAAAAAADRAAAAAAACAUEAAAAAAAABOQAAAAAAAADlAAAAAAACATUAAAAAAAABLQAAAAAAAAEBAAAAAAAAAOUAAAAAAAAA4QAAAAAAAAEBAAAAAAAAAN0AAAAAAAAA9QAAAAAAAAElAAAAAAACASkAAAAAAAABOQAAAAAAAgENAAAAAAACATEAAAAAAAAA7QAAAAAAAADdAAAAAAAAAM0AAAAAAAAA0QAAAAAAAAEhAAAAAAAAATEAAAAAAAABAQAAAAAAAADhAAAAAAAAARUAAAAAAAAA2QAAAAAAAgE1AAAAAAAAAS0AAAAAAAIBAQAAAAAAAADRAAAAAAAAANUAAAAAAAABJQAAAAAAAgERAAAAAAAAANkAAAAAAAAA6QAAAAAAAgEZAAAAAAACAQUAAAAAAAIBMQAAAAAAAgEZAAAAAAACAR0AAAAAAAIBOQAAAAAAAAD1AAAAAAAAAPkAAAAAAAAA7QAAAAAAAgEpAAAAAAAAAPUAAAAAAAIBMQAAAAAAAgEVAAAAAAAAAQEAAAAAAAIBNQAAAAAAAADdAAAAAAAAASUAAAAAAAAA6QAAAAAAAADxAAAAAAACAS0AAAAAAAABAQAAAAAAAgENAAAAAAADAUUAAAAAAAIBGQAAAAAAAADFAAAAAAAAAN0AAAAAAAABMQAAAAAAAAENAAAAAAACAQEAAAAAAAIBNQAAAAAAAgEZAAAAAAAAASEAAAAAAAIBHQAAAAAAAgERAAAAAAAAANkAAAAAAAIBMQAAAAAAAAEJAAAAAAACASkAAAAAAAABEQAAAAAAAgFRAAAAAAAAAPUAAAAAAAIBBQAAAAAAAADJAAAAAAACAQUAAAAAAAAA1QAAAAAAAADhAAAAAAAAAUEAAAAAAAABBQAAAAAAAgENAAAAAAAAAQEAAAAAAAAA4QAAAAAAAgEpAAAAAAAAAN0AAAAAAAAA4QAAAAAAAgEVAAAAAAAAAO0AAAAAAAAA3QAAAAAAAAEBAAAAAAAAAQ0AAAAAAAAA0QAAAAAAAgEFAAAAAAAAAQEAAAAAAAABBQAAAAAAAAERAAAAAAAAAPUAAAAAAAAA2QAAAAAAAgEZAAAAAAAAARUAAAAAAAAA+QAAAAAAAAD5AAAAAAAAAN0AAAAAAAABEQAAAAAAAQFFAAAAAAAAAUEAAAAAAAAAzQAAAAAAAAENAAAAAAACAR0AAAAAAAIBBQAAAAAAAAD5AAAAAAACAQUAAAAAAAAA9QAAAAAAAAD9AAAAAAAAAP0AAAAAAAAA/QAAAAAAAgEFAAAAAAACAQkAAAAAAAIBGQAAAAAAAADNAAAAAAAAAPEAAAAAAAAA6QAAAAAAAAD5AAAAAAAAAPUAAAAAAAAA7QAAAAAAAADNAAAAAAAAAOUAAAAAAAABAQAAAAAAAADpAAAAAAAAANkAAAAAAAAA7QAAAAAAAgFBAAAAAAACATEAAAAAAAAA/QAAAAAAAAD1AAAAAAACARkAAAAAAAAA5QAAAAAAAAEJAAAAAAAAAP0AAAAAAAAA4QAAAAAAAADlAAAAAAAAANEAAAAAAAAA8QAAAAAAAgEJAAAAAAACATUAAAAAAAABDQAAAAAAAgE9AAAAAAAAAP0AAAAAAAMBQQAAAAAAAAEtAAAAAAADAUEAAAAAAAAAyQAAAAAAAgEJAAAAAAAAAOkAAAAAAAABBQAAAAAAAAE9AAAAAAAAAN0AAAAAAAIBKQAAAAAAAAD9AAAAAAAAATkAAAAAAAABPQAAAAAAAADFAAAAAAACASkAAAAAAAAA1QAAAAAAAADVAAAAAAACAQEAAAAAAAIBSQAAAAAAAAElAAAAAAACAQUAAAAAAAABCQAAAAAAAADxAAAAAAAAAOUAAAAAAAIBJQAAAAAAAAEZAAAAAAACASEAAAAAAAAA+QAAAAAAAgE9AAAAAAABAUkAAAAAAAAA9QAAAAAAAAFJAAAAAAACAQkAAAAAAAIBAQAAAAAAAgEVAAAAAAAAAOUAAAAAAAABKQAAAAAAAgEFAAAAAAAAARkAAAAAAAIBDQAAAAAAAAD1AAAAAAAAAN0AAAAAAAIBJQAAAAAAAgEdAAAAAAAAANUAAAAAAAAAzQAAAAAAAAD5AAAAAAAAAQ0AAAAAAAABMQAAAAAAAgEZAAAAAAAAAMUAAAAAAAAAzQAAAAAAAADJAAAAAAAAAOEAAAAAAAIBGQAAAAAAAgERAAAAAAAAASUAAAAAAAAAyQAAAAAAAAD5AAAAAAAAAPEAAAAAAAAAzQAAAAAAAADRAAAAAAAAATkAAAAAAAAA0QAAAAAAAAEJAAAAAAAAANEAAAAAAAIBQQAAAAAAAAD9AAAAAAACAQkAAAAAAAABKQAAAAAAAgEdAAAAAAAAAMkAAAAAAAIBIQAAAAAAAAEJAAAAAAACAQkAAAAAAAAA8QAAAAAAAgEdAAAAAAADAUEAAAAAAAAA6QAAAAAAAgENAAAAAAAAAOkAAAAAAAEBRQAAAAAAAwFBAAAAAAAAAN0AAAAAAAAA/QAAAAAAAAEFAAAAAAAAATEAAAAAAAIBLQAAAAAAAAERAAAAAAAAAQkAAAAAAAABIQAAAAAAAAD9AAAAAAAAAPUAAAAAAAAAzQAAAAAAAgEFAAAAAAACAREAAAAAAAAA4QAAAAAAAAD1AAAAAAAAAQkAAAAAAAAA9QAAAAAAAAD9AAAAAAAAAPkAAAAAAAAA4QAAAAAAAAEBAAAAAAAAARUAAAAAAAABCQAAAAAAAAFBAAAAAAAAAPEAAAAAAAABAQAAAAAAAAD1AAAAAAAAAREAAAAAAAIBAQAAAAAAAQFJAAAAAAACAQ0AAAAAAAABMQAAAAAAAADdAAAAAAACAQ0AAAAAAAIBIQAAAAAAAADxAAAAAAAAAM0AAAAAAAABWQAAAAAAAAElAAAAAAACARkAAAAAAAABIQAAAAAAAAEBAAAAAAAAAPUAAAAAAAAA4QAAAAAAAgEhAAAAAAAAANUAAAAAAAIBMQAAAAAAAAD9AAAAAAACATkAAAAAAAIBFQAAAAAAAADlAAAAAAACAREAAAAAAAIBHQAAAAAAAAEpAAAAAAAAATkAAAAAAAAA+QAAAAAAAAEdAAAAAAAAANUAAAAAAAABGQAAAAAAAgEJAAAAAAAAAMkAAAAAAAAA2QAAAAAAAAD9AAAAAAAAAQkAAAAAAAIBHQAAAAAAAgEVAAAAAAACAQkAAAAAAAIBBQAAAAAAAAE5AAAAAAAAAP0AAAAAAAABDQAAAAAAAgEBAAAAAAAAARkAAAAAAAABHQAAAAAAAADpAAAAAAAAAQkAAAAAAAIBGQAAAAAAAADdAAAAAAACARkAAAAAAAABEQAAAAAAAADhAAAAAAAAAP0AAAAAAAAA1QAAAAAAAADZAAAAAAACARUAAAAAAAAA/QAAAAAAAADpAAAAAAACATkAAAAAAAIBGQAAAAAAAADtAAAAAAAAAPkAAAAAAAAAzQAAAAAAAADZAAAAAAAAAOEAAAAAAAABIQAAAAAAAAFJAAAAAAAAASUAAAAAAAAA6QAAAAAAAgEpAAAAAAAAANkAAAAAAAAA1QAAAAAAAwFFAAAAAAACAS0AAAAAAAAA9QAAAAAAAADNAAAAAAAAAPEAAAAAAAEBQQAAAAAAAADxAAAAAAACASUAAAAAAAAA+QAAAAAAAADFAAAAAAAAAPkAAAAAAAABEQAAAAAAAAD1AAAAAAAAAMkAAAAAAAABCQAAAAAAAADVAAAAAAAAAQkAAAAAAAIBDQAAAAAAAgEJAAAAAAACARkAAAAAAAABKQAAAAAAAADZAAAAAAAAAREAAAAAAAIBDQAAAAAAAAEJAAAAAAAAAS0AAAAAAAABBQAAAAAAAAEZAAAAAAAAAM0AAAAAAAIBGQAAAAAAAADtAAAAAAAAAO0AAAAAAAAAyQAAAAAAAgEpAAAAAAAAASEAAAAAAAIBPQAAAAAAAAEpAAAAAAAAANEAAAAAAAABDQAAAAAAAADxAAAAAAAAAOkAAAAAAAIBJQAAAAAAAgERAAAAAAACASUAAAAAAAABAQAAAAAAAAD9AAAAAAAAAR0AAAAAAAIBDQAAAAAAAAD1AAAAAAAAAPEAAAAAAAIBKQAAAAAAAgEFAAAAAAAAANEAAAAAAAIBEQAAAAAAAAD5AAAAAAAAAQ0AAAAAAAABAQAAAAAAAADJAAAAAAAAAT0AAAAAAAIBDQAAAAAAAgENAAAAAAAAAQkAAAAAAAAAzQAAAAAAAAElAAAAAAAAAQkAAAAAAAAA6QAAAAAAAgEhAAAAAAACAQ0AAAAAAAIBKQAAAAAAAQFBAAAAAAACAREAAAAAAAAA2QAAAAAAAADRAAAAAAAAAM0AAAAAAAAA0QAAAAAAAAEBAAAAAAACAREAAAAAAAAA0QAAAAAAAAEhAAAAAAAAAM0AAAAAAAABBQAAAAAAAADNAAAAAAAAAOUAAAAAAAAAyQAAAAAAAADRAAAAAAAAASEAAAAAAAIBMQAAAAAAAgE9AAAAAAAAASEAAAAAAAIBDQAAAAAAAgE9AAAAAAAAAQ0AAAAAAAABPQAAAAAAAAD9AAAAAAAAAOkAAAAAAAAA3QAAAAAAAAEJAAAAAAACATkAAAAAAAABFQAAAAAAAgE9AAAAAAAAAOEAAAAAAAEBQQAAAAAAAAE9AAAAAAAAAOUAAAAAAAABLQAAAAAAAADtAAAAAAAAAMkAAAAAAAAA/QAAAAAAAAEBAAAAAAAAAOkAAAAAAAIBQQAAAAAAAwFBAAAAAAAAAQkAAAAAAAABDQAAAAAAAQFBAAAAAAACAQ0AAAAAAAAAzQAAAAAAAgEZAAAAAAAAANEAAAAAAAABHQAAAAAAAAEdAAAAAAAAASUAAAAAAAAA1QAAAAAAAgEFAAAAAAAAAPkAAAAAAAIBHQAAAAAAAgFZAAAAAAACAQEAAAAAAAABBQAAAAAAAADRAAAAAAACAQ0AAAAAAAABHQAAAAAAAgEZAAAAAAAAAT0AAAAAAAABHQAAAAAAAgEhAAAAAAAAAPEAAAAAAAAA1QAAAAAAAAD9AAAAAAAAAREAAAAAAAABGQAAAAAAAADlAAAAAAACASUAAAAAAAABCQAAAAAAAgE5AAAAAAAAAN0AAAAAAAAA6QAAAAAAAAEhAAAAAAACARkAAAAAAAIBPQAAAAAAAAEVAAAAAAAAAN0AAAAAAAAA7QAAAAAAAgEVAAAAAAAAANEAAAAAAAABMQAAAAAAAAEtAAAAAAACAREAAAAAAAIBDQAAAAAAAgERAAAAAAAAAPkAAAAAAAABDQAAAAAAAAEdAAAAAAACAQ0AAAAAAAAA6QAAAAAAAADxAAAAAAACATkAAAAAAAAA0QAAAAAAAgEhAAAAAAAAAQUAAAAAAAABJQAAAAAAAAD5AAAAAAACATkAAAAAAAAA5QAAAAAAAAEJAAAAAAAAAOkAAAAAAAIBJQAAAAAAAgENAAAAAAAAASUAAAAAAAIBCQAAAAAAAgEVAAAAAAAAAOUAAAAAAAAAyQAAAAAAAADNAAAAAAAAAT0AAAAAAAIBMQAAAAAAAgEtAAAAAAAAATUAAAAAAAAA3QAAAAAAAADNAAAAAAAAAPEAAAAAAAABCQAAAAAAAAEpAAAAAAACATUAAAAAAAABLQAAAAAAAAEdAAAAAAAAANkAAAAAAAABIQAAAAAAAAEFAAAAAAACAQEAAAAAAAAA3QAAAAAAAAEtAAAAAAAAAM0AAAAAAAIBBQAAAAAAAAERAAAAAAAAAO0AAAAAAAIBCQAAAAAAAgElAAAAAAACAQUAAAAAAAAA0QAAAAAAAgEhAAAAAAACAUUAAAAAAAAA4QAAAAAAAAElAAAAAAAAANUAAAAAAAABEQAAAAAAAAD1AAAAAAACAQ0AAAAAAAIBEQAAAAAAAAEFAAAAAAAAAM0AAAAAAAIBJQAAAAAAAAE5AAAAAAACAQkAAAAAAAIBEQAAAAAAAgE5AAAAAAAAATEAAAAAAAAAzQAAAAAAAgEFAAAAAAAAARUAAAAAAAABDQAAAAAAAADtAAAAAAAAAO0AAAAAAAIBBQAAAAAAAAERAAAAAAACARUAAAAAAAABFQAAAAAAAADRAAAAAAAAAQ0AAAAAAAABCQAAAAAAAADhAAAAAAAAASEAAAAAAAEBQQAAAAAAAAEdAAAAAAAAAR0AAAAAAAABHQAAAAAAAAD1AAAAAAAAAR0AAAAAAAMBSQAAAAAAAgEFAAAAAAAAAP0AAAAAAAAA7QAAAAAAAADdAAAAAAAAAQEAAAAAAAIBLQAAAAAAAAE5AAAAAAACAQUAAAAAAAIBEQAAAAAAAAEhAAAAAAAAAQ0AAAAAAAAA5QAAAAAAAgEBAAAAAAACAQEAAAAAAAAA0QAAAAAAAADxAAAAAAAAAS0AAAAAAAMBQQAAAAAAAADRAAAAAAAAAPkAAAAAAAABAQAAAAAAAAExAAAAAAACAQEAAAAAAAAAyQAAAAAAAADdAAAAAAAAAOEAAAAAAAIBEQAAAAAAAAD5AAAAAAACASUAAAAAAAAA2QAAAAAAAgEBAAAAAAACASUAAAAAAAAA4QAAAAAAAAENAAAAAAAAAOEAAAAAAAAA2QAAAAAAAAEdAAAAAAAAANkAAAAAAAAA/QAAAAAAAAEFAAAAAAACARUAAAAAAAIBCQAAAAAAAADlAAAAAAAAAQ0AAAAAAAAA2QAAAAAAAADNAAAAAAACAREAAAAAAAABHQAAAAAAAAEBAAAAAAACAQUAAAAAAAAA8QAAAAAAAADlAAAAAAAAAO0AAAAAAAAA0QAAAAAAAADVAAAAAAAAAO0AAAAAAAAA8QAAAAAAAAEhAAAAAAACAR0AAAAAAAABCQAAAAAAAAD9AAAAAAAAAOkAAAAAAAABJQAAAAAAAADRAAAAAAAAATUAAAAAAAAAzQAAAAAAAADdAAAAAAAAAQUAAAAAAAABGQAAAAAAAgENAAAAAAACARUAAAAAAAABBQAAAAAAAgE1AAAAAAACASEAAAAAAAIBBQAAAAAAAAENAAAAAAAAAOEAAAAAAAABPQAAAAAAAAEhAAAAAAACAQEAAAAAAAABBQAAAAAAAAD5AAAAAAAAAO0AAAAAAAIBGQAAAAAAAAEZAAAAAAAAAOEAAAAAAAIBNQAAAAAAAAE5AAAAAAACAQEAAAAAAAAA5QAAAAAAAAEBAAAAAAAAAUkAAAAAAAAA4QAAAAAAAAD1AAAAAAACAR0AAAAAAAABNQAAAAAAAgEJAAAAAAACAQ0AAAAAAAAA1QAAAAAAAADNAAAAAAAAAREAAAAAAAIBAQAAAAAAAADtAAAAAAAAARkAAAAAAAABKQAAAAAAAAENAAAAAAACARUAAAAAAAAA3QAAAAAAAAE1AAAAAAACAT0AAAAAAAAAzQAAAAAAAwFBA",
          "dtype": "f8"
         },
         "y": {
          "bdata": "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",
          "dtype": "f8"
         }
        },
        {
         "legendgroup": "cases",
         "legendgrouptitle": {
          "text": "Cases"
         },
         "marker": {
          "line": {
           "color": "darkgrey",
           "width": 2
          },
          "opacity": 0.4,
          "size": {
           "bdata": "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",
           "dtype": "f8"
          },
          "sizemin": 7.5,
          "sizemode": "area"
         },
         "mode": "markers",
         "name": "1",
         "type": "scattergl",
         "x": {
          "bdata": "AAAAAACARUAAAAAAAABEQAAAAAAAwFBAAAAAAAAAREAAAAAAAAA5QAAAAAAAAEBAAAAAAAAAQkAAAAAAAIBGQAAAAAAAAEFAAAAAAAAASEAAAAAAAIBEQAAAAAAAAExAAAAAAAAASEAAAAAAAIBFQAAAAAAAAERAAAAAAAAAP0AAAAAAAIBFQAAAAAAAgEJAAAAAAAAAPUAAAAAAAABBQAAAAAAAAElAAAAAAAAATkAAAAAAAIBHQAAAAAAAgENAAAAAAAAAOUAAAAAAAIBQQAAAAAAAgE1AAAAAAACAR0AAAAAAAIBPQAAAAAAAAEJAAAAAAACASEAAAAAAAABHQAAAAAAAgEJAAAAAAAAARkAAAAAAAIBBQAAAAAAAgEZAAAAAAAAASkAAAAAAAIBFQAAAAAAAAD5AAAAAAAAAREAAAAAAAAA/QAAAAAAAAElAAAAAAACASEAAAAAAAABKQAAAAAAAAEtAAAAAAACAQkAAAAAAAABLQAAAAAAAAEZAAAAAAAAAQkAAAAAAAABQQAAAAAAAAEZAAAAAAACASkAAAAAAAABQQAAAAAAAgEdAAAAAAAAAREAAAAAAAABFQAAAAAAAQFBAAAAAAAAAOEAAAAAAAABKQAAAAAAAAEJAAAAAAADAUEA=",
          "dtype": "f8"
         },
         "y": {
          "bdata": "AAAAAAAAJEAAAAAAAAAqQAAAAAAAACRAAAAAAAAAIkAAAAAAAAAqQAAAAAAAACxAAAAAAAAAKkAAAAAAAAAiQAAAAAAAACJAAAAAAAAAKkAAAAAAAAAsQAAAAAAAACJAAAAAAAAAJEAAAAAAAAAiQAAAAAAAACRAAAAAAAAAIkAAAAAAAAAiQAAAAAAAACxAAAAAAAAAHEAAAAAAAAAiQAAAAAAAACJAAAAAAAAAJEAAAAAAAAAiQAAAAAAAACJAAAAAAAAAKkAAAAAAAAAQQAAAAAAAABxAAAAAAAAAMEAAAAAAAAAsQAAAAAAAACJAAAAAAAAAMEAAAAAAAAAkQAAAAAAAADBAAAAAAAAAKkAAAAAAAAAqQAAAAAAAACpAAAAAAAAAIkAAAAAAAAAoQAAAAAAAACJAAAAAAAAAIkAAAAAAAAAiQAAAAAAAACJAAAAAAAAAKkAAAAAAAAAmQAAAAAAAACxAAAAAAAAAJEAAAAAAAAAkQAAAAAAAACRAAAAAAAAAKkAAAAAAAAAkQAAAAAAAACRAAAAAAAAAMEAAAAAAAAAiQAAAAAAAACJAAAAAAAAAJEAAAAAAAAAuQAAAAAAAACZAAAAAAAAAJEAAAAAAAAAiQAAAAAAAACJAAAAAAAAAKkA=",
          "dtype": "f8"
         }
        }
       ],
       "layout": {
        "annotations": [
         {
          "font": {
           "size": 16
          },
          "showarrow": false,
          "text": "age",
          "x": 0.5,
          "xanchor": "center",
          "xref": "paper",
          "y": 0,
          "yanchor": "top",
          "yref": "paper",
          "yshift": -30
         },
         {
          "font": {
           "size": 16
          },
          "showarrow": false,
          "text": "education-num",
          "textangle": -90,
          "x": 0,
          "xanchor": "right",
          "xref": "paper",
          "xshift": -40,
          "y": 0.5,
          "yanchor": "middle",
          "yref": "paper"
         }
        ],
        "height": 800,
        "legend": {
         "groupclick": "toggleitem"
        },
        "template": {
         "data": {
          "bar": [
           {
            "error_x": {
             "color": "#2a3f5f"
            },
            "error_y": {
             "color": "#2a3f5f"
            },
            "marker": {
             "line": {
              "color": "#E5ECF6",
              "width": 0.5
             },
             "pattern": {
              "fillmode": "overlay",
              "size": 10,
              "solidity": 0.2
             }
            },
            "type": "bar"
           }
          ],
          "barpolar": [
           {
            "marker": {
             "line": {
              "color": "#E5ECF6",
              "width": 0.5
             },
             "pattern": {
              "fillmode": "overlay",
              "size": 10,
              "solidity": 0.2
             }
            },
            "type": "barpolar"
           }
          ],
          "carpet": [
           {
            "aaxis": {
             "endlinecolor": "#2a3f5f",
             "gridcolor": "white",
             "linecolor": "white",
             "minorgridcolor": "white",
             "startlinecolor": "#2a3f5f"
            },
            "baxis": {
             "endlinecolor": "#2a3f5f",
             "gridcolor": "white",
             "linecolor": "white",
             "minorgridcolor": "white",
             "startlinecolor": "#2a3f5f"
            },
            "type": "carpet"
           }
          ],
          "choropleth": [
           {
            "colorbar": {
             "outlinewidth": 0,
             "ticks": ""
            },
            "type": "choropleth"
           }
          ],
          "contour": [
           {
            "colorbar": {
             "outlinewidth": 0,
             "ticks": ""
            },
            "colorscale": [
             [
              0,
              "#0d0887"
             ],
             [
              0.1111111111111111,
              "#46039f"
             ],
             [
              0.2222222222222222,
              "#7201a8"
             ],
             [
              0.3333333333333333,
              "#9c179e"
             ],
             [
              0.4444444444444444,
              "#bd3786"
             ],
             [
              0.5555555555555556,
              "#d8576b"
             ],
             [
              0.6666666666666666,
              "#ed7953"
             ],
             [
              0.7777777777777778,
              "#fb9f3a"
             ],
             [
              0.8888888888888888,
              "#fdca26"
             ],
             [
              1,
              "#f0f921"
             ]
            ],
            "type": "contour"
           }
          ],
          "contourcarpet": [
           {
            "colorbar": {
             "outlinewidth": 0,
             "ticks": ""
            },
            "type": "contourcarpet"
           }
          ],
          "heatmap": [
           {
            "colorbar": {
             "outlinewidth": 0,
             "ticks": ""
            },
            "colorscale": [
             [
              0,
              "#0d0887"
             ],
             [
              0.1111111111111111,
              "#46039f"
             ],
             [
              0.2222222222222222,
              "#7201a8"
             ],
             [
              0.3333333333333333,
              "#9c179e"
             ],
             [
              0.4444444444444444,
              "#bd3786"
             ],
             [
              0.5555555555555556,
              "#d8576b"
             ],
             [
              0.6666666666666666,
              "#ed7953"
             ],
             [
              0.7777777777777778,
              "#fb9f3a"
             ],
             [
              0.8888888888888888,
              "#fdca26"
             ],
             [
              1,
              "#f0f921"
             ]
            ],
            "type": "heatmap"
           }
          ],
          "histogram": [
           {
            "marker": {
             "pattern": {
              "fillmode": "overlay",
              "size": 10,
              "solidity": 0.2
             }
            },
            "type": "histogram"
           }
          ],
          "histogram2d": [
           {
            "colorbar": {
             "outlinewidth": 0,
             "ticks": ""
            },
            "colorscale": [
             [
              0,
              "#0d0887"
             ],
             [
              0.1111111111111111,
              "#46039f"
             ],
             [
              0.2222222222222222,
              "#7201a8"
             ],
             [
              0.3333333333333333,
              "#9c179e"
             ],
             [
              0.4444444444444444,
              "#bd3786"
             ],
             [
              0.5555555555555556,
              "#d8576b"
             ],
             [
              0.6666666666666666,
              "#ed7953"
             ],
             [
              0.7777777777777778,
              "#fb9f3a"
             ],
             [
              0.8888888888888888,
              "#fdca26"
             ],
             [
              1,
              "#f0f921"
             ]
            ],
            "type": "histogram2d"
           }
          ],
          "histogram2dcontour": [
           {
            "colorbar": {
             "outlinewidth": 0,
             "ticks": ""
            },
            "colorscale": [
             [
              0,
              "#0d0887"
             ],
             [
              0.1111111111111111,
              "#46039f"
             ],
             [
              0.2222222222222222,
              "#7201a8"
             ],
             [
              0.3333333333333333,
              "#9c179e"
             ],
             [
              0.4444444444444444,
              "#bd3786"
             ],
             [
              0.5555555555555556,
              "#d8576b"
             ],
             [
              0.6666666666666666,
              "#ed7953"
             ],
             [
              0.7777777777777778,
              "#fb9f3a"
             ],
             [
              0.8888888888888888,
              "#fdca26"
             ],
             [
              1,
              "#f0f921"
             ]
            ],
            "type": "histogram2dcontour"
           }
          ],
          "mesh3d": [
           {
            "colorbar": {
             "outlinewidth": 0,
             "ticks": ""
            },
            "type": "mesh3d"
           }
          ],
          "parcoords": [
           {
            "line": {
             "colorbar": {
              "outlinewidth": 0,
              "ticks": ""
             }
            },
            "type": "parcoords"
           }
          ],
          "pie": [
           {
            "automargin": true,
            "type": "pie"
           }
          ],
          "scatter": [
           {
            "fillpattern": {
             "fillmode": "overlay",
             "size": 10,
             "solidity": 0.2
            },
            "type": "scatter"
           }
          ],
          "scatter3d": [
           {
            "line": {
             "colorbar": {
              "outlinewidth": 0,
              "ticks": ""
             }
            },
            "marker": {
             "colorbar": {
              "outlinewidth": 0,
              "ticks": ""
             }
            },
            "type": "scatter3d"
           }
          ],
          "scattercarpet": [
           {
            "marker": {
             "colorbar": {
              "outlinewidth": 0,
              "ticks": ""
             }
            },
            "type": "scattercarpet"
           }
          ],
          "scattergeo": [
           {
            "marker": {
             "colorbar": {
              "outlinewidth": 0,
              "ticks": ""
             }
            },
            "type": "scattergeo"
           }
          ],
          "scattergl": [
           {
            "marker": {
             "colorbar": {
              "outlinewidth": 0,
              "ticks": ""
             }
            },
            "type": "scattergl"
           }
          ],
          "scattermap": [
           {
            "marker": {
             "colorbar": {
              "outlinewidth": 0,
              "ticks": ""
             }
            },
            "type": "scattermap"
           }
          ],
          "scattermapbox": [
           {
            "marker": {
             "colorbar": {
              "outlinewidth": 0,
              "ticks": ""
             }
            },
            "type": "scattermapbox"
           }
          ],
          "scatterpolar": [
           {
            "marker": {
             "colorbar": {
              "outlinewidth": 0,
              "ticks": ""
             }
            },
            "type": "scatterpolar"
           }
          ],
          "scatterpolargl": [
           {
            "marker": {
             "colorbar": {
              "outlinewidth": 0,
              "ticks": ""
             }
            },
            "type": "scatterpolargl"
           }
          ],
          "scatterternary": [
           {
            "marker": {
             "colorbar": {
              "outlinewidth": 0,
              "ticks": ""
             }
            },
            "type": "scatterternary"
           }
          ],
          "surface": [
           {
            "colorbar": {
             "outlinewidth": 0,
             "ticks": ""
            },
            "colorscale": [
             [
              0,
              "#0d0887"
             ],
             [
              0.1111111111111111,
              "#46039f"
             ],
             [
              0.2222222222222222,
              "#7201a8"
             ],
             [
              0.3333333333333333,
              "#9c179e"
             ],
             [
              0.4444444444444444,
              "#bd3786"
             ],
             [
              0.5555555555555556,
              "#d8576b"
             ],
             [
              0.6666666666666666,
              "#ed7953"
             ],
             [
              0.7777777777777778,
              "#fb9f3a"
             ],
             [
              0.8888888888888888,
              "#fdca26"
             ],
             [
              1,
              "#f0f921"
             ]
            ],
            "type": "surface"
           }
          ],
          "table": [
           {
            "cells": {
             "fill": {
              "color": "#EBF0F8"
             },
             "line": {
              "color": "white"
             }
            },
            "header": {
             "fill": {
              "color": "#C8D4E3"
             },
             "line": {
              "color": "white"
             }
            },
            "type": "table"
           }
          ]
         },
         "layout": {
          "annotationdefaults": {
           "arrowcolor": "#2a3f5f",
           "arrowhead": 0,
           "arrowwidth": 1
          },
          "autotypenumbers": "strict",
          "coloraxis": {
           "colorbar": {
            "outlinewidth": 0,
            "ticks": ""
           }
          },
          "colorscale": {
           "diverging": [
            [
             0,
             "#8e0152"
            ],
            [
             0.1,
             "#c51b7d"
            ],
            [
             0.2,
             "#de77ae"
            ],
            [
             0.3,
             "#f1b6da"
            ],
            [
             0.4,
             "#fde0ef"
            ],
            [
             0.5,
             "#f7f7f7"
            ],
            [
             0.6,
             "#e6f5d0"
            ],
            [
             0.7,
             "#b8e186"
            ],
            [
             0.8,
             "#7fbc41"
            ],
            [
             0.9,
             "#4d9221"
            ],
            [
             1,
             "#276419"
            ]
           ],
           "sequential": [
            [
             0,
             "#0d0887"
            ],
            [
             0.1111111111111111,
             "#46039f"
            ],
            [
             0.2222222222222222,
             "#7201a8"
            ],
            [
             0.3333333333333333,
             "#9c179e"
            ],
            [
             0.4444444444444444,
             "#bd3786"
            ],
            [
             0.5555555555555556,
             "#d8576b"
            ],
            [
             0.6666666666666666,
             "#ed7953"
            ],
            [
             0.7777777777777778,
             "#fb9f3a"
            ],
            [
             0.8888888888888888,
             "#fdca26"
            ],
            [
             1,
             "#f0f921"
            ]
           ],
           "sequentialminus": [
            [
             0,
             "#0d0887"
            ],
            [
             0.1111111111111111,
             "#46039f"
            ],
            [
             0.2222222222222222,
             "#7201a8"
            ],
            [
             0.3333333333333333,
             "#9c179e"
            ],
            [
             0.4444444444444444,
             "#bd3786"
            ],
            [
             0.5555555555555556,
             "#d8576b"
            ],
            [
             0.6666666666666666,
             "#ed7953"
            ],
            [
             0.7777777777777778,
             "#fb9f3a"
            ],
            [
             0.8888888888888888,
             "#fdca26"
            ],
            [
             1,
             "#f0f921"
            ]
           ]
          },
          "colorway": [
           "#636efa",
           "#EF553B",
           "#00cc96",
           "#ab63fa",
           "#FFA15A",
           "#19d3f3",
           "#FF6692",
           "#B6E880",
           "#FF97FF",
           "#FECB52"
          ],
          "font": {
           "color": "#2a3f5f"
          },
          "geo": {
           "bgcolor": "white",
           "lakecolor": "white",
           "landcolor": "#E5ECF6",
           "showlakes": true,
           "showland": true,
           "subunitcolor": "white"
          },
          "hoverlabel": {
           "align": "left"
          },
          "hovermode": "closest",
          "mapbox": {
           "style": "light"
          },
          "paper_bgcolor": "white",
          "plot_bgcolor": "#E5ECF6",
          "polar": {
           "angularaxis": {
            "gridcolor": "white",
            "linecolor": "white",
            "ticks": ""
           },
           "bgcolor": "#E5ECF6",
           "radialaxis": {
            "gridcolor": "white",
            "linecolor": "white",
            "ticks": ""
           }
          },
          "scene": {
           "xaxis": {
            "backgroundcolor": "#E5ECF6",
            "gridcolor": "white",
            "gridwidth": 2,
            "linecolor": "white",
            "showbackground": true,
            "ticks": "",
            "zerolinecolor": "white"
           },
           "yaxis": {
            "backgroundcolor": "#E5ECF6",
            "gridcolor": "white",
            "gridwidth": 2,
            "linecolor": "white",
            "showbackground": true,
            "ticks": "",
            "zerolinecolor": "white"
           },
           "zaxis": {
            "backgroundcolor": "#E5ECF6",
            "gridcolor": "white",
            "gridwidth": 2,
            "linecolor": "white",
            "showbackground": true,
            "ticks": "",
            "zerolinecolor": "white"
           }
          },
          "shapedefaults": {
           "line": {
            "color": "#2a3f5f"
           }
          },
          "ternary": {
           "aaxis": {
            "gridcolor": "white",
            "linecolor": "white",
            "ticks": ""
           },
           "baxis": {
            "gridcolor": "white",
            "linecolor": "white",
            "ticks": ""
           },
           "bgcolor": "#E5ECF6",
           "caxis": {
            "gridcolor": "white",
            "linecolor": "white",
            "ticks": ""
           }
          },
          "title": {
           "x": 0.05
          },
          "xaxis": {
           "automargin": true,
           "gridcolor": "white",
           "linecolor": "white",
           "ticks": "",
           "title": {
            "standoff": 15
           },
           "zerolinecolor": "white",
           "zerolinewidth": 2
          },
          "yaxis": {
           "automargin": true,
           "gridcolor": "white",
           "linecolor": "white",
           "ticks": "",
           "title": {
            "standoff": 15
           },
           "zerolinecolor": "white",
           "zerolinewidth": 2
          }
         }
        },
        "xaxis": {
         "anchor": "y",
         "domain": [
          0,
          1
         ]
        },
        "yaxis": {
         "anchor": "x",
         "domain": [
          0,
          1
         ]
        }
       }
      }
     },
     "metadata": {},
     "output_type": "display_data"
    }
   ],
   "source": [
    "plot_dataset(partial_train_df, x=\"age\", y=\"education-num\", size=\"density\", hue=\"low_residual_conviction\", alpha=0.4)"
   ]
  },
  {
   "attachments": {},
   "cell_type": "markdown",
   "id": "1d88140c-5ff6-4128-bf24-88f833042e87",
   "metadata": {},
   "source": [
    "The above graph is a visualization of the data set in 2-dimensions, with the color as an indication of residual conviction and the size representing the density of the data. More specifically, the orange color represents the low conviction points (points which are very uncertain), and small size represents low density. Therefore, adding more data to the region with small, orange points can improve model performance. \n",
    "\n",
    "\n",
    "On the other hand, an orange point that is large would be an indication that this case lies in an dense region but was not predictable. Hence, this will be an indication where the problem is not well defined, or the data is missing key features.  \n"
   ]
  },
  {
   "cell_type": "markdown",
   "id": "8aade79d",
   "metadata": {},
   "source": [
    "# Conclusion\n",
    "\n",
    "In this recipe, we demonstrate many of the metrics that the Trainee provides which helps users understand the model's decision making process such as feature MDA and feature residuals.\n",
    "\n",
    "Additionally, we show how different types of conviction can be used to identify inliers, outliers, and regions of the data where increased data collection or feature engineering may be appropriate."
   ]
  }
 ],
 "metadata": {
  "kernelspec": {
   "display_name": "engine-recipes-3.10",
   "language": "python",
   "name": "python3"
  },
  "language_info": {
   "codemirror_mode": {
    "name": "ipython",
    "version": 3
   },
   "file_extension": ".py",
   "mimetype": "text/x-python",
   "name": "python",
   "nbconvert_exporter": "python",
   "pygments_lexer": "ipython3",
   "version": "3.10.18"
  }
 },
 "nbformat": 4,
 "nbformat_minor": 5
}
