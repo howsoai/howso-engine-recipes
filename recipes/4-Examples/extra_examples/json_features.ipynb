{
 "cells": [
  {
   "cell_type": "markdown",
   "metadata": {},
   "source": [
    "# JSON/YAML Features with Howso Engine\n",
    "\n",
    "> Note: This feature is experimental and is not universally recommended for production deployment.\n",
    "\n",
    "## Overview\n",
    "\n",
    "This notebook provides an overview of using JSON/YAML as features in a Trainee to represent complex data structures in a single feature."
   ]
  },
  {
   "cell_type": "code",
   "execution_count": 1,
   "metadata": {
    "execution": {
     "iopub.execute_input": "2025-05-09T17:41:05.964862Z",
     "iopub.status.busy": "2025-05-09T17:41:05.964660Z",
     "iopub.status.idle": "2025-05-09T17:41:06.365048Z",
     "shell.execute_reply": "2025-05-09T17:41:06.364436Z"
    }
   },
   "outputs": [],
   "source": [
    "import pandas as pd\n",
    "\n",
    "from howso.engine import Trainee\n",
    "from howso.utilities import infer_feature_attributes"
   ]
  },
  {
   "cell_type": "markdown",
   "metadata": {},
   "source": [
    "## Step 1: Load Data\n",
    "\n",
    "We use a small, toy-dataset to demonstrate this functionality where each case represents a character in a game."
   ]
  },
  {
   "cell_type": "code",
   "execution_count": 2,
   "metadata": {
    "execution": {
     "iopub.execute_input": "2025-05-09T17:41:06.367613Z",
     "iopub.status.busy": "2025-05-09T17:41:06.367319Z",
     "iopub.status.idle": "2025-05-09T17:41:06.379106Z",
     "shell.execute_reply": "2025-05-09T17:41:06.378594Z"
    }
   },
   "outputs": [
    {
     "data": {
      "text/html": [
       "<div>\n",
       "<style scoped>\n",
       "    .dataframe tbody tr th:only-of-type {\n",
       "        vertical-align: middle;\n",
       "    }\n",
       "\n",
       "    .dataframe tbody tr th {\n",
       "        vertical-align: top;\n",
       "    }\n",
       "\n",
       "    .dataframe thead th {\n",
       "        text-align: right;\n",
       "    }\n",
       "</style>\n",
       "<table border=\"1\" class=\"dataframe\">\n",
       "  <thead>\n",
       "    <tr style=\"text-align: right;\">\n",
       "      <th></th>\n",
       "      <th>name</th>\n",
       "      <th>level</th>\n",
       "      <th>class</th>\n",
       "      <th>inventory</th>\n",
       "    </tr>\n",
       "  </thead>\n",
       "  <tbody>\n",
       "    <tr>\n",
       "      <th>0</th>\n",
       "      <td>Nerissa</td>\n",
       "      <td>14</td>\n",
       "      <td>Fighter</td>\n",
       "      <td>{\"saddle\": 1, \"trident\": 2, \"potion\": 5}</td>\n",
       "    </tr>\n",
       "    <tr>\n",
       "      <th>1</th>\n",
       "      <td>Maaya</td>\n",
       "      <td>13</td>\n",
       "      <td>Warlock</td>\n",
       "      <td>{\"sword\": 1, \"lute\": 1, \"potion\": 2}</td>\n",
       "    </tr>\n",
       "    <tr>\n",
       "      <th>2</th>\n",
       "      <td>Taxuul</td>\n",
       "      <td>15</td>\n",
       "      <td>Cleric</td>\n",
       "      <td>{\"hammer\": 1, \"metal bar\": 20, \"potion\": 1}</td>\n",
       "    </tr>\n",
       "  </tbody>\n",
       "</table>\n",
       "</div>"
      ],
      "text/plain": [
       "      name  level    class                                    inventory\n",
       "0  Nerissa     14  Fighter     {\"saddle\": 1, \"trident\": 2, \"potion\": 5}\n",
       "1    Maaya     13  Warlock         {\"sword\": 1, \"lute\": 1, \"potion\": 2}\n",
       "2   Taxuul     15   Cleric  {\"hammer\": 1, \"metal bar\": 20, \"potion\": 1}"
      ]
     },
     "execution_count": 2,
     "metadata": {},
     "output_type": "execute_result"
    }
   ],
   "source": [
    "data = pd.DataFrame([\n",
    "    {\"name\": \"Nerissa\", \"level\": 14, \"class\": \"Fighter\", \"inventory\": \"{\\\"saddle\\\": 1, \\\"trident\\\": 2, \\\"potion\\\": 5}\"},\n",
    "    {\"name\": \"Maaya\", \"level\": 13, \"class\": \"Warlock\", \"inventory\": \"{\\\"sword\\\": 1, \\\"lute\\\": 1, \\\"potion\\\": 2}\"},\n",
    "    {\"name\": \"Taxuul\", \"level\": 15, \"class\": \"Cleric\", \"inventory\": \"{\\\"hammer\\\": 1, \\\"metal bar\\\": 20, \\\"potion\\\": 1}\"},\n",
    "])\n",
    "\n",
    "data"
   ]
  },
  {
   "cell_type": "markdown",
   "metadata": {},
   "source": [
    "## Step 2: Define the Feature Attributes\n",
    "\n",
    "The feature-attributes for the ``inventory`` feature are automatically inferred to be JSON."
   ]
  },
  {
   "cell_type": "code",
   "execution_count": 3,
   "metadata": {
    "execution": {
     "iopub.execute_input": "2025-05-09T17:41:06.416793Z",
     "iopub.status.busy": "2025-05-09T17:41:06.416496Z",
     "iopub.status.idle": "2025-05-09T17:41:06.452372Z",
     "shell.execute_reply": "2025-05-09T17:41:06.451786Z"
    }
   },
   "outputs": [
    {
     "data": {
      "text/html": [
       "<div>\n",
       "<style scoped>\n",
       "    .dataframe tbody tr th:only-of-type {\n",
       "        vertical-align: middle;\n",
       "    }\n",
       "\n",
       "    .dataframe tbody tr th {\n",
       "        vertical-align: top;\n",
       "    }\n",
       "\n",
       "    .dataframe thead tr th {\n",
       "        text-align: left;\n",
       "    }\n",
       "</style>\n",
       "<table border=\"1\" class=\"dataframe\">\n",
       "  <thead>\n",
       "    <tr>\n",
       "      <th></th>\n",
       "      <th>type</th>\n",
       "      <th>decimal_places</th>\n",
       "      <th colspan=\"5\" halign=\"left\">bounds</th>\n",
       "      <th>data_type</th>\n",
       "      <th colspan=\"2\" halign=\"left\">original_type</th>\n",
       "    </tr>\n",
       "    <tr>\n",
       "      <th></th>\n",
       "      <th></th>\n",
       "      <th></th>\n",
       "      <th>allow_null</th>\n",
       "      <th>min</th>\n",
       "      <th>max</th>\n",
       "      <th>observed_min</th>\n",
       "      <th>observed_max</th>\n",
       "      <th></th>\n",
       "      <th>data_type</th>\n",
       "      <th>size</th>\n",
       "    </tr>\n",
       "  </thead>\n",
       "  <tbody>\n",
       "    <tr>\n",
       "      <th>name</th>\n",
       "      <td>nominal</td>\n",
       "      <td>NaN</td>\n",
       "      <td>True</td>\n",
       "      <td>NaN</td>\n",
       "      <td>NaN</td>\n",
       "      <td>NaN</td>\n",
       "      <td>NaN</td>\n",
       "      <td>NaN</td>\n",
       "      <td>string</td>\n",
       "      <td>NaN</td>\n",
       "    </tr>\n",
       "    <tr>\n",
       "      <th>level</th>\n",
       "      <td>continuous</td>\n",
       "      <td>0.0</td>\n",
       "      <td>False</td>\n",
       "      <td>12.0</td>\n",
       "      <td>16.0</td>\n",
       "      <td>13.0</td>\n",
       "      <td>15.0</td>\n",
       "      <td>number</td>\n",
       "      <td>integer</td>\n",
       "      <td>8.0</td>\n",
       "    </tr>\n",
       "    <tr>\n",
       "      <th>class</th>\n",
       "      <td>nominal</td>\n",
       "      <td>NaN</td>\n",
       "      <td>True</td>\n",
       "      <td>NaN</td>\n",
       "      <td>NaN</td>\n",
       "      <td>NaN</td>\n",
       "      <td>NaN</td>\n",
       "      <td>NaN</td>\n",
       "      <td>string</td>\n",
       "      <td>NaN</td>\n",
       "    </tr>\n",
       "    <tr>\n",
       "      <th>inventory</th>\n",
       "      <td>continuous</td>\n",
       "      <td>NaN</td>\n",
       "      <td>NaN</td>\n",
       "      <td>NaN</td>\n",
       "      <td>NaN</td>\n",
       "      <td>NaN</td>\n",
       "      <td>NaN</td>\n",
       "      <td>json</td>\n",
       "      <td>string</td>\n",
       "      <td>NaN</td>\n",
       "    </tr>\n",
       "  </tbody>\n",
       "</table>\n",
       "</div>"
      ],
      "text/plain": [
       "                 type decimal_places     bounds                           \\\n",
       "                                     allow_null   min   max observed_min   \n",
       "name          nominal            NaN       True   NaN   NaN          NaN   \n",
       "level      continuous            0.0      False  12.0  16.0         13.0   \n",
       "class         nominal            NaN       True   NaN   NaN          NaN   \n",
       "inventory  continuous            NaN        NaN   NaN   NaN          NaN   \n",
       "\n",
       "                       data_type original_type       \n",
       "          observed_max               data_type size  \n",
       "name               NaN       NaN        string  NaN  \n",
       "level             15.0    number       integer  8.0  \n",
       "class              NaN       NaN        string  NaN  \n",
       "inventory          NaN      json        string  NaN  "
      ]
     },
     "execution_count": 3,
     "metadata": {},
     "output_type": "execute_result"
    }
   ],
   "source": [
    "features = infer_feature_attributes(data)\n",
    "features.to_dataframe()"
   ]
  },
  {
   "cell_type": "markdown",
   "metadata": {},
   "source": [
    "## Step 3: Train and Analyze"
   ]
  },
  {
   "cell_type": "code",
   "execution_count": 4,
   "metadata": {
    "execution": {
     "iopub.execute_input": "2025-05-09T17:41:06.454506Z",
     "iopub.status.busy": "2025-05-09T17:41:06.454286Z",
     "iopub.status.idle": "2025-05-09T17:41:06.984314Z",
     "shell.execute_reply": "2025-05-09T17:41:06.983675Z"
    }
   },
   "outputs": [],
   "source": [
    "t = Trainee(features=features)\n",
    "t.train(data)\n",
    "t.analyze()"
   ]
  },
  {
   "cell_type": "markdown",
   "metadata": {},
   "source": [
    "## Step 4: React\n",
    "\n",
    "### Part 1: Discriminative React\n",
    "\n",
    "First, we use a discriminative `react` to determine a likely inventory."
   ]
  },
  {
   "cell_type": "code",
   "execution_count": 5,
   "metadata": {
    "execution": {
     "iopub.execute_input": "2025-05-09T17:41:06.987128Z",
     "iopub.status.busy": "2025-05-09T17:41:06.986743Z",
     "iopub.status.idle": "2025-05-09T17:41:06.993898Z",
     "shell.execute_reply": "2025-05-09T17:41:06.993367Z"
    }
   },
   "outputs": [
    {
     "data": {
      "text/plain": [
       "0    {\"lute\":1,\"potion\":4.090399899271196,\"saddle\":1}\n",
       "Name: inventory, dtype: object"
      ]
     },
     "execution_count": 5,
     "metadata": {},
     "output_type": "execute_result"
    }
   ],
   "source": [
    "discriminative_action = t.react(\n",
    "    contexts=[[15, \"Warlock\"]], context_features=[\"level\", \"class\"],\n",
    "    action_features=[\"inventory\"],\n",
    ")[\"action\"]\n",
    "\n",
    "discriminative_action.loc[:, \"inventory\"]"
   ]
  },
  {
   "cell_type": "markdown",
   "metadata": {},
   "source": [
    "### Part 2: Generative React\n",
    "\n",
    "We can also use a generative `react` to generate any number of more or less surprising inventories. We will do this generative `react` with differing levels of desired conviction to show more and less surprising examples.\n",
    "\n",
    "With higher desired conviction, we will see JSON that more closely resembles the training data.\n",
    "\n",
    "> Note: `react` is generative when `desired_conviction` is specified. See more about generative vs. discriminative reacts in the \"engine_generative_react.ipynb\" recipe. Also see the [documentation for the react method](https://docs.howso.com/en/release-latest/api_reference/_autosummary/howso.engine.html#howso.engine.Trainee.react)."
   ]
  },
  {
   "cell_type": "code",
   "execution_count": 6,
   "metadata": {
    "execution": {
     "iopub.execute_input": "2025-05-09T17:41:06.995647Z",
     "iopub.status.busy": "2025-05-09T17:41:06.995460Z",
     "iopub.status.idle": "2025-05-09T17:41:07.001622Z",
     "shell.execute_reply": "2025-05-09T17:41:07.001063Z"
    }
   },
   "outputs": [
    {
     "data": {
      "text/plain": [
       "0    {\"hammer\":1,\"potion\":1,\"metal bar\":20}\n",
       "1           {\"lute\":1,\"potion\":2,\"sword\":1}\n",
       "2           {\"lute\":1,\"potion\":2,\"sword\":1}\n",
       "3       {\"trident\":2,\"potion\":5,\"saddle\":1}\n",
       "4       {\"trident\":2,\"potion\":5,\"saddle\":1}\n",
       "Name: inventory, dtype: object"
      ]
     },
     "execution_count": 6,
     "metadata": {},
     "output_type": "execute_result"
    }
   ],
   "source": [
    "generative_reaction_25 = t.react(\n",
    "    contexts=[[15, \"Warlock\"]], context_features=[\"level\", \"class\"],\n",
    "    action_features=[\"inventory\"],\n",
    "    desired_conviction=25,\n",
    "    num_cases_to_generate=5,\n",
    ")[\"action\"]\n",
    "\n",
    "generative_reaction_25.loc[:, \"inventory\"]"
   ]
  },
  {
   "cell_type": "markdown",
   "metadata": {},
   "source": [
    "With a lower desired conviction, we will see JSON that looks very different from the training data."
   ]
  },
  {
   "cell_type": "code",
   "execution_count": 7,
   "metadata": {
    "execution": {
     "iopub.execute_input": "2025-05-09T17:41:07.003515Z",
     "iopub.status.busy": "2025-05-09T17:41:07.003144Z",
     "iopub.status.idle": "2025-05-09T17:41:07.009317Z",
     "shell.execute_reply": "2025-05-09T17:41:07.008821Z"
    }
   },
   "outputs": [
    {
     "data": {
      "text/plain": [
       "0                                        {}\n",
       "1           {\"lute\":1,\"potion\":2,\"sword\":1}\n",
       "2    {\"hammer\":1,\"potion\":1,\"metal bar\":20}\n",
       "3       {\"trident\":2,\"potion\":5,\"saddle\":1}\n",
       "4       {\"trident\":2,\"potion\":5,\"saddle\":1}\n",
       "Name: inventory, dtype: object"
      ]
     },
     "execution_count": 7,
     "metadata": {},
     "output_type": "execute_result"
    }
   ],
   "source": [
    "generative_reaction_1 = t.react(\n",
    "    contexts=[[15, \"Warlock\"]], context_features=[\"level\", \"class\"],\n",
    "    action_features=[\"inventory\"],\n",
    "    desired_conviction=1,\n",
    "    num_cases_to_generate=5,\n",
    ")[\"action\"]\n",
    "\n",
    "generative_reaction_1.loc[:, \"inventory\"]"
   ]
  },
  {
   "cell_type": "markdown",
   "metadata": {},
   "source": [
    "Notably, we may see completely new strings or data types associated with JSON keys that already exist in the dataset. While this isn't a bug, this demonstrates some of the behavior that can be expected when using JSON as a feature especially in generative output from the Howso Engine."
   ]
  },
  {
   "cell_type": "code",
   "execution_count": 8,
   "metadata": {
    "execution": {
     "iopub.execute_input": "2025-05-09T17:41:07.011233Z",
     "iopub.status.busy": "2025-05-09T17:41:07.010887Z",
     "iopub.status.idle": "2025-05-09T17:41:07.026944Z",
     "shell.execute_reply": "2025-05-09T17:41:07.026327Z"
    }
   },
   "outputs": [],
   "source": [
    "t.delete()"
   ]
  },
  {
   "cell_type": "markdown",
   "metadata": {},
   "source": [
    "# Conclusion\n",
    "\n",
    "In this recipe we have shown a small demo of a dataset with a JSON feature. In this example, we have shown the Howso Engine's ability to predict values of a JSON feature effectively as well as do some generative modeling of JSON feature values. \n",
    "\n",
    "While it is not shown here, the Howso Engine also has preliminary support for YAML as a feature too.\n",
    "\n",
    "Lastly, we would like to reiterate that this feature is experimental and is not universally recommended for production deployment."
   ]
  }
 ],
 "metadata": {
  "kernelspec": {
   "display_name": "recipes-engine-3.8",
   "language": "python",
   "name": "python3"
  },
  "language_info": {
   "codemirror_mode": {
    "name": "ipython",
    "version": 3
   },
   "file_extension": ".py",
   "mimetype": "text/x-python",
   "name": "python",
   "nbconvert_exporter": "python",
   "pygments_lexer": "ipython3",
   "version": "3.9.22"
  }
 },
 "nbformat": 4,
 "nbformat_minor": 2
}
