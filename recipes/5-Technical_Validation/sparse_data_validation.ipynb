{
 "cells": [
  {
   "cell_type": "markdown",
   "metadata": {},
   "source": [
    "# Sparse Data and Null Handling\n",
    "\n",
    "## Overview\n",
    "\n",
    "This notebook provides an overview of applying Howso Engine to sparse data (i.e., data that contain missing values) and helps to characterize how prediction performance is affected as model sparsity increases.  Howso Engine does not require any preprocessing to handle nulls or NaNs, but has notable robustness when it comes to working with data that contain them.\n",
    "\n",
    "We demonstrate that the Howso Engine can maintain accuracy even when the training data has increasing proportions of missing values. This makes the Howso Engine a great option for use-cases with sparse datasets. Additionally, the Howso Engine has the ability to treat missing values semantically. This unlocks the ability for the Engine to find trends in the data relating to missing values for each feature, which could reveal powerful insights for users."
   ]
  },
  {
   "cell_type": "code",
   "execution_count": 1,
   "metadata": {
    "execution": {
     "iopub.execute_input": "2025-07-30T15:09:21.927982Z",
     "iopub.status.busy": "2025-07-30T15:09:21.927801Z",
     "iopub.status.idle": "2025-07-30T15:09:22.357807Z",
     "shell.execute_reply": "2025-07-30T15:09:22.357095Z"
    }
   },
   "outputs": [],
   "source": [
    "import numpy as np\n",
    "import pandas as pd\n",
    "import pmlb\n",
    "\n",
    "from howso.engine import Trainee\n",
    "from howso.utilities import infer_feature_attributes"
   ]
  },
  {
   "cell_type": "markdown",
   "metadata": {},
   "source": [
    "## Step 1: Load Data\n",
    "\n",
    "We use the ``breast_w`` dataset from the [PMLB](https://github.com/EpistasisLab/pmlb)."
   ]
  },
  {
   "cell_type": "code",
   "execution_count": 2,
   "metadata": {
    "execution": {
     "iopub.execute_input": "2025-07-30T15:09:22.360447Z",
     "iopub.status.busy": "2025-07-30T15:09:22.360256Z",
     "iopub.status.idle": "2025-07-30T15:09:22.379190Z",
     "shell.execute_reply": "2025-07-30T15:09:22.378645Z"
    }
   },
   "outputs": [
    {
     "data": {
      "text/html": [
       "<div>\n",
       "<style scoped>\n",
       "    .dataframe tbody tr th:only-of-type {\n",
       "        vertical-align: middle;\n",
       "    }\n",
       "\n",
       "    .dataframe tbody tr th {\n",
       "        vertical-align: top;\n",
       "    }\n",
       "\n",
       "    .dataframe thead th {\n",
       "        text-align: right;\n",
       "    }\n",
       "</style>\n",
       "<table border=\"1\" class=\"dataframe\">\n",
       "  <thead>\n",
       "    <tr style=\"text-align: right;\">\n",
       "      <th></th>\n",
       "      <th>Clump_Thickness</th>\n",
       "      <th>Cell_Size_Uniformity</th>\n",
       "      <th>Cell_Shape_Uniformity</th>\n",
       "      <th>Marginal_Adhesion</th>\n",
       "      <th>Single_Epi_Cell_Size</th>\n",
       "      <th>Bare_Nuclei</th>\n",
       "      <th>Bland_Chromatin</th>\n",
       "      <th>Normal_Nucleoli</th>\n",
       "      <th>Mitoses</th>\n",
       "      <th>target</th>\n",
       "    </tr>\n",
       "  </thead>\n",
       "  <tbody>\n",
       "    <tr>\n",
       "      <th>0</th>\n",
       "      <td>5.0</td>\n",
       "      <td>1.0</td>\n",
       "      <td>1.0</td>\n",
       "      <td>1.0</td>\n",
       "      <td>2.0</td>\n",
       "      <td>0</td>\n",
       "      <td>3.0</td>\n",
       "      <td>1.0</td>\n",
       "      <td>1.0</td>\n",
       "      <td>0</td>\n",
       "    </tr>\n",
       "    <tr>\n",
       "      <th>1</th>\n",
       "      <td>5.0</td>\n",
       "      <td>4.0</td>\n",
       "      <td>4.0</td>\n",
       "      <td>5.0</td>\n",
       "      <td>7.0</td>\n",
       "      <td>1</td>\n",
       "      <td>3.0</td>\n",
       "      <td>2.0</td>\n",
       "      <td>1.0</td>\n",
       "      <td>0</td>\n",
       "    </tr>\n",
       "    <tr>\n",
       "      <th>2</th>\n",
       "      <td>3.0</td>\n",
       "      <td>1.0</td>\n",
       "      <td>1.0</td>\n",
       "      <td>1.0</td>\n",
       "      <td>2.0</td>\n",
       "      <td>2</td>\n",
       "      <td>3.0</td>\n",
       "      <td>1.0</td>\n",
       "      <td>1.0</td>\n",
       "      <td>0</td>\n",
       "    </tr>\n",
       "    <tr>\n",
       "      <th>3</th>\n",
       "      <td>6.0</td>\n",
       "      <td>8.0</td>\n",
       "      <td>8.0</td>\n",
       "      <td>1.0</td>\n",
       "      <td>3.0</td>\n",
       "      <td>4</td>\n",
       "      <td>3.0</td>\n",
       "      <td>7.0</td>\n",
       "      <td>1.0</td>\n",
       "      <td>0</td>\n",
       "    </tr>\n",
       "    <tr>\n",
       "      <th>4</th>\n",
       "      <td>4.0</td>\n",
       "      <td>1.0</td>\n",
       "      <td>1.0</td>\n",
       "      <td>3.0</td>\n",
       "      <td>2.0</td>\n",
       "      <td>0</td>\n",
       "      <td>3.0</td>\n",
       "      <td>1.0</td>\n",
       "      <td>1.0</td>\n",
       "      <td>0</td>\n",
       "    </tr>\n",
       "    <tr>\n",
       "      <th>...</th>\n",
       "      <td>...</td>\n",
       "      <td>...</td>\n",
       "      <td>...</td>\n",
       "      <td>...</td>\n",
       "      <td>...</td>\n",
       "      <td>...</td>\n",
       "      <td>...</td>\n",
       "      <td>...</td>\n",
       "      <td>...</td>\n",
       "      <td>...</td>\n",
       "    </tr>\n",
       "    <tr>\n",
       "      <th>694</th>\n",
       "      <td>3.0</td>\n",
       "      <td>1.0</td>\n",
       "      <td>1.0</td>\n",
       "      <td>1.0</td>\n",
       "      <td>3.0</td>\n",
       "      <td>2</td>\n",
       "      <td>1.0</td>\n",
       "      <td>1.0</td>\n",
       "      <td>1.0</td>\n",
       "      <td>0</td>\n",
       "    </tr>\n",
       "    <tr>\n",
       "      <th>695</th>\n",
       "      <td>2.0</td>\n",
       "      <td>1.0</td>\n",
       "      <td>1.0</td>\n",
       "      <td>1.0</td>\n",
       "      <td>2.0</td>\n",
       "      <td>0</td>\n",
       "      <td>1.0</td>\n",
       "      <td>1.0</td>\n",
       "      <td>1.0</td>\n",
       "      <td>0</td>\n",
       "    </tr>\n",
       "    <tr>\n",
       "      <th>696</th>\n",
       "      <td>5.0</td>\n",
       "      <td>10.0</td>\n",
       "      <td>10.0</td>\n",
       "      <td>3.0</td>\n",
       "      <td>7.0</td>\n",
       "      <td>3</td>\n",
       "      <td>8.0</td>\n",
       "      <td>10.0</td>\n",
       "      <td>2.0</td>\n",
       "      <td>1</td>\n",
       "    </tr>\n",
       "    <tr>\n",
       "      <th>697</th>\n",
       "      <td>4.0</td>\n",
       "      <td>8.0</td>\n",
       "      <td>6.0</td>\n",
       "      <td>4.0</td>\n",
       "      <td>3.0</td>\n",
       "      <td>4</td>\n",
       "      <td>10.0</td>\n",
       "      <td>6.0</td>\n",
       "      <td>1.0</td>\n",
       "      <td>1</td>\n",
       "    </tr>\n",
       "    <tr>\n",
       "      <th>698</th>\n",
       "      <td>4.0</td>\n",
       "      <td>8.0</td>\n",
       "      <td>8.0</td>\n",
       "      <td>5.0</td>\n",
       "      <td>4.0</td>\n",
       "      <td>5</td>\n",
       "      <td>10.0</td>\n",
       "      <td>4.0</td>\n",
       "      <td>1.0</td>\n",
       "      <td>1</td>\n",
       "    </tr>\n",
       "  </tbody>\n",
       "</table>\n",
       "<p>699 rows × 10 columns</p>\n",
       "</div>"
      ],
      "text/plain": [
       "     Clump_Thickness  Cell_Size_Uniformity  Cell_Shape_Uniformity  \\\n",
       "0                5.0                   1.0                    1.0   \n",
       "1                5.0                   4.0                    4.0   \n",
       "2                3.0                   1.0                    1.0   \n",
       "3                6.0                   8.0                    8.0   \n",
       "4                4.0                   1.0                    1.0   \n",
       "..               ...                   ...                    ...   \n",
       "694              3.0                   1.0                    1.0   \n",
       "695              2.0                   1.0                    1.0   \n",
       "696              5.0                  10.0                   10.0   \n",
       "697              4.0                   8.0                    6.0   \n",
       "698              4.0                   8.0                    8.0   \n",
       "\n",
       "     Marginal_Adhesion  Single_Epi_Cell_Size  Bare_Nuclei  Bland_Chromatin  \\\n",
       "0                  1.0                   2.0            0              3.0   \n",
       "1                  5.0                   7.0            1              3.0   \n",
       "2                  1.0                   2.0            2              3.0   \n",
       "3                  1.0                   3.0            4              3.0   \n",
       "4                  3.0                   2.0            0              3.0   \n",
       "..                 ...                   ...          ...              ...   \n",
       "694                1.0                   3.0            2              1.0   \n",
       "695                1.0                   2.0            0              1.0   \n",
       "696                3.0                   7.0            3              8.0   \n",
       "697                4.0                   3.0            4             10.0   \n",
       "698                5.0                   4.0            5             10.0   \n",
       "\n",
       "     Normal_Nucleoli  Mitoses  target  \n",
       "0                1.0      1.0       0  \n",
       "1                2.0      1.0       0  \n",
       "2                1.0      1.0       0  \n",
       "3                7.0      1.0       0  \n",
       "4                1.0      1.0       0  \n",
       "..               ...      ...     ...  \n",
       "694              1.0      1.0       0  \n",
       "695              1.0      1.0       0  \n",
       "696             10.0      2.0       1  \n",
       "697              6.0      1.0       1  \n",
       "698              4.0      1.0       1  \n",
       "\n",
       "[699 rows x 10 columns]"
      ]
     },
     "execution_count": 2,
     "metadata": {},
     "output_type": "execute_result"
    }
   ],
   "source": [
    "df = pmlb.fetch_data(\"breast_w\", local_cache_dir=\"../../data/breast_w\")\n",
    "\n",
    "df"
   ]
  },
  {
   "cell_type": "markdown",
   "metadata": {},
   "source": [
    "Since the datasets in the PMLB have been cleaned, they don't contain many missing values. We add nulls into 20% of the dataset here."
   ]
  },
  {
   "cell_type": "code",
   "execution_count": 3,
   "metadata": {
    "execution": {
     "iopub.execute_input": "2025-07-30T15:09:22.414772Z",
     "iopub.status.busy": "2025-07-30T15:09:22.414468Z",
     "iopub.status.idle": "2025-07-30T15:09:22.432623Z",
     "shell.execute_reply": "2025-07-30T15:09:22.432040Z"
    }
   },
   "outputs": [
    {
     "data": {
      "text/html": [
       "<div>\n",
       "<style scoped>\n",
       "    .dataframe tbody tr th:only-of-type {\n",
       "        vertical-align: middle;\n",
       "    }\n",
       "\n",
       "    .dataframe tbody tr th {\n",
       "        vertical-align: top;\n",
       "    }\n",
       "\n",
       "    .dataframe thead th {\n",
       "        text-align: right;\n",
       "    }\n",
       "</style>\n",
       "<table border=\"1\" class=\"dataframe\">\n",
       "  <thead>\n",
       "    <tr style=\"text-align: right;\">\n",
       "      <th></th>\n",
       "      <th>Clump_Thickness</th>\n",
       "      <th>Cell_Size_Uniformity</th>\n",
       "      <th>Cell_Shape_Uniformity</th>\n",
       "      <th>Marginal_Adhesion</th>\n",
       "      <th>Single_Epi_Cell_Size</th>\n",
       "      <th>Bare_Nuclei</th>\n",
       "      <th>Bland_Chromatin</th>\n",
       "      <th>Normal_Nucleoli</th>\n",
       "      <th>Mitoses</th>\n",
       "      <th>target</th>\n",
       "    </tr>\n",
       "  </thead>\n",
       "  <tbody>\n",
       "    <tr>\n",
       "      <th>0</th>\n",
       "      <td>5.0</td>\n",
       "      <td>NaN</td>\n",
       "      <td>1.0</td>\n",
       "      <td>1.0</td>\n",
       "      <td>2.0</td>\n",
       "      <td>0.0</td>\n",
       "      <td>3.0</td>\n",
       "      <td>NaN</td>\n",
       "      <td>1.0</td>\n",
       "      <td>NaN</td>\n",
       "    </tr>\n",
       "    <tr>\n",
       "      <th>1</th>\n",
       "      <td>5.0</td>\n",
       "      <td>NaN</td>\n",
       "      <td>4.0</td>\n",
       "      <td>5.0</td>\n",
       "      <td>NaN</td>\n",
       "      <td>NaN</td>\n",
       "      <td>3.0</td>\n",
       "      <td>2.0</td>\n",
       "      <td>1.0</td>\n",
       "      <td>0.0</td>\n",
       "    </tr>\n",
       "    <tr>\n",
       "      <th>2</th>\n",
       "      <td>3.0</td>\n",
       "      <td>1.0</td>\n",
       "      <td>1.0</td>\n",
       "      <td>1.0</td>\n",
       "      <td>2.0</td>\n",
       "      <td>2.0</td>\n",
       "      <td>3.0</td>\n",
       "      <td>1.0</td>\n",
       "      <td>1.0</td>\n",
       "      <td>0.0</td>\n",
       "    </tr>\n",
       "    <tr>\n",
       "      <th>3</th>\n",
       "      <td>6.0</td>\n",
       "      <td>8.0</td>\n",
       "      <td>8.0</td>\n",
       "      <td>1.0</td>\n",
       "      <td>3.0</td>\n",
       "      <td>NaN</td>\n",
       "      <td>NaN</td>\n",
       "      <td>NaN</td>\n",
       "      <td>1.0</td>\n",
       "      <td>NaN</td>\n",
       "    </tr>\n",
       "    <tr>\n",
       "      <th>4</th>\n",
       "      <td>4.0</td>\n",
       "      <td>1.0</td>\n",
       "      <td>1.0</td>\n",
       "      <td>3.0</td>\n",
       "      <td>2.0</td>\n",
       "      <td>0.0</td>\n",
       "      <td>3.0</td>\n",
       "      <td>1.0</td>\n",
       "      <td>NaN</td>\n",
       "      <td>0.0</td>\n",
       "    </tr>\n",
       "    <tr>\n",
       "      <th>...</th>\n",
       "      <td>...</td>\n",
       "      <td>...</td>\n",
       "      <td>...</td>\n",
       "      <td>...</td>\n",
       "      <td>...</td>\n",
       "      <td>...</td>\n",
       "      <td>...</td>\n",
       "      <td>...</td>\n",
       "      <td>...</td>\n",
       "      <td>...</td>\n",
       "    </tr>\n",
       "    <tr>\n",
       "      <th>694</th>\n",
       "      <td>3.0</td>\n",
       "      <td>1.0</td>\n",
       "      <td>1.0</td>\n",
       "      <td>1.0</td>\n",
       "      <td>3.0</td>\n",
       "      <td>2.0</td>\n",
       "      <td>1.0</td>\n",
       "      <td>1.0</td>\n",
       "      <td>1.0</td>\n",
       "      <td>0.0</td>\n",
       "    </tr>\n",
       "    <tr>\n",
       "      <th>695</th>\n",
       "      <td>NaN</td>\n",
       "      <td>1.0</td>\n",
       "      <td>1.0</td>\n",
       "      <td>1.0</td>\n",
       "      <td>NaN</td>\n",
       "      <td>0.0</td>\n",
       "      <td>NaN</td>\n",
       "      <td>NaN</td>\n",
       "      <td>1.0</td>\n",
       "      <td>0.0</td>\n",
       "    </tr>\n",
       "    <tr>\n",
       "      <th>696</th>\n",
       "      <td>5.0</td>\n",
       "      <td>10.0</td>\n",
       "      <td>10.0</td>\n",
       "      <td>3.0</td>\n",
       "      <td>7.0</td>\n",
       "      <td>3.0</td>\n",
       "      <td>NaN</td>\n",
       "      <td>NaN</td>\n",
       "      <td>2.0</td>\n",
       "      <td>1.0</td>\n",
       "    </tr>\n",
       "    <tr>\n",
       "      <th>697</th>\n",
       "      <td>4.0</td>\n",
       "      <td>NaN</td>\n",
       "      <td>NaN</td>\n",
       "      <td>4.0</td>\n",
       "      <td>3.0</td>\n",
       "      <td>4.0</td>\n",
       "      <td>10.0</td>\n",
       "      <td>6.0</td>\n",
       "      <td>1.0</td>\n",
       "      <td>NaN</td>\n",
       "    </tr>\n",
       "    <tr>\n",
       "      <th>698</th>\n",
       "      <td>4.0</td>\n",
       "      <td>8.0</td>\n",
       "      <td>8.0</td>\n",
       "      <td>5.0</td>\n",
       "      <td>4.0</td>\n",
       "      <td>5.0</td>\n",
       "      <td>10.0</td>\n",
       "      <td>NaN</td>\n",
       "      <td>1.0</td>\n",
       "      <td>1.0</td>\n",
       "    </tr>\n",
       "  </tbody>\n",
       "</table>\n",
       "<p>699 rows × 10 columns</p>\n",
       "</div>"
      ],
      "text/plain": [
       "     Clump_Thickness  Cell_Size_Uniformity  Cell_Shape_Uniformity  \\\n",
       "0                5.0                   NaN                    1.0   \n",
       "1                5.0                   NaN                    4.0   \n",
       "2                3.0                   1.0                    1.0   \n",
       "3                6.0                   8.0                    8.0   \n",
       "4                4.0                   1.0                    1.0   \n",
       "..               ...                   ...                    ...   \n",
       "694              3.0                   1.0                    1.0   \n",
       "695              NaN                   1.0                    1.0   \n",
       "696              5.0                  10.0                   10.0   \n",
       "697              4.0                   NaN                    NaN   \n",
       "698              4.0                   8.0                    8.0   \n",
       "\n",
       "     Marginal_Adhesion  Single_Epi_Cell_Size  Bare_Nuclei  Bland_Chromatin  \\\n",
       "0                  1.0                   2.0          0.0              3.0   \n",
       "1                  5.0                   NaN          NaN              3.0   \n",
       "2                  1.0                   2.0          2.0              3.0   \n",
       "3                  1.0                   3.0          NaN              NaN   \n",
       "4                  3.0                   2.0          0.0              3.0   \n",
       "..                 ...                   ...          ...              ...   \n",
       "694                1.0                   3.0          2.0              1.0   \n",
       "695                1.0                   NaN          0.0              NaN   \n",
       "696                3.0                   7.0          3.0              NaN   \n",
       "697                4.0                   3.0          4.0             10.0   \n",
       "698                5.0                   4.0          5.0             10.0   \n",
       "\n",
       "     Normal_Nucleoli  Mitoses  target  \n",
       "0                NaN      1.0     NaN  \n",
       "1                2.0      1.0     0.0  \n",
       "2                1.0      1.0     0.0  \n",
       "3                NaN      1.0     NaN  \n",
       "4                1.0      NaN     0.0  \n",
       "..               ...      ...     ...  \n",
       "694              1.0      1.0     0.0  \n",
       "695              NaN      1.0     0.0  \n",
       "696              NaN      2.0     1.0  \n",
       "697              6.0      1.0     NaN  \n",
       "698              NaN      1.0     1.0  \n",
       "\n",
       "[699 rows x 10 columns]"
      ]
     },
     "execution_count": 3,
     "metadata": {},
     "output_type": "execute_result"
    }
   ],
   "source": [
    "null_percent = 0.2\n",
    "rng = np.random.default_rng()\n",
    "\n",
    "def insert_percent_nulls(data: pd.DataFrame, percent: float) -> pd.DataFrame:\n",
    "    data = data.copy(deep=True)\n",
    "    mask = rng.uniform(size=data.shape) < percent\n",
    "    data[mask] = None\n",
    "\n",
    "    return data\n",
    "\n",
    "null_df = insert_percent_nulls(df, null_percent)\n",
    "null_df"
   ]
  },
  {
   "cell_type": "markdown",
   "metadata": {},
   "source": [
    "## Step 2: Define the Feature Attributes\n",
    "\n",
    "The Howso Engine always requires a set of defined feature attributes. We recommend using `infer_feature_attributes` as do most of the work quickly, but we always recommend manual inspection of these resulting feature attributes."
   ]
  },
  {
   "cell_type": "code",
   "execution_count": 4,
   "metadata": {
    "execution": {
     "iopub.execute_input": "2025-07-30T15:09:22.434571Z",
     "iopub.status.busy": "2025-07-30T15:09:22.434381Z",
     "iopub.status.idle": "2025-07-30T15:09:22.482849Z",
     "shell.execute_reply": "2025-07-30T15:09:22.482192Z"
    }
   },
   "outputs": [
    {
     "data": {
      "text/html": [
       "<div>\n",
       "<style scoped>\n",
       "    .dataframe tbody tr th:only-of-type {\n",
       "        vertical-align: middle;\n",
       "    }\n",
       "\n",
       "    .dataframe tbody tr th {\n",
       "        vertical-align: top;\n",
       "    }\n",
       "\n",
       "    .dataframe thead tr th {\n",
       "        text-align: left;\n",
       "    }\n",
       "</style>\n",
       "<table border=\"1\" class=\"dataframe\">\n",
       "  <thead>\n",
       "    <tr>\n",
       "      <th></th>\n",
       "      <th>type</th>\n",
       "      <th>decimal_places</th>\n",
       "      <th colspan=\"5\" halign=\"left\">bounds</th>\n",
       "      <th>data_type</th>\n",
       "      <th colspan=\"2\" halign=\"left\">original_type</th>\n",
       "    </tr>\n",
       "    <tr>\n",
       "      <th></th>\n",
       "      <th></th>\n",
       "      <th></th>\n",
       "      <th>min</th>\n",
       "      <th>max</th>\n",
       "      <th>allow_null</th>\n",
       "      <th>observed_min</th>\n",
       "      <th>observed_max</th>\n",
       "      <th></th>\n",
       "      <th>data_type</th>\n",
       "      <th>size</th>\n",
       "    </tr>\n",
       "  </thead>\n",
       "  <tbody>\n",
       "    <tr>\n",
       "      <th>Clump_Thickness</th>\n",
       "      <td>continuous</td>\n",
       "      <td>0.0</td>\n",
       "      <td>1.0</td>\n",
       "      <td>16.0</td>\n",
       "      <td>True</td>\n",
       "      <td>1.0</td>\n",
       "      <td>10.0</td>\n",
       "      <td>number</td>\n",
       "      <td>numeric</td>\n",
       "      <td>8</td>\n",
       "    </tr>\n",
       "    <tr>\n",
       "      <th>Cell_Size_Uniformity</th>\n",
       "      <td>continuous</td>\n",
       "      <td>0.0</td>\n",
       "      <td>1.0</td>\n",
       "      <td>16.0</td>\n",
       "      <td>True</td>\n",
       "      <td>1.0</td>\n",
       "      <td>10.0</td>\n",
       "      <td>number</td>\n",
       "      <td>numeric</td>\n",
       "      <td>8</td>\n",
       "    </tr>\n",
       "    <tr>\n",
       "      <th>Cell_Shape_Uniformity</th>\n",
       "      <td>continuous</td>\n",
       "      <td>0.0</td>\n",
       "      <td>1.0</td>\n",
       "      <td>16.0</td>\n",
       "      <td>True</td>\n",
       "      <td>1.0</td>\n",
       "      <td>10.0</td>\n",
       "      <td>number</td>\n",
       "      <td>numeric</td>\n",
       "      <td>8</td>\n",
       "    </tr>\n",
       "    <tr>\n",
       "      <th>Marginal_Adhesion</th>\n",
       "      <td>continuous</td>\n",
       "      <td>0.0</td>\n",
       "      <td>1.0</td>\n",
       "      <td>16.0</td>\n",
       "      <td>True</td>\n",
       "      <td>1.0</td>\n",
       "      <td>10.0</td>\n",
       "      <td>number</td>\n",
       "      <td>numeric</td>\n",
       "      <td>8</td>\n",
       "    </tr>\n",
       "    <tr>\n",
       "      <th>Single_Epi_Cell_Size</th>\n",
       "      <td>continuous</td>\n",
       "      <td>0.0</td>\n",
       "      <td>0.0</td>\n",
       "      <td>16.0</td>\n",
       "      <td>True</td>\n",
       "      <td>1.0</td>\n",
       "      <td>10.0</td>\n",
       "      <td>number</td>\n",
       "      <td>numeric</td>\n",
       "      <td>8</td>\n",
       "    </tr>\n",
       "    <tr>\n",
       "      <th>Bare_Nuclei</th>\n",
       "      <td>continuous</td>\n",
       "      <td>0.0</td>\n",
       "      <td>0.0</td>\n",
       "      <td>16.0</td>\n",
       "      <td>True</td>\n",
       "      <td>0.0</td>\n",
       "      <td>10.0</td>\n",
       "      <td>number</td>\n",
       "      <td>numeric</td>\n",
       "      <td>8</td>\n",
       "    </tr>\n",
       "    <tr>\n",
       "      <th>Bland_Chromatin</th>\n",
       "      <td>continuous</td>\n",
       "      <td>0.0</td>\n",
       "      <td>0.0</td>\n",
       "      <td>16.0</td>\n",
       "      <td>True</td>\n",
       "      <td>1.0</td>\n",
       "      <td>10.0</td>\n",
       "      <td>number</td>\n",
       "      <td>numeric</td>\n",
       "      <td>8</td>\n",
       "    </tr>\n",
       "    <tr>\n",
       "      <th>Normal_Nucleoli</th>\n",
       "      <td>continuous</td>\n",
       "      <td>0.0</td>\n",
       "      <td>1.0</td>\n",
       "      <td>16.0</td>\n",
       "      <td>True</td>\n",
       "      <td>1.0</td>\n",
       "      <td>10.0</td>\n",
       "      <td>number</td>\n",
       "      <td>numeric</td>\n",
       "      <td>8</td>\n",
       "    </tr>\n",
       "    <tr>\n",
       "      <th>Mitoses</th>\n",
       "      <td>continuous</td>\n",
       "      <td>0.0</td>\n",
       "      <td>1.0</td>\n",
       "      <td>16.0</td>\n",
       "      <td>True</td>\n",
       "      <td>1.0</td>\n",
       "      <td>10.0</td>\n",
       "      <td>number</td>\n",
       "      <td>numeric</td>\n",
       "      <td>8</td>\n",
       "    </tr>\n",
       "    <tr>\n",
       "      <th>target</th>\n",
       "      <td>nominal</td>\n",
       "      <td>NaN</td>\n",
       "      <td>NaN</td>\n",
       "      <td>NaN</td>\n",
       "      <td>True</td>\n",
       "      <td>NaN</td>\n",
       "      <td>NaN</td>\n",
       "      <td>number</td>\n",
       "      <td>numeric</td>\n",
       "      <td>8</td>\n",
       "    </tr>\n",
       "  </tbody>\n",
       "</table>\n",
       "</div>"
      ],
      "text/plain": [
       "                             type decimal_places bounds                   \\\n",
       "                                                    min   max allow_null   \n",
       "Clump_Thickness        continuous            0.0    1.0  16.0       True   \n",
       "Cell_Size_Uniformity   continuous            0.0    1.0  16.0       True   \n",
       "Cell_Shape_Uniformity  continuous            0.0    1.0  16.0       True   \n",
       "Marginal_Adhesion      continuous            0.0    1.0  16.0       True   \n",
       "Single_Epi_Cell_Size   continuous            0.0    0.0  16.0       True   \n",
       "Bare_Nuclei            continuous            0.0    0.0  16.0       True   \n",
       "Bland_Chromatin        continuous            0.0    0.0  16.0       True   \n",
       "Normal_Nucleoli        continuous            0.0    1.0  16.0       True   \n",
       "Mitoses                continuous            0.0    1.0  16.0       True   \n",
       "target                    nominal            NaN    NaN   NaN       True   \n",
       "\n",
       "                                                data_type original_type       \n",
       "                      observed_min observed_max               data_type size  \n",
       "Clump_Thickness                1.0         10.0    number       numeric    8  \n",
       "Cell_Size_Uniformity           1.0         10.0    number       numeric    8  \n",
       "Cell_Shape_Uniformity          1.0         10.0    number       numeric    8  \n",
       "Marginal_Adhesion              1.0         10.0    number       numeric    8  \n",
       "Single_Epi_Cell_Size           1.0         10.0    number       numeric    8  \n",
       "Bare_Nuclei                    0.0         10.0    number       numeric    8  \n",
       "Bland_Chromatin                1.0         10.0    number       numeric    8  \n",
       "Normal_Nucleoli                1.0         10.0    number       numeric    8  \n",
       "Mitoses                        1.0         10.0    number       numeric    8  \n",
       "target                         NaN          NaN    number       numeric    8  "
      ]
     },
     "execution_count": 4,
     "metadata": {},
     "output_type": "execute_result"
    }
   ],
   "source": [
    "features = infer_feature_attributes(null_df)\n",
    "features.to_dataframe()"
   ]
  },
  {
   "cell_type": "markdown",
   "metadata": {},
   "source": [
    "## Step 3: Train and Analyze Data\n",
    "\n",
    "We then train the data into a `Trainee` and analyze the data to determine the best hyperparameters.  Note that we are explicitly declaring our default context and action features."
   ]
  },
  {
   "cell_type": "code",
   "execution_count": 5,
   "metadata": {
    "execution": {
     "iopub.execute_input": "2025-07-30T15:09:22.484914Z",
     "iopub.status.busy": "2025-07-30T15:09:22.484720Z",
     "iopub.status.idle": "2025-07-30T15:09:26.832814Z",
     "shell.execute_reply": "2025-07-30T15:09:26.832130Z"
    }
   },
   "outputs": [],
   "source": [
    "action_features = [\"target\"]\n",
    "context_features = features.get_names(without=action_features)\n",
    "\n",
    "t = Trainee(features=features)\n",
    "t.train(null_df)\n",
    "t.analyze(context_features=context_features, action_features=action_features)"
   ]
  },
  {
   "cell_type": "markdown",
   "metadata": {},
   "source": [
    "## Step 4: Measure Trainee Accuracy\n",
    "\n",
    "Finally, we get the prediction stats.  The default action feature, `target`, is categorical so we are concerned with *precision*,  *recall*, and *accuracy*.\n",
    "\n",
    "Here, we specifically compute `residuals_robust`. This computes what we call \"Robust Residuals\" which is to compute the mean absolute error of predictions on every feature where the context features are sampled over the power set of all other features. These residuals should typically be larger than the more typical \"Full Residuals\" which are computed as the mean absolute error of predictions on each feature where **every** other feature is used as a context."
   ]
  },
  {
   "cell_type": "code",
   "execution_count": 6,
   "metadata": {
    "execution": {
     "iopub.execute_input": "2025-07-30T15:09:26.835215Z",
     "iopub.status.busy": "2025-07-30T15:09:26.835017Z",
     "iopub.status.idle": "2025-07-30T15:09:27.070572Z",
     "shell.execute_reply": "2025-07-30T15:09:27.070007Z"
    }
   },
   "outputs": [
    {
     "data": {
      "text/plain": [
       "accuracy     0.957192\n",
       "recall       0.952115\n",
       "precision    0.953178\n",
       "Name: target, dtype: float64"
      ]
     },
     "execution_count": 6,
     "metadata": {},
     "output_type": "execute_result"
    }
   ],
   "source": [
<<<<<<< HEAD
    "accuracy = pd.DataFrame(t.react_aggregate(\n",
=======
    "accuracy = t.react_aggregate(\n",
>>>>>>> e061323 (save)
    "    prediction_stats_action_feature=action_features[0],\n",
    "    details = {\n",
    "        \"prediction_stats\": True,\n",
    "        \"selected_prediction_stats\": [\"accuracy\", \"precision\", \"recall\"]\n",
    "        }\n",
    ")).T[action_features[0]]\n",
    "\n",
    "accuracy"
   ]
  },
  {
   "cell_type": "code",
   "execution_count": 7,
   "metadata": {
    "execution": {
     "iopub.execute_input": "2025-07-30T15:09:27.072614Z",
     "iopub.status.busy": "2025-07-30T15:09:27.072424Z",
     "iopub.status.idle": "2025-07-30T15:09:27.095982Z",
     "shell.execute_reply": "2025-07-30T15:09:27.095352Z"
    }
   },
   "outputs": [],
   "source": [
    "t.delete()"
   ]
  },
  {
   "cell_type": "markdown",
   "metadata": {},
   "source": [
    "## Step 5: Evaluate Performance at Multiple Sparsity Levels\n",
    "\n",
    "Now we evaluate the `Trainee` performance at multiple sparsity levels to characterize how prediction performance holds up in the presence of many nulls.\n",
    "\n",
    "To do this, we simply create versions of the dataset with different proportions of null values, and do the same accuracy evaluation we demonstrated above."
   ]
  },
  {
   "cell_type": "code",
   "execution_count": 8,
   "metadata": {
    "execution": {
     "iopub.execute_input": "2025-07-30T15:09:27.107098Z",
     "iopub.status.busy": "2025-07-30T15:09:27.106870Z",
     "iopub.status.idle": "2025-07-30T15:10:08.760674Z",
     "shell.execute_reply": "2025-07-30T15:10:08.760016Z"
    }
   },
   "outputs": [
    {
     "name": "stdout",
     "output_type": "stream",
     "text": [
      "Evaluating Trainee for 0% nulls\n",
      "Evaluating Trainee for 10% nulls\n",
      "Evaluating Trainee for 20% nulls\n",
      "Evaluating Trainee for 30% nulls\n",
      "Evaluating Trainee for 40% nulls\n",
      "Evaluating Trainee for 50% nulls\n"
     ]
    },
    {
     "name": "stderr",
     "output_type": "stream",
     "text": [
      "/Users/jackxia/src/howso-engine-py/howso/direct/client.py:376: HowsoWarning: There are no cached hyperparameters in this trainee. This operation was executed using a set of predefined default hyperparameters. Please run `analyze` or enable auto-analysis with `set_auto_analyze_params`.\n",
      "  warnings.warn(w, category=HowsoWarning)\n"
     ]
    },
    {
     "name": "stdout",
     "output_type": "stream",
     "text": [
      "Evaluating Trainee for 60% nulls\n"
     ]
    },
    {
     "name": "stderr",
     "output_type": "stream",
     "text": [
      "/Users/jackxia/src/howso-engine-py/howso/direct/client.py:376: HowsoWarning: There are no cached hyperparameters in this trainee. This operation was executed using a set of predefined default hyperparameters. Please run `analyze` or enable auto-analysis with `set_auto_analyze_params`.\n",
      "  warnings.warn(w, category=HowsoWarning)\n"
     ]
    },
    {
     "name": "stdout",
     "output_type": "stream",
     "text": [
      "Evaluating Trainee for 70% nulls\n"
     ]
    },
    {
     "name": "stderr",
     "output_type": "stream",
     "text": [
      "/Users/jackxia/src/howso-engine-py/howso/direct/client.py:376: HowsoWarning: There are no cached hyperparameters in this trainee. This operation was executed using a set of predefined default hyperparameters. Please run `analyze` or enable auto-analysis with `set_auto_analyze_params`.\n",
      "  warnings.warn(w, category=HowsoWarning)\n"
     ]
    },
    {
     "name": "stdout",
     "output_type": "stream",
     "text": [
      "Evaluating Trainee for 80% nulls\n"
     ]
    },
    {
     "name": "stderr",
     "output_type": "stream",
     "text": [
      "/Users/jackxia/src/howso-engine-py/howso/direct/client.py:376: HowsoWarning: There are no cached hyperparameters in this trainee. This operation was executed using a set of predefined default hyperparameters. Please run `analyze` or enable auto-analysis with `set_auto_analyze_params`.\n",
      "  warnings.warn(w, category=HowsoWarning)\n"
     ]
    },
    {
     "name": "stdout",
     "output_type": "stream",
     "text": [
      "Evaluating Trainee for 90% nulls\n"
     ]
    },
    {
     "name": "stderr",
     "output_type": "stream",
     "text": [
      "/Users/jackxia/src/howso-engine-py/howso/direct/client.py:376: HowsoWarning: There are no cached hyperparameters in this trainee. This operation was executed using a set of predefined default hyperparameters. Please run `analyze` or enable auto-analysis with `set_auto_analyze_params`.\n",
      "  warnings.warn(w, category=HowsoWarning)\n"
     ]
    }
   ],
   "source": [
    "null_percentages = np.linspace(0, 0.9, num=10)\n",
    "prediction_stats_list = []\n",
    "\n",
    "for null_percent in null_percentages:\n",
    "    print(f\"Evaluating Trainee for {round(null_percent * 100)}% nulls\")\n",
    "\n",
    "    # Create a DataFrame that is a copy of the input DataFrame that has the correct percentage of null values.\n",
    "    null_df = insert_percent_nulls(df, null_percent)\n",
    "    # Infer feature attrbiutes for the new DataFrame\n",
    "    null_features = infer_feature_attributes(null_df)\n",
    "    # Create the Trainee, train, and analyze\n",
    "    t = Trainee(features=null_features)\n",
    "    t.train(null_df)\n",
    "    t.analyze(context_features=context_features, action_features=action_features)\n",
    "    # Compute, fetch, and store the prediction stats\n",
<<<<<<< HEAD
    "    prediction_stats = pd.DataFrame(t.react_aggregate(\n",
=======
    "    prediction_stats = t.react_aggregate(\n",
>>>>>>> e061323 (save)
    "        prediction_stats_action_feature=action_features[0],\n",
    "        details = {\n",
    "            \"prediction_stats\": True,\n",
    "            \"selected_prediction_stats\": [\"accuracy\", \"precision\", \"recall\"]\n",
    "            }\n",
    "    )).T[action_features[0]]\n",
    "\n",
    "    prediction_stats_list.append(prediction_stats.T)\n",
    "    # Clean up the Trainee\n",
    "    t.delete()"
   ]
  },
  {
   "cell_type": "code",
   "execution_count": 9,
   "metadata": {
    "execution": {
     "iopub.execute_input": "2025-07-30T15:10:08.763682Z",
     "iopub.status.busy": "2025-07-30T15:10:08.763453Z",
     "iopub.status.idle": "2025-07-30T15:10:08.768649Z",
     "shell.execute_reply": "2025-07-30T15:10:08.768131Z"
    }
   },
   "outputs": [
    {
     "data": {
      "text/plain": [
       "0     0.964014\n",
       "1     0.969957\n",
       "2     0.970193\n",
       "3     0.961360\n",
       "4     0.956476\n",
       "5     0.959171\n",
       "6     0.951315\n",
       "7     0.956100\n",
       "8     0.959044\n",
       "9     0.935044\n",
       "10    0.939834\n",
       "11    0.931238\n",
       "12    0.935327\n",
       "13    0.940716\n",
       "14    0.943396\n",
       "15    0.949580\n",
       "16    0.953101\n",
       "17    0.930366\n",
       "18    0.897157\n",
       "19    0.927166\n",
       "20    0.921986\n",
       "21    0.901042\n",
       "22    0.922131\n",
       "23    0.925247\n",
       "24    0.860355\n",
       "25    0.864516\n",
       "26    0.799495\n",
       "27    0.741758\n",
       "28    0.623249\n",
       "29    0.762712\n",
       "Name: target, dtype: float64"
      ]
     },
     "execution_count": 9,
     "metadata": {},
     "output_type": "execute_result"
    }
   ],
   "source": [
    "prediction_stats_df2 = pd.concat(prediction_stats_list, ignore_index=True)\n",
    "prediction_stats_df2"
   ]
  },
  {
   "cell_type": "code",
   "execution_count": 10,
   "metadata": {
    "execution": {
     "iopub.execute_input": "2025-07-30T15:10:08.770352Z",
     "iopub.status.busy": "2025-07-30T15:10:08.770169Z",
     "iopub.status.idle": "2025-07-30T15:10:08.773647Z",
     "shell.execute_reply": "2025-07-30T15:10:08.773157Z"
    }
   },
   "outputs": [
    {
     "data": {
      "text/plain": [
       "pandas.core.series.Series"
      ]
     },
     "execution_count": 10,
     "metadata": {},
     "output_type": "execute_result"
    }
   ],
   "source": [
    "type(prediction_stats_list[0])"
   ]
  },
  {
   "cell_type": "code",
   "execution_count": 11,
   "metadata": {
    "execution": {
     "iopub.execute_input": "2025-07-30T15:10:08.775289Z",
     "iopub.status.busy": "2025-07-30T15:10:08.775111Z",
     "iopub.status.idle": "2025-07-30T15:10:08.778677Z",
     "shell.execute_reply": "2025-07-30T15:10:08.778164Z"
    }
   },
   "outputs": [
    {
     "data": {
      "text/plain": [
       "array([0. , 0.1, 0.2, 0.3, 0.4, 0.5, 0.6, 0.7, 0.8, 0.9])"
      ]
     },
     "execution_count": 11,
     "metadata": {},
     "output_type": "execute_result"
    }
   ],
   "source": [
    "null_percentages"
   ]
  },
  {
   "cell_type": "code",
   "execution_count": 12,
   "metadata": {
    "execution": {
     "iopub.execute_input": "2025-07-30T15:10:08.780315Z",
     "iopub.status.busy": "2025-07-30T15:10:08.780138Z",
     "iopub.status.idle": "2025-07-30T15:10:08.788793Z",
     "shell.execute_reply": "2025-07-30T15:10:08.788274Z"
    }
   },
   "outputs": [
    {
     "data": {
      "text/html": [
       "<div>\n",
       "<style scoped>\n",
       "    .dataframe tbody tr th:only-of-type {\n",
       "        vertical-align: middle;\n",
       "    }\n",
       "\n",
       "    .dataframe tbody tr th {\n",
       "        vertical-align: top;\n",
       "    }\n",
       "\n",
       "    .dataframe thead th {\n",
       "        text-align: right;\n",
       "    }\n",
       "</style>\n",
       "<table border=\"1\" class=\"dataframe\">\n",
       "  <thead>\n",
       "    <tr style=\"text-align: right;\">\n",
       "      <th></th>\n",
       "      <th>precision</th>\n",
       "      <th>accuracy</th>\n",
       "      <th>recall</th>\n",
       "    </tr>\n",
       "  </thead>\n",
       "  <tbody>\n",
       "    <tr>\n",
       "      <th>0</th>\n",
       "      <td>0.964014</td>\n",
       "      <td>0.969957</td>\n",
       "      <td>0.970193</td>\n",
       "    </tr>\n",
       "    <tr>\n",
       "      <th>1</th>\n",
       "      <td>0.956476</td>\n",
       "      <td>0.961360</td>\n",
       "      <td>0.959171</td>\n",
       "    </tr>\n",
       "    <tr>\n",
       "      <th>2</th>\n",
       "      <td>0.956100</td>\n",
       "      <td>0.959044</td>\n",
       "      <td>0.951315</td>\n",
       "    </tr>\n",
       "    <tr>\n",
       "      <th>3</th>\n",
       "      <td>0.935044</td>\n",
       "      <td>0.939834</td>\n",
       "      <td>0.931238</td>\n",
       "    </tr>\n",
       "    <tr>\n",
       "      <th>4</th>\n",
       "      <td>0.940716</td>\n",
       "      <td>0.943396</td>\n",
       "      <td>0.935327</td>\n",
       "    </tr>\n",
       "    <tr>\n",
       "      <th>5</th>\n",
       "      <td>0.953101</td>\n",
       "      <td>0.949580</td>\n",
       "      <td>0.930366</td>\n",
       "    </tr>\n",
       "    <tr>\n",
       "      <th>6</th>\n",
       "      <td>0.927166</td>\n",
       "      <td>0.921986</td>\n",
       "      <td>0.897157</td>\n",
       "    </tr>\n",
       "    <tr>\n",
       "      <th>7</th>\n",
       "      <td>0.925247</td>\n",
       "      <td>0.922131</td>\n",
       "      <td>0.901042</td>\n",
       "    </tr>\n",
       "    <tr>\n",
       "      <th>8</th>\n",
       "      <td>0.860355</td>\n",
       "      <td>0.864516</td>\n",
       "      <td>0.799495</td>\n",
       "    </tr>\n",
       "    <tr>\n",
       "      <th>9</th>\n",
       "      <td>0.741758</td>\n",
       "      <td>0.762712</td>\n",
       "      <td>0.623249</td>\n",
       "    </tr>\n",
       "  </tbody>\n",
       "</table>\n",
       "</div>"
      ],
      "text/plain": [
       "   precision  accuracy    recall\n",
       "0   0.964014  0.969957  0.970193\n",
       "1   0.956476  0.961360  0.959171\n",
       "2   0.956100  0.959044  0.951315\n",
       "3   0.935044  0.939834  0.931238\n",
       "4   0.940716  0.943396  0.935327\n",
       "5   0.953101  0.949580  0.930366\n",
       "6   0.927166  0.921986  0.897157\n",
       "7   0.925247  0.922131  0.901042\n",
       "8   0.860355  0.864516  0.799495\n",
       "9   0.741758  0.762712  0.623249"
      ]
     },
     "execution_count": 12,
     "metadata": {},
     "output_type": "execute_result"
    }
   ],
   "source": [
    "prediction_stats_df = pd.concat(prediction_stats_list, ignore_index=True, axis=1).T\n",
    "prediction_stats_df"
   ]
  },
  {
   "cell_type": "code",
   "execution_count": 13,
   "metadata": {
    "execution": {
     "iopub.execute_input": "2025-07-30T15:10:08.790508Z",
     "iopub.status.busy": "2025-07-30T15:10:08.790326Z",
     "iopub.status.idle": "2025-07-30T15:10:08.799182Z",
     "shell.execute_reply": "2025-07-30T15:10:08.798638Z"
    }
   },
   "outputs": [
    {
     "data": {
      "text/html": [
       "<div>\n",
       "<style scoped>\n",
       "    .dataframe tbody tr th:only-of-type {\n",
       "        vertical-align: middle;\n",
       "    }\n",
       "\n",
       "    .dataframe tbody tr th {\n",
       "        vertical-align: top;\n",
       "    }\n",
       "\n",
       "    .dataframe thead th {\n",
       "        text-align: right;\n",
       "    }\n",
       "</style>\n",
       "<table border=\"1\" class=\"dataframe\">\n",
       "  <thead>\n",
       "    <tr style=\"text-align: right;\">\n",
       "      <th></th>\n",
       "      <th>precision</th>\n",
       "      <th>accuracy</th>\n",
       "      <th>recall</th>\n",
       "    </tr>\n",
       "    <tr>\n",
       "      <th>Null %</th>\n",
       "      <th></th>\n",
       "      <th></th>\n",
       "      <th></th>\n",
       "    </tr>\n",
       "  </thead>\n",
       "  <tbody>\n",
       "    <tr>\n",
       "      <th>0.0</th>\n",
       "      <td>0.964014</td>\n",
       "      <td>0.969957</td>\n",
       "      <td>0.970193</td>\n",
       "    </tr>\n",
       "    <tr>\n",
       "      <th>0.1</th>\n",
       "      <td>0.956476</td>\n",
       "      <td>0.961360</td>\n",
       "      <td>0.959171</td>\n",
       "    </tr>\n",
       "    <tr>\n",
       "      <th>0.2</th>\n",
       "      <td>0.956100</td>\n",
       "      <td>0.959044</td>\n",
       "      <td>0.951315</td>\n",
       "    </tr>\n",
       "    <tr>\n",
       "      <th>0.3</th>\n",
       "      <td>0.935044</td>\n",
       "      <td>0.939834</td>\n",
       "      <td>0.931238</td>\n",
       "    </tr>\n",
       "    <tr>\n",
       "      <th>0.4</th>\n",
       "      <td>0.940716</td>\n",
       "      <td>0.943396</td>\n",
       "      <td>0.935327</td>\n",
       "    </tr>\n",
       "    <tr>\n",
       "      <th>0.5</th>\n",
       "      <td>0.953101</td>\n",
       "      <td>0.949580</td>\n",
       "      <td>0.930366</td>\n",
       "    </tr>\n",
       "    <tr>\n",
       "      <th>0.6</th>\n",
       "      <td>0.927166</td>\n",
       "      <td>0.921986</td>\n",
       "      <td>0.897157</td>\n",
       "    </tr>\n",
       "    <tr>\n",
       "      <th>0.7</th>\n",
       "      <td>0.925247</td>\n",
       "      <td>0.922131</td>\n",
       "      <td>0.901042</td>\n",
       "    </tr>\n",
       "    <tr>\n",
       "      <th>0.8</th>\n",
       "      <td>0.860355</td>\n",
       "      <td>0.864516</td>\n",
       "      <td>0.799495</td>\n",
       "    </tr>\n",
       "    <tr>\n",
       "      <th>0.9</th>\n",
       "      <td>0.741758</td>\n",
       "      <td>0.762712</td>\n",
       "      <td>0.623249</td>\n",
       "    </tr>\n",
       "  </tbody>\n",
       "</table>\n",
       "</div>"
      ],
      "text/plain": [
       "        precision  accuracy    recall\n",
       "Null %                               \n",
       "0.0      0.964014  0.969957  0.970193\n",
       "0.1      0.956476  0.961360  0.959171\n",
       "0.2      0.956100  0.959044  0.951315\n",
       "0.3      0.935044  0.939834  0.931238\n",
       "0.4      0.940716  0.943396  0.935327\n",
       "0.5      0.953101  0.949580  0.930366\n",
       "0.6      0.927166  0.921986  0.897157\n",
       "0.7      0.925247  0.922131  0.901042\n",
       "0.8      0.860355  0.864516  0.799495\n",
       "0.9      0.741758  0.762712  0.623249"
      ]
     },
     "execution_count": 13,
     "metadata": {},
     "output_type": "execute_result"
    }
   ],
   "source": [
    "prediction_stats_df = pd.concat(prediction_stats_list, axis=1, ignore_index=True).T.set_index(pd.Index(null_percentages, name=\"Null %\"), drop=True)\n",
    "\n",
    "prediction_stats_df"
   ]
  },
  {
   "cell_type": "markdown",
   "metadata": {},
   "source": [
    "As we can see, Howso Engine performs quite well even when significant fractions of the dataset are replaced with null values."
   ]
  },
  {
   "cell_type": "code",
   "execution_count": 14,
   "metadata": {
    "execution": {
     "iopub.execute_input": "2025-07-30T15:10:08.800994Z",
     "iopub.status.busy": "2025-07-30T15:10:08.800802Z",
     "iopub.status.idle": "2025-07-30T15:10:09.504274Z",
     "shell.execute_reply": "2025-07-30T15:10:09.503692Z"
    }
   },
   "outputs": [
    {
     "data": {
      "text/plain": [
       "Text(0.5, 1.0, 'Prediction Stats for Different Levels of Sparsity')"
      ]
     },
     "execution_count": 14,
     "metadata": {},
     "output_type": "execute_result"
    },
    {
     "data": {
      "image/png": "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",
      "text/plain": [
       "<Figure size 640x480 with 1 Axes>"
      ]
     },
     "metadata": {},
     "output_type": "display_data"
    }
   ],
   "source": [
    "majority_class_accuracy = df.target.value_counts(normalize=True).max()\n",
    "\n",
    "ax = prediction_stats_df.plot()\n",
    "ax.set_ylim(-0.05, 1.05)\n",
    "ax.hlines(y=majority_class_accuracy, xmin=0, xmax=0.9, color=\"black\", label=\"Majority Class Prediction\")\n",
    "ax.legend(loc=\"lower right\")\n",
    "ax.set_title(\"Prediction Stats for Different Levels of Sparsity\")"
   ]
  },
  {
   "cell_type": "markdown",
   "metadata": {},
   "source": [
    "# Conclusion\n",
    "\n",
    "In this notebook we demonstrate the ability of the Howso Engine to natively handle data with missing values. Furthermore we demonstrate that the Howso Engine can maintain accuracy even when the training data has increasing proportions of missing values. This makes the Howso Engine a great tool to use in use-cases where datasets have many missing values (even when the missing values themselves are informative!)."
   ]
  }
 ],
 "metadata": {
  "kernelspec": {
   "display_name": "engine_rec_312",
   "language": "python",
   "name": "python3"
  },
  "language_info": {
   "codemirror_mode": {
    "name": "ipython",
    "version": 3
   },
   "file_extension": ".py",
   "mimetype": "text/x-python",
   "name": "python",
   "nbconvert_exporter": "python",
   "pygments_lexer": "ipython3",
   "version": "3.12.0"
  }
 },
 "nbformat": 4,
 "nbformat_minor": 2
}
