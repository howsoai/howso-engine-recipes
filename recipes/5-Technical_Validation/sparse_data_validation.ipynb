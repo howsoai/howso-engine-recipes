{
 "cells": [
  {
   "cell_type": "markdown",
   "metadata": {},
   "source": [
    "# Sparse Data and Null Handling\n",
    "\n",
    "## Overview\n",
    "\n",
    "This notebook provides an overview of applying Howso Engine to sparse data (i.e., data that contain missing values) and helps to characterize how prediction performance is affected as model sparsity increases.  Howso Engine does not require any preprocessing to handle nulls or NaNs, but has notable robustness when it comes to working with data that contain them.\n",
    "\n",
    "We demonstrate that the Howso Engine can maintain accuracy even when the training data has increasing proportions of missing values. This makes the Howso Engine a great option for use-cases with sparse datasets. Additionally, the Howso Engine has the ability to treat missing values semantically. This unlocks the ability for the Engine to find trends in the data relating to missing values for each feature, which could reveal powerful insights for users."
   ]
  },
  {
   "cell_type": "code",
   "execution_count": 1,
   "metadata": {
    "execution": {
     "iopub.execute_input": "2024-08-07T16:43:25.193205Z",
     "iopub.status.busy": "2024-08-07T16:43:25.192776Z",
     "iopub.status.idle": "2024-08-07T16:43:31.528650Z",
     "shell.execute_reply": "2024-08-07T16:43:31.527989Z"
    }
   },
   "outputs": [
    {
     "name": "stderr",
     "output_type": "stream",
     "text": [
      "Matplotlib is building the font cache; this may take a moment.\n"
     ]
    }
   ],
   "source": [
    "import matplotlib.pyplot as plt\n",
    "import numpy as np\n",
    "import pandas as pd\n",
    "import pmlb\n",
    "\n",
    "from howso.engine import Trainee\n",
    "from howso.utilities import infer_feature_attributes"
   ]
  },
  {
   "cell_type": "markdown",
   "metadata": {},
   "source": [
    "## Step 1: Load Data\n",
    "\n",
    "We use the ``breast_w`` dataset from the [PMLB](https://github.com/EpistasisLab/pmlb)."
   ]
  },
  {
   "cell_type": "code",
   "execution_count": 2,
   "metadata": {
    "execution": {
     "iopub.execute_input": "2024-08-07T16:43:31.531789Z",
     "iopub.status.busy": "2024-08-07T16:43:31.531569Z",
     "iopub.status.idle": "2024-08-07T16:43:31.550515Z",
     "shell.execute_reply": "2024-08-07T16:43:31.549999Z"
    }
   },
   "outputs": [
    {
     "data": {
      "text/html": [
       "<div>\n",
       "<style scoped>\n",
       "    .dataframe tbody tr th:only-of-type {\n",
       "        vertical-align: middle;\n",
       "    }\n",
       "\n",
       "    .dataframe tbody tr th {\n",
       "        vertical-align: top;\n",
       "    }\n",
       "\n",
       "    .dataframe thead th {\n",
       "        text-align: right;\n",
       "    }\n",
       "</style>\n",
       "<table border=\"1\" class=\"dataframe\">\n",
       "  <thead>\n",
       "    <tr style=\"text-align: right;\">\n",
       "      <th></th>\n",
       "      <th>Clump_Thickness</th>\n",
       "      <th>Cell_Size_Uniformity</th>\n",
       "      <th>Cell_Shape_Uniformity</th>\n",
       "      <th>Marginal_Adhesion</th>\n",
       "      <th>Single_Epi_Cell_Size</th>\n",
       "      <th>Bare_Nuclei</th>\n",
       "      <th>Bland_Chromatin</th>\n",
       "      <th>Normal_Nucleoli</th>\n",
       "      <th>Mitoses</th>\n",
       "      <th>target</th>\n",
       "    </tr>\n",
       "  </thead>\n",
       "  <tbody>\n",
       "    <tr>\n",
       "      <th>0</th>\n",
       "      <td>5.0</td>\n",
       "      <td>1.0</td>\n",
       "      <td>1.0</td>\n",
       "      <td>1.0</td>\n",
       "      <td>2.0</td>\n",
       "      <td>0</td>\n",
       "      <td>3.0</td>\n",
       "      <td>1.0</td>\n",
       "      <td>1.0</td>\n",
       "      <td>0</td>\n",
       "    </tr>\n",
       "    <tr>\n",
       "      <th>1</th>\n",
       "      <td>5.0</td>\n",
       "      <td>4.0</td>\n",
       "      <td>4.0</td>\n",
       "      <td>5.0</td>\n",
       "      <td>7.0</td>\n",
       "      <td>1</td>\n",
       "      <td>3.0</td>\n",
       "      <td>2.0</td>\n",
       "      <td>1.0</td>\n",
       "      <td>0</td>\n",
       "    </tr>\n",
       "    <tr>\n",
       "      <th>2</th>\n",
       "      <td>3.0</td>\n",
       "      <td>1.0</td>\n",
       "      <td>1.0</td>\n",
       "      <td>1.0</td>\n",
       "      <td>2.0</td>\n",
       "      <td>2</td>\n",
       "      <td>3.0</td>\n",
       "      <td>1.0</td>\n",
       "      <td>1.0</td>\n",
       "      <td>0</td>\n",
       "    </tr>\n",
       "    <tr>\n",
       "      <th>3</th>\n",
       "      <td>6.0</td>\n",
       "      <td>8.0</td>\n",
       "      <td>8.0</td>\n",
       "      <td>1.0</td>\n",
       "      <td>3.0</td>\n",
       "      <td>4</td>\n",
       "      <td>3.0</td>\n",
       "      <td>7.0</td>\n",
       "      <td>1.0</td>\n",
       "      <td>0</td>\n",
       "    </tr>\n",
       "    <tr>\n",
       "      <th>4</th>\n",
       "      <td>4.0</td>\n",
       "      <td>1.0</td>\n",
       "      <td>1.0</td>\n",
       "      <td>3.0</td>\n",
       "      <td>2.0</td>\n",
       "      <td>0</td>\n",
       "      <td>3.0</td>\n",
       "      <td>1.0</td>\n",
       "      <td>1.0</td>\n",
       "      <td>0</td>\n",
       "    </tr>\n",
       "    <tr>\n",
       "      <th>...</th>\n",
       "      <td>...</td>\n",
       "      <td>...</td>\n",
       "      <td>...</td>\n",
       "      <td>...</td>\n",
       "      <td>...</td>\n",
       "      <td>...</td>\n",
       "      <td>...</td>\n",
       "      <td>...</td>\n",
       "      <td>...</td>\n",
       "      <td>...</td>\n",
       "    </tr>\n",
       "    <tr>\n",
       "      <th>694</th>\n",
       "      <td>3.0</td>\n",
       "      <td>1.0</td>\n",
       "      <td>1.0</td>\n",
       "      <td>1.0</td>\n",
       "      <td>3.0</td>\n",
       "      <td>2</td>\n",
       "      <td>1.0</td>\n",
       "      <td>1.0</td>\n",
       "      <td>1.0</td>\n",
       "      <td>0</td>\n",
       "    </tr>\n",
       "    <tr>\n",
       "      <th>695</th>\n",
       "      <td>2.0</td>\n",
       "      <td>1.0</td>\n",
       "      <td>1.0</td>\n",
       "      <td>1.0</td>\n",
       "      <td>2.0</td>\n",
       "      <td>0</td>\n",
       "      <td>1.0</td>\n",
       "      <td>1.0</td>\n",
       "      <td>1.0</td>\n",
       "      <td>0</td>\n",
       "    </tr>\n",
       "    <tr>\n",
       "      <th>696</th>\n",
       "      <td>5.0</td>\n",
       "      <td>10.0</td>\n",
       "      <td>10.0</td>\n",
       "      <td>3.0</td>\n",
       "      <td>7.0</td>\n",
       "      <td>3</td>\n",
       "      <td>8.0</td>\n",
       "      <td>10.0</td>\n",
       "      <td>2.0</td>\n",
       "      <td>1</td>\n",
       "    </tr>\n",
       "    <tr>\n",
       "      <th>697</th>\n",
       "      <td>4.0</td>\n",
       "      <td>8.0</td>\n",
       "      <td>6.0</td>\n",
       "      <td>4.0</td>\n",
       "      <td>3.0</td>\n",
       "      <td>4</td>\n",
       "      <td>10.0</td>\n",
       "      <td>6.0</td>\n",
       "      <td>1.0</td>\n",
       "      <td>1</td>\n",
       "    </tr>\n",
       "    <tr>\n",
       "      <th>698</th>\n",
       "      <td>4.0</td>\n",
       "      <td>8.0</td>\n",
       "      <td>8.0</td>\n",
       "      <td>5.0</td>\n",
       "      <td>4.0</td>\n",
       "      <td>5</td>\n",
       "      <td>10.0</td>\n",
       "      <td>4.0</td>\n",
       "      <td>1.0</td>\n",
       "      <td>1</td>\n",
       "    </tr>\n",
       "  </tbody>\n",
       "</table>\n",
       "<p>699 rows × 10 columns</p>\n",
       "</div>"
      ],
      "text/plain": [
       "     Clump_Thickness  Cell_Size_Uniformity  Cell_Shape_Uniformity  \\\n",
       "0                5.0                   1.0                    1.0   \n",
       "1                5.0                   4.0                    4.0   \n",
       "2                3.0                   1.0                    1.0   \n",
       "3                6.0                   8.0                    8.0   \n",
       "4                4.0                   1.0                    1.0   \n",
       "..               ...                   ...                    ...   \n",
       "694              3.0                   1.0                    1.0   \n",
       "695              2.0                   1.0                    1.0   \n",
       "696              5.0                  10.0                   10.0   \n",
       "697              4.0                   8.0                    6.0   \n",
       "698              4.0                   8.0                    8.0   \n",
       "\n",
       "     Marginal_Adhesion  Single_Epi_Cell_Size  Bare_Nuclei  Bland_Chromatin  \\\n",
       "0                  1.0                   2.0            0              3.0   \n",
       "1                  5.0                   7.0            1              3.0   \n",
       "2                  1.0                   2.0            2              3.0   \n",
       "3                  1.0                   3.0            4              3.0   \n",
       "4                  3.0                   2.0            0              3.0   \n",
       "..                 ...                   ...          ...              ...   \n",
       "694                1.0                   3.0            2              1.0   \n",
       "695                1.0                   2.0            0              1.0   \n",
       "696                3.0                   7.0            3              8.0   \n",
       "697                4.0                   3.0            4             10.0   \n",
       "698                5.0                   4.0            5             10.0   \n",
       "\n",
       "     Normal_Nucleoli  Mitoses  target  \n",
       "0                1.0      1.0       0  \n",
       "1                2.0      1.0       0  \n",
       "2                1.0      1.0       0  \n",
       "3                7.0      1.0       0  \n",
       "4                1.0      1.0       0  \n",
       "..               ...      ...     ...  \n",
       "694              1.0      1.0       0  \n",
       "695              1.0      1.0       0  \n",
       "696             10.0      2.0       1  \n",
       "697              6.0      1.0       1  \n",
       "698              4.0      1.0       1  \n",
       "\n",
       "[699 rows x 10 columns]"
      ]
     },
     "execution_count": 2,
     "metadata": {},
     "output_type": "execute_result"
    }
   ],
   "source": [
    "df = pmlb.fetch_data(\"breast_w\", local_cache_dir=\"../../data/breast_w\")\n",
    "\n",
    "df"
   ]
  },
  {
   "cell_type": "markdown",
   "metadata": {},
   "source": [
    "Since the datasets in the PMLB have been cleaned, they don't contain many missing values. We add nulls into 20% of the dataset here."
   ]
  },
  {
   "cell_type": "code",
   "execution_count": 3,
   "metadata": {
    "execution": {
     "iopub.execute_input": "2024-08-07T16:43:31.552962Z",
     "iopub.status.busy": "2024-08-07T16:43:31.552717Z",
     "iopub.status.idle": "2024-08-07T16:43:31.569873Z",
     "shell.execute_reply": "2024-08-07T16:43:31.569390Z"
    }
   },
   "outputs": [
    {
     "data": {
      "text/html": [
       "<div>\n",
       "<style scoped>\n",
       "    .dataframe tbody tr th:only-of-type {\n",
       "        vertical-align: middle;\n",
       "    }\n",
       "\n",
       "    .dataframe tbody tr th {\n",
       "        vertical-align: top;\n",
       "    }\n",
       "\n",
       "    .dataframe thead th {\n",
       "        text-align: right;\n",
       "    }\n",
       "</style>\n",
       "<table border=\"1\" class=\"dataframe\">\n",
       "  <thead>\n",
       "    <tr style=\"text-align: right;\">\n",
       "      <th></th>\n",
       "      <th>Clump_Thickness</th>\n",
       "      <th>Cell_Size_Uniformity</th>\n",
       "      <th>Cell_Shape_Uniformity</th>\n",
       "      <th>Marginal_Adhesion</th>\n",
       "      <th>Single_Epi_Cell_Size</th>\n",
       "      <th>Bare_Nuclei</th>\n",
       "      <th>Bland_Chromatin</th>\n",
       "      <th>Normal_Nucleoli</th>\n",
       "      <th>Mitoses</th>\n",
       "      <th>target</th>\n",
       "    </tr>\n",
       "  </thead>\n",
       "  <tbody>\n",
       "    <tr>\n",
       "      <th>0</th>\n",
       "      <td>5.0</td>\n",
       "      <td>1.0</td>\n",
       "      <td>NaN</td>\n",
       "      <td>NaN</td>\n",
       "      <td>NaN</td>\n",
       "      <td>0.0</td>\n",
       "      <td>NaN</td>\n",
       "      <td>1.0</td>\n",
       "      <td>1.0</td>\n",
       "      <td>0.0</td>\n",
       "    </tr>\n",
       "    <tr>\n",
       "      <th>1</th>\n",
       "      <td>5.0</td>\n",
       "      <td>4.0</td>\n",
       "      <td>4.0</td>\n",
       "      <td>5.0</td>\n",
       "      <td>7.0</td>\n",
       "      <td>1.0</td>\n",
       "      <td>3.0</td>\n",
       "      <td>NaN</td>\n",
       "      <td>1.0</td>\n",
       "      <td>0.0</td>\n",
       "    </tr>\n",
       "    <tr>\n",
       "      <th>2</th>\n",
       "      <td>3.0</td>\n",
       "      <td>1.0</td>\n",
       "      <td>1.0</td>\n",
       "      <td>1.0</td>\n",
       "      <td>2.0</td>\n",
       "      <td>NaN</td>\n",
       "      <td>3.0</td>\n",
       "      <td>NaN</td>\n",
       "      <td>1.0</td>\n",
       "      <td>0.0</td>\n",
       "    </tr>\n",
       "    <tr>\n",
       "      <th>3</th>\n",
       "      <td>NaN</td>\n",
       "      <td>8.0</td>\n",
       "      <td>8.0</td>\n",
       "      <td>1.0</td>\n",
       "      <td>NaN</td>\n",
       "      <td>4.0</td>\n",
       "      <td>3.0</td>\n",
       "      <td>7.0</td>\n",
       "      <td>1.0</td>\n",
       "      <td>0.0</td>\n",
       "    </tr>\n",
       "    <tr>\n",
       "      <th>4</th>\n",
       "      <td>NaN</td>\n",
       "      <td>1.0</td>\n",
       "      <td>1.0</td>\n",
       "      <td>NaN</td>\n",
       "      <td>2.0</td>\n",
       "      <td>0.0</td>\n",
       "      <td>3.0</td>\n",
       "      <td>1.0</td>\n",
       "      <td>1.0</td>\n",
       "      <td>0.0</td>\n",
       "    </tr>\n",
       "    <tr>\n",
       "      <th>...</th>\n",
       "      <td>...</td>\n",
       "      <td>...</td>\n",
       "      <td>...</td>\n",
       "      <td>...</td>\n",
       "      <td>...</td>\n",
       "      <td>...</td>\n",
       "      <td>...</td>\n",
       "      <td>...</td>\n",
       "      <td>...</td>\n",
       "      <td>...</td>\n",
       "    </tr>\n",
       "    <tr>\n",
       "      <th>694</th>\n",
       "      <td>3.0</td>\n",
       "      <td>1.0</td>\n",
       "      <td>1.0</td>\n",
       "      <td>1.0</td>\n",
       "      <td>NaN</td>\n",
       "      <td>NaN</td>\n",
       "      <td>1.0</td>\n",
       "      <td>1.0</td>\n",
       "      <td>1.0</td>\n",
       "      <td>0.0</td>\n",
       "    </tr>\n",
       "    <tr>\n",
       "      <th>695</th>\n",
       "      <td>2.0</td>\n",
       "      <td>1.0</td>\n",
       "      <td>1.0</td>\n",
       "      <td>NaN</td>\n",
       "      <td>2.0</td>\n",
       "      <td>0.0</td>\n",
       "      <td>1.0</td>\n",
       "      <td>NaN</td>\n",
       "      <td>NaN</td>\n",
       "      <td>0.0</td>\n",
       "    </tr>\n",
       "    <tr>\n",
       "      <th>696</th>\n",
       "      <td>5.0</td>\n",
       "      <td>10.0</td>\n",
       "      <td>10.0</td>\n",
       "      <td>NaN</td>\n",
       "      <td>7.0</td>\n",
       "      <td>3.0</td>\n",
       "      <td>8.0</td>\n",
       "      <td>10.0</td>\n",
       "      <td>NaN</td>\n",
       "      <td>1.0</td>\n",
       "    </tr>\n",
       "    <tr>\n",
       "      <th>697</th>\n",
       "      <td>4.0</td>\n",
       "      <td>8.0</td>\n",
       "      <td>NaN</td>\n",
       "      <td>4.0</td>\n",
       "      <td>NaN</td>\n",
       "      <td>NaN</td>\n",
       "      <td>10.0</td>\n",
       "      <td>NaN</td>\n",
       "      <td>NaN</td>\n",
       "      <td>1.0</td>\n",
       "    </tr>\n",
       "    <tr>\n",
       "      <th>698</th>\n",
       "      <td>4.0</td>\n",
       "      <td>8.0</td>\n",
       "      <td>8.0</td>\n",
       "      <td>5.0</td>\n",
       "      <td>4.0</td>\n",
       "      <td>5.0</td>\n",
       "      <td>10.0</td>\n",
       "      <td>4.0</td>\n",
       "      <td>1.0</td>\n",
       "      <td>1.0</td>\n",
       "    </tr>\n",
       "  </tbody>\n",
       "</table>\n",
       "<p>699 rows × 10 columns</p>\n",
       "</div>"
      ],
      "text/plain": [
       "     Clump_Thickness  Cell_Size_Uniformity  Cell_Shape_Uniformity  \\\n",
       "0                5.0                   1.0                    NaN   \n",
       "1                5.0                   4.0                    4.0   \n",
       "2                3.0                   1.0                    1.0   \n",
       "3                NaN                   8.0                    8.0   \n",
       "4                NaN                   1.0                    1.0   \n",
       "..               ...                   ...                    ...   \n",
       "694              3.0                   1.0                    1.0   \n",
       "695              2.0                   1.0                    1.0   \n",
       "696              5.0                  10.0                   10.0   \n",
       "697              4.0                   8.0                    NaN   \n",
       "698              4.0                   8.0                    8.0   \n",
       "\n",
       "     Marginal_Adhesion  Single_Epi_Cell_Size  Bare_Nuclei  Bland_Chromatin  \\\n",
       "0                  NaN                   NaN          0.0              NaN   \n",
       "1                  5.0                   7.0          1.0              3.0   \n",
       "2                  1.0                   2.0          NaN              3.0   \n",
       "3                  1.0                   NaN          4.0              3.0   \n",
       "4                  NaN                   2.0          0.0              3.0   \n",
       "..                 ...                   ...          ...              ...   \n",
       "694                1.0                   NaN          NaN              1.0   \n",
       "695                NaN                   2.0          0.0              1.0   \n",
       "696                NaN                   7.0          3.0              8.0   \n",
       "697                4.0                   NaN          NaN             10.0   \n",
       "698                5.0                   4.0          5.0             10.0   \n",
       "\n",
       "     Normal_Nucleoli  Mitoses  target  \n",
       "0                1.0      1.0     0.0  \n",
       "1                NaN      1.0     0.0  \n",
       "2                NaN      1.0     0.0  \n",
       "3                7.0      1.0     0.0  \n",
       "4                1.0      1.0     0.0  \n",
       "..               ...      ...     ...  \n",
       "694              1.0      1.0     0.0  \n",
       "695              NaN      NaN     0.0  \n",
       "696             10.0      NaN     1.0  \n",
       "697              NaN      NaN     1.0  \n",
       "698              4.0      1.0     1.0  \n",
       "\n",
       "[699 rows x 10 columns]"
      ]
     },
     "execution_count": 3,
     "metadata": {},
     "output_type": "execute_result"
    }
   ],
   "source": [
    "null_percent = 0.2\n",
    "rng = np.random.default_rng()\n",
    "\n",
    "def insert_percent_nulls(data: pd.DataFrame, percent: float) -> pd.DataFrame:\n",
    "    data = data.copy(deep=True)\n",
    "    mask = rng.uniform(size=data.shape) < percent\n",
    "    data[mask] = None\n",
    "\n",
    "    return data\n",
    "\n",
    "null_df = insert_percent_nulls(df, null_percent)\n",
    "null_df"
   ]
  },
  {
   "cell_type": "markdown",
   "metadata": {},
   "source": [
    "## Step 2: Define the Feature Attributes\n",
    "\n",
    "The Howso Engine always requires a set of defined feature attributes. We recommend using `infer_feature_attributes` as do most of the work quickly, but we always recommend manual inspection of these resulting feature attributes."
   ]
  },
  {
   "cell_type": "code",
   "execution_count": 4,
   "metadata": {
    "execution": {
     "iopub.execute_input": "2024-08-07T16:43:31.572443Z",
     "iopub.status.busy": "2024-08-07T16:43:31.571974Z",
     "iopub.status.idle": "2024-08-07T16:43:31.595015Z",
     "shell.execute_reply": "2024-08-07T16:43:31.594506Z"
    }
   },
   "outputs": [
    {
     "data": {
      "text/plain": [
       "{'Clump_Thickness': {'type': 'continuous',\n",
       "  'data_type': 'number',\n",
       "  'decimal_places': 0,\n",
       "  'original_type': {'data_type': 'numeric', 'size': 8},\n",
       "  'bounds': {'min': 1.0, 'max': np.float64(20.0), 'allow_null': True}},\n",
       " 'Cell_Size_Uniformity': {'type': 'continuous',\n",
       "  'data_type': 'number',\n",
       "  'decimal_places': 0,\n",
       "  'original_type': {'data_type': 'numeric', 'size': 8},\n",
       "  'bounds': {'min': 1.0, 'max': np.float64(20.0), 'allow_null': True}},\n",
       " 'Cell_Shape_Uniformity': {'type': 'continuous',\n",
       "  'data_type': 'number',\n",
       "  'decimal_places': 0,\n",
       "  'original_type': {'data_type': 'numeric', 'size': 8},\n",
       "  'bounds': {'min': 1.0, 'max': np.float64(20.0), 'allow_null': True}},\n",
       " 'Marginal_Adhesion': {'type': 'continuous',\n",
       "  'data_type': 'number',\n",
       "  'decimal_places': 0,\n",
       "  'original_type': {'data_type': 'numeric', 'size': 8},\n",
       "  'bounds': {'min': 1.0, 'max': np.float64(20.0), 'allow_null': True}},\n",
       " 'Single_Epi_Cell_Size': {'type': 'continuous',\n",
       "  'data_type': 'number',\n",
       "  'decimal_places': 0,\n",
       "  'original_type': {'data_type': 'numeric', 'size': 8},\n",
       "  'bounds': {'min': np.float64(1.0),\n",
       "   'max': np.float64(20.0),\n",
       "   'allow_null': True}},\n",
       " 'Bare_Nuclei': {'type': 'continuous',\n",
       "  'data_type': 'number',\n",
       "  'decimal_places': 0,\n",
       "  'original_type': {'data_type': 'numeric', 'size': 8},\n",
       "  'bounds': {'min': 0.0, 'max': np.float64(20.0), 'allow_null': True}},\n",
       " 'Bland_Chromatin': {'type': 'continuous',\n",
       "  'data_type': 'number',\n",
       "  'decimal_places': 0,\n",
       "  'original_type': {'data_type': 'numeric', 'size': 8},\n",
       "  'bounds': {'min': np.float64(1.0),\n",
       "   'max': np.float64(20.0),\n",
       "   'allow_null': True}},\n",
       " 'Normal_Nucleoli': {'type': 'continuous',\n",
       "  'data_type': 'number',\n",
       "  'decimal_places': 0,\n",
       "  'original_type': {'data_type': 'numeric', 'size': 8},\n",
       "  'bounds': {'min': 1.0, 'max': np.float64(20.0), 'allow_null': True}},\n",
       " 'Mitoses': {'type': 'continuous',\n",
       "  'data_type': 'number',\n",
       "  'decimal_places': 0,\n",
       "  'original_type': {'data_type': 'numeric', 'size': 8},\n",
       "  'bounds': {'min': 1.0, 'max': np.float64(20.0), 'allow_null': True}},\n",
       " 'target': {'type': 'nominal',\n",
       "  'data_type': 'number',\n",
       "  'original_type': {'data_type': 'numeric', 'size': 8},\n",
       "  'bounds': {'allow_null': True}}}"
      ]
     },
     "execution_count": 4,
     "metadata": {},
     "output_type": "execute_result"
    }
   ],
   "source": [
    "features = infer_feature_attributes(null_df)\n",
    "features"
   ]
  },
  {
   "cell_type": "markdown",
   "metadata": {},
   "source": [
    "## Step 3: Train and Analyze Data\n",
    "\n",
    "We then train the data into a `Trainee` and analyze the data to determine the best hyperparameters.  Note that we are explicitly declaring our default context and action features."
   ]
  },
  {
   "cell_type": "code",
   "execution_count": 5,
   "metadata": {
    "execution": {
     "iopub.execute_input": "2024-08-07T16:43:31.597370Z",
     "iopub.status.busy": "2024-08-07T16:43:31.597174Z",
     "iopub.status.idle": "2024-08-07T16:43:56.785004Z",
     "shell.execute_reply": "2024-08-07T16:43:56.784353Z"
    }
   },
   "outputs": [],
   "source": [
    "action_features = [\"target\"]\n",
    "context_features = features.get_names(without=action_features)\n",
    "\n",
    "t = Trainee(features=features)\n",
    "t.train(null_df)\n",
    "t.analyze(context_features=context_features, action_features=action_features)"
   ]
  },
  {
   "cell_type": "markdown",
   "metadata": {},
   "source": [
    "## Step 4: Measure Trainee Accuracy\n",
    "\n",
    "Finally, we get the prediction stats.  The default action feature, `target`, is categorical so we are concerned with *precision*,  *recall*, and *accuracy*.\n",
    "\n",
    "Here, we specifically compute `residuals_robust`. This computes what we call \"Robust Residuals\" which is to compute the mean absolute error of predictions on every feature where the context features are sampled over the power set of all other features. These residuals should typically be larger than the more typical \"Full Residuals\" which are computed as the mean absolute error of predictions on each feature where **every** other feature is used as a context."
   ]
  },
  {
   "cell_type": "code",
   "execution_count": 6,
   "metadata": {
    "execution": {
     "iopub.execute_input": "2024-08-07T16:43:56.788285Z",
     "iopub.status.busy": "2024-08-07T16:43:56.787864Z",
     "iopub.status.idle": "2024-08-07T16:43:56.965347Z",
     "shell.execute_reply": "2024-08-07T16:43:56.964781Z"
    }
   },
   "outputs": [
    {
     "data": {
      "text/plain": [
       "recall       0.944243\n",
       "accuracy     0.957066\n",
       "precision    0.957748\n",
       "Name: target, dtype: float64"
      ]
     },
     "execution_count": 6,
     "metadata": {},
     "output_type": "execute_result"
    }
   ],
   "source": [
    "accuracy = t.react_aggregate(\n",
    "    action_feature=action_features[0],\n",
    "    details = {\n",
    "        \"prediction_stats\": True,\n",
    "        \"selected_prediction_stats\": [\"accuracy\", \"precision\", \"recall\"]\n",
    "        }\n",
    ")[action_features[0]]\n",
    "\n",
    "accuracy"
   ]
  },
  {
   "cell_type": "code",
   "execution_count": 7,
   "metadata": {
    "execution": {
     "iopub.execute_input": "2024-08-07T16:43:56.968046Z",
     "iopub.status.busy": "2024-08-07T16:43:56.967584Z",
     "iopub.status.idle": "2024-08-07T16:43:56.990254Z",
     "shell.execute_reply": "2024-08-07T16:43:56.989692Z"
    }
   },
   "outputs": [],
   "source": [
    "t.delete()"
   ]
  },
  {
   "cell_type": "markdown",
   "metadata": {},
   "source": [
    "## Step 5: Evaluate Performance at Multiple Sparsity Levels\n",
    "\n",
    "Now we evaluate the `Trainee` performance at multiple sparsity levels to characterize how prediction performance holds up in the presence of many nulls.\n",
    "\n",
    "To do this, we simply create versions of the dataset with different proportions of null values, and do the same accuracy evaluation we demonstrated above."
   ]
  },
  {
   "cell_type": "code",
   "execution_count": 8,
   "metadata": {
    "execution": {
     "iopub.execute_input": "2024-08-07T16:43:56.996052Z",
     "iopub.status.busy": "2024-08-07T16:43:56.995646Z",
     "iopub.status.idle": "2024-08-07T16:48:01.582713Z",
     "shell.execute_reply": "2024-08-07T16:48:01.582078Z"
    }
   },
   "outputs": [
    {
     "name": "stdout",
     "output_type": "stream",
     "text": [
      "Evaluating Trainee for 0% nulls\n"
     ]
    },
    {
     "name": "stdout",
     "output_type": "stream",
     "text": [
      "Evaluating Trainee for 10% nulls\n"
     ]
    },
    {
     "name": "stdout",
     "output_type": "stream",
     "text": [
      "Evaluating Trainee for 20% nulls\n"
     ]
    },
    {
     "name": "stdout",
     "output_type": "stream",
     "text": [
      "Evaluating Trainee for 30% nulls\n"
     ]
    },
    {
     "name": "stdout",
     "output_type": "stream",
     "text": [
      "Evaluating Trainee for 40% nulls\n"
     ]
    },
    {
     "name": "stdout",
     "output_type": "stream",
     "text": [
      "Evaluating Trainee for 50% nulls\n"
     ]
    },
    {
     "name": "stdout",
     "output_type": "stream",
     "text": [
      "Evaluating Trainee for 60% nulls\n"
     ]
    },
    {
     "name": "stdout",
     "output_type": "stream",
     "text": [
      "Evaluating Trainee for 70% nulls\n"
     ]
    },
    {
     "name": "stdout",
     "output_type": "stream",
     "text": [
      "Evaluating Trainee for 80% nulls\n"
     ]
    },
    {
     "name": "stdout",
     "output_type": "stream",
     "text": [
      "Evaluating Trainee for 90% nulls\n"
     ]
    }
   ],
   "source": [
    "null_percentages = np.linspace(0, 0.9, num=10)\n",
    "prediction_stats_list = []\n",
    "\n",
    "for null_percent in null_percentages:\n",
    "    print(f\"Evaluating Trainee for {round(null_percent * 100)}% nulls\")\n",
    "\n",
    "    # Create a DataFrame that is a copy of the input DataFrame that has the correct percentage of null values.\n",
    "    null_df = insert_percent_nulls(df, null_percent)\n",
    "    # Infer feature attrbiutes for the new DataFrame\n",
    "    null_features = infer_feature_attributes(null_df)\n",
    "    # Create the Trainee, train, and analyze\n",
    "    t = Trainee(features=null_features)\n",
    "    t.train(null_df)\n",
    "    t.analyze(context_features=context_features, action_features=action_features)\n",
    "    # Compute, fetch, and store the prediction stats\n",
    "    prediction_stats = t.react_aggregate(\n",
    "        action_feature=action_features[0],\n",
    "        details = {\n",
    "            \"prediction_stats\": True,\n",
    "            \"selected_prediction_stats\": [\"accuracy\", \"precision\", \"recall\"]\n",
    "            }\n",
    "    )[action_features[0]]\n",
    "\n",
    "    prediction_stats_list.append(prediction_stats.T)\n",
    "    # Clean up the Trainee\n",
    "    t.delete()"
   ]
  },
  {
   "cell_type": "code",
   "execution_count": 9,
   "metadata": {
    "execution": {
     "iopub.execute_input": "2024-08-07T16:48:01.585803Z",
     "iopub.status.busy": "2024-08-07T16:48:01.585346Z",
     "iopub.status.idle": "2024-08-07T16:48:01.590624Z",
     "shell.execute_reply": "2024-08-07T16:48:01.590112Z"
    }
   },
   "outputs": [
    {
     "data": {
      "text/plain": [
       "0     0.972268\n",
       "1     0.971388\n",
       "2     0.965221\n",
       "3     0.950177\n",
       "4     0.958140\n",
       "5     0.957099\n",
       "6     0.943135\n",
       "7     0.956672\n",
       "8     0.960968\n",
       "9     0.886648\n",
       "10    0.913894\n",
       "11    0.925420\n",
       "12    0.935866\n",
       "13    0.947991\n",
       "14    0.945928\n",
       "15    0.903635\n",
       "16    0.927374\n",
       "17    0.940111\n",
       "18    0.776283\n",
       "19    0.830565\n",
       "20    0.836938\n",
       "21    0.717919\n",
       "22    0.762332\n",
       "23    0.751102\n",
       "24    0.727995\n",
       "25    0.737931\n",
       "26    0.748540\n",
       "27    0.641558\n",
       "28    0.684211\n",
       "29    0.666159\n",
       "Name: target, dtype: float64"
      ]
     },
     "execution_count": 9,
     "metadata": {},
     "output_type": "execute_result"
    }
   ],
   "source": [
    "prediction_stats_df2 = pd.concat(prediction_stats_list, ignore_index=True)\n",
    "prediction_stats_df2"
   ]
  },
  {
   "cell_type": "code",
   "execution_count": 10,
   "metadata": {
    "execution": {
     "iopub.execute_input": "2024-08-07T16:48:01.592850Z",
     "iopub.status.busy": "2024-08-07T16:48:01.592492Z",
     "iopub.status.idle": "2024-08-07T16:48:01.595966Z",
     "shell.execute_reply": "2024-08-07T16:48:01.595496Z"
    }
   },
   "outputs": [
    {
     "data": {
      "text/plain": [
       "pandas.core.series.Series"
      ]
     },
     "execution_count": 10,
     "metadata": {},
     "output_type": "execute_result"
    }
   ],
   "source": [
    "type(prediction_stats_list[0])"
   ]
  },
  {
   "cell_type": "code",
   "execution_count": 11,
   "metadata": {
    "execution": {
     "iopub.execute_input": "2024-08-07T16:48:01.598142Z",
     "iopub.status.busy": "2024-08-07T16:48:01.597781Z",
     "iopub.status.idle": "2024-08-07T16:48:01.601348Z",
     "shell.execute_reply": "2024-08-07T16:48:01.600865Z"
    }
   },
   "outputs": [
    {
     "data": {
      "text/plain": [
       "array([0. , 0.1, 0.2, 0.3, 0.4, 0.5, 0.6, 0.7, 0.8, 0.9])"
      ]
     },
     "execution_count": 11,
     "metadata": {},
     "output_type": "execute_result"
    }
   ],
   "source": [
    "null_percentages"
   ]
  },
  {
   "cell_type": "code",
   "execution_count": 12,
   "metadata": {
    "execution": {
     "iopub.execute_input": "2024-08-07T16:48:01.603461Z",
     "iopub.status.busy": "2024-08-07T16:48:01.603118Z",
     "iopub.status.idle": "2024-08-07T16:48:01.610525Z",
     "shell.execute_reply": "2024-08-07T16:48:01.610019Z"
    }
   },
   "outputs": [
    {
     "data": {
      "text/html": [
       "<div>\n",
       "<style scoped>\n",
       "    .dataframe tbody tr th:only-of-type {\n",
       "        vertical-align: middle;\n",
       "    }\n",
       "\n",
       "    .dataframe tbody tr th {\n",
       "        vertical-align: top;\n",
       "    }\n",
       "\n",
       "    .dataframe thead th {\n",
       "        text-align: right;\n",
       "    }\n",
       "</style>\n",
       "<table border=\"1\" class=\"dataframe\">\n",
       "  <thead>\n",
       "    <tr style=\"text-align: right;\">\n",
       "      <th></th>\n",
       "      <th>recall</th>\n",
       "      <th>accuracy</th>\n",
       "      <th>precision</th>\n",
       "    </tr>\n",
       "  </thead>\n",
       "  <tbody>\n",
       "    <tr>\n",
       "      <th>0</th>\n",
       "      <td>0.972268</td>\n",
       "      <td>0.971388</td>\n",
       "      <td>0.965221</td>\n",
       "    </tr>\n",
       "    <tr>\n",
       "      <th>1</th>\n",
       "      <td>0.950177</td>\n",
       "      <td>0.958140</td>\n",
       "      <td>0.957099</td>\n",
       "    </tr>\n",
       "    <tr>\n",
       "      <th>2</th>\n",
       "      <td>0.943135</td>\n",
       "      <td>0.956672</td>\n",
       "      <td>0.960968</td>\n",
       "    </tr>\n",
       "    <tr>\n",
       "      <th>3</th>\n",
       "      <td>0.886648</td>\n",
       "      <td>0.913894</td>\n",
       "      <td>0.925420</td>\n",
       "    </tr>\n",
       "    <tr>\n",
       "      <th>4</th>\n",
       "      <td>0.935866</td>\n",
       "      <td>0.947991</td>\n",
       "      <td>0.945928</td>\n",
       "    </tr>\n",
       "    <tr>\n",
       "      <th>5</th>\n",
       "      <td>0.903635</td>\n",
       "      <td>0.927374</td>\n",
       "      <td>0.940111</td>\n",
       "    </tr>\n",
       "    <tr>\n",
       "      <th>6</th>\n",
       "      <td>0.776283</td>\n",
       "      <td>0.830565</td>\n",
       "      <td>0.836938</td>\n",
       "    </tr>\n",
       "    <tr>\n",
       "      <th>7</th>\n",
       "      <td>0.717919</td>\n",
       "      <td>0.762332</td>\n",
       "      <td>0.751102</td>\n",
       "    </tr>\n",
       "    <tr>\n",
       "      <th>8</th>\n",
       "      <td>0.727995</td>\n",
       "      <td>0.737931</td>\n",
       "      <td>0.748540</td>\n",
       "    </tr>\n",
       "    <tr>\n",
       "      <th>9</th>\n",
       "      <td>0.641558</td>\n",
       "      <td>0.684211</td>\n",
       "      <td>0.666159</td>\n",
       "    </tr>\n",
       "  </tbody>\n",
       "</table>\n",
       "</div>"
      ],
      "text/plain": [
       "     recall  accuracy  precision\n",
       "0  0.972268  0.971388   0.965221\n",
       "1  0.950177  0.958140   0.957099\n",
       "2  0.943135  0.956672   0.960968\n",
       "3  0.886648  0.913894   0.925420\n",
       "4  0.935866  0.947991   0.945928\n",
       "5  0.903635  0.927374   0.940111\n",
       "6  0.776283  0.830565   0.836938\n",
       "7  0.717919  0.762332   0.751102\n",
       "8  0.727995  0.737931   0.748540\n",
       "9  0.641558  0.684211   0.666159"
      ]
     },
     "execution_count": 12,
     "metadata": {},
     "output_type": "execute_result"
    }
   ],
   "source": [
    "prediction_stats_df = pd.concat(prediction_stats_list, ignore_index=True, axis=1).T\n",
    "prediction_stats_df"
   ]
  },
  {
   "cell_type": "code",
   "execution_count": 13,
   "metadata": {
    "execution": {
     "iopub.execute_input": "2024-08-07T16:48:01.612710Z",
     "iopub.status.busy": "2024-08-07T16:48:01.612354Z",
     "iopub.status.idle": "2024-08-07T16:48:01.620509Z",
     "shell.execute_reply": "2024-08-07T16:48:01.620029Z"
    }
   },
   "outputs": [
    {
     "data": {
      "text/html": [
       "<div>\n",
       "<style scoped>\n",
       "    .dataframe tbody tr th:only-of-type {\n",
       "        vertical-align: middle;\n",
       "    }\n",
       "\n",
       "    .dataframe tbody tr th {\n",
       "        vertical-align: top;\n",
       "    }\n",
       "\n",
       "    .dataframe thead th {\n",
       "        text-align: right;\n",
       "    }\n",
       "</style>\n",
       "<table border=\"1\" class=\"dataframe\">\n",
       "  <thead>\n",
       "    <tr style=\"text-align: right;\">\n",
       "      <th></th>\n",
       "      <th>recall</th>\n",
       "      <th>accuracy</th>\n",
       "      <th>precision</th>\n",
       "    </tr>\n",
       "    <tr>\n",
       "      <th>Null %</th>\n",
       "      <th></th>\n",
       "      <th></th>\n",
       "      <th></th>\n",
       "    </tr>\n",
       "  </thead>\n",
       "  <tbody>\n",
       "    <tr>\n",
       "      <th>0.0</th>\n",
       "      <td>0.972268</td>\n",
       "      <td>0.971388</td>\n",
       "      <td>0.965221</td>\n",
       "    </tr>\n",
       "    <tr>\n",
       "      <th>0.1</th>\n",
       "      <td>0.950177</td>\n",
       "      <td>0.958140</td>\n",
       "      <td>0.957099</td>\n",
       "    </tr>\n",
       "    <tr>\n",
       "      <th>0.2</th>\n",
       "      <td>0.943135</td>\n",
       "      <td>0.956672</td>\n",
       "      <td>0.960968</td>\n",
       "    </tr>\n",
       "    <tr>\n",
       "      <th>0.3</th>\n",
       "      <td>0.886648</td>\n",
       "      <td>0.913894</td>\n",
       "      <td>0.925420</td>\n",
       "    </tr>\n",
       "    <tr>\n",
       "      <th>0.4</th>\n",
       "      <td>0.935866</td>\n",
       "      <td>0.947991</td>\n",
       "      <td>0.945928</td>\n",
       "    </tr>\n",
       "    <tr>\n",
       "      <th>0.5</th>\n",
       "      <td>0.903635</td>\n",
       "      <td>0.927374</td>\n",
       "      <td>0.940111</td>\n",
       "    </tr>\n",
       "    <tr>\n",
       "      <th>0.6</th>\n",
       "      <td>0.776283</td>\n",
       "      <td>0.830565</td>\n",
       "      <td>0.836938</td>\n",
       "    </tr>\n",
       "    <tr>\n",
       "      <th>0.7</th>\n",
       "      <td>0.717919</td>\n",
       "      <td>0.762332</td>\n",
       "      <td>0.751102</td>\n",
       "    </tr>\n",
       "    <tr>\n",
       "      <th>0.8</th>\n",
       "      <td>0.727995</td>\n",
       "      <td>0.737931</td>\n",
       "      <td>0.748540</td>\n",
       "    </tr>\n",
       "    <tr>\n",
       "      <th>0.9</th>\n",
       "      <td>0.641558</td>\n",
       "      <td>0.684211</td>\n",
       "      <td>0.666159</td>\n",
       "    </tr>\n",
       "  </tbody>\n",
       "</table>\n",
       "</div>"
      ],
      "text/plain": [
       "          recall  accuracy  precision\n",
       "Null %                               \n",
       "0.0     0.972268  0.971388   0.965221\n",
       "0.1     0.950177  0.958140   0.957099\n",
       "0.2     0.943135  0.956672   0.960968\n",
       "0.3     0.886648  0.913894   0.925420\n",
       "0.4     0.935866  0.947991   0.945928\n",
       "0.5     0.903635  0.927374   0.940111\n",
       "0.6     0.776283  0.830565   0.836938\n",
       "0.7     0.717919  0.762332   0.751102\n",
       "0.8     0.727995  0.737931   0.748540\n",
       "0.9     0.641558  0.684211   0.666159"
      ]
     },
     "execution_count": 13,
     "metadata": {},
     "output_type": "execute_result"
    }
   ],
   "source": [
    "prediction_stats_df = pd.concat(prediction_stats_list, axis=1, ignore_index=True).T.set_index(pd.Index(null_percentages, name=\"Null %\"), drop=True)\n",
    "\n",
    "prediction_stats_df"
   ]
  },
  {
   "cell_type": "markdown",
   "metadata": {},
   "source": [
    "As we can see, Howso Engine performs quite well even when significant fractions of the dataset are replaced with null values."
   ]
  },
  {
   "cell_type": "code",
   "execution_count": 14,
   "metadata": {
    "execution": {
     "iopub.execute_input": "2024-08-07T16:48:01.622761Z",
     "iopub.status.busy": "2024-08-07T16:48:01.622416Z",
     "iopub.status.idle": "2024-08-07T16:48:01.779196Z",
     "shell.execute_reply": "2024-08-07T16:48:01.778598Z"
    }
   },
   "outputs": [
    {
     "data": {
      "text/plain": [
       "Text(0.5, 1.0, 'Prediction Stats for Different Levels of Sparsity')"
      ]
     },
     "execution_count": 14,
     "metadata": {},
     "output_type": "execute_result"
    },
    {
     "data": {
      "image/png": "[encoded data removed]",
      "text/plain": [
       "<Figure size 640x480 with 1 Axes>"
      ]
     },
     "metadata": {},
     "output_type": "display_data"
    }
   ],
   "source": [
    "majority_class_accuracy = df.target.value_counts(normalize=True).max()\n",
    "\n",
    "ax = prediction_stats_df.plot()\n",
    "ax.set_ylim(-0.05, 1.05)\n",
    "ax.hlines(y=majority_class_accuracy, xmin=0, xmax=0.9, color=\"black\", label=\"Majority Class Prediction\")\n",
    "ax.legend(loc=\"lower right\")\n",
    "ax.set_title(\"Prediction Stats for Different Levels of Sparsity\")"
   ]
  },
  {
   "cell_type": "markdown",
   "metadata": {},
   "source": [
    "# Conclusion\n",
    "\n",
    "In this notebook we demonstrate the ability of the Howso Engine to natively handle data with missing values. Furthermore we demonstrate that the Howso Engine can maintain accuracy even when the training data has increasing proportions of missing values. This makes the Howso Engine a great tool to use in use-cases where datasets have many missing values (even when the missing values themselves are informative!)."
   ]
  }
 ],
 "metadata": {
  "kernelspec": {
   "display_name": "recipes-engine-3.8",
   "language": "python",
   "name": "python3"
  },
  "language_info": {
   "codemirror_mode": {
    "name": "ipython",
    "version": 3
   },
   "file_extension": ".py",
   "mimetype": "text/x-python",
   "name": "python",
   "nbconvert_exporter": "python",
   "pygments_lexer": "ipython3",
   "version": "3.9.19"
  }
 },
 "nbformat": 4,
 "nbformat_minor": 2
}
