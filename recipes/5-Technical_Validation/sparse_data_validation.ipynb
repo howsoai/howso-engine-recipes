{
 "cells": [
  {
   "cell_type": "markdown",
   "metadata": {},
   "source": [
    "# Sparse Data and Null Handling\n",
    "\n",
    "## Overview\n",
    "\n",
    "This notebook provides an overview of applying Howso Engine to sparse data (i.e., data that contain missing values) and helps to characterize how prediction performance is affected as model sparsity increases.  Howso Engine does not require any preprocessing to handle nulls or NaNs, but has notable robustness when it comes to working with data that contain them.\n",
    "\n",
    "We demonstrate that the Howso Engine can maintain accuracy even when the training data has increasing proportions of missing values. This makes the Howso Engine a great option for use-cases with sparse datasets. Additionally, the Howso Engine has the ability to treat missing values semantically. This unlocks the ability for the Engine to find trends in the data relating to missing values for each feature, which could reveal powerful insights for users."
   ]
  },
  {
   "cell_type": "code",
   "execution_count": 1,
   "metadata": {
    "execution": {
     "iopub.execute_input": "2025-07-22T15:15:08.702047Z",
     "iopub.status.busy": "2025-07-22T15:15:08.701849Z",
     "iopub.status.idle": "2025-07-22T15:15:09.105393Z",
     "shell.execute_reply": "2025-07-22T15:15:09.104732Z"
    }
   },
   "outputs": [],
   "source": [
    "import numpy as np\n",
    "import pandas as pd\n",
    "import pmlb\n",
    "\n",
    "from howso.engine import Trainee\n",
    "from howso.utilities import infer_feature_attributes"
   ]
  },
  {
   "cell_type": "markdown",
   "metadata": {},
   "source": [
    "## Step 1: Load Data\n",
    "\n",
    "We use the ``breast_w`` dataset from the [PMLB](https://github.com/EpistasisLab/pmlb)."
   ]
  },
  {
   "cell_type": "code",
   "execution_count": 2,
   "metadata": {
    "execution": {
     "iopub.execute_input": "2025-07-22T15:15:09.107651Z",
     "iopub.status.busy": "2025-07-22T15:15:09.107459Z",
     "iopub.status.idle": "2025-07-22T15:15:09.125853Z",
     "shell.execute_reply": "2025-07-22T15:15:09.125168Z"
    }
   },
   "outputs": [
    {
     "data": {
      "text/html": [
       "<div>\n",
       "<style scoped>\n",
       "    .dataframe tbody tr th:only-of-type {\n",
       "        vertical-align: middle;\n",
       "    }\n",
       "\n",
       "    .dataframe tbody tr th {\n",
       "        vertical-align: top;\n",
       "    }\n",
       "\n",
       "    .dataframe thead th {\n",
       "        text-align: right;\n",
       "    }\n",
       "</style>\n",
       "<table border=\"1\" class=\"dataframe\">\n",
       "  <thead>\n",
       "    <tr style=\"text-align: right;\">\n",
       "      <th></th>\n",
       "      <th>Clump_Thickness</th>\n",
       "      <th>Cell_Size_Uniformity</th>\n",
       "      <th>Cell_Shape_Uniformity</th>\n",
       "      <th>Marginal_Adhesion</th>\n",
       "      <th>Single_Epi_Cell_Size</th>\n",
       "      <th>Bare_Nuclei</th>\n",
       "      <th>Bland_Chromatin</th>\n",
       "      <th>Normal_Nucleoli</th>\n",
       "      <th>Mitoses</th>\n",
       "      <th>target</th>\n",
       "    </tr>\n",
       "  </thead>\n",
       "  <tbody>\n",
       "    <tr>\n",
       "      <th>0</th>\n",
       "      <td>5.0</td>\n",
       "      <td>1.0</td>\n",
       "      <td>1.0</td>\n",
       "      <td>1.0</td>\n",
       "      <td>2.0</td>\n",
       "      <td>0</td>\n",
       "      <td>3.0</td>\n",
       "      <td>1.0</td>\n",
       "      <td>1.0</td>\n",
       "      <td>0</td>\n",
       "    </tr>\n",
       "    <tr>\n",
       "      <th>1</th>\n",
       "      <td>5.0</td>\n",
       "      <td>4.0</td>\n",
       "      <td>4.0</td>\n",
       "      <td>5.0</td>\n",
       "      <td>7.0</td>\n",
       "      <td>1</td>\n",
       "      <td>3.0</td>\n",
       "      <td>2.0</td>\n",
       "      <td>1.0</td>\n",
       "      <td>0</td>\n",
       "    </tr>\n",
       "    <tr>\n",
       "      <th>2</th>\n",
       "      <td>3.0</td>\n",
       "      <td>1.0</td>\n",
       "      <td>1.0</td>\n",
       "      <td>1.0</td>\n",
       "      <td>2.0</td>\n",
       "      <td>2</td>\n",
       "      <td>3.0</td>\n",
       "      <td>1.0</td>\n",
       "      <td>1.0</td>\n",
       "      <td>0</td>\n",
       "    </tr>\n",
       "    <tr>\n",
       "      <th>3</th>\n",
       "      <td>6.0</td>\n",
       "      <td>8.0</td>\n",
       "      <td>8.0</td>\n",
       "      <td>1.0</td>\n",
       "      <td>3.0</td>\n",
       "      <td>4</td>\n",
       "      <td>3.0</td>\n",
       "      <td>7.0</td>\n",
       "      <td>1.0</td>\n",
       "      <td>0</td>\n",
       "    </tr>\n",
       "    <tr>\n",
       "      <th>4</th>\n",
       "      <td>4.0</td>\n",
       "      <td>1.0</td>\n",
       "      <td>1.0</td>\n",
       "      <td>3.0</td>\n",
       "      <td>2.0</td>\n",
       "      <td>0</td>\n",
       "      <td>3.0</td>\n",
       "      <td>1.0</td>\n",
       "      <td>1.0</td>\n",
       "      <td>0</td>\n",
       "    </tr>\n",
       "    <tr>\n",
       "      <th>...</th>\n",
       "      <td>...</td>\n",
       "      <td>...</td>\n",
       "      <td>...</td>\n",
       "      <td>...</td>\n",
       "      <td>...</td>\n",
       "      <td>...</td>\n",
       "      <td>...</td>\n",
       "      <td>...</td>\n",
       "      <td>...</td>\n",
       "      <td>...</td>\n",
       "    </tr>\n",
       "    <tr>\n",
       "      <th>694</th>\n",
       "      <td>3.0</td>\n",
       "      <td>1.0</td>\n",
       "      <td>1.0</td>\n",
       "      <td>1.0</td>\n",
       "      <td>3.0</td>\n",
       "      <td>2</td>\n",
       "      <td>1.0</td>\n",
       "      <td>1.0</td>\n",
       "      <td>1.0</td>\n",
       "      <td>0</td>\n",
       "    </tr>\n",
       "    <tr>\n",
       "      <th>695</th>\n",
       "      <td>2.0</td>\n",
       "      <td>1.0</td>\n",
       "      <td>1.0</td>\n",
       "      <td>1.0</td>\n",
       "      <td>2.0</td>\n",
       "      <td>0</td>\n",
       "      <td>1.0</td>\n",
       "      <td>1.0</td>\n",
       "      <td>1.0</td>\n",
       "      <td>0</td>\n",
       "    </tr>\n",
       "    <tr>\n",
       "      <th>696</th>\n",
       "      <td>5.0</td>\n",
       "      <td>10.0</td>\n",
       "      <td>10.0</td>\n",
       "      <td>3.0</td>\n",
       "      <td>7.0</td>\n",
       "      <td>3</td>\n",
       "      <td>8.0</td>\n",
       "      <td>10.0</td>\n",
       "      <td>2.0</td>\n",
       "      <td>1</td>\n",
       "    </tr>\n",
       "    <tr>\n",
       "      <th>697</th>\n",
       "      <td>4.0</td>\n",
       "      <td>8.0</td>\n",
       "      <td>6.0</td>\n",
       "      <td>4.0</td>\n",
       "      <td>3.0</td>\n",
       "      <td>4</td>\n",
       "      <td>10.0</td>\n",
       "      <td>6.0</td>\n",
       "      <td>1.0</td>\n",
       "      <td>1</td>\n",
       "    </tr>\n",
       "    <tr>\n",
       "      <th>698</th>\n",
       "      <td>4.0</td>\n",
       "      <td>8.0</td>\n",
       "      <td>8.0</td>\n",
       "      <td>5.0</td>\n",
       "      <td>4.0</td>\n",
       "      <td>5</td>\n",
       "      <td>10.0</td>\n",
       "      <td>4.0</td>\n",
       "      <td>1.0</td>\n",
       "      <td>1</td>\n",
       "    </tr>\n",
       "  </tbody>\n",
       "</table>\n",
       "<p>699 rows × 10 columns</p>\n",
       "</div>"
      ],
      "text/plain": [
       "     Clump_Thickness  Cell_Size_Uniformity  Cell_Shape_Uniformity  \\\n",
       "0                5.0                   1.0                    1.0   \n",
       "1                5.0                   4.0                    4.0   \n",
       "2                3.0                   1.0                    1.0   \n",
       "3                6.0                   8.0                    8.0   \n",
       "4                4.0                   1.0                    1.0   \n",
       "..               ...                   ...                    ...   \n",
       "694              3.0                   1.0                    1.0   \n",
       "695              2.0                   1.0                    1.0   \n",
       "696              5.0                  10.0                   10.0   \n",
       "697              4.0                   8.0                    6.0   \n",
       "698              4.0                   8.0                    8.0   \n",
       "\n",
       "     Marginal_Adhesion  Single_Epi_Cell_Size  Bare_Nuclei  Bland_Chromatin  \\\n",
       "0                  1.0                   2.0            0              3.0   \n",
       "1                  5.0                   7.0            1              3.0   \n",
       "2                  1.0                   2.0            2              3.0   \n",
       "3                  1.0                   3.0            4              3.0   \n",
       "4                  3.0                   2.0            0              3.0   \n",
       "..                 ...                   ...          ...              ...   \n",
       "694                1.0                   3.0            2              1.0   \n",
       "695                1.0                   2.0            0              1.0   \n",
       "696                3.0                   7.0            3              8.0   \n",
       "697                4.0                   3.0            4             10.0   \n",
       "698                5.0                   4.0            5             10.0   \n",
       "\n",
       "     Normal_Nucleoli  Mitoses  target  \n",
       "0                1.0      1.0       0  \n",
       "1                2.0      1.0       0  \n",
       "2                1.0      1.0       0  \n",
       "3                7.0      1.0       0  \n",
       "4                1.0      1.0       0  \n",
       "..               ...      ...     ...  \n",
       "694              1.0      1.0       0  \n",
       "695              1.0      1.0       0  \n",
       "696             10.0      2.0       1  \n",
       "697              6.0      1.0       1  \n",
       "698              4.0      1.0       1  \n",
       "\n",
       "[699 rows x 10 columns]"
      ]
     },
     "execution_count": 2,
     "metadata": {},
     "output_type": "execute_result"
    }
   ],
   "source": [
    "df = pmlb.fetch_data(\"breast_w\", local_cache_dir=\"../../data/breast_w\")\n",
    "\n",
    "df"
   ]
  },
  {
   "cell_type": "markdown",
   "metadata": {},
   "source": [
    "Since the datasets in the PMLB have been cleaned, they don't contain many missing values. We add nulls into 20% of the dataset here."
   ]
  },
  {
   "cell_type": "code",
   "execution_count": 3,
   "metadata": {
    "execution": {
     "iopub.execute_input": "2025-07-22T15:15:09.161278Z",
     "iopub.status.busy": "2025-07-22T15:15:09.161046Z",
     "iopub.status.idle": "2025-07-22T15:15:09.178210Z",
     "shell.execute_reply": "2025-07-22T15:15:09.177636Z"
    }
   },
   "outputs": [
    {
     "data": {
      "text/html": [
       "<div>\n",
       "<style scoped>\n",
       "    .dataframe tbody tr th:only-of-type {\n",
       "        vertical-align: middle;\n",
       "    }\n",
       "\n",
       "    .dataframe tbody tr th {\n",
       "        vertical-align: top;\n",
       "    }\n",
       "\n",
       "    .dataframe thead th {\n",
       "        text-align: right;\n",
       "    }\n",
       "</style>\n",
       "<table border=\"1\" class=\"dataframe\">\n",
       "  <thead>\n",
       "    <tr style=\"text-align: right;\">\n",
       "      <th></th>\n",
       "      <th>Clump_Thickness</th>\n",
       "      <th>Cell_Size_Uniformity</th>\n",
       "      <th>Cell_Shape_Uniformity</th>\n",
       "      <th>Marginal_Adhesion</th>\n",
       "      <th>Single_Epi_Cell_Size</th>\n",
       "      <th>Bare_Nuclei</th>\n",
       "      <th>Bland_Chromatin</th>\n",
       "      <th>Normal_Nucleoli</th>\n",
       "      <th>Mitoses</th>\n",
       "      <th>target</th>\n",
       "    </tr>\n",
       "  </thead>\n",
       "  <tbody>\n",
       "    <tr>\n",
       "      <th>0</th>\n",
       "      <td>5.0</td>\n",
       "      <td>NaN</td>\n",
       "      <td>1.0</td>\n",
       "      <td>1.0</td>\n",
       "      <td>NaN</td>\n",
       "      <td>0.0</td>\n",
       "      <td>3.0</td>\n",
       "      <td>1.0</td>\n",
       "      <td>1.0</td>\n",
       "      <td>0.0</td>\n",
       "    </tr>\n",
       "    <tr>\n",
       "      <th>1</th>\n",
       "      <td>5.0</td>\n",
       "      <td>NaN</td>\n",
       "      <td>NaN</td>\n",
       "      <td>5.0</td>\n",
       "      <td>7.0</td>\n",
       "      <td>1.0</td>\n",
       "      <td>3.0</td>\n",
       "      <td>2.0</td>\n",
       "      <td>1.0</td>\n",
       "      <td>0.0</td>\n",
       "    </tr>\n",
       "    <tr>\n",
       "      <th>2</th>\n",
       "      <td>3.0</td>\n",
       "      <td>1.0</td>\n",
       "      <td>1.0</td>\n",
       "      <td>1.0</td>\n",
       "      <td>2.0</td>\n",
       "      <td>2.0</td>\n",
       "      <td>3.0</td>\n",
       "      <td>1.0</td>\n",
       "      <td>1.0</td>\n",
       "      <td>0.0</td>\n",
       "    </tr>\n",
       "    <tr>\n",
       "      <th>3</th>\n",
       "      <td>6.0</td>\n",
       "      <td>8.0</td>\n",
       "      <td>NaN</td>\n",
       "      <td>1.0</td>\n",
       "      <td>3.0</td>\n",
       "      <td>4.0</td>\n",
       "      <td>3.0</td>\n",
       "      <td>7.0</td>\n",
       "      <td>1.0</td>\n",
       "      <td>0.0</td>\n",
       "    </tr>\n",
       "    <tr>\n",
       "      <th>4</th>\n",
       "      <td>4.0</td>\n",
       "      <td>1.0</td>\n",
       "      <td>1.0</td>\n",
       "      <td>NaN</td>\n",
       "      <td>2.0</td>\n",
       "      <td>NaN</td>\n",
       "      <td>3.0</td>\n",
       "      <td>1.0</td>\n",
       "      <td>NaN</td>\n",
       "      <td>0.0</td>\n",
       "    </tr>\n",
       "    <tr>\n",
       "      <th>...</th>\n",
       "      <td>...</td>\n",
       "      <td>...</td>\n",
       "      <td>...</td>\n",
       "      <td>...</td>\n",
       "      <td>...</td>\n",
       "      <td>...</td>\n",
       "      <td>...</td>\n",
       "      <td>...</td>\n",
       "      <td>...</td>\n",
       "      <td>...</td>\n",
       "    </tr>\n",
       "    <tr>\n",
       "      <th>694</th>\n",
       "      <td>NaN</td>\n",
       "      <td>1.0</td>\n",
       "      <td>1.0</td>\n",
       "      <td>1.0</td>\n",
       "      <td>3.0</td>\n",
       "      <td>2.0</td>\n",
       "      <td>1.0</td>\n",
       "      <td>1.0</td>\n",
       "      <td>1.0</td>\n",
       "      <td>0.0</td>\n",
       "    </tr>\n",
       "    <tr>\n",
       "      <th>695</th>\n",
       "      <td>2.0</td>\n",
       "      <td>1.0</td>\n",
       "      <td>1.0</td>\n",
       "      <td>1.0</td>\n",
       "      <td>2.0</td>\n",
       "      <td>0.0</td>\n",
       "      <td>1.0</td>\n",
       "      <td>1.0</td>\n",
       "      <td>1.0</td>\n",
       "      <td>0.0</td>\n",
       "    </tr>\n",
       "    <tr>\n",
       "      <th>696</th>\n",
       "      <td>5.0</td>\n",
       "      <td>10.0</td>\n",
       "      <td>10.0</td>\n",
       "      <td>3.0</td>\n",
       "      <td>NaN</td>\n",
       "      <td>3.0</td>\n",
       "      <td>8.0</td>\n",
       "      <td>10.0</td>\n",
       "      <td>2.0</td>\n",
       "      <td>1.0</td>\n",
       "    </tr>\n",
       "    <tr>\n",
       "      <th>697</th>\n",
       "      <td>4.0</td>\n",
       "      <td>8.0</td>\n",
       "      <td>6.0</td>\n",
       "      <td>4.0</td>\n",
       "      <td>3.0</td>\n",
       "      <td>4.0</td>\n",
       "      <td>10.0</td>\n",
       "      <td>NaN</td>\n",
       "      <td>1.0</td>\n",
       "      <td>1.0</td>\n",
       "    </tr>\n",
       "    <tr>\n",
       "      <th>698</th>\n",
       "      <td>NaN</td>\n",
       "      <td>8.0</td>\n",
       "      <td>NaN</td>\n",
       "      <td>5.0</td>\n",
       "      <td>NaN</td>\n",
       "      <td>5.0</td>\n",
       "      <td>10.0</td>\n",
       "      <td>4.0</td>\n",
       "      <td>1.0</td>\n",
       "      <td>1.0</td>\n",
       "    </tr>\n",
       "  </tbody>\n",
       "</table>\n",
       "<p>699 rows × 10 columns</p>\n",
       "</div>"
      ],
      "text/plain": [
       "     Clump_Thickness  Cell_Size_Uniformity  Cell_Shape_Uniformity  \\\n",
       "0                5.0                   NaN                    1.0   \n",
       "1                5.0                   NaN                    NaN   \n",
       "2                3.0                   1.0                    1.0   \n",
       "3                6.0                   8.0                    NaN   \n",
       "4                4.0                   1.0                    1.0   \n",
       "..               ...                   ...                    ...   \n",
       "694              NaN                   1.0                    1.0   \n",
       "695              2.0                   1.0                    1.0   \n",
       "696              5.0                  10.0                   10.0   \n",
       "697              4.0                   8.0                    6.0   \n",
       "698              NaN                   8.0                    NaN   \n",
       "\n",
       "     Marginal_Adhesion  Single_Epi_Cell_Size  Bare_Nuclei  Bland_Chromatin  \\\n",
       "0                  1.0                   NaN          0.0              3.0   \n",
       "1                  5.0                   7.0          1.0              3.0   \n",
       "2                  1.0                   2.0          2.0              3.0   \n",
       "3                  1.0                   3.0          4.0              3.0   \n",
       "4                  NaN                   2.0          NaN              3.0   \n",
       "..                 ...                   ...          ...              ...   \n",
       "694                1.0                   3.0          2.0              1.0   \n",
       "695                1.0                   2.0          0.0              1.0   \n",
       "696                3.0                   NaN          3.0              8.0   \n",
       "697                4.0                   3.0          4.0             10.0   \n",
       "698                5.0                   NaN          5.0             10.0   \n",
       "\n",
       "     Normal_Nucleoli  Mitoses  target  \n",
       "0                1.0      1.0     0.0  \n",
       "1                2.0      1.0     0.0  \n",
       "2                1.0      1.0     0.0  \n",
       "3                7.0      1.0     0.0  \n",
       "4                1.0      NaN     0.0  \n",
       "..               ...      ...     ...  \n",
       "694              1.0      1.0     0.0  \n",
       "695              1.0      1.0     0.0  \n",
       "696             10.0      2.0     1.0  \n",
       "697              NaN      1.0     1.0  \n",
       "698              4.0      1.0     1.0  \n",
       "\n",
       "[699 rows x 10 columns]"
      ]
     },
     "execution_count": 3,
     "metadata": {},
     "output_type": "execute_result"
    }
   ],
   "source": [
    "null_percent = 0.2\n",
    "rng = np.random.default_rng()\n",
    "\n",
    "def insert_percent_nulls(data: pd.DataFrame, percent: float) -> pd.DataFrame:\n",
    "    data = data.copy(deep=True)\n",
    "    mask = rng.uniform(size=data.shape) < percent\n",
    "    data[mask] = None\n",
    "\n",
    "    return data\n",
    "\n",
    "null_df = insert_percent_nulls(df, null_percent)\n",
    "null_df"
   ]
  },
  {
   "cell_type": "markdown",
   "metadata": {},
   "source": [
    "## Step 2: Define the Feature Attributes\n",
    "\n",
    "The Howso Engine always requires a set of defined feature attributes. We recommend using `infer_feature_attributes` as do most of the work quickly, but we always recommend manual inspection of these resulting feature attributes."
   ]
  },
  {
   "cell_type": "code",
   "execution_count": 4,
   "metadata": {
    "execution": {
     "iopub.execute_input": "2025-07-22T15:15:09.180100Z",
     "iopub.status.busy": "2025-07-22T15:15:09.179897Z",
     "iopub.status.idle": "2025-07-22T15:15:09.225868Z",
     "shell.execute_reply": "2025-07-22T15:15:09.225319Z"
    }
   },
   "outputs": [
    {
     "data": {
      "text/html": [
       "<div>\n",
       "<style scoped>\n",
       "    .dataframe tbody tr th:only-of-type {\n",
       "        vertical-align: middle;\n",
       "    }\n",
       "\n",
       "    .dataframe tbody tr th {\n",
       "        vertical-align: top;\n",
       "    }\n",
       "\n",
       "    .dataframe thead tr th {\n",
       "        text-align: left;\n",
       "    }\n",
       "</style>\n",
       "<table border=\"1\" class=\"dataframe\">\n",
       "  <thead>\n",
       "    <tr>\n",
       "      <th></th>\n",
       "      <th>type</th>\n",
       "      <th>decimal_places</th>\n",
       "      <th colspan=\"5\" halign=\"left\">bounds</th>\n",
       "      <th>data_type</th>\n",
       "      <th colspan=\"2\" halign=\"left\">original_type</th>\n",
       "    </tr>\n",
       "    <tr>\n",
       "      <th></th>\n",
       "      <th></th>\n",
       "      <th></th>\n",
       "      <th>min</th>\n",
       "      <th>max</th>\n",
       "      <th>allow_null</th>\n",
       "      <th>observed_min</th>\n",
       "      <th>observed_max</th>\n",
       "      <th></th>\n",
       "      <th>data_type</th>\n",
       "      <th>size</th>\n",
       "    </tr>\n",
       "  </thead>\n",
       "  <tbody>\n",
       "    <tr>\n",
       "      <th>Clump_Thickness</th>\n",
       "      <td>continuous</td>\n",
       "      <td>0.0</td>\n",
       "      <td>1.0</td>\n",
       "      <td>16.0</td>\n",
       "      <td>True</td>\n",
       "      <td>1.0</td>\n",
       "      <td>10.0</td>\n",
       "      <td>number</td>\n",
       "      <td>numeric</td>\n",
       "      <td>8</td>\n",
       "    </tr>\n",
       "    <tr>\n",
       "      <th>Cell_Size_Uniformity</th>\n",
       "      <td>continuous</td>\n",
       "      <td>0.0</td>\n",
       "      <td>1.0</td>\n",
       "      <td>16.0</td>\n",
       "      <td>True</td>\n",
       "      <td>1.0</td>\n",
       "      <td>10.0</td>\n",
       "      <td>number</td>\n",
       "      <td>numeric</td>\n",
       "      <td>8</td>\n",
       "    </tr>\n",
       "    <tr>\n",
       "      <th>Cell_Shape_Uniformity</th>\n",
       "      <td>continuous</td>\n",
       "      <td>0.0</td>\n",
       "      <td>1.0</td>\n",
       "      <td>16.0</td>\n",
       "      <td>True</td>\n",
       "      <td>1.0</td>\n",
       "      <td>10.0</td>\n",
       "      <td>number</td>\n",
       "      <td>numeric</td>\n",
       "      <td>8</td>\n",
       "    </tr>\n",
       "    <tr>\n",
       "      <th>Marginal_Adhesion</th>\n",
       "      <td>continuous</td>\n",
       "      <td>0.0</td>\n",
       "      <td>1.0</td>\n",
       "      <td>16.0</td>\n",
       "      <td>True</td>\n",
       "      <td>1.0</td>\n",
       "      <td>10.0</td>\n",
       "      <td>number</td>\n",
       "      <td>numeric</td>\n",
       "      <td>8</td>\n",
       "    </tr>\n",
       "    <tr>\n",
       "      <th>Single_Epi_Cell_Size</th>\n",
       "      <td>continuous</td>\n",
       "      <td>0.0</td>\n",
       "      <td>0.0</td>\n",
       "      <td>16.0</td>\n",
       "      <td>True</td>\n",
       "      <td>1.0</td>\n",
       "      <td>10.0</td>\n",
       "      <td>number</td>\n",
       "      <td>numeric</td>\n",
       "      <td>8</td>\n",
       "    </tr>\n",
       "    <tr>\n",
       "      <th>Bare_Nuclei</th>\n",
       "      <td>continuous</td>\n",
       "      <td>0.0</td>\n",
       "      <td>0.0</td>\n",
       "      <td>16.0</td>\n",
       "      <td>True</td>\n",
       "      <td>0.0</td>\n",
       "      <td>10.0</td>\n",
       "      <td>number</td>\n",
       "      <td>numeric</td>\n",
       "      <td>8</td>\n",
       "    </tr>\n",
       "    <tr>\n",
       "      <th>Bland_Chromatin</th>\n",
       "      <td>continuous</td>\n",
       "      <td>0.0</td>\n",
       "      <td>0.0</td>\n",
       "      <td>16.0</td>\n",
       "      <td>True</td>\n",
       "      <td>1.0</td>\n",
       "      <td>10.0</td>\n",
       "      <td>number</td>\n",
       "      <td>numeric</td>\n",
       "      <td>8</td>\n",
       "    </tr>\n",
       "    <tr>\n",
       "      <th>Normal_Nucleoli</th>\n",
       "      <td>continuous</td>\n",
       "      <td>0.0</td>\n",
       "      <td>1.0</td>\n",
       "      <td>16.0</td>\n",
       "      <td>True</td>\n",
       "      <td>1.0</td>\n",
       "      <td>10.0</td>\n",
       "      <td>number</td>\n",
       "      <td>numeric</td>\n",
       "      <td>8</td>\n",
       "    </tr>\n",
       "    <tr>\n",
       "      <th>Mitoses</th>\n",
       "      <td>continuous</td>\n",
       "      <td>0.0</td>\n",
       "      <td>1.0</td>\n",
       "      <td>16.0</td>\n",
       "      <td>True</td>\n",
       "      <td>1.0</td>\n",
       "      <td>10.0</td>\n",
       "      <td>number</td>\n",
       "      <td>numeric</td>\n",
       "      <td>8</td>\n",
       "    </tr>\n",
       "    <tr>\n",
       "      <th>target</th>\n",
       "      <td>nominal</td>\n",
       "      <td>NaN</td>\n",
       "      <td>NaN</td>\n",
       "      <td>NaN</td>\n",
       "      <td>True</td>\n",
       "      <td>NaN</td>\n",
       "      <td>NaN</td>\n",
       "      <td>number</td>\n",
       "      <td>numeric</td>\n",
       "      <td>8</td>\n",
       "    </tr>\n",
       "  </tbody>\n",
       "</table>\n",
       "</div>"
      ],
      "text/plain": [
       "                             type decimal_places bounds                   \\\n",
       "                                                    min   max allow_null   \n",
       "Clump_Thickness        continuous            0.0    1.0  16.0       True   \n",
       "Cell_Size_Uniformity   continuous            0.0    1.0  16.0       True   \n",
       "Cell_Shape_Uniformity  continuous            0.0    1.0  16.0       True   \n",
       "Marginal_Adhesion      continuous            0.0    1.0  16.0       True   \n",
       "Single_Epi_Cell_Size   continuous            0.0    0.0  16.0       True   \n",
       "Bare_Nuclei            continuous            0.0    0.0  16.0       True   \n",
       "Bland_Chromatin        continuous            0.0    0.0  16.0       True   \n",
       "Normal_Nucleoli        continuous            0.0    1.0  16.0       True   \n",
       "Mitoses                continuous            0.0    1.0  16.0       True   \n",
       "target                    nominal            NaN    NaN   NaN       True   \n",
       "\n",
       "                                                data_type original_type       \n",
       "                      observed_min observed_max               data_type size  \n",
       "Clump_Thickness                1.0         10.0    number       numeric    8  \n",
       "Cell_Size_Uniformity           1.0         10.0    number       numeric    8  \n",
       "Cell_Shape_Uniformity          1.0         10.0    number       numeric    8  \n",
       "Marginal_Adhesion              1.0         10.0    number       numeric    8  \n",
       "Single_Epi_Cell_Size           1.0         10.0    number       numeric    8  \n",
       "Bare_Nuclei                    0.0         10.0    number       numeric    8  \n",
       "Bland_Chromatin                1.0         10.0    number       numeric    8  \n",
       "Normal_Nucleoli                1.0         10.0    number       numeric    8  \n",
       "Mitoses                        1.0         10.0    number       numeric    8  \n",
       "target                         NaN          NaN    number       numeric    8  "
      ]
     },
     "execution_count": 4,
     "metadata": {},
     "output_type": "execute_result"
    }
   ],
   "source": [
    "features = infer_feature_attributes(null_df)\n",
    "features.to_dataframe()"
   ]
  },
  {
   "cell_type": "markdown",
   "metadata": {},
   "source": [
    "## Step 3: Train and Analyze Data\n",
    "\n",
    "We then train the data into a `Trainee` and analyze the data to determine the best hyperparameters.  Note that we are explicitly declaring our default context and action features."
   ]
  },
  {
   "cell_type": "code",
   "execution_count": 5,
   "metadata": {
    "execution": {
     "iopub.execute_input": "2025-07-22T15:15:09.227748Z",
     "iopub.status.busy": "2025-07-22T15:15:09.227572Z",
     "iopub.status.idle": "2025-07-22T15:15:13.031095Z",
     "shell.execute_reply": "2025-07-22T15:15:13.030437Z"
    }
   },
   "outputs": [],
   "source": [
    "action_features = [\"target\"]\n",
    "context_features = features.get_names(without=action_features)\n",
    "\n",
    "t = Trainee(features=features)\n",
    "t.train(null_df)\n",
    "t.analyze(context_features=context_features, action_features=action_features)"
   ]
  },
  {
   "cell_type": "markdown",
   "metadata": {},
   "source": [
    "## Step 4: Measure Trainee Accuracy\n",
    "\n",
    "Finally, we get the prediction stats.  The default action feature, `target`, is categorical so we are concerned with *precision*,  *recall*, and *accuracy*.\n",
    "\n",
    "Here, we specifically compute `residuals_robust`. This computes what we call \"Robust Residuals\" which is to compute the mean absolute error of predictions on every feature where the context features are sampled over the power set of all other features. These residuals should typically be larger than the more typical \"Full Residuals\" which are computed as the mean absolute error of predictions on each feature where **every** other feature is used as a context."
   ]
  },
  {
   "cell_type": "code",
   "execution_count": 6,
   "metadata": {
    "execution": {
     "iopub.execute_input": "2025-07-22T15:15:13.033506Z",
     "iopub.status.busy": "2025-07-22T15:15:13.033253Z",
     "iopub.status.idle": "2025-07-22T15:15:13.247381Z",
     "shell.execute_reply": "2025-07-22T15:15:13.246802Z"
    }
   },
   "outputs": [
    {
     "data": {
      "text/plain": [
       "accuracy     0.957895\n",
       "precision    0.953889\n",
       "recall       0.953889\n",
       "Name: target, dtype: float64"
      ]
     },
     "execution_count": 6,
     "metadata": {},
     "output_type": "execute_result"
    }
   ],
   "source": [
    "accuracy = t.get_prediction_stats(\n",
    "    action_feature=action_features[0],\n",
    "    details = {\n",
    "        \"prediction_stats\": True,\n",
    "        \"selected_prediction_stats\": [\"accuracy\", \"precision\", \"recall\"]\n",
    "        }\n",
    ")[action_features[0]]\n",
    "\n",
    "accuracy"
   ]
  },
  {
   "cell_type": "code",
   "execution_count": 7,
   "metadata": {
    "execution": {
     "iopub.execute_input": "2025-07-22T15:15:13.249271Z",
     "iopub.status.busy": "2025-07-22T15:15:13.249074Z",
     "iopub.status.idle": "2025-07-22T15:15:13.272572Z",
     "shell.execute_reply": "2025-07-22T15:15:13.271996Z"
    }
   },
   "outputs": [],
   "source": [
    "t.delete()"
   ]
  },
  {
   "cell_type": "markdown",
   "metadata": {},
   "source": [
    "## Step 5: Evaluate Performance at Multiple Sparsity Levels\n",
    "\n",
    "Now we evaluate the `Trainee` performance at multiple sparsity levels to characterize how prediction performance holds up in the presence of many nulls.\n",
    "\n",
    "To do this, we simply create versions of the dataset with different proportions of null values, and do the same accuracy evaluation we demonstrated above."
   ]
  },
  {
   "cell_type": "code",
   "execution_count": 8,
   "metadata": {
    "execution": {
     "iopub.execute_input": "2025-07-22T15:15:13.282252Z",
     "iopub.status.busy": "2025-07-22T15:15:13.282040Z",
     "iopub.status.idle": "2025-07-22T15:15:50.169677Z",
     "shell.execute_reply": "2025-07-22T15:15:50.169060Z"
    }
   },
   "outputs": [
    {
     "name": "stdout",
     "output_type": "stream",
     "text": [
      "Evaluating Trainee for 0% nulls\n"
     ]
    },
    {
     "name": "stdout",
     "output_type": "stream",
     "text": [
      "Evaluating Trainee for 10% nulls\n"
     ]
    },
    {
     "name": "stdout",
     "output_type": "stream",
     "text": [
      "Evaluating Trainee for 20% nulls\n"
     ]
    },
    {
     "name": "stdout",
     "output_type": "stream",
     "text": [
      "Evaluating Trainee for 30% nulls\n"
     ]
    },
    {
     "name": "stdout",
     "output_type": "stream",
     "text": [
      "Evaluating Trainee for 40% nulls\n"
     ]
    },
    {
     "name": "stdout",
     "output_type": "stream",
     "text": [
      "Evaluating Trainee for 50% nulls\n"
     ]
    },
    {
     "name": "stderr",
     "output_type": "stream",
     "text": [
      "/home/runner/.local/lib/python3.10/site-packages/howso/direct/client.py:376: HowsoWarning: There are no cached hyperparameters in this trainee. This operation was executed using a set of predefined default hyperparameters. Please run analyze() with your desired parameters.\n",
      "  warnings.warn(w, category=HowsoWarning)\n"
     ]
    },
    {
     "name": "stdout",
     "output_type": "stream",
     "text": [
      "Evaluating Trainee for 60% nulls\n"
     ]
    },
    {
     "name": "stderr",
     "output_type": "stream",
     "text": [
      "/home/runner/.local/lib/python3.10/site-packages/howso/direct/client.py:376: HowsoWarning: There are no cached hyperparameters in this trainee. This operation was executed using a set of predefined default hyperparameters. Please run analyze() with your desired parameters.\n",
      "  warnings.warn(w, category=HowsoWarning)\n"
     ]
    },
    {
     "name": "stdout",
     "output_type": "stream",
     "text": [
      "Evaluating Trainee for 70% nulls\n"
     ]
    },
    {
     "name": "stderr",
     "output_type": "stream",
     "text": [
      "/home/runner/.local/lib/python3.10/site-packages/howso/direct/client.py:376: HowsoWarning: There are no cached hyperparameters in this trainee. This operation was executed using a set of predefined default hyperparameters. Please run analyze() with your desired parameters.\n",
      "  warnings.warn(w, category=HowsoWarning)\n"
     ]
    },
    {
     "name": "stdout",
     "output_type": "stream",
     "text": [
      "Evaluating Trainee for 80% nulls\n"
     ]
    },
    {
     "name": "stderr",
     "output_type": "stream",
     "text": [
      "/home/runner/.local/lib/python3.10/site-packages/howso/direct/client.py:376: HowsoWarning: There are no cached hyperparameters in this trainee. This operation was executed using a set of predefined default hyperparameters. Please run analyze() with your desired parameters.\n",
      "  warnings.warn(w, category=HowsoWarning)\n"
     ]
    },
    {
     "name": "stdout",
     "output_type": "stream",
     "text": [
      "Evaluating Trainee for 90% nulls\n"
     ]
    },
    {
     "name": "stderr",
     "output_type": "stream",
     "text": [
      "/home/runner/.local/lib/python3.10/site-packages/howso/direct/client.py:376: HowsoWarning: There are no cached hyperparameters in this trainee. This operation was executed using a set of predefined default hyperparameters. Please run analyze() with your desired parameters.\n",
      "  warnings.warn(w, category=HowsoWarning)\n"
     ]
    }
   ],
   "source": [
    "null_percentages = np.linspace(0, 0.9, num=10)\n",
    "prediction_stats_list = []\n",
    "\n",
    "for null_percent in null_percentages:\n",
    "    print(f\"Evaluating Trainee for {round(null_percent * 100)}% nulls\")\n",
    "\n",
    "    # Create a DataFrame that is a copy of the input DataFrame that has the correct percentage of null values.\n",
    "    null_df = insert_percent_nulls(df, null_percent)\n",
    "    # Infer feature attrbiutes for the new DataFrame\n",
    "    null_features = infer_feature_attributes(null_df)\n",
    "    # Create the Trainee, train, and analyze\n",
    "    t = Trainee(features=null_features)\n",
    "    t.train(null_df)\n",
    "    t.analyze(context_features=context_features, action_features=action_features)\n",
    "    # Compute, fetch, and store the prediction stats\n",
    "    prediction_stats = t.get_prediction_stats(\n",
    "        action_feature=action_features[0],\n",
    "        details = {\n",
    "            \"prediction_stats\": True,\n",
    "            \"selected_prediction_stats\": [\"accuracy\", \"precision\", \"recall\"]\n",
    "            }\n",
    "    )[action_features[0]]\n",
    "\n",
    "    prediction_stats_list.append(prediction_stats.T)\n",
    "    # Clean up the Trainee\n",
    "    t.delete()"
   ]
  },
  {
   "cell_type": "code",
   "execution_count": 9,
   "metadata": {
    "execution": {
     "iopub.execute_input": "2025-07-22T15:15:50.172218Z",
     "iopub.status.busy": "2025-07-22T15:15:50.172033Z",
     "iopub.status.idle": "2025-07-22T15:15:50.176865Z",
     "shell.execute_reply": "2025-07-22T15:15:50.176368Z"
    }
   },
   "outputs": [
    {
     "data": {
      "text/plain": [
       "0     0.970193\n",
       "1     0.969957\n",
       "2     0.964014\n",
       "3     0.953456\n",
       "4     0.959184\n",
       "5     0.955505\n",
       "6     0.934443\n",
       "7     0.945854\n",
       "8     0.943586\n",
       "9     0.931373\n",
       "10    0.925169\n",
       "11    0.918546\n",
       "12    0.942875\n",
       "13    0.954128\n",
       "14    0.952826\n",
       "15    0.946381\n",
       "16    0.951742\n",
       "17    0.933131\n",
       "18    0.914999\n",
       "19    0.895485\n",
       "20    0.917808\n",
       "21    0.880952\n",
       "22    0.876667\n",
       "23    0.848443\n",
       "24    0.869217\n",
       "25    0.910256\n",
       "26    0.914530\n",
       "27    0.824176\n",
       "28    0.529412\n",
       "29    0.655914\n",
       "Name: target, dtype: float64"
      ]
     },
     "execution_count": 9,
     "metadata": {},
     "output_type": "execute_result"
    }
   ],
   "source": [
    "prediction_stats_df2 = pd.concat(prediction_stats_list, ignore_index=True)\n",
    "prediction_stats_df2"
   ]
  },
  {
   "cell_type": "code",
   "execution_count": 10,
   "metadata": {
    "execution": {
     "iopub.execute_input": "2025-07-22T15:15:50.178468Z",
     "iopub.status.busy": "2025-07-22T15:15:50.178294Z",
     "iopub.status.idle": "2025-07-22T15:15:50.181611Z",
     "shell.execute_reply": "2025-07-22T15:15:50.181134Z"
    }
   },
   "outputs": [
    {
     "data": {
      "text/plain": [
       "pandas.core.series.Series"
      ]
     },
     "execution_count": 10,
     "metadata": {},
     "output_type": "execute_result"
    }
   ],
   "source": [
    "type(prediction_stats_list[0])"
   ]
  },
  {
   "cell_type": "code",
   "execution_count": 11,
   "metadata": {
    "execution": {
     "iopub.execute_input": "2025-07-22T15:15:50.183120Z",
     "iopub.status.busy": "2025-07-22T15:15:50.182946Z",
     "iopub.status.idle": "2025-07-22T15:15:50.186362Z",
     "shell.execute_reply": "2025-07-22T15:15:50.185869Z"
    }
   },
   "outputs": [
    {
     "data": {
      "text/plain": [
       "array([0. , 0.1, 0.2, 0.3, 0.4, 0.5, 0.6, 0.7, 0.8, 0.9])"
      ]
     },
     "execution_count": 11,
     "metadata": {},
     "output_type": "execute_result"
    }
   ],
   "source": [
    "null_percentages"
   ]
  },
  {
   "cell_type": "code",
   "execution_count": 12,
   "metadata": {
    "execution": {
     "iopub.execute_input": "2025-07-22T15:15:50.187883Z",
     "iopub.status.busy": "2025-07-22T15:15:50.187713Z",
     "iopub.status.idle": "2025-07-22T15:15:50.195639Z",
     "shell.execute_reply": "2025-07-22T15:15:50.195147Z"
    }
   },
   "outputs": [
    {
     "data": {
      "text/html": [
       "<div>\n",
       "<style scoped>\n",
       "    .dataframe tbody tr th:only-of-type {\n",
       "        vertical-align: middle;\n",
       "    }\n",
       "\n",
       "    .dataframe tbody tr th {\n",
       "        vertical-align: top;\n",
       "    }\n",
       "\n",
       "    .dataframe thead th {\n",
       "        text-align: right;\n",
       "    }\n",
       "</style>\n",
       "<table border=\"1\" class=\"dataframe\">\n",
       "  <thead>\n",
       "    <tr style=\"text-align: right;\">\n",
       "      <th></th>\n",
       "      <th>recall</th>\n",
       "      <th>accuracy</th>\n",
       "      <th>precision</th>\n",
       "    </tr>\n",
       "  </thead>\n",
       "  <tbody>\n",
       "    <tr>\n",
       "      <th>0</th>\n",
       "      <td>0.970193</td>\n",
       "      <td>0.969957</td>\n",
       "      <td>0.964014</td>\n",
       "    </tr>\n",
       "    <tr>\n",
       "      <th>1</th>\n",
       "      <td>0.953456</td>\n",
       "      <td>0.959184</td>\n",
       "      <td>0.955505</td>\n",
       "    </tr>\n",
       "    <tr>\n",
       "      <th>2</th>\n",
       "      <td>0.934443</td>\n",
       "      <td>0.945854</td>\n",
       "      <td>0.943586</td>\n",
       "    </tr>\n",
       "    <tr>\n",
       "      <th>3</th>\n",
       "      <td>0.918546</td>\n",
       "      <td>0.931373</td>\n",
       "      <td>0.925169</td>\n",
       "    </tr>\n",
       "    <tr>\n",
       "      <th>4</th>\n",
       "      <td>0.942875</td>\n",
       "      <td>0.954128</td>\n",
       "      <td>0.952826</td>\n",
       "    </tr>\n",
       "    <tr>\n",
       "      <th>5</th>\n",
       "      <td>0.933131</td>\n",
       "      <td>0.946381</td>\n",
       "      <td>0.951742</td>\n",
       "    </tr>\n",
       "    <tr>\n",
       "      <th>6</th>\n",
       "      <td>0.895485</td>\n",
       "      <td>0.917808</td>\n",
       "      <td>0.914999</td>\n",
       "    </tr>\n",
       "    <tr>\n",
       "      <th>7</th>\n",
       "      <td>0.848443</td>\n",
       "      <td>0.880952</td>\n",
       "      <td>0.876667</td>\n",
       "    </tr>\n",
       "    <tr>\n",
       "      <th>8</th>\n",
       "      <td>0.869217</td>\n",
       "      <td>0.910256</td>\n",
       "      <td>0.914530</td>\n",
       "    </tr>\n",
       "    <tr>\n",
       "      <th>9</th>\n",
       "      <td>0.529412</td>\n",
       "      <td>0.655914</td>\n",
       "      <td>0.824176</td>\n",
       "    </tr>\n",
       "  </tbody>\n",
       "</table>\n",
       "</div>"
      ],
      "text/plain": [
       "     recall  accuracy  precision\n",
       "0  0.970193  0.969957   0.964014\n",
       "1  0.953456  0.959184   0.955505\n",
       "2  0.934443  0.945854   0.943586\n",
       "3  0.918546  0.931373   0.925169\n",
       "4  0.942875  0.954128   0.952826\n",
       "5  0.933131  0.946381   0.951742\n",
       "6  0.895485  0.917808   0.914999\n",
       "7  0.848443  0.880952   0.876667\n",
       "8  0.869217  0.910256   0.914530\n",
       "9  0.529412  0.655914   0.824176"
      ]
     },
     "execution_count": 12,
     "metadata": {},
     "output_type": "execute_result"
    }
   ],
   "source": [
    "prediction_stats_df = pd.concat(prediction_stats_list, ignore_index=True, axis=1).T\n",
    "prediction_stats_df"
   ]
  },
  {
   "cell_type": "code",
   "execution_count": 13,
   "metadata": {
    "execution": {
     "iopub.execute_input": "2025-07-22T15:15:50.197144Z",
     "iopub.status.busy": "2025-07-22T15:15:50.196970Z",
     "iopub.status.idle": "2025-07-22T15:15:50.205326Z",
     "shell.execute_reply": "2025-07-22T15:15:50.204819Z"
    }
   },
   "outputs": [
    {
     "data": {
      "text/html": [
       "<div>\n",
       "<style scoped>\n",
       "    .dataframe tbody tr th:only-of-type {\n",
       "        vertical-align: middle;\n",
       "    }\n",
       "\n",
       "    .dataframe tbody tr th {\n",
       "        vertical-align: top;\n",
       "    }\n",
       "\n",
       "    .dataframe thead th {\n",
       "        text-align: right;\n",
       "    }\n",
       "</style>\n",
       "<table border=\"1\" class=\"dataframe\">\n",
       "  <thead>\n",
       "    <tr style=\"text-align: right;\">\n",
       "      <th></th>\n",
       "      <th>recall</th>\n",
       "      <th>accuracy</th>\n",
       "      <th>precision</th>\n",
       "    </tr>\n",
       "    <tr>\n",
       "      <th>Null %</th>\n",
       "      <th></th>\n",
       "      <th></th>\n",
       "      <th></th>\n",
       "    </tr>\n",
       "  </thead>\n",
       "  <tbody>\n",
       "    <tr>\n",
       "      <th>0.0</th>\n",
       "      <td>0.970193</td>\n",
       "      <td>0.969957</td>\n",
       "      <td>0.964014</td>\n",
       "    </tr>\n",
       "    <tr>\n",
       "      <th>0.1</th>\n",
       "      <td>0.953456</td>\n",
       "      <td>0.959184</td>\n",
       "      <td>0.955505</td>\n",
       "    </tr>\n",
       "    <tr>\n",
       "      <th>0.2</th>\n",
       "      <td>0.934443</td>\n",
       "      <td>0.945854</td>\n",
       "      <td>0.943586</td>\n",
       "    </tr>\n",
       "    <tr>\n",
       "      <th>0.3</th>\n",
       "      <td>0.918546</td>\n",
       "      <td>0.931373</td>\n",
       "      <td>0.925169</td>\n",
       "    </tr>\n",
       "    <tr>\n",
       "      <th>0.4</th>\n",
       "      <td>0.942875</td>\n",
       "      <td>0.954128</td>\n",
       "      <td>0.952826</td>\n",
       "    </tr>\n",
       "    <tr>\n",
       "      <th>0.5</th>\n",
       "      <td>0.933131</td>\n",
       "      <td>0.946381</td>\n",
       "      <td>0.951742</td>\n",
       "    </tr>\n",
       "    <tr>\n",
       "      <th>0.6</th>\n",
       "      <td>0.895485</td>\n",
       "      <td>0.917808</td>\n",
       "      <td>0.914999</td>\n",
       "    </tr>\n",
       "    <tr>\n",
       "      <th>0.7</th>\n",
       "      <td>0.848443</td>\n",
       "      <td>0.880952</td>\n",
       "      <td>0.876667</td>\n",
       "    </tr>\n",
       "    <tr>\n",
       "      <th>0.8</th>\n",
       "      <td>0.869217</td>\n",
       "      <td>0.910256</td>\n",
       "      <td>0.914530</td>\n",
       "    </tr>\n",
       "    <tr>\n",
       "      <th>0.9</th>\n",
       "      <td>0.529412</td>\n",
       "      <td>0.655914</td>\n",
       "      <td>0.824176</td>\n",
       "    </tr>\n",
       "  </tbody>\n",
       "</table>\n",
       "</div>"
      ],
      "text/plain": [
       "          recall  accuracy  precision\n",
       "Null %                               \n",
       "0.0     0.970193  0.969957   0.964014\n",
       "0.1     0.953456  0.959184   0.955505\n",
       "0.2     0.934443  0.945854   0.943586\n",
       "0.3     0.918546  0.931373   0.925169\n",
       "0.4     0.942875  0.954128   0.952826\n",
       "0.5     0.933131  0.946381   0.951742\n",
       "0.6     0.895485  0.917808   0.914999\n",
       "0.7     0.848443  0.880952   0.876667\n",
       "0.8     0.869217  0.910256   0.914530\n",
       "0.9     0.529412  0.655914   0.824176"
      ]
     },
     "execution_count": 13,
     "metadata": {},
     "output_type": "execute_result"
    }
   ],
   "source": [
    "prediction_stats_df = pd.concat(prediction_stats_list, axis=1, ignore_index=True).T.set_index(pd.Index(null_percentages, name=\"Null %\"), drop=True)\n",
    "\n",
    "prediction_stats_df"
   ]
  },
  {
   "cell_type": "markdown",
   "metadata": {},
   "source": [
    "As we can see, Howso Engine performs quite well even when significant fractions of the dataset are replaced with null values."
   ]
  },
  {
   "cell_type": "code",
   "execution_count": 14,
   "metadata": {
    "execution": {
     "iopub.execute_input": "2025-07-22T15:15:50.206862Z",
     "iopub.status.busy": "2025-07-22T15:15:50.206692Z",
     "iopub.status.idle": "2025-07-22T15:15:54.637229Z",
     "shell.execute_reply": "2025-07-22T15:15:54.636601Z"
    }
   },
   "outputs": [
    {
     "data": {
      "text/plain": [
       "Text(0.5, 1.0, 'Prediction Stats for Different Levels of Sparsity')"
      ]
     },
     "execution_count": 14,
     "metadata": {},
     "output_type": "execute_result"
    },
    {
     "data": {
      "image/png": "[encoded data removed]",
      "text/plain": [
       "<Figure size 640x480 with 1 Axes>"
      ]
     },
     "metadata": {},
     "output_type": "display_data"
    }
   ],
   "source": [
    "majority_class_accuracy = df.target.value_counts(normalize=True).max()\n",
    "\n",
    "ax = prediction_stats_df.plot()\n",
    "ax.set_ylim(-0.05, 1.05)\n",
    "ax.hlines(y=majority_class_accuracy, xmin=0, xmax=0.9, color=\"black\", label=\"Majority Class Prediction\")\n",
    "ax.legend(loc=\"lower right\")\n",
    "ax.set_title(\"Prediction Stats for Different Levels of Sparsity\")"
   ]
  },
  {
   "cell_type": "markdown",
   "metadata": {},
   "source": [
    "# Conclusion\n",
    "\n",
    "In this notebook we demonstrate the ability of the Howso Engine to natively handle data with missing values. Furthermore we demonstrate that the Howso Engine can maintain accuracy even when the training data has increasing proportions of missing values. This makes the Howso Engine a great tool to use in use-cases where datasets have many missing values (even when the missing values themselves are informative!)."
   ]
  }
 ],
 "metadata": {
  "kernelspec": {
   "display_name": "recipes-engine-3.8",
   "language": "python",
   "name": "python3"
  },
  "language_info": {
   "codemirror_mode": {
    "name": "ipython",
    "version": 3
   },
   "file_extension": ".py",
   "mimetype": "text/x-python",
   "name": "python",
   "nbconvert_exporter": "python",
   "pygments_lexer": "ipython3",
   "version": "3.10.18"
  }
 },
 "nbformat": 4,
 "nbformat_minor": 2
}
