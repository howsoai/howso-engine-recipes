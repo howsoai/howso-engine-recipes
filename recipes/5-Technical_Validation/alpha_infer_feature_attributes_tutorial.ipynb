{
 "cells": [
  {
   "attachments": {},
   "cell_type": "markdown",
   "id": "69d7ac54-9a3b-4327-93a5-eb6fbf314530",
   "metadata": {
    "tags": []
   },
   "source": [
    "# Understanding Feature Attributes\n",
    "\n",
    "## Overview \n",
    " \n",
    "Understanding and properly utilizing Feature Attributes is the most important step for successful use of Howso. Feature attributes can be specified manually but are often built using the `infer_feature_attributes()` (IFA) utility function. \n",
    "\n",
    "This notebook will explore configuration of IFA and the feature attributes in general using a user interface designed to simplify and inform the manipulation of Feature Attributes.\n",
    "In this notebook we will explore the most basic workflow using Howso Engine to gain insights in your data. This workflow is a form of exploratory data analysis and can help the user develop a deeper understanding of the data.\n",
    "\n",
    "Reference: [Docs - Feature Attributes](https://docs.howso.com/user_guide/basic_capabilities/feature_attributes.html)"
   ]
  },
  {
   "cell_type": "code",
   "execution_count": null,
   "id": "f6cbaf0d-4f1f-410d-9cfd-1114f34c8c00",
   "metadata": {},
   "outputs": [],
   "source": [
    "import os\n",
    "import pandas as pd\n",
    "import plotly.io as pio\n",
    "import plotly.express as px\n",
    "from pmlb import fetch_data\n",
    "from howso.engine import Trainee\n",
    "from howso.utilities import infer_feature_attributes\n",
    "\n",
    "pio.renderers.default = os.getenv(\"HOWSO_RECIPE_RENDERER\", \"notebook\")\n",
    "df = fetch_data('iris', local_cache_dir=\"../../data/iris\")\n"
   ]
  },
  {
   "attachments": {},
   "cell_type": "markdown",
   "id": "050d7e2d",
   "metadata": {},
   "source": [
    "## Section 1: Load and Infer\n",
    "\n",
    "We'll begin by loading our data and use a naive `infer_feature_attributes()` call to generate an initial set of Feature Attributes using the Iris data set."
   ]
  },
  {
   "cell_type": "code",
   "execution_count": null,
   "id": "e64e5087",
   "metadata": {},
   "outputs": [],
   "source": [
    "# Any params you wish to use during infer_feature_attributes may be included here.\n",
    "# \"features\" may continue any features or their configurations which should be used versus inferred\n",
    "initial_params = { \"features\": {} }\n",
    "\n",
    "# Infer feature attributes\n",
    "initial_features = infer_feature_attributes(df, **initial_params)"
   ]
  },
  {
   "attachments": {},
   "cell_type": "markdown",
   "id": "8a1f5ffa-d96e-44b8-9152-9e7811b6f9b4",
   "metadata": {},
   "source": [
    "## Section 2: Review"
   ]
  },
  {
   "cell_type": "markdown",
   "id": "60b50236",
   "metadata": {},
   "source": [
    "### Section 2a: Review as a DataFrame\n",
    "\n",
    "You may use the `.to_dataframe()` utility to get a highlight of the features for read only review."
   ]
  },
  {
   "cell_type": "code",
   "execution_count": null,
   "id": "bca57612",
   "metadata": {},
   "outputs": [],
   "source": [
    "initial_features.to_dataframe()"
   ]
  },
  {
   "cell_type": "markdown",
   "id": "c98fa8fe",
   "metadata": {},
   "source": [
    "### Section 2b: Review Interactively\n",
    "\n",
    "For interactive configuration, you may wish to launch the included FeaturesAttributesControl widget.\n",
    "\n",
    "This functionality is currently in `alpha` status. You may safely rely on the new params output produced. But the python code to load, render, and pull values out of the widget are expected to change."
   ]
  },
  {
   "cell_type": "code",
   "execution_count": null,
   "id": "5451ab30",
   "metadata": {},
   "outputs": [],
   "source": [
    "import pathlib\n",
    "from IPython.display import HTML\n",
    "import ipyreact\n",
    "import json\n",
    "\n",
    "# Setup notebook relative widget file path\n",
    "widget_path = pathlib.Path(\"../../widgets/node_modules/@howso/jupyter-notebook-react-components/lib\")\n",
    "# Define your theme preference\n",
    "widgets_theme_mode = \"dark\" # \"auto\" (OS or browser preference), \"dark\" or \"light\""
   ]
  },
  {
   "cell_type": "code",
   "execution_count": null,
   "id": "d44e7fa1",
   "metadata": {},
   "outputs": [],
   "source": [
    "# Output the required global css\n",
    "css_rules = pathlib.Path(widget_path / \"index.esm.css\").read_text()\n",
    "HTML(\"<style>\" + css_rules + \"</style>\")"
   ]
  },
  {
   "cell_type": "code",
   "execution_count": null,
   "id": "751f7c88",
   "metadata": {},
   "outputs": [],
   "source": [
    "# Launch the widget - This step must be done manually, not as part of run all.\n",
    "class FeatureAttributesWidget(ipyreact.ValueWidget):\n",
    "    _esm = widget_path / \"index.esm.js\"\n",
    "\n",
    "feature_attributes_widget = FeatureAttributesWidget(\n",
    "    props={\n",
    "        \"control\": \"FeaturesAttributesControl\",\n",
    "        \"themeMode\": widgets_theme_mode,\n",
    "    },\n",
    "    value=json.dumps({ \"features\": initial_features }),\n",
    ")\n",
    "feature_attributes_widget"
   ]
  },
  {
   "cell_type": "markdown",
   "id": "a3b4216d",
   "metadata": {},
   "source": [
    "We can access updated `infer_feature_params` arguments coming out of the widget at time by using the deserializing the `.value` parameters.\n"
   ]
  },
  {
   "cell_type": "code",
   "execution_count": null,
   "id": "ff35e4ba",
   "metadata": {},
   "outputs": [],
   "source": [
    "configured_infer_feature_parameters = json.loads(feature_attributes_widget.value) \n",
    "configured_infer_feature_parameters"
   ]
  },
  {
   "cell_type": "markdown",
   "id": "75c6c95c",
   "metadata": {},
   "source": [
    "`configured_infer_feature_parameters` contains the full parameters set, and `features` includes the full set of values. You should review the JSON object for important changes you've made versus the `initial_features` output. You are advised to *omit* as many configurations as possible, allowing inference to select the most appropriate values dynamically. \n",
    "\n",
    "Values you wish to save can be copied into a new object `updated_parameters`. Future versions of widget will produce a smaller output, containing only the parameters required, and a `features` object comprised of only changes you made."
   ]
  },
  {
   "cell_type": "code",
   "execution_count": null,
   "id": "ec6e8b81",
   "metadata": {},
   "outputs": [],
   "source": [
    "# Create the Trainee\n",
    "updated_parameters = {\n",
    "    # Any parameters you wish to maintain\n",
    "     \"features\": { \n",
    "        # Any feature specific attributes you wish to maintain\n",
    "    }\n",
    "}\n",
    "configured_features = infer_feature_attributes(df, **updated_parameters)\n",
    "t = Trainee(features=configured_features)\n",
    "\n",
    "# Train\n",
    "t.train(df)"
   ]
  },
  {
   "cell_type": "markdown",
   "id": "d4ce8f8b",
   "metadata": {},
   "source": [
    "With your Trainee configured, you are now free to use it for further _Howso_ operations"
   ]
  },
  {
   "cell_type": "markdown",
   "id": "b20d96f7",
   "metadata": {},
   "source": [
    "## Section 3: Caveats\n",
    "\n",
    "### Bundled providers\n",
    "\n",
    "Some providers require all assets to be included in a single bundle. You may use the following code for those providers instead of separate CSS and Widget cells above:\n",
    "\n",
    "```py\n",
    "# Launch the widget\n",
    "class FeatureAttributesWidget(ipyreact.ValueWidget):\n",
    "    _esm = widget_path / \"index.bundle.esm.js\"\n",
    "    name = traitlets.Unicode().tag(sync=True)\n",
    "\n",
    "feature_attributes_widget = FeatureAttributesWidget(\n",
    "    props={\n",
    "        \"control\": \"FeaturesAttributesControl\",\n",
    "        \"themeMode\": widgets_theme_mode,\n",
    "    },\n",
    "    value=json.dumps({ \"features\": initial_features }),\n",
    ")\n",
    "feature_attributes_widget\n",
    "```\n",
    "\n",
    "Known bundle required providers:\n",
    "- Databricks"
   ]
  }
 ],
 "metadata": {
  "kernelspec": {
   "display_name": "Python 3 (ipykernel)",
   "language": "python",
   "name": "python3"
  },
  "language_info": {
   "codemirror_mode": {
    "name": "ipython",
    "version": 3
   },
   "file_extension": ".py",
   "mimetype": "text/x-python",
   "name": "python",
   "nbconvert_exporter": "python",
   "pygments_lexer": "ipython3",
   "version": "3.11.6"
  },
  "vscode": {
   "interpreter": {
    "hash": "a7b40af3b3dcf6c5b8a920c6917b3b1352b9482e2d98da38730ccde8fc2e79a6"
   }
  }
 },
 "nbformat": 4,
 "nbformat_minor": 5
}
