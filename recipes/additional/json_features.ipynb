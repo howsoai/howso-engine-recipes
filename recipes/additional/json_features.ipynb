{
 "cells": [
  {
   "cell_type": "markdown",
   "metadata": {},
   "source": [
    "# JSON/YAML Features with Howso Engine\n",
    "\n",
    "> Note: This feature is experimental and is not universally recommended for production deployment.\n",
    "\n",
    "## Overview\n",
    "\n",
    "This notebook provides an overview of using JSON/YAML as features in a Trainee to represent complex data structures in a single feature."
   ]
  },
  {
   "cell_type": "code",
   "execution_count": 1,
   "metadata": {
    "execution": {
     "iopub.execute_input": "2024-03-28T21:00:49.384131Z",
     "iopub.status.busy": "2024-03-28T21:00:49.383977Z",
     "iopub.status.idle": "2024-03-28T21:00:50.177985Z",
     "shell.execute_reply": "2024-03-28T21:00:50.177437Z"
    }
   },
   "outputs": [],
   "source": [
    "import pandas as pd\n",
    "\n",
    "from howso.engine import Trainee\n",
    "from howso.utilities import infer_feature_attributes"
   ]
  },
  {
   "cell_type": "markdown",
   "metadata": {},
   "source": [
    "## Step 1: Load Data\n",
    "\n",
    "We use a small, toy-dataset to demonstrate this functionality where each case represents a character in a game."
   ]
  },
  {
   "cell_type": "code",
   "execution_count": 2,
   "metadata": {
    "execution": {
     "iopub.execute_input": "2024-03-28T21:00:50.180771Z",
     "iopub.status.busy": "2024-03-28T21:00:50.180518Z",
     "iopub.status.idle": "2024-03-28T21:00:50.190410Z",
     "shell.execute_reply": "2024-03-28T21:00:50.190003Z"
    }
   },
   "outputs": [
    {
     "data": {
      "text/html": [
       "<div>\n",
       "<style scoped>\n",
       "    .dataframe tbody tr th:only-of-type {\n",
       "        vertical-align: middle;\n",
       "    }\n",
       "\n",
       "    .dataframe tbody tr th {\n",
       "        vertical-align: top;\n",
       "    }\n",
       "\n",
       "    .dataframe thead th {\n",
       "        text-align: right;\n",
       "    }\n",
       "</style>\n",
       "<table border=\"1\" class=\"dataframe\">\n",
       "  <thead>\n",
       "    <tr style=\"text-align: right;\">\n",
       "      <th></th>\n",
       "      <th>name</th>\n",
       "      <th>level</th>\n",
       "      <th>class</th>\n",
       "      <th>inventory</th>\n",
       "    </tr>\n",
       "  </thead>\n",
       "  <tbody>\n",
       "    <tr>\n",
       "      <th>0</th>\n",
       "      <td>Nerissa</td>\n",
       "      <td>14</td>\n",
       "      <td>Fighter</td>\n",
       "      <td>{\"saddle\": 1, \"trident\": 2, \"potion\": 5}</td>\n",
       "    </tr>\n",
       "    <tr>\n",
       "      <th>1</th>\n",
       "      <td>Maaya</td>\n",
       "      <td>13</td>\n",
       "      <td>Warlock</td>\n",
       "      <td>{\"sword\": 1, \"lute\": 1, \"potion\": 2}</td>\n",
       "    </tr>\n",
       "    <tr>\n",
       "      <th>2</th>\n",
       "      <td>Taxuul</td>\n",
       "      <td>15</td>\n",
       "      <td>Cleric</td>\n",
       "      <td>{\"hammer\": 1, \"metal bar\": 20, \"potion\": 1}</td>\n",
       "    </tr>\n",
       "  </tbody>\n",
       "</table>\n",
       "</div>"
      ],
      "text/plain": [
       "      name  level    class                                    inventory\n",
       "0  Nerissa     14  Fighter     {\"saddle\": 1, \"trident\": 2, \"potion\": 5}\n",
       "1    Maaya     13  Warlock         {\"sword\": 1, \"lute\": 1, \"potion\": 2}\n",
       "2   Taxuul     15   Cleric  {\"hammer\": 1, \"metal bar\": 20, \"potion\": 1}"
      ]
     },
     "execution_count": 2,
     "metadata": {},
     "output_type": "execute_result"
    }
   ],
   "source": [
    "data = pd.DataFrame([\n",
    "    {\"name\": \"Nerissa\", \"level\": 14, \"class\": \"Fighter\", \"inventory\": \"{\\\"saddle\\\": 1, \\\"trident\\\": 2, \\\"potion\\\": 5}\"},\n",
    "    {\"name\": \"Maaya\", \"level\": 13, \"class\": \"Warlock\", \"inventory\": \"{\\\"sword\\\": 1, \\\"lute\\\": 1, \\\"potion\\\": 2}\"},\n",
    "    {\"name\": \"Taxuul\", \"level\": 15, \"class\": \"Cleric\", \"inventory\": \"{\\\"hammer\\\": 1, \\\"metal bar\\\": 20, \\\"potion\\\": 1}\"},\n",
    "])\n",
    "\n",
    "data"
   ]
  },
  {
   "cell_type": "markdown",
   "metadata": {},
   "source": [
    "## Step 2: Define the Feature Attributes\n",
    "\n",
    "The feature-attributes for the ``inventory`` feature are automatically inferred to be JSON."
   ]
  },
  {
   "cell_type": "code",
   "execution_count": 3,
   "metadata": {
    "execution": {
     "iopub.execute_input": "2024-03-28T21:00:50.223717Z",
     "iopub.status.busy": "2024-03-28T21:00:50.223539Z",
     "iopub.status.idle": "2024-03-28T21:00:50.238532Z",
     "shell.execute_reply": "2024-03-28T21:00:50.238132Z"
    }
   },
   "outputs": [
    {
     "data": {
      "text/plain": [
       "{'name': {'type': 'nominal', 'original_type': {'data_type': 'string'}},\n",
       " 'level': {'type': 'continuous',\n",
       "  'decimal_places': 0,\n",
       "  'original_type': {'data_type': 'integer', 'size': 8},\n",
       "  'bounds': {'min': 7.0, 'max': 20.0, 'allow_null': False}},\n",
       " 'class': {'type': 'nominal', 'original_type': {'data_type': 'string'}},\n",
       " 'inventory': {'type': 'continuous',\n",
       "  'data_type': 'json',\n",
       "  'original_type': {'data_type': 'string'}}}"
      ]
     },
     "execution_count": 3,
     "metadata": {},
     "output_type": "execute_result"
    }
   ],
   "source": [
    "features = infer_feature_attributes(data)\n",
    "features"
   ]
  },
  {
   "cell_type": "markdown",
   "metadata": {},
   "source": [
    "## Step 3: Train and Analyze"
   ]
  },
  {
   "cell_type": "code",
   "execution_count": 4,
   "metadata": {
    "execution": {
     "iopub.execute_input": "2024-03-28T21:00:50.240441Z",
     "iopub.status.busy": "2024-03-28T21:00:50.240141Z",
     "iopub.status.idle": "2024-03-28T21:00:50.527025Z",
     "shell.execute_reply": "2024-03-28T21:00:50.526534Z"
    }
   },
   "outputs": [],
   "source": [
    "t = Trainee(features=features)\n",
    "t.train(data)\n",
    "t.analyze()"
   ]
  },
  {
   "cell_type": "markdown",
   "metadata": {},
   "source": [
    "## Step 4: React\n",
    "\n",
    "### Part 1: Discriminative React\n",
    "\n",
    "First, we use a discriminative `react` to determine a likely inventory."
   ]
  },
  {
   "cell_type": "code",
   "execution_count": 5,
   "metadata": {
    "execution": {
     "iopub.execute_input": "2024-03-28T21:00:50.529622Z",
     "iopub.status.busy": "2024-03-28T21:00:50.529271Z",
     "iopub.status.idle": "2024-03-28T21:00:50.534786Z",
     "shell.execute_reply": "2024-03-28T21:00:50.534405Z"
    }
   },
   "outputs": [
    {
     "data": {
      "text/plain": [
       "0    {\"metal bar\":20,\"saddle\":1,\"trident\":2,\"hammer...\n",
       "Name: inventory, dtype: object"
      ]
     },
     "execution_count": 5,
     "metadata": {},
     "output_type": "execute_result"
    }
   ],
   "source": [
    "discriminative_action = t.react(\n",
    "    contexts=[[15, \"Warlock\"]], context_features=[\"level\", \"class\"],\n",
    "    action_features=[\"inventory\"],\n",
    ")[\"action\"]\n",
    "\n",
    "discriminative_action.loc[:, \"inventory\"]"
   ]
  },
  {
   "cell_type": "markdown",
   "metadata": {},
   "source": [
    "### Part 2: Generative React\n",
    "\n",
    "We can also use a generative `react` to generate any number of more or less surprising inventories. We will do this generative `react` with differing levels of desired conviction to show more and less surprising examples.\n",
    "\n",
    "With higher desired conviction, we will see JSON that more closely resembles the training data.\n",
    "\n",
    "> Note: `react` is generative when `desired_conviction` is specified. See more about generative vs. discriminative reacts in the \"engine_generative_react.ipynb\" recipe. Also see the [documentation for the react method](https://docs.howso.com/api_reference/engine.html#howso.engine.Trainee.react)."
   ]
  },
  {
   "cell_type": "code",
   "execution_count": 6,
   "metadata": {
    "execution": {
     "iopub.execute_input": "2024-03-28T21:00:50.536705Z",
     "iopub.status.busy": "2024-03-28T21:00:50.536409Z",
     "iopub.status.idle": "2024-03-28T21:00:50.542268Z",
     "shell.execute_reply": "2024-03-28T21:00:50.541885Z"
    }
   },
   "outputs": [
    {
     "data": {
      "text/plain": [
       "0        {\"saddle\":1,\"trident\":2,\"potion\":5}\n",
       "1    {\"metal bar\":20,\"hammer\":1,\"potion\":{}}\n",
       "2     {\"metal bar\":20,\"hammer\":1,\"potion\":1}\n",
       "3        {\"saddle\":1,\"trident\":2,\"potion\":5}\n",
       "4     {\"metal bar\":20,\"hammer\":1,\"potion\":1}\n",
       "Name: inventory, dtype: object"
      ]
     },
     "execution_count": 6,
     "metadata": {},
     "output_type": "execute_result"
    }
   ],
   "source": [
    "generative_reaction_25 = t.react(\n",
    "    contexts=[[15, \"Warlock\"]], context_features=[\"level\", \"class\"],\n",
    "    action_features=[\"inventory\"],\n",
    "    desired_conviction=25,\n",
    "    num_cases_to_generate=5,\n",
    ")[\"action\"]\n",
    "\n",
    "generative_reaction_25.loc[:, \"inventory\"]"
   ]
  },
  {
   "cell_type": "markdown",
   "metadata": {},
   "source": [
    "With a lower desired conviction, we will see JSON that looks very different from the training data."
   ]
  },
  {
   "cell_type": "code",
   "execution_count": 7,
   "metadata": {
    "execution": {
     "iopub.execute_input": "2024-03-28T21:00:50.544090Z",
     "iopub.status.busy": "2024-03-28T21:00:50.543803Z",
     "iopub.status.idle": "2024-03-28T21:00:50.549441Z",
     "shell.execute_reply": "2024-03-28T21:00:50.549066Z"
    }
   },
   "outputs": [
    {
     "data": {
      "text/plain": [
       "0                                             {}\n",
       "1           {\"saddle\":1,\"trident\":-1,\"potion\":5}\n",
       "2       {\"metal bar\":\"S\",\"hammer\":{},\"potion\":1}\n",
       "3    {\"metal bar\":20,\"hammer\":\"cbxI\",\"potion\":1}\n",
       "4                {\"lute\":1,\"sword\":1,\"potion\":2}\n",
       "Name: inventory, dtype: object"
      ]
     },
     "execution_count": 7,
     "metadata": {},
     "output_type": "execute_result"
    }
   ],
   "source": [
    "generative_reaction_1 = t.react(\n",
    "    contexts=[[15, \"Warlock\"]], context_features=[\"level\", \"class\"],\n",
    "    action_features=[\"inventory\"],\n",
    "    desired_conviction=1,\n",
    "    num_cases_to_generate=5,\n",
    ")[\"action\"]\n",
    "\n",
    "generative_reaction_1.loc[:, \"inventory\"]"
   ]
  },
  {
   "cell_type": "markdown",
   "metadata": {},
   "source": [
    "Notably, we may see completely new strings or data types associated with JSON keys that already exist in the dataset. While this isn't a bug, this demonstrates some of the behavior that can be expected when using JSON as a feature especially in generative output from the Howso Engine."
   ]
  },
  {
   "cell_type": "code",
   "execution_count": 8,
   "metadata": {
    "execution": {
     "iopub.execute_input": "2024-03-28T21:00:50.551236Z",
     "iopub.status.busy": "2024-03-28T21:00:50.550938Z",
     "iopub.status.idle": "2024-03-28T21:00:50.560337Z",
     "shell.execute_reply": "2024-03-28T21:00:50.559922Z"
    }
   },
   "outputs": [],
   "source": [
    "t.delete()"
   ]
  },
  {
   "cell_type": "markdown",
   "metadata": {},
   "source": [
    "# Conclusion\n",
    "\n",
    "In this recipe we have shown a small demo of a dataset with a JSON feature. In this example, we have shown the Howso Engine's ability to predict values of a JSON feature effectively as well as do some generative modeling of JSON feature values. \n",
    "\n",
    "While it is not shown here, the Howso Engine also has preliminary support for YAML as a feature too.\n",
    "\n",
    "Lastly, we would like to reiterate that this feature is experimental and is not universally recommended for production deployment."
   ]
  }
 ],
 "metadata": {
  "kernelspec": {
   "display_name": "recipes-engine-3.8",
   "language": "python",
   "name": "python3"
  },
  "language_info": {
   "codemirror_mode": {
    "name": "ipython",
    "version": 3
   },
   "file_extension": ".py",
   "mimetype": "text/x-python",
   "name": "python",
   "nbconvert_exporter": "python",
   "pygments_lexer": "ipython3",
   "version": "3.11.8"
  }
 },
 "nbformat": 4,
 "nbformat_minor": 2
}
