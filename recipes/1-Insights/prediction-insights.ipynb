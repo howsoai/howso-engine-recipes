{
 "cells": [
  {
   "cell_type": "markdown",
   "metadata": {},
   "source": [
    "# Prediction Insights"
   ]
  },
  {
   "cell_type": "markdown",
   "metadata": {},
   "source": [
    "## Overview\n",
    "\n",
    "Howso Engine enables powerful predictions with complete attribution and detailed explanations to make learning from\n",
    "and debugging your data and predictions as easy as possible. For more information on predictions with Howso Engine,\n",
    "check out the [predictions user guide](https://docs.howso.com/user_guide/basic_capabilities/predictions.html)."
   ]
  },
  {
   "cell_type": "code",
   "execution_count": 1,
   "metadata": {
    "execution": {
     "iopub.execute_input": "2024-08-07T16:38:53.504919Z",
     "iopub.status.busy": "2024-08-07T16:38:53.504728Z",
     "iopub.status.idle": "2024-08-07T16:38:53.990769Z",
     "shell.execute_reply": "2024-08-07T16:38:53.990130Z"
    }
   },
   "outputs": [],
   "source": [
    "from pprint import pprint\n",
    "\n",
    "import pandas as pd\n",
    "import plotly.graph_objects as go\n",
    "import plotly.express as px\n",
    "\n",
    "from howso.engine import Trainee\n",
    "from howso.utilities import infer_feature_attributes"
   ]
  },
  {
   "cell_type": "markdown",
   "metadata": {},
   "source": [
    "## Setup\n",
    "\n",
    "This recipe will focus on the insights gained from predictions. Specifically, insights from:\n",
    "\n",
    "- Influential Cases,\n",
    "- Feature Contributions,\n",
    "- Residual and Similarity Conviction,\n",
    "- and Categorical Action Probabilities.\n",
    "\n",
    "The [basic workflow guide](https://docs.howso.com/user_guide/basic_capabilities/basic_workflow.html) covers creating a Trainee and performing a basic react in detail.\n",
    "\n",
    "### Load Data and Create Trainee"
   ]
  },
  {
   "cell_type": "code",
   "execution_count": 2,
   "metadata": {
    "execution": {
     "iopub.execute_input": "2024-08-07T16:38:53.993909Z",
     "iopub.status.busy": "2024-08-07T16:38:53.993632Z",
     "iopub.status.idle": "2024-08-07T16:38:54.450825Z",
     "shell.execute_reply": "2024-08-07T16:38:54.450073Z"
    }
   },
   "outputs": [
    {
     "name": "stderr",
     "output_type": "stream",
     "text": [
      "Version 29.0.0 of Howso Engine™ is available. You are using version 28.0.4.dev3+g0840d31.\n",
      "The following parameters from your configuration will override the default Amalgam parameters: {'library_path'}\n"
     ]
    },
    {
     "data": {
      "text/html": [
       "<div>\n",
       "<style scoped>\n",
       "    .dataframe tbody tr th:only-of-type {\n",
       "        vertical-align: middle;\n",
       "    }\n",
       "\n",
       "    .dataframe tbody tr th {\n",
       "        vertical-align: top;\n",
       "    }\n",
       "\n",
       "    .dataframe thead th {\n",
       "        text-align: right;\n",
       "    }\n",
       "</style>\n",
       "<table border=\"1\" class=\"dataframe\">\n",
       "  <thead>\n",
       "    <tr style=\"text-align: right;\">\n",
       "      <th></th>\n",
       "      <th>Unnamed: 0</th>\n",
       "      <th>sepal length</th>\n",
       "      <th>sepal width</th>\n",
       "      <th>petal length</th>\n",
       "      <th>petal width</th>\n",
       "      <th>class</th>\n",
       "    </tr>\n",
       "  </thead>\n",
       "  <tbody>\n",
       "    <tr>\n",
       "      <th>0</th>\n",
       "      <td>27</td>\n",
       "      <td>5.2</td>\n",
       "      <td>3.5</td>\n",
       "      <td>1.5</td>\n",
       "      <td>0.2</td>\n",
       "      <td>Iris-setosa</td>\n",
       "    </tr>\n",
       "    <tr>\n",
       "      <th>1</th>\n",
       "      <td>14</td>\n",
       "      <td>5.8</td>\n",
       "      <td>4.0</td>\n",
       "      <td>1.2</td>\n",
       "      <td>0.2</td>\n",
       "      <td>Iris-setosa</td>\n",
       "    </tr>\n",
       "    <tr>\n",
       "      <th>2</th>\n",
       "      <td>25</td>\n",
       "      <td>5.0</td>\n",
       "      <td>3.0</td>\n",
       "      <td>1.6</td>\n",
       "      <td>0.2</td>\n",
       "      <td>Iris-setosa</td>\n",
       "    </tr>\n",
       "    <tr>\n",
       "      <th>3</th>\n",
       "      <td>82</td>\n",
       "      <td>5.8</td>\n",
       "      <td>2.7</td>\n",
       "      <td>3.9</td>\n",
       "      <td>1.2</td>\n",
       "      <td>Iris-versicolor</td>\n",
       "    </tr>\n",
       "    <tr>\n",
       "      <th>4</th>\n",
       "      <td>97</td>\n",
       "      <td>6.2</td>\n",
       "      <td>2.9</td>\n",
       "      <td>4.3</td>\n",
       "      <td>1.3</td>\n",
       "      <td>Iris-versicolor</td>\n",
       "    </tr>\n",
       "    <tr>\n",
       "      <th>...</th>\n",
       "      <td>...</td>\n",
       "      <td>...</td>\n",
       "      <td>...</td>\n",
       "      <td>...</td>\n",
       "      <td>...</td>\n",
       "      <td>...</td>\n",
       "    </tr>\n",
       "    <tr>\n",
       "      <th>145</th>\n",
       "      <td>126</td>\n",
       "      <td>6.2</td>\n",
       "      <td>2.8</td>\n",
       "      <td>4.8</td>\n",
       "      <td>1.8</td>\n",
       "      <td>Iris-virginica</td>\n",
       "    </tr>\n",
       "    <tr>\n",
       "      <th>146</th>\n",
       "      <td>124</td>\n",
       "      <td>6.7</td>\n",
       "      <td>3.3</td>\n",
       "      <td>5.7</td>\n",
       "      <td>2.1</td>\n",
       "      <td>Iris-virginica</td>\n",
       "    </tr>\n",
       "    <tr>\n",
       "      <th>147</th>\n",
       "      <td>78</td>\n",
       "      <td>6.0</td>\n",
       "      <td>2.9</td>\n",
       "      <td>4.5</td>\n",
       "      <td>1.5</td>\n",
       "      <td>Iris-versicolor</td>\n",
       "    </tr>\n",
       "    <tr>\n",
       "      <th>148</th>\n",
       "      <td>125</td>\n",
       "      <td>7.2</td>\n",
       "      <td>3.2</td>\n",
       "      <td>6.0</td>\n",
       "      <td>1.8</td>\n",
       "      <td>Iris-virginica</td>\n",
       "    </tr>\n",
       "    <tr>\n",
       "      <th>149</th>\n",
       "      <td>130</td>\n",
       "      <td>7.4</td>\n",
       "      <td>2.8</td>\n",
       "      <td>6.1</td>\n",
       "      <td>1.9</td>\n",
       "      <td>Iris-virginica</td>\n",
       "    </tr>\n",
       "  </tbody>\n",
       "</table>\n",
       "<p>150 rows × 6 columns</p>\n",
       "</div>"
      ],
      "text/plain": [
       "     Unnamed: 0  sepal length  sepal width  petal length  petal width  \\\n",
       "0            27           5.2          3.5           1.5          0.2   \n",
       "1            14           5.8          4.0           1.2          0.2   \n",
       "2            25           5.0          3.0           1.6          0.2   \n",
       "3            82           5.8          2.7           3.9          1.2   \n",
       "4            97           6.2          2.9           4.3          1.3   \n",
       "..          ...           ...          ...           ...          ...   \n",
       "145         126           6.2          2.8           4.8          1.8   \n",
       "146         124           6.7          3.3           5.7          2.1   \n",
       "147          78           6.0          2.9           4.5          1.5   \n",
       "148         125           7.2          3.2           6.0          1.8   \n",
       "149         130           7.4          2.8           6.1          1.9   \n",
       "\n",
       "               class  \n",
       "0        Iris-setosa  \n",
       "1        Iris-setosa  \n",
       "2        Iris-setosa  \n",
       "3    Iris-versicolor  \n",
       "4    Iris-versicolor  \n",
       "..               ...  \n",
       "145   Iris-virginica  \n",
       "146   Iris-virginica  \n",
       "147  Iris-versicolor  \n",
       "148   Iris-virginica  \n",
       "149   Iris-virginica  \n",
       "\n",
       "[150 rows x 6 columns]"
      ]
     },
     "execution_count": 2,
     "metadata": {},
     "output_type": "execute_result"
    }
   ],
   "source": [
    "df = pd.read_csv(\"../../data/iris/iris.tsv.gz\", sep=\"\\t\", compression=\"gzip\")\n",
    "train_data = df.iloc[:-30]\n",
    "new_data = df[~df.index.isin(train_data.index)]\n",
    "features = infer_feature_attributes(train_data)\n",
    "\n",
    "t = Trainee(features=features)\n",
    "\n",
    "df"
   ]
  },
  {
   "cell_type": "markdown",
   "metadata": {},
   "source": [
    "### Train, Analyze, and React"
   ]
  },
  {
   "cell_type": "code",
   "execution_count": 3,
   "metadata": {
    "execution": {
     "iopub.execute_input": "2024-08-07T16:38:54.484998Z",
     "iopub.status.busy": "2024-08-07T16:38:54.484767Z",
     "iopub.status.idle": "2024-08-07T16:39:16.065169Z",
     "shell.execute_reply": "2024-08-07T16:39:16.064556Z"
    }
   },
   "outputs": [],
   "source": [
    "t.train(train_data)\n",
    "t.analyze()\n",
    "t.react_into_features(similarity_conviction=True)\n",
    "\n",
    "reaction = t.react(\n",
    "    contexts=new_data,\n",
    "    context_features=[\"sepal length\", \"sepal width\", \"petal length\", \"petal width\"],\n",
    "    action_features=[\"class\"],\n",
    "    details={\n",
    "        \"influential_cases\": True,\n",
    "        \"similarity_conviction\": True,\n",
    "        \"feature_contributions_robust\": True,\n",
    "        \"feature_residuals_robust\": True,\n",
    "        \"case_feature_residual_convictions_robust\": True,\n",
    "        \"categorical_action_probabilities\": True,\n",
    "    }\n",
    ")"
   ]
  },
  {
   "cell_type": "markdown",
   "metadata": {},
   "source": [
    "Note that, unlike in the basic workflow guide, we include several `details` in the react call and predict multiple cases as opposed to one. These are what will enable the\n",
    "insights that we're going to get after the predictions are made.\n",
    "\n",
    "For more information, see [the API documentation for `Trainee.react()`](https://docs.howso.com/api_reference/_autosummary/howso.engine.html#howso.engine.Trainee.react)."
   ]
  },
  {
   "cell_type": "markdown",
   "metadata": {},
   "source": [
    "### Inspect the Predictions\n",
    "\n",
    "Howso Engine has high accuracy even on small datasets.\n",
    "\n",
    "Here we see a comparison of the trained data (dots) and the predicted data (stars). This plot shows that the predictions align well with the trained data."
   ]
  },
  {
   "cell_type": "code",
   "execution_count": 4,
   "metadata": {
    "execution": {
     "iopub.execute_input": "2024-08-07T16:39:16.068484Z",
     "iopub.status.busy": "2024-08-07T16:39:16.068069Z",
     "iopub.status.idle": "2024-08-07T16:39:16.260478Z",
     "shell.execute_reply": "2024-08-07T16:39:16.259778Z"
    }
   },
   "outputs": [
    {
     "data": {
      "application/vnd.plotly.v1+json": {
       "config": {
        "plotlyServerURL": "https://plot.ly"
       },
       "data": [
        {
         "legendgroup": "trained",
         "legendgrouptitle": {
          "text": "Trained class"
         },
         "marker": {
          "color": "#1F77B4",
          "opacity": 0.75
         },
         "mode": "markers",
         "name": "Iris-setosa",
         "type": "scatter",
         "x": [
          1.5,
          1.2,
          1.6,
          1.7,
          1.7,
          1.5,
          1.6,
          1.3,
          1.6,
          1.4,
          1,
          1.5,
          1.4,
          1.3,
          1.7,
          1.4,
          1.3,
          1.5,
          1.4,
          1.1,
          1.4,
          1.2,
          1.9,
          1.6,
          1.5,
          1.9,
          1.5,
          1.5,
          1.5,
          1.3,
          1.4,
          1.6,
          1.4,
          1.6,
          1.4,
          1.5,
          1.5,
          1.6,
          1.5,
          1.4,
          1.3,
          1.7,
          1.5
         ],
         "y": [
          0.2,
          0.2,
          0.2,
          0.2,
          0.3,
          0.4,
          0.6,
          0.4,
          0.2,
          0.2,
          0.2,
          0.3,
          0.2,
          0.3,
          0.4,
          0.3,
          0.3,
          0.1,
          0.3,
          0.1,
          0.1,
          0.2,
          0.2,
          0.4,
          0.1,
          0.4,
          0.2,
          0.2,
          0.2,
          0.2,
          0.2,
          0.2,
          0.2,
          0.2,
          0.3,
          0.2,
          0.1,
          0.2,
          0.2,
          0.2,
          0.2,
          0.5,
          0.4
         ]
        },
        {
         "legendgroup": "trained",
         "legendgrouptitle": {
          "text": "Trained class"
         },
         "marker": {
          "color": "#FF7F0E",
          "opacity": 0.75
         },
         "mode": "markers",
         "name": "Iris-versicolor",
         "type": "scatter",
         "x": [
          3.9,
          4.3,
          4.8,
          3,
          4.2,
          5,
          3.7,
          4.7,
          4.7,
          4.6,
          4.6,
          4,
          4.4,
          4.6,
          4.5,
          3.3,
          4.5,
          4.8,
          4.5,
          4.5,
          4.9,
          3.5,
          4.1,
          4,
          4.5,
          4.7,
          3.3,
          3.9,
          4.2,
          3.9,
          4.7,
          4.3,
          3.5,
          4.9,
          3.6,
          3.8,
          4.4,
          4.2,
          4.7,
          4.1
         ],
         "y": [
          1.2,
          1.3,
          1.8,
          1.1,
          1.3,
          1.7,
          1,
          1.6,
          1.4,
          1.5,
          1.4,
          1.3,
          1.4,
          1.3,
          1.6,
          1,
          1.5,
          1.4,
          1.3,
          1.5,
          1.5,
          1,
          1,
          1.3,
          1.5,
          1.4,
          1,
          1.1,
          1.3,
          1.4,
          1.2,
          1.3,
          1,
          1.5,
          1.3,
          1.1,
          1.2,
          1.2,
          1.5,
          1.3
         ]
        },
        {
         "legendgroup": "trained",
         "legendgrouptitle": {
          "text": "Trained class"
         },
         "marker": {
          "color": "#2CA02C",
          "opacity": 0.75
         },
         "mode": "markers",
         "name": "Iris-virginica",
         "type": "scatter",
         "x": [
          5.5,
          5.1,
          5.2,
          4.9,
          6,
          5.6,
          5.2,
          6.7,
          6.9,
          5.9,
          6.3,
          5.9,
          5,
          5.6,
          5.1,
          5.8,
          5.6,
          6.1,
          5.6,
          6.1,
          5.5,
          6.6,
          5.7,
          5.8,
          5.1,
          6.4,
          6.7,
          5.5,
          5.6,
          4.9,
          5.7,
          5.1,
          5.4,
          5.3,
          5.4,
          4.9,
          5.3
         ],
         "y": [
          1.8,
          1.8,
          2,
          2,
          2.5,
          2.4,
          2.3,
          2.2,
          2.3,
          2.3,
          1.8,
          2.1,
          1.5,
          2.1,
          1.9,
          1.6,
          2.2,
          2.5,
          1.8,
          2.3,
          1.8,
          2.1,
          2.3,
          2.2,
          2.4,
          2,
          2,
          2.1,
          2.4,
          1.8,
          2.5,
          1.5,
          2.3,
          1.9,
          2.1,
          1.8,
          2.3
         ]
        },
        {
         "hovertext": [
          6,
          12,
          15,
          16,
          20,
          23,
          24
         ],
         "legendgroup": "predicted",
         "legendgrouptitle": {
          "text": "Predicted class"
         },
         "marker": {
          "color": "#1F77B4",
          "opacity": 0.75,
          "size": 12,
          "symbol": "star"
         },
         "mode": "markers",
         "name": "Iris-setosa",
         "type": "scatter",
         "x": [
          1.4,
          1.5,
          1.4,
          1.3,
          1.5,
          1.4,
          1.3
         ],
         "y": [
          0.2,
          0.1,
          0.2,
          0.2,
          0.4,
          0.2,
          0.2
         ]
        },
        {
         "hovertext": [
          0,
          4,
          5,
          8,
          9,
          11,
          14,
          19,
          21,
          22,
          27
         ],
         "legendgroup": "predicted",
         "legendgrouptitle": {
          "text": "Predicted class"
         },
         "marker": {
          "color": "#FF7F0E",
          "opacity": 0.75,
          "size": 12,
          "symbol": "star"
         },
         "mode": "markers",
         "name": "Iris-versicolor",
         "type": "scatter",
         "x": [
          4.4,
          5.6,
          4.1,
          4.4,
          4,
          4.5,
          4.2,
          4.5,
          4,
          4,
          4.5
         ],
         "y": [
          1.4,
          1.4,
          1.3,
          1.3,
          1.3,
          1.5,
          1.5,
          1.7,
          1.2,
          1,
          1.5
         ]
        },
        {
         "hovertext": [
          1,
          2,
          3,
          7,
          10,
          13,
          17,
          18,
          25,
          26,
          28,
          29
         ],
         "legendgroup": "predicted",
         "legendgrouptitle": {
          "text": "Predicted class"
         },
         "marker": {
          "color": "#2CA02C",
          "opacity": 0.75,
          "size": 12,
          "symbol": "star"
         },
         "mode": "markers",
         "name": "Iris-virginica",
         "type": "scatter",
         "x": [
          5,
          5.1,
          5,
          5.1,
          5.1,
          5.1,
          4.8,
          5.8,
          4.8,
          5.7,
          6,
          6.1
         ],
         "y": [
          1.9,
          2.3,
          2,
          2,
          1.9,
          1.6,
          1.8,
          1.8,
          1.8,
          2.1,
          1.8,
          1.9
         ]
        }
       ],
       "layout": {
        "template": {
         "data": {
          "bar": [
           {
            "error_x": {
             "color": "#2a3f5f"
            },
            "error_y": {
             "color": "#2a3f5f"
            },
            "marker": {
             "line": {
              "color": "#E5ECF6",
              "width": 0.5
             },
             "pattern": {
              "fillmode": "overlay",
              "size": 10,
              "solidity": 0.2
             }
            },
            "type": "bar"
           }
          ],
          "barpolar": [
           {
            "marker": {
             "line": {
              "color": "#E5ECF6",
              "width": 0.5
             },
             "pattern": {
              "fillmode": "overlay",
              "size": 10,
              "solidity": 0.2
             }
            },
            "type": "barpolar"
           }
          ],
          "carpet": [
           {
            "aaxis": {
             "endlinecolor": "#2a3f5f",
             "gridcolor": "white",
             "linecolor": "white",
             "minorgridcolor": "white",
             "startlinecolor": "#2a3f5f"
            },
            "baxis": {
             "endlinecolor": "#2a3f5f",
             "gridcolor": "white",
             "linecolor": "white",
             "minorgridcolor": "white",
             "startlinecolor": "#2a3f5f"
            },
            "type": "carpet"
           }
          ],
          "choropleth": [
           {
            "colorbar": {
             "outlinewidth": 0,
             "ticks": ""
            },
            "type": "choropleth"
           }
          ],
          "contour": [
           {
            "colorbar": {
             "outlinewidth": 0,
             "ticks": ""
            },
            "colorscale": [
             [
              0,
              "#0d0887"
             ],
             [
              0.1111111111111111,
              "#46039f"
             ],
             [
              0.2222222222222222,
              "#7201a8"
             ],
             [
              0.3333333333333333,
              "#9c179e"
             ],
             [
              0.4444444444444444,
              "#bd3786"
             ],
             [
              0.5555555555555556,
              "#d8576b"
             ],
             [
              0.6666666666666666,
              "#ed7953"
             ],
             [
              0.7777777777777778,
              "#fb9f3a"
             ],
             [
              0.8888888888888888,
              "#fdca26"
             ],
             [
              1,
              "#f0f921"
             ]
            ],
            "type": "contour"
           }
          ],
          "contourcarpet": [
           {
            "colorbar": {
             "outlinewidth": 0,
             "ticks": ""
            },
            "type": "contourcarpet"
           }
          ],
          "heatmap": [
           {
            "colorbar": {
             "outlinewidth": 0,
             "ticks": ""
            },
            "colorscale": [
             [
              0,
              "#0d0887"
             ],
             [
              0.1111111111111111,
              "#46039f"
             ],
             [
              0.2222222222222222,
              "#7201a8"
             ],
             [
              0.3333333333333333,
              "#9c179e"
             ],
             [
              0.4444444444444444,
              "#bd3786"
             ],
             [
              0.5555555555555556,
              "#d8576b"
             ],
             [
              0.6666666666666666,
              "#ed7953"
             ],
             [
              0.7777777777777778,
              "#fb9f3a"
             ],
             [
              0.8888888888888888,
              "#fdca26"
             ],
             [
              1,
              "#f0f921"
             ]
            ],
            "type": "heatmap"
           }
          ],
          "heatmapgl": [
           {
            "colorbar": {
             "outlinewidth": 0,
             "ticks": ""
            },
            "colorscale": [
             [
              0,
              "#0d0887"
             ],
             [
              0.1111111111111111,
              "#46039f"
             ],
             [
              0.2222222222222222,
              "#7201a8"
             ],
             [
              0.3333333333333333,
              "#9c179e"
             ],
             [
              0.4444444444444444,
              "#bd3786"
             ],
             [
              0.5555555555555556,
              "#d8576b"
             ],
             [
              0.6666666666666666,
              "#ed7953"
             ],
             [
              0.7777777777777778,
              "#fb9f3a"
             ],
             [
              0.8888888888888888,
              "#fdca26"
             ],
             [
              1,
              "#f0f921"
             ]
            ],
            "type": "heatmapgl"
           }
          ],
          "histogram": [
           {
            "marker": {
             "pattern": {
              "fillmode": "overlay",
              "size": 10,
              "solidity": 0.2
             }
            },
            "type": "histogram"
           }
          ],
          "histogram2d": [
           {
            "colorbar": {
             "outlinewidth": 0,
             "ticks": ""
            },
            "colorscale": [
             [
              0,
              "#0d0887"
             ],
             [
              0.1111111111111111,
              "#46039f"
             ],
             [
              0.2222222222222222,
              "#7201a8"
             ],
             [
              0.3333333333333333,
              "#9c179e"
             ],
             [
              0.4444444444444444,
              "#bd3786"
             ],
             [
              0.5555555555555556,
              "#d8576b"
             ],
             [
              0.6666666666666666,
              "#ed7953"
             ],
             [
              0.7777777777777778,
              "#fb9f3a"
             ],
             [
              0.8888888888888888,
              "#fdca26"
             ],
             [
              1,
              "#f0f921"
             ]
            ],
            "type": "histogram2d"
           }
          ],
          "histogram2dcontour": [
           {
            "colorbar": {
             "outlinewidth": 0,
             "ticks": ""
            },
            "colorscale": [
             [
              0,
              "#0d0887"
             ],
             [
              0.1111111111111111,
              "#46039f"
             ],
             [
              0.2222222222222222,
              "#7201a8"
             ],
             [
              0.3333333333333333,
              "#9c179e"
             ],
             [
              0.4444444444444444,
              "#bd3786"
             ],
             [
              0.5555555555555556,
              "#d8576b"
             ],
             [
              0.6666666666666666,
              "#ed7953"
             ],
             [
              0.7777777777777778,
              "#fb9f3a"
             ],
             [
              0.8888888888888888,
              "#fdca26"
             ],
             [
              1,
              "#f0f921"
             ]
            ],
            "type": "histogram2dcontour"
           }
          ],
          "mesh3d": [
           {
            "colorbar": {
             "outlinewidth": 0,
             "ticks": ""
            },
            "type": "mesh3d"
           }
          ],
          "parcoords": [
           {
            "line": {
             "colorbar": {
              "outlinewidth": 0,
              "ticks": ""
             }
            },
            "type": "parcoords"
           }
          ],
          "pie": [
           {
            "automargin": true,
            "type": "pie"
           }
          ],
          "scatter": [
           {
            "fillpattern": {
             "fillmode": "overlay",
             "size": 10,
             "solidity": 0.2
            },
            "type": "scatter"
           }
          ],
          "scatter3d": [
           {
            "line": {
             "colorbar": {
              "outlinewidth": 0,
              "ticks": ""
             }
            },
            "marker": {
             "colorbar": {
              "outlinewidth": 0,
              "ticks": ""
             }
            },
            "type": "scatter3d"
           }
          ],
          "scattercarpet": [
           {
            "marker": {
             "colorbar": {
              "outlinewidth": 0,
              "ticks": ""
             }
            },
            "type": "scattercarpet"
           }
          ],
          "scattergeo": [
           {
            "marker": {
             "colorbar": {
              "outlinewidth": 0,
              "ticks": ""
             }
            },
            "type": "scattergeo"
           }
          ],
          "scattergl": [
           {
            "marker": {
             "colorbar": {
              "outlinewidth": 0,
              "ticks": ""
             }
            },
            "type": "scattergl"
           }
          ],
          "scattermapbox": [
           {
            "marker": {
             "colorbar": {
              "outlinewidth": 0,
              "ticks": ""
             }
            },
            "type": "scattermapbox"
           }
          ],
          "scatterpolar": [
           {
            "marker": {
             "colorbar": {
              "outlinewidth": 0,
              "ticks": ""
             }
            },
            "type": "scatterpolar"
           }
          ],
          "scatterpolargl": [
           {
            "marker": {
             "colorbar": {
              "outlinewidth": 0,
              "ticks": ""
             }
            },
            "type": "scatterpolargl"
           }
          ],
          "scatterternary": [
           {
            "marker": {
             "colorbar": {
              "outlinewidth": 0,
              "ticks": ""
             }
            },
            "type": "scatterternary"
           }
          ],
          "surface": [
           {
            "colorbar": {
             "outlinewidth": 0,
             "ticks": ""
            },
            "colorscale": [
             [
              0,
              "#0d0887"
             ],
             [
              0.1111111111111111,
              "#46039f"
             ],
             [
              0.2222222222222222,
              "#7201a8"
             ],
             [
              0.3333333333333333,
              "#9c179e"
             ],
             [
              0.4444444444444444,
              "#bd3786"
             ],
             [
              0.5555555555555556,
              "#d8576b"
             ],
             [
              0.6666666666666666,
              "#ed7953"
             ],
             [
              0.7777777777777778,
              "#fb9f3a"
             ],
             [
              0.8888888888888888,
              "#fdca26"
             ],
             [
              1,
              "#f0f921"
             ]
            ],
            "type": "surface"
           }
          ],
          "table": [
           {
            "cells": {
             "fill": {
              "color": "#EBF0F8"
             },
             "line": {
              "color": "white"
             }
            },
            "header": {
             "fill": {
              "color": "#C8D4E3"
             },
             "line": {
              "color": "white"
             }
            },
            "type": "table"
           }
          ]
         },
         "layout": {
          "annotationdefaults": {
           "arrowcolor": "#2a3f5f",
           "arrowhead": 0,
           "arrowwidth": 1
          },
          "autotypenumbers": "strict",
          "coloraxis": {
           "colorbar": {
            "outlinewidth": 0,
            "ticks": ""
           }
          },
          "colorscale": {
           "diverging": [
            [
             0,
             "#8e0152"
            ],
            [
             0.1,
             "#c51b7d"
            ],
            [
             0.2,
             "#de77ae"
            ],
            [
             0.3,
             "#f1b6da"
            ],
            [
             0.4,
             "#fde0ef"
            ],
            [
             0.5,
             "#f7f7f7"
            ],
            [
             0.6,
             "#e6f5d0"
            ],
            [
             0.7,
             "#b8e186"
            ],
            [
             0.8,
             "#7fbc41"
            ],
            [
             0.9,
             "#4d9221"
            ],
            [
             1,
             "#276419"
            ]
           ],
           "sequential": [
            [
             0,
             "#0d0887"
            ],
            [
             0.1111111111111111,
             "#46039f"
            ],
            [
             0.2222222222222222,
             "#7201a8"
            ],
            [
             0.3333333333333333,
             "#9c179e"
            ],
            [
             0.4444444444444444,
             "#bd3786"
            ],
            [
             0.5555555555555556,
             "#d8576b"
            ],
            [
             0.6666666666666666,
             "#ed7953"
            ],
            [
             0.7777777777777778,
             "#fb9f3a"
            ],
            [
             0.8888888888888888,
             "#fdca26"
            ],
            [
             1,
             "#f0f921"
            ]
           ],
           "sequentialminus": [
            [
             0,
             "#0d0887"
            ],
            [
             0.1111111111111111,
             "#46039f"
            ],
            [
             0.2222222222222222,
             "#7201a8"
            ],
            [
             0.3333333333333333,
             "#9c179e"
            ],
            [
             0.4444444444444444,
             "#bd3786"
            ],
            [
             0.5555555555555556,
             "#d8576b"
            ],
            [
             0.6666666666666666,
             "#ed7953"
            ],
            [
             0.7777777777777778,
             "#fb9f3a"
            ],
            [
             0.8888888888888888,
             "#fdca26"
            ],
            [
             1,
             "#f0f921"
            ]
           ]
          },
          "colorway": [
           "#636efa",
           "#EF553B",
           "#00cc96",
           "#ab63fa",
           "#FFA15A",
           "#19d3f3",
           "#FF6692",
           "#B6E880",
           "#FF97FF",
           "#FECB52"
          ],
          "font": {
           "color": "#2a3f5f"
          },
          "geo": {
           "bgcolor": "white",
           "lakecolor": "white",
           "landcolor": "#E5ECF6",
           "showlakes": true,
           "showland": true,
           "subunitcolor": "white"
          },
          "hoverlabel": {
           "align": "left"
          },
          "hovermode": "closest",
          "mapbox": {
           "style": "light"
          },
          "paper_bgcolor": "white",
          "plot_bgcolor": "#E5ECF6",
          "polar": {
           "angularaxis": {
            "gridcolor": "white",
            "linecolor": "white",
            "ticks": ""
           },
           "bgcolor": "#E5ECF6",
           "radialaxis": {
            "gridcolor": "white",
            "linecolor": "white",
            "ticks": ""
           }
          },
          "scene": {
           "xaxis": {
            "backgroundcolor": "#E5ECF6",
            "gridcolor": "white",
            "gridwidth": 2,
            "linecolor": "white",
            "showbackground": true,
            "ticks": "",
            "zerolinecolor": "white"
           },
           "yaxis": {
            "backgroundcolor": "#E5ECF6",
            "gridcolor": "white",
            "gridwidth": 2,
            "linecolor": "white",
            "showbackground": true,
            "ticks": "",
            "zerolinecolor": "white"
           },
           "zaxis": {
            "backgroundcolor": "#E5ECF6",
            "gridcolor": "white",
            "gridwidth": 2,
            "linecolor": "white",
            "showbackground": true,
            "ticks": "",
            "zerolinecolor": "white"
           }
          },
          "shapedefaults": {
           "line": {
            "color": "#2a3f5f"
           }
          },
          "ternary": {
           "aaxis": {
            "gridcolor": "white",
            "linecolor": "white",
            "ticks": ""
           },
           "baxis": {
            "gridcolor": "white",
            "linecolor": "white",
            "ticks": ""
           },
           "bgcolor": "#E5ECF6",
           "caxis": {
            "gridcolor": "white",
            "linecolor": "white",
            "ticks": ""
           }
          },
          "title": {
           "x": 0.05
          },
          "xaxis": {
           "automargin": true,
           "gridcolor": "white",
           "linecolor": "white",
           "ticks": "",
           "title": {
            "standoff": 15
           },
           "zerolinecolor": "white",
           "zerolinewidth": 2
          },
          "yaxis": {
           "automargin": true,
           "gridcolor": "white",
           "linecolor": "white",
           "ticks": "",
           "title": {
            "standoff": 15
           },
           "zerolinecolor": "white",
           "zerolinewidth": 2
          }
         }
        },
        "title": {
         "text": "Trained and Predicted Values"
        },
        "width": 1250,
        "xaxis": {
         "title": {
          "text": "Petal Length"
         }
        },
        "yaxis": {
         "title": {
          "text": "Petal Width"
         }
        }
       }
      }
     },
     "metadata": {},
     "output_type": "display_data"
    }
   ],
   "source": [
    "train_data = train_data.astype({\"class\": str})\n",
    "predicted_data = pd.concat([new_data.reset_index(drop=True).drop(columns=\"class\"), reaction[\"action\"]], axis=1)\n",
    "predicted_data = predicted_data.astype({\"class\": str})\n",
    "\n",
    "cmap = px.colors.qualitative.D3\n",
    "fig = go.Figure()\n",
    "for i, (label, group) in enumerate(train_data.groupby(\"class\")):\n",
    "    fig.add_trace(go.Scatter(\n",
    "        x=group[\"petal length\"],\n",
    "        y=group[\"petal width\"],\n",
    "        mode=\"markers\",\n",
    "        name=label,\n",
    "        marker=dict(color=cmap[i], opacity=0.75),\n",
    "        legendgroup=\"trained\",\n",
    "        legendgrouptitle_text=\"Trained class\",\n",
    "    ))\n",
    "\n",
    "for i, (label, group) in enumerate(predicted_data.groupby(\"class\")):\n",
    "    fig.add_trace(go.Scatter(\n",
    "        x=group[\"petal length\"],\n",
    "        y=group[\"petal width\"],\n",
    "        mode=\"markers\",\n",
    "        marker=dict(size=12, symbol=\"star\", color=cmap[i], opacity=0.75),\n",
    "        name=label,\n",
    "        legendgroup=\"predicted\",\n",
    "        legendgrouptitle_text=\"Predicted class\",\n",
    "        hovertext=group.index,\n",
    "    ))\n",
    "\n",
    "fig.update_layout(\n",
    "    xaxis_title=\"Petal Length\",\n",
    "    yaxis_title=\"Petal Width\",\n",
    "    width=1250,\n",
    "    title=\"Trained and Predicted Values\"\n",
    ")\n",
    "fig.show()"
   ]
  },
  {
   "cell_type": "markdown",
   "metadata": {},
   "source": [
    "For categorical action features, the prediction can be further understood with the `categorical_action_probabilities` detail.  \n",
    "This shows the probability of each possible value of the target feature. This information can highlight cases that are on the\n",
    "border of two classes, like some of the above points are.  The closer a case gets to a class border, the more mixed the\n",
    "categorical action probabilities may get."
   ]
  },
  {
   "cell_type": "code",
   "execution_count": 5,
   "metadata": {
    "execution": {
     "iopub.execute_input": "2024-08-07T16:39:16.301609Z",
     "iopub.status.busy": "2024-08-07T16:39:16.301121Z",
     "iopub.status.idle": "2024-08-07T16:39:16.306302Z",
     "shell.execute_reply": "2024-08-07T16:39:16.305757Z"
    }
   },
   "outputs": [
    {
     "name": "stdout",
     "output_type": "stream",
     "text": [
      "[{'class': {'Iris-versicolor': 1}},\n",
      " {'class': {'Iris-versicolor': 0.25952490046481064,\n",
      "            'Iris-virginica': 0.7404750995351893}},\n",
      " {'class': {'Iris-versicolor': 0.10794027518981379,\n",
      "            'Iris-virginica': 0.8920597248101862}},\n",
      " {'class': {'Iris-versicolor': 0.2256381480374078,\n",
      "            'Iris-virginica': 0.7743618519625921}},\n",
      " {'class': {'Iris-versicolor': 0.5287223876453855,\n",
      "            'Iris-virginica': 0.4712776123546145}},\n",
      " {'class': {'Iris-versicolor': 1}}, {'class': {'Iris-setosa': 1}},\n",
      " {'class': {'Iris-versicolor': 0.15892608747806253,\n",
      "            'Iris-virginica': 0.8410739125219374}},\n",
      " {'class': {'Iris-versicolor': 1}}, {'class': {'Iris-versicolor': 1}},\n",
      " {'class': {'Iris-virginica': 1}}, {'class': {'Iris-versicolor': 1}},\n",
      " {'class': {'Iris-setosa': 1}},\n",
      " {'class': {'Iris-versicolor': 0.2803981410398354,\n",
      "            'Iris-virginica': 0.7196018589601646}},\n",
      " {'class': {'Iris-versicolor': 0.9324891884259178,\n",
      "            'Iris-virginica': 0.06751081157408216}},\n",
      " {'class': {'Iris-setosa': 1}}, {'class': {'Iris-setosa': 1}},\n",
      " {'class': {'Iris-versicolor': 0.34847175782755335,\n",
      "            'Iris-virginica': 0.6515282421724466}},\n",
      " {'class': {'Iris-versicolor': 0.1406979584401293,\n",
      "            'Iris-virginica': 0.8593020415598707}},\n",
      " {'class': {'Iris-versicolor': 0.9362031941325811,\n",
      "            'Iris-virginica': 0.06379680586741891}},\n",
      " {'class': {'Iris-setosa': 1}}, {'class': {'Iris-versicolor': 1}},\n",
      " {'class': {'Iris-versicolor': 0.9190218225691434,\n",
      "            'Iris-virginica': 0.08097817743085658}},\n",
      " {'class': {'Iris-setosa': 1}}, {'class': {'Iris-setosa': 1}},\n",
      " {'class': {'Iris-versicolor': 0.3380099667993087,\n",
      "            'Iris-virginica': 0.6619900332006912}},\n",
      " {'class': {'Iris-virginica': 1}},\n",
      " {'class': {'Iris-versicolor': 0.9478586839216157,\n",
      "            'Iris-virginica': 0.05214131607838434}},\n",
      " {'class': {'Iris-versicolor': 0.1134599540040269,\n",
      "            'Iris-virginica': 0.8865400459959731}},\n",
      " {'class': {'Iris-virginica': 1}}]\n"
     ]
    }
   ],
   "source": [
    "pprint(reaction[\"details\"][\"categorical_action_probabilities\"], compact=True)"
   ]
  },
  {
   "cell_type": "markdown",
   "metadata": {},
   "source": [
    "For example, if we look at case `4`, we see a mix of probabilities because this case is on the border of two classes."
   ]
  },
  {
   "cell_type": "code",
   "execution_count": 6,
   "metadata": {
    "execution": {
     "iopub.execute_input": "2024-08-07T16:39:16.308759Z",
     "iopub.status.busy": "2024-08-07T16:39:16.308363Z",
     "iopub.status.idle": "2024-08-07T16:39:16.312328Z",
     "shell.execute_reply": "2024-08-07T16:39:16.311860Z"
    }
   },
   "outputs": [
    {
     "data": {
      "text/plain": [
       "{'class': {'Iris-versicolor': 0.5287223876453855,\n",
       "  'Iris-virginica': 0.4712776123546145}}"
      ]
     },
     "execution_count": 6,
     "metadata": {},
     "output_type": "execute_result"
    }
   ],
   "source": [
    "reaction[\"details\"][\"categorical_action_probabilities\"][4]"
   ]
  },
  {
   "cell_type": "markdown",
   "metadata": {},
   "source": [
    "### Insight 1: Which Cases Contributed?\n",
    "\n",
    "Howso provides complete attribution for any and all predictions, showing exactly which cases influenced each prediction.  This can be used to understand or debug predictions.  For instance,\n",
    "we can inspect the influential cases for one of the cases (case `4`) that was on the decision boundary in the plot above.  We can see that there is a mix of class values and no cases stand\n",
    "out in terms of influence weight:"
   ]
  },
  {
   "cell_type": "code",
   "execution_count": 7,
   "metadata": {
    "execution": {
     "iopub.execute_input": "2024-08-07T16:39:16.314958Z",
     "iopub.status.busy": "2024-08-07T16:39:16.314465Z",
     "iopub.status.idle": "2024-08-07T16:39:16.326295Z",
     "shell.execute_reply": "2024-08-07T16:39:16.325781Z"
    }
   },
   "outputs": [
    {
     "data": {
      "text/html": [
       "<div>\n",
       "<style scoped>\n",
       "    .dataframe tbody tr th:only-of-type {\n",
       "        vertical-align: middle;\n",
       "    }\n",
       "\n",
       "    .dataframe tbody tr th {\n",
       "        vertical-align: top;\n",
       "    }\n",
       "\n",
       "    .dataframe thead th {\n",
       "        text-align: right;\n",
       "    }\n",
       "</style>\n",
       "<table border=\"1\" class=\"dataframe\">\n",
       "  <thead>\n",
       "    <tr style=\"text-align: right;\">\n",
       "      <th></th>\n",
       "      <th>class</th>\n",
       "      <th>sepal length</th>\n",
       "      <th>petal length</th>\n",
       "      <th>.session</th>\n",
       "      <th>petal width</th>\n",
       "      <th>sepal width</th>\n",
       "      <th>.influence_weight</th>\n",
       "      <th>.session_training_index</th>\n",
       "    </tr>\n",
       "  </thead>\n",
       "  <tbody>\n",
       "    <tr>\n",
       "      <th>0</th>\n",
       "      <td>Iris-versicolor</td>\n",
       "      <td>6.1</td>\n",
       "      <td>4.7</td>\n",
       "      <td>2ec65e6b-538d-4706-a7f1-c30bfd950b39</td>\n",
       "      <td>1.4</td>\n",
       "      <td>2.9</td>\n",
       "      <td>0.132004</td>\n",
       "      <td>89</td>\n",
       "    </tr>\n",
       "    <tr>\n",
       "      <th>1</th>\n",
       "      <td>Iris-versicolor</td>\n",
       "      <td>6.1</td>\n",
       "      <td>4.6</td>\n",
       "      <td>2ec65e6b-538d-4706-a7f1-c30bfd950b39</td>\n",
       "      <td>1.4</td>\n",
       "      <td>3.0</td>\n",
       "      <td>0.110184</td>\n",
       "      <td>26</td>\n",
       "    </tr>\n",
       "    <tr>\n",
       "      <th>2</th>\n",
       "      <td>Iris-virginica</td>\n",
       "      <td>6.3</td>\n",
       "      <td>5.6</td>\n",
       "      <td>2ec65e6b-538d-4706-a7f1-c30bfd950b39</td>\n",
       "      <td>1.8</td>\n",
       "      <td>2.9</td>\n",
       "      <td>0.087547</td>\n",
       "      <td>61</td>\n",
       "    </tr>\n",
       "    <tr>\n",
       "      <th>3</th>\n",
       "      <td>Iris-versicolor</td>\n",
       "      <td>6.1</td>\n",
       "      <td>4.7</td>\n",
       "      <td>2ec65e6b-538d-4706-a7f1-c30bfd950b39</td>\n",
       "      <td>1.2</td>\n",
       "      <td>2.8</td>\n",
       "      <td>0.076775</td>\n",
       "      <td>100</td>\n",
       "    </tr>\n",
       "    <tr>\n",
       "      <th>4</th>\n",
       "      <td>Iris-versicolor</td>\n",
       "      <td>6.3</td>\n",
       "      <td>4.9</td>\n",
       "      <td>2ec65e6b-538d-4706-a7f1-c30bfd950b39</td>\n",
       "      <td>1.5</td>\n",
       "      <td>2.5</td>\n",
       "      <td>0.076570</td>\n",
       "      <td>107</td>\n",
       "    </tr>\n",
       "    <tr>\n",
       "      <th>5</th>\n",
       "      <td>Iris-virginica</td>\n",
       "      <td>6.3</td>\n",
       "      <td>5.1</td>\n",
       "      <td>2ec65e6b-538d-4706-a7f1-c30bfd950b39</td>\n",
       "      <td>1.5</td>\n",
       "      <td>2.8</td>\n",
       "      <td>0.074904</td>\n",
       "      <td>99</td>\n",
       "    </tr>\n",
       "    <tr>\n",
       "      <th>6</th>\n",
       "      <td>Iris-virginica</td>\n",
       "      <td>6.4</td>\n",
       "      <td>5.6</td>\n",
       "      <td>2ec65e6b-538d-4706-a7f1-c30bfd950b39</td>\n",
       "      <td>2.1</td>\n",
       "      <td>2.8</td>\n",
       "      <td>0.068011</td>\n",
       "      <td>36</td>\n",
       "    </tr>\n",
       "    <tr>\n",
       "      <th>7</th>\n",
       "      <td>Iris-versicolor</td>\n",
       "      <td>6.1</td>\n",
       "      <td>4.0</td>\n",
       "      <td>2ec65e6b-538d-4706-a7f1-c30bfd950b39</td>\n",
       "      <td>1.3</td>\n",
       "      <td>2.8</td>\n",
       "      <td>0.067565</td>\n",
       "      <td>30</td>\n",
       "    </tr>\n",
       "    <tr>\n",
       "      <th>8</th>\n",
       "      <td>Iris-versicolor</td>\n",
       "      <td>6.8</td>\n",
       "      <td>4.8</td>\n",
       "      <td>2ec65e6b-538d-4706-a7f1-c30bfd950b39</td>\n",
       "      <td>1.4</td>\n",
       "      <td>2.8</td>\n",
       "      <td>0.065625</td>\n",
       "      <td>57</td>\n",
       "    </tr>\n",
       "    <tr>\n",
       "      <th>9</th>\n",
       "      <td>Iris-virginica</td>\n",
       "      <td>6.0</td>\n",
       "      <td>5.0</td>\n",
       "      <td>2ec65e6b-538d-4706-a7f1-c30bfd950b39</td>\n",
       "      <td>1.5</td>\n",
       "      <td>2.2</td>\n",
       "      <td>0.065129</td>\n",
       "      <td>34</td>\n",
       "    </tr>\n",
       "    <tr>\n",
       "      <th>10</th>\n",
       "      <td>Iris-virginica</td>\n",
       "      <td>6.4</td>\n",
       "      <td>5.6</td>\n",
       "      <td>2ec65e6b-538d-4706-a7f1-c30bfd950b39</td>\n",
       "      <td>2.2</td>\n",
       "      <td>2.8</td>\n",
       "      <td>0.063403</td>\n",
       "      <td>46</td>\n",
       "    </tr>\n",
       "    <tr>\n",
       "      <th>11</th>\n",
       "      <td>Iris-virginica</td>\n",
       "      <td>6.4</td>\n",
       "      <td>5.3</td>\n",
       "      <td>2ec65e6b-538d-4706-a7f1-c30bfd950b39</td>\n",
       "      <td>1.9</td>\n",
       "      <td>2.7</td>\n",
       "      <td>0.056342</td>\n",
       "      <td>103</td>\n",
       "    </tr>\n",
       "    <tr>\n",
       "      <th>12</th>\n",
       "      <td>Iris-virginica</td>\n",
       "      <td>6.1</td>\n",
       "      <td>4.9</td>\n",
       "      <td>2ec65e6b-538d-4706-a7f1-c30bfd950b39</td>\n",
       "      <td>1.8</td>\n",
       "      <td>3.0</td>\n",
       "      <td>0.055942</td>\n",
       "      <td>95</td>\n",
       "    </tr>\n",
       "  </tbody>\n",
       "</table>\n",
       "</div>"
      ],
      "text/plain": [
       "              class  sepal length  petal length  \\\n",
       "0   Iris-versicolor           6.1           4.7   \n",
       "1   Iris-versicolor           6.1           4.6   \n",
       "2    Iris-virginica           6.3           5.6   \n",
       "3   Iris-versicolor           6.1           4.7   \n",
       "4   Iris-versicolor           6.3           4.9   \n",
       "5    Iris-virginica           6.3           5.1   \n",
       "6    Iris-virginica           6.4           5.6   \n",
       "7   Iris-versicolor           6.1           4.0   \n",
       "8   Iris-versicolor           6.8           4.8   \n",
       "9    Iris-virginica           6.0           5.0   \n",
       "10   Iris-virginica           6.4           5.6   \n",
       "11   Iris-virginica           6.4           5.3   \n",
       "12   Iris-virginica           6.1           4.9   \n",
       "\n",
       "                                .session  petal width  sepal width  \\\n",
       "0   2ec65e6b-538d-4706-a7f1-c30bfd950b39          1.4          2.9   \n",
       "1   2ec65e6b-538d-4706-a7f1-c30bfd950b39          1.4          3.0   \n",
       "2   2ec65e6b-538d-4706-a7f1-c30bfd950b39          1.8          2.9   \n",
       "3   2ec65e6b-538d-4706-a7f1-c30bfd950b39          1.2          2.8   \n",
       "4   2ec65e6b-538d-4706-a7f1-c30bfd950b39          1.5          2.5   \n",
       "5   2ec65e6b-538d-4706-a7f1-c30bfd950b39          1.5          2.8   \n",
       "6   2ec65e6b-538d-4706-a7f1-c30bfd950b39          2.1          2.8   \n",
       "7   2ec65e6b-538d-4706-a7f1-c30bfd950b39          1.3          2.8   \n",
       "8   2ec65e6b-538d-4706-a7f1-c30bfd950b39          1.4          2.8   \n",
       "9   2ec65e6b-538d-4706-a7f1-c30bfd950b39          1.5          2.2   \n",
       "10  2ec65e6b-538d-4706-a7f1-c30bfd950b39          2.2          2.8   \n",
       "11  2ec65e6b-538d-4706-a7f1-c30bfd950b39          1.9          2.7   \n",
       "12  2ec65e6b-538d-4706-a7f1-c30bfd950b39          1.8          3.0   \n",
       "\n",
       "    .influence_weight  .session_training_index  \n",
       "0            0.132004                       89  \n",
       "1            0.110184                       26  \n",
       "2            0.087547                       61  \n",
       "3            0.076775                      100  \n",
       "4            0.076570                      107  \n",
       "5            0.074904                       99  \n",
       "6            0.068011                       36  \n",
       "7            0.067565                       30  \n",
       "8            0.065625                       57  \n",
       "9            0.065129                       34  \n",
       "10           0.063403                       46  \n",
       "11           0.056342                      103  \n",
       "12           0.055942                       95  "
      ]
     },
     "execution_count": 7,
     "metadata": {},
     "output_type": "execute_result"
    }
   ],
   "source": [
    "inf_cases_4 = pd.DataFrame(reaction[\"details\"][\"influential_cases\"][4])\n",
    "inf_cases_4"
   ]
  },
  {
   "cell_type": "markdown",
   "metadata": {},
   "source": [
    "Compare that to the influential cases for case `20`, which is firmly in the center of the solo cluster.  Here we see a single class value."
   ]
  },
  {
   "cell_type": "code",
   "execution_count": 8,
   "metadata": {
    "execution": {
     "iopub.execute_input": "2024-08-07T16:39:16.328718Z",
     "iopub.status.busy": "2024-08-07T16:39:16.328317Z",
     "iopub.status.idle": "2024-08-07T16:39:16.339510Z",
     "shell.execute_reply": "2024-08-07T16:39:16.339018Z"
    }
   },
   "outputs": [
    {
     "data": {
      "text/html": [
       "<div>\n",
       "<style scoped>\n",
       "    .dataframe tbody tr th:only-of-type {\n",
       "        vertical-align: middle;\n",
       "    }\n",
       "\n",
       "    .dataframe tbody tr th {\n",
       "        vertical-align: top;\n",
       "    }\n",
       "\n",
       "    .dataframe thead th {\n",
       "        text-align: right;\n",
       "    }\n",
       "</style>\n",
       "<table border=\"1\" class=\"dataframe\">\n",
       "  <thead>\n",
       "    <tr style=\"text-align: right;\">\n",
       "      <th></th>\n",
       "      <th>class</th>\n",
       "      <th>sepal length</th>\n",
       "      <th>petal length</th>\n",
       "      <th>.session</th>\n",
       "      <th>petal width</th>\n",
       "      <th>sepal width</th>\n",
       "      <th>.influence_weight</th>\n",
       "      <th>.session_training_index</th>\n",
       "    </tr>\n",
       "  </thead>\n",
       "  <tbody>\n",
       "    <tr>\n",
       "      <th>0</th>\n",
       "      <td>Iris-setosa</td>\n",
       "      <td>5.0</td>\n",
       "      <td>1.6</td>\n",
       "      <td>2ec65e6b-538d-4706-a7f1-c30bfd950b39</td>\n",
       "      <td>0.4</td>\n",
       "      <td>3.4</td>\n",
       "      <td>0.136577</td>\n",
       "      <td>63</td>\n",
       "    </tr>\n",
       "    <tr>\n",
       "      <th>1</th>\n",
       "      <td>Iris-setosa</td>\n",
       "      <td>5.4</td>\n",
       "      <td>1.7</td>\n",
       "      <td>2ec65e6b-538d-4706-a7f1-c30bfd950b39</td>\n",
       "      <td>0.2</td>\n",
       "      <td>3.4</td>\n",
       "      <td>0.109494</td>\n",
       "      <td>9</td>\n",
       "    </tr>\n",
       "    <tr>\n",
       "      <th>2</th>\n",
       "      <td>Iris-setosa</td>\n",
       "      <td>5.1</td>\n",
       "      <td>1.5</td>\n",
       "      <td>2ec65e6b-538d-4706-a7f1-c30bfd950b39</td>\n",
       "      <td>0.2</td>\n",
       "      <td>3.4</td>\n",
       "      <td>0.091490</td>\n",
       "      <td>85</td>\n",
       "    </tr>\n",
       "    <tr>\n",
       "      <th>3</th>\n",
       "      <td>Iris-setosa</td>\n",
       "      <td>5.1</td>\n",
       "      <td>1.5</td>\n",
       "      <td>2ec65e6b-538d-4706-a7f1-c30bfd950b39</td>\n",
       "      <td>0.4</td>\n",
       "      <td>3.7</td>\n",
       "      <td>0.087352</td>\n",
       "      <td>117</td>\n",
       "    </tr>\n",
       "    <tr>\n",
       "      <th>4</th>\n",
       "      <td>Iris-setosa</td>\n",
       "      <td>5.0</td>\n",
       "      <td>1.5</td>\n",
       "      <td>2ec65e6b-538d-4706-a7f1-c30bfd950b39</td>\n",
       "      <td>0.2</td>\n",
       "      <td>3.4</td>\n",
       "      <td>0.079457</td>\n",
       "      <td>69</td>\n",
       "    </tr>\n",
       "    <tr>\n",
       "      <th>5</th>\n",
       "      <td>Iris-setosa</td>\n",
       "      <td>5.4</td>\n",
       "      <td>1.5</td>\n",
       "      <td>2ec65e6b-538d-4706-a7f1-c30bfd950b39</td>\n",
       "      <td>0.2</td>\n",
       "      <td>3.7</td>\n",
       "      <td>0.078591</td>\n",
       "      <td>104</td>\n",
       "    </tr>\n",
       "    <tr>\n",
       "      <th>6</th>\n",
       "      <td>Iris-setosa</td>\n",
       "      <td>5.4</td>\n",
       "      <td>1.3</td>\n",
       "      <td>2ec65e6b-538d-4706-a7f1-c30bfd950b39</td>\n",
       "      <td>0.4</td>\n",
       "      <td>3.9</td>\n",
       "      <td>0.075901</td>\n",
       "      <td>21</td>\n",
       "    </tr>\n",
       "    <tr>\n",
       "      <th>7</th>\n",
       "      <td>Iris-setosa</td>\n",
       "      <td>5.4</td>\n",
       "      <td>1.7</td>\n",
       "      <td>2ec65e6b-538d-4706-a7f1-c30bfd950b39</td>\n",
       "      <td>0.4</td>\n",
       "      <td>3.9</td>\n",
       "      <td>0.075901</td>\n",
       "      <td>47</td>\n",
       "    </tr>\n",
       "    <tr>\n",
       "      <th>8</th>\n",
       "      <td>Iris-setosa</td>\n",
       "      <td>5.2</td>\n",
       "      <td>1.4</td>\n",
       "      <td>2ec65e6b-538d-4706-a7f1-c30bfd950b39</td>\n",
       "      <td>0.2</td>\n",
       "      <td>3.4</td>\n",
       "      <td>0.064987</td>\n",
       "      <td>43</td>\n",
       "    </tr>\n",
       "    <tr>\n",
       "      <th>9</th>\n",
       "      <td>Iris-setosa</td>\n",
       "      <td>5.2</td>\n",
       "      <td>1.5</td>\n",
       "      <td>2ec65e6b-538d-4706-a7f1-c30bfd950b39</td>\n",
       "      <td>0.2</td>\n",
       "      <td>3.5</td>\n",
       "      <td>0.060319</td>\n",
       "      <td>0</td>\n",
       "    </tr>\n",
       "    <tr>\n",
       "      <th>10</th>\n",
       "      <td>Iris-setosa</td>\n",
       "      <td>5.3</td>\n",
       "      <td>1.5</td>\n",
       "      <td>2ec65e6b-538d-4706-a7f1-c30bfd950b39</td>\n",
       "      <td>0.2</td>\n",
       "      <td>3.7</td>\n",
       "      <td>0.050082</td>\n",
       "      <td>68</td>\n",
       "    </tr>\n",
       "    <tr>\n",
       "      <th>11</th>\n",
       "      <td>Iris-setosa</td>\n",
       "      <td>4.6</td>\n",
       "      <td>1.4</td>\n",
       "      <td>2ec65e6b-538d-4706-a7f1-c30bfd950b39</td>\n",
       "      <td>0.3</td>\n",
       "      <td>3.4</td>\n",
       "      <td>0.045532</td>\n",
       "      <td>83</td>\n",
       "    </tr>\n",
       "    <tr>\n",
       "      <th>12</th>\n",
       "      <td>Iris-setosa</td>\n",
       "      <td>5.1</td>\n",
       "      <td>1.4</td>\n",
       "      <td>2ec65e6b-538d-4706-a7f1-c30bfd950b39</td>\n",
       "      <td>0.3</td>\n",
       "      <td>3.5</td>\n",
       "      <td>0.044317</td>\n",
       "      <td>48</td>\n",
       "    </tr>\n",
       "  </tbody>\n",
       "</table>\n",
       "</div>"
      ],
      "text/plain": [
       "          class  sepal length  petal length  \\\n",
       "0   Iris-setosa           5.0           1.6   \n",
       "1   Iris-setosa           5.4           1.7   \n",
       "2   Iris-setosa           5.1           1.5   \n",
       "3   Iris-setosa           5.1           1.5   \n",
       "4   Iris-setosa           5.0           1.5   \n",
       "5   Iris-setosa           5.4           1.5   \n",
       "6   Iris-setosa           5.4           1.3   \n",
       "7   Iris-setosa           5.4           1.7   \n",
       "8   Iris-setosa           5.2           1.4   \n",
       "9   Iris-setosa           5.2           1.5   \n",
       "10  Iris-setosa           5.3           1.5   \n",
       "11  Iris-setosa           4.6           1.4   \n",
       "12  Iris-setosa           5.1           1.4   \n",
       "\n",
       "                                .session  petal width  sepal width  \\\n",
       "0   2ec65e6b-538d-4706-a7f1-c30bfd950b39          0.4          3.4   \n",
       "1   2ec65e6b-538d-4706-a7f1-c30bfd950b39          0.2          3.4   \n",
       "2   2ec65e6b-538d-4706-a7f1-c30bfd950b39          0.2          3.4   \n",
       "3   2ec65e6b-538d-4706-a7f1-c30bfd950b39          0.4          3.7   \n",
       "4   2ec65e6b-538d-4706-a7f1-c30bfd950b39          0.2          3.4   \n",
       "5   2ec65e6b-538d-4706-a7f1-c30bfd950b39          0.2          3.7   \n",
       "6   2ec65e6b-538d-4706-a7f1-c30bfd950b39          0.4          3.9   \n",
       "7   2ec65e6b-538d-4706-a7f1-c30bfd950b39          0.4          3.9   \n",
       "8   2ec65e6b-538d-4706-a7f1-c30bfd950b39          0.2          3.4   \n",
       "9   2ec65e6b-538d-4706-a7f1-c30bfd950b39          0.2          3.5   \n",
       "10  2ec65e6b-538d-4706-a7f1-c30bfd950b39          0.2          3.7   \n",
       "11  2ec65e6b-538d-4706-a7f1-c30bfd950b39          0.3          3.4   \n",
       "12  2ec65e6b-538d-4706-a7f1-c30bfd950b39          0.3          3.5   \n",
       "\n",
       "    .influence_weight  .session_training_index  \n",
       "0            0.136577                       63  \n",
       "1            0.109494                        9  \n",
       "2            0.091490                       85  \n",
       "3            0.087352                      117  \n",
       "4            0.079457                       69  \n",
       "5            0.078591                      104  \n",
       "6            0.075901                       21  \n",
       "7            0.075901                       47  \n",
       "8            0.064987                       43  \n",
       "9            0.060319                        0  \n",
       "10           0.050082                       68  \n",
       "11           0.045532                       83  \n",
       "12           0.044317                       48  "
      ]
     },
     "execution_count": 8,
     "metadata": {},
     "output_type": "execute_result"
    }
   ],
   "source": [
    "inf_cases_20 = pd.DataFrame(reaction[\"details\"][\"influential_cases\"][20])\n",
    "inf_cases_20"
   ]
  },
  {
   "cell_type": "markdown",
   "metadata": {},
   "source": [
    "With the influential cases we can derive additional insights, such as identifying anomalous cases from within the influential cases using `similarity_conviction`.  \n",
    "This can help to identify data that are making predictions more noisy or identify what type of data should be collected to improve predictive power in the future."
   ]
  },
  {
   "cell_type": "code",
   "execution_count": 9,
   "metadata": {
    "execution": {
     "iopub.execute_input": "2024-08-07T16:39:16.342048Z",
     "iopub.status.busy": "2024-08-07T16:39:16.341660Z",
     "iopub.status.idle": "2024-08-07T16:39:16.354816Z",
     "shell.execute_reply": "2024-08-07T16:39:16.354320Z"
    }
   },
   "outputs": [
    {
     "data": {
      "text/html": [
       "<div>\n",
       "<style scoped>\n",
       "    .dataframe tbody tr th:only-of-type {\n",
       "        vertical-align: middle;\n",
       "    }\n",
       "\n",
       "    .dataframe tbody tr th {\n",
       "        vertical-align: top;\n",
       "    }\n",
       "\n",
       "    .dataframe thead th {\n",
       "        text-align: right;\n",
       "    }\n",
       "</style>\n",
       "<table border=\"1\" class=\"dataframe\">\n",
       "  <thead>\n",
       "    <tr style=\"text-align: right;\">\n",
       "      <th></th>\n",
       "      <th>sepal length</th>\n",
       "      <th>sepal width</th>\n",
       "      <th>petal length</th>\n",
       "      <th>petal width</th>\n",
       "      <th>class</th>\n",
       "      <th>similarity_conviction</th>\n",
       "    </tr>\n",
       "  </thead>\n",
       "  <tbody>\n",
       "    <tr>\n",
       "      <th>9</th>\n",
       "      <td>6.0</td>\n",
       "      <td>2.2</td>\n",
       "      <td>5.0</td>\n",
       "      <td>1.5</td>\n",
       "      <td>Iris-virginica</td>\n",
       "      <td>0.539284</td>\n",
       "    </tr>\n",
       "    <tr>\n",
       "      <th>4</th>\n",
       "      <td>6.3</td>\n",
       "      <td>2.5</td>\n",
       "      <td>4.9</td>\n",
       "      <td>1.5</td>\n",
       "      <td>Iris-versicolor</td>\n",
       "      <td>0.792292</td>\n",
       "    </tr>\n",
       "    <tr>\n",
       "      <th>5</th>\n",
       "      <td>6.3</td>\n",
       "      <td>2.8</td>\n",
       "      <td>5.1</td>\n",
       "      <td>1.5</td>\n",
       "      <td>Iris-virginica</td>\n",
       "      <td>0.898854</td>\n",
       "    </tr>\n",
       "    <tr>\n",
       "      <th>8</th>\n",
       "      <td>6.8</td>\n",
       "      <td>2.8</td>\n",
       "      <td>4.8</td>\n",
       "      <td>1.4</td>\n",
       "      <td>Iris-versicolor</td>\n",
       "      <td>0.979959</td>\n",
       "    </tr>\n",
       "    <tr>\n",
       "      <th>11</th>\n",
       "      <td>6.4</td>\n",
       "      <td>2.7</td>\n",
       "      <td>5.3</td>\n",
       "      <td>1.9</td>\n",
       "      <td>Iris-virginica</td>\n",
       "      <td>1.053584</td>\n",
       "    </tr>\n",
       "    <tr>\n",
       "      <th>1</th>\n",
       "      <td>6.1</td>\n",
       "      <td>3.0</td>\n",
       "      <td>4.6</td>\n",
       "      <td>1.4</td>\n",
       "      <td>Iris-versicolor</td>\n",
       "      <td>1.061866</td>\n",
       "    </tr>\n",
       "    <tr>\n",
       "      <th>3</th>\n",
       "      <td>6.1</td>\n",
       "      <td>2.8</td>\n",
       "      <td>4.7</td>\n",
       "      <td>1.2</td>\n",
       "      <td>Iris-versicolor</td>\n",
       "      <td>1.098108</td>\n",
       "    </tr>\n",
       "    <tr>\n",
       "      <th>2</th>\n",
       "      <td>6.3</td>\n",
       "      <td>2.9</td>\n",
       "      <td>5.6</td>\n",
       "      <td>1.8</td>\n",
       "      <td>Iris-virginica</td>\n",
       "      <td>1.116672</td>\n",
       "    </tr>\n",
       "    <tr>\n",
       "      <th>12</th>\n",
       "      <td>6.1</td>\n",
       "      <td>3.0</td>\n",
       "      <td>4.9</td>\n",
       "      <td>1.8</td>\n",
       "      <td>Iris-virginica</td>\n",
       "      <td>1.157878</td>\n",
       "    </tr>\n",
       "    <tr>\n",
       "      <th>7</th>\n",
       "      <td>6.1</td>\n",
       "      <td>2.8</td>\n",
       "      <td>4.0</td>\n",
       "      <td>1.3</td>\n",
       "      <td>Iris-versicolor</td>\n",
       "      <td>1.168614</td>\n",
       "    </tr>\n",
       "    <tr>\n",
       "      <th>0</th>\n",
       "      <td>6.1</td>\n",
       "      <td>2.9</td>\n",
       "      <td>4.7</td>\n",
       "      <td>1.4</td>\n",
       "      <td>Iris-versicolor</td>\n",
       "      <td>1.246265</td>\n",
       "    </tr>\n",
       "    <tr>\n",
       "      <th>6</th>\n",
       "      <td>6.4</td>\n",
       "      <td>2.8</td>\n",
       "      <td>5.6</td>\n",
       "      <td>2.1</td>\n",
       "      <td>Iris-virginica</td>\n",
       "      <td>1.730589</td>\n",
       "    </tr>\n",
       "    <tr>\n",
       "      <th>10</th>\n",
       "      <td>6.4</td>\n",
       "      <td>2.8</td>\n",
       "      <td>5.6</td>\n",
       "      <td>2.2</td>\n",
       "      <td>Iris-virginica</td>\n",
       "      <td>1.730720</td>\n",
       "    </tr>\n",
       "  </tbody>\n",
       "</table>\n",
       "</div>"
      ],
      "text/plain": [
       "    sepal length  sepal width  petal length  petal width            class  \\\n",
       "9            6.0          2.2           5.0          1.5   Iris-virginica   \n",
       "4            6.3          2.5           4.9          1.5  Iris-versicolor   \n",
       "5            6.3          2.8           5.1          1.5   Iris-virginica   \n",
       "8            6.8          2.8           4.8          1.4  Iris-versicolor   \n",
       "11           6.4          2.7           5.3          1.9   Iris-virginica   \n",
       "1            6.1          3.0           4.6          1.4  Iris-versicolor   \n",
       "3            6.1          2.8           4.7          1.2  Iris-versicolor   \n",
       "2            6.3          2.9           5.6          1.8   Iris-virginica   \n",
       "12           6.1          3.0           4.9          1.8   Iris-virginica   \n",
       "7            6.1          2.8           4.0          1.3  Iris-versicolor   \n",
       "0            6.1          2.9           4.7          1.4  Iris-versicolor   \n",
       "6            6.4          2.8           5.6          2.1   Iris-virginica   \n",
       "10           6.4          2.8           5.6          2.2   Iris-virginica   \n",
       "\n",
       "    similarity_conviction  \n",
       "9                0.539284  \n",
       "4                0.792292  \n",
       "5                0.898854  \n",
       "8                0.979959  \n",
       "11               1.053584  \n",
       "1                1.061866  \n",
       "3                1.098108  \n",
       "2                1.116672  \n",
       "12               1.157878  \n",
       "7                1.168614  \n",
       "0                1.246265  \n",
       "6                1.730589  \n",
       "10               1.730720  "
      ]
     },
     "execution_count": 9,
     "metadata": {},
     "output_type": "execute_result"
    }
   ],
   "source": [
    "inf_case_indices = inf_cases_4[[\".session\", \".session_training_index\"]].values.tolist()\n",
    "\n",
    "anom_df = t.get_cases(\n",
    "    case_indices=inf_case_indices,\n",
    "    features=[\"sepal length\", \"sepal width\", \"petal length\", \"petal width\", \"class\", \"similarity_conviction\"]\n",
    ")\n",
    "\n",
    "anom_df.sort_values(by=\"similarity_conviction\")"
   ]
  },
  {
   "cell_type": "code",
   "execution_count": 10,
   "metadata": {
    "execution": {
     "iopub.execute_input": "2024-08-07T16:39:16.357130Z",
     "iopub.status.busy": "2024-08-07T16:39:16.356782Z",
     "iopub.status.idle": "2024-08-07T16:39:16.369453Z",
     "shell.execute_reply": "2024-08-07T16:39:16.368970Z"
    }
   },
   "outputs": [
    {
     "data": {
      "text/html": [
       "<div>\n",
       "<style scoped>\n",
       "    .dataframe tbody tr th:only-of-type {\n",
       "        vertical-align: middle;\n",
       "    }\n",
       "\n",
       "    .dataframe tbody tr th {\n",
       "        vertical-align: top;\n",
       "    }\n",
       "\n",
       "    .dataframe thead th {\n",
       "        text-align: right;\n",
       "    }\n",
       "</style>\n",
       "<table border=\"1\" class=\"dataframe\">\n",
       "  <thead>\n",
       "    <tr style=\"text-align: right;\">\n",
       "      <th></th>\n",
       "      <th>sepal length</th>\n",
       "      <th>sepal width</th>\n",
       "      <th>petal length</th>\n",
       "      <th>petal width</th>\n",
       "      <th>class</th>\n",
       "      <th>similarity_conviction</th>\n",
       "    </tr>\n",
       "  </thead>\n",
       "  <tbody>\n",
       "    <tr>\n",
       "      <th>7</th>\n",
       "      <td>5.4</td>\n",
       "      <td>3.9</td>\n",
       "      <td>1.7</td>\n",
       "      <td>0.4</td>\n",
       "      <td>Iris-setosa</td>\n",
       "      <td>0.788960</td>\n",
       "    </tr>\n",
       "    <tr>\n",
       "      <th>6</th>\n",
       "      <td>5.4</td>\n",
       "      <td>3.9</td>\n",
       "      <td>1.3</td>\n",
       "      <td>0.4</td>\n",
       "      <td>Iris-setosa</td>\n",
       "      <td>0.862912</td>\n",
       "    </tr>\n",
       "    <tr>\n",
       "      <th>11</th>\n",
       "      <td>4.6</td>\n",
       "      <td>3.4</td>\n",
       "      <td>1.4</td>\n",
       "      <td>0.3</td>\n",
       "      <td>Iris-setosa</td>\n",
       "      <td>0.909101</td>\n",
       "    </tr>\n",
       "    <tr>\n",
       "      <th>10</th>\n",
       "      <td>5.3</td>\n",
       "      <td>3.7</td>\n",
       "      <td>1.5</td>\n",
       "      <td>0.2</td>\n",
       "      <td>Iris-setosa</td>\n",
       "      <td>0.924549</td>\n",
       "    </tr>\n",
       "    <tr>\n",
       "      <th>0</th>\n",
       "      <td>5.0</td>\n",
       "      <td>3.4</td>\n",
       "      <td>1.6</td>\n",
       "      <td>0.4</td>\n",
       "      <td>Iris-setosa</td>\n",
       "      <td>0.966215</td>\n",
       "    </tr>\n",
       "    <tr>\n",
       "      <th>1</th>\n",
       "      <td>5.4</td>\n",
       "      <td>3.4</td>\n",
       "      <td>1.7</td>\n",
       "      <td>0.2</td>\n",
       "      <td>Iris-setosa</td>\n",
       "      <td>1.058567</td>\n",
       "    </tr>\n",
       "    <tr>\n",
       "      <th>3</th>\n",
       "      <td>5.1</td>\n",
       "      <td>3.7</td>\n",
       "      <td>1.5</td>\n",
       "      <td>0.4</td>\n",
       "      <td>Iris-setosa</td>\n",
       "      <td>1.096774</td>\n",
       "    </tr>\n",
       "    <tr>\n",
       "      <th>5</th>\n",
       "      <td>5.4</td>\n",
       "      <td>3.7</td>\n",
       "      <td>1.5</td>\n",
       "      <td>0.2</td>\n",
       "      <td>Iris-setosa</td>\n",
       "      <td>1.127369</td>\n",
       "    </tr>\n",
       "    <tr>\n",
       "      <th>2</th>\n",
       "      <td>5.1</td>\n",
       "      <td>3.4</td>\n",
       "      <td>1.5</td>\n",
       "      <td>0.2</td>\n",
       "      <td>Iris-setosa</td>\n",
       "      <td>1.259098</td>\n",
       "    </tr>\n",
       "    <tr>\n",
       "      <th>12</th>\n",
       "      <td>5.1</td>\n",
       "      <td>3.5</td>\n",
       "      <td>1.4</td>\n",
       "      <td>0.3</td>\n",
       "      <td>Iris-setosa</td>\n",
       "      <td>1.334568</td>\n",
       "    </tr>\n",
       "    <tr>\n",
       "      <th>8</th>\n",
       "      <td>5.2</td>\n",
       "      <td>3.4</td>\n",
       "      <td>1.4</td>\n",
       "      <td>0.2</td>\n",
       "      <td>Iris-setosa</td>\n",
       "      <td>1.377587</td>\n",
       "    </tr>\n",
       "    <tr>\n",
       "      <th>9</th>\n",
       "      <td>5.2</td>\n",
       "      <td>3.5</td>\n",
       "      <td>1.5</td>\n",
       "      <td>0.2</td>\n",
       "      <td>Iris-setosa</td>\n",
       "      <td>1.380294</td>\n",
       "    </tr>\n",
       "    <tr>\n",
       "      <th>4</th>\n",
       "      <td>5.0</td>\n",
       "      <td>3.4</td>\n",
       "      <td>1.5</td>\n",
       "      <td>0.2</td>\n",
       "      <td>Iris-setosa</td>\n",
       "      <td>1.454125</td>\n",
       "    </tr>\n",
       "  </tbody>\n",
       "</table>\n",
       "</div>"
      ],
      "text/plain": [
       "    sepal length  sepal width  petal length  petal width        class  \\\n",
       "7            5.4          3.9           1.7          0.4  Iris-setosa   \n",
       "6            5.4          3.9           1.3          0.4  Iris-setosa   \n",
       "11           4.6          3.4           1.4          0.3  Iris-setosa   \n",
       "10           5.3          3.7           1.5          0.2  Iris-setosa   \n",
       "0            5.0          3.4           1.6          0.4  Iris-setosa   \n",
       "1            5.4          3.4           1.7          0.2  Iris-setosa   \n",
       "3            5.1          3.7           1.5          0.4  Iris-setosa   \n",
       "5            5.4          3.7           1.5          0.2  Iris-setosa   \n",
       "2            5.1          3.4           1.5          0.2  Iris-setosa   \n",
       "12           5.1          3.5           1.4          0.3  Iris-setosa   \n",
       "8            5.2          3.4           1.4          0.2  Iris-setosa   \n",
       "9            5.2          3.5           1.5          0.2  Iris-setosa   \n",
       "4            5.0          3.4           1.5          0.2  Iris-setosa   \n",
       "\n",
       "    similarity_conviction  \n",
       "7                0.788960  \n",
       "6                0.862912  \n",
       "11               0.909101  \n",
       "10               0.924549  \n",
       "0                0.966215  \n",
       "1                1.058567  \n",
       "3                1.096774  \n",
       "5                1.127369  \n",
       "2                1.259098  \n",
       "12               1.334568  \n",
       "8                1.377587  \n",
       "9                1.380294  \n",
       "4                1.454125  "
      ]
     },
     "execution_count": 10,
     "metadata": {},
     "output_type": "execute_result"
    }
   ],
   "source": [
    "inf_case_indices = inf_cases_20[[\".session\", \".session_training_index\"]].values.tolist()\n",
    "\n",
    "anom_df = t.get_cases(\n",
    "    case_indices=inf_case_indices,\n",
    "    features=[\"sepal length\", \"sepal width\", \"petal length\", \"petal width\", \"class\", \"similarity_conviction\"],\n",
    ")\n",
    "\n",
    "anom_df.sort_values(by=\"similarity_conviction\")"
   ]
  },
  {
   "cell_type": "markdown",
   "metadata": {},
   "source": [
    "### Insight 2: Which Features Contributed?\n",
    "\n",
    "In addition to providing attribution to cases, Howso also provides robust feature contributions to explain which features contributed to each prediction.\n",
    "When inspecting the feature importances for case `13`,  we see that `petal width` and `petal length` provided the majority of the contribution to the \n",
    "prediction, whereas for case `20` `petal width` and `petal length` only have slightly higher contributions than the other features.  This could indicate \n",
    "that different features are more important for predicting different classes within this dataset and that focusing on those features would be prudent.\n",
    "\n",
    "Identifying that certain cases that influenced a prediction are anomalous can help to explain low predictive power in certain parts of the data or other\n",
    "issues that may appear during deployment."
   ]
  },
  {
   "cell_type": "code",
   "execution_count": 11,
   "metadata": {
    "execution": {
     "iopub.execute_input": "2024-08-07T16:39:16.371997Z",
     "iopub.status.busy": "2024-08-07T16:39:16.371598Z",
     "iopub.status.idle": "2024-08-07T16:39:16.381996Z",
     "shell.execute_reply": "2024-08-07T16:39:16.381520Z"
    }
   },
   "outputs": [
    {
     "data": {
      "text/html": [
       "<div>\n",
       "<style scoped>\n",
       "    .dataframe tbody tr th:only-of-type {\n",
       "        vertical-align: middle;\n",
       "    }\n",
       "\n",
       "    .dataframe tbody tr th {\n",
       "        vertical-align: top;\n",
       "    }\n",
       "\n",
       "    .dataframe thead th {\n",
       "        text-align: right;\n",
       "    }\n",
       "</style>\n",
       "<table border=\"1\" class=\"dataframe\">\n",
       "  <thead>\n",
       "    <tr style=\"text-align: right;\">\n",
       "      <th></th>\n",
       "      <th>sepal length</th>\n",
       "      <th>petal length</th>\n",
       "      <th>sepal width</th>\n",
       "      <th>petal width</th>\n",
       "    </tr>\n",
       "  </thead>\n",
       "  <tbody>\n",
       "    <tr>\n",
       "      <th>13</th>\n",
       "      <td>0.138392</td>\n",
       "      <td>0.298806</td>\n",
       "      <td>0.069347</td>\n",
       "      <td>0.317151</td>\n",
       "    </tr>\n",
       "  </tbody>\n",
       "</table>\n",
       "</div>"
      ],
      "text/plain": [
       "    sepal length  petal length  sepal width  petal width\n",
       "13      0.138392      0.298806     0.069347     0.317151"
      ]
     },
     "metadata": {},
     "output_type": "display_data"
    },
    {
     "data": {
      "text/html": [
       "<div>\n",
       "<style scoped>\n",
       "    .dataframe tbody tr th:only-of-type {\n",
       "        vertical-align: middle;\n",
       "    }\n",
       "\n",
       "    .dataframe tbody tr th {\n",
       "        vertical-align: top;\n",
       "    }\n",
       "\n",
       "    .dataframe thead th {\n",
       "        text-align: right;\n",
       "    }\n",
       "</style>\n",
       "<table border=\"1\" class=\"dataframe\">\n",
       "  <thead>\n",
       "    <tr style=\"text-align: right;\">\n",
       "      <th></th>\n",
       "      <th>sepal length</th>\n",
       "      <th>petal length</th>\n",
       "      <th>sepal width</th>\n",
       "      <th>petal width</th>\n",
       "    </tr>\n",
       "  </thead>\n",
       "  <tbody>\n",
       "    <tr>\n",
       "      <th>20</th>\n",
       "      <td>0.117864</td>\n",
       "      <td>0.157941</td>\n",
       "      <td>0.120061</td>\n",
       "      <td>0.158137</td>\n",
       "    </tr>\n",
       "  </tbody>\n",
       "</table>\n",
       "</div>"
      ],
      "text/plain": [
       "    sepal length  petal length  sepal width  petal width\n",
       "20      0.117864      0.157941     0.120061     0.158137"
      ]
     },
     "metadata": {},
     "output_type": "display_data"
    }
   ],
   "source": [
    "fcs_13 = pd.DataFrame(reaction[\"details\"][\"feature_contributions_robust\"][13:14], index=[13])\n",
    "fcs_20 = pd.DataFrame(reaction[\"details\"][\"feature_contributions_robust\"][20:21], index=[20])\n",
    "\n",
    "display(fcs_13)\n",
    "display(fcs_20)"
   ]
  },
  {
   "cell_type": "markdown",
   "metadata": {},
   "source": [
    "### Insight 3: How Certain is the Prediction?"
   ]
  },
  {
   "cell_type": "markdown",
   "metadata": {},
   "source": [
    "[Residuals](https://docs.howso.com/user_guide/basic_capabilities/residuals.html) can characterize the uncertainty of the data around the prediction.  This will tell us which features are hard to predict in the region of the data around each case we're predicting.\n",
    "If a prediction is less accurate than expected, this can explain which features were noisy and may have contributed to the problem."
   ]
  },
  {
   "cell_type": "code",
   "execution_count": 12,
   "metadata": {
    "execution": {
     "iopub.execute_input": "2024-08-07T16:39:16.384477Z",
     "iopub.status.busy": "2024-08-07T16:39:16.384074Z",
     "iopub.status.idle": "2024-08-07T16:39:16.393676Z",
     "shell.execute_reply": "2024-08-07T16:39:16.393199Z"
    }
   },
   "outputs": [
    {
     "data": {
      "text/html": [
       "<div>\n",
       "<style scoped>\n",
       "    .dataframe tbody tr th:only-of-type {\n",
       "        vertical-align: middle;\n",
       "    }\n",
       "\n",
       "    .dataframe tbody tr th {\n",
       "        vertical-align: top;\n",
       "    }\n",
       "\n",
       "    .dataframe thead th {\n",
       "        text-align: right;\n",
       "    }\n",
       "</style>\n",
       "<table border=\"1\" class=\"dataframe\">\n",
       "  <thead>\n",
       "    <tr style=\"text-align: right;\">\n",
       "      <th></th>\n",
       "      <th>class</th>\n",
       "      <th>sepal length</th>\n",
       "      <th>petal length</th>\n",
       "      <th>petal width</th>\n",
       "      <th>sepal width</th>\n",
       "    </tr>\n",
       "  </thead>\n",
       "  <tbody>\n",
       "    <tr>\n",
       "      <th>0</th>\n",
       "      <td>0.263076</td>\n",
       "      <td>0.425850</td>\n",
       "      <td>0.336420</td>\n",
       "      <td>0.170437</td>\n",
       "      <td>0.193867</td>\n",
       "    </tr>\n",
       "    <tr>\n",
       "      <th>1</th>\n",
       "      <td>0.371544</td>\n",
       "      <td>0.366796</td>\n",
       "      <td>0.444008</td>\n",
       "      <td>0.267980</td>\n",
       "      <td>0.241944</td>\n",
       "    </tr>\n",
       "    <tr>\n",
       "      <th>2</th>\n",
       "      <td>0.234404</td>\n",
       "      <td>0.417798</td>\n",
       "      <td>0.468102</td>\n",
       "      <td>0.311137</td>\n",
       "      <td>0.148471</td>\n",
       "    </tr>\n",
       "    <tr>\n",
       "      <th>3</th>\n",
       "      <td>0.345302</td>\n",
       "      <td>0.401813</td>\n",
       "      <td>0.439053</td>\n",
       "      <td>0.273151</td>\n",
       "      <td>0.232210</td>\n",
       "    </tr>\n",
       "    <tr>\n",
       "      <th>4</th>\n",
       "      <td>0.269957</td>\n",
       "      <td>0.334267</td>\n",
       "      <td>0.398954</td>\n",
       "      <td>0.201734</td>\n",
       "      <td>0.273033</td>\n",
       "    </tr>\n",
       "    <tr>\n",
       "      <th>5</th>\n",
       "      <td>0.132105</td>\n",
       "      <td>0.349613</td>\n",
       "      <td>0.327858</td>\n",
       "      <td>0.128720</td>\n",
       "      <td>0.148315</td>\n",
       "    </tr>\n",
       "    <tr>\n",
       "      <th>6</th>\n",
       "      <td>0.087075</td>\n",
       "      <td>0.312448</td>\n",
       "      <td>0.409849</td>\n",
       "      <td>0.198073</td>\n",
       "      <td>0.230761</td>\n",
       "    </tr>\n",
       "    <tr>\n",
       "      <th>7</th>\n",
       "      <td>0.293749</td>\n",
       "      <td>0.406827</td>\n",
       "      <td>0.481040</td>\n",
       "      <td>0.308434</td>\n",
       "      <td>0.148749</td>\n",
       "    </tr>\n",
       "    <tr>\n",
       "      <th>8</th>\n",
       "      <td>0.222520</td>\n",
       "      <td>0.339377</td>\n",
       "      <td>0.338339</td>\n",
       "      <td>0.153270</td>\n",
       "      <td>0.229267</td>\n",
       "    </tr>\n",
       "    <tr>\n",
       "      <th>9</th>\n",
       "      <td>0.124605</td>\n",
       "      <td>0.313215</td>\n",
       "      <td>0.353367</td>\n",
       "      <td>0.144614</td>\n",
       "      <td>0.171185</td>\n",
       "    </tr>\n",
       "    <tr>\n",
       "      <th>10</th>\n",
       "      <td>0.329789</td>\n",
       "      <td>0.384887</td>\n",
       "      <td>0.449992</td>\n",
       "      <td>0.294558</td>\n",
       "      <td>0.205639</td>\n",
       "    </tr>\n",
       "    <tr>\n",
       "      <th>11</th>\n",
       "      <td>0.274462</td>\n",
       "      <td>0.364021</td>\n",
       "      <td>0.332762</td>\n",
       "      <td>0.165740</td>\n",
       "      <td>0.243412</td>\n",
       "    </tr>\n",
       "    <tr>\n",
       "      <th>12</th>\n",
       "      <td>0.088048</td>\n",
       "      <td>0.300991</td>\n",
       "      <td>0.405428</td>\n",
       "      <td>0.204226</td>\n",
       "      <td>0.265985</td>\n",
       "    </tr>\n",
       "    <tr>\n",
       "      <th>13</th>\n",
       "      <td>0.372317</td>\n",
       "      <td>0.340220</td>\n",
       "      <td>0.405354</td>\n",
       "      <td>0.264256</td>\n",
       "      <td>0.252743</td>\n",
       "    </tr>\n",
       "    <tr>\n",
       "      <th>14</th>\n",
       "      <td>0.242001</td>\n",
       "      <td>0.345083</td>\n",
       "      <td>0.320606</td>\n",
       "      <td>0.150575</td>\n",
       "      <td>0.182697</td>\n",
       "    </tr>\n",
       "    <tr>\n",
       "      <th>15</th>\n",
       "      <td>0.084601</td>\n",
       "      <td>0.348484</td>\n",
       "      <td>0.380608</td>\n",
       "      <td>0.180238</td>\n",
       "      <td>0.263616</td>\n",
       "    </tr>\n",
       "    <tr>\n",
       "      <th>16</th>\n",
       "      <td>0.075124</td>\n",
       "      <td>0.274852</td>\n",
       "      <td>0.364608</td>\n",
       "      <td>0.170765</td>\n",
       "      <td>0.281011</td>\n",
       "    </tr>\n",
       "    <tr>\n",
       "      <th>17</th>\n",
       "      <td>0.347395</td>\n",
       "      <td>0.384382</td>\n",
       "      <td>0.429247</td>\n",
       "      <td>0.247767</td>\n",
       "      <td>0.204487</td>\n",
       "    </tr>\n",
       "    <tr>\n",
       "      <th>18</th>\n",
       "      <td>0.247158</td>\n",
       "      <td>0.385244</td>\n",
       "      <td>0.483022</td>\n",
       "      <td>0.292585</td>\n",
       "      <td>0.174967</td>\n",
       "    </tr>\n",
       "    <tr>\n",
       "      <th>19</th>\n",
       "      <td>0.269510</td>\n",
       "      <td>0.419903</td>\n",
       "      <td>0.421424</td>\n",
       "      <td>0.184072</td>\n",
       "      <td>0.282024</td>\n",
       "    </tr>\n",
       "    <tr>\n",
       "      <th>20</th>\n",
       "      <td>0.073230</td>\n",
       "      <td>0.249002</td>\n",
       "      <td>0.360329</td>\n",
       "      <td>0.183914</td>\n",
       "      <td>0.253045</td>\n",
       "    </tr>\n",
       "    <tr>\n",
       "      <th>21</th>\n",
       "      <td>0.098913</td>\n",
       "      <td>0.319718</td>\n",
       "      <td>0.363612</td>\n",
       "      <td>0.152619</td>\n",
       "      <td>0.174361</td>\n",
       "    </tr>\n",
       "    <tr>\n",
       "      <th>22</th>\n",
       "      <td>0.161452</td>\n",
       "      <td>0.302079</td>\n",
       "      <td>0.349175</td>\n",
       "      <td>0.158459</td>\n",
       "      <td>0.266688</td>\n",
       "    </tr>\n",
       "    <tr>\n",
       "      <th>23</th>\n",
       "      <td>0.073484</td>\n",
       "      <td>0.297354</td>\n",
       "      <td>0.348505</td>\n",
       "      <td>0.165785</td>\n",
       "      <td>0.211690</td>\n",
       "    </tr>\n",
       "    <tr>\n",
       "      <th>24</th>\n",
       "      <td>0.070274</td>\n",
       "      <td>0.311703</td>\n",
       "      <td>0.344374</td>\n",
       "      <td>0.162235</td>\n",
       "      <td>0.235981</td>\n",
       "    </tr>\n",
       "    <tr>\n",
       "      <th>25</th>\n",
       "      <td>0.317203</td>\n",
       "      <td>0.372789</td>\n",
       "      <td>0.426104</td>\n",
       "      <td>0.254539</td>\n",
       "      <td>0.196993</td>\n",
       "    </tr>\n",
       "    <tr>\n",
       "      <th>26</th>\n",
       "      <td>0.168199</td>\n",
       "      <td>0.346824</td>\n",
       "      <td>0.487731</td>\n",
       "      <td>0.331851</td>\n",
       "      <td>0.163468</td>\n",
       "    </tr>\n",
       "    <tr>\n",
       "      <th>27</th>\n",
       "      <td>0.286580</td>\n",
       "      <td>0.353413</td>\n",
       "      <td>0.351289</td>\n",
       "      <td>0.182987</td>\n",
       "      <td>0.258619</td>\n",
       "    </tr>\n",
       "    <tr>\n",
       "      <th>28</th>\n",
       "      <td>0.256292</td>\n",
       "      <td>0.487343</td>\n",
       "      <td>0.551246</td>\n",
       "      <td>0.333264</td>\n",
       "      <td>0.179865</td>\n",
       "    </tr>\n",
       "    <tr>\n",
       "      <th>29</th>\n",
       "      <td>0.146755</td>\n",
       "      <td>0.509049</td>\n",
       "      <td>0.566849</td>\n",
       "      <td>0.262595</td>\n",
       "      <td>0.218550</td>\n",
       "    </tr>\n",
       "  </tbody>\n",
       "</table>\n",
       "</div>"
      ],
      "text/plain": [
       "       class  sepal length  petal length  petal width  sepal width\n",
       "0   0.263076      0.425850      0.336420     0.170437     0.193867\n",
       "1   0.371544      0.366796      0.444008     0.267980     0.241944\n",
       "2   0.234404      0.417798      0.468102     0.311137     0.148471\n",
       "3   0.345302      0.401813      0.439053     0.273151     0.232210\n",
       "4   0.269957      0.334267      0.398954     0.201734     0.273033\n",
       "5   0.132105      0.349613      0.327858     0.128720     0.148315\n",
       "6   0.087075      0.312448      0.409849     0.198073     0.230761\n",
       "7   0.293749      0.406827      0.481040     0.308434     0.148749\n",
       "8   0.222520      0.339377      0.338339     0.153270     0.229267\n",
       "9   0.124605      0.313215      0.353367     0.144614     0.171185\n",
       "10  0.329789      0.384887      0.449992     0.294558     0.205639\n",
       "11  0.274462      0.364021      0.332762     0.165740     0.243412\n",
       "12  0.088048      0.300991      0.405428     0.204226     0.265985\n",
       "13  0.372317      0.340220      0.405354     0.264256     0.252743\n",
       "14  0.242001      0.345083      0.320606     0.150575     0.182697\n",
       "15  0.084601      0.348484      0.380608     0.180238     0.263616\n",
       "16  0.075124      0.274852      0.364608     0.170765     0.281011\n",
       "17  0.347395      0.384382      0.429247     0.247767     0.204487\n",
       "18  0.247158      0.385244      0.483022     0.292585     0.174967\n",
       "19  0.269510      0.419903      0.421424     0.184072     0.282024\n",
       "20  0.073230      0.249002      0.360329     0.183914     0.253045\n",
       "21  0.098913      0.319718      0.363612     0.152619     0.174361\n",
       "22  0.161452      0.302079      0.349175     0.158459     0.266688\n",
       "23  0.073484      0.297354      0.348505     0.165785     0.211690\n",
       "24  0.070274      0.311703      0.344374     0.162235     0.235981\n",
       "25  0.317203      0.372789      0.426104     0.254539     0.196993\n",
       "26  0.168199      0.346824      0.487731     0.331851     0.163468\n",
       "27  0.286580      0.353413      0.351289     0.182987     0.258619\n",
       "28  0.256292      0.487343      0.551246     0.333264     0.179865\n",
       "29  0.146755      0.509049      0.566849     0.262595     0.218550"
      ]
     },
     "execution_count": 12,
     "metadata": {},
     "output_type": "execute_result"
    }
   ],
   "source": [
    "pd.DataFrame(reaction[\"details\"][\"feature_residuals_robust\"])"
   ]
  },
  {
   "cell_type": "markdown",
   "metadata": {},
   "source": [
    "We can also use [`residual conviction`](https://docs.howso.com/user_guide/basic_capabilities/conviction.html#prediction-residual-conviction) to determine which features\n",
    "are uncertain in a scale-invariant manner, which can be useful if you wish to compare different features of different scales against each other.  Higher residual conviction\n",
    "indicates something that is less surprising than expected and lower redsidual conviction indicates the opposite."
   ]
  },
  {
   "cell_type": "code",
   "execution_count": 13,
   "metadata": {
    "execution": {
     "iopub.execute_input": "2024-08-07T16:39:16.396134Z",
     "iopub.status.busy": "2024-08-07T16:39:16.395778Z",
     "iopub.status.idle": "2024-08-07T16:39:16.405348Z",
     "shell.execute_reply": "2024-08-07T16:39:16.404874Z"
    }
   },
   "outputs": [
    {
     "data": {
      "text/html": [
       "<div>\n",
       "<style scoped>\n",
       "    .dataframe tbody tr th:only-of-type {\n",
       "        vertical-align: middle;\n",
       "    }\n",
       "\n",
       "    .dataframe tbody tr th {\n",
       "        vertical-align: top;\n",
       "    }\n",
       "\n",
       "    .dataframe thead th {\n",
       "        text-align: right;\n",
       "    }\n",
       "</style>\n",
       "<table border=\"1\" class=\"dataframe\">\n",
       "  <thead>\n",
       "    <tr style=\"text-align: right;\">\n",
       "      <th></th>\n",
       "      <th>class</th>\n",
       "      <th>sepal length</th>\n",
       "      <th>petal length</th>\n",
       "      <th>sepal width</th>\n",
       "      <th>petal width</th>\n",
       "    </tr>\n",
       "  </thead>\n",
       "  <tbody>\n",
       "    <tr>\n",
       "      <th>0</th>\n",
       "      <td>0.935731</td>\n",
       "      <td>1.040432</td>\n",
       "      <td>0.929764</td>\n",
       "      <td>1.954838</td>\n",
       "      <td>1.200450</td>\n",
       "    </tr>\n",
       "    <tr>\n",
       "      <th>1</th>\n",
       "      <td>0.919504</td>\n",
       "      <td>1.287464</td>\n",
       "      <td>1.294020</td>\n",
       "      <td>0.599767</td>\n",
       "      <td>0.995986</td>\n",
       "    </tr>\n",
       "    <tr>\n",
       "      <th>2</th>\n",
       "      <td>1.053944</td>\n",
       "      <td>0.771654</td>\n",
       "      <td>1.005298</td>\n",
       "      <td>1.943249</td>\n",
       "      <td>0.913768</td>\n",
       "    </tr>\n",
       "    <tr>\n",
       "      <th>3</th>\n",
       "      <td>0.946434</td>\n",
       "      <td>0.635264</td>\n",
       "      <td>0.732935</td>\n",
       "      <td>0.556090</td>\n",
       "      <td>0.786650</td>\n",
       "    </tr>\n",
       "    <tr>\n",
       "      <th>4</th>\n",
       "      <td>0.539940</td>\n",
       "      <td>1.693306</td>\n",
       "      <td>0.351218</td>\n",
       "      <td>0.728780</td>\n",
       "      <td>0.592054</td>\n",
       "    </tr>\n",
       "    <tr>\n",
       "      <th>5</th>\n",
       "      <td>1.375291</td>\n",
       "      <td>1.196381</td>\n",
       "      <td>1.557930</td>\n",
       "      <td>0.873594</td>\n",
       "      <td>2.079028</td>\n",
       "    </tr>\n",
       "    <tr>\n",
       "      <th>6</th>\n",
       "      <td>0.587570</td>\n",
       "      <td>1.134108</td>\n",
       "      <td>0.817930</td>\n",
       "      <td>0.733033</td>\n",
       "      <td>1.487699</td>\n",
       "    </tr>\n",
       "    <tr>\n",
       "      <th>7</th>\n",
       "      <td>1.412452</td>\n",
       "      <td>1.168242</td>\n",
       "      <td>1.144483</td>\n",
       "      <td>0.675697</td>\n",
       "      <td>2.550670</td>\n",
       "    </tr>\n",
       "    <tr>\n",
       "      <th>8</th>\n",
       "      <td>1.864683</td>\n",
       "      <td>0.625757</td>\n",
       "      <td>0.682230</td>\n",
       "      <td>0.362789</td>\n",
       "      <td>0.772524</td>\n",
       "    </tr>\n",
       "    <tr>\n",
       "      <th>9</th>\n",
       "      <td>1.440698</td>\n",
       "      <td>0.997258</td>\n",
       "      <td>1.546590</td>\n",
       "      <td>0.427193</td>\n",
       "      <td>0.887897</td>\n",
       "    </tr>\n",
       "    <tr>\n",
       "      <th>10</th>\n",
       "      <td>3.590522</td>\n",
       "      <td>2.439891</td>\n",
       "      <td>1.687885</td>\n",
       "      <td>1.529733</td>\n",
       "      <td>1.330958</td>\n",
       "    </tr>\n",
       "    <tr>\n",
       "      <th>11</th>\n",
       "      <td>1.100741</td>\n",
       "      <td>0.801061</td>\n",
       "      <td>0.931303</td>\n",
       "      <td>1.216080</td>\n",
       "      <td>1.196674</td>\n",
       "    </tr>\n",
       "    <tr>\n",
       "      <th>12</th>\n",
       "      <td>2.859274</td>\n",
       "      <td>1.590745</td>\n",
       "      <td>1.500423</td>\n",
       "      <td>1.721428</td>\n",
       "      <td>1.276053</td>\n",
       "    </tr>\n",
       "    <tr>\n",
       "      <th>13</th>\n",
       "      <td>1.020077</td>\n",
       "      <td>1.582289</td>\n",
       "      <td>1.462579</td>\n",
       "      <td>0.747424</td>\n",
       "      <td>1.362310</td>\n",
       "    </tr>\n",
       "    <tr>\n",
       "      <th>14</th>\n",
       "      <td>1.070277</td>\n",
       "      <td>1.556267</td>\n",
       "      <td>0.770862</td>\n",
       "      <td>1.411012</td>\n",
       "      <td>0.784281</td>\n",
       "    </tr>\n",
       "    <tr>\n",
       "      <th>15</th>\n",
       "      <td>0.760289</td>\n",
       "      <td>0.529828</td>\n",
       "      <td>1.316643</td>\n",
       "      <td>0.639840</td>\n",
       "      <td>0.880494</td>\n",
       "    </tr>\n",
       "    <tr>\n",
       "      <th>16</th>\n",
       "      <td>0.392450</td>\n",
       "      <td>0.619910</td>\n",
       "      <td>0.794037</td>\n",
       "      <td>0.838754</td>\n",
       "      <td>1.230203</td>\n",
       "    </tr>\n",
       "    <tr>\n",
       "      <th>17</th>\n",
       "      <td>0.756808</td>\n",
       "      <td>1.280071</td>\n",
       "      <td>1.060711</td>\n",
       "      <td>1.415518</td>\n",
       "      <td>1.334872</td>\n",
       "    </tr>\n",
       "    <tr>\n",
       "      <th>18</th>\n",
       "      <td>1.129237</td>\n",
       "      <td>1.445970</td>\n",
       "      <td>0.861527</td>\n",
       "      <td>0.280290</td>\n",
       "      <td>0.987604</td>\n",
       "    </tr>\n",
       "    <tr>\n",
       "      <th>19</th>\n",
       "      <td>1.939664</td>\n",
       "      <td>0.358449</td>\n",
       "      <td>0.623825</td>\n",
       "      <td>0.661114</td>\n",
       "      <td>0.360518</td>\n",
       "    </tr>\n",
       "    <tr>\n",
       "      <th>20</th>\n",
       "      <td>0.601198</td>\n",
       "      <td>1.259743</td>\n",
       "      <td>1.367171</td>\n",
       "      <td>0.861956</td>\n",
       "      <td>0.780130</td>\n",
       "    </tr>\n",
       "    <tr>\n",
       "      <th>21</th>\n",
       "      <td>0.912590</td>\n",
       "      <td>1.858053</td>\n",
       "      <td>1.915218</td>\n",
       "      <td>1.310440</td>\n",
       "      <td>1.417094</td>\n",
       "    </tr>\n",
       "    <tr>\n",
       "      <th>22</th>\n",
       "      <td>0.649799</td>\n",
       "      <td>0.982078</td>\n",
       "      <td>1.229234</td>\n",
       "      <td>0.352490</td>\n",
       "      <td>0.458044</td>\n",
       "    </tr>\n",
       "    <tr>\n",
       "      <th>23</th>\n",
       "      <td>0.595342</td>\n",
       "      <td>1.426418</td>\n",
       "      <td>1.140492</td>\n",
       "      <td>1.214417</td>\n",
       "      <td>1.594356</td>\n",
       "    </tr>\n",
       "    <tr>\n",
       "      <th>24</th>\n",
       "      <td>1.481656</td>\n",
       "      <td>0.969915</td>\n",
       "      <td>0.828070</td>\n",
       "      <td>3.741182</td>\n",
       "      <td>1.703988</td>\n",
       "    </tr>\n",
       "    <tr>\n",
       "      <th>25</th>\n",
       "      <td>0.714991</td>\n",
       "      <td>1.862196</td>\n",
       "      <td>1.022850</td>\n",
       "      <td>1.137685</td>\n",
       "      <td>1.628047</td>\n",
       "    </tr>\n",
       "    <tr>\n",
       "      <th>26</th>\n",
       "      <td>1.011237</td>\n",
       "      <td>1.896928</td>\n",
       "      <td>1.976196</td>\n",
       "      <td>0.655777</td>\n",
       "      <td>1.239222</td>\n",
       "    </tr>\n",
       "    <tr>\n",
       "      <th>27</th>\n",
       "      <td>1.046000</td>\n",
       "      <td>2.515118</td>\n",
       "      <td>1.867037</td>\n",
       "      <td>1.281469</td>\n",
       "      <td>1.193551</td>\n",
       "    </tr>\n",
       "    <tr>\n",
       "      <th>28</th>\n",
       "      <td>1.186376</td>\n",
       "      <td>0.523534</td>\n",
       "      <td>0.704447</td>\n",
       "      <td>1.273655</td>\n",
       "      <td>0.911893</td>\n",
       "    </tr>\n",
       "    <tr>\n",
       "      <th>29</th>\n",
       "      <td>0.698818</td>\n",
       "      <td>0.610041</td>\n",
       "      <td>0.997679</td>\n",
       "      <td>0.883390</td>\n",
       "      <td>1.335500</td>\n",
       "    </tr>\n",
       "  </tbody>\n",
       "</table>\n",
       "</div>"
      ],
      "text/plain": [
       "       class  sepal length  petal length  sepal width  petal width\n",
       "0   0.935731      1.040432      0.929764     1.954838     1.200450\n",
       "1   0.919504      1.287464      1.294020     0.599767     0.995986\n",
       "2   1.053944      0.771654      1.005298     1.943249     0.913768\n",
       "3   0.946434      0.635264      0.732935     0.556090     0.786650\n",
       "4   0.539940      1.693306      0.351218     0.728780     0.592054\n",
       "5   1.375291      1.196381      1.557930     0.873594     2.079028\n",
       "6   0.587570      1.134108      0.817930     0.733033     1.487699\n",
       "7   1.412452      1.168242      1.144483     0.675697     2.550670\n",
       "8   1.864683      0.625757      0.682230     0.362789     0.772524\n",
       "9   1.440698      0.997258      1.546590     0.427193     0.887897\n",
       "10  3.590522      2.439891      1.687885     1.529733     1.330958\n",
       "11  1.100741      0.801061      0.931303     1.216080     1.196674\n",
       "12  2.859274      1.590745      1.500423     1.721428     1.276053\n",
       "13  1.020077      1.582289      1.462579     0.747424     1.362310\n",
       "14  1.070277      1.556267      0.770862     1.411012     0.784281\n",
       "15  0.760289      0.529828      1.316643     0.639840     0.880494\n",
       "16  0.392450      0.619910      0.794037     0.838754     1.230203\n",
       "17  0.756808      1.280071      1.060711     1.415518     1.334872\n",
       "18  1.129237      1.445970      0.861527     0.280290     0.987604\n",
       "19  1.939664      0.358449      0.623825     0.661114     0.360518\n",
       "20  0.601198      1.259743      1.367171     0.861956     0.780130\n",
       "21  0.912590      1.858053      1.915218     1.310440     1.417094\n",
       "22  0.649799      0.982078      1.229234     0.352490     0.458044\n",
       "23  0.595342      1.426418      1.140492     1.214417     1.594356\n",
       "24  1.481656      0.969915      0.828070     3.741182     1.703988\n",
       "25  0.714991      1.862196      1.022850     1.137685     1.628047\n",
       "26  1.011237      1.896928      1.976196     0.655777     1.239222\n",
       "27  1.046000      2.515118      1.867037     1.281469     1.193551\n",
       "28  1.186376      0.523534      0.704447     1.273655     0.911893\n",
       "29  0.698818      0.610041      0.997679     0.883390     1.335500"
      ]
     },
     "execution_count": 13,
     "metadata": {},
     "output_type": "execute_result"
    }
   ],
   "source": [
    "pd.DataFrame(reaction[\"details\"][\"case_feature_residual_convictions_robust\"])"
   ]
  },
  {
   "cell_type": "markdown",
   "metadata": {},
   "source": [
    "### Insight 4: How Anomalous are the Predicted Cases?\n",
    "\n",
    "By getting the [`similarity conviction`](https://docs.howso.com/user_guide/basic_capabilities/conviction.html#similarity-conviction) of the cases that we predict, \n",
    "we can determine which of them are anomalous relative to the trained data. This could help to highlight cases that are unusually difficult or easy to predict, such as can be the case\n",
    "when model drift occurs as a form of model monitoring."
   ]
  },
  {
   "cell_type": "code",
   "execution_count": 14,
   "metadata": {
    "execution": {
     "iopub.execute_input": "2024-08-07T16:39:16.407775Z",
     "iopub.status.busy": "2024-08-07T16:39:16.407414Z",
     "iopub.status.idle": "2024-08-07T16:39:16.410657Z",
     "shell.execute_reply": "2024-08-07T16:39:16.410164Z"
    }
   },
   "outputs": [
    {
     "name": "stdout",
     "output_type": "stream",
     "text": [
      "[2.4585196676262817, 1.5357799645929426, 1.970666948810099, 1.1933944706668032,\n",
      " 0.9051402030417045, 2.6457988977635636, 2.319244637887139, 1.7635392865477066,\n",
      " 1.1951337317665627, 2.473030947584981, 3.362152446963219, 2.922814248244336,\n",
      " 4.4404425905247935, 1.6875375040323766, 1.6871073004227093, 1.9153302133705288,\n",
      " 1.8497021169148855, 2.9722704787943224, 1.0425530845279973, 0.8458198962301933,\n",
      " 1.8790664748703299, 2.2923283080911636, 1.0554025969482528, 2.903016590748419,\n",
      " 3.17077924543639, 2.0846188699332453, 2.0056603024939266, 2.3093496485719256,\n",
      " 1.3953345053263322, 1.2405275771206232]\n"
     ]
    }
   ],
   "source": [
    "pprint(reaction[\"details\"][\"similarity_conviction\"], compact=True)"
   ]
  },
  {
   "cell_type": "markdown",
   "metadata": {},
   "source": [
    "In this case, there are no cases with a low similarity_conviction which indicates that there are no cases that we reacted to which are particularly\n",
    "anomalous."
   ]
  }
 ],
 "metadata": {
  "kernelspec": {
   "display_name": "engine-recipes-3.9",
   "language": "python",
   "name": "python3"
  },
  "language_info": {
   "codemirror_mode": {
    "name": "ipython",
    "version": 3
   },
   "file_extension": ".py",
   "mimetype": "text/x-python",
   "name": "python",
   "nbconvert_exporter": "python",
   "pygments_lexer": "ipython3",
   "version": "3.11.7"
  }
 },
 "nbformat": 4,
 "nbformat_minor": 2
}
