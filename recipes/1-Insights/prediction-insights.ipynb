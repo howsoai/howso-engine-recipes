{
 "cells": [
  {
   "cell_type": "markdown",
   "metadata": {},
   "source": [
    "# Prediction Insights"
   ]
  },
  {
   "cell_type": "markdown",
   "metadata": {},
   "source": [
    "## Overview\n",
    "\n",
    "Howso Engine enables powerful predictions with complete attribution and detailed explanations to make learning from\n",
    "and debugging your data and predictions as easy as possible. For more information on predictions with Howso Engine,\n",
    "check out the [predictions user guide](https://docs.howso.com/user_guide/basics/predictions.html)."
   ]
  },
  {
   "cell_type": "code",
   "execution_count": 1,
   "metadata": {},
   "outputs": [],
   "source": [
    "from pprint import pprint\n",
    "\n",
    "import pandas as pd\n",
    "from pmlb import fetch_data\n",
    "import plotly.graph_objects as go\n",
    "import plotly.express as px\n",
    "\n",
    "from howso.engine import Trainee\n",
    "from howso.utilities import infer_feature_attributes"
   ]
  },
  {
   "cell_type": "markdown",
   "metadata": {},
   "source": [
    "## Setup\n",
    "\n",
    "The [basic workflow guide](https://docs.howso.com/user_guide/basics/basic_workflow.html) goes into more specifics about the individual details of this section. This recipe will focus more on the insights.\n",
    "\n",
    "### Load Data and Create Trainee"
   ]
  },
  {
   "cell_type": "code",
   "execution_count": 2,
   "metadata": {},
   "outputs": [],
   "source": [
    "df = fetch_data(\"iris\", local_cache_dir=\"../../data\")\n",
    "train_data = df.iloc[:-30]\n",
    "new_data = df[~df.index.isin(train_data.index)]\n",
    "features = infer_feature_attributes(train_data)\n",
    "\n",
    "t = Trainee(features=features)"
   ]
  },
  {
   "cell_type": "markdown",
   "metadata": {},
   "source": [
    "### Train, Analyze, and React"
   ]
  },
  {
   "cell_type": "code",
   "execution_count": 3,
   "metadata": {},
   "outputs": [],
   "source": [
    "t.train(train_data)\n",
    "t.analyze()\n",
    "t.react_into_features(similarity_conviction=True)\n",
    "\n",
    "reaction = t.react(\n",
    "    contexts=new_data,\n",
    "    context_features=[\"sepal-length\", \"sepal-width\", \"petal-length\", \"petal-width\"],\n",
    "    action_features=[\"target\"],\n",
    "    details={\n",
    "        \"influential_cases\": True,\n",
    "        \"similarity_conviction\": True,\n",
    "        \"feature_contributions\": True,\n",
    "        \"feature_residuals\": True,\n",
    "        \"robust_influences\": True,\n",
    "        \"robust_residuals\": True,\n",
    "        \"local_case_feature_residual_convictions\": True,\n",
    "        \"categorical_action_probabilities\": True,\n",
    "    }\n",
    ")"
   ]
  },
  {
   "cell_type": "markdown",
   "metadata": {},
   "source": [
    "Note that, unlike in the basic workflow guide, we include several `details` in the react call. These are what will enable the insights that we're going to get after the predictions are made.\n",
    "\n",
    "For more information, see [the API documentation for `Trainee.react()`](https://docs.howso.com/api_reference/_autosummary/howso.engine.html#howso.engine.Trainee.react)."
   ]
  },
  {
   "cell_type": "markdown",
   "metadata": {},
   "source": [
    "### Inspect the Predictions\n",
    "\n",
    "Howso Engine has high accuracy even on small datasets."
   ]
  },
  {
   "cell_type": "code",
   "execution_count": 4,
   "metadata": {},
   "outputs": [
    {
     "data": {
      "application/vnd.plotly.v1+json": {
       "config": {
        "plotlyServerURL": "https://plot.ly"
       },
       "data": [
        {
         "legendgroup": "trained",
         "legendgrouptitle": {
          "text": "Trained Target"
         },
         "marker": {
          "color": "#1F77B4",
          "opacity": 0.75
         },
         "mode": "markers",
         "name": "0",
         "type": "scatter",
         "x": [
          1.2,
          1.5,
          1.5,
          1.6,
          1.4,
          1.6,
          1.3,
          1.4,
          1.7,
          1.4,
          1.9,
          1.5,
          1.3,
          1.4,
          1.9,
          1.5,
          1.3,
          1.3,
          1.5,
          1.3,
          1,
          1.6,
          1.6,
          1.3,
          1.4,
          1.4,
          1.7,
          1.3,
          1.5,
          1.5,
          1.4,
          1.5,
          1.5,
          1.5,
          1.4,
          1.7,
          1.2,
          1.5,
          1.5,
          1.4
         ],
         "y": [
          0.2,
          0.1,
          0.2,
          0.2,
          0.2,
          0.2,
          0.2,
          0.3,
          0.3,
          0.2,
          0.4,
          0.1,
          0.4,
          0.2,
          0.2,
          0.4,
          0.3,
          0.3,
          0.3,
          0.2,
          0.2,
          0.2,
          0.2,
          0.2,
          0.3,
          0.3,
          0.2,
          0.2,
          0.1,
          0.2,
          0.2,
          0.2,
          0.1,
          0.2,
          0.2,
          0.5,
          0.2,
          0.2,
          0.4,
          0.2
         ]
        },
        {
         "legendgroup": "trained",
         "legendgrouptitle": {
          "text": "Trained Target"
         },
         "marker": {
          "color": "#FF7F0E",
          "opacity": 0.75
         },
         "mode": "markers",
         "name": "1",
         "type": "scatter",
         "x": [
          3.8,
          5.1,
          4,
          3.6,
          4.2,
          3.9,
          4.1,
          4.9,
          4.3,
          4.6,
          4.5,
          4.7,
          4.1,
          4.4,
          4.2,
          4.7,
          4.6,
          4.3,
          4.9,
          3.5,
          4.8,
          4.7,
          4.7,
          4,
          4,
          4,
          4.4,
          4.1,
          3.5,
          4.4,
          4.4,
          4.6,
          3.9,
          4.5,
          3.3,
          4.5,
          4.2,
          4.5,
          4,
          4.5
         ],
         "y": [
          1.1,
          1.6,
          1.3,
          1.3,
          1.3,
          1.4,
          1.3,
          1.5,
          1.3,
          1.5,
          1.6,
          1.5,
          1.3,
          1.4,
          1.5,
          1.4,
          1.3,
          1.3,
          1.5,
          1,
          1.8,
          1.2,
          1.6,
          1.2,
          1,
          1.3,
          1.4,
          1,
          1,
          1.2,
          1.3,
          1.4,
          1.2,
          1.5,
          1,
          1.3,
          1.3,
          1.5,
          1.3,
          1.5
         ]
        },
        {
         "legendgroup": "trained",
         "legendgrouptitle": {
          "text": "Trained Target"
         },
         "marker": {
          "color": "#2CA02C",
          "opacity": 0.75
         },
         "mode": "markers",
         "name": "2",
         "type": "scatter",
         "x": [
          5.2,
          5,
          4.8,
          6.7,
          5.8,
          5.6,
          5.9,
          5.1,
          5.6,
          5.1,
          5.6,
          5.1,
          5.5,
          6.4,
          5.5,
          6,
          5.7,
          4.9,
          5.7,
          4.5,
          5.1,
          6.3,
          5.6,
          6.1,
          6.1,
          4.9,
          6.6,
          5.5,
          5.1,
          5,
          5.1,
          5.9,
          5,
          5.6,
          6.9,
          5.3,
          5.6,
          5.8,
          4.9,
          5.8
         ],
         "y": [
          2.3,
          1.5,
          1.8,
          2.2,
          1.6,
          2.4,
          2.1,
          1.5,
          1.8,
          1.9,
          2.4,
          2.4,
          1.8,
          2,
          2.1,
          2.5,
          2.5,
          1.8,
          2.3,
          1.7,
          2.3,
          1.8,
          1.4,
          1.9,
          2.5,
          2,
          2.1,
          1.8,
          1.8,
          1.9,
          2,
          2.3,
          2,
          2.2,
          2.3,
          2.3,
          2.1,
          2.2,
          1.8,
          1.8
         ]
        },
        {
         "hovertext": [
          10,
          11,
          12,
          13,
          14,
          25,
          26,
          27,
          28,
          29
         ],
         "legendgroup": "predicted",
         "legendgrouptitle": {
          "text": "Predicted Target"
         },
         "marker": {
          "color": "#1F77B4",
          "opacity": 0.75,
          "size": 12,
          "symbol": "star"
         },
         "mode": "markers",
         "name": "0",
         "type": "scatter",
         "x": [
          1.1,
          1.5,
          1.6,
          1.4,
          1.4,
          1.6,
          1.7,
          1.5,
          1.4,
          1.6
         ],
         "y": [
          0.1,
          0.4,
          0.2,
          0.2,
          0.1,
          0.6,
          0.4,
          0.2,
          0.2,
          0.4
         ]
        },
        {
         "hovertext": [
          5,
          6,
          7,
          8,
          9,
          20,
          21,
          22,
          23
         ],
         "legendgroup": "predicted",
         "legendgrouptitle": {
          "text": "Predicted Target"
         },
         "marker": {
          "color": "#FF7F0E",
          "opacity": 0.75,
          "size": 12,
          "symbol": "star"
         },
         "mode": "markers",
         "name": "1",
         "type": "scatter",
         "x": [
          3.9,
          3.3,
          3,
          4.5,
          4.2,
          3.7,
          4.5,
          4.8,
          4.7
         ],
         "y": [
          1.1,
          1,
          1.1,
          1.5,
          1.2,
          1,
          1.5,
          1.4,
          1.4
         ]
        },
        {
         "hovertext": [
          0,
          1,
          2,
          3,
          4,
          15,
          16,
          17,
          18,
          19,
          24
         ],
         "legendgroup": "predicted",
         "legendgrouptitle": {
          "text": "Predicted Target"
         },
         "marker": {
          "color": "#2CA02C",
          "opacity": 0.75,
          "size": 12,
          "symbol": "star"
         },
         "mode": "markers",
         "name": "2",
         "type": "scatter",
         "x": [
          5.7,
          5.3,
          5.1,
          5.4,
          4.8,
          5.4,
          6,
          6.1,
          6.7,
          5.2,
          5
         ],
         "y": [
          2.1,
          1.9,
          1.9,
          2.3,
          1.8,
          2.1,
          1.8,
          2.3,
          2,
          2,
          1.7
         ]
        }
       ],
       "layout": {
        "template": {
         "data": {
          "bar": [
           {
            "error_x": {
             "color": "#2a3f5f"
            },
            "error_y": {
             "color": "#2a3f5f"
            },
            "marker": {
             "line": {
              "color": "#E5ECF6",
              "width": 0.5
             },
             "pattern": {
              "fillmode": "overlay",
              "size": 10,
              "solidity": 0.2
             }
            },
            "type": "bar"
           }
          ],
          "barpolar": [
           {
            "marker": {
             "line": {
              "color": "#E5ECF6",
              "width": 0.5
             },
             "pattern": {
              "fillmode": "overlay",
              "size": 10,
              "solidity": 0.2
             }
            },
            "type": "barpolar"
           }
          ],
          "carpet": [
           {
            "aaxis": {
             "endlinecolor": "#2a3f5f",
             "gridcolor": "white",
             "linecolor": "white",
             "minorgridcolor": "white",
             "startlinecolor": "#2a3f5f"
            },
            "baxis": {
             "endlinecolor": "#2a3f5f",
             "gridcolor": "white",
             "linecolor": "white",
             "minorgridcolor": "white",
             "startlinecolor": "#2a3f5f"
            },
            "type": "carpet"
           }
          ],
          "choropleth": [
           {
            "colorbar": {
             "outlinewidth": 0,
             "ticks": ""
            },
            "type": "choropleth"
           }
          ],
          "contour": [
           {
            "colorbar": {
             "outlinewidth": 0,
             "ticks": ""
            },
            "colorscale": [
             [
              0,
              "#0d0887"
             ],
             [
              0.1111111111111111,
              "#46039f"
             ],
             [
              0.2222222222222222,
              "#7201a8"
             ],
             [
              0.3333333333333333,
              "#9c179e"
             ],
             [
              0.4444444444444444,
              "#bd3786"
             ],
             [
              0.5555555555555556,
              "#d8576b"
             ],
             [
              0.6666666666666666,
              "#ed7953"
             ],
             [
              0.7777777777777778,
              "#fb9f3a"
             ],
             [
              0.8888888888888888,
              "#fdca26"
             ],
             [
              1,
              "#f0f921"
             ]
            ],
            "type": "contour"
           }
          ],
          "contourcarpet": [
           {
            "colorbar": {
             "outlinewidth": 0,
             "ticks": ""
            },
            "type": "contourcarpet"
           }
          ],
          "heatmap": [
           {
            "colorbar": {
             "outlinewidth": 0,
             "ticks": ""
            },
            "colorscale": [
             [
              0,
              "#0d0887"
             ],
             [
              0.1111111111111111,
              "#46039f"
             ],
             [
              0.2222222222222222,
              "#7201a8"
             ],
             [
              0.3333333333333333,
              "#9c179e"
             ],
             [
              0.4444444444444444,
              "#bd3786"
             ],
             [
              0.5555555555555556,
              "#d8576b"
             ],
             [
              0.6666666666666666,
              "#ed7953"
             ],
             [
              0.7777777777777778,
              "#fb9f3a"
             ],
             [
              0.8888888888888888,
              "#fdca26"
             ],
             [
              1,
              "#f0f921"
             ]
            ],
            "type": "heatmap"
           }
          ],
          "heatmapgl": [
           {
            "colorbar": {
             "outlinewidth": 0,
             "ticks": ""
            },
            "colorscale": [
             [
              0,
              "#0d0887"
             ],
             [
              0.1111111111111111,
              "#46039f"
             ],
             [
              0.2222222222222222,
              "#7201a8"
             ],
             [
              0.3333333333333333,
              "#9c179e"
             ],
             [
              0.4444444444444444,
              "#bd3786"
             ],
             [
              0.5555555555555556,
              "#d8576b"
             ],
             [
              0.6666666666666666,
              "#ed7953"
             ],
             [
              0.7777777777777778,
              "#fb9f3a"
             ],
             [
              0.8888888888888888,
              "#fdca26"
             ],
             [
              1,
              "#f0f921"
             ]
            ],
            "type": "heatmapgl"
           }
          ],
          "histogram": [
           {
            "marker": {
             "pattern": {
              "fillmode": "overlay",
              "size": 10,
              "solidity": 0.2
             }
            },
            "type": "histogram"
           }
          ],
          "histogram2d": [
           {
            "colorbar": {
             "outlinewidth": 0,
             "ticks": ""
            },
            "colorscale": [
             [
              0,
              "#0d0887"
             ],
             [
              0.1111111111111111,
              "#46039f"
             ],
             [
              0.2222222222222222,
              "#7201a8"
             ],
             [
              0.3333333333333333,
              "#9c179e"
             ],
             [
              0.4444444444444444,
              "#bd3786"
             ],
             [
              0.5555555555555556,
              "#d8576b"
             ],
             [
              0.6666666666666666,
              "#ed7953"
             ],
             [
              0.7777777777777778,
              "#fb9f3a"
             ],
             [
              0.8888888888888888,
              "#fdca26"
             ],
             [
              1,
              "#f0f921"
             ]
            ],
            "type": "histogram2d"
           }
          ],
          "histogram2dcontour": [
           {
            "colorbar": {
             "outlinewidth": 0,
             "ticks": ""
            },
            "colorscale": [
             [
              0,
              "#0d0887"
             ],
             [
              0.1111111111111111,
              "#46039f"
             ],
             [
              0.2222222222222222,
              "#7201a8"
             ],
             [
              0.3333333333333333,
              "#9c179e"
             ],
             [
              0.4444444444444444,
              "#bd3786"
             ],
             [
              0.5555555555555556,
              "#d8576b"
             ],
             [
              0.6666666666666666,
              "#ed7953"
             ],
             [
              0.7777777777777778,
              "#fb9f3a"
             ],
             [
              0.8888888888888888,
              "#fdca26"
             ],
             [
              1,
              "#f0f921"
             ]
            ],
            "type": "histogram2dcontour"
           }
          ],
          "mesh3d": [
           {
            "colorbar": {
             "outlinewidth": 0,
             "ticks": ""
            },
            "type": "mesh3d"
           }
          ],
          "parcoords": [
           {
            "line": {
             "colorbar": {
              "outlinewidth": 0,
              "ticks": ""
             }
            },
            "type": "parcoords"
           }
          ],
          "pie": [
           {
            "automargin": true,
            "type": "pie"
           }
          ],
          "scatter": [
           {
            "fillpattern": {
             "fillmode": "overlay",
             "size": 10,
             "solidity": 0.2
            },
            "type": "scatter"
           }
          ],
          "scatter3d": [
           {
            "line": {
             "colorbar": {
              "outlinewidth": 0,
              "ticks": ""
             }
            },
            "marker": {
             "colorbar": {
              "outlinewidth": 0,
              "ticks": ""
             }
            },
            "type": "scatter3d"
           }
          ],
          "scattercarpet": [
           {
            "marker": {
             "colorbar": {
              "outlinewidth": 0,
              "ticks": ""
             }
            },
            "type": "scattercarpet"
           }
          ],
          "scattergeo": [
           {
            "marker": {
             "colorbar": {
              "outlinewidth": 0,
              "ticks": ""
             }
            },
            "type": "scattergeo"
           }
          ],
          "scattergl": [
           {
            "marker": {
             "colorbar": {
              "outlinewidth": 0,
              "ticks": ""
             }
            },
            "type": "scattergl"
           }
          ],
          "scattermapbox": [
           {
            "marker": {
             "colorbar": {
              "outlinewidth": 0,
              "ticks": ""
             }
            },
            "type": "scattermapbox"
           }
          ],
          "scatterpolar": [
           {
            "marker": {
             "colorbar": {
              "outlinewidth": 0,
              "ticks": ""
             }
            },
            "type": "scatterpolar"
           }
          ],
          "scatterpolargl": [
           {
            "marker": {
             "colorbar": {
              "outlinewidth": 0,
              "ticks": ""
             }
            },
            "type": "scatterpolargl"
           }
          ],
          "scatterternary": [
           {
            "marker": {
             "colorbar": {
              "outlinewidth": 0,
              "ticks": ""
             }
            },
            "type": "scatterternary"
           }
          ],
          "surface": [
           {
            "colorbar": {
             "outlinewidth": 0,
             "ticks": ""
            },
            "colorscale": [
             [
              0,
              "#0d0887"
             ],
             [
              0.1111111111111111,
              "#46039f"
             ],
             [
              0.2222222222222222,
              "#7201a8"
             ],
             [
              0.3333333333333333,
              "#9c179e"
             ],
             [
              0.4444444444444444,
              "#bd3786"
             ],
             [
              0.5555555555555556,
              "#d8576b"
             ],
             [
              0.6666666666666666,
              "#ed7953"
             ],
             [
              0.7777777777777778,
              "#fb9f3a"
             ],
             [
              0.8888888888888888,
              "#fdca26"
             ],
             [
              1,
              "#f0f921"
             ]
            ],
            "type": "surface"
           }
          ],
          "table": [
           {
            "cells": {
             "fill": {
              "color": "#EBF0F8"
             },
             "line": {
              "color": "white"
             }
            },
            "header": {
             "fill": {
              "color": "#C8D4E3"
             },
             "line": {
              "color": "white"
             }
            },
            "type": "table"
           }
          ]
         },
         "layout": {
          "annotationdefaults": {
           "arrowcolor": "#2a3f5f",
           "arrowhead": 0,
           "arrowwidth": 1
          },
          "autotypenumbers": "strict",
          "coloraxis": {
           "colorbar": {
            "outlinewidth": 0,
            "ticks": ""
           }
          },
          "colorscale": {
           "diverging": [
            [
             0,
             "#8e0152"
            ],
            [
             0.1,
             "#c51b7d"
            ],
            [
             0.2,
             "#de77ae"
            ],
            [
             0.3,
             "#f1b6da"
            ],
            [
             0.4,
             "#fde0ef"
            ],
            [
             0.5,
             "#f7f7f7"
            ],
            [
             0.6,
             "#e6f5d0"
            ],
            [
             0.7,
             "#b8e186"
            ],
            [
             0.8,
             "#7fbc41"
            ],
            [
             0.9,
             "#4d9221"
            ],
            [
             1,
             "#276419"
            ]
           ],
           "sequential": [
            [
             0,
             "#0d0887"
            ],
            [
             0.1111111111111111,
             "#46039f"
            ],
            [
             0.2222222222222222,
             "#7201a8"
            ],
            [
             0.3333333333333333,
             "#9c179e"
            ],
            [
             0.4444444444444444,
             "#bd3786"
            ],
            [
             0.5555555555555556,
             "#d8576b"
            ],
            [
             0.6666666666666666,
             "#ed7953"
            ],
            [
             0.7777777777777778,
             "#fb9f3a"
            ],
            [
             0.8888888888888888,
             "#fdca26"
            ],
            [
             1,
             "#f0f921"
            ]
           ],
           "sequentialminus": [
            [
             0,
             "#0d0887"
            ],
            [
             0.1111111111111111,
             "#46039f"
            ],
            [
             0.2222222222222222,
             "#7201a8"
            ],
            [
             0.3333333333333333,
             "#9c179e"
            ],
            [
             0.4444444444444444,
             "#bd3786"
            ],
            [
             0.5555555555555556,
             "#d8576b"
            ],
            [
             0.6666666666666666,
             "#ed7953"
            ],
            [
             0.7777777777777778,
             "#fb9f3a"
            ],
            [
             0.8888888888888888,
             "#fdca26"
            ],
            [
             1,
             "#f0f921"
            ]
           ]
          },
          "colorway": [
           "#636efa",
           "#EF553B",
           "#00cc96",
           "#ab63fa",
           "#FFA15A",
           "#19d3f3",
           "#FF6692",
           "#B6E880",
           "#FF97FF",
           "#FECB52"
          ],
          "font": {
           "color": "#2a3f5f"
          },
          "geo": {
           "bgcolor": "white",
           "lakecolor": "white",
           "landcolor": "#E5ECF6",
           "showlakes": true,
           "showland": true,
           "subunitcolor": "white"
          },
          "hoverlabel": {
           "align": "left"
          },
          "hovermode": "closest",
          "mapbox": {
           "style": "light"
          },
          "paper_bgcolor": "white",
          "plot_bgcolor": "#E5ECF6",
          "polar": {
           "angularaxis": {
            "gridcolor": "white",
            "linecolor": "white",
            "ticks": ""
           },
           "bgcolor": "#E5ECF6",
           "radialaxis": {
            "gridcolor": "white",
            "linecolor": "white",
            "ticks": ""
           }
          },
          "scene": {
           "xaxis": {
            "backgroundcolor": "#E5ECF6",
            "gridcolor": "white",
            "gridwidth": 2,
            "linecolor": "white",
            "showbackground": true,
            "ticks": "",
            "zerolinecolor": "white"
           },
           "yaxis": {
            "backgroundcolor": "#E5ECF6",
            "gridcolor": "white",
            "gridwidth": 2,
            "linecolor": "white",
            "showbackground": true,
            "ticks": "",
            "zerolinecolor": "white"
           },
           "zaxis": {
            "backgroundcolor": "#E5ECF6",
            "gridcolor": "white",
            "gridwidth": 2,
            "linecolor": "white",
            "showbackground": true,
            "ticks": "",
            "zerolinecolor": "white"
           }
          },
          "shapedefaults": {
           "line": {
            "color": "#2a3f5f"
           }
          },
          "ternary": {
           "aaxis": {
            "gridcolor": "white",
            "linecolor": "white",
            "ticks": ""
           },
           "baxis": {
            "gridcolor": "white",
            "linecolor": "white",
            "ticks": ""
           },
           "bgcolor": "#E5ECF6",
           "caxis": {
            "gridcolor": "white",
            "linecolor": "white",
            "ticks": ""
           }
          },
          "title": {
           "x": 0.05
          },
          "xaxis": {
           "automargin": true,
           "gridcolor": "white",
           "linecolor": "white",
           "ticks": "",
           "title": {
            "standoff": 15
           },
           "zerolinecolor": "white",
           "zerolinewidth": 2
          },
          "yaxis": {
           "automargin": true,
           "gridcolor": "white",
           "linecolor": "white",
           "ticks": "",
           "title": {
            "standoff": 15
           },
           "zerolinecolor": "white",
           "zerolinewidth": 2
          }
         }
        },
        "title": {
         "text": "Trained and Predicted Values"
        },
        "width": 1250,
        "xaxis": {
         "title": {
          "text": "Petal Length"
         }
        },
        "yaxis": {
         "title": {
          "text": "Petal Width"
         }
        }
       }
      }
     },
     "metadata": {},
     "output_type": "display_data"
    }
   ],
   "source": [
    "train_data = train_data.astype({\"target\": str})\n",
    "predicted_data = pd.concat([new_data.reset_index(drop=True).drop(columns=\"target\"), reaction[\"action\"]], axis=1)\n",
    "predicted_data = predicted_data.astype({\"target\": str})\n",
    "\n",
    "cmap = px.colors.qualitative.D3\n",
    "fig = go.Figure()\n",
    "for label, group in train_data.groupby(\"target\"):\n",
    "    fig.add_trace(go.Scatter(\n",
    "        x=group[\"petal-length\"],\n",
    "        y=group[\"petal-width\"],\n",
    "        mode=\"markers\",\n",
    "        name=label,\n",
    "        marker=dict(color=cmap[int(label)], opacity=0.75),\n",
    "        legendgroup=\"trained\",\n",
    "        legendgrouptitle_text=\"Trained Target\",\n",
    "    ))\n",
    "\n",
    "for label, group in predicted_data.groupby(\"target\"):\n",
    "    fig.add_trace(go.Scatter(\n",
    "        x=group[\"petal-length\"],\n",
    "        y=group[\"petal-width\"],\n",
    "        mode=\"markers\",\n",
    "        marker=dict(size=12, symbol=\"star\", color=cmap[int(label)], opacity=0.75),\n",
    "        name=label,\n",
    "        legendgroup=\"predicted\",\n",
    "        legendgrouptitle_text=\"Predicted Target\",\n",
    "        hovertext=group.index,\n",
    "    ))\n",
    "\n",
    "fig.update_layout(\n",
    "    xaxis_title=\"Petal Length\",\n",
    "    yaxis_title=\"Petal Width\",\n",
    "    width=1250,\n",
    "    title=\"Trained and Predicted Values\"\n",
    ")\n",
    "fig.show()"
   ]
  },
  {
   "cell_type": "markdown",
   "metadata": {},
   "source": [
    "For categorical action features, the prediction can be further understood with the `categorical_action_probabilities` detail.  This information\n",
    "can highlight cases that are on the border of two classes, like some of the above points are.  The closer a case gets to a class border, the\n",
    "more mixed the categorical action probabilities may get."
   ]
  },
  {
   "cell_type": "code",
   "execution_count": 5,
   "metadata": {},
   "outputs": [
    {
     "name": "stdout",
     "output_type": "stream",
     "text": [
      "[{'target': {'2': 1}}, {'target': {'2': 1}},\n",
      " {'target': {'1': 0.12158151678205559, '2': 0.8784184832179444}},\n",
      " {'target': {'2': 1}},\n",
      " {'target': {'1': 0.3679089709331638, '2': 0.6320910290668362}},\n",
      " {'target': {'1': 1}}, {'target': {'1': 1}}, {'target': {'1': 1}},\n",
      " {'target': {'1': 1}}, {'target': {'1': 1}}, {'target': {'0': 1}},\n",
      " {'target': {'0': 1}}, {'target': {'0': 1}}, {'target': {'0': 1}},\n",
      " {'target': {'0': 1}}, {'target': {'2': 1}}, {'target': {'2': 1}},\n",
      " {'target': {'2': 1}}, {'target': {'2': 1}}, {'target': {'2': 1}},\n",
      " {'target': {'1': 1}}, {'target': {'1': 1}},\n",
      " {'target': {'1': 0.878424395035966, '2': 0.12157560496403398}},\n",
      " {'target': {'1': 0.8769119107056446, '2': 0.12308808929435557}},\n",
      " {'target': {'1': 0.38014383251032097, '2': 0.619856167489679}},\n",
      " {'target': {'0': 1}}, {'target': {'0': 1}}, {'target': {'0': 1}},\n",
      " {'target': {'0': 1}}, {'target': {'0': 1}}]\n"
     ]
    }
   ],
   "source": [
    "pprint(reaction[\"details\"][\"categorical_action_probabilities\"], compact=True)"
   ]
  },
  {
   "cell_type": "markdown",
   "metadata": {},
   "source": [
    "### Insight 1: Which Cases Contributed?\n",
    "\n",
    "Howso provides complete attribution for any and all predictions, showing exactly which cases influenced each prediction.  This can be used to understand or debug predictions.  For instance,\n",
    "we can inspect the influential cases for one of the cases (case `24`) that was on the decision boundary in the plot above.  We can see that there is a mix of target values and no cases stand\n",
    "out in terms of influence weight:"
   ]
  },
  {
   "cell_type": "code",
   "execution_count": 6,
   "metadata": {},
   "outputs": [
    {
     "data": {
      "text/html": [
       "<div>\n",
       "<style scoped>\n",
       "    .dataframe tbody tr th:only-of-type {\n",
       "        vertical-align: middle;\n",
       "    }\n",
       "\n",
       "    .dataframe tbody tr th {\n",
       "        vertical-align: top;\n",
       "    }\n",
       "\n",
       "    .dataframe thead th {\n",
       "        text-align: right;\n",
       "    }\n",
       "</style>\n",
       "<table border=\"1\" class=\"dataframe\">\n",
       "  <thead>\n",
       "    <tr style=\"text-align: right;\">\n",
       "      <th></th>\n",
       "      <th>petal-width</th>\n",
       "      <th>.session_training_index</th>\n",
       "      <th>.influence_weight</th>\n",
       "      <th>petal-length</th>\n",
       "      <th>target</th>\n",
       "      <th>sepal-length</th>\n",
       "      <th>.session</th>\n",
       "      <th>sepal-width</th>\n",
       "    </tr>\n",
       "  </thead>\n",
       "  <tbody>\n",
       "    <tr>\n",
       "      <th>0</th>\n",
       "      <td>1.5</td>\n",
       "      <td>22</td>\n",
       "      <td>0.129053</td>\n",
       "      <td>4.9</td>\n",
       "      <td>1</td>\n",
       "      <td>6.9</td>\n",
       "      <td>c2369bd4-238f-40e9-8259-ddb4253b3c67</td>\n",
       "      <td>3.1</td>\n",
       "    </tr>\n",
       "    <tr>\n",
       "      <th>1</th>\n",
       "      <td>1.5</td>\n",
       "      <td>36</td>\n",
       "      <td>0.128127</td>\n",
       "      <td>4.7</td>\n",
       "      <td>1</td>\n",
       "      <td>6.7</td>\n",
       "      <td>c2369bd4-238f-40e9-8259-ddb4253b3c67</td>\n",
       "      <td>3.1</td>\n",
       "    </tr>\n",
       "    <tr>\n",
       "      <th>2</th>\n",
       "      <td>1.8</td>\n",
       "      <td>77</td>\n",
       "      <td>0.126280</td>\n",
       "      <td>5.5</td>\n",
       "      <td>2</td>\n",
       "      <td>6.5</td>\n",
       "      <td>c2369bd4-238f-40e9-8259-ddb4253b3c67</td>\n",
       "      <td>3.0</td>\n",
       "    </tr>\n",
       "    <tr>\n",
       "      <th>3</th>\n",
       "      <td>1.8</td>\n",
       "      <td>32</td>\n",
       "      <td>0.123981</td>\n",
       "      <td>5.5</td>\n",
       "      <td>2</td>\n",
       "      <td>6.4</td>\n",
       "      <td>c2369bd4-238f-40e9-8259-ddb4253b3c67</td>\n",
       "      <td>3.1</td>\n",
       "    </tr>\n",
       "    <tr>\n",
       "      <th>4</th>\n",
       "      <td>1.8</td>\n",
       "      <td>47</td>\n",
       "      <td>0.123346</td>\n",
       "      <td>4.9</td>\n",
       "      <td>2</td>\n",
       "      <td>6.3</td>\n",
       "      <td>c2369bd4-238f-40e9-8259-ddb4253b3c67</td>\n",
       "      <td>2.7</td>\n",
       "    </tr>\n",
       "    <tr>\n",
       "      <th>5</th>\n",
       "      <td>1.5</td>\n",
       "      <td>17</td>\n",
       "      <td>0.123215</td>\n",
       "      <td>5.1</td>\n",
       "      <td>2</td>\n",
       "      <td>6.3</td>\n",
       "      <td>c2369bd4-238f-40e9-8259-ddb4253b3c67</td>\n",
       "      <td>2.8</td>\n",
       "    </tr>\n",
       "    <tr>\n",
       "      <th>6</th>\n",
       "      <td>1.8</td>\n",
       "      <td>108</td>\n",
       "      <td>0.123034</td>\n",
       "      <td>4.9</td>\n",
       "      <td>2</td>\n",
       "      <td>6.1</td>\n",
       "      <td>c2369bd4-238f-40e9-8259-ddb4253b3c67</td>\n",
       "      <td>3.0</td>\n",
       "    </tr>\n",
       "    <tr>\n",
       "      <th>7</th>\n",
       "      <td>1.5</td>\n",
       "      <td>24</td>\n",
       "      <td>0.122964</td>\n",
       "      <td>4.6</td>\n",
       "      <td>1</td>\n",
       "      <td>6.5</td>\n",
       "      <td>c2369bd4-238f-40e9-8259-ddb4253b3c67</td>\n",
       "      <td>2.8</td>\n",
       "    </tr>\n",
       "  </tbody>\n",
       "</table>\n",
       "</div>"
      ],
      "text/plain": [
       "   petal-width  .session_training_index  .influence_weight  petal-length  \\\n",
       "0          1.5                       22           0.129053           4.9   \n",
       "1          1.5                       36           0.128127           4.7   \n",
       "2          1.8                       77           0.126280           5.5   \n",
       "3          1.8                       32           0.123981           5.5   \n",
       "4          1.8                       47           0.123346           4.9   \n",
       "5          1.5                       17           0.123215           5.1   \n",
       "6          1.8                      108           0.123034           4.9   \n",
       "7          1.5                       24           0.122964           4.6   \n",
       "\n",
       "   target  sepal-length                              .session  sepal-width  \n",
       "0       1           6.9  c2369bd4-238f-40e9-8259-ddb4253b3c67          3.1  \n",
       "1       1           6.7  c2369bd4-238f-40e9-8259-ddb4253b3c67          3.1  \n",
       "2       2           6.5  c2369bd4-238f-40e9-8259-ddb4253b3c67          3.0  \n",
       "3       2           6.4  c2369bd4-238f-40e9-8259-ddb4253b3c67          3.1  \n",
       "4       2           6.3  c2369bd4-238f-40e9-8259-ddb4253b3c67          2.7  \n",
       "5       2           6.3  c2369bd4-238f-40e9-8259-ddb4253b3c67          2.8  \n",
       "6       2           6.1  c2369bd4-238f-40e9-8259-ddb4253b3c67          3.0  \n",
       "7       1           6.5  c2369bd4-238f-40e9-8259-ddb4253b3c67          2.8  "
      ]
     },
     "execution_count": 6,
     "metadata": {},
     "output_type": "execute_result"
    }
   ],
   "source": [
    "inf_cases_24 = pd.DataFrame(reaction[\"details\"][\"influential_cases\"][24])\n",
    "inf_cases_24"
   ]
  },
  {
   "cell_type": "markdown",
   "metadata": {},
   "source": [
    "Compare that to the influential cases for case `29`, which is firmly in the center of the solo cluster.  Here we see a single target value."
   ]
  },
  {
   "cell_type": "code",
   "execution_count": 7,
   "metadata": {},
   "outputs": [
    {
     "data": {
      "text/html": [
       "<div>\n",
       "<style scoped>\n",
       "    .dataframe tbody tr th:only-of-type {\n",
       "        vertical-align: middle;\n",
       "    }\n",
       "\n",
       "    .dataframe tbody tr th {\n",
       "        vertical-align: top;\n",
       "    }\n",
       "\n",
       "    .dataframe thead th {\n",
       "        text-align: right;\n",
       "    }\n",
       "</style>\n",
       "<table border=\"1\" class=\"dataframe\">\n",
       "  <thead>\n",
       "    <tr style=\"text-align: right;\">\n",
       "      <th></th>\n",
       "      <th>petal-width</th>\n",
       "      <th>.session_training_index</th>\n",
       "      <th>.influence_weight</th>\n",
       "      <th>petal-length</th>\n",
       "      <th>target</th>\n",
       "      <th>sepal-length</th>\n",
       "      <th>.session</th>\n",
       "      <th>sepal-width</th>\n",
       "    </tr>\n",
       "  </thead>\n",
       "  <tbody>\n",
       "    <tr>\n",
       "      <th>0</th>\n",
       "      <td>0.5</td>\n",
       "      <td>115</td>\n",
       "      <td>0.127613</td>\n",
       "      <td>1.7</td>\n",
       "      <td>0</td>\n",
       "      <td>5.1</td>\n",
       "      <td>c2369bd4-238f-40e9-8259-ddb4253b3c67</td>\n",
       "      <td>3.3</td>\n",
       "    </tr>\n",
       "    <tr>\n",
       "      <th>1</th>\n",
       "      <td>0.3</td>\n",
       "      <td>27</td>\n",
       "      <td>0.126686</td>\n",
       "      <td>1.4</td>\n",
       "      <td>0</td>\n",
       "      <td>5.1</td>\n",
       "      <td>c2369bd4-238f-40e9-8259-ddb4253b3c67</td>\n",
       "      <td>3.5</td>\n",
       "    </tr>\n",
       "    <tr>\n",
       "      <th>2</th>\n",
       "      <td>0.3</td>\n",
       "      <td>56</td>\n",
       "      <td>0.125578</td>\n",
       "      <td>1.3</td>\n",
       "      <td>0</td>\n",
       "      <td>5.0</td>\n",
       "      <td>c2369bd4-238f-40e9-8259-ddb4253b3c67</td>\n",
       "      <td>3.5</td>\n",
       "    </tr>\n",
       "    <tr>\n",
       "      <th>3</th>\n",
       "      <td>0.2</td>\n",
       "      <td>89</td>\n",
       "      <td>0.125353</td>\n",
       "      <td>1.5</td>\n",
       "      <td>0</td>\n",
       "      <td>5.0</td>\n",
       "      <td>c2369bd4-238f-40e9-8259-ddb4253b3c67</td>\n",
       "      <td>3.4</td>\n",
       "    </tr>\n",
       "    <tr>\n",
       "      <th>4</th>\n",
       "      <td>0.4</td>\n",
       "      <td>55</td>\n",
       "      <td>0.124283</td>\n",
       "      <td>1.5</td>\n",
       "      <td>0</td>\n",
       "      <td>5.4</td>\n",
       "      <td>c2369bd4-238f-40e9-8259-ddb4253b3c67</td>\n",
       "      <td>3.4</td>\n",
       "    </tr>\n",
       "    <tr>\n",
       "      <th>5</th>\n",
       "      <td>0.2</td>\n",
       "      <td>14</td>\n",
       "      <td>0.123788</td>\n",
       "      <td>1.4</td>\n",
       "      <td>0</td>\n",
       "      <td>5.0</td>\n",
       "      <td>c2369bd4-238f-40e9-8259-ddb4253b3c67</td>\n",
       "      <td>3.3</td>\n",
       "    </tr>\n",
       "    <tr>\n",
       "      <th>6</th>\n",
       "      <td>0.2</td>\n",
       "      <td>43</td>\n",
       "      <td>0.123433</td>\n",
       "      <td>1.4</td>\n",
       "      <td>0</td>\n",
       "      <td>5.1</td>\n",
       "      <td>c2369bd4-238f-40e9-8259-ddb4253b3c67</td>\n",
       "      <td>3.5</td>\n",
       "    </tr>\n",
       "    <tr>\n",
       "      <th>7</th>\n",
       "      <td>0.2</td>\n",
       "      <td>101</td>\n",
       "      <td>0.123265</td>\n",
       "      <td>1.5</td>\n",
       "      <td>0</td>\n",
       "      <td>5.2</td>\n",
       "      <td>c2369bd4-238f-40e9-8259-ddb4253b3c67</td>\n",
       "      <td>3.5</td>\n",
       "    </tr>\n",
       "  </tbody>\n",
       "</table>\n",
       "</div>"
      ],
      "text/plain": [
       "   petal-width  .session_training_index  .influence_weight  petal-length  \\\n",
       "0          0.5                      115           0.127613           1.7   \n",
       "1          0.3                       27           0.126686           1.4   \n",
       "2          0.3                       56           0.125578           1.3   \n",
       "3          0.2                       89           0.125353           1.5   \n",
       "4          0.4                       55           0.124283           1.5   \n",
       "5          0.2                       14           0.123788           1.4   \n",
       "6          0.2                       43           0.123433           1.4   \n",
       "7          0.2                      101           0.123265           1.5   \n",
       "\n",
       "   target  sepal-length                              .session  sepal-width  \n",
       "0       0           5.1  c2369bd4-238f-40e9-8259-ddb4253b3c67          3.3  \n",
       "1       0           5.1  c2369bd4-238f-40e9-8259-ddb4253b3c67          3.5  \n",
       "2       0           5.0  c2369bd4-238f-40e9-8259-ddb4253b3c67          3.5  \n",
       "3       0           5.0  c2369bd4-238f-40e9-8259-ddb4253b3c67          3.4  \n",
       "4       0           5.4  c2369bd4-238f-40e9-8259-ddb4253b3c67          3.4  \n",
       "5       0           5.0  c2369bd4-238f-40e9-8259-ddb4253b3c67          3.3  \n",
       "6       0           5.1  c2369bd4-238f-40e9-8259-ddb4253b3c67          3.5  \n",
       "7       0           5.2  c2369bd4-238f-40e9-8259-ddb4253b3c67          3.5  "
      ]
     },
     "execution_count": 7,
     "metadata": {},
     "output_type": "execute_result"
    }
   ],
   "source": [
    "inf_cases_29 = pd.DataFrame(reaction[\"details\"][\"influential_cases\"][29])\n",
    "inf_cases_29"
   ]
  },
  {
   "cell_type": "markdown",
   "metadata": {},
   "source": [
    "With the influential cases we can derive additional insights, such as identifying anomalous cases from within the influential cases using `similarity_conviction`.  \n",
    "This can help to identify data that are making predictions more noisy or identify what type of data should be collected to improve predictive power in the future."
   ]
  },
  {
   "cell_type": "code",
   "execution_count": 8,
   "metadata": {},
   "outputs": [
    {
     "data": {
      "text/html": [
       "<div>\n",
       "<style scoped>\n",
       "    .dataframe tbody tr th:only-of-type {\n",
       "        vertical-align: middle;\n",
       "    }\n",
       "\n",
       "    .dataframe tbody tr th {\n",
       "        vertical-align: top;\n",
       "    }\n",
       "\n",
       "    .dataframe thead th {\n",
       "        text-align: right;\n",
       "    }\n",
       "</style>\n",
       "<table border=\"1\" class=\"dataframe\">\n",
       "  <thead>\n",
       "    <tr style=\"text-align: right;\">\n",
       "      <th></th>\n",
       "      <th>sepal-length</th>\n",
       "      <th>sepal-width</th>\n",
       "      <th>petal-length</th>\n",
       "      <th>petal-width</th>\n",
       "      <th>target</th>\n",
       "      <th>similarity_conviction</th>\n",
       "    </tr>\n",
       "  </thead>\n",
       "  <tbody>\n",
       "    <tr>\n",
       "      <th>0</th>\n",
       "      <td>6.9</td>\n",
       "      <td>3.1</td>\n",
       "      <td>4.9</td>\n",
       "      <td>1.5</td>\n",
       "      <td>1</td>\n",
       "      <td>0.984911</td>\n",
       "    </tr>\n",
       "    <tr>\n",
       "      <th>5</th>\n",
       "      <td>6.3</td>\n",
       "      <td>2.8</td>\n",
       "      <td>5.1</td>\n",
       "      <td>1.5</td>\n",
       "      <td>2</td>\n",
       "      <td>0.998538</td>\n",
       "    </tr>\n",
       "    <tr>\n",
       "      <th>7</th>\n",
       "      <td>6.5</td>\n",
       "      <td>2.8</td>\n",
       "      <td>4.6</td>\n",
       "      <td>1.5</td>\n",
       "      <td>1</td>\n",
       "      <td>1.009214</td>\n",
       "    </tr>\n",
       "    <tr>\n",
       "      <th>3</th>\n",
       "      <td>6.4</td>\n",
       "      <td>3.1</td>\n",
       "      <td>5.5</td>\n",
       "      <td>1.8</td>\n",
       "      <td>2</td>\n",
       "      <td>1.010983</td>\n",
       "    </tr>\n",
       "    <tr>\n",
       "      <th>2</th>\n",
       "      <td>6.5</td>\n",
       "      <td>3.0</td>\n",
       "      <td>5.5</td>\n",
       "      <td>1.8</td>\n",
       "      <td>2</td>\n",
       "      <td>1.013636</td>\n",
       "    </tr>\n",
       "    <tr>\n",
       "      <th>1</th>\n",
       "      <td>6.7</td>\n",
       "      <td>3.1</td>\n",
       "      <td>4.7</td>\n",
       "      <td>1.5</td>\n",
       "      <td>1</td>\n",
       "      <td>1.018396</td>\n",
       "    </tr>\n",
       "    <tr>\n",
       "      <th>6</th>\n",
       "      <td>6.1</td>\n",
       "      <td>3.0</td>\n",
       "      <td>4.9</td>\n",
       "      <td>1.8</td>\n",
       "      <td>2</td>\n",
       "      <td>1.030155</td>\n",
       "    </tr>\n",
       "    <tr>\n",
       "      <th>4</th>\n",
       "      <td>6.3</td>\n",
       "      <td>2.7</td>\n",
       "      <td>4.9</td>\n",
       "      <td>1.8</td>\n",
       "      <td>2</td>\n",
       "      <td>1.033912</td>\n",
       "    </tr>\n",
       "  </tbody>\n",
       "</table>\n",
       "</div>"
      ],
      "text/plain": [
       "   sepal-length  sepal-width  petal-length  petal-width  target  \\\n",
       "0           6.9          3.1           4.9          1.5       1   \n",
       "5           6.3          2.8           5.1          1.5       2   \n",
       "7           6.5          2.8           4.6          1.5       1   \n",
       "3           6.4          3.1           5.5          1.8       2   \n",
       "2           6.5          3.0           5.5          1.8       2   \n",
       "1           6.7          3.1           4.7          1.5       1   \n",
       "6           6.1          3.0           4.9          1.8       2   \n",
       "4           6.3          2.7           4.9          1.8       2   \n",
       "\n",
       "   similarity_conviction  \n",
       "0               0.984911  \n",
       "5               0.998538  \n",
       "7               1.009214  \n",
       "3               1.010983  \n",
       "2               1.013636  \n",
       "1               1.018396  \n",
       "6               1.030155  \n",
       "4               1.033912  "
      ]
     },
     "execution_count": 8,
     "metadata": {},
     "output_type": "execute_result"
    }
   ],
   "source": [
    "inf_case_indices = inf_cases_24[[\".session\", \".session_training_index\"]].values.tolist()\n",
    "\n",
    "anom_df = t.get_cases(\n",
    "    case_indices=inf_case_indices,\n",
    "    features=[\"sepal-length\", \"sepal-width\", \"petal-length\", \"petal-width\", \"target\", \"similarity_conviction\"]\n",
    ")\n",
    "\n",
    "anom_df.sort_values(by=\"similarity_conviction\")"
   ]
  },
  {
   "cell_type": "code",
   "execution_count": 9,
   "metadata": {},
   "outputs": [
    {
     "data": {
      "text/html": [
       "<div>\n",
       "<style scoped>\n",
       "    .dataframe tbody tr th:only-of-type {\n",
       "        vertical-align: middle;\n",
       "    }\n",
       "\n",
       "    .dataframe tbody tr th {\n",
       "        vertical-align: top;\n",
       "    }\n",
       "\n",
       "    .dataframe thead th {\n",
       "        text-align: right;\n",
       "    }\n",
       "</style>\n",
       "<table border=\"1\" class=\"dataframe\">\n",
       "  <thead>\n",
       "    <tr style=\"text-align: right;\">\n",
       "      <th></th>\n",
       "      <th>sepal-length</th>\n",
       "      <th>sepal-width</th>\n",
       "      <th>petal-length</th>\n",
       "      <th>petal-width</th>\n",
       "      <th>target</th>\n",
       "      <th>similarity_conviction</th>\n",
       "    </tr>\n",
       "  </thead>\n",
       "  <tbody>\n",
       "    <tr>\n",
       "      <th>0</th>\n",
       "      <td>5.1</td>\n",
       "      <td>3.3</td>\n",
       "      <td>1.7</td>\n",
       "      <td>0.5</td>\n",
       "      <td>0</td>\n",
       "      <td>0.953567</td>\n",
       "    </tr>\n",
       "    <tr>\n",
       "      <th>4</th>\n",
       "      <td>5.4</td>\n",
       "      <td>3.4</td>\n",
       "      <td>1.5</td>\n",
       "      <td>0.4</td>\n",
       "      <td>0</td>\n",
       "      <td>0.986969</td>\n",
       "    </tr>\n",
       "    <tr>\n",
       "      <th>2</th>\n",
       "      <td>5.0</td>\n",
       "      <td>3.5</td>\n",
       "      <td>1.3</td>\n",
       "      <td>0.3</td>\n",
       "      <td>0</td>\n",
       "      <td>1.007771</td>\n",
       "    </tr>\n",
       "    <tr>\n",
       "      <th>5</th>\n",
       "      <td>5.0</td>\n",
       "      <td>3.3</td>\n",
       "      <td>1.4</td>\n",
       "      <td>0.2</td>\n",
       "      <td>0</td>\n",
       "      <td>1.010542</td>\n",
       "    </tr>\n",
       "    <tr>\n",
       "      <th>3</th>\n",
       "      <td>5.0</td>\n",
       "      <td>3.4</td>\n",
       "      <td>1.5</td>\n",
       "      <td>0.2</td>\n",
       "      <td>0</td>\n",
       "      <td>1.013599</td>\n",
       "    </tr>\n",
       "    <tr>\n",
       "      <th>1</th>\n",
       "      <td>5.1</td>\n",
       "      <td>3.5</td>\n",
       "      <td>1.4</td>\n",
       "      <td>0.3</td>\n",
       "      <td>0</td>\n",
       "      <td>1.014387</td>\n",
       "    </tr>\n",
       "    <tr>\n",
       "      <th>6</th>\n",
       "      <td>5.1</td>\n",
       "      <td>3.5</td>\n",
       "      <td>1.4</td>\n",
       "      <td>0.2</td>\n",
       "      <td>0</td>\n",
       "      <td>1.018135</td>\n",
       "    </tr>\n",
       "    <tr>\n",
       "      <th>7</th>\n",
       "      <td>5.2</td>\n",
       "      <td>3.5</td>\n",
       "      <td>1.5</td>\n",
       "      <td>0.2</td>\n",
       "      <td>0</td>\n",
       "      <td>1.021248</td>\n",
       "    </tr>\n",
       "  </tbody>\n",
       "</table>\n",
       "</div>"
      ],
      "text/plain": [
       "   sepal-length  sepal-width  petal-length  petal-width  target  \\\n",
       "0           5.1          3.3           1.7          0.5       0   \n",
       "4           5.4          3.4           1.5          0.4       0   \n",
       "2           5.0          3.5           1.3          0.3       0   \n",
       "5           5.0          3.3           1.4          0.2       0   \n",
       "3           5.0          3.4           1.5          0.2       0   \n",
       "1           5.1          3.5           1.4          0.3       0   \n",
       "6           5.1          3.5           1.4          0.2       0   \n",
       "7           5.2          3.5           1.5          0.2       0   \n",
       "\n",
       "   similarity_conviction  \n",
       "0               0.953567  \n",
       "4               0.986969  \n",
       "2               1.007771  \n",
       "5               1.010542  \n",
       "3               1.013599  \n",
       "1               1.014387  \n",
       "6               1.018135  \n",
       "7               1.021248  "
      ]
     },
     "execution_count": 9,
     "metadata": {},
     "output_type": "execute_result"
    }
   ],
   "source": [
    "inf_case_indices = inf_cases_29[[\".session\", \".session_training_index\"]].values.tolist()\n",
    "\n",
    "anom_df = t.get_cases(\n",
    "    case_indices=inf_case_indices,\n",
    "    features=[\"sepal-length\", \"sepal-width\", \"petal-length\", \"petal-width\", \"target\", \"similarity_conviction\"],\n",
    ")\n",
    "\n",
    "anom_df.sort_values(by=\"similarity_conviction\")"
   ]
  },
  {
   "cell_type": "markdown",
   "metadata": {},
   "source": [
    "### Insight 2: Which Features Contributed?\n",
    "\n",
    "In addition to providing attribution to cases, Howso also provides robust feature contributions to explain which features contributed to each prediction.\n",
    "When inspecting the feature importances for case `24`,  we see that `petal-width` and `petal-length` provided the majority of the contribution to the \n",
    "prediction, whereas for case `29` `petal-width` and `petal-length` only have slightly higher contributions than the other features.  This could indicate \n",
    "that different features are more important for predicting different classes within this dataset and that focusing on those features would be prudent."
   ]
  },
  {
   "cell_type": "code",
   "execution_count": 10,
   "metadata": {},
   "outputs": [
    {
     "data": {
      "text/html": [
       "<div>\n",
       "<style scoped>\n",
       "    .dataframe tbody tr th:only-of-type {\n",
       "        vertical-align: middle;\n",
       "    }\n",
       "\n",
       "    .dataframe tbody tr th {\n",
       "        vertical-align: top;\n",
       "    }\n",
       "\n",
       "    .dataframe thead th {\n",
       "        text-align: right;\n",
       "    }\n",
       "</style>\n",
       "<table border=\"1\" class=\"dataframe\">\n",
       "  <thead>\n",
       "    <tr style=\"text-align: right;\">\n",
       "      <th></th>\n",
       "      <th>petal-width</th>\n",
       "      <th>petal-length</th>\n",
       "      <th>sepal-length</th>\n",
       "      <th>sepal-width</th>\n",
       "    </tr>\n",
       "  </thead>\n",
       "  <tbody>\n",
       "    <tr>\n",
       "      <th>24</th>\n",
       "      <td>0.353597</td>\n",
       "      <td>0.22389</td>\n",
       "      <td>0.099016</td>\n",
       "      <td>0.049315</td>\n",
       "    </tr>\n",
       "  </tbody>\n",
       "</table>\n",
       "</div>"
      ],
      "text/plain": [
       "    petal-width  petal-length  sepal-length  sepal-width\n",
       "24     0.353597       0.22389      0.099016     0.049315"
      ]
     },
     "metadata": {},
     "output_type": "display_data"
    },
    {
     "data": {
      "text/html": [
       "<div>\n",
       "<style scoped>\n",
       "    .dataframe tbody tr th:only-of-type {\n",
       "        vertical-align: middle;\n",
       "    }\n",
       "\n",
       "    .dataframe tbody tr th {\n",
       "        vertical-align: top;\n",
       "    }\n",
       "\n",
       "    .dataframe thead th {\n",
       "        text-align: right;\n",
       "    }\n",
       "</style>\n",
       "<table border=\"1\" class=\"dataframe\">\n",
       "  <thead>\n",
       "    <tr style=\"text-align: right;\">\n",
       "      <th></th>\n",
       "      <th>petal-width</th>\n",
       "      <th>petal-length</th>\n",
       "      <th>sepal-length</th>\n",
       "      <th>sepal-width</th>\n",
       "    </tr>\n",
       "  </thead>\n",
       "  <tbody>\n",
       "    <tr>\n",
       "      <th>29</th>\n",
       "      <td>0.193158</td>\n",
       "      <td>0.194967</td>\n",
       "      <td>0.125331</td>\n",
       "      <td>0.108633</td>\n",
       "    </tr>\n",
       "  </tbody>\n",
       "</table>\n",
       "</div>"
      ],
      "text/plain": [
       "    petal-width  petal-length  sepal-length  sepal-width\n",
       "29     0.193158      0.194967      0.125331     0.108633"
      ]
     },
     "metadata": {},
     "output_type": "display_data"
    }
   ],
   "source": [
    "fcs_24 = pd.DataFrame(reaction[\"details\"][\"feature_contributions\"][24:25], index=[24])\n",
    "fcs_29 = pd.DataFrame(reaction[\"details\"][\"feature_contributions\"][29:30], index=[29])\n",
    "\n",
    "display(fcs_24)\n",
    "display(fcs_29)\n"
   ]
  },
  {
   "cell_type": "markdown",
   "metadata": {},
   "source": [
    "### Insight 3: How Certain is the Prediction?"
   ]
  },
  {
   "cell_type": "markdown",
   "metadata": {},
   "source": [
    "[Residuals](https://docs.howso.com/user_guide/basic_capabilities/residuals.html) can characterize the uncertainty of the data around the prediction.  This will tell us which features are hard to predict in the region of the data around each case we're predicting.\n",
    "If a prediction is less accurate than expected, this can explain which features were noisy and may have contributed to the problem."
   ]
  },
  {
   "cell_type": "code",
   "execution_count": 11,
   "metadata": {},
   "outputs": [
    {
     "data": {
      "text/html": [
       "<div>\n",
       "<style scoped>\n",
       "    .dataframe tbody tr th:only-of-type {\n",
       "        vertical-align: middle;\n",
       "    }\n",
       "\n",
       "    .dataframe tbody tr th {\n",
       "        vertical-align: top;\n",
       "    }\n",
       "\n",
       "    .dataframe thead th {\n",
       "        text-align: right;\n",
       "    }\n",
       "</style>\n",
       "<table border=\"1\" class=\"dataframe\">\n",
       "  <thead>\n",
       "    <tr style=\"text-align: right;\">\n",
       "      <th></th>\n",
       "      <th>petal-width</th>\n",
       "      <th>petal-length</th>\n",
       "      <th>target</th>\n",
       "      <th>sepal-length</th>\n",
       "      <th>sepal-width</th>\n",
       "    </tr>\n",
       "  </thead>\n",
       "  <tbody>\n",
       "    <tr>\n",
       "      <th>0</th>\n",
       "      <td>0.303407</td>\n",
       "      <td>0.321109</td>\n",
       "      <td>0.135434</td>\n",
       "      <td>0.250106</td>\n",
       "      <td>0.152110</td>\n",
       "    </tr>\n",
       "    <tr>\n",
       "      <th>1</th>\n",
       "      <td>0.201253</td>\n",
       "      <td>0.352991</td>\n",
       "      <td>0.317824</td>\n",
       "      <td>0.203021</td>\n",
       "      <td>0.222641</td>\n",
       "    </tr>\n",
       "    <tr>\n",
       "      <th>2</th>\n",
       "      <td>0.187110</td>\n",
       "      <td>0.361751</td>\n",
       "      <td>0.323383</td>\n",
       "      <td>0.339382</td>\n",
       "      <td>0.199041</td>\n",
       "    </tr>\n",
       "    <tr>\n",
       "      <th>3</th>\n",
       "      <td>0.412683</td>\n",
       "      <td>0.471883</td>\n",
       "      <td>0.277863</td>\n",
       "      <td>0.331419</td>\n",
       "      <td>0.139323</td>\n",
       "    </tr>\n",
       "    <tr>\n",
       "      <th>4</th>\n",
       "      <td>0.219836</td>\n",
       "      <td>0.274895</td>\n",
       "      <td>0.225341</td>\n",
       "      <td>0.368469</td>\n",
       "      <td>0.252307</td>\n",
       "    </tr>\n",
       "    <tr>\n",
       "      <th>5</th>\n",
       "      <td>0.181884</td>\n",
       "      <td>0.554572</td>\n",
       "      <td>0.055472</td>\n",
       "      <td>0.332925</td>\n",
       "      <td>0.291596</td>\n",
       "    </tr>\n",
       "    <tr>\n",
       "      <th>6</th>\n",
       "      <td>0.215172</td>\n",
       "      <td>0.313651</td>\n",
       "      <td>0.192183</td>\n",
       "      <td>0.382037</td>\n",
       "      <td>0.220704</td>\n",
       "    </tr>\n",
       "    <tr>\n",
       "      <th>7</th>\n",
       "      <td>0.202946</td>\n",
       "      <td>0.298681</td>\n",
       "      <td>0.178190</td>\n",
       "      <td>0.335324</td>\n",
       "      <td>0.311656</td>\n",
       "    </tr>\n",
       "    <tr>\n",
       "      <th>8</th>\n",
       "      <td>0.106969</td>\n",
       "      <td>0.197829</td>\n",
       "      <td>0.268997</td>\n",
       "      <td>0.330842</td>\n",
       "      <td>0.198229</td>\n",
       "    </tr>\n",
       "    <tr>\n",
       "      <th>9</th>\n",
       "      <td>0.110712</td>\n",
       "      <td>0.163008</td>\n",
       "      <td>0.046459</td>\n",
       "      <td>0.317863</td>\n",
       "      <td>0.164311</td>\n",
       "    </tr>\n",
       "    <tr>\n",
       "      <th>10</th>\n",
       "      <td>0.159057</td>\n",
       "      <td>0.368139</td>\n",
       "      <td>0.156250</td>\n",
       "      <td>0.365023</td>\n",
       "      <td>0.229321</td>\n",
       "    </tr>\n",
       "    <tr>\n",
       "      <th>11</th>\n",
       "      <td>0.119620</td>\n",
       "      <td>0.198605</td>\n",
       "      <td>0.025069</td>\n",
       "      <td>0.171283</td>\n",
       "      <td>0.182442</td>\n",
       "    </tr>\n",
       "    <tr>\n",
       "      <th>12</th>\n",
       "      <td>0.070302</td>\n",
       "      <td>0.190910</td>\n",
       "      <td>0.008264</td>\n",
       "      <td>0.205668</td>\n",
       "      <td>0.097545</td>\n",
       "    </tr>\n",
       "    <tr>\n",
       "      <th>13</th>\n",
       "      <td>0.194139</td>\n",
       "      <td>0.534303</td>\n",
       "      <td>0.133333</td>\n",
       "      <td>0.465503</td>\n",
       "      <td>0.149286</td>\n",
       "    </tr>\n",
       "    <tr>\n",
       "      <th>14</th>\n",
       "      <td>0.183207</td>\n",
       "      <td>0.340057</td>\n",
       "      <td>0.091742</td>\n",
       "      <td>0.362823</td>\n",
       "      <td>0.151715</td>\n",
       "    </tr>\n",
       "    <tr>\n",
       "      <th>15</th>\n",
       "      <td>0.297497</td>\n",
       "      <td>0.485357</td>\n",
       "      <td>0.130185</td>\n",
       "      <td>0.295772</td>\n",
       "      <td>0.154784</td>\n",
       "    </tr>\n",
       "    <tr>\n",
       "      <th>16</th>\n",
       "      <td>0.183674</td>\n",
       "      <td>0.351207</td>\n",
       "      <td>0.046820</td>\n",
       "      <td>0.475440</td>\n",
       "      <td>0.272717</td>\n",
       "    </tr>\n",
       "    <tr>\n",
       "      <th>17</th>\n",
       "      <td>0.436631</td>\n",
       "      <td>1.122441</td>\n",
       "      <td>0.222222</td>\n",
       "      <td>0.630598</td>\n",
       "      <td>0.270011</td>\n",
       "    </tr>\n",
       "    <tr>\n",
       "      <th>18</th>\n",
       "      <td>0.610033</td>\n",
       "      <td>0.858189</td>\n",
       "      <td>0.202306</td>\n",
       "      <td>0.693354</td>\n",
       "      <td>0.288530</td>\n",
       "    </tr>\n",
       "    <tr>\n",
       "      <th>19</th>\n",
       "      <td>0.264025</td>\n",
       "      <td>0.412122</td>\n",
       "      <td>0.227781</td>\n",
       "      <td>0.422070</td>\n",
       "      <td>0.198663</td>\n",
       "    </tr>\n",
       "    <tr>\n",
       "      <th>20</th>\n",
       "      <td>0.180167</td>\n",
       "      <td>0.391226</td>\n",
       "      <td>0.129546</td>\n",
       "      <td>0.323031</td>\n",
       "      <td>0.222769</td>\n",
       "    </tr>\n",
       "    <tr>\n",
       "      <th>21</th>\n",
       "      <td>0.140664</td>\n",
       "      <td>0.231123</td>\n",
       "      <td>0.240022</td>\n",
       "      <td>0.403448</td>\n",
       "      <td>0.183232</td>\n",
       "    </tr>\n",
       "    <tr>\n",
       "      <th>22</th>\n",
       "      <td>0.204103</td>\n",
       "      <td>0.317822</td>\n",
       "      <td>0.389016</td>\n",
       "      <td>0.278294</td>\n",
       "      <td>0.170250</td>\n",
       "    </tr>\n",
       "    <tr>\n",
       "      <th>23</th>\n",
       "      <td>0.127105</td>\n",
       "      <td>0.339014</td>\n",
       "      <td>0.297520</td>\n",
       "      <td>0.359434</td>\n",
       "      <td>0.206871</td>\n",
       "    </tr>\n",
       "    <tr>\n",
       "      <th>24</th>\n",
       "      <td>0.306170</td>\n",
       "      <td>0.388226</td>\n",
       "      <td>0.416018</td>\n",
       "      <td>0.331696</td>\n",
       "      <td>0.141175</td>\n",
       "    </tr>\n",
       "    <tr>\n",
       "      <th>25</th>\n",
       "      <td>0.239502</td>\n",
       "      <td>0.630315</td>\n",
       "      <td>0.070674</td>\n",
       "      <td>0.296080</td>\n",
       "      <td>0.256146</td>\n",
       "    </tr>\n",
       "    <tr>\n",
       "      <th>26</th>\n",
       "      <td>0.176121</td>\n",
       "      <td>0.406437</td>\n",
       "      <td>0.098783</td>\n",
       "      <td>0.369583</td>\n",
       "      <td>0.426217</td>\n",
       "    </tr>\n",
       "    <tr>\n",
       "      <th>27</th>\n",
       "      <td>0.078363</td>\n",
       "      <td>0.189379</td>\n",
       "      <td>0.035821</td>\n",
       "      <td>0.183964</td>\n",
       "      <td>0.187587</td>\n",
       "    </tr>\n",
       "    <tr>\n",
       "      <th>28</th>\n",
       "      <td>0.043864</td>\n",
       "      <td>0.170459</td>\n",
       "      <td>0.008264</td>\n",
       "      <td>0.262882</td>\n",
       "      <td>0.136135</td>\n",
       "    </tr>\n",
       "    <tr>\n",
       "      <th>29</th>\n",
       "      <td>0.208038</td>\n",
       "      <td>0.445429</td>\n",
       "      <td>0.060606</td>\n",
       "      <td>0.317734</td>\n",
       "      <td>0.223783</td>\n",
       "    </tr>\n",
       "  </tbody>\n",
       "</table>\n",
       "</div>"
      ],
      "text/plain": [
       "    petal-width  petal-length    target  sepal-length  sepal-width\n",
       "0      0.303407      0.321109  0.135434      0.250106     0.152110\n",
       "1      0.201253      0.352991  0.317824      0.203021     0.222641\n",
       "2      0.187110      0.361751  0.323383      0.339382     0.199041\n",
       "3      0.412683      0.471883  0.277863      0.331419     0.139323\n",
       "4      0.219836      0.274895  0.225341      0.368469     0.252307\n",
       "5      0.181884      0.554572  0.055472      0.332925     0.291596\n",
       "6      0.215172      0.313651  0.192183      0.382037     0.220704\n",
       "7      0.202946      0.298681  0.178190      0.335324     0.311656\n",
       "8      0.106969      0.197829  0.268997      0.330842     0.198229\n",
       "9      0.110712      0.163008  0.046459      0.317863     0.164311\n",
       "10     0.159057      0.368139  0.156250      0.365023     0.229321\n",
       "11     0.119620      0.198605  0.025069      0.171283     0.182442\n",
       "12     0.070302      0.190910  0.008264      0.205668     0.097545\n",
       "13     0.194139      0.534303  0.133333      0.465503     0.149286\n",
       "14     0.183207      0.340057  0.091742      0.362823     0.151715\n",
       "15     0.297497      0.485357  0.130185      0.295772     0.154784\n",
       "16     0.183674      0.351207  0.046820      0.475440     0.272717\n",
       "17     0.436631      1.122441  0.222222      0.630598     0.270011\n",
       "18     0.610033      0.858189  0.202306      0.693354     0.288530\n",
       "19     0.264025      0.412122  0.227781      0.422070     0.198663\n",
       "20     0.180167      0.391226  0.129546      0.323031     0.222769\n",
       "21     0.140664      0.231123  0.240022      0.403448     0.183232\n",
       "22     0.204103      0.317822  0.389016      0.278294     0.170250\n",
       "23     0.127105      0.339014  0.297520      0.359434     0.206871\n",
       "24     0.306170      0.388226  0.416018      0.331696     0.141175\n",
       "25     0.239502      0.630315  0.070674      0.296080     0.256146\n",
       "26     0.176121      0.406437  0.098783      0.369583     0.426217\n",
       "27     0.078363      0.189379  0.035821      0.183964     0.187587\n",
       "28     0.043864      0.170459  0.008264      0.262882     0.136135\n",
       "29     0.208038      0.445429  0.060606      0.317734     0.223783"
      ]
     },
     "execution_count": 11,
     "metadata": {},
     "output_type": "execute_result"
    }
   ],
   "source": [
    "pd.DataFrame(reaction[\"details\"][\"feature_residuals\"])"
   ]
  },
  {
   "cell_type": "markdown",
   "metadata": {},
   "source": [
    "We can also use [`residual conviction`](https://docs.howso.com/user_guide/basic_capabilities/conviction.html#prediction-residual-conviction) to determine which features are uncertain in a scale-invariant manner,\n",
    "which can be useful if you wish to compare different features of different scales against each other."
   ]
  },
  {
   "cell_type": "code",
   "execution_count": 12,
   "metadata": {},
   "outputs": [
    {
     "data": {
      "text/html": [
       "<div>\n",
       "<style scoped>\n",
       "    .dataframe tbody tr th:only-of-type {\n",
       "        vertical-align: middle;\n",
       "    }\n",
       "\n",
       "    .dataframe tbody tr th {\n",
       "        vertical-align: top;\n",
       "    }\n",
       "\n",
       "    .dataframe thead th {\n",
       "        text-align: right;\n",
       "    }\n",
       "</style>\n",
       "<table border=\"1\" class=\"dataframe\">\n",
       "  <thead>\n",
       "    <tr style=\"text-align: right;\">\n",
       "      <th></th>\n",
       "      <th>petal-width</th>\n",
       "      <th>petal-length</th>\n",
       "      <th>target</th>\n",
       "      <th>sepal-length</th>\n",
       "      <th>sepal-width</th>\n",
       "    </tr>\n",
       "  </thead>\n",
       "  <tbody>\n",
       "    <tr>\n",
       "      <th>0</th>\n",
       "      <td>1.170071</td>\n",
       "      <td>1.931268</td>\n",
       "      <td>1.759374</td>\n",
       "      <td>1.580108</td>\n",
       "      <td>0.602382</td>\n",
       "    </tr>\n",
       "    <tr>\n",
       "      <th>1</th>\n",
       "      <td>2.202485</td>\n",
       "      <td>1.575183</td>\n",
       "      <td>0.898450</td>\n",
       "      <td>1.803481</td>\n",
       "      <td>1.029518</td>\n",
       "    </tr>\n",
       "    <tr>\n",
       "      <th>2</th>\n",
       "      <td>2.647763</td>\n",
       "      <td>1.446682</td>\n",
       "      <td>1.500161</td>\n",
       "      <td>0.838021</td>\n",
       "      <td>1.748231</td>\n",
       "    </tr>\n",
       "    <tr>\n",
       "      <th>3</th>\n",
       "      <td>1.001863</td>\n",
       "      <td>1.369058</td>\n",
       "      <td>0.472099</td>\n",
       "      <td>1.036841</td>\n",
       "      <td>0.425108</td>\n",
       "    </tr>\n",
       "    <tr>\n",
       "      <th>4</th>\n",
       "      <td>1.750091</td>\n",
       "      <td>0.787880</td>\n",
       "      <td>0.774590</td>\n",
       "      <td>1.508964</td>\n",
       "      <td>1.004640</td>\n",
       "    </tr>\n",
       "    <tr>\n",
       "      <th>5</th>\n",
       "      <td>1.007053</td>\n",
       "      <td>1.757039</td>\n",
       "      <td>1.090460</td>\n",
       "      <td>3.315311</td>\n",
       "      <td>1.696239</td>\n",
       "    </tr>\n",
       "    <tr>\n",
       "      <th>6</th>\n",
       "      <td>0.771271</td>\n",
       "      <td>0.453613</td>\n",
       "      <td>0.550969</td>\n",
       "      <td>0.467964</td>\n",
       "      <td>1.423346</td>\n",
       "    </tr>\n",
       "    <tr>\n",
       "      <th>7</th>\n",
       "      <td>0.993329</td>\n",
       "      <td>0.341920</td>\n",
       "      <td>0.423613</td>\n",
       "      <td>0.665097</td>\n",
       "      <td>1.192785</td>\n",
       "    </tr>\n",
       "    <tr>\n",
       "      <th>8</th>\n",
       "      <td>1.193742</td>\n",
       "      <td>0.652301</td>\n",
       "      <td>0.951319</td>\n",
       "      <td>1.600084</td>\n",
       "      <td>0.726766</td>\n",
       "    </tr>\n",
       "    <tr>\n",
       "      <th>9</th>\n",
       "      <td>1.215589</td>\n",
       "      <td>1.265492</td>\n",
       "      <td>1.328492</td>\n",
       "      <td>1.117219</td>\n",
       "      <td>1.137440</td>\n",
       "    </tr>\n",
       "    <tr>\n",
       "      <th>10</th>\n",
       "      <td>0.786709</td>\n",
       "      <td>0.983314</td>\n",
       "      <td>0.247934</td>\n",
       "      <td>0.422309</td>\n",
       "      <td>1.253621</td>\n",
       "    </tr>\n",
       "    <tr>\n",
       "      <th>11</th>\n",
       "      <td>0.768279</td>\n",
       "      <td>1.851989</td>\n",
       "      <td>1.542235</td>\n",
       "      <td>1.269369</td>\n",
       "      <td>1.353354</td>\n",
       "    </tr>\n",
       "    <tr>\n",
       "      <th>12</th>\n",
       "      <td>1.705608</td>\n",
       "      <td>1.649807</td>\n",
       "      <td>1.043424</td>\n",
       "      <td>0.925520</td>\n",
       "      <td>1.012880</td>\n",
       "    </tr>\n",
       "    <tr>\n",
       "      <th>13</th>\n",
       "      <td>0.729941</td>\n",
       "      <td>1.929532</td>\n",
       "      <td>17.061800</td>\n",
       "      <td>0.567311</td>\n",
       "      <td>1.742357</td>\n",
       "    </tr>\n",
       "    <tr>\n",
       "      <th>14</th>\n",
       "      <td>0.891858</td>\n",
       "      <td>1.747638</td>\n",
       "      <td>2.992494</td>\n",
       "      <td>1.609899</td>\n",
       "      <td>0.844877</td>\n",
       "    </tr>\n",
       "    <tr>\n",
       "      <th>15</th>\n",
       "      <td>1.769746</td>\n",
       "      <td>0.967037</td>\n",
       "      <td>0.498432</td>\n",
       "      <td>0.677236</td>\n",
       "      <td>2.010333</td>\n",
       "    </tr>\n",
       "    <tr>\n",
       "      <th>16</th>\n",
       "      <td>1.057951</td>\n",
       "      <td>1.119666</td>\n",
       "      <td>1.278078</td>\n",
       "      <td>0.586988</td>\n",
       "      <td>1.108304</td>\n",
       "    </tr>\n",
       "    <tr>\n",
       "      <th>17</th>\n",
       "      <td>1.825896</td>\n",
       "      <td>1.280562</td>\n",
       "      <td>3.653710</td>\n",
       "      <td>0.371719</td>\n",
       "      <td>1.380019</td>\n",
       "    </tr>\n",
       "    <tr>\n",
       "      <th>18</th>\n",
       "      <td>2.072434</td>\n",
       "      <td>0.696098</td>\n",
       "      <td>15.261108</td>\n",
       "      <td>0.654144</td>\n",
       "      <td>0.826021</td>\n",
       "    </tr>\n",
       "    <tr>\n",
       "      <th>19</th>\n",
       "      <td>2.025007</td>\n",
       "      <td>0.969528</td>\n",
       "      <td>2.194683</td>\n",
       "      <td>1.268720</td>\n",
       "      <td>2.571853</td>\n",
       "    </tr>\n",
       "    <tr>\n",
       "      <th>20</th>\n",
       "      <td>0.905377</td>\n",
       "      <td>1.579941</td>\n",
       "      <td>0.754922</td>\n",
       "      <td>1.956998</td>\n",
       "      <td>0.981916</td>\n",
       "    </tr>\n",
       "    <tr>\n",
       "      <th>21</th>\n",
       "      <td>0.354672</td>\n",
       "      <td>0.606372</td>\n",
       "      <td>1.189797</td>\n",
       "      <td>0.501589</td>\n",
       "      <td>1.123238</td>\n",
       "    </tr>\n",
       "    <tr>\n",
       "      <th>22</th>\n",
       "      <td>0.909574</td>\n",
       "      <td>0.891498</td>\n",
       "      <td>0.858344</td>\n",
       "      <td>0.719719</td>\n",
       "      <td>1.436542</td>\n",
       "    </tr>\n",
       "    <tr>\n",
       "      <th>23</th>\n",
       "      <td>2.120224</td>\n",
       "      <td>1.100450</td>\n",
       "      <td>1.203634</td>\n",
       "      <td>2.982230</td>\n",
       "      <td>2.717309</td>\n",
       "    </tr>\n",
       "    <tr>\n",
       "      <th>24</th>\n",
       "      <td>1.446715</td>\n",
       "      <td>1.167192</td>\n",
       "      <td>0.610447</td>\n",
       "      <td>0.790480</td>\n",
       "      <td>1.586728</td>\n",
       "    </tr>\n",
       "    <tr>\n",
       "      <th>25</th>\n",
       "      <td>0.473629</td>\n",
       "      <td>1.646593</td>\n",
       "      <td>1.069697</td>\n",
       "      <td>1.194154</td>\n",
       "      <td>1.189217</td>\n",
       "    </tr>\n",
       "    <tr>\n",
       "      <th>26</th>\n",
       "      <td>1.388314</td>\n",
       "      <td>1.362239</td>\n",
       "      <td>5.301689</td>\n",
       "      <td>1.754342</td>\n",
       "      <td>1.250068</td>\n",
       "    </tr>\n",
       "    <tr>\n",
       "      <th>27</th>\n",
       "      <td>1.074789</td>\n",
       "      <td>1.596789</td>\n",
       "      <td>1.531116</td>\n",
       "      <td>6.173511</td>\n",
       "      <td>2.654938</td>\n",
       "    </tr>\n",
       "    <tr>\n",
       "      <th>28</th>\n",
       "      <td>2.596832</td>\n",
       "      <td>1.100628</td>\n",
       "      <td>0.622377</td>\n",
       "      <td>1.232910</td>\n",
       "      <td>0.988831</td>\n",
       "    </tr>\n",
       "    <tr>\n",
       "      <th>29</th>\n",
       "      <td>1.241966</td>\n",
       "      <td>1.585637</td>\n",
       "      <td>0.834803</td>\n",
       "      <td>1.914808</td>\n",
       "      <td>1.949713</td>\n",
       "    </tr>\n",
       "  </tbody>\n",
       "</table>\n",
       "</div>"
      ],
      "text/plain": [
       "    petal-width  petal-length     target  sepal-length  sepal-width\n",
       "0      1.170071      1.931268   1.759374      1.580108     0.602382\n",
       "1      2.202485      1.575183   0.898450      1.803481     1.029518\n",
       "2      2.647763      1.446682   1.500161      0.838021     1.748231\n",
       "3      1.001863      1.369058   0.472099      1.036841     0.425108\n",
       "4      1.750091      0.787880   0.774590      1.508964     1.004640\n",
       "5      1.007053      1.757039   1.090460      3.315311     1.696239\n",
       "6      0.771271      0.453613   0.550969      0.467964     1.423346\n",
       "7      0.993329      0.341920   0.423613      0.665097     1.192785\n",
       "8      1.193742      0.652301   0.951319      1.600084     0.726766\n",
       "9      1.215589      1.265492   1.328492      1.117219     1.137440\n",
       "10     0.786709      0.983314   0.247934      0.422309     1.253621\n",
       "11     0.768279      1.851989   1.542235      1.269369     1.353354\n",
       "12     1.705608      1.649807   1.043424      0.925520     1.012880\n",
       "13     0.729941      1.929532  17.061800      0.567311     1.742357\n",
       "14     0.891858      1.747638   2.992494      1.609899     0.844877\n",
       "15     1.769746      0.967037   0.498432      0.677236     2.010333\n",
       "16     1.057951      1.119666   1.278078      0.586988     1.108304\n",
       "17     1.825896      1.280562   3.653710      0.371719     1.380019\n",
       "18     2.072434      0.696098  15.261108      0.654144     0.826021\n",
       "19     2.025007      0.969528   2.194683      1.268720     2.571853\n",
       "20     0.905377      1.579941   0.754922      1.956998     0.981916\n",
       "21     0.354672      0.606372   1.189797      0.501589     1.123238\n",
       "22     0.909574      0.891498   0.858344      0.719719     1.436542\n",
       "23     2.120224      1.100450   1.203634      2.982230     2.717309\n",
       "24     1.446715      1.167192   0.610447      0.790480     1.586728\n",
       "25     0.473629      1.646593   1.069697      1.194154     1.189217\n",
       "26     1.388314      1.362239   5.301689      1.754342     1.250068\n",
       "27     1.074789      1.596789   1.531116      6.173511     2.654938\n",
       "28     2.596832      1.100628   0.622377      1.232910     0.988831\n",
       "29     1.241966      1.585637   0.834803      1.914808     1.949713"
      ]
     },
     "execution_count": 12,
     "metadata": {},
     "output_type": "execute_result"
    }
   ],
   "source": [
    "pd.DataFrame(reaction[\"details\"][\"local_case_feature_residual_convictions\"])"
   ]
  },
  {
   "cell_type": "markdown",
   "metadata": {},
   "source": [
    "### Insight 4: How Anomalous are the Predicted Cases?\n",
    "\n",
    "By getting the [`similarity conviction`](https://docs.howso.com/user_guide/basic_capabilities/conviction.html#similarity-conviction) of the cases that we predict, we can determine which of them are anomalous relative to the trained data.\n",
    "This could help to highlight cases that are unusually difficult or easy to predict, as well as discover potentially malicious or poisoned cases."
   ]
  },
  {
   "cell_type": "code",
   "execution_count": 13,
   "metadata": {},
   "outputs": [
    {
     "name": "stdout",
     "output_type": "stream",
     "text": [
      "[1.003894609677443, 1.020494859879364, 1.0477951779250738, 0.9838676801659485,\n",
      " 1.0197365021684897, 1.0260969129904407, 0.9200538474774768, 0.9118563680231693,\n",
      " 1.013381731767785, 1.003633842730834, 0.9628174120337305, 1.0023765504180948,\n",
      " 0.9978842397243503, 1.009395384525202, 1.0080168714340827, 1.0170541036407086,\n",
      " 0.9877560804529695, 0.9765352704670582, 0.96677263878207, 1.0128115565942952,\n",
      " 1.002183541948585, 0.9889392882651399, 1.010790614638105, 1.014675332147475,\n",
      " 0.9957948406751697, 0.9544512319635702, 1.0035601461352501, 1.0148016148109456,\n",
      " 1.0146375968262136, 0.9993000375482713]\n"
     ]
    }
   ],
   "source": [
    "pprint(reaction[\"details\"][\"similarity_conviction\"], compact=True)"
   ]
  }
 ],
 "metadata": {
  "kernelspec": {
   "display_name": "engine-recipes-3.9",
   "language": "python",
   "name": "python3"
  },
  "language_info": {
   "codemirror_mode": {
    "name": "ipython",
    "version": 3
   },
   "file_extension": ".py",
   "mimetype": "text/x-python",
   "name": "python",
   "nbconvert_exporter": "python",
   "pygments_lexer": "ipython3",
   "version": "3.9.19"
  }
 },
 "nbformat": 4,
 "nbformat_minor": 2
}
