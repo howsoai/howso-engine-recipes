{
 "cells": [
  {
   "cell_type": "markdown",
   "metadata": {},
   "source": [
    "# Prediction Insights"
   ]
  },
  {
   "cell_type": "markdown",
   "metadata": {},
   "source": [
    "## Overview\n",
    "\n",
    "Howso Engine enables powerful predictions with complete attribution and detailed explanations to make learning from\n",
    "and debugging your data and predictions as easy as possible. For more information on predictions with Howso Engine,\n",
    "check out the [predictions user guide](https://docs.howso.com/user_guide/basics/predictions.html)."
   ]
  },
  {
   "cell_type": "code",
   "execution_count": 1,
   "metadata": {},
   "outputs": [],
   "source": [
    "from pprint import pprint\n",
    "\n",
    "import pandas as pd\n",
    "import plotly.graph_objects as go\n",
    "import plotly.express as px\n",
    "\n",
    "from howso.engine import Trainee\n",
    "from howso.utilities import infer_feature_attributes"
   ]
  },
  {
   "cell_type": "markdown",
   "metadata": {},
   "source": [
    "## Setup\n",
    "\n",
    "The [basic workflow guide](https://docs.howso.com/user_guide/basics/basic_workflow.html) goes into more specifics about the individual details of this section. This recipe will focus more on the insights.\n",
    "\n",
    "### Load Data and Create Trainee"
   ]
  },
  {
   "cell_type": "code",
   "execution_count": 2,
   "metadata": {},
   "outputs": [
    {
     "data": {
      "text/html": [
       "<div>\n",
       "<style scoped>\n",
       "    .dataframe tbody tr th:only-of-type {\n",
       "        vertical-align: middle;\n",
       "    }\n",
       "\n",
       "    .dataframe tbody tr th {\n",
       "        vertical-align: top;\n",
       "    }\n",
       "\n",
       "    .dataframe thead th {\n",
       "        text-align: right;\n",
       "    }\n",
       "</style>\n",
       "<table border=\"1\" class=\"dataframe\">\n",
       "  <thead>\n",
       "    <tr style=\"text-align: right;\">\n",
       "      <th></th>\n",
       "      <th>Unnamed: 0</th>\n",
       "      <th>sepal length</th>\n",
       "      <th>sepal width</th>\n",
       "      <th>petal length</th>\n",
       "      <th>petal width</th>\n",
       "      <th>class</th>\n",
       "    </tr>\n",
       "  </thead>\n",
       "  <tbody>\n",
       "    <tr>\n",
       "      <th>0</th>\n",
       "      <td>27</td>\n",
       "      <td>5.2</td>\n",
       "      <td>3.5</td>\n",
       "      <td>1.5</td>\n",
       "      <td>0.2</td>\n",
       "      <td>Iris-setosa</td>\n",
       "    </tr>\n",
       "    <tr>\n",
       "      <th>1</th>\n",
       "      <td>14</td>\n",
       "      <td>5.8</td>\n",
       "      <td>4.0</td>\n",
       "      <td>1.2</td>\n",
       "      <td>0.2</td>\n",
       "      <td>Iris-setosa</td>\n",
       "    </tr>\n",
       "    <tr>\n",
       "      <th>2</th>\n",
       "      <td>25</td>\n",
       "      <td>5.0</td>\n",
       "      <td>3.0</td>\n",
       "      <td>1.6</td>\n",
       "      <td>0.2</td>\n",
       "      <td>Iris-setosa</td>\n",
       "    </tr>\n",
       "    <tr>\n",
       "      <th>3</th>\n",
       "      <td>82</td>\n",
       "      <td>5.8</td>\n",
       "      <td>2.7</td>\n",
       "      <td>3.9</td>\n",
       "      <td>1.2</td>\n",
       "      <td>Iris-versicolor</td>\n",
       "    </tr>\n",
       "    <tr>\n",
       "      <th>4</th>\n",
       "      <td>97</td>\n",
       "      <td>6.2</td>\n",
       "      <td>2.9</td>\n",
       "      <td>4.3</td>\n",
       "      <td>1.3</td>\n",
       "      <td>Iris-versicolor</td>\n",
       "    </tr>\n",
       "    <tr>\n",
       "      <th>...</th>\n",
       "      <td>...</td>\n",
       "      <td>...</td>\n",
       "      <td>...</td>\n",
       "      <td>...</td>\n",
       "      <td>...</td>\n",
       "      <td>...</td>\n",
       "    </tr>\n",
       "    <tr>\n",
       "      <th>145</th>\n",
       "      <td>126</td>\n",
       "      <td>6.2</td>\n",
       "      <td>2.8</td>\n",
       "      <td>4.8</td>\n",
       "      <td>1.8</td>\n",
       "      <td>Iris-virginica</td>\n",
       "    </tr>\n",
       "    <tr>\n",
       "      <th>146</th>\n",
       "      <td>124</td>\n",
       "      <td>6.7</td>\n",
       "      <td>3.3</td>\n",
       "      <td>5.7</td>\n",
       "      <td>2.1</td>\n",
       "      <td>Iris-virginica</td>\n",
       "    </tr>\n",
       "    <tr>\n",
       "      <th>147</th>\n",
       "      <td>78</td>\n",
       "      <td>6.0</td>\n",
       "      <td>2.9</td>\n",
       "      <td>4.5</td>\n",
       "      <td>1.5</td>\n",
       "      <td>Iris-versicolor</td>\n",
       "    </tr>\n",
       "    <tr>\n",
       "      <th>148</th>\n",
       "      <td>125</td>\n",
       "      <td>7.2</td>\n",
       "      <td>3.2</td>\n",
       "      <td>6.0</td>\n",
       "      <td>1.8</td>\n",
       "      <td>Iris-virginica</td>\n",
       "    </tr>\n",
       "    <tr>\n",
       "      <th>149</th>\n",
       "      <td>130</td>\n",
       "      <td>7.4</td>\n",
       "      <td>2.8</td>\n",
       "      <td>6.1</td>\n",
       "      <td>1.9</td>\n",
       "      <td>Iris-virginica</td>\n",
       "    </tr>\n",
       "  </tbody>\n",
       "</table>\n",
       "<p>150 rows × 6 columns</p>\n",
       "</div>"
      ],
      "text/plain": [
       "     Unnamed: 0  sepal length  sepal width  petal length  petal width  \\\n",
       "0            27           5.2          3.5           1.5          0.2   \n",
       "1            14           5.8          4.0           1.2          0.2   \n",
       "2            25           5.0          3.0           1.6          0.2   \n",
       "3            82           5.8          2.7           3.9          1.2   \n",
       "4            97           6.2          2.9           4.3          1.3   \n",
       "..          ...           ...          ...           ...          ...   \n",
       "145         126           6.2          2.8           4.8          1.8   \n",
       "146         124           6.7          3.3           5.7          2.1   \n",
       "147          78           6.0          2.9           4.5          1.5   \n",
       "148         125           7.2          3.2           6.0          1.8   \n",
       "149         130           7.4          2.8           6.1          1.9   \n",
       "\n",
       "               class  \n",
       "0        Iris-setosa  \n",
       "1        Iris-setosa  \n",
       "2        Iris-setosa  \n",
       "3    Iris-versicolor  \n",
       "4    Iris-versicolor  \n",
       "..               ...  \n",
       "145   Iris-virginica  \n",
       "146   Iris-virginica  \n",
       "147  Iris-versicolor  \n",
       "148   Iris-virginica  \n",
       "149   Iris-virginica  \n",
       "\n",
       "[150 rows x 6 columns]"
      ]
     },
     "execution_count": 2,
     "metadata": {},
     "output_type": "execute_result"
    }
   ],
   "source": [
    "df = pd.read_csv(\"../../data/iris/iris.tsv.gz\", sep=\"\\t\", compression=\"gzip\")\n",
    "train_data = df.iloc[:-30]\n",
    "new_data = df[~df.index.isin(train_data.index)]\n",
    "features = infer_feature_attributes(train_data)\n",
    "\n",
    "t = Trainee(features=features)\n",
    "\n",
    "df"
   ]
  },
  {
   "cell_type": "markdown",
   "metadata": {},
   "source": [
    "### Train, Analyze, and React"
   ]
  },
  {
   "cell_type": "code",
   "execution_count": 3,
   "metadata": {},
   "outputs": [],
   "source": [
    "t.train(train_data)\n",
    "t.analyze()\n",
    "t.react_into_features(similarity_conviction=True)\n",
    "\n",
    "reaction = t.react(\n",
    "    contexts=new_data,\n",
    "    context_features=[\"sepal length\", \"sepal width\", \"petal length\", \"petal width\"],\n",
    "    action_features=[\"class\"],\n",
    "    details={\n",
    "        \"influential_cases\": True,\n",
    "        \"similarity_conviction\": True,\n",
    "        \"feature_contributions\": True,\n",
    "        \"feature_residuals\": True,\n",
    "        \"robust_influences\": True,\n",
    "        \"robust_residuals\": True,\n",
    "        \"local_case_feature_residual_convictions\": True,\n",
    "        \"categorical_action_probabilities\": True,\n",
    "    }\n",
    ")"
   ]
  },
  {
   "cell_type": "markdown",
   "metadata": {},
   "source": [
    "Note that, unlike in the basic workflow guide, we include several `details` in the react call. These are what will enable the insights that we're going to get after the predictions are made.\n",
    "\n",
    "For more information, see [the API documentation for `Trainee.react()`](https://docs.howso.com/api_reference/_autosummary/howso.engine.html#howso.engine.Trainee.react)."
   ]
  },
  {
   "cell_type": "markdown",
   "metadata": {},
   "source": [
    "### Inspect the Predictions\n",
    "\n",
    "Howso Engine has high accuracy even on small datasets."
   ]
  },
  {
   "cell_type": "code",
   "execution_count": 4,
   "metadata": {},
   "outputs": [
    {
     "data": {
      "application/vnd.plotly.v1+json": {
       "config": {
        "plotlyServerURL": "https://plot.ly"
       },
       "data": [
        {
         "legendgroup": "trained",
         "legendgrouptitle": {
          "text": "Trained class"
         },
         "marker": {
          "color": "#1F77B4",
          "opacity": 0.75
         },
         "mode": "markers",
         "name": "Iris-setosa",
         "type": "scatter",
         "x": [
          1.5,
          1.2,
          1.6,
          1.7,
          1.7,
          1.5,
          1.6,
          1.3,
          1.6,
          1.4,
          1,
          1.5,
          1.4,
          1.3,
          1.7,
          1.4,
          1.3,
          1.5,
          1.4,
          1.1,
          1.4,
          1.2,
          1.9,
          1.6,
          1.5,
          1.9,
          1.5,
          1.5,
          1.5,
          1.3,
          1.4,
          1.6,
          1.4,
          1.6,
          1.4,
          1.5,
          1.5,
          1.6,
          1.5,
          1.4,
          1.3,
          1.7,
          1.5
         ],
         "y": [
          0.2,
          0.2,
          0.2,
          0.2,
          0.3,
          0.4,
          0.6,
          0.4,
          0.2,
          0.2,
          0.2,
          0.3,
          0.2,
          0.3,
          0.4,
          0.3,
          0.3,
          0.1,
          0.3,
          0.1,
          0.1,
          0.2,
          0.2,
          0.4,
          0.1,
          0.4,
          0.2,
          0.2,
          0.2,
          0.2,
          0.2,
          0.2,
          0.2,
          0.2,
          0.3,
          0.2,
          0.1,
          0.2,
          0.2,
          0.2,
          0.2,
          0.5,
          0.4
         ]
        },
        {
         "legendgroup": "trained",
         "legendgrouptitle": {
          "text": "Trained class"
         },
         "marker": {
          "color": "#FF7F0E",
          "opacity": 0.75
         },
         "mode": "markers",
         "name": "Iris-versicolor",
         "type": "scatter",
         "x": [
          3.9,
          4.3,
          4.8,
          3,
          4.2,
          5,
          3.7,
          4.7,
          4.7,
          4.6,
          4.6,
          4,
          4.4,
          4.6,
          4.5,
          3.3,
          4.5,
          4.8,
          4.5,
          4.5,
          4.9,
          3.5,
          4.1,
          4,
          4.5,
          4.7,
          3.3,
          3.9,
          4.2,
          3.9,
          4.7,
          4.3,
          3.5,
          4.9,
          3.6,
          3.8,
          4.4,
          4.2,
          4.7,
          4.1
         ],
         "y": [
          1.2,
          1.3,
          1.8,
          1.1,
          1.3,
          1.7,
          1,
          1.6,
          1.4,
          1.5,
          1.4,
          1.3,
          1.4,
          1.3,
          1.6,
          1,
          1.5,
          1.4,
          1.3,
          1.5,
          1.5,
          1,
          1,
          1.3,
          1.5,
          1.4,
          1,
          1.1,
          1.3,
          1.4,
          1.2,
          1.3,
          1,
          1.5,
          1.3,
          1.1,
          1.2,
          1.2,
          1.5,
          1.3
         ]
        },
        {
         "legendgroup": "trained",
         "legendgrouptitle": {
          "text": "Trained class"
         },
         "marker": {
          "color": "#2CA02C",
          "opacity": 0.75
         },
         "mode": "markers",
         "name": "Iris-virginica",
         "type": "scatter",
         "x": [
          5.5,
          5.1,
          5.2,
          4.9,
          6,
          5.6,
          5.2,
          6.7,
          6.9,
          5.9,
          6.3,
          5.9,
          5,
          5.6,
          5.1,
          5.8,
          5.6,
          6.1,
          5.6,
          6.1,
          5.5,
          6.6,
          5.7,
          5.8,
          5.1,
          6.4,
          6.7,
          5.5,
          5.6,
          4.9,
          5.7,
          5.1,
          5.4,
          5.3,
          5.4,
          4.9,
          5.3
         ],
         "y": [
          1.8,
          1.8,
          2,
          2,
          2.5,
          2.4,
          2.3,
          2.2,
          2.3,
          2.3,
          1.8,
          2.1,
          1.5,
          2.1,
          1.9,
          1.6,
          2.2,
          2.5,
          1.8,
          2.3,
          1.8,
          2.1,
          2.3,
          2.2,
          2.4,
          2,
          2,
          2.1,
          2.4,
          1.8,
          2.5,
          1.5,
          2.3,
          1.9,
          2.1,
          1.8,
          2.3
         ]
        },
        {
         "hovertext": [
          6,
          12,
          15,
          16,
          20,
          23,
          24
         ],
         "legendgroup": "predicted",
         "legendgrouptitle": {
          "text": "Predicted class"
         },
         "marker": {
          "color": "#1F77B4",
          "opacity": 0.75,
          "size": 12,
          "symbol": "star"
         },
         "mode": "markers",
         "name": "Iris-setosa",
         "type": "scatter",
         "x": [
          1.4,
          1.5,
          1.4,
          1.3,
          1.5,
          1.4,
          1.3
         ],
         "y": [
          0.2,
          0.1,
          0.2,
          0.2,
          0.4,
          0.2,
          0.2
         ]
        },
        {
         "hovertext": [
          0,
          5,
          8,
          9,
          11,
          14,
          19,
          21,
          22,
          27
         ],
         "legendgroup": "predicted",
         "legendgrouptitle": {
          "text": "Predicted class"
         },
         "marker": {
          "color": "#FF7F0E",
          "opacity": 0.75,
          "size": 12,
          "symbol": "star"
         },
         "mode": "markers",
         "name": "Iris-versicolor",
         "type": "scatter",
         "x": [
          4.4,
          4.1,
          4.4,
          4,
          4.5,
          4.2,
          4.5,
          4,
          4,
          4.5
         ],
         "y": [
          1.4,
          1.3,
          1.3,
          1.3,
          1.5,
          1.5,
          1.7,
          1.2,
          1,
          1.5
         ]
        },
        {
         "hovertext": [
          1,
          2,
          3,
          4,
          7,
          10,
          13,
          17,
          18,
          25,
          26,
          28,
          29
         ],
         "legendgroup": "predicted",
         "legendgrouptitle": {
          "text": "Predicted class"
         },
         "marker": {
          "color": "#2CA02C",
          "opacity": 0.75,
          "size": 12,
          "symbol": "star"
         },
         "mode": "markers",
         "name": "Iris-virginica",
         "type": "scatter",
         "x": [
          5,
          5.1,
          5,
          5.6,
          5.1,
          5.1,
          5.1,
          4.8,
          5.8,
          4.8,
          5.7,
          6,
          6.1
         ],
         "y": [
          1.9,
          2.3,
          2,
          1.4,
          2,
          1.9,
          1.6,
          1.8,
          1.8,
          1.8,
          2.1,
          1.8,
          1.9
         ]
        }
       ],
       "layout": {
        "template": {
         "data": {
          "bar": [
           {
            "error_x": {
             "color": "#2a3f5f"
            },
            "error_y": {
             "color": "#2a3f5f"
            },
            "marker": {
             "line": {
              "color": "#E5ECF6",
              "width": 0.5
             },
             "pattern": {
              "fillmode": "overlay",
              "size": 10,
              "solidity": 0.2
             }
            },
            "type": "bar"
           }
          ],
          "barpolar": [
           {
            "marker": {
             "line": {
              "color": "#E5ECF6",
              "width": 0.5
             },
             "pattern": {
              "fillmode": "overlay",
              "size": 10,
              "solidity": 0.2
             }
            },
            "type": "barpolar"
           }
          ],
          "carpet": [
           {
            "aaxis": {
             "endlinecolor": "#2a3f5f",
             "gridcolor": "white",
             "linecolor": "white",
             "minorgridcolor": "white",
             "startlinecolor": "#2a3f5f"
            },
            "baxis": {
             "endlinecolor": "#2a3f5f",
             "gridcolor": "white",
             "linecolor": "white",
             "minorgridcolor": "white",
             "startlinecolor": "#2a3f5f"
            },
            "type": "carpet"
           }
          ],
          "choropleth": [
           {
            "colorbar": {
             "outlinewidth": 0,
             "ticks": ""
            },
            "type": "choropleth"
           }
          ],
          "contour": [
           {
            "colorbar": {
             "outlinewidth": 0,
             "ticks": ""
            },
            "colorscale": [
             [
              0,
              "#0d0887"
             ],
             [
              0.1111111111111111,
              "#46039f"
             ],
             [
              0.2222222222222222,
              "#7201a8"
             ],
             [
              0.3333333333333333,
              "#9c179e"
             ],
             [
              0.4444444444444444,
              "#bd3786"
             ],
             [
              0.5555555555555556,
              "#d8576b"
             ],
             [
              0.6666666666666666,
              "#ed7953"
             ],
             [
              0.7777777777777778,
              "#fb9f3a"
             ],
             [
              0.8888888888888888,
              "#fdca26"
             ],
             [
              1,
              "#f0f921"
             ]
            ],
            "type": "contour"
           }
          ],
          "contourcarpet": [
           {
            "colorbar": {
             "outlinewidth": 0,
             "ticks": ""
            },
            "type": "contourcarpet"
           }
          ],
          "heatmap": [
           {
            "colorbar": {
             "outlinewidth": 0,
             "ticks": ""
            },
            "colorscale": [
             [
              0,
              "#0d0887"
             ],
             [
              0.1111111111111111,
              "#46039f"
             ],
             [
              0.2222222222222222,
              "#7201a8"
             ],
             [
              0.3333333333333333,
              "#9c179e"
             ],
             [
              0.4444444444444444,
              "#bd3786"
             ],
             [
              0.5555555555555556,
              "#d8576b"
             ],
             [
              0.6666666666666666,
              "#ed7953"
             ],
             [
              0.7777777777777778,
              "#fb9f3a"
             ],
             [
              0.8888888888888888,
              "#fdca26"
             ],
             [
              1,
              "#f0f921"
             ]
            ],
            "type": "heatmap"
           }
          ],
          "heatmapgl": [
           {
            "colorbar": {
             "outlinewidth": 0,
             "ticks": ""
            },
            "colorscale": [
             [
              0,
              "#0d0887"
             ],
             [
              0.1111111111111111,
              "#46039f"
             ],
             [
              0.2222222222222222,
              "#7201a8"
             ],
             [
              0.3333333333333333,
              "#9c179e"
             ],
             [
              0.4444444444444444,
              "#bd3786"
             ],
             [
              0.5555555555555556,
              "#d8576b"
             ],
             [
              0.6666666666666666,
              "#ed7953"
             ],
             [
              0.7777777777777778,
              "#fb9f3a"
             ],
             [
              0.8888888888888888,
              "#fdca26"
             ],
             [
              1,
              "#f0f921"
             ]
            ],
            "type": "heatmapgl"
           }
          ],
          "histogram": [
           {
            "marker": {
             "pattern": {
              "fillmode": "overlay",
              "size": 10,
              "solidity": 0.2
             }
            },
            "type": "histogram"
           }
          ],
          "histogram2d": [
           {
            "colorbar": {
             "outlinewidth": 0,
             "ticks": ""
            },
            "colorscale": [
             [
              0,
              "#0d0887"
             ],
             [
              0.1111111111111111,
              "#46039f"
             ],
             [
              0.2222222222222222,
              "#7201a8"
             ],
             [
              0.3333333333333333,
              "#9c179e"
             ],
             [
              0.4444444444444444,
              "#bd3786"
             ],
             [
              0.5555555555555556,
              "#d8576b"
             ],
             [
              0.6666666666666666,
              "#ed7953"
             ],
             [
              0.7777777777777778,
              "#fb9f3a"
             ],
             [
              0.8888888888888888,
              "#fdca26"
             ],
             [
              1,
              "#f0f921"
             ]
            ],
            "type": "histogram2d"
           }
          ],
          "histogram2dcontour": [
           {
            "colorbar": {
             "outlinewidth": 0,
             "ticks": ""
            },
            "colorscale": [
             [
              0,
              "#0d0887"
             ],
             [
              0.1111111111111111,
              "#46039f"
             ],
             [
              0.2222222222222222,
              "#7201a8"
             ],
             [
              0.3333333333333333,
              "#9c179e"
             ],
             [
              0.4444444444444444,
              "#bd3786"
             ],
             [
              0.5555555555555556,
              "#d8576b"
             ],
             [
              0.6666666666666666,
              "#ed7953"
             ],
             [
              0.7777777777777778,
              "#fb9f3a"
             ],
             [
              0.8888888888888888,
              "#fdca26"
             ],
             [
              1,
              "#f0f921"
             ]
            ],
            "type": "histogram2dcontour"
           }
          ],
          "mesh3d": [
           {
            "colorbar": {
             "outlinewidth": 0,
             "ticks": ""
            },
            "type": "mesh3d"
           }
          ],
          "parcoords": [
           {
            "line": {
             "colorbar": {
              "outlinewidth": 0,
              "ticks": ""
             }
            },
            "type": "parcoords"
           }
          ],
          "pie": [
           {
            "automargin": true,
            "type": "pie"
           }
          ],
          "scatter": [
           {
            "fillpattern": {
             "fillmode": "overlay",
             "size": 10,
             "solidity": 0.2
            },
            "type": "scatter"
           }
          ],
          "scatter3d": [
           {
            "line": {
             "colorbar": {
              "outlinewidth": 0,
              "ticks": ""
             }
            },
            "marker": {
             "colorbar": {
              "outlinewidth": 0,
              "ticks": ""
             }
            },
            "type": "scatter3d"
           }
          ],
          "scattercarpet": [
           {
            "marker": {
             "colorbar": {
              "outlinewidth": 0,
              "ticks": ""
             }
            },
            "type": "scattercarpet"
           }
          ],
          "scattergeo": [
           {
            "marker": {
             "colorbar": {
              "outlinewidth": 0,
              "ticks": ""
             }
            },
            "type": "scattergeo"
           }
          ],
          "scattergl": [
           {
            "marker": {
             "colorbar": {
              "outlinewidth": 0,
              "ticks": ""
             }
            },
            "type": "scattergl"
           }
          ],
          "scattermapbox": [
           {
            "marker": {
             "colorbar": {
              "outlinewidth": 0,
              "ticks": ""
             }
            },
            "type": "scattermapbox"
           }
          ],
          "scatterpolar": [
           {
            "marker": {
             "colorbar": {
              "outlinewidth": 0,
              "ticks": ""
             }
            },
            "type": "scatterpolar"
           }
          ],
          "scatterpolargl": [
           {
            "marker": {
             "colorbar": {
              "outlinewidth": 0,
              "ticks": ""
             }
            },
            "type": "scatterpolargl"
           }
          ],
          "scatterternary": [
           {
            "marker": {
             "colorbar": {
              "outlinewidth": 0,
              "ticks": ""
             }
            },
            "type": "scatterternary"
           }
          ],
          "surface": [
           {
            "colorbar": {
             "outlinewidth": 0,
             "ticks": ""
            },
            "colorscale": [
             [
              0,
              "#0d0887"
             ],
             [
              0.1111111111111111,
              "#46039f"
             ],
             [
              0.2222222222222222,
              "#7201a8"
             ],
             [
              0.3333333333333333,
              "#9c179e"
             ],
             [
              0.4444444444444444,
              "#bd3786"
             ],
             [
              0.5555555555555556,
              "#d8576b"
             ],
             [
              0.6666666666666666,
              "#ed7953"
             ],
             [
              0.7777777777777778,
              "#fb9f3a"
             ],
             [
              0.8888888888888888,
              "#fdca26"
             ],
             [
              1,
              "#f0f921"
             ]
            ],
            "type": "surface"
           }
          ],
          "table": [
           {
            "cells": {
             "fill": {
              "color": "#EBF0F8"
             },
             "line": {
              "color": "white"
             }
            },
            "header": {
             "fill": {
              "color": "#C8D4E3"
             },
             "line": {
              "color": "white"
             }
            },
            "type": "table"
           }
          ]
         },
         "layout": {
          "annotationdefaults": {
           "arrowcolor": "#2a3f5f",
           "arrowhead": 0,
           "arrowwidth": 1
          },
          "autotypenumbers": "strict",
          "coloraxis": {
           "colorbar": {
            "outlinewidth": 0,
            "ticks": ""
           }
          },
          "colorscale": {
           "diverging": [
            [
             0,
             "#8e0152"
            ],
            [
             0.1,
             "#c51b7d"
            ],
            [
             0.2,
             "#de77ae"
            ],
            [
             0.3,
             "#f1b6da"
            ],
            [
             0.4,
             "#fde0ef"
            ],
            [
             0.5,
             "#f7f7f7"
            ],
            [
             0.6,
             "#e6f5d0"
            ],
            [
             0.7,
             "#b8e186"
            ],
            [
             0.8,
             "#7fbc41"
            ],
            [
             0.9,
             "#4d9221"
            ],
            [
             1,
             "#276419"
            ]
           ],
           "sequential": [
            [
             0,
             "#0d0887"
            ],
            [
             0.1111111111111111,
             "#46039f"
            ],
            [
             0.2222222222222222,
             "#7201a8"
            ],
            [
             0.3333333333333333,
             "#9c179e"
            ],
            [
             0.4444444444444444,
             "#bd3786"
            ],
            [
             0.5555555555555556,
             "#d8576b"
            ],
            [
             0.6666666666666666,
             "#ed7953"
            ],
            [
             0.7777777777777778,
             "#fb9f3a"
            ],
            [
             0.8888888888888888,
             "#fdca26"
            ],
            [
             1,
             "#f0f921"
            ]
           ],
           "sequentialminus": [
            [
             0,
             "#0d0887"
            ],
            [
             0.1111111111111111,
             "#46039f"
            ],
            [
             0.2222222222222222,
             "#7201a8"
            ],
            [
             0.3333333333333333,
             "#9c179e"
            ],
            [
             0.4444444444444444,
             "#bd3786"
            ],
            [
             0.5555555555555556,
             "#d8576b"
            ],
            [
             0.6666666666666666,
             "#ed7953"
            ],
            [
             0.7777777777777778,
             "#fb9f3a"
            ],
            [
             0.8888888888888888,
             "#fdca26"
            ],
            [
             1,
             "#f0f921"
            ]
           ]
          },
          "colorway": [
           "#636efa",
           "#EF553B",
           "#00cc96",
           "#ab63fa",
           "#FFA15A",
           "#19d3f3",
           "#FF6692",
           "#B6E880",
           "#FF97FF",
           "#FECB52"
          ],
          "font": {
           "color": "#2a3f5f"
          },
          "geo": {
           "bgcolor": "white",
           "lakecolor": "white",
           "landcolor": "#E5ECF6",
           "showlakes": true,
           "showland": true,
           "subunitcolor": "white"
          },
          "hoverlabel": {
           "align": "left"
          },
          "hovermode": "closest",
          "mapbox": {
           "style": "light"
          },
          "paper_bgcolor": "white",
          "plot_bgcolor": "#E5ECF6",
          "polar": {
           "angularaxis": {
            "gridcolor": "white",
            "linecolor": "white",
            "ticks": ""
           },
           "bgcolor": "#E5ECF6",
           "radialaxis": {
            "gridcolor": "white",
            "linecolor": "white",
            "ticks": ""
           }
          },
          "scene": {
           "xaxis": {
            "backgroundcolor": "#E5ECF6",
            "gridcolor": "white",
            "gridwidth": 2,
            "linecolor": "white",
            "showbackground": true,
            "ticks": "",
            "zerolinecolor": "white"
           },
           "yaxis": {
            "backgroundcolor": "#E5ECF6",
            "gridcolor": "white",
            "gridwidth": 2,
            "linecolor": "white",
            "showbackground": true,
            "ticks": "",
            "zerolinecolor": "white"
           },
           "zaxis": {
            "backgroundcolor": "#E5ECF6",
            "gridcolor": "white",
            "gridwidth": 2,
            "linecolor": "white",
            "showbackground": true,
            "ticks": "",
            "zerolinecolor": "white"
           }
          },
          "shapedefaults": {
           "line": {
            "color": "#2a3f5f"
           }
          },
          "ternary": {
           "aaxis": {
            "gridcolor": "white",
            "linecolor": "white",
            "ticks": ""
           },
           "baxis": {
            "gridcolor": "white",
            "linecolor": "white",
            "ticks": ""
           },
           "bgcolor": "#E5ECF6",
           "caxis": {
            "gridcolor": "white",
            "linecolor": "white",
            "ticks": ""
           }
          },
          "title": {
           "x": 0.05
          },
          "xaxis": {
           "automargin": true,
           "gridcolor": "white",
           "linecolor": "white",
           "ticks": "",
           "title": {
            "standoff": 15
           },
           "zerolinecolor": "white",
           "zerolinewidth": 2
          },
          "yaxis": {
           "automargin": true,
           "gridcolor": "white",
           "linecolor": "white",
           "ticks": "",
           "title": {
            "standoff": 15
           },
           "zerolinecolor": "white",
           "zerolinewidth": 2
          }
         }
        },
        "title": {
         "text": "Trained and Predicted Values"
        },
        "width": 1250,
        "xaxis": {
         "title": {
          "text": "Petal Length"
         }
        },
        "yaxis": {
         "title": {
          "text": "Petal Width"
         }
        }
       }
      }
     },
     "metadata": {},
     "output_type": "display_data"
    }
   ],
   "source": [
    "train_data = train_data.astype({\"class\": str})\n",
    "predicted_data = pd.concat([new_data.reset_index(drop=True).drop(columns=\"class\"), reaction[\"action\"]], axis=1)\n",
    "predicted_data = predicted_data.astype({\"class\": str})\n",
    "\n",
    "cmap = px.colors.qualitative.D3\n",
    "fig = go.Figure()\n",
    "for i, (label, group) in enumerate(train_data.groupby(\"class\")):\n",
    "    fig.add_trace(go.Scatter(\n",
    "        x=group[\"petal length\"],\n",
    "        y=group[\"petal width\"],\n",
    "        mode=\"markers\",\n",
    "        name=label,\n",
    "        marker=dict(color=cmap[i], opacity=0.75),\n",
    "        legendgroup=\"trained\",\n",
    "        legendgrouptitle_text=\"Trained class\",\n",
    "    ))\n",
    "\n",
    "for i, (label, group) in enumerate(predicted_data.groupby(\"class\")):\n",
    "    fig.add_trace(go.Scatter(\n",
    "        x=group[\"petal length\"],\n",
    "        y=group[\"petal width\"],\n",
    "        mode=\"markers\",\n",
    "        marker=dict(size=12, symbol=\"star\", color=cmap[i], opacity=0.75),\n",
    "        name=label,\n",
    "        legendgroup=\"predicted\",\n",
    "        legendgrouptitle_text=\"Predicted class\",\n",
    "        hovertext=group.index,\n",
    "    ))\n",
    "\n",
    "fig.update_layout(\n",
    "    xaxis_title=\"Petal Length\",\n",
    "    yaxis_title=\"Petal Width\",\n",
    "    width=1250,\n",
    "    title=\"Trained and Predicted Values\"\n",
    ")\n",
    "fig.show()"
   ]
  },
  {
   "cell_type": "markdown",
   "metadata": {},
   "source": [
    "For categorical action features, the prediction can be further understood with the `categorical_action_probabilities` detail.  This information\n",
    "can highlight cases that are on the border of two classes, like some of the above points are.  The closer a case gets to a class border, the\n",
    "more mixed the categorical action probabilities may get."
   ]
  },
  {
   "cell_type": "code",
   "execution_count": 5,
   "metadata": {},
   "outputs": [
    {
     "name": "stdout",
     "output_type": "stream",
     "text": [
      "[{'class': {'Iris-versicolor': 1}},\n",
      " {'class': {'Iris-versicolor': 0.1890321448500335,\n",
      "            'Iris-virginica': 0.8109678551499665}},\n",
      " {'class': {'Iris-virginica': 1}}, {'class': {'Iris-virginica': 1}},\n",
      " {'class': {'Iris-versicolor': 0.3946197371788092,\n",
      "            'Iris-virginica': 0.6053802628211907}},\n",
      " {'class': {'Iris-versicolor': 1}}, {'class': {'Iris-setosa': 1}},\n",
      " {'class': {'Iris-virginica': 1}},\n",
      " {'class': {'Iris-versicolor': 0.8057564626950173,\n",
      "            'Iris-virginica': 0.19424353730498264}},\n",
      " {'class': {'Iris-versicolor': 1}}, {'class': {'Iris-virginica': 1}},\n",
      " {'class': {'Iris-versicolor': 1}}, {'class': {'Iris-setosa': 1}},\n",
      " {'class': {'Iris-versicolor': 0.20118009066416837,\n",
      "            'Iris-virginica': 0.7988199093358316}},\n",
      " {'class': {'Iris-versicolor': 1}}, {'class': {'Iris-setosa': 1}},\n",
      " {'class': {'Iris-setosa': 1}},\n",
      " {'class': {'Iris-versicolor': 0.2046895097802475,\n",
      "            'Iris-virginica': 0.7953104902197524}},\n",
      " {'class': {'Iris-virginica': 1}},\n",
      " {'class': {'Iris-versicolor': 0.8031179323094986,\n",
      "            'Iris-virginica': 0.19688206769050148}},\n",
      " {'class': {'Iris-setosa': 1}}, {'class': {'Iris-versicolor': 1}},\n",
      " {'class': {'Iris-versicolor': 1}}, {'class': {'Iris-setosa': 1}},\n",
      " {'class': {'Iris-setosa': 1}}, {'class': {'Iris-virginica': 1}},\n",
      " {'class': {'Iris-virginica': 1}}, {'class': {'Iris-versicolor': 1}},\n",
      " {'class': {'Iris-virginica': 1}}, {'class': {'Iris-virginica': 1}}]\n"
     ]
    }
   ],
   "source": [
    "pprint(reaction[\"details\"][\"categorical_action_probabilities\"], compact=True)"
   ]
  },
  {
   "cell_type": "markdown",
   "metadata": {},
   "source": [
    "### Insight 1: Which Cases Contributed?\n",
    "\n",
    "Howso provides complete attribution for any and all predictions, showing exactly which cases influenced each prediction.  This can be used to understand or debug predictions.  For instance,\n",
    "we can inspect the influential cases for one of the cases (case `13`) that was on the decision boundary in the plot above.  We can see that there is a mix of class values and no cases stand\n",
    "out in terms of influence weight:"
   ]
  },
  {
   "cell_type": "code",
   "execution_count": 6,
   "metadata": {},
   "outputs": [
    {
     "data": {
      "text/html": [
       "<div>\n",
       "<style scoped>\n",
       "    .dataframe tbody tr th:only-of-type {\n",
       "        vertical-align: middle;\n",
       "    }\n",
       "\n",
       "    .dataframe tbody tr th {\n",
       "        vertical-align: top;\n",
       "    }\n",
       "\n",
       "    .dataframe thead th {\n",
       "        text-align: right;\n",
       "    }\n",
       "</style>\n",
       "<table border=\"1\" class=\"dataframe\">\n",
       "  <thead>\n",
       "    <tr style=\"text-align: right;\">\n",
       "      <th></th>\n",
       "      <th>sepal width</th>\n",
       "      <th>.session_training_index</th>\n",
       "      <th>petal length</th>\n",
       "      <th>petal width</th>\n",
       "      <th>.influence_weight</th>\n",
       "      <th>sepal length</th>\n",
       "      <th>.session</th>\n",
       "      <th>class</th>\n",
       "    </tr>\n",
       "  </thead>\n",
       "  <tbody>\n",
       "    <tr>\n",
       "      <th>0</th>\n",
       "      <td>2.8</td>\n",
       "      <td>99</td>\n",
       "      <td>5.1</td>\n",
       "      <td>1.5</td>\n",
       "      <td>0.207779</td>\n",
       "      <td>6.3</td>\n",
       "      <td>e0f30f66-05ab-4817-a8a8-01d6de3255b9</td>\n",
       "      <td>Iris-virginica</td>\n",
       "    </tr>\n",
       "    <tr>\n",
       "      <th>1</th>\n",
       "      <td>2.5</td>\n",
       "      <td>107</td>\n",
       "      <td>4.9</td>\n",
       "      <td>1.5</td>\n",
       "      <td>0.201180</td>\n",
       "      <td>6.3</td>\n",
       "      <td>e0f30f66-05ab-4817-a8a8-01d6de3255b9</td>\n",
       "      <td>Iris-versicolor</td>\n",
       "    </tr>\n",
       "    <tr>\n",
       "      <th>2</th>\n",
       "      <td>2.7</td>\n",
       "      <td>115</td>\n",
       "      <td>4.9</td>\n",
       "      <td>1.8</td>\n",
       "      <td>0.199500</td>\n",
       "      <td>6.3</td>\n",
       "      <td>e0f30f66-05ab-4817-a8a8-01d6de3255b9</td>\n",
       "      <td>Iris-virginica</td>\n",
       "    </tr>\n",
       "    <tr>\n",
       "      <th>3</th>\n",
       "      <td>3.0</td>\n",
       "      <td>8</td>\n",
       "      <td>5.1</td>\n",
       "      <td>1.8</td>\n",
       "      <td>0.196327</td>\n",
       "      <td>5.9</td>\n",
       "      <td>e0f30f66-05ab-4817-a8a8-01d6de3255b9</td>\n",
       "      <td>Iris-virginica</td>\n",
       "    </tr>\n",
       "    <tr>\n",
       "      <th>4</th>\n",
       "      <td>2.7</td>\n",
       "      <td>41</td>\n",
       "      <td>5.1</td>\n",
       "      <td>1.9</td>\n",
       "      <td>0.195214</td>\n",
       "      <td>5.8</td>\n",
       "      <td>e0f30f66-05ab-4817-a8a8-01d6de3255b9</td>\n",
       "      <td>Iris-virginica</td>\n",
       "    </tr>\n",
       "  </tbody>\n",
       "</table>\n",
       "</div>"
      ],
      "text/plain": [
       "   sepal width  .session_training_index  petal length  petal width  \\\n",
       "0          2.8                       99           5.1          1.5   \n",
       "1          2.5                      107           4.9          1.5   \n",
       "2          2.7                      115           4.9          1.8   \n",
       "3          3.0                        8           5.1          1.8   \n",
       "4          2.7                       41           5.1          1.9   \n",
       "\n",
       "   .influence_weight  sepal length                              .session  \\\n",
       "0           0.207779           6.3  e0f30f66-05ab-4817-a8a8-01d6de3255b9   \n",
       "1           0.201180           6.3  e0f30f66-05ab-4817-a8a8-01d6de3255b9   \n",
       "2           0.199500           6.3  e0f30f66-05ab-4817-a8a8-01d6de3255b9   \n",
       "3           0.196327           5.9  e0f30f66-05ab-4817-a8a8-01d6de3255b9   \n",
       "4           0.195214           5.8  e0f30f66-05ab-4817-a8a8-01d6de3255b9   \n",
       "\n",
       "             class  \n",
       "0   Iris-virginica  \n",
       "1  Iris-versicolor  \n",
       "2   Iris-virginica  \n",
       "3   Iris-virginica  \n",
       "4   Iris-virginica  "
      ]
     },
     "execution_count": 6,
     "metadata": {},
     "output_type": "execute_result"
    }
   ],
   "source": [
    "inf_cases_13 = pd.DataFrame(reaction[\"details\"][\"influential_cases\"][13])\n",
    "inf_cases_13"
   ]
  },
  {
   "cell_type": "markdown",
   "metadata": {},
   "source": [
    "Compare that to the influential cases for case `20`, which is firmly in the center of the solo cluster.  Here we see a single class value."
   ]
  },
  {
   "cell_type": "code",
   "execution_count": 7,
   "metadata": {},
   "outputs": [
    {
     "data": {
      "text/html": [
       "<div>\n",
       "<style scoped>\n",
       "    .dataframe tbody tr th:only-of-type {\n",
       "        vertical-align: middle;\n",
       "    }\n",
       "\n",
       "    .dataframe tbody tr th {\n",
       "        vertical-align: top;\n",
       "    }\n",
       "\n",
       "    .dataframe thead th {\n",
       "        text-align: right;\n",
       "    }\n",
       "</style>\n",
       "<table border=\"1\" class=\"dataframe\">\n",
       "  <thead>\n",
       "    <tr style=\"text-align: right;\">\n",
       "      <th></th>\n",
       "      <th>sepal width</th>\n",
       "      <th>.session_training_index</th>\n",
       "      <th>petal length</th>\n",
       "      <th>petal width</th>\n",
       "      <th>.influence_weight</th>\n",
       "      <th>sepal length</th>\n",
       "      <th>.session</th>\n",
       "      <th>class</th>\n",
       "    </tr>\n",
       "  </thead>\n",
       "  <tbody>\n",
       "    <tr>\n",
       "      <th>0</th>\n",
       "      <td>3.5</td>\n",
       "      <td>48</td>\n",
       "      <td>1.4</td>\n",
       "      <td>0.3</td>\n",
       "      <td>0.201282</td>\n",
       "      <td>5.1</td>\n",
       "      <td>e0f30f66-05ab-4817-a8a8-01d6de3255b9</td>\n",
       "      <td>Iris-setosa</td>\n",
       "    </tr>\n",
       "    <tr>\n",
       "      <th>1</th>\n",
       "      <td>3.4</td>\n",
       "      <td>63</td>\n",
       "      <td>1.6</td>\n",
       "      <td>0.4</td>\n",
       "      <td>0.200762</td>\n",
       "      <td>5.0</td>\n",
       "      <td>e0f30f66-05ab-4817-a8a8-01d6de3255b9</td>\n",
       "      <td>Iris-setosa</td>\n",
       "    </tr>\n",
       "    <tr>\n",
       "      <th>2</th>\n",
       "      <td>3.4</td>\n",
       "      <td>9</td>\n",
       "      <td>1.7</td>\n",
       "      <td>0.2</td>\n",
       "      <td>0.199698</td>\n",
       "      <td>5.4</td>\n",
       "      <td>e0f30f66-05ab-4817-a8a8-01d6de3255b9</td>\n",
       "      <td>Iris-setosa</td>\n",
       "    </tr>\n",
       "    <tr>\n",
       "      <th>3</th>\n",
       "      <td>3.3</td>\n",
       "      <td>116</td>\n",
       "      <td>1.7</td>\n",
       "      <td>0.5</td>\n",
       "      <td>0.199316</td>\n",
       "      <td>5.1</td>\n",
       "      <td>e0f30f66-05ab-4817-a8a8-01d6de3255b9</td>\n",
       "      <td>Iris-setosa</td>\n",
       "    </tr>\n",
       "    <tr>\n",
       "      <th>4</th>\n",
       "      <td>3.4</td>\n",
       "      <td>43</td>\n",
       "      <td>1.4</td>\n",
       "      <td>0.2</td>\n",
       "      <td>0.198941</td>\n",
       "      <td>5.2</td>\n",
       "      <td>e0f30f66-05ab-4817-a8a8-01d6de3255b9</td>\n",
       "      <td>Iris-setosa</td>\n",
       "    </tr>\n",
       "  </tbody>\n",
       "</table>\n",
       "</div>"
      ],
      "text/plain": [
       "   sepal width  .session_training_index  petal length  petal width  \\\n",
       "0          3.5                       48           1.4          0.3   \n",
       "1          3.4                       63           1.6          0.4   \n",
       "2          3.4                        9           1.7          0.2   \n",
       "3          3.3                      116           1.7          0.5   \n",
       "4          3.4                       43           1.4          0.2   \n",
       "\n",
       "   .influence_weight  sepal length                              .session  \\\n",
       "0           0.201282           5.1  e0f30f66-05ab-4817-a8a8-01d6de3255b9   \n",
       "1           0.200762           5.0  e0f30f66-05ab-4817-a8a8-01d6de3255b9   \n",
       "2           0.199698           5.4  e0f30f66-05ab-4817-a8a8-01d6de3255b9   \n",
       "3           0.199316           5.1  e0f30f66-05ab-4817-a8a8-01d6de3255b9   \n",
       "4           0.198941           5.2  e0f30f66-05ab-4817-a8a8-01d6de3255b9   \n",
       "\n",
       "         class  \n",
       "0  Iris-setosa  \n",
       "1  Iris-setosa  \n",
       "2  Iris-setosa  \n",
       "3  Iris-setosa  \n",
       "4  Iris-setosa  "
      ]
     },
     "execution_count": 7,
     "metadata": {},
     "output_type": "execute_result"
    }
   ],
   "source": [
    "inf_cases_20 = pd.DataFrame(reaction[\"details\"][\"influential_cases\"][20])\n",
    "inf_cases_20"
   ]
  },
  {
   "cell_type": "markdown",
   "metadata": {},
   "source": [
    "With the influential cases we can derive additional insights, such as identifying anomalous cases from within the influential cases using `similarity_conviction`.  \n",
    "This can help to identify data that are making predictions more noisy or identify what type of data should be collected to improve predictive power in the future."
   ]
  },
  {
   "cell_type": "code",
   "execution_count": 8,
   "metadata": {},
   "outputs": [
    {
     "data": {
      "text/html": [
       "<div>\n",
       "<style scoped>\n",
       "    .dataframe tbody tr th:only-of-type {\n",
       "        vertical-align: middle;\n",
       "    }\n",
       "\n",
       "    .dataframe tbody tr th {\n",
       "        vertical-align: top;\n",
       "    }\n",
       "\n",
       "    .dataframe thead th {\n",
       "        text-align: right;\n",
       "    }\n",
       "</style>\n",
       "<table border=\"1\" class=\"dataframe\">\n",
       "  <thead>\n",
       "    <tr style=\"text-align: right;\">\n",
       "      <th></th>\n",
       "      <th>sepal length</th>\n",
       "      <th>sepal width</th>\n",
       "      <th>petal length</th>\n",
       "      <th>petal width</th>\n",
       "      <th>class</th>\n",
       "      <th>similarity_conviction</th>\n",
       "    </tr>\n",
       "  </thead>\n",
       "  <tbody>\n",
       "    <tr>\n",
       "      <th>1</th>\n",
       "      <td>6.3</td>\n",
       "      <td>2.5</td>\n",
       "      <td>4.9</td>\n",
       "      <td>1.5</td>\n",
       "      <td>Iris-versicolor</td>\n",
       "      <td>0.973029</td>\n",
       "    </tr>\n",
       "    <tr>\n",
       "      <th>0</th>\n",
       "      <td>6.3</td>\n",
       "      <td>2.8</td>\n",
       "      <td>5.1</td>\n",
       "      <td>1.5</td>\n",
       "      <td>Iris-virginica</td>\n",
       "      <td>0.974979</td>\n",
       "    </tr>\n",
       "    <tr>\n",
       "      <th>4</th>\n",
       "      <td>5.8</td>\n",
       "      <td>2.7</td>\n",
       "      <td>5.1</td>\n",
       "      <td>1.9</td>\n",
       "      <td>Iris-virginica</td>\n",
       "      <td>1.008470</td>\n",
       "    </tr>\n",
       "    <tr>\n",
       "      <th>3</th>\n",
       "      <td>5.9</td>\n",
       "      <td>3.0</td>\n",
       "      <td>5.1</td>\n",
       "      <td>1.8</td>\n",
       "      <td>Iris-virginica</td>\n",
       "      <td>1.008903</td>\n",
       "    </tr>\n",
       "    <tr>\n",
       "      <th>2</th>\n",
       "      <td>6.3</td>\n",
       "      <td>2.7</td>\n",
       "      <td>4.9</td>\n",
       "      <td>1.8</td>\n",
       "      <td>Iris-virginica</td>\n",
       "      <td>1.018925</td>\n",
       "    </tr>\n",
       "  </tbody>\n",
       "</table>\n",
       "</div>"
      ],
      "text/plain": [
       "   sepal length  sepal width  petal length  petal width            class  \\\n",
       "1           6.3          2.5           4.9          1.5  Iris-versicolor   \n",
       "0           6.3          2.8           5.1          1.5   Iris-virginica   \n",
       "4           5.8          2.7           5.1          1.9   Iris-virginica   \n",
       "3           5.9          3.0           5.1          1.8   Iris-virginica   \n",
       "2           6.3          2.7           4.9          1.8   Iris-virginica   \n",
       "\n",
       "   similarity_conviction  \n",
       "1               0.973029  \n",
       "0               0.974979  \n",
       "4               1.008470  \n",
       "3               1.008903  \n",
       "2               1.018925  "
      ]
     },
     "execution_count": 8,
     "metadata": {},
     "output_type": "execute_result"
    }
   ],
   "source": [
    "inf_case_indices = inf_cases_13[[\".session\", \".session_training_index\"]].values.tolist()\n",
    "\n",
    "anom_df = t.get_cases(\n",
    "    case_indices=inf_case_indices,\n",
    "    features=[\"sepal length\", \"sepal width\", \"petal length\", \"petal width\", \"class\", \"similarity_conviction\"]\n",
    ")\n",
    "\n",
    "anom_df.sort_values(by=\"similarity_conviction\")"
   ]
  },
  {
   "cell_type": "code",
   "execution_count": 9,
   "metadata": {},
   "outputs": [
    {
     "data": {
      "text/html": [
       "<div>\n",
       "<style scoped>\n",
       "    .dataframe tbody tr th:only-of-type {\n",
       "        vertical-align: middle;\n",
       "    }\n",
       "\n",
       "    .dataframe tbody tr th {\n",
       "        vertical-align: top;\n",
       "    }\n",
       "\n",
       "    .dataframe thead th {\n",
       "        text-align: right;\n",
       "    }\n",
       "</style>\n",
       "<table border=\"1\" class=\"dataframe\">\n",
       "  <thead>\n",
       "    <tr style=\"text-align: right;\">\n",
       "      <th></th>\n",
       "      <th>sepal length</th>\n",
       "      <th>sepal width</th>\n",
       "      <th>petal length</th>\n",
       "      <th>petal width</th>\n",
       "      <th>class</th>\n",
       "      <th>similarity_conviction</th>\n",
       "    </tr>\n",
       "  </thead>\n",
       "  <tbody>\n",
       "    <tr>\n",
       "      <th>3</th>\n",
       "      <td>5.1</td>\n",
       "      <td>3.3</td>\n",
       "      <td>1.7</td>\n",
       "      <td>0.5</td>\n",
       "      <td>Iris-setosa</td>\n",
       "      <td>0.973216</td>\n",
       "    </tr>\n",
       "    <tr>\n",
       "      <th>2</th>\n",
       "      <td>5.4</td>\n",
       "      <td>3.4</td>\n",
       "      <td>1.7</td>\n",
       "      <td>0.2</td>\n",
       "      <td>Iris-setosa</td>\n",
       "      <td>0.994447</td>\n",
       "    </tr>\n",
       "    <tr>\n",
       "      <th>1</th>\n",
       "      <td>5.0</td>\n",
       "      <td>3.4</td>\n",
       "      <td>1.6</td>\n",
       "      <td>0.4</td>\n",
       "      <td>Iris-setosa</td>\n",
       "      <td>1.004502</td>\n",
       "    </tr>\n",
       "    <tr>\n",
       "      <th>0</th>\n",
       "      <td>5.1</td>\n",
       "      <td>3.5</td>\n",
       "      <td>1.4</td>\n",
       "      <td>0.3</td>\n",
       "      <td>Iris-setosa</td>\n",
       "      <td>1.016745</td>\n",
       "    </tr>\n",
       "    <tr>\n",
       "      <th>4</th>\n",
       "      <td>5.2</td>\n",
       "      <td>3.4</td>\n",
       "      <td>1.4</td>\n",
       "      <td>0.2</td>\n",
       "      <td>Iris-setosa</td>\n",
       "      <td>1.017943</td>\n",
       "    </tr>\n",
       "  </tbody>\n",
       "</table>\n",
       "</div>"
      ],
      "text/plain": [
       "   sepal length  sepal width  petal length  petal width        class  \\\n",
       "3           5.1          3.3           1.7          0.5  Iris-setosa   \n",
       "2           5.4          3.4           1.7          0.2  Iris-setosa   \n",
       "1           5.0          3.4           1.6          0.4  Iris-setosa   \n",
       "0           5.1          3.5           1.4          0.3  Iris-setosa   \n",
       "4           5.2          3.4           1.4          0.2  Iris-setosa   \n",
       "\n",
       "   similarity_conviction  \n",
       "3               0.973216  \n",
       "2               0.994447  \n",
       "1               1.004502  \n",
       "0               1.016745  \n",
       "4               1.017943  "
      ]
     },
     "execution_count": 9,
     "metadata": {},
     "output_type": "execute_result"
    }
   ],
   "source": [
    "inf_case_indices = inf_cases_20[[\".session\", \".session_training_index\"]].values.tolist()\n",
    "\n",
    "anom_df = t.get_cases(\n",
    "    case_indices=inf_case_indices,\n",
    "    features=[\"sepal length\", \"sepal width\", \"petal length\", \"petal width\", \"class\", \"similarity_conviction\"],\n",
    ")\n",
    "\n",
    "anom_df.sort_values(by=\"similarity_conviction\")"
   ]
  },
  {
   "cell_type": "markdown",
   "metadata": {},
   "source": [
    "### Insight 2: Which Features Contributed?\n",
    "\n",
    "In addition to providing attribution to cases, Howso also provides robust feature contributions to explain which features contributed to each prediction.\n",
    "When inspecting the feature importances for case `13`,  we see that `petal width` and `petal length` provided the majority of the contribution to the \n",
    "prediction, whereas for case `20` `petal width` and `petal length` only have slightly higher contributions than the other features.  This could indicate \n",
    "that different features are more important for predicting different classes within this dataset and that focusing on those features would be prudent."
   ]
  },
  {
   "cell_type": "code",
   "execution_count": 10,
   "metadata": {},
   "outputs": [
    {
     "data": {
      "text/html": [
       "<div>\n",
       "<style scoped>\n",
       "    .dataframe tbody tr th:only-of-type {\n",
       "        vertical-align: middle;\n",
       "    }\n",
       "\n",
       "    .dataframe tbody tr th {\n",
       "        vertical-align: top;\n",
       "    }\n",
       "\n",
       "    .dataframe thead th {\n",
       "        text-align: right;\n",
       "    }\n",
       "</style>\n",
       "<table border=\"1\" class=\"dataframe\">\n",
       "  <thead>\n",
       "    <tr style=\"text-align: right;\">\n",
       "      <th></th>\n",
       "      <th>sepal width</th>\n",
       "      <th>petal length</th>\n",
       "      <th>petal width</th>\n",
       "      <th>sepal length</th>\n",
       "    </tr>\n",
       "  </thead>\n",
       "  <tbody>\n",
       "    <tr>\n",
       "      <th>13</th>\n",
       "      <td>0.070531</td>\n",
       "      <td>0.219668</td>\n",
       "      <td>0.413826</td>\n",
       "      <td>0.062466</td>\n",
       "    </tr>\n",
       "  </tbody>\n",
       "</table>\n",
       "</div>"
      ],
      "text/plain": [
       "    sepal width  petal length  petal width  sepal length\n",
       "13     0.070531      0.219668     0.413826      0.062466"
      ]
     },
     "metadata": {},
     "output_type": "display_data"
    },
    {
     "data": {
      "text/html": [
       "<div>\n",
       "<style scoped>\n",
       "    .dataframe tbody tr th:only-of-type {\n",
       "        vertical-align: middle;\n",
       "    }\n",
       "\n",
       "    .dataframe tbody tr th {\n",
       "        vertical-align: top;\n",
       "    }\n",
       "\n",
       "    .dataframe thead th {\n",
       "        text-align: right;\n",
       "    }\n",
       "</style>\n",
       "<table border=\"1\" class=\"dataframe\">\n",
       "  <thead>\n",
       "    <tr style=\"text-align: right;\">\n",
       "      <th></th>\n",
       "      <th>sepal width</th>\n",
       "      <th>petal length</th>\n",
       "      <th>petal width</th>\n",
       "      <th>sepal length</th>\n",
       "    </tr>\n",
       "  </thead>\n",
       "  <tbody>\n",
       "    <tr>\n",
       "      <th>20</th>\n",
       "      <td>0.099688</td>\n",
       "      <td>0.161151</td>\n",
       "      <td>0.164165</td>\n",
       "      <td>0.121481</td>\n",
       "    </tr>\n",
       "  </tbody>\n",
       "</table>\n",
       "</div>"
      ],
      "text/plain": [
       "    sepal width  petal length  petal width  sepal length\n",
       "20     0.099688      0.161151     0.164165      0.121481"
      ]
     },
     "metadata": {},
     "output_type": "display_data"
    }
   ],
   "source": [
    "fcs_13 = pd.DataFrame(reaction[\"details\"][\"feature_contributions\"][13:14], index=[13])\n",
    "fcs_20 = pd.DataFrame(reaction[\"details\"][\"feature_contributions\"][20:21], index=[20])\n",
    "\n",
    "display(fcs_13)\n",
    "display(fcs_20)"
   ]
  },
  {
   "cell_type": "markdown",
   "metadata": {},
   "source": [
    "### Insight 3: How Certain is the Prediction?"
   ]
  },
  {
   "cell_type": "markdown",
   "metadata": {},
   "source": [
    "[Residuals](https://docs.howso.com/user_guide/basic_capabilities/residuals.html) can characterize the uncertainty of the data around the prediction.  This will tell us which features are hard to predict in the region of the data around each case we're predicting.\n",
    "If a prediction is less accurate than expected, this can explain which features were noisy and may have contributed to the problem."
   ]
  },
  {
   "cell_type": "code",
   "execution_count": 11,
   "metadata": {},
   "outputs": [
    {
     "data": {
      "text/html": [
       "<div>\n",
       "<style scoped>\n",
       "    .dataframe tbody tr th:only-of-type {\n",
       "        vertical-align: middle;\n",
       "    }\n",
       "\n",
       "    .dataframe tbody tr th {\n",
       "        vertical-align: top;\n",
       "    }\n",
       "\n",
       "    .dataframe thead th {\n",
       "        text-align: right;\n",
       "    }\n",
       "</style>\n",
       "<table border=\"1\" class=\"dataframe\">\n",
       "  <thead>\n",
       "    <tr style=\"text-align: right;\">\n",
       "      <th></th>\n",
       "      <th>sepal width</th>\n",
       "      <th>petal length</th>\n",
       "      <th>petal width</th>\n",
       "      <th>sepal length</th>\n",
       "      <th>class</th>\n",
       "    </tr>\n",
       "  </thead>\n",
       "  <tbody>\n",
       "    <tr>\n",
       "      <th>0</th>\n",
       "      <td>0.112866</td>\n",
       "      <td>0.386771</td>\n",
       "      <td>0.241644</td>\n",
       "      <td>0.371817</td>\n",
       "      <td>0.323734</td>\n",
       "    </tr>\n",
       "    <tr>\n",
       "      <th>1</th>\n",
       "      <td>0.267267</td>\n",
       "      <td>0.543147</td>\n",
       "      <td>0.226509</td>\n",
       "      <td>0.295007</td>\n",
       "      <td>0.614795</td>\n",
       "    </tr>\n",
       "    <tr>\n",
       "      <th>2</th>\n",
       "      <td>0.153830</td>\n",
       "      <td>0.342449</td>\n",
       "      <td>0.247924</td>\n",
       "      <td>0.327834</td>\n",
       "      <td>0.236677</td>\n",
       "    </tr>\n",
       "    <tr>\n",
       "      <th>3</th>\n",
       "      <td>0.246963</td>\n",
       "      <td>0.668989</td>\n",
       "      <td>0.388309</td>\n",
       "      <td>0.385393</td>\n",
       "      <td>0.435977</td>\n",
       "    </tr>\n",
       "    <tr>\n",
       "      <th>4</th>\n",
       "      <td>0.129884</td>\n",
       "      <td>0.277258</td>\n",
       "      <td>0.214948</td>\n",
       "      <td>0.302588</td>\n",
       "      <td>0.230014</td>\n",
       "    </tr>\n",
       "    <tr>\n",
       "      <th>5</th>\n",
       "      <td>0.239334</td>\n",
       "      <td>0.328810</td>\n",
       "      <td>0.201537</td>\n",
       "      <td>0.345923</td>\n",
       "      <td>0.155144</td>\n",
       "    </tr>\n",
       "    <tr>\n",
       "      <th>6</th>\n",
       "      <td>0.245180</td>\n",
       "      <td>0.762376</td>\n",
       "      <td>0.410920</td>\n",
       "      <td>0.474553</td>\n",
       "      <td>0.173611</td>\n",
       "    </tr>\n",
       "    <tr>\n",
       "      <th>7</th>\n",
       "      <td>0.182487</td>\n",
       "      <td>0.263886</td>\n",
       "      <td>0.143381</td>\n",
       "      <td>0.238102</td>\n",
       "      <td>0.164148</td>\n",
       "    </tr>\n",
       "    <tr>\n",
       "      <th>8</th>\n",
       "      <td>0.102455</td>\n",
       "      <td>0.182326</td>\n",
       "      <td>0.071838</td>\n",
       "      <td>0.246158</td>\n",
       "      <td>0.136051</td>\n",
       "    </tr>\n",
       "    <tr>\n",
       "      <th>9</th>\n",
       "      <td>0.273972</td>\n",
       "      <td>0.261430</td>\n",
       "      <td>0.133425</td>\n",
       "      <td>0.309792</td>\n",
       "      <td>0.133051</td>\n",
       "    </tr>\n",
       "    <tr>\n",
       "      <th>10</th>\n",
       "      <td>0.203286</td>\n",
       "      <td>0.430249</td>\n",
       "      <td>0.309287</td>\n",
       "      <td>0.388867</td>\n",
       "      <td>0.267593</td>\n",
       "    </tr>\n",
       "    <tr>\n",
       "      <th>11</th>\n",
       "      <td>0.322686</td>\n",
       "      <td>0.457851</td>\n",
       "      <td>0.190143</td>\n",
       "      <td>0.279973</td>\n",
       "      <td>0.242228</td>\n",
       "    </tr>\n",
       "    <tr>\n",
       "      <th>12</th>\n",
       "      <td>0.202912</td>\n",
       "      <td>0.620369</td>\n",
       "      <td>0.308950</td>\n",
       "      <td>0.468460</td>\n",
       "      <td>0.144167</td>\n",
       "    </tr>\n",
       "    <tr>\n",
       "      <th>13</th>\n",
       "      <td>0.172219</td>\n",
       "      <td>0.411558</td>\n",
       "      <td>0.157903</td>\n",
       "      <td>0.394465</td>\n",
       "      <td>0.482803</td>\n",
       "    </tr>\n",
       "    <tr>\n",
       "      <th>14</th>\n",
       "      <td>0.146649</td>\n",
       "      <td>0.342287</td>\n",
       "      <td>0.118839</td>\n",
       "      <td>0.327553</td>\n",
       "      <td>0.208333</td>\n",
       "    </tr>\n",
       "    <tr>\n",
       "      <th>15</th>\n",
       "      <td>0.259871</td>\n",
       "      <td>1.101210</td>\n",
       "      <td>0.409881</td>\n",
       "      <td>0.557460</td>\n",
       "      <td>0.275926</td>\n",
       "    </tr>\n",
       "    <tr>\n",
       "      <th>16</th>\n",
       "      <td>0.176035</td>\n",
       "      <td>0.140478</td>\n",
       "      <td>0.094448</td>\n",
       "      <td>0.205412</td>\n",
       "      <td>0.025146</td>\n",
       "    </tr>\n",
       "    <tr>\n",
       "      <th>17</th>\n",
       "      <td>0.219443</td>\n",
       "      <td>0.584190</td>\n",
       "      <td>0.164421</td>\n",
       "      <td>0.351176</td>\n",
       "      <td>0.316603</td>\n",
       "    </tr>\n",
       "    <tr>\n",
       "      <th>18</th>\n",
       "      <td>0.105955</td>\n",
       "      <td>0.663635</td>\n",
       "      <td>0.307709</td>\n",
       "      <td>0.441452</td>\n",
       "      <td>0.243159</td>\n",
       "    </tr>\n",
       "    <tr>\n",
       "      <th>19</th>\n",
       "      <td>0.170026</td>\n",
       "      <td>0.250704</td>\n",
       "      <td>0.106609</td>\n",
       "      <td>0.542445</td>\n",
       "      <td>0.166020</td>\n",
       "    </tr>\n",
       "    <tr>\n",
       "      <th>20</th>\n",
       "      <td>0.255709</td>\n",
       "      <td>0.268598</td>\n",
       "      <td>0.228847</td>\n",
       "      <td>0.355794</td>\n",
       "      <td>0.080208</td>\n",
       "    </tr>\n",
       "    <tr>\n",
       "      <th>21</th>\n",
       "      <td>0.202550</td>\n",
       "      <td>0.202322</td>\n",
       "      <td>0.143614</td>\n",
       "      <td>0.223199</td>\n",
       "      <td>0.088889</td>\n",
       "    </tr>\n",
       "    <tr>\n",
       "      <th>22</th>\n",
       "      <td>0.251027</td>\n",
       "      <td>0.402875</td>\n",
       "      <td>0.139990</td>\n",
       "      <td>0.238880</td>\n",
       "      <td>0.193390</td>\n",
       "    </tr>\n",
       "    <tr>\n",
       "      <th>23</th>\n",
       "      <td>0.253681</td>\n",
       "      <td>0.418201</td>\n",
       "      <td>0.145798</td>\n",
       "      <td>0.273355</td>\n",
       "      <td>0.058333</td>\n",
       "    </tr>\n",
       "    <tr>\n",
       "      <th>24</th>\n",
       "      <td>0.203784</td>\n",
       "      <td>1.232506</td>\n",
       "      <td>0.439601</td>\n",
       "      <td>0.612336</td>\n",
       "      <td>0.345833</td>\n",
       "    </tr>\n",
       "    <tr>\n",
       "      <th>25</th>\n",
       "      <td>0.148675</td>\n",
       "      <td>0.345682</td>\n",
       "      <td>0.315026</td>\n",
       "      <td>0.375648</td>\n",
       "      <td>0.140017</td>\n",
       "    </tr>\n",
       "    <tr>\n",
       "      <th>26</th>\n",
       "      <td>0.160995</td>\n",
       "      <td>0.388134</td>\n",
       "      <td>0.294734</td>\n",
       "      <td>0.407248</td>\n",
       "      <td>0.075000</td>\n",
       "    </tr>\n",
       "    <tr>\n",
       "      <th>27</th>\n",
       "      <td>0.227516</td>\n",
       "      <td>0.470236</td>\n",
       "      <td>0.191865</td>\n",
       "      <td>0.377384</td>\n",
       "      <td>0.382496</td>\n",
       "    </tr>\n",
       "    <tr>\n",
       "      <th>28</th>\n",
       "      <td>0.156979</td>\n",
       "      <td>0.638973</td>\n",
       "      <td>0.166512</td>\n",
       "      <td>0.507101</td>\n",
       "      <td>0.284731</td>\n",
       "    </tr>\n",
       "    <tr>\n",
       "      <th>29</th>\n",
       "      <td>0.225961</td>\n",
       "      <td>0.225306</td>\n",
       "      <td>0.166264</td>\n",
       "      <td>0.392982</td>\n",
       "      <td>0.066671</td>\n",
       "    </tr>\n",
       "  </tbody>\n",
       "</table>\n",
       "</div>"
      ],
      "text/plain": [
       "    sepal width  petal length  petal width  sepal length     class\n",
       "0      0.112866      0.386771     0.241644      0.371817  0.323734\n",
       "1      0.267267      0.543147     0.226509      0.295007  0.614795\n",
       "2      0.153830      0.342449     0.247924      0.327834  0.236677\n",
       "3      0.246963      0.668989     0.388309      0.385393  0.435977\n",
       "4      0.129884      0.277258     0.214948      0.302588  0.230014\n",
       "5      0.239334      0.328810     0.201537      0.345923  0.155144\n",
       "6      0.245180      0.762376     0.410920      0.474553  0.173611\n",
       "7      0.182487      0.263886     0.143381      0.238102  0.164148\n",
       "8      0.102455      0.182326     0.071838      0.246158  0.136051\n",
       "9      0.273972      0.261430     0.133425      0.309792  0.133051\n",
       "10     0.203286      0.430249     0.309287      0.388867  0.267593\n",
       "11     0.322686      0.457851     0.190143      0.279973  0.242228\n",
       "12     0.202912      0.620369     0.308950      0.468460  0.144167\n",
       "13     0.172219      0.411558     0.157903      0.394465  0.482803\n",
       "14     0.146649      0.342287     0.118839      0.327553  0.208333\n",
       "15     0.259871      1.101210     0.409881      0.557460  0.275926\n",
       "16     0.176035      0.140478     0.094448      0.205412  0.025146\n",
       "17     0.219443      0.584190     0.164421      0.351176  0.316603\n",
       "18     0.105955      0.663635     0.307709      0.441452  0.243159\n",
       "19     0.170026      0.250704     0.106609      0.542445  0.166020\n",
       "20     0.255709      0.268598     0.228847      0.355794  0.080208\n",
       "21     0.202550      0.202322     0.143614      0.223199  0.088889\n",
       "22     0.251027      0.402875     0.139990      0.238880  0.193390\n",
       "23     0.253681      0.418201     0.145798      0.273355  0.058333\n",
       "24     0.203784      1.232506     0.439601      0.612336  0.345833\n",
       "25     0.148675      0.345682     0.315026      0.375648  0.140017\n",
       "26     0.160995      0.388134     0.294734      0.407248  0.075000\n",
       "27     0.227516      0.470236     0.191865      0.377384  0.382496\n",
       "28     0.156979      0.638973     0.166512      0.507101  0.284731\n",
       "29     0.225961      0.225306     0.166264      0.392982  0.066671"
      ]
     },
     "execution_count": 11,
     "metadata": {},
     "output_type": "execute_result"
    }
   ],
   "source": [
    "pd.DataFrame(reaction[\"details\"][\"feature_residuals\"])"
   ]
  },
  {
   "cell_type": "markdown",
   "metadata": {},
   "source": [
    "We can also use [`residual conviction`](https://docs.howso.com/user_guide/basic_capabilities/conviction.html#prediction-residual-conviction) to determine which features are uncertain in a scale-invariant manner,\n",
    "which can be useful if you wish to compare different features of different scales against each other."
   ]
  },
  {
   "cell_type": "code",
   "execution_count": 12,
   "metadata": {},
   "outputs": [
    {
     "data": {
      "text/html": [
       "<div>\n",
       "<style scoped>\n",
       "    .dataframe tbody tr th:only-of-type {\n",
       "        vertical-align: middle;\n",
       "    }\n",
       "\n",
       "    .dataframe tbody tr th {\n",
       "        vertical-align: top;\n",
       "    }\n",
       "\n",
       "    .dataframe thead th {\n",
       "        text-align: right;\n",
       "    }\n",
       "</style>\n",
       "<table border=\"1\" class=\"dataframe\">\n",
       "  <thead>\n",
       "    <tr style=\"text-align: right;\">\n",
       "      <th></th>\n",
       "      <th>sepal width</th>\n",
       "      <th>petal length</th>\n",
       "      <th>petal width</th>\n",
       "      <th>sepal length</th>\n",
       "      <th>class</th>\n",
       "    </tr>\n",
       "  </thead>\n",
       "  <tbody>\n",
       "    <tr>\n",
       "      <th>0</th>\n",
       "      <td>1.699643</td>\n",
       "      <td>0.983376</td>\n",
       "      <td>1.029561</td>\n",
       "      <td>0.832451</td>\n",
       "      <td>2.142331</td>\n",
       "    </tr>\n",
       "    <tr>\n",
       "      <th>1</th>\n",
       "      <td>0.551831</td>\n",
       "      <td>0.896642</td>\n",
       "      <td>1.223313</td>\n",
       "      <td>1.474671</td>\n",
       "      <td>1.014693</td>\n",
       "    </tr>\n",
       "    <tr>\n",
       "      <th>2</th>\n",
       "      <td>5.324531</td>\n",
       "      <td>0.597609</td>\n",
       "      <td>0.773709</td>\n",
       "      <td>0.888187</td>\n",
       "      <td>0.684881</td>\n",
       "    </tr>\n",
       "    <tr>\n",
       "      <th>3</th>\n",
       "      <td>0.625588</td>\n",
       "      <td>0.569873</td>\n",
       "      <td>1.213294</td>\n",
       "      <td>0.625019</td>\n",
       "      <td>0.737548</td>\n",
       "    </tr>\n",
       "    <tr>\n",
       "      <th>4</th>\n",
       "      <td>0.605051</td>\n",
       "      <td>0.578764</td>\n",
       "      <td>0.591898</td>\n",
       "      <td>1.071607</td>\n",
       "      <td>0.774200</td>\n",
       "    </tr>\n",
       "    <tr>\n",
       "      <th>5</th>\n",
       "      <td>0.763777</td>\n",
       "      <td>3.423105</td>\n",
       "      <td>1.362240</td>\n",
       "      <td>1.357466</td>\n",
       "      <td>1.113531</td>\n",
       "    </tr>\n",
       "    <tr>\n",
       "      <th>6</th>\n",
       "      <td>0.651159</td>\n",
       "      <td>0.627725</td>\n",
       "      <td>0.815623</td>\n",
       "      <td>2.570424</td>\n",
       "      <td>0.426374</td>\n",
       "    </tr>\n",
       "    <tr>\n",
       "      <th>7</th>\n",
       "      <td>0.622999</td>\n",
       "      <td>1.445718</td>\n",
       "      <td>1.115362</td>\n",
       "      <td>1.109143</td>\n",
       "      <td>1.011730</td>\n",
       "    </tr>\n",
       "    <tr>\n",
       "      <th>8</th>\n",
       "      <td>0.399236</td>\n",
       "      <td>1.309102</td>\n",
       "      <td>0.973500</td>\n",
       "      <td>0.577948</td>\n",
       "      <td>1.453606</td>\n",
       "    </tr>\n",
       "    <tr>\n",
       "      <th>9</th>\n",
       "      <td>0.302498</td>\n",
       "      <td>2.428158</td>\n",
       "      <td>1.000755</td>\n",
       "      <td>1.701415</td>\n",
       "      <td>1.185692</td>\n",
       "    </tr>\n",
       "    <tr>\n",
       "      <th>10</th>\n",
       "      <td>0.937844</td>\n",
       "      <td>1.287738</td>\n",
       "      <td>2.195877</td>\n",
       "      <td>0.857271</td>\n",
       "      <td>1.433778</td>\n",
       "    </tr>\n",
       "    <tr>\n",
       "      <th>11</th>\n",
       "      <td>0.916080</td>\n",
       "      <td>1.422263</td>\n",
       "      <td>1.326964</td>\n",
       "      <td>0.676675</td>\n",
       "      <td>0.686055</td>\n",
       "    </tr>\n",
       "    <tr>\n",
       "      <th>12</th>\n",
       "      <td>1.304820</td>\n",
       "      <td>2.915673</td>\n",
       "      <td>1.581597</td>\n",
       "      <td>1.567791</td>\n",
       "      <td>0.987820</td>\n",
       "    </tr>\n",
       "    <tr>\n",
       "      <th>13</th>\n",
       "      <td>1.365979</td>\n",
       "      <td>1.035747</td>\n",
       "      <td>0.915492</td>\n",
       "      <td>1.080177</td>\n",
       "      <td>0.911833</td>\n",
       "    </tr>\n",
       "    <tr>\n",
       "      <th>14</th>\n",
       "      <td>1.448192</td>\n",
       "      <td>1.029789</td>\n",
       "      <td>0.643832</td>\n",
       "      <td>1.540693</td>\n",
       "      <td>0.383807</td>\n",
       "    </tr>\n",
       "    <tr>\n",
       "      <th>15</th>\n",
       "      <td>0.623139</td>\n",
       "      <td>1.178888</td>\n",
       "      <td>2.213224</td>\n",
       "      <td>0.612128</td>\n",
       "      <td>0.248016</td>\n",
       "    </tr>\n",
       "    <tr>\n",
       "      <th>16</th>\n",
       "      <td>1.289270</td>\n",
       "      <td>0.558045</td>\n",
       "      <td>0.744301</td>\n",
       "      <td>0.654048</td>\n",
       "      <td>0.740741</td>\n",
       "    </tr>\n",
       "    <tr>\n",
       "      <th>17</th>\n",
       "      <td>1.467083</td>\n",
       "      <td>0.794500</td>\n",
       "      <td>1.341305</td>\n",
       "      <td>1.145117</td>\n",
       "      <td>0.650426</td>\n",
       "    </tr>\n",
       "    <tr>\n",
       "      <th>18</th>\n",
       "      <td>0.284137</td>\n",
       "      <td>0.359361</td>\n",
       "      <td>0.665655</td>\n",
       "      <td>1.594242</td>\n",
       "      <td>0.825862</td>\n",
       "    </tr>\n",
       "    <tr>\n",
       "      <th>19</th>\n",
       "      <td>0.489901</td>\n",
       "      <td>0.375862</td>\n",
       "      <td>0.348067</td>\n",
       "      <td>0.457227</td>\n",
       "      <td>0.843292</td>\n",
       "    </tr>\n",
       "    <tr>\n",
       "      <th>20</th>\n",
       "      <td>0.872533</td>\n",
       "      <td>1.963127</td>\n",
       "      <td>0.805491</td>\n",
       "      <td>1.549613</td>\n",
       "      <td>0.486111</td>\n",
       "    </tr>\n",
       "    <tr>\n",
       "      <th>21</th>\n",
       "      <td>1.363908</td>\n",
       "      <td>1.584817</td>\n",
       "      <td>2.279504</td>\n",
       "      <td>1.836369</td>\n",
       "      <td>0.237714</td>\n",
       "    </tr>\n",
       "    <tr>\n",
       "      <th>22</th>\n",
       "      <td>0.220962</td>\n",
       "      <td>1.450705</td>\n",
       "      <td>0.499176</td>\n",
       "      <td>0.781130</td>\n",
       "      <td>2.173479</td>\n",
       "    </tr>\n",
       "    <tr>\n",
       "      <th>23</th>\n",
       "      <td>1.081632</td>\n",
       "      <td>0.902958</td>\n",
       "      <td>1.715562</td>\n",
       "      <td>2.517897</td>\n",
       "      <td>0.363006</td>\n",
       "    </tr>\n",
       "    <tr>\n",
       "      <th>24</th>\n",
       "      <td>2.736635</td>\n",
       "      <td>1.948786</td>\n",
       "      <td>1.737854</td>\n",
       "      <td>0.892714</td>\n",
       "      <td>2.617521</td>\n",
       "    </tr>\n",
       "    <tr>\n",
       "      <th>25</th>\n",
       "      <td>1.304825</td>\n",
       "      <td>1.021171</td>\n",
       "      <td>1.106814</td>\n",
       "      <td>1.076624</td>\n",
       "      <td>0.718636</td>\n",
       "    </tr>\n",
       "    <tr>\n",
       "      <th>26</th>\n",
       "      <td>0.656504</td>\n",
       "      <td>0.908690</td>\n",
       "      <td>0.842476</td>\n",
       "      <td>1.119295</td>\n",
       "      <td>0.651291</td>\n",
       "    </tr>\n",
       "    <tr>\n",
       "      <th>27</th>\n",
       "      <td>2.913613</td>\n",
       "      <td>1.408689</td>\n",
       "      <td>0.999369</td>\n",
       "      <td>3.351711</td>\n",
       "      <td>1.265938</td>\n",
       "    </tr>\n",
       "    <tr>\n",
       "      <th>28</th>\n",
       "      <td>1.038121</td>\n",
       "      <td>1.418622</td>\n",
       "      <td>0.905376</td>\n",
       "      <td>0.937163</td>\n",
       "      <td>1.378535</td>\n",
       "    </tr>\n",
       "    <tr>\n",
       "      <th>29</th>\n",
       "      <td>0.778004</td>\n",
       "      <td>0.936140</td>\n",
       "      <td>0.739176</td>\n",
       "      <td>0.540700</td>\n",
       "      <td>1.353245</td>\n",
       "    </tr>\n",
       "  </tbody>\n",
       "</table>\n",
       "</div>"
      ],
      "text/plain": [
       "    sepal width  petal length  petal width  sepal length     class\n",
       "0      1.699643      0.983376     1.029561      0.832451  2.142331\n",
       "1      0.551831      0.896642     1.223313      1.474671  1.014693\n",
       "2      5.324531      0.597609     0.773709      0.888187  0.684881\n",
       "3      0.625588      0.569873     1.213294      0.625019  0.737548\n",
       "4      0.605051      0.578764     0.591898      1.071607  0.774200\n",
       "5      0.763777      3.423105     1.362240      1.357466  1.113531\n",
       "6      0.651159      0.627725     0.815623      2.570424  0.426374\n",
       "7      0.622999      1.445718     1.115362      1.109143  1.011730\n",
       "8      0.399236      1.309102     0.973500      0.577948  1.453606\n",
       "9      0.302498      2.428158     1.000755      1.701415  1.185692\n",
       "10     0.937844      1.287738     2.195877      0.857271  1.433778\n",
       "11     0.916080      1.422263     1.326964      0.676675  0.686055\n",
       "12     1.304820      2.915673     1.581597      1.567791  0.987820\n",
       "13     1.365979      1.035747     0.915492      1.080177  0.911833\n",
       "14     1.448192      1.029789     0.643832      1.540693  0.383807\n",
       "15     0.623139      1.178888     2.213224      0.612128  0.248016\n",
       "16     1.289270      0.558045     0.744301      0.654048  0.740741\n",
       "17     1.467083      0.794500     1.341305      1.145117  0.650426\n",
       "18     0.284137      0.359361     0.665655      1.594242  0.825862\n",
       "19     0.489901      0.375862     0.348067      0.457227  0.843292\n",
       "20     0.872533      1.963127     0.805491      1.549613  0.486111\n",
       "21     1.363908      1.584817     2.279504      1.836369  0.237714\n",
       "22     0.220962      1.450705     0.499176      0.781130  2.173479\n",
       "23     1.081632      0.902958     1.715562      2.517897  0.363006\n",
       "24     2.736635      1.948786     1.737854      0.892714  2.617521\n",
       "25     1.304825      1.021171     1.106814      1.076624  0.718636\n",
       "26     0.656504      0.908690     0.842476      1.119295  0.651291\n",
       "27     2.913613      1.408689     0.999369      3.351711  1.265938\n",
       "28     1.038121      1.418622     0.905376      0.937163  1.378535\n",
       "29     0.778004      0.936140     0.739176      0.540700  1.353245"
      ]
     },
     "execution_count": 12,
     "metadata": {},
     "output_type": "execute_result"
    }
   ],
   "source": [
    "pd.DataFrame(reaction[\"details\"][\"local_case_feature_residual_convictions\"])"
   ]
  },
  {
   "cell_type": "markdown",
   "metadata": {},
   "source": [
    "### Insight 4: How Anomalous are the Predicted Cases?\n",
    "\n",
    "By getting the [`similarity conviction`](https://docs.howso.com/user_guide/basic_capabilities/conviction.html#similarity-conviction) of the cases that we predict, we can determine which of them are anomalous relative to the trained data.\n",
    "This could help to highlight cases that are unusually difficult or easy to predict, as well as discover potentially malicious or poisoned cases."
   ]
  },
  {
   "cell_type": "code",
   "execution_count": 13,
   "metadata": {},
   "outputs": [
    {
     "name": "stdout",
     "output_type": "stream",
     "text": [
      "[1.260835585599987, 1.227050047339045, 1.228695629346302, 1.2004965983246094,\n",
      " 1.1157927709242215, 1.2554462857202653, 1.2458724147103153, 1.2189325533603856,\n",
      " 1.14063203996104, 1.2225394771011675, 1.2749788292171218, 1.2004284342383167,\n",
      " 1.2492500480477184, 1.2487892256961939, 1.2200623536345236, 1.232008421897604,\n",
      " 1.2162095101968016, 1.267347152937185, 1.1469941030810846, 1.0109209497664502,\n",
      " 1.2063451120669346, 1.2543503045201094, 1.1488859912924438, 1.2350786536296818,\n",
      " 1.240763441000068, 1.27176056913252, 1.2424706351202268, 1.2415632688477891,\n",
      " 1.1933066876452634, 1.2212768946158383]\n"
     ]
    }
   ],
   "source": [
    "pprint(reaction[\"details\"][\"similarity_conviction\"], compact=True)"
   ]
  }
 ],
 "metadata": {
  "kernelspec": {
   "display_name": "engine-recipes-3.9",
   "language": "python",
   "name": "python3"
  },
  "language_info": {
   "codemirror_mode": {
    "name": "ipython",
    "version": 3
   },
   "file_extension": ".py",
   "mimetype": "text/x-python",
   "name": "python",
   "nbconvert_exporter": "python",
   "pygments_lexer": "ipython3",
   "version": "3.9.19"
  }
 },
 "nbformat": 4,
 "nbformat_minor": 2
}
