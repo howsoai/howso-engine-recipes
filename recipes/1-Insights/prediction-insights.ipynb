{
 "cells": [
  {
   "cell_type": "markdown",
   "metadata": {},
   "source": [
    "# Prediction Insights"
   ]
  },
  {
   "cell_type": "markdown",
   "metadata": {},
   "source": [
    "## Overview\n",
    "\n",
    "Howso Engine enables powerful predictions with complete attribution and detailed explanations to make learning from\n",
    "and debugging your data and predictions as easy as possible. For more information on predictions with Howso Engine,\n",
    "check out the [predictions user guide](https://docs.howso.com/user_guide/basic_capabilities/predictions.html)."
   ]
  },
  {
   "cell_type": "code",
   "execution_count": 1,
   "metadata": {},
   "outputs": [],
   "source": [
    "from pprint import pprint\n",
    "\n",
    "import pandas as pd\n",
    "import plotly.graph_objects as go\n",
    "import plotly.express as px\n",
    "\n",
    "from howso.engine import Trainee\n",
    "from howso.utilities import infer_feature_attributes"
   ]
  },
  {
   "cell_type": "markdown",
   "metadata": {},
   "source": [
    "## Setup\n",
    "\n",
    "This recipe will focus on the insights gained from predictions. Specifically, insights from:\n",
    "\n",
    "- Influential Cases,\n",
    "- Feature Contributions,\n",
    "- Residual and Similarity Conviction,\n",
    "- and Categorical Action Probabilities.\n",
    "\n",
    "The [basic workflow guide](https://docs.howso.com/user_guide/basic_capabilities/basic_workflow.html) covers creating a Trainee and performing a basic react in detail.\n",
    "\n",
    "### Load Data and Create Trainee"
   ]
  },
  {
   "cell_type": "code",
   "execution_count": 2,
   "metadata": {},
   "outputs": [
    {
     "data": {
      "text/html": [
       "<div>\n",
       "<style scoped>\n",
       "    .dataframe tbody tr th:only-of-type {\n",
       "        vertical-align: middle;\n",
       "    }\n",
       "\n",
       "    .dataframe tbody tr th {\n",
       "        vertical-align: top;\n",
       "    }\n",
       "\n",
       "    .dataframe thead th {\n",
       "        text-align: right;\n",
       "    }\n",
       "</style>\n",
       "<table border=\"1\" class=\"dataframe\">\n",
       "  <thead>\n",
       "    <tr style=\"text-align: right;\">\n",
       "      <th></th>\n",
       "      <th>Unnamed: 0</th>\n",
       "      <th>sepal length</th>\n",
       "      <th>sepal width</th>\n",
       "      <th>petal length</th>\n",
       "      <th>petal width</th>\n",
       "      <th>class</th>\n",
       "    </tr>\n",
       "  </thead>\n",
       "  <tbody>\n",
       "    <tr>\n",
       "      <th>0</th>\n",
       "      <td>27</td>\n",
       "      <td>5.2</td>\n",
       "      <td>3.5</td>\n",
       "      <td>1.5</td>\n",
       "      <td>0.2</td>\n",
       "      <td>Iris-setosa</td>\n",
       "    </tr>\n",
       "    <tr>\n",
       "      <th>1</th>\n",
       "      <td>14</td>\n",
       "      <td>5.8</td>\n",
       "      <td>4.0</td>\n",
       "      <td>1.2</td>\n",
       "      <td>0.2</td>\n",
       "      <td>Iris-setosa</td>\n",
       "    </tr>\n",
       "    <tr>\n",
       "      <th>2</th>\n",
       "      <td>25</td>\n",
       "      <td>5.0</td>\n",
       "      <td>3.0</td>\n",
       "      <td>1.6</td>\n",
       "      <td>0.2</td>\n",
       "      <td>Iris-setosa</td>\n",
       "    </tr>\n",
       "    <tr>\n",
       "      <th>3</th>\n",
       "      <td>82</td>\n",
       "      <td>5.8</td>\n",
       "      <td>2.7</td>\n",
       "      <td>3.9</td>\n",
       "      <td>1.2</td>\n",
       "      <td>Iris-versicolor</td>\n",
       "    </tr>\n",
       "    <tr>\n",
       "      <th>4</th>\n",
       "      <td>97</td>\n",
       "      <td>6.2</td>\n",
       "      <td>2.9</td>\n",
       "      <td>4.3</td>\n",
       "      <td>1.3</td>\n",
       "      <td>Iris-versicolor</td>\n",
       "    </tr>\n",
       "    <tr>\n",
       "      <th>...</th>\n",
       "      <td>...</td>\n",
       "      <td>...</td>\n",
       "      <td>...</td>\n",
       "      <td>...</td>\n",
       "      <td>...</td>\n",
       "      <td>...</td>\n",
       "    </tr>\n",
       "    <tr>\n",
       "      <th>145</th>\n",
       "      <td>126</td>\n",
       "      <td>6.2</td>\n",
       "      <td>2.8</td>\n",
       "      <td>4.8</td>\n",
       "      <td>1.8</td>\n",
       "      <td>Iris-virginica</td>\n",
       "    </tr>\n",
       "    <tr>\n",
       "      <th>146</th>\n",
       "      <td>124</td>\n",
       "      <td>6.7</td>\n",
       "      <td>3.3</td>\n",
       "      <td>5.7</td>\n",
       "      <td>2.1</td>\n",
       "      <td>Iris-virginica</td>\n",
       "    </tr>\n",
       "    <tr>\n",
       "      <th>147</th>\n",
       "      <td>78</td>\n",
       "      <td>6.0</td>\n",
       "      <td>2.9</td>\n",
       "      <td>4.5</td>\n",
       "      <td>1.5</td>\n",
       "      <td>Iris-versicolor</td>\n",
       "    </tr>\n",
       "    <tr>\n",
       "      <th>148</th>\n",
       "      <td>125</td>\n",
       "      <td>7.2</td>\n",
       "      <td>3.2</td>\n",
       "      <td>6.0</td>\n",
       "      <td>1.8</td>\n",
       "      <td>Iris-virginica</td>\n",
       "    </tr>\n",
       "    <tr>\n",
       "      <th>149</th>\n",
       "      <td>130</td>\n",
       "      <td>7.4</td>\n",
       "      <td>2.8</td>\n",
       "      <td>6.1</td>\n",
       "      <td>1.9</td>\n",
       "      <td>Iris-virginica</td>\n",
       "    </tr>\n",
       "  </tbody>\n",
       "</table>\n",
       "<p>150 rows × 6 columns</p>\n",
       "</div>"
      ],
      "text/plain": [
       "     Unnamed: 0  sepal length  sepal width  petal length  petal width  \\\n",
       "0            27           5.2          3.5           1.5          0.2   \n",
       "1            14           5.8          4.0           1.2          0.2   \n",
       "2            25           5.0          3.0           1.6          0.2   \n",
       "3            82           5.8          2.7           3.9          1.2   \n",
       "4            97           6.2          2.9           4.3          1.3   \n",
       "..          ...           ...          ...           ...          ...   \n",
       "145         126           6.2          2.8           4.8          1.8   \n",
       "146         124           6.7          3.3           5.7          2.1   \n",
       "147          78           6.0          2.9           4.5          1.5   \n",
       "148         125           7.2          3.2           6.0          1.8   \n",
       "149         130           7.4          2.8           6.1          1.9   \n",
       "\n",
       "               class  \n",
       "0        Iris-setosa  \n",
       "1        Iris-setosa  \n",
       "2        Iris-setosa  \n",
       "3    Iris-versicolor  \n",
       "4    Iris-versicolor  \n",
       "..               ...  \n",
       "145   Iris-virginica  \n",
       "146   Iris-virginica  \n",
       "147  Iris-versicolor  \n",
       "148   Iris-virginica  \n",
       "149   Iris-virginica  \n",
       "\n",
       "[150 rows x 6 columns]"
      ]
     },
     "execution_count": 2,
     "metadata": {},
     "output_type": "execute_result"
    }
   ],
   "source": [
    "df = pd.read_csv(\"../../data/iris/iris.tsv.gz\", sep=\"\\t\", compression=\"gzip\")\n",
    "train_data = df.iloc[:-30]\n",
    "new_data = df[~df.index.isin(train_data.index)]\n",
    "features = infer_feature_attributes(train_data)\n",
    "\n",
    "t = Trainee(features=features)\n",
    "\n",
    "df"
   ]
  },
  {
   "cell_type": "markdown",
   "metadata": {},
   "source": [
    "### Train, Analyze, and React"
   ]
  },
  {
   "cell_type": "code",
   "execution_count": 3,
   "metadata": {},
   "outputs": [],
   "source": [
    "t.train(train_data)\n",
    "t.analyze()\n",
    "t.react_into_features(similarity_conviction=True)\n",
    "\n",
    "reaction = t.react(\n",
    "    contexts=new_data,\n",
    "    context_features=[\"sepal length\", \"sepal width\", \"petal length\", \"petal width\"],\n",
    "    action_features=[\"class\"],\n",
    "    details={\n",
    "        \"influential_cases\": True,\n",
    "        \"similarity_conviction\": True,\n",
    "        \"feature_contributions\": True,\n",
    "        \"feature_residuals\": True,\n",
    "        \"robust_influences\": True,\n",
    "        \"robust_residuals\": True,\n",
    "        \"local_case_feature_residual_convictions\": True,\n",
    "        \"categorical_action_probabilities\": True,\n",
    "    }\n",
    ")"
   ]
  },
  {
   "cell_type": "markdown",
   "metadata": {},
   "source": [
    "Note that, unlike in the basic workflow guide, we include several `details` in the react call and predict multiple cases as opposed to one. These are what will enable the\n",
    "insights that we're going to get after the predictions are made.\n",
    "\n",
    "For more information, see [the API documentation for `Trainee.react()`](https://docs.howso.com/api_reference/_autosummary/howso.engine.html#howso.engine.Trainee.react)."
   ]
  },
  {
   "cell_type": "markdown",
   "metadata": {},
   "source": [
    "### Inspect the Predictions\n",
    "\n",
    "Howso Engine has high accuracy even on small datasets.\n",
    "\n",
    "Here we see a comparison of the trained data (dots) and the predicted data (stars). This plot shows that the predictions align well with the trained data."
   ]
  },
  {
   "cell_type": "code",
   "execution_count": 4,
   "metadata": {},
   "outputs": [
    {
     "data": {
      "application/vnd.plotly.v1+json": {
       "config": {
        "plotlyServerURL": "https://plot.ly"
       },
       "data": [
        {
         "legendgroup": "trained",
         "legendgrouptitle": {
          "text": "Trained class"
         },
         "marker": {
          "color": "#1F77B4",
          "opacity": 0.75
         },
         "mode": "markers",
         "name": "Iris-setosa",
         "type": "scatter",
         "x": [
          1.5,
          1.2,
          1.6,
          1.7,
          1.7,
          1.5,
          1.6,
          1.3,
          1.6,
          1.4,
          1,
          1.5,
          1.4,
          1.3,
          1.7,
          1.4,
          1.3,
          1.5,
          1.4,
          1.1,
          1.4,
          1.2,
          1.9,
          1.6,
          1.5,
          1.9,
          1.5,
          1.5,
          1.5,
          1.3,
          1.4,
          1.6,
          1.4,
          1.6,
          1.4,
          1.5,
          1.5,
          1.6,
          1.5,
          1.4,
          1.3,
          1.7,
          1.5
         ],
         "y": [
          0.2,
          0.2,
          0.2,
          0.2,
          0.3,
          0.4,
          0.6,
          0.4,
          0.2,
          0.2,
          0.2,
          0.3,
          0.2,
          0.3,
          0.4,
          0.3,
          0.3,
          0.1,
          0.3,
          0.1,
          0.1,
          0.2,
          0.2,
          0.4,
          0.1,
          0.4,
          0.2,
          0.2,
          0.2,
          0.2,
          0.2,
          0.2,
          0.2,
          0.2,
          0.3,
          0.2,
          0.1,
          0.2,
          0.2,
          0.2,
          0.2,
          0.5,
          0.4
         ]
        },
        {
         "legendgroup": "trained",
         "legendgrouptitle": {
          "text": "Trained class"
         },
         "marker": {
          "color": "#FF7F0E",
          "opacity": 0.75
         },
         "mode": "markers",
         "name": "Iris-versicolor",
         "type": "scatter",
         "x": [
          3.9,
          4.3,
          4.8,
          3,
          4.2,
          5,
          3.7,
          4.7,
          4.7,
          4.6,
          4.6,
          4,
          4.4,
          4.6,
          4.5,
          3.3,
          4.5,
          4.8,
          4.5,
          4.5,
          4.9,
          3.5,
          4.1,
          4,
          4.5,
          4.7,
          3.3,
          3.9,
          4.2,
          3.9,
          4.7,
          4.3,
          3.5,
          4.9,
          3.6,
          3.8,
          4.4,
          4.2,
          4.7,
          4.1
         ],
         "y": [
          1.2,
          1.3,
          1.8,
          1.1,
          1.3,
          1.7,
          1,
          1.6,
          1.4,
          1.5,
          1.4,
          1.3,
          1.4,
          1.3,
          1.6,
          1,
          1.5,
          1.4,
          1.3,
          1.5,
          1.5,
          1,
          1,
          1.3,
          1.5,
          1.4,
          1,
          1.1,
          1.3,
          1.4,
          1.2,
          1.3,
          1,
          1.5,
          1.3,
          1.1,
          1.2,
          1.2,
          1.5,
          1.3
         ]
        },
        {
         "legendgroup": "trained",
         "legendgrouptitle": {
          "text": "Trained class"
         },
         "marker": {
          "color": "#2CA02C",
          "opacity": 0.75
         },
         "mode": "markers",
         "name": "Iris-virginica",
         "type": "scatter",
         "x": [
          5.5,
          5.1,
          5.2,
          4.9,
          6,
          5.6,
          5.2,
          6.7,
          6.9,
          5.9,
          6.3,
          5.9,
          5,
          5.6,
          5.1,
          5.8,
          5.6,
          6.1,
          5.6,
          6.1,
          5.5,
          6.6,
          5.7,
          5.8,
          5.1,
          6.4,
          6.7,
          5.5,
          5.6,
          4.9,
          5.7,
          5.1,
          5.4,
          5.3,
          5.4,
          4.9,
          5.3
         ],
         "y": [
          1.8,
          1.8,
          2,
          2,
          2.5,
          2.4,
          2.3,
          2.2,
          2.3,
          2.3,
          1.8,
          2.1,
          1.5,
          2.1,
          1.9,
          1.6,
          2.2,
          2.5,
          1.8,
          2.3,
          1.8,
          2.1,
          2.3,
          2.2,
          2.4,
          2,
          2,
          2.1,
          2.4,
          1.8,
          2.5,
          1.5,
          2.3,
          1.9,
          2.1,
          1.8,
          2.3
         ]
        },
        {
         "hovertext": [
          6,
          12,
          15,
          16,
          20,
          23,
          24
         ],
         "legendgroup": "predicted",
         "legendgrouptitle": {
          "text": "Predicted class"
         },
         "marker": {
          "color": "#1F77B4",
          "opacity": 0.75,
          "size": 12,
          "symbol": "star"
         },
         "mode": "markers",
         "name": "Iris-setosa",
         "type": "scatter",
         "x": [
          1.4,
          1.5,
          1.4,
          1.3,
          1.5,
          1.4,
          1.3
         ],
         "y": [
          0.2,
          0.1,
          0.2,
          0.2,
          0.4,
          0.2,
          0.2
         ]
        },
        {
         "hovertext": [
          0,
          5,
          8,
          9,
          11,
          14,
          19,
          21,
          22,
          27
         ],
         "legendgroup": "predicted",
         "legendgrouptitle": {
          "text": "Predicted class"
         },
         "marker": {
          "color": "#FF7F0E",
          "opacity": 0.75,
          "size": 12,
          "symbol": "star"
         },
         "mode": "markers",
         "name": "Iris-versicolor",
         "type": "scatter",
         "x": [
          4.4,
          4.1,
          4.4,
          4,
          4.5,
          4.2,
          4.5,
          4,
          4,
          4.5
         ],
         "y": [
          1.4,
          1.3,
          1.3,
          1.3,
          1.5,
          1.5,
          1.7,
          1.2,
          1,
          1.5
         ]
        },
        {
         "hovertext": [
          1,
          2,
          3,
          4,
          7,
          10,
          13,
          17,
          18,
          25,
          26,
          28,
          29
         ],
         "legendgroup": "predicted",
         "legendgrouptitle": {
          "text": "Predicted class"
         },
         "marker": {
          "color": "#2CA02C",
          "opacity": 0.75,
          "size": 12,
          "symbol": "star"
         },
         "mode": "markers",
         "name": "Iris-virginica",
         "type": "scatter",
         "x": [
          5,
          5.1,
          5,
          5.6,
          5.1,
          5.1,
          5.1,
          4.8,
          5.8,
          4.8,
          5.7,
          6,
          6.1
         ],
         "y": [
          1.9,
          2.3,
          2,
          1.4,
          2,
          1.9,
          1.6,
          1.8,
          1.8,
          1.8,
          2.1,
          1.8,
          1.9
         ]
        }
       ],
       "layout": {
        "template": {
         "data": {
          "bar": [
           {
            "error_x": {
             "color": "#2a3f5f"
            },
            "error_y": {
             "color": "#2a3f5f"
            },
            "marker": {
             "line": {
              "color": "#E5ECF6",
              "width": 0.5
             },
             "pattern": {
              "fillmode": "overlay",
              "size": 10,
              "solidity": 0.2
             }
            },
            "type": "bar"
           }
          ],
          "barpolar": [
           {
            "marker": {
             "line": {
              "color": "#E5ECF6",
              "width": 0.5
             },
             "pattern": {
              "fillmode": "overlay",
              "size": 10,
              "solidity": 0.2
             }
            },
            "type": "barpolar"
           }
          ],
          "carpet": [
           {
            "aaxis": {
             "endlinecolor": "#2a3f5f",
             "gridcolor": "white",
             "linecolor": "white",
             "minorgridcolor": "white",
             "startlinecolor": "#2a3f5f"
            },
            "baxis": {
             "endlinecolor": "#2a3f5f",
             "gridcolor": "white",
             "linecolor": "white",
             "minorgridcolor": "white",
             "startlinecolor": "#2a3f5f"
            },
            "type": "carpet"
           }
          ],
          "choropleth": [
           {
            "colorbar": {
             "outlinewidth": 0,
             "ticks": ""
            },
            "type": "choropleth"
           }
          ],
          "contour": [
           {
            "colorbar": {
             "outlinewidth": 0,
             "ticks": ""
            },
            "colorscale": [
             [
              0,
              "#0d0887"
             ],
             [
              0.1111111111111111,
              "#46039f"
             ],
             [
              0.2222222222222222,
              "#7201a8"
             ],
             [
              0.3333333333333333,
              "#9c179e"
             ],
             [
              0.4444444444444444,
              "#bd3786"
             ],
             [
              0.5555555555555556,
              "#d8576b"
             ],
             [
              0.6666666666666666,
              "#ed7953"
             ],
             [
              0.7777777777777778,
              "#fb9f3a"
             ],
             [
              0.8888888888888888,
              "#fdca26"
             ],
             [
              1,
              "#f0f921"
             ]
            ],
            "type": "contour"
           }
          ],
          "contourcarpet": [
           {
            "colorbar": {
             "outlinewidth": 0,
             "ticks": ""
            },
            "type": "contourcarpet"
           }
          ],
          "heatmap": [
           {
            "colorbar": {
             "outlinewidth": 0,
             "ticks": ""
            },
            "colorscale": [
             [
              0,
              "#0d0887"
             ],
             [
              0.1111111111111111,
              "#46039f"
             ],
             [
              0.2222222222222222,
              "#7201a8"
             ],
             [
              0.3333333333333333,
              "#9c179e"
             ],
             [
              0.4444444444444444,
              "#bd3786"
             ],
             [
              0.5555555555555556,
              "#d8576b"
             ],
             [
              0.6666666666666666,
              "#ed7953"
             ],
             [
              0.7777777777777778,
              "#fb9f3a"
             ],
             [
              0.8888888888888888,
              "#fdca26"
             ],
             [
              1,
              "#f0f921"
             ]
            ],
            "type": "heatmap"
           }
          ],
          "heatmapgl": [
           {
            "colorbar": {
             "outlinewidth": 0,
             "ticks": ""
            },
            "colorscale": [
             [
              0,
              "#0d0887"
             ],
             [
              0.1111111111111111,
              "#46039f"
             ],
             [
              0.2222222222222222,
              "#7201a8"
             ],
             [
              0.3333333333333333,
              "#9c179e"
             ],
             [
              0.4444444444444444,
              "#bd3786"
             ],
             [
              0.5555555555555556,
              "#d8576b"
             ],
             [
              0.6666666666666666,
              "#ed7953"
             ],
             [
              0.7777777777777778,
              "#fb9f3a"
             ],
             [
              0.8888888888888888,
              "#fdca26"
             ],
             [
              1,
              "#f0f921"
             ]
            ],
            "type": "heatmapgl"
           }
          ],
          "histogram": [
           {
            "marker": {
             "pattern": {
              "fillmode": "overlay",
              "size": 10,
              "solidity": 0.2
             }
            },
            "type": "histogram"
           }
          ],
          "histogram2d": [
           {
            "colorbar": {
             "outlinewidth": 0,
             "ticks": ""
            },
            "colorscale": [
             [
              0,
              "#0d0887"
             ],
             [
              0.1111111111111111,
              "#46039f"
             ],
             [
              0.2222222222222222,
              "#7201a8"
             ],
             [
              0.3333333333333333,
              "#9c179e"
             ],
             [
              0.4444444444444444,
              "#bd3786"
             ],
             [
              0.5555555555555556,
              "#d8576b"
             ],
             [
              0.6666666666666666,
              "#ed7953"
             ],
             [
              0.7777777777777778,
              "#fb9f3a"
             ],
             [
              0.8888888888888888,
              "#fdca26"
             ],
             [
              1,
              "#f0f921"
             ]
            ],
            "type": "histogram2d"
           }
          ],
          "histogram2dcontour": [
           {
            "colorbar": {
             "outlinewidth": 0,
             "ticks": ""
            },
            "colorscale": [
             [
              0,
              "#0d0887"
             ],
             [
              0.1111111111111111,
              "#46039f"
             ],
             [
              0.2222222222222222,
              "#7201a8"
             ],
             [
              0.3333333333333333,
              "#9c179e"
             ],
             [
              0.4444444444444444,
              "#bd3786"
             ],
             [
              0.5555555555555556,
              "#d8576b"
             ],
             [
              0.6666666666666666,
              "#ed7953"
             ],
             [
              0.7777777777777778,
              "#fb9f3a"
             ],
             [
              0.8888888888888888,
              "#fdca26"
             ],
             [
              1,
              "#f0f921"
             ]
            ],
            "type": "histogram2dcontour"
           }
          ],
          "mesh3d": [
           {
            "colorbar": {
             "outlinewidth": 0,
             "ticks": ""
            },
            "type": "mesh3d"
           }
          ],
          "parcoords": [
           {
            "line": {
             "colorbar": {
              "outlinewidth": 0,
              "ticks": ""
             }
            },
            "type": "parcoords"
           }
          ],
          "pie": [
           {
            "automargin": true,
            "type": "pie"
           }
          ],
          "scatter": [
           {
            "fillpattern": {
             "fillmode": "overlay",
             "size": 10,
             "solidity": 0.2
            },
            "type": "scatter"
           }
          ],
          "scatter3d": [
           {
            "line": {
             "colorbar": {
              "outlinewidth": 0,
              "ticks": ""
             }
            },
            "marker": {
             "colorbar": {
              "outlinewidth": 0,
              "ticks": ""
             }
            },
            "type": "scatter3d"
           }
          ],
          "scattercarpet": [
           {
            "marker": {
             "colorbar": {
              "outlinewidth": 0,
              "ticks": ""
             }
            },
            "type": "scattercarpet"
           }
          ],
          "scattergeo": [
           {
            "marker": {
             "colorbar": {
              "outlinewidth": 0,
              "ticks": ""
             }
            },
            "type": "scattergeo"
           }
          ],
          "scattergl": [
           {
            "marker": {
             "colorbar": {
              "outlinewidth": 0,
              "ticks": ""
             }
            },
            "type": "scattergl"
           }
          ],
          "scattermapbox": [
           {
            "marker": {
             "colorbar": {
              "outlinewidth": 0,
              "ticks": ""
             }
            },
            "type": "scattermapbox"
           }
          ],
          "scatterpolar": [
           {
            "marker": {
             "colorbar": {
              "outlinewidth": 0,
              "ticks": ""
             }
            },
            "type": "scatterpolar"
           }
          ],
          "scatterpolargl": [
           {
            "marker": {
             "colorbar": {
              "outlinewidth": 0,
              "ticks": ""
             }
            },
            "type": "scatterpolargl"
           }
          ],
          "scatterternary": [
           {
            "marker": {
             "colorbar": {
              "outlinewidth": 0,
              "ticks": ""
             }
            },
            "type": "scatterternary"
           }
          ],
          "surface": [
           {
            "colorbar": {
             "outlinewidth": 0,
             "ticks": ""
            },
            "colorscale": [
             [
              0,
              "#0d0887"
             ],
             [
              0.1111111111111111,
              "#46039f"
             ],
             [
              0.2222222222222222,
              "#7201a8"
             ],
             [
              0.3333333333333333,
              "#9c179e"
             ],
             [
              0.4444444444444444,
              "#bd3786"
             ],
             [
              0.5555555555555556,
              "#d8576b"
             ],
             [
              0.6666666666666666,
              "#ed7953"
             ],
             [
              0.7777777777777778,
              "#fb9f3a"
             ],
             [
              0.8888888888888888,
              "#fdca26"
             ],
             [
              1,
              "#f0f921"
             ]
            ],
            "type": "surface"
           }
          ],
          "table": [
           {
            "cells": {
             "fill": {
              "color": "#EBF0F8"
             },
             "line": {
              "color": "white"
             }
            },
            "header": {
             "fill": {
              "color": "#C8D4E3"
             },
             "line": {
              "color": "white"
             }
            },
            "type": "table"
           }
          ]
         },
         "layout": {
          "annotationdefaults": {
           "arrowcolor": "#2a3f5f",
           "arrowhead": 0,
           "arrowwidth": 1
          },
          "autotypenumbers": "strict",
          "coloraxis": {
           "colorbar": {
            "outlinewidth": 0,
            "ticks": ""
           }
          },
          "colorscale": {
           "diverging": [
            [
             0,
             "#8e0152"
            ],
            [
             0.1,
             "#c51b7d"
            ],
            [
             0.2,
             "#de77ae"
            ],
            [
             0.3,
             "#f1b6da"
            ],
            [
             0.4,
             "#fde0ef"
            ],
            [
             0.5,
             "#f7f7f7"
            ],
            [
             0.6,
             "#e6f5d0"
            ],
            [
             0.7,
             "#b8e186"
            ],
            [
             0.8,
             "#7fbc41"
            ],
            [
             0.9,
             "#4d9221"
            ],
            [
             1,
             "#276419"
            ]
           ],
           "sequential": [
            [
             0,
             "#0d0887"
            ],
            [
             0.1111111111111111,
             "#46039f"
            ],
            [
             0.2222222222222222,
             "#7201a8"
            ],
            [
             0.3333333333333333,
             "#9c179e"
            ],
            [
             0.4444444444444444,
             "#bd3786"
            ],
            [
             0.5555555555555556,
             "#d8576b"
            ],
            [
             0.6666666666666666,
             "#ed7953"
            ],
            [
             0.7777777777777778,
             "#fb9f3a"
            ],
            [
             0.8888888888888888,
             "#fdca26"
            ],
            [
             1,
             "#f0f921"
            ]
           ],
           "sequentialminus": [
            [
             0,
             "#0d0887"
            ],
            [
             0.1111111111111111,
             "#46039f"
            ],
            [
             0.2222222222222222,
             "#7201a8"
            ],
            [
             0.3333333333333333,
             "#9c179e"
            ],
            [
             0.4444444444444444,
             "#bd3786"
            ],
            [
             0.5555555555555556,
             "#d8576b"
            ],
            [
             0.6666666666666666,
             "#ed7953"
            ],
            [
             0.7777777777777778,
             "#fb9f3a"
            ],
            [
             0.8888888888888888,
             "#fdca26"
            ],
            [
             1,
             "#f0f921"
            ]
           ]
          },
          "colorway": [
           "#636efa",
           "#EF553B",
           "#00cc96",
           "#ab63fa",
           "#FFA15A",
           "#19d3f3",
           "#FF6692",
           "#B6E880",
           "#FF97FF",
           "#FECB52"
          ],
          "font": {
           "color": "#2a3f5f"
          },
          "geo": {
           "bgcolor": "white",
           "lakecolor": "white",
           "landcolor": "#E5ECF6",
           "showlakes": true,
           "showland": true,
           "subunitcolor": "white"
          },
          "hoverlabel": {
           "align": "left"
          },
          "hovermode": "closest",
          "mapbox": {
           "style": "light"
          },
          "paper_bgcolor": "white",
          "plot_bgcolor": "#E5ECF6",
          "polar": {
           "angularaxis": {
            "gridcolor": "white",
            "linecolor": "white",
            "ticks": ""
           },
           "bgcolor": "#E5ECF6",
           "radialaxis": {
            "gridcolor": "white",
            "linecolor": "white",
            "ticks": ""
           }
          },
          "scene": {
           "xaxis": {
            "backgroundcolor": "#E5ECF6",
            "gridcolor": "white",
            "gridwidth": 2,
            "linecolor": "white",
            "showbackground": true,
            "ticks": "",
            "zerolinecolor": "white"
           },
           "yaxis": {
            "backgroundcolor": "#E5ECF6",
            "gridcolor": "white",
            "gridwidth": 2,
            "linecolor": "white",
            "showbackground": true,
            "ticks": "",
            "zerolinecolor": "white"
           },
           "zaxis": {
            "backgroundcolor": "#E5ECF6",
            "gridcolor": "white",
            "gridwidth": 2,
            "linecolor": "white",
            "showbackground": true,
            "ticks": "",
            "zerolinecolor": "white"
           }
          },
          "shapedefaults": {
           "line": {
            "color": "#2a3f5f"
           }
          },
          "ternary": {
           "aaxis": {
            "gridcolor": "white",
            "linecolor": "white",
            "ticks": ""
           },
           "baxis": {
            "gridcolor": "white",
            "linecolor": "white",
            "ticks": ""
           },
           "bgcolor": "#E5ECF6",
           "caxis": {
            "gridcolor": "white",
            "linecolor": "white",
            "ticks": ""
           }
          },
          "title": {
           "x": 0.05
          },
          "xaxis": {
           "automargin": true,
           "gridcolor": "white",
           "linecolor": "white",
           "ticks": "",
           "title": {
            "standoff": 15
           },
           "zerolinecolor": "white",
           "zerolinewidth": 2
          },
          "yaxis": {
           "automargin": true,
           "gridcolor": "white",
           "linecolor": "white",
           "ticks": "",
           "title": {
            "standoff": 15
           },
           "zerolinecolor": "white",
           "zerolinewidth": 2
          }
         }
        },
        "title": {
         "text": "Trained and Predicted Values"
        },
        "width": 1250,
        "xaxis": {
         "title": {
          "text": "Petal Length"
         }
        },
        "yaxis": {
         "title": {
          "text": "Petal Width"
         }
        }
       }
      }
     },
     "metadata": {},
     "output_type": "display_data"
    }
   ],
   "source": [
    "train_data = train_data.astype({\"class\": str})\n",
    "predicted_data = pd.concat([new_data.reset_index(drop=True).drop(columns=\"class\"), reaction[\"action\"]], axis=1)\n",
    "predicted_data = predicted_data.astype({\"class\": str})\n",
    "\n",
    "cmap = px.colors.qualitative.D3\n",
    "fig = go.Figure()\n",
    "for i, (label, group) in enumerate(train_data.groupby(\"class\")):\n",
    "    fig.add_trace(go.Scatter(\n",
    "        x=group[\"petal length\"],\n",
    "        y=group[\"petal width\"],\n",
    "        mode=\"markers\",\n",
    "        name=label,\n",
    "        marker=dict(color=cmap[i], opacity=0.75),\n",
    "        legendgroup=\"trained\",\n",
    "        legendgrouptitle_text=\"Trained class\",\n",
    "    ))\n",
    "\n",
    "for i, (label, group) in enumerate(predicted_data.groupby(\"class\")):\n",
    "    fig.add_trace(go.Scatter(\n",
    "        x=group[\"petal length\"],\n",
    "        y=group[\"petal width\"],\n",
    "        mode=\"markers\",\n",
    "        marker=dict(size=12, symbol=\"star\", color=cmap[i], opacity=0.75),\n",
    "        name=label,\n",
    "        legendgroup=\"predicted\",\n",
    "        legendgrouptitle_text=\"Predicted class\",\n",
    "        hovertext=group.index,\n",
    "    ))\n",
    "\n",
    "fig.update_layout(\n",
    "    xaxis_title=\"Petal Length\",\n",
    "    yaxis_title=\"Petal Width\",\n",
    "    width=1250,\n",
    "    title=\"Trained and Predicted Values\"\n",
    ")\n",
    "fig.show()"
   ]
  },
  {
   "cell_type": "markdown",
   "metadata": {},
   "source": [
    "For categorical action features, the prediction can be further understood with the `categorical_action_probabilities` detail.  \n",
    "This shows the probability of each possible value of the target feature. This information can highlight cases that are on the\n",
    "border of two classes, like some of the above points are.  The closer a case gets to a class border, the more mixed the\n",
    "categorical action probabilities may get."
   ]
  },
  {
   "cell_type": "code",
   "execution_count": 5,
   "metadata": {},
   "outputs": [
    {
     "name": "stdout",
     "output_type": "stream",
     "text": [
      "[{'class': {'Iris-versicolor': 1}},\n",
      " {'class': {'Iris-versicolor': 0.18905255715302757,\n",
      "            'Iris-virginica': 0.8109474428469724}},\n",
      " {'class': {'Iris-virginica': 1}}, {'class': {'Iris-virginica': 1}},\n",
      " {'class': {'Iris-versicolor': 0.39467527137753533,\n",
      "            'Iris-virginica': 0.6053247286224647}},\n",
      " {'class': {'Iris-versicolor': 1}}, {'class': {'Iris-setosa': 1}},\n",
      " {'class': {'Iris-virginica': 1}},\n",
      " {'class': {'Iris-versicolor': 0.8056923228738796,\n",
      "            'Iris-virginica': 0.1943076771261205}},\n",
      " {'class': {'Iris-versicolor': 1}}, {'class': {'Iris-virginica': 1}},\n",
      " {'class': {'Iris-versicolor': 1}}, {'class': {'Iris-setosa': 1}},\n",
      " {'class': {'Iris-versicolor': 0.20118174108616763,\n",
      "            'Iris-virginica': 0.7988182589138324}},\n",
      " {'class': {'Iris-versicolor': 1}}, {'class': {'Iris-setosa': 1}},\n",
      " {'class': {'Iris-setosa': 1}},\n",
      " {'class': {'Iris-versicolor': 0.20467404978617543,\n",
      "            'Iris-virginica': 0.7953259502138246}},\n",
      " {'class': {'Iris-virginica': 1}},\n",
      " {'class': {'Iris-versicolor': 0.8031052518181203,\n",
      "            'Iris-virginica': 0.19689474818187958}},\n",
      " {'class': {'Iris-setosa': 1}}, {'class': {'Iris-versicolor': 1}},\n",
      " {'class': {'Iris-versicolor': 1}}, {'class': {'Iris-setosa': 1}},\n",
      " {'class': {'Iris-setosa': 1}}, {'class': {'Iris-virginica': 1}},\n",
      " {'class': {'Iris-virginica': 1}}, {'class': {'Iris-versicolor': 1}},\n",
      " {'class': {'Iris-virginica': 1}}, {'class': {'Iris-virginica': 1}}]\n"
     ]
    }
   ],
   "source": [
    "pprint(reaction[\"details\"][\"categorical_action_probabilities\"], compact=True)"
   ]
  },
  {
   "cell_type": "markdown",
   "metadata": {},
   "source": [
    "For example, if we look at case `4`, we see a mix of probabilities because this case is on the border of two classes."
   ]
  },
  {
   "cell_type": "code",
   "execution_count": 6,
   "metadata": {},
   "outputs": [
    {
     "data": {
      "text/plain": [
       "{'class': {'Iris-versicolor': 0.39467527137753533,\n",
       "  'Iris-virginica': 0.6053247286224647}}"
      ]
     },
     "execution_count": 6,
     "metadata": {},
     "output_type": "execute_result"
    }
   ],
   "source": [
    "reaction[\"details\"][\"categorical_action_probabilities\"][4]"
   ]
  },
  {
   "cell_type": "markdown",
   "metadata": {},
   "source": [
    "### Insight 1: Which Cases Contributed?\n",
    "\n",
    "Howso provides complete attribution for any and all predictions, showing exactly which cases influenced each prediction.  This can be used to understand or debug predictions.  For instance,\n",
    "we can inspect the influential cases for one of the cases (case `4`) that was on the decision boundary in the plot above.  We can see that there is a mix of class values and no cases stand\n",
    "out in terms of influence weight:"
   ]
  },
  {
   "cell_type": "code",
   "execution_count": 7,
   "metadata": {},
   "outputs": [
    {
     "data": {
      "text/html": [
       "<div>\n",
       "<style scoped>\n",
       "    .dataframe tbody tr th:only-of-type {\n",
       "        vertical-align: middle;\n",
       "    }\n",
       "\n",
       "    .dataframe tbody tr th {\n",
       "        vertical-align: top;\n",
       "    }\n",
       "\n",
       "    .dataframe thead th {\n",
       "        text-align: right;\n",
       "    }\n",
       "</style>\n",
       "<table border=\"1\" class=\"dataframe\">\n",
       "  <thead>\n",
       "    <tr style=\"text-align: right;\">\n",
       "      <th></th>\n",
       "      <th>sepal width</th>\n",
       "      <th>.session_training_index</th>\n",
       "      <th>petal length</th>\n",
       "      <th>petal width</th>\n",
       "      <th>.influence_weight</th>\n",
       "      <th>sepal length</th>\n",
       "      <th>.session</th>\n",
       "      <th>class</th>\n",
       "    </tr>\n",
       "  </thead>\n",
       "  <tbody>\n",
       "    <tr>\n",
       "      <th>0</th>\n",
       "      <td>2.8</td>\n",
       "      <td>99</td>\n",
       "      <td>5.1</td>\n",
       "      <td>1.5</td>\n",
       "      <td>0.213655</td>\n",
       "      <td>6.3</td>\n",
       "      <td>ff387109-df22-4c88-ac41-7daf26108348</td>\n",
       "      <td>Iris-virginica</td>\n",
       "    </tr>\n",
       "    <tr>\n",
       "      <th>1</th>\n",
       "      <td>2.5</td>\n",
       "      <td>107</td>\n",
       "      <td>4.9</td>\n",
       "      <td>1.5</td>\n",
       "      <td>0.205513</td>\n",
       "      <td>6.3</td>\n",
       "      <td>ff387109-df22-4c88-ac41-7daf26108348</td>\n",
       "      <td>Iris-versicolor</td>\n",
       "    </tr>\n",
       "    <tr>\n",
       "      <th>2</th>\n",
       "      <td>2.2</td>\n",
       "      <td>34</td>\n",
       "      <td>5.0</td>\n",
       "      <td>1.5</td>\n",
       "      <td>0.197338</td>\n",
       "      <td>6.0</td>\n",
       "      <td>ff387109-df22-4c88-ac41-7daf26108348</td>\n",
       "      <td>Iris-virginica</td>\n",
       "    </tr>\n",
       "    <tr>\n",
       "      <th>3</th>\n",
       "      <td>2.9</td>\n",
       "      <td>61</td>\n",
       "      <td>5.6</td>\n",
       "      <td>1.8</td>\n",
       "      <td>0.194332</td>\n",
       "      <td>6.3</td>\n",
       "      <td>ff387109-df22-4c88-ac41-7daf26108348</td>\n",
       "      <td>Iris-virginica</td>\n",
       "    </tr>\n",
       "    <tr>\n",
       "      <th>4</th>\n",
       "      <td>2.9</td>\n",
       "      <td>89</td>\n",
       "      <td>4.7</td>\n",
       "      <td>1.4</td>\n",
       "      <td>0.189162</td>\n",
       "      <td>6.1</td>\n",
       "      <td>ff387109-df22-4c88-ac41-7daf26108348</td>\n",
       "      <td>Iris-versicolor</td>\n",
       "    </tr>\n",
       "  </tbody>\n",
       "</table>\n",
       "</div>"
      ],
      "text/plain": [
       "   sepal width  .session_training_index  petal length  petal width  \\\n",
       "0          2.8                       99           5.1          1.5   \n",
       "1          2.5                      107           4.9          1.5   \n",
       "2          2.2                       34           5.0          1.5   \n",
       "3          2.9                       61           5.6          1.8   \n",
       "4          2.9                       89           4.7          1.4   \n",
       "\n",
       "   .influence_weight  sepal length                              .session  \\\n",
       "0           0.213655           6.3  ff387109-df22-4c88-ac41-7daf26108348   \n",
       "1           0.205513           6.3  ff387109-df22-4c88-ac41-7daf26108348   \n",
       "2           0.197338           6.0  ff387109-df22-4c88-ac41-7daf26108348   \n",
       "3           0.194332           6.3  ff387109-df22-4c88-ac41-7daf26108348   \n",
       "4           0.189162           6.1  ff387109-df22-4c88-ac41-7daf26108348   \n",
       "\n",
       "             class  \n",
       "0   Iris-virginica  \n",
       "1  Iris-versicolor  \n",
       "2   Iris-virginica  \n",
       "3   Iris-virginica  \n",
       "4  Iris-versicolor  "
      ]
     },
     "execution_count": 7,
     "metadata": {},
     "output_type": "execute_result"
    }
   ],
   "source": [
    "inf_cases_4 = pd.DataFrame(reaction[\"details\"][\"influential_cases\"][4])\n",
    "inf_cases_4"
   ]
  },
  {
   "cell_type": "markdown",
   "metadata": {},
   "source": [
    "Compare that to the influential cases for case `20`, which is firmly in the center of the solo cluster.  Here we see a single class value."
   ]
  },
  {
   "cell_type": "code",
   "execution_count": 8,
   "metadata": {},
   "outputs": [
    {
     "data": {
      "text/html": [
       "<div>\n",
       "<style scoped>\n",
       "    .dataframe tbody tr th:only-of-type {\n",
       "        vertical-align: middle;\n",
       "    }\n",
       "\n",
       "    .dataframe tbody tr th {\n",
       "        vertical-align: top;\n",
       "    }\n",
       "\n",
       "    .dataframe thead th {\n",
       "        text-align: right;\n",
       "    }\n",
       "</style>\n",
       "<table border=\"1\" class=\"dataframe\">\n",
       "  <thead>\n",
       "    <tr style=\"text-align: right;\">\n",
       "      <th></th>\n",
       "      <th>sepal width</th>\n",
       "      <th>.session_training_index</th>\n",
       "      <th>petal length</th>\n",
       "      <th>petal width</th>\n",
       "      <th>.influence_weight</th>\n",
       "      <th>sepal length</th>\n",
       "      <th>.session</th>\n",
       "      <th>class</th>\n",
       "    </tr>\n",
       "  </thead>\n",
       "  <tbody>\n",
       "    <tr>\n",
       "      <th>0</th>\n",
       "      <td>3.5</td>\n",
       "      <td>48</td>\n",
       "      <td>1.4</td>\n",
       "      <td>0.3</td>\n",
       "      <td>0.201279</td>\n",
       "      <td>5.1</td>\n",
       "      <td>ff387109-df22-4c88-ac41-7daf26108348</td>\n",
       "      <td>Iris-setosa</td>\n",
       "    </tr>\n",
       "    <tr>\n",
       "      <th>1</th>\n",
       "      <td>3.4</td>\n",
       "      <td>63</td>\n",
       "      <td>1.6</td>\n",
       "      <td>0.4</td>\n",
       "      <td>0.200774</td>\n",
       "      <td>5.0</td>\n",
       "      <td>ff387109-df22-4c88-ac41-7daf26108348</td>\n",
       "      <td>Iris-setosa</td>\n",
       "    </tr>\n",
       "    <tr>\n",
       "      <th>2</th>\n",
       "      <td>3.4</td>\n",
       "      <td>9</td>\n",
       "      <td>1.7</td>\n",
       "      <td>0.2</td>\n",
       "      <td>0.199690</td>\n",
       "      <td>5.4</td>\n",
       "      <td>ff387109-df22-4c88-ac41-7daf26108348</td>\n",
       "      <td>Iris-setosa</td>\n",
       "    </tr>\n",
       "    <tr>\n",
       "      <th>3</th>\n",
       "      <td>3.3</td>\n",
       "      <td>116</td>\n",
       "      <td>1.7</td>\n",
       "      <td>0.5</td>\n",
       "      <td>0.199320</td>\n",
       "      <td>5.1</td>\n",
       "      <td>ff387109-df22-4c88-ac41-7daf26108348</td>\n",
       "      <td>Iris-setosa</td>\n",
       "    </tr>\n",
       "    <tr>\n",
       "      <th>4</th>\n",
       "      <td>3.4</td>\n",
       "      <td>43</td>\n",
       "      <td>1.4</td>\n",
       "      <td>0.2</td>\n",
       "      <td>0.198937</td>\n",
       "      <td>5.2</td>\n",
       "      <td>ff387109-df22-4c88-ac41-7daf26108348</td>\n",
       "      <td>Iris-setosa</td>\n",
       "    </tr>\n",
       "  </tbody>\n",
       "</table>\n",
       "</div>"
      ],
      "text/plain": [
       "   sepal width  .session_training_index  petal length  petal width  \\\n",
       "0          3.5                       48           1.4          0.3   \n",
       "1          3.4                       63           1.6          0.4   \n",
       "2          3.4                        9           1.7          0.2   \n",
       "3          3.3                      116           1.7          0.5   \n",
       "4          3.4                       43           1.4          0.2   \n",
       "\n",
       "   .influence_weight  sepal length                              .session  \\\n",
       "0           0.201279           5.1  ff387109-df22-4c88-ac41-7daf26108348   \n",
       "1           0.200774           5.0  ff387109-df22-4c88-ac41-7daf26108348   \n",
       "2           0.199690           5.4  ff387109-df22-4c88-ac41-7daf26108348   \n",
       "3           0.199320           5.1  ff387109-df22-4c88-ac41-7daf26108348   \n",
       "4           0.198937           5.2  ff387109-df22-4c88-ac41-7daf26108348   \n",
       "\n",
       "         class  \n",
       "0  Iris-setosa  \n",
       "1  Iris-setosa  \n",
       "2  Iris-setosa  \n",
       "3  Iris-setosa  \n",
       "4  Iris-setosa  "
      ]
     },
     "execution_count": 8,
     "metadata": {},
     "output_type": "execute_result"
    }
   ],
   "source": [
    "inf_cases_20 = pd.DataFrame(reaction[\"details\"][\"influential_cases\"][20])\n",
    "inf_cases_20"
   ]
  },
  {
   "cell_type": "markdown",
   "metadata": {},
   "source": [
    "With the influential cases we can derive additional insights, such as identifying anomalous cases from within the influential cases using `similarity_conviction`.  \n",
    "This can help to identify data that are making predictions more noisy or identify what type of data should be collected to improve predictive power in the future."
   ]
  },
  {
   "cell_type": "code",
   "execution_count": 9,
   "metadata": {},
   "outputs": [
    {
     "data": {
      "text/html": [
       "<div>\n",
       "<style scoped>\n",
       "    .dataframe tbody tr th:only-of-type {\n",
       "        vertical-align: middle;\n",
       "    }\n",
       "\n",
       "    .dataframe tbody tr th {\n",
       "        vertical-align: top;\n",
       "    }\n",
       "\n",
       "    .dataframe thead th {\n",
       "        text-align: right;\n",
       "    }\n",
       "</style>\n",
       "<table border=\"1\" class=\"dataframe\">\n",
       "  <thead>\n",
       "    <tr style=\"text-align: right;\">\n",
       "      <th></th>\n",
       "      <th>sepal length</th>\n",
       "      <th>sepal width</th>\n",
       "      <th>petal length</th>\n",
       "      <th>petal width</th>\n",
       "      <th>class</th>\n",
       "      <th>similarity_conviction</th>\n",
       "    </tr>\n",
       "  </thead>\n",
       "  <tbody>\n",
       "    <tr>\n",
       "      <th>2</th>\n",
       "      <td>6.0</td>\n",
       "      <td>2.2</td>\n",
       "      <td>5.0</td>\n",
       "      <td>1.5</td>\n",
       "      <td>Iris-virginica</td>\n",
       "      <td>0.879342</td>\n",
       "    </tr>\n",
       "    <tr>\n",
       "      <th>1</th>\n",
       "      <td>6.3</td>\n",
       "      <td>2.5</td>\n",
       "      <td>4.9</td>\n",
       "      <td>1.5</td>\n",
       "      <td>Iris-versicolor</td>\n",
       "      <td>0.973026</td>\n",
       "    </tr>\n",
       "    <tr>\n",
       "      <th>0</th>\n",
       "      <td>6.3</td>\n",
       "      <td>2.8</td>\n",
       "      <td>5.1</td>\n",
       "      <td>1.5</td>\n",
       "      <td>Iris-virginica</td>\n",
       "      <td>0.975006</td>\n",
       "    </tr>\n",
       "    <tr>\n",
       "      <th>3</th>\n",
       "      <td>6.3</td>\n",
       "      <td>2.9</td>\n",
       "      <td>5.6</td>\n",
       "      <td>1.8</td>\n",
       "      <td>Iris-virginica</td>\n",
       "      <td>1.007449</td>\n",
       "    </tr>\n",
       "    <tr>\n",
       "      <th>4</th>\n",
       "      <td>6.1</td>\n",
       "      <td>2.9</td>\n",
       "      <td>4.7</td>\n",
       "      <td>1.4</td>\n",
       "      <td>Iris-versicolor</td>\n",
       "      <td>1.017580</td>\n",
       "    </tr>\n",
       "  </tbody>\n",
       "</table>\n",
       "</div>"
      ],
      "text/plain": [
       "   sepal length  sepal width  petal length  petal width            class  \\\n",
       "2           6.0          2.2           5.0          1.5   Iris-virginica   \n",
       "1           6.3          2.5           4.9          1.5  Iris-versicolor   \n",
       "0           6.3          2.8           5.1          1.5   Iris-virginica   \n",
       "3           6.3          2.9           5.6          1.8   Iris-virginica   \n",
       "4           6.1          2.9           4.7          1.4  Iris-versicolor   \n",
       "\n",
       "   similarity_conviction  \n",
       "2               0.879342  \n",
       "1               0.973026  \n",
       "0               0.975006  \n",
       "3               1.007449  \n",
       "4               1.017580  "
      ]
     },
     "execution_count": 9,
     "metadata": {},
     "output_type": "execute_result"
    }
   ],
   "source": [
    "inf_case_indices = inf_cases_4[[\".session\", \".session_training_index\"]].values.tolist()\n",
    "\n",
    "anom_df = t.get_cases(\n",
    "    case_indices=inf_case_indices,\n",
    "    features=[\"sepal length\", \"sepal width\", \"petal length\", \"petal width\", \"class\", \"similarity_conviction\"]\n",
    ")\n",
    "\n",
    "anom_df.sort_values(by=\"similarity_conviction\")"
   ]
  },
  {
   "cell_type": "code",
   "execution_count": 10,
   "metadata": {},
   "outputs": [
    {
     "data": {
      "text/html": [
       "<div>\n",
       "<style scoped>\n",
       "    .dataframe tbody tr th:only-of-type {\n",
       "        vertical-align: middle;\n",
       "    }\n",
       "\n",
       "    .dataframe tbody tr th {\n",
       "        vertical-align: top;\n",
       "    }\n",
       "\n",
       "    .dataframe thead th {\n",
       "        text-align: right;\n",
       "    }\n",
       "</style>\n",
       "<table border=\"1\" class=\"dataframe\">\n",
       "  <thead>\n",
       "    <tr style=\"text-align: right;\">\n",
       "      <th></th>\n",
       "      <th>sepal length</th>\n",
       "      <th>sepal width</th>\n",
       "      <th>petal length</th>\n",
       "      <th>petal width</th>\n",
       "      <th>class</th>\n",
       "      <th>similarity_conviction</th>\n",
       "    </tr>\n",
       "  </thead>\n",
       "  <tbody>\n",
       "    <tr>\n",
       "      <th>3</th>\n",
       "      <td>5.1</td>\n",
       "      <td>3.3</td>\n",
       "      <td>1.7</td>\n",
       "      <td>0.5</td>\n",
       "      <td>Iris-setosa</td>\n",
       "      <td>0.973207</td>\n",
       "    </tr>\n",
       "    <tr>\n",
       "      <th>2</th>\n",
       "      <td>5.4</td>\n",
       "      <td>3.4</td>\n",
       "      <td>1.7</td>\n",
       "      <td>0.2</td>\n",
       "      <td>Iris-setosa</td>\n",
       "      <td>0.994487</td>\n",
       "    </tr>\n",
       "    <tr>\n",
       "      <th>1</th>\n",
       "      <td>5.0</td>\n",
       "      <td>3.4</td>\n",
       "      <td>1.6</td>\n",
       "      <td>0.4</td>\n",
       "      <td>Iris-setosa</td>\n",
       "      <td>1.004521</td>\n",
       "    </tr>\n",
       "    <tr>\n",
       "      <th>0</th>\n",
       "      <td>5.1</td>\n",
       "      <td>3.5</td>\n",
       "      <td>1.4</td>\n",
       "      <td>0.3</td>\n",
       "      <td>Iris-setosa</td>\n",
       "      <td>1.016682</td>\n",
       "    </tr>\n",
       "    <tr>\n",
       "      <th>4</th>\n",
       "      <td>5.2</td>\n",
       "      <td>3.4</td>\n",
       "      <td>1.4</td>\n",
       "      <td>0.2</td>\n",
       "      <td>Iris-setosa</td>\n",
       "      <td>1.017910</td>\n",
       "    </tr>\n",
       "  </tbody>\n",
       "</table>\n",
       "</div>"
      ],
      "text/plain": [
       "   sepal length  sepal width  petal length  petal width        class  \\\n",
       "3           5.1          3.3           1.7          0.5  Iris-setosa   \n",
       "2           5.4          3.4           1.7          0.2  Iris-setosa   \n",
       "1           5.0          3.4           1.6          0.4  Iris-setosa   \n",
       "0           5.1          3.5           1.4          0.3  Iris-setosa   \n",
       "4           5.2          3.4           1.4          0.2  Iris-setosa   \n",
       "\n",
       "   similarity_conviction  \n",
       "3               0.973207  \n",
       "2               0.994487  \n",
       "1               1.004521  \n",
       "0               1.016682  \n",
       "4               1.017910  "
      ]
     },
     "execution_count": 10,
     "metadata": {},
     "output_type": "execute_result"
    }
   ],
   "source": [
    "inf_case_indices = inf_cases_20[[\".session\", \".session_training_index\"]].values.tolist()\n",
    "\n",
    "anom_df = t.get_cases(\n",
    "    case_indices=inf_case_indices,\n",
    "    features=[\"sepal length\", \"sepal width\", \"petal length\", \"petal width\", \"class\", \"similarity_conviction\"],\n",
    ")\n",
    "\n",
    "anom_df.sort_values(by=\"similarity_conviction\")"
   ]
  },
  {
   "cell_type": "markdown",
   "metadata": {},
   "source": [
    "### Insight 2: Which Features Contributed?\n",
    "\n",
    "In addition to providing attribution to cases, Howso also provides robust feature contributions to explain which features contributed to each prediction.\n",
    "When inspecting the feature importances for case `13`,  we see that `petal width` and `petal length` provided the majority of the contribution to the \n",
    "prediction, whereas for case `20` `petal width` and `petal length` only have slightly higher contributions than the other features.  This could indicate \n",
    "that different features are more important for predicting different classes within this dataset and that focusing on those features would be prudent.\n",
    "\n",
    "Identifying that certain cases that influenced a prediction are anomalous can help to explain low predictive power in certain parts of the data or other\n",
    "issues that may appear during deployment."
   ]
  },
  {
   "cell_type": "code",
   "execution_count": 11,
   "metadata": {},
   "outputs": [
    {
     "data": {
      "text/html": [
       "<div>\n",
       "<style scoped>\n",
       "    .dataframe tbody tr th:only-of-type {\n",
       "        vertical-align: middle;\n",
       "    }\n",
       "\n",
       "    .dataframe tbody tr th {\n",
       "        vertical-align: top;\n",
       "    }\n",
       "\n",
       "    .dataframe thead th {\n",
       "        text-align: right;\n",
       "    }\n",
       "</style>\n",
       "<table border=\"1\" class=\"dataframe\">\n",
       "  <thead>\n",
       "    <tr style=\"text-align: right;\">\n",
       "      <th></th>\n",
       "      <th>sepal width</th>\n",
       "      <th>petal length</th>\n",
       "      <th>petal width</th>\n",
       "      <th>sepal length</th>\n",
       "    </tr>\n",
       "  </thead>\n",
       "  <tbody>\n",
       "    <tr>\n",
       "      <th>13</th>\n",
       "      <td>0.079042</td>\n",
       "      <td>0.195514</td>\n",
       "      <td>0.419412</td>\n",
       "      <td>0.084437</td>\n",
       "    </tr>\n",
       "  </tbody>\n",
       "</table>\n",
       "</div>"
      ],
      "text/plain": [
       "    sepal width  petal length  petal width  sepal length\n",
       "13     0.079042      0.195514     0.419412      0.084437"
      ]
     },
     "metadata": {},
     "output_type": "display_data"
    },
    {
     "data": {
      "text/html": [
       "<div>\n",
       "<style scoped>\n",
       "    .dataframe tbody tr th:only-of-type {\n",
       "        vertical-align: middle;\n",
       "    }\n",
       "\n",
       "    .dataframe tbody tr th {\n",
       "        vertical-align: top;\n",
       "    }\n",
       "\n",
       "    .dataframe thead th {\n",
       "        text-align: right;\n",
       "    }\n",
       "</style>\n",
       "<table border=\"1\" class=\"dataframe\">\n",
       "  <thead>\n",
       "    <tr style=\"text-align: right;\">\n",
       "      <th></th>\n",
       "      <th>sepal width</th>\n",
       "      <th>petal length</th>\n",
       "      <th>petal width</th>\n",
       "      <th>sepal length</th>\n",
       "    </tr>\n",
       "  </thead>\n",
       "  <tbody>\n",
       "    <tr>\n",
       "      <th>20</th>\n",
       "      <td>0.121058</td>\n",
       "      <td>0.183682</td>\n",
       "      <td>0.189012</td>\n",
       "      <td>0.143866</td>\n",
       "    </tr>\n",
       "  </tbody>\n",
       "</table>\n",
       "</div>"
      ],
      "text/plain": [
       "    sepal width  petal length  petal width  sepal length\n",
       "20     0.121058      0.183682     0.189012      0.143866"
      ]
     },
     "metadata": {},
     "output_type": "display_data"
    }
   ],
   "source": [
    "fcs_13 = pd.DataFrame(reaction[\"details\"][\"feature_contributions\"][13:14], index=[13])\n",
    "fcs_20 = pd.DataFrame(reaction[\"details\"][\"feature_contributions\"][20:21], index=[20])\n",
    "\n",
    "display(fcs_13)\n",
    "display(fcs_20)"
   ]
  },
  {
   "cell_type": "markdown",
   "metadata": {},
   "source": [
    "### Insight 3: How Certain is the Prediction?"
   ]
  },
  {
   "cell_type": "markdown",
   "metadata": {},
   "source": [
    "[Residuals](https://docs.howso.com/user_guide/basic_capabilities/residuals.html) can characterize the uncertainty of the data around the prediction.  This will tell us which features are hard to predict in the region of the data around each case we're predicting.\n",
    "If a prediction is less accurate than expected, this can explain which features were noisy and may have contributed to the problem."
   ]
  },
  {
   "cell_type": "code",
   "execution_count": 12,
   "metadata": {},
   "outputs": [
    {
     "data": {
      "text/html": [
       "<div>\n",
       "<style scoped>\n",
       "    .dataframe tbody tr th:only-of-type {\n",
       "        vertical-align: middle;\n",
       "    }\n",
       "\n",
       "    .dataframe tbody tr th {\n",
       "        vertical-align: top;\n",
       "    }\n",
       "\n",
       "    .dataframe thead th {\n",
       "        text-align: right;\n",
       "    }\n",
       "</style>\n",
       "<table border=\"1\" class=\"dataframe\">\n",
       "  <thead>\n",
       "    <tr style=\"text-align: right;\">\n",
       "      <th></th>\n",
       "      <th>sepal width</th>\n",
       "      <th>petal length</th>\n",
       "      <th>petal width</th>\n",
       "      <th>sepal length</th>\n",
       "      <th>class</th>\n",
       "    </tr>\n",
       "  </thead>\n",
       "  <tbody>\n",
       "    <tr>\n",
       "      <th>0</th>\n",
       "      <td>0.213341</td>\n",
       "      <td>0.454186</td>\n",
       "      <td>0.204130</td>\n",
       "      <td>0.475645</td>\n",
       "      <td>0.351789</td>\n",
       "    </tr>\n",
       "    <tr>\n",
       "      <th>1</th>\n",
       "      <td>0.234754</td>\n",
       "      <td>0.316981</td>\n",
       "      <td>0.167296</td>\n",
       "      <td>0.241495</td>\n",
       "      <td>0.290979</td>\n",
       "    </tr>\n",
       "    <tr>\n",
       "      <th>2</th>\n",
       "      <td>0.059831</td>\n",
       "      <td>0.564382</td>\n",
       "      <td>0.250722</td>\n",
       "      <td>0.370931</td>\n",
       "      <td>0.333809</td>\n",
       "    </tr>\n",
       "    <tr>\n",
       "      <th>3</th>\n",
       "      <td>0.269335</td>\n",
       "      <td>0.292286</td>\n",
       "      <td>0.167771</td>\n",
       "      <td>0.222342</td>\n",
       "      <td>0.267428</td>\n",
       "    </tr>\n",
       "    <tr>\n",
       "      <th>4</th>\n",
       "      <td>0.157917</td>\n",
       "      <td>0.343299</td>\n",
       "      <td>0.214646</td>\n",
       "      <td>0.280330</td>\n",
       "      <td>0.256317</td>\n",
       "    </tr>\n",
       "    <tr>\n",
       "      <th>5</th>\n",
       "      <td>0.113950</td>\n",
       "      <td>0.138793</td>\n",
       "      <td>0.125395</td>\n",
       "      <td>0.458459</td>\n",
       "      <td>0.159672</td>\n",
       "    </tr>\n",
       "    <tr>\n",
       "      <th>6</th>\n",
       "      <td>0.177571</td>\n",
       "      <td>1.478290</td>\n",
       "      <td>0.550890</td>\n",
       "      <td>0.717479</td>\n",
       "      <td>0.253472</td>\n",
       "    </tr>\n",
       "    <tr>\n",
       "      <th>7</th>\n",
       "      <td>0.172538</td>\n",
       "      <td>0.317616</td>\n",
       "      <td>0.198354</td>\n",
       "      <td>0.304765</td>\n",
       "      <td>0.177819</td>\n",
       "    </tr>\n",
       "    <tr>\n",
       "      <th>8</th>\n",
       "      <td>0.290945</td>\n",
       "      <td>0.475141</td>\n",
       "      <td>0.154640</td>\n",
       "      <td>0.345465</td>\n",
       "      <td>0.255485</td>\n",
       "    </tr>\n",
       "    <tr>\n",
       "      <th>9</th>\n",
       "      <td>0.247320</td>\n",
       "      <td>0.324430</td>\n",
       "      <td>0.175283</td>\n",
       "      <td>0.259364</td>\n",
       "      <td>0.100000</td>\n",
       "    </tr>\n",
       "    <tr>\n",
       "      <th>10</th>\n",
       "      <td>0.214722</td>\n",
       "      <td>0.588319</td>\n",
       "      <td>0.296345</td>\n",
       "      <td>0.412686</td>\n",
       "      <td>0.483385</td>\n",
       "    </tr>\n",
       "    <tr>\n",
       "      <th>11</th>\n",
       "      <td>0.178113</td>\n",
       "      <td>0.434537</td>\n",
       "      <td>0.134421</td>\n",
       "      <td>0.322448</td>\n",
       "      <td>0.210797</td>\n",
       "    </tr>\n",
       "    <tr>\n",
       "      <th>12</th>\n",
       "      <td>0.223642</td>\n",
       "      <td>0.640970</td>\n",
       "      <td>0.215667</td>\n",
       "      <td>0.388608</td>\n",
       "      <td>0.142593</td>\n",
       "    </tr>\n",
       "    <tr>\n",
       "      <th>13</th>\n",
       "      <td>0.223737</td>\n",
       "      <td>0.336536</td>\n",
       "      <td>0.185875</td>\n",
       "      <td>0.308713</td>\n",
       "      <td>0.406872</td>\n",
       "    </tr>\n",
       "    <tr>\n",
       "      <th>14</th>\n",
       "      <td>0.104071</td>\n",
       "      <td>0.141735</td>\n",
       "      <td>0.040179</td>\n",
       "      <td>0.275995</td>\n",
       "      <td>0.078854</td>\n",
       "    </tr>\n",
       "    <tr>\n",
       "      <th>15</th>\n",
       "      <td>0.333695</td>\n",
       "      <td>0.107415</td>\n",
       "      <td>0.055732</td>\n",
       "      <td>0.299962</td>\n",
       "      <td>0.008264</td>\n",
       "    </tr>\n",
       "    <tr>\n",
       "      <th>16</th>\n",
       "      <td>0.223486</td>\n",
       "      <td>0.260300</td>\n",
       "      <td>0.192820</td>\n",
       "      <td>0.365574</td>\n",
       "      <td>0.054648</td>\n",
       "    </tr>\n",
       "    <tr>\n",
       "      <th>17</th>\n",
       "      <td>0.178280</td>\n",
       "      <td>0.327415</td>\n",
       "      <td>0.281162</td>\n",
       "      <td>0.316936</td>\n",
       "      <td>0.107257</td>\n",
       "    </tr>\n",
       "    <tr>\n",
       "      <th>18</th>\n",
       "      <td>0.171439</td>\n",
       "      <td>0.167476</td>\n",
       "      <td>0.191504</td>\n",
       "      <td>0.255916</td>\n",
       "      <td>0.267176</td>\n",
       "    </tr>\n",
       "    <tr>\n",
       "      <th>19</th>\n",
       "      <td>0.223834</td>\n",
       "      <td>0.540173</td>\n",
       "      <td>0.283316</td>\n",
       "      <td>0.367356</td>\n",
       "      <td>0.281896</td>\n",
       "    </tr>\n",
       "    <tr>\n",
       "      <th>20</th>\n",
       "      <td>0.142036</td>\n",
       "      <td>0.171493</td>\n",
       "      <td>0.118363</td>\n",
       "      <td>0.256884</td>\n",
       "      <td>0.029056</td>\n",
       "    </tr>\n",
       "    <tr>\n",
       "      <th>21</th>\n",
       "      <td>0.162472</td>\n",
       "      <td>0.321882</td>\n",
       "      <td>0.109042</td>\n",
       "      <td>0.252693</td>\n",
       "      <td>0.151101</td>\n",
       "    </tr>\n",
       "    <tr>\n",
       "      <th>22</th>\n",
       "      <td>0.123673</td>\n",
       "      <td>0.272021</td>\n",
       "      <td>0.180048</td>\n",
       "      <td>0.208810</td>\n",
       "      <td>0.008264</td>\n",
       "    </tr>\n",
       "    <tr>\n",
       "      <th>23</th>\n",
       "      <td>0.153065</td>\n",
       "      <td>0.272613</td>\n",
       "      <td>0.144539</td>\n",
       "      <td>0.258152</td>\n",
       "      <td>0.058333</td>\n",
       "    </tr>\n",
       "    <tr>\n",
       "      <th>24</th>\n",
       "      <td>0.242324</td>\n",
       "      <td>0.331971</td>\n",
       "      <td>0.271669</td>\n",
       "      <td>0.312883</td>\n",
       "      <td>0.076515</td>\n",
       "    </tr>\n",
       "    <tr>\n",
       "      <th>25</th>\n",
       "      <td>0.218195</td>\n",
       "      <td>0.285268</td>\n",
       "      <td>0.165624</td>\n",
       "      <td>0.382432</td>\n",
       "      <td>0.280947</td>\n",
       "    </tr>\n",
       "    <tr>\n",
       "      <th>26</th>\n",
       "      <td>0.166585</td>\n",
       "      <td>0.354754</td>\n",
       "      <td>0.233533</td>\n",
       "      <td>0.247099</td>\n",
       "      <td>0.054044</td>\n",
       "    </tr>\n",
       "    <tr>\n",
       "      <th>27</th>\n",
       "      <td>0.197594</td>\n",
       "      <td>0.334336</td>\n",
       "      <td>0.091770</td>\n",
       "      <td>0.435898</td>\n",
       "      <td>0.310035</td>\n",
       "    </tr>\n",
       "    <tr>\n",
       "      <th>28</th>\n",
       "      <td>0.125233</td>\n",
       "      <td>0.544084</td>\n",
       "      <td>0.277340</td>\n",
       "      <td>0.521111</td>\n",
       "      <td>0.276593</td>\n",
       "    </tr>\n",
       "    <tr>\n",
       "      <th>29</th>\n",
       "      <td>0.195946</td>\n",
       "      <td>0.552169</td>\n",
       "      <td>0.270441</td>\n",
       "      <td>0.437280</td>\n",
       "      <td>0.141021</td>\n",
       "    </tr>\n",
       "  </tbody>\n",
       "</table>\n",
       "</div>"
      ],
      "text/plain": [
       "    sepal width  petal length  petal width  sepal length     class\n",
       "0      0.213341      0.454186     0.204130      0.475645  0.351789\n",
       "1      0.234754      0.316981     0.167296      0.241495  0.290979\n",
       "2      0.059831      0.564382     0.250722      0.370931  0.333809\n",
       "3      0.269335      0.292286     0.167771      0.222342  0.267428\n",
       "4      0.157917      0.343299     0.214646      0.280330  0.256317\n",
       "5      0.113950      0.138793     0.125395      0.458459  0.159672\n",
       "6      0.177571      1.478290     0.550890      0.717479  0.253472\n",
       "7      0.172538      0.317616     0.198354      0.304765  0.177819\n",
       "8      0.290945      0.475141     0.154640      0.345465  0.255485\n",
       "9      0.247320      0.324430     0.175283      0.259364  0.100000\n",
       "10     0.214722      0.588319     0.296345      0.412686  0.483385\n",
       "11     0.178113      0.434537     0.134421      0.322448  0.210797\n",
       "12     0.223642      0.640970     0.215667      0.388608  0.142593\n",
       "13     0.223737      0.336536     0.185875      0.308713  0.406872\n",
       "14     0.104071      0.141735     0.040179      0.275995  0.078854\n",
       "15     0.333695      0.107415     0.055732      0.299962  0.008264\n",
       "16     0.223486      0.260300     0.192820      0.365574  0.054648\n",
       "17     0.178280      0.327415     0.281162      0.316936  0.107257\n",
       "18     0.171439      0.167476     0.191504      0.255916  0.267176\n",
       "19     0.223834      0.540173     0.283316      0.367356  0.281896\n",
       "20     0.142036      0.171493     0.118363      0.256884  0.029056\n",
       "21     0.162472      0.321882     0.109042      0.252693  0.151101\n",
       "22     0.123673      0.272021     0.180048      0.208810  0.008264\n",
       "23     0.153065      0.272613     0.144539      0.258152  0.058333\n",
       "24     0.242324      0.331971     0.271669      0.312883  0.076515\n",
       "25     0.218195      0.285268     0.165624      0.382432  0.280947\n",
       "26     0.166585      0.354754     0.233533      0.247099  0.054044\n",
       "27     0.197594      0.334336     0.091770      0.435898  0.310035\n",
       "28     0.125233      0.544084     0.277340      0.521111  0.276593\n",
       "29     0.195946      0.552169     0.270441      0.437280  0.141021"
      ]
     },
     "execution_count": 12,
     "metadata": {},
     "output_type": "execute_result"
    }
   ],
   "source": [
    "pd.DataFrame(reaction[\"details\"][\"feature_residuals\"])"
   ]
  },
  {
   "cell_type": "markdown",
   "metadata": {},
   "source": [
    "We can also use [`residual conviction`](https://docs.howso.com/user_guide/basic_capabilities/conviction.html#prediction-residual-conviction) to determine which features\n",
    "are uncertain in a scale-invariant manner, which can be useful if you wish to compare different features of different scales against each other.  Higher residual conviction\n",
    "indicates something that is less surprising than expected and lower redsidual conviction indicates the opposite."
   ]
  },
  {
   "cell_type": "code",
   "execution_count": 13,
   "metadata": {},
   "outputs": [
    {
     "data": {
      "text/html": [
       "<div>\n",
       "<style scoped>\n",
       "    .dataframe tbody tr th:only-of-type {\n",
       "        vertical-align: middle;\n",
       "    }\n",
       "\n",
       "    .dataframe tbody tr th {\n",
       "        vertical-align: top;\n",
       "    }\n",
       "\n",
       "    .dataframe thead th {\n",
       "        text-align: right;\n",
       "    }\n",
       "</style>\n",
       "<table border=\"1\" class=\"dataframe\">\n",
       "  <thead>\n",
       "    <tr style=\"text-align: right;\">\n",
       "      <th></th>\n",
       "      <th>sepal width</th>\n",
       "      <th>petal length</th>\n",
       "      <th>petal width</th>\n",
       "      <th>sepal length</th>\n",
       "      <th>class</th>\n",
       "    </tr>\n",
       "  </thead>\n",
       "  <tbody>\n",
       "    <tr>\n",
       "      <th>0</th>\n",
       "      <td>1.757405</td>\n",
       "      <td>0.791718</td>\n",
       "      <td>0.740819</td>\n",
       "      <td>0.767820</td>\n",
       "      <td>1.676937</td>\n",
       "    </tr>\n",
       "    <tr>\n",
       "      <th>1</th>\n",
       "      <td>0.467282</td>\n",
       "      <td>1.016373</td>\n",
       "      <td>0.757844</td>\n",
       "      <td>1.052846</td>\n",
       "      <td>0.907631</td>\n",
       "    </tr>\n",
       "    <tr>\n",
       "      <th>2</th>\n",
       "      <td>5.001652</td>\n",
       "      <td>1.151222</td>\n",
       "      <td>0.466650</td>\n",
       "      <td>0.861155</td>\n",
       "      <td>0.351285</td>\n",
       "    </tr>\n",
       "    <tr>\n",
       "      <th>3</th>\n",
       "      <td>0.496611</td>\n",
       "      <td>0.840158</td>\n",
       "      <td>0.915799</td>\n",
       "      <td>0.880870</td>\n",
       "      <td>0.765000</td>\n",
       "    </tr>\n",
       "    <tr>\n",
       "      <th>4</th>\n",
       "      <td>0.565830</td>\n",
       "      <td>0.594974</td>\n",
       "      <td>0.440434</td>\n",
       "      <td>0.995502</td>\n",
       "      <td>0.298578</td>\n",
       "    </tr>\n",
       "    <tr>\n",
       "      <th>5</th>\n",
       "      <td>0.824828</td>\n",
       "      <td>2.179642</td>\n",
       "      <td>3.335412</td>\n",
       "      <td>1.191549</td>\n",
       "      <td>2.662438</td>\n",
       "    </tr>\n",
       "    <tr>\n",
       "      <th>6</th>\n",
       "      <td>0.686215</td>\n",
       "      <td>0.613692</td>\n",
       "      <td>1.737639</td>\n",
       "      <td>0.669593</td>\n",
       "      <td>1.309871</td>\n",
       "    </tr>\n",
       "    <tr>\n",
       "      <th>7</th>\n",
       "      <td>0.466555</td>\n",
       "      <td>1.434782</td>\n",
       "      <td>1.861849</td>\n",
       "      <td>0.979907</td>\n",
       "      <td>0.544921</td>\n",
       "    </tr>\n",
       "    <tr>\n",
       "      <th>8</th>\n",
       "      <td>0.476153</td>\n",
       "      <td>1.375950</td>\n",
       "      <td>1.065456</td>\n",
       "      <td>0.684694</td>\n",
       "      <td>0.950221</td>\n",
       "    </tr>\n",
       "    <tr>\n",
       "      <th>9</th>\n",
       "      <td>0.499042</td>\n",
       "      <td>2.277693</td>\n",
       "      <td>0.995399</td>\n",
       "      <td>1.581366</td>\n",
       "      <td>1.128279</td>\n",
       "    </tr>\n",
       "    <tr>\n",
       "      <th>10</th>\n",
       "      <td>1.450124</td>\n",
       "      <td>1.155617</td>\n",
       "      <td>1.867831</td>\n",
       "      <td>1.164271</td>\n",
       "      <td>1.608797</td>\n",
       "    </tr>\n",
       "    <tr>\n",
       "      <th>11</th>\n",
       "      <td>1.090393</td>\n",
       "      <td>0.907571</td>\n",
       "      <td>0.573807</td>\n",
       "      <td>0.487446</td>\n",
       "      <td>1.021916</td>\n",
       "    </tr>\n",
       "    <tr>\n",
       "      <th>12</th>\n",
       "      <td>1.249894</td>\n",
       "      <td>1.946885</td>\n",
       "      <td>0.833100</td>\n",
       "      <td>2.050554</td>\n",
       "      <td>0.124075</td>\n",
       "    </tr>\n",
       "    <tr>\n",
       "      <th>13</th>\n",
       "      <td>2.475820</td>\n",
       "      <td>1.359279</td>\n",
       "      <td>1.131199</td>\n",
       "      <td>1.235501</td>\n",
       "      <td>0.673705</td>\n",
       "    </tr>\n",
       "    <tr>\n",
       "      <th>14</th>\n",
       "      <td>1.431855</td>\n",
       "      <td>1.025735</td>\n",
       "      <td>0.695743</td>\n",
       "      <td>1.822713</td>\n",
       "      <td>0.323227</td>\n",
       "    </tr>\n",
       "    <tr>\n",
       "      <th>15</th>\n",
       "      <td>0.973940</td>\n",
       "      <td>0.576364</td>\n",
       "      <td>1.435489</td>\n",
       "      <td>0.646311</td>\n",
       "      <td>0.578704</td>\n",
       "    </tr>\n",
       "    <tr>\n",
       "      <th>16</th>\n",
       "      <td>0.954978</td>\n",
       "      <td>0.953698</td>\n",
       "      <td>0.880230</td>\n",
       "      <td>0.479181</td>\n",
       "      <td>0.469008</td>\n",
       "    </tr>\n",
       "    <tr>\n",
       "      <th>17</th>\n",
       "      <td>1.503852</td>\n",
       "      <td>0.978286</td>\n",
       "      <td>1.690780</td>\n",
       "      <td>1.027779</td>\n",
       "      <td>0.624035</td>\n",
       "    </tr>\n",
       "    <tr>\n",
       "      <th>18</th>\n",
       "      <td>0.287269</td>\n",
       "      <td>0.688884</td>\n",
       "      <td>0.975225</td>\n",
       "      <td>1.552898</td>\n",
       "      <td>0.677964</td>\n",
       "    </tr>\n",
       "    <tr>\n",
       "      <th>19</th>\n",
       "      <td>0.643497</td>\n",
       "      <td>0.370908</td>\n",
       "      <td>0.249680</td>\n",
       "      <td>0.381834</td>\n",
       "      <td>1.241250</td>\n",
       "    </tr>\n",
       "    <tr>\n",
       "      <th>20</th>\n",
       "      <td>0.731230</td>\n",
       "      <td>3.170679</td>\n",
       "      <td>0.526480</td>\n",
       "      <td>0.745709</td>\n",
       "      <td>0.276742</td>\n",
       "    </tr>\n",
       "    <tr>\n",
       "      <th>21</th>\n",
       "      <td>0.655519</td>\n",
       "      <td>1.047560</td>\n",
       "      <td>4.453193</td>\n",
       "      <td>1.700627</td>\n",
       "      <td>0.257718</td>\n",
       "    </tr>\n",
       "    <tr>\n",
       "      <th>22</th>\n",
       "      <td>0.372132</td>\n",
       "      <td>1.139989</td>\n",
       "      <td>0.424953</td>\n",
       "      <td>0.927447</td>\n",
       "      <td>0.188351</td>\n",
       "    </tr>\n",
       "    <tr>\n",
       "      <th>23</th>\n",
       "      <td>1.673079</td>\n",
       "      <td>0.845136</td>\n",
       "      <td>0.790713</td>\n",
       "      <td>0.926305</td>\n",
       "      <td>1.175913</td>\n",
       "    </tr>\n",
       "    <tr>\n",
       "      <th>24</th>\n",
       "      <td>2.095930</td>\n",
       "      <td>0.806326</td>\n",
       "      <td>1.411124</td>\n",
       "      <td>1.023253</td>\n",
       "      <td>0.763889</td>\n",
       "    </tr>\n",
       "    <tr>\n",
       "      <th>25</th>\n",
       "      <td>1.497801</td>\n",
       "      <td>0.666015</td>\n",
       "      <td>1.178387</td>\n",
       "      <td>2.187178</td>\n",
       "      <td>0.631014</td>\n",
       "    </tr>\n",
       "    <tr>\n",
       "      <th>26</th>\n",
       "      <td>0.579984</td>\n",
       "      <td>1.458945</td>\n",
       "      <td>1.172726</td>\n",
       "      <td>1.514652</td>\n",
       "      <td>1.541888</td>\n",
       "    </tr>\n",
       "    <tr>\n",
       "      <th>27</th>\n",
       "      <td>4.583176</td>\n",
       "      <td>1.996451</td>\n",
       "      <td>0.768940</td>\n",
       "      <td>2.748801</td>\n",
       "      <td>0.987936</td>\n",
       "    </tr>\n",
       "    <tr>\n",
       "      <th>28</th>\n",
       "      <td>1.362960</td>\n",
       "      <td>1.324975</td>\n",
       "      <td>1.147531</td>\n",
       "      <td>0.762709</td>\n",
       "      <td>1.340417</td>\n",
       "    </tr>\n",
       "    <tr>\n",
       "      <th>29</th>\n",
       "      <td>0.954395</td>\n",
       "      <td>0.923723</td>\n",
       "      <td>1.546535</td>\n",
       "      <td>0.429061</td>\n",
       "      <td>1.743056</td>\n",
       "    </tr>\n",
       "  </tbody>\n",
       "</table>\n",
       "</div>"
      ],
      "text/plain": [
       "    sepal width  petal length  petal width  sepal length     class\n",
       "0      1.757405      0.791718     0.740819      0.767820  1.676937\n",
       "1      0.467282      1.016373     0.757844      1.052846  0.907631\n",
       "2      5.001652      1.151222     0.466650      0.861155  0.351285\n",
       "3      0.496611      0.840158     0.915799      0.880870  0.765000\n",
       "4      0.565830      0.594974     0.440434      0.995502  0.298578\n",
       "5      0.824828      2.179642     3.335412      1.191549  2.662438\n",
       "6      0.686215      0.613692     1.737639      0.669593  1.309871\n",
       "7      0.466555      1.434782     1.861849      0.979907  0.544921\n",
       "8      0.476153      1.375950     1.065456      0.684694  0.950221\n",
       "9      0.499042      2.277693     0.995399      1.581366  1.128279\n",
       "10     1.450124      1.155617     1.867831      1.164271  1.608797\n",
       "11     1.090393      0.907571     0.573807      0.487446  1.021916\n",
       "12     1.249894      1.946885     0.833100      2.050554  0.124075\n",
       "13     2.475820      1.359279     1.131199      1.235501  0.673705\n",
       "14     1.431855      1.025735     0.695743      1.822713  0.323227\n",
       "15     0.973940      0.576364     1.435489      0.646311  0.578704\n",
       "16     0.954978      0.953698     0.880230      0.479181  0.469008\n",
       "17     1.503852      0.978286     1.690780      1.027779  0.624035\n",
       "18     0.287269      0.688884     0.975225      1.552898  0.677964\n",
       "19     0.643497      0.370908     0.249680      0.381834  1.241250\n",
       "20     0.731230      3.170679     0.526480      0.745709  0.276742\n",
       "21     0.655519      1.047560     4.453193      1.700627  0.257718\n",
       "22     0.372132      1.139989     0.424953      0.927447  0.188351\n",
       "23     1.673079      0.845136     0.790713      0.926305  1.175913\n",
       "24     2.095930      0.806326     1.411124      1.023253  0.763889\n",
       "25     1.497801      0.666015     1.178387      2.187178  0.631014\n",
       "26     0.579984      1.458945     1.172726      1.514652  1.541888\n",
       "27     4.583176      1.996451     0.768940      2.748801  0.987936\n",
       "28     1.362960      1.324975     1.147531      0.762709  1.340417\n",
       "29     0.954395      0.923723     1.546535      0.429061  1.743056"
      ]
     },
     "execution_count": 13,
     "metadata": {},
     "output_type": "execute_result"
    }
   ],
   "source": [
    "pd.DataFrame(reaction[\"details\"][\"local_case_feature_residual_convictions\"])"
   ]
  },
  {
   "cell_type": "markdown",
   "metadata": {},
   "source": [
    "### Insight 4: How Anomalous are the Predicted Cases?\n",
    "\n",
    "By getting the [`similarity conviction`](https://docs.howso.com/user_guide/basic_capabilities/conviction.html#similarity-conviction) of the cases that we predict, \n",
    "we can determine which of them are anomalous relative to the trained data. This could help to highlight cases that are unusually difficult or easy to predict, such as can be the case\n",
    "when model drift occurs as a form of model monitoring."
   ]
  },
  {
   "cell_type": "code",
   "execution_count": 14,
   "metadata": {},
   "outputs": [
    {
     "name": "stdout",
     "output_type": "stream",
     "text": [
      "[1.260888948379563, 1.2270378847785401, 1.2288560316321502, 1.2006045338440114,\n",
      " 1.1159803673108029, 1.255407396300345, 1.2458837947677048, 1.2190831470412962,\n",
      " 1.1400027738550151, 1.2225250365058915, 1.275033894962074, 1.2005403924411866,\n",
      " 1.2492526384626443, 1.2488527031434467, 1.2201968569595487, 1.2320085465083763,\n",
      " 1.216302532333635, 1.26740555797108, 1.1470413028232644, 1.0113368799719389,\n",
      " 1.206482924667829, 1.2543533931428588, 1.149024596330311, 1.2350756498903146,\n",
      " 1.240831907398804, 1.271870086241497, 1.2424703407841664, 1.2416573112135683,\n",
      " 1.1934821669961284, 1.2214339785351966]\n"
     ]
    }
   ],
   "source": [
    "pprint(reaction[\"details\"][\"similarity_conviction\"], compact=True)"
   ]
  },
  {
   "cell_type": "markdown",
   "metadata": {},
   "source": [
    "In this case, there are no cases with a low similarity_conviction which indicates that there are no cases that we reacted to which are particularly\n",
    "anomalous."
   ]
  }
 ],
 "metadata": {
  "kernelspec": {
   "display_name": "engine-recipes-3.9",
   "language": "python",
   "name": "python3"
  },
  "language_info": {
   "codemirror_mode": {
    "name": "ipython",
    "version": 3
   },
   "file_extension": ".py",
   "mimetype": "text/x-python",
   "name": "python",
   "nbconvert_exporter": "python",
   "pygments_lexer": "ipython3",
   "version": "3.9.19"
  }
 },
 "nbformat": 4,
 "nbformat_minor": 2
}
