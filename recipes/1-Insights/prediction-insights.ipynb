{
 "cells": [
  {
   "cell_type": "markdown",
   "metadata": {},
   "source": [
    "# Prediction Insights"
   ]
  },
  {
   "cell_type": "markdown",
   "metadata": {},
   "source": [
    "## Overview\n",
    "\n",
    "Howso Engine enables powerful predictions with complete attribution and detailed explanations to make learning from\n",
    "and debugging your data and predictions as easy as possible. For more information on predictions with Howso Engine,\n",
    "check out the [predictions user guide](https://docs.howso.com/user_guide/basic_capabilities/predictions.html)."
   ]
  },
  {
   "cell_type": "code",
   "execution_count": 1,
   "metadata": {
    "execution": {
     "iopub.execute_input": "2024-05-30T18:23:24.134600Z",
     "iopub.status.busy": "2024-05-30T18:23:24.134367Z",
     "iopub.status.idle": "2024-05-30T18:23:24.594575Z",
     "shell.execute_reply": "2024-05-30T18:23:24.593987Z"
    }
   },
   "outputs": [],
   "source": [
    "from pprint import pprint\n",
    "\n",
    "import pandas as pd\n",
    "import plotly.graph_objects as go\n",
    "import plotly.express as px\n",
    "\n",
    "from howso.engine import Trainee\n",
    "from howso.utilities import infer_feature_attributes"
   ]
  },
  {
   "cell_type": "markdown",
   "metadata": {},
   "source": [
    "## Setup\n",
    "\n",
    "This recipe will focus on the insights gained from predictions. Specifically, insights from:\n",
    "\n",
    "- Influential Cases,\n",
    "- Feature Contributions,\n",
    "- Residual and Similarity Conviction,\n",
    "- and Categorical Action Probabilities.\n",
    "\n",
    "The [basic workflow guide](https://docs.howso.com/user_guide/basic_capabilities/basic_workflow.html) covers creating a Trainee and performing a basic react in detail.\n",
    "\n",
    "### Load Data and Create Trainee"
   ]
  },
  {
   "cell_type": "code",
   "execution_count": 2,
   "metadata": {
    "execution": {
     "iopub.execute_input": "2024-05-30T18:23:24.597800Z",
     "iopub.status.busy": "2024-05-30T18:23:24.597515Z",
     "iopub.status.idle": "2024-05-30T18:23:24.804120Z",
     "shell.execute_reply": "2024-05-30T18:23:24.803527Z"
    }
   },
   "outputs": [
    {
     "name": "stderr",
     "output_type": "stream",
     "text": [
      "Version 24.1.0 of Howso Engine™ is available. You are using version 23.1.1.dev2+gaa28aac.d20240625.\n",
      "The following parameters from configuration file will override the Amalgam parameters set in the code: {'library_path', 'trace'}\n"
     ]
    },
    {
     "data": {
      "text/html": [
       "<div>\n",
       "<style scoped>\n",
       "    .dataframe tbody tr th:only-of-type {\n",
       "        vertical-align: middle;\n",
       "    }\n",
       "\n",
       "    .dataframe tbody tr th {\n",
       "        vertical-align: top;\n",
       "    }\n",
       "\n",
       "    .dataframe thead th {\n",
       "        text-align: right;\n",
       "    }\n",
       "</style>\n",
       "<table border=\"1\" class=\"dataframe\">\n",
       "  <thead>\n",
       "    <tr style=\"text-align: right;\">\n",
       "      <th></th>\n",
       "      <th>Unnamed: 0</th>\n",
       "      <th>sepal length</th>\n",
       "      <th>sepal width</th>\n",
       "      <th>petal length</th>\n",
       "      <th>petal width</th>\n",
       "      <th>class</th>\n",
       "    </tr>\n",
       "  </thead>\n",
       "  <tbody>\n",
       "    <tr>\n",
       "      <th>0</th>\n",
       "      <td>27</td>\n",
       "      <td>5.2</td>\n",
       "      <td>3.5</td>\n",
       "      <td>1.5</td>\n",
       "      <td>0.2</td>\n",
       "      <td>Iris-setosa</td>\n",
       "    </tr>\n",
       "    <tr>\n",
       "      <th>1</th>\n",
       "      <td>14</td>\n",
       "      <td>5.8</td>\n",
       "      <td>4.0</td>\n",
       "      <td>1.2</td>\n",
       "      <td>0.2</td>\n",
       "      <td>Iris-setosa</td>\n",
       "    </tr>\n",
       "    <tr>\n",
       "      <th>2</th>\n",
       "      <td>25</td>\n",
       "      <td>5.0</td>\n",
       "      <td>3.0</td>\n",
       "      <td>1.6</td>\n",
       "      <td>0.2</td>\n",
       "      <td>Iris-setosa</td>\n",
       "    </tr>\n",
       "    <tr>\n",
       "      <th>3</th>\n",
       "      <td>82</td>\n",
       "      <td>5.8</td>\n",
       "      <td>2.7</td>\n",
       "      <td>3.9</td>\n",
       "      <td>1.2</td>\n",
       "      <td>Iris-versicolor</td>\n",
       "    </tr>\n",
       "    <tr>\n",
       "      <th>4</th>\n",
       "      <td>97</td>\n",
       "      <td>6.2</td>\n",
       "      <td>2.9</td>\n",
       "      <td>4.3</td>\n",
       "      <td>1.3</td>\n",
       "      <td>Iris-versicolor</td>\n",
       "    </tr>\n",
       "    <tr>\n",
       "      <th>...</th>\n",
       "      <td>...</td>\n",
       "      <td>...</td>\n",
       "      <td>...</td>\n",
       "      <td>...</td>\n",
       "      <td>...</td>\n",
       "      <td>...</td>\n",
       "    </tr>\n",
       "    <tr>\n",
       "      <th>145</th>\n",
       "      <td>126</td>\n",
       "      <td>6.2</td>\n",
       "      <td>2.8</td>\n",
       "      <td>4.8</td>\n",
       "      <td>1.8</td>\n",
       "      <td>Iris-virginica</td>\n",
       "    </tr>\n",
       "    <tr>\n",
       "      <th>146</th>\n",
       "      <td>124</td>\n",
       "      <td>6.7</td>\n",
       "      <td>3.3</td>\n",
       "      <td>5.7</td>\n",
       "      <td>2.1</td>\n",
       "      <td>Iris-virginica</td>\n",
       "    </tr>\n",
       "    <tr>\n",
       "      <th>147</th>\n",
       "      <td>78</td>\n",
       "      <td>6.0</td>\n",
       "      <td>2.9</td>\n",
       "      <td>4.5</td>\n",
       "      <td>1.5</td>\n",
       "      <td>Iris-versicolor</td>\n",
       "    </tr>\n",
       "    <tr>\n",
       "      <th>148</th>\n",
       "      <td>125</td>\n",
       "      <td>7.2</td>\n",
       "      <td>3.2</td>\n",
       "      <td>6.0</td>\n",
       "      <td>1.8</td>\n",
       "      <td>Iris-virginica</td>\n",
       "    </tr>\n",
       "    <tr>\n",
       "      <th>149</th>\n",
       "      <td>130</td>\n",
       "      <td>7.4</td>\n",
       "      <td>2.8</td>\n",
       "      <td>6.1</td>\n",
       "      <td>1.9</td>\n",
       "      <td>Iris-virginica</td>\n",
       "    </tr>\n",
       "  </tbody>\n",
       "</table>\n",
       "<p>150 rows × 6 columns</p>\n",
       "</div>"
      ],
      "text/plain": [
       "     Unnamed: 0  sepal length  sepal width  petal length  petal width  \\\n",
       "0            27           5.2          3.5           1.5          0.2   \n",
       "1            14           5.8          4.0           1.2          0.2   \n",
       "2            25           5.0          3.0           1.6          0.2   \n",
       "3            82           5.8          2.7           3.9          1.2   \n",
       "4            97           6.2          2.9           4.3          1.3   \n",
       "..          ...           ...          ...           ...          ...   \n",
       "145         126           6.2          2.8           4.8          1.8   \n",
       "146         124           6.7          3.3           5.7          2.1   \n",
       "147          78           6.0          2.9           4.5          1.5   \n",
       "148         125           7.2          3.2           6.0          1.8   \n",
       "149         130           7.4          2.8           6.1          1.9   \n",
       "\n",
       "               class  \n",
       "0        Iris-setosa  \n",
       "1        Iris-setosa  \n",
       "2        Iris-setosa  \n",
       "3    Iris-versicolor  \n",
       "4    Iris-versicolor  \n",
       "..               ...  \n",
       "145   Iris-virginica  \n",
       "146   Iris-virginica  \n",
       "147  Iris-versicolor  \n",
       "148   Iris-virginica  \n",
       "149   Iris-virginica  \n",
       "\n",
       "[150 rows x 6 columns]"
      ]
     },
     "execution_count": 2,
     "metadata": {},
     "output_type": "execute_result"
    }
   ],
   "source": [
    "df = pd.read_csv(\"../../data/iris/iris.tsv.gz\", sep=\"\\t\", compression=\"gzip\")\n",
    "train_data = df.iloc[:-30]\n",
    "new_data = df[~df.index.isin(train_data.index)]\n",
    "features = infer_feature_attributes(train_data)\n",
    "\n",
    "t = Trainee(features=features)\n",
    "\n",
    "df"
   ]
  },
  {
   "cell_type": "markdown",
   "metadata": {},
   "source": [
    "### Train, Analyze, and React"
   ]
  },
  {
   "cell_type": "code",
   "execution_count": 3,
   "metadata": {
    "execution": {
     "iopub.execute_input": "2024-05-30T18:23:24.841375Z",
     "iopub.status.busy": "2024-05-30T18:23:24.841146Z",
     "iopub.status.idle": "2024-05-30T18:23:44.661272Z",
     "shell.execute_reply": "2024-05-30T18:23:44.660662Z"
    }
   },
   "outputs": [],
   "source": [
    "t.train(train_data)\n",
    "t.analyze()\n",
    "t.react_into_features(similarity_conviction=True)\n",
    "\n",
    "reaction = t.react(\n",
    "    contexts=new_data,\n",
    "    context_features=[\"sepal length\", \"sepal width\", \"petal length\", \"petal width\"],\n",
    "    action_features=[\"class\"],\n",
    "    details={\n",
    "        \"influential_cases\": True,\n",
    "        \"similarity_conviction\": True,\n",
    "        \"feature_contributions_robust\": True,\n",
    "        \"feature_residuals_robust\": True,\n",
    "        \"local_case_feature_residual_convictions_robust\": True,\n",
    "        \"categorical_action_probabilities\": True,\n",
    "    }\n",
    ")"
   ]
  },
  {
   "cell_type": "markdown",
   "metadata": {},
   "source": [
    "Note that, unlike in the basic workflow guide, we include several `details` in the react call and predict multiple cases as opposed to one. These are what will enable the\n",
    "insights that we're going to get after the predictions are made.\n",
    "\n",
    "For more information, see [the API documentation for `Trainee.react()`](https://docs.howso.com/api_reference/_autosummary/howso.engine.html#howso.engine.Trainee.react)."
   ]
  },
  {
   "cell_type": "markdown",
   "metadata": {},
   "source": [
    "### Inspect the Predictions\n",
    "\n",
    "Howso Engine has high accuracy even on small datasets.\n",
    "\n",
    "Here we see a comparison of the trained data (dots) and the predicted data (stars). This plot shows that the predictions align well with the trained data."
   ]
  },
  {
   "cell_type": "code",
   "execution_count": 4,
   "metadata": {
    "execution": {
     "iopub.execute_input": "2024-05-30T18:23:44.664751Z",
     "iopub.status.busy": "2024-05-30T18:23:44.664286Z",
     "iopub.status.idle": "2024-05-30T18:23:44.853460Z",
     "shell.execute_reply": "2024-05-30T18:23:44.852876Z"
    }
   },
   "outputs": [
    {
     "data": {
      "application/vnd.plotly.v1+json": {
       "config": {
        "plotlyServerURL": "https://plot.ly"
       },
       "data": [
        {
         "legendgroup": "trained",
         "legendgrouptitle": {
          "text": "Trained class"
         },
         "marker": {
          "color": "#1F77B4",
          "opacity": 0.75
         },
         "mode": "markers",
         "name": "Iris-setosa",
         "type": "scatter",
         "x": [
          1.5,
          1.2,
          1.6,
          1.7,
          1.7,
          1.5,
          1.6,
          1.3,
          1.6,
          1.4,
          1,
          1.5,
          1.4,
          1.3,
          1.7,
          1.4,
          1.3,
          1.5,
          1.4,
          1.1,
          1.4,
          1.2,
          1.9,
          1.6,
          1.5,
          1.9,
          1.5,
          1.5,
          1.5,
          1.3,
          1.4,
          1.6,
          1.4,
          1.6,
          1.4,
          1.5,
          1.5,
          1.6,
          1.5,
          1.4,
          1.3,
          1.7,
          1.5
         ],
         "y": [
          0.2,
          0.2,
          0.2,
          0.2,
          0.3,
          0.4,
          0.6,
          0.4,
          0.2,
          0.2,
          0.2,
          0.3,
          0.2,
          0.3,
          0.4,
          0.3,
          0.3,
          0.1,
          0.3,
          0.1,
          0.1,
          0.2,
          0.2,
          0.4,
          0.1,
          0.4,
          0.2,
          0.2,
          0.2,
          0.2,
          0.2,
          0.2,
          0.2,
          0.2,
          0.3,
          0.2,
          0.1,
          0.2,
          0.2,
          0.2,
          0.2,
          0.5,
          0.4
         ]
        },
        {
         "legendgroup": "trained",
         "legendgrouptitle": {
          "text": "Trained class"
         },
         "marker": {
          "color": "#FF7F0E",
          "opacity": 0.75
         },
         "mode": "markers",
         "name": "Iris-versicolor",
         "type": "scatter",
         "x": [
          3.9,
          4.3,
          4.8,
          3,
          4.2,
          5,
          3.7,
          4.7,
          4.7,
          4.6,
          4.6,
          4,
          4.4,
          4.6,
          4.5,
          3.3,
          4.5,
          4.8,
          4.5,
          4.5,
          4.9,
          3.5,
          4.1,
          4,
          4.5,
          4.7,
          3.3,
          3.9,
          4.2,
          3.9,
          4.7,
          4.3,
          3.5,
          4.9,
          3.6,
          3.8,
          4.4,
          4.2,
          4.7,
          4.1
         ],
         "y": [
          1.2,
          1.3,
          1.8,
          1.1,
          1.3,
          1.7,
          1,
          1.6,
          1.4,
          1.5,
          1.4,
          1.3,
          1.4,
          1.3,
          1.6,
          1,
          1.5,
          1.4,
          1.3,
          1.5,
          1.5,
          1,
          1,
          1.3,
          1.5,
          1.4,
          1,
          1.1,
          1.3,
          1.4,
          1.2,
          1.3,
          1,
          1.5,
          1.3,
          1.1,
          1.2,
          1.2,
          1.5,
          1.3
         ]
        },
        {
         "legendgroup": "trained",
         "legendgrouptitle": {
          "text": "Trained class"
         },
         "marker": {
          "color": "#2CA02C",
          "opacity": 0.75
         },
         "mode": "markers",
         "name": "Iris-virginica",
         "type": "scatter",
         "x": [
          5.5,
          5.1,
          5.2,
          4.9,
          6,
          5.6,
          5.2,
          6.7,
          6.9,
          5.9,
          6.3,
          5.9,
          5,
          5.6,
          5.1,
          5.8,
          5.6,
          6.1,
          5.6,
          6.1,
          5.5,
          6.6,
          5.7,
          5.8,
          5.1,
          6.4,
          6.7,
          5.5,
          5.6,
          4.9,
          5.7,
          5.1,
          5.4,
          5.3,
          5.4,
          4.9,
          5.3
         ],
         "y": [
          1.8,
          1.8,
          2,
          2,
          2.5,
          2.4,
          2.3,
          2.2,
          2.3,
          2.3,
          1.8,
          2.1,
          1.5,
          2.1,
          1.9,
          1.6,
          2.2,
          2.5,
          1.8,
          2.3,
          1.8,
          2.1,
          2.3,
          2.2,
          2.4,
          2,
          2,
          2.1,
          2.4,
          1.8,
          2.5,
          1.5,
          2.3,
          1.9,
          2.1,
          1.8,
          2.3
         ]
        },
        {
         "hovertext": [
          6,
          12,
          15,
          16,
          20,
          23,
          24
         ],
         "legendgroup": "predicted",
         "legendgrouptitle": {
          "text": "Predicted class"
         },
         "marker": {
          "color": "#1F77B4",
          "opacity": 0.75,
          "size": 12,
          "symbol": "star"
         },
         "mode": "markers",
         "name": "Iris-setosa",
         "type": "scatter",
         "x": [
          1.4,
          1.5,
          1.4,
          1.3,
          1.5,
          1.4,
          1.3
         ],
         "y": [
          0.2,
          0.1,
          0.2,
          0.2,
          0.4,
          0.2,
          0.2
         ]
        },
        {
         "hovertext": [
          0,
          5,
          8,
          9,
          11,
          14,
          19,
          21,
          22,
          27
         ],
         "legendgroup": "predicted",
         "legendgrouptitle": {
          "text": "Predicted class"
         },
         "marker": {
          "color": "#FF7F0E",
          "opacity": 0.75,
          "size": 12,
          "symbol": "star"
         },
         "mode": "markers",
         "name": "Iris-versicolor",
         "type": "scatter",
         "x": [
          4.4,
          4.1,
          4.4,
          4,
          4.5,
          4.2,
          4.5,
          4,
          4,
          4.5
         ],
         "y": [
          1.4,
          1.3,
          1.3,
          1.3,
          1.5,
          1.5,
          1.7,
          1.2,
          1,
          1.5
         ]
        },
        {
         "hovertext": [
          1,
          2,
          3,
          4,
          7,
          10,
          13,
          17,
          18,
          25,
          26,
          28,
          29
         ],
         "legendgroup": "predicted",
         "legendgrouptitle": {
          "text": "Predicted class"
         },
         "marker": {
          "color": "#2CA02C",
          "opacity": 0.75,
          "size": 12,
          "symbol": "star"
         },
         "mode": "markers",
         "name": "Iris-virginica",
         "type": "scatter",
         "x": [
          5,
          5.1,
          5,
          5.6,
          5.1,
          5.1,
          5.1,
          4.8,
          5.8,
          4.8,
          5.7,
          6,
          6.1
         ],
         "y": [
          1.9,
          2.3,
          2,
          1.4,
          2,
          1.9,
          1.6,
          1.8,
          1.8,
          1.8,
          2.1,
          1.8,
          1.9
         ]
        }
       ],
       "layout": {
        "template": {
         "data": {
          "bar": [
           {
            "error_x": {
             "color": "#2a3f5f"
            },
            "error_y": {
             "color": "#2a3f5f"
            },
            "marker": {
             "line": {
              "color": "#E5ECF6",
              "width": 0.5
             },
             "pattern": {
              "fillmode": "overlay",
              "size": 10,
              "solidity": 0.2
             }
            },
            "type": "bar"
           }
          ],
          "barpolar": [
           {
            "marker": {
             "line": {
              "color": "#E5ECF6",
              "width": 0.5
             },
             "pattern": {
              "fillmode": "overlay",
              "size": 10,
              "solidity": 0.2
             }
            },
            "type": "barpolar"
           }
          ],
          "carpet": [
           {
            "aaxis": {
             "endlinecolor": "#2a3f5f",
             "gridcolor": "white",
             "linecolor": "white",
             "minorgridcolor": "white",
             "startlinecolor": "#2a3f5f"
            },
            "baxis": {
             "endlinecolor": "#2a3f5f",
             "gridcolor": "white",
             "linecolor": "white",
             "minorgridcolor": "white",
             "startlinecolor": "#2a3f5f"
            },
            "type": "carpet"
           }
          ],
          "choropleth": [
           {
            "colorbar": {
             "outlinewidth": 0,
             "ticks": ""
            },
            "type": "choropleth"
           }
          ],
          "contour": [
           {
            "colorbar": {
             "outlinewidth": 0,
             "ticks": ""
            },
            "colorscale": [
             [
              0,
              "#0d0887"
             ],
             [
              0.1111111111111111,
              "#46039f"
             ],
             [
              0.2222222222222222,
              "#7201a8"
             ],
             [
              0.3333333333333333,
              "#9c179e"
             ],
             [
              0.4444444444444444,
              "#bd3786"
             ],
             [
              0.5555555555555556,
              "#d8576b"
             ],
             [
              0.6666666666666666,
              "#ed7953"
             ],
             [
              0.7777777777777778,
              "#fb9f3a"
             ],
             [
              0.8888888888888888,
              "#fdca26"
             ],
             [
              1,
              "#f0f921"
             ]
            ],
            "type": "contour"
           }
          ],
          "contourcarpet": [
           {
            "colorbar": {
             "outlinewidth": 0,
             "ticks": ""
            },
            "type": "contourcarpet"
           }
          ],
          "heatmap": [
           {
            "colorbar": {
             "outlinewidth": 0,
             "ticks": ""
            },
            "colorscale": [
             [
              0,
              "#0d0887"
             ],
             [
              0.1111111111111111,
              "#46039f"
             ],
             [
              0.2222222222222222,
              "#7201a8"
             ],
             [
              0.3333333333333333,
              "#9c179e"
             ],
             [
              0.4444444444444444,
              "#bd3786"
             ],
             [
              0.5555555555555556,
              "#d8576b"
             ],
             [
              0.6666666666666666,
              "#ed7953"
             ],
             [
              0.7777777777777778,
              "#fb9f3a"
             ],
             [
              0.8888888888888888,
              "#fdca26"
             ],
             [
              1,
              "#f0f921"
             ]
            ],
            "type": "heatmap"
           }
          ],
          "heatmapgl": [
           {
            "colorbar": {
             "outlinewidth": 0,
             "ticks": ""
            },
            "colorscale": [
             [
              0,
              "#0d0887"
             ],
             [
              0.1111111111111111,
              "#46039f"
             ],
             [
              0.2222222222222222,
              "#7201a8"
             ],
             [
              0.3333333333333333,
              "#9c179e"
             ],
             [
              0.4444444444444444,
              "#bd3786"
             ],
             [
              0.5555555555555556,
              "#d8576b"
             ],
             [
              0.6666666666666666,
              "#ed7953"
             ],
             [
              0.7777777777777778,
              "#fb9f3a"
             ],
             [
              0.8888888888888888,
              "#fdca26"
             ],
             [
              1,
              "#f0f921"
             ]
            ],
            "type": "heatmapgl"
           }
          ],
          "histogram": [
           {
            "marker": {
             "pattern": {
              "fillmode": "overlay",
              "size": 10,
              "solidity": 0.2
             }
            },
            "type": "histogram"
           }
          ],
          "histogram2d": [
           {
            "colorbar": {
             "outlinewidth": 0,
             "ticks": ""
            },
            "colorscale": [
             [
              0,
              "#0d0887"
             ],
             [
              0.1111111111111111,
              "#46039f"
             ],
             [
              0.2222222222222222,
              "#7201a8"
             ],
             [
              0.3333333333333333,
              "#9c179e"
             ],
             [
              0.4444444444444444,
              "#bd3786"
             ],
             [
              0.5555555555555556,
              "#d8576b"
             ],
             [
              0.6666666666666666,
              "#ed7953"
             ],
             [
              0.7777777777777778,
              "#fb9f3a"
             ],
             [
              0.8888888888888888,
              "#fdca26"
             ],
             [
              1,
              "#f0f921"
             ]
            ],
            "type": "histogram2d"
           }
          ],
          "histogram2dcontour": [
           {
            "colorbar": {
             "outlinewidth": 0,
             "ticks": ""
            },
            "colorscale": [
             [
              0,
              "#0d0887"
             ],
             [
              0.1111111111111111,
              "#46039f"
             ],
             [
              0.2222222222222222,
              "#7201a8"
             ],
             [
              0.3333333333333333,
              "#9c179e"
             ],
             [
              0.4444444444444444,
              "#bd3786"
             ],
             [
              0.5555555555555556,
              "#d8576b"
             ],
             [
              0.6666666666666666,
              "#ed7953"
             ],
             [
              0.7777777777777778,
              "#fb9f3a"
             ],
             [
              0.8888888888888888,
              "#fdca26"
             ],
             [
              1,
              "#f0f921"
             ]
            ],
            "type": "histogram2dcontour"
           }
          ],
          "mesh3d": [
           {
            "colorbar": {
             "outlinewidth": 0,
             "ticks": ""
            },
            "type": "mesh3d"
           }
          ],
          "parcoords": [
           {
            "line": {
             "colorbar": {
              "outlinewidth": 0,
              "ticks": ""
             }
            },
            "type": "parcoords"
           }
          ],
          "pie": [
           {
            "automargin": true,
            "type": "pie"
           }
          ],
          "scatter": [
           {
            "fillpattern": {
             "fillmode": "overlay",
             "size": 10,
             "solidity": 0.2
            },
            "type": "scatter"
           }
          ],
          "scatter3d": [
           {
            "line": {
             "colorbar": {
              "outlinewidth": 0,
              "ticks": ""
             }
            },
            "marker": {
             "colorbar": {
              "outlinewidth": 0,
              "ticks": ""
             }
            },
            "type": "scatter3d"
           }
          ],
          "scattercarpet": [
           {
            "marker": {
             "colorbar": {
              "outlinewidth": 0,
              "ticks": ""
             }
            },
            "type": "scattercarpet"
           }
          ],
          "scattergeo": [
           {
            "marker": {
             "colorbar": {
              "outlinewidth": 0,
              "ticks": ""
             }
            },
            "type": "scattergeo"
           }
          ],
          "scattergl": [
           {
            "marker": {
             "colorbar": {
              "outlinewidth": 0,
              "ticks": ""
             }
            },
            "type": "scattergl"
           }
          ],
          "scattermapbox": [
           {
            "marker": {
             "colorbar": {
              "outlinewidth": 0,
              "ticks": ""
             }
            },
            "type": "scattermapbox"
           }
          ],
          "scatterpolar": [
           {
            "marker": {
             "colorbar": {
              "outlinewidth": 0,
              "ticks": ""
             }
            },
            "type": "scatterpolar"
           }
          ],
          "scatterpolargl": [
           {
            "marker": {
             "colorbar": {
              "outlinewidth": 0,
              "ticks": ""
             }
            },
            "type": "scatterpolargl"
           }
          ],
          "scatterternary": [
           {
            "marker": {
             "colorbar": {
              "outlinewidth": 0,
              "ticks": ""
             }
            },
            "type": "scatterternary"
           }
          ],
          "surface": [
           {
            "colorbar": {
             "outlinewidth": 0,
             "ticks": ""
            },
            "colorscale": [
             [
              0,
              "#0d0887"
             ],
             [
              0.1111111111111111,
              "#46039f"
             ],
             [
              0.2222222222222222,
              "#7201a8"
             ],
             [
              0.3333333333333333,
              "#9c179e"
             ],
             [
              0.4444444444444444,
              "#bd3786"
             ],
             [
              0.5555555555555556,
              "#d8576b"
             ],
             [
              0.6666666666666666,
              "#ed7953"
             ],
             [
              0.7777777777777778,
              "#fb9f3a"
             ],
             [
              0.8888888888888888,
              "#fdca26"
             ],
             [
              1,
              "#f0f921"
             ]
            ],
            "type": "surface"
           }
          ],
          "table": [
           {
            "cells": {
             "fill": {
              "color": "#EBF0F8"
             },
             "line": {
              "color": "white"
             }
            },
            "header": {
             "fill": {
              "color": "#C8D4E3"
             },
             "line": {
              "color": "white"
             }
            },
            "type": "table"
           }
          ]
         },
         "layout": {
          "annotationdefaults": {
           "arrowcolor": "#2a3f5f",
           "arrowhead": 0,
           "arrowwidth": 1
          },
          "autotypenumbers": "strict",
          "coloraxis": {
           "colorbar": {
            "outlinewidth": 0,
            "ticks": ""
           }
          },
          "colorscale": {
           "diverging": [
            [
             0,
             "#8e0152"
            ],
            [
             0.1,
             "#c51b7d"
            ],
            [
             0.2,
             "#de77ae"
            ],
            [
             0.3,
             "#f1b6da"
            ],
            [
             0.4,
             "#fde0ef"
            ],
            [
             0.5,
             "#f7f7f7"
            ],
            [
             0.6,
             "#e6f5d0"
            ],
            [
             0.7,
             "#b8e186"
            ],
            [
             0.8,
             "#7fbc41"
            ],
            [
             0.9,
             "#4d9221"
            ],
            [
             1,
             "#276419"
            ]
           ],
           "sequential": [
            [
             0,
             "#0d0887"
            ],
            [
             0.1111111111111111,
             "#46039f"
            ],
            [
             0.2222222222222222,
             "#7201a8"
            ],
            [
             0.3333333333333333,
             "#9c179e"
            ],
            [
             0.4444444444444444,
             "#bd3786"
            ],
            [
             0.5555555555555556,
             "#d8576b"
            ],
            [
             0.6666666666666666,
             "#ed7953"
            ],
            [
             0.7777777777777778,
             "#fb9f3a"
            ],
            [
             0.8888888888888888,
             "#fdca26"
            ],
            [
             1,
             "#f0f921"
            ]
           ],
           "sequentialminus": [
            [
             0,
             "#0d0887"
            ],
            [
             0.1111111111111111,
             "#46039f"
            ],
            [
             0.2222222222222222,
             "#7201a8"
            ],
            [
             0.3333333333333333,
             "#9c179e"
            ],
            [
             0.4444444444444444,
             "#bd3786"
            ],
            [
             0.5555555555555556,
             "#d8576b"
            ],
            [
             0.6666666666666666,
             "#ed7953"
            ],
            [
             0.7777777777777778,
             "#fb9f3a"
            ],
            [
             0.8888888888888888,
             "#fdca26"
            ],
            [
             1,
             "#f0f921"
            ]
           ]
          },
          "colorway": [
           "#636efa",
           "#EF553B",
           "#00cc96",
           "#ab63fa",
           "#FFA15A",
           "#19d3f3",
           "#FF6692",
           "#B6E880",
           "#FF97FF",
           "#FECB52"
          ],
          "font": {
           "color": "#2a3f5f"
          },
          "geo": {
           "bgcolor": "white",
           "lakecolor": "white",
           "landcolor": "#E5ECF6",
           "showlakes": true,
           "showland": true,
           "subunitcolor": "white"
          },
          "hoverlabel": {
           "align": "left"
          },
          "hovermode": "closest",
          "mapbox": {
           "style": "light"
          },
          "paper_bgcolor": "white",
          "plot_bgcolor": "#E5ECF6",
          "polar": {
           "angularaxis": {
            "gridcolor": "white",
            "linecolor": "white",
            "ticks": ""
           },
           "bgcolor": "#E5ECF6",
           "radialaxis": {
            "gridcolor": "white",
            "linecolor": "white",
            "ticks": ""
           }
          },
          "scene": {
           "xaxis": {
            "backgroundcolor": "#E5ECF6",
            "gridcolor": "white",
            "gridwidth": 2,
            "linecolor": "white",
            "showbackground": true,
            "ticks": "",
            "zerolinecolor": "white"
           },
           "yaxis": {
            "backgroundcolor": "#E5ECF6",
            "gridcolor": "white",
            "gridwidth": 2,
            "linecolor": "white",
            "showbackground": true,
            "ticks": "",
            "zerolinecolor": "white"
           },
           "zaxis": {
            "backgroundcolor": "#E5ECF6",
            "gridcolor": "white",
            "gridwidth": 2,
            "linecolor": "white",
            "showbackground": true,
            "ticks": "",
            "zerolinecolor": "white"
           }
          },
          "shapedefaults": {
           "line": {
            "color": "#2a3f5f"
           }
          },
          "ternary": {
           "aaxis": {
            "gridcolor": "white",
            "linecolor": "white",
            "ticks": ""
           },
           "baxis": {
            "gridcolor": "white",
            "linecolor": "white",
            "ticks": ""
           },
           "bgcolor": "#E5ECF6",
           "caxis": {
            "gridcolor": "white",
            "linecolor": "white",
            "ticks": ""
           }
          },
          "title": {
           "x": 0.05
          },
          "xaxis": {
           "automargin": true,
           "gridcolor": "white",
           "linecolor": "white",
           "ticks": "",
           "title": {
            "standoff": 15
           },
           "zerolinecolor": "white",
           "zerolinewidth": 2
          },
          "yaxis": {
           "automargin": true,
           "gridcolor": "white",
           "linecolor": "white",
           "ticks": "",
           "title": {
            "standoff": 15
           },
           "zerolinecolor": "white",
           "zerolinewidth": 2
          }
         }
        },
        "title": {
         "text": "Trained and Predicted Values"
        },
        "width": 1250,
        "xaxis": {
         "title": {
          "text": "Petal Length"
         }
        },
        "yaxis": {
         "title": {
          "text": "Petal Width"
         }
        }
       }
      }
     },
     "metadata": {},
     "output_type": "display_data"
    }
   ],
   "source": [
    "train_data = train_data.astype({\"class\": str})\n",
    "predicted_data = pd.concat([new_data.reset_index(drop=True).drop(columns=\"class\"), reaction[\"action\"]], axis=1)\n",
    "predicted_data = predicted_data.astype({\"class\": str})\n",
    "\n",
    "cmap = px.colors.qualitative.D3\n",
    "fig = go.Figure()\n",
    "for i, (label, group) in enumerate(train_data.groupby(\"class\")):\n",
    "    fig.add_trace(go.Scatter(\n",
    "        x=group[\"petal length\"],\n",
    "        y=group[\"petal width\"],\n",
    "        mode=\"markers\",\n",
    "        name=label,\n",
    "        marker=dict(color=cmap[i], opacity=0.75),\n",
    "        legendgroup=\"trained\",\n",
    "        legendgrouptitle_text=\"Trained class\",\n",
    "    ))\n",
    "\n",
    "for i, (label, group) in enumerate(predicted_data.groupby(\"class\")):\n",
    "    fig.add_trace(go.Scatter(\n",
    "        x=group[\"petal length\"],\n",
    "        y=group[\"petal width\"],\n",
    "        mode=\"markers\",\n",
    "        marker=dict(size=12, symbol=\"star\", color=cmap[i], opacity=0.75),\n",
    "        name=label,\n",
    "        legendgroup=\"predicted\",\n",
    "        legendgrouptitle_text=\"Predicted class\",\n",
    "        hovertext=group.index,\n",
    "    ))\n",
    "\n",
    "fig.update_layout(\n",
    "    xaxis_title=\"Petal Length\",\n",
    "    yaxis_title=\"Petal Width\",\n",
    "    width=1250,\n",
    "    title=\"Trained and Predicted Values\"\n",
    ")\n",
    "fig.show()"
   ]
  },
  {
   "cell_type": "markdown",
   "metadata": {},
   "source": [
    "For categorical action features, the prediction can be further understood with the `categorical_action_probabilities` detail.  \n",
    "This shows the probability of each possible value of the target feature. This information can highlight cases that are on the\n",
    "border of two classes, like some of the above points are.  The closer a case gets to a class border, the more mixed the\n",
    "categorical action probabilities may get."
   ]
  },
  {
   "cell_type": "code",
   "execution_count": 5,
   "metadata": {
    "execution": {
     "iopub.execute_input": "2024-05-30T18:23:44.896098Z",
     "iopub.status.busy": "2024-05-30T18:23:44.895804Z",
     "iopub.status.idle": "2024-05-30T18:23:44.901025Z",
     "shell.execute_reply": "2024-05-30T18:23:44.900498Z"
    }
   },
   "outputs": [
    {
     "name": "stdout",
     "output_type": "stream",
     "text": [
      "[{'class': {'Iris-versicolor': 1}},\n",
      " {'class': {'Iris-versicolor': 0.13707084604413974,\n",
      "            'Iris-virginica': 0.8629291539558602}},\n",
      " {'class': {'Iris-virginica': 1}}, {'class': {'Iris-virginica': 1}},\n",
      " {'class': {'Iris-versicolor': 0.3747821071550217,\n",
      "            'Iris-virginica': 0.6252178928449784}},\n",
      " {'class': {'Iris-versicolor': 1}}, {'class': {'Iris-setosa': 1}},\n",
      " {'class': {'Iris-virginica': 1}},\n",
      " {'class': {'Iris-versicolor': 0.8279595415790274,\n",
      "            'Iris-virginica': 0.17204045842097254}},\n",
      " {'class': {'Iris-versicolor': 1}}, {'class': {'Iris-virginica': 1}},\n",
      " {'class': {'Iris-versicolor': 1}}, {'class': {'Iris-setosa': 1}},\n",
      " {'class': {'Iris-versicolor': 0.20312938217244803,\n",
      "            'Iris-virginica': 0.796870617827552}},\n",
      " {'class': {'Iris-versicolor': 1}}, {'class': {'Iris-setosa': 1}},\n",
      " {'class': {'Iris-setosa': 1}},\n",
      " {'class': {'Iris-versicolor': 0.19088492679898608,\n",
      "            'Iris-virginica': 0.809115073201014}},\n",
      " {'class': {'Iris-virginica': 1}},\n",
      " {'class': {'Iris-versicolor': 0.8038516195928385,\n",
      "            'Iris-virginica': 0.19614838040716148}},\n",
      " {'class': {'Iris-setosa': 1}}, {'class': {'Iris-versicolor': 1}},\n",
      " {'class': {'Iris-versicolor': 1}}, {'class': {'Iris-setosa': 1}},\n",
      " {'class': {'Iris-setosa': 1}}, {'class': {'Iris-virginica': 1}},\n",
      " {'class': {'Iris-virginica': 1}}, {'class': {'Iris-versicolor': 1}},\n",
      " {'class': {'Iris-virginica': 1}}, {'class': {'Iris-virginica': 1}}]\n"
     ]
    }
   ],
   "source": [
    "pprint(reaction[\"details\"][\"categorical_action_probabilities\"], compact=True)"
   ]
  },
  {
   "cell_type": "markdown",
   "metadata": {},
   "source": [
    "For example, if we look at case `4`, we see a mix of probabilities because this case is on the border of two classes."
   ]
  },
  {
   "cell_type": "code",
   "execution_count": 6,
   "metadata": {
    "execution": {
     "iopub.execute_input": "2024-05-30T18:23:44.903221Z",
     "iopub.status.busy": "2024-05-30T18:23:44.903029Z",
     "iopub.status.idle": "2024-05-30T18:23:44.906813Z",
     "shell.execute_reply": "2024-05-30T18:23:44.906344Z"
    }
   },
   "outputs": [
    {
     "data": {
      "text/plain": [
       "{'class': {'Iris-versicolor': 0.3747821071550217,\n",
       "  'Iris-virginica': 0.6252178928449784}}"
      ]
     },
     "execution_count": 6,
     "metadata": {},
     "output_type": "execute_result"
    }
   ],
   "source": [
    "reaction[\"details\"][\"categorical_action_probabilities\"][4]"
   ]
  },
  {
   "cell_type": "markdown",
   "metadata": {},
   "source": [
    "### Insight 1: Which Cases Contributed?\n",
    "\n",
    "Howso provides complete attribution for any and all predictions, showing exactly which cases influenced each prediction.  This can be used to understand or debug predictions.  For instance,\n",
    "we can inspect the influential cases for one of the cases (case `4`) that was on the decision boundary in the plot above.  We can see that there is a mix of class values and no cases stand\n",
    "out in terms of influence weight:"
   ]
  },
  {
   "cell_type": "code",
   "execution_count": 7,
   "metadata": {
    "execution": {
     "iopub.execute_input": "2024-05-30T18:23:44.908972Z",
     "iopub.status.busy": "2024-05-30T18:23:44.908784Z",
     "iopub.status.idle": "2024-05-30T18:23:44.920636Z",
     "shell.execute_reply": "2024-05-30T18:23:44.920122Z"
    }
   },
   "outputs": [
    {
     "data": {
      "text/html": [
       "<div>\n",
       "<style scoped>\n",
       "    .dataframe tbody tr th:only-of-type {\n",
       "        vertical-align: middle;\n",
       "    }\n",
       "\n",
       "    .dataframe tbody tr th {\n",
       "        vertical-align: top;\n",
       "    }\n",
       "\n",
       "    .dataframe thead th {\n",
       "        text-align: right;\n",
       "    }\n",
       "</style>\n",
       "<table border=\"1\" class=\"dataframe\">\n",
       "  <thead>\n",
       "    <tr style=\"text-align: right;\">\n",
       "      <th></th>\n",
       "      <th>petal length</th>\n",
       "      <th>sepal length</th>\n",
       "      <th>class</th>\n",
       "      <th>petal width</th>\n",
       "      <th>.session</th>\n",
       "      <th>.session_training_index</th>\n",
       "      <th>sepal width</th>\n",
       "      <th>.influence_weight</th>\n",
       "    </tr>\n",
       "  </thead>\n",
       "  <tbody>\n",
       "    <tr>\n",
       "      <th>0</th>\n",
       "      <td>5.1</td>\n",
       "      <td>6.3</td>\n",
       "      <td>Iris-virginica</td>\n",
       "      <td>1.5</td>\n",
       "      <td>a4c2f366-8cb3-4e6c-8885-3e90f3d833ee</td>\n",
       "      <td>99</td>\n",
       "      <td>2.8</td>\n",
       "      <td>0.254831</td>\n",
       "    </tr>\n",
       "    <tr>\n",
       "      <th>1</th>\n",
       "      <td>4.9</td>\n",
       "      <td>6.3</td>\n",
       "      <td>Iris-versicolor</td>\n",
       "      <td>1.5</td>\n",
       "      <td>a4c2f366-8cb3-4e6c-8885-3e90f3d833ee</td>\n",
       "      <td>107</td>\n",
       "      <td>2.5</td>\n",
       "      <td>0.212308</td>\n",
       "    </tr>\n",
       "    <tr>\n",
       "      <th>2</th>\n",
       "      <td>5.0</td>\n",
       "      <td>6.0</td>\n",
       "      <td>Iris-virginica</td>\n",
       "      <td>1.5</td>\n",
       "      <td>a4c2f366-8cb3-4e6c-8885-3e90f3d833ee</td>\n",
       "      <td>34</td>\n",
       "      <td>2.2</td>\n",
       "      <td>0.189139</td>\n",
       "    </tr>\n",
       "    <tr>\n",
       "      <th>3</th>\n",
       "      <td>5.6</td>\n",
       "      <td>6.3</td>\n",
       "      <td>Iris-virginica</td>\n",
       "      <td>1.8</td>\n",
       "      <td>a4c2f366-8cb3-4e6c-8885-3e90f3d833ee</td>\n",
       "      <td>61</td>\n",
       "      <td>2.9</td>\n",
       "      <td>0.181248</td>\n",
       "    </tr>\n",
       "    <tr>\n",
       "      <th>4</th>\n",
       "      <td>4.7</td>\n",
       "      <td>6.1</td>\n",
       "      <td>Iris-versicolor</td>\n",
       "      <td>1.4</td>\n",
       "      <td>a4c2f366-8cb3-4e6c-8885-3e90f3d833ee</td>\n",
       "      <td>89</td>\n",
       "      <td>2.9</td>\n",
       "      <td>0.162475</td>\n",
       "    </tr>\n",
       "  </tbody>\n",
       "</table>\n",
       "</div>"
      ],
      "text/plain": [
       "   petal length  sepal length            class  petal width  \\\n",
       "0           5.1           6.3   Iris-virginica          1.5   \n",
       "1           4.9           6.3  Iris-versicolor          1.5   \n",
       "2           5.0           6.0   Iris-virginica          1.5   \n",
       "3           5.6           6.3   Iris-virginica          1.8   \n",
       "4           4.7           6.1  Iris-versicolor          1.4   \n",
       "\n",
       "                               .session  .session_training_index  sepal width  \\\n",
       "0  a4c2f366-8cb3-4e6c-8885-3e90f3d833ee                       99          2.8   \n",
       "1  a4c2f366-8cb3-4e6c-8885-3e90f3d833ee                      107          2.5   \n",
       "2  a4c2f366-8cb3-4e6c-8885-3e90f3d833ee                       34          2.2   \n",
       "3  a4c2f366-8cb3-4e6c-8885-3e90f3d833ee                       61          2.9   \n",
       "4  a4c2f366-8cb3-4e6c-8885-3e90f3d833ee                       89          2.9   \n",
       "\n",
       "   .influence_weight  \n",
       "0           0.254831  \n",
       "1           0.212308  \n",
       "2           0.189139  \n",
       "3           0.181248  \n",
       "4           0.162475  "
      ]
     },
     "execution_count": 7,
     "metadata": {},
     "output_type": "execute_result"
    }
   ],
   "source": [
    "inf_cases_4 = pd.DataFrame(reaction[\"details\"][\"influential_cases\"][4])\n",
    "inf_cases_4"
   ]
  },
  {
   "cell_type": "markdown",
   "metadata": {},
   "source": [
    "Compare that to the influential cases for case `20`, which is firmly in the center of the solo cluster.  Here we see a single class value."
   ]
  },
  {
   "cell_type": "code",
   "execution_count": 8,
   "metadata": {
    "execution": {
     "iopub.execute_input": "2024-05-30T18:23:44.922964Z",
     "iopub.status.busy": "2024-05-30T18:23:44.922625Z",
     "iopub.status.idle": "2024-05-30T18:23:44.933660Z",
     "shell.execute_reply": "2024-05-30T18:23:44.933170Z"
    }
   },
   "outputs": [
    {
     "data": {
      "text/html": [
       "<div>\n",
       "<style scoped>\n",
       "    .dataframe tbody tr th:only-of-type {\n",
       "        vertical-align: middle;\n",
       "    }\n",
       "\n",
       "    .dataframe tbody tr th {\n",
       "        vertical-align: top;\n",
       "    }\n",
       "\n",
       "    .dataframe thead th {\n",
       "        text-align: right;\n",
       "    }\n",
       "</style>\n",
       "<table border=\"1\" class=\"dataframe\">\n",
       "  <thead>\n",
       "    <tr style=\"text-align: right;\">\n",
       "      <th></th>\n",
       "      <th>petal length</th>\n",
       "      <th>sepal length</th>\n",
       "      <th>class</th>\n",
       "      <th>petal width</th>\n",
       "      <th>.session</th>\n",
       "      <th>.session_training_index</th>\n",
       "      <th>sepal width</th>\n",
       "      <th>.influence_weight</th>\n",
       "    </tr>\n",
       "  </thead>\n",
       "  <tbody>\n",
       "    <tr>\n",
       "      <th>0</th>\n",
       "      <td>1.4</td>\n",
       "      <td>5.1</td>\n",
       "      <td>Iris-setosa</td>\n",
       "      <td>0.3</td>\n",
       "      <td>a4c2f366-8cb3-4e6c-8885-3e90f3d833ee</td>\n",
       "      <td>48</td>\n",
       "      <td>3.5</td>\n",
       "      <td>0.214285</td>\n",
       "    </tr>\n",
       "    <tr>\n",
       "      <th>1</th>\n",
       "      <td>1.6</td>\n",
       "      <td>5.0</td>\n",
       "      <td>Iris-setosa</td>\n",
       "      <td>0.4</td>\n",
       "      <td>a4c2f366-8cb3-4e6c-8885-3e90f3d833ee</td>\n",
       "      <td>63</td>\n",
       "      <td>3.4</td>\n",
       "      <td>0.209768</td>\n",
       "    </tr>\n",
       "    <tr>\n",
       "      <th>2</th>\n",
       "      <td>1.7</td>\n",
       "      <td>5.1</td>\n",
       "      <td>Iris-setosa</td>\n",
       "      <td>0.5</td>\n",
       "      <td>a4c2f366-8cb3-4e6c-8885-3e90f3d833ee</td>\n",
       "      <td>116</td>\n",
       "      <td>3.3</td>\n",
       "      <td>0.195387</td>\n",
       "    </tr>\n",
       "    <tr>\n",
       "      <th>3</th>\n",
       "      <td>1.7</td>\n",
       "      <td>5.4</td>\n",
       "      <td>Iris-setosa</td>\n",
       "      <td>0.2</td>\n",
       "      <td>a4c2f366-8cb3-4e6c-8885-3e90f3d833ee</td>\n",
       "      <td>9</td>\n",
       "      <td>3.4</td>\n",
       "      <td>0.191825</td>\n",
       "    </tr>\n",
       "    <tr>\n",
       "      <th>4</th>\n",
       "      <td>1.4</td>\n",
       "      <td>5.2</td>\n",
       "      <td>Iris-setosa</td>\n",
       "      <td>0.2</td>\n",
       "      <td>a4c2f366-8cb3-4e6c-8885-3e90f3d833ee</td>\n",
       "      <td>43</td>\n",
       "      <td>3.4</td>\n",
       "      <td>0.188735</td>\n",
       "    </tr>\n",
       "  </tbody>\n",
       "</table>\n",
       "</div>"
      ],
      "text/plain": [
       "   petal length  sepal length        class  petal width  \\\n",
       "0           1.4           5.1  Iris-setosa          0.3   \n",
       "1           1.6           5.0  Iris-setosa          0.4   \n",
       "2           1.7           5.1  Iris-setosa          0.5   \n",
       "3           1.7           5.4  Iris-setosa          0.2   \n",
       "4           1.4           5.2  Iris-setosa          0.2   \n",
       "\n",
       "                               .session  .session_training_index  sepal width  \\\n",
       "0  a4c2f366-8cb3-4e6c-8885-3e90f3d833ee                       48          3.5   \n",
       "1  a4c2f366-8cb3-4e6c-8885-3e90f3d833ee                       63          3.4   \n",
       "2  a4c2f366-8cb3-4e6c-8885-3e90f3d833ee                      116          3.3   \n",
       "3  a4c2f366-8cb3-4e6c-8885-3e90f3d833ee                        9          3.4   \n",
       "4  a4c2f366-8cb3-4e6c-8885-3e90f3d833ee                       43          3.4   \n",
       "\n",
       "   .influence_weight  \n",
       "0           0.214285  \n",
       "1           0.209768  \n",
       "2           0.195387  \n",
       "3           0.191825  \n",
       "4           0.188735  "
      ]
     },
     "execution_count": 8,
     "metadata": {},
     "output_type": "execute_result"
    }
   ],
   "source": [
    "inf_cases_20 = pd.DataFrame(reaction[\"details\"][\"influential_cases\"][20])\n",
    "inf_cases_20"
   ]
  },
  {
   "cell_type": "markdown",
   "metadata": {},
   "source": [
    "With the influential cases we can derive additional insights, such as identifying anomalous cases from within the influential cases using `similarity_conviction`.  \n",
    "This can help to identify data that are making predictions more noisy or identify what type of data should be collected to improve predictive power in the future."
   ]
  },
  {
   "cell_type": "code",
   "execution_count": 9,
   "metadata": {
    "execution": {
     "iopub.execute_input": "2024-05-30T18:23:44.935850Z",
     "iopub.status.busy": "2024-05-30T18:23:44.935669Z",
     "iopub.status.idle": "2024-05-30T18:23:44.948740Z",
     "shell.execute_reply": "2024-05-30T18:23:44.948213Z"
    }
   },
   "outputs": [
    {
     "data": {
      "text/html": [
       "<div>\n",
       "<style scoped>\n",
       "    .dataframe tbody tr th:only-of-type {\n",
       "        vertical-align: middle;\n",
       "    }\n",
       "\n",
       "    .dataframe tbody tr th {\n",
       "        vertical-align: top;\n",
       "    }\n",
       "\n",
       "    .dataframe thead th {\n",
       "        text-align: right;\n",
       "    }\n",
       "</style>\n",
       "<table border=\"1\" class=\"dataframe\">\n",
       "  <thead>\n",
       "    <tr style=\"text-align: right;\">\n",
       "      <th></th>\n",
       "      <th>sepal length</th>\n",
       "      <th>sepal width</th>\n",
       "      <th>petal length</th>\n",
       "      <th>petal width</th>\n",
       "      <th>class</th>\n",
       "      <th>similarity_conviction</th>\n",
       "    </tr>\n",
       "  </thead>\n",
       "  <tbody>\n",
       "    <tr>\n",
       "      <th>2</th>\n",
       "      <td>6.0</td>\n",
       "      <td>2.2</td>\n",
       "      <td>5.0</td>\n",
       "      <td>1.5</td>\n",
       "      <td>Iris-virginica</td>\n",
       "      <td>0.579978</td>\n",
       "    </tr>\n",
       "    <tr>\n",
       "      <th>1</th>\n",
       "      <td>6.3</td>\n",
       "      <td>2.5</td>\n",
       "      <td>4.9</td>\n",
       "      <td>1.5</td>\n",
       "      <td>Iris-versicolor</td>\n",
       "      <td>0.794229</td>\n",
       "    </tr>\n",
       "    <tr>\n",
       "      <th>0</th>\n",
       "      <td>6.3</td>\n",
       "      <td>2.8</td>\n",
       "      <td>5.1</td>\n",
       "      <td>1.5</td>\n",
       "      <td>Iris-virginica</td>\n",
       "      <td>0.847696</td>\n",
       "    </tr>\n",
       "    <tr>\n",
       "      <th>3</th>\n",
       "      <td>6.3</td>\n",
       "      <td>2.9</td>\n",
       "      <td>5.6</td>\n",
       "      <td>1.8</td>\n",
       "      <td>Iris-virginica</td>\n",
       "      <td>1.082284</td>\n",
       "    </tr>\n",
       "    <tr>\n",
       "      <th>4</th>\n",
       "      <td>6.1</td>\n",
       "      <td>2.9</td>\n",
       "      <td>4.7</td>\n",
       "      <td>1.4</td>\n",
       "      <td>Iris-versicolor</td>\n",
       "      <td>1.096176</td>\n",
       "    </tr>\n",
       "  </tbody>\n",
       "</table>\n",
       "</div>"
      ],
      "text/plain": [
       "   sepal length  sepal width  petal length  petal width            class  \\\n",
       "2           6.0          2.2           5.0          1.5   Iris-virginica   \n",
       "1           6.3          2.5           4.9          1.5  Iris-versicolor   \n",
       "0           6.3          2.8           5.1          1.5   Iris-virginica   \n",
       "3           6.3          2.9           5.6          1.8   Iris-virginica   \n",
       "4           6.1          2.9           4.7          1.4  Iris-versicolor   \n",
       "\n",
       "   similarity_conviction  \n",
       "2               0.579978  \n",
       "1               0.794229  \n",
       "0               0.847696  \n",
       "3               1.082284  \n",
       "4               1.096176  "
      ]
     },
     "execution_count": 9,
     "metadata": {},
     "output_type": "execute_result"
    }
   ],
   "source": [
    "inf_case_indices = inf_cases_4[[\".session\", \".session_training_index\"]].values.tolist()\n",
    "\n",
    "anom_df = t.get_cases(\n",
    "    case_indices=inf_case_indices,\n",
    "    features=[\"sepal length\", \"sepal width\", \"petal length\", \"petal width\", \"class\", \"similarity_conviction\"]\n",
    ")\n",
    "\n",
    "anom_df.sort_values(by=\"similarity_conviction\")"
   ]
  },
  {
   "cell_type": "code",
   "execution_count": 10,
   "metadata": {
    "execution": {
     "iopub.execute_input": "2024-05-30T18:23:44.950829Z",
     "iopub.status.busy": "2024-05-30T18:23:44.950639Z",
     "iopub.status.idle": "2024-05-30T18:23:44.963509Z",
     "shell.execute_reply": "2024-05-30T18:23:44.963016Z"
    }
   },
   "outputs": [
    {
     "data": {
      "text/html": [
       "<div>\n",
       "<style scoped>\n",
       "    .dataframe tbody tr th:only-of-type {\n",
       "        vertical-align: middle;\n",
       "    }\n",
       "\n",
       "    .dataframe tbody tr th {\n",
       "        vertical-align: top;\n",
       "    }\n",
       "\n",
       "    .dataframe thead th {\n",
       "        text-align: right;\n",
       "    }\n",
       "</style>\n",
       "<table border=\"1\" class=\"dataframe\">\n",
       "  <thead>\n",
       "    <tr style=\"text-align: right;\">\n",
       "      <th></th>\n",
       "      <th>sepal length</th>\n",
       "      <th>sepal width</th>\n",
       "      <th>petal length</th>\n",
       "      <th>petal width</th>\n",
       "      <th>class</th>\n",
       "      <th>similarity_conviction</th>\n",
       "    </tr>\n",
       "  </thead>\n",
       "  <tbody>\n",
       "    <tr>\n",
       "      <th>2</th>\n",
       "      <td>5.1</td>\n",
       "      <td>3.3</td>\n",
       "      <td>1.7</td>\n",
       "      <td>0.5</td>\n",
       "      <td>Iris-setosa</td>\n",
       "      <td>0.794620</td>\n",
       "    </tr>\n",
       "    <tr>\n",
       "      <th>3</th>\n",
       "      <td>5.4</td>\n",
       "      <td>3.4</td>\n",
       "      <td>1.7</td>\n",
       "      <td>0.2</td>\n",
       "      <td>Iris-setosa</td>\n",
       "      <td>0.890655</td>\n",
       "    </tr>\n",
       "    <tr>\n",
       "      <th>1</th>\n",
       "      <td>5.0</td>\n",
       "      <td>3.4</td>\n",
       "      <td>1.6</td>\n",
       "      <td>0.4</td>\n",
       "      <td>Iris-setosa</td>\n",
       "      <td>1.007523</td>\n",
       "    </tr>\n",
       "    <tr>\n",
       "      <th>0</th>\n",
       "      <td>5.1</td>\n",
       "      <td>3.5</td>\n",
       "      <td>1.4</td>\n",
       "      <td>0.3</td>\n",
       "      <td>Iris-setosa</td>\n",
       "      <td>1.132817</td>\n",
       "    </tr>\n",
       "    <tr>\n",
       "      <th>4</th>\n",
       "      <td>5.2</td>\n",
       "      <td>3.4</td>\n",
       "      <td>1.4</td>\n",
       "      <td>0.2</td>\n",
       "      <td>Iris-setosa</td>\n",
       "      <td>1.324839</td>\n",
       "    </tr>\n",
       "  </tbody>\n",
       "</table>\n",
       "</div>"
      ],
      "text/plain": [
       "   sepal length  sepal width  petal length  petal width        class  \\\n",
       "2           5.1          3.3           1.7          0.5  Iris-setosa   \n",
       "3           5.4          3.4           1.7          0.2  Iris-setosa   \n",
       "1           5.0          3.4           1.6          0.4  Iris-setosa   \n",
       "0           5.1          3.5           1.4          0.3  Iris-setosa   \n",
       "4           5.2          3.4           1.4          0.2  Iris-setosa   \n",
       "\n",
       "   similarity_conviction  \n",
       "2               0.794620  \n",
       "3               0.890655  \n",
       "1               1.007523  \n",
       "0               1.132817  \n",
       "4               1.324839  "
      ]
     },
     "execution_count": 10,
     "metadata": {},
     "output_type": "execute_result"
    }
   ],
   "source": [
    "inf_case_indices = inf_cases_20[[\".session\", \".session_training_index\"]].values.tolist()\n",
    "\n",
    "anom_df = t.get_cases(\n",
    "    case_indices=inf_case_indices,\n",
    "    features=[\"sepal length\", \"sepal width\", \"petal length\", \"petal width\", \"class\", \"similarity_conviction\"],\n",
    ")\n",
    "\n",
    "anom_df.sort_values(by=\"similarity_conviction\")"
   ]
  },
  {
   "cell_type": "markdown",
   "metadata": {},
   "source": [
    "### Insight 2: Which Features Contributed?\n",
    "\n",
    "In addition to providing attribution to cases, Howso also provides robust feature contributions to explain which features contributed to each prediction.\n",
    "When inspecting the feature importances for case `13`,  we see that `petal width` and `petal length` provided the majority of the contribution to the \n",
    "prediction, whereas for case `20` `petal width` and `petal length` only have slightly higher contributions than the other features.  This could indicate \n",
    "that different features are more important for predicting different classes within this dataset and that focusing on those features would be prudent.\n",
    "\n",
    "Identifying that certain cases that influenced a prediction are anomalous can help to explain low predictive power in certain parts of the data or other\n",
    "issues that may appear during deployment."
   ]
  },
  {
   "cell_type": "code",
   "execution_count": 11,
   "metadata": {
    "execution": {
     "iopub.execute_input": "2024-05-30T18:23:44.965766Z",
     "iopub.status.busy": "2024-05-30T18:23:44.965578Z",
     "iopub.status.idle": "2024-05-30T18:23:44.976200Z",
     "shell.execute_reply": "2024-05-30T18:23:44.975721Z"
    }
   },
   "outputs": [
    {
     "data": {
      "text/html": [
       "<div>\n",
       "<style scoped>\n",
       "    .dataframe tbody tr th:only-of-type {\n",
       "        vertical-align: middle;\n",
       "    }\n",
       "\n",
       "    .dataframe tbody tr th {\n",
       "        vertical-align: top;\n",
       "    }\n",
       "\n",
       "    .dataframe thead th {\n",
       "        text-align: right;\n",
       "    }\n",
       "</style>\n",
       "<table border=\"1\" class=\"dataframe\">\n",
       "  <thead>\n",
       "    <tr style=\"text-align: right;\">\n",
       "      <th></th>\n",
       "      <th>petal length</th>\n",
       "      <th>sepal length</th>\n",
       "      <th>petal width</th>\n",
       "      <th>sepal width</th>\n",
       "    </tr>\n",
       "  </thead>\n",
       "  <tbody>\n",
       "    <tr>\n",
       "      <th>13</th>\n",
       "      <td>0.259045</td>\n",
       "      <td>0.16665</td>\n",
       "      <td>0.41521</td>\n",
       "      <td>0.087717</td>\n",
       "    </tr>\n",
       "  </tbody>\n",
       "</table>\n",
       "</div>"
      ],
      "text/plain": [
       "    petal length  sepal length  petal width  sepal width\n",
       "13      0.259045       0.16665      0.41521     0.087717"
      ]
     },
     "metadata": {},
     "output_type": "display_data"
    },
    {
     "data": {
      "text/html": [
       "<div>\n",
       "<style scoped>\n",
       "    .dataframe tbody tr th:only-of-type {\n",
       "        vertical-align: middle;\n",
       "    }\n",
       "\n",
       "    .dataframe tbody tr th {\n",
       "        vertical-align: top;\n",
       "    }\n",
       "\n",
       "    .dataframe thead th {\n",
       "        text-align: right;\n",
       "    }\n",
       "</style>\n",
       "<table border=\"1\" class=\"dataframe\">\n",
       "  <thead>\n",
       "    <tr style=\"text-align: right;\">\n",
       "      <th></th>\n",
       "      <th>petal length</th>\n",
       "      <th>sepal length</th>\n",
       "      <th>petal width</th>\n",
       "      <th>sepal width</th>\n",
       "    </tr>\n",
       "  </thead>\n",
       "  <tbody>\n",
       "    <tr>\n",
       "      <th>20</th>\n",
       "      <td>0.161386</td>\n",
       "      <td>0.127858</td>\n",
       "      <td>0.16544</td>\n",
       "      <td>0.099724</td>\n",
       "    </tr>\n",
       "  </tbody>\n",
       "</table>\n",
       "</div>"
      ],
      "text/plain": [
       "    petal length  sepal length  petal width  sepal width\n",
       "20      0.161386      0.127858      0.16544     0.099724"
      ]
     },
     "metadata": {},
     "output_type": "display_data"
    }
   ],
   "source": [
    "fcs_13 = pd.DataFrame(reaction[\"details\"][\"feature_contributions_robust\"][13:14], index=[13])\n",
    "fcs_20 = pd.DataFrame(reaction[\"details\"][\"feature_contributions_robust\"][20:21], index=[20])\n",
    "\n",
    "display(fcs_13)\n",
    "display(fcs_20)"
   ]
  },
  {
   "cell_type": "markdown",
   "metadata": {},
   "source": [
    "### Insight 3: How Certain is the Prediction?"
   ]
  },
  {
   "cell_type": "markdown",
   "metadata": {},
   "source": [
    "[Residuals](https://docs.howso.com/user_guide/basic_capabilities/residuals.html) can characterize the uncertainty of the data around the prediction.  This will tell us which features are hard to predict in the region of the data around each case we're predicting.\n",
    "If a prediction is less accurate than expected, this can explain which features were noisy and may have contributed to the problem."
   ]
  },
  {
   "cell_type": "code",
   "execution_count": 12,
   "metadata": {
    "execution": {
     "iopub.execute_input": "2024-05-30T18:23:44.978637Z",
     "iopub.status.busy": "2024-05-30T18:23:44.978275Z",
     "iopub.status.idle": "2024-05-30T18:23:44.987812Z",
     "shell.execute_reply": "2024-05-30T18:23:44.987328Z"
    }
   },
   "outputs": [
    {
     "data": {
      "text/html": [
       "<div>\n",
       "<style scoped>\n",
       "    .dataframe tbody tr th:only-of-type {\n",
       "        vertical-align: middle;\n",
       "    }\n",
       "\n",
       "    .dataframe tbody tr th {\n",
       "        vertical-align: top;\n",
       "    }\n",
       "\n",
       "    .dataframe thead th {\n",
       "        text-align: right;\n",
       "    }\n",
       "</style>\n",
       "<table border=\"1\" class=\"dataframe\">\n",
       "  <thead>\n",
       "    <tr style=\"text-align: right;\">\n",
       "      <th></th>\n",
       "      <th>petal length</th>\n",
       "      <th>sepal length</th>\n",
       "      <th>class</th>\n",
       "      <th>petal width</th>\n",
       "      <th>sepal width</th>\n",
       "    </tr>\n",
       "  </thead>\n",
       "  <tbody>\n",
       "    <tr>\n",
       "      <th>0</th>\n",
       "      <td>0.374060</td>\n",
       "      <td>0.417472</td>\n",
       "      <td>0.232853</td>\n",
       "      <td>0.193922</td>\n",
       "      <td>0.202079</td>\n",
       "    </tr>\n",
       "    <tr>\n",
       "      <th>1</th>\n",
       "      <td>0.405746</td>\n",
       "      <td>0.348620</td>\n",
       "      <td>0.306859</td>\n",
       "      <td>0.249355</td>\n",
       "      <td>0.254013</td>\n",
       "    </tr>\n",
       "    <tr>\n",
       "      <th>2</th>\n",
       "      <td>0.441464</td>\n",
       "      <td>0.327248</td>\n",
       "      <td>0.136578</td>\n",
       "      <td>0.293589</td>\n",
       "      <td>0.152011</td>\n",
       "    </tr>\n",
       "    <tr>\n",
       "      <th>3</th>\n",
       "      <td>0.448006</td>\n",
       "      <td>0.383943</td>\n",
       "      <td>0.315642</td>\n",
       "      <td>0.297862</td>\n",
       "      <td>0.266241</td>\n",
       "    </tr>\n",
       "    <tr>\n",
       "      <th>4</th>\n",
       "      <td>0.397378</td>\n",
       "      <td>0.366351</td>\n",
       "      <td>0.308851</td>\n",
       "      <td>0.240998</td>\n",
       "      <td>0.216862</td>\n",
       "    </tr>\n",
       "    <tr>\n",
       "      <th>5</th>\n",
       "      <td>0.320513</td>\n",
       "      <td>0.327379</td>\n",
       "      <td>0.112297</td>\n",
       "      <td>0.135037</td>\n",
       "      <td>0.163985</td>\n",
       "    </tr>\n",
       "    <tr>\n",
       "      <th>6</th>\n",
       "      <td>0.416669</td>\n",
       "      <td>0.372882</td>\n",
       "      <td>0.091492</td>\n",
       "      <td>0.202498</td>\n",
       "      <td>0.252078</td>\n",
       "    </tr>\n",
       "    <tr>\n",
       "      <th>7</th>\n",
       "      <td>0.432408</td>\n",
       "      <td>0.354586</td>\n",
       "      <td>0.238822</td>\n",
       "      <td>0.279099</td>\n",
       "      <td>0.173340</td>\n",
       "    </tr>\n",
       "    <tr>\n",
       "      <th>8</th>\n",
       "      <td>0.355315</td>\n",
       "      <td>0.341950</td>\n",
       "      <td>0.208509</td>\n",
       "      <td>0.159849</td>\n",
       "      <td>0.236482</td>\n",
       "    </tr>\n",
       "    <tr>\n",
       "      <th>9</th>\n",
       "      <td>0.364841</td>\n",
       "      <td>0.331536</td>\n",
       "      <td>0.124859</td>\n",
       "      <td>0.142175</td>\n",
       "      <td>0.243108</td>\n",
       "    </tr>\n",
       "    <tr>\n",
       "      <th>10</th>\n",
       "      <td>0.445771</td>\n",
       "      <td>0.386716</td>\n",
       "      <td>0.351722</td>\n",
       "      <td>0.287256</td>\n",
       "      <td>0.229485</td>\n",
       "    </tr>\n",
       "    <tr>\n",
       "      <th>11</th>\n",
       "      <td>0.338637</td>\n",
       "      <td>0.375526</td>\n",
       "      <td>0.199079</td>\n",
       "      <td>0.158116</td>\n",
       "      <td>0.187830</td>\n",
       "    </tr>\n",
       "    <tr>\n",
       "      <th>12</th>\n",
       "      <td>0.408526</td>\n",
       "      <td>0.332550</td>\n",
       "      <td>0.084236</td>\n",
       "      <td>0.201772</td>\n",
       "      <td>0.235939</td>\n",
       "    </tr>\n",
       "    <tr>\n",
       "      <th>13</th>\n",
       "      <td>0.385905</td>\n",
       "      <td>0.349363</td>\n",
       "      <td>0.333120</td>\n",
       "      <td>0.243411</td>\n",
       "      <td>0.221893</td>\n",
       "    </tr>\n",
       "    <tr>\n",
       "      <th>14</th>\n",
       "      <td>0.318724</td>\n",
       "      <td>0.311793</td>\n",
       "      <td>0.158084</td>\n",
       "      <td>0.130676</td>\n",
       "      <td>0.191356</td>\n",
       "    </tr>\n",
       "    <tr>\n",
       "      <th>15</th>\n",
       "      <td>0.441767</td>\n",
       "      <td>0.388793</td>\n",
       "      <td>0.093086</td>\n",
       "      <td>0.201781</td>\n",
       "      <td>0.288018</td>\n",
       "    </tr>\n",
       "    <tr>\n",
       "      <th>16</th>\n",
       "      <td>0.313153</td>\n",
       "      <td>0.267636</td>\n",
       "      <td>0.057127</td>\n",
       "      <td>0.155614</td>\n",
       "      <td>0.245250</td>\n",
       "    </tr>\n",
       "    <tr>\n",
       "      <th>17</th>\n",
       "      <td>0.398206</td>\n",
       "      <td>0.389360</td>\n",
       "      <td>0.309104</td>\n",
       "      <td>0.231766</td>\n",
       "      <td>0.222755</td>\n",
       "    </tr>\n",
       "    <tr>\n",
       "      <th>18</th>\n",
       "      <td>0.491487</td>\n",
       "      <td>0.399041</td>\n",
       "      <td>0.247137</td>\n",
       "      <td>0.293086</td>\n",
       "      <td>0.181997</td>\n",
       "    </tr>\n",
       "    <tr>\n",
       "      <th>19</th>\n",
       "      <td>0.396675</td>\n",
       "      <td>0.434146</td>\n",
       "      <td>0.281194</td>\n",
       "      <td>0.192438</td>\n",
       "      <td>0.272142</td>\n",
       "    </tr>\n",
       "    <tr>\n",
       "      <th>20</th>\n",
       "      <td>0.312268</td>\n",
       "      <td>0.238236</td>\n",
       "      <td>0.061701</td>\n",
       "      <td>0.173056</td>\n",
       "      <td>0.226677</td>\n",
       "    </tr>\n",
       "    <tr>\n",
       "      <th>21</th>\n",
       "      <td>0.344265</td>\n",
       "      <td>0.297977</td>\n",
       "      <td>0.107943</td>\n",
       "      <td>0.141142</td>\n",
       "      <td>0.176532</td>\n",
       "    </tr>\n",
       "    <tr>\n",
       "      <th>22</th>\n",
       "      <td>0.348982</td>\n",
       "      <td>0.302269</td>\n",
       "      <td>0.116673</td>\n",
       "      <td>0.143985</td>\n",
       "      <td>0.232169</td>\n",
       "    </tr>\n",
       "    <tr>\n",
       "      <th>23</th>\n",
       "      <td>0.366587</td>\n",
       "      <td>0.270705</td>\n",
       "      <td>0.082874</td>\n",
       "      <td>0.178623</td>\n",
       "      <td>0.226759</td>\n",
       "    </tr>\n",
       "    <tr>\n",
       "      <th>24</th>\n",
       "      <td>0.403412</td>\n",
       "      <td>0.358250</td>\n",
       "      <td>0.078131</td>\n",
       "      <td>0.189996</td>\n",
       "      <td>0.254212</td>\n",
       "    </tr>\n",
       "    <tr>\n",
       "      <th>25</th>\n",
       "      <td>0.415512</td>\n",
       "      <td>0.370217</td>\n",
       "      <td>0.320330</td>\n",
       "      <td>0.239024</td>\n",
       "      <td>0.202384</td>\n",
       "    </tr>\n",
       "    <tr>\n",
       "      <th>26</th>\n",
       "      <td>0.496297</td>\n",
       "      <td>0.346528</td>\n",
       "      <td>0.147364</td>\n",
       "      <td>0.314286</td>\n",
       "      <td>0.151248</td>\n",
       "    </tr>\n",
       "    <tr>\n",
       "      <th>27</th>\n",
       "      <td>0.323236</td>\n",
       "      <td>0.347791</td>\n",
       "      <td>0.193397</td>\n",
       "      <td>0.165800</td>\n",
       "      <td>0.165508</td>\n",
       "    </tr>\n",
       "    <tr>\n",
       "      <th>28</th>\n",
       "      <td>0.554447</td>\n",
       "      <td>0.481939</td>\n",
       "      <td>0.158855</td>\n",
       "      <td>0.267091</td>\n",
       "      <td>0.205064</td>\n",
       "    </tr>\n",
       "    <tr>\n",
       "      <th>29</th>\n",
       "      <td>0.571313</td>\n",
       "      <td>0.465860</td>\n",
       "      <td>0.121855</td>\n",
       "      <td>0.275691</td>\n",
       "      <td>0.223230</td>\n",
       "    </tr>\n",
       "  </tbody>\n",
       "</table>\n",
       "</div>"
      ],
      "text/plain": [
       "    petal length  sepal length     class  petal width  sepal width\n",
       "0       0.374060      0.417472  0.232853     0.193922     0.202079\n",
       "1       0.405746      0.348620  0.306859     0.249355     0.254013\n",
       "2       0.441464      0.327248  0.136578     0.293589     0.152011\n",
       "3       0.448006      0.383943  0.315642     0.297862     0.266241\n",
       "4       0.397378      0.366351  0.308851     0.240998     0.216862\n",
       "5       0.320513      0.327379  0.112297     0.135037     0.163985\n",
       "6       0.416669      0.372882  0.091492     0.202498     0.252078\n",
       "7       0.432408      0.354586  0.238822     0.279099     0.173340\n",
       "8       0.355315      0.341950  0.208509     0.159849     0.236482\n",
       "9       0.364841      0.331536  0.124859     0.142175     0.243108\n",
       "10      0.445771      0.386716  0.351722     0.287256     0.229485\n",
       "11      0.338637      0.375526  0.199079     0.158116     0.187830\n",
       "12      0.408526      0.332550  0.084236     0.201772     0.235939\n",
       "13      0.385905      0.349363  0.333120     0.243411     0.221893\n",
       "14      0.318724      0.311793  0.158084     0.130676     0.191356\n",
       "15      0.441767      0.388793  0.093086     0.201781     0.288018\n",
       "16      0.313153      0.267636  0.057127     0.155614     0.245250\n",
       "17      0.398206      0.389360  0.309104     0.231766     0.222755\n",
       "18      0.491487      0.399041  0.247137     0.293086     0.181997\n",
       "19      0.396675      0.434146  0.281194     0.192438     0.272142\n",
       "20      0.312268      0.238236  0.061701     0.173056     0.226677\n",
       "21      0.344265      0.297977  0.107943     0.141142     0.176532\n",
       "22      0.348982      0.302269  0.116673     0.143985     0.232169\n",
       "23      0.366587      0.270705  0.082874     0.178623     0.226759\n",
       "24      0.403412      0.358250  0.078131     0.189996     0.254212\n",
       "25      0.415512      0.370217  0.320330     0.239024     0.202384\n",
       "26      0.496297      0.346528  0.147364     0.314286     0.151248\n",
       "27      0.323236      0.347791  0.193397     0.165800     0.165508\n",
       "28      0.554447      0.481939  0.158855     0.267091     0.205064\n",
       "29      0.571313      0.465860  0.121855     0.275691     0.223230"
      ]
     },
     "execution_count": 12,
     "metadata": {},
     "output_type": "execute_result"
    }
   ],
   "source": [
    "pd.DataFrame(reaction[\"details\"][\"feature_residuals_robust\"])"
   ]
  },
  {
   "cell_type": "markdown",
   "metadata": {},
   "source": [
    "We can also use [`residual conviction`](https://docs.howso.com/user_guide/basic_capabilities/conviction.html#prediction-residual-conviction) to determine which features\n",
    "are uncertain in a scale-invariant manner, which can be useful if you wish to compare different features of different scales against each other.  Higher residual conviction\n",
    "indicates something that is less surprising than expected and lower redsidual conviction indicates the opposite."
   ]
  },
  {
   "cell_type": "code",
   "execution_count": 13,
   "metadata": {
    "execution": {
     "iopub.execute_input": "2024-05-30T18:23:44.990026Z",
     "iopub.status.busy": "2024-05-30T18:23:44.989843Z",
     "iopub.status.idle": "2024-05-30T18:23:44.999541Z",
     "shell.execute_reply": "2024-05-30T18:23:44.999053Z"
    }
   },
   "outputs": [
    {
     "data": {
      "text/html": [
       "<div>\n",
       "<style scoped>\n",
       "    .dataframe tbody tr th:only-of-type {\n",
       "        vertical-align: middle;\n",
       "    }\n",
       "\n",
       "    .dataframe tbody tr th {\n",
       "        vertical-align: top;\n",
       "    }\n",
       "\n",
       "    .dataframe thead th {\n",
       "        text-align: right;\n",
       "    }\n",
       "</style>\n",
       "<table border=\"1\" class=\"dataframe\">\n",
       "  <thead>\n",
       "    <tr style=\"text-align: right;\">\n",
       "      <th></th>\n",
       "      <th>petal length</th>\n",
       "      <th>sepal length</th>\n",
       "      <th>class</th>\n",
       "      <th>petal width</th>\n",
       "      <th>sepal width</th>\n",
       "    </tr>\n",
       "  </thead>\n",
       "  <tbody>\n",
       "    <tr>\n",
       "      <th>0</th>\n",
       "      <td>0.884603</td>\n",
       "      <td>0.764322</td>\n",
       "      <td>1.102658</td>\n",
       "      <td>1.105519</td>\n",
       "      <td>1.844925</td>\n",
       "    </tr>\n",
       "    <tr>\n",
       "      <th>1</th>\n",
       "      <td>0.833007</td>\n",
       "      <td>1.231538</td>\n",
       "      <td>1.325791</td>\n",
       "      <td>1.227720</td>\n",
       "      <td>0.603092</td>\n",
       "    </tr>\n",
       "    <tr>\n",
       "      <th>2</th>\n",
       "      <td>0.952672</td>\n",
       "      <td>1.057963</td>\n",
       "      <td>0.937551</td>\n",
       "      <td>0.693767</td>\n",
       "      <td>2.419911</td>\n",
       "    </tr>\n",
       "    <tr>\n",
       "      <th>3</th>\n",
       "      <td>1.049806</td>\n",
       "      <td>0.577990</td>\n",
       "      <td>0.648884</td>\n",
       "      <td>0.961220</td>\n",
       "      <td>0.607771</td>\n",
       "    </tr>\n",
       "    <tr>\n",
       "      <th>4</th>\n",
       "      <td>0.589318</td>\n",
       "      <td>0.845580</td>\n",
       "      <td>0.527353</td>\n",
       "      <td>0.514133</td>\n",
       "      <td>0.637624</td>\n",
       "    </tr>\n",
       "    <tr>\n",
       "      <th>5</th>\n",
       "      <td>1.727538</td>\n",
       "      <td>1.314625</td>\n",
       "      <td>0.888319</td>\n",
       "      <td>1.953066</td>\n",
       "      <td>0.861602</td>\n",
       "    </tr>\n",
       "    <tr>\n",
       "      <th>6</th>\n",
       "      <td>1.009293</td>\n",
       "      <td>1.554665</td>\n",
       "      <td>0.833265</td>\n",
       "      <td>1.134155</td>\n",
       "      <td>0.649338</td>\n",
       "    </tr>\n",
       "    <tr>\n",
       "      <th>7</th>\n",
       "      <td>0.731796</td>\n",
       "      <td>1.036696</td>\n",
       "      <td>0.802297</td>\n",
       "      <td>1.899220</td>\n",
       "      <td>0.778646</td>\n",
       "    </tr>\n",
       "    <tr>\n",
       "      <th>8</th>\n",
       "      <td>1.123844</td>\n",
       "      <td>0.589618</td>\n",
       "      <td>1.148352</td>\n",
       "      <td>1.016240</td>\n",
       "      <td>0.393193</td>\n",
       "    </tr>\n",
       "    <tr>\n",
       "      <th>9</th>\n",
       "      <td>1.056185</td>\n",
       "      <td>0.973745</td>\n",
       "      <td>0.749322</td>\n",
       "      <td>0.932744</td>\n",
       "      <td>0.538104</td>\n",
       "    </tr>\n",
       "    <tr>\n",
       "      <th>10</th>\n",
       "      <td>1.671369</td>\n",
       "      <td>2.049305</td>\n",
       "      <td>1.751996</td>\n",
       "      <td>1.531778</td>\n",
       "      <td>2.478638</td>\n",
       "    </tr>\n",
       "    <tr>\n",
       "      <th>11</th>\n",
       "      <td>1.073803</td>\n",
       "      <td>0.899287</td>\n",
       "      <td>0.936716</td>\n",
       "      <td>0.600902</td>\n",
       "      <td>1.140142</td>\n",
       "    </tr>\n",
       "    <tr>\n",
       "      <th>12</th>\n",
       "      <td>0.959569</td>\n",
       "      <td>1.645431</td>\n",
       "      <td>0.664046</td>\n",
       "      <td>1.145468</td>\n",
       "      <td>1.187877</td>\n",
       "    </tr>\n",
       "    <tr>\n",
       "      <th>13</th>\n",
       "      <td>1.492123</td>\n",
       "      <td>1.115739</td>\n",
       "      <td>0.625653</td>\n",
       "      <td>1.052914</td>\n",
       "      <td>1.026160</td>\n",
       "    </tr>\n",
       "    <tr>\n",
       "      <th>14</th>\n",
       "      <td>0.833920</td>\n",
       "      <td>2.083303</td>\n",
       "      <td>0.498476</td>\n",
       "      <td>0.702287</td>\n",
       "      <td>1.558837</td>\n",
       "    </tr>\n",
       "    <tr>\n",
       "      <th>15</th>\n",
       "      <td>2.502078</td>\n",
       "      <td>0.586226</td>\n",
       "      <td>0.406313</td>\n",
       "      <td>1.099080</td>\n",
       "      <td>0.797256</td>\n",
       "    </tr>\n",
       "    <tr>\n",
       "      <th>16</th>\n",
       "      <td>1.145031</td>\n",
       "      <td>0.496389</td>\n",
       "      <td>1.039931</td>\n",
       "      <td>1.376241</td>\n",
       "      <td>0.703655</td>\n",
       "    </tr>\n",
       "    <tr>\n",
       "      <th>17</th>\n",
       "      <td>1.155052</td>\n",
       "      <td>1.220078</td>\n",
       "      <td>0.555927</td>\n",
       "      <td>1.829045</td>\n",
       "      <td>1.053825</td>\n",
       "    </tr>\n",
       "    <tr>\n",
       "      <th>18</th>\n",
       "      <td>0.597068</td>\n",
       "      <td>1.400559</td>\n",
       "      <td>0.711046</td>\n",
       "      <td>0.865862</td>\n",
       "      <td>0.297739</td>\n",
       "    </tr>\n",
       "    <tr>\n",
       "      <th>19</th>\n",
       "      <td>0.642739</td>\n",
       "      <td>0.404267</td>\n",
       "      <td>1.183523</td>\n",
       "      <td>0.332581</td>\n",
       "      <td>0.751154</td>\n",
       "    </tr>\n",
       "    <tr>\n",
       "      <th>20</th>\n",
       "      <td>2.365050</td>\n",
       "      <td>1.018668</td>\n",
       "      <td>2.028906</td>\n",
       "      <td>0.708614</td>\n",
       "      <td>0.660308</td>\n",
       "    </tr>\n",
       "    <tr>\n",
       "      <th>21</th>\n",
       "      <td>1.566654</td>\n",
       "      <td>3.119178</td>\n",
       "      <td>0.734760</td>\n",
       "      <td>2.188408</td>\n",
       "      <td>1.064429</td>\n",
       "    </tr>\n",
       "    <tr>\n",
       "      <th>22</th>\n",
       "      <td>0.939342</td>\n",
       "      <td>0.907807</td>\n",
       "      <td>0.669589</td>\n",
       "      <td>0.449244</td>\n",
       "      <td>0.354771</td>\n",
       "    </tr>\n",
       "    <tr>\n",
       "      <th>23</th>\n",
       "      <td>0.504493</td>\n",
       "      <td>1.169993</td>\n",
       "      <td>0.466980</td>\n",
       "      <td>0.724976</td>\n",
       "      <td>1.098419</td>\n",
       "    </tr>\n",
       "    <tr>\n",
       "      <th>24</th>\n",
       "      <td>0.889778</td>\n",
       "      <td>1.062728</td>\n",
       "      <td>0.502054</td>\n",
       "      <td>1.612067</td>\n",
       "      <td>2.383950</td>\n",
       "    </tr>\n",
       "    <tr>\n",
       "      <th>25</th>\n",
       "      <td>0.937495</td>\n",
       "      <td>1.800142</td>\n",
       "      <td>0.648579</td>\n",
       "      <td>1.278429</td>\n",
       "      <td>1.276097</td>\n",
       "    </tr>\n",
       "    <tr>\n",
       "      <th>26</th>\n",
       "      <td>2.261698</td>\n",
       "      <td>1.616971</td>\n",
       "      <td>1.120291</td>\n",
       "      <td>1.043623</td>\n",
       "      <td>0.820340</td>\n",
       "    </tr>\n",
       "    <tr>\n",
       "      <th>27</th>\n",
       "      <td>1.574344</td>\n",
       "      <td>2.556169</td>\n",
       "      <td>0.654886</td>\n",
       "      <td>1.674875</td>\n",
       "      <td>1.037281</td>\n",
       "    </tr>\n",
       "    <tr>\n",
       "      <th>28</th>\n",
       "      <td>0.542306</td>\n",
       "      <td>0.535549</td>\n",
       "      <td>1.402791</td>\n",
       "      <td>0.822747</td>\n",
       "      <td>1.385757</td>\n",
       "    </tr>\n",
       "    <tr>\n",
       "      <th>29</th>\n",
       "      <td>0.716593</td>\n",
       "      <td>0.642328</td>\n",
       "      <td>4.071483</td>\n",
       "      <td>1.319700</td>\n",
       "      <td>0.966378</td>\n",
       "    </tr>\n",
       "  </tbody>\n",
       "</table>\n",
       "</div>"
      ],
      "text/plain": [
       "    petal length  sepal length     class  petal width  sepal width\n",
       "0       0.884603      0.764322  1.102658     1.105519     1.844925\n",
       "1       0.833007      1.231538  1.325791     1.227720     0.603092\n",
       "2       0.952672      1.057963  0.937551     0.693767     2.419911\n",
       "3       1.049806      0.577990  0.648884     0.961220     0.607771\n",
       "4       0.589318      0.845580  0.527353     0.514133     0.637624\n",
       "5       1.727538      1.314625  0.888319     1.953066     0.861602\n",
       "6       1.009293      1.554665  0.833265     1.134155     0.649338\n",
       "7       0.731796      1.036696  0.802297     1.899220     0.778646\n",
       "8       1.123844      0.589618  1.148352     1.016240     0.393193\n",
       "9       1.056185      0.973745  0.749322     0.932744     0.538104\n",
       "10      1.671369      2.049305  1.751996     1.531778     2.478638\n",
       "11      1.073803      0.899287  0.936716     0.600902     1.140142\n",
       "12      0.959569      1.645431  0.664046     1.145468     1.187877\n",
       "13      1.492123      1.115739  0.625653     1.052914     1.026160\n",
       "14      0.833920      2.083303  0.498476     0.702287     1.558837\n",
       "15      2.502078      0.586226  0.406313     1.099080     0.797256\n",
       "16      1.145031      0.496389  1.039931     1.376241     0.703655\n",
       "17      1.155052      1.220078  0.555927     1.829045     1.053825\n",
       "18      0.597068      1.400559  0.711046     0.865862     0.297739\n",
       "19      0.642739      0.404267  1.183523     0.332581     0.751154\n",
       "20      2.365050      1.018668  2.028906     0.708614     0.660308\n",
       "21      1.566654      3.119178  0.734760     2.188408     1.064429\n",
       "22      0.939342      0.907807  0.669589     0.449244     0.354771\n",
       "23      0.504493      1.169993  0.466980     0.724976     1.098419\n",
       "24      0.889778      1.062728  0.502054     1.612067     2.383950\n",
       "25      0.937495      1.800142  0.648579     1.278429     1.276097\n",
       "26      2.261698      1.616971  1.120291     1.043623     0.820340\n",
       "27      1.574344      2.556169  0.654886     1.674875     1.037281\n",
       "28      0.542306      0.535549  1.402791     0.822747     1.385757\n",
       "29      0.716593      0.642328  4.071483     1.319700     0.966378"
      ]
     },
     "execution_count": 13,
     "metadata": {},
     "output_type": "execute_result"
    }
   ],
   "source": [
    "pd.DataFrame(reaction[\"details\"][\"local_case_feature_residual_convictions_robust\"])"
   ]
  },
  {
   "cell_type": "markdown",
   "metadata": {},
   "source": [
    "### Insight 4: How Anomalous are the Predicted Cases?\n",
    "\n",
    "By getting the [`similarity conviction`](https://docs.howso.com/user_guide/basic_capabilities/conviction.html#similarity-conviction) of the cases that we predict, \n",
    "we can determine which of them are anomalous relative to the trained data. This could help to highlight cases that are unusually difficult or easy to predict, such as can be the case\n",
    "when model drift occurs as a form of model monitoring."
   ]
  },
  {
   "cell_type": "code",
   "execution_count": 14,
   "metadata": {
    "execution": {
     "iopub.execute_input": "2024-05-30T18:23:45.002062Z",
     "iopub.status.busy": "2024-05-30T18:23:45.001648Z",
     "iopub.status.idle": "2024-05-30T18:23:45.004993Z",
     "shell.execute_reply": "2024-05-30T18:23:45.004503Z"
    }
   },
   "outputs": [
    {
     "name": "stdout",
     "output_type": "stream",
     "text": [
      "[1.7427848961221073, 1.2266775314557734, 1.2832957000238383, 1.1358200640851237,\n",
      " 0.7663033973777346, 1.7093000149088442, 1.62988622348009, 1.179424858114735,\n",
      " 0.7771310371991803, 1.1877899178467337, 2.729516377134626, 1.2638120732438078,\n",
      " 4.6379323779451465, 1.2530048620888574, 1.0950665861958442, 1.3407402153095342,\n",
      " 1.0767771072504961, 1.9509548748596433, 0.8490545593829374, 0.5167812597435596,\n",
      " 0.9554756570604226, 1.6330745670443925, 0.7713719862798815, 1.4839431656699253,\n",
      " 1.6248239296155955, 1.7357489473788903, 1.2057177277105207, 1.3955068084226425,\n",
      " 1.036532322552324, 1.197977154227804]\n"
     ]
    }
   ],
   "source": [
    "pprint(reaction[\"details\"][\"similarity_conviction\"], compact=True)"
   ]
  },
  {
   "cell_type": "markdown",
   "metadata": {},
   "source": [
    "In this case, there are no cases with a low similarity_conviction which indicates that there are no cases that we reacted to which are particularly\n",
    "anomalous."
   ]
  }
 ],
 "metadata": {
  "kernelspec": {
   "display_name": "engine-recipes-3.9",
   "language": "python",
   "name": "python3"
  },
  "language_info": {
   "codemirror_mode": {
    "name": "ipython",
    "version": 3
   },
   "file_extension": ".py",
   "mimetype": "text/x-python",
   "name": "python",
   "nbconvert_exporter": "python",
   "pygments_lexer": "ipython3",
   "version": "3.11.2"
  }
 },
 "nbformat": 4,
 "nbformat_minor": 2
}
