{
 "cells": [
  {
   "cell_type": "markdown",
   "metadata": {},
   "source": [
    "# Prediction Insights"
   ]
  },
  {
   "cell_type": "markdown",
   "metadata": {},
   "source": [
    "## Overview\n",
    "\n",
    "Howso Engine enables powerful predictions with complete attribution and detailed explanations to make learning from\n",
    "and debugging your data and predictions as easy as possible. For more information on predictions with Howso Engine,\n",
    "check out the [predictions user guide](https://docs.howso.com/user_guide/basic_capabilities/predictions.html)."
   ]
  },
  {
   "cell_type": "code",
   "execution_count": 1,
   "metadata": {
    "execution": {
     "iopub.execute_input": "2024-08-07T16:38:53.504919Z",
     "iopub.status.busy": "2024-08-07T16:38:53.504728Z",
     "iopub.status.idle": "2024-08-07T16:38:53.990769Z",
     "shell.execute_reply": "2024-08-07T16:38:53.990130Z"
    }
   },
   "outputs": [],
   "source": [
    "from pprint import pprint\n",
    "\n",
    "import pandas as pd\n",
    "import plotly.graph_objects as go\n",
    "import plotly.express as px\n",
    "\n",
    "from howso.engine import Trainee\n",
    "from howso.utilities import infer_feature_attributes"
   ]
  },
  {
   "cell_type": "markdown",
   "metadata": {},
   "source": [
    "## Setup\n",
    "\n",
    "This recipe will focus on the insights gained from predictions. Specifically, insights from:\n",
    "\n",
    "- Influential Cases,\n",
    "- Feature Contributions,\n",
    "- Residual and Similarity Conviction,\n",
    "- and Categorical Action Probabilities.\n",
    "\n",
    "The [basic workflow guide](https://docs.howso.com/user_guide/basic_capabilities/basic_workflow.html) covers creating a Trainee and performing a basic react in detail.\n",
    "\n",
    "### Load Data and Create Trainee"
   ]
  },
  {
   "cell_type": "code",
   "execution_count": 2,
   "metadata": {
    "execution": {
     "iopub.execute_input": "2024-08-07T16:38:53.993909Z",
     "iopub.status.busy": "2024-08-07T16:38:53.993632Z",
     "iopub.status.idle": "2024-08-07T16:38:54.450825Z",
     "shell.execute_reply": "2024-08-07T16:38:54.450073Z"
    }
   },
   "outputs": [
    {
     "name": "stderr",
     "output_type": "stream",
     "text": [
      "Version 28.1.0 of Howso Engine™ is available. You are using version 28.0.4.dev3+g0840d31.\n",
      "The following parameters from your configuration will override the default Amalgam parameters: {'library_path'}\n"
     ]
    },
    {
     "data": {
      "text/html": [
       "<div>\n",
       "<style scoped>\n",
       "    .dataframe tbody tr th:only-of-type {\n",
       "        vertical-align: middle;\n",
       "    }\n",
       "\n",
       "    .dataframe tbody tr th {\n",
       "        vertical-align: top;\n",
       "    }\n",
       "\n",
       "    .dataframe thead th {\n",
       "        text-align: right;\n",
       "    }\n",
       "</style>\n",
       "<table border=\"1\" class=\"dataframe\">\n",
       "  <thead>\n",
       "    <tr style=\"text-align: right;\">\n",
       "      <th></th>\n",
       "      <th>Unnamed: 0</th>\n",
       "      <th>sepal length</th>\n",
       "      <th>sepal width</th>\n",
       "      <th>petal length</th>\n",
       "      <th>petal width</th>\n",
       "      <th>class</th>\n",
       "    </tr>\n",
       "  </thead>\n",
       "  <tbody>\n",
       "    <tr>\n",
       "      <th>0</th>\n",
       "      <td>27</td>\n",
       "      <td>5.2</td>\n",
       "      <td>3.5</td>\n",
       "      <td>1.5</td>\n",
       "      <td>0.2</td>\n",
       "      <td>Iris-setosa</td>\n",
       "    </tr>\n",
       "    <tr>\n",
       "      <th>1</th>\n",
       "      <td>14</td>\n",
       "      <td>5.8</td>\n",
       "      <td>4.0</td>\n",
       "      <td>1.2</td>\n",
       "      <td>0.2</td>\n",
       "      <td>Iris-setosa</td>\n",
       "    </tr>\n",
       "    <tr>\n",
       "      <th>2</th>\n",
       "      <td>25</td>\n",
       "      <td>5.0</td>\n",
       "      <td>3.0</td>\n",
       "      <td>1.6</td>\n",
       "      <td>0.2</td>\n",
       "      <td>Iris-setosa</td>\n",
       "    </tr>\n",
       "    <tr>\n",
       "      <th>3</th>\n",
       "      <td>82</td>\n",
       "      <td>5.8</td>\n",
       "      <td>2.7</td>\n",
       "      <td>3.9</td>\n",
       "      <td>1.2</td>\n",
       "      <td>Iris-versicolor</td>\n",
       "    </tr>\n",
       "    <tr>\n",
       "      <th>4</th>\n",
       "      <td>97</td>\n",
       "      <td>6.2</td>\n",
       "      <td>2.9</td>\n",
       "      <td>4.3</td>\n",
       "      <td>1.3</td>\n",
       "      <td>Iris-versicolor</td>\n",
       "    </tr>\n",
       "    <tr>\n",
       "      <th>...</th>\n",
       "      <td>...</td>\n",
       "      <td>...</td>\n",
       "      <td>...</td>\n",
       "      <td>...</td>\n",
       "      <td>...</td>\n",
       "      <td>...</td>\n",
       "    </tr>\n",
       "    <tr>\n",
       "      <th>145</th>\n",
       "      <td>126</td>\n",
       "      <td>6.2</td>\n",
       "      <td>2.8</td>\n",
       "      <td>4.8</td>\n",
       "      <td>1.8</td>\n",
       "      <td>Iris-virginica</td>\n",
       "    </tr>\n",
       "    <tr>\n",
       "      <th>146</th>\n",
       "      <td>124</td>\n",
       "      <td>6.7</td>\n",
       "      <td>3.3</td>\n",
       "      <td>5.7</td>\n",
       "      <td>2.1</td>\n",
       "      <td>Iris-virginica</td>\n",
       "    </tr>\n",
       "    <tr>\n",
       "      <th>147</th>\n",
       "      <td>78</td>\n",
       "      <td>6.0</td>\n",
       "      <td>2.9</td>\n",
       "      <td>4.5</td>\n",
       "      <td>1.5</td>\n",
       "      <td>Iris-versicolor</td>\n",
       "    </tr>\n",
       "    <tr>\n",
       "      <th>148</th>\n",
       "      <td>125</td>\n",
       "      <td>7.2</td>\n",
       "      <td>3.2</td>\n",
       "      <td>6.0</td>\n",
       "      <td>1.8</td>\n",
       "      <td>Iris-virginica</td>\n",
       "    </tr>\n",
       "    <tr>\n",
       "      <th>149</th>\n",
       "      <td>130</td>\n",
       "      <td>7.4</td>\n",
       "      <td>2.8</td>\n",
       "      <td>6.1</td>\n",
       "      <td>1.9</td>\n",
       "      <td>Iris-virginica</td>\n",
       "    </tr>\n",
       "  </tbody>\n",
       "</table>\n",
       "<p>150 rows × 6 columns</p>\n",
       "</div>"
      ],
      "text/plain": [
       "     Unnamed: 0  sepal length  sepal width  petal length  petal width  \\\n",
       "0            27           5.2          3.5           1.5          0.2   \n",
       "1            14           5.8          4.0           1.2          0.2   \n",
       "2            25           5.0          3.0           1.6          0.2   \n",
       "3            82           5.8          2.7           3.9          1.2   \n",
       "4            97           6.2          2.9           4.3          1.3   \n",
       "..          ...           ...          ...           ...          ...   \n",
       "145         126           6.2          2.8           4.8          1.8   \n",
       "146         124           6.7          3.3           5.7          2.1   \n",
       "147          78           6.0          2.9           4.5          1.5   \n",
       "148         125           7.2          3.2           6.0          1.8   \n",
       "149         130           7.4          2.8           6.1          1.9   \n",
       "\n",
       "               class  \n",
       "0        Iris-setosa  \n",
       "1        Iris-setosa  \n",
       "2        Iris-setosa  \n",
       "3    Iris-versicolor  \n",
       "4    Iris-versicolor  \n",
       "..               ...  \n",
       "145   Iris-virginica  \n",
       "146   Iris-virginica  \n",
       "147  Iris-versicolor  \n",
       "148   Iris-virginica  \n",
       "149   Iris-virginica  \n",
       "\n",
       "[150 rows x 6 columns]"
      ]
     },
     "execution_count": 2,
     "metadata": {},
     "output_type": "execute_result"
    }
   ],
   "source": [
    "df = pd.read_csv(\"../../data/iris/iris.tsv.gz\", sep=\"\\t\", compression=\"gzip\")\n",
    "train_data = df.iloc[:-30]\n",
    "new_data = df[~df.index.isin(train_data.index)]\n",
    "features = infer_feature_attributes(train_data)\n",
    "\n",
    "t = Trainee(features=features)\n",
    "\n",
    "df"
   ]
  },
  {
   "cell_type": "markdown",
   "metadata": {},
   "source": [
    "### Train, Analyze, and React"
   ]
  },
  {
   "cell_type": "code",
   "execution_count": 3,
   "metadata": {
    "execution": {
     "iopub.execute_input": "2024-08-07T16:38:54.484998Z",
     "iopub.status.busy": "2024-08-07T16:38:54.484767Z",
     "iopub.status.idle": "2024-08-07T16:39:16.065169Z",
     "shell.execute_reply": "2024-08-07T16:39:16.064556Z"
    }
   },
   "outputs": [],
   "source": [
    "t.train(train_data)\n",
    "t.analyze()\n",
    "t.react_into_features(similarity_conviction=True)\n",
    "\n",
    "reaction = t.react(\n",
    "    contexts=new_data,\n",
    "    context_features=[\"sepal length\", \"sepal width\", \"petal length\", \"petal width\"],\n",
    "    action_features=[\"class\"],\n",
    "    details={\n",
    "        \"influential_cases\": True,\n",
    "        \"similarity_conviction\": True,\n",
    "        \"feature_contributions_robust\": True,\n",
    "        \"feature_residuals_robust\": True,\n",
    "        \"case_feature_residual_convictions_robust\": True,\n",
    "        \"categorical_action_probabilities\": True,\n",
    "    }\n",
    ")"
   ]
  },
  {
   "cell_type": "markdown",
   "metadata": {},
   "source": [
    "Note that, unlike in the basic workflow guide, we include several `details` in the react call and predict multiple cases as opposed to one. These are what will enable the\n",
    "insights that we're going to get after the predictions are made.\n",
    "\n",
    "For more information, see [the API documentation for `Trainee.react()`](https://docs.howso.com/api_reference/_autosummary/howso.engine.html#howso.engine.Trainee.react)."
   ]
  },
  {
   "cell_type": "markdown",
   "metadata": {},
   "source": [
    "### Inspect the Predictions\n",
    "\n",
    "Howso Engine has high accuracy even on small datasets.\n",
    "\n",
    "Here we see a comparison of the trained data (dots) and the predicted data (stars). This plot shows that the predictions align well with the trained data."
   ]
  },
  {
   "cell_type": "code",
   "execution_count": 4,
   "metadata": {
    "execution": {
     "iopub.execute_input": "2024-08-07T16:39:16.068484Z",
     "iopub.status.busy": "2024-08-07T16:39:16.068069Z",
     "iopub.status.idle": "2024-08-07T16:39:16.260478Z",
     "shell.execute_reply": "2024-08-07T16:39:16.259778Z"
    }
   },
   "outputs": [
    {
     "data": {
      "application/vnd.plotly.v1+json": {
       "config": {
        "plotlyServerURL": "https://plot.ly"
       },
       "data": [
        {
         "legendgroup": "trained",
         "legendgrouptitle": {
          "text": "Trained class"
         },
         "marker": {
          "color": "#1F77B4",
          "opacity": 0.75
         },
         "mode": "markers",
         "name": "Iris-setosa",
         "type": "scatter",
         "x": [
          1.5,
          1.2,
          1.6,
          1.7,
          1.7,
          1.5,
          1.6,
          1.3,
          1.6,
          1.4,
          1,
          1.5,
          1.4,
          1.3,
          1.7,
          1.4,
          1.3,
          1.5,
          1.4,
          1.1,
          1.4,
          1.2,
          1.9,
          1.6,
          1.5,
          1.9,
          1.5,
          1.5,
          1.5,
          1.3,
          1.4,
          1.6,
          1.4,
          1.6,
          1.4,
          1.5,
          1.5,
          1.6,
          1.5,
          1.4,
          1.3,
          1.7,
          1.5
         ],
         "y": [
          0.2,
          0.2,
          0.2,
          0.2,
          0.3,
          0.4,
          0.6,
          0.4,
          0.2,
          0.2,
          0.2,
          0.3,
          0.2,
          0.3,
          0.4,
          0.3,
          0.3,
          0.1,
          0.3,
          0.1,
          0.1,
          0.2,
          0.2,
          0.4,
          0.1,
          0.4,
          0.2,
          0.2,
          0.2,
          0.2,
          0.2,
          0.2,
          0.2,
          0.2,
          0.3,
          0.2,
          0.1,
          0.2,
          0.2,
          0.2,
          0.2,
          0.5,
          0.4
         ]
        },
        {
         "legendgroup": "trained",
         "legendgrouptitle": {
          "text": "Trained class"
         },
         "marker": {
          "color": "#FF7F0E",
          "opacity": 0.75
         },
         "mode": "markers",
         "name": "Iris-versicolor",
         "type": "scatter",
         "x": [
          3.9,
          4.3,
          4.8,
          3,
          4.2,
          5,
          3.7,
          4.7,
          4.7,
          4.6,
          4.6,
          4,
          4.4,
          4.6,
          4.5,
          3.3,
          4.5,
          4.8,
          4.5,
          4.5,
          4.9,
          3.5,
          4.1,
          4,
          4.5,
          4.7,
          3.3,
          3.9,
          4.2,
          3.9,
          4.7,
          4.3,
          3.5,
          4.9,
          3.6,
          3.8,
          4.4,
          4.2,
          4.7,
          4.1
         ],
         "y": [
          1.2,
          1.3,
          1.8,
          1.1,
          1.3,
          1.7,
          1,
          1.6,
          1.4,
          1.5,
          1.4,
          1.3,
          1.4,
          1.3,
          1.6,
          1,
          1.5,
          1.4,
          1.3,
          1.5,
          1.5,
          1,
          1,
          1.3,
          1.5,
          1.4,
          1,
          1.1,
          1.3,
          1.4,
          1.2,
          1.3,
          1,
          1.5,
          1.3,
          1.1,
          1.2,
          1.2,
          1.5,
          1.3
         ]
        },
        {
         "legendgroup": "trained",
         "legendgrouptitle": {
          "text": "Trained class"
         },
         "marker": {
          "color": "#2CA02C",
          "opacity": 0.75
         },
         "mode": "markers",
         "name": "Iris-virginica",
         "type": "scatter",
         "x": [
          5.5,
          5.1,
          5.2,
          4.9,
          6,
          5.6,
          5.2,
          6.7,
          6.9,
          5.9,
          6.3,
          5.9,
          5,
          5.6,
          5.1,
          5.8,
          5.6,
          6.1,
          5.6,
          6.1,
          5.5,
          6.6,
          5.7,
          5.8,
          5.1,
          6.4,
          6.7,
          5.5,
          5.6,
          4.9,
          5.7,
          5.1,
          5.4,
          5.3,
          5.4,
          4.9,
          5.3
         ],
         "y": [
          1.8,
          1.8,
          2,
          2,
          2.5,
          2.4,
          2.3,
          2.2,
          2.3,
          2.3,
          1.8,
          2.1,
          1.5,
          2.1,
          1.9,
          1.6,
          2.2,
          2.5,
          1.8,
          2.3,
          1.8,
          2.1,
          2.3,
          2.2,
          2.4,
          2,
          2,
          2.1,
          2.4,
          1.8,
          2.5,
          1.5,
          2.3,
          1.9,
          2.1,
          1.8,
          2.3
         ]
        },
        {
         "hovertext": [
          6,
          12,
          15,
          16,
          20,
          23,
          24
         ],
         "legendgroup": "predicted",
         "legendgrouptitle": {
          "text": "Predicted class"
         },
         "marker": {
          "color": "#1F77B4",
          "opacity": 0.75,
          "size": 12,
          "symbol": "star"
         },
         "mode": "markers",
         "name": "Iris-setosa",
         "type": "scatter",
         "x": [
          1.4,
          1.5,
          1.4,
          1.3,
          1.5,
          1.4,
          1.3
         ],
         "y": [
          0.2,
          0.1,
          0.2,
          0.2,
          0.4,
          0.2,
          0.2
         ]
        },
        {
         "hovertext": [
          0,
          4,
          5,
          8,
          9,
          11,
          14,
          19,
          21,
          22,
          27
         ],
         "legendgroup": "predicted",
         "legendgrouptitle": {
          "text": "Predicted class"
         },
         "marker": {
          "color": "#FF7F0E",
          "opacity": 0.75,
          "size": 12,
          "symbol": "star"
         },
         "mode": "markers",
         "name": "Iris-versicolor",
         "type": "scatter",
         "x": [
          4.4,
          5.6,
          4.1,
          4.4,
          4,
          4.5,
          4.2,
          4.5,
          4,
          4,
          4.5
         ],
         "y": [
          1.4,
          1.4,
          1.3,
          1.3,
          1.3,
          1.5,
          1.5,
          1.7,
          1.2,
          1,
          1.5
         ]
        },
        {
         "hovertext": [
          1,
          2,
          3,
          7,
          10,
          13,
          17,
          18,
          25,
          26,
          28,
          29
         ],
         "legendgroup": "predicted",
         "legendgrouptitle": {
          "text": "Predicted class"
         },
         "marker": {
          "color": "#2CA02C",
          "opacity": 0.75,
          "size": 12,
          "symbol": "star"
         },
         "mode": "markers",
         "name": "Iris-virginica",
         "type": "scatter",
         "x": [
          5,
          5.1,
          5,
          5.1,
          5.1,
          5.1,
          4.8,
          5.8,
          4.8,
          5.7,
          6,
          6.1
         ],
         "y": [
          1.9,
          2.3,
          2,
          2,
          1.9,
          1.6,
          1.8,
          1.8,
          1.8,
          2.1,
          1.8,
          1.9
         ]
        }
       ],
       "layout": {
        "template": {
         "data": {
          "bar": [
           {
            "error_x": {
             "color": "#2a3f5f"
            },
            "error_y": {
             "color": "#2a3f5f"
            },
            "marker": {
             "line": {
              "color": "#E5ECF6",
              "width": 0.5
             },
             "pattern": {
              "fillmode": "overlay",
              "size": 10,
              "solidity": 0.2
             }
            },
            "type": "bar"
           }
          ],
          "barpolar": [
           {
            "marker": {
             "line": {
              "color": "#E5ECF6",
              "width": 0.5
             },
             "pattern": {
              "fillmode": "overlay",
              "size": 10,
              "solidity": 0.2
             }
            },
            "type": "barpolar"
           }
          ],
          "carpet": [
           {
            "aaxis": {
             "endlinecolor": "#2a3f5f",
             "gridcolor": "white",
             "linecolor": "white",
             "minorgridcolor": "white",
             "startlinecolor": "#2a3f5f"
            },
            "baxis": {
             "endlinecolor": "#2a3f5f",
             "gridcolor": "white",
             "linecolor": "white",
             "minorgridcolor": "white",
             "startlinecolor": "#2a3f5f"
            },
            "type": "carpet"
           }
          ],
          "choropleth": [
           {
            "colorbar": {
             "outlinewidth": 0,
             "ticks": ""
            },
            "type": "choropleth"
           }
          ],
          "contour": [
           {
            "colorbar": {
             "outlinewidth": 0,
             "ticks": ""
            },
            "colorscale": [
             [
              0,
              "#0d0887"
             ],
             [
              0.1111111111111111,
              "#46039f"
             ],
             [
              0.2222222222222222,
              "#7201a8"
             ],
             [
              0.3333333333333333,
              "#9c179e"
             ],
             [
              0.4444444444444444,
              "#bd3786"
             ],
             [
              0.5555555555555556,
              "#d8576b"
             ],
             [
              0.6666666666666666,
              "#ed7953"
             ],
             [
              0.7777777777777778,
              "#fb9f3a"
             ],
             [
              0.8888888888888888,
              "#fdca26"
             ],
             [
              1,
              "#f0f921"
             ]
            ],
            "type": "contour"
           }
          ],
          "contourcarpet": [
           {
            "colorbar": {
             "outlinewidth": 0,
             "ticks": ""
            },
            "type": "contourcarpet"
           }
          ],
          "heatmap": [
           {
            "colorbar": {
             "outlinewidth": 0,
             "ticks": ""
            },
            "colorscale": [
             [
              0,
              "#0d0887"
             ],
             [
              0.1111111111111111,
              "#46039f"
             ],
             [
              0.2222222222222222,
              "#7201a8"
             ],
             [
              0.3333333333333333,
              "#9c179e"
             ],
             [
              0.4444444444444444,
              "#bd3786"
             ],
             [
              0.5555555555555556,
              "#d8576b"
             ],
             [
              0.6666666666666666,
              "#ed7953"
             ],
             [
              0.7777777777777778,
              "#fb9f3a"
             ],
             [
              0.8888888888888888,
              "#fdca26"
             ],
             [
              1,
              "#f0f921"
             ]
            ],
            "type": "heatmap"
           }
          ],
          "heatmapgl": [
           {
            "colorbar": {
             "outlinewidth": 0,
             "ticks": ""
            },
            "colorscale": [
             [
              0,
              "#0d0887"
             ],
             [
              0.1111111111111111,
              "#46039f"
             ],
             [
              0.2222222222222222,
              "#7201a8"
             ],
             [
              0.3333333333333333,
              "#9c179e"
             ],
             [
              0.4444444444444444,
              "#bd3786"
             ],
             [
              0.5555555555555556,
              "#d8576b"
             ],
             [
              0.6666666666666666,
              "#ed7953"
             ],
             [
              0.7777777777777778,
              "#fb9f3a"
             ],
             [
              0.8888888888888888,
              "#fdca26"
             ],
             [
              1,
              "#f0f921"
             ]
            ],
            "type": "heatmapgl"
           }
          ],
          "histogram": [
           {
            "marker": {
             "pattern": {
              "fillmode": "overlay",
              "size": 10,
              "solidity": 0.2
             }
            },
            "type": "histogram"
           }
          ],
          "histogram2d": [
           {
            "colorbar": {
             "outlinewidth": 0,
             "ticks": ""
            },
            "colorscale": [
             [
              0,
              "#0d0887"
             ],
             [
              0.1111111111111111,
              "#46039f"
             ],
             [
              0.2222222222222222,
              "#7201a8"
             ],
             [
              0.3333333333333333,
              "#9c179e"
             ],
             [
              0.4444444444444444,
              "#bd3786"
             ],
             [
              0.5555555555555556,
              "#d8576b"
             ],
             [
              0.6666666666666666,
              "#ed7953"
             ],
             [
              0.7777777777777778,
              "#fb9f3a"
             ],
             [
              0.8888888888888888,
              "#fdca26"
             ],
             [
              1,
              "#f0f921"
             ]
            ],
            "type": "histogram2d"
           }
          ],
          "histogram2dcontour": [
           {
            "colorbar": {
             "outlinewidth": 0,
             "ticks": ""
            },
            "colorscale": [
             [
              0,
              "#0d0887"
             ],
             [
              0.1111111111111111,
              "#46039f"
             ],
             [
              0.2222222222222222,
              "#7201a8"
             ],
             [
              0.3333333333333333,
              "#9c179e"
             ],
             [
              0.4444444444444444,
              "#bd3786"
             ],
             [
              0.5555555555555556,
              "#d8576b"
             ],
             [
              0.6666666666666666,
              "#ed7953"
             ],
             [
              0.7777777777777778,
              "#fb9f3a"
             ],
             [
              0.8888888888888888,
              "#fdca26"
             ],
             [
              1,
              "#f0f921"
             ]
            ],
            "type": "histogram2dcontour"
           }
          ],
          "mesh3d": [
           {
            "colorbar": {
             "outlinewidth": 0,
             "ticks": ""
            },
            "type": "mesh3d"
           }
          ],
          "parcoords": [
           {
            "line": {
             "colorbar": {
              "outlinewidth": 0,
              "ticks": ""
             }
            },
            "type": "parcoords"
           }
          ],
          "pie": [
           {
            "automargin": true,
            "type": "pie"
           }
          ],
          "scatter": [
           {
            "fillpattern": {
             "fillmode": "overlay",
             "size": 10,
             "solidity": 0.2
            },
            "type": "scatter"
           }
          ],
          "scatter3d": [
           {
            "line": {
             "colorbar": {
              "outlinewidth": 0,
              "ticks": ""
             }
            },
            "marker": {
             "colorbar": {
              "outlinewidth": 0,
              "ticks": ""
             }
            },
            "type": "scatter3d"
           }
          ],
          "scattercarpet": [
           {
            "marker": {
             "colorbar": {
              "outlinewidth": 0,
              "ticks": ""
             }
            },
            "type": "scattercarpet"
           }
          ],
          "scattergeo": [
           {
            "marker": {
             "colorbar": {
              "outlinewidth": 0,
              "ticks": ""
             }
            },
            "type": "scattergeo"
           }
          ],
          "scattergl": [
           {
            "marker": {
             "colorbar": {
              "outlinewidth": 0,
              "ticks": ""
             }
            },
            "type": "scattergl"
           }
          ],
          "scattermapbox": [
           {
            "marker": {
             "colorbar": {
              "outlinewidth": 0,
              "ticks": ""
             }
            },
            "type": "scattermapbox"
           }
          ],
          "scatterpolar": [
           {
            "marker": {
             "colorbar": {
              "outlinewidth": 0,
              "ticks": ""
             }
            },
            "type": "scatterpolar"
           }
          ],
          "scatterpolargl": [
           {
            "marker": {
             "colorbar": {
              "outlinewidth": 0,
              "ticks": ""
             }
            },
            "type": "scatterpolargl"
           }
          ],
          "scatterternary": [
           {
            "marker": {
             "colorbar": {
              "outlinewidth": 0,
              "ticks": ""
             }
            },
            "type": "scatterternary"
           }
          ],
          "surface": [
           {
            "colorbar": {
             "outlinewidth": 0,
             "ticks": ""
            },
            "colorscale": [
             [
              0,
              "#0d0887"
             ],
             [
              0.1111111111111111,
              "#46039f"
             ],
             [
              0.2222222222222222,
              "#7201a8"
             ],
             [
              0.3333333333333333,
              "#9c179e"
             ],
             [
              0.4444444444444444,
              "#bd3786"
             ],
             [
              0.5555555555555556,
              "#d8576b"
             ],
             [
              0.6666666666666666,
              "#ed7953"
             ],
             [
              0.7777777777777778,
              "#fb9f3a"
             ],
             [
              0.8888888888888888,
              "#fdca26"
             ],
             [
              1,
              "#f0f921"
             ]
            ],
            "type": "surface"
           }
          ],
          "table": [
           {
            "cells": {
             "fill": {
              "color": "#EBF0F8"
             },
             "line": {
              "color": "white"
             }
            },
            "header": {
             "fill": {
              "color": "#C8D4E3"
             },
             "line": {
              "color": "white"
             }
            },
            "type": "table"
           }
          ]
         },
         "layout": {
          "annotationdefaults": {
           "arrowcolor": "#2a3f5f",
           "arrowhead": 0,
           "arrowwidth": 1
          },
          "autotypenumbers": "strict",
          "coloraxis": {
           "colorbar": {
            "outlinewidth": 0,
            "ticks": ""
           }
          },
          "colorscale": {
           "diverging": [
            [
             0,
             "#8e0152"
            ],
            [
             0.1,
             "#c51b7d"
            ],
            [
             0.2,
             "#de77ae"
            ],
            [
             0.3,
             "#f1b6da"
            ],
            [
             0.4,
             "#fde0ef"
            ],
            [
             0.5,
             "#f7f7f7"
            ],
            [
             0.6,
             "#e6f5d0"
            ],
            [
             0.7,
             "#b8e186"
            ],
            [
             0.8,
             "#7fbc41"
            ],
            [
             0.9,
             "#4d9221"
            ],
            [
             1,
             "#276419"
            ]
           ],
           "sequential": [
            [
             0,
             "#0d0887"
            ],
            [
             0.1111111111111111,
             "#46039f"
            ],
            [
             0.2222222222222222,
             "#7201a8"
            ],
            [
             0.3333333333333333,
             "#9c179e"
            ],
            [
             0.4444444444444444,
             "#bd3786"
            ],
            [
             0.5555555555555556,
             "#d8576b"
            ],
            [
             0.6666666666666666,
             "#ed7953"
            ],
            [
             0.7777777777777778,
             "#fb9f3a"
            ],
            [
             0.8888888888888888,
             "#fdca26"
            ],
            [
             1,
             "#f0f921"
            ]
           ],
           "sequentialminus": [
            [
             0,
             "#0d0887"
            ],
            [
             0.1111111111111111,
             "#46039f"
            ],
            [
             0.2222222222222222,
             "#7201a8"
            ],
            [
             0.3333333333333333,
             "#9c179e"
            ],
            [
             0.4444444444444444,
             "#bd3786"
            ],
            [
             0.5555555555555556,
             "#d8576b"
            ],
            [
             0.6666666666666666,
             "#ed7953"
            ],
            [
             0.7777777777777778,
             "#fb9f3a"
            ],
            [
             0.8888888888888888,
             "#fdca26"
            ],
            [
             1,
             "#f0f921"
            ]
           ]
          },
          "colorway": [
           "#636efa",
           "#EF553B",
           "#00cc96",
           "#ab63fa",
           "#FFA15A",
           "#19d3f3",
           "#FF6692",
           "#B6E880",
           "#FF97FF",
           "#FECB52"
          ],
          "font": {
           "color": "#2a3f5f"
          },
          "geo": {
           "bgcolor": "white",
           "lakecolor": "white",
           "landcolor": "#E5ECF6",
           "showlakes": true,
           "showland": true,
           "subunitcolor": "white"
          },
          "hoverlabel": {
           "align": "left"
          },
          "hovermode": "closest",
          "mapbox": {
           "style": "light"
          },
          "paper_bgcolor": "white",
          "plot_bgcolor": "#E5ECF6",
          "polar": {
           "angularaxis": {
            "gridcolor": "white",
            "linecolor": "white",
            "ticks": ""
           },
           "bgcolor": "#E5ECF6",
           "radialaxis": {
            "gridcolor": "white",
            "linecolor": "white",
            "ticks": ""
           }
          },
          "scene": {
           "xaxis": {
            "backgroundcolor": "#E5ECF6",
            "gridcolor": "white",
            "gridwidth": 2,
            "linecolor": "white",
            "showbackground": true,
            "ticks": "",
            "zerolinecolor": "white"
           },
           "yaxis": {
            "backgroundcolor": "#E5ECF6",
            "gridcolor": "white",
            "gridwidth": 2,
            "linecolor": "white",
            "showbackground": true,
            "ticks": "",
            "zerolinecolor": "white"
           },
           "zaxis": {
            "backgroundcolor": "#E5ECF6",
            "gridcolor": "white",
            "gridwidth": 2,
            "linecolor": "white",
            "showbackground": true,
            "ticks": "",
            "zerolinecolor": "white"
           }
          },
          "shapedefaults": {
           "line": {
            "color": "#2a3f5f"
           }
          },
          "ternary": {
           "aaxis": {
            "gridcolor": "white",
            "linecolor": "white",
            "ticks": ""
           },
           "baxis": {
            "gridcolor": "white",
            "linecolor": "white",
            "ticks": ""
           },
           "bgcolor": "#E5ECF6",
           "caxis": {
            "gridcolor": "white",
            "linecolor": "white",
            "ticks": ""
           }
          },
          "title": {
           "x": 0.05
          },
          "xaxis": {
           "automargin": true,
           "gridcolor": "white",
           "linecolor": "white",
           "ticks": "",
           "title": {
            "standoff": 15
           },
           "zerolinecolor": "white",
           "zerolinewidth": 2
          },
          "yaxis": {
           "automargin": true,
           "gridcolor": "white",
           "linecolor": "white",
           "ticks": "",
           "title": {
            "standoff": 15
           },
           "zerolinecolor": "white",
           "zerolinewidth": 2
          }
         }
        },
        "title": {
         "text": "Trained and Predicted Values"
        },
        "width": 1250,
        "xaxis": {
         "title": {
          "text": "Petal Length"
         }
        },
        "yaxis": {
         "title": {
          "text": "Petal Width"
         }
        }
       }
      }
     },
     "metadata": {},
     "output_type": "display_data"
    }
   ],
   "source": [
    "train_data = train_data.astype({\"class\": str})\n",
    "predicted_data = pd.concat([new_data.reset_index(drop=True).drop(columns=\"class\"), reaction[\"action\"]], axis=1)\n",
    "predicted_data = predicted_data.astype({\"class\": str})\n",
    "\n",
    "cmap = px.colors.qualitative.D3\n",
    "fig = go.Figure()\n",
    "for i, (label, group) in enumerate(train_data.groupby(\"class\")):\n",
    "    fig.add_trace(go.Scatter(\n",
    "        x=group[\"petal length\"],\n",
    "        y=group[\"petal width\"],\n",
    "        mode=\"markers\",\n",
    "        name=label,\n",
    "        marker=dict(color=cmap[i], opacity=0.75),\n",
    "        legendgroup=\"trained\",\n",
    "        legendgrouptitle_text=\"Trained class\",\n",
    "    ))\n",
    "\n",
    "for i, (label, group) in enumerate(predicted_data.groupby(\"class\")):\n",
    "    fig.add_trace(go.Scatter(\n",
    "        x=group[\"petal length\"],\n",
    "        y=group[\"petal width\"],\n",
    "        mode=\"markers\",\n",
    "        marker=dict(size=12, symbol=\"star\", color=cmap[i], opacity=0.75),\n",
    "        name=label,\n",
    "        legendgroup=\"predicted\",\n",
    "        legendgrouptitle_text=\"Predicted class\",\n",
    "        hovertext=group.index,\n",
    "    ))\n",
    "\n",
    "fig.update_layout(\n",
    "    xaxis_title=\"Petal Length\",\n",
    "    yaxis_title=\"Petal Width\",\n",
    "    width=1250,\n",
    "    title=\"Trained and Predicted Values\"\n",
    ")\n",
    "fig.show()"
   ]
  },
  {
   "cell_type": "markdown",
   "metadata": {},
   "source": [
    "For categorical action features, the prediction can be further understood with the `categorical_action_probabilities` detail.  \n",
    "This shows the probability of each possible value of the target feature. This information can highlight cases that are on the\n",
    "border of two classes, like some of the above points are.  The closer a case gets to a class border, the more mixed the\n",
    "categorical action probabilities may get."
   ]
  },
  {
   "cell_type": "code",
   "execution_count": 5,
   "metadata": {
    "execution": {
     "iopub.execute_input": "2024-08-07T16:39:16.301609Z",
     "iopub.status.busy": "2024-08-07T16:39:16.301121Z",
     "iopub.status.idle": "2024-08-07T16:39:16.306302Z",
     "shell.execute_reply": "2024-08-07T16:39:16.305757Z"
    }
   },
   "outputs": [
    {
     "name": "stdout",
     "output_type": "stream",
     "text": [
      "[{'class': {'Iris-versicolor': 1}},\n",
      " {'class': {'Iris-versicolor': 0.2595877181054522,\n",
      "            'Iris-virginica': 0.7404122818945479}},\n",
      " {'class': {'Iris-versicolor': 0.10797425100734902,\n",
      "            'Iris-virginica': 0.8920257489926509}},\n",
      " {'class': {'Iris-versicolor': 0.22567888149992943,\n",
      "            'Iris-virginica': 0.7743211185000707}},\n",
      " {'class': {'Iris-versicolor': 0.5287044940312792,\n",
      "            'Iris-virginica': 0.47129550596872083}},\n",
      " {'class': {'Iris-versicolor': 1}}, {'class': {'Iris-setosa': 1}},\n",
      " {'class': {'Iris-versicolor': 0.1589482692839984,\n",
      "            'Iris-virginica': 0.8410517307160016}},\n",
      " {'class': {'Iris-versicolor': 1}}, {'class': {'Iris-versicolor': 1}},\n",
      " {'class': {'Iris-virginica': 1}}, {'class': {'Iris-versicolor': 1}},\n",
      " {'class': {'Iris-setosa': 1}},\n",
      " {'class': {'Iris-versicolor': 0.2803732577088749,\n",
      "            'Iris-virginica': 0.7196267422911251}},\n",
      " {'class': {'Iris-versicolor': 0.9324674426706622,\n",
      "            'Iris-virginica': 0.06753255732933786}},\n",
      " {'class': {'Iris-setosa': 1}}, {'class': {'Iris-setosa': 1}},\n",
      " {'class': {'Iris-versicolor': 0.34846338352122763,\n",
      "            'Iris-virginica': 0.6515366164787724}},\n",
      " {'class': {'Iris-versicolor': 0.14072168496452672,\n",
      "            'Iris-virginica': 0.8592783150354734}},\n",
      " {'class': {'Iris-versicolor': 0.9362108844614864,\n",
      "            'Iris-virginica': 0.0637891155385137}},\n",
      " {'class': {'Iris-setosa': 1}}, {'class': {'Iris-versicolor': 1}},\n",
      " {'class': {'Iris-versicolor': 0.9189863757461606,\n",
      "            'Iris-virginica': 0.08101362425383933}},\n",
      " {'class': {'Iris-setosa': 1}}, {'class': {'Iris-setosa': 1}},\n",
      " {'class': {'Iris-versicolor': 0.3380379403457255,\n",
      "            'Iris-virginica': 0.6619620596542746}},\n",
      " {'class': {'Iris-virginica': 1}},\n",
      " {'class': {'Iris-versicolor': 0.9478596151611829,\n",
      "            'Iris-virginica': 0.052140384838817076}},\n",
      " {'class': {'Iris-versicolor': 0.11346364483409185,\n",
      "            'Iris-virginica': 0.886536355165908}},\n",
      " {'class': {'Iris-virginica': 1}}]\n"
     ]
    }
   ],
   "source": [
    "pprint(reaction[\"details\"][\"categorical_action_probabilities\"], compact=True)"
   ]
  },
  {
   "cell_type": "markdown",
   "metadata": {},
   "source": [
    "For example, if we look at case `4`, we see a mix of probabilities because this case is on the border of two classes."
   ]
  },
  {
   "cell_type": "code",
   "execution_count": 6,
   "metadata": {
    "execution": {
     "iopub.execute_input": "2024-08-07T16:39:16.308759Z",
     "iopub.status.busy": "2024-08-07T16:39:16.308363Z",
     "iopub.status.idle": "2024-08-07T16:39:16.312328Z",
     "shell.execute_reply": "2024-08-07T16:39:16.311860Z"
    }
   },
   "outputs": [
    {
     "data": {
      "text/plain": [
       "{'class': {'Iris-versicolor': 0.5287044940312792,\n",
       "  'Iris-virginica': 0.47129550596872083}}"
      ]
     },
     "execution_count": 6,
     "metadata": {},
     "output_type": "execute_result"
    }
   ],
   "source": [
    "reaction[\"details\"][\"categorical_action_probabilities\"][4]"
   ]
  },
  {
   "cell_type": "markdown",
   "metadata": {},
   "source": [
    "### Insight 1: Which Cases Contributed?\n",
    "\n",
    "Howso provides complete attribution for any and all predictions, showing exactly which cases influenced each prediction.  This can be used to understand or debug predictions.  For instance,\n",
    "we can inspect the influential cases for one of the cases (case `4`) that was on the decision boundary in the plot above.  We can see that there is a mix of class values and no cases stand\n",
    "out in terms of influence weight:"
   ]
  },
  {
   "cell_type": "code",
   "execution_count": 7,
   "metadata": {
    "execution": {
     "iopub.execute_input": "2024-08-07T16:39:16.314958Z",
     "iopub.status.busy": "2024-08-07T16:39:16.314465Z",
     "iopub.status.idle": "2024-08-07T16:39:16.326295Z",
     "shell.execute_reply": "2024-08-07T16:39:16.325781Z"
    }
   },
   "outputs": [
    {
     "data": {
      "text/html": [
       "<div>\n",
       "<style scoped>\n",
       "    .dataframe tbody tr th:only-of-type {\n",
       "        vertical-align: middle;\n",
       "    }\n",
       "\n",
       "    .dataframe tbody tr th {\n",
       "        vertical-align: top;\n",
       "    }\n",
       "\n",
       "    .dataframe thead th {\n",
       "        text-align: right;\n",
       "    }\n",
       "</style>\n",
       "<table border=\"1\" class=\"dataframe\">\n",
       "  <thead>\n",
       "    <tr style=\"text-align: right;\">\n",
       "      <th></th>\n",
       "      <th>sepal length</th>\n",
       "      <th>petal width</th>\n",
       "      <th>petal length</th>\n",
       "      <th>sepal width</th>\n",
       "      <th>.session_training_index</th>\n",
       "      <th>.session</th>\n",
       "      <th>.influence_weight</th>\n",
       "      <th>class</th>\n",
       "    </tr>\n",
       "  </thead>\n",
       "  <tbody>\n",
       "    <tr>\n",
       "      <th>0</th>\n",
       "      <td>6.1</td>\n",
       "      <td>1.4</td>\n",
       "      <td>4.7</td>\n",
       "      <td>2.9</td>\n",
       "      <td>89</td>\n",
       "      <td>02da825f-fb1c-4015-9a53-b9e876013a4b</td>\n",
       "      <td>0.131993</td>\n",
       "      <td>Iris-versicolor</td>\n",
       "    </tr>\n",
       "    <tr>\n",
       "      <th>1</th>\n",
       "      <td>6.1</td>\n",
       "      <td>1.4</td>\n",
       "      <td>4.6</td>\n",
       "      <td>3.0</td>\n",
       "      <td>26</td>\n",
       "      <td>02da825f-fb1c-4015-9a53-b9e876013a4b</td>\n",
       "      <td>0.110173</td>\n",
       "      <td>Iris-versicolor</td>\n",
       "    </tr>\n",
       "    <tr>\n",
       "      <th>2</th>\n",
       "      <td>6.3</td>\n",
       "      <td>1.8</td>\n",
       "      <td>5.6</td>\n",
       "      <td>2.9</td>\n",
       "      <td>61</td>\n",
       "      <td>02da825f-fb1c-4015-9a53-b9e876013a4b</td>\n",
       "      <td>0.087547</td>\n",
       "      <td>Iris-virginica</td>\n",
       "    </tr>\n",
       "    <tr>\n",
       "      <th>3</th>\n",
       "      <td>6.1</td>\n",
       "      <td>1.2</td>\n",
       "      <td>4.7</td>\n",
       "      <td>2.8</td>\n",
       "      <td>100</td>\n",
       "      <td>02da825f-fb1c-4015-9a53-b9e876013a4b</td>\n",
       "      <td>0.076784</td>\n",
       "      <td>Iris-versicolor</td>\n",
       "    </tr>\n",
       "    <tr>\n",
       "      <th>4</th>\n",
       "      <td>6.3</td>\n",
       "      <td>1.5</td>\n",
       "      <td>4.9</td>\n",
       "      <td>2.5</td>\n",
       "      <td>107</td>\n",
       "      <td>02da825f-fb1c-4015-9a53-b9e876013a4b</td>\n",
       "      <td>0.076571</td>\n",
       "      <td>Iris-versicolor</td>\n",
       "    </tr>\n",
       "    <tr>\n",
       "      <th>5</th>\n",
       "      <td>6.3</td>\n",
       "      <td>1.5</td>\n",
       "      <td>5.1</td>\n",
       "      <td>2.8</td>\n",
       "      <td>99</td>\n",
       "      <td>02da825f-fb1c-4015-9a53-b9e876013a4b</td>\n",
       "      <td>0.074902</td>\n",
       "      <td>Iris-virginica</td>\n",
       "    </tr>\n",
       "    <tr>\n",
       "      <th>6</th>\n",
       "      <td>6.4</td>\n",
       "      <td>2.1</td>\n",
       "      <td>5.6</td>\n",
       "      <td>2.8</td>\n",
       "      <td>36</td>\n",
       "      <td>02da825f-fb1c-4015-9a53-b9e876013a4b</td>\n",
       "      <td>0.068016</td>\n",
       "      <td>Iris-virginica</td>\n",
       "    </tr>\n",
       "    <tr>\n",
       "      <th>7</th>\n",
       "      <td>6.1</td>\n",
       "      <td>1.3</td>\n",
       "      <td>4.0</td>\n",
       "      <td>2.8</td>\n",
       "      <td>30</td>\n",
       "      <td>02da825f-fb1c-4015-9a53-b9e876013a4b</td>\n",
       "      <td>0.067571</td>\n",
       "      <td>Iris-versicolor</td>\n",
       "    </tr>\n",
       "    <tr>\n",
       "      <th>8</th>\n",
       "      <td>6.8</td>\n",
       "      <td>1.4</td>\n",
       "      <td>4.8</td>\n",
       "      <td>2.8</td>\n",
       "      <td>57</td>\n",
       "      <td>02da825f-fb1c-4015-9a53-b9e876013a4b</td>\n",
       "      <td>0.065613</td>\n",
       "      <td>Iris-versicolor</td>\n",
       "    </tr>\n",
       "    <tr>\n",
       "      <th>9</th>\n",
       "      <td>6.0</td>\n",
       "      <td>1.5</td>\n",
       "      <td>5.0</td>\n",
       "      <td>2.2</td>\n",
       "      <td>34</td>\n",
       "      <td>02da825f-fb1c-4015-9a53-b9e876013a4b</td>\n",
       "      <td>0.065126</td>\n",
       "      <td>Iris-virginica</td>\n",
       "    </tr>\n",
       "    <tr>\n",
       "      <th>10</th>\n",
       "      <td>6.4</td>\n",
       "      <td>2.2</td>\n",
       "      <td>5.6</td>\n",
       "      <td>2.8</td>\n",
       "      <td>46</td>\n",
       "      <td>02da825f-fb1c-4015-9a53-b9e876013a4b</td>\n",
       "      <td>0.063409</td>\n",
       "      <td>Iris-virginica</td>\n",
       "    </tr>\n",
       "    <tr>\n",
       "      <th>11</th>\n",
       "      <td>6.4</td>\n",
       "      <td>1.9</td>\n",
       "      <td>5.3</td>\n",
       "      <td>2.7</td>\n",
       "      <td>103</td>\n",
       "      <td>02da825f-fb1c-4015-9a53-b9e876013a4b</td>\n",
       "      <td>0.056347</td>\n",
       "      <td>Iris-virginica</td>\n",
       "    </tr>\n",
       "    <tr>\n",
       "      <th>12</th>\n",
       "      <td>6.1</td>\n",
       "      <td>1.8</td>\n",
       "      <td>4.9</td>\n",
       "      <td>3.0</td>\n",
       "      <td>95</td>\n",
       "      <td>02da825f-fb1c-4015-9a53-b9e876013a4b</td>\n",
       "      <td>0.055948</td>\n",
       "      <td>Iris-virginica</td>\n",
       "    </tr>\n",
       "  </tbody>\n",
       "</table>\n",
       "</div>"
      ],
      "text/plain": [
       "    sepal length  petal width  petal length  sepal width  \\\n",
       "0            6.1          1.4           4.7          2.9   \n",
       "1            6.1          1.4           4.6          3.0   \n",
       "2            6.3          1.8           5.6          2.9   \n",
       "3            6.1          1.2           4.7          2.8   \n",
       "4            6.3          1.5           4.9          2.5   \n",
       "5            6.3          1.5           5.1          2.8   \n",
       "6            6.4          2.1           5.6          2.8   \n",
       "7            6.1          1.3           4.0          2.8   \n",
       "8            6.8          1.4           4.8          2.8   \n",
       "9            6.0          1.5           5.0          2.2   \n",
       "10           6.4          2.2           5.6          2.8   \n",
       "11           6.4          1.9           5.3          2.7   \n",
       "12           6.1          1.8           4.9          3.0   \n",
       "\n",
       "    .session_training_index                              .session  \\\n",
       "0                        89  02da825f-fb1c-4015-9a53-b9e876013a4b   \n",
       "1                        26  02da825f-fb1c-4015-9a53-b9e876013a4b   \n",
       "2                        61  02da825f-fb1c-4015-9a53-b9e876013a4b   \n",
       "3                       100  02da825f-fb1c-4015-9a53-b9e876013a4b   \n",
       "4                       107  02da825f-fb1c-4015-9a53-b9e876013a4b   \n",
       "5                        99  02da825f-fb1c-4015-9a53-b9e876013a4b   \n",
       "6                        36  02da825f-fb1c-4015-9a53-b9e876013a4b   \n",
       "7                        30  02da825f-fb1c-4015-9a53-b9e876013a4b   \n",
       "8                        57  02da825f-fb1c-4015-9a53-b9e876013a4b   \n",
       "9                        34  02da825f-fb1c-4015-9a53-b9e876013a4b   \n",
       "10                       46  02da825f-fb1c-4015-9a53-b9e876013a4b   \n",
       "11                      103  02da825f-fb1c-4015-9a53-b9e876013a4b   \n",
       "12                       95  02da825f-fb1c-4015-9a53-b9e876013a4b   \n",
       "\n",
       "    .influence_weight            class  \n",
       "0            0.131993  Iris-versicolor  \n",
       "1            0.110173  Iris-versicolor  \n",
       "2            0.087547   Iris-virginica  \n",
       "3            0.076784  Iris-versicolor  \n",
       "4            0.076571  Iris-versicolor  \n",
       "5            0.074902   Iris-virginica  \n",
       "6            0.068016   Iris-virginica  \n",
       "7            0.067571  Iris-versicolor  \n",
       "8            0.065613  Iris-versicolor  \n",
       "9            0.065126   Iris-virginica  \n",
       "10           0.063409   Iris-virginica  \n",
       "11           0.056347   Iris-virginica  \n",
       "12           0.055948   Iris-virginica  "
      ]
     },
     "execution_count": 7,
     "metadata": {},
     "output_type": "execute_result"
    }
   ],
   "source": [
    "inf_cases_4 = pd.DataFrame(reaction[\"details\"][\"influential_cases\"][4])\n",
    "inf_cases_4"
   ]
  },
  {
   "cell_type": "markdown",
   "metadata": {},
   "source": [
    "Compare that to the influential cases for case `20`, which is firmly in the center of the solo cluster.  Here we see a single class value."
   ]
  },
  {
   "cell_type": "code",
   "execution_count": 8,
   "metadata": {
    "execution": {
     "iopub.execute_input": "2024-08-07T16:39:16.328718Z",
     "iopub.status.busy": "2024-08-07T16:39:16.328317Z",
     "iopub.status.idle": "2024-08-07T16:39:16.339510Z",
     "shell.execute_reply": "2024-08-07T16:39:16.339018Z"
    }
   },
   "outputs": [
    {
     "data": {
      "text/html": [
       "<div>\n",
       "<style scoped>\n",
       "    .dataframe tbody tr th:only-of-type {\n",
       "        vertical-align: middle;\n",
       "    }\n",
       "\n",
       "    .dataframe tbody tr th {\n",
       "        vertical-align: top;\n",
       "    }\n",
       "\n",
       "    .dataframe thead th {\n",
       "        text-align: right;\n",
       "    }\n",
       "</style>\n",
       "<table border=\"1\" class=\"dataframe\">\n",
       "  <thead>\n",
       "    <tr style=\"text-align: right;\">\n",
       "      <th></th>\n",
       "      <th>sepal length</th>\n",
       "      <th>petal width</th>\n",
       "      <th>petal length</th>\n",
       "      <th>sepal width</th>\n",
       "      <th>.session_training_index</th>\n",
       "      <th>.session</th>\n",
       "      <th>.influence_weight</th>\n",
       "      <th>class</th>\n",
       "    </tr>\n",
       "  </thead>\n",
       "  <tbody>\n",
       "    <tr>\n",
       "      <th>0</th>\n",
       "      <td>5.0</td>\n",
       "      <td>0.4</td>\n",
       "      <td>1.6</td>\n",
       "      <td>3.4</td>\n",
       "      <td>63</td>\n",
       "      <td>02da825f-fb1c-4015-9a53-b9e876013a4b</td>\n",
       "      <td>0.136554</td>\n",
       "      <td>Iris-setosa</td>\n",
       "    </tr>\n",
       "    <tr>\n",
       "      <th>1</th>\n",
       "      <td>5.4</td>\n",
       "      <td>0.2</td>\n",
       "      <td>1.7</td>\n",
       "      <td>3.4</td>\n",
       "      <td>9</td>\n",
       "      <td>02da825f-fb1c-4015-9a53-b9e876013a4b</td>\n",
       "      <td>0.109539</td>\n",
       "      <td>Iris-setosa</td>\n",
       "    </tr>\n",
       "    <tr>\n",
       "      <th>2</th>\n",
       "      <td>5.1</td>\n",
       "      <td>0.2</td>\n",
       "      <td>1.5</td>\n",
       "      <td>3.4</td>\n",
       "      <td>85</td>\n",
       "      <td>02da825f-fb1c-4015-9a53-b9e876013a4b</td>\n",
       "      <td>0.091503</td>\n",
       "      <td>Iris-setosa</td>\n",
       "    </tr>\n",
       "    <tr>\n",
       "      <th>3</th>\n",
       "      <td>5.1</td>\n",
       "      <td>0.4</td>\n",
       "      <td>1.5</td>\n",
       "      <td>3.7</td>\n",
       "      <td>117</td>\n",
       "      <td>02da825f-fb1c-4015-9a53-b9e876013a4b</td>\n",
       "      <td>0.087319</td>\n",
       "      <td>Iris-setosa</td>\n",
       "    </tr>\n",
       "    <tr>\n",
       "      <th>4</th>\n",
       "      <td>5.0</td>\n",
       "      <td>0.2</td>\n",
       "      <td>1.5</td>\n",
       "      <td>3.4</td>\n",
       "      <td>69</td>\n",
       "      <td>02da825f-fb1c-4015-9a53-b9e876013a4b</td>\n",
       "      <td>0.079465</td>\n",
       "      <td>Iris-setosa</td>\n",
       "    </tr>\n",
       "    <tr>\n",
       "      <th>5</th>\n",
       "      <td>5.4</td>\n",
       "      <td>0.2</td>\n",
       "      <td>1.5</td>\n",
       "      <td>3.7</td>\n",
       "      <td>104</td>\n",
       "      <td>02da825f-fb1c-4015-9a53-b9e876013a4b</td>\n",
       "      <td>0.078597</td>\n",
       "      <td>Iris-setosa</td>\n",
       "    </tr>\n",
       "    <tr>\n",
       "      <th>6</th>\n",
       "      <td>5.4</td>\n",
       "      <td>0.4</td>\n",
       "      <td>1.3</td>\n",
       "      <td>3.9</td>\n",
       "      <td>21</td>\n",
       "      <td>02da825f-fb1c-4015-9a53-b9e876013a4b</td>\n",
       "      <td>0.075887</td>\n",
       "      <td>Iris-setosa</td>\n",
       "    </tr>\n",
       "    <tr>\n",
       "      <th>7</th>\n",
       "      <td>5.4</td>\n",
       "      <td>0.4</td>\n",
       "      <td>1.7</td>\n",
       "      <td>3.9</td>\n",
       "      <td>47</td>\n",
       "      <td>02da825f-fb1c-4015-9a53-b9e876013a4b</td>\n",
       "      <td>0.075887</td>\n",
       "      <td>Iris-setosa</td>\n",
       "    </tr>\n",
       "    <tr>\n",
       "      <th>8</th>\n",
       "      <td>5.2</td>\n",
       "      <td>0.2</td>\n",
       "      <td>1.4</td>\n",
       "      <td>3.4</td>\n",
       "      <td>43</td>\n",
       "      <td>02da825f-fb1c-4015-9a53-b9e876013a4b</td>\n",
       "      <td>0.064999</td>\n",
       "      <td>Iris-setosa</td>\n",
       "    </tr>\n",
       "    <tr>\n",
       "      <th>9</th>\n",
       "      <td>5.2</td>\n",
       "      <td>0.2</td>\n",
       "      <td>1.5</td>\n",
       "      <td>3.5</td>\n",
       "      <td>0</td>\n",
       "      <td>02da825f-fb1c-4015-9a53-b9e876013a4b</td>\n",
       "      <td>0.060321</td>\n",
       "      <td>Iris-setosa</td>\n",
       "    </tr>\n",
       "    <tr>\n",
       "      <th>10</th>\n",
       "      <td>5.3</td>\n",
       "      <td>0.2</td>\n",
       "      <td>1.5</td>\n",
       "      <td>3.7</td>\n",
       "      <td>68</td>\n",
       "      <td>02da825f-fb1c-4015-9a53-b9e876013a4b</td>\n",
       "      <td>0.050082</td>\n",
       "      <td>Iris-setosa</td>\n",
       "    </tr>\n",
       "    <tr>\n",
       "      <th>11</th>\n",
       "      <td>4.6</td>\n",
       "      <td>0.3</td>\n",
       "      <td>1.4</td>\n",
       "      <td>3.4</td>\n",
       "      <td>83</td>\n",
       "      <td>02da825f-fb1c-4015-9a53-b9e876013a4b</td>\n",
       "      <td>0.045532</td>\n",
       "      <td>Iris-setosa</td>\n",
       "    </tr>\n",
       "    <tr>\n",
       "      <th>12</th>\n",
       "      <td>5.1</td>\n",
       "      <td>0.3</td>\n",
       "      <td>1.4</td>\n",
       "      <td>3.5</td>\n",
       "      <td>48</td>\n",
       "      <td>02da825f-fb1c-4015-9a53-b9e876013a4b</td>\n",
       "      <td>0.044316</td>\n",
       "      <td>Iris-setosa</td>\n",
       "    </tr>\n",
       "  </tbody>\n",
       "</table>\n",
       "</div>"
      ],
      "text/plain": [
       "    sepal length  petal width  petal length  sepal width  \\\n",
       "0            5.0          0.4           1.6          3.4   \n",
       "1            5.4          0.2           1.7          3.4   \n",
       "2            5.1          0.2           1.5          3.4   \n",
       "3            5.1          0.4           1.5          3.7   \n",
       "4            5.0          0.2           1.5          3.4   \n",
       "5            5.4          0.2           1.5          3.7   \n",
       "6            5.4          0.4           1.3          3.9   \n",
       "7            5.4          0.4           1.7          3.9   \n",
       "8            5.2          0.2           1.4          3.4   \n",
       "9            5.2          0.2           1.5          3.5   \n",
       "10           5.3          0.2           1.5          3.7   \n",
       "11           4.6          0.3           1.4          3.4   \n",
       "12           5.1          0.3           1.4          3.5   \n",
       "\n",
       "    .session_training_index                              .session  \\\n",
       "0                        63  02da825f-fb1c-4015-9a53-b9e876013a4b   \n",
       "1                         9  02da825f-fb1c-4015-9a53-b9e876013a4b   \n",
       "2                        85  02da825f-fb1c-4015-9a53-b9e876013a4b   \n",
       "3                       117  02da825f-fb1c-4015-9a53-b9e876013a4b   \n",
       "4                        69  02da825f-fb1c-4015-9a53-b9e876013a4b   \n",
       "5                       104  02da825f-fb1c-4015-9a53-b9e876013a4b   \n",
       "6                        21  02da825f-fb1c-4015-9a53-b9e876013a4b   \n",
       "7                        47  02da825f-fb1c-4015-9a53-b9e876013a4b   \n",
       "8                        43  02da825f-fb1c-4015-9a53-b9e876013a4b   \n",
       "9                         0  02da825f-fb1c-4015-9a53-b9e876013a4b   \n",
       "10                       68  02da825f-fb1c-4015-9a53-b9e876013a4b   \n",
       "11                       83  02da825f-fb1c-4015-9a53-b9e876013a4b   \n",
       "12                       48  02da825f-fb1c-4015-9a53-b9e876013a4b   \n",
       "\n",
       "    .influence_weight        class  \n",
       "0            0.136554  Iris-setosa  \n",
       "1            0.109539  Iris-setosa  \n",
       "2            0.091503  Iris-setosa  \n",
       "3            0.087319  Iris-setosa  \n",
       "4            0.079465  Iris-setosa  \n",
       "5            0.078597  Iris-setosa  \n",
       "6            0.075887  Iris-setosa  \n",
       "7            0.075887  Iris-setosa  \n",
       "8            0.064999  Iris-setosa  \n",
       "9            0.060321  Iris-setosa  \n",
       "10           0.050082  Iris-setosa  \n",
       "11           0.045532  Iris-setosa  \n",
       "12           0.044316  Iris-setosa  "
      ]
     },
     "execution_count": 8,
     "metadata": {},
     "output_type": "execute_result"
    }
   ],
   "source": [
    "inf_cases_20 = pd.DataFrame(reaction[\"details\"][\"influential_cases\"][20])\n",
    "inf_cases_20"
   ]
  },
  {
   "cell_type": "markdown",
   "metadata": {},
   "source": [
    "With the influential cases we can derive additional insights, such as identifying anomalous cases from within the influential cases using `similarity_conviction`.  \n",
    "This can help to identify data that are making predictions more noisy or identify what type of data should be collected to improve predictive power in the future."
   ]
  },
  {
   "cell_type": "code",
   "execution_count": 9,
   "metadata": {
    "execution": {
     "iopub.execute_input": "2024-08-07T16:39:16.342048Z",
     "iopub.status.busy": "2024-08-07T16:39:16.341660Z",
     "iopub.status.idle": "2024-08-07T16:39:16.354816Z",
     "shell.execute_reply": "2024-08-07T16:39:16.354320Z"
    }
   },
   "outputs": [
    {
     "data": {
      "text/html": [
       "<div>\n",
       "<style scoped>\n",
       "    .dataframe tbody tr th:only-of-type {\n",
       "        vertical-align: middle;\n",
       "    }\n",
       "\n",
       "    .dataframe tbody tr th {\n",
       "        vertical-align: top;\n",
       "    }\n",
       "\n",
       "    .dataframe thead th {\n",
       "        text-align: right;\n",
       "    }\n",
       "</style>\n",
       "<table border=\"1\" class=\"dataframe\">\n",
       "  <thead>\n",
       "    <tr style=\"text-align: right;\">\n",
       "      <th></th>\n",
       "      <th>sepal length</th>\n",
       "      <th>sepal width</th>\n",
       "      <th>petal length</th>\n",
       "      <th>petal width</th>\n",
       "      <th>class</th>\n",
       "      <th>similarity_conviction</th>\n",
       "    </tr>\n",
       "  </thead>\n",
       "  <tbody>\n",
       "    <tr>\n",
       "      <th>9</th>\n",
       "      <td>6.0</td>\n",
       "      <td>2.2</td>\n",
       "      <td>5.0</td>\n",
       "      <td>1.5</td>\n",
       "      <td>Iris-virginica</td>\n",
       "      <td>0.539232</td>\n",
       "    </tr>\n",
       "    <tr>\n",
       "      <th>4</th>\n",
       "      <td>6.3</td>\n",
       "      <td>2.5</td>\n",
       "      <td>4.9</td>\n",
       "      <td>1.5</td>\n",
       "      <td>Iris-versicolor</td>\n",
       "      <td>0.792197</td>\n",
       "    </tr>\n",
       "    <tr>\n",
       "      <th>5</th>\n",
       "      <td>6.3</td>\n",
       "      <td>2.8</td>\n",
       "      <td>5.1</td>\n",
       "      <td>1.5</td>\n",
       "      <td>Iris-virginica</td>\n",
       "      <td>0.898919</td>\n",
       "    </tr>\n",
       "    <tr>\n",
       "      <th>8</th>\n",
       "      <td>6.8</td>\n",
       "      <td>2.8</td>\n",
       "      <td>4.8</td>\n",
       "      <td>1.4</td>\n",
       "      <td>Iris-versicolor</td>\n",
       "      <td>0.979917</td>\n",
       "    </tr>\n",
       "    <tr>\n",
       "      <th>11</th>\n",
       "      <td>6.4</td>\n",
       "      <td>2.7</td>\n",
       "      <td>5.3</td>\n",
       "      <td>1.9</td>\n",
       "      <td>Iris-virginica</td>\n",
       "      <td>1.053634</td>\n",
       "    </tr>\n",
       "    <tr>\n",
       "      <th>1</th>\n",
       "      <td>6.1</td>\n",
       "      <td>3.0</td>\n",
       "      <td>4.6</td>\n",
       "      <td>1.4</td>\n",
       "      <td>Iris-versicolor</td>\n",
       "      <td>1.061953</td>\n",
       "    </tr>\n",
       "    <tr>\n",
       "      <th>3</th>\n",
       "      <td>6.1</td>\n",
       "      <td>2.8</td>\n",
       "      <td>4.7</td>\n",
       "      <td>1.2</td>\n",
       "      <td>Iris-versicolor</td>\n",
       "      <td>1.098214</td>\n",
       "    </tr>\n",
       "    <tr>\n",
       "      <th>2</th>\n",
       "      <td>6.3</td>\n",
       "      <td>2.9</td>\n",
       "      <td>5.6</td>\n",
       "      <td>1.8</td>\n",
       "      <td>Iris-virginica</td>\n",
       "      <td>1.116684</td>\n",
       "    </tr>\n",
       "    <tr>\n",
       "      <th>12</th>\n",
       "      <td>6.1</td>\n",
       "      <td>3.0</td>\n",
       "      <td>4.9</td>\n",
       "      <td>1.8</td>\n",
       "      <td>Iris-virginica</td>\n",
       "      <td>1.157790</td>\n",
       "    </tr>\n",
       "    <tr>\n",
       "      <th>7</th>\n",
       "      <td>6.1</td>\n",
       "      <td>2.8</td>\n",
       "      <td>4.0</td>\n",
       "      <td>1.3</td>\n",
       "      <td>Iris-versicolor</td>\n",
       "      <td>1.168651</td>\n",
       "    </tr>\n",
       "    <tr>\n",
       "      <th>0</th>\n",
       "      <td>6.1</td>\n",
       "      <td>2.9</td>\n",
       "      <td>4.7</td>\n",
       "      <td>1.4</td>\n",
       "      <td>Iris-versicolor</td>\n",
       "      <td>1.246349</td>\n",
       "    </tr>\n",
       "    <tr>\n",
       "      <th>6</th>\n",
       "      <td>6.4</td>\n",
       "      <td>2.8</td>\n",
       "      <td>5.6</td>\n",
       "      <td>2.1</td>\n",
       "      <td>Iris-virginica</td>\n",
       "      <td>1.730990</td>\n",
       "    </tr>\n",
       "    <tr>\n",
       "      <th>10</th>\n",
       "      <td>6.4</td>\n",
       "      <td>2.8</td>\n",
       "      <td>5.6</td>\n",
       "      <td>2.2</td>\n",
       "      <td>Iris-virginica</td>\n",
       "      <td>1.731133</td>\n",
       "    </tr>\n",
       "  </tbody>\n",
       "</table>\n",
       "</div>"
      ],
      "text/plain": [
       "    sepal length  sepal width  petal length  petal width            class  \\\n",
       "9            6.0          2.2           5.0          1.5   Iris-virginica   \n",
       "4            6.3          2.5           4.9          1.5  Iris-versicolor   \n",
       "5            6.3          2.8           5.1          1.5   Iris-virginica   \n",
       "8            6.8          2.8           4.8          1.4  Iris-versicolor   \n",
       "11           6.4          2.7           5.3          1.9   Iris-virginica   \n",
       "1            6.1          3.0           4.6          1.4  Iris-versicolor   \n",
       "3            6.1          2.8           4.7          1.2  Iris-versicolor   \n",
       "2            6.3          2.9           5.6          1.8   Iris-virginica   \n",
       "12           6.1          3.0           4.9          1.8   Iris-virginica   \n",
       "7            6.1          2.8           4.0          1.3  Iris-versicolor   \n",
       "0            6.1          2.9           4.7          1.4  Iris-versicolor   \n",
       "6            6.4          2.8           5.6          2.1   Iris-virginica   \n",
       "10           6.4          2.8           5.6          2.2   Iris-virginica   \n",
       "\n",
       "    similarity_conviction  \n",
       "9                0.539232  \n",
       "4                0.792197  \n",
       "5                0.898919  \n",
       "8                0.979917  \n",
       "11               1.053634  \n",
       "1                1.061953  \n",
       "3                1.098214  \n",
       "2                1.116684  \n",
       "12               1.157790  \n",
       "7                1.168651  \n",
       "0                1.246349  \n",
       "6                1.730990  \n",
       "10               1.731133  "
      ]
     },
     "execution_count": 9,
     "metadata": {},
     "output_type": "execute_result"
    }
   ],
   "source": [
    "inf_case_indices = inf_cases_4[[\".session\", \".session_training_index\"]].values.tolist()\n",
    "\n",
    "anom_df = t.get_cases(\n",
    "    case_indices=inf_case_indices,\n",
    "    features=[\"sepal length\", \"sepal width\", \"petal length\", \"petal width\", \"class\", \"similarity_conviction\"]\n",
    ")\n",
    "\n",
    "anom_df.sort_values(by=\"similarity_conviction\")"
   ]
  },
  {
   "cell_type": "code",
   "execution_count": 10,
   "metadata": {
    "execution": {
     "iopub.execute_input": "2024-08-07T16:39:16.357130Z",
     "iopub.status.busy": "2024-08-07T16:39:16.356782Z",
     "iopub.status.idle": "2024-08-07T16:39:16.369453Z",
     "shell.execute_reply": "2024-08-07T16:39:16.368970Z"
    }
   },
   "outputs": [
    {
     "data": {
      "text/html": [
       "<div>\n",
       "<style scoped>\n",
       "    .dataframe tbody tr th:only-of-type {\n",
       "        vertical-align: middle;\n",
       "    }\n",
       "\n",
       "    .dataframe tbody tr th {\n",
       "        vertical-align: top;\n",
       "    }\n",
       "\n",
       "    .dataframe thead th {\n",
       "        text-align: right;\n",
       "    }\n",
       "</style>\n",
       "<table border=\"1\" class=\"dataframe\">\n",
       "  <thead>\n",
       "    <tr style=\"text-align: right;\">\n",
       "      <th></th>\n",
       "      <th>sepal length</th>\n",
       "      <th>sepal width</th>\n",
       "      <th>petal length</th>\n",
       "      <th>petal width</th>\n",
       "      <th>class</th>\n",
       "      <th>similarity_conviction</th>\n",
       "    </tr>\n",
       "  </thead>\n",
       "  <tbody>\n",
       "    <tr>\n",
       "      <th>7</th>\n",
       "      <td>5.4</td>\n",
       "      <td>3.9</td>\n",
       "      <td>1.7</td>\n",
       "      <td>0.4</td>\n",
       "      <td>Iris-setosa</td>\n",
       "      <td>0.789016</td>\n",
       "    </tr>\n",
       "    <tr>\n",
       "      <th>6</th>\n",
       "      <td>5.4</td>\n",
       "      <td>3.9</td>\n",
       "      <td>1.3</td>\n",
       "      <td>0.4</td>\n",
       "      <td>Iris-setosa</td>\n",
       "      <td>0.862923</td>\n",
       "    </tr>\n",
       "    <tr>\n",
       "      <th>11</th>\n",
       "      <td>4.6</td>\n",
       "      <td>3.4</td>\n",
       "      <td>1.4</td>\n",
       "      <td>0.3</td>\n",
       "      <td>Iris-setosa</td>\n",
       "      <td>0.909119</td>\n",
       "    </tr>\n",
       "    <tr>\n",
       "      <th>10</th>\n",
       "      <td>5.3</td>\n",
       "      <td>3.7</td>\n",
       "      <td>1.5</td>\n",
       "      <td>0.2</td>\n",
       "      <td>Iris-setosa</td>\n",
       "      <td>0.924560</td>\n",
       "    </tr>\n",
       "    <tr>\n",
       "      <th>0</th>\n",
       "      <td>5.0</td>\n",
       "      <td>3.4</td>\n",
       "      <td>1.6</td>\n",
       "      <td>0.4</td>\n",
       "      <td>Iris-setosa</td>\n",
       "      <td>0.966282</td>\n",
       "    </tr>\n",
       "    <tr>\n",
       "      <th>1</th>\n",
       "      <td>5.4</td>\n",
       "      <td>3.4</td>\n",
       "      <td>1.7</td>\n",
       "      <td>0.2</td>\n",
       "      <td>Iris-setosa</td>\n",
       "      <td>1.058545</td>\n",
       "    </tr>\n",
       "    <tr>\n",
       "      <th>3</th>\n",
       "      <td>5.1</td>\n",
       "      <td>3.7</td>\n",
       "      <td>1.5</td>\n",
       "      <td>0.4</td>\n",
       "      <td>Iris-setosa</td>\n",
       "      <td>1.096828</td>\n",
       "    </tr>\n",
       "    <tr>\n",
       "      <th>5</th>\n",
       "      <td>5.4</td>\n",
       "      <td>3.7</td>\n",
       "      <td>1.5</td>\n",
       "      <td>0.2</td>\n",
       "      <td>Iris-setosa</td>\n",
       "      <td>1.127392</td>\n",
       "    </tr>\n",
       "    <tr>\n",
       "      <th>2</th>\n",
       "      <td>5.1</td>\n",
       "      <td>3.4</td>\n",
       "      <td>1.5</td>\n",
       "      <td>0.2</td>\n",
       "      <td>Iris-setosa</td>\n",
       "      <td>1.259162</td>\n",
       "    </tr>\n",
       "    <tr>\n",
       "      <th>12</th>\n",
       "      <td>5.1</td>\n",
       "      <td>3.5</td>\n",
       "      <td>1.4</td>\n",
       "      <td>0.3</td>\n",
       "      <td>Iris-setosa</td>\n",
       "      <td>1.334723</td>\n",
       "    </tr>\n",
       "    <tr>\n",
       "      <th>8</th>\n",
       "      <td>5.2</td>\n",
       "      <td>3.4</td>\n",
       "      <td>1.4</td>\n",
       "      <td>0.2</td>\n",
       "      <td>Iris-setosa</td>\n",
       "      <td>1.377570</td>\n",
       "    </tr>\n",
       "    <tr>\n",
       "      <th>9</th>\n",
       "      <td>5.2</td>\n",
       "      <td>3.5</td>\n",
       "      <td>1.5</td>\n",
       "      <td>0.2</td>\n",
       "      <td>Iris-setosa</td>\n",
       "      <td>1.380250</td>\n",
       "    </tr>\n",
       "    <tr>\n",
       "      <th>4</th>\n",
       "      <td>5.0</td>\n",
       "      <td>3.4</td>\n",
       "      <td>1.5</td>\n",
       "      <td>0.2</td>\n",
       "      <td>Iris-setosa</td>\n",
       "      <td>1.454126</td>\n",
       "    </tr>\n",
       "  </tbody>\n",
       "</table>\n",
       "</div>"
      ],
      "text/plain": [
       "    sepal length  sepal width  petal length  petal width        class  \\\n",
       "7            5.4          3.9           1.7          0.4  Iris-setosa   \n",
       "6            5.4          3.9           1.3          0.4  Iris-setosa   \n",
       "11           4.6          3.4           1.4          0.3  Iris-setosa   \n",
       "10           5.3          3.7           1.5          0.2  Iris-setosa   \n",
       "0            5.0          3.4           1.6          0.4  Iris-setosa   \n",
       "1            5.4          3.4           1.7          0.2  Iris-setosa   \n",
       "3            5.1          3.7           1.5          0.4  Iris-setosa   \n",
       "5            5.4          3.7           1.5          0.2  Iris-setosa   \n",
       "2            5.1          3.4           1.5          0.2  Iris-setosa   \n",
       "12           5.1          3.5           1.4          0.3  Iris-setosa   \n",
       "8            5.2          3.4           1.4          0.2  Iris-setosa   \n",
       "9            5.2          3.5           1.5          0.2  Iris-setosa   \n",
       "4            5.0          3.4           1.5          0.2  Iris-setosa   \n",
       "\n",
       "    similarity_conviction  \n",
       "7                0.789016  \n",
       "6                0.862923  \n",
       "11               0.909119  \n",
       "10               0.924560  \n",
       "0                0.966282  \n",
       "1                1.058545  \n",
       "3                1.096828  \n",
       "5                1.127392  \n",
       "2                1.259162  \n",
       "12               1.334723  \n",
       "8                1.377570  \n",
       "9                1.380250  \n",
       "4                1.454126  "
      ]
     },
     "execution_count": 10,
     "metadata": {},
     "output_type": "execute_result"
    }
   ],
   "source": [
    "inf_case_indices = inf_cases_20[[\".session\", \".session_training_index\"]].values.tolist()\n",
    "\n",
    "anom_df = t.get_cases(\n",
    "    case_indices=inf_case_indices,\n",
    "    features=[\"sepal length\", \"sepal width\", \"petal length\", \"petal width\", \"class\", \"similarity_conviction\"],\n",
    ")\n",
    "\n",
    "anom_df.sort_values(by=\"similarity_conviction\")"
   ]
  },
  {
   "cell_type": "markdown",
   "metadata": {},
   "source": [
    "### Insight 2: Which Features Contributed?\n",
    "\n",
    "In addition to providing attribution to cases, Howso also provides robust feature contributions to explain which features contributed to each prediction.\n",
    "When inspecting the feature importances for case `13`,  we see that `petal width` and `petal length` provided the majority of the contribution to the \n",
    "prediction, whereas for case `20` `petal width` and `petal length` only have slightly higher contributions than the other features.  This could indicate \n",
    "that different features are more important for predicting different classes within this dataset and that focusing on those features would be prudent.\n",
    "\n",
    "Identifying that certain cases that influenced a prediction are anomalous can help to explain low predictive power in certain parts of the data or other\n",
    "issues that may appear during deployment."
   ]
  },
  {
   "cell_type": "code",
   "execution_count": 11,
   "metadata": {
    "execution": {
     "iopub.execute_input": "2024-08-07T16:39:16.371997Z",
     "iopub.status.busy": "2024-08-07T16:39:16.371598Z",
     "iopub.status.idle": "2024-08-07T16:39:16.381996Z",
     "shell.execute_reply": "2024-08-07T16:39:16.381520Z"
    }
   },
   "outputs": [
    {
     "data": {
      "text/html": [
       "<div>\n",
       "<style scoped>\n",
       "    .dataframe tbody tr th:only-of-type {\n",
       "        vertical-align: middle;\n",
       "    }\n",
       "\n",
       "    .dataframe tbody tr th {\n",
       "        vertical-align: top;\n",
       "    }\n",
       "\n",
       "    .dataframe thead th {\n",
       "        text-align: right;\n",
       "    }\n",
       "</style>\n",
       "<table border=\"1\" class=\"dataframe\">\n",
       "  <thead>\n",
       "    <tr style=\"text-align: right;\">\n",
       "      <th></th>\n",
       "      <th>sepal width</th>\n",
       "      <th>sepal length</th>\n",
       "      <th>petal width</th>\n",
       "      <th>petal length</th>\n",
       "    </tr>\n",
       "  </thead>\n",
       "  <tbody>\n",
       "    <tr>\n",
       "      <th>13</th>\n",
       "      <td>0.054837</td>\n",
       "      <td>0.128141</td>\n",
       "      <td>0.308447</td>\n",
       "      <td>0.298769</td>\n",
       "    </tr>\n",
       "  </tbody>\n",
       "</table>\n",
       "</div>"
      ],
      "text/plain": [
       "    sepal width  sepal length  petal width  petal length\n",
       "13     0.054837      0.128141     0.308447      0.298769"
      ]
     },
     "metadata": {},
     "output_type": "display_data"
    },
    {
     "data": {
      "text/html": [
       "<div>\n",
       "<style scoped>\n",
       "    .dataframe tbody tr th:only-of-type {\n",
       "        vertical-align: middle;\n",
       "    }\n",
       "\n",
       "    .dataframe tbody tr th {\n",
       "        vertical-align: top;\n",
       "    }\n",
       "\n",
       "    .dataframe thead th {\n",
       "        text-align: right;\n",
       "    }\n",
       "</style>\n",
       "<table border=\"1\" class=\"dataframe\">\n",
       "  <thead>\n",
       "    <tr style=\"text-align: right;\">\n",
       "      <th></th>\n",
       "      <th>sepal width</th>\n",
       "      <th>sepal length</th>\n",
       "      <th>petal width</th>\n",
       "      <th>petal length</th>\n",
       "    </tr>\n",
       "  </thead>\n",
       "  <tbody>\n",
       "    <tr>\n",
       "      <th>20</th>\n",
       "      <td>0.118496</td>\n",
       "      <td>0.118917</td>\n",
       "      <td>0.158989</td>\n",
       "      <td>0.153181</td>\n",
       "    </tr>\n",
       "  </tbody>\n",
       "</table>\n",
       "</div>"
      ],
      "text/plain": [
       "    sepal width  sepal length  petal width  petal length\n",
       "20     0.118496      0.118917     0.158989      0.153181"
      ]
     },
     "metadata": {},
     "output_type": "display_data"
    }
   ],
   "source": [
    "fcs_13 = pd.DataFrame(reaction[\"details\"][\"feature_contributions_robust\"][13:14], index=[13])\n",
    "fcs_20 = pd.DataFrame(reaction[\"details\"][\"feature_contributions_robust\"][20:21], index=[20])\n",
    "\n",
    "display(fcs_13)\n",
    "display(fcs_20)"
   ]
  },
  {
   "cell_type": "markdown",
   "metadata": {},
   "source": [
    "### Insight 3: How Certain is the Prediction?"
   ]
  },
  {
   "cell_type": "markdown",
   "metadata": {},
   "source": [
    "[Residuals](https://docs.howso.com/user_guide/basic_capabilities/residuals.html) can characterize the uncertainty of the data around the prediction.  This will tell us which features are hard to predict in the region of the data around each case we're predicting.\n",
    "If a prediction is less accurate than expected, this can explain which features were noisy and may have contributed to the problem."
   ]
  },
  {
   "cell_type": "code",
   "execution_count": 12,
   "metadata": {
    "execution": {
     "iopub.execute_input": "2024-08-07T16:39:16.384477Z",
     "iopub.status.busy": "2024-08-07T16:39:16.384074Z",
     "iopub.status.idle": "2024-08-07T16:39:16.393676Z",
     "shell.execute_reply": "2024-08-07T16:39:16.393199Z"
    }
   },
   "outputs": [
    {
     "data": {
      "text/html": [
       "<div>\n",
       "<style scoped>\n",
       "    .dataframe tbody tr th:only-of-type {\n",
       "        vertical-align: middle;\n",
       "    }\n",
       "\n",
       "    .dataframe tbody tr th {\n",
       "        vertical-align: top;\n",
       "    }\n",
       "\n",
       "    .dataframe thead th {\n",
       "        text-align: right;\n",
       "    }\n",
       "</style>\n",
       "<table border=\"1\" class=\"dataframe\">\n",
       "  <thead>\n",
       "    <tr style=\"text-align: right;\">\n",
       "      <th></th>\n",
       "      <th>sepal length</th>\n",
       "      <th>petal width</th>\n",
       "      <th>petal length</th>\n",
       "      <th>sepal width</th>\n",
       "      <th>class</th>\n",
       "    </tr>\n",
       "  </thead>\n",
       "  <tbody>\n",
       "    <tr>\n",
       "      <th>0</th>\n",
       "      <td>0.403728</td>\n",
       "      <td>0.169559</td>\n",
       "      <td>0.323572</td>\n",
       "      <td>0.199032</td>\n",
       "      <td>0.266149</td>\n",
       "    </tr>\n",
       "    <tr>\n",
       "      <th>1</th>\n",
       "      <td>0.372697</td>\n",
       "      <td>0.268837</td>\n",
       "      <td>0.461490</td>\n",
       "      <td>0.232683</td>\n",
       "      <td>0.365244</td>\n",
       "    </tr>\n",
       "    <tr>\n",
       "      <th>2</th>\n",
       "      <td>0.437603</td>\n",
       "      <td>0.339065</td>\n",
       "      <td>0.540012</td>\n",
       "      <td>0.160669</td>\n",
       "      <td>0.238121</td>\n",
       "    </tr>\n",
       "    <tr>\n",
       "      <th>3</th>\n",
       "      <td>0.380100</td>\n",
       "      <td>0.268216</td>\n",
       "      <td>0.434263</td>\n",
       "      <td>0.226865</td>\n",
       "      <td>0.346723</td>\n",
       "    </tr>\n",
       "    <tr>\n",
       "      <th>4</th>\n",
       "      <td>0.345067</td>\n",
       "      <td>0.201421</td>\n",
       "      <td>0.396560</td>\n",
       "      <td>0.250438</td>\n",
       "      <td>0.267561</td>\n",
       "    </tr>\n",
       "    <tr>\n",
       "      <th>5</th>\n",
       "      <td>0.339010</td>\n",
       "      <td>0.131704</td>\n",
       "      <td>0.332973</td>\n",
       "      <td>0.152123</td>\n",
       "      <td>0.124014</td>\n",
       "    </tr>\n",
       "    <tr>\n",
       "      <th>6</th>\n",
       "      <td>0.312111</td>\n",
       "      <td>0.185495</td>\n",
       "      <td>0.381352</td>\n",
       "      <td>0.228970</td>\n",
       "      <td>0.082744</td>\n",
       "    </tr>\n",
       "    <tr>\n",
       "      <th>7</th>\n",
       "      <td>0.385033</td>\n",
       "      <td>0.300295</td>\n",
       "      <td>0.452539</td>\n",
       "      <td>0.155574</td>\n",
       "      <td>0.271013</td>\n",
       "    </tr>\n",
       "    <tr>\n",
       "      <th>8</th>\n",
       "      <td>0.332298</td>\n",
       "      <td>0.158037</td>\n",
       "      <td>0.341377</td>\n",
       "      <td>0.203010</td>\n",
       "      <td>0.224229</td>\n",
       "    </tr>\n",
       "    <tr>\n",
       "      <th>9</th>\n",
       "      <td>0.308422</td>\n",
       "      <td>0.141852</td>\n",
       "      <td>0.348138</td>\n",
       "      <td>0.169970</td>\n",
       "      <td>0.122461</td>\n",
       "    </tr>\n",
       "    <tr>\n",
       "      <th>10</th>\n",
       "      <td>0.379596</td>\n",
       "      <td>0.283936</td>\n",
       "      <td>0.425562</td>\n",
       "      <td>0.205372</td>\n",
       "      <td>0.332409</td>\n",
       "    </tr>\n",
       "    <tr>\n",
       "      <th>11</th>\n",
       "      <td>0.352520</td>\n",
       "      <td>0.174341</td>\n",
       "      <td>0.326655</td>\n",
       "      <td>0.235048</td>\n",
       "      <td>0.276035</td>\n",
       "    </tr>\n",
       "    <tr>\n",
       "      <th>12</th>\n",
       "      <td>0.296021</td>\n",
       "      <td>0.192831</td>\n",
       "      <td>0.385991</td>\n",
       "      <td>0.262754</td>\n",
       "      <td>0.082378</td>\n",
       "    </tr>\n",
       "    <tr>\n",
       "      <th>13</th>\n",
       "      <td>0.346954</td>\n",
       "      <td>0.260903</td>\n",
       "      <td>0.388382</td>\n",
       "      <td>0.251322</td>\n",
       "      <td>0.382321</td>\n",
       "    </tr>\n",
       "    <tr>\n",
       "      <th>14</th>\n",
       "      <td>0.330325</td>\n",
       "      <td>0.145959</td>\n",
       "      <td>0.311951</td>\n",
       "      <td>0.175522</td>\n",
       "      <td>0.237663</td>\n",
       "    </tr>\n",
       "    <tr>\n",
       "      <th>15</th>\n",
       "      <td>0.361831</td>\n",
       "      <td>0.186584</td>\n",
       "      <td>0.405454</td>\n",
       "      <td>0.278637</td>\n",
       "      <td>0.091335</td>\n",
       "    </tr>\n",
       "    <tr>\n",
       "      <th>16</th>\n",
       "      <td>0.281218</td>\n",
       "      <td>0.166347</td>\n",
       "      <td>0.355619</td>\n",
       "      <td>0.283669</td>\n",
       "      <td>0.070035</td>\n",
       "    </tr>\n",
       "    <tr>\n",
       "      <th>17</th>\n",
       "      <td>0.369353</td>\n",
       "      <td>0.239051</td>\n",
       "      <td>0.445339</td>\n",
       "      <td>0.223314</td>\n",
       "      <td>0.343951</td>\n",
       "    </tr>\n",
       "    <tr>\n",
       "      <th>18</th>\n",
       "      <td>0.359477</td>\n",
       "      <td>0.300070</td>\n",
       "      <td>0.471298</td>\n",
       "      <td>0.173212</td>\n",
       "      <td>0.241631</td>\n",
       "    </tr>\n",
       "    <tr>\n",
       "      <th>19</th>\n",
       "      <td>0.433897</td>\n",
       "      <td>0.188428</td>\n",
       "      <td>0.442264</td>\n",
       "      <td>0.264147</td>\n",
       "      <td>0.263748</td>\n",
       "    </tr>\n",
       "    <tr>\n",
       "      <th>20</th>\n",
       "      <td>0.247880</td>\n",
       "      <td>0.170772</td>\n",
       "      <td>0.321135</td>\n",
       "      <td>0.245362</td>\n",
       "      <td>0.065914</td>\n",
       "    </tr>\n",
       "    <tr>\n",
       "      <th>21</th>\n",
       "      <td>0.307103</td>\n",
       "      <td>0.155595</td>\n",
       "      <td>0.334763</td>\n",
       "      <td>0.166970</td>\n",
       "      <td>0.097371</td>\n",
       "    </tr>\n",
       "    <tr>\n",
       "      <th>22</th>\n",
       "      <td>0.301921</td>\n",
       "      <td>0.160444</td>\n",
       "      <td>0.363735</td>\n",
       "      <td>0.277429</td>\n",
       "      <td>0.175721</td>\n",
       "    </tr>\n",
       "    <tr>\n",
       "      <th>23</th>\n",
       "      <td>0.286457</td>\n",
       "      <td>0.162065</td>\n",
       "      <td>0.330640</td>\n",
       "      <td>0.206969</td>\n",
       "      <td>0.066823</td>\n",
       "    </tr>\n",
       "    <tr>\n",
       "      <th>24</th>\n",
       "      <td>0.312844</td>\n",
       "      <td>0.176627</td>\n",
       "      <td>0.388489</td>\n",
       "      <td>0.235195</td>\n",
       "      <td>0.077345</td>\n",
       "    </tr>\n",
       "    <tr>\n",
       "      <th>25</th>\n",
       "      <td>0.382195</td>\n",
       "      <td>0.253910</td>\n",
       "      <td>0.430533</td>\n",
       "      <td>0.200952</td>\n",
       "      <td>0.327143</td>\n",
       "    </tr>\n",
       "    <tr>\n",
       "      <th>26</th>\n",
       "      <td>0.352790</td>\n",
       "      <td>0.329532</td>\n",
       "      <td>0.505196</td>\n",
       "      <td>0.157077</td>\n",
       "      <td>0.176051</td>\n",
       "    </tr>\n",
       "    <tr>\n",
       "      <th>27</th>\n",
       "      <td>0.350148</td>\n",
       "      <td>0.182774</td>\n",
       "      <td>0.361656</td>\n",
       "      <td>0.255789</td>\n",
       "      <td>0.303103</td>\n",
       "    </tr>\n",
       "    <tr>\n",
       "      <th>28</th>\n",
       "      <td>0.482380</td>\n",
       "      <td>0.299198</td>\n",
       "      <td>0.508178</td>\n",
       "      <td>0.172396</td>\n",
       "      <td>0.240204</td>\n",
       "    </tr>\n",
       "    <tr>\n",
       "      <th>29</th>\n",
       "      <td>0.532720</td>\n",
       "      <td>0.298941</td>\n",
       "      <td>0.635960</td>\n",
       "      <td>0.226535</td>\n",
       "      <td>0.155374</td>\n",
       "    </tr>\n",
       "  </tbody>\n",
       "</table>\n",
       "</div>"
      ],
      "text/plain": [
       "    sepal length  petal width  petal length  sepal width     class\n",
       "0       0.403728     0.169559      0.323572     0.199032  0.266149\n",
       "1       0.372697     0.268837      0.461490     0.232683  0.365244\n",
       "2       0.437603     0.339065      0.540012     0.160669  0.238121\n",
       "3       0.380100     0.268216      0.434263     0.226865  0.346723\n",
       "4       0.345067     0.201421      0.396560     0.250438  0.267561\n",
       "5       0.339010     0.131704      0.332973     0.152123  0.124014\n",
       "6       0.312111     0.185495      0.381352     0.228970  0.082744\n",
       "7       0.385033     0.300295      0.452539     0.155574  0.271013\n",
       "8       0.332298     0.158037      0.341377     0.203010  0.224229\n",
       "9       0.308422     0.141852      0.348138     0.169970  0.122461\n",
       "10      0.379596     0.283936      0.425562     0.205372  0.332409\n",
       "11      0.352520     0.174341      0.326655     0.235048  0.276035\n",
       "12      0.296021     0.192831      0.385991     0.262754  0.082378\n",
       "13      0.346954     0.260903      0.388382     0.251322  0.382321\n",
       "14      0.330325     0.145959      0.311951     0.175522  0.237663\n",
       "15      0.361831     0.186584      0.405454     0.278637  0.091335\n",
       "16      0.281218     0.166347      0.355619     0.283669  0.070035\n",
       "17      0.369353     0.239051      0.445339     0.223314  0.343951\n",
       "18      0.359477     0.300070      0.471298     0.173212  0.241631\n",
       "19      0.433897     0.188428      0.442264     0.264147  0.263748\n",
       "20      0.247880     0.170772      0.321135     0.245362  0.065914\n",
       "21      0.307103     0.155595      0.334763     0.166970  0.097371\n",
       "22      0.301921     0.160444      0.363735     0.277429  0.175721\n",
       "23      0.286457     0.162065      0.330640     0.206969  0.066823\n",
       "24      0.312844     0.176627      0.388489     0.235195  0.077345\n",
       "25      0.382195     0.253910      0.430533     0.200952  0.327143\n",
       "26      0.352790     0.329532      0.505196     0.157077  0.176051\n",
       "27      0.350148     0.182774      0.361656     0.255789  0.303103\n",
       "28      0.482380     0.299198      0.508178     0.172396  0.240204\n",
       "29      0.532720     0.298941      0.635960     0.226535  0.155374"
      ]
     },
     "execution_count": 12,
     "metadata": {},
     "output_type": "execute_result"
    }
   ],
   "source": [
    "pd.DataFrame(reaction[\"details\"][\"feature_residuals_robust\"])"
   ]
  },
  {
   "cell_type": "markdown",
   "metadata": {},
   "source": [
    "We can also use [`residual conviction`](https://docs.howso.com/user_guide/basic_capabilities/conviction.html#prediction-residual-conviction) to determine which features\n",
    "are uncertain in a scale-invariant manner, which can be useful if you wish to compare different features of different scales against each other.  Higher residual conviction\n",
    "indicates something that is less surprising than expected and lower redsidual conviction indicates the opposite."
   ]
  },
  {
   "cell_type": "code",
   "execution_count": 13,
   "metadata": {
    "execution": {
     "iopub.execute_input": "2024-08-07T16:39:16.396134Z",
     "iopub.status.busy": "2024-08-07T16:39:16.395778Z",
     "iopub.status.idle": "2024-08-07T16:39:16.405348Z",
     "shell.execute_reply": "2024-08-07T16:39:16.404874Z"
    }
   },
   "outputs": [
    {
     "data": {
      "text/html": [
       "<div>\n",
       "<style scoped>\n",
       "    .dataframe tbody tr th:only-of-type {\n",
       "        vertical-align: middle;\n",
       "    }\n",
       "\n",
       "    .dataframe tbody tr th {\n",
       "        vertical-align: top;\n",
       "    }\n",
       "\n",
       "    .dataframe thead th {\n",
       "        text-align: right;\n",
       "    }\n",
       "</style>\n",
       "<table border=\"1\" class=\"dataframe\">\n",
       "  <thead>\n",
       "    <tr style=\"text-align: right;\">\n",
       "      <th></th>\n",
       "      <th>sepal length</th>\n",
       "      <th>petal width</th>\n",
       "      <th>petal length</th>\n",
       "      <th>sepal width</th>\n",
       "      <th>class</th>\n",
       "    </tr>\n",
       "  </thead>\n",
       "  <tbody>\n",
       "    <tr>\n",
       "      <th>0</th>\n",
       "      <td>1.127942</td>\n",
       "      <td>1.134861</td>\n",
       "      <td>0.966987</td>\n",
       "      <td>1.991696</td>\n",
       "      <td>0.984665</td>\n",
       "    </tr>\n",
       "    <tr>\n",
       "      <th>1</th>\n",
       "      <td>1.864496</td>\n",
       "      <td>1.162410</td>\n",
       "      <td>1.267351</td>\n",
       "      <td>0.743423</td>\n",
       "      <td>0.904140</td>\n",
       "    </tr>\n",
       "    <tr>\n",
       "      <th>2</th>\n",
       "      <td>1.162034</td>\n",
       "      <td>0.742276</td>\n",
       "      <td>0.905198</td>\n",
       "      <td>2.064518</td>\n",
       "      <td>1.042898</td>\n",
       "    </tr>\n",
       "    <tr>\n",
       "      <th>3</th>\n",
       "      <td>0.647946</td>\n",
       "      <td>0.930452</td>\n",
       "      <td>0.856988</td>\n",
       "      <td>0.515133</td>\n",
       "      <td>0.872205</td>\n",
       "    </tr>\n",
       "    <tr>\n",
       "      <th>4</th>\n",
       "      <td>1.653969</td>\n",
       "      <td>0.701745</td>\n",
       "      <td>0.314707</td>\n",
       "      <td>0.756120</td>\n",
       "      <td>0.777068</td>\n",
       "    </tr>\n",
       "    <tr>\n",
       "      <th>5</th>\n",
       "      <td>1.247961</td>\n",
       "      <td>2.268054</td>\n",
       "      <td>1.704988</td>\n",
       "      <td>0.863904</td>\n",
       "      <td>0.840815</td>\n",
       "    </tr>\n",
       "    <tr>\n",
       "      <th>6</th>\n",
       "      <td>1.098038</td>\n",
       "      <td>3.135647</td>\n",
       "      <td>1.105812</td>\n",
       "      <td>0.736975</td>\n",
       "      <td>0.728849</td>\n",
       "    </tr>\n",
       "    <tr>\n",
       "      <th>7</th>\n",
       "      <td>0.968958</td>\n",
       "      <td>1.188002</td>\n",
       "      <td>1.061948</td>\n",
       "      <td>0.835122</td>\n",
       "      <td>1.152357</td>\n",
       "    </tr>\n",
       "    <tr>\n",
       "      <th>8</th>\n",
       "      <td>0.795975</td>\n",
       "      <td>0.779004</td>\n",
       "      <td>0.698871</td>\n",
       "      <td>0.336850</td>\n",
       "      <td>1.166637</td>\n",
       "    </tr>\n",
       "    <tr>\n",
       "      <th>9</th>\n",
       "      <td>1.222966</td>\n",
       "      <td>0.979704</td>\n",
       "      <td>1.327802</td>\n",
       "      <td>0.460838</td>\n",
       "      <td>1.723441</td>\n",
       "    </tr>\n",
       "    <tr>\n",
       "      <th>10</th>\n",
       "      <td>2.178967</td>\n",
       "      <td>2.201475</td>\n",
       "      <td>1.869600</td>\n",
       "      <td>1.485984</td>\n",
       "      <td>3.537982</td>\n",
       "    </tr>\n",
       "    <tr>\n",
       "      <th>11</th>\n",
       "      <td>0.899515</td>\n",
       "      <td>0.507854</td>\n",
       "      <td>0.903319</td>\n",
       "      <td>1.377182</td>\n",
       "      <td>1.321392</td>\n",
       "    </tr>\n",
       "    <tr>\n",
       "      <th>12</th>\n",
       "      <td>1.447478</td>\n",
       "      <td>1.213085</td>\n",
       "      <td>1.623248</td>\n",
       "      <td>1.231999</td>\n",
       "      <td>0.678285</td>\n",
       "    </tr>\n",
       "    <tr>\n",
       "      <th>13</th>\n",
       "      <td>2.217368</td>\n",
       "      <td>1.267657</td>\n",
       "      <td>1.283115</td>\n",
       "      <td>0.786954</td>\n",
       "      <td>0.964949</td>\n",
       "    </tr>\n",
       "    <tr>\n",
       "      <th>14</th>\n",
       "      <td>1.486000</td>\n",
       "      <td>0.672409</td>\n",
       "      <td>0.806855</td>\n",
       "      <td>1.644172</td>\n",
       "      <td>0.612603</td>\n",
       "    </tr>\n",
       "    <tr>\n",
       "      <th>15</th>\n",
       "      <td>0.520469</td>\n",
       "      <td>0.868160</td>\n",
       "      <td>4.109198</td>\n",
       "      <td>0.716741</td>\n",
       "      <td>0.407514</td>\n",
       "    </tr>\n",
       "    <tr>\n",
       "      <th>16</th>\n",
       "      <td>0.503840</td>\n",
       "      <td>0.918022</td>\n",
       "      <td>1.734826</td>\n",
       "      <td>0.597074</td>\n",
       "      <td>0.400991</td>\n",
       "    </tr>\n",
       "    <tr>\n",
       "      <th>17</th>\n",
       "      <td>1.466742</td>\n",
       "      <td>1.841813</td>\n",
       "      <td>1.323769</td>\n",
       "      <td>1.388643</td>\n",
       "      <td>0.704953</td>\n",
       "    </tr>\n",
       "    <tr>\n",
       "      <th>18</th>\n",
       "      <td>1.155290</td>\n",
       "      <td>0.999078</td>\n",
       "      <td>0.754354</td>\n",
       "      <td>0.268131</td>\n",
       "      <td>1.073191</td>\n",
       "    </tr>\n",
       "    <tr>\n",
       "      <th>19</th>\n",
       "      <td>0.341978</td>\n",
       "      <td>0.362163</td>\n",
       "      <td>0.574917</td>\n",
       "      <td>0.615900</td>\n",
       "      <td>1.108964</td>\n",
       "    </tr>\n",
       "    <tr>\n",
       "      <th>20</th>\n",
       "      <td>1.430919</td>\n",
       "      <td>0.921557</td>\n",
       "      <td>1.271456</td>\n",
       "      <td>0.760664</td>\n",
       "      <td>2.581984</td>\n",
       "    </tr>\n",
       "    <tr>\n",
       "      <th>21</th>\n",
       "      <td>2.702006</td>\n",
       "      <td>3.561304</td>\n",
       "      <td>2.014456</td>\n",
       "      <td>1.276800</td>\n",
       "      <td>0.743912</td>\n",
       "    </tr>\n",
       "    <tr>\n",
       "      <th>22</th>\n",
       "      <td>1.008859</td>\n",
       "      <td>0.488350</td>\n",
       "      <td>1.045034</td>\n",
       "      <td>0.479189</td>\n",
       "      <td>1.202493</td>\n",
       "    </tr>\n",
       "    <tr>\n",
       "      <th>23</th>\n",
       "      <td>2.339494</td>\n",
       "      <td>1.392432</td>\n",
       "      <td>1.303815</td>\n",
       "      <td>1.346601</td>\n",
       "      <td>0.523063</td>\n",
       "    </tr>\n",
       "    <tr>\n",
       "      <th>24</th>\n",
       "      <td>1.278617</td>\n",
       "      <td>1.276281</td>\n",
       "      <td>1.483338</td>\n",
       "      <td>3.241134</td>\n",
       "      <td>3.865531</td>\n",
       "    </tr>\n",
       "    <tr>\n",
       "      <th>25</th>\n",
       "      <td>1.871535</td>\n",
       "      <td>1.228181</td>\n",
       "      <td>1.145085</td>\n",
       "      <td>1.242573</td>\n",
       "      <td>0.625854</td>\n",
       "    </tr>\n",
       "    <tr>\n",
       "      <th>26</th>\n",
       "      <td>2.746378</td>\n",
       "      <td>1.166663</td>\n",
       "      <td>3.643306</td>\n",
       "      <td>0.839884</td>\n",
       "      <td>1.424482</td>\n",
       "    </tr>\n",
       "    <tr>\n",
       "      <th>27</th>\n",
       "      <td>2.349608</td>\n",
       "      <td>1.241785</td>\n",
       "      <td>2.794410</td>\n",
       "      <td>1.424429</td>\n",
       "      <td>1.089193</td>\n",
       "    </tr>\n",
       "    <tr>\n",
       "      <th>28</th>\n",
       "      <td>0.492160</td>\n",
       "      <td>0.843544</td>\n",
       "      <td>0.892708</td>\n",
       "      <td>1.235896</td>\n",
       "      <td>0.692558</td>\n",
       "    </tr>\n",
       "    <tr>\n",
       "      <th>29</th>\n",
       "      <td>0.675550</td>\n",
       "      <td>1.516234</td>\n",
       "      <td>1.567288</td>\n",
       "      <td>0.922343</td>\n",
       "      <td>0.790574</td>\n",
       "    </tr>\n",
       "  </tbody>\n",
       "</table>\n",
       "</div>"
      ],
      "text/plain": [
       "    sepal length  petal width  petal length  sepal width     class\n",
       "0       1.127942     1.134861      0.966987     1.991696  0.984665\n",
       "1       1.864496     1.162410      1.267351     0.743423  0.904140\n",
       "2       1.162034     0.742276      0.905198     2.064518  1.042898\n",
       "3       0.647946     0.930452      0.856988     0.515133  0.872205\n",
       "4       1.653969     0.701745      0.314707     0.756120  0.777068\n",
       "5       1.247961     2.268054      1.704988     0.863904  0.840815\n",
       "6       1.098038     3.135647      1.105812     0.736975  0.728849\n",
       "7       0.968958     1.188002      1.061948     0.835122  1.152357\n",
       "8       0.795975     0.779004      0.698871     0.336850  1.166637\n",
       "9       1.222966     0.979704      1.327802     0.460838  1.723441\n",
       "10      2.178967     2.201475      1.869600     1.485984  3.537982\n",
       "11      0.899515     0.507854      0.903319     1.377182  1.321392\n",
       "12      1.447478     1.213085      1.623248     1.231999  0.678285\n",
       "13      2.217368     1.267657      1.283115     0.786954  0.964949\n",
       "14      1.486000     0.672409      0.806855     1.644172  0.612603\n",
       "15      0.520469     0.868160      4.109198     0.716741  0.407514\n",
       "16      0.503840     0.918022      1.734826     0.597074  0.400991\n",
       "17      1.466742     1.841813      1.323769     1.388643  0.704953\n",
       "18      1.155290     0.999078      0.754354     0.268131  1.073191\n",
       "19      0.341978     0.362163      0.574917     0.615900  1.108964\n",
       "20      1.430919     0.921557      1.271456     0.760664  2.581984\n",
       "21      2.702006     3.561304      2.014456     1.276800  0.743912\n",
       "22      1.008859     0.488350      1.045034     0.479189  1.202493\n",
       "23      2.339494     1.392432      1.303815     1.346601  0.523063\n",
       "24      1.278617     1.276281      1.483338     3.241134  3.865531\n",
       "25      1.871535     1.228181      1.145085     1.242573  0.625854\n",
       "26      2.746378     1.166663      3.643306     0.839884  1.424482\n",
       "27      2.349608     1.241785      2.794410     1.424429  1.089193\n",
       "28      0.492160     0.843544      0.892708     1.235896  0.692558\n",
       "29      0.675550     1.516234      1.567288     0.922343  0.790574"
      ]
     },
     "execution_count": 13,
     "metadata": {},
     "output_type": "execute_result"
    }
   ],
   "source": [
    "pd.DataFrame(reaction[\"details\"][\"case_feature_residual_convictions_robust\"])"
   ]
  },
  {
   "cell_type": "markdown",
   "metadata": {},
   "source": [
    "### Insight 4: How Anomalous are the Predicted Cases?\n",
    "\n",
    "By getting the [`similarity conviction`](https://docs.howso.com/user_guide/basic_capabilities/conviction.html#similarity-conviction) of the cases that we predict, \n",
    "we can determine which of them are anomalous relative to the trained data. This could help to highlight cases that are unusually difficult or easy to predict, such as can be the case\n",
    "when model drift occurs as a form of model monitoring."
   ]
  },
  {
   "cell_type": "code",
   "execution_count": 14,
   "metadata": {
    "execution": {
     "iopub.execute_input": "2024-08-07T16:39:16.407775Z",
     "iopub.status.busy": "2024-08-07T16:39:16.407414Z",
     "iopub.status.idle": "2024-08-07T16:39:16.410657Z",
     "shell.execute_reply": "2024-08-07T16:39:16.410164Z"
    }
   },
   "outputs": [
    {
     "name": "stdout",
     "output_type": "stream",
     "text": [
      "[2.457885693293746, 1.5354014069751163, 1.9702417257436509, 1.1930428026510889,\n",
      " 0.9049949791719423, 2.644985108390524, 2.3186690612841194, 1.7631066340379993,\n",
      " 1.1947441984854577, 2.4719646523918306, 3.3614233841581114, 2.921636828632703,\n",
      " 4.439559676581496, 1.6872697549679847, 1.6868491390495826, 1.914699978141316,\n",
      " 1.8491204381234474, 2.9714859744896422, 1.0422352275446207, 0.8457073281021638,\n",
      " 1.8787051436012008, 2.2917607347470694, 1.0551141322845465, 2.9018060878979877,\n",
      " 3.169837103507889, 2.084071720024441, 2.005408873499514, 2.308758287437608,\n",
      " 1.3950592277059894, 1.2402940584624549]\n"
     ]
    }
   ],
   "source": [
    "pprint(reaction[\"details\"][\"similarity_conviction\"], compact=True)"
   ]
  },
  {
   "cell_type": "markdown",
   "metadata": {},
   "source": [
    "In this case, there are no cases with a low similarity_conviction which indicates that there are no cases that we reacted to which are particularly\n",
    "anomalous."
   ]
  }
 ],
 "metadata": {
  "kernelspec": {
   "display_name": "engine-recipes-3.9",
   "language": "python",
   "name": "python3"
  },
  "language_info": {
   "codemirror_mode": {
    "name": "ipython",
    "version": 3
   },
   "file_extension": ".py",
   "mimetype": "text/x-python",
   "name": "python",
   "nbconvert_exporter": "python",
   "pygments_lexer": "ipython3",
   "version": "3.11.7"
  }
 },
 "nbformat": 4,
 "nbformat_minor": 2
}
