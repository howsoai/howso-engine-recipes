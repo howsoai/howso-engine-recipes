{
 "cells": [
  {
   "cell_type": "markdown",
   "metadata": {},
   "source": [
    "# Prediction Insights"
   ]
  },
  {
   "cell_type": "markdown",
   "metadata": {},
   "source": [
    "## Overview\n",
    "\n",
    "Howso Engine enables powerful predictions with complete attribution and detailed explanations to make learning from\n",
    "and debugging your data and predictions as easy as possible. For more information on predictions with Howso Engine,\n",
    "check out the [predictions user guide](https://docs.howso.com/user_guide/basic_capabilities/predictions.html)."
   ]
  },
  {
   "cell_type": "code",
   "execution_count": 1,
   "metadata": {
    "execution": {
     "iopub.execute_input": "2024-05-30T18:23:24.134600Z",
     "iopub.status.busy": "2024-05-30T18:23:24.134367Z",
     "iopub.status.idle": "2024-05-30T18:23:24.594575Z",
     "shell.execute_reply": "2024-05-30T18:23:24.593987Z"
    }
   },
   "outputs": [],
   "source": [
    "from pprint import pprint\n",
    "\n",
    "import pandas as pd\n",
    "import plotly.graph_objects as go\n",
    "import plotly.express as px\n",
    "\n",
    "from howso.engine import Trainee\n",
    "from howso.utilities import infer_feature_attributes"
   ]
  },
  {
   "cell_type": "markdown",
   "metadata": {},
   "source": [
    "## Setup\n",
    "\n",
    "This recipe will focus on the insights gained from predictions. Specifically, insights from:\n",
    "\n",
    "- Influential Cases,\n",
    "- Feature Contributions,\n",
    "- Residual and Similarity Conviction,\n",
    "- and Categorical Action Probabilities.\n",
    "\n",
    "The [basic workflow guide](https://docs.howso.com/user_guide/basic_capabilities/basic_workflow.html) covers creating a Trainee and performing a basic react in detail.\n",
    "\n",
    "### Load Data and Create Trainee"
   ]
  },
  {
   "cell_type": "code",
   "execution_count": 2,
   "metadata": {
    "execution": {
     "iopub.execute_input": "2024-05-30T18:23:24.597800Z",
     "iopub.status.busy": "2024-05-30T18:23:24.597515Z",
     "iopub.status.idle": "2024-05-30T18:23:24.804120Z",
     "shell.execute_reply": "2024-05-30T18:23:24.803527Z"
    }
   },
   "outputs": [
    {
     "data": {
      "text/html": [
       "<div>\n",
       "<style scoped>\n",
       "    .dataframe tbody tr th:only-of-type {\n",
       "        vertical-align: middle;\n",
       "    }\n",
       "\n",
       "    .dataframe tbody tr th {\n",
       "        vertical-align: top;\n",
       "    }\n",
       "\n",
       "    .dataframe thead th {\n",
       "        text-align: right;\n",
       "    }\n",
       "</style>\n",
       "<table border=\"1\" class=\"dataframe\">\n",
       "  <thead>\n",
       "    <tr style=\"text-align: right;\">\n",
       "      <th></th>\n",
       "      <th>Unnamed: 0</th>\n",
       "      <th>sepal length</th>\n",
       "      <th>sepal width</th>\n",
       "      <th>petal length</th>\n",
       "      <th>petal width</th>\n",
       "      <th>class</th>\n",
       "    </tr>\n",
       "  </thead>\n",
       "  <tbody>\n",
       "    <tr>\n",
       "      <th>0</th>\n",
       "      <td>27</td>\n",
       "      <td>5.2</td>\n",
       "      <td>3.5</td>\n",
       "      <td>1.5</td>\n",
       "      <td>0.2</td>\n",
       "      <td>Iris-setosa</td>\n",
       "    </tr>\n",
       "    <tr>\n",
       "      <th>1</th>\n",
       "      <td>14</td>\n",
       "      <td>5.8</td>\n",
       "      <td>4.0</td>\n",
       "      <td>1.2</td>\n",
       "      <td>0.2</td>\n",
       "      <td>Iris-setosa</td>\n",
       "    </tr>\n",
       "    <tr>\n",
       "      <th>2</th>\n",
       "      <td>25</td>\n",
       "      <td>5.0</td>\n",
       "      <td>3.0</td>\n",
       "      <td>1.6</td>\n",
       "      <td>0.2</td>\n",
       "      <td>Iris-setosa</td>\n",
       "    </tr>\n",
       "    <tr>\n",
       "      <th>3</th>\n",
       "      <td>82</td>\n",
       "      <td>5.8</td>\n",
       "      <td>2.7</td>\n",
       "      <td>3.9</td>\n",
       "      <td>1.2</td>\n",
       "      <td>Iris-versicolor</td>\n",
       "    </tr>\n",
       "    <tr>\n",
       "      <th>4</th>\n",
       "      <td>97</td>\n",
       "      <td>6.2</td>\n",
       "      <td>2.9</td>\n",
       "      <td>4.3</td>\n",
       "      <td>1.3</td>\n",
       "      <td>Iris-versicolor</td>\n",
       "    </tr>\n",
       "    <tr>\n",
       "      <th>...</th>\n",
       "      <td>...</td>\n",
       "      <td>...</td>\n",
       "      <td>...</td>\n",
       "      <td>...</td>\n",
       "      <td>...</td>\n",
       "      <td>...</td>\n",
       "    </tr>\n",
       "    <tr>\n",
       "      <th>145</th>\n",
       "      <td>126</td>\n",
       "      <td>6.2</td>\n",
       "      <td>2.8</td>\n",
       "      <td>4.8</td>\n",
       "      <td>1.8</td>\n",
       "      <td>Iris-virginica</td>\n",
       "    </tr>\n",
       "    <tr>\n",
       "      <th>146</th>\n",
       "      <td>124</td>\n",
       "      <td>6.7</td>\n",
       "      <td>3.3</td>\n",
       "      <td>5.7</td>\n",
       "      <td>2.1</td>\n",
       "      <td>Iris-virginica</td>\n",
       "    </tr>\n",
       "    <tr>\n",
       "      <th>147</th>\n",
       "      <td>78</td>\n",
       "      <td>6.0</td>\n",
       "      <td>2.9</td>\n",
       "      <td>4.5</td>\n",
       "      <td>1.5</td>\n",
       "      <td>Iris-versicolor</td>\n",
       "    </tr>\n",
       "    <tr>\n",
       "      <th>148</th>\n",
       "      <td>125</td>\n",
       "      <td>7.2</td>\n",
       "      <td>3.2</td>\n",
       "      <td>6.0</td>\n",
       "      <td>1.8</td>\n",
       "      <td>Iris-virginica</td>\n",
       "    </tr>\n",
       "    <tr>\n",
       "      <th>149</th>\n",
       "      <td>130</td>\n",
       "      <td>7.4</td>\n",
       "      <td>2.8</td>\n",
       "      <td>6.1</td>\n",
       "      <td>1.9</td>\n",
       "      <td>Iris-virginica</td>\n",
       "    </tr>\n",
       "  </tbody>\n",
       "</table>\n",
       "<p>150 rows × 6 columns</p>\n",
       "</div>"
      ],
      "text/plain": [
       "     Unnamed: 0  sepal length  sepal width  petal length  petal width  \\\n",
       "0            27           5.2          3.5           1.5          0.2   \n",
       "1            14           5.8          4.0           1.2          0.2   \n",
       "2            25           5.0          3.0           1.6          0.2   \n",
       "3            82           5.8          2.7           3.9          1.2   \n",
       "4            97           6.2          2.9           4.3          1.3   \n",
       "..          ...           ...          ...           ...          ...   \n",
       "145         126           6.2          2.8           4.8          1.8   \n",
       "146         124           6.7          3.3           5.7          2.1   \n",
       "147          78           6.0          2.9           4.5          1.5   \n",
       "148         125           7.2          3.2           6.0          1.8   \n",
       "149         130           7.4          2.8           6.1          1.9   \n",
       "\n",
       "               class  \n",
       "0        Iris-setosa  \n",
       "1        Iris-setosa  \n",
       "2        Iris-setosa  \n",
       "3    Iris-versicolor  \n",
       "4    Iris-versicolor  \n",
       "..               ...  \n",
       "145   Iris-virginica  \n",
       "146   Iris-virginica  \n",
       "147  Iris-versicolor  \n",
       "148   Iris-virginica  \n",
       "149   Iris-virginica  \n",
       "\n",
       "[150 rows x 6 columns]"
      ]
     },
     "execution_count": 2,
     "metadata": {},
     "output_type": "execute_result"
    }
   ],
   "source": [
    "df = pd.read_csv(\"../../data/iris/iris.tsv.gz\", sep=\"\\t\", compression=\"gzip\")\n",
    "train_data = df.iloc[:-30]\n",
    "new_data = df[~df.index.isin(train_data.index)]\n",
    "features = infer_feature_attributes(train_data)\n",
    "\n",
    "t = Trainee(features=features)\n",
    "\n",
    "df"
   ]
  },
  {
   "cell_type": "markdown",
   "metadata": {},
   "source": [
    "### Train, Analyze, and React"
   ]
  },
  {
   "cell_type": "code",
   "execution_count": 3,
   "metadata": {
    "execution": {
     "iopub.execute_input": "2024-05-30T18:23:24.841375Z",
     "iopub.status.busy": "2024-05-30T18:23:24.841146Z",
     "iopub.status.idle": "2024-05-30T18:23:44.661272Z",
     "shell.execute_reply": "2024-05-30T18:23:44.660662Z"
    }
   },
   "outputs": [],
   "source": [
    "t.train(train_data)\n",
    "t.analyze()\n",
    "t.react_into_features(similarity_conviction=True)\n",
    "\n",
    "reaction = t.react(\n",
    "    contexts=new_data,\n",
    "    context_features=[\"sepal length\", \"sepal width\", \"petal length\", \"petal width\"],\n",
    "    action_features=[\"class\"],\n",
    "    details={\n",
    "        \"influential_cases\": True,\n",
    "        \"similarity_conviction\": True,\n",
    "        \"feature_contributions_robust\": True,\n",
    "        \"feature_residuals_robust\": True,\n",
    "        \"local_case_feature_residual_convictions_robust\": True,\n",
    "        \"categorical_action_probabilities\": True,\n",
    "    }\n",
    ")"
   ]
  },
  {
   "cell_type": "markdown",
   "metadata": {},
   "source": [
    "Note that, unlike in the basic workflow guide, we include several `details` in the react call and predict multiple cases as opposed to one. These are what will enable the\n",
    "insights that we're going to get after the predictions are made.\n",
    "\n",
    "For more information, see [the API documentation for `Trainee.react()`](https://docs.howso.com/api_reference/_autosummary/howso.engine.html#howso.engine.Trainee.react)."
   ]
  },
  {
   "cell_type": "markdown",
   "metadata": {},
   "source": [
    "### Inspect the Predictions\n",
    "\n",
    "Howso Engine has high accuracy even on small datasets.\n",
    "\n",
    "Here we see a comparison of the trained data (dots) and the predicted data (stars). This plot shows that the predictions align well with the trained data."
   ]
  },
  {
   "cell_type": "code",
   "execution_count": 4,
   "metadata": {
    "execution": {
     "iopub.execute_input": "2024-05-30T18:23:44.664751Z",
     "iopub.status.busy": "2024-05-30T18:23:44.664286Z",
     "iopub.status.idle": "2024-05-30T18:23:44.853460Z",
     "shell.execute_reply": "2024-05-30T18:23:44.852876Z"
    }
   },
   "outputs": [
    {
     "data": {
      "application/vnd.plotly.v1+json": {
       "config": {
        "plotlyServerURL": "https://plot.ly"
       },
       "data": [
        {
         "legendgroup": "trained",
         "legendgrouptitle": {
          "text": "Trained class"
         },
         "marker": {
          "color": "#1F77B4",
          "opacity": 0.75
         },
         "mode": "markers",
         "name": "Iris-setosa",
         "type": "scatter",
         "x": [
          1.5,
          1.2,
          1.6,
          1.7,
          1.7,
          1.5,
          1.6,
          1.3,
          1.6,
          1.4,
          1,
          1.5,
          1.4,
          1.3,
          1.7,
          1.4,
          1.3,
          1.5,
          1.4,
          1.1,
          1.4,
          1.2,
          1.9,
          1.6,
          1.5,
          1.9,
          1.5,
          1.5,
          1.5,
          1.3,
          1.4,
          1.6,
          1.4,
          1.6,
          1.4,
          1.5,
          1.5,
          1.6,
          1.5,
          1.4,
          1.3,
          1.7,
          1.5
         ],
         "y": [
          0.2,
          0.2,
          0.2,
          0.2,
          0.3,
          0.4,
          0.6,
          0.4,
          0.2,
          0.2,
          0.2,
          0.3,
          0.2,
          0.3,
          0.4,
          0.3,
          0.3,
          0.1,
          0.3,
          0.1,
          0.1,
          0.2,
          0.2,
          0.4,
          0.1,
          0.4,
          0.2,
          0.2,
          0.2,
          0.2,
          0.2,
          0.2,
          0.2,
          0.2,
          0.3,
          0.2,
          0.1,
          0.2,
          0.2,
          0.2,
          0.2,
          0.5,
          0.4
         ]
        },
        {
         "legendgroup": "trained",
         "legendgrouptitle": {
          "text": "Trained class"
         },
         "marker": {
          "color": "#FF7F0E",
          "opacity": 0.75
         },
         "mode": "markers",
         "name": "Iris-versicolor",
         "type": "scatter",
         "x": [
          3.9,
          4.3,
          4.8,
          3,
          4.2,
          5,
          3.7,
          4.7,
          4.7,
          4.6,
          4.6,
          4,
          4.4,
          4.6,
          4.5,
          3.3,
          4.5,
          4.8,
          4.5,
          4.5,
          4.9,
          3.5,
          4.1,
          4,
          4.5,
          4.7,
          3.3,
          3.9,
          4.2,
          3.9,
          4.7,
          4.3,
          3.5,
          4.9,
          3.6,
          3.8,
          4.4,
          4.2,
          4.7,
          4.1
         ],
         "y": [
          1.2,
          1.3,
          1.8,
          1.1,
          1.3,
          1.7,
          1,
          1.6,
          1.4,
          1.5,
          1.4,
          1.3,
          1.4,
          1.3,
          1.6,
          1,
          1.5,
          1.4,
          1.3,
          1.5,
          1.5,
          1,
          1,
          1.3,
          1.5,
          1.4,
          1,
          1.1,
          1.3,
          1.4,
          1.2,
          1.3,
          1,
          1.5,
          1.3,
          1.1,
          1.2,
          1.2,
          1.5,
          1.3
         ]
        },
        {
         "legendgroup": "trained",
         "legendgrouptitle": {
          "text": "Trained class"
         },
         "marker": {
          "color": "#2CA02C",
          "opacity": 0.75
         },
         "mode": "markers",
         "name": "Iris-virginica",
         "type": "scatter",
         "x": [
          5.5,
          5.1,
          5.2,
          4.9,
          6,
          5.6,
          5.2,
          6.7,
          6.9,
          5.9,
          6.3,
          5.9,
          5,
          5.6,
          5.1,
          5.8,
          5.6,
          6.1,
          5.6,
          6.1,
          5.5,
          6.6,
          5.7,
          5.8,
          5.1,
          6.4,
          6.7,
          5.5,
          5.6,
          4.9,
          5.7,
          5.1,
          5.4,
          5.3,
          5.4,
          4.9,
          5.3
         ],
         "y": [
          1.8,
          1.8,
          2,
          2,
          2.5,
          2.4,
          2.3,
          2.2,
          2.3,
          2.3,
          1.8,
          2.1,
          1.5,
          2.1,
          1.9,
          1.6,
          2.2,
          2.5,
          1.8,
          2.3,
          1.8,
          2.1,
          2.3,
          2.2,
          2.4,
          2,
          2,
          2.1,
          2.4,
          1.8,
          2.5,
          1.5,
          2.3,
          1.9,
          2.1,
          1.8,
          2.3
         ]
        },
        {
         "hovertext": [
          6,
          12,
          15,
          16,
          20,
          23,
          24
         ],
         "legendgroup": "predicted",
         "legendgrouptitle": {
          "text": "Predicted class"
         },
         "marker": {
          "color": "#1F77B4",
          "opacity": 0.75,
          "size": 12,
          "symbol": "star"
         },
         "mode": "markers",
         "name": "Iris-setosa",
         "type": "scatter",
         "x": [
          1.4,
          1.5,
          1.4,
          1.3,
          1.5,
          1.4,
          1.3
         ],
         "y": [
          0.2,
          0.1,
          0.2,
          0.2,
          0.4,
          0.2,
          0.2
         ]
        },
        {
         "hovertext": [
          0,
          4,
          5,
          8,
          9,
          11,
          14,
          19,
          21,
          22,
          27
         ],
         "legendgroup": "predicted",
         "legendgrouptitle": {
          "text": "Predicted class"
         },
         "marker": {
          "color": "#FF7F0E",
          "opacity": 0.75,
          "size": 12,
          "symbol": "star"
         },
         "mode": "markers",
         "name": "Iris-versicolor",
         "type": "scatter",
         "x": [
          4.4,
          5.6,
          4.1,
          4.4,
          4,
          4.5,
          4.2,
          4.5,
          4,
          4,
          4.5
         ],
         "y": [
          1.4,
          1.4,
          1.3,
          1.3,
          1.3,
          1.5,
          1.5,
          1.7,
          1.2,
          1,
          1.5
         ]
        },
        {
         "hovertext": [
          1,
          2,
          3,
          7,
          10,
          13,
          17,
          18,
          25,
          26,
          28,
          29
         ],
         "legendgroup": "predicted",
         "legendgrouptitle": {
          "text": "Predicted class"
         },
         "marker": {
          "color": "#2CA02C",
          "opacity": 0.75,
          "size": 12,
          "symbol": "star"
         },
         "mode": "markers",
         "name": "Iris-virginica",
         "type": "scatter",
         "x": [
          5,
          5.1,
          5,
          5.1,
          5.1,
          5.1,
          4.8,
          5.8,
          4.8,
          5.7,
          6,
          6.1
         ],
         "y": [
          1.9,
          2.3,
          2,
          2,
          1.9,
          1.6,
          1.8,
          1.8,
          1.8,
          2.1,
          1.8,
          1.9
         ]
        }
       ],
       "layout": {
        "template": {
         "data": {
          "bar": [
           {
            "error_x": {
             "color": "#2a3f5f"
            },
            "error_y": {
             "color": "#2a3f5f"
            },
            "marker": {
             "line": {
              "color": "#E5ECF6",
              "width": 0.5
             },
             "pattern": {
              "fillmode": "overlay",
              "size": 10,
              "solidity": 0.2
             }
            },
            "type": "bar"
           }
          ],
          "barpolar": [
           {
            "marker": {
             "line": {
              "color": "#E5ECF6",
              "width": 0.5
             },
             "pattern": {
              "fillmode": "overlay",
              "size": 10,
              "solidity": 0.2
             }
            },
            "type": "barpolar"
           }
          ],
          "carpet": [
           {
            "aaxis": {
             "endlinecolor": "#2a3f5f",
             "gridcolor": "white",
             "linecolor": "white",
             "minorgridcolor": "white",
             "startlinecolor": "#2a3f5f"
            },
            "baxis": {
             "endlinecolor": "#2a3f5f",
             "gridcolor": "white",
             "linecolor": "white",
             "minorgridcolor": "white",
             "startlinecolor": "#2a3f5f"
            },
            "type": "carpet"
           }
          ],
          "choropleth": [
           {
            "colorbar": {
             "outlinewidth": 0,
             "ticks": ""
            },
            "type": "choropleth"
           }
          ],
          "contour": [
           {
            "colorbar": {
             "outlinewidth": 0,
             "ticks": ""
            },
            "colorscale": [
             [
              0,
              "#0d0887"
             ],
             [
              0.1111111111111111,
              "#46039f"
             ],
             [
              0.2222222222222222,
              "#7201a8"
             ],
             [
              0.3333333333333333,
              "#9c179e"
             ],
             [
              0.4444444444444444,
              "#bd3786"
             ],
             [
              0.5555555555555556,
              "#d8576b"
             ],
             [
              0.6666666666666666,
              "#ed7953"
             ],
             [
              0.7777777777777778,
              "#fb9f3a"
             ],
             [
              0.8888888888888888,
              "#fdca26"
             ],
             [
              1,
              "#f0f921"
             ]
            ],
            "type": "contour"
           }
          ],
          "contourcarpet": [
           {
            "colorbar": {
             "outlinewidth": 0,
             "ticks": ""
            },
            "type": "contourcarpet"
           }
          ],
          "heatmap": [
           {
            "colorbar": {
             "outlinewidth": 0,
             "ticks": ""
            },
            "colorscale": [
             [
              0,
              "#0d0887"
             ],
             [
              0.1111111111111111,
              "#46039f"
             ],
             [
              0.2222222222222222,
              "#7201a8"
             ],
             [
              0.3333333333333333,
              "#9c179e"
             ],
             [
              0.4444444444444444,
              "#bd3786"
             ],
             [
              0.5555555555555556,
              "#d8576b"
             ],
             [
              0.6666666666666666,
              "#ed7953"
             ],
             [
              0.7777777777777778,
              "#fb9f3a"
             ],
             [
              0.8888888888888888,
              "#fdca26"
             ],
             [
              1,
              "#f0f921"
             ]
            ],
            "type": "heatmap"
           }
          ],
          "heatmapgl": [
           {
            "colorbar": {
             "outlinewidth": 0,
             "ticks": ""
            },
            "colorscale": [
             [
              0,
              "#0d0887"
             ],
             [
              0.1111111111111111,
              "#46039f"
             ],
             [
              0.2222222222222222,
              "#7201a8"
             ],
             [
              0.3333333333333333,
              "#9c179e"
             ],
             [
              0.4444444444444444,
              "#bd3786"
             ],
             [
              0.5555555555555556,
              "#d8576b"
             ],
             [
              0.6666666666666666,
              "#ed7953"
             ],
             [
              0.7777777777777778,
              "#fb9f3a"
             ],
             [
              0.8888888888888888,
              "#fdca26"
             ],
             [
              1,
              "#f0f921"
             ]
            ],
            "type": "heatmapgl"
           }
          ],
          "histogram": [
           {
            "marker": {
             "pattern": {
              "fillmode": "overlay",
              "size": 10,
              "solidity": 0.2
             }
            },
            "type": "histogram"
           }
          ],
          "histogram2d": [
           {
            "colorbar": {
             "outlinewidth": 0,
             "ticks": ""
            },
            "colorscale": [
             [
              0,
              "#0d0887"
             ],
             [
              0.1111111111111111,
              "#46039f"
             ],
             [
              0.2222222222222222,
              "#7201a8"
             ],
             [
              0.3333333333333333,
              "#9c179e"
             ],
             [
              0.4444444444444444,
              "#bd3786"
             ],
             [
              0.5555555555555556,
              "#d8576b"
             ],
             [
              0.6666666666666666,
              "#ed7953"
             ],
             [
              0.7777777777777778,
              "#fb9f3a"
             ],
             [
              0.8888888888888888,
              "#fdca26"
             ],
             [
              1,
              "#f0f921"
             ]
            ],
            "type": "histogram2d"
           }
          ],
          "histogram2dcontour": [
           {
            "colorbar": {
             "outlinewidth": 0,
             "ticks": ""
            },
            "colorscale": [
             [
              0,
              "#0d0887"
             ],
             [
              0.1111111111111111,
              "#46039f"
             ],
             [
              0.2222222222222222,
              "#7201a8"
             ],
             [
              0.3333333333333333,
              "#9c179e"
             ],
             [
              0.4444444444444444,
              "#bd3786"
             ],
             [
              0.5555555555555556,
              "#d8576b"
             ],
             [
              0.6666666666666666,
              "#ed7953"
             ],
             [
              0.7777777777777778,
              "#fb9f3a"
             ],
             [
              0.8888888888888888,
              "#fdca26"
             ],
             [
              1,
              "#f0f921"
             ]
            ],
            "type": "histogram2dcontour"
           }
          ],
          "mesh3d": [
           {
            "colorbar": {
             "outlinewidth": 0,
             "ticks": ""
            },
            "type": "mesh3d"
           }
          ],
          "parcoords": [
           {
            "line": {
             "colorbar": {
              "outlinewidth": 0,
              "ticks": ""
             }
            },
            "type": "parcoords"
           }
          ],
          "pie": [
           {
            "automargin": true,
            "type": "pie"
           }
          ],
          "scatter": [
           {
            "fillpattern": {
             "fillmode": "overlay",
             "size": 10,
             "solidity": 0.2
            },
            "type": "scatter"
           }
          ],
          "scatter3d": [
           {
            "line": {
             "colorbar": {
              "outlinewidth": 0,
              "ticks": ""
             }
            },
            "marker": {
             "colorbar": {
              "outlinewidth": 0,
              "ticks": ""
             }
            },
            "type": "scatter3d"
           }
          ],
          "scattercarpet": [
           {
            "marker": {
             "colorbar": {
              "outlinewidth": 0,
              "ticks": ""
             }
            },
            "type": "scattercarpet"
           }
          ],
          "scattergeo": [
           {
            "marker": {
             "colorbar": {
              "outlinewidth": 0,
              "ticks": ""
             }
            },
            "type": "scattergeo"
           }
          ],
          "scattergl": [
           {
            "marker": {
             "colorbar": {
              "outlinewidth": 0,
              "ticks": ""
             }
            },
            "type": "scattergl"
           }
          ],
          "scattermapbox": [
           {
            "marker": {
             "colorbar": {
              "outlinewidth": 0,
              "ticks": ""
             }
            },
            "type": "scattermapbox"
           }
          ],
          "scatterpolar": [
           {
            "marker": {
             "colorbar": {
              "outlinewidth": 0,
              "ticks": ""
             }
            },
            "type": "scatterpolar"
           }
          ],
          "scatterpolargl": [
           {
            "marker": {
             "colorbar": {
              "outlinewidth": 0,
              "ticks": ""
             }
            },
            "type": "scatterpolargl"
           }
          ],
          "scatterternary": [
           {
            "marker": {
             "colorbar": {
              "outlinewidth": 0,
              "ticks": ""
             }
            },
            "type": "scatterternary"
           }
          ],
          "surface": [
           {
            "colorbar": {
             "outlinewidth": 0,
             "ticks": ""
            },
            "colorscale": [
             [
              0,
              "#0d0887"
             ],
             [
              0.1111111111111111,
              "#46039f"
             ],
             [
              0.2222222222222222,
              "#7201a8"
             ],
             [
              0.3333333333333333,
              "#9c179e"
             ],
             [
              0.4444444444444444,
              "#bd3786"
             ],
             [
              0.5555555555555556,
              "#d8576b"
             ],
             [
              0.6666666666666666,
              "#ed7953"
             ],
             [
              0.7777777777777778,
              "#fb9f3a"
             ],
             [
              0.8888888888888888,
              "#fdca26"
             ],
             [
              1,
              "#f0f921"
             ]
            ],
            "type": "surface"
           }
          ],
          "table": [
           {
            "cells": {
             "fill": {
              "color": "#EBF0F8"
             },
             "line": {
              "color": "white"
             }
            },
            "header": {
             "fill": {
              "color": "#C8D4E3"
             },
             "line": {
              "color": "white"
             }
            },
            "type": "table"
           }
          ]
         },
         "layout": {
          "annotationdefaults": {
           "arrowcolor": "#2a3f5f",
           "arrowhead": 0,
           "arrowwidth": 1
          },
          "autotypenumbers": "strict",
          "coloraxis": {
           "colorbar": {
            "outlinewidth": 0,
            "ticks": ""
           }
          },
          "colorscale": {
           "diverging": [
            [
             0,
             "#8e0152"
            ],
            [
             0.1,
             "#c51b7d"
            ],
            [
             0.2,
             "#de77ae"
            ],
            [
             0.3,
             "#f1b6da"
            ],
            [
             0.4,
             "#fde0ef"
            ],
            [
             0.5,
             "#f7f7f7"
            ],
            [
             0.6,
             "#e6f5d0"
            ],
            [
             0.7,
             "#b8e186"
            ],
            [
             0.8,
             "#7fbc41"
            ],
            [
             0.9,
             "#4d9221"
            ],
            [
             1,
             "#276419"
            ]
           ],
           "sequential": [
            [
             0,
             "#0d0887"
            ],
            [
             0.1111111111111111,
             "#46039f"
            ],
            [
             0.2222222222222222,
             "#7201a8"
            ],
            [
             0.3333333333333333,
             "#9c179e"
            ],
            [
             0.4444444444444444,
             "#bd3786"
            ],
            [
             0.5555555555555556,
             "#d8576b"
            ],
            [
             0.6666666666666666,
             "#ed7953"
            ],
            [
             0.7777777777777778,
             "#fb9f3a"
            ],
            [
             0.8888888888888888,
             "#fdca26"
            ],
            [
             1,
             "#f0f921"
            ]
           ],
           "sequentialminus": [
            [
             0,
             "#0d0887"
            ],
            [
             0.1111111111111111,
             "#46039f"
            ],
            [
             0.2222222222222222,
             "#7201a8"
            ],
            [
             0.3333333333333333,
             "#9c179e"
            ],
            [
             0.4444444444444444,
             "#bd3786"
            ],
            [
             0.5555555555555556,
             "#d8576b"
            ],
            [
             0.6666666666666666,
             "#ed7953"
            ],
            [
             0.7777777777777778,
             "#fb9f3a"
            ],
            [
             0.8888888888888888,
             "#fdca26"
            ],
            [
             1,
             "#f0f921"
            ]
           ]
          },
          "colorway": [
           "#636efa",
           "#EF553B",
           "#00cc96",
           "#ab63fa",
           "#FFA15A",
           "#19d3f3",
           "#FF6692",
           "#B6E880",
           "#FF97FF",
           "#FECB52"
          ],
          "font": {
           "color": "#2a3f5f"
          },
          "geo": {
           "bgcolor": "white",
           "lakecolor": "white",
           "landcolor": "#E5ECF6",
           "showlakes": true,
           "showland": true,
           "subunitcolor": "white"
          },
          "hoverlabel": {
           "align": "left"
          },
          "hovermode": "closest",
          "mapbox": {
           "style": "light"
          },
          "paper_bgcolor": "white",
          "plot_bgcolor": "#E5ECF6",
          "polar": {
           "angularaxis": {
            "gridcolor": "white",
            "linecolor": "white",
            "ticks": ""
           },
           "bgcolor": "#E5ECF6",
           "radialaxis": {
            "gridcolor": "white",
            "linecolor": "white",
            "ticks": ""
           }
          },
          "scene": {
           "xaxis": {
            "backgroundcolor": "#E5ECF6",
            "gridcolor": "white",
            "gridwidth": 2,
            "linecolor": "white",
            "showbackground": true,
            "ticks": "",
            "zerolinecolor": "white"
           },
           "yaxis": {
            "backgroundcolor": "#E5ECF6",
            "gridcolor": "white",
            "gridwidth": 2,
            "linecolor": "white",
            "showbackground": true,
            "ticks": "",
            "zerolinecolor": "white"
           },
           "zaxis": {
            "backgroundcolor": "#E5ECF6",
            "gridcolor": "white",
            "gridwidth": 2,
            "linecolor": "white",
            "showbackground": true,
            "ticks": "",
            "zerolinecolor": "white"
           }
          },
          "shapedefaults": {
           "line": {
            "color": "#2a3f5f"
           }
          },
          "ternary": {
           "aaxis": {
            "gridcolor": "white",
            "linecolor": "white",
            "ticks": ""
           },
           "baxis": {
            "gridcolor": "white",
            "linecolor": "white",
            "ticks": ""
           },
           "bgcolor": "#E5ECF6",
           "caxis": {
            "gridcolor": "white",
            "linecolor": "white",
            "ticks": ""
           }
          },
          "title": {
           "x": 0.05
          },
          "xaxis": {
           "automargin": true,
           "gridcolor": "white",
           "linecolor": "white",
           "ticks": "",
           "title": {
            "standoff": 15
           },
           "zerolinecolor": "white",
           "zerolinewidth": 2
          },
          "yaxis": {
           "automargin": true,
           "gridcolor": "white",
           "linecolor": "white",
           "ticks": "",
           "title": {
            "standoff": 15
           },
           "zerolinecolor": "white",
           "zerolinewidth": 2
          }
         }
        },
        "title": {
         "text": "Trained and Predicted Values"
        },
        "width": 1250,
        "xaxis": {
         "title": {
          "text": "Petal Length"
         }
        },
        "yaxis": {
         "title": {
          "text": "Petal Width"
         }
        }
       }
      }
     },
     "metadata": {},
     "output_type": "display_data"
    }
   ],
   "source": [
    "train_data = train_data.astype({\"class\": str})\n",
    "predicted_data = pd.concat([new_data.reset_index(drop=True).drop(columns=\"class\"), reaction[\"action\"]], axis=1)\n",
    "predicted_data = predicted_data.astype({\"class\": str})\n",
    "\n",
    "cmap = px.colors.qualitative.D3\n",
    "fig = go.Figure()\n",
    "for i, (label, group) in enumerate(train_data.groupby(\"class\")):\n",
    "    fig.add_trace(go.Scatter(\n",
    "        x=group[\"petal length\"],\n",
    "        y=group[\"petal width\"],\n",
    "        mode=\"markers\",\n",
    "        name=label,\n",
    "        marker=dict(color=cmap[i], opacity=0.75),\n",
    "        legendgroup=\"trained\",\n",
    "        legendgrouptitle_text=\"Trained class\",\n",
    "    ))\n",
    "\n",
    "for i, (label, group) in enumerate(predicted_data.groupby(\"class\")):\n",
    "    fig.add_trace(go.Scatter(\n",
    "        x=group[\"petal length\"],\n",
    "        y=group[\"petal width\"],\n",
    "        mode=\"markers\",\n",
    "        marker=dict(size=12, symbol=\"star\", color=cmap[i], opacity=0.75),\n",
    "        name=label,\n",
    "        legendgroup=\"predicted\",\n",
    "        legendgrouptitle_text=\"Predicted class\",\n",
    "        hovertext=group.index,\n",
    "    ))\n",
    "\n",
    "fig.update_layout(\n",
    "    xaxis_title=\"Petal Length\",\n",
    "    yaxis_title=\"Petal Width\",\n",
    "    width=1250,\n",
    "    title=\"Trained and Predicted Values\"\n",
    ")\n",
    "fig.show()"
   ]
  },
  {
   "cell_type": "markdown",
   "metadata": {},
   "source": [
    "For categorical action features, the prediction can be further understood with the `categorical_action_probabilities` detail.  \n",
    "This shows the probability of each possible value of the target feature. This information can highlight cases that are on the\n",
    "border of two classes, like some of the above points are.  The closer a case gets to a class border, the more mixed the\n",
    "categorical action probabilities may get."
   ]
  },
  {
   "cell_type": "code",
   "execution_count": 5,
   "metadata": {
    "execution": {
     "iopub.execute_input": "2024-05-30T18:23:44.896098Z",
     "iopub.status.busy": "2024-05-30T18:23:44.895804Z",
     "iopub.status.idle": "2024-05-30T18:23:44.901025Z",
     "shell.execute_reply": "2024-05-30T18:23:44.900498Z"
    }
   },
   "outputs": [
    {
     "name": "stdout",
     "output_type": "stream",
     "text": [
      "[{'class': {'Iris-versicolor': 1}},\n",
      " {'class': {'Iris-versicolor': 0.2595332698293332,\n",
      "            'Iris-virginica': 0.7404667301706668}},\n",
      " {'class': {'Iris-versicolor': 0.10794626774761718,\n",
      "            'Iris-virginica': 0.8920537322523828}},\n",
      " {'class': {'Iris-versicolor': 0.22564354170984102,\n",
      "            'Iris-virginica': 0.774356458290159}},\n",
      " {'class': {'Iris-versicolor': 0.5286933842008528,\n",
      "            'Iris-virginica': 0.47130661579914723}},\n",
      " {'class': {'Iris-versicolor': 1}}, {'class': {'Iris-setosa': 1}},\n",
      " {'class': {'Iris-versicolor': 0.1589391970055096,\n",
      "            'Iris-virginica': 0.8410608029944904}},\n",
      " {'class': {'Iris-versicolor': 1}}, {'class': {'Iris-versicolor': 1}},\n",
      " {'class': {'Iris-virginica': 1}}, {'class': {'Iris-versicolor': 1}},\n",
      " {'class': {'Iris-setosa': 1}},\n",
      " {'class': {'Iris-versicolor': 0.28037551436519886,\n",
      "            'Iris-virginica': 0.7196244856348012}},\n",
      " {'class': {'Iris-versicolor': 0.9324953588068614,\n",
      "            'Iris-virginica': 0.06750464119313854}},\n",
      " {'class': {'Iris-setosa': 1}}, {'class': {'Iris-setosa': 1}},\n",
      " {'class': {'Iris-versicolor': 0.3484725453695243,\n",
      "            'Iris-virginica': 0.6515274546304756}},\n",
      " {'class': {'Iris-versicolor': 0.14069503056927085,\n",
      "            'Iris-virginica': 0.8593049694307292}},\n",
      " {'class': {'Iris-versicolor': 0.9362032715408749,\n",
      "            'Iris-virginica': 0.06379672845912507}},\n",
      " {'class': {'Iris-setosa': 1}}, {'class': {'Iris-versicolor': 1}},\n",
      " {'class': {'Iris-versicolor': 0.9190245651673933,\n",
      "            'Iris-virginica': 0.08097543483260664}},\n",
      " {'class': {'Iris-setosa': 1}}, {'class': {'Iris-setosa': 1}},\n",
      " {'class': {'Iris-versicolor': 0.33802972962033945,\n",
      "            'Iris-virginica': 0.6619702703796605}},\n",
      " {'class': {'Iris-virginica': 1}},\n",
      " {'class': {'Iris-versicolor': 0.9478622289872144,\n",
      "            'Iris-virginica': 0.05213777101278559}},\n",
      " {'class': {'Iris-versicolor': 0.11346191641297962,\n",
      "            'Iris-virginica': 0.8865380835870204}},\n",
      " {'class': {'Iris-virginica': 1}}]\n"
     ]
    }
   ],
   "source": [
    "pprint(reaction[\"details\"][\"categorical_action_probabilities\"], compact=True)"
   ]
  },
  {
   "cell_type": "markdown",
   "metadata": {},
   "source": [
    "For example, if we look at case `4`, we see a mix of probabilities because this case is on the border of two classes."
   ]
  },
  {
   "cell_type": "code",
   "execution_count": 6,
   "metadata": {
    "execution": {
     "iopub.execute_input": "2024-05-30T18:23:44.903221Z",
     "iopub.status.busy": "2024-05-30T18:23:44.903029Z",
     "iopub.status.idle": "2024-05-30T18:23:44.906813Z",
     "shell.execute_reply": "2024-05-30T18:23:44.906344Z"
    }
   },
   "outputs": [
    {
     "data": {
      "text/plain": [
       "{'class': {'Iris-virginica': 0.47130661579914723,\n",
       "  'Iris-versicolor': 0.5286933842008528}}"
      ]
     },
     "execution_count": 6,
     "metadata": {},
     "output_type": "execute_result"
    }
   ],
   "source": [
    "reaction[\"details\"][\"categorical_action_probabilities\"][4]"
   ]
  },
  {
   "cell_type": "markdown",
   "metadata": {},
   "source": [
    "### Insight 1: Which Cases Contributed?\n",
    "\n",
    "Howso provides complete attribution for any and all predictions, showing exactly which cases influenced each prediction.  This can be used to understand or debug predictions.  For instance,\n",
    "we can inspect the influential cases for one of the cases (case `4`) that was on the decision boundary in the plot above.  We can see that there is a mix of class values and no cases stand\n",
    "out in terms of influence weight:"
   ]
  },
  {
   "cell_type": "code",
   "execution_count": 7,
   "metadata": {
    "execution": {
     "iopub.execute_input": "2024-05-30T18:23:44.908972Z",
     "iopub.status.busy": "2024-05-30T18:23:44.908784Z",
     "iopub.status.idle": "2024-05-30T18:23:44.920636Z",
     "shell.execute_reply": "2024-05-30T18:23:44.920122Z"
    }
   },
   "outputs": [
    {
     "data": {
      "text/html": [
       "<div>\n",
       "<style scoped>\n",
       "    .dataframe tbody tr th:only-of-type {\n",
       "        vertical-align: middle;\n",
       "    }\n",
       "\n",
       "    .dataframe tbody tr th {\n",
       "        vertical-align: top;\n",
       "    }\n",
       "\n",
       "    .dataframe thead th {\n",
       "        text-align: right;\n",
       "    }\n",
       "</style>\n",
       "<table border=\"1\" class=\"dataframe\">\n",
       "  <thead>\n",
       "    <tr style=\"text-align: right;\">\n",
       "      <th></th>\n",
       "      <th>.session_training_index</th>\n",
       "      <th>petal length</th>\n",
       "      <th>class</th>\n",
       "      <th>.session</th>\n",
       "      <th>sepal length</th>\n",
       "      <th>.influence_weight</th>\n",
       "      <th>petal width</th>\n",
       "      <th>sepal width</th>\n",
       "    </tr>\n",
       "  </thead>\n",
       "  <tbody>\n",
       "    <tr>\n",
       "      <th>0</th>\n",
       "      <td>89</td>\n",
       "      <td>4.7</td>\n",
       "      <td>Iris-versicolor</td>\n",
       "      <td>b18c96d3-ce53-4633-a7fe-4bc59e9c83f4</td>\n",
       "      <td>6.1</td>\n",
       "      <td>0.131990</td>\n",
       "      <td>1.4</td>\n",
       "      <td>2.9</td>\n",
       "    </tr>\n",
       "    <tr>\n",
       "      <th>1</th>\n",
       "      <td>26</td>\n",
       "      <td>4.6</td>\n",
       "      <td>Iris-versicolor</td>\n",
       "      <td>b18c96d3-ce53-4633-a7fe-4bc59e9c83f4</td>\n",
       "      <td>6.1</td>\n",
       "      <td>0.110172</td>\n",
       "      <td>1.4</td>\n",
       "      <td>3.0</td>\n",
       "    </tr>\n",
       "    <tr>\n",
       "      <th>2</th>\n",
       "      <td>61</td>\n",
       "      <td>5.6</td>\n",
       "      <td>Iris-virginica</td>\n",
       "      <td>b18c96d3-ce53-4633-a7fe-4bc59e9c83f4</td>\n",
       "      <td>6.3</td>\n",
       "      <td>0.087555</td>\n",
       "      <td>1.8</td>\n",
       "      <td>2.9</td>\n",
       "    </tr>\n",
       "    <tr>\n",
       "      <th>3</th>\n",
       "      <td>100</td>\n",
       "      <td>4.7</td>\n",
       "      <td>Iris-versicolor</td>\n",
       "      <td>b18c96d3-ce53-4633-a7fe-4bc59e9c83f4</td>\n",
       "      <td>6.1</td>\n",
       "      <td>0.076773</td>\n",
       "      <td>1.2</td>\n",
       "      <td>2.8</td>\n",
       "    </tr>\n",
       "    <tr>\n",
       "      <th>4</th>\n",
       "      <td>107</td>\n",
       "      <td>4.9</td>\n",
       "      <td>Iris-versicolor</td>\n",
       "      <td>b18c96d3-ce53-4633-a7fe-4bc59e9c83f4</td>\n",
       "      <td>6.3</td>\n",
       "      <td>0.076572</td>\n",
       "      <td>1.5</td>\n",
       "      <td>2.5</td>\n",
       "    </tr>\n",
       "    <tr>\n",
       "      <th>5</th>\n",
       "      <td>99</td>\n",
       "      <td>5.1</td>\n",
       "      <td>Iris-virginica</td>\n",
       "      <td>b18c96d3-ce53-4633-a7fe-4bc59e9c83f4</td>\n",
       "      <td>6.3</td>\n",
       "      <td>0.074906</td>\n",
       "      <td>1.5</td>\n",
       "      <td>2.8</td>\n",
       "    </tr>\n",
       "    <tr>\n",
       "      <th>6</th>\n",
       "      <td>36</td>\n",
       "      <td>5.6</td>\n",
       "      <td>Iris-virginica</td>\n",
       "      <td>b18c96d3-ce53-4633-a7fe-4bc59e9c83f4</td>\n",
       "      <td>6.4</td>\n",
       "      <td>0.068019</td>\n",
       "      <td>2.1</td>\n",
       "      <td>2.8</td>\n",
       "    </tr>\n",
       "    <tr>\n",
       "      <th>7</th>\n",
       "      <td>30</td>\n",
       "      <td>4.0</td>\n",
       "      <td>Iris-versicolor</td>\n",
       "      <td>b18c96d3-ce53-4633-a7fe-4bc59e9c83f4</td>\n",
       "      <td>6.1</td>\n",
       "      <td>0.067561</td>\n",
       "      <td>1.3</td>\n",
       "      <td>2.8</td>\n",
       "    </tr>\n",
       "    <tr>\n",
       "      <th>8</th>\n",
       "      <td>57</td>\n",
       "      <td>4.8</td>\n",
       "      <td>Iris-versicolor</td>\n",
       "      <td>b18c96d3-ce53-4633-a7fe-4bc59e9c83f4</td>\n",
       "      <td>6.8</td>\n",
       "      <td>0.065627</td>\n",
       "      <td>1.4</td>\n",
       "      <td>2.8</td>\n",
       "    </tr>\n",
       "    <tr>\n",
       "      <th>9</th>\n",
       "      <td>34</td>\n",
       "      <td>5.0</td>\n",
       "      <td>Iris-virginica</td>\n",
       "      <td>b18c96d3-ce53-4633-a7fe-4bc59e9c83f4</td>\n",
       "      <td>6.0</td>\n",
       "      <td>0.065129</td>\n",
       "      <td>1.5</td>\n",
       "      <td>2.2</td>\n",
       "    </tr>\n",
       "    <tr>\n",
       "      <th>10</th>\n",
       "      <td>46</td>\n",
       "      <td>5.6</td>\n",
       "      <td>Iris-virginica</td>\n",
       "      <td>b18c96d3-ce53-4633-a7fe-4bc59e9c83f4</td>\n",
       "      <td>6.4</td>\n",
       "      <td>0.063411</td>\n",
       "      <td>2.2</td>\n",
       "      <td>2.8</td>\n",
       "    </tr>\n",
       "    <tr>\n",
       "      <th>11</th>\n",
       "      <td>103</td>\n",
       "      <td>5.3</td>\n",
       "      <td>Iris-virginica</td>\n",
       "      <td>b18c96d3-ce53-4633-a7fe-4bc59e9c83f4</td>\n",
       "      <td>6.4</td>\n",
       "      <td>0.056346</td>\n",
       "      <td>1.9</td>\n",
       "      <td>2.7</td>\n",
       "    </tr>\n",
       "    <tr>\n",
       "      <th>12</th>\n",
       "      <td>95</td>\n",
       "      <td>4.9</td>\n",
       "      <td>Iris-virginica</td>\n",
       "      <td>b18c96d3-ce53-4633-a7fe-4bc59e9c83f4</td>\n",
       "      <td>6.1</td>\n",
       "      <td>0.055941</td>\n",
       "      <td>1.8</td>\n",
       "      <td>3.0</td>\n",
       "    </tr>\n",
       "  </tbody>\n",
       "</table>\n",
       "</div>"
      ],
      "text/plain": [
       "    .session_training_index  petal length            class  \\\n",
       "0                        89           4.7  Iris-versicolor   \n",
       "1                        26           4.6  Iris-versicolor   \n",
       "2                        61           5.6   Iris-virginica   \n",
       "3                       100           4.7  Iris-versicolor   \n",
       "4                       107           4.9  Iris-versicolor   \n",
       "5                        99           5.1   Iris-virginica   \n",
       "6                        36           5.6   Iris-virginica   \n",
       "7                        30           4.0  Iris-versicolor   \n",
       "8                        57           4.8  Iris-versicolor   \n",
       "9                        34           5.0   Iris-virginica   \n",
       "10                       46           5.6   Iris-virginica   \n",
       "11                      103           5.3   Iris-virginica   \n",
       "12                       95           4.9   Iris-virginica   \n",
       "\n",
       "                                .session  sepal length  .influence_weight  \\\n",
       "0   b18c96d3-ce53-4633-a7fe-4bc59e9c83f4           6.1           0.131990   \n",
       "1   b18c96d3-ce53-4633-a7fe-4bc59e9c83f4           6.1           0.110172   \n",
       "2   b18c96d3-ce53-4633-a7fe-4bc59e9c83f4           6.3           0.087555   \n",
       "3   b18c96d3-ce53-4633-a7fe-4bc59e9c83f4           6.1           0.076773   \n",
       "4   b18c96d3-ce53-4633-a7fe-4bc59e9c83f4           6.3           0.076572   \n",
       "5   b18c96d3-ce53-4633-a7fe-4bc59e9c83f4           6.3           0.074906   \n",
       "6   b18c96d3-ce53-4633-a7fe-4bc59e9c83f4           6.4           0.068019   \n",
       "7   b18c96d3-ce53-4633-a7fe-4bc59e9c83f4           6.1           0.067561   \n",
       "8   b18c96d3-ce53-4633-a7fe-4bc59e9c83f4           6.8           0.065627   \n",
       "9   b18c96d3-ce53-4633-a7fe-4bc59e9c83f4           6.0           0.065129   \n",
       "10  b18c96d3-ce53-4633-a7fe-4bc59e9c83f4           6.4           0.063411   \n",
       "11  b18c96d3-ce53-4633-a7fe-4bc59e9c83f4           6.4           0.056346   \n",
       "12  b18c96d3-ce53-4633-a7fe-4bc59e9c83f4           6.1           0.055941   \n",
       "\n",
       "    petal width  sepal width  \n",
       "0           1.4          2.9  \n",
       "1           1.4          3.0  \n",
       "2           1.8          2.9  \n",
       "3           1.2          2.8  \n",
       "4           1.5          2.5  \n",
       "5           1.5          2.8  \n",
       "6           2.1          2.8  \n",
       "7           1.3          2.8  \n",
       "8           1.4          2.8  \n",
       "9           1.5          2.2  \n",
       "10          2.2          2.8  \n",
       "11          1.9          2.7  \n",
       "12          1.8          3.0  "
      ]
     },
     "execution_count": 7,
     "metadata": {},
     "output_type": "execute_result"
    }
   ],
   "source": [
    "inf_cases_4 = pd.DataFrame(reaction[\"details\"][\"influential_cases\"][4])\n",
    "inf_cases_4"
   ]
  },
  {
   "cell_type": "markdown",
   "metadata": {},
   "source": [
    "Compare that to the influential cases for case `20`, which is firmly in the center of the solo cluster.  Here we see a single class value."
   ]
  },
  {
   "cell_type": "code",
   "execution_count": 8,
   "metadata": {
    "execution": {
     "iopub.execute_input": "2024-05-30T18:23:44.922964Z",
     "iopub.status.busy": "2024-05-30T18:23:44.922625Z",
     "iopub.status.idle": "2024-05-30T18:23:44.933660Z",
     "shell.execute_reply": "2024-05-30T18:23:44.933170Z"
    }
   },
   "outputs": [
    {
     "data": {
      "text/html": [
       "<div>\n",
       "<style scoped>\n",
       "    .dataframe tbody tr th:only-of-type {\n",
       "        vertical-align: middle;\n",
       "    }\n",
       "\n",
       "    .dataframe tbody tr th {\n",
       "        vertical-align: top;\n",
       "    }\n",
       "\n",
       "    .dataframe thead th {\n",
       "        text-align: right;\n",
       "    }\n",
       "</style>\n",
       "<table border=\"1\" class=\"dataframe\">\n",
       "  <thead>\n",
       "    <tr style=\"text-align: right;\">\n",
       "      <th></th>\n",
       "      <th>.session_training_index</th>\n",
       "      <th>petal length</th>\n",
       "      <th>class</th>\n",
       "      <th>.session</th>\n",
       "      <th>sepal length</th>\n",
       "      <th>.influence_weight</th>\n",
       "      <th>petal width</th>\n",
       "      <th>sepal width</th>\n",
       "    </tr>\n",
       "  </thead>\n",
       "  <tbody>\n",
       "    <tr>\n",
       "      <th>0</th>\n",
       "      <td>63</td>\n",
       "      <td>1.6</td>\n",
       "      <td>Iris-setosa</td>\n",
       "      <td>b18c96d3-ce53-4633-a7fe-4bc59e9c83f4</td>\n",
       "      <td>5.0</td>\n",
       "      <td>0.136586</td>\n",
       "      <td>0.4</td>\n",
       "      <td>3.4</td>\n",
       "    </tr>\n",
       "    <tr>\n",
       "      <th>1</th>\n",
       "      <td>9</td>\n",
       "      <td>1.7</td>\n",
       "      <td>Iris-setosa</td>\n",
       "      <td>b18c96d3-ce53-4633-a7fe-4bc59e9c83f4</td>\n",
       "      <td>5.4</td>\n",
       "      <td>0.109489</td>\n",
       "      <td>0.2</td>\n",
       "      <td>3.4</td>\n",
       "    </tr>\n",
       "    <tr>\n",
       "      <th>2</th>\n",
       "      <td>85</td>\n",
       "      <td>1.5</td>\n",
       "      <td>Iris-setosa</td>\n",
       "      <td>b18c96d3-ce53-4633-a7fe-4bc59e9c83f4</td>\n",
       "      <td>5.1</td>\n",
       "      <td>0.091502</td>\n",
       "      <td>0.2</td>\n",
       "      <td>3.4</td>\n",
       "    </tr>\n",
       "    <tr>\n",
       "      <th>3</th>\n",
       "      <td>117</td>\n",
       "      <td>1.5</td>\n",
       "      <td>Iris-setosa</td>\n",
       "      <td>b18c96d3-ce53-4633-a7fe-4bc59e9c83f4</td>\n",
       "      <td>5.1</td>\n",
       "      <td>0.087351</td>\n",
       "      <td>0.4</td>\n",
       "      <td>3.7</td>\n",
       "    </tr>\n",
       "    <tr>\n",
       "      <th>4</th>\n",
       "      <td>69</td>\n",
       "      <td>1.5</td>\n",
       "      <td>Iris-setosa</td>\n",
       "      <td>b18c96d3-ce53-4633-a7fe-4bc59e9c83f4</td>\n",
       "      <td>5.0</td>\n",
       "      <td>0.079467</td>\n",
       "      <td>0.2</td>\n",
       "      <td>3.4</td>\n",
       "    </tr>\n",
       "    <tr>\n",
       "      <th>5</th>\n",
       "      <td>104</td>\n",
       "      <td>1.5</td>\n",
       "      <td>Iris-setosa</td>\n",
       "      <td>b18c96d3-ce53-4633-a7fe-4bc59e9c83f4</td>\n",
       "      <td>5.4</td>\n",
       "      <td>0.078586</td>\n",
       "      <td>0.2</td>\n",
       "      <td>3.7</td>\n",
       "    </tr>\n",
       "    <tr>\n",
       "      <th>6</th>\n",
       "      <td>47</td>\n",
       "      <td>1.7</td>\n",
       "      <td>Iris-setosa</td>\n",
       "      <td>b18c96d3-ce53-4633-a7fe-4bc59e9c83f4</td>\n",
       "      <td>5.4</td>\n",
       "      <td>0.075887</td>\n",
       "      <td>0.4</td>\n",
       "      <td>3.9</td>\n",
       "    </tr>\n",
       "    <tr>\n",
       "      <th>7</th>\n",
       "      <td>21</td>\n",
       "      <td>1.3</td>\n",
       "      <td>Iris-setosa</td>\n",
       "      <td>b18c96d3-ce53-4633-a7fe-4bc59e9c83f4</td>\n",
       "      <td>5.4</td>\n",
       "      <td>0.075887</td>\n",
       "      <td>0.4</td>\n",
       "      <td>3.9</td>\n",
       "    </tr>\n",
       "    <tr>\n",
       "      <th>8</th>\n",
       "      <td>43</td>\n",
       "      <td>1.4</td>\n",
       "      <td>Iris-setosa</td>\n",
       "      <td>b18c96d3-ce53-4633-a7fe-4bc59e9c83f4</td>\n",
       "      <td>5.2</td>\n",
       "      <td>0.064990</td>\n",
       "      <td>0.2</td>\n",
       "      <td>3.4</td>\n",
       "    </tr>\n",
       "    <tr>\n",
       "      <th>9</th>\n",
       "      <td>0</td>\n",
       "      <td>1.5</td>\n",
       "      <td>Iris-setosa</td>\n",
       "      <td>b18c96d3-ce53-4633-a7fe-4bc59e9c83f4</td>\n",
       "      <td>5.2</td>\n",
       "      <td>0.060322</td>\n",
       "      <td>0.2</td>\n",
       "      <td>3.5</td>\n",
       "    </tr>\n",
       "    <tr>\n",
       "      <th>10</th>\n",
       "      <td>68</td>\n",
       "      <td>1.5</td>\n",
       "      <td>Iris-setosa</td>\n",
       "      <td>b18c96d3-ce53-4633-a7fe-4bc59e9c83f4</td>\n",
       "      <td>5.3</td>\n",
       "      <td>0.050081</td>\n",
       "      <td>0.2</td>\n",
       "      <td>3.7</td>\n",
       "    </tr>\n",
       "    <tr>\n",
       "      <th>11</th>\n",
       "      <td>83</td>\n",
       "      <td>1.4</td>\n",
       "      <td>Iris-setosa</td>\n",
       "      <td>b18c96d3-ce53-4633-a7fe-4bc59e9c83f4</td>\n",
       "      <td>4.6</td>\n",
       "      <td>0.045536</td>\n",
       "      <td>0.3</td>\n",
       "      <td>3.4</td>\n",
       "    </tr>\n",
       "    <tr>\n",
       "      <th>12</th>\n",
       "      <td>48</td>\n",
       "      <td>1.4</td>\n",
       "      <td>Iris-setosa</td>\n",
       "      <td>b18c96d3-ce53-4633-a7fe-4bc59e9c83f4</td>\n",
       "      <td>5.1</td>\n",
       "      <td>0.044317</td>\n",
       "      <td>0.3</td>\n",
       "      <td>3.5</td>\n",
       "    </tr>\n",
       "  </tbody>\n",
       "</table>\n",
       "</div>"
      ],
      "text/plain": [
       "    .session_training_index  petal length        class  \\\n",
       "0                        63           1.6  Iris-setosa   \n",
       "1                         9           1.7  Iris-setosa   \n",
       "2                        85           1.5  Iris-setosa   \n",
       "3                       117           1.5  Iris-setosa   \n",
       "4                        69           1.5  Iris-setosa   \n",
       "5                       104           1.5  Iris-setosa   \n",
       "6                        47           1.7  Iris-setosa   \n",
       "7                        21           1.3  Iris-setosa   \n",
       "8                        43           1.4  Iris-setosa   \n",
       "9                         0           1.5  Iris-setosa   \n",
       "10                       68           1.5  Iris-setosa   \n",
       "11                       83           1.4  Iris-setosa   \n",
       "12                       48           1.4  Iris-setosa   \n",
       "\n",
       "                                .session  sepal length  .influence_weight  \\\n",
       "0   b18c96d3-ce53-4633-a7fe-4bc59e9c83f4           5.0           0.136586   \n",
       "1   b18c96d3-ce53-4633-a7fe-4bc59e9c83f4           5.4           0.109489   \n",
       "2   b18c96d3-ce53-4633-a7fe-4bc59e9c83f4           5.1           0.091502   \n",
       "3   b18c96d3-ce53-4633-a7fe-4bc59e9c83f4           5.1           0.087351   \n",
       "4   b18c96d3-ce53-4633-a7fe-4bc59e9c83f4           5.0           0.079467   \n",
       "5   b18c96d3-ce53-4633-a7fe-4bc59e9c83f4           5.4           0.078586   \n",
       "6   b18c96d3-ce53-4633-a7fe-4bc59e9c83f4           5.4           0.075887   \n",
       "7   b18c96d3-ce53-4633-a7fe-4bc59e9c83f4           5.4           0.075887   \n",
       "8   b18c96d3-ce53-4633-a7fe-4bc59e9c83f4           5.2           0.064990   \n",
       "9   b18c96d3-ce53-4633-a7fe-4bc59e9c83f4           5.2           0.060322   \n",
       "10  b18c96d3-ce53-4633-a7fe-4bc59e9c83f4           5.3           0.050081   \n",
       "11  b18c96d3-ce53-4633-a7fe-4bc59e9c83f4           4.6           0.045536   \n",
       "12  b18c96d3-ce53-4633-a7fe-4bc59e9c83f4           5.1           0.044317   \n",
       "\n",
       "    petal width  sepal width  \n",
       "0           0.4          3.4  \n",
       "1           0.2          3.4  \n",
       "2           0.2          3.4  \n",
       "3           0.4          3.7  \n",
       "4           0.2          3.4  \n",
       "5           0.2          3.7  \n",
       "6           0.4          3.9  \n",
       "7           0.4          3.9  \n",
       "8           0.2          3.4  \n",
       "9           0.2          3.5  \n",
       "10          0.2          3.7  \n",
       "11          0.3          3.4  \n",
       "12          0.3          3.5  "
      ]
     },
     "execution_count": 8,
     "metadata": {},
     "output_type": "execute_result"
    }
   ],
   "source": [
    "inf_cases_20 = pd.DataFrame(reaction[\"details\"][\"influential_cases\"][20])\n",
    "inf_cases_20"
   ]
  },
  {
   "cell_type": "markdown",
   "metadata": {},
   "source": [
    "With the influential cases we can derive additional insights, such as identifying anomalous cases from within the influential cases using `similarity_conviction`.  \n",
    "This can help to identify data that are making predictions more noisy or identify what type of data should be collected to improve predictive power in the future."
   ]
  },
  {
   "cell_type": "code",
   "execution_count": 9,
   "metadata": {
    "execution": {
     "iopub.execute_input": "2024-05-30T18:23:44.935850Z",
     "iopub.status.busy": "2024-05-30T18:23:44.935669Z",
     "iopub.status.idle": "2024-05-30T18:23:44.948740Z",
     "shell.execute_reply": "2024-05-30T18:23:44.948213Z"
    }
   },
   "outputs": [
    {
     "data": {
      "text/html": [
       "<div>\n",
       "<style scoped>\n",
       "    .dataframe tbody tr th:only-of-type {\n",
       "        vertical-align: middle;\n",
       "    }\n",
       "\n",
       "    .dataframe tbody tr th {\n",
       "        vertical-align: top;\n",
       "    }\n",
       "\n",
       "    .dataframe thead th {\n",
       "        text-align: right;\n",
       "    }\n",
       "</style>\n",
       "<table border=\"1\" class=\"dataframe\">\n",
       "  <thead>\n",
       "    <tr style=\"text-align: right;\">\n",
       "      <th></th>\n",
       "      <th>sepal length</th>\n",
       "      <th>sepal width</th>\n",
       "      <th>petal length</th>\n",
       "      <th>petal width</th>\n",
       "      <th>class</th>\n",
       "      <th>similarity_conviction</th>\n",
       "    </tr>\n",
       "  </thead>\n",
       "  <tbody>\n",
       "    <tr>\n",
       "      <th>9</th>\n",
       "      <td>6.0</td>\n",
       "      <td>2.2</td>\n",
       "      <td>5.0</td>\n",
       "      <td>1.5</td>\n",
       "      <td>Iris-virginica</td>\n",
       "      <td>0.539253</td>\n",
       "    </tr>\n",
       "    <tr>\n",
       "      <th>4</th>\n",
       "      <td>6.3</td>\n",
       "      <td>2.5</td>\n",
       "      <td>4.9</td>\n",
       "      <td>1.5</td>\n",
       "      <td>Iris-versicolor</td>\n",
       "      <td>0.792240</td>\n",
       "    </tr>\n",
       "    <tr>\n",
       "      <th>5</th>\n",
       "      <td>6.3</td>\n",
       "      <td>2.8</td>\n",
       "      <td>5.1</td>\n",
       "      <td>1.5</td>\n",
       "      <td>Iris-virginica</td>\n",
       "      <td>0.898850</td>\n",
       "    </tr>\n",
       "    <tr>\n",
       "      <th>8</th>\n",
       "      <td>6.8</td>\n",
       "      <td>2.8</td>\n",
       "      <td>4.8</td>\n",
       "      <td>1.4</td>\n",
       "      <td>Iris-versicolor</td>\n",
       "      <td>0.979947</td>\n",
       "    </tr>\n",
       "    <tr>\n",
       "      <th>11</th>\n",
       "      <td>6.4</td>\n",
       "      <td>2.7</td>\n",
       "      <td>5.3</td>\n",
       "      <td>1.9</td>\n",
       "      <td>Iris-virginica</td>\n",
       "      <td>1.053570</td>\n",
       "    </tr>\n",
       "    <tr>\n",
       "      <th>1</th>\n",
       "      <td>6.1</td>\n",
       "      <td>3.0</td>\n",
       "      <td>4.6</td>\n",
       "      <td>1.4</td>\n",
       "      <td>Iris-versicolor</td>\n",
       "      <td>1.061901</td>\n",
       "    </tr>\n",
       "    <tr>\n",
       "      <th>3</th>\n",
       "      <td>6.1</td>\n",
       "      <td>2.8</td>\n",
       "      <td>4.7</td>\n",
       "      <td>1.2</td>\n",
       "      <td>Iris-versicolor</td>\n",
       "      <td>1.098104</td>\n",
       "    </tr>\n",
       "    <tr>\n",
       "      <th>2</th>\n",
       "      <td>6.3</td>\n",
       "      <td>2.9</td>\n",
       "      <td>5.6</td>\n",
       "      <td>1.8</td>\n",
       "      <td>Iris-virginica</td>\n",
       "      <td>1.116685</td>\n",
       "    </tr>\n",
       "    <tr>\n",
       "      <th>12</th>\n",
       "      <td>6.1</td>\n",
       "      <td>3.0</td>\n",
       "      <td>4.9</td>\n",
       "      <td>1.8</td>\n",
       "      <td>Iris-virginica</td>\n",
       "      <td>1.157880</td>\n",
       "    </tr>\n",
       "    <tr>\n",
       "      <th>7</th>\n",
       "      <td>6.1</td>\n",
       "      <td>2.8</td>\n",
       "      <td>4.0</td>\n",
       "      <td>1.3</td>\n",
       "      <td>Iris-versicolor</td>\n",
       "      <td>1.168627</td>\n",
       "    </tr>\n",
       "    <tr>\n",
       "      <th>0</th>\n",
       "      <td>6.1</td>\n",
       "      <td>2.9</td>\n",
       "      <td>4.7</td>\n",
       "      <td>1.4</td>\n",
       "      <td>Iris-versicolor</td>\n",
       "      <td>1.246306</td>\n",
       "    </tr>\n",
       "    <tr>\n",
       "      <th>6</th>\n",
       "      <td>6.4</td>\n",
       "      <td>2.8</td>\n",
       "      <td>5.6</td>\n",
       "      <td>2.1</td>\n",
       "      <td>Iris-virginica</td>\n",
       "      <td>1.730693</td>\n",
       "    </tr>\n",
       "    <tr>\n",
       "      <th>10</th>\n",
       "      <td>6.4</td>\n",
       "      <td>2.8</td>\n",
       "      <td>5.6</td>\n",
       "      <td>2.2</td>\n",
       "      <td>Iris-virginica</td>\n",
       "      <td>1.730825</td>\n",
       "    </tr>\n",
       "  </tbody>\n",
       "</table>\n",
       "</div>"
      ],
      "text/plain": [
       "    sepal length  sepal width  petal length  petal width            class  \\\n",
       "9            6.0          2.2           5.0          1.5   Iris-virginica   \n",
       "4            6.3          2.5           4.9          1.5  Iris-versicolor   \n",
       "5            6.3          2.8           5.1          1.5   Iris-virginica   \n",
       "8            6.8          2.8           4.8          1.4  Iris-versicolor   \n",
       "11           6.4          2.7           5.3          1.9   Iris-virginica   \n",
       "1            6.1          3.0           4.6          1.4  Iris-versicolor   \n",
       "3            6.1          2.8           4.7          1.2  Iris-versicolor   \n",
       "2            6.3          2.9           5.6          1.8   Iris-virginica   \n",
       "12           6.1          3.0           4.9          1.8   Iris-virginica   \n",
       "7            6.1          2.8           4.0          1.3  Iris-versicolor   \n",
       "0            6.1          2.9           4.7          1.4  Iris-versicolor   \n",
       "6            6.4          2.8           5.6          2.1   Iris-virginica   \n",
       "10           6.4          2.8           5.6          2.2   Iris-virginica   \n",
       "\n",
       "    similarity_conviction  \n",
       "9                0.539253  \n",
       "4                0.792240  \n",
       "5                0.898850  \n",
       "8                0.979947  \n",
       "11               1.053570  \n",
       "1                1.061901  \n",
       "3                1.098104  \n",
       "2                1.116685  \n",
       "12               1.157880  \n",
       "7                1.168627  \n",
       "0                1.246306  \n",
       "6                1.730693  \n",
       "10               1.730825  "
      ]
     },
     "execution_count": 9,
     "metadata": {},
     "output_type": "execute_result"
    }
   ],
   "source": [
    "inf_case_indices = inf_cases_4[[\".session\", \".session_training_index\"]].values.tolist()\n",
    "\n",
    "anom_df = t.get_cases(\n",
    "    case_indices=inf_case_indices,\n",
    "    features=[\"sepal length\", \"sepal width\", \"petal length\", \"petal width\", \"class\", \"similarity_conviction\"]\n",
    ")\n",
    "\n",
    "anom_df.sort_values(by=\"similarity_conviction\")"
   ]
  },
  {
   "cell_type": "code",
   "execution_count": 10,
   "metadata": {
    "execution": {
     "iopub.execute_input": "2024-05-30T18:23:44.950829Z",
     "iopub.status.busy": "2024-05-30T18:23:44.950639Z",
     "iopub.status.idle": "2024-05-30T18:23:44.963509Z",
     "shell.execute_reply": "2024-05-30T18:23:44.963016Z"
    }
   },
   "outputs": [
    {
     "data": {
      "text/html": [
       "<div>\n",
       "<style scoped>\n",
       "    .dataframe tbody tr th:only-of-type {\n",
       "        vertical-align: middle;\n",
       "    }\n",
       "\n",
       "    .dataframe tbody tr th {\n",
       "        vertical-align: top;\n",
       "    }\n",
       "\n",
       "    .dataframe thead th {\n",
       "        text-align: right;\n",
       "    }\n",
       "</style>\n",
       "<table border=\"1\" class=\"dataframe\">\n",
       "  <thead>\n",
       "    <tr style=\"text-align: right;\">\n",
       "      <th></th>\n",
       "      <th>sepal length</th>\n",
       "      <th>sepal width</th>\n",
       "      <th>petal length</th>\n",
       "      <th>petal width</th>\n",
       "      <th>class</th>\n",
       "      <th>similarity_conviction</th>\n",
       "    </tr>\n",
       "  </thead>\n",
       "  <tbody>\n",
       "    <tr>\n",
       "      <th>6</th>\n",
       "      <td>5.4</td>\n",
       "      <td>3.9</td>\n",
       "      <td>1.7</td>\n",
       "      <td>0.4</td>\n",
       "      <td>Iris-setosa</td>\n",
       "      <td>0.788957</td>\n",
       "    </tr>\n",
       "    <tr>\n",
       "      <th>7</th>\n",
       "      <td>5.4</td>\n",
       "      <td>3.9</td>\n",
       "      <td>1.3</td>\n",
       "      <td>0.4</td>\n",
       "      <td>Iris-setosa</td>\n",
       "      <td>0.862877</td>\n",
       "    </tr>\n",
       "    <tr>\n",
       "      <th>11</th>\n",
       "      <td>4.6</td>\n",
       "      <td>3.4</td>\n",
       "      <td>1.4</td>\n",
       "      <td>0.3</td>\n",
       "      <td>Iris-setosa</td>\n",
       "      <td>0.909134</td>\n",
       "    </tr>\n",
       "    <tr>\n",
       "      <th>10</th>\n",
       "      <td>5.3</td>\n",
       "      <td>3.7</td>\n",
       "      <td>1.5</td>\n",
       "      <td>0.2</td>\n",
       "      <td>Iris-setosa</td>\n",
       "      <td>0.924620</td>\n",
       "    </tr>\n",
       "    <tr>\n",
       "      <th>0</th>\n",
       "      <td>5.0</td>\n",
       "      <td>3.4</td>\n",
       "      <td>1.6</td>\n",
       "      <td>0.4</td>\n",
       "      <td>Iris-setosa</td>\n",
       "      <td>0.966207</td>\n",
       "    </tr>\n",
       "    <tr>\n",
       "      <th>1</th>\n",
       "      <td>5.4</td>\n",
       "      <td>3.4</td>\n",
       "      <td>1.7</td>\n",
       "      <td>0.2</td>\n",
       "      <td>Iris-setosa</td>\n",
       "      <td>1.058589</td>\n",
       "    </tr>\n",
       "    <tr>\n",
       "      <th>3</th>\n",
       "      <td>5.1</td>\n",
       "      <td>3.7</td>\n",
       "      <td>1.5</td>\n",
       "      <td>0.4</td>\n",
       "      <td>Iris-setosa</td>\n",
       "      <td>1.096762</td>\n",
       "    </tr>\n",
       "    <tr>\n",
       "      <th>5</th>\n",
       "      <td>5.4</td>\n",
       "      <td>3.7</td>\n",
       "      <td>1.5</td>\n",
       "      <td>0.2</td>\n",
       "      <td>Iris-setosa</td>\n",
       "      <td>1.127433</td>\n",
       "    </tr>\n",
       "    <tr>\n",
       "      <th>2</th>\n",
       "      <td>5.1</td>\n",
       "      <td>3.4</td>\n",
       "      <td>1.5</td>\n",
       "      <td>0.2</td>\n",
       "      <td>Iris-setosa</td>\n",
       "      <td>1.259184</td>\n",
       "    </tr>\n",
       "    <tr>\n",
       "      <th>12</th>\n",
       "      <td>5.1</td>\n",
       "      <td>3.5</td>\n",
       "      <td>1.4</td>\n",
       "      <td>0.3</td>\n",
       "      <td>Iris-setosa</td>\n",
       "      <td>1.334616</td>\n",
       "    </tr>\n",
       "    <tr>\n",
       "      <th>8</th>\n",
       "      <td>5.2</td>\n",
       "      <td>3.4</td>\n",
       "      <td>1.4</td>\n",
       "      <td>0.2</td>\n",
       "      <td>Iris-setosa</td>\n",
       "      <td>1.377578</td>\n",
       "    </tr>\n",
       "    <tr>\n",
       "      <th>9</th>\n",
       "      <td>5.2</td>\n",
       "      <td>3.5</td>\n",
       "      <td>1.5</td>\n",
       "      <td>0.2</td>\n",
       "      <td>Iris-setosa</td>\n",
       "      <td>1.380288</td>\n",
       "    </tr>\n",
       "    <tr>\n",
       "      <th>4</th>\n",
       "      <td>5.0</td>\n",
       "      <td>3.4</td>\n",
       "      <td>1.5</td>\n",
       "      <td>0.2</td>\n",
       "      <td>Iris-setosa</td>\n",
       "      <td>1.454191</td>\n",
       "    </tr>\n",
       "  </tbody>\n",
       "</table>\n",
       "</div>"
      ],
      "text/plain": [
       "    sepal length  sepal width  petal length  petal width        class  \\\n",
       "6            5.4          3.9           1.7          0.4  Iris-setosa   \n",
       "7            5.4          3.9           1.3          0.4  Iris-setosa   \n",
       "11           4.6          3.4           1.4          0.3  Iris-setosa   \n",
       "10           5.3          3.7           1.5          0.2  Iris-setosa   \n",
       "0            5.0          3.4           1.6          0.4  Iris-setosa   \n",
       "1            5.4          3.4           1.7          0.2  Iris-setosa   \n",
       "3            5.1          3.7           1.5          0.4  Iris-setosa   \n",
       "5            5.4          3.7           1.5          0.2  Iris-setosa   \n",
       "2            5.1          3.4           1.5          0.2  Iris-setosa   \n",
       "12           5.1          3.5           1.4          0.3  Iris-setosa   \n",
       "8            5.2          3.4           1.4          0.2  Iris-setosa   \n",
       "9            5.2          3.5           1.5          0.2  Iris-setosa   \n",
       "4            5.0          3.4           1.5          0.2  Iris-setosa   \n",
       "\n",
       "    similarity_conviction  \n",
       "6                0.788957  \n",
       "7                0.862877  \n",
       "11               0.909134  \n",
       "10               0.924620  \n",
       "0                0.966207  \n",
       "1                1.058589  \n",
       "3                1.096762  \n",
       "5                1.127433  \n",
       "2                1.259184  \n",
       "12               1.334616  \n",
       "8                1.377578  \n",
       "9                1.380288  \n",
       "4                1.454191  "
      ]
     },
     "execution_count": 10,
     "metadata": {},
     "output_type": "execute_result"
    }
   ],
   "source": [
    "inf_case_indices = inf_cases_20[[\".session\", \".session_training_index\"]].values.tolist()\n",
    "\n",
    "anom_df = t.get_cases(\n",
    "    case_indices=inf_case_indices,\n",
    "    features=[\"sepal length\", \"sepal width\", \"petal length\", \"petal width\", \"class\", \"similarity_conviction\"],\n",
    ")\n",
    "\n",
    "anom_df.sort_values(by=\"similarity_conviction\")"
   ]
  },
  {
   "cell_type": "markdown",
   "metadata": {},
   "source": [
    "### Insight 2: Which Features Contributed?\n",
    "\n",
    "In addition to providing attribution to cases, Howso also provides robust feature contributions to explain which features contributed to each prediction.\n",
    "When inspecting the feature importances for case `13`,  we see that `petal width` and `petal length` provided the majority of the contribution to the \n",
    "prediction, whereas for case `20` `petal width` and `petal length` only have slightly higher contributions than the other features.  This could indicate \n",
    "that different features are more important for predicting different classes within this dataset and that focusing on those features would be prudent.\n",
    "\n",
    "Identifying that certain cases that influenced a prediction are anomalous can help to explain low predictive power in certain parts of the data or other\n",
    "issues that may appear during deployment."
   ]
  },
  {
   "cell_type": "code",
   "execution_count": 11,
   "metadata": {
    "execution": {
     "iopub.execute_input": "2024-05-30T18:23:44.965766Z",
     "iopub.status.busy": "2024-05-30T18:23:44.965578Z",
     "iopub.status.idle": "2024-05-30T18:23:44.976200Z",
     "shell.execute_reply": "2024-05-30T18:23:44.975721Z"
    }
   },
   "outputs": [
    {
     "data": {
      "text/html": [
       "<div>\n",
       "<style scoped>\n",
       "    .dataframe tbody tr th:only-of-type {\n",
       "        vertical-align: middle;\n",
       "    }\n",
       "\n",
       "    .dataframe tbody tr th {\n",
       "        vertical-align: top;\n",
       "    }\n",
       "\n",
       "    .dataframe thead th {\n",
       "        text-align: right;\n",
       "    }\n",
       "</style>\n",
       "<table border=\"1\" class=\"dataframe\">\n",
       "  <thead>\n",
       "    <tr style=\"text-align: right;\">\n",
       "      <th></th>\n",
       "      <th>petal length</th>\n",
       "      <th>sepal length</th>\n",
       "      <th>petal width</th>\n",
       "      <th>sepal width</th>\n",
       "    </tr>\n",
       "  </thead>\n",
       "  <tbody>\n",
       "    <tr>\n",
       "      <th>13</th>\n",
       "      <td>0.309364</td>\n",
       "      <td>0.134326</td>\n",
       "      <td>0.318782</td>\n",
       "      <td>0.06568</td>\n",
       "    </tr>\n",
       "  </tbody>\n",
       "</table>\n",
       "</div>"
      ],
      "text/plain": [
       "    petal length  sepal length  petal width  sepal width\n",
       "13      0.309364      0.134326     0.318782      0.06568"
      ]
     },
     "metadata": {},
     "output_type": "display_data"
    },
    {
     "data": {
      "text/html": [
       "<div>\n",
       "<style scoped>\n",
       "    .dataframe tbody tr th:only-of-type {\n",
       "        vertical-align: middle;\n",
       "    }\n",
       "\n",
       "    .dataframe tbody tr th {\n",
       "        vertical-align: top;\n",
       "    }\n",
       "\n",
       "    .dataframe thead th {\n",
       "        text-align: right;\n",
       "    }\n",
       "</style>\n",
       "<table border=\"1\" class=\"dataframe\">\n",
       "  <thead>\n",
       "    <tr style=\"text-align: right;\">\n",
       "      <th></th>\n",
       "      <th>petal length</th>\n",
       "      <th>sepal length</th>\n",
       "      <th>petal width</th>\n",
       "      <th>sepal width</th>\n",
       "    </tr>\n",
       "  </thead>\n",
       "  <tbody>\n",
       "    <tr>\n",
       "      <th>20</th>\n",
       "      <td>0.160318</td>\n",
       "      <td>0.117579</td>\n",
       "      <td>0.159647</td>\n",
       "      <td>0.122506</td>\n",
       "    </tr>\n",
       "  </tbody>\n",
       "</table>\n",
       "</div>"
      ],
      "text/plain": [
       "    petal length  sepal length  petal width  sepal width\n",
       "20      0.160318      0.117579     0.159647     0.122506"
      ]
     },
     "metadata": {},
     "output_type": "display_data"
    }
   ],
   "source": [
    "fcs_13 = pd.DataFrame(reaction[\"details\"][\"feature_contributions_robust\"][13:14], index=[13])\n",
    "fcs_20 = pd.DataFrame(reaction[\"details\"][\"feature_contributions_robust\"][20:21], index=[20])\n",
    "\n",
    "display(fcs_13)\n",
    "display(fcs_20)"
   ]
  },
  {
   "cell_type": "markdown",
   "metadata": {},
   "source": [
    "### Insight 3: How Certain is the Prediction?"
   ]
  },
  {
   "cell_type": "markdown",
   "metadata": {},
   "source": [
    "[Residuals](https://docs.howso.com/user_guide/basic_capabilities/residuals.html) can characterize the uncertainty of the data around the prediction.  This will tell us which features are hard to predict in the region of the data around each case we're predicting.\n",
    "If a prediction is less accurate than expected, this can explain which features were noisy and may have contributed to the problem."
   ]
  },
  {
   "cell_type": "code",
   "execution_count": 12,
   "metadata": {
    "execution": {
     "iopub.execute_input": "2024-05-30T18:23:44.978637Z",
     "iopub.status.busy": "2024-05-30T18:23:44.978275Z",
     "iopub.status.idle": "2024-05-30T18:23:44.987812Z",
     "shell.execute_reply": "2024-05-30T18:23:44.987328Z"
    }
   },
   "outputs": [
    {
     "data": {
      "text/html": [
       "<div>\n",
       "<style scoped>\n",
       "    .dataframe tbody tr th:only-of-type {\n",
       "        vertical-align: middle;\n",
       "    }\n",
       "\n",
       "    .dataframe tbody tr th {\n",
       "        vertical-align: top;\n",
       "    }\n",
       "\n",
       "    .dataframe thead th {\n",
       "        text-align: right;\n",
       "    }\n",
       "</style>\n",
       "<table border=\"1\" class=\"dataframe\">\n",
       "  <thead>\n",
       "    <tr style=\"text-align: right;\">\n",
       "      <th></th>\n",
       "      <th>petal length</th>\n",
       "      <th>class</th>\n",
       "      <th>sepal length</th>\n",
       "      <th>petal width</th>\n",
       "      <th>sepal width</th>\n",
       "    </tr>\n",
       "  </thead>\n",
       "  <tbody>\n",
       "    <tr>\n",
       "      <th>0</th>\n",
       "      <td>0.316345</td>\n",
       "      <td>0.246918</td>\n",
       "      <td>0.419110</td>\n",
       "      <td>0.155347</td>\n",
       "      <td>0.200967</td>\n",
       "    </tr>\n",
       "    <tr>\n",
       "      <th>1</th>\n",
       "      <td>0.455092</td>\n",
       "      <td>0.361243</td>\n",
       "      <td>0.379007</td>\n",
       "      <td>0.273793</td>\n",
       "      <td>0.236921</td>\n",
       "    </tr>\n",
       "    <tr>\n",
       "      <th>2</th>\n",
       "      <td>0.499980</td>\n",
       "      <td>0.223748</td>\n",
       "      <td>0.429601</td>\n",
       "      <td>0.326543</td>\n",
       "      <td>0.154511</td>\n",
       "    </tr>\n",
       "    <tr>\n",
       "      <th>3</th>\n",
       "      <td>0.417547</td>\n",
       "      <td>0.349564</td>\n",
       "      <td>0.372912</td>\n",
       "      <td>0.259437</td>\n",
       "      <td>0.217842</td>\n",
       "    </tr>\n",
       "    <tr>\n",
       "      <th>4</th>\n",
       "      <td>0.410694</td>\n",
       "      <td>0.255052</td>\n",
       "      <td>0.352748</td>\n",
       "      <td>0.203288</td>\n",
       "      <td>0.266140</td>\n",
       "    </tr>\n",
       "    <tr>\n",
       "      <th>5</th>\n",
       "      <td>0.336986</td>\n",
       "      <td>0.128101</td>\n",
       "      <td>0.360771</td>\n",
       "      <td>0.134115</td>\n",
       "      <td>0.157232</td>\n",
       "    </tr>\n",
       "    <tr>\n",
       "      <th>6</th>\n",
       "      <td>0.428619</td>\n",
       "      <td>0.096348</td>\n",
       "      <td>0.317292</td>\n",
       "      <td>0.206709</td>\n",
       "      <td>0.213859</td>\n",
       "    </tr>\n",
       "    <tr>\n",
       "      <th>7</th>\n",
       "      <td>0.462920</td>\n",
       "      <td>0.288807</td>\n",
       "      <td>0.385860</td>\n",
       "      <td>0.301305</td>\n",
       "      <td>0.154439</td>\n",
       "    </tr>\n",
       "    <tr>\n",
       "      <th>8</th>\n",
       "      <td>0.337946</td>\n",
       "      <td>0.214845</td>\n",
       "      <td>0.333649</td>\n",
       "      <td>0.154813</td>\n",
       "      <td>0.233382</td>\n",
       "    </tr>\n",
       "    <tr>\n",
       "      <th>9</th>\n",
       "      <td>0.355052</td>\n",
       "      <td>0.119362</td>\n",
       "      <td>0.333177</td>\n",
       "      <td>0.140930</td>\n",
       "      <td>0.171296</td>\n",
       "    </tr>\n",
       "    <tr>\n",
       "      <th>10</th>\n",
       "      <td>0.453806</td>\n",
       "      <td>0.348628</td>\n",
       "      <td>0.388510</td>\n",
       "      <td>0.294181</td>\n",
       "      <td>0.213790</td>\n",
       "    </tr>\n",
       "    <tr>\n",
       "      <th>11</th>\n",
       "      <td>0.346564</td>\n",
       "      <td>0.257502</td>\n",
       "      <td>0.373156</td>\n",
       "      <td>0.170973</td>\n",
       "      <td>0.224248</td>\n",
       "    </tr>\n",
       "    <tr>\n",
       "      <th>12</th>\n",
       "      <td>0.424663</td>\n",
       "      <td>0.091738</td>\n",
       "      <td>0.308764</td>\n",
       "      <td>0.202644</td>\n",
       "      <td>0.255924</td>\n",
       "    </tr>\n",
       "    <tr>\n",
       "      <th>13</th>\n",
       "      <td>0.392632</td>\n",
       "      <td>0.357541</td>\n",
       "      <td>0.339815</td>\n",
       "      <td>0.263153</td>\n",
       "      <td>0.244311</td>\n",
       "    </tr>\n",
       "    <tr>\n",
       "      <th>14</th>\n",
       "      <td>0.318980</td>\n",
       "      <td>0.254583</td>\n",
       "      <td>0.350562</td>\n",
       "      <td>0.155217</td>\n",
       "      <td>0.190816</td>\n",
       "    </tr>\n",
       "    <tr>\n",
       "      <th>15</th>\n",
       "      <td>0.408417</td>\n",
       "      <td>0.091760</td>\n",
       "      <td>0.366411</td>\n",
       "      <td>0.192649</td>\n",
       "      <td>0.278018</td>\n",
       "    </tr>\n",
       "    <tr>\n",
       "      <th>16</th>\n",
       "      <td>0.353480</td>\n",
       "      <td>0.068574</td>\n",
       "      <td>0.281876</td>\n",
       "      <td>0.164983</td>\n",
       "      <td>0.281221</td>\n",
       "    </tr>\n",
       "    <tr>\n",
       "      <th>17</th>\n",
       "      <td>0.428783</td>\n",
       "      <td>0.342814</td>\n",
       "      <td>0.374519</td>\n",
       "      <td>0.242384</td>\n",
       "      <td>0.205476</td>\n",
       "    </tr>\n",
       "    <tr>\n",
       "      <th>18</th>\n",
       "      <td>0.478404</td>\n",
       "      <td>0.269857</td>\n",
       "      <td>0.376011</td>\n",
       "      <td>0.296459</td>\n",
       "      <td>0.179709</td>\n",
       "    </tr>\n",
       "    <tr>\n",
       "      <th>19</th>\n",
       "      <td>0.419105</td>\n",
       "      <td>0.267836</td>\n",
       "      <td>0.431411</td>\n",
       "      <td>0.188208</td>\n",
       "      <td>0.267135</td>\n",
       "    </tr>\n",
       "    <tr>\n",
       "      <th>20</th>\n",
       "      <td>0.319460</td>\n",
       "      <td>0.062966</td>\n",
       "      <td>0.242352</td>\n",
       "      <td>0.167995</td>\n",
       "      <td>0.245564</td>\n",
       "    </tr>\n",
       "    <tr>\n",
       "      <th>21</th>\n",
       "      <td>0.358715</td>\n",
       "      <td>0.104347</td>\n",
       "      <td>0.318205</td>\n",
       "      <td>0.150407</td>\n",
       "      <td>0.169755</td>\n",
       "    </tr>\n",
       "    <tr>\n",
       "      <th>22</th>\n",
       "      <td>0.348308</td>\n",
       "      <td>0.175757</td>\n",
       "      <td>0.297429</td>\n",
       "      <td>0.161605</td>\n",
       "      <td>0.272695</td>\n",
       "    </tr>\n",
       "    <tr>\n",
       "      <th>23</th>\n",
       "      <td>0.358811</td>\n",
       "      <td>0.077055</td>\n",
       "      <td>0.293462</td>\n",
       "      <td>0.173710</td>\n",
       "      <td>0.214841</td>\n",
       "    </tr>\n",
       "    <tr>\n",
       "      <th>24</th>\n",
       "      <td>0.360535</td>\n",
       "      <td>0.067825</td>\n",
       "      <td>0.319621</td>\n",
       "      <td>0.166094</td>\n",
       "      <td>0.233484</td>\n",
       "    </tr>\n",
       "    <tr>\n",
       "      <th>25</th>\n",
       "      <td>0.455440</td>\n",
       "      <td>0.317544</td>\n",
       "      <td>0.368078</td>\n",
       "      <td>0.271109</td>\n",
       "      <td>0.196957</td>\n",
       "    </tr>\n",
       "    <tr>\n",
       "      <th>26</th>\n",
       "      <td>0.472043</td>\n",
       "      <td>0.167558</td>\n",
       "      <td>0.328752</td>\n",
       "      <td>0.324228</td>\n",
       "      <td>0.162534</td>\n",
       "    </tr>\n",
       "    <tr>\n",
       "      <th>27</th>\n",
       "      <td>0.338922</td>\n",
       "      <td>0.286564</td>\n",
       "      <td>0.347413</td>\n",
       "      <td>0.174072</td>\n",
       "      <td>0.247843</td>\n",
       "    </tr>\n",
       "    <tr>\n",
       "      <th>28</th>\n",
       "      <td>0.544790</td>\n",
       "      <td>0.249038</td>\n",
       "      <td>0.508846</td>\n",
       "      <td>0.325936</td>\n",
       "      <td>0.183559</td>\n",
       "    </tr>\n",
       "    <tr>\n",
       "      <th>29</th>\n",
       "      <td>0.608658</td>\n",
       "      <td>0.152540</td>\n",
       "      <td>0.536262</td>\n",
       "      <td>0.289020</td>\n",
       "      <td>0.224464</td>\n",
       "    </tr>\n",
       "  </tbody>\n",
       "</table>\n",
       "</div>"
      ],
      "text/plain": [
       "    petal length     class  sepal length  petal width  sepal width\n",
       "0       0.316345  0.246918      0.419110     0.155347     0.200967\n",
       "1       0.455092  0.361243      0.379007     0.273793     0.236921\n",
       "2       0.499980  0.223748      0.429601     0.326543     0.154511\n",
       "3       0.417547  0.349564      0.372912     0.259437     0.217842\n",
       "4       0.410694  0.255052      0.352748     0.203288     0.266140\n",
       "5       0.336986  0.128101      0.360771     0.134115     0.157232\n",
       "6       0.428619  0.096348      0.317292     0.206709     0.213859\n",
       "7       0.462920  0.288807      0.385860     0.301305     0.154439\n",
       "8       0.337946  0.214845      0.333649     0.154813     0.233382\n",
       "9       0.355052  0.119362      0.333177     0.140930     0.171296\n",
       "10      0.453806  0.348628      0.388510     0.294181     0.213790\n",
       "11      0.346564  0.257502      0.373156     0.170973     0.224248\n",
       "12      0.424663  0.091738      0.308764     0.202644     0.255924\n",
       "13      0.392632  0.357541      0.339815     0.263153     0.244311\n",
       "14      0.318980  0.254583      0.350562     0.155217     0.190816\n",
       "15      0.408417  0.091760      0.366411     0.192649     0.278018\n",
       "16      0.353480  0.068574      0.281876     0.164983     0.281221\n",
       "17      0.428783  0.342814      0.374519     0.242384     0.205476\n",
       "18      0.478404  0.269857      0.376011     0.296459     0.179709\n",
       "19      0.419105  0.267836      0.431411     0.188208     0.267135\n",
       "20      0.319460  0.062966      0.242352     0.167995     0.245564\n",
       "21      0.358715  0.104347      0.318205     0.150407     0.169755\n",
       "22      0.348308  0.175757      0.297429     0.161605     0.272695\n",
       "23      0.358811  0.077055      0.293462     0.173710     0.214841\n",
       "24      0.360535  0.067825      0.319621     0.166094     0.233484\n",
       "25      0.455440  0.317544      0.368078     0.271109     0.196957\n",
       "26      0.472043  0.167558      0.328752     0.324228     0.162534\n",
       "27      0.338922  0.286564      0.347413     0.174072     0.247843\n",
       "28      0.544790  0.249038      0.508846     0.325936     0.183559\n",
       "29      0.608658  0.152540      0.536262     0.289020     0.224464"
      ]
     },
     "execution_count": 12,
     "metadata": {},
     "output_type": "execute_result"
    }
   ],
   "source": [
    "pd.DataFrame(reaction[\"details\"][\"feature_residuals_robust\"])"
   ]
  },
  {
   "cell_type": "markdown",
   "metadata": {},
   "source": [
    "We can also use [`residual conviction`](https://docs.howso.com/user_guide/basic_capabilities/conviction.html#prediction-residual-conviction) to determine which features\n",
    "are uncertain in a scale-invariant manner, which can be useful if you wish to compare different features of different scales against each other.  Higher residual conviction\n",
    "indicates something that is less surprising than expected and lower redsidual conviction indicates the opposite."
   ]
  },
  {
   "cell_type": "code",
   "execution_count": 13,
   "metadata": {
    "execution": {
     "iopub.execute_input": "2024-05-30T18:23:44.990026Z",
     "iopub.status.busy": "2024-05-30T18:23:44.989843Z",
     "iopub.status.idle": "2024-05-30T18:23:44.999541Z",
     "shell.execute_reply": "2024-05-30T18:23:44.999053Z"
    }
   },
   "outputs": [
    {
     "data": {
      "text/html": [
       "<div>\n",
       "<style scoped>\n",
       "    .dataframe tbody tr th:only-of-type {\n",
       "        vertical-align: middle;\n",
       "    }\n",
       "\n",
       "    .dataframe tbody tr th {\n",
       "        vertical-align: top;\n",
       "    }\n",
       "\n",
       "    .dataframe thead th {\n",
       "        text-align: right;\n",
       "    }\n",
       "</style>\n",
       "<table border=\"1\" class=\"dataframe\">\n",
       "  <thead>\n",
       "    <tr style=\"text-align: right;\">\n",
       "      <th></th>\n",
       "      <th>petal length</th>\n",
       "      <th>class</th>\n",
       "      <th>sepal length</th>\n",
       "      <th>petal width</th>\n",
       "      <th>sepal width</th>\n",
       "    </tr>\n",
       "  </thead>\n",
       "  <tbody>\n",
       "    <tr>\n",
       "      <th>0</th>\n",
       "      <td>0.955049</td>\n",
       "      <td>1.066269</td>\n",
       "      <td>1.175051</td>\n",
       "      <td>0.802160</td>\n",
       "      <td>1.746456</td>\n",
       "    </tr>\n",
       "    <tr>\n",
       "      <th>1</th>\n",
       "      <td>1.377457</td>\n",
       "      <td>1.032291</td>\n",
       "      <td>1.570590</td>\n",
       "      <td>1.180661</td>\n",
       "      <td>0.663548</td>\n",
       "    </tr>\n",
       "    <tr>\n",
       "      <th>2</th>\n",
       "      <td>1.062967</td>\n",
       "      <td>1.520404</td>\n",
       "      <td>1.049181</td>\n",
       "      <td>0.983285</td>\n",
       "      <td>2.624776</td>\n",
       "    </tr>\n",
       "    <tr>\n",
       "      <th>3</th>\n",
       "      <td>0.887317</td>\n",
       "      <td>1.112053</td>\n",
       "      <td>0.699126</td>\n",
       "      <td>1.121109</td>\n",
       "      <td>0.490977</td>\n",
       "    </tr>\n",
       "    <tr>\n",
       "      <th>4</th>\n",
       "      <td>0.333112</td>\n",
       "      <td>0.723975</td>\n",
       "      <td>1.590878</td>\n",
       "      <td>0.902690</td>\n",
       "      <td>0.721471</td>\n",
       "    </tr>\n",
       "    <tr>\n",
       "      <th>5</th>\n",
       "      <td>1.713707</td>\n",
       "      <td>1.407985</td>\n",
       "      <td>1.233485</td>\n",
       "      <td>1.390252</td>\n",
       "      <td>0.807158</td>\n",
       "    </tr>\n",
       "    <tr>\n",
       "      <th>6</th>\n",
       "      <td>0.613218</td>\n",
       "      <td>0.587237</td>\n",
       "      <td>1.014973</td>\n",
       "      <td>0.881732</td>\n",
       "      <td>0.663201</td>\n",
       "    </tr>\n",
       "    <tr>\n",
       "      <th>7</th>\n",
       "      <td>1.159223</td>\n",
       "      <td>1.029703</td>\n",
       "      <td>1.041573</td>\n",
       "      <td>1.990364</td>\n",
       "      <td>0.710780</td>\n",
       "    </tr>\n",
       "    <tr>\n",
       "      <th>8</th>\n",
       "      <td>0.804377</td>\n",
       "      <td>1.008368</td>\n",
       "      <td>0.611964</td>\n",
       "      <td>1.015961</td>\n",
       "      <td>0.343099</td>\n",
       "    </tr>\n",
       "    <tr>\n",
       "      <th>9</th>\n",
       "      <td>1.444208</td>\n",
       "      <td>1.101478</td>\n",
       "      <td>1.172914</td>\n",
       "      <td>1.009093</td>\n",
       "      <td>0.563643</td>\n",
       "    </tr>\n",
       "    <tr>\n",
       "      <th>10</th>\n",
       "      <td>1.165346</td>\n",
       "      <td>2.599177</td>\n",
       "      <td>1.981325</td>\n",
       "      <td>1.647661</td>\n",
       "      <td>1.309616</td>\n",
       "    </tr>\n",
       "    <tr>\n",
       "      <th>11</th>\n",
       "      <td>0.631061</td>\n",
       "      <td>1.105108</td>\n",
       "      <td>0.868770</td>\n",
       "      <td>0.636701</td>\n",
       "      <td>1.245391</td>\n",
       "    </tr>\n",
       "    <tr>\n",
       "      <th>12</th>\n",
       "      <td>2.052073</td>\n",
       "      <td>0.549339</td>\n",
       "      <td>1.647957</td>\n",
       "      <td>1.904104</td>\n",
       "      <td>2.846623</td>\n",
       "    </tr>\n",
       "    <tr>\n",
       "      <th>13</th>\n",
       "      <td>1.606072</td>\n",
       "      <td>0.794790</td>\n",
       "      <td>1.397050</td>\n",
       "      <td>1.420651</td>\n",
       "      <td>0.943370</td>\n",
       "    </tr>\n",
       "    <tr>\n",
       "      <th>14</th>\n",
       "      <td>0.760934</td>\n",
       "      <td>1.035867</td>\n",
       "      <td>1.727741</td>\n",
       "      <td>0.822820</td>\n",
       "      <td>1.401349</td>\n",
       "    </tr>\n",
       "    <tr>\n",
       "      <th>15</th>\n",
       "      <td>1.182806</td>\n",
       "      <td>0.695105</td>\n",
       "      <td>0.526931</td>\n",
       "      <td>5.142038</td>\n",
       "      <td>0.676561</td>\n",
       "    </tr>\n",
       "    <tr>\n",
       "      <th>16</th>\n",
       "      <td>0.683270</td>\n",
       "      <td>0.572273</td>\n",
       "      <td>0.573691</td>\n",
       "      <td>1.129181</td>\n",
       "      <td>0.614709</td>\n",
       "    </tr>\n",
       "    <tr>\n",
       "      <th>17</th>\n",
       "      <td>1.174062</td>\n",
       "      <td>0.587861</td>\n",
       "      <td>1.352539</td>\n",
       "      <td>1.678931</td>\n",
       "      <td>1.852077</td>\n",
       "    </tr>\n",
       "    <tr>\n",
       "      <th>18</th>\n",
       "      <td>1.090778</td>\n",
       "      <td>1.514489</td>\n",
       "      <td>1.314430</td>\n",
       "      <td>0.753721</td>\n",
       "      <td>0.298374</td>\n",
       "    </tr>\n",
       "    <tr>\n",
       "      <th>19</th>\n",
       "      <td>0.594631</td>\n",
       "      <td>1.899859</td>\n",
       "      <td>0.339978</td>\n",
       "      <td>0.315715</td>\n",
       "      <td>0.630053</td>\n",
       "    </tr>\n",
       "    <tr>\n",
       "      <th>20</th>\n",
       "      <td>1.727504</td>\n",
       "      <td>7.461633</td>\n",
       "      <td>1.054987</td>\n",
       "      <td>0.663799</td>\n",
       "      <td>0.779440</td>\n",
       "    </tr>\n",
       "    <tr>\n",
       "      <th>21</th>\n",
       "      <td>1.863137</td>\n",
       "      <td>0.725346</td>\n",
       "      <td>2.353701</td>\n",
       "      <td>2.453556</td>\n",
       "      <td>1.323507</td>\n",
       "    </tr>\n",
       "    <tr>\n",
       "      <th>22</th>\n",
       "      <td>1.121694</td>\n",
       "      <td>0.849883</td>\n",
       "      <td>0.831353</td>\n",
       "      <td>0.465649</td>\n",
       "      <td>0.433253</td>\n",
       "    </tr>\n",
       "    <tr>\n",
       "      <th>23</th>\n",
       "      <td>0.886299</td>\n",
       "      <td>0.547067</td>\n",
       "      <td>2.024423</td>\n",
       "      <td>0.962618</td>\n",
       "      <td>1.514047</td>\n",
       "    </tr>\n",
       "    <tr>\n",
       "      <th>24</th>\n",
       "      <td>0.633048</td>\n",
       "      <td>1.526463</td>\n",
       "      <td>0.922809</td>\n",
       "      <td>1.021668</td>\n",
       "      <td>2.637504</td>\n",
       "    </tr>\n",
       "    <tr>\n",
       "      <th>25</th>\n",
       "      <td>0.977871</td>\n",
       "      <td>0.654454</td>\n",
       "      <td>1.846394</td>\n",
       "      <td>1.696572</td>\n",
       "      <td>1.639167</td>\n",
       "    </tr>\n",
       "    <tr>\n",
       "      <th>26</th>\n",
       "      <td>1.820689</td>\n",
       "      <td>1.100232</td>\n",
       "      <td>1.626813</td>\n",
       "      <td>0.995200</td>\n",
       "      <td>0.692486</td>\n",
       "    </tr>\n",
       "    <tr>\n",
       "      <th>27</th>\n",
       "      <td>1.824667</td>\n",
       "      <td>0.978083</td>\n",
       "      <td>2.431459</td>\n",
       "      <td>1.676706</td>\n",
       "      <td>1.058041</td>\n",
       "    </tr>\n",
       "    <tr>\n",
       "      <th>28</th>\n",
       "      <td>1.273528</td>\n",
       "      <td>1.312008</td>\n",
       "      <td>0.615902</td>\n",
       "      <td>0.864860</td>\n",
       "      <td>1.403828</td>\n",
       "    </tr>\n",
       "    <tr>\n",
       "      <th>29</th>\n",
       "      <td>1.245902</td>\n",
       "      <td>1.800900</td>\n",
       "      <td>0.637655</td>\n",
       "      <td>1.341713</td>\n",
       "      <td>0.976673</td>\n",
       "    </tr>\n",
       "  </tbody>\n",
       "</table>\n",
       "</div>"
      ],
      "text/plain": [
       "    petal length     class  sepal length  petal width  sepal width\n",
       "0       0.955049  1.066269      1.175051     0.802160     1.746456\n",
       "1       1.377457  1.032291      1.570590     1.180661     0.663548\n",
       "2       1.062967  1.520404      1.049181     0.983285     2.624776\n",
       "3       0.887317  1.112053      0.699126     1.121109     0.490977\n",
       "4       0.333112  0.723975      1.590878     0.902690     0.721471\n",
       "5       1.713707  1.407985      1.233485     1.390252     0.807158\n",
       "6       0.613218  0.587237      1.014973     0.881732     0.663201\n",
       "7       1.159223  1.029703      1.041573     1.990364     0.710780\n",
       "8       0.804377  1.008368      0.611964     1.015961     0.343099\n",
       "9       1.444208  1.101478      1.172914     1.009093     0.563643\n",
       "10      1.165346  2.599177      1.981325     1.647661     1.309616\n",
       "11      0.631061  1.105108      0.868770     0.636701     1.245391\n",
       "12      2.052073  0.549339      1.647957     1.904104     2.846623\n",
       "13      1.606072  0.794790      1.397050     1.420651     0.943370\n",
       "14      0.760934  1.035867      1.727741     0.822820     1.401349\n",
       "15      1.182806  0.695105      0.526931     5.142038     0.676561\n",
       "16      0.683270  0.572273      0.573691     1.129181     0.614709\n",
       "17      1.174062  0.587861      1.352539     1.678931     1.852077\n",
       "18      1.090778  1.514489      1.314430     0.753721     0.298374\n",
       "19      0.594631  1.899859      0.339978     0.315715     0.630053\n",
       "20      1.727504  7.461633      1.054987     0.663799     0.779440\n",
       "21      1.863137  0.725346      2.353701     2.453556     1.323507\n",
       "22      1.121694  0.849883      0.831353     0.465649     0.433253\n",
       "23      0.886299  0.547067      2.024423     0.962618     1.514047\n",
       "24      0.633048  1.526463      0.922809     1.021668     2.637504\n",
       "25      0.977871  0.654454      1.846394     1.696572     1.639167\n",
       "26      1.820689  1.100232      1.626813     0.995200     0.692486\n",
       "27      1.824667  0.978083      2.431459     1.676706     1.058041\n",
       "28      1.273528  1.312008      0.615902     0.864860     1.403828\n",
       "29      1.245902  1.800900      0.637655     1.341713     0.976673"
      ]
     },
     "execution_count": 13,
     "metadata": {},
     "output_type": "execute_result"
    }
   ],
   "source": [
    "pd.DataFrame(reaction[\"details\"][\"local_case_feature_residual_convictions_robust\"])"
   ]
  },
  {
   "cell_type": "markdown",
   "metadata": {},
   "source": [
    "### Insight 4: How Anomalous are the Predicted Cases?\n",
    "\n",
    "By getting the [`similarity conviction`](https://docs.howso.com/user_guide/basic_capabilities/conviction.html#similarity-conviction) of the cases that we predict, \n",
    "we can determine which of them are anomalous relative to the trained data. This could help to highlight cases that are unusually difficult or easy to predict, such as can be the case\n",
    "when model drift occurs as a form of model monitoring."
   ]
  },
  {
   "cell_type": "code",
   "execution_count": 14,
   "metadata": {
    "execution": {
     "iopub.execute_input": "2024-05-30T18:23:45.002062Z",
     "iopub.status.busy": "2024-05-30T18:23:45.001648Z",
     "iopub.status.idle": "2024-05-30T18:23:45.004993Z",
     "shell.execute_reply": "2024-05-30T18:23:45.004503Z"
    }
   },
   "outputs": [
    {
     "name": "stdout",
     "output_type": "stream",
     "text": [
      "[2.458163722403125, 1.5355268470498389, 1.9703396848065213, 1.1932277418499297,\n",
      " 0.9049533623206016, 2.645340876758963, 2.3189375519914277, 1.763208402071557,\n",
      " 1.1949532827544833, 2.4724740467619464, 3.3618207743699844, 2.9229072913854584,\n",
      " 4.439893485653456, 1.6873893824957287, 1.6869596359841073, 1.9149593505246532,\n",
      " 1.8494864087341076, 2.971890318003325, 1.0423879532581057, 0.8457603752914653,\n",
      " 1.8788580971742515, 2.291951521601636, 1.0552822155388273, 2.9023506943593493,\n",
      " 3.170341992118255, 2.0843045143278, 2.0054099979530093, 2.3091253939331033,\n",
      " 1.39514991898709, 1.2404039707993175]\n"
     ]
    }
   ],
   "source": [
    "pprint(reaction[\"details\"][\"similarity_conviction\"], compact=True)"
   ]
  },
  {
   "cell_type": "markdown",
   "metadata": {},
   "source": [
    "In this case, there are no cases with a low similarity_conviction which indicates that there are no cases that we reacted to which are particularly\n",
    "anomalous."
   ]
  }
 ],
 "metadata": {
  "kernelspec": {
   "display_name": "engine-recipes-3.9",
   "language": "python",
   "name": "python3"
  },
  "language_info": {
   "codemirror_mode": {
    "name": "ipython",
    "version": 3
   },
   "file_extension": ".py",
   "mimetype": "text/x-python",
   "name": "python",
   "nbconvert_exporter": "python",
   "pygments_lexer": "ipython3",
   "version": "3.11.2"
  }
 },
 "nbformat": 4,
 "nbformat_minor": 2
}
