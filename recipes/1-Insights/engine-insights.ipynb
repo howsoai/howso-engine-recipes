{
 "cells": [
  {
   "attachments": {},
   "cell_type": "markdown",
   "id": "69d7ac54-9a3b-4327-93a5-eb6fbf314530",
   "metadata": {
    "tags": []
   },
   "source": [
    "# Engine Insights\n",
    "\n",
    "## Overview \n",
    " \n",
    "Howso Engine is a generalized Machine Learning (ML) and Artificial Intelligence platform that creates powerful decision-making models that are fully explainable, auditable, and editable. Howso Engine uses Instance-Based Machine Learning which stores instances, i.e., data points, in memory and makes predictions about new instances given their relationship to existing instances. This technology harnesses a fast spatial query system and techniques from information theory to enhance both performance and accuracy. \n",
    "\n",
    "In this notebook we will explore the most basic workflow using Howso Engine to gain insights in your data. This workflow is a form of exploratory data analysis and can help the user develop a deeper understanding of the data."
   ]
  },
  {
   "cell_type": "code",
   "execution_count": 1,
   "id": "f6cbaf0d-4f1f-410d-9cfd-1114f34c8c00",
   "metadata": {
    "execution": {
     "iopub.execute_input": "2025-01-29T22:40:32.037515Z",
     "iopub.status.busy": "2025-01-29T22:40:32.037287Z",
     "iopub.status.idle": "2025-01-29T22:40:32.648517Z",
     "shell.execute_reply": "2025-01-29T22:40:32.647919Z"
    }
   },
   "outputs": [],
   "source": [
    "import os\n",
    "\n",
    "import numpy as np\n",
    "import pandas as pd\n",
    "import plotly.io as pio\n",
    "import plotly.express as px\n",
    "from pmlb import fetch_data\n",
    "\n",
    "from howso.engine import Trainee\n",
    "from howso.utilities import infer_feature_attributes\n",
    "\n",
    "pio.renderers.default = os.getenv(\"HOWSO_RECIPE_RENDERER\", \"notebook\")"
   ]
  },
  {
   "attachments": {},
   "cell_type": "markdown",
   "id": "050d7e2d",
   "metadata": {},
   "source": [
    "# Section 1: Load, Train, Analyze\n",
    "\n",
    "The [basic workflow guide](https://docs.howso.com/user_guide/basics/basic_workflow.html) goes into more specifics about the individual details of this section. This recipe will focus more on the insights."
   ]
  },
  {
   "attachments": {},
   "cell_type": "markdown",
   "id": "8a1f5ffa-d96e-44b8-9152-9e7811b6f9b4",
   "metadata": {},
   "source": [
    "### Step 1: Load Data and Create Trainee"
   ]
  },
  {
   "cell_type": "code",
   "execution_count": 2,
   "id": "e5a7a925-5a9d-47fb-b4a3-3272203d4772",
   "metadata": {
    "execution": {
     "iopub.execute_input": "2025-01-29T22:40:32.651146Z",
     "iopub.status.busy": "2025-01-29T22:40:32.650920Z",
     "iopub.status.idle": "2025-01-29T22:40:33.482407Z",
     "shell.execute_reply": "2025-01-29T22:40:33.481757Z"
    }
   },
   "outputs": [],
   "source": [
    "df = fetch_data('iris', local_cache_dir=\"../../data/iris\")\n",
    "\n",
    "# Randomly insert nulls for insights later in recipe\n",
    "num_nans = int(0.05 * len(df))\n",
    "nan_indices = np.random.choice(df.index, num_nans, replace=False)\n",
    "df.loc[nan_indices, 'sepal-width'] = np.nan\n",
    "\n",
    "# Infer feature attributes\n",
    "features = infer_feature_attributes(df)\n",
    "\n",
    "# Create the Trainee\n",
    "t = Trainee(features=features)"
   ]
  },
  {
   "attachments": {},
   "cell_type": "markdown",
   "id": "35ec53b0-b623-427a-b2a6-8e55ebfef1bc",
   "metadata": {},
   "source": [
    "### Step 2: Train, Analyze, and React"
   ]
  },
  {
   "cell_type": "code",
   "execution_count": 3,
   "id": "4c097568",
   "metadata": {
    "execution": {
     "iopub.execute_input": "2025-01-29T22:40:33.485010Z",
     "iopub.status.busy": "2025-01-29T22:40:33.484813Z",
     "iopub.status.idle": "2025-01-29T22:40:34.216118Z",
     "shell.execute_reply": "2025-01-29T22:40:34.215518Z"
    }
   },
   "outputs": [],
   "source": [
    "# Train\n",
    "t.train(df)\n",
    "\n",
    "# Targetless Analysis\n",
    "t.analyze()"
   ]
  },
  {
   "cell_type": "markdown",
   "id": "e6f1e4cf",
   "metadata": {},
   "source": [
    "# Section 2: Insights\n",
    "\n",
    "By calling `get_prediction_stats`, Howso Engine calculates a variety of metrics that are easily accessible and doesn't require further recalculations."
   ]
  },
  {
   "cell_type": "markdown",
   "id": "a7ae8bd7",
   "metadata": {},
   "source": [
    "### Insight 1: Marginal Stats\n",
    "\n",
    "Howso provides easily accessible feature-level descriptive statistics of your dataset. The type of descriptive statistics that are available is dependent on whether the data is continuous or nominal."
   ]
  },
  {
   "cell_type": "code",
   "execution_count": 4,
   "id": "60e8d88d",
   "metadata": {
    "execution": {
     "iopub.execute_input": "2025-01-29T22:40:34.218671Z",
     "iopub.status.busy": "2025-01-29T22:40:34.218477Z",
     "iopub.status.idle": "2025-01-29T22:40:34.231268Z",
     "shell.execute_reply": "2025-01-29T22:40:34.230793Z"
    }
   },
   "outputs": [
    {
     "data": {
      "text/html": [
       "<div>\n",
       "<style scoped>\n",
       "    .dataframe tbody tr th:only-of-type {\n",
       "        vertical-align: middle;\n",
       "    }\n",
       "\n",
       "    .dataframe tbody tr th {\n",
       "        vertical-align: top;\n",
       "    }\n",
       "\n",
       "    .dataframe thead th {\n",
       "        text-align: right;\n",
       "    }\n",
       "</style>\n",
       "<table border=\"1\" class=\"dataframe\">\n",
       "  <thead>\n",
       "    <tr style=\"text-align: right;\">\n",
       "      <th></th>\n",
       "      <th>target</th>\n",
       "      <th>sepal-length</th>\n",
       "      <th>petal-width</th>\n",
       "      <th>petal-length</th>\n",
       "      <th>sepal-width</th>\n",
       "    </tr>\n",
       "  </thead>\n",
       "  <tbody>\n",
       "    <tr>\n",
       "      <th>mean_absdev</th>\n",
       "      <td>NaN</td>\n",
       "      <td>0.687556</td>\n",
       "      <td>0.658933</td>\n",
       "      <td>1.561920</td>\n",
       "      <td>0.331791</td>\n",
       "    </tr>\n",
       "    <tr>\n",
       "      <th>percentile_25</th>\n",
       "      <td>NaN</td>\n",
       "      <td>5.100000</td>\n",
       "      <td>0.300000</td>\n",
       "      <td>1.600000</td>\n",
       "      <td>2.800000</td>\n",
       "    </tr>\n",
       "    <tr>\n",
       "      <th>variance</th>\n",
       "      <td>NaN</td>\n",
       "      <td>0.681122</td>\n",
       "      <td>0.578532</td>\n",
       "      <td>3.092425</td>\n",
       "      <td>0.184661</td>\n",
       "    </tr>\n",
       "    <tr>\n",
       "      <th>stddev</th>\n",
       "      <td>NaN</td>\n",
       "      <td>0.825301</td>\n",
       "      <td>0.760613</td>\n",
       "      <td>1.758529</td>\n",
       "      <td>0.429722</td>\n",
       "    </tr>\n",
       "    <tr>\n",
       "      <th>kurtosis</th>\n",
       "      <td>NaN</td>\n",
       "      <td>-0.573568</td>\n",
       "      <td>-1.335246</td>\n",
       "      <td>-1.395359</td>\n",
       "      <td>0.260695</td>\n",
       "    </tr>\n",
       "    <tr>\n",
       "      <th>uniques</th>\n",
       "      <td>3.000000</td>\n",
       "      <td>35.000000</td>\n",
       "      <td>22.000000</td>\n",
       "      <td>43.000000</td>\n",
       "      <td>22.000000</td>\n",
       "    </tr>\n",
       "    <tr>\n",
       "      <th>median</th>\n",
       "      <td>NaN</td>\n",
       "      <td>5.800000</td>\n",
       "      <td>1.300000</td>\n",
       "      <td>4.350000</td>\n",
       "      <td>3.000000</td>\n",
       "    </tr>\n",
       "    <tr>\n",
       "      <th>max</th>\n",
       "      <td>NaN</td>\n",
       "      <td>7.900000</td>\n",
       "      <td>2.500000</td>\n",
       "      <td>6.900000</td>\n",
       "      <td>4.400000</td>\n",
       "    </tr>\n",
       "    <tr>\n",
       "      <th>skew</th>\n",
       "      <td>NaN</td>\n",
       "      <td>0.311753</td>\n",
       "      <td>-0.103944</td>\n",
       "      <td>-0.271712</td>\n",
       "      <td>0.276850</td>\n",
       "    </tr>\n",
       "    <tr>\n",
       "      <th>percentile_75</th>\n",
       "      <td>NaN</td>\n",
       "      <td>6.400000</td>\n",
       "      <td>1.800000</td>\n",
       "      <td>5.100000</td>\n",
       "      <td>3.300000</td>\n",
       "    </tr>\n",
       "    <tr>\n",
       "      <th>mode</th>\n",
       "      <td>2.000000</td>\n",
       "      <td>5.000000</td>\n",
       "      <td>0.200000</td>\n",
       "      <td>1.500000</td>\n",
       "      <td>3.000000</td>\n",
       "    </tr>\n",
       "    <tr>\n",
       "      <th>min</th>\n",
       "      <td>NaN</td>\n",
       "      <td>4.300000</td>\n",
       "      <td>0.100000</td>\n",
       "      <td>1.000000</td>\n",
       "      <td>2.000000</td>\n",
       "    </tr>\n",
       "    <tr>\n",
       "      <th>count</th>\n",
       "      <td>150.000000</td>\n",
       "      <td>150.000000</td>\n",
       "      <td>150.000000</td>\n",
       "      <td>150.000000</td>\n",
       "      <td>143.000000</td>\n",
       "    </tr>\n",
       "    <tr>\n",
       "      <th>mean</th>\n",
       "      <td>NaN</td>\n",
       "      <td>5.843333</td>\n",
       "      <td>1.198667</td>\n",
       "      <td>3.758667</td>\n",
       "      <td>3.058741</td>\n",
       "    </tr>\n",
       "    <tr>\n",
       "      <th>entropy</th>\n",
       "      <td>1.098612</td>\n",
       "      <td>NaN</td>\n",
       "      <td>NaN</td>\n",
       "      <td>NaN</td>\n",
       "      <td>NaN</td>\n",
       "    </tr>\n",
       "  </tbody>\n",
       "</table>\n",
       "</div>"
      ],
      "text/plain": [
       "                   target  sepal-length  petal-width  petal-length  \\\n",
       "mean_absdev           NaN      0.687556     0.658933      1.561920   \n",
       "percentile_25         NaN      5.100000     0.300000      1.600000   \n",
       "variance              NaN      0.681122     0.578532      3.092425   \n",
       "stddev                NaN      0.825301     0.760613      1.758529   \n",
       "kurtosis              NaN     -0.573568    -1.335246     -1.395359   \n",
       "uniques          3.000000     35.000000    22.000000     43.000000   \n",
       "median                NaN      5.800000     1.300000      4.350000   \n",
       "max                   NaN      7.900000     2.500000      6.900000   \n",
       "skew                  NaN      0.311753    -0.103944     -0.271712   \n",
       "percentile_75         NaN      6.400000     1.800000      5.100000   \n",
       "mode             2.000000      5.000000     0.200000      1.500000   \n",
       "min                   NaN      4.300000     0.100000      1.000000   \n",
       "count          150.000000    150.000000   150.000000    150.000000   \n",
       "mean                  NaN      5.843333     1.198667      3.758667   \n",
       "entropy          1.098612           NaN          NaN           NaN   \n",
       "\n",
       "               sepal-width  \n",
       "mean_absdev       0.331791  \n",
       "percentile_25     2.800000  \n",
       "variance          0.184661  \n",
       "stddev            0.429722  \n",
       "kurtosis          0.260695  \n",
       "uniques          22.000000  \n",
       "median            3.000000  \n",
       "max               4.400000  \n",
       "skew              0.276850  \n",
       "percentile_75     3.300000  \n",
       "mode              3.000000  \n",
       "min               2.000000  \n",
       "count           143.000000  \n",
       "mean              3.058741  \n",
       "entropy                NaN  "
      ]
     },
     "execution_count": 4,
     "metadata": {},
     "output_type": "execute_result"
    }
   ],
   "source": [
    "marginal_stats = t.get_marginal_stats()\n",
    "marginal_stats"
   ]
  },
  {
   "cell_type": "markdown",
   "id": "073f9dbc",
   "metadata": {},
   "source": [
    "### Insight 2 : Which features are my data good at predicting?\n",
    "\n",
    "Howso provides insights into whether a feature is predictable within a data analysis workflow. This can be analyzed depending on a feature's type, e.g., continuous vs. nomimal. \n",
    "\n",
    "For continuous features, Howso provides the feature's mean value and units and calculates its residual. The residuals are quantified by the `mean absolute error (MAE)` between a predicted value and actual value for a prediction and they describe the average amount a feature's predicted value varies from its real value. A feature with a small `MAE` is generally easier to predict than a feature with a large `MAE`. With this information, an subject matter expert will be able to determine the predictability of a feature, given the information contained in the remaining data. For additional context, Howso provides the `R^2`, `RMSE`, and `Spearman coefficient` for each feature. To compare between the continuous features, Howso orders the resulting features by highest `R^2` and `Spearman coefficient` values which are unitless and thus comparable between continuous features. This order represents a probable rank order of feature predictability. However, it is important that further analysis is performed to better understand these results, as they are dataset dependent.\n",
    "\n",
    "For nominal features, Howso provides information on the feature's accuracy, precision, and recall as well as the Matthews Correlation Coefficient. This provides a holistic view as to whether the feature can be predicted given the remaining information. \n",
    "\n",
    "**Note**: Engine insights provide a baseline set of information based on an analysis across all features that points users in the correct direction of feature predictability. If an analysis is performed with a specified target feature, this analysis will become more precise, but the directionality will generally not change."
   ]
  },
  {
   "cell_type": "code",
   "execution_count": 5,
   "id": "04731f4b",
   "metadata": {
    "execution": {
     "iopub.execute_input": "2025-01-29T22:40:34.233240Z",
     "iopub.status.busy": "2025-01-29T22:40:34.232889Z",
     "iopub.status.idle": "2025-01-29T22:40:34.266721Z",
     "shell.execute_reply": "2025-01-29T22:40:34.266198Z"
    }
   },
   "outputs": [
    {
     "data": {
      "text/html": [
       "<div>\n",
       "<style scoped>\n",
       "    .dataframe tbody tr th:only-of-type {\n",
       "        vertical-align: middle;\n",
       "    }\n",
       "\n",
       "    .dataframe tbody tr th {\n",
       "        vertical-align: top;\n",
       "    }\n",
       "\n",
       "    .dataframe thead th {\n",
       "        text-align: right;\n",
       "    }\n",
       "</style>\n",
       "<table border=\"1\" class=\"dataframe\">\n",
       "  <thead>\n",
       "    <tr style=\"text-align: right;\">\n",
       "      <th></th>\n",
       "      <th>target</th>\n",
       "      <th>sepal-length</th>\n",
       "      <th>petal-width</th>\n",
       "      <th>petal-length</th>\n",
       "      <th>sepal-width</th>\n",
       "    </tr>\n",
       "  </thead>\n",
       "  <tbody>\n",
       "    <tr>\n",
       "      <th>mcc</th>\n",
       "      <td>0.94000</td>\n",
       "      <td>NaN</td>\n",
       "      <td>NaN</td>\n",
       "      <td>NaN</td>\n",
       "      <td>NaN</td>\n",
       "    </tr>\n",
       "    <tr>\n",
       "      <th>adjusted_smape</th>\n",
       "      <td>NaN</td>\n",
       "      <td>4.668199</td>\n",
       "      <td>15.643450</td>\n",
       "      <td>6.344548</td>\n",
       "      <td>7.438781</td>\n",
       "    </tr>\n",
       "    <tr>\n",
       "      <th>r2</th>\n",
       "      <td>NaN</td>\n",
       "      <td>0.829147</td>\n",
       "      <td>0.950451</td>\n",
       "      <td>0.977648</td>\n",
       "      <td>0.493901</td>\n",
       "    </tr>\n",
       "    <tr>\n",
       "      <th>precision</th>\n",
       "      <td>0.96000</td>\n",
       "      <td>NaN</td>\n",
       "      <td>NaN</td>\n",
       "      <td>NaN</td>\n",
       "      <td>NaN</td>\n",
       "    </tr>\n",
       "    <tr>\n",
       "      <th>missing_value_accuracy</th>\n",
       "      <td>NaN</td>\n",
       "      <td>NaN</td>\n",
       "      <td>NaN</td>\n",
       "      <td>NaN</td>\n",
       "      <td>0.000000</td>\n",
       "    </tr>\n",
       "    <tr>\n",
       "      <th>spearman_coeff</th>\n",
       "      <td>NaN</td>\n",
       "      <td>0.877051</td>\n",
       "      <td>0.881915</td>\n",
       "      <td>0.893702</td>\n",
       "      <td>0.683371</td>\n",
       "    </tr>\n",
       "    <tr>\n",
       "      <th>smape</th>\n",
       "      <td>NaN</td>\n",
       "      <td>4.708892</td>\n",
       "      <td>17.887051</td>\n",
       "      <td>6.485060</td>\n",
       "      <td>7.563163</td>\n",
       "    </tr>\n",
       "    <tr>\n",
       "      <th>recall</th>\n",
       "      <td>0.96000</td>\n",
       "      <td>NaN</td>\n",
       "      <td>NaN</td>\n",
       "      <td>NaN</td>\n",
       "      <td>NaN</td>\n",
       "    </tr>\n",
       "    <tr>\n",
       "      <th>mae</th>\n",
       "      <td>0.04635</td>\n",
       "      <td>0.274785</td>\n",
       "      <td>0.126886</td>\n",
       "      <td>0.206498</td>\n",
       "      <td>0.229811</td>\n",
       "    </tr>\n",
       "    <tr>\n",
       "      <th>rmse</th>\n",
       "      <td>NaN</td>\n",
       "      <td>0.341133</td>\n",
       "      <td>0.169310</td>\n",
       "      <td>0.262910</td>\n",
       "      <td>0.305707</td>\n",
       "    </tr>\n",
       "    <tr>\n",
       "      <th>accuracy</th>\n",
       "      <td>0.96000</td>\n",
       "      <td>NaN</td>\n",
       "      <td>NaN</td>\n",
       "      <td>NaN</td>\n",
       "      <td>NaN</td>\n",
       "    </tr>\n",
       "  </tbody>\n",
       "</table>\n",
       "</div>"
      ],
      "text/plain": [
       "                         target  sepal-length  petal-width  petal-length  \\\n",
       "mcc                     0.94000           NaN          NaN           NaN   \n",
       "adjusted_smape              NaN      4.668199    15.643450      6.344548   \n",
       "r2                          NaN      0.829147     0.950451      0.977648   \n",
       "precision               0.96000           NaN          NaN           NaN   \n",
       "missing_value_accuracy      NaN           NaN          NaN           NaN   \n",
       "spearman_coeff              NaN      0.877051     0.881915      0.893702   \n",
       "smape                       NaN      4.708892    17.887051      6.485060   \n",
       "recall                  0.96000           NaN          NaN           NaN   \n",
       "mae                     0.04635      0.274785     0.126886      0.206498   \n",
       "rmse                        NaN      0.341133     0.169310      0.262910   \n",
       "accuracy                0.96000           NaN          NaN           NaN   \n",
       "\n",
       "                        sepal-width  \n",
       "mcc                             NaN  \n",
       "adjusted_smape             7.438781  \n",
       "r2                         0.493901  \n",
       "precision                       NaN  \n",
       "missing_value_accuracy     0.000000  \n",
       "spearman_coeff             0.683371  \n",
       "smape                      7.563163  \n",
       "recall                          NaN  \n",
       "mae                        0.229811  \n",
       "rmse                       0.305707  \n",
       "accuracy                        NaN  "
      ]
     },
     "execution_count": 5,
     "metadata": {},
     "output_type": "execute_result"
    }
   ],
   "source": [
    "pred_stats = t.get_prediction_stats(details = {'prediction_stats': True})\n",
    "\n",
    "pred_stats"
   ]
  },
  {
   "cell_type": "markdown",
   "id": "a771e834",
   "metadata": {},
   "source": [
    "#### Metrics for continuous features"
   ]
  },
  {
   "cell_type": "code",
   "execution_count": 6,
   "id": "8e3a5038",
   "metadata": {
    "execution": {
     "iopub.execute_input": "2025-01-29T22:40:34.268521Z",
     "iopub.status.busy": "2025-01-29T22:40:34.268322Z",
     "iopub.status.idle": "2025-01-29T22:40:34.278465Z",
     "shell.execute_reply": "2025-01-29T22:40:34.277964Z"
    }
   },
   "outputs": [
    {
     "data": {
      "text/html": [
       "<div>\n",
       "<style scoped>\n",
       "    .dataframe tbody tr th:only-of-type {\n",
       "        vertical-align: middle;\n",
       "    }\n",
       "\n",
       "    .dataframe tbody tr th {\n",
       "        vertical-align: top;\n",
       "    }\n",
       "\n",
       "    .dataframe thead th {\n",
       "        text-align: right;\n",
       "    }\n",
       "</style>\n",
       "<table border=\"1\" class=\"dataframe\">\n",
       "  <thead>\n",
       "    <tr style=\"text-align: right;\">\n",
       "      <th></th>\n",
       "      <th>mean</th>\n",
       "      <th>stddev</th>\n",
       "      <th>r2</th>\n",
       "      <th>spearman_coeff</th>\n",
       "      <th>mae</th>\n",
       "      <th>rmse</th>\n",
       "    </tr>\n",
       "  </thead>\n",
       "  <tbody>\n",
       "    <tr>\n",
       "      <th>petal-length</th>\n",
       "      <td>3.758667</td>\n",
       "      <td>1.758529</td>\n",
       "      <td>0.977648</td>\n",
       "      <td>0.893702</td>\n",
       "      <td>0.206498</td>\n",
       "      <td>0.262910</td>\n",
       "    </tr>\n",
       "    <tr>\n",
       "      <th>petal-width</th>\n",
       "      <td>1.198667</td>\n",
       "      <td>0.760613</td>\n",
       "      <td>0.950451</td>\n",
       "      <td>0.881915</td>\n",
       "      <td>0.126886</td>\n",
       "      <td>0.169310</td>\n",
       "    </tr>\n",
       "    <tr>\n",
       "      <th>sepal-length</th>\n",
       "      <td>5.843333</td>\n",
       "      <td>0.825301</td>\n",
       "      <td>0.829147</td>\n",
       "      <td>0.877051</td>\n",
       "      <td>0.274785</td>\n",
       "      <td>0.341133</td>\n",
       "    </tr>\n",
       "    <tr>\n",
       "      <th>sepal-width</th>\n",
       "      <td>3.058741</td>\n",
       "      <td>0.429722</td>\n",
       "      <td>0.493901</td>\n",
       "      <td>0.683371</td>\n",
       "      <td>0.229811</td>\n",
       "      <td>0.305707</td>\n",
       "    </tr>\n",
       "  </tbody>\n",
       "</table>\n",
       "</div>"
      ],
      "text/plain": [
       "                  mean    stddev        r2  spearman_coeff       mae      rmse\n",
       "petal-length  3.758667  1.758529  0.977648        0.893702  0.206498  0.262910\n",
       "petal-width   1.198667  0.760613  0.950451        0.881915  0.126886  0.169310\n",
       "sepal-length  5.843333  0.825301  0.829147        0.877051  0.274785  0.341133\n",
       "sepal-width   3.058741  0.429722  0.493901        0.683371  0.229811  0.305707"
      ]
     },
     "execution_count": 6,
     "metadata": {},
     "output_type": "execute_result"
    }
   ],
   "source": [
    "u_eps = marginal_stats.loc[['mean','stddev'], marginal_stats.columns != 'target']\n",
    "cts_stats = pred_stats.loc[['r2','spearman_coeff','mae','rmse'], marginal_stats.columns != 'target']\n",
    "cts_results = pd.concat([u_eps,cts_stats]).transpose().sort_values(by='r2',ascending=False)\n",
    "cts_results"
   ]
  },
  {
   "cell_type": "markdown",
   "id": "0a0a41f9",
   "metadata": {},
   "source": [
    "#### Metrics for nominal features"
   ]
  },
  {
   "cell_type": "code",
   "execution_count": 7,
   "id": "e43dbdc9",
   "metadata": {
    "execution": {
     "iopub.execute_input": "2025-01-29T22:40:34.280292Z",
     "iopub.status.busy": "2025-01-29T22:40:34.279950Z",
     "iopub.status.idle": "2025-01-29T22:40:34.285932Z",
     "shell.execute_reply": "2025-01-29T22:40:34.285463Z"
    }
   },
   "outputs": [
    {
     "data": {
      "text/html": [
       "<div>\n",
       "<style scoped>\n",
       "    .dataframe tbody tr th:only-of-type {\n",
       "        vertical-align: middle;\n",
       "    }\n",
       "\n",
       "    .dataframe tbody tr th {\n",
       "        vertical-align: top;\n",
       "    }\n",
       "\n",
       "    .dataframe thead th {\n",
       "        text-align: right;\n",
       "    }\n",
       "</style>\n",
       "<table border=\"1\" class=\"dataframe\">\n",
       "  <thead>\n",
       "    <tr style=\"text-align: right;\">\n",
       "      <th></th>\n",
       "      <th>target</th>\n",
       "    </tr>\n",
       "  </thead>\n",
       "  <tbody>\n",
       "    <tr>\n",
       "      <th>accuracy</th>\n",
       "      <td>0.96</td>\n",
       "    </tr>\n",
       "    <tr>\n",
       "      <th>precision</th>\n",
       "      <td>0.96</td>\n",
       "    </tr>\n",
       "    <tr>\n",
       "      <th>recall</th>\n",
       "      <td>0.96</td>\n",
       "    </tr>\n",
       "  </tbody>\n",
       "</table>\n",
       "</div>"
      ],
      "text/plain": [
       "           target\n",
       "accuracy     0.96\n",
       "precision    0.96\n",
       "recall       0.96"
      ]
     },
     "execution_count": 7,
     "metadata": {},
     "output_type": "execute_result"
    }
   ],
   "source": [
    "target_stats = pred_stats[['target']]\n",
    "target_stats.loc[['accuracy','precision','recall']]"
   ]
  },
  {
   "cell_type": "markdown",
   "id": "a7857b7a",
   "metadata": {},
   "source": [
    "### Insight 3: Which features are important?\n",
    "\n",
    "Feature importance is quantified by a combined analysis of how much each feature contributes to the prediction of another feature and whether that contribution improves or harms the accuracy of the prediction. For a given target (i.e., action, predicted) feature, Howso can calculate the [Feature Prediction Contributions](https://docs.howso.com/getting_started/terminology.html#prediction_contributions), which \n",
    "is the difference between a prediction of a target feature when each context feature is considered versus not considered during the prediction.\n",
    "\n",
    "Howso can also calculate the [Feature Accuracy Contributions](https://docs.howso.com/getting_started/terminology.html#accuracy_contributions) (AC). Please see the [feature importance user guide](https://docs.howso.com/user_guide/advanced_capabilities/feature_importance.html) page for more details.\n",
    "\n",
    "Howso summarizes the feature contribution results for each feature within matrices. To read a matrix, the label of each row (listed on the y-axis) indicates the target feature. Moving from left to right across each row of a matrix, the feature contribution of each context feature for the target feature prediction can be identified. \n",
    "\n",
    "Note, the matrices also provide some insight into directional causality between features. This insight is useful for data scientists performing an exploratory data analysis (EDA)."
   ]
  },
  {
   "cell_type": "code",
   "execution_count": 8,
   "id": "23698699",
   "metadata": {
    "execution": {
     "iopub.execute_input": "2025-01-29T22:40:34.287622Z",
     "iopub.status.busy": "2025-01-29T22:40:34.287446Z",
     "iopub.status.idle": "2025-01-29T22:40:41.652375Z",
     "shell.execute_reply": "2025-01-29T22:40:41.651813Z"
    }
   },
   "outputs": [
    {
     "name": "stdout",
     "output_type": "stream",
     "text": [
      "   sepal-length  petal-width  petal-length  sepal-width\n",
      "0       0.09873     0.242874      0.218522     0.060668\n"
     ]
    },
    {
     "name": "stdout",
     "output_type": "stream",
     "text": [
      "    target  petal-width  petal-length  sepal-width\n",
      "0  0.16404     0.210182      0.264299     0.172067\n"
     ]
    },
    {
     "name": "stdout",
     "output_type": "stream",
     "text": [
      "     target  sepal-length  petal-length  sepal-width\n",
      "0  0.194789      0.160446      0.203687     0.092405\n"
     ]
    },
    {
     "name": "stdout",
     "output_type": "stream",
     "text": [
      "   sepal-length    target  petal-width  sepal-width\n",
      "0      0.400591  0.422289     0.421785     0.176403\n"
     ]
    },
    {
     "name": "stdout",
     "output_type": "stream",
     "text": [
      "   sepal-length    target  petal-width  petal-length\n",
      "0      0.121859  0.073953     0.123999      0.108687\n"
     ]
    }
   ],
   "source": [
    "contrib_matrix = t.get_contribution_matrix()"
   ]
  },
  {
   "cell_type": "code",
   "execution_count": 9,
   "id": "afc380b6",
   "metadata": {
    "execution": {
     "iopub.execute_input": "2025-01-29T22:40:41.654289Z",
     "iopub.status.busy": "2025-01-29T22:40:41.654094Z",
     "iopub.status.idle": "2025-01-29T22:40:43.215247Z",
     "shell.execute_reply": "2025-01-29T22:40:43.214398Z"
    }
   },
   "outputs": [
    {
     "data": {
      "image/png": "[encoded data removed]"
     },
     "metadata": {},
     "output_type": "display_data"
    }
   ],
   "source": [
    "# Plot the heatmap\n",
    "fig = px.imshow(round(contrib_matrix, 2), color_continuous_scale='RdBu', text_auto=True)\n",
    "fig.show()"
   ]
  },
  {
   "cell_type": "markdown",
   "id": "17307162",
   "metadata": {},
   "source": [
    "### Insight 4: Which cases are anomalous?\n",
    "\n",
    "Howso provides insights into the anomalies within your dataset, utilizing the concept of [Conviction](https://docs.howso.com/getting_started/terminology.html#conviction) or how surprising a single data point is relative to the remaining data. The higher the surprisal (lower the conviction), the more likely the data point is anomalous. An outlier is classified as an anomalous point that is very far away from any other data.\n",
    "\n",
    "Howso also has the ability to classify inliers, which are anomalous points that are very near (e.g., essentially overlapping) with another data point. More information is provided in the `Anomaly_detection.ipynb` recipe.\n",
    "\n",
    "As assessment of anomalous data points are an important tool for data preparation and results explanation within a data analytics workflow."
   ]
  },
  {
   "cell_type": "code",
   "execution_count": 10,
   "id": "09308754",
   "metadata": {
    "execution": {
     "iopub.execute_input": "2025-01-29T22:40:43.217628Z",
     "iopub.status.busy": "2025-01-29T22:40:43.217426Z",
     "iopub.status.idle": "2025-01-29T22:40:43.245063Z",
     "shell.execute_reply": "2025-01-29T22:40:43.244492Z"
    }
   },
   "outputs": [],
   "source": [
    "t.react_into_features(\n",
    "    distance_contribution=True,\n",
    "    familiarity_conviction_addition=True,\n",
    "    familiarity_conviction_removal=True,\n",
    "    influence_weight_entropy=True,\n",
    "    p_value_of_addition=True,\n",
    "    p_value_of_removal=True,\n",
    "    similarity_conviction=True\n",
    ")\n",
    "\n",
    "\n",
    "conviction = t.get_cases(\n",
    "    session=t.active_session,\n",
    "    features=df.columns.to_list() + ['distance_contribution', 'similarity_conviction']\n",
    ")\n",
    "\n",
    "# Threshold to determine which cases will be deemed anomalous\n",
    "conviction_threshold = 1.0\n",
    "\n",
    "# Extract the anomalous cases\n",
    "low_conviction = conviction[\n",
    "    conviction['similarity_conviction'] <= conviction_threshold\n",
    "].sort_values('similarity_conviction', ascending=True)\n",
    "\n",
    "# Average distance contribution will be used to determine if a case is an outlier or inlier\n",
    "average_dist_contribution = low_conviction['distance_contribution'].mean()\n",
    "\n",
    "# A case with distance contribution greater than average will be tagged as outlier, and vice versa for inliers\n",
    "category = [\n",
    "    'outlier' if d > average_dist_contribution else\n",
    "    np.nan for d in low_conviction['distance_contribution']\n",
    "]\n",
    "low_conviction['category'] = category"
   ]
  },
  {
   "cell_type": "markdown",
   "id": "2a4bd9e8",
   "metadata": {},
   "source": [
    "The anomalous cases, in order of lowest to highest conviction"
   ]
  },
  {
   "cell_type": "code",
   "execution_count": 11,
   "id": "1597da66",
   "metadata": {
    "execution": {
     "iopub.execute_input": "2025-01-29T22:40:43.247364Z",
     "iopub.status.busy": "2025-01-29T22:40:43.247171Z",
     "iopub.status.idle": "2025-01-29T22:40:43.257948Z",
     "shell.execute_reply": "2025-01-29T22:40:43.257436Z"
    }
   },
   "outputs": [
    {
     "data": {
      "text/html": [
       "<div>\n",
       "<style scoped>\n",
       "    .dataframe tbody tr th:only-of-type {\n",
       "        vertical-align: middle;\n",
       "    }\n",
       "\n",
       "    .dataframe tbody tr th {\n",
       "        vertical-align: top;\n",
       "    }\n",
       "\n",
       "    .dataframe thead th {\n",
       "        text-align: right;\n",
       "    }\n",
       "</style>\n",
       "<table border=\"1\" class=\"dataframe\">\n",
       "  <thead>\n",
       "    <tr style=\"text-align: right;\">\n",
       "      <th></th>\n",
       "      <th>sepal-length</th>\n",
       "      <th>sepal-width</th>\n",
       "      <th>petal-length</th>\n",
       "      <th>petal-width</th>\n",
       "      <th>target</th>\n",
       "      <th>distance_contribution</th>\n",
       "      <th>similarity_conviction</th>\n",
       "      <th>category</th>\n",
       "    </tr>\n",
       "  </thead>\n",
       "  <tbody>\n",
       "    <tr>\n",
       "      <th>25</th>\n",
       "      <td>5.0</td>\n",
       "      <td>NaN</td>\n",
       "      <td>1.6</td>\n",
       "      <td>0.2</td>\n",
       "      <td>0</td>\n",
       "      <td>23.643715</td>\n",
       "      <td>0.025290</td>\n",
       "      <td>outlier</td>\n",
       "    </tr>\n",
       "    <tr>\n",
       "      <th>116</th>\n",
       "      <td>5.8</td>\n",
       "      <td>NaN</td>\n",
       "      <td>1.2</td>\n",
       "      <td>0.2</td>\n",
       "      <td>0</td>\n",
       "      <td>23.665630</td>\n",
       "      <td>0.063195</td>\n",
       "      <td>outlier</td>\n",
       "    </tr>\n",
       "    <tr>\n",
       "      <th>112</th>\n",
       "      <td>6.0</td>\n",
       "      <td>NaN</td>\n",
       "      <td>4.5</td>\n",
       "      <td>1.5</td>\n",
       "      <td>1</td>\n",
       "      <td>23.648294</td>\n",
       "      <td>0.075232</td>\n",
       "      <td>outlier</td>\n",
       "    </tr>\n",
       "    <tr>\n",
       "      <th>79</th>\n",
       "      <td>6.3</td>\n",
       "      <td>NaN</td>\n",
       "      <td>5.0</td>\n",
       "      <td>1.9</td>\n",
       "      <td>2</td>\n",
       "      <td>23.650352</td>\n",
       "      <td>0.078832</td>\n",
       "      <td>outlier</td>\n",
       "    </tr>\n",
       "    <tr>\n",
       "      <th>34</th>\n",
       "      <td>6.8</td>\n",
       "      <td>NaN</td>\n",
       "      <td>5.5</td>\n",
       "      <td>2.1</td>\n",
       "      <td>2</td>\n",
       "      <td>23.656903</td>\n",
       "      <td>0.080761</td>\n",
       "      <td>outlier</td>\n",
       "    </tr>\n",
       "    <tr>\n",
       "      <th>110</th>\n",
       "      <td>5.7</td>\n",
       "      <td>NaN</td>\n",
       "      <td>4.5</td>\n",
       "      <td>1.3</td>\n",
       "      <td>1</td>\n",
       "      <td>23.653327</td>\n",
       "      <td>0.107393</td>\n",
       "      <td>outlier</td>\n",
       "    </tr>\n",
       "    <tr>\n",
       "      <th>7</th>\n",
       "      <td>5.5</td>\n",
       "      <td>NaN</td>\n",
       "      <td>4.0</td>\n",
       "      <td>1.3</td>\n",
       "      <td>1</td>\n",
       "      <td>23.646030</td>\n",
       "      <td>0.107669</td>\n",
       "      <td>outlier</td>\n",
       "    </tr>\n",
       "  </tbody>\n",
       "</table>\n",
       "</div>"
      ],
      "text/plain": [
       "     sepal-length  sepal-width  petal-length  petal-width  target  \\\n",
       "25            5.0          NaN           1.6          0.2       0   \n",
       "116           5.8          NaN           1.2          0.2       0   \n",
       "112           6.0          NaN           4.5          1.5       1   \n",
       "79            6.3          NaN           5.0          1.9       2   \n",
       "34            6.8          NaN           5.5          2.1       2   \n",
       "110           5.7          NaN           4.5          1.3       1   \n",
       "7             5.5          NaN           4.0          1.3       1   \n",
       "\n",
       "     distance_contribution  similarity_conviction category  \n",
       "25               23.643715               0.025290  outlier  \n",
       "116              23.665630               0.063195  outlier  \n",
       "112              23.648294               0.075232  outlier  \n",
       "79               23.650352               0.078832  outlier  \n",
       "34               23.656903               0.080761  outlier  \n",
       "110              23.653327               0.107393  outlier  \n",
       "7                23.646030               0.107669  outlier  "
      ]
     },
     "execution_count": 11,
     "metadata": {},
     "output_type": "execute_result"
    }
   ],
   "source": [
    "low_conviction[low_conviction['category']=='outlier']"
   ]
  },
  {
   "cell_type": "code",
   "execution_count": 12,
   "id": "7b4f7eb8",
   "metadata": {
    "execution": {
     "iopub.execute_input": "2025-01-29T22:40:43.260006Z",
     "iopub.status.busy": "2025-01-29T22:40:43.259659Z",
     "iopub.status.idle": "2025-01-29T22:40:43.263822Z",
     "shell.execute_reply": "2025-01-29T22:40:43.263308Z"
    }
   },
   "outputs": [
    {
     "data": {
      "text/plain": [
       "'There are 7 potential outliers in the dataset.'"
      ]
     },
     "metadata": {},
     "output_type": "display_data"
    }
   ],
   "source": [
    "display(f\"There are {len(low_conviction[low_conviction['category']=='outlier'])} potential outliers in the dataset.\")"
   ]
  }
 ],
 "metadata": {
  "kernelspec": {
   "display_name": "engine_rec_312",
   "language": "python",
   "name": "python3"
  },
  "language_info": {
   "codemirror_mode": {
    "name": "ipython",
    "version": 3
   },
   "file_extension": ".py",
   "mimetype": "text/x-python",
   "name": "python",
   "nbconvert_exporter": "python",
   "pygments_lexer": "ipython3",
   "version": "3.12.0"
  }
 },
 "nbformat": 4,
 "nbformat_minor": 5
}
