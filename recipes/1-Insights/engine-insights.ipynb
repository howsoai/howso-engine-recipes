{
 "cells": [
  {
   "attachments": {},
   "cell_type": "markdown",
   "id": "69d7ac54-9a3b-4327-93a5-eb6fbf314530",
   "metadata": {
    "tags": []
   },
   "source": [
    "# Engine Insights\n",
    "\n",
    "## Overview \n",
    " \n",
    "Howso Engine is a generalized Machine Learning (ML) and Artificial Intelligence platform that creates powerful decision-making models that are fully explainable, auditable, and editable. Howso Engine uses Instance-Based Machine Learning which stores instances, i.e., data points, in memory and makes predictions about new instances given their relationship to existing instances. This technology harnesses a fast spatial query system and techniques from information theory to enhance both performance and accuracy. \n",
    "\n",
    "In this notebook we will explore the most basic workflow using Howso Engine to gain insights in your data. This workflow is a form of exploratory data analysis and can help the user develop a deeper understanding of the data."
   ]
  },
  {
   "cell_type": "code",
   "execution_count": null,
   "id": "f6cbaf0d-4f1f-410d-9cfd-1114f34c8c00",
   "metadata": {},
   "outputs": [],
   "source": [
    "import os\n",
    "\n",
    "import numpy as np\n",
    "import pandas as pd\n",
    "import plotly.io as pio\n",
    "import plotly.express as px\n",
    "from pmlb import fetch_data\n",
    "import pathlib\n",
    "from IPython.display import HTML\n",
    "import ipyreact\n",
    "import traitlets\n",
    "\n",
    "from howso.engine import Trainee\n",
    "from howso.utilities import infer_feature_attributes\n",
    "\n",
    "pio.renderers.default = os.getenv(\"HOWSO_RECIPE_RENDERER\", \"notebook\")\n",
    "# Setup notebook widget path\n",
    "widget_path = pathlib.Path(\"../../widgets/node_modules/@howso/jupyter-notebook-react-components/lib\")\n",
    "# Define your theme preference\n",
    "widgets_theme_mode = \"dark\" # \"auto\" (OS or browser preference), \"dark\" or \"light\"\n",
    "# Output the required css\n",
    "css_rules = pathlib.Path(widget_path / \"index.esm.css\").read_text()\n",
    "HTML(\"<style>\" + css_rules + \"</style>\")"
   ]
  },
  {
   "attachments": {},
   "cell_type": "markdown",
   "id": "050d7e2d",
   "metadata": {},
   "source": [
    "# Section 1: Load, Train, Analyze\n",
    "\n",
    "The [basic workflow guide](https://docs.howso.com/user_guide/basics/basic_workflow.html) goes into more specifics about the individual details of this section. This recipe will focus more on the insights."
   ]
  },
  {
   "attachments": {},
   "cell_type": "markdown",
   "id": "8a1f5ffa-d96e-44b8-9152-9e7811b6f9b4",
   "metadata": {},
   "source": [
    "### Step 1: Load Data and Create Trainee"
   ]
  },
  {
   "cell_type": "code",
   "execution_count": null,
   "id": "e5a7a925-5a9d-47fb-b4a3-3272203d4772",
   "metadata": {},
   "outputs": [],
   "source": [
    "df = fetch_data('iris', local_cache_dir=\"../../data/iris\")\n",
    "\n",
    "# Randomly insert nulls for insights later in recipe\n",
    "num_nans = int(0.05 * len(df))\n",
    "nan_indices = np.random.choice(df.index, num_nans, replace=False)\n",
    "df.loc[nan_indices, 'sepal-width'] = np.nan\n",
    "\n",
    "# Infer feature attributes\n",
    "features = infer_feature_attributes(df)"
   ]
  },
  {
   "cell_type": "code",
   "execution_count": null,
   "id": "d1087128",
   "metadata": {},
   "outputs": [],
   "source": [
    "# Review the feature attributes\n",
    "class FeatureAttributesWidget(ipyreact.ValueWidget):\n",
    "    _esm = widget_path / \"index.esm.js\"\n",
    "    name = traitlets.Unicode().tag(sync=True)\n",
    "\n",
    "feature_attributes_widget = FeatureAttributesWidget(\n",
    "    props={\n",
    "        \"control\": \"FeaturesAttributesControl\",\n",
    "        \"themeMode\": widgets_theme_mode,\n",
    "    },\n",
    "    value=features.to_json(),\n",
    ")\n",
    "feature_attributes_widget"
   ]
  },
  {
   "cell_type": "code",
   "execution_count": null,
   "id": "ec6e8b81",
   "metadata": {},
   "outputs": [],
   "source": [
    "# Create the Trainee\n",
    "t = Trainee(features=features)"
   ]
  },
  {
   "attachments": {},
   "cell_type": "markdown",
   "id": "35ec53b0-b623-427a-b2a6-8e55ebfef1bc",
   "metadata": {},
   "source": [
    "### Step 2: Train, Analyze, and React"
   ]
  },
  {
   "cell_type": "code",
   "execution_count": null,
   "id": "4c097568",
   "metadata": {
    "execution": {
     "iopub.execute_input": "2024-05-30T18:23:48.941344Z",
     "iopub.status.busy": "2024-05-30T18:23:48.940995Z",
     "iopub.status.idle": "2024-05-30T18:23:50.648077Z",
     "shell.execute_reply": "2024-05-30T18:23:50.647475Z"
    }
   },
   "outputs": [],
   "source": [
    "# Train\n",
    "t.train(df)\n",
    "\n",
    "# Targetless Analysis\n",
    "t.analyze()\n",
    "\n",
    "# React into trainee\n",
    "t.react_into_trainee(residuals=True)"
   ]
  },
  {
   "cell_type": "markdown",
   "id": "e6f1e4cf",
   "metadata": {},
   "source": [
    "# Section 2: Insights\n",
    "\n",
    "By calling `react_into_trainee`, Howso Engine calculates a variety of metrics that are easily accessible and doesn't require further recalculations."
   ]
  },
  {
   "cell_type": "markdown",
   "id": "a7ae8bd7",
   "metadata": {},
   "source": [
    "### Insight 1: Marginal Stats\n",
    "\n",
    "Howso provides easily accessible feature-level descriptive statistics of your dataset. The type of descriptive statistics that are available is dependent on whether the data is continuous or nominal."
   ]
  },
  {
   "cell_type": "code",
   "execution_count": null,
   "id": "60e8d88d",
   "metadata": {
    "execution": {
     "iopub.execute_input": "2024-05-30T18:23:50.651203Z",
     "iopub.status.busy": "2024-05-30T18:23:50.650799Z",
     "iopub.status.idle": "2024-05-30T18:23:50.664579Z",
     "shell.execute_reply": "2024-05-30T18:23:50.664065Z"
    }
   },
   "outputs": [],
   "source": [
    "marginal_stats = t.get_marginal_stats()\n",
    "marginal_stats"
   ]
  },
  {
   "cell_type": "markdown",
   "id": "073f9dbc",
   "metadata": {},
   "source": [
    "### Insight 2 : Which features are my data good at predicting?\n",
    "\n",
    "Howso provides insights into whether a feature is predictable within a data analysis workflow. This can be analyzed depending on a feature's type, e.g., continuous vs. nomimal. \n",
    "\n",
    "For continuous features, Howso provides the feature's mean value and units and calculates its residual. The residuals are quantified by the `mean absolute error (MAE)` between a predicted value and actual value for a prediction and they describe the average amount a feature's predicted value varies from its real value. A feature with a small `MAE` is generally easier to predict than a feature with a large `MAE`. With this information, an subject matter expert will be able to determine the predictability of a feature, given the information contained in the remaining data. For additional context, Howso provides the `R^2`, `RMSE`, and `Spearman coefficient` for each feature. To compare between the continuous features, Howso orders the resulting features by highest `R^2` and `Spearman coefficient` values which are unitless and thus comparable between continuous features. This order represents a probable rank order of feature predictability. However, it is important that further analysis is performed to better understand these results, as they are dataset dependent.\n",
    "\n",
    "For nominal features, Howso provides information on the feature's accuracy, precision, and recall as well as the Matthews Correlation Coefficient. This provides a holistic view as to whether the feature can be predicted given the remaining information. \n",
    "\n",
    "**Note**: Engine insights provide a baseline set of information based on an analysis across all features that points users in the correct direction of feature predictability. If an analysis is performed with a specified target feature, this analysis will become more precise, but the directionality will generally not change."
   ]
  },
  {
   "cell_type": "code",
   "execution_count": null,
   "id": "04731f4b",
   "metadata": {
    "execution": {
     "iopub.execute_input": "2024-05-30T18:23:50.666943Z",
     "iopub.status.busy": "2024-05-30T18:23:50.666526Z",
     "iopub.status.idle": "2024-05-30T18:23:50.674555Z",
     "shell.execute_reply": "2024-05-30T18:23:50.674061Z"
    }
   },
   "outputs": [],
   "source": [
    "pred_stats = t.get_prediction_stats()\n",
    "pred_stats"
   ]
  },
  {
   "cell_type": "markdown",
   "id": "a771e834",
   "metadata": {},
   "source": [
    "#### Metrics for continuous features"
   ]
  },
  {
   "cell_type": "code",
   "execution_count": null,
   "id": "8e3a5038",
   "metadata": {
    "execution": {
     "iopub.execute_input": "2024-05-30T18:23:50.676653Z",
     "iopub.status.busy": "2024-05-30T18:23:50.676470Z",
     "iopub.status.idle": "2024-05-30T18:23:50.686591Z",
     "shell.execute_reply": "2024-05-30T18:23:50.686118Z"
    }
   },
   "outputs": [],
   "source": [
    "u_eps = marginal_stats.loc[['mean','stddev'], marginal_stats.columns != 'target']\n",
    "cts_stats = pred_stats.loc[['r2','spearman_coeff','mae','rmse'], marginal_stats.columns != 'target']\n",
    "cts_results = pd.concat([u_eps,cts_stats]).transpose().sort_values(by='r2',ascending=False)\n",
    "cts_results"
   ]
  },
  {
   "cell_type": "markdown",
   "id": "0a0a41f9",
   "metadata": {},
   "source": [
    "#### Metrics for nominal features"
   ]
  },
  {
   "cell_type": "code",
   "execution_count": null,
   "id": "e43dbdc9",
   "metadata": {
    "execution": {
     "iopub.execute_input": "2024-05-30T18:23:50.688826Z",
     "iopub.status.busy": "2024-05-30T18:23:50.688483Z",
     "iopub.status.idle": "2024-05-30T18:23:50.694394Z",
     "shell.execute_reply": "2024-05-30T18:23:50.693917Z"
    }
   },
   "outputs": [],
   "source": [
    "target_stats = pred_stats[['target']]\n",
    "target_stats.loc[['accuracy','precision','recall']]"
   ]
  },
  {
   "cell_type": "markdown",
   "id": "a7857b7a",
   "metadata": {},
   "source": [
    "### Insight 3: Which features are important?\n",
    "\n",
    "Feature importance is quantified by a combined analysis of how much each feature contributes to the prediction of another feature and whether that contribution improves or harms the accuracy of the prediction. For a given target (i.e., action, predicted) feature, Howso can calculate the [Feature Contribution](https://docs.howso.com/getting_started/terminology.html#contribution), which \n",
    "is the difference between a prediction of a target feature when each context feature is considered versus not considered during the prediction.\n",
    "\n",
    "Howso can also calculate the [Mean Decrease in Accuracy](https://docs.howso.com/getting_started/terminology.html#mda) (MDA). Please see the [feature importance user guide](https://docs.howso.com/user_guide/advanced_capabilities/feature_importance.html) page for more details.\n",
    "\n",
    "Howso summarizes the feature contribution results for each feature within matrices. To read a matrix, the label of each row (listed on the y-axis) indicates the target feature. Moving from left to right across each row of a matrix, the feature contribution of each context feature for the target feature prediction can be identified. \n",
    "\n",
    "Note, the matrices also provide some insight into directional causality between features. This insight is useful for data scientists performing an exploratory data analysis (EDA)."
   ]
  },
  {
   "cell_type": "code",
   "execution_count": null,
   "id": "23698699",
   "metadata": {
    "execution": {
     "iopub.execute_input": "2024-05-30T18:23:50.696476Z",
     "iopub.status.busy": "2024-05-30T18:23:50.696293Z",
     "iopub.status.idle": "2024-05-30T18:24:19.052218Z",
     "shell.execute_reply": "2024-05-30T18:24:19.051637Z"
    }
   },
   "outputs": [],
   "source": [
    "contrib_matrix = t.get_contribution_matrix()"
   ]
  },
  {
   "cell_type": "code",
   "execution_count": null,
   "id": "afc380b6",
   "metadata": {
    "execution": {
     "iopub.execute_input": "2024-05-30T18:24:19.055452Z",
     "iopub.status.busy": "2024-05-30T18:24:19.054921Z",
     "iopub.status.idle": "2024-05-30T18:24:19.725307Z",
     "shell.execute_reply": "2024-05-30T18:24:19.724647Z"
    }
   },
   "outputs": [],
   "source": [
    "# Plot the heatmap\n",
    "fig = px.imshow(round(contrib_matrix, 2), color_continuous_scale='RdBu', text_auto=True)\n",
    "fig.show()"
   ]
  },
  {
   "cell_type": "markdown",
   "id": "17307162",
   "metadata": {},
   "source": [
    "### Insight 4: Which cases are anomalous?\n",
    "\n",
    "Howso provides insights into the anomalies within your dataset, utilizing the concept of [Conviction](https://docs.howso.com/getting_started/terminology.html#conviction) or how surprising a single data point is relative to the remaining data. The higher the surprisal (lower the conviction), the more likely the data point is anomalous. An outlier is classified as an anomalous point that is very far away from any other data.\n",
    "\n",
    "Howso also has the ability to classify inliers, which are anomalous points that are very near (e.g., essentially overlapping) with another data point. More information is provided in the `Anomaly_detection.ipynb` recipe.\n",
    "\n",
    "As assessment of anomalous data points are an important tool for data preparation and results explanation within a data analytics workflow."
   ]
  },
  {
   "cell_type": "code",
   "execution_count": null,
   "id": "09308754",
   "metadata": {
    "execution": {
     "iopub.execute_input": "2024-05-30T18:24:19.728112Z",
     "iopub.status.busy": "2024-05-30T18:24:19.727706Z",
     "iopub.status.idle": "2024-05-30T18:24:19.851803Z",
     "shell.execute_reply": "2024-05-30T18:24:19.851249Z"
    }
   },
   "outputs": [],
   "source": [
    "t.react_into_features(\n",
    "    distance_contribution=True, \n",
    "    familiarity_conviction_addition=True, \n",
    "    familiarity_conviction_removal=True, \n",
    "    influence_weight_entropy=True, \n",
    "    p_value_of_addition=True, \n",
    "    p_value_of_removal=True, \n",
    "    similarity_conviction=True\n",
    ")\n",
    "\n",
    "\n",
    "conviction = t.get_cases(\n",
    "    session=t.active_session,\n",
    "    features=df.columns.to_list() + ['distance_contribution', 'similarity_conviction']\n",
    ")\n",
    "\n",
    "# Threshold to determine which cases will be deemed anomalous\n",
    "conviction_threshold = 1.0\n",
    "\n",
    "# Extract the anomalous cases\n",
    "low_conviction = conviction[\n",
    "    conviction['similarity_conviction'] <= conviction_threshold\n",
    "].sort_values('similarity_conviction', ascending=True)\n",
    "\n",
    "# Average distance contribution will be used to determine if a case is an outlier or inlier\n",
    "average_dist_contribution = low_conviction['distance_contribution'].mean()\n",
    "\n",
    "# A case with distance contribution greater than average will be tagged as outlier, and vice versa for inliers\n",
    "category = [\n",
    "    'outlier' if d > average_dist_contribution else\n",
    "    np.nan for d in low_conviction['distance_contribution']\n",
    "]\n",
    "low_conviction['category'] = category"
   ]
  },
  {
   "cell_type": "markdown",
   "id": "2a4bd9e8",
   "metadata": {},
   "source": [
    "The anomalous cases, in order of lowest to highest conviction"
   ]
  },
  {
   "cell_type": "code",
   "execution_count": null,
   "id": "1597da66",
   "metadata": {
    "execution": {
     "iopub.execute_input": "2024-05-30T18:24:19.854724Z",
     "iopub.status.busy": "2024-05-30T18:24:19.854354Z",
     "iopub.status.idle": "2024-05-30T18:24:19.864396Z",
     "shell.execute_reply": "2024-05-30T18:24:19.863896Z"
    }
   },
   "outputs": [],
   "source": [
    "low_conviction[low_conviction['category']=='outlier']"
   ]
  },
  {
   "cell_type": "code",
   "execution_count": null,
   "id": "7b4f7eb8",
   "metadata": {
    "execution": {
     "iopub.execute_input": "2024-05-30T18:24:19.866625Z",
     "iopub.status.busy": "2024-05-30T18:24:19.866288Z",
     "iopub.status.idle": "2024-05-30T18:24:19.870148Z",
     "shell.execute_reply": "2024-05-30T18:24:19.869658Z"
    }
   },
   "outputs": [],
   "source": [
    "display(f\"There are {len(low_conviction[low_conviction['category']=='outlier'])} potential outliers in the dataset.\")"
   ]
  }
 ],
 "metadata": {
  "kernelspec": {
   "display_name": "Python 3 (ipykernel)",
   "language": "python",
   "name": "python3"
  },
  "language_info": {
   "codemirror_mode": {
    "name": "ipython",
    "version": 3
   },
   "file_extension": ".py",
   "mimetype": "text/x-python",
   "name": "python",
   "nbconvert_exporter": "python",
   "pygments_lexer": "ipython3",
   "version": "3.11.6"
  },
  "vscode": {
   "interpreter": {
    "hash": "a7b40af3b3dcf6c5b8a920c6917b3b1352b9482e2d98da38730ccde8fc2e79a6"
   }
  }
 },
 "nbformat": 4,
 "nbformat_minor": 5
}
