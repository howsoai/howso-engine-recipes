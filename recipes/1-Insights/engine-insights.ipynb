{
 "cells": [
  {
   "attachments": {},
   "cell_type": "markdown",
   "id": "69d7ac54-9a3b-4327-93a5-eb6fbf314530",
   "metadata": {
    "tags": []
   },
   "source": [
    "# Engine Insights\n",
    "\n",
    "## Overview \n",
    " \n",
    "Howso Engine is a generalized Machine Learning (ML) and Artificial Intelligence platform that creates powerful decision-making models that are fully explainable, auditable, and editable. Howso Engine uses Instance-Based Machine Learning which stores instances, i.e., data points, in memory and makes predictions about new instances given their relationship to existing instances. This technology harnesses a fast spatial query system and techniques from information theory to enhance both performance and accuracy. \n",
    "\n",
    "In this notebook we will explore the most basic workflow using Howso Engine to gain insights in your data. This workflow is a form of exploratory data analysis and can help the user develop a deeper understanding of the data."
   ]
  },
  {
   "cell_type": "code",
   "execution_count": 1,
   "id": "f6cbaf0d-4f1f-410d-9cfd-1114f34c8c00",
   "metadata": {
    "execution": {
     "iopub.execute_input": "2025-01-23T18:33:45.181115Z",
     "iopub.status.busy": "2025-01-23T18:33:45.180668Z",
     "iopub.status.idle": "2025-01-23T18:33:45.783933Z",
     "shell.execute_reply": "2025-01-23T18:33:45.783276Z"
    }
   },
   "outputs": [],
   "source": [
    "import os\n",
    "\n",
    "import numpy as np\n",
    "import pandas as pd\n",
    "import plotly.io as pio\n",
    "import plotly.express as px\n",
    "from pmlb import fetch_data\n",
    "\n",
    "from howso.engine import Trainee\n",
    "from howso.utilities import infer_feature_attributes\n",
    "\n",
    "pio.renderers.default = os.getenv(\"HOWSO_RECIPE_RENDERER\", \"notebook\")"
   ]
  },
  {
   "attachments": {},
   "cell_type": "markdown",
   "id": "050d7e2d",
   "metadata": {},
   "source": [
    "# Section 1: Load, Train, Analyze\n",
    "\n",
    "The [basic workflow guide](https://docs.howso.com/user_guide/basics/basic_workflow.html) goes into more specifics about the individual details of this section. This recipe will focus more on the insights."
   ]
  },
  {
   "attachments": {},
   "cell_type": "markdown",
   "id": "8a1f5ffa-d96e-44b8-9152-9e7811b6f9b4",
   "metadata": {},
   "source": [
    "### Step 1: Load Data and Create Trainee"
   ]
  },
  {
   "cell_type": "code",
   "execution_count": 2,
   "id": "e5a7a925-5a9d-47fb-b4a3-3272203d4772",
   "metadata": {
    "execution": {
     "iopub.execute_input": "2025-01-23T18:33:45.786716Z",
     "iopub.status.busy": "2025-01-23T18:33:45.786476Z",
     "iopub.status.idle": "2025-01-23T18:33:46.197816Z",
     "shell.execute_reply": "2025-01-23T18:33:46.197143Z"
    }
   },
   "outputs": [],
   "source": [
    "df = fetch_data('iris', local_cache_dir=\"../../data/iris\")\n",
    "\n",
    "# Randomly insert nulls for insights later in recipe\n",
    "num_nans = int(0.05 * len(df))\n",
    "nan_indices = np.random.choice(df.index, num_nans, replace=False)\n",
    "df.loc[nan_indices, 'sepal-width'] = np.nan\n",
    "\n",
    "# Infer feature attributes\n",
    "features = infer_feature_attributes(df)\n",
    "\n",
    "# Create the Trainee\n",
    "t = Trainee(features=features)"
   ]
  },
  {
   "attachments": {},
   "cell_type": "markdown",
   "id": "35ec53b0-b623-427a-b2a6-8e55ebfef1bc",
   "metadata": {},
   "source": [
    "### Step 2: Train, Analyze, and React"
   ]
  },
  {
   "cell_type": "code",
   "execution_count": 3,
   "id": "4c097568",
   "metadata": {
    "execution": {
     "iopub.execute_input": "2025-01-23T18:33:46.200263Z",
     "iopub.status.busy": "2025-01-23T18:33:46.200057Z",
     "iopub.status.idle": "2025-01-23T18:33:46.876889Z",
     "shell.execute_reply": "2025-01-23T18:33:46.876258Z"
    }
   },
   "outputs": [],
   "source": [
    "# Train\n",
    "t.train(df)\n",
    "\n",
    "# Targetless Analysis\n",
    "t.analyze()"
   ]
  },
  {
   "cell_type": "markdown",
   "id": "e6f1e4cf",
   "metadata": {},
   "source": [
    "# Section 2: Insights\n",
    "\n",
    "By calling `get_prediction_stats`, Howso Engine calculates a variety of metrics that are easily accessible and doesn't require further recalculations."
   ]
  },
  {
   "cell_type": "markdown",
   "id": "a7ae8bd7",
   "metadata": {},
   "source": [
    "### Insight 1: Marginal Stats\n",
    "\n",
    "Howso provides easily accessible feature-level descriptive statistics of your dataset. The type of descriptive statistics that are available is dependent on whether the data is continuous or nominal."
   ]
  },
  {
   "cell_type": "code",
   "execution_count": 4,
   "id": "60e8d88d",
   "metadata": {
    "execution": {
     "iopub.execute_input": "2025-01-23T18:33:46.879580Z",
     "iopub.status.busy": "2025-01-23T18:33:46.879173Z",
     "iopub.status.idle": "2025-01-23T18:33:46.892194Z",
     "shell.execute_reply": "2025-01-23T18:33:46.891667Z"
    }
   },
   "outputs": [
    {
     "data": {
      "text/html": [
       "<div>\n",
       "<style scoped>\n",
       "    .dataframe tbody tr th:only-of-type {\n",
       "        vertical-align: middle;\n",
       "    }\n",
       "\n",
       "    .dataframe tbody tr th {\n",
       "        vertical-align: top;\n",
       "    }\n",
       "\n",
       "    .dataframe thead th {\n",
       "        text-align: right;\n",
       "    }\n",
       "</style>\n",
       "<table border=\"1\" class=\"dataframe\">\n",
       "  <thead>\n",
       "    <tr style=\"text-align: right;\">\n",
       "      <th></th>\n",
       "      <th>sepal-width</th>\n",
       "      <th>petal-length</th>\n",
       "      <th>sepal-length</th>\n",
       "      <th>target</th>\n",
       "      <th>petal-width</th>\n",
       "    </tr>\n",
       "  </thead>\n",
       "  <tbody>\n",
       "    <tr>\n",
       "      <th>variance</th>\n",
       "      <td>0.182919</td>\n",
       "      <td>3.092425</td>\n",
       "      <td>0.681122</td>\n",
       "      <td>NaN</td>\n",
       "      <td>0.578532</td>\n",
       "    </tr>\n",
       "    <tr>\n",
       "      <th>mean_absdev</th>\n",
       "      <td>0.331156</td>\n",
       "      <td>1.561920</td>\n",
       "      <td>0.687556</td>\n",
       "      <td>NaN</td>\n",
       "      <td>0.658933</td>\n",
       "    </tr>\n",
       "    <tr>\n",
       "      <th>count</th>\n",
       "      <td>143.000000</td>\n",
       "      <td>150.000000</td>\n",
       "      <td>150.000000</td>\n",
       "      <td>150.000000</td>\n",
       "      <td>150.000000</td>\n",
       "    </tr>\n",
       "    <tr>\n",
       "      <th>stddev</th>\n",
       "      <td>0.427691</td>\n",
       "      <td>1.758529</td>\n",
       "      <td>0.825301</td>\n",
       "      <td>NaN</td>\n",
       "      <td>0.760613</td>\n",
       "    </tr>\n",
       "    <tr>\n",
       "      <th>kurtosis</th>\n",
       "      <td>0.268810</td>\n",
       "      <td>-1.395359</td>\n",
       "      <td>-0.573568</td>\n",
       "      <td>NaN</td>\n",
       "      <td>-1.335246</td>\n",
       "    </tr>\n",
       "    <tr>\n",
       "      <th>max</th>\n",
       "      <td>4.400000</td>\n",
       "      <td>6.900000</td>\n",
       "      <td>7.900000</td>\n",
       "      <td>NaN</td>\n",
       "      <td>2.500000</td>\n",
       "    </tr>\n",
       "    <tr>\n",
       "      <th>uniques</th>\n",
       "      <td>22.000000</td>\n",
       "      <td>43.000000</td>\n",
       "      <td>35.000000</td>\n",
       "      <td>3.000000</td>\n",
       "      <td>22.000000</td>\n",
       "    </tr>\n",
       "    <tr>\n",
       "      <th>entropy</th>\n",
       "      <td>NaN</td>\n",
       "      <td>NaN</td>\n",
       "      <td>NaN</td>\n",
       "      <td>1.098612</td>\n",
       "      <td>NaN</td>\n",
       "    </tr>\n",
       "    <tr>\n",
       "      <th>min</th>\n",
       "      <td>2.000000</td>\n",
       "      <td>1.000000</td>\n",
       "      <td>4.300000</td>\n",
       "      <td>NaN</td>\n",
       "      <td>0.100000</td>\n",
       "    </tr>\n",
       "    <tr>\n",
       "      <th>median</th>\n",
       "      <td>3.000000</td>\n",
       "      <td>4.350000</td>\n",
       "      <td>5.800000</td>\n",
       "      <td>NaN</td>\n",
       "      <td>1.300000</td>\n",
       "    </tr>\n",
       "    <tr>\n",
       "      <th>mean</th>\n",
       "      <td>3.050350</td>\n",
       "      <td>3.758667</td>\n",
       "      <td>5.843333</td>\n",
       "      <td>NaN</td>\n",
       "      <td>1.198667</td>\n",
       "    </tr>\n",
       "    <tr>\n",
       "      <th>percentile_25</th>\n",
       "      <td>2.800000</td>\n",
       "      <td>1.600000</td>\n",
       "      <td>5.100000</td>\n",
       "      <td>NaN</td>\n",
       "      <td>0.300000</td>\n",
       "    </tr>\n",
       "    <tr>\n",
       "      <th>skew</th>\n",
       "      <td>0.355285</td>\n",
       "      <td>-0.271712</td>\n",
       "      <td>0.311753</td>\n",
       "      <td>NaN</td>\n",
       "      <td>-0.103944</td>\n",
       "    </tr>\n",
       "    <tr>\n",
       "      <th>mode</th>\n",
       "      <td>3.000000</td>\n",
       "      <td>1.500000</td>\n",
       "      <td>5.000000</td>\n",
       "      <td>2.000000</td>\n",
       "      <td>0.200000</td>\n",
       "    </tr>\n",
       "    <tr>\n",
       "      <th>percentile_75</th>\n",
       "      <td>3.300000</td>\n",
       "      <td>5.100000</td>\n",
       "      <td>6.400000</td>\n",
       "      <td>NaN</td>\n",
       "      <td>1.800000</td>\n",
       "    </tr>\n",
       "  </tbody>\n",
       "</table>\n",
       "</div>"
      ],
      "text/plain": [
       "               sepal-width  petal-length  sepal-length      target  \\\n",
       "variance          0.182919      3.092425      0.681122         NaN   \n",
       "mean_absdev       0.331156      1.561920      0.687556         NaN   \n",
       "count           143.000000    150.000000    150.000000  150.000000   \n",
       "stddev            0.427691      1.758529      0.825301         NaN   \n",
       "kurtosis          0.268810     -1.395359     -0.573568         NaN   \n",
       "max               4.400000      6.900000      7.900000         NaN   \n",
       "uniques          22.000000     43.000000     35.000000    3.000000   \n",
       "entropy                NaN           NaN           NaN    1.098612   \n",
       "min               2.000000      1.000000      4.300000         NaN   \n",
       "median            3.000000      4.350000      5.800000         NaN   \n",
       "mean              3.050350      3.758667      5.843333         NaN   \n",
       "percentile_25     2.800000      1.600000      5.100000         NaN   \n",
       "skew              0.355285     -0.271712      0.311753         NaN   \n",
       "mode              3.000000      1.500000      5.000000    2.000000   \n",
       "percentile_75     3.300000      5.100000      6.400000         NaN   \n",
       "\n",
       "               petal-width  \n",
       "variance          0.578532  \n",
       "mean_absdev       0.658933  \n",
       "count           150.000000  \n",
       "stddev            0.760613  \n",
       "kurtosis         -1.335246  \n",
       "max               2.500000  \n",
       "uniques          22.000000  \n",
       "entropy                NaN  \n",
       "min               0.100000  \n",
       "median            1.300000  \n",
       "mean              1.198667  \n",
       "percentile_25     0.300000  \n",
       "skew             -0.103944  \n",
       "mode              0.200000  \n",
       "percentile_75     1.800000  "
      ]
     },
     "execution_count": 4,
     "metadata": {},
     "output_type": "execute_result"
    }
   ],
   "source": [
    "marginal_stats = t.get_marginal_stats()\n",
    "marginal_stats"
   ]
  },
  {
   "cell_type": "markdown",
   "id": "073f9dbc",
   "metadata": {},
   "source": [
    "### Insight 2 : Which features are my data good at predicting?\n",
    "\n",
    "Howso provides insights into whether a feature is predictable within a data analysis workflow. This can be analyzed depending on a feature's type, e.g., continuous vs. nomimal. \n",
    "\n",
    "For continuous features, Howso provides the feature's mean value and units and calculates its residual. The residuals are quantified by the `mean absolute error (MAE)` between a predicted value and actual value for a prediction and they describe the average amount a feature's predicted value varies from its real value. A feature with a small `MAE` is generally easier to predict than a feature with a large `MAE`. With this information, an subject matter expert will be able to determine the predictability of a feature, given the information contained in the remaining data. For additional context, Howso provides the `R^2`, `RMSE`, and `Spearman coefficient` for each feature. To compare between the continuous features, Howso orders the resulting features by highest `R^2` and `Spearman coefficient` values which are unitless and thus comparable between continuous features. This order represents a probable rank order of feature predictability. However, it is important that further analysis is performed to better understand these results, as they are dataset dependent.\n",
    "\n",
    "For nominal features, Howso provides information on the feature's accuracy, precision, and recall as well as the Matthews Correlation Coefficient. This provides a holistic view as to whether the feature can be predicted given the remaining information. \n",
    "\n",
    "**Note**: Engine insights provide a baseline set of information based on an analysis across all features that points users in the correct direction of feature predictability. If an analysis is performed with a specified target feature, this analysis will become more precise, but the directionality will generally not change."
   ]
  },
  {
   "cell_type": "code",
   "execution_count": 5,
   "id": "04731f4b",
   "metadata": {
    "execution": {
     "iopub.execute_input": "2025-01-23T18:33:46.894112Z",
     "iopub.status.busy": "2025-01-23T18:33:46.893743Z",
     "iopub.status.idle": "2025-01-23T18:33:46.913491Z",
     "shell.execute_reply": "2025-01-23T18:33:46.912976Z"
    }
   },
   "outputs": [
    {
     "data": {
      "text/html": [
       "<div>\n",
       "<style scoped>\n",
       "    .dataframe tbody tr th:only-of-type {\n",
       "        vertical-align: middle;\n",
       "    }\n",
       "\n",
       "    .dataframe tbody tr th {\n",
       "        vertical-align: top;\n",
       "    }\n",
       "\n",
       "    .dataframe thead th {\n",
       "        text-align: right;\n",
       "    }\n",
       "</style>\n",
       "<table border=\"1\" class=\"dataframe\">\n",
       "  <thead>\n",
       "    <tr style=\"text-align: right;\">\n",
       "      <th></th>\n",
       "      <th>sepal-width</th>\n",
       "      <th>petal-length</th>\n",
       "      <th>sepal-length</th>\n",
       "      <th>petal-width</th>\n",
       "      <th>target</th>\n",
       "    </tr>\n",
       "  </thead>\n",
       "  <tbody>\n",
       "    <tr>\n",
       "      <th>rmse</th>\n",
       "      <td>0.284833</td>\n",
       "      <td>0.268435</td>\n",
       "      <td>0.343923</td>\n",
       "      <td>0.165702</td>\n",
       "      <td>NaN</td>\n",
       "    </tr>\n",
       "    <tr>\n",
       "      <th>accuracy</th>\n",
       "      <td>NaN</td>\n",
       "      <td>NaN</td>\n",
       "      <td>NaN</td>\n",
       "      <td>NaN</td>\n",
       "      <td>0.960000</td>\n",
       "    </tr>\n",
       "    <tr>\n",
       "      <th>mcc</th>\n",
       "      <td>NaN</td>\n",
       "      <td>NaN</td>\n",
       "      <td>NaN</td>\n",
       "      <td>NaN</td>\n",
       "      <td>0.940251</td>\n",
       "    </tr>\n",
       "    <tr>\n",
       "      <th>adjusted_smape</th>\n",
       "      <td>6.864975</td>\n",
       "      <td>6.346969</td>\n",
       "      <td>4.610292</td>\n",
       "      <td>14.814641</td>\n",
       "      <td>NaN</td>\n",
       "    </tr>\n",
       "    <tr>\n",
       "      <th>r2</th>\n",
       "      <td>0.556472</td>\n",
       "      <td>0.976699</td>\n",
       "      <td>0.826341</td>\n",
       "      <td>0.952540</td>\n",
       "      <td>NaN</td>\n",
       "    </tr>\n",
       "    <tr>\n",
       "      <th>precision</th>\n",
       "      <td>NaN</td>\n",
       "      <td>NaN</td>\n",
       "      <td>NaN</td>\n",
       "      <td>NaN</td>\n",
       "      <td>0.960470</td>\n",
       "    </tr>\n",
       "    <tr>\n",
       "      <th>smape</th>\n",
       "      <td>6.979559</td>\n",
       "      <td>6.487255</td>\n",
       "      <td>4.650269</td>\n",
       "      <td>16.900596</td>\n",
       "      <td>NaN</td>\n",
       "    </tr>\n",
       "    <tr>\n",
       "      <th>mae</th>\n",
       "      <td>0.212578</td>\n",
       "      <td>0.206953</td>\n",
       "      <td>0.272900</td>\n",
       "      <td>0.124648</td>\n",
       "      <td>0.050413</td>\n",
       "    </tr>\n",
       "    <tr>\n",
       "      <th>spearman_coeff</th>\n",
       "      <td>0.723315</td>\n",
       "      <td>0.893005</td>\n",
       "      <td>0.876238</td>\n",
       "      <td>0.883657</td>\n",
       "      <td>NaN</td>\n",
       "    </tr>\n",
       "    <tr>\n",
       "      <th>recall</th>\n",
       "      <td>NaN</td>\n",
       "      <td>NaN</td>\n",
       "      <td>NaN</td>\n",
       "      <td>NaN</td>\n",
       "      <td>0.960000</td>\n",
       "    </tr>\n",
       "    <tr>\n",
       "      <th>missing_value_accuracy</th>\n",
       "      <td>0.000000</td>\n",
       "      <td>NaN</td>\n",
       "      <td>NaN</td>\n",
       "      <td>NaN</td>\n",
       "      <td>NaN</td>\n",
       "    </tr>\n",
       "  </tbody>\n",
       "</table>\n",
       "</div>"
      ],
      "text/plain": [
       "                        sepal-width  petal-length  sepal-length  petal-width  \\\n",
       "rmse                       0.284833      0.268435      0.343923     0.165702   \n",
       "accuracy                        NaN           NaN           NaN          NaN   \n",
       "mcc                             NaN           NaN           NaN          NaN   \n",
       "adjusted_smape             6.864975      6.346969      4.610292    14.814641   \n",
       "r2                         0.556472      0.976699      0.826341     0.952540   \n",
       "precision                       NaN           NaN           NaN          NaN   \n",
       "smape                      6.979559      6.487255      4.650269    16.900596   \n",
       "mae                        0.212578      0.206953      0.272900     0.124648   \n",
       "spearman_coeff             0.723315      0.893005      0.876238     0.883657   \n",
       "recall                          NaN           NaN           NaN          NaN   \n",
       "missing_value_accuracy     0.000000           NaN           NaN          NaN   \n",
       "\n",
       "                          target  \n",
       "rmse                         NaN  \n",
       "accuracy                0.960000  \n",
       "mcc                     0.940251  \n",
       "adjusted_smape               NaN  \n",
       "r2                           NaN  \n",
       "precision               0.960470  \n",
       "smape                        NaN  \n",
       "mae                     0.050413  \n",
       "spearman_coeff               NaN  \n",
       "recall                  0.960000  \n",
       "missing_value_accuracy       NaN  "
      ]
     },
     "execution_count": 5,
     "metadata": {},
     "output_type": "execute_result"
    }
   ],
   "source": [
    "pred_stats = t.get_prediction_stats(details = {'prediction_stats': True})\n",
    "\n",
    "pred_stats"
   ]
  },
  {
   "cell_type": "markdown",
   "id": "a771e834",
   "metadata": {},
   "source": [
    "#### Metrics for continuous features"
   ]
  },
  {
   "cell_type": "code",
   "execution_count": 6,
   "id": "8e3a5038",
   "metadata": {
    "execution": {
     "iopub.execute_input": "2025-01-23T18:33:46.915352Z",
     "iopub.status.busy": "2025-01-23T18:33:46.915002Z",
     "iopub.status.idle": "2025-01-23T18:33:46.925626Z",
     "shell.execute_reply": "2025-01-23T18:33:46.925140Z"
    }
   },
   "outputs": [
    {
     "data": {
      "text/html": [
       "<div>\n",
       "<style scoped>\n",
       "    .dataframe tbody tr th:only-of-type {\n",
       "        vertical-align: middle;\n",
       "    }\n",
       "\n",
       "    .dataframe tbody tr th {\n",
       "        vertical-align: top;\n",
       "    }\n",
       "\n",
       "    .dataframe thead th {\n",
       "        text-align: right;\n",
       "    }\n",
       "</style>\n",
       "<table border=\"1\" class=\"dataframe\">\n",
       "  <thead>\n",
       "    <tr style=\"text-align: right;\">\n",
       "      <th></th>\n",
       "      <th>mean</th>\n",
       "      <th>stddev</th>\n",
       "      <th>r2</th>\n",
       "      <th>spearman_coeff</th>\n",
       "      <th>mae</th>\n",
       "      <th>rmse</th>\n",
       "    </tr>\n",
       "  </thead>\n",
       "  <tbody>\n",
       "    <tr>\n",
       "      <th>petal-length</th>\n",
       "      <td>3.758667</td>\n",
       "      <td>1.758529</td>\n",
       "      <td>0.976699</td>\n",
       "      <td>0.893005</td>\n",
       "      <td>0.206953</td>\n",
       "      <td>0.268435</td>\n",
       "    </tr>\n",
       "    <tr>\n",
       "      <th>sepal-length</th>\n",
       "      <td>5.843333</td>\n",
       "      <td>0.825301</td>\n",
       "      <td>0.826341</td>\n",
       "      <td>0.876238</td>\n",
       "      <td>0.272900</td>\n",
       "      <td>0.343923</td>\n",
       "    </tr>\n",
       "    <tr>\n",
       "      <th>sepal-width</th>\n",
       "      <td>3.050350</td>\n",
       "      <td>0.427691</td>\n",
       "      <td>0.556472</td>\n",
       "      <td>0.723315</td>\n",
       "      <td>0.212578</td>\n",
       "      <td>0.284833</td>\n",
       "    </tr>\n",
       "    <tr>\n",
       "      <th>petal-width</th>\n",
       "      <td>1.198667</td>\n",
       "      <td>0.760613</td>\n",
       "      <td>NaN</td>\n",
       "      <td>NaN</td>\n",
       "      <td>NaN</td>\n",
       "      <td>NaN</td>\n",
       "    </tr>\n",
       "    <tr>\n",
       "      <th>target</th>\n",
       "      <td>NaN</td>\n",
       "      <td>NaN</td>\n",
       "      <td>NaN</td>\n",
       "      <td>NaN</td>\n",
       "      <td>0.050413</td>\n",
       "      <td>NaN</td>\n",
       "    </tr>\n",
       "  </tbody>\n",
       "</table>\n",
       "</div>"
      ],
      "text/plain": [
       "                  mean    stddev        r2  spearman_coeff       mae      rmse\n",
       "petal-length  3.758667  1.758529  0.976699        0.893005  0.206953  0.268435\n",
       "sepal-length  5.843333  0.825301  0.826341        0.876238  0.272900  0.343923\n",
       "sepal-width   3.050350  0.427691  0.556472        0.723315  0.212578  0.284833\n",
       "petal-width   1.198667  0.760613       NaN             NaN       NaN       NaN\n",
       "target             NaN       NaN       NaN             NaN  0.050413       NaN"
      ]
     },
     "execution_count": 6,
     "metadata": {},
     "output_type": "execute_result"
    }
   ],
   "source": [
    "u_eps = marginal_stats.loc[['mean','stddev'], marginal_stats.columns != 'target']\n",
    "cts_stats = pred_stats.loc[['r2','spearman_coeff','mae','rmse'], marginal_stats.columns != 'target']\n",
    "cts_results = pd.concat([u_eps,cts_stats]).transpose().sort_values(by='r2',ascending=False)\n",
    "cts_results"
   ]
  },
  {
   "cell_type": "markdown",
   "id": "0a0a41f9",
   "metadata": {},
   "source": [
    "#### Metrics for nominal features"
   ]
  },
  {
   "cell_type": "code",
   "execution_count": 7,
   "id": "e43dbdc9",
   "metadata": {
    "execution": {
     "iopub.execute_input": "2025-01-23T18:33:46.927432Z",
     "iopub.status.busy": "2025-01-23T18:33:46.927092Z",
     "iopub.status.idle": "2025-01-23T18:33:46.933116Z",
     "shell.execute_reply": "2025-01-23T18:33:46.932604Z"
    }
   },
   "outputs": [
    {
     "data": {
      "text/html": [
       "<div>\n",
       "<style scoped>\n",
       "    .dataframe tbody tr th:only-of-type {\n",
       "        vertical-align: middle;\n",
       "    }\n",
       "\n",
       "    .dataframe tbody tr th {\n",
       "        vertical-align: top;\n",
       "    }\n",
       "\n",
       "    .dataframe thead th {\n",
       "        text-align: right;\n",
       "    }\n",
       "</style>\n",
       "<table border=\"1\" class=\"dataframe\">\n",
       "  <thead>\n",
       "    <tr style=\"text-align: right;\">\n",
       "      <th></th>\n",
       "      <th>target</th>\n",
       "    </tr>\n",
       "  </thead>\n",
       "  <tbody>\n",
       "    <tr>\n",
       "      <th>accuracy</th>\n",
       "      <td>0.96000</td>\n",
       "    </tr>\n",
       "    <tr>\n",
       "      <th>precision</th>\n",
       "      <td>0.96047</td>\n",
       "    </tr>\n",
       "    <tr>\n",
       "      <th>recall</th>\n",
       "      <td>0.96000</td>\n",
       "    </tr>\n",
       "  </tbody>\n",
       "</table>\n",
       "</div>"
      ],
      "text/plain": [
       "            target\n",
       "accuracy   0.96000\n",
       "precision  0.96047\n",
       "recall     0.96000"
      ]
     },
     "execution_count": 7,
     "metadata": {},
     "output_type": "execute_result"
    }
   ],
   "source": [
    "target_stats = pred_stats[['target']]\n",
    "target_stats.loc[['accuracy','precision','recall']]"
   ]
  },
  {
   "cell_type": "markdown",
   "id": "a7857b7a",
   "metadata": {},
   "source": [
    "### Insight 3: Which features are important?\n",
    "\n",
    "Feature importance is quantified by a combined analysis of how much each feature contributes to the prediction of another feature and whether that contribution improves or harms the accuracy of the prediction. For a given target (i.e., action, predicted) feature, Howso can calculate the [Feature Contribution](https://docs.howso.com/getting_started/terminology.html#contribution), which \n",
    "is the difference between a prediction of a target feature when each context feature is considered versus not considered during the prediction.\n",
    "\n",
    "Howso can also calculate the [Mean Decrease in Accuracy](https://docs.howso.com/getting_started/terminology.html#mda) (MDA). Please see the [feature importance user guide](https://docs.howso.com/user_guide/advanced_capabilities/feature_importance.html) page for more details.\n",
    "\n",
    "Howso summarizes the feature contribution results for each feature within matrices. To read a matrix, the label of each row (listed on the y-axis) indicates the target feature. Moving from left to right across each row of a matrix, the feature contribution of each context feature for the target feature prediction can be identified. \n",
    "\n",
    "Note, the matrices also provide some insight into directional causality between features. This insight is useful for data scientists performing an exploratory data analysis (EDA)."
   ]
  },
  {
   "cell_type": "code",
   "execution_count": 8,
   "id": "23698699",
   "metadata": {
    "execution": {
     "iopub.execute_input": "2025-01-23T18:33:46.934965Z",
     "iopub.status.busy": "2025-01-23T18:33:46.934619Z",
     "iopub.status.idle": "2025-01-23T18:33:53.813561Z",
     "shell.execute_reply": "2025-01-23T18:33:53.812949Z"
    }
   },
   "outputs": [
    {
     "name": "stdout",
     "output_type": "stream",
     "text": [
      "   petal-length    target  sepal-length  petal-width\n",
      "0      0.103027  0.054575      0.121532     0.118116\n"
     ]
    },
    {
     "name": "stdout",
     "output_type": "stream",
     "text": [
      "   sepal-width    target  sepal-length  petal-width\n",
      "0     0.172586  0.439321      0.358703     0.423101\n"
     ]
    },
    {
     "name": "stdout",
     "output_type": "stream",
     "text": [
      "   sepal-width  petal-length    target  petal-width\n",
      "0     0.159233      0.234964  0.156022      0.18961\n"
     ]
    },
    {
     "name": "stdout",
     "output_type": "stream",
     "text": [
      "   sepal-width  petal-length  sepal-length  petal-width\n",
      "0     0.070062      0.219919      0.097667     0.237466\n"
     ]
    },
    {
     "name": "stdout",
     "output_type": "stream",
     "text": [
      "   sepal-width  petal-length  sepal-length    target\n",
      "0     0.090166       0.21168      0.160219  0.223792\n"
     ]
    }
   ],
   "source": [
    "contrib_matrix = t.get_contribution_matrix()"
   ]
  },
  {
   "cell_type": "code",
   "execution_count": 9,
   "id": "afc380b6",
   "metadata": {
    "execution": {
     "iopub.execute_input": "2025-01-23T18:33:53.815736Z",
     "iopub.status.busy": "2025-01-23T18:33:53.815283Z",
     "iopub.status.idle": "2025-01-23T18:33:54.568627Z",
     "shell.execute_reply": "2025-01-23T18:33:54.567909Z"
    }
   },
   "outputs": [
    {
     "data": {
      "image/png": "[encoded data removed]"
     },
     "metadata": {},
     "output_type": "display_data"
    }
   ],
   "source": [
    "# Plot the heatmap\n",
    "fig = px.imshow(round(contrib_matrix, 2), color_continuous_scale='RdBu', text_auto=True)\n",
    "fig.show()"
   ]
  },
  {
   "cell_type": "markdown",
   "id": "17307162",
   "metadata": {},
   "source": [
    "### Insight 4: Which cases are anomalous?\n",
    "\n",
    "Howso provides insights into the anomalies within your dataset, utilizing the concept of [Conviction](https://docs.howso.com/getting_started/terminology.html#conviction) or how surprising a single data point is relative to the remaining data. The higher the surprisal (lower the conviction), the more likely the data point is anomalous. An outlier is classified as an anomalous point that is very far away from any other data.\n",
    "\n",
    "Howso also has the ability to classify inliers, which are anomalous points that are very near (e.g., essentially overlapping) with another data point. More information is provided in the `Anomaly_detection.ipynb` recipe.\n",
    "\n",
    "As assessment of anomalous data points are an important tool for data preparation and results explanation within a data analytics workflow."
   ]
  },
  {
   "cell_type": "code",
   "execution_count": 10,
   "id": "09308754",
   "metadata": {
    "execution": {
     "iopub.execute_input": "2025-01-23T18:33:54.571062Z",
     "iopub.status.busy": "2025-01-23T18:33:54.570643Z",
     "iopub.status.idle": "2025-01-23T18:33:54.611512Z",
     "shell.execute_reply": "2025-01-23T18:33:54.610939Z"
    }
   },
   "outputs": [],
   "source": [
    "t.react_into_features(\n",
    "    distance_contribution=True,\n",
    "    familiarity_conviction_addition=True,\n",
    "    familiarity_conviction_removal=True,\n",
    "    influence_weight_entropy=True,\n",
    "    p_value_of_addition=True,\n",
    "    p_value_of_removal=True,\n",
    "    similarity_conviction=True\n",
    ")\n",
    "\n",
    "\n",
    "conviction = t.get_cases(\n",
    "    session=t.active_session,\n",
    "    features=df.columns.to_list() + ['distance_contribution', 'similarity_conviction']\n",
    ")\n",
    "\n",
    "# Threshold to determine which cases will be deemed anomalous\n",
    "conviction_threshold = 1.0\n",
    "\n",
    "# Extract the anomalous cases\n",
    "low_conviction = conviction[\n",
    "    conviction['similarity_conviction'] <= conviction_threshold\n",
    "].sort_values('similarity_conviction', ascending=True)\n",
    "\n",
    "# Average distance contribution will be used to determine if a case is an outlier or inlier\n",
    "average_dist_contribution = low_conviction['distance_contribution'].mean()\n",
    "\n",
    "# A case with distance contribution greater than average will be tagged as outlier, and vice versa for inliers\n",
    "category = [\n",
    "    'outlier' if d > average_dist_contribution else\n",
    "    np.nan for d in low_conviction['distance_contribution']\n",
    "]\n",
    "low_conviction['category'] = category"
   ]
  },
  {
   "cell_type": "markdown",
   "id": "2a4bd9e8",
   "metadata": {},
   "source": [
    "The anomalous cases, in order of lowest to highest conviction"
   ]
  },
  {
   "cell_type": "code",
   "execution_count": 11,
   "id": "1597da66",
   "metadata": {
    "execution": {
     "iopub.execute_input": "2025-01-23T18:33:54.614066Z",
     "iopub.status.busy": "2025-01-23T18:33:54.613672Z",
     "iopub.status.idle": "2025-01-23T18:33:54.623892Z",
     "shell.execute_reply": "2025-01-23T18:33:54.623385Z"
    }
   },
   "outputs": [
    {
     "data": {
      "text/html": [
       "<div>\n",
       "<style scoped>\n",
       "    .dataframe tbody tr th:only-of-type {\n",
       "        vertical-align: middle;\n",
       "    }\n",
       "\n",
       "    .dataframe tbody tr th {\n",
       "        vertical-align: top;\n",
       "    }\n",
       "\n",
       "    .dataframe thead th {\n",
       "        text-align: right;\n",
       "    }\n",
       "</style>\n",
       "<table border=\"1\" class=\"dataframe\">\n",
       "  <thead>\n",
       "    <tr style=\"text-align: right;\">\n",
       "      <th></th>\n",
       "      <th>sepal-length</th>\n",
       "      <th>sepal-width</th>\n",
       "      <th>petal-length</th>\n",
       "      <th>petal-width</th>\n",
       "      <th>target</th>\n",
       "      <th>distance_contribution</th>\n",
       "      <th>similarity_conviction</th>\n",
       "      <th>category</th>\n",
       "    </tr>\n",
       "  </thead>\n",
       "  <tbody>\n",
       "    <tr>\n",
       "      <th>101</th>\n",
       "      <td>5.2</td>\n",
       "      <td>NaN</td>\n",
       "      <td>1.5</td>\n",
       "      <td>0.2</td>\n",
       "      <td>0</td>\n",
       "      <td>24.286566</td>\n",
       "      <td>0.031186</td>\n",
       "      <td>outlier</td>\n",
       "    </tr>\n",
       "    <tr>\n",
       "      <th>73</th>\n",
       "      <td>4.4</td>\n",
       "      <td>NaN</td>\n",
       "      <td>1.3</td>\n",
       "      <td>0.2</td>\n",
       "      <td>0</td>\n",
       "      <td>24.290507</td>\n",
       "      <td>0.032103</td>\n",
       "      <td>outlier</td>\n",
       "    </tr>\n",
       "    <tr>\n",
       "      <th>129</th>\n",
       "      <td>5.7</td>\n",
       "      <td>NaN</td>\n",
       "      <td>4.2</td>\n",
       "      <td>1.2</td>\n",
       "      <td>1</td>\n",
       "      <td>24.291112</td>\n",
       "      <td>0.045962</td>\n",
       "      <td>outlier</td>\n",
       "    </tr>\n",
       "    <tr>\n",
       "      <th>34</th>\n",
       "      <td>6.8</td>\n",
       "      <td>NaN</td>\n",
       "      <td>5.5</td>\n",
       "      <td>2.1</td>\n",
       "      <td>2</td>\n",
       "      <td>24.303114</td>\n",
       "      <td>0.054072</td>\n",
       "      <td>outlier</td>\n",
       "    </tr>\n",
       "    <tr>\n",
       "      <th>116</th>\n",
       "      <td>5.8</td>\n",
       "      <td>NaN</td>\n",
       "      <td>1.2</td>\n",
       "      <td>0.2</td>\n",
       "      <td>0</td>\n",
       "      <td>24.314623</td>\n",
       "      <td>0.066551</td>\n",
       "      <td>outlier</td>\n",
       "    </tr>\n",
       "    <tr>\n",
       "      <th>78</th>\n",
       "      <td>5.9</td>\n",
       "      <td>NaN</td>\n",
       "      <td>5.1</td>\n",
       "      <td>1.8</td>\n",
       "      <td>2</td>\n",
       "      <td>24.299605</td>\n",
       "      <td>0.118080</td>\n",
       "      <td>outlier</td>\n",
       "    </tr>\n",
       "    <tr>\n",
       "      <th>1</th>\n",
       "      <td>6.0</td>\n",
       "      <td>NaN</td>\n",
       "      <td>5.0</td>\n",
       "      <td>1.5</td>\n",
       "      <td>2</td>\n",
       "      <td>24.323556</td>\n",
       "      <td>0.118824</td>\n",
       "      <td>outlier</td>\n",
       "    </tr>\n",
       "  </tbody>\n",
       "</table>\n",
       "</div>"
      ],
      "text/plain": [
       "     sepal-length  sepal-width  petal-length  petal-width  target  \\\n",
       "101           5.2          NaN           1.5          0.2       0   \n",
       "73            4.4          NaN           1.3          0.2       0   \n",
       "129           5.7          NaN           4.2          1.2       1   \n",
       "34            6.8          NaN           5.5          2.1       2   \n",
       "116           5.8          NaN           1.2          0.2       0   \n",
       "78            5.9          NaN           5.1          1.8       2   \n",
       "1             6.0          NaN           5.0          1.5       2   \n",
       "\n",
       "     distance_contribution  similarity_conviction category  \n",
       "101              24.286566               0.031186  outlier  \n",
       "73               24.290507               0.032103  outlier  \n",
       "129              24.291112               0.045962  outlier  \n",
       "34               24.303114               0.054072  outlier  \n",
       "116              24.314623               0.066551  outlier  \n",
       "78               24.299605               0.118080  outlier  \n",
       "1                24.323556               0.118824  outlier  "
      ]
     },
     "execution_count": 11,
     "metadata": {},
     "output_type": "execute_result"
    }
   ],
   "source": [
    "low_conviction[low_conviction['category']=='outlier']"
   ]
  },
  {
   "cell_type": "code",
   "execution_count": 12,
   "id": "7b4f7eb8",
   "metadata": {
    "execution": {
     "iopub.execute_input": "2025-01-23T18:33:54.625914Z",
     "iopub.status.busy": "2025-01-23T18:33:54.625553Z",
     "iopub.status.idle": "2025-01-23T18:33:54.629434Z",
     "shell.execute_reply": "2025-01-23T18:33:54.628967Z"
    }
   },
   "outputs": [
    {
     "data": {
      "text/plain": [
       "'There are 7 potential outliers in the dataset.'"
      ]
     },
     "metadata": {},
     "output_type": "display_data"
    }
   ],
   "source": [
    "display(f\"There are {len(low_conviction[low_conviction['category']=='outlier'])} potential outliers in the dataset.\")"
   ]
  }
 ],
 "metadata": {
  "kernelspec": {
   "display_name": "Python 3 (ipykernel)",
   "language": "python",
   "name": "python3"
  },
  "language_info": {
   "codemirror_mode": {
    "name": "ipython",
    "version": 3
   },
   "file_extension": ".py",
   "mimetype": "text/x-python",
   "name": "python",
   "nbconvert_exporter": "python",
   "pygments_lexer": "ipython3",
   "version": "3.9.21"
  },
  "vscode": {
   "interpreter": {
    "hash": "a7b40af3b3dcf6c5b8a920c6917b3b1352b9482e2d98da38730ccde8fc2e79a6"
   }
  }
 },
 "nbformat": 4,
 "nbformat_minor": 5
}
