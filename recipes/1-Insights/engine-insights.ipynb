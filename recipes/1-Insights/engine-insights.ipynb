{
 "cells": [
  {
   "attachments": {},
   "cell_type": "markdown",
   "id": "69d7ac54-9a3b-4327-93a5-eb6fbf314530",
   "metadata": {
    "tags": []
   },
   "source": [
    "# Engine Insights\n",
    "\n",
    "## Overview \n",
    " \n",
    "Howso Engine is a generalized Machine Learning (ML) and Artificial Intelligence platform that creates powerful decision-making models that are fully explainable, auditable, and editable. Howso Engine uses Instance-Based Machine Learning which stores instances, i.e., data points, in memory and makes predictions about new instances given their relationship to existing instances. This technology harnesses a fast spatial query system and techniques from information theory to enhance both performance and accuracy. \n",
    "\n",
    "In this notebook we will explore the most basic workflow using Howso Engine to gain insights in your data. This workflow is a form of exploratory data analysis and can help the user develop a deeper understanding of the data."
   ]
  },
  {
   "cell_type": "code",
   "execution_count": 1,
   "id": "f6cbaf0d-4f1f-410d-9cfd-1114f34c8c00",
   "metadata": {
    "execution": {
     "iopub.execute_input": "2024-09-24T18:25:20.269106Z",
     "iopub.status.busy": "2024-09-24T18:25:20.268883Z",
     "iopub.status.idle": "2024-09-24T18:25:20.916925Z",
     "shell.execute_reply": "2024-09-24T18:25:20.916282Z"
    }
   },
   "outputs": [],
   "source": [
    "import os\n",
    "\n",
    "import numpy as np\n",
    "import pandas as pd\n",
    "import plotly.io as pio\n",
    "import plotly.express as px\n",
    "from pmlb import fetch_data\n",
    "\n",
    "from howso.engine import Trainee\n",
    "from howso.utilities import infer_feature_attributes\n",
    "\n",
    "pio.renderers.default = os.getenv(\"HOWSO_RECIPE_RENDERER\", \"notebook\")"
   ]
  },
  {
   "attachments": {},
   "cell_type": "markdown",
   "id": "050d7e2d",
   "metadata": {},
   "source": [
    "# Section 1: Load, Train, Analyze\n",
    "\n",
    "The [basic workflow guide](https://docs.howso.com/user_guide/basics/basic_workflow.html) goes into more specifics about the individual details of this section. This recipe will focus more on the insights."
   ]
  },
  {
   "attachments": {},
   "cell_type": "markdown",
   "id": "8a1f5ffa-d96e-44b8-9152-9e7811b6f9b4",
   "metadata": {},
   "source": [
    "### Step 1: Load Data and Create Trainee"
   ]
  },
  {
   "cell_type": "code",
   "execution_count": 2,
   "id": "e5a7a925-5a9d-47fb-b4a3-3272203d4772",
   "metadata": {
    "execution": {
     "iopub.execute_input": "2024-09-24T18:25:20.919700Z",
     "iopub.status.busy": "2024-09-24T18:25:20.919289Z",
     "iopub.status.idle": "2024-09-24T18:25:21.778510Z",
     "shell.execute_reply": "2024-09-24T18:25:21.777709Z"
    }
   },
   "outputs": [],
   "source": [
    "df = fetch_data('iris', local_cache_dir=\"../../data/iris\")\n",
    "\n",
    "# Randomly insert nulls for insights later in recipe\n",
    "num_nans = int(0.05 * len(df))\n",
    "nan_indices = np.random.choice(df.index, num_nans, replace=False)\n",
    "df.loc[nan_indices, 'sepal-width'] = np.nan\n",
    "\n",
    "# Infer feature attributes\n",
    "features = infer_feature_attributes(df)\n",
    "\n",
    "# Create the Trainee\n",
    "t = Trainee(features=features)"
   ]
  },
  {
   "attachments": {},
   "cell_type": "markdown",
   "id": "35ec53b0-b623-427a-b2a6-8e55ebfef1bc",
   "metadata": {},
   "source": [
    "### Step 2: Train, Analyze, and React"
   ]
  },
  {
   "cell_type": "code",
   "execution_count": 3,
   "id": "4c097568",
   "metadata": {
    "execution": {
     "iopub.execute_input": "2024-09-24T18:25:21.781064Z",
     "iopub.status.busy": "2024-09-24T18:25:21.780817Z",
     "iopub.status.idle": "2024-09-24T18:25:24.097088Z",
     "shell.execute_reply": "2024-09-24T18:25:24.096435Z"
    }
   },
   "outputs": [],
   "source": [
    "# Train\n",
    "t.train(df)\n",
    "\n",
    "# Targetless Analysis\n",
    "t.analyze()"
   ]
  },
  {
   "cell_type": "markdown",
   "id": "e6f1e4cf",
   "metadata": {},
   "source": [
    "# Section 2: Insights\n",
    "\n",
    "By calling `react_aggregate`, Howso Engine calculates a variety of metrics that are easily accessible and doesn't require further recalculations."
   ]
  },
  {
   "cell_type": "markdown",
   "id": "a7ae8bd7",
   "metadata": {},
   "source": [
    "### Insight 1: Marginal Stats\n",
    "\n",
    "Howso provides easily accessible feature-level descriptive statistics of your dataset. The type of descriptive statistics that are available is dependent on whether the data is continuous or nominal."
   ]
  },
  {
   "cell_type": "code",
   "execution_count": 4,
   "id": "60e8d88d",
   "metadata": {
    "execution": {
     "iopub.execute_input": "2024-09-24T18:25:24.099815Z",
     "iopub.status.busy": "2024-09-24T18:25:24.099390Z",
     "iopub.status.idle": "2024-09-24T18:25:24.112570Z",
     "shell.execute_reply": "2024-09-24T18:25:24.112028Z"
    }
   },
   "outputs": [
    {
     "data": {
      "text/html": [
       "<div>\n",
       "<style scoped>\n",
       "    .dataframe tbody tr th:only-of-type {\n",
       "        vertical-align: middle;\n",
       "    }\n",
       "\n",
       "    .dataframe tbody tr th {\n",
       "        vertical-align: top;\n",
       "    }\n",
       "\n",
       "    .dataframe thead th {\n",
       "        text-align: right;\n",
       "    }\n",
       "</style>\n",
       "<table border=\"1\" class=\"dataframe\">\n",
       "  <thead>\n",
       "    <tr style=\"text-align: right;\">\n",
       "      <th></th>\n",
       "      <th>target</th>\n",
       "      <th>petal-width</th>\n",
       "      <th>sepal-width</th>\n",
       "      <th>sepal-length</th>\n",
       "      <th>petal-length</th>\n",
       "    </tr>\n",
       "  </thead>\n",
       "  <tbody>\n",
       "    <tr>\n",
       "      <th>kurtosis</th>\n",
       "      <td>NaN</td>\n",
       "      <td>-1.335246</td>\n",
       "      <td>0.193082</td>\n",
       "      <td>-0.573568</td>\n",
       "      <td>-1.395359</td>\n",
       "    </tr>\n",
       "    <tr>\n",
       "      <th>mean</th>\n",
       "      <td>NaN</td>\n",
       "      <td>1.198667</td>\n",
       "      <td>3.059441</td>\n",
       "      <td>5.843333</td>\n",
       "      <td>3.758667</td>\n",
       "    </tr>\n",
       "    <tr>\n",
       "      <th>count</th>\n",
       "      <td>150.000000</td>\n",
       "      <td>150.000000</td>\n",
       "      <td>143.000000</td>\n",
       "      <td>150.000000</td>\n",
       "      <td>150.000000</td>\n",
       "    </tr>\n",
       "    <tr>\n",
       "      <th>median</th>\n",
       "      <td>NaN</td>\n",
       "      <td>1.300000</td>\n",
       "      <td>3.000000</td>\n",
       "      <td>5.800000</td>\n",
       "      <td>4.350000</td>\n",
       "    </tr>\n",
       "    <tr>\n",
       "      <th>min</th>\n",
       "      <td>NaN</td>\n",
       "      <td>0.100000</td>\n",
       "      <td>2.000000</td>\n",
       "      <td>4.300000</td>\n",
       "      <td>1.000000</td>\n",
       "    </tr>\n",
       "    <tr>\n",
       "      <th>percentile_25</th>\n",
       "      <td>NaN</td>\n",
       "      <td>0.300000</td>\n",
       "      <td>2.800000</td>\n",
       "      <td>5.100000</td>\n",
       "      <td>1.600000</td>\n",
       "    </tr>\n",
       "    <tr>\n",
       "      <th>percentile_75</th>\n",
       "      <td>NaN</td>\n",
       "      <td>1.800000</td>\n",
       "      <td>3.300000</td>\n",
       "      <td>6.400000</td>\n",
       "      <td>5.100000</td>\n",
       "    </tr>\n",
       "    <tr>\n",
       "      <th>mode</th>\n",
       "      <td>2.000000</td>\n",
       "      <td>0.200000</td>\n",
       "      <td>3.000000</td>\n",
       "      <td>5.000000</td>\n",
       "      <td>1.500000</td>\n",
       "    </tr>\n",
       "    <tr>\n",
       "      <th>uniques</th>\n",
       "      <td>3.000000</td>\n",
       "      <td>22.000000</td>\n",
       "      <td>23.000000</td>\n",
       "      <td>35.000000</td>\n",
       "      <td>43.000000</td>\n",
       "    </tr>\n",
       "    <tr>\n",
       "      <th>mean_absdev</th>\n",
       "      <td>NaN</td>\n",
       "      <td>0.658933</td>\n",
       "      <td>0.337572</td>\n",
       "      <td>0.687556</td>\n",
       "      <td>1.561920</td>\n",
       "    </tr>\n",
       "    <tr>\n",
       "      <th>variance</th>\n",
       "      <td>NaN</td>\n",
       "      <td>0.578532</td>\n",
       "      <td>0.191502</td>\n",
       "      <td>0.681122</td>\n",
       "      <td>3.092425</td>\n",
       "    </tr>\n",
       "    <tr>\n",
       "      <th>stddev</th>\n",
       "      <td>NaN</td>\n",
       "      <td>0.760613</td>\n",
       "      <td>0.437609</td>\n",
       "      <td>0.825301</td>\n",
       "      <td>1.758529</td>\n",
       "    </tr>\n",
       "    <tr>\n",
       "      <th>entropy</th>\n",
       "      <td>1.098612</td>\n",
       "      <td>NaN</td>\n",
       "      <td>NaN</td>\n",
       "      <td>NaN</td>\n",
       "      <td>NaN</td>\n",
       "    </tr>\n",
       "    <tr>\n",
       "      <th>max</th>\n",
       "      <td>NaN</td>\n",
       "      <td>2.500000</td>\n",
       "      <td>4.400000</td>\n",
       "      <td>7.900000</td>\n",
       "      <td>6.900000</td>\n",
       "    </tr>\n",
       "    <tr>\n",
       "      <th>skew</th>\n",
       "      <td>NaN</td>\n",
       "      <td>-0.103944</td>\n",
       "      <td>0.311559</td>\n",
       "      <td>0.311753</td>\n",
       "      <td>-0.271712</td>\n",
       "    </tr>\n",
       "  </tbody>\n",
       "</table>\n",
       "</div>"
      ],
      "text/plain": [
       "                   target  petal-width  sepal-width  sepal-length  \\\n",
       "kurtosis              NaN    -1.335246     0.193082     -0.573568   \n",
       "mean                  NaN     1.198667     3.059441      5.843333   \n",
       "count          150.000000   150.000000   143.000000    150.000000   \n",
       "median                NaN     1.300000     3.000000      5.800000   \n",
       "min                   NaN     0.100000     2.000000      4.300000   \n",
       "percentile_25         NaN     0.300000     2.800000      5.100000   \n",
       "percentile_75         NaN     1.800000     3.300000      6.400000   \n",
       "mode             2.000000     0.200000     3.000000      5.000000   \n",
       "uniques          3.000000    22.000000    23.000000     35.000000   \n",
       "mean_absdev           NaN     0.658933     0.337572      0.687556   \n",
       "variance              NaN     0.578532     0.191502      0.681122   \n",
       "stddev                NaN     0.760613     0.437609      0.825301   \n",
       "entropy          1.098612          NaN          NaN           NaN   \n",
       "max                   NaN     2.500000     4.400000      7.900000   \n",
       "skew                  NaN    -0.103944     0.311559      0.311753   \n",
       "\n",
       "               petal-length  \n",
       "kurtosis          -1.395359  \n",
       "mean               3.758667  \n",
       "count            150.000000  \n",
       "median             4.350000  \n",
       "min                1.000000  \n",
       "percentile_25      1.600000  \n",
       "percentile_75      5.100000  \n",
       "mode               1.500000  \n",
       "uniques           43.000000  \n",
       "mean_absdev        1.561920  \n",
       "variance           3.092425  \n",
       "stddev             1.758529  \n",
       "entropy                 NaN  \n",
       "max                6.900000  \n",
       "skew              -0.271712  "
      ]
     },
     "execution_count": 4,
     "metadata": {},
     "output_type": "execute_result"
    }
   ],
   "source": [
    "marginal_stats = t.get_marginal_stats()\n",
    "marginal_stats"
   ]
  },
  {
   "cell_type": "markdown",
   "id": "073f9dbc",
   "metadata": {},
   "source": [
    "### Insight 2 : Which features are my data good at predicting?\n",
    "\n",
    "Howso provides insights into whether a feature is predictable within a data analysis workflow. This can be analyzed depending on a feature's type, e.g., continuous vs. nomimal. \n",
    "\n",
    "For continuous features, Howso provides the feature's mean value and units and calculates its residual. The residuals are quantified by the `mean absolute error (MAE)` between a predicted value and actual value for a prediction and they describe the average amount a feature's predicted value varies from its real value. A feature with a small `MAE` is generally easier to predict than a feature with a large `MAE`. With this information, an subject matter expert will be able to determine the predictability of a feature, given the information contained in the remaining data. For additional context, Howso provides the `R^2`, `RMSE`, and `Spearman coefficient` for each feature. To compare between the continuous features, Howso orders the resulting features by highest `R^2` and `Spearman coefficient` values which are unitless and thus comparable between continuous features. This order represents a probable rank order of feature predictability. However, it is important that further analysis is performed to better understand these results, as they are dataset dependent.\n",
    "\n",
    "For nominal features, Howso provides information on the feature's accuracy, precision, and recall as well as the Matthews Correlation Coefficient. This provides a holistic view as to whether the feature can be predicted given the remaining information. \n",
    "\n",
    "**Note**: Engine insights provide a baseline set of information based on an analysis across all features that points users in the correct direction of feature predictability. If an analysis is performed with a specified target feature, this analysis will become more precise, but the directionality will generally not change."
   ]
  },
  {
   "cell_type": "code",
   "execution_count": 5,
   "id": "04731f4b",
   "metadata": {
    "execution": {
     "iopub.execute_input": "2024-09-24T18:25:24.114769Z",
     "iopub.status.busy": "2024-09-24T18:25:24.114363Z",
     "iopub.status.idle": "2024-09-24T18:25:24.165412Z",
     "shell.execute_reply": "2024-09-24T18:25:24.164697Z"
    }
   },
   "outputs": [
    {
     "data": {
      "text/html": [
       "<div>\n",
       "<style scoped>\n",
       "    .dataframe tbody tr th:only-of-type {\n",
       "        vertical-align: middle;\n",
       "    }\n",
       "\n",
       "    .dataframe tbody tr th {\n",
       "        vertical-align: top;\n",
       "    }\n",
       "\n",
       "    .dataframe thead th {\n",
       "        text-align: right;\n",
       "    }\n",
       "</style>\n",
       "<table border=\"1\" class=\"dataframe\">\n",
       "  <thead>\n",
       "    <tr style=\"text-align: right;\">\n",
       "      <th></th>\n",
       "      <th>target</th>\n",
       "      <th>petal-width</th>\n",
       "      <th>sepal-width</th>\n",
       "      <th>sepal-length</th>\n",
       "      <th>petal-length</th>\n",
       "    </tr>\n",
       "  </thead>\n",
       "  <tbody>\n",
       "    <tr>\n",
       "      <th>accuracy</th>\n",
       "      <td>0.973684</td>\n",
       "      <td>NaN</td>\n",
       "      <td>NaN</td>\n",
       "      <td>NaN</td>\n",
       "      <td>NaN</td>\n",
       "    </tr>\n",
       "    <tr>\n",
       "      <th>precision</th>\n",
       "      <td>0.973856</td>\n",
       "      <td>NaN</td>\n",
       "      <td>NaN</td>\n",
       "      <td>NaN</td>\n",
       "      <td>NaN</td>\n",
       "    </tr>\n",
       "    <tr>\n",
       "      <th>mae</th>\n",
       "      <td>0.056026</td>\n",
       "      <td>0.128497</td>\n",
       "      <td>0.217954</td>\n",
       "      <td>0.279284</td>\n",
       "      <td>0.216605</td>\n",
       "    </tr>\n",
       "    <tr>\n",
       "      <th>recall</th>\n",
       "      <td>0.973856</td>\n",
       "      <td>NaN</td>\n",
       "      <td>NaN</td>\n",
       "      <td>NaN</td>\n",
       "      <td>NaN</td>\n",
       "    </tr>\n",
       "    <tr>\n",
       "      <th>mcc</th>\n",
       "      <td>0.960525</td>\n",
       "      <td>NaN</td>\n",
       "      <td>NaN</td>\n",
       "      <td>NaN</td>\n",
       "      <td>NaN</td>\n",
       "    </tr>\n",
       "    <tr>\n",
       "      <th>spearman_coeff</th>\n",
       "      <td>NaN</td>\n",
       "      <td>0.857462</td>\n",
       "      <td>0.725644</td>\n",
       "      <td>0.850013</td>\n",
       "      <td>0.860180</td>\n",
       "    </tr>\n",
       "    <tr>\n",
       "      <th>rmse</th>\n",
       "      <td>NaN</td>\n",
       "      <td>0.171722</td>\n",
       "      <td>0.289583</td>\n",
       "      <td>0.344241</td>\n",
       "      <td>0.283005</td>\n",
       "    </tr>\n",
       "    <tr>\n",
       "      <th>r2</th>\n",
       "      <td>NaN</td>\n",
       "      <td>0.948777</td>\n",
       "      <td>0.568539</td>\n",
       "      <td>0.829608</td>\n",
       "      <td>0.974261</td>\n",
       "    </tr>\n",
       "  </tbody>\n",
       "</table>\n",
       "</div>"
      ],
      "text/plain": [
       "                  target  petal-width  sepal-width  sepal-length  petal-length\n",
       "accuracy        0.973684          NaN          NaN           NaN           NaN\n",
       "precision       0.973856          NaN          NaN           NaN           NaN\n",
       "mae             0.056026     0.128497     0.217954      0.279284      0.216605\n",
       "recall          0.973856          NaN          NaN           NaN           NaN\n",
       "mcc             0.960525          NaN          NaN           NaN           NaN\n",
       "spearman_coeff       NaN     0.857462     0.725644      0.850013      0.860180\n",
       "rmse                 NaN     0.171722     0.289583      0.344241      0.283005\n",
       "r2                   NaN     0.948777     0.568539      0.829608      0.974261"
      ]
     },
     "execution_count": 5,
     "metadata": {},
     "output_type": "execute_result"
    }
   ],
   "source": [
    "pred_stats = t.react_aggregate(details = {'prediction_stats': True})\n",
    "\n",
    "pred_stats"
   ]
  },
  {
   "cell_type": "markdown",
   "id": "a771e834",
   "metadata": {},
   "source": [
    "#### Metrics for continuous features"
   ]
  },
  {
   "cell_type": "code",
   "execution_count": 6,
   "id": "8e3a5038",
   "metadata": {
    "execution": {
     "iopub.execute_input": "2024-09-24T18:25:24.167556Z",
     "iopub.status.busy": "2024-09-24T18:25:24.167218Z",
     "iopub.status.idle": "2024-09-24T18:25:24.178424Z",
     "shell.execute_reply": "2024-09-24T18:25:24.177760Z"
    }
   },
   "outputs": [
    {
     "data": {
      "text/html": [
       "<div>\n",
       "<style scoped>\n",
       "    .dataframe tbody tr th:only-of-type {\n",
       "        vertical-align: middle;\n",
       "    }\n",
       "\n",
       "    .dataframe tbody tr th {\n",
       "        vertical-align: top;\n",
       "    }\n",
       "\n",
       "    .dataframe thead th {\n",
       "        text-align: right;\n",
       "    }\n",
       "</style>\n",
       "<table border=\"1\" class=\"dataframe\">\n",
       "  <thead>\n",
       "    <tr style=\"text-align: right;\">\n",
       "      <th></th>\n",
       "      <th>mean</th>\n",
       "      <th>stddev</th>\n",
       "      <th>r2</th>\n",
       "      <th>spearman_coeff</th>\n",
       "      <th>mae</th>\n",
       "      <th>rmse</th>\n",
       "    </tr>\n",
       "  </thead>\n",
       "  <tbody>\n",
       "    <tr>\n",
       "      <th>petal-length</th>\n",
       "      <td>3.758667</td>\n",
       "      <td>1.758529</td>\n",
       "      <td>0.974261</td>\n",
       "      <td>0.860180</td>\n",
       "      <td>0.216605</td>\n",
       "      <td>0.283005</td>\n",
       "    </tr>\n",
       "    <tr>\n",
       "      <th>petal-width</th>\n",
       "      <td>1.198667</td>\n",
       "      <td>0.760613</td>\n",
       "      <td>0.948777</td>\n",
       "      <td>0.857462</td>\n",
       "      <td>0.128497</td>\n",
       "      <td>0.171722</td>\n",
       "    </tr>\n",
       "    <tr>\n",
       "      <th>sepal-length</th>\n",
       "      <td>5.843333</td>\n",
       "      <td>0.825301</td>\n",
       "      <td>0.829608</td>\n",
       "      <td>0.850013</td>\n",
       "      <td>0.279284</td>\n",
       "      <td>0.344241</td>\n",
       "    </tr>\n",
       "    <tr>\n",
       "      <th>sepal-width</th>\n",
       "      <td>3.059441</td>\n",
       "      <td>0.437609</td>\n",
       "      <td>0.568539</td>\n",
       "      <td>0.725644</td>\n",
       "      <td>0.217954</td>\n",
       "      <td>0.289583</td>\n",
       "    </tr>\n",
       "  </tbody>\n",
       "</table>\n",
       "</div>"
      ],
      "text/plain": [
       "                  mean    stddev        r2  spearman_coeff       mae      rmse\n",
       "petal-length  3.758667  1.758529  0.974261        0.860180  0.216605  0.283005\n",
       "petal-width   1.198667  0.760613  0.948777        0.857462  0.128497  0.171722\n",
       "sepal-length  5.843333  0.825301  0.829608        0.850013  0.279284  0.344241\n",
       "sepal-width   3.059441  0.437609  0.568539        0.725644  0.217954  0.289583"
      ]
     },
     "execution_count": 6,
     "metadata": {},
     "output_type": "execute_result"
    }
   ],
   "source": [
    "u_eps = marginal_stats.loc[['mean','stddev'], marginal_stats.columns != 'target']\n",
    "cts_stats = pred_stats.loc[['r2','spearman_coeff','mae','rmse'], marginal_stats.columns != 'target']\n",
    "cts_results = pd.concat([u_eps,cts_stats]).transpose().sort_values(by='r2',ascending=False)\n",
    "cts_results"
   ]
  },
  {
   "cell_type": "markdown",
   "id": "0a0a41f9",
   "metadata": {},
   "source": [
    "#### Metrics for nominal features"
   ]
  },
  {
   "cell_type": "code",
   "execution_count": 7,
   "id": "e43dbdc9",
   "metadata": {
    "execution": {
     "iopub.execute_input": "2024-09-24T18:25:24.180452Z",
     "iopub.status.busy": "2024-09-24T18:25:24.180067Z",
     "iopub.status.idle": "2024-09-24T18:25:24.186696Z",
     "shell.execute_reply": "2024-09-24T18:25:24.186064Z"
    }
   },
   "outputs": [
    {
     "data": {
      "text/html": [
       "<div>\n",
       "<style scoped>\n",
       "    .dataframe tbody tr th:only-of-type {\n",
       "        vertical-align: middle;\n",
       "    }\n",
       "\n",
       "    .dataframe tbody tr th {\n",
       "        vertical-align: top;\n",
       "    }\n",
       "\n",
       "    .dataframe thead th {\n",
       "        text-align: right;\n",
       "    }\n",
       "</style>\n",
       "<table border=\"1\" class=\"dataframe\">\n",
       "  <thead>\n",
       "    <tr style=\"text-align: right;\">\n",
       "      <th></th>\n",
       "      <th>target</th>\n",
       "    </tr>\n",
       "  </thead>\n",
       "  <tbody>\n",
       "    <tr>\n",
       "      <th>accuracy</th>\n",
       "      <td>0.973684</td>\n",
       "    </tr>\n",
       "    <tr>\n",
       "      <th>precision</th>\n",
       "      <td>0.973856</td>\n",
       "    </tr>\n",
       "    <tr>\n",
       "      <th>recall</th>\n",
       "      <td>0.973856</td>\n",
       "    </tr>\n",
       "  </tbody>\n",
       "</table>\n",
       "</div>"
      ],
      "text/plain": [
       "             target\n",
       "accuracy   0.973684\n",
       "precision  0.973856\n",
       "recall     0.973856"
      ]
     },
     "execution_count": 7,
     "metadata": {},
     "output_type": "execute_result"
    }
   ],
   "source": [
    "target_stats = pred_stats[['target']]\n",
    "target_stats.loc[['accuracy','precision','recall']]"
   ]
  },
  {
   "cell_type": "markdown",
   "id": "a7857b7a",
   "metadata": {},
   "source": [
    "### Insight 3: Which features are important?\n",
    "\n",
    "Feature importance is quantified by a combined analysis of how much each feature contributes to the prediction of another feature and whether that contribution improves or harms the accuracy of the prediction. For a given target (i.e., action, predicted) feature, Howso can calculate the [Feature Contribution](https://docs.howso.com/getting_started/terminology.html#contribution), which \n",
    "is the difference between a prediction of a target feature when each context feature is considered versus not considered during the prediction.\n",
    "\n",
    "Howso can also calculate the [Mean Decrease in Accuracy](https://docs.howso.com/getting_started/terminology.html#mda) (MDA). Please see the [feature importance user guide](https://docs.howso.com/user_guide/advanced_capabilities/feature_importance.html) page for more details.\n",
    "\n",
    "Howso summarizes the feature contribution results for each feature within matrices. To read a matrix, the label of each row (listed on the y-axis) indicates the target feature. Moving from left to right across each row of a matrix, the feature contribution of each context feature for the target feature prediction can be identified. \n",
    "\n",
    "Note, the matrices also provide some insight into directional causality between features. This insight is useful for data scientists performing an exploratory data analysis (EDA)."
   ]
  },
  {
   "cell_type": "code",
   "execution_count": 8,
   "id": "23698699",
   "metadata": {
    "execution": {
     "iopub.execute_input": "2024-09-24T18:25:24.188731Z",
     "iopub.status.busy": "2024-09-24T18:25:24.188293Z",
     "iopub.status.idle": "2024-09-24T18:25:46.530507Z",
     "shell.execute_reply": "2024-09-24T18:25:46.529852Z"
    }
   },
   "outputs": [],
   "source": [
    "contrib_matrix = t.get_contribution_matrix()"
   ]
  },
  {
   "cell_type": "code",
   "execution_count": 9,
   "id": "afc380b6",
   "metadata": {
    "execution": {
     "iopub.execute_input": "2024-09-24T18:25:46.533152Z",
     "iopub.status.busy": "2024-09-24T18:25:46.532715Z",
     "iopub.status.idle": "2024-09-24T18:25:47.566921Z",
     "shell.execute_reply": "2024-09-24T18:25:47.566284Z"
    }
   },
   "outputs": [
    {
     "data": {
      "image/png": "[encoded data removed]"
     },
     "metadata": {},
     "output_type": "display_data"
    }
   ],
   "source": [
    "# Plot the heatmap\n",
    "fig = px.imshow(round(contrib_matrix, 2), color_continuous_scale='RdBu', text_auto=True)\n",
    "fig.show()"
   ]
  },
  {
   "cell_type": "markdown",
   "id": "17307162",
   "metadata": {},
   "source": [
    "### Insight 4: Which cases are anomalous?\n",
    "\n",
    "Howso provides insights into the anomalies within your dataset, utilizing the concept of [Conviction](https://docs.howso.com/getting_started/terminology.html#conviction) or how surprising a single data point is relative to the remaining data. The higher the surprisal (lower the conviction), the more likely the data point is anomalous. An outlier is classified as an anomalous point that is very far away from any other data.\n",
    "\n",
    "Howso also has the ability to classify inliers, which are anomalous points that are very near (e.g., essentially overlapping) with another data point. More information is provided in the `Anomaly_detection.ipynb` recipe.\n",
    "\n",
    "As assessment of anomalous data points are an important tool for data preparation and results explanation within a data analytics workflow."
   ]
  },
  {
   "cell_type": "code",
   "execution_count": 10,
   "id": "09308754",
   "metadata": {
    "execution": {
     "iopub.execute_input": "2024-09-24T18:25:47.569187Z",
     "iopub.status.busy": "2024-09-24T18:25:47.568757Z",
     "iopub.status.idle": "2024-09-24T18:25:47.659353Z",
     "shell.execute_reply": "2024-09-24T18:25:47.658746Z"
    }
   },
   "outputs": [],
   "source": [
    "t.react_into_features(\n",
    "    distance_contribution=True,\n",
    "    familiarity_conviction_addition=True,\n",
    "    familiarity_conviction_removal=True,\n",
    "    influence_weight_entropy=True,\n",
    "    p_value_of_addition=True,\n",
    "    p_value_of_removal=True,\n",
    "    similarity_conviction=True\n",
    ")\n",
    "\n",
    "\n",
    "conviction = t.get_cases(\n",
    "    session=t.active_session,\n",
    "    features=df.columns.to_list() + ['distance_contribution', 'similarity_conviction']\n",
    ")\n",
    "\n",
    "# Threshold to determine which cases will be deemed anomalous\n",
    "conviction_threshold = 1.0\n",
    "\n",
    "# Extract the anomalous cases\n",
    "low_conviction = conviction[\n",
    "    conviction['similarity_conviction'] <= conviction_threshold\n",
    "].sort_values('similarity_conviction', ascending=True)\n",
    "\n",
    "# Average distance contribution will be used to determine if a case is an outlier or inlier\n",
    "average_dist_contribution = low_conviction['distance_contribution'].mean()\n",
    "\n",
    "# A case with distance contribution greater than average will be tagged as outlier, and vice versa for inliers\n",
    "category = [\n",
    "    'outlier' if d > average_dist_contribution else\n",
    "    np.nan for d in low_conviction['distance_contribution']\n",
    "]\n",
    "low_conviction['category'] = category"
   ]
  },
  {
   "cell_type": "markdown",
   "id": "2a4bd9e8",
   "metadata": {},
   "source": [
    "The anomalous cases, in order of lowest to highest conviction"
   ]
  },
  {
   "cell_type": "code",
   "execution_count": 11,
   "id": "1597da66",
   "metadata": {
    "execution": {
     "iopub.execute_input": "2024-09-24T18:25:47.661877Z",
     "iopub.status.busy": "2024-09-24T18:25:47.661500Z",
     "iopub.status.idle": "2024-09-24T18:25:47.671967Z",
     "shell.execute_reply": "2024-09-24T18:25:47.671470Z"
    }
   },
   "outputs": [
    {
     "data": {
      "text/html": [
       "<div>\n",
       "<style scoped>\n",
       "    .dataframe tbody tr th:only-of-type {\n",
       "        vertical-align: middle;\n",
       "    }\n",
       "\n",
       "    .dataframe tbody tr th {\n",
       "        vertical-align: top;\n",
       "    }\n",
       "\n",
       "    .dataframe thead th {\n",
       "        text-align: right;\n",
       "    }\n",
       "</style>\n",
       "<table border=\"1\" class=\"dataframe\">\n",
       "  <thead>\n",
       "    <tr style=\"text-align: right;\">\n",
       "      <th></th>\n",
       "      <th>sepal-length</th>\n",
       "      <th>sepal-width</th>\n",
       "      <th>petal-length</th>\n",
       "      <th>petal-width</th>\n",
       "      <th>target</th>\n",
       "      <th>distance_contribution</th>\n",
       "      <th>similarity_conviction</th>\n",
       "      <th>category</th>\n",
       "    </tr>\n",
       "  </thead>\n",
       "  <tbody>\n",
       "    <tr>\n",
       "      <th>104</th>\n",
       "      <td>4.4</td>\n",
       "      <td>NaN</td>\n",
       "      <td>1.4</td>\n",
       "      <td>0.2</td>\n",
       "      <td>0</td>\n",
       "      <td>23.537170</td>\n",
       "      <td>0.035765</td>\n",
       "      <td>outlier</td>\n",
       "    </tr>\n",
       "    <tr>\n",
       "      <th>55</th>\n",
       "      <td>5.4</td>\n",
       "      <td>NaN</td>\n",
       "      <td>1.5</td>\n",
       "      <td>0.4</td>\n",
       "      <td>0</td>\n",
       "      <td>23.510902</td>\n",
       "      <td>0.043089</td>\n",
       "      <td>outlier</td>\n",
       "    </tr>\n",
       "    <tr>\n",
       "      <th>97</th>\n",
       "      <td>5.8</td>\n",
       "      <td>NaN</td>\n",
       "      <td>3.9</td>\n",
       "      <td>1.2</td>\n",
       "      <td>1</td>\n",
       "      <td>23.352135</td>\n",
       "      <td>0.084790</td>\n",
       "      <td>outlier</td>\n",
       "    </tr>\n",
       "    <tr>\n",
       "      <th>7</th>\n",
       "      <td>5.5</td>\n",
       "      <td>NaN</td>\n",
       "      <td>4.0</td>\n",
       "      <td>1.3</td>\n",
       "      <td>1</td>\n",
       "      <td>23.343501</td>\n",
       "      <td>0.086026</td>\n",
       "      <td>outlier</td>\n",
       "    </tr>\n",
       "    <tr>\n",
       "      <th>108</th>\n",
       "      <td>6.1</td>\n",
       "      <td>NaN</td>\n",
       "      <td>4.9</td>\n",
       "      <td>1.8</td>\n",
       "      <td>2</td>\n",
       "      <td>23.462982</td>\n",
       "      <td>0.092315</td>\n",
       "      <td>outlier</td>\n",
       "    </tr>\n",
       "    <tr>\n",
       "      <th>18</th>\n",
       "      <td>6.3</td>\n",
       "      <td>NaN</td>\n",
       "      <td>5.6</td>\n",
       "      <td>1.8</td>\n",
       "      <td>2</td>\n",
       "      <td>23.444703</td>\n",
       "      <td>0.092698</td>\n",
       "      <td>outlier</td>\n",
       "    </tr>\n",
       "    <tr>\n",
       "      <th>91</th>\n",
       "      <td>6.8</td>\n",
       "      <td>NaN</td>\n",
       "      <td>5.9</td>\n",
       "      <td>2.3</td>\n",
       "      <td>2</td>\n",
       "      <td>23.465449</td>\n",
       "      <td>0.095092</td>\n",
       "      <td>outlier</td>\n",
       "    </tr>\n",
       "  </tbody>\n",
       "</table>\n",
       "</div>"
      ],
      "text/plain": [
       "     sepal-length  sepal-width  petal-length  petal-width  target  \\\n",
       "104           4.4          NaN           1.4          0.2       0   \n",
       "55            5.4          NaN           1.5          0.4       0   \n",
       "97            5.8          NaN           3.9          1.2       1   \n",
       "7             5.5          NaN           4.0          1.3       1   \n",
       "108           6.1          NaN           4.9          1.8       2   \n",
       "18            6.3          NaN           5.6          1.8       2   \n",
       "91            6.8          NaN           5.9          2.3       2   \n",
       "\n",
       "     distance_contribution  similarity_conviction category  \n",
       "104              23.537170               0.035765  outlier  \n",
       "55               23.510902               0.043089  outlier  \n",
       "97               23.352135               0.084790  outlier  \n",
       "7                23.343501               0.086026  outlier  \n",
       "108              23.462982               0.092315  outlier  \n",
       "18               23.444703               0.092698  outlier  \n",
       "91               23.465449               0.095092  outlier  "
      ]
     },
     "execution_count": 11,
     "metadata": {},
     "output_type": "execute_result"
    }
   ],
   "source": [
    "low_conviction[low_conviction['category']=='outlier']"
   ]
  },
  {
   "cell_type": "code",
   "execution_count": 12,
   "id": "7b4f7eb8",
   "metadata": {
    "execution": {
     "iopub.execute_input": "2024-09-24T18:25:47.673869Z",
     "iopub.status.busy": "2024-09-24T18:25:47.673529Z",
     "iopub.status.idle": "2024-09-24T18:25:47.677529Z",
     "shell.execute_reply": "2024-09-24T18:25:47.677035Z"
    }
   },
   "outputs": [
    {
     "data": {
      "text/plain": [
       "'There are 7 potential outliers in the dataset.'"
      ]
     },
     "metadata": {},
     "output_type": "display_data"
    }
   ],
   "source": [
    "display(f\"There are {len(low_conviction[low_conviction['category']=='outlier'])} potential outliers in the dataset.\")"
   ]
  }
 ],
 "metadata": {
  "kernelspec": {
   "display_name": "Python 3 (ipykernel)",
   "language": "python",
   "name": "python3"
  },
  "language_info": {
   "codemirror_mode": {
    "name": "ipython",
    "version": 3
   },
   "file_extension": ".py",
   "mimetype": "text/x-python",
   "name": "python",
   "nbconvert_exporter": "python",
   "pygments_lexer": "ipython3",
   "version": "3.9.20"
  },
  "vscode": {
   "interpreter": {
    "hash": "a7b40af3b3dcf6c5b8a920c6917b3b1352b9482e2d98da38730ccde8fc2e79a6"
   }
  }
 },
 "nbformat": 4,
 "nbformat_minor": 5
}
