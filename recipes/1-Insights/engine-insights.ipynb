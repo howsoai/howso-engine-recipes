{
 "cells": [
  {
   "attachments": {},
   "cell_type": "markdown",
   "id": "69d7ac54-9a3b-4327-93a5-eb6fbf314530",
   "metadata": {
    "tags": []
   },
   "source": [
    "# Engine Insights\n",
    "\n",
    "## Overview \n",
    " \n",
    "Howso Engine is a generalized Machine Learning (ML) and Artificial Intelligence platform that creates powerful decision-making models that are fully explainable, auditable, and editable. Howso Engine uses Instance-Based Machine Learning which stores instances, i.e., data points, in memory and makes predictions about new instances given their relationship to existing instances. This technology harnesses a fast spatial query system and techniques from information theory to enhance both performance and accuracy. \n",
    "\n",
    "In this notebook we will explore the most basic workflow using Howso Engine to gain insights in your data. This workflow is a form of exploratory data analysis and can help the user develop a deeper understanding of the data."
   ]
  },
  {
   "cell_type": "code",
   "execution_count": 1,
   "id": "f6cbaf0d-4f1f-410d-9cfd-1114f34c8c00",
   "metadata": {
    "execution": {
     "iopub.execute_input": "2025-01-29T16:24:35.517113Z",
     "iopub.status.busy": "2025-01-29T16:24:35.516926Z",
     "iopub.status.idle": "2025-01-29T16:24:36.133984Z",
     "shell.execute_reply": "2025-01-29T16:24:36.133328Z"
    }
   },
   "outputs": [],
   "source": [
    "import os\n",
    "\n",
    "import numpy as np\n",
    "import pandas as pd\n",
    "import plotly.io as pio\n",
    "import plotly.express as px\n",
    "from pmlb import fetch_data\n",
    "\n",
    "from howso.engine import Trainee\n",
    "from howso.utilities import infer_feature_attributes\n",
    "\n",
    "pio.renderers.default = os.getenv(\"HOWSO_RECIPE_RENDERER\", \"notebook\")"
   ]
  },
  {
   "attachments": {},
   "cell_type": "markdown",
   "id": "050d7e2d",
   "metadata": {},
   "source": [
    "# Section 1: Load, Train, Analyze\n",
    "\n",
    "The [basic workflow guide](https://docs.howso.com/user_guide/basics/basic_workflow.html) goes into more specifics about the individual details of this section. This recipe will focus more on the insights."
   ]
  },
  {
   "attachments": {},
   "cell_type": "markdown",
   "id": "8a1f5ffa-d96e-44b8-9152-9e7811b6f9b4",
   "metadata": {},
   "source": [
    "### Step 1: Load Data and Create Trainee"
   ]
  },
  {
   "cell_type": "code",
   "execution_count": 2,
   "id": "e5a7a925-5a9d-47fb-b4a3-3272203d4772",
   "metadata": {
    "execution": {
     "iopub.execute_input": "2025-01-29T16:24:36.136742Z",
     "iopub.status.busy": "2025-01-29T16:24:36.136499Z",
     "iopub.status.idle": "2025-01-29T16:24:37.515365Z",
     "shell.execute_reply": "2025-01-29T16:24:37.514711Z"
    }
   },
   "outputs": [],
   "source": [
    "df = fetch_data('iris', local_cache_dir=\"../../data/iris\")\n",
    "\n",
    "# Randomly insert nulls for insights later in recipe\n",
    "num_nans = int(0.05 * len(df))\n",
    "nan_indices = np.random.choice(df.index, num_nans, replace=False)\n",
    "df.loc[nan_indices, 'sepal-width'] = np.nan\n",
    "\n",
    "# Infer feature attributes\n",
    "features = infer_feature_attributes(df)\n",
    "\n",
    "# Create the Trainee\n",
    "t = Trainee(features=features)"
   ]
  },
  {
   "attachments": {},
   "cell_type": "markdown",
   "id": "35ec53b0-b623-427a-b2a6-8e55ebfef1bc",
   "metadata": {},
   "source": [
    "### Step 2: Train, Analyze, and React"
   ]
  },
  {
   "cell_type": "code",
   "execution_count": 3,
   "id": "4c097568",
   "metadata": {
    "execution": {
     "iopub.execute_input": "2025-01-29T16:24:37.518142Z",
     "iopub.status.busy": "2025-01-29T16:24:37.517687Z",
     "iopub.status.idle": "2025-01-29T16:24:38.201605Z",
     "shell.execute_reply": "2025-01-29T16:24:38.200987Z"
    }
   },
   "outputs": [],
   "source": [
    "# Train\n",
    "t.train(df)\n",
    "\n",
    "# Targetless Analysis\n",
    "t.analyze()"
   ]
  },
  {
   "cell_type": "markdown",
   "id": "e6f1e4cf",
   "metadata": {},
   "source": [
    "# Section 2: Insights\n",
    "\n",
    "By calling `get_prediction_stats`, Howso Engine calculates a variety of metrics that are easily accessible and doesn't require further recalculations."
   ]
  },
  {
   "cell_type": "markdown",
   "id": "a7ae8bd7",
   "metadata": {},
   "source": [
    "### Insight 1: Marginal Stats\n",
    "\n",
    "Howso provides easily accessible feature-level descriptive statistics of your dataset. The type of descriptive statistics that are available is dependent on whether the data is continuous or nominal."
   ]
  },
  {
   "cell_type": "code",
   "execution_count": 4,
   "id": "60e8d88d",
   "metadata": {
    "execution": {
     "iopub.execute_input": "2025-01-29T16:24:38.204357Z",
     "iopub.status.busy": "2025-01-29T16:24:38.203846Z",
     "iopub.status.idle": "2025-01-29T16:24:38.216617Z",
     "shell.execute_reply": "2025-01-29T16:24:38.216140Z"
    }
   },
   "outputs": [
    {
     "data": {
      "text/html": [
       "<div>\n",
       "<style scoped>\n",
       "    .dataframe tbody tr th:only-of-type {\n",
       "        vertical-align: middle;\n",
       "    }\n",
       "\n",
       "    .dataframe tbody tr th {\n",
       "        vertical-align: top;\n",
       "    }\n",
       "\n",
       "    .dataframe thead th {\n",
       "        text-align: right;\n",
       "    }\n",
       "</style>\n",
       "<table border=\"1\" class=\"dataframe\">\n",
       "  <thead>\n",
       "    <tr style=\"text-align: right;\">\n",
       "      <th></th>\n",
       "      <th>sepal-length</th>\n",
       "      <th>petal-width</th>\n",
       "      <th>sepal-width</th>\n",
       "      <th>target</th>\n",
       "      <th>petal-length</th>\n",
       "    </tr>\n",
       "  </thead>\n",
       "  <tbody>\n",
       "    <tr>\n",
       "      <th>skew</th>\n",
       "      <td>0.311753</td>\n",
       "      <td>-0.103944</td>\n",
       "      <td>0.353928</td>\n",
       "      <td>NaN</td>\n",
       "      <td>-0.271712</td>\n",
       "    </tr>\n",
       "    <tr>\n",
       "      <th>percentile_75</th>\n",
       "      <td>6.400000</td>\n",
       "      <td>1.800000</td>\n",
       "      <td>3.300000</td>\n",
       "      <td>NaN</td>\n",
       "      <td>5.100000</td>\n",
       "    </tr>\n",
       "    <tr>\n",
       "      <th>mean</th>\n",
       "      <td>5.843333</td>\n",
       "      <td>1.198667</td>\n",
       "      <td>3.049650</td>\n",
       "      <td>NaN</td>\n",
       "      <td>3.758667</td>\n",
       "    </tr>\n",
       "    <tr>\n",
       "      <th>percentile_25</th>\n",
       "      <td>5.100000</td>\n",
       "      <td>0.300000</td>\n",
       "      <td>2.800000</td>\n",
       "      <td>NaN</td>\n",
       "      <td>1.600000</td>\n",
       "    </tr>\n",
       "    <tr>\n",
       "      <th>mean_absdev</th>\n",
       "      <td>0.687556</td>\n",
       "      <td>0.658933</td>\n",
       "      <td>0.340163</td>\n",
       "      <td>NaN</td>\n",
       "      <td>1.561920</td>\n",
       "    </tr>\n",
       "    <tr>\n",
       "      <th>variance</th>\n",
       "      <td>0.681122</td>\n",
       "      <td>0.578532</td>\n",
       "      <td>0.193829</td>\n",
       "      <td>NaN</td>\n",
       "      <td>3.092425</td>\n",
       "    </tr>\n",
       "    <tr>\n",
       "      <th>stddev</th>\n",
       "      <td>0.825301</td>\n",
       "      <td>0.760613</td>\n",
       "      <td>0.440260</td>\n",
       "      <td>NaN</td>\n",
       "      <td>1.758529</td>\n",
       "    </tr>\n",
       "    <tr>\n",
       "      <th>max</th>\n",
       "      <td>7.900000</td>\n",
       "      <td>2.500000</td>\n",
       "      <td>4.400000</td>\n",
       "      <td>NaN</td>\n",
       "      <td>6.900000</td>\n",
       "    </tr>\n",
       "    <tr>\n",
       "      <th>count</th>\n",
       "      <td>150.000000</td>\n",
       "      <td>150.000000</td>\n",
       "      <td>143.000000</td>\n",
       "      <td>150.000000</td>\n",
       "      <td>150.000000</td>\n",
       "    </tr>\n",
       "    <tr>\n",
       "      <th>entropy</th>\n",
       "      <td>NaN</td>\n",
       "      <td>NaN</td>\n",
       "      <td>NaN</td>\n",
       "      <td>1.098612</td>\n",
       "      <td>NaN</td>\n",
       "    </tr>\n",
       "    <tr>\n",
       "      <th>uniques</th>\n",
       "      <td>35.000000</td>\n",
       "      <td>22.000000</td>\n",
       "      <td>23.000000</td>\n",
       "      <td>3.000000</td>\n",
       "      <td>43.000000</td>\n",
       "    </tr>\n",
       "    <tr>\n",
       "      <th>kurtosis</th>\n",
       "      <td>-0.573568</td>\n",
       "      <td>-1.335246</td>\n",
       "      <td>0.165436</td>\n",
       "      <td>NaN</td>\n",
       "      <td>-1.395359</td>\n",
       "    </tr>\n",
       "    <tr>\n",
       "      <th>median</th>\n",
       "      <td>5.800000</td>\n",
       "      <td>1.300000</td>\n",
       "      <td>3.000000</td>\n",
       "      <td>NaN</td>\n",
       "      <td>4.350000</td>\n",
       "    </tr>\n",
       "    <tr>\n",
       "      <th>min</th>\n",
       "      <td>4.300000</td>\n",
       "      <td>0.100000</td>\n",
       "      <td>2.000000</td>\n",
       "      <td>NaN</td>\n",
       "      <td>1.000000</td>\n",
       "    </tr>\n",
       "    <tr>\n",
       "      <th>mode</th>\n",
       "      <td>5.000000</td>\n",
       "      <td>0.200000</td>\n",
       "      <td>3.000000</td>\n",
       "      <td>2.000000</td>\n",
       "      <td>1.500000</td>\n",
       "    </tr>\n",
       "  </tbody>\n",
       "</table>\n",
       "</div>"
      ],
      "text/plain": [
       "               sepal-length  petal-width  sepal-width      target  \\\n",
       "skew               0.311753    -0.103944     0.353928         NaN   \n",
       "percentile_75      6.400000     1.800000     3.300000         NaN   \n",
       "mean               5.843333     1.198667     3.049650         NaN   \n",
       "percentile_25      5.100000     0.300000     2.800000         NaN   \n",
       "mean_absdev        0.687556     0.658933     0.340163         NaN   \n",
       "variance           0.681122     0.578532     0.193829         NaN   \n",
       "stddev             0.825301     0.760613     0.440260         NaN   \n",
       "max                7.900000     2.500000     4.400000         NaN   \n",
       "count            150.000000   150.000000   143.000000  150.000000   \n",
       "entropy                 NaN          NaN          NaN    1.098612   \n",
       "uniques           35.000000    22.000000    23.000000    3.000000   \n",
       "kurtosis          -0.573568    -1.335246     0.165436         NaN   \n",
       "median             5.800000     1.300000     3.000000         NaN   \n",
       "min                4.300000     0.100000     2.000000         NaN   \n",
       "mode               5.000000     0.200000     3.000000    2.000000   \n",
       "\n",
       "               petal-length  \n",
       "skew              -0.271712  \n",
       "percentile_75      5.100000  \n",
       "mean               3.758667  \n",
       "percentile_25      1.600000  \n",
       "mean_absdev        1.561920  \n",
       "variance           3.092425  \n",
       "stddev             1.758529  \n",
       "max                6.900000  \n",
       "count            150.000000  \n",
       "entropy                 NaN  \n",
       "uniques           43.000000  \n",
       "kurtosis          -1.395359  \n",
       "median             4.350000  \n",
       "min                1.000000  \n",
       "mode               1.500000  "
      ]
     },
     "execution_count": 4,
     "metadata": {},
     "output_type": "execute_result"
    }
   ],
   "source": [
    "marginal_stats = t.get_marginal_stats()\n",
    "marginal_stats"
   ]
  },
  {
   "cell_type": "markdown",
   "id": "073f9dbc",
   "metadata": {},
   "source": [
    "### Insight 2 : Which features are my data good at predicting?\n",
    "\n",
    "Howso provides insights into whether a feature is predictable within a data analysis workflow. This can be analyzed depending on a feature's type, e.g., continuous vs. nomimal. \n",
    "\n",
    "For continuous features, Howso provides the feature's mean value and units and calculates its residual. The residuals are quantified by the `mean absolute error (MAE)` between a predicted value and actual value for a prediction and they describe the average amount a feature's predicted value varies from its real value. A feature with a small `MAE` is generally easier to predict than a feature with a large `MAE`. With this information, an subject matter expert will be able to determine the predictability of a feature, given the information contained in the remaining data. For additional context, Howso provides the `R^2`, `RMSE`, and `Spearman coefficient` for each feature. To compare between the continuous features, Howso orders the resulting features by highest `R^2` and `Spearman coefficient` values which are unitless and thus comparable between continuous features. This order represents a probable rank order of feature predictability. However, it is important that further analysis is performed to better understand these results, as they are dataset dependent.\n",
    "\n",
    "For nominal features, Howso provides information on the feature's accuracy, precision, and recall as well as the Matthews Correlation Coefficient. This provides a holistic view as to whether the feature can be predicted given the remaining information. \n",
    "\n",
    "**Note**: Engine insights provide a baseline set of information based on an analysis across all features that points users in the correct direction of feature predictability. If an analysis is performed with a specified target feature, this analysis will become more precise, but the directionality will generally not change."
   ]
  },
  {
   "cell_type": "code",
   "execution_count": 5,
   "id": "04731f4b",
   "metadata": {
    "execution": {
     "iopub.execute_input": "2025-01-29T16:24:38.218340Z",
     "iopub.status.busy": "2025-01-29T16:24:38.218162Z",
     "iopub.status.idle": "2025-01-29T16:24:38.248321Z",
     "shell.execute_reply": "2025-01-29T16:24:38.247814Z"
    }
   },
   "outputs": [
    {
     "data": {
      "text/html": [
       "<div>\n",
       "<style scoped>\n",
       "    .dataframe tbody tr th:only-of-type {\n",
       "        vertical-align: middle;\n",
       "    }\n",
       "\n",
       "    .dataframe tbody tr th {\n",
       "        vertical-align: top;\n",
       "    }\n",
       "\n",
       "    .dataframe thead th {\n",
       "        text-align: right;\n",
       "    }\n",
       "</style>\n",
       "<table border=\"1\" class=\"dataframe\">\n",
       "  <thead>\n",
       "    <tr style=\"text-align: right;\">\n",
       "      <th></th>\n",
       "      <th>target</th>\n",
       "      <th>sepal-width</th>\n",
       "      <th>sepal-length</th>\n",
       "      <th>petal-width</th>\n",
       "      <th>petal-length</th>\n",
       "    </tr>\n",
       "  </thead>\n",
       "  <tbody>\n",
       "    <tr>\n",
       "      <th>accuracy</th>\n",
       "      <td>0.953333</td>\n",
       "      <td>NaN</td>\n",
       "      <td>NaN</td>\n",
       "      <td>NaN</td>\n",
       "      <td>NaN</td>\n",
       "    </tr>\n",
       "    <tr>\n",
       "      <th>missing_value_accuracy</th>\n",
       "      <td>NaN</td>\n",
       "      <td>0.000000</td>\n",
       "      <td>NaN</td>\n",
       "      <td>NaN</td>\n",
       "      <td>NaN</td>\n",
       "    </tr>\n",
       "    <tr>\n",
       "      <th>rmse</th>\n",
       "      <td>NaN</td>\n",
       "      <td>0.280963</td>\n",
       "      <td>0.335095</td>\n",
       "      <td>0.168586</td>\n",
       "      <td>0.267392</td>\n",
       "    </tr>\n",
       "    <tr>\n",
       "      <th>mcc</th>\n",
       "      <td>0.930062</td>\n",
       "      <td>NaN</td>\n",
       "      <td>NaN</td>\n",
       "      <td>NaN</td>\n",
       "      <td>NaN</td>\n",
       "    </tr>\n",
       "    <tr>\n",
       "      <th>precision</th>\n",
       "      <td>0.953448</td>\n",
       "      <td>NaN</td>\n",
       "      <td>NaN</td>\n",
       "      <td>NaN</td>\n",
       "      <td>NaN</td>\n",
       "    </tr>\n",
       "    <tr>\n",
       "      <th>spearman_coeff</th>\n",
       "      <td>NaN</td>\n",
       "      <td>0.753035</td>\n",
       "      <td>0.883179</td>\n",
       "      <td>0.881477</td>\n",
       "      <td>0.893853</td>\n",
       "    </tr>\n",
       "    <tr>\n",
       "      <th>adjusted_smape</th>\n",
       "      <td>NaN</td>\n",
       "      <td>6.822389</td>\n",
       "      <td>4.563624</td>\n",
       "      <td>15.227222</td>\n",
       "      <td>6.263333</td>\n",
       "    </tr>\n",
       "    <tr>\n",
       "      <th>r2</th>\n",
       "      <td>NaN</td>\n",
       "      <td>0.592732</td>\n",
       "      <td>0.835142</td>\n",
       "      <td>0.950873</td>\n",
       "      <td>0.976879</td>\n",
       "    </tr>\n",
       "    <tr>\n",
       "      <th>recall</th>\n",
       "      <td>0.953333</td>\n",
       "      <td>NaN</td>\n",
       "      <td>NaN</td>\n",
       "      <td>NaN</td>\n",
       "      <td>NaN</td>\n",
       "    </tr>\n",
       "    <tr>\n",
       "      <th>mae</th>\n",
       "      <td>0.057205</td>\n",
       "      <td>0.210300</td>\n",
       "      <td>0.271192</td>\n",
       "      <td>0.128184</td>\n",
       "      <td>0.204766</td>\n",
       "    </tr>\n",
       "    <tr>\n",
       "      <th>smape</th>\n",
       "      <td>NaN</td>\n",
       "      <td>6.936932</td>\n",
       "      <td>4.603040</td>\n",
       "      <td>17.363381</td>\n",
       "      <td>6.401802</td>\n",
       "    </tr>\n",
       "  </tbody>\n",
       "</table>\n",
       "</div>"
      ],
      "text/plain": [
       "                          target  sepal-width  sepal-length  petal-width  \\\n",
       "accuracy                0.953333          NaN           NaN          NaN   \n",
       "missing_value_accuracy       NaN     0.000000           NaN          NaN   \n",
       "rmse                         NaN     0.280963      0.335095     0.168586   \n",
       "mcc                     0.930062          NaN           NaN          NaN   \n",
       "precision               0.953448          NaN           NaN          NaN   \n",
       "spearman_coeff               NaN     0.753035      0.883179     0.881477   \n",
       "adjusted_smape               NaN     6.822389      4.563624    15.227222   \n",
       "r2                           NaN     0.592732      0.835142     0.950873   \n",
       "recall                  0.953333          NaN           NaN          NaN   \n",
       "mae                     0.057205     0.210300      0.271192     0.128184   \n",
       "smape                        NaN     6.936932      4.603040    17.363381   \n",
       "\n",
       "                        petal-length  \n",
       "accuracy                         NaN  \n",
       "missing_value_accuracy           NaN  \n",
       "rmse                        0.267392  \n",
       "mcc                              NaN  \n",
       "precision                        NaN  \n",
       "spearman_coeff              0.893853  \n",
       "adjusted_smape              6.263333  \n",
       "r2                          0.976879  \n",
       "recall                           NaN  \n",
       "mae                         0.204766  \n",
       "smape                       6.401802  "
      ]
     },
     "execution_count": 5,
     "metadata": {},
     "output_type": "execute_result"
    }
   ],
   "source": [
    "pred_stats = t.get_prediction_stats(details = {'prediction_stats': True})\n",
    "\n",
    "pred_stats"
   ]
  },
  {
   "cell_type": "markdown",
   "id": "a771e834",
   "metadata": {},
   "source": [
    "#### Metrics for continuous features"
   ]
  },
  {
   "cell_type": "code",
   "execution_count": 6,
   "id": "8e3a5038",
   "metadata": {
    "execution": {
     "iopub.execute_input": "2025-01-29T16:24:38.250154Z",
     "iopub.status.busy": "2025-01-29T16:24:38.249973Z",
     "iopub.status.idle": "2025-01-29T16:24:38.260618Z",
     "shell.execute_reply": "2025-01-29T16:24:38.260133Z"
    }
   },
   "outputs": [
    {
     "data": {
      "text/html": [
       "<div>\n",
       "<style scoped>\n",
       "    .dataframe tbody tr th:only-of-type {\n",
       "        vertical-align: middle;\n",
       "    }\n",
       "\n",
       "    .dataframe tbody tr th {\n",
       "        vertical-align: top;\n",
       "    }\n",
       "\n",
       "    .dataframe thead th {\n",
       "        text-align: right;\n",
       "    }\n",
       "</style>\n",
       "<table border=\"1\" class=\"dataframe\">\n",
       "  <thead>\n",
       "    <tr style=\"text-align: right;\">\n",
       "      <th></th>\n",
       "      <th>mean</th>\n",
       "      <th>stddev</th>\n",
       "      <th>r2</th>\n",
       "      <th>spearman_coeff</th>\n",
       "      <th>mae</th>\n",
       "      <th>rmse</th>\n",
       "    </tr>\n",
       "  </thead>\n",
       "  <tbody>\n",
       "    <tr>\n",
       "      <th>petal-length</th>\n",
       "      <td>3.758667</td>\n",
       "      <td>1.758529</td>\n",
       "      <td>0.976879</td>\n",
       "      <td>0.893853</td>\n",
       "      <td>0.204766</td>\n",
       "      <td>0.267392</td>\n",
       "    </tr>\n",
       "    <tr>\n",
       "      <th>sepal-length</th>\n",
       "      <td>5.843333</td>\n",
       "      <td>0.825301</td>\n",
       "      <td>0.835142</td>\n",
       "      <td>0.883179</td>\n",
       "      <td>0.271192</td>\n",
       "      <td>0.335095</td>\n",
       "    </tr>\n",
       "    <tr>\n",
       "      <th>sepal-width</th>\n",
       "      <td>3.049650</td>\n",
       "      <td>0.440260</td>\n",
       "      <td>0.592732</td>\n",
       "      <td>0.753035</td>\n",
       "      <td>0.210300</td>\n",
       "      <td>0.280963</td>\n",
       "    </tr>\n",
       "    <tr>\n",
       "      <th>petal-width</th>\n",
       "      <td>1.198667</td>\n",
       "      <td>0.760613</td>\n",
       "      <td>NaN</td>\n",
       "      <td>NaN</td>\n",
       "      <td>NaN</td>\n",
       "      <td>NaN</td>\n",
       "    </tr>\n",
       "    <tr>\n",
       "      <th>target</th>\n",
       "      <td>NaN</td>\n",
       "      <td>NaN</td>\n",
       "      <td>NaN</td>\n",
       "      <td>NaN</td>\n",
       "      <td>0.057205</td>\n",
       "      <td>NaN</td>\n",
       "    </tr>\n",
       "  </tbody>\n",
       "</table>\n",
       "</div>"
      ],
      "text/plain": [
       "                  mean    stddev        r2  spearman_coeff       mae      rmse\n",
       "petal-length  3.758667  1.758529  0.976879        0.893853  0.204766  0.267392\n",
       "sepal-length  5.843333  0.825301  0.835142        0.883179  0.271192  0.335095\n",
       "sepal-width   3.049650  0.440260  0.592732        0.753035  0.210300  0.280963\n",
       "petal-width   1.198667  0.760613       NaN             NaN       NaN       NaN\n",
       "target             NaN       NaN       NaN             NaN  0.057205       NaN"
      ]
     },
     "execution_count": 6,
     "metadata": {},
     "output_type": "execute_result"
    }
   ],
   "source": [
    "u_eps = marginal_stats.loc[['mean','stddev'], marginal_stats.columns != 'target']\n",
    "cts_stats = pred_stats.loc[['r2','spearman_coeff','mae','rmse'], marginal_stats.columns != 'target']\n",
    "cts_results = pd.concat([u_eps,cts_stats]).transpose().sort_values(by='r2',ascending=False)\n",
    "cts_results"
   ]
  },
  {
   "cell_type": "markdown",
   "id": "0a0a41f9",
   "metadata": {},
   "source": [
    "#### Metrics for nominal features"
   ]
  },
  {
   "cell_type": "code",
   "execution_count": 7,
   "id": "e43dbdc9",
   "metadata": {
    "execution": {
     "iopub.execute_input": "2025-01-29T16:24:38.262247Z",
     "iopub.status.busy": "2025-01-29T16:24:38.262074Z",
     "iopub.status.idle": "2025-01-29T16:24:38.268072Z",
     "shell.execute_reply": "2025-01-29T16:24:38.267611Z"
    }
   },
   "outputs": [
    {
     "data": {
      "text/html": [
       "<div>\n",
       "<style scoped>\n",
       "    .dataframe tbody tr th:only-of-type {\n",
       "        vertical-align: middle;\n",
       "    }\n",
       "\n",
       "    .dataframe tbody tr th {\n",
       "        vertical-align: top;\n",
       "    }\n",
       "\n",
       "    .dataframe thead th {\n",
       "        text-align: right;\n",
       "    }\n",
       "</style>\n",
       "<table border=\"1\" class=\"dataframe\">\n",
       "  <thead>\n",
       "    <tr style=\"text-align: right;\">\n",
       "      <th></th>\n",
       "      <th>target</th>\n",
       "    </tr>\n",
       "  </thead>\n",
       "  <tbody>\n",
       "    <tr>\n",
       "      <th>accuracy</th>\n",
       "      <td>0.953333</td>\n",
       "    </tr>\n",
       "    <tr>\n",
       "      <th>precision</th>\n",
       "      <td>0.953448</td>\n",
       "    </tr>\n",
       "    <tr>\n",
       "      <th>recall</th>\n",
       "      <td>0.953333</td>\n",
       "    </tr>\n",
       "  </tbody>\n",
       "</table>\n",
       "</div>"
      ],
      "text/plain": [
       "             target\n",
       "accuracy   0.953333\n",
       "precision  0.953448\n",
       "recall     0.953333"
      ]
     },
     "execution_count": 7,
     "metadata": {},
     "output_type": "execute_result"
    }
   ],
   "source": [
    "target_stats = pred_stats[['target']]\n",
    "target_stats.loc[['accuracy','precision','recall']]"
   ]
  },
  {
   "cell_type": "markdown",
   "id": "a7857b7a",
   "metadata": {},
   "source": [
    "### Insight 3: Which features are important?\n",
    "\n",
    "Feature importance is quantified by a combined analysis of how much each feature contributes to the prediction of another feature and whether that contribution improves or harms the accuracy of the prediction. For a given target (i.e., action, predicted) feature, Howso can calculate the [Feature Contribution](https://docs.howso.com/getting_started/terminology.html#contribution), which \n",
    "is the difference between a prediction of a target feature when each context feature is considered versus not considered during the prediction.\n",
    "\n",
    "Howso can also calculate the [Mean Decrease in Accuracy](https://docs.howso.com/getting_started/terminology.html#mda) (MDA). Please see the [feature importance user guide](https://docs.howso.com/user_guide/advanced_capabilities/feature_importance.html) page for more details.\n",
    "\n",
    "Howso summarizes the feature contribution results for each feature within matrices. To read a matrix, the label of each row (listed on the y-axis) indicates the target feature. Moving from left to right across each row of a matrix, the feature contribution of each context feature for the target feature prediction can be identified. \n",
    "\n",
    "Note, the matrices also provide some insight into directional causality between features. This insight is useful for data scientists performing an exploratory data analysis (EDA)."
   ]
  },
  {
   "cell_type": "code",
   "execution_count": 8,
   "id": "23698699",
   "metadata": {
    "execution": {
     "iopub.execute_input": "2025-01-29T16:24:38.269860Z",
     "iopub.status.busy": "2025-01-29T16:24:38.269523Z",
     "iopub.status.idle": "2025-01-29T16:24:45.287542Z",
     "shell.execute_reply": "2025-01-29T16:24:45.286919Z"
    }
   },
   "outputs": [
    {
     "name": "stdout",
     "output_type": "stream",
     "text": [
      "   petal-width  sepal-width   target  petal-length\n",
      "0     0.196488     0.164413  0.15256      0.251838\n"
     ]
    },
    {
     "name": "stdout",
     "output_type": "stream",
     "text": [
      "   sepal-length  sepal-width    target  petal-length\n",
      "0      0.170937      0.09153  0.199998      0.202368\n"
     ]
    },
    {
     "name": "stdout",
     "output_type": "stream",
     "text": [
      "   sepal-length  petal-width    target  petal-length\n",
      "0       0.13419     0.129201  0.060973      0.112409\n"
     ]
    },
    {
     "name": "stdout",
     "output_type": "stream",
     "text": [
      "   sepal-length  petal-width  sepal-width  petal-length\n",
      "0       0.09502     0.238882     0.072833         0.222\n"
     ]
    },
    {
     "name": "stdout",
     "output_type": "stream",
     "text": [
      "   sepal-length  petal-width  sepal-width    target\n",
      "0       0.41022     0.441517     0.188664  0.435029\n"
     ]
    }
   ],
   "source": [
    "contrib_matrix = t.get_contribution_matrix()"
   ]
  },
  {
   "cell_type": "code",
   "execution_count": 9,
   "id": "afc380b6",
   "metadata": {
    "execution": {
     "iopub.execute_input": "2025-01-29T16:24:45.289421Z",
     "iopub.status.busy": "2025-01-29T16:24:45.289214Z",
     "iopub.status.idle": "2025-01-29T16:24:46.702839Z",
     "shell.execute_reply": "2025-01-29T16:24:46.702113Z"
    }
   },
   "outputs": [
    {
     "name": "stderr",
     "output_type": "stream",
     "text": [
      "/home/runner/.local/lib/python3.9/site-packages/_plotly_utils/basevalidators.py:2596: DeprecationWarning:\n",
      "\n",
      "*scattermapbox* is deprecated! Use *scattermap* instead. Learn more at: https://plotly.com/python/mapbox-to-maplibre/\n",
      "\n"
     ]
    },
    {
     "data": {
      "image/png": "[encoded data removed]"
     },
     "metadata": {},
     "output_type": "display_data"
    }
   ],
   "source": [
    "# Plot the heatmap\n",
    "fig = px.imshow(round(contrib_matrix, 2), color_continuous_scale='RdBu', text_auto=True)\n",
    "fig.show()"
   ]
  },
  {
   "cell_type": "markdown",
   "id": "17307162",
   "metadata": {},
   "source": [
    "### Insight 4: Which cases are anomalous?\n",
    "\n",
    "Howso provides insights into the anomalies within your dataset, utilizing the concept of [Conviction](https://docs.howso.com/getting_started/terminology.html#conviction) or how surprising a single data point is relative to the remaining data. The higher the surprisal (lower the conviction), the more likely the data point is anomalous. An outlier is classified as an anomalous point that is very far away from any other data.\n",
    "\n",
    "Howso also has the ability to classify inliers, which are anomalous points that are very near (e.g., essentially overlapping) with another data point. More information is provided in the `Anomaly_detection.ipynb` recipe.\n",
    "\n",
    "As assessment of anomalous data points are an important tool for data preparation and results explanation within a data analytics workflow."
   ]
  },
  {
   "cell_type": "code",
   "execution_count": 10,
   "id": "09308754",
   "metadata": {
    "execution": {
     "iopub.execute_input": "2025-01-29T16:24:46.705276Z",
     "iopub.status.busy": "2025-01-29T16:24:46.704875Z",
     "iopub.status.idle": "2025-01-29T16:24:46.744827Z",
     "shell.execute_reply": "2025-01-29T16:24:46.744270Z"
    }
   },
   "outputs": [],
   "source": [
    "t.react_into_features(\n",
    "    distance_contribution=True,\n",
    "    familiarity_conviction_addition=True,\n",
    "    familiarity_conviction_removal=True,\n",
    "    influence_weight_entropy=True,\n",
    "    p_value_of_addition=True,\n",
    "    p_value_of_removal=True,\n",
    "    similarity_conviction=True\n",
    ")\n",
    "\n",
    "\n",
    "conviction = t.get_cases(\n",
    "    session=t.active_session,\n",
    "    features=df.columns.to_list() + ['distance_contribution', 'similarity_conviction']\n",
    ")\n",
    "\n",
    "# Threshold to determine which cases will be deemed anomalous\n",
    "conviction_threshold = 1.0\n",
    "\n",
    "# Extract the anomalous cases\n",
    "low_conviction = conviction[\n",
    "    conviction['similarity_conviction'] <= conviction_threshold\n",
    "].sort_values('similarity_conviction', ascending=True)\n",
    "\n",
    "# Average distance contribution will be used to determine if a case is an outlier or inlier\n",
    "average_dist_contribution = low_conviction['distance_contribution'].mean()\n",
    "\n",
    "# A case with distance contribution greater than average will be tagged as outlier, and vice versa for inliers\n",
    "category = [\n",
    "    'outlier' if d > average_dist_contribution else\n",
    "    np.nan for d in low_conviction['distance_contribution']\n",
    "]\n",
    "low_conviction['category'] = category"
   ]
  },
  {
   "cell_type": "markdown",
   "id": "2a4bd9e8",
   "metadata": {},
   "source": [
    "The anomalous cases, in order of lowest to highest conviction"
   ]
  },
  {
   "cell_type": "code",
   "execution_count": 11,
   "id": "1597da66",
   "metadata": {
    "execution": {
     "iopub.execute_input": "2025-01-29T16:24:46.747331Z",
     "iopub.status.busy": "2025-01-29T16:24:46.746880Z",
     "iopub.status.idle": "2025-01-29T16:24:46.757097Z",
     "shell.execute_reply": "2025-01-29T16:24:46.756619Z"
    }
   },
   "outputs": [
    {
     "data": {
      "text/html": [
       "<div>\n",
       "<style scoped>\n",
       "    .dataframe tbody tr th:only-of-type {\n",
       "        vertical-align: middle;\n",
       "    }\n",
       "\n",
       "    .dataframe tbody tr th {\n",
       "        vertical-align: top;\n",
       "    }\n",
       "\n",
       "    .dataframe thead th {\n",
       "        text-align: right;\n",
       "    }\n",
       "</style>\n",
       "<table border=\"1\" class=\"dataframe\">\n",
       "  <thead>\n",
       "    <tr style=\"text-align: right;\">\n",
       "      <th></th>\n",
       "      <th>sepal-length</th>\n",
       "      <th>sepal-width</th>\n",
       "      <th>petal-length</th>\n",
       "      <th>petal-width</th>\n",
       "      <th>target</th>\n",
       "      <th>distance_contribution</th>\n",
       "      <th>similarity_conviction</th>\n",
       "      <th>category</th>\n",
       "    </tr>\n",
       "  </thead>\n",
       "  <tbody>\n",
       "    <tr>\n",
       "      <th>87</th>\n",
       "      <td>4.7</td>\n",
       "      <td>NaN</td>\n",
       "      <td>1.3</td>\n",
       "      <td>0.2</td>\n",
       "      <td>0</td>\n",
       "      <td>23.519544</td>\n",
       "      <td>0.064324</td>\n",
       "      <td>outlier</td>\n",
       "    </tr>\n",
       "    <tr>\n",
       "      <th>85</th>\n",
       "      <td>4.6</td>\n",
       "      <td>NaN</td>\n",
       "      <td>1.4</td>\n",
       "      <td>0.3</td>\n",
       "      <td>0</td>\n",
       "      <td>23.519479</td>\n",
       "      <td>0.065137</td>\n",
       "      <td>outlier</td>\n",
       "    </tr>\n",
       "    <tr>\n",
       "      <th>135</th>\n",
       "      <td>6.9</td>\n",
       "      <td>NaN</td>\n",
       "      <td>5.4</td>\n",
       "      <td>2.1</td>\n",
       "      <td>2</td>\n",
       "      <td>23.553165</td>\n",
       "      <td>0.086563</td>\n",
       "      <td>outlier</td>\n",
       "    </tr>\n",
       "    <tr>\n",
       "      <th>65</th>\n",
       "      <td>5.9</td>\n",
       "      <td>NaN</td>\n",
       "      <td>4.8</td>\n",
       "      <td>1.8</td>\n",
       "      <td>1</td>\n",
       "      <td>23.473198</td>\n",
       "      <td>0.143906</td>\n",
       "      <td>outlier</td>\n",
       "    </tr>\n",
       "    <tr>\n",
       "      <th>67</th>\n",
       "      <td>6.3</td>\n",
       "      <td>NaN</td>\n",
       "      <td>4.7</td>\n",
       "      <td>1.6</td>\n",
       "      <td>1</td>\n",
       "      <td>23.439590</td>\n",
       "      <td>0.145260</td>\n",
       "      <td>outlier</td>\n",
       "    </tr>\n",
       "    <tr>\n",
       "      <th>142</th>\n",
       "      <td>6.8</td>\n",
       "      <td>NaN</td>\n",
       "      <td>4.8</td>\n",
       "      <td>1.4</td>\n",
       "      <td>1</td>\n",
       "      <td>23.462490</td>\n",
       "      <td>0.178323</td>\n",
       "      <td>outlier</td>\n",
       "    </tr>\n",
       "    <tr>\n",
       "      <th>108</th>\n",
       "      <td>6.1</td>\n",
       "      <td>NaN</td>\n",
       "      <td>4.9</td>\n",
       "      <td>1.8</td>\n",
       "      <td>2</td>\n",
       "      <td>23.530787</td>\n",
       "      <td>0.181646</td>\n",
       "      <td>outlier</td>\n",
       "    </tr>\n",
       "  </tbody>\n",
       "</table>\n",
       "</div>"
      ],
      "text/plain": [
       "     sepal-length  sepal-width  petal-length  petal-width  target  \\\n",
       "87            4.7          NaN           1.3          0.2       0   \n",
       "85            4.6          NaN           1.4          0.3       0   \n",
       "135           6.9          NaN           5.4          2.1       2   \n",
       "65            5.9          NaN           4.8          1.8       1   \n",
       "67            6.3          NaN           4.7          1.6       1   \n",
       "142           6.8          NaN           4.8          1.4       1   \n",
       "108           6.1          NaN           4.9          1.8       2   \n",
       "\n",
       "     distance_contribution  similarity_conviction category  \n",
       "87               23.519544               0.064324  outlier  \n",
       "85               23.519479               0.065137  outlier  \n",
       "135              23.553165               0.086563  outlier  \n",
       "65               23.473198               0.143906  outlier  \n",
       "67               23.439590               0.145260  outlier  \n",
       "142              23.462490               0.178323  outlier  \n",
       "108              23.530787               0.181646  outlier  "
      ]
     },
     "execution_count": 11,
     "metadata": {},
     "output_type": "execute_result"
    }
   ],
   "source": [
    "low_conviction[low_conviction['category']=='outlier']"
   ]
  },
  {
   "cell_type": "code",
   "execution_count": 12,
   "id": "7b4f7eb8",
   "metadata": {
    "execution": {
     "iopub.execute_input": "2025-01-29T16:24:46.758657Z",
     "iopub.status.busy": "2025-01-29T16:24:46.758479Z",
     "iopub.status.idle": "2025-01-29T16:24:46.762320Z",
     "shell.execute_reply": "2025-01-29T16:24:46.761854Z"
    }
   },
   "outputs": [
    {
     "data": {
      "text/plain": [
       "'There are 7 potential outliers in the dataset.'"
      ]
     },
     "metadata": {},
     "output_type": "display_data"
    }
   ],
   "source": [
    "display(f\"There are {len(low_conviction[low_conviction['category']=='outlier'])} potential outliers in the dataset.\")"
   ]
  }
 ],
 "metadata": {
  "kernelspec": {
   "display_name": "Python 3 (ipykernel)",
   "language": "python",
   "name": "python3"
  },
  "language_info": {
   "codemirror_mode": {
    "name": "ipython",
    "version": 3
   },
   "file_extension": ".py",
   "mimetype": "text/x-python",
   "name": "python",
   "nbconvert_exporter": "python",
   "pygments_lexer": "ipython3",
   "version": "3.9.21"
  },
  "vscode": {
   "interpreter": {
    "hash": "a7b40af3b3dcf6c5b8a920c6917b3b1352b9482e2d98da38730ccde8fc2e79a6"
   }
  }
 },
 "nbformat": 4,
 "nbformat_minor": 5
}
