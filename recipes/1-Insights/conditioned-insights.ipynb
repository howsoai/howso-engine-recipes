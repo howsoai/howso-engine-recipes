{
 "cells": [
  {
   "cell_type": "markdown",
   "metadata": {},
   "source": [
    "# Conditioned Insights\n",
    "\n",
    "## Overview\n",
    "\n",
    "Howso Engine enables powerful prediction insights through a multitude of prediction statistics views. These prediction statistics encompass many of the commonly-used prediction performance metrics such as accuracy or mean squared error. Howso also includes tools to condition the statistics for detailed analyses between subgroups. An understanding of how your dataset's predictability changes under a variety of conditions provides out of the box insights on your data without the need to build multiple machine learning models.\n",
    "\n",
    "For this recipe, we will use the `Adult` dataset and explore how the prediction performance differs by `sex`."
   ]
  },
  {
   "cell_type": "code",
   "execution_count": 1,
   "metadata": {
    "execution": {
     "iopub.execute_input": "2024-07-05T15:20:10.787945Z",
     "iopub.status.busy": "2024-07-05T15:20:10.787755Z",
     "iopub.status.idle": "2024-07-05T15:20:11.345764Z",
     "shell.execute_reply": "2024-07-05T15:20:11.345134Z"
    }
   },
   "outputs": [],
   "source": [
    "import os\n",
    "\n",
    "import plotly.io as pio\n",
    "from pmlb import fetch_data\n",
    "\n",
    "from howso.engine import Trainee\n",
    "from howso.utilities import infer_feature_attributes\n",
    "\n",
    "pio.renderers.default = os.getenv(\"HOWSO_RECIPE_RENDERER\", \"notebook\")"
   ]
  },
  {
   "cell_type": "markdown",
   "metadata": {
    "vscode": {
     "languageId": "plaintext"
    }
   },
   "source": [
    "# Section 1: Load, Train, Analyze\n",
    "\n",
    "The [basic workflow guide](https://docs.howso.com/user_guide/basics/basic_workflow.html) goes into more specifics about the individual details of this section. This recipe will focus more on the insights."
   ]
  },
  {
   "cell_type": "code",
   "execution_count": 2,
   "metadata": {
    "execution": {
     "iopub.execute_input": "2024-07-05T15:20:11.348906Z",
     "iopub.status.busy": "2024-07-05T15:20:11.348706Z",
     "iopub.status.idle": "2024-07-05T15:20:11.428037Z",
     "shell.execute_reply": "2024-07-05T15:20:11.427387Z"
    }
   },
   "outputs": [],
   "source": [
    "df = fetch_data('adult', local_cache_dir=\"../../data/adult\")\n",
    "\n",
    "# Subsample the data to ensure the example runs quickly\n",
    "df = df.sample(2000)\n",
    "df = df.replace({\"sex\": {0: \"female\", 1: \"male\"}})\n",
    "\n",
    "features = infer_feature_attributes(df)\n",
    "\n",
    "# Split out the last row for a prediction set and drop the Action Feature\n",
    "test_case = df.iloc[[-1]].copy()\n",
    "\n",
    "# Set the sex to be female\n",
    "test_case.at[0, 'sex'] = 'female'\n",
    "\n",
    "test_case = test_case.drop('target', axis=1)"
   ]
  },
  {
   "cell_type": "code",
   "execution_count": 3,
   "metadata": {
    "execution": {
     "iopub.execute_input": "2024-07-05T15:20:11.431076Z",
     "iopub.status.busy": "2024-07-05T15:20:11.430856Z",
     "iopub.status.idle": "2024-07-05T15:20:57.009601Z",
     "shell.execute_reply": "2024-07-05T15:20:57.008966Z"
    }
   },
   "outputs": [],
   "source": [
    "t = Trainee(features=features)\n",
    "\n",
    "action_features = ['target']\n",
    "context_features = features.get_names(without=action_features)\n",
    "\n",
    "t.train(df)\n",
    "\n",
    "t.analyze(context_features=context_features, action_features=action_features)"
   ]
  },
  {
   "cell_type": "markdown",
   "metadata": {},
   "source": [
    "# Prediction Stats\n",
    "\n",
    "Howso provides a variety of prediction stats based on the variable type, whether it is continuous or nominal. Prediction stats for nominal variables include accuracy, precision, recall, and [Matthews Correlation Coefficient](https://en.wikipedia.org/wiki/Phi_coefficient), while for continuous variables they include mean absolute error (MAE), root mean squared error, r2, and spearman coefficient. MAE also appears for nominal values, however they are a form of weighted accuracy using [categorical action probabilities](https://docs.howso.com/getting_started/terminology.html#categorical-action-probabilities). These prediction stats give insight into the predictive performance of the Trainee as well as insights into the data itself. \n",
    "\n",
    "The [bias_mitigation.ipynb](https://github.com/howsoai/howso-engine-recipes/blob/main/recipes/2-Workflows/bias_mitigation/bias_mitigation.ipynb) recipe highlights looking for bias in the data through the analysis of individual features. This recipe demonstrates how insights like overall data bias can be explored."
   ]
  },
  {
   "cell_type": "markdown",
   "metadata": {},
   "source": [
    "### Global Prediction Stats\n",
    "\n",
    "\n",
    "Global prediction stats provide an overall view of the Trainee's accuracy. This can be a great introductory look into the usability of the data and Trainee. Most machine learning models are evaluated on similiar global metrics. \n",
    "\n",
    "Global statistics show the aggregate performance of all of the cases in your data while local statisitics only show the aggregate performance of the cases in the region you specified. \n",
    "\n",
    "For more information on the Global statistics, see the [Global vs Local](https://docs.howso.com/user_guide/concepts/global_vs_local.html) documentation."
   ]
  },
  {
   "cell_type": "code",
   "execution_count": 4,
   "metadata": {
    "execution": {
     "iopub.execute_input": "2024-07-05T15:20:57.012899Z",
     "iopub.status.busy": "2024-07-05T15:20:57.012454Z",
     "iopub.status.idle": "2024-07-05T15:20:57.915911Z",
     "shell.execute_reply": "2024-07-05T15:20:57.915369Z"
    }
   },
   "outputs": [
    {
     "data": {
      "text/plain": [
       "accuracy     0.849000\n",
       "mae          0.224365\n",
       "recall       0.753986\n",
       "precision    0.786435\n",
       "mcc          0.539446\n",
       "Name: target, dtype: float64"
      ]
     },
     "execution_count": 4,
     "metadata": {},
     "output_type": "execute_result"
    }
   ],
   "source": [
    "global_stats = t.react_aggregate(\n",
    "    prediction_stats_action_feature = action_features[0],\n",
    "    details = {\"prediction_stats\": True}\n",
    ")\n",
    "\n",
    "global_stats['target'].dropna()"
   ]
  },
  {
   "cell_type": "markdown",
   "metadata": {},
   "source": [
    "The various prediction stats for the action feature are shown above. For the rest of this recipe, we will focus on Accuracy, however all of the prediction stats will be avaiable during any of the following methods. \n",
    "\n",
    "We can see that Trainee's overall performance through this accuracy, however we might be interested in specific cases or regions in the data, which can be explored using local prediction stats. "
   ]
  },
  {
   "cell_type": "markdown",
   "metadata": {},
   "source": [
    "### Local Prediction Stats\n",
    "\n",
    "In the cell above, we showed the global prediction stats, but now let's look at the performance for our individual test case. In addition to global prediction stats, Howso has the unique ability to provide local prediction stats. These prediction stats are more finely tuned to the exact case(s) in which you are interested. This can be extremely valuable for workflows including data exploration and it provides more nuanced performance metrics. The more variance there is in the performance of dataset from region to region, the more powerful this ability is."
   ]
  },
  {
   "cell_type": "code",
   "execution_count": 5,
   "metadata": {
    "execution": {
     "iopub.execute_input": "2024-07-05T15:20:57.953204Z",
     "iopub.status.busy": "2024-07-05T15:20:57.952792Z",
     "iopub.status.idle": "2024-07-05T15:20:58.143117Z",
     "shell.execute_reply": "2024-07-05T15:20:58.142566Z"
    }
   },
   "outputs": [
    {
     "data": {
      "text/plain": [
       "accuracy     0.733333\n",
       "mae          0.348199\n",
       "recall       0.527950\n",
       "precision    0.555556\n",
       "mcc          0.078811\n",
       "Name: target, dtype: float64"
      ]
     },
     "execution_count": 5,
     "metadata": {},
     "output_type": "execute_result"
    }
   ],
   "source": [
    "results = t.react(\n",
    "    test_case,\n",
    "    context_features=context_features,\n",
    "    action_features=action_features,\n",
    "    details = {\n",
    "        \"prediction_stats\": True\n",
    "    }\n",
    ")\n",
    "\n",
    "local_stats = results['details']['prediction_stats']['target']\n",
    "local_stats.dropna()"
   ]
  },
  {
   "cell_type": "markdown",
   "metadata": {},
   "source": [
    "We can see how the local prediction stats differ from the global stats. Using local metrics, we can drill into specific cases. For example, in our test case which is manually set to `female`, we can get insights into how well the Trainee fits similiar cases. In the local space, this does not gurantee all of the other cases in the local space are also female, however it increases the chances that they are.\n",
    "\n",
    "If we see the local accuracy is significantly lower than the global accuracy, the Trainee does not have the same predictive power within this region of the data, compared to it's overall performance. This could indicate a need for new and/or different training data to improve the Trainee's performance in this region."
   ]
  },
  {
   "cell_type": "markdown",
   "metadata": {},
   "source": [
    "# Conditioned Prediction Stats\n",
    "\n",
    "Zooming back out to global prediction stats, Howso also has the ability to condition the prediction stats by providing conditions for the context set and action set. Similar to context features and action featuers, the context set is the set queried to make predictions and the action set is the set that the predictions are made for. In other words, the data from the context set is the known information you are using to make a prediction and the action set is unknown information you are trying to predict.\n",
    "\n",
    "This conditioning gives us the ability to segment the context and action sets to give us more detailed insights in the relationship as well as the Trainee's predictive performance between context sets."
   ]
  },
  {
   "cell_type": "markdown",
   "metadata": {},
   "source": [
    "### Action Condition Only\n",
    "\n",
    "By conditioning on an action condition only, prediction stats for a certain segment are returned by holding out each case from the action set respectively and making predictions in a Leave One Out (LOO) fashion. Thus, using this method, the context set consists of every case except the actual case being predicted at the time. After each case from the action set is predicted, the case is returned to the context set, making it available to be queried for other predictions.\n",
    "\n",
    "For example, if we specify that the action condition is all females, then when we get return the prediction stats, the prediction stats are only for females in the dataset. The prediction stats for each female case is calcluated, aggregated, and then returned. However, for each female case, any other case can be queried when making a prediction. This is exactly how a standard Howso prediction is calculated."
   ]
  },
  {
   "cell_type": "code",
   "execution_count": 6,
   "metadata": {
    "execution": {
     "iopub.execute_input": "2024-07-05T15:20:58.145726Z",
     "iopub.status.busy": "2024-07-05T15:20:58.145486Z",
     "iopub.status.idle": "2024-07-05T15:20:59.683448Z",
     "shell.execute_reply": "2024-07-05T15:20:59.682846Z"
    }
   },
   "outputs": [
    {
     "name": "stdout",
     "output_type": "stream",
     "text": [
      "Female accuracy: 91%\n",
      "Male accuracy: 80%\n"
     ]
    }
   ],
   "source": [
    "male_accuracy = t.react_aggregate(\n",
    "    details = {\n",
    "        \"prediction_stats\": True,\n",
    "        \"action_condition\": {'sex': 'male'}\n",
    "    }\n",
    ")['target']\n",
    "female_accuracy = t.react_aggregate(\n",
    "    details = {\n",
    "        \"prediction_stats\": True,\n",
    "        \"action_condition\": {'sex': 'female'}\n",
    "    }\n",
    ")['target']\n",
    "\n",
    "print(f\"Female accuracy: {female_accuracy['accuracy']:.0%}\")\n",
    "print(f\"Male accuracy: {male_accuracy['accuracy']:.0%}\")"
   ]
  },
  {
   "cell_type": "markdown",
   "metadata": {},
   "source": [
    "If we see a difference in the model performance between males and females, this may indicate that there may be further bias that needs to be investigated and/or this Trainee is not suitable for inference on both sexes.\n",
    "\n",
    "If this Trainee and data were used to make decisions on loan acceptance based on income, these differences in performance may indicate that this Trainee and data may be suitable for predictions on males but not females. This can lead to actions like gathering better data that captures the characteristics of females better."
   ]
  },
  {
   "cell_type": "markdown",
   "metadata": {},
   "source": [
    "### Action Condition and Context Condition\n",
    "\n",
    "Another way to see how various groups can differ is by specifying both action and context conditions. Unlike when only the action condition is specified, specifying both conditions will hold out `ALL` of the action set. After a case from the action set is used to make a prediction, unlike when just the action condition is specified, that case will continue to be held out. Thus, using this method, the cases from the context set and action set remain separate during the entire process."
   ]
  },
  {
   "cell_type": "code",
   "execution_count": 7,
   "metadata": {
    "execution": {
     "iopub.execute_input": "2024-07-05T15:20:59.686144Z",
     "iopub.status.busy": "2024-07-05T15:20:59.685752Z",
     "iopub.status.idle": "2024-07-05T15:21:01.189349Z",
     "shell.execute_reply": "2024-07-05T15:21:01.188738Z"
    }
   },
   "outputs": [
    {
     "name": "stdout",
     "output_type": "stream",
     "text": [
      "Female accuracy: 87%\n",
      "Male accuracy: 77%\n"
     ]
    }
   ],
   "source": [
    "male_conditioned_accuracy = t.react_aggregate(\n",
    "    details = {\n",
    "        \"prediction_stats\": True,\n",
    "        \"context_condition\": {'sex': 'female'},\n",
    "        \"action_condition\": {'sex': 'male'}\n",
    "    }\n",
    ")['target']['accuracy'].round(2)\n",
    "female_conditioned_accuracy = t.react_aggregate(\n",
    "    details = {\n",
    "        \"prediction_stats\": True,\n",
    "        \"context_condition\": {'sex': 'male'},\n",
    "        \"action_condition\": {'sex': 'female'}\n",
    "    }\n",
    ")['target']['accuracy'].round(2)\n",
    "\n",
    "print(f\"Female accuracy: {female_conditioned_accuracy:.0%}\")\n",
    "print(f\"Male accuracy: {male_conditioned_accuracy:.0%}\")"
   ]
  },
  {
   "cell_type": "markdown",
   "metadata": {},
   "source": [
    "This method may reveal extra insights that conditioning on the action set may miss. Since the entire action set is being held out, the prediction stats are based purely on the context set. For example, we may have a situation that when only cases that are males are used to predict cases that are females, the performance drops greatly from the global predicition stats. This can provide further indications about the difference in the underlying data and relationships among females vs males. A difference in the performance when the holdouts are reversed may indicate that the data overall suits one segment vs another. "
   ]
  }
 ],
 "metadata": {
  "kernelspec": {
   "display_name": "engine_rec_311",
   "language": "python",
   "name": "python3"
  },
  "language_info": {
   "codemirror_mode": {
    "name": "ipython",
    "version": 3
   },
   "file_extension": ".py",
   "mimetype": "text/x-python",
   "name": "python",
   "nbconvert_exporter": "python",
   "pygments_lexer": "ipython3",
   "version": "3.9.19"
  }
 },
 "nbformat": 4,
 "nbformat_minor": 2
}
