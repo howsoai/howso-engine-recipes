{
 "cells": [
  {
   "cell_type": "markdown",
   "metadata": {},
   "source": [
    "# Conditioned Insights\n",
    "\n",
    "## Overview\n",
    "\n",
    "Howso Engine enables powerful prediction insights through Howso's multitude of prediction stats views. includes a variety of ways to view and condition condition statistcs\n",
    "\n",
    "For this recipe, we will use the `Adult` dataset and explore how the prediction performance differs by `sex`."
   ]
  },
  {
   "cell_type": "code",
   "execution_count": 1,
   "metadata": {},
   "outputs": [],
   "source": [
    "import os\n",
    "\n",
    "import numpy as np\n",
    "import pandas as pd\n",
    "import plotly.io as pio\n",
    "import plotly.express as px\n",
    "from pmlb import fetch_data\n",
    "\n",
    "from howso.engine import Trainee\n",
    "from howso.utilities import infer_feature_attributes\n",
    "\n",
    "pio.renderers.default = os.getenv(\"HOWSO_RECIPE_RENDERER\", \"notebook\")"
   ]
  },
  {
   "cell_type": "markdown",
   "metadata": {
    "vscode": {
     "languageId": "plaintext"
    }
   },
   "source": [
    "# Section 1: Load, Train, Analyze\n",
    "\n",
    "The [basic workflow guide](https://docs.howso.com/user_guide/basics/basic_workflow.html) goes into more specifics about the individual details of this section. This recipe will focus more on the insights."
   ]
  },
  {
   "cell_type": "code",
   "execution_count": 18,
   "metadata": {},
   "outputs": [],
   "source": [
    "df = fetch_data('adult', local_cache_dir=\"../../data/adult\")\n",
    "\n",
    "train_data = df.iloc[:-30]\n",
    "new_data = df[~df.index.isin(train_data.index)]\n",
    "features = infer_feature_attributes(train_data)\n",
    "\n",
    "# Subsample the data to ensure the example runs quickly\n",
    "df = df.sample(2000)\n",
    "\n",
    "# Split out the last row for a prediction set and drop the Action Feature\n",
    "test_case = df.iloc[[-1]].copy()\n",
    "\n",
    "# Set the sex to always be female\n",
    "test_case.at[0, 'sex'] = 0\n",
    "\n",
    "df.drop(df.index[-1], inplace=True)\n",
    "test_case = test_case.drop('target', axis=1)"
   ]
  },
  {
   "cell_type": "code",
   "execution_count": 17,
   "metadata": {},
   "outputs": [
    {
     "data": {
      "text/plain": [
       "pandas.core.frame.DataFrame"
      ]
     },
     "execution_count": 17,
     "metadata": {},
     "output_type": "execute_result"
    }
   ],
   "source": [
    "type(test_case)"
   ]
  },
  {
   "cell_type": "code",
   "execution_count": 3,
   "metadata": {},
   "outputs": [
    {
     "name": "stderr",
     "output_type": "stream",
     "text": [
      "The following parameters from configuration file will override the Amalgam parameters set in the code: {'library_path', 'trace'}\n"
     ]
    }
   ],
   "source": [
    "t = Trainee(features=features)\n",
    "\n",
    "action_features = ['target']\n",
    "context_features = features.get_names(without=action_features)\n",
    "\n",
    "t.train(df)\n",
    "\n",
    "t.analyze(context_features=context_features, action_features=action_features)\n",
    "\n",
    "t.react_into_trainee(action_feature=action_features[0], residuals=True)"
   ]
  },
  {
   "cell_type": "markdown",
   "metadata": {},
   "source": [
    "# Prediction Stats\n",
    "\n",
    "Howso provides a variety of prediction stats based on the variable type, whether it is continuous or nominal. These prediction stats gives insight into the predictive performance of the Trainee as well as insights into the data itself. \n",
    "\n",
    "The [bias_mitigation.ipynb](https://github.com/howsoai/howso-engine-recipes/blob/main/recipes/2-Workflows/bias_mitigation/bias_mitigation.ipynb) recipe highlights looking for bias in the data through the analysis of individual features. This recipe demonstrates how insights like overall data bias can be explored."
   ]
  },
  {
   "cell_type": "markdown",
   "metadata": {},
   "source": [
    "### Global Prediction Stats\n",
    "\n",
    "\n",
    "Global prediction stats provides an overall view on how accurate the Trainee is. This can be a great introductory look into the usability of the data and Trainee. Most machine learning models are evaluated on similiar global metrics.\n",
    "\n",
    "For more information on the Global statistics, see the [Global vs Local](https://docs.howso.com/user_guide/concepts/global_vs_local.html) documentation.\n"
   ]
  },
  {
   "cell_type": "code",
   "execution_count": 4,
   "metadata": {},
   "outputs": [
    {
     "data": {
      "text/plain": [
       "accuracy          0.840000\n",
       "mcc               0.520827\n",
       "precision         0.725543\n",
       "recall            0.800676\n",
       "mae               0.267338\n",
       "spearman_coeff         NaN\n",
       "rmse                   NaN\n",
       "r2                     NaN\n",
       "Name: target, dtype: float64"
      ]
     },
     "execution_count": 4,
     "metadata": {},
     "output_type": "execute_result"
    }
   ],
   "source": [
    "global_stats = t.get_prediction_stats()['target']\n",
    "global_stats"
   ]
  },
  {
   "cell_type": "markdown",
   "metadata": {},
   "source": [
    "### Local Prediction Stats\n",
    "\n",
    "In addition to global prediction stats, Howso has the unique ability to provide local prediction stats. These prediction stats are more finely tuned to the exact cases in which you are interested in. This can be extremely valuable for workflows such as data exploration and it provides more nuanced performance metrics. The more variance there is in the performance of dataset from region to region, the more powerful this ability is."
   ]
  },
  {
   "cell_type": "code",
   "execution_count": 5,
   "metadata": {},
   "outputs": [
    {
     "data": {
      "text/plain": [
       "0.7941176470588235"
      ]
     },
     "execution_count": 5,
     "metadata": {},
     "output_type": "execute_result"
    }
   ],
   "source": [
    "results = t.react(\n",
    "    test_case,\n",
    "    context_features=context_features,\n",
    "    action_features=action_features,\n",
    "    details = {\n",
    "        \"prediction_stats\": True\n",
    "    }\n",
    ")\n",
    "\n",
    "local_stats = results['details']['prediction_stats'][0]\n",
    "local_stats['accuracy'][action_features[0]]"
   ]
  },
  {
   "cell_type": "markdown",
   "metadata": {},
   "source": [
    "We can see how the local prediction stats differ from the global stats. Using local metrics, we can drill into specific cases. For example, in our test case which is manually set to `female`, we can get insights into how well the Trainee fits similiar cases. In the local space, this does not gurantee all of the other cases in the local space are also female, however it increases the chances that they are.\n",
    "\n",
    "If we see that the local accuracy drops off a lot from the global accuracy, this can demonstrate that in this region of the data, the Trainee and data do not have the same predictive performance as the rest of the Trainee and data."
   ]
  },
  {
   "cell_type": "markdown",
   "metadata": {},
   "source": [
    "# Conditioned Prediction Stats\n",
    "\n",
    "Zooming back out to global prediction stats, Howso also has the ability the condition the prediction stats by providing conditions for the context set and action set. Similar to context features and action featuers, the context set is the set queried to make predictions and the action set is the set that the predictions are made for. In other words, you use the data from the context set is the known data and the action set is the unknown data in which you are trying to predict using the context set.\n",
    "\n",
    "This conditioning gives us the ability to segment the context and action sets to give us more detailed insights in the relationship and Trainee predictive performance between groups."
   ]
  },
  {
   "cell_type": "markdown",
   "metadata": {},
   "source": [
    "### Action Condition Only\n",
    "\n",
    "By conditioning on an action condition only, prediction stats for a certain segment are returned by holding out each case from the action set respectively and making predictions in a Leave One Out (LOO) fashion. Thus, using this method, the context set consists of every case except the actual case being predicted at the time. After each case from the action set is predicted, the case is returned to the context set, making it available to be queried for other predictions."
   ]
  },
  {
   "cell_type": "code",
   "execution_count": null,
   "metadata": {},
   "outputs": [],
   "source": [
    "sex_0_accuracy = t.get_prediction_stats(action_condition={'sex': 0})['target']['accuracy'].round(2)\n",
    "sex_1_accuracy = t.get_prediction_stats(action_condition={'sex': 1})['target']['accuracy'].round(2)\n",
    "print(f\"Sex 0 accuracy: {sex_0_accuracy}\")\n",
    "print(f\"Sex 1 accuracy: {sex_1_accuracy}\")"
   ]
  },
  {
   "cell_type": "markdown",
   "metadata": {},
   "source": [
    "If we see a difference in the model performance between males and females, this may indicate that there may be further bias that needs to be investigated and/or this Trainee is not suitable for inference on both sexes.\n",
    "\n",
    "If this Trainee and data were used to make decisions on loan acceptance based on income, these differences in performance may indicate that this Trainee and data may be suitable for predictions on males but not females. This can lead to actions like gathering better data that captures the characteristics of females better."
   ]
  },
  {
   "cell_type": "markdown",
   "metadata": {},
   "source": [
    "### Action Condition and Context Condition\n",
    "\n",
    "Another way to see how different groups can differ is by specifying both action and context conditions. Unlike when only the action condition is specified, specifying both conditions will hold out `ALL` of the action set. After a case from the action set is used to make a prediction, unlike when just the action condition is specified, that case will continue to be held out. Thus, using this method, the cases from the context set and action set remain separate during the entire process."
   ]
  },
  {
   "cell_type": "code",
   "execution_count": 26,
   "metadata": {},
   "outputs": [
    {
     "name": "stdout",
     "output_type": "stream",
     "text": [
      "Sex 1 accuracy: 0.69\n",
      "Sex 0 accuracy: 0.87\n"
     ]
    }
   ],
   "source": [
    "sex_1_conditioned_accuracy = t.get_prediction_stats(context_condition={'sex': 0}, action_condition={'sex': 1})['target']['accuracy'].round(2)\n",
    "sex_0_conditioned_accuracy = t.get_prediction_stats(context_condition={'sex': 1}, action_condition={'sex': 0})['target']['accuracy'].round(2)\n",
    "print(f\"Sex 1 accuracy: {sex_1_conditioned_accuracy}\")\n",
    "print(f\"Sex 0 accuracy: {sex_0_conditioned_accuracy}\")"
   ]
  },
  {
   "cell_type": "markdown",
   "metadata": {},
   "source": [
    "This method may reveal extra insights that conditioning on the action set may not. Since the entire action set is being held out, the prediction stats are based purely on the context set. Differences in the sets may also be explored using this method. For example, if we see that when only cases that are males are used to predict cases that are females, and the performance drops greatly from the global predicition stats, then this provides further indication in the difference in the underlying data and relationships among females vs males. A difference in the performance may also shed light into "
   ]
  }
 ],
 "metadata": {
  "kernelspec": {
   "display_name": "engine_rec_311",
   "language": "python",
   "name": "python3"
  },
  "language_info": {
   "codemirror_mode": {
    "name": "ipython",
    "version": 3
   },
   "file_extension": ".py",
   "mimetype": "text/x-python",
   "name": "python",
   "nbconvert_exporter": "python",
   "pygments_lexer": "ipython3",
   "version": "3.11.2"
  }
 },
 "nbformat": 4,
 "nbformat_minor": 2
}
