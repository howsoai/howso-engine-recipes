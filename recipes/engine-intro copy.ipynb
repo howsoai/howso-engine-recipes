{
 "cells": [
  {
   "cell_type": "code",
   "execution_count": 1,
   "id": "729f6c7a-4b11-4311-aad9-03f89a568e3f",
   "metadata": {
    "execution": {
     "iopub.execute_input": "2024-09-06T02:53:06.812106Z",
     "iopub.status.busy": "2024-09-06T02:53:06.811882Z",
     "iopub.status.idle": "2024-09-06T02:53:07.212814Z",
     "shell.execute_reply": "2024-09-06T02:53:07.212182Z"
    }
   },
   "outputs": [],
   "source": [
    "from pathlib import Path\n",
    "\n",
    "import pandas as pd\n",
    "from pmlb import fetch_data\n",
    "\n",
    "from howso.engine import (\n",
    "    load_trainee,\n",
    "    Trainee,\n",
    ")\n",
    "from howso.utilities import infer_feature_attributes\n",
    "\n",
    "import pandas as pd\n",
    "from howso.visuals import plot_feature_importances\n",
    "import random"
   ]
  },
  {
   "cell_type": "code",
   "execution_count": 44,
   "id": "5af2ce67",
   "metadata": {},
   "outputs": [],
   "source": [
    "import numpy as np\n",
    "import pandas as pd\n",
    "import random\n",
    "import datetime\n",
    "\n",
    "def generate_car_wear_data(\n",
    "    num_cars=10,\n",
    "    num_days=1000,\n",
    "    start_date=\"2022-01-01\",\n",
    "    mileage_start_range=(0, 5000),\n",
    "    daily_miles_range=(20, 100),\n",
    "    env_temp_range=(-10, 40),\n",
    "    env_humidity_range=(20, 90),\n",
    "    initial_tire_thickness_range=(7.0, 9.0),  # mm\n",
    "    initial_brake_thickness_range=(8.0, 12.0),  # mm\n",
    "    vibration_threshold=6.0,             # threshold for vibration_level\n",
    "    random_seed=random.randint(1, 10000)\n",
    "):\n",
    "    \"\"\"\n",
    "    Generate synthetic data for multiple cars over a given number of days,\n",
    "    tracking the number of times maintenance is triggered by each trigger type.\n",
    "    \"\"\"\n",
    "    np.random.seed(random_seed)\n",
    "    random.seed(random_seed)\n",
    "\n",
    "    start_dt = datetime.datetime.strptime(start_date, \"%Y-%m-%d\")\n",
    "    records = []\n",
    "    maintenance_counts = []  # List to store maintenance counts for each car\n",
    "\n",
    "    for car_id in range(1, num_cars + 1):\n",
    "        current_date = start_dt\n",
    "        current_mileage = random.randint(*mileage_start_range)\n",
    "\n",
    "        # Initialize variables for this car\n",
    "        tire_thickness = np.random.uniform(*initial_tire_thickness_range)\n",
    "        brake_thickness = np.random.uniform(*initial_brake_thickness_range)\n",
    "\n",
    "        consecutive_days_excessive_vibration = 0\n",
    "        brake_maintenance_count = 0\n",
    "        vibration_maintenance_count = 0\n",
    "\n",
    "        for day in range(num_days):\n",
    "            # Daily environment\n",
    "            env_temp = np.random.uniform(*env_temp_range)\n",
    "            env_humidity = np.random.uniform(*env_humidity_range)\n",
    "\n",
    "            # Drive some miles\n",
    "            daily_miles = np.random.randint(*daily_miles_range)\n",
    "            current_mileage += daily_miles\n",
    "\n",
    "            # Wear & tear\n",
    "            tire_thickness -= 0.001 * daily_miles + np.random.normal(0, 0.002)\n",
    "            brake_thickness -= 0.0005 * daily_miles + np.random.normal(0, 0.001)\n",
    "\n",
    "            # Clip\n",
    "            tire_thickness = max(tire_thickness, 0)\n",
    "            brake_thickness = max(brake_thickness, 0)\n",
    "\n",
    "            # Vibration\n",
    "            vibration_level = np.random.normal(5.0, 2.0)  # mean=5, std=2\n",
    "            if vibration_level > vibration_threshold:\n",
    "                consecutive_days_excessive_vibration += 1\n",
    "            else:\n",
    "                consecutive_days_excessive_vibration = 0\n",
    "\n",
    "            # Check if maintenance is needed\n",
    "            brake_trigger = (brake_thickness < 6.0)\n",
    "            vibration_trigger = (consecutive_days_excessive_vibration >= 3)\n",
    "\n",
    "            maintenance_needed = (brake_trigger or vibration_trigger)\n",
    "\n",
    "            # Record today's data\n",
    "            record = {\n",
    "                \"car_id\": car_id,\n",
    "                \"date\": current_date.strftime(\"%Y-%m-%d\"),\n",
    "                \"env_temperature\": round(env_temp, 2),\n",
    "                \"env_humidity\": round(env_humidity, 2),\n",
    "                \"tire_thickness_mm\": round(tire_thickness, 3),\n",
    "                \"brake_pad_thickness_mm\": round(brake_thickness, 3),\n",
    "                \"vibration_level\": round(vibration_level, 2),\n",
    "                \"maintenance_needed\": int(maintenance_needed),\n",
    "                # \"brake_trigger\": int(brake_trigger),\n",
    "                # \"vibration_trigger\": int(vibration_trigger),\n",
    "            }\n",
    "            records.append(record)\n",
    "\n",
    "            # If maintenance is needed, count the type and reset affected variables\n",
    "            if maintenance_needed:\n",
    "                if brake_trigger:\n",
    "                    brake_maintenance_count += 1\n",
    "                    brake_thickness = np.random.uniform(*initial_brake_thickness_range)\n",
    "\n",
    "                if vibration_trigger:\n",
    "                    vibration_maintenance_count += 1\n",
    "                    consecutive_days_excessive_vibration = 0\n",
    "\n",
    "            # Move to the next day\n",
    "            current_date += datetime.timedelta(days=1)\n",
    "\n",
    "        # Store maintenance counts per car\n",
    "        maintenance_counts.append({\n",
    "            \"car_id\": car_id,\n",
    "            \"brake_maintenance_count\": brake_maintenance_count,\n",
    "            \"vibration_maintenance_count\": vibration_maintenance_count\n",
    "        })\n",
    "\n",
    "    # Convert to DataFrames\n",
    "    df = pd.DataFrame(records)\n",
    "    maintenance_df = pd.DataFrame(maintenance_counts)  # Separate maintenance count tracking\n",
    "\n",
    "    return df, maintenance_df\n",
    "\n",
    "\n",
    "# # Example Usage\n",
    "# df, maintenance_df = generate_car_wear_data()\n"
   ]
  },
  {
   "cell_type": "code",
   "execution_count": 46,
   "id": "9a66f76c",
   "metadata": {},
   "outputs": [],
   "source": [
    "df.to_csv('sample.csv')"
   ]
  },
  {
   "cell_type": "code",
   "execution_count": 45,
   "id": "de0d1ab4",
   "metadata": {},
   "outputs": [],
   "source": [
    "df, maintenance_df = generate_car_wear_data()\n",
    "\n",
    "# df = generate_car_wear_data(\n",
    "#     num_cars=10,\n",
    "#     num_days=365,\n",
    "#     start_date=\"2022-01-01\",\n",
    "# )"
   ]
  },
  {
   "cell_type": "code",
   "execution_count": 4,
   "id": "ed039bfd",
   "metadata": {},
   "outputs": [
    {
     "data": {
      "text/html": [
       "<div>\n",
       "<style scoped>\n",
       "    .dataframe tbody tr th:only-of-type {\n",
       "        vertical-align: middle;\n",
       "    }\n",
       "\n",
       "    .dataframe tbody tr th {\n",
       "        vertical-align: top;\n",
       "    }\n",
       "\n",
       "    .dataframe thead th {\n",
       "        text-align: right;\n",
       "    }\n",
       "</style>\n",
       "<table border=\"1\" class=\"dataframe\">\n",
       "  <thead>\n",
       "    <tr style=\"text-align: right;\">\n",
       "      <th></th>\n",
       "      <th>car_id</th>\n",
       "      <th>brake_maintenance_count</th>\n",
       "      <th>vibration_maintenance_count</th>\n",
       "    </tr>\n",
       "  </thead>\n",
       "  <tbody>\n",
       "    <tr>\n",
       "      <th>0</th>\n",
       "      <td>1</td>\n",
       "      <td>7</td>\n",
       "      <td>23</td>\n",
       "    </tr>\n",
       "    <tr>\n",
       "      <th>1</th>\n",
       "      <td>2</td>\n",
       "      <td>8</td>\n",
       "      <td>24</td>\n",
       "    </tr>\n",
       "    <tr>\n",
       "      <th>2</th>\n",
       "      <td>3</td>\n",
       "      <td>8</td>\n",
       "      <td>24</td>\n",
       "    </tr>\n",
       "    <tr>\n",
       "      <th>3</th>\n",
       "      <td>4</td>\n",
       "      <td>8</td>\n",
       "      <td>20</td>\n",
       "    </tr>\n",
       "    <tr>\n",
       "      <th>4</th>\n",
       "      <td>5</td>\n",
       "      <td>6</td>\n",
       "      <td>19</td>\n",
       "    </tr>\n",
       "    <tr>\n",
       "      <th>5</th>\n",
       "      <td>6</td>\n",
       "      <td>8</td>\n",
       "      <td>15</td>\n",
       "    </tr>\n",
       "    <tr>\n",
       "      <th>6</th>\n",
       "      <td>7</td>\n",
       "      <td>7</td>\n",
       "      <td>25</td>\n",
       "    </tr>\n",
       "    <tr>\n",
       "      <th>7</th>\n",
       "      <td>8</td>\n",
       "      <td>6</td>\n",
       "      <td>23</td>\n",
       "    </tr>\n",
       "    <tr>\n",
       "      <th>8</th>\n",
       "      <td>9</td>\n",
       "      <td>7</td>\n",
       "      <td>21</td>\n",
       "    </tr>\n",
       "    <tr>\n",
       "      <th>9</th>\n",
       "      <td>10</td>\n",
       "      <td>7</td>\n",
       "      <td>18</td>\n",
       "    </tr>\n",
       "  </tbody>\n",
       "</table>\n",
       "</div>"
      ],
      "text/plain": [
       "   car_id  brake_maintenance_count  vibration_maintenance_count\n",
       "0       1                        7                           23\n",
       "1       2                        8                           24\n",
       "2       3                        8                           24\n",
       "3       4                        8                           20\n",
       "4       5                        6                           19\n",
       "5       6                        8                           15\n",
       "6       7                        7                           25\n",
       "7       8                        6                           23\n",
       "8       9                        7                           21\n",
       "9      10                        7                           18"
      ]
     },
     "execution_count": 4,
     "metadata": {},
     "output_type": "execute_result"
    }
   ],
   "source": [
    "maintenance_df"
   ]
  },
  {
   "cell_type": "code",
   "execution_count": 5,
   "id": "4f2f18d3",
   "metadata": {},
   "outputs": [
    {
     "data": {
      "text/plain": [
       "car_id                          55\n",
       "brake_maintenance_count         72\n",
       "vibration_maintenance_count    212\n",
       "dtype: int64"
      ]
     },
     "execution_count": 5,
     "metadata": {},
     "output_type": "execute_result"
    }
   ],
   "source": [
    "maintenance_df.sum()"
   ]
  },
  {
   "cell_type": "code",
   "execution_count": 6,
   "id": "abe9cd89",
   "metadata": {},
   "outputs": [
    {
     "data": {
      "text/plain": [
       "(10000, 8)"
      ]
     },
     "execution_count": 6,
     "metadata": {},
     "output_type": "execute_result"
    }
   ],
   "source": [
    "df.shape"
   ]
  },
  {
   "cell_type": "code",
   "execution_count": 7,
   "id": "00e3ef26",
   "metadata": {},
   "outputs": [
    {
     "data": {
      "text/plain": [
       "281"
      ]
     },
     "execution_count": 7,
     "metadata": {},
     "output_type": "execute_result"
    }
   ],
   "source": [
    "len(df[df['maintenance_needed'] == 1])"
   ]
  },
  {
   "cell_type": "code",
   "execution_count": 8,
   "id": "1ae3efbd",
   "metadata": {},
   "outputs": [],
   "source": [
    "# df = df[df['maintenance_needed'] == 0]"
   ]
  },
  {
   "cell_type": "code",
   "execution_count": 9,
   "id": "8cb2ed8c",
   "metadata": {},
   "outputs": [],
   "source": [
    "# Identify id-feature and time-feature\n",
    "id_feature_name = \"car_id\"\n",
    "time_feature_name = \"date\"\n",
    "features = infer_feature_attributes(\n",
    "    df,\n",
    "    time_feature_name=time_feature_name,\n",
    "    id_feature_name=id_feature_name,\n",
    "    num_lags=3\n",
    ")\n",
    "# Specify Context and Action Features\n",
    "action_features = ['maintenance_needed']"
   ]
  },
  {
   "cell_type": "code",
   "execution_count": 10,
   "id": "459d1c9b",
   "metadata": {},
   "outputs": [
    {
     "data": {
      "text/plain": [
       "{'type': 'nominal',\n",
       " 'data_type': 'number',\n",
       " 'decimal_places': 0,\n",
       " 'original_type': {'data_type': 'integer', 'size': 8},\n",
       " 'bounds': {'allow_null': False},\n",
       " 'time_series': {'type': 'rate', 'num_lags': 3}}"
      ]
     },
     "execution_count": 10,
     "metadata": {},
     "output_type": "execute_result"
    }
   ],
   "source": [
    "features['maintenance_needed']"
   ]
  },
  {
   "cell_type": "code",
   "execution_count": 11,
   "id": "71444a54-555e-4147-9535-ceff2e42440c",
   "metadata": {
    "execution": {
     "iopub.execute_input": "2024-09-06T02:53:07.340464Z",
     "iopub.status.busy": "2024-09-06T02:53:07.340279Z",
     "iopub.status.idle": "2024-09-06T02:53:07.773555Z",
     "shell.execute_reply": "2024-09-06T02:53:07.772933Z"
    }
   },
   "outputs": [
    {
     "name": "stderr",
     "output_type": "stream",
     "text": [
      "The following parameters from your configuration will override the default Amalgam parameters: {'trace'}\n"
     ]
    }
   ],
   "source": [
    "# Create the Trainee\n",
    "t = Trainee(features=features)"
   ]
  },
  {
   "cell_type": "code",
   "execution_count": 12,
   "id": "317c900d",
   "metadata": {
    "execution": {
     "iopub.execute_input": "2024-09-06T02:53:07.776646Z",
     "iopub.status.busy": "2024-09-06T02:53:07.776403Z",
     "iopub.status.idle": "2024-09-06T02:53:29.118675Z",
     "shell.execute_reply": "2024-09-06T02:53:29.118071Z"
    }
   },
   "outputs": [],
   "source": [
    "# Train\n",
    "t.train(df)\n",
    "# Analyze the Trainee\n",
    "# (By specifying action_features, this becomes a Targeted analysis)\n",
    "# t.analyze(context_features=context_features, action_features=action_features)\n",
    "# t.analyze(context_features=context_features, action_features=action_features)\n",
    "t.analyze()"
   ]
  },
  {
   "cell_type": "code",
   "execution_count": 13,
   "id": "6d0e2f26",
   "metadata": {},
   "outputs": [],
   "source": [
    "context_features = [f for f in t.features.keys() if f not in [\n",
    "    'date', action_features[0], '.maintenance_needed_lag_1', '.maintenance_needed_lag_3', '.maintenance_needed_lag_2', 'car_id',\n",
    "    '.date_delta_1', '.date_lag_1', '.series_progress', '.series_progress_delta']]"
   ]
  },
  {
   "cell_type": "code",
   "execution_count": 14,
   "id": "40df332d",
   "metadata": {
    "execution": {
     "iopub.execute_input": "2024-09-06T02:53:29.121927Z",
     "iopub.status.busy": "2024-09-06T02:53:29.121404Z",
     "iopub.status.idle": "2024-09-06T02:53:30.105063Z",
     "shell.execute_reply": "2024-09-06T02:53:30.104468Z"
    }
   },
   "outputs": [],
   "source": [
    "stats = t.react_aggregate(\n",
    "    action_feature=action_features[0],\n",
    "    action_features=action_features,\n",
    "    context_features=context_features,\n",
    "    details={\n",
    "        \"feature_contributions_robust\": True,\n",
    "        \"feature_residuals_robust\": True,\n",
    "        \"context_condition\": {\n",
    "            'maintenance_needed': 0,\n",
    "        },\n",
    "        \"action_condition\": {\n",
    "            'maintenance_needed': 0,\n",
    "            '.maintenance_needed_lag_1': 0,\n",
    "            '.maintenance_needed_lag_2': 0,\n",
    "            '.maintenance_needed_lag_3': 0,\n",
    "        }\n",
    "\n",
    "    },\n",
    ")\n"
   ]
  },
  {
   "cell_type": "code",
   "execution_count": 18,
   "id": "a12e513f",
   "metadata": {},
   "outputs": [],
   "source": [
    "t.react_into_features(\n",
    "    similarity_conviction=True,\n",
    "    familiarity_conviction_addition=True,\n",
    "    familiarity_conviction_removal=True,\n",
    ")"
   ]
  },
  {
   "cell_type": "code",
   "execution_count": 40,
   "id": "c9d44d53",
   "metadata": {},
   "outputs": [],
   "source": [
    "features_retrieve = list(t.features.keys()) + ['similarity_conviction', 'familiarity_conviction_addition']"
   ]
  },
  {
   "cell_type": "code",
   "execution_count": 41,
   "id": "0f487d8e",
   "metadata": {},
   "outputs": [
    {
     "name": "stderr",
     "output_type": "stream",
     "text": [
      "/Users/jackxia/.pyenv/versions/engine_rec_312/lib/python3.12/site-packages/howso/client/base.py:4363: UserWarning:\n",
      "\n",
      "Calling get_cases without a session id does not guarantee case order.\n",
      "\n"
     ]
    }
   ],
   "source": [
    "stored_convictions = t.get_cases(features=features_retrieve)"
   ]
  },
  {
   "cell_type": "code",
   "execution_count": 42,
   "id": "1ea718d3",
   "metadata": {},
   "outputs": [
    {
     "data": {
      "text/html": [
       "<div>\n",
       "<style scoped>\n",
       "    .dataframe tbody tr th:only-of-type {\n",
       "        vertical-align: middle;\n",
       "    }\n",
       "\n",
       "    .dataframe tbody tr th {\n",
       "        vertical-align: top;\n",
       "    }\n",
       "\n",
       "    .dataframe thead th {\n",
       "        text-align: right;\n",
       "    }\n",
       "</style>\n",
       "<table border=\"1\" class=\"dataframe\">\n",
       "  <thead>\n",
       "    <tr style=\"text-align: right;\">\n",
       "      <th></th>\n",
       "      <th>.env_temperature_lag_3</th>\n",
       "      <th>.env_humidity_lag_3</th>\n",
       "      <th>.brake_pad_thickness_mm_lag_3</th>\n",
       "      <th>.env_temperature_lag_2</th>\n",
       "      <th>.env_temperature_lag_1</th>\n",
       "      <th>.env_humidity_lag_2</th>\n",
       "      <th>.brake_pad_thickness_mm_lag_1</th>\n",
       "      <th>.tire_thickness_mm_rate_1</th>\n",
       "      <th>tire_thickness_mm</th>\n",
       "      <th>.tire_thickness_mm_lag_3</th>\n",
       "      <th>...</th>\n",
       "      <th>.series_progress</th>\n",
       "      <th>env_humidity</th>\n",
       "      <th>.tire_thickness_mm_lag_1</th>\n",
       "      <th>.series_progress_delta</th>\n",
       "      <th>maintenance_needed</th>\n",
       "      <th>.vibration_level_lag_2</th>\n",
       "      <th>.date_delta_1</th>\n",
       "      <th>.env_temperature_rate_1</th>\n",
       "      <th>similarity_conviction</th>\n",
       "      <th>familiarity_conviction_addition</th>\n",
       "    </tr>\n",
       "  </thead>\n",
       "  <tbody>\n",
       "    <tr>\n",
       "      <th>0</th>\n",
       "      <td>NaN</td>\n",
       "      <td>NaN</td>\n",
       "      <td>NaN</td>\n",
       "      <td>NaN</td>\n",
       "      <td>NaN</td>\n",
       "      <td>NaN</td>\n",
       "      <td>NaN</td>\n",
       "      <td>NaN</td>\n",
       "      <td>7.715</td>\n",
       "      <td>NaN</td>\n",
       "      <td>...</td>\n",
       "      <td>0.000000</td>\n",
       "      <td>88.24</td>\n",
       "      <td>NaN</td>\n",
       "      <td>0.001001</td>\n",
       "      <td>0</td>\n",
       "      <td>NaN</td>\n",
       "      <td>NaN</td>\n",
       "      <td>NaN</td>\n",
       "      <td>0.157375</td>\n",
       "      <td>0.003160</td>\n",
       "    </tr>\n",
       "    <tr>\n",
       "      <th>1</th>\n",
       "      <td>NaN</td>\n",
       "      <td>NaN</td>\n",
       "      <td>NaN</td>\n",
       "      <td>NaN</td>\n",
       "      <td>31.30</td>\n",
       "      <td>NaN</td>\n",
       "      <td>9.607</td>\n",
       "      <td>-7.870370e-07</td>\n",
       "      <td>7.647</td>\n",
       "      <td>NaN</td>\n",
       "      <td>...</td>\n",
       "      <td>0.001001</td>\n",
       "      <td>71.12</td>\n",
       "      <td>7.715</td>\n",
       "      <td>0.001001</td>\n",
       "      <td>0</td>\n",
       "      <td>NaN</td>\n",
       "      <td>86400.0</td>\n",
       "      <td>0.000073</td>\n",
       "      <td>0.181501</td>\n",
       "      <td>0.006880</td>\n",
       "    </tr>\n",
       "    <tr>\n",
       "      <th>2</th>\n",
       "      <td>NaN</td>\n",
       "      <td>NaN</td>\n",
       "      <td>NaN</td>\n",
       "      <td>31.30</td>\n",
       "      <td>37.63</td>\n",
       "      <td>88.24</td>\n",
       "      <td>9.573</td>\n",
       "      <td>-1.099537e-06</td>\n",
       "      <td>7.552</td>\n",
       "      <td>NaN</td>\n",
       "      <td>...</td>\n",
       "      <td>0.002002</td>\n",
       "      <td>48.75</td>\n",
       "      <td>7.647</td>\n",
       "      <td>0.001001</td>\n",
       "      <td>0</td>\n",
       "      <td>4.55</td>\n",
       "      <td>86400.0</td>\n",
       "      <td>-0.000189</td>\n",
       "      <td>0.215567</td>\n",
       "      <td>0.014607</td>\n",
       "    </tr>\n",
       "    <tr>\n",
       "      <th>3</th>\n",
       "      <td>31.30</td>\n",
       "      <td>88.24</td>\n",
       "      <td>9.607</td>\n",
       "      <td>37.63</td>\n",
       "      <td>21.31</td>\n",
       "      <td>71.12</td>\n",
       "      <td>9.525</td>\n",
       "      <td>-3.472222e-07</td>\n",
       "      <td>7.522</td>\n",
       "      <td>7.715</td>\n",
       "      <td>...</td>\n",
       "      <td>0.003003</td>\n",
       "      <td>60.52</td>\n",
       "      <td>7.552</td>\n",
       "      <td>0.001001</td>\n",
       "      <td>0</td>\n",
       "      <td>9.17</td>\n",
       "      <td>86400.0</td>\n",
       "      <td>-0.000226</td>\n",
       "      <td>0.918920</td>\n",
       "      <td>0.467919</td>\n",
       "    </tr>\n",
       "    <tr>\n",
       "      <th>4</th>\n",
       "      <td>37.63</td>\n",
       "      <td>71.12</td>\n",
       "      <td>9.573</td>\n",
       "      <td>21.31</td>\n",
       "      <td>1.78</td>\n",
       "      <td>48.75</td>\n",
       "      <td>9.509</td>\n",
       "      <td>-3.703704e-07</td>\n",
       "      <td>7.490</td>\n",
       "      <td>7.647</td>\n",
       "      <td>...</td>\n",
       "      <td>0.004004</td>\n",
       "      <td>28.14</td>\n",
       "      <td>7.522</td>\n",
       "      <td>0.001001</td>\n",
       "      <td>0</td>\n",
       "      <td>7.53</td>\n",
       "      <td>86400.0</td>\n",
       "      <td>-0.000130</td>\n",
       "      <td>0.829936</td>\n",
       "      <td>0.374914</td>\n",
       "    </tr>\n",
       "    <tr>\n",
       "      <th>...</th>\n",
       "      <td>...</td>\n",
       "      <td>...</td>\n",
       "      <td>...</td>\n",
       "      <td>...</td>\n",
       "      <td>...</td>\n",
       "      <td>...</td>\n",
       "      <td>...</td>\n",
       "      <td>...</td>\n",
       "      <td>...</td>\n",
       "      <td>...</td>\n",
       "      <td>...</td>\n",
       "      <td>...</td>\n",
       "      <td>...</td>\n",
       "      <td>...</td>\n",
       "      <td>...</td>\n",
       "      <td>...</td>\n",
       "      <td>...</td>\n",
       "      <td>...</td>\n",
       "      <td>...</td>\n",
       "      <td>...</td>\n",
       "      <td>...</td>\n",
       "    </tr>\n",
       "    <tr>\n",
       "      <th>9995</th>\n",
       "      <td>-2.04</td>\n",
       "      <td>67.16</td>\n",
       "      <td>9.710</td>\n",
       "      <td>13.96</td>\n",
       "      <td>22.00</td>\n",
       "      <td>89.34</td>\n",
       "      <td>9.655</td>\n",
       "      <td>0.000000e+00</td>\n",
       "      <td>0.000</td>\n",
       "      <td>0.000</td>\n",
       "      <td>...</td>\n",
       "      <td>0.995996</td>\n",
       "      <td>29.71</td>\n",
       "      <td>0.000</td>\n",
       "      <td>0.001001</td>\n",
       "      <td>0</td>\n",
       "      <td>4.39</td>\n",
       "      <td>86400.0</td>\n",
       "      <td>0.000092</td>\n",
       "      <td>0.955297</td>\n",
       "      <td>7.117376</td>\n",
       "    </tr>\n",
       "    <tr>\n",
       "      <th>9996</th>\n",
       "      <td>13.96</td>\n",
       "      <td>89.34</td>\n",
       "      <td>9.692</td>\n",
       "      <td>22.00</td>\n",
       "      <td>29.96</td>\n",
       "      <td>88.86</td>\n",
       "      <td>9.626</td>\n",
       "      <td>0.000000e+00</td>\n",
       "      <td>0.000</td>\n",
       "      <td>0.000</td>\n",
       "      <td>...</td>\n",
       "      <td>0.996997</td>\n",
       "      <td>83.42</td>\n",
       "      <td>0.000</td>\n",
       "      <td>0.001001</td>\n",
       "      <td>0</td>\n",
       "      <td>5.20</td>\n",
       "      <td>86400.0</td>\n",
       "      <td>-0.000025</td>\n",
       "      <td>0.967008</td>\n",
       "      <td>7.744484</td>\n",
       "    </tr>\n",
       "    <tr>\n",
       "      <th>9997</th>\n",
       "      <td>22.00</td>\n",
       "      <td>88.86</td>\n",
       "      <td>9.655</td>\n",
       "      <td>29.96</td>\n",
       "      <td>27.76</td>\n",
       "      <td>29.71</td>\n",
       "      <td>9.614</td>\n",
       "      <td>0.000000e+00</td>\n",
       "      <td>0.000</td>\n",
       "      <td>0.000</td>\n",
       "      <td>...</td>\n",
       "      <td>0.997998</td>\n",
       "      <td>72.13</td>\n",
       "      <td>0.000</td>\n",
       "      <td>0.001001</td>\n",
       "      <td>0</td>\n",
       "      <td>4.73</td>\n",
       "      <td>86400.0</td>\n",
       "      <td>-0.000318</td>\n",
       "      <td>0.974611</td>\n",
       "      <td>5.264917</td>\n",
       "    </tr>\n",
       "    <tr>\n",
       "      <th>9998</th>\n",
       "      <td>29.96</td>\n",
       "      <td>29.71</td>\n",
       "      <td>9.626</td>\n",
       "      <td>27.76</td>\n",
       "      <td>0.27</td>\n",
       "      <td>83.42</td>\n",
       "      <td>9.589</td>\n",
       "      <td>0.000000e+00</td>\n",
       "      <td>0.000</td>\n",
       "      <td>0.000</td>\n",
       "      <td>...</td>\n",
       "      <td>0.998999</td>\n",
       "      <td>79.22</td>\n",
       "      <td>0.000</td>\n",
       "      <td>0.001001</td>\n",
       "      <td>0</td>\n",
       "      <td>4.81</td>\n",
       "      <td>86400.0</td>\n",
       "      <td>0.000012</td>\n",
       "      <td>0.994474</td>\n",
       "      <td>3.226714</td>\n",
       "    </tr>\n",
       "    <tr>\n",
       "      <th>9999</th>\n",
       "      <td>27.76</td>\n",
       "      <td>83.42</td>\n",
       "      <td>9.614</td>\n",
       "      <td>0.27</td>\n",
       "      <td>1.32</td>\n",
       "      <td>72.13</td>\n",
       "      <td>9.544</td>\n",
       "      <td>0.000000e+00</td>\n",
       "      <td>0.000</td>\n",
       "      <td>0.000</td>\n",
       "      <td>...</td>\n",
       "      <td>1.000000</td>\n",
       "      <td>48.50</td>\n",
       "      <td>0.000</td>\n",
       "      <td>0.001001</td>\n",
       "      <td>0</td>\n",
       "      <td>6.62</td>\n",
       "      <td>86400.0</td>\n",
       "      <td>0.000161</td>\n",
       "      <td>0.942512</td>\n",
       "      <td>6.821827</td>\n",
       "    </tr>\n",
       "  </tbody>\n",
       "</table>\n",
       "<p>10000 rows × 37 columns</p>\n",
       "</div>"
      ],
      "text/plain": [
       "      .env_temperature_lag_3  .env_humidity_lag_3  \\\n",
       "0                        NaN                  NaN   \n",
       "1                        NaN                  NaN   \n",
       "2                        NaN                  NaN   \n",
       "3                      31.30                88.24   \n",
       "4                      37.63                71.12   \n",
       "...                      ...                  ...   \n",
       "9995                   -2.04                67.16   \n",
       "9996                   13.96                89.34   \n",
       "9997                   22.00                88.86   \n",
       "9998                   29.96                29.71   \n",
       "9999                   27.76                83.42   \n",
       "\n",
       "      .brake_pad_thickness_mm_lag_3  .env_temperature_lag_2  \\\n",
       "0                               NaN                     NaN   \n",
       "1                               NaN                     NaN   \n",
       "2                               NaN                   31.30   \n",
       "3                             9.607                   37.63   \n",
       "4                             9.573                   21.31   \n",
       "...                             ...                     ...   \n",
       "9995                          9.710                   13.96   \n",
       "9996                          9.692                   22.00   \n",
       "9997                          9.655                   29.96   \n",
       "9998                          9.626                   27.76   \n",
       "9999                          9.614                    0.27   \n",
       "\n",
       "      .env_temperature_lag_1  .env_humidity_lag_2  \\\n",
       "0                        NaN                  NaN   \n",
       "1                      31.30                  NaN   \n",
       "2                      37.63                88.24   \n",
       "3                      21.31                71.12   \n",
       "4                       1.78                48.75   \n",
       "...                      ...                  ...   \n",
       "9995                   22.00                89.34   \n",
       "9996                   29.96                88.86   \n",
       "9997                   27.76                29.71   \n",
       "9998                    0.27                83.42   \n",
       "9999                    1.32                72.13   \n",
       "\n",
       "      .brake_pad_thickness_mm_lag_1  .tire_thickness_mm_rate_1  \\\n",
       "0                               NaN                        NaN   \n",
       "1                             9.607              -7.870370e-07   \n",
       "2                             9.573              -1.099537e-06   \n",
       "3                             9.525              -3.472222e-07   \n",
       "4                             9.509              -3.703704e-07   \n",
       "...                             ...                        ...   \n",
       "9995                          9.655               0.000000e+00   \n",
       "9996                          9.626               0.000000e+00   \n",
       "9997                          9.614               0.000000e+00   \n",
       "9998                          9.589               0.000000e+00   \n",
       "9999                          9.544               0.000000e+00   \n",
       "\n",
       "      tire_thickness_mm  .tire_thickness_mm_lag_3  ...  .series_progress  \\\n",
       "0                 7.715                       NaN  ...          0.000000   \n",
       "1                 7.647                       NaN  ...          0.001001   \n",
       "2                 7.552                       NaN  ...          0.002002   \n",
       "3                 7.522                     7.715  ...          0.003003   \n",
       "4                 7.490                     7.647  ...          0.004004   \n",
       "...                 ...                       ...  ...               ...   \n",
       "9995              0.000                     0.000  ...          0.995996   \n",
       "9996              0.000                     0.000  ...          0.996997   \n",
       "9997              0.000                     0.000  ...          0.997998   \n",
       "9998              0.000                     0.000  ...          0.998999   \n",
       "9999              0.000                     0.000  ...          1.000000   \n",
       "\n",
       "      env_humidity  .tire_thickness_mm_lag_1  .series_progress_delta  \\\n",
       "0            88.24                       NaN                0.001001   \n",
       "1            71.12                     7.715                0.001001   \n",
       "2            48.75                     7.647                0.001001   \n",
       "3            60.52                     7.552                0.001001   \n",
       "4            28.14                     7.522                0.001001   \n",
       "...            ...                       ...                     ...   \n",
       "9995         29.71                     0.000                0.001001   \n",
       "9996         83.42                     0.000                0.001001   \n",
       "9997         72.13                     0.000                0.001001   \n",
       "9998         79.22                     0.000                0.001001   \n",
       "9999         48.50                     0.000                0.001001   \n",
       "\n",
       "      maintenance_needed  .vibration_level_lag_2  .date_delta_1  \\\n",
       "0                      0                     NaN            NaN   \n",
       "1                      0                     NaN        86400.0   \n",
       "2                      0                    4.55        86400.0   \n",
       "3                      0                    9.17        86400.0   \n",
       "4                      0                    7.53        86400.0   \n",
       "...                  ...                     ...            ...   \n",
       "9995                   0                    4.39        86400.0   \n",
       "9996                   0                    5.20        86400.0   \n",
       "9997                   0                    4.73        86400.0   \n",
       "9998                   0                    4.81        86400.0   \n",
       "9999                   0                    6.62        86400.0   \n",
       "\n",
       "      .env_temperature_rate_1  similarity_conviction  \\\n",
       "0                         NaN               0.157375   \n",
       "1                    0.000073               0.181501   \n",
       "2                   -0.000189               0.215567   \n",
       "3                   -0.000226               0.918920   \n",
       "4                   -0.000130               0.829936   \n",
       "...                       ...                    ...   \n",
       "9995                 0.000092               0.955297   \n",
       "9996                -0.000025               0.967008   \n",
       "9997                -0.000318               0.974611   \n",
       "9998                 0.000012               0.994474   \n",
       "9999                 0.000161               0.942512   \n",
       "\n",
       "      familiarity_conviction_addition  \n",
       "0                            0.003160  \n",
       "1                            0.006880  \n",
       "2                            0.014607  \n",
       "3                            0.467919  \n",
       "4                            0.374914  \n",
       "...                               ...  \n",
       "9995                         7.117376  \n",
       "9996                         7.744484  \n",
       "9997                         5.264917  \n",
       "9998                         3.226714  \n",
       "9999                         6.821827  \n",
       "\n",
       "[10000 rows x 37 columns]"
      ]
     },
     "execution_count": 42,
     "metadata": {},
     "output_type": "execute_result"
    }
   ],
   "source": [
    "stored_convictions"
   ]
  },
  {
   "cell_type": "code",
   "execution_count": 22,
   "id": "1a88169a",
   "metadata": {},
   "outputs": [
    {
     "data": {
      "text/plain": [
       "Index(['.brake_pad_thickness_mm_lag_1', '.brake_pad_thickness_mm_lag_2',\n",
       "       '.brake_pad_thickness_mm_lag_3', '.brake_pad_thickness_mm_rate_1',\n",
       "       '.date_delta_1', '.date_lag_1', '.env_humidity_lag_1',\n",
       "       '.env_humidity_lag_2', '.env_humidity_lag_3', '.env_humidity_rate_1',\n",
       "       '.env_temperature_lag_1', '.env_temperature_lag_2',\n",
       "       '.env_temperature_lag_3', '.env_temperature_rate_1',\n",
       "       '.maintenance_needed_lag_1', '.maintenance_needed_lag_2',\n",
       "       '.maintenance_needed_lag_3', '.series_progress',\n",
       "       '.series_progress_delta', '.tire_thickness_mm_lag_1',\n",
       "       '.tire_thickness_mm_lag_2', '.tire_thickness_mm_lag_3',\n",
       "       '.tire_thickness_mm_rate_1', '.vibration_level_lag_1',\n",
       "       '.vibration_level_lag_2', '.vibration_level_lag_3',\n",
       "       '.vibration_level_rate_1', 'brake_pad_thickness_mm', 'car_id', 'date',\n",
       "       'env_humidity', 'env_temperature', 'maintenance_needed',\n",
       "       'tire_thickness_mm', 'vibration_level'],\n",
       "      dtype='object')"
      ]
     },
     "execution_count": 22,
     "metadata": {},
     "output_type": "execute_result"
    }
   ],
   "source": [
    "stored_convictions.columns"
   ]
  },
  {
   "cell_type": "code",
   "execution_count": null,
   "id": "d3772013",
   "metadata": {},
   "outputs": [
    {
     "ename": "KeyError",
     "evalue": "'similarity_conviction'",
     "output_type": "error",
     "traceback": [
      "\u001b[0;31m---------------------------------------------------------------------------\u001b[0m",
      "\u001b[0;31mKeyError\u001b[0m                                  Traceback (most recent call last)",
      "File \u001b[0;32m~/.pyenv/versions/engine_rec_312/lib/python3.12/site-packages/pandas/core/indexes/base.py:3805\u001b[0m, in \u001b[0;36mIndex.get_loc\u001b[0;34m(self, key)\u001b[0m\n\u001b[1;32m   3804\u001b[0m \u001b[38;5;28;01mtry\u001b[39;00m:\n\u001b[0;32m-> 3805\u001b[0m     \u001b[38;5;28;01mreturn\u001b[39;00m \u001b[38;5;28;43mself\u001b[39;49m\u001b[38;5;241;43m.\u001b[39;49m\u001b[43m_engine\u001b[49m\u001b[38;5;241;43m.\u001b[39;49m\u001b[43mget_loc\u001b[49m\u001b[43m(\u001b[49m\u001b[43mcasted_key\u001b[49m\u001b[43m)\u001b[49m\n\u001b[1;32m   3806\u001b[0m \u001b[38;5;28;01mexcept\u001b[39;00m \u001b[38;5;167;01mKeyError\u001b[39;00m \u001b[38;5;28;01mas\u001b[39;00m err:\n",
      "File \u001b[0;32mindex.pyx:167\u001b[0m, in \u001b[0;36mpandas._libs.index.IndexEngine.get_loc\u001b[0;34m()\u001b[0m\n",
      "File \u001b[0;32mindex.pyx:196\u001b[0m, in \u001b[0;36mpandas._libs.index.IndexEngine.get_loc\u001b[0;34m()\u001b[0m\n",
      "File \u001b[0;32mpandas/_libs/hashtable_class_helper.pxi:7081\u001b[0m, in \u001b[0;36mpandas._libs.hashtable.PyObjectHashTable.get_item\u001b[0;34m()\u001b[0m\n",
      "File \u001b[0;32mpandas/_libs/hashtable_class_helper.pxi:7089\u001b[0m, in \u001b[0;36mpandas._libs.hashtable.PyObjectHashTable.get_item\u001b[0;34m()\u001b[0m\n",
      "\u001b[0;31mKeyError\u001b[0m: 'similarity_conviction'",
      "\nThe above exception was the direct cause of the following exception:\n",
      "\u001b[0;31mKeyError\u001b[0m                                  Traceback (most recent call last)",
      "Cell \u001b[0;32mIn[21], line 1\u001b[0m\n\u001b[0;32m----> 1\u001b[0m \u001b[43mstored_convictions\u001b[49m\u001b[43m[\u001b[49m\u001b[38;5;124;43m'\u001b[39;49m\u001b[38;5;124;43msimilarity_conviction\u001b[39;49m\u001b[38;5;124;43m'\u001b[39;49m\u001b[43m]\u001b[49m\n",
      "File \u001b[0;32m~/.pyenv/versions/engine_rec_312/lib/python3.12/site-packages/pandas/core/frame.py:4102\u001b[0m, in \u001b[0;36mDataFrame.__getitem__\u001b[0;34m(self, key)\u001b[0m\n\u001b[1;32m   4100\u001b[0m \u001b[38;5;28;01mif\u001b[39;00m \u001b[38;5;28mself\u001b[39m\u001b[38;5;241m.\u001b[39mcolumns\u001b[38;5;241m.\u001b[39mnlevels \u001b[38;5;241m>\u001b[39m \u001b[38;5;241m1\u001b[39m:\n\u001b[1;32m   4101\u001b[0m     \u001b[38;5;28;01mreturn\u001b[39;00m \u001b[38;5;28mself\u001b[39m\u001b[38;5;241m.\u001b[39m_getitem_multilevel(key)\n\u001b[0;32m-> 4102\u001b[0m indexer \u001b[38;5;241m=\u001b[39m \u001b[38;5;28;43mself\u001b[39;49m\u001b[38;5;241;43m.\u001b[39;49m\u001b[43mcolumns\u001b[49m\u001b[38;5;241;43m.\u001b[39;49m\u001b[43mget_loc\u001b[49m\u001b[43m(\u001b[49m\u001b[43mkey\u001b[49m\u001b[43m)\u001b[49m\n\u001b[1;32m   4103\u001b[0m \u001b[38;5;28;01mif\u001b[39;00m is_integer(indexer):\n\u001b[1;32m   4104\u001b[0m     indexer \u001b[38;5;241m=\u001b[39m [indexer]\n",
      "File \u001b[0;32m~/.pyenv/versions/engine_rec_312/lib/python3.12/site-packages/pandas/core/indexes/base.py:3812\u001b[0m, in \u001b[0;36mIndex.get_loc\u001b[0;34m(self, key)\u001b[0m\n\u001b[1;32m   3807\u001b[0m     \u001b[38;5;28;01mif\u001b[39;00m \u001b[38;5;28misinstance\u001b[39m(casted_key, \u001b[38;5;28mslice\u001b[39m) \u001b[38;5;129;01mor\u001b[39;00m (\n\u001b[1;32m   3808\u001b[0m         \u001b[38;5;28misinstance\u001b[39m(casted_key, abc\u001b[38;5;241m.\u001b[39mIterable)\n\u001b[1;32m   3809\u001b[0m         \u001b[38;5;129;01mand\u001b[39;00m \u001b[38;5;28many\u001b[39m(\u001b[38;5;28misinstance\u001b[39m(x, \u001b[38;5;28mslice\u001b[39m) \u001b[38;5;28;01mfor\u001b[39;00m x \u001b[38;5;129;01min\u001b[39;00m casted_key)\n\u001b[1;32m   3810\u001b[0m     ):\n\u001b[1;32m   3811\u001b[0m         \u001b[38;5;28;01mraise\u001b[39;00m InvalidIndexError(key)\n\u001b[0;32m-> 3812\u001b[0m     \u001b[38;5;28;01mraise\u001b[39;00m \u001b[38;5;167;01mKeyError\u001b[39;00m(key) \u001b[38;5;28;01mfrom\u001b[39;00m\u001b[38;5;250m \u001b[39m\u001b[38;5;21;01merr\u001b[39;00m\n\u001b[1;32m   3813\u001b[0m \u001b[38;5;28;01mexcept\u001b[39;00m \u001b[38;5;167;01mTypeError\u001b[39;00m:\n\u001b[1;32m   3814\u001b[0m     \u001b[38;5;66;03m# If we have a listlike key, _check_indexing_error will raise\u001b[39;00m\n\u001b[1;32m   3815\u001b[0m     \u001b[38;5;66;03m#  InvalidIndexError. Otherwise we fall through and re-raise\u001b[39;00m\n\u001b[1;32m   3816\u001b[0m     \u001b[38;5;66;03m#  the TypeError.\u001b[39;00m\n\u001b[1;32m   3817\u001b[0m     \u001b[38;5;28mself\u001b[39m\u001b[38;5;241m.\u001b[39m_check_indexing_error(key)\n",
      "\u001b[0;31mKeyError\u001b[0m: 'similarity_conviction'"
     ]
    }
   ],
   "source": [
    "stored_convictions['similarity_conviction']"
   ]
  },
  {
   "cell_type": "code",
   "execution_count": 15,
   "id": "1c47069c",
   "metadata": {},
   "outputs": [
    {
     "data": {
      "text/html": [
       "<div>\n",
       "<style scoped>\n",
       "    .dataframe tbody tr th:only-of-type {\n",
       "        vertical-align: middle;\n",
       "    }\n",
       "\n",
       "    .dataframe tbody tr th {\n",
       "        vertical-align: top;\n",
       "    }\n",
       "\n",
       "    .dataframe thead th {\n",
       "        text-align: right;\n",
       "    }\n",
       "</style>\n",
       "<table border=\"1\" class=\"dataframe\">\n",
       "  <thead>\n",
       "    <tr style=\"text-align: right;\">\n",
       "      <th></th>\n",
       "      <th>.env_temperature_lag_3</th>\n",
       "      <th>.env_humidity_lag_3</th>\n",
       "      <th>.brake_pad_thickness_mm_lag_3</th>\n",
       "      <th>.env_temperature_lag_2</th>\n",
       "      <th>.env_temperature_lag_1</th>\n",
       "      <th>.env_humidity_lag_2</th>\n",
       "      <th>.tire_thickness_mm_lag_3</th>\n",
       "      <th>.brake_pad_thickness_mm_lag_1</th>\n",
       "      <th>.tire_thickness_mm_rate_1</th>\n",
       "      <th>tire_thickness_mm</th>\n",
       "      <th>...</th>\n",
       "      <th>.tire_thickness_mm_lag_2</th>\n",
       "      <th>vibration_level</th>\n",
       "      <th>brake_pad_thickness_mm</th>\n",
       "      <th>.env_humidity_rate_1</th>\n",
       "      <th>env_temperature</th>\n",
       "      <th>.vibration_level_rate_1</th>\n",
       "      <th>env_humidity</th>\n",
       "      <th>.tire_thickness_mm_lag_1</th>\n",
       "      <th>.vibration_level_lag_2</th>\n",
       "      <th>.env_temperature_rate_1</th>\n",
       "    </tr>\n",
       "  </thead>\n",
       "  <tbody>\n",
       "    <tr>\n",
       "      <th>0</th>\n",
       "      <td>0.008726</td>\n",
       "      <td>0.008923</td>\n",
       "      <td>0.006257</td>\n",
       "      <td>0.008488</td>\n",
       "      <td>0.007433</td>\n",
       "      <td>0.00876</td>\n",
       "      <td>0.005017</td>\n",
       "      <td>0.006598</td>\n",
       "      <td>0.005915</td>\n",
       "      <td>0.003945</td>\n",
       "      <td>...</td>\n",
       "      <td>0.00463</td>\n",
       "      <td>0.014766</td>\n",
       "      <td>0.006623</td>\n",
       "      <td>0.007451</td>\n",
       "      <td>0.007779</td>\n",
       "      <td>0.00949</td>\n",
       "      <td>0.008462</td>\n",
       "      <td>0.00448</td>\n",
       "      <td>0.016768</td>\n",
       "      <td>0.007294</td>\n",
       "    </tr>\n",
       "  </tbody>\n",
       "</table>\n",
       "<p>1 rows × 25 columns</p>\n",
       "</div>"
      ],
      "text/plain": [
       "   .env_temperature_lag_3  .env_humidity_lag_3  .brake_pad_thickness_mm_lag_3  \\\n",
       "0                0.008726             0.008923                       0.006257   \n",
       "\n",
       "   .env_temperature_lag_2  .env_temperature_lag_1  .env_humidity_lag_2  \\\n",
       "0                0.008488                0.007433              0.00876   \n",
       "\n",
       "   .tire_thickness_mm_lag_3  .brake_pad_thickness_mm_lag_1  \\\n",
       "0                  0.005017                       0.006598   \n",
       "\n",
       "   .tire_thickness_mm_rate_1  tire_thickness_mm  ...  \\\n",
       "0                   0.005915           0.003945  ...   \n",
       "\n",
       "   .tire_thickness_mm_lag_2  vibration_level  brake_pad_thickness_mm  \\\n",
       "0                   0.00463         0.014766                0.006623   \n",
       "\n",
       "   .env_humidity_rate_1  env_temperature  .vibration_level_rate_1  \\\n",
       "0              0.007451         0.007779                  0.00949   \n",
       "\n",
       "   env_humidity  .tire_thickness_mm_lag_1  .vibration_level_lag_2  \\\n",
       "0      0.008462                   0.00448                0.016768   \n",
       "\n",
       "   .env_temperature_rate_1  \n",
       "0                 0.007294  \n",
       "\n",
       "[1 rows x 25 columns]"
      ]
     },
     "execution_count": 15,
     "metadata": {},
     "output_type": "execute_result"
    }
   ],
   "source": [
    "feature_residuals=stats['feature_residuals_robust']['maintenance_needed']\n",
    "fc_robust = pd.DataFrame.from_dict([stats['feature_contributions_robust']])\n",
    "fc_robust"
   ]
  },
  {
   "cell_type": "code",
   "execution_count": 16,
   "id": "c5c6743a",
   "metadata": {},
   "outputs": [
    {
     "data": {
      "application/vnd.plotly.v1+json": {
       "config": {
        "plotlyServerURL": "https://plot.ly"
       },
       "data": [
        {
         "error_y": {
          "array": [
           0.001859973709495353,
           0.001859973709495353,
           0.001859973709495353,
           0.001859973709495353,
           0.001859973709495353,
           0.001859973709495353,
           0.001859973709495353,
           0.001859973709495353,
           0.001859973709495353,
           0.001859973709495353,
           0.001859973709495353,
           0.001859973709495353,
           0.001859973709495353,
           0.001859973709495353,
           0.001859973709495353,
           0.001859973709495353,
           0.001859973709495353,
           0.001859973709495353,
           0.001859973709495353,
           0.001859973709495353,
           0.001859973709495353,
           0.001859973709495353,
           0.001859973709495353,
           0.001859973709495353,
           0.001859973709495353
          ],
          "type": "data",
          "visible": true
         },
         "type": "bar",
         "x": [
          ".vibration_level_lag_2",
          "vibration_level",
          ".vibration_level_lag_1",
          ".vibration_level_lag_3",
          ".vibration_level_rate_1",
          ".env_humidity_lag_3",
          ".env_humidity_lag_2",
          ".env_temperature_lag_3",
          ".env_temperature_lag_2",
          "env_humidity",
          "env_temperature",
          ".env_humidity_lag_1",
          ".env_humidity_rate_1",
          ".env_temperature_lag_1",
          ".env_temperature_rate_1",
          "brake_pad_thickness_mm",
          ".brake_pad_thickness_mm_lag_2",
          ".brake_pad_thickness_mm_lag_1",
          ".brake_pad_thickness_mm_lag_3",
          ".tire_thickness_mm_rate_1",
          ".brake_pad_thickness_mm_rate_1",
          ".tire_thickness_mm_lag_3",
          ".tire_thickness_mm_lag_2",
          ".tire_thickness_mm_lag_1",
          "tire_thickness_mm"
         ],
         "y": [
          0.016768451143805166,
          0.014766315950823233,
          0.014724453327699782,
          0.010415451678222089,
          0.009490368827524293,
          0.008923154987439222,
          0.00876005649854189,
          0.008725853121803987,
          0.008488093929899887,
          0.008461662397388601,
          0.0077792437248535165,
          0.00745443082159683,
          0.007451496473777412,
          0.007432663111488371,
          0.007294469150464475,
          0.006623149694931116,
          0.006617415656371623,
          0.006597556569498418,
          0.006256686636056238,
          0.005914620697338524,
          0.005655776910624504,
          0.005016793021615341,
          0.004630181346978495,
          0.004479883714973565,
          0.0039453067257730415
         ]
        }
       ],
       "layout": {
        "template": {
         "data": {
          "bar": [
           {
            "error_x": {
             "color": "#2a3f5f"
            },
            "error_y": {
             "color": "#2a3f5f"
            },
            "marker": {
             "line": {
              "color": "#E5ECF6",
              "width": 0.5
             },
             "pattern": {
              "fillmode": "overlay",
              "size": 10,
              "solidity": 0.2
             }
            },
            "type": "bar"
           }
          ],
          "barpolar": [
           {
            "marker": {
             "line": {
              "color": "#E5ECF6",
              "width": 0.5
             },
             "pattern": {
              "fillmode": "overlay",
              "size": 10,
              "solidity": 0.2
             }
            },
            "type": "barpolar"
           }
          ],
          "carpet": [
           {
            "aaxis": {
             "endlinecolor": "#2a3f5f",
             "gridcolor": "white",
             "linecolor": "white",
             "minorgridcolor": "white",
             "startlinecolor": "#2a3f5f"
            },
            "baxis": {
             "endlinecolor": "#2a3f5f",
             "gridcolor": "white",
             "linecolor": "white",
             "minorgridcolor": "white",
             "startlinecolor": "#2a3f5f"
            },
            "type": "carpet"
           }
          ],
          "choropleth": [
           {
            "colorbar": {
             "outlinewidth": 0,
             "ticks": ""
            },
            "type": "choropleth"
           }
          ],
          "contour": [
           {
            "colorbar": {
             "outlinewidth": 0,
             "ticks": ""
            },
            "colorscale": [
             [
              0,
              "#0d0887"
             ],
             [
              0.1111111111111111,
              "#46039f"
             ],
             [
              0.2222222222222222,
              "#7201a8"
             ],
             [
              0.3333333333333333,
              "#9c179e"
             ],
             [
              0.4444444444444444,
              "#bd3786"
             ],
             [
              0.5555555555555556,
              "#d8576b"
             ],
             [
              0.6666666666666666,
              "#ed7953"
             ],
             [
              0.7777777777777778,
              "#fb9f3a"
             ],
             [
              0.8888888888888888,
              "#fdca26"
             ],
             [
              1,
              "#f0f921"
             ]
            ],
            "type": "contour"
           }
          ],
          "contourcarpet": [
           {
            "colorbar": {
             "outlinewidth": 0,
             "ticks": ""
            },
            "type": "contourcarpet"
           }
          ],
          "heatmap": [
           {
            "colorbar": {
             "outlinewidth": 0,
             "ticks": ""
            },
            "colorscale": [
             [
              0,
              "#0d0887"
             ],
             [
              0.1111111111111111,
              "#46039f"
             ],
             [
              0.2222222222222222,
              "#7201a8"
             ],
             [
              0.3333333333333333,
              "#9c179e"
             ],
             [
              0.4444444444444444,
              "#bd3786"
             ],
             [
              0.5555555555555556,
              "#d8576b"
             ],
             [
              0.6666666666666666,
              "#ed7953"
             ],
             [
              0.7777777777777778,
              "#fb9f3a"
             ],
             [
              0.8888888888888888,
              "#fdca26"
             ],
             [
              1,
              "#f0f921"
             ]
            ],
            "type": "heatmap"
           }
          ],
          "heatmapgl": [
           {
            "colorbar": {
             "outlinewidth": 0,
             "ticks": ""
            },
            "colorscale": [
             [
              0,
              "#0d0887"
             ],
             [
              0.1111111111111111,
              "#46039f"
             ],
             [
              0.2222222222222222,
              "#7201a8"
             ],
             [
              0.3333333333333333,
              "#9c179e"
             ],
             [
              0.4444444444444444,
              "#bd3786"
             ],
             [
              0.5555555555555556,
              "#d8576b"
             ],
             [
              0.6666666666666666,
              "#ed7953"
             ],
             [
              0.7777777777777778,
              "#fb9f3a"
             ],
             [
              0.8888888888888888,
              "#fdca26"
             ],
             [
              1,
              "#f0f921"
             ]
            ],
            "type": "heatmapgl"
           }
          ],
          "histogram": [
           {
            "marker": {
             "pattern": {
              "fillmode": "overlay",
              "size": 10,
              "solidity": 0.2
             }
            },
            "type": "histogram"
           }
          ],
          "histogram2d": [
           {
            "colorbar": {
             "outlinewidth": 0,
             "ticks": ""
            },
            "colorscale": [
             [
              0,
              "#0d0887"
             ],
             [
              0.1111111111111111,
              "#46039f"
             ],
             [
              0.2222222222222222,
              "#7201a8"
             ],
             [
              0.3333333333333333,
              "#9c179e"
             ],
             [
              0.4444444444444444,
              "#bd3786"
             ],
             [
              0.5555555555555556,
              "#d8576b"
             ],
             [
              0.6666666666666666,
              "#ed7953"
             ],
             [
              0.7777777777777778,
              "#fb9f3a"
             ],
             [
              0.8888888888888888,
              "#fdca26"
             ],
             [
              1,
              "#f0f921"
             ]
            ],
            "type": "histogram2d"
           }
          ],
          "histogram2dcontour": [
           {
            "colorbar": {
             "outlinewidth": 0,
             "ticks": ""
            },
            "colorscale": [
             [
              0,
              "#0d0887"
             ],
             [
              0.1111111111111111,
              "#46039f"
             ],
             [
              0.2222222222222222,
              "#7201a8"
             ],
             [
              0.3333333333333333,
              "#9c179e"
             ],
             [
              0.4444444444444444,
              "#bd3786"
             ],
             [
              0.5555555555555556,
              "#d8576b"
             ],
             [
              0.6666666666666666,
              "#ed7953"
             ],
             [
              0.7777777777777778,
              "#fb9f3a"
             ],
             [
              0.8888888888888888,
              "#fdca26"
             ],
             [
              1,
              "#f0f921"
             ]
            ],
            "type": "histogram2dcontour"
           }
          ],
          "mesh3d": [
           {
            "colorbar": {
             "outlinewidth": 0,
             "ticks": ""
            },
            "type": "mesh3d"
           }
          ],
          "parcoords": [
           {
            "line": {
             "colorbar": {
              "outlinewidth": 0,
              "ticks": ""
             }
            },
            "type": "parcoords"
           }
          ],
          "pie": [
           {
            "automargin": true,
            "type": "pie"
           }
          ],
          "scatter": [
           {
            "fillpattern": {
             "fillmode": "overlay",
             "size": 10,
             "solidity": 0.2
            },
            "type": "scatter"
           }
          ],
          "scatter3d": [
           {
            "line": {
             "colorbar": {
              "outlinewidth": 0,
              "ticks": ""
             }
            },
            "marker": {
             "colorbar": {
              "outlinewidth": 0,
              "ticks": ""
             }
            },
            "type": "scatter3d"
           }
          ],
          "scattercarpet": [
           {
            "marker": {
             "colorbar": {
              "outlinewidth": 0,
              "ticks": ""
             }
            },
            "type": "scattercarpet"
           }
          ],
          "scattergeo": [
           {
            "marker": {
             "colorbar": {
              "outlinewidth": 0,
              "ticks": ""
             }
            },
            "type": "scattergeo"
           }
          ],
          "scattergl": [
           {
            "marker": {
             "colorbar": {
              "outlinewidth": 0,
              "ticks": ""
             }
            },
            "type": "scattergl"
           }
          ],
          "scattermapbox": [
           {
            "marker": {
             "colorbar": {
              "outlinewidth": 0,
              "ticks": ""
             }
            },
            "type": "scattermapbox"
           }
          ],
          "scatterpolar": [
           {
            "marker": {
             "colorbar": {
              "outlinewidth": 0,
              "ticks": ""
             }
            },
            "type": "scatterpolar"
           }
          ],
          "scatterpolargl": [
           {
            "marker": {
             "colorbar": {
              "outlinewidth": 0,
              "ticks": ""
             }
            },
            "type": "scatterpolargl"
           }
          ],
          "scatterternary": [
           {
            "marker": {
             "colorbar": {
              "outlinewidth": 0,
              "ticks": ""
             }
            },
            "type": "scatterternary"
           }
          ],
          "surface": [
           {
            "colorbar": {
             "outlinewidth": 0,
             "ticks": ""
            },
            "colorscale": [
             [
              0,
              "#0d0887"
             ],
             [
              0.1111111111111111,
              "#46039f"
             ],
             [
              0.2222222222222222,
              "#7201a8"
             ],
             [
              0.3333333333333333,
              "#9c179e"
             ],
             [
              0.4444444444444444,
              "#bd3786"
             ],
             [
              0.5555555555555556,
              "#d8576b"
             ],
             [
              0.6666666666666666,
              "#ed7953"
             ],
             [
              0.7777777777777778,
              "#fb9f3a"
             ],
             [
              0.8888888888888888,
              "#fdca26"
             ],
             [
              1,
              "#f0f921"
             ]
            ],
            "type": "surface"
           }
          ],
          "table": [
           {
            "cells": {
             "fill": {
              "color": "#EBF0F8"
             },
             "line": {
              "color": "white"
             }
            },
            "header": {
             "fill": {
              "color": "#C8D4E3"
             },
             "line": {
              "color": "white"
             }
            },
            "type": "table"
           }
          ]
         },
         "layout": {
          "annotationdefaults": {
           "arrowcolor": "#2a3f5f",
           "arrowhead": 0,
           "arrowwidth": 1
          },
          "autotypenumbers": "strict",
          "coloraxis": {
           "colorbar": {
            "outlinewidth": 0,
            "ticks": ""
           }
          },
          "colorscale": {
           "diverging": [
            [
             0,
             "#8e0152"
            ],
            [
             0.1,
             "#c51b7d"
            ],
            [
             0.2,
             "#de77ae"
            ],
            [
             0.3,
             "#f1b6da"
            ],
            [
             0.4,
             "#fde0ef"
            ],
            [
             0.5,
             "#f7f7f7"
            ],
            [
             0.6,
             "#e6f5d0"
            ],
            [
             0.7,
             "#b8e186"
            ],
            [
             0.8,
             "#7fbc41"
            ],
            [
             0.9,
             "#4d9221"
            ],
            [
             1,
             "#276419"
            ]
           ],
           "sequential": [
            [
             0,
             "#0d0887"
            ],
            [
             0.1111111111111111,
             "#46039f"
            ],
            [
             0.2222222222222222,
             "#7201a8"
            ],
            [
             0.3333333333333333,
             "#9c179e"
            ],
            [
             0.4444444444444444,
             "#bd3786"
            ],
            [
             0.5555555555555556,
             "#d8576b"
            ],
            [
             0.6666666666666666,
             "#ed7953"
            ],
            [
             0.7777777777777778,
             "#fb9f3a"
            ],
            [
             0.8888888888888888,
             "#fdca26"
            ],
            [
             1,
             "#f0f921"
            ]
           ],
           "sequentialminus": [
            [
             0,
             "#0d0887"
            ],
            [
             0.1111111111111111,
             "#46039f"
            ],
            [
             0.2222222222222222,
             "#7201a8"
            ],
            [
             0.3333333333333333,
             "#9c179e"
            ],
            [
             0.4444444444444444,
             "#bd3786"
            ],
            [
             0.5555555555555556,
             "#d8576b"
            ],
            [
             0.6666666666666666,
             "#ed7953"
            ],
            [
             0.7777777777777778,
             "#fb9f3a"
            ],
            [
             0.8888888888888888,
             "#fdca26"
            ],
            [
             1,
             "#f0f921"
            ]
           ]
          },
          "colorway": [
           "#636efa",
           "#EF553B",
           "#00cc96",
           "#ab63fa",
           "#FFA15A",
           "#19d3f3",
           "#FF6692",
           "#B6E880",
           "#FF97FF",
           "#FECB52"
          ],
          "font": {
           "color": "#2a3f5f"
          },
          "geo": {
           "bgcolor": "white",
           "lakecolor": "white",
           "landcolor": "#E5ECF6",
           "showlakes": true,
           "showland": true,
           "subunitcolor": "white"
          },
          "hoverlabel": {
           "align": "left"
          },
          "hovermode": "closest",
          "mapbox": {
           "style": "light"
          },
          "paper_bgcolor": "white",
          "plot_bgcolor": "#E5ECF6",
          "polar": {
           "angularaxis": {
            "gridcolor": "white",
            "linecolor": "white",
            "ticks": ""
           },
           "bgcolor": "#E5ECF6",
           "radialaxis": {
            "gridcolor": "white",
            "linecolor": "white",
            "ticks": ""
           }
          },
          "scene": {
           "xaxis": {
            "backgroundcolor": "#E5ECF6",
            "gridcolor": "white",
            "gridwidth": 2,
            "linecolor": "white",
            "showbackground": true,
            "ticks": "",
            "zerolinecolor": "white"
           },
           "yaxis": {
            "backgroundcolor": "#E5ECF6",
            "gridcolor": "white",
            "gridwidth": 2,
            "linecolor": "white",
            "showbackground": true,
            "ticks": "",
            "zerolinecolor": "white"
           },
           "zaxis": {
            "backgroundcolor": "#E5ECF6",
            "gridcolor": "white",
            "gridwidth": 2,
            "linecolor": "white",
            "showbackground": true,
            "ticks": "",
            "zerolinecolor": "white"
           }
          },
          "shapedefaults": {
           "line": {
            "color": "#2a3f5f"
           }
          },
          "ternary": {
           "aaxis": {
            "gridcolor": "white",
            "linecolor": "white",
            "ticks": ""
           },
           "baxis": {
            "gridcolor": "white",
            "linecolor": "white",
            "ticks": ""
           },
           "bgcolor": "#E5ECF6",
           "caxis": {
            "gridcolor": "white",
            "linecolor": "white",
            "ticks": ""
           }
          },
          "title": {
           "x": 0.05
          },
          "xaxis": {
           "automargin": true,
           "gridcolor": "white",
           "linecolor": "white",
           "ticks": "",
           "title": {
            "standoff": 15
           },
           "zerolinecolor": "white",
           "zerolinewidth": 2
          },
          "yaxis": {
           "automargin": true,
           "gridcolor": "white",
           "linecolor": "white",
           "ticks": "",
           "title": {
            "standoff": 15
           },
           "zerolinecolor": "white",
           "zerolinewidth": 2
          }
         }
        },
        "title": {
         "text": "Feature Importances"
        },
        "xaxis": {
         "anchor": "y",
         "domain": [
          0,
          1
         ],
         "title": {
          "text": "Feature"
         }
        },
        "yaxis": {
         "anchor": "x",
         "domain": [
          0,
          1
         ],
         "title": {
          "text": "Importance"
         }
        }
       }
      }
     },
     "metadata": {},
     "output_type": "display_data"
    }
   ],
   "source": [
    "plot_feature_importances(fc_robust, feature_residuals=feature_residuals)"
   ]
  }
 ],
 "metadata": {
  "kernelspec": {
   "display_name": "engine_rec_312",
   "language": "python",
   "name": "python3"
  },
  "language_info": {
   "codemirror_mode": {
    "name": "ipython",
    "version": 3
   },
   "file_extension": ".py",
   "mimetype": "text/x-python",
   "name": "python",
   "nbconvert_exporter": "python",
   "pygments_lexer": "ipython3",
   "version": "3.12.0"
  }
 },
 "nbformat": 4,
 "nbformat_minor": 5
}
