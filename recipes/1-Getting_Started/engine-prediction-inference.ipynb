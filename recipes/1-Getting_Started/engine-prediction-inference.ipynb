{
 "cells": [
  {
   "cell_type": "markdown",
   "id": "89c7783a-b0f4-4e2d-9c7c-0663c41f86de",
   "metadata": {},
   "source": [
    "# Howso Engine Inference \n",
    "\n",
    "## Overview \n",
    "\n",
    " \n",
    "Howso Engine is a generalized Machine Learning (ML) and Artificial Intelligence platform that creates powerful decision-making models that are fully explainable, auditable, and editable. Howso Engine uses Instance-Based Machine Learning which stores instances, i.e., data points, in memory and makes predictions about new instances given their relationship to existing instances. This technology harnesses a fast spatial query system and techniques from information theory to enhance both performance and accuracy. \n",
    "\n",
    "\n",
    "In this notebook we will explore the most basic workflow for training Howso Engine and making predictions. \n"
   ]
  },
  {
   "cell_type": "code",
   "execution_count": 1,
   "id": "729f6c7a-4b11-4311-aad9-03f89a568e3f",
   "metadata": {
    "execution": {
     "iopub.execute_input": "2024-03-28T21:10:01.965015Z",
     "iopub.status.busy": "2024-03-28T21:10:01.964852Z",
     "iopub.status.idle": "2024-03-28T21:10:02.379104Z",
     "shell.execute_reply": "2024-03-28T21:10:02.378587Z"
    }
   },
   "outputs": [],
   "source": [
    "from pmlb import fetch_data\n",
    "\n",
    "from howso.engine import Trainee\n",
    "from howso.utilities import infer_feature_attributes"
   ]
  },
  {
   "cell_type": "markdown",
   "id": "dc81651d-62ab-4ac2-80d1-a58ddeaa0413",
   "metadata": {},
   "source": [
    "# Step 1: Import Data\n",
    "\n",
    "Our example dataset for this recipe is the well known `Adult` dataset. This dataset consists of 14 Context Features and 1 Action Feature. The Action Feature in this version of the `Adult` dataset has been renamed to `target` and it takes the form of a binary indicator for whether a person in the data makes more than $50,000/year (*target*=1) or less (*target*=0).\n",
    "\n",
    "### **Definitions:**\n",
    "\n",
    "**`Action Feature`:** A feature that the user would like to discriminatively predict or generatively synthesize. In traditional ML these may be referred to as targets, target features, or dependent variables.\n",
    "\n",
    "**`Context Feature`:** A feature that is used as an input to the model that creates a context from which a prediction is derived. In traditional ML these are often referred to as features, inputs, predictors, or independent features."
   ]
  },
  {
   "cell_type": "code",
   "execution_count": 2,
   "id": "0536252d-2900-46a7-af8b-d333da46e2e0",
   "metadata": {
    "execution": {
     "iopub.execute_input": "2024-03-28T21:10:02.381812Z",
     "iopub.status.busy": "2024-03-28T21:10:02.381525Z",
     "iopub.status.idle": "2024-03-28T21:10:02.447961Z",
     "shell.execute_reply": "2024-03-28T21:10:02.447453Z"
    }
   },
   "outputs": [],
   "source": [
    "df = fetch_data('adult', local_cache_dir=\"../../data/adult\")\n",
    "\n",
    "# Subsample the data to ensure the example runs quickly\n",
    "df = df.sample(2001)\n",
    "\n",
    "# Split out the last row for a test set\n",
    "df_test = df.iloc[[-1]].copy()\n",
    "df_test = df_test.drop('target', axis=1)\n",
    "\n",
    "df.drop(df.index[-1], inplace=True)"
   ]
  },
  {
   "cell_type": "markdown",
   "id": "ec71ebee-2879-418a-a3d4-94da3e5cecd1",
   "metadata": {},
   "source": [
    "# Step 2: Feature Mapping"
   ]
  },
  {
   "cell_type": "markdown",
   "id": "8d1b856f",
   "metadata": {},
   "source": [
    "In the Howso Engine workflow, feature attributes are an essential part of model building and usage. By incorporating certain feature attributes into the model itself, Howso Engine gains another layer of information that will help in fine-tuning the results. \n",
    "\n",
    "In order to assist the user with defining the feature attributes, Howso provides the `infer_feature_attributes` function that automatically processes the dataset for the user.\n",
    "\n",
    "These feature attributes are based on the existing data, rather than exact descriptive statistics. This is why, for example, the min and max bounds on continuous features are not the exact min and max values of the dataset, but rather an expanded version of those min and max values to allow for some variation. However, users are encouraged to manually adjust feature attributes such as bounds if the properties of any features in the data are well defined.\n",
    "\n",
    "Additionally, Howso always encourages users to inspect the feature attributes of their data. Incorrect feature attributes can severely impact the accuracy of the model. Specific errors to lookout for are incorrect values for 'type' or 'bounds'."
   ]
  },
  {
   "cell_type": "code",
   "execution_count": 3,
   "id": "102736cd",
   "metadata": {
    "execution": {
     "iopub.execute_input": "2024-03-28T21:10:02.477521Z",
     "iopub.status.busy": "2024-03-28T21:10:02.477357Z",
     "iopub.status.idle": "2024-03-28T21:10:02.496790Z",
     "shell.execute_reply": "2024-03-28T21:10:02.496407Z"
    }
   },
   "outputs": [
    {
     "data": {
      "text/plain": [
       "{'age': {'type': 'continuous',\n",
       "  'decimal_places': 0,\n",
       "  'original_type': {'data_type': 'numeric', 'size': 8},\n",
       "  'bounds': {'min': 7.0, 'max': 148.0}},\n",
       " 'workclass': {'type': 'nominal',\n",
       "  'data_type': 'number',\n",
       "  'decimal_places': 0,\n",
       "  'original_type': {'data_type': 'integer', 'size': 8},\n",
       "  'bounds': {'allow_null': False}},\n",
       " 'fnlwgt': {'type': 'continuous',\n",
       "  'decimal_places': 0,\n",
       "  'original_type': {'data_type': 'numeric', 'size': 8},\n",
       "  'bounds': {'min': 8103.0, 'max': 1202604.0}},\n",
       " 'education': {'type': 'nominal',\n",
       "  'data_type': 'number',\n",
       "  'decimal_places': 0,\n",
       "  'original_type': {'data_type': 'integer', 'size': 8},\n",
       "  'bounds': {'allow_null': False}},\n",
       " 'education-num': {'type': 'continuous',\n",
       "  'decimal_places': 0,\n",
       "  'original_type': {'data_type': 'numeric', 'size': 8},\n",
       "  'bounds': {'min': 1.0, 'max': 20.0}},\n",
       " 'marital-status': {'type': 'nominal',\n",
       "  'data_type': 'number',\n",
       "  'decimal_places': 0,\n",
       "  'original_type': {'data_type': 'integer', 'size': 8},\n",
       "  'bounds': {'allow_null': False}},\n",
       " 'occupation': {'type': 'nominal',\n",
       "  'data_type': 'number',\n",
       "  'decimal_places': 0,\n",
       "  'original_type': {'data_type': 'integer', 'size': 8},\n",
       "  'bounds': {'allow_null': False}},\n",
       " 'relationship': {'type': 'nominal',\n",
       "  'data_type': 'number',\n",
       "  'decimal_places': 0,\n",
       "  'original_type': {'data_type': 'integer', 'size': 8},\n",
       "  'bounds': {'allow_null': False}},\n",
       " 'race': {'type': 'nominal',\n",
       "  'data_type': 'number',\n",
       "  'decimal_places': 0,\n",
       "  'original_type': {'data_type': 'integer', 'size': 8},\n",
       "  'bounds': {'allow_null': False}},\n",
       " 'sex': {'type': 'nominal',\n",
       "  'data_type': 'number',\n",
       "  'decimal_places': 0,\n",
       "  'original_type': {'data_type': 'integer', 'size': 8},\n",
       "  'bounds': {'allow_null': False}},\n",
       " 'capital-gain': {'type': 'continuous',\n",
       "  'decimal_places': 0,\n",
       "  'original_type': {'data_type': 'numeric', 'size': 8},\n",
       "  'bounds': {'min': 0.0, 'max': 162755.0}},\n",
       " 'capital-loss': {'type': 'continuous',\n",
       "  'decimal_places': 0,\n",
       "  'original_type': {'data_type': 'numeric', 'size': 8},\n",
       "  'bounds': {'min': 0.0, 'max': 8103.0}},\n",
       " 'hours-per-week': {'type': 'continuous',\n",
       "  'decimal_places': 0,\n",
       "  'original_type': {'data_type': 'numeric', 'size': 8},\n",
       "  'bounds': {'min': 1.0, 'max': 148.0}},\n",
       " 'native-country': {'type': 'nominal',\n",
       "  'data_type': 'number',\n",
       "  'decimal_places': 0,\n",
       "  'original_type': {'data_type': 'integer', 'size': 8},\n",
       "  'bounds': {'allow_null': False}},\n",
       " 'target': {'type': 'nominal',\n",
       "  'data_type': 'number',\n",
       "  'decimal_places': 0,\n",
       "  'original_type': {'data_type': 'integer', 'size': 8},\n",
       "  'bounds': {'allow_null': False}}}"
      ]
     },
     "execution_count": 3,
     "metadata": {},
     "output_type": "execute_result"
    }
   ],
   "source": [
    "# Infer features attributes\n",
    "features = infer_feature_attributes(df)\n",
    "features"
   ]
  },
  {
   "cell_type": "markdown",
   "id": "e6fdda6e",
   "metadata": {},
   "source": [
    "To prepare to measure model performance, we also define our action features and context features that we want to use in our experiment."
   ]
  },
  {
   "cell_type": "code",
   "execution_count": 4,
   "id": "b5999f86-1baf-4a67-b849-c9a8f73e2451",
   "metadata": {
    "execution": {
     "iopub.execute_input": "2024-03-28T21:10:02.498624Z",
     "iopub.status.busy": "2024-03-28T21:10:02.498460Z",
     "iopub.status.idle": "2024-03-28T21:10:02.500857Z",
     "shell.execute_reply": "2024-03-28T21:10:02.500478Z"
    }
   },
   "outputs": [],
   "source": [
    "# Specify Context and Action Features\n",
    "action_features = ['target']\n",
    "context_features = features.get_names(without=action_features)"
   ]
  },
  {
   "cell_type": "markdown",
   "id": "c047722c-3d5e-4c88-ba05-59cfe5f82325",
   "metadata": {},
   "source": [
    "# Step 3: Create Trainee"
   ]
  },
  {
   "cell_type": "markdown",
   "id": "ce2a88f1-6ca1-4c75-a545-760710946e35",
   "metadata": {},
   "source": [
    "To begin the Howso Engine workflow, a Trainee is created to act as a base for all of our ML needs. In all subsequent notebooks, we will refer to Howso Engine's model as the Trainee.\n",
    "\n",
    "### **Definitions:**\n",
    "\n",
    "**`Trainee`:** A collection of Cases that comprise knowledge. It also includes metadata and parameters. In traditional ML this is referred to as a model.\n",
    "\n",
    "**`Case`:** A set of feature values representing an observation. In traditional ML, a Case is sometimes referred to as an \"observation\", \"record\", or \"data point\". In database terms, a Case would be a row of values. For supervised learning a Case is a set of Context values and Action values. For unsupervised learning a Case is just a set of feature values. "
   ]
  },
  {
   "cell_type": "code",
   "execution_count": 5,
   "id": "71444a54-555e-4147-9535-ceff2e42440c",
   "metadata": {
    "execution": {
     "iopub.execute_input": "2024-03-28T21:10:02.502955Z",
     "iopub.status.busy": "2024-03-28T21:10:02.502638Z",
     "iopub.status.idle": "2024-03-28T21:10:02.652829Z",
     "shell.execute_reply": "2024-03-28T21:10:02.652314Z"
    }
   },
   "outputs": [
    {
     "name": "stderr",
     "output_type": "stream",
     "text": [
      "Version 18.1.2 of Howso Engine™ is available. You are using version 18.0.2.\n"
     ]
    }
   ],
   "source": [
    "# Create the Trainee\n",
    "t = Trainee(\n",
    "    features=features,\n",
    "    overwrite_existing=True\n",
    ")"
   ]
  },
  {
   "cell_type": "markdown",
   "id": "7cd0bdc6",
   "metadata": {},
   "source": [
    "# Step 4: Preprocessing and Training\n",
    "\n",
    "One benefit of Howso Engine is that most standard forms of data pre-processing such as one-hot encoding and standardization are **NOT** needed, which is in contrast to many modern ML models. This does not include more sophisticated forms of pre-processing such as feature selection or feature engineering, which may still be useful. Fitting is also done in two steps in Howso Engine.\n",
    "\n",
    "### **Definitions:**\n",
    "\n",
    "**`Train`:** To add a case or set of cases to the Trainee, making the information contained in these cases available for downstream tasks.\n",
    "\n",
    "**`Analyze`:** Tune internal parameters to improve performance and accuracy of predictions and metrics. Analysis may be targeted or targetless.  Targetless analysis provides the best balanced set of parameters if an Action Feature is not specified, along with a performance boost while targeted analysis provides a boost to accuracy towards the specified action features. \n"
   ]
  },
  {
   "cell_type": "code",
   "execution_count": 6,
   "id": "317c900d",
   "metadata": {
    "execution": {
     "iopub.execute_input": "2024-03-28T21:10:02.655267Z",
     "iopub.status.busy": "2024-03-28T21:10:02.655032Z",
     "iopub.status.idle": "2024-03-28T21:10:47.977544Z",
     "shell.execute_reply": "2024-03-28T21:10:47.977048Z"
    }
   },
   "outputs": [],
   "source": [
    "# Train\n",
    "t.train(df)\n",
    "\n",
    "# Analyze the Trainee\n",
    "# (By specifying action_features, this becomes a Targeted analysis)\n",
    "t.analyze(context_features=context_features, action_features=action_features)"
   ]
  },
  {
   "cell_type": "markdown",
   "id": "bceee584",
   "metadata": {},
   "source": [
    "# Step 5: Inference\n",
    "\n",
    "Once Howso Engine is trained and analyzed, it provides the user with a variety of ML capabilities. One of the core capabilities in engine is prediction, which Engine infers a action value based on the given context values. This prediction is a standard output when using `react` and the prediction can be found by navigating the output as shown.\n"
   ]
  },
  {
   "cell_type": "code",
   "execution_count": 12,
   "id": "8a14e534",
   "metadata": {
    "execution": {
     "iopub.execute_input": "2024-03-28T21:10:47.980197Z",
     "iopub.status.busy": "2024-03-28T21:10:47.979880Z",
     "iopub.status.idle": "2024-03-28T21:10:49.895791Z",
     "shell.execute_reply": "2024-03-28T21:10:49.895306Z"
    }
   },
   "outputs": [
    {
     "data": {
      "text/html": [
       "<div>\n",
       "<style scoped>\n",
       "    .dataframe tbody tr th:only-of-type {\n",
       "        vertical-align: middle;\n",
       "    }\n",
       "\n",
       "    .dataframe tbody tr th {\n",
       "        vertical-align: top;\n",
       "    }\n",
       "\n",
       "    .dataframe thead th {\n",
       "        text-align: right;\n",
       "    }\n",
       "</style>\n",
       "<table border=\"1\" class=\"dataframe\">\n",
       "  <thead>\n",
       "    <tr style=\"text-align: right;\">\n",
       "      <th></th>\n",
       "      <th>target</th>\n",
       "    </tr>\n",
       "  </thead>\n",
       "  <tbody>\n",
       "    <tr>\n",
       "      <th>0</th>\n",
       "      <td>1</td>\n",
       "    </tr>\n",
       "  </tbody>\n",
       "</table>\n",
       "</div>"
      ],
      "text/plain": [
       "   target\n",
       "0       1"
      ]
     },
     "execution_count": 12,
     "metadata": {},
     "output_type": "execute_result"
    }
   ],
   "source": [
    "results = t.react(\n",
    "    df_test,\n",
    "    context_features=context_features,\n",
    "    action_features=action_features,\n",
    ")\n",
    "\n",
    "predictions = results['action'][action_features]\n",
    "predictions"
   ]
  },
  {
   "cell_type": "markdown",
   "id": "c5cf223a",
   "metadata": {},
   "source": [
    "### Predict Function\n",
    "\n",
    "A `predict` method is also provided as an ease-of-use function that provides the same results as the method shown above using `react` and directly returns the predictions without requiring the user to navigate the output."
   ]
  },
  {
   "cell_type": "code",
   "execution_count": 10,
   "id": "bcd91f8a",
   "metadata": {},
   "outputs": [],
   "source": [
    "predictions = t.predict(\n",
    "    df_test,\n",
    "    context_features=context_features,\n",
    "    action_features=action_features,\n",
    ")\n",
    "\n",
    "predictions"
   ]
  }
 ],
 "metadata": {
  "kernelspec": {
   "display_name": "Python 3 (ipykernel)",
   "language": "python",
   "name": "python3"
  },
  "language_info": {
   "codemirror_mode": {
    "name": "ipython",
    "version": 3
   },
   "file_extension": ".py",
   "mimetype": "text/x-python",
   "name": "python",
   "nbconvert_exporter": "python",
   "pygments_lexer": "ipython3",
   "version": "3.11.2"
  },
  "vscode": {
   "interpreter": {
    "hash": "d9b4298285f63347a4f5469a5c77e773aa0d93492a1da372f14781d93b4190a0"
   }
  }
 },
 "nbformat": 4,
 "nbformat_minor": 5
}
