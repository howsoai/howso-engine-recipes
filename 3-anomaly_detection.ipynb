{
 "cells": [
  {
   "attachments": {},
   "cell_type": "markdown",
   "metadata": {},
   "source": [
    "# Recipe 3: Anomaly Detection\n",
    "## Overview \n",
    "\n",
    "In the previous recipe, `2-interpretability.ipynb` we demonstrated some of the core interpretability capabilities and tools available in Howso Engine. In this recipe, we will use some of those methods to demonstrate a common use case, anomaly detection. Howso Engine  can be used to identify anomalous Cases in a dataset and also explain why cases those may be anomalous. Furthermore, we can leverage other tools we learned in previous recipes, such influential and boundary Cases, to provide additional context.\n",
    "\n",
    "Finding anomalous cases has value in both modeling building and data exploration. For example, as we continue to build a suitable model for the `Adult` datset, detecting anomalies can give us insight into whether we need to clean the dataset to reduce false signals. Possible sources of anomalies could be Cases that are erroneous or falsified.   \n"
   ]
  },
  {
   "attachments": {},
   "cell_type": "markdown",
   "metadata": {},
   "source": [
    "\n",
    "## Recipe Goals: \n",
    "This recipe demonstrates how to use some of the tools learned in `2-interpretability.ipynb`, as well as demonstrate some additional metrics to detect anomalies. As we continue to build our Trainee for the `Adult` dataset, we want to be confident that our training data is as clean as possible."
   ]
  },
  {
   "attachments": {},
   "cell_type": "markdown",
   "metadata": {},
   "source": [
    "# Section 1: Train and Analyze\n",
    "\n"
   ]
  },
  {
   "attachments": {},
   "cell_type": "markdown",
   "metadata": {},
   "source": [
    "### 1. Load data\n",
    "\n",
    "Our example dataset for this recipe continues to be the well known `Adult` dataset. This dataset consists of 14 Context Features and 1 Action Feature. The Action Feature in this version of the `Adult` dataset has been renamed to `target` and it takes the form of a binary indicator for whether a person in the data makes over $50,000/year (*target*=1) or less (*target*=0)."
   ]
  },
  {
   "cell_type": "code",
   "execution_count": null,
   "metadata": {
    "execution": {
     "iopub.execute_input": "2024-02-08T20:35:34.381878Z",
     "iopub.status.busy": "2024-02-08T20:35:34.381717Z",
     "iopub.status.idle": "2024-02-08T20:35:35.470465Z",
     "shell.execute_reply": "2024-02-08T20:35:35.469915Z"
    }
   },
   "outputs": [],
   "source": [
    "import matplotlib.pyplot as plt\n",
    "import numpy as np\n",
    "import pandas as pd\n",
    "from pmlb import fetch_data\n",
    "import seaborn as sns\n",
    "\n",
    "from howso.engine import Trainee\n",
    "from howso.utilities import infer_feature_attributes\n",
    "from howso.visuals import plot_anomalies"
   ]
  },
  {
   "cell_type": "code",
   "execution_count": null,
   "metadata": {
    "execution": {
     "iopub.execute_input": "2024-02-08T20:35:35.473193Z",
     "iopub.status.busy": "2024-02-08T20:35:35.472941Z",
     "iopub.status.idle": "2024-02-08T20:35:35.539335Z",
     "shell.execute_reply": "2024-02-08T20:35:35.538844Z"
    }
   },
   "outputs": [],
   "source": [
    "df = fetch_data('adult', local_cache_dir=\"data/adult\")\n",
    "\n",
    "# Subsample the data to ensure the example runs quickly\n",
    "df = df.sample(1000, random_state=0)\n",
    "\n",
    "df"
   ]
  },
  {
   "attachments": {},
   "cell_type": "markdown",
   "metadata": {},
   "source": [
    "### 2. Train Trainee\n",
    "\n",
    "In this section we will perform all of the steps needed to train Howso Engine's Trainee.\n",
    "\n",
    "While we preivously separated the Action and Context Features, we will leave them together for anomaly detection to incorpate all the features in a targetless flow."
   ]
  },
  {
   "cell_type": "code",
   "execution_count": 3,
   "metadata": {
    "execution": {
     "iopub.execute_input": "2024-02-08T20:35:35.569964Z",
     "iopub.status.busy": "2024-02-08T20:35:35.569743Z",
     "iopub.status.idle": "2024-02-08T20:35:46.139948Z",
     "shell.execute_reply": "2024-02-08T20:35:46.139426Z"
    }
   },
   "outputs": [],
   "source": [
    "# Infer features attributes\n",
    "features = infer_feature_attributes(df)\n",
    "\n",
    "# Create the Trainee\n",
    "t = Trainee(\n",
    "    features=features,\n",
    "    overwrite_existing=True\n",
    ")\n",
    "\n",
    "t.train(df)\n",
    "\n",
    "# Targetless Analysis\n",
    "t.analyze()"
   ]
  },
  {
   "attachments": {},
   "cell_type": "markdown",
   "metadata": {},
   "source": [
    "# Section 2. Anomaly Identification\n",
    "\n",
    "We will use `Familiarity Conviction` and `Distance Contribution` to identify potentially anomalous cases.`Familiarity Conviction` is metric for describing surprisal of individual Cases in the Trainee relative to other Cases. In other words, Familiarity Conviction evaluates each data point in the Trainee and assigns a surprisal score indicating how similar or different each point is to the remainder of the data. Howso Engine’s interpretability tools also enable us to understand why these cases may be anomalous and whether they are outliers and inliers. \n",
    "\n",
    "**`Definitions`:**\n",
    "\n",
    "**`Familiarity Conviction`:** How confident or familiar the Trainee is about some data point on which it has been trained, as determined by the KL Divergence of the effect of the particular data point on the probability density function of the overall data. The lower the Familiarity Conviction value, the less familiar the Trainee is with the data point. Thus, a Familiarity Conviction of 0.01 corresponds to the Trainee believing a data point is unusual, while a Familiarity Conviction of 2 corresponds to the Trainee believing a data point is fairly familiar. Low values can also be used to determine when further training is needed to improve the Trainee’s ability to provide accurate results. \n",
    "\n",
    "An example is if there is a dataset that comprises four data points, such as the corners of a square on a grid. A new data point that lies inside the square, will return high `Familiarity Conviction` (low surprisal) as it fits within the data scheme. However, another data point that lies diagonally from the uppermost corner will have a low `Familiarity Conviction` (high surprisal) because it does not fit in the square, like the other points.\n",
    "\n",
    "**`Distance Contribution`**: The expected total surprisal contribution for a Case. That is, the amount of distance (or knowledge) a Case adds to the Trainee, where the distance is measured in surprisal."
   ]
  },
  {
   "attachments": {},
   "cell_type": "markdown",
   "metadata": {},
   "source": [
    "### Step 1. React\n",
    "\n",
    "The first step is to use `react_into_features` and select the metrics we want to return."
   ]
  },
  {
   "cell_type": "code",
   "execution_count": 4,
   "metadata": {
    "execution": {
     "iopub.execute_input": "2024-02-08T20:35:46.142828Z",
     "iopub.status.busy": "2024-02-08T20:35:46.142321Z",
     "iopub.status.idle": "2024-02-08T20:35:46.231862Z",
     "shell.execute_reply": "2024-02-08T20:35:46.231410Z"
    }
   },
   "outputs": [],
   "source": [
    "# Store the familiarity conviction, this will be used to identify anomalous cases\n",
    "t.react_into_features(\n",
    "    familiarity_conviction_addition=True,\n",
    "    distance_contribution=True\n",
    ")\n",
    "\n",
    "stored_convictions = t.get_cases(\n",
    "    session=t.active_session,\n",
    "    features=df.columns.tolist() + ['familiarity_conviction_addition','.session_training_index', '.session', 'distance_contribution']\n",
    ")"
   ]
  },
  {
   "attachments": {},
   "cell_type": "markdown",
   "metadata": {},
   "source": [
    "### Step 2. Determine Threshold\n",
    "\n",
    "There is no absolute threshold for what is considered to be anomalous, as anomalous behavior is a measure of surprisal. Thus, this is a lever that the user can change depending on the Trainee. The threshold should be less than 1, which is average surprisal.\n",
    "\n",
    "We first use `familiarity_conviction_addition` to find anomalies, and then use the average `distance_contribution` to determine what type of anomaly the case is (e.g., inlier vs. outlier)."
   ]
  },
  {
   "cell_type": "code",
   "execution_count": 5,
   "metadata": {
    "execution": {
     "iopub.execute_input": "2024-02-08T20:35:46.234294Z",
     "iopub.status.busy": "2024-02-08T20:35:46.233967Z",
     "iopub.status.idle": "2024-02-08T20:35:46.239012Z",
     "shell.execute_reply": "2024-02-08T20:35:46.238629Z"
    }
   },
   "outputs": [],
   "source": [
    "# Threshold to determine which cases will be deemed anomalous\n",
    "convict_threshold = 0.75\n",
    "\n",
    "# Extract the anomalous cases\n",
    "low_convicts = stored_convictions[\n",
    "    stored_convictions['familiarity_conviction_addition'] <= convict_threshold \n",
    "].sort_values('familiarity_conviction_addition', ascending=True)\n",
    "\n",
    "# Average distance contribution will be used to determine if a case is an outlier or inlier\n",
    "average_dist_contribution = low_convicts['distance_contribution'].mean()\n",
    "\n",
    "# A case with distance contribution greater than average will be tagged as outlier, and vise versa for inliers\n",
    "cat = [\n",
    "    'inlier' if d < average_dist_contribution else \n",
    "    'outlier' for d in low_convicts['distance_contribution']\n",
    "]\n",
    "low_convicts['category'] = cat"
   ]
  },
  {
   "attachments": {},
   "cell_type": "markdown",
   "metadata": {},
   "source": [
    "# Section 3. Anomaly Inspection\n"
   ]
  },
  {
   "attachments": {},
   "cell_type": "markdown",
   "metadata": {},
   "source": [
    "\n",
    "### Step 1. Outliers\n",
    "\n",
    "Typically, when we think of anomalies, we think of outliers or cases that are significantly different that the rest of the data, whether erroneous or not. Preprocessing in machine learning often involves pruning these data points as they can add undesired noise to a model. \n",
    "\n",
    "The Case Feature Residual Conviction will be used to understand why each Case was anomalous. There are two types of Reature Residual Convictions: `global_case_feature_residual_convictions` and `local_case_feature_residual_convictions`.\n",
    "\n",
    "In our example use case where the `Adult` dataset is used to determine projected salary for loan applications, we want to eliminate any erroneous outliers if possible. We may also want to detect substituted values, as often times datasets may substitute special values with nominal integers. For example, blank values in an application are often coded with high integers like 99999 which can introduce noise in the dataset.\n",
    "\n",
    "**`Definitions`:**\n",
    "\n",
    "**`global_case_feature_residual_convictions`** : A Case's Feature Residual Convictions for the global model. This is calculated using the expected feature Residuals, divided by the feature Residuals of the Case to obtain the Convictions. The global feature Residuals are used as the expected value.\n",
    "\n",
    "**`local_case_feature_residual_convictions`** : A Case's Feature Residual Convictions for the local model. This is calculated using the expected feature Residuals, divided by the feature Residuals of the Case to obtain the Convictions. The local feature residuals are used as the expected value."
   ]
  },
  {
   "attachments": {},
   "cell_type": "markdown",
   "metadata": {},
   "source": [
    "#### Step 1a. Outlier Extraction"
   ]
  },
  {
   "cell_type": "code",
   "execution_count": 6,
   "metadata": {
    "execution": {
     "iopub.execute_input": "2024-02-08T20:35:46.241175Z",
     "iopub.status.busy": "2024-02-08T20:35:46.240887Z",
     "iopub.status.idle": "2024-02-08T20:35:46.252115Z",
     "shell.execute_reply": "2024-02-08T20:35:46.251713Z"
    }
   },
   "outputs": [
    {
     "data": {
      "text/html": [
       "<div>\n",
       "<style scoped>\n",
       "    .dataframe tbody tr th:only-of-type {\n",
       "        vertical-align: middle;\n",
       "    }\n",
       "\n",
       "    .dataframe tbody tr th {\n",
       "        vertical-align: top;\n",
       "    }\n",
       "\n",
       "    .dataframe thead th {\n",
       "        text-align: right;\n",
       "    }\n",
       "</style>\n",
       "<table border=\"1\" class=\"dataframe\">\n",
       "  <thead>\n",
       "    <tr style=\"text-align: right;\">\n",
       "      <th></th>\n",
       "      <th>age</th>\n",
       "      <th>workclass</th>\n",
       "      <th>fnlwgt</th>\n",
       "      <th>education</th>\n",
       "      <th>education-num</th>\n",
       "      <th>marital-status</th>\n",
       "      <th>occupation</th>\n",
       "      <th>relationship</th>\n",
       "      <th>race</th>\n",
       "      <th>sex</th>\n",
       "      <th>capital-gain</th>\n",
       "      <th>capital-loss</th>\n",
       "      <th>hours-per-week</th>\n",
       "      <th>native-country</th>\n",
       "      <th>target</th>\n",
       "      <th>familiarity_conviction_addition</th>\n",
       "      <th>.session_training_index</th>\n",
       "      <th>.session</th>\n",
       "      <th>distance_contribution</th>\n",
       "      <th>category</th>\n",
       "    </tr>\n",
       "  </thead>\n",
       "  <tbody>\n",
       "    <tr>\n",
       "      <th>0</th>\n",
       "      <td>28.0</td>\n",
       "      <td>4</td>\n",
       "      <td>126060.0</td>\n",
       "      <td>11</td>\n",
       "      <td>9.0</td>\n",
       "      <td>2</td>\n",
       "      <td>1</td>\n",
       "      <td>5</td>\n",
       "      <td>4</td>\n",
       "      <td>0</td>\n",
       "      <td>99999.0</td>\n",
       "      <td>0.0</td>\n",
       "      <td>36.0</td>\n",
       "      <td>39</td>\n",
       "      <td>0</td>\n",
       "      <td>0.079824</td>\n",
       "      <td>627</td>\n",
       "      <td>00a25cd5-f753-4bb8-a1e6-093cb441be82</td>\n",
       "      <td>30.509974</td>\n",
       "      <td>outlier</td>\n",
       "    </tr>\n",
       "    <tr>\n",
       "      <th>1</th>\n",
       "      <td>54.0</td>\n",
       "      <td>6</td>\n",
       "      <td>269068.0</td>\n",
       "      <td>14</td>\n",
       "      <td>15.0</td>\n",
       "      <td>2</td>\n",
       "      <td>10</td>\n",
       "      <td>0</td>\n",
       "      <td>1</td>\n",
       "      <td>1</td>\n",
       "      <td>99999.0</td>\n",
       "      <td>0.0</td>\n",
       "      <td>50.0</td>\n",
       "      <td>30</td>\n",
       "      <td>0</td>\n",
       "      <td>0.090377</td>\n",
       "      <td>556</td>\n",
       "      <td>00a25cd5-f753-4bb8-a1e6-093cb441be82</td>\n",
       "      <td>26.263618</td>\n",
       "      <td>outlier</td>\n",
       "    </tr>\n",
       "    <tr>\n",
       "      <th>2</th>\n",
       "      <td>48.0</td>\n",
       "      <td>2</td>\n",
       "      <td>93449.0</td>\n",
       "      <td>14</td>\n",
       "      <td>15.0</td>\n",
       "      <td>2</td>\n",
       "      <td>10</td>\n",
       "      <td>0</td>\n",
       "      <td>1</td>\n",
       "      <td>1</td>\n",
       "      <td>99999.0</td>\n",
       "      <td>0.0</td>\n",
       "      <td>40.0</td>\n",
       "      <td>30</td>\n",
       "      <td>0</td>\n",
       "      <td>0.092589</td>\n",
       "      <td>997</td>\n",
       "      <td>00a25cd5-f753-4bb8-a1e6-093cb441be82</td>\n",
       "      <td>25.497987</td>\n",
       "      <td>outlier</td>\n",
       "    </tr>\n",
       "  </tbody>\n",
       "</table>\n",
       "</div>"
      ],
      "text/plain": [
       "    age  workclass    fnlwgt  education  education-num  marital-status  \\\n",
       "0  28.0          4  126060.0         11            9.0               2   \n",
       "1  54.0          6  269068.0         14           15.0               2   \n",
       "2  48.0          2   93449.0         14           15.0               2   \n",
       "\n",
       "   occupation  relationship  race  sex  capital-gain  capital-loss  \\\n",
       "0           1             5     4    0       99999.0           0.0   \n",
       "1          10             0     1    1       99999.0           0.0   \n",
       "2          10             0     1    1       99999.0           0.0   \n",
       "\n",
       "   hours-per-week  native-country  target  familiarity_conviction_addition  \\\n",
       "0            36.0              39       0                         0.079824   \n",
       "1            50.0              30       0                         0.090377   \n",
       "2            40.0              30       0                         0.092589   \n",
       "\n",
       "   .session_training_index                              .session  \\\n",
       "0                      627  00a25cd5-f753-4bb8-a1e6-093cb441be82   \n",
       "1                      556  00a25cd5-f753-4bb8-a1e6-093cb441be82   \n",
       "2                      997  00a25cd5-f753-4bb8-a1e6-093cb441be82   \n",
       "\n",
       "   distance_contribution category  \n",
       "0              30.509974  outlier  \n",
       "1              26.263618  outlier  \n",
       "2              25.497987  outlier  "
      ]
     },
     "execution_count": 6,
     "metadata": {},
     "output_type": "execute_result"
    }
   ],
   "source": [
    "# Extract the outliers cases\n",
    "outliers = low_convicts[low_convicts['category'] == 'outlier'].reset_index(drop=True)\n",
    "outliers.head(3)"
   ]
  },
  {
   "attachments": {},
   "cell_type": "markdown",
   "metadata": {},
   "source": [
    "#### Step 1b. Outlier Evaluation\n",
    "\n",
    "From the above results, we can see which cases may be anomalous, however just knowing whether a case is potentially an anomaly doesn't give us all the information we need to make an informed decision. If we are deciding whether to prune a Case from our training set, often we only want to prune erroneous values. Even if a Case is an anomaly in terms of distance or value, if it is valid we may still leave it in as it represents a legitimate data point. \n",
    "\n",
    "By looking at the `Global Case Feature Residual Convictions`, we can gain insight as to `why` a Case was anomalous."
   ]
  },
  {
   "cell_type": "code",
   "execution_count": 8,
   "metadata": {
    "execution": {
     "iopub.execute_input": "2024-02-08T20:35:46.253929Z",
     "iopub.status.busy": "2024-02-08T20:35:46.253639Z",
     "iopub.status.idle": "2024-02-08T20:35:55.307387Z",
     "shell.execute_reply": "2024-02-08T20:35:55.306906Z"
    }
   },
   "outputs": [],
   "source": [
    "# We add a few extra metrics for subsequent examples in this notebook\n",
    "# Get the case_feature_residual_convictions, influential_cases and boundary_cases\n",
    "details = {\n",
    "    'robust_influences': True,\n",
    "    'boundary_cases': True, \n",
    "    'num_boundary_cases': 3, \n",
    "    'influential_cases': True, \n",
    "    'global_case_feature_residual_convictions': True, \n",
    "    'local_case_feature_residual_convictions': True\n",
    "}\n",
    "\n",
    "# Specify outlier cases\n",
    "outliers_indices = outliers[['.session', '.session_training_index']].values\n",
    "\n",
    "t.react_into_trainee(residuals=True, action_feature=\".targetless\")\n",
    "\n",
    "# React to get the details of each case\n",
    "results = t.react(\n",
    "    case_indices=outliers_indices, \n",
    "    preserve_feature_values=df.columns.tolist(), \n",
    "    leave_case_out=True, \n",
    "    details=details\n",
    ")\n",
    "\n",
    "# Extract the global and local case feature residual convictions\n",
    "outlier_global_case_feature_residual_convictions = pd.DataFrame(\n",
    "    results['details']['global_case_feature_residual_convictions']\n",
    ")[df.columns.tolist()]\n",
    "\n",
    "outlier_local_case_feature_residual_convictions = pd.DataFrame(\n",
    "    results['details']['local_case_feature_residual_convictions']\n",
    ")[df.columns.tolist()]"
   ]
  },
  {
   "cell_type": "code",
   "execution_count": 9,
   "metadata": {
    "execution": {
     "iopub.execute_input": "2024-02-08T20:35:55.309843Z",
     "iopub.status.busy": "2024-02-08T20:35:55.309522Z",
     "iopub.status.idle": "2024-02-08T20:35:55.480280Z",
     "shell.execute_reply": "2024-02-08T20:35:55.479805Z"
    }
   },
   "outputs": [
    {
     "data": {
      "application/vnd.plotly.v1+json": {
       "config": {
        "plotlyServerURL": "https://plot.ly"
       },
       "data": [
        {
         "coloraxis": "coloraxis",
         "hovertemplate": "Conviction=%{z}",
         "name": "Outliers",
         "text": [
          [
           "28.0",
           "4",
           "126060.0",
           "11",
           "9.0",
           "2",
           "1",
           "5",
           "4",
           "0",
           "99999.0",
           "0.0",
           "36.0",
           "39",
           "0",
           "0.07982404465737222",
           "627",
           "00a25cd5-f753-4bb8-a1e6-093cb441be82",
           "30.509974276507936",
           "outlier"
          ],
          [
           "54.0",
           "6",
           "269068.0",
           "14",
           "15.0",
           "2",
           "10",
           "0",
           "1",
           "1",
           "99999.0",
           "0.0",
           "50.0",
           "30",
           "0",
           "0.09037656389407861",
           "556",
           "00a25cd5-f753-4bb8-a1e6-093cb441be82",
           "26.26361758778449",
           "outlier"
          ],
          [
           "48.0",
           "2",
           "93449.0",
           "14",
           "15.0",
           "2",
           "10",
           "0",
           "1",
           "1",
           "99999.0",
           "0.0",
           "40.0",
           "30",
           "0",
           "0.09258886712280244",
           "997",
           "00a25cd5-f753-4bb8-a1e6-093cb441be82",
           "25.497987008535013",
           "outlier"
          ],
          [
           "49.0",
           "4",
           "159816.0",
           "9",
           "13.0",
           "2",
           "10",
           "5",
           "4",
           "0",
           "99999.0",
           "0.0",
           "20.0",
           "39",
           "0",
           "0.093472779070638",
           "787",
           "00a25cd5-f753-4bb8-a1e6-093cb441be82",
           "27.45180665780077",
           "outlier"
          ],
          [
           "46.0",
           "5",
           "198660.0",
           "9",
           "13.0",
           "2",
           "12",
           "0",
           "4",
           "1",
           "99999.0",
           "0.0",
           "72.0",
           "39",
           "0",
           "0.10657636936084978",
           "230",
           "00a25cd5-f753-4bb8-a1e6-093cb441be82",
           "25.703150605984252",
           "outlier"
          ]
         ],
         "texttemplate": "%{text}",
         "type": "heatmap",
         "x": [
          "age",
          "workclass",
          "fnlwgt",
          "education",
          "education-num",
          "marital-status",
          "occupation",
          "relationship",
          "race",
          "sex",
          "capital-gain",
          "capital-loss",
          "hours-per-week",
          "native-country",
          "target"
         ],
         "xgap": 3,
         "y": [
          0,
          1,
          2,
          3,
          4
         ],
         "ygap": 3,
         "z": [
          [
           0.3956386588885213,
           0.7808433309257268,
           1.6932348775028463,
           0.5702488732842274,
           0.26459473328583044,
           3.370040552684479,
           0.9450276080897984,
           0.6078217389589938,
           1.153532375458919,
           0.4368953089309254,
           0.01857062258860552,
           1509.494608956389,
           1.6342759130942799,
           0.9986930738656492,
           2.4748798150637894
          ],
          [
           1.4506750825912447,
           0.46802549609189614,
           0.6652398788084364,
           0.8421994050609234,
           1.0583789331433218,
           310.14077270702177,
           2.1516335907638426,
           2.734898012313404,
           0.28873003024544536,
           1.9281913776058168,
           0.025455635422154906,
           1509.494608956389,
           1.021422445683925,
           0.23814774658370996,
           6.980910670626467
          ],
          [
           4.352025247773734,
           0.46751152959297587,
           0.6811867742225529,
           0.8484275914203436,
           1.0583789331433218,
           310.14077270702177,
           2.386961164149139,
           2.5859682839844407,
           0.28214626207378973,
           1.8174587527886934,
           0.025739369248646234,
           1509.494608956389,
           1.6342759130942799,
           0.23341966436197514,
           225.18391344449043
          ],
          [
           2.9013501651824893,
           0.6364105702852993,
           6.033711246640659,
           0.6788010023479283,
           7.312080512680468,
           3.802808133762586,
           1.434289074027254,
           0.5317431831653314,
           1.0582553276759954,
           0.3826971519412487,
           0.01863047713947327,
           1509.494608956389,
           0.3142838294412077,
           0.9166389767527819,
           2.719570429604051
          ],
          [
           1.7408100991094937,
           0.6757441435701944,
           2.2403589831667747,
           0.6630460928929353,
           1.0583789331433218,
           8.164519366391236,
           0.8488567759032725,
           1.599801035050915,
           0.7993627621316116,
           1.1003219248053737,
           0.0184972678958336,
           1509.494608956389,
           0.24761756259004242,
           0.8108945074063006,
           225.18391344449043
          ]
         ]
        }
       ],
       "layout": {
        "coloraxis": {
         "cmax": 5,
         "cmin": 0,
         "colorbar": {
          "ticktext": [
           "0",
           "0.5",
           "1",
           "1.5",
           "2",
           "2.5",
           "3",
           "3.5",
           "4",
           "4.5",
           "≥5"
          ],
          "tickvals": [
           0,
           0.5,
           1,
           1.5,
           2,
           2.5,
           3,
           3.5,
           4,
           4.5,
           5
          ],
          "title": {
           "text": "Conviction"
          }
         },
         "colorscale": [
          [
           0,
           "rgb(103,0,31)"
          ],
          [
           0.2,
           "rgb(247, 247, 247)"
          ],
          [
           0.4,
           "rgb(67,147,195)"
          ],
          [
           1,
           "rgb(5,48,97)"
          ]
         ]
        },
        "template": {
         "data": {
          "bar": [
           {
            "error_x": {
             "color": "#2a3f5f"
            },
            "error_y": {
             "color": "#2a3f5f"
            },
            "marker": {
             "line": {
              "color": "#E5ECF6",
              "width": 0.5
             },
             "pattern": {
              "fillmode": "overlay",
              "size": 10,
              "solidity": 0.2
             }
            },
            "type": "bar"
           }
          ],
          "barpolar": [
           {
            "marker": {
             "line": {
              "color": "#E5ECF6",
              "width": 0.5
             },
             "pattern": {
              "fillmode": "overlay",
              "size": 10,
              "solidity": 0.2
             }
            },
            "type": "barpolar"
           }
          ],
          "carpet": [
           {
            "aaxis": {
             "endlinecolor": "#2a3f5f",
             "gridcolor": "white",
             "linecolor": "white",
             "minorgridcolor": "white",
             "startlinecolor": "#2a3f5f"
            },
            "baxis": {
             "endlinecolor": "#2a3f5f",
             "gridcolor": "white",
             "linecolor": "white",
             "minorgridcolor": "white",
             "startlinecolor": "#2a3f5f"
            },
            "type": "carpet"
           }
          ],
          "choropleth": [
           {
            "colorbar": {
             "outlinewidth": 0,
             "ticks": ""
            },
            "type": "choropleth"
           }
          ],
          "contour": [
           {
            "colorbar": {
             "outlinewidth": 0,
             "ticks": ""
            },
            "colorscale": [
             [
              0,
              "#0d0887"
             ],
             [
              0.1111111111111111,
              "#46039f"
             ],
             [
              0.2222222222222222,
              "#7201a8"
             ],
             [
              0.3333333333333333,
              "#9c179e"
             ],
             [
              0.4444444444444444,
              "#bd3786"
             ],
             [
              0.5555555555555556,
              "#d8576b"
             ],
             [
              0.6666666666666666,
              "#ed7953"
             ],
             [
              0.7777777777777778,
              "#fb9f3a"
             ],
             [
              0.8888888888888888,
              "#fdca26"
             ],
             [
              1,
              "#f0f921"
             ]
            ],
            "type": "contour"
           }
          ],
          "contourcarpet": [
           {
            "colorbar": {
             "outlinewidth": 0,
             "ticks": ""
            },
            "type": "contourcarpet"
           }
          ],
          "heatmap": [
           {
            "colorbar": {
             "outlinewidth": 0,
             "ticks": ""
            },
            "colorscale": [
             [
              0,
              "#0d0887"
             ],
             [
              0.1111111111111111,
              "#46039f"
             ],
             [
              0.2222222222222222,
              "#7201a8"
             ],
             [
              0.3333333333333333,
              "#9c179e"
             ],
             [
              0.4444444444444444,
              "#bd3786"
             ],
             [
              0.5555555555555556,
              "#d8576b"
             ],
             [
              0.6666666666666666,
              "#ed7953"
             ],
             [
              0.7777777777777778,
              "#fb9f3a"
             ],
             [
              0.8888888888888888,
              "#fdca26"
             ],
             [
              1,
              "#f0f921"
             ]
            ],
            "type": "heatmap"
           }
          ],
          "heatmapgl": [
           {
            "colorbar": {
             "outlinewidth": 0,
             "ticks": ""
            },
            "colorscale": [
             [
              0,
              "#0d0887"
             ],
             [
              0.1111111111111111,
              "#46039f"
             ],
             [
              0.2222222222222222,
              "#7201a8"
             ],
             [
              0.3333333333333333,
              "#9c179e"
             ],
             [
              0.4444444444444444,
              "#bd3786"
             ],
             [
              0.5555555555555556,
              "#d8576b"
             ],
             [
              0.6666666666666666,
              "#ed7953"
             ],
             [
              0.7777777777777778,
              "#fb9f3a"
             ],
             [
              0.8888888888888888,
              "#fdca26"
             ],
             [
              1,
              "#f0f921"
             ]
            ],
            "type": "heatmapgl"
           }
          ],
          "histogram": [
           {
            "marker": {
             "pattern": {
              "fillmode": "overlay",
              "size": 10,
              "solidity": 0.2
             }
            },
            "type": "histogram"
           }
          ],
          "histogram2d": [
           {
            "colorbar": {
             "outlinewidth": 0,
             "ticks": ""
            },
            "colorscale": [
             [
              0,
              "#0d0887"
             ],
             [
              0.1111111111111111,
              "#46039f"
             ],
             [
              0.2222222222222222,
              "#7201a8"
             ],
             [
              0.3333333333333333,
              "#9c179e"
             ],
             [
              0.4444444444444444,
              "#bd3786"
             ],
             [
              0.5555555555555556,
              "#d8576b"
             ],
             [
              0.6666666666666666,
              "#ed7953"
             ],
             [
              0.7777777777777778,
              "#fb9f3a"
             ],
             [
              0.8888888888888888,
              "#fdca26"
             ],
             [
              1,
              "#f0f921"
             ]
            ],
            "type": "histogram2d"
           }
          ],
          "histogram2dcontour": [
           {
            "colorbar": {
             "outlinewidth": 0,
             "ticks": ""
            },
            "colorscale": [
             [
              0,
              "#0d0887"
             ],
             [
              0.1111111111111111,
              "#46039f"
             ],
             [
              0.2222222222222222,
              "#7201a8"
             ],
             [
              0.3333333333333333,
              "#9c179e"
             ],
             [
              0.4444444444444444,
              "#bd3786"
             ],
             [
              0.5555555555555556,
              "#d8576b"
             ],
             [
              0.6666666666666666,
              "#ed7953"
             ],
             [
              0.7777777777777778,
              "#fb9f3a"
             ],
             [
              0.8888888888888888,
              "#fdca26"
             ],
             [
              1,
              "#f0f921"
             ]
            ],
            "type": "histogram2dcontour"
           }
          ],
          "mesh3d": [
           {
            "colorbar": {
             "outlinewidth": 0,
             "ticks": ""
            },
            "type": "mesh3d"
           }
          ],
          "parcoords": [
           {
            "line": {
             "colorbar": {
              "outlinewidth": 0,
              "ticks": ""
             }
            },
            "type": "parcoords"
           }
          ],
          "pie": [
           {
            "automargin": true,
            "type": "pie"
           }
          ],
          "scatter": [
           {
            "fillpattern": {
             "fillmode": "overlay",
             "size": 10,
             "solidity": 0.2
            },
            "type": "scatter"
           }
          ],
          "scatter3d": [
           {
            "line": {
             "colorbar": {
              "outlinewidth": 0,
              "ticks": ""
             }
            },
            "marker": {
             "colorbar": {
              "outlinewidth": 0,
              "ticks": ""
             }
            },
            "type": "scatter3d"
           }
          ],
          "scattercarpet": [
           {
            "marker": {
             "colorbar": {
              "outlinewidth": 0,
              "ticks": ""
             }
            },
            "type": "scattercarpet"
           }
          ],
          "scattergeo": [
           {
            "marker": {
             "colorbar": {
              "outlinewidth": 0,
              "ticks": ""
             }
            },
            "type": "scattergeo"
           }
          ],
          "scattergl": [
           {
            "marker": {
             "colorbar": {
              "outlinewidth": 0,
              "ticks": ""
             }
            },
            "type": "scattergl"
           }
          ],
          "scattermapbox": [
           {
            "marker": {
             "colorbar": {
              "outlinewidth": 0,
              "ticks": ""
             }
            },
            "type": "scattermapbox"
           }
          ],
          "scatterpolar": [
           {
            "marker": {
             "colorbar": {
              "outlinewidth": 0,
              "ticks": ""
             }
            },
            "type": "scatterpolar"
           }
          ],
          "scatterpolargl": [
           {
            "marker": {
             "colorbar": {
              "outlinewidth": 0,
              "ticks": ""
             }
            },
            "type": "scatterpolargl"
           }
          ],
          "scatterternary": [
           {
            "marker": {
             "colorbar": {
              "outlinewidth": 0,
              "ticks": ""
             }
            },
            "type": "scatterternary"
           }
          ],
          "surface": [
           {
            "colorbar": {
             "outlinewidth": 0,
             "ticks": ""
            },
            "colorscale": [
             [
              0,
              "#0d0887"
             ],
             [
              0.1111111111111111,
              "#46039f"
             ],
             [
              0.2222222222222222,
              "#7201a8"
             ],
             [
              0.3333333333333333,
              "#9c179e"
             ],
             [
              0.4444444444444444,
              "#bd3786"
             ],
             [
              0.5555555555555556,
              "#d8576b"
             ],
             [
              0.6666666666666666,
              "#ed7953"
             ],
             [
              0.7777777777777778,
              "#fb9f3a"
             ],
             [
              0.8888888888888888,
              "#fdca26"
             ],
             [
              1,
              "#f0f921"
             ]
            ],
            "type": "surface"
           }
          ],
          "table": [
           {
            "cells": {
             "fill": {
              "color": "#EBF0F8"
             },
             "line": {
              "color": "white"
             }
            },
            "header": {
             "fill": {
              "color": "#C8D4E3"
             },
             "line": {
              "color": "white"
             }
            },
            "type": "table"
           }
          ]
         },
         "layout": {
          "annotationdefaults": {
           "arrowcolor": "#2a3f5f",
           "arrowhead": 0,
           "arrowwidth": 1
          },
          "autotypenumbers": "strict",
          "coloraxis": {
           "colorbar": {
            "outlinewidth": 0,
            "ticks": ""
           }
          },
          "colorscale": {
           "diverging": [
            [
             0,
             "#8e0152"
            ],
            [
             0.1,
             "#c51b7d"
            ],
            [
             0.2,
             "#de77ae"
            ],
            [
             0.3,
             "#f1b6da"
            ],
            [
             0.4,
             "#fde0ef"
            ],
            [
             0.5,
             "#f7f7f7"
            ],
            [
             0.6,
             "#e6f5d0"
            ],
            [
             0.7,
             "#b8e186"
            ],
            [
             0.8,
             "#7fbc41"
            ],
            [
             0.9,
             "#4d9221"
            ],
            [
             1,
             "#276419"
            ]
           ],
           "sequential": [
            [
             0,
             "#0d0887"
            ],
            [
             0.1111111111111111,
             "#46039f"
            ],
            [
             0.2222222222222222,
             "#7201a8"
            ],
            [
             0.3333333333333333,
             "#9c179e"
            ],
            [
             0.4444444444444444,
             "#bd3786"
            ],
            [
             0.5555555555555556,
             "#d8576b"
            ],
            [
             0.6666666666666666,
             "#ed7953"
            ],
            [
             0.7777777777777778,
             "#fb9f3a"
            ],
            [
             0.8888888888888888,
             "#fdca26"
            ],
            [
             1,
             "#f0f921"
            ]
           ],
           "sequentialminus": [
            [
             0,
             "#0d0887"
            ],
            [
             0.1111111111111111,
             "#46039f"
            ],
            [
             0.2222222222222222,
             "#7201a8"
            ],
            [
             0.3333333333333333,
             "#9c179e"
            ],
            [
             0.4444444444444444,
             "#bd3786"
            ],
            [
             0.5555555555555556,
             "#d8576b"
            ],
            [
             0.6666666666666666,
             "#ed7953"
            ],
            [
             0.7777777777777778,
             "#fb9f3a"
            ],
            [
             0.8888888888888888,
             "#fdca26"
            ],
            [
             1,
             "#f0f921"
            ]
           ]
          },
          "colorway": [
           "#636efa",
           "#EF553B",
           "#00cc96",
           "#ab63fa",
           "#FFA15A",
           "#19d3f3",
           "#FF6692",
           "#B6E880",
           "#FF97FF",
           "#FECB52"
          ],
          "font": {
           "color": "#2a3f5f"
          },
          "geo": {
           "bgcolor": "white",
           "lakecolor": "white",
           "landcolor": "#E5ECF6",
           "showlakes": true,
           "showland": true,
           "subunitcolor": "white"
          },
          "hoverlabel": {
           "align": "left"
          },
          "hovermode": "closest",
          "mapbox": {
           "style": "light"
          },
          "paper_bgcolor": "white",
          "plot_bgcolor": "#E5ECF6",
          "polar": {
           "angularaxis": {
            "gridcolor": "white",
            "linecolor": "white",
            "ticks": ""
           },
           "bgcolor": "#E5ECF6",
           "radialaxis": {
            "gridcolor": "white",
            "linecolor": "white",
            "ticks": ""
           }
          },
          "scene": {
           "xaxis": {
            "backgroundcolor": "#E5ECF6",
            "gridcolor": "white",
            "gridwidth": 2,
            "linecolor": "white",
            "showbackground": true,
            "ticks": "",
            "zerolinecolor": "white"
           },
           "yaxis": {
            "backgroundcolor": "#E5ECF6",
            "gridcolor": "white",
            "gridwidth": 2,
            "linecolor": "white",
            "showbackground": true,
            "ticks": "",
            "zerolinecolor": "white"
           },
           "zaxis": {
            "backgroundcolor": "#E5ECF6",
            "gridcolor": "white",
            "gridwidth": 2,
            "linecolor": "white",
            "showbackground": true,
            "ticks": "",
            "zerolinecolor": "white"
           }
          },
          "shapedefaults": {
           "line": {
            "color": "#2a3f5f"
           }
          },
          "ternary": {
           "aaxis": {
            "gridcolor": "white",
            "linecolor": "white",
            "ticks": ""
           },
           "baxis": {
            "gridcolor": "white",
            "linecolor": "white",
            "ticks": ""
           },
           "bgcolor": "#E5ECF6",
           "caxis": {
            "gridcolor": "white",
            "linecolor": "white",
            "ticks": ""
           }
          },
          "title": {
           "x": 0.05
          },
          "xaxis": {
           "automargin": true,
           "gridcolor": "white",
           "linecolor": "white",
           "ticks": "",
           "title": {
            "standoff": 15
           },
           "zerolinecolor": "white",
           "zerolinewidth": 2
          },
          "yaxis": {
           "automargin": true,
           "gridcolor": "white",
           "linecolor": "white",
           "ticks": "",
           "title": {
            "standoff": 15
           },
           "zerolinecolor": "white",
           "zerolinewidth": 2
          }
         }
        },
        "title": {
         "text": "Anomalies"
        },
        "xaxis": {
         "anchor": "y",
         "domain": [
          0,
          1
         ],
         "title": {
          "text": "Feature"
         }
        },
        "yaxis": {
         "anchor": "x",
         "autorange": "reversed",
         "domain": [
          0,
          1
         ],
         "title": {}
        }
       }
      }
     },
     "metadata": {},
     "output_type": "display_data"
    }
   ],
   "source": [
    "plot_anomalies(outliers, outlier_global_case_feature_residual_convictions)"
   ]
  },
  {
   "attachments": {},
   "cell_type": "markdown",
   "metadata": {},
   "source": [
    "#### Step 1c. Outlier Inspection\n",
    "\n",
    "From this chart we can see that these Cases were flaggged as anomalous largely because of their `capital-gain` values. Since our target variable is whether someone makes over $50,000 in salary, people with such large capital gains making less than $50,000 seems odd. In addition, values such as 99999 often indicate some sort of nominal value that may represent something other than the actual capital-gain, such as if a person did not answer. \n",
    "\n",
    "With this information, we can choose the appropriate action, whether it is recoding capital-gains, removing the Cases, leaving the Cases out, etc..."
   ]
  },
  {
   "attachments": {},
   "cell_type": "markdown",
   "metadata": {
    "tags": []
   },
   "source": [
    "### Step 2. Inliers\n",
    "\n",
    "While we generally only think of outliers when it comes to anomalies, inliers are another, more discrete, form of anomaly. Inliers are the opposite of outliers, as inliers are Cases that are too `similiar` to other points. A real world hypothetical case of an inlier would be someone submitting a false transaction date in which they tried to make the data look real by making it very similar to existing data. \n",
    "\n",
    "In our case, it may be someone in a bank who is internally falsifying applications in order to try to alter the prediction model.\n",
    "\n",
    "Just like outliers, `distance_contribution` is used to detect inliers from the anomalies detected through the use of `familiarity_conviction_addition`, except now we are looking at Cases below a theshold which indicates similarity to other points.\n"
   ]
  },
  {
   "attachments": {},
   "cell_type": "markdown",
   "metadata": {},
   "source": [
    "#### Step 2a. Inlier Extraction"
   ]
  },
  {
   "cell_type": "code",
   "execution_count": null,
   "metadata": {
    "execution": {
     "iopub.execute_input": "2024-02-08T20:35:55.517591Z",
     "iopub.status.busy": "2024-02-08T20:35:55.517379Z",
     "iopub.status.idle": "2024-02-08T20:35:55.529792Z",
     "shell.execute_reply": "2024-02-08T20:35:55.529353Z"
    }
   },
   "outputs": [],
   "source": [
    "# Extract the inlier cases\n",
    "inliers = low_convicts[low_convicts['category'] == 'inlier'].reset_index(drop=True)\n",
    "inliers.head(3)"
   ]
  },
  {
   "attachments": {},
   "cell_type": "markdown",
   "metadata": {},
   "source": [
    "#### Step 2b. Inlier Evaluation"
   ]
  },
  {
   "cell_type": "code",
   "execution_count": null,
   "metadata": {
    "execution": {
     "iopub.execute_input": "2024-02-08T20:35:55.531785Z",
     "iopub.status.busy": "2024-02-08T20:35:55.531486Z",
     "iopub.status.idle": "2024-02-08T20:36:12.192285Z",
     "shell.execute_reply": "2024-02-08T20:36:12.191788Z"
    }
   },
   "outputs": [],
   "source": [
    "# Specify the inlier cases\n",
    "inliers_indices = inliers[['.session', '.session_training_index']].values\n",
    "\n",
    "# React to get the details of each case\n",
    "results = t.react(\n",
    "    case_indices=inliers_indices, \n",
    "    preserve_feature_values=df.columns.tolist(), \n",
    "    leave_case_out=True, \n",
    "    details=details\n",
    ")\n",
    "\n",
    "# Extract the global and local case feature residual convictions\n",
    "inlier_global_case_feature_residual_convictions = pd.DataFrame(\n",
    "    results['details']['global_case_feature_residual_convictions']\n",
    ")[df.columns.tolist()]\n",
    "\n",
    "inlier_local_case_feature_residual_convictions = pd.DataFrame(\n",
    "    results['details']['local_case_feature_residual_convictions']\n",
    ")[df.columns.tolist()]"
   ]
  },
  {
   "cell_type": "code",
   "execution_count": null,
   "metadata": {
    "execution": {
     "iopub.execute_input": "2024-02-08T20:36:12.194775Z",
     "iopub.status.busy": "2024-02-08T20:36:12.194465Z",
     "iopub.status.idle": "2024-02-08T20:36:12.211998Z",
     "shell.execute_reply": "2024-02-08T20:36:12.211610Z"
    }
   },
   "outputs": [],
   "source": [
    "plot_anomalies(inliers, inlier_global_case_feature_residual_convictions)"
   ]
  },
  {
   "attachments": {},
   "cell_type": "markdown",
   "metadata": {},
   "source": [
    "#### Step 2c. Inlier Inspection\n",
    "\n",
    "This chart is viewed similarly to the outliers chart, however we are now examining Cases that are too similar. We can see that for several Cases, there are a few features that show high `feature_residual_conviction`, indicating that that feature can very easily predicted using the other features. However, this could also just be an indicator of high correlation between certain variables. In our Cases, we do not see a strong case of high `feature_residual_conviction` across a majority of features, thus it is likely that these points are not inliers. In many cases, especially with well known datasets like `Adult`, true inliers are rare as they are often the result of purposeful actions, while outliers may exist more naturally."
   ]
  },
  {
   "attachments": {},
   "cell_type": "markdown",
   "metadata": {},
   "source": [
    "# Section 3. Next Steps"
   ]
  },
  {
   "attachments": {},
   "cell_type": "markdown",
   "metadata": {},
   "source": [
    "This recipe showed us how to detect and inspect anomalous cases. There are many courses of action to take on anomalous data, and Recipe `4-audit_edit.ipynb` shows us how we can take edit these data points in our Trainee without having to retrain the Trainee."
   ]
  },
  {
   "attachments": {},
   "cell_type": "markdown",
   "metadata": {},
   "source": [
    "# Section 4: Appendix\n",
    "\n",
    "Here we detail some additional examples methods of diving deeper into the possible anomalies detected above/"
   ]
  },
  {
   "cell_type": "code",
   "execution_count": null,
   "metadata": {
    "execution": {
     "iopub.execute_input": "2024-02-08T20:36:12.213978Z",
     "iopub.status.busy": "2024-02-08T20:36:12.213627Z",
     "iopub.status.idle": "2024-02-08T20:36:12.218288Z",
     "shell.execute_reply": "2024-02-08T20:36:12.217884Z"
    }
   },
   "outputs": [],
   "source": [
    "# Helper functions\n",
    "def case_explain_residuals_ratio(anomalous_df, global_case_feature_residual_convictions, local_case_feature_residual_convictions, case_ind, num_features=5):\n",
    "    case = anomalous_df.iloc[case_ind, : ]\n",
    "    case_num = case['.session_training_index']\n",
    "    case_df = pd.concat([case, global_case_feature_residual_convictions.iloc[case_ind, :], local_case_feature_residual_convictions.iloc[case_ind, :]], axis=1)\n",
    "    case_df = case_df.loc[df.columns]\n",
    "    case_df.columns = ['values', 'global_case_feature_residual_convictions', 'local_case_feature_residual_convictions']\n",
    "    case_df = case_df.sort_values(['global_case_feature_residual_convictions', 'local_case_feature_residual_convictions'], ascending=True)\n",
    "    print(f'key features which caused case {case_num} to be anomalous: {case_df.head().index.tolist()}')\n",
    "    print('')\n",
    "    display(case_df.head())\n",
    "\n",
    "def get_cases(anomalous_df, results, case_ind):\n",
    "    case = anomalous_df.iloc[case_ind, :]\n",
    "    inf_cases = pd.DataFrame(results['details']['influential_cases'][case_ind])\n",
    "    bound_cases = pd.DataFrame(results['details']['boundary_cases'][case_ind])\n",
    "    \n",
    "    print('Original Case:')\n",
    "    display(case)\n",
    "    print('')\n",
    "    \n",
    "    print('Influential Cases:')\n",
    "    display(inf_cases)\n",
    "    print('')\n",
    "    \n",
    "    print('Boundary Cases:')\n",
    "    display(bound_cases)\n",
    "    print('')"
   ]
  },
  {
   "attachments": {},
   "cell_type": "markdown",
   "metadata": {},
   "source": [
    "We can print out a more detailed view of the Outlier Residual Conviction chart shown earlier."
   ]
  },
  {
   "cell_type": "code",
   "execution_count": null,
   "metadata": {
    "execution": {
     "iopub.execute_input": "2024-02-08T20:36:12.220057Z",
     "iopub.status.busy": "2024-02-08T20:36:12.219776Z",
     "iopub.status.idle": "2024-02-08T20:36:12.232214Z",
     "shell.execute_reply": "2024-02-08T20:36:12.231799Z"
    }
   },
   "outputs": [],
   "source": [
    "# Print out the explanations for outliers\n",
    "for i in range(2):\n",
    "    case_explain_residuals_ratio(\n",
    "        outliers,\n",
    "        outlier_global_case_feature_residual_convictions,\n",
    "        outlier_local_case_feature_residual_convictions,\n",
    "        i\n",
    "    )\n",
    "    print('_____________')"
   ]
  },
  {
   "attachments": {},
   "cell_type": "markdown",
   "metadata": {},
   "source": [
    "## Influential and boundary cases\n",
    "\n",
    "Influential and Boundary Cases may also provide additional clues into potentially anomalous data.\n",
    "\n",
    "**`Definitions`:**\n",
    "\n",
    "**`Boundary Cases`:** \n",
    "Boundary Cases are a generalization of counterfactuals, as they apply across all feature types, including continuous. These will return archetypes that have the highest gradient magnitude of the ratio of similar Context Feature values to maximally different Action Feature values. These can aid in uncovering and understanding causal relationships among the data. Boundary Cases may or may not also be Influential Cases, depending on the density and topology of the data. If they are not influential, then their influence weight will be 0."
   ]
  },
  {
   "cell_type": "code",
   "execution_count": null,
   "metadata": {
    "execution": {
     "iopub.execute_input": "2024-02-08T20:36:12.233922Z",
     "iopub.status.busy": "2024-02-08T20:36:12.233649Z",
     "iopub.status.idle": "2024-02-08T20:36:12.237183Z",
     "shell.execute_reply": "2024-02-08T20:36:12.236781Z"
    }
   },
   "outputs": [],
   "source": [
    "# Helper function to print out the explanations\n",
    "def case_explain_residuals_ratio(anomalous_df, global_case_feature_residual_convictions, local_case_feature_residual_convictions, case_ind, num_features=5):\n",
    "    case = anomalous_df.iloc[case_ind, : ]\n",
    "    case_num = case['.session_training_index']\n",
    "    case_df = pd.concat([case, global_case_feature_residual_convictions.iloc[case_ind, :], local_case_feature_residual_convictions.iloc[case_ind, :]], axis=1)\n",
    "    case_df = case_df.loc[df.columns]\n",
    "    case_df.columns = ['values', 'global_case_feature_residual_convictions', 'local_case_feature_residual_convictions']\n",
    "    case_df = case_df.sort_values(['global_case_feature_residual_convictions', 'local_case_feature_residual_convictions'], ascending=True)\n",
    "    print(f'key features which caused case {case_num} to be anomalous: {case_df.head().index.tolist()}')\n",
    "    print('')\n",
    "    display(case_df.head())"
   ]
  },
  {
   "cell_type": "code",
   "execution_count": null,
   "metadata": {
    "execution": {
     "iopub.execute_input": "2024-02-08T20:36:12.238814Z",
     "iopub.status.busy": "2024-02-08T20:36:12.238544Z",
     "iopub.status.idle": "2024-02-08T20:36:12.269944Z",
     "shell.execute_reply": "2024-02-08T20:36:12.269547Z"
    }
   },
   "outputs": [],
   "source": [
    "# Print influential and boundary case outliers\n",
    "for i in range(2):\n",
    "    get_cases(outliers, results, i)\n",
    "    print('_____________')"
   ]
  }
 ],
 "metadata": {
  "kernelspec": {
   "display_name": "Python 3 (ipykernel)",
   "language": "python",
   "name": "python3"
  },
  "language_info": {
   "codemirror_mode": {
    "name": "ipython",
    "version": 3
   },
   "file_extension": ".py",
   "mimetype": "text/x-python",
   "name": "python",
   "nbconvert_exporter": "python",
   "pygments_lexer": "ipython3",
   "version": "3.11.7"
  },
  "vscode": {
   "interpreter": {
    "hash": "bf53b06339b0098fe66ef1046934d7b61f36519a119c5f5969a69a0a508019c7"
   }
  }
 },
 "nbformat": 4,
 "nbformat_minor": 4
}
