{
 "cells": [
  {
   "attachments": {},
   "cell_type": "markdown",
   "metadata": {},
   "source": [
    "# Recipe 3: Anomaly Detection\n",
    "## Overview \n",
    "\n",
    "In the previous recipe, `2-interpretability.ipynb` we demonstrated some of the core interpretability capabilities and tools available in Howso Engine. In this recipe, we will use some of those methods to demonstrate a common use case, anomaly detection. Howso Engine  can be used to identify anomalous Cases in a dataset and also explain why cases those may be anomalous. Furthermore, we can leverage other tools we learned in previous recipes, such influential and boundary Cases, to provide additional context.\n",
    "\n",
    "Finding anomalous cases has value in both modeling building and data exploration. For example, as we continue to build a suitable model for the `Adult` datset, detecting anomalies can give us insight into whether we need to clean the dataset to reduce false signals. Possible sources of anomalies could be Cases that are erroneous or falsified.   \n"
   ]
  },
  {
   "attachments": {},
   "cell_type": "markdown",
   "metadata": {},
   "source": [
    "\n",
    "## Recipe Goals: \n",
    "This recipe demonstrates how to use some of the tools learned in `2-interpretability.ipynb`, as well as demonstrate some additional metrics to detect anomalies. As we continue to build our Trainee for the `Adult` dataset, we want to be confident that our training data is as clean as possible."
   ]
  },
  {
   "attachments": {},
   "cell_type": "markdown",
   "metadata": {},
   "source": [
    "# Section 1: Train and Analyze\n",
    "\n"
   ]
  },
  {
   "attachments": {},
   "cell_type": "markdown",
   "metadata": {},
   "source": [
    "### 1. Load data\n",
    "\n",
    "Our example dataset for this recipe continues to be the well known `Adult` dataset. This dataset consists of 14 Context Features and 1 Action Feature. The Action Feature in this version of the `Adult` dataset has been renamed to `target` and it takes the form of a binary indicator for whether a person in the data makes over $50,000/year (*target*=1) or less (*target*=0)."
   ]
  },
  {
   "cell_type": "code",
   "execution_count": 1,
   "metadata": {},
   "outputs": [],
   "source": [
    "import matplotlib.pyplot as plt\n",
    "import numpy as np\n",
    "import pandas as pd\n",
    "from pmlb import fetch_data\n",
    "import seaborn as sns\n",
    "\n",
    "from howso.engine import Trainee\n",
    "from howso.utilities import infer_feature_attributes\n",
    "from howso.visuals import plot_anomalies"
   ]
  },
  {
   "cell_type": "code",
   "execution_count": 2,
   "metadata": {},
   "outputs": [
    {
     "data": {
      "text/html": [
       "<div>\n",
       "<style scoped>\n",
       "    .dataframe tbody tr th:only-of-type {\n",
       "        vertical-align: middle;\n",
       "    }\n",
       "\n",
       "    .dataframe tbody tr th {\n",
       "        vertical-align: top;\n",
       "    }\n",
       "\n",
       "    .dataframe thead th {\n",
       "        text-align: right;\n",
       "    }\n",
       "</style>\n",
       "<table border=\"1\" class=\"dataframe\">\n",
       "  <thead>\n",
       "    <tr style=\"text-align: right;\">\n",
       "      <th></th>\n",
       "      <th>age</th>\n",
       "      <th>workclass</th>\n",
       "      <th>fnlwgt</th>\n",
       "      <th>education</th>\n",
       "      <th>education-num</th>\n",
       "      <th>marital-status</th>\n",
       "      <th>occupation</th>\n",
       "      <th>relationship</th>\n",
       "      <th>race</th>\n",
       "      <th>sex</th>\n",
       "      <th>capital-gain</th>\n",
       "      <th>capital-loss</th>\n",
       "      <th>hours-per-week</th>\n",
       "      <th>native-country</th>\n",
       "      <th>target</th>\n",
       "    </tr>\n",
       "  </thead>\n",
       "  <tbody>\n",
       "    <tr>\n",
       "      <th>38113</th>\n",
       "      <td>41.0</td>\n",
       "      <td>4</td>\n",
       "      <td>151856.0</td>\n",
       "      <td>11</td>\n",
       "      <td>9.0</td>\n",
       "      <td>2</td>\n",
       "      <td>11</td>\n",
       "      <td>0</td>\n",
       "      <td>4</td>\n",
       "      <td>1</td>\n",
       "      <td>0.0</td>\n",
       "      <td>0.0</td>\n",
       "      <td>40.0</td>\n",
       "      <td>39</td>\n",
       "      <td>1</td>\n",
       "    </tr>\n",
       "    <tr>\n",
       "      <th>39214</th>\n",
       "      <td>57.0</td>\n",
       "      <td>6</td>\n",
       "      <td>87584.0</td>\n",
       "      <td>10</td>\n",
       "      <td>16.0</td>\n",
       "      <td>0</td>\n",
       "      <td>10</td>\n",
       "      <td>1</td>\n",
       "      <td>4</td>\n",
       "      <td>0</td>\n",
       "      <td>0.0</td>\n",
       "      <td>0.0</td>\n",
       "      <td>25.0</td>\n",
       "      <td>39</td>\n",
       "      <td>1</td>\n",
       "    </tr>\n",
       "    <tr>\n",
       "      <th>44248</th>\n",
       "      <td>31.0</td>\n",
       "      <td>2</td>\n",
       "      <td>220669.0</td>\n",
       "      <td>9</td>\n",
       "      <td>13.0</td>\n",
       "      <td>4</td>\n",
       "      <td>10</td>\n",
       "      <td>3</td>\n",
       "      <td>4</td>\n",
       "      <td>0</td>\n",
       "      <td>6849.0</td>\n",
       "      <td>0.0</td>\n",
       "      <td>40.0</td>\n",
       "      <td>39</td>\n",
       "      <td>1</td>\n",
       "    </tr>\n",
       "    <tr>\n",
       "      <th>10283</th>\n",
       "      <td>55.0</td>\n",
       "      <td>4</td>\n",
       "      <td>171355.0</td>\n",
       "      <td>8</td>\n",
       "      <td>11.0</td>\n",
       "      <td>2</td>\n",
       "      <td>7</td>\n",
       "      <td>0</td>\n",
       "      <td>4</td>\n",
       "      <td>1</td>\n",
       "      <td>0.0</td>\n",
       "      <td>0.0</td>\n",
       "      <td>20.0</td>\n",
       "      <td>39</td>\n",
       "      <td>1</td>\n",
       "    </tr>\n",
       "    <tr>\n",
       "      <th>26724</th>\n",
       "      <td>59.0</td>\n",
       "      <td>6</td>\n",
       "      <td>148626.0</td>\n",
       "      <td>0</td>\n",
       "      <td>6.0</td>\n",
       "      <td>2</td>\n",
       "      <td>5</td>\n",
       "      <td>0</td>\n",
       "      <td>4</td>\n",
       "      <td>1</td>\n",
       "      <td>0.0</td>\n",
       "      <td>0.0</td>\n",
       "      <td>40.0</td>\n",
       "      <td>39</td>\n",
       "      <td>1</td>\n",
       "    </tr>\n",
       "    <tr>\n",
       "      <th>...</th>\n",
       "      <td>...</td>\n",
       "      <td>...</td>\n",
       "      <td>...</td>\n",
       "      <td>...</td>\n",
       "      <td>...</td>\n",
       "      <td>...</td>\n",
       "      <td>...</td>\n",
       "      <td>...</td>\n",
       "      <td>...</td>\n",
       "      <td>...</td>\n",
       "      <td>...</td>\n",
       "      <td>...</td>\n",
       "      <td>...</td>\n",
       "      <td>...</td>\n",
       "      <td>...</td>\n",
       "    </tr>\n",
       "    <tr>\n",
       "      <th>33804</th>\n",
       "      <td>29.0</td>\n",
       "      <td>4</td>\n",
       "      <td>166220.0</td>\n",
       "      <td>9</td>\n",
       "      <td>13.0</td>\n",
       "      <td>4</td>\n",
       "      <td>12</td>\n",
       "      <td>3</td>\n",
       "      <td>4</td>\n",
       "      <td>0</td>\n",
       "      <td>0.0</td>\n",
       "      <td>0.0</td>\n",
       "      <td>50.0</td>\n",
       "      <td>39</td>\n",
       "      <td>1</td>\n",
       "    </tr>\n",
       "    <tr>\n",
       "      <th>4721</th>\n",
       "      <td>60.0</td>\n",
       "      <td>0</td>\n",
       "      <td>204486.0</td>\n",
       "      <td>9</td>\n",
       "      <td>13.0</td>\n",
       "      <td>2</td>\n",
       "      <td>0</td>\n",
       "      <td>0</td>\n",
       "      <td>4</td>\n",
       "      <td>1</td>\n",
       "      <td>0.0</td>\n",
       "      <td>0.0</td>\n",
       "      <td>8.0</td>\n",
       "      <td>39</td>\n",
       "      <td>0</td>\n",
       "    </tr>\n",
       "    <tr>\n",
       "      <th>40113</th>\n",
       "      <td>48.0</td>\n",
       "      <td>2</td>\n",
       "      <td>93449.0</td>\n",
       "      <td>14</td>\n",
       "      <td>15.0</td>\n",
       "      <td>2</td>\n",
       "      <td>10</td>\n",
       "      <td>0</td>\n",
       "      <td>1</td>\n",
       "      <td>1</td>\n",
       "      <td>99999.0</td>\n",
       "      <td>0.0</td>\n",
       "      <td>40.0</td>\n",
       "      <td>30</td>\n",
       "      <td>0</td>\n",
       "    </tr>\n",
       "    <tr>\n",
       "      <th>17827</th>\n",
       "      <td>25.0</td>\n",
       "      <td>4</td>\n",
       "      <td>114838.0</td>\n",
       "      <td>14</td>\n",
       "      <td>15.0</td>\n",
       "      <td>4</td>\n",
       "      <td>10</td>\n",
       "      <td>1</td>\n",
       "      <td>4</td>\n",
       "      <td>0</td>\n",
       "      <td>0.0</td>\n",
       "      <td>0.0</td>\n",
       "      <td>8.0</td>\n",
       "      <td>22</td>\n",
       "      <td>1</td>\n",
       "    </tr>\n",
       "    <tr>\n",
       "      <th>35120</th>\n",
       "      <td>22.0</td>\n",
       "      <td>4</td>\n",
       "      <td>202125.0</td>\n",
       "      <td>11</td>\n",
       "      <td>9.0</td>\n",
       "      <td>2</td>\n",
       "      <td>12</td>\n",
       "      <td>0</td>\n",
       "      <td>4</td>\n",
       "      <td>1</td>\n",
       "      <td>0.0</td>\n",
       "      <td>0.0</td>\n",
       "      <td>50.0</td>\n",
       "      <td>39</td>\n",
       "      <td>1</td>\n",
       "    </tr>\n",
       "  </tbody>\n",
       "</table>\n",
       "<p>1000 rows × 15 columns</p>\n",
       "</div>"
      ],
      "text/plain": [
       "        age  workclass    fnlwgt  education  education-num  marital-status  \\\n",
       "38113  41.0          4  151856.0         11            9.0               2   \n",
       "39214  57.0          6   87584.0         10           16.0               0   \n",
       "44248  31.0          2  220669.0          9           13.0               4   \n",
       "10283  55.0          4  171355.0          8           11.0               2   \n",
       "26724  59.0          6  148626.0          0            6.0               2   \n",
       "...     ...        ...       ...        ...            ...             ...   \n",
       "33804  29.0          4  166220.0          9           13.0               4   \n",
       "4721   60.0          0  204486.0          9           13.0               2   \n",
       "40113  48.0          2   93449.0         14           15.0               2   \n",
       "17827  25.0          4  114838.0         14           15.0               4   \n",
       "35120  22.0          4  202125.0         11            9.0               2   \n",
       "\n",
       "       occupation  relationship  race  sex  capital-gain  capital-loss  \\\n",
       "38113          11             0     4    1           0.0           0.0   \n",
       "39214          10             1     4    0           0.0           0.0   \n",
       "44248          10             3     4    0        6849.0           0.0   \n",
       "10283           7             0     4    1           0.0           0.0   \n",
       "26724           5             0     4    1           0.0           0.0   \n",
       "...           ...           ...   ...  ...           ...           ...   \n",
       "33804          12             3     4    0           0.0           0.0   \n",
       "4721            0             0     4    1           0.0           0.0   \n",
       "40113          10             0     1    1       99999.0           0.0   \n",
       "17827          10             1     4    0           0.0           0.0   \n",
       "35120          12             0     4    1           0.0           0.0   \n",
       "\n",
       "       hours-per-week  native-country  target  \n",
       "38113            40.0              39       1  \n",
       "39214            25.0              39       1  \n",
       "44248            40.0              39       1  \n",
       "10283            20.0              39       1  \n",
       "26724            40.0              39       1  \n",
       "...               ...             ...     ...  \n",
       "33804            50.0              39       1  \n",
       "4721              8.0              39       0  \n",
       "40113            40.0              30       0  \n",
       "17827             8.0              22       1  \n",
       "35120            50.0              39       1  \n",
       "\n",
       "[1000 rows x 15 columns]"
      ]
     },
     "execution_count": 2,
     "metadata": {},
     "output_type": "execute_result"
    }
   ],
   "source": [
    "df = fetch_data('adult', local_cache_dir=\"data/adult\")\n",
    "\n",
    "# Subsample the data to ensure the example runs quickly\n",
    "df = df.sample(1000, random_state=0)\n",
    "\n",
    "df"
   ]
  },
  {
   "attachments": {},
   "cell_type": "markdown",
   "metadata": {},
   "source": [
    "### 2. Train Trainee\n",
    "\n",
    "In this section we will perform all of the steps needed to train Howso Engine's Trainee.\n",
    "\n",
    "While we preivously separated the Action and Context Features, we will leave them together for anomaly detection to incorpate all the features in a targetless flow."
   ]
  },
  {
   "cell_type": "code",
   "execution_count": 3,
   "metadata": {},
   "outputs": [],
   "source": [
    "# Infer features attributes\n",
    "features = infer_feature_attributes(df)\n",
    "\n",
    "# Create the Trainee\n",
    "t = Trainee(\n",
    "    features=features,\n",
    "    overwrite_existing=True\n",
    ")\n",
    "\n",
    "t.train(df)\n",
    "\n",
    "# Targetless Analysis\n",
    "t.analyze()"
   ]
  },
  {
   "attachments": {},
   "cell_type": "markdown",
   "metadata": {},
   "source": [
    "# Section 2. Anomaly Identification\n",
    "\n",
    "We will use `Familiarity Conviction` and `Distance Contribution` to identify potentially anomalous cases.`Familiarity Conviction` is metric for describing surprisal of individual Cases in the Trainee relative to other Cases. In other words, Familiarity Conviction evaluates each data point in the Trainee and assigns a surprisal score indicating how similar or different each point is to the remainder of the data. Howso Engine’s interpretability tools also enable us to understand why these cases may be anomalous and whether they are outliers and inliers. \n",
    "\n",
    "**`Definitions`:**\n",
    "\n",
    "**`Familiarity Conviction`:** How confident or familiar the Trainee is about some data point on which it has been trained, as determined by the KL Divergence of the effect of the particular data point on the probability density function of the overall data. The lower the Familiarity Conviction value, the less familiar the Trainee is with the data point. Thus, a Familiarity Conviction of 0.01 corresponds to the Trainee believing a data point is unusual, while a Familiarity Conviction of 2 corresponds to the Trainee believing a data point is fairly familiar. Low values can also be used to determine when further training is needed to improve the Trainee’s ability to provide accurate results. \n",
    "\n",
    "An example is if there is a dataset that comprises four data points, such as the corners of a square on a grid. A new data point that lies inside the square, will return high `Familiarity Conviction` (low surprisal) as it fits within the data scheme. However, another data point that lies diagonally from the uppermost corner will have a low `Familiarity Conviction` (high surprisal) because it does not fit in the square, like the other points.\n",
    "\n",
    "**`Distance Contribution`**: The expected total surprisal contribution for a Case. That is, the amount of distance (or knowledge) a Case adds to the Trainee, where the distance is measured in surprisal."
   ]
  },
  {
   "attachments": {},
   "cell_type": "markdown",
   "metadata": {},
   "source": [
    "### Step 1. React\n",
    "\n",
    "The first step is to use `react_into_features` and select the metrics we want to return."
   ]
  },
  {
   "cell_type": "code",
   "execution_count": 4,
   "metadata": {},
   "outputs": [],
   "source": [
    "# Store the familiarity conviction, this will be used to identify anomalous cases\n",
    "t.react_into_features(\n",
    "    familiarity_conviction_addition=True,\n",
    "    distance_contribution=True\n",
    ")\n",
    "\n",
    "stored_convictions = t.get_cases(\n",
    "    session=t.active_session,\n",
    "    features=df.columns.tolist() + ['familiarity_conviction_addition','.session_training_index', '.session', 'distance_contribution']\n",
    ")"
   ]
  },
  {
   "attachments": {},
   "cell_type": "markdown",
   "metadata": {},
   "source": [
    "### Step 2. Determine Threshold\n",
    "\n",
    "There is no absolute threshold for what is considered to be anomalous, as anomalous behavior is a measure of surprisal. Thus, this is a lever that the user can change depending on the Trainee. The threshold should be less than 1, which is average surprisal.\n",
    "\n",
    "We first use `familiarity_conviction_addition` to find anomalies, and then use the average `distance_contribution` to determine what type of anomaly the case is (e.g., inlier vs. outlier)."
   ]
  },
  {
   "cell_type": "code",
   "execution_count": 5,
   "metadata": {},
   "outputs": [],
   "source": [
    "# Threshold to determine which cases will be deemed anomalous\n",
    "convict_threshold = 0.75\n",
    "\n",
    "# Extract the anomalous cases\n",
    "low_convicts = stored_convictions[\n",
    "    stored_convictions['familiarity_conviction_addition'] <= convict_threshold \n",
    "].sort_values('familiarity_conviction_addition', ascending=True)\n",
    "\n",
    "# Average distance contribution will be used to determine if a case is an outlier or inlier\n",
    "average_dist_contribution = low_convicts['distance_contribution'].mean()\n",
    "\n",
    "# A case with distance contribution greater than average will be tagged as outlier, and vise versa for inliers\n",
    "cat = [\n",
    "    'inlier' if d < average_dist_contribution else \n",
    "    'outlier' for d in low_convicts['distance_contribution']\n",
    "]\n",
    "low_convicts['category'] = cat"
   ]
  },
  {
   "attachments": {},
   "cell_type": "markdown",
   "metadata": {},
   "source": [
    "# Section 3. Anomaly Inspection\n"
   ]
  },
  {
   "attachments": {},
   "cell_type": "markdown",
   "metadata": {},
   "source": [
    "\n",
    "### Step 1. Outliers\n",
    "\n",
    "Typically, when we think of anomalies, we think of outliers or cases that are significantly different that the rest of the data, whether erroneous or not. Preprocessing in machine learning often involves pruning these data points as they can add undesired noise to a model. \n",
    "\n",
    "The Case Feature Residual Conviction will be used to understand why each Case was anomalous. There are two types of Reature Residual Convictions: `global_case_feature_residual_convictions` and `local_case_feature_residual_convictions`.\n",
    "\n",
    "In our example use case where the `Adult` dataset is used to determine projected salary for loan applications, we want to eliminate any erroneous outliers if possible. We may also want to detect substituted values, as often times datasets may substitute special values with nominal integers. For example, blank values in an application are often coded with high integers like 99999 which can introduce noise in the dataset.\n",
    "\n",
    "**`Definitions`:**\n",
    "\n",
    "**`global_case_feature_residual_convictions`** : A Case's Feature Residual Convictions for the global model. This is calculated using the expected feature Residuals, divided by the feature Residuals of the Case to obtain the Convictions. The global feature Residuals are used as the expected value.\n",
    "\n",
    "**`local_case_feature_residual_convictions`** : A Case's Feature Residual Convictions for the local model. This is calculated using the expected feature Residuals, divided by the feature Residuals of the Case to obtain the Convictions. The local feature residuals are used as the expected value."
   ]
  },
  {
   "attachments": {},
   "cell_type": "markdown",
   "metadata": {},
   "source": [
    "#### Step 1a. Outlier Extraction"
   ]
  },
  {
   "cell_type": "code",
   "execution_count": 6,
   "metadata": {},
   "outputs": [
    {
     "data": {
      "text/html": [
       "<div>\n",
       "<style scoped>\n",
       "    .dataframe tbody tr th:only-of-type {\n",
       "        vertical-align: middle;\n",
       "    }\n",
       "\n",
       "    .dataframe tbody tr th {\n",
       "        vertical-align: top;\n",
       "    }\n",
       "\n",
       "    .dataframe thead th {\n",
       "        text-align: right;\n",
       "    }\n",
       "</style>\n",
       "<table border=\"1\" class=\"dataframe\">\n",
       "  <thead>\n",
       "    <tr style=\"text-align: right;\">\n",
       "      <th></th>\n",
       "      <th>age</th>\n",
       "      <th>workclass</th>\n",
       "      <th>fnlwgt</th>\n",
       "      <th>education</th>\n",
       "      <th>education-num</th>\n",
       "      <th>marital-status</th>\n",
       "      <th>occupation</th>\n",
       "      <th>relationship</th>\n",
       "      <th>race</th>\n",
       "      <th>sex</th>\n",
       "      <th>capital-gain</th>\n",
       "      <th>capital-loss</th>\n",
       "      <th>hours-per-week</th>\n",
       "      <th>native-country</th>\n",
       "      <th>target</th>\n",
       "      <th>familiarity_conviction_addition</th>\n",
       "      <th>.session_training_index</th>\n",
       "      <th>.session</th>\n",
       "      <th>distance_contribution</th>\n",
       "      <th>category</th>\n",
       "    </tr>\n",
       "  </thead>\n",
       "  <tbody>\n",
       "    <tr>\n",
       "      <th>0</th>\n",
       "      <td>28.0</td>\n",
       "      <td>4</td>\n",
       "      <td>126060.0</td>\n",
       "      <td>11</td>\n",
       "      <td>9.0</td>\n",
       "      <td>2</td>\n",
       "      <td>1</td>\n",
       "      <td>5</td>\n",
       "      <td>4</td>\n",
       "      <td>0</td>\n",
       "      <td>99999.0</td>\n",
       "      <td>0.0</td>\n",
       "      <td>36.0</td>\n",
       "      <td>39</td>\n",
       "      <td>0</td>\n",
       "      <td>0.079562</td>\n",
       "      <td>627</td>\n",
       "      <td>cd9d5349-22d4-43a9-aebb-68419083a4b1</td>\n",
       "      <td>30.557225</td>\n",
       "      <td>outlier</td>\n",
       "    </tr>\n",
       "    <tr>\n",
       "      <th>1</th>\n",
       "      <td>54.0</td>\n",
       "      <td>6</td>\n",
       "      <td>269068.0</td>\n",
       "      <td>14</td>\n",
       "      <td>15.0</td>\n",
       "      <td>2</td>\n",
       "      <td>10</td>\n",
       "      <td>0</td>\n",
       "      <td>1</td>\n",
       "      <td>1</td>\n",
       "      <td>99999.0</td>\n",
       "      <td>0.0</td>\n",
       "      <td>50.0</td>\n",
       "      <td>30</td>\n",
       "      <td>0</td>\n",
       "      <td>0.090035</td>\n",
       "      <td>556</td>\n",
       "      <td>cd9d5349-22d4-43a9-aebb-68419083a4b1</td>\n",
       "      <td>26.299004</td>\n",
       "      <td>outlier</td>\n",
       "    </tr>\n",
       "    <tr>\n",
       "      <th>2</th>\n",
       "      <td>48.0</td>\n",
       "      <td>2</td>\n",
       "      <td>93449.0</td>\n",
       "      <td>14</td>\n",
       "      <td>15.0</td>\n",
       "      <td>2</td>\n",
       "      <td>10</td>\n",
       "      <td>0</td>\n",
       "      <td>1</td>\n",
       "      <td>1</td>\n",
       "      <td>99999.0</td>\n",
       "      <td>0.0</td>\n",
       "      <td>40.0</td>\n",
       "      <td>30</td>\n",
       "      <td>0</td>\n",
       "      <td>0.092224</td>\n",
       "      <td>997</td>\n",
       "      <td>cd9d5349-22d4-43a9-aebb-68419083a4b1</td>\n",
       "      <td>25.532120</td>\n",
       "      <td>outlier</td>\n",
       "    </tr>\n",
       "  </tbody>\n",
       "</table>\n",
       "</div>"
      ],
      "text/plain": [
       "    age  workclass    fnlwgt  education  education-num  marital-status  \\\n",
       "0  28.0          4  126060.0         11            9.0               2   \n",
       "1  54.0          6  269068.0         14           15.0               2   \n",
       "2  48.0          2   93449.0         14           15.0               2   \n",
       "\n",
       "   occupation  relationship  race  sex  capital-gain  capital-loss  \\\n",
       "0           1             5     4    0       99999.0           0.0   \n",
       "1          10             0     1    1       99999.0           0.0   \n",
       "2          10             0     1    1       99999.0           0.0   \n",
       "\n",
       "   hours-per-week  native-country  target  familiarity_conviction_addition  \\\n",
       "0            36.0              39       0                         0.079562   \n",
       "1            50.0              30       0                         0.090035   \n",
       "2            40.0              30       0                         0.092224   \n",
       "\n",
       "   .session_training_index                              .session  \\\n",
       "0                      627  cd9d5349-22d4-43a9-aebb-68419083a4b1   \n",
       "1                      556  cd9d5349-22d4-43a9-aebb-68419083a4b1   \n",
       "2                      997  cd9d5349-22d4-43a9-aebb-68419083a4b1   \n",
       "\n",
       "   distance_contribution category  \n",
       "0              30.557225  outlier  \n",
       "1              26.299004  outlier  \n",
       "2              25.532120  outlier  "
      ]
     },
     "execution_count": 6,
     "metadata": {},
     "output_type": "execute_result"
    }
   ],
   "source": [
    "# Extract the outliers cases\n",
    "outliers = low_convicts[low_convicts['category'] == 'outlier'].reset_index(drop=True)\n",
    "outliers.head(3)"
   ]
  },
  {
   "attachments": {},
   "cell_type": "markdown",
   "metadata": {},
   "source": [
    "#### Step 1b. Outlier Evaluation\n",
    "\n",
    "From the above results, we can see which cases may be anomalous, however just knowing whether a case is potentially an anomaly doesn't give us all the information we need to make an informed decision. If we are deciding whether to prune a Case from our training set, often we only want to prune erroneous values. Even if a Case is an anomaly in terms of distance or value, if it is valid we may still leave it in as it represents a legitimate data point. \n",
    "\n",
    "By looking at the `Global Case Feature Residual Convictions`, we can gain insight as to `why` a Case was anomalous."
   ]
  },
  {
   "cell_type": "code",
   "execution_count": 7,
   "metadata": {},
   "outputs": [],
   "source": [
    "# We add a few extra metrics for subsequent examples in this notebook\n",
    "# Get the case_feature_residual_convictions, influential_cases and boundary_cases\n",
    "details = {\n",
    "    'robust_computation':True,\n",
    "    'boundary_cases':True, \n",
    "    'num_boundary_cases':3, \n",
    "    'influential_cases':True, \n",
    "    'global_case_feature_residual_convictions':True, \n",
    "    'local_case_feature_residual_convictions':True\n",
    "}\n",
    "\n",
    "# Specify outlier cases\n",
    "outliers_indices = outliers[['.session', '.session_training_index']].values\n",
    "\n",
    "# React to get the details of each case\n",
    "results = t.react(\n",
    "    case_indices=outliers_indices, \n",
    "    preserve_feature_values=df.columns.tolist(), \n",
    "    leave_case_out=True, \n",
    "    details=details\n",
    ")\n",
    "\n",
    "# Extract the global and local case feature residual convictions\n",
    "outlier_global_case_feature_residual_convictions = pd.DataFrame(\n",
    "    results['explanation']['global_case_feature_residual_convictions']\n",
    ")[df.columns.tolist()]\n",
    "\n",
    "outlier_local_case_feature_residual_convictions = pd.DataFrame(\n",
    "    results['explanation']['local_case_feature_residual_convictions']\n",
    ")[df.columns.tolist()]"
   ]
  },
  {
   "cell_type": "code",
   "execution_count": 8,
   "metadata": {},
   "outputs": [
    {
     "data": {
      "application/vnd.plotly.v1+json": {
       "config": {
        "plotlyServerURL": "https://plot.ly"
       },
       "data": [
        {
         "coloraxis": "coloraxis",
         "hovertemplate": "Conviction=%{z}",
         "name": "Outliers",
         "text": [
          [
           "28.0",
           "4",
           "126060.0",
           "11",
           "9.0",
           "2",
           "1",
           "5",
           "4",
           "0",
           "99999.0",
           "0.0",
           "36.0",
           "39",
           "0",
           "0.0795624371708941",
           "627",
           "cd9d5349-22d4-43a9-aebb-68419083a4b1",
           "30.557224786867955",
           "outlier"
          ],
          [
           "54.0",
           "6",
           "269068.0",
           "14",
           "15.0",
           "2",
           "10",
           "0",
           "1",
           "1",
           "99999.0",
           "0.0",
           "50.0",
           "30",
           "0",
           "0.09003508595740267",
           "556",
           "cd9d5349-22d4-43a9-aebb-68419083a4b1",
           "26.299004441753933",
           "outlier"
          ],
          [
           "48.0",
           "2",
           "93449.0",
           "14",
           "15.0",
           "2",
           "10",
           "0",
           "1",
           "1",
           "99999.0",
           "0.0",
           "40.0",
           "30",
           "0",
           "0.09222414292445387",
           "997",
           "cd9d5349-22d4-43a9-aebb-68419083a4b1",
           "25.53211989487001",
           "outlier"
          ],
          [
           "49.0",
           "4",
           "159816.0",
           "9",
           "13.0",
           "2",
           "10",
           "5",
           "4",
           "0",
           "99999.0",
           "0.0",
           "20.0",
           "39",
           "0",
           "0.0932626365533902",
           "787",
           "cd9d5349-22d4-43a9-aebb-68419083a4b1",
           "27.471462621454698",
           "outlier"
          ],
          [
           "46.0",
           "5",
           "198660.0",
           "9",
           "13.0",
           "2",
           "12",
           "0",
           "4",
           "1",
           "99999.0",
           "0.0",
           "72.0",
           "39",
           "0",
           "0.10622346665728735",
           "230",
           "cd9d5349-22d4-43a9-aebb-68419083a4b1",
           "25.736441965550455",
           "outlier"
          ]
         ],
         "texttemplate": "%{text}",
         "type": "heatmap",
         "x": [
          "age",
          "workclass",
          "fnlwgt",
          "education",
          "education-num",
          "marital-status",
          "occupation",
          "relationship",
          "race",
          "sex",
          "capital-gain",
          "capital-loss",
          "hours-per-week",
          "native-country",
          "target"
         ],
         "xgap": 3,
         "y": [
          0,
          1,
          2,
          3,
          4
         ],
         "ygap": 3,
         "z": [
          [
           0.5596437619097776,
           1.0811541450364217,
           1.6107963374604992,
           0.6698928987252433,
           0.43066058455586415,
           2.589036515115595,
           1.1068516319395256,
           0.7468823613519427,
           1.2983058972348105,
           0.5876169014886482,
           0.020816609426801788,
           6.979006240292805,
           1.6187869471911351,
           1.956063321100906,
           0.7823612534678177
          ],
          [
           1.238211823225383,
           0.4306748920320626,
           0.7433413442425942,
           0.6351482825593786,
           0.6380156808235025,
           6.669068074864072,
           2.029215004997872,
           3.146687167547462,
           0.24491153747482544,
           2.6238512818543573,
           0.02962443168462187,
           1.685228218681882,
           1.097253077175581,
           0.2215124899014874,
           1.297193148213828
          ],
          [
           2.4358265374925567,
           0.4281952107805821,
           0.8018136490523609,
           0.7290808664144187,
           0.6380156808235025,
           6.045353528349577,
           2.33121360923113,
           3.76417355320662,
           0.22342186787185314,
           1.9483176375915534,
           0.02872569981168748,
           2.6975399797878463,
           1.670340671623974,
           0.20730721675633929,
           1.501073609395629
          ],
          [
           1.7794660932580355,
           0.707713102601543,
           3.9841999275027993,
           0.6126221930458573,
           1.3781138705787652,
           2.566163126397039,
           1.3850176258567846,
           0.7731519370656287,
           1.7571826875167358,
           0.453048667815451,
           0.020823330269038393,
           1.1527719675293313,
           0.37624603363696396,
           1.2720249900074267,
           1.0072461254591178
          ],
          [
           1.9811389171606126,
           0.5060657259716967,
           3.0930061156195854,
           0.8542228900199704,
           1.3251094909411203,
           7.1460340577132015,
           1.0859716542526752,
           3.0359505108197995,
           1.2122680915143158,
           1.9247032163444024,
           0.020860200605593838,
           2.284371343985641,
           0.29041360514392456,
           1.1952524280207062,
           1.5325838059792611
          ]
         ]
        }
       ],
       "layout": {
        "coloraxis": {
         "cmax": 5,
         "cmin": 0,
         "colorbar": {
          "ticktext": [
           "0",
           "0.5",
           "1",
           "1.5",
           "2",
           "2.5",
           "3",
           "3.5",
           "4",
           "4.5",
           "≥5"
          ],
          "tickvals": [
           0,
           0.5,
           1,
           1.5,
           2,
           2.5,
           3,
           3.5,
           4,
           4.5,
           5
          ],
          "title": {
           "text": "Conviction"
          }
         },
         "colorscale": [
          [
           0,
           "rgb(103,0,31)"
          ],
          [
           0.2,
           "rgb(247, 247, 247)"
          ],
          [
           0.4,
           "rgb(67,147,195)"
          ],
          [
           1,
           "rgb(5,48,97)"
          ]
         ]
        },
        "template": {
         "data": {
          "bar": [
           {
            "error_x": {
             "color": "#2a3f5f"
            },
            "error_y": {
             "color": "#2a3f5f"
            },
            "marker": {
             "line": {
              "color": "#E5ECF6",
              "width": 0.5
             },
             "pattern": {
              "fillmode": "overlay",
              "size": 10,
              "solidity": 0.2
             }
            },
            "type": "bar"
           }
          ],
          "barpolar": [
           {
            "marker": {
             "line": {
              "color": "#E5ECF6",
              "width": 0.5
             },
             "pattern": {
              "fillmode": "overlay",
              "size": 10,
              "solidity": 0.2
             }
            },
            "type": "barpolar"
           }
          ],
          "carpet": [
           {
            "aaxis": {
             "endlinecolor": "#2a3f5f",
             "gridcolor": "white",
             "linecolor": "white",
             "minorgridcolor": "white",
             "startlinecolor": "#2a3f5f"
            },
            "baxis": {
             "endlinecolor": "#2a3f5f",
             "gridcolor": "white",
             "linecolor": "white",
             "minorgridcolor": "white",
             "startlinecolor": "#2a3f5f"
            },
            "type": "carpet"
           }
          ],
          "choropleth": [
           {
            "colorbar": {
             "outlinewidth": 0,
             "ticks": ""
            },
            "type": "choropleth"
           }
          ],
          "contour": [
           {
            "colorbar": {
             "outlinewidth": 0,
             "ticks": ""
            },
            "colorscale": [
             [
              0,
              "#0d0887"
             ],
             [
              0.1111111111111111,
              "#46039f"
             ],
             [
              0.2222222222222222,
              "#7201a8"
             ],
             [
              0.3333333333333333,
              "#9c179e"
             ],
             [
              0.4444444444444444,
              "#bd3786"
             ],
             [
              0.5555555555555556,
              "#d8576b"
             ],
             [
              0.6666666666666666,
              "#ed7953"
             ],
             [
              0.7777777777777778,
              "#fb9f3a"
             ],
             [
              0.8888888888888888,
              "#fdca26"
             ],
             [
              1,
              "#f0f921"
             ]
            ],
            "type": "contour"
           }
          ],
          "contourcarpet": [
           {
            "colorbar": {
             "outlinewidth": 0,
             "ticks": ""
            },
            "type": "contourcarpet"
           }
          ],
          "heatmap": [
           {
            "colorbar": {
             "outlinewidth": 0,
             "ticks": ""
            },
            "colorscale": [
             [
              0,
              "#0d0887"
             ],
             [
              0.1111111111111111,
              "#46039f"
             ],
             [
              0.2222222222222222,
              "#7201a8"
             ],
             [
              0.3333333333333333,
              "#9c179e"
             ],
             [
              0.4444444444444444,
              "#bd3786"
             ],
             [
              0.5555555555555556,
              "#d8576b"
             ],
             [
              0.6666666666666666,
              "#ed7953"
             ],
             [
              0.7777777777777778,
              "#fb9f3a"
             ],
             [
              0.8888888888888888,
              "#fdca26"
             ],
             [
              1,
              "#f0f921"
             ]
            ],
            "type": "heatmap"
           }
          ],
          "heatmapgl": [
           {
            "colorbar": {
             "outlinewidth": 0,
             "ticks": ""
            },
            "colorscale": [
             [
              0,
              "#0d0887"
             ],
             [
              0.1111111111111111,
              "#46039f"
             ],
             [
              0.2222222222222222,
              "#7201a8"
             ],
             [
              0.3333333333333333,
              "#9c179e"
             ],
             [
              0.4444444444444444,
              "#bd3786"
             ],
             [
              0.5555555555555556,
              "#d8576b"
             ],
             [
              0.6666666666666666,
              "#ed7953"
             ],
             [
              0.7777777777777778,
              "#fb9f3a"
             ],
             [
              0.8888888888888888,
              "#fdca26"
             ],
             [
              1,
              "#f0f921"
             ]
            ],
            "type": "heatmapgl"
           }
          ],
          "histogram": [
           {
            "marker": {
             "pattern": {
              "fillmode": "overlay",
              "size": 10,
              "solidity": 0.2
             }
            },
            "type": "histogram"
           }
          ],
          "histogram2d": [
           {
            "colorbar": {
             "outlinewidth": 0,
             "ticks": ""
            },
            "colorscale": [
             [
              0,
              "#0d0887"
             ],
             [
              0.1111111111111111,
              "#46039f"
             ],
             [
              0.2222222222222222,
              "#7201a8"
             ],
             [
              0.3333333333333333,
              "#9c179e"
             ],
             [
              0.4444444444444444,
              "#bd3786"
             ],
             [
              0.5555555555555556,
              "#d8576b"
             ],
             [
              0.6666666666666666,
              "#ed7953"
             ],
             [
              0.7777777777777778,
              "#fb9f3a"
             ],
             [
              0.8888888888888888,
              "#fdca26"
             ],
             [
              1,
              "#f0f921"
             ]
            ],
            "type": "histogram2d"
           }
          ],
          "histogram2dcontour": [
           {
            "colorbar": {
             "outlinewidth": 0,
             "ticks": ""
            },
            "colorscale": [
             [
              0,
              "#0d0887"
             ],
             [
              0.1111111111111111,
              "#46039f"
             ],
             [
              0.2222222222222222,
              "#7201a8"
             ],
             [
              0.3333333333333333,
              "#9c179e"
             ],
             [
              0.4444444444444444,
              "#bd3786"
             ],
             [
              0.5555555555555556,
              "#d8576b"
             ],
             [
              0.6666666666666666,
              "#ed7953"
             ],
             [
              0.7777777777777778,
              "#fb9f3a"
             ],
             [
              0.8888888888888888,
              "#fdca26"
             ],
             [
              1,
              "#f0f921"
             ]
            ],
            "type": "histogram2dcontour"
           }
          ],
          "mesh3d": [
           {
            "colorbar": {
             "outlinewidth": 0,
             "ticks": ""
            },
            "type": "mesh3d"
           }
          ],
          "parcoords": [
           {
            "line": {
             "colorbar": {
              "outlinewidth": 0,
              "ticks": ""
             }
            },
            "type": "parcoords"
           }
          ],
          "pie": [
           {
            "automargin": true,
            "type": "pie"
           }
          ],
          "scatter": [
           {
            "fillpattern": {
             "fillmode": "overlay",
             "size": 10,
             "solidity": 0.2
            },
            "type": "scatter"
           }
          ],
          "scatter3d": [
           {
            "line": {
             "colorbar": {
              "outlinewidth": 0,
              "ticks": ""
             }
            },
            "marker": {
             "colorbar": {
              "outlinewidth": 0,
              "ticks": ""
             }
            },
            "type": "scatter3d"
           }
          ],
          "scattercarpet": [
           {
            "marker": {
             "colorbar": {
              "outlinewidth": 0,
              "ticks": ""
             }
            },
            "type": "scattercarpet"
           }
          ],
          "scattergeo": [
           {
            "marker": {
             "colorbar": {
              "outlinewidth": 0,
              "ticks": ""
             }
            },
            "type": "scattergeo"
           }
          ],
          "scattergl": [
           {
            "marker": {
             "colorbar": {
              "outlinewidth": 0,
              "ticks": ""
             }
            },
            "type": "scattergl"
           }
          ],
          "scattermapbox": [
           {
            "marker": {
             "colorbar": {
              "outlinewidth": 0,
              "ticks": ""
             }
            },
            "type": "scattermapbox"
           }
          ],
          "scatterpolar": [
           {
            "marker": {
             "colorbar": {
              "outlinewidth": 0,
              "ticks": ""
             }
            },
            "type": "scatterpolar"
           }
          ],
          "scatterpolargl": [
           {
            "marker": {
             "colorbar": {
              "outlinewidth": 0,
              "ticks": ""
             }
            },
            "type": "scatterpolargl"
           }
          ],
          "scatterternary": [
           {
            "marker": {
             "colorbar": {
              "outlinewidth": 0,
              "ticks": ""
             }
            },
            "type": "scatterternary"
           }
          ],
          "surface": [
           {
            "colorbar": {
             "outlinewidth": 0,
             "ticks": ""
            },
            "colorscale": [
             [
              0,
              "#0d0887"
             ],
             [
              0.1111111111111111,
              "#46039f"
             ],
             [
              0.2222222222222222,
              "#7201a8"
             ],
             [
              0.3333333333333333,
              "#9c179e"
             ],
             [
              0.4444444444444444,
              "#bd3786"
             ],
             [
              0.5555555555555556,
              "#d8576b"
             ],
             [
              0.6666666666666666,
              "#ed7953"
             ],
             [
              0.7777777777777778,
              "#fb9f3a"
             ],
             [
              0.8888888888888888,
              "#fdca26"
             ],
             [
              1,
              "#f0f921"
             ]
            ],
            "type": "surface"
           }
          ],
          "table": [
           {
            "cells": {
             "fill": {
              "color": "#EBF0F8"
             },
             "line": {
              "color": "white"
             }
            },
            "header": {
             "fill": {
              "color": "#C8D4E3"
             },
             "line": {
              "color": "white"
             }
            },
            "type": "table"
           }
          ]
         },
         "layout": {
          "annotationdefaults": {
           "arrowcolor": "#2a3f5f",
           "arrowhead": 0,
           "arrowwidth": 1
          },
          "autotypenumbers": "strict",
          "coloraxis": {
           "colorbar": {
            "outlinewidth": 0,
            "ticks": ""
           }
          },
          "colorscale": {
           "diverging": [
            [
             0,
             "#8e0152"
            ],
            [
             0.1,
             "#c51b7d"
            ],
            [
             0.2,
             "#de77ae"
            ],
            [
             0.3,
             "#f1b6da"
            ],
            [
             0.4,
             "#fde0ef"
            ],
            [
             0.5,
             "#f7f7f7"
            ],
            [
             0.6,
             "#e6f5d0"
            ],
            [
             0.7,
             "#b8e186"
            ],
            [
             0.8,
             "#7fbc41"
            ],
            [
             0.9,
             "#4d9221"
            ],
            [
             1,
             "#276419"
            ]
           ],
           "sequential": [
            [
             0,
             "#0d0887"
            ],
            [
             0.1111111111111111,
             "#46039f"
            ],
            [
             0.2222222222222222,
             "#7201a8"
            ],
            [
             0.3333333333333333,
             "#9c179e"
            ],
            [
             0.4444444444444444,
             "#bd3786"
            ],
            [
             0.5555555555555556,
             "#d8576b"
            ],
            [
             0.6666666666666666,
             "#ed7953"
            ],
            [
             0.7777777777777778,
             "#fb9f3a"
            ],
            [
             0.8888888888888888,
             "#fdca26"
            ],
            [
             1,
             "#f0f921"
            ]
           ],
           "sequentialminus": [
            [
             0,
             "#0d0887"
            ],
            [
             0.1111111111111111,
             "#46039f"
            ],
            [
             0.2222222222222222,
             "#7201a8"
            ],
            [
             0.3333333333333333,
             "#9c179e"
            ],
            [
             0.4444444444444444,
             "#bd3786"
            ],
            [
             0.5555555555555556,
             "#d8576b"
            ],
            [
             0.6666666666666666,
             "#ed7953"
            ],
            [
             0.7777777777777778,
             "#fb9f3a"
            ],
            [
             0.8888888888888888,
             "#fdca26"
            ],
            [
             1,
             "#f0f921"
            ]
           ]
          },
          "colorway": [
           "#636efa",
           "#EF553B",
           "#00cc96",
           "#ab63fa",
           "#FFA15A",
           "#19d3f3",
           "#FF6692",
           "#B6E880",
           "#FF97FF",
           "#FECB52"
          ],
          "font": {
           "color": "#2a3f5f"
          },
          "geo": {
           "bgcolor": "white",
           "lakecolor": "white",
           "landcolor": "#E5ECF6",
           "showlakes": true,
           "showland": true,
           "subunitcolor": "white"
          },
          "hoverlabel": {
           "align": "left"
          },
          "hovermode": "closest",
          "mapbox": {
           "style": "light"
          },
          "paper_bgcolor": "white",
          "plot_bgcolor": "#E5ECF6",
          "polar": {
           "angularaxis": {
            "gridcolor": "white",
            "linecolor": "white",
            "ticks": ""
           },
           "bgcolor": "#E5ECF6",
           "radialaxis": {
            "gridcolor": "white",
            "linecolor": "white",
            "ticks": ""
           }
          },
          "scene": {
           "xaxis": {
            "backgroundcolor": "#E5ECF6",
            "gridcolor": "white",
            "gridwidth": 2,
            "linecolor": "white",
            "showbackground": true,
            "ticks": "",
            "zerolinecolor": "white"
           },
           "yaxis": {
            "backgroundcolor": "#E5ECF6",
            "gridcolor": "white",
            "gridwidth": 2,
            "linecolor": "white",
            "showbackground": true,
            "ticks": "",
            "zerolinecolor": "white"
           },
           "zaxis": {
            "backgroundcolor": "#E5ECF6",
            "gridcolor": "white",
            "gridwidth": 2,
            "linecolor": "white",
            "showbackground": true,
            "ticks": "",
            "zerolinecolor": "white"
           }
          },
          "shapedefaults": {
           "line": {
            "color": "#2a3f5f"
           }
          },
          "ternary": {
           "aaxis": {
            "gridcolor": "white",
            "linecolor": "white",
            "ticks": ""
           },
           "baxis": {
            "gridcolor": "white",
            "linecolor": "white",
            "ticks": ""
           },
           "bgcolor": "#E5ECF6",
           "caxis": {
            "gridcolor": "white",
            "linecolor": "white",
            "ticks": ""
           }
          },
          "title": {
           "x": 0.05
          },
          "xaxis": {
           "automargin": true,
           "gridcolor": "white",
           "linecolor": "white",
           "ticks": "",
           "title": {
            "standoff": 15
           },
           "zerolinecolor": "white",
           "zerolinewidth": 2
          },
          "yaxis": {
           "automargin": true,
           "gridcolor": "white",
           "linecolor": "white",
           "ticks": "",
           "title": {
            "standoff": 15
           },
           "zerolinecolor": "white",
           "zerolinewidth": 2
          }
         }
        },
        "title": {
         "text": "Anomalies"
        },
        "xaxis": {
         "anchor": "y",
         "domain": [
          0,
          1
         ],
         "title": {
          "text": "Feature"
         }
        },
        "yaxis": {
         "anchor": "x",
         "autorange": "reversed",
         "domain": [
          0,
          1
         ],
         "title": {}
        }
       }
      }
     },
     "metadata": {},
     "output_type": "display_data"
    }
   ],
   "source": [
    "plot_anomalies(outliers, outlier_global_case_feature_residual_convictions)"
   ]
  },
  {
   "attachments": {},
   "cell_type": "markdown",
   "metadata": {},
   "source": [
    "#### Step 1c. Outlier Inspection\n",
    "\n",
    "From this chart we can see that these Cases were flaggged as anomalous largely because of their `capital-gain` values. Since our target variable is whether someone makes over $50,000 in salary, people with such large capital gains making less than $50,000 seems odd. In addition, values such as 99999 often indicate some sort of nominal value that may represent something other than the actual capital-gain, such as if a person did not answer. \n",
    "\n",
    "With this information, we can choose the appropriate action, whether it is recoding capital-gains, removing the Cases, leaving the Cases out, etc..."
   ]
  },
  {
   "attachments": {},
   "cell_type": "markdown",
   "metadata": {
    "tags": []
   },
   "source": [
    "### Step 2. Inliers\n",
    "\n",
    "While we generally only think of outliers when it comes to anomalies, inliers are another, more discrete, form of anomaly. Inliers are the opposite of outliers, as inliers are Cases that are too `similiar` to other points. A real world hypothetical case of an inlier would be someone submitting a false transaction date in which they tried to make the data look real by making it very similar to existing data. \n",
    "\n",
    "In our case, it may be someone in a bank who is internally falsifying applications in order to try to alter the prediction model.\n",
    "\n",
    "Just like outliers, `distance_contribution` is used to detect inliers from the anomalies detected through the use of `familiarity_conviction_addition`, except now we are looking at Cases below a theshold which indicates similarity to other points.\n"
   ]
  },
  {
   "attachments": {},
   "cell_type": "markdown",
   "metadata": {},
   "source": [
    "#### Step 2a. Inlier Extraction"
   ]
  },
  {
   "cell_type": "code",
   "execution_count": 9,
   "metadata": {},
   "outputs": [
    {
     "data": {
      "text/html": [
       "<div>\n",
       "<style scoped>\n",
       "    .dataframe tbody tr th:only-of-type {\n",
       "        vertical-align: middle;\n",
       "    }\n",
       "\n",
       "    .dataframe tbody tr th {\n",
       "        vertical-align: top;\n",
       "    }\n",
       "\n",
       "    .dataframe thead th {\n",
       "        text-align: right;\n",
       "    }\n",
       "</style>\n",
       "<table border=\"1\" class=\"dataframe\">\n",
       "  <thead>\n",
       "    <tr style=\"text-align: right;\">\n",
       "      <th></th>\n",
       "      <th>age</th>\n",
       "      <th>workclass</th>\n",
       "      <th>fnlwgt</th>\n",
       "      <th>education</th>\n",
       "      <th>education-num</th>\n",
       "      <th>marital-status</th>\n",
       "      <th>occupation</th>\n",
       "      <th>relationship</th>\n",
       "      <th>race</th>\n",
       "      <th>sex</th>\n",
       "      <th>capital-gain</th>\n",
       "      <th>capital-loss</th>\n",
       "      <th>hours-per-week</th>\n",
       "      <th>native-country</th>\n",
       "      <th>target</th>\n",
       "      <th>familiarity_conviction_addition</th>\n",
       "      <th>.session_training_index</th>\n",
       "      <th>.session</th>\n",
       "      <th>distance_contribution</th>\n",
       "      <th>category</th>\n",
       "    </tr>\n",
       "  </thead>\n",
       "  <tbody>\n",
       "    <tr>\n",
       "      <th>0</th>\n",
       "      <td>30.0</td>\n",
       "      <td>2</td>\n",
       "      <td>181091.0</td>\n",
       "      <td>9</td>\n",
       "      <td>13.0</td>\n",
       "      <td>2</td>\n",
       "      <td>11</td>\n",
       "      <td>0</td>\n",
       "      <td>4</td>\n",
       "      <td>1</td>\n",
       "      <td>0.0</td>\n",
       "      <td>0.0</td>\n",
       "      <td>40.0</td>\n",
       "      <td>39</td>\n",
       "      <td>1</td>\n",
       "      <td>0.140530</td>\n",
       "      <td>624</td>\n",
       "      <td>cd9d5349-22d4-43a9-aebb-68419083a4b1</td>\n",
       "      <td>1.353082</td>\n",
       "      <td>inlier</td>\n",
       "    </tr>\n",
       "    <tr>\n",
       "      <th>1</th>\n",
       "      <td>30.0</td>\n",
       "      <td>2</td>\n",
       "      <td>194740.0</td>\n",
       "      <td>9</td>\n",
       "      <td>13.0</td>\n",
       "      <td>2</td>\n",
       "      <td>11</td>\n",
       "      <td>0</td>\n",
       "      <td>4</td>\n",
       "      <td>1</td>\n",
       "      <td>0.0</td>\n",
       "      <td>0.0</td>\n",
       "      <td>40.0</td>\n",
       "      <td>39</td>\n",
       "      <td>1</td>\n",
       "      <td>0.142026</td>\n",
       "      <td>201</td>\n",
       "      <td>cd9d5349-22d4-43a9-aebb-68419083a4b1</td>\n",
       "      <td>1.358016</td>\n",
       "      <td>inlier</td>\n",
       "    </tr>\n",
       "    <tr>\n",
       "      <th>2</th>\n",
       "      <td>36.0</td>\n",
       "      <td>4</td>\n",
       "      <td>209629.0</td>\n",
       "      <td>11</td>\n",
       "      <td>9.0</td>\n",
       "      <td>2</td>\n",
       "      <td>7</td>\n",
       "      <td>0</td>\n",
       "      <td>4</td>\n",
       "      <td>1</td>\n",
       "      <td>0.0</td>\n",
       "      <td>0.0</td>\n",
       "      <td>40.0</td>\n",
       "      <td>39</td>\n",
       "      <td>1</td>\n",
       "      <td>0.146375</td>\n",
       "      <td>404</td>\n",
       "      <td>cd9d5349-22d4-43a9-aebb-68419083a4b1</td>\n",
       "      <td>0.996715</td>\n",
       "      <td>inlier</td>\n",
       "    </tr>\n",
       "  </tbody>\n",
       "</table>\n",
       "</div>"
      ],
      "text/plain": [
       "    age  workclass    fnlwgt  education  education-num  marital-status  \\\n",
       "0  30.0          2  181091.0          9           13.0               2   \n",
       "1  30.0          2  194740.0          9           13.0               2   \n",
       "2  36.0          4  209629.0         11            9.0               2   \n",
       "\n",
       "   occupation  relationship  race  sex  capital-gain  capital-loss  \\\n",
       "0          11             0     4    1           0.0           0.0   \n",
       "1          11             0     4    1           0.0           0.0   \n",
       "2           7             0     4    1           0.0           0.0   \n",
       "\n",
       "   hours-per-week  native-country  target  familiarity_conviction_addition  \\\n",
       "0            40.0              39       1                         0.140530   \n",
       "1            40.0              39       1                         0.142026   \n",
       "2            40.0              39       1                         0.146375   \n",
       "\n",
       "   .session_training_index                              .session  \\\n",
       "0                      624  cd9d5349-22d4-43a9-aebb-68419083a4b1   \n",
       "1                      201  cd9d5349-22d4-43a9-aebb-68419083a4b1   \n",
       "2                      404  cd9d5349-22d4-43a9-aebb-68419083a4b1   \n",
       "\n",
       "   distance_contribution category  \n",
       "0               1.353082   inlier  \n",
       "1               1.358016   inlier  \n",
       "2               0.996715   inlier  "
      ]
     },
     "execution_count": 9,
     "metadata": {},
     "output_type": "execute_result"
    }
   ],
   "source": [
    "# Extract the inlier cases\n",
    "inliers = low_convicts[low_convicts['category'] == 'inlier'].reset_index(drop=True)\n",
    "inliers.head(3)"
   ]
  },
  {
   "attachments": {},
   "cell_type": "markdown",
   "metadata": {},
   "source": [
    "#### Step 2b. Inlier Evaluation"
   ]
  },
  {
   "cell_type": "code",
   "execution_count": 10,
   "metadata": {},
   "outputs": [],
   "source": [
    "# Specify the inlier cases\n",
    "inliers_indices = inliers[['.session', '.session_training_index']].values\n",
    "\n",
    "# React to get the details of each case\n",
    "results = t.react(\n",
    "    case_indices=inliers_indices, \n",
    "    preserve_feature_values=df.columns.tolist(), \n",
    "    leave_case_out=True, \n",
    "    details=details\n",
    ")\n",
    "\n",
    "# Extract the global and local case feature residual convictions\n",
    "inlier_global_case_feature_residual_convictions = pd.DataFrame(\n",
    "    results['explanation']['global_case_feature_residual_convictions']\n",
    ")[df.columns.tolist()]\n",
    "\n",
    "inlier_local_case_feature_residual_convictions = pd.DataFrame(\n",
    "    results['explanation']['local_case_feature_residual_convictions']\n",
    ")[df.columns.tolist()]"
   ]
  },
  {
   "cell_type": "code",
   "execution_count": 11,
   "metadata": {},
   "outputs": [
    {
     "data": {
      "application/vnd.plotly.v1+json": {
       "config": {
        "plotlyServerURL": "https://plot.ly"
       },
       "data": [
        {
         "coloraxis": "coloraxis",
         "hovertemplate": "Conviction=%{z}",
         "name": "Outliers",
         "text": [
          [
           "30.0",
           "2",
           "181091.0",
           "9",
           "13.0",
           "2",
           "11",
           "0",
           "4",
           "1",
           "0.0",
           "0.0",
           "40.0",
           "39",
           "1",
           "0.14052986910539658",
           "624",
           "cd9d5349-22d4-43a9-aebb-68419083a4b1",
           "1.353081940863977",
           "inlier"
          ],
          [
           "30.0",
           "2",
           "194740.0",
           "9",
           "13.0",
           "2",
           "11",
           "0",
           "4",
           "1",
           "0.0",
           "0.0",
           "40.0",
           "39",
           "1",
           "0.14202587930613528",
           "201",
           "cd9d5349-22d4-43a9-aebb-68419083a4b1",
           "1.3580158382407488",
           "inlier"
          ],
          [
           "36.0",
           "4",
           "209629.0",
           "11",
           "9.0",
           "2",
           "7",
           "0",
           "4",
           "1",
           "0.0",
           "0.0",
           "40.0",
           "39",
           "1",
           "0.14637451569532461",
           "404",
           "cd9d5349-22d4-43a9-aebb-68419083a4b1",
           "0.9967146990829779",
           "inlier"
          ],
          [
           "37.0",
           "4",
           "214738.0",
           "11",
           "9.0",
           "2",
           "7",
           "0",
           "4",
           "1",
           "0.0",
           "0.0",
           "40.0",
           "39",
           "1",
           "0.14919213460184366",
           "177",
           "cd9d5349-22d4-43a9-aebb-68419083a4b1",
           "1.0167658753293953",
           "inlier"
          ],
          [
           "25.0",
           "4",
           "218667.0",
           "11",
           "9.0",
           "2",
           "6",
           "0",
           "4",
           "1",
           "0.0",
           "0.0",
           "40.0",
           "39",
           "1",
           "0.15390094658319228",
           "881",
           "cd9d5349-22d4-43a9-aebb-68419083a4b1",
           "1.0452279179550639",
           "inlier"
          ]
         ],
         "texttemplate": "%{text}",
         "type": "heatmap",
         "x": [
          "age",
          "workclass",
          "fnlwgt",
          "education",
          "education-num",
          "marital-status",
          "occupation",
          "relationship",
          "race",
          "sex",
          "capital-gain",
          "capital-loss",
          "hours-per-week",
          "native-country",
          "target"
         ],
         "xgap": 3,
         "y": [
          0,
          1,
          2,
          3,
          4
         ],
         "ygap": 3,
         "z": [
          [
           0.8053410232360214,
           0.9710162263042159,
           5.724419322507541,
           4.034812165858969,
           1.0766514613896603,
           1.4856164995943235,
           1.6881367341168836,
           1.9091338270838538,
           6.094448878704437,
           3.2723155963339168,
           10.999322795453377,
           5.937807525841619,
           3.693570217534703,
           3.759503948349414,
           0.9693416999953196
          ],
          [
           1.2645567556344337,
           1.0486373215138551,
           5.298839067584254,
           1.8022119399569876,
           2.0266380449687724,
           1.8032339074048347,
           1.3418354453344432,
           2.1506052576351253,
           3.198500143006117,
           3.56217710080176,
           7.672837825251273,
           4.567244739548996,
           3.319537790442581,
           4.229662443643082,
           0.6936503696589733
          ],
          [
           1.9811389171606126,
           3.96145580794657,
           1.8171919529280207,
           2.418305058593439,
           2.6502189818822406,
           1.6733767004262405,
           0.9121602353306786,
           1.8753323938327908,
           1.6504085536114321,
           2.205889678698857,
           4.026844071750245,
           8.061398411819699,
           3.746335506356627,
           1.8013783439807745,
           0.6827186106189345
          ],
          [
           3.301898195267688,
           2.7906905722157673,
           1.6562803969170796,
           1.4171154009249733,
           2.8710705637057607,
           1.3930113043376664,
           0.9695920528864228,
           1.5321420245465107,
           1.1955176701998598,
           4.301487974364308,
           13.418745172630391,
           3.2455956327177167,
           3.0142929361490105,
           1.5683201399187323,
           1.1181557821738648
          ],
          [
           0.8053410232360214,
           7.12157621331455,
           3.7165194751592594,
           2.2488739049397206,
           3.8280940849410148,
           2.1105535856533,
           0.9868113533462918,
           1.9336305801528442,
           1.4622801484055648,
           3.943408634869907,
           26.487685449734947,
           6.97202024806028,
           3.2375738943822703,
           2.580534493514458,
           1.9664903850209583
          ]
         ]
        }
       ],
       "layout": {
        "coloraxis": {
         "cmax": 5,
         "cmin": 0,
         "colorbar": {
          "ticktext": [
           "0",
           "0.5",
           "1",
           "1.5",
           "2",
           "2.5",
           "3",
           "3.5",
           "4",
           "4.5",
           "≥5"
          ],
          "tickvals": [
           0,
           0.5,
           1,
           1.5,
           2,
           2.5,
           3,
           3.5,
           4,
           4.5,
           5
          ],
          "title": {
           "text": "Conviction"
          }
         },
         "colorscale": [
          [
           0,
           "rgb(103,0,31)"
          ],
          [
           0.2,
           "rgb(247, 247, 247)"
          ],
          [
           0.4,
           "rgb(67,147,195)"
          ],
          [
           1,
           "rgb(5,48,97)"
          ]
         ]
        },
        "template": {
         "data": {
          "bar": [
           {
            "error_x": {
             "color": "#2a3f5f"
            },
            "error_y": {
             "color": "#2a3f5f"
            },
            "marker": {
             "line": {
              "color": "#E5ECF6",
              "width": 0.5
             },
             "pattern": {
              "fillmode": "overlay",
              "size": 10,
              "solidity": 0.2
             }
            },
            "type": "bar"
           }
          ],
          "barpolar": [
           {
            "marker": {
             "line": {
              "color": "#E5ECF6",
              "width": 0.5
             },
             "pattern": {
              "fillmode": "overlay",
              "size": 10,
              "solidity": 0.2
             }
            },
            "type": "barpolar"
           }
          ],
          "carpet": [
           {
            "aaxis": {
             "endlinecolor": "#2a3f5f",
             "gridcolor": "white",
             "linecolor": "white",
             "minorgridcolor": "white",
             "startlinecolor": "#2a3f5f"
            },
            "baxis": {
             "endlinecolor": "#2a3f5f",
             "gridcolor": "white",
             "linecolor": "white",
             "minorgridcolor": "white",
             "startlinecolor": "#2a3f5f"
            },
            "type": "carpet"
           }
          ],
          "choropleth": [
           {
            "colorbar": {
             "outlinewidth": 0,
             "ticks": ""
            },
            "type": "choropleth"
           }
          ],
          "contour": [
           {
            "colorbar": {
             "outlinewidth": 0,
             "ticks": ""
            },
            "colorscale": [
             [
              0,
              "#0d0887"
             ],
             [
              0.1111111111111111,
              "#46039f"
             ],
             [
              0.2222222222222222,
              "#7201a8"
             ],
             [
              0.3333333333333333,
              "#9c179e"
             ],
             [
              0.4444444444444444,
              "#bd3786"
             ],
             [
              0.5555555555555556,
              "#d8576b"
             ],
             [
              0.6666666666666666,
              "#ed7953"
             ],
             [
              0.7777777777777778,
              "#fb9f3a"
             ],
             [
              0.8888888888888888,
              "#fdca26"
             ],
             [
              1,
              "#f0f921"
             ]
            ],
            "type": "contour"
           }
          ],
          "contourcarpet": [
           {
            "colorbar": {
             "outlinewidth": 0,
             "ticks": ""
            },
            "type": "contourcarpet"
           }
          ],
          "heatmap": [
           {
            "colorbar": {
             "outlinewidth": 0,
             "ticks": ""
            },
            "colorscale": [
             [
              0,
              "#0d0887"
             ],
             [
              0.1111111111111111,
              "#46039f"
             ],
             [
              0.2222222222222222,
              "#7201a8"
             ],
             [
              0.3333333333333333,
              "#9c179e"
             ],
             [
              0.4444444444444444,
              "#bd3786"
             ],
             [
              0.5555555555555556,
              "#d8576b"
             ],
             [
              0.6666666666666666,
              "#ed7953"
             ],
             [
              0.7777777777777778,
              "#fb9f3a"
             ],
             [
              0.8888888888888888,
              "#fdca26"
             ],
             [
              1,
              "#f0f921"
             ]
            ],
            "type": "heatmap"
           }
          ],
          "heatmapgl": [
           {
            "colorbar": {
             "outlinewidth": 0,
             "ticks": ""
            },
            "colorscale": [
             [
              0,
              "#0d0887"
             ],
             [
              0.1111111111111111,
              "#46039f"
             ],
             [
              0.2222222222222222,
              "#7201a8"
             ],
             [
              0.3333333333333333,
              "#9c179e"
             ],
             [
              0.4444444444444444,
              "#bd3786"
             ],
             [
              0.5555555555555556,
              "#d8576b"
             ],
             [
              0.6666666666666666,
              "#ed7953"
             ],
             [
              0.7777777777777778,
              "#fb9f3a"
             ],
             [
              0.8888888888888888,
              "#fdca26"
             ],
             [
              1,
              "#f0f921"
             ]
            ],
            "type": "heatmapgl"
           }
          ],
          "histogram": [
           {
            "marker": {
             "pattern": {
              "fillmode": "overlay",
              "size": 10,
              "solidity": 0.2
             }
            },
            "type": "histogram"
           }
          ],
          "histogram2d": [
           {
            "colorbar": {
             "outlinewidth": 0,
             "ticks": ""
            },
            "colorscale": [
             [
              0,
              "#0d0887"
             ],
             [
              0.1111111111111111,
              "#46039f"
             ],
             [
              0.2222222222222222,
              "#7201a8"
             ],
             [
              0.3333333333333333,
              "#9c179e"
             ],
             [
              0.4444444444444444,
              "#bd3786"
             ],
             [
              0.5555555555555556,
              "#d8576b"
             ],
             [
              0.6666666666666666,
              "#ed7953"
             ],
             [
              0.7777777777777778,
              "#fb9f3a"
             ],
             [
              0.8888888888888888,
              "#fdca26"
             ],
             [
              1,
              "#f0f921"
             ]
            ],
            "type": "histogram2d"
           }
          ],
          "histogram2dcontour": [
           {
            "colorbar": {
             "outlinewidth": 0,
             "ticks": ""
            },
            "colorscale": [
             [
              0,
              "#0d0887"
             ],
             [
              0.1111111111111111,
              "#46039f"
             ],
             [
              0.2222222222222222,
              "#7201a8"
             ],
             [
              0.3333333333333333,
              "#9c179e"
             ],
             [
              0.4444444444444444,
              "#bd3786"
             ],
             [
              0.5555555555555556,
              "#d8576b"
             ],
             [
              0.6666666666666666,
              "#ed7953"
             ],
             [
              0.7777777777777778,
              "#fb9f3a"
             ],
             [
              0.8888888888888888,
              "#fdca26"
             ],
             [
              1,
              "#f0f921"
             ]
            ],
            "type": "histogram2dcontour"
           }
          ],
          "mesh3d": [
           {
            "colorbar": {
             "outlinewidth": 0,
             "ticks": ""
            },
            "type": "mesh3d"
           }
          ],
          "parcoords": [
           {
            "line": {
             "colorbar": {
              "outlinewidth": 0,
              "ticks": ""
             }
            },
            "type": "parcoords"
           }
          ],
          "pie": [
           {
            "automargin": true,
            "type": "pie"
           }
          ],
          "scatter": [
           {
            "fillpattern": {
             "fillmode": "overlay",
             "size": 10,
             "solidity": 0.2
            },
            "type": "scatter"
           }
          ],
          "scatter3d": [
           {
            "line": {
             "colorbar": {
              "outlinewidth": 0,
              "ticks": ""
             }
            },
            "marker": {
             "colorbar": {
              "outlinewidth": 0,
              "ticks": ""
             }
            },
            "type": "scatter3d"
           }
          ],
          "scattercarpet": [
           {
            "marker": {
             "colorbar": {
              "outlinewidth": 0,
              "ticks": ""
             }
            },
            "type": "scattercarpet"
           }
          ],
          "scattergeo": [
           {
            "marker": {
             "colorbar": {
              "outlinewidth": 0,
              "ticks": ""
             }
            },
            "type": "scattergeo"
           }
          ],
          "scattergl": [
           {
            "marker": {
             "colorbar": {
              "outlinewidth": 0,
              "ticks": ""
             }
            },
            "type": "scattergl"
           }
          ],
          "scattermapbox": [
           {
            "marker": {
             "colorbar": {
              "outlinewidth": 0,
              "ticks": ""
             }
            },
            "type": "scattermapbox"
           }
          ],
          "scatterpolar": [
           {
            "marker": {
             "colorbar": {
              "outlinewidth": 0,
              "ticks": ""
             }
            },
            "type": "scatterpolar"
           }
          ],
          "scatterpolargl": [
           {
            "marker": {
             "colorbar": {
              "outlinewidth": 0,
              "ticks": ""
             }
            },
            "type": "scatterpolargl"
           }
          ],
          "scatterternary": [
           {
            "marker": {
             "colorbar": {
              "outlinewidth": 0,
              "ticks": ""
             }
            },
            "type": "scatterternary"
           }
          ],
          "surface": [
           {
            "colorbar": {
             "outlinewidth": 0,
             "ticks": ""
            },
            "colorscale": [
             [
              0,
              "#0d0887"
             ],
             [
              0.1111111111111111,
              "#46039f"
             ],
             [
              0.2222222222222222,
              "#7201a8"
             ],
             [
              0.3333333333333333,
              "#9c179e"
             ],
             [
              0.4444444444444444,
              "#bd3786"
             ],
             [
              0.5555555555555556,
              "#d8576b"
             ],
             [
              0.6666666666666666,
              "#ed7953"
             ],
             [
              0.7777777777777778,
              "#fb9f3a"
             ],
             [
              0.8888888888888888,
              "#fdca26"
             ],
             [
              1,
              "#f0f921"
             ]
            ],
            "type": "surface"
           }
          ],
          "table": [
           {
            "cells": {
             "fill": {
              "color": "#EBF0F8"
             },
             "line": {
              "color": "white"
             }
            },
            "header": {
             "fill": {
              "color": "#C8D4E3"
             },
             "line": {
              "color": "white"
             }
            },
            "type": "table"
           }
          ]
         },
         "layout": {
          "annotationdefaults": {
           "arrowcolor": "#2a3f5f",
           "arrowhead": 0,
           "arrowwidth": 1
          },
          "autotypenumbers": "strict",
          "coloraxis": {
           "colorbar": {
            "outlinewidth": 0,
            "ticks": ""
           }
          },
          "colorscale": {
           "diverging": [
            [
             0,
             "#8e0152"
            ],
            [
             0.1,
             "#c51b7d"
            ],
            [
             0.2,
             "#de77ae"
            ],
            [
             0.3,
             "#f1b6da"
            ],
            [
             0.4,
             "#fde0ef"
            ],
            [
             0.5,
             "#f7f7f7"
            ],
            [
             0.6,
             "#e6f5d0"
            ],
            [
             0.7,
             "#b8e186"
            ],
            [
             0.8,
             "#7fbc41"
            ],
            [
             0.9,
             "#4d9221"
            ],
            [
             1,
             "#276419"
            ]
           ],
           "sequential": [
            [
             0,
             "#0d0887"
            ],
            [
             0.1111111111111111,
             "#46039f"
            ],
            [
             0.2222222222222222,
             "#7201a8"
            ],
            [
             0.3333333333333333,
             "#9c179e"
            ],
            [
             0.4444444444444444,
             "#bd3786"
            ],
            [
             0.5555555555555556,
             "#d8576b"
            ],
            [
             0.6666666666666666,
             "#ed7953"
            ],
            [
             0.7777777777777778,
             "#fb9f3a"
            ],
            [
             0.8888888888888888,
             "#fdca26"
            ],
            [
             1,
             "#f0f921"
            ]
           ],
           "sequentialminus": [
            [
             0,
             "#0d0887"
            ],
            [
             0.1111111111111111,
             "#46039f"
            ],
            [
             0.2222222222222222,
             "#7201a8"
            ],
            [
             0.3333333333333333,
             "#9c179e"
            ],
            [
             0.4444444444444444,
             "#bd3786"
            ],
            [
             0.5555555555555556,
             "#d8576b"
            ],
            [
             0.6666666666666666,
             "#ed7953"
            ],
            [
             0.7777777777777778,
             "#fb9f3a"
            ],
            [
             0.8888888888888888,
             "#fdca26"
            ],
            [
             1,
             "#f0f921"
            ]
           ]
          },
          "colorway": [
           "#636efa",
           "#EF553B",
           "#00cc96",
           "#ab63fa",
           "#FFA15A",
           "#19d3f3",
           "#FF6692",
           "#B6E880",
           "#FF97FF",
           "#FECB52"
          ],
          "font": {
           "color": "#2a3f5f"
          },
          "geo": {
           "bgcolor": "white",
           "lakecolor": "white",
           "landcolor": "#E5ECF6",
           "showlakes": true,
           "showland": true,
           "subunitcolor": "white"
          },
          "hoverlabel": {
           "align": "left"
          },
          "hovermode": "closest",
          "mapbox": {
           "style": "light"
          },
          "paper_bgcolor": "white",
          "plot_bgcolor": "#E5ECF6",
          "polar": {
           "angularaxis": {
            "gridcolor": "white",
            "linecolor": "white",
            "ticks": ""
           },
           "bgcolor": "#E5ECF6",
           "radialaxis": {
            "gridcolor": "white",
            "linecolor": "white",
            "ticks": ""
           }
          },
          "scene": {
           "xaxis": {
            "backgroundcolor": "#E5ECF6",
            "gridcolor": "white",
            "gridwidth": 2,
            "linecolor": "white",
            "showbackground": true,
            "ticks": "",
            "zerolinecolor": "white"
           },
           "yaxis": {
            "backgroundcolor": "#E5ECF6",
            "gridcolor": "white",
            "gridwidth": 2,
            "linecolor": "white",
            "showbackground": true,
            "ticks": "",
            "zerolinecolor": "white"
           },
           "zaxis": {
            "backgroundcolor": "#E5ECF6",
            "gridcolor": "white",
            "gridwidth": 2,
            "linecolor": "white",
            "showbackground": true,
            "ticks": "",
            "zerolinecolor": "white"
           }
          },
          "shapedefaults": {
           "line": {
            "color": "#2a3f5f"
           }
          },
          "ternary": {
           "aaxis": {
            "gridcolor": "white",
            "linecolor": "white",
            "ticks": ""
           },
           "baxis": {
            "gridcolor": "white",
            "linecolor": "white",
            "ticks": ""
           },
           "bgcolor": "#E5ECF6",
           "caxis": {
            "gridcolor": "white",
            "linecolor": "white",
            "ticks": ""
           }
          },
          "title": {
           "x": 0.05
          },
          "xaxis": {
           "automargin": true,
           "gridcolor": "white",
           "linecolor": "white",
           "ticks": "",
           "title": {
            "standoff": 15
           },
           "zerolinecolor": "white",
           "zerolinewidth": 2
          },
          "yaxis": {
           "automargin": true,
           "gridcolor": "white",
           "linecolor": "white",
           "ticks": "",
           "title": {
            "standoff": 15
           },
           "zerolinecolor": "white",
           "zerolinewidth": 2
          }
         }
        },
        "title": {
         "text": "Anomalies"
        },
        "xaxis": {
         "anchor": "y",
         "domain": [
          0,
          1
         ],
         "title": {
          "text": "Feature"
         }
        },
        "yaxis": {
         "anchor": "x",
         "autorange": "reversed",
         "domain": [
          0,
          1
         ],
         "title": {}
        }
       }
      }
     },
     "metadata": {},
     "output_type": "display_data"
    }
   ],
   "source": [
    "plot_anomalies(inliers, inlier_global_case_feature_residual_convictions)"
   ]
  },
  {
   "attachments": {},
   "cell_type": "markdown",
   "metadata": {},
   "source": [
    "#### Step 2c. Inlier Inspection\n",
    "\n",
    "This chart is viewed similarly to the outliers chart, however we are now examining Cases that are too similar. We can see that for several Cases, there are a few features that show high `feature_residual_conviction`, indicating that that feature can very easily predicted using the other features. However, this could also just be an indicator of high correlation between certain variables. In our Cases, we do not see a strong case of high `feature_residual_conviction` across a majority of features, thus it is likely that these points are not inliers. In many cases, especially with well known datasets like `Adult`, true inliers are rare as they are often the result of purposeful actions, while outliers may exist more naturally."
   ]
  },
  {
   "attachments": {},
   "cell_type": "markdown",
   "metadata": {},
   "source": [
    "# Section 3. Next Steps"
   ]
  },
  {
   "attachments": {},
   "cell_type": "markdown",
   "metadata": {},
   "source": [
    "This recipe showed us how to detect and inspect anomalous cases. There are many courses of action to take on anomalous data, and Recipe `4-audit_edit.ipynb` shows us how we can take edit these data points in our Trainee without having to retrain the Trainee."
   ]
  },
  {
   "attachments": {},
   "cell_type": "markdown",
   "metadata": {},
   "source": [
    "# Section 4: Appendix\n",
    "\n",
    "Here we detail some additional examples methods of diving deeper into the possible anomalies detected above/"
   ]
  },
  {
   "cell_type": "code",
   "execution_count": 12,
   "metadata": {},
   "outputs": [],
   "source": [
    "# Helper functions\n",
    "def case_explain_residuals_ratio(anomalous_df, global_case_feature_residual_convictions, local_case_feature_residual_convictions, case_ind, num_features=5):\n",
    "    case = anomalous_df.iloc[case_ind, : ]\n",
    "    case_num = case['.session_training_index']\n",
    "    case_df = pd.concat([case, global_case_feature_residual_convictions.iloc[case_ind, :], local_case_feature_residual_convictions.iloc[case_ind, :]], axis=1)\n",
    "    case_df = case_df.loc[df.columns]\n",
    "    case_df.columns = ['values', 'global_case_feature_residual_convictions', 'local_case_feature_residual_convictions']\n",
    "    case_df = case_df.sort_values(['global_case_feature_residual_convictions', 'local_case_feature_residual_convictions'], ascending=True)\n",
    "    print(f'key features which caused case {case_num} to be anomalous: {case_df.head().index.tolist()}')\n",
    "    print('')\n",
    "    display(case_df.head())\n",
    "\n",
    "def get_cases(anomalous_df, results, case_ind):\n",
    "    case = anomalous_df.iloc[case_ind, :]\n",
    "    inf_cases = pd.DataFrame(results['explanation']['influential_cases'][case_ind])\n",
    "    bound_cases = pd.DataFrame(results['explanation']['boundary_cases'][case_ind])\n",
    "    \n",
    "    print('Original Case:')\n",
    "    display(case)\n",
    "    print('')\n",
    "    \n",
    "    print('Influential Cases:')\n",
    "    display(inf_cases)\n",
    "    print('')\n",
    "    \n",
    "    print('Boundary Cases:')\n",
    "    display(bound_cases)\n",
    "    print('')"
   ]
  },
  {
   "attachments": {},
   "cell_type": "markdown",
   "metadata": {},
   "source": [
    "We can print out a more detailed view of the Outlier Residual Conviction chart shown earlier."
   ]
  },
  {
   "cell_type": "code",
   "execution_count": 13,
   "metadata": {},
   "outputs": [
    {
     "name": "stdout",
     "output_type": "stream",
     "text": [
      "key features which caused case 627 to be anomalous: ['capital-gain', 'education-num', 'age', 'sex', 'education']\n",
      "\n"
     ]
    },
    {
     "data": {
      "text/html": [
       "<div>\n",
       "<style scoped>\n",
       "    .dataframe tbody tr th:only-of-type {\n",
       "        vertical-align: middle;\n",
       "    }\n",
       "\n",
       "    .dataframe tbody tr th {\n",
       "        vertical-align: top;\n",
       "    }\n",
       "\n",
       "    .dataframe thead th {\n",
       "        text-align: right;\n",
       "    }\n",
       "</style>\n",
       "<table border=\"1\" class=\"dataframe\">\n",
       "  <thead>\n",
       "    <tr style=\"text-align: right;\">\n",
       "      <th></th>\n",
       "      <th>values</th>\n",
       "      <th>global_case_feature_residual_convictions</th>\n",
       "      <th>local_case_feature_residual_convictions</th>\n",
       "    </tr>\n",
       "  </thead>\n",
       "  <tbody>\n",
       "    <tr>\n",
       "      <th>capital-gain</th>\n",
       "      <td>99999.0</td>\n",
       "      <td>0.020817</td>\n",
       "      <td>0.027992</td>\n",
       "    </tr>\n",
       "    <tr>\n",
       "      <th>education-num</th>\n",
       "      <td>9.0</td>\n",
       "      <td>0.430661</td>\n",
       "      <td>0.515108</td>\n",
       "    </tr>\n",
       "    <tr>\n",
       "      <th>age</th>\n",
       "      <td>28.0</td>\n",
       "      <td>0.559644</td>\n",
       "      <td>0.481048</td>\n",
       "    </tr>\n",
       "    <tr>\n",
       "      <th>sex</th>\n",
       "      <td>0</td>\n",
       "      <td>0.587617</td>\n",
       "      <td>0.499695</td>\n",
       "    </tr>\n",
       "    <tr>\n",
       "      <th>education</th>\n",
       "      <td>11</td>\n",
       "      <td>0.669893</td>\n",
       "      <td>0.640583</td>\n",
       "    </tr>\n",
       "  </tbody>\n",
       "</table>\n",
       "</div>"
      ],
      "text/plain": [
       "                values  global_case_feature_residual_convictions  \\\n",
       "capital-gain   99999.0                                  0.020817   \n",
       "education-num      9.0                                  0.430661   \n",
       "age               28.0                                  0.559644   \n",
       "sex                  0                                  0.587617   \n",
       "education           11                                  0.669893   \n",
       "\n",
       "               local_case_feature_residual_convictions  \n",
       "capital-gain                                  0.027992  \n",
       "education-num                                 0.515108  \n",
       "age                                           0.481048  \n",
       "sex                                           0.499695  \n",
       "education                                     0.640583  "
      ]
     },
     "metadata": {},
     "output_type": "display_data"
    },
    {
     "name": "stdout",
     "output_type": "stream",
     "text": [
      "_____________\n",
      "key features which caused case 556 to be anomalous: ['capital-gain', 'native-country', 'race', 'workclass', 'education']\n",
      "\n"
     ]
    },
    {
     "data": {
      "text/html": [
       "<div>\n",
       "<style scoped>\n",
       "    .dataframe tbody tr th:only-of-type {\n",
       "        vertical-align: middle;\n",
       "    }\n",
       "\n",
       "    .dataframe tbody tr th {\n",
       "        vertical-align: top;\n",
       "    }\n",
       "\n",
       "    .dataframe thead th {\n",
       "        text-align: right;\n",
       "    }\n",
       "</style>\n",
       "<table border=\"1\" class=\"dataframe\">\n",
       "  <thead>\n",
       "    <tr style=\"text-align: right;\">\n",
       "      <th></th>\n",
       "      <th>values</th>\n",
       "      <th>global_case_feature_residual_convictions</th>\n",
       "      <th>local_case_feature_residual_convictions</th>\n",
       "    </tr>\n",
       "  </thead>\n",
       "  <tbody>\n",
       "    <tr>\n",
       "      <th>capital-gain</th>\n",
       "      <td>99999.0</td>\n",
       "      <td>0.029624</td>\n",
       "      <td>0.139733</td>\n",
       "    </tr>\n",
       "    <tr>\n",
       "      <th>native-country</th>\n",
       "      <td>30</td>\n",
       "      <td>0.221512</td>\n",
       "      <td>0.281040</td>\n",
       "    </tr>\n",
       "    <tr>\n",
       "      <th>race</th>\n",
       "      <td>1</td>\n",
       "      <td>0.244912</td>\n",
       "      <td>0.243521</td>\n",
       "    </tr>\n",
       "    <tr>\n",
       "      <th>workclass</th>\n",
       "      <td>6</td>\n",
       "      <td>0.430675</td>\n",
       "      <td>0.628726</td>\n",
       "    </tr>\n",
       "    <tr>\n",
       "      <th>education</th>\n",
       "      <td>14</td>\n",
       "      <td>0.635148</td>\n",
       "      <td>0.960807</td>\n",
       "    </tr>\n",
       "  </tbody>\n",
       "</table>\n",
       "</div>"
      ],
      "text/plain": [
       "                 values  global_case_feature_residual_convictions  \\\n",
       "capital-gain    99999.0                                  0.029624   \n",
       "native-country       30                                  0.221512   \n",
       "race                  1                                  0.244912   \n",
       "workclass             6                                  0.430675   \n",
       "education            14                                  0.635148   \n",
       "\n",
       "                local_case_feature_residual_convictions  \n",
       "capital-gain                                   0.139733  \n",
       "native-country                                 0.281040  \n",
       "race                                           0.243521  \n",
       "workclass                                      0.628726  \n",
       "education                                      0.960807  "
      ]
     },
     "metadata": {},
     "output_type": "display_data"
    },
    {
     "name": "stdout",
     "output_type": "stream",
     "text": [
      "_____________\n"
     ]
    }
   ],
   "source": [
    "# Print out the explanations for outliers\n",
    "for i in range(2):\n",
    "    case_explain_residuals_ratio(\n",
    "        outliers,\n",
    "        outlier_global_case_feature_residual_convictions,\n",
    "        outlier_local_case_feature_residual_convictions,\n",
    "        i\n",
    "    )\n",
    "    print('_____________')"
   ]
  },
  {
   "attachments": {},
   "cell_type": "markdown",
   "metadata": {},
   "source": [
    "## Influential and boundary cases\n",
    "\n",
    "Influential and Boundary Cases may also provide additional clues into potentially anomalous data.\n",
    "\n",
    "**`Definitions`:**\n",
    "\n",
    "**`Boundary Cases`:** \n",
    "Boundary Cases are a generalization of counterfactuals, as they apply across all feature types, including continuous. These will return archetypes that have the highest gradient magnitude of the ratio of similar Context Feature values to maximally different Action Feature values. These can aid in uncovering and understanding causal relationships among the data. Boundary Cases may or may not also be Influential Cases, depending on the density and topology of the data. If they are not influential, then their influence weight will be 0."
   ]
  },
  {
   "cell_type": "code",
   "execution_count": 14,
   "metadata": {},
   "outputs": [],
   "source": [
    "# Helper function to print out the explanations\n",
    "def case_explain_residuals_ratio(anomalous_df, global_case_feature_residual_convictions, local_case_feature_residual_convictions, case_ind, num_features=5):\n",
    "    case = anomalous_df.iloc[case_ind, : ]\n",
    "    case_num = case['.session_training_index']\n",
    "    case_df = pd.concat([case, global_case_feature_residual_convictions.iloc[case_ind, :], local_case_feature_residual_convictions.iloc[case_ind, :]], axis=1)\n",
    "    case_df = case_df.loc[df.columns]\n",
    "    case_df.columns = ['values', 'global_case_feature_residual_convictions', 'local_case_feature_residual_convictions']\n",
    "    case_df = case_df.sort_values(['global_case_feature_residual_convictions', 'local_case_feature_residual_convictions'], ascending=True)\n",
    "    print(f'key features which caused case {case_num} to be anomalous: {case_df.head().index.tolist()}')\n",
    "    print('')\n",
    "    display(case_df.head())"
   ]
  },
  {
   "cell_type": "code",
   "execution_count": 15,
   "metadata": {},
   "outputs": [
    {
     "name": "stdout",
     "output_type": "stream",
     "text": [
      "Original Case:\n"
     ]
    },
    {
     "data": {
      "text/plain": [
       "age                                                                28.0\n",
       "workclass                                                             4\n",
       "fnlwgt                                                         126060.0\n",
       "education                                                            11\n",
       "education-num                                                       9.0\n",
       "marital-status                                                        2\n",
       "occupation                                                            1\n",
       "relationship                                                          5\n",
       "race                                                                  4\n",
       "sex                                                                   0\n",
       "capital-gain                                                    99999.0\n",
       "capital-loss                                                        0.0\n",
       "hours-per-week                                                     36.0\n",
       "native-country                                                       39\n",
       "target                                                                0\n",
       "familiarity_conviction_addition                                0.079562\n",
       ".session_training_index                                             627\n",
       ".session                           cd9d5349-22d4-43a9-aebb-68419083a4b1\n",
       "distance_contribution                                         30.557225\n",
       "category                                                        outlier\n",
       "Name: 0, dtype: object"
      ]
     },
     "metadata": {},
     "output_type": "display_data"
    },
    {
     "name": "stdout",
     "output_type": "stream",
     "text": [
      "\n",
      "Influential Cases:\n"
     ]
    },
    {
     "data": {
      "text/html": [
       "<div>\n",
       "<style scoped>\n",
       "    .dataframe tbody tr th:only-of-type {\n",
       "        vertical-align: middle;\n",
       "    }\n",
       "\n",
       "    .dataframe tbody tr th {\n",
       "        vertical-align: top;\n",
       "    }\n",
       "\n",
       "    .dataframe thead th {\n",
       "        text-align: right;\n",
       "    }\n",
       "</style>\n",
       "<table border=\"1\" class=\"dataframe\">\n",
       "  <thead>\n",
       "    <tr style=\"text-align: right;\">\n",
       "      <th></th>\n",
       "      <th>hours-per-week</th>\n",
       "      <th>capital-loss</th>\n",
       "      <th>.session</th>\n",
       "      <th>.session_training_index</th>\n",
       "      <th>fnlwgt</th>\n",
       "      <th>.influence_weight</th>\n",
       "      <th>workclass</th>\n",
       "      <th>occupation</th>\n",
       "      <th>age</th>\n",
       "      <th>marital-status</th>\n",
       "      <th>education-num</th>\n",
       "      <th>capital-gain</th>\n",
       "      <th>target</th>\n",
       "      <th>education</th>\n",
       "      <th>race</th>\n",
       "      <th>sex</th>\n",
       "      <th>relationship</th>\n",
       "      <th>native-country</th>\n",
       "    </tr>\n",
       "  </thead>\n",
       "  <tbody>\n",
       "    <tr>\n",
       "      <th>0</th>\n",
       "      <td>40</td>\n",
       "      <td>0</td>\n",
       "      <td>cd9d5349-22d4-43a9-aebb-68419083a4b1</td>\n",
       "      <td>201</td>\n",
       "      <td>194740</td>\n",
       "      <td>0.716315</td>\n",
       "      <td>2</td>\n",
       "      <td>11</td>\n",
       "      <td>30</td>\n",
       "      <td>2</td>\n",
       "      <td>13</td>\n",
       "      <td>0</td>\n",
       "      <td>1</td>\n",
       "      <td>9</td>\n",
       "      <td>4</td>\n",
       "      <td>1</td>\n",
       "      <td>0</td>\n",
       "      <td>39</td>\n",
       "    </tr>\n",
       "    <tr>\n",
       "      <th>1</th>\n",
       "      <td>50</td>\n",
       "      <td>0</td>\n",
       "      <td>cd9d5349-22d4-43a9-aebb-68419083a4b1</td>\n",
       "      <td>859</td>\n",
       "      <td>158688</td>\n",
       "      <td>0.041751</td>\n",
       "      <td>2</td>\n",
       "      <td>11</td>\n",
       "      <td>41</td>\n",
       "      <td>2</td>\n",
       "      <td>13</td>\n",
       "      <td>0</td>\n",
       "      <td>1</td>\n",
       "      <td>9</td>\n",
       "      <td>4</td>\n",
       "      <td>1</td>\n",
       "      <td>0</td>\n",
       "      <td>39</td>\n",
       "    </tr>\n",
       "    <tr>\n",
       "      <th>2</th>\n",
       "      <td>45</td>\n",
       "      <td>0</td>\n",
       "      <td>cd9d5349-22d4-43a9-aebb-68419083a4b1</td>\n",
       "      <td>584</td>\n",
       "      <td>126584</td>\n",
       "      <td>0.037474</td>\n",
       "      <td>2</td>\n",
       "      <td>4</td>\n",
       "      <td>34</td>\n",
       "      <td>2</td>\n",
       "      <td>13</td>\n",
       "      <td>0</td>\n",
       "      <td>1</td>\n",
       "      <td>9</td>\n",
       "      <td>4</td>\n",
       "      <td>1</td>\n",
       "      <td>0</td>\n",
       "      <td>39</td>\n",
       "    </tr>\n",
       "    <tr>\n",
       "      <th>3</th>\n",
       "      <td>40</td>\n",
       "      <td>0</td>\n",
       "      <td>cd9d5349-22d4-43a9-aebb-68419083a4b1</td>\n",
       "      <td>86</td>\n",
       "      <td>256997</td>\n",
       "      <td>0.035426</td>\n",
       "      <td>2</td>\n",
       "      <td>3</td>\n",
       "      <td>39</td>\n",
       "      <td>2</td>\n",
       "      <td>13</td>\n",
       "      <td>0</td>\n",
       "      <td>1</td>\n",
       "      <td>9</td>\n",
       "      <td>4</td>\n",
       "      <td>1</td>\n",
       "      <td>0</td>\n",
       "      <td>39</td>\n",
       "    </tr>\n",
       "    <tr>\n",
       "      <th>4</th>\n",
       "      <td>40</td>\n",
       "      <td>0</td>\n",
       "      <td>cd9d5349-22d4-43a9-aebb-68419083a4b1</td>\n",
       "      <td>264</td>\n",
       "      <td>186934</td>\n",
       "      <td>0.024922</td>\n",
       "      <td>6</td>\n",
       "      <td>12</td>\n",
       "      <td>35</td>\n",
       "      <td>2</td>\n",
       "      <td>13</td>\n",
       "      <td>0</td>\n",
       "      <td>1</td>\n",
       "      <td>9</td>\n",
       "      <td>4</td>\n",
       "      <td>1</td>\n",
       "      <td>0</td>\n",
       "      <td>39</td>\n",
       "    </tr>\n",
       "    <tr>\n",
       "      <th>5</th>\n",
       "      <td>45</td>\n",
       "      <td>0</td>\n",
       "      <td>cd9d5349-22d4-43a9-aebb-68419083a4b1</td>\n",
       "      <td>721</td>\n",
       "      <td>159773</td>\n",
       "      <td>0.022316</td>\n",
       "      <td>2</td>\n",
       "      <td>11</td>\n",
       "      <td>30</td>\n",
       "      <td>2</td>\n",
       "      <td>13</td>\n",
       "      <td>0</td>\n",
       "      <td>0</td>\n",
       "      <td>9</td>\n",
       "      <td>4</td>\n",
       "      <td>1</td>\n",
       "      <td>0</td>\n",
       "      <td>39</td>\n",
       "    </tr>\n",
       "    <tr>\n",
       "      <th>6</th>\n",
       "      <td>40</td>\n",
       "      <td>0</td>\n",
       "      <td>cd9d5349-22d4-43a9-aebb-68419083a4b1</td>\n",
       "      <td>282</td>\n",
       "      <td>173938</td>\n",
       "      <td>0.019268</td>\n",
       "      <td>4</td>\n",
       "      <td>3</td>\n",
       "      <td>47</td>\n",
       "      <td>2</td>\n",
       "      <td>13</td>\n",
       "      <td>0</td>\n",
       "      <td>1</td>\n",
       "      <td>9</td>\n",
       "      <td>4</td>\n",
       "      <td>1</td>\n",
       "      <td>0</td>\n",
       "      <td>39</td>\n",
       "    </tr>\n",
       "    <tr>\n",
       "      <th>7</th>\n",
       "      <td>40</td>\n",
       "      <td>0</td>\n",
       "      <td>cd9d5349-22d4-43a9-aebb-68419083a4b1</td>\n",
       "      <td>323</td>\n",
       "      <td>222011</td>\n",
       "      <td>0.018722</td>\n",
       "      <td>1</td>\n",
       "      <td>6</td>\n",
       "      <td>45</td>\n",
       "      <td>2</td>\n",
       "      <td>13</td>\n",
       "      <td>0</td>\n",
       "      <td>1</td>\n",
       "      <td>9</td>\n",
       "      <td>4</td>\n",
       "      <td>1</td>\n",
       "      <td>0</td>\n",
       "      <td>39</td>\n",
       "    </tr>\n",
       "    <tr>\n",
       "      <th>8</th>\n",
       "      <td>40</td>\n",
       "      <td>0</td>\n",
       "      <td>cd9d5349-22d4-43a9-aebb-68419083a4b1</td>\n",
       "      <td>211</td>\n",
       "      <td>180881</td>\n",
       "      <td>0.017845</td>\n",
       "      <td>4</td>\n",
       "      <td>4</td>\n",
       "      <td>52</td>\n",
       "      <td>2</td>\n",
       "      <td>13</td>\n",
       "      <td>0</td>\n",
       "      <td>1</td>\n",
       "      <td>9</td>\n",
       "      <td>4</td>\n",
       "      <td>1</td>\n",
       "      <td>0</td>\n",
       "      <td>39</td>\n",
       "    </tr>\n",
       "    <tr>\n",
       "      <th>9</th>\n",
       "      <td>40</td>\n",
       "      <td>0</td>\n",
       "      <td>cd9d5349-22d4-43a9-aebb-68419083a4b1</td>\n",
       "      <td>441</td>\n",
       "      <td>177828</td>\n",
       "      <td>0.016687</td>\n",
       "      <td>2</td>\n",
       "      <td>10</td>\n",
       "      <td>30</td>\n",
       "      <td>5</td>\n",
       "      <td>13</td>\n",
       "      <td>0</td>\n",
       "      <td>1</td>\n",
       "      <td>9</td>\n",
       "      <td>4</td>\n",
       "      <td>1</td>\n",
       "      <td>1</td>\n",
       "      <td>39</td>\n",
       "    </tr>\n",
       "    <tr>\n",
       "      <th>10</th>\n",
       "      <td>40</td>\n",
       "      <td>0</td>\n",
       "      <td>cd9d5349-22d4-43a9-aebb-68419083a4b1</td>\n",
       "      <td>628</td>\n",
       "      <td>153326</td>\n",
       "      <td>0.016514</td>\n",
       "      <td>4</td>\n",
       "      <td>10</td>\n",
       "      <td>32</td>\n",
       "      <td>2</td>\n",
       "      <td>13</td>\n",
       "      <td>0</td>\n",
       "      <td>1</td>\n",
       "      <td>9</td>\n",
       "      <td>4</td>\n",
       "      <td>1</td>\n",
       "      <td>2</td>\n",
       "      <td>39</td>\n",
       "    </tr>\n",
       "    <tr>\n",
       "      <th>11</th>\n",
       "      <td>43</td>\n",
       "      <td>0</td>\n",
       "      <td>cd9d5349-22d4-43a9-aebb-68419083a4b1</td>\n",
       "      <td>494</td>\n",
       "      <td>269792</td>\n",
       "      <td>0.016494</td>\n",
       "      <td>1</td>\n",
       "      <td>1</td>\n",
       "      <td>44</td>\n",
       "      <td>2</td>\n",
       "      <td>13</td>\n",
       "      <td>0</td>\n",
       "      <td>1</td>\n",
       "      <td>9</td>\n",
       "      <td>4</td>\n",
       "      <td>1</td>\n",
       "      <td>0</td>\n",
       "      <td>39</td>\n",
       "    </tr>\n",
       "    <tr>\n",
       "      <th>12</th>\n",
       "      <td>40</td>\n",
       "      <td>0</td>\n",
       "      <td>cd9d5349-22d4-43a9-aebb-68419083a4b1</td>\n",
       "      <td>690</td>\n",
       "      <td>144949</td>\n",
       "      <td>0.016265</td>\n",
       "      <td>2</td>\n",
       "      <td>11</td>\n",
       "      <td>32</td>\n",
       "      <td>2</td>\n",
       "      <td>9</td>\n",
       "      <td>0</td>\n",
       "      <td>1</td>\n",
       "      <td>11</td>\n",
       "      <td>4</td>\n",
       "      <td>1</td>\n",
       "      <td>0</td>\n",
       "      <td>39</td>\n",
       "    </tr>\n",
       "  </tbody>\n",
       "</table>\n",
       "</div>"
      ],
      "text/plain": [
       "    hours-per-week  capital-loss                              .session  \\\n",
       "0               40             0  cd9d5349-22d4-43a9-aebb-68419083a4b1   \n",
       "1               50             0  cd9d5349-22d4-43a9-aebb-68419083a4b1   \n",
       "2               45             0  cd9d5349-22d4-43a9-aebb-68419083a4b1   \n",
       "3               40             0  cd9d5349-22d4-43a9-aebb-68419083a4b1   \n",
       "4               40             0  cd9d5349-22d4-43a9-aebb-68419083a4b1   \n",
       "5               45             0  cd9d5349-22d4-43a9-aebb-68419083a4b1   \n",
       "6               40             0  cd9d5349-22d4-43a9-aebb-68419083a4b1   \n",
       "7               40             0  cd9d5349-22d4-43a9-aebb-68419083a4b1   \n",
       "8               40             0  cd9d5349-22d4-43a9-aebb-68419083a4b1   \n",
       "9               40             0  cd9d5349-22d4-43a9-aebb-68419083a4b1   \n",
       "10              40             0  cd9d5349-22d4-43a9-aebb-68419083a4b1   \n",
       "11              43             0  cd9d5349-22d4-43a9-aebb-68419083a4b1   \n",
       "12              40             0  cd9d5349-22d4-43a9-aebb-68419083a4b1   \n",
       "\n",
       "    .session_training_index  fnlwgt  .influence_weight  workclass  occupation  \\\n",
       "0                       201  194740           0.716315          2          11   \n",
       "1                       859  158688           0.041751          2          11   \n",
       "2                       584  126584           0.037474          2           4   \n",
       "3                        86  256997           0.035426          2           3   \n",
       "4                       264  186934           0.024922          6          12   \n",
       "5                       721  159773           0.022316          2          11   \n",
       "6                       282  173938           0.019268          4           3   \n",
       "7                       323  222011           0.018722          1           6   \n",
       "8                       211  180881           0.017845          4           4   \n",
       "9                       441  177828           0.016687          2          10   \n",
       "10                      628  153326           0.016514          4          10   \n",
       "11                      494  269792           0.016494          1           1   \n",
       "12                      690  144949           0.016265          2          11   \n",
       "\n",
       "    age  marital-status  education-num  capital-gain  target  education  race  \\\n",
       "0    30               2             13             0       1          9     4   \n",
       "1    41               2             13             0       1          9     4   \n",
       "2    34               2             13             0       1          9     4   \n",
       "3    39               2             13             0       1          9     4   \n",
       "4    35               2             13             0       1          9     4   \n",
       "5    30               2             13             0       0          9     4   \n",
       "6    47               2             13             0       1          9     4   \n",
       "7    45               2             13             0       1          9     4   \n",
       "8    52               2             13             0       1          9     4   \n",
       "9    30               5             13             0       1          9     4   \n",
       "10   32               2             13             0       1          9     4   \n",
       "11   44               2             13             0       1          9     4   \n",
       "12   32               2              9             0       1         11     4   \n",
       "\n",
       "    sex  relationship  native-country  \n",
       "0     1             0              39  \n",
       "1     1             0              39  \n",
       "2     1             0              39  \n",
       "3     1             0              39  \n",
       "4     1             0              39  \n",
       "5     1             0              39  \n",
       "6     1             0              39  \n",
       "7     1             0              39  \n",
       "8     1             0              39  \n",
       "9     1             1              39  \n",
       "10    1             2              39  \n",
       "11    1             0              39  \n",
       "12    1             0              39  "
      ]
     },
     "metadata": {},
     "output_type": "display_data"
    },
    {
     "name": "stdout",
     "output_type": "stream",
     "text": [
      "\n",
      "Boundary Cases:\n"
     ]
    },
    {
     "data": {
      "text/html": [
       "<div>\n",
       "<style scoped>\n",
       "    .dataframe tbody tr th:only-of-type {\n",
       "        vertical-align: middle;\n",
       "    }\n",
       "\n",
       "    .dataframe tbody tr th {\n",
       "        vertical-align: top;\n",
       "    }\n",
       "\n",
       "    .dataframe thead th {\n",
       "        text-align: right;\n",
       "    }\n",
       "</style>\n",
       "<table border=\"1\" class=\"dataframe\">\n",
       "  <thead>\n",
       "    <tr style=\"text-align: right;\">\n",
       "      <th></th>\n",
       "      <th>hours-per-week</th>\n",
       "      <th>capital-loss</th>\n",
       "      <th>.session</th>\n",
       "      <th>.session_training_index</th>\n",
       "      <th>fnlwgt</th>\n",
       "      <th>.influence_weight</th>\n",
       "      <th>workclass</th>\n",
       "      <th>age</th>\n",
       "      <th>occupation</th>\n",
       "      <th>marital-status</th>\n",
       "      <th>familiarity_conviction_addition</th>\n",
       "      <th>education-num</th>\n",
       "      <th>education</th>\n",
       "      <th>target</th>\n",
       "      <th>capital-gain</th>\n",
       "      <th>race</th>\n",
       "      <th>sex</th>\n",
       "      <th>relationship</th>\n",
       "      <th>native-country</th>\n",
       "    </tr>\n",
       "  </thead>\n",
       "  <tbody>\n",
       "    <tr>\n",
       "      <th>0</th>\n",
       "      <td>50</td>\n",
       "      <td>0</td>\n",
       "      <td>cd9d5349-22d4-43a9-aebb-68419083a4b1</td>\n",
       "      <td>138</td>\n",
       "      <td>119986</td>\n",
       "      <td>0.000000</td>\n",
       "      <td>5</td>\n",
       "      <td>61</td>\n",
       "      <td>12</td>\n",
       "      <td>2</td>\n",
       "      <td>80.814567</td>\n",
       "      <td>13</td>\n",
       "      <td>9</td>\n",
       "      <td>1</td>\n",
       "      <td>0</td>\n",
       "      <td>4</td>\n",
       "      <td>1</td>\n",
       "      <td>0</td>\n",
       "      <td>39</td>\n",
       "    </tr>\n",
       "    <tr>\n",
       "      <th>1</th>\n",
       "      <td>50</td>\n",
       "      <td>0</td>\n",
       "      <td>cd9d5349-22d4-43a9-aebb-68419083a4b1</td>\n",
       "      <td>355</td>\n",
       "      <td>184018</td>\n",
       "      <td>0.000000</td>\n",
       "      <td>4</td>\n",
       "      <td>43</td>\n",
       "      <td>10</td>\n",
       "      <td>2</td>\n",
       "      <td>55.265302</td>\n",
       "      <td>12</td>\n",
       "      <td>7</td>\n",
       "      <td>1</td>\n",
       "      <td>0</td>\n",
       "      <td>4</td>\n",
       "      <td>1</td>\n",
       "      <td>0</td>\n",
       "      <td>39</td>\n",
       "    </tr>\n",
       "    <tr>\n",
       "      <th>2</th>\n",
       "      <td>40</td>\n",
       "      <td>0</td>\n",
       "      <td>cd9d5349-22d4-43a9-aebb-68419083a4b1</td>\n",
       "      <td>441</td>\n",
       "      <td>177828</td>\n",
       "      <td>0.016687</td>\n",
       "      <td>2</td>\n",
       "      <td>30</td>\n",
       "      <td>10</td>\n",
       "      <td>5</td>\n",
       "      <td>33.601496</td>\n",
       "      <td>13</td>\n",
       "      <td>9</td>\n",
       "      <td>1</td>\n",
       "      <td>0</td>\n",
       "      <td>4</td>\n",
       "      <td>1</td>\n",
       "      <td>1</td>\n",
       "      <td>39</td>\n",
       "    </tr>\n",
       "  </tbody>\n",
       "</table>\n",
       "</div>"
      ],
      "text/plain": [
       "   hours-per-week  capital-loss                              .session  \\\n",
       "0              50             0  cd9d5349-22d4-43a9-aebb-68419083a4b1   \n",
       "1              50             0  cd9d5349-22d4-43a9-aebb-68419083a4b1   \n",
       "2              40             0  cd9d5349-22d4-43a9-aebb-68419083a4b1   \n",
       "\n",
       "   .session_training_index  fnlwgt  .influence_weight  workclass  age  \\\n",
       "0                      138  119986           0.000000          5   61   \n",
       "1                      355  184018           0.000000          4   43   \n",
       "2                      441  177828           0.016687          2   30   \n",
       "\n",
       "   occupation  marital-status  familiarity_conviction_addition  education-num  \\\n",
       "0          12               2                        80.814567             13   \n",
       "1          10               2                        55.265302             12   \n",
       "2          10               5                        33.601496             13   \n",
       "\n",
       "   education  target  capital-gain  race  sex  relationship  native-country  \n",
       "0          9       1             0     4    1             0              39  \n",
       "1          7       1             0     4    1             0              39  \n",
       "2          9       1             0     4    1             1              39  "
      ]
     },
     "metadata": {},
     "output_type": "display_data"
    },
    {
     "name": "stdout",
     "output_type": "stream",
     "text": [
      "\n",
      "_____________\n",
      "Original Case:\n"
     ]
    },
    {
     "data": {
      "text/plain": [
       "age                                                                54.0\n",
       "workclass                                                             6\n",
       "fnlwgt                                                         269068.0\n",
       "education                                                            14\n",
       "education-num                                                      15.0\n",
       "marital-status                                                        2\n",
       "occupation                                                           10\n",
       "relationship                                                          0\n",
       "race                                                                  1\n",
       "sex                                                                   1\n",
       "capital-gain                                                    99999.0\n",
       "capital-loss                                                        0.0\n",
       "hours-per-week                                                     50.0\n",
       "native-country                                                       30\n",
       "target                                                                0\n",
       "familiarity_conviction_addition                                0.090035\n",
       ".session_training_index                                             556\n",
       ".session                           cd9d5349-22d4-43a9-aebb-68419083a4b1\n",
       "distance_contribution                                         26.299004\n",
       "category                                                        outlier\n",
       "Name: 1, dtype: object"
      ]
     },
     "metadata": {},
     "output_type": "display_data"
    },
    {
     "name": "stdout",
     "output_type": "stream",
     "text": [
      "\n",
      "Influential Cases:\n"
     ]
    },
    {
     "data": {
      "text/html": [
       "<div>\n",
       "<style scoped>\n",
       "    .dataframe tbody tr th:only-of-type {\n",
       "        vertical-align: middle;\n",
       "    }\n",
       "\n",
       "    .dataframe tbody tr th {\n",
       "        vertical-align: top;\n",
       "    }\n",
       "\n",
       "    .dataframe thead th {\n",
       "        text-align: right;\n",
       "    }\n",
       "</style>\n",
       "<table border=\"1\" class=\"dataframe\">\n",
       "  <thead>\n",
       "    <tr style=\"text-align: right;\">\n",
       "      <th></th>\n",
       "      <th>hours-per-week</th>\n",
       "      <th>capital-loss</th>\n",
       "      <th>.session</th>\n",
       "      <th>.session_training_index</th>\n",
       "      <th>fnlwgt</th>\n",
       "      <th>.influence_weight</th>\n",
       "      <th>workclass</th>\n",
       "      <th>occupation</th>\n",
       "      <th>age</th>\n",
       "      <th>marital-status</th>\n",
       "      <th>education-num</th>\n",
       "      <th>capital-gain</th>\n",
       "      <th>target</th>\n",
       "      <th>education</th>\n",
       "      <th>race</th>\n",
       "      <th>sex</th>\n",
       "      <th>relationship</th>\n",
       "      <th>native-country</th>\n",
       "    </tr>\n",
       "  </thead>\n",
       "  <tbody>\n",
       "    <tr>\n",
       "      <th>0</th>\n",
       "      <td>40</td>\n",
       "      <td>0</td>\n",
       "      <td>cd9d5349-22d4-43a9-aebb-68419083a4b1</td>\n",
       "      <td>624</td>\n",
       "      <td>181091</td>\n",
       "      <td>0.718927</td>\n",
       "      <td>2</td>\n",
       "      <td>11</td>\n",
       "      <td>30</td>\n",
       "      <td>2</td>\n",
       "      <td>13</td>\n",
       "      <td>0</td>\n",
       "      <td>1</td>\n",
       "      <td>9</td>\n",
       "      <td>4</td>\n",
       "      <td>1</td>\n",
       "      <td>0</td>\n",
       "      <td>39</td>\n",
       "    </tr>\n",
       "    <tr>\n",
       "      <th>1</th>\n",
       "      <td>50</td>\n",
       "      <td>0</td>\n",
       "      <td>cd9d5349-22d4-43a9-aebb-68419083a4b1</td>\n",
       "      <td>859</td>\n",
       "      <td>158688</td>\n",
       "      <td>0.039596</td>\n",
       "      <td>2</td>\n",
       "      <td>11</td>\n",
       "      <td>41</td>\n",
       "      <td>2</td>\n",
       "      <td>13</td>\n",
       "      <td>0</td>\n",
       "      <td>1</td>\n",
       "      <td>9</td>\n",
       "      <td>4</td>\n",
       "      <td>1</td>\n",
       "      <td>0</td>\n",
       "      <td>39</td>\n",
       "    </tr>\n",
       "    <tr>\n",
       "      <th>2</th>\n",
       "      <td>40</td>\n",
       "      <td>0</td>\n",
       "      <td>cd9d5349-22d4-43a9-aebb-68419083a4b1</td>\n",
       "      <td>86</td>\n",
       "      <td>256997</td>\n",
       "      <td>0.037405</td>\n",
       "      <td>2</td>\n",
       "      <td>3</td>\n",
       "      <td>39</td>\n",
       "      <td>2</td>\n",
       "      <td>13</td>\n",
       "      <td>0</td>\n",
       "      <td>1</td>\n",
       "      <td>9</td>\n",
       "      <td>4</td>\n",
       "      <td>1</td>\n",
       "      <td>0</td>\n",
       "      <td>39</td>\n",
       "    </tr>\n",
       "    <tr>\n",
       "      <th>3</th>\n",
       "      <td>45</td>\n",
       "      <td>0</td>\n",
       "      <td>cd9d5349-22d4-43a9-aebb-68419083a4b1</td>\n",
       "      <td>584</td>\n",
       "      <td>126584</td>\n",
       "      <td>0.035741</td>\n",
       "      <td>2</td>\n",
       "      <td>4</td>\n",
       "      <td>34</td>\n",
       "      <td>2</td>\n",
       "      <td>13</td>\n",
       "      <td>0</td>\n",
       "      <td>1</td>\n",
       "      <td>9</td>\n",
       "      <td>4</td>\n",
       "      <td>1</td>\n",
       "      <td>0</td>\n",
       "      <td>39</td>\n",
       "    </tr>\n",
       "    <tr>\n",
       "      <th>4</th>\n",
       "      <td>40</td>\n",
       "      <td>0</td>\n",
       "      <td>cd9d5349-22d4-43a9-aebb-68419083a4b1</td>\n",
       "      <td>264</td>\n",
       "      <td>186934</td>\n",
       "      <td>0.024888</td>\n",
       "      <td>6</td>\n",
       "      <td>12</td>\n",
       "      <td>35</td>\n",
       "      <td>2</td>\n",
       "      <td>13</td>\n",
       "      <td>0</td>\n",
       "      <td>1</td>\n",
       "      <td>9</td>\n",
       "      <td>4</td>\n",
       "      <td>1</td>\n",
       "      <td>0</td>\n",
       "      <td>39</td>\n",
       "    </tr>\n",
       "    <tr>\n",
       "      <th>5</th>\n",
       "      <td>45</td>\n",
       "      <td>0</td>\n",
       "      <td>cd9d5349-22d4-43a9-aebb-68419083a4b1</td>\n",
       "      <td>721</td>\n",
       "      <td>159773</td>\n",
       "      <td>0.021721</td>\n",
       "      <td>2</td>\n",
       "      <td>11</td>\n",
       "      <td>30</td>\n",
       "      <td>2</td>\n",
       "      <td>13</td>\n",
       "      <td>0</td>\n",
       "      <td>0</td>\n",
       "      <td>9</td>\n",
       "      <td>4</td>\n",
       "      <td>1</td>\n",
       "      <td>0</td>\n",
       "      <td>39</td>\n",
       "    </tr>\n",
       "    <tr>\n",
       "      <th>6</th>\n",
       "      <td>40</td>\n",
       "      <td>0</td>\n",
       "      <td>cd9d5349-22d4-43a9-aebb-68419083a4b1</td>\n",
       "      <td>323</td>\n",
       "      <td>222011</td>\n",
       "      <td>0.019295</td>\n",
       "      <td>1</td>\n",
       "      <td>6</td>\n",
       "      <td>45</td>\n",
       "      <td>2</td>\n",
       "      <td>13</td>\n",
       "      <td>0</td>\n",
       "      <td>1</td>\n",
       "      <td>9</td>\n",
       "      <td>4</td>\n",
       "      <td>1</td>\n",
       "      <td>0</td>\n",
       "      <td>39</td>\n",
       "    </tr>\n",
       "    <tr>\n",
       "      <th>7</th>\n",
       "      <td>40</td>\n",
       "      <td>0</td>\n",
       "      <td>cd9d5349-22d4-43a9-aebb-68419083a4b1</td>\n",
       "      <td>282</td>\n",
       "      <td>173938</td>\n",
       "      <td>0.018832</td>\n",
       "      <td>4</td>\n",
       "      <td>3</td>\n",
       "      <td>47</td>\n",
       "      <td>2</td>\n",
       "      <td>13</td>\n",
       "      <td>0</td>\n",
       "      <td>1</td>\n",
       "      <td>9</td>\n",
       "      <td>4</td>\n",
       "      <td>1</td>\n",
       "      <td>0</td>\n",
       "      <td>39</td>\n",
       "    </tr>\n",
       "    <tr>\n",
       "      <th>8</th>\n",
       "      <td>40</td>\n",
       "      <td>0</td>\n",
       "      <td>cd9d5349-22d4-43a9-aebb-68419083a4b1</td>\n",
       "      <td>211</td>\n",
       "      <td>180881</td>\n",
       "      <td>0.017475</td>\n",
       "      <td>4</td>\n",
       "      <td>4</td>\n",
       "      <td>52</td>\n",
       "      <td>2</td>\n",
       "      <td>13</td>\n",
       "      <td>0</td>\n",
       "      <td>1</td>\n",
       "      <td>9</td>\n",
       "      <td>4</td>\n",
       "      <td>1</td>\n",
       "      <td>0</td>\n",
       "      <td>39</td>\n",
       "    </tr>\n",
       "    <tr>\n",
       "      <th>9</th>\n",
       "      <td>43</td>\n",
       "      <td>0</td>\n",
       "      <td>cd9d5349-22d4-43a9-aebb-68419083a4b1</td>\n",
       "      <td>494</td>\n",
       "      <td>269792</td>\n",
       "      <td>0.016945</td>\n",
       "      <td>1</td>\n",
       "      <td>1</td>\n",
       "      <td>44</td>\n",
       "      <td>2</td>\n",
       "      <td>13</td>\n",
       "      <td>0</td>\n",
       "      <td>1</td>\n",
       "      <td>9</td>\n",
       "      <td>4</td>\n",
       "      <td>1</td>\n",
       "      <td>0</td>\n",
       "      <td>39</td>\n",
       "    </tr>\n",
       "    <tr>\n",
       "      <th>10</th>\n",
       "      <td>35</td>\n",
       "      <td>0</td>\n",
       "      <td>cd9d5349-22d4-43a9-aebb-68419083a4b1</td>\n",
       "      <td>905</td>\n",
       "      <td>203098</td>\n",
       "      <td>0.016609</td>\n",
       "      <td>6</td>\n",
       "      <td>4</td>\n",
       "      <td>50</td>\n",
       "      <td>2</td>\n",
       "      <td>13</td>\n",
       "      <td>0</td>\n",
       "      <td>1</td>\n",
       "      <td>9</td>\n",
       "      <td>4</td>\n",
       "      <td>1</td>\n",
       "      <td>0</td>\n",
       "      <td>39</td>\n",
       "    </tr>\n",
       "    <tr>\n",
       "      <th>11</th>\n",
       "      <td>40</td>\n",
       "      <td>0</td>\n",
       "      <td>cd9d5349-22d4-43a9-aebb-68419083a4b1</td>\n",
       "      <td>441</td>\n",
       "      <td>177828</td>\n",
       "      <td>0.016366</td>\n",
       "      <td>2</td>\n",
       "      <td>10</td>\n",
       "      <td>30</td>\n",
       "      <td>5</td>\n",
       "      <td>13</td>\n",
       "      <td>0</td>\n",
       "      <td>1</td>\n",
       "      <td>9</td>\n",
       "      <td>4</td>\n",
       "      <td>1</td>\n",
       "      <td>1</td>\n",
       "      <td>39</td>\n",
       "    </tr>\n",
       "    <tr>\n",
       "      <th>12</th>\n",
       "      <td>40</td>\n",
       "      <td>0</td>\n",
       "      <td>cd9d5349-22d4-43a9-aebb-68419083a4b1</td>\n",
       "      <td>628</td>\n",
       "      <td>153326</td>\n",
       "      <td>0.016201</td>\n",
       "      <td>4</td>\n",
       "      <td>10</td>\n",
       "      <td>32</td>\n",
       "      <td>2</td>\n",
       "      <td>13</td>\n",
       "      <td>0</td>\n",
       "      <td>1</td>\n",
       "      <td>9</td>\n",
       "      <td>4</td>\n",
       "      <td>1</td>\n",
       "      <td>2</td>\n",
       "      <td>39</td>\n",
       "    </tr>\n",
       "  </tbody>\n",
       "</table>\n",
       "</div>"
      ],
      "text/plain": [
       "    hours-per-week  capital-loss                              .session  \\\n",
       "0               40             0  cd9d5349-22d4-43a9-aebb-68419083a4b1   \n",
       "1               50             0  cd9d5349-22d4-43a9-aebb-68419083a4b1   \n",
       "2               40             0  cd9d5349-22d4-43a9-aebb-68419083a4b1   \n",
       "3               45             0  cd9d5349-22d4-43a9-aebb-68419083a4b1   \n",
       "4               40             0  cd9d5349-22d4-43a9-aebb-68419083a4b1   \n",
       "5               45             0  cd9d5349-22d4-43a9-aebb-68419083a4b1   \n",
       "6               40             0  cd9d5349-22d4-43a9-aebb-68419083a4b1   \n",
       "7               40             0  cd9d5349-22d4-43a9-aebb-68419083a4b1   \n",
       "8               40             0  cd9d5349-22d4-43a9-aebb-68419083a4b1   \n",
       "9               43             0  cd9d5349-22d4-43a9-aebb-68419083a4b1   \n",
       "10              35             0  cd9d5349-22d4-43a9-aebb-68419083a4b1   \n",
       "11              40             0  cd9d5349-22d4-43a9-aebb-68419083a4b1   \n",
       "12              40             0  cd9d5349-22d4-43a9-aebb-68419083a4b1   \n",
       "\n",
       "    .session_training_index  fnlwgt  .influence_weight  workclass  occupation  \\\n",
       "0                       624  181091           0.718927          2          11   \n",
       "1                       859  158688           0.039596          2          11   \n",
       "2                        86  256997           0.037405          2           3   \n",
       "3                       584  126584           0.035741          2           4   \n",
       "4                       264  186934           0.024888          6          12   \n",
       "5                       721  159773           0.021721          2          11   \n",
       "6                       323  222011           0.019295          1           6   \n",
       "7                       282  173938           0.018832          4           3   \n",
       "8                       211  180881           0.017475          4           4   \n",
       "9                       494  269792           0.016945          1           1   \n",
       "10                      905  203098           0.016609          6           4   \n",
       "11                      441  177828           0.016366          2          10   \n",
       "12                      628  153326           0.016201          4          10   \n",
       "\n",
       "    age  marital-status  education-num  capital-gain  target  education  race  \\\n",
       "0    30               2             13             0       1          9     4   \n",
       "1    41               2             13             0       1          9     4   \n",
       "2    39               2             13             0       1          9     4   \n",
       "3    34               2             13             0       1          9     4   \n",
       "4    35               2             13             0       1          9     4   \n",
       "5    30               2             13             0       0          9     4   \n",
       "6    45               2             13             0       1          9     4   \n",
       "7    47               2             13             0       1          9     4   \n",
       "8    52               2             13             0       1          9     4   \n",
       "9    44               2             13             0       1          9     4   \n",
       "10   50               2             13             0       1          9     4   \n",
       "11   30               5             13             0       1          9     4   \n",
       "12   32               2             13             0       1          9     4   \n",
       "\n",
       "    sex  relationship  native-country  \n",
       "0     1             0              39  \n",
       "1     1             0              39  \n",
       "2     1             0              39  \n",
       "3     1             0              39  \n",
       "4     1             0              39  \n",
       "5     1             0              39  \n",
       "6     1             0              39  \n",
       "7     1             0              39  \n",
       "8     1             0              39  \n",
       "9     1             0              39  \n",
       "10    1             0              39  \n",
       "11    1             1              39  \n",
       "12    1             2              39  "
      ]
     },
     "metadata": {},
     "output_type": "display_data"
    },
    {
     "name": "stdout",
     "output_type": "stream",
     "text": [
      "\n",
      "Boundary Cases:\n"
     ]
    },
    {
     "data": {
      "text/html": [
       "<div>\n",
       "<style scoped>\n",
       "    .dataframe tbody tr th:only-of-type {\n",
       "        vertical-align: middle;\n",
       "    }\n",
       "\n",
       "    .dataframe tbody tr th {\n",
       "        vertical-align: top;\n",
       "    }\n",
       "\n",
       "    .dataframe thead th {\n",
       "        text-align: right;\n",
       "    }\n",
       "</style>\n",
       "<table border=\"1\" class=\"dataframe\">\n",
       "  <thead>\n",
       "    <tr style=\"text-align: right;\">\n",
       "      <th></th>\n",
       "      <th>hours-per-week</th>\n",
       "      <th>capital-loss</th>\n",
       "      <th>.session</th>\n",
       "      <th>.session_training_index</th>\n",
       "      <th>fnlwgt</th>\n",
       "      <th>.influence_weight</th>\n",
       "      <th>workclass</th>\n",
       "      <th>age</th>\n",
       "      <th>occupation</th>\n",
       "      <th>marital-status</th>\n",
       "      <th>familiarity_conviction_addition</th>\n",
       "      <th>education-num</th>\n",
       "      <th>education</th>\n",
       "      <th>target</th>\n",
       "      <th>capital-gain</th>\n",
       "      <th>race</th>\n",
       "      <th>sex</th>\n",
       "      <th>relationship</th>\n",
       "      <th>native-country</th>\n",
       "    </tr>\n",
       "  </thead>\n",
       "  <tbody>\n",
       "    <tr>\n",
       "      <th>0</th>\n",
       "      <td>50</td>\n",
       "      <td>0</td>\n",
       "      <td>cd9d5349-22d4-43a9-aebb-68419083a4b1</td>\n",
       "      <td>138</td>\n",
       "      <td>119986</td>\n",
       "      <td>0.000000</td>\n",
       "      <td>5</td>\n",
       "      <td>61</td>\n",
       "      <td>12</td>\n",
       "      <td>2</td>\n",
       "      <td>80.814567</td>\n",
       "      <td>13</td>\n",
       "      <td>9</td>\n",
       "      <td>1</td>\n",
       "      <td>0</td>\n",
       "      <td>4</td>\n",
       "      <td>1</td>\n",
       "      <td>0</td>\n",
       "      <td>39</td>\n",
       "    </tr>\n",
       "    <tr>\n",
       "      <th>1</th>\n",
       "      <td>50</td>\n",
       "      <td>0</td>\n",
       "      <td>cd9d5349-22d4-43a9-aebb-68419083a4b1</td>\n",
       "      <td>355</td>\n",
       "      <td>184018</td>\n",
       "      <td>0.000000</td>\n",
       "      <td>4</td>\n",
       "      <td>43</td>\n",
       "      <td>10</td>\n",
       "      <td>2</td>\n",
       "      <td>55.265302</td>\n",
       "      <td>12</td>\n",
       "      <td>7</td>\n",
       "      <td>1</td>\n",
       "      <td>0</td>\n",
       "      <td>4</td>\n",
       "      <td>1</td>\n",
       "      <td>0</td>\n",
       "      <td>39</td>\n",
       "    </tr>\n",
       "    <tr>\n",
       "      <th>2</th>\n",
       "      <td>40</td>\n",
       "      <td>0</td>\n",
       "      <td>cd9d5349-22d4-43a9-aebb-68419083a4b1</td>\n",
       "      <td>441</td>\n",
       "      <td>177828</td>\n",
       "      <td>0.016366</td>\n",
       "      <td>2</td>\n",
       "      <td>30</td>\n",
       "      <td>10</td>\n",
       "      <td>5</td>\n",
       "      <td>33.601496</td>\n",
       "      <td>13</td>\n",
       "      <td>9</td>\n",
       "      <td>1</td>\n",
       "      <td>0</td>\n",
       "      <td>4</td>\n",
       "      <td>1</td>\n",
       "      <td>1</td>\n",
       "      <td>39</td>\n",
       "    </tr>\n",
       "  </tbody>\n",
       "</table>\n",
       "</div>"
      ],
      "text/plain": [
       "   hours-per-week  capital-loss                              .session  \\\n",
       "0              50             0  cd9d5349-22d4-43a9-aebb-68419083a4b1   \n",
       "1              50             0  cd9d5349-22d4-43a9-aebb-68419083a4b1   \n",
       "2              40             0  cd9d5349-22d4-43a9-aebb-68419083a4b1   \n",
       "\n",
       "   .session_training_index  fnlwgt  .influence_weight  workclass  age  \\\n",
       "0                      138  119986           0.000000          5   61   \n",
       "1                      355  184018           0.000000          4   43   \n",
       "2                      441  177828           0.016366          2   30   \n",
       "\n",
       "   occupation  marital-status  familiarity_conviction_addition  education-num  \\\n",
       "0          12               2                        80.814567             13   \n",
       "1          10               2                        55.265302             12   \n",
       "2          10               5                        33.601496             13   \n",
       "\n",
       "   education  target  capital-gain  race  sex  relationship  native-country  \n",
       "0          9       1             0     4    1             0              39  \n",
       "1          7       1             0     4    1             0              39  \n",
       "2          9       1             0     4    1             1              39  "
      ]
     },
     "metadata": {},
     "output_type": "display_data"
    },
    {
     "name": "stdout",
     "output_type": "stream",
     "text": [
      "\n",
      "_____________\n"
     ]
    }
   ],
   "source": [
    "# Print influential and boundary case outliers\n",
    "for i in range(2):\n",
    "    get_cases(outliers, results, i)\n",
    "    print('_____________')"
   ]
  }
 ],
 "metadata": {
  "kernelspec": {
   "display_name": "Python 3 (ipykernel)",
   "language": "python",
   "name": "python3"
  },
  "language_info": {
   "codemirror_mode": {
    "name": "ipython",
    "version": 3
   },
   "file_extension": ".py",
   "mimetype": "text/x-python",
   "name": "python",
   "nbconvert_exporter": "python",
   "pygments_lexer": "ipython3",
   "version": "3.8.18"
  },
  "vscode": {
   "interpreter": {
    "hash": "bf53b06339b0098fe66ef1046934d7b61f36519a119c5f5969a69a0a508019c7"
   }
  }
 },
 "nbformat": 4,
 "nbformat_minor": 4
}
