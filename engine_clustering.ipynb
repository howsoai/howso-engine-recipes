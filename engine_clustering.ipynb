{
 "cells": [
  {
   "attachments": {},
   "cell_type": "markdown",
   "id": "ebe74b50-bacd-4e2b-bfe1-bf96093b7e4b",
   "metadata": {},
   "source": [
    "# Clustering Overview\n",
    "\n",
    "This example notebook will demonstrate Howso Engine’s ability to calculate pairwise distances for the training cases. This capability is based on Howso Engine’s underlying instance-based learning platform. Distances can be used for a variety of use cases, in particular, for clustering algorithms, such as HDBSCAN. Howso Engine’s feature reduction capabilities will also be used to demonstrate how to eliminate features for clustering. "
   ]
  },
  {
   "cell_type": "code",
   "execution_count": 1,
   "id": "cf84ccaa-16e7-430a-8e9d-1300082c0cc8",
   "metadata": {
    "execution": {
     "iopub.execute_input": "2024-02-23T20:06:51.728622Z",
     "iopub.status.busy": "2024-02-23T20:06:51.728412Z",
     "iopub.status.idle": "2024-02-23T20:06:52.722031Z",
     "shell.execute_reply": "2024-02-23T20:06:52.721428Z"
    }
   },
   "outputs": [],
   "source": [
    "import os\n",
    "\n",
    "import numpy as np\n",
    "import pandas as pd\n",
    "import plotly.io as pio\n",
    "from plotly.subplots import make_subplots\n",
    "from sklearn.cluster import HDBSCAN\n",
    "from sklearn.datasets import make_blobs\n",
    "from sklearn.metrics import adjusted_rand_score\n",
    "\n",
    "from howso import engine\n",
    "from howso.utilities import infer_feature_attributes\n",
    "\n",
    "pio.renderers.default = os.getenv(\"HOWSO_RECIPE_RENDERER\", \"notebook\")"
   ]
  },
  {
   "attachments": {},
   "cell_type": "markdown",
   "id": "0d2145d5-cdca-4871-b521-e2ab44779a13",
   "metadata": {},
   "source": [
    "## Generate a simple dataset with noise\n",
    "\n",
    "A 2-D blob is generated along with an extra noise column. The noise column is used to demonstrate feature reduction.\n"
   ]
  },
  {
   "cell_type": "code",
   "execution_count": 2,
   "id": "1109d7a6-ed86-4c20-868c-037a654019c1",
   "metadata": {
    "execution": {
     "iopub.execute_input": "2024-02-23T20:06:52.725167Z",
     "iopub.status.busy": "2024-02-23T20:06:52.724772Z",
     "iopub.status.idle": "2024-02-23T20:06:52.731288Z",
     "shell.execute_reply": "2024-02-23T20:06:52.730822Z"
    }
   },
   "outputs": [],
   "source": [
    "blobs = make_blobs(n_samples=100, n_features=2, centers=[(1,0), (1,5), (10,2)], random_state=0)\n",
    "df = pd.DataFrame(blobs[0], columns=['x', 'y'])\n",
    "df['target'] = blobs[1]\n",
    "\n",
    "# Noise\n",
    "noise = np.random.uniform(df['y'].min(), df['y'].max(), len(df))\n",
    "df['noise'] = noise"
   ]
  },
  {
   "cell_type": "markdown",
   "id": "ae92fd65",
   "metadata": {},
   "source": [
    "## Build Howso Engine model"
   ]
  },
  {
   "cell_type": "code",
   "execution_count": 3,
   "id": "4bbffb11",
   "metadata": {
    "execution": {
     "iopub.execute_input": "2024-02-23T20:06:52.733705Z",
     "iopub.status.busy": "2024-02-23T20:06:52.733368Z",
     "iopub.status.idle": "2024-02-23T20:06:56.564940Z",
     "shell.execute_reply": "2024-02-23T20:06:56.564339Z"
    }
   },
   "outputs": [],
   "source": [
    "# Infer features using dataframe format\n",
    "features = infer_feature_attributes(df)\n",
    "\n",
    "# Specify Context and Action Features\n",
    "action_features = ['target']\n",
    "context_features = features.get_names(without=action_features)\n",
    "\n",
    "# Create the Trainee\n",
    "t = engine.Trainee(\n",
    "    features=features,\n",
    "    overwrite_existing=True\n",
    ")\n",
    "\n",
    "# Train\n",
    "t.train(df)\n",
    "\n",
    "# Targeted Analysis\n",
    "t.analyze(context_features=context_features, action_features=action_features)"
   ]
  },
  {
   "cell_type": "markdown",
   "id": "3bd32650",
   "metadata": {},
   "source": [
    "# Feature Reduction\n",
    "\n",
    "In this example, since we have a target variable, we can inspect the feature contributions and feature mean decrease in accuracy to understand how important each feature is."
   ]
  },
  {
   "cell_type": "code",
   "execution_count": 4,
   "id": "5798d564",
   "metadata": {
    "execution": {
     "iopub.execute_input": "2024-02-23T20:06:56.568184Z",
     "iopub.status.busy": "2024-02-23T20:06:56.567732Z",
     "iopub.status.idle": "2024-02-23T20:07:07.894240Z",
     "shell.execute_reply": "2024-02-23T20:07:07.893714Z"
    }
   },
   "outputs": [
    {
     "data": {
      "text/html": [
       "<div>\n",
       "<style scoped>\n",
       "    .dataframe tbody tr th:only-of-type {\n",
       "        vertical-align: middle;\n",
       "    }\n",
       "\n",
       "    .dataframe tbody tr th {\n",
       "        vertical-align: top;\n",
       "    }\n",
       "\n",
       "    .dataframe thead th {\n",
       "        text-align: right;\n",
       "    }\n",
       "</style>\n",
       "<table border=\"1\" class=\"dataframe\">\n",
       "  <thead>\n",
       "    <tr style=\"text-align: right;\">\n",
       "      <th></th>\n",
       "      <th>y</th>\n",
       "      <th>x</th>\n",
       "      <th>noise</th>\n",
       "    </tr>\n",
       "  </thead>\n",
       "  <tbody>\n",
       "    <tr>\n",
       "      <th>contribution</th>\n",
       "      <td>0.467570</td>\n",
       "      <td>0.352685</td>\n",
       "      <td>0.047758</td>\n",
       "    </tr>\n",
       "    <tr>\n",
       "      <th>mda</th>\n",
       "      <td>0.160268</td>\n",
       "      <td>0.075414</td>\n",
       "      <td>-0.052382</td>\n",
       "    </tr>\n",
       "  </tbody>\n",
       "</table>\n",
       "</div>"
      ],
      "text/plain": [
       "                     y         x     noise\n",
       "contribution  0.467570  0.352685  0.047758\n",
       "mda           0.160268  0.075414 -0.052382"
      ]
     },
     "execution_count": 4,
     "metadata": {},
     "output_type": "execute_result"
    }
   ],
   "source": [
    "t.react_into_trainee(context_features=context_features, action_feature=action_features[0], contributions_robust = True, mda_robust=True)\n",
    "robust_feature_contributions = t.get_prediction_stats(action_feature=action_features[0], robust=True, stats=['contribution', 'mda'])\n",
    "robust_feature_contributions"
   ]
  },
  {
   "cell_type": "markdown",
   "id": "ced04228",
   "metadata": {},
   "source": [
    "We can see that the noise column not only contributes less to the prediction than the other variables, but it also contributes little to the accuracy. This is expected from the noise column and demonstrates how unimportant features can be highlighted with Howso Engine."
   ]
  },
  {
   "cell_type": "markdown",
   "id": "6e6e4365",
   "metadata": {},
   "source": [
    "# Feature Removal\n",
    "\n",
    "Unuseful features like the noise feature can reduce the quality of the clustering so we will remove them in this example. Howso Engine allows use to easily remove the features from the Trainee."
   ]
  },
  {
   "cell_type": "code",
   "execution_count": 5,
   "id": "9522f0fb",
   "metadata": {
    "execution": {
     "iopub.execute_input": "2024-02-23T20:07:07.896793Z",
     "iopub.status.busy": "2024-02-23T20:07:07.896421Z",
     "iopub.status.idle": "2024-02-23T20:07:11.356398Z",
     "shell.execute_reply": "2024-02-23T20:07:11.355782Z"
    }
   },
   "outputs": [],
   "source": [
    "# Remove the noise feature\n",
    "t.remove_feature('noise')\n",
    "\n",
    "# update context_features\n",
    "context_features.remove('noise')\n",
    "\n",
    "# Reanalyze the remaining features\n",
    "t.analyze(context_features=context_features, action_features=action_features)"
   ]
  },
  {
   "attachments": {},
   "cell_type": "markdown",
   "id": "08a8c655-4160-4437-8def-70fbbc2fc0c0",
   "metadata": {},
   "source": [
    "## Get pairwise distances\n",
    "\n",
    "By directly using Howso Engine's pairwise distances, we can take advantage of all the benefits of Howso Engine, including the ease of preprocessing and categorical variable handling."
   ]
  },
  {
   "cell_type": "code",
   "execution_count": 6,
   "id": "b1ae649e-525b-49e9-bb66-83b776c6c4e9",
   "metadata": {
    "execution": {
     "iopub.execute_input": "2024-02-23T20:07:11.359462Z",
     "iopub.status.busy": "2024-02-23T20:07:11.359205Z",
     "iopub.status.idle": "2024-02-23T20:07:11.371930Z",
     "shell.execute_reply": "2024-02-23T20:07:11.371409Z"
    }
   },
   "outputs": [],
   "source": [
    "# pairwise distances can be obtained with a single function call\n",
    "x = t.get_distances()"
   ]
  },
  {
   "cell_type": "code",
   "execution_count": 7,
   "id": "bc17f6b7-3947-4dfc-9c73-4bca8f5aa286",
   "metadata": {
    "execution": {
     "iopub.execute_input": "2024-02-23T20:07:11.374271Z",
     "iopub.status.busy": "2024-02-23T20:07:11.374027Z",
     "iopub.status.idle": "2024-02-23T20:07:11.391049Z",
     "shell.execute_reply": "2024-02-23T20:07:11.390578Z"
    }
   },
   "outputs": [
    {
     "data": {
      "text/html": [
       "<div>\n",
       "<style scoped>\n",
       "    .dataframe tbody tr th:only-of-type {\n",
       "        vertical-align: middle;\n",
       "    }\n",
       "\n",
       "    .dataframe tbody tr th {\n",
       "        vertical-align: top;\n",
       "    }\n",
       "\n",
       "    .dataframe thead th {\n",
       "        text-align: right;\n",
       "    }\n",
       "</style>\n",
       "<table border=\"1\" class=\"dataframe\">\n",
       "  <thead>\n",
       "    <tr style=\"text-align: right;\">\n",
       "      <th></th>\n",
       "      <th>0</th>\n",
       "      <th>1</th>\n",
       "      <th>2</th>\n",
       "      <th>3</th>\n",
       "      <th>4</th>\n",
       "      <th>5</th>\n",
       "      <th>6</th>\n",
       "      <th>7</th>\n",
       "      <th>8</th>\n",
       "      <th>9</th>\n",
       "      <th>...</th>\n",
       "      <th>90</th>\n",
       "      <th>91</th>\n",
       "      <th>92</th>\n",
       "      <th>93</th>\n",
       "      <th>94</th>\n",
       "      <th>95</th>\n",
       "      <th>96</th>\n",
       "      <th>97</th>\n",
       "      <th>98</th>\n",
       "      <th>99</th>\n",
       "    </tr>\n",
       "  </thead>\n",
       "  <tbody>\n",
       "    <tr>\n",
       "      <th>0</th>\n",
       "      <td>0.000000</td>\n",
       "      <td>41.864334</td>\n",
       "      <td>0.748096</td>\n",
       "      <td>41.431622</td>\n",
       "      <td>44.479314</td>\n",
       "      <td>11.105700</td>\n",
       "      <td>6.171995</td>\n",
       "      <td>45.430224</td>\n",
       "      <td>35.539918</td>\n",
       "      <td>15.616050</td>\n",
       "      <td>...</td>\n",
       "      <td>8.209483</td>\n",
       "      <td>37.101505</td>\n",
       "      <td>32.423673</td>\n",
       "      <td>40.706490</td>\n",
       "      <td>4.507167</td>\n",
       "      <td>45.349930</td>\n",
       "      <td>45.693690</td>\n",
       "      <td>39.761540</td>\n",
       "      <td>35.583313</td>\n",
       "      <td>37.714472</td>\n",
       "    </tr>\n",
       "    <tr>\n",
       "      <th>1</th>\n",
       "      <td>41.864334</td>\n",
       "      <td>0.000000</td>\n",
       "      <td>42.246489</td>\n",
       "      <td>18.155301</td>\n",
       "      <td>17.755571</td>\n",
       "      <td>37.110841</td>\n",
       "      <td>41.502962</td>\n",
       "      <td>22.943650</td>\n",
       "      <td>54.014657</td>\n",
       "      <td>53.848535</td>\n",
       "      <td>...</td>\n",
       "      <td>34.806204</td>\n",
       "      <td>60.639617</td>\n",
       "      <td>59.497067</td>\n",
       "      <td>21.501969</td>\n",
       "      <td>42.147290</td>\n",
       "      <td>68.938693</td>\n",
       "      <td>26.464743</td>\n",
       "      <td>61.014750</td>\n",
       "      <td>54.956019</td>\n",
       "      <td>57.356300</td>\n",
       "    </tr>\n",
       "    <tr>\n",
       "      <th>2</th>\n",
       "      <td>0.748096</td>\n",
       "      <td>42.246489</td>\n",
       "      <td>0.000000</td>\n",
       "      <td>42.049880</td>\n",
       "      <td>45.084849</td>\n",
       "      <td>11.853300</td>\n",
       "      <td>5.600376</td>\n",
       "      <td>46.082147</td>\n",
       "      <td>36.199361</td>\n",
       "      <td>15.838633</td>\n",
       "      <td>...</td>\n",
       "      <td>8.277392</td>\n",
       "      <td>37.673489</td>\n",
       "      <td>32.946996</td>\n",
       "      <td>41.358702</td>\n",
       "      <td>3.875604</td>\n",
       "      <td>45.884584</td>\n",
       "      <td>46.373359</td>\n",
       "      <td>40.361128</td>\n",
       "      <td>36.230701</td>\n",
       "      <td>38.348043</td>\n",
       "    </tr>\n",
       "    <tr>\n",
       "      <th>3</th>\n",
       "      <td>41.431622</td>\n",
       "      <td>18.155301</td>\n",
       "      <td>42.049880</td>\n",
       "      <td>0.000000</td>\n",
       "      <td>3.301069</td>\n",
       "      <td>32.602511</td>\n",
       "      <td>43.694314</td>\n",
       "      <td>5.480771</td>\n",
       "      <td>40.500357</td>\n",
       "      <td>48.697972</td>\n",
       "      <td>...</td>\n",
       "      <td>37.058587</td>\n",
       "      <td>47.930096</td>\n",
       "      <td>48.246268</td>\n",
       "      <td>3.637828</td>\n",
       "      <td>43.575603</td>\n",
       "      <td>55.410075</td>\n",
       "      <td>8.480936</td>\n",
       "      <td>47.484635</td>\n",
       "      <td>41.596601</td>\n",
       "      <td>43.746775</td>\n",
       "    </tr>\n",
       "    <tr>\n",
       "      <th>4</th>\n",
       "      <td>44.479314</td>\n",
       "      <td>17.755571</td>\n",
       "      <td>45.084849</td>\n",
       "      <td>3.301069</td>\n",
       "      <td>0.000000</td>\n",
       "      <td>35.826425</td>\n",
       "      <td>46.549827</td>\n",
       "      <td>5.293211</td>\n",
       "      <td>43.442460</td>\n",
       "      <td>51.983035</td>\n",
       "      <td>...</td>\n",
       "      <td>39.849302</td>\n",
       "      <td>50.941145</td>\n",
       "      <td>51.393632</td>\n",
       "      <td>6.222322</td>\n",
       "      <td>46.495702</td>\n",
       "      <td>58.289297</td>\n",
       "      <td>9.003212</td>\n",
       "      <td>50.392190</td>\n",
       "      <td>44.554201</td>\n",
       "      <td>46.659300</td>\n",
       "    </tr>\n",
       "    <tr>\n",
       "      <th>...</th>\n",
       "      <td>...</td>\n",
       "      <td>...</td>\n",
       "      <td>...</td>\n",
       "      <td>...</td>\n",
       "      <td>...</td>\n",
       "      <td>...</td>\n",
       "      <td>...</td>\n",
       "      <td>...</td>\n",
       "      <td>...</td>\n",
       "      <td>...</td>\n",
       "      <td>...</td>\n",
       "      <td>...</td>\n",
       "      <td>...</td>\n",
       "      <td>...</td>\n",
       "      <td>...</td>\n",
       "      <td>...</td>\n",
       "      <td>...</td>\n",
       "      <td>...</td>\n",
       "      <td>...</td>\n",
       "      <td>...</td>\n",
       "      <td>...</td>\n",
       "    </tr>\n",
       "    <tr>\n",
       "      <th>95</th>\n",
       "      <td>45.349930</td>\n",
       "      <td>68.938693</td>\n",
       "      <td>45.884584</td>\n",
       "      <td>55.410075</td>\n",
       "      <td>58.289297</td>\n",
       "      <td>38.617173</td>\n",
       "      <td>51.482158</td>\n",
       "      <td>54.803957</td>\n",
       "      <td>15.015248</td>\n",
       "      <td>32.643244</td>\n",
       "      <td>...</td>\n",
       "      <td>51.214690</td>\n",
       "      <td>8.786445</td>\n",
       "      <td>12.962446</td>\n",
       "      <td>52.068660</td>\n",
       "      <td>49.717484</td>\n",
       "      <td>0.000000</td>\n",
       "      <td>51.931855</td>\n",
       "      <td>7.969933</td>\n",
       "      <td>14.008882</td>\n",
       "      <td>11.699764</td>\n",
       "    </tr>\n",
       "    <tr>\n",
       "      <th>96</th>\n",
       "      <td>45.693690</td>\n",
       "      <td>26.464743</td>\n",
       "      <td>46.373359</td>\n",
       "      <td>8.480936</td>\n",
       "      <td>9.003212</td>\n",
       "      <td>35.710091</td>\n",
       "      <td>48.829171</td>\n",
       "      <td>3.758124</td>\n",
       "      <td>37.541098</td>\n",
       "      <td>50.512323</td>\n",
       "      <td>...</td>\n",
       "      <td>42.535322</td>\n",
       "      <td>45.271960</td>\n",
       "      <td>46.584615</td>\n",
       "      <td>6.111047</td>\n",
       "      <td>48.441867</td>\n",
       "      <td>51.931855</td>\n",
       "      <td>0.000000</td>\n",
       "      <td>44.233737</td>\n",
       "      <td>38.707762</td>\n",
       "      <td>40.571915</td>\n",
       "    </tr>\n",
       "    <tr>\n",
       "      <th>97</th>\n",
       "      <td>39.761540</td>\n",
       "      <td>61.014750</td>\n",
       "      <td>40.361128</td>\n",
       "      <td>47.484635</td>\n",
       "      <td>50.392190</td>\n",
       "      <td>31.936729</td>\n",
       "      <td>45.931252</td>\n",
       "      <td>47.012077</td>\n",
       "      <td>7.045423</td>\n",
       "      <td>28.861846</td>\n",
       "      <td>...</td>\n",
       "      <td>44.913324</td>\n",
       "      <td>3.525386</td>\n",
       "      <td>9.263430</td>\n",
       "      <td>44.171389</td>\n",
       "      <td>44.234970</td>\n",
       "      <td>7.969933</td>\n",
       "      <td>44.233737</td>\n",
       "      <td>0.000000</td>\n",
       "      <td>6.059672</td>\n",
       "      <td>3.739875</td>\n",
       "    </tr>\n",
       "    <tr>\n",
       "      <th>98</th>\n",
       "      <td>35.583313</td>\n",
       "      <td>54.956019</td>\n",
       "      <td>36.230701</td>\n",
       "      <td>41.596601</td>\n",
       "      <td>44.554201</td>\n",
       "      <td>26.891194</td>\n",
       "      <td>41.707714</td>\n",
       "      <td>41.344855</td>\n",
       "      <td>1.190271</td>\n",
       "      <td>26.577429</td>\n",
       "      <td>...</td>\n",
       "      <td>40.065510</td>\n",
       "      <td>6.597164</td>\n",
       "      <td>9.808484</td>\n",
       "      <td>38.339506</td>\n",
       "      <td>40.088702</td>\n",
       "      <td>14.008882</td>\n",
       "      <td>38.707762</td>\n",
       "      <td>6.059672</td>\n",
       "      <td>0.000000</td>\n",
       "      <td>2.504442</td>\n",
       "    </tr>\n",
       "    <tr>\n",
       "      <th>99</th>\n",
       "      <td>37.714472</td>\n",
       "      <td>57.356300</td>\n",
       "      <td>38.348043</td>\n",
       "      <td>43.746775</td>\n",
       "      <td>46.659300</td>\n",
       "      <td>29.257475</td>\n",
       "      <td>43.860307</td>\n",
       "      <td>43.312335</td>\n",
       "      <td>3.342383</td>\n",
       "      <td>28.031743</td>\n",
       "      <td>...</td>\n",
       "      <td>42.393560</td>\n",
       "      <td>5.307373</td>\n",
       "      <td>9.856901</td>\n",
       "      <td>40.439010</td>\n",
       "      <td>42.215995</td>\n",
       "      <td>11.699764</td>\n",
       "      <td>40.571915</td>\n",
       "      <td>3.739875</td>\n",
       "      <td>2.504442</td>\n",
       "      <td>0.000000</td>\n",
       "    </tr>\n",
       "  </tbody>\n",
       "</table>\n",
       "<p>100 rows × 100 columns</p>\n",
       "</div>"
      ],
      "text/plain": [
       "           0          1          2          3          4          5   \\\n",
       "0    0.000000  41.864334   0.748096  41.431622  44.479314  11.105700   \n",
       "1   41.864334   0.000000  42.246489  18.155301  17.755571  37.110841   \n",
       "2    0.748096  42.246489   0.000000  42.049880  45.084849  11.853300   \n",
       "3   41.431622  18.155301  42.049880   0.000000   3.301069  32.602511   \n",
       "4   44.479314  17.755571  45.084849   3.301069   0.000000  35.826425   \n",
       "..        ...        ...        ...        ...        ...        ...   \n",
       "95  45.349930  68.938693  45.884584  55.410075  58.289297  38.617173   \n",
       "96  45.693690  26.464743  46.373359   8.480936   9.003212  35.710091   \n",
       "97  39.761540  61.014750  40.361128  47.484635  50.392190  31.936729   \n",
       "98  35.583313  54.956019  36.230701  41.596601  44.554201  26.891194   \n",
       "99  37.714472  57.356300  38.348043  43.746775  46.659300  29.257475   \n",
       "\n",
       "           6          7          8          9   ...         90         91  \\\n",
       "0    6.171995  45.430224  35.539918  15.616050  ...   8.209483  37.101505   \n",
       "1   41.502962  22.943650  54.014657  53.848535  ...  34.806204  60.639617   \n",
       "2    5.600376  46.082147  36.199361  15.838633  ...   8.277392  37.673489   \n",
       "3   43.694314   5.480771  40.500357  48.697972  ...  37.058587  47.930096   \n",
       "4   46.549827   5.293211  43.442460  51.983035  ...  39.849302  50.941145   \n",
       "..        ...        ...        ...        ...  ...        ...        ...   \n",
       "95  51.482158  54.803957  15.015248  32.643244  ...  51.214690   8.786445   \n",
       "96  48.829171   3.758124  37.541098  50.512323  ...  42.535322  45.271960   \n",
       "97  45.931252  47.012077   7.045423  28.861846  ...  44.913324   3.525386   \n",
       "98  41.707714  41.344855   1.190271  26.577429  ...  40.065510   6.597164   \n",
       "99  43.860307  43.312335   3.342383  28.031743  ...  42.393560   5.307373   \n",
       "\n",
       "           92         93         94         95         96         97  \\\n",
       "0   32.423673  40.706490   4.507167  45.349930  45.693690  39.761540   \n",
       "1   59.497067  21.501969  42.147290  68.938693  26.464743  61.014750   \n",
       "2   32.946996  41.358702   3.875604  45.884584  46.373359  40.361128   \n",
       "3   48.246268   3.637828  43.575603  55.410075   8.480936  47.484635   \n",
       "4   51.393632   6.222322  46.495702  58.289297   9.003212  50.392190   \n",
       "..        ...        ...        ...        ...        ...        ...   \n",
       "95  12.962446  52.068660  49.717484   0.000000  51.931855   7.969933   \n",
       "96  46.584615   6.111047  48.441867  51.931855   0.000000  44.233737   \n",
       "97   9.263430  44.171389  44.234970   7.969933  44.233737   0.000000   \n",
       "98   9.808484  38.339506  40.088702  14.008882  38.707762   6.059672   \n",
       "99   9.856901  40.439010  42.215995  11.699764  40.571915   3.739875   \n",
       "\n",
       "           98         99  \n",
       "0   35.583313  37.714472  \n",
       "1   54.956019  57.356300  \n",
       "2   36.230701  38.348043  \n",
       "3   41.596601  43.746775  \n",
       "4   44.554201  46.659300  \n",
       "..        ...        ...  \n",
       "95  14.008882  11.699764  \n",
       "96  38.707762  40.571915  \n",
       "97   6.059672   3.739875  \n",
       "98   0.000000   2.504442  \n",
       "99   2.504442   0.000000  \n",
       "\n",
       "[100 rows x 100 columns]"
      ]
     },
     "execution_count": 7,
     "metadata": {},
     "output_type": "execute_result"
    }
   ],
   "source": [
    "x['distances']"
   ]
  },
  {
   "attachments": {},
   "cell_type": "markdown",
   "id": "d8771d70-8f09-4835-b2f1-29619bd6613b",
   "metadata": {},
   "source": [
    "# Cluster"
   ]
  },
  {
   "cell_type": "code",
   "execution_count": 8,
   "id": "ba19a548-9aa2-4ef3-b0bc-b4dcc56685d3",
   "metadata": {
    "execution": {
     "iopub.execute_input": "2024-02-23T20:07:11.393302Z",
     "iopub.status.busy": "2024-02-23T20:07:11.393059Z",
     "iopub.status.idle": "2024-02-23T20:07:12.173955Z",
     "shell.execute_reply": "2024-02-23T20:07:12.173318Z"
    }
   },
   "outputs": [
    {
     "data": {
      "image/png": "[encoded data removed]"
     },
     "metadata": {},
     "output_type": "display_data"
    }
   ],
   "source": [
    "hdb = HDBSCAN(min_cluster_size = 15, min_samples=10, metric='precomputed').fit(x['distances'])\n",
    "hdbscan_labels = hdb.labels_\n",
    "df[\"hdbscan_labels\"] = hdbscan_labels\n",
    "\n",
    "fig = make_subplots(rows=1, cols=2, subplot_titles=[\"True Clusters\", \"HDBSCAN Clusters\"])\n",
    "for label, group in df.groupby(\"target\"):\n",
    "    fig.add_scatter(x=group.x, y=group.y, col=1, row=1, mode=\"markers\", name=label)\n",
    "for label, group in df.groupby(\"hdbscan_labels\"):\n",
    "    fig.add_scatter(\n",
    "        x=group.x, y=group.y, col=2, row=1, mode=\"markers\", name=label,\n",
    "        marker_color=fig.layout[\"template\"][\"layout\"][\"colorway\"][label],\n",
    "        showlegend=False\n",
    "    )\n",
    "fig.update_layout(width=1000)\n",
    "fig.show()"
   ]
  },
  {
   "cell_type": "markdown",
   "id": "86938256",
   "metadata": {},
   "source": [
    "# Results\n",
    "\n",
    "We calculate the performance of the clustering by measuring the similarity of the clusters compared to the original labels."
   ]
  },
  {
   "cell_type": "code",
   "execution_count": 9,
   "id": "34e6b5e7",
   "metadata": {
    "execution": {
     "iopub.execute_input": "2024-02-23T20:07:12.176573Z",
     "iopub.status.busy": "2024-02-23T20:07:12.176361Z",
     "iopub.status.idle": "2024-02-23T20:07:12.182419Z",
     "shell.execute_reply": "2024-02-23T20:07:12.181940Z"
    }
   },
   "outputs": [
    {
     "name": "stdout",
     "output_type": "stream",
     "text": [
      "clustering accuracy score: 0.9847653869591713\n"
     ]
    }
   ],
   "source": [
    "dist_contribution_acc = adjusted_rand_score(df['target'], hdbscan_labels)\n",
    "print(f'clustering accuracy score: {dist_contribution_acc}')"
   ]
  }
 ],
 "metadata": {
  "kernelspec": {
   "display_name": "Python 3 (ipykernel)",
   "language": "python",
   "name": "python3"
  },
  "language_info": {
   "codemirror_mode": {
    "name": "ipython",
    "version": 3
   },
   "file_extension": ".py",
   "mimetype": "text/x-python",
   "name": "python",
   "nbconvert_exporter": "python",
   "pygments_lexer": "ipython3",
   "version": "3.9.18"
  },
  "vscode": {
   "interpreter": {
    "hash": "5a97d8588cce4b7427f7b841aa84f596036816f81d1a6ebef91f01881d12ee0c"
   }
  }
 },
 "nbformat": 4,
 "nbformat_minor": 5
}
