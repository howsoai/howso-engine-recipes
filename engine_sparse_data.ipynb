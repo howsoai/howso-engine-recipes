{
 "cells": [
  {
   "cell_type": "markdown",
   "metadata": {},
   "source": [
    "# Howso Engine &#x2014; Sparse Data and Null Handling\n",
    "\n",
    "## Overview\n",
    "\n",
    "This notebook provides an overview of applying Howso Engine to sparse data (i.e., data that contain missing values) and helps to characterize how prediction performance is affected as model sparsity increases.  Howso Engine does not require any preprocessing to handle nulls or NaNs, but has notable robustness when it comes to working with data that contain them."
   ]
  },
  {
   "cell_type": "code",
   "execution_count": 1,
   "metadata": {
    "execution": {
     "iopub.execute_input": "2024-02-09T02:28:14.645626Z",
     "iopub.status.busy": "2024-02-09T02:28:14.645453Z",
     "iopub.status.idle": "2024-02-09T02:28:15.326361Z",
     "shell.execute_reply": "2024-02-09T02:28:15.325811Z"
    }
   },
   "outputs": [],
   "source": [
    "import matplotlib.pyplot as plt\n",
    "import numpy as np\n",
    "import pandas as pd\n",
    "import pmlb\n",
    "\n",
    "from howso.engine import Trainee\n",
    "from howso.utilities import infer_feature_attributes"
   ]
  },
  {
   "cell_type": "markdown",
   "metadata": {},
   "source": [
    "## 1. Load Data\n",
    "\n",
    "We use the ``adult`` dataset from the [PMLB](https://github.com/EpistasisLab/pmlb) [[1]](#1).\n",
    "\n",
    "<a id=\"1\">[1]</a>\n",
    "Joseph D. Romano, Le, Trang T., William La Cava, John T. Gregg, Daniel J. Goldberg, Praneel Chakraborty, Natasha L. Ray, Daniel Himmelstein, \n",
    "Weixuan Fu, and Jason H. Moore.  \n",
    "PMLB v1.0: an open source dataset collection for benchmarking machine learning methods.  \n",
    "arXiv preprint arXiv:2012.00058 (2020)."
   ]
  },
  {
   "cell_type": "code",
   "execution_count": 2,
   "metadata": {
    "execution": {
     "iopub.execute_input": "2024-02-09T02:28:15.329176Z",
     "iopub.status.busy": "2024-02-09T02:28:15.328877Z",
     "iopub.status.idle": "2024-02-09T02:28:15.345639Z",
     "shell.execute_reply": "2024-02-09T02:28:15.345199Z"
    }
   },
   "outputs": [
    {
     "data": {
      "text/html": [
       "<div>\n",
       "<style scoped>\n",
       "    .dataframe tbody tr th:only-of-type {\n",
       "        vertical-align: middle;\n",
       "    }\n",
       "\n",
       "    .dataframe tbody tr th {\n",
       "        vertical-align: top;\n",
       "    }\n",
       "\n",
       "    .dataframe thead th {\n",
       "        text-align: right;\n",
       "    }\n",
       "</style>\n",
       "<table border=\"1\" class=\"dataframe\">\n",
       "  <thead>\n",
       "    <tr style=\"text-align: right;\">\n",
       "      <th></th>\n",
       "      <th>Clump_Thickness</th>\n",
       "      <th>Cell_Size_Uniformity</th>\n",
       "      <th>Cell_Shape_Uniformity</th>\n",
       "      <th>Marginal_Adhesion</th>\n",
       "      <th>Single_Epi_Cell_Size</th>\n",
       "      <th>Bare_Nuclei</th>\n",
       "      <th>Bland_Chromatin</th>\n",
       "      <th>Normal_Nucleoli</th>\n",
       "      <th>Mitoses</th>\n",
       "      <th>target</th>\n",
       "    </tr>\n",
       "  </thead>\n",
       "  <tbody>\n",
       "    <tr>\n",
       "      <th>0</th>\n",
       "      <td>5.0</td>\n",
       "      <td>1.0</td>\n",
       "      <td>1.0</td>\n",
       "      <td>1.0</td>\n",
       "      <td>2.0</td>\n",
       "      <td>0</td>\n",
       "      <td>3.0</td>\n",
       "      <td>1.0</td>\n",
       "      <td>1.0</td>\n",
       "      <td>0</td>\n",
       "    </tr>\n",
       "    <tr>\n",
       "      <th>1</th>\n",
       "      <td>5.0</td>\n",
       "      <td>4.0</td>\n",
       "      <td>4.0</td>\n",
       "      <td>5.0</td>\n",
       "      <td>7.0</td>\n",
       "      <td>1</td>\n",
       "      <td>3.0</td>\n",
       "      <td>2.0</td>\n",
       "      <td>1.0</td>\n",
       "      <td>0</td>\n",
       "    </tr>\n",
       "    <tr>\n",
       "      <th>2</th>\n",
       "      <td>3.0</td>\n",
       "      <td>1.0</td>\n",
       "      <td>1.0</td>\n",
       "      <td>1.0</td>\n",
       "      <td>2.0</td>\n",
       "      <td>2</td>\n",
       "      <td>3.0</td>\n",
       "      <td>1.0</td>\n",
       "      <td>1.0</td>\n",
       "      <td>0</td>\n",
       "    </tr>\n",
       "    <tr>\n",
       "      <th>3</th>\n",
       "      <td>6.0</td>\n",
       "      <td>8.0</td>\n",
       "      <td>8.0</td>\n",
       "      <td>1.0</td>\n",
       "      <td>3.0</td>\n",
       "      <td>4</td>\n",
       "      <td>3.0</td>\n",
       "      <td>7.0</td>\n",
       "      <td>1.0</td>\n",
       "      <td>0</td>\n",
       "    </tr>\n",
       "    <tr>\n",
       "      <th>4</th>\n",
       "      <td>4.0</td>\n",
       "      <td>1.0</td>\n",
       "      <td>1.0</td>\n",
       "      <td>3.0</td>\n",
       "      <td>2.0</td>\n",
       "      <td>0</td>\n",
       "      <td>3.0</td>\n",
       "      <td>1.0</td>\n",
       "      <td>1.0</td>\n",
       "      <td>0</td>\n",
       "    </tr>\n",
       "    <tr>\n",
       "      <th>...</th>\n",
       "      <td>...</td>\n",
       "      <td>...</td>\n",
       "      <td>...</td>\n",
       "      <td>...</td>\n",
       "      <td>...</td>\n",
       "      <td>...</td>\n",
       "      <td>...</td>\n",
       "      <td>...</td>\n",
       "      <td>...</td>\n",
       "      <td>...</td>\n",
       "    </tr>\n",
       "    <tr>\n",
       "      <th>694</th>\n",
       "      <td>3.0</td>\n",
       "      <td>1.0</td>\n",
       "      <td>1.0</td>\n",
       "      <td>1.0</td>\n",
       "      <td>3.0</td>\n",
       "      <td>2</td>\n",
       "      <td>1.0</td>\n",
       "      <td>1.0</td>\n",
       "      <td>1.0</td>\n",
       "      <td>0</td>\n",
       "    </tr>\n",
       "    <tr>\n",
       "      <th>695</th>\n",
       "      <td>2.0</td>\n",
       "      <td>1.0</td>\n",
       "      <td>1.0</td>\n",
       "      <td>1.0</td>\n",
       "      <td>2.0</td>\n",
       "      <td>0</td>\n",
       "      <td>1.0</td>\n",
       "      <td>1.0</td>\n",
       "      <td>1.0</td>\n",
       "      <td>0</td>\n",
       "    </tr>\n",
       "    <tr>\n",
       "      <th>696</th>\n",
       "      <td>5.0</td>\n",
       "      <td>10.0</td>\n",
       "      <td>10.0</td>\n",
       "      <td>3.0</td>\n",
       "      <td>7.0</td>\n",
       "      <td>3</td>\n",
       "      <td>8.0</td>\n",
       "      <td>10.0</td>\n",
       "      <td>2.0</td>\n",
       "      <td>1</td>\n",
       "    </tr>\n",
       "    <tr>\n",
       "      <th>697</th>\n",
       "      <td>4.0</td>\n",
       "      <td>8.0</td>\n",
       "      <td>6.0</td>\n",
       "      <td>4.0</td>\n",
       "      <td>3.0</td>\n",
       "      <td>4</td>\n",
       "      <td>10.0</td>\n",
       "      <td>6.0</td>\n",
       "      <td>1.0</td>\n",
       "      <td>1</td>\n",
       "    </tr>\n",
       "    <tr>\n",
       "      <th>698</th>\n",
       "      <td>4.0</td>\n",
       "      <td>8.0</td>\n",
       "      <td>8.0</td>\n",
       "      <td>5.0</td>\n",
       "      <td>4.0</td>\n",
       "      <td>5</td>\n",
       "      <td>10.0</td>\n",
       "      <td>4.0</td>\n",
       "      <td>1.0</td>\n",
       "      <td>1</td>\n",
       "    </tr>\n",
       "  </tbody>\n",
       "</table>\n",
       "<p>699 rows × 10 columns</p>\n",
       "</div>"
      ],
      "text/plain": [
       "     Clump_Thickness  Cell_Size_Uniformity  Cell_Shape_Uniformity  \\\n",
       "0                5.0                   1.0                    1.0   \n",
       "1                5.0                   4.0                    4.0   \n",
       "2                3.0                   1.0                    1.0   \n",
       "3                6.0                   8.0                    8.0   \n",
       "4                4.0                   1.0                    1.0   \n",
       "..               ...                   ...                    ...   \n",
       "694              3.0                   1.0                    1.0   \n",
       "695              2.0                   1.0                    1.0   \n",
       "696              5.0                  10.0                   10.0   \n",
       "697              4.0                   8.0                    6.0   \n",
       "698              4.0                   8.0                    8.0   \n",
       "\n",
       "     Marginal_Adhesion  Single_Epi_Cell_Size  Bare_Nuclei  Bland_Chromatin  \\\n",
       "0                  1.0                   2.0            0              3.0   \n",
       "1                  5.0                   7.0            1              3.0   \n",
       "2                  1.0                   2.0            2              3.0   \n",
       "3                  1.0                   3.0            4              3.0   \n",
       "4                  3.0                   2.0            0              3.0   \n",
       "..                 ...                   ...          ...              ...   \n",
       "694                1.0                   3.0            2              1.0   \n",
       "695                1.0                   2.0            0              1.0   \n",
       "696                3.0                   7.0            3              8.0   \n",
       "697                4.0                   3.0            4             10.0   \n",
       "698                5.0                   4.0            5             10.0   \n",
       "\n",
       "     Normal_Nucleoli  Mitoses  target  \n",
       "0                1.0      1.0       0  \n",
       "1                2.0      1.0       0  \n",
       "2                1.0      1.0       0  \n",
       "3                7.0      1.0       0  \n",
       "4                1.0      1.0       0  \n",
       "..               ...      ...     ...  \n",
       "694              1.0      1.0       0  \n",
       "695              1.0      1.0       0  \n",
       "696             10.0      2.0       1  \n",
       "697              6.0      1.0       1  \n",
       "698              4.0      1.0       1  \n",
       "\n",
       "[699 rows x 10 columns]"
      ]
     },
     "execution_count": 2,
     "metadata": {},
     "output_type": "execute_result"
    }
   ],
   "source": [
    "df = pmlb.fetch_data(\"breast_w\", local_cache_dir=\"data/breast_w\")\n",
    "\n",
    "df"
   ]
  },
  {
   "cell_type": "markdown",
   "metadata": {},
   "source": [
    "Since the datasets in the PMLB have been cleaned, we add nulls into 20% of the dataset here."
   ]
  },
  {
   "cell_type": "code",
   "execution_count": 3,
   "metadata": {
    "execution": {
     "iopub.execute_input": "2024-02-09T02:28:15.379719Z",
     "iopub.status.busy": "2024-02-09T02:28:15.379500Z",
     "iopub.status.idle": "2024-02-09T02:28:15.394045Z",
     "shell.execute_reply": "2024-02-09T02:28:15.393638Z"
    }
   },
   "outputs": [
    {
     "data": {
      "text/html": [
       "<div>\n",
       "<style scoped>\n",
       "    .dataframe tbody tr th:only-of-type {\n",
       "        vertical-align: middle;\n",
       "    }\n",
       "\n",
       "    .dataframe tbody tr th {\n",
       "        vertical-align: top;\n",
       "    }\n",
       "\n",
       "    .dataframe thead th {\n",
       "        text-align: right;\n",
       "    }\n",
       "</style>\n",
       "<table border=\"1\" class=\"dataframe\">\n",
       "  <thead>\n",
       "    <tr style=\"text-align: right;\">\n",
       "      <th></th>\n",
       "      <th>Clump_Thickness</th>\n",
       "      <th>Cell_Size_Uniformity</th>\n",
       "      <th>Cell_Shape_Uniformity</th>\n",
       "      <th>Marginal_Adhesion</th>\n",
       "      <th>Single_Epi_Cell_Size</th>\n",
       "      <th>Bare_Nuclei</th>\n",
       "      <th>Bland_Chromatin</th>\n",
       "      <th>Normal_Nucleoli</th>\n",
       "      <th>Mitoses</th>\n",
       "      <th>target</th>\n",
       "    </tr>\n",
       "  </thead>\n",
       "  <tbody>\n",
       "    <tr>\n",
       "      <th>0</th>\n",
       "      <td>5.0</td>\n",
       "      <td>1.0</td>\n",
       "      <td>NaN</td>\n",
       "      <td>1.0</td>\n",
       "      <td>2.0</td>\n",
       "      <td>0.0</td>\n",
       "      <td>NaN</td>\n",
       "      <td>NaN</td>\n",
       "      <td>NaN</td>\n",
       "      <td>0.0</td>\n",
       "    </tr>\n",
       "    <tr>\n",
       "      <th>1</th>\n",
       "      <td>5.0</td>\n",
       "      <td>4.0</td>\n",
       "      <td>4.0</td>\n",
       "      <td>5.0</td>\n",
       "      <td>7.0</td>\n",
       "      <td>1.0</td>\n",
       "      <td>3.0</td>\n",
       "      <td>2.0</td>\n",
       "      <td>NaN</td>\n",
       "      <td>0.0</td>\n",
       "    </tr>\n",
       "    <tr>\n",
       "      <th>2</th>\n",
       "      <td>3.0</td>\n",
       "      <td>1.0</td>\n",
       "      <td>1.0</td>\n",
       "      <td>1.0</td>\n",
       "      <td>NaN</td>\n",
       "      <td>2.0</td>\n",
       "      <td>3.0</td>\n",
       "      <td>1.0</td>\n",
       "      <td>1.0</td>\n",
       "      <td>0.0</td>\n",
       "    </tr>\n",
       "    <tr>\n",
       "      <th>3</th>\n",
       "      <td>6.0</td>\n",
       "      <td>8.0</td>\n",
       "      <td>NaN</td>\n",
       "      <td>1.0</td>\n",
       "      <td>3.0</td>\n",
       "      <td>4.0</td>\n",
       "      <td>3.0</td>\n",
       "      <td>7.0</td>\n",
       "      <td>1.0</td>\n",
       "      <td>0.0</td>\n",
       "    </tr>\n",
       "    <tr>\n",
       "      <th>4</th>\n",
       "      <td>4.0</td>\n",
       "      <td>1.0</td>\n",
       "      <td>NaN</td>\n",
       "      <td>3.0</td>\n",
       "      <td>NaN</td>\n",
       "      <td>0.0</td>\n",
       "      <td>3.0</td>\n",
       "      <td>1.0</td>\n",
       "      <td>NaN</td>\n",
       "      <td>0.0</td>\n",
       "    </tr>\n",
       "    <tr>\n",
       "      <th>...</th>\n",
       "      <td>...</td>\n",
       "      <td>...</td>\n",
       "      <td>...</td>\n",
       "      <td>...</td>\n",
       "      <td>...</td>\n",
       "      <td>...</td>\n",
       "      <td>...</td>\n",
       "      <td>...</td>\n",
       "      <td>...</td>\n",
       "      <td>...</td>\n",
       "    </tr>\n",
       "    <tr>\n",
       "      <th>694</th>\n",
       "      <td>3.0</td>\n",
       "      <td>NaN</td>\n",
       "      <td>1.0</td>\n",
       "      <td>1.0</td>\n",
       "      <td>NaN</td>\n",
       "      <td>2.0</td>\n",
       "      <td>NaN</td>\n",
       "      <td>NaN</td>\n",
       "      <td>1.0</td>\n",
       "      <td>0.0</td>\n",
       "    </tr>\n",
       "    <tr>\n",
       "      <th>695</th>\n",
       "      <td>2.0</td>\n",
       "      <td>1.0</td>\n",
       "      <td>NaN</td>\n",
       "      <td>1.0</td>\n",
       "      <td>2.0</td>\n",
       "      <td>0.0</td>\n",
       "      <td>1.0</td>\n",
       "      <td>1.0</td>\n",
       "      <td>1.0</td>\n",
       "      <td>0.0</td>\n",
       "    </tr>\n",
       "    <tr>\n",
       "      <th>696</th>\n",
       "      <td>5.0</td>\n",
       "      <td>NaN</td>\n",
       "      <td>NaN</td>\n",
       "      <td>NaN</td>\n",
       "      <td>7.0</td>\n",
       "      <td>NaN</td>\n",
       "      <td>NaN</td>\n",
       "      <td>10.0</td>\n",
       "      <td>2.0</td>\n",
       "      <td>1.0</td>\n",
       "    </tr>\n",
       "    <tr>\n",
       "      <th>697</th>\n",
       "      <td>4.0</td>\n",
       "      <td>8.0</td>\n",
       "      <td>NaN</td>\n",
       "      <td>4.0</td>\n",
       "      <td>3.0</td>\n",
       "      <td>4.0</td>\n",
       "      <td>10.0</td>\n",
       "      <td>6.0</td>\n",
       "      <td>1.0</td>\n",
       "      <td>1.0</td>\n",
       "    </tr>\n",
       "    <tr>\n",
       "      <th>698</th>\n",
       "      <td>4.0</td>\n",
       "      <td>8.0</td>\n",
       "      <td>8.0</td>\n",
       "      <td>5.0</td>\n",
       "      <td>4.0</td>\n",
       "      <td>5.0</td>\n",
       "      <td>NaN</td>\n",
       "      <td>4.0</td>\n",
       "      <td>NaN</td>\n",
       "      <td>1.0</td>\n",
       "    </tr>\n",
       "  </tbody>\n",
       "</table>\n",
       "<p>699 rows × 10 columns</p>\n",
       "</div>"
      ],
      "text/plain": [
       "     Clump_Thickness  Cell_Size_Uniformity  Cell_Shape_Uniformity  \\\n",
       "0                5.0                   1.0                    NaN   \n",
       "1                5.0                   4.0                    4.0   \n",
       "2                3.0                   1.0                    1.0   \n",
       "3                6.0                   8.0                    NaN   \n",
       "4                4.0                   1.0                    NaN   \n",
       "..               ...                   ...                    ...   \n",
       "694              3.0                   NaN                    1.0   \n",
       "695              2.0                   1.0                    NaN   \n",
       "696              5.0                   NaN                    NaN   \n",
       "697              4.0                   8.0                    NaN   \n",
       "698              4.0                   8.0                    8.0   \n",
       "\n",
       "     Marginal_Adhesion  Single_Epi_Cell_Size  Bare_Nuclei  Bland_Chromatin  \\\n",
       "0                  1.0                   2.0          0.0              NaN   \n",
       "1                  5.0                   7.0          1.0              3.0   \n",
       "2                  1.0                   NaN          2.0              3.0   \n",
       "3                  1.0                   3.0          4.0              3.0   \n",
       "4                  3.0                   NaN          0.0              3.0   \n",
       "..                 ...                   ...          ...              ...   \n",
       "694                1.0                   NaN          2.0              NaN   \n",
       "695                1.0                   2.0          0.0              1.0   \n",
       "696                NaN                   7.0          NaN              NaN   \n",
       "697                4.0                   3.0          4.0             10.0   \n",
       "698                5.0                   4.0          5.0              NaN   \n",
       "\n",
       "     Normal_Nucleoli  Mitoses  target  \n",
       "0                NaN      NaN     0.0  \n",
       "1                2.0      NaN     0.0  \n",
       "2                1.0      1.0     0.0  \n",
       "3                7.0      1.0     0.0  \n",
       "4                1.0      NaN     0.0  \n",
       "..               ...      ...     ...  \n",
       "694              NaN      1.0     0.0  \n",
       "695              1.0      1.0     0.0  \n",
       "696             10.0      2.0     1.0  \n",
       "697              6.0      1.0     1.0  \n",
       "698              4.0      NaN     1.0  \n",
       "\n",
       "[699 rows x 10 columns]"
      ]
     },
     "execution_count": 3,
     "metadata": {},
     "output_type": "execute_result"
    }
   ],
   "source": [
    "null_percent = 0.2\n",
    "rng = np.random.default_rng()\n",
    "\n",
    "def insert_percent_nulls(data: pd.DataFrame, percent: float) -> pd.DataFrame:\n",
    "    data = data.copy(deep=True)\n",
    "    mask = rng.uniform(size=data.shape) < percent\n",
    "    data[mask] = None\n",
    "\n",
    "    return data\n",
    "\n",
    "null_df = insert_percent_nulls(df, null_percent)\n",
    "null_df"
   ]
  },
  {
   "cell_type": "markdown",
   "metadata": {},
   "source": [
    "## 2. Infer Feature Attributes"
   ]
  },
  {
   "cell_type": "code",
   "execution_count": 4,
   "metadata": {
    "execution": {
     "iopub.execute_input": "2024-02-09T02:28:15.395933Z",
     "iopub.status.busy": "2024-02-09T02:28:15.395764Z",
     "iopub.status.idle": "2024-02-09T02:28:15.414984Z",
     "shell.execute_reply": "2024-02-09T02:28:15.414591Z"
    }
   },
   "outputs": [
    {
     "data": {
      "text/plain": [
       "{'Clump_Thickness': {'type': 'continuous',\n",
       "  'decimal_places': 0,\n",
       "  'original_type': {'data_type': 'numeric', 'size': 8},\n",
       "  'bounds': {'min': 1.0, 'max': 20.0}},\n",
       " 'Cell_Size_Uniformity': {'type': 'continuous',\n",
       "  'decimal_places': 0,\n",
       "  'original_type': {'data_type': 'numeric', 'size': 8},\n",
       "  'bounds': {'min': 1.0, 'max': 20.0}},\n",
       " 'Cell_Shape_Uniformity': {'type': 'continuous',\n",
       "  'decimal_places': 0,\n",
       "  'original_type': {'data_type': 'numeric', 'size': 8},\n",
       "  'bounds': {'min': 1.0, 'max': 20.0}},\n",
       " 'Marginal_Adhesion': {'type': 'continuous',\n",
       "  'decimal_places': 0,\n",
       "  'original_type': {'data_type': 'numeric', 'size': 8},\n",
       "  'bounds': {'min': 1.0, 'max': 20.0}},\n",
       " 'Single_Epi_Cell_Size': {'type': 'continuous',\n",
       "  'decimal_places': 0,\n",
       "  'original_type': {'data_type': 'numeric', 'size': 8},\n",
       "  'bounds': {'min': 1.0, 'max': 20.0}},\n",
       " 'Bare_Nuclei': {'type': 'continuous',\n",
       "  'decimal_places': 0,\n",
       "  'original_type': {'data_type': 'numeric', 'size': 8},\n",
       "  'bounds': {'min': 0.0, 'max': 20.0}},\n",
       " 'Bland_Chromatin': {'type': 'continuous',\n",
       "  'decimal_places': 0,\n",
       "  'original_type': {'data_type': 'numeric', 'size': 8},\n",
       "  'bounds': {'min': 1.0, 'max': 20.0}},\n",
       " 'Normal_Nucleoli': {'type': 'continuous',\n",
       "  'decimal_places': 0,\n",
       "  'original_type': {'data_type': 'numeric', 'size': 8},\n",
       "  'bounds': {'min': 1.0, 'max': 20.0}},\n",
       " 'Mitoses': {'type': 'continuous',\n",
       "  'decimal_places': 0,\n",
       "  'original_type': {'data_type': 'numeric', 'size': 8},\n",
       "  'bounds': {'min': 1.0, 'max': 20.0}},\n",
       " 'target': {'type': 'nominal',\n",
       "  'data_type': 'number',\n",
       "  'original_type': {'data_type': 'numeric', 'size': 8}}}"
      ]
     },
     "execution_count": 4,
     "metadata": {},
     "output_type": "execute_result"
    }
   ],
   "source": [
    "features = infer_feature_attributes(null_df)\n",
    "features"
   ]
  },
  {
   "cell_type": "markdown",
   "metadata": {},
   "source": [
    "## 3. Train & Analyze Data\n",
    "\n",
    "We then train the data into a `Trainee` and analyze the data to determine the best hyperparameters.  Note that we are explicitly declaring our default context and action features."
   ]
  },
  {
   "cell_type": "code",
   "execution_count": 5,
   "metadata": {
    "execution": {
     "iopub.execute_input": "2024-02-09T02:28:15.416809Z",
     "iopub.status.busy": "2024-02-09T02:28:15.416650Z",
     "iopub.status.idle": "2024-02-09T02:28:41.156439Z",
     "shell.execute_reply": "2024-02-09T02:28:41.155911Z"
    }
   },
   "outputs": [],
   "source": [
    "action_features = [\"target\"]\n",
    "context_features = features.get_names(without=action_features)\n",
    "\n",
    "t = Trainee(features=features, default_action_features=action_features, default_context_features=context_features)\n",
    "t.train(null_df)\n",
    "t.analyze(context_features=context_features, action_features=action_features)"
   ]
  },
  {
   "cell_type": "markdown",
   "metadata": {},
   "source": [
    "## 4. Get Prediction Stats\n",
    "\n",
    "Finally, we get the prediction stats.  The default action feature, `target`, is categorical so we are concerned with *precision*,  *recall*, and *accuracy*."
   ]
  },
  {
   "cell_type": "code",
   "execution_count": 6,
   "metadata": {
    "execution": {
     "iopub.execute_input": "2024-02-09T02:28:41.159353Z",
     "iopub.status.busy": "2024-02-09T02:28:41.158827Z",
     "iopub.status.idle": "2024-02-09T02:28:41.486082Z",
     "shell.execute_reply": "2024-02-09T02:28:41.485616Z"
    }
   },
   "outputs": [
    {
     "data": {
      "text/html": [
       "<div>\n",
       "<style scoped>\n",
       "    .dataframe tbody tr th:only-of-type {\n",
       "        vertical-align: middle;\n",
       "    }\n",
       "\n",
       "    .dataframe tbody tr th {\n",
       "        vertical-align: top;\n",
       "    }\n",
       "\n",
       "    .dataframe thead th {\n",
       "        text-align: right;\n",
       "    }\n",
       "</style>\n",
       "<table border=\"1\" class=\"dataframe\">\n",
       "  <thead>\n",
       "    <tr style=\"text-align: right;\">\n",
       "      <th></th>\n",
       "      <th>target</th>\n",
       "    </tr>\n",
       "  </thead>\n",
       "  <tbody>\n",
       "    <tr>\n",
       "      <th>accuracy</th>\n",
       "      <td>0.927798</td>\n",
       "    </tr>\n",
       "    <tr>\n",
       "      <th>recall</th>\n",
       "      <td>0.916759</td>\n",
       "    </tr>\n",
       "    <tr>\n",
       "      <th>precision</th>\n",
       "      <td>0.924840</td>\n",
       "    </tr>\n",
       "  </tbody>\n",
       "</table>\n",
       "</div>"
      ],
      "text/plain": [
       "             target\n",
       "accuracy   0.927798\n",
       "recall     0.916759\n",
       "precision  0.924840"
      ]
     },
     "execution_count": 6,
     "metadata": {},
     "output_type": "execute_result"
    }
   ],
   "source": [
    "t.react_into_trainee(action_feature=action_features[0], residuals_robust=True)\n",
    "t.get_prediction_stats(stats=[\"accuracy\", \"precision\", \"recall\"])[action_features]"
   ]
  },
  {
   "cell_type": "code",
   "execution_count": 7,
   "metadata": {
    "execution": {
     "iopub.execute_input": "2024-02-09T02:28:41.488110Z",
     "iopub.status.busy": "2024-02-09T02:28:41.487778Z",
     "iopub.status.idle": "2024-02-09T02:28:41.528575Z",
     "shell.execute_reply": "2024-02-09T02:28:41.528071Z"
    }
   },
   "outputs": [],
   "source": [
    "t.delete()"
   ]
  },
  {
   "cell_type": "markdown",
   "metadata": {},
   "source": [
    "## 5. Evaluate Performance at Multiple Sparsity Levels\n",
    "\n",
    "Now we evaluate the `Trainee` performance at multiple sparsity levels to characterize how prediction performance holds up in the presence of many nulls."
   ]
  },
  {
   "cell_type": "code",
   "execution_count": 8,
   "metadata": {
    "execution": {
     "iopub.execute_input": "2024-02-09T02:28:41.530929Z",
     "iopub.status.busy": "2024-02-09T02:28:41.530591Z",
     "iopub.status.idle": "2024-02-09T02:33:07.752333Z",
     "shell.execute_reply": "2024-02-09T02:33:07.751835Z"
    }
   },
   "outputs": [
    {
     "name": "stdout",
     "output_type": "stream",
     "text": [
      "Evaluating Trainee for 0% nulls\n"
     ]
    },
    {
     "name": "stdout",
     "output_type": "stream",
     "text": [
      "Evaluating Trainee for 10% nulls\n"
     ]
    },
    {
     "name": "stdout",
     "output_type": "stream",
     "text": [
      "Evaluating Trainee for 20% nulls\n"
     ]
    },
    {
     "name": "stdout",
     "output_type": "stream",
     "text": [
      "Evaluating Trainee for 30% nulls\n"
     ]
    },
    {
     "name": "stdout",
     "output_type": "stream",
     "text": [
      "Evaluating Trainee for 40% nulls\n"
     ]
    },
    {
     "name": "stdout",
     "output_type": "stream",
     "text": [
      "Evaluating Trainee for 50% nulls\n"
     ]
    },
    {
     "name": "stdout",
     "output_type": "stream",
     "text": [
      "Evaluating Trainee for 60% nulls\n"
     ]
    },
    {
     "name": "stdout",
     "output_type": "stream",
     "text": [
      "Evaluating Trainee for 70% nulls\n"
     ]
    },
    {
     "name": "stdout",
     "output_type": "stream",
     "text": [
      "Evaluating Trainee for 80% nulls\n"
     ]
    },
    {
     "name": "stdout",
     "output_type": "stream",
     "text": [
      "Evaluating Trainee for 90% nulls\n"
     ]
    }
   ],
   "source": [
    "null_percentages = np.linspace(0, 0.9, num=10)\n",
    "prediction_stats_list = []\n",
    "\n",
    "for null_percent in null_percentages:\n",
    "    print(f\"Evaluating Trainee for {round(null_percent * 100)}% nulls\")\n",
    "\n",
    "    # Create a DataFrame that is a copy of the input DataFrame that has the correct percentage of null values.\n",
    "    null_df = insert_percent_nulls(df, null_percent)\n",
    "    # Infer feature attrbiutes for the new DataFrame\n",
    "    null_features = infer_feature_attributes(null_df)\n",
    "    # Create the Trainee, train, and analyze\n",
    "    t = Trainee(features=null_features, default_action_features=action_features, default_context_features=context_features)\n",
    "    t.train(null_df)\n",
    "    t.analyze(context_features=context_features, action_features=action_features)\n",
    "    # Compute, fetch, and store the prediction stats\n",
    "    t.react_into_trainee(action_feature=action_features[0], residuals_robust=True)\n",
    "    prediction_stats = t.get_prediction_stats(stats=[\"accuracy\", \"precision\", \"recall\"])[action_features]\n",
    "    prediction_stats_list.append(prediction_stats.T)\n",
    "    # Clean up the Trainee\n",
    "    t.delete()"
   ]
  },
  {
   "cell_type": "code",
   "execution_count": 9,
   "metadata": {
    "execution": {
     "iopub.execute_input": "2024-02-09T02:33:07.755105Z",
     "iopub.status.busy": "2024-02-09T02:33:07.754760Z",
     "iopub.status.idle": "2024-02-09T02:33:07.761882Z",
     "shell.execute_reply": "2024-02-09T02:33:07.761478Z"
    }
   },
   "outputs": [
    {
     "data": {
      "text/html": [
       "<div>\n",
       "<style scoped>\n",
       "    .dataframe tbody tr th:only-of-type {\n",
       "        vertical-align: middle;\n",
       "    }\n",
       "\n",
       "    .dataframe tbody tr th {\n",
       "        vertical-align: top;\n",
       "    }\n",
       "\n",
       "    .dataframe thead th {\n",
       "        text-align: right;\n",
       "    }\n",
       "</style>\n",
       "<table border=\"1\" class=\"dataframe\">\n",
       "  <thead>\n",
       "    <tr style=\"text-align: right;\">\n",
       "      <th></th>\n",
       "      <th>accuracy</th>\n",
       "      <th>recall</th>\n",
       "      <th>precision</th>\n",
       "    </tr>\n",
       "    <tr>\n",
       "      <th>Null %</th>\n",
       "      <th></th>\n",
       "      <th></th>\n",
       "      <th></th>\n",
       "    </tr>\n",
       "  </thead>\n",
       "  <tbody>\n",
       "    <tr>\n",
       "      <th>0.0</th>\n",
       "      <td>0.960293</td>\n",
       "      <td>0.954235</td>\n",
       "      <td>0.955718</td>\n",
       "    </tr>\n",
       "    <tr>\n",
       "      <th>0.1</th>\n",
       "      <td>0.942111</td>\n",
       "      <td>0.936910</td>\n",
       "      <td>0.936270</td>\n",
       "    </tr>\n",
       "    <tr>\n",
       "      <th>0.2</th>\n",
       "      <td>0.922249</td>\n",
       "      <td>0.911574</td>\n",
       "      <td>0.913779</td>\n",
       "    </tr>\n",
       "    <tr>\n",
       "      <th>0.3</th>\n",
       "      <td>0.912983</td>\n",
       "      <td>0.900120</td>\n",
       "      <td>0.904279</td>\n",
       "    </tr>\n",
       "    <tr>\n",
       "      <th>0.4</th>\n",
       "      <td>0.910355</td>\n",
       "      <td>0.910932</td>\n",
       "      <td>0.886150</td>\n",
       "    </tr>\n",
       "    <tr>\n",
       "      <th>0.5</th>\n",
       "      <td>0.891954</td>\n",
       "      <td>0.884164</td>\n",
       "      <td>0.875385</td>\n",
       "    </tr>\n",
       "    <tr>\n",
       "      <th>0.6</th>\n",
       "      <td>0.853723</td>\n",
       "      <td>0.847024</td>\n",
       "      <td>0.805006</td>\n",
       "    </tr>\n",
       "    <tr>\n",
       "      <th>0.7</th>\n",
       "      <td>0.795322</td>\n",
       "      <td>0.780001</td>\n",
       "      <td>0.744991</td>\n",
       "    </tr>\n",
       "    <tr>\n",
       "      <th>0.8</th>\n",
       "      <td>0.706897</td>\n",
       "      <td>0.707668</td>\n",
       "      <td>0.698712</td>\n",
       "    </tr>\n",
       "    <tr>\n",
       "      <th>0.9</th>\n",
       "      <td>0.709845</td>\n",
       "      <td>0.632576</td>\n",
       "      <td>0.590299</td>\n",
       "    </tr>\n",
       "  </tbody>\n",
       "</table>\n",
       "</div>"
      ],
      "text/plain": [
       "        accuracy    recall  precision\n",
       "Null %                               \n",
       "0.0     0.960293  0.954235   0.955718\n",
       "0.1     0.942111  0.936910   0.936270\n",
       "0.2     0.922249  0.911574   0.913779\n",
       "0.3     0.912983  0.900120   0.904279\n",
       "0.4     0.910355  0.910932   0.886150\n",
       "0.5     0.891954  0.884164   0.875385\n",
       "0.6     0.853723  0.847024   0.805006\n",
       "0.7     0.795322  0.780001   0.744991\n",
       "0.8     0.706897  0.707668   0.698712\n",
       "0.9     0.709845  0.632576   0.590299"
      ]
     },
     "execution_count": 9,
     "metadata": {},
     "output_type": "execute_result"
    }
   ],
   "source": [
    "prediction_stats_df = pd.concat(prediction_stats_list, ignore_index=True).set_index(pd.Index(null_percentages, name=\"Null %\"))\n",
    "prediction_stats_df"
   ]
  },
  {
   "cell_type": "markdown",
   "metadata": {},
   "source": [
    "As we can see, Howso Engine performs quite well even when significant fractions of the dataset are replaced with null values."
   ]
  },
  {
   "cell_type": "code",
   "execution_count": 10,
   "metadata": {
    "execution": {
     "iopub.execute_input": "2024-02-09T02:33:07.763646Z",
     "iopub.status.busy": "2024-02-09T02:33:07.763357Z",
     "iopub.status.idle": "2024-02-09T02:33:07.954219Z",
     "shell.execute_reply": "2024-02-09T02:33:07.953798Z"
    }
   },
   "outputs": [
    {
     "data": {
      "image/png": "[encoded data removed]",
      "text/plain": [
       "<Figure size 640x480 with 1 Axes>"
      ]
     },
     "metadata": {},
     "output_type": "display_data"
    }
   ],
   "source": [
    "random_value = df.target.value_counts(normalize=True).max()\n",
    "\n",
    "ax = prediction_stats_df.plot()\n",
    "ax.set_ylim(-0.05, 1.05)\n",
    "ax.hlines(y=random_value, xmin=0, xmax=0.9, color=\"black\", label=\"Random Prediction\")\n",
    "ax.legend(loc=\"lower right\")\n",
    "ax.set_title(\"Prediction Stats for Different Levels of Sparsity\")\n",
    "\n",
    "plt.savefig(\"data/sparse_data_plot.png\")"
   ]
  }
 ],
 "metadata": {
  "kernelspec": {
   "display_name": "recipes-engine-3.8",
   "language": "python",
   "name": "python3"
  },
  "language_info": {
   "codemirror_mode": {
    "name": "ipython",
    "version": 3
   },
   "file_extension": ".py",
   "mimetype": "text/x-python",
   "name": "python",
   "nbconvert_exporter": "python",
   "pygments_lexer": "ipython3",
   "version": "3.11.7"
  }
 },
 "nbformat": 4,
 "nbformat_minor": 2
}
