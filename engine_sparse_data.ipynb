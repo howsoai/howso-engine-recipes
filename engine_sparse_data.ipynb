{
 "cells": [
  {
   "cell_type": "markdown",
   "metadata": {},
   "source": [
    "# Sparse Data and Null Handling\n",
    "\n",
    "## Overview\n",
    "\n",
    "This notebook provides an overview of applying Howso Engine to sparse data (i.e., data that contain missing values) and helps to characterize how prediction performance is affected as model sparsity increases.  Howso Engine does not require any preprocessing to handle nulls or NaNs, but has notable robustness when it comes to working with data that contain them.\n",
    "\n",
    "We demonstrate that the Howso Engine can maintain accuracy even when the training data has increasing proportions of missing values. This makes the Howso Engine a great option for use-cases with sparse datasets. Additionally, the Howso Engine has the ability to treat missing values semantically. This unlocks the ability for the Engine to find trends in the data relating to missing values for each feature, which could reveal powerful insights for users."
   ]
  },
  {
   "cell_type": "code",
   "execution_count": 1,
   "metadata": {
    "execution": {
     "iopub.execute_input": "2024-04-11T16:24:04.958835Z",
     "iopub.status.busy": "2024-04-11T16:24:04.958678Z",
     "iopub.status.idle": "2024-04-11T16:24:08.933636Z",
     "shell.execute_reply": "2024-04-11T16:24:08.933071Z"
    }
   },
   "outputs": [],
   "source": [
    "import matplotlib.pyplot as plt\n",
    "import numpy as np\n",
    "import pandas as pd\n",
    "import pmlb\n",
    "\n",
    "from howso.engine import Trainee\n",
    "from howso.utilities import infer_feature_attributes"
   ]
  },
  {
   "cell_type": "markdown",
   "metadata": {},
   "source": [
    "## Step 1: Load Data\n",
    "\n",
    "We use the ``breast_w`` dataset from the [PMLB](https://github.com/EpistasisLab/pmlb)."
   ]
  },
  {
   "cell_type": "code",
   "execution_count": 2,
   "metadata": {
    "execution": {
     "iopub.execute_input": "2024-04-11T16:24:08.936598Z",
     "iopub.status.busy": "2024-04-11T16:24:08.936364Z",
     "iopub.status.idle": "2024-04-11T16:24:08.952808Z",
     "shell.execute_reply": "2024-04-11T16:24:08.952411Z"
    }
   },
   "outputs": [
    {
     "data": {
      "text/html": [
       "<div>\n",
       "<style scoped>\n",
       "    .dataframe tbody tr th:only-of-type {\n",
       "        vertical-align: middle;\n",
       "    }\n",
       "\n",
       "    .dataframe tbody tr th {\n",
       "        vertical-align: top;\n",
       "    }\n",
       "\n",
       "    .dataframe thead th {\n",
       "        text-align: right;\n",
       "    }\n",
       "</style>\n",
       "<table border=\"1\" class=\"dataframe\">\n",
       "  <thead>\n",
       "    <tr style=\"text-align: right;\">\n",
       "      <th></th>\n",
       "      <th>Clump_Thickness</th>\n",
       "      <th>Cell_Size_Uniformity</th>\n",
       "      <th>Cell_Shape_Uniformity</th>\n",
       "      <th>Marginal_Adhesion</th>\n",
       "      <th>Single_Epi_Cell_Size</th>\n",
       "      <th>Bare_Nuclei</th>\n",
       "      <th>Bland_Chromatin</th>\n",
       "      <th>Normal_Nucleoli</th>\n",
       "      <th>Mitoses</th>\n",
       "      <th>target</th>\n",
       "    </tr>\n",
       "  </thead>\n",
       "  <tbody>\n",
       "    <tr>\n",
       "      <th>0</th>\n",
       "      <td>5.0</td>\n",
       "      <td>1.0</td>\n",
       "      <td>1.0</td>\n",
       "      <td>1.0</td>\n",
       "      <td>2.0</td>\n",
       "      <td>0</td>\n",
       "      <td>3.0</td>\n",
       "      <td>1.0</td>\n",
       "      <td>1.0</td>\n",
       "      <td>0</td>\n",
       "    </tr>\n",
       "    <tr>\n",
       "      <th>1</th>\n",
       "      <td>5.0</td>\n",
       "      <td>4.0</td>\n",
       "      <td>4.0</td>\n",
       "      <td>5.0</td>\n",
       "      <td>7.0</td>\n",
       "      <td>1</td>\n",
       "      <td>3.0</td>\n",
       "      <td>2.0</td>\n",
       "      <td>1.0</td>\n",
       "      <td>0</td>\n",
       "    </tr>\n",
       "    <tr>\n",
       "      <th>2</th>\n",
       "      <td>3.0</td>\n",
       "      <td>1.0</td>\n",
       "      <td>1.0</td>\n",
       "      <td>1.0</td>\n",
       "      <td>2.0</td>\n",
       "      <td>2</td>\n",
       "      <td>3.0</td>\n",
       "      <td>1.0</td>\n",
       "      <td>1.0</td>\n",
       "      <td>0</td>\n",
       "    </tr>\n",
       "    <tr>\n",
       "      <th>3</th>\n",
       "      <td>6.0</td>\n",
       "      <td>8.0</td>\n",
       "      <td>8.0</td>\n",
       "      <td>1.0</td>\n",
       "      <td>3.0</td>\n",
       "      <td>4</td>\n",
       "      <td>3.0</td>\n",
       "      <td>7.0</td>\n",
       "      <td>1.0</td>\n",
       "      <td>0</td>\n",
       "    </tr>\n",
       "    <tr>\n",
       "      <th>4</th>\n",
       "      <td>4.0</td>\n",
       "      <td>1.0</td>\n",
       "      <td>1.0</td>\n",
       "      <td>3.0</td>\n",
       "      <td>2.0</td>\n",
       "      <td>0</td>\n",
       "      <td>3.0</td>\n",
       "      <td>1.0</td>\n",
       "      <td>1.0</td>\n",
       "      <td>0</td>\n",
       "    </tr>\n",
       "    <tr>\n",
       "      <th>...</th>\n",
       "      <td>...</td>\n",
       "      <td>...</td>\n",
       "      <td>...</td>\n",
       "      <td>...</td>\n",
       "      <td>...</td>\n",
       "      <td>...</td>\n",
       "      <td>...</td>\n",
       "      <td>...</td>\n",
       "      <td>...</td>\n",
       "      <td>...</td>\n",
       "    </tr>\n",
       "    <tr>\n",
       "      <th>694</th>\n",
       "      <td>3.0</td>\n",
       "      <td>1.0</td>\n",
       "      <td>1.0</td>\n",
       "      <td>1.0</td>\n",
       "      <td>3.0</td>\n",
       "      <td>2</td>\n",
       "      <td>1.0</td>\n",
       "      <td>1.0</td>\n",
       "      <td>1.0</td>\n",
       "      <td>0</td>\n",
       "    </tr>\n",
       "    <tr>\n",
       "      <th>695</th>\n",
       "      <td>2.0</td>\n",
       "      <td>1.0</td>\n",
       "      <td>1.0</td>\n",
       "      <td>1.0</td>\n",
       "      <td>2.0</td>\n",
       "      <td>0</td>\n",
       "      <td>1.0</td>\n",
       "      <td>1.0</td>\n",
       "      <td>1.0</td>\n",
       "      <td>0</td>\n",
       "    </tr>\n",
       "    <tr>\n",
       "      <th>696</th>\n",
       "      <td>5.0</td>\n",
       "      <td>10.0</td>\n",
       "      <td>10.0</td>\n",
       "      <td>3.0</td>\n",
       "      <td>7.0</td>\n",
       "      <td>3</td>\n",
       "      <td>8.0</td>\n",
       "      <td>10.0</td>\n",
       "      <td>2.0</td>\n",
       "      <td>1</td>\n",
       "    </tr>\n",
       "    <tr>\n",
       "      <th>697</th>\n",
       "      <td>4.0</td>\n",
       "      <td>8.0</td>\n",
       "      <td>6.0</td>\n",
       "      <td>4.0</td>\n",
       "      <td>3.0</td>\n",
       "      <td>4</td>\n",
       "      <td>10.0</td>\n",
       "      <td>6.0</td>\n",
       "      <td>1.0</td>\n",
       "      <td>1</td>\n",
       "    </tr>\n",
       "    <tr>\n",
       "      <th>698</th>\n",
       "      <td>4.0</td>\n",
       "      <td>8.0</td>\n",
       "      <td>8.0</td>\n",
       "      <td>5.0</td>\n",
       "      <td>4.0</td>\n",
       "      <td>5</td>\n",
       "      <td>10.0</td>\n",
       "      <td>4.0</td>\n",
       "      <td>1.0</td>\n",
       "      <td>1</td>\n",
       "    </tr>\n",
       "  </tbody>\n",
       "</table>\n",
       "<p>699 rows × 10 columns</p>\n",
       "</div>"
      ],
      "text/plain": [
       "     Clump_Thickness  Cell_Size_Uniformity  Cell_Shape_Uniformity  \\\n",
       "0                5.0                   1.0                    1.0   \n",
       "1                5.0                   4.0                    4.0   \n",
       "2                3.0                   1.0                    1.0   \n",
       "3                6.0                   8.0                    8.0   \n",
       "4                4.0                   1.0                    1.0   \n",
       "..               ...                   ...                    ...   \n",
       "694              3.0                   1.0                    1.0   \n",
       "695              2.0                   1.0                    1.0   \n",
       "696              5.0                  10.0                   10.0   \n",
       "697              4.0                   8.0                    6.0   \n",
       "698              4.0                   8.0                    8.0   \n",
       "\n",
       "     Marginal_Adhesion  Single_Epi_Cell_Size  Bare_Nuclei  Bland_Chromatin  \\\n",
       "0                  1.0                   2.0            0              3.0   \n",
       "1                  5.0                   7.0            1              3.0   \n",
       "2                  1.0                   2.0            2              3.0   \n",
       "3                  1.0                   3.0            4              3.0   \n",
       "4                  3.0                   2.0            0              3.0   \n",
       "..                 ...                   ...          ...              ...   \n",
       "694                1.0                   3.0            2              1.0   \n",
       "695                1.0                   2.0            0              1.0   \n",
       "696                3.0                   7.0            3              8.0   \n",
       "697                4.0                   3.0            4             10.0   \n",
       "698                5.0                   4.0            5             10.0   \n",
       "\n",
       "     Normal_Nucleoli  Mitoses  target  \n",
       "0                1.0      1.0       0  \n",
       "1                2.0      1.0       0  \n",
       "2                1.0      1.0       0  \n",
       "3                7.0      1.0       0  \n",
       "4                1.0      1.0       0  \n",
       "..               ...      ...     ...  \n",
       "694              1.0      1.0       0  \n",
       "695              1.0      1.0       0  \n",
       "696             10.0      2.0       1  \n",
       "697              6.0      1.0       1  \n",
       "698              4.0      1.0       1  \n",
       "\n",
       "[699 rows x 10 columns]"
      ]
     },
     "execution_count": 2,
     "metadata": {},
     "output_type": "execute_result"
    }
   ],
   "source": [
    "df = pmlb.fetch_data(\"breast_w\", local_cache_dir=\"data/breast_w\")\n",
    "\n",
    "df"
   ]
  },
  {
   "cell_type": "markdown",
   "metadata": {},
   "source": [
    "Since the datasets in the PMLB have been cleaned, they don't contain many missing values. We add nulls into 20% of the dataset here."
   ]
  },
  {
   "cell_type": "code",
   "execution_count": 3,
   "metadata": {
    "execution": {
     "iopub.execute_input": "2024-04-11T16:24:08.986906Z",
     "iopub.status.busy": "2024-04-11T16:24:08.986737Z",
     "iopub.status.idle": "2024-04-11T16:24:09.001467Z",
     "shell.execute_reply": "2024-04-11T16:24:09.001062Z"
    }
   },
   "outputs": [
    {
     "data": {
      "text/html": [
       "<div>\n",
       "<style scoped>\n",
       "    .dataframe tbody tr th:only-of-type {\n",
       "        vertical-align: middle;\n",
       "    }\n",
       "\n",
       "    .dataframe tbody tr th {\n",
       "        vertical-align: top;\n",
       "    }\n",
       "\n",
       "    .dataframe thead th {\n",
       "        text-align: right;\n",
       "    }\n",
       "</style>\n",
       "<table border=\"1\" class=\"dataframe\">\n",
       "  <thead>\n",
       "    <tr style=\"text-align: right;\">\n",
       "      <th></th>\n",
       "      <th>Clump_Thickness</th>\n",
       "      <th>Cell_Size_Uniformity</th>\n",
       "      <th>Cell_Shape_Uniformity</th>\n",
       "      <th>Marginal_Adhesion</th>\n",
       "      <th>Single_Epi_Cell_Size</th>\n",
       "      <th>Bare_Nuclei</th>\n",
       "      <th>Bland_Chromatin</th>\n",
       "      <th>Normal_Nucleoli</th>\n",
       "      <th>Mitoses</th>\n",
       "      <th>target</th>\n",
       "    </tr>\n",
       "  </thead>\n",
       "  <tbody>\n",
       "    <tr>\n",
       "      <th>0</th>\n",
       "      <td>5.0</td>\n",
       "      <td>1.0</td>\n",
       "      <td>1.0</td>\n",
       "      <td>1.0</td>\n",
       "      <td>2.0</td>\n",
       "      <td>0.0</td>\n",
       "      <td>3.0</td>\n",
       "      <td>1.0</td>\n",
       "      <td>1.0</td>\n",
       "      <td>0.0</td>\n",
       "    </tr>\n",
       "    <tr>\n",
       "      <th>1</th>\n",
       "      <td>NaN</td>\n",
       "      <td>4.0</td>\n",
       "      <td>4.0</td>\n",
       "      <td>5.0</td>\n",
       "      <td>NaN</td>\n",
       "      <td>1.0</td>\n",
       "      <td>NaN</td>\n",
       "      <td>2.0</td>\n",
       "      <td>1.0</td>\n",
       "      <td>0.0</td>\n",
       "    </tr>\n",
       "    <tr>\n",
       "      <th>2</th>\n",
       "      <td>3.0</td>\n",
       "      <td>NaN</td>\n",
       "      <td>1.0</td>\n",
       "      <td>1.0</td>\n",
       "      <td>NaN</td>\n",
       "      <td>2.0</td>\n",
       "      <td>3.0</td>\n",
       "      <td>1.0</td>\n",
       "      <td>1.0</td>\n",
       "      <td>0.0</td>\n",
       "    </tr>\n",
       "    <tr>\n",
       "      <th>3</th>\n",
       "      <td>6.0</td>\n",
       "      <td>8.0</td>\n",
       "      <td>NaN</td>\n",
       "      <td>1.0</td>\n",
       "      <td>3.0</td>\n",
       "      <td>4.0</td>\n",
       "      <td>3.0</td>\n",
       "      <td>7.0</td>\n",
       "      <td>1.0</td>\n",
       "      <td>0.0</td>\n",
       "    </tr>\n",
       "    <tr>\n",
       "      <th>4</th>\n",
       "      <td>4.0</td>\n",
       "      <td>1.0</td>\n",
       "      <td>1.0</td>\n",
       "      <td>NaN</td>\n",
       "      <td>NaN</td>\n",
       "      <td>0.0</td>\n",
       "      <td>3.0</td>\n",
       "      <td>1.0</td>\n",
       "      <td>NaN</td>\n",
       "      <td>0.0</td>\n",
       "    </tr>\n",
       "    <tr>\n",
       "      <th>...</th>\n",
       "      <td>...</td>\n",
       "      <td>...</td>\n",
       "      <td>...</td>\n",
       "      <td>...</td>\n",
       "      <td>...</td>\n",
       "      <td>...</td>\n",
       "      <td>...</td>\n",
       "      <td>...</td>\n",
       "      <td>...</td>\n",
       "      <td>...</td>\n",
       "    </tr>\n",
       "    <tr>\n",
       "      <th>694</th>\n",
       "      <td>NaN</td>\n",
       "      <td>1.0</td>\n",
       "      <td>NaN</td>\n",
       "      <td>1.0</td>\n",
       "      <td>3.0</td>\n",
       "      <td>2.0</td>\n",
       "      <td>1.0</td>\n",
       "      <td>1.0</td>\n",
       "      <td>1.0</td>\n",
       "      <td>0.0</td>\n",
       "    </tr>\n",
       "    <tr>\n",
       "      <th>695</th>\n",
       "      <td>2.0</td>\n",
       "      <td>1.0</td>\n",
       "      <td>NaN</td>\n",
       "      <td>1.0</td>\n",
       "      <td>2.0</td>\n",
       "      <td>NaN</td>\n",
       "      <td>1.0</td>\n",
       "      <td>1.0</td>\n",
       "      <td>1.0</td>\n",
       "      <td>NaN</td>\n",
       "    </tr>\n",
       "    <tr>\n",
       "      <th>696</th>\n",
       "      <td>NaN</td>\n",
       "      <td>10.0</td>\n",
       "      <td>10.0</td>\n",
       "      <td>3.0</td>\n",
       "      <td>7.0</td>\n",
       "      <td>NaN</td>\n",
       "      <td>8.0</td>\n",
       "      <td>10.0</td>\n",
       "      <td>2.0</td>\n",
       "      <td>1.0</td>\n",
       "    </tr>\n",
       "    <tr>\n",
       "      <th>697</th>\n",
       "      <td>NaN</td>\n",
       "      <td>8.0</td>\n",
       "      <td>6.0</td>\n",
       "      <td>4.0</td>\n",
       "      <td>3.0</td>\n",
       "      <td>4.0</td>\n",
       "      <td>10.0</td>\n",
       "      <td>6.0</td>\n",
       "      <td>NaN</td>\n",
       "      <td>1.0</td>\n",
       "    </tr>\n",
       "    <tr>\n",
       "      <th>698</th>\n",
       "      <td>4.0</td>\n",
       "      <td>8.0</td>\n",
       "      <td>8.0</td>\n",
       "      <td>5.0</td>\n",
       "      <td>4.0</td>\n",
       "      <td>5.0</td>\n",
       "      <td>10.0</td>\n",
       "      <td>4.0</td>\n",
       "      <td>1.0</td>\n",
       "      <td>NaN</td>\n",
       "    </tr>\n",
       "  </tbody>\n",
       "</table>\n",
       "<p>699 rows × 10 columns</p>\n",
       "</div>"
      ],
      "text/plain": [
       "     Clump_Thickness  Cell_Size_Uniformity  Cell_Shape_Uniformity  \\\n",
       "0                5.0                   1.0                    1.0   \n",
       "1                NaN                   4.0                    4.0   \n",
       "2                3.0                   NaN                    1.0   \n",
       "3                6.0                   8.0                    NaN   \n",
       "4                4.0                   1.0                    1.0   \n",
       "..               ...                   ...                    ...   \n",
       "694              NaN                   1.0                    NaN   \n",
       "695              2.0                   1.0                    NaN   \n",
       "696              NaN                  10.0                   10.0   \n",
       "697              NaN                   8.0                    6.0   \n",
       "698              4.0                   8.0                    8.0   \n",
       "\n",
       "     Marginal_Adhesion  Single_Epi_Cell_Size  Bare_Nuclei  Bland_Chromatin  \\\n",
       "0                  1.0                   2.0          0.0              3.0   \n",
       "1                  5.0                   NaN          1.0              NaN   \n",
       "2                  1.0                   NaN          2.0              3.0   \n",
       "3                  1.0                   3.0          4.0              3.0   \n",
       "4                  NaN                   NaN          0.0              3.0   \n",
       "..                 ...                   ...          ...              ...   \n",
       "694                1.0                   3.0          2.0              1.0   \n",
       "695                1.0                   2.0          NaN              1.0   \n",
       "696                3.0                   7.0          NaN              8.0   \n",
       "697                4.0                   3.0          4.0             10.0   \n",
       "698                5.0                   4.0          5.0             10.0   \n",
       "\n",
       "     Normal_Nucleoli  Mitoses  target  \n",
       "0                1.0      1.0     0.0  \n",
       "1                2.0      1.0     0.0  \n",
       "2                1.0      1.0     0.0  \n",
       "3                7.0      1.0     0.0  \n",
       "4                1.0      NaN     0.0  \n",
       "..               ...      ...     ...  \n",
       "694              1.0      1.0     0.0  \n",
       "695              1.0      1.0     NaN  \n",
       "696             10.0      2.0     1.0  \n",
       "697              6.0      NaN     1.0  \n",
       "698              4.0      1.0     NaN  \n",
       "\n",
       "[699 rows x 10 columns]"
      ]
     },
     "execution_count": 3,
     "metadata": {},
     "output_type": "execute_result"
    }
   ],
   "source": [
    "null_percent = 0.2\n",
    "rng = np.random.default_rng()\n",
    "\n",
    "def insert_percent_nulls(data: pd.DataFrame, percent: float) -> pd.DataFrame:\n",
    "    data = data.copy(deep=True)\n",
    "    mask = rng.uniform(size=data.shape) < percent\n",
    "    data[mask] = None\n",
    "\n",
    "    return data\n",
    "\n",
    "null_df = insert_percent_nulls(df, null_percent)\n",
    "null_df"
   ]
  },
  {
   "cell_type": "markdown",
   "metadata": {},
   "source": [
    "## Step 2: Define the Feature Attributes\n",
    "\n",
    "The Howso Engine always requires a set of defined feature attributes. We recommend using `infer_feature_attributes` as do most of the work quickly, but we always recommend manual inspection of these resulting feature attributes."
   ]
  },
  {
   "cell_type": "code",
   "execution_count": 4,
   "metadata": {
    "execution": {
     "iopub.execute_input": "2024-04-11T16:24:09.003341Z",
     "iopub.status.busy": "2024-04-11T16:24:09.003174Z",
     "iopub.status.idle": "2024-04-11T16:24:09.021806Z",
     "shell.execute_reply": "2024-04-11T16:24:09.021371Z"
    }
   },
   "outputs": [
    {
     "data": {
      "text/plain": [
       "{'Clump_Thickness': {'type': 'continuous',\n",
       "  'decimal_places': 0,\n",
       "  'original_type': {'data_type': 'numeric', 'size': 8},\n",
       "  'bounds': {'min': 1.0, 'max': 20.0}},\n",
       " 'Cell_Size_Uniformity': {'type': 'continuous',\n",
       "  'decimal_places': 0,\n",
       "  'original_type': {'data_type': 'numeric', 'size': 8},\n",
       "  'bounds': {'min': 1.0, 'max': 20.0}},\n",
       " 'Cell_Shape_Uniformity': {'type': 'continuous',\n",
       "  'decimal_places': 0,\n",
       "  'original_type': {'data_type': 'numeric', 'size': 8},\n",
       "  'bounds': {'min': 1.0, 'max': 20.0}},\n",
       " 'Marginal_Adhesion': {'type': 'continuous',\n",
       "  'decimal_places': 0,\n",
       "  'original_type': {'data_type': 'numeric', 'size': 8},\n",
       "  'bounds': {'min': 1.0, 'max': 20.0}},\n",
       " 'Single_Epi_Cell_Size': {'type': 'continuous',\n",
       "  'decimal_places': 0,\n",
       "  'original_type': {'data_type': 'numeric', 'size': 8},\n",
       "  'bounds': {'min': 1.0, 'max': 20.0}},\n",
       " 'Bare_Nuclei': {'type': 'continuous',\n",
       "  'decimal_places': 0,\n",
       "  'original_type': {'data_type': 'numeric', 'size': 8},\n",
       "  'bounds': {'min': 0.0, 'max': 20.0}},\n",
       " 'Bland_Chromatin': {'type': 'continuous',\n",
       "  'decimal_places': 0,\n",
       "  'original_type': {'data_type': 'numeric', 'size': 8},\n",
       "  'bounds': {'min': 1.0, 'max': 20.0}},\n",
       " 'Normal_Nucleoli': {'type': 'continuous',\n",
       "  'decimal_places': 0,\n",
       "  'original_type': {'data_type': 'numeric', 'size': 8},\n",
       "  'bounds': {'min': 1.0, 'max': 20.0}},\n",
       " 'Mitoses': {'type': 'continuous',\n",
       "  'decimal_places': 0,\n",
       "  'original_type': {'data_type': 'numeric', 'size': 8},\n",
       "  'bounds': {'min': 1.0, 'max': 20.0}},\n",
       " 'target': {'type': 'nominal',\n",
       "  'data_type': 'number',\n",
       "  'original_type': {'data_type': 'numeric', 'size': 8}}}"
      ]
     },
     "execution_count": 4,
     "metadata": {},
     "output_type": "execute_result"
    }
   ],
   "source": [
    "features = infer_feature_attributes(null_df)\n",
    "features"
   ]
  },
  {
   "cell_type": "markdown",
   "metadata": {},
   "source": [
    "## Step 3: Train and Analyze Data\n",
    "\n",
    "We then train the data into a `Trainee` and analyze the data to determine the best hyperparameters.  Note that we are explicitly declaring our default context and action features."
   ]
  },
  {
   "cell_type": "code",
   "execution_count": 5,
   "metadata": {
    "execution": {
     "iopub.execute_input": "2024-04-11T16:24:09.023753Z",
     "iopub.status.busy": "2024-04-11T16:24:09.023591Z",
     "iopub.status.idle": "2024-04-11T16:24:37.475604Z",
     "shell.execute_reply": "2024-04-11T16:24:37.475072Z"
    }
   },
   "outputs": [],
   "source": [
    "action_features = [\"target\"]\n",
    "context_features = features.get_names(without=action_features)\n",
    "\n",
    "t = Trainee(features=features, default_action_features=action_features, default_context_features=context_features)\n",
    "t.train(null_df)\n",
    "t.analyze(context_features=context_features, action_features=action_features)"
   ]
  },
  {
   "cell_type": "markdown",
   "metadata": {},
   "source": [
    "## Step 4: Measure Trainee Accuracy\n",
    "\n",
    "Finally, we get the prediction stats.  The default action feature, `target`, is categorical so we are concerned with *precision*,  *recall*, and *accuracy*.\n",
    "\n",
    "Here, we specifically compute `residuals_robust`. This computes what we call \"Robust Residuals\" which is to compute the mean absolute error of predictions on every feature where the context features are sampled over the power set of all other features. These residuals should typically be larger than the more typical \"Full Residuals\" which are computed as the mean absolute error of predictions on each feature where **every** other feature is used as a context."
   ]
  },
  {
   "cell_type": "code",
   "execution_count": 6,
   "metadata": {
    "execution": {
     "iopub.execute_input": "2024-04-11T16:24:37.478403Z",
     "iopub.status.busy": "2024-04-11T16:24:37.477919Z",
     "iopub.status.idle": "2024-04-11T16:24:37.844742Z",
     "shell.execute_reply": "2024-04-11T16:24:37.844149Z"
    }
   },
   "outputs": [
    {
     "data": {
      "text/html": [
       "<div>\n",
       "<style scoped>\n",
       "    .dataframe tbody tr th:only-of-type {\n",
       "        vertical-align: middle;\n",
       "    }\n",
       "\n",
       "    .dataframe tbody tr th {\n",
       "        vertical-align: top;\n",
       "    }\n",
       "\n",
       "    .dataframe thead th {\n",
       "        text-align: right;\n",
       "    }\n",
       "</style>\n",
       "<table border=\"1\" class=\"dataframe\">\n",
       "  <thead>\n",
       "    <tr style=\"text-align: right;\">\n",
       "      <th></th>\n",
       "      <th>target</th>\n",
       "    </tr>\n",
       "  </thead>\n",
       "  <tbody>\n",
       "    <tr>\n",
       "      <th>accuracy</th>\n",
       "      <td>0.928385</td>\n",
       "    </tr>\n",
       "    <tr>\n",
       "      <th>precision</th>\n",
       "      <td>0.914472</td>\n",
       "    </tr>\n",
       "    <tr>\n",
       "      <th>recall</th>\n",
       "      <td>0.928711</td>\n",
       "    </tr>\n",
       "  </tbody>\n",
       "</table>\n",
       "</div>"
      ],
      "text/plain": [
       "             target\n",
       "accuracy   0.928385\n",
       "precision  0.914472\n",
       "recall     0.928711"
      ]
     },
     "execution_count": 6,
     "metadata": {},
     "output_type": "execute_result"
    }
   ],
   "source": [
    "t.react_into_trainee(action_feature=action_features[0], residuals_robust=True)\n",
    "t.get_prediction_stats(stats=[\"accuracy\", \"precision\", \"recall\"])[action_features]"
   ]
  },
  {
   "cell_type": "code",
   "execution_count": 7,
   "metadata": {
    "execution": {
     "iopub.execute_input": "2024-04-11T16:24:37.846967Z",
     "iopub.status.busy": "2024-04-11T16:24:37.846546Z",
     "iopub.status.idle": "2024-04-11T16:24:37.865530Z",
     "shell.execute_reply": "2024-04-11T16:24:37.864941Z"
    }
   },
   "outputs": [],
   "source": [
    "t.delete()"
   ]
  },
  {
   "cell_type": "markdown",
   "metadata": {},
   "source": [
    "## Step 5: Evaluate Performance at Multiple Sparsity Levels\n",
    "\n",
    "Now we evaluate the `Trainee` performance at multiple sparsity levels to characterize how prediction performance holds up in the presence of many nulls.\n",
    "\n",
    "To do this, we simply create versions of the dataset with different proportions of null values, and do the same accuracy evaluation we demonstrated above."
   ]
  },
  {
   "cell_type": "code",
   "execution_count": 8,
   "metadata": {
    "execution": {
     "iopub.execute_input": "2024-04-11T16:24:37.867894Z",
     "iopub.status.busy": "2024-04-11T16:24:37.867455Z",
     "iopub.status.idle": "2024-04-11T16:29:03.053014Z",
     "shell.execute_reply": "2024-04-11T16:29:03.052528Z"
    }
   },
   "outputs": [
    {
     "name": "stdout",
     "output_type": "stream",
     "text": [
      "Evaluating Trainee for 0% nulls\n"
     ]
    },
    {
     "name": "stdout",
     "output_type": "stream",
     "text": [
      "Evaluating Trainee for 10% nulls\n"
     ]
    },
    {
     "name": "stdout",
     "output_type": "stream",
     "text": [
      "Evaluating Trainee for 20% nulls\n"
     ]
    },
    {
     "name": "stdout",
     "output_type": "stream",
     "text": [
      "Evaluating Trainee for 30% nulls\n"
     ]
    },
    {
     "name": "stdout",
     "output_type": "stream",
     "text": [
      "Evaluating Trainee for 40% nulls\n"
     ]
    },
    {
     "name": "stdout",
     "output_type": "stream",
     "text": [
      "Evaluating Trainee for 50% nulls\n"
     ]
    },
    {
     "name": "stdout",
     "output_type": "stream",
     "text": [
      "Evaluating Trainee for 60% nulls\n"
     ]
    },
    {
     "name": "stdout",
     "output_type": "stream",
     "text": [
      "Evaluating Trainee for 70% nulls\n"
     ]
    },
    {
     "name": "stdout",
     "output_type": "stream",
     "text": [
      "Evaluating Trainee for 80% nulls\n"
     ]
    },
    {
     "name": "stdout",
     "output_type": "stream",
     "text": [
      "Evaluating Trainee for 90% nulls\n"
     ]
    }
   ],
   "source": [
    "null_percentages = np.linspace(0, 0.9, num=10)\n",
    "prediction_stats_list = []\n",
    "\n",
    "for null_percent in null_percentages:\n",
    "    print(f\"Evaluating Trainee for {round(null_percent * 100)}% nulls\")\n",
    "\n",
    "    # Create a DataFrame that is a copy of the input DataFrame that has the correct percentage of null values.\n",
    "    null_df = insert_percent_nulls(df, null_percent)\n",
    "    # Infer feature attrbiutes for the new DataFrame\n",
    "    null_features = infer_feature_attributes(null_df)\n",
    "    # Create the Trainee, train, and analyze\n",
    "    t = Trainee(features=null_features, default_action_features=action_features, default_context_features=context_features)\n",
    "    t.train(null_df)\n",
    "    t.analyze(context_features=context_features, action_features=action_features)\n",
    "    # Compute, fetch, and store the prediction stats\n",
    "    t.react_into_trainee(action_feature=action_features[0], residuals_robust=True)\n",
    "    prediction_stats = t.get_prediction_stats(stats=[\"accuracy\", \"precision\", \"recall\"])[action_features]\n",
    "    prediction_stats_list.append(prediction_stats.T)\n",
    "    # Clean up the Trainee\n",
    "    t.delete()"
   ]
  },
  {
   "cell_type": "code",
   "execution_count": 9,
   "metadata": {
    "execution": {
     "iopub.execute_input": "2024-04-11T16:29:03.055581Z",
     "iopub.status.busy": "2024-04-11T16:29:03.055255Z",
     "iopub.status.idle": "2024-04-11T16:29:03.062350Z",
     "shell.execute_reply": "2024-04-11T16:29:03.061950Z"
    }
   },
   "outputs": [
    {
     "data": {
      "text/html": [
       "<div>\n",
       "<style scoped>\n",
       "    .dataframe tbody tr th:only-of-type {\n",
       "        vertical-align: middle;\n",
       "    }\n",
       "\n",
       "    .dataframe tbody tr th {\n",
       "        vertical-align: top;\n",
       "    }\n",
       "\n",
       "    .dataframe thead th {\n",
       "        text-align: right;\n",
       "    }\n",
       "</style>\n",
       "<table border=\"1\" class=\"dataframe\">\n",
       "  <thead>\n",
       "    <tr style=\"text-align: right;\">\n",
       "      <th></th>\n",
       "      <th>accuracy</th>\n",
       "      <th>precision</th>\n",
       "      <th>recall</th>\n",
       "    </tr>\n",
       "    <tr>\n",
       "      <th>Null %</th>\n",
       "      <th></th>\n",
       "      <th></th>\n",
       "      <th></th>\n",
       "    </tr>\n",
       "  </thead>\n",
       "  <tbody>\n",
       "    <tr>\n",
       "      <th>0.0</th>\n",
       "      <td>0.958163</td>\n",
       "      <td>0.954263</td>\n",
       "      <td>0.950608</td>\n",
       "    </tr>\n",
       "    <tr>\n",
       "      <th>0.1</th>\n",
       "      <td>0.942045</td>\n",
       "      <td>0.929793</td>\n",
       "      <td>0.940816</td>\n",
       "    </tr>\n",
       "    <tr>\n",
       "      <th>0.2</th>\n",
       "      <td>0.913596</td>\n",
       "      <td>0.901972</td>\n",
       "      <td>0.903512</td>\n",
       "    </tr>\n",
       "    <tr>\n",
       "      <th>0.3</th>\n",
       "      <td>0.885220</td>\n",
       "      <td>0.866529</td>\n",
       "      <td>0.883095</td>\n",
       "    </tr>\n",
       "    <tr>\n",
       "      <th>0.4</th>\n",
       "      <td>0.909402</td>\n",
       "      <td>0.889949</td>\n",
       "      <td>0.902385</td>\n",
       "    </tr>\n",
       "    <tr>\n",
       "      <th>0.5</th>\n",
       "      <td>0.897030</td>\n",
       "      <td>0.871152</td>\n",
       "      <td>0.894274</td>\n",
       "    </tr>\n",
       "    <tr>\n",
       "      <th>0.6</th>\n",
       "      <td>0.815934</td>\n",
       "      <td>0.803811</td>\n",
       "      <td>0.814801</td>\n",
       "    </tr>\n",
       "    <tr>\n",
       "      <th>0.7</th>\n",
       "      <td>0.773810</td>\n",
       "      <td>0.725296</td>\n",
       "      <td>0.743481</td>\n",
       "    </tr>\n",
       "    <tr>\n",
       "      <th>0.8</th>\n",
       "      <td>0.739583</td>\n",
       "      <td>0.650089</td>\n",
       "      <td>0.645833</td>\n",
       "    </tr>\n",
       "    <tr>\n",
       "      <th>0.9</th>\n",
       "      <td>0.588710</td>\n",
       "      <td>0.576455</td>\n",
       "      <td>0.578639</td>\n",
       "    </tr>\n",
       "  </tbody>\n",
       "</table>\n",
       "</div>"
      ],
      "text/plain": [
       "        accuracy  precision    recall\n",
       "Null %                               \n",
       "0.0     0.958163   0.954263  0.950608\n",
       "0.1     0.942045   0.929793  0.940816\n",
       "0.2     0.913596   0.901972  0.903512\n",
       "0.3     0.885220   0.866529  0.883095\n",
       "0.4     0.909402   0.889949  0.902385\n",
       "0.5     0.897030   0.871152  0.894274\n",
       "0.6     0.815934   0.803811  0.814801\n",
       "0.7     0.773810   0.725296  0.743481\n",
       "0.8     0.739583   0.650089  0.645833\n",
       "0.9     0.588710   0.576455  0.578639"
      ]
     },
     "execution_count": 9,
     "metadata": {},
     "output_type": "execute_result"
    }
   ],
   "source": [
    "prediction_stats_df = pd.concat(prediction_stats_list, ignore_index=True).set_index(pd.Index(null_percentages, name=\"Null %\"))\n",
    "prediction_stats_df"
   ]
  },
  {
   "cell_type": "markdown",
   "metadata": {},
   "source": [
    "As we can see, Howso Engine performs quite well even when significant fractions of the dataset are replaced with null values."
   ]
  },
  {
   "cell_type": "code",
   "execution_count": 10,
   "metadata": {
    "execution": {
     "iopub.execute_input": "2024-04-11T16:29:03.064191Z",
     "iopub.status.busy": "2024-04-11T16:29:03.063886Z",
     "iopub.status.idle": "2024-04-11T16:29:03.253755Z",
     "shell.execute_reply": "2024-04-11T16:29:03.253308Z"
    }
   },
   "outputs": [
    {
     "data": {
      "image/png": "[encoded data removed]",
      "text/plain": [
       "<Figure size 640x480 with 1 Axes>"
      ]
     },
     "metadata": {},
     "output_type": "display_data"
    }
   ],
   "source": [
    "majority_class_accuracy = df.target.value_counts(normalize=True).max()\n",
    "\n",
    "ax = prediction_stats_df.plot()\n",
    "ax.set_ylim(-0.05, 1.05)\n",
    "ax.hlines(y=majority_class_accuracy, xmin=0, xmax=0.9, color=\"black\", label=\"Majority Class Prediction\")\n",
    "ax.legend(loc=\"lower right\")\n",
    "ax.set_title(\"Prediction Stats for Different Levels of Sparsity\")\n",
    "\n",
    "plt.savefig(\"data/sparse_data_plot.png\")"
   ]
  },
  {
   "cell_type": "markdown",
   "metadata": {},
   "source": [
    "# Conclusion\n",
    "\n",
    "In this notebook we demonstrate the ability of the Howso Engine to natively handle data with missing values. Furthermore we demonstrate that the Howso Engine can maintain accuracy even when the training data has increasing proportions of missing values. This makes the Howso Engine a great tool to use in use-cases where datasets have many missing values (even when the missing values themselves are informative!)."
   ]
  }
 ],
 "metadata": {
  "kernelspec": {
   "display_name": "recipes-engine-3.8",
   "language": "python",
   "name": "python3"
  },
  "language_info": {
   "codemirror_mode": {
    "name": "ipython",
    "version": 3
   },
   "file_extension": ".py",
   "mimetype": "text/x-python",
   "name": "python",
   "nbconvert_exporter": "python",
   "pygments_lexer": "ipython3",
   "version": "3.11.9"
  }
 },
 "nbformat": 4,
 "nbformat_minor": 2
}
